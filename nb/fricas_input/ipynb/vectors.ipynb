{
 "cells": [
{
"cell_type" : "markdown",
"metadata" : {},
"source" : ["Copyright The Numerical Algorithms Group Limited 1991.\n"]
}
,
{
"cell_type" : "code",
"execution_count": null,
"metadata" : {
    "collapsed" : false
},
"source" : [")read arrows"],
"outputs": []
}
,
{
"cell_type" : "code",
"execution_count": null,
"metadata" : {
    "collapsed" : false
},
"source" : ["clipValue :SF :=  6"],
"outputs": []
}
,
{
"cell_type" : "code",
"execution_count": null,
"metadata" : {
    "collapsed" : false
},
"source" : ["clipFun(x) == min(max(x,-clipValue),clipValue)"],
"outputs": []
}
,
{
"cell_type" : "code",
"execution_count": null,
"metadata" : {
    "collapsed" : false
},
"source" : ["realSteps :INT := 25"],
"outputs": []
}
,
{
"cell_type" : "code",
"execution_count": null,
"metadata" : {
    "collapsed" : false
},
"source" : ["imagSteps :INT := 25"],
"outputs": []
}
,
{
"cell_type" : "code",
"execution_count": null,
"metadata" : {
    "collapsed" : false
},
"source" : ["C := Complex SF"],
"outputs": []
}
,
{
"cell_type" : "code",
"execution_count": null,
"metadata" : {
    "collapsed" : false
},
"source" : ["S := Segment SF"],
"outputs": []
}
,
{
"cell_type" : "code",
"execution_count": null,
"metadata" : {
    "collapsed" : false
},
"source" : ["drawComplexVectorField :(C -> C, S, S) -> VIEW3D"],
"outputs": []
}
,
{
"cell_type" : "code",
"execution_count": null,
"metadata" : {
    "collapsed" : false
},
"source" : ["drawComplexVectorField(f,realRange,imagRange) ==\n  delReal := (hi realRange - lo realRange)/realSteps\n  delImag := (hi imagRange - lo imagRange)/imagSteps\n  sp := create3Space()$ThreeSpace SF\n  real := lo realRange\n  for i in 1..realSteps + 1 repeat\n    imag := lo imagRange\n    for j in 1..imagSteps + 1 repeat\n       z := f complex(real, imag)\n       arg := argument z\n       len := clipFun sqrt norm z\n       p1 := point[real, imag, 0.0@SF, arg]\n       scaleLen := delReal * len\n       p2 := point[p1.1 + scaleLen * cos(arg),\n                   p1.2 + scaleLen * sin(arg), 0.0@SF, arg]\n       arrow := makeArrow(p1, p2)\n       for a in arrow repeat curve(sp, a)\n       imag := imag + delImag\n    real := real + delReal\n  makeViewport3D(sp, \"Complex Vector Field\")$VIEW3D"],
"outputs": []
}
,
{
"cell_type" : "code",
"execution_count": null,
"metadata" : {
    "collapsed" : false
},
"source" : ["drawComplex :(C->C, S, S) -> VIEW3D"],
"outputs": []
}
,
{
"cell_type" : "code",
"execution_count": null,
"metadata" : {
    "collapsed" : false
},
"source" : ["drawComplex(f, realRange, imagRange) ==\n  deltaReal :SF := (hi realRange - lo realRange)/realSteps\n  deltaImag :SF := (hi imagRange - lo imagRange)/imagSteps\n  llp:List List Point SF := []\n  real :SF := lo realRange\n  for i in 1..realSteps + 1 repeat\n    imag :SF := lo imagRange\n    lp := []$(List Point SF)\n    for j in 1..imagSteps + 1 repeat\n      z :COMPLEX SF := f(complex(real, imag))\n      pt :Point SF := point[real, imag, clipFun sqrt norm z, argument z]\n      lp := cons(pt, lp)\n      imag := imag + deltaImag\n    real := real + deltaReal\n    llp := cons(reverse! lp, llp)\n  llp := reverse! llp\n  makeViewport3D(mesh(llp), \"Complex Function\")$VIEW3D"],
"outputs": []
}
,
{
"cell_type" : "code",
"execution_count": null,
"metadata" : {
    "collapsed" : false
},
"source" : [""],
"outputs": []
}
 ],
"metadata": {
 "kernelspec": {
  "display_name": "FriCAS",
  "language": "spad",
  "name": "ifricas"
 },
 "language_info": {
  "codemirror_mode": "spad",
  "mimetype": "text/x-spad",
  "name": "SPAD",
  "pygments_lexer": "spad",
  "version": "1.2.6"
 },
 "name": "vectors.ipynb"
},
"nbformat": 4,
"nbformat_minor": 0
}
