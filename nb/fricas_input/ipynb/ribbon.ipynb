{
 "cells": [
{
"cell_type" : "markdown",
"metadata" : {},
"source" : ["Copyright The Numerical Algorithms Group Limited 1994.\nthe first attempt\n"]
}
,
{
"cell_type" : "code",
"execution_count": null,
"metadata" : {
    "collapsed" : false
},
"source" : ["drawRibbons(flist,xrange) ==\n  sp := createThreeSpace()\n  y0 := 0\n  for f in flist repeat\n    makeObject(f,xrange,y=y0..y0+1,\n       space==sp, var2Steps ==1)\n    y0 := y0+1\n  vp:=makeViewport3D(sp,\"Ribbons\")\n  drawStyle(vp,\"shade\")\n  outlineRender(vp,\"on\")\n  showRegion(vp,\"on\")\n  n := # flist\n  zoom(vp,n,1,n)\n  rotate(vp,0,75)\n  vp"],
"outputs": []
}
,
{
"cell_type" : "code",
"execution_count": null,
"metadata" : {
    "collapsed" : false
},
"source" : [""],
"outputs": []
}
 ],
"metadata": {
 "kernelspec": {
  "display_name": "FriCAS",
  "language": "spad",
  "name": "ifricas"
 },
 "language_info": {
  "codemirror_mode": "spad",
  "mimetype": "text/x-spad",
  "name": "SPAD",
  "pygments_lexer": "spad",
  "version": "1.2.6"
 },
 "name": "ribbon.ipynb"
},
"nbformat": 4,
"nbformat_minor": 0
}
