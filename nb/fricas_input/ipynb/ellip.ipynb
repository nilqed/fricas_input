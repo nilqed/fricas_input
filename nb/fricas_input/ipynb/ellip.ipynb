{
 "cells": [
{
"cell_type" : "code",
"execution_count": null,
"metadata" : {
    "collapsed" : false
},
"source" : [")set break resume"],
"outputs": []
}
,
{
"cell_type" : "markdown",
"metadata" : {},
"source" : [" This input file checks basic properties of elliptic functions\n and of elliptic integrals.  In fact, assuming that derivatives\n with respect to z are correct it proves that we use correct\n formulas for derivatives with respect to g2 and g3 or m.\n"]
}
,
{
"cell_type" : "code",
"execution_count": null,
"metadata" : {
    "collapsed" : false
},
"source" : [")expose UnittestCount UnittestAux Unittest"],
"outputs": []
}
,
{
"cell_type" : "code",
"execution_count": null,
"metadata" : {
    "collapsed" : false
},
"source" : ["testsuite \"Elliptic functions\""],
"outputs": []
}
,
{
"cell_type" : "code",
"execution_count": null,
"metadata" : {
    "collapsed" : false
},
"source" : ["testcase \"defining identities\""],
"outputs": []
}
,
{
"cell_type" : "markdown",
"metadata" : {},
"source" : [" Weierstrass functions\n"]
}
,
{
"cell_type" : "code",
"execution_count": null,
"metadata" : {
    "collapsed" : false
},
"source" : ["eI := Expression(Integer)"],
"outputs": []
}
,
{
"cell_type" : "code",
"execution_count": null,
"metadata" : {
    "collapsed" : false
},
"source" : ["pp := 4*weierstrassP(g2,g3,z)^3 -g2*weierstrassP(g2,g3,z) -g3"],
"outputs": []
}
,
{
"cell_type" : "code",
"execution_count": null,
"metadata" : {
    "collapsed" : false
},
"source" : ["weval(e) ==\n   eval(e, [weierstrassPPrime(g2,g3,z) = sqrt(pp)])"],
"outputs": []
}
,
{
"cell_type" : "markdown",
"metadata" : {},
"source" : [" check that gg generate differential ideal\n"]
}
,
{
"cell_type" : "code",
"execution_count": null,
"metadata" : {
    "collapsed" : false
},
"source" : ["gg := weierstrassPPrime(g2,g3,z)^2 - pp"],
"outputs": []
}
,
{
"cell_type" : "code",
"execution_count": null,
"metadata" : {
    "collapsed" : false
},
"source" : ["testEquals(\"weval(D(gg, g2))\", \"0\")"],
"outputs": []
}
,
{
"cell_type" : "code",
"execution_count": null,
"metadata" : {
    "collapsed" : false
},
"source" : ["testEquals(\"weval(D(gg, g3))\", \"0\")"],
"outputs": []
}
,
{
"cell_type" : "markdown",
"metadata" : {},
"source" : [" check that derivatives commute\n"]
}
,
{
"cell_type" : "code",
"execution_count": null,
"metadata" : {
    "collapsed" : false
},
"source" : ["testEquals(\"weval(D(gg, z))\", \"0\")"],
"outputs": []
}
,
{
"cell_type" : "code",
"execution_count": null,
"metadata" : {
    "collapsed" : false
},
"source" : ["wcross1(f : (eI, eI, eI) -> eI, v1 : Symbol, v2 : Symbol) : eI ==\n    e := f(g2::eI, g3::eI, z::eI)\n    weval(D(D(e, v1), v2) - D(D(e, v2), v1))"],
"outputs": []
}
,
{
"cell_type" : "code",
"execution_count": null,
"metadata" : {
    "collapsed" : false
},
"source" : ["wcross(f : (eI, eI, eI) -> eI) : List(eI) ==\n    [wcross1(f, 'g2, 'g3), wcross1(f, 'g2, 'z),\n      wcross1(f, 'g3, 'z)]"],
"outputs": []
}
,
{
"cell_type" : "code",
"execution_count": null,
"metadata" : {
    "collapsed" : false
},
"source" : ["testEquals(\"wcross(weierstrassP)\", \"[0, 0, 0]\")"],
"outputs": []
}
,
{
"cell_type" : "code",
"execution_count": null,
"metadata" : {
    "collapsed" : false
},
"source" : ["testEquals(\"wcross(weierstrassPPrime)\", \"[0, 0, 0]\")"],
"outputs": []
}
,
{
"cell_type" : "code",
"execution_count": null,
"metadata" : {
    "collapsed" : false
},
"source" : ["testEquals(\"wcross(weierstrassZeta)\", \"[0, 0, 0]\")"],
"outputs": []
}
,
{
"cell_type" : "markdown",
"metadata" : {},
"source" : [" Jacobi functions\n"]
}
,
{
"cell_type" : "code",
"execution_count": null,
"metadata" : {
    "collapsed" : false
},
"source" : ["testEquals(\"wcross(weierstrassSigma)\", \"[0, 0, 0]\")"],
"outputs": []
}
,
{
"cell_type" : "code",
"execution_count": null,
"metadata" : {
    "collapsed" : false
},
"source" : ["jeval(e) ==\n   eval(e, [jacobiCn(z, m), jacobiDn(z,m)], [sqrt(1 - jacobiSn(z,m)^2),\n                sqrt(1 - m* jacobiSn(z,m)^2)])"],
"outputs": []
}
,
{
"cell_type" : "markdown",
"metadata" : {},
"source" : [" check that jacobiSn(z,m)^2 + jacobiCn(z, m)^2 - 1 and\n m* jacobiSn(z,m)^2 + jacobiDn(z,m)^2 - 1 generate\n differential ideal\n"]
}
,
{
"cell_type" : "code",
"execution_count": null,
"metadata" : {
    "collapsed" : false
},
"source" : ["jcross(f : (eI, eI) -> eI) : eI ==\n   cc := D(D(f(z, m), m), z) - D(D(f(z, m), z), m)\n   jeval(cc)"],
"outputs": []
}
,
{
"cell_type" : "code",
"execution_count": null,
"metadata" : {
    "collapsed" : false
},
"source" : ["testEquals(\"jeval(D(jacobiSn(z,m)^2 + jacobiCn(z, m)^2 - 1, z))\", \"0\")"],
"outputs": []
}
,
{
"cell_type" : "code",
"execution_count": null,
"metadata" : {
    "collapsed" : false
},
"source" : ["testEquals(\"jeval(D(jacobiSn(z,m)^2 + jacobiCn(z, m)^2 - 1, m))\", \"0\")"],
"outputs": []
}
,
{
"cell_type" : "code",
"execution_count": null,
"metadata" : {
    "collapsed" : false
},
"source" : ["testEquals(\"jeval(D(m* jacobiSn(z,m)^2 + jacobiDn(z,m)^2 - 1, z))\", \"0\")"],
"outputs": []
}
,
{
"cell_type" : "markdown",
"metadata" : {},
"source" : [" Check that derivatives commute\n"]
}
,
{
"cell_type" : "code",
"execution_count": null,
"metadata" : {
    "collapsed" : false
},
"source" : ["testEquals(\"jeval(D(m* jacobiSn(z,m)^2 + jacobiDn(z,m)^2 - 1, m))\", \"0\")"],
"outputs": []
}
,
{
"cell_type" : "code",
"execution_count": null,
"metadata" : {
    "collapsed" : false
},
"source" : ["testEquals(\"jcross(jacobiSn)\", \"0\")"],
"outputs": []
}
,
{
"cell_type" : "code",
"execution_count": null,
"metadata" : {
    "collapsed" : false
},
"source" : ["testEquals(\"jcross(jacobiCn)\", \"0\")"],
"outputs": []
}
,
{
"cell_type" : "markdown",
"metadata" : {},
"source" : [" Elliptic integrals\n Check that derivatives commute\n"]
}
,
{
"cell_type" : "code",
"execution_count": null,
"metadata" : {
    "collapsed" : false
},
"source" : ["testEquals(\"jcross(jacobiDn)\", \"0\")"],
"outputs": []
}
,
{
"cell_type" : "code",
"execution_count": null,
"metadata" : {
    "collapsed" : false
},
"source" : ["testEquals(\"D(D(ellipticE(z, m), m), z) - D(D(ellipticE(z, m), z), m)\", \"0\")"],
"outputs": []
}
,
{
"cell_type" : "code",
"execution_count": null,
"metadata" : {
    "collapsed" : false
},
"source" : ["testEquals(\"D(D(ellipticF(z, m), m), z) - D(D(ellipticF(z, m), z), m)\", \"0\")"],
"outputs": []
}
,
{
"cell_type" : "code",
"execution_count": null,
"metadata" : {
    "collapsed" : false
},
"source" : ["testEquals(\"D(D(ellipticPi(z, n, m), z), m) - D(D(ellipticPi(z, n, m), m), z)\", \"0\")"],
"outputs": []
}
,
{
"cell_type" : "code",
"execution_count": null,
"metadata" : {
    "collapsed" : false
},
"source" : ["testEquals(\"D(D(ellipticPi(z, n, m), z), n) - D(D(ellipticPi(z, n, m), n), z)\", \"0\")"],
"outputs": []
}
,
{
"cell_type" : "markdown",
"metadata" : {},
"source" : [" Check agreement\n"]
}
,
{
"cell_type" : "code",
"execution_count": null,
"metadata" : {
    "collapsed" : false
},
"source" : ["testEquals(\"D(D(ellipticPi(z, n, m), m), n) - D(D(ellipticPi(z, n, m), n), m)\", \"0\")"],
"outputs": []
}
,
{
"cell_type" : "code",
"execution_count": null,
"metadata" : {
    "collapsed" : false
},
"source" : ["testEquals(\"D(ellipticK(m), m) - eval(D(ellipticF(z, m), m), [z = 1])\", \"0\")"],
"outputs": []
}
,
{
"cell_type" : "markdown",
"metadata" : {},
"source" : [" Inverse relation\n"]
}
,
{
"cell_type" : "code",
"execution_count": null,
"metadata" : {
    "collapsed" : false
},
"source" : ["testEquals(\"D(ellipticE(m), m) - eval(D(ellipticE(z, m), m), [z = 1])\", \"0\")"],
"outputs": []
}
,
{
"cell_type" : "code",
"execution_count": null,
"metadata" : {
    "collapsed" : false
},
"source" : ["testEquals(\"jacobiSn(ellipticF(z, m), m) -z\", \"0\")"],
"outputs": []
}
,
{
"cell_type" : "markdown",
"metadata" : {},
"source" : [" Cross derivatives of weierstrassPInverse\n"]
}
,
{
"cell_type" : "code",
"execution_count": null,
"metadata" : {
    "collapsed" : false
},
"source" : ["testEquals(\"weierstrassP(g2, g3, weierstrassPInverse(g2, g3, z))\", \"z\")"],
"outputs": []
}
,
{
"cell_type" : "code",
"execution_count": null,
"metadata" : {
    "collapsed" : false
},
"source" : ["ieval(e) ==\n    eval(e, weierstrassPPrime(g2, g3, weierstrassPInverse(g2, g3, z)),\n            sqrt(4*z^3 - g2*z - g3))"],
"outputs": []
}
,
{
"cell_type" : "code",
"execution_count": null,
"metadata" : {
    "collapsed" : false
},
"source" : ["testEquals(\"ieval(D(D(weierstrassPInverse(g2, g3, z), z), g2) -\"\n           \"D(D(weierstrassPInverse(g2, g3, z), g2), z))\", \"0\")"],
"outputs": []
}
,
{
"cell_type" : "code",
"execution_count": null,
"metadata" : {
    "collapsed" : false
},
"source" : ["testEquals(\"ieval(D(D(weierstrassPInverse(g2, g3, z), z), g3) -\"\n           \"D(D(weierstrassPInverse(g2, g3, z), g3), z))\", \"0\")"],
"outputs": []
}
,
{
"cell_type" : "code",
"execution_count": null,
"metadata" : {
    "collapsed" : false
},
"source" : [")set output algebra on"],
"outputs": []
}
,
{
"cell_type" : "code",
"execution_count": null,
"metadata" : {
    "collapsed" : false
},
"source" : ["statistics()"],
"outputs": []
}
,
{
"cell_type" : "code",
"execution_count": null,
"metadata" : {
    "collapsed" : false
},
"source" : [""],
"outputs": []
}
 ],
"metadata": {
 "kernelspec": {
  "display_name": "FriCAS",
  "language": "spad",
  "name": "ifricas"
 },
 "language_info": {
  "codemirror_mode": "spad",
  "mimetype": "text/x-spad",
  "name": "SPAD",
  "pygments_lexer": "spad",
  "version": "1.2.6"
 },
 "name": "ellip.ipynb"
},
"nbformat": 4,
"nbformat_minor": 0
}
