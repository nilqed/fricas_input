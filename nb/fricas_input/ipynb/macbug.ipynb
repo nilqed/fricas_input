{
 "cells": [
{
"cell_type" : "markdown",
"metadata" : {},
"source" : ["Copyright The Numerical Algorithms Group Limited 1994.\n \xtc{\n Macros can be parameterized and so can be used for many different\n kinds of objects.\n }{\n"]
}
,
{
"cell_type" : "markdown",
"metadata" : {},
"source" : [" }\n \xtc{\n Apply it to a number, a symbol, or an expression.\n }{\n"]
}
,
{
"cell_type" : "code",
"execution_count": null,
"metadata" : {
    "collapsed" : false
},
"source" : ["macro ff(x) == x^2 + 1"],
"outputs": []
}
,
{
"cell_type" : "markdown",
"metadata" : {},
"source" : [" }\n \xtc{\n Macros can also be nested, but you will get an error message if you\n run out of space because of an infinite nesting loop.\n }{\n"]
}
,
{
"cell_type" : "code",
"execution_count": null,
"metadata" : {
    "collapsed" : false
},
"source" : ["ff z"],
"outputs": []
}
,
{
"cell_type" : "markdown",
"metadata" : {},
"source" : [" }\n \xtc{\n This new macro is fine as it does not produce a loop.\n }{\n"]
}
,
{
"cell_type" : "code",
"execution_count": null,
"metadata" : {
    "collapsed" : false
},
"source" : ["macro gg(x) == ff(2*x - 2/3)"],
"outputs": []
}
,
{
"cell_type" : "markdown",
"metadata" : {},
"source" : [" }\n %\n \xtc{\n This however will loop since \spad{gg} is\n defined in terms of \spad{ff}.\n % risk not using a free g on next line\n }{\n"]
}
,
{
"cell_type" : "code",
"execution_count": null,
"metadata" : {
    "collapsed" : false
},
"source" : ["gg(1/w)"],
"outputs": []
}
,
{
"cell_type" : "code",
"execution_count": null,
"metadata" : {
    "collapsed" : false
},
"source" : ["macro ff(x) == gg(-x)"],
"outputs": []
}
,
{
"cell_type" : "code",
"execution_count": null,
"metadata" : {
    "collapsed" : false
},
"source" : [""],
"outputs": []
}
 ],
"metadata": {
 "kernelspec": {
  "display_name": "FriCAS",
  "language": "spad",
  "name": "ifricas"
 },
 "language_info": {
  "codemirror_mode": "spad",
  "mimetype": "text/x-spad",
  "name": "SPAD",
  "pygments_lexer": "spad",
  "version": "1.2.6"
 },
 "name": "macbug.ipynb"
},
"nbformat": 4,
"nbformat_minor": 0
}
