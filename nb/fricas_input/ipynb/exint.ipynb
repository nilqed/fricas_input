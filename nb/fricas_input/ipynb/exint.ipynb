{
 "cells": [
{
"cell_type" : "markdown",
"metadata" : {},
"source" : [" Input for page ExIntRationalWithRealParameter\n"]
}
,
{
"cell_type" : "code",
"execution_count": null,
"metadata" : {
    "collapsed" : false
},
"source" : [")clear all"],
"outputs": []
}
,
{
"cell_type" : "markdown",
"metadata" : {},
"source" : [" Input for page ExIntRationalFunction\n"]
}
,
{
"cell_type" : "code",
"execution_count": null,
"metadata" : {
    "collapsed" : false
},
"source" : ["integrate(1/(x^2 + a),x)"],
"outputs": []
}
,
{
"cell_type" : "code",
"execution_count": null,
"metadata" : {
    "collapsed" : false
},
"source" : [")clear all"],
"outputs": []
}
,
{
"cell_type" : "markdown",
"metadata" : {},
"source" : [" Input for page ExIntAlgebraicRelation\n"]
}
,
{
"cell_type" : "code",
"execution_count": null,
"metadata" : {
    "collapsed" : false
},
"source" : ["integrate((x^2+2*x+1)/((x+1)^6+1),x)"],
"outputs": []
}
,
{
"cell_type" : "code",
"execution_count": null,
"metadata" : {
    "collapsed" : false
},
"source" : [")clear all"],
"outputs": []
}
,
{
"cell_type" : "markdown",
"metadata" : {},
"source" : [" Input for page ExIntRationalWithComplexParameter\n"]
}
,
{
"cell_type" : "code",
"execution_count": null,
"metadata" : {
    "collapsed" : false
},
"source" : ["integrate(tan(atan(x)/3),x)"],
"outputs": []
}
,
{
"cell_type" : "code",
"execution_count": null,
"metadata" : {
    "collapsed" : false
},
"source" : [")clear all"],
"outputs": []
}
,
{
"cell_type" : "markdown",
"metadata" : {},
"source" : [" Input for page ExIntNoSolution\n"]
}
,
{
"cell_type" : "code",
"execution_count": null,
"metadata" : {
    "collapsed" : false
},
"source" : ["complexIntegrate(1/(x^2 + a),x)"],
"outputs": []
}
,
{
"cell_type" : "code",
"execution_count": null,
"metadata" : {
    "collapsed" : false
},
"source" : [")clear all"],
"outputs": []
}
,
{
"cell_type" : "markdown",
"metadata" : {},
"source" : [" Input for page ExIntTwoSimilarIntegrands\n"]
}
,
{
"cell_type" : "code",
"execution_count": null,
"metadata" : {
    "collapsed" : false
},
"source" : ["integrate(log(1 + sqrt(a*x + b)) / x,x)"],
"outputs": []
}
,
{
"cell_type" : "code",
"execution_count": null,
"metadata" : {
    "collapsed" : false
},
"source" : [")clear all"],
"outputs": []
}
,
{
"cell_type" : "code",
"execution_count": null,
"metadata" : {
    "collapsed" : false
},
"source" : ["integrate(x^3 / (a+b*x)^(1/3),x)"],
"outputs": []
}
,
{
"cell_type" : "markdown",
"metadata" : {},
"source" : [" Input for page ExIntRadicalOfTranscendental\n"]
}
,
{
"cell_type" : "code",
"execution_count": null,
"metadata" : {
    "collapsed" : false
},
"source" : ["integrate(1 / (x^3 * (a+b*x)^(1/3)),x)"],
"outputs": []
}
,
{
"cell_type" : "code",
"execution_count": null,
"metadata" : {
    "collapsed" : false
},
"source" : [")clear all"],
"outputs": []
}
,
{
"cell_type" : "markdown",
"metadata" : {},
"source" : [" Input for page ExIntNonElementary\n"]
}
,
{
"cell_type" : "code",
"execution_count": null,
"metadata" : {
    "collapsed" : false
},
"source" : ["integrate((x + 1) / (x * (x + log x)^(3/2)),x)"],
"outputs": []
}
,
{
"cell_type" : "code",
"execution_count": null,
"metadata" : {
    "collapsed" : false
},
"source" : [")clear all"],
"outputs": []
}
,
{
"cell_type" : "markdown",
"metadata" : {},
"source" : [" Input for page ExIntTrig\n"]
}
,
{
"cell_type" : "code",
"execution_count": null,
"metadata" : {
    "collapsed" : false
},
"source" : ["integrate(exp(-x^2) * erf(x) / (erf(x)^3 - erf(x)^2 - erf(x) + 1),x)"],
"outputs": []
}
,
{
"cell_type" : "code",
"execution_count": null,
"metadata" : {
    "collapsed" : false
},
"source" : [")clear all"],
"outputs": []
}
,
{
"cell_type" : "code",
"execution_count": null,
"metadata" : {
    "collapsed" : false
},
"source" : ["integrate((sinh(1+sqrt(x+b))+2*sqrt(x+b))/(sqrt(x+b)*(x+cosh(1+sqrt(x+b)))),x)"],
"outputs": []
}
,
{
"cell_type" : "code",
"execution_count": null,
"metadata" : {
    "collapsed" : false
},
"source" : [""],
"outputs": []
}
 ],
"metadata": {
 "kernelspec": {
  "display_name": "FriCAS",
  "language": "spad",
  "name": "ifricas"
 },
 "language_info": {
  "codemirror_mode": "spad",
  "mimetype": "text/x-spad",
  "name": "SPAD",
  "pygments_lexer": "spad",
  "version": "1.2.6"
 },
 "name": "exint.ipynb"
},
"nbformat": 4,
"nbformat_minor": 0
}
