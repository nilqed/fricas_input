{
 "cells": [
{
"cell_type" : "markdown",
"metadata" : {},
"source" : ["Copyright The Numerical Algorithms Group Limited 1991.\n This file contains some functions that compute LUP factorizations of\n matrices over a field.  The main function to call is lupFactor.  It\n accepts one argument, which should be a non-singular square matrix.\n If the matrix is not square, \"failed\" will be returned.  If the matrix\n is non-singular, a 'cannot coerce \"failed\"' error will be displayed.\n lupFactor returns a Union(List Matrix field,\"failed\") object.  Coerce\n this to a List Matrix field before you try to use it.  See the comment\n before the definition of lupFactor for the reference for the\n algorithm.\n"]
}
,
{
"cell_type" : "markdown",
"metadata" : {},
"source" : [" state the field here\n"]
}
,
{
"cell_type" : "code",
"execution_count": null,
"metadata" : {
    "collapsed" : false
},
"source" : [")clear all"],
"outputs": []
}
,
{
"cell_type" : "markdown",
"metadata" : {},
"source" : [" next computes a permutation matrix for mult on the right\n"]
}
,
{
"cell_type" : "code",
"execution_count": null,
"metadata" : {
    "collapsed" : false
},
"source" : ["field := Fraction Integer"],
"outputs": []
}
,
{
"cell_type" : "code",
"execution_count": null,
"metadata" : {
    "collapsed" : false
},
"source" : ["permMat: (INT, INT, INT) -> Matrix field"],
"outputs": []
}
,
{
"cell_type" : "markdown",
"metadata" : {},
"source" : [" find first col in first row that is nonzero or returns 0\n"]
}
,
{
"cell_type" : "code",
"execution_count": null,
"metadata" : {
    "collapsed" : false
},
"source" : ["permMat(dim, i, j) ==\n  m : Matrix field :=\n    diagonalMatrix [(if i = k or j = k then 0 else 1) for k in 1..dim]\n  m(i,j) := 1\n  m(j,i) := 1\n  m"],
"outputs": []
}
,
{
"cell_type" : "code",
"execution_count": null,
"metadata" : {
    "collapsed" : false
},
"source" : ["nonZeroCol: Matrix field -> INT"],
"outputs": []
}
,
{
"cell_type" : "markdown",
"metadata" : {},
"source" : [" this embeds the given square matrix in a larger square matrix\n where the extra space is filled with 1s on the diagonal, 0 elsewhere.\n"]
}
,
{
"cell_type" : "code",
"execution_count": null,
"metadata" : {
    "collapsed" : false
},
"source" : ["nonZeroCol(m) ==\n  foundit := false\n  col := 1\n  for i in 1..ncols(m) while not foundit repeat\n    for j in 1..nrows(m) while not foundit repeat\n      if not(m(j,i) = 0) then\n        col := i\n        foundit := true\n  col"],
"outputs": []
}
,
{
"cell_type" : "code",
"execution_count": null,
"metadata" : {
    "collapsed" : false
},
"source" : ["embedMatrix: (Matrix field,NNI,NNI) -> Matrix field"],
"outputs": []
}
,
{
"cell_type" : "markdown",
"metadata" : {},
"source" : [" following implements algorithm in \"The Design and Analysis of\n Computer Algorithms\" by Aho, Hopcroft and Ullman\n"]
}
,
{
"cell_type" : "code",
"execution_count": null,
"metadata" : {
    "collapsed" : false
},
"source" : ["embedMatrix(m, oldDim, newDim) ==\n  n := diagonalMatrix([1 for i in 1..newDim])$(Matrix(field))\n  setsubMatrix!(n,1,1,m)\n  n"],
"outputs": []
}
,
{
"cell_type" : "code",
"execution_count": null,
"metadata" : {
    "collapsed" : false
},
"source" : ["lupFactorEngine: (Matrix field, INT, INT)  -> List Matrix field"],
"outputs": []
}
,
{
"cell_type" : "markdown",
"metadata" : {},
"source" : [" next computes floor of log base 2 of an integer\n"]
}
,
{
"cell_type" : "code",
"execution_count": null,
"metadata" : {
    "collapsed" : false
},
"source" : ["lupFactorEngine(a, m, p) ==\n  m = 1 =>\n    l : Matrix field := diagonalMatrix [1]\n    pm : Matrix field := permMat(p,1,nonZeroCol a)\n    [l,a*pm,pm]\n  m2 : NNI := m quo 2\n  b : Matrix field := subMatrix(a,1,m2,1,p)\n  c : Matrix field := subMatrix(a,m2+1,m,1,p)\n  lup := lupFactorEngine(b,m2,p)\n  l1 := lup.1\n  u1 := lup.2\n  pm1 := lup.3\n  d : Matrix field := c * (inverse(pm1) :: Matrix(field))\n  e : Matrix field := subMatrix(u1,1,m2,1,m2)\n  f : Matrix field := subMatrix(d,1,m2,1,m2)\n  g : Matrix field := d - f * (inverse(e) :: Matrix(field)) * u1\n  pmin2 : NNI := p - m2\n  g' : Matrix field := subMatrix(g,1,nrows(g),p - pmin2 + 1,p)\n  lup := lupFactorEngine(g',m2,pmin2)\n  l2 := lup.1\n  u2 := lup.2\n  pm2 := lup.3\n  pm3 := horizConcat(zero(pmin2,m2)$(Matrix field), pm2)\n  pm3 := vertConcat(horizConcat(diagonalMatrix [1 for i in 1..m2],\n    zero(m2,pmin2)$(Matrix field)),pm3)\n  h : Matrix field := u1 * (inverse(pm3) :: Matrix(field))\n  l : Matrix field := horizConcat(l1, zero(m2,m2)$(Matrix field))\n  l := vertConcat(l,horizConcat(f * (inverse(e) :: Matrix(field)), l2))\n  u : Matrix field := horizConcat(zero(m2,m2)$(Matrix field), u2)\n  u := vertConcat(h,u)\n  pm := pm3 * pm1\n  [l,u,pm]"],
"outputs": []
}
,
{
"cell_type" : "code",
"execution_count": null,
"metadata" : {
    "collapsed" : false
},
"source" : ["intLog2: NNI -> NNI"],
"outputs": []
}
,
{
"cell_type" : "markdown",
"metadata" : {},
"source" : [" here is the function to call\n"]
}
,
{
"cell_type" : "code",
"execution_count": null,
"metadata" : {
    "collapsed" : false
},
"source" : ["intLog2 n == if n = 1 then 0 else 1 + intLog2(n quo 2)"],
"outputs": []
}
,
{
"cell_type" : "code",
"execution_count": null,
"metadata" : {
    "collapsed" : false
},
"source" : ["lupFactor: Matrix field -> Union(List Matrix field,\"failed\")"],
"outputs": []
}
,
{
"cell_type" : "markdown",
"metadata" : {},
"source" : [" Example from Aho, et al.\n"]
}
,
{
"cell_type" : "code",
"execution_count": null,
"metadata" : {
    "collapsed" : false
},
"source" : ["lupFactor m ==\n  not((r := nrows m) = ncols m) =>\n    messagePrint(\"Matrix must be square\")$OUTFORM\n    \"failed\"\n  ilog := intLog2(2)\n  not(r = 2 ^ ilog) =>\n    m := embedMatrix(m,r,(n := 2 ^ (ilog + 1)))\n    l := lupFactorEngine(m,n,n)\n    [subMatrix(l.1,1,r,1,r),subMatrix(l.2,1,r,1,r),\n      subMatrix(l.3,1,r,1,r)]\n  lupFactorEngine(m,r,r)"],
"outputs": []
}
,
{
"cell_type" : "code",
"execution_count": null,
"metadata" : {
    "collapsed" : false
},
"source" : ["m : Matrix field := zero(4,4)"],
"outputs": []
}
,
{
"cell_type" : "code",
"execution_count": null,
"metadata" : {
    "collapsed" : false
},
"source" : ["for i in 4..1 by -1 repeat m(5-i,i) := i"],
"outputs": []
}
,
{
"cell_type" : "code",
"execution_count": null,
"metadata" : {
    "collapsed" : false
},
"source" : ["m"],
"outputs": []
}
,
{
"cell_type" : "markdown",
"metadata" : {},
"source" : [" Example where the dimension does not start out a power of 2\n"]
}
,
{
"cell_type" : "code",
"execution_count": null,
"metadata" : {
    "collapsed" : false
},
"source" : ["lupFactor m"],
"outputs": []
}
,
{
"cell_type" : "code",
"execution_count": null,
"metadata" : {
    "collapsed" : false
},
"source" : ["m := [[1,2,3],[2,3,1],[3,1,2]]"],
"outputs": []
}
,
{
"cell_type" : "code",
"execution_count": null,
"metadata" : {
    "collapsed" : false
},
"source" : [""],
"outputs": []
}
 ],
"metadata": {
 "kernelspec": {
  "display_name": "FriCAS",
  "language": "spad",
  "name": "ifricas"
 },
 "language_info": {
  "codemirror_mode": "spad",
  "mimetype": "text/x-spad",
  "name": "SPAD",
  "pygments_lexer": "spad",
  "version": "1.2.6"
 },
 "name": "lupfact.ipynb"
},
"nbformat": 4,
"nbformat_minor": 0
}
