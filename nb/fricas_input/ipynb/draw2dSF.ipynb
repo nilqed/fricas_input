{
 "cells": [
{
"cell_type" : "markdown",
"metadata" : {},
"source" : ["Copyright The Numerical Algorithms Group Limited 1994.\n"]
}
,
{
"cell_type" : "markdown",
"metadata" : {},
"source" : ["open a file for input\n"]
}
,
{
"cell_type" : "code",
"execution_count": null,
"metadata" : {
    "collapsed" : false
},
"source" : [")clear all"],
"outputs": []
}
,
{
"cell_type" : "code",
"execution_count": null,
"metadata" : {
    "collapsed" : false
},
"source" : ["drawList(lp:List Point DoubleFloat):VIEW2D ==\n  n := #lp\n  g := graphImage()$GRIMAGE\n  for p in lp repeat\n    component(g,p,pointColorDefault(),lineColorDefault(),pointSizeDefault())\n  gi := makeGraphImage(g)$GRIMAGE\n  makeViewport2D(gi,[title(\"Points\")])$VIEW2D"],
"outputs": []
}
,
{
"cell_type" : "markdown",
"metadata" : {},
"source" : [" first we read the file of x, y data\n we cheat to get at the AXIOM variable\n"]
}
,
{
"cell_type" : "code",
"execution_count": null,
"metadata" : {
    "collapsed" : false
},
"source" : ["readTheFile(filename,numberOfPoints) ==\n  filenew:FILE(DoubleFloat):=open(filename,\"input\")\n  llp:=[point([read!(filenew),read!(filenew)])$Point(DoubleFloat)\n          for i in 1..numberOfPoints]"],
"outputs": []
}
,
{
"cell_type" : "code",
"execution_count": null,
"metadata" : {
    "collapsed" : false
},
"source" : ["axiom:=string getEnv(\"AXIOM\")$Lisp"],
"outputs": []
}
,
{
"cell_type" : "markdown",
"metadata" : {},
"source" : [" then we plot the points\n"]
}
,
{
"cell_type" : "code",
"execution_count": null,
"metadata" : {
    "collapsed" : false
},
"source" : ["pts:=readTheFile(axiom \"/../../src/input/draw2dSF.data\",1024);"],
"outputs": []
}
,
{
"cell_type" : "code",
"execution_count": null,
"metadata" : {
    "collapsed" : false
},
"source" : ["drawList(pts)"],
"outputs": []
}
,
{
"cell_type" : "code",
"execution_count": null,
"metadata" : {
    "collapsed" : false
},
"source" : [""],
"outputs": []
}
 ],
"metadata": {
 "kernelspec": {
  "display_name": "FriCAS",
  "language": "spad",
  "name": "ifricas"
 },
 "language_info": {
  "codemirror_mode": "spad",
  "mimetype": "text/x-spad",
  "name": "SPAD",
  "pygments_lexer": "spad",
  "version": "1.2.6"
 },
 "name": "draw2dSF.ipynb"
},
"nbformat": 4,
"nbformat_minor": 0
}
