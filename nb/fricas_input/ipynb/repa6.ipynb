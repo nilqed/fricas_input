{
 "cells": [
{
"cell_type" : "markdown",
"metadata" : {},
"source" : [" This file demonstrates Representation Theory in Scratchpad\n using the packages REP1, REP2, IRSN and SGCF, which are the\n abbreviations for RepresentationPackage1, RepresentationPackage2\n IrrRepSymNatPackage and SymmetricGroupCombinatoricFunctions.\n authors: Holger Gollan, Johannes Grabmeier\n release 1.0  09/30/87\n release 2.0  11/10/88: J. Grabmeier: add functions from IRSN\n release 2.1  08/04/89: J. Grabmeier: adjusting to new PERM\n   and modified REP1\n release 2.2  06/05/89: J. Grabmeier: adjusting to new algebra\n release 2.3  08/20/89: J. Grabmeier: minor adjustments\n In the sequel we show how to get all 2-modular irreducible\n representations of the alternating group A6.\n We generate A6 by the permutations threecycle x=(1,2,3)\n and the 5-cycle y=(2,3,4,5,6)\n"]
}
,
{
"cell_type" : "code",
"execution_count": null,
"metadata" : {
    "collapsed" : false
},
"source" : [")clear all"],
"outputs": []
}
,
{
"cell_type" : "markdown",
"metadata" : {},
"source" : [" pRA6 is the permutation representation over the Integers...\n"]
}
,
{
"cell_type" : "code",
"execution_count": null,
"metadata" : {
    "collapsed" : false
},
"source" : ["genA6 : List PERM INT := [cycle [1,2,3], cycle [2,3,4,5,6]]"],
"outputs": []
}
,
{
"cell_type" : "markdown",
"metadata" : {},
"source" : [" ... and pRA6m2 is the permutation representation over PrimeField 2:\n"]
}
,
{
"cell_type" : "code",
"execution_count": null,
"metadata" : {
    "collapsed" : false
},
"source" : ["pRA6 := permutationRepresentation (genA6, 6)"],
"outputs": []
}
,
{
"cell_type" : "markdown",
"metadata" : {},
"source" : [" Now try to split pRA6m2:\n"]
}
,
{
"cell_type" : "code",
"execution_count": null,
"metadata" : {
    "collapsed" : false
},
"source" : ["pRA6m2 : List Matrix PrimeField 2 := pRA6"],
"outputs": []
}
,
{
"cell_type" : "markdown",
"metadata" : {},
"source" : [" We have found the trivial module as a factormodule\n and a 5-dimensional submodule.\n"]
}
,
{
"cell_type" : "code",
"execution_count": null,
"metadata" : {
    "collapsed" : false
},
"source" : ["sp0 := meatAxe pRA6m2"],
"outputs": []
}
,
{
"cell_type" : "markdown",
"metadata" : {},
"source" : [" Try to split again...\n"]
}
,
{
"cell_type" : "code",
"execution_count": null,
"metadata" : {
    "collapsed" : false
},
"source" : ["dA6d1 := sp0.2"],
"outputs": []
}
,
{
"cell_type" : "markdown",
"metadata" : {},
"source" : [" ... and find a 4-dimensional submodule, say dA6d4a, and the\n trivial one again.\n"]
}
,
{
"cell_type" : "code",
"execution_count": null,
"metadata" : {
    "collapsed" : false
},
"source" : ["sp1 := meatAxe sp0.1"],
"outputs": []
}
,
{
"cell_type" : "markdown",
"metadata" : {},
"source" : [" Now we want to test, whether dA6d4a is absolutely irreducible...\n"]
}
,
{
"cell_type" : "code",
"execution_count": null,
"metadata" : {
    "collapsed" : false
},
"source" : ["dA6d4a := sp1.2"],
"outputs": []
}
,
{
"cell_type" : "markdown",
"metadata" : {},
"source" : [" ...and see: dA6d4a is absolutely irreducible.\n So we have found a second irreducible representation.\n Now construct a representation from reducing an irreducible one\n of the symmetric group S_6 over the integers taken mod 2\n What is the degree of the representation belonging to partition\n [2,2,1,1]?\n lambda : PRTITION := partition [2,2,1,1]\n"]
}
,
{
"cell_type" : "code",
"execution_count": null,
"metadata" : {
    "collapsed" : false
},
"source" : ["isAbsolutelyIrreducible? dA6d4a"],
"outputs": []
}
,
{
"cell_type" : "code",
"execution_count": null,
"metadata" : {
    "collapsed" : false
},
"source" : ["lambda := [2,2,1,1]"],
"outputs": []
}
,
{
"cell_type" : "markdown",
"metadata" : {},
"source" : [" now create the restriction to A6:\n"]
}
,
{
"cell_type" : "code",
"execution_count": null,
"metadata" : {
    "collapsed" : false
},
"source" : ["dimensionOfIrreducibleRepresentation lambda"],
"outputs": []
}
,
{
"cell_type" : "markdown",
"metadata" : {},
"source" : [" ... and d2211m2 is the representation over PrimeField 2:\n"]
}
,
{
"cell_type" : "code",
"execution_count": null,
"metadata" : {
    "collapsed" : false
},
"source" : ["d2211  := irreducibleRepresentation(lambda, genA6)"],
"outputs": []
}
,
{
"cell_type" : "markdown",
"metadata" : {},
"source" : [" and split it:\n"]
}
,
{
"cell_type" : "code",
"execution_count": null,
"metadata" : {
    "collapsed" : false
},
"source" : ["d2211m2 : List Matrix PrimeField 2 := d2211"],
"outputs": []
}
,
{
"cell_type" : "markdown",
"metadata" : {},
"source" : [" A 5 and a 4-dimensional one.\n we take the 4-dimensional one, say dA6d4b:\n"]
}
,
{
"cell_type" : "code",
"execution_count": null,
"metadata" : {
    "collapsed" : false
},
"source" : ["sp2 := meatAxe d2211m2"],
"outputs": []
}
,
{
"cell_type" : "markdown",
"metadata" : {},
"source" : [" This is absolutely irreducible, too ...\n"]
}
,
{
"cell_type" : "code",
"execution_count": null,
"metadata" : {
    "collapsed" : false
},
"source" : ["dA6d4b := sp2.1"],
"outputs": []
}
,
{
"cell_type" : "markdown",
"metadata" : {},
"source" : [" ... and dA6d4a and dA6d4b are not equivalent:\n"]
}
,
{
"cell_type" : "code",
"execution_count": null,
"metadata" : {
    "collapsed" : false
},
"source" : ["isAbsolutelyIrreducible? dA6d4b"],
"outputs": []
}
,
{
"cell_type" : "markdown",
"metadata" : {},
"source" : [" So the third irreducible representation is found.\n Now construct a new representation with the help of the tensorproduct\n"]
}
,
{
"cell_type" : "code",
"execution_count": null,
"metadata" : {
    "collapsed" : false
},
"source" : ["areEquivalent? ( dA6d4a , dA6d4b )"],
"outputs": []
}
,
{
"cell_type" : "markdown",
"metadata" : {},
"source" : [" and try to split it...\n"]
}
,
{
"cell_type" : "code",
"execution_count": null,
"metadata" : {
    "collapsed" : false
},
"source" : ["dA6d16 := tensorProduct ( dA6d4a , dA6d4b )"],
"outputs": []
}
,
{
"cell_type" : "markdown",
"metadata" : {},
"source" : [" The representation is irreducible, but may be not\n absolutely irreducible.\n"]
}
,
{
"cell_type" : "code",
"execution_count": null,
"metadata" : {
    "collapsed" : false
},
"source" : ["sp3 := meatAxe dA6d16"],
"outputs": []
}
,
{
"cell_type" : "markdown",
"metadata" : {},
"source" : [" So let's try the same over the field with 4 elements:\n"]
}
,
{
"cell_type" : "code",
"execution_count": null,
"metadata" : {
    "collapsed" : false
},
"source" : ["isAbsolutelyIrreducible? dA6d16"],
"outputs": []
}
,
{
"cell_type" : "code",
"execution_count": null,
"metadata" : {
    "collapsed" : false
},
"source" : ["gf4 := FiniteField(2,2)"],
"outputs": []
}
,
{
"cell_type" : "code",
"execution_count": null,
"metadata" : {
    "collapsed" : false
},
"source" : ["dA6d16gf4 : List Matrix gf4 := dA6d16"],
"outputs": []
}
,
{
"cell_type" : "markdown",
"metadata" : {},
"source" : [" Now we find two 8-dimensional ones, dA6d8a and dA6d8b.\n"]
}
,
{
"cell_type" : "code",
"execution_count": null,
"metadata" : {
    "collapsed" : false
},
"source" : ["sp4 := meatAxe dA6d16gf4"],
"outputs": []
}
,
{
"cell_type" : "code",
"execution_count": null,
"metadata" : {
    "collapsed" : false
},
"source" : ["dA6d8a : List Matrix gf4  := sp4.1"],
"outputs": []
}
,
{
"cell_type" : "markdown",
"metadata" : {},
"source" : [" Both are absolutely irreducible...\n"]
}
,
{
"cell_type" : "code",
"execution_count": null,
"metadata" : {
    "collapsed" : false
},
"source" : ["dA6d8b : List Matrix gf4  := sp4.2"],
"outputs": []
}
,
{
"cell_type" : "code",
"execution_count": null,
"metadata" : {
    "collapsed" : false
},
"source" : ["isAbsolutelyIrreducible? dA6d8a"],
"outputs": []
}
,
{
"cell_type" : "markdown",
"metadata" : {},
"source" : [" and they are not equivalent...\n"]
}
,
{
"cell_type" : "code",
"execution_count": null,
"metadata" : {
    "collapsed" : false
},
"source" : ["isAbsolutelyIrreducible? dA6d8b"],
"outputs": []
}
,
{
"cell_type" : "markdown",
"metadata" : {},
"source" : [" So we have found five absolutely irreducible representations of A6\n in characteristic 2.\n The theory tells us that there are no more irreducible ones.\n Here again are all absolutely irreducible 2-modular\n representations of A6\n"]
}
,
{
"cell_type" : "code",
"execution_count": null,
"metadata" : {
    "collapsed" : false
},
"source" : ["areEquivalent? ( dA6d8a, dA6d8b )"],
"outputs": []
}
,
{
"cell_type" : "code",
"execution_count": null,
"metadata" : {
    "collapsed" : false
},
"source" : ["dA6d1"],
"outputs": []
}
,
{
"cell_type" : "code",
"execution_count": null,
"metadata" : {
    "collapsed" : false
},
"source" : ["dA6d4a"],
"outputs": []
}
,
{
"cell_type" : "code",
"execution_count": null,
"metadata" : {
    "collapsed" : false
},
"source" : ["dA6d4b"],
"outputs": []
}
,
{
"cell_type" : "code",
"execution_count": null,
"metadata" : {
    "collapsed" : false
},
"source" : ["dA6d8a"],
"outputs": []
}
,
{
"cell_type" : "markdown",
"metadata" : {},
"source" : [" And here again is the irreducible, but not absolutely irreducible\n representations of A6 over PrimeField 2\n"]
}
,
{
"cell_type" : "code",
"execution_count": null,
"metadata" : {
    "collapsed" : false
},
"source" : ["dA6d8b"],
"outputs": []
}
,
{
"cell_type" : "code",
"execution_count": null,
"metadata" : {
    "collapsed" : false
},
"source" : ["dA6d16"],
"outputs": []
}
,
{
"cell_type" : "markdown",
"metadata" : {},
"source" : [" General algebras over GF(10007)\n"]
}
,
{
"cell_type" : "code",
"execution_count": null,
"metadata" : {
    "collapsed" : false
},
"source" : [")clear all"],
"outputs": []
}
,
{
"cell_type" : "code",
"execution_count": null,
"metadata" : {
    "collapsed" : false
},
"source" : ["pF := PrimeField(10007)"],
"outputs": []
}
,
{
"cell_type" : "markdown",
"metadata" : {},
"source" : [" Irreducible representation\n"]
}
,
{
"cell_type" : "code",
"execution_count": null,
"metadata" : {
    "collapsed" : false
},
"source" : ["mX := Matrix(pF)"],
"outputs": []
}
,
{
"cell_type" : "code",
"execution_count": null,
"metadata" : {
    "collapsed" : false
},
"source" : ["m1 := matrix([[0, 1, 0], [0, 0, 1], [1, 0, 0]])$mX"],
"outputs": []
}
,
{
"cell_type" : "code",
"execution_count": null,
"metadata" : {
    "collapsed" : false
},
"source" : ["m2 := matrix([[1, 0, 0], [0, 2, 0], [0, 0, 3]])$mX"],
"outputs": []
}
,
{
"cell_type" : "markdown",
"metadata" : {},
"source" : [" sum of two indentical irreducibles\n"]
}
,
{
"cell_type" : "code",
"execution_count": null,
"metadata" : {
    "collapsed" : false
},
"source" : ["meatAxe([m1, m2])"],
"outputs": []
}
,
{
"cell_type" : "code",
"execution_count": null,
"metadata" : {
    "collapsed" : false
},
"source" : ["mm1 := zero(6, 6)$mX;"],
"outputs": []
}
,
{
"cell_type" : "code",
"execution_count": null,
"metadata" : {
    "collapsed" : false
},
"source" : ["mm1 := setsubMatrix!(mm1, 1, 1, m1);"],
"outputs": []
}
,
{
"cell_type" : "code",
"execution_count": null,
"metadata" : {
    "collapsed" : false
},
"source" : ["mm1 := setsubMatrix!(mm1, 4, 4, m1)"],
"outputs": []
}
,
{
"cell_type" : "code",
"execution_count": null,
"metadata" : {
    "collapsed" : false
},
"source" : ["mm2 := zero(6, 6)$mX;"],
"outputs": []
}
,
{
"cell_type" : "code",
"execution_count": null,
"metadata" : {
    "collapsed" : false
},
"source" : ["mm2 := setsubMatrix!(mm2, 1, 1, m2);"],
"outputs": []
}
,
{
"cell_type" : "code",
"execution_count": null,
"metadata" : {
    "collapsed" : false
},
"source" : ["mm2 := setsubMatrix!(mm2, 4, 4, m2)"],
"outputs": []
}
,
{
"cell_type" : "markdown",
"metadata" : {},
"source" : [" change basis so that direct sum structure is hidden\n"]
}
,
{
"cell_type" : "code",
"execution_count": null,
"metadata" : {
    "collapsed" : false
},
"source" : ["meatAxe([mm1, mm2])"],
"outputs": []
}
,
{
"cell_type" : "code",
"execution_count": null,
"metadata" : {
    "collapsed" : false
},
"source" : ["tm := matrix [[gcd(i, j)$Integer::pF for i in 1..6] for j in 1..6];"],
"outputs": []
}
,
{
"cell_type" : "code",
"execution_count": null,
"metadata" : {
    "collapsed" : false
},
"source" : ["itm := inverse(tm);"],
"outputs": []
}
,
{
"cell_type" : "code",
"execution_count": null,
"metadata" : {
    "collapsed" : false
},
"source" : ["mm1 := itm*mm1*tm;"],
"outputs": []
}
,
{
"cell_type" : "code",
"execution_count": null,
"metadata" : {
    "collapsed" : false
},
"source" : ["mm2 := itm*mm2*tm;"],
"outputs": []
}
,
{
"cell_type" : "code",
"execution_count": null,
"metadata" : {
    "collapsed" : false
},
"source" : ["meatAxe([mm1, mm2])"],
"outputs": []
}
,
{
"cell_type" : "code",
"execution_count": null,
"metadata" : {
    "collapsed" : false
},
"source" : [""],
"outputs": []
}
 ],
"metadata": {
 "kernelspec": {
  "display_name": "FriCAS",
  "language": "spad",
  "name": "ifricas"
 },
 "language_info": {
  "codemirror_mode": "spad",
  "mimetype": "text/x-spad",
  "name": "SPAD",
  "pygments_lexer": "spad",
  "version": "1.2.6"
 },
 "name": "repa6.ipynb"
},
"nbformat": 4,
"nbformat_minor": 0
}
