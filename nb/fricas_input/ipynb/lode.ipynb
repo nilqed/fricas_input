{
 "cells": [
{
"cell_type" : "markdown",
"metadata" : {},
"source" : ["Copyright The Numerical Algorithms Group Limited 1991.\n"]
}
,
{
"cell_type" : "code",
"execution_count": null,
"metadata" : {
    "collapsed" : false
},
"source" : [")set break resume"],
"outputs": []
}
,
{
"cell_type" : "code",
"execution_count": null,
"metadata" : {
    "collapsed" : false
},
"source" : [")expose UnittestCount UnittestAux Unittest"],
"outputs": []
}
,
{
"cell_type" : "code",
"execution_count": null,
"metadata" : {
    "collapsed" : false
},
"source" : ["testsuite \"lode\""],
"outputs": []
}
,
{
"cell_type" : "code",
"execution_count": null,
"metadata" : {
    "collapsed" : false
},
"source" : ["SOL ==> Record(particular: EXPR INT, basis: List EXPR INT)"],
"outputs": []
}
,
{
"cell_type" : "code",
"execution_count": null,
"metadata" : {
    "collapsed" : false
},
"source" : ["y := operator y"],
"outputs": []
}
,
{
"cell_type" : "code",
"execution_count": null,
"metadata" : {
    "collapsed" : false
},
"source" : ["testcaseNoClear \"homogeneous equation with constant coefficients\""],
"outputs": []
}
,
{
"cell_type" : "code",
"execution_count": null,
"metadata" : {
    "collapsed" : false
},
"source" : ["deq := differentiate(y x, x, 2) + differentiate(y x, x) + y x"],
"outputs": []
}
,
{
"cell_type" : "code",
"execution_count": null,
"metadata" : {
    "collapsed" : false
},
"source" : ["res := solve(deq, y, x)"],
"outputs": []
}
,
{
"cell_type" : "code",
"execution_count": null,
"metadata" : {
    "collapsed" : false
},
"source" : ["testEquals(\"res\",\n           \"[0, [cos(x*sqrt(3)/2)*exp(-x/2),sin(x*sqrt(3)/2)*exp(-x/2)]]$SOL\")"],
"outputs": []
}
,
{
"cell_type" : "code",
"execution_count": null,
"metadata" : {
    "collapsed" : false
},
"source" : ["testEquals(\"eval(deq, y, res.particular + reduce(+, res.basis, 0), x)\", \"0\")"],
"outputs": []
}
,
{
"cell_type" : "code",
"execution_count": null,
"metadata" : {
    "collapsed" : false
},
"source" : ["testcaseNoClear \"initial value problem: y'' + y = 0, y(0) = y'(0) = 1\""],
"outputs": []
}
,
{
"cell_type" : "code",
"execution_count": null,
"metadata" : {
    "collapsed" : false
},
"source" : ["deq := differentiate(y x, x, 2) + y x"],
"outputs": []
}
,
{
"cell_type" : "code",
"execution_count": null,
"metadata" : {
    "collapsed" : false
},
"source" : ["testEquals(\"solve(deq, y, x = 0, [1, 1])\", \"sin x + cos x\")"],
"outputs": []
}
,
{
"cell_type" : "code",
"execution_count": null,
"metadata" : {
    "collapsed" : false
},
"source" : ["testEquals(\"solve(deq = sin x, y, x)\",\n           \"[-x*cos x/2, [cos x, sin x]]$SOL\")"],
"outputs": []
}
,
{
"cell_type" : "code",
"execution_count": null,
"metadata" : {
    "collapsed" : false
},
"source" : ["deq := x^3 * differentiate(y x, x, 3) + x^2 * differentiate(y x, x, 2) - _\n2 * x * differentiate(y x, x) + 2 * y x - 2 * x^4\n"],
"outputs": []
}
,
{
"cell_type" : "code",
"execution_count": null,
"metadata" : {
    "collapsed" : false
},
"source" : ["testcaseNoClear \"inhomogeneous equations with rational coefficients\""],
"outputs": []
}
,
{
"cell_type" : "code",
"execution_count": null,
"metadata" : {
    "collapsed" : false
},
"source" : ["res := solve(deq, y, x)"],
"outputs": []
}
,
{
"cell_type" : "code",
"execution_count": null,
"metadata" : {
    "collapsed" : false
},
"source" : ["testEquals(\"res\",\n           \"[(x^5-10*x^3+20*x^2+4)/(15*x),[(2*x^3-3*x^2+1)/x, (x^3-1)/x, (x^3-3*x^2-1)/x]]$SOL\")"],
"outputs": []
}
,
{
"cell_type" : "code",
"execution_count": null,
"metadata" : {
    "collapsed" : false
},
"source" : ["testEquals(\"eval(deq, y, res.particular + reduce(+, res.basis, 0), x)\", \"0\")"],
"outputs": []
}
,
{
"cell_type" : "code",
"execution_count": null,
"metadata" : {
    "collapsed" : false
},
"source" : ["testEquals(\"solve(deq, y, x = 1, [b, 0, a])\",\n           \"(2*x^5+10*(a-b-1)*x^3+(30*b-15*a+10)*x^2+10*b+5*a-2)/(30*x)\")"],
"outputs": []
}
,
{
"cell_type" : "code",
"execution_count": null,
"metadata" : {
    "collapsed" : false
},
"source" : ["deq := (x^9 + x^3) * differentiate(y x, x, 3) + _\n18 * x^8 * differentiate(y x, x,2) - 90 * x * differentiate(y x, x) - _\n30 * (11*x^6-3) * y x\n"],
"outputs": []
}
,
{
"cell_type" : "code",
"execution_count": null,
"metadata" : {
    "collapsed" : false
},
"source" : ["testcaseNoClear \"third order equation with nontrivial singularities\""],
"outputs": []
}
,
{
"cell_type" : "code",
"execution_count": null,
"metadata" : {
    "collapsed" : false
},
"source" : ["res := solve(deq, y, x)"],
"outputs": []
}
,
{
"cell_type" : "code",
"execution_count": null,
"metadata" : {
    "collapsed" : false
},
"source" : ["testEquals(\"res\",\n           \"[0, [x/(x^6+1), x*exp(-sqrt 91*log x)/(x^6+1), x*exp(sqrt 91*log x)/(x^6+1)]]$SOL\")"],
"outputs": []
}
,
{
"cell_type" : "code",
"execution_count": null,
"metadata" : {
    "collapsed" : false
},
"source" : ["testEquals(\"eval(deq, y, res.particular + reduce(+, res.basis, 0), x)\", \"0\")"],
"outputs": []
}
,
{
"cell_type" : "code",
"execution_count": null,
"metadata" : {
    "collapsed" : false
},
"source" : ["deq := (2*x+2)* differentiate(y x, x, 3) + 3* differentiate(y x, x, 2) + _\n(2*x^2+2*x)* differentiate(y x,x) - sqrt(x+1) * y x - 2*x^2 - x + 1\n"],
"outputs": []
}
,
{
"cell_type" : "code",
"execution_count": null,
"metadata" : {
    "collapsed" : false
},
"source" : ["testcaseNoClear \"third order equation on a curve of genus 0\""],
"outputs": []
}
,
{
"cell_type" : "code",
"execution_count": null,
"metadata" : {
    "collapsed" : false
},
"source" : ["res := solve(deq, y, x)"],
"outputs": []
}
,
{
"cell_type" : "code",
"execution_count": null,
"metadata" : {
    "collapsed" : false
},
"source" : ["testEquals(\"res\", \"[sqrt(x+1)+x, []]$SOL\")"],
"outputs": []
}
,
{
"cell_type" : "code",
"execution_count": null,
"metadata" : {
    "collapsed" : false
},
"source" : ["testEquals(\"eval(deq, y, res.particular + reduce(+, res.basis, 0), x)\", \"0\")"],
"outputs": []
}
,
{
"cell_type" : "code",
"execution_count": null,
"metadata" : {
    "collapsed" : false
},
"source" : ["testcaseNoClear \"equation irreducible over the rational functions\""],
"outputs": []
}
,
{
"cell_type" : "code",
"execution_count": null,
"metadata" : {
    "collapsed" : false
},
"source" : ["deq := 2*x^3*differentiate(y x,x,2) + 3*x^2*differentiate(y x,x) - 2*y x"],
"outputs": []
}
,
{
"cell_type" : "code",
"execution_count": null,
"metadata" : {
    "collapsed" : false
},
"source" : ["res := solve(deq, y, x)"],
"outputs": []
}
,
{
"cell_type" : "code",
"execution_count": null,
"metadata" : {
    "collapsed" : false
},
"source" : ["testEquals(\"res\", \"[0,[exp(-2/sqrt(x)), exp(2/sqrt(x))]]$SOL\")"],
"outputs": []
}
,
{
"cell_type" : "code",
"execution_count": null,
"metadata" : {
    "collapsed" : false
},
"source" : ["testEquals(\"eval(deq, y, res.particular + reduce(+, res.basis, 0), x)\", \"0\")"],
"outputs": []
}
,
{
"cell_type" : "code",
"execution_count": null,
"metadata" : {
    "collapsed" : false
},
"source" : ["expected() ==\n    messagePrint(\"testsuite | testcases: failed (total) | tests: failed (total)\")$OutputForm;\n    messagePrint(\"lode                        0     (6)               0    (13)\")$OutputForm"],
"outputs": []
}
,
{
"cell_type" : "code",
"execution_count": null,
"metadata" : {
    "collapsed" : false
},
"source" : ["statistics()"],
"outputs": []
}
,
{
"cell_type" : "code",
"execution_count": null,
"metadata" : {
    "collapsed" : false
},
"source" : ["expected()"],
"outputs": []
}
,
{
"cell_type" : "code",
"execution_count": null,
"metadata" : {
    "collapsed" : false
},
"source" : [""],
"outputs": []
}
 ],
"metadata": {
 "kernelspec": {
  "display_name": "FriCAS",
  "language": "spad",
  "name": "ifricas"
 },
 "language_info": {
  "codemirror_mode": "spad",
  "mimetype": "text/x-spad",
  "name": "SPAD",
  "pygments_lexer": "spad",
  "version": "1.2.6"
 },
 "name": "lode.ipynb"
},
"nbformat": 4,
"nbformat_minor": 0
}
