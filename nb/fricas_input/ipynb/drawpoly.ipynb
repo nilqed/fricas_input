{
 "cells": [
{
"cell_type" : "markdown",
"metadata" : {},
"source" : ["Copyright The Numerical Algorithms Group Limited 1996.\n"]
}
,
{
"cell_type" : "code",
"execution_count": null,
"metadata" : {
    "collapsed" : false
},
"source" : ["a1^18   - 83.30408576104702*a1^17   + 4016.670203940073*a1^16 + _\n     - 167241.63892168205*a1^15   + 5649108.7097550742*a1^14 + _\n     - 1.4927698938773671E8*a1^13   + 3.2737267549354239E9*a1^12 + _\n     - 6.0880865153029945E10*a1^11   + 8.4818140701374121E11*a1^10 + _\n     - 7.1925755048090801E12*a1^9  + 3.6866360833695195E13*a1^8 + _\n     - 1.2269584766923825E14*a1^7  + 2.990307540150555E14*a1^6 + _\n     - 5.580671179246935E14*a1^5  + 5.4087180857969938E14*a1^4 + _\n     3.5962416171315931E14*a1^3  - 8.254469833838275E14*a1^2 + _\n     - 4.3259667313869412E14*a1 - 1.2086386259492219E13\n"],
"outputs": []
}
,
{
"cell_type" : "code",
"execution_count": null,
"metadata" : {
    "collapsed" : false
},
"source" : ["draw(%,a1=-0.028..-0.027)"],
"outputs": []
}
,
{
"cell_type" : "code",
"execution_count": null,
"metadata" : {
    "collapsed" : false
},
"source" : [""],
"outputs": []
}
 ],
"metadata": {
 "kernelspec": {
  "display_name": "FriCAS",
  "language": "spad",
  "name": "ifricas"
 },
 "language_info": {
  "codemirror_mode": "spad",
  "mimetype": "text/x-spad",
  "name": "SPAD",
  "pygments_lexer": "spad",
  "version": "1.2.6"
 },
 "name": "drawpoly.ipynb"
},
"nbformat": 4,
"nbformat_minor": 0
}
