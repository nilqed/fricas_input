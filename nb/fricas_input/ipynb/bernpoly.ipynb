{
 "cells": [
{
"cell_type" : "markdown",
"metadata" : {},
"source" : ["Copyright The Numerical Algorithms Group Limited 1994.\n the first 10 Bernoulli polynomials (Approximate Calculation of Integrals\n by V. Krylov Macmillan 1962 p13)\n"]
}
,
{
"cell_type" : "code",
"execution_count": null,
"metadata" : {
    "collapsed" : false
},
"source" : ["draw(1,x=0..1)"],
"outputs": []
}
,
{
"cell_type" : "code",
"execution_count": null,
"metadata" : {
    "collapsed" : false
},
"source" : ["draw(x-(1/2),x=0..1)"],
"outputs": []
}
,
{
"cell_type" : "code",
"execution_count": null,
"metadata" : {
    "collapsed" : false
},
"source" : ["draw(x^2-x+(1/6),x=0..1)"],
"outputs": []
}
,
{
"cell_type" : "code",
"execution_count": null,
"metadata" : {
    "collapsed" : false
},
"source" : ["draw(x^3-(3/2)*x^2+(1/2)*x,x=0..1)"],
"outputs": []
}
,
{
"cell_type" : "code",
"execution_count": null,
"metadata" : {
    "collapsed" : false
},
"source" : ["draw(x^4-2*x^3+x^2-(1/30),x=0..1)"],
"outputs": []
}
,
{
"cell_type" : "code",
"execution_count": null,
"metadata" : {
    "collapsed" : false
},
"source" : ["draw(x^5-(5/2)*x^4+(5/3)*x^3-(1/6)*x,x=0..1)"],
"outputs": []
}
,
{
"cell_type" : "code",
"execution_count": null,
"metadata" : {
    "collapsed" : false
},
"source" : ["draw(x^6-3*x^5+(5/2)*x^4-(1/2)*x^2+(1/42),x=0..1)"],
"outputs": []
}
,
{
"cell_type" : "code",
"execution_count": null,
"metadata" : {
    "collapsed" : false
},
"source" : ["draw(x^7-(7/2)*x^6+(7/2)*x^5-(7/6)*x^3+(1/6)*x,x=0..1)"],
"outputs": []
}
,
{
"cell_type" : "code",
"execution_count": null,
"metadata" : {
    "collapsed" : false
},
"source" : ["draw(x^8-4*x^7+(14/3)*x^6-(7/3)*x^4+(2/3)*x^2-(1/30),x=0..1)"],
"outputs": []
}
,
{
"cell_type" : "code",
"execution_count": null,
"metadata" : {
    "collapsed" : false
},
"source" : ["draw(x^9-(9/2)*x^8+6*x^7-(21/5)*x^5+2*x^3-(3/10)*x,x=0..1)"],
"outputs": []
}
,
{
"cell_type" : "code",
"execution_count": null,
"metadata" : {
    "collapsed" : false
},
"source" : ["draw(x^10-5*x^9+(15/2)*x^8-7*x^6+5*x^4-(3/2)*x^2+(5/66),x=0..1)"],
"outputs": []
}
,
{
"cell_type" : "code",
"execution_count": null,
"metadata" : {
    "collapsed" : false
},
"source" : [""],
"outputs": []
}
 ],
"metadata": {
 "kernelspec": {
  "display_name": "FriCAS",
  "language": "spad",
  "name": "ifricas"
 },
 "language_info": {
  "codemirror_mode": "spad",
  "mimetype": "text/x-spad",
  "name": "SPAD",
  "pygments_lexer": "spad",
  "version": "1.2.6"
 },
 "name": "bernpoly.ipynb"
},
"nbformat": 4,
"nbformat_minor": 0
}
