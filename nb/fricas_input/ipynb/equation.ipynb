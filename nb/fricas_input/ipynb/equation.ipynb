{
 "cells": [
{
"cell_type" : "markdown",
"metadata" : {},
"source" : ["Copyright The Numerical Algorithms Group Limited 1996.\n\nTo ease the use of equation (more user friendly applications)\nI have enhanced the datatype Equation to have more\nmathematical richness.\n\nFirst of all now you can embed s from S to Equation S\nas s = s.\nThis allows to easily manipulate equations bring terms\nfrom one side to the other by simply adding or multiplying\nor ... provided, that the equation domain inherits the\nstructure of the underlying S.\n\nSo I went through the code saying\n\nIf S has BlaBla then BlaBla\n\nfor the most important structures, please suggest others\nif necessary, Steve, do we have a more general method in\nthe new compiler rather than repeating all these\ndefinitions as\n\ninv(eq) == inv lhs eq = inv rhs eq\n\n??\n\n\nFurthermore, we have function to put 0 or 1 on one side\nand factor the left hand side, after the right hand side\nis 0 and we have an IntegralDomain.\n\nPlease comment and test.\n\nJohannes\n"]
}
,
{
"cell_type" : "markdown",
"metadata" : {},
"source" : ["\n\n            3      2         4\n   (1)  - 6x  + 13x  + 4= - x  + 12x\n                                            Type: Equation Polynomial Integer\n                                       Time: 1.61 (IN) + 1.47 (OT) = 3.08 sec\n"]
}
,
{
"cell_type" : "code",
"execution_count": null,
"metadata" : {
    "collapsed" : false
},
"source" : ["eq1 := (-6*x^3+13*x^2+4)=(-x^4+12*x)"],
"outputs": []
}
,
{
"cell_type" : "markdown",
"metadata" : {},
"source" : ["\n\n         4      2          3\n   (2)  x  + 13x  - 12x= 6x  - 4\n                                            Type: Equation Polynomial Integer\n                                       Time: 0.16 (IN) + 0.11 (OT) = 0.27 sec\n"]
}
,
{
"cell_type" : "code",
"execution_count": null,
"metadata" : {
    "collapsed" : false
},
"source" : ["eq2 := x^4+13*x^2-12*x = 6*x^3-4"],
"outputs": []
}
,
{
"cell_type" : "markdown",
"metadata" : {},
"source" : ["\n\n             3      2      2    4      2            4        2     3\n   (3)  (- 6x  + 13x  + 4)y  + x  + 13x  - 12x= (- x  + 12x)y  + 6x  - 4\n                                            Type: Equation Polynomial Integer\n               Time: 0.26 (IN) + 0.01 (EV) + 0.01 (OT) + 1.54 (GC) = 1.82 sec\n"]
}
,
{
"cell_type" : "code",
"execution_count": null,
"metadata" : {
    "collapsed" : false
},
"source" : ["eq := eq1*y^2+eq2"],
"outputs": []
}
,
{
"cell_type" : "markdown",
"metadata" : {},
"source" : ["\n\n            4        2     3           3      2      2    4      2\n   (4)  (- x  + 12x)y  + 6x  - 4= (- 6x  + 13x  + 4)y  + x  + 13x  - 12x\n                                            Type: Equation Polynomial Integer\n                                                   Time: 0.07 (OT) = 0.07 sec\n"]
}
,
{
"cell_type" : "code",
"execution_count": null,
"metadata" : {
    "collapsed" : false
},
"source" : ["swap %"],
"outputs": []
}
,
{
"cell_type" : "markdown",
"metadata" : {},
"source" : ["\n\n            4        2     3       3      2      2    4      2\n   (5)  (- x  + 12x)y  + 6x = (- 6x  + 13x  + 4)y  + x  + 13x  - 12x + 4\n                                            Type: Equation Polynomial Integer\n                                       Time: 0.69 (IN) + 0.01 (OT) = 0.70 sec\n"]
}
,
{
"cell_type" : "code",
"execution_count": null,
"metadata" : {
    "collapsed" : false
},
"source" : ["% + 4"],
"outputs": []
}
,
{
"cell_type" : "markdown",
"metadata" : {},
"source" : ["\n\n            4        2       3      2      2    4     3      2\n   (6)  (- x  + 12x)y = (- 6x  + 13x  + 4)y  + x  - 6x  + 13x  - 12x + 4\n                                            Type: Equation Polynomial Integer\n                                       Time: 0.19 (IN) + 0.01 (OT) = 0.20 sec\n"]
}
,
{
"cell_type" : "code",
"execution_count": null,
"metadata" : {
    "collapsed" : false
},
"source" : ["%-6*x^3"],
"outputs": []
}
,
{
"cell_type" : "markdown",
"metadata" : {},
"source" : ["\n\n             4     3      2            2    4     3      2\n   (7)  0= (x  - 6x  + 13x  - 12x + 4)y  + x  - 6x  + 13x  - 12x + 4\n                                            Type: Equation Polynomial Integer\n                                       Time: 0.01 (IN) + 0.05 (OT) = 0.06 sec\n"]
}
,
{
"cell_type" : "code",
"execution_count": null,
"metadata" : {
    "collapsed" : false
},
"source" : ["leftZero %"],
"outputs": []
}
,
{
"cell_type" : "markdown",
"metadata" : {},
"source" : ["\n\n          4     3      2            2    4     3      2\n   (8)  (x  - 6x  + 13x  - 12x + 4)y  + x  - 6x  + 13x  - 12x + 4= 0\n                                            Type: Equation Polynomial Integer\n                                                   Time: 0.01 (IN) = 0.01 sec\n"]
}
,
{
"cell_type" : "code",
"execution_count": null,
"metadata" : {
    "collapsed" : false
},
"source" : ["swap %"],
"outputs": []
}
,
{
"cell_type" : "markdown",
"metadata" : {},
"source" : ["\n\n               2       2  2\n   (9)  (x - 2) (x - 1) (y  + 1)\n                                            Type: Factored Polynomial Integer\n                           Time: 0.50 (IN) + 0.09 (EV) + 0.30 (OT) = 0.89 sec\n"]
}
,
{
"cell_type" : "code",
"execution_count": null,
"metadata" : {
    "collapsed" : false
},
"source" : ["factor lhs %"],
"outputs": []
}
,
{
"cell_type" : "markdown",
"metadata" : {},
"source" : ["\n\n                             2\n   (10)  [x - 2= 0,x - 1= 0,y  + 1= 0]\n                                       Type: List Equation Polynomial Integer\n                                       Time: 0.09 (EV) + 0.21 (OT) = 0.30 sec\n"]
}
,
{
"cell_type" : "code",
"execution_count": null,
"metadata" : {
    "collapsed" : false
},
"source" : ["factorAndSplit eq"],
"outputs": []
}
,
{
"cell_type" : "markdown",
"metadata" : {},
"source" : ["\n\n                            1                                1\n   (11)  - ------------------------------------= - ----------------------\n              3      2      2    4      2            4        2     3\n           (6x  - 13x  - 4)y  - x  - 13x  + 12x    (x  - 12x)y  - 6x  + 4\n                                   Type: Equation Fraction Polynomial Integer\n                                                   Time: 0.03 (IN) = 0.03 sec\n"]
}
,
{
"cell_type" : "code",
"execution_count": null,
"metadata" : {
    "collapsed" : false
},
"source" : ["inv (eq :: EQ FRAC POLY INT)"],
"outputs": []
}
,
{
"cell_type" : "code",
"execution_count": null,
"metadata" : {
    "collapsed" : false
},
"source" : ["- %"],
"outputs": []
}
,
{
"cell_type" : "code",
"execution_count": null,
"metadata" : {
    "collapsed" : false
},
"source" : [""],
"outputs": []
}
 ],
"metadata": {
 "kernelspec": {
  "display_name": "FriCAS",
  "language": "spad",
  "name": "ifricas"
 },
 "language_info": {
  "codemirror_mode": "spad",
  "mimetype": "text/x-spad",
  "name": "SPAD",
  "pygments_lexer": "spad",
  "version": "1.2.6"
 },
 "name": "equation.ipynb"
},
"nbformat": 4,
"nbformat_minor": 0
}
