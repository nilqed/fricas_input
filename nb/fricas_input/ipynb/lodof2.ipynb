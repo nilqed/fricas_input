{
 "cells": [
{
"cell_type" : "code",
"execution_count": null,
"metadata" : {
    "collapsed" : false
},
"source" : [")set break resume"],
"outputs": []
}
,
{
"cell_type" : "code",
"execution_count": null,
"metadata" : {
    "collapsed" : false
},
"source" : [")expose UnittestCount UnittestAux Unittest"],
"outputs": []
}
,
{
"cell_type" : "code",
"execution_count": null,
"metadata" : {
    "collapsed" : false
},
"source" : ["testsuite \"LODOF2\""],
"outputs": []
}
,
{
"cell_type" : "code",
"execution_count": null,
"metadata" : {
    "collapsed" : false
},
"source" : ["testcase \"factor\""],
"outputs": []
}
,
{
"cell_type" : "code",
"execution_count": null,
"metadata" : {
    "collapsed" : false
},
"source" : ["qF := Expression(Integer)"],
"outputs": []
}
,
{
"cell_type" : "code",
"execution_count": null,
"metadata" : {
    "collapsed" : false
},
"source" : ["uP := UnivariatePolynomial('x, qF)"],
"outputs": []
}
,
{
"cell_type" : "code",
"execution_count": null,
"metadata" : {
    "collapsed" : false
},
"source" : ["rF := Fraction(uP)"],
"outputs": []
}
,
{
"cell_type" : "code",
"execution_count": null,
"metadata" : {
    "collapsed" : false
},
"source" : ["L1 := LinearOrdinaryDifferentialOperator1(rF)"],
"outputs": []
}
,
{
"cell_type" : "code",
"execution_count": null,
"metadata" : {
    "collapsed" : false
},
"source" : ["lF := LinearOrdinaryDifferentialOperatorFactorizer2('x, 0)"],
"outputs": []
}
,
{
"cell_type" : "code",
"execution_count": null,
"metadata" : {
    "collapsed" : false
},
"source" : ["d := D()$L1"],
"outputs": []
}
,
{
"cell_type" : "code",
"execution_count": null,
"metadata" : {
    "collapsed" : false
},
"source" : ["xx := x::uP::rF"],
"outputs": []
}
,
{
"cell_type" : "code",
"execution_count": null,
"metadata" : {
    "collapsed" : false
},
"source" : ["x1 := xx^(-1)"],
"outputs": []
}
,
{
"cell_type" : "code",
"execution_count": null,
"metadata" : {
    "collapsed" : false
},
"source" : ["fP := factor$ExpressionFactorPolynomial(Integer,qF)"],
"outputs": []
}
,
{
"cell_type" : "markdown",
"metadata" : {},
"source" : [" reducible order 2 operator (1-1)\n"]
}
,
{
"cell_type" : "code",
"execution_count": null,
"metadata" : {
    "collapsed" : false
},
"source" : ["testFactor(l: List L1, y: List qF): Void ==\n    free l1\n    free l2\n    free ll\n    free nl\n    free nll\n    l1 := reduce(*, l)\n    nl := #l\n    ll := factor(l1, fP, y)$lF\n    l2 := reduce(*, ll)\n    nll := #ll\n    testEquals(\"nl\", \"nll\")\n    testEquals(\"l1\", \"l2\")"],
"outputs": []
}
,
{
"cell_type" : "markdown",
"metadata" : {},
"source" : [" irreducible order 2 operator\n"]
}
,
{
"cell_type" : "code",
"execution_count": null,
"metadata" : {
    "collapsed" : false
},
"source" : ["testFactor ([d, d+xx], [])"],
"outputs": []
}
,
{
"cell_type" : "markdown",
"metadata" : {},
"source" : [" reducible order 3 operator (1-2)\n"]
}
,
{
"cell_type" : "code",
"execution_count": null,
"metadata" : {
    "collapsed" : false
},
"source" : ["testFactor ([2*xx^3 * d^2 + 3*xx^2 * d - 2], [])"],
"outputs": []
}
,
{
"cell_type" : "code",
"execution_count": null,
"metadata" : {
    "collapsed" : false
},
"source" : ["testFactor ([xx-d, -2*xx^3*d^2 - 3*xx^2*d + 2], [])"],
"outputs": []
}
,
{
"cell_type" : "markdown",
"metadata" : {},
"source" : [" reducible order 3 operator (2-1)\n"]
}
,
{
"cell_type" : "code",
"execution_count": null,
"metadata" : {
    "collapsed" : false
},
"source" : ["testFactor ([xx-d, d^2 + xx^2*d + 1], [])"],
"outputs": []
}
,
{
"cell_type" : "code",
"execution_count": null,
"metadata" : {
    "collapsed" : false
},
"source" : ["testFactor ([-2*xx^3*d^2 - 3*xx^2*d + 2, d - xx], [])"],
"outputs": []
}
,
{
"cell_type" : "markdown",
"metadata" : {},
"source" : [" reducible order 3 operator (1-1-1)\n"]
}
,
{
"cell_type" : "code",
"execution_count": null,
"metadata" : {
    "collapsed" : false
},
"source" : ["testFactor ([(xx^9 + xx^3)*d +(-sqrt 91+7)*xx^8+(-sqrt 91 + 1)*xx^2, _\n            d + ((sqrt 91 + 6)*xx^6 + sqrt 91)/(xx^7+xx), _\n            d + (5*xx^6 - 1)/(xx^7 + xx)], [sqrt 91])\n"],
"outputs": []
}
,
{
"cell_type" : "markdown",
"metadata" : {},
"source" : [" irreducible order 3 operator\n"]
}
,
{
"cell_type" : "code",
"execution_count": null,
"metadata" : {
    "collapsed" : false
},
"source" : ["testFactor ([d^2 + xx^2*d + 1, d - xx], [])"],
"outputs": []
}
,
{
"cell_type" : "markdown",
"metadata" : {},
"source" : [" reducible order 4 operator (2-2)\n"]
}
,
{
"cell_type" : "code",
"execution_count": null,
"metadata" : {
    "collapsed" : false
},
"source" : ["testFactor ([d^3 + 2 * d^2 + 5 / xx * d + 7 / xx^2], [])"],
"outputs": []
}
,
{
"cell_type" : "code",
"execution_count": null,
"metadata" : {
    "collapsed" : false
},
"source" : ["testFactor ([2*xx^3 * d^2 + 3*xx^2 * d - 2, 2*xx^3 * d^2 + 3*xx^2 * d - 2], [])"],
"outputs": []
}
,
{
"cell_type" : "markdown",
"metadata" : {},
"source" : [" reducible order 5 operator (1-1-3)\n"]
}
,
{
"cell_type" : "code",
"execution_count": null,
"metadata" : {
    "collapsed" : false
},
"source" : ["testFactor ([d^2 + xx^3 + x1^3, d^2 + xx^2 - x1^3], [])"],
"outputs": []
}
,
{
"cell_type" : "code",
"execution_count": null,
"metadata" : {
    "collapsed" : false
},
"source" : ["testFactor ([d, d, d^3 + xx^2 * d^2 - x1^3 * d + (xx+1) / (xx-1)], [])"],
"outputs": []
}
,
{
"cell_type" : "markdown",
"metadata" : {},
"source" : [" reducible order 6 operator (1-1-1-1-1-1)\n"]
}
,
{
"cell_type" : "code",
"execution_count": null,
"metadata" : {
    "collapsed" : false
},
"source" : ["testFactor ([xx^6*d + (- sqrt(-1) + 5)*xx^5, _\n            d + (sqrt(-1)+4)/xx, _\n            d + 5/xx, _\n            d + 4/xx, _\n            d + 3*xx^2/(xx^3-1), _\n            d + (-xx^3-2)/(xx^4-xx)], [sqrt(-1)])\n"],
"outputs": []
}
,
{
"cell_type" : "markdown",
"metadata" : {},
"source" : [" reducible order 7 operator (2-1-1-3)\n"]
}
,
{
"cell_type" : "code",
"execution_count": null,
"metadata" : {
    "collapsed" : false
},
"source" : ["testFactor ([d, d, d^3 + xx^2 * d^2 - x1^3 * d + 1], [])"],
"outputs": []
}
,
{
"cell_type" : "code",
"execution_count": null,
"metadata" : {
    "collapsed" : false
},
"source" : ["testFactor ([d^2 + x1 + xx, d, d, d^3 + xx^2 * d^2 - x1^3 * d + (xx+1) / (xx-1)], [])"],
"outputs": []
}
,
{
"cell_type" : "code",
"execution_count": null,
"metadata" : {
    "collapsed" : false
},
"source" : ["statistics()"],
"outputs": []
}
,
{
"cell_type" : "code",
"execution_count": null,
"metadata" : {
    "collapsed" : false
},
"source" : [""],
"outputs": []
}
 ],
"metadata": {
 "kernelspec": {
  "display_name": "FriCAS",
  "language": "spad",
  "name": "ifricas"
 },
 "language_info": {
  "codemirror_mode": "spad",
  "mimetype": "text/x-spad",
  "name": "SPAD",
  "pygments_lexer": "spad",
  "version": "1.2.6"
 },
 "name": "lodof2.ipynb"
},
"nbformat": 4,
"nbformat_minor": 0
}
