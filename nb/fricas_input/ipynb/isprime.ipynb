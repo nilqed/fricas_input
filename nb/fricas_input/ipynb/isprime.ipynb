{
 "cells": [
{
"cell_type" : "markdown",
"metadata" : {},
"source" : ["Copyright The Numerical Algorithms Group Limited 1994.\n"]
}
,
{
"cell_type" : "code",
"execution_count": null,
"metadata" : {
    "collapsed" : false
},
"source" : [")set break resume"],
"outputs": []
}
,
{
"cell_type" : "code",
"execution_count": null,
"metadata" : {
    "collapsed" : false
},
"source" : [")expose UnittestCount UnittestAux Unittest"],
"outputs": []
}
,
{
"cell_type" : "code",
"execution_count": null,
"metadata" : {
    "collapsed" : false
},
"source" : ["testsuite \"prime?$Integer\""],
"outputs": []
}
,
{
"cell_type" : "code",
"execution_count": null,
"metadata" : {
    "collapsed" : false
},
"source" : ["testcase \"strong pseudoprimes\""],
"outputs": []
}
,
{
"cell_type" : "code",
"execution_count": null,
"metadata" : {
    "collapsed" : false
},
"source" : ["    s := delete(reduce(concat, _\n                       [concat [\"* primeFactor(\", string f, \",1)\"] _\n                        for f in l]), 1)\n"],
"outputs": []
}
,
{
"cell_type" : "markdown",
"metadata" : {},
"source" : ["The first two (2152302898747 and 3474749660383) are the only strong\npseudoprimes bases 2,3,5,7,11 less than 10^13: the remaining three\nare the only Carmichael numbers less than 10^16 with this property.\n"]
}
,
{
"cell_type" : "code",
"execution_count": null,
"metadata" : {
    "collapsed" : false
},
"source" : ["testFactor(l: List Integer): Void ==\n    free n\n    n := reduce(*, l)\n    testTrue(\"not prime? n\")\n    testEquals(\"factor(n)\", s)"],
"outputs": []
}
,
{
"cell_type" : "code",
"execution_count": null,
"metadata" : {
    "collapsed" : false
},
"source" : ["testFactor [6763, 10627, 29947]"],
"outputs": []
}
,
{
"cell_type" : "code",
"execution_count": null,
"metadata" : {
    "collapsed" : false
},
"source" : ["testFactor [1303, 16927, 157543]"],
"outputs": []
}
,
{
"cell_type" : "code",
"execution_count": null,
"metadata" : {
    "collapsed" : false
},
"source" : ["testFactor [3739, 18691, 153259]"],
"outputs": []
}
,
{
"cell_type" : "code",
"execution_count": null,
"metadata" : {
    "collapsed" : false
},
"source" : ["testFactor [46411, 232051, 417691]"],
"outputs": []
}
,
{
"cell_type" : "code",
"execution_count": null,
"metadata" : {
    "collapsed" : false
},
"source" : ["testFactor [21319, 106591, 3005839]"],
"outputs": []
}
,
{
"cell_type" : "code",
"execution_count": null,
"metadata" : {
    "collapsed" : false
},
"source" : ["testcase \"negative integers\""],
"outputs": []
}
,
{
"cell_type" : "code",
"execution_count": null,
"metadata" : {
    "collapsed" : false
},
"source" : ["testTrue(\"prime?(-5)\")"],
"outputs": []
}
,
{
"cell_type" : "code",
"execution_count": null,
"metadata" : {
    "collapsed" : false
},
"source" : ["testTrue(\"not prime?(-15)\")"],
"outputs": []
}
,
{
"cell_type" : "markdown",
"metadata" : {},
"source" : [" Jaeschke\n"]
}
,
{
"cell_type" : "code",
"execution_count": null,
"metadata" : {
    "collapsed" : false
},
"source" : ["testcase \"Davenport Primality Testing Revisited\""],
"outputs": []
}
,
{
"cell_type" : "markdown",
"metadata" : {},
"source" : [" Arnault (k+1)(2k+1)\n"]
}
,
{
"cell_type" : "code",
"execution_count": null,
"metadata" : {
    "collapsed" : false
},
"source" : ["testTrue(\"not prime?(137716125329053 * 413148375987157)\")"],
"outputs": []
}
,
{
"cell_type" : "code",
"execution_count": null,
"metadata" : {
    "collapsed" : false
},
"source" : ["testTrue(\"not prime?(24444516448431392447461 * 48889032896862784894921)\")"],
"outputs": []
}
,
{
"cell_type" : "markdown",
"metadata" : {},
"source" : [" Math. Comp.  76  (2007),  no. 260, 2095--2107\n"]
}
,
{
"cell_type" : "code",
"execution_count": null,
"metadata" : {
    "collapsed" : false
},
"source" : ["testcase \"Zhenxiang Zhang, Two kinds of strong pseudoprimes up to 10^36\""],
"outputs": []
}
,
{
"cell_type" : "code",
"execution_count": null,
"metadata" : {
    "collapsed" : false
},
"source" : ["           3573966164315688081500989037680081,_\n           3957570300351944936545806366050221,_\n           7434112337530311731294137656793141,_\n           11068905075460890469451728340323501,_\n           15837769490890427362080539697619981,_\n           28474734069948658439948497717356181,_\n           40367254714218826380279781659656101,_\n           71361969427913804551298969198134381,_\n           82824364075160891096445017152530181,_\n           88957815149805554548986624679089781,_\n           155559415576705971544442260241085421,_\n           179574770201988665981898462279223261,_\n           194375577640515630021542270534335741,_\n           219337010339607890908194166878591181,_\n           252100580001725274015376769069176741,_\n           255173558983450077412120850955148501,_\n           407387351326298070201483525504009841,_\n           527946434214347171361929671021353301,_\n           534925558491481798612709096229028021,_\n           808460124355439022735025127668137421,_\n           812968039437255274477328666971353901,_\n           816345937837238810402166547264426261,_\n           964006870224361626772797038309214301];\n"],
"outputs": []
}
,
{
"cell_type" : "code",
"execution_count": null,
"metadata" : {
    "collapsed" : false
},
"source" : ["Table1 := [1543267864443420616877677640751301,"],
"outputs": []
}
,
{
"cell_type" : "code",
"execution_count": null,
"metadata" : {
    "collapsed" : false
},
"source" : ["Table3 := [168790877523676911809192454171451,_\n           404006419196517352340186908176331,_\n           638448294554274988128326408678791,_\n           7386491959322896977412581863267131,_\n           14987066152476389521373597949057667,_\n           22072884304282812126783178400582551,_\n           22237516761876676325875933714505851,_\n           22535137585571582393575508859041539,_\n           33197805689160640280977000730295751,_\n           73956318488637465060479221079709511,_\n           84699940865376876461361355974527971,_\n           86114946224343991256730573290132851,_\n           157909679385259051550191589707564171,_\n           164290818021112438861652311523405671,_\n           329688822383744772420052773006657151,_\n           381295376196063449827518388463105491,_\n           488694766114162789165236319667944651,_\n           615953281715442032393107126795194451,_\n           663871524013514481984275366839039183,_\n           678033047702587416969292603094702251];\n"],
"outputs": []
}
,
{
"cell_type" : "code",
"execution_count": null,
"metadata" : {
    "collapsed" : false
},
"source" : ["testTrue(\"not any?(prime?, Table1)\")"],
"outputs": []
}
,
{
"cell_type" : "code",
"execution_count": null,
"metadata" : {
    "collapsed" : false
},
"source" : ["Proposition1dot1 := [1287836182261 * 2575672364521,_\n                     54786377365501 * 109572754731001,_\n                     172157429516701 * 344314859033401,_\n                     531099297693901 * 1062198595387801,_\n                     27778299663977101 * 55556599327954201];\n"],
"outputs": []
}
,
{
"cell_type" : "code",
"execution_count": null,
"metadata" : {
    "collapsed" : false
},
"source" : ["testTrue(\"not any?(prime?, Table3)\")"],
"outputs": []
}
,
{
"cell_type" : "markdown",
"metadata" : {},
"source" : [" Conjecture 1\n"]
}
,
{
"cell_type" : "code",
"execution_count": null,
"metadata" : {
    "collapsed" : false
},
"source" : ["testTrue(\"not any?(prime?, Proposition1dot1)\")"],
"outputs": []
}
,
{
"cell_type" : "markdown",
"metadata" : {},
"source" : [" Conjecture 2\n"]
}
,
{
"cell_type" : "code",
"execution_count": null,
"metadata" : {
    "collapsed" : false
},
"source" : ["xftestTrue(\"not prime?(149491 * 747451 * 34233211)\")"],
"outputs": []
}
,
{
"cell_type" : "code",
"execution_count": null,
"metadata" : {
    "collapsed" : false
},
"source" : ["testTrue(\"not prime?(399165290221 * 798330580441)\")"],
"outputs": []
}
,
{
"cell_type" : "code",
"execution_count": null,
"metadata" : {
    "collapsed" : false
},
"source" : ["statistics()"],
"outputs": []
}
,
{
"cell_type" : "code",
"execution_count": null,
"metadata" : {
    "collapsed" : false
},
"source" : [""],
"outputs": []
}
 ],
"metadata": {
 "kernelspec": {
  "display_name": "FriCAS",
  "language": "spad",
  "name": "ifricas"
 },
 "language_info": {
  "codemirror_mode": "spad",
  "mimetype": "text/x-spad",
  "name": "SPAD",
  "pygments_lexer": "spad",
  "version": "1.2.6"
 },
 "name": "isprime.ipynb"
},
"nbformat": 4,
"nbformat_minor": 0
}
