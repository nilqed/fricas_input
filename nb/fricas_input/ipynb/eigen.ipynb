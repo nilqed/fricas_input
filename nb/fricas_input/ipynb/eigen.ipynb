{
 "cells": [
{
"cell_type" : "markdown",
"metadata" : {},
"source" : ["Copyright The Numerical Algorithms Group Limited 1991.\n Computation of eigenvalues and eigenvectors\n"]
}
,
{
"cell_type" : "markdown",
"metadata" : {},
"source" : [" computation of characteristic polynomial\n for matrix of integers\n"]
}
,
{
"cell_type" : "code",
"execution_count": null,
"metadata" : {
    "collapsed" : false
},
"source" : [")cl all"],
"outputs": []
}
,
{
"cell_type" : "code",
"execution_count": null,
"metadata" : {
    "collapsed" : false
},
"source" : ["m:=matrix([[1,2,1],[2,1,-2],[1,-2,4]])"],
"outputs": []
}
,
{
"cell_type" : "code",
"execution_count": null,
"metadata" : {
    "collapsed" : false
},
"source" : ["characteristicPolynomial m"],
"outputs": []
}
,
{
"cell_type" : "markdown",
"metadata" : {},
"source" : [" for matrix of polynomials\n"]
}
,
{
"cell_type" : "code",
"execution_count": null,
"metadata" : {
    "collapsed" : false
},
"source" : ["characteristicPolynomial(m,x)"],
"outputs": []
}
,
{
"cell_type" : "code",
"execution_count": null,
"metadata" : {
    "collapsed" : false
},
"source" : ["p:=matrix([[x+1,2-x*y,x^2+1],[2-x,y+2*x,x^2-2],[y^2,x-2,4-x*y]])"],
"outputs": []
}
,
{
"cell_type" : "code",
"execution_count": null,
"metadata" : {
    "collapsed" : false
},
"source" : ["characteristicPolynomial p"],
"outputs": []
}
,
{
"cell_type" : "markdown",
"metadata" : {},
"source" : [" for general matrix of FRAC POLY INT\n"]
}
,
{
"cell_type" : "code",
"execution_count": null,
"metadata" : {
    "collapsed" : false
},
"source" : ["characteristicPolynomial(p,t)"],
"outputs": []
}
,
{
"cell_type" : "code",
"execution_count": null,
"metadata" : {
    "collapsed" : false
},
"source" : ["n:=matrix([[a,b,c],[d,e,f],[g,h,k]])"],
"outputs": []
}
,
{
"cell_type" : "markdown",
"metadata" : {},
"source" : [" there are many functions for the computation of  eigenvalues and\n eigenvectors:\n the function eigenvalues returns the eigenvalues :\n"]
}
,
{
"cell_type" : "code",
"execution_count": null,
"metadata" : {
    "collapsed" : false
},
"source" : ["characteristicPolynomial n"],
"outputs": []
}
,
{
"cell_type" : "code",
"execution_count": null,
"metadata" : {
    "collapsed" : false
},
"source" : ["leig := eigenvalues m"],
"outputs": []
}
,
{
"cell_type" : "markdown",
"metadata" : {},
"source" : [" alpha is a rational eigenvalue; the corresponding eigenvector can be\n computed with the function eigenvector:\n"]
}
,
{
"cell_type" : "code",
"execution_count": null,
"metadata" : {
    "collapsed" : false
},
"source" : ["alpha:=leig.1"],
"outputs": []
}
,
{
"cell_type" : "code",
"execution_count": null,
"metadata" : {
    "collapsed" : false
},
"source" : ["eigenvector(alpha,m)"],
"outputs": []
}
,
{
"cell_type" : "markdown",
"metadata" : {},
"source" : [" beta is a \"symbolic\" eigenvalue, i.e. it is a root (symbolically expressed)\n of an irreducible factor of the characteristic polynomial. In this case\n too we can compute the associate eigenvectors.\n"]
}
,
{
"cell_type" : "code",
"execution_count": null,
"metadata" : {
    "collapsed" : false
},
"source" : ["beta:=leig.2"],
"outputs": []
}
,
{
"cell_type" : "markdown",
"metadata" : {},
"source" : [" eigenvector(beta,m)  not accepted by the interpreter\n eigenvalues and eigenvectors can be computed simultaneously\n  with the function eigenvectors\n"]
}
,
{
"cell_type" : "code",
"execution_count": null,
"metadata" : {
    "collapsed" : false
},
"source" : ["eigenvector(beta,m)$EP(INT)"],
"outputs": []
}
,
{
"cell_type" : "code",
"execution_count": null,
"metadata" : {
    "collapsed" : false
},
"source" : ["eigenvectors m"],
"outputs": []
}
,
{
"cell_type" : "code",
"execution_count": null,
"metadata" : {
    "collapsed" : false
},
"source" : ["q:=matrix [[x^2-y^2,(x-y)*(2*x+3*y)],[x+y,2*x+3*y]]"],
"outputs": []
}
,
{
"cell_type" : "code",
"execution_count": null,
"metadata" : {
    "collapsed" : false
},
"source" : ["eigenvectors(q)"],
"outputs": []
}
,
{
"cell_type" : "code",
"execution_count": null,
"metadata" : {
    "collapsed" : false
},
"source" : ["p:=matrix([[76,-18,58,-10],[-4,78,2,-2],[-6,15,45,3],[22,-75,7,41]])"],
"outputs": []
}
,
{
"cell_type" : "markdown",
"metadata" : {},
"source" : [" In this case the algebraic multiplicity (the field eigmult) is different\n from the geometric multiplicity (the length of the field eigvec).\n"]
}
,
{
"cell_type" : "code",
"execution_count": null,
"metadata" : {
    "collapsed" : false
},
"source" : ["ll := eigenvectors p"],
"outputs": []
}
,
{
"cell_type" : "code",
"execution_count": null,
"metadata" : {
    "collapsed" : false
},
"source" : ["generalizedEigenvectors p"],
"outputs": []
}
,
{
"cell_type" : "markdown",
"metadata" : {},
"source" : [" generalizedEigenvector(ll.1,p) the interpreter can not handle this\n these functions return respectively the complete set of\n generalized eigenvectors\n or the generalized eigenvectors associated to a particular eigenvalue alpha,\n i.e. a basis of the nullSpace((p-alpha*I)^k) where k is the  algebraic\n multiplicity of alpha.\n In the case of symbolic eigenvalues it is possible to convert the symbolic\n eigenvalue and the corresponding eigenvectors in a more explicit form.\n"]
}
,
{
"cell_type" : "code",
"execution_count": null,
"metadata" : {
    "collapsed" : false
},
"source" : ["generalizedEigenvector(ll.1,p)$EP(INT)"],
"outputs": []
}
,
{
"cell_type" : "code",
"execution_count": null,
"metadata" : {
    "collapsed" : false
},
"source" : ["m"],
"outputs": []
}
,
{
"cell_type" : "markdown",
"metadata" : {},
"source" : [" the function radicalEigenvalues expresses, when possible, the eigenvalues\n in terms of radicals.\n"]
}
,
{
"cell_type" : "code",
"execution_count": null,
"metadata" : {
    "collapsed" : false
},
"source" : ["mm:=matrix([[30,4,24],[-17,8,-7],[-31,-54,-5]])"],
"outputs": []
}
,
{
"cell_type" : "code",
"execution_count": null,
"metadata" : {
    "collapsed" : false
},
"source" : ["le1:=radicalEigenvalues m"],
"outputs": []
}
,
{
"cell_type" : "markdown",
"metadata" : {},
"source" : [" the function radicalEigenvector computes the eigenvectors assocoted to\n a given eigenvalue, expressed in terms of radicals\n"]
}
,
{
"cell_type" : "code",
"execution_count": null,
"metadata" : {
    "collapsed" : false
},
"source" : ["le2:=radicalEigenvalues mm"],
"outputs": []
}
,
{
"cell_type" : "code",
"execution_count": null,
"metadata" : {
    "collapsed" : false
},
"source" : ["radicalEigenvector(le1.2, m)"],
"outputs": []
}
,
{
"cell_type" : "markdown",
"metadata" : {},
"source" : [" the function radicalEigenvectors computes simoultaneously all the\n eigenvalues and the associated eigenvectors  and expresses the , when\n it is possible, in terms of radical.\n"]
}
,
{
"cell_type" : "code",
"execution_count": null,
"metadata" : {
    "collapsed" : false
},
"source" : ["radicalEigenvector(le2.2,mm)"],
"outputs": []
}
,
{
"cell_type" : "code",
"execution_count": null,
"metadata" : {
    "collapsed" : false
},
"source" : ["radicalEigenvectors m"],
"outputs": []
}
,
{
"cell_type" : "markdown",
"metadata" : {},
"source" : [" there exist analogous functions for the computation of real and complex\n eigenvalues and eigenvectors.\n in order to compute respectively the eigenvalues or the\n eigenvalues and the associared eigevectors of a matrix m and express them\n as rational numbers (Gaussian rational) up to precision 1/1000000 use\n"]
}
,
{
"cell_type" : "code",
"execution_count": null,
"metadata" : {
    "collapsed" : false
},
"source" : ["radicalEigenvectors mm"],
"outputs": []
}
,
{
"cell_type" : "code",
"execution_count": null,
"metadata" : {
    "collapsed" : false
},
"source" : ["realEigenvalues(m,1/1000000)"],
"outputs": []
}
,
{
"cell_type" : "code",
"execution_count": null,
"metadata" : {
    "collapsed" : false
},
"source" : ["complexEigenvalues(mm,1/1000000)"],
"outputs": []
}
,
{
"cell_type" : "code",
"execution_count": null,
"metadata" : {
    "collapsed" : false
},
"source" : ["realEigenvectors(m,1/1000000)"],
"outputs": []
}
,
{
"cell_type" : "markdown",
"metadata" : {},
"source" : [" to have the eigenvalues expressed as real float (complex float) use\n"]
}
,
{
"cell_type" : "code",
"execution_count": null,
"metadata" : {
    "collapsed" : false
},
"source" : ["complexEigenvectors(mm,1/1000000)"],
"outputs": []
}
,
{
"cell_type" : "code",
"execution_count": null,
"metadata" : {
    "collapsed" : false
},
"source" : ["realEigenvalues(m,.000001)"],
"outputs": []
}
,
{
"cell_type" : "code",
"execution_count": null,
"metadata" : {
    "collapsed" : false
},
"source" : ["realEigenvectors(m,.000001)"],
"outputs": []
}
,
{
"cell_type" : "code",
"execution_count": null,
"metadata" : {
    "collapsed" : false
},
"source" : ["complexEigenvalues(mm,.000001)"],
"outputs": []
}
,
{
"cell_type" : "code",
"execution_count": null,
"metadata" : {
    "collapsed" : false
},
"source" : ["complexEigenvectors(mm,.000001)"],
"outputs": []
}
,
{
"cell_type" : "code",
"execution_count": null,
"metadata" : {
    "collapsed" : false
},
"source" : [""],
"outputs": []
}
 ],
"metadata": {
 "kernelspec": {
  "display_name": "FriCAS",
  "language": "spad",
  "name": "ifricas"
 },
 "language_info": {
  "codemirror_mode": "spad",
  "mimetype": "text/x-spad",
  "name": "SPAD",
  "pygments_lexer": "spad",
  "version": "1.2.6"
 },
 "name": "eigen.ipynb"
},
"nbformat": 4,
"nbformat_minor": 0
}
