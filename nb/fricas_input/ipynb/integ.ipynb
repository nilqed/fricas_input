{
 "cells": [
{
"cell_type" : "code",
"execution_count": null,
"metadata" : {
    "collapsed" : false
},
"source" : [")set break resume"],
"outputs": []
}
,
{
"cell_type" : "code",
"execution_count": null,
"metadata" : {
    "collapsed" : false
},
"source" : [")expose UnittestCount UnittestAux Unittest"],
"outputs": []
}
,
{
"cell_type" : "code",
"execution_count": null,
"metadata" : {
    "collapsed" : false
},
"source" : ["testsuite \"integ\""],
"outputs": []
}
,
{
"cell_type" : "code",
"execution_count": null,
"metadata" : {
    "collapsed" : false
},
"source" : ["is_evaluated_integral(res, f) ==\n    k1 := first kernels res\n    not is?(operator k1, 'integral) or member?(k1, kernels(f))"],
"outputs": []
}
,
{
"cell_type" : "code",
"execution_count": null,
"metadata" : {
    "collapsed" : false
},
"source" : ["testIntegrate(f: String, x: String, issue: String): Void ==\n    testcaseNoClear(\"integrate(\" f \", \" x \") (\" issue \")\")\n    testTrue(\"(res := integrate(\" f \", \" x \"); true)\")\n    testTrue(\"is_evaluated_integral(res, \" f \")\")\n    testEquals(\"normalize(D(res, \" x \") - (\" f \"))\", \"0\")"],
"outputs": []
}
,
{
"cell_type" : "code",
"execution_count": null,
"metadata" : {
    "collapsed" : false
},
"source" : ["xf1testIntegrate(f: String, x: String, issue: String): Void ==\n    testcaseNoClear(\"integrate(\" f \", \" x \") (\" issue \")\")\n    xftestTrue(\"(res := integrate(\" f \", \" x \"); true)\")\n    testTrue(\"not is?(operator first kernels res, 'integral)\")\n    testEquals(\"normalize(D(res, \" x \") - (\" f \"))\", \"0\")"],
"outputs": []
}
,
{
"cell_type" : "code",
"execution_count": null,
"metadata" : {
    "collapsed" : false
},
"source" : ["xf2testIntegrate(f: String, x: String, issue: String): Void ==\n    testcaseNoClear(\"integrate(\" f \", \" x \") (\" issue \")\")\n    testTrue(\"(res := integrate(\" f \", \" x \"); true)\")\n    xftestTrue(\"not is?(operator first kernels res, 'integral)\")\n    testEquals(\"normalize(D(res, \" x \") - (\" f \"))\", \"0\")"],
"outputs": []
}
,
{
"cell_type" : "code",
"execution_count": null,
"metadata" : {
    "collapsed" : false
},
"source" : ["testIntegrate(\"sqrt(1+tan(x)^2)\", \"x\", \"#436\")"],
"outputs": []
}
,
{
"cell_type" : "code",
"execution_count": null,
"metadata" : {
    "collapsed" : false
},
"source" : ["xf1testIntegrate(\"1/(-3+v^3)*v/(-4+v^3)^(1/2)\", \"v\", \"#360\")"],
"outputs": []
}
,
{
"cell_type" : "markdown",
"metadata" : {},
"source" : [" xf2testIntegrate(\"csc(z)*(1-1/(%i*z)^(1/2))^(1/2)\", \"z\", \"#442\")\n"]
}
,
{
"cell_type" : "code",
"execution_count": null,
"metadata" : {
    "collapsed" : false
},
"source" : ["testIntegrate(\"log(1-z^3)*(%i*z)^(1/2)\", \"z\", \"#440\")"],
"outputs": []
}
,
{
"cell_type" : "code",
"execution_count": null,
"metadata" : {
    "collapsed" : false
},
"source" : ["testcaseNoClear(\"csc(z)*(1-1/(%i*z)^(1/2))^(1/2)\")"],
"outputs": []
}
,
{
"cell_type" : "code",
"execution_count": null,
"metadata" : {
    "collapsed" : false
},
"source" : ["testTrue(\"(res := integrate(csc(z)*(1-1/(%i*z)^(1/2))^(1/2), z); true)\")"],
"outputs": []
}
,
{
"cell_type" : "code",
"execution_count": null,
"metadata" : {
    "collapsed" : false
},
"source" : ["xftestTrue(\"not is?(operator first kernels res, 'integral)\")"],
"outputs": []
}
,
{
"cell_type" : "code",
"execution_count": null,
"metadata" : {
    "collapsed" : false
},
"source" : ["xftestEquals(\"normalize(D(res, z) - csc(z)*(1-1/(%i*z)^(1/2))^(1/2))\", \"0\")"],
"outputs": []
}
,
{
"cell_type" : "markdown",
"metadata" : {},
"source" : [" sanity checks\n"]
}
,
{
"cell_type" : "code",
"execution_count": null,
"metadata" : {
    "collapsed" : false
},
"source" : ["testIntegrate(\"asin(x/a)\", \"x\", \" \")"],
"outputs": []
}
,
{
"cell_type" : "code",
"execution_count": null,
"metadata" : {
    "collapsed" : false
},
"source" : ["testIntegrate(\"(x+1)*exp(x)\", \"x\", \"rde\")"],
"outputs": []
}
,
{
"cell_type" : "code",
"execution_count": null,
"metadata" : {
    "collapsed" : false
},
"source" : ["testIntegrate(\"((x^2+x+1)*exp(1/(x+1)))/(x^2+2*x+1)\", \"x\", \"rde\")"],
"outputs": []
}
,
{
"cell_type" : "code",
"execution_count": null,
"metadata" : {
    "collapsed" : false
},
"source" : ["testIntegrate(\"((x^3-x^2-3*x+1)*exp(1/(x^2-1)))/(x^3-x^2-x+1)\", \"x\", \"rde\")"],
"outputs": []
}
,
{
"cell_type" : "code",
"execution_count": null,
"metadata" : {
    "collapsed" : false
},
"source" : ["testIntegrate(\"x*exp(-log(x) + x)\", \"x\", \"rde\")"],
"outputs": []
}
,
{
"cell_type" : "code",
"execution_count": null,
"metadata" : {
    "collapsed" : false
},
"source" : ["testIntegrate(\"e^(1/x)*x^(-3)\", \"x\", \"rde\")"],
"outputs": []
}
,
{
"cell_type" : "code",
"execution_count": null,
"metadata" : {
    "collapsed" : false
},
"source" : ["testIntegrate(\"x*exp(log(x) + x)\", \"x\", \"rde\")"],
"outputs": []
}
,
{
"cell_type" : "code",
"execution_count": null,
"metadata" : {
    "collapsed" : false
},
"source" : ["testIntegrate(\"sinh(b*log(c*x^n) + a)^2\", \"x\", \"rde\")"],
"outputs": []
}
,
{
"cell_type" : "code",
"execution_count": null,
"metadata" : {
    "collapsed" : false
},
"source" : ["testIntegrate(\"x^2*(a+b*x)^p\", \"x\", \"rde\")"],
"outputs": []
}
,
{
"cell_type" : "code",
"execution_count": null,
"metadata" : {
    "collapsed" : false
},
"source" : ["testIntegrate(\"x*sqrt(a+b*x)^p\", \"x\", \"rde\")"],
"outputs": []
}
,
{
"cell_type" : "code",
"execution_count": null,
"metadata" : {
    "collapsed" : false
},
"source" : ["testIntegrate(\"(x^7-24*x^4-4*x^2+8*x-8)/(x^8+6*x^6+12*x^4+8*x^2)\", \"x\", \"rat\")"],
"outputs": []
}
,
{
"cell_type" : "code",
"execution_count": null,
"metadata" : {
    "collapsed" : false
},
"source" : ["testIntegrate(\"(x-tan(x))/tan(x)^2 + tan(x)\", \"x\", \"trig\")"],
"outputs": []
}
,
{
"cell_type" : "code",
"execution_count": null,
"metadata" : {
    "collapsed" : false
},
"source" : ["testIntegrate(\"x^2*log(x^2+a^2)\", \"x\", \"elem\")"],
"outputs": []
}
,
{
"cell_type" : "code",
"execution_count": null,
"metadata" : {
    "collapsed" : false
},
"source" : ["testIntegrate(\"(1+x+x*exp(x))*(x+log(x)+exp(x)-1)/(x+log(x)+exp(x))^2/x\",\n              \"x\", \"elem\")"],
"outputs": []
}
,
{
"cell_type" : "code",
"execution_count": null,
"metadata" : {
    "collapsed" : false
},
"source" : ["testIntegrate(\"(1+x^(1/4))^(1/3)/(x^(1/2))\", \"x\", \"alg\")"],
"outputs": []
}
,
{
"cell_type" : "code",
"execution_count": null,
"metadata" : {
    "collapsed" : false
},
"source" : ["testIntegrate(\"((-x-1)*log((x^2+x))^2+2*log(x))/(x+1)\", \"x\", \"elem\")"],
"outputs": []
}
,
{
"cell_type" : "code",
"execution_count": null,
"metadata" : {
    "collapsed" : false
},
"source" : ["testIntegrate(\"x/sqrt((1-x^2)*(1-k^2*x^2))\", \"x\", \"alg\")"],
"outputs": []
}
,
{
"cell_type" : "markdown",
"metadata" : {},
"source" : [" used to fail due to wrong normalization\n"]
}
,
{
"cell_type" : "code",
"execution_count": null,
"metadata" : {
    "collapsed" : false
},
"source" : ["testIntegrate(\"sqrt(1/x+1)*sqrt(x)-sqrt(x+1)\", \"x\", \"alg\")"],
"outputs": []
}
,
{
"cell_type" : "code",
"execution_count": null,
"metadata" : {
    "collapsed" : false
},
"source" : ["testIntegrate(\"1/x*(exp(log(x)/2+x))^2\", \"x\", \"rde\")"],
"outputs": []
}
,
{
"cell_type" : "markdown",
"metadata" : {},
"source" : [" bug in RDE\n"]
}
,
{
"cell_type" : "code",
"execution_count": null,
"metadata" : {
    "collapsed" : false
},
"source" : ["testIntegrate(\"exp(x)*exp(exp(x) + 1 + log(exp(x) + 3)/2)^2/(exp(x) + 3)\",\n               \"x\", \"rde\")"],
"outputs": []
}
,
{
"cell_type" : "code",
"execution_count": null,
"metadata" : {
    "collapsed" : false
},
"source" : ["testIntegrate(\"((a*x+1)*exp(x)+(a+1)*x)*exp(a*log(exp(x)+x))/(exp(x)+x)\",\n              \"x\", \"rde\")"],
"outputs": []
}
,
{
"cell_type" : "code",
"execution_count": null,
"metadata" : {
    "collapsed" : false
},
"source" : ["testIntegrate(\n \"((x*2^(1/2)+1)*exp(x)+(x*2^(1/2)+x))*exp(2^(1/2)*log(exp(x)+x))/(exp(x)+x)\",\n   \"x\", \"rde\")"],
"outputs": []
}
,
{
"cell_type" : "code",
"execution_count": null,
"metadata" : {
    "collapsed" : false
},
"source" : ["fun1 := D(x*exp(a*log(log(x)/(x+1)+1)), x)"],
"outputs": []
}
,
{
"cell_type" : "code",
"execution_count": null,
"metadata" : {
    "collapsed" : false
},
"source" : ["testIntegrate(\"fun1\", \"x\", \"rde\")"],
"outputs": []
}
,
{
"cell_type" : "code",
"execution_count": null,
"metadata" : {
    "collapsed" : false
},
"source" : ["fun2 := D(x*exp(sqrt(2)*log(log(x)/(x+1)+1)), x)"],
"outputs": []
}
,
{
"cell_type" : "code",
"execution_count": null,
"metadata" : {
    "collapsed" : false
},
"source" : ["testIntegrate(\"fun2\", \"x\", \"rde\")"],
"outputs": []
}
,
{
"cell_type" : "code",
"execution_count": null,
"metadata" : {
    "collapsed" : false
},
"source" : ["fun3 := D(x*exp(x*log(x)/(log(x)+1))*log(exp(x*log(x)/(log(x)+1))+1), x)"],
"outputs": []
}
,
{
"cell_type" : "markdown",
"metadata" : {},
"source" : [" Rotstein & Bronstein, third case\n Integrate[(2581284441*Exp[x] + 1757211400)*Exp[1/(Exp[x]+1) - 10*x]/\n  (39916800*Exp[3*x] + 119750400*Exp[2*x] + 119750400*Exp[x] + 39916800), x]\n"]
}
,
{
"cell_type" : "code",
"execution_count": null,
"metadata" : {
    "collapsed" : false
},
"source" : ["testIntegrate(\"fun3\", \"x\", \"rde\")"],
"outputs": []
}
,
{
"cell_type" : "code",
"execution_count": null,
"metadata" : {
    "collapsed" : false
},
"source" : ["testIntegrate(\"(2581284541*exp(x) + 1757211400)*exp(1/(exp(x)+1) - 10*x)/\"\n              \"(39916800*exp(3*x) + 119750400*exp(2*x) + 119750400*exp(x)\"\n               \" + 39916800)\", \"x\", \"rde\")"],
"outputs": []
}
,
{
"cell_type" : "code",
"execution_count": null,
"metadata" : {
    "collapsed" : false
},
"source" : ["fun4 := D(log(log(log(x)))*exp(log(x) + x)*(x + 1/(log(x)^2 + x)), x)"],
"outputs": []
}
,
{
"cell_type" : "markdown",
"metadata" : {},
"source" : [" Needs logarithmic derivative in algebraic extension\n"]
}
,
{
"cell_type" : "code",
"execution_count": null,
"metadata" : {
    "collapsed" : false
},
"source" : ["testIntegrate(\"fun4\", \"x\", \"rde\")"],
"outputs": []
}
,
{
"cell_type" : "markdown",
"metadata" : {},
"source" : [" D(exp(ellipticF(x, m)), x)\n"]
}
,
{
"cell_type" : "code",
"execution_count": null,
"metadata" : {
    "collapsed" : false
},
"source" : ["testIntegrate(\"sqrt(z)^I^2\", \"x\", \"rde\")"],
"outputs": []
}
,
{
"cell_type" : "markdown",
"metadata" : {},
"source" : [" D(x*exp(ellipticF(x, m)), x)\n"]
}
,
{
"cell_type" : "code",
"execution_count": null,
"metadata" : {
    "collapsed" : false
},
"source" : ["testIntegrate(\"exp(ellipticF(x,m))/((1-m*x^2)^(1/2)*(1-x^2)^(1/2))\",\n              \"x\", \"rde\")"],
"outputs": []
}
,
{
"cell_type" : "markdown",
"metadata" : {},
"source" : ["  D((x+sqrt(1-x^2)*sqrt(1-m*x^2))*exp(ellipticF(x, m)), x)\n"]
}
,
{
"cell_type" : "code",
"execution_count": null,
"metadata" : {
    "collapsed" : false
},
"source" : ["testIntegrate(\"(((1-m*x^2)^(1/2)*(1-x^2)^(1/2)+x)*exp(ellipticF(x,m)))/\"\n              \"((1-m*x^2)^(1/2)*(1-x^2)^(1/2))\", \"x\", \"rde\")"],
"outputs": []
}
,
{
"cell_type" : "markdown",
"metadata" : {},
"source" : [" D(li(x)*exp(x+li(x)), x)\n"]
}
,
{
"cell_type" : "code",
"execution_count": null,
"metadata" : {
    "collapsed" : false
},
"source" : ["testIntegrate(\"((2*(1-m*x^2)^(1/2)*(1-x^2)^(1/2)+2*m*x^3-m*x)*\"\n              \"exp(ellipticF(x,m)))/((1-m*x^2)^(1/2)*(1-x^2)^(1/2))\",\n                \"x\", \"rde\")"],
"outputs": []
}
,
{
"cell_type" : "markdown",
"metadata" : {},
"source" : ["  D(exp(li(x) + x)/(li(x) + x), x)\n"]
}
,
{
"cell_type" : "code",
"execution_count": null,
"metadata" : {
    "collapsed" : false
},
"source" : ["testIntegrate(\"((li(x)*log(x)+li(x)+1)*exp(li(x)+x))/log(x)\", \"x\", \"rde\")"],
"outputs": []
}
,
{
"cell_type" : "markdown",
"metadata" : {},
"source" : [" just a few easy examples\n"]
}
,
{
"cell_type" : "code",
"execution_count": null,
"metadata" : {
    "collapsed" : false
},
"source" : ["testIntegrate(\"(((li(x)+x-1)*log(x)+li(x)+x-1)*exp(li(x)+x))/\"\n              \"((li(x)^2+2*x*li(x)+x^2)*log(x))\", \"x\", \"rde\")"],
"outputs": []
}
,
{
"cell_type" : "code",
"execution_count": null,
"metadata" : {
    "collapsed" : false
},
"source" : ["testIntegrate(\"(x^3-x^2-3*x+1)*exp(1/(x^2-1))/(x^3-x^2-x+1)\", \"x\", \"rde\")"],
"outputs": []
}
,
{
"cell_type" : "code",
"execution_count": null,
"metadata" : {
    "collapsed" : false
},
"source" : ["testIntegrate(\"((x + 1)*log(x)^2 - 1)*exp(x + 1/log(x))/log(x)^2\", \"x\", \"rde\")"],
"outputs": []
}
,
{
"cell_type" : "code",
"execution_count": null,
"metadata" : {
    "collapsed" : false
},
"source" : ["testIntegrate(\"((3*x+1)*log(x)+3*x^2+4*x+3)*exp(x+log(x)/3)/x\", \"x\", \"rde\")"],
"outputs": []
}
,
{
"cell_type" : "code",
"execution_count": null,
"metadata" : {
    "collapsed" : false
},
"source" : ["testIntegrate(\"(3*x^2+5*x)*exp(x + log(x^2-1)/3)/(x+1)\", \"x\", \"rde\")"],
"outputs": []
}
,
{
"cell_type" : "code",
"execution_count": null,
"metadata" : {
    "collapsed" : false
},
"source" : ["testIntegrate(\"((3*x+1)*log(x)+3*x^2-2*x-3)*exp(x+log(x)/3)/(x*log(x)^2+2*x^2*log(x)+x^3)\", \"x\", \"rde\")"],
"outputs": []
}
,
{
"cell_type" : "code",
"execution_count": null,
"metadata" : {
    "collapsed" : false
},
"source" : ["testIntegrate(\"(2*log(x)^2+3*x*log(x)+x^2-x-1)*exp(log(x)^2+x)/(x*log(x)^2+2*x^2*log(x)+x^3)\", \"x\", \"rde\")"],
"outputs": []
}
,
{
"cell_type" : "code",
"execution_count": null,
"metadata" : {
    "collapsed" : false
},
"source" : ["testIntegrate(\"(2*log(x)^2+3*x*log(x)+x^2+x+1)*exp(log(x)^2+x)/x\", \"x\", \"rde\")"],
"outputs": []
}
,
{
"cell_type" : "markdown",
"metadata" : {},
"source" : [" extended integration\n"]
}
,
{
"cell_type" : "code",
"execution_count": null,
"metadata" : {
    "collapsed" : false
},
"source" : ["testIntegrate(\"((x-3)*log(x)+4*x^2)*exp(1/x+log(x)/3)/x^2\", \"x\", \"rde\")"],
"outputs": []
}
,
{
"cell_type" : "code",
"execution_count": null,
"metadata" : {
    "collapsed" : false
},
"source" : ["fun := D(log(exp(log(x+1)+x)*x)^2, x)"],
"outputs": []
}
,
{
"cell_type" : "markdown",
"metadata" : {},
"source" : [" D((log(x*(1+x)) - log(x*(x+2)))*log(x+exp(x)), x)\n"]
}
,
{
"cell_type" : "code",
"execution_count": null,
"metadata" : {
    "collapsed" : false
},
"source" : ["testIntegrate(\"fun\", \"x\", \"extint\")"],
"outputs": []
}
,
{
"cell_type" : "code",
"execution_count": null,
"metadata" : {
    "collapsed" : false
},
"source" : ["testIntegrate(\"log(x+exp(x))/(x^2 + 3*x + 2) + \"\n    \"(log(x*(1+x)) - log(x*(x+2)))*(exp(x) + 1)/(exp(x) + x)\", \"x\", \"extint\")"],
"outputs": []
}
,
{
"cell_type" : "code",
"execution_count": null,
"metadata" : {
    "collapsed" : false
},
"source" : ["fun := D((log(x*(1+x)) - log(x*(x+2)))*log(x+exp(x))^2, x)"],
"outputs": []
}
,
{
"cell_type" : "code",
"execution_count": null,
"metadata" : {
    "collapsed" : false
},
"source" : ["testIntegrate(\"fun\", \"x\", \"extint\")"],
"outputs": []
}
,
{
"cell_type" : "code",
"execution_count": null,
"metadata" : {
    "collapsed" : false
},
"source" : ["fun := D((log(x*(1+x)) - log(x*(x+2)))^2*log(x+exp(x))^2, x)"],
"outputs": []
}
,
{
"cell_type" : "markdown",
"metadata" : {},
"source" : [" D(Ei(x)*log(x+exp(x))^2, x)\n"]
}
,
{
"cell_type" : "code",
"execution_count": null,
"metadata" : {
    "collapsed" : false
},
"source" : ["testIntegrate(\"fun\", \"x\", \"extint\")"],
"outputs": []
}
,
{
"cell_type" : "markdown",
"metadata" : {},
"source" : [" D(li(x)*log(x+exp(x))^2, x)\n"]
}
,
{
"cell_type" : "code",
"execution_count": null,
"metadata" : {
    "collapsed" : false
},
"source" : ["testIntegrate(\"exp(x)*log(x+exp(x))^2/x + \"\n              \"2*Ei(x)*(exp(x) + 1)/(exp(x) + x)*log(x+exp(x))\", \"x\", \"extint\")"],
"outputs": []
}
,
{
"cell_type" : "code",
"execution_count": null,
"metadata" : {
    "collapsed" : false
},
"source" : ["testIntegrate(\"log(x+exp(x))^2/log(x) + 2*li(x)*\"\n              \"(exp(x) + 1)/(exp(x) + x)*log(x+exp(x))\", \"x\", \"extint\")"],
"outputs": []
}
,
{
"cell_type" : "code",
"execution_count": null,
"metadata" : {
    "collapsed" : false
},
"source" : ["fun := D((x*exp((exp(x) + 1)/exp(x)))*log(exp((exp(x) + 1)/exp(x))+1), x)"],
"outputs": []
}
,
{
"cell_type" : "code",
"execution_count": null,
"metadata" : {
    "collapsed" : false
},
"source" : ["testIntegrate(\"fun\", \"x\", \"extint\")"],
"outputs": []
}
,
{
"cell_type" : "code",
"execution_count": null,
"metadata" : {
    "collapsed" : false
},
"source" : ["fun := D((exp((exp(x) + 1)/exp(x))/exp(x))*log(exp((exp(x) + 1)/exp(x))+1), x)"],
"outputs": []
}
,
{
"cell_type" : "code",
"execution_count": null,
"metadata" : {
    "collapsed" : false
},
"source" : ["testIntegrate(\"fun\", \"x\", \"extint\")"],
"outputs": []
}
,
{
"cell_type" : "code",
"execution_count": null,
"metadata" : {
    "collapsed" : false
},
"source" : ["fun := D((x*exp((exp(x)^2 + 1)/exp(x)))*log(exp((exp(x) + 1)/exp(x))+1), x)"],
"outputs": []
}
,
{
"cell_type" : "code",
"execution_count": null,
"metadata" : {
    "collapsed" : false
},
"source" : ["testIntegrate(\"fun\", \"x\", \"extint\")"],
"outputs": []
}
,
{
"cell_type" : "code",
"execution_count": null,
"metadata" : {
    "collapsed" : false
},
"source" : ["fun := D((exp((exp(x)^2 + 1)/exp(x))/exp(x))*log(exp((exp(x) + 1)/exp(x))+1), x)"],
"outputs": []
}
,
{
"cell_type" : "code",
"execution_count": null,
"metadata" : {
    "collapsed" : false
},
"source" : ["testIntegrate(\"fun\", \"x\", \"extint\")"],
"outputs": []
}
,
{
"cell_type" : "code",
"execution_count": null,
"metadata" : {
    "collapsed" : false
},
"source" : ["fun := D(x*exp(exp(x)^2 + exp(x))*log(exp(exp(x)^2 + exp(x)) + 1), x)"],
"outputs": []
}
,
{
"cell_type" : "code",
"execution_count": null,
"metadata" : {
    "collapsed" : false
},
"source" : ["testIntegrate(\"fun\", \"x\", \"extint\")"],
"outputs": []
}
,
{
"cell_type" : "code",
"execution_count": null,
"metadata" : {
    "collapsed" : false
},
"source" : ["fun := D((exp(exp(x)^2 + exp(x))/exp(x))*log(exp(exp(x)^2 + exp(x)) + 1), x)"],
"outputs": []
}
,
{
"cell_type" : "code",
"execution_count": null,
"metadata" : {
    "collapsed" : false
},
"source" : ["testIntegrate(\"fun\", \"x\", \"extint\")"],
"outputs": []
}
,
{
"cell_type" : "code",
"execution_count": null,
"metadata" : {
    "collapsed" : false
},
"source" : ["fun := D((x/(exp(x) + x))*erf(x*exp(x) + 1) + erf(x*exp(x) + 1)^2, x)"],
"outputs": []
}
,
{
"cell_type" : "code",
"execution_count": null,
"metadata" : {
    "collapsed" : false
},
"source" : ["testIntegrate(\"fun\", \"x\", \"extint\")"],
"outputs": []
}
,
{
"cell_type" : "code",
"execution_count": null,
"metadata" : {
    "collapsed" : false
},
"source" : ["testIntegrate(\"asin(x)*log(x)\", \"x\", \"extint\")"],
"outputs": []
}
,
{
"cell_type" : "markdown",
"metadata" : {},
"source" : [" elliptic\n D(ellipticF(x+2/x, 3), x)\n"]
}
,
{
"cell_type" : "code",
"execution_count": null,
"metadata" : {
    "collapsed" : false
},
"source" : ["testIntegrate(\"log(x + sqrt(1 + x^2))/(1 - x^2)^(3/2)\", \"x\", \"extint\")"],
"outputs": []
}
,
{
"cell_type" : "code",
"execution_count": null,
"metadata" : {
    "collapsed" : false
},
"source" : ["xf2testIntegrate(\"(x^2-2)/(x^2*((-3*x^4-11*x^2-12)/(x^2))^(1/2)*((-x^4-3*x^2-4)/(x^2))^(1/2))\", \"x\", \"ellip\")"],
"outputs": []
}
,
{
"cell_type" : "code",
"execution_count": null,
"metadata" : {
    "collapsed" : false
},
"source" : ["xf2testIntegrate(\"(x^2-2)/((-3*x^4-11*x^2-12)^(1/2)*(-x^4-3*x^2-4)^(1/2))\",\n                 \"x\", \"ellip\")"],
"outputs": []
}
,
{
"cell_type" : "markdown",
"metadata" : {},
"source" : [" D(ellipticF(x^3+2*x+1, 3), x)\n"]
}
,
{
"cell_type" : "code",
"execution_count": null,
"metadata" : {
    "collapsed" : false
},
"source" : ["xf2testIntegrate(\"(x^2-2)/((-3*x^4-11*x^2-12)*(-x^4-3*x^2-4))^(1/2)\",\n                 \"x\", \"ellip\")"],
"outputs": []
}
,
{
"cell_type" : "code",
"execution_count": null,
"metadata" : {
    "collapsed" : false
},
"source" : ["xf2testIntegrate(\"(3*x^2+2)/((-3*x^6-12*x^4-6*x^3-12*x^2-12*x-2)^(1/2)*(-x^6-4*x^4-2*x^3-4*x^2-4*x)^(1/2))\", \"x\", \"ellip\")"],
"outputs": []
}
,
{
"cell_type" : "markdown",
"metadata" : {},
"source" : [" li\n"]
}
,
{
"cell_type" : "code",
"execution_count": null,
"metadata" : {
    "collapsed" : false
},
"source" : ["xf2testIntegrate(\"(3*x^2+2)/((-3*x^6-12*x^4-6*x^3-12*x^2-12*x-2)*(-x^6-4*x^4-2*x^3-4*x^2-4*x))^(1/2)\", \"x\", \"ellip\")"],
"outputs": []
}
,
{
"cell_type" : "code",
"execution_count": null,
"metadata" : {
    "collapsed" : false
},
"source" : ["testIntegrate(\"1/log(x)\", \"x\", \"li\")"],
"outputs": []
}
,
{
"cell_type" : "code",
"execution_count": null,
"metadata" : {
    "collapsed" : false
},
"source" : ["testIntegrate(\"1/(log(x) + 1)\", \"x\", \"li\")"],
"outputs": []
}
,
{
"cell_type" : "code",
"execution_count": null,
"metadata" : {
    "collapsed" : false
},
"source" : ["testIntegrate(\"1/(log(x)^2-1)\", \"x\", \"li\")"],
"outputs": []
}
,
{
"cell_type" : "code",
"execution_count": null,
"metadata" : {
    "collapsed" : false
},
"source" : ["testIntegrate(\"x/log(x)\", \"x\", \"li\")"],
"outputs": []
}
,
{
"cell_type" : "code",
"execution_count": null,
"metadata" : {
    "collapsed" : false
},
"source" : ["testIntegrate(\"x/(log(x)+1)\", \"x\", \"li\")"],
"outputs": []
}
,
{
"cell_type" : "code",
"execution_count": null,
"metadata" : {
    "collapsed" : false
},
"source" : ["testIntegrate(\"(x+1)/(x*log(x))\", \"x\", \"li\")"],
"outputs": []
}
,
{
"cell_type" : "code",
"execution_count": null,
"metadata" : {
    "collapsed" : false
},
"source" : ["testIntegrate(\"(x+1)/(x*log(log(x) + x))\", \"x\", \"li\")"],
"outputs": []
}
,
{
"cell_type" : "code",
"execution_count": null,
"metadata" : {
    "collapsed" : false
},
"source" : ["testIntegrate(\"(3*x^2+2)/log(x^3+2*x+1)\", \"x\", \"li\")"],
"outputs": []
}
,
{
"cell_type" : "code",
"execution_count": null,
"metadata" : {
    "collapsed" : false
},
"source" : ["testIntegrate(\"((x + 1)*log(x) + x^2  + x)/(x*log(log(x) + x))\", \"x\", \"li\")"],
"outputs": []
}
,
{
"cell_type" : "code",
"execution_count": null,
"metadata" : {
    "collapsed" : false
},
"source" : ["testIntegrate(\"((x + 1)*log(x) + x^2  - 1)/(x*log(log(x) + x))\", \"x\", \"li\")"],
"outputs": []
}
,
{
"cell_type" : "markdown",
"metadata" : {},
"source" : [" the same, but written in a different way\n"]
}
,
{
"cell_type" : "code",
"execution_count": null,
"metadata" : {
    "collapsed" : false
},
"source" : ["testIntegrate(\"((x+1)*exp(x))/log(x*exp(x))\", \"x\", \"li\")"],
"outputs": []
}
,
{
"cell_type" : "code",
"execution_count": null,
"metadata" : {
    "collapsed" : false
},
"source" : ["testIntegrate(\"((x+1)*exp(x))/(x + log(x))\", \"x\", \"li\")"],
"outputs": []
}
,
{
"cell_type" : "code",
"execution_count": null,
"metadata" : {
    "collapsed" : false
},
"source" : ["testIntegrate(\"((2*x+2)*exp(x)*log(x)+(2*x^2+2*x)*exp(x))/(log(x)^2+2*x*log(x)+x^2-2)\", \"x\", \"li\")"],
"outputs": []
}
,
{
"cell_type" : "code",
"execution_count": null,
"metadata" : {
    "collapsed" : false
},
"source" : ["testIntegrate(\"exp(x)/log(exp(x)+1)\", \"x\", \"li\")"],
"outputs": []
}
,
{
"cell_type" : "markdown",
"metadata" : {},
"source" : [" the same, but written in a different way\n"]
}
,
{
"cell_type" : "code",
"execution_count": null,
"metadata" : {
    "collapsed" : false
},
"source" : ["testIntegrate(\"(2*exp(x)^2+exp(x))/log(exp(x)^2+exp(x))\", \"x\", \"li\")"],
"outputs": []
}
,
{
"cell_type" : "code",
"execution_count": null,
"metadata" : {
    "collapsed" : false
},
"source" : ["testIntegrate(\"(2*exp(x)^2+exp(x))/(x + log(exp(x) + 1))\", \"x\", \"li\")"],
"outputs": []
}
,
{
"cell_type" : "markdown",
"metadata" : {},
"source" : [" the same, but written in a different way\n"]
}
,
{
"cell_type" : "code",
"execution_count": null,
"metadata" : {
    "collapsed" : false
},
"source" : ["xf2testIntegrate(\"(4*x^6-14*x^5-8*x^4-16*x^3-12*x^2-2*x)/((x^4-8*x^3+24*x^2-32*x+16)*log((x^4+2*x^2+1)/(x^2-4*x+4)))\", \"x\", \"li\")"],
"outputs": []
}
,
{
"cell_type" : "code",
"execution_count": null,
"metadata" : {
    "collapsed" : false
},
"source" : ["testIntegrate(\"(4*x^6-14*x^5-8*x^4-16*x^3-12*x^2-2*x)/((x^4-8*x^3+24*x^2-32*x+16)*2*log((x^2+1)/(x-2)))\", \"x\", \"li\")"],
"outputs": []
}
,
{
"cell_type" : "markdown",
"metadata" : {},
"source" : [" normalize is too weak to prove equality\n testIntegrate(\"8*x/((x^4 + 2*x^2 + 1)*atan(x))\", \"x\", \"li\")\n testIntegrate(\"(x^2 + 8*x + 1)/((x^4 + 2*x^2 + 1)*atan(x))\", \"x\", \"li\")\n polylog\n"]
}
,
{
"cell_type" : "code",
"execution_count": null,
"metadata" : {
    "collapsed" : false
},
"source" : ["testIntegrate(\"(-2*x^8+8*x^7-4*x^6+23*x^5+10*x^4-11*x^3+54*x^2-12*x-6)/((x^7-6*x^6+14*x^5-20*x^4+25*x^3-22*x^2+12*x-8)*log((x-2)/(x^2+1)))\", \"x\", \"li\")"],
"outputs": []
}
,
{
"cell_type" : "code",
"execution_count": null,
"metadata" : {
    "collapsed" : false
},
"source" : ["testIntegrate(\"x/(exp(x) - 1)\", \"x\", \"poly\")"],
"outputs": []
}
,
{
"cell_type" : "code",
"execution_count": null,
"metadata" : {
    "collapsed" : false
},
"source" : ["testIntegrate(\"x^2/(exp(x) - 1)\", \"x\", \"poly\")"],
"outputs": []
}
,
{
"cell_type" : "code",
"execution_count": null,
"metadata" : {
    "collapsed" : false
},
"source" : ["testIntegrate(\"x^3/(exp(x) - 1)\", \"x\", \"poly\")"],
"outputs": []
}
,
{
"cell_type" : "code",
"execution_count": null,
"metadata" : {
    "collapsed" : false
},
"source" : ["testIntegrate(\"2*x*exp(x)/(exp(x)^2 - 1)\", \"x\", \"poly\")"],
"outputs": []
}
,
{
"cell_type" : "code",
"execution_count": null,
"metadata" : {
    "collapsed" : false
},
"source" : ["testIntegrate(\"x/(exp(x) - 2)\", \"x\", \"poly\")"],
"outputs": []
}
,
{
"cell_type" : "code",
"execution_count": null,
"metadata" : {
    "collapsed" : false
},
"source" : ["testIntegrate(\"(2*x*exp(x) - 3*x)/(exp(x)^2 -3*exp(x) + 2)\", \"x\", \"poly\")"],
"outputs": []
}
,
{
"cell_type" : "code",
"execution_count": null,
"metadata" : {
    "collapsed" : false
},
"source" : ["testIntegrate(\"2*x*exp(x)/(exp(x)^2 - 2)\", \"x\", \"poly\")"],
"outputs": []
}
,
{
"cell_type" : "markdown",
"metadata" : {},
"source" : [" the same, but written in a different way\n"]
}
,
{
"cell_type" : "code",
"execution_count": null,
"metadata" : {
    "collapsed" : false
},
"source" : ["testIntegrate(\"((x+1)*log(x)+(x^2+x))/(x*exp(log(x)+x) - x)\", \"x\", \"poly\")"],
"outputs": []
}
,
{
"cell_type" : "code",
"execution_count": null,
"metadata" : {
    "collapsed" : false
},
"source" : ["xf2testIntegrate(\"((x+1)*log(x)+(x^2+x))/(x^2*exp(x) - x)\", \"x\", \"poly\")"],
"outputs": []
}
,
{
"cell_type" : "code",
"execution_count": null,
"metadata" : {
    "collapsed" : false
},
"source" : ["testIntegrate(\"x/(c+b*%e^(d*x)+a*%e^(2*d*x))\", \"x\", \"poly\")"],
"outputs": []
}
,
{
"cell_type" : "markdown",
"metadata" : {},
"source" : [" the same, but written in a different way\n"]
}
,
{
"cell_type" : "code",
"execution_count": null,
"metadata" : {
    "collapsed" : false
},
"source" : ["testIntegrate(\"((-4*x-8)*log(x)+(-2*x^2-4*x))/(3*x*exp(2*log(x)+x)^2-x)\", \"x\", \"poly\")"],
"outputs": []
}
,
{
"cell_type" : "code",
"execution_count": null,
"metadata" : {
    "collapsed" : false
},
"source" : ["testIntegrate(\"((-4*x-8)*log(x)+(-2*x^2-4*x))/(3*x^3*exp(log(x)+x)^2-x)\", \"x\", \"poly\")"],
"outputs": []
}
,
{
"cell_type" : "markdown",
"metadata" : {},
"source" : [" the same, but written in a different way\n"]
}
,
{
"cell_type" : "code",
"execution_count": null,
"metadata" : {
    "collapsed" : false
},
"source" : ["testIntegrate(\"((8*x+16)*log(x)^2+(8*x^2+18*x+4)*log(x)+(2*x^3+5*x^2+2*x))/(x*exp(2*log(x)+x)+x)\", \"x\", \"poly\")"],
"outputs": []
}
,
{
"cell_type" : "code",
"execution_count": null,
"metadata" : {
    "collapsed" : false
},
"source" : ["testIntegrate(\"((8*x+16)*log(x)^2+(8*x^2+18*x+4)*log(x)+(2*x^3+5*x^2+2*x))/(a*x^2*exp(log(x)+x)+x)\", \"x\", \"poly\")"],
"outputs": []
}
,
{
"cell_type" : "code",
"execution_count": null,
"metadata" : {
    "collapsed" : false
},
"source" : ["testIntegrate(\"((8*x+16)*log(x)^2+(8*x^2+18*x+4)*log(x)+(2*x^3+5*x^2+2*x))/(a*exp(3*log(x)+x)+x)\", \"x\", \"poly\")"],
"outputs": []
}
,
{
"cell_type" : "code",
"execution_count": null,
"metadata" : {
    "collapsed" : false
},
"source" : ["testIntegrate(\"((-16*x-32)*log(x)^2+(-16*x^2-36*x-8)*log(x)+(-4*x^3-10*x^2-4*x))/(2*x^3*exp(log(x)+x)^2-x)\", \"x\", \"poly\")"],
"outputs": []
}
,
{
"cell_type" : "code",
"execution_count": null,
"metadata" : {
    "collapsed" : false
},
"source" : ["testIntegrate(\"x/sinh(x)\", \"x\", \"poly\")"],
"outputs": []
}
,
{
"cell_type" : "code",
"execution_count": null,
"metadata" : {
    "collapsed" : false
},
"source" : ["testIntegrate(\"x^2/sinh(x)\", \"x\", \"poly\")"],
"outputs": []
}
,
{
"cell_type" : "code",
"execution_count": null,
"metadata" : {
    "collapsed" : false
},
"source" : ["testIntegrate(\"x/sinh(x+2)\", \"x\", \"poly\")"],
"outputs": []
}
,
{
"cell_type" : "code",
"execution_count": null,
"metadata" : {
    "collapsed" : false
},
"source" : ["testIntegrate(\"x^2/sinh(x+2)\", \"x\", \"poly\")"],
"outputs": []
}
,
{
"cell_type" : "code",
"execution_count": null,
"metadata" : {
    "collapsed" : false
},
"source" : ["testIntegrate(\"x^2/sinh(a*x+b)\", \"x\", \"poly\")"],
"outputs": []
}
,
{
"cell_type" : "code",
"execution_count": null,
"metadata" : {
    "collapsed" : false
},
"source" : ["testIntegrate(\"x^2/(cosh(x) + 1)\", \"x\", \"poly\")"],
"outputs": []
}
,
{
"cell_type" : "code",
"execution_count": null,
"metadata" : {
    "collapsed" : false
},
"source" : ["testIntegrate(\"log(sinh(x))\", \"x\", \"poly\")"],
"outputs": []
}
,
{
"cell_type" : "code",
"execution_count": null,
"metadata" : {
    "collapsed" : false
},
"source" : ["testIntegrate(\"x*log(sinh(x))\", \"x\", \"poly\")"],
"outputs": []
}
,
{
"cell_type" : "code",
"execution_count": null,
"metadata" : {
    "collapsed" : false
},
"source" : ["testIntegrate(\"x*log(sinh(x+a))\", \"x\", \"poly\")"],
"outputs": []
}
,
{
"cell_type" : "code",
"execution_count": null,
"metadata" : {
    "collapsed" : false
},
"source" : ["testIntegrate(\"log(cosh(x)+1)\", \"x\", \"poly\")"],
"outputs": []
}
,
{
"cell_type" : "markdown",
"metadata" : {},
"source" : [" Rich\n not integrable, but similar\n"]
}
,
{
"cell_type" : "code",
"execution_count": null,
"metadata" : {
    "collapsed" : false
},
"source" : ["testIntegrate(\"((x+1)*log(sinh((x+1)/(x-1))))/(x^3-3*x^2+3*x-1)\", \"x\", \"poly\")"],
"outputs": []
}
,
{
"cell_type" : "code",
"execution_count": null,
"metadata" : {
    "collapsed" : false
},
"source" : ["testcaseNoClear(\"1/(x*log(a + b*x))\")"],
"outputs": []
}
,
{
"cell_type" : "code",
"execution_count": null,
"metadata" : {
    "collapsed" : false
},
"source" : ["testTrue(\"(integrate(1/(x*log(a + b*x)), x); true)\")"],
"outputs": []
}
,
{
"cell_type" : "markdown",
"metadata" : {},
"source" : [" Cherry, Caviness\n"]
}
,
{
"cell_type" : "code",
"execution_count": null,
"metadata" : {
    "collapsed" : false
},
"source" : ["testIntegrate(\"1/(x^2*log(a*x^n))\", \"x\", \"poly\")"],
"outputs": []
}
,
{
"cell_type" : "code",
"execution_count": null,
"metadata" : {
    "collapsed" : false
},
"source" : ["testIntegrate(\"x/log(x)^2\", \"x\", \"li\")"],
"outputs": []
}
,
{
"cell_type" : "code",
"execution_count": null,
"metadata" : {
    "collapsed" : false
},
"source" : ["testIntegrate(\"1/(log(x)+3)\", \"x\", \"li\")"],
"outputs": []
}
,
{
"cell_type" : "code",
"execution_count": null,
"metadata" : {
    "collapsed" : false
},
"source" : ["testIntegrate(\"x^2/log(x+1)\", \"x\", \"li\")"],
"outputs": []
}
,
{
"cell_type" : "code",
"execution_count": null,
"metadata" : {
    "collapsed" : false
},
"source" : ["testIntegrate(\"exp(x)/(x+1)^2\", \"x\", \"Ei\")"],
"outputs": []
}
,
{
"cell_type" : "markdown",
"metadata" : {},
"source" : [" Kelly Roach\n Ei integrable\n result is OK, but normalize fails to simplify it due to\n complex coefficients\n testIntegrate(\"cos(b*x)*atan(a/x^2)\", \"x\", \"Ei\")\n"]
}
,
{
"cell_type" : "code",
"execution_count": null,
"metadata" : {
    "collapsed" : false
},
"source" : ["testIntegrate(\"x^3/log(x^2 - 1)\", \"x\", \"li\")"],
"outputs": []
}
,
{
"cell_type" : "code",
"execution_count": null,
"metadata" : {
    "collapsed" : false
},
"source" : ["testcaseNoClear(\"cos(b*x)*atan(a/x^2)\")"],
"outputs": []
}
,
{
"cell_type" : "markdown",
"metadata" : {},
"source" : [" erf integrable\n"]
}
,
{
"cell_type" : "code",
"execution_count": null,
"metadata" : {
    "collapsed" : false
},
"source" : ["testTrue(\"(integrate(cos(b*x)*atan(a/x^2), x); true)\")"],
"outputs": []
}
,
{
"cell_type" : "markdown",
"metadata" : {},
"source" : [" Knowles\n"]
}
,
{
"cell_type" : "code",
"execution_count": null,
"metadata" : {
    "collapsed" : false
},
"source" : ["testIntegrate(\"cos(a*x^2+b*x)\", \"x\", \"erf\")"],
"outputs": []
}
,
{
"cell_type" : "markdown",
"metadata" : {},
"source" : [" D(-sqrt(%pi)*erf(1/sqrt(log(x))), x)\n"]
}
,
{
"cell_type" : "code",
"execution_count": null,
"metadata" : {
    "collapsed" : false
},
"source" : ["testIntegrate(\"exp(-x^2 - erf(x)^2)\", \"x\", \"erf\")"],
"outputs": []
}
,
{
"cell_type" : "markdown",
"metadata" : {},
"source" : [" the same, but written in a different way\n"]
}
,
{
"cell_type" : "code",
"execution_count": null,
"metadata" : {
    "collapsed" : false
},
"source" : ["xf2testIntegrate(\"exp(-1/log(x))/(x*log(x)*sqrt(log(x)))\", \"x\", \"erf\")"],
"outputs": []
}
,
{
"cell_type" : "code",
"execution_count": null,
"metadata" : {
    "collapsed" : false
},
"source" : ["xf2testIntegrate(\"exp(-(1/2)*log(log(x)) -1/log(x))/(x*log(x))\", \"x\", \"erf\")"],
"outputs": []
}
,
{
"cell_type" : "code",
"execution_count": null,
"metadata" : {
    "collapsed" : false
},
"source" : ["testIntegrate(\"x*exp(x^4)\", \"x\", \"erf\")"],
"outputs": []
}
,
{
"cell_type" : "code",
"execution_count": null,
"metadata" : {
    "collapsed" : false
},
"source" : ["testIntegrate(\"(2*x+1)*exp(-x^4-2*x^3-x^2)\", \"x\", \"erf\")"],
"outputs": []
}
,
{
"cell_type" : "markdown",
"metadata" : {},
"source" : [" sqrt(%pi)*D(erfi(x+1/x), x)/2\n"]
}
,
{
"cell_type" : "code",
"execution_count": null,
"metadata" : {
    "collapsed" : false
},
"source" : ["testIntegrate(\"(2*x+1)*exp(-x^4-2*x^3-x^2 + 2)\", \"x\", \"erf\")"],
"outputs": []
}
,
{
"cell_type" : "markdown",
"metadata" : {},
"source" : [" sqrt(%pi)*D(erfi(x+1/x^2, x)/2\n"]
}
,
{
"cell_type" : "code",
"execution_count": null,
"metadata" : {
    "collapsed" : false
},
"source" : ["testIntegrate(\"(x^2-1)*exp((x^4+2*x^2+1)/x^2)/x^2\", \"x\", \"erf\")"],
"outputs": []
}
,
{
"cell_type" : "markdown",
"metadata" : {},
"source" : [" sqrt(%pi)*D(erfi(1/x, x)/2\n"]
}
,
{
"cell_type" : "code",
"execution_count": null,
"metadata" : {
    "collapsed" : false
},
"source" : ["testIntegrate(\"(x^3-2)*exp((x^6+2*x^3+1)/x^4)/x^3\", \"x\", \"erf\")"],
"outputs": []
}
,
{
"cell_type" : "markdown",
"metadata" : {},
"source" : [" sqrt(%pi)*D(erfi(1/x), x)/2 + D(exp(1/x^2), x)\n"]
}
,
{
"cell_type" : "code",
"execution_count": null,
"metadata" : {
    "collapsed" : false
},
"source" : ["testIntegrate(\"exp(1/(x^2))/x^2\", \"x\", \"erf\")"],
"outputs": []
}
,
{
"cell_type" : "markdown",
"metadata" : {},
"source" : [" sqrt(%pi)*D(erfi(1/x), x)/2 + D(x*exp(1/x^2), x)\n"]
}
,
{
"cell_type" : "code",
"execution_count": null,
"metadata" : {
    "collapsed" : false
},
"source" : ["testIntegrate(\"-(x+2)*exp(1/(x^2))/x^3\", \"x\", \"erf\")"],
"outputs": []
}
,
{
"cell_type" : "markdown",
"metadata" : {},
"source" : [" sqrt(%pi)*D(erf(log(x) + 1), x)/2\n"]
}
,
{
"cell_type" : "code",
"execution_count": null,
"metadata" : {
    "collapsed" : false
},
"source" : ["testIntegrate(\"(x^2-3)*exp(1/(x^2))/x^2\", \"x\", \"erf\")"],
"outputs": []
}
,
{
"cell_type" : "markdown",
"metadata" : {},
"source" : [" + D(exp(-log(x)^2-2*log(x)-1), x)\n"]
}
,
{
"cell_type" : "code",
"execution_count": null,
"metadata" : {
    "collapsed" : false
},
"source" : ["testIntegrate(\"exp(-log(x)^2-2*log(x)-1)/x\", \"x\", \"erf\")"],
"outputs": []
}
,
{
"cell_type" : "markdown",
"metadata" : {},
"source" : [" sqrt(%pi)*D(erfi(x + log(x) + 1), x)/2\n"]
}
,
{
"cell_type" : "code",
"execution_count": null,
"metadata" : {
    "collapsed" : false
},
"source" : ["testIntegrate(\"(-2*log(x)-1)*exp(-log(x)^2-2*log(x)-1)/x\", \"x\", \"erf\")"],
"outputs": []
}
,
{
"cell_type" : "code",
"execution_count": null,
"metadata" : {
    "collapsed" : false
},
"source" : ["testIntegrate(\"(x+1)*exp(log(x)^2+(2*x+2)*log(x)+x^2+2*x+1)/x\", \"x\", \"erf\")"],
"outputs": []
}
,
{
"cell_type" : "code",
"execution_count": null,
"metadata" : {
    "collapsed" : false
},
"source" : ["testIntegrate(\"(x+1)*exp(log(x)^2+(2*x+2)*log(x)+x^2+2*x)/x\", \"x\", \"erf\")"],
"outputs": []
}
,
{
"cell_type" : "markdown",
"metadata" : {},
"source" : [" sqrt(%pi)*D(erfi(x + log(x)^2 + 1), x)/2\n"]
}
,
{
"cell_type" : "code",
"execution_count": null,
"metadata" : {
    "collapsed" : false
},
"source" : ["testIntegrate(\"(x^2+x)*exp(log(x)^2+2*x*log(x)+x^2+2*x)\", \"x\", \"erf\")"],
"outputs": []
}
,
{
"cell_type" : "code",
"execution_count": null,
"metadata" : {
    "collapsed" : false
},
"source" : ["testIntegrate(\"(2*log(x)+x)*exp(log(x)^4+(2*x+2)*log(x)^2+x^2+2*x+1)/x\",\n              \"x\", \"erf\")"],
"outputs": []
}
,
{
"cell_type" : "code",
"execution_count": null,
"metadata" : {
    "collapsed" : false
},
"source" : ["testIntegrate(\"(2*log(x)+x)*exp(log(x)^4+(2*x+2)*log(x)^2+x^2+2*x)/x\",\n              \"x\", \"erf\")"],
"outputs": []
}
,
{
"cell_type" : "code",
"execution_count": null,
"metadata" : {
    "collapsed" : false
},
"source" : ["testIntegrate(\"(2*log(x)+x)*exp(log(x)^4+(2*x+2)*log(x)^2-log(x)+x^2+2*x)\",\n              \"x\", \"erf\")"],
"outputs": []
}
,
{
"cell_type" : "code",
"execution_count": null,
"metadata" : {
    "collapsed" : false
},
"source" : ["testIntegrate(\"(2*x+2)*exp(-log(x)^2+(-2*x-2)*log(x)-x^2-2*x-1)/x\", \"x\", \"erf\")"],
"outputs": []
}
,
{
"cell_type" : "code",
"execution_count": null,
"metadata" : {
    "collapsed" : false
},
"source" : ["testIntegrate(\"(2*x+2)*exp(-log(x)^2+(-2*x-2)*log(x)-x^2-2*x)/x\", \"x\", \"erf\")"],
"outputs": []
}
,
{
"cell_type" : "code",
"execution_count": null,
"metadata" : {
    "collapsed" : false
},
"source" : ["testIntegrate(\"(2*x+2)*exp(-log(x)^2-2*x*log(x)-x^2-2*x)/x^3\", \"x\", \"erf\")"],
"outputs": []
}
,
{
"cell_type" : "code",
"execution_count": null,
"metadata" : {
    "collapsed" : false
},
"source" : ["testIntegrate(\"(exp(x)+1)*exp(-exp(x)^2-2*x*exp(x)-x^2)\", \"x\", \"erf\")"],
"outputs": []
}
,
{
"cell_type" : "code",
"execution_count": null,
"metadata" : {
    "collapsed" : false
},
"source" : ["testIntegrate(\"(1 + 1/exp(x))*exp(-exp(x)^2-2*x*exp(x)-x^2+x)\", \"x\", \"erf\")"],
"outputs": []
}
,
{
"cell_type" : "markdown",
"metadata" : {},
"source" : [" -sqrt(%pi)*D(erfi((exp(x) + x)/exp(x)), x)/2\n"]
}
,
{
"cell_type" : "code",
"execution_count": null,
"metadata" : {
    "collapsed" : false
},
"source" : ["testIntegrate(\"(exp(x)^2+exp(x))*exp(-exp(x)^2-2*x*exp(x)-x^2-x)\", \"x\", \"erf\")"],
"outputs": []
}
,
{
"cell_type" : "code",
"execution_count": null,
"metadata" : {
    "collapsed" : false
},
"source" : ["testIntegrate(\"(x-1)*exp((exp(2*x)+2*x*exp(x)+x^2)/exp(x)^2)/exp(x)\",\n              \"x\", \"erf\")"],
"outputs": []
}
,
{
"cell_type" : "markdown",
"metadata" : {},
"source" : [" need algebraic shifts\n"]
}
,
{
"cell_type" : "code",
"execution_count": null,
"metadata" : {
    "collapsed" : false
},
"source" : ["testIntegrate(\"(x-1)*exp(((1-x)*exp(2*x)+2*x*exp(x)+x^2)/exp(x)^2)\",\n              \"x\", \"erf\")"],
"outputs": []
}
,
{
"cell_type" : "code",
"execution_count": null,
"metadata" : {
    "collapsed" : false
},
"source" : ["testIntegrate(\"exp(b/x^2+a*x^2)\", \"x\", \"erf\")"],
"outputs": []
}
,
{
"cell_type" : "code",
"execution_count": null,
"metadata" : {
    "collapsed" : false
},
"source" : ["testIntegrate(\"exp(-x^3)\", \"x\", \"gamma\")"],
"outputs": []
}
,
{
"cell_type" : "code",
"execution_count": null,
"metadata" : {
    "collapsed" : false
},
"source" : ["testIntegrate(\"exp(x^3)\", \"x\", \"gamma\")"],
"outputs": []
}
,
{
"cell_type" : "code",
"execution_count": null,
"metadata" : {
    "collapsed" : false
},
"source" : ["testIntegrate(\"x*exp(-x^3)\", \"x\", \"gamma\")"],
"outputs": []
}
,
{
"cell_type" : "code",
"execution_count": null,
"metadata" : {
    "collapsed" : false
},
"source" : ["testIntegrate(\"x*exp(x^3)\", \"x\", \"gamma\")"],
"outputs": []
}
,
{
"cell_type" : "code",
"execution_count": null,
"metadata" : {
    "collapsed" : false
},
"source" : ["testIntegrate(\"(x+1)*exp(-x^3-3*x^2-3*x-1)\", \"x\", \"gamma\")"],
"outputs": []
}
,
{
"cell_type" : "code",
"execution_count": null,
"metadata" : {
    "collapsed" : false
},
"source" : ["testIntegrate(\"(x+1)*exp(-x^3-3*x^2-3*x)\", \"x\", \"gamma\")"],
"outputs": []
}
,
{
"cell_type" : "code",
"execution_count": null,
"metadata" : {
    "collapsed" : false
},
"source" : ["testIntegrate(\"exp(-x^3-3*x^2-3*x)\", \"x\", \"gamma\")"],
"outputs": []
}
,
{
"cell_type" : "code",
"execution_count": null,
"metadata" : {
    "collapsed" : false
},
"source" : ["testIntegrate(\"(x+1)*exp(x^3+3*x^2+3*x)\", \"x\", \"gamma\")"],
"outputs": []
}
,
{
"cell_type" : "markdown",
"metadata" : {},
"source" : [" -(D(Gamma(1/3, x^3), x) + 3*D(x*exp(-x^3), x))/9\n"]
}
,
{
"cell_type" : "code",
"execution_count": null,
"metadata" : {
    "collapsed" : false
},
"source" : ["testIntegrate(\"exp(x^3+3*x^2+3*x)\", \"x\", \"gamma\")"],
"outputs": []
}
,
{
"cell_type" : "code",
"execution_count": null,
"metadata" : {
    "collapsed" : false
},
"source" : ["testIntegrate(\"x^3*exp(-x^3)\", \"x\", \"gamma\")"],
"outputs": []
}
,
{
"cell_type" : "code",
"execution_count": null,
"metadata" : {
    "collapsed" : false
},
"source" : ["testIntegrate(\"x^3*exp(x^3)\", \"x\", \"gamma\")"],
"outputs": []
}
,
{
"cell_type" : "code",
"execution_count": null,
"metadata" : {
    "collapsed" : false
},
"source" : ["testIntegrate(\"sin(x)/x\", \"x\", \"Ei\")"],
"outputs": []
}
,
{
"cell_type" : "code",
"execution_count": null,
"metadata" : {
    "collapsed" : false
},
"source" : ["testIntegrate(\"cos(x)^2/x^3\", \"x\", \"Ei\")"],
"outputs": []
}
,
{
"cell_type" : "code",
"execution_count": null,
"metadata" : {
    "collapsed" : false
},
"source" : ["testIntegrate(\"(x^2+3)*exp(x)/(x^2+3*x+2)\", \"x\", \"Ei\")"],
"outputs": []
}
,
{
"cell_type" : "code",
"execution_count": null,
"metadata" : {
    "collapsed" : false
},
"source" : ["testIntegrate(\"((x + 1)*exp(x)*log(x) - exp(x))/(log(x)^2*log(x*exp(x)/log(x)))\", \"x\", \"li\")"],
"outputs": []
}
,
{
"cell_type" : "code",
"execution_count": null,
"metadata" : {
    "collapsed" : false
},
"source" : ["testIntegrate(\"1/(log(x)*log(li(x)))\", \"x\", \"li\")"],
"outputs": []
}
,
{
"cell_type" : "markdown",
"metadata" : {},
"source" : ["\n"]
}
,
{
"cell_type" : "code",
"execution_count": null,
"metadata" : {
    "collapsed" : false
},
"source" : ["testIntegrate(\"log(1 + log(z))\", \"z\", \"li\")"],
"outputs": []
}
,
{
"cell_type" : "code",
"execution_count": null,
"metadata" : {
    "collapsed" : false
},
"source" : ["testIntegrate(\"log(sin(x))\", \"x\", \"poly\")"],
"outputs": []
}
,
{
"cell_type" : "code",
"execution_count": null,
"metadata" : {
    "collapsed" : false
},
"source" : ["testIntegrate(\"log(cosh(x))\", \"x\", \"poly\")"],
"outputs": []
}
,
{
"cell_type" : "markdown",
"metadata" : {},
"source" : [" We convert cos to tan, but tangent case is unhandled\n"]
}
,
{
"cell_type" : "code",
"execution_count": null,
"metadata" : {
    "collapsed" : false
},
"source" : ["testIntegrate(\"x/cosh(x)\", \"x\", \"poly\")"],
"outputs": []
}
,
{
"cell_type" : "markdown",
"metadata" : {},
"source" : [" Few examples of Si and Ci\n"]
}
,
{
"cell_type" : "code",
"execution_count": null,
"metadata" : {
    "collapsed" : false
},
"source" : ["testIntegrate(\"x/cos(x)\", \"x\", \"poly\")"],
"outputs": []
}
,
{
"cell_type" : "code",
"execution_count": null,
"metadata" : {
    "collapsed" : false
},
"source" : ["testIntegrate(\"sin(x+1)/(x+1)\", \"x\", \"SiCi\")"],
"outputs": []
}
,
{
"cell_type" : "code",
"execution_count": null,
"metadata" : {
    "collapsed" : false
},
"source" : ["testIntegrate(\"cos(x+1)/(x+1)\", \"x\", \"SiCi\")"],
"outputs": []
}
,
{
"cell_type" : "code",
"execution_count": null,
"metadata" : {
    "collapsed" : false
},
"source" : ["testIntegrate(\"-sin(1/x)/x\", \"x\", \"SiCi\")"],
"outputs": []
}
,
{
"cell_type" : "code",
"execution_count": null,
"metadata" : {
    "collapsed" : false
},
"source" : ["testIntegrate(\"-cos(1/x)/x\", \"x\", \"SiCi\")"],
"outputs": []
}
,
{
"cell_type" : "code",
"execution_count": null,
"metadata" : {
    "collapsed" : false
},
"source" : ["testIntegrate(\"((-x^3+2)*sin((x^2)/(x^3+1)))/(x^4+x)\", \"x\", \"SiCi\")"],
"outputs": []
}
,
{
"cell_type" : "code",
"execution_count": null,
"metadata" : {
    "collapsed" : false
},
"source" : ["testIntegrate(\"((-1*x^3+2)*cos((x^2)/(x^3+1)))/(x^4+x)\", \"x\", \"SiCi\")"],
"outputs": []
}
,
{
"cell_type" : "code",
"execution_count": null,
"metadata" : {
    "collapsed" : false
},
"source" : ["testIntegrate(\"(1 - exp(-x^2))^2/x^3\", \"x\", \"Ei\")"],
"outputs": []
}
,
{
"cell_type" : "code",
"execution_count": null,
"metadata" : {
    "collapsed" : false
},
"source" : ["testIntegrate(\"exp(x)/x + (exp(x) - 1)/x^2\", \"x\", \"Ei\")"],
"outputs": []
}
,
{
"cell_type" : "code",
"execution_count": null,
"metadata" : {
    "collapsed" : false
},
"source" : ["testIntegrate(\"((-x^2+2)*exp(x/(x^2+2)))/(x^3+2*x)\", \"x\", \"Ei\")"],
"outputs": []
}
,
{
"cell_type" : "code",
"execution_count": null,
"metadata" : {
    "collapsed" : false
},
"source" : ["testIntegrate(\"(2*x^4-x^3+3*x^2+2*x+2)*exp(x/(x^2+2))/(x^3+2*x)\", \"x\", \"Ei\")"],
"outputs": []
}
,
{
"cell_type" : "code",
"execution_count": null,
"metadata" : {
    "collapsed" : false
},
"source" : ["testIntegrate(\"(4*x^3+4*x)*exp(x^2+1)/(x^4+2*x^2-1)\", \"x\", \"Ei\")"],
"outputs": []
}
,
{
"cell_type" : "code",
"execution_count": null,
"metadata" : {
    "collapsed" : false
},
"source" : ["testIntegrate(\"((4*log(x)+x)*exp(2*log(x)^2+x))/(2*x*log(x)^2+x^2)\", \"x\", \"Ei\")"],
"outputs": []
}
,
{
"cell_type" : "code",
"execution_count": null,
"metadata" : {
    "collapsed" : false
},
"source" : ["testIntegrate(\"((log(x)+1)*exp(x*log(x)))/(x*log(x))\", \"x\", \"Ei\")"],
"outputs": []
}
,
{
"cell_type" : "code",
"execution_count": null,
"metadata" : {
    "collapsed" : false
},
"source" : ["testIntegrate(\"((exp(x)+1)*exp(exp(x)+x))/(exp(x)+x)\", \"x\", \"Ei\")"],
"outputs": []
}
,
{
"cell_type" : "code",
"execution_count": null,
"metadata" : {
    "collapsed" : false
},
"source" : ["testIntegrate(\"exp(-x^2)*exp(erf(x))/erf(x)\", \"x\", \"Ei\")"],
"outputs": []
}
,
{
"cell_type" : "code",
"execution_count": null,
"metadata" : {
    "collapsed" : false
},
"source" : ["testIntegrate(\"((tan(x)^2+1)*exp(tan(x)+1))/(tan(x)+1)\", \"x\", \"Ei\")"],
"outputs": []
}
,
{
"cell_type" : "code",
"execution_count": null,
"metadata" : {
    "collapsed" : false
},
"source" : ["testIntegrate(\"(x*exp(x+1))/(x^2-1)\", \"x\", \"Ei\")"],
"outputs": []
}
,
{
"cell_type" : "code",
"execution_count": null,
"metadata" : {
    "collapsed" : false
},
"source" : ["testIntegrate(\"(exp(x+log(x)+1))/(x^2-1)\", \"x\", \"Ei\")"],
"outputs": []
}
,
{
"cell_type" : "code",
"execution_count": null,
"metadata" : {
    "collapsed" : false
},
"source" : ["f1 := (log(x)^2 + x)*exp(x+log(x)+1)"],
"outputs": []
}
,
{
"cell_type" : "code",
"execution_count": null,
"metadata" : {
    "collapsed" : false
},
"source" : ["testIntegrate(\"(exp(x+log(x)+1))/(x^2-1)+D(f1, x)\", \"x\", \"Ei\")"],
"outputs": []
}
,
{
"cell_type" : "code",
"execution_count": null,
"metadata" : {
    "collapsed" : false
},
"source" : ["testIntegrate(\"exp(x^2 - log(x)) + D(log(x)*exp(x^2 - log(x)), x)\", \"x\", \"Ei\")"],
"outputs": []
}
,
{
"cell_type" : "code",
"execution_count": null,
"metadata" : {
    "collapsed" : false
},
"source" : ["testIntegrate(\"(x*log(x)+(x^3+2*x^2-1))*exp(log(x)+x+1)/((x^3-x)*log(x)+(x^4+x^3-x^2-x))\", \"x\", \"Ei\")"],
"outputs": []
}
,
{
"cell_type" : "code",
"execution_count": null,
"metadata" : {
    "collapsed" : false
},
"source" : ["testIntegrate(\"(x*log(x)+(x^3+2*x^2-1))*exp(x+1)/((x^2-1)*log(x)+(x^3+x^2-x-1))\", \"x\", \"Ei\")"],
"outputs": []
}
,
{
"cell_type" : "code",
"execution_count": null,
"metadata" : {
    "collapsed" : false
},
"source" : ["testIntegrate(\"(x*log(x)+(x^3+2*x^2-1))*exp(log(log(x)) + x+1)/((x^2-1)*log(x)^2+(x^3+x^2-x-1)*log(x))\", \"x\", \"Ei\")"],
"outputs": []
}
,
{
"cell_type" : "code",
"execution_count": null,
"metadata" : {
    "collapsed" : false
},
"source" : ["testIntegrate(\"(4*x^3*exp(x^2+1))/(x^4-1)\", \"x\", \"Ei\")"],
"outputs": []
}
,
{
"cell_type" : "code",
"execution_count": null,
"metadata" : {
    "collapsed" : false
},
"source" : ["testIntegrate(\"(exp(-x)-1)*exp(exp(-x)+x)/(exp(-x)+x)\", \"x\", \"Ei\")"],
"outputs": []
}
,
{
"cell_type" : "code",
"execution_count": null,
"metadata" : {
    "collapsed" : false
},
"source" : ["testIntegrate(\"(((x+1)*exp(-x)+1)*exp(x/(exp(-x)+1)))/(x*exp(-x)+x)\", \"x\", \"Ei\")"],
"outputs": []
}
,
{
"cell_type" : "code",
"execution_count": null,
"metadata" : {
    "collapsed" : false
},
"source" : ["testIntegrate(\"((-exp(-x)^4+(-x-1)*exp(-x)^3+(-x-1)*exp(-x)^2+(x+1)*exp(-x)-x)*exp(exp(-x)+x))/(exp(-x)^2-x^2)\", \"x\", \"Ei\")"],
"outputs": []
}
,
{
"cell_type" : "code",
"execution_count": null,
"metadata" : {
    "collapsed" : false
},
"source" : ["testIntegrate(\"(exp(x)^3+(2*x+2)*exp(x)^2+(x^2+3*x+2)*exp(x)+x^2+x+1)*exp(exp(x)+x)/(exp(x)+x)\", \"x\", \"Ei\")"],
"outputs": []
}
,
{
"cell_type" : "code",
"execution_count": null,
"metadata" : {
    "collapsed" : false
},
"source" : ["testIntegrate(\"(4*x^3+4*x)*exp(x^2+1)/(x^4+2*x^2-1)\", \"x\", \"Ei\")"],
"outputs": []
}
,
{
"cell_type" : "code",
"execution_count": null,
"metadata" : {
    "collapsed" : false
},
"source" : ["testIntegrate(\"((-x^2-x)*exp(-x)-x)*exp(x/(exp(-x)+1))/((2*exp(-x)^3+6*exp(-x)^2+(-x^2+6)*exp(-x)+(-x^2+2)))\", \"x\", \"Ei\")"],
"outputs": []
}
,
{
"cell_type" : "markdown",
"metadata" : {},
"source" : [" the same written in different way\n"]
}
,
{
"cell_type" : "code",
"execution_count": null,
"metadata" : {
    "collapsed" : false
},
"source" : ["testIntegrate(\"(2*exp(x)+1)*exp(exp(x)^2+exp(x))/(exp(x)+1)\", \"x\", \"Ei\")"],
"outputs": []
}
,
{
"cell_type" : "markdown",
"metadata" : {},
"source" : [" f0 := D(Ei(log(x)^2), x)\n"]
}
,
{
"cell_type" : "code",
"execution_count": null,
"metadata" : {
    "collapsed" : false
},
"source" : ["testIntegrate(\"(2*exp(x) + 1)*exp(exp(x))*exp(exp(2*x))/(exp(x)+1)\", \"x\", \"Ei\")"],
"outputs": []
}
,
{
"cell_type" : "markdown",
"metadata" : {},
"source" : [" f1 := D(Ei(log(x)*(log(x)+1)), x)\n"]
}
,
{
"cell_type" : "code",
"execution_count": null,
"metadata" : {
    "collapsed" : false
},
"source" : ["testIntegrate(\"2*exp(log(x)^2+2*log(x))/(x^3*log(x))\", \"x\", \"Ei\")"],
"outputs": []
}
,
{
"cell_type" : "markdown",
"metadata" : {},
"source" : [" f2 := D(Ei((log(x)+1)^2), x)/exp(1)\n"]
}
,
{
"cell_type" : "code",
"execution_count": null,
"metadata" : {
    "collapsed" : false
},
"source" : ["testIntegrate(\"(2*log(x)+1)*exp(log(x)^2+2*log(x))/(x^2*log(x)^2+x^2*log(x))\", \"x\", \"Ei\")"],
"outputs": []
}
,
{
"cell_type" : "markdown",
"metadata" : {},
"source" : [" f3 := D(Ei((log(x)+1)*(log(x)+2)), x)/exp(2)\n"]
}
,
{
"cell_type" : "code",
"execution_count": null,
"metadata" : {
    "collapsed" : false
},
"source" : ["testIntegrate(\"2*exp(log(x)^2+2*log(x))/(x*log(x)+x)\", \"x\", \"Ei\")"],
"outputs": []
}
,
{
"cell_type" : "markdown",
"metadata" : {},
"source" : [" f1 + f3\n"]
}
,
{
"cell_type" : "code",
"execution_count": null,
"metadata" : {
    "collapsed" : false
},
"source" : ["testIntegrate(\"(2*log(x)+3)*x*exp(log(x)^2+2*log(x))/(x*log(x)^2+3*x*log(x)+2*x)\", \"x\", \"Ei\")"],
"outputs": []
}
,
{
"cell_type" : "markdown",
"metadata" : {},
"source" : [" f1 + f2\n"]
}
,
{
"cell_type" : "code",
"execution_count": null,
"metadata" : {
    "collapsed" : false
},
"source" : ["testIntegrate(\"(((2*x^2+2)*log(x)^2+(3*x^2+5)*log(x)+2)*exp(log(x)^2+2*log(x)))/(x^2*log(x)^3+3*x^2*log(x)^2+2*x^2*log(x))\", \"x\", \"Ei\")"],
"outputs": []
}
,
{
"cell_type" : "markdown",
"metadata" : {},
"source" : [" f0 + f1 + f2 + f3\n"]
}
,
{
"cell_type" : "code",
"execution_count": null,
"metadata" : {
    "collapsed" : false
},
"source" : ["testIntegrate(\"((2*x^2+2*x+2)*log(x)+(x+2))*exp(log(x)^2+2*log(x))/(x^3*log(x)^2+x^3*log(x))\", \"x\", \"Ei\")"],
"outputs": []
}
,
{
"cell_type" : "code",
"execution_count": null,
"metadata" : {
    "collapsed" : false
},
"source" : ["testIntegrate(\"((2*x^3+2*x^2+2*x+2)*log(x)^2+(3*x^3+4*x^2+5*x+6)*log(x)+(2*x+4))*exp(log(x)^2+2*log(x))/(x^3*log(x)^3+3*x^3*log(x)^2+2*x^3*log(x))\", \"x\", \"Ei\")"],
"outputs": []
}
,
{
"cell_type" : "code",
"execution_count": null,
"metadata" : {
    "collapsed" : false
},
"source" : ["testIntegrate(\"((2*x^3-x^2-6*x)/(x^2+3*x+2) + (2*x-3)/(log(x)+1))*exp(x*log(x)+x)\", \"x\", \"Ei\")"],
"outputs": []
}
,
{
"cell_type" : "code",
"execution_count": null,
"metadata" : {
    "collapsed" : false
},
"source" : ["testIntegrate(\"(x*log(x)^2+3*x*log(x)+2*x)*exp(x*log(x)+x)/(x^2*log(x)^2+2*x^2*log(x)+x^2-2)\", \"x\", \"Ei\")"],
"outputs": []
}
,
{
"cell_type" : "code",
"execution_count": null,
"metadata" : {
    "collapsed" : false
},
"source" : ["testIntegrate(\"((2*x^2+2*x)*log(x)^2+(2*x^2+4*x+2)*log(x))*exp(x*log(x))/((x^2+2*x+1)*log(x)^2-2)\", \"x\", \"Ei\")"],
"outputs": []
}
,
{
"cell_type" : "code",
"execution_count": null,
"metadata" : {
    "collapsed" : false
},
"source" : ["testIntegrate(\"((2*x^2+2*x)*log(x)^2+(2*x^2+4*x+2)*log(x))*x^x/((x^2+2*x+1)*log(x)^2-2)\", \"x\", \"Ei\")"],
"outputs": []
}
,
{
"cell_type" : "code",
"execution_count": null,
"metadata" : {
    "collapsed" : false
},
"source" : ["testIntegrate(\"(a*x+a)*exp(a*log(x))/(a*x*log(x)+b*x)\", \"x\", \"Ei\")"],
"outputs": []
}
,
{
"cell_type" : "code",
"execution_count": null,
"metadata" : {
    "collapsed" : false
},
"source" : ["testIntegrate(\"(a*x+a)*exp(a*log(x))/(a*x*log(x)+sqrt(3)*x)\", \"x\", \"Ei\")"],
"outputs": []
}
,
{
"cell_type" : "code",
"execution_count": null,
"metadata" : {
    "collapsed" : false
},
"source" : ["testIntegrate(\"(2*a^2*x+2*a^2)*log(x)*exp(a*log(x))/(a^2*x*log(x)^2-3*x)\", \"x\", \"Ei\")"],
"outputs": []
}
,
{
"cell_type" : "markdown",
"metadata" : {},
"source" : [" exp(-2)*D(Ei((log(x)^2 + 2)*(log(x) + 1)), x)\n"]
}
,
{
"cell_type" : "code",
"execution_count": null,
"metadata" : {
    "collapsed" : false
},
"source" : ["testIntegrate(\"(2*log(x)*exp(2^(1/2)*log(x)))/(x*log(x)^2-3*x)\", \"x\", \"Ei\")"],
"outputs": []
}
,
{
"cell_type" : "markdown",
"metadata" : {},
"source" : [" exp(-3)*D(Ei((log(x)^2 + 3)*(log(x) + 1)), x)\n"]
}
,
{
"cell_type" : "code",
"execution_count": null,
"metadata" : {
    "collapsed" : false
},
"source" : ["testIntegrate(\"(3*log(x)^2+2*log(x)+2)*exp(log(x)^3+log(x)^2+2*log(x))/(x*log(x)^3+x*log(x)^2+2*x*log(x)+2*x)\", \"x\", \"Ei\")"],
"outputs": []
}
,
{
"cell_type" : "markdown",
"metadata" : {},
"source" : [" sum\n"]
}
,
{
"cell_type" : "code",
"execution_count": null,
"metadata" : {
    "collapsed" : false
},
"source" : ["testIntegrate(\"(3*log(x)^2+2*log(x)+3)*x*exp(log(x)^3+log(x)^2+2*log(x))/(x*log(x)^3+x*log(x)^2+3*x*log(x)+3*x)\", \"x\", \"Ei\")"],
"outputs": []
}
,
{
"cell_type" : "markdown",
"metadata" : {},
"source" : [" D(Ei((log(x) + 1)/log(x)), x)\n"]
}
,
{
"cell_type" : "code",
"execution_count": null,
"metadata" : {
    "collapsed" : false
},
"source" : ["testIntegrate(\"((3*x+3)*log(x)^4+(2*x+2)*log(x)^3+(9*x+11)*log(x)^2+(4*x+6)*log(x)+(6*x+6))*exp(log(x)^3+log(x)^2+2*log(x))/(x*log(x)^5+x*log(x)^4+5*x*log(x)^3+5*x*log(x)^2+6*x*log(x)+6*x)\", \"x\", \"Ei\")"],
"outputs": []
}
,
{
"cell_type" : "markdown",
"metadata" : {},
"source" : [" exp(1)*D(Ei((log(x) + 1)/log(x) - (log(x) + 1)), x)\n"]
}
,
{
"cell_type" : "code",
"execution_count": null,
"metadata" : {
    "collapsed" : false
},
"source" : ["testIntegrate(\"-exp((log(x)+1)/log(x))/(x*log(x)^2+x*log(x))\", \"x\", \"Ei\")"],
"outputs": []
}
,
{
"cell_type" : "markdown",
"metadata" : {},
"source" : [" sum\n"]
}
,
{
"cell_type" : "code",
"execution_count": null,
"metadata" : {
    "collapsed" : false
},
"source" : ["testIntegrate(\"(log(x)^2+1)*exp((log(x)+1)/log(x))/(x^2*log(x)^3-x^2*log(x))\", \"x\", \"Ei\")"],
"outputs": []
}
,
{
"cell_type" : "code",
"execution_count": null,
"metadata" : {
    "collapsed" : false
},
"source" : ["testIntegrate(\"(log(x)^2-x*log(x)+x+1)*exp((log(x)+1)/log(x))/(x^2*log(x)^3-x^2*log(x))\", \"x\", \"Ei\")"],
"outputs": []
}
,
{
"cell_type" : "markdown",
"metadata" : {},
"source" : [" special Ei-s\n"]
}
,
{
"cell_type" : "code",
"execution_count": null,
"metadata" : {
    "collapsed" : false
},
"source" : ["testIntegrate(\"cosh(x^(1/2))-acoth(1-x)\", \"x\", \"Ei\")"],
"outputs": []
}
,
{
"cell_type" : "markdown",
"metadata" : {},
"source" : [" exp(1)*D(Ei(-exp(x)/(exp(x)+1)), x)\n"]
}
,
{
"cell_type" : "code",
"execution_count": null,
"metadata" : {
    "collapsed" : false
},
"source" : ["testIntegrate(\"exp(x^r+1)/x\", \"x\", \"Ei\")"],
"outputs": []
}
,
{
"cell_type" : "markdown",
"metadata" : {},
"source" : [" D(Ei(1/(exp(x)+1)), x)\n"]
}
,
{
"cell_type" : "code",
"execution_count": null,
"metadata" : {
    "collapsed" : false
},
"source" : ["testIntegrate(\"exp(1/(exp(x)+1))/(exp(x)+1)\", \"x\", \"Ei\")"],
"outputs": []
}
,
{
"cell_type" : "markdown",
"metadata" : {},
"source" : [" sum\n"]
}
,
{
"cell_type" : "code",
"execution_count": null,
"metadata" : {
    "collapsed" : false
},
"source" : ["testIntegrate(\"exp(x)*exp(1/(exp(x)+1))/(exp(x)+1)\", \"x\", \"Ei\")"],
"outputs": []
}
,
{
"cell_type" : "code",
"execution_count": null,
"metadata" : {
    "collapsed" : false
},
"source" : ["testIntegrate(\"exp(1/(exp(x)+1))\", \"x\", \"Ei\")"],
"outputs": []
}
,
{
"cell_type" : "code",
"execution_count": null,
"metadata" : {
    "collapsed" : false
},
"source" : ["testIntegrate(\"exp(x)*exp(1/(exp(x)+1)-x)\", \"x\", \"Ei\")"],
"outputs": []
}
,
{
"cell_type" : "code",
"execution_count": null,
"metadata" : {
    "collapsed" : false
},
"source" : ["testIntegrate(\"log(x)*exp((log(x)+x+1)/(log(x)+1))/(x*log(x)+x)\", \"x\", \"Ei\")"],
"outputs": []
}
,
{
"cell_type" : "code",
"execution_count": null,
"metadata" : {
    "collapsed" : false
},
"source" : ["testIntegrate(\"log(x)*exp((log(x)+x+1)/(log(x)+1)-log(x))/(log(x)+1)\",\n              \"x\", \"Ei\")"],
"outputs": []
}
,
{
"cell_type" : "code",
"execution_count": null,
"metadata" : {
    "collapsed" : false
},
"source" : ["testIntegrate(\"f^(a + b/x^2)/x\", \"x\", \"Ei\")"],
"outputs": []
}
,
{
"cell_type" : "code",
"execution_count": null,
"metadata" : {
    "collapsed" : false
},
"source" : ["testIntegrate(\"exp(a + b/x^2)/x\", \"x\", \"Ei\")"],
"outputs": []
}
,
{
"cell_type" : "code",
"execution_count": null,
"metadata" : {
    "collapsed" : false
},
"source" : ["testIntegrate(\"(x^2+x-2*b)*exp(a + b/x^2)/x^2\", \"x\", \"Ei\")"],
"outputs": []
}
,
{
"cell_type" : "markdown",
"metadata" : {},
"source" : [" -D(Ei(1/(x^3+x+5)), x)\n"]
}
,
{
"cell_type" : "code",
"execution_count": null,
"metadata" : {
    "collapsed" : false
},
"source" : ["testIntegrate(\"(x^2+3*x-2*b+2)*exp((a*x^2+2*a*x+b+1)/(x^2+2*x+1))/(x^2+2*x+1)\", \"x\", \"Ei_erf\")"],
"outputs": []
}
,
{
"cell_type" : "markdown",
"metadata" : {},
"source" : [" D(Ei(1/(x^3+x+5)), x) + D(x*exp(1/(x^3+x+5))\n"]
}
,
{
"cell_type" : "code",
"execution_count": null,
"metadata" : {
    "collapsed" : false
},
"source" : ["testIntegrate(\"(3*x^2+1)*exp(1/(x^3+x+5))/(x^3+x+5)\", \"x\", \"Ei\")"],
"outputs": []
}
,
{
"cell_type" : "markdown",
"metadata" : {},
"source" : [" D(Ei(1/(x^3+x+5)), x) + D((x^3+x+5)*exp(1/(x^3+x+5)), x)\n"]
}
,
{
"cell_type" : "code",
"execution_count": null,
"metadata" : {
    "collapsed" : false
},
"source" : ["testIntegrate(\"((x^6-3*x^5+2*x^4+3*x^3-14*x^2+8*x+20)*exp(1/(x^3+x+5)))/(x^6+2*x^4+10*x^3+x^2+10*x+25)\", \"x\", \"Ei\")"],
"outputs": []
}
,
{
"cell_type" : "markdown",
"metadata" : {},
"source" : [" -exp(1)*D(Ei(1/(x^3+x+5)), x)\n"]
}
,
{
"cell_type" : "code",
"execution_count": null,
"metadata" : {
    "collapsed" : false
},
"source" : ["testIntegrate(\"((3*x^5+4*x^3+9*x^2+x+3)*exp(1/(x^3+x+5)))/(x^3+x+5)\",\n                 \"x\", \"Ei\")"],
"outputs": []
}
,
{
"cell_type" : "markdown",
"metadata" : {},
"source" : ["\n"]
}
,
{
"cell_type" : "code",
"execution_count": null,
"metadata" : {
    "collapsed" : false
},
"source" : ["testIntegrate(\"(3*x^2+1)*exp((x^3+x+6)/(x^3+x+5))/(x^3+x+5)\", \"x\", \"Ei\")"],
"outputs": []
}
,
{
"cell_type" : "code",
"execution_count": null,
"metadata" : {
    "collapsed" : false
},
"source" : ["testIntegrate(\"exp(x)*exp(exp(x) - x)\", \"x\", \"Ei\")"],
"outputs": []
}
,
{
"cell_type" : "code",
"execution_count": null,
"metadata" : {
    "collapsed" : false
},
"source" : ["testIntegrate(\"exp(-x)*exp(exp(x) +x)\", \"x\", \"Ei\")"],
"outputs": []
}
,
{
"cell_type" : "code",
"execution_count": null,
"metadata" : {
    "collapsed" : false
},
"source" : ["testIntegrate(\n    \"(exp(-x)*exp(x)^5*exp(exp(x)+x)+(exp(x)-5)*exp(exp(x)))/exp(x)^5\",\n      \"x\", \"Ei\")"],
"outputs": []
}
,
{
"cell_type" : "markdown",
"metadata" : {},
"source" : [" Ei + erf\n"]
}
,
{
"cell_type" : "code",
"execution_count": null,
"metadata" : {
    "collapsed" : false
},
"source" : ["testIntegrate(\"((exp(x)-5)*exp(exp(x))+exp(x)^6*exp(exp(x)-x))/exp(x)^5\",\n   \"x\", \"Ei\")"],
"outputs": []
}
,
{
"cell_type" : "markdown",
"metadata" : {},
"source" : [" Fresnel integrals\n"]
}
,
{
"cell_type" : "code",
"execution_count": null,
"metadata" : {
    "collapsed" : false
},
"source" : ["testIntegrate(\"(1 + exp(x))*exp(exp(x)^2)\", \"x\", \"Ei_erf\")"],
"outputs": []
}
,
{
"cell_type" : "code",
"execution_count": null,
"metadata" : {
    "collapsed" : false
},
"source" : ["testIntegrate(\"sin(x^2)\", \"x\", \"fresnel\")"],
"outputs": []
}
,
{
"cell_type" : "code",
"execution_count": null,
"metadata" : {
    "collapsed" : false
},
"source" : ["testIntegrate(\"cos(x^2)\", \"x\", \"fresnel\")"],
"outputs": []
}
,
{
"cell_type" : "code",
"execution_count": null,
"metadata" : {
    "collapsed" : false
},
"source" : ["testIntegrate(\"x*sin(x^2)\", \"x\", \"fresnel\")"],
"outputs": []
}
,
{
"cell_type" : "code",
"execution_count": null,
"metadata" : {
    "collapsed" : false
},
"source" : ["testIntegrate(\"x*cos(x^2)\", \"x\", \"fresnel\")"],
"outputs": []
}
,
{
"cell_type" : "code",
"execution_count": null,
"metadata" : {
    "collapsed" : false
},
"source" : ["testIntegrate(\"D(fresnelS(x^2+1), x)\", \"x\", \"fresnel\")"],
"outputs": []
}
,
{
"cell_type" : "code",
"execution_count": null,
"metadata" : {
    "collapsed" : false
},
"source" : ["testIntegrate(\"D(fresnelC(x^2+1), x)\", \"x\", \"fresnel\")"],
"outputs": []
}
,
{
"cell_type" : "code",
"execution_count": null,
"metadata" : {
    "collapsed" : false
},
"source" : ["testIntegrate(\"D(fresnelS(a*x + b), x)\", \"x\", \"fresnel\")"],
"outputs": []
}
,
{
"cell_type" : "code",
"execution_count": null,
"metadata" : {
    "collapsed" : false
},
"source" : ["testIntegrate(\"D(fresnelC(a*x + b), x)\", \"x\", \"fresnel\")"],
"outputs": []
}
,
{
"cell_type" : "code",
"execution_count": null,
"metadata" : {
    "collapsed" : false
},
"source" : ["testIntegrate(\"D(fresnelS(x^4), x)\", \"x\", \"fresnel\")"],
"outputs": []
}
,
{
"cell_type" : "code",
"execution_count": null,
"metadata" : {
    "collapsed" : false
},
"source" : ["testIntegrate(\"D(fresnelC(x^4), x)\", \"x\", \"fresnel\")"],
"outputs": []
}
,
{
"cell_type" : "code",
"execution_count": null,
"metadata" : {
    "collapsed" : false
},
"source" : ["testIntegrate(\"D(fresnelS((a*x + b)/(c*x + d)), x)\", \"x\", \"fresnel\")"],
"outputs": []
}
,
{
"cell_type" : "code",
"execution_count": null,
"metadata" : {
    "collapsed" : false
},
"source" : ["testIntegrate(\"D(fresnelC((a*x + b)/(c*x + d)), x)\", \"x\", \"fresnel\")"],
"outputs": []
}
,
{
"cell_type" : "code",
"execution_count": null,
"metadata" : {
    "collapsed" : false
},
"source" : ["testIntegrate(\"D(fresnelS(x^2+x), x)\", \"x\", \"fresnel\")"],
"outputs": []
}
,
{
"cell_type" : "markdown",
"metadata" : {},
"source" : [" mixed cases\n"]
}
,
{
"cell_type" : "code",
"execution_count": null,
"metadata" : {
    "collapsed" : false
},
"source" : ["testIntegrate(\"D(fresnelC(x^2+x), x)\", \"x\", \"fresnel\")"],
"outputs": []
}
,
{
"cell_type" : "code",
"execution_count": null,
"metadata" : {
    "collapsed" : false
},
"source" : ["testIntegrate(\"(x-2)*exp(-x^2)/x\", \"x\", \"spec\")"],
"outputs": []
}
,
{
"cell_type" : "markdown",
"metadata" : {},
"source" : [" D(Ei(x+li(x)) + li(x)*exp(x+li(x)), x)\n"]
}
,
{
"cell_type" : "code",
"execution_count": null,
"metadata" : {
    "collapsed" : false
},
"source" : ["testIntegrate(\"(2*x+4)*exp(-x^2-2*x-1)/(x+1)\", \"x\", \"spec\")"],
"outputs": []
}
,
{
"cell_type" : "markdown",
"metadata" : {},
"source" : [" D(Ei(x+li(x)+1)/exp(1), x)\n"]
}
,
{
"cell_type" : "code",
"execution_count": null,
"metadata" : {
    "collapsed" : false
},
"source" : ["testIntegrate(\"(((li(x)^2+x*li(x)+1)*log(x)+li(x)^2+(x+1)*li(x)+x+1)*\"\n              \"exp(li(x)+x))/((li(x)+x)*log(x))\", \"x\", \"spec\")"],
"outputs": []
}
,
{
"cell_type" : "markdown",
"metadata" : {},
"source" : [" D(Ei((li(x) + x)*(li(x) - x)) + exp((li(x) + x)*(li(x) - x))/(li(x) + x), x)\n"]
}
,
{
"cell_type" : "code",
"execution_count": null,
"metadata" : {
    "collapsed" : false
},
"source" : ["testIntegrate(\"(log(x)+1)*exp(li(x)+x)/((li(x)+x+1)*log(x))\", \"x\", \"spec\")"],
"outputs": []
}
,
{
"cell_type" : "code",
"execution_count": null,
"metadata" : {
    "collapsed" : false
},
"source" : ["testIntegrate(\"(((-2*x*li(x)^2-(2*x+1)*li(x)+2*x^3-2*x^2+x)*log(x)+\"\n              \"2*li(x)^3+2*li(x)^2+(-2*x^2+2*x-1)*li(x)+x)*\"\n               \"exp(li(x)^2-x^2))/((li(x)^3+x*li(x)^2-x^2*li(x)-x^3)*log(x))\",\n             \"x\", \"spec\")"],
"outputs": []
}
,
{
"cell_type" : "code",
"execution_count": null,
"metadata" : {
    "collapsed" : false
},
"source" : ["testIntegrate(\"(x+2)*sin(x^2)/x\", \"x\", \"spec\")"],
"outputs": []
}
,
{
"cell_type" : "code",
"execution_count": null,
"metadata" : {
    "collapsed" : false
},
"source" : ["testIntegrate(\"(x+3)*sin(x^2+2*x+1)/(x+1)\", \"x\", \"spec\")"],
"outputs": []
}
,
{
"cell_type" : "code",
"execution_count": null,
"metadata" : {
    "collapsed" : false
},
"source" : ["testIntegrate(\"(x+2)*cos(x^2)/x\", \"x\", \"spec\")"],
"outputs": []
}
,
{
"cell_type" : "markdown",
"metadata" : {},
"source" : [" Liouvillian functions\n"]
}
,
{
"cell_type" : "code",
"execution_count": null,
"metadata" : {
    "collapsed" : false
},
"source" : ["testIntegrate(\"(x+3)*cos(x^2+2*x+1)/(x+1)\", \"x\", \"spec\")"],
"outputs": []
}
,
{
"cell_type" : "code",
"execution_count": null,
"metadata" : {
    "collapsed" : false
},
"source" : ["testIntegrate(\"D(log(ellipticE(x, m)), x)\", \"x\", \"liou\")"],
"outputs": []
}
,
{
"cell_type" : "code",
"execution_count": null,
"metadata" : {
    "collapsed" : false
},
"source" : ["testIntegrate(\"D(ellipticE(x, m)/(ellipticE(x, m) + 3), x)\", \"x\", \"liou\")"],
"outputs": []
}
,
{
"cell_type" : "code",
"execution_count": null,
"metadata" : {
    "collapsed" : false
},
"source" : ["testIntegrate(\"D(1/(ellipticF(x, m) + x), x)\", \"x\", \"liou\")"],
"outputs": []
}
,
{
"cell_type" : "code",
"execution_count": null,
"metadata" : {
    "collapsed" : false
},
"source" : ["testIntegrate(\"D(1/(Gamma(a, log(x)^2) + log(x)), x)\", \"x\", \"liou\")"],
"outputs": []
}
,
{
"cell_type" : "code",
"execution_count": null,
"metadata" : {
    "collapsed" : false
},
"source" : ["testIntegrate(\"D(1/(ellipticPi(x, n, m)^2 + ellipticPi(x, n, m) + x), x)\",\n               \"x\", \"liou\")"],
"outputs": []
}
,
{
"cell_type" : "code",
"execution_count": null,
"metadata" : {
    "collapsed" : false
},
"source" : ["testIntegrate(\"D(log(polylog(3, x)), x)\", \"x\", \"liou\")"],
"outputs": []
}
,
{
"cell_type" : "code",
"execution_count": null,
"metadata" : {
    "collapsed" : false
},
"source" : ["testIntegrate(\"D(x*exp(-x^2 - erf(x)^2), x)\", \"x\", \"liou\")"],
"outputs": []
}
,
{
"cell_type" : "code",
"execution_count": null,
"metadata" : {
    "collapsed" : false
},
"source" : ["testIntegrate(\"D(x*exp(-1(x-1)^2 - dilog(x)^2), x)\", \"x\", \"liou\")"],
"outputs": []
}
,
{
"cell_type" : "code",
"execution_count": null,
"metadata" : {
    "collapsed" : false
},
"source" : ["testIntegrate(\"exp(-x^2)*erf(x)/(erf(x)^3 - erf(x)^2 - erf(x) + 1)\",\n               \"x\", \"liou\")"],
"outputs": []
}
,
{
"cell_type" : "code",
"execution_count": null,
"metadata" : {
    "collapsed" : false
},
"source" : ["testIntegrate(\"exp(-x)*Ei(x)\", \"x\", \"liou\")"],
"outputs": []
}
,
{
"cell_type" : "code",
"execution_count": null,
"metadata" : {
    "collapsed" : false
},
"source" : ["testIntegrate(\"polylog(3, x)*polylog(5, x)/(x*polylog(4, x)^2)\", \"x\", \"liou\")"],
"outputs": []
}
,
{
"cell_type" : "code",
"execution_count": null,
"metadata" : {
    "collapsed" : false
},
"source" : ["testIntegrate(\"(polylog(3, x) - x*polylog(2, x))/(1 - x)^2\", \"x\", \"liou\")"],
"outputs": []
}
,
{
"cell_type" : "code",
"execution_count": null,
"metadata" : {
    "collapsed" : false
},
"source" : ["ib := integral(x^(a - 1)*(1 - x)^(b - 1), x)"],
"outputs": []
}
,
{
"cell_type" : "code",
"execution_count": null,
"metadata" : {
    "collapsed" : false
},
"source" : ["testIntegrate(\"((a + b)*x - a)/(x^(a + 1)*(1 - x)^(b + 1))*ib\", \"x\", \"liou\")"],
"outputs": []
}
,
{
"cell_type" : "markdown",
"metadata" : {},
"source" : [" Lambert W\n"]
}
,
{
"cell_type" : "code",
"execution_count": null,
"metadata" : {
    "collapsed" : false
},
"source" : ["testIntegrate(\"erf(a*x)*erf(b*x)\", \"x\", \"liou_erf\")"],
"outputs": []
}
,
{
"cell_type" : "code",
"execution_count": null,
"metadata" : {
    "collapsed" : false
},
"source" : ["testIntegrate(\"lambertW(x)\", \"x\", \"lambertW\")"],
"outputs": []
}
,
{
"cell_type" : "code",
"execution_count": null,
"metadata" : {
    "collapsed" : false
},
"source" : ["testIntegrate(\"lambertW(x)^2\", \"x\", \"lambertW\")"],
"outputs": []
}
,
{
"cell_type" : "code",
"execution_count": null,
"metadata" : {
    "collapsed" : false
},
"source" : ["testIntegrate(\"lambertW(x)^3\", \"x\", \"lambertW\")"],
"outputs": []
}
,
{
"cell_type" : "code",
"execution_count": null,
"metadata" : {
    "collapsed" : false
},
"source" : ["testIntegrate(\"lambertW(x)^4\", \"x\", \"lambertW\")"],
"outputs": []
}
,
{
"cell_type" : "code",
"execution_count": null,
"metadata" : {
    "collapsed" : false
},
"source" : ["testIntegrate(\"lambertW(x)/x\", \"x\", \"lambertW\")"],
"outputs": []
}
,
{
"cell_type" : "code",
"execution_count": null,
"metadata" : {
    "collapsed" : false
},
"source" : ["testIntegrate(\"lambertW(x)^2/x\", \"x\", \"lambertW\")"],
"outputs": []
}
,
{
"cell_type" : "code",
"execution_count": null,
"metadata" : {
    "collapsed" : false
},
"source" : ["testIntegrate(\"x/lambertW(x)\", \"x\", \"lambertW\")"],
"outputs": []
}
,
{
"cell_type" : "code",
"execution_count": null,
"metadata" : {
    "collapsed" : false
},
"source" : ["testIntegrate(\"x^2/lambertW(x)\", \"x\", \"lambertW\")"],
"outputs": []
}
,
{
"cell_type" : "code",
"execution_count": null,
"metadata" : {
    "collapsed" : false
},
"source" : ["testIntegrate(\"x^3/lambertW(x)\", \"x\", \"lambertW\")"],
"outputs": []
}
,
{
"cell_type" : "code",
"execution_count": null,
"metadata" : {
    "collapsed" : false
},
"source" : ["testIntegrate(\"x*lambertW(x^2)\", \"x\", \"lambertW\")"],
"outputs": []
}
,
{
"cell_type" : "code",
"execution_count": null,
"metadata" : {
    "collapsed" : false
},
"source" : ["testIntegrate(\"lambertW(x^2)/x\", \"x\", \"lambertW\")"],
"outputs": []
}
,
{
"cell_type" : "code",
"execution_count": null,
"metadata" : {
    "collapsed" : false
},
"source" : ["testIntegrate(\"lambertW(x^3)/x\", \"x\", \"lambertW\")"],
"outputs": []
}
,
{
"cell_type" : "code",
"execution_count": null,
"metadata" : {
    "collapsed" : false
},
"source" : ["testIntegrate(\"lambertW(x)+1/x\", \"x\", \"lambertW\")"],
"outputs": []
}
,
{
"cell_type" : "code",
"execution_count": null,
"metadata" : {
    "collapsed" : false
},
"source" : ["testIntegrate(\"lambertW(x)+log(x)\", \"x\", \"lambertW\")"],
"outputs": []
}
,
{
"cell_type" : "code",
"execution_count": null,
"metadata" : {
    "collapsed" : false
},
"source" : ["testIntegrate(\"D(lambertW(x)+log(x), x)\", \"x\", \"lambertW\")"],
"outputs": []
}
,
{
"cell_type" : "code",
"execution_count": null,
"metadata" : {
    "collapsed" : false
},
"source" : ["testIntegrate(\"D(log(lambertW(x))+log(x), x)\", \"x\", \"lambertW\")"],
"outputs": []
}
,
{
"cell_type" : "code",
"execution_count": null,
"metadata" : {
    "collapsed" : false
},
"source" : ["testIntegrate(\"D(1/(1+lambertW(x))+log(x), x)\", \"x\", \"lambertW\")"],
"outputs": []
}
,
{
"cell_type" : "code",
"execution_count": null,
"metadata" : {
    "collapsed" : false
},
"source" : ["testIntegrate(\"D(1/lambertW(x)^3, x)\", \"x\", \"lambertW\")"],
"outputs": []
}
,
{
"cell_type" : "code",
"execution_count": null,
"metadata" : {
    "collapsed" : false
},
"source" : ["testIntegrate(\"D(1/(1+lambertW(exp(x))), x)\", \"x\", \"lambertW\")"],
"outputs": []
}
,
{
"cell_type" : "code",
"execution_count": null,
"metadata" : {
    "collapsed" : false
},
"source" : ["testIntegrate(\"D(log(a*x+lambertW(x)), x)\", \"x\", \"lambertW\")"],
"outputs": []
}
,
{
"cell_type" : "code",
"execution_count": null,
"metadata" : {
    "collapsed" : false
},
"source" : ["testIntegrate(\"D(log(a*x+lambertW(x^2)), x)\", \"x\", \"lambertW\")"],
"outputs": []
}
,
{
"cell_type" : "markdown",
"metadata" : {},
"source" : [" derivatives\n"]
}
,
{
"cell_type" : "code",
"execution_count": null,
"metadata" : {
    "collapsed" : false
},
"source" : ["testIntegrate(\"((x^2+2)*lambertW(x^2)^2+x^2*(2*lambertW(x^2)+1))/(x*(1+lambertW(x^2))^3)\", \"x\", \"lambertW\")"],
"outputs": []
}
,
{
"cell_type" : "code",
"execution_count": null,
"metadata" : {
    "collapsed" : false
},
"source" : ["ff := operator 'ff"],
"outputs": []
}
,
{
"cell_type" : "code",
"execution_count": null,
"metadata" : {
    "collapsed" : false
},
"source" : ["df := D(ff(x), x)"],
"outputs": []
}
,
{
"cell_type" : "code",
"execution_count": null,
"metadata" : {
    "collapsed" : false
},
"source" : ["fg := operator 'fg"],
"outputs": []
}
,
{
"cell_type" : "code",
"execution_count": null,
"metadata" : {
    "collapsed" : false
},
"source" : ["testIntegrate(\"D(ff(x), x)\", \"x\", \"deriv\")"],
"outputs": []
}
,
{
"cell_type" : "code",
"execution_count": null,
"metadata" : {
    "collapsed" : false
},
"source" : ["testIntegrate(\"D(ff(x)^2, x)\", \"x\", \"deriv\")"],
"outputs": []
}
,
{
"cell_type" : "code",
"execution_count": null,
"metadata" : {
    "collapsed" : false
},
"source" : ["testIntegrate(\"D(exp(ff(x)^2), x)\", \"x\", \"deriv\")"],
"outputs": []
}
,
{
"cell_type" : "code",
"execution_count": null,
"metadata" : {
    "collapsed" : false
},
"source" : ["testIntegrate(\"D(ff(x) + fg(x), x)\", \"x\", \"deriv\")"],
"outputs": []
}
,
{
"cell_type" : "code",
"execution_count": null,
"metadata" : {
    "collapsed" : false
},
"source" : ["testIntegrate(\"D(ff(x)*fg(x), x)\", \"x\", \"deriv\")"],
"outputs": []
}
,
{
"cell_type" : "code",
"execution_count": null,
"metadata" : {
    "collapsed" : false
},
"source" : ["testIntegrate(\"D(ff(x)/fg(x), x)\", \"x\", \"deriv\")"],
"outputs": []
}
,
{
"cell_type" : "code",
"execution_count": null,
"metadata" : {
    "collapsed" : false
},
"source" : ["testIntegrate(\"D(log(ff(x) + fg(x)), x)\", \"x\", \"deriv\")"],
"outputs": []
}
,
{
"cell_type" : "code",
"execution_count": null,
"metadata" : {
    "collapsed" : false
},
"source" : ["testIntegrate(\"D(log(ff(x)) + 3*log(fg(x)), x)\", \"x\", \"deriv\")"],
"outputs": []
}
,
{
"cell_type" : "code",
"execution_count": null,
"metadata" : {
    "collapsed" : false
},
"source" : ["testIntegrate(\"D(x*ff(x), x)\", \"x\", \"deriv\")"],
"outputs": []
}
,
{
"cell_type" : "code",
"execution_count": null,
"metadata" : {
    "collapsed" : false
},
"source" : ["testIntegrate(\"D(ff(x)/(x + ff(x)), x)\", \"x\", \"deriv\")"],
"outputs": []
}
,
{
"cell_type" : "code",
"execution_count": null,
"metadata" : {
    "collapsed" : false
},
"source" : ["testIntegrate(\"D(ff(x)^2/(ff(x)*df^3 +x*ff(x)*df + 1), x)\", \"x\", \"deriv\")"],
"outputs": []
}
,
{
"cell_type" : "code",
"execution_count": null,
"metadata" : {
    "collapsed" : false
},
"source" : ["testIntegrate(\"D(log(ff(x) + fg(x))*log(ff(x) + x*fg(x)), x)\", \"x\", \"deriv\")"],
"outputs": []
}
,
{
"cell_type" : "code",
"execution_count": null,
"metadata" : {
    "collapsed" : false
},
"source" : ["testIntegrate(\"D(log(exp(x) + x)*log(ff(x)+1), x)\", \"x\", \"deriv\")"],
"outputs": []
}
,
{
"cell_type" : "code",
"execution_count": null,
"metadata" : {
    "collapsed" : false
},
"source" : ["testIntegrate(\"D(log(exp(x) + x)*log(log(ff(x)+1)), x)\", \"x\", \"deriv\")"],
"outputs": []
}
,
{
"cell_type" : "code",
"execution_count": null,
"metadata" : {
    "collapsed" : false
},
"source" : ["testIntegrate(\"D(sqrt(ff(x)), x)\", \"x\", \"deriv\")"],
"outputs": []
}
,
{
"cell_type" : "code",
"execution_count": null,
"metadata" : {
    "collapsed" : false
},
"source" : ["testIntegrate(\"D(sqrt(ff(x)^2 + 1), x)\", \"x\", \"deriv\")"],
"outputs": []
}
,
{
"cell_type" : "code",
"execution_count": null,
"metadata" : {
    "collapsed" : false
},
"source" : ["testIntegrate(\"D(1/(x + sqrt(x*ff(x)^2 + 1)), x)\", \"x\", \"deriv\")"],
"outputs": []
}
,
{
"cell_type" : "code",
"execution_count": null,
"metadata" : {
    "collapsed" : false
},
"source" : ["testIntegrate(\"D(besselJ(x, z)*ff(x), x)\", \"x\", \"deriv\")"],
"outputs": []
}
,
{
"cell_type" : "code",
"execution_count": null,
"metadata" : {
    "collapsed" : false
},
"source" : ["testIntegrate(\"D(ff(x^2)^2, x)\", \"x\", \"deriv\")"],
"outputs": []
}
,
{
"cell_type" : "code",
"execution_count": null,
"metadata" : {
    "collapsed" : false
},
"source" : ["testIntegrate(\"D(ff(x^2, exp(x))^2, x)\", \"x\", \"deriv\")"],
"outputs": []
}
,
{
"cell_type" : "code",
"execution_count": null,
"metadata" : {
    "collapsed" : false
},
"source" : ["testIntegrate(\"D(log(x + ff(x + log(x))) + log(x^2 + 1), x)\", \"x\", \"deriv\")"],
"outputs": []
}
,
{
"cell_type" : "code",
"execution_count": null,
"metadata" : {
    "collapsed" : false
},
"source" : ["testIntegrate(\"D(sqrt(x + ff(x^2)), x)\", \"x\", \"deriv\")"],
"outputs": []
}
,
{
"cell_type" : "code",
"execution_count": null,
"metadata" : {
    "collapsed" : false
},
"source" : ["testIntegrate(\"D(log(sqrt(x + ff(x^2)) + 1), x)\", \"x\", \"deriv\")"],
"outputs": []
}
,
{
"cell_type" : "code",
"execution_count": null,
"metadata" : {
    "collapsed" : false
},
"source" : ["testIntegrate(\"D(Ei((log(ff(x))+x)^2), x)\", \"x\", \"deriv\")"],
"outputs": []
}
,
{
"cell_type" : "code",
"execution_count": null,
"metadata" : {
    "collapsed" : false
},
"source" : ["testIntegrate(\"D(Ei(exp(ff(x))+x^2), x)\", \"x\", \"deriv\")"],
"outputs": []
}
,
{
"cell_type" : "code",
"execution_count": null,
"metadata" : {
    "collapsed" : false
},
"source" : ["testIntegrate(\"D(Ei((exp(ff(x))+x)^2), x)\", \"x\", \"deriv\")"],
"outputs": []
}
,
{
"cell_type" : "code",
"execution_count": null,
"metadata" : {
    "collapsed" : false
},
"source" : ["testIntegrate(\"D(Ei(1/(exp(ff(x))+x)), x)\", \"x\", \"deriv\")"],
"outputs": []
}
,
{
"cell_type" : "code",
"execution_count": null,
"metadata" : {
    "collapsed" : false
},
"source" : ["fun1 := D(Ei(1/(exp(ff(x))+x)) + ff(x)*exp(1/(exp(ff(x))+x)), x)"],
"outputs": []
}
,
{
"cell_type" : "code",
"execution_count": null,
"metadata" : {
    "collapsed" : false
},
"source" : ["testIntegrate(\"fun1\", \"x\", \"deriv\")"],
"outputs": []
}
,
{
"cell_type" : "code",
"execution_count": null,
"metadata" : {
    "collapsed" : false
},
"source" : ["fun2 := D(D(ff(x),x)*exp(exp(log(ff(x))+x)), x)"],
"outputs": []
}
,
{
"cell_type" : "code",
"execution_count": null,
"metadata" : {
    "collapsed" : false
},
"source" : ["testIntegrate(\"fun2\", \"x\", \"deriv\")"],
"outputs": []
}
,
{
"cell_type" : "code",
"execution_count": null,
"metadata" : {
    "collapsed" : false
},
"source" : ["fun3 := D((D(ff(x),x) + ff(x))*exp(exp(log(ff(x))+x)), x)"],
"outputs": []
}
,
{
"cell_type" : "code",
"execution_count": null,
"metadata" : {
    "collapsed" : false
},
"source" : ["testIntegrate(\"fun3\", \"x\", \"deriv\")"],
"outputs": []
}
,
{
"cell_type" : "code",
"execution_count": null,
"metadata" : {
    "collapsed" : false
},
"source" : ["f1 := x*exp(log(ff(x))^2 + 1)"],
"outputs": []
}
,
{
"cell_type" : "code",
"execution_count": null,
"metadata" : {
    "collapsed" : false
},
"source" : ["fun4 := D(f1*log(f1+1), x)"],
"outputs": []
}
,
{
"cell_type" : "code",
"execution_count": null,
"metadata" : {
    "collapsed" : false
},
"source" : ["testIntegrate(\"fun4\", \"x\", \"deriv\")"],
"outputs": []
}
,
{
"cell_type" : "code",
"execution_count": null,
"metadata" : {
    "collapsed" : false
},
"source" : ["f1 := x*exp(a*log(ff(x)+1) + 1)"],
"outputs": []
}
,
{
"cell_type" : "code",
"execution_count": null,
"metadata" : {
    "collapsed" : false
},
"source" : ["fun5 := D(f1*log(f1+1)/ff(x), x)"],
"outputs": []
}
,
{
"cell_type" : "markdown",
"metadata" : {},
"source" : [" bug in li part\n"]
}
,
{
"cell_type" : "code",
"execution_count": null,
"metadata" : {
    "collapsed" : false
},
"source" : ["testIntegrate(\"fun5\", \"x\", \"deriv\")"],
"outputs": []
}
,
{
"cell_type" : "code",
"execution_count": null,
"metadata" : {
    "collapsed" : false
},
"source" : ["testIntegrate(\"1/(x*(log(x/a)+1))\", \"x\", \"li\")"],
"outputs": []
}
,
{
"cell_type" : "markdown",
"metadata" : {},
"source" : [" algebraic extended integration\n"]
}
,
{
"cell_type" : "code",
"execution_count": null,
"metadata" : {
    "collapsed" : false
},
"source" : ["testIntegrate(\"1/(x^2*(log(x/a)+1))\", \"x\", \"li\")"],
"outputs": []
}
,
{
"cell_type" : "code",
"execution_count": null,
"metadata" : {
    "collapsed" : false
},
"source" : ["s1 := sqrt(exp(x) + 1)"],
"outputs": []
}
,
{
"cell_type" : "code",
"execution_count": null,
"metadata" : {
    "collapsed" : false
},
"source" : ["l1 := log(sqrt(exp(x) + 1) + exp(x))"],
"outputs": []
}
,
{
"cell_type" : "code",
"execution_count": null,
"metadata" : {
    "collapsed" : false
},
"source" : ["testIntegrate(\"exp(x)*(2*s1 + 1)*l1/(exp(x)*(s1 + 1) + 1)\", \"x\", \"algext\")"],
"outputs": []
}
,
{
"cell_type" : "code",
"execution_count": null,
"metadata" : {
    "collapsed" : false
},
"source" : ["testIntegrate(\"exp(x)*(l1^2 + exp(x)*(2*s1 + 1)*l1/(exp(x)*(s1 + 1) + 1))\",\n              \"x\", \"algext\")"],
"outputs": []
}
,
{
"cell_type" : "code",
"execution_count": null,
"metadata" : {
    "collapsed" : false
},
"source" : ["testIntegrate(\"log(sin(x))*sqrt(1 + sin(x))\", \"x\", \"algext\")"],
"outputs": []
}
,
{
"cell_type" : "code",
"execution_count": null,
"metadata" : {
    "collapsed" : false
},
"source" : ["testIntegrate(\"sin(x)*atan(sqrt(sec(x) - 1))\", \"x\", \"algext\")"],
"outputs": []
}
,
{
"cell_type" : "code",
"execution_count": null,
"metadata" : {
    "collapsed" : false
},
"source" : ["fun1 := D(log(sqrt(x + sqrt(x)) + 1)*log(sqrt(x + sqrt(x)) + x), x);"],
"outputs": []
}
,
{
"cell_type" : "code",
"execution_count": null,
"metadata" : {
    "collapsed" : false
},
"source" : ["testIntegrate(\"fun1\", \"x\", \"algext\")"],
"outputs": []
}
,
{
"cell_type" : "code",
"execution_count": null,
"metadata" : {
    "collapsed" : false
},
"source" : ["fun2 := D((x + sqrt(x))*log(sqrt(x + sqrt(x)) + 1)*log(sqrt(x + sqrt(x)) + x),\n          x);"],
"outputs": []
}
,
{
"cell_type" : "code",
"execution_count": null,
"metadata" : {
    "collapsed" : false
},
"source" : ["testIntegrate(\"fun2\", \"x\", \"algext\")"],
"outputs": []
}
,
{
"cell_type" : "code",
"execution_count": null,
"metadata" : {
    "collapsed" : false
},
"source" : ["fun3 := D(exp(sqrt(x^3+1))*log(x*exp(sqrt(x^3+1)) + 1), x)"],
"outputs": []
}
,
{
"cell_type" : "code",
"execution_count": null,
"metadata" : {
    "collapsed" : false
},
"source" : ["testIntegrate(\"fun3\", \"x\", \"algext\")"],
"outputs": []
}
,
{
"cell_type" : "code",
"execution_count": null,
"metadata" : {
    "collapsed" : false
},
"source" : ["fun4 := D(exp(sqrt(x^3+1))*erf(x*exp(sqrt(x^3+1)) + 1), x)"],
"outputs": []
}
,
{
"cell_type" : "code",
"execution_count": null,
"metadata" : {
    "collapsed" : false
},
"source" : ["testIntegrate(\"fun4\", \"x\", \"algext\")"],
"outputs": []
}
,
{
"cell_type" : "code",
"execution_count": null,
"metadata" : {
    "collapsed" : false
},
"source" : ["fun5 := D(exp(sqrt(x^3+1))*erf(x*exp(sqrt(x^3+1)) + 1) +\n          erf(x*exp(sqrt(x^3+1))), x)"],
"outputs": []
}
,
{
"cell_type" : "code",
"execution_count": null,
"metadata" : {
    "collapsed" : false
},
"source" : ["testIntegrate(\"fun5\", \"x\", \"algext\")"],
"outputs": []
}
,
{
"cell_type" : "code",
"execution_count": null,
"metadata" : {
    "collapsed" : false
},
"source" : ["fun7 := D(exp(sqrt(x^3+1))*erf(x*exp(sqrt(x^3+1)) + 1) +\n          erf(x*exp(sqrt(x^3+1)))^2, x)"],
"outputs": []
}
,
{
"cell_type" : "code",
"execution_count": null,
"metadata" : {
    "collapsed" : false
},
"source" : ["testIntegrate(\"fun7\", \"x\", \"algext\")"],
"outputs": []
}
,
{
"cell_type" : "code",
"execution_count": null,
"metadata" : {
    "collapsed" : false
},
"source" : ["testIntegrate(\"x^(1/3)/(3*x+1)^(1/3)\", \"x\", \"alg\")"],
"outputs": []
}
,
{
"cell_type" : "markdown",
"metadata" : {},
"source" : [" used to produce error: \"Denominator not equal to 1\"\n"]
}
,
{
"cell_type" : "code",
"execution_count": null,
"metadata" : {
    "collapsed" : false
},
"source" : ["testIntegrate(\"((x - 1)^2*(x + 1))^(1/3)/x^2\", \"x\", \"alg\")"],
"outputs": []
}
,
{
"cell_type" : "code",
"execution_count": null,
"metadata" : {
    "collapsed" : false
},
"source" : ["testIntegrate(\"sec(x)*tan(x)/sqrt(sec(x) - 1)\", \"x\", \"alg\")"],
"outputs": []
}
,
{
"cell_type" : "code",
"execution_count": null,
"metadata" : {
    "collapsed" : false
},
"source" : ["testIntegrate(\"(sec(x)^2  - sec(x))/tan(x)/sqrt(sec(x) - 1)\", \"x\", \"alg\")"],
"outputs": []
}
,
{
"cell_type" : "markdown",
"metadata" : {},
"source" : [" caused error during substitution\n"]
}
,
{
"cell_type" : "code",
"execution_count": null,
"metadata" : {
    "collapsed" : false
},
"source" : ["testIntegrate(\"(sec(x)^2  - sec(x))*tan(x)/sqrt(sec(x) - 1)\", \"x\", \"alg\")"],
"outputs": []
}
,
{
"cell_type" : "markdown",
"metadata" : {},
"source" : [" used to fail since we need to factor Trager resultant over complex\n numbers\n"]
}
,
{
"cell_type" : "code",
"execution_count": null,
"metadata" : {
    "collapsed" : false
},
"source" : ["testTrue(\"(integrate(cos(x)*sin(x + %pi/6), x); true)\")"],
"outputs": []
}
,
{
"cell_type" : "code",
"execution_count": null,
"metadata" : {
    "collapsed" : false
},
"source" : ["testIntegrate(\"cos(x)^2/sqrt(cos(x)^4 + cos(x)^2 + 1)\", \"x\", \"alg\")"],
"outputs": []
}
,
{
"cell_type" : "code",
"execution_count": null,
"metadata" : {
    "collapsed" : false
},
"source" : ["testIntegrate(\"sqrt(tan(x)^2 + 2*tan(x) + 2)\", \"x\", \"alg\")"],
"outputs": []
}
,
{
"cell_type" : "code",
"execution_count": null,
"metadata" : {
    "collapsed" : false
},
"source" : ["t1 := exp(x)"],
"outputs": []
}
,
{
"cell_type" : "code",
"execution_count": null,
"metadata" : {
    "collapsed" : false
},
"source" : ["t2 := exp(1/(1 + t1))"],
"outputs": []
}
,
{
"cell_type" : "code",
"execution_count": null,
"metadata" : {
    "collapsed" : false
},
"source" : ["t3 := log(x*t2)"],
"outputs": []
}
,
{
"cell_type" : "code",
"execution_count": null,
"metadata" : {
    "collapsed" : false
},
"source" : ["testIntegrate(\"D(t3^2 -2*(1/(1+t1))*t3, x)\", \"x\", \"extint\")"],
"outputs": []
}
,
{
"cell_type" : "code",
"execution_count": null,
"metadata" : {
    "collapsed" : false
},
"source" : ["k := 7/5"],
"outputs": []
}
,
{
"cell_type" : "code",
"execution_count": null,
"metadata" : {
    "collapsed" : false
},
"source" : ["mu := sqrt ( ((k-1)*m^2 + 2)/(2*k*m^2 -(k-1)))"],
"outputs": []
}
,
{
"cell_type" : "code",
"execution_count": null,
"metadata" : {
    "collapsed" : false
},
"source" : ["km := 2/ ( (1+(2/(k+1)) * (1-mu^2)/mu)*(2*mu + 1 + 1/(m^2)))"],
"outputs": []
}
,
{
"cell_type" : "code",
"execution_count": null,
"metadata" : {
    "collapsed" : false
},
"source" : ["f := - 2*m / ((m^2-1)*km)"],
"outputs": []
}
,
{
"cell_type" : "code",
"execution_count": null,
"metadata" : {
    "collapsed" : false
},
"source" : ["testIntegrate(\"f\", \"m\", \"alg\")"],
"outputs": []
}
,
{
"cell_type" : "code",
"execution_count": null,
"metadata" : {
    "collapsed" : false
},
"source" : [")set output algebra on"],
"outputs": []
}
,
{
"cell_type" : "code",
"execution_count": null,
"metadata" : {
    "collapsed" : false
},
"source" : ["statistics()"],
"outputs": []
}
,
{
"cell_type" : "code",
"execution_count": null,
"metadata" : {
    "collapsed" : false
},
"source" : [""],
"outputs": []
}
 ],
"metadata": {
 "kernelspec": {
  "display_name": "FriCAS",
  "language": "spad",
  "name": "ifricas"
 },
 "language_info": {
  "codemirror_mode": "spad",
  "mimetype": "text/x-spad",
  "name": "SPAD",
  "pygments_lexer": "spad",
  "version": "1.2.6"
 },
 "name": "integ.ipynb"
},
"nbformat": 4,
"nbformat_minor": 0
}
