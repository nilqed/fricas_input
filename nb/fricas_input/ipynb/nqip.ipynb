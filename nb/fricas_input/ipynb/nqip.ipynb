{
 "cells": [
{
"cell_type" : "markdown",
"metadata" : {},
"source" : ["Copyright The Numerical Algorithms Group Limited 1996.\n Note that the conversions of results from DoubleFloat to Float\n will become unnecessary if outputGeneral is extended to apply to\n DoubleFloat quantities.\n"]
}
,
{
"cell_type" : "code",
"execution_count": null,
"metadata" : {
    "collapsed" : false
},
"source" : ["outputGeneral 5"],
"outputs": []
}
,
{
"cell_type" : "code",
"execution_count": null,
"metadata" : {
    "collapsed" : false
},
"source" : ["xvals := [0.00,0.04,0.08,0.12,0.22,0.26,0.30,0.38,0.39,0.42,0.45,\n               0.46,0.60,0.68,0.72,0.73,0.83,0.85,0.88,0.90,1.00];"],
"outputs": []
}
,
{
"cell_type" : "code",
"execution_count": null,
"metadata" : {
    "collapsed" : false
},
"source" : ["yvals := [4.0000,3.9936,3.9746,3.9432,3.8135,3.7467,3.6697,3.4943,\n                 3.4719,3.4002,3.3264,3.3017,2.9412,2.7352,2.6344,\n                        2.6094,2.3684,2.3222,2.2543,2.2099,2.0000];"],
"outputs": []
}
,
{
"cell_type" : "code",
"execution_count": null,
"metadata" : {
    "collapsed" : false
},
"source" : ["result := nagPolygonIntegrate(xvals,yvals);"],
"outputs": []
}
,
{
"cell_type" : "markdown",
"metadata" : {},
"source" : ["       3.1414\n"]
}
,
{
"cell_type" : "code",
"execution_count": null,
"metadata" : {
    "collapsed" : false
},
"source" : ["result.integral :: Float"],
"outputs": []
}
,
{
"cell_type" : "markdown",
"metadata" : {},
"source" : ["       - 0.000025627\n"]
}
,
{
"cell_type" : "code",
"execution_count": null,
"metadata" : {
    "collapsed" : false
},
"source" : ["result.errorEstimate :: Float"],
"outputs": []
}
,
{
"cell_type" : "code",
"execution_count": null,
"metadata" : {
    "collapsed" : false
},
"source" : ["coords := transpose matrix [xvals, yvals];"],
"outputs": []
}
,
{
"cell_type" : "code",
"execution_count": null,
"metadata" : {
    "collapsed" : false
},
"source" : ["result := nagPolygonIntegrate coords;"],
"outputs": []
}
,
{
"cell_type" : "markdown",
"metadata" : {},
"source" : ["       3.1414\n"]
}
,
{
"cell_type" : "code",
"execution_count": null,
"metadata" : {
    "collapsed" : false
},
"source" : ["result.integral :: Float"],
"outputs": []
}
,
{
"cell_type" : "markdown",
"metadata" : {},
"source" : ["       - 0.000025627\n"]
}
,
{
"cell_type" : "code",
"execution_count": null,
"metadata" : {
    "collapsed" : false
},
"source" : ["result.errorEstimate :: Float"],
"outputs": []
}
,
{
"cell_type" : "markdown",
"metadata" : {},
"source" : ["   Error signalled from user code:\n      The lists supplied to nagPolygonIntegrate are of different\n      lengths: 3 and 4.\n"]
}
,
{
"cell_type" : "code",
"execution_count": null,
"metadata" : {
    "collapsed" : false
},
"source" : ["nagPolygonIntegrate([1,2,3],[1,2,3,4])"],
"outputs": []
}
,
{
"cell_type" : "markdown",
"metadata" : {},
"source" : ["   Error signalled from user code:\n      Please supply the coordinate matrix in nagPolygonIntegrate with\n      each row consisting of single a x-y pair.\n"]
}
,
{
"cell_type" : "code",
"execution_count": null,
"metadata" : {
    "collapsed" : false
},
"source" : ["nagPolygonIntegrate([[1,2,3],[4,5,6]])"],
"outputs": []
}
,
{
"cell_type" : "code",
"execution_count": null,
"metadata" : {
    "collapsed" : false
},
"source" : ["outputGeneral()"],
"outputs": []
}
,
{
"cell_type" : "code",
"execution_count": null,
"metadata" : {
    "collapsed" : false
},
"source" : ["output \"End of tests\""],
"outputs": []
}
,
{
"cell_type" : "code",
"execution_count": null,
"metadata" : {
    "collapsed" : false
},
"source" : [""],
"outputs": []
}
 ],
"metadata": {
 "kernelspec": {
  "display_name": "FriCAS",
  "language": "spad",
  "name": "ifricas"
 },
 "language_info": {
  "codemirror_mode": "spad",
  "mimetype": "text/x-spad",
  "name": "SPAD",
  "pygments_lexer": "spad",
  "version": "1.2.6"
 },
 "name": "nqip.ipynb"
},
"nbformat": 4,
"nbformat_minor": 0
}
