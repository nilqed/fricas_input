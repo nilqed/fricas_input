{
 "cells": [
{
"cell_type" : "markdown",
"metadata" : {},
"source" : ["Copyright The Numerical Algorithms Group Limited 1994.\n"]
}
,
{
"cell_type" : "markdown",
"metadata" : {},
"source" : ["draws x^i for i in 1..5, x=-1..1\n"]
}
,
{
"cell_type" : "code",
"execution_count": null,
"metadata" : {
    "collapsed" : false
},
"source" : [")clear all"],
"outputs": []
}
,
{
"cell_type" : "code",
"execution_count": null,
"metadata" : {
    "collapsed" : false
},
"source" : ["makePoint(x:SF,y:SF):(Point SF) ==\n  point([x,y])$(Point SF)"],
"outputs": []
}
,
{
"cell_type" : "code",
"execution_count": null,
"metadata" : {
    "collapsed" : false
},
"source" : ["drawFun(fn:SF->SF, seg:Segment Float):List(List(Point SF)) ==\n  fp := (t:SF):Point SF +-> makePoint(t, fn(t))\n  plot := pointPlot(fp, segment(convert(lo seg)@SF, convert(hi seg)@SF))$PLOT\n  lp := listBranches(plot)$PLOT"],
"outputs": []
}
,
{
"cell_type" : "code",
"execution_count": null,
"metadata" : {
    "collapsed" : false
},
"source" : ["makeListFuns(fl:List(Expression Integer),_\n             seg:SegmentBinding Float):List(SF->SF) ==\n"],
"outputs": []
}
,
{
"cell_type" : "code",
"execution_count": null,
"metadata" : {
    "collapsed" : false
},
"source" : ["drawFuns(fl:List(SF->SF), seg:SegmentBinding Float):VIEW2D ==\n  v := viewport2D()$VIEW2D\n  i : PositiveInteger := 1\n  for f in fl repeat\n    llp := drawFun(f, segment seg)\n    g := graphCurves(llp)$VIEW\n    putGraph(v,g,i)$VIEW2D\n    i := i + 1\n  makeViewport2D(v)$VIEW2D\n  lfuns:List(SF->SF) := empty()\n  for f in fl repeat\n    ff : (SF->SF) := makeFloatFunction(f, variable seg)$MakeFloatCompiledFunction(Expression Integer)\n    lfuns := cons(ff, lfuns)\n  lfuns"],
"outputs": []
}
,
{
"cell_type" : "code",
"execution_count": null,
"metadata" : {
    "collapsed" : false
},
"source" : ["drawFuns(makeListFuns([x^i for i in 1..5], x=-1..1), x=-1..1)"],
"outputs": []
}
,
{
"cell_type" : "code",
"execution_count": null,
"metadata" : {
    "collapsed" : false
},
"source" : ["drawFuns(makeListFuns([sin(x*i) for i in 1..5], x=-1..1), x=-1..1)"],
"outputs": []
}
,
{
"cell_type" : "code",
"execution_count": null,
"metadata" : {
    "collapsed" : false
},
"source" : ["drawFuns(makeListFuns([sec x, sin x, cos x, tan x], x=-1..1), x=-1..1)"],
"outputs": []
}
,
{
"cell_type" : "code",
"execution_count": null,
"metadata" : {
    "collapsed" : false
},
"source" : [""],
"outputs": []
}
 ],
"metadata": {
 "kernelspec": {
  "display_name": "FriCAS",
  "language": "spad",
  "name": "ifricas"
 },
 "language_info": {
  "codemirror_mode": "spad",
  "mimetype": "text/x-spad",
  "name": "SPAD",
  "pygments_lexer": "spad",
  "version": "1.2.6"
 },
 "name": "mult2d.ipynb"
},
"nbformat": 4,
"nbformat_minor": 0
}
