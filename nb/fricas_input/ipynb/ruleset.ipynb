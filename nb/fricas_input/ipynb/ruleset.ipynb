{
 "cells": [
{
"cell_type" : "markdown",
"metadata" : {},
"source" : ["Copyright The Numerical Algorithms Group Limited 1991.\n"]
}
,
{
"cell_type" : "markdown",
"metadata" : {},
"source" : [" This is the example from \"Programming in Mathematica\", p.139\n"]
}
,
{
"cell_type" : "code",
"execution_count": null,
"metadata" : {
    "collapsed" : false
},
"source" : [")cl all"],
"outputs": []
}
,
{
"cell_type" : "code",
"execution_count": null,
"metadata" : {
    "collapsed" : false
},
"source" : ["TrigLinearRules := rule\n   sin(x) * sin(y) == cos(x-y)/2 - cos(x+y)/2\n   cos(x) * cos(y) == cos(x+y)/2 + cos(x-y)/2\n   sin(x) * cos(y) == sin(x+y)/2 + sin(x-y)/2\n   sin(x)^(n | integer? n and n::Integer > 0) == (1-cos(2*x))/2 * sin(x)^(n-2)\n   cos(x)^(n | integer? n and n::Integer > 0) == (1+cos(2*x))/2 * cos(x)^(n-2)"],
"outputs": []
}
,
{
"cell_type" : "code",
"execution_count": null,
"metadata" : {
    "collapsed" : false
},
"source" : ["sin(a)*cos(b) + sin(a)*cos(a) + cos(2*a)*cos(3*a)"],
"outputs": []
}
,
{
"cell_type" : "code",
"execution_count": null,
"metadata" : {
    "collapsed" : false
},
"source" : ["TrigLinearRules %"],
"outputs": []
}
,
{
"cell_type" : "code",
"execution_count": null,
"metadata" : {
    "collapsed" : false
},
"source" : ["sin(a) * sin(2*a) * sin(3*a) * sin(4*a)"],
"outputs": []
}
,
{
"cell_type" : "markdown",
"metadata" : {},
"source" : [" Defining an operator to be linear w.r.t. its 2nd argument\n"]
}
,
{
"cell_type" : "code",
"execution_count": null,
"metadata" : {
    "collapsed" : false
},
"source" : ["TrigLinearRules %"],
"outputs": []
}
,
{
"cell_type" : "code",
"execution_count": null,
"metadata" : {
    "collapsed" : false
},
"source" : ["f := operator 'f"],
"outputs": []
}
,
{
"cell_type" : "code",
"execution_count": null,
"metadata" : {
    "collapsed" : false
},
"source" : ["FLinearRules := rule\n  f(a + b, x) == f(a, x) + f(b, x)\n  f(c * a, x | freeOf?(c, x)) == c * f(a, x)"],
"outputs": []
}
,
{
"cell_type" : "code",
"execution_count": null,
"metadata" : {
    "collapsed" : false
},
"source" : ["f(2*x + a * log(x) + x * log(x), x)"],
"outputs": []
}
,
{
"cell_type" : "code",
"execution_count": null,
"metadata" : {
    "collapsed" : false
},
"source" : ["FLinearRules %"],
"outputs": []
}
,
{
"cell_type" : "code",
"execution_count": null,
"metadata" : {
    "collapsed" : false
},
"source" : [""],
"outputs": []
}
 ],
"metadata": {
 "kernelspec": {
  "display_name": "FriCAS",
  "language": "spad",
  "name": "ifricas"
 },
 "language_info": {
  "codemirror_mode": "spad",
  "mimetype": "text/x-spad",
  "name": "SPAD",
  "pygments_lexer": "spad",
  "version": "1.2.6"
 },
 "name": "ruleset.ipynb"
},
"nbformat": 4,
"nbformat_minor": 0
}
