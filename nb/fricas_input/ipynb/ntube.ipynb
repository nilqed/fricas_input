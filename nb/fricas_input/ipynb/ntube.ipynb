{
 "cells": [
{
"cell_type" : "markdown",
"metadata" : {},
"source" : ["Copyright The Numerical Algorithms Group Limited 1994.\n ntube.input\n Generalized tubes.\n The functions in this file draw a 2-d curve in the normal\n planes around a 3-d curve.  The computations are all done\n numerically in machine-precision floating point for efficiency.\n"]
}
,
{
"cell_type" : "code",
"execution_count": null,
"metadata" : {
    "collapsed" : false
},
"source" : ["R3 := Point DoubleFloat                  -- Points in 3-Space"],
"outputs": []
}
,
{
"cell_type" : "code",
"execution_count": null,
"metadata" : {
    "collapsed" : false
},
"source" : ["R2 := Point DoubleFloat                  -- Points in 2-Space"],
"outputs": []
}
,
{
"cell_type" : "code",
"execution_count": null,
"metadata" : {
    "collapsed" : false
},
"source" : ["S := Segment Float              -- Draw ranges"],
"outputs": []
}
,
{
"cell_type" : "code",
"execution_count": null,
"metadata" : {
    "collapsed" : false
},
"source" : ["ThreeCurve := DoubleFloat -> R3          -- type of a space curve function"],
"outputs": []
}
,
{
"cell_type" : "code",
"execution_count": null,
"metadata" : {
    "collapsed" : false
},
"source" : ["TwoCurve := (DoubleFloat, DoubleFloat) -> R2      -- type of a plane curve function"],
"outputs": []
}
,
{
"cell_type" : "markdown",
"metadata" : {},
"source" : [" Frenet frames define a coordinate system around a point on a space curve\n"]
}
,
{
"cell_type" : "code",
"execution_count": null,
"metadata" : {
    "collapsed" : false
},
"source" : ["Surface := (DoubleFloat, DoubleFloat) -> R3   -- type of a parameterized surface function"],
"outputs": []
}
,
{
"cell_type" : "markdown",
"metadata" : {},
"source" : [" Holds current Frenet frame for a point on a curve\n"]
}
,
{
"cell_type" : "code",
"execution_count": null,
"metadata" : {
    "collapsed" : false
},
"source" : ["FrenetFrame := Record(value: R3, tagent: R3, normal: R3, binormal: R3)"],
"outputs": []
}
,
{
"cell_type" : "markdown",
"metadata" : {},
"source" : [" compile, don't interpret functions\n"]
}
,
{
"cell_type" : "code",
"execution_count": null,
"metadata" : {
    "collapsed" : false
},
"source" : ["frame: FrenetFrame"],
"outputs": []
}
,
{
"cell_type" : "markdown",
"metadata" : {},
"source" : [" Draw a generalized tube.\n ntubeDraw(spaceCurve, planeCurve, u0..u1, t0..t1)\n draws planeCurve int the normal planes of spaceCurve.  u0..u1 specifies\n the paramter range of the planeCurve and t0..t1 specifies the parameter\n range of the spaceCurve.  Additionally the plane curve function takes\n as a second parameter the current parameter of the spaceCurve.  This\n allows the plane curve to evolve as it goes around the space curve.\n see \"page5.input\" for an example of this.\n"]
}
,
{
"cell_type" : "code",
"execution_count": null,
"metadata" : {
    "collapsed" : false
},
"source" : [")set fun compile on"],
"outputs": []
}
,
{
"cell_type" : "code",
"execution_count": null,
"metadata" : {
    "collapsed" : false
},
"source" : ["ntubeDraw: (ThreeCurve, TwoCurve, S, S) -> VIEW3D"],
"outputs": []
}
,
{
"cell_type" : "markdown",
"metadata" : {},
"source" : [" ntuberDrawOpt is the same as ntuberDraw, but takes optional\n parameters which it passes to the draw command.\n"]
}
,
{
"cell_type" : "code",
"execution_count": null,
"metadata" : {
    "collapsed" : false
},
"source" : ["ntubeDraw(spaceCurve, planeCurve, uRange, tRange) ==\n  ntubeDrawOpt(spaceCurve, planeCurve, uRange, tRange, []$List DROPT)"],
"outputs": []
}
,
{
"cell_type" : "code",
"execution_count": null,
"metadata" : {
    "collapsed" : false
},
"source" : ["ntubeDrawOpt: (ThreeCurve, TwoCurve, S, S, List DROPT) -> VIEW3D"],
"outputs": []
}
,
{
"cell_type" : "markdown",
"metadata" : {},
"source" : [" nfrenetFrame(c, t, delT) numerically computes the Frenet Frame\n about the curve c at t.  delT is a small number used to\n compute derivatives.\n"]
}
,
{
"cell_type" : "code",
"execution_count": null,
"metadata" : {
    "collapsed" : false
},
"source" : ["ntubeDrawOpt(spaceCurve, planeCurve, uRange,  tRange, l) ==\n  delT:DoubleFloat := (hi(tRange) - lo(tRange))/10000\n  oldT:DoubleFloat := lo(tRange) - 1\n  fun := ngeneralTube(spaceCurve, planeCurve, delT, oldT)\n  draw(fun, uRange, tRange, l)"],
"outputs": []
}
,
{
"cell_type" : "markdown",
"metadata" : {},
"source" : [" nGeneralTube(spaceCurve, planeCurve, delT, oltT)\n creates a function which can be passed to the system draw command.\n The function is a parameterized surface for the general tube\n around the spaceCurve.  delT is a small number used to compute\n derivatives, and oldT is used to hold the current value of the\n t parameter for the spaceCurve.  This is an efficiency measure\n to ensure that frames are only computed once for every value of t.\n"]
}
,
{
"cell_type" : "code",
"execution_count": null,
"metadata" : {
    "collapsed" : false
},
"source" : ["nfrenetFrame(c, t, delT) ==\n  f0 := c(t)\n  f1 := c(t+delT)\n  t0 := f1 - f0                -- the tangent\n  n0 := f1 + f0\n  b := cross(t0, n0)           -- the binormal\n  n := cross(b,t0)             -- the normal\n  ln := length n\n  lb := length b\n  ln = 0 or lb = 0 => error \"Frenet Frame not well defined\"\n  n := (1/ln)*n                -- make into unit length vectors\n  b := (1/lb)*b\n  [f0, t0, n, b]$FrenetFrame"],
"outputs": []
}
,
{
"cell_type" : "code",
"execution_count": null,
"metadata" : {
    "collapsed" : false
},
"source" : ["ngeneralTube: (ThreeCurve, TwoCurve, DoubleFloat, DoubleFloat) -> Surface"],
"outputs": []
}
,
{
"cell_type" : "code",
"execution_count": null,
"metadata" : {
    "collapsed" : false
},
"source" : ["ngeneralTube(spaceCurve, planeCurve, delT, oldT) ==\n  free frame\n  (v:DoubleFloat, t: DoubleFloat): R3 +->\n    if (t ~= oldT) then\n      frame := nfrenetFrame(spaceCurve, t, delT)\n      oldT := t\n    p := planeCurve(v, t)\n    frame.value + p.1*frame.normal + p.2*frame.binormal"],
"outputs": []
}
,
{
"cell_type" : "code",
"execution_count": null,
"metadata" : {
    "collapsed" : false
},
"source" : [""],
"outputs": []
}
 ],
"metadata": {
 "kernelspec": {
  "display_name": "FriCAS",
  "language": "spad",
  "name": "ifricas"
 },
 "language_info": {
  "codemirror_mode": "spad",
  "mimetype": "text/x-spad",
  "name": "SPAD",
  "pygments_lexer": "spad",
  "version": "1.2.6"
 },
 "name": "ntube.ipynb"
},
"nbformat": 4,
"nbformat_minor": 0
}
