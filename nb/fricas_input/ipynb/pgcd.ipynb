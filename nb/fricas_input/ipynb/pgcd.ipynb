{
 "cells": [
{
"cell_type" : "code",
"execution_count": null,
"metadata" : {
    "collapsed" : false
},
"source" : [")set break resume"],
"outputs": []
}
,
{
"cell_type" : "code",
"execution_count": null,
"metadata" : {
    "collapsed" : false
},
"source" : [")expose UnittestCount UnittestAux Unittest"],
"outputs": []
}
,
{
"cell_type" : "code",
"execution_count": null,
"metadata" : {
    "collapsed" : false
},
"source" : ["testsuite \"polynomial gcd\""],
"outputs": []
}
,
{
"cell_type" : "code",
"execution_count": null,
"metadata" : {
    "collapsed" : false
},
"source" : ["p1 := x^6*(50*y^8 -68*y^6 -104*y^4 + 36*y^2 + 22) + _\n      x^4*(12*y^8 -10*y^6 -64*y^4 -6*y^2 + 4) + _\n      x^2*(2*y^6 -14*y^4 -8*y^2) + (-y^4 - y^2)\n"],
"outputs": []
}
,
{
"cell_type" : "code",
"execution_count": null,
"metadata" : {
    "collapsed" : false
},
"source" : ["p2 := x^8*(16*y^10 + 16*y^8 -96*y^6 -224*y^4 -176*y^2 -48) + _\n      x^6*(-72*y^10 + 188*y^8 -188*y^6 -572*y^4 -108*y^2 + 16) + _\n      x^4*(-64*y^10 + 188*y^8 + 372*y^6 + 60*y^4 -124*y^2) + _\n      x^2*(68*y^8 + 172*y^6 + 97*y^4 -15*y^2) + _\n      (8*y^8 + 22*y^6 + 14*y^4)\n"],
"outputs": []
}
,
{
"cell_type" : "code",
"execution_count": null,
"metadata" : {
    "collapsed" : false
},
"source" : ["testcase \"bad reduction\""],
"outputs": []
}
,
{
"cell_type" : "code",
"execution_count": null,
"metadata" : {
    "collapsed" : false
},
"source" : ["p1u := univariate(p1, x)"],
"outputs": []
}
,
{
"cell_type" : "code",
"execution_count": null,
"metadata" : {
    "collapsed" : false
},
"source" : ["p2u := univariate(p2, x)"],
"outputs": []
}
,
{
"cell_type" : "code",
"execution_count": null,
"metadata" : {
    "collapsed" : false
},
"source" : ["testTrue(\"(lg := [gcd(p1u, p2u) for i in 1..1000]; true)\")"],
"outputs": []
}
,
{
"cell_type" : "code",
"execution_count": null,
"metadata" : {
    "collapsed" : false
},
"source" : ["testTrue(\"every?(x +-> x = 1, lg)\")"],
"outputs": []
}
,
{
"cell_type" : "code",
"execution_count": null,
"metadata" : {
    "collapsed" : false
},
"source" : [")set output algebra on"],
"outputs": []
}
,
{
"cell_type" : "code",
"execution_count": null,
"metadata" : {
    "collapsed" : false
},
"source" : ["statistics()"],
"outputs": []
}
,
{
"cell_type" : "code",
"execution_count": null,
"metadata" : {
    "collapsed" : false
},
"source" : [""],
"outputs": []
}
 ],
"metadata": {
 "kernelspec": {
  "display_name": "FriCAS",
  "language": "spad",
  "name": "ifricas"
 },
 "language_info": {
  "codemirror_mode": "spad",
  "mimetype": "text/x-spad",
  "name": "SPAD",
  "pygments_lexer": "spad",
  "version": "1.2.6"
 },
 "name": "pgcd.ipynb"
},
"nbformat": 4,
"nbformat_minor": 0
}
