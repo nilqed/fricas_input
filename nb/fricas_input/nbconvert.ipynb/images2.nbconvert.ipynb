{
 "cells": [
  {
   "cell_type": "markdown",
   "metadata": {},
   "source": [
    "Copyright The Numerical Algorithms Group Limited 1994.\n",
    " Color gallery page 2\n"
   ]
  },
  {
   "cell_type": "code",
   "execution_count": 0,
   "metadata": {
    "collapsed": false
   },
   "outputs": [
    {
     "name": "stderr",
     "output_type": "stream",
     "text": [
      " \n",
      "   The file newton is needed but does not exist.\n",
      "\n"
     ]
    },
    {
     "data": {
      "text/plain": [
       "error\n"
      ]
     },
     "execution_count": 0,
     "metadata": {},
     "output_type": "execute_result"
    }
   ],
   "source": [
    ")read newton"
   ]
  },
  {
   "cell_type": "markdown",
   "metadata": {},
   "source": [
    " create a Newton's iteration function for the equation x^3 = 2.\n"
   ]
  },
  {
   "cell_type": "code",
   "execution_count": 1,
   "metadata": {
    "collapsed": false
   },
   "outputs": [
    {
     "name": "stderr",
     "output_type": "stream",
     "text": [
      " \n",
      "   The file cdraw is needed but does not exist.\n",
      "\n"
     ]
    },
    {
     "data": {
      "text/plain": [
       "error\n"
      ]
     },
     "execution_count": 1,
     "metadata": {},
     "output_type": "execute_result"
    }
   ],
   "source": [
    ")read cdraw"
   ]
  },
  {
   "cell_type": "code",
   "execution_count": 2,
   "metadata": {
    "collapsed": false
   },
   "outputs": [
    {
     "name": "stderr",
     "output_type": "stream",
     "text": [
      "Warning: HyperTeX macro table not found\n",
      "   There are no library operations named newtonStep \n",
      "      Use HyperDoc Browse or issue\n",
      "                             )what op newtonStep\n",
      "      to learn if there is any operation containing \" newtonStep \" in \n",
      "      its name.\n",
      " \n",
      "   Cannot find a definition or applicable library operation named \n",
      "      newtonStep with argument type(s) \n",
      "                             Polynomial(Integer)\n",
      "      \n",
      "      Perhaps you should use \"@\" to indicate the required return type, \n",
      "      or \"$\" to specify which version of the function you need.\n",
      "\n"
     ]
    },
    {
     "data": {
      "text/plain": [
       "error\n"
      ]
     },
     "execution_count": 2,
     "metadata": {},
     "output_type": "execute_result"
    }
   ],
   "source": [
    "f := newtonStep(x^3 - 2)"
   ]
  },
  {
   "cell_type": "code",
   "execution_count": 3,
   "metadata": {
    "collapsed": false
   },
   "outputs": [
    {
     "data": {
      "text/plain": [
       "   4.0\n",
       "                                                            Type: DoubleFloat\n"
      ]
     },
     "execution_count": 3,
     "metadata": {},
     "output_type": "execute_result"
    }
   ],
   "source": [
    "setClipValue(4)"
   ]
  },
  {
   "cell_type": "code",
   "execution_count": 4,
   "metadata": {
    "collapsed": false
   },
   "outputs": [
    {
     "name": "stderr",
     "output_type": "stream",
     "text": [
      "   There are 1 exposed and 0 unexposed library operations named \n",
      "      drawComplexVectorField having 3 argument(s) but none was \n",
      "      determined to be applicable. Use HyperDoc Browse, or issue\n",
      "                     )display op drawComplexVectorField\n",
      "      to learn more about the available operations. Perhaps \n",
      "      package-calling the operation or using coercions on the arguments\n",
      "      will allow you to apply the operation.\n",
      " \n",
      "   Cannot find a definition or applicable library operation named \n",
      "      drawComplexVectorField with argument type(s) \n",
      "                             Polynomial(Integer)\n",
      "                              Segment(Integer)\n",
      "                              Segment(Integer)\n",
      "      \n",
      "      Perhaps you should use \"@\" to indicate the required return type, \n",
      "      or \"$\" to specify which version of the function you need.\n",
      "\n"
     ]
    },
    {
     "data": {
      "text/plain": [
       "error\n"
      ]
     },
     "execution_count": 4,
     "metadata": {},
     "output_type": "execute_result"
    }
   ],
   "source": [
    "drawComplexVectorField(f^3, -3..3, -3..3)"
   ]
  },
  {
   "cell_type": "code",
   "execution_count": 5,
   "metadata": {
    "collapsed": false
   },
   "outputs": [
    {
     "name": "stderr",
     "output_type": "stream",
     "text": [
      "   There are no library operations named drawComplex having 3 \n",
      "      argument(s) though there are 1 exposed operation(s) and 0 \n",
      "      unexposed operation(s) having a different number of arguments. \n",
      "      Use HyperDoc Browse, or issue\n",
      "                            )what op drawComplex\n",
      "      to learn what operations contain \" drawComplex \" in their names, \n",
      "      or issue\n",
      "                           )display op drawComplex\n",
      "      to learn more about the available operations.\n",
      " \n",
      "   Cannot find a definition or applicable library operation named \n",
      "      drawComplex with argument type(s) \n",
      "                             Polynomial(Integer)\n",
      "                              Segment(Integer)\n",
      "                              Segment(Integer)\n",
      "      \n",
      "      Perhaps you should use \"@\" to indicate the required return type, \n",
      "      or \"$\" to specify which version of the function you need.\n",
      "\n"
     ]
    },
    {
     "data": {
      "text/plain": [
       "error\n"
      ]
     },
     "execution_count": 5,
     "metadata": {},
     "output_type": "execute_result"
    }
   ],
   "source": [
    "drawComplex(f^3, -3..3, -3..3)"
   ]
  },
  {
   "cell_type": "code",
   "execution_count": 6,
   "metadata": {
    "collapsed": false
   },
   "outputs": [
    {
     "name": "stderr",
     "output_type": "stream",
     "text": [
      "   There are no library operations named drawComplex having 3 \n",
      "      argument(s) though there are 1 exposed operation(s) and 0 \n",
      "      unexposed operation(s) having a different number of arguments. \n",
      "      Use HyperDoc Browse, or issue\n",
      "                            )what op drawComplex\n",
      "      to learn what operations contain \" drawComplex \" in their names, \n",
      "      or issue\n",
      "                           )display op drawComplex\n",
      "      to learn more about the available operations.\n",
      " \n",
      "   Cannot find a definition or applicable library operation named \n",
      "      drawComplex with argument type(s) \n",
      "                             Polynomial(Integer)\n",
      "                              Segment(Integer)\n",
      "                              Segment(Integer)\n",
      "      \n",
      "      Perhaps you should use \"@\" to indicate the required return type, \n",
      "      or \"$\" to specify which version of the function you need.\n",
      "\n"
     ]
    },
    {
     "data": {
      "text/plain": [
       "error\n"
      ]
     },
     "execution_count": 6,
     "metadata": {},
     "output_type": "execute_result"
    }
   ],
   "source": [
    "drawComplex(f^4, -3..3, -3..3)"
   ]
  },
  {
   "cell_type": "code",
   "execution_count": 7,
   "metadata": {
    "collapsed": false
   },
   "outputs": [
    {
     "name": "stderr",
     "output_type": "stream",
     "text": [
      "INDEX-TOO-LARGE-ERROR: \n",
      "  #<SB-KERNEL:INDEX-TOO-LARGE-ERROR expected-type: (INTEGER 0 (0)) datum: 0>\n"
     ]
    },
    {
     "data": {
      "text/plain": []
     },
     "execution_count": 7,
     "metadata": {},
     "output_type": "execute_result"
    }
   ],
   "source": []
  }
 ],
 "metadata": {
  "kernelspec": {
   "display_name": "FriCAS",
   "language": "spad",
   "name": "ifricas"
  },
  "language_info": {
   "codemirror_mode": "spad",
   "mimetype": "text/x-spad",
   "name": "SPAD",
   "pygments_lexer": "spad",
   "version": "1.2.6"
  },
  "name": "images2.ipynb"
 },
 "nbformat": 4,
 "nbformat_minor": 0
}