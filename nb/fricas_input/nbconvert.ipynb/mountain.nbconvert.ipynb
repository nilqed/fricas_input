{
 "cells": [
  {
   "cell_type": "markdown",
   "metadata": {},
   "source": [
    "Copyright The Numerical Algorithms Group Limited 1994.\n",
    " Draw a fractal mountain\n"
   ]
  },
  {
   "cell_type": "markdown",
   "metadata": {},
   "source": [
    " compile the functions\n"
   ]
  },
  {
   "cell_type": "code",
   "execution_count": 0,
   "metadata": {
    "collapsed": false
   },
   "outputs": [
    {
     "name": "stdout",
     "output_type": "stream",
     "text": [
      "   All user variables and function definitions have been cleared.\n"
     ]
    },
    {
     "data": {
      "text/plain": []
     },
     "execution_count": 0,
     "metadata": {},
     "output_type": "execute_result"
    }
   ],
   "source": [
    ")clear all"
   ]
  },
  {
   "cell_type": "markdown",
   "metadata": {},
   "source": [
    " Generate Gaussian random numbers\n",
    " Algorithm by Richard Voss from \"The Science of Fractal Images\", pg. 77\n",
    " function to convert a number into machine floating point\n"
   ]
  },
  {
   "cell_type": "code",
   "execution_count": 1,
   "metadata": {
    "collapsed": false
   },
   "outputs": [
    {
     "data": {
      "text/plain": []
     },
     "execution_count": 1,
     "metadata": {},
     "output_type": "execute_result"
    }
   ],
   "source": [
    ")set function compile on"
   ]
  },
  {
   "cell_type": "code",
   "execution_count": 2,
   "metadata": {
    "collapsed": false
   },
   "outputs": [
    {
     "data": {
      "text/plain": [
       "                                                                   Type: Void\n"
      ]
     },
     "execution_count": 2,
     "metadata": {},
     "output_type": "execute_result"
    }
   ],
   "source": [
    "sf f == f::DFLOAT"
   ]
  },
  {
   "cell_type": "code",
   "execution_count": 3,
   "metadata": {
    "collapsed": false
   },
   "outputs": [
    {
     "data": {
      "text/plain": [
       "   4\n",
       "                                                        Type: PositiveInteger\n"
      ]
     },
     "execution_count": 3,
     "metadata": {},
     "output_type": "execute_result"
    }
   ],
   "source": [
    "Nrand := 4"
   ]
  },
  {
   "cell_type": "code",
   "execution_count": 4,
   "metadata": {
    "collapsed": false
   },
   "outputs": [
    {
     "name": "stdout",
     "output_type": "stream",
     "text": [
      "Warning: HyperTeX macro table not found\n"
     ]
    },
    {
     "data": {
      "text/plain": [
       "   67108863\n",
       "                                                        Type: PositiveInteger\n"
      ]
     },
     "execution_count": 4,
     "metadata": {},
     "output_type": "execute_result"
    }
   ],
   "source": [
    "Arand := 2^26 - 1"
   ]
  },
  {
   "cell_type": "code",
   "execution_count": 5,
   "metadata": {
    "collapsed": false
   },
   "outputs": [
    {
     "name": "stdout",
     "output_type": "stream",
     "text": [
      "   Compiling function sf with type Float -> DoubleFloat \n"
     ]
    },
    {
     "data": {
      "text/plain": [
       "   3.4641016151377544\n",
       "                                                            Type: DoubleFloat\n"
      ]
     },
     "execution_count": 5,
     "metadata": {},
     "output_type": "execute_result"
    }
   ],
   "source": [
    "GaussAdd := sqrt(sf(3.0) * Nrand)"
   ]
  },
  {
   "cell_type": "markdown",
   "metadata": {},
   "source": [
    " generate a random number\n"
   ]
  },
  {
   "cell_type": "code",
   "execution_count": 6,
   "metadata": {
    "collapsed": false
   },
   "outputs": [
    {
     "name": "stdout",
     "output_type": "stream",
     "text": [
      "   Compiling function sf with type PositiveInteger -> DoubleFloat \n"
     ]
    },
    {
     "data": {
      "text/plain": [
       "   2.580956866411039e-8\n",
       "                                                            Type: DoubleFloat\n"
      ]
     },
     "execution_count": 6,
     "metadata": {},
     "output_type": "execute_result"
    }
   ],
   "source": [
    "GaussFac := sf(2.0) * GaussAdd/((sf Nrand) * (sf Arand))"
   ]
  },
  {
   "cell_type": "markdown",
   "metadata": {},
   "source": [
    " Generate fractal mountains.\n",
    " Algorithms by Richard Voss from \"The Science of Fractal Images\", pg. 100\n"
   ]
  },
  {
   "cell_type": "code",
   "execution_count": 7,
   "metadata": {
    "collapsed": false
   },
   "outputs": [
    {
     "data": {
      "text/plain": [
       "                                                                   Type: Void\n"
      ]
     },
     "execution_count": 7,
     "metadata": {},
     "output_type": "execute_result"
    }
   ],
   "source": [
    "Gauss() ==\n",
    "  sum := sf 0.0\n",
    "  for i in 1..Nrand repeat\n",
    "    sum := sum + random(Arand)$INT\n",
    "  GaussFac * sum - GaussAdd"
   ]
  },
  {
   "cell_type": "code",
   "execution_count": 8,
   "metadata": {
    "collapsed": false
   },
   "outputs": [
    {
     "data": {
      "text/plain": [
       "   0.5\n",
       "                                                            Type: DoubleFloat\n"
      ]
     },
     "execution_count": 8,
     "metadata": {},
     "output_type": "execute_result"
    }
   ],
   "source": [
    "sfHalf  := sf 0.5"
   ]
  },
  {
   "cell_type": "code",
   "execution_count": 9,
   "metadata": {
    "collapsed": false
   },
   "outputs": [
    {
     "data": {
      "text/plain": [
       "   3.0\n",
       "                                                            Type: DoubleFloat\n"
      ]
     },
     "execution_count": 9,
     "metadata": {},
     "output_type": "execute_result"
    }
   ],
   "source": [
    "sfThree := sf 3.0"
   ]
  },
  {
   "cell_type": "code",
   "execution_count": 10,
   "metadata": {
    "collapsed": false
   },
   "outputs": [
    {
     "data": {
      "text/plain": [
       "   4.0\n",
       "                                                            Type: DoubleFloat\n"
      ]
     },
     "execution_count": 10,
     "metadata": {},
     "output_type": "execute_result"
    }
   ],
   "source": [
    "sfFour  := sf 4.0"
   ]
  },
  {
   "cell_type": "code",
   "execution_count": 11,
   "metadata": {
    "collapsed": false
   },
   "outputs": [
    {
     "data": {
      "text/plain": [
       "                                                                   Type: Void\n"
      ]
     },
     "execution_count": 11,
     "metadata": {},
     "output_type": "execute_result"
    }
   ],
   "source": [
    "f3(delta,x0,x1,x2) == (x0+x1+x2)/sfThree + delta*Gauss()"
   ]
  },
  {
   "cell_type": "markdown",
   "metadata": {},
   "source": [
    " perform midpoint subdivision\n"
   ]
  },
  {
   "cell_type": "code",
   "execution_count": 12,
   "metadata": {
    "collapsed": false
   },
   "outputs": [
    {
     "data": {
      "text/plain": [
       "                                                                   Type: Void\n"
      ]
     },
     "execution_count": 12,
     "metadata": {},
     "output_type": "execute_result"
    }
   ],
   "source": [
    "f4(delta,x0,x1,x2,x3) == (x0+x1+x2+x3)/sfFour + delta*Gauss()"
   ]
  },
  {
   "cell_type": "code",
   "execution_count": 13,
   "metadata": {
    "collapsed": false
   },
   "outputs": [
    {
     "data": {
      "text/plain": [
       "                                                                   Type: Void\n"
      ]
     },
     "execution_count": 13,
     "metadata": {},
     "output_type": "execute_result"
    }
   ],
   "source": [
    "MidPointFM(maxLevel, sigma, H) ==\n",
    "  N := 2^maxLevel\n",
    "  delta := sigma\n",
    "  arraySize := (N+1)\n",
    "  X:IARRAY2(DFLOAT,0,0) := new(arraySize, arraySize, sf 0.0)\n",
    "  setelt!(X, 0, 0, delta*Gauss())\n",
    "  setelt!(X, 0, N, delta*Gauss())\n",
    "  setelt!(X, N, 0, delta*Gauss())\n",
    "  setelt!(X, N, N, delta*Gauss())\n",
    "  D := N\n",
    "  d := N quo 2\n",
    "  for stage in 1..maxLevel repeat\n",
    "    delta := delta*(sfHalf^(sfHalf*H))\n",
    "    for x in d..(N-d) by D repeat\n",
    "      for y in d..(N-d) by D repeat\n",
    "        setelt!(X, x, y, f4(delta, elt(X,x+d,y+d), elt(X,x+d,y-d),\n",
    "                           elt(X, x-d, x+d), elt(X, x-d, y-d)))\n",
    "    for x in 0..N by D repeat\n",
    "      for y in 0..N by D repeat\n",
    "        setelt!(X, x, y, elt(X,x,y) + delta*Gauss())\n",
    "    delta := delta*(sfHalf^(sfHalf*H))\n",
    "    for x in d..(N-d) by D repeat\n",
    "      setelt!(X,x,0, f3(delta, elt(X,x+d,0), elt(X,x-d,0), elt(X,x,d)))\n",
    "      setelt!(X,x,N, f3(delta, elt(X,x+d,N), elt(X,x-d,N), elt(X,x,N-d)))\n",
    "      setelt!(X,0,x, f3(delta, elt(X,0,x+d), elt(X,0,x-d), elt(X,d,x)))\n",
    "      setelt!(X,N,x, f3(delta, elt(X,N,x+d), elt(X,N,x-d), elt(X,N-d,x)))\n",
    "    for x in d..(N-d) by D repeat\n",
    "      for y in D..(N-d) by D repeat\n",
    "        setelt!(X,x,y, f4(delta, elt(X,x,y+d), elt(X,x,y-d),\n",
    "                         elt(X,x+d,y), elt(X,x-d,y)))\n",
    "    for x in D..(N-d) by D repeat\n",
    "      for y in d..(N-d) by D repeat\n",
    "        setelt!(X,x,y, f4(delta, elt(X,x,y+d), elt(X,x,y-d),\n",
    "                         elt(X,x+d,y), elt(X,x-d,y)))\n",
    "    for x in 0..N by D repeat\n",
    "      for y in 0..N by D repeat\n",
    "        setelt!(X,x,y, elt(X,x,y) + delta*Gauss())\n",
    "    for x in d..(N-d) by D repeat\n",
    "      for y in d..(N-d) by D repeat\n",
    "        setelt!(X,x,y, elt(X,x,y) + delta*Gauss())\n",
    "    D := D quo 2\n",
    "    d := d quo 2\n",
    "  X"
   ]
  },
  {
   "cell_type": "code",
   "execution_count": 14,
   "metadata": {
    "collapsed": false
   },
   "outputs": [
    {
     "name": "stdout",
     "output_type": "stream",
     "text": [
      "   Compiling function sf with type NonNegativeInteger -> DoubleFloat \n"
     ]
    },
    {
     "data": {
      "text/plain": [
       "   0.0\n",
       "                                                            Type: DoubleFloat\n"
      ]
     },
     "execution_count": 14,
     "metadata": {},
     "output_type": "execute_result"
    }
   ],
   "source": [
    "sfZero := sf 0"
   ]
  },
  {
   "cell_type": "markdown",
   "metadata": {},
   "source": [
    " function passed to the draw\n"
   ]
  },
  {
   "cell_type": "code",
   "execution_count": 15,
   "metadata": {
    "collapsed": false
   },
   "outputs": [
    {
     "data": {
      "text/plain": [
       "   7.0\n",
       "                                                            Type: DoubleFloat\n"
      ]
     },
     "execution_count": 15,
     "metadata": {},
     "output_type": "execute_result"
    }
   ],
   "source": [
    "Sigma := sf 7"
   ]
  },
  {
   "cell_type": "markdown",
   "metadata": {},
   "source": [
    " draw a mountain with maxLevel subdivisions with Haussdorf dimension H\n",
    " the number of subdivisions of the mountain is 2^maxLevel, so you\n",
    " probably should keep maxLevel <= 8.  Also 0 < H <= 1.  The closer\n",
    " H is to one, the smoother the mountain will be.\n"
   ]
  },
  {
   "cell_type": "code",
   "execution_count": 16,
   "metadata": {
    "collapsed": false
   },
   "outputs": [
    {
     "name": "stdout",
     "output_type": "stream",
     "text": [
      "   Function declaration tableVal : (DoubleFloat,DoubleFloat) -> \n",
      "      DoubleFloat has been added to workspace.\n",
      "\n"
     ]
    },
    {
     "data": {
      "text/plain": [
       "                                                                   Type: Void\n"
      ]
     },
     "execution_count": 16,
     "metadata": {},
     "output_type": "execute_result"
    }
   ],
   "source": [
    "tableVal(x: DFLOAT, y:DFLOAT):DFLOAT ==\n",
    "  free table, xIndex, yIndex, rowSize\n",
    "  val := elt(table, xIndex, yIndex)\n",
    "  xIndex := xIndex + 1\n",
    "  if xIndex > rowSize then (xIndex := 0; yIndex := yIndex + 1)\n",
    "  val < sfZero => sfZero\n",
    "  val"
   ]
  },
  {
   "cell_type": "code",
   "execution_count": 17,
   "metadata": {
    "collapsed": false
   },
   "outputs": [
    {
     "data": {
      "text/plain": [
       "                                                                   Type: Void\n"
      ]
     },
     "execution_count": 17,
     "metadata": {},
     "output_type": "execute_result"
    }
   ],
   "source": [
    "drawMountain(maxLevel, H) ==\n",
    "  free table, xIndex, yIndex, rowSize\n",
    "  table := MidPointFM(maxLevel, Sigma, H)\n",
    "  N := 2^maxLevel\n",
    "  xIndex := 0\n",
    "  yIndex := 0\n",
    "  rowSize := N\n",
    "  draw(tableVal, -20..20, -20..20,\n",
    "    var1Steps == N, var2Steps == N, title == \"Fractal Mountain\")"
   ]
  },
  {
   "cell_type": "code",
   "execution_count": 18,
   "metadata": {
    "collapsed": false
   },
   "outputs": [
    {
     "name": "stdout",
     "output_type": "stream",
     "text": [
      "   Compiling function Gauss with type () -> DoubleFloat \n",
      "   Compiling function f4 with type (DoubleFloat,DoubleFloat,DoubleFloat\n",
      "      ,DoubleFloat,DoubleFloat) -> DoubleFloat \n",
      "   Compiling function f3 with type (DoubleFloat,DoubleFloat,DoubleFloat\n",
      "      ,DoubleFloat) -> DoubleFloat \n",
      "   Compiling function MidPointFM with type (PositiveInteger,DoubleFloat\n",
      "      ,DoubleFloat) -> IndexedTwoDimensionalArray(DoubleFloat,0,0) \n",
      "   Compiling function drawMountain with type (PositiveInteger,\n",
      "      DoubleFloat) -> ThreeDimensionalViewport \n",
      "   Compiled code for drawMountain has been cleared.\n",
      "   Compiling function tableVal with type (DoubleFloat,DoubleFloat) -> \n",
      "      DoubleFloat \n",
      "   Transmitting data...\n"
     ]
    },
    {
     "data": {
      "text/plain": [
       "   ThreeDimensionalViewport: \"Fractal Mountain\"\n",
       "                                               Type: ThreeDimensionalViewport\n"
      ]
     },
     "execution_count": 18,
     "metadata": {},
     "output_type": "execute_result"
    }
   ],
   "source": [
    "drawMountain(3, sf 0.95)"
   ]
  },
  {
   "cell_type": "code",
   "execution_count": 19,
   "metadata": {
    "collapsed": false
   },
   "outputs": [
    {
     "name": "stderr",
     "output_type": "stream",
     "text": [
      "INDEX-TOO-LARGE-ERROR: \n",
      "  #<SB-KERNEL:INDEX-TOO-LARGE-ERROR expected-type: (INTEGER 0 (0)) datum: 0>\n"
     ]
    },
    {
     "data": {
      "text/plain": []
     },
     "execution_count": 19,
     "metadata": {},
     "output_type": "execute_result"
    }
   ],
   "source": []
  }
 ],
 "metadata": {
  "kernelspec": {
   "display_name": "FriCAS",
   "language": "spad",
   "name": "ifricas"
  },
  "language_info": {
   "codemirror_mode": "spad",
   "mimetype": "text/x-spad",
   "name": "SPAD",
   "pygments_lexer": "spad",
   "version": "1.2.6"
  },
  "name": "mountain.ipynb"
 },
 "nbformat": 4,
 "nbformat_minor": 0
}