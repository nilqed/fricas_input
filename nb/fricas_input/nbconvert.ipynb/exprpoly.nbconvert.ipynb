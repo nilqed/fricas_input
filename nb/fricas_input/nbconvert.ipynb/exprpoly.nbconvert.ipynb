{
 "cells": [
  {
   "cell_type": "markdown",
   "metadata": {},
   "source": [
    "Copyright The Numerical Algorithms Group Limited 1994.\n",
    " This file test coercing objects of type Expression to various\n",
    " polynomial types and back.\n"
   ]
  },
  {
   "cell_type": "markdown",
   "metadata": {},
   "source": [
    " Start with a simple expression involving variables\n"
   ]
  },
  {
   "cell_type": "code",
   "execution_count": 0,
   "metadata": {
    "collapsed": false
   },
   "outputs": [
    {
     "name": "stdout",
     "output_type": "stream",
     "text": [
      "   All user variables and function definitions have been cleared.\n"
     ]
    },
    {
     "data": {
      "text/plain": []
     },
     "execution_count": 0,
     "metadata": {},
     "output_type": "execute_result"
    }
   ],
   "source": [
    ")clear all"
   ]
  },
  {
   "cell_type": "markdown",
   "metadata": {},
   "source": [
    " Coerce it to various multivariate polynomial types\n"
   ]
  },
  {
   "cell_type": "code",
   "execution_count": 1,
   "metadata": {
    "collapsed": false
   },
   "outputs": [
    {
     "name": "stdout",
     "output_type": "stream",
     "text": [
      "Warning: HyperTeX macro table not found\n"
     ]
    },
    {
     "data": {
      "text/plain": [
       "                   2\n",
       "   - x y sin(j) + x sin(i)\n",
       "                                                    Type: Expression(Integer)\n"
      ]
     },
     "execution_count": 1,
     "metadata": {},
     "output_type": "execute_result"
    }
   ],
   "source": [
    "a := sin(i)*x^2 - y*x*sin(j)"
   ]
  },
  {
   "cell_type": "code",
   "execution_count": 2,
   "metadata": {
    "collapsed": false
   },
   "outputs": [
    {
     "data": {
      "text/plain": [
       "          2\n",
       "   sin(i)x  - sin(j)x y\n",
       "           Type: DistributedMultivariatePolynomial([x,y],Expression(Integer))\n"
      ]
     },
     "execution_count": 2,
     "metadata": {},
     "output_type": "execute_result"
    }
   ],
   "source": [
    "a :: DMP([x,y], EXPR INT)"
   ]
  },
  {
   "cell_type": "code",
   "execution_count": 3,
   "metadata": {
    "collapsed": false
   },
   "outputs": [
    {
     "data": {
      "text/plain": [
       "   sin(i)\n",
       "                                                    Type: Expression(Integer)\n"
      ]
     },
     "execution_count": 3,
     "metadata": {},
     "output_type": "execute_result"
    }
   ],
   "source": [
    "leadingCoefficient %"
   ]
  },
  {
   "cell_type": "code",
   "execution_count": 4,
   "metadata": {
    "collapsed": false
   },
   "outputs": [
    {
     "data": {
      "text/plain": [
       "          2\n",
       "   sin(i)x  - sin(j)x y\n",
       "Type: HomogeneousDistributedMultivariatePolynomial([x,y],Expression(Integer))\n"
      ]
     },
     "execution_count": 4,
     "metadata": {},
     "output_type": "execute_result"
    }
   ],
   "source": [
    "a :: HDMP([x,y], EXPR INT)"
   ]
  },
  {
   "cell_type": "code",
   "execution_count": 5,
   "metadata": {
    "collapsed": false
   },
   "outputs": [
    {
     "data": {
      "text/plain": [
       "          2\n",
       "   sin(i)x  - sin(j)y x\n",
       "                      Type: MultivariatePolynomial([x,y],Expression(Integer))\n"
      ]
     },
     "execution_count": 5,
     "metadata": {},
     "output_type": "execute_result"
    }
   ],
   "source": [
    "a :: MPOLY([x,y], EXPR INT)"
   ]
  },
  {
   "cell_type": "markdown",
   "metadata": {},
   "source": [
    " Coerce it back to type Expression\n"
   ]
  },
  {
   "cell_type": "code",
   "execution_count": 6,
   "metadata": {
    "collapsed": false
   },
   "outputs": [
    {
     "data": {
      "text/plain": [
       "                        2\n",
       "   - sin(j)x y + sin(i)x\n",
       "                      Type: MultivariatePolynomial([y,x],Expression(Integer))\n"
      ]
     },
     "execution_count": 6,
     "metadata": {},
     "output_type": "execute_result"
    }
   ],
   "source": [
    "a :: MPOLY([y,x], EXPR INT)"
   ]
  },
  {
   "cell_type": "code",
   "execution_count": 7,
   "metadata": {
    "collapsed": false
   },
   "outputs": [
    {
     "data": {
      "text/plain": [
       "                   2\n",
       "   - x y sin(j) + x sin(i)\n",
       "                                                    Type: Expression(Integer)\n"
      ]
     },
     "execution_count": 7,
     "metadata": {},
     "output_type": "execute_result"
    }
   ],
   "source": [
    "% :: EXPR INT"
   ]
  },
  {
   "cell_type": "markdown",
   "metadata": {},
   "source": [
    " Coerce the expression to various univariate polynomial types\n"
   ]
  },
  {
   "cell_type": "code",
   "execution_count": 8,
   "metadata": {
    "collapsed": false
   },
   "outputs": [
    {
     "data": {
      "text/plain": [
       "   0\n",
       "                                                    Type: Expression(Integer)\n"
      ]
     },
     "execution_count": 8,
     "metadata": {},
     "output_type": "execute_result"
    }
   ],
   "source": [
    "a - %"
   ]
  },
  {
   "cell_type": "code",
   "execution_count": 9,
   "metadata": {
    "collapsed": false
   },
   "outputs": [
    {
     "data": {
      "text/plain": [
       "          2\n",
       "   sin(i)x  - y sin(j)x\n",
       "                            Type: UnivariatePolynomial(x,Expression(Integer))\n"
      ]
     },
     "execution_count": 9,
     "metadata": {},
     "output_type": "execute_result"
    }
   ],
   "source": [
    "a :: UP(x, EXPR INT)"
   ]
  },
  {
   "cell_type": "code",
   "execution_count": 10,
   "metadata": {
    "collapsed": false
   },
   "outputs": [
    {
     "data": {
      "text/plain": [
       "                  2\n",
       "   - x sin(j)y + x sin(i)\n",
       "                            Type: UnivariatePolynomial(y,Expression(Integer))\n"
      ]
     },
     "execution_count": 10,
     "metadata": {},
     "output_type": "execute_result"
    }
   ],
   "source": [
    "a :: UP(y, EXPR INT)"
   ]
  },
  {
   "cell_type": "markdown",
   "metadata": {},
   "source": [
    " Coerce it back to type Expression\n"
   ]
  },
  {
   "cell_type": "code",
   "execution_count": 11,
   "metadata": {
    "collapsed": false
   },
   "outputs": [
    {
     "data": {
      "text/plain": [
       "                        2\n",
       "   - sin(j)x y + sin(i)x\n",
       "    Type: UnivariatePolynomial(y,UnivariatePolynomial(x,Expression(Integer)))\n"
      ]
     },
     "execution_count": 11,
     "metadata": {},
     "output_type": "execute_result"
    }
   ],
   "source": [
    "a :: UP(y, UP(x, EXPR INT))"
   ]
  },
  {
   "cell_type": "code",
   "execution_count": 12,
   "metadata": {
    "collapsed": false
   },
   "outputs": [
    {
     "data": {
      "text/plain": [
       "                   2\n",
       "   - x y sin(j) + x sin(i)\n",
       "                                                    Type: Expression(Integer)\n"
      ]
     },
     "execution_count": 12,
     "metadata": {},
     "output_type": "execute_result"
    }
   ],
   "source": [
    "% :: EXPR INT"
   ]
  },
  {
   "cell_type": "markdown",
   "metadata": {},
   "source": [
    " We needn't have had such a complicated expression. The following is\n",
    " really just a multivariate polynomial.\n"
   ]
  },
  {
   "cell_type": "code",
   "execution_count": 13,
   "metadata": {
    "collapsed": false
   },
   "outputs": [
    {
     "data": {
      "text/plain": [
       "   0\n",
       "                                                    Type: Expression(Integer)\n"
      ]
     },
     "execution_count": 13,
     "metadata": {},
     "output_type": "execute_result"
    }
   ],
   "source": [
    "a - %"
   ]
  },
  {
   "cell_type": "code",
   "execution_count": 14,
   "metadata": {
    "collapsed": false
   },
   "outputs": [
    {
     "data": {
      "text/plain": [
       "      3                 2       2             2       3        2     2     3\n",
       "   27z  + (- 54y + 27x)z  + (36y  - 36x y + 9x )z - 8y  + 12x y  - 6x y + x\n",
       "                                                    Type: Expression(Integer)\n"
      ]
     },
     "execution_count": 14,
     "metadata": {},
     "output_type": "execute_result"
    }
   ],
   "source": [
    "b : EXPR INT := (x - 2*y + 3*z)^3"
   ]
  },
  {
   "cell_type": "code",
   "execution_count": 15,
   "metadata": {
    "collapsed": false
   },
   "outputs": [
    {
     "data": {
      "text/plain": [
       "    3     2      2         2                  2     3      2         2      3\n",
       "   x  - 6x y + 9x z + 12x y  - 36x y z + 27x z  - 8y  + 36y z - 54y z  + 27z\n",
       "                     Type: DistributedMultivariatePolynomial([x,y,z],Integer)\n"
      ]
     },
     "execution_count": 15,
     "metadata": {},
     "output_type": "execute_result"
    }
   ],
   "source": [
    "b :: DMP([x,y,z], Integer)"
   ]
  },
  {
   "cell_type": "code",
   "execution_count": 16,
   "metadata": {
    "collapsed": false
   },
   "outputs": [
    {
     "data": {
      "text/plain": [
       "       3      2        2    3      2                2         2        2      3\n",
       "   - 8y  + 12y x - 6y x  + x  + 36y z - 36y x z + 9x z - 54y z  + 27x z  + 27z\n",
       "          Type: HomogeneousDistributedMultivariatePolynomial([y,x,z],Integer)\n"
      ]
     },
     "execution_count": 16,
     "metadata": {},
     "output_type": "execute_result"
    }
   ],
   "source": [
    "b :: HDMP([y,x,z], Integer)"
   ]
  },
  {
   "cell_type": "code",
   "execution_count": 17,
   "metadata": {
    "collapsed": false
   },
   "outputs": [
    {
     "data": {
      "text/plain": [
       "   0\n",
       "                                                    Type: Expression(Integer)\n"
      ]
     },
     "execution_count": 17,
     "metadata": {},
     "output_type": "execute_result"
    }
   ],
   "source": [
    "b - (% :: EXPR INT)"
   ]
  },
  {
   "cell_type": "code",
   "execution_count": 18,
   "metadata": {
    "collapsed": false
   },
   "outputs": [
    {
     "data": {
      "text/plain": [
       "      3                 2       2             2       3        2     2     3\n",
       "   27z  + (- 54y + 27x)z  + (36y  - 36x y + 9x )z - 8y  + 12x y  - 6x y + x\n",
       "                                Type: MultivariatePolynomial([z,y,x],Integer)\n"
      ]
     },
     "execution_count": 18,
     "metadata": {},
     "output_type": "execute_result"
    }
   ],
   "source": [
    "b :: MPOLY([z,y,x], Integer)"
   ]
  },
  {
   "cell_type": "code",
   "execution_count": 19,
   "metadata": {
    "collapsed": false
   },
   "outputs": [
    {
     "data": {
      "text/plain": [
       "       3               2        2              2      3     2         2      3\n",
       "   - 8y  + (12x + 36z)y  + (- 6x  - 36x z - 54z )y + x  + 9x z + 27x z  + 27z\n",
       "Type: UnivariatePolynomial(y,HomogeneousDistributedMultivariatePolynomial([x,z],Integer))\n"
      ]
     },
     "execution_count": 19,
     "metadata": {},
     "output_type": "execute_result"
    }
   ],
   "source": [
    "b :: UP(y, HDMP([x,z], Integer))"
   ]
  },
  {
   "cell_type": "code",
   "execution_count": 20,
   "metadata": {
    "collapsed": false
   },
   "outputs": [
    {
     "data": {
      "text/plain": [
       "   0\n",
       "                                                    Type: Expression(Integer)\n"
      ]
     },
     "execution_count": 20,
     "metadata": {},
     "output_type": "execute_result"
    }
   ],
   "source": [
    "b - (% :: EXPR INT)"
   ]
  },
  {
   "cell_type": "code",
   "execution_count": 21,
   "metadata": {
    "collapsed": false
   },
   "outputs": [
    {
     "name": "stderr",
     "output_type": "stream",
     "text": [
      "INDEX-TOO-LARGE-ERROR: \n",
      "  #<SB-KERNEL:INDEX-TOO-LARGE-ERROR expected-type: (INTEGER 0 (0)) datum: 0>\n"
     ]
    },
    {
     "data": {
      "text/plain": []
     },
     "execution_count": 21,
     "metadata": {},
     "output_type": "execute_result"
    }
   ],
   "source": []
  }
 ],
 "metadata": {
  "kernelspec": {
   "display_name": "FriCAS",
   "language": "spad",
   "name": "ifricas"
  },
  "language_info": {
   "codemirror_mode": "spad",
   "mimetype": "text/x-spad",
   "name": "SPAD",
   "pygments_lexer": "spad",
   "version": "1.2.6"
  },
  "name": "exprpoly.ipynb"
 },
 "nbformat": 4,
 "nbformat_minor": 0
}