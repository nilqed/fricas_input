{
 "cells": [
  {
   "cell_type": "markdown",
   "metadata": {},
   "source": [
    "Copyright The Numerical Algorithms Group Limited 1994.\n",
    " Color gallery page 5\n",
    " Etruscan Venus\n",
    " Parameterization by George Frances\n"
   ]
  },
  {
   "cell_type": "code",
   "execution_count": 0,
   "metadata": {
    "collapsed": false
   },
   "outputs": [
    {
     "data": {
      "text/plain": [
       "                                                                   Type: Void\n"
      ]
     },
     "execution_count": 0,
     "metadata": {},
     "output_type": "execute_result"
    }
   ],
   "source": [
    "venus(a,r,steps) ==\n",
    "  surf := (u:DoubleFloat, v:DoubleFloat): Point DoubleFloat +->\n",
    "    cv := cos(v)\n",
    "    sv := sin(v)\n",
    "    cu := cos(u)\n",
    "    su := sin(u)\n",
    "    x := r * cos(2*u) * cv + sv * cu\n",
    "    y := r * sin(2*u) * cv - sv * su\n",
    "    z := a * cv\n",
    "    point [x,y,z]\n",
    "  draw(surf, 0..%pi, -%pi..%pi, var1Steps==steps,var2Steps==steps,\n",
    "       title == \"Etruscan Venus\")"
   ]
  },
  {
   "cell_type": "markdown",
   "metadata": {},
   "source": [
    " Figure Eight Klein Bottle\n",
    " Parameterization from:\n",
    " \"Differential Geometry and Computer Graphics\" by Thomas Banchoff\n",
    " in Perspectives in Mathemtaics, Anneversry of Oberwolfasch 1984.\n",
    " Beirkhauser-Verlag, Basel, pp 43-60.\n"
   ]
  },
  {
   "cell_type": "code",
   "execution_count": 1,
   "metadata": {
    "collapsed": false
   },
   "outputs": [
    {
     "name": "stdout",
     "output_type": "stream",
     "text": [
      "Warning: HyperTeX macro table not found\n",
      "   Compiling function venus with type (Fraction(Integer),Fraction(\n",
      "      Integer),PositiveInteger) -> ThreeDimensionalViewport \n",
      "   Transmitting data...\n"
     ]
    },
    {
     "data": {
      "text/plain": [
       "   ThreeDimensionalViewport: \"Etruscan Venus\"\n",
       "                                               Type: ThreeDimensionalViewport\n"
      ]
     },
     "execution_count": 1,
     "metadata": {},
     "output_type": "execute_result"
    }
   ],
   "source": [
    "venus(5/2, 13/10, 50)"
   ]
  },
  {
   "cell_type": "code",
   "execution_count": 2,
   "metadata": {
    "collapsed": false
   },
   "outputs": [
    {
     "name": "stdout",
     "output_type": "stream",
     "text": [
      "\n",
      "\n",
      "\n"
     ]
    },
    {
     "data": {
      "text/plain": [
       "   [cx cy sx2 sy + cx cx2 sq2 + cx cx2 cy, cy sx sx2 sy + (cx2 sq2 + cx2 cy)sx,\n",
       "    cx2 cy sy + (- sq2 - cy)sx2]\n",
       "                                             Type: Point(Polynomial(Integer))\n"
      ]
     },
     "execution_count": 2,
     "metadata": {},
     "output_type": "execute_result"
    }
   ],
   "source": [
    "  point [cx * (cx2 * (sq2 + cy) + (sx2 * sy * cy)), _\n",
    "         sx * (cx2 * (sq2 + cy) + (sx2 * sy * cy)), _\n",
    "         -sx2 * (sq2 + cy) + cx2 * sy * cy]\n"
   ]
  },
  {
   "cell_type": "code",
   "execution_count": 3,
   "metadata": {
    "collapsed": false
   },
   "outputs": [
    {
     "name": "stderr",
     "output_type": "stream",
     "text": [
      "   There are 7 exposed and 0 unexposed library operations named draw \n",
      "      having 4 argument(s) but none was determined to be applicable. \n",
      "      Use HyperDoc Browse, or issue\n",
      "                              )display op draw\n",
      "      to learn more about the available operations. Perhaps \n",
      "      package-calling the operation or using coercions on the arguments\n",
      "      will allow you to apply the operation.\n",
      " \n",
      "   Cannot find a definition or applicable library operation named draw \n",
      "      with argument type(s) \n",
      "                               Variable(klein)\n",
      "                                 Segment(Pi)\n",
      "                                 Segment(Pi)\n",
      "                              List(DrawOption)\n",
      "      \n",
      "      Perhaps you should use \"@\" to indicate the required return type, \n",
      "      or \"$\" to specify which version of the function you need.\n",
      "\n"
     ]
    },
    {
     "data": {
      "text/plain": [
       "error\n"
      ]
     },
     "execution_count": 3,
     "metadata": {},
     "output_type": "execute_result"
    }
   ],
   "source": [
    "draw(klein, 0..4*%pi, 0..2*%pi, var1Steps==50, var2Steps==50, _\n",
    "     title==\"Figure Eight Klein Bottle\")\n"
   ]
  },
  {
   "cell_type": "markdown",
   "metadata": {},
   "source": [
    " Twisted torus\n"
   ]
  },
  {
   "cell_type": "code",
   "execution_count": 4,
   "metadata": {
    "collapsed": false
   },
   "outputs": [
    {
     "data": {
      "text/plain": [
       "                                                                   Type: Void\n"
      ]
     },
     "execution_count": 4,
     "metadata": {},
     "output_type": "execute_result"
    }
   ],
   "source": [
    "klein(x,y) ==\n",
    "  cx := cos(x)\n",
    "  cy := cos(y)\n",
    "  sx := sin(x)\n",
    "  sy := sin(y)\n",
    "  sx2 := sin(x/2)\n",
    "  cx2 := cos(x/2)\n",
    "  sq2 := sqrt(2.0@DoubleFloat)"
   ]
  },
  {
   "cell_type": "markdown",
   "metadata": {},
   "source": [
    " rotate a 2-d point by theta round the origin\n"
   ]
  },
  {
   "cell_type": "code",
   "execution_count": 5,
   "metadata": {
    "collapsed": false
   },
   "outputs": [
    {
     "name": "stderr",
     "output_type": "stream",
     "text": [
      " \n",
      "   The file ntube is needed but does not exist.\n",
      "\n"
     ]
    },
    {
     "data": {
      "text/plain": [
       "error\n"
      ]
     },
     "execution_count": 5,
     "metadata": {},
     "output_type": "execute_result"
    }
   ],
   "source": [
    ")read ntube"
   ]
  },
  {
   "cell_type": "markdown",
   "metadata": {},
   "source": [
    " a circle in 3-space\n"
   ]
  },
  {
   "cell_type": "code",
   "execution_count": 6,
   "metadata": {
    "collapsed": false
   },
   "outputs": [
    {
     "data": {
      "text/plain": [
       "                                                                   Type: Void\n"
      ]
     },
     "execution_count": 6,
     "metadata": {},
     "output_type": "execute_result"
    }
   ],
   "source": [
    "rotateBy(p, theta) ==\n",
    "  c := cos(theta)\n",
    "  s := sin(theta)\n",
    "  point [p.1*c - p.2*s, p.1*s + p.2*c]"
   ]
  },
  {
   "cell_type": "markdown",
   "metadata": {},
   "source": [
    " an elipse which twists around 4 times as t revolves once.\n"
   ]
  },
  {
   "cell_type": "code",
   "execution_count": 7,
   "metadata": {
    "collapsed": false
   },
   "outputs": [
    {
     "data": {
      "text/plain": [
       "                                                                   Type: Void\n"
      ]
     },
     "execution_count": 7,
     "metadata": {},
     "output_type": "execute_result"
    }
   ],
   "source": [
    "bcircle t ==\n",
    "  point [3*cos t, 3*sin t, 0]"
   ]
  },
  {
   "cell_type": "code",
   "execution_count": 8,
   "metadata": {
    "collapsed": false
   },
   "outputs": [
    {
     "name": "stderr",
     "output_type": "stream",
     "text": [
      "   There are no library operations named ntubeDrawOpt \n",
      "      Use HyperDoc Browse or issue\n",
      "                            )what op ntubeDrawOpt\n",
      "      to learn if there is any operation containing \" ntubeDrawOpt \" in\n",
      "      its name.\n",
      " \n",
      "   Cannot find a definition or applicable library operation named \n",
      "      ntubeDrawOpt with argument type(s) \n",
      "                           FunctionCalled(bcircle)\n",
      "                               Variable(twist)\n",
      "                                 Segment(Pi)\n",
      "                                 Segment(Pi)\n",
      "                              List(DrawOption)\n",
      "      \n",
      "      Perhaps you should use \"@\" to indicate the required return type, \n",
      "      or \"$\" to specify which version of the function you need.\n",
      "\n"
     ]
    },
    {
     "data": {
      "text/plain": [
       "error\n"
      ]
     },
     "execution_count": 8,
     "metadata": {},
     "output_type": "execute_result"
    }
   ],
   "source": [
    "ntubeDrawOpt(bcircle, twist, 0..2*%pi, 0..2*%pi, _\n",
    "             var1Steps == 70, var2Steps == 250)\n"
   ]
  },
  {
   "cell_type": "markdown",
   "metadata": {},
   "source": [
    " Striped torus\n",
    " a twisting circle\n"
   ]
  },
  {
   "cell_type": "code",
   "execution_count": 9,
   "metadata": {
    "collapsed": false
   },
   "outputs": [
    {
     "data": {
      "text/plain": [
       "                                                                   Type: Void\n"
      ]
     },
     "execution_count": 9,
     "metadata": {},
     "output_type": "execute_result"
    }
   ],
   "source": [
    "twist(u, t) ==\n",
    "  theta := 4*t\n",
    "  p := point [sin u, cos(u)/2]\n",
    "  rotateBy(p, theta)"
   ]
  },
  {
   "cell_type": "markdown",
   "metadata": {},
   "source": [
    " color function producing 21 stripes\n"
   ]
  },
  {
   "cell_type": "code",
   "execution_count": 10,
   "metadata": {
    "collapsed": false
   },
   "outputs": [
    {
     "data": {
      "text/plain": [
       "                                                                   Type: Void\n"
      ]
     },
     "execution_count": 10,
     "metadata": {},
     "output_type": "execute_result"
    }
   ],
   "source": [
    "twist2(u, t) ==\n",
    "  theta := t\n",
    "  p := point [sin u, cos(u)]\n",
    "  rotateBy(p, theta)"
   ]
  },
  {
   "cell_type": "code",
   "execution_count": 11,
   "metadata": {
    "collapsed": false
   },
   "outputs": [
    {
     "name": "stderr",
     "output_type": "stream",
     "text": [
      "   There are 3 exposed and 0 unexposed library operations named \n",
      "      colorFunction having 1 argument(s) but none was determined to be \n",
      "      applicable. Use HyperDoc Browse, or issue\n",
      "                          )display op colorFunction\n",
      "      to learn more about the available operations. Perhaps \n",
      "      package-calling the operation or using coercions on the arguments\n",
      "      will allow you to apply the operation.\n",
      " \n",
      "   Cannot find a definition or applicable library operation named \n",
      "      colorFunction with argument type(s) \n",
      "                                Variable(cf)\n",
      "      \n",
      "      Perhaps you should use \"@\" to indicate the required return type, \n",
      "      or \"$\" to specify which version of the function you need.\n",
      "\n"
     ]
    },
    {
     "data": {
      "text/plain": [
       "error\n"
      ]
     },
     "execution_count": 11,
     "metadata": {},
     "output_type": "execute_result"
    }
   ],
   "source": [
    "ntubeDrawOpt(bcircle, twist2, 0..2*%pi, 0..2*%pi, _\n",
    "              colorFunction == cf, var1Steps == 168, var2Steps == 126)\n"
   ]
  },
  {
   "cell_type": "code",
   "execution_count": 12,
   "metadata": {
    "collapsed": false
   },
   "outputs": [
    {
     "data": {
      "text/plain": [
       "                                                                   Type: Void\n"
      ]
     },
     "execution_count": 12,
     "metadata": {},
     "output_type": "execute_result"
    }
   ],
   "source": [
    "cf(u,v) == sin(21*u)"
   ]
  },
  {
   "cell_type": "code",
   "execution_count": 13,
   "metadata": {
    "collapsed": false
   },
   "outputs": [
    {
     "name": "stderr",
     "output_type": "stream",
     "text": [
      "INDEX-TOO-LARGE-ERROR: \n",
      "  #<SB-KERNEL:INDEX-TOO-LARGE-ERROR expected-type: (INTEGER 0 (0)) datum: 0>\n"
     ]
    },
    {
     "data": {
      "text/plain": []
     },
     "execution_count": 13,
     "metadata": {},
     "output_type": "execute_result"
    }
   ],
   "source": []
  }
 ],
 "metadata": {
  "kernelspec": {
   "display_name": "FriCAS",
   "language": "spad",
   "name": "ifricas"
  },
  "language_info": {
   "codemirror_mode": "spad",
   "mimetype": "text/x-spad",
   "name": "SPAD",
   "pygments_lexer": "spad",
   "version": "1.2.6"
  },
  "name": "images5.ipynb"
 },
 "nbformat": 4,
 "nbformat_minor": 0
}