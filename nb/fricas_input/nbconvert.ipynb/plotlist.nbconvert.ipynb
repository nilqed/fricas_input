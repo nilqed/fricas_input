{
 "cells": [
  {
   "cell_type": "markdown",
   "metadata": {},
   "source": [
    "Copyright The Numerical Algorithms Group Limited 1996.\n"
   ]
  },
  {
   "cell_type": "markdown",
   "metadata": {},
   "source": [
    "draws x^i for i in 1..5, x=-1..1\n"
   ]
  },
  {
   "cell_type": "code",
   "execution_count": 0,
   "metadata": {
    "collapsed": false
   },
   "outputs": [
    {
     "name": "stdout",
     "output_type": "stream",
     "text": [
      "   All user variables and function definitions have been cleared.\n"
     ]
    },
    {
     "data": {
      "text/plain": []
     },
     "execution_count": 0,
     "metadata": {},
     "output_type": "execute_result"
    }
   ],
   "source": [
    ")clear all"
   ]
  },
  {
   "cell_type": "code",
   "execution_count": 1,
   "metadata": {
    "collapsed": false
   },
   "outputs": [
    {
     "name": "stdout",
     "output_type": "stream",
     "text": [
      "   Function declaration makePoint : (DoubleFloat,DoubleFloat) -> Point(\n",
      "      DoubleFloat) has been added to workspace.\n",
      "\n"
     ]
    },
    {
     "data": {
      "text/plain": [
       "                                                                   Type: Void\n"
      ]
     },
     "execution_count": 1,
     "metadata": {},
     "output_type": "execute_result"
    }
   ],
   "source": [
    "makePoint(x:DoubleFloat,y:DoubleFloat):(Point DoubleFloat) ==\n",
    "  point(l :List DoubleFloat := [x,y])$(Point DoubleFloat)"
   ]
  },
  {
   "cell_type": "code",
   "execution_count": 2,
   "metadata": {
    "collapsed": false
   },
   "outputs": [
    {
     "name": "stdout",
     "output_type": "stream",
     "text": [
      "   Function declaration drawFun : ((DoubleFloat -> DoubleFloat),Segment\n",
      "      (Float)) -> List(List(Point(DoubleFloat))) has been added to \n",
      "      workspace.\n",
      "\n"
     ]
    },
    {
     "data": {
      "text/plain": [
       "                                                                   Type: Void\n"
      ]
     },
     "execution_count": 2,
     "metadata": {},
     "output_type": "execute_result"
    }
   ],
   "source": [
    "drawFun(fn:DoubleFloat->DoubleFloat, seg:Segment Float):List(List(Point DoubleFloat)) ==\n",
    "  fp := (t:DoubleFloat):Point DoubleFloat +-> makePoint(t, fn(t))\n",
    "  plot := pointPlot(fp, segment(convert(lo seg)@DoubleFloat, convert(hi seg)@DoubleFloat))$PLOT\n",
    "  lp := listBranches(plot)$PLOT"
   ]
  },
  {
   "cell_type": "code",
   "execution_count": 3,
   "metadata": {
    "collapsed": false
   },
   "outputs": [
    {
     "name": "stderr",
     "output_type": "stream",
     "text": [
      "  Line   1: makeListFuns(fl:List(Expression Integer),_\n",
      "  Line   2:              seg:SegmentBinding Float):List(DoubleFloat->DoubleFloat) ==\n",
      "           ......................................................................A\n",
      "  Error  A: syntax error at top level\n",
      "  Error  A: Improper syntax.\n",
      "   2 error(s) parsing \n",
      "\n"
     ]
    },
    {
     "data": {
      "text/plain": [
       "error\n"
      ]
     },
     "execution_count": 3,
     "metadata": {},
     "output_type": "execute_result"
    }
   ],
   "source": [
    "makeListFuns(fl:List(Expression Integer),_\n",
    "             seg:SegmentBinding Float):List(DoubleFloat->DoubleFloat) ==\n"
   ]
  },
  {
   "cell_type": "code",
   "execution_count": 4,
   "metadata": {
    "collapsed": false
   },
   "outputs": [
    {
     "name": "stdout",
     "output_type": "stream",
     "text": [
      "   Function declaration drawFuns : (List((DoubleFloat -> DoubleFloat)),\n",
      "      SegmentBinding(Float)) -> TwoDimensionalViewport has been added \n",
      "      to workspace.\n",
      "\n"
     ]
    },
    {
     "data": {
      "text/plain": [
       "                                                                   Type: Void\n"
      ]
     },
     "execution_count": 4,
     "metadata": {},
     "output_type": "execute_result"
    }
   ],
   "source": [
    "drawFuns(fl:List(DoubleFloat->DoubleFloat), seg:SegmentBinding Float):VIEW2D ==\n",
    "  v := viewport2D()$VIEW2D\n",
    "  i : PositiveInteger := 1\n",
    "  for f in fl repeat\n",
    "    g := graphImage()$GRIMAGE\n",
    "    s : Segment Float := segment seg\n",
    "    llp : List(List(Point DoubleFloat)) := drawFun(f, s)\n",
    "    g :GRIMAGE := graphCurves(llp)$VIEW\n",
    "    putGraph(v,g,i)$VIEW2D\n",
    "    i := i + 1\n",
    "  makeViewport2D(v)$VIEW2D\n",
    "  lfuns:List(DoubleFloat->DoubleFloat) := empty()\n",
    "  for f in fl repeat\n",
    "    ff : (DoubleFloat->DoubleFloat) := makeFloatFunction(f, variable seg)$MakeFloatCompiledFunction(Expression Integer)\n",
    "    lfuns := cons(ff, lfuns)\n",
    "  lfuns"
   ]
  },
  {
   "cell_type": "code",
   "execution_count": 5,
   "metadata": {
    "collapsed": false
   },
   "outputs": [
    {
     "name": "stderr",
     "output_type": "stream",
     "text": [
      "Warning: HyperTeX macro table not found\n",
      "   There are no library operations named makeListFuns \n",
      "      Use HyperDoc Browse or issue\n",
      "                            )what op makeListFuns\n",
      "      to learn if there is any operation containing \" makeListFuns \" in\n",
      "      its name.\n",
      " \n",
      "   Cannot find a definition or applicable library operation named \n",
      "      makeListFuns with argument type(s) \n",
      "                          List(Polynomial(Integer))\n",
      "                           SegmentBinding(Integer)\n",
      "      \n",
      "      Perhaps you should use \"@\" to indicate the required return type, \n",
      "      or \"$\" to specify which version of the function you need.\n",
      "\n"
     ]
    },
    {
     "data": {
      "text/plain": [
       "error\n"
      ]
     },
     "execution_count": 5,
     "metadata": {},
     "output_type": "execute_result"
    }
   ],
   "source": [
    "drawFuns(makeListFuns([x^i for i in 1..5], x=-1..1), x=-1..1)"
   ]
  },
  {
   "cell_type": "code",
   "execution_count": 6,
   "metadata": {
    "collapsed": false
   },
   "outputs": [
    {
     "name": "stderr",
     "output_type": "stream",
     "text": [
      "INDEX-TOO-LARGE-ERROR: \n",
      "  #<SB-KERNEL:INDEX-TOO-LARGE-ERROR expected-type: (INTEGER 0 (0)) datum: 0>\n"
     ]
    },
    {
     "data": {
      "text/plain": []
     },
     "execution_count": 6,
     "metadata": {},
     "output_type": "execute_result"
    }
   ],
   "source": []
  }
 ],
 "metadata": {
  "kernelspec": {
   "display_name": "FriCAS",
   "language": "spad",
   "name": "ifricas"
  },
  "language_info": {
   "codemirror_mode": "spad",
   "mimetype": "text/x-spad",
   "name": "SPAD",
   "pygments_lexer": "spad",
   "version": "1.2.6"
  },
  "name": "plotlist.ipynb"
 },
 "nbformat": 4,
 "nbformat_minor": 0
}