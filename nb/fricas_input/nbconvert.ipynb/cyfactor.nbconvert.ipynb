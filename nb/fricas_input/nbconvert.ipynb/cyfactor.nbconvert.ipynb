{
 "cells": [
  {
   "cell_type": "markdown",
   "metadata": {},
   "source": [
    "Copyright The Numerical Algorithms Group Limited 1996.\n"
   ]
  },
  {
   "cell_type": "markdown",
   "metadata": {},
   "source": [
    "Special case tests of factoring code for cyclotomic polynomials\n",
    " +/- x^n - 1 (n even)\n"
   ]
  },
  {
   "cell_type": "code",
   "execution_count": 0,
   "metadata": {
    "collapsed": false
   },
   "outputs": [
    {
     "name": "stdout",
     "output_type": "stream",
     "text": [
      "   All user variables and function definitions have been cleared.\n"
     ]
    },
    {
     "data": {
      "text/plain": []
     },
     "execution_count": 0,
     "metadata": {},
     "output_type": "execute_result"
    }
   ],
   "source": [
    ")cl all"
   ]
  },
  {
   "cell_type": "code",
   "execution_count": 1,
   "metadata": {
    "collapsed": false
   },
   "outputs": [
    {
     "name": "stdout",
     "output_type": "stream",
     "text": [
      "Warning: HyperTeX macro table not found\n",
      "          "
     ]
    },
    {
     "data": {
      "text/plain": [
       "                     2           2       2           4    2\n",
       "     (x - 1)(x + 1)(x  - x + 1)(x  + 1)(x  + x + 1)(x  - x  + 1)\n",
       "  *\n",
       "       6    5    4    3    2           6    5    4    3    2\n",
       "     (x  - x  + x  - x  + x  - x + 1)(x  + x  + x  + x  + x  + x + 1)\n",
       "  *\n",
       "       12    11    9    8    6    4    3\n",
       "     (x   - x   + x  - x  + x  - x  + x  - x + 1)\n",
       "  *\n",
       "       12    10    8    6    4    2\n",
       "     (x   - x   + x  - x  + x  - x  + 1)\n",
       "  *\n",
       "       12    11    9    8    6    4    3\n",
       "     (x   + x   - x  - x  + x  - x  - x  + x + 1)\n",
       "  *\n",
       "       24    22    18    16    12    8    6    2\n",
       "     (x   + x   - x   - x   + x   - x  - x  + x  + 1)\n",
       "                                          Type: Factored(Polynomial(Integer))\n"
      ]
     },
     "execution_count": 1,
     "metadata": {},
     "output_type": "execute_result"
    }
   ],
   "source": [
    "factor(x^84 - 1)"
   ]
  },
  {
   "cell_type": "markdown",
   "metadata": {},
   "source": [
    " +/- x^n + 1 (n odd)\n"
   ]
  },
  {
   "cell_type": "code",
   "execution_count": 2,
   "metadata": {
    "collapsed": false
   },
   "outputs": [
    {
     "name": "stdout",
     "output_type": "stream",
     "text": [
      "                                    "
     ]
    },
    {
     "data": {
      "text/plain": [
       "   -\n",
       "                        2\n",
       "        (x - 1)(x + 1)(x  + 1)\n",
       "     *\n",
       "           16    15    14    13    12    11    10    9    8    7    6    5    4\n",
       "          x   - x   + x   - x   + x   - x   + x   - x  + x  - x  + x  - x  + x\n",
       "        + \n",
       "             3    2\n",
       "          - x  + x  - x + 1\n",
       "     *\n",
       "           16    15    14    13    12    11    10    9    8    7    6    5    4\n",
       "          x   + x   + x   + x   + x   + x   + x   + x  + x  + x  + x  + x  + x\n",
       "        + \n",
       "           3    2\n",
       "          x  + x  + x + 1\n",
       "     *\n",
       "           32    30    28    26    24    22    20    18    16    14    12    10\n",
       "          x   - x   + x   - x   + x   - x   + x   - x   + x   - x   + x   - x\n",
       "        + \n",
       "           8    6    4    2\n",
       "          x  - x  + x  - x  + 1\n",
       "                                          Type: Factored(Polynomial(Integer))\n"
      ]
     },
     "execution_count": 2,
     "metadata": {},
     "output_type": "execute_result"
    }
   ],
   "source": [
    "factor(-(x^68 -1))"
   ]
  },
  {
   "cell_type": "code",
   "execution_count": 3,
   "metadata": {
    "collapsed": false
   },
   "outputs": [
    {
     "name": "stdout",
     "output_type": "stream",
     "text": [
      "              "
     ]
    },
    {
     "data": {
      "text/plain": [
       "              2           6    3\n",
       "     (x + 1)(x  - x + 1)(x  - x  + 1)\n",
       "  *\n",
       "       10    9    8    7    6    5    4    3    2\n",
       "     (x   - x  + x  - x  + x  - x  + x  - x  + x  - x + 1)\n",
       "  *\n",
       "        20    19    17    16    14    13    11    10    9    7    6    4    3\n",
       "       x   + x   - x   - x   + x   + x   - x   - x   - x  + x  + x  - x  - x\n",
       "     + \n",
       "       x + 1\n",
       "  *\n",
       "        60    57    51    48    42    39    33    30    27    21    18    12\n",
       "       x   + x   - x   - x   + x   + x   - x   - x   - x   + x   + x   - x\n",
       "     + \n",
       "          9    3\n",
       "       - x  + x  + 1\n",
       "                                          Type: Factored(Polynomial(Integer))\n"
      ]
     },
     "execution_count": 3,
     "metadata": {},
     "output_type": "execute_result"
    }
   ],
   "source": [
    "factor(x^99 + 1)"
   ]
  },
  {
   "cell_type": "markdown",
   "metadata": {},
   "source": [
    " +/- x^(2^k) + 1\n"
   ]
  },
  {
   "cell_type": "code",
   "execution_count": 4,
   "metadata": {
    "collapsed": false
   },
   "outputs": [
    {
     "name": "stdout",
     "output_type": "stream",
     "text": [
      "                        "
     ]
    },
    {
     "data": {
      "text/plain": [
       "   -\n",
       "                 6    5    4    3    2\n",
       "        (x + 1)(x  - x  + x  - x  + x  - x + 1)\n",
       "     *\n",
       "          10    9    8    7    6    5    4    3    2\n",
       "        (x   - x  + x  - x  + x  - x  + x  - x  + x  - x + 1)\n",
       "     *\n",
       "           60    59    53    52    49    48    46    45    42    41    39    37\n",
       "          x   + x   - x   - x   - x   - x   + x   + x   + x   + x   - x   + x\n",
       "        + \n",
       "             35    34    32    30    28    26    25    23    21    19    18\n",
       "          - x   - x   + x   - x   + x   - x   - x   + x   - x   + x   + x\n",
       "        + \n",
       "           15    14    12    11    8    7\n",
       "          x   + x   - x   - x   - x  - x  + x + 1\n",
       "                                          Type: Factored(Polynomial(Integer))\n"
      ]
     },
     "execution_count": 4,
     "metadata": {},
     "output_type": "execute_result"
    }
   ],
   "source": [
    "factor(-(x^77 +1))"
   ]
  },
  {
   "cell_type": "code",
   "execution_count": 5,
   "metadata": {
    "collapsed": false
   },
   "outputs": [
    {
     "data": {
      "text/plain": [
       "   64\n",
       "                                                        Type: PositiveInteger\n"
      ]
     },
     "execution_count": 5,
     "metadata": {},
     "output_type": "execute_result"
    }
   ],
   "source": [
    "ind := 2^6"
   ]
  },
  {
   "cell_type": "code",
   "execution_count": 6,
   "metadata": {
    "collapsed": false
   },
   "outputs": [
    {
     "data": {
      "text/plain": [
       "    64\n",
       "   x   + 1\n",
       "                                          Type: Factored(Polynomial(Integer))\n"
      ]
     },
     "execution_count": 6,
     "metadata": {},
     "output_type": "execute_result"
    }
   ],
   "source": [
    "factor(x^ind + 1)"
   ]
  },
  {
   "cell_type": "code",
   "execution_count": 7,
   "metadata": {
    "collapsed": false
   },
   "outputs": [
    {
     "data": {
      "text/plain": [
       "   128\n",
       "                                                        Type: PositiveInteger\n"
      ]
     },
     "execution_count": 7,
     "metadata": {},
     "output_type": "execute_result"
    }
   ],
   "source": [
    "ind := 2^7"
   ]
  },
  {
   "cell_type": "markdown",
   "metadata": {},
   "source": [
    " This takes a lot longer than it should. It will improve when the\n",
    " cyclotomic code improves.\n"
   ]
  },
  {
   "cell_type": "code",
   "execution_count": 8,
   "metadata": {
    "collapsed": false
   },
   "outputs": [
    {
     "data": {
      "text/plain": [
       "       128\n",
       "   - (x    + 1)\n",
       "                                          Type: Factored(Polynomial(Integer))\n"
      ]
     },
     "execution_count": 8,
     "metadata": {},
     "output_type": "execute_result"
    }
   ],
   "source": [
    "factor(-(x^ind + 1))"
   ]
  },
  {
   "cell_type": "code",
   "execution_count": 9,
   "metadata": {
    "collapsed": false
   },
   "outputs": [
    {
     "name": "stdout",
     "output_type": "stream",
     "text": [
      "  "
     ]
    },
    {
     "data": {
      "text/plain": [
       "       4       8    4       24    20    16    12    8    4\n",
       "     (x  + 1)(x  - x  + 1)(x   - x   + x   - x   + x  - x  + 1)\n",
       "  *\n",
       "       48    44    36    32    24    16    12    4\n",
       "     (x   + x   - x   - x   + x   - x   - x   + x  + 1)\n",
       "                                          Type: Factored(Polynomial(Integer))\n"
      ]
     },
     "execution_count": 9,
     "metadata": {},
     "output_type": "execute_result"
    }
   ],
   "source": [
    "factor(x^84 + 1)"
   ]
  },
  {
   "cell_type": "code",
   "execution_count": 10,
   "metadata": {
    "collapsed": false
   },
   "outputs": [
    {
     "name": "stderr",
     "output_type": "stream",
     "text": [
      "INDEX-TOO-LARGE-ERROR: \n",
      "  #<SB-KERNEL:INDEX-TOO-LARGE-ERROR expected-type: (INTEGER 0 (0)) datum: 0>\n"
     ]
    },
    {
     "data": {
      "text/plain": []
     },
     "execution_count": 10,
     "metadata": {},
     "output_type": "execute_result"
    }
   ],
   "source": []
  }
 ],
 "metadata": {
  "kernelspec": {
   "display_name": "FriCAS",
   "language": "spad",
   "name": "ifricas"
  },
  "language_info": {
   "codemirror_mode": "spad",
   "mimetype": "text/x-spad",
   "name": "SPAD",
   "pygments_lexer": "spad",
   "version": "1.2.6"
  },
  "name": "cyfactor.ipynb"
 },
 "nbformat": 4,
 "nbformat_minor": 0
}