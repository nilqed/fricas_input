{
 "cells": [
  {
   "cell_type": "markdown",
   "metadata": {},
   "source": [
    "\n",
    "% Domains Definitions\n",
    "\n"
   ]
  },
  {
   "cell_type": "code",
   "execution_count": 0,
   "metadata": {
    "collapsed": false
   },
   "outputs": [
    {
     "name": "stdout",
     "output_type": "stream",
     "text": [
      "   All user variables and function definitions have been cleared.\n"
     ]
    },
    {
     "data": {
      "text/plain": []
     },
     "execution_count": 0,
     "metadata": {},
     "output_type": "execute_result"
    }
   ],
   "source": [
    ")clear all"
   ]
  },
  {
   "cell_type": "code",
   "execution_count": 1,
   "metadata": {
    "collapsed": false
   },
   "outputs": [
    {
     "data": {
      "text/plain": [
       "                                                           Type: List(Symbol)\n"
      ]
     },
     "execution_count": 1,
     "metadata": {},
     "output_type": "execute_result"
    }
   ],
   "source": [
    "ls : List Symbol := [w,v,u,y,x];"
   ]
  },
  {
   "cell_type": "code",
   "execution_count": 2,
   "metadata": {
    "collapsed": false
   },
   "outputs": [
    {
     "data": {
      "text/plain": [
       "                                                                   Type: Type\n"
      ]
     },
     "execution_count": 2,
     "metadata": {},
     "output_type": "execute_result"
    }
   ],
   "source": [
    "V := OVAR(ls);"
   ]
  },
  {
   "cell_type": "code",
   "execution_count": 3,
   "metadata": {
    "collapsed": false
   },
   "outputs": [
    {
     "data": {
      "text/plain": [
       "                                                                   Type: Type\n"
      ]
     },
     "execution_count": 3,
     "metadata": {},
     "output_type": "execute_result"
    }
   ],
   "source": [
    "R := Integer;"
   ]
  },
  {
   "cell_type": "code",
   "execution_count": 4,
   "metadata": {
    "collapsed": false
   },
   "outputs": [
    {
     "data": {
      "text/plain": [
       "                                                                   Type: Type\n"
      ]
     },
     "execution_count": 4,
     "metadata": {},
     "output_type": "execute_result"
    }
   ],
   "source": [
    "E := IndexedExponents V;"
   ]
  },
  {
   "cell_type": "code",
   "execution_count": 5,
   "metadata": {
    "collapsed": false
   },
   "outputs": [
    {
     "data": {
      "text/plain": [
       "                                                                   Type: Type\n"
      ]
     },
     "execution_count": 5,
     "metadata": {},
     "output_type": "execute_result"
    }
   ],
   "source": [
    "P := NSMP(R, V);"
   ]
  },
  {
   "cell_type": "markdown",
   "metadata": {},
   "source": [
    "\n",
    "% Initialisations\n",
    "\n"
   ]
  },
  {
   "cell_type": "code",
   "execution_count": 6,
   "metadata": {
    "collapsed": false
   },
   "outputs": [
    {
     "data": {
      "text/plain": [
       "                                                                   Type: Type\n"
      ]
     },
     "execution_count": 6,
     "metadata": {},
     "output_type": "execute_result"
    }
   ],
   "source": [
    "LP := List(P);"
   ]
  },
  {
   "cell_type": "code",
   "execution_count": 7,
   "metadata": {
    "collapsed": false
   },
   "outputs": [
    {
     "data": {
      "text/plain": [
       "Type: NewSparseMultivariatePolynomial(Integer,OrderedVariableList([w,v,u,y,x]))\n"
      ]
     },
     "execution_count": 7,
     "metadata": {},
     "output_type": "execute_result"
    }
   ],
   "source": [
    "x: P := 'x;"
   ]
  },
  {
   "cell_type": "code",
   "execution_count": 8,
   "metadata": {
    "collapsed": false
   },
   "outputs": [
    {
     "data": {
      "text/plain": [
       "Type: NewSparseMultivariatePolynomial(Integer,OrderedVariableList([w,v,u,y,x]))\n"
      ]
     },
     "execution_count": 8,
     "metadata": {},
     "output_type": "execute_result"
    }
   ],
   "source": [
    "y: P := 'y;"
   ]
  },
  {
   "cell_type": "code",
   "execution_count": 9,
   "metadata": {
    "collapsed": false
   },
   "outputs": [
    {
     "data": {
      "text/plain": [
       "Type: NewSparseMultivariatePolynomial(Integer,OrderedVariableList([w,v,u,y,x]))\n"
      ]
     },
     "execution_count": 9,
     "metadata": {},
     "output_type": "execute_result"
    }
   ],
   "source": [
    "u: P := 'u;"
   ]
  },
  {
   "cell_type": "code",
   "execution_count": 10,
   "metadata": {
    "collapsed": false
   },
   "outputs": [
    {
     "data": {
      "text/plain": [
       "Type: NewSparseMultivariatePolynomial(Integer,OrderedVariableList([w,v,u,y,x]))\n"
      ]
     },
     "execution_count": 10,
     "metadata": {},
     "output_type": "execute_result"
    }
   ],
   "source": [
    "v: P := 'v;"
   ]
  },
  {
   "cell_type": "code",
   "execution_count": 11,
   "metadata": {
    "collapsed": false
   },
   "outputs": [
    {
     "data": {
      "text/plain": [
       "Type: NewSparseMultivariatePolynomial(Integer,OrderedVariableList([w,v,u,y,x]))\n"
      ]
     },
     "execution_count": 11,
     "metadata": {},
     "output_type": "execute_result"
    }
   ],
   "source": [
    "w: P := 'w;"
   ]
  },
  {
   "cell_type": "code",
   "execution_count": 12,
   "metadata": {
    "collapsed": false
   },
   "outputs": [
    {
     "name": "stdout",
     "output_type": "stream",
     "text": [
      "Warning: HyperTeX macro table not found\n"
     ]
    },
    {
     "data": {
      "text/plain": [
       "Type: NewSparseMultivariatePolynomial(Integer,OrderedVariableList([w,v,u,y,x]))\n"
      ]
     },
     "execution_count": 12,
     "metadata": {},
     "output_type": "execute_result"
    }
   ],
   "source": [
    "p1 := (x - u) ^ 2 + (y - v) ^ 2 - 1 ;"
   ]
  },
  {
   "cell_type": "code",
   "execution_count": 13,
   "metadata": {
    "collapsed": false
   },
   "outputs": [
    {
     "data": {
      "text/plain": [
       "Type: NewSparseMultivariatePolynomial(Integer,OrderedVariableList([w,v,u,y,x]))\n"
      ]
     },
     "execution_count": 13,
     "metadata": {},
     "output_type": "execute_result"
    }
   ],
   "source": [
    "p2 := v ^ 2 - u ^ 3 ;"
   ]
  },
  {
   "cell_type": "code",
   "execution_count": 14,
   "metadata": {
    "collapsed": false
   },
   "outputs": [
    {
     "data": {
      "text/plain": [
       "Type: NewSparseMultivariatePolynomial(Integer,OrderedVariableList([w,v,u,y,x]))\n"
      ]
     },
     "execution_count": 14,
     "metadata": {},
     "output_type": "execute_result"
    }
   ],
   "source": [
    "p3 := 2 * v * (x - u) + 3 * u ^ 2 * (y - v) ;"
   ]
  },
  {
   "cell_type": "code",
   "execution_count": 15,
   "metadata": {
    "collapsed": false
   },
   "outputs": [
    {
     "data": {
      "text/plain": [
       "Type: NewSparseMultivariatePolynomial(Integer,OrderedVariableList([w,v,u,y,x]))\n"
      ]
     },
     "execution_count": 15,
     "metadata": {},
     "output_type": "execute_result"
    }
   ],
   "source": [
    "f1 := (3 * w * u ^ 2 - 1) ;"
   ]
  },
  {
   "cell_type": "code",
   "execution_count": 16,
   "metadata": {
    "collapsed": false
   },
   "outputs": [
    {
     "data": {
      "text/plain": [
       "Type: NewSparseMultivariatePolynomial(Integer,OrderedVariableList([w,v,u,y,x]))\n"
      ]
     },
     "execution_count": 16,
     "metadata": {},
     "output_type": "execute_result"
    }
   ],
   "source": [
    "f2 := (2 * w * v - 1) ;"
   ]
  },
  {
   "cell_type": "code",
   "execution_count": 17,
   "metadata": {
    "collapsed": false
   },
   "outputs": [
    {
     "data": {
      "text/plain": [
       "Type: NewSparseMultivariatePolynomial(Integer,OrderedVariableList([w,v,u,y,x]))\n"
      ]
     },
     "execution_count": 17,
     "metadata": {},
     "output_type": "execute_result"
    }
   ],
   "source": [
    "p4 := f1 * f2 ;"
   ]
  },
  {
   "cell_type": "code",
   "execution_count": 18,
   "metadata": {
    "collapsed": false
   },
   "outputs": [
    {
     "data": {
      "text/plain": [
       "Type: List(NewSparseMultivariatePolynomial(Integer,OrderedVariableList([w,v,u,y,x])))\n"
      ]
     },
     "execution_count": 18,
     "metadata": {},
     "output_type": "execute_result"
    }
   ],
   "source": [
    "lp := [p1,p2,p3,p4] ;"
   ]
  },
  {
   "cell_type": "code",
   "execution_count": 19,
   "metadata": {
    "collapsed": false
   },
   "outputs": [
    {
     "data": {
      "text/plain": [
       "  RegularTriangularSet(Integer,IndexedExponents(OrderedVariableList([w,v,u,y,x]\n",
       "  )),OrderedVariableList([w,v,u,y,x]),NewSparseMultivariatePolynomial(Integer,O\n",
       "  rderedVariableList([w,v,u,y,x])))\n",
       "                                                                   Type: Type\n"
      ]
     },
     "execution_count": 19,
     "metadata": {},
     "output_type": "execute_result"
    }
   ],
   "source": [
    "T := REGSET(R,E,V,P)"
   ]
  },
  {
   "cell_type": "code",
   "execution_count": 20,
   "metadata": {
    "collapsed": false
   },
   "outputs": [
    {
     "name": "stdout",
     "output_type": "stream",
     "text": [
      "            \n",
      "                        \n",
      "\n",
      "\n"
     ]
    },
    {
     "data": {
      "text/plain": [
       "   [\n",
       "     {\n",
       "             6           3       2                 4\n",
       "         729y  + (- 1458x  + 729x  - 4158x - 1685)y\n",
       "       + \n",
       "              6        5        4        3       2                2       8\n",
       "         (729x  - 1458x  - 2619x  - 4892x  - 297x  + 5814x + 427)y  + 729x\n",
       "       + \n",
       "             7        6        5        4        3        2\n",
       "         216x  - 2900x  - 2376x  + 3870x  + 4072x  - 1188x  - 1656x + 529\n",
       "       ,\n",
       "\n",
       "                  4           3       2                  2        6        5\n",
       "             2187y  + (- 4374x  - 972x  - 12474x - 2868)y  + 2187x  - 1944x\n",
       "           + \n",
       "                     4        3        2\n",
       "             - 10125x  - 4800x  + 2501x  + 4968x - 1587\n",
       "        *\n",
       "           u\n",
       "       + \n",
       "               3       2  2       6        5        4       3        2\n",
       "         (1944x  - 108x )y  + 972x  + 3024x  - 1080x  + 496x  + 1116x\n",
       "       ,\n",
       "         2                   2                    2  2           2\n",
       "      (3u  + 2u - 2x)v - 3y u , ((4u - 4x)v - 6y u )w  + (2v + 3u )w - 1}\n",
       "     ]\n",
       "Type: List(RegularTriangularSet(Integer,IndexedExponents(OrderedVariableList([w,v,u,y,x])),OrderedVariableList([w,v,u,y,x]),NewSparseMultivariatePolynomial(Integer,OrderedVariableList([w,v,u,y,x]))))\n"
      ]
     },
     "execution_count": 20,
     "metadata": {},
     "output_type": "execute_result"
    }
   ],
   "source": [
    "zeroSetSplit(lp)$T"
   ]
  },
  {
   "cell_type": "code",
   "execution_count": 21,
   "metadata": {
    "collapsed": false
   },
   "outputs": [
    {
     "name": "stdout",
     "output_type": "stream",
     "text": [
      "            \n",
      "                        \n",
      "\n",
      "\n",
      "\n",
      "\n",
      "\n",
      "\n",
      "                              \n",
      "\n",
      "\n",
      "\n",
      "\n",
      "\n",
      "\n"
     ]
    },
    {
     "data": {
      "text/plain": [
       "   [\n",
       "     {\n",
       "             6           3       2                 4\n",
       "         729y  + (- 1458x  + 729x  - 4158x - 1685)y\n",
       "       + \n",
       "              6        5        4        3       2                2       8\n",
       "         (729x  - 1458x  - 2619x  - 4892x  - 297x  + 5814x + 427)y  + 729x\n",
       "       + \n",
       "             7        6        5        4        3        2\n",
       "         216x  - 2900x  - 2376x  + 3870x  + 4072x  - 1188x  - 1656x + 529\n",
       "       ,\n",
       "\n",
       "                  4           3       2                  2        6        5\n",
       "             2187y  + (- 4374x  - 972x  - 12474x - 2868)y  + 2187x  - 1944x\n",
       "           + \n",
       "                     4        3        2\n",
       "             - 10125x  - 4800x  + 2501x  + 4968x - 1587\n",
       "        *\n",
       "           u\n",
       "       + \n",
       "               3       2  2       6        5        4       3        2\n",
       "         (1944x  - 108x )y  + 972x  + 3024x  - 1080x  + 496x  + 1116x\n",
       "       ,\n",
       "         2                   2                    2  2           2\n",
       "      (3u  + 2u - 2x)v - 3y u , ((4u - 4x)v - 6y u )w  + (2v + 3u )w - 1}\n",
       "     ,\n",
       "\n",
       "         4     3      2                               2\n",
       "     {27x  + 4x  - 54x  - 36x + 23, y, (12x + 2)u - 9x  - 2x + 9,\n",
       "        2          2\n",
       "      6v  - 2u - 3x  + 2x + 3, 2v w - 1}\n",
       "     ,\n",
       "\n",
       "            6         5         4          3         2\n",
       "     {59049x  + 91854x  - 45198x  + 145152x  + 63549x  + 60922x + 21420,\n",
       "\n",
       "                            5                  4                  3\n",
       "             31484448266904x  - 18316865522574x  + 23676995746098x\n",
       "           + \n",
       "                           2\n",
       "             6657857188965x  + 8904703998546x + 3890631403260\n",
       "        *\n",
       "            2\n",
       "           y\n",
       "       + \n",
       "                        5                  4                  3\n",
       "         94262810316408x  - 82887296576616x  + 89801831438784x\n",
       "       + \n",
       "                        2\n",
       "         28141734167208x  + 38070359425432x + 16003865949120\n",
       "       ,\n",
       "           2             2         2       3      2                    3     2\n",
       "      (243x  + 36x + 85)u  + (- 81y  - 162x  + 36x  + 154x + 72)u - 72x  + 4x ,\n",
       "         2                   2                    2  2           2\n",
       "      (3u  + 2u - 2x)v - 3y u , ((4u - 4x)v - 6y u )w  + (2v + 3u )w - 1}\n",
       "     ,\n",
       "\n",
       "         4     3      2                               2\n",
       "     {27x  + 4x  - 54x  - 36x + 23, y, (12x + 2)u - 9x  - 2x + 9,\n",
       "        2          2             2\n",
       "      6v  - 2u - 3x  + 2x + 3, 3u w - 1}\n",
       "     ]\n",
       "Type: List(RegularTriangularSet(Integer,IndexedExponents(OrderedVariableList([w,v,u,y,x])),OrderedVariableList([w,v,u,y,x]),NewSparseMultivariatePolynomial(Integer,OrderedVariableList([w,v,u,y,x]))))\n"
      ]
     },
     "execution_count": 21,
     "metadata": {},
     "output_type": "execute_result"
    }
   ],
   "source": [
    "zeroSetSplit(lp,false)$T"
   ]
  },
  {
   "cell_type": "code",
   "execution_count": 22,
   "metadata": {
    "collapsed": false
   },
   "outputs": [
    {
     "name": "stderr",
     "output_type": "stream",
     "text": [
      "INDEX-TOO-LARGE-ERROR: \n",
      "  #<SB-KERNEL:INDEX-TOO-LARGE-ERROR expected-type: (INTEGER 0 (0)) datum: 0>\n"
     ]
    },
    {
     "data": {
      "text/plain": []
     },
     "execution_count": 22,
     "metadata": {},
     "output_type": "execute_result"
    }
   ],
   "source": []
  }
 ],
 "metadata": {
  "kernelspec": {
   "display_name": "FriCAS",
   "language": "spad",
   "name": "ifricas"
  },
  "language_info": {
   "codemirror_mode": "spad",
   "mimetype": "text/x-spad",
   "name": "SPAD",
   "pygments_lexer": "spad",
   "version": "1.2.6"
  },
  "name": "tsetcatvermeer.ipynb"
 },
 "nbformat": 4,
 "nbformat_minor": 0
}