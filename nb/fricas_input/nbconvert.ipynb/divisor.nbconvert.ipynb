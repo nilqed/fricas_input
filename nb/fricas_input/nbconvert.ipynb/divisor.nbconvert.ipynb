{
 "cells": [
  {
   "cell_type": "markdown",
   "metadata": {},
   "source": [
    "Copyright The Numerical Algorithms Group Limited 1991.\n"
   ]
  },
  {
   "cell_type": "code",
   "execution_count": 0,
   "metadata": {
    "collapsed": false
   },
   "outputs": [
    {
     "name": "stdout",
     "output_type": "stream",
     "text": [
      "   All user variables and function definitions have been cleared.\n"
     ]
    },
    {
     "data": {
      "text/plain": []
     },
     "execution_count": 0,
     "metadata": {},
     "output_type": "execute_result"
    }
   ],
   "source": [
    ")cl all"
   ]
  },
  {
   "cell_type": "code",
   "execution_count": 1,
   "metadata": {
    "collapsed": false
   },
   "outputs": [
    {
     "data": {
      "text/plain": [
       "   UnivariatePolynomial(x,Fraction(Integer))\n",
       "                                                                   Type: Type\n"
      ]
     },
     "execution_count": 1,
     "metadata": {},
     "output_type": "execute_result"
    }
   ],
   "source": [
    "P0 := UP(x, FRAC INT)"
   ]
  },
  {
   "cell_type": "markdown",
   "metadata": {},
   "source": [
    " curve given by y^2 = x^8 + 1 (genus = 3)\n"
   ]
  },
  {
   "cell_type": "code",
   "execution_count": 2,
   "metadata": {
    "collapsed": false
   },
   "outputs": [
    {
     "data": {
      "text/plain": [
       "   UnivariatePolynomial(y,Fraction(UnivariatePolynomial(x,Fraction(Integer))))\n",
       "                                                                   Type: Type\n"
      ]
     },
     "execution_count": 2,
     "metadata": {},
     "output_type": "execute_result"
    }
   ],
   "source": [
    "P1 := UP(y, FRAC P0)"
   ]
  },
  {
   "cell_type": "code",
   "execution_count": 3,
   "metadata": {
    "collapsed": false
   },
   "outputs": [
    {
     "name": "stdout",
     "output_type": "stream",
     "text": [
      "Warning: HyperTeX macro table not found\n"
     ]
    },
    {
     "data": {
      "text/plain": [
       "  RadicalFunctionField(Fraction(Integer),UnivariatePolynomial(x,Fraction(Intege\n",
       "  r)),UnivariatePolynomial(y,Fraction(UnivariatePolynomial(x,Fraction(Integer))\n",
       "  )),x^8+1,2)\n",
       "                                                                   Type: Type\n"
      ]
     },
     "execution_count": 3,
     "metadata": {},
     "output_type": "execute_result"
    }
   ],
   "source": [
    "R := RADFF(FRAC INT, P0, P1, 1 + x^8, 2)"
   ]
  },
  {
   "cell_type": "code",
   "execution_count": 4,
   "metadata": {
    "collapsed": false
   },
   "outputs": [
    {
     "data": {
      "text/plain": [
       "   3\n",
       "                                                     Type: NonNegativeInteger\n"
      ]
     },
     "execution_count": 4,
     "metadata": {},
     "output_type": "execute_result"
    }
   ],
   "source": [
    "genus()$R"
   ]
  },
  {
   "cell_type": "markdown",
   "metadata": {},
   "source": [
    " let P be the place (x = 0, y = 1),\n",
    "     Q be the place (x = 0, y = -1),\n",
    " and d be the divisor P - Q\n"
   ]
  },
  {
   "cell_type": "code",
   "execution_count": 5,
   "metadata": {
    "collapsed": false
   },
   "outputs": [
    {
     "data": {
      "text/plain": [
       "  FiniteDivisor(Fraction(Integer),UnivariatePolynomial(x,Fraction(Integer)),Uni\n",
       "  variatePolynomial(y,Fraction(UnivariatePolynomial(x,Fraction(Integer)))),Radi\n",
       "  calFunctionField(Fraction(Integer),UnivariatePolynomial(x,Fraction(Integer)),\n",
       "  UnivariatePolynomial(y,Fraction(UnivariatePolynomial(x,Fraction(Integer)))),x\n",
       "  ^8+1,2))\n",
       "                                                                   Type: Type\n"
      ]
     },
     "execution_count": 5,
     "metadata": {},
     "output_type": "execute_result"
    }
   ],
   "source": [
    "fd := FDIV(FRAC INT, P0, P1, R)"
   ]
  },
  {
   "cell_type": "code",
   "execution_count": 6,
   "metadata": {
    "collapsed": false
   },
   "outputs": [
    {
     "data": {
      "text/plain": [
       "   (x,y - 1)\n",
       "Type: FiniteDivisor(Fraction(Integer),UnivariatePolynomial(x,Fraction(Integer)),UnivariatePolynomial(y,Fraction(UnivariatePolynomial(x,Fraction(Integer)))),RadicalFunctionField(Fraction(Integer),UnivariatePolynomial(x,Fraction(Integer)),UnivariatePolynomial(y,Fraction(UnivariatePolynomial(x,Fraction(Integer)))),x^8+1,2))\n"
      ]
     },
     "execution_count": 6,
     "metadata": {},
     "output_type": "execute_result"
    }
   ],
   "source": [
    "d1 := divisor(0, 1)$fd"
   ]
  },
  {
   "cell_type": "code",
   "execution_count": 7,
   "metadata": {
    "collapsed": false
   },
   "outputs": [
    {
     "data": {
      "text/plain": [
       "   (x,y + 1)\n",
       "Type: FiniteDivisor(Fraction(Integer),UnivariatePolynomial(x,Fraction(Integer)),UnivariatePolynomial(y,Fraction(UnivariatePolynomial(x,Fraction(Integer)))),RadicalFunctionField(Fraction(Integer),UnivariatePolynomial(x,Fraction(Integer)),UnivariatePolynomial(y,Fraction(UnivariatePolynomial(x,Fraction(Integer)))),x^8+1,2))\n"
      ]
     },
     "execution_count": 7,
     "metadata": {},
     "output_type": "execute_result"
    }
   ],
   "source": [
    "d2 := divisor(0, -1)$fd"
   ]
  },
  {
   "cell_type": "code",
   "execution_count": 8,
   "metadata": {
    "collapsed": false
   },
   "outputs": [
    {
     "data": {
      "text/plain": [
       "   1     2         8\n",
       "   - (- x ,- 2y + x  + 2)\n",
       "   x\n",
       "Type: FiniteDivisor(Fraction(Integer),UnivariatePolynomial(x,Fraction(Integer)),UnivariatePolynomial(y,Fraction(UnivariatePolynomial(x,Fraction(Integer)))),RadicalFunctionField(Fraction(Integer),UnivariatePolynomial(x,Fraction(Integer)),UnivariatePolynomial(y,Fraction(UnivariatePolynomial(x,Fraction(Integer)))),x^8+1,2))\n"
      ]
     },
     "execution_count": 8,
     "metadata": {},
     "output_type": "execute_result"
    }
   ],
   "source": [
    "d  := d1 - d2"
   ]
  },
  {
   "cell_type": "markdown",
   "metadata": {},
   "source": [
    " it turns out that d has order 4:\n"
   ]
  },
  {
   "cell_type": "code",
   "execution_count": 9,
   "metadata": {
    "collapsed": false
   },
   "outputs": [
    {
     "data": {
      "text/plain": [
       "   1     2         8\n",
       "   - (- x ,- 2y + x  + 2)\n",
       "   x\n",
       "Type: FiniteDivisor(Fraction(Integer),UnivariatePolynomial(x,Fraction(Integer)),UnivariatePolynomial(y,Fraction(UnivariatePolynomial(x,Fraction(Integer)))),RadicalFunctionField(Fraction(Integer),UnivariatePolynomial(x,Fraction(Integer)),UnivariatePolynomial(y,Fraction(UnivariatePolynomial(x,Fraction(Integer)))),x^8+1,2))\n"
      ]
     },
     "execution_count": 9,
     "metadata": {},
     "output_type": "execute_result"
    }
   ],
   "source": [
    "d  := reduce d"
   ]
  },
  {
   "cell_type": "code",
   "execution_count": 10,
   "metadata": {
    "collapsed": false
   },
   "outputs": [
    {
     "data": {
      "text/plain": [
       "   \"failed\"\n",
       "                                                    Type: Union(\"failed\",...)\n"
      ]
     },
     "execution_count": 10,
     "metadata": {},
     "output_type": "execute_result"
    }
   ],
   "source": [
    "generator d"
   ]
  },
  {
   "cell_type": "code",
   "execution_count": 11,
   "metadata": {
    "collapsed": false
   },
   "outputs": [
    {
     "data": {
      "text/plain": [
       "   \"failed\"\n",
       "                                                    Type: Union(\"failed\",...)\n"
      ]
     },
     "execution_count": 11,
     "metadata": {},
     "output_type": "execute_result"
    }
   ],
   "source": [
    "generator reduce(2 * d)"
   ]
  },
  {
   "cell_type": "code",
   "execution_count": 12,
   "metadata": {
    "collapsed": false
   },
   "outputs": [
    {
     "data": {
      "text/plain": [
       "   \"failed\"\n",
       "                                                    Type: Union(\"failed\",...)\n"
      ]
     },
     "execution_count": 12,
     "metadata": {},
     "output_type": "execute_result"
    }
   ],
   "source": [
    "generator reduce(3 * d)"
   ]
  },
  {
   "cell_type": "markdown",
   "metadata": {},
   "source": [
    " let's verify the RiemannRoch theorem:\n"
   ]
  },
  {
   "cell_type": "code",
   "execution_count": 13,
   "metadata": {
    "collapsed": false
   },
   "outputs": [
    {
     "data": {
      "text/plain": [
       "      1      1\n",
       "   - -- y + --\n",
       "      4      4\n",
       "     x      x\n",
       "Type: Union(RadicalFunctionField(Fraction(Integer),UnivariatePolynomial(x,Fraction(Integer)),UnivariatePolynomial(y,Fraction(UnivariatePolynomial(x,Fraction(Integer)))),x^8+1,2),...)\n"
      ]
     },
     "execution_count": 13,
     "metadata": {},
     "output_type": "execute_result"
    }
   ],
   "source": [
    "generator reduce(4 * d)"
   ]
  },
  {
   "cell_type": "code",
   "execution_count": 14,
   "metadata": {
    "collapsed": false
   },
   "outputs": [
    {
     "data": {
      "text/plain": [
       "   [- 1]\n",
       "Type: Vector(RadicalFunctionField(Fraction(Integer),UnivariatePolynomial(x,Fraction(Integer)),UnivariatePolynomial(y,Fraction(UnivariatePolynomial(x,Fraction(Integer)))),x^8+1,2))\n"
      ]
     },
     "execution_count": 14,
     "metadata": {},
     "output_type": "execute_result"
    }
   ],
   "source": [
    "lSpaceBasis d1"
   ]
  },
  {
   "cell_type": "code",
   "execution_count": 15,
   "metadata": {
    "collapsed": false
   },
   "outputs": [
    {
     "data": {
      "text/plain": [
       "   [- 1]\n",
       "Type: Vector(RadicalFunctionField(Fraction(Integer),UnivariatePolynomial(x,Fraction(Integer)),UnivariatePolynomial(y,Fraction(UnivariatePolynomial(x,Fraction(Integer)))),x^8+1,2))\n"
      ]
     },
     "execution_count": 15,
     "metadata": {},
     "output_type": "execute_result"
    }
   ],
   "source": [
    "lSpaceBasis(2 * d1)"
   ]
  },
  {
   "cell_type": "code",
   "execution_count": 16,
   "metadata": {
    "collapsed": false
   },
   "outputs": [
    {
     "data": {
      "text/plain": [
       "   [- 1]\n",
       "Type: Vector(RadicalFunctionField(Fraction(Integer),UnivariatePolynomial(x,Fraction(Integer)),UnivariatePolynomial(y,Fraction(UnivariatePolynomial(x,Fraction(Integer)))),x^8+1,2))\n"
      ]
     },
     "execution_count": 16,
     "metadata": {},
     "output_type": "execute_result"
    }
   ],
   "source": [
    "lSpaceBasis(3 * d1)"
   ]
  },
  {
   "cell_type": "code",
   "execution_count": 17,
   "metadata": {
    "collapsed": false
   },
   "outputs": [
    {
     "data": {
      "text/plain": [
       "     1      1\n",
       "   [-- y + --,- 1]\n",
       "     4      4\n",
       "    x      x\n",
       "Type: Vector(RadicalFunctionField(Fraction(Integer),UnivariatePolynomial(x,Fraction(Integer)),UnivariatePolynomial(y,Fraction(UnivariatePolynomial(x,Fraction(Integer)))),x^8+1,2))\n"
      ]
     },
     "execution_count": 17,
     "metadata": {},
     "output_type": "execute_result"
    }
   ],
   "source": [
    "lSpaceBasis(4 * d1)"
   ]
  },
  {
   "cell_type": "code",
   "execution_count": 18,
   "metadata": {
    "collapsed": false
   },
   "outputs": [
    {
     "data": {
      "text/plain": [
       "     1      1  1      1\n",
       "   [-- y + --,-- y + --,- 1]\n",
       "     5      5  4      4\n",
       "    x      x  x      x\n",
       "Type: Vector(RadicalFunctionField(Fraction(Integer),UnivariatePolynomial(x,Fraction(Integer)),UnivariatePolynomial(y,Fraction(UnivariatePolynomial(x,Fraction(Integer)))),x^8+1,2))\n"
      ]
     },
     "execution_count": 18,
     "metadata": {},
     "output_type": "execute_result"
    }
   ],
   "source": [
    "lSpaceBasis(5 * d1)"
   ]
  },
  {
   "cell_type": "code",
   "execution_count": 19,
   "metadata": {
    "collapsed": false
   },
   "outputs": [
    {
     "name": "stderr",
     "output_type": "stream",
     "text": [
      "INDEX-TOO-LARGE-ERROR: \n",
      "  #<SB-KERNEL:INDEX-TOO-LARGE-ERROR expected-type: (INTEGER 0 (0)) datum: 0>\n"
     ]
    },
    {
     "data": {
      "text/plain": []
     },
     "execution_count": 19,
     "metadata": {},
     "output_type": "execute_result"
    }
   ],
   "source": []
  }
 ],
 "metadata": {
  "kernelspec": {
   "display_name": "FriCAS",
   "language": "spad",
   "name": "ifricas"
  },
  "language_info": {
   "codemirror_mode": "spad",
   "mimetype": "text/x-spad",
   "name": "SPAD",
   "pygments_lexer": "spad",
   "version": "1.2.6"
  },
  "name": "divisor.ipynb"
 },
 "nbformat": 4,
 "nbformat_minor": 0
}