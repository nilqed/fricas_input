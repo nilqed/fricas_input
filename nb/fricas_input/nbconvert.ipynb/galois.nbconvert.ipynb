{
 "cells": [
  {
   "cell_type": "markdown",
   "metadata": {},
   "source": [
    " Input for page GaloisGroupPage\n"
   ]
  },
  {
   "cell_type": "code",
   "execution_count": 0,
   "metadata": {
    "collapsed": false
   },
   "outputs": [
    {
     "name": "stdout",
     "output_type": "stream",
     "text": [
      "   All user variables and function definitions have been cleared.\n"
     ]
    },
    {
     "data": {
      "text/plain": []
     },
     "execution_count": 0,
     "metadata": {},
     "output_type": "execute_result"
    }
   ],
   "source": [
    ")clear all"
   ]
  },
  {
   "cell_type": "code",
   "execution_count": 1,
   "metadata": {
    "collapsed": false
   },
   "outputs": [
    {
     "name": "stdout",
     "output_type": "stream",
     "text": [
      "Warning: HyperTeX macro table not found\n"
     ]
    },
    {
     "data": {
      "text/plain": [
       "    5\n",
       "   x  - 5x + 12\n",
       "                                                    Type: Polynomial(Integer)\n"
      ]
     },
     "execution_count": 1,
     "metadata": {},
     "output_type": "execute_result"
    }
   ],
   "source": [
    "p := x^5 - 5*x + 12"
   ]
  },
  {
   "cell_type": "code",
   "execution_count": 2,
   "metadata": {
    "collapsed": false
   },
   "outputs": [
    {
     "name": "stdout",
     "output_type": "stream",
     "text": [
      "  "
     ]
    },
    {
     "data": {
      "text/plain": [
       "      25      21        17         15        13           11          9\n",
       "     x   - 50x   - 2375x   + 90000x   - 5000x   + 2700000x   + 250000x\n",
       "   + \n",
       "              7            5\n",
       "     18000000x  + 64000000x\n",
       "                                                    Type: Polynomial(Integer)\n"
      ]
     },
     "execution_count": 2,
     "metadata": {},
     "output_type": "execute_result"
    }
   ],
   "source": [
    "q := resultant(eval(p,x,y),-eval(p,x,y-x),y)"
   ]
  },
  {
   "cell_type": "code",
   "execution_count": 3,
   "metadata": {
    "collapsed": false
   },
   "outputs": [
    {
     "name": "stdout",
     "output_type": "stream",
     "text": [
      "  "
     ]
    },
    {
     "data": {
      "text/plain": [
       "      20      16        12         10        8           6          4\n",
       "     x   - 50x   - 2375x   + 90000x   - 5000x  + 2700000x  + 250000x\n",
       "   + \n",
       "              2\n",
       "     18000000x  + 64000000\n",
       "                                         Type: Union(Polynomial(Integer),...)\n"
      ]
     },
     "execution_count": 3,
     "metadata": {},
     "output_type": "execute_result"
    }
   ],
   "source": [
    "q1 := exquo(q, x^5)"
   ]
  },
  {
   "cell_type": "code",
   "execution_count": 4,
   "metadata": {
    "collapsed": false
   },
   "outputs": [
    {
     "name": "stdout",
     "output_type": "stream",
     "text": [
      "  "
     ]
    },
    {
     "data": {
      "text/plain": [
       "       10      8      6        4        2\n",
       "     (x   - 10x  - 75x  + 1500x  - 5500x  + 16000)\n",
       "  *\n",
       "       10      8       6       4        2\n",
       "     (x   + 10x  + 125x  + 500x  + 2500x  + 4000)\n",
       "                                          Type: Factored(Polynomial(Integer))\n"
      ]
     },
     "execution_count": 4,
     "metadata": {},
     "output_type": "execute_result"
    }
   ],
   "source": [
    "factoredQ := factor q1"
   ]
  },
  {
   "cell_type": "code",
   "execution_count": 5,
   "metadata": {
    "collapsed": false
   },
   "outputs": [
    {
     "data": {
      "text/plain": [
       "    10      8      6        4        2\n",
       "   x   - 10x  - 75x  + 1500x  - 5500x  + 16000\n",
       "                                                    Type: Polynomial(Integer)\n"
      ]
     },
     "execution_count": 5,
     "metadata": {},
     "output_type": "execute_result"
    }
   ],
   "source": [
    "r := nthFactor(factoredQ,1)"
   ]
  },
  {
   "cell_type": "code",
   "execution_count": 6,
   "metadata": {
    "collapsed": false
   },
   "outputs": [
    {
     "data": {
      "text/plain": [
       "   b\n",
       "                                                        Type: AlgebraicNumber\n"
      ]
     },
     "execution_count": 6,
     "metadata": {},
     "output_type": "execute_result"
    }
   ],
   "source": [
    "beta := rootOf(eval(r,x,b))"
   ]
  },
  {
   "cell_type": "code",
   "execution_count": 7,
   "metadata": {
    "collapsed": false
   },
   "outputs": [
    {
     "data": {
      "text/plain": [
       "    5\n",
       "   x  - 5x + 12\n",
       "                                Type: UnivariatePolynomial(x,AlgebraicNumber)\n"
      ]
     },
     "execution_count": 7,
     "metadata": {},
     "output_type": "execute_result"
    }
   ],
   "source": [
    "p := p::UP(x,INT)::UP(x,AN)"
   ]
  },
  {
   "cell_type": "code",
   "execution_count": 8,
   "metadata": {
    "collapsed": false
   },
   "outputs": [
    {
     "name": "stdout",
     "output_type": "stream",
     "text": [
      "                                            "
     ]
    },
    {
     "data": {
      "text/plain": [
       "       x\n",
       "     + \n",
       "                9       8       7        6         5        4          3\n",
       "           - 85b  - 116b  + 780b  + 2640b  + 14895b  - 8820b  - 127050b\n",
       "         + \n",
       "                    2\n",
       "           - 327000b  - 405200b + 2062400\n",
       "      /\n",
       "         1339200\n",
       "  *\n",
       "               8       6        4         2\n",
       "          - 17b  + 156b  + 2979b  - 25410b  - 14080\n",
       "     (x + -----------------------------------------)\n",
       "                            66960\n",
       "  *\n",
       "              8        6         4          2\n",
       "          143b  - 2100b  - 10485b  + 290550b  - 334800b - 960800\n",
       "     (x + ------------------------------------------------------)\n",
       "                                  669600\n",
       "  *\n",
       "              8        6         4          2\n",
       "          143b  - 2100b  - 10485b  + 290550b  + 334800b - 960800\n",
       "     (x + ------------------------------------------------------)\n",
       "                                  669600\n",
       "  *\n",
       "       x\n",
       "     + \n",
       "              9       8       7        6         5        4          3\n",
       "           85b  - 116b  - 780b  + 2640b  - 14895b  - 8820b  + 127050b\n",
       "         + \n",
       "                    2\n",
       "           - 327000b  + 405200b + 2062400\n",
       "      /\n",
       "         1339200\n",
       "                      Type: Factored(UnivariatePolynomial(x,AlgebraicNumber))\n"
      ]
     },
     "execution_count": 8,
     "metadata": {},
     "output_type": "execute_result"
    }
   ],
   "source": [
    "algFactors := factor(p,[beta])"
   ]
  },
  {
   "cell_type": "code",
   "execution_count": 9,
   "metadata": {
    "collapsed": false
   },
   "outputs": [
    {
     "data": {
      "text/plain": [
       "    5\n",
       "   x  - 5x + 12\n",
       "                      Type: Factored(UnivariatePolynomial(x,AlgebraicNumber))\n"
      ]
     },
     "execution_count": 9,
     "metadata": {},
     "output_type": "execute_result"
    }
   ],
   "source": [
    "factor(p)"
   ]
  },
  {
   "cell_type": "code",
   "execution_count": 10,
   "metadata": {
    "collapsed": false
   },
   "outputs": [
    {
     "name": "stdout",
     "output_type": "stream",
     "text": [
      "            "
     ]
    },
    {
     "data": {
      "text/plain": [
       "     x\n",
       "   + \n",
       "              9       8       7        6         5        4          3\n",
       "         - 85b  - 116b  + 780b  + 2640b  + 14895b  - 8820b  - 127050b\n",
       "       + \n",
       "                  2\n",
       "         - 327000b  - 405200b + 2062400\n",
       "    /\n",
       "       1339200\n",
       "                                Type: UnivariatePolynomial(x,AlgebraicNumber)\n"
      ]
     },
     "execution_count": 10,
     "metadata": {},
     "output_type": "execute_result"
    }
   ],
   "source": [
    "factor1 := nthFactor(algFactors,1)"
   ]
  },
  {
   "cell_type": "code",
   "execution_count": 11,
   "metadata": {
    "collapsed": false
   },
   "outputs": [
    {
     "name": "stdout",
     "output_type": "stream",
     "text": [
      "      "
     ]
    },
    {
     "data": {
      "text/plain": [
       "          9       8       7        6         5        4          3          2\n",
       "       85b  + 116b  - 780b  - 2640b  - 14895b  + 8820b  + 127050b  + 327000b\n",
       "     + \n",
       "       405200b - 2062400\n",
       "  /\n",
       "     1339200\n",
       "                                                        Type: AlgebraicNumber\n"
      ]
     },
     "execution_count": 11,
     "metadata": {},
     "output_type": "execute_result"
    }
   ],
   "source": [
    "root1 := -coefficient(factor1,0)"
   ]
  },
  {
   "cell_type": "code",
   "execution_count": 12,
   "metadata": {
    "collapsed": false
   },
   "outputs": [
    {
     "name": "stdout",
     "output_type": "stream",
     "text": [
      "          \n",
      "\n",
      "\n",
      "\n",
      "          \n"
     ]
    },
    {
     "data": {
      "text/plain": [
       "   [\n",
       "            9       8       7        6         5        4          3          2\n",
       "         85b  + 116b  - 780b  - 2640b  - 14895b  + 8820b  + 127050b  + 327000b\n",
       "       + \n",
       "         405200b - 2062400\n",
       "    /\n",
       "       1339200\n",
       "     ,\n",
       "       8       6        4         2\n",
       "    17b  - 156b  - 2979b  + 25410b  + 14080\n",
       "    ---------------------------------------,\n",
       "                     66960\n",
       "          8        6         4          2\n",
       "    - 143b  + 2100b  + 10485b  - 290550b  + 334800b + 960800\n",
       "    --------------------------------------------------------,\n",
       "                             669600\n",
       "          8        6         4          2\n",
       "    - 143b  + 2100b  + 10485b  - 290550b  - 334800b + 960800\n",
       "    --------------------------------------------------------,\n",
       "                             669600\n",
       "\n",
       "              9       8       7        6         5        4          3\n",
       "         - 85b  + 116b  + 780b  - 2640b  + 14895b  + 8820b  - 127050b\n",
       "       + \n",
       "                2\n",
       "         327000b  - 405200b - 2062400\n",
       "    /\n",
       "       1339200\n",
       "     ]\n",
       "                                                  Type: List(AlgebraicNumber)\n"
      ]
     },
     "execution_count": 12,
     "metadata": {},
     "output_type": "execute_result"
    }
   ],
   "source": [
    "roots := [-coefficient(nthFactor(algFactors,i),0) for i in 1..5]"
   ]
  },
  {
   "cell_type": "code",
   "execution_count": 13,
   "metadata": {
    "collapsed": false
   },
   "outputs": [
    {
     "name": "stdout",
     "output_type": "stream",
     "text": [
      "      "
     ]
    },
    {
     "data": {
      "text/plain": [
       "            9       8       7        6         5        4          3          2\n",
       "       - 85b  + 116b  + 780b  - 2640b  + 14895b  + 8820b  - 127050b  + 327000b\n",
       "     + \n",
       "       - 405200b - 2062400\n",
       "  /\n",
       "     1339200\n",
       "                                                        Type: AlgebraicNumber\n"
      ]
     },
     "execution_count": 13,
     "metadata": {},
     "output_type": "execute_result"
    }
   ],
   "source": [
    "(a1,a2,a3,a4,a5) := (roots.1,roots.2,roots.3,roots.4,roots.5)"
   ]
  },
  {
   "cell_type": "code",
   "execution_count": 14,
   "metadata": {
    "collapsed": false
   },
   "outputs": [
    {
     "data": {
      "text/plain": [
       "   0\n",
       "                                            Type: Polynomial(AlgebraicNumber)\n"
      ]
     },
     "execution_count": 14,
     "metadata": {},
     "output_type": "execute_result"
    }
   ],
   "source": [
    "eval(r,x,a1 - a2)"
   ]
  },
  {
   "cell_type": "code",
   "execution_count": 15,
   "metadata": {
    "collapsed": false
   },
   "outputs": [
    {
     "name": "stdout",
     "output_type": "stream",
     "text": [
      "      "
     ]
    },
    {
     "data": {
      "text/plain": [
       "             9         8          7          6           5           4\n",
       "       47905b  + 66920b  - 536100b  - 980400b  - 3345075b  - 5787000b\n",
       "     + \n",
       "                3             2\n",
       "       75572250b  + 161688000b  - 184600000b - 710912000\n",
       "  /\n",
       "     4464\n",
       "                                            Type: Polynomial(AlgebraicNumber)\n"
      ]
     },
     "execution_count": 15,
     "metadata": {},
     "output_type": "execute_result"
    }
   ],
   "source": [
    "eval(r,x,a1 - a3)"
   ]
  },
  {
   "cell_type": "code",
   "execution_count": 16,
   "metadata": {
    "collapsed": false
   },
   "outputs": [
    {
     "data": {
      "text/plain": [
       "   0\n",
       "                                            Type: Polynomial(AlgebraicNumber)\n"
      ]
     },
     "execution_count": 16,
     "metadata": {},
     "output_type": "execute_result"
    }
   ],
   "source": [
    "eval(r,x,a1 - a4)"
   ]
  },
  {
   "cell_type": "code",
   "execution_count": 17,
   "metadata": {
    "collapsed": false
   },
   "outputs": [
    {
     "data": {
      "text/plain": [
       "       8        6         4          2\n",
       "   405b  + 3450b  - 19875b  - 198000b  - 588000\n",
       "   --------------------------------------------\n",
       "                        31\n",
       "                                            Type: Polynomial(AlgebraicNumber)\n"
      ]
     },
     "execution_count": 17,
     "metadata": {},
     "output_type": "execute_result"
    }
   ],
   "source": [
    "eval(r,x,a1 - a5)"
   ]
  },
  {
   "cell_type": "code",
   "execution_count": 18,
   "metadata": {
    "collapsed": false
   },
   "outputs": [
    {
     "name": "stdout",
     "output_type": "stream",
     "text": [
      "      "
     ]
    },
    {
     "data": {
      "text/plain": [
       "          9       8       7        6         5         4          3          2\n",
       "       85b  + 402b  - 780b  - 6840b  - 14895b  - 12150b  + 127050b  + 908100b\n",
       "     + \n",
       "       1074800b - 3984000\n",
       "  /\n",
       "     1339200\n",
       "                                                        Type: AlgebraicNumber\n"
      ]
     },
     "execution_count": 18,
     "metadata": {},
     "output_type": "execute_result"
    }
   ],
   "source": [
    "bb := a1 - a4"
   ]
  },
  {
   "cell_type": "code",
   "execution_count": 19,
   "metadata": {
    "collapsed": false
   },
   "outputs": [
    {
     "data": {
      "text/plain": [
       "         8        6         4          2\n",
       "   - 143b  + 2100b  + 10485b  - 290550b  + 334800b + 960800\n",
       "   --------------------------------------------------------\n",
       "                            669600\n",
       "                                                        Type: AlgebraicNumber\n"
      ]
     },
     "execution_count": 19,
     "metadata": {},
     "output_type": "execute_result"
    }
   ],
   "source": [
    "aa1 := subst(a1,beta = bb)"
   ]
  },
  {
   "cell_type": "code",
   "execution_count": 20,
   "metadata": {
    "collapsed": false
   },
   "outputs": [
    {
     "name": "stdout",
     "output_type": "stream",
     "text": [
      "      "
     ]
    },
    {
     "data": {
      "text/plain": [
       "            9       8       7        6         5        4          3          2\n",
       "       - 85b  + 116b  + 780b  - 2640b  + 14895b  + 8820b  - 127050b  + 327000b\n",
       "     + \n",
       "       - 405200b - 2062400\n",
       "  /\n",
       "     1339200\n",
       "                                                        Type: AlgebraicNumber\n"
      ]
     },
     "execution_count": 20,
     "metadata": {},
     "output_type": "execute_result"
    }
   ],
   "source": [
    "aa2 := subst(a2,beta = bb)"
   ]
  },
  {
   "cell_type": "code",
   "execution_count": 21,
   "metadata": {
    "collapsed": false
   },
   "outputs": [
    {
     "name": "stdout",
     "output_type": "stream",
     "text": [
      "      "
     ]
    },
    {
     "data": {
      "text/plain": [
       "          9       8       7        6         5        4          3          2\n",
       "       85b  + 116b  - 780b  - 2640b  - 14895b  + 8820b  + 127050b  + 327000b\n",
       "     + \n",
       "       405200b - 2062400\n",
       "  /\n",
       "     1339200\n",
       "                                                        Type: AlgebraicNumber\n"
      ]
     },
     "execution_count": 21,
     "metadata": {},
     "output_type": "execute_result"
    }
   ],
   "source": [
    "aa3 := subst(a3,beta = bb)"
   ]
  },
  {
   "cell_type": "code",
   "execution_count": 22,
   "metadata": {
    "collapsed": false
   },
   "outputs": [
    {
     "data": {
      "text/plain": [
       "         8        6         4          2\n",
       "   - 143b  + 2100b  + 10485b  - 290550b  - 334800b + 960800\n",
       "   --------------------------------------------------------\n",
       "                            669600\n",
       "                                                        Type: AlgebraicNumber\n"
      ]
     },
     "execution_count": 22,
     "metadata": {},
     "output_type": "execute_result"
    }
   ],
   "source": [
    "aa4 := subst(a4,beta = bb)"
   ]
  },
  {
   "cell_type": "code",
   "execution_count": 23,
   "metadata": {
    "collapsed": false
   },
   "outputs": [
    {
     "data": {
      "text/plain": [
       "      8       6        4         2\n",
       "   17b  - 156b  - 2979b  + 25410b  + 14080\n",
       "   ---------------------------------------\n",
       "                    66960\n",
       "                                                        Type: AlgebraicNumber\n"
      ]
     },
     "execution_count": 23,
     "metadata": {},
     "output_type": "execute_result"
    }
   ],
   "source": [
    "aa5 := subst(a5,beta = bb)"
   ]
  },
  {
   "cell_type": "code",
   "execution_count": 24,
   "metadata": {
    "collapsed": false
   },
   "outputs": [
    {
     "data": {
      "text/plain": [
       "   false\n",
       "                                                                Type: Boolean\n"
      ]
     },
     "execution_count": 24,
     "metadata": {},
     "output_type": "execute_result"
    }
   ],
   "source": [
    "(aa1 = a1) :: Boolean"
   ]
  },
  {
   "cell_type": "code",
   "execution_count": 25,
   "metadata": {
    "collapsed": false
   },
   "outputs": [
    {
     "data": {
      "text/plain": [
       "   false\n",
       "                                                                Type: Boolean\n"
      ]
     },
     "execution_count": 25,
     "metadata": {},
     "output_type": "execute_result"
    }
   ],
   "source": [
    "(aa1 = a2) :: Boolean"
   ]
  },
  {
   "cell_type": "code",
   "execution_count": 26,
   "metadata": {
    "collapsed": false
   },
   "outputs": [
    {
     "data": {
      "text/plain": [
       "   true\n",
       "                                                                Type: Boolean\n"
      ]
     },
     "execution_count": 26,
     "metadata": {},
     "output_type": "execute_result"
    }
   ],
   "source": [
    "(aa1 = a3) :: Boolean"
   ]
  },
  {
   "cell_type": "code",
   "execution_count": 27,
   "metadata": {
    "collapsed": false
   },
   "outputs": [
    {
     "data": {
      "text/plain": [
       "   false\n",
       "                                                                Type: Boolean\n"
      ]
     },
     "execution_count": 27,
     "metadata": {},
     "output_type": "execute_result"
    }
   ],
   "source": [
    "(aa1 = a4) :: Boolean"
   ]
  },
  {
   "cell_type": "code",
   "execution_count": 28,
   "metadata": {
    "collapsed": false
   },
   "outputs": [
    {
     "data": {
      "text/plain": [
       "   false\n",
       "                                                                Type: Boolean\n"
      ]
     },
     "execution_count": 28,
     "metadata": {},
     "output_type": "execute_result"
    }
   ],
   "source": [
    "(aa1 = a5) :: Boolean"
   ]
  },
  {
   "cell_type": "code",
   "execution_count": 29,
   "metadata": {
    "collapsed": false
   },
   "outputs": [
    {
     "name": "stderr",
     "output_type": "stream",
     "text": [
      "INDEX-TOO-LARGE-ERROR: \n",
      "  #<SB-KERNEL:INDEX-TOO-LARGE-ERROR expected-type: (INTEGER 0 (0)) datum: 0>\n"
     ]
    },
    {
     "data": {
      "text/plain": []
     },
     "execution_count": 29,
     "metadata": {},
     "output_type": "execute_result"
    }
   ],
   "source": []
  }
 ],
 "metadata": {
  "kernelspec": {
   "display_name": "FriCAS",
   "language": "spad",
   "name": "ifricas"
  },
  "language_info": {
   "codemirror_mode": "spad",
   "mimetype": "text/x-spad",
   "name": "SPAD",
   "pygments_lexer": "spad",
   "version": "1.2.6"
  },
  "name": "galois.ipynb"
 },
 "nbformat": 4,
 "nbformat_minor": 0
}