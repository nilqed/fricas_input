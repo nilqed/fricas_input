{
 "cells": [
  {
   "cell_type": "markdown",
   "metadata": {},
   "source": [
    "Copyright The Numerical Algorithms Group Limited 1991.\n"
   ]
  },
  {
   "cell_type": "code",
   "execution_count": 0,
   "metadata": {
    "collapsed": false
   },
   "outputs": [
    {
     "name": "stdout",
     "output_type": "stream",
     "text": [
      "Warning: HyperTeX macro table not found\n"
     ]
    },
    {
     "data": {
      "text/plain": [
       "   [x= asin(8)]\n",
       "                                    Type: List(Equation(Expression(Integer)))\n"
      ]
     },
     "execution_count": 0,
     "metadata": {},
     "output_type": "execute_result"
    }
   ],
   "source": [
    "solve(sin(x)-8=0)"
   ]
  },
  {
   "cell_type": "code",
   "execution_count": 1,
   "metadata": {
    "collapsed": false
   },
   "outputs": [
    {
     "data": {
      "text/plain": [
       "   [x= asin(8)]\n",
       "                                    Type: List(Equation(Expression(Integer)))\n"
      ]
     },
     "execution_count": 1,
     "metadata": {},
     "output_type": "execute_result"
    }
   ],
   "source": [
    "solve(sin(x)-8=0,x)"
   ]
  },
  {
   "cell_type": "code",
   "execution_count": 2,
   "metadata": {
    "collapsed": false
   },
   "outputs": [
    {
     "data": {
      "text/plain": [
       "   [x= asin(8)]\n",
       "                                    Type: List(Equation(Expression(Integer)))\n"
      ]
     },
     "execution_count": 2,
     "metadata": {},
     "output_type": "execute_result"
    }
   ],
   "source": [
    "solve(sin(x)-8)"
   ]
  },
  {
   "cell_type": "code",
   "execution_count": 3,
   "metadata": {
    "collapsed": false
   },
   "outputs": [
    {
     "data": {
      "text/plain": [
       "   [x= asin(8)]\n",
       "                                    Type: List(Equation(Expression(Integer)))\n"
      ]
     },
     "execution_count": 3,
     "metadata": {},
     "output_type": "execute_result"
    }
   ],
   "source": [
    "solve(sin(x)-8,x)"
   ]
  },
  {
   "cell_type": "code",
   "execution_count": 4,
   "metadata": {
    "collapsed": false
   },
   "outputs": [
    {
     "data": {
      "text/plain": [
       "          +-------+     +-------+\n",
       "   [x= - \\|asin(2) ,x= \\|asin(2) ]\n",
       "                                    Type: List(Equation(Expression(Integer)))\n"
      ]
     },
     "execution_count": 4,
     "metadata": {},
     "output_type": "execute_result"
    }
   ],
   "source": [
    "solve(sin(x^2)-2,x)"
   ]
  },
  {
   "cell_type": "code",
   "execution_count": 5,
   "metadata": {
    "collapsed": false
   },
   "outputs": [
    {
     "data": {
      "text/plain": [
       "          +-------+     +-------+\n",
       "   [x= - \\|asin(3) ,x= \\|asin(3) ]\n",
       "                                    Type: List(Equation(Expression(Integer)))\n"
      ]
     },
     "execution_count": 5,
     "metadata": {},
     "output_type": "execute_result"
    }
   ],
   "source": [
    "solve(sin(x^2)-3,x)"
   ]
  },
  {
   "cell_type": "code",
   "execution_count": 6,
   "metadata": {
    "collapsed": false
   },
   "outputs": [
    {
     "data": {
      "text/plain": [
       "          +----------+     +----------+       +------------+     +------------+\n",
       "          |      +-+       |      +-+         |        +-+       |        +-+\n",
       "   [x= - \\|asin(\\|3 ) ,x= \\|asin(\\|3 ) ,x= - \\|- asin(\\|3 ) ,x= \\|- asin(\\|3 ) ]\n",
       "                                    Type: List(Equation(Expression(Integer)))\n"
      ]
     },
     "execution_count": 6,
     "metadata": {},
     "output_type": "execute_result"
    }
   ],
   "source": [
    "solve(sin(x^2)^2-3,x)"
   ]
  },
  {
   "cell_type": "code",
   "execution_count": 7,
   "metadata": {
    "collapsed": false
   },
   "outputs": [
    {
     "data": {
      "text/plain": [
       "   [x= asin(2) - 2]\n",
       "                                    Type: List(Equation(Expression(Integer)))\n"
      ]
     },
     "execution_count": 7,
     "metadata": {},
     "output_type": "execute_result"
    }
   ],
   "source": [
    "solve(sin(x+2)-2,x)"
   ]
  },
  {
   "cell_type": "code",
   "execution_count": 8,
   "metadata": {
    "collapsed": false
   },
   "outputs": [
    {
     "data": {
      "text/plain": [
       "          +-----------+     +-----------+\n",
       "   [x= - \\|asin(2) - 2 ,x= \\|asin(2) - 2 ]\n",
       "                                    Type: List(Equation(Expression(Integer)))\n"
      ]
     },
     "execution_count": 8,
     "metadata": {},
     "output_type": "execute_result"
    }
   ],
   "source": [
    "solve(sin(x^2+2)-2,x)"
   ]
  },
  {
   "cell_type": "code",
   "execution_count": 9,
   "metadata": {
    "collapsed": false
   },
   "outputs": [
    {
     "data": {
      "text/plain": [
       "                  y - 1\n",
       "   [x= asin(----------------)]\n",
       "            189cos(8)tan(88)\n",
       "                                    Type: List(Equation(Expression(Integer)))\n"
      ]
     },
     "execution_count": 9,
     "metadata": {},
     "output_type": "execute_result"
    }
   ],
   "source": [
    "solve(sin(x)*cos(8)*tan(88)*567-y*3+3,x)"
   ]
  },
  {
   "cell_type": "code",
   "execution_count": 10,
   "metadata": {
    "collapsed": false
   },
   "outputs": [
    {
     "data": {
      "text/plain": [
       "                  y - 1\n",
       "   [x= asin(----------------) + 77]\n",
       "            189cos(8)tan(88)\n",
       "                                    Type: List(Equation(Expression(Integer)))\n"
      ]
     },
     "execution_count": 10,
     "metadata": {},
     "output_type": "execute_result"
    }
   ],
   "source": [
    "solve(sin(x-77)*cos(8)*tan(88)*567-y*3+3,x)"
   ]
  },
  {
   "cell_type": "code",
   "execution_count": 11,
   "metadata": {
    "collapsed": false
   },
   "outputs": [
    {
     "data": {
      "text/plain": [
       "          +---------------------------+     +---------------------------+\n",
       "          |           y - 1                 |           y - 1\n",
       "   [x= -  |asin(----------------) + 77 ,x=  |asin(----------------) + 77 ]\n",
       "         \\|     189cos(8)tan(88)           \\|     189cos(8)tan(88)\n",
       "                                    Type: List(Equation(Expression(Integer)))\n"
      ]
     },
     "execution_count": 11,
     "metadata": {},
     "output_type": "execute_result"
    }
   ],
   "source": [
    "solve(sin(x^2-77)*cos(8)*tan(88)*567-y*3+3,x)"
   ]
  },
  {
   "cell_type": "code",
   "execution_count": 12,
   "metadata": {
    "collapsed": false
   },
   "outputs": [
    {
     "data": {
      "text/plain": [
       "             +----+                 +----+\n",
       "            \\|- 15  + 1            \\|- 15  - 1\n",
       "   [x= atan(-----------),x= - atan(-----------)]\n",
       "                 4                      4\n",
       "                                    Type: List(Equation(Expression(Integer)))\n"
      ]
     },
     "execution_count": 12,
     "metadata": {},
     "output_type": "execute_result"
    }
   ],
   "source": [
    "solve(sin(x)*cos(x)-2,x)"
   ]
  },
  {
   "cell_type": "code",
   "execution_count": 13,
   "metadata": {
    "collapsed": false
   },
   "outputs": [
    {
     "name": "stdout",
     "output_type": "stream",
     "text": [
      "\n",
      "\n",
      "\n"
     ]
    },
    {
     "data": {
      "text/plain": [
       "                       +---------------------------+\n",
       "           +---+       |           y - 1\n",
       "       (- \\|- 3  - 1) 3|asin(----------------) + 77\n",
       "                      \\|     189cos(8)tan(88)\n",
       "   [x= --------------------------------------------,\n",
       "                             2\n",
       "                     +---------------------------+\n",
       "         +---+       |           y - 1\n",
       "       (\\|- 3  - 1) 3|asin(----------------) + 77\n",
       "                    \\|     189cos(8)tan(88)\n",
       "    x= ------------------------------------------,\n",
       "                            2\n",
       "        +---------------------------+\n",
       "        |           y - 1\n",
       "    x= 3|asin(----------------) + 77 ]\n",
       "       \\|     189cos(8)tan(88)\n",
       "                                    Type: List(Equation(Expression(Integer)))\n"
      ]
     },
     "execution_count": 13,
     "metadata": {},
     "output_type": "execute_result"
    }
   ],
   "source": [
    "solve(sin(x^3-77)*cos(8)*tan(88)*567-y*3+3,x)"
   ]
  },
  {
   "cell_type": "code",
   "execution_count": 14,
   "metadata": {
    "collapsed": false
   },
   "outputs": [
    {
     "data": {
      "text/plain": [
       "       %pi      %pi    %pi      %pi\n",
       "   [x= ---,x= - ---,x= ---,x= - ---]\n",
       "        3        3      6        6\n",
       "                                    Type: List(Equation(Expression(Integer)))\n"
      ]
     },
     "execution_count": 14,
     "metadata": {},
     "output_type": "execute_result"
    }
   ],
   "source": [
    "solve(cos(x)+cos(3*x)+cos(5*x) ,x)"
   ]
  },
  {
   "cell_type": "code",
   "execution_count": 15,
   "metadata": {
    "collapsed": false
   },
   "outputs": [
    {
     "data": {
      "text/plain": [
       "             +-+                 +-+\n",
       "            \\|7  + 2            \\|7  - 2\n",
       "   [x= atan(--------),x= - atan(--------)]\n",
       "                3                   3\n",
       "                                    Type: List(Equation(Expression(Integer)))\n"
      ]
     },
     "execution_count": 15,
     "metadata": {},
     "output_type": "execute_result"
    }
   ],
   "source": [
    "solve(3*tan(3*x)-tan(x)+2,x)"
   ]
  },
  {
   "cell_type": "code",
   "execution_count": 16,
   "metadata": {
    "collapsed": false
   },
   "outputs": [
    {
     "data": {
      "text/plain": [
       "              +-+              +-+          +---+            +---+\n",
       "   [x= - log(\\|5 ),x= - log(- \\|5 ),x= log(\\|- 3 ),x= log(- \\|- 3 )]\n",
       "                                    Type: List(Equation(Expression(Integer)))\n"
      ]
     },
     "execution_count": 16,
     "metadata": {},
     "output_type": "execute_result"
    }
   ],
   "source": [
    "solve(3*sech(x)^2+4*tanh(x)+1,x)"
   ]
  },
  {
   "cell_type": "code",
   "execution_count": 17,
   "metadata": {
    "collapsed": false
   },
   "outputs": [
    {
     "data": {
      "text/plain": [
       "            +-+            +-+\n",
       "   [x= log(\\|2 ),x= log(- \\|2 )]\n",
       "                                    Type: List(Equation(Expression(Integer)))\n"
      ]
     },
     "execution_count": 17,
     "metadata": {},
     "output_type": "execute_result"
    }
   ],
   "source": [
    "solve(cosh(x)-3*sinh(x),x)"
   ]
  },
  {
   "cell_type": "code",
   "execution_count": 18,
   "metadata": {
    "collapsed": false
   },
   "outputs": [
    {
     "data": {
      "text/plain": [
       "            +---+                +---+\n",
       "           \\|- 7  + 5         - \\|- 7  + 5\n",
       "   [x= log(----------),x= log(------------)]\n",
       "                8                   8\n",
       "                                    Type: List(Equation(Expression(Integer)))\n"
      ]
     },
     "execution_count": 18,
     "metadata": {},
     "output_type": "execute_result"
    }
   ],
   "source": [
    "solve(2*sinh(x)+6*cosh(x)-5,x)"
   ]
  },
  {
   "cell_type": "code",
   "execution_count": 19,
   "metadata": {
    "collapsed": false
   },
   "outputs": [
    {
     "data": {
      "text/plain": [
       "                             +-+            +-+\n",
       "   [x= 0,x= log(- 1),x= log(\\|3 ),x= log(- \\|3 )]\n",
       "                                    Type: List(Equation(Expression(Integer)))\n"
      ]
     },
     "execution_count": 19,
     "metadata": {},
     "output_type": "execute_result"
    }
   ],
   "source": [
    "solve(exp(3*x)-4*exp(x)+3*exp(-x),x)"
   ]
  },
  {
   "cell_type": "code",
   "execution_count": 20,
   "metadata": {
    "collapsed": false
   },
   "outputs": [
    {
     "data": {
      "text/plain": [
       "          +-------+     +-------+\n",
       "          |  3          |  3\n",
       "   [x= - \\|%e  + 1 ,x= \\|%e  + 1 ]\n",
       "                                    Type: List(Equation(Expression(Integer)))\n"
      ]
     },
     "execution_count": 20,
     "metadata": {},
     "output_type": "execute_result"
    }
   ],
   "source": [
    "solve(log(x+1)+log(x-1)-3,x)"
   ]
  },
  {
   "cell_type": "code",
   "execution_count": 21,
   "metadata": {
    "collapsed": false
   },
   "outputs": [
    {
     "data": {
      "text/plain": [
       "             +----+                 +----+\n",
       "            \\|- 15  + 1            \\|- 15  - 1\n",
       "   [x= atan(-----------),x= - atan(-----------)]\n",
       "                 4                      4\n",
       "                                    Type: List(Equation(Expression(Integer)))\n"
      ]
     },
     "execution_count": 21,
     "metadata": {},
     "output_type": "execute_result"
    }
   ],
   "source": [
    "solve(sin(x)*cos(x)-2,x)"
   ]
  },
  {
   "cell_type": "code",
   "execution_count": 22,
   "metadata": {
    "collapsed": false
   },
   "outputs": [
    {
     "name": "stdout",
     "output_type": "stream",
     "text": [
      "\n",
      "\n"
     ]
    },
    {
     "data": {
      "text/plain": [
       "             +------------------------+\n",
       "             |     a 4         a 2             a 2\n",
       "             |9tan(-)  + 14tan(-)  + 9  + 3tan(-)  - 3\n",
       "            \\|     2           2               2\n",
       "   [x= atan(------------------------------------------),\n",
       "                                   a\n",
       "                              4tan(-)\n",
       "                                   2\n",
       "               +------------------------+\n",
       "               |     a 4         a 2             a 2\n",
       "               |9tan(-)  + 14tan(-)  + 9  - 3tan(-)  + 3\n",
       "              \\|     2           2               2\n",
       "    x= - atan(------------------------------------------)]\n",
       "                                     a\n",
       "                                4tan(-)\n",
       "                                     2\n",
       "                                    Type: List(Equation(Expression(Integer)))\n"
      ]
     },
     "execution_count": 22,
     "metadata": {},
     "output_type": "execute_result"
    }
   ],
   "source": [
    "solve(- cos(- x + a)*sin(x) + 2*cos(x)*sin(- x + a),x)"
   ]
  },
  {
   "cell_type": "code",
   "execution_count": 23,
   "metadata": {
    "collapsed": false
   },
   "outputs": [
    {
     "data": {
      "text/plain": [
       "              +---+                  +---+\n",
       "             \\|- 2  + 1             \\|- 2  - 1\n",
       "   [x= 2atan(----------),x= - 2atan(----------)]\n",
       "                  3                      3\n",
       "                                    Type: List(Equation(Expression(Integer)))\n"
      ]
     },
     "execution_count": 23,
     "metadata": {},
     "output_type": "execute_result"
    }
   ],
   "source": [
    "solve(sin(x)+cos(x)=2,x)"
   ]
  },
  {
   "cell_type": "code",
   "execution_count": 24,
   "metadata": {
    "collapsed": false
   },
   "outputs": [
    {
     "data": {
      "text/plain": [
       "       %pi           %pi\n",
       "   [x= ---,x= 0,x= - ---]\n",
       "        2             2\n",
       "                                    Type: List(Equation(Expression(Integer)))\n"
      ]
     },
     "execution_count": 24,
     "metadata": {},
     "output_type": "execute_result"
    }
   ],
   "source": [
    "solve(- cos(- x )*sin(x),x)"
   ]
  },
  {
   "cell_type": "code",
   "execution_count": 25,
   "metadata": {
    "collapsed": false
   },
   "outputs": [
    {
     "data": {
      "text/plain": [
       "                 a                           a\n",
       "             tan(-) - 1                  tan(-) + 1\n",
       "                 2                           2\n",
       "   [x= 2atan(----------),x= 0,x= - 2atan(----------)]\n",
       "                 a                           a\n",
       "             tan(-) + 1                  tan(-) - 1\n",
       "                 2                           2\n",
       "                                    Type: List(Equation(Expression(Integer)))\n"
      ]
     },
     "execution_count": 25,
     "metadata": {},
     "output_type": "execute_result"
    }
   ],
   "source": [
    "solve(- cos(- x + a)*sin(x),x)"
   ]
  },
  {
   "cell_type": "code",
   "execution_count": 26,
   "metadata": {
    "collapsed": false
   },
   "outputs": [
    {
     "data": {
      "text/plain": [
       "              5 8          5 6         5 4        5 2\n",
       "       2024(%e )  - 1260(%e )  + 286(%e )  - 28(%e )  + 1\n",
       "   [x= --------------------------------------------------]\n",
       "                                5 8\n",
       "                             (%e )\n",
       "                                    Type: List(Equation(Expression(Integer)))\n"
      ]
     },
     "execution_count": 26,
     "metadata": {},
     "output_type": "execute_result"
    }
   ],
   "source": [
    "solve(log(sqrt(sqrt(sqrt(x+1)+4)+7))+5,x)"
   ]
  },
  {
   "cell_type": "code",
   "execution_count": 27,
   "metadata": {
    "collapsed": false
   },
   "outputs": [
    {
     "data": {
      "text/plain": [
       "       log(6)\n",
       "   [x= ------]\n",
       "       log(2)\n",
       "                                    Type: List(Equation(Expression(Integer)))\n"
      ]
     },
     "execution_count": 27,
     "metadata": {},
     "output_type": "execute_result"
    }
   ],
   "source": [
    "solve(2^x-6,x)"
   ]
  },
  {
   "cell_type": "code",
   "execution_count": 28,
   "metadata": {
    "collapsed": false
   },
   "outputs": [
    {
     "data": {
      "text/plain": [
       "   []\n",
       "                                    Type: List(Equation(Expression(Integer)))\n"
      ]
     },
     "execution_count": 28,
     "metadata": {},
     "output_type": "execute_result"
    }
   ],
   "source": [
    "solve(sqrt(x+1)+sqrt(x+7)+1,x)"
   ]
  },
  {
   "cell_type": "code",
   "execution_count": 29,
   "metadata": {
    "collapsed": false
   },
   "outputs": [
    {
     "data": {
      "text/plain": [
       "       %pi\n",
       "   [x= ---]\n",
       "        2\n",
       "                                    Type: List(Equation(Expression(Integer)))\n"
      ]
     },
     "execution_count": 29,
     "metadata": {},
     "output_type": "execute_result"
    }
   ],
   "source": [
    "solve(sqrt(sin(x))+1,x)"
   ]
  },
  {
   "cell_type": "code",
   "execution_count": 30,
   "metadata": {
    "collapsed": false
   },
   "outputs": [
    {
     "data": {
      "text/plain": [
       "                     +---+                  +---+\n",
       "       %pi          \\|- 7  - 1             \\|- 7  + 1\n",
       "   [x= ---,x= 2atan(----------),x= - 2atan(----------)]\n",
       "        2                2                      2\n",
       "                                    Type: List(Equation(Expression(Integer)))\n"
      ]
     },
     "execution_count": 30,
     "metadata": {},
     "output_type": "execute_result"
    }
   ],
   "source": [
    "solve(sqrt(sin(x))+sqrt(cos(x))+1,x)"
   ]
  },
  {
   "cell_type": "code",
   "execution_count": 31,
   "metadata": {
    "collapsed": false
   },
   "outputs": [
    {
     "name": "stdout",
     "output_type": "stream",
     "text": [
      "\n",
      "\n"
     ]
    },
    {
     "data": {
      "text/plain": [
       "                             +----------------------------+\n",
       "                             |        2\n",
       "                            \\|- 3%x111  + 374%x111 + 10409  - %x111 + 187\n",
       "   [x= asin(%x111), x= asin(---------------------------------------------),\n",
       "                                                  2\n",
       "               +----------------------------+\n",
       "               |        2\n",
       "              \\|- 3%x111  + 374%x111 + 10409  + %x111 - 187\n",
       "    x= - asin(---------------------------------------------)]\n",
       "                                    2\n",
       "                                    Type: List(Equation(Expression(Integer)))\n"
      ]
     },
     "execution_count": 31,
     "metadata": {},
     "output_type": "execute_result"
    }
   ],
   "source": [
    "solve(sqrt(sin(x)+1)+(sin(x)+1)^(1/3)+7,x)"
   ]
  },
  {
   "cell_type": "code",
   "execution_count": 32,
   "metadata": {
    "collapsed": false
   },
   "outputs": [
    {
     "data": {
      "text/plain": [
       "   []\n",
       "                                    Type: List(Equation(Expression(Integer)))\n"
      ]
     },
     "execution_count": 32,
     "metadata": {},
     "output_type": "execute_result"
    }
   ],
   "source": [
    "solve(sqrt(sqrt(sqrt(1+x)+7)+1)+8-2,x)"
   ]
  },
  {
   "cell_type": "code",
   "execution_count": 33,
   "metadata": {
    "collapsed": false
   },
   "outputs": [
    {
     "name": "stdout",
     "output_type": "stream",
     "text": [
      "\n",
      "\n"
     ]
    },
    {
     "data": {
      "text/plain": [
       "                             +----------------------------+\n",
       "                             |        2\n",
       "                            \\|- 3%x119  + 374%x119 + 11113  - %x119 + 187\n",
       "   [x= asin(%x119), x= asin(---------------------------------------------),\n",
       "                                                  2\n",
       "               +----------------------------+\n",
       "               |        2\n",
       "              \\|- 3%x119  + 374%x119 + 11113  + %x119 - 187\n",
       "    x= - asin(---------------------------------------------)]\n",
       "                                    2\n",
       "                                    Type: List(Equation(Expression(Integer)))\n"
      ]
     },
     "execution_count": 33,
     "metadata": {},
     "output_type": "execute_result"
    }
   ],
   "source": [
    "solve(sqrt(sin(x)+1)+(sin(x)+5)^(1/3)+7,x)"
   ]
  },
  {
   "cell_type": "code",
   "execution_count": 34,
   "metadata": {
    "collapsed": false
   },
   "outputs": [
    {
     "name": "stdout",
     "output_type": "stream",
     "text": [
      "\n",
      "                                                                                                                                                                                                                                                                                                                                                                                                                                                                              \n",
      "                                                                                                                                                                                                                                                                                                                                                                                                                                                                                                                                                \n"
     ]
    },
    {
     "data": {
      "text/plain": [
       "   [x= 2atan(%x125) - 7, x= 2atan(%x126) - 7,\n",
       "\n",
       "     x =\n",
       "           2\n",
       "        *\n",
       "           atan\n",
       "                  ROOT\n",
       "                                    8           7           6            5\n",
       "                           - 3tan(3)  + 24tan(3)  - 84tan(3)  + 168tan(3)\n",
       "                         + \n",
       "                                      4            3           2\n",
       "                           - 210tan(3)  + 168tan(3)  - 84tan(3)  + 24tan(3) - 3\n",
       "                      *\n",
       "                              2\n",
       "                         %x126\n",
       "                     + \n",
       "                                        8           7           6            5\n",
       "                               - 2tan(3)  + 16tan(3)  - 56tan(3)  + 112tan(3)\n",
       "                             + \n",
       "                                          4            3           2\n",
       "                               - 140tan(3)  + 112tan(3)  - 56tan(3)  + 16tan(3)\n",
       "                             + \n",
       "                               - 2\n",
       "                          *\n",
       "                             %x125\n",
       "                         + \n",
       "                                   7            6            5           4\n",
       "                           32tan(3)  - 112tan(3)  + 128tan(3)  - 16tan(3)\n",
       "                         + \n",
       "                                     3            2\n",
       "                           - 96tan(3)  + 112tan(3)  - 64tan(3) + 16\n",
       "                      *\n",
       "                         %x126\n",
       "                     + \n",
       "                                    8           7           6            5\n",
       "                           - 3tan(3)  + 24tan(3)  - 84tan(3)  + 168tan(3)\n",
       "                         + \n",
       "                                      4            3           2\n",
       "                           - 210tan(3)  + 168tan(3)  - 84tan(3)  + 24tan(3) - 3\n",
       "                      *\n",
       "                              2\n",
       "                         %x125\n",
       "                     + \n",
       "                                   7            6            5           4\n",
       "                           32tan(3)  - 112tan(3)  + 128tan(3)  - 16tan(3)\n",
       "                         + \n",
       "                                     3            2\n",
       "                           - 96tan(3)  + 112tan(3)  - 64tan(3) + 16\n",
       "                      *\n",
       "                         %x125\n",
       "                     + \n",
       "                                 8            7            6            5\n",
       "                       - 72tan(3)  + 288tan(3)  - 160tan(3)  + 480tan(3)\n",
       "                     + \n",
       "                               4            3           2\n",
       "                       80tan(3)  + 224tan(3)  + 96tan(3)  + 32tan(3) + 56\n",
       "                + \n",
       "                           4          3          2\n",
       "                  (- tan(3)  + 4tan(3)  - 6tan(3)  + 4tan(3) - 1)%x126\n",
       "                + \n",
       "                           4          3          2\n",
       "                  (- tan(3)  + 4tan(3)  - 6tan(3)  + 4tan(3) - 1)%x125\n",
       "                + \n",
       "                          3          2\n",
       "                  16tan(3)  + 8tan(3)  + 8\n",
       "             /\n",
       "                       4          3           2\n",
       "                2tan(3)  - 8tan(3)  + 12tan(3)  - 8tan(3) + 2\n",
       "       + \n",
       "         - 7\n",
       "     ,\n",
       "\n",
       "     x =\n",
       "         -\n",
       "              2\n",
       "           *\n",
       "              atan\n",
       "                     ROOT\n",
       "                                       8           7           6            5\n",
       "                              - 3tan(3)  + 24tan(3)  - 84tan(3)  + 168tan(3)\n",
       "                            + \n",
       "                                       4            3           2\n",
       "                            - 210tan(3)  + 168tan(3)  - 84tan(3)  + 24tan(3) - 3\n",
       "                         *\n",
       "                                 2\n",
       "                            %x126\n",
       "                        + \n",
       "                                           8           7           6\n",
       "                                  - 2tan(3)  + 16tan(3)  - 56tan(3)\n",
       "                                + \n",
       "                                           5            4            3\n",
       "                                  112tan(3)  - 140tan(3)  + 112tan(3)\n",
       "                                + \n",
       "                                            2\n",
       "                                  - 56tan(3)  + 16tan(3) - 2\n",
       "                             *\n",
       "                                %x125\n",
       "                            + \n",
       "                                      7            6            5           4\n",
       "                              32tan(3)  - 112tan(3)  + 128tan(3)  - 16tan(3)\n",
       "                            + \n",
       "                                        3            2\n",
       "                              - 96tan(3)  + 112tan(3)  - 64tan(3) + 16\n",
       "                         *\n",
       "                            %x126\n",
       "                        + \n",
       "                                       8           7           6            5\n",
       "                              - 3tan(3)  + 24tan(3)  - 84tan(3)  + 168tan(3)\n",
       "                            + \n",
       "                                       4            3           2\n",
       "                            - 210tan(3)  + 168tan(3)  - 84tan(3)  + 24tan(3) - 3\n",
       "                         *\n",
       "                                 2\n",
       "                            %x125\n",
       "                        + \n",
       "                                      7            6            5           4\n",
       "                              32tan(3)  - 112tan(3)  + 128tan(3)  - 16tan(3)\n",
       "                            + \n",
       "                                        3            2\n",
       "                              - 96tan(3)  + 112tan(3)  - 64tan(3) + 16\n",
       "                         *\n",
       "                            %x125\n",
       "                        + \n",
       "                                    8            7            6            5\n",
       "                          - 72tan(3)  + 288tan(3)  - 160tan(3)  + 480tan(3)\n",
       "                        + \n",
       "                                  4            3           2\n",
       "                          80tan(3)  + 224tan(3)  + 96tan(3)  + 32tan(3) + 56\n",
       "                   + \n",
       "                            4          3          2\n",
       "                     (tan(3)  - 4tan(3)  + 6tan(3)  - 4tan(3) + 1)%x126\n",
       "                   + \n",
       "                            4          3          2\n",
       "                     (tan(3)  - 4tan(3)  + 6tan(3)  - 4tan(3) + 1)%x125\n",
       "                   + \n",
       "                               3          2\n",
       "                     - 16tan(3)  - 8tan(3)  - 8\n",
       "                /\n",
       "                          4          3           2\n",
       "                   2tan(3)  - 8tan(3)  + 12tan(3)  - 8tan(3) + 2\n",
       "       + \n",
       "         - 7\n",
       "     ]\n",
       "                                    Type: List(Equation(Expression(Integer)))\n"
      ]
     },
     "execution_count": 34,
     "metadata": {},
     "output_type": "execute_result"
    }
   ],
   "source": [
    "solve(sqrt(sin(x+1))+sqrt(sin(x+7))+1,x)"
   ]
  },
  {
   "cell_type": "code",
   "execution_count": 35,
   "metadata": {
    "collapsed": false
   },
   "outputs": [
    {
     "name": "stdout",
     "output_type": "stream",
     "text": [
      "                                                \n",
      "                                          \n",
      "\n"
     ]
    },
    {
     "data": {
      "text/plain": [
       "   [\n",
       "     x =\n",
       "           -\n",
       "              ROOT\n",
       "                             4                 4                      4\n",
       "                          ------            ------                 ------\n",
       "                           +---+             +---+                  +---+\n",
       "                          \\|- 1      2      \\|- 1                  \\|- 1      2\n",
       "                     - 3%e      %x135  - 2%e      %x134 %x135 - 3%e      %x134\n",
       "                   + \n",
       "                             4   2         4\n",
       "                          ------        ------\n",
       "                           +---+         +---+\n",
       "                          \\|- 1         \\|- 1\n",
       "                     - (%e      )  - 2%e       - 1\n",
       "                /\n",
       "                        4\n",
       "                     ------\n",
       "                      +---+\n",
       "                     \\|- 1\n",
       "                   %e\n",
       "         + \n",
       "           - %x135 - %x134\n",
       "      /\n",
       "         2\n",
       "     ,\n",
       "\n",
       "     x =\n",
       "           ROOT\n",
       "                          4                 4                      4\n",
       "                       ------            ------                 ------\n",
       "                        +---+             +---+                  +---+\n",
       "                       \\|- 1      2      \\|- 1                  \\|- 1      2\n",
       "                  - 3%e      %x135  - 2%e      %x134 %x135 - 3%e      %x134\n",
       "                + \n",
       "                          4   2         4\n",
       "                       ------        ------\n",
       "                        +---+         +---+\n",
       "                       \\|- 1         \\|- 1\n",
       "                  - (%e      )  - 2%e       - 1\n",
       "             /\n",
       "                     4\n",
       "                  ------\n",
       "                   +---+\n",
       "                  \\|- 1\n",
       "                %e\n",
       "         + \n",
       "           - %x135 - %x134\n",
       "      /\n",
       "         2\n",
       "     ,\n",
       "    x= %x135, x= %x134]\n",
       "                                    Type: List(Equation(Expression(Integer)))\n"
      ]
     },
     "execution_count": 35,
     "metadata": {},
     "output_type": "execute_result"
    }
   ],
   "source": [
    "solve(asin(x)+acot(x)-2,x)"
   ]
  },
  {
   "cell_type": "code",
   "execution_count": 36,
   "metadata": {
    "collapsed": false
   },
   "outputs": [
    {
     "name": "stdout",
     "output_type": "stream",
     "text": [
      "              \n",
      "              \n",
      "\n"
     ]
    },
    {
     "data": {
      "text/plain": [
       "   [\n",
       "     x =\n",
       "              +---------------------------------------------------------------+\n",
       "              |     4     2      4                 4     2      4 2      4\n",
       "              |- 3%e %x140  - 2%e %x139 %x140 - 3%e %x139  + (%e )  + 2%e  + 1\n",
       "           -  |---------------------------------------------------------------\n",
       "              |                                4\n",
       "             \\|                              %e\n",
       "         + \n",
       "           - %x140 - %x139\n",
       "      /\n",
       "         2\n",
       "     ,\n",
       "\n",
       "     x =\n",
       "            +---------------------------------------------------------------+\n",
       "            |     4     2      4                 4     2      4 2      4\n",
       "            |- 3%e %x140  - 2%e %x139 %x140 - 3%e %x139  + (%e )  + 2%e  + 1\n",
       "            |---------------------------------------------------------------\n",
       "            |                                4\n",
       "           \\|                              %e\n",
       "         + \n",
       "           - %x140 - %x139\n",
       "      /\n",
       "         2\n",
       "     ,\n",
       "    x= %x140, x= %x139]\n",
       "                                    Type: List(Equation(Expression(Integer)))\n"
      ]
     },
     "execution_count": 36,
     "metadata": {},
     "output_type": "execute_result"
    }
   ],
   "source": [
    "solve(asinh(x)+acoth(x)-2,x)"
   ]
  },
  {
   "cell_type": "code",
   "execution_count": 37,
   "metadata": {
    "collapsed": false
   },
   "outputs": [
    {
     "name": "stderr",
     "output_type": "stream",
     "text": [
      "INDEX-TOO-LARGE-ERROR: \n",
      "  #<SB-KERNEL:INDEX-TOO-LARGE-ERROR expected-type: (INTEGER 0 (0)) datum: 0>\n"
     ]
    },
    {
     "data": {
      "text/plain": []
     },
     "execution_count": 37,
     "metadata": {},
     "output_type": "execute_result"
    }
   ],
   "source": []
  }
 ],
 "metadata": {
  "kernelspec": {
   "display_name": "FriCAS",
   "language": "spad",
   "name": "ifricas"
  },
  "language_info": {
   "codemirror_mode": "spad",
   "mimetype": "text/x-spad",
   "name": "SPAD",
   "pygments_lexer": "spad",
   "version": "1.2.6"
  },
  "name": "solvetra.ipynb"
 },
 "nbformat": 4,
 "nbformat_minor": 0
}