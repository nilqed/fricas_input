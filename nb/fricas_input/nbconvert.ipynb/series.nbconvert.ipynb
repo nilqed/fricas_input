{
 "cells": [
  {
   "cell_type": "markdown",
   "metadata": {},
   "source": [
    "Copyright The Numerical Algorithms Group Limited 1994.\n",
    "% Expression To Power Series\n",
    " We compute series expansions of various functions using EXPR2UPS.\n",
    " Author: Clifton J. Williamson\n",
    " Date Created: 1 June 1990\n",
    " Date Last Updated: 1 June 1990\n",
    " Keywords: Taylor, Laurent, Puiseux, series\n",
    " References:\n"
   ]
  },
  {
   "cell_type": "markdown",
   "metadata": {},
   "source": [
    " Test functions in EXPR2UPS:\n"
   ]
  },
  {
   "cell_type": "code",
   "execution_count": 0,
   "metadata": {
    "collapsed": false
   },
   "outputs": [
    {
     "name": "stdout",
     "output_type": "stream",
     "text": [
      "   All user variables and function definitions have been cleared.\n"
     ]
    },
    {
     "data": {
      "text/plain": []
     },
     "execution_count": 0,
     "metadata": {},
     "output_type": "execute_result"
    }
   ],
   "source": [
    ")clear all"
   ]
  },
  {
   "cell_type": "code",
   "execution_count": 1,
   "metadata": {
    "collapsed": false
   },
   "outputs": [
    {
     "name": "stdout",
     "output_type": "stream",
     "text": [
      "Warning: HyperTeX macro table not found\n"
     ]
    },
    {
     "data": {
      "text/plain": [
       "   x\n",
       "                        Type: UnivariateTaylorSeries(Expression(Integer),x,0)\n"
      ]
     },
     "execution_count": 1,
     "metadata": {},
     "output_type": "execute_result"
    }
   ],
   "source": [
    "xT := taylor(x)"
   ]
  },
  {
   "cell_type": "code",
   "execution_count": 2,
   "metadata": {
    "collapsed": false
   },
   "outputs": [
    {
     "data": {
      "text/plain": [
       "       1  3    1  5    55   7    143  9      11\n",
       "   x + - x  - -- x  - ---- x  - ---- x  + O(x  )\n",
       "       6      40      1008      3456\n",
       "                        Type: UnivariateTaylorSeries(Expression(Integer),x,0)\n"
      ]
     },
     "execution_count": 2,
     "metadata": {},
     "output_type": "execute_result"
    }
   ],
   "source": [
    "sin(tan(xT))"
   ]
  },
  {
   "cell_type": "code",
   "execution_count": 3,
   "metadata": {
    "collapsed": false
   },
   "outputs": [
    {
     "name": "stdout",
     "output_type": "stream",
     "text": [
      "    "
     ]
    },
    {
     "data": {
      "text/plain": [
       "                 1          7    2     13    3      205    4      1069    5\n",
       "     asec(2) + ----- x - ------ x  + ------ x  - -------- x  + --------- x\n",
       "                 +-+        +-+         +-+           +-+            +-+\n",
       "               2\\|3      24\\|3       72\\|3       1728\\|3       12960\\|3\n",
       "   + \n",
       "          1877    6      10043    7      54593     8      33437     9\n",
       "     - --------- x  + ---------- x  - ----------- x  + ----------- x\n",
       "             +-+             +-+              +-+              +-+\n",
       "       31104\\|3       217728\\|3       1492992\\|3       1119744\\|3\n",
       "   + \n",
       "          5034373     10      11\n",
       "     - ------------- x   + O(x  )\n",
       "                 +-+\n",
       "       201553920\\|3\n",
       "                        Type: UnivariateTaylorSeries(Expression(Integer),x,0)\n"
      ]
     },
     "execution_count": 3,
     "metadata": {},
     "output_type": "execute_result"
    }
   ],
   "source": [
    "taylor(asec(2+x))"
   ]
  },
  {
   "cell_type": "code",
   "execution_count": 4,
   "metadata": {
    "collapsed": false
   },
   "outputs": [
    {
     "data": {
      "text/plain": [
       "              11\n",
       "   2 + x + O(x  )\n",
       "                        Type: UnivariateTaylorSeries(Expression(Integer),x,0)\n"
      ]
     },
     "execution_count": 4,
     "metadata": {},
     "output_type": "execute_result"
    }
   ],
   "source": [
    "sec %"
   ]
  },
  {
   "cell_type": "code",
   "execution_count": 5,
   "metadata": {
    "collapsed": false
   },
   "outputs": [
    {
     "name": "stdout",
     "output_type": "stream",
     "text": [
      "    "
     ]
    },
    {
     "data": {
      "text/plain": [
       "      +-+    +-+              +-+               +-+               +-+\n",
       "     \\|2    \\|2       %pi    \\|2       %pi 2   \\|2       %pi 3   \\|2       %pi 4\n",
       "     ---- + ---- (x - ---) - ---- (x - ---)  - ---- (x - ---)  + ---- (x - ---)\n",
       "       2      2        4       4        4       12        4       48        4\n",
       "   + \n",
       "      +-+               +-+                +-+                +-+\n",
       "     \\|2       %pi 5   \\|2       %pi 6    \\|2       %pi 7    \\|2       %pi 8\n",
       "     ---- (x - ---)  - ---- (x - ---)  - ----- (x - ---)  + ----- (x - ---)\n",
       "      240       4      1440       4      10080       4      80640       4\n",
       "   + \n",
       "       +-+                  +-+\n",
       "      \\|2        %pi 9     \\|2        %pi 10          %pi 11\n",
       "     ------ (x - ---)  - ------- (x - ---)   + O((x - ---)  )\n",
       "     725760       4      7257600       4               4\n",
       "                    Type: UnivariateTaylorSeries(Expression(Integer),x,%pi/4)\n"
      ]
     },
     "execution_count": 5,
     "metadata": {},
     "output_type": "execute_result"
    }
   ],
   "source": [
    "taylor(sin(x),x = %pi/4)"
   ]
  },
  {
   "cell_type": "code",
   "execution_count": 6,
   "metadata": {
    "collapsed": false
   },
   "outputs": [
    {
     "data": {
      "text/plain": [
       "   x\n",
       "                       Type: UnivariateLaurentSeries(Expression(Integer),x,0)\n"
      ]
     },
     "execution_count": 6,
     "metadata": {},
     "output_type": "execute_result"
    }
   ],
   "source": [
    "xL := laurent(x)"
   ]
  },
  {
   "cell_type": "code",
   "execution_count": 7,
   "metadata": {
    "collapsed": false
   },
   "outputs": [
    {
     "data": {
      "text/plain": [
       "   1      1  3    2   5     1   7     2    9      1382    11      12\n",
       "   - x + -- x  + --- x  + ---- x  + ----- x  + --------- x   + O(x  )\n",
       "   3     45      945      4725      93555      638512875\n",
       "                       Type: UnivariateLaurentSeries(Expression(Integer),x,0)\n"
      ]
     },
     "execution_count": 7,
     "metadata": {},
     "output_type": "execute_result"
    }
   ],
   "source": [
    "1/xL - cot(xL)"
   ]
  },
  {
   "cell_type": "code",
   "execution_count": 8,
   "metadata": {
    "collapsed": false
   },
   "outputs": [
    {
     "data": {
      "text/plain": [
       "    - 1   1      7   3     31   5     127   7      73    9      10\n",
       "   x    + - x + --- x  + ----- x  + ------ x  + ------- x  + O(x  )\n",
       "          6     360      15120      604800      3421440\n",
       "                       Type: UnivariateLaurentSeries(Expression(Integer),x,0)\n"
      ]
     },
     "execution_count": 8,
     "metadata": {},
     "output_type": "execute_result"
    }
   ],
   "source": [
    "laurent(csc(x))"
   ]
  },
  {
   "cell_type": "code",
   "execution_count": 9,
   "metadata": {
    "collapsed": false
   },
   "outputs": [
    {
     "name": "stdout",
     "output_type": "stream",
     "text": [
      "    "
     ]
    },
    {
     "data": {
      "text/plain": [
       "            - 1   1    1            1        2    19        3    3         4\n",
       "     (x - 1)    + - - -- (x - 1) + -- (x - 1)  - --- (x - 1)  + --- (x - 1)\n",
       "                  2   12           24            720            160\n",
       "   + \n",
       "        863         5    275         6    33953         7     8183         8\n",
       "     - ----- (x - 1)  + ----- (x - 1)  - ------- (x - 1)  + ------- (x - 1)\n",
       "       60480            24192            3628800            1036800\n",
       "   + \n",
       "        3250433         9            10\n",
       "     - --------- (x - 1)  + O((x - 1)  )\n",
       "       479001600\n",
       "                       Type: UnivariateLaurentSeries(Expression(Integer),x,1)\n"
      ]
     },
     "execution_count": 9,
     "metadata": {},
     "output_type": "execute_result"
    }
   ],
   "source": [
    "laurent(1/log(x),x = 1)"
   ]
  },
  {
   "cell_type": "code",
   "execution_count": 10,
   "metadata": {
    "collapsed": false
   },
   "outputs": [
    {
     "data": {
      "text/plain": [
       "   x\n",
       "                       Type: UnivariatePuiseuxSeries(Expression(Integer),x,0)\n"
      ]
     },
     "execution_count": 10,
     "metadata": {},
     "output_type": "execute_result"
    }
   ],
   "source": [
    "xP := puiseux(x)"
   ]
  },
  {
   "cell_type": "code",
   "execution_count": 11,
   "metadata": {
    "collapsed": false
   },
   "outputs": [
    {
     "data": {
      "text/plain": [
       "       5         9          13\n",
       "       -         -          --\n",
       "    1  2     1   2     1     2      8\n",
       "   -- x  - ---- x  + ----- x   + O(x )\n",
       "   12      1440      24192\n",
       "                       Type: UnivariatePuiseuxSeries(Expression(Integer),x,0)\n"
      ]
     },
     "execution_count": 11,
     "metadata": {},
     "output_type": "execute_result"
    }
   ],
   "source": [
    "sqrt(xP) - sqrt(sin(xP))"
   ]
  },
  {
   "cell_type": "code",
   "execution_count": 12,
   "metadata": {
    "collapsed": false
   },
   "outputs": [
    {
     "name": "stdout",
     "output_type": "stream",
     "text": [
      "  "
     ]
    },
    {
     "data": {
      "text/plain": [
       "       1       1    2       1     4        1      6         1       8\n",
       "     ---- - ------ x  + -------- x  - ---------- x  + ------------ x\n",
       "      +-+      +-+           +-+             +-+               +-+\n",
       "     \\|2    24\\|2       1920\\|2       322560\\|2       92897280\\|2\n",
       "   + \n",
       "              1         10      11\n",
       "     - --------------- x   + O(x  )\n",
       "                   +-+\n",
       "       40874803200\\|2\n",
       "                       Type: UnivariatePuiseuxSeries(Expression(Integer),x,0)\n"
      ]
     },
     "execution_count": 12,
     "metadata": {},
     "output_type": "execute_result"
    }
   ],
   "source": [
    "puiseux(sqrt(1 - cos(x))/x)"
   ]
  },
  {
   "cell_type": "code",
   "execution_count": 13,
   "metadata": {
    "collapsed": false
   },
   "outputs": [
    {
     "name": "stdout",
     "output_type": "stream",
     "text": [
      "  "
     ]
    },
    {
     "data": {
      "text/plain": [
       "                1              1               3               5\n",
       "              - -              -               -               -\n",
       "          %pi   2   1      %pi 2    7      %pi 2    7      %pi 2\n",
       "     (x - ---)    + - (x - ---)  - -- (x - ---)  + -- (x - ---)\n",
       "           2        2       2      24       2      48       2\n",
       "   + \n",
       "                    7                  9\n",
       "                    -                  -\n",
       "        81      %pi 2    1219      %pi 2          %pi 5\n",
       "     - --- (x - ---)  + ----- (x - ---)  + O((x - ---) )\n",
       "       640       2      11520       2              2\n",
       "                   Type: UnivariatePuiseuxSeries(Expression(Integer),x,%pi/2)\n"
      ]
     },
     "execution_count": 13,
     "metadata": {},
     "output_type": "execute_result"
    }
   ],
   "source": [
    "puiseux(sqrt(1 - tan(x)),x = %pi/2)"
   ]
  },
  {
   "cell_type": "code",
   "execution_count": 14,
   "metadata": {
    "collapsed": false
   },
   "outputs": [
    {
     "data": {
      "text/plain": [
       "   x\n",
       "                       Type: UnivariatePuiseuxSeries(Expression(Integer),x,0)\n"
      ]
     },
     "execution_count": 14,
     "metadata": {},
     "output_type": "execute_result"
    }
   ],
   "source": [
    "xS := series(x)"
   ]
  },
  {
   "cell_type": "code",
   "execution_count": 15,
   "metadata": {
    "collapsed": false
   },
   "outputs": [
    {
     "data": {
      "text/plain": [
       "              5        7                         11               13      14\n",
       "              -        -                         --               --      --\n",
       "   1      1   3    31  3      1    3       1      3     1921921    3       3\n",
       "   - x - --- x  - --- x  - ------ x  + -------- x   - ---------- x   + O(x  )\n",
       "   6     120      560      362880      39916800       6227020800\n",
       "                       Type: UnivariatePuiseuxSeries(Expression(Integer),x,0)\n"
      ]
     },
     "execution_count": 15,
     "metadata": {},
     "output_type": "execute_result"
    }
   ],
   "source": [
    "sin(xS)^(1/3) - sin(xS^(1/3))"
   ]
  },
  {
   "cell_type": "code",
   "execution_count": 16,
   "metadata": {
    "collapsed": false
   },
   "outputs": [
    {
     "data": {
      "text/plain": [
       "            1  2    7  4    62   6    127   8    146   10      11\n",
       "   log(x) + - x  + -- x  + ---- x  + ----- x  + ----- x   + O(x  )\n",
       "            3      90      2835      18900      66825\n",
       "                  Type: GeneralUnivariatePowerSeries(Expression(Integer),x,0)\n"
      ]
     },
     "execution_count": 16,
     "metadata": {},
     "output_type": "execute_result"
    }
   ],
   "source": [
    "series(log(tan(x)))"
   ]
  },
  {
   "cell_type": "code",
   "execution_count": 17,
   "metadata": {
    "collapsed": false
   },
   "outputs": [
    {
     "name": "stdout",
     "output_type": "stream",
     "text": [
      "  "
     ]
    },
    {
     "data": {
      "text/plain": [
       "         - 2x + %pi    1      %pi 2    7      %pi 4    62       %pi 6\n",
       "     log(----------) + - (x - ---)  + -- (x - ---)  + ---- (x - ---)\n",
       "              2        3       2      90       2      2835       2\n",
       "   + \n",
       "      127       %pi 8    146       %pi 10          %pi 11\n",
       "     ----- (x - ---)  + ----- (x - ---)   + O((x - ---)  )\n",
       "     18900       2      66825       2               2\n",
       "              Type: GeneralUnivariatePowerSeries(Expression(Integer),x,%pi/2)\n"
      ]
     },
     "execution_count": 17,
     "metadata": {},
     "output_type": "execute_result"
    }
   ],
   "source": [
    "series(log(cot(x)),x = %pi/2)"
   ]
  },
  {
   "cell_type": "code",
   "execution_count": 18,
   "metadata": {
    "collapsed": false
   },
   "outputs": [
    {
     "name": "stderr",
     "output_type": "stream",
     "text": [
      "INDEX-TOO-LARGE-ERROR: \n",
      "  #<SB-KERNEL:INDEX-TOO-LARGE-ERROR expected-type: (INTEGER 0 (0)) datum: 0>\n"
     ]
    },
    {
     "data": {
      "text/plain": []
     },
     "execution_count": 18,
     "metadata": {},
     "output_type": "execute_result"
    }
   ],
   "source": []
  }
 ],
 "metadata": {
  "kernelspec": {
   "display_name": "FriCAS",
   "language": "spad",
   "name": "ifricas"
  },
  "language_info": {
   "codemirror_mode": "spad",
   "mimetype": "text/x-spad",
   "name": "SPAD",
   "pygments_lexer": "spad",
   "version": "1.2.6"
  },
  "name": "series.ipynb"
 },
 "nbformat": 4,
 "nbformat_minor": 0
}