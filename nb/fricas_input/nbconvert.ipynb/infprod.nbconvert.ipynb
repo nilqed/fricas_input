{
 "cells": [
  {
   "cell_type": "markdown",
   "metadata": {},
   "source": [
    "Copyright The Numerical Algorithms Group Limited 1991.\n",
    "% Infinite products of Taylor series\n",
    " We compute series expansions of various infinite products using INFPROD0\n",
    " Author: Clifton J. Williamson\n",
    " Date Created: 20 August 1992\n",
    " Date Last Updated: 20 August 1992\n",
    " Keywords: Taylor series, infinite product\n",
    " References:\n"
   ]
  },
  {
   "cell_type": "markdown",
   "metadata": {},
   "source": [
    " the partition function\n"
   ]
  },
  {
   "cell_type": "code",
   "execution_count": 0,
   "metadata": {
    "collapsed": false
   },
   "outputs": [
    {
     "name": "stdout",
     "output_type": "stream",
     "text": [
      "   All user variables and function definitions have been cleared.\n"
     ]
    },
    {
     "data": {
      "text/plain": []
     },
     "execution_count": 0,
     "metadata": {},
     "output_type": "execute_result"
    }
   ],
   "source": [
    ")clear all"
   ]
  },
  {
   "cell_type": "code",
   "execution_count": 1,
   "metadata": {
    "collapsed": false
   },
   "outputs": [
    {
     "name": "stdout",
     "output_type": "stream",
     "text": [
      "Warning: HyperTeX macro table not found\n"
     ]
    },
    {
     "data": {
      "text/plain": [
       "   1 - x\n",
       "                                    Type: UnivariateTaylorSeries(Integer,x,0)\n"
      ]
     },
     "execution_count": 1,
     "metadata": {},
     "output_type": "execute_result"
    }
   ],
   "source": [
    "f : UTS(INT,x,0) := 1 - x"
   ]
  },
  {
   "cell_type": "markdown",
   "metadata": {},
   "source": [
    " the coefficient of x ^ n in the following series is the number of ways\n",
    " that n can be partitioned as a sum of positive integers:\n"
   ]
  },
  {
   "cell_type": "code",
   "execution_count": 2,
   "metadata": {
    "collapsed": false
   },
   "outputs": [
    {
     "data": {
      "text/plain": [
       "            2    3    4    5    6    7    8    9    10      11\n",
       "   1 + x + x  + x  + x  + x  + x  + x  + x  + x  + x   + O(x  )\n",
       "                                    Type: UnivariateTaylorSeries(Integer,x,0)\n"
      ]
     },
     "execution_count": 2,
     "metadata": {},
     "output_type": "execute_result"
    }
   ],
   "source": [
    "g : UTS(INT,x,0) := recip f"
   ]
  },
  {
   "cell_type": "markdown",
   "metadata": {},
   "source": [
    " Ramanujan's tau function\n"
   ]
  },
  {
   "cell_type": "code",
   "execution_count": 3,
   "metadata": {
    "collapsed": false
   },
   "outputs": [
    {
     "data": {
      "text/plain": [
       "             2     3     4     5      6      7      8      9      10      11\n",
       "   1 + x + 2x  + 3x  + 5x  + 7x  + 11x  + 15x  + 22x  + 30x  + 42x   + O(x  )\n",
       "                                    Type: UnivariateTaylorSeries(Integer,x,0)\n"
      ]
     },
     "execution_count": 3,
     "metadata": {},
     "output_type": "execute_result"
    }
   ],
   "source": [
    "infiniteProduct g"
   ]
  },
  {
   "cell_type": "markdown",
   "metadata": {},
   "source": [
    " the coefficient of x ^ n in the following series is Ramanujan's\n",
    " function tau(n)\n"
   ]
  },
  {
   "cell_type": "code",
   "execution_count": 4,
   "metadata": {
    "collapsed": false
   },
   "outputs": [
    {
     "name": "stdout",
     "output_type": "stream",
     "text": [
      "  "
     ]
    },
    {
     "data": {
      "text/plain": [
       "                   2        3        4        5         6         7          8\n",
       "     1 - 24x + 252x  - 1472x  + 4830x  - 6048x  - 16744x  + 84480x  - 113643x\n",
       "   + \n",
       "              9          10      11\n",
       "     - 115920x  + 534612x   + O(x  )\n",
       "                                    Type: UnivariateTaylorSeries(Integer,x,0)\n"
      ]
     },
     "execution_count": 4,
     "metadata": {},
     "output_type": "execute_result"
    }
   ],
   "source": [
    "h := infiniteProduct(f ^ 24)"
   ]
  },
  {
   "cell_type": "markdown",
   "metadata": {},
   "source": [
    " the function tau(n) is multiplicative, i.e. if gcd(m,n) = 1, then\n",
    " tau(m * n) = tau(m) * tau(n)\n"
   ]
  },
  {
   "cell_type": "code",
   "execution_count": 5,
   "metadata": {
    "collapsed": false
   },
   "outputs": [
    {
     "name": "stdout",
     "output_type": "stream",
     "text": [
      "  "
     ]
    },
    {
     "data": {
      "text/plain": [
       "            2       3        4        5        6         7         8          9\n",
       "     x - 24x  + 252x  - 1472x  + 4830x  - 6048x  - 16744x  + 84480x  - 113643x\n",
       "   + \n",
       "              10      11\n",
       "     - 115920x   + O(x  )\n",
       "                                    Type: UnivariateTaylorSeries(Integer,x,0)\n"
      ]
     },
     "execution_count": 5,
     "metadata": {},
     "output_type": "execute_result"
    }
   ],
   "source": [
    "delta := x * h"
   ]
  },
  {
   "cell_type": "code",
   "execution_count": 6,
   "metadata": {
    "collapsed": false
   },
   "outputs": [
    {
     "data": {
      "text/plain": [
       "   - 4219488\n",
       "                                                                Type: Integer\n"
      ]
     },
     "execution_count": 6,
     "metadata": {},
     "output_type": "execute_result"
    }
   ],
   "source": [
    "coefficient(delta,21)"
   ]
  },
  {
   "cell_type": "code",
   "execution_count": 7,
   "metadata": {
    "collapsed": false
   },
   "outputs": [
    {
     "data": {
      "text/plain": [
       "   - 4219488\n",
       "                                                                Type: Integer\n"
      ]
     },
     "execution_count": 7,
     "metadata": {},
     "output_type": "execute_result"
    }
   ],
   "source": [
    "coefficient(delta,3) * coefficient(delta,7)"
   ]
  },
  {
   "cell_type": "code",
   "execution_count": 8,
   "metadata": {
    "collapsed": false
   },
   "outputs": [
    {
     "data": {
      "text/plain": [
       "   - 7109760\n",
       "                                                                Type: Integer\n"
      ]
     },
     "execution_count": 8,
     "metadata": {},
     "output_type": "execute_result"
    }
   ],
   "source": [
    "coefficient(delta,20)"
   ]
  },
  {
   "cell_type": "code",
   "execution_count": 9,
   "metadata": {
    "collapsed": false
   },
   "outputs": [
    {
     "data": {
      "text/plain": [
       "   - 7109760\n",
       "                                                                Type: Integer\n"
      ]
     },
     "execution_count": 9,
     "metadata": {},
     "output_type": "execute_result"
    }
   ],
   "source": [
    "coefficient(delta,4) * coefficient(delta,5)"
   ]
  },
  {
   "cell_type": "code",
   "execution_count": 10,
   "metadata": {
    "collapsed": false
   },
   "outputs": [
    {
     "data": {
      "text/plain": [
       "   - 2790474540\n",
       "                                                                Type: Integer\n"
      ]
     },
     "execution_count": 10,
     "metadata": {},
     "output_type": "execute_result"
    }
   ],
   "source": [
    "coefficient(delta,65)"
   ]
  },
  {
   "cell_type": "code",
   "execution_count": 11,
   "metadata": {
    "collapsed": false
   },
   "outputs": [
    {
     "data": {
      "text/plain": [
       "   - 2790474540\n",
       "                                                                Type: Integer\n"
      ]
     },
     "execution_count": 11,
     "metadata": {},
     "output_type": "execute_result"
    }
   ],
   "source": [
    "coefficient(delta,13) * coefficient(delta,5)"
   ]
  },
  {
   "cell_type": "code",
   "execution_count": 12,
   "metadata": {
    "collapsed": false
   },
   "outputs": [
    {
     "name": "stderr",
     "output_type": "stream",
     "text": [
      "INDEX-TOO-LARGE-ERROR: \n",
      "  #<SB-KERNEL:INDEX-TOO-LARGE-ERROR expected-type: (INTEGER 0 (0)) datum: 0>\n"
     ]
    },
    {
     "data": {
      "text/plain": []
     },
     "execution_count": 12,
     "metadata": {},
     "output_type": "execute_result"
    }
   ],
   "source": []
  }
 ],
 "metadata": {
  "kernelspec": {
   "display_name": "FriCAS",
   "language": "spad",
   "name": "ifricas"
  },
  "language_info": {
   "codemirror_mode": "spad",
   "mimetype": "text/x-spad",
   "name": "SPAD",
   "pygments_lexer": "spad",
   "version": "1.2.6"
  },
  "name": "infprod.ipynb"
 },
 "nbformat": 4,
 "nbformat_minor": 0
}