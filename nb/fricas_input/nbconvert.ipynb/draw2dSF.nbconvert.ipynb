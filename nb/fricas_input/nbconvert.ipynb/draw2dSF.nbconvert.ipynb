{
 "cells": [
  {
   "cell_type": "markdown",
   "metadata": {},
   "source": [
    "Copyright The Numerical Algorithms Group Limited 1994.\n"
   ]
  },
  {
   "cell_type": "markdown",
   "metadata": {},
   "source": [
    "open a file for input\n"
   ]
  },
  {
   "cell_type": "code",
   "execution_count": 0,
   "metadata": {
    "collapsed": false
   },
   "outputs": [
    {
     "name": "stdout",
     "output_type": "stream",
     "text": [
      "   All user variables and function definitions have been cleared.\n"
     ]
    },
    {
     "data": {
      "text/plain": []
     },
     "execution_count": 0,
     "metadata": {},
     "output_type": "execute_result"
    }
   ],
   "source": [
    ")clear all"
   ]
  },
  {
   "cell_type": "code",
   "execution_count": 1,
   "metadata": {
    "collapsed": false
   },
   "outputs": [
    {
     "name": "stdout",
     "output_type": "stream",
     "text": [
      "   Function declaration drawList : List(Point(DoubleFloat)) -> \n",
      "      TwoDimensionalViewport has been added to workspace.\n",
      "\n"
     ]
    },
    {
     "data": {
      "text/plain": [
       "                                                                   Type: Void\n"
      ]
     },
     "execution_count": 1,
     "metadata": {},
     "output_type": "execute_result"
    }
   ],
   "source": [
    "drawList(lp:List Point DoubleFloat):VIEW2D ==\n",
    "  n := #lp\n",
    "  g := graphImage()$GRIMAGE\n",
    "  for p in lp repeat\n",
    "    component(g,p,pointColorDefault(),lineColorDefault(),pointSizeDefault())\n",
    "  gi := makeGraphImage(g)$GRIMAGE\n",
    "  makeViewport2D(gi,[title(\"Points\")])$VIEW2D"
   ]
  },
  {
   "cell_type": "markdown",
   "metadata": {},
   "source": [
    " first we read the file of x, y data\n",
    " we cheat to get at the AXIOM variable\n"
   ]
  },
  {
   "cell_type": "code",
   "execution_count": 2,
   "metadata": {
    "collapsed": false
   },
   "outputs": [
    {
     "data": {
      "text/plain": [
       "                                                                   Type: Void\n"
      ]
     },
     "execution_count": 2,
     "metadata": {},
     "output_type": "execute_result"
    }
   ],
   "source": [
    "readTheFile(filename,numberOfPoints) ==\n",
    "  filenew:FILE(DoubleFloat):=open(filename,\"input\")\n",
    "  llp:=[point([read!(filenew),read!(filenew)])$Point(DoubleFloat)\n",
    "          for i in 1..numberOfPoints]"
   ]
  },
  {
   "cell_type": "code",
   "execution_count": 3,
   "metadata": {
    "collapsed": false
   },
   "outputs": [
    {
     "name": "stderr",
     "output_type": "stream",
     "text": [
      " \n",
      "   >> Error detected within library code:\n",
      "   Non-string\n",
      "\n"
     ]
    },
    {
     "data": {
      "text/plain": [
       "error\n"
      ]
     },
     "execution_count": 3,
     "metadata": {},
     "output_type": "execute_result"
    }
   ],
   "source": [
    "axiom:=string getEnv(\"AXIOM\")$Lisp"
   ]
  },
  {
   "cell_type": "markdown",
   "metadata": {},
   "source": [
    " then we plot the points\n"
   ]
  },
  {
   "cell_type": "code",
   "execution_count": 4,
   "metadata": {
    "collapsed": false
   },
   "outputs": [
    {
     "name": "stderr",
     "output_type": "stream",
     "text": [
      "   There are no library operations named axiom \n",
      "      Use HyperDoc Browse or issue\n",
      "                               )what op axiom\n",
      "      to learn if there is any operation containing \" axiom \" in its \n",
      "      name.\n",
      " \n",
      "   Cannot find a definition or applicable library operation named axiom\n",
      "      with argument type(s) \n",
      "                                   String\n",
      "      \n",
      "      Perhaps you should use \"@\" to indicate the required return type, \n",
      "      or \"$\" to specify which version of the function you need.\n",
      "\n"
     ]
    },
    {
     "data": {
      "text/plain": [
       "error\n"
      ]
     },
     "execution_count": 4,
     "metadata": {},
     "output_type": "execute_result"
    }
   ],
   "source": [
    "pts:=readTheFile(axiom \"/../../src/input/draw2dSF.data\",1024);"
   ]
  },
  {
   "cell_type": "code",
   "execution_count": 5,
   "metadata": {
    "collapsed": false
   },
   "outputs": [
    {
     "name": "stderr",
     "output_type": "stream",
     "text": [
      "Warning: HyperTeX macro table not found\n",
      "   There are no exposed library operations named makeGraphImage but \n",
      "      there are 3 unexposed operations with that name. Use HyperDoc \n",
      "      Browse or issue\n",
      "                         )display op makeGraphImage\n",
      "      to learn more about the available operations.\n",
      "   Cannot find a definition or applicable library operation named \n",
      "      makeGraphImage with argument type(s) \n",
      "                                 GraphImage\n",
      "      \n",
      "      Perhaps you should use \"@\" to indicate the required return type, \n",
      "      or \"$\" to specify which version of the function you need.\n",
      "   FriCAS will attempt to step through and interpret the code.\n",
      "   Compiling function drawList with type List(Point(DoubleFloat)) -> \n",
      "      TwoDimensionalViewport \n",
      "   There are 2 exposed and 1 unexposed library operations named # \n",
      "      having 1 argument(s) but none was determined to be applicable. \n",
      "      Use HyperDoc Browse, or issue\n",
      "                                )display op #\n",
      "      to learn more about the available operations. Perhaps \n",
      "      package-calling the operation or using coercions on the arguments\n",
      "      will allow you to apply the operation.\n",
      " \n",
      "   Cannot find a definition or applicable library operation named # \n",
      "      with argument type(s) \n",
      "                                Variable(#1)\n",
      "      \n",
      "      Perhaps you should use \"@\" to indicate the required return type, \n",
      "      or \"$\" to specify which version of the function you need.\n",
      "\n"
     ]
    },
    {
     "data": {
      "text/plain": [
       "error\n"
      ]
     },
     "execution_count": 5,
     "metadata": {},
     "output_type": "execute_result"
    }
   ],
   "source": [
    "drawList(pts)"
   ]
  },
  {
   "cell_type": "code",
   "execution_count": 6,
   "metadata": {
    "collapsed": false
   },
   "outputs": [
    {
     "name": "stderr",
     "output_type": "stream",
     "text": [
      "INDEX-TOO-LARGE-ERROR: \n",
      "  #<SB-KERNEL:INDEX-TOO-LARGE-ERROR expected-type: (INTEGER 0 (0)) datum: 0>\n"
     ]
    },
    {
     "data": {
      "text/plain": []
     },
     "execution_count": 6,
     "metadata": {},
     "output_type": "execute_result"
    }
   ],
   "source": []
  }
 ],
 "metadata": {
  "kernelspec": {
   "display_name": "FriCAS",
   "language": "spad",
   "name": "ifricas"
  },
  "language_info": {
   "codemirror_mode": "spad",
   "mimetype": "text/x-spad",
   "name": "SPAD",
   "pygments_lexer": "spad",
   "version": "1.2.6"
  },
  "name": "draw2dSF.ipynb"
 },
 "nbformat": 4,
 "nbformat_minor": 0
}