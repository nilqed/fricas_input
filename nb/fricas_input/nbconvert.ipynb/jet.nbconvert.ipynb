{
 "cells": [
  {
   "cell_type": "markdown",
   "metadata": {},
   "source": [
    " Janet system, using linear functions\n"
   ]
  },
  {
   "cell_type": "code",
   "execution_count": 0,
   "metadata": {
    "collapsed": false
   },
   "outputs": [
    {
     "data": {
      "text/plain": [
       "   JetBundle([x,y,z],[u])\n",
       "                                                                   Type: Type\n"
      ]
     },
     "execution_count": 0,
     "metadata": {},
     "output_type": "execute_result"
    }
   ],
   "source": [
    "jb := JBUNDLE(['x, 'y, 'z], ['u])"
   ]
  },
  {
   "cell_type": "code",
   "execution_count": 1,
   "metadata": {
    "collapsed": false
   },
   "outputs": [
    {
     "data": {
      "text/plain": [
       "   JetBundleXExpression(JetBundle([x,y,z],[u]))\n",
       "                                                                   Type: Type\n"
      ]
     },
     "execution_count": 1,
     "metadata": {},
     "output_type": "execute_result"
    }
   ],
   "source": [
    "jbx := JBX jb"
   ]
  },
  {
   "cell_type": "code",
   "execution_count": 2,
   "metadata": {
    "collapsed": false
   },
   "outputs": [
    {
     "data": {
      "text/plain": [
       "  JetBundleLinearFunction(JetBundle([x,y,z],[u]),JetBundleXExpression(JetBundle\n",
       "  ([x,y,z],[u])))\n",
       "                                                                   Type: Type\n"
      ]
     },
     "execution_count": 2,
     "metadata": {},
     "output_type": "execute_result"
    }
   ],
   "source": [
    "jb1 := JBLF(jb, jbx)"
   ]
  },
  {
   "cell_type": "code",
   "execution_count": 3,
   "metadata": {
    "collapsed": false
   },
   "outputs": [
    {
     "data": {
      "text/plain": [
       "  JetDifferentialEquation(JetBundle([x,y,z],[u]),JetBundleLinearFunction(JetBun\n",
       "  dle([x,y,z],[u]),JetBundleXExpression(JetBundle([x,y,z],[u]))))\n",
       "                                                                   Type: Type\n"
      ]
     },
     "execution_count": 3,
     "metadata": {},
     "output_type": "execute_result"
    }
   ],
   "source": [
    "de := JDE(jb, jb1)"
   ]
  },
  {
   "cell_type": "code",
   "execution_count": 4,
   "metadata": {
    "collapsed": false
   },
   "outputs": [
    {
     "data": {
      "text/plain": [
       "  CartanKuranishi(JetBundle([x,y,z],[u]),JetBundleLinearFunction(JetBundle([x,y\n",
       "  ,z],[u]),JetBundleXExpression(JetBundle([x,y,z],[u]))))\n",
       "                                                                   Type: Type\n"
      ]
     },
     "execution_count": 4,
     "metadata": {},
     "output_type": "execute_result"
    }
   ],
   "source": [
    "ck := CKP(jb, jb1)"
   ]
  },
  {
   "cell_type": "code",
   "execution_count": 5,
   "metadata": {
    "collapsed": false
   },
   "outputs": [
    {
     "name": "stdout",
     "output_type": "stream",
     "text": [
      "Warning: HyperTeX macro table not found\n"
     ]
    },
    {
     "data": {
      "text/plain": [
       "   u    + y u\n",
       "    z,z      x,x\n",
       "Type: JetBundleLinearFunction(JetBundle([x,y,z],[u]),JetBundleXExpression(JetBundle([x,y,z],[u])))\n"
      ]
     },
     "execution_count": 5,
     "metadata": {},
     "output_type": "execute_result"
    }
   ],
   "source": [
    "eq1 := D('u, ['z, 'z])$jb::jb1 + 'y::jb::jb1*D('u, ['x, 'x])$jb::jb1"
   ]
  },
  {
   "cell_type": "code",
   "execution_count": 6,
   "metadata": {
    "collapsed": false
   },
   "outputs": [
    {
     "data": {
      "text/plain": [
       "   u\n",
       "    y,y\n",
       "Type: JetBundleLinearFunction(JetBundle([x,y,z],[u]),JetBundleXExpression(JetBundle([x,y,z],[u])))\n"
      ]
     },
     "execution_count": 6,
     "metadata": {},
     "output_type": "execute_result"
    }
   ],
   "source": [
    "eq2 := D('u, ['y, 'y])$jb::jb1"
   ]
  },
  {
   "cell_type": "code",
   "execution_count": 7,
   "metadata": {
    "collapsed": false
   },
   "outputs": [
    {
     "data": {
      "text/plain": [
       "\n",
       "   u    + y u   = 0\n",
       "    z,z      x,x\n",
       "\n",
       "       u   = 0\n",
       "        y,y\n",
       "Type: JetDifferentialEquation(JetBundle([x,y,z],[u]),JetBundleLinearFunction(JetBundle([x,y,z],[u]),JetBundleXExpression(JetBundle([x,y,z],[u]))))\n"
      ]
     },
     "execution_count": 7,
     "metadata": {},
     "output_type": "execute_result"
    }
   ],
   "source": [
    "janet : de := makeSystem [eq1, eq2]"
   ]
  },
  {
   "cell_type": "code",
   "execution_count": 8,
   "metadata": {
    "collapsed": false
   },
   "outputs": [
    {
     "data": {
      "text/plain": [
       "   0\n",
       "                                                     Type: NonNegativeInteger\n"
      ]
     },
     "execution_count": 8,
     "metadata": {},
     "output_type": "execute_result"
    }
   ],
   "source": [
    "setOutMode(14)$ck"
   ]
  },
  {
   "cell_type": "code",
   "execution_count": 9,
   "metadata": {
    "collapsed": false
   },
   "outputs": [
    {
     "data": {
      "text/plain": [
       "   0\n",
       "                                                     Type: NonNegativeInteger\n"
      ]
     },
     "execution_count": 9,
     "metadata": {},
     "output_type": "execute_result"
    }
   ],
   "source": [
    "setRedMode(1)$ck"
   ]
  },
  {
   "cell_type": "code",
   "execution_count": 10,
   "metadata": {
    "collapsed": false
   },
   "outputs": [
    {
     "data": {
      "text/plain": [
       "                                                                   Type: Void\n"
      ]
     },
     "execution_count": 10,
     "metadata": {},
     "output_type": "execute_result"
    }
   ],
   "source": [
    "complete(janet)$ck"
   ]
  },
  {
   "cell_type": "markdown",
   "metadata": {},
   "source": [
    " The same as above, but using general expressions\n"
   ]
  },
  {
   "cell_type": "code",
   "execution_count": 11,
   "metadata": {
    "collapsed": false
   },
   "outputs": [
    {
     "name": "stdout",
     "output_type": "stream",
     "text": [
      "   All user variables and function definitions have been cleared.\n"
     ]
    },
    {
     "data": {
      "text/plain": []
     },
     "execution_count": 11,
     "metadata": {},
     "output_type": "execute_result"
    }
   ],
   "source": [
    ")clear all"
   ]
  },
  {
   "cell_type": "code",
   "execution_count": 12,
   "metadata": {
    "collapsed": false
   },
   "outputs": [
    {
     "data": {
      "text/plain": [
       "   JetBundle([x,y,z],[u])\n",
       "                                                                   Type: Type\n"
      ]
     },
     "execution_count": 12,
     "metadata": {},
     "output_type": "execute_result"
    }
   ],
   "source": [
    "jb := JBUNDLE(['x, 'y, 'z], ['u])"
   ]
  },
  {
   "cell_type": "code",
   "execution_count": 13,
   "metadata": {
    "collapsed": false
   },
   "outputs": [
    {
     "data": {
      "text/plain": [
       "   JetBundleExpression(JetBundle([x,y,z],[u]))\n",
       "                                                                   Type: Type\n"
      ]
     },
     "execution_count": 13,
     "metadata": {},
     "output_type": "execute_result"
    }
   ],
   "source": [
    "jb1 := JBE(jb)"
   ]
  },
  {
   "cell_type": "code",
   "execution_count": 14,
   "metadata": {
    "collapsed": false
   },
   "outputs": [
    {
     "data": {
      "text/plain": [
       "  JetDifferentialEquation(JetBundle([x,y,z],[u]),JetBundleExpression(JetBundle(\n",
       "  [x,y,z],[u])))\n",
       "                                                                   Type: Type\n"
      ]
     },
     "execution_count": 14,
     "metadata": {},
     "output_type": "execute_result"
    }
   ],
   "source": [
    "de := JDE(jb, jb1)"
   ]
  },
  {
   "cell_type": "code",
   "execution_count": 15,
   "metadata": {
    "collapsed": false
   },
   "outputs": [
    {
     "data": {
      "text/plain": [
       "  CartanKuranishi(JetBundle([x,y,z],[u]),JetBundleExpression(JetBundle([x,y,z],\n",
       "  [u])))\n",
       "                                                                   Type: Type\n"
      ]
     },
     "execution_count": 15,
     "metadata": {},
     "output_type": "execute_result"
    }
   ],
   "source": [
    "ck := CKP(jb, jb1)"
   ]
  },
  {
   "cell_type": "code",
   "execution_count": 16,
   "metadata": {
    "collapsed": false
   },
   "outputs": [
    {
     "data": {
      "text/plain": [
       "   u    + y u\n",
       "    z,z      x,x\n",
       "                            Type: JetBundleExpression(JetBundle([x,y,z],[u]))\n"
      ]
     },
     "execution_count": 16,
     "metadata": {},
     "output_type": "execute_result"
    }
   ],
   "source": [
    "eq1 := D('u, ['z, 'z])$jb::jb1 + 'y::jb::jb1*D('u, ['x, 'x])$jb::jb1"
   ]
  },
  {
   "cell_type": "code",
   "execution_count": 17,
   "metadata": {
    "collapsed": false
   },
   "outputs": [
    {
     "data": {
      "text/plain": [
       "   u\n",
       "    y,y\n",
       "                            Type: JetBundleExpression(JetBundle([x,y,z],[u]))\n"
      ]
     },
     "execution_count": 17,
     "metadata": {},
     "output_type": "execute_result"
    }
   ],
   "source": [
    "eq2 := D('u, ['y, 'y])$jb::jb1"
   ]
  },
  {
   "cell_type": "code",
   "execution_count": 18,
   "metadata": {
    "collapsed": false
   },
   "outputs": [
    {
     "data": {
      "text/plain": [
       "\n",
       "   u    + y u   = 0\n",
       "    z,z      x,x\n",
       "\n",
       "       u   = 0\n",
       "        y,y\n",
       "Type: JetDifferentialEquation(JetBundle([x,y,z],[u]),JetBundleExpression(JetBundle([x,y,z],[u])))\n"
      ]
     },
     "execution_count": 18,
     "metadata": {},
     "output_type": "execute_result"
    }
   ],
   "source": [
    "janet : de := makeSystem [eq1, eq2]"
   ]
  },
  {
   "cell_type": "code",
   "execution_count": 19,
   "metadata": {
    "collapsed": false
   },
   "outputs": [
    {
     "data": {
      "text/plain": [
       "   0\n",
       "                                                     Type: NonNegativeInteger\n"
      ]
     },
     "execution_count": 19,
     "metadata": {},
     "output_type": "execute_result"
    }
   ],
   "source": [
    "setOutMode(4)$ck"
   ]
  },
  {
   "cell_type": "code",
   "execution_count": 20,
   "metadata": {
    "collapsed": false
   },
   "outputs": [
    {
     "data": {
      "text/plain": [
       "   0\n",
       "                                                     Type: NonNegativeInteger\n"
      ]
     },
     "execution_count": 20,
     "metadata": {},
     "output_type": "execute_result"
    }
   ],
   "source": [
    "setRedMode(1)$ck"
   ]
  },
  {
   "cell_type": "code",
   "execution_count": 21,
   "metadata": {
    "collapsed": false
   },
   "outputs": [
    {
     "data": {
      "text/plain": [
       "\n",
       "   Symbol M  not involutive! Dimension: 4\n",
       "           2\n",
       "\n",
       "   Symbol M  involutive! Dimension: 4\n",
       "           3\n",
       "\n",
       "   Equation R  not involutive! Dimension: 12\n",
       "             3\n",
       "\n",
       "   ======= 1. Projection =======\n",
       "   Integrability condition(s)\n",
       "\n",
       "   u     = 0\n",
       "    y,x,x\n",
       "   =============================\n",
       "\n",
       "           (1)\n",
       "   Symbol M     not involutive! Dimension: 3\n",
       "           3\n",
       "\n",
       "           (1)\n",
       "   Symbol M     involutive! Dimension: 2\n",
       "           4\n",
       "\n",
       "             (1)\n",
       "   Equation R     not involutive! Dimension: 13\n",
       "             4\n",
       "\n",
       "   ======= 2. Projection =======\n",
       "   Integrability condition(s)\n",
       "\n",
       "   u       = 0\n",
       "    x,x,x,x\n",
       "   =============================\n",
       "\n",
       "           (2)\n",
       "   Symbol M     not involutive! Dimension: 1\n",
       "           4\n",
       "\n",
       "           (2)\n",
       "   Symbol M     involutive! Dimension: 0\n",
       "           5\n",
       "\n",
       "   *************** Final Result ***************\n",
       "\n",
       "             (2)\n",
       "   Equation R     involutive!\n",
       "             5\n",
       "   System without prolonged equations. Dimension: 12\n",
       "\n",
       "     u       = 0\n",
       "      x,x,x,x\n",
       "\n",
       "      u     = 0\n",
       "       y,x,x\n",
       "\n",
       "   u    + y u   = 0\n",
       "    z,z      x,x\n",
       "\n",
       "       u   = 0\n",
       "        y,y\n",
       "\n",
       "   System of finite type.\n",
       "                                                                   Type: Void\n"
      ]
     },
     "execution_count": 21,
     "metadata": {},
     "output_type": "execute_result"
    }
   ],
   "source": [
    "complete(janet)$ck"
   ]
  },
  {
   "cell_type": "markdown",
   "metadata": {},
   "source": [
    " The same as above, but using polynomials\n"
   ]
  },
  {
   "cell_type": "code",
   "execution_count": 22,
   "metadata": {
    "collapsed": false
   },
   "outputs": [
    {
     "name": "stdout",
     "output_type": "stream",
     "text": [
      "   All user variables and function definitions have been cleared.\n"
     ]
    },
    {
     "data": {
      "text/plain": []
     },
     "execution_count": 22,
     "metadata": {},
     "output_type": "execute_result"
    }
   ],
   "source": [
    ")clear all"
   ]
  },
  {
   "cell_type": "code",
   "execution_count": 23,
   "metadata": {
    "collapsed": false
   },
   "outputs": [
    {
     "data": {
      "text/plain": [
       "   JetBundle([x,y,z],[u])\n",
       "                                                                   Type: Type\n"
      ]
     },
     "execution_count": 23,
     "metadata": {},
     "output_type": "execute_result"
    }
   ],
   "source": [
    "jb := JBUNDLE(['x, 'y, 'z], ['u])"
   ]
  },
  {
   "cell_type": "code",
   "execution_count": 24,
   "metadata": {
    "collapsed": false
   },
   "outputs": [
    {
     "data": {
      "text/plain": [
       "   JetBundlePolynomial(Fraction(Integer),JetBundle([x,y,z],[u]))\n",
       "                                                                   Type: Type\n"
      ]
     },
     "execution_count": 24,
     "metadata": {},
     "output_type": "execute_result"
    }
   ],
   "source": [
    "jb1 := JBP(Fraction(Integer), jb)"
   ]
  },
  {
   "cell_type": "code",
   "execution_count": 25,
   "metadata": {
    "collapsed": false
   },
   "outputs": [
    {
     "data": {
      "text/plain": [
       "  JetDifferentialEquation(JetBundle([x,y,z],[u]),JetBundlePolynomial(Fraction(I\n",
       "  nteger),JetBundle([x,y,z],[u])))\n",
       "                                                                   Type: Type\n"
      ]
     },
     "execution_count": 25,
     "metadata": {},
     "output_type": "execute_result"
    }
   ],
   "source": [
    "de := JDE(jb, jb1)"
   ]
  },
  {
   "cell_type": "code",
   "execution_count": 26,
   "metadata": {
    "collapsed": false
   },
   "outputs": [
    {
     "data": {
      "text/plain": [
       "  CartanKuranishi(JetBundle([x,y,z],[u]),JetBundlePolynomial(Fraction(Integer),\n",
       "  JetBundle([x,y,z],[u])))\n",
       "                                                                   Type: Type\n"
      ]
     },
     "execution_count": 26,
     "metadata": {},
     "output_type": "execute_result"
    }
   ],
   "source": [
    "ck := CKP(jb, jb1)"
   ]
  },
  {
   "cell_type": "code",
   "execution_count": 27,
   "metadata": {
    "collapsed": false
   },
   "outputs": [
    {
     "data": {
      "text/plain": [
       "   u    + y u\n",
       "    z,z      x,x\n",
       "          Type: JetBundlePolynomial(Fraction(Integer),JetBundle([x,y,z],[u]))\n"
      ]
     },
     "execution_count": 27,
     "metadata": {},
     "output_type": "execute_result"
    }
   ],
   "source": [
    "eq1 := D('u, ['z, 'z])$jb::jb1 + 'y::jb::jb1*D('u, ['x, 'x])$jb::jb1"
   ]
  },
  {
   "cell_type": "code",
   "execution_count": 28,
   "metadata": {
    "collapsed": false
   },
   "outputs": [
    {
     "data": {
      "text/plain": [
       "   u\n",
       "    y,y\n",
       "          Type: JetBundlePolynomial(Fraction(Integer),JetBundle([x,y,z],[u]))\n"
      ]
     },
     "execution_count": 28,
     "metadata": {},
     "output_type": "execute_result"
    }
   ],
   "source": [
    "eq2 := D('u, ['y, 'y])$jb::jb1"
   ]
  },
  {
   "cell_type": "code",
   "execution_count": 29,
   "metadata": {
    "collapsed": false
   },
   "outputs": [
    {
     "data": {
      "text/plain": [
       "\n",
       "   u    + y u   = 0\n",
       "    z,z      x,x\n",
       "\n",
       "       u   = 0\n",
       "        y,y\n",
       "Type: JetDifferentialEquation(JetBundle([x,y,z],[u]),JetBundlePolynomial(Fraction(Integer),JetBundle([x,y,z],[u])))\n"
      ]
     },
     "execution_count": 29,
     "metadata": {},
     "output_type": "execute_result"
    }
   ],
   "source": [
    "janet : de := makeSystem [eq1, eq2]"
   ]
  },
  {
   "cell_type": "code",
   "execution_count": 30,
   "metadata": {
    "collapsed": false
   },
   "outputs": [
    {
     "data": {
      "text/plain": [
       "   0\n",
       "                                                     Type: NonNegativeInteger\n"
      ]
     },
     "execution_count": 30,
     "metadata": {},
     "output_type": "execute_result"
    }
   ],
   "source": [
    "setOutMode(4)$ck"
   ]
  },
  {
   "cell_type": "code",
   "execution_count": 31,
   "metadata": {
    "collapsed": false
   },
   "outputs": [
    {
     "data": {
      "text/plain": [
       "   0\n",
       "                                                     Type: NonNegativeInteger\n"
      ]
     },
     "execution_count": 31,
     "metadata": {},
     "output_type": "execute_result"
    }
   ],
   "source": [
    "setRedMode(1)$ck"
   ]
  },
  {
   "cell_type": "code",
   "execution_count": 32,
   "metadata": {
    "collapsed": false
   },
   "outputs": [
    {
     "data": {
      "text/plain": [
       "\n",
       "   Symbol M  not involutive! Dimension: 4\n",
       "           2\n",
       "\n",
       "   Symbol M  involutive! Dimension: 4\n",
       "           3\n",
       "\n",
       "   Equation R  not involutive! Dimension: 12\n",
       "             3\n",
       "\n",
       "   ======= 1. Projection =======\n",
       "   Integrability condition(s)\n",
       "\n",
       "   2u     = 0\n",
       "     y,x,x\n",
       "   =============================\n",
       "\n",
       "           (1)\n",
       "   Symbol M     not involutive! Dimension: 3\n",
       "           3\n",
       "\n",
       "           (1)\n",
       "   Symbol M     involutive! Dimension: 2\n",
       "           4\n",
       "\n",
       "             (1)\n",
       "   Equation R     not involutive! Dimension: 13\n",
       "             4\n",
       "\n",
       "   ======= 2. Projection =======\n",
       "   Integrability condition(s)\n",
       "\n",
       "   2u       = 0\n",
       "     x,x,x,x\n",
       "   =============================\n",
       "\n",
       "           (2)\n",
       "   Symbol M     not involutive! Dimension: 1\n",
       "           4\n",
       "\n",
       "           (2)\n",
       "   Symbol M     involutive! Dimension: 0\n",
       "           5\n",
       "\n",
       "   *************** Final Result ***************\n",
       "\n",
       "             (2)\n",
       "   Equation R     involutive!\n",
       "             5\n",
       "   System without prolonged equations. Dimension: 12\n",
       "\n",
       "     u       = 0\n",
       "      x,x,x,x\n",
       "\n",
       "      u     = 0\n",
       "       y,x,x\n",
       "\n",
       "   u    - y u   = 0\n",
       "    z,z      x,x\n",
       "\n",
       "       u   = 0\n",
       "        y,y\n",
       "\n",
       "   System of finite type.\n",
       "                                                                   Type: Void\n"
      ]
     },
     "execution_count": 32,
     "metadata": {},
     "output_type": "execute_result"
    }
   ],
   "source": [
    "complete(janet)$ck"
   ]
  },
  {
   "cell_type": "markdown",
   "metadata": {},
   "source": [
    " Euler system\n"
   ]
  },
  {
   "cell_type": "code",
   "execution_count": 33,
   "metadata": {
    "collapsed": false
   },
   "outputs": [
    {
     "name": "stdout",
     "output_type": "stream",
     "text": [
      "   All user variables and function definitions have been cleared.\n"
     ]
    },
    {
     "data": {
      "text/plain": []
     },
     "execution_count": 33,
     "metadata": {},
     "output_type": "execute_result"
    }
   ],
   "source": [
    ")clear all"
   ]
  },
  {
   "cell_type": "code",
   "execution_count": 34,
   "metadata": {
    "collapsed": false
   },
   "outputs": [
    {
     "data": {
      "text/plain": [
       "   IndexedJetBundle(x,u,p,4,3)\n",
       "                                                                   Type: Type\n"
      ]
     },
     "execution_count": 34,
     "metadata": {},
     "output_type": "execute_result"
    }
   ],
   "source": [
    "jb := IJB('x, 'u, 'p, 4, 3)"
   ]
  },
  {
   "cell_type": "code",
   "execution_count": 35,
   "metadata": {
    "collapsed": false
   },
   "outputs": [
    {
     "data": {
      "text/plain": [
       "   JetBundleExpression(IndexedJetBundle(x,u,p,4,3))\n",
       "                                                                   Type: Type\n"
      ]
     },
     "execution_count": 35,
     "metadata": {},
     "output_type": "execute_result"
    }
   ],
   "source": [
    "jbe := JBE jb"
   ]
  },
  {
   "cell_type": "code",
   "execution_count": 36,
   "metadata": {
    "collapsed": false
   },
   "outputs": [
    {
     "data": {
      "text/plain": [
       "  JetDifferentialEquation(IndexedJetBundle(x,u,p,4,3),JetBundleExpression(Index\n",
       "  edJetBundle(x,u,p,4,3)))\n",
       "                                                                   Type: Type\n"
      ]
     },
     "execution_count": 36,
     "metadata": {},
     "output_type": "execute_result"
    }
   ],
   "source": [
    "de := JDE(jb, jbe)"
   ]
  },
  {
   "cell_type": "code",
   "execution_count": 37,
   "metadata": {
    "collapsed": false
   },
   "outputs": [
    {
     "data": {
      "text/plain": [
       "  CartanKuranishi(IndexedJetBundle(x,u,p,4,3),JetBundleExpression(IndexedJetBun\n",
       "  dle(x,u,p,4,3)))\n",
       "                                                                   Type: Type\n"
      ]
     },
     "execution_count": 37,
     "metadata": {},
     "output_type": "execute_result"
    }
   ],
   "source": [
    "ck := CKP(jb, jbe)"
   ]
  },
  {
   "cell_type": "code",
   "execution_count": 38,
   "metadata": {
    "collapsed": false
   },
   "outputs": [
    {
     "data": {
      "text/plain": [
       "    1    3 1    2 1    1 1\n",
       "   p  + u p  + u p  + u p\n",
       "    4      3      2      1\n",
       "                       Type: JetBundleExpression(IndexedJetBundle(x,u,p,4,3))\n"
      ]
     },
     "execution_count": 38,
     "metadata": {},
     "output_type": "execute_result"
    }
   ],
   "source": [
    "eq1 : jbe := P(1, [4]) + U(1)*P(1, [1]) + U(2)*P(1, [2]) + U(3)*P(1, [3])"
   ]
  },
  {
   "cell_type": "code",
   "execution_count": 39,
   "metadata": {
    "collapsed": false
   },
   "outputs": [
    {
     "data": {
      "text/plain": [
       "    2    3 2    2 2    1 2\n",
       "   p  + u p  + u p  + u p\n",
       "    4      3      2      1\n",
       "                       Type: JetBundleExpression(IndexedJetBundle(x,u,p,4,3))\n"
      ]
     },
     "execution_count": 39,
     "metadata": {},
     "output_type": "execute_result"
    }
   ],
   "source": [
    "eq2 : jbe := P(2, [4]) + U(1)*P(2, [1]) + U(2)*P(2, [2]) + U(3)*P(2, [3])"
   ]
  },
  {
   "cell_type": "code",
   "execution_count": 40,
   "metadata": {
    "collapsed": false
   },
   "outputs": [
    {
     "data": {
      "text/plain": [
       "    3    3 3    2 3    1 3\n",
       "   p  + u p  + u p  + u p\n",
       "    4      3      2      1\n",
       "                       Type: JetBundleExpression(IndexedJetBundle(x,u,p,4,3))\n"
      ]
     },
     "execution_count": 40,
     "metadata": {},
     "output_type": "execute_result"
    }
   ],
   "source": [
    "eq3 : jbe := P(3, [4]) + U(1)*P(3, [1]) + U(2)*P(3, [2]) + U(3)*P(3, [3])"
   ]
  },
  {
   "cell_type": "code",
   "execution_count": 41,
   "metadata": {
    "collapsed": false
   },
   "outputs": [
    {
     "data": {
      "text/plain": [
       "    3    2    1\n",
       "   p  + p  + p\n",
       "    3    2    1\n",
       "                       Type: JetBundleExpression(IndexedJetBundle(x,u,p,4,3))\n"
      ]
     },
     "execution_count": 41,
     "metadata": {},
     "output_type": "execute_result"
    }
   ],
   "source": [
    "eq4 : jbe := P(1, [1]) + P(2, [2]) + P(3, [3])"
   ]
  },
  {
   "cell_type": "code",
   "execution_count": 42,
   "metadata": {
    "collapsed": false
   },
   "outputs": [
    {
     "data": {
      "text/plain": [
       "\n",
       "    1    3 1    2 1    1 1\n",
       "   p  + u p  + u p  + u p = 0\n",
       "    4      3      2      1\n",
       "\n",
       "    2    3 2    2 2    1 2\n",
       "   p  + u p  + u p  + u p = 0\n",
       "    4      3      2      1\n",
       "\n",
       "    3    3 3    2 3    1 3\n",
       "   p  + u p  + u p  + u p = 0\n",
       "    4      3      2      1\n",
       "\n",
       "         3    2    1\n",
       "        p  + p  + p = 0\n",
       "         3    2    1\n",
       "Type: JetDifferentialEquation(IndexedJetBundle(x,u,p,4,3),JetBundleExpression(IndexedJetBundle(x,u,p,4,3)))\n"
      ]
     },
     "execution_count": 42,
     "metadata": {},
     "output_type": "execute_result"
    }
   ],
   "source": [
    "euler : de := makeSystem [eq1, eq2, eq3, eq4]"
   ]
  },
  {
   "cell_type": "code",
   "execution_count": 43,
   "metadata": {
    "collapsed": false
   },
   "outputs": [
    {
     "data": {
      "text/plain": [
       "   0\n",
       "                                                     Type: NonNegativeInteger\n"
      ]
     },
     "execution_count": 43,
     "metadata": {},
     "output_type": "execute_result"
    }
   ],
   "source": [
    "setOutMode(4)$ck"
   ]
  },
  {
   "cell_type": "markdown",
   "metadata": {},
   "source": [
    " setSimpMode(1)$ck\n"
   ]
  },
  {
   "cell_type": "code",
   "execution_count": 44,
   "metadata": {
    "collapsed": false
   },
   "outputs": [
    {
     "data": {
      "text/plain": [
       "   0\n",
       "                                                     Type: NonNegativeInteger\n"
      ]
     },
     "execution_count": 44,
     "metadata": {},
     "output_type": "execute_result"
    }
   ],
   "source": [
    "setRedMode(1)$ck"
   ]
  },
  {
   "cell_type": "code",
   "execution_count": 45,
   "metadata": {
    "collapsed": false
   },
   "outputs": [
    {
     "data": {
      "text/plain": [
       "\n",
       "   Symbol M  involutive! Dimension: 8\n",
       "           1\n",
       "\n",
       "   Equation R  not involutive! Dimension: 11\n",
       "             1\n",
       "\n",
       "   ======= 1. Projection =======\n",
       "   Integrability condition(s)\n",
       "\n",
       "     3 2     3 1     22     1 2     2 1     12\n",
       "   2p p  + 2p p  + 2p   + 2p p  + 2p p  + 2p  = 0\n",
       "     2 3     1 3     2      1 2     1 2     1\n",
       "   =============================\n",
       "\n",
       "           (1)\n",
       "   Symbol M     involutive! Dimension: 7\n",
       "           1\n",
       "\n",
       "   *************** Final Result ***************\n",
       "\n",
       "             (1)\n",
       "   Equation R     involutive!\n",
       "             1\n",
       "   System without prolonged equations. Dimension: 14\n",
       "\n",
       "                     3    2 3    3 2    1 3    3 1\n",
       "                    p  + u p  - u p  + u p  - u p = 0\n",
       "                     4      2      2      1      1\n",
       "\n",
       "    3 2    3 3 1     2 2    1 2  3    3 22    3 1 2    3 2 1    3 12\n",
       "   p p  - u p p  + (u p  + u p )p  - u p   - u p p  - u p p  - u p  = 0\n",
       "    2 4      1 3       2      1  2      2       1 2      1 2      1\n",
       "\n",
       "                         1    3 1    2 1    1 1\n",
       "                        p  + u p  + u p  + u p = 0\n",
       "                         4      3      2      1\n",
       "\n",
       "                              3    2    1\n",
       "                             p  + p  + p = 0\n",
       "                              3    2    1\n",
       "\n",
       "                  3 2    3 1    22    1 2    2 1    12\n",
       "                 p p  + p p  + p   + p p  + p p  + p  = 0\n",
       "                  2 3    1 3    2     1 2    1 2    1\n",
       "\n",
       "   Cartan characters: 3,3,1,0\n",
       "                                                                   Type: Void\n"
      ]
     },
     "execution_count": 45,
     "metadata": {},
     "output_type": "execute_result"
    }
   ],
   "source": [
    "complete(euler)$ck"
   ]
  },
  {
   "cell_type": "markdown",
   "metadata": {},
   "source": [
    " Modified Janet system\n"
   ]
  },
  {
   "cell_type": "code",
   "execution_count": 46,
   "metadata": {
    "collapsed": false
   },
   "outputs": [
    {
     "name": "stdout",
     "output_type": "stream",
     "text": [
      "   All user variables and function definitions have been cleared.\n"
     ]
    },
    {
     "data": {
      "text/plain": []
     },
     "execution_count": 46,
     "metadata": {},
     "output_type": "execute_result"
    }
   ],
   "source": [
    ")clear all"
   ]
  },
  {
   "cell_type": "code",
   "execution_count": 47,
   "metadata": {
    "collapsed": false
   },
   "outputs": [
    {
     "data": {
      "text/plain": [
       "   JetBundle([x,y,z],[u,v])\n",
       "                                                                   Type: Type\n"
      ]
     },
     "execution_count": 47,
     "metadata": {},
     "output_type": "execute_result"
    }
   ],
   "source": [
    "jb := JBUNDLE(['x, 'y, 'z], ['u, 'v])"
   ]
  },
  {
   "cell_type": "code",
   "execution_count": 48,
   "metadata": {
    "collapsed": false
   },
   "outputs": [
    {
     "data": {
      "text/plain": [
       "   JetBundleExpression(JetBundle([x,y,z],[u,v]))\n",
       "                                                                   Type: Type\n"
      ]
     },
     "execution_count": 48,
     "metadata": {},
     "output_type": "execute_result"
    }
   ],
   "source": [
    "jb1 := JBE(jb)"
   ]
  },
  {
   "cell_type": "code",
   "execution_count": 49,
   "metadata": {
    "collapsed": false
   },
   "outputs": [
    {
     "data": {
      "text/plain": [
       "  JetDifferentialEquation(JetBundle([x,y,z],[u,v]),JetBundleExpression(JetBundl\n",
       "  e([x,y,z],[u,v])))\n",
       "                                                                   Type: Type\n"
      ]
     },
     "execution_count": 49,
     "metadata": {},
     "output_type": "execute_result"
    }
   ],
   "source": [
    "de := JDE(jb, jb1)"
   ]
  },
  {
   "cell_type": "code",
   "execution_count": 50,
   "metadata": {
    "collapsed": false
   },
   "outputs": [
    {
     "data": {
      "text/plain": [
       "  CartanKuranishi(JetBundle([x,y,z],[u,v]),JetBundleExpression(JetBundle([x,y,z\n",
       "  ],[u,v])))\n",
       "                                                                   Type: Type\n"
      ]
     },
     "execution_count": 50,
     "metadata": {},
     "output_type": "execute_result"
    }
   ],
   "source": [
    "ck := CKP(jb, jb1)"
   ]
  },
  {
   "cell_type": "code",
   "execution_count": 51,
   "metadata": {
    "collapsed": false
   },
   "outputs": [
    {
     "data": {
      "text/plain": [
       "   u    + v u\n",
       "    z,z      x,x\n",
       "                          Type: JetBundleExpression(JetBundle([x,y,z],[u,v]))\n"
      ]
     },
     "execution_count": 51,
     "metadata": {},
     "output_type": "execute_result"
    }
   ],
   "source": [
    "eq1 := D('u, ['z, 'z])$jb::jb1 + 'v::jb::jb1*D('u, ['x, 'x])$jb::jb1"
   ]
  },
  {
   "cell_type": "code",
   "execution_count": 52,
   "metadata": {
    "collapsed": false
   },
   "outputs": [
    {
     "data": {
      "text/plain": [
       "   u\n",
       "    y,y\n",
       "                          Type: JetBundleExpression(JetBundle([x,y,z],[u,v]))\n"
      ]
     },
     "execution_count": 52,
     "metadata": {},
     "output_type": "execute_result"
    }
   ],
   "source": [
    "eq2 := D('u, ['y, 'y])$jb::jb1"
   ]
  },
  {
   "cell_type": "code",
   "execution_count": 53,
   "metadata": {
    "collapsed": false
   },
   "outputs": [
    {
     "data": {
      "text/plain": [
       "   v\n",
       "    z\n",
       "                          Type: JetBundleExpression(JetBundle([x,y,z],[u,v]))\n"
      ]
     },
     "execution_count": 53,
     "metadata": {},
     "output_type": "execute_result"
    }
   ],
   "source": [
    "eq3 := D('v, ['z])$jb::jb1"
   ]
  },
  {
   "cell_type": "code",
   "execution_count": 54,
   "metadata": {
    "collapsed": false
   },
   "outputs": [
    {
     "data": {
      "text/plain": [
       "   v  - v\n",
       "    y    x\n",
       "                          Type: JetBundleExpression(JetBundle([x,y,z],[u,v]))\n"
      ]
     },
     "execution_count": 54,
     "metadata": {},
     "output_type": "execute_result"
    }
   ],
   "source": [
    "eq4 := D('v, ['y])$jb::jb1 - D('v, ['x])$jb::jb1"
   ]
  },
  {
   "cell_type": "code",
   "execution_count": 55,
   "metadata": {
    "collapsed": false
   },
   "outputs": [
    {
     "data": {
      "text/plain": [
       "\n",
       "   u    + v u   = 0\n",
       "    z,z      x,x\n",
       "\n",
       "       u   = 0\n",
       "        y,y\n",
       "\n",
       "        v = 0\n",
       "         z\n",
       "\n",
       "      v  - v = 0\n",
       "       y    x\n",
       "Type: JetDifferentialEquation(JetBundle([x,y,z],[u,v]),JetBundleExpression(JetBundle([x,y,z],[u,v])))\n"
      ]
     },
     "execution_count": 55,
     "metadata": {},
     "output_type": "execute_result"
    }
   ],
   "source": [
    "janet2 : de := makeSystem [eq1, eq2, eq3, eq4]"
   ]
  },
  {
   "cell_type": "markdown",
   "metadata": {},
   "source": [
    " setRedMode(1)$ck\n"
   ]
  },
  {
   "cell_type": "code",
   "execution_count": 56,
   "metadata": {
    "collapsed": false
   },
   "outputs": [
    {
     "data": {
      "text/plain": [
       "   0\n",
       "                                                     Type: NonNegativeInteger\n"
      ]
     },
     "execution_count": 56,
     "metadata": {},
     "output_type": "execute_result"
    }
   ],
   "source": [
    "setOutMode(4)$ck"
   ]
  },
  {
   "cell_type": "code",
   "execution_count": 57,
   "metadata": {
    "collapsed": false
   },
   "outputs": [
    {
     "data": {
      "text/plain": [
       "   0\n",
       "                                                     Type: NonNegativeInteger\n"
      ]
     },
     "execution_count": 57,
     "metadata": {},
     "output_type": "execute_result"
    }
   ],
   "source": [
    "setSimpMode(1)$ck"
   ]
  },
  {
   "cell_type": "code",
   "execution_count": 58,
   "metadata": {
    "collapsed": false
   },
   "outputs": [
    {
     "name": "stdout",
     "output_type": "stream",
     "text": [
      "                                                                                                                                                                                                                                                                                                                          "
     ]
    },
    {
     "data": {
      "text/plain": [
       "\n",
       "   Symbol M  not involutive! Dimension: 10\n",
       "           2\n",
       "\n",
       "   Symbol M  involutive! Dimension: 14\n",
       "           3\n",
       "\n",
       "   Equation R  not involutive! Dimension: 25\n",
       "             3\n",
       "\n",
       "   ======= 1. Projection =======\n",
       "   Integrability condition(s)\n",
       "\n",
       "       v    - v   = 0\n",
       "        y,x    x,x\n",
       "\n",
       "       v    - v   = 0\n",
       "        y,y    y,x\n",
       "\n",
       "       v    - v   = 0\n",
       "        z,y    z,x\n",
       "\n",
       "           v   = 0\n",
       "            z,x\n",
       "\n",
       "           v   = 0\n",
       "            z,y\n",
       "\n",
       "           v   = 0\n",
       "            z,z\n",
       "\n",
       "     v      - v     = 0\n",
       "      y,x,x    x,x,x\n",
       "\n",
       "     v      - v     = 0\n",
       "      y,y,x    y,x,x\n",
       "\n",
       "     v      - v     = 0\n",
       "      z,y,x    z,x,x\n",
       "\n",
       "          v     = 0\n",
       "           z,x,x\n",
       "\n",
       "          v     = 0\n",
       "           z,y,x\n",
       "\n",
       "          v     = 0\n",
       "           z,z,x\n",
       "\n",
       "     v      - v     = 0\n",
       "      y,y,y    y,y,x\n",
       "\n",
       "     v      - v     = 0\n",
       "      z,y,y    z,y,x\n",
       "\n",
       "          v     = 0\n",
       "           z,y,y\n",
       "\n",
       "          v     = 0\n",
       "           z,z,y\n",
       "\n",
       "          v     = 0\n",
       "           z,z,z\n",
       "\n",
       "   2v u      + u   v   = 0\n",
       "     x y,x,x    x,x x,x\n",
       "   =============================\n",
       "\n",
       "           (1)\n",
       "   Symbol M     not involutive! Dimension: 4\n",
       "           3\n",
       "\n",
       "           (1)\n",
       "   Symbol M     involutive! Dimension: 3\n",
       "           4\n",
       "\n",
       "             (1)\n",
       "   Equation R     not involutive! Dimension: 17\n",
       "             4\n",
       "\n",
       "   ======= 2. Projection =======\n",
       "   Integrability condition(s)\n",
       "   VCONCAT\n",
       "\n",
       "  ,\n",
       "      v       = 0\n",
       "       z,z,z,z\n",
       "  ,\n",
       "\n",
       "  ,\n",
       "      v       = 0\n",
       "       z,z,z,y\n",
       "  ,\n",
       "\n",
       "  ,\n",
       "      v       = 0\n",
       "       z,z,y,y\n",
       "  ,\n",
       "\n",
       "  ,\n",
       "      v       = 0\n",
       "       z,y,y,y\n",
       "  ,\n",
       "\n",
       "  ,\n",
       "      v        - v       = 0\n",
       "       z,y,y,y    z,y,y,x\n",
       "  ,\n",
       "\n",
       "  ,\n",
       "      v        - v       = 0\n",
       "       y,y,y,y    y,y,y,x\n",
       "  ,\n",
       "\n",
       "  ,\n",
       "      v       = 0\n",
       "       z,z,z,x\n",
       "  ,\n",
       "\n",
       "  ,\n",
       "      v       = 0\n",
       "       z,z,y,x\n",
       "  ,\n",
       "\n",
       "  ,\n",
       "      v       = 0\n",
       "       z,y,y,x\n",
       "  ,\n",
       "\n",
       "  ,\n",
       "      v        - v       = 0\n",
       "       z,y,y,x    z,y,x,x\n",
       "  ,\n",
       "\n",
       "  ,\n",
       "      v        - v       = 0\n",
       "       y,y,y,x    y,y,x,x\n",
       "  ,\n",
       "\n",
       "  ,\n",
       "      v       = 0\n",
       "       z,z,x,x\n",
       "  ,\n",
       "\n",
       "  ,\n",
       "      v       = 0\n",
       "       z,y,x,x\n",
       "  ,\n",
       "\n",
       "  ,\n",
       "      v       = 0\n",
       "       z,x,x,x\n",
       "  ,\n",
       "\n",
       "  ,\n",
       "      v        - v       = 0\n",
       "       z,y,x,x    z,x,x,x\n",
       "  ,\n",
       "\n",
       "  ,\n",
       "      v        - v       = 0\n",
       "       y,y,x,x    y,x,x,x\n",
       "  ,\n",
       "\n",
       "  ,\n",
       "      v        - v       = 0\n",
       "       y,x,x,x    x,x,x,x\n",
       "  ,\n",
       "\n",
       "  ,\n",
       "      2v u        + u   v      + v   u      + 2v   u     = 0\n",
       "        x z,y,x,x    x,x z,x,x    x,x z,x,x     z,x y,x,x\n",
       "  ,\n",
       "\n",
       "  ,\n",
       "      2v u        + u   v      + (2v    + v   )u     = 0\n",
       "        x y,y,x,x    x,x y,x,x      y,x    x,x  y,x,x\n",
       "  ,\n",
       "\n",
       "  ,\n",
       "      2v u        + 2v   u      + u   v      + v   u     = 0\n",
       "        x y,x,x,x     x,x y,x,x    x,x x,x,x    x,x x,x,x\n",
       "  ,\n",
       "\n",
       "  ,\n",
       "                               2\n",
       "      2v u   v      - 3u   v    = 0\n",
       "        x x,x x,x,x     x,x x,x\n",
       "  ,\n",
       "\n",
       "  ,\n",
       "                                                             2\n",
       "      2v u   v        + (2v u      - 4u   v   )v      - 3v    u     = 0\n",
       "        x x,x x,x,x,x      x x,x,x     x,x x,x  x,x,x     x,x  x,x,x\n",
       "  ,\n",
       "\n",
       "  ,\n",
       "                                                              2\n",
       "        2v u   v        - 6u   v   v      + (2v v      - 3v    )u\n",
       "          x x,x y,x,x,x     x,x x,x y,x,x      x x,x,x     x,x   y,x,x\n",
       "      + \n",
       "        2u   v   v\n",
       "          x,x y,x x,x,x\n",
       "        =\n",
       "        0\n",
       "  ,\n",
       "\n",
       "  ,\n",
       "                                                              2\n",
       "        2v u   v        - 6u   v   v      + (2v v      - 3v    )u\n",
       "          x x,x z,x,x,x     x,x x,x z,x,x      x x,x,x     x,x   z,x,x\n",
       "      + \n",
       "        2u   v   v\n",
       "          x,x z,x x,x,x\n",
       "        =\n",
       "        0\n",
       "  ,\n",
       "\n",
       "  ,\n",
       "           4                       2      3                        3\n",
       "        4v  u        + (- 2v v v     + 8v  v   )u      - v u   v\n",
       "          x  x,x,x,x          x x,x      x  x,x  x,x,x      x,x x,x\n",
       "      + \n",
       "           2        2\n",
       "        4v  u   v\n",
       "          x  x,x x,x\n",
       "        =\n",
       "        0\n",
       "   =============================\n",
       "\n",
       "           (2)\n",
       "   Symbol M     not involutive! Dimension: 1\n",
       "           4\n",
       "\n",
       "           (2)\n",
       "   Symbol M     involutive! Dimension: 0\n",
       "           5\n",
       "\n",
       "   *************** Final Result ***************\n",
       "\n",
       "             (2)\n",
       "   Equation R     involutive!\n",
       "             5\n",
       "   System without prolonged equations. Dimension: 15\n",
       "   VCONCAT\n",
       "\n",
       "  ,\n",
       "      u    + v u   = 0\n",
       "       z,z      x,x\n",
       "  ,\n",
       "\n",
       "  ,\n",
       "      u   = 0\n",
       "       y,y\n",
       "  ,\n",
       "\n",
       "  ,\n",
       "      v = 0\n",
       "       z\n",
       "  ,\n",
       "\n",
       "  ,\n",
       "      v  - v = 0\n",
       "       y    x\n",
       "  ,\n",
       "\n",
       "  ,\n",
       "      v    - v   = 0\n",
       "       y,x    x,x\n",
       "  ,\n",
       "\n",
       "  ,\n",
       "      v    - v   = 0\n",
       "       y,y    y,x\n",
       "  ,\n",
       "\n",
       "  ,\n",
       "      v    - v   = 0\n",
       "       z,y    z,x\n",
       "  ,\n",
       "\n",
       "  ,\n",
       "      v   = 0\n",
       "       z,x\n",
       "  ,\n",
       "\n",
       "  ,\n",
       "      v   = 0\n",
       "       z,y\n",
       "  ,\n",
       "\n",
       "  ,\n",
       "      v   = 0\n",
       "       z,z\n",
       "  ,\n",
       "\n",
       "  ,\n",
       "      v      - v     = 0\n",
       "       y,x,x    x,x,x\n",
       "  ,\n",
       "\n",
       "  ,\n",
       "      v      - v     = 0\n",
       "       y,y,x    y,x,x\n",
       "  ,\n",
       "\n",
       "  ,\n",
       "      v      - v     = 0\n",
       "       z,y,x    z,x,x\n",
       "  ,\n",
       "\n",
       "  ,\n",
       "      v     = 0\n",
       "       z,x,x\n",
       "  ,\n",
       "\n",
       "  ,\n",
       "      v     = 0\n",
       "       z,y,x\n",
       "  ,\n",
       "\n",
       "  ,\n",
       "      v     = 0\n",
       "       z,z,x\n",
       "  ,\n",
       "\n",
       "  ,\n",
       "      v      - v     = 0\n",
       "       y,y,y    y,y,x\n",
       "  ,\n",
       "\n",
       "  ,\n",
       "      v      - v     = 0\n",
       "       z,y,y    z,y,x\n",
       "  ,\n",
       "\n",
       "  ,\n",
       "      v     = 0\n",
       "       z,y,y\n",
       "  ,\n",
       "\n",
       "  ,\n",
       "      v     = 0\n",
       "       z,z,y\n",
       "  ,\n",
       "\n",
       "  ,\n",
       "      v     = 0\n",
       "       z,z,z\n",
       "  ,\n",
       "\n",
       "  ,\n",
       "      2v u      + u   v   = 0\n",
       "        x y,x,x    x,x x,x\n",
       "  ,\n",
       "\n",
       "  ,\n",
       "      v       = 0\n",
       "       z,z,z,z\n",
       "  ,\n",
       "\n",
       "  ,\n",
       "      v       = 0\n",
       "       z,z,z,y\n",
       "  ,\n",
       "\n",
       "  ,\n",
       "      v       = 0\n",
       "       z,z,y,y\n",
       "  ,\n",
       "\n",
       "  ,\n",
       "      v       = 0\n",
       "       z,y,y,y\n",
       "  ,\n",
       "\n",
       "  ,\n",
       "      v        - v       = 0\n",
       "       z,y,y,y    z,y,y,x\n",
       "  ,\n",
       "\n",
       "  ,\n",
       "      v        - v       = 0\n",
       "       y,y,y,y    y,y,y,x\n",
       "  ,\n",
       "\n",
       "  ,\n",
       "      v       = 0\n",
       "       z,z,z,x\n",
       "  ,\n",
       "\n",
       "  ,\n",
       "      v       = 0\n",
       "       z,z,y,x\n",
       "  ,\n",
       "\n",
       "  ,\n",
       "      v       = 0\n",
       "       z,y,y,x\n",
       "  ,\n",
       "\n",
       "  ,\n",
       "      v        - v       = 0\n",
       "       z,y,y,x    z,y,x,x\n",
       "  ,\n",
       "\n",
       "  ,\n",
       "      v        - v       = 0\n",
       "       y,y,y,x    y,y,x,x\n",
       "  ,\n",
       "\n",
       "  ,\n",
       "      v       = 0\n",
       "       z,z,x,x\n",
       "  ,\n",
       "\n",
       "  ,\n",
       "      v       = 0\n",
       "       z,y,x,x\n",
       "  ,\n",
       "\n",
       "  ,\n",
       "      v       = 0\n",
       "       z,x,x,x\n",
       "  ,\n",
       "\n",
       "  ,\n",
       "      v        - v       = 0\n",
       "       z,y,x,x    z,x,x,x\n",
       "  ,\n",
       "\n",
       "  ,\n",
       "      v        - v       = 0\n",
       "       y,y,x,x    y,x,x,x\n",
       "  ,\n",
       "\n",
       "  ,\n",
       "      v        - v       = 0\n",
       "       y,x,x,x    x,x,x,x\n",
       "  ,\n",
       "\n",
       "  ,\n",
       "      2v u        + u   v      + v   u      + 2v   u     = 0\n",
       "        x z,y,x,x    x,x z,x,x    x,x z,x,x     z,x y,x,x\n",
       "  ,\n",
       "\n",
       "  ,\n",
       "      2v u        + u   v      + (2v    + v   )u     = 0\n",
       "        x y,y,x,x    x,x y,x,x      y,x    x,x  y,x,x\n",
       "  ,\n",
       "\n",
       "  ,\n",
       "      2v u        + 2v   u      + u   v      + v   u     = 0\n",
       "        x y,x,x,x     x,x y,x,x    x,x x,x,x    x,x x,x,x\n",
       "  ,\n",
       "\n",
       "  ,\n",
       "                               2\n",
       "      2v u   v      - 3u   v    = 0\n",
       "        x x,x x,x,x     x,x x,x\n",
       "  ,\n",
       "\n",
       "  ,\n",
       "                                                             2\n",
       "      2v u   v        + (2v u      - 4u   v   )v      - 3v    u     = 0\n",
       "        x x,x x,x,x,x      x x,x,x     x,x x,x  x,x,x     x,x  x,x,x\n",
       "  ,\n",
       "\n",
       "  ,\n",
       "                                                              2\n",
       "        2v u   v        - 6u   v   v      + (2v v      - 3v    )u\n",
       "          x x,x y,x,x,x     x,x x,x y,x,x      x x,x,x     x,x   y,x,x\n",
       "      + \n",
       "        2u   v   v\n",
       "          x,x y,x x,x,x\n",
       "        =\n",
       "        0\n",
       "  ,\n",
       "\n",
       "  ,\n",
       "                                                              2\n",
       "        2v u   v        - 6u   v   v      + (2v v      - 3v    )u\n",
       "          x x,x z,x,x,x     x,x x,x z,x,x      x x,x,x     x,x   z,x,x\n",
       "      + \n",
       "        2u   v   v\n",
       "          x,x z,x x,x,x\n",
       "        =\n",
       "        0\n",
       "  ,\n",
       "\n",
       "  ,\n",
       "           4                       2      3                        3\n",
       "        4v  u        + (- 2v v v     + 8v  v   )u      - v u   v\n",
       "          x  x,x,x,x          x x,x      x  x,x  x,x,x      x,x x,x\n",
       "      + \n",
       "           2        2\n",
       "        4v  u   v\n",
       "          x  x,x x,x\n",
       "        =\n",
       "        0\n",
       "\n",
       "   System of finite type.\n",
       "                                                                   Type: Void\n"
      ]
     },
     "execution_count": 58,
     "metadata": {},
     "output_type": "execute_result"
    }
   ],
   "source": [
    "complete(janet2)$ck"
   ]
  },
  {
   "cell_type": "markdown",
   "metadata": {},
   "source": [
    " transforming Burgers equation into heat equation\n"
   ]
  },
  {
   "cell_type": "code",
   "execution_count": 59,
   "metadata": {
    "collapsed": false
   },
   "outputs": [
    {
     "name": "stdout",
     "output_type": "stream",
     "text": [
      "   All user variables and function definitions have been cleared.\n"
     ]
    },
    {
     "data": {
      "text/plain": []
     },
     "execution_count": 59,
     "metadata": {},
     "output_type": "execute_result"
    }
   ],
   "source": [
    ")clear all"
   ]
  },
  {
   "cell_type": "code",
   "execution_count": 60,
   "metadata": {
    "collapsed": false
   },
   "outputs": [
    {
     "data": {
      "text/plain": [
       "   JetBundle([x,t],[u])\n",
       "                                                                   Type: Type\n"
      ]
     },
     "execution_count": 60,
     "metadata": {},
     "output_type": "execute_result"
    }
   ],
   "source": [
    "jb1 := JBUNDLE(['x, 't], ['u])"
   ]
  },
  {
   "cell_type": "code",
   "execution_count": 61,
   "metadata": {
    "collapsed": false
   },
   "outputs": [
    {
     "data": {
      "text/plain": [
       "   JetBundleExpression(JetBundle([x,t],[u]))\n",
       "                                                                   Type: Type\n"
      ]
     },
     "execution_count": 61,
     "metadata": {},
     "output_type": "execute_result"
    }
   ],
   "source": [
    "jbe1 := JBE(jb1)"
   ]
  },
  {
   "cell_type": "code",
   "execution_count": 62,
   "metadata": {
    "collapsed": false
   },
   "outputs": [
    {
     "data": {
      "text/plain": [
       "   JetBundle([y,s],[v])\n",
       "                                                                   Type: Type\n"
      ]
     },
     "execution_count": 62,
     "metadata": {},
     "output_type": "execute_result"
    }
   ],
   "source": [
    "jb2 := JBUNDLE(['y, 's], ['v])"
   ]
  },
  {
   "cell_type": "code",
   "execution_count": 63,
   "metadata": {
    "collapsed": false
   },
   "outputs": [
    {
     "data": {
      "text/plain": [
       "   JetBundleExpression(JetBundle([y,s],[v]))\n",
       "                                                                   Type: Type\n"
      ]
     },
     "execution_count": 63,
     "metadata": {},
     "output_type": "execute_result"
    }
   ],
   "source": [
    "jbe2 := JBE(jb2)"
   ]
  },
  {
   "cell_type": "code",
   "execution_count": 64,
   "metadata": {
    "collapsed": false
   },
   "outputs": [
    {
     "data": {
      "text/plain": [
       "  JetCoordinateTransformation(JetBundle([x,t],[u]),JetBundle([y,s],[v]),[y,s],[\n",
       "  log(v)])\n",
       "                                                                   Type: Type\n"
      ]
     },
     "execution_count": 64,
     "metadata": {},
     "output_type": "execute_result"
    }
   ],
   "source": [
    "jct := JCT(jb1, jb2, [X(1)$jbe2, X(2)$jbe2], [log(U(1)$jbe2)])"
   ]
  },
  {
   "cell_type": "code",
   "execution_count": 65,
   "metadata": {
    "collapsed": false
   },
   "outputs": [
    {
     "data": {
      "text/plain": [
       "                   2\n",
       "   - u    + u  - u\n",
       "      x,x    t    x\n",
       "                              Type: JetBundleExpression(JetBundle([x,t],[u]))\n"
      ]
     },
     "execution_count": 65,
     "metadata": {},
     "output_type": "execute_result"
    }
   ],
   "source": [
    "burgers : jbe1 := P[2] - P[1, 1] - P([1])^2"
   ]
  },
  {
   "cell_type": "code",
   "execution_count": 66,
   "metadata": {
    "collapsed": false
   },
   "outputs": [
    {
     "data": {
      "text/plain": [
       "   - v    + v\n",
       "      y,y    s\n",
       "   -----------\n",
       "        v\n",
       "                              Type: JetBundleExpression(JetBundle([y,s],[v]))\n"
      ]
     },
     "execution_count": 66,
     "metadata": {},
     "output_type": "execute_result"
    }
   ],
   "source": [
    "transform(burgers)$jct"
   ]
  },
  {
   "cell_type": "markdown",
   "metadata": {},
   "source": [
    " Symmetries of heat equation\n"
   ]
  },
  {
   "cell_type": "code",
   "execution_count": 67,
   "metadata": {
    "collapsed": false
   },
   "outputs": [
    {
     "name": "stdout",
     "output_type": "stream",
     "text": [
      "   All user variables and function definitions have been cleared.\n"
     ]
    },
    {
     "data": {
      "text/plain": []
     },
     "execution_count": 67,
     "metadata": {},
     "output_type": "execute_result"
    }
   ],
   "source": [
    ")clear all"
   ]
  },
  {
   "cell_type": "code",
   "execution_count": 68,
   "metadata": {
    "collapsed": false
   },
   "outputs": [
    {
     "data": {
      "text/plain": [
       "   JetBundle([t,x],[u])\n",
       "                                                                   Type: Type\n"
      ]
     },
     "execution_count": 68,
     "metadata": {},
     "output_type": "execute_result"
    }
   ],
   "source": [
    "jb := JBUNDLE(['t, 'x], ['u])"
   ]
  },
  {
   "cell_type": "code",
   "execution_count": 69,
   "metadata": {
    "collapsed": false
   },
   "outputs": [
    {
     "data": {
      "text/plain": [
       "   SymmetryAnalysis(JetBundle([t,x],[u]),[tau,xi],[eta])\n",
       "                                                                   Type: Type\n"
      ]
     },
     "execution_count": 69,
     "metadata": {},
     "output_type": "execute_result"
    }
   ],
   "source": [
    "sym := SYMANA(jb, ['tau, 'xi], ['eta])"
   ]
  },
  {
   "cell_type": "code",
   "execution_count": 70,
   "metadata": {
    "collapsed": false
   },
   "outputs": [
    {
     "data": {
      "text/plain": [
       "   JetBundleExpression(JetBundle([t,x],[u]))\n",
       "                                                                   Type: Type\n"
      ]
     },
     "execution_count": 70,
     "metadata": {},
     "output_type": "execute_result"
    }
   ],
   "source": [
    "jbe := JBE(jb)"
   ]
  },
  {
   "cell_type": "code",
   "execution_count": 71,
   "metadata": {
    "collapsed": false
   },
   "outputs": [
    {
     "data": {
      "text/plain": [
       "   JetBundleSymAna(JetBundle([t,x],[u]),[tau,xi],[eta])\n",
       "                                                                   Type: Type\n"
      ]
     },
     "execution_count": 71,
     "metadata": {},
     "output_type": "execute_result"
    }
   ],
   "source": [
    "jb2 := JBSA(jb, ['tau, 'xi], ['eta])"
   ]
  },
  {
   "cell_type": "code",
   "execution_count": 72,
   "metadata": {
    "collapsed": false
   },
   "outputs": [
    {
     "data": {
      "text/plain": [
       "   JetBundleXExpression(JetBundleSymAna(JetBundle([t,x],[u]),[tau,xi],[eta]))\n",
       "                                                                   Type: Type\n"
      ]
     },
     "execution_count": 72,
     "metadata": {},
     "output_type": "execute_result"
    }
   ],
   "source": [
    "jbx := JBX jb2"
   ]
  },
  {
   "cell_type": "code",
   "execution_count": 73,
   "metadata": {
    "collapsed": false
   },
   "outputs": [
    {
     "data": {
      "text/plain": [
       "  JetBundleLinearFunction(JetBundleSymAna(JetBundle([t,x],[u]),[tau,xi],[eta]),\n",
       "  JetBundleXExpression(JetBundleSymAna(JetBundle([t,x],[u]),[tau,xi],[eta])))\n",
       "                                                                   Type: Type\n"
      ]
     },
     "execution_count": 73,
     "metadata": {},
     "output_type": "execute_result"
    }
   ],
   "source": [
    "jbl2 := JBLF(jb2, jbx)"
   ]
  },
  {
   "cell_type": "code",
   "execution_count": 74,
   "metadata": {
    "collapsed": false
   },
   "outputs": [
    {
     "data": {
      "text/plain": [
       "   tau D  + xi D  + eta D\n",
       "        t       x        u\n",
       "Type: JetVectorField(JetBundle([t,x],[u]),JetBundleExpression(JetBundle([t,x],[u])))\n"
      ]
     },
     "execution_count": 74,
     "metadata": {},
     "output_type": "execute_result"
    }
   ],
   "source": [
    "v := ansatz()$sym"
   ]
  },
  {
   "cell_type": "code",
   "execution_count": 75,
   "metadata": {
    "collapsed": false
   },
   "outputs": [
    {
     "data": {
      "text/plain": [
       "   u    - u\n",
       "    x,x    t\n",
       "                              Type: JetBundleExpression(JetBundle([t,x],[u]))\n"
      ]
     },
     "execution_count": 75,
     "metadata": {},
     "output_type": "execute_result"
    }
   ],
   "source": [
    "eq : jbe := -P[1] + P[2, 2]"
   ]
  },
  {
   "cell_type": "code",
   "execution_count": 76,
   "metadata": {
    "collapsed": false
   },
   "outputs": [
    {
     "name": "stdout",
     "output_type": "stream",
     "text": [
      "\n",
      "\n"
     ]
    },
    {
     "data": {
      "text/plain": [
       "   [- 2tau , - 2tau , - xi   , - tau   , eta    - 2xi   , - 2tau    - 2xi ,\n",
       "          u        x      u,u       u,u     u,u      u,x        u,x      u\n",
       "    2eta    - xi    + xi , - tau    - 2xi  + tau , eta    - eta ]\n",
       "        u,x     x,x     t       x,x      x      t     x,x      t\n",
       "Type: List(JetBundleExpression(JetBundleSymAna(JetBundle([t,x],[u]),[tau,xi],[eta])))\n"
      ]
     },
     "execution_count": 76,
     "metadata": {},
     "output_type": "execute_result"
    }
   ],
   "source": [
    "ds := detSys([eq])$sym"
   ]
  },
  {
   "cell_type": "code",
   "execution_count": 77,
   "metadata": {
    "collapsed": false
   },
   "outputs": [
    {
     "name": "stdout",
     "output_type": "stream",
     "text": [
      "\n",
      "\n"
     ]
    },
    {
     "data": {
      "text/plain": [
       "   [- 2tau , - 2tau , - xi   , - tau   , eta    - 2xi   , - 2tau    - 2xi ,\n",
       "          u        x      u,u       u,u     u,u      u,x        u,x      u\n",
       "    2eta    - xi    + xi , - tau    - 2xi  + tau , eta    - eta ]\n",
       "        u,x     x,x     t       x,x      x      t     x,x      t\n",
       "Type: List(JetBundleLinearFunction(JetBundleSymAna(JetBundle([t,x],[u]),[tau,xi],[eta]),JetBundleXExpression(JetBundleSymAna(JetBundle([t,x],[u]),[tau,xi],[eta]))))\n"
      ]
     },
     "execution_count": 77,
     "metadata": {},
     "output_type": "execute_result"
    }
   ],
   "source": [
    "lds : List jbl2 := [retract(eq) for eq in ds]"
   ]
  },
  {
   "cell_type": "code",
   "execution_count": 78,
   "metadata": {
    "collapsed": false
   },
   "outputs": [
    {
     "data": {
      "text/plain": [
       "  JetDifferentialEquation(JetBundleSymAna(JetBundle([t,x],[u]),[tau,xi],[eta]),\n",
       "  JetBundleLinearFunction(JetBundleSymAna(JetBundle([t,x],[u]),[tau,xi],[eta]),\n",
       "  JetBundleXExpression(JetBundleSymAna(JetBundle([t,x],[u]),[tau,xi],[eta]))))\n",
       "                                                                   Type: Type\n"
      ]
     },
     "execution_count": 78,
     "metadata": {},
     "output_type": "execute_result"
    }
   ],
   "source": [
    "jde := JetDifferentialEquation(jb2, jbl2)"
   ]
  },
  {
   "cell_type": "code",
   "execution_count": 79,
   "metadata": {
    "collapsed": false
   },
   "outputs": [
    {
     "data": {
      "text/plain": [
       "\n",
       "          - xi   = 0\n",
       "              u,u\n",
       "\n",
       "          - tau   = 0\n",
       "               u,u\n",
       "\n",
       "      eta    - 2xi   = 0\n",
       "         u,u      u,x\n",
       "\n",
       "      - 2tau    - 2xi = 0\n",
       "            u,x      u\n",
       "\n",
       "   2eta    - xi    + xi = 0\n",
       "       u,x     x,x     t\n",
       "\n",
       "   - tau    - 2xi  + tau = 0\n",
       "        x,x      x      t\n",
       "\n",
       "       eta    - eta = 0\n",
       "          x,x      t\n",
       "\n",
       "          - 2tau = 0\n",
       "                u\n",
       "\n",
       "          - 2tau = 0\n",
       "                x\n",
       "Type: JetDifferentialEquation(JetBundleSymAna(JetBundle([t,x],[u]),[tau,xi],[eta]),JetBundleLinearFunction(JetBundleSymAna(JetBundle([t,x],[u]),[tau,xi],[eta]),JetBundleXExpression(JetBundleSymAna(JetBundle([t,x],[u]),[tau,xi],[eta]))))\n"
      ]
     },
     "execution_count": 79,
     "metadata": {},
     "output_type": "execute_result"
    }
   ],
   "source": [
    "r2 := makeSystem(lds)$jde"
   ]
  },
  {
   "cell_type": "code",
   "execution_count": 80,
   "metadata": {
    "collapsed": false
   },
   "outputs": [
    {
     "data": {
      "text/plain": [
       "  CartanKuranishi(JetBundleSymAna(JetBundle([t,x],[u]),[tau,xi],[eta]),JetBundl\n",
       "  eLinearFunction(JetBundleSymAna(JetBundle([t,x],[u]),[tau,xi],[eta]),JetBundl\n",
       "  eXExpression(JetBundleSymAna(JetBundle([t,x],[u]),[tau,xi],[eta]))))\n",
       "                                                                   Type: Type\n"
      ]
     },
     "execution_count": 80,
     "metadata": {},
     "output_type": "execute_result"
    }
   ],
   "source": [
    "ck := CKP(jb2, jbl2)"
   ]
  },
  {
   "cell_type": "code",
   "execution_count": 81,
   "metadata": {
    "collapsed": false
   },
   "outputs": [
    {
     "data": {
      "text/plain": [
       "   0\n",
       "                                                     Type: NonNegativeInteger\n"
      ]
     },
     "execution_count": 81,
     "metadata": {},
     "output_type": "execute_result"
    }
   ],
   "source": [
    "setOutMode(4)$ck"
   ]
  },
  {
   "cell_type": "code",
   "execution_count": 82,
   "metadata": {
    "collapsed": false
   },
   "outputs": [
    {
     "data": {
      "text/plain": [
       "   0\n",
       "                                                     Type: NonNegativeInteger\n"
      ]
     },
     "execution_count": 82,
     "metadata": {},
     "output_type": "execute_result"
    }
   ],
   "source": [
    "setRedMode(1)$ck"
   ]
  },
  {
   "cell_type": "code",
   "execution_count": 83,
   "metadata": {
    "collapsed": false
   },
   "outputs": [
    {
     "data": {
      "text/plain": [
       "\n",
       "   Symbol M  not involutive! Dimension: 11\n",
       "           2\n",
       "\n",
       "   Symbol M  involutive! Dimension: 11\n",
       "           3\n",
       "\n",
       "   Equation R  not involutive! Dimension: 27\n",
       "             3\n",
       "\n",
       "   ======= 1. Projection =======\n",
       "   Integrability condition(s)\n",
       "   =============================\n",
       "\n",
       "           (1)\n",
       "   Symbol M     involutive! Dimension: 8\n",
       "           3\n",
       "\n",
       "             (1)\n",
       "   Equation R     not involutive! Dimension: 21\n",
       "             3\n",
       "\n",
       "   ======= 2. Projection =======\n",
       "   Integrability condition(s)\n",
       "\n",
       "               1\n",
       "   - 2eta    - - tau   = 0\n",
       "         u,t   2    t,t\n",
       "   =============================\n",
       "\n",
       "           (2)\n",
       "   Symbol M     involutive! Dimension: 5\n",
       "           3\n",
       "\n",
       "             (2)\n",
       "   Equation R     not involutive! Dimension: 17\n",
       "             3\n",
       "\n",
       "   ======= 3. Projection =======\n",
       "   Integrability condition(s)\n",
       "\n",
       "   xi   = 0\n",
       "     t,t\n",
       "   =============================\n",
       "\n",
       "           (3)\n",
       "   Symbol M     involutive! Dimension: 4\n",
       "           3\n",
       "\n",
       "             (3)\n",
       "   Equation R     not involutive! Dimension: 15\n",
       "             3\n",
       "\n",
       "   ======= 4. Projection =======\n",
       "   Integrability condition(s)\n",
       "\n",
       "   tau     = 0\n",
       "      t,t,t\n",
       "   =============================\n",
       "\n",
       "           (4)\n",
       "   Symbol M     involutive! Dimension: 2\n",
       "           3\n",
       "\n",
       "   *************** Final Result ***************\n",
       "\n",
       "             (4)\n",
       "   Equation R     involutive!\n",
       "             3\n",
       "   System without prolonged equations. Dimension: 13\n",
       "\n",
       "       tau     = 0\n",
       "          t,t,t\n",
       "\n",
       "        eta   = 0\n",
       "           u,u\n",
       "\n",
       "             1\n",
       "    eta    + - xi = 0\n",
       "       u,x   2   t\n",
       "\n",
       "     eta    - eta = 0\n",
       "        x,x      t\n",
       "\n",
       "            1\n",
       "   eta    + - tau   = 0\n",
       "      u,t   4    t,t\n",
       "\n",
       "         xi   = 0\n",
       "           t,t\n",
       "\n",
       "          xi = 0\n",
       "            u\n",
       "\n",
       "         tau = 0\n",
       "            u\n",
       "\n",
       "           1\n",
       "     xi  - - tau = 0\n",
       "       x   2    t\n",
       "\n",
       "         tau = 0\n",
       "            x\n",
       "\n",
       "   Cartan characters: 2,0,0\n",
       "                                                                   Type: Void\n"
      ]
     },
     "execution_count": 83,
     "metadata": {},
     "output_type": "execute_result"
    }
   ],
   "source": [
    "complete(r2)$ck"
   ]
  },
  {
   "cell_type": "code",
   "execution_count": 84,
   "metadata": {
    "collapsed": false
   },
   "outputs": [
    {
     "name": "stderr",
     "output_type": "stream",
     "text": [
      "INDEX-TOO-LARGE-ERROR: \n",
      "  #<SB-KERNEL:INDEX-TOO-LARGE-ERROR expected-type: (INTEGER 0 (0)) datum: 0>\n"
     ]
    },
    {
     "data": {
      "text/plain": []
     },
     "execution_count": 84,
     "metadata": {},
     "output_type": "execute_result"
    }
   ],
   "source": []
  }
 ],
 "metadata": {
  "kernelspec": {
   "display_name": "FriCAS",
   "language": "spad",
   "name": "ifricas"
  },
  "language_info": {
   "codemirror_mode": "spad",
   "mimetype": "text/x-spad",
   "name": "SPAD",
   "pygments_lexer": "spad",
   "version": "1.2.6"
  },
  "name": "jet.ipynb"
 },
 "nbformat": 4,
 "nbformat_minor": 0
}