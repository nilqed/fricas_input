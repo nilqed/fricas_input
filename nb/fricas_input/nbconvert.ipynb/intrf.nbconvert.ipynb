{
 "cells": [
  {
   "cell_type": "markdown",
   "metadata": {},
   "source": [
    "Copyright The Numerical Algorithms Group Limited 1991.\n"
   ]
  },
  {
   "cell_type": "markdown",
   "metadata": {},
   "source": [
    " some integration of rational functions\n"
   ]
  },
  {
   "cell_type": "code",
   "execution_count": 0,
   "metadata": {
    "collapsed": false
   },
   "outputs": [
    {
     "name": "stdout",
     "output_type": "stream",
     "text": [
      "   All user variables and function definitions have been cleared.\n"
     ]
    },
    {
     "data": {
      "text/plain": []
     },
     "execution_count": 0,
     "metadata": {},
     "output_type": "execute_result"
    }
   ],
   "source": [
    ")clear all"
   ]
  },
  {
   "cell_type": "code",
   "execution_count": 1,
   "metadata": {
    "collapsed": false
   },
   "outputs": [
    {
     "name": "stdout",
     "output_type": "stream",
     "text": [
      "Warning: HyperTeX macro table not found\n"
     ]
    },
    {
     "data": {
      "text/plain": [
       "        2\n",
       "   y + x\n",
       "   ------\n",
       "      x\n",
       "                                          Type: Fraction(Polynomial(Integer))\n"
      ]
     },
     "execution_count": 1,
     "metadata": {},
     "output_type": "execute_result"
    }
   ],
   "source": [
    "x + y/x"
   ]
  },
  {
   "cell_type": "markdown",
   "metadata": {},
   "source": [
    " we need not factor the denominator\n"
   ]
  },
  {
   "cell_type": "code",
   "execution_count": 2,
   "metadata": {
    "collapsed": false
   },
   "outputs": [
    {
     "data": {
      "text/plain": [
       "                2\n",
       "   2y log(x) + x\n",
       "   --------------\n",
       "          2\n",
       "                                         Type: Union(Expression(Integer),...)\n"
      ]
     },
     "execution_count": 2,
     "metadata": {},
     "output_type": "execute_result"
    }
   ],
   "source": [
    "integrate(%,x)"
   ]
  },
  {
   "cell_type": "code",
   "execution_count": 3,
   "metadata": {
    "collapsed": false
   },
   "outputs": [
    {
     "data": {
      "text/plain": [
       "                  2\n",
       "                 x  + 2x + 1\n",
       "   --------------------------------------\n",
       "    6     5      4      3      2\n",
       "   x  + 6x  + 15x  + 20x  + 15x  + 6x + 2\n",
       "                                          Type: Fraction(Polynomial(Integer))\n"
      ]
     },
     "execution_count": 3,
     "metadata": {},
     "output_type": "execute_result"
    }
   ],
   "source": [
    "(x+1)^2/((x+1)^6+1)"
   ]
  },
  {
   "cell_type": "code",
   "execution_count": 4,
   "metadata": {
    "collapsed": false
   },
   "outputs": [
    {
     "data": {
      "text/plain": [
       "         3     2\n",
       "   atan(x  + 3x  + 3x + 1)\n",
       "   -----------------------\n",
       "              3\n",
       "                                         Type: Union(Expression(Integer),...)\n"
      ]
     },
     "execution_count": 4,
     "metadata": {},
     "output_type": "execute_result"
    }
   ],
   "source": [
    "integrate(%,x)"
   ]
  },
  {
   "cell_type": "code",
   "execution_count": 5,
   "metadata": {
    "collapsed": false
   },
   "outputs": [
    {
     "data": {
      "text/plain": [
       "       8       6       4       2\n",
       "    16x  + 128x  + 384x  + 512x  + 256\n",
       "   ------------------------------------\n",
       "    10      8      6      4      2\n",
       "   x   - 10x  + 40x  - 80x  + 80x  - 32\n",
       "                                          Type: Fraction(Polynomial(Integer))\n"
      ]
     },
     "execution_count": 5,
     "metadata": {},
     "output_type": "execute_result"
    }
   ],
   "source": [
    "(2*x^2+4)^4/(x^2-2)^5"
   ]
  },
  {
   "cell_type": "code",
   "execution_count": 6,
   "metadata": {
    "collapsed": false
   },
   "outputs": [
    {
     "name": "stdout",
     "output_type": "stream",
     "text": [
      "      "
     ]
    },
    {
     "data": {
      "text/plain": [
       "                                                   +-+    2\n",
       "          8      6      4      2       +-+    - 2x\\|2  + x  + 2       7      5\n",
       "       (3x  - 24x  + 72x  - 96x  + 48)\\|2 log(-----------------) - 20x  - 24x\n",
       "                                                     2\n",
       "                                                    x  - 2\n",
       "     + \n",
       "            3\n",
       "       - 48x  - 160x\n",
       "  /\n",
       "       8      6      4      2\n",
       "     2x  - 16x  + 48x  - 64x  + 32\n",
       "                                         Type: Union(Expression(Integer),...)\n"
      ]
     },
     "execution_count": 6,
     "metadata": {},
     "output_type": "execute_result"
    }
   ],
   "source": [
    "integrate(%,x)"
   ]
  },
  {
   "cell_type": "code",
   "execution_count": 7,
   "metadata": {
    "collapsed": false
   },
   "outputs": [
    {
     "data": {
      "text/plain": [
       "               5\n",
       "              x\n",
       "   ------------------------\n",
       "    8     6     4     2\n",
       "   x  + 2x  + 3x  + 2x  + 1\n",
       "                                          Type: Fraction(Polynomial(Integer))\n"
      ]
     },
     "execution_count": 7,
     "metadata": {},
     "output_type": "execute_result"
    }
   ],
   "source": [
    "x^5/(x^4+x^2+1)^2"
   ]
  },
  {
   "cell_type": "code",
   "execution_count": 8,
   "metadata": {
    "collapsed": false
   },
   "outputs": [
    {
     "data": {
      "text/plain": [
       "                          2      +-+\n",
       "      4     2          (2x  + 1)\\|3         2      +-+\n",
       "   (4x  + 4x  + 4)atan(-------------) + (- x  + 1)\\|3\n",
       "                             3\n",
       "   ---------------------------------------------------\n",
       "                      4     2      +-+\n",
       "                   (6x  + 6x  + 6)\\|3\n",
       "                                         Type: Union(Expression(Integer),...)\n"
      ]
     },
     "execution_count": 8,
     "metadata": {},
     "output_type": "execute_result"
    }
   ],
   "source": [
    "integrate(%,x)"
   ]
  },
  {
   "cell_type": "code",
   "execution_count": 9,
   "metadata": {
    "collapsed": false
   },
   "outputs": [
    {
     "data": {
      "text/plain": [
       "      1\n",
       "   ------\n",
       "    2\n",
       "   x  + a\n",
       "                                          Type: Fraction(Polynomial(Integer))\n"
      ]
     },
     "execution_count": 9,
     "metadata": {},
     "output_type": "execute_result"
    }
   ],
   "source": [
    "1/(x^2 + a)"
   ]
  },
  {
   "cell_type": "code",
   "execution_count": 10,
   "metadata": {
    "collapsed": false
   },
   "outputs": [
    {
     "data": {
      "text/plain": [
       "          2      +---+\n",
       "        (x  - a)\\|- a  + 2a x         +-+\n",
       "    log(---------------------)      x\\|a\n",
       "                 2             atan(-----)\n",
       "                x  + a                a\n",
       "   [--------------------------,-----------]\n",
       "                +---+               +-+\n",
       "              2\\|- a               \\|a\n",
       "                                   Type: Union(List(Expression(Integer)),...)\n"
      ]
     },
     "execution_count": 10,
     "metadata": {},
     "output_type": "execute_result"
    }
   ],
   "source": [
    "integrate(%,x)"
   ]
  },
  {
   "cell_type": "code",
   "execution_count": 11,
   "metadata": {
    "collapsed": false
   },
   "outputs": [
    {
     "data": {
      "text/plain": [
       "       2\n",
       "      x\n",
       "   -------\n",
       "    4    2\n",
       "   x  - a\n",
       "                                          Type: Fraction(Polynomial(Integer))\n"
      ]
     },
     "execution_count": 11,
     "metadata": {},
     "output_type": "execute_result"
    }
   ],
   "source": [
    "x^2/(x^4-a^2)"
   ]
  },
  {
   "cell_type": "code",
   "execution_count": 12,
   "metadata": {
    "collapsed": false
   },
   "outputs": [
    {
     "name": "stdout",
     "output_type": "stream",
     "text": [
      "\n",
      "\n"
     ]
    },
    {
     "data": {
      "text/plain": [
       "          2      +-+                   +-+\n",
       "        (x  + a)\\|a  - 2a x          x\\|a\n",
       "    log(-------------------) + 2atan(-----)\n",
       "                2                      a\n",
       "               x  - a\n",
       "   [---------------------------------------,\n",
       "                       +-+\n",
       "                     4\\|a\n",
       "          2      +---+                   +---+\n",
       "        (x  - a)\\|- a  + 2a x          x\\|- a\n",
       "    log(---------------------) - 2atan(-------)\n",
       "                 2                        a\n",
       "                x  + a\n",
       "    -------------------------------------------]\n",
       "                        +---+\n",
       "                      4\\|- a\n",
       "                                   Type: Union(List(Expression(Integer)),...)\n"
      ]
     },
     "execution_count": 12,
     "metadata": {},
     "output_type": "execute_result"
    }
   ],
   "source": [
    "integrate(%,x)"
   ]
  },
  {
   "cell_type": "code",
   "execution_count": 13,
   "metadata": {
    "collapsed": false
   },
   "outputs": [
    {
     "data": {
      "text/plain": [
       "        x\n",
       "   - ------\n",
       "      3\n",
       "     x  - 1\n",
       "                                          Type: Fraction(Polynomial(Integer))\n"
      ]
     },
     "execution_count": 13,
     "metadata": {},
     "output_type": "execute_result"
    }
   ],
   "source": [
    "x/(1-x^3)"
   ]
  },
  {
   "cell_type": "code",
   "execution_count": 14,
   "metadata": {
    "collapsed": false
   },
   "outputs": [
    {
     "data": {
      "text/plain": [
       "                                                          +-+\n",
       "    +-+     2              +-+                   (2x + 1)\\|3\n",
       "   \\|3 log(x  + x + 1) - 2\\|3 log(x - 1) - 6atan(------------)\n",
       "                                                       3\n",
       "   -----------------------------------------------------------\n",
       "                                +-+\n",
       "                              6\\|3\n",
       "                                         Type: Union(Expression(Integer),...)\n"
      ]
     },
     "execution_count": 14,
     "metadata": {},
     "output_type": "execute_result"
    }
   ],
   "source": [
    "integrate(%,x)"
   ]
  },
  {
   "cell_type": "code",
   "execution_count": 15,
   "metadata": {
    "collapsed": false
   },
   "outputs": [
    {
     "name": "stderr",
     "output_type": "stream",
     "text": [
      "INDEX-TOO-LARGE-ERROR: \n",
      "  #<SB-KERNEL:INDEX-TOO-LARGE-ERROR expected-type: (INTEGER 0 (0)) datum: 0>\n"
     ]
    },
    {
     "data": {
      "text/plain": []
     },
     "execution_count": 15,
     "metadata": {},
     "output_type": "execute_result"
    }
   ],
   "source": []
  }
 ],
 "metadata": {
  "kernelspec": {
   "display_name": "FriCAS",
   "language": "spad",
   "name": "ifricas"
  },
  "language_info": {
   "codemirror_mode": "spad",
   "mimetype": "text/x-spad",
   "name": "SPAD",
   "pygments_lexer": "spad",
   "version": "1.2.6"
  },
  "name": "intrf.ipynb"
 },
 "nbformat": 4,
 "nbformat_minor": 0
}