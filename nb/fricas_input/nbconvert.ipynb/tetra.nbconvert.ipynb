{
 "cells": [
  {
   "cell_type": "markdown",
   "metadata": {},
   "source": [
    "Copyright The Numerical Algorithms Group Limited 1994.\n",
    " Sierpinsky's Tetrahedron\n",
    " Bring DH matrices into the environment\n"
   ]
  },
  {
   "cell_type": "code",
   "execution_count": 0,
   "metadata": {
    "collapsed": false
   },
   "outputs": [
    {
     "name": "stdout",
     "output_type": "stream",
     "text": [
      "   DenavitHartenbergMatrix is now explicitly exposed in frame initial \n"
     ]
    },
    {
     "data": {
      "text/plain": []
     },
     "execution_count": 0,
     "metadata": {},
     "output_type": "execute_result"
    }
   ],
   "source": [
    ")set expose add con DenavitHartenbergMatrix"
   ]
  },
  {
   "cell_type": "markdown",
   "metadata": {},
   "source": [
    " set up the coordinates of the corners of a tetrahedron\n"
   ]
  },
  {
   "cell_type": "code",
   "execution_count": 1,
   "metadata": {
    "collapsed": false
   },
   "outputs": [
    {
     "name": "stderr",
     "output_type": "stream",
     "text": [
      " \n",
      "   The file dhtri is needed but does not exist.\n",
      "\n"
     ]
    },
    {
     "data": {
      "text/plain": [
       "error\n"
      ]
     },
     "execution_count": 1,
     "metadata": {},
     "output_type": "execute_result"
    }
   ],
   "source": [
    ")read dhtri"
   ]
  },
  {
   "cell_type": "code",
   "execution_count": 2,
   "metadata": {
    "collapsed": false
   },
   "outputs": [
    {
     "name": "stdout",
     "output_type": "stream",
     "text": [
      "Warning: HyperTeX macro table not found\n"
     ]
    },
    {
     "data": {
      "text/plain": [
       "   0.816496580927726\n",
       "                                                            Type: DoubleFloat\n"
      ]
     },
     "execution_count": 2,
     "metadata": {},
     "output_type": "execute_result"
    }
   ],
   "source": [
    "x1:DoubleFloat := sqrt(2.0@DoubleFloat/3.0@DoubleFloat)"
   ]
  },
  {
   "cell_type": "code",
   "execution_count": 3,
   "metadata": {
    "collapsed": false
   },
   "outputs": [
    {
     "data": {
      "text/plain": [
       "   0.28867513459481287\n",
       "                                                            Type: DoubleFloat\n"
      ]
     },
     "execution_count": 3,
     "metadata": {},
     "output_type": "execute_result"
    }
   ],
   "source": [
    "x2:DoubleFloat := sqrt(3.0@DoubleFloat)/6"
   ]
  },
  {
   "cell_type": "code",
   "execution_count": 4,
   "metadata": {
    "collapsed": false
   },
   "outputs": [
    {
     "data": {
      "text/plain": [
       "   [- 0.5,- 0.28867513459481287,0.0]\n",
       "                                                     Type: Point(DoubleFloat)\n"
      ]
     },
     "execution_count": 4,
     "metadata": {},
     "output_type": "execute_result"
    }
   ],
   "source": [
    "p1 := point [-0.5@DoubleFloat, -x2, 0.0@DoubleFloat]"
   ]
  },
  {
   "cell_type": "code",
   "execution_count": 5,
   "metadata": {
    "collapsed": false
   },
   "outputs": [
    {
     "data": {
      "text/plain": [
       "   [0.5,- 0.28867513459481287,0.0]\n",
       "                                                     Type: Point(DoubleFloat)\n"
      ]
     },
     "execution_count": 5,
     "metadata": {},
     "output_type": "execute_result"
    }
   ],
   "source": [
    "p2 := point [0.5@DoubleFloat, -x2, 0.0@DoubleFloat]"
   ]
  },
  {
   "cell_type": "code",
   "execution_count": 6,
   "metadata": {
    "collapsed": false
   },
   "outputs": [
    {
     "data": {
      "text/plain": [
       "   [0.0,0.5773502691896257,0.0]\n",
       "                                                     Type: Point(DoubleFloat)\n"
      ]
     },
     "execution_count": 6,
     "metadata": {},
     "output_type": "execute_result"
    }
   ],
   "source": [
    "p3 := point [0.0@DoubleFloat, 2*x2, 0.0@DoubleFloat]"
   ]
  },
  {
   "cell_type": "markdown",
   "metadata": {},
   "source": [
    " The base of the tetrahedron\n"
   ]
  },
  {
   "cell_type": "code",
   "execution_count": 7,
   "metadata": {
    "collapsed": false
   },
   "outputs": [
    {
     "data": {
      "text/plain": [
       "   [0.0,0.0,0.816496580927726]\n",
       "                                                     Type: Point(DoubleFloat)\n"
      ]
     },
     "execution_count": 7,
     "metadata": {},
     "output_type": "execute_result"
    }
   ],
   "source": [
    "p4 := point [0.0@DoubleFloat, 0.0@DoubleFloat, x1]"
   ]
  },
  {
   "cell_type": "markdown",
   "metadata": {},
   "source": [
    " The \"middle triangle\" inscribed in the base of the tetrahedon\n"
   ]
  },
  {
   "cell_type": "code",
   "execution_count": 8,
   "metadata": {
    "collapsed": false
   },
   "outputs": [
    {
     "name": "stdout",
     "output_type": "stream",
     "text": [
      "\n",
      "\n"
     ]
    },
    {
     "data": {
      "text/plain": [
       "   [[0.5,- 0.28867513459481287,0.0], [- 0.5,- 0.28867513459481287,0.0],\n",
       "    [0.0,0.5773502691896257,0.0]]\n",
       "                                               Type: List(Point(DoubleFloat))\n"
      ]
     },
     "execution_count": 8,
     "metadata": {},
     "output_type": "execute_result"
    }
   ],
   "source": [
    "baseTriangle  := [p2, p1, p3]"
   ]
  },
  {
   "cell_type": "markdown",
   "metadata": {},
   "source": [
    " The bases of the triangles of the subdivided tetrahedon\n"
   ]
  },
  {
   "cell_type": "code",
   "execution_count": 9,
   "metadata": {
    "collapsed": false
   },
   "outputs": [
    {
     "name": "stdout",
     "output_type": "stream",
     "text": [
      "\n",
      "\n"
     ]
    },
    {
     "data": {
      "text/plain": [
       "   [[0.0,- 0.28867513459481287,0.0], [- 0.25,0.14433756729740643,0.0],\n",
       "    [0.25,0.14433756729740643,0.0]]\n",
       "                                               Type: List(Point(DoubleFloat))\n"
      ]
     },
     "execution_count": 9,
     "metadata": {},
     "output_type": "execute_result"
    }
   ],
   "source": [
    "mt  := [0.5@DoubleFloat*(p2+p1), 0.5@DoubleFloat*(p1+p3), 0.5@DoubleFloat*(p3+p2)]"
   ]
  },
  {
   "cell_type": "code",
   "execution_count": 10,
   "metadata": {
    "collapsed": false
   },
   "outputs": [
    {
     "name": "stdout",
     "output_type": "stream",
     "text": [
      "\n",
      "\n"
     ]
    },
    {
     "data": {
      "text/plain": [
       "   [[0.0,- 0.28867513459481287,0.0], [- 0.5,- 0.28867513459481287,0.0],\n",
       "    [- 0.25,0.14433756729740643,0.0]]\n",
       "                                               Type: List(Point(DoubleFloat))\n"
      ]
     },
     "execution_count": 10,
     "metadata": {},
     "output_type": "execute_result"
    }
   ],
   "source": [
    "bt1 := [mt.1, p1, mt.2]"
   ]
  },
  {
   "cell_type": "code",
   "execution_count": 11,
   "metadata": {
    "collapsed": false
   },
   "outputs": [
    {
     "name": "stdout",
     "output_type": "stream",
     "text": [
      "\n",
      "\n"
     ]
    },
    {
     "data": {
      "text/plain": [
       "   [[0.5,- 0.28867513459481287,0.0], [0.0,- 0.28867513459481287,0.0],\n",
       "    [0.25,0.14433756729740643,0.0]]\n",
       "                                               Type: List(Point(DoubleFloat))\n"
      ]
     },
     "execution_count": 11,
     "metadata": {},
     "output_type": "execute_result"
    }
   ],
   "source": [
    "bt2 := [p2, mt.1, mt.3]"
   ]
  },
  {
   "cell_type": "code",
   "execution_count": 12,
   "metadata": {
    "collapsed": false
   },
   "outputs": [
    {
     "name": "stdout",
     "output_type": "stream",
     "text": [
      "\n",
      "\n"
     ]
    },
    {
     "data": {
      "text/plain": [
       "   [[- 0.25,0.14433756729740643,0.0], [0.0,0.5773502691896257,0.0],\n",
       "    [0.25,0.14433756729740643,0.0]]\n",
       "                                               Type: List(Point(DoubleFloat))\n"
      ]
     },
     "execution_count": 12,
     "metadata": {},
     "output_type": "execute_result"
    }
   ],
   "source": [
    "bt3 := [mt.2, p3, mt.3]"
   ]
  },
  {
   "cell_type": "markdown",
   "metadata": {},
   "source": [
    " create the transformations which bring the base of the tetrahedron\n",
    " to the bases of the subdivided tetrahedron\n"
   ]
  },
  {
   "cell_type": "code",
   "execution_count": 13,
   "metadata": {
    "collapsed": false
   },
   "outputs": [
    {
     "name": "stdout",
     "output_type": "stream",
     "text": [
      "\n",
      "\n",
      "\n"
     ]
    },
    {
     "data": {
      "text/plain": [
       "   [[0.25,- 0.14433756729740643,0.408248290463863],\n",
       "    [- 0.25,- 0.14433756729740643,0.408248290463863],\n",
       "    [0.0,0.28867513459481287,0.408248290463863]]\n",
       "                                               Type: List(Point(DoubleFloat))\n"
      ]
     },
     "execution_count": 13,
     "metadata": {},
     "output_type": "execute_result"
    }
   ],
   "source": [
    "bt4 := [0.5@DoubleFloat*(p2+p4), 0.5@DoubleFloat*(p1+p4), 0.5@DoubleFloat*(p3+p4)]"
   ]
  },
  {
   "cell_type": "code",
   "execution_count": 14,
   "metadata": {
    "collapsed": false
   },
   "outputs": [
    {
     "name": "stderr",
     "output_type": "stream",
     "text": [
      "   There are no library operations named tri2tri \n",
      "      Use HyperDoc Browse or issue\n",
      "                              )what op tri2tri\n",
      "      to learn if there is any operation containing \" tri2tri \" in its \n",
      "      name.\n",
      " \n",
      "   Cannot find a definition or applicable library operation named \n",
      "      tri2tri with argument type(s) \n",
      "                          List(Point(DoubleFloat))\n",
      "                          List(Point(DoubleFloat))\n",
      "      \n",
      "      Perhaps you should use \"@\" to indicate the required return type, \n",
      "      or \"$\" to specify which version of the function you need.\n",
      "\n"
     ]
    },
    {
     "data": {
      "text/plain": [
       "error\n"
      ]
     },
     "execution_count": 14,
     "metadata": {},
     "output_type": "execute_result"
    }
   ],
   "source": [
    "tt1 := tri2tri(baseTriangle, bt1)"
   ]
  },
  {
   "cell_type": "code",
   "execution_count": 15,
   "metadata": {
    "collapsed": false
   },
   "outputs": [
    {
     "name": "stderr",
     "output_type": "stream",
     "text": [
      "   There are no library operations named tri2tri \n",
      "      Use HyperDoc Browse or issue\n",
      "                              )what op tri2tri\n",
      "      to learn if there is any operation containing \" tri2tri \" in its \n",
      "      name.\n",
      " \n",
      "   Cannot find a definition or applicable library operation named \n",
      "      tri2tri with argument type(s) \n",
      "                          List(Point(DoubleFloat))\n",
      "                          List(Point(DoubleFloat))\n",
      "      \n",
      "      Perhaps you should use \"@\" to indicate the required return type, \n",
      "      or \"$\" to specify which version of the function you need.\n",
      "\n"
     ]
    },
    {
     "data": {
      "text/plain": [
       "error\n"
      ]
     },
     "execution_count": 15,
     "metadata": {},
     "output_type": "execute_result"
    }
   ],
   "source": [
    "tt2 := tri2tri(baseTriangle, bt2)"
   ]
  },
  {
   "cell_type": "code",
   "execution_count": 16,
   "metadata": {
    "collapsed": false
   },
   "outputs": [
    {
     "name": "stderr",
     "output_type": "stream",
     "text": [
      "   There are no library operations named tri2tri \n",
      "      Use HyperDoc Browse or issue\n",
      "                              )what op tri2tri\n",
      "      to learn if there is any operation containing \" tri2tri \" in its \n",
      "      name.\n",
      " \n",
      "   Cannot find a definition or applicable library operation named \n",
      "      tri2tri with argument type(s) \n",
      "                          List(Point(DoubleFloat))\n",
      "                          List(Point(DoubleFloat))\n",
      "      \n",
      "      Perhaps you should use \"@\" to indicate the required return type, \n",
      "      or \"$\" to specify which version of the function you need.\n",
      "\n"
     ]
    },
    {
     "data": {
      "text/plain": [
       "error\n"
      ]
     },
     "execution_count": 16,
     "metadata": {},
     "output_type": "execute_result"
    }
   ],
   "source": [
    "tt3 := tri2tri(baseTriangle, bt3)"
   ]
  },
  {
   "cell_type": "markdown",
   "metadata": {},
   "source": [
    " Draw a Sierpinsky tetrahedron with n levels of recursive subdivision\n"
   ]
  },
  {
   "cell_type": "code",
   "execution_count": 17,
   "metadata": {
    "collapsed": false
   },
   "outputs": [
    {
     "name": "stderr",
     "output_type": "stream",
     "text": [
      "   There are no library operations named tri2tri \n",
      "      Use HyperDoc Browse or issue\n",
      "                              )what op tri2tri\n",
      "      to learn if there is any operation containing \" tri2tri \" in its \n",
      "      name.\n",
      " \n",
      "   Cannot find a definition or applicable library operation named \n",
      "      tri2tri with argument type(s) \n",
      "                          List(Point(DoubleFloat))\n",
      "                          List(Point(DoubleFloat))\n",
      "      \n",
      "      Perhaps you should use \"@\" to indicate the required return type, \n",
      "      or \"$\" to specify which version of the function you need.\n",
      "\n"
     ]
    },
    {
     "data": {
      "text/plain": [
       "error\n"
      ]
     },
     "execution_count": 17,
     "metadata": {},
     "output_type": "execute_result"
    }
   ],
   "source": [
    "tt4 := tri2tri(baseTriangle, bt4)"
   ]
  },
  {
   "cell_type": "markdown",
   "metadata": {},
   "source": [
    " Recursively draw a Sierpinsky tetrahedron\n"
   ]
  },
  {
   "cell_type": "code",
   "execution_count": 18,
   "metadata": {
    "collapsed": false
   },
   "outputs": [
    {
     "data": {
      "text/plain": [
       "                                                                   Type: Void\n"
      ]
     },
     "execution_count": 18,
     "metadata": {},
     "output_type": "execute_result"
    }
   ],
   "source": [
    "drawPyramid(n) ==\n",
    "  s := create3Space()$ThreeSpace DoubleFloat\n",
    "  dh := rotatex(0.0@DoubleFloat)\n",
    "  drawPyramidInner(s, n, dh)\n",
    "  makeViewport3D(s, \"Sierpinsky Tetrahedron\")$VIEW3D"
   ]
  },
  {
   "cell_type": "markdown",
   "metadata": {},
   "source": [
    " draw a tetrahedron into the given space, with the given color,\n",
    " transforming it by the given DH matrix\n"
   ]
  },
  {
   "cell_type": "code",
   "execution_count": 19,
   "metadata": {
    "collapsed": false
   },
   "outputs": [
    {
     "data": {
      "text/plain": [
       "                                                                   Type: Void\n"
      ]
     },
     "execution_count": 19,
     "metadata": {},
     "output_type": "execute_result"
    }
   ],
   "source": [
    "drawPyramidInner(s, n, dh) ==\n",
    "  n = 0 => makeTetrahedron(s, dh, n)\n",
    "  -- draw the 4 recursive pyramids\n",
    "  drawPyramidInner(s, n-1, dh * tt1)\n",
    "  drawPyramidInner(s, n-1, dh * tt2)\n",
    "  drawPyramidInner(s, n-1, dh * tt3)\n",
    "  drawPyramidInner(s, n-1, dh * tt4)"
   ]
  },
  {
   "cell_type": "code",
   "execution_count": 20,
   "metadata": {
    "collapsed": false
   },
   "outputs": [
    {
     "data": {
      "text/plain": [
       "                                                                   Type: Void\n"
      ]
     },
     "execution_count": 20,
     "metadata": {},
     "output_type": "execute_result"
    }
   ],
   "source": [
    "makeTetrahedron(sp, dh, color) ==\n",
    "  w1 := dh*p1\n",
    "  w2 := dh*p2\n",
    "  w3 := dh*p3\n",
    "  w4 := dh*p4\n",
    "  polygon(sp, [w1, w2, w4])\n",
    "  polygon(sp, [w1, w3, w4])\n",
    "  polygon(sp, [w2, w3, w4])\n",
    "  void()"
   ]
  },
  {
   "cell_type": "code",
   "execution_count": 21,
   "metadata": {
    "collapsed": false
   },
   "outputs": [
    {
     "name": "stderr",
     "output_type": "stream",
     "text": [
      "INDEX-TOO-LARGE-ERROR: \n",
      "  #<SB-KERNEL:INDEX-TOO-LARGE-ERROR expected-type: (INTEGER 0 (0)) datum: 0>\n"
     ]
    },
    {
     "data": {
      "text/plain": []
     },
     "execution_count": 21,
     "metadata": {},
     "output_type": "execute_result"
    }
   ],
   "source": []
  }
 ],
 "metadata": {
  "kernelspec": {
   "display_name": "FriCAS",
   "language": "spad",
   "name": "ifricas"
  },
  "language_info": {
   "codemirror_mode": "spad",
   "mimetype": "text/x-spad",
   "name": "SPAD",
   "pygments_lexer": "spad",
   "version": "1.2.6"
  },
  "name": "tetra.ipynb"
 },
 "nbformat": 4,
 "nbformat_minor": 0
}