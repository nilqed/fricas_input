{
 "cells": [
  {
   "cell_type": "markdown",
   "metadata": {},
   "source": [
    "Copyright The Numerical Algorithms Group Limited 1994.\n",
    " Drawing conformal maps.\n",
    " The functions in this file draw conformal maps both on the\n",
    " complex plane and on the Riemann sphere.\n",
    " Compile, don't interpret functions.\n"
   ]
  },
  {
   "cell_type": "code",
   "execution_count": 0,
   "metadata": {
    "collapsed": false
   },
   "outputs": [
    {
     "data": {
      "text/plain": []
     },
     "execution_count": 0,
     "metadata": {},
     "output_type": "execute_result"
    }
   ],
   "source": [
    ")set fun comp on"
   ]
  },
  {
   "cell_type": "code",
   "execution_count": 1,
   "metadata": {
    "collapsed": false
   },
   "outputs": [
    {
     "data": {
      "text/plain": [
       "   Complex(DoubleFloat)\n",
       "                                                                   Type: Type\n"
      ]
     },
     "execution_count": 1,
     "metadata": {},
     "output_type": "execute_result"
    }
   ],
   "source": [
    "C := Complex DoubleFloat                -- Complex Numbers"
   ]
  },
  {
   "cell_type": "code",
   "execution_count": 2,
   "metadata": {
    "collapsed": false
   },
   "outputs": [
    {
     "data": {
      "text/plain": [
       "   Segment(DoubleFloat)\n",
       "                                                                   Type: Type\n"
      ]
     },
     "execution_count": 2,
     "metadata": {},
     "output_type": "execute_result"
    }
   ],
   "source": [
    "S := Segment DoubleFloat                -- Draw ranges"
   ]
  },
  {
   "cell_type": "markdown",
   "metadata": {},
   "source": [
    " conformalDraw(f, rRange, tRange, rSteps, tSteps, coord)\n",
    " draws the image of the coordinate grid under f in the complex plane.\n",
    " The grid may be given in either polar or cartesian coordinates.\n",
    " parameter descriptions:\n",
    "   f:  the function to draw\n",
    "   rRange: the range of the radius (in polar) or real (in cartesian)\n",
    "   tRange: the range of theta (in polar) or imaginary (in cartesian)\n",
    "   tSteps, rSteps: the number of intervals in each direction\n",
    "   coord: the coordinate system to use.  Either \"polar\" or \"cartesian\"\n"
   ]
  },
  {
   "cell_type": "code",
   "execution_count": 3,
   "metadata": {
    "collapsed": false
   },
   "outputs": [
    {
     "data": {
      "text/plain": [
       "   Point(DoubleFloat)\n",
       "                                                                   Type: Type\n"
      ]
     },
     "execution_count": 3,
     "metadata": {},
     "output_type": "execute_result"
    }
   ],
   "source": [
    "R3 := POINT DoubleFloat                         -- points in 3-space"
   ]
  },
  {
   "cell_type": "code",
   "execution_count": 4,
   "metadata": {
    "collapsed": false
   },
   "outputs": [
    {
     "data": {
      "text/plain": [
       "                                                                   Type: Void\n"
      ]
     },
     "execution_count": 4,
     "metadata": {},
     "output_type": "execute_result"
    }
   ],
   "source": [
    "conformalDraw: (C -> C, S, S, PI, PI, String) -> VIEW3D"
   ]
  },
  {
   "cell_type": "markdown",
   "metadata": {},
   "source": [
    " riemannConformalDraw(f, rRange, tRange, rSteps, tSteps, coord)\n",
    " draws the image of the coordinate grid under f on the Riemann sphere.\n",
    " The grid may given in either polar or cartesian coordinates.\n",
    " parameter descriptions:\n",
    "   f:  the function to draw\n",
    "   rRange: the range of the radius(in polar) or real (in cartesian)\n",
    "   tRange: the range of theta (in polar) or imaginary (in cartesian)\n",
    "   tSteps, rSteps: the number of intervals in each direction\n",
    "   coord: the coordinate system to use. either \"polar\" or \"cartesian\"\n"
   ]
  },
  {
   "cell_type": "code",
   "execution_count": 5,
   "metadata": {
    "collapsed": false
   },
   "outputs": [
    {
     "data": {
      "text/plain": [
       "                                                                   Type: Void\n"
      ]
     },
     "execution_count": 5,
     "metadata": {},
     "output_type": "execute_result"
    }
   ],
   "source": [
    "conformalDraw(f, rRange, tRange, rSteps, tSteps, coord) ==\n",
    "  transformC :=\n",
    "    coord = \"polar\" => polar2Complex\n",
    "    cartesian2Complex\n",
    "  cm := makeConformalMap(f, transformC)\n",
    "  sp := createThreeSpace()\n",
    "  adaptGrid(sp, cm, rRange, tRange, rSteps, tSteps)\n",
    "  makeViewport3D(sp, \"Conformal Map\")"
   ]
  },
  {
   "cell_type": "code",
   "execution_count": 6,
   "metadata": {
    "collapsed": false
   },
   "outputs": [
    {
     "data": {
      "text/plain": [
       "                                                                   Type: Void\n"
      ]
     },
     "execution_count": 6,
     "metadata": {},
     "output_type": "execute_result"
    }
   ],
   "source": [
    "riemannConformalDraw: (C -> C, S, S, PI, PI, String) -> VIEW3D"
   ]
  },
  {
   "cell_type": "markdown",
   "metadata": {},
   "source": [
    " Plot the coordinate grid using adaptive plotting for the coordinate\n",
    " lines, and drawing tubes around the lines.\n"
   ]
  },
  {
   "cell_type": "code",
   "execution_count": 7,
   "metadata": {
    "collapsed": false
   },
   "outputs": [
    {
     "data": {
      "text/plain": [
       "                                                                   Type: Void\n"
      ]
     },
     "execution_count": 7,
     "metadata": {},
     "output_type": "execute_result"
    }
   ],
   "source": [
    "riemannConformalDraw(f, rRange, tRange, rSteps, tSteps, coord) ==\n",
    "  transformC :=\n",
    "    coord = \"polar\" => polar2Complex\n",
    "    cartesian2Complex\n",
    "  sp := createThreeSpace()\n",
    "  cm := makeRiemannConformalMap(f, transformC)\n",
    "  adaptGrid(sp, cm, rRange, tRange, rSteps, tSteps)\n",
    "  -- add an invisible point at the north pole for scaling\n",
    "  curve(sp, [point [0,0,2.0@DoubleFloat,0], point [0,0, 2.0@DoubleFloat,0]])\n",
    "  makeViewport3D(sp, \"Conformal Map on the Riemann Sphere\")"
   ]
  },
  {
   "cell_type": "code",
   "execution_count": 8,
   "metadata": {
    "collapsed": false
   },
   "outputs": [
    {
     "name": "stderr",
     "output_type": "stream",
     "text": [
      " \n",
      "   Cannot convert the value from type Variable(vRange) to Segment(Float\n",
      "      ) .\n",
      "\n"
     ]
    },
    {
     "data": {
      "text/plain": [
       "error\n"
      ]
     },
     "execution_count": 8,
     "metadata": {},
     "output_type": "execute_result"
    }
   ],
   "source": [
    "    makeObject(c, vRange::Segment Float, colorFunction == cf, space == sp, _\n",
    "               tubeRadius == 0.02,  tubePoints == 6)\n"
   ]
  },
  {
   "cell_type": "code",
   "execution_count": 9,
   "metadata": {
    "collapsed": false
   },
   "outputs": [
    {
     "name": "stderr",
     "output_type": "stream",
     "text": [
      " \n",
      "   Cannot convert the value from type Variable(uRange) to Segment(Float\n",
      "      ) .\n",
      "\n"
     ]
    },
    {
     "data": {
      "text/plain": [
       "error\n"
      ]
     },
     "execution_count": 9,
     "metadata": {},
     "output_type": "execute_result"
    }
   ],
   "source": [
    "    makeObject(c, uRange::Segment Float, colorFunction == cf, space == sp, _\n",
    "               tubeRadius == 0.02,  tubePoints == 6)\n"
   ]
  },
  {
   "cell_type": "markdown",
   "metadata": {},
   "source": [
    " map a point in the complex plane to the Riemann sphere.\n"
   ]
  },
  {
   "cell_type": "code",
   "execution_count": 10,
   "metadata": {
    "collapsed": false
   },
   "outputs": [
    {
     "data": {
      "text/plain": [
       "                                                                   Type: Void\n"
      ]
     },
     "execution_count": 10,
     "metadata": {},
     "output_type": "execute_result"
    }
   ],
   "source": [
    "adaptGrid(sp, f, uRange, vRange,  uSteps, vSteps) ==\n",
    "  delU := (hi(uRange) - lo(uRange))/uSteps\n",
    "  delV := (hi(vRange) - lo(vRange))/vSteps\n",
    "  uSteps := uSteps + 1; vSteps := vSteps + 1\n",
    "  u := lo uRange\n",
    "  -- draw the coodinate lines in the v direction\n",
    "  for i in 1..uSteps repeat\n",
    "    -- create a curve 'c' which fixes the current value of 'u'\n",
    "    c := curryLeft(f,u)\n",
    "    cf := (t:DoubleFloat):DoubleFloat +-> 0\n",
    "    -- draw the 'v' coordinate line\n",
    "    u := u + delU\n",
    "  v := lo vRange\n",
    "  -- draw the coodinate lines in the u direction\n",
    "  for i in 1..vSteps repeat\n",
    "    -- create a curve 'c' which fixes the current value of 'v'\n",
    "    c := curryRight(f,v)\n",
    "    cf := (t:DoubleFloat):DoubleFloat +-> 1\n",
    "    -- draw the 'u' coordinate line\n",
    "    v := v + delV\n",
    "  void()"
   ]
  },
  {
   "cell_type": "markdown",
   "metadata": {},
   "source": [
    " convert cartesian coordinates to cartesian form complex\n"
   ]
  },
  {
   "cell_type": "code",
   "execution_count": 11,
   "metadata": {
    "collapsed": false
   },
   "outputs": [
    {
     "data": {
      "text/plain": [
       "                                                                   Type: Void\n"
      ]
     },
     "execution_count": 11,
     "metadata": {},
     "output_type": "execute_result"
    }
   ],
   "source": [
    "riemannTransform(z) ==\n",
    "  r := sqrt norm z\n",
    "  cosTheta := (real z)/r\n",
    "  sinTheta := (imag z)/r\n",
    "  cp := 4*r/(4+r^2)\n",
    "  sp := sqrt(1-cp*cp)\n",
    "  if r>2 then sp := -sp\n",
    "  point [cosTheta*cp, sinTheta*cp, -sp + 1]"
   ]
  },
  {
   "cell_type": "markdown",
   "metadata": {},
   "source": [
    " convert polar coordinates to cartesian form complex\n"
   ]
  },
  {
   "cell_type": "code",
   "execution_count": 12,
   "metadata": {
    "collapsed": false
   },
   "outputs": [
    {
     "name": "stdout",
     "output_type": "stream",
     "text": [
      "   Function declaration cartesian2Complex : (DoubleFloat,DoubleFloat)\n",
      "       -> Complex(DoubleFloat) has been added to workspace.\n"
     ]
    },
    {
     "data": {
      "text/plain": [
       "                                                                   Type: Void\n"
      ]
     },
     "execution_count": 12,
     "metadata": {},
     "output_type": "execute_result"
    }
   ],
   "source": [
    "cartesian2Complex(r:DoubleFloat, i:DoubleFloat):C == complex(r, i)"
   ]
  },
  {
   "cell_type": "markdown",
   "metadata": {},
   "source": [
    " convert a complex function into a mapping from (DoubleFloat,DoubleFloat) to R3 in the\n",
    " complex plane.\n"
   ]
  },
  {
   "cell_type": "code",
   "execution_count": 13,
   "metadata": {
    "collapsed": false
   },
   "outputs": [
    {
     "name": "stdout",
     "output_type": "stream",
     "text": [
      "   Function declaration polar2Complex : (DoubleFloat,DoubleFloat) -> \n",
      "      Complex(DoubleFloat) has been added to workspace.\n"
     ]
    },
    {
     "data": {
      "text/plain": [
       "                                                                   Type: Void\n"
      ]
     },
     "execution_count": 13,
     "metadata": {},
     "output_type": "execute_result"
    }
   ],
   "source": [
    "polar2Complex(r:DoubleFloat, th:DoubleFloat):C == complex(r*cos(th), r*sin(th))"
   ]
  },
  {
   "cell_type": "markdown",
   "metadata": {},
   "source": [
    " convert a complex function into a mapping from (DoubleFloat,DoubleFloat) to R3 on the\n",
    " Riemann sphere.\n"
   ]
  },
  {
   "cell_type": "code",
   "execution_count": 14,
   "metadata": {
    "collapsed": false
   },
   "outputs": [
    {
     "data": {
      "text/plain": [
       "                                                                   Type: Void\n"
      ]
     },
     "execution_count": 14,
     "metadata": {},
     "output_type": "execute_result"
    }
   ],
   "source": [
    "makeConformalMap(f, transformC) ==\n",
    "  (u:DoubleFloat,v:DoubleFloat):R3 +->\n",
    "    z := f transformC(u, v)\n",
    "    point [real z, imag z, 0.0@DoubleFloat]"
   ]
  },
  {
   "cell_type": "markdown",
   "metadata": {},
   "source": [
    " draw a picture of the mapping of the complex plane to the Riemann sphere.\n"
   ]
  },
  {
   "cell_type": "code",
   "execution_count": 15,
   "metadata": {
    "collapsed": false
   },
   "outputs": [
    {
     "data": {
      "text/plain": [
       "                                                                   Type: Void\n"
      ]
     },
     "execution_count": 15,
     "metadata": {},
     "output_type": "execute_result"
    }
   ],
   "source": [
    "makeRiemannConformalMap(f, transformC) ==\n",
    "  (u:DoubleFloat, v:DoubleFloat):R3 +-> riemannTransform f transformC(u, v)"
   ]
  },
  {
   "cell_type": "code",
   "execution_count": 16,
   "metadata": {
    "collapsed": false
   },
   "outputs": [
    {
     "data": {
      "text/plain": [
       "                                                                   Type: Void\n"
      ]
     },
     "execution_count": 16,
     "metadata": {},
     "output_type": "execute_result"
    }
   ],
   "source": [
    "riemannSphereDraw: (S, S, PI, PI, String) -> VIEW3D"
   ]
  },
  {
   "cell_type": "markdown",
   "metadata": {},
   "source": [
    " draw the lines which connect the points in the complex plane to\n",
    " the north pole of the Riemann sphere.\n"
   ]
  },
  {
   "cell_type": "code",
   "execution_count": 17,
   "metadata": {
    "collapsed": false
   },
   "outputs": [
    {
     "data": {
      "text/plain": [
       "                                                                   Type: Void\n"
      ]
     },
     "execution_count": 17,
     "metadata": {},
     "output_type": "execute_result"
    }
   ],
   "source": [
    "riemannSphereDraw(rRange, tRange, rSteps, tSteps, coord) ==\n",
    "  transformC :=\n",
    "    coord = \"polar\" => polar2Complex\n",
    "    cartesian2Complex\n",
    "  grid := (u:DoubleFloat , v:DoubleFloat): R3 +->\n",
    "    z1 := transformC(u, v)\n",
    "    point [real z1, imag z1, 0]\n",
    "  sp := createThreeSpace()\n",
    "  adaptGrid(sp, grid, rRange, tRange, rSteps, tSteps)\n",
    "  connectingLines(sp, grid, rRange, tRange, rSteps, tSteps)\n",
    "  makeObject(riemannSphere, 0..2*%pi, 0..%pi, space == sp)\n",
    "  f := (z:C):C +-> z\n",
    "  cm := makeRiemannConformalMap(f, transformC)\n",
    "  adaptGrid(sp, cm, rRange, tRange, rSteps, tSteps)\n",
    "  makeViewport3D(sp, \"Riemann Sphere\")"
   ]
  },
  {
   "cell_type": "code",
   "execution_count": 18,
   "metadata": {
    "collapsed": false
   },
   "outputs": [
    {
     "data": {
      "text/plain": [
       "                                                                   Type: Void\n"
      ]
     },
     "execution_count": 18,
     "metadata": {},
     "output_type": "execute_result"
    }
   ],
   "source": [
    "connectingLines(sp, f, uRange, vRange, uSteps, vSteps) ==\n",
    "  delU := (hi(uRange) - lo(uRange))/uSteps\n",
    "  delV := (hi(vRange) - lo(vRange))/vSteps\n",
    "  uSteps := uSteps + 1; vSteps := vSteps + 1\n",
    "  u := lo uRange\n",
    "  -- for each grid point\n",
    "  for i in 1..uSteps repeat\n",
    "    v := lo vRange\n",
    "    for j in 1..vSteps repeat\n",
    "      p1 := f(u,v)\n",
    "      p2 := riemannTransform complex(p1.1, p1.2)\n",
    "      fun := lineFromTo(p1,p2)\n",
    "      cf := (t:DoubleFloat):DoubleFloat +-> 3\n",
    "      makeObject(fun, 0..1, space == sp, tubePoints == 4, tubeRadius == 0.01,\n",
    "                 colorFunction == cf)\n",
    "      v := v + delV\n",
    "    u := u + delU\n",
    "  void()"
   ]
  },
  {
   "cell_type": "markdown",
   "metadata": {},
   "source": [
    " create a line functions which goeas from p1 to p2 as its paramter\n",
    " goes from 0 to 1.\n"
   ]
  },
  {
   "cell_type": "code",
   "execution_count": 19,
   "metadata": {
    "collapsed": false
   },
   "outputs": [
    {
     "data": {
      "text/plain": [
       "                                                                   Type: Void\n"
      ]
     },
     "execution_count": 19,
     "metadata": {},
     "output_type": "execute_result"
    }
   ],
   "source": [
    "riemannSphere(u,v) ==\n",
    "  sv := sin(v)\n",
    "  0.99@DoubleFloat*(point [cos(u)*sv, sin(u)*sv, cos(v),0.0@DoubleFloat]) +\n",
    "    point [0.0@DoubleFloat, 0.0@DoubleFloat, 1.0@DoubleFloat, 4.0@DoubleFloat]"
   ]
  },
  {
   "cell_type": "code",
   "execution_count": 20,
   "metadata": {
    "collapsed": false
   },
   "outputs": [
    {
     "data": {
      "text/plain": [
       "                                                                   Type: Void\n"
      ]
     },
     "execution_count": 20,
     "metadata": {},
     "output_type": "execute_result"
    }
   ],
   "source": [
    "lineFromTo(p1, p2) ==\n",
    "  d := p2 - p1\n",
    "  (t:DoubleFloat):Point DoubleFloat +-> p1 + t*d"
   ]
  },
  {
   "cell_type": "code",
   "execution_count": 21,
   "metadata": {
    "collapsed": false
   },
   "outputs": [
    {
     "name": "stderr",
     "output_type": "stream",
     "text": [
      "INDEX-TOO-LARGE-ERROR: \n",
      "  #<SB-KERNEL:INDEX-TOO-LARGE-ERROR expected-type: (INTEGER 0 (0)) datum: 0>\n"
     ]
    },
    {
     "data": {
      "text/plain": []
     },
     "execution_count": 21,
     "metadata": {},
     "output_type": "execute_result"
    }
   ],
   "source": []
  }
 ],
 "metadata": {
  "kernelspec": {
   "display_name": "FriCAS",
   "language": "spad",
   "name": "ifricas"
  },
  "language_info": {
   "codemirror_mode": "spad",
   "mimetype": "text/x-spad",
   "name": "SPAD",
   "pygments_lexer": "spad",
   "version": "1.2.6"
  },
  "name": "conformal.ipynb"
 },
 "nbformat": 4,
 "nbformat_minor": 0
}