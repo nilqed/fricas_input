{
 "cells": [
  {
   "cell_type": "markdown",
   "metadata": {},
   "source": [
    "Copyright The Numerical Algorithms Group Limited 1996.\n"
   ]
  },
  {
   "cell_type": "code",
   "execution_count": 0,
   "metadata": {
    "collapsed": false
   },
   "outputs": [
    {
     "name": "stdout",
     "output_type": "stream",
     "text": [
      "   )library cannot find the file herm.\n",
      "\n"
     ]
    },
    {
     "data": {
      "text/plain": []
     },
     "execution_count": 0,
     "metadata": {},
     "output_type": "execute_result"
    }
   ],
   "source": [
    ")lib $TEST_AXIOMXL/herm"
   ]
  },
  {
   "cell_type": "markdown",
   "metadata": {},
   "source": [
    "       []\n"
   ]
  },
  {
   "cell_type": "code",
   "execution_count": 1,
   "metadata": {
    "collapsed": false
   },
   "outputs": [
    {
     "name": "stderr",
     "output_type": "stream",
     "text": [
      "   There are no library operations named pHS \n",
      "      Use HyperDoc Browse or issue\n",
      "                                )what op pHS\n",
      "      to learn if there is any operation containing \" pHS \" in its \n",
      "      name.\n",
      " \n",
      "   Cannot find a definition or applicable library operation named pHS \n",
      "      with argument type(s) \n",
      "                                List(Integer)\n",
      "      \n",
      "      Perhaps you should use \"@\" to indicate the required return type, \n",
      "      or \"$\" to specify which version of the function you need.\n",
      "\n"
     ]
    },
    {
     "data": {
      "text/plain": [
       "error\n"
      ]
     },
     "execution_count": 1,
     "metadata": {},
     "output_type": "execute_result"
    }
   ],
   "source": [
    "h0 := pHS([] :: List INT)"
   ]
  },
  {
   "cell_type": "markdown",
   "metadata": {},
   "source": [
    "       [1]\n"
   ]
  },
  {
   "cell_type": "code",
   "execution_count": 2,
   "metadata": {
    "collapsed": false
   },
   "outputs": [
    {
     "name": "stdout",
     "output_type": "stream",
     "text": [
      "Warning: HyperTeX macro table not found\n"
     ]
    },
    {
     "data": {
      "text/plain": [
       "   pHS\n",
       "      1\n",
       "                                                                 Type: Symbol\n"
      ]
     },
     "execution_count": 2,
     "metadata": {},
     "output_type": "execute_result"
    }
   ],
   "source": [
    "h1 := pHS [1]"
   ]
  },
  {
   "cell_type": "markdown",
   "metadata": {},
   "source": [
    "       [1,2]\n"
   ]
  },
  {
   "cell_type": "code",
   "execution_count": 3,
   "metadata": {
    "collapsed": false
   },
   "outputs": [
    {
     "data": {
      "text/plain": [
       "   pHS\n",
       "      1,2\n",
       "                                                                 Type: Symbol\n"
      ]
     },
     "execution_count": 3,
     "metadata": {},
     "output_type": "execute_result"
    }
   ],
   "source": [
    "h2 := pHS [1,2]"
   ]
  },
  {
   "cell_type": "markdown",
   "metadata": {},
   "source": [
    "       [1,2,3]\n"
   ]
  },
  {
   "cell_type": "code",
   "execution_count": 4,
   "metadata": {
    "collapsed": false
   },
   "outputs": [
    {
     "data": {
      "text/plain": [
       "   pHS\n",
       "      1,2,3\n",
       "                                                                 Type: Symbol\n"
      ]
     },
     "execution_count": 4,
     "metadata": {},
     "output_type": "execute_result"
    }
   ],
   "source": [
    "h3 := pHS [1,2,3]"
   ]
  },
  {
   "cell_type": "markdown",
   "metadata": {},
   "source": [
    "       [1,2,3,4]\n"
   ]
  },
  {
   "cell_type": "code",
   "execution_count": 5,
   "metadata": {
    "collapsed": false
   },
   "outputs": [
    {
     "data": {
      "text/plain": [
       "   pHS\n",
       "      1,2,3,4\n",
       "                                                                 Type: Symbol\n"
      ]
     },
     "execution_count": 5,
     "metadata": {},
     "output_type": "execute_result"
    }
   ],
   "source": [
    "h4 := pHS [1,2,3,4]"
   ]
  },
  {
   "cell_type": "markdown",
   "metadata": {},
   "source": [
    "       [1,2,3,4,5]\n"
   ]
  },
  {
   "cell_type": "code",
   "execution_count": 6,
   "metadata": {
    "collapsed": false
   },
   "outputs": [
    {
     "data": {
      "text/plain": [
       "   pHS\n",
       "      1,2,3,4,5\n",
       "                                                                 Type: Symbol\n"
      ]
     },
     "execution_count": 6,
     "metadata": {},
     "output_type": "execute_result"
    }
   ],
   "source": [
    "h5 := pHS [1,2,3,4,5]"
   ]
  },
  {
   "cell_type": "markdown",
   "metadata": {},
   "source": [
    "       []\n"
   ]
  },
  {
   "cell_type": "code",
   "execution_count": 7,
   "metadata": {
    "collapsed": false
   },
   "outputs": [
    {
     "data": {
      "text/plain": [
       "   h0\n",
       "                                                    Type: Polynomial(Integer)\n"
      ]
     },
     "execution_count": 7,
     "metadata": {},
     "output_type": "execute_result"
    }
   ],
   "source": [
    "f0 := expand h0"
   ]
  },
  {
   "cell_type": "markdown",
   "metadata": {},
   "source": [
    "       [1]\n"
   ]
  },
  {
   "cell_type": "code",
   "execution_count": 8,
   "metadata": {
    "collapsed": false
   },
   "outputs": [
    {
     "data": {
      "text/plain": [
       "   pHS\n",
       "      1\n",
       "                                                    Type: Polynomial(Integer)\n"
      ]
     },
     "execution_count": 8,
     "metadata": {},
     "output_type": "execute_result"
    }
   ],
   "source": [
    "f1 := expand h1"
   ]
  },
  {
   "cell_type": "markdown",
   "metadata": {},
   "source": [
    "       [1,2]\n"
   ]
  },
  {
   "cell_type": "code",
   "execution_count": 9,
   "metadata": {
    "collapsed": false
   },
   "outputs": [
    {
     "data": {
      "text/plain": [
       "   pHS\n",
       "      1,2\n",
       "                                                    Type: Polynomial(Integer)\n"
      ]
     },
     "execution_count": 9,
     "metadata": {},
     "output_type": "execute_result"
    }
   ],
   "source": [
    "f2 := expand h2"
   ]
  },
  {
   "cell_type": "markdown",
   "metadata": {},
   "source": [
    "       [1,2 + 3%i,2 - 3%i]\n"
   ]
  },
  {
   "cell_type": "code",
   "execution_count": 10,
   "metadata": {
    "collapsed": false
   },
   "outputs": [
    {
     "data": {
      "text/plain": [
       "   pHS\n",
       "      1,2,3\n",
       "                                                    Type: Polynomial(Integer)\n"
      ]
     },
     "execution_count": 10,
     "metadata": {},
     "output_type": "execute_result"
    }
   ],
   "source": [
    "f3 := expand h3"
   ]
  },
  {
   "cell_type": "markdown",
   "metadata": {},
   "source": [
    "       [1,2 + 4%i,3,2 - 4%i]\n"
   ]
  },
  {
   "cell_type": "code",
   "execution_count": 11,
   "metadata": {
    "collapsed": false
   },
   "outputs": [
    {
     "data": {
      "text/plain": [
       "   pHS\n",
       "      1,2,3,4\n",
       "                                                    Type: Polynomial(Integer)\n"
      ]
     },
     "execution_count": 11,
     "metadata": {},
     "output_type": "execute_result"
    }
   ],
   "source": [
    "f4 := expand h4"
   ]
  },
  {
   "cell_type": "markdown",
   "metadata": {},
   "source": [
    "       [1,2 + 5%i,3 + 4%i,3 - 4%i,2 - 5%i]\n"
   ]
  },
  {
   "cell_type": "code",
   "execution_count": 12,
   "metadata": {
    "collapsed": false
   },
   "outputs": [
    {
     "data": {
      "text/plain": [
       "   pHS\n",
       "      1,2,3,4,5\n",
       "                                                    Type: Polynomial(Integer)\n"
      ]
     },
     "execution_count": 12,
     "metadata": {},
     "output_type": "execute_result"
    }
   ],
   "source": [
    "f5 := expand h5"
   ]
  },
  {
   "cell_type": "markdown",
   "metadata": {},
   "source": [
    "       []\n"
   ]
  },
  {
   "cell_type": "code",
   "execution_count": 13,
   "metadata": {
    "collapsed": false
   },
   "outputs": [
    {
     "name": "stderr",
     "output_type": "stream",
     "text": [
      "   There are no library operations named packHS \n",
      "      Use HyperDoc Browse or issue\n",
      "                               )what op packHS\n",
      "      to learn if there is any operation containing \" packHS \" in its \n",
      "      name.\n",
      " \n",
      "   Cannot find a definition or applicable library operation named \n",
      "      packHS with argument type(s) \n",
      "                             Polynomial(Integer)\n",
      "      \n",
      "      Perhaps you should use \"@\" to indicate the required return type, \n",
      "      or \"$\" to specify which version of the function you need.\n",
      "\n"
     ]
    },
    {
     "data": {
      "text/plain": [
       "error\n"
      ]
     },
     "execution_count": 13,
     "metadata": {},
     "output_type": "execute_result"
    }
   ],
   "source": [
    "packHS f0"
   ]
  },
  {
   "cell_type": "markdown",
   "metadata": {},
   "source": [
    "       [1]\n"
   ]
  },
  {
   "cell_type": "code",
   "execution_count": 14,
   "metadata": {
    "collapsed": false
   },
   "outputs": [
    {
     "name": "stderr",
     "output_type": "stream",
     "text": [
      "   There are no library operations named packHS \n",
      "      Use HyperDoc Browse or issue\n",
      "                               )what op packHS\n",
      "      to learn if there is any operation containing \" packHS \" in its \n",
      "      name.\n",
      " \n",
      "   Cannot find a definition or applicable library operation named \n",
      "      packHS with argument type(s) \n",
      "                             Polynomial(Integer)\n",
      "      \n",
      "      Perhaps you should use \"@\" to indicate the required return type, \n",
      "      or \"$\" to specify which version of the function you need.\n",
      "\n"
     ]
    },
    {
     "data": {
      "text/plain": [
       "error\n"
      ]
     },
     "execution_count": 14,
     "metadata": {},
     "output_type": "execute_result"
    }
   ],
   "source": [
    "packHS f1"
   ]
  },
  {
   "cell_type": "markdown",
   "metadata": {},
   "source": [
    "       [1,2]\n"
   ]
  },
  {
   "cell_type": "code",
   "execution_count": 15,
   "metadata": {
    "collapsed": false
   },
   "outputs": [
    {
     "name": "stderr",
     "output_type": "stream",
     "text": [
      "   There are no library operations named packHS \n",
      "      Use HyperDoc Browse or issue\n",
      "                               )what op packHS\n",
      "      to learn if there is any operation containing \" packHS \" in its \n",
      "      name.\n",
      " \n",
      "   Cannot find a definition or applicable library operation named \n",
      "      packHS with argument type(s) \n",
      "                             Polynomial(Integer)\n",
      "      \n",
      "      Perhaps you should use \"@\" to indicate the required return type, \n",
      "      or \"$\" to specify which version of the function you need.\n",
      "\n"
     ]
    },
    {
     "data": {
      "text/plain": [
       "error\n"
      ]
     },
     "execution_count": 15,
     "metadata": {},
     "output_type": "execute_result"
    }
   ],
   "source": [
    "packHS f2"
   ]
  },
  {
   "cell_type": "markdown",
   "metadata": {},
   "source": [
    "       [1,2,3]\n"
   ]
  },
  {
   "cell_type": "code",
   "execution_count": 16,
   "metadata": {
    "collapsed": false
   },
   "outputs": [
    {
     "name": "stderr",
     "output_type": "stream",
     "text": [
      "   There are no library operations named packHS \n",
      "      Use HyperDoc Browse or issue\n",
      "                               )what op packHS\n",
      "      to learn if there is any operation containing \" packHS \" in its \n",
      "      name.\n",
      " \n",
      "   Cannot find a definition or applicable library operation named \n",
      "      packHS with argument type(s) \n",
      "                             Polynomial(Integer)\n",
      "      \n",
      "      Perhaps you should use \"@\" to indicate the required return type, \n",
      "      or \"$\" to specify which version of the function you need.\n",
      "\n"
     ]
    },
    {
     "data": {
      "text/plain": [
       "error\n"
      ]
     },
     "execution_count": 16,
     "metadata": {},
     "output_type": "execute_result"
    }
   ],
   "source": [
    "packHS f3"
   ]
  },
  {
   "cell_type": "markdown",
   "metadata": {},
   "source": [
    "       [1,2,3,4]\n"
   ]
  },
  {
   "cell_type": "code",
   "execution_count": 17,
   "metadata": {
    "collapsed": false
   },
   "outputs": [
    {
     "name": "stderr",
     "output_type": "stream",
     "text": [
      "   There are no library operations named packHS \n",
      "      Use HyperDoc Browse or issue\n",
      "                               )what op packHS\n",
      "      to learn if there is any operation containing \" packHS \" in its \n",
      "      name.\n",
      " \n",
      "   Cannot find a definition or applicable library operation named \n",
      "      packHS with argument type(s) \n",
      "                             Polynomial(Integer)\n",
      "      \n",
      "      Perhaps you should use \"@\" to indicate the required return type, \n",
      "      or \"$\" to specify which version of the function you need.\n",
      "\n"
     ]
    },
    {
     "data": {
      "text/plain": [
       "error\n"
      ]
     },
     "execution_count": 17,
     "metadata": {},
     "output_type": "execute_result"
    }
   ],
   "source": [
    "packHS f4"
   ]
  },
  {
   "cell_type": "markdown",
   "metadata": {},
   "source": [
    "       [1,2,3,4,5]\n"
   ]
  },
  {
   "cell_type": "code",
   "execution_count": 18,
   "metadata": {
    "collapsed": false
   },
   "outputs": [
    {
     "name": "stderr",
     "output_type": "stream",
     "text": [
      "   There are no library operations named packHS \n",
      "      Use HyperDoc Browse or issue\n",
      "                               )what op packHS\n",
      "      to learn if there is any operation containing \" packHS \" in its \n",
      "      name.\n",
      " \n",
      "   Cannot find a definition or applicable library operation named \n",
      "      packHS with argument type(s) \n",
      "                             Polynomial(Integer)\n",
      "      \n",
      "      Perhaps you should use \"@\" to indicate the required return type, \n",
      "      or \"$\" to specify which version of the function you need.\n",
      "\n"
     ]
    },
    {
     "data": {
      "text/plain": [
       "error\n"
      ]
     },
     "execution_count": 18,
     "metadata": {},
     "output_type": "execute_result"
    }
   ],
   "source": [
    "packHS f5"
   ]
  },
  {
   "cell_type": "markdown",
   "metadata": {},
   "source": [
    " Error signalled from user code:\n",
    "    The argument of packHS is not Hermitian - the first element must\n",
    "    be real.\n"
   ]
  },
  {
   "cell_type": "code",
   "execution_count": 19,
   "metadata": {
    "collapsed": false
   },
   "outputs": [
    {
     "name": "stderr",
     "output_type": "stream",
     "text": [
      "   There are no library operations named packHS \n",
      "      Use HyperDoc Browse or issue\n",
      "                               )what op packHS\n",
      "      to learn if there is any operation containing \" packHS \" in its \n",
      "      name.\n",
      " \n",
      "   Cannot find a definition or applicable library operation named \n",
      "      packHS with argument type(s) \n",
      "                          Vector(Complex(Integer))\n",
      "      \n",
      "      Perhaps you should use \"@\" to indicate the required return type, \n",
      "      or \"$\" to specify which version of the function you need.\n",
      "\n"
     ]
    },
    {
     "data": {
      "text/plain": [
       "error\n"
      ]
     },
     "execution_count": 19,
     "metadata": {},
     "output_type": "execute_result"
    }
   ],
   "source": [
    "packHS vector[%i,3,3,3]"
   ]
  },
  {
   "cell_type": "markdown",
   "metadata": {},
   "source": [
    " Error signalled from user code:\n",
    "    The argument of packHS is not Hermitian - elements 2 and 4 are\n",
    "    not conjugate.\n"
   ]
  },
  {
   "cell_type": "code",
   "execution_count": 20,
   "metadata": {
    "collapsed": false
   },
   "outputs": [
    {
     "name": "stderr",
     "output_type": "stream",
     "text": [
      "   There are no library operations named packHS \n",
      "      Use HyperDoc Browse or issue\n",
      "                               )what op packHS\n",
      "      to learn if there is any operation containing \" packHS \" in its \n",
      "      name.\n",
      " \n",
      "   Cannot find a definition or applicable library operation named \n",
      "      packHS with argument type(s) \n",
      "                           Vector(PositiveInteger)\n",
      "      \n",
      "      Perhaps you should use \"@\" to indicate the required return type, \n",
      "      or \"$\" to specify which version of the function you need.\n",
      "\n"
     ]
    },
    {
     "data": {
      "text/plain": [
       "error\n"
      ]
     },
     "execution_count": 20,
     "metadata": {},
     "output_type": "execute_result"
    }
   ],
   "source": [
    "packHS vector [1, 3, 5, 7]"
   ]
  },
  {
   "cell_type": "markdown",
   "metadata": {},
   "source": [
    " Error signalled from user code:\n",
    "    The argument of packHS is not Hermitian - element 3 must be real\n",
    "    to be self-conjugate.\n"
   ]
  },
  {
   "cell_type": "code",
   "execution_count": 21,
   "metadata": {
    "collapsed": false
   },
   "outputs": [
    {
     "data": {
      "text/plain": [
       "   packHS\n",
       "         1,3,%i,3\n",
       "                                                                 Type: Symbol\n"
      ]
     },
     "execution_count": 21,
     "metadata": {},
     "output_type": "execute_result"
    }
   ],
   "source": [
    "packHS [1, 3, %i, 3]"
   ]
  },
  {
   "cell_type": "markdown",
   "metadata": {},
   "source": [
    "       []\n"
   ]
  },
  {
   "cell_type": "code",
   "execution_count": 22,
   "metadata": {
    "collapsed": false
   },
   "outputs": [
    {
     "name": "stderr",
     "output_type": "stream",
     "text": [
      "   There are no library operations named conjHerm \n",
      "      Use HyperDoc Browse or issue\n",
      "                              )what op conjHerm\n",
      "      to learn if there is any operation containing \" conjHerm \" in its\n",
      "      name.\n",
      " \n",
      "   Cannot find a definition or applicable library operation named \n",
      "      conjHerm with argument type(s) \n",
      "                                Variable(h0)\n",
      "      \n",
      "      Perhaps you should use \"@\" to indicate the required return type, \n",
      "      or \"$\" to specify which version of the function you need.\n",
      "\n"
     ]
    },
    {
     "data": {
      "text/plain": [
       "error\n"
      ]
     },
     "execution_count": 22,
     "metadata": {},
     "output_type": "execute_result"
    }
   ],
   "source": [
    "conjHerm h0"
   ]
  },
  {
   "cell_type": "markdown",
   "metadata": {},
   "source": [
    "       [1]\n"
   ]
  },
  {
   "cell_type": "code",
   "execution_count": 23,
   "metadata": {
    "collapsed": false
   },
   "outputs": [
    {
     "name": "stderr",
     "output_type": "stream",
     "text": [
      "   There are no library operations named conjHerm \n",
      "      Use HyperDoc Browse or issue\n",
      "                              )what op conjHerm\n",
      "      to learn if there is any operation containing \" conjHerm \" in its\n",
      "      name.\n",
      " \n",
      "   Cannot find a definition or applicable library operation named \n",
      "      conjHerm with argument type(s) \n",
      "                                   Symbol\n",
      "      \n",
      "      Perhaps you should use \"@\" to indicate the required return type, \n",
      "      or \"$\" to specify which version of the function you need.\n",
      "\n"
     ]
    },
    {
     "data": {
      "text/plain": [
       "error\n"
      ]
     },
     "execution_count": 23,
     "metadata": {},
     "output_type": "execute_result"
    }
   ],
   "source": [
    "conjHerm h1"
   ]
  },
  {
   "cell_type": "markdown",
   "metadata": {},
   "source": [
    "       [1,2]\n"
   ]
  },
  {
   "cell_type": "code",
   "execution_count": 24,
   "metadata": {
    "collapsed": false
   },
   "outputs": [
    {
     "name": "stderr",
     "output_type": "stream",
     "text": [
      "   There are no library operations named conjHerm \n",
      "      Use HyperDoc Browse or issue\n",
      "                              )what op conjHerm\n",
      "      to learn if there is any operation containing \" conjHerm \" in its\n",
      "      name.\n",
      " \n",
      "   Cannot find a definition or applicable library operation named \n",
      "      conjHerm with argument type(s) \n",
      "                                   Symbol\n",
      "      \n",
      "      Perhaps you should use \"@\" to indicate the required return type, \n",
      "      or \"$\" to specify which version of the function you need.\n",
      "\n"
     ]
    },
    {
     "data": {
      "text/plain": [
       "error\n"
      ]
     },
     "execution_count": 24,
     "metadata": {},
     "output_type": "execute_result"
    }
   ],
   "source": [
    "conjHerm h2"
   ]
  },
  {
   "cell_type": "markdown",
   "metadata": {},
   "source": [
    "       [1,2,- 3]\n"
   ]
  },
  {
   "cell_type": "code",
   "execution_count": 25,
   "metadata": {
    "collapsed": false
   },
   "outputs": [
    {
     "name": "stderr",
     "output_type": "stream",
     "text": [
      "   There are no library operations named conjHerm \n",
      "      Use HyperDoc Browse or issue\n",
      "                              )what op conjHerm\n",
      "      to learn if there is any operation containing \" conjHerm \" in its\n",
      "      name.\n",
      " \n",
      "   Cannot find a definition or applicable library operation named \n",
      "      conjHerm with argument type(s) \n",
      "                                   Symbol\n",
      "      \n",
      "      Perhaps you should use \"@\" to indicate the required return type, \n",
      "      or \"$\" to specify which version of the function you need.\n",
      "\n"
     ]
    },
    {
     "data": {
      "text/plain": [
       "error\n"
      ]
     },
     "execution_count": 25,
     "metadata": {},
     "output_type": "execute_result"
    }
   ],
   "source": [
    "conjHerm h3"
   ]
  },
  {
   "cell_type": "markdown",
   "metadata": {},
   "source": [
    "       [1,2,3,- 4]\n"
   ]
  },
  {
   "cell_type": "code",
   "execution_count": 26,
   "metadata": {
    "collapsed": false
   },
   "outputs": [
    {
     "name": "stderr",
     "output_type": "stream",
     "text": [
      "   There are no library operations named conjHerm \n",
      "      Use HyperDoc Browse or issue\n",
      "                              )what op conjHerm\n",
      "      to learn if there is any operation containing \" conjHerm \" in its\n",
      "      name.\n",
      " \n",
      "   Cannot find a definition or applicable library operation named \n",
      "      conjHerm with argument type(s) \n",
      "                                   Symbol\n",
      "      \n",
      "      Perhaps you should use \"@\" to indicate the required return type, \n",
      "      or \"$\" to specify which version of the function you need.\n",
      "\n"
     ]
    },
    {
     "data": {
      "text/plain": [
       "error\n"
      ]
     },
     "execution_count": 26,
     "metadata": {},
     "output_type": "execute_result"
    }
   ],
   "source": [
    "conjHerm h4"
   ]
  },
  {
   "cell_type": "markdown",
   "metadata": {},
   "source": [
    "       [1,2,3,- 4,- 5]\n"
   ]
  },
  {
   "cell_type": "code",
   "execution_count": 27,
   "metadata": {
    "collapsed": false
   },
   "outputs": [
    {
     "name": "stderr",
     "output_type": "stream",
     "text": [
      "   There are no library operations named conjHerm \n",
      "      Use HyperDoc Browse or issue\n",
      "                              )what op conjHerm\n",
      "      to learn if there is any operation containing \" conjHerm \" in its\n",
      "      name.\n",
      " \n",
      "   Cannot find a definition or applicable library operation named \n",
      "      conjHerm with argument type(s) \n",
      "                                   Symbol\n",
      "      \n",
      "      Perhaps you should use \"@\" to indicate the required return type, \n",
      "      or \"$\" to specify which version of the function you need.\n",
      "\n"
     ]
    },
    {
     "data": {
      "text/plain": [
       "error\n"
      ]
     },
     "execution_count": 27,
     "metadata": {},
     "output_type": "execute_result"
    }
   ],
   "source": [
    "conjHerm h5"
   ]
  },
  {
   "cell_type": "code",
   "execution_count": 28,
   "metadata": {
    "collapsed": false
   },
   "outputs": [
    {
     "data": {
      "text/plain": [
       "   End of tests\n",
       "                                                                   Type: Void\n"
      ]
     },
     "execution_count": 28,
     "metadata": {},
     "output_type": "execute_result"
    }
   ],
   "source": [
    "output \"End of tests\""
   ]
  },
  {
   "cell_type": "code",
   "execution_count": 29,
   "metadata": {
    "collapsed": false
   },
   "outputs": [
    {
     "name": "stderr",
     "output_type": "stream",
     "text": [
      "INDEX-TOO-LARGE-ERROR: \n",
      "  #<SB-KERNEL:INDEX-TOO-LARGE-ERROR expected-type: (INTEGER 0 (0)) datum: 0>\n"
     ]
    },
    {
     "data": {
      "text/plain": []
     },
     "execution_count": 29,
     "metadata": {},
     "output_type": "execute_result"
    }
   ],
   "source": []
  }
 ],
 "metadata": {
  "kernelspec": {
   "display_name": "FriCAS",
   "language": "spad",
   "name": "ifricas"
  },
  "language_info": {
   "codemirror_mode": "spad",
   "mimetype": "text/x-spad",
   "name": "SPAD",
   "pygments_lexer": "spad",
   "version": "1.2.6"
  },
  "name": "herm.ipynb"
 },
 "nbformat": 4,
 "nbformat_minor": 0
}