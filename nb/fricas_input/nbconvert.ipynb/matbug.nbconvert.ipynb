{
 "cells": [
  {
   "cell_type": "markdown",
   "metadata": {},
   "source": [
    "Copyright The Numerical Algorithms Group Limited 1996.\n"
   ]
  },
  {
   "cell_type": "code",
   "execution_count": 0,
   "metadata": {
    "collapsed": false
   },
   "outputs": [
    {
     "data": {
      "text/plain": [
       "   Matrix(SquareMatrix(2,Polynomial(Integer)))\n",
       "                                                                   Type: Type\n"
      ]
     },
     "execution_count": 0,
     "metadata": {},
     "output_type": "execute_result"
    }
   ],
   "source": [
    "msq := Matrix SquareMatrix(2,POLY INT)"
   ]
  },
  {
   "cell_type": "code",
   "execution_count": 1,
   "metadata": {
    "collapsed": false
   },
   "outputs": [
    {
     "name": "stdout",
     "output_type": "stream",
     "text": [
      "Warning: HyperTeX macro table not found\n"
     ]
    },
    {
     "data": {
      "text/plain": [
       "   ++0  0+  +0  0++\n",
       "   ||    |  |    ||\n",
       "   |+0  0+  +0  0+|\n",
       "   |              |\n",
       "   |+0  0+  +0  0+|\n",
       "   ||    |  |    ||\n",
       "   ++0  0+  +0  0++\n",
       "                            Type: Matrix(SquareMatrix(2,Polynomial(Integer)))\n"
      ]
     },
     "execution_count": 1,
     "metadata": {},
     "output_type": "execute_result"
    }
   ],
   "source": [
    "m : msq := zero(2,2)"
   ]
  },
  {
   "cell_type": "code",
   "execution_count": 2,
   "metadata": {
    "collapsed": false
   },
   "outputs": [
    {
     "data": {
      "text/plain": [
       "   +1  2+\n",
       "   |    |\n",
       "   +a  b+\n",
       "                                    Type: SquareMatrix(2,Polynomial(Integer))\n"
      ]
     },
     "execution_count": 2,
     "metadata": {},
     "output_type": "execute_result"
    }
   ],
   "source": [
    "m(1,1) := matrix([[1,2],[a,b]])"
   ]
  },
  {
   "cell_type": "code",
   "execution_count": 3,
   "metadata": {
    "collapsed": false
   },
   "outputs": [
    {
     "data": {
      "text/plain": [
       "   +a  b+\n",
       "   |    |\n",
       "   +2  b+\n",
       "                                    Type: SquareMatrix(2,Polynomial(Integer))\n"
      ]
     },
     "execution_count": 3,
     "metadata": {},
     "output_type": "execute_result"
    }
   ],
   "source": [
    "m(1,2) := matrix([[a,b],[2,b]])"
   ]
  },
  {
   "cell_type": "code",
   "execution_count": 4,
   "metadata": {
    "collapsed": false
   },
   "outputs": [
    {
     "data": {
      "text/plain": [
       "   +1  2+\n",
       "   |    |\n",
       "   +2  b+\n",
       "                                    Type: SquareMatrix(2,Polynomial(Integer))\n"
      ]
     },
     "execution_count": 4,
     "metadata": {},
     "output_type": "execute_result"
    }
   ],
   "source": [
    "m(2,2) := matrix([[1,2],[2,b]])"
   ]
  },
  {
   "cell_type": "code",
   "execution_count": 5,
   "metadata": {
    "collapsed": false
   },
   "outputs": [
    {
     "data": {
      "text/plain": [
       "   ++1  2+  +a  b++\n",
       "   ||    |  |    ||\n",
       "   |+a  b+  +2  b+|\n",
       "   |              |\n",
       "   |+0  0+  +1  2+|\n",
       "   ||    |  |    ||\n",
       "   ++0  0+  +2  b++\n",
       "                            Type: Matrix(SquareMatrix(2,Polynomial(Integer)))\n"
      ]
     },
     "execution_count": 5,
     "metadata": {},
     "output_type": "execute_result"
    }
   ],
   "source": [
    "m"
   ]
  },
  {
   "cell_type": "code",
   "execution_count": 6,
   "metadata": {
    "collapsed": false
   },
   "outputs": [
    {
     "data": {
      "text/plain": [
       "   +                    +              2           ++\n",
       "   |+2a + 1   2b + 2 +  |2b + 2a + 4  b  + 3b + 2a ||\n",
       "   ||                |  |                          ||\n",
       "   ||          2     |  |      2        2          ||\n",
       "   |+a b + a  b  + 2a+  +4b + a  + 2  2b  + a b + 4+|\n",
       "   |                                                |\n",
       "   |      +0  0+              +  5     2b + 2+      |\n",
       "   |      |    |              |              |      |\n",
       "   |      +0  0+              |         2    |      |\n",
       "   +                          +2b + 2  b  + 4+      +\n",
       "                            Type: Matrix(SquareMatrix(2,Polynomial(Integer)))\n"
      ]
     },
     "execution_count": 6,
     "metadata": {},
     "output_type": "execute_result"
    }
   ],
   "source": [
    "m*m"
   ]
  },
  {
   "cell_type": "code",
   "execution_count": 7,
   "metadata": {
    "collapsed": false
   },
   "outputs": [
    {
     "data": {
      "text/plain": [
       "   +                    +              2           ++\n",
       "   |+2a + 1   2b + 2 +  |2b + 2a + 4  b  + 3b + 2a ||\n",
       "   ||                |  |                          ||\n",
       "   ||          2     |  |      2        2          ||\n",
       "   |+a b + a  b  + 2a+  +4b + a  + 2  2b  + a b + 4+|\n",
       "   |                                                |\n",
       "   |      +0  0+              +  5     2b + 2+      |\n",
       "   |      |    |              |              |      |\n",
       "   |      +0  0+              |         2    |      |\n",
       "   +                          +2b + 2  b  + 4+      +\n",
       "                            Type: Matrix(SquareMatrix(2,Polynomial(Integer)))\n"
      ]
     },
     "execution_count": 7,
     "metadata": {},
     "output_type": "execute_result"
    }
   ],
   "source": [
    "m^2"
   ]
  },
  {
   "cell_type": "code",
   "execution_count": 8,
   "metadata": {
    "collapsed": false
   },
   "outputs": [
    {
     "data": {
      "text/plain": [
       "   [[matrix1,matrix2],[matrix3,matrix4]]\n",
       "                  +                        2              +\n",
       "                  |   2a b + 4a + 1      2b  + 2b + 4a + 2|\n",
       "   where matrix1= |                                       |\n",
       "                  |   2           2        3              |\n",
       "                  +a b  + a b + 2a  + a   b  + 4a b + 2a  +\n",
       "   and matrix2 =\n",
       "     +        2           2                    3     2                        +\n",
       "     |      2b  + 12b + 2a  + 7a + 8          b  + 5b  + (4a + 7)b + 4a + 8   |\n",
       "     |                                                                        |\n",
       "     |  2     2                2              3       2                  2    |\n",
       "     +6b  + (a  + 2a + 4)b + 2a  + 4a + 10  3b  + 2a b  + (3a + 12)b + 2a  + 4+\n",
       "                +0  0+\n",
       "   and matrix3= |    |\n",
       "                +0  0+\n",
       "                +                 2          +\n",
       "                |   4b + 9      2b  + 2b + 10|\n",
       "   and matrix4= |                            |\n",
       "                |  2              3          |\n",
       "                +2b  + 2b + 10   b  + 8b + 4 +\n",
       "                            Type: Matrix(SquareMatrix(2,Polynomial(Integer)))\n"
      ]
     },
     "execution_count": 8,
     "metadata": {},
     "output_type": "execute_result"
    }
   ],
   "source": [
    "m^3"
   ]
  },
  {
   "cell_type": "code",
   "execution_count": 9,
   "metadata": {
    "collapsed": false
   },
   "outputs": [
    {
     "data": {
      "text/plain": [
       "   [[matrix1,matrix2],[matrix3,matrix4]]\n",
       "                  +                        2              +\n",
       "                  |   2a b + 4a + 1      2b  + 2b + 4a + 2|\n",
       "   where matrix1= |                                       |\n",
       "                  |   2           2        3              |\n",
       "                  +a b  + a b + 2a  + a   b  + 4a b + 2a  +\n",
       "   and matrix2 =\n",
       "     +        2           2                    3     2                        +\n",
       "     |      2b  + 12b + 2a  + 7a + 8          b  + 5b  + (4a + 7)b + 4a + 8   |\n",
       "     |                                                                        |\n",
       "     |  2     2                2              3       2                  2    |\n",
       "     +6b  + (a  + 2a + 4)b + 2a  + 4a + 10  3b  + 2a b  + (3a + 12)b + 2a  + 4+\n",
       "                +0  0+\n",
       "   and matrix3= |    |\n",
       "                +0  0+\n",
       "                +                 2          +\n",
       "                |   4b + 9      2b  + 2b + 10|\n",
       "   and matrix4= |                            |\n",
       "                |  2              3          |\n",
       "                +2b  + 2b + 10   b  + 8b + 4 +\n",
       "                            Type: Matrix(SquareMatrix(2,Polynomial(Integer)))\n"
      ]
     },
     "execution_count": 9,
     "metadata": {},
     "output_type": "execute_result"
    }
   ],
   "source": [
    "(m*m)*m"
   ]
  },
  {
   "cell_type": "code",
   "execution_count": 10,
   "metadata": {
    "collapsed": false
   },
   "outputs": [
    {
     "data": {
      "text/plain": [
       "   +                    +              2           ++\n",
       "   |+2a + 1   2b + 2 +  |2b + 2a + 4  b  + 3b + 2a ||\n",
       "   ||                |  |                          ||\n",
       "   ||          2     |  |      2        2          ||\n",
       "   |+a b + a  b  + 2a+  +4b + a  + 2  2b  + a b + 4+|\n",
       "   |                                                |\n",
       "   |      +0  0+              +  5     2b + 2+      |\n",
       "   |      |    |              |              |      |\n",
       "   |      +0  0+              |         2    |      |\n",
       "   +                          +2b + 2  b  + 4+      +\n",
       "                            Type: Matrix(SquareMatrix(2,Polynomial(Integer)))\n"
      ]
     },
     "execution_count": 10,
     "metadata": {},
     "output_type": "execute_result"
    }
   ],
   "source": [
    "mm:=m*m"
   ]
  },
  {
   "cell_type": "code",
   "execution_count": 11,
   "metadata": {
    "collapsed": false
   },
   "outputs": [
    {
     "data": {
      "text/plain": [
       "   [[matrix1,matrix2],[matrix3,matrix4]]\n",
       "                  +                        2              +\n",
       "                  |   2a b + 4a + 1      2b  + 2b + 4a + 2|\n",
       "   where matrix1= |                                       |\n",
       "                  |   2           2        3              |\n",
       "                  +a b  + a b + 2a  + a   b  + 4a b + 2a  +\n",
       "   and matrix2 =\n",
       "     +        2           2                    3     2                        +\n",
       "     |      2b  + 12b + 2a  + 7a + 8          b  + 5b  + (4a + 7)b + 4a + 8   |\n",
       "     |                                                                        |\n",
       "     |  2     2                2              3       2                  2    |\n",
       "     +6b  + (a  + 2a + 4)b + 2a  + 4a + 10  3b  + 2a b  + (3a + 12)b + 2a  + 4+\n",
       "                +0  0+\n",
       "   and matrix3= |    |\n",
       "                +0  0+\n",
       "                +                 2          +\n",
       "                |   4b + 9      2b  + 2b + 10|\n",
       "   and matrix4= |                            |\n",
       "                |  2              3          |\n",
       "                +2b  + 2b + 10   b  + 8b + 4 +\n",
       "                            Type: Matrix(SquareMatrix(2,Polynomial(Integer)))\n"
      ]
     },
     "execution_count": 11,
     "metadata": {},
     "output_type": "execute_result"
    }
   ],
   "source": [
    "mm*m"
   ]
  },
  {
   "cell_type": "code",
   "execution_count": 12,
   "metadata": {
    "collapsed": false
   },
   "outputs": [
    {
     "name": "stderr",
     "output_type": "stream",
     "text": [
      "INDEX-TOO-LARGE-ERROR: \n",
      "  #<SB-KERNEL:INDEX-TOO-LARGE-ERROR expected-type: (INTEGER 0 (0)) datum: 0>\n"
     ]
    },
    {
     "data": {
      "text/plain": []
     },
     "execution_count": 12,
     "metadata": {},
     "output_type": "execute_result"
    }
   ],
   "source": []
  }
 ],
 "metadata": {
  "kernelspec": {
   "display_name": "FriCAS",
   "language": "spad",
   "name": "ifricas"
  },
  "language_info": {
   "codemirror_mode": "spad",
   "mimetype": "text/x-spad",
   "name": "SPAD",
   "pygments_lexer": "spad",
   "version": "1.2.6"
  },
  "name": "matbug.ipynb"
 },
 "nbformat": 4,
 "nbformat_minor": 0
}