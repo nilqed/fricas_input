{
 "cells": [
  {
   "cell_type": "markdown",
   "metadata": {},
   "source": [
    "Copyright The Numerical Algorithms Group Limited 1991.\n"
   ]
  },
  {
   "cell_type": "code",
   "execution_count": 0,
   "metadata": {
    "collapsed": false
   },
   "outputs": [
    {
     "name": "stdout",
     "output_type": "stream",
     "text": [
      "   All user variables and function definitions have been cleared.\n"
     ]
    },
    {
     "data": {
      "text/plain": []
     },
     "execution_count": 0,
     "metadata": {},
     "output_type": "execute_result"
    }
   ],
   "source": [
    ")cl all"
   ]
  },
  {
   "cell_type": "code",
   "execution_count": 1,
   "metadata": {
    "collapsed": false
   },
   "outputs": [
    {
     "name": "stdout",
     "output_type": "stream",
     "text": [
      "Warning: HyperTeX macro table not found\n",
      "  "
     ]
    },
    {
     "data": {
      "text/plain": [
       "             1  2   1  3    1  4    1   5    1   6     1   7     1    8\n",
       "     1 + x + - x  + - x  + -- x  + --- x  + --- x  + ---- x  + ----- x\n",
       "             2      6      24      120      720      5040      40320\n",
       "   + \n",
       "        1    9      1     10      11\n",
       "     ------ x  + ------- x   + O(x  )\n",
       "     362880      3628800\n",
       "                        Type: UnivariateTaylorSeries(Expression(Integer),x,0)\n"
      ]
     },
     "execution_count": 1,
     "metadata": {},
     "output_type": "execute_result"
    }
   ],
   "source": [
    "taylor(n +-> 1/factorial(n),x = 0)      -- expansion of exp(x) at x = 0"
   ]
  },
  {
   "cell_type": "code",
   "execution_count": 2,
   "metadata": {
    "collapsed": false
   },
   "outputs": [
    {
     "name": "stdout",
     "output_type": "stream",
     "text": [
      "  "
     ]
    },
    {
     "data": {
      "text/plain": [
       "               1        2   1        3   1        4   1        5   1        6\n",
       "     (x - 1) - - (x - 1)  + - (x - 1)  - - (x - 1)  + - (x - 1)  - - (x - 1)\n",
       "               2            3            4            5            6\n",
       "   + \n",
       "     1        7   1        8   1        9    1        10            11\n",
       "     - (x - 1)  - - (x - 1)  + - (x - 1)  - -- (x - 1)   + O((x - 1)  )\n",
       "     7            8            9            10\n",
       "                        Type: UnivariateTaylorSeries(Expression(Integer),x,1)\n"
      ]
     },
     "execution_count": 2,
     "metadata": {},
     "output_type": "execute_result"
    }
   ],
   "source": [
    "taylor(n +-> (-1)^(n-1)/n,x = 1,1..)   -- expansion of log(x) at x = 1"
   ]
  },
  {
   "cell_type": "code",
   "execution_count": 3,
   "metadata": {
    "collapsed": false
   },
   "outputs": [
    {
     "data": {
      "text/plain": [
       "             1        2   1        3   1        4   1        5   1        6\n",
       "   (x - 1) - - (x - 1)  + - (x - 1)  - - (x - 1)  + - (x - 1)  - - (x - 1)\n",
       "             2            3            4            5            6\n",
       "                        Type: UnivariateTaylorSeries(Expression(Integer),x,1)\n"
      ]
     },
     "execution_count": 3,
     "metadata": {},
     "output_type": "execute_result"
    }
   ],
   "source": [
    "taylor(n +-> (-1)^(n-1)/n,x = 1,1..6)  -- truncated expansion of log(x)"
   ]
  },
  {
   "cell_type": "code",
   "execution_count": 4,
   "metadata": {
    "collapsed": false
   },
   "outputs": [
    {
     "name": "stdout",
     "output_type": "stream",
     "text": [
      "  "
     ]
    },
    {
     "data": {
      "text/plain": [
       "             - 2          - 1                     2           3            4\n",
       "     4(x - 7)    + (x - 7)    + (x - 7) + 4(x - 7)  + 9(x - 7)  + 16(x - 7)\n",
       "   + \n",
       "              5            6            7            8            9\n",
       "     25(x - 7)  + 36(x - 7)  + 49(x - 7)  + 64(x - 7)  + O((x - 7) )\n",
       "                       Type: UnivariateLaurentSeries(Expression(Integer),x,7)\n"
      ]
     },
     "execution_count": 4,
     "metadata": {},
     "output_type": "execute_result"
    }
   ],
   "source": [
    "laurent(m +-> m^2,x = 7,-2..)          -- infinite Laurent expansion"
   ]
  },
  {
   "cell_type": "code",
   "execution_count": 5,
   "metadata": {
    "collapsed": false
   },
   "outputs": [
    {
     "name": "stdout",
     "output_type": "stream",
     "text": [
      "  "
     ]
    },
    {
     "data": {
      "text/plain": [
       "             - 2          - 1                     2           3            4\n",
       "     4(x - 7)    + (x - 7)    + (x - 7) + 4(x - 7)  + 9(x - 7)  + 16(x - 7)\n",
       "   + \n",
       "              5\n",
       "     25(x - 7)\n",
       "                       Type: UnivariateLaurentSeries(Expression(Integer),x,7)\n"
      ]
     },
     "execution_count": 5,
     "metadata": {},
     "output_type": "execute_result"
    }
   ],
   "source": [
    "laurent(m +-> m^2,x = 7,-2..5)         --   finite Laurent expansion"
   ]
  },
  {
   "cell_type": "code",
   "execution_count": 6,
   "metadata": {
    "collapsed": false
   },
   "outputs": [
    {
     "data": {
      "text/plain": [
       "       1  3    1   5     1   7      1    9       1     11      12\n",
       "   x - - x  + --- x  - ---- x  + ------ x  - -------- x   + O(x  )\n",
       "       6      120      5040      362880      39916800\n",
       "                       Type: UnivariatePuiseuxSeries(Expression(Integer),x,0)\n"
      ]
     },
     "execution_count": 6,
     "metadata": {},
     "output_type": "execute_result"
    }
   ],
   "source": [
    "puiseux(i +-> (-1)^((i-1)/2)/factorial(i),x = 0,1..,2)  -- sin(x) at x = 0"
   ]
  },
  {
   "cell_type": "markdown",
   "metadata": {},
   "source": [
    " puiseux(i +-> (-1)^((i-1)/2)/factorial(i),x = 0,1..9,2) -- truncated sin(x)\n",
    " interpretor needs help here\n"
   ]
  },
  {
   "cell_type": "code",
   "execution_count": 7,
   "metadata": {
    "collapsed": false
   },
   "outputs": [
    {
     "data": {
      "text/plain": [
       "       1  2    1  4    1   6     1    8      1     10      11\n",
       "   1 - - x  + -- x  - --- x  + ----- x  - ------- x   + O(x  )\n",
       "       2      24      720      40320      3628800\n",
       "                       Type: UnivariatePuiseuxSeries(Expression(Integer),x,0)\n"
      ]
     },
     "execution_count": 7,
     "metadata": {},
     "output_type": "execute_result"
    }
   ],
   "source": [
    "puiseux(i +-> (-1)^(i/2)/factorial(i),x = 0,0..,2)      -- cos(x) at x = 0"
   ]
  },
  {
   "cell_type": "code",
   "execution_count": 8,
   "metadata": {
    "collapsed": false
   },
   "outputs": [
    {
     "data": {
      "text/plain": [
       "       1  3    1   5     1   7      1    9\n",
       "   x - - x  + --- x  - ---- x  + ------ x\n",
       "       6      120      5040      362880\n",
       "                       Type: UnivariatePuiseuxSeries(Expression(Integer),x,0)\n"
      ]
     },
     "execution_count": 8,
     "metadata": {},
     "output_type": "execute_result"
    }
   ],
   "source": [
    "puiseux(i +-> (-1)^((i-1)/2)/factorial(i),x = 0,1..9/1,2) -- truncated sin(x)"
   ]
  },
  {
   "cell_type": "code",
   "execution_count": 9,
   "metadata": {
    "collapsed": false
   },
   "outputs": [
    {
     "data": {
      "text/plain": [
       "                4              5              1            1            1\n",
       "              - -            - -            - -            -            -\n",
       "     4          3   5          6   1          3   1        6            2\n",
       "   - - (x - 8)    - - (x - 8)    - - (x - 8)    + - (x - 8)  + O((x - 8) )\n",
       "     3              6              3              6\n",
       "                       Type: UnivariatePuiseuxSeries(Expression(Integer),x,8)\n"
      ]
     },
     "execution_count": 9,
     "metadata": {},
     "output_type": "execute_result"
    }
   ],
   "source": [
    "puiseux(j +-> j,x = 8,-4/3..,1/2)"
   ]
  },
  {
   "cell_type": "markdown",
   "metadata": {},
   "source": [
    " same computations using expressions instead of functions\n"
   ]
  },
  {
   "cell_type": "code",
   "execution_count": 10,
   "metadata": {
    "collapsed": false
   },
   "outputs": [
    {
     "data": {
      "text/plain": [
       "                4              5              1            1\n",
       "              - -            - -            - -            -\n",
       "     4          3   5          6   1          3   1        6\n",
       "   - - (x - 8)    - - (x - 8)    - - (x - 8)    + - (x - 8)\n",
       "     3              6              3              6\n",
       "                       Type: UnivariatePuiseuxSeries(Expression(Integer),x,8)\n"
      ]
     },
     "execution_count": 10,
     "metadata": {},
     "output_type": "execute_result"
    }
   ],
   "source": [
    "puiseux(j +-> j,x = 8,-4/3..1/6,1/2)"
   ]
  },
  {
   "cell_type": "code",
   "execution_count": 11,
   "metadata": {
    "collapsed": false
   },
   "outputs": [
    {
     "name": "stdout",
     "output_type": "stream",
     "text": [
      "  "
     ]
    },
    {
     "data": {
      "text/plain": [
       "             1  2   1  3    1  4    1   5    1   6     1   7     1    8\n",
       "     1 + x + - x  + - x  + -- x  + --- x  + --- x  + ---- x  + ----- x\n",
       "             2      6      24      120      720      5040      40320\n",
       "   + \n",
       "        1    9      1     10      11\n",
       "     ------ x  + ------- x   + O(x  )\n",
       "     362880      3628800\n",
       "                        Type: UnivariateTaylorSeries(Expression(Integer),x,0)\n"
      ]
     },
     "execution_count": 11,
     "metadata": {},
     "output_type": "execute_result"
    }
   ],
   "source": [
    "taylor(1/factorial(n),n,x = 0)      -- expansion of exp(x) at x = 0"
   ]
  },
  {
   "cell_type": "code",
   "execution_count": 12,
   "metadata": {
    "collapsed": false
   },
   "outputs": [
    {
     "name": "stdout",
     "output_type": "stream",
     "text": [
      "  "
     ]
    },
    {
     "data": {
      "text/plain": [
       "               1        2   1        3   1        4   1        5   1        6\n",
       "     (x - 1) - - (x - 1)  + - (x - 1)  - - (x - 1)  + - (x - 1)  - - (x - 1)\n",
       "               2            3            4            5            6\n",
       "   + \n",
       "     1        7   1        8   1        9    1        10            11\n",
       "     - (x - 1)  - - (x - 1)  + - (x - 1)  - -- (x - 1)   + O((x - 1)  )\n",
       "     7            8            9            10\n",
       "                        Type: UnivariateTaylorSeries(Expression(Integer),x,1)\n"
      ]
     },
     "execution_count": 12,
     "metadata": {},
     "output_type": "execute_result"
    }
   ],
   "source": [
    "taylor((-1)^(n-1)/n,n,x = 1,1..)   -- expansion of log(x) at x = 1"
   ]
  },
  {
   "cell_type": "code",
   "execution_count": 13,
   "metadata": {
    "collapsed": false
   },
   "outputs": [
    {
     "data": {
      "text/plain": [
       "             1        2   1        3   1        4   1        5   1        6\n",
       "   (x - 1) - - (x - 1)  + - (x - 1)  - - (x - 1)  + - (x - 1)  - - (x - 1)\n",
       "             2            3            4            5            6\n",
       "                        Type: UnivariateTaylorSeries(Expression(Integer),x,1)\n"
      ]
     },
     "execution_count": 13,
     "metadata": {},
     "output_type": "execute_result"
    }
   ],
   "source": [
    "taylor((-1)^(n-1)/n,n,x = 1,1..6)  -- truncated expansion of log(x)"
   ]
  },
  {
   "cell_type": "code",
   "execution_count": 14,
   "metadata": {
    "collapsed": false
   },
   "outputs": [
    {
     "name": "stdout",
     "output_type": "stream",
     "text": [
      "  "
     ]
    },
    {
     "data": {
      "text/plain": [
       "             - 2          - 1                     2           3            4\n",
       "     4(x - 7)    + (x - 7)    + (x - 7) + 4(x - 7)  + 9(x - 7)  + 16(x - 7)\n",
       "   + \n",
       "              5            6            7            8            9\n",
       "     25(x - 7)  + 36(x - 7)  + 49(x - 7)  + 64(x - 7)  + O((x - 7) )\n",
       "                       Type: UnivariateLaurentSeries(Expression(Integer),x,7)\n"
      ]
     },
     "execution_count": 14,
     "metadata": {},
     "output_type": "execute_result"
    }
   ],
   "source": [
    "laurent(m^2,m,x = 7,-2..)          -- infinite Laurent expansion"
   ]
  },
  {
   "cell_type": "code",
   "execution_count": 15,
   "metadata": {
    "collapsed": false
   },
   "outputs": [
    {
     "name": "stdout",
     "output_type": "stream",
     "text": [
      "  "
     ]
    },
    {
     "data": {
      "text/plain": [
       "             - 2          - 1                     2           3            4\n",
       "     4(x - 7)    + (x - 7)    + (x - 7) + 4(x - 7)  + 9(x - 7)  + 16(x - 7)\n",
       "   + \n",
       "              5\n",
       "     25(x - 7)\n",
       "                       Type: UnivariateLaurentSeries(Expression(Integer),x,7)\n"
      ]
     },
     "execution_count": 15,
     "metadata": {},
     "output_type": "execute_result"
    }
   ],
   "source": [
    "laurent(m^2,m,x = 7,-2..5)         --   finite Laurent expansion"
   ]
  },
  {
   "cell_type": "code",
   "execution_count": 16,
   "metadata": {
    "collapsed": false
   },
   "outputs": [
    {
     "data": {
      "text/plain": [
       "       1  3    1   5     1   7      1    9       1     11      12\n",
       "   x - - x  + --- x  - ---- x  + ------ x  - -------- x   + O(x  )\n",
       "       6      120      5040      362880      39916800\n",
       "                       Type: UnivariatePuiseuxSeries(Expression(Integer),x,0)\n"
      ]
     },
     "execution_count": 16,
     "metadata": {},
     "output_type": "execute_result"
    }
   ],
   "source": [
    "puiseux((-1)^((i-1)/2)/factorial(i),i,x = 0,1..,2)  -- sin(x) at x = 0"
   ]
  },
  {
   "cell_type": "markdown",
   "metadata": {},
   "source": [
    " puiseux((-1)^((i-1)/2)/factorial(i),i,x = 0,1..9,2) -- truncated sin(x)\n",
    " interpretor needs help here\n"
   ]
  },
  {
   "cell_type": "code",
   "execution_count": 17,
   "metadata": {
    "collapsed": false
   },
   "outputs": [
    {
     "data": {
      "text/plain": [
       "       1  2    1  4    1   6     1    8      1     10      11\n",
       "   1 - - x  + -- x  - --- x  + ----- x  - ------- x   + O(x  )\n",
       "       2      24      720      40320      3628800\n",
       "                       Type: UnivariatePuiseuxSeries(Expression(Integer),x,0)\n"
      ]
     },
     "execution_count": 17,
     "metadata": {},
     "output_type": "execute_result"
    }
   ],
   "source": [
    "puiseux((-1)^(i/2)/factorial(i),i,x = 0,0..,2)      -- cos(x) at x = 0"
   ]
  },
  {
   "cell_type": "code",
   "execution_count": 18,
   "metadata": {
    "collapsed": false
   },
   "outputs": [
    {
     "data": {
      "text/plain": [
       "       1  3    1   5     1   7      1    9\n",
       "   x - - x  + --- x  - ---- x  + ------ x\n",
       "       6      120      5040      362880\n",
       "                       Type: UnivariatePuiseuxSeries(Expression(Integer),x,0)\n"
      ]
     },
     "execution_count": 18,
     "metadata": {},
     "output_type": "execute_result"
    }
   ],
   "source": [
    "puiseux((-1)^((i-1)/2)/factorial(i),i,x = 0,1..9/1,2) -- truncated sin(x)"
   ]
  },
  {
   "cell_type": "code",
   "execution_count": 19,
   "metadata": {
    "collapsed": false
   },
   "outputs": [
    {
     "data": {
      "text/plain": [
       "                4              5              1            1            1\n",
       "              - -            - -            - -            -            -\n",
       "     4          3   5          6   1          3   1        6            2\n",
       "   - - (x - 8)    - - (x - 8)    - - (x - 8)    + - (x - 8)  + O((x - 8) )\n",
       "     3              6              3              6\n",
       "                       Type: UnivariatePuiseuxSeries(Expression(Integer),x,8)\n"
      ]
     },
     "execution_count": 19,
     "metadata": {},
     "output_type": "execute_result"
    }
   ],
   "source": [
    "puiseux(j,j,x = 8,-4/3..,1/2)"
   ]
  },
  {
   "cell_type": "markdown",
   "metadata": {},
   "source": [
    " all of the above commands should still work when the functions 'taylor',\n",
    " 'laurent', and 'puiseux' are replaced by 'series':\n"
   ]
  },
  {
   "cell_type": "code",
   "execution_count": 20,
   "metadata": {
    "collapsed": false
   },
   "outputs": [
    {
     "data": {
      "text/plain": [
       "                4              5              1            1\n",
       "              - -            - -            - -            -\n",
       "     4          3   5          6   1          3   1        6\n",
       "   - - (x - 8)    - - (x - 8)    - - (x - 8)    + - (x - 8)\n",
       "     3              6              3              6\n",
       "                       Type: UnivariatePuiseuxSeries(Expression(Integer),x,8)\n"
      ]
     },
     "execution_count": 20,
     "metadata": {},
     "output_type": "execute_result"
    }
   ],
   "source": [
    "puiseux(j,j,x = 8,-4/3..1/6,1/2)"
   ]
  },
  {
   "cell_type": "code",
   "execution_count": 21,
   "metadata": {
    "collapsed": false
   },
   "outputs": [
    {
     "name": "stdout",
     "output_type": "stream",
     "text": [
      "  "
     ]
    },
    {
     "data": {
      "text/plain": [
       "             1  2   1  3    1  4    1   5    1   6     1   7     1    8\n",
       "     1 + x + - x  + - x  + -- x  + --- x  + --- x  + ---- x  + ----- x\n",
       "             2      6      24      120      720      5040      40320\n",
       "   + \n",
       "        1    9      1     10      11\n",
       "     ------ x  + ------- x   + O(x  )\n",
       "     362880      3628800\n",
       "                       Type: UnivariatePuiseuxSeries(Expression(Integer),x,0)\n"
      ]
     },
     "execution_count": 21,
     "metadata": {},
     "output_type": "execute_result"
    }
   ],
   "source": [
    "series(n +-> 1/factorial(n),x = 0)      -- expansion of exp(x) at x = 0"
   ]
  },
  {
   "cell_type": "code",
   "execution_count": 22,
   "metadata": {
    "collapsed": false
   },
   "outputs": [
    {
     "name": "stdout",
     "output_type": "stream",
     "text": [
      "    "
     ]
    },
    {
     "data": {
      "text/plain": [
       "               1        2   1        3   1        4   1        5   1        6\n",
       "     (x - 1) - - (x - 1)  + - (x - 1)  - - (x - 1)  + - (x - 1)  - - (x - 1)\n",
       "               2            3            4            5            6\n",
       "   + \n",
       "     1        7   1        8   1        9    1        10    1        11\n",
       "     - (x - 1)  - - (x - 1)  + - (x - 1)  - -- (x - 1)   + -- (x - 1)\n",
       "     7            8            9            10             11\n",
       "   + \n",
       "              12\n",
       "     O((x - 1)  )\n",
       "                       Type: UnivariatePuiseuxSeries(Expression(Integer),x,1)\n"
      ]
     },
     "execution_count": 22,
     "metadata": {},
     "output_type": "execute_result"
    }
   ],
   "source": [
    "series(n +-> (-1)^(n-1)/n,x = 1,1..)   -- expansion of log(x) at x = 1"
   ]
  },
  {
   "cell_type": "code",
   "execution_count": 23,
   "metadata": {
    "collapsed": false
   },
   "outputs": [
    {
     "data": {
      "text/plain": [
       "             1        2   1        3   1        4   1        5   1        6\n",
       "   (x - 1) - - (x - 1)  + - (x - 1)  - - (x - 1)  + - (x - 1)  - - (x - 1)\n",
       "             2            3            4            5            6\n",
       "                       Type: UnivariatePuiseuxSeries(Expression(Integer),x,1)\n"
      ]
     },
     "execution_count": 23,
     "metadata": {},
     "output_type": "execute_result"
    }
   ],
   "source": [
    "series(n +-> (-1)^(n-1)/n,x = 1,1..6)  -- truncated expansion of log(x)"
   ]
  },
  {
   "cell_type": "code",
   "execution_count": 24,
   "metadata": {
    "collapsed": false
   },
   "outputs": [
    {
     "name": "stdout",
     "output_type": "stream",
     "text": [
      "  "
     ]
    },
    {
     "data": {
      "text/plain": [
       "             - 2          - 1                     2           3            4\n",
       "     4(x - 7)    + (x - 7)    + (x - 7) + 4(x - 7)  + 9(x - 7)  + 16(x - 7)\n",
       "   + \n",
       "              5            6            7            8            9\n",
       "     25(x - 7)  + 36(x - 7)  + 49(x - 7)  + 64(x - 7)  + O((x - 7) )\n",
       "                       Type: UnivariatePuiseuxSeries(Expression(Integer),x,7)\n"
      ]
     },
     "execution_count": 24,
     "metadata": {},
     "output_type": "execute_result"
    }
   ],
   "source": [
    "series(m +-> m^2,x = 7,-2..)          -- infinite Laurent expansion"
   ]
  },
  {
   "cell_type": "code",
   "execution_count": 25,
   "metadata": {
    "collapsed": false
   },
   "outputs": [
    {
     "name": "stdout",
     "output_type": "stream",
     "text": [
      "  "
     ]
    },
    {
     "data": {
      "text/plain": [
       "             - 2          - 1                     2           3            4\n",
       "     4(x - 7)    + (x - 7)    + (x - 7) + 4(x - 7)  + 9(x - 7)  + 16(x - 7)\n",
       "   + \n",
       "              5\n",
       "     25(x - 7)\n",
       "                       Type: UnivariatePuiseuxSeries(Expression(Integer),x,7)\n"
      ]
     },
     "execution_count": 25,
     "metadata": {},
     "output_type": "execute_result"
    }
   ],
   "source": [
    "series(m +-> m^2,x = 7,-2..5)         --   finite Laurent expansion"
   ]
  },
  {
   "cell_type": "code",
   "execution_count": 26,
   "metadata": {
    "collapsed": false
   },
   "outputs": [
    {
     "data": {
      "text/plain": [
       "       1  3    1   5     1   7      1    9       1     11      12\n",
       "   x - - x  + --- x  - ---- x  + ------ x  - -------- x   + O(x  )\n",
       "       6      120      5040      362880      39916800\n",
       "                       Type: UnivariatePuiseuxSeries(Expression(Integer),x,0)\n"
      ]
     },
     "execution_count": 26,
     "metadata": {},
     "output_type": "execute_result"
    }
   ],
   "source": [
    "series(i +-> (-1)^((i-1)/2)/factorial(i),x = 0,1..,2)  -- sin(x) at x = 0"
   ]
  },
  {
   "cell_type": "markdown",
   "metadata": {},
   "source": [
    " series(i +-> (-1)^((i-1)/2)/factorial(i),x = 0,1..9,2) -- truncated sin(x)\n",
    " interpretor needs help here\n"
   ]
  },
  {
   "cell_type": "code",
   "execution_count": 27,
   "metadata": {
    "collapsed": false
   },
   "outputs": [
    {
     "data": {
      "text/plain": [
       "       1  2    1  4    1   6     1    8      1     10      11\n",
       "   1 - - x  + -- x  - --- x  + ----- x  - ------- x   + O(x  )\n",
       "       2      24      720      40320      3628800\n",
       "                       Type: UnivariatePuiseuxSeries(Expression(Integer),x,0)\n"
      ]
     },
     "execution_count": 27,
     "metadata": {},
     "output_type": "execute_result"
    }
   ],
   "source": [
    "series(i +-> (-1)^(i/2)/factorial(i),x = 0,0..,2)      -- cos(x) at x = 0"
   ]
  },
  {
   "cell_type": "code",
   "execution_count": 28,
   "metadata": {
    "collapsed": false
   },
   "outputs": [
    {
     "data": {
      "text/plain": [
       "       1  3    1   5     1   7      1    9\n",
       "   x - - x  + --- x  - ---- x  + ------ x\n",
       "       6      120      5040      362880\n",
       "                       Type: UnivariatePuiseuxSeries(Expression(Integer),x,0)\n"
      ]
     },
     "execution_count": 28,
     "metadata": {},
     "output_type": "execute_result"
    }
   ],
   "source": [
    "series(i +-> (-1)^((i-1)/2)/factorial(i),x = 0,1..9/1,2) -- truncated sin(x)"
   ]
  },
  {
   "cell_type": "code",
   "execution_count": 29,
   "metadata": {
    "collapsed": false
   },
   "outputs": [
    {
     "data": {
      "text/plain": [
       "                4              5              1            1            1\n",
       "              - -            - -            - -            -            -\n",
       "     4          3   5          6   1          3   1        6            2\n",
       "   - - (x - 8)    - - (x - 8)    - - (x - 8)    + - (x - 8)  + O((x - 8) )\n",
       "     3              6              3              6\n",
       "                       Type: UnivariatePuiseuxSeries(Expression(Integer),x,8)\n"
      ]
     },
     "execution_count": 29,
     "metadata": {},
     "output_type": "execute_result"
    }
   ],
   "source": [
    "series(j +-> j,x = 8,-4/3..,1/2)"
   ]
  },
  {
   "cell_type": "markdown",
   "metadata": {},
   "source": [
    " same computations using expressions instead of functions\n"
   ]
  },
  {
   "cell_type": "code",
   "execution_count": 30,
   "metadata": {
    "collapsed": false
   },
   "outputs": [
    {
     "data": {
      "text/plain": [
       "                4              5              1            1\n",
       "              - -            - -            - -            -\n",
       "     4          3   5          6   1          3   1        6\n",
       "   - - (x - 8)    - - (x - 8)    - - (x - 8)    + - (x - 8)\n",
       "     3              6              3              6\n",
       "                       Type: UnivariatePuiseuxSeries(Expression(Integer),x,8)\n"
      ]
     },
     "execution_count": 30,
     "metadata": {},
     "output_type": "execute_result"
    }
   ],
   "source": [
    "series(j +-> j,x = 8,-4/3..1/6,1/2)"
   ]
  },
  {
   "cell_type": "code",
   "execution_count": 31,
   "metadata": {
    "collapsed": false
   },
   "outputs": [
    {
     "name": "stdout",
     "output_type": "stream",
     "text": [
      "  "
     ]
    },
    {
     "data": {
      "text/plain": [
       "             1  2   1  3    1  4    1   5    1   6     1   7     1    8\n",
       "     1 + x + - x  + - x  + -- x  + --- x  + --- x  + ---- x  + ----- x\n",
       "             2      6      24      120      720      5040      40320\n",
       "   + \n",
       "        1    9      1     10      11\n",
       "     ------ x  + ------- x   + O(x  )\n",
       "     362880      3628800\n",
       "                       Type: UnivariatePuiseuxSeries(Expression(Integer),x,0)\n"
      ]
     },
     "execution_count": 31,
     "metadata": {},
     "output_type": "execute_result"
    }
   ],
   "source": [
    "series(1/factorial(n),n,x = 0)      -- expansion of exp(x) at x = 0"
   ]
  },
  {
   "cell_type": "code",
   "execution_count": 32,
   "metadata": {
    "collapsed": false
   },
   "outputs": [
    {
     "name": "stdout",
     "output_type": "stream",
     "text": [
      "    "
     ]
    },
    {
     "data": {
      "text/plain": [
       "               1        2   1        3   1        4   1        5   1        6\n",
       "     (x - 1) - - (x - 1)  + - (x - 1)  - - (x - 1)  + - (x - 1)  - - (x - 1)\n",
       "               2            3            4            5            6\n",
       "   + \n",
       "     1        7   1        8   1        9    1        10    1        11\n",
       "     - (x - 1)  - - (x - 1)  + - (x - 1)  - -- (x - 1)   + -- (x - 1)\n",
       "     7            8            9            10             11\n",
       "   + \n",
       "              12\n",
       "     O((x - 1)  )\n",
       "                       Type: UnivariatePuiseuxSeries(Expression(Integer),x,1)\n"
      ]
     },
     "execution_count": 32,
     "metadata": {},
     "output_type": "execute_result"
    }
   ],
   "source": [
    "series((-1)^(n-1)/n,n,x = 1,1..)   -- expansion of log(x) at x = 1"
   ]
  },
  {
   "cell_type": "code",
   "execution_count": 33,
   "metadata": {
    "collapsed": false
   },
   "outputs": [
    {
     "data": {
      "text/plain": [
       "             1        2   1        3   1        4   1        5   1        6\n",
       "   (x - 1) - - (x - 1)  + - (x - 1)  - - (x - 1)  + - (x - 1)  - - (x - 1)\n",
       "             2            3            4            5            6\n",
       "                       Type: UnivariatePuiseuxSeries(Expression(Integer),x,1)\n"
      ]
     },
     "execution_count": 33,
     "metadata": {},
     "output_type": "execute_result"
    }
   ],
   "source": [
    "series((-1)^(n-1)/n,n,x = 1,1..6)  -- truncated expansion of log(x)"
   ]
  },
  {
   "cell_type": "code",
   "execution_count": 34,
   "metadata": {
    "collapsed": false
   },
   "outputs": [
    {
     "name": "stdout",
     "output_type": "stream",
     "text": [
      "  "
     ]
    },
    {
     "data": {
      "text/plain": [
       "             - 2          - 1                     2           3            4\n",
       "     4(x - 7)    + (x - 7)    + (x - 7) + 4(x - 7)  + 9(x - 7)  + 16(x - 7)\n",
       "   + \n",
       "              5            6            7            8            9\n",
       "     25(x - 7)  + 36(x - 7)  + 49(x - 7)  + 64(x - 7)  + O((x - 7) )\n",
       "                       Type: UnivariatePuiseuxSeries(Expression(Integer),x,7)\n"
      ]
     },
     "execution_count": 34,
     "metadata": {},
     "output_type": "execute_result"
    }
   ],
   "source": [
    "series(m^2,m,x = 7,-2..)          -- infinite Laurent expansion"
   ]
  },
  {
   "cell_type": "code",
   "execution_count": 35,
   "metadata": {
    "collapsed": false
   },
   "outputs": [
    {
     "name": "stdout",
     "output_type": "stream",
     "text": [
      "  "
     ]
    },
    {
     "data": {
      "text/plain": [
       "             - 2          - 1                     2           3            4\n",
       "     4(x - 7)    + (x - 7)    + (x - 7) + 4(x - 7)  + 9(x - 7)  + 16(x - 7)\n",
       "   + \n",
       "              5\n",
       "     25(x - 7)\n",
       "                       Type: UnivariatePuiseuxSeries(Expression(Integer),x,7)\n"
      ]
     },
     "execution_count": 35,
     "metadata": {},
     "output_type": "execute_result"
    }
   ],
   "source": [
    "series(m^2,m,x = 7,-2..5)         --   finite Laurent expansion"
   ]
  },
  {
   "cell_type": "code",
   "execution_count": 36,
   "metadata": {
    "collapsed": false
   },
   "outputs": [
    {
     "data": {
      "text/plain": [
       "       1  3    1   5     1   7      1    9       1     11      12\n",
       "   x - - x  + --- x  - ---- x  + ------ x  - -------- x   + O(x  )\n",
       "       6      120      5040      362880      39916800\n",
       "                       Type: UnivariatePuiseuxSeries(Expression(Integer),x,0)\n"
      ]
     },
     "execution_count": 36,
     "metadata": {},
     "output_type": "execute_result"
    }
   ],
   "source": [
    "series((-1)^((i-1)/2)/factorial(i),i,x = 0,1..,2)  -- sin(x) at x = 0"
   ]
  },
  {
   "cell_type": "markdown",
   "metadata": {},
   "source": [
    " series((-1)^((i-1)/2)/factorial(i),i,x = 0,1..9,2) -- truncated sin(x)\n",
    " interpretor needs help here\n"
   ]
  },
  {
   "cell_type": "code",
   "execution_count": 37,
   "metadata": {
    "collapsed": false
   },
   "outputs": [
    {
     "data": {
      "text/plain": [
       "       1  2    1  4    1   6     1    8      1     10      11\n",
       "   1 - - x  + -- x  - --- x  + ----- x  - ------- x   + O(x  )\n",
       "       2      24      720      40320      3628800\n",
       "                       Type: UnivariatePuiseuxSeries(Expression(Integer),x,0)\n"
      ]
     },
     "execution_count": 37,
     "metadata": {},
     "output_type": "execute_result"
    }
   ],
   "source": [
    "series((-1)^(i/2)/factorial(i),i,x = 0,0..,2)      -- cos(x) at x = 0"
   ]
  },
  {
   "cell_type": "code",
   "execution_count": 38,
   "metadata": {
    "collapsed": false
   },
   "outputs": [
    {
     "data": {
      "text/plain": [
       "       1  3    1   5     1   7      1    9\n",
       "   x - - x  + --- x  - ---- x  + ------ x\n",
       "       6      120      5040      362880\n",
       "                       Type: UnivariatePuiseuxSeries(Expression(Integer),x,0)\n"
      ]
     },
     "execution_count": 38,
     "metadata": {},
     "output_type": "execute_result"
    }
   ],
   "source": [
    "series((-1)^((i-1)/2)/factorial(i),i,x = 0,1..9/1,2) -- truncated sin(x)"
   ]
  },
  {
   "cell_type": "code",
   "execution_count": 39,
   "metadata": {
    "collapsed": false
   },
   "outputs": [
    {
     "data": {
      "text/plain": [
       "                4              5              1            1            1\n",
       "              - -            - -            - -            -            -\n",
       "     4          3   5          6   1          3   1        6            2\n",
       "   - - (x - 8)    - - (x - 8)    - - (x - 8)    + - (x - 8)  + O((x - 8) )\n",
       "     3              6              3              6\n",
       "                       Type: UnivariatePuiseuxSeries(Expression(Integer),x,8)\n"
      ]
     },
     "execution_count": 39,
     "metadata": {},
     "output_type": "execute_result"
    }
   ],
   "source": [
    "series(j,j,x = 8,-4/3..,1/2)"
   ]
  },
  {
   "cell_type": "code",
   "execution_count": 40,
   "metadata": {
    "collapsed": false
   },
   "outputs": [
    {
     "data": {
      "text/plain": [
       "                4              5              1            1\n",
       "              - -            - -            - -            -\n",
       "     4          3   5          6   1          3   1        6\n",
       "   - - (x - 8)    - - (x - 8)    - - (x - 8)    + - (x - 8)\n",
       "     3              6              3              6\n",
       "                       Type: UnivariatePuiseuxSeries(Expression(Integer),x,8)\n"
      ]
     },
     "execution_count": 40,
     "metadata": {},
     "output_type": "execute_result"
    }
   ],
   "source": [
    "series(j,j,x = 8,-4/3..1/6,1/2)"
   ]
  },
  {
   "cell_type": "code",
   "execution_count": 41,
   "metadata": {
    "collapsed": false
   },
   "outputs": [
    {
     "name": "stderr",
     "output_type": "stream",
     "text": [
      "INDEX-TOO-LARGE-ERROR: \n",
      "  #<SB-KERNEL:INDEX-TOO-LARGE-ERROR expected-type: (INTEGER 0 (0)) datum: 0>\n"
     ]
    },
    {
     "data": {
      "text/plain": []
     },
     "execution_count": 41,
     "metadata": {},
     "output_type": "execute_result"
    }
   ],
   "source": []
  }
 ],
 "metadata": {
  "kernelspec": {
   "display_name": "FriCAS",
   "language": "spad",
   "name": "ifricas"
  },
  "language_info": {
   "codemirror_mode": "spad",
   "mimetype": "text/x-spad",
   "name": "SPAD",
   "pygments_lexer": "spad",
   "version": "1.2.6"
  },
  "name": "genups.ipynb"
 },
 "nbformat": 4,
 "nbformat_minor": 0
}