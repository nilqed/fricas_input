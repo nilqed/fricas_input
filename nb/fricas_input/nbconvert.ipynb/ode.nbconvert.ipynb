{
 "cells": [
  {
   "cell_type": "markdown",
   "metadata": {},
   "source": [
    "Copyright The Numerical Algorithms Group Limited 1996.\n",
    "A bug when one one uses a diff.eq. with a free variable other than x.\n"
   ]
  },
  {
   "cell_type": "code",
   "execution_count": 0,
   "metadata": {
    "collapsed": false
   },
   "outputs": [
    {
     "data": {
      "text/plain": []
     },
     "execution_count": 0,
     "metadata": {},
     "output_type": "execute_result"
    }
   ],
   "source": [
    ")set break resume"
   ]
  },
  {
   "cell_type": "code",
   "execution_count": 1,
   "metadata": {
    "collapsed": false
   },
   "outputs": [
    {
     "name": "stdout",
     "output_type": "stream",
     "text": [
      "Warning: HyperTeX macro table not found\n"
     ]
    },
    {
     "data": {
      "text/plain": [
       "   y\n",
       "                                                          Type: BasicOperator\n"
      ]
     },
     "execution_count": 1,
     "metadata": {},
     "output_type": "execute_result"
    }
   ],
   "source": [
    "y:=operator 'y"
   ]
  },
  {
   "cell_type": "code",
   "execution_count": 2,
   "metadata": {
    "collapsed": false
   },
   "outputs": [
    {
     "data": {
      "text/plain": [
       "    ,,       ,\n",
       "   y  (x) + y (x) + y(x)\n",
       "\n",
       "                                                    Type: Expression(Integer)\n"
      ]
     },
     "execution_count": 2,
     "metadata": {},
     "output_type": "execute_result"
    }
   ],
   "source": [
    "deqx:= differentiate(y x,x,2)+differentiate(y x,x) +y x"
   ]
  },
  {
   "cell_type": "code",
   "execution_count": 3,
   "metadata": {
    "collapsed": false
   },
   "outputs": [
    {
     "data": {
      "text/plain": [
       "                                        x     x\n",
       "                                +-+   - -   - -      +-+\n",
       "                              x\\|3      2     2    x\\|3\n",
       "   [particular= 0,basis= [cos(-----)%e   ,%e   sin(-----)]]\n",
       "                                2                    2\n",
       "Type: Union(Record(particular: Expression(Integer),basis: List(Expression(Integer))),...)\n"
      ]
     },
     "execution_count": 3,
     "metadata": {},
     "output_type": "execute_result"
    }
   ],
   "source": [
    "solve(deqx,y,x) --OK"
   ]
  },
  {
   "cell_type": "code",
   "execution_count": 4,
   "metadata": {
    "collapsed": false
   },
   "outputs": [
    {
     "data": {
      "text/plain": [
       "                 x\n",
       "         +-+   - -\n",
       "       x\\|3      2\n",
       "   cos(-----)%e\n",
       "         2\n",
       "                                         Type: Union(Expression(Integer),...)\n"
      ]
     },
     "execution_count": 4,
     "metadata": {},
     "output_type": "execute_result"
    }
   ],
   "source": [
    "solve(deqx,y,x=0,[1]) --OK"
   ]
  },
  {
   "cell_type": "code",
   "execution_count": 5,
   "metadata": {
    "collapsed": false
   },
   "outputs": [
    {
     "data": {
      "text/plain": [
       "    ,,       ,\n",
       "   y  (t) + y (t) + y(t)\n",
       "\n",
       "                                                    Type: Expression(Integer)\n"
      ]
     },
     "execution_count": 5,
     "metadata": {},
     "output_type": "execute_result"
    }
   ],
   "source": [
    "deqt:= differentiate(y t,t,2)+differentiate(y t,t) +y t"
   ]
  },
  {
   "cell_type": "code",
   "execution_count": 6,
   "metadata": {
    "collapsed": false
   },
   "outputs": [
    {
     "data": {
      "text/plain": [
       "                                        t     t\n",
       "                                +-+   - -   - -      +-+\n",
       "                              t\\|3      2     2    t\\|3\n",
       "   [particular= 0,basis= [cos(-----)%e   ,%e   sin(-----)]]\n",
       "                                2                    2\n",
       "Type: Union(Record(particular: Expression(Integer),basis: List(Expression(Integer))),...)\n"
      ]
     },
     "execution_count": 6,
     "metadata": {},
     "output_type": "execute_result"
    }
   ],
   "source": [
    "solve(deqt,y,t) --OK"
   ]
  },
  {
   "cell_type": "code",
   "execution_count": 7,
   "metadata": {
    "collapsed": false
   },
   "outputs": [
    {
     "data": {
      "text/plain": [
       "                 t\n",
       "         +-+   - -\n",
       "       t\\|3      2\n",
       "   cos(-----)%e\n",
       "         2\n",
       "                                         Type: Union(Expression(Integer),...)\n"
      ]
     },
     "execution_count": 7,
     "metadata": {},
     "output_type": "execute_result"
    }
   ],
   "source": [
    "solve(deqt,y,t=0,[1]) -- BUG!"
   ]
  },
  {
   "cell_type": "code",
   "execution_count": 8,
   "metadata": {
    "collapsed": false
   },
   "outputs": [
    {
     "data": {
      "text/plain": [
       "    ,,       ,\n",
       "   y  (z) + y (z) + y(z)\n",
       "\n",
       "                                                    Type: Expression(Integer)\n"
      ]
     },
     "execution_count": 8,
     "metadata": {},
     "output_type": "execute_result"
    }
   ],
   "source": [
    "deqz:= differentiate(y z,z,2)+differentiate(y z,z) +y z"
   ]
  },
  {
   "cell_type": "code",
   "execution_count": 9,
   "metadata": {
    "collapsed": false
   },
   "outputs": [
    {
     "data": {
      "text/plain": [
       "                                        z     z\n",
       "                                +-+   - -   - -      +-+\n",
       "                              z\\|3      2     2    z\\|3\n",
       "   [particular= 0,basis= [cos(-----)%e   ,%e   sin(-----)]]\n",
       "                                2                    2\n",
       "Type: Union(Record(particular: Expression(Integer),basis: List(Expression(Integer))),...)\n"
      ]
     },
     "execution_count": 9,
     "metadata": {},
     "output_type": "execute_result"
    }
   ],
   "source": [
    "solve(deqz,y,z) --OK"
   ]
  },
  {
   "cell_type": "markdown",
   "metadata": {},
   "source": [
    "I think the bug is in\n",
    "   file odeef.spad\n",
    "   constructor ODEEF\n",
    "   function solve(diffeq:F,y:OP,center:EQ,y0:List F)\n",
    "the second line of the body was\n",
    "   kx:K:=kernel x\n",
    "which uses uninitialised x. I think it should be\n",
    "   kx:K:=kernel(retract(lhs(center))@SY)\n",
    "as the line immediately below it. That change certainly fixes THIS bug!\n",
    "Also, maybe a check should be made that this kx is indeed to be found\n",
    "in the diffeq -- my system reports segmenttion violation if I do\n"
   ]
  },
  {
   "cell_type": "code",
   "execution_count": 10,
   "metadata": {
    "collapsed": false
   },
   "outputs": [
    {
     "data": {
      "text/plain": [
       "                 z\n",
       "         +-+   - -\n",
       "       z\\|3      2\n",
       "   cos(-----)%e\n",
       "         2\n",
       "                                         Type: Union(Expression(Integer),...)\n"
      ]
     },
     "execution_count": 10,
     "metadata": {},
     "output_type": "execute_result"
    }
   ],
   "source": [
    "solve(deqz,y,z=0,[1]) -- BUG!"
   ]
  },
  {
   "cell_type": "code",
   "execution_count": 11,
   "metadata": {
    "collapsed": false
   },
   "outputs": [
    {
     "name": "stderr",
     "output_type": "stream",
     "text": [
      " \n",
      "   >> Error detected within library code:\n",
      "   parseODE: equation has order 0\n",
      "\n"
     ]
    },
    {
     "data": {
      "text/plain": [
       "error\n"
      ]
     },
     "execution_count": 11,
     "metadata": {},
     "output_type": "execute_result"
    }
   ],
   "source": [
    "solve(deqt,y,x=0,[1])"
   ]
  },
  {
   "cell_type": "code",
   "execution_count": 12,
   "metadata": {
    "collapsed": false
   },
   "outputs": [
    {
     "name": "stderr",
     "output_type": "stream",
     "text": [
      "INDEX-TOO-LARGE-ERROR: \n",
      "  #<SB-KERNEL:INDEX-TOO-LARGE-ERROR expected-type: (INTEGER 0 (0)) datum: 0>\n"
     ]
    },
    {
     "data": {
      "text/plain": []
     },
     "execution_count": 12,
     "metadata": {},
     "output_type": "execute_result"
    }
   ],
   "source": []
  }
 ],
 "metadata": {
  "kernelspec": {
   "display_name": "FriCAS",
   "language": "spad",
   "name": "ifricas"
  },
  "language_info": {
   "codemirror_mode": "spad",
   "mimetype": "text/x-spad",
   "name": "SPAD",
   "pygments_lexer": "spad",
   "version": "1.2.6"
  },
  "name": "ode.ipynb"
 },
 "nbformat": 4,
 "nbformat_minor": 0
}