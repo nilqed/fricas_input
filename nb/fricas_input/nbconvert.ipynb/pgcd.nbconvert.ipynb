{
 "cells": [
  {
   "cell_type": "code",
   "execution_count": 0,
   "metadata": {
    "collapsed": false
   },
   "outputs": [
    {
     "data": {
      "text/plain": []
     },
     "execution_count": 0,
     "metadata": {},
     "output_type": "execute_result"
    }
   ],
   "source": [
    ")set break resume"
   ]
  },
  {
   "cell_type": "code",
   "execution_count": 1,
   "metadata": {
    "collapsed": false
   },
   "outputs": [
    {
     "name": "stdout",
     "output_type": "stream",
     "text": [
      "   UnittestCount is now explicitly exposed in frame initial \n",
      "   UnittestAux is now explicitly exposed in frame initial \n",
      "   Unittest is now explicitly exposed in frame initial \n"
     ]
    },
    {
     "data": {
      "text/plain": []
     },
     "execution_count": 1,
     "metadata": {},
     "output_type": "execute_result"
    }
   ],
   "source": [
    ")expose UnittestCount UnittestAux Unittest"
   ]
  },
  {
   "cell_type": "code",
   "execution_count": 2,
   "metadata": {
    "collapsed": false
   },
   "outputs": [
    {
     "name": "stdout",
     "output_type": "stream",
     "text": [
      "   All user variables and function definitions have been cleared.\n",
      "Warning: HyperTeX macro table not found\n"
     ]
    },
    {
     "data": {
      "text/plain": [
       "                                                                   Type: Void\n"
      ]
     },
     "execution_count": 2,
     "metadata": {},
     "output_type": "execute_result"
    }
   ],
   "source": [
    "testsuite \"polynomial gcd\""
   ]
  },
  {
   "cell_type": "code",
   "execution_count": 3,
   "metadata": {
    "collapsed": false
   },
   "outputs": [
    {
     "name": "stdout",
     "output_type": "stream",
     "text": [
      "  \n"
     ]
    },
    {
     "data": {
      "text/plain": [
       "         6      4  8         6      4     2  6          6      4      2      4\n",
       "     (50x  + 12x )y  + (- 68x  - 10x  + 2x )y  + (- 104x  - 64x  - 14x  - 1)y\n",
       "   + \n",
       "         6     4     2      2      6     4\n",
       "     (36x  - 6x  - 8x  - 1)y  + 22x  + 4x\n",
       "                                                    Type: Polynomial(Integer)\n"
      ]
     },
     "execution_count": 3,
     "metadata": {},
     "output_type": "execute_result"
    }
   ],
   "source": [
    "p1 := x^6*(50*y^8 -68*y^6 -104*y^4 + 36*y^2 + 22) + _\n",
    "      x^4*(12*y^8 -10*y^6 -64*y^4 -6*y^2 + 4) + _\n",
    "      x^2*(2*y^6 -14*y^4 -8*y^2) + (-y^4 - y^2)\n"
   ]
  },
  {
   "cell_type": "code",
   "execution_count": 4,
   "metadata": {
    "collapsed": false
   },
   "outputs": [
    {
     "name": "stdout",
     "output_type": "stream",
     "text": [
      "      \n"
     ]
    },
    {
     "data": {
      "text/plain": [
       "         8      6      4  10       8       6       4      2      8\n",
       "     (16x  - 72x  - 64x )y   + (16x  + 188x  + 188x  + 68x  + 8)y\n",
       "   + \n",
       "           8       6       4       2       6\n",
       "     (- 96x  - 188x  + 372x  + 172x  + 22)y\n",
       "   + \n",
       "            8       6      4      2       4          8       6       4      2  2\n",
       "     (- 224x  - 572x  + 60x  + 97x  + 14)y  + (- 176x  - 108x  - 124x  - 15x )y\n",
       "   + \n",
       "          8      6\n",
       "     - 48x  + 16x\n",
       "                                                    Type: Polynomial(Integer)\n"
      ]
     },
     "execution_count": 4,
     "metadata": {},
     "output_type": "execute_result"
    }
   ],
   "source": [
    "p2 := x^8*(16*y^10 + 16*y^8 -96*y^6 -224*y^4 -176*y^2 -48) + _\n",
    "      x^6*(-72*y^10 + 188*y^8 -188*y^6 -572*y^4 -108*y^2 + 16) + _\n",
    "      x^4*(-64*y^10 + 188*y^8 + 372*y^6 + 60*y^4 -124*y^2) + _\n",
    "      x^2*(68*y^8 + 172*y^6 + 97*y^4 -15*y^2) + _\n",
    "      (8*y^8 + 22*y^6 + 14*y^4)\n"
   ]
  },
  {
   "cell_type": "code",
   "execution_count": 5,
   "metadata": {
    "collapsed": false
   },
   "outputs": [
    {
     "name": "stdout",
     "output_type": "stream",
     "text": [
      "   All user variables and function definitions have been cleared.\n"
     ]
    },
    {
     "data": {
      "text/plain": [
       "                                                                   Type: Void\n"
      ]
     },
     "execution_count": 5,
     "metadata": {},
     "output_type": "execute_result"
    }
   ],
   "source": [
    "testcase \"bad reduction\""
   ]
  },
  {
   "cell_type": "code",
   "execution_count": 6,
   "metadata": {
    "collapsed": false
   },
   "outputs": [
    {
     "data": {
      "text/plain": [
       "   p1\n",
       "                            Type: UnivariatePolynomial(x,Polynomial(Integer))\n"
      ]
     },
     "execution_count": 6,
     "metadata": {},
     "output_type": "execute_result"
    }
   ],
   "source": [
    "p1u := univariate(p1, x)"
   ]
  },
  {
   "cell_type": "code",
   "execution_count": 7,
   "metadata": {
    "collapsed": false
   },
   "outputs": [
    {
     "data": {
      "text/plain": [
       "   p2\n",
       "                            Type: UnivariatePolynomial(x,Polynomial(Integer))\n"
      ]
     },
     "execution_count": 7,
     "metadata": {},
     "output_type": "execute_result"
    }
   ],
   "source": [
    "p2u := univariate(p2, x)"
   ]
  },
  {
   "cell_type": "code",
   "execution_count": 8,
   "metadata": {
    "collapsed": false
   },
   "outputs": [
    {
     "data": {
      "text/plain": [
       "                                                                   Type: Void\n"
      ]
     },
     "execution_count": 8,
     "metadata": {},
     "output_type": "execute_result"
    }
   ],
   "source": [
    "testTrue(\"(lg := [gcd(p1u, p2u) for i in 1..1000]; true)\")"
   ]
  },
  {
   "cell_type": "code",
   "execution_count": 9,
   "metadata": {
    "collapsed": false
   },
   "outputs": [
    {
     "data": {
      "text/plain": [
       "                                                                   Type: Void\n"
      ]
     },
     "execution_count": 9,
     "metadata": {},
     "output_type": "execute_result"
    }
   ],
   "source": [
    "testTrue(\"every?(x +-> x = 1, lg)\")"
   ]
  },
  {
   "cell_type": "code",
   "execution_count": 10,
   "metadata": {
    "collapsed": false
   },
   "outputs": [
    {
     "data": {
      "text/plain": []
     },
     "execution_count": 10,
     "metadata": {},
     "output_type": "execute_result"
    }
   ],
   "source": [
    ")set output algebra on"
   ]
  },
  {
   "cell_type": "code",
   "execution_count": 11,
   "metadata": {
    "collapsed": false
   },
   "outputs": [
    {
     "data": {
      "text/plain": [
       "   =============================================================================\n",
       "   General WARNINGS:\n",
       "   * do not use ')clear completely' before having used 'statistics()'\n",
       "     It clears the statistics without warning!\n",
       "   * do not forget to pass the arguments of the testXxxx functions as Strings!\n",
       "     Otherwise, the test will fail and statistics() will not notice!\n",
       "   * testLibraryError does not prevent FriCAS from aborting the current block.\n",
       "     Thus, if a block contains other test functions, they will not be executed\n",
       "     and statistics() will not notice!\n",
       "\n",
       "   =============================================================================\n",
       "   Testsuite: polynomial gcd\n",
       "     failed (total): 0 (1)\n",
       "\n",
       "   =============================================================================\n",
       "   testsuite | testcases: failed (total) | tests: failed (total)\n",
       "   polynomial gcd              0     (1)               0     (2)\n",
       "   =============================================================================\n",
       "   File summary.\n",
       "   unexpected failures: 0\n",
       "   expected failures: 0\n",
       "   unexpected passes: 0\n",
       "   total tests: 2\n",
       "                                                                   Type: Void\n"
      ]
     },
     "execution_count": 11,
     "metadata": {},
     "output_type": "execute_result"
    }
   ],
   "source": [
    "statistics()"
   ]
  },
  {
   "cell_type": "code",
   "execution_count": 12,
   "metadata": {
    "collapsed": false
   },
   "outputs": [
    {
     "name": "stderr",
     "output_type": "stream",
     "text": [
      "INDEX-TOO-LARGE-ERROR: \n",
      "  #<SB-KERNEL:INDEX-TOO-LARGE-ERROR expected-type: (INTEGER 0 (0)) datum: 0>\n"
     ]
    },
    {
     "data": {
      "text/plain": []
     },
     "execution_count": 12,
     "metadata": {},
     "output_type": "execute_result"
    }
   ],
   "source": []
  }
 ],
 "metadata": {
  "kernelspec": {
   "display_name": "FriCAS",
   "language": "spad",
   "name": "ifricas"
  },
  "language_info": {
   "codemirror_mode": "spad",
   "mimetype": "text/x-spad",
   "name": "SPAD",
   "pygments_lexer": "spad",
   "version": "1.2.6"
  },
  "name": "pgcd.ipynb"
 },
 "nbformat": 4,
 "nbformat_minor": 0
}