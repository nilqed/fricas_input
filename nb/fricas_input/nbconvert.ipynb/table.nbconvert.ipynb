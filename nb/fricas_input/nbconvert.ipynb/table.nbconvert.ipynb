{
 "cells": [
  {
   "cell_type": "code",
   "execution_count": 0,
   "metadata": {
    "collapsed": false
   },
   "outputs": [
    {
     "data": {
      "text/plain": []
     },
     "execution_count": 0,
     "metadata": {},
     "output_type": "execute_result"
    }
   ],
   "source": [
    ")set break resume"
   ]
  },
  {
   "cell_type": "code",
   "execution_count": 1,
   "metadata": {
    "collapsed": false
   },
   "outputs": [
    {
     "name": "stdout",
     "output_type": "stream",
     "text": [
      "   UnittestCount is now explicitly exposed in frame initial \n",
      "   UnittestAux is now explicitly exposed in frame initial \n",
      "   Unittest is now explicitly exposed in frame initial \n"
     ]
    },
    {
     "data": {
      "text/plain": []
     },
     "execution_count": 1,
     "metadata": {},
     "output_type": "execute_result"
    }
   ],
   "source": [
    ")expose UnittestCount UnittestAux Unittest"
   ]
  },
  {
   "cell_type": "code",
   "execution_count": 2,
   "metadata": {
    "collapsed": false
   },
   "outputs": [
    {
     "name": "stdout",
     "output_type": "stream",
     "text": [
      "   All user variables and function definitions have been cleared.\n",
      "Warning: HyperTeX macro table not found\n"
     ]
    },
    {
     "data": {
      "text/plain": [
       "                                                                   Type: Void\n"
      ]
     },
     "execution_count": 2,
     "metadata": {},
     "output_type": "execute_result"
    }
   ],
   "source": [
    "testsuite \"HASHTBL\""
   ]
  },
  {
   "cell_type": "code",
   "execution_count": 3,
   "metadata": {
    "collapsed": false
   },
   "outputs": [
    {
     "name": "stdout",
     "output_type": "stream",
     "text": [
      "   All user variables and function definitions have been cleared.\n"
     ]
    },
    {
     "data": {
      "text/plain": [
       "                                                                   Type: Void\n"
      ]
     },
     "execution_count": 3,
     "metadata": {},
     "output_type": "execute_result"
    }
   ],
   "source": [
    "testcase \"equality\""
   ]
  },
  {
   "cell_type": "code",
   "execution_count": 4,
   "metadata": {
    "collapsed": false
   },
   "outputs": [
    {
     "data": {
      "text/plain": [
       "                              Type: List(Record(key: Integer,entry: Integer))\n"
      ]
     },
     "execution_count": 4,
     "metadata": {},
     "output_type": "execute_result"
    }
   ],
   "source": [
    "l := [[1, 1], [2, 2], [3, 3]]$List Record(key : INT, entry : INT);"
   ]
  },
  {
   "cell_type": "code",
   "execution_count": 5,
   "metadata": {
    "collapsed": false
   },
   "outputs": [
    {
     "data": {
      "text/plain": [
       "                                                                   Type: Void\n"
      ]
     },
     "execution_count": 5,
     "metadata": {},
     "output_type": "execute_result"
    }
   ],
   "source": [
    "testEquals(\"construct(l)$TABLE(INT, INT)\", \"construct(reverse l)$TABLE(INT, INT)\")"
   ]
  },
  {
   "cell_type": "code",
   "execution_count": 6,
   "metadata": {
    "collapsed": false
   },
   "outputs": [
    {
     "data": {
      "text/plain": [
       "   =============================================================================\n",
       "   General WARNINGS:\n",
       "   * do not use ')clear completely' before having used 'statistics()'\n",
       "     It clears the statistics without warning!\n",
       "   * do not forget to pass the arguments of the testXxxx functions as Strings!\n",
       "     Otherwise, the test will fail and statistics() will not notice!\n",
       "   * testLibraryError does not prevent FriCAS from aborting the current block.\n",
       "     Thus, if a block contains other test functions, they will not be executed\n",
       "     and statistics() will not notice!\n",
       "   =============================================================================\n",
       "   WARNINGS:\n",
       "   Testsuite: HASHTBL\n",
       "   Testcase: equality\n",
       "   test: 1\n",
       "   testing in a domain without InputForm!\n",
       "\n",
       "   =============================================================================\n",
       "   Testsuite: HASHTBL\n",
       "     failed (total): 0 (1)\n",
       "\n",
       "   =============================================================================\n",
       "   testsuite | testcases: failed (total) | tests: failed (total)\n",
       "   HASHTBL                     0     (1)               0     (1)\n",
       "   =============================================================================\n",
       "   File summary.\n",
       "   unexpected failures: 0\n",
       "   expected failures: 0\n",
       "   unexpected passes: 0\n",
       "   total tests: 1\n",
       "                                                                   Type: Void\n"
      ]
     },
     "execution_count": 6,
     "metadata": {},
     "output_type": "execute_result"
    }
   ],
   "source": [
    "statistics()"
   ]
  },
  {
   "cell_type": "code",
   "execution_count": 7,
   "metadata": {
    "collapsed": false
   },
   "outputs": [
    {
     "name": "stderr",
     "output_type": "stream",
     "text": [
      "INDEX-TOO-LARGE-ERROR: \n",
      "  #<SB-KERNEL:INDEX-TOO-LARGE-ERROR expected-type: (INTEGER 0 (0)) datum: 0>\n"
     ]
    },
    {
     "data": {
      "text/plain": []
     },
     "execution_count": 7,
     "metadata": {},
     "output_type": "execute_result"
    }
   ],
   "source": []
  }
 ],
 "metadata": {
  "kernelspec": {
   "display_name": "FriCAS",
   "language": "spad",
   "name": "ifricas"
  },
  "language_info": {
   "codemirror_mode": "spad",
   "mimetype": "text/x-spad",
   "name": "SPAD",
   "pygments_lexer": "spad",
   "version": "1.2.6"
  },
  "name": "table.ipynb"
 },
 "nbformat": 4,
 "nbformat_minor": 0
}