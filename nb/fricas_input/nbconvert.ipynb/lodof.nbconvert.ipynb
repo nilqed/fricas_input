{
 "cells": [
  {
   "cell_type": "markdown",
   "metadata": {},
   "source": [
    "Copyright The Numerical Algorithms Group Limited 1991.\n",
    " lodof.input -----------------------------\n"
   ]
  },
  {
   "cell_type": "code",
   "execution_count": 0,
   "metadata": {
    "collapsed": false
   },
   "outputs": [
    {
     "data": {
      "text/plain": []
     },
     "execution_count": 0,
     "metadata": {},
     "output_type": "execute_result"
    }
   ],
   "source": [
    ")set break resume"
   ]
  },
  {
   "cell_type": "code",
   "execution_count": 1,
   "metadata": {
    "collapsed": false
   },
   "outputs": [
    {
     "name": "stdout",
     "output_type": "stream",
     "text": [
      "   UnittestCount is now explicitly exposed in frame initial \n",
      "   UnittestAux is now explicitly exposed in frame initial \n",
      "   Unittest is now explicitly exposed in frame initial \n"
     ]
    },
    {
     "data": {
      "text/plain": []
     },
     "execution_count": 1,
     "metadata": {},
     "output_type": "execute_result"
    }
   ],
   "source": [
    ")expose UnittestCount UnittestAux Unittest"
   ]
  },
  {
   "cell_type": "code",
   "execution_count": 2,
   "metadata": {
    "collapsed": false
   },
   "outputs": [
    {
     "name": "stdout",
     "output_type": "stream",
     "text": [
      "   All user variables and function definitions have been cleared.\n",
      "Warning: HyperTeX macro table not found\n"
     ]
    },
    {
     "data": {
      "text/plain": [
       "                                                                   Type: Void\n"
      ]
     },
     "execution_count": 2,
     "metadata": {},
     "output_type": "execute_result"
    }
   ],
   "source": [
    "testsuite \"factor$LODOF\""
   ]
  },
  {
   "cell_type": "code",
   "execution_count": 3,
   "metadata": {
    "collapsed": false
   },
   "outputs": [
    {
     "name": "stdout",
     "output_type": "stream",
     "text": [
      "   All user variables and function definitions have been cleared.\n"
     ]
    },
    {
     "data": {
      "text/plain": [
       "                                                                   Type: Void\n"
      ]
     },
     "execution_count": 3,
     "metadata": {},
     "output_type": "execute_result"
    }
   ],
   "source": [
    "testcase \"factor\""
   ]
  },
  {
   "cell_type": "code",
   "execution_count": 4,
   "metadata": {
    "collapsed": false
   },
   "outputs": [
    {
     "data": {
      "text/plain": [
       "   UnivariatePolynomial(t,AlgebraicNumber)\n",
       "                                                                   Type: Type\n"
      ]
     },
     "execution_count": 4,
     "metadata": {},
     "output_type": "execute_result"
    }
   ],
   "source": [
    "P := UP(t, AN)"
   ]
  },
  {
   "cell_type": "code",
   "execution_count": 5,
   "metadata": {
    "collapsed": false
   },
   "outputs": [
    {
     "data": {
      "text/plain": [
       "   Fraction(UnivariatePolynomial(t,AlgebraicNumber))\n",
       "                                                                   Type: Type\n"
      ]
     },
     "execution_count": 5,
     "metadata": {},
     "output_type": "execute_result"
    }
   ],
   "source": [
    "Q := FRAC P"
   ]
  },
  {
   "cell_type": "code",
   "execution_count": 6,
   "metadata": {
    "collapsed": false
   },
   "outputs": [
    {
     "data": {
      "text/plain": [
       "  LinearOrdinaryDifferentialOperator1(Fraction(UnivariatePolynomial(t,Algebraic\n",
       "  Number)))\n",
       "                                                                   Type: Type\n"
      ]
     },
     "execution_count": 6,
     "metadata": {},
     "output_type": "execute_result"
    }
   ],
   "source": [
    "L := LODO1 Q"
   ]
  },
  {
   "cell_type": "code",
   "execution_count": 7,
   "metadata": {
    "collapsed": false
   },
   "outputs": [
    {
     "name": "stdout",
     "output_type": "stream",
     "text": [
      "   LinearOrdinaryDifferentialOperatorFactorizer is now explicitly \n",
      "      exposed in frame initial \n"
     ]
    },
    {
     "data": {
      "text/plain": []
     },
     "execution_count": 7,
     "metadata": {},
     "output_type": "execute_result"
    }
   ],
   "source": [
    ")expose LODOF"
   ]
  },
  {
   "cell_type": "code",
   "execution_count": 8,
   "metadata": {
    "collapsed": false
   },
   "outputs": [
    {
     "name": "stdout",
     "output_type": "stream",
     "text": [
      "   Function declaration testFactor : List(\n",
      "      LinearOrdinaryDifferentialOperator1(Fraction(UnivariatePolynomial\n",
      "      (t,AlgebraicNumber)))) -> Void has been added to workspace.\n",
      "\n"
     ]
    },
    {
     "data": {
      "text/plain": [
       "                                                                   Type: Void\n"
      ]
     },
     "execution_count": 8,
     "metadata": {},
     "output_type": "execute_result"
    }
   ],
   "source": [
    "testFactor(l: List L): Void ==\n",
    "    free l1\n",
    "    free l2\n",
    "    l1 := reduce(*, l)\n",
    "    l2 := l\n",
    "    testEquals(\"factor l1\", \"l2\")"
   ]
  },
  {
   "cell_type": "code",
   "execution_count": 9,
   "metadata": {
    "collapsed": false
   },
   "outputs": [
    {
     "name": "stdout",
     "output_type": "stream",
     "text": [
      "   Function declaration xftestFactor : List(\n",
      "      LinearOrdinaryDifferentialOperator1(Fraction(UnivariatePolynomial\n",
      "      (t,AlgebraicNumber)))) -> Void has been added to workspace.\n",
      "\n"
     ]
    },
    {
     "data": {
      "text/plain": [
       "                                                                   Type: Void\n"
      ]
     },
     "execution_count": 9,
     "metadata": {},
     "output_type": "execute_result"
    }
   ],
   "source": [
    "xftestFactor(l: List L): Void ==\n",
    "    free l1\n",
    "    free l2\n",
    "    l1 := reduce(*, l)\n",
    "    l2 := l\n",
    "    xftestEquals(\"factor l1\", \"l2\")"
   ]
  },
  {
   "cell_type": "code",
   "execution_count": 10,
   "metadata": {
    "collapsed": false
   },
   "outputs": [
    {
     "data": {
      "text/plain": [
       "   D\n",
       "Type: LinearOrdinaryDifferentialOperator1(Fraction(UnivariatePolynomial(t,AlgebraicNumber)))\n"
      ]
     },
     "execution_count": 10,
     "metadata": {},
     "output_type": "execute_result"
    }
   ],
   "source": [
    "d := D()$L"
   ]
  },
  {
   "cell_type": "markdown",
   "metadata": {},
   "source": [
    " reducible order 2 operator (1-1)\n"
   ]
  },
  {
   "cell_type": "code",
   "execution_count": 11,
   "metadata": {
    "collapsed": false
   },
   "outputs": [
    {
     "data": {
      "text/plain": [
       "   t\n",
       "                      Type: Fraction(UnivariatePolynomial(t,AlgebraicNumber))\n"
      ]
     },
     "execution_count": 11,
     "metadata": {},
     "output_type": "execute_result"
    }
   ],
   "source": [
    "t := t::P::Q"
   ]
  },
  {
   "cell_type": "markdown",
   "metadata": {},
   "source": [
    " irreducible order 2 operator\n"
   ]
  },
  {
   "cell_type": "code",
   "execution_count": 12,
   "metadata": {
    "collapsed": false
   },
   "outputs": [
    {
     "name": "stdout",
     "output_type": "stream",
     "text": [
      "   Compiling function testFactor with type List(\n",
      "      LinearOrdinaryDifferentialOperator1(Fraction(UnivariatePolynomial\n",
      "      (t,AlgebraicNumber)))) -> Void \n",
      "   Compiled code for testFactor has been cleared.\n"
     ]
    },
    {
     "data": {
      "text/plain": [
       "                                                                   Type: Void\n"
      ]
     },
     "execution_count": 12,
     "metadata": {},
     "output_type": "execute_result"
    }
   ],
   "source": [
    "testFactor [d, d+t]"
   ]
  },
  {
   "cell_type": "markdown",
   "metadata": {},
   "source": [
    " Extremaly slow\n",
    " op2 := (t^9+t^3)*d^2 + (13*t^8+t^2)*d - 55*t^7 - 91*t\n",
    " factor(op2)\n",
    " reducible order 3 operator (1-2)\n"
   ]
  },
  {
   "cell_type": "code",
   "execution_count": 13,
   "metadata": {
    "collapsed": false
   },
   "outputs": [
    {
     "name": "stdout",
     "output_type": "stream",
     "text": [
      "   Compiling function testFactor with type List(\n",
      "      LinearOrdinaryDifferentialOperator1(Fraction(UnivariatePolynomial\n",
      "      (t,AlgebraicNumber)))) -> Void \n"
     ]
    },
    {
     "data": {
      "text/plain": [
       "                                                                   Type: Void\n"
      ]
     },
     "execution_count": 13,
     "metadata": {},
     "output_type": "execute_result"
    }
   ],
   "source": [
    "testFactor [2*t^3 * d^2 + 3*t^2 * d - 2]"
   ]
  },
  {
   "cell_type": "code",
   "execution_count": 14,
   "metadata": {
    "collapsed": false
   },
   "outputs": [
    {
     "data": {
      "text/plain": [
       "                                                                   Type: Void\n"
      ]
     },
     "execution_count": 14,
     "metadata": {},
     "output_type": "execute_result"
    }
   ],
   "source": [
    "testFactor [t-d, -2*t^3*d^2 - 3*t^2*d + 2]"
   ]
  },
  {
   "cell_type": "markdown",
   "metadata": {},
   "source": [
    " reducible order 3 operator (2-1)\n"
   ]
  },
  {
   "cell_type": "code",
   "execution_count": 15,
   "metadata": {
    "collapsed": false
   },
   "outputs": [
    {
     "data": {
      "text/plain": [
       "                                                                   Type: Void\n"
      ]
     },
     "execution_count": 15,
     "metadata": {},
     "output_type": "execute_result"
    }
   ],
   "source": [
    "testFactor [t-d, d^2 + t^2*d + 1]"
   ]
  },
  {
   "cell_type": "code",
   "execution_count": 16,
   "metadata": {
    "collapsed": false
   },
   "outputs": [
    {
     "data": {
      "text/plain": [
       "                                                                   Type: Void\n"
      ]
     },
     "execution_count": 16,
     "metadata": {},
     "output_type": "execute_result"
    }
   ],
   "source": [
    "testFactor [-2*t^3*d^2 - 3*t^2*d + 2, d - t]"
   ]
  },
  {
   "cell_type": "markdown",
   "metadata": {},
   "source": [
    " reducible order 3 operator (1-1-1)\n"
   ]
  },
  {
   "cell_type": "code",
   "execution_count": 17,
   "metadata": {
    "collapsed": false
   },
   "outputs": [
    {
     "data": {
      "text/plain": [
       "                                                                   Type: Void\n"
      ]
     },
     "execution_count": 17,
     "metadata": {},
     "output_type": "execute_result"
    }
   ],
   "source": [
    "testFactor [(t^9 + t^3)*d +(-sqrt 91+7)*t^8+(-sqrt 91 + 1)*t^2, _\n",
    "            d + ((sqrt 91 + 6)*t^6 + sqrt 91)/(t^7+t), _\n",
    "            d + (5*t^6 - 1)/(t^7 + t)]\n"
   ]
  },
  {
   "cell_type": "markdown",
   "metadata": {},
   "source": [
    " irreducible order 3 operator\n"
   ]
  },
  {
   "cell_type": "code",
   "execution_count": 18,
   "metadata": {
    "collapsed": false
   },
   "outputs": [
    {
     "data": {
      "text/plain": [
       "                                                                   Type: Void\n"
      ]
     },
     "execution_count": 18,
     "metadata": {},
     "output_type": "execute_result"
    }
   ],
   "source": [
    "testFactor [d^2 + t^2*d + 1, d - t]"
   ]
  },
  {
   "cell_type": "markdown",
   "metadata": {},
   "source": [
    " reducible order 6 operator (1-1-1-1-1-1)\n"
   ]
  },
  {
   "cell_type": "code",
   "execution_count": 19,
   "metadata": {
    "collapsed": false
   },
   "outputs": [
    {
     "data": {
      "text/plain": [
       "                                                                   Type: Void\n"
      ]
     },
     "execution_count": 19,
     "metadata": {},
     "output_type": "execute_result"
    }
   ],
   "source": [
    "testFactor [t^6*d + (- sqrt(-1) + 5)*t^5, _\n",
    "            d + (sqrt(-1)+4)/t, _\n",
    "            d + 5/t, _\n",
    "            d + 4/t, _\n",
    "            d + 3*t^2/(t^3-1), _\n",
    "            d + (-t^3-2)/(t^4-t)]\n"
   ]
  },
  {
   "cell_type": "markdown",
   "metadata": {},
   "source": [
    " reducible order 4 operator (2-2)\n"
   ]
  },
  {
   "cell_type": "code",
   "execution_count": 20,
   "metadata": {
    "collapsed": false
   },
   "outputs": [
    {
     "data": {
      "text/plain": [
       "                                                                   Type: Void\n"
      ]
     },
     "execution_count": 20,
     "metadata": {},
     "output_type": "execute_result"
    }
   ],
   "source": [
    "testFactor [d^3 + 2 * d^2 + 5 / t * d + 7 / t^2]"
   ]
  },
  {
   "cell_type": "code",
   "execution_count": 21,
   "metadata": {
    "collapsed": false
   },
   "outputs": [
    {
     "name": "stdout",
     "output_type": "stream",
     "text": [
      "   Compiling function xftestFactor with type List(\n",
      "      LinearOrdinaryDifferentialOperator1(Fraction(UnivariatePolynomial\n",
      "      (t,AlgebraicNumber)))) -> Void \n"
     ]
    },
    {
     "data": {
      "text/plain": [
       "                                                                   Type: Void\n"
      ]
     },
     "execution_count": 21,
     "metadata": {},
     "output_type": "execute_result"
    }
   ],
   "source": [
    "xftestFactor [2*t^3 * d^2 + 3*t^2 * d - 2, 2*t^3 * d^2 + 3*t^2 * d - 2]"
   ]
  },
  {
   "cell_type": "code",
   "execution_count": 22,
   "metadata": {
    "collapsed": false
   },
   "outputs": [
    {
     "data": {
      "text/plain": [
       "   =============================================================================\n",
       "   General WARNINGS:\n",
       "   * do not use ')clear completely' before having used 'statistics()'\n",
       "     It clears the statistics without warning!\n",
       "   * do not forget to pass the arguments of the testXxxx functions as Strings!\n",
       "     Otherwise, the test will fail and statistics() will not notice!\n",
       "   * testLibraryError does not prevent FriCAS from aborting the current block.\n",
       "     Thus, if a block contains other test functions, they will not be executed\n",
       "     and statistics() will not notice!\n",
       "   =============================================================================\n",
       "   WARNINGS:\n",
       "   Testsuite: factor$LODOF\n",
       "   Testcase: factor\n",
       "   test: 1\n",
       "   testing in a domain without InputForm!\n",
       "   Testsuite: factor$LODOF\n",
       "   Testcase: factor\n",
       "   test: 2\n",
       "   testing in a domain without InputForm!\n",
       "   Testsuite: factor$LODOF\n",
       "   Testcase: factor\n",
       "   test: 3\n",
       "   testing in a domain without InputForm!\n",
       "   Testsuite: factor$LODOF\n",
       "   Testcase: factor\n",
       "   test: 4\n",
       "   testing in a domain without InputForm!\n",
       "   Testsuite: factor$LODOF\n",
       "   Testcase: factor\n",
       "   test: 5\n",
       "   testing in a domain without InputForm!\n",
       "   Testsuite: factor$LODOF\n",
       "   Testcase: factor\n",
       "   test: 6\n",
       "   testing in a domain without InputForm!\n",
       "   Testsuite: factor$LODOF\n",
       "   Testcase: factor\n",
       "   test: 7\n",
       "   testing in a domain without InputForm!\n",
       "   Testsuite: factor$LODOF\n",
       "   Testcase: factor\n",
       "   test: 8\n",
       "   testing in a domain without InputForm!\n",
       "   Testsuite: factor$LODOF\n",
       "   Testcase: factor\n",
       "   test: 9\n",
       "   testing in a domain without InputForm!\n",
       "   Testsuite: factor$LODOF\n",
       "   Testcase: factor\n",
       "   test: 10\n",
       "   testing in a domain without InputForm!\n",
       "\n",
       "   =============================================================================\n",
       "   Testsuite: factor$LODOF\n",
       "     failed (total): 0 (1)\n",
       "\n",
       "   =============================================================================\n",
       "   testsuite | testcases: failed (total) | tests: failed (total)\n",
       "   factor$LODOF                0     (1)               0    (10)\n",
       "   =============================================================================\n",
       "   File summary.\n",
       "   unexpected failures: 0\n",
       "   expected failures: 1\n",
       "   unexpected passes: 0\n",
       "   total tests: 10\n",
       "                                                                   Type: Void\n"
      ]
     },
     "execution_count": 22,
     "metadata": {},
     "output_type": "execute_result"
    }
   ],
   "source": [
    "statistics()"
   ]
  },
  {
   "cell_type": "code",
   "execution_count": 23,
   "metadata": {
    "collapsed": false
   },
   "outputs": [
    {
     "name": "stderr",
     "output_type": "stream",
     "text": [
      "INDEX-TOO-LARGE-ERROR: \n",
      "  #<SB-KERNEL:INDEX-TOO-LARGE-ERROR expected-type: (INTEGER 0 (0)) datum: 0>\n"
     ]
    },
    {
     "data": {
      "text/plain": []
     },
     "execution_count": 23,
     "metadata": {},
     "output_type": "execute_result"
    }
   ],
   "source": []
  }
 ],
 "metadata": {
  "kernelspec": {
   "display_name": "FriCAS",
   "language": "spad",
   "name": "ifricas"
  },
  "language_info": {
   "codemirror_mode": "spad",
   "mimetype": "text/x-spad",
   "name": "SPAD",
   "pygments_lexer": "spad",
   "version": "1.2.6"
  },
  "name": "lodof.ipynb"
 },
 "nbformat": 4,
 "nbformat_minor": 0
}