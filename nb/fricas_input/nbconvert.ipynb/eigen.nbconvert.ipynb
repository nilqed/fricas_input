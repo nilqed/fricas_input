{
 "cells": [
  {
   "cell_type": "markdown",
   "metadata": {},
   "source": [
    "Copyright The Numerical Algorithms Group Limited 1991.\n",
    " Computation of eigenvalues and eigenvectors\n"
   ]
  },
  {
   "cell_type": "markdown",
   "metadata": {},
   "source": [
    " computation of characteristic polynomial\n",
    " for matrix of integers\n"
   ]
  },
  {
   "cell_type": "code",
   "execution_count": 0,
   "metadata": {
    "collapsed": false
   },
   "outputs": [
    {
     "name": "stdout",
     "output_type": "stream",
     "text": [
      "   All user variables and function definitions have been cleared.\n"
     ]
    },
    {
     "data": {
      "text/plain": []
     },
     "execution_count": 0,
     "metadata": {},
     "output_type": "execute_result"
    }
   ],
   "source": [
    ")cl all"
   ]
  },
  {
   "cell_type": "code",
   "execution_count": 1,
   "metadata": {
    "collapsed": false
   },
   "outputs": [
    {
     "name": "stdout",
     "output_type": "stream",
     "text": [
      "Warning: HyperTeX macro table not found\n"
     ]
    },
    {
     "data": {
      "text/plain": [
       "   +1   2    1 +\n",
       "   |           |\n",
       "   |2   1   - 2|\n",
       "   |           |\n",
       "   +1  - 2   4 +\n",
       "                                                        Type: Matrix(Integer)\n"
      ]
     },
     "execution_count": 1,
     "metadata": {},
     "output_type": "execute_result"
    }
   ],
   "source": [
    "m:=matrix([[1,2,1],[2,1,-2],[1,-2,4]])"
   ]
  },
  {
   "cell_type": "code",
   "execution_count": 2,
   "metadata": {
    "collapsed": false
   },
   "outputs": [
    {
     "data": {
      "text/plain": [
       "       3      2\n",
       "   - %B  + 6%B  - 25\n",
       "                                                    Type: Polynomial(Integer)\n"
      ]
     },
     "execution_count": 2,
     "metadata": {},
     "output_type": "execute_result"
    }
   ],
   "source": [
    "characteristicPolynomial m"
   ]
  },
  {
   "cell_type": "markdown",
   "metadata": {},
   "source": [
    " for matrix of polynomials\n"
   ]
  },
  {
   "cell_type": "code",
   "execution_count": 3,
   "metadata": {
    "collapsed": false
   },
   "outputs": [
    {
     "data": {
      "text/plain": [
       "      3     2\n",
       "   - x  + 6x  - 25\n",
       "                                                    Type: Polynomial(Integer)\n"
      ]
     },
     "execution_count": 3,
     "metadata": {},
     "output_type": "execute_result"
    }
   ],
   "source": [
    "characteristicPolynomial(m,x)"
   ]
  },
  {
   "cell_type": "code",
   "execution_count": 4,
   "metadata": {
    "collapsed": false
   },
   "outputs": [
    {
     "data": {
      "text/plain": [
       "   +                      2      +\n",
       "   | x + 1   - x y + 2   x  + 1  |\n",
       "   |                             |\n",
       "   |                      2      |\n",
       "   |- x + 2   y + 2x     x  - 2  |\n",
       "   |                             |\n",
       "   |   2                         |\n",
       "   +  y        x - 2    - x y + 4+\n",
       "                                            Type: Matrix(Polynomial(Integer))\n"
      ]
     },
     "execution_count": 4,
     "metadata": {},
     "output_type": "execute_result"
    }
   ],
   "source": [
    "p:=matrix([[x+1,2-x*y,x^2+1],[2-x,y+2*x,x^2-2],[y^2,x-2,4-x*y]])"
   ]
  },
  {
   "cell_type": "code",
   "execution_count": 5,
   "metadata": {
    "collapsed": false
   },
   "outputs": [
    {
     "name": "stdout",
     "output_type": "stream",
     "text": [
      "    "
     ]
    },
    {
     "data": {
      "text/plain": [
       "         3    2           3       3            2                       2\n",
       "     (- x  - x  + 2x - 1)y  + (- x  + (%C - 1)x  + (%C - 3)x + %C - 4)y\n",
       "   + \n",
       "          3             2        2                  2                 4\n",
       "     (- 2x  + (4%C - 8)x  + (- %C  - 2%C + 16)x + %C  - 5%C + 4)y - 2x\n",
       "   + \n",
       "              3               2       2                   3      2\n",
       "     (%C + 5)x  + (- 4%C + 7)x  + (3%C  - 18%C + 18)x - %C  + 5%C  + 4%C - 24\n",
       "                                                    Type: Polynomial(Integer)\n"
      ]
     },
     "execution_count": 5,
     "metadata": {},
     "output_type": "execute_result"
    }
   ],
   "source": [
    "characteristicPolynomial p"
   ]
  },
  {
   "cell_type": "markdown",
   "metadata": {},
   "source": [
    " for general matrix of FRAC POLY INT\n"
   ]
  },
  {
   "cell_type": "code",
   "execution_count": 6,
   "metadata": {
    "collapsed": false
   },
   "outputs": [
    {
     "name": "stdout",
     "output_type": "stream",
     "text": [
      "    "
     ]
    },
    {
     "data": {
      "text/plain": [
       "         3    2           3       3           2                     2\n",
       "     (- x  - x  + 2x - 1)y  + (- x  + (t - 1)x  + (t - 3)x + t - 4)y\n",
       "   + \n",
       "          3            2       2                2                4           3\n",
       "     (- 2x  + (4t - 8)x  + (- t  - 2t + 16)x + t  - 5t + 4)y - 2x  + (t + 5)x\n",
       "   + \n",
       "                2      2                 3     2\n",
       "     (- 4t + 7)x  + (3t  - 18t + 18)x - t  + 5t  + 4t - 24\n",
       "                                                    Type: Polynomial(Integer)\n"
      ]
     },
     "execution_count": 6,
     "metadata": {},
     "output_type": "execute_result"
    }
   ],
   "source": [
    "characteristicPolynomial(p,t)"
   ]
  },
  {
   "cell_type": "code",
   "execution_count": 7,
   "metadata": {
    "collapsed": false
   },
   "outputs": [
    {
     "data": {
      "text/plain": [
       "   +a  b  c+\n",
       "   |       |\n",
       "   |d  e  f|\n",
       "   |       |\n",
       "   +g  h  k+\n",
       "                                            Type: Matrix(Polynomial(Integer))\n"
      ]
     },
     "execution_count": 7,
     "metadata": {},
     "output_type": "execute_result"
    }
   ],
   "source": [
    "n:=matrix([[a,b,c],[d,e,f],[g,h,k]])"
   ]
  },
  {
   "cell_type": "markdown",
   "metadata": {},
   "source": [
    " there are many functions for the computation of  eigenvalues and\n",
    " eigenvectors:\n",
    " the function eigenvalues returns the eigenvalues :\n"
   ]
  },
  {
   "cell_type": "code",
   "execution_count": 8,
   "metadata": {
    "collapsed": false
   },
   "outputs": [
    {
     "name": "stdout",
     "output_type": "stream",
     "text": [
      "  "
     ]
    },
    {
     "data": {
      "text/plain": [
       "                                 2\n",
       "     ((a - %D)e - b d - %D a + %D )k + ((- a + %D)f + c d)h\n",
       "   + \n",
       "                                       2                2      3\n",
       "     (b f - c e + %D c)g + (- %D a + %D )e + %D b d + %D a - %D\n",
       "                                                    Type: Polynomial(Integer)\n"
      ]
     },
     "execution_count": 8,
     "metadata": {},
     "output_type": "execute_result"
    }
   ],
   "source": [
    "characteristicPolynomial n"
   ]
  },
  {
   "cell_type": "code",
   "execution_count": 9,
   "metadata": {
    "collapsed": false
   },
   "outputs": [
    {
     "data": {
      "text/plain": [
       "             2\n",
       "   [5,%E | %E  - %E - 5]\n",
       "Type: List(Union(Fraction(Polynomial(Integer)),SuchThat(Symbol,Polynomial(Integer))))\n"
      ]
     },
     "execution_count": 9,
     "metadata": {},
     "output_type": "execute_result"
    }
   ],
   "source": [
    "leig := eigenvalues m"
   ]
  },
  {
   "cell_type": "markdown",
   "metadata": {},
   "source": [
    " alpha is a rational eigenvalue; the corresponding eigenvector can be\n",
    " computed with the function eigenvector:\n"
   ]
  },
  {
   "cell_type": "code",
   "execution_count": 10,
   "metadata": {
    "collapsed": false
   },
   "outputs": [
    {
     "data": {
      "text/plain": [
       "   5\n",
       "                               Type: Union(Fraction(Polynomial(Integer)),...)\n"
      ]
     },
     "execution_count": 10,
     "metadata": {},
     "output_type": "execute_result"
    }
   ],
   "source": [
    "alpha:=leig.1"
   ]
  },
  {
   "cell_type": "code",
   "execution_count": 11,
   "metadata": {
    "collapsed": false
   },
   "outputs": [
    {
     "data": {
      "text/plain": [
       "    + 0 +\n",
       "    |   |\n",
       "    |  1|\n",
       "   [|- -|]\n",
       "    |  2|\n",
       "    |   |\n",
       "    + 1 +\n",
       "                  Type: List(Matrix(Fraction(Polynomial(Fraction(Integer)))))\n"
      ]
     },
     "execution_count": 11,
     "metadata": {},
     "output_type": "execute_result"
    }
   ],
   "source": [
    "eigenvector(alpha,m)"
   ]
  },
  {
   "cell_type": "markdown",
   "metadata": {},
   "source": [
    " beta is a \"symbolic\" eigenvalue, i.e. it is a root (symbolically expressed)\n",
    " of an irreducible factor of the characteristic polynomial. In this case\n",
    " too we can compute the associate eigenvectors.\n"
   ]
  },
  {
   "cell_type": "code",
   "execution_count": 12,
   "metadata": {
    "collapsed": false
   },
   "outputs": [
    {
     "data": {
      "text/plain": [
       "          2\n",
       "   %E | %E  - %E - 5\n",
       "                        Type: Union(SuchThat(Symbol,Polynomial(Integer)),...)\n"
      ]
     },
     "execution_count": 12,
     "metadata": {},
     "output_type": "execute_result"
    }
   ],
   "source": [
    "beta:=leig.2"
   ]
  },
  {
   "cell_type": "markdown",
   "metadata": {},
   "source": [
    " eigenvector(beta,m)  not accepted by the interpreter\n",
    " eigenvalues and eigenvectors can be computed simultaneously\n",
    "  with the function eigenvectors\n"
   ]
  },
  {
   "cell_type": "code",
   "execution_count": 13,
   "metadata": {
    "collapsed": false
   },
   "outputs": [
    {
     "data": {
      "text/plain": [
       "    +%E+\n",
       "    |  |\n",
       "   [|2 |]\n",
       "    |  |\n",
       "    +1 +\n",
       "                            Type: List(Matrix(Fraction(Polynomial(Integer))))\n"
      ]
     },
     "execution_count": 13,
     "metadata": {},
     "output_type": "execute_result"
    }
   ],
   "source": [
    "eigenvector(beta,m)$EP(INT)"
   ]
  },
  {
   "cell_type": "code",
   "execution_count": 14,
   "metadata": {
    "collapsed": false
   },
   "outputs": [
    {
     "name": "stdout",
     "output_type": "stream",
     "text": [
      "\n",
      "\n"
     ]
    },
    {
     "data": {
      "text/plain": [
       "                                   + 0 +\n",
       "                                   |   |\n",
       "                                   |  1|\n",
       "   [[eigval= 5,eigmult= 1,eigvec= [|- -|]],\n",
       "                                   |  2|\n",
       "                                   |   |\n",
       "                                   + 1 +\n",
       "                                                     +%G+\n",
       "                     2                               |  |\n",
       "    [eigval= (%G | %G  - %G - 5),eigmult= 1,eigvec= [|2 |]]]\n",
       "                                                     |  |\n",
       "                                                     +1 +\n",
       "Type: List(Record(eigval: Union(Fraction(Polynomial(Integer)),SuchThat(Symbol,Polynomial(Integer))),eigmult: NonNegativeInteger,eigvec: List(Matrix(Fraction(Polynomial(Integer))))))\n"
      ]
     },
     "execution_count": 14,
     "metadata": {},
     "output_type": "execute_result"
    }
   ],
   "source": [
    "eigenvectors m"
   ]
  },
  {
   "cell_type": "code",
   "execution_count": 15,
   "metadata": {
    "collapsed": false
   },
   "outputs": [
    {
     "data": {
      "text/plain": [
       "   +   2    2      2           2+\n",
       "   |- y  + x   - 3y  + x y + 2x |\n",
       "   |                            |\n",
       "   +  y + x         3y + 2x     +\n",
       "                                            Type: Matrix(Polynomial(Integer))\n"
      ]
     },
     "execution_count": 15,
     "metadata": {},
     "output_type": "execute_result"
    }
   ],
   "source": [
    "q:=matrix [[x^2-y^2,(x-y)*(2*x+3*y)],[x+y,2*x+3*y]]"
   ]
  },
  {
   "cell_type": "code",
   "execution_count": 16,
   "metadata": {
    "collapsed": false
   },
   "outputs": [
    {
     "name": "stdout",
     "output_type": "stream",
     "text": [
      "\n",
      "\n"
     ]
    },
    {
     "data": {
      "text/plain": [
       "                2         2                          +- y + x+\n",
       "   [[eigval= - y  + 3y + x  + 2x,eigmult= 1,eigvec= [|       |]],\n",
       "                                                     +   1   +\n",
       "                                   +- 3y - 2x+\n",
       "                                   |---------|\n",
       "    [eigval= 0,eigmult= 1,eigvec= [|  y + x  |]]]\n",
       "                                   |         |\n",
       "                                   +    1    +\n",
       "Type: List(Record(eigval: Union(Fraction(Polynomial(Integer)),SuchThat(Symbol,Polynomial(Integer))),eigmult: NonNegativeInteger,eigvec: List(Matrix(Fraction(Polynomial(Integer))))))\n"
      ]
     },
     "execution_count": 16,
     "metadata": {},
     "output_type": "execute_result"
    }
   ],
   "source": [
    "eigenvectors(q)"
   ]
  },
  {
   "cell_type": "code",
   "execution_count": 17,
   "metadata": {
    "collapsed": false
   },
   "outputs": [
    {
     "data": {
      "text/plain": [
       "   +76   - 18  58  - 10+\n",
       "   |                   |\n",
       "   |- 4   78   2   - 2 |\n",
       "   |                   |\n",
       "   |- 6   15   45   3  |\n",
       "   |                   |\n",
       "   +22   - 75  7    41 +\n",
       "                                                        Type: Matrix(Integer)\n"
      ]
     },
     "execution_count": 17,
     "metadata": {},
     "output_type": "execute_result"
    }
   ],
   "source": [
    "p:=matrix([[76,-18,58,-10],[-4,78,2,-2],[-6,15,45,3],[22,-75,7,41]])"
   ]
  },
  {
   "cell_type": "markdown",
   "metadata": {},
   "source": [
    " In this case the algebraic multiplicity (the field eigmult) is different\n",
    " from the geometric multiplicity (the length of the field eigvec).\n"
   ]
  },
  {
   "cell_type": "code",
   "execution_count": 18,
   "metadata": {
    "collapsed": false
   },
   "outputs": [
    {
     "name": "stdout",
     "output_type": "stream",
     "text": [
      "\n",
      "\n"
     ]
    },
    {
     "data": {
      "text/plain": [
       "                                    +10 +\n",
       "                                    |-- |\n",
       "                                    | 7 |\n",
       "                                    |   |\n",
       "                                    | 2 |\n",
       "                                    | - |\n",
       "   [[eigval= 48,eigmult= 2,eigvec= [| 7 |]],\n",
       "                                    |   |\n",
       "                                    |  3|\n",
       "                                    |- -|\n",
       "                                    |  7|\n",
       "                                    |   |\n",
       "                                    + 1 +\n",
       "                                    +- 2+\n",
       "                                    |   |\n",
       "                                    |- 1|\n",
       "    [eigval= 72,eigmult= 2,eigvec= [|   |]]]\n",
       "                                    | 0 |\n",
       "                                    |   |\n",
       "                                    + 1 +\n",
       "Type: List(Record(eigval: Union(Fraction(Polynomial(Integer)),SuchThat(Symbol,Polynomial(Integer))),eigmult: NonNegativeInteger,eigvec: List(Matrix(Fraction(Polynomial(Integer))))))\n"
      ]
     },
     "execution_count": 18,
     "metadata": {},
     "output_type": "execute_result"
    }
   ],
   "source": [
    "ll := eigenvectors p"
   ]
  },
  {
   "cell_type": "code",
   "execution_count": 19,
   "metadata": {
    "collapsed": false
   },
   "outputs": [
    {
     "data": {
      "text/plain": [
       "                                +  10+\n",
       "                                |- --|\n",
       "                            +0+ |   3|                           +- 2+ +- 12+\n",
       "                            | | |    |                           |   | |    |\n",
       "                            |0| |  2 |                           |- 1| |- 3 |\n",
       "   [[eigval= 48,geneigvec= [| |,|- - |]],[eigval= 72,geneigvec= [|   |,|    |]]]\n",
       "                            |0| |  3 |                           | 0 | | 1  |\n",
       "                            | | |    |                           |   | |    |\n",
       "                            +1+ | 1  |                           + 1 + + 0  +\n",
       "                                |    |\n",
       "                                + 0  +\n",
       "Type: List(Record(eigval: Union(Fraction(Polynomial(Integer)),SuchThat(Symbol,Polynomial(Integer))),geneigvec: List(Matrix(Fraction(Polynomial(Integer))))))\n"
      ]
     },
     "execution_count": 19,
     "metadata": {},
     "output_type": "execute_result"
    }
   ],
   "source": [
    "generalizedEigenvectors p"
   ]
  },
  {
   "cell_type": "markdown",
   "metadata": {},
   "source": [
    " generalizedEigenvector(ll.1,p) the interpreter can not handle this\n",
    " these functions return respectively the complete set of\n",
    " generalized eigenvectors\n",
    " or the generalized eigenvectors associated to a particular eigenvalue alpha,\n",
    " i.e. a basis of the nullSpace((p-alpha*I)^k) where k is the  algebraic\n",
    " multiplicity of alpha.\n",
    " In the case of symbolic eigenvalues it is possible to convert the symbolic\n",
    " eigenvalue and the corresponding eigenvectors in a more explicit form.\n"
   ]
  },
  {
   "cell_type": "code",
   "execution_count": 20,
   "metadata": {
    "collapsed": false
   },
   "outputs": [
    {
     "data": {
      "text/plain": [
       "        +  10+\n",
       "        |- --|\n",
       "    +0+ |   3|\n",
       "    | | |    |\n",
       "    |0| |  2 |\n",
       "   [| |,|- - |]\n",
       "    |0| |  3 |\n",
       "    | | |    |\n",
       "    +1+ | 1  |\n",
       "        |    |\n",
       "        + 0  +\n",
       "                            Type: List(Matrix(Fraction(Polynomial(Integer))))\n"
      ]
     },
     "execution_count": 20,
     "metadata": {},
     "output_type": "execute_result"
    }
   ],
   "source": [
    "generalizedEigenvector(ll.1,p)$EP(INT)"
   ]
  },
  {
   "cell_type": "code",
   "execution_count": 21,
   "metadata": {
    "collapsed": false
   },
   "outputs": [
    {
     "data": {
      "text/plain": [
       "   +1   2    1 +\n",
       "   |           |\n",
       "   |2   1   - 2|\n",
       "   |           |\n",
       "   +1  - 2   4 +\n",
       "                                                        Type: Matrix(Integer)\n"
      ]
     },
     "execution_count": 21,
     "metadata": {},
     "output_type": "execute_result"
    }
   ],
   "source": [
    "m"
   ]
  },
  {
   "cell_type": "markdown",
   "metadata": {},
   "source": [
    " the function radicalEigenvalues expresses, when possible, the eigenvalues\n",
    " in terms of radicals.\n"
   ]
  },
  {
   "cell_type": "code",
   "execution_count": 22,
   "metadata": {
    "collapsed": false
   },
   "outputs": [
    {
     "data": {
      "text/plain": [
       "   + 30    4    24 +\n",
       "   |               |\n",
       "   |- 17   8    - 7|\n",
       "   |               |\n",
       "   +- 31  - 54  - 5+\n",
       "                                                        Type: Matrix(Integer)\n"
      ]
     },
     "execution_count": 22,
     "metadata": {},
     "output_type": "execute_result"
    }
   ],
   "source": [
    "mm:=matrix([[30,4,24],[-17,8,-7],[-31,-54,-5]])"
   ]
  },
  {
   "cell_type": "code",
   "execution_count": 23,
   "metadata": {
    "collapsed": false
   },
   "outputs": [
    {
     "data": {
      "text/plain": [
       "       +--+      +--+\n",
       "    - \\|21  + 1 \\|21  + 1\n",
       "   [-----------,---------,5]\n",
       "         2          2\n",
       "                                              Type: List(Expression(Integer))\n"
      ]
     },
     "execution_count": 23,
     "metadata": {},
     "output_type": "execute_result"
    }
   ],
   "source": [
    "le1:=radicalEigenvalues m"
   ]
  },
  {
   "cell_type": "markdown",
   "metadata": {},
   "source": [
    " the function radicalEigenvector computes the eigenvectors assocoted to\n",
    " a given eigenvalue, expressed in terms of radicals\n"
   ]
  },
  {
   "cell_type": "code",
   "execution_count": 24,
   "metadata": {
    "collapsed": false
   },
   "outputs": [
    {
     "data": {
      "text/plain": [
       "       +---+      +---+\n",
       "   [22\\|- 1 ,- 22\\|- 1 ,33]\n",
       "                                              Type: List(Expression(Integer))\n"
      ]
     },
     "execution_count": 24,
     "metadata": {},
     "output_type": "execute_result"
    }
   ],
   "source": [
    "le2:=radicalEigenvalues mm"
   ]
  },
  {
   "cell_type": "code",
   "execution_count": 25,
   "metadata": {
    "collapsed": false
   },
   "outputs": [
    {
     "data": {
      "text/plain": [
       "    +    10   +\n",
       "    |---------|\n",
       "    | +--+    |\n",
       "   [|\\|21  - 1|]\n",
       "    |         |\n",
       "    |    2    |\n",
       "    |         |\n",
       "    +    1    +\n",
       "                                      Type: List(Matrix(Expression(Integer)))\n"
      ]
     },
     "execution_count": 25,
     "metadata": {},
     "output_type": "execute_result"
    }
   ],
   "source": [
    "radicalEigenvector(le1.2, m)"
   ]
  },
  {
   "cell_type": "markdown",
   "metadata": {},
   "source": [
    " the function radicalEigenvectors computes simoultaneously all the\n",
    " eigenvalues and the associated eigenvectors  and expresses the , when\n",
    " it is possible, in terms of radical.\n"
   ]
  },
  {
   "cell_type": "code",
   "execution_count": 26,
   "metadata": {
    "collapsed": false
   },
   "outputs": [
    {
     "data": {
      "text/plain": [
       "    +       +---+       +\n",
       "    |- 1449\\|- 1  + 1720|\n",
       "    |-------------------|\n",
       "    |      +---+        |\n",
       "    |  328\\|- 1  - 3343 |\n",
       "    |                   |\n",
       "   [|      +---+        |]\n",
       "    |    7\\|- 1  - 9    |\n",
       "    |   ------------    |\n",
       "    |      +---+        |\n",
       "    |   38\\|- 1  - 8    |\n",
       "    |                   |\n",
       "    +         1         +\n",
       "                                      Type: List(Matrix(Expression(Integer)))\n"
      ]
     },
     "execution_count": 26,
     "metadata": {},
     "output_type": "execute_result"
    }
   ],
   "source": [
    "radicalEigenvector(le2.2,mm)"
   ]
  },
  {
   "cell_type": "code",
   "execution_count": 27,
   "metadata": {
    "collapsed": false
   },
   "outputs": [
    {
     "name": "stdout",
     "output_type": "stream",
     "text": [
      "\n",
      "\n",
      "\n"
     ]
    },
    {
     "data": {
      "text/plain": [
       "                                            + +--+    +\n",
       "              +--+                          |\\|21  + 1|\n",
       "             \\|21  + 1                      |---------|\n",
       "   [[radval= ---------,radmult= 1,radvect= [|    2    |]],\n",
       "                 2                          |         |\n",
       "                                            |    2    |\n",
       "                                            |         |\n",
       "                                            +    1    +\n",
       "                                              +   +--+    +\n",
       "                +--+                          |- \\|21  + 1|\n",
       "             - \\|21  + 1                      |-----------|\n",
       "    [radval= -----------,radmult= 1,radvect= [|     2     |]],\n",
       "                  2                           |           |\n",
       "                                              |     2     |\n",
       "                                              |           |\n",
       "                                              +     1     +\n",
       "                                    + 0 +\n",
       "                                    |   |\n",
       "                                    |  1|\n",
       "    [radval= 5,radmult= 1,radvect= [|- -|]]]\n",
       "                                    |  2|\n",
       "                                    |   |\n",
       "                                    + 1 +\n",
       "Type: List(Record(radval: Expression(Integer),radmult: Integer,radvect: List(Matrix(Expression(Integer)))))\n"
      ]
     },
     "execution_count": 27,
     "metadata": {},
     "output_type": "execute_result"
    }
   ],
   "source": [
    "radicalEigenvectors m"
   ]
  },
  {
   "cell_type": "markdown",
   "metadata": {},
   "source": [
    " there exist analogous functions for the computation of real and complex\n",
    " eigenvalues and eigenvectors.\n",
    " in order to compute respectively the eigenvalues or the\n",
    " eigenvalues and the associared eigevectors of a matrix m and express them\n",
    " as rational numbers (Gaussian rational) up to precision 1/1000000 use\n"
   ]
  },
  {
   "cell_type": "code",
   "execution_count": 28,
   "metadata": {
    "collapsed": false
   },
   "outputs": [
    {
     "name": "stdout",
     "output_type": "stream",
     "text": [
      "\n",
      "\n",
      "\n"
     ]
    },
    {
     "data": {
      "text/plain": [
       "                                             +   +---+     +\n",
       "                                             |11\\|- 1  - 16|\n",
       "                                             |-------------|\n",
       "                                             |      29     |\n",
       "                  +---+                      |             |\n",
       "   [[radval= - 22\\|- 1 ,radmult= 1,radvect= [|   +---+     |]],\n",
       "                                             |11\\|- 1  + 13|\n",
       "                                             |-------------|\n",
       "                                             |      58     |\n",
       "                                             |             |\n",
       "                                             +      1      +\n",
       "                                           +     +---+     +\n",
       "                                           |- 11\\|- 1  - 16|\n",
       "                                           |---------------|\n",
       "                                           |       29      |\n",
       "                +---+                      |               |\n",
       "    [radval= 22\\|- 1 ,radmult= 1,radvect= [|     +---+     |]],\n",
       "                                           |- 11\\|- 1  + 13|\n",
       "                                           |---------------|\n",
       "                                           |       58      |\n",
       "                                           |               |\n",
       "                                           +       1       +\n",
       "                                     + 4 +\n",
       "                                     |   |\n",
       "    [radval= 33,radmult= 1,radvect= [|- 3|]]]\n",
       "                                     |   |\n",
       "                                     + 1 +\n",
       "Type: List(Record(radval: Expression(Integer),radmult: Integer,radvect: List(Matrix(Expression(Integer)))))\n"
      ]
     },
     "execution_count": 28,
     "metadata": {},
     "output_type": "execute_result"
    }
   ],
   "source": [
    "radicalEigenvectors mm"
   ]
  },
  {
   "cell_type": "code",
   "execution_count": 29,
   "metadata": {
    "collapsed": false
   },
   "outputs": [
    {
     "data": {
      "text/plain": [
       "      3756603   5853755\n",
       "   [- -------,5,-------]\n",
       "      2097152   2097152\n",
       "                                                Type: List(Fraction(Integer))\n"
      ]
     },
     "execution_count": 29,
     "metadata": {},
     "output_type": "execute_result"
    }
   ],
   "source": [
    "realEigenvalues(m,1/1000000)"
   ]
  },
  {
   "cell_type": "code",
   "execution_count": 30,
   "metadata": {
    "collapsed": false
   },
   "outputs": [
    {
     "data": {
      "text/plain": [
       "   [- 22%i,22%i,33]\n",
       "                                       Type: List(Complex(Fraction(Integer)))\n"
      ]
     },
     "execution_count": 30,
     "metadata": {},
     "output_type": "execute_result"
    }
   ],
   "source": [
    "complexEigenvalues(mm,1/1000000)"
   ]
  },
  {
   "cell_type": "code",
   "execution_count": 31,
   "metadata": {
    "collapsed": false
   },
   "outputs": [
    {
     "name": "stdout",
     "output_type": "stream",
     "text": [
      "\n",
      "\n",
      "\n"
     ]
    },
    {
     "data": {
      "text/plain": [
       "                                    + 0 +\n",
       "                                    |   |\n",
       "                                    |  1|\n",
       "   [[outval= 5,outmult= 1,outvect= [|- -|]],\n",
       "                                    |  2|\n",
       "                                    |   |\n",
       "                                    + 1 +\n",
       "                                          +5853755+\n",
       "                                          |-------|\n",
       "             5853755                      |2097152|\n",
       "    [outval= -------,outmult= 1,outvect= [|       |]],\n",
       "             2097152                      |   2   |\n",
       "                                          |       |\n",
       "                                          +   1   +\n",
       "                                            +  3756603+\n",
       "                                            |- -------|\n",
       "               3756603                      |  2097152|\n",
       "    [outval= - -------,outmult= 1,outvect= [|         |]]]\n",
       "               2097152                      |    2    |\n",
       "                                            |         |\n",
       "                                            +    1    +\n",
       "Type: List(Record(outval: Fraction(Integer),outmult: Integer,outvect: List(Matrix(Fraction(Integer)))))\n"
      ]
     },
     "execution_count": 31,
     "metadata": {},
     "output_type": "execute_result"
    }
   ],
   "source": [
    "realEigenvectors(m,1/1000000)"
   ]
  },
  {
   "cell_type": "markdown",
   "metadata": {},
   "source": [
    " to have the eigenvalues expressed as real float (complex float) use\n"
   ]
  },
  {
   "cell_type": "code",
   "execution_count": 32,
   "metadata": {
    "collapsed": false
   },
   "outputs": [
    {
     "name": "stdout",
     "output_type": "stream",
     "text": [
      "\n",
      "\n",
      "\n"
     ]
    },
    {
     "data": {
      "text/plain": [
       "                                     + 4 +\n",
       "                                     |   |\n",
       "   [[outval= 33,outmult= 1,outvect= [|- 3|]],\n",
       "                                     |   |\n",
       "                                     + 1 +\n",
       "                                       +  16   11   +\n",
       "                                       |- -- - -- %i|\n",
       "                                       |  29   29   |\n",
       "                                       |            |\n",
       "    [outval= 22%i,outmult= 1,outvect= [| 13   11    |]],\n",
       "                                       | -- - -- %i |\n",
       "                                       | 58   58    |\n",
       "                                       |            |\n",
       "                                       +     1      +\n",
       "                                         +  16   11   +\n",
       "                                         |- -- + -- %i|\n",
       "                                         |  29   29   |\n",
       "                                         |            |\n",
       "    [outval= - 22%i,outmult= 1,outvect= [| 13   11    |]]]\n",
       "                                         | -- + -- %i |\n",
       "                                         | 58   58    |\n",
       "                                         |            |\n",
       "                                         +     1      +\n",
       "Type: List(Record(outval: Complex(Fraction(Integer)),outmult: Integer,outvect: List(Matrix(Complex(Fraction(Integer))))))\n"
      ]
     },
     "execution_count": 32,
     "metadata": {},
     "output_type": "execute_result"
    }
   ],
   "source": [
    "complexEigenvectors(mm,1/1000000)"
   ]
  },
  {
   "cell_type": "code",
   "execution_count": 33,
   "metadata": {
    "collapsed": false
   },
   "outputs": [
    {
     "data": {
      "text/plain": [
       "   [- 1.7912878990_173339844,5.0,2.7912878990_173339844]\n",
       "                                                            Type: List(Float)\n"
      ]
     },
     "execution_count": 33,
     "metadata": {},
     "output_type": "execute_result"
    }
   ],
   "source": [
    "realEigenvalues(m,.000001)"
   ]
  },
  {
   "cell_type": "code",
   "execution_count": 34,
   "metadata": {
    "collapsed": false
   },
   "outputs": [
    {
     "name": "stdout",
     "output_type": "stream",
     "text": [
      "\n",
      "\n",
      "\n",
      "\n",
      "\n",
      "\n",
      "\n"
     ]
    },
    {
     "data": {
      "text/plain": [
       "                                      + 0.0 +\n",
       "                                      |     |\n",
       "   [[outval= 5.0,outmult= 1,outvect= [|- 0.5|]],\n",
       "                                      |     |\n",
       "                                      + 1.0 +\n",
       "\n",
       "     [outval= 2.7912878990_173339844, outmult= 1,\n",
       "                +2.7912878990_173339844+\n",
       "                |                      |\n",
       "      outvect= [|         2.0          |]]\n",
       "                |                      |\n",
       "                +         1.0          +\n",
       "     ,\n",
       "\n",
       "     [outval= - 1.7912878990_173339844, outmult= 1,\n",
       "                +- 1.7912878990_173339844+\n",
       "                |                        |\n",
       "      outvect= [|          2.0           |]]\n",
       "                |                        |\n",
       "                +          1.0           +\n",
       "     ]\n",
       "Type: List(Record(outval: Float,outmult: Integer,outvect: List(Matrix(Float))))\n"
      ]
     },
     "execution_count": 34,
     "metadata": {},
     "output_type": "execute_result"
    }
   ],
   "source": [
    "realEigenvectors(m,.000001)"
   ]
  },
  {
   "cell_type": "code",
   "execution_count": 35,
   "metadata": {
    "collapsed": false
   },
   "outputs": [
    {
     "data": {
      "text/plain": [
       "   [- 22.0 %i,22.0 %i,33.0]\n",
       "                                                   Type: List(Complex(Float))\n"
      ]
     },
     "execution_count": 35,
     "metadata": {},
     "output_type": "execute_result"
    }
   ],
   "source": [
    "complexEigenvalues(mm,.000001)"
   ]
  },
  {
   "cell_type": "code",
   "execution_count": 36,
   "metadata": {
    "collapsed": false
   },
   "outputs": [
    {
     "name": "stdout",
     "output_type": "stream",
     "text": [
      "\n",
      "\n",
      "\n",
      "\n",
      "\n",
      "\n",
      "\n"
     ]
    },
    {
     "data": {
      "text/plain": [
       "                                       + 4.0 +\n",
       "                                       |     |\n",
       "   [[outval= 33.0,outmult= 1,outvect= [|- 3.0|]],\n",
       "                                       |     |\n",
       "                                       + 1.0 +\n",
       "\n",
       "     [outval= 22.0 %i, outmult= 1,\n",
       "                +- 0.5517241379_3103448276 - 0.3793103448_275862069 %i+\n",
       "                |                                                     |\n",
       "      outvect= [|0.2241379310_3448275862 - 0.1896551724_1379310345 %i |]]\n",
       "                |                                                     |\n",
       "                +                         1.0                         +\n",
       "     ,\n",
       "\n",
       "     [outval= - 22.0 %i, outmult= 1,\n",
       "                +- 0.5517241379_3103448276 + 0.3793103448_275862069 %i+\n",
       "                |                                                     |\n",
       "      outvect= [|0.2241379310_3448275862 + 0.1896551724_1379310345 %i |]]\n",
       "                |                                                     |\n",
       "                +                         1.0                         +\n",
       "     ]\n",
       "Type: List(Record(outval: Complex(Float),outmult: Integer,outvect: List(Matrix(Complex(Float)))))\n"
      ]
     },
     "execution_count": 36,
     "metadata": {},
     "output_type": "execute_result"
    }
   ],
   "source": [
    "complexEigenvectors(mm,.000001)"
   ]
  },
  {
   "cell_type": "code",
   "execution_count": 37,
   "metadata": {
    "collapsed": false
   },
   "outputs": [
    {
     "name": "stderr",
     "output_type": "stream",
     "text": [
      "INDEX-TOO-LARGE-ERROR: \n",
      "  #<SB-KERNEL:INDEX-TOO-LARGE-ERROR expected-type: (INTEGER 0 (0)) datum: 0>\n"
     ]
    },
    {
     "data": {
      "text/plain": []
     },
     "execution_count": 37,
     "metadata": {},
     "output_type": "execute_result"
    }
   ],
   "source": []
  }
 ],
 "metadata": {
  "kernelspec": {
   "display_name": "FriCAS",
   "language": "spad",
   "name": "ifricas"
  },
  "language_info": {
   "codemirror_mode": "spad",
   "mimetype": "text/x-spad",
   "name": "SPAD",
   "pygments_lexer": "spad",
   "version": "1.2.6"
  },
  "name": "eigen.ipynb"
 },
 "nbformat": 4,
 "nbformat_minor": 0
}