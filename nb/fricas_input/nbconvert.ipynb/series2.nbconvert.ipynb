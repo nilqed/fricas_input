{
 "cells": [
  {
   "cell_type": "markdown",
   "metadata": {},
   "source": [
    "Copyright The Numerical Algorithms Group Limited 1994.\n",
    "% Expression To Power Series\n",
    " We compute series expansions of various functions using EXPR2UPS and STTF.\n",
    " Author: Clifton J. Williamson\n",
    " Date Created: 12 August 1992\n",
    " Date Last Updated: 12 August 1992\n",
    " Keywords: Taylor series\n",
    " References:\n",
    " Power series expansions around branch points\n",
    " (Well not really, since we have x^2, not x.  Otherwise, our series\n",
    " expansions would have fractional powers.)\n"
   ]
  },
  {
   "cell_type": "code",
   "execution_count": 0,
   "metadata": {
    "collapsed": false
   },
   "outputs": [
    {
     "name": "stdout",
     "output_type": "stream",
     "text": [
      "Warning: HyperTeX macro table not found\n"
     ]
    },
    {
     "data": {
      "text/plain": [
       "        2\n",
       "   1 - x\n",
       "                        Type: UnivariateTaylorSeries(Expression(Integer),x,0)\n"
      ]
     },
     "execution_count": 0,
     "metadata": {},
     "output_type": "execute_result"
    }
   ],
   "source": [
    "f1 := taylor(1 - x^2,x = 0)"
   ]
  },
  {
   "cell_type": "code",
   "execution_count": 1,
   "metadata": {
    "collapsed": false
   },
   "outputs": [
    {
     "data": {
      "text/plain": [
       "   %pi     2        1    3      3    5      5     7      35     9      11\n",
       "   --- - ---- x - ----- x  - ------ x  - ------- x  - -------- x  + O(x  )\n",
       "    2     +-+       +-+         +-+          +-+           +-+\n",
       "         \\|2      6\\|2       80\\|2       448\\|2       9216\\|2\n",
       "                        Type: UnivariateTaylorSeries(Expression(Integer),x,0)\n"
      ]
     },
     "execution_count": 1,
     "metadata": {},
     "output_type": "execute_result"
    }
   ],
   "source": [
    "asin f1"
   ]
  },
  {
   "cell_type": "code",
   "execution_count": 2,
   "metadata": {
    "collapsed": false
   },
   "outputs": [
    {
     "data": {
      "text/plain": [
       "        2      11\n",
       "   1 - x  + O(x  )\n",
       "                        Type: UnivariateTaylorSeries(Expression(Integer),x,0)\n"
      ]
     },
     "execution_count": 2,
     "metadata": {},
     "output_type": "execute_result"
    }
   ],
   "source": [
    "sin %"
   ]
  },
  {
   "cell_type": "code",
   "execution_count": 3,
   "metadata": {
    "collapsed": false
   },
   "outputs": [
    {
     "data": {
      "text/plain": [
       "     2        1    3      3    5      5     7      35     9      11\n",
       "   ---- x + ----- x  + ------ x  + ------- x  + -------- x  + O(x  )\n",
       "    +-+       +-+         +-+          +-+           +-+\n",
       "   \\|2      6\\|2       80\\|2       448\\|2       9216\\|2\n",
       "                        Type: UnivariateTaylorSeries(Expression(Integer),x,0)\n"
      ]
     },
     "execution_count": 3,
     "metadata": {},
     "output_type": "execute_result"
    }
   ],
   "source": [
    "acos f1"
   ]
  },
  {
   "cell_type": "code",
   "execution_count": 4,
   "metadata": {
    "collapsed": false
   },
   "outputs": [
    {
     "data": {
      "text/plain": [
       "        2      11\n",
       "   1 - x  + O(x  )\n",
       "                        Type: UnivariateTaylorSeries(Expression(Integer),x,0)\n"
      ]
     },
     "execution_count": 4,
     "metadata": {},
     "output_type": "execute_result"
    }
   ],
   "source": [
    "cos %"
   ]
  },
  {
   "cell_type": "code",
   "execution_count": 5,
   "metadata": {
    "collapsed": false
   },
   "outputs": [
    {
     "data": {
      "text/plain": [
       "        2\n",
       "   1 + x\n",
       "                        Type: UnivariateTaylorSeries(Expression(Integer),x,0)\n"
      ]
     },
     "execution_count": 5,
     "metadata": {},
     "output_type": "execute_result"
    }
   ],
   "source": [
    "f2 := taylor(1 + x^2,x = 0)"
   ]
  },
  {
   "cell_type": "code",
   "execution_count": 6,
   "metadata": {
    "collapsed": false
   },
   "outputs": [
    {
     "data": {
      "text/plain": [
       "   %pi     2        5    3     43    5     177    7     2867    9      11\n",
       "   --- - ---- x + ----- x  - ------ x  + ------- x  - -------- x  + O(x  )\n",
       "    2     +-+       +-+         +-+          +-+           +-+\n",
       "         \\|2      6\\|2       80\\|2       448\\|2       9216\\|2\n",
       "                        Type: UnivariateTaylorSeries(Expression(Integer),x,0)\n"
      ]
     },
     "execution_count": 6,
     "metadata": {},
     "output_type": "execute_result"
    }
   ],
   "source": [
    "acsc f2"
   ]
  },
  {
   "cell_type": "code",
   "execution_count": 7,
   "metadata": {
    "collapsed": false
   },
   "outputs": [
    {
     "data": {
      "text/plain": [
       "        2      11\n",
       "   1 + x  + O(x  )\n",
       "                        Type: UnivariateTaylorSeries(Expression(Integer),x,0)\n"
      ]
     },
     "execution_count": 7,
     "metadata": {},
     "output_type": "execute_result"
    }
   ],
   "source": [
    "csc %"
   ]
  },
  {
   "cell_type": "code",
   "execution_count": 8,
   "metadata": {
    "collapsed": false
   },
   "outputs": [
    {
     "data": {
      "text/plain": [
       "     2        5    3     43    5     177    7     2867    9      11\n",
       "   ---- x - ----- x  + ------ x  - ------- x  + -------- x  + O(x  )\n",
       "    +-+       +-+         +-+          +-+           +-+\n",
       "   \\|2      6\\|2       80\\|2       448\\|2       9216\\|2\n",
       "                        Type: UnivariateTaylorSeries(Expression(Integer),x,0)\n"
      ]
     },
     "execution_count": 8,
     "metadata": {},
     "output_type": "execute_result"
    }
   ],
   "source": [
    "asec f2"
   ]
  },
  {
   "cell_type": "code",
   "execution_count": 9,
   "metadata": {
    "collapsed": false
   },
   "outputs": [
    {
     "data": {
      "text/plain": [
       "        2      11\n",
       "   1 + x  + O(x  )\n",
       "                        Type: UnivariateTaylorSeries(Expression(Integer),x,0)\n"
      ]
     },
     "execution_count": 9,
     "metadata": {},
     "output_type": "execute_result"
    }
   ],
   "source": [
    "sec %"
   ]
  },
  {
   "cell_type": "code",
   "execution_count": 10,
   "metadata": {
    "collapsed": false
   },
   "outputs": [
    {
     "data": {
      "text/plain": [
       "              2\n",
       "   1 - (x - a)\n",
       "                        Type: UnivariateTaylorSeries(Expression(Integer),x,a)\n"
      ]
     },
     "execution_count": 10,
     "metadata": {},
     "output_type": "execute_result"
    }
   ],
   "source": [
    "f3 := taylor(1 - (x - a)^2,x = a)"
   ]
  },
  {
   "cell_type": "code",
   "execution_count": 11,
   "metadata": {
    "collapsed": false
   },
   "outputs": [
    {
     "name": "stdout",
     "output_type": "stream",
     "text": [
      "  "
     ]
    },
    {
     "data": {
      "text/plain": [
       "     %pi     2              1          3      3          5      5           7\n",
       "     --- - ---- (x - a) - ----- (x - a)  - ------ (x - a)  - ------- (x - a)\n",
       "      2     +-+             +-+               +-+                +-+\n",
       "           \\|2            6\\|2             80\\|2             448\\|2\n",
       "   + \n",
       "          35           9            11\n",
       "     - -------- (x - a)  + O((x - a)  )\n",
       "            +-+\n",
       "       9216\\|2\n",
       "                        Type: UnivariateTaylorSeries(Expression(Integer),x,a)\n"
      ]
     },
     "execution_count": 11,
     "metadata": {},
     "output_type": "execute_result"
    }
   ],
   "source": [
    "asin f3"
   ]
  },
  {
   "cell_type": "code",
   "execution_count": 12,
   "metadata": {
    "collapsed": false
   },
   "outputs": [
    {
     "data": {
      "text/plain": [
       "              2            11\n",
       "   1 - (x - a)  + O((x - a)  )\n",
       "                        Type: UnivariateTaylorSeries(Expression(Integer),x,a)\n"
      ]
     },
     "execution_count": 12,
     "metadata": {},
     "output_type": "execute_result"
    }
   ],
   "source": [
    "sin %"
   ]
  },
  {
   "cell_type": "code",
   "execution_count": 13,
   "metadata": {
    "collapsed": false
   },
   "outputs": [
    {
     "name": "stdout",
     "output_type": "stream",
     "text": [
      "  "
     ]
    },
    {
     "data": {
      "text/plain": [
       "       2              1          3      3          5      5           7\n",
       "     ---- (x - a) + ----- (x - a)  + ------ (x - a)  + ------- (x - a)\n",
       "      +-+             +-+               +-+                +-+\n",
       "     \\|2            6\\|2             80\\|2             448\\|2\n",
       "   + \n",
       "        35           9            11\n",
       "     -------- (x - a)  + O((x - a)  )\n",
       "          +-+\n",
       "     9216\\|2\n",
       "                        Type: UnivariateTaylorSeries(Expression(Integer),x,a)\n"
      ]
     },
     "execution_count": 13,
     "metadata": {},
     "output_type": "execute_result"
    }
   ],
   "source": [
    "acos f3"
   ]
  },
  {
   "cell_type": "code",
   "execution_count": 14,
   "metadata": {
    "collapsed": false
   },
   "outputs": [
    {
     "data": {
      "text/plain": [
       "              2            11\n",
       "   1 - (x - a)  + O((x - a)  )\n",
       "                        Type: UnivariateTaylorSeries(Expression(Integer),x,a)\n"
      ]
     },
     "execution_count": 14,
     "metadata": {},
     "output_type": "execute_result"
    }
   ],
   "source": [
    "cos %"
   ]
  },
  {
   "cell_type": "code",
   "execution_count": 15,
   "metadata": {
    "collapsed": false
   },
   "outputs": [
    {
     "data": {
      "text/plain": [
       "              2\n",
       "   1 + (x - a)\n",
       "                        Type: UnivariateTaylorSeries(Expression(Integer),x,a)\n"
      ]
     },
     "execution_count": 15,
     "metadata": {},
     "output_type": "execute_result"
    }
   ],
   "source": [
    "f4 := taylor(1 + (x - a)^2,x = a)"
   ]
  },
  {
   "cell_type": "code",
   "execution_count": 16,
   "metadata": {
    "collapsed": false
   },
   "outputs": [
    {
     "name": "stdout",
     "output_type": "stream",
     "text": [
      "  "
     ]
    },
    {
     "data": {
      "text/plain": [
       "     %pi     2              5          3     43          5     177          7\n",
       "     --- - ---- (x - a) + ----- (x - a)  - ------ (x - a)  + ------- (x - a)\n",
       "      2     +-+             +-+               +-+                +-+\n",
       "           \\|2            6\\|2             80\\|2             448\\|2\n",
       "   + \n",
       "         2867          9            11\n",
       "     - -------- (x - a)  + O((x - a)  )\n",
       "            +-+\n",
       "       9216\\|2\n",
       "                        Type: UnivariateTaylorSeries(Expression(Integer),x,a)\n"
      ]
     },
     "execution_count": 16,
     "metadata": {},
     "output_type": "execute_result"
    }
   ],
   "source": [
    "acsc f4"
   ]
  },
  {
   "cell_type": "code",
   "execution_count": 17,
   "metadata": {
    "collapsed": false
   },
   "outputs": [
    {
     "data": {
      "text/plain": [
       "              2            11\n",
       "   1 + (x - a)  + O((x - a)  )\n",
       "                        Type: UnivariateTaylorSeries(Expression(Integer),x,a)\n"
      ]
     },
     "execution_count": 17,
     "metadata": {},
     "output_type": "execute_result"
    }
   ],
   "source": [
    "csc %"
   ]
  },
  {
   "cell_type": "code",
   "execution_count": 18,
   "metadata": {
    "collapsed": false
   },
   "outputs": [
    {
     "name": "stdout",
     "output_type": "stream",
     "text": [
      "  "
     ]
    },
    {
     "data": {
      "text/plain": [
       "       2              5          3     43          5     177          7\n",
       "     ---- (x - a) - ----- (x - a)  + ------ (x - a)  - ------- (x - a)\n",
       "      +-+             +-+               +-+                +-+\n",
       "     \\|2            6\\|2             80\\|2             448\\|2\n",
       "   + \n",
       "       2867          9            11\n",
       "     -------- (x - a)  + O((x - a)  )\n",
       "          +-+\n",
       "     9216\\|2\n",
       "                        Type: UnivariateTaylorSeries(Expression(Integer),x,a)\n"
      ]
     },
     "execution_count": 18,
     "metadata": {},
     "output_type": "execute_result"
    }
   ],
   "source": [
    "asec f4"
   ]
  },
  {
   "cell_type": "code",
   "execution_count": 19,
   "metadata": {
    "collapsed": false
   },
   "outputs": [
    {
     "data": {
      "text/plain": [
       "              2            11\n",
       "   1 + (x - a)  + O((x - a)  )\n",
       "                        Type: UnivariateTaylorSeries(Expression(Integer),x,a)\n"
      ]
     },
     "execution_count": 19,
     "metadata": {},
     "output_type": "execute_result"
    }
   ],
   "source": [
    "sec %"
   ]
  },
  {
   "cell_type": "code",
   "execution_count": 20,
   "metadata": {
    "collapsed": false
   },
   "outputs": [
    {
     "data": {
      "text/plain": [
       "         2\n",
       "   %i + x\n",
       "               Type: UnivariateTaylorSeries(Expression(Complex(Integer)),x,0)\n"
      ]
     },
     "execution_count": 20,
     "metadata": {},
     "output_type": "execute_result"
    }
   ],
   "source": [
    "f5 := taylor(%i + x^2,x = 0)"
   ]
  },
  {
   "cell_type": "code",
   "execution_count": 21,
   "metadata": {
    "collapsed": false
   },
   "outputs": [
    {
     "name": "stdout",
     "output_type": "stream",
     "text": [
      "  "
     ]
    },
    {
     "data": {
      "text/plain": [
       "                            +---+          +---+        +---+           +---+\n",
       "                  +---+    \\|2%i   3   3%i\\|2%i   5   5\\|2%i   7   35%i\\|2%i   9\n",
       "     log(%i) - %i\\|2%i x + ------ x  + --------- x  - ------- x  - ---------- x\n",
       "                             12           160           896           18432\n",
       "   + \n",
       "        11\n",
       "     O(x  )\n",
       "               Type: UnivariateTaylorSeries(Expression(Complex(Integer)),x,0)\n"
      ]
     },
     "execution_count": 21,
     "metadata": {},
     "output_type": "execute_result"
    }
   ],
   "source": [
    "asinh f5"
   ]
  },
  {
   "cell_type": "code",
   "execution_count": 22,
   "metadata": {
    "collapsed": false
   },
   "outputs": [
    {
     "data": {
      "text/plain": [
       "         2      11\n",
       "   %i + x  + O(x  )\n",
       "               Type: UnivariateTaylorSeries(Expression(Complex(Integer)),x,0)\n"
      ]
     },
     "execution_count": 22,
     "metadata": {},
     "output_type": "execute_result"
    }
   ],
   "source": [
    "map(normalize,sinh %)"
   ]
  },
  {
   "cell_type": "code",
   "execution_count": 23,
   "metadata": {
    "collapsed": false
   },
   "outputs": [
    {
     "data": {
      "text/plain": [
       "              +---+        +---+        +---+         +---+\n",
       "    +---+    \\|- 2   3   3\\|- 2   5   5\\|- 2   7   35\\|- 2   9      11\n",
       "   \\|- 2 x + ------ x  + ------- x  + ------- x  + -------- x  + O(x  )\n",
       "               12          160          896          18432\n",
       "                        Type: UnivariateTaylorSeries(Expression(Integer),x,0)\n"
      ]
     },
     "execution_count": 23,
     "metadata": {},
     "output_type": "execute_result"
    }
   ],
   "source": [
    "acosh f1"
   ]
  },
  {
   "cell_type": "code",
   "execution_count": 24,
   "metadata": {
    "collapsed": false
   },
   "outputs": [
    {
     "data": {
      "text/plain": [
       "        2      11\n",
       "   1 - x  + O(x  )\n",
       "                        Type: UnivariateTaylorSeries(Expression(Integer),x,0)\n"
      ]
     },
     "execution_count": 24,
     "metadata": {},
     "output_type": "execute_result"
    }
   ],
   "source": [
    "map(normalize,cosh %)"
   ]
  },
  {
   "cell_type": "code",
   "execution_count": 25,
   "metadata": {
    "collapsed": false
   },
   "outputs": [
    {
     "data": {
      "text/plain": [
       "               +---+         +---+          +---+           +---+\n",
       "    +---+    5\\|- 2   3   43\\|- 2   5   177\\|- 2   7   2867\\|- 2   9      11\n",
       "   \\|- 2 x - ------- x  + -------- x  - --------- x  + ---------- x  + O(x  )\n",
       "                12           160           896            18432\n",
       "                        Type: UnivariateTaylorSeries(Expression(Integer),x,0)\n"
      ]
     },
     "execution_count": 25,
     "metadata": {},
     "output_type": "execute_result"
    }
   ],
   "source": [
    "asech f2"
   ]
  },
  {
   "cell_type": "code",
   "execution_count": 26,
   "metadata": {
    "collapsed": false
   },
   "outputs": [
    {
     "data": {
      "text/plain": [
       "        2      11\n",
       "   1 + x  + O(x  )\n",
       "                        Type: UnivariateTaylorSeries(Expression(Integer),x,0)\n"
      ]
     },
     "execution_count": 26,
     "metadata": {},
     "output_type": "execute_result"
    }
   ],
   "source": [
    "sech %"
   ]
  },
  {
   "cell_type": "code",
   "execution_count": 27,
   "metadata": {
    "collapsed": false
   },
   "outputs": [
    {
     "name": "stdout",
     "output_type": "stream",
     "text": [
      "  "
     ]
    },
    {
     "data": {
      "text/plain": [
       "                       +-+             +-+               +-+\n",
       "          +-+         \\|2  + 2  2    9\\|2  + 12  4   221\\|2  + 312  6\n",
       "     log(\\|2  + 1) + --------- x  + ----------- x  + ------------- x\n",
       "                       +-+             +-+               +-+\n",
       "                     2\\|2  + 2      16\\|2  + 24      576\\|2  + 816\n",
       "   + \n",
       "           +-+                        +-+\n",
       "     14425\\|2  + 20400  8   124515259\\|2  + 176091168  10      11\n",
       "     ----------------- x  + ------------------------- x   + O(x  )\n",
       "           +-+                        +-+\n",
       "     52224\\|2  + 73856      602664960\\|2  + 852296960\n",
       "                        Type: UnivariateTaylorSeries(Expression(Integer),x,0)\n"
      ]
     },
     "execution_count": 27,
     "metadata": {},
     "output_type": "execute_result"
    }
   ],
   "source": [
    "acsch f1"
   ]
  },
  {
   "cell_type": "code",
   "execution_count": 28,
   "metadata": {
    "collapsed": false
   },
   "outputs": [
    {
     "data": {
      "text/plain": [
       "        2      11\n",
       "   1 - x  + O(x  )\n",
       "                        Type: UnivariateTaylorSeries(Expression(Integer),x,0)\n"
      ]
     },
     "execution_count": 28,
     "metadata": {},
     "output_type": "execute_result"
    }
   ],
   "source": [
    "map(normalize,csch %)"
   ]
  },
  {
   "cell_type": "code",
   "execution_count": 29,
   "metadata": {
    "collapsed": false
   },
   "outputs": [
    {
     "data": {
      "text/plain": [
       "               2\n",
       "   %i + (x - a)\n",
       "               Type: UnivariateTaylorSeries(Expression(Complex(Integer)),x,a)\n"
      ]
     },
     "execution_count": 29,
     "metadata": {},
     "output_type": "execute_result"
    }
   ],
   "source": [
    "f6 := taylor(%i + (x - a)^2,x = a)"
   ]
  },
  {
   "cell_type": "code",
   "execution_count": 30,
   "metadata": {
    "collapsed": false
   },
   "outputs": [
    {
     "name": "stdout",
     "output_type": "stream",
     "text": [
      "  "
     ]
    },
    {
     "data": {
      "text/plain": [
       "                                  +---+                +---+\n",
       "                  +---+          \\|2%i         3   3%i\\|2%i         5\n",
       "     log(%i) - %i\\|2%i (x - a) + ------ (x - a)  + --------- (x - a)\n",
       "                                   12                 160\n",
       "   + \n",
       "         +---+                 +---+\n",
       "       5\\|2%i         7   35%i\\|2%i         9            11\n",
       "     - ------- (x - a)  - ---------- (x - a)  + O((x - a)  )\n",
       "         896                 18432\n",
       "               Type: UnivariateTaylorSeries(Expression(Complex(Integer)),x,a)\n"
      ]
     },
     "execution_count": 30,
     "metadata": {},
     "output_type": "execute_result"
    }
   ],
   "source": [
    "asinh f6"
   ]
  },
  {
   "cell_type": "code",
   "execution_count": 31,
   "metadata": {
    "collapsed": false
   },
   "outputs": [
    {
     "data": {
      "text/plain": [
       "               2            11\n",
       "   %i + (x - a)  + O((x - a)  )\n",
       "               Type: UnivariateTaylorSeries(Expression(Complex(Integer)),x,a)\n"
      ]
     },
     "execution_count": 31,
     "metadata": {},
     "output_type": "execute_result"
    }
   ],
   "source": [
    "map(normalize,sinh %)"
   ]
  },
  {
   "cell_type": "code",
   "execution_count": 32,
   "metadata": {
    "collapsed": false
   },
   "outputs": [
    {
     "name": "stdout",
     "output_type": "stream",
     "text": [
      "  "
     ]
    },
    {
     "data": {
      "text/plain": [
       "                      +---+              +---+              +---+\n",
       "      +---+          \\|- 2         3   3\\|- 2         5   5\\|- 2         7\n",
       "     \\|- 2 (x - a) + ------ (x - a)  + ------- (x - a)  + ------- (x - a)\n",
       "                       12                160                896\n",
       "   + \n",
       "        +---+\n",
       "     35\\|- 2         9            11\n",
       "     -------- (x - a)  + O((x - a)  )\n",
       "       18432\n",
       "                        Type: UnivariateTaylorSeries(Expression(Integer),x,a)\n"
      ]
     },
     "execution_count": 32,
     "metadata": {},
     "output_type": "execute_result"
    }
   ],
   "source": [
    "acosh f3"
   ]
  },
  {
   "cell_type": "code",
   "execution_count": 33,
   "metadata": {
    "collapsed": false
   },
   "outputs": [
    {
     "data": {
      "text/plain": [
       "              2            11\n",
       "   1 - (x - a)  + O((x - a)  )\n",
       "                        Type: UnivariateTaylorSeries(Expression(Integer),x,a)\n"
      ]
     },
     "execution_count": 33,
     "metadata": {},
     "output_type": "execute_result"
    }
   ],
   "source": [
    "map(normalize,cosh %)"
   ]
  },
  {
   "cell_type": "code",
   "execution_count": 34,
   "metadata": {
    "collapsed": false
   },
   "outputs": [
    {
     "name": "stdout",
     "output_type": "stream",
     "text": [
      "  "
     ]
    },
    {
     "data": {
      "text/plain": [
       "                       +---+               +---+                +---+\n",
       "      +---+          5\\|- 2         3   43\\|- 2         5   177\\|- 2         7\n",
       "     \\|- 2 (x - a) - ------- (x - a)  + -------- (x - a)  - --------- (x - a)\n",
       "                        12                 160                 896\n",
       "   + \n",
       "          +---+\n",
       "     2867\\|- 2         9            11\n",
       "     ---------- (x - a)  + O((x - a)  )\n",
       "        18432\n",
       "                        Type: UnivariateTaylorSeries(Expression(Integer),x,a)\n"
      ]
     },
     "execution_count": 34,
     "metadata": {},
     "output_type": "execute_result"
    }
   ],
   "source": [
    "asech f4"
   ]
  },
  {
   "cell_type": "code",
   "execution_count": 35,
   "metadata": {
    "collapsed": false
   },
   "outputs": [
    {
     "data": {
      "text/plain": [
       "              2            11\n",
       "   1 + (x - a)  + O((x - a)  )\n",
       "                        Type: UnivariateTaylorSeries(Expression(Integer),x,a)\n"
      ]
     },
     "execution_count": 35,
     "metadata": {},
     "output_type": "execute_result"
    }
   ],
   "source": [
    "sech %"
   ]
  },
  {
   "cell_type": "code",
   "execution_count": 36,
   "metadata": {
    "collapsed": false
   },
   "outputs": [
    {
     "name": "stdout",
     "output_type": "stream",
     "text": [
      "    "
     ]
    },
    {
     "data": {
      "text/plain": [
       "                       +-+                   +-+\n",
       "          +-+         \\|2  + 2        2    9\\|2  + 12        4\n",
       "     log(\\|2  + 1) + --------- (x - a)  + ----------- (x - a)\n",
       "                       +-+                   +-+\n",
       "                     2\\|2  + 2            16\\|2  + 24\n",
       "   + \n",
       "         +-+                        +-+\n",
       "     221\\|2  + 312        6   14425\\|2  + 20400        8\n",
       "     ------------- (x - a)  + ----------------- (x - a)\n",
       "         +-+                        +-+\n",
       "     576\\|2  + 816            52224\\|2  + 73856\n",
       "   + \n",
       "               +-+\n",
       "     124515259\\|2  + 176091168        10            11\n",
       "     ------------------------- (x - a)   + O((x - a)  )\n",
       "               +-+\n",
       "     602664960\\|2  + 852296960\n",
       "                        Type: UnivariateTaylorSeries(Expression(Integer),x,a)\n"
      ]
     },
     "execution_count": 36,
     "metadata": {},
     "output_type": "execute_result"
    }
   ],
   "source": [
    "acsch f3"
   ]
  },
  {
   "cell_type": "code",
   "execution_count": 37,
   "metadata": {
    "collapsed": false
   },
   "outputs": [
    {
     "data": {
      "text/plain": [
       "              2            11\n",
       "   1 - (x - a)  + O((x - a)  )\n",
       "                        Type: UnivariateTaylorSeries(Expression(Integer),x,a)\n"
      ]
     },
     "execution_count": 37,
     "metadata": {},
     "output_type": "execute_result"
    }
   ],
   "source": [
    "map(normalize,csch %)"
   ]
  },
  {
   "cell_type": "code",
   "execution_count": 38,
   "metadata": {
    "collapsed": false
   },
   "outputs": [
    {
     "name": "stderr",
     "output_type": "stream",
     "text": [
      "INDEX-TOO-LARGE-ERROR: \n",
      "  #<SB-KERNEL:INDEX-TOO-LARGE-ERROR expected-type: (INTEGER 0 (0)) datum: 0>\n"
     ]
    },
    {
     "data": {
      "text/plain": []
     },
     "execution_count": 38,
     "metadata": {},
     "output_type": "execute_result"
    }
   ],
   "source": []
  }
 ],
 "metadata": {
  "kernelspec": {
   "display_name": "FriCAS",
   "language": "spad",
   "name": "ifricas"
  },
  "language_info": {
   "codemirror_mode": "spad",
   "mimetype": "text/x-spad",
   "name": "SPAD",
   "pygments_lexer": "spad",
   "version": "1.2.6"
  },
  "name": "series2.ipynb"
 },
 "nbformat": 4,
 "nbformat_minor": 0
}