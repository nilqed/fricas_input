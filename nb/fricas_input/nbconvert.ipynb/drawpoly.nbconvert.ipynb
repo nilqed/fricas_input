{
 "cells": [
  {
   "cell_type": "markdown",
   "metadata": {},
   "source": [
    "Copyright The Numerical Algorithms Group Limited 1996.\n"
   ]
  },
  {
   "cell_type": "code",
   "execution_count": 0,
   "metadata": {
    "collapsed": false
   },
   "outputs": [
    {
     "name": "stdout",
     "output_type": "stream",
     "text": [
      "Warning: HyperTeX macro table not found\n",
      "              \n"
     ]
    },
    {
     "data": {
      "text/plain": [
       "       18                        17                        16\n",
       "     a1   - 83.3040857610_4702 a1   + 4016.6702039400_73 a1\n",
       "   + \n",
       "                             15                        14\n",
       "     - 167241.6389216820_5 a1   + 5649108.7097550742 a1\n",
       "   + \n",
       "                            13                        12\n",
       "     - 149276989.38773671 a1   + 3273726754.9354239 a1\n",
       "   + \n",
       "                             11                         10\n",
       "     - 6_0880865153.029945 a1   + 84_8181407013.74121 a1\n",
       "   + \n",
       "                             9                         8\n",
       "     - 719_2575504809.0801 a1  + 3686_6360833695.195 a1\n",
       "   + \n",
       "                             7                        6                        5\n",
       "     - 12269_5847669238.25 a1  + 29903_0754015055.5 a1  - 55806_7117924693.5 a1\n",
       "   + \n",
       "                           4                         3                        2\n",
       "     54087_1808579699.38 a1  + 35962_4161713159.31 a1  - 82544_6983383827.5 a1\n",
       "   + \n",
       "     - 43259_6673138694.12 a1 - 1208_6386259492.219\n",
       "                                                      Type: Polynomial(Float)\n"
      ]
     },
     "execution_count": 0,
     "metadata": {},
     "output_type": "execute_result"
    }
   ],
   "source": [
    "a1^18   - 83.30408576104702*a1^17   + 4016.670203940073*a1^16 + _\n",
    "     - 167241.63892168205*a1^15   + 5649108.7097550742*a1^14 + _\n",
    "     - 1.4927698938773671E8*a1^13   + 3.2737267549354239E9*a1^12 + _\n",
    "     - 6.0880865153029945E10*a1^11   + 8.4818140701374121E11*a1^10 + _\n",
    "     - 7.1925755048090801E12*a1^9  + 3.6866360833695195E13*a1^8 + _\n",
    "     - 1.2269584766923825E14*a1^7  + 2.990307540150555E14*a1^6 + _\n",
    "     - 5.580671179246935E14*a1^5  + 5.4087180857969938E14*a1^4 + _\n",
    "     3.5962416171315931E14*a1^3  - 8.254469833838275E14*a1^2 + _\n",
    "     - 4.3259667313869412E14*a1 - 1.2086386259492219E13\n"
   ]
  },
  {
   "cell_type": "code",
   "execution_count": 1,
   "metadata": {
    "collapsed": false
   },
   "outputs": [
    {
     "name": "stdout",
     "output_type": "stream",
     "text": [
      "   Compiling function %B with type DoubleFloat -> DoubleFloat \n",
      "   Graph data being transmitted to the viewport manager...\n",
      "   FriCAS2D data being transmitted to the viewport manager...\n"
     ]
    },
    {
     "data": {
      "text/plain": [
       "   TwoDimensionalViewport: \"FriCAS2D\"\n",
       "                                                 Type: TwoDimensionalViewport\n"
      ]
     },
     "execution_count": 1,
     "metadata": {},
     "output_type": "execute_result"
    }
   ],
   "source": [
    "draw(%,a1=-0.028..-0.027)"
   ]
  },
  {
   "cell_type": "code",
   "execution_count": 2,
   "metadata": {
    "collapsed": false
   },
   "outputs": [
    {
     "name": "stderr",
     "output_type": "stream",
     "text": [
      "INDEX-TOO-LARGE-ERROR: \n",
      "  #<SB-KERNEL:INDEX-TOO-LARGE-ERROR expected-type: (INTEGER 0 (0)) datum: 0>\n"
     ]
    },
    {
     "data": {
      "text/plain": []
     },
     "execution_count": 2,
     "metadata": {},
     "output_type": "execute_result"
    }
   ],
   "source": []
  }
 ],
 "metadata": {
  "kernelspec": {
   "display_name": "FriCAS",
   "language": "spad",
   "name": "ifricas"
  },
  "language_info": {
   "codemirror_mode": "spad",
   "mimetype": "text/x-spad",
   "name": "SPAD",
   "pygments_lexer": "spad",
   "version": "1.2.6"
  },
  "name": "drawpoly.ipynb"
 },
 "nbformat": 4,
 "nbformat_minor": 0
}