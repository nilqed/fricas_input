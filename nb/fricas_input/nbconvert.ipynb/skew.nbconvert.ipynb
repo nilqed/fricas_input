{
 "cells": [
  {
   "cell_type": "markdown",
   "metadata": {},
   "source": [
    "Copyright The Numerical Algorithms Group Limited 1994.\n",
    " make sure that LALG, EAB, ANTISYM are loaded\n",
    "\n"
   ]
  },
  {
   "cell_type": "markdown",
   "metadata": {},
   "source": [
    " We will look at the deRham complex of Euclidean 3-space and use\n",
    " coordinates (x,y,z).\n"
   ]
  },
  {
   "cell_type": "code",
   "execution_count": 0,
   "metadata": {
    "collapsed": false
   },
   "outputs": [
    {
     "name": "stdout",
     "output_type": "stream",
     "text": [
      "   All user variables and function definitions have been cleared.\n"
     ]
    },
    {
     "data": {
      "text/plain": []
     },
     "execution_count": 0,
     "metadata": {},
     "output_type": "execute_result"
    }
   ],
   "source": [
    ")cl all"
   ]
  },
  {
   "cell_type": "markdown",
   "metadata": {},
   "source": [
    " Next is our ring of functions.  We can have functions of any\n",
    " number of variables, but since we've chosen to work with ordinary\n",
    " Euclidean 3-space, an expression like f(x,t,r,y,u,z) will be treated\n",
    " as a parameterized function of (x,y,z) and will be considered to be\n",
    " constant in the variables t,r,u.  We choose expressions with integer\n",
    " coefficients in this example.\n"
   ]
  },
  {
   "cell_type": "code",
   "execution_count": 1,
   "metadata": {
    "collapsed": false
   },
   "outputs": [
    {
     "data": {
      "text/plain": [
       "   [x,y,z]\n",
       "                                                           Type: List(Symbol)\n"
      ]
     },
     "execution_count": 1,
     "metadata": {},
     "output_type": "execute_result"
    }
   ],
   "source": [
    "lv:List Symbol := [x,y,z]"
   ]
  },
  {
   "cell_type": "code",
   "execution_count": 2,
   "metadata": {
    "collapsed": false
   },
   "outputs": [
    {
     "data": {
      "text/plain": [
       "                                                                   Type: Void\n"
      ]
     },
     "execution_count": 2,
     "metadata": {},
     "output_type": "execute_result"
    }
   ],
   "source": [
    "macro coefRing == Integer"
   ]
  },
  {
   "cell_type": "markdown",
   "metadata": {},
   "source": [
    " The declaration for the deRham complex takes arguments a ring coefRing\n",
    " and a list of variables (lv is of type List Symbol).\n"
   ]
  },
  {
   "cell_type": "code",
   "execution_count": 3,
   "metadata": {
    "collapsed": false
   },
   "outputs": [
    {
     "data": {
      "text/plain": [
       "   Expression(Integer)\n",
       "                                                                   Type: Type\n"
      ]
     },
     "execution_count": 3,
     "metadata": {},
     "output_type": "execute_result"
    }
   ],
   "source": [
    "R := Expression coefRing"
   ]
  },
  {
   "cell_type": "markdown",
   "metadata": {},
   "source": [
    " here are some functions chosen at random.\n"
   ]
  },
  {
   "cell_type": "code",
   "execution_count": 4,
   "metadata": {
    "collapsed": false
   },
   "outputs": [
    {
     "data": {
      "text/plain": [
       "   DeRhamComplex(Integer,[x,y,z])\n",
       "                                                                   Type: Type\n"
      ]
     },
     "execution_count": 4,
     "metadata": {},
     "output_type": "execute_result"
    }
   ],
   "source": [
    "der := DERHAM(coefRing,lv)"
   ]
  },
  {
   "cell_type": "code",
   "execution_count": 5,
   "metadata": {
    "collapsed": false
   },
   "outputs": [
    {
     "name": "stdout",
     "output_type": "stream",
     "text": [
      "Warning: HyperTeX macro table not found\n"
     ]
    },
    {
     "data": {
      "text/plain": [
       "       3 2 5    2\n",
       "   - 5x y z  + x y z\n",
       "                                                    Type: Expression(Integer)\n"
      ]
     },
     "execution_count": 5,
     "metadata": {},
     "output_type": "execute_result"
    }
   ],
   "source": [
    "f:R:=x^2*y*z-5*x^3*y^2*z^5"
   ]
  },
  {
   "cell_type": "code",
   "execution_count": 6,
   "metadata": {
    "collapsed": false
   },
   "outputs": [
    {
     "data": {
      "text/plain": [
       "       2     3 2       2\n",
       "   - 7z sin(x y ) + y z cos(z)\n",
       "                                                    Type: Expression(Integer)\n"
      ]
     },
     "execution_count": 6,
     "metadata": {},
     "output_type": "execute_result"
    }
   ],
   "source": [
    "g:R:=z^2*y*cos(z)-7*sin(x^3*y^2)*z^2"
   ]
  },
  {
   "cell_type": "markdown",
   "metadata": {},
   "source": [
    " The multiplicative basis elements for the exterior algebra over R are\n",
    " defined here.\n"
   ]
  },
  {
   "cell_type": "code",
   "execution_count": 7,
   "metadata": {
    "collapsed": false
   },
   "outputs": [
    {
     "data": {
      "text/plain": [
       "       3   2\n",
       "   - 2x y z  + x y z\n",
       "                                                    Type: Expression(Integer)\n"
      ]
     },
     "execution_count": 7,
     "metadata": {},
     "output_type": "execute_result"
    }
   ],
   "source": [
    "h:R:=x*y*z-2*x^3*y*z^2"
   ]
  },
  {
   "cell_type": "code",
   "execution_count": 8,
   "metadata": {
    "collapsed": false
   },
   "outputs": [
    {
     "data": {
      "text/plain": [
       "   dx\n",
       "                                         Type: DeRhamComplex(Integer,[x,y,z])\n"
      ]
     },
     "execution_count": 8,
     "metadata": {},
     "output_type": "execute_result"
    }
   ],
   "source": [
    "dx :der := generator(1)"
   ]
  },
  {
   "cell_type": "code",
   "execution_count": 9,
   "metadata": {
    "collapsed": false
   },
   "outputs": [
    {
     "data": {
      "text/plain": [
       "   dy\n",
       "                                         Type: DeRhamComplex(Integer,[x,y,z])\n"
      ]
     },
     "execution_count": 9,
     "metadata": {},
     "output_type": "execute_result"
    }
   ],
   "source": [
    "dy :der := generator(2)"
   ]
  },
  {
   "cell_type": "markdown",
   "metadata": {},
   "source": [
    " A nice alternate for the assignments above is\n"
   ]
  },
  {
   "cell_type": "code",
   "execution_count": 10,
   "metadata": {
    "collapsed": false
   },
   "outputs": [
    {
     "data": {
      "text/plain": [
       "   dz\n",
       "                                         Type: DeRhamComplex(Integer,[x,y,z])\n"
      ]
     },
     "execution_count": 10,
     "metadata": {},
     "output_type": "execute_result"
    }
   ],
   "source": [
    "dz :der := generator(3)"
   ]
  },
  {
   "cell_type": "markdown",
   "metadata": {},
   "source": [
    " Now some 1-forms chosen at random.\n"
   ]
  },
  {
   "cell_type": "code",
   "execution_count": 11,
   "metadata": {
    "collapsed": false
   },
   "outputs": [
    {
     "data": {
      "text/plain": [
       "   [dx,dy,dz]\n",
       "                                   Type: List(DeRhamComplex(Integer,[x,y,z]))\n"
      ]
     },
     "execution_count": 11,
     "metadata": {},
     "output_type": "execute_result"
    }
   ],
   "source": [
    "[dx,dy,dz] := [generator(i)$der for i in 1..3]"
   ]
  },
  {
   "cell_type": "code",
   "execution_count": 12,
   "metadata": {
    "collapsed": false
   },
   "outputs": [
    {
     "name": "stdout",
     "output_type": "stream",
     "text": [
      "  "
     ]
    },
    {
     "data": {
      "text/plain": [
       "          3   2                   2     3 2       2\n",
       "     (- 2x y z  + x y z)dz + (- 7z sin(x y ) + y z cos(z))dy\n",
       "   + \n",
       "          3 2 5    2\n",
       "     (- 5x y z  + x y z)dx\n",
       "                                         Type: DeRhamComplex(Integer,[x,y,z])\n"
      ]
     },
     "execution_count": 12,
     "metadata": {},
     "output_type": "execute_result"
    }
   ],
   "source": [
    "alpha:der := f*dx + g*dy + h*dz"
   ]
  },
  {
   "cell_type": "markdown",
   "metadata": {},
   "source": [
    " we know that exteriorDifferential^2 = 0, let's see that:\n"
   ]
  },
  {
   "cell_type": "code",
   "execution_count": 13,
   "metadata": {
    "collapsed": false
   },
   "outputs": [
    {
     "data": {
      "text/plain": [
       "   x dy + cos(tan(x y z) + x y z)dx\n",
       "                                         Type: DeRhamComplex(Integer,[x,y,z])\n"
      ]
     },
     "execution_count": 13,
     "metadata": {},
     "output_type": "execute_result"
    }
   ],
   "source": [
    "beta:der  := cos(tan(x*y*z)+x*y*z)*dx + x*dy"
   ]
  },
  {
   "cell_type": "code",
   "execution_count": 14,
   "metadata": {
    "collapsed": false
   },
   "outputs": [
    {
     "name": "stdout",
     "output_type": "stream",
     "text": [
      "    "
     ]
    },
    {
     "data": {
      "text/plain": [
       "         2                  3 2                    3 2\n",
       "     (y z sin(z) + 14z sin(x y ) - 2y z cos(z) - 2x z  + x z)dy dz\n",
       "   + \n",
       "         3 2 4     2   2          2\n",
       "     (25x y z  - 6x y z  + y z - x y)dx dz\n",
       "   + \n",
       "           2 2 2     3 2       3   5    2\n",
       "     (- 21x y z cos(x y ) + 10x y z  - x z)dx dy\n",
       "                                         Type: DeRhamComplex(Integer,[x,y,z])\n"
      ]
     },
     "execution_count": 14,
     "metadata": {},
     "output_type": "execute_result"
    }
   ],
   "source": [
    "exteriorDifferential alpha"
   ]
  },
  {
   "cell_type": "markdown",
   "metadata": {},
   "source": [
    " exteriorDifferential is long, let's shorten that.\n"
   ]
  },
  {
   "cell_type": "code",
   "execution_count": 15,
   "metadata": {
    "collapsed": false
   },
   "outputs": [
    {
     "data": {
      "text/plain": [
       "   0\n",
       "                                         Type: DeRhamComplex(Integer,[x,y,z])\n"
      ]
     },
     "execution_count": 15,
     "metadata": {},
     "output_type": "execute_result"
    }
   ],
   "source": [
    "exteriorDifferential %"
   ]
  },
  {
   "cell_type": "markdown",
   "metadata": {},
   "source": [
    " we know that exD is a (graded) derivation, let's see that:\n"
   ]
  },
  {
   "cell_type": "code",
   "execution_count": 16,
   "metadata": {
    "collapsed": false
   },
   "outputs": [
    {
     "data": {
      "text/plain": [
       "                                                                   Type: Void\n"
      ]
     },
     "execution_count": 16,
     "metadata": {},
     "output_type": "execute_result"
    }
   ],
   "source": [
    "macro exD == exteriorDifferential"
   ]
  },
  {
   "cell_type": "code",
   "execution_count": 17,
   "metadata": {
    "collapsed": false
   },
   "outputs": [
    {
     "name": "stdout",
     "output_type": "stream",
     "text": [
      "  "
     ]
    },
    {
     "data": {
      "text/plain": [
       "        4   2    2               3   2\n",
       "     (2x y z  - x y z)dy dz + (2x y z  - x y z)cos(tan(x y z) + x y z)dx dz\n",
       "   + \n",
       "       2     3 2       2                                   4 2 5    3\n",
       "   ((7z sin(x y ) - y z cos(z))cos(tan(x y z) + x y z) - 5x y z  + x y z)dx dy\n",
       "                                         Type: DeRhamComplex(Integer,[x,y,z])\n"
      ]
     },
     "execution_count": 17,
     "metadata": {},
     "output_type": "execute_result"
    }
   ],
   "source": [
    "gamma := alpha * beta"
   ]
  },
  {
   "cell_type": "markdown",
   "metadata": {},
   "source": [
    " need the \"-\" because alpha is a 1-form and 1 is odd.\n"
   ]
  },
  {
   "cell_type": "code",
   "execution_count": 18,
   "metadata": {
    "collapsed": false
   },
   "outputs": [
    {
     "name": "stdout",
     "output_type": "stream",
     "text": [
      "                              "
     ]
    },
    {
     "data": {
      "text/plain": [
       "                    2     3 2       2 2           4   3    2   2           2\n",
       "           (- 7x y z sin(x y ) + x y z cos(z) + 2x y z  - x y z )tan(x y z)\n",
       "         + \n",
       "                    2     3 2        2 2           4   3     2   2\n",
       "           - 14x y z sin(x y ) + 2x y z cos(z) + 4x y z  - 2x y z\n",
       "      *\n",
       "         sin(tan(x y z) + x y z)\n",
       "     + \n",
       "             2                  3 2                    3 2\n",
       "         (y z sin(z) + 14z sin(x y ) - 2y z cos(z) - 2x z  + x z)\n",
       "      *\n",
       "         cos(tan(x y z) + x y z)\n",
       "     + \n",
       "            4 2 4     3   2             3\n",
       "       - 25x y z  + 8x y z  - 2x y z + x y\n",
       "  *\n",
       "     dx dy dz\n",
       "                                         Type: DeRhamComplex(Integer,[x,y,z])\n"
      ]
     },
     "execution_count": 18,
     "metadata": {},
     "output_type": "execute_result"
    }
   ],
   "source": [
    "delta := exD gamma"
   ]
  },
  {
   "cell_type": "code",
   "execution_count": 19,
   "metadata": {
    "collapsed": false
   },
   "outputs": [
    {
     "name": "stdout",
     "output_type": "stream",
     "text": [
      "                              "
     ]
    },
    {
     "data": {
      "text/plain": [
       "                    2     3 2       2 2           4   3    2   2           2\n",
       "           (- 7x y z sin(x y ) + x y z cos(z) + 2x y z  - x y z )tan(x y z)\n",
       "         + \n",
       "                    2     3 2        2 2           4   3     2   2\n",
       "           - 14x y z sin(x y ) + 2x y z cos(z) + 4x y z  - 2x y z\n",
       "      *\n",
       "         sin(tan(x y z) + x y z)\n",
       "     + \n",
       "             2                  3 2                    3 2\n",
       "         (y z sin(z) + 14z sin(x y ) - 2y z cos(z) - 2x z  + x z)\n",
       "      *\n",
       "         cos(tan(x y z) + x y z)\n",
       "     + \n",
       "            4 2 4     3   2             3\n",
       "       - 25x y z  + 8x y z  - 2x y z + x y\n",
       "  *\n",
       "     dx dy dz\n",
       "                                         Type: DeRhamComplex(Integer,[x,y,z])\n"
      ]
     },
     "execution_count": 19,
     "metadata": {},
     "output_type": "execute_result"
    }
   ],
   "source": [
    "epsilon := exD(alpha)*beta - alpha * exD(beta)"
   ]
  },
  {
   "cell_type": "markdown",
   "metadata": {},
   "source": [
    " We define some operators.\n"
   ]
  },
  {
   "cell_type": "code",
   "execution_count": 20,
   "metadata": {
    "collapsed": false
   },
   "outputs": [
    {
     "data": {
      "text/plain": [
       "   0\n",
       "                                         Type: DeRhamComplex(Integer,[x,y,z])\n"
      ]
     },
     "execution_count": 20,
     "metadata": {},
     "output_type": "execute_result"
    }
   ],
   "source": [
    "delta - epsilon"
   ]
  },
  {
   "cell_type": "code",
   "execution_count": 21,
   "metadata": {
    "collapsed": false
   },
   "outputs": [
    {
     "data": {
      "text/plain": [
       "   a\n",
       "                                                          Type: BasicOperator\n"
      ]
     },
     "execution_count": 21,
     "metadata": {},
     "output_type": "execute_result"
    }
   ],
   "source": [
    "a:BOP := operator('a)"
   ]
  },
  {
   "cell_type": "code",
   "execution_count": 22,
   "metadata": {
    "collapsed": false
   },
   "outputs": [
    {
     "data": {
      "text/plain": [
       "   b\n",
       "                                                          Type: BasicOperator\n"
      ]
     },
     "execution_count": 22,
     "metadata": {},
     "output_type": "execute_result"
    }
   ],
   "source": [
    "b:BOP := operator('b)"
   ]
  },
  {
   "cell_type": "markdown",
   "metadata": {},
   "source": [
    " Now some indeterminate one and two forms.\n"
   ]
  },
  {
   "cell_type": "code",
   "execution_count": 23,
   "metadata": {
    "collapsed": false
   },
   "outputs": [
    {
     "data": {
      "text/plain": [
       "   c\n",
       "                                                          Type: BasicOperator\n"
      ]
     },
     "execution_count": 23,
     "metadata": {},
     "output_type": "execute_result"
    }
   ],
   "source": [
    "c:BOP := operator('c)"
   ]
  },
  {
   "cell_type": "code",
   "execution_count": 24,
   "metadata": {
    "collapsed": false
   },
   "outputs": [
    {
     "data": {
      "text/plain": [
       "   c(x,y,z)dz + b(x,y,z)dy + a(x,y,z)dx\n",
       "                                         Type: DeRhamComplex(Integer,[x,y,z])\n"
      ]
     },
     "execution_count": 24,
     "metadata": {},
     "output_type": "execute_result"
    }
   ],
   "source": [
    "alpha := a(x,y,z) * dx + b(x,y,z) * dy + c(x,y,z) * dz"
   ]
  },
  {
   "cell_type": "markdown",
   "metadata": {},
   "source": [
    " the \"gradient\".\n"
   ]
  },
  {
   "cell_type": "code",
   "execution_count": 25,
   "metadata": {
    "collapsed": false
   },
   "outputs": [
    {
     "data": {
      "text/plain": [
       "   c(x,y,z)dy dz + b(x,y,z)dx dz + a(x,y,z)dx dy\n",
       "                                         Type: DeRhamComplex(Integer,[x,y,z])\n"
      ]
     },
     "execution_count": 25,
     "metadata": {},
     "output_type": "execute_result"
    }
   ],
   "source": [
    "beta  := a(x,y,z) * dx * dy + b(x,y,z) * dx * dz + c(x,y,z) * dy * dz"
   ]
  },
  {
   "cell_type": "markdown",
   "metadata": {},
   "source": [
    " the \"curl\".\n"
   ]
  },
  {
   "cell_type": "code",
   "execution_count": 26,
   "metadata": {
    "collapsed": false
   },
   "outputs": [
    {
     "data": {
      "text/plain": [
       "   a  (x,y,z)dz + a  (x,y,z)dy + a  (x,y,z)dx\n",
       "    ,3             ,2             ,1\n",
       "                                         Type: DeRhamComplex(Integer,[x,y,z])\n"
      ]
     },
     "execution_count": 26,
     "metadata": {},
     "output_type": "execute_result"
    }
   ],
   "source": [
    "totalDifferential(a(x,y,z))$der"
   ]
  },
  {
   "cell_type": "markdown",
   "metadata": {},
   "source": [
    " the \"divergence\".\n"
   ]
  },
  {
   "cell_type": "code",
   "execution_count": 27,
   "metadata": {
    "collapsed": false
   },
   "outputs": [
    {
     "name": "stdout",
     "output_type": "stream",
     "text": [
      "  "
     ]
    },
    {
     "data": {
      "text/plain": [
       "     (c  (x,y,z) - b  (x,y,z))dy dz + (c  (x,y,z) - a  (x,y,z))dx dz\n",
       "       ,2           ,3                  ,1           ,3\n",
       "   + \n",
       "     (b  (x,y,z) - a  (x,y,z))dx dy\n",
       "       ,1           ,2\n",
       "                                         Type: DeRhamComplex(Integer,[x,y,z])\n"
      ]
     },
     "execution_count": 27,
     "metadata": {},
     "output_type": "execute_result"
    }
   ],
   "source": [
    "exD alpha"
   ]
  },
  {
   "cell_type": "markdown",
   "metadata": {},
   "source": [
    " Note that the deRham complex is an algebra with 1.\n"
   ]
  },
  {
   "cell_type": "code",
   "execution_count": 28,
   "metadata": {
    "collapsed": false
   },
   "outputs": [
    {
     "data": {
      "text/plain": [
       "   (c  (x,y,z) - b  (x,y,z) + a  (x,y,z))dx dy dz\n",
       "     ,1           ,2           ,3\n",
       "                                         Type: DeRhamComplex(Integer,[x,y,z])\n"
      ]
     },
     "execution_count": 28,
     "metadata": {},
     "output_type": "execute_result"
    }
   ],
   "source": [
    "exD beta"
   ]
  },
  {
   "cell_type": "markdown",
   "metadata": {},
   "source": [
    " Now some parameterized functions (and forms -- left as an exercise).\n",
    " Note how the system keeps track of where your coordinate functions\n",
    " are located in expressions.  By multiplying the expressions below by\n",
    " 1 in the deRham complex, we automatically convert them to 0-forms,\n",
    " i.e., functions on our space.\n"
   ]
  },
  {
   "cell_type": "code",
   "execution_count": 29,
   "metadata": {
    "collapsed": false
   },
   "outputs": [
    {
     "data": {
      "text/plain": [
       "   1\n",
       "                                         Type: DeRhamComplex(Integer,[x,y,z])\n"
      ]
     },
     "execution_count": 29,
     "metadata": {},
     "output_type": "execute_result"
    }
   ],
   "source": [
    "id:der := 1"
   ]
  },
  {
   "cell_type": "code",
   "execution_count": 30,
   "metadata": {
    "collapsed": false
   },
   "outputs": [
    {
     "data": {
      "text/plain": [
       "   a(x,t,y,u,v,z,e)\n",
       "                                         Type: DeRhamComplex(Integer,[x,y,z])\n"
      ]
     },
     "execution_count": 30,
     "metadata": {},
     "output_type": "execute_result"
    }
   ],
   "source": [
    "g1:der := a([x,t,y,u,v,z,e]) * id"
   ]
  },
  {
   "cell_type": "code",
   "execution_count": 31,
   "metadata": {
    "collapsed": false
   },
   "outputs": [
    {
     "data": {
      "text/plain": [
       "   a(x,y,x,t,x,z,y,r,u,x)\n",
       "                                         Type: DeRhamComplex(Integer,[x,y,z])\n"
      ]
     },
     "execution_count": 31,
     "metadata": {},
     "output_type": "execute_result"
    }
   ],
   "source": [
    "h1:der := a([x,y,x,t,x,z,y,r,u,x]) * id"
   ]
  },
  {
   "cell_type": "code",
   "execution_count": 32,
   "metadata": {
    "collapsed": false
   },
   "outputs": [
    {
     "data": {
      "text/plain": [
       "   a  (x,t,y,u,v,z,e)dz + a  (x,t,y,u,v,z,e)dy + a  (x,t,y,u,v,z,e)dx\n",
       "    ,6                     ,3                     ,1\n",
       "                                         Type: DeRhamComplex(Integer,[x,y,z])\n"
      ]
     },
     "execution_count": 32,
     "metadata": {},
     "output_type": "execute_result"
    }
   ],
   "source": [
    "exD g1"
   ]
  },
  {
   "cell_type": "markdown",
   "metadata": {},
   "source": [
    " Now note that we can find the coefficient of some basis term in\n",
    " any form (the basis in this case consists of the 8 forms\n",
    " 1,   dx, dx, dz,    dx dy, dx dz, dy dz,   dx dy dz.\n"
   ]
  },
  {
   "cell_type": "code",
   "execution_count": 33,
   "metadata": {
    "collapsed": false
   },
   "outputs": [
    {
     "name": "stdout",
     "output_type": "stream",
     "text": [
      "              "
     ]
    },
    {
     "data": {
      "text/plain": [
       "     a  (x,y,x,t,x,z,y,r,u,x)dz\n",
       "      ,6\n",
       "   + \n",
       "     (a  (x,y,x,t,x,z,y,r,u,x) + a  (x,y,x,t,x,z,y,r,u,x))dy\n",
       "       ,7                         ,2\n",
       "   + \n",
       "         a   (x,y,x,t,x,z,y,r,u,x) + a  (x,y,x,t,x,z,y,r,u,x)\n",
       "          ,10                         ,5\n",
       "       + \n",
       "         a  (x,y,x,t,x,z,y,r,u,x) + a  (x,y,x,t,x,z,y,r,u,x)\n",
       "          ,3                         ,1\n",
       "    *\n",
       "       dx\n",
       "                                         Type: DeRhamComplex(Integer,[x,y,z])\n"
      ]
     },
     "execution_count": 33,
     "metadata": {},
     "output_type": "execute_result"
    }
   ],
   "source": [
    "exD h1"
   ]
  },
  {
   "cell_type": "code",
   "execution_count": 34,
   "metadata": {
    "collapsed": false
   },
   "outputs": [
    {
     "data": {
      "text/plain": [
       "      2     3 2       2                                   4 2 5    3\n",
       "   (7z sin(x y ) - y z cos(z))cos(tan(x y z) + x y z) - 5x y z  + x y z\n",
       "                                                    Type: Expression(Integer)\n"
      ]
     },
     "execution_count": 34,
     "metadata": {},
     "output_type": "execute_result"
    }
   ],
   "source": [
    "coefficient(gamma, dx*dy)"
   ]
  },
  {
   "cell_type": "code",
   "execution_count": 35,
   "metadata": {
    "collapsed": false
   },
   "outputs": [
    {
     "data": {
      "text/plain": [
       "   0\n",
       "                                                    Type: Expression(Integer)\n"
      ]
     },
     "execution_count": 35,
     "metadata": {},
     "output_type": "execute_result"
    }
   ],
   "source": [
    "coefficient(gamma, id)"
   ]
  },
  {
   "cell_type": "code",
   "execution_count": 36,
   "metadata": {
    "collapsed": false
   },
   "outputs": [
    {
     "data": {
      "text/plain": [
       "   a(x,t,y,u,v,z,e)\n",
       "                                                    Type: Expression(Integer)\n"
      ]
     },
     "execution_count": 36,
     "metadata": {},
     "output_type": "execute_result"
    }
   ],
   "source": [
    "coefficient(g1,id)"
   ]
  },
  {
   "cell_type": "code",
   "execution_count": 37,
   "metadata": {
    "collapsed": false
   },
   "outputs": [
    {
     "name": "stderr",
     "output_type": "stream",
     "text": [
      "INDEX-TOO-LARGE-ERROR: \n",
      "  #<SB-KERNEL:INDEX-TOO-LARGE-ERROR expected-type: (INTEGER 0 (0)) datum: 0>\n"
     ]
    },
    {
     "data": {
      "text/plain": []
     },
     "execution_count": 37,
     "metadata": {},
     "output_type": "execute_result"
    }
   ],
   "source": []
  }
 ],
 "metadata": {
  "kernelspec": {
   "display_name": "FriCAS",
   "language": "spad",
   "name": "ifricas"
  },
  "language_info": {
   "codemirror_mode": "spad",
   "mimetype": "text/x-spad",
   "name": "SPAD",
   "pygments_lexer": "spad",
   "version": "1.2.6"
  },
  "name": "skew.ipynb"
 },
 "nbformat": 4,
 "nbformat_minor": 0
}