{
 "cells": [
  {
   "cell_type": "markdown",
   "metadata": {},
   "source": [
    "Copyright The Numerical Algorithms Group Limited 1991.\n"
   ]
  },
  {
   "cell_type": "code",
   "execution_count": 0,
   "metadata": {
    "collapsed": false
   },
   "outputs": [
    {
     "name": "stdout",
     "output_type": "stream",
     "text": [
      "   All user variables and function definitions have been cleared.\n"
     ]
    },
    {
     "data": {
      "text/plain": []
     },
     "execution_count": 0,
     "metadata": {},
     "output_type": "execute_result"
    }
   ],
   "source": [
    ")cl all"
   ]
  },
  {
   "cell_type": "markdown",
   "metadata": {},
   "source": [
    " Create several elements of Q^5\n"
   ]
  },
  {
   "cell_type": "code",
   "execution_count": 1,
   "metadata": {
    "collapsed": false
   },
   "outputs": [
    {
     "name": "stdout",
     "output_type": "stream",
     "text": [
      "   Function declaration v : Integer -> DirectProduct(5,Fraction(Integer\n",
      "      )) has been added to workspace.\n",
      "\n"
     ]
    },
    {
     "data": {
      "text/plain": [
       "                                                                   Type: Void\n"
      ]
     },
     "execution_count": 1,
     "metadata": {},
     "output_type": "execute_result"
    }
   ],
   "source": [
    "v(i:INT):DIRPROD(5, FRAC INT) ==\n",
    "   directProduct vector [i / (i + j) for j in 0..4]"
   ]
  },
  {
   "cell_type": "markdown",
   "metadata": {},
   "source": [
    " Are they linearly dependent over Z?\n"
   ]
  },
  {
   "cell_type": "code",
   "execution_count": 2,
   "metadata": {
    "collapsed": false
   },
   "outputs": [
    {
     "name": "stdout",
     "output_type": "stream",
     "text": [
      "Warning: HyperTeX macro table not found\n",
      "   Compiling function v with type Integer -> DirectProduct(5,Fraction(\n",
      "      Integer)) \n"
     ]
    },
    {
     "data": {
      "text/plain": [
       "       1 1 1 1     2 1 2 1     3 3 1 3     4 2 4 1     5 5 5 5     6 3 2 3\n",
       "   [[1,-,-,-,-],[1,-,-,-,-],[1,-,-,-,-],[1,-,-,-,-],[1,-,-,-,-],[1,-,-,-,-]]\n",
       "       2 3 4 5     3 2 5 3     4 5 2 7     5 3 7 2     6 7 8 9     7 4 3 5\n",
       "                             Type: Vector(DirectProduct(5,Fraction(Integer)))\n"
      ]
     },
     "execution_count": 2,
     "metadata": {},
     "output_type": "execute_result"
    }
   ],
   "source": [
    "V := vector [v i for i in 1..6]"
   ]
  },
  {
   "cell_type": "markdown",
   "metadata": {},
   "source": [
    " Get the linear dependence relation over Z explicitly\n"
   ]
  },
  {
   "cell_type": "code",
   "execution_count": 3,
   "metadata": {
    "collapsed": false
   },
   "outputs": [
    {
     "data": {
      "text/plain": [
       "   true\n",
       "                                                                Type: Boolean\n"
      ]
     },
     "execution_count": 3,
     "metadata": {},
     "output_type": "execute_result"
    }
   ],
   "source": [
    "linearlyDependentOverZ? V"
   ]
  },
  {
   "cell_type": "markdown",
   "metadata": {},
   "source": [
    " the Vi's are linearly dependent, express V.2 in terms of the others\n"
   ]
  },
  {
   "cell_type": "code",
   "execution_count": 4,
   "metadata": {
    "collapsed": false
   },
   "outputs": [
    {
     "data": {
      "text/plain": [
       "   [- 1,15,- 70,140,- 126,42]\n",
       "                                             Type: Union(Vector(Integer),...)\n"
      ]
     },
     "execution_count": 4,
     "metadata": {},
     "output_type": "execute_result"
    }
   ],
   "source": [
    "linearDependenceOverZ V"
   ]
  },
  {
   "cell_type": "code",
   "execution_count": 5,
   "metadata": {
    "collapsed": false
   },
   "outputs": [
    {
     "data": {
      "text/plain": [
       "                  1 14   28 42   14\n",
       "   [particular= [--,--,- --,--,- --],basis= []]\n",
       "                 15  3    3  5    5\n",
       "Type: Record(particular: Union(Vector(Fraction(Integer)),\"failed\"),basis: List(Vector(Fraction(Integer))))\n"
      ]
     },
     "execution_count": 5,
     "metadata": {},
     "output_type": "execute_result"
    }
   ],
   "source": [
    "solveLinearlyOverQ(delete(V, 2), V.2)"
   ]
  },
  {
   "cell_type": "markdown",
   "metadata": {},
   "source": [
    " Create several elements of Z(2)\n"
   ]
  },
  {
   "cell_type": "code",
   "execution_count": 6,
   "metadata": {
    "collapsed": false
   },
   "outputs": [
    {
     "name": "stdout",
     "output_type": "stream",
     "text": [
      "   Function declaration w : Integer -> SquareMatrix(2,Integer) has been\n",
      "      added to workspace.\n",
      "\n"
     ]
    },
    {
     "data": {
      "text/plain": [
       "                                                                   Type: Void\n"
      ]
     },
     "execution_count": 6,
     "metadata": {},
     "output_type": "execute_result"
    }
   ],
   "source": [
    "w(i:INT):SQMATRIX(2, INT) ==\n",
    "   squareMatrix matrix [[i, i + 1], [i - 1, -i]]"
   ]
  },
  {
   "cell_type": "markdown",
   "metadata": {},
   "source": [
    " Are they linearly dependent over Z?\n"
   ]
  },
  {
   "cell_type": "code",
   "execution_count": 7,
   "metadata": {
    "collapsed": false
   },
   "outputs": [
    {
     "name": "stdout",
     "output_type": "stream",
     "text": [
      "   Compiling function w with type Integer -> SquareMatrix(2,Integer) \n"
     ]
    },
    {
     "data": {
      "text/plain": [
       "    +1   2 + +2   3 + +3   4 +\n",
       "   [|      |,|      |,|      |]\n",
       "    +0  - 1+ +1  - 2+ +2  - 3+\n",
       "                                        Type: Vector(SquareMatrix(2,Integer))\n"
      ]
     },
     "execution_count": 7,
     "metadata": {},
     "output_type": "execute_result"
    }
   ],
   "source": [
    "W := vector [w i for i in 1..3]"
   ]
  },
  {
   "cell_type": "markdown",
   "metadata": {},
   "source": [
    " Get the linear dependence relation over Z explicitly\n"
   ]
  },
  {
   "cell_type": "code",
   "execution_count": 8,
   "metadata": {
    "collapsed": false
   },
   "outputs": [
    {
     "data": {
      "text/plain": [
       "   true\n",
       "                                                                Type: Boolean\n"
      ]
     },
     "execution_count": 8,
     "metadata": {},
     "output_type": "execute_result"
    }
   ],
   "source": [
    "linearlyDependentOverZ? W"
   ]
  },
  {
   "cell_type": "markdown",
   "metadata": {},
   "source": [
    " the Wi's are linearly dependent, express W.2 in terms of the others\n"
   ]
  },
  {
   "cell_type": "code",
   "execution_count": 9,
   "metadata": {
    "collapsed": false
   },
   "outputs": [
    {
     "data": {
      "text/plain": [
       "   [1,- 2,1]\n",
       "                                             Type: Union(Vector(Integer),...)\n"
      ]
     },
     "execution_count": 9,
     "metadata": {},
     "output_type": "execute_result"
    }
   ],
   "source": [
    "linearDependenceOverZ W"
   ]
  },
  {
   "cell_type": "code",
   "execution_count": 10,
   "metadata": {
    "collapsed": false
   },
   "outputs": [
    {
     "data": {
      "text/plain": [
       "                 1 1\n",
       "   [particular= [-,-],basis= []]\n",
       "                 2 2\n",
       "Type: Record(particular: Union(Vector(Fraction(Integer)),\"failed\"),basis: List(Vector(Fraction(Integer))))\n"
      ]
     },
     "execution_count": 10,
     "metadata": {},
     "output_type": "execute_result"
    }
   ],
   "source": [
    "solveLinearlyOverQ(delete(W, 2), W.2)"
   ]
  },
  {
   "cell_type": "code",
   "execution_count": 11,
   "metadata": {
    "collapsed": false
   },
   "outputs": [
    {
     "name": "stderr",
     "output_type": "stream",
     "text": [
      "INDEX-TOO-LARGE-ERROR: \n",
      "  #<SB-KERNEL:INDEX-TOO-LARGE-ERROR expected-type: (INTEGER 0 (0)) datum: 0>\n"
     ]
    },
    {
     "data": {
      "text/plain": []
     },
     "execution_count": 11,
     "metadata": {},
     "output_type": "execute_result"
    }
   ],
   "source": []
  }
 ],
 "metadata": {
  "kernelspec": {
   "display_name": "FriCAS",
   "language": "spad",
   "name": "ifricas"
  },
  "language_info": {
   "codemirror_mode": "spad",
   "mimetype": "text/x-spad",
   "name": "SPAD",
   "pygments_lexer": "spad",
   "version": "1.2.6"
  },
  "name": "lindep.ipynb"
 },
 "nbformat": 4,
 "nbformat_minor": 0
}