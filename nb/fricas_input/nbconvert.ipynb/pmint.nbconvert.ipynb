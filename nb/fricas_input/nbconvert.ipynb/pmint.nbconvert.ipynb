{
 "cells": [
  {
   "cell_type": "markdown",
   "metadata": {},
   "source": [
    "Version 1.1 ---  May 10, 2005  (c) M.Bronstein and INRIA 2004-2005\n"
   ]
  },
  {
   "cell_type": "code",
   "execution_count": 0,
   "metadata": {
    "collapsed": false
   },
   "outputs": [
    {
     "name": "stdout",
     "output_type": "stream",
     "text": [
      "   All user variables and function definitions have been cleared.\n"
     ]
    },
    {
     "data": {
      "text/plain": []
     },
     "execution_count": 0,
     "metadata": {},
     "output_type": "execute_result"
    }
   ],
   "source": [
    ")clear all"
   ]
  },
  {
   "cell_type": "code",
   "execution_count": 1,
   "metadata": {
    "collapsed": false
   },
   "outputs": [
    {
     "data": {
      "text/plain": []
     },
     "execution_count": 1,
     "metadata": {},
     "output_type": "execute_result"
    }
   ],
   "source": [
    ")set break resume"
   ]
  },
  {
   "cell_type": "markdown",
   "metadata": {},
   "source": [
    " Airy Functions\n"
   ]
  },
  {
   "cell_type": "code",
   "execution_count": 2,
   "metadata": {
    "collapsed": false
   },
   "outputs": [
    {
     "name": "stdout",
     "output_type": "stream",
     "text": [
      "   All user variables and function definitions have been cleared.\n"
     ]
    },
    {
     "data": {
      "text/plain": []
     },
     "execution_count": 2,
     "metadata": {},
     "output_type": "execute_result"
    }
   ],
   "source": [
    ")clear all"
   ]
  },
  {
   "cell_type": "code",
   "execution_count": 3,
   "metadata": {
    "collapsed": false
   },
   "outputs": [
    {
     "name": "stdout",
     "output_type": "stream",
     "text": [
      "Warning: HyperTeX macro table not found\n"
     ]
    },
    {
     "data": {
      "text/plain": [
       "   airyAi(x)airyAiPrime(x) - x\n",
       "   ---------------------------\n",
       "                  2    2\n",
       "         airyAi(x)  - x\n",
       "                                                    Type: Expression(Integer)\n"
      ]
     },
     "execution_count": 3,
     "metadata": {},
     "output_type": "execute_result"
    }
   ],
   "source": [
    "f:=(x-airyAi(x)*airyAiPrime(x))/(x^2-airyAi(x)^2)"
   ]
  },
  {
   "cell_type": "markdown",
   "metadata": {},
   "source": [
    " should be:\n",
    "  1                    1\n",
    "  - log(x+airyAi(x)) + - log(x-airyAi(x))\n",
    "  2                    2\n"
   ]
  },
  {
   "cell_type": "code",
   "execution_count": 4,
   "metadata": {
    "collapsed": false
   },
   "outputs": [
    {
     "data": {
      "text/plain": [
       "                2    2\n",
       "   log(airyAi(x)  - x )\n",
       "   --------------------\n",
       "             2\n",
       "                                         Type: Union(Expression(Integer),...)\n"
      ]
     },
     "execution_count": 4,
     "metadata": {},
     "output_type": "execute_result"
    }
   ],
   "source": [
    "integrate(f,x)"
   ]
  },
  {
   "cell_type": "markdown",
   "metadata": {},
   "source": [
    " should be:\n",
    "         2\n",
    "   (1)  x airyAi(x)\n",
    "                                                     Type: Expression Integer\n"
   ]
  },
  {
   "cell_type": "code",
   "execution_count": 5,
   "metadata": {
    "collapsed": false
   },
   "outputs": [
    {
     "data": {
      "text/plain": [
       "    2\n",
       "   x airyAi(x)\n",
       "                                                    Type: Expression(Integer)\n"
      ]
     },
     "execution_count": 5,
     "metadata": {},
     "output_type": "execute_result"
    }
   ],
   "source": [
    "f:=x^2*airyAi(x)"
   ]
  },
  {
   "cell_type": "markdown",
   "metadata": {},
   "source": [
    " should be:\n",
    "  -airyAi(x) + airyAiPrime(x) x\n"
   ]
  },
  {
   "cell_type": "code",
   "execution_count": 6,
   "metadata": {
    "collapsed": false
   },
   "outputs": [
    {
     "data": {
      "text/plain": [
       "      x\n",
       "    ++    2\n",
       "    |   %A airyAi(%A)d%A\n",
       "   ++\n",
       "                                         Type: Union(Expression(Integer),...)\n"
      ]
     },
     "execution_count": 6,
     "metadata": {},
     "output_type": "execute_result"
    }
   ],
   "source": [
    "g:=integrate(f,x)"
   ]
  },
  {
   "cell_type": "markdown",
   "metadata": {},
   "source": [
    " Bessel functions\n"
   ]
  },
  {
   "cell_type": "code",
   "execution_count": 7,
   "metadata": {
    "collapsed": false
   },
   "outputs": [
    {
     "name": "stdout",
     "output_type": "stream",
     "text": [
      "   All user variables and function definitions have been cleared.\n"
     ]
    },
    {
     "data": {
      "text/plain": []
     },
     "execution_count": 7,
     "metadata": {},
     "output_type": "execute_result"
    }
   ],
   "source": [
    ")clear all"
   ]
  },
  {
   "cell_type": "code",
   "execution_count": 8,
   "metadata": {
    "collapsed": false
   },
   "outputs": [
    {
     "data": {
      "text/plain": [
       "   besselJ(y + 1,x)\n",
       "   ----------------\n",
       "     besselJ(y,x)\n",
       "                                                    Type: Expression(Integer)\n"
      ]
     },
     "execution_count": 8,
     "metadata": {},
     "output_type": "execute_result"
    }
   ],
   "source": [
    "f:=besselJ(y+1,x)/besselJ(y,x)"
   ]
  },
  {
   "cell_type": "markdown",
   "metadata": {},
   "source": [
    " should be:\n",
    "  y log(x) - log(besselJ(y,x))\n"
   ]
  },
  {
   "cell_type": "code",
   "execution_count": 9,
   "metadata": {
    "collapsed": false
   },
   "outputs": [
    {
     "data": {
      "text/plain": [
       "      x\n",
       "    ++  besselJ(y + 1,%A)\n",
       "    |   ----------------- d%A\n",
       "   ++     besselJ(y,%A)\n",
       "                                         Type: Union(Expression(Integer),...)\n"
      ]
     },
     "execution_count": 9,
     "metadata": {},
     "output_type": "execute_result"
    }
   ],
   "source": [
    "g:=integrate(f,x)"
   ]
  },
  {
   "cell_type": "code",
   "execution_count": 10,
   "metadata": {
    "collapsed": false
   },
   "outputs": [
    {
     "data": {
      "text/plain": [
       "   - x besselJ(y + 1,x) + y besselJ(y,x)\n",
       "   -------------------------------------\n",
       "                     x\n",
       "                                                    Type: Expression(Integer)\n"
      ]
     },
     "execution_count": 10,
     "metadata": {},
     "output_type": "execute_result"
    }
   ],
   "source": [
    "f := y*besselJ(y,x)/x - besselJ(y+1,x)"
   ]
  },
  {
   "cell_type": "markdown",
   "metadata": {},
   "source": [
    " should be besselJ(y,x)\n"
   ]
  },
  {
   "cell_type": "code",
   "execution_count": 11,
   "metadata": {
    "collapsed": false
   },
   "outputs": [
    {
     "data": {
      "text/plain": [
       "      x\n",
       "    ++  - %A besselJ(y + 1,%A) + y besselJ(y,%A)\n",
       "    |   ---------------------------------------- d%A\n",
       "   ++                      %A\n",
       "                                         Type: Union(Expression(Integer),...)\n"
      ]
     },
     "execution_count": 11,
     "metadata": {},
     "output_type": "execute_result"
    }
   ],
   "source": [
    "integrate(f,x)"
   ]
  },
  {
   "cell_type": "markdown",
   "metadata": {},
   "source": [
    " Whittaker functions\n"
   ]
  },
  {
   "cell_type": "code",
   "execution_count": 12,
   "metadata": {
    "collapsed": false
   },
   "outputs": [
    {
     "name": "stdout",
     "output_type": "stream",
     "text": [
      "   All user variables and function definitions have been cleared.\n"
     ]
    },
    {
     "data": {
      "text/plain": []
     },
     "execution_count": 12,
     "metadata": {},
     "output_type": "execute_result"
    }
   ],
   "source": [
    ")clear all"
   ]
  },
  {
   "cell_type": "code",
   "execution_count": 13,
   "metadata": {
    "collapsed": false
   },
   "outputs": [
    {
     "data": {
      "text/plain": [
       "   whittakerW(u + 1,n,x)\n",
       "   ---------------------\n",
       "    x whittakerW(u,n,x)\n",
       "                                                    Type: Expression(Integer)\n"
      ]
     },
     "execution_count": 13,
     "metadata": {},
     "output_type": "execute_result"
    }
   ],
   "source": [
    "f := whittakerW(u + 1, n, x)/(x*whittakerW(u, n, x))"
   ]
  },
  {
   "cell_type": "markdown",
   "metadata": {},
   "source": [
    " should be:\n",
    " x/2 - u*log(x) - log(whittakerW(u,n,x)), x)\n"
   ]
  },
  {
   "cell_type": "code",
   "execution_count": 14,
   "metadata": {
    "collapsed": false
   },
   "outputs": [
    {
     "data": {
      "text/plain": [
       "      x\n",
       "    ++  whittakerW(u + 1,n,%A)\n",
       "    |   ---------------------- d%A\n",
       "   ++    %A whittakerW(u,n,%A)\n",
       "                                         Type: Union(Expression(Integer),...)\n"
      ]
     },
     "execution_count": 14,
     "metadata": {},
     "output_type": "execute_result"
    }
   ],
   "source": [
    "integrate(f,x)"
   ]
  },
  {
   "cell_type": "markdown",
   "metadata": {},
   "source": [
    " The Lambert W function\n"
   ]
  },
  {
   "cell_type": "code",
   "execution_count": 15,
   "metadata": {
    "collapsed": false
   },
   "outputs": [
    {
     "name": "stdout",
     "output_type": "stream",
     "text": [
      "   All user variables and function definitions have been cleared.\n"
     ]
    },
    {
     "data": {
      "text/plain": []
     },
     "execution_count": 15,
     "metadata": {},
     "output_type": "execute_result"
    }
   ],
   "source": [
    ")clear all"
   ]
  },
  {
   "cell_type": "markdown",
   "metadata": {},
   "source": [
    "should be:\n",
    " +-                                                  -+\n",
    " |                                     2              |\n",
    " |                    +-             -+               |\n",
    " |  1                 | 1             |  2            |\n",
    " |  - LambertW(x) tan | - LambertW(x) | x   +         |\n",
    " |  2                 | 2             |               |\n",
    " |                    +-             -+               |\n",
    " |                                                    |\n",
    " |                  +-             -+                 |\n",
    " |                  | 1             |  2              |\n",
    " |  LambertW(x) tan | - LambertW(x) | x  +            |\n",
    " |                  | 2             |                 |\n",
    " |                  +-             -+                 |\n",
    " |                                                    |\n",
    " |      +-             -+                             |\n",
    " |      | 1             |  2      1              2    |\n",
    " |  tan | - LambertW(x) | x  -    - LambertW(x) x     |\n",
    " |      | 2             |         2                   |\n",
    " |      +-             -+                             |\n",
    " +-                                                  -+\n",
    " ------------------------------------------------------\n",
    "                  +-                         2 -+\n",
    "                  |         +-             -+   |\n",
    "                  |         | 1             |   |\n",
    "    x LambertW(x) | 1 + tan | - LambertW(x) |   |\n",
    "                  |         | 2             |   |\n",
    "                  |         +-             -+   |\n",
    "                  +-                           -+\n"
   ]
  },
  {
   "cell_type": "code",
   "execution_count": 16,
   "metadata": {
    "collapsed": false
   },
   "outputs": [
    {
     "data": {
      "text/plain": [
       "      x\n",
       "    ++\n",
       "    |   sin(lambertW(%A))d%A\n",
       "   ++\n",
       "                                         Type: Union(Expression(Integer),...)\n"
      ]
     },
     "execution_count": 16,
     "metadata": {},
     "output_type": "execute_result"
    }
   ],
   "source": [
    "integrate(sin(lambertW(x)),x)"
   ]
  },
  {
   "cell_type": "markdown",
   "metadata": {},
   "source": [
    "+-                                                       -+\n",
    "|                                                         |\n",
    "|             2                2                    2     |\n",
    "| 2 LambertW(x ) cos(LambertW(x )) (a x + LambertW(x )) + |\n",
    "|                                                         |\n",
    "|                   2                 2                   |\n",
    "| a x (1 + LambertW(x )) + 2 LambertW(x )                 |\n",
    "|                                                         |\n",
    "+-                                                       -+\n",
    "\n",
    "                2                 2\n",
    " (1 + LambertW(x ))(a x+LambertW(x )) x\n",
    "\n"
   ]
  },
  {
   "cell_type": "code",
   "execution_count": 17,
   "metadata": {
    "collapsed": false
   },
   "outputs": [
    {
     "name": "stdout",
     "output_type": "stream",
     "text": [
      "      "
     ]
    },
    {
     "data": {
      "text/plain": [
       "                   2 2                  2                2\n",
       "       (2lambertW(x )  + 2a x lambertW(x ))cos(lambertW(x ))\n",
       "     + \n",
       "                          2\n",
       "       (a x + 2)lambertW(x ) + a x\n",
       "  /\n",
       "                 2 2       2               2       2\n",
       "     x lambertW(x )  + (a x  + x)lambertW(x ) + a x\n",
       "                                                    Type: Expression(Integer)\n"
      ]
     },
     "execution_count": 17,
     "metadata": {},
     "output_type": "execute_result"
    }
   ],
   "source": [
    "f:=(2*lambertW(x^2)*cos(lambertW(x^2))*(a*x+lambertW(x^2))+a*x*(1+lambertW(x^2)) + 2*lambertW(x^2))/((1+lambertW(x^2))*(a*x+lambertW(x^2))*x)"
   ]
  },
  {
   "cell_type": "markdown",
   "metadata": {},
   "source": [
    "\n",
    "        +-              -+\n",
    "        | 1           2  |\n",
    "  2 tan | - LambertW(x ) |\n",
    "        | 2              |\n",
    "        +-              -+                          2\n",
    "  --------------------------- + log(a x + LambertW(x ))\n",
    "                            2\n",
    "          +-              -+\n",
    "          | 1           2  |\n",
    "  1 + tan | - LambertW(x ) |\n",
    "          | 2              |\n",
    "          +-              -+\n",
    "\n",
    "\n"
   ]
  },
  {
   "cell_type": "code",
   "execution_count": 18,
   "metadata": {
    "collapsed": false
   },
   "outputs": [
    {
     "name": "stdout",
     "output_type": "stream",
     "text": [
      "                         "
     ]
    },
    {
     "data": {
      "text/plain": [
       "   INTSIGN\n",
       "  ,\n",
       "      x\n",
       "  ,\n",
       "                         2 2                    2                 2\n",
       "            (2lambertW(%A )  + 2%A a lambertW(%A ))cos(lambertW(%A ))\n",
       "          + \n",
       "                                 2\n",
       "            (%A a + 2)lambertW(%A ) + %A a\n",
       "       /\n",
       "                        2 2      2                  2      2\n",
       "          %A lambertW(%A )  + (%A a + %A)lambertW(%A ) + %A a\n",
       "     *\n",
       "        d%A\n",
       "                                         Type: Union(Expression(Integer),...)\n"
      ]
     },
     "execution_count": 18,
     "metadata": {},
     "output_type": "execute_result"
    }
   ],
   "source": [
    "integrate(f,x)"
   ]
  },
  {
   "cell_type": "markdown",
   "metadata": {},
   "source": [
    " The Wright omega function\n"
   ]
  },
  {
   "cell_type": "code",
   "execution_count": 19,
   "metadata": {
    "collapsed": false
   },
   "outputs": [
    {
     "name": "stdout",
     "output_type": "stream",
     "text": [
      "   All user variables and function definitions have been cleared.\n"
     ]
    },
    {
     "data": {
      "text/plain": []
     },
     "execution_count": 19,
     "metadata": {},
     "output_type": "execute_result"
    }
   ],
   "source": [
    ")clear all"
   ]
  },
  {
   "cell_type": "code",
   "execution_count": 20,
   "metadata": {
    "collapsed": false
   },
   "outputs": [
    {
     "data": {
      "text/plain": [
       "                                                                   Type: Void\n"
      ]
     },
     "execution_count": 20,
     "metadata": {},
     "output_type": "execute_result"
    }
   ],
   "source": [
    "omega(z) == lambertW(exp(z))"
   ]
  },
  {
   "cell_type": "markdown",
   "metadata": {},
   "source": [
    "\n",
    "  1            x             x\n",
    "  - LambertW(%e )(LambertW(%e )+2)\n",
    "  2\n",
    "\n",
    " f:=(1+lambertW(%e^x)*(2+cos(lambertW(%e^x))*(x+LambertW(%e^x))))/((1+LambertW(%e^x))*(x+LambertW(%e^x)))\n"
   ]
  },
  {
   "cell_type": "code",
   "execution_count": 21,
   "metadata": {
    "collapsed": false
   },
   "outputs": [
    {
     "name": "stdout",
     "output_type": "stream",
     "text": [
      "   Compiling function omega with type Variable(x) -> Expression(Integer\n",
      "      ) \n"
     ]
    },
    {
     "data": {
      "text/plain": [
       "      x\n",
       "    ++             %A\n",
       "    |   lambertW(%e  )d%A\n",
       "   ++\n",
       "                                         Type: Union(Expression(Integer),...)\n"
      ]
     },
     "execution_count": 21,
     "metadata": {},
     "output_type": "execute_result"
    }
   ],
   "source": [
    "integrate(omega(x),x)"
   ]
  },
  {
   "cell_type": "code",
   "execution_count": 22,
   "metadata": {
    "collapsed": false
   },
   "outputs": [
    {
     "data": {
      "text/plain": [
       "               x 2                x                 x                 x\n",
       "   (lambertW(%e )  + x lambertW(%e ))cos(lambertW(%e )) + 2lambertW(%e ) + 1\n",
       "   -------------------------------------------------------------------------\n",
       "                              x 2                     x\n",
       "                   lambertW(%e )  + (x + 1)lambertW(%e ) + x\n",
       "                                                    Type: Expression(Integer)\n"
      ]
     },
     "execution_count": 22,
     "metadata": {},
     "output_type": "execute_result"
    }
   ],
   "source": [
    "f := (1 + omega(x) * (2 + cos(omega(x)) * (x + omega(x)))) / (1 + omega(x)) / (x + omega(x))"
   ]
  },
  {
   "cell_type": "code",
   "execution_count": 23,
   "metadata": {
    "collapsed": false
   },
   "outputs": [
    {
     "name": "stdout",
     "output_type": "stream",
     "text": [
      "                         "
     ]
    },
    {
     "data": {
      "text/plain": [
       "   INTSIGN\n",
       "  ,\n",
       "      x\n",
       "  ,\n",
       "                        %A 2                 %A                 %A\n",
       "            (lambertW(%e  )  + %A lambertW(%e  ))cos(lambertW(%e  ))\n",
       "          + \n",
       "                        %A\n",
       "            2lambertW(%e  ) + 1\n",
       "       /\n",
       "                     %A 2                      %A\n",
       "          lambertW(%e  )  + (%A + 1)lambertW(%e  ) + %A\n",
       "     *\n",
       "        d%A\n",
       "                                         Type: Union(Expression(Integer),...)\n"
      ]
     },
     "execution_count": 23,
     "metadata": {},
     "output_type": "execute_result"
    }
   ],
   "source": [
    "integrate(f,x)"
   ]
  },
  {
   "cell_type": "code",
   "execution_count": 24,
   "metadata": {
    "collapsed": false
   },
   "outputs": [
    {
     "name": "stderr",
     "output_type": "stream",
     "text": [
      "INDEX-TOO-LARGE-ERROR: \n",
      "  #<SB-KERNEL:INDEX-TOO-LARGE-ERROR expected-type: (INTEGER 0 (0)) datum: 0>\n"
     ]
    },
    {
     "data": {
      "text/plain": []
     },
     "execution_count": 24,
     "metadata": {},
     "output_type": "execute_result"
    }
   ],
   "source": []
  }
 ],
 "metadata": {
  "kernelspec": {
   "display_name": "FriCAS",
   "language": "spad",
   "name": "ifricas"
  },
  "language_info": {
   "codemirror_mode": "spad",
   "mimetype": "text/x-spad",
   "name": "SPAD",
   "pygments_lexer": "spad",
   "version": "1.2.6"
  },
  "name": "pmint.ipynb"
 },
 "nbformat": 4,
 "nbformat_minor": 0
}