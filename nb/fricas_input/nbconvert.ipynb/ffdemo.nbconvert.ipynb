{
 "cells": [
  {
   "cell_type": "markdown",
   "metadata": {},
   "source": [
    "Copyright The Numerical Algorithms Group Limited 1994.\n",
    " finite field demonstrations\n",
    " prime field\n",
    " get a prime\n"
   ]
  },
  {
   "cell_type": "markdown",
   "metadata": {},
   "source": [
    " construct field\n"
   ]
  },
  {
   "cell_type": "code",
   "execution_count": 0,
   "metadata": {
    "collapsed": false
   },
   "outputs": [
    {
     "data": {
      "text/plain": [
       "   4817\n",
       "                                                        Type: PositiveInteger\n"
      ]
     },
     "execution_count": 0,
     "metadata": {},
     "output_type": "execute_result"
    }
   ],
   "source": [
    "p:=4817"
   ]
  },
  {
   "cell_type": "markdown",
   "metadata": {},
   "source": [
    " demonstration of common finite field functions\n",
    " the finite field domain is in variable F\n",
    " take some random elements\n"
   ]
  },
  {
   "cell_type": "code",
   "execution_count": 1,
   "metadata": {
    "collapsed": false
   },
   "outputs": [
    {
     "data": {
      "text/plain": [
       "   PrimeField(4817)\n",
       "                                                                   Type: Type\n"
      ]
     },
     "execution_count": 1,
     "metadata": {},
     "output_type": "execute_result"
    }
   ],
   "source": [
    "F:=PrimeField p"
   ]
  },
  {
   "cell_type": "code",
   "execution_count": 2,
   "metadata": {
    "collapsed": false
   },
   "outputs": [
    {
     "name": "stdout",
     "output_type": "stream",
     "text": [
      "Warning: HyperTeX macro table not found\n"
     ]
    },
    {
     "data": {
      "text/plain": [
       "   4817\n",
       "                                                     Type: NonNegativeInteger\n"
      ]
     },
     "execution_count": 2,
     "metadata": {},
     "output_type": "execute_result"
    }
   ],
   "source": [
    "size()$F"
   ]
  },
  {
   "cell_type": "code",
   "execution_count": 3,
   "metadata": {
    "collapsed": false
   },
   "outputs": [
    {
     "data": {
      "text/plain": [
       "   1605\n",
       "                                                       Type: PrimeField(4817)\n"
      ]
     },
     "execution_count": 3,
     "metadata": {},
     "output_type": "execute_result"
    }
   ],
   "source": [
    "a:=index(size()$F quo 3)$F"
   ]
  },
  {
   "cell_type": "markdown",
   "metadata": {},
   "source": [
    " simple arithmetic\n"
   ]
  },
  {
   "cell_type": "code",
   "execution_count": 4,
   "metadata": {
    "collapsed": false
   },
   "outputs": [
    {
     "data": {
      "text/plain": [
       "   688\n",
       "                                                       Type: PrimeField(4817)\n"
      ]
     },
     "execution_count": 4,
     "metadata": {},
     "output_type": "execute_result"
    }
   ],
   "source": [
    "b:=index(size()$F quo 7)$F"
   ]
  },
  {
   "cell_type": "code",
   "execution_count": 5,
   "metadata": {
    "collapsed": false
   },
   "outputs": [
    {
     "data": {
      "text/plain": [
       "   2293\n",
       "                                                       Type: PrimeField(4817)\n"
      ]
     },
     "execution_count": 5,
     "metadata": {},
     "output_type": "execute_result"
    }
   ],
   "source": [
    "a+b"
   ]
  },
  {
   "cell_type": "code",
   "execution_count": 6,
   "metadata": {
    "collapsed": false
   },
   "outputs": [
    {
     "data": {
      "text/plain": [
       "   917\n",
       "                                                       Type: PrimeField(4817)\n"
      ]
     },
     "execution_count": 6,
     "metadata": {},
     "output_type": "execute_result"
    }
   ],
   "source": [
    "a-b"
   ]
  },
  {
   "cell_type": "code",
   "execution_count": 7,
   "metadata": {
    "collapsed": false
   },
   "outputs": [
    {
     "data": {
      "text/plain": [
       "   1147\n",
       "                                                       Type: PrimeField(4817)\n"
      ]
     },
     "execution_count": 7,
     "metadata": {},
     "output_type": "execute_result"
    }
   ],
   "source": [
    "a*b"
   ]
  },
  {
   "cell_type": "code",
   "execution_count": 8,
   "metadata": {
    "collapsed": false
   },
   "outputs": [
    {
     "data": {
      "text/plain": [
       "   3216\n",
       "                                                       Type: PrimeField(4817)\n"
      ]
     },
     "execution_count": 8,
     "metadata": {},
     "output_type": "execute_result"
    }
   ],
   "source": [
    "a/b"
   ]
  },
  {
   "cell_type": "code",
   "execution_count": 9,
   "metadata": {
    "collapsed": false
   },
   "outputs": [
    {
     "data": {
      "text/plain": [
       "   2068\n",
       "                                                       Type: PrimeField(4817)\n"
      ]
     },
     "execution_count": 9,
     "metadata": {},
     "output_type": "execute_result"
    }
   ],
   "source": [
    "a^1234"
   ]
  },
  {
   "cell_type": "code",
   "execution_count": 10,
   "metadata": {
    "collapsed": false
   },
   "outputs": [
    {
     "data": {
      "text/plain": [
       "   2407\n",
       "                                                       Type: PrimeField(4817)\n"
      ]
     },
     "execution_count": 10,
     "metadata": {},
     "output_type": "execute_result"
    }
   ],
   "source": [
    "a^(-1)"
   ]
  },
  {
   "cell_type": "code",
   "execution_count": 11,
   "metadata": {
    "collapsed": false
   },
   "outputs": [
    {
     "data": {
      "text/plain": [
       "   1\n",
       "                                                       Type: PrimeField(4817)\n"
      ]
     },
     "execution_count": 11,
     "metadata": {},
     "output_type": "execute_result"
    }
   ],
   "source": [
    "g := generator()$F"
   ]
  },
  {
   "cell_type": "markdown",
   "metadata": {},
   "source": [
    " functions concerning the multiplicative cyclic group\n"
   ]
  },
  {
   "cell_type": "code",
   "execution_count": 12,
   "metadata": {
    "collapsed": false
   },
   "outputs": [
    {
     "data": {
      "text/plain": [
       "   0\n",
       "                                                       Type: PrimeField(4817)\n"
      ]
     },
     "execution_count": 12,
     "metadata": {},
     "output_type": "execute_result"
    }
   ],
   "source": [
    "(definingPolynomial()$F::SUP(F)).g"
   ]
  },
  {
   "cell_type": "code",
   "execution_count": 13,
   "metadata": {
    "collapsed": false
   },
   "outputs": [
    {
     "data": {
      "text/plain": [
       "   688\n",
       "                                                        Type: PositiveInteger\n"
      ]
     },
     "execution_count": 13,
     "metadata": {},
     "output_type": "execute_result"
    }
   ],
   "source": [
    "order(a)"
   ]
  },
  {
   "cell_type": "code",
   "execution_count": 14,
   "metadata": {
    "collapsed": false
   },
   "outputs": [
    {
     "data": {
      "text/plain": [
       "   3\n",
       "                                                       Type: PrimeField(4817)\n"
      ]
     },
     "execution_count": 14,
     "metadata": {},
     "output_type": "execute_result"
    }
   ],
   "source": [
    "g:=primitiveElement()$F"
   ]
  },
  {
   "cell_type": "markdown",
   "metadata": {},
   "source": [
    " the next one should equal 0\n"
   ]
  },
  {
   "cell_type": "code",
   "execution_count": 15,
   "metadata": {
    "collapsed": false
   },
   "outputs": [
    {
     "data": {
      "text/plain": [
       "   987\n",
       "                                                        Type: PositiveInteger\n"
      ]
     },
     "execution_count": 15,
     "metadata": {},
     "output_type": "execute_result"
    }
   ],
   "source": [
    "discreteLog(a)"
   ]
  },
  {
   "cell_type": "markdown",
   "metadata": {},
   "source": [
    " the next may fail\n"
   ]
  },
  {
   "cell_type": "code",
   "execution_count": 16,
   "metadata": {
    "collapsed": false
   },
   "outputs": [
    {
     "data": {
      "text/plain": [
       "   0\n",
       "                                                       Type: PrimeField(4817)\n"
      ]
     },
     "execution_count": 16,
     "metadata": {},
     "output_type": "execute_result"
    }
   ],
   "source": [
    "g^% - a"
   ]
  },
  {
   "cell_type": "markdown",
   "metadata": {},
   "source": [
    " special finite field functions\n"
   ]
  },
  {
   "cell_type": "code",
   "execution_count": 17,
   "metadata": {
    "collapsed": false
   },
   "outputs": [
    {
     "data": {
      "text/plain": [
       "   discreteLog: second argument not in cyclic group generated by first argument\n",
       "   \"failed\"\n",
       "                                                    Type: Union(\"failed\",...)\n"
      ]
     },
     "execution_count": 17,
     "metadata": {},
     "output_type": "execute_result"
    }
   ],
   "source": [
    "discreteLog(b,a)"
   ]
  },
  {
   "cell_type": "code",
   "execution_count": 18,
   "metadata": {
    "collapsed": false
   },
   "outputs": [
    {
     "data": {
      "text/plain": [
       "   1\n",
       "                                                        Type: PositiveInteger\n"
      ]
     },
     "execution_count": 18,
     "metadata": {},
     "output_type": "execute_result"
    }
   ],
   "source": [
    "extensionDegree()$F"
   ]
  },
  {
   "cell_type": "code",
   "execution_count": 19,
   "metadata": {
    "collapsed": false
   },
   "outputs": [
    {
     "data": {
      "text/plain": [
       "   1\n",
       "                                                        Type: PositiveInteger\n"
      ]
     },
     "execution_count": 19,
     "metadata": {},
     "output_type": "execute_result"
    }
   ],
   "source": [
    "degree(a)"
   ]
  },
  {
   "cell_type": "code",
   "execution_count": 20,
   "metadata": {
    "collapsed": false
   },
   "outputs": [
    {
     "data": {
      "text/plain": [
       "   1\n",
       "                                                       Type: PrimeField(4817)\n"
      ]
     },
     "execution_count": 20,
     "metadata": {},
     "output_type": "execute_result"
    }
   ],
   "source": [
    "normalElement()$F"
   ]
  },
  {
   "cell_type": "code",
   "execution_count": 21,
   "metadata": {
    "collapsed": false
   },
   "outputs": [
    {
     "data": {
      "text/plain": [
       "   ? + 4816\n",
       "                           Type: SparseUnivariatePolynomial(PrimeField(4817))\n"
      ]
     },
     "execution_count": 21,
     "metadata": {},
     "output_type": "execute_result"
    }
   ],
   "source": [
    "definingPolynomial()$F"
   ]
  },
  {
   "cell_type": "code",
   "execution_count": 22,
   "metadata": {
    "collapsed": false
   },
   "outputs": [
    {
     "data": {
      "text/plain": [
       "   ? + 3212\n",
       "                           Type: SparseUnivariatePolynomial(PrimeField(4817))\n"
      ]
     },
     "execution_count": 22,
     "metadata": {},
     "output_type": "execute_result"
    }
   ],
   "source": [
    "minimalPolynomial(a)"
   ]
  },
  {
   "cell_type": "code",
   "execution_count": 23,
   "metadata": {
    "collapsed": false
   },
   "outputs": [
    {
     "data": {
      "text/plain": [
       "   1605\n",
       "                                                       Type: PrimeField(4817)\n"
      ]
     },
     "execution_count": 23,
     "metadata": {},
     "output_type": "execute_result"
    }
   ],
   "source": [
    "Frobenius(a)"
   ]
  },
  {
   "cell_type": "code",
   "execution_count": 24,
   "metadata": {
    "collapsed": false
   },
   "outputs": [
    {
     "data": {
      "text/plain": [
       "   ? + 4816\n",
       "                           Type: SparseUnivariatePolynomial(PrimeField(4817))\n"
      ]
     },
     "execution_count": 24,
     "metadata": {},
     "output_type": "execute_result"
    }
   ],
   "source": [
    "linearAssociatedOrder(a)"
   ]
  },
  {
   "cell_type": "code",
   "execution_count": 25,
   "metadata": {
    "collapsed": false
   },
   "outputs": [
    {
     "data": {
      "text/plain": [
       "   1605\n",
       "                           Type: SparseUnivariatePolynomial(PrimeField(4817))\n"
      ]
     },
     "execution_count": 25,
     "metadata": {},
     "output_type": "execute_result"
    }
   ],
   "source": [
    "linearAssociatedLog(a)"
   ]
  },
  {
   "cell_type": "markdown",
   "metadata": {},
   "source": [
    " end of common finite field demonstration\n",
    " finite field with polynomail basis\n",
    " get a small prime\n"
   ]
  },
  {
   "cell_type": "code",
   "execution_count": 26,
   "metadata": {
    "collapsed": false
   },
   "outputs": [
    {
     "name": "stdout",
     "output_type": "stream",
     "text": [
      "   Compiling function G16247 with type Integer -> Boolean \n",
      "   Compiling function G16249 with type NonNegativeInteger -> Boolean \n",
      "\n"
     ]
    },
    {
     "data": {
      "text/plain": [
       "   1605\n",
       "   1605\n",
       "                                                                   Type: Void\n"
      ]
     },
     "execution_count": 26,
     "metadata": {},
     "output_type": "execute_result"
    }
   ],
   "source": [
    "for d in divisors extensionDegree()$F repeat\n",
    "        print(norm(a,d::PI)::OUTFORM)\n",
    "        print(trace(a,d::PI)::OUTFORM)"
   ]
  },
  {
   "cell_type": "code",
   "execution_count": 27,
   "metadata": {
    "collapsed": false
   },
   "outputs": [
    {
     "data": {
      "text/plain": [
       "   7\n",
       "                                                        Type: PositiveInteger\n"
      ]
     },
     "execution_count": 27,
     "metadata": {},
     "output_type": "execute_result"
    }
   ],
   "source": [
    "p:=7"
   ]
  },
  {
   "cell_type": "markdown",
   "metadata": {},
   "source": [
    " get a small extension degree\n"
   ]
  },
  {
   "cell_type": "code",
   "execution_count": 28,
   "metadata": {
    "collapsed": false
   },
   "outputs": [
    {
     "data": {
      "text/plain": [
       "   PrimeField(7)\n",
       "                                                                   Type: Type\n"
      ]
     },
     "execution_count": 28,
     "metadata": {},
     "output_type": "execute_result"
    }
   ],
   "source": [
    "P:=PrimeField p"
   ]
  },
  {
   "cell_type": "markdown",
   "metadata": {},
   "source": [
    " get a irreducible polynomial\n"
   ]
  },
  {
   "cell_type": "code",
   "execution_count": 29,
   "metadata": {
    "collapsed": false
   },
   "outputs": [
    {
     "data": {
      "text/plain": [
       "   6\n",
       "                                                        Type: PositiveInteger\n"
      ]
     },
     "execution_count": 29,
     "metadata": {},
     "output_type": "execute_result"
    }
   ],
   "source": [
    "d:=6"
   ]
  },
  {
   "cell_type": "markdown",
   "metadata": {},
   "source": [
    " construct field\n"
   ]
  },
  {
   "cell_type": "code",
   "execution_count": 30,
   "metadata": {
    "collapsed": false
   },
   "outputs": [
    {
     "data": {
      "text/plain": [
       "    6\n",
       "   ?  + 2\n",
       "                              Type: SparseUnivariatePolynomial(PrimeField(7))\n"
      ]
     },
     "execution_count": 30,
     "metadata": {},
     "output_type": "execute_result"
    }
   ],
   "source": [
    "f:=createIrreduciblePoly(d)$FFPOLY(P)"
   ]
  },
  {
   "cell_type": "markdown",
   "metadata": {},
   "source": [
    " this field is the same as constructed by F:=FFX(P,d) or F:=FF(p,d\n",
    " demonstration of common finite field functions\n",
    " the finite field domain is in variable F\n",
    " take some random elements\n"
   ]
  },
  {
   "cell_type": "code",
   "execution_count": 31,
   "metadata": {
    "collapsed": false
   },
   "outputs": [
    {
     "data": {
      "text/plain": [
       "   FiniteFieldExtensionByPolynomial(PrimeField(7),?^6+2)\n",
       "                                                                   Type: Type\n"
      ]
     },
     "execution_count": 31,
     "metadata": {},
     "output_type": "execute_result"
    }
   ],
   "source": [
    "F:=FFP(P,f)"
   ]
  },
  {
   "cell_type": "code",
   "execution_count": 32,
   "metadata": {
    "collapsed": false
   },
   "outputs": [
    {
     "data": {
      "text/plain": [
       "   117649\n",
       "                                                     Type: NonNegativeInteger\n"
      ]
     },
     "execution_count": 32,
     "metadata": {},
     "output_type": "execute_result"
    }
   ],
   "source": [
    "size()$F"
   ]
  },
  {
   "cell_type": "code",
   "execution_count": 33,
   "metadata": {
    "collapsed": false
   },
   "outputs": [
    {
     "data": {
      "text/plain": [
       "      5      4      3      2\n",
       "   2%A  + 2%A  + 2%A  + 2%A  + 2%A + 2\n",
       "                  Type: FiniteFieldExtensionByPolynomial(PrimeField(7),?^6+2)\n"
      ]
     },
     "execution_count": 33,
     "metadata": {},
     "output_type": "execute_result"
    }
   ],
   "source": [
    "a:=index(size()$F quo 3)$F"
   ]
  },
  {
   "cell_type": "markdown",
   "metadata": {},
   "source": [
    " simple arithmetic\n"
   ]
  },
  {
   "cell_type": "code",
   "execution_count": 34,
   "metadata": {
    "collapsed": false
   },
   "outputs": [
    {
     "data": {
      "text/plain": [
       "     5\n",
       "   %A\n",
       "                  Type: FiniteFieldExtensionByPolynomial(PrimeField(7),?^6+2)\n"
      ]
     },
     "execution_count": 34,
     "metadata": {},
     "output_type": "execute_result"
    }
   ],
   "source": [
    "b:=index(size()$F quo 7)$F"
   ]
  },
  {
   "cell_type": "code",
   "execution_count": 35,
   "metadata": {
    "collapsed": false
   },
   "outputs": [
    {
     "data": {
      "text/plain": [
       "      5      4      3      2\n",
       "   3%A  + 2%A  + 2%A  + 2%A  + 2%A + 2\n",
       "                  Type: FiniteFieldExtensionByPolynomial(PrimeField(7),?^6+2)\n"
      ]
     },
     "execution_count": 35,
     "metadata": {},
     "output_type": "execute_result"
    }
   ],
   "source": [
    "a+b"
   ]
  },
  {
   "cell_type": "code",
   "execution_count": 36,
   "metadata": {
    "collapsed": false
   },
   "outputs": [
    {
     "data": {
      "text/plain": [
       "     5      4      3      2\n",
       "   %A  + 2%A  + 2%A  + 2%A  + 2%A + 2\n",
       "                  Type: FiniteFieldExtensionByPolynomial(PrimeField(7),?^6+2)\n"
      ]
     },
     "execution_count": 36,
     "metadata": {},
     "output_type": "execute_result"
    }
   ],
   "source": [
    "a-b"
   ]
  },
  {
   "cell_type": "code",
   "execution_count": 37,
   "metadata": {
    "collapsed": false
   },
   "outputs": [
    {
     "data": {
      "text/plain": [
       "      5      4      3      2\n",
       "   2%A  + 3%A  + 3%A  + 3%A  + 3%A + 3\n",
       "                  Type: FiniteFieldExtensionByPolynomial(PrimeField(7),?^6+2)\n"
      ]
     },
     "execution_count": 37,
     "metadata": {},
     "output_type": "execute_result"
    }
   ],
   "source": [
    "a*b"
   ]
  },
  {
   "cell_type": "code",
   "execution_count": 38,
   "metadata": {
    "collapsed": false
   },
   "outputs": [
    {
     "data": {
      "text/plain": [
       "      5      4      3      2\n",
       "   6%A  + 6%A  + 6%A  + 6%A  + 6%A + 2\n",
       "                  Type: FiniteFieldExtensionByPolynomial(PrimeField(7),?^6+2)\n"
      ]
     },
     "execution_count": 38,
     "metadata": {},
     "output_type": "execute_result"
    }
   ],
   "source": [
    "a/b"
   ]
  },
  {
   "cell_type": "code",
   "execution_count": 39,
   "metadata": {
    "collapsed": false
   },
   "outputs": [
    {
     "data": {
      "text/plain": [
       "      5     4      3\n",
       "   5%A  + %A  + 3%A  + 3%A + 4\n",
       "                  Type: FiniteFieldExtensionByPolynomial(PrimeField(7),?^6+2)\n"
      ]
     },
     "execution_count": 39,
     "metadata": {},
     "output_type": "execute_result"
    }
   ],
   "source": [
    "a^1234"
   ]
  },
  {
   "cell_type": "code",
   "execution_count": 40,
   "metadata": {
    "collapsed": false
   },
   "outputs": [
    {
     "data": {
      "text/plain": [
       "   %A + 6\n",
       "                  Type: FiniteFieldExtensionByPolynomial(PrimeField(7),?^6+2)\n"
      ]
     },
     "execution_count": 40,
     "metadata": {},
     "output_type": "execute_result"
    }
   ],
   "source": [
    "a^(-1)"
   ]
  },
  {
   "cell_type": "code",
   "execution_count": 41,
   "metadata": {
    "collapsed": false
   },
   "outputs": [
    {
     "data": {
      "text/plain": [
       "   %A\n",
       "                  Type: FiniteFieldExtensionByPolynomial(PrimeField(7),?^6+2)\n"
      ]
     },
     "execution_count": 41,
     "metadata": {},
     "output_type": "execute_result"
    }
   ],
   "source": [
    "g := generator()$F"
   ]
  },
  {
   "cell_type": "markdown",
   "metadata": {},
   "source": [
    " functions concerning the multiplicative cyclic group\n"
   ]
  },
  {
   "cell_type": "code",
   "execution_count": 42,
   "metadata": {
    "collapsed": false
   },
   "outputs": [
    {
     "data": {
      "text/plain": [
       "   0\n",
       "                  Type: FiniteFieldExtensionByPolynomial(PrimeField(7),?^6+2)\n"
      ]
     },
     "execution_count": 42,
     "metadata": {},
     "output_type": "execute_result"
    }
   ],
   "source": [
    "(definingPolynomial()$F::SUP(F)).g"
   ]
  },
  {
   "cell_type": "code",
   "execution_count": 43,
   "metadata": {
    "collapsed": false
   },
   "outputs": [
    {
     "data": {
      "text/plain": [
       "   117648\n",
       "                                                        Type: PositiveInteger\n"
      ]
     },
     "execution_count": 43,
     "metadata": {},
     "output_type": "execute_result"
    }
   ],
   "source": [
    "order(a)"
   ]
  },
  {
   "cell_type": "code",
   "execution_count": 44,
   "metadata": {
    "collapsed": false
   },
   "outputs": [
    {
     "data": {
      "text/plain": [
       "   %A + 1\n",
       "                  Type: FiniteFieldExtensionByPolynomial(PrimeField(7),?^6+2)\n"
      ]
     },
     "execution_count": 44,
     "metadata": {},
     "output_type": "execute_result"
    }
   ],
   "source": [
    "g:=primitiveElement()$F"
   ]
  },
  {
   "cell_type": "markdown",
   "metadata": {},
   "source": [
    " the next one should equal 0\n"
   ]
  },
  {
   "cell_type": "code",
   "execution_count": 45,
   "metadata": {
    "collapsed": false
   },
   "outputs": [
    {
     "data": {
      "text/plain": [
       "   58481\n",
       "                                                        Type: PositiveInteger\n"
      ]
     },
     "execution_count": 45,
     "metadata": {},
     "output_type": "execute_result"
    }
   ],
   "source": [
    "discreteLog(a)"
   ]
  },
  {
   "cell_type": "markdown",
   "metadata": {},
   "source": [
    " the next may fail\n"
   ]
  },
  {
   "cell_type": "code",
   "execution_count": 46,
   "metadata": {
    "collapsed": false
   },
   "outputs": [
    {
     "data": {
      "text/plain": [
       "   0\n",
       "                  Type: FiniteFieldExtensionByPolynomial(PrimeField(7),?^6+2)\n"
      ]
     },
     "execution_count": 46,
     "metadata": {},
     "output_type": "execute_result"
    }
   ],
   "source": [
    "g^% - a"
   ]
  },
  {
   "cell_type": "markdown",
   "metadata": {},
   "source": [
    " special finite field functions\n"
   ]
  },
  {
   "cell_type": "code",
   "execution_count": 47,
   "metadata": {
    "collapsed": false
   },
   "outputs": [
    {
     "data": {
      "text/plain": [
       "   discreteLog: second argument not in cyclic group generated by first argument\n",
       "   \"failed\"\n",
       "                                                    Type: Union(\"failed\",...)\n"
      ]
     },
     "execution_count": 47,
     "metadata": {},
     "output_type": "execute_result"
    }
   ],
   "source": [
    "discreteLog(b,a)"
   ]
  },
  {
   "cell_type": "code",
   "execution_count": 48,
   "metadata": {
    "collapsed": false
   },
   "outputs": [
    {
     "data": {
      "text/plain": [
       "   6\n",
       "                                                        Type: PositiveInteger\n"
      ]
     },
     "execution_count": 48,
     "metadata": {},
     "output_type": "execute_result"
    }
   ],
   "source": [
    "extensionDegree()$F"
   ]
  },
  {
   "cell_type": "code",
   "execution_count": 49,
   "metadata": {
    "collapsed": false
   },
   "outputs": [
    {
     "data": {
      "text/plain": [
       "   6\n",
       "                                                        Type: PositiveInteger\n"
      ]
     },
     "execution_count": 49,
     "metadata": {},
     "output_type": "execute_result"
    }
   ],
   "source": [
    "degree(a)"
   ]
  },
  {
   "cell_type": "code",
   "execution_count": 50,
   "metadata": {
    "collapsed": false
   },
   "outputs": [
    {
     "data": {
      "text/plain": [
       "      5      4      3      2\n",
       "   5%A  + 3%A  + 3%A  + 5%A  + %A + 5\n",
       "                  Type: FiniteFieldExtensionByPolynomial(PrimeField(7),?^6+2)\n"
      ]
     },
     "execution_count": 50,
     "metadata": {},
     "output_type": "execute_result"
    }
   ],
   "source": [
    "normalElement()$F"
   ]
  },
  {
   "cell_type": "code",
   "execution_count": 51,
   "metadata": {
    "collapsed": false
   },
   "outputs": [
    {
     "data": {
      "text/plain": [
       "    6\n",
       "   ?  + 2\n",
       "                              Type: SparseUnivariatePolynomial(PrimeField(7))\n"
      ]
     },
     "execution_count": 51,
     "metadata": {},
     "output_type": "execute_result"
    }
   ],
   "source": [
    "definingPolynomial()$F"
   ]
  },
  {
   "cell_type": "code",
   "execution_count": 52,
   "metadata": {
    "collapsed": false
   },
   "outputs": [
    {
     "data": {
      "text/plain": [
       "    6     5     4     3     2\n",
       "   ?  + 2?  + 5?  + 2?  + 5?  + 2? + 5\n",
       "                              Type: SparseUnivariatePolynomial(PrimeField(7))\n"
      ]
     },
     "execution_count": 52,
     "metadata": {},
     "output_type": "execute_result"
    }
   ],
   "source": [
    "minimalPolynomial(a)"
   ]
  },
  {
   "cell_type": "code",
   "execution_count": 53,
   "metadata": {
    "collapsed": false
   },
   "outputs": [
    {
     "data": {
      "text/plain": [
       "      5      4      3     2\n",
       "   6%A  + 4%A  + 5%A  + %A  + 3%A + 2\n",
       "                  Type: FiniteFieldExtensionByPolynomial(PrimeField(7),?^6+2)\n"
      ]
     },
     "execution_count": 53,
     "metadata": {},
     "output_type": "execute_result"
    }
   ],
   "source": [
    "Frobenius(a)"
   ]
  },
  {
   "cell_type": "code",
   "execution_count": 54,
   "metadata": {
    "collapsed": false
   },
   "outputs": [
    {
     "data": {
      "text/plain": [
       "    6\n",
       "   ?  + 6\n",
       "                              Type: SparseUnivariatePolynomial(PrimeField(7))\n"
      ]
     },
     "execution_count": 54,
     "metadata": {},
     "output_type": "execute_result"
    }
   ],
   "source": [
    "linearAssociatedOrder(a)"
   ]
  },
  {
   "cell_type": "code",
   "execution_count": 55,
   "metadata": {
    "collapsed": false
   },
   "outputs": [
    {
     "data": {
      "text/plain": [
       "     5     4     3     2\n",
       "   2?  + 3?  + 3?  + 3?  + 2\n",
       "                              Type: SparseUnivariatePolynomial(PrimeField(7))\n"
      ]
     },
     "execution_count": 55,
     "metadata": {},
     "output_type": "execute_result"
    }
   ],
   "source": [
    "linearAssociatedLog(a)"
   ]
  },
  {
   "cell_type": "markdown",
   "metadata": {},
   "source": [
    " end of common finite field demonstration\n",
    " finite field with normal basis\n",
    " get a normal Polynomial\n"
   ]
  },
  {
   "cell_type": "code",
   "execution_count": 56,
   "metadata": {
    "collapsed": false
   },
   "outputs": [
    {
     "data": {
      "text/plain": [
       "   5\n",
       "   5\n",
       "      3\n",
       "   2%A  + 2\n",
       "      3\n",
       "   6%A  + 6\n",
       "      4      2\n",
       "   5%A  + 5%A  + 5\n",
       "      4      2\n",
       "   4%A  + 4%A  + 4\n",
       "      5      4      3      2\n",
       "   2%A  + 2%A  + 2%A  + 2%A  + 2%A + 2\n",
       "      5      4      3      2\n",
       "   2%A  + 2%A  + 2%A  + 2%A  + 2%A + 2\n",
       "                                                                   Type: Void\n"
      ]
     },
     "execution_count": 56,
     "metadata": {},
     "output_type": "execute_result"
    }
   ],
   "source": [
    "for d in divisors extensionDegree()$F repeat\n",
    "        print(norm(a,d::PI)::OUTFORM)\n",
    "        print(trace(a,d::PI)::OUTFORM)"
   ]
  },
  {
   "cell_type": "markdown",
   "metadata": {},
   "source": [
    " build field\n"
   ]
  },
  {
   "cell_type": "code",
   "execution_count": 57,
   "metadata": {
    "collapsed": false
   },
   "outputs": [
    {
     "data": {
      "text/plain": [
       "    6     5\n",
       "   ?  + 6?  + 2? + 4\n",
       "                              Type: SparseUnivariatePolynomial(PrimeField(7))\n"
      ]
     },
     "execution_count": 57,
     "metadata": {},
     "output_type": "execute_result"
    }
   ],
   "source": [
    "f:=createNormalPoly(d)$FFPOLY(P)"
   ]
  },
  {
   "cell_type": "markdown",
   "metadata": {},
   "source": [
    " this field is the same as constructed by F:=FFNBX(P,d) or F:=FFNB(p,d\n",
    " demonstration of common finite field functions\n",
    " the finite field domain is in variable F\n",
    " take some random elements\n"
   ]
  },
  {
   "cell_type": "code",
   "execution_count": 58,
   "metadata": {
    "collapsed": false
   },
   "outputs": [
    {
     "data": {
      "text/plain": [
       "   FiniteFieldNormalBasisExtensionByPolynomial(PrimeField(7),?^6+6*?^5+2*?+4)\n",
       "                                                                   Type: Type\n"
      ]
     },
     "execution_count": 58,
     "metadata": {},
     "output_type": "execute_result"
    }
   ],
   "source": [
    "F:=FFNBP(P,f)"
   ]
  },
  {
   "cell_type": "code",
   "execution_count": 59,
   "metadata": {
    "collapsed": false
   },
   "outputs": [
    {
     "data": {
      "text/plain": [
       "   117649\n",
       "                                                     Type: NonNegativeInteger\n"
      ]
     },
     "execution_count": 59,
     "metadata": {},
     "output_type": "execute_result"
    }
   ],
   "source": [
    "size()$F"
   ]
  },
  {
   "cell_type": "code",
   "execution_count": 60,
   "metadata": {
    "collapsed": false
   },
   "outputs": [
    {
     "data": {
      "text/plain": [
       "       5       4       3       2\n",
       "      q       q       q       q       q\n",
       "   2%B   + 2%B   + 2%B   + 2%B   + 2%B  + 2%B\n",
       "Type: FiniteFieldNormalBasisExtensionByPolynomial(PrimeField(7),?^6+6*?^5+2*?+4)\n"
      ]
     },
     "execution_count": 60,
     "metadata": {},
     "output_type": "execute_result"
    }
   ],
   "source": [
    "a:=index(size()$F quo 3)$F"
   ]
  },
  {
   "cell_type": "markdown",
   "metadata": {},
   "source": [
    " simple arithmetic\n"
   ]
  },
  {
   "cell_type": "code",
   "execution_count": 61,
   "metadata": {
    "collapsed": false
   },
   "outputs": [
    {
     "data": {
      "text/plain": [
       "      5\n",
       "     q\n",
       "   %B\n",
       "Type: FiniteFieldNormalBasisExtensionByPolynomial(PrimeField(7),?^6+6*?^5+2*?+4)\n"
      ]
     },
     "execution_count": 61,
     "metadata": {},
     "output_type": "execute_result"
    }
   ],
   "source": [
    "b:=index(size()$F quo 7)$F"
   ]
  },
  {
   "cell_type": "code",
   "execution_count": 62,
   "metadata": {
    "collapsed": false
   },
   "outputs": [
    {
     "data": {
      "text/plain": [
       "       5       4       3       2\n",
       "      q       q       q       q       q\n",
       "   3%B   + 2%B   + 2%B   + 2%B   + 2%B  + 2%B\n",
       "Type: FiniteFieldNormalBasisExtensionByPolynomial(PrimeField(7),?^6+6*?^5+2*?+4)\n"
      ]
     },
     "execution_count": 62,
     "metadata": {},
     "output_type": "execute_result"
    }
   ],
   "source": [
    "a+b"
   ]
  },
  {
   "cell_type": "code",
   "execution_count": 63,
   "metadata": {
    "collapsed": false
   },
   "outputs": [
    {
     "data": {
      "text/plain": [
       "      5       4       3       2\n",
       "     q       q       q       q       q\n",
       "   %B   + 2%B   + 2%B   + 2%B   + 2%B  + 2%B\n",
       "Type: FiniteFieldNormalBasisExtensionByPolynomial(PrimeField(7),?^6+6*?^5+2*?+4)\n"
      ]
     },
     "execution_count": 63,
     "metadata": {},
     "output_type": "execute_result"
    }
   ],
   "source": [
    "a-b"
   ]
  },
  {
   "cell_type": "code",
   "execution_count": 64,
   "metadata": {
    "collapsed": false
   },
   "outputs": [
    {
     "data": {
      "text/plain": [
       "       5\n",
       "      q\n",
       "   2%B\n",
       "Type: FiniteFieldNormalBasisExtensionByPolynomial(PrimeField(7),?^6+6*?^5+2*?+4)\n"
      ]
     },
     "execution_count": 64,
     "metadata": {},
     "output_type": "execute_result"
    }
   ],
   "source": [
    "a*b"
   ]
  },
  {
   "cell_type": "code",
   "execution_count": 65,
   "metadata": {
    "collapsed": false
   },
   "outputs": [
    {
     "data": {
      "text/plain": [
       "       4       3       2\n",
       "      q       q       q      q\n",
       "   3%B   + 2%B   + 4%B   + %B  + 3%B\n",
       "Type: FiniteFieldNormalBasisExtensionByPolynomial(PrimeField(7),?^6+6*?^5+2*?+4)\n"
      ]
     },
     "execution_count": 65,
     "metadata": {},
     "output_type": "execute_result"
    }
   ],
   "source": [
    "a/b"
   ]
  },
  {
   "cell_type": "code",
   "execution_count": 66,
   "metadata": {
    "collapsed": false
   },
   "outputs": [
    {
     "data": {
      "text/plain": [
       "       5       4       3       2\n",
       "      q       q       q       q       q\n",
       "   2%B   + 2%B   + 2%B   + 2%B   + 2%B  + 2%B\n",
       "Type: FiniteFieldNormalBasisExtensionByPolynomial(PrimeField(7),?^6+6*?^5+2*?+4)\n"
      ]
     },
     "execution_count": 66,
     "metadata": {},
     "output_type": "execute_result"
    }
   ],
   "source": [
    "a^1234"
   ]
  },
  {
   "cell_type": "code",
   "execution_count": 67,
   "metadata": {
    "collapsed": false
   },
   "outputs": [
    {
     "data": {
      "text/plain": [
       "       5       4       3       2\n",
       "      q       q       q       q       q\n",
       "   4%B   + 4%B   + 4%B   + 4%B   + 4%B  + 4%B\n",
       "Type: FiniteFieldNormalBasisExtensionByPolynomial(PrimeField(7),?^6+6*?^5+2*?+4)\n"
      ]
     },
     "execution_count": 67,
     "metadata": {},
     "output_type": "execute_result"
    }
   ],
   "source": [
    "a^(-1)"
   ]
  },
  {
   "cell_type": "code",
   "execution_count": 68,
   "metadata": {
    "collapsed": false
   },
   "outputs": [
    {
     "data": {
      "text/plain": [
       "   %B\n",
       "Type: FiniteFieldNormalBasisExtensionByPolynomial(PrimeField(7),?^6+6*?^5+2*?+4)\n"
      ]
     },
     "execution_count": 68,
     "metadata": {},
     "output_type": "execute_result"
    }
   ],
   "source": [
    "g := generator()$F"
   ]
  },
  {
   "cell_type": "markdown",
   "metadata": {},
   "source": [
    " functions concerning the multiplicative cyclic group\n"
   ]
  },
  {
   "cell_type": "code",
   "execution_count": 69,
   "metadata": {
    "collapsed": false
   },
   "outputs": [
    {
     "data": {
      "text/plain": [
       "   0\n",
       "Type: FiniteFieldNormalBasisExtensionByPolynomial(PrimeField(7),?^6+6*?^5+2*?+4)\n"
      ]
     },
     "execution_count": 69,
     "metadata": {},
     "output_type": "execute_result"
    }
   ],
   "source": [
    "(definingPolynomial()$F::SUP(F)).g"
   ]
  },
  {
   "cell_type": "code",
   "execution_count": 70,
   "metadata": {
    "collapsed": false
   },
   "outputs": [
    {
     "data": {
      "text/plain": [
       "   3\n",
       "                                                        Type: PositiveInteger\n"
      ]
     },
     "execution_count": 70,
     "metadata": {},
     "output_type": "execute_result"
    }
   ],
   "source": [
    "order(a)"
   ]
  },
  {
   "cell_type": "code",
   "execution_count": 71,
   "metadata": {
    "collapsed": false
   },
   "outputs": [
    {
     "data": {
      "text/plain": [
       "      2\n",
       "     q\n",
       "   %B   + %B\n",
       "Type: FiniteFieldNormalBasisExtensionByPolynomial(PrimeField(7),?^6+6*?^5+2*?+4)\n"
      ]
     },
     "execution_count": 71,
     "metadata": {},
     "output_type": "execute_result"
    }
   ],
   "source": [
    "g:=primitiveElement()$F"
   ]
  },
  {
   "cell_type": "markdown",
   "metadata": {},
   "source": [
    " the next one should equal 0\n"
   ]
  },
  {
   "cell_type": "code",
   "execution_count": 72,
   "metadata": {
    "collapsed": false
   },
   "outputs": [
    {
     "data": {
      "text/plain": [
       "   39216\n",
       "                                                        Type: PositiveInteger\n"
      ]
     },
     "execution_count": 72,
     "metadata": {},
     "output_type": "execute_result"
    }
   ],
   "source": [
    "discreteLog(a)"
   ]
  },
  {
   "cell_type": "markdown",
   "metadata": {},
   "source": [
    " the next may fail\n"
   ]
  },
  {
   "cell_type": "code",
   "execution_count": 73,
   "metadata": {
    "collapsed": false
   },
   "outputs": [
    {
     "data": {
      "text/plain": [
       "   0\n",
       "Type: FiniteFieldNormalBasisExtensionByPolynomial(PrimeField(7),?^6+6*?^5+2*?+4)\n"
      ]
     },
     "execution_count": 73,
     "metadata": {},
     "output_type": "execute_result"
    }
   ],
   "source": [
    "g^% - a"
   ]
  },
  {
   "cell_type": "markdown",
   "metadata": {},
   "source": [
    " special finite field functions\n"
   ]
  },
  {
   "cell_type": "code",
   "execution_count": 74,
   "metadata": {
    "collapsed": false
   },
   "outputs": [
    {
     "data": {
      "text/plain": [
       "   9804\n",
       "                                          Type: Union(NonNegativeInteger,...)\n"
      ]
     },
     "execution_count": 74,
     "metadata": {},
     "output_type": "execute_result"
    }
   ],
   "source": [
    "discreteLog(b,a)"
   ]
  },
  {
   "cell_type": "code",
   "execution_count": 75,
   "metadata": {
    "collapsed": false
   },
   "outputs": [
    {
     "data": {
      "text/plain": [
       "   6\n",
       "                                                        Type: PositiveInteger\n"
      ]
     },
     "execution_count": 75,
     "metadata": {},
     "output_type": "execute_result"
    }
   ],
   "source": [
    "extensionDegree()$F"
   ]
  },
  {
   "cell_type": "code",
   "execution_count": 76,
   "metadata": {
    "collapsed": false
   },
   "outputs": [
    {
     "data": {
      "text/plain": [
       "   1\n",
       "                                                        Type: PositiveInteger\n"
      ]
     },
     "execution_count": 76,
     "metadata": {},
     "output_type": "execute_result"
    }
   ],
   "source": [
    "degree(a)"
   ]
  },
  {
   "cell_type": "code",
   "execution_count": 77,
   "metadata": {
    "collapsed": false
   },
   "outputs": [
    {
     "data": {
      "text/plain": [
       "   %B\n",
       "Type: FiniteFieldNormalBasisExtensionByPolynomial(PrimeField(7),?^6+6*?^5+2*?+4)\n"
      ]
     },
     "execution_count": 77,
     "metadata": {},
     "output_type": "execute_result"
    }
   ],
   "source": [
    "normalElement()$F"
   ]
  },
  {
   "cell_type": "code",
   "execution_count": 78,
   "metadata": {
    "collapsed": false
   },
   "outputs": [
    {
     "data": {
      "text/plain": [
       "    6     5\n",
       "   ?  + 6?  + 2? + 4\n",
       "                              Type: SparseUnivariatePolynomial(PrimeField(7))\n"
      ]
     },
     "execution_count": 78,
     "metadata": {},
     "output_type": "execute_result"
    }
   ],
   "source": [
    "definingPolynomial()$F"
   ]
  },
  {
   "cell_type": "code",
   "execution_count": 79,
   "metadata": {
    "collapsed": false
   },
   "outputs": [
    {
     "data": {
      "text/plain": [
       "   ? + 5\n",
       "                              Type: SparseUnivariatePolynomial(PrimeField(7))\n"
      ]
     },
     "execution_count": 79,
     "metadata": {},
     "output_type": "execute_result"
    }
   ],
   "source": [
    "minimalPolynomial(a)"
   ]
  },
  {
   "cell_type": "code",
   "execution_count": 80,
   "metadata": {
    "collapsed": false
   },
   "outputs": [
    {
     "data": {
      "text/plain": [
       "       5       4       3       2\n",
       "      q       q       q       q       q\n",
       "   2%B   + 2%B   + 2%B   + 2%B   + 2%B  + 2%B\n",
       "Type: FiniteFieldNormalBasisExtensionByPolynomial(PrimeField(7),?^6+6*?^5+2*?+4)\n"
      ]
     },
     "execution_count": 80,
     "metadata": {},
     "output_type": "execute_result"
    }
   ],
   "source": [
    "Frobenius(a)"
   ]
  },
  {
   "cell_type": "code",
   "execution_count": 81,
   "metadata": {
    "collapsed": false
   },
   "outputs": [
    {
     "data": {
      "text/plain": [
       "   ? + 6\n",
       "                              Type: SparseUnivariatePolynomial(PrimeField(7))\n"
      ]
     },
     "execution_count": 81,
     "metadata": {},
     "output_type": "execute_result"
    }
   ],
   "source": [
    "linearAssociatedOrder(a)"
   ]
  },
  {
   "cell_type": "code",
   "execution_count": 82,
   "metadata": {
    "collapsed": false
   },
   "outputs": [
    {
     "data": {
      "text/plain": [
       "     5     4     3     2\n",
       "   2?  + 2?  + 2?  + 2?  + 2? + 2\n",
       "                              Type: SparseUnivariatePolynomial(PrimeField(7))\n"
      ]
     },
     "execution_count": 82,
     "metadata": {},
     "output_type": "execute_result"
    }
   ],
   "source": [
    "linearAssociatedLog(a)"
   ]
  },
  {
   "cell_type": "markdown",
   "metadata": {},
   "source": [
    " end of common finite field demonstration\n",
    " finite field represented as cyclic group\n",
    " because a Zech logarithm table of half the field size is kept in\n",
    " memory during the computations, the size of the field should not be\n",
    " to big.\n",
    " get a small prime\n"
   ]
  },
  {
   "cell_type": "code",
   "execution_count": 83,
   "metadata": {
    "collapsed": false
   },
   "outputs": [
    {
     "data": {
      "text/plain": [
       "      5      4      3      2\n",
       "     q      q      q      q      q\n",
       "   %B   + %B   + %B   + %B   + %B  + %B\n",
       "       5       4       3       2\n",
       "      q       q       q       q       q\n",
       "   5%B   + 5%B   + 5%B   + 5%B   + 5%B  + 5%B\n",
       "      5      4      3      2\n",
       "     q      q      q      q      q\n",
       "   %B   + %B   + %B   + %B   + %B  + %B\n",
       "       5       4       3       2\n",
       "      q       q       q       q       q\n",
       "   6%B   + 6%B   + 6%B   + 6%B   + 6%B  + 6%B\n",
       "       5       4       3       2\n",
       "      q       q       q       q       q\n",
       "   4%B   + 4%B   + 4%B   + 4%B   + 4%B  + 4%B\n",
       "       5       4       3       2\n",
       "      q       q       q       q       q\n",
       "   4%B   + 4%B   + 4%B   + 4%B   + 4%B  + 4%B\n",
       "       5       4       3       2\n",
       "      q       q       q       q       q\n",
       "   2%B   + 2%B   + 2%B   + 2%B   + 2%B  + 2%B\n",
       "       5       4       3       2\n",
       "      q       q       q       q       q\n",
       "   2%B   + 2%B   + 2%B   + 2%B   + 2%B  + 2%B\n",
       "                                                                   Type: Void\n"
      ]
     },
     "execution_count": 83,
     "metadata": {},
     "output_type": "execute_result"
    }
   ],
   "source": [
    "for d in divisors extensionDegree()$F repeat\n",
    "        print(norm(a,d::PI)::OUTFORM)\n",
    "        print(trace(a,d::PI)::OUTFORM)"
   ]
  },
  {
   "cell_type": "code",
   "execution_count": 84,
   "metadata": {
    "collapsed": false
   },
   "outputs": [
    {
     "data": {
      "text/plain": [
       "   5\n",
       "                                                        Type: PositiveInteger\n"
      ]
     },
     "execution_count": 84,
     "metadata": {},
     "output_type": "execute_result"
    }
   ],
   "source": [
    "p:=5"
   ]
  },
  {
   "cell_type": "markdown",
   "metadata": {},
   "source": [
    " get a small extension degree\n"
   ]
  },
  {
   "cell_type": "code",
   "execution_count": 85,
   "metadata": {
    "collapsed": false
   },
   "outputs": [
    {
     "data": {
      "text/plain": [
       "   PrimeField(5)\n",
       "                                                                   Type: Type\n"
      ]
     },
     "execution_count": 85,
     "metadata": {},
     "output_type": "execute_result"
    }
   ],
   "source": [
    "P:=PrimeField p"
   ]
  },
  {
   "cell_type": "markdown",
   "metadata": {},
   "source": [
    " get a primitive polynomial\n"
   ]
  },
  {
   "cell_type": "code",
   "execution_count": 86,
   "metadata": {
    "collapsed": false
   },
   "outputs": [
    {
     "data": {
      "text/plain": [
       "   4\n",
       "                                                        Type: PositiveInteger\n"
      ]
     },
     "execution_count": 86,
     "metadata": {},
     "output_type": "execute_result"
    }
   ],
   "source": [
    "d:=4"
   ]
  },
  {
   "cell_type": "markdown",
   "metadata": {},
   "source": [
    " construct field\n"
   ]
  },
  {
   "cell_type": "code",
   "execution_count": 87,
   "metadata": {
    "collapsed": false
   },
   "outputs": [
    {
     "data": {
      "text/plain": [
       "    4    2\n",
       "   ?  + ?  + 2? + 2\n",
       "                              Type: SparseUnivariatePolynomial(PrimeField(5))\n"
      ]
     },
     "execution_count": 87,
     "metadata": {},
     "output_type": "execute_result"
    }
   ],
   "source": [
    "f:=createPrimitivePoly(d)$FFPOLY(P)"
   ]
  },
  {
   "cell_type": "markdown",
   "metadata": {},
   "source": [
    " this field is the same as constructed by F:=FFCGX(P,d) or F:=FFCG(p,d\n",
    " demonstration of common finite field functions\n",
    " the finite field domain is in variable F\n",
    " take some random elements\n"
   ]
  },
  {
   "cell_type": "code",
   "execution_count": 88,
   "metadata": {
    "collapsed": false
   },
   "outputs": [
    {
     "data": {
      "text/plain": [
       "   FiniteFieldCyclicGroupExtensionByPolynomial(PrimeField(5),?^4+?^2+2*?+2)\n",
       "                                                                   Type: Type\n"
      ]
     },
     "execution_count": 88,
     "metadata": {},
     "output_type": "execute_result"
    }
   ],
   "source": [
    "F:=FFCGP(P,f)"
   ]
  },
  {
   "cell_type": "code",
   "execution_count": 89,
   "metadata": {
    "collapsed": false
   },
   "outputs": [
    {
     "data": {
      "text/plain": [
       "   625\n",
       "                                                     Type: NonNegativeInteger\n"
      ]
     },
     "execution_count": 89,
     "metadata": {},
     "output_type": "execute_result"
    }
   ],
   "source": [
    "size()$F"
   ]
  },
  {
   "cell_type": "code",
   "execution_count": 90,
   "metadata": {
    "collapsed": false
   },
   "outputs": [
    {
     "data": {
      "text/plain": [
       "     207\n",
       "   %C\n",
       "Type: FiniteFieldCyclicGroupExtensionByPolynomial(PrimeField(5),?^4+?^2+2*?+2)\n"
      ]
     },
     "execution_count": 90,
     "metadata": {},
     "output_type": "execute_result"
    }
   ],
   "source": [
    "a:=index(size()$F quo 3)$F"
   ]
  },
  {
   "cell_type": "markdown",
   "metadata": {},
   "source": [
    " simple arithmetic\n"
   ]
  },
  {
   "cell_type": "code",
   "execution_count": 91,
   "metadata": {
    "collapsed": false
   },
   "outputs": [
    {
     "data": {
      "text/plain": [
       "     88\n",
       "   %C\n",
       "Type: FiniteFieldCyclicGroupExtensionByPolynomial(PrimeField(5),?^4+?^2+2*?+2)\n"
      ]
     },
     "execution_count": 91,
     "metadata": {},
     "output_type": "execute_result"
    }
   ],
   "source": [
    "b:=index(size()$F quo 7)$F"
   ]
  },
  {
   "cell_type": "code",
   "execution_count": 92,
   "metadata": {
    "collapsed": false
   },
   "outputs": [
    {
     "data": {
      "text/plain": [
       "     70\n",
       "   %C\n",
       "Type: FiniteFieldCyclicGroupExtensionByPolynomial(PrimeField(5),?^4+?^2+2*?+2)\n"
      ]
     },
     "execution_count": 92,
     "metadata": {},
     "output_type": "execute_result"
    }
   ],
   "source": [
    "a+b"
   ]
  },
  {
   "cell_type": "code",
   "execution_count": 93,
   "metadata": {
    "collapsed": false
   },
   "outputs": [
    {
     "data": {
      "text/plain": [
       "     237\n",
       "   %C\n",
       "Type: FiniteFieldCyclicGroupExtensionByPolynomial(PrimeField(5),?^4+?^2+2*?+2)\n"
      ]
     },
     "execution_count": 93,
     "metadata": {},
     "output_type": "execute_result"
    }
   ],
   "source": [
    "a-b"
   ]
  },
  {
   "cell_type": "code",
   "execution_count": 94,
   "metadata": {
    "collapsed": false
   },
   "outputs": [
    {
     "data": {
      "text/plain": [
       "     295\n",
       "   %C\n",
       "Type: FiniteFieldCyclicGroupExtensionByPolynomial(PrimeField(5),?^4+?^2+2*?+2)\n"
      ]
     },
     "execution_count": 94,
     "metadata": {},
     "output_type": "execute_result"
    }
   ],
   "source": [
    "a*b"
   ]
  },
  {
   "cell_type": "code",
   "execution_count": 95,
   "metadata": {
    "collapsed": false
   },
   "outputs": [
    {
     "data": {
      "text/plain": [
       "     119\n",
       "   %C\n",
       "Type: FiniteFieldCyclicGroupExtensionByPolynomial(PrimeField(5),?^4+?^2+2*?+2)\n"
      ]
     },
     "execution_count": 95,
     "metadata": {},
     "output_type": "execute_result"
    }
   ],
   "source": [
    "a/b"
   ]
  },
  {
   "cell_type": "code",
   "execution_count": 96,
   "metadata": {
    "collapsed": false
   },
   "outputs": [
    {
     "data": {
      "text/plain": [
       "     222\n",
       "   %C\n",
       "Type: FiniteFieldCyclicGroupExtensionByPolynomial(PrimeField(5),?^4+?^2+2*?+2)\n"
      ]
     },
     "execution_count": 96,
     "metadata": {},
     "output_type": "execute_result"
    }
   ],
   "source": [
    "a^1234"
   ]
  },
  {
   "cell_type": "code",
   "execution_count": 97,
   "metadata": {
    "collapsed": false
   },
   "outputs": [
    {
     "data": {
      "text/plain": [
       "     417\n",
       "   %C\n",
       "Type: FiniteFieldCyclicGroupExtensionByPolynomial(PrimeField(5),?^4+?^2+2*?+2)\n"
      ]
     },
     "execution_count": 97,
     "metadata": {},
     "output_type": "execute_result"
    }
   ],
   "source": [
    "a^(-1)"
   ]
  },
  {
   "cell_type": "code",
   "execution_count": 98,
   "metadata": {
    "collapsed": false
   },
   "outputs": [
    {
     "data": {
      "text/plain": [
       "     1\n",
       "   %C\n",
       "Type: FiniteFieldCyclicGroupExtensionByPolynomial(PrimeField(5),?^4+?^2+2*?+2)\n"
      ]
     },
     "execution_count": 98,
     "metadata": {},
     "output_type": "execute_result"
    }
   ],
   "source": [
    "g := generator()$F"
   ]
  },
  {
   "cell_type": "markdown",
   "metadata": {},
   "source": [
    " functions concerning the multiplicative cyclic group\n"
   ]
  },
  {
   "cell_type": "code",
   "execution_count": 99,
   "metadata": {
    "collapsed": false
   },
   "outputs": [
    {
     "data": {
      "text/plain": [
       "   0\n",
       "Type: FiniteFieldCyclicGroupExtensionByPolynomial(PrimeField(5),?^4+?^2+2*?+2)\n"
      ]
     },
     "execution_count": 99,
     "metadata": {},
     "output_type": "execute_result"
    }
   ],
   "source": [
    "(definingPolynomial()$F::SUP(F)).g"
   ]
  },
  {
   "cell_type": "code",
   "execution_count": 100,
   "metadata": {
    "collapsed": false
   },
   "outputs": [
    {
     "data": {
      "text/plain": [
       "   208\n",
       "                                                        Type: PositiveInteger\n"
      ]
     },
     "execution_count": 100,
     "metadata": {},
     "output_type": "execute_result"
    }
   ],
   "source": [
    "order(a)"
   ]
  },
  {
   "cell_type": "code",
   "execution_count": 101,
   "metadata": {
    "collapsed": false
   },
   "outputs": [
    {
     "data": {
      "text/plain": [
       "     1\n",
       "   %C\n",
       "Type: FiniteFieldCyclicGroupExtensionByPolynomial(PrimeField(5),?^4+?^2+2*?+2)\n"
      ]
     },
     "execution_count": 101,
     "metadata": {},
     "output_type": "execute_result"
    }
   ],
   "source": [
    "g:=primitiveElement()$F"
   ]
  },
  {
   "cell_type": "markdown",
   "metadata": {},
   "source": [
    " the next one should equal 0\n"
   ]
  },
  {
   "cell_type": "code",
   "execution_count": 102,
   "metadata": {
    "collapsed": false
   },
   "outputs": [
    {
     "data": {
      "text/plain": [
       "   207\n",
       "                                                        Type: PositiveInteger\n"
      ]
     },
     "execution_count": 102,
     "metadata": {},
     "output_type": "execute_result"
    }
   ],
   "source": [
    "discreteLog(a)"
   ]
  },
  {
   "cell_type": "markdown",
   "metadata": {},
   "source": [
    " the next may fail\n"
   ]
  },
  {
   "cell_type": "code",
   "execution_count": 103,
   "metadata": {
    "collapsed": false
   },
   "outputs": [
    {
     "data": {
      "text/plain": [
       "   0\n",
       "Type: FiniteFieldCyclicGroupExtensionByPolynomial(PrimeField(5),?^4+?^2+2*?+2)\n"
      ]
     },
     "execution_count": 103,
     "metadata": {},
     "output_type": "execute_result"
    }
   ],
   "source": [
    "g^% - a"
   ]
  },
  {
   "cell_type": "markdown",
   "metadata": {},
   "source": [
    " special finite field functions\n"
   ]
  },
  {
   "cell_type": "code",
   "execution_count": 104,
   "metadata": {
    "collapsed": false
   },
   "outputs": [
    {
     "data": {
      "text/plain": [
       "   \"failed\"\n",
       "                                                    Type: Union(\"failed\",...)\n"
      ]
     },
     "execution_count": 104,
     "metadata": {},
     "output_type": "execute_result"
    }
   ],
   "source": [
    "discreteLog(b,a)"
   ]
  },
  {
   "cell_type": "code",
   "execution_count": 105,
   "metadata": {
    "collapsed": false
   },
   "outputs": [
    {
     "data": {
      "text/plain": [
       "   4\n",
       "                                                        Type: PositiveInteger\n"
      ]
     },
     "execution_count": 105,
     "metadata": {},
     "output_type": "execute_result"
    }
   ],
   "source": [
    "extensionDegree()$F"
   ]
  },
  {
   "cell_type": "code",
   "execution_count": 106,
   "metadata": {
    "collapsed": false
   },
   "outputs": [
    {
     "data": {
      "text/plain": [
       "   4\n",
       "                                                        Type: PositiveInteger\n"
      ]
     },
     "execution_count": 106,
     "metadata": {},
     "output_type": "execute_result"
    }
   ],
   "source": [
    "degree(a)"
   ]
  },
  {
   "cell_type": "code",
   "execution_count": 107,
   "metadata": {
    "collapsed": false
   },
   "outputs": [
    {
     "data": {
      "text/plain": [
       "     3\n",
       "   %C\n",
       "Type: FiniteFieldCyclicGroupExtensionByPolynomial(PrimeField(5),?^4+?^2+2*?+2)\n"
      ]
     },
     "execution_count": 107,
     "metadata": {},
     "output_type": "execute_result"
    }
   ],
   "source": [
    "normalElement()$F"
   ]
  },
  {
   "cell_type": "code",
   "execution_count": 108,
   "metadata": {
    "collapsed": false
   },
   "outputs": [
    {
     "data": {
      "text/plain": [
       "    4    2\n",
       "   ?  + ?  + 2? + 2\n",
       "                              Type: SparseUnivariatePolynomial(PrimeField(5))\n"
      ]
     },
     "execution_count": 108,
     "metadata": {},
     "output_type": "execute_result"
    }
   ],
   "source": [
    "definingPolynomial()$F"
   ]
  },
  {
   "cell_type": "code",
   "execution_count": 109,
   "metadata": {
    "collapsed": false
   },
   "outputs": [
    {
     "data": {
      "text/plain": [
       "    4    3    2\n",
       "   ?  + ?  + ?  + 3? + 3\n",
       "                              Type: SparseUnivariatePolynomial(PrimeField(5))\n"
      ]
     },
     "execution_count": 109,
     "metadata": {},
     "output_type": "execute_result"
    }
   ],
   "source": [
    "minimalPolynomial(a)"
   ]
  },
  {
   "cell_type": "code",
   "execution_count": 110,
   "metadata": {
    "collapsed": false
   },
   "outputs": [
    {
     "data": {
      "text/plain": [
       "     411\n",
       "   %C\n",
       "Type: FiniteFieldCyclicGroupExtensionByPolynomial(PrimeField(5),?^4+?^2+2*?+2)\n"
      ]
     },
     "execution_count": 110,
     "metadata": {},
     "output_type": "execute_result"
    }
   ],
   "source": [
    "Frobenius(a)"
   ]
  },
  {
   "cell_type": "code",
   "execution_count": 111,
   "metadata": {
    "collapsed": false
   },
   "outputs": [
    {
     "data": {
      "text/plain": [
       "    4\n",
       "   ?  + 4\n",
       "                              Type: SparseUnivariatePolynomial(PrimeField(5))\n"
      ]
     },
     "execution_count": 111,
     "metadata": {},
     "output_type": "execute_result"
    }
   ],
   "source": [
    "linearAssociatedOrder(a)"
   ]
  },
  {
   "cell_type": "code",
   "execution_count": 112,
   "metadata": {
    "collapsed": false
   },
   "outputs": [
    {
     "data": {
      "text/plain": [
       "     3\n",
       "   3?  + 4? + 4\n",
       "                              Type: SparseUnivariatePolynomial(PrimeField(5))\n"
      ]
     },
     "execution_count": 112,
     "metadata": {},
     "output_type": "execute_result"
    }
   ],
   "source": [
    "linearAssociatedLog(a)"
   ]
  },
  {
   "cell_type": "markdown",
   "metadata": {},
   "source": [
    " end of common finite field demonstration\n",
    " polynomial extension of a polynomial extension\n",
    " get a small prime, choose 2 or 3\n"
   ]
  },
  {
   "cell_type": "code",
   "execution_count": 113,
   "metadata": {
    "collapsed": false
   },
   "outputs": [
    {
     "data": {
      "text/plain": [
       "     468\n",
       "   %C\n",
       "     312\n",
       "   %C\n",
       "     390\n",
       "   %C\n",
       "     416\n",
       "   %C\n",
       "     207\n",
       "   %C\n",
       "     207\n",
       "   %C\n",
       "                                                                   Type: Void\n"
      ]
     },
     "execution_count": 113,
     "metadata": {},
     "output_type": "execute_result"
    }
   ],
   "source": [
    "for d in divisors extensionDegree()$F repeat\n",
    "        print(norm(a,d::PI)::OUTFORM)\n",
    "        print(trace(a,d::PI)::OUTFORM)"
   ]
  },
  {
   "cell_type": "code",
   "execution_count": 114,
   "metadata": {
    "collapsed": false
   },
   "outputs": [
    {
     "data": {
      "text/plain": [
       "   3\n",
       "                                                        Type: PositiveInteger\n"
      ]
     },
     "execution_count": 114,
     "metadata": {},
     "output_type": "execute_result"
    }
   ],
   "source": [
    "p:=3"
   ]
  },
  {
   "cell_type": "markdown",
   "metadata": {},
   "source": [
    " get two small extension degrees\n"
   ]
  },
  {
   "cell_type": "code",
   "execution_count": 115,
   "metadata": {
    "collapsed": false
   },
   "outputs": [
    {
     "data": {
      "text/plain": [
       "   PrimeField(3)\n",
       "                                                                   Type: Type\n"
      ]
     },
     "execution_count": 115,
     "metadata": {},
     "output_type": "execute_result"
    }
   ],
   "source": [
    "P:=PrimeField p"
   ]
  },
  {
   "cell_type": "code",
   "execution_count": 116,
   "metadata": {
    "collapsed": false
   },
   "outputs": [
    {
     "data": {
      "text/plain": [
       "   2\n",
       "                                                        Type: PositiveInteger\n"
      ]
     },
     "execution_count": 116,
     "metadata": {},
     "output_type": "execute_result"
    }
   ],
   "source": [
    "d1:=2"
   ]
  },
  {
   "cell_type": "markdown",
   "metadata": {},
   "source": [
    " get irreducible polynomial of degree d1 over P\n"
   ]
  },
  {
   "cell_type": "code",
   "execution_count": 117,
   "metadata": {
    "collapsed": false
   },
   "outputs": [
    {
     "data": {
      "text/plain": [
       "   3\n",
       "                                                        Type: PositiveInteger\n"
      ]
     },
     "execution_count": 117,
     "metadata": {},
     "output_type": "execute_result"
    }
   ],
   "source": [
    "d2:=3"
   ]
  },
  {
   "cell_type": "code",
   "execution_count": 118,
   "metadata": {
    "collapsed": false
   },
   "outputs": [
    {
     "data": {
      "text/plain": [
       "    2\n",
       "   ?  + 1\n",
       "                              Type: SparseUnivariatePolynomial(PrimeField(3))\n"
      ]
     },
     "execution_count": 118,
     "metadata": {},
     "output_type": "execute_result"
    }
   ],
   "source": [
    "f1:=createIrreduciblePoly(d1)$FFPOLY(P)"
   ]
  },
  {
   "cell_type": "markdown",
   "metadata": {},
   "source": [
    " get irreducible polynomial of degree d2 over F1\n"
   ]
  },
  {
   "cell_type": "code",
   "execution_count": 119,
   "metadata": {
    "collapsed": false
   },
   "outputs": [
    {
     "data": {
      "text/plain": [
       "   FiniteFieldExtensionByPolynomial(PrimeField(3),?^2+1)\n",
       "                                                                   Type: Type\n"
      ]
     },
     "execution_count": 119,
     "metadata": {},
     "output_type": "execute_result"
    }
   ],
   "source": [
    "F1:=FFP(P,f1)"
   ]
  },
  {
   "cell_type": "markdown",
   "metadata": {},
   "source": [
    " construct field\n"
   ]
  },
  {
   "cell_type": "code",
   "execution_count": 120,
   "metadata": {
    "collapsed": false
   },
   "outputs": [
    {
     "data": {
      "text/plain": [
       "    3\n",
       "   ?  + ? + %D\n",
       "Type: SparseUnivariatePolynomial(FiniteFieldExtensionByPolynomial(PrimeField(3),?^2+1))\n"
      ]
     },
     "execution_count": 120,
     "metadata": {},
     "output_type": "execute_result"
    }
   ],
   "source": [
    "f2:=createIrreduciblePoly(d2)$FFPOLY(F1)"
   ]
  },
  {
   "cell_type": "markdown",
   "metadata": {},
   "source": [
    " this field is the same as constructed by F:=FFX(F1,d2)\n",
    " demonstration of common finite field functions\n",
    " the finite field domain is in variable F\n",
    " take some random elements\n"
   ]
  },
  {
   "cell_type": "code",
   "execution_count": 121,
   "metadata": {
    "collapsed": false
   },
   "outputs": [
    {
     "data": {
      "text/plain": [
       "  FiniteFieldExtensionByPolynomial(FiniteFieldExtensionByPolynomial(PrimeField(\n",
       "  3),?^2+1),?^3+?+%D)\n",
       "                                                                   Type: Type\n"
      ]
     },
     "execution_count": 121,
     "metadata": {},
     "output_type": "execute_result"
    }
   ],
   "source": [
    "F:=FFP(F1,f2)"
   ]
  },
  {
   "cell_type": "code",
   "execution_count": 122,
   "metadata": {
    "collapsed": false
   },
   "outputs": [
    {
     "data": {
      "text/plain": [
       "   729\n",
       "                                                     Type: NonNegativeInteger\n"
      ]
     },
     "execution_count": 122,
     "metadata": {},
     "output_type": "execute_result"
    }
   ],
   "source": [
    "size()$F"
   ]
  },
  {
   "cell_type": "code",
   "execution_count": 123,
   "metadata": {
    "collapsed": false
   },
   "outputs": [
    {
     "data": {
      "text/plain": [
       "        2\n",
       "   %D %E\n",
       "Type: FiniteFieldExtensionByPolynomial(FiniteFieldExtensionByPolynomial(PrimeField(3),?^2+1),?^3+?+%D)\n"
      ]
     },
     "execution_count": 123,
     "metadata": {},
     "output_type": "execute_result"
    }
   ],
   "source": [
    "a:=index(size()$F quo 3)$F"
   ]
  },
  {
   "cell_type": "markdown",
   "metadata": {},
   "source": [
    " simple arithmetic\n"
   ]
  },
  {
   "cell_type": "code",
   "execution_count": 124,
   "metadata": {
    "collapsed": false
   },
   "outputs": [
    {
     "data": {
      "text/plain": [
       "     2\n",
       "   %E  + 2%E + %D + 2\n",
       "Type: FiniteFieldExtensionByPolynomial(FiniteFieldExtensionByPolynomial(PrimeField(3),?^2+1),?^3+?+%D)\n"
      ]
     },
     "execution_count": 124,
     "metadata": {},
     "output_type": "execute_result"
    }
   ],
   "source": [
    "b:=index(size()$F quo 7)$F"
   ]
  },
  {
   "cell_type": "code",
   "execution_count": 125,
   "metadata": {
    "collapsed": false
   },
   "outputs": [
    {
     "data": {
      "text/plain": [
       "             2\n",
       "   (%D + 1)%E  + 2%E + %D + 2\n",
       "Type: FiniteFieldExtensionByPolynomial(FiniteFieldExtensionByPolynomial(PrimeField(3),?^2+1),?^3+?+%D)\n"
      ]
     },
     "execution_count": 125,
     "metadata": {},
     "output_type": "execute_result"
    }
   ],
   "source": [
    "a+b"
   ]
  },
  {
   "cell_type": "code",
   "execution_count": 126,
   "metadata": {
    "collapsed": false
   },
   "outputs": [
    {
     "data": {
      "text/plain": [
       "             2\n",
       "   (%D + 2)%E  + %E + 2%D + 1\n",
       "Type: FiniteFieldExtensionByPolynomial(FiniteFieldExtensionByPolynomial(PrimeField(3),?^2+1),?^3+?+%D)\n"
      ]
     },
     "execution_count": 126,
     "metadata": {},
     "output_type": "execute_result"
    }
   ],
   "source": [
    "a-b"
   ]
  },
  {
   "cell_type": "code",
   "execution_count": 127,
   "metadata": {
    "collapsed": false
   },
   "outputs": [
    {
     "data": {
      "text/plain": [
       "             2\n",
       "   (%D + 2)%E  + (%D + 1)%E + 2\n",
       "Type: FiniteFieldExtensionByPolynomial(FiniteFieldExtensionByPolynomial(PrimeField(3),?^2+1),?^3+?+%D)\n"
      ]
     },
     "execution_count": 127,
     "metadata": {},
     "output_type": "execute_result"
    }
   ],
   "source": [
    "a*b"
   ]
  },
  {
   "cell_type": "code",
   "execution_count": 128,
   "metadata": {
    "collapsed": false
   },
   "outputs": [
    {
     "data": {
      "text/plain": [
       "         2\n",
       "   2%D %E  + 2%D + 2\n",
       "Type: FiniteFieldExtensionByPolynomial(FiniteFieldExtensionByPolynomial(PrimeField(3),?^2+1),?^3+?+%D)\n"
      ]
     },
     "execution_count": 128,
     "metadata": {},
     "output_type": "execute_result"
    }
   ],
   "source": [
    "a/b"
   ]
  },
  {
   "cell_type": "code",
   "execution_count": 129,
   "metadata": {
    "collapsed": false
   },
   "outputs": [
    {
     "data": {
      "text/plain": [
       "      2\n",
       "   2%E  + %D %E + 2\n",
       "Type: FiniteFieldExtensionByPolynomial(FiniteFieldExtensionByPolynomial(PrimeField(3),?^2+1),?^3+?+%D)\n"
      ]
     },
     "execution_count": 129,
     "metadata": {},
     "output_type": "execute_result"
    }
   ],
   "source": [
    "a^1234"
   ]
  },
  {
   "cell_type": "code",
   "execution_count": 130,
   "metadata": {
    "collapsed": false
   },
   "outputs": [
    {
     "data": {
      "text/plain": [
       "        2\n",
       "   %D %E  + %E + %D\n",
       "Type: FiniteFieldExtensionByPolynomial(FiniteFieldExtensionByPolynomial(PrimeField(3),?^2+1),?^3+?+%D)\n"
      ]
     },
     "execution_count": 130,
     "metadata": {},
     "output_type": "execute_result"
    }
   ],
   "source": [
    "a^(-1)"
   ]
  },
  {
   "cell_type": "code",
   "execution_count": 131,
   "metadata": {
    "collapsed": false
   },
   "outputs": [
    {
     "data": {
      "text/plain": [
       "   %E\n",
       "Type: FiniteFieldExtensionByPolynomial(FiniteFieldExtensionByPolynomial(PrimeField(3),?^2+1),?^3+?+%D)\n"
      ]
     },
     "execution_count": 131,
     "metadata": {},
     "output_type": "execute_result"
    }
   ],
   "source": [
    "g := generator()$F"
   ]
  },
  {
   "cell_type": "markdown",
   "metadata": {},
   "source": [
    " functions concerning the multiplicative cyclic group\n"
   ]
  },
  {
   "cell_type": "code",
   "execution_count": 132,
   "metadata": {
    "collapsed": false
   },
   "outputs": [
    {
     "data": {
      "text/plain": [
       "   0\n",
       "Type: FiniteFieldExtensionByPolynomial(FiniteFieldExtensionByPolynomial(PrimeField(3),?^2+1),?^3+?+%D)\n"
      ]
     },
     "execution_count": 132,
     "metadata": {},
     "output_type": "execute_result"
    }
   ],
   "source": [
    "(definingPolynomial()$F::SUP(F)).g"
   ]
  },
  {
   "cell_type": "code",
   "execution_count": 133,
   "metadata": {
    "collapsed": false
   },
   "outputs": [
    {
     "data": {
      "text/plain": [
       "   52\n",
       "                                                        Type: PositiveInteger\n"
      ]
     },
     "execution_count": 133,
     "metadata": {},
     "output_type": "execute_result"
    }
   ],
   "source": [
    "order(a)"
   ]
  },
  {
   "cell_type": "code",
   "execution_count": 134,
   "metadata": {
    "collapsed": false
   },
   "outputs": [
    {
     "data": {
      "text/plain": [
       "   %E + 1\n",
       "Type: FiniteFieldExtensionByPolynomial(FiniteFieldExtensionByPolynomial(PrimeField(3),?^2+1),?^3+?+%D)\n"
      ]
     },
     "execution_count": 134,
     "metadata": {},
     "output_type": "execute_result"
    }
   ],
   "source": [
    "g:=primitiveElement()$F"
   ]
  },
  {
   "cell_type": "markdown",
   "metadata": {},
   "source": [
    " the next one should equal 0\n"
   ]
  },
  {
   "cell_type": "code",
   "execution_count": 135,
   "metadata": {
    "collapsed": false
   },
   "outputs": [
    {
     "data": {
      "text/plain": [
       "   462\n",
       "                                                        Type: PositiveInteger\n"
      ]
     },
     "execution_count": 135,
     "metadata": {},
     "output_type": "execute_result"
    }
   ],
   "source": [
    "discreteLog(a)"
   ]
  },
  {
   "cell_type": "markdown",
   "metadata": {},
   "source": [
    " the next may fail\n"
   ]
  },
  {
   "cell_type": "code",
   "execution_count": 136,
   "metadata": {
    "collapsed": false
   },
   "outputs": [
    {
     "data": {
      "text/plain": [
       "   0\n",
       "Type: FiniteFieldExtensionByPolynomial(FiniteFieldExtensionByPolynomial(PrimeField(3),?^2+1),?^3+?+%D)\n"
      ]
     },
     "execution_count": 136,
     "metadata": {},
     "output_type": "execute_result"
    }
   ],
   "source": [
    "g^% - a"
   ]
  },
  {
   "cell_type": "markdown",
   "metadata": {},
   "source": [
    " special finite field functions\n"
   ]
  },
  {
   "cell_type": "code",
   "execution_count": 137,
   "metadata": {
    "collapsed": false
   },
   "outputs": [
    {
     "data": {
      "text/plain": [
       "   154\n",
       "                                          Type: Union(NonNegativeInteger,...)\n"
      ]
     },
     "execution_count": 137,
     "metadata": {},
     "output_type": "execute_result"
    }
   ],
   "source": [
    "discreteLog(b,a)"
   ]
  },
  {
   "cell_type": "code",
   "execution_count": 138,
   "metadata": {
    "collapsed": false
   },
   "outputs": [
    {
     "data": {
      "text/plain": [
       "   3\n",
       "                                                        Type: PositiveInteger\n"
      ]
     },
     "execution_count": 138,
     "metadata": {},
     "output_type": "execute_result"
    }
   ],
   "source": [
    "extensionDegree()$F"
   ]
  },
  {
   "cell_type": "code",
   "execution_count": 139,
   "metadata": {
    "collapsed": false
   },
   "outputs": [
    {
     "data": {
      "text/plain": [
       "   3\n",
       "                                                        Type: PositiveInteger\n"
      ]
     },
     "execution_count": 139,
     "metadata": {},
     "output_type": "execute_result"
    }
   ],
   "source": [
    "degree(a)"
   ]
  },
  {
   "cell_type": "code",
   "execution_count": 140,
   "metadata": {
    "collapsed": false
   },
   "outputs": [
    {
     "data": {
      "text/plain": [
       "     2\n",
       "   %E  + %E\n",
       "Type: FiniteFieldExtensionByPolynomial(FiniteFieldExtensionByPolynomial(PrimeField(3),?^2+1),?^3+?+%D)\n"
      ]
     },
     "execution_count": 140,
     "metadata": {},
     "output_type": "execute_result"
    }
   ],
   "source": [
    "normalElement()$F"
   ]
  },
  {
   "cell_type": "code",
   "execution_count": 141,
   "metadata": {
    "collapsed": false
   },
   "outputs": [
    {
     "data": {
      "text/plain": [
       "    3\n",
       "   ?  + ? + %D\n",
       "Type: SparseUnivariatePolynomial(FiniteFieldExtensionByPolynomial(PrimeField(3),?^2+1))\n"
      ]
     },
     "execution_count": 141,
     "metadata": {},
     "output_type": "execute_result"
    }
   ],
   "source": [
    "definingPolynomial()$F"
   ]
  },
  {
   "cell_type": "code",
   "execution_count": 142,
   "metadata": {
    "collapsed": false
   },
   "outputs": [
    {
     "data": {
      "text/plain": [
       "    3        2\n",
       "   ?  + 2%D ?  + 2? + 2%D\n",
       "Type: SparseUnivariatePolynomial(FiniteFieldExtensionByPolynomial(PrimeField(3),?^2+1))\n"
      ]
     },
     "execution_count": 142,
     "metadata": {},
     "output_type": "execute_result"
    }
   ],
   "source": [
    "minimalPolynomial(a)"
   ]
  },
  {
   "cell_type": "code",
   "execution_count": 143,
   "metadata": {
    "collapsed": false
   },
   "outputs": [
    {
     "data": {
      "text/plain": [
       "        2\n",
       "   %D %E  + 2%E + 2%D\n",
       "Type: FiniteFieldExtensionByPolynomial(FiniteFieldExtensionByPolynomial(PrimeField(3),?^2+1),?^3+?+%D)\n"
      ]
     },
     "execution_count": 143,
     "metadata": {},
     "output_type": "execute_result"
    }
   ],
   "source": [
    "Frobenius(a)"
   ]
  },
  {
   "cell_type": "code",
   "execution_count": 144,
   "metadata": {
    "collapsed": false
   },
   "outputs": [
    {
     "data": {
      "text/plain": [
       "    3\n",
       "   ?  + 2\n",
       "Type: SparseUnivariatePolynomial(FiniteFieldExtensionByPolynomial(PrimeField(3),?^2+1))\n"
      ]
     },
     "execution_count": 144,
     "metadata": {},
     "output_type": "execute_result"
    }
   ],
   "source": [
    "linearAssociatedOrder(a)"
   ]
  },
  {
   "cell_type": "code",
   "execution_count": 145,
   "metadata": {
    "collapsed": false
   },
   "outputs": [
    {
     "data": {
      "text/plain": [
       "             2\n",
       "   (2%D + 2)?  + (2%D + 1)?\n",
       "Type: SparseUnivariatePolynomial(FiniteFieldExtensionByPolynomial(PrimeField(3),?^2+1))\n"
      ]
     },
     "execution_count": 145,
     "metadata": {},
     "output_type": "execute_result"
    }
   ],
   "source": [
    "linearAssociatedLog(a)"
   ]
  },
  {
   "cell_type": "markdown",
   "metadata": {},
   "source": [
    " end of common finite field demonstration\n",
    " polynomial extension of a normal extension\n",
    " get normal polynomial of degree d1 over P\n"
   ]
  },
  {
   "cell_type": "code",
   "execution_count": 146,
   "metadata": {
    "collapsed": false
   },
   "outputs": [
    {
     "data": {
      "text/plain": [
       "   %D\n",
       "   %D\n",
       "        2\n",
       "   %D %E\n",
       "        2\n",
       "   %D %E\n",
       "                                                                   Type: Void\n"
      ]
     },
     "execution_count": 146,
     "metadata": {},
     "output_type": "execute_result"
    }
   ],
   "source": [
    "for d in divisors extensionDegree()$F repeat\n",
    "        print(norm(a,d::PI)::OUTFORM)\n",
    "        print(trace(a,d::PI)::OUTFORM)"
   ]
  },
  {
   "cell_type": "code",
   "execution_count": 147,
   "metadata": {
    "collapsed": false
   },
   "outputs": [
    {
     "data": {
      "text/plain": [
       "    2\n",
       "   ?  + 2? + 2\n",
       "                              Type: SparseUnivariatePolynomial(PrimeField(3))\n"
      ]
     },
     "execution_count": 147,
     "metadata": {},
     "output_type": "execute_result"
    }
   ],
   "source": [
    "f1:=createNormalPoly(d1)$FFPOLY(P)"
   ]
  },
  {
   "cell_type": "markdown",
   "metadata": {},
   "source": [
    " get irreducible polynomial of degree d2 over F1\n"
   ]
  },
  {
   "cell_type": "code",
   "execution_count": 148,
   "metadata": {
    "collapsed": false
   },
   "outputs": [
    {
     "data": {
      "text/plain": [
       "   FiniteFieldNormalBasisExtensionByPolynomial(PrimeField(3),?^2+2*?+2)\n",
       "                                                                   Type: Type\n"
      ]
     },
     "execution_count": 148,
     "metadata": {},
     "output_type": "execute_result"
    }
   ],
   "source": [
    "F1:=FFNBP(P,f1)"
   ]
  },
  {
   "cell_type": "markdown",
   "metadata": {},
   "source": [
    " construct field\n"
   ]
  },
  {
   "cell_type": "code",
   "execution_count": 149,
   "metadata": {
    "collapsed": false
   },
   "outputs": [
    {
     "data": {
      "text/plain": [
       "    3\n",
       "   ?  + ? + %F\n",
       "Type: SparseUnivariatePolynomial(FiniteFieldNormalBasisExtensionByPolynomial(PrimeField(3),?^2+2*?+2))\n"
      ]
     },
     "execution_count": 149,
     "metadata": {},
     "output_type": "execute_result"
    }
   ],
   "source": [
    "f2:=createIrreduciblePoly(d2)$FFPOLY(F1)"
   ]
  },
  {
   "cell_type": "markdown",
   "metadata": {},
   "source": [
    " this field is the same as constructed by F:=FFX(F1,d2)\n",
    " demonstration of common finite field functions\n",
    " the finite field domain is in variable F\n",
    " take some random elements\n"
   ]
  },
  {
   "cell_type": "code",
   "execution_count": 150,
   "metadata": {
    "collapsed": false
   },
   "outputs": [
    {
     "data": {
      "text/plain": [
       "  FiniteFieldExtensionByPolynomial(FiniteFieldNormalBasisExtensionByPolynomial(\n",
       "  PrimeField(3),?^2+2*?+2),?^3+?+%F)\n",
       "                                                                   Type: Type\n"
      ]
     },
     "execution_count": 150,
     "metadata": {},
     "output_type": "execute_result"
    }
   ],
   "source": [
    "F:=FFP(F1,f2)"
   ]
  },
  {
   "cell_type": "code",
   "execution_count": 151,
   "metadata": {
    "collapsed": false
   },
   "outputs": [
    {
     "data": {
      "text/plain": [
       "   729\n",
       "                                                     Type: NonNegativeInteger\n"
      ]
     },
     "execution_count": 151,
     "metadata": {},
     "output_type": "execute_result"
    }
   ],
   "source": [
    "size()$F"
   ]
  },
  {
   "cell_type": "code",
   "execution_count": 152,
   "metadata": {
    "collapsed": false
   },
   "outputs": [
    {
     "data": {
      "text/plain": [
       "     q  2\n",
       "   %F %G\n",
       "Type: FiniteFieldExtensionByPolynomial(FiniteFieldNormalBasisExtensionByPolynomial(PrimeField(3),?^2+2*?+2),?^3+?+%F)\n"
      ]
     },
     "execution_count": 152,
     "metadata": {},
     "output_type": "execute_result"
    }
   ],
   "source": [
    "a:=index(size()$F quo 3)$F"
   ]
  },
  {
   "cell_type": "markdown",
   "metadata": {},
   "source": [
    " simple arithmetic\n"
   ]
  },
  {
   "cell_type": "code",
   "execution_count": 153,
   "metadata": {
    "collapsed": false
   },
   "outputs": [
    {
     "data": {
      "text/plain": [
       "        2              q\n",
       "   %F %G  + 2%F %G + %F  + 2%F\n",
       "Type: FiniteFieldExtensionByPolynomial(FiniteFieldNormalBasisExtensionByPolynomial(PrimeField(3),?^2+2*?+2),?^3+?+%F)\n"
      ]
     },
     "execution_count": 153,
     "metadata": {},
     "output_type": "execute_result"
    }
   ],
   "source": [
    "b:=index(size()$F quo 7)$F"
   ]
  },
  {
   "cell_type": "code",
   "execution_count": 154,
   "metadata": {
    "collapsed": false
   },
   "outputs": [
    {
     "data": {
      "text/plain": [
       "     2              q\n",
       "   %G  + 2%F %G + %F  + 2%F\n",
       "Type: FiniteFieldExtensionByPolynomial(FiniteFieldNormalBasisExtensionByPolynomial(PrimeField(3),?^2+2*?+2),?^3+?+%F)\n"
      ]
     },
     "execution_count": 154,
     "metadata": {},
     "output_type": "execute_result"
    }
   ],
   "source": [
    "a+b"
   ]
  },
  {
   "cell_type": "code",
   "execution_count": 155,
   "metadata": {
    "collapsed": false
   },
   "outputs": [
    {
     "data": {
      "text/plain": [
       "      q         2              q\n",
       "   (%F  + 2%F)%G  + %F %G + 2%F  + %F\n",
       "Type: FiniteFieldExtensionByPolynomial(FiniteFieldNormalBasisExtensionByPolynomial(PrimeField(3),?^2+2*?+2),?^3+?+%F)\n"
      ]
     },
     "execution_count": 155,
     "metadata": {},
     "output_type": "execute_result"
    }
   ],
   "source": [
    "a-b"
   ]
  },
  {
   "cell_type": "code",
   "execution_count": 156,
   "metadata": {
    "collapsed": false
   },
   "outputs": [
    {
     "data": {
      "text/plain": [
       "     q  2      q\n",
       "   %F %G  + 2%F %G + 2%F\n",
       "Type: FiniteFieldExtensionByPolynomial(FiniteFieldNormalBasisExtensionByPolynomial(PrimeField(3),?^2+2*?+2),?^3+?+%F)\n"
      ]
     },
     "execution_count": 156,
     "metadata": {},
     "output_type": "execute_result"
    }
   ],
   "source": [
    "a*b"
   ]
  },
  {
   "cell_type": "code",
   "execution_count": 157,
   "metadata": {
    "collapsed": false
   },
   "outputs": [
    {
     "data": {
      "text/plain": [
       "     2\n",
       "   %G  + %G\n",
       "Type: FiniteFieldExtensionByPolynomial(FiniteFieldNormalBasisExtensionByPolynomial(PrimeField(3),?^2+2*?+2),?^3+?+%F)\n"
      ]
     },
     "execution_count": 157,
     "metadata": {},
     "output_type": "execute_result"
    }
   ],
   "source": [
    "a/b"
   ]
  },
  {
   "cell_type": "code",
   "execution_count": 158,
   "metadata": {
    "collapsed": false
   },
   "outputs": [
    {
     "data": {
      "text/plain": [
       "     q  2             q\n",
       "   %F %G  + %F %G + %F  + 2%F\n",
       "Type: FiniteFieldExtensionByPolynomial(FiniteFieldNormalBasisExtensionByPolynomial(PrimeField(3),?^2+2*?+2),?^3+?+%F)\n"
      ]
     },
     "execution_count": 158,
     "metadata": {},
     "output_type": "execute_result"
    }
   ],
   "source": [
    "a^1234"
   ]
  },
  {
   "cell_type": "code",
   "execution_count": 159,
   "metadata": {
    "collapsed": false
   },
   "outputs": [
    {
     "data": {
      "text/plain": [
       "     q  2          q\n",
       "   %F %G  + %G + %F\n",
       "Type: FiniteFieldExtensionByPolynomial(FiniteFieldNormalBasisExtensionByPolynomial(PrimeField(3),?^2+2*?+2),?^3+?+%F)\n"
      ]
     },
     "execution_count": 159,
     "metadata": {},
     "output_type": "execute_result"
    }
   ],
   "source": [
    "a^(-1)"
   ]
  },
  {
   "cell_type": "code",
   "execution_count": 160,
   "metadata": {
    "collapsed": false
   },
   "outputs": [
    {
     "data": {
      "text/plain": [
       "   %G\n",
       "Type: FiniteFieldExtensionByPolynomial(FiniteFieldNormalBasisExtensionByPolynomial(PrimeField(3),?^2+2*?+2),?^3+?+%F)\n"
      ]
     },
     "execution_count": 160,
     "metadata": {},
     "output_type": "execute_result"
    }
   ],
   "source": [
    "g := generator()$F"
   ]
  },
  {
   "cell_type": "markdown",
   "metadata": {},
   "source": [
    " functions concerning the multiplicative cyclic group\n"
   ]
  },
  {
   "cell_type": "code",
   "execution_count": 161,
   "metadata": {
    "collapsed": false
   },
   "outputs": [
    {
     "data": {
      "text/plain": [
       "   0\n",
       "Type: FiniteFieldExtensionByPolynomial(FiniteFieldNormalBasisExtensionByPolynomial(PrimeField(3),?^2+2*?+2),?^3+?+%F)\n"
      ]
     },
     "execution_count": 161,
     "metadata": {},
     "output_type": "execute_result"
    }
   ],
   "source": [
    "(definingPolynomial()$F::SUP(F)).g"
   ]
  },
  {
   "cell_type": "code",
   "execution_count": 162,
   "metadata": {
    "collapsed": false
   },
   "outputs": [
    {
     "data": {
      "text/plain": [
       "   728\n",
       "                                                        Type: PositiveInteger\n"
      ]
     },
     "execution_count": 162,
     "metadata": {},
     "output_type": "execute_result"
    }
   ],
   "source": [
    "order(a)"
   ]
  },
  {
   "cell_type": "code",
   "execution_count": 163,
   "metadata": {
    "collapsed": false
   },
   "outputs": [
    {
     "data": {
      "text/plain": [
       "   %G\n",
       "Type: FiniteFieldExtensionByPolynomial(FiniteFieldNormalBasisExtensionByPolynomial(PrimeField(3),?^2+2*?+2),?^3+?+%F)\n"
      ]
     },
     "execution_count": 163,
     "metadata": {},
     "output_type": "execute_result"
    }
   ],
   "source": [
    "g:=primitiveElement()$F"
   ]
  },
  {
   "cell_type": "markdown",
   "metadata": {},
   "source": [
    " the next one should equal 0\n"
   ]
  },
  {
   "cell_type": "code",
   "execution_count": 164,
   "metadata": {
    "collapsed": false
   },
   "outputs": [
    {
     "data": {
      "text/plain": [
       "   639\n",
       "                                                        Type: PositiveInteger\n"
      ]
     },
     "execution_count": 164,
     "metadata": {},
     "output_type": "execute_result"
    }
   ],
   "source": [
    "discreteLog(a)"
   ]
  },
  {
   "cell_type": "markdown",
   "metadata": {},
   "source": [
    " the next may fail\n"
   ]
  },
  {
   "cell_type": "code",
   "execution_count": 165,
   "metadata": {
    "collapsed": false
   },
   "outputs": [
    {
     "data": {
      "text/plain": [
       "   0\n",
       "Type: FiniteFieldExtensionByPolynomial(FiniteFieldNormalBasisExtensionByPolynomial(PrimeField(3),?^2+2*?+2),?^3+?+%F)\n"
      ]
     },
     "execution_count": 165,
     "metadata": {},
     "output_type": "execute_result"
    }
   ],
   "source": [
    "g^% - a"
   ]
  },
  {
   "cell_type": "markdown",
   "metadata": {},
   "source": [
    " special finite field functions\n"
   ]
  },
  {
   "cell_type": "code",
   "execution_count": 166,
   "metadata": {
    "collapsed": false
   },
   "outputs": [
    {
     "data": {
      "text/plain": [
       "   discreteLog: second argument not in cyclic group generated by first argument\n",
       "   \"failed\"\n",
       "                                                    Type: Union(\"failed\",...)\n"
      ]
     },
     "execution_count": 166,
     "metadata": {},
     "output_type": "execute_result"
    }
   ],
   "source": [
    "discreteLog(b,a)"
   ]
  },
  {
   "cell_type": "code",
   "execution_count": 167,
   "metadata": {
    "collapsed": false
   },
   "outputs": [
    {
     "data": {
      "text/plain": [
       "   3\n",
       "                                                        Type: PositiveInteger\n"
      ]
     },
     "execution_count": 167,
     "metadata": {},
     "output_type": "execute_result"
    }
   ],
   "source": [
    "extensionDegree()$F"
   ]
  },
  {
   "cell_type": "code",
   "execution_count": 168,
   "metadata": {
    "collapsed": false
   },
   "outputs": [
    {
     "data": {
      "text/plain": [
       "   3\n",
       "                                                        Type: PositiveInteger\n"
      ]
     },
     "execution_count": 168,
     "metadata": {},
     "output_type": "execute_result"
    }
   ],
   "source": [
    "degree(a)"
   ]
  },
  {
   "cell_type": "code",
   "execution_count": 169,
   "metadata": {
    "collapsed": false
   },
   "outputs": [
    {
     "data": {
      "text/plain": [
       "     2\n",
       "   %G\n",
       "Type: FiniteFieldExtensionByPolynomial(FiniteFieldNormalBasisExtensionByPolynomial(PrimeField(3),?^2+2*?+2),?^3+?+%F)\n"
      ]
     },
     "execution_count": 169,
     "metadata": {},
     "output_type": "execute_result"
    }
   ],
   "source": [
    "normalElement()$F"
   ]
  },
  {
   "cell_type": "code",
   "execution_count": 170,
   "metadata": {
    "collapsed": false
   },
   "outputs": [
    {
     "data": {
      "text/plain": [
       "    3\n",
       "   ?  + ? + %F\n",
       "Type: SparseUnivariatePolynomial(FiniteFieldNormalBasisExtensionByPolynomial(PrimeField(3),?^2+2*?+2))\n"
      ]
     },
     "execution_count": 170,
     "metadata": {},
     "output_type": "execute_result"
    }
   ],
   "source": [
    "definingPolynomial()$F"
   ]
  },
  {
   "cell_type": "code",
   "execution_count": 171,
   "metadata": {
    "collapsed": false
   },
   "outputs": [
    {
     "data": {
      "text/plain": [
       "    3      q 2       q             q\n",
       "   ?  + 2%F ?  + (2%F  + %F)? + 2%F\n",
       "Type: SparseUnivariatePolynomial(FiniteFieldNormalBasisExtensionByPolynomial(PrimeField(3),?^2+2*?+2))\n"
      ]
     },
     "execution_count": 171,
     "metadata": {},
     "output_type": "execute_result"
    }
   ],
   "source": [
    "minimalPolynomial(a)"
   ]
  },
  {
   "cell_type": "code",
   "execution_count": 172,
   "metadata": {
    "collapsed": false
   },
   "outputs": [
    {
     "data": {
      "text/plain": [
       "     q  2               q\n",
       "   %F %G  + 2%F %G + 2%F\n",
       "Type: FiniteFieldExtensionByPolynomial(FiniteFieldNormalBasisExtensionByPolynomial(PrimeField(3),?^2+2*?+2),?^3+?+%F)\n"
      ]
     },
     "execution_count": 172,
     "metadata": {},
     "output_type": "execute_result"
    }
   ],
   "source": [
    "Frobenius(a)"
   ]
  },
  {
   "cell_type": "code",
   "execution_count": 173,
   "metadata": {
    "collapsed": false
   },
   "outputs": [
    {
     "data": {
      "text/plain": [
       "    3      q\n",
       "   ?  + 2%F  + 2%F\n",
       "Type: SparseUnivariatePolynomial(FiniteFieldNormalBasisExtensionByPolynomial(PrimeField(3),?^2+2*?+2))\n"
      ]
     },
     "execution_count": 173,
     "metadata": {},
     "output_type": "execute_result"
    }
   ],
   "source": [
    "linearAssociatedOrder(a)"
   ]
  },
  {
   "cell_type": "code",
   "execution_count": 174,
   "metadata": {
    "collapsed": false
   },
   "outputs": [
    {
     "data": {
      "text/plain": [
       "     q\n",
       "   %F\n",
       "Type: SparseUnivariatePolynomial(FiniteFieldNormalBasisExtensionByPolynomial(PrimeField(3),?^2+2*?+2))\n"
      ]
     },
     "execution_count": 174,
     "metadata": {},
     "output_type": "execute_result"
    }
   ],
   "source": [
    "linearAssociatedLog(a)"
   ]
  },
  {
   "cell_type": "markdown",
   "metadata": {},
   "source": [
    " end of common finite field demonstration\n",
    " polynomial extension of a cyclic extension\n",
    " get primitive polynomial of degree d1 over P\n"
   ]
  },
  {
   "cell_type": "code",
   "execution_count": 175,
   "metadata": {
    "collapsed": false
   },
   "outputs": [
    {
     "data": {
      "text/plain": [
       "     q\n",
       "   %F\n",
       "     q\n",
       "   %F\n",
       "     q  2\n",
       "   %F %G\n",
       "     q  2\n",
       "   %F %G\n",
       "                                                                   Type: Void\n"
      ]
     },
     "execution_count": 175,
     "metadata": {},
     "output_type": "execute_result"
    }
   ],
   "source": [
    "for d in divisors extensionDegree()$F repeat\n",
    "        print(norm(a,d::PI)::OUTFORM)\n",
    "        print(trace(a,d::PI)::OUTFORM)"
   ]
  },
  {
   "cell_type": "code",
   "execution_count": 176,
   "metadata": {
    "collapsed": false
   },
   "outputs": [
    {
     "data": {
      "text/plain": [
       "    2\n",
       "   ?  + ? + 2\n",
       "                              Type: SparseUnivariatePolynomial(PrimeField(3))\n"
      ]
     },
     "execution_count": 176,
     "metadata": {},
     "output_type": "execute_result"
    }
   ],
   "source": [
    "f1:=createPrimitivePoly(d1)$FFPOLY(P)"
   ]
  },
  {
   "cell_type": "markdown",
   "metadata": {},
   "source": [
    " get irreducible polynomial of degree d2 over F1\n"
   ]
  },
  {
   "cell_type": "code",
   "execution_count": 177,
   "metadata": {
    "collapsed": false
   },
   "outputs": [
    {
     "data": {
      "text/plain": [
       "   FiniteFieldCyclicGroupExtensionByPolynomial(PrimeField(3),?^2+?+2)\n",
       "                                                                   Type: Type\n"
      ]
     },
     "execution_count": 177,
     "metadata": {},
     "output_type": "execute_result"
    }
   ],
   "source": [
    "F1:=FFCGP(P,f1)"
   ]
  },
  {
   "cell_type": "markdown",
   "metadata": {},
   "source": [
    " construct field\n"
   ]
  },
  {
   "cell_type": "code",
   "execution_count": 178,
   "metadata": {
    "collapsed": false
   },
   "outputs": [
    {
     "data": {
      "text/plain": [
       "    3         1\n",
       "   ?  + ? + %H\n",
       "Type: SparseUnivariatePolynomial(FiniteFieldCyclicGroupExtensionByPolynomial(PrimeField(3),?^2+?+2))\n"
      ]
     },
     "execution_count": 178,
     "metadata": {},
     "output_type": "execute_result"
    }
   ],
   "source": [
    "f2:=createIrreduciblePoly(d2)$FFPOLY(F1)"
   ]
  },
  {
   "cell_type": "markdown",
   "metadata": {},
   "source": [
    " this field is the same as constructed by F:=FFX(F1,d2)\n",
    " demonstration of common finite field functions\n",
    " the finite field domain is in variable F\n",
    " take some random elements\n"
   ]
  },
  {
   "cell_type": "code",
   "execution_count": 179,
   "metadata": {
    "collapsed": false
   },
   "outputs": [
    {
     "data": {
      "text/plain": [
       "  FiniteFieldExtensionByPolynomial(FiniteFieldCyclicGroupExtensionByPolynomial(\n",
       "  PrimeField(3),?^2+?+2),?^3+?+%H^1)\n",
       "                                                                   Type: Type\n"
      ]
     },
     "execution_count": 179,
     "metadata": {},
     "output_type": "execute_result"
    }
   ],
   "source": [
    "F:=FFP(F1,f2)"
   ]
  },
  {
   "cell_type": "code",
   "execution_count": 180,
   "metadata": {
    "collapsed": false
   },
   "outputs": [
    {
     "data": {
      "text/plain": [
       "   729\n",
       "                                                     Type: NonNegativeInteger\n"
      ]
     },
     "execution_count": 180,
     "metadata": {},
     "output_type": "execute_result"
    }
   ],
   "source": [
    "size()$F"
   ]
  },
  {
   "cell_type": "code",
   "execution_count": 181,
   "metadata": {
    "collapsed": false
   },
   "outputs": [
    {
     "data": {
      "text/plain": [
       "     2  2\n",
       "   %H %I\n",
       "Type: FiniteFieldExtensionByPolynomial(FiniteFieldCyclicGroupExtensionByPolynomial(PrimeField(3),?^2+?+2),?^3+?+%H^1)\n"
      ]
     },
     "execution_count": 181,
     "metadata": {},
     "output_type": "execute_result"
    }
   ],
   "source": [
    "a:=index(size()$F quo 3)$F"
   ]
  },
  {
   "cell_type": "markdown",
   "metadata": {},
   "source": [
    " simple arithmetic\n"
   ]
  },
  {
   "cell_type": "code",
   "execution_count": 182,
   "metadata": {
    "collapsed": false
   },
   "outputs": [
    {
     "data": {
      "text/plain": [
       "     2     1       4\n",
       "   %I  + %H %I + %H\n",
       "Type: FiniteFieldExtensionByPolynomial(FiniteFieldCyclicGroupExtensionByPolynomial(PrimeField(3),?^2+?+2),?^3+?+%H^1)\n"
      ]
     },
     "execution_count": 182,
     "metadata": {},
     "output_type": "execute_result"
    }
   ],
   "source": [
    "b:=index(size()$F quo 7)$F"
   ]
  },
  {
   "cell_type": "code",
   "execution_count": 183,
   "metadata": {
    "collapsed": false
   },
   "outputs": [
    {
     "data": {
      "text/plain": [
       "     3  2     1       4\n",
       "   %H %I  + %H %I + %H\n",
       "Type: FiniteFieldExtensionByPolynomial(FiniteFieldCyclicGroupExtensionByPolynomial(PrimeField(3),?^2+?+2),?^3+?+%H^1)\n"
      ]
     },
     "execution_count": 183,
     "metadata": {},
     "output_type": "execute_result"
    }
   ],
   "source": [
    "a+b"
   ]
  },
  {
   "cell_type": "code",
   "execution_count": 184,
   "metadata": {
    "collapsed": false
   },
   "outputs": [
    {
     "data": {
      "text/plain": [
       "     5  2     5\n",
       "   %H %I  + %H %I + 1\n",
       "Type: FiniteFieldExtensionByPolynomial(FiniteFieldCyclicGroupExtensionByPolynomial(PrimeField(3),?^2+?+2),?^3+?+%H^1)\n"
      ]
     },
     "execution_count": 184,
     "metadata": {},
     "output_type": "execute_result"
    }
   ],
   "source": [
    "a-b"
   ]
  },
  {
   "cell_type": "code",
   "execution_count": 185,
   "metadata": {
    "collapsed": false
   },
   "outputs": [
    {
     "data": {
      "text/plain": [
       "     2  2     3\n",
       "   %H %I  + %H %I + 1\n",
       "Type: FiniteFieldExtensionByPolynomial(FiniteFieldCyclicGroupExtensionByPolynomial(PrimeField(3),?^2+?+2),?^3+?+%H^1)\n"
      ]
     },
     "execution_count": 185,
     "metadata": {},
     "output_type": "execute_result"
    }
   ],
   "source": [
    "a*b"
   ]
  },
  {
   "cell_type": "code",
   "execution_count": 186,
   "metadata": {
    "collapsed": false
   },
   "outputs": [
    {
     "data": {
      "text/plain": [
       "     1  2     6\n",
       "   %H %I  + %H %I\n",
       "Type: FiniteFieldExtensionByPolynomial(FiniteFieldCyclicGroupExtensionByPolynomial(PrimeField(3),?^2+?+2),?^3+?+%H^1)\n"
      ]
     },
     "execution_count": 186,
     "metadata": {},
     "output_type": "execute_result"
    }
   ],
   "source": [
    "a/b"
   ]
  },
  {
   "cell_type": "code",
   "execution_count": 187,
   "metadata": {
    "collapsed": false
   },
   "outputs": [
    {
     "data": {
      "text/plain": [
       "     5  2     7\n",
       "   %H %I  + %H %I + 1\n",
       "Type: FiniteFieldExtensionByPolynomial(FiniteFieldCyclicGroupExtensionByPolynomial(PrimeField(3),?^2+?+2),?^3+?+%H^1)\n"
      ]
     },
     "execution_count": 187,
     "metadata": {},
     "output_type": "execute_result"
    }
   ],
   "source": [
    "a^1234"
   ]
  },
  {
   "cell_type": "code",
   "execution_count": 188,
   "metadata": {
    "collapsed": false
   },
   "outputs": [
    {
     "data": {
      "text/plain": [
       "     4  2     1       4\n",
       "   %H %I  + %H %I + %H\n",
       "Type: FiniteFieldExtensionByPolynomial(FiniteFieldCyclicGroupExtensionByPolynomial(PrimeField(3),?^2+?+2),?^3+?+%H^1)\n"
      ]
     },
     "execution_count": 188,
     "metadata": {},
     "output_type": "execute_result"
    }
   ],
   "source": [
    "a^(-1)"
   ]
  },
  {
   "cell_type": "code",
   "execution_count": 189,
   "metadata": {
    "collapsed": false
   },
   "outputs": [
    {
     "data": {
      "text/plain": [
       "   %I\n",
       "Type: FiniteFieldExtensionByPolynomial(FiniteFieldCyclicGroupExtensionByPolynomial(PrimeField(3),?^2+?+2),?^3+?+%H^1)\n"
      ]
     },
     "execution_count": 189,
     "metadata": {},
     "output_type": "execute_result"
    }
   ],
   "source": [
    "g := generator()$F"
   ]
  },
  {
   "cell_type": "markdown",
   "metadata": {},
   "source": [
    " functions concerning the multiplicative cyclic group\n"
   ]
  },
  {
   "cell_type": "code",
   "execution_count": 190,
   "metadata": {
    "collapsed": false
   },
   "outputs": [
    {
     "data": {
      "text/plain": [
       "   0\n",
       "Type: FiniteFieldExtensionByPolynomial(FiniteFieldCyclicGroupExtensionByPolynomial(PrimeField(3),?^2+?+2),?^3+?+%H^1)\n"
      ]
     },
     "execution_count": 190,
     "metadata": {},
     "output_type": "execute_result"
    }
   ],
   "source": [
    "(definingPolynomial()$F::SUP(F)).g"
   ]
  },
  {
   "cell_type": "code",
   "execution_count": 191,
   "metadata": {
    "collapsed": false
   },
   "outputs": [
    {
     "data": {
      "text/plain": [
       "   91\n",
       "                                                        Type: PositiveInteger\n"
      ]
     },
     "execution_count": 191,
     "metadata": {},
     "output_type": "execute_result"
    }
   ],
   "source": [
    "order(a)"
   ]
  },
  {
   "cell_type": "code",
   "execution_count": 192,
   "metadata": {
    "collapsed": false
   },
   "outputs": [
    {
     "data": {
      "text/plain": [
       "   %I\n",
       "Type: FiniteFieldExtensionByPolynomial(FiniteFieldCyclicGroupExtensionByPolynomial(PrimeField(3),?^2+?+2),?^3+?+%H^1)\n"
      ]
     },
     "execution_count": 192,
     "metadata": {},
     "output_type": "execute_result"
    }
   ],
   "source": [
    "g:=primitiveElement()$F"
   ]
  },
  {
   "cell_type": "markdown",
   "metadata": {},
   "source": [
    " the next one should equal 0\n"
   ]
  },
  {
   "cell_type": "code",
   "execution_count": 193,
   "metadata": {
    "collapsed": false
   },
   "outputs": [
    {
     "data": {
      "text/plain": [
       "   184\n",
       "                                                        Type: PositiveInteger\n"
      ]
     },
     "execution_count": 193,
     "metadata": {},
     "output_type": "execute_result"
    }
   ],
   "source": [
    "discreteLog(a)"
   ]
  },
  {
   "cell_type": "markdown",
   "metadata": {},
   "source": [
    " the next may fail\n"
   ]
  },
  {
   "cell_type": "code",
   "execution_count": 194,
   "metadata": {
    "collapsed": false
   },
   "outputs": [
    {
     "data": {
      "text/plain": [
       "   0\n",
       "Type: FiniteFieldExtensionByPolynomial(FiniteFieldCyclicGroupExtensionByPolynomial(PrimeField(3),?^2+?+2),?^3+?+%H^1)\n"
      ]
     },
     "execution_count": 194,
     "metadata": {},
     "output_type": "execute_result"
    }
   ],
   "source": [
    "g^% - a"
   ]
  },
  {
   "cell_type": "markdown",
   "metadata": {},
   "source": [
    " special finite field functions\n"
   ]
  },
  {
   "cell_type": "code",
   "execution_count": 195,
   "metadata": {
    "collapsed": false
   },
   "outputs": [
    {
     "data": {
      "text/plain": [
       "   352\n",
       "                                          Type: Union(NonNegativeInteger,...)\n"
      ]
     },
     "execution_count": 195,
     "metadata": {},
     "output_type": "execute_result"
    }
   ],
   "source": [
    "discreteLog(b,a)"
   ]
  },
  {
   "cell_type": "code",
   "execution_count": 196,
   "metadata": {
    "collapsed": false
   },
   "outputs": [
    {
     "data": {
      "text/plain": [
       "   3\n",
       "                                                        Type: PositiveInteger\n"
      ]
     },
     "execution_count": 196,
     "metadata": {},
     "output_type": "execute_result"
    }
   ],
   "source": [
    "extensionDegree()$F"
   ]
  },
  {
   "cell_type": "code",
   "execution_count": 197,
   "metadata": {
    "collapsed": false
   },
   "outputs": [
    {
     "data": {
      "text/plain": [
       "   3\n",
       "                                                        Type: PositiveInteger\n"
      ]
     },
     "execution_count": 197,
     "metadata": {},
     "output_type": "execute_result"
    }
   ],
   "source": [
    "degree(a)"
   ]
  },
  {
   "cell_type": "code",
   "execution_count": 198,
   "metadata": {
    "collapsed": false
   },
   "outputs": [
    {
     "data": {
      "text/plain": [
       "     2\n",
       "   %I\n",
       "Type: FiniteFieldExtensionByPolynomial(FiniteFieldCyclicGroupExtensionByPolynomial(PrimeField(3),?^2+?+2),?^3+?+%H^1)\n"
      ]
     },
     "execution_count": 198,
     "metadata": {},
     "output_type": "execute_result"
    }
   ],
   "source": [
    "normalElement()$F"
   ]
  },
  {
   "cell_type": "code",
   "execution_count": 199,
   "metadata": {
    "collapsed": false
   },
   "outputs": [
    {
     "data": {
      "text/plain": [
       "    3         1\n",
       "   ?  + ? + %H\n",
       "Type: SparseUnivariatePolynomial(FiniteFieldCyclicGroupExtensionByPolynomial(PrimeField(3),?^2+?+2))\n"
      ]
     },
     "execution_count": 199,
     "metadata": {},
     "output_type": "execute_result"
    }
   ],
   "source": [
    "definingPolynomial()$F"
   ]
  },
  {
   "cell_type": "code",
   "execution_count": 200,
   "metadata": {
    "collapsed": false
   },
   "outputs": [
    {
     "data": {
      "text/plain": [
       "    3     6 2     4      4\n",
       "   ?  + %H ?  + %H ? + %H\n",
       "Type: SparseUnivariatePolynomial(FiniteFieldCyclicGroupExtensionByPolynomial(PrimeField(3),?^2+?+2))\n"
      ]
     },
     "execution_count": 200,
     "metadata": {},
     "output_type": "execute_result"
    }
   ],
   "source": [
    "minimalPolynomial(a)"
   ]
  },
  {
   "cell_type": "code",
   "execution_count": 201,
   "metadata": {
    "collapsed": false
   },
   "outputs": [
    {
     "data": {
      "text/plain": [
       "     2  2          6\n",
       "   %H %I  + %I + %H\n",
       "Type: FiniteFieldExtensionByPolynomial(FiniteFieldCyclicGroupExtensionByPolynomial(PrimeField(3),?^2+?+2),?^3+?+%H^1)\n"
      ]
     },
     "execution_count": 201,
     "metadata": {},
     "output_type": "execute_result"
    }
   ],
   "source": [
    "Frobenius(a)"
   ]
  },
  {
   "cell_type": "code",
   "execution_count": 202,
   "metadata": {
    "collapsed": false
   },
   "outputs": [
    {
     "data": {
      "text/plain": [
       "    3     4\n",
       "   ?  + %H\n",
       "Type: SparseUnivariatePolynomial(FiniteFieldCyclicGroupExtensionByPolynomial(PrimeField(3),?^2+?+2))\n"
      ]
     },
     "execution_count": 202,
     "metadata": {},
     "output_type": "execute_result"
    }
   ],
   "source": [
    "linearAssociatedOrder(a)"
   ]
  },
  {
   "cell_type": "code",
   "execution_count": 203,
   "metadata": {
    "collapsed": false
   },
   "outputs": [
    {
     "data": {
      "text/plain": [
       "     2\n",
       "   %H\n",
       "Type: SparseUnivariatePolynomial(FiniteFieldCyclicGroupExtensionByPolynomial(PrimeField(3),?^2+?+2))\n"
      ]
     },
     "execution_count": 203,
     "metadata": {},
     "output_type": "execute_result"
    }
   ],
   "source": [
    "linearAssociatedLog(a)"
   ]
  },
  {
   "cell_type": "markdown",
   "metadata": {},
   "source": [
    " end of common finite field demonstration\n",
    " normal extension of a polynomial extension\n",
    " get a small prime\n",
    " get a irreducible polynomial of degree d1 over P\n"
   ]
  },
  {
   "cell_type": "code",
   "execution_count": 204,
   "metadata": {
    "collapsed": false
   },
   "outputs": [
    {
     "data": {
      "text/plain": [
       "   1\n",
       "     2\n",
       "   %H\n",
       "     2  2\n",
       "   %H %I\n",
       "     2  2\n",
       "   %H %I\n",
       "                                                                   Type: Void\n"
      ]
     },
     "execution_count": 204,
     "metadata": {},
     "output_type": "execute_result"
    }
   ],
   "source": [
    "for d in divisors extensionDegree()$F repeat\n",
    "        print(norm(a,d::PI)::OUTFORM)\n",
    "        print(trace(a,d::PI)::OUTFORM)"
   ]
  },
  {
   "cell_type": "code",
   "execution_count": 205,
   "metadata": {
    "collapsed": false
   },
   "outputs": [
    {
     "data": {
      "text/plain": [
       "    2\n",
       "   ?  + 1\n",
       "                              Type: SparseUnivariatePolynomial(PrimeField(3))\n"
      ]
     },
     "execution_count": 205,
     "metadata": {},
     "output_type": "execute_result"
    }
   ],
   "source": [
    "f1:=createIrreduciblePoly(d1)$FFPOLY(P)"
   ]
  },
  {
   "cell_type": "markdown",
   "metadata": {},
   "source": [
    " get a normal polynomial of degree d2 over F1\n"
   ]
  },
  {
   "cell_type": "code",
   "execution_count": 206,
   "metadata": {
    "collapsed": false
   },
   "outputs": [
    {
     "data": {
      "text/plain": [
       "   FiniteFieldExtensionByPolynomial(PrimeField(3),?^2+1)\n",
       "                                                                   Type: Type\n"
      ]
     },
     "execution_count": 206,
     "metadata": {},
     "output_type": "execute_result"
    }
   ],
   "source": [
    "F1:=FFP(P,f1)"
   ]
  },
  {
   "cell_type": "markdown",
   "metadata": {},
   "source": [
    " construct field\n"
   ]
  },
  {
   "cell_type": "code",
   "execution_count": 207,
   "metadata": {
    "collapsed": false
   },
   "outputs": [
    {
     "data": {
      "text/plain": [
       "    3     2\n",
       "   ?  + 2?  + 1\n",
       "Type: SparseUnivariatePolynomial(FiniteFieldExtensionByPolynomial(PrimeField(3),?^2+1))\n"
      ]
     },
     "execution_count": 207,
     "metadata": {},
     "output_type": "execute_result"
    }
   ],
   "source": [
    "f2:=createNormalPoly(d2)$FFPOLY(F1)"
   ]
  },
  {
   "cell_type": "markdown",
   "metadata": {},
   "source": [
    " this field is the same as constructed by F:=FFX(F1,d2)\n",
    " demonstration of common finite field functions\n",
    " the finite field domain is in variable F\n",
    " take some random elements\n"
   ]
  },
  {
   "cell_type": "code",
   "execution_count": 208,
   "metadata": {
    "collapsed": false
   },
   "outputs": [
    {
     "data": {
      "text/plain": [
       "  FiniteFieldNormalBasisExtensionByPolynomial(FiniteFieldExtensionByPolynomial(\n",
       "  PrimeField(3),?^2+1),?^3+2*?^2+1)\n",
       "                                                                   Type: Type\n"
      ]
     },
     "execution_count": 208,
     "metadata": {},
     "output_type": "execute_result"
    }
   ],
   "source": [
    "F:=FFNBP(F1,f2)"
   ]
  },
  {
   "cell_type": "code",
   "execution_count": 209,
   "metadata": {
    "collapsed": false
   },
   "outputs": [
    {
     "data": {
      "text/plain": [
       "   729\n",
       "                                                     Type: NonNegativeInteger\n"
      ]
     },
     "execution_count": 209,
     "metadata": {},
     "output_type": "execute_result"
    }
   ],
   "source": [
    "size()$F"
   ]
  },
  {
   "cell_type": "code",
   "execution_count": 210,
   "metadata": {
    "collapsed": false
   },
   "outputs": [
    {
     "data": {
      "text/plain": [
       "         2\n",
       "        q\n",
       "   %D %J\n",
       "Type: FiniteFieldNormalBasisExtensionByPolynomial(FiniteFieldExtensionByPolynomial(PrimeField(3),?^2+1),?^3+2*?^2+1)\n"
      ]
     },
     "execution_count": 210,
     "metadata": {},
     "output_type": "execute_result"
    }
   ],
   "source": [
    "a:=index(size()$F quo 3)$F"
   ]
  },
  {
   "cell_type": "markdown",
   "metadata": {},
   "source": [
    " simple arithmetic\n"
   ]
  },
  {
   "cell_type": "code",
   "execution_count": 211,
   "metadata": {
    "collapsed": false
   },
   "outputs": [
    {
     "data": {
      "text/plain": [
       "      2\n",
       "     q       q\n",
       "   %J   + 2%J  + (%D + 2)%J\n",
       "Type: FiniteFieldNormalBasisExtensionByPolynomial(FiniteFieldExtensionByPolynomial(PrimeField(3),?^2+1),?^3+2*?^2+1)\n"
      ]
     },
     "execution_count": 211,
     "metadata": {},
     "output_type": "execute_result"
    }
   ],
   "source": [
    "b:=index(size()$F quo 7)$F"
   ]
  },
  {
   "cell_type": "code",
   "execution_count": 212,
   "metadata": {
    "collapsed": false
   },
   "outputs": [
    {
     "data": {
      "text/plain": [
       "              2\n",
       "             q       q\n",
       "   (%D + 1)%J   + 2%J  + (%D + 2)%J\n",
       "Type: FiniteFieldNormalBasisExtensionByPolynomial(FiniteFieldExtensionByPolynomial(PrimeField(3),?^2+1),?^3+2*?^2+1)\n"
      ]
     },
     "execution_count": 212,
     "metadata": {},
     "output_type": "execute_result"
    }
   ],
   "source": [
    "a+b"
   ]
  },
  {
   "cell_type": "code",
   "execution_count": 213,
   "metadata": {
    "collapsed": false
   },
   "outputs": [
    {
     "data": {
      "text/plain": [
       "              2\n",
       "             q      q\n",
       "   (%D + 2)%J   + %J  + (2%D + 1)%J\n",
       "Type: FiniteFieldNormalBasisExtensionByPolynomial(FiniteFieldExtensionByPolynomial(PrimeField(3),?^2+1),?^3+2*?^2+1)\n"
      ]
     },
     "execution_count": 213,
     "metadata": {},
     "output_type": "execute_result"
    }
   ],
   "source": [
    "a-b"
   ]
  },
  {
   "cell_type": "code",
   "execution_count": 214,
   "metadata": {
    "collapsed": false
   },
   "outputs": [
    {
     "data": {
      "text/plain": [
       "              2\n",
       "             q         q\n",
       "   (%D + 2)%J   + %D %J  + (2%D + 1)%J\n",
       "Type: FiniteFieldNormalBasisExtensionByPolynomial(FiniteFieldExtensionByPolynomial(PrimeField(3),?^2+1),?^3+2*?^2+1)\n"
      ]
     },
     "execution_count": 214,
     "metadata": {},
     "output_type": "execute_result"
    }
   ],
   "source": [
    "a*b"
   ]
  },
  {
   "cell_type": "code",
   "execution_count": 215,
   "metadata": {
    "collapsed": false
   },
   "outputs": [
    {
     "data": {
      "text/plain": [
       "       2\n",
       "      q         q\n",
       "   2%J   + %D %J  + 2%J\n",
       "Type: FiniteFieldNormalBasisExtensionByPolynomial(FiniteFieldExtensionByPolynomial(PrimeField(3),?^2+1),?^3+2*?^2+1)\n"
      ]
     },
     "execution_count": 215,
     "metadata": {},
     "output_type": "execute_result"
    }
   ],
   "source": [
    "a/b"
   ]
  },
  {
   "cell_type": "code",
   "execution_count": 216,
   "metadata": {
    "collapsed": false
   },
   "outputs": [
    {
     "data": {
      "text/plain": [
       "     q\n",
       "   %J  + 2%J\n",
       "Type: FiniteFieldNormalBasisExtensionByPolynomial(FiniteFieldExtensionByPolynomial(PrimeField(3),?^2+1),?^3+2*?^2+1)\n"
      ]
     },
     "execution_count": 216,
     "metadata": {},
     "output_type": "execute_result"
    }
   ],
   "source": [
    "a^1234"
   ]
  },
  {
   "cell_type": "code",
   "execution_count": 217,
   "metadata": {
    "collapsed": false
   },
   "outputs": [
    {
     "data": {
      "text/plain": [
       "         q\n",
       "   2%D %J  + %D %J\n",
       "Type: FiniteFieldNormalBasisExtensionByPolynomial(FiniteFieldExtensionByPolynomial(PrimeField(3),?^2+1),?^3+2*?^2+1)\n"
      ]
     },
     "execution_count": 217,
     "metadata": {},
     "output_type": "execute_result"
    }
   ],
   "source": [
    "a^(-1)"
   ]
  },
  {
   "cell_type": "code",
   "execution_count": 218,
   "metadata": {
    "collapsed": false
   },
   "outputs": [
    {
     "data": {
      "text/plain": [
       "   %J\n",
       "Type: FiniteFieldNormalBasisExtensionByPolynomial(FiniteFieldExtensionByPolynomial(PrimeField(3),?^2+1),?^3+2*?^2+1)\n"
      ]
     },
     "execution_count": 218,
     "metadata": {},
     "output_type": "execute_result"
    }
   ],
   "source": [
    "g := generator()$F"
   ]
  },
  {
   "cell_type": "markdown",
   "metadata": {},
   "source": [
    " functions concerning the multiplicative cyclic group\n"
   ]
  },
  {
   "cell_type": "code",
   "execution_count": 219,
   "metadata": {
    "collapsed": false
   },
   "outputs": [
    {
     "data": {
      "text/plain": [
       "   0\n",
       "Type: FiniteFieldNormalBasisExtensionByPolynomial(FiniteFieldExtensionByPolynomial(PrimeField(3),?^2+1),?^3+2*?^2+1)\n"
      ]
     },
     "execution_count": 219,
     "metadata": {},
     "output_type": "execute_result"
    }
   ],
   "source": [
    "(definingPolynomial()$F::SUP(F)).g"
   ]
  },
  {
   "cell_type": "code",
   "execution_count": 220,
   "metadata": {
    "collapsed": false
   },
   "outputs": [
    {
     "data": {
      "text/plain": [
       "   52\n",
       "                                                        Type: PositiveInteger\n"
      ]
     },
     "execution_count": 220,
     "metadata": {},
     "output_type": "execute_result"
    }
   ],
   "source": [
    "order(a)"
   ]
  },
  {
   "cell_type": "code",
   "execution_count": 221,
   "metadata": {
    "collapsed": false
   },
   "outputs": [
    {
     "data": {
      "text/plain": [
       "             q\n",
       "   (%D + 1)%J  + 2%J\n",
       "Type: FiniteFieldNormalBasisExtensionByPolynomial(FiniteFieldExtensionByPolynomial(PrimeField(3),?^2+1),?^3+2*?^2+1)\n"
      ]
     },
     "execution_count": 221,
     "metadata": {},
     "output_type": "execute_result"
    }
   ],
   "source": [
    "g:=primitiveElement()$F"
   ]
  },
  {
   "cell_type": "markdown",
   "metadata": {},
   "source": [
    " the next one should equal 0\n"
   ]
  },
  {
   "cell_type": "code",
   "execution_count": 222,
   "metadata": {
    "collapsed": false
   },
   "outputs": [
    {
     "data": {
      "text/plain": [
       "   462\n",
       "                                                        Type: PositiveInteger\n"
      ]
     },
     "execution_count": 222,
     "metadata": {},
     "output_type": "execute_result"
    }
   ],
   "source": [
    "discreteLog(a)"
   ]
  },
  {
   "cell_type": "markdown",
   "metadata": {},
   "source": [
    " the next may fail\n"
   ]
  },
  {
   "cell_type": "code",
   "execution_count": 223,
   "metadata": {
    "collapsed": false
   },
   "outputs": [
    {
     "data": {
      "text/plain": [
       "   0\n",
       "Type: FiniteFieldNormalBasisExtensionByPolynomial(FiniteFieldExtensionByPolynomial(PrimeField(3),?^2+1),?^3+2*?^2+1)\n"
      ]
     },
     "execution_count": 223,
     "metadata": {},
     "output_type": "execute_result"
    }
   ],
   "source": [
    "g^% - a"
   ]
  },
  {
   "cell_type": "markdown",
   "metadata": {},
   "source": [
    " special finite field functions\n"
   ]
  },
  {
   "cell_type": "code",
   "execution_count": 224,
   "metadata": {
    "collapsed": false
   },
   "outputs": [
    {
     "data": {
      "text/plain": [
       "   70\n",
       "                                          Type: Union(NonNegativeInteger,...)\n"
      ]
     },
     "execution_count": 224,
     "metadata": {},
     "output_type": "execute_result"
    }
   ],
   "source": [
    "discreteLog(b,a)"
   ]
  },
  {
   "cell_type": "code",
   "execution_count": 225,
   "metadata": {
    "collapsed": false
   },
   "outputs": [
    {
     "data": {
      "text/plain": [
       "   3\n",
       "                                                        Type: PositiveInteger\n"
      ]
     },
     "execution_count": 225,
     "metadata": {},
     "output_type": "execute_result"
    }
   ],
   "source": [
    "extensionDegree()$F"
   ]
  },
  {
   "cell_type": "code",
   "execution_count": 226,
   "metadata": {
    "collapsed": false
   },
   "outputs": [
    {
     "data": {
      "text/plain": [
       "   3\n",
       "                                                        Type: PositiveInteger\n"
      ]
     },
     "execution_count": 226,
     "metadata": {},
     "output_type": "execute_result"
    }
   ],
   "source": [
    "degree(a)"
   ]
  },
  {
   "cell_type": "code",
   "execution_count": 227,
   "metadata": {
    "collapsed": false
   },
   "outputs": [
    {
     "data": {
      "text/plain": [
       "   %J\n",
       "Type: FiniteFieldNormalBasisExtensionByPolynomial(FiniteFieldExtensionByPolynomial(PrimeField(3),?^2+1),?^3+2*?^2+1)\n"
      ]
     },
     "execution_count": 227,
     "metadata": {},
     "output_type": "execute_result"
    }
   ],
   "source": [
    "normalElement()$F"
   ]
  },
  {
   "cell_type": "code",
   "execution_count": 228,
   "metadata": {
    "collapsed": false
   },
   "outputs": [
    {
     "data": {
      "text/plain": [
       "    3     2\n",
       "   ?  + 2?  + 1\n",
       "Type: SparseUnivariatePolynomial(FiniteFieldExtensionByPolynomial(PrimeField(3),?^2+1))\n"
      ]
     },
     "execution_count": 228,
     "metadata": {},
     "output_type": "execute_result"
    }
   ],
   "source": [
    "definingPolynomial()$F"
   ]
  },
  {
   "cell_type": "code",
   "execution_count": 229,
   "metadata": {
    "collapsed": false
   },
   "outputs": [
    {
     "data": {
      "text/plain": [
       "    3        2\n",
       "   ?  + 2%D ?  + 2%D\n",
       "Type: SparseUnivariatePolynomial(FiniteFieldExtensionByPolynomial(PrimeField(3),?^2+1))\n"
      ]
     },
     "execution_count": 229,
     "metadata": {},
     "output_type": "execute_result"
    }
   ],
   "source": [
    "minimalPolynomial(a)"
   ]
  },
  {
   "cell_type": "code",
   "execution_count": 230,
   "metadata": {
    "collapsed": false
   },
   "outputs": [
    {
     "data": {
      "text/plain": [
       "   %D %J\n",
       "Type: FiniteFieldNormalBasisExtensionByPolynomial(FiniteFieldExtensionByPolynomial(PrimeField(3),?^2+1),?^3+2*?^2+1)\n"
      ]
     },
     "execution_count": 230,
     "metadata": {},
     "output_type": "execute_result"
    }
   ],
   "source": [
    "Frobenius(a)"
   ]
  },
  {
   "cell_type": "code",
   "execution_count": 231,
   "metadata": {
    "collapsed": false
   },
   "outputs": [
    {
     "data": {
      "text/plain": [
       "    3\n",
       "   ?  + 2\n",
       "Type: SparseUnivariatePolynomial(FiniteFieldExtensionByPolynomial(PrimeField(3),?^2+1))\n"
      ]
     },
     "execution_count": 231,
     "metadata": {},
     "output_type": "execute_result"
    }
   ],
   "source": [
    "linearAssociatedOrder(a)"
   ]
  },
  {
   "cell_type": "code",
   "execution_count": 232,
   "metadata": {
    "collapsed": false
   },
   "outputs": [
    {
     "data": {
      "text/plain": [
       "       2\n",
       "   %D ?\n",
       "Type: SparseUnivariatePolynomial(FiniteFieldExtensionByPolynomial(PrimeField(3),?^2+1))\n"
      ]
     },
     "execution_count": 232,
     "metadata": {},
     "output_type": "execute_result"
    }
   ],
   "source": [
    "linearAssociatedLog(a)"
   ]
  },
  {
   "cell_type": "markdown",
   "metadata": {},
   "source": [
    " end of common finite field demonstration\n",
    " normal extension of a normal extension\n",
    " get a normal polynomial of degree d1 over P\n"
   ]
  },
  {
   "cell_type": "code",
   "execution_count": 233,
   "metadata": {
    "collapsed": false
   },
   "outputs": [
    {
     "data": {
      "text/plain": [
       "         2\n",
       "        q         q\n",
       "   %D %J   + %D %J  + %D %J\n",
       "         2\n",
       "        q         q\n",
       "   %D %J   + %D %J  + %D %J\n",
       "         2\n",
       "        q\n",
       "   %D %J\n",
       "         2\n",
       "        q\n",
       "   %D %J\n",
       "                                                                   Type: Void\n"
      ]
     },
     "execution_count": 233,
     "metadata": {},
     "output_type": "execute_result"
    }
   ],
   "source": [
    "for d in divisors extensionDegree()$F repeat\n",
    "        print(norm(a,d::PI)::OUTFORM)\n",
    "        print(trace(a,d::PI)::OUTFORM)"
   ]
  },
  {
   "cell_type": "code",
   "execution_count": 234,
   "metadata": {
    "collapsed": false
   },
   "outputs": [
    {
     "data": {
      "text/plain": [
       "    2\n",
       "   ?  + 2? + 2\n",
       "                              Type: SparseUnivariatePolynomial(PrimeField(3))\n"
      ]
     },
     "execution_count": 234,
     "metadata": {},
     "output_type": "execute_result"
    }
   ],
   "source": [
    "f1:=createNormalPoly(d1)$FFPOLY(P)"
   ]
  },
  {
   "cell_type": "markdown",
   "metadata": {},
   "source": [
    " get a normal polynomial of degree d2 over F1\n"
   ]
  },
  {
   "cell_type": "code",
   "execution_count": 235,
   "metadata": {
    "collapsed": false
   },
   "outputs": [
    {
     "data": {
      "text/plain": [
       "   FiniteFieldNormalBasisExtensionByPolynomial(PrimeField(3),?^2+2*?+2)\n",
       "                                                                   Type: Type\n"
      ]
     },
     "execution_count": 235,
     "metadata": {},
     "output_type": "execute_result"
    }
   ],
   "source": [
    "F1:=FFNBP(P,f1)"
   ]
  },
  {
   "cell_type": "markdown",
   "metadata": {},
   "source": [
    " construct field\n"
   ]
  },
  {
   "cell_type": "code",
   "execution_count": 236,
   "metadata": {
    "collapsed": false
   },
   "outputs": [
    {
     "data": {
      "text/plain": [
       "    3       q        2     q\n",
       "   ?  + (2%F  + 2%F)?  + %F  + %F\n",
       "Type: SparseUnivariatePolynomial(FiniteFieldNormalBasisExtensionByPolynomial(PrimeField(3),?^2+2*?+2))\n"
      ]
     },
     "execution_count": 236,
     "metadata": {},
     "output_type": "execute_result"
    }
   ],
   "source": [
    "f2:=createNormalPoly(d2)$FFPOLY(F1)"
   ]
  },
  {
   "cell_type": "markdown",
   "metadata": {},
   "source": [
    " this field is the same as constructed by F:=FFX(F1,d2)\n",
    " demonstration of common finite field functions\n",
    " the finite field domain is in variable F\n",
    " take some random elements\n"
   ]
  },
  {
   "cell_type": "code",
   "execution_count": 237,
   "metadata": {
    "collapsed": false
   },
   "outputs": [
    {
     "data": {
      "text/plain": [
       "  FiniteFieldNormalBasisExtensionByPolynomial(FiniteFieldNormalBasisExtensionBy\n",
       "  Polynomial(PrimeField(3),?^2+2*?+2),?^3+(2*%F^q+2*%F)*?^2+(%F^q+%F))\n",
       "                                                                   Type: Type\n"
      ]
     },
     "execution_count": 237,
     "metadata": {},
     "output_type": "execute_result"
    }
   ],
   "source": [
    "F:=FFNBP(F1,f2)"
   ]
  },
  {
   "cell_type": "code",
   "execution_count": 238,
   "metadata": {
    "collapsed": false
   },
   "outputs": [
    {
     "data": {
      "text/plain": [
       "   729\n",
       "                                                     Type: NonNegativeInteger\n"
      ]
     },
     "execution_count": 238,
     "metadata": {},
     "output_type": "execute_result"
    }
   ],
   "source": [
    "size()$F"
   ]
  },
  {
   "cell_type": "code",
   "execution_count": 239,
   "metadata": {
    "collapsed": false
   },
   "outputs": [
    {
     "data": {
      "text/plain": [
       "         2\n",
       "     q  q\n",
       "   %F %K\n",
       "Type: FiniteFieldNormalBasisExtensionByPolynomial(FiniteFieldNormalBasisExtensionByPolynomial(PrimeField(3),?^2+2*?+2),?^3+(2*%F^q+2*%F)*?^2+(%F^q+%F))\n"
      ]
     },
     "execution_count": 239,
     "metadata": {},
     "output_type": "execute_result"
    }
   ],
   "source": [
    "a:=index(size()$F quo 3)$F"
   ]
  },
  {
   "cell_type": "markdown",
   "metadata": {},
   "source": [
    " simple arithmetic\n"
   ]
  },
  {
   "cell_type": "code",
   "execution_count": 240,
   "metadata": {
    "collapsed": false
   },
   "outputs": [
    {
     "data": {
      "text/plain": [
       "         2\n",
       "        q          q      q\n",
       "   %F %K   + 2%F %K  + (%F  + 2%F)%K\n",
       "Type: FiniteFieldNormalBasisExtensionByPolynomial(FiniteFieldNormalBasisExtensionByPolynomial(PrimeField(3),?^2+2*?+2),?^3+(2*%F^q+2*%F)*?^2+(%F^q+%F))\n"
      ]
     },
     "execution_count": 240,
     "metadata": {},
     "output_type": "execute_result"
    }
   ],
   "source": [
    "b:=index(size()$F quo 7)$F"
   ]
  },
  {
   "cell_type": "code",
   "execution_count": 241,
   "metadata": {
    "collapsed": false
   },
   "outputs": [
    {
     "data": {
      "text/plain": [
       "      2\n",
       "     q          q      q\n",
       "   %K   + 2%F %K  + (%F  + 2%F)%K\n",
       "Type: FiniteFieldNormalBasisExtensionByPolynomial(FiniteFieldNormalBasisExtensionByPolynomial(PrimeField(3),?^2+2*?+2),?^3+(2*%F^q+2*%F)*?^2+(%F^q+%F))\n"
      ]
     },
     "execution_count": 241,
     "metadata": {},
     "output_type": "execute_result"
    }
   ],
   "source": [
    "a+b"
   ]
  },
  {
   "cell_type": "code",
   "execution_count": 242,
   "metadata": {
    "collapsed": false
   },
   "outputs": [
    {
     "data": {
      "text/plain": [
       "                 2\n",
       "      q         q         q       q\n",
       "   (%F  + 2%F)%K   + %F %K  + (2%F  + %F)%K\n",
       "Type: FiniteFieldNormalBasisExtensionByPolynomial(FiniteFieldNormalBasisExtensionByPolynomial(PrimeField(3),?^2+2*?+2),?^3+(2*%F^q+2*%F)*?^2+(%F^q+%F))\n"
      ]
     },
     "execution_count": 242,
     "metadata": {},
     "output_type": "execute_result"
    }
   ],
   "source": [
    "a-b"
   ]
  },
  {
   "cell_type": "code",
   "execution_count": 243,
   "metadata": {
    "collapsed": false
   },
   "outputs": [
    {
     "data": {
      "text/plain": [
       "         2\n",
       "     q  q        q         q      q\n",
       "   %F %K   + (2%F  + 2%F)%K  + 2%F %K\n",
       "Type: FiniteFieldNormalBasisExtensionByPolynomial(FiniteFieldNormalBasisExtensionByPolynomial(PrimeField(3),?^2+2*?+2),?^3+(2*%F^q+2*%F)*?^2+(%F^q+%F))\n"
      ]
     },
     "execution_count": 243,
     "metadata": {},
     "output_type": "execute_result"
    }
   ],
   "source": [
    "a*b"
   ]
  },
  {
   "cell_type": "code",
   "execution_count": 244,
   "metadata": {
    "collapsed": false
   },
   "outputs": [
    {
     "data": {
      "text/plain": [
       "                  2\n",
       "       q         q       q         q       q\n",
       "   (2%F  + 2%F)%K   + (%F  + 2%F)%K  + (2%F  + 2%F)%K\n",
       "Type: FiniteFieldNormalBasisExtensionByPolynomial(FiniteFieldNormalBasisExtensionByPolynomial(PrimeField(3),?^2+2*?+2),?^3+(2*%F^q+2*%F)*?^2+(%F^q+%F))\n"
      ]
     },
     "execution_count": 244,
     "metadata": {},
     "output_type": "execute_result"
    }
   ],
   "source": [
    "a/b"
   ]
  },
  {
   "cell_type": "code",
   "execution_count": 245,
   "metadata": {
    "collapsed": false
   },
   "outputs": [
    {
     "data": {
      "text/plain": [
       "      q         q       q\n",
       "   (%F  + 2%F)%K  + (2%F  + %F)%K\n",
       "Type: FiniteFieldNormalBasisExtensionByPolynomial(FiniteFieldNormalBasisExtensionByPolynomial(PrimeField(3),?^2+2*?+2),?^3+(2*%F^q+2*%F)*?^2+(%F^q+%F))\n"
      ]
     },
     "execution_count": 245,
     "metadata": {},
     "output_type": "execute_result"
    }
   ],
   "source": [
    "a^1234"
   ]
  },
  {
   "cell_type": "code",
   "execution_count": 246,
   "metadata": {
    "collapsed": false
   },
   "outputs": [
    {
     "data": {
      "text/plain": [
       "         q\n",
       "   2%F %K  + %F %K\n",
       "Type: FiniteFieldNormalBasisExtensionByPolynomial(FiniteFieldNormalBasisExtensionByPolynomial(PrimeField(3),?^2+2*?+2),?^3+(2*%F^q+2*%F)*?^2+(%F^q+%F))\n"
      ]
     },
     "execution_count": 246,
     "metadata": {},
     "output_type": "execute_result"
    }
   ],
   "source": [
    "a^(-1)"
   ]
  },
  {
   "cell_type": "code",
   "execution_count": 247,
   "metadata": {
    "collapsed": false
   },
   "outputs": [
    {
     "data": {
      "text/plain": [
       "   %K\n",
       "Type: FiniteFieldNormalBasisExtensionByPolynomial(FiniteFieldNormalBasisExtensionByPolynomial(PrimeField(3),?^2+2*?+2),?^3+(2*%F^q+2*%F)*?^2+(%F^q+%F))\n"
      ]
     },
     "execution_count": 247,
     "metadata": {},
     "output_type": "execute_result"
    }
   ],
   "source": [
    "g := generator()$F"
   ]
  },
  {
   "cell_type": "markdown",
   "metadata": {},
   "source": [
    " functions concerning the multiplicative cyclic group\n"
   ]
  },
  {
   "cell_type": "code",
   "execution_count": 248,
   "metadata": {
    "collapsed": false
   },
   "outputs": [
    {
     "data": {
      "text/plain": [
       "   0\n",
       "Type: FiniteFieldNormalBasisExtensionByPolynomial(FiniteFieldNormalBasisExtensionByPolynomial(PrimeField(3),?^2+2*?+2),?^3+(2*%F^q+2*%F)*?^2+(%F^q+%F))\n"
      ]
     },
     "execution_count": 248,
     "metadata": {},
     "output_type": "execute_result"
    }
   ],
   "source": [
    "(definingPolynomial()$F::SUP(F)).g"
   ]
  },
  {
   "cell_type": "code",
   "execution_count": 249,
   "metadata": {
    "collapsed": false
   },
   "outputs": [
    {
     "data": {
      "text/plain": [
       "   104\n",
       "                                                        Type: PositiveInteger\n"
      ]
     },
     "execution_count": 249,
     "metadata": {},
     "output_type": "execute_result"
    }
   ],
   "source": [
    "order(a)"
   ]
  },
  {
   "cell_type": "code",
   "execution_count": 250,
   "metadata": {
    "collapsed": false
   },
   "outputs": [
    {
     "data": {
      "text/plain": [
       "        q     q\n",
       "   %F %K  + %F %K\n",
       "Type: FiniteFieldNormalBasisExtensionByPolynomial(FiniteFieldNormalBasisExtensionByPolynomial(PrimeField(3),?^2+2*?+2),?^3+(2*%F^q+2*%F)*?^2+(%F^q+%F))\n"
      ]
     },
     "execution_count": 250,
     "metadata": {},
     "output_type": "execute_result"
    }
   ],
   "source": [
    "g:=primitiveElement()$F"
   ]
  },
  {
   "cell_type": "markdown",
   "metadata": {},
   "source": [
    " the next one should equal 0\n"
   ]
  },
  {
   "cell_type": "code",
   "execution_count": 251,
   "metadata": {
    "collapsed": false
   },
   "outputs": [
    {
     "data": {
      "text/plain": [
       "   343\n",
       "                                                        Type: PositiveInteger\n"
      ]
     },
     "execution_count": 251,
     "metadata": {},
     "output_type": "execute_result"
    }
   ],
   "source": [
    "discreteLog(a)"
   ]
  },
  {
   "cell_type": "markdown",
   "metadata": {},
   "source": [
    " the next may fail\n"
   ]
  },
  {
   "cell_type": "code",
   "execution_count": 252,
   "metadata": {
    "collapsed": false
   },
   "outputs": [
    {
     "data": {
      "text/plain": [
       "   0\n",
       "Type: FiniteFieldNormalBasisExtensionByPolynomial(FiniteFieldNormalBasisExtensionByPolynomial(PrimeField(3),?^2+2*?+2),?^3+(2*%F^q+2*%F)*?^2+(%F^q+%F))\n"
      ]
     },
     "execution_count": 252,
     "metadata": {},
     "output_type": "execute_result"
    }
   ],
   "source": [
    "g^% - a"
   ]
  },
  {
   "cell_type": "markdown",
   "metadata": {},
   "source": [
    " special finite field functions\n"
   ]
  },
  {
   "cell_type": "code",
   "execution_count": 253,
   "metadata": {
    "collapsed": false
   },
   "outputs": [
    {
     "data": {
      "text/plain": [
       "   discreteLog: second argument not in cyclic group generated by first argument\n",
       "   \"failed\"\n",
       "                                                    Type: Union(\"failed\",...)\n"
      ]
     },
     "execution_count": 253,
     "metadata": {},
     "output_type": "execute_result"
    }
   ],
   "source": [
    "discreteLog(b,a)"
   ]
  },
  {
   "cell_type": "code",
   "execution_count": 254,
   "metadata": {
    "collapsed": false
   },
   "outputs": [
    {
     "data": {
      "text/plain": [
       "   3\n",
       "                                                        Type: PositiveInteger\n"
      ]
     },
     "execution_count": 254,
     "metadata": {},
     "output_type": "execute_result"
    }
   ],
   "source": [
    "extensionDegree()$F"
   ]
  },
  {
   "cell_type": "code",
   "execution_count": 255,
   "metadata": {
    "collapsed": false
   },
   "outputs": [
    {
     "data": {
      "text/plain": [
       "   3\n",
       "                                                        Type: PositiveInteger\n"
      ]
     },
     "execution_count": 255,
     "metadata": {},
     "output_type": "execute_result"
    }
   ],
   "source": [
    "degree(a)"
   ]
  },
  {
   "cell_type": "code",
   "execution_count": 256,
   "metadata": {
    "collapsed": false
   },
   "outputs": [
    {
     "data": {
      "text/plain": [
       "   %K\n",
       "Type: FiniteFieldNormalBasisExtensionByPolynomial(FiniteFieldNormalBasisExtensionByPolynomial(PrimeField(3),?^2+2*?+2),?^3+(2*%F^q+2*%F)*?^2+(%F^q+%F))\n"
      ]
     },
     "execution_count": 256,
     "metadata": {},
     "output_type": "execute_result"
    }
   ],
   "source": [
    "normalElement()$F"
   ]
  },
  {
   "cell_type": "code",
   "execution_count": 257,
   "metadata": {
    "collapsed": false
   },
   "outputs": [
    {
     "data": {
      "text/plain": [
       "    3       q        2     q\n",
       "   ?  + (2%F  + 2%F)?  + %F  + %F\n",
       "Type: SparseUnivariatePolynomial(FiniteFieldNormalBasisExtensionByPolynomial(PrimeField(3),?^2+2*?+2))\n"
      ]
     },
     "execution_count": 257,
     "metadata": {},
     "output_type": "execute_result"
    }
   ],
   "source": [
    "definingPolynomial()$F"
   ]
  },
  {
   "cell_type": "code",
   "execution_count": 258,
   "metadata": {
    "collapsed": false
   },
   "outputs": [
    {
     "data": {
      "text/plain": [
       "    3      q 2\n",
       "   ?  + 2%F ?  + %F\n",
       "Type: SparseUnivariatePolynomial(FiniteFieldNormalBasisExtensionByPolynomial(PrimeField(3),?^2+2*?+2))\n"
      ]
     },
     "execution_count": 258,
     "metadata": {},
     "output_type": "execute_result"
    }
   ],
   "source": [
    "minimalPolynomial(a)"
   ]
  },
  {
   "cell_type": "code",
   "execution_count": 259,
   "metadata": {
    "collapsed": false
   },
   "outputs": [
    {
     "data": {
      "text/plain": [
       "     q\n",
       "   %F %K\n",
       "Type: FiniteFieldNormalBasisExtensionByPolynomial(FiniteFieldNormalBasisExtensionByPolynomial(PrimeField(3),?^2+2*?+2),?^3+(2*%F^q+2*%F)*?^2+(%F^q+%F))\n"
      ]
     },
     "execution_count": 259,
     "metadata": {},
     "output_type": "execute_result"
    }
   ],
   "source": [
    "Frobenius(a)"
   ]
  },
  {
   "cell_type": "code",
   "execution_count": 260,
   "metadata": {
    "collapsed": false
   },
   "outputs": [
    {
     "data": {
      "text/plain": [
       "    3      q\n",
       "   ?  + 2%F  + 2%F\n",
       "Type: SparseUnivariatePolynomial(FiniteFieldNormalBasisExtensionByPolynomial(PrimeField(3),?^2+2*?+2))\n"
      ]
     },
     "execution_count": 260,
     "metadata": {},
     "output_type": "execute_result"
    }
   ],
   "source": [
    "linearAssociatedOrder(a)"
   ]
  },
  {
   "cell_type": "code",
   "execution_count": 261,
   "metadata": {
    "collapsed": false
   },
   "outputs": [
    {
     "data": {
      "text/plain": [
       "     q 2\n",
       "   %F ?\n",
       "Type: SparseUnivariatePolynomial(FiniteFieldNormalBasisExtensionByPolynomial(PrimeField(3),?^2+2*?+2))\n"
      ]
     },
     "execution_count": 261,
     "metadata": {},
     "output_type": "execute_result"
    }
   ],
   "source": [
    "linearAssociatedLog(a)"
   ]
  },
  {
   "cell_type": "markdown",
   "metadata": {},
   "source": [
    " end of common finite field demonstration\n",
    " normal extension of a cyclic extension\n",
    " get primitive polynomial of degree d1 over P\n"
   ]
  },
  {
   "cell_type": "code",
   "execution_count": 262,
   "metadata": {
    "collapsed": false
   },
   "outputs": [
    {
     "data": {
      "text/plain": [
       "          2\n",
       "         q          q\n",
       "   2%F %K   + 2%F %K  + 2%F %K\n",
       "         2\n",
       "     q  q      q  q     q\n",
       "   %F %K   + %F %K  + %F %K\n",
       "         2\n",
       "     q  q\n",
       "   %F %K\n",
       "         2\n",
       "     q  q\n",
       "   %F %K\n",
       "                                                                   Type: Void\n"
      ]
     },
     "execution_count": 262,
     "metadata": {},
     "output_type": "execute_result"
    }
   ],
   "source": [
    "for d in divisors extensionDegree()$F repeat\n",
    "        print(norm(a,d::PI)::OUTFORM)\n",
    "        print(trace(a,d::PI)::OUTFORM)"
   ]
  },
  {
   "cell_type": "code",
   "execution_count": 263,
   "metadata": {
    "collapsed": false
   },
   "outputs": [
    {
     "data": {
      "text/plain": [
       "    2\n",
       "   ?  + ? + 2\n",
       "                              Type: SparseUnivariatePolynomial(PrimeField(3))\n"
      ]
     },
     "execution_count": 263,
     "metadata": {},
     "output_type": "execute_result"
    }
   ],
   "source": [
    "f1:=createPrimitivePoly(d1)$FFPOLY(P)"
   ]
  },
  {
   "cell_type": "markdown",
   "metadata": {},
   "source": [
    " get a normal polynomial of degree d2 over F1\n"
   ]
  },
  {
   "cell_type": "code",
   "execution_count": 264,
   "metadata": {
    "collapsed": false
   },
   "outputs": [
    {
     "data": {
      "text/plain": [
       "   FiniteFieldCyclicGroupExtensionByPolynomial(PrimeField(3),?^2+?+2)\n",
       "                                                                   Type: Type\n"
      ]
     },
     "execution_count": 264,
     "metadata": {},
     "output_type": "execute_result"
    }
   ],
   "source": [
    "F1:=FFCGP(P,f1)"
   ]
  },
  {
   "cell_type": "markdown",
   "metadata": {},
   "source": [
    " construct field\n"
   ]
  },
  {
   "cell_type": "code",
   "execution_count": 265,
   "metadata": {
    "collapsed": false
   },
   "outputs": [
    {
     "data": {
      "text/plain": [
       "    3     4 2\n",
       "   ?  + %H ?  + 1\n",
       "Type: SparseUnivariatePolynomial(FiniteFieldCyclicGroupExtensionByPolynomial(PrimeField(3),?^2+?+2))\n"
      ]
     },
     "execution_count": 265,
     "metadata": {},
     "output_type": "execute_result"
    }
   ],
   "source": [
    "f2:=createNormalPoly(d2)$FFPOLY(F1)"
   ]
  },
  {
   "cell_type": "markdown",
   "metadata": {},
   "source": [
    " this field is the same as constructed by F:=FFX(F1,d2)\n",
    " demonstration of common finite field functions\n",
    " the finite field domain is in variable F\n",
    " take some random elements\n"
   ]
  },
  {
   "cell_type": "code",
   "execution_count": 266,
   "metadata": {
    "collapsed": false
   },
   "outputs": [
    {
     "data": {
      "text/plain": [
       "  FiniteFieldNormalBasisExtensionByPolynomial(FiniteFieldCyclicGroupExtensionBy\n",
       "  Polynomial(PrimeField(3),?^2+?+2),?^3+%H^4*?^2+(1))\n",
       "                                                                   Type: Type\n"
      ]
     },
     "execution_count": 266,
     "metadata": {},
     "output_type": "execute_result"
    }
   ],
   "source": [
    "F:=FFNBP(F1,f2)"
   ]
  },
  {
   "cell_type": "code",
   "execution_count": 267,
   "metadata": {
    "collapsed": false
   },
   "outputs": [
    {
     "data": {
      "text/plain": [
       "   729\n",
       "                                                     Type: NonNegativeInteger\n"
      ]
     },
     "execution_count": 267,
     "metadata": {},
     "output_type": "execute_result"
    }
   ],
   "source": [
    "size()$F"
   ]
  },
  {
   "cell_type": "code",
   "execution_count": 268,
   "metadata": {
    "collapsed": false
   },
   "outputs": [
    {
     "data": {
      "text/plain": [
       "         2\n",
       "     2  q\n",
       "   %H %L\n",
       "Type: FiniteFieldNormalBasisExtensionByPolynomial(FiniteFieldCyclicGroupExtensionByPolynomial(PrimeField(3),?^2+?+2),?^3+%H^4*?^2+(1))\n"
      ]
     },
     "execution_count": 268,
     "metadata": {},
     "output_type": "execute_result"
    }
   ],
   "source": [
    "a:=index(size()$F quo 3)$F"
   ]
  },
  {
   "cell_type": "markdown",
   "metadata": {},
   "source": [
    " simple arithmetic\n"
   ]
  },
  {
   "cell_type": "code",
   "execution_count": 269,
   "metadata": {
    "collapsed": false
   },
   "outputs": [
    {
     "data": {
      "text/plain": [
       "      2\n",
       "     q      1  q     4\n",
       "   %L   + %H %L  + %H %L\n",
       "Type: FiniteFieldNormalBasisExtensionByPolynomial(FiniteFieldCyclicGroupExtensionByPolynomial(PrimeField(3),?^2+?+2),?^3+%H^4*?^2+(1))\n"
      ]
     },
     "execution_count": 269,
     "metadata": {},
     "output_type": "execute_result"
    }
   ],
   "source": [
    "b:=index(size()$F quo 7)$F"
   ]
  },
  {
   "cell_type": "code",
   "execution_count": 270,
   "metadata": {
    "collapsed": false
   },
   "outputs": [
    {
     "data": {
      "text/plain": [
       "         2\n",
       "     3  q      1  q     4\n",
       "   %H %L   + %H %L  + %H %L\n",
       "Type: FiniteFieldNormalBasisExtensionByPolynomial(FiniteFieldCyclicGroupExtensionByPolynomial(PrimeField(3),?^2+?+2),?^3+%H^4*?^2+(1))\n"
      ]
     },
     "execution_count": 270,
     "metadata": {},
     "output_type": "execute_result"
    }
   ],
   "source": [
    "a+b"
   ]
  },
  {
   "cell_type": "code",
   "execution_count": 271,
   "metadata": {
    "collapsed": false
   },
   "outputs": [
    {
     "data": {
      "text/plain": [
       "         2\n",
       "     5  q      5  q\n",
       "   %H %L   + %H %L  + %L\n",
       "Type: FiniteFieldNormalBasisExtensionByPolynomial(FiniteFieldCyclicGroupExtensionByPolynomial(PrimeField(3),?^2+?+2),?^3+%H^4*?^2+(1))\n"
      ]
     },
     "execution_count": 271,
     "metadata": {},
     "output_type": "execute_result"
    }
   ],
   "source": [
    "a-b"
   ]
  },
  {
   "cell_type": "code",
   "execution_count": 272,
   "metadata": {
    "collapsed": false
   },
   "outputs": [
    {
     "data": {
      "text/plain": [
       "         2\n",
       "     7  q      q     6\n",
       "   %H %L   + %L  + %H %L\n",
       "Type: FiniteFieldNormalBasisExtensionByPolynomial(FiniteFieldCyclicGroupExtensionByPolynomial(PrimeField(3),?^2+?+2),?^3+%H^4*?^2+(1))\n"
      ]
     },
     "execution_count": 272,
     "metadata": {},
     "output_type": "execute_result"
    }
   ],
   "source": [
    "a*b"
   ]
  },
  {
   "cell_type": "code",
   "execution_count": 273,
   "metadata": {
    "collapsed": false
   },
   "outputs": [
    {
     "data": {
      "text/plain": [
       "         2\n",
       "     2  q      5  q     6\n",
       "   %H %L   + %H %L  + %H %L\n",
       "Type: FiniteFieldNormalBasisExtensionByPolynomial(FiniteFieldCyclicGroupExtensionByPolynomial(PrimeField(3),?^2+?+2),?^3+%H^4*?^2+(1))\n"
      ]
     },
     "execution_count": 273,
     "metadata": {},
     "output_type": "execute_result"
    }
   ],
   "source": [
    "a/b"
   ]
  },
  {
   "cell_type": "code",
   "execution_count": 274,
   "metadata": {
    "collapsed": false
   },
   "outputs": [
    {
     "data": {
      "text/plain": [
       "     q     4\n",
       "   %L  + %H %L\n",
       "Type: FiniteFieldNormalBasisExtensionByPolynomial(FiniteFieldCyclicGroupExtensionByPolynomial(PrimeField(3),?^2+?+2),?^3+%H^4*?^2+(1))\n"
      ]
     },
     "execution_count": 274,
     "metadata": {},
     "output_type": "execute_result"
    }
   ],
   "source": [
    "a^1234"
   ]
  },
  {
   "cell_type": "code",
   "execution_count": 275,
   "metadata": {
    "collapsed": false
   },
   "outputs": [
    {
     "data": {
      "text/plain": [
       "     6  q     2\n",
       "   %H %L  + %H %L\n",
       "Type: FiniteFieldNormalBasisExtensionByPolynomial(FiniteFieldCyclicGroupExtensionByPolynomial(PrimeField(3),?^2+?+2),?^3+%H^4*?^2+(1))\n"
      ]
     },
     "execution_count": 275,
     "metadata": {},
     "output_type": "execute_result"
    }
   ],
   "source": [
    "a^(-1)"
   ]
  },
  {
   "cell_type": "code",
   "execution_count": 276,
   "metadata": {
    "collapsed": false
   },
   "outputs": [
    {
     "data": {
      "text/plain": [
       "   %L\n",
       "Type: FiniteFieldNormalBasisExtensionByPolynomial(FiniteFieldCyclicGroupExtensionByPolynomial(PrimeField(3),?^2+?+2),?^3+%H^4*?^2+(1))\n"
      ]
     },
     "execution_count": 276,
     "metadata": {},
     "output_type": "execute_result"
    }
   ],
   "source": [
    "g := generator()$F"
   ]
  },
  {
   "cell_type": "markdown",
   "metadata": {},
   "source": [
    " functions concerning the multiplicative cyclic group\n"
   ]
  },
  {
   "cell_type": "code",
   "execution_count": 277,
   "metadata": {
    "collapsed": false
   },
   "outputs": [
    {
     "data": {
      "text/plain": [
       "   0\n",
       "Type: FiniteFieldNormalBasisExtensionByPolynomial(FiniteFieldCyclicGroupExtensionByPolynomial(PrimeField(3),?^2+?+2),?^3+%H^4*?^2+(1))\n"
      ]
     },
     "execution_count": 277,
     "metadata": {},
     "output_type": "execute_result"
    }
   ],
   "source": [
    "(definingPolynomial()$F::SUP(F)).g"
   ]
  },
  {
   "cell_type": "code",
   "execution_count": 278,
   "metadata": {
    "collapsed": false
   },
   "outputs": [
    {
     "data": {
      "text/plain": [
       "   52\n",
       "                                                        Type: PositiveInteger\n"
      ]
     },
     "execution_count": 278,
     "metadata": {},
     "output_type": "execute_result"
    }
   ],
   "source": [
    "order(a)"
   ]
  },
  {
   "cell_type": "code",
   "execution_count": 279,
   "metadata": {
    "collapsed": false
   },
   "outputs": [
    {
     "data": {
      "text/plain": [
       "     1  q     2\n",
       "   %H %L  + %H %L\n",
       "Type: FiniteFieldNormalBasisExtensionByPolynomial(FiniteFieldCyclicGroupExtensionByPolynomial(PrimeField(3),?^2+?+2),?^3+%H^4*?^2+(1))\n"
      ]
     },
     "execution_count": 279,
     "metadata": {},
     "output_type": "execute_result"
    }
   ],
   "source": [
    "g:=primitiveElement()$F"
   ]
  },
  {
   "cell_type": "markdown",
   "metadata": {},
   "source": [
    " the next one should equal 0\n"
   ]
  },
  {
   "cell_type": "code",
   "execution_count": 280,
   "metadata": {
    "collapsed": false
   },
   "outputs": [
    {
     "data": {
      "text/plain": [
       "   98\n",
       "                                                        Type: PositiveInteger\n"
      ]
     },
     "execution_count": 280,
     "metadata": {},
     "output_type": "execute_result"
    }
   ],
   "source": [
    "discreteLog(a)"
   ]
  },
  {
   "cell_type": "markdown",
   "metadata": {},
   "source": [
    " the next may fail\n"
   ]
  },
  {
   "cell_type": "code",
   "execution_count": 281,
   "metadata": {
    "collapsed": false
   },
   "outputs": [
    {
     "data": {
      "text/plain": [
       "   0\n",
       "Type: FiniteFieldNormalBasisExtensionByPolynomial(FiniteFieldCyclicGroupExtensionByPolynomial(PrimeField(3),?^2+?+2),?^3+%H^4*?^2+(1))\n"
      ]
     },
     "execution_count": 281,
     "metadata": {},
     "output_type": "execute_result"
    }
   ],
   "source": [
    "g^% - a"
   ]
  },
  {
   "cell_type": "markdown",
   "metadata": {},
   "source": [
    " special finite field functions\n"
   ]
  },
  {
   "cell_type": "code",
   "execution_count": 282,
   "metadata": {
    "collapsed": false
   },
   "outputs": [
    {
     "data": {
      "text/plain": [
       "   574\n",
       "                                          Type: Union(NonNegativeInteger,...)\n"
      ]
     },
     "execution_count": 282,
     "metadata": {},
     "output_type": "execute_result"
    }
   ],
   "source": [
    "discreteLog(b,a)"
   ]
  },
  {
   "cell_type": "code",
   "execution_count": 283,
   "metadata": {
    "collapsed": false
   },
   "outputs": [
    {
     "data": {
      "text/plain": [
       "   3\n",
       "                                                        Type: PositiveInteger\n"
      ]
     },
     "execution_count": 283,
     "metadata": {},
     "output_type": "execute_result"
    }
   ],
   "source": [
    "extensionDegree()$F"
   ]
  },
  {
   "cell_type": "code",
   "execution_count": 284,
   "metadata": {
    "collapsed": false
   },
   "outputs": [
    {
     "data": {
      "text/plain": [
       "   3\n",
       "                                                        Type: PositiveInteger\n"
      ]
     },
     "execution_count": 284,
     "metadata": {},
     "output_type": "execute_result"
    }
   ],
   "source": [
    "degree(a)"
   ]
  },
  {
   "cell_type": "code",
   "execution_count": 285,
   "metadata": {
    "collapsed": false
   },
   "outputs": [
    {
     "data": {
      "text/plain": [
       "   %L\n",
       "Type: FiniteFieldNormalBasisExtensionByPolynomial(FiniteFieldCyclicGroupExtensionByPolynomial(PrimeField(3),?^2+?+2),?^3+%H^4*?^2+(1))\n"
      ]
     },
     "execution_count": 285,
     "metadata": {},
     "output_type": "execute_result"
    }
   ],
   "source": [
    "normalElement()$F"
   ]
  },
  {
   "cell_type": "code",
   "execution_count": 286,
   "metadata": {
    "collapsed": false
   },
   "outputs": [
    {
     "data": {
      "text/plain": [
       "    3     4 2\n",
       "   ?  + %H ?  + 1\n",
       "Type: SparseUnivariatePolynomial(FiniteFieldCyclicGroupExtensionByPolynomial(PrimeField(3),?^2+?+2))\n"
      ]
     },
     "execution_count": 286,
     "metadata": {},
     "output_type": "execute_result"
    }
   ],
   "source": [
    "definingPolynomial()$F"
   ]
  },
  {
   "cell_type": "code",
   "execution_count": 287,
   "metadata": {
    "collapsed": false
   },
   "outputs": [
    {
     "data": {
      "text/plain": [
       "    3     6 2     6\n",
       "   ?  + %H ?  + %H\n",
       "Type: SparseUnivariatePolynomial(FiniteFieldCyclicGroupExtensionByPolynomial(PrimeField(3),?^2+?+2))\n"
      ]
     },
     "execution_count": 287,
     "metadata": {},
     "output_type": "execute_result"
    }
   ],
   "source": [
    "minimalPolynomial(a)"
   ]
  },
  {
   "cell_type": "code",
   "execution_count": 288,
   "metadata": {
    "collapsed": false
   },
   "outputs": [
    {
     "data": {
      "text/plain": [
       "     2\n",
       "   %H %L\n",
       "Type: FiniteFieldNormalBasisExtensionByPolynomial(FiniteFieldCyclicGroupExtensionByPolynomial(PrimeField(3),?^2+?+2),?^3+%H^4*?^2+(1))\n"
      ]
     },
     "execution_count": 288,
     "metadata": {},
     "output_type": "execute_result"
    }
   ],
   "source": [
    "Frobenius(a)"
   ]
  },
  {
   "cell_type": "code",
   "execution_count": 289,
   "metadata": {
    "collapsed": false
   },
   "outputs": [
    {
     "data": {
      "text/plain": [
       "    3     4\n",
       "   ?  + %H\n",
       "Type: SparseUnivariatePolynomial(FiniteFieldCyclicGroupExtensionByPolynomial(PrimeField(3),?^2+?+2))\n"
      ]
     },
     "execution_count": 289,
     "metadata": {},
     "output_type": "execute_result"
    }
   ],
   "source": [
    "linearAssociatedOrder(a)"
   ]
  },
  {
   "cell_type": "code",
   "execution_count": 290,
   "metadata": {
    "collapsed": false
   },
   "outputs": [
    {
     "data": {
      "text/plain": [
       "     2 2\n",
       "   %H ?\n",
       "Type: SparseUnivariatePolynomial(FiniteFieldCyclicGroupExtensionByPolynomial(PrimeField(3),?^2+?+2))\n"
      ]
     },
     "execution_count": 290,
     "metadata": {},
     "output_type": "execute_result"
    }
   ],
   "source": [
    "linearAssociatedLog(a)"
   ]
  },
  {
   "cell_type": "markdown",
   "metadata": {},
   "source": [
    " end of common finite field demonstration\n",
    " finite field homomorphisms demonstration\n"
   ]
  },
  {
   "cell_type": "code",
   "execution_count": 291,
   "metadata": {
    "collapsed": false
   },
   "outputs": [
    {
     "data": {
      "text/plain": [
       "         2\n",
       "     2  q      2  q     2\n",
       "   %H %L   + %H %L  + %H %L\n",
       "         2\n",
       "     2  q      2  q     2\n",
       "   %H %L   + %H %L  + %H %L\n",
       "         2\n",
       "     2  q\n",
       "   %H %L\n",
       "         2\n",
       "     2  q\n",
       "   %H %L\n",
       "                                                                   Type: Void\n"
      ]
     },
     "execution_count": 291,
     "metadata": {},
     "output_type": "execute_result"
    }
   ],
   "source": [
    "for d in divisors extensionDegree()$F repeat\n",
    "        print(norm(a,d::PI)::OUTFORM)\n",
    "        print(trace(a,d::PI)::OUTFORM)"
   ]
  },
  {
   "cell_type": "markdown",
   "metadata": {},
   "source": [
    " create a irreducible, a normal and a primitive polynomial\n"
   ]
  },
  {
   "cell_type": "code",
   "execution_count": 292,
   "metadata": {
    "collapsed": false
   },
   "outputs": [
    {
     "data": {
      "text/plain": [
       "   PrimeField(3)\n",
       "                                                                   Type: Type\n"
      ]
     },
     "execution_count": 292,
     "metadata": {},
     "output_type": "execute_result"
    }
   ],
   "source": [
    "P3:= PF 3"
   ]
  },
  {
   "cell_type": "code",
   "execution_count": 293,
   "metadata": {
    "collapsed": false
   },
   "outputs": [
    {
     "data": {
      "text/plain": [
       "    6\n",
       "   ?  + ? + 2\n",
       "                              Type: SparseUnivariatePolynomial(PrimeField(3))\n"
      ]
     },
     "execution_count": 293,
     "metadata": {},
     "output_type": "execute_result"
    }
   ],
   "source": [
    "fi:=createIrreduciblePoly(6)$FFPOLY(P3)"
   ]
  },
  {
   "cell_type": "code",
   "execution_count": 294,
   "metadata": {
    "collapsed": false
   },
   "outputs": [
    {
     "data": {
      "text/plain": [
       "    6     5    3\n",
       "   ?  + 2?  + ?  + 1\n",
       "                              Type: SparseUnivariatePolynomial(PrimeField(3))\n"
      ]
     },
     "execution_count": 294,
     "metadata": {},
     "output_type": "execute_result"
    }
   ],
   "source": [
    "fn:=createNormalPoly(6)$FFPOLY(P3)"
   ]
  },
  {
   "cell_type": "markdown",
   "metadata": {},
   "source": [
    " coercions between field with the same defining polynomials\n"
   ]
  },
  {
   "cell_type": "code",
   "execution_count": 295,
   "metadata": {
    "collapsed": false
   },
   "outputs": [
    {
     "data": {
      "text/plain": [
       "    3\n",
       "   ?  + 2? + 1\n",
       "                              Type: SparseUnivariatePolynomial(PrimeField(3))\n"
      ]
     },
     "execution_count": 295,
     "metadata": {},
     "output_type": "execute_result"
    }
   ],
   "source": [
    "fp:=createPrimitivePoly(3)$FFPOLY(P3)"
   ]
  },
  {
   "cell_type": "code",
   "execution_count": 296,
   "metadata": {
    "collapsed": false
   },
   "outputs": [
    {
     "data": {
      "text/plain": [
       "   FiniteFieldExtensionByPolynomial(PrimeField(3),?^6+2*?^5+?^3+1)\n",
       "                                                                   Type: Type\n"
      ]
     },
     "execution_count": 296,
     "metadata": {},
     "output_type": "execute_result"
    }
   ],
   "source": [
    "F:=FFP(P3,fn)"
   ]
  },
  {
   "cell_type": "code",
   "execution_count": 297,
   "metadata": {
    "collapsed": false
   },
   "outputs": [
    {
     "data": {
      "text/plain": [
       "   FiniteFieldNormalBasisExtensionByPolynomial(PrimeField(3),?^6+2*?^5+?^3+1)\n",
       "                                                                   Type: Type\n"
      ]
     },
     "execution_count": 297,
     "metadata": {},
     "output_type": "execute_result"
    }
   ],
   "source": [
    "N:=FFNBP(P3,fn)"
   ]
  },
  {
   "cell_type": "code",
   "execution_count": 298,
   "metadata": {
    "collapsed": false
   },
   "outputs": [
    {
     "data": {
      "text/plain": [
       "     5\n",
       "   %M\n",
       "        Type: FiniteFieldExtensionByPolynomial(PrimeField(3),?^6+2*?^5+?^3+1)\n"
      ]
     },
     "execution_count": 298,
     "metadata": {},
     "output_type": "execute_result"
    }
   ],
   "source": [
    "a:=index(size()$F quo 3)$F"
   ]
  },
  {
   "cell_type": "code",
   "execution_count": 299,
   "metadata": {
    "collapsed": false
   },
   "outputs": [
    {
     "data": {
      "text/plain": [
       "     4      2\n",
       "   %M  + 2%M  + %M + 2\n",
       "        Type: FiniteFieldExtensionByPolynomial(PrimeField(3),?^6+2*?^5+?^3+1)\n"
      ]
     },
     "execution_count": 299,
     "metadata": {},
     "output_type": "execute_result"
    }
   ],
   "source": [
    "b:=index(size()$F quo 7)$F"
   ]
  },
  {
   "cell_type": "code",
   "execution_count": 300,
   "metadata": {
    "collapsed": false
   },
   "outputs": [
    {
     "data": {
      "text/plain": [
       "      4      3\n",
       "     q      q      q\n",
       "   %N   + %N   + %N  + 2%N\n",
       "Type: FiniteFieldNormalBasisExtensionByPolynomial(PrimeField(3),?^6+2*?^5+?^3+1)\n"
      ]
     },
     "execution_count": 300,
     "metadata": {},
     "output_type": "execute_result"
    }
   ],
   "source": [
    "an:=coerce(a)$FFHOM(F,P3,N)"
   ]
  },
  {
   "cell_type": "code",
   "execution_count": 301,
   "metadata": {
    "collapsed": false
   },
   "outputs": [
    {
     "data": {
      "text/plain": [
       "      3      2\n",
       "     q      q       q\n",
       "   %N   + %N   + 2%N  + 2%N\n",
       "Type: FiniteFieldNormalBasisExtensionByPolynomial(PrimeField(3),?^6+2*?^5+?^3+1)\n"
      ]
     },
     "execution_count": 301,
     "metadata": {},
     "output_type": "execute_result"
    }
   ],
   "source": [
    "bn:=coerce(b)$FFHOM(F,P3,N)"
   ]
  },
  {
   "cell_type": "code",
   "execution_count": 302,
   "metadata": {
    "collapsed": false
   },
   "outputs": [
    {
     "data": {
      "text/plain": [
       "       5       4      3\n",
       "      q       q      q      q\n",
       "   2%N   + 2%N   + %N   + %N\n",
       "Type: FiniteFieldNormalBasisExtensionByPolynomial(PrimeField(3),?^6+2*?^5+?^3+1)\n"
      ]
     },
     "execution_count": 302,
     "metadata": {},
     "output_type": "execute_result"
    }
   ],
   "source": [
    "cn := an*bn"
   ]
  },
  {
   "cell_type": "markdown",
   "metadata": {},
   "source": [
    " should be the same as\n"
   ]
  },
  {
   "cell_type": "code",
   "execution_count": 303,
   "metadata": {
    "collapsed": false
   },
   "outputs": [
    {
     "data": {
      "text/plain": [
       "     5      3      2\n",
       "   %M  + 2%M  + 2%M\n",
       "        Type: FiniteFieldExtensionByPolynomial(PrimeField(3),?^6+2*?^5+?^3+1)\n"
      ]
     },
     "execution_count": 303,
     "metadata": {},
     "output_type": "execute_result"
    }
   ],
   "source": [
    "coerce(cn)$FFHOM(F,P3,N)"
   ]
  },
  {
   "cell_type": "markdown",
   "metadata": {},
   "source": [
    " coercion between fields with different extension polynomials\n"
   ]
  },
  {
   "cell_type": "code",
   "execution_count": 304,
   "metadata": {
    "collapsed": false
   },
   "outputs": [
    {
     "data": {
      "text/plain": [
       "     5      3      2\n",
       "   %M  + 2%M  + 2%M\n",
       "        Type: FiniteFieldExtensionByPolynomial(PrimeField(3),?^6+2*?^5+?^3+1)\n"
      ]
     },
     "execution_count": 304,
     "metadata": {},
     "output_type": "execute_result"
    }
   ],
   "source": [
    "c:=a*b"
   ]
  },
  {
   "cell_type": "code",
   "execution_count": 305,
   "metadata": {
    "collapsed": false
   },
   "outputs": [
    {
     "data": {
      "text/plain": [
       "   FiniteFieldExtensionByPolynomial(PrimeField(3),?^6+?+2)\n",
       "                                                                   Type: Type\n"
      ]
     },
     "execution_count": 305,
     "metadata": {},
     "output_type": "execute_result"
    }
   ],
   "source": [
    "F:=FFP(P3,fi)"
   ]
  },
  {
   "cell_type": "code",
   "execution_count": 306,
   "metadata": {
    "collapsed": false
   },
   "outputs": [
    {
     "data": {
      "text/plain": [
       "   FiniteFieldNormalBasisExtensionByPolynomial(PrimeField(3),?^6+2*?^5+?^3+1)\n",
       "                                                                   Type: Type\n"
      ]
     },
     "execution_count": 306,
     "metadata": {},
     "output_type": "execute_result"
    }
   ],
   "source": [
    "N:=FFNBP(P3,fn)"
   ]
  },
  {
   "cell_type": "code",
   "execution_count": 307,
   "metadata": {
    "collapsed": false
   },
   "outputs": [
    {
     "data": {
      "text/plain": [
       "     5\n",
       "   %O\n",
       "                Type: FiniteFieldExtensionByPolynomial(PrimeField(3),?^6+?+2)\n"
      ]
     },
     "execution_count": 307,
     "metadata": {},
     "output_type": "execute_result"
    }
   ],
   "source": [
    "a:=index(size()$F quo 3)$F"
   ]
  },
  {
   "cell_type": "code",
   "execution_count": 308,
   "metadata": {
    "collapsed": false
   },
   "outputs": [
    {
     "data": {
      "text/plain": [
       "     4      2\n",
       "   %O  + 2%O  + %O + 2\n",
       "                Type: FiniteFieldExtensionByPolynomial(PrimeField(3),?^6+?+2)\n"
      ]
     },
     "execution_count": 308,
     "metadata": {},
     "output_type": "execute_result"
    }
   ],
   "source": [
    "b:=index(size()$F quo 7)$F"
   ]
  },
  {
   "cell_type": "code",
   "execution_count": 309,
   "metadata": {
    "collapsed": false
   },
   "outputs": [
    {
     "data": {
      "text/plain": [
       "       5      4       3      2\n",
       "      q      q       q      q      q\n",
       "   2%N   + %N   + 2%N   + %N   + %N\n",
       "Type: FiniteFieldNormalBasisExtensionByPolynomial(PrimeField(3),?^6+2*?^5+?^3+1)\n"
      ]
     },
     "execution_count": 309,
     "metadata": {},
     "output_type": "execute_result"
    }
   ],
   "source": [
    "an:=coerce(a)$FFHOM(F,P3,N)"
   ]
  },
  {
   "cell_type": "code",
   "execution_count": 310,
   "metadata": {
    "collapsed": false
   },
   "outputs": [
    {
     "data": {
      "text/plain": [
       "       3      2\n",
       "      q      q\n",
       "   2%N   + %N\n",
       "Type: FiniteFieldNormalBasisExtensionByPolynomial(PrimeField(3),?^6+2*?^5+?^3+1)\n"
      ]
     },
     "execution_count": 310,
     "metadata": {},
     "output_type": "execute_result"
    }
   ],
   "source": [
    "bn:=coerce(b)$FFHOM(F,P3,N)"
   ]
  },
  {
   "cell_type": "code",
   "execution_count": 311,
   "metadata": {
    "collapsed": false
   },
   "outputs": [
    {
     "data": {
      "text/plain": [
       "       5      4      3      2\n",
       "      q      q      q      q      q\n",
       "   2%N   + %N   + %N   + %N   + %N  + 2%N\n",
       "Type: FiniteFieldNormalBasisExtensionByPolynomial(PrimeField(3),?^6+2*?^5+?^3+1)\n"
      ]
     },
     "execution_count": 311,
     "metadata": {},
     "output_type": "execute_result"
    }
   ],
   "source": [
    "cn := an*bn"
   ]
  },
  {
   "cell_type": "markdown",
   "metadata": {},
   "source": [
    " should be the same as\n"
   ]
  },
  {
   "cell_type": "code",
   "execution_count": 312,
   "metadata": {
    "collapsed": false
   },
   "outputs": [
    {
     "data": {
      "text/plain": [
       "      5      4     3     2\n",
       "   2%O  + 2%O  + %O  + %O  + %O + 1\n",
       "                Type: FiniteFieldExtensionByPolynomial(PrimeField(3),?^6+?+2)\n"
      ]
     },
     "execution_count": 312,
     "metadata": {},
     "output_type": "execute_result"
    }
   ],
   "source": [
    "coerce(cn)$FFHOM(F,P3,N)"
   ]
  },
  {
   "cell_type": "markdown",
   "metadata": {},
   "source": [
    " coercion between fields of different extension degree\n"
   ]
  },
  {
   "cell_type": "code",
   "execution_count": 313,
   "metadata": {
    "collapsed": false
   },
   "outputs": [
    {
     "data": {
      "text/plain": [
       "      5      4     3     2\n",
       "   2%O  + 2%O  + %O  + %O  + %O + 1\n",
       "                Type: FiniteFieldExtensionByPolynomial(PrimeField(3),?^6+?+2)\n"
      ]
     },
     "execution_count": 313,
     "metadata": {},
     "output_type": "execute_result"
    }
   ],
   "source": [
    "c:=a*b"
   ]
  },
  {
   "cell_type": "code",
   "execution_count": 314,
   "metadata": {
    "collapsed": false
   },
   "outputs": [
    {
     "data": {
      "text/plain": [
       "   FiniteFieldCyclicGroupExtensionByPolynomial(PrimeField(3),?^3+2*?+1)\n",
       "                                                                   Type: Type\n"
      ]
     },
     "execution_count": 314,
     "metadata": {},
     "output_type": "execute_result"
    }
   ],
   "source": [
    "C:=FFCGP(P3,fp)"
   ]
  },
  {
   "cell_type": "code",
   "execution_count": 315,
   "metadata": {
    "collapsed": false
   },
   "outputs": [
    {
     "data": {
      "text/plain": [
       "   FiniteFieldNormalBasisExtensionByPolynomial(PrimeField(3),?^6+2*?^5+?^3+1)\n",
       "                                                                   Type: Type\n"
      ]
     },
     "execution_count": 315,
     "metadata": {},
     "output_type": "execute_result"
    }
   ],
   "source": [
    "N:=FFNBP(P3,fn)"
   ]
  },
  {
   "cell_type": "code",
   "execution_count": 316,
   "metadata": {
    "collapsed": false
   },
   "outputs": [
    {
     "data": {
      "text/plain": [
       "     8\n",
       "   %P\n",
       "   Type: FiniteFieldCyclicGroupExtensionByPolynomial(PrimeField(3),?^3+2*?+1)\n"
      ]
     },
     "execution_count": 316,
     "metadata": {},
     "output_type": "execute_result"
    }
   ],
   "source": [
    "a:=index(size()$C quo 3)$C"
   ]
  },
  {
   "cell_type": "code",
   "execution_count": 317,
   "metadata": {
    "collapsed": false
   },
   "outputs": [
    {
     "data": {
      "text/plain": [
       "     2\n",
       "   %P\n",
       "   Type: FiniteFieldCyclicGroupExtensionByPolynomial(PrimeField(3),?^3+2*?+1)\n"
      ]
     },
     "execution_count": 317,
     "metadata": {},
     "output_type": "execute_result"
    }
   ],
   "source": [
    "b:=index(size()$C quo 7)$C"
   ]
  },
  {
   "cell_type": "code",
   "execution_count": 318,
   "metadata": {
    "collapsed": false
   },
   "outputs": [
    {
     "data": {
      "text/plain": [
       "       4       3\n",
       "      q       q       q\n",
       "   2%N   + 2%N   + 2%N  + 2%N\n",
       "Type: FiniteFieldNormalBasisExtensionByPolynomial(PrimeField(3),?^6+2*?^5+?^3+1)\n"
      ]
     },
     "execution_count": 318,
     "metadata": {},
     "output_type": "execute_result"
    }
   ],
   "source": [
    "an:=coerce(a)$FFHOM(C,P3,N)"
   ]
  },
  {
   "cell_type": "code",
   "execution_count": 319,
   "metadata": {
    "collapsed": false
   },
   "outputs": [
    {
     "data": {
      "text/plain": [
       "       5       2\n",
       "      q       q\n",
       "   2%N   + 2%N\n",
       "Type: FiniteFieldNormalBasisExtensionByPolynomial(PrimeField(3),?^6+2*?^5+?^3+1)\n"
      ]
     },
     "execution_count": 319,
     "metadata": {},
     "output_type": "execute_result"
    }
   ],
   "source": [
    "bn:=coerce(b)$FFHOM(C,P3,N)"
   ]
  },
  {
   "cell_type": "code",
   "execution_count": 320,
   "metadata": {
    "collapsed": false
   },
   "outputs": [
    {
     "data": {
      "text/plain": [
       "       5       4       3       2\n",
       "      q       q       q       q       q\n",
       "   2%N   + 2%N   + 2%N   + 2%N   + 2%N  + 2%N\n",
       "Type: FiniteFieldNormalBasisExtensionByPolynomial(PrimeField(3),?^6+2*?^5+?^3+1)\n"
      ]
     },
     "execution_count": 320,
     "metadata": {},
     "output_type": "execute_result"
    }
   ],
   "source": [
    "cn := an+bn"
   ]
  },
  {
   "cell_type": "markdown",
   "metadata": {},
   "source": [
    " should be the same as\n"
   ]
  },
  {
   "cell_type": "code",
   "execution_count": 321,
   "metadata": {
    "collapsed": false
   },
   "outputs": [
    {
     "data": {
      "text/plain": [
       "     13\n",
       "   %P\n",
       "   Type: FiniteFieldCyclicGroupExtensionByPolynomial(PrimeField(3),?^3+2*?+1)\n"
      ]
     },
     "execution_count": 321,
     "metadata": {},
     "output_type": "execute_result"
    }
   ],
   "source": [
    "coerce(cn)$FFHOM(C,P3,N)"
   ]
  },
  {
   "cell_type": "markdown",
   "metadata": {},
   "source": [
    " comparison of computation times for arithmetic operations\n"
   ]
  },
  {
   "cell_type": "code",
   "execution_count": 322,
   "metadata": {
    "collapsed": false
   },
   "outputs": [
    {
     "data": {
      "text/plain": [
       "     13\n",
       "   %P\n",
       "   Type: FiniteFieldCyclicGroupExtensionByPolynomial(PrimeField(3),?^3+2*?+1)\n"
      ]
     },
     "execution_count": 322,
     "metadata": {},
     "output_type": "execute_result"
    }
   ],
   "source": [
    "c:=a+b"
   ]
  },
  {
   "cell_type": "code",
   "execution_count": 323,
   "metadata": {
    "collapsed": false
   },
   "outputs": [
    {
     "data": {
      "text/plain": [
       "    5     4\n",
       "   ?  + 2?  + 1\n",
       "                              Type: SparseUnivariatePolynomial(PrimeField(3))\n"
      ]
     },
     "execution_count": 323,
     "metadata": {},
     "output_type": "execute_result"
    }
   ],
   "source": [
    "f:=createPrimitiveNormalPoly(5)$FFPOLY(P3)"
   ]
  },
  {
   "cell_type": "code",
   "execution_count": 324,
   "metadata": {
    "collapsed": false
   },
   "outputs": [
    {
     "data": {
      "text/plain": [
       "   FiniteFieldExtensionByPolynomial(PrimeField(3),?^5+2*?^4+1)\n",
       "                                                                   Type: Type\n"
      ]
     },
     "execution_count": 324,
     "metadata": {},
     "output_type": "execute_result"
    }
   ],
   "source": [
    "FP:=FFP(P3,f)"
   ]
  },
  {
   "cell_type": "code",
   "execution_count": 325,
   "metadata": {
    "collapsed": false
   },
   "outputs": [
    {
     "data": {
      "text/plain": [
       "   FiniteFieldCyclicGroupExtensionByPolynomial(PrimeField(3),?^5+2*?^4+1)\n",
       "                                                                   Type: Type\n"
      ]
     },
     "execution_count": 325,
     "metadata": {},
     "output_type": "execute_result"
    }
   ],
   "source": [
    "Fc:=FFCGP(P3,f)  -- FC is a domain abbreviation"
   ]
  },
  {
   "cell_type": "code",
   "execution_count": 326,
   "metadata": {
    "collapsed": false
   },
   "outputs": [
    {
     "data": {
      "text/plain": [
       "   FiniteFieldNormalBasisExtensionByPolynomial(PrimeField(3),?^5+2*?^4+1)\n",
       "                                                                   Type: Type\n"
      ]
     },
     "execution_count": 326,
     "metadata": {},
     "output_type": "execute_result"
    }
   ],
   "source": [
    "FN:=FFNBP(P3,f)"
   ]
  },
  {
   "cell_type": "code",
   "execution_count": 327,
   "metadata": {
    "collapsed": false
   },
   "outputs": [
    {
     "data": {
      "text/plain": [
       "     4\n",
       "   %Q\n",
       "            Type: FiniteFieldExtensionByPolynomial(PrimeField(3),?^5+2*?^4+1)\n"
      ]
     },
     "execution_count": 327,
     "metadata": {},
     "output_type": "execute_result"
    }
   ],
   "source": [
    "ap:=index(size()$FP quo 3)$FP"
   ]
  },
  {
   "cell_type": "code",
   "execution_count": 328,
   "metadata": {
    "collapsed": false
   },
   "outputs": [
    {
     "data": {
      "text/plain": [
       "     4\n",
       "   %R\n",
       " Type: FiniteFieldCyclicGroupExtensionByPolynomial(PrimeField(3),?^5+2*?^4+1)\n"
      ]
     },
     "execution_count": 328,
     "metadata": {},
     "output_type": "execute_result"
    }
   ],
   "source": [
    "ac:=coerce(ap)$FFHOM(Fc,P3,FP)"
   ]
  },
  {
   "cell_type": "code",
   "execution_count": 329,
   "metadata": {
    "collapsed": false
   },
   "outputs": [
    {
     "data": {
      "text/plain": [
       "       3       2\n",
       "      q       q       q\n",
       "   2%S   + 2%S   + 2%S  + %S\n",
       " Type: FiniteFieldNormalBasisExtensionByPolynomial(PrimeField(3),?^5+2*?^4+1)\n"
      ]
     },
     "execution_count": 329,
     "metadata": {},
     "output_type": "execute_result"
    }
   ],
   "source": [
    "an:=coerce(ap)$FFHOM(FN,P3,FP)"
   ]
  },
  {
   "cell_type": "code",
   "execution_count": 330,
   "metadata": {
    "collapsed": false
   },
   "outputs": [
    {
     "data": {
      "text/plain": [
       "     3\n",
       "   %Q  + 2%Q + 1\n",
       "            Type: FiniteFieldExtensionByPolynomial(PrimeField(3),?^5+2*?^4+1)\n"
      ]
     },
     "execution_count": 330,
     "metadata": {},
     "output_type": "execute_result"
    }
   ],
   "source": [
    "bp:=index(size()$FP quo 7)$FP"
   ]
  },
  {
   "cell_type": "code",
   "execution_count": 331,
   "metadata": {
    "collapsed": false
   },
   "outputs": [
    {
     "data": {
      "text/plain": [
       "     133\n",
       "   %R\n",
       " Type: FiniteFieldCyclicGroupExtensionByPolynomial(PrimeField(3),?^5+2*?^4+1)\n"
      ]
     },
     "execution_count": 331,
     "metadata": {},
     "output_type": "execute_result"
    }
   ],
   "source": [
    "bc:=coerce(bp)$FFHOM(Fc,P3,FP)"
   ]
  },
  {
   "cell_type": "markdown",
   "metadata": {},
   "source": [
    " the next are to initialize the fields\n"
   ]
  },
  {
   "cell_type": "code",
   "execution_count": 332,
   "metadata": {
    "collapsed": false
   },
   "outputs": [
    {
     "data": {
      "text/plain": [
       "      4      3      2\n",
       "     q      q      q       q\n",
       "   %S   + %S   + %S   + 2%S\n",
       " Type: FiniteFieldNormalBasisExtensionByPolynomial(PrimeField(3),?^5+2*?^4+1)\n"
      ]
     },
     "execution_count": 332,
     "metadata": {},
     "output_type": "execute_result"
    }
   ],
   "source": [
    "bn:=coerce(bp)$FFHOM(FN,P3,FP)"
   ]
  },
  {
   "cell_type": "code",
   "execution_count": 333,
   "metadata": {
    "collapsed": false
   },
   "outputs": [
    {
     "data": {
      "text/plain": [
       "     187\n",
       "   %R\n",
       " Type: FiniteFieldCyclicGroupExtensionByPolynomial(PrimeField(3),?^5+2*?^4+1)\n"
      ]
     },
     "execution_count": 333,
     "metadata": {},
     "output_type": "execute_result"
    }
   ],
   "source": [
    "ac+bc"
   ]
  },
  {
   "cell_type": "markdown",
   "metadata": {},
   "source": [
    " now we can compare\n"
   ]
  },
  {
   "cell_type": "code",
   "execution_count": 334,
   "metadata": {
    "collapsed": false
   },
   "outputs": [
    {
     "data": {
      "text/plain": [
       "      4      2\n",
       "     q      q      q\n",
       "   %S   + %S   + %S  + 2%S\n",
       " Type: FiniteFieldNormalBasisExtensionByPolynomial(PrimeField(3),?^5+2*?^4+1)\n"
      ]
     },
     "execution_count": 334,
     "metadata": {},
     "output_type": "execute_result"
    }
   ],
   "source": [
    "an*bn"
   ]
  },
  {
   "cell_type": "markdown",
   "metadata": {},
   "source": [
    " addition\n"
   ]
  },
  {
   "cell_type": "code",
   "execution_count": 335,
   "metadata": {
    "collapsed": false
   },
   "outputs": [
    {
     "data": {
      "text/plain": []
     },
     "execution_count": 335,
     "metadata": {},
     "output_type": "execute_result"
    }
   ],
   "source": [
    ")set message time on"
   ]
  },
  {
   "cell_type": "code",
   "execution_count": 336,
   "metadata": {
    "collapsed": false
   },
   "outputs": [
    {
     "data": {
      "text/plain": [
       "     4     3\n",
       "   %Q  + %Q  + 2%Q + 1\n",
       "Type: FiniteFieldExtensionByPolynomial(PrimeField(3),?^5+2*?^4+1)\n"
      ]
     },
     "execution_count": 336,
     "metadata": {},
     "output_type": "execute_result"
    }
   ],
   "source": [
    "ap+bp"
   ]
  },
  {
   "cell_type": "code",
   "execution_count": 337,
   "metadata": {
    "collapsed": false
   },
   "outputs": [
    {
     "data": {
      "text/plain": [
       "      4\n",
       "     q      q\n",
       "   %S   + %S  + %S\n",
       "Type: FiniteFieldNormalBasisExtensionByPolynomial(PrimeField(3),?^5+2*?^4+1)\n"
      ]
     },
     "execution_count": 337,
     "metadata": {},
     "output_type": "execute_result"
    }
   ],
   "source": [
    "an+bn"
   ]
  },
  {
   "cell_type": "markdown",
   "metadata": {},
   "source": [
    " multiplication\n"
   ]
  },
  {
   "cell_type": "code",
   "execution_count": 338,
   "metadata": {
    "collapsed": false
   },
   "outputs": [
    {
     "data": {
      "text/plain": [
       "     187\n",
       "   %R\n",
       "Type: FiniteFieldCyclicGroupExtensionByPolynomial(PrimeField(3),?^5+2*?^4+1)\n"
      ]
     },
     "execution_count": 338,
     "metadata": {},
     "output_type": "execute_result"
    }
   ],
   "source": [
    "ac+bc"
   ]
  },
  {
   "cell_type": "code",
   "execution_count": 339,
   "metadata": {
    "collapsed": false
   },
   "outputs": [
    {
     "data": {
      "text/plain": [
       "     4      2\n",
       "   %Q  + 2%Q  + 2%Q\n",
       "Type: FiniteFieldExtensionByPolynomial(PrimeField(3),?^5+2*?^4+1)\n"
      ]
     },
     "execution_count": 339,
     "metadata": {},
     "output_type": "execute_result"
    }
   ],
   "source": [
    "ap*bp"
   ]
  },
  {
   "cell_type": "code",
   "execution_count": 340,
   "metadata": {
    "collapsed": false
   },
   "outputs": [
    {
     "data": {
      "text/plain": [
       "      4      2\n",
       "     q      q      q\n",
       "   %S   + %S   + %S  + 2%S\n",
       "Type: FiniteFieldNormalBasisExtensionByPolynomial(PrimeField(3),?^5+2*?^4+1)\n"
      ]
     },
     "execution_count": 340,
     "metadata": {},
     "output_type": "execute_result"
    }
   ],
   "source": [
    "an*bn"
   ]
  },
  {
   "cell_type": "markdown",
   "metadata": {},
   "source": [
    " discrete logarithms\n"
   ]
  },
  {
   "cell_type": "code",
   "execution_count": 341,
   "metadata": {
    "collapsed": false
   },
   "outputs": [
    {
     "data": {
      "text/plain": [
       "     137\n",
       "   %R\n",
       "Type: FiniteFieldCyclicGroupExtensionByPolynomial(PrimeField(3),?^5+2*?^4+1)\n"
      ]
     },
     "execution_count": 341,
     "metadata": {},
     "output_type": "execute_result"
    }
   ],
   "source": [
    "ac*bc"
   ]
  },
  {
   "cell_type": "code",
   "execution_count": 342,
   "metadata": {
    "collapsed": false
   },
   "outputs": [
    {
     "data": {
      "text/plain": [
       "   4\n",
       "Type: PositiveInteger\n"
      ]
     },
     "execution_count": 342,
     "metadata": {},
     "output_type": "execute_result"
    }
   ],
   "source": [
    "discreteLog(ap)"
   ]
  },
  {
   "cell_type": "code",
   "execution_count": 343,
   "metadata": {
    "collapsed": false
   },
   "outputs": [
    {
     "data": {
      "text/plain": [
       "   4\n",
       "Type: PositiveInteger\n"
      ]
     },
     "execution_count": 343,
     "metadata": {},
     "output_type": "execute_result"
    }
   ],
   "source": [
    "discreteLog(an)"
   ]
  },
  {
   "cell_type": "markdown",
   "metadata": {},
   "source": [
    " exponentiation\n"
   ]
  },
  {
   "cell_type": "code",
   "execution_count": 344,
   "metadata": {
    "collapsed": false
   },
   "outputs": [
    {
     "data": {
      "text/plain": [
       "   4\n",
       "Type: PositiveInteger\n"
      ]
     },
     "execution_count": 344,
     "metadata": {},
     "output_type": "execute_result"
    }
   ],
   "source": [
    "discreteLog(ac)"
   ]
  },
  {
   "cell_type": "code",
   "execution_count": 345,
   "metadata": {
    "collapsed": false
   },
   "outputs": [
    {
     "data": {
      "text/plain": [
       "      4     2\n",
       "   2%Q  + %Q  + %Q\n",
       "Type: FiniteFieldExtensionByPolynomial(PrimeField(3),?^5+2*?^4+1)\n"
      ]
     },
     "execution_count": 345,
     "metadata": {},
     "output_type": "execute_result"
    }
   ],
   "source": [
    "ap^1234567"
   ]
  },
  {
   "cell_type": "code",
   "execution_count": 346,
   "metadata": {
    "collapsed": false
   },
   "outputs": [
    {
     "data": {
      "text/plain": [
       "       4       2\n",
       "      q       q       q\n",
       "   2%S   + 2%S   + 2%S  + %S\n",
       "Type: FiniteFieldNormalBasisExtensionByPolynomial(PrimeField(3),?^5+2*?^4+1)\n"
      ]
     },
     "execution_count": 346,
     "metadata": {},
     "output_type": "execute_result"
    }
   ],
   "source": [
    "an^1234567"
   ]
  },
  {
   "cell_type": "markdown",
   "metadata": {},
   "source": [
    " computations between elements of field of different representation\n"
   ]
  },
  {
   "cell_type": "code",
   "execution_count": 347,
   "metadata": {
    "collapsed": false
   },
   "outputs": [
    {
     "data": {
      "text/plain": [
       "     16\n",
       "   %R\n",
       "Type: FiniteFieldCyclicGroupExtensionByPolynomial(PrimeField(3),?^5+2*?^4+1)\n"
      ]
     },
     "execution_count": 347,
     "metadata": {},
     "output_type": "execute_result"
    }
   ],
   "source": [
    "ac^1234567"
   ]
  },
  {
   "cell_type": "code",
   "execution_count": 348,
   "metadata": {
    "collapsed": false
   },
   "outputs": [
    {
     "data": {
      "text/plain": [
       "     187\n",
       "   %R\n",
       "Type: FiniteFieldCyclicGroupExtensionByPolynomial(PrimeField(3),?^5+2*?^4+1)\n"
      ]
     },
     "execution_count": 348,
     "metadata": {},
     "output_type": "execute_result"
    }
   ],
   "source": [
    "ap+bc"
   ]
  },
  {
   "cell_type": "code",
   "execution_count": 349,
   "metadata": {
    "collapsed": false
   },
   "outputs": [
    {
     "data": {
      "text/plain": [
       "     187\n",
       "   %R\n",
       "Type: FiniteFieldCyclicGroupExtensionByPolynomial(PrimeField(3),?^5+2*?^4+1)\n"
      ]
     },
     "execution_count": 349,
     "metadata": {},
     "output_type": "execute_result"
    }
   ],
   "source": [
    "an+bc"
   ]
  },
  {
   "cell_type": "code",
   "execution_count": 350,
   "metadata": {
    "collapsed": false
   },
   "outputs": [
    {
     "data": {
      "text/plain": [
       "     4     3\n",
       "   %Q  + %Q  + 2%Q + 1\n",
       "Type: FiniteFieldExtensionByPolynomial(PrimeField(3),?^5+2*?^4+1)\n"
      ]
     },
     "execution_count": 350,
     "metadata": {},
     "output_type": "execute_result"
    }
   ],
   "source": [
    "an+bp"
   ]
  },
  {
   "cell_type": "code",
   "execution_count": 351,
   "metadata": {
    "collapsed": false
   },
   "outputs": [
    {
     "name": "stderr",
     "output_type": "stream",
     "text": [
      "INDEX-TOO-LARGE-ERROR: \n",
      "  #<SB-KERNEL:INDEX-TOO-LARGE-ERROR expected-type: (INTEGER 0 (0)) datum: 0>\n"
     ]
    },
    {
     "data": {
      "text/plain": []
     },
     "execution_count": 351,
     "metadata": {},
     "output_type": "execute_result"
    }
   ],
   "source": []
  }
 ],
 "metadata": {
  "kernelspec": {
   "display_name": "FriCAS",
   "language": "spad",
   "name": "ifricas"
  },
  "language_info": {
   "codemirror_mode": "spad",
   "mimetype": "text/x-spad",
   "name": "SPAD",
   "pygments_lexer": "spad",
   "version": "1.2.6"
  },
  "name": "ffdemo.ipynb"
 },
 "nbformat": 4,
 "nbformat_minor": 0
}