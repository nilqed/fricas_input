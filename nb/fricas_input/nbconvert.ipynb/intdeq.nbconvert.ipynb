{
 "cells": [
  {
   "cell_type": "markdown",
   "metadata": {},
   "source": [
    "Copyright The Numerical Algorithms Group Limited 1994.\n"
   ]
  },
  {
   "cell_type": "code",
   "execution_count": 0,
   "metadata": {
    "collapsed": false
   },
   "outputs": [
    {
     "name": "stdout",
     "output_type": "stream",
     "text": [
      "   All user variables and function definitions have been cleared.\n"
     ]
    },
    {
     "data": {
      "text/plain": []
     },
     "execution_count": 0,
     "metadata": {},
     "output_type": "execute_result"
    }
   ],
   "source": [
    ")clear all"
   ]
  },
  {
   "cell_type": "code",
   "execution_count": 1,
   "metadata": {
    "collapsed": false
   },
   "outputs": [
    {
     "name": "stdout",
     "output_type": "stream",
     "text": [
      "Warning: HyperTeX macro table not found\n"
     ]
    },
    {
     "data": {
      "text/plain": [
       "   y\n",
       "                                                          Type: BasicOperator\n"
      ]
     },
     "execution_count": 1,
     "metadata": {},
     "output_type": "execute_result"
    }
   ],
   "source": [
    "y := operator y"
   ]
  },
  {
   "cell_type": "code",
   "execution_count": 2,
   "metadata": {
    "collapsed": false
   },
   "outputs": [
    {
     "data": {
      "text/plain": [
       "    ,,          ,        2\n",
       "   y  (x) + 2w y (x) + w  y(x)\n",
       "              0         0\n",
       "                                                    Type: Expression(Integer)\n"
      ]
     },
     "execution_count": 2,
     "metadata": {},
     "output_type": "execute_result"
    }
   ],
   "source": [
    "deq := differentiate(y x, x, 2) + 2*w[0]*differentiate(y x, x) + w[0]^2*y x"
   ]
  },
  {
   "cell_type": "code",
   "execution_count": 3,
   "metadata": {
    "collapsed": false
   },
   "outputs": [
    {
     "data": {
      "text/plain": [
       "                                                 - w x\n",
       "       2     2               3     2                0\n",
       "   (- w  + w  )sin(w x) + ((w  + w  w)x + 2w w)%e      - 2w w cos(w x)\n",
       "            0                     0         0              0\n",
       "   -------------------------------------------------------------------\n",
       "                             4      2 2     4\n",
       "                            w  + 2w  w  + w\n",
       "                                   0       0\n",
       "                                         Type: Union(Expression(Integer),...)\n"
      ]
     },
     "execution_count": 3,
     "metadata": {},
     "output_type": "execute_result"
    }
   ],
   "source": [
    "sol:= solve(deq = sin (w*x), y, x=0,[0,0])"
   ]
  },
  {
   "cell_type": "code",
   "execution_count": 4,
   "metadata": {
    "collapsed": false
   },
   "outputs": [
    {
     "name": "stdout",
     "output_type": "stream",
     "text": [
      "      "
     ]
    },
    {
     "data": {
      "text/plain": [
       "           2     2         2\n",
       "       (- w  + w  )sin(w x)\n",
       "                0\n",
       "     + \n",
       "                               - w x\n",
       "           3     2                0\n",
       "       (((w  + w  w)x + 2w w)%e      - 2w w cos(w x))sin(w x)\n",
       "                0         0              0\n",
       "  /\n",
       "      4      2 2     4\n",
       "     w  + 2w  w  + w\n",
       "            0       0\n",
       "                                                    Type: Expression(Integer)\n"
      ]
     },
     "execution_count": 4,
     "metadata": {},
     "output_type": "execute_result"
    }
   ],
   "source": [
    "work:= sol *sin(w*x)"
   ]
  },
  {
   "cell_type": "code",
   "execution_count": 5,
   "metadata": {
    "collapsed": false
   },
   "outputs": [
    {
     "name": "stdout",
     "output_type": "stream",
     "text": [
      "                "
     ]
    },
    {
     "data": {
      "text/plain": [
       "                                                - w x\n",
       "                  4      3 2       4      2 2      0      4     4\n",
       "         (((- 2w w  - 2w  w )x + 2w  - 6w  w )%e      + (w  - w  )cos(w x))\n",
       "                0       0                0                     0\n",
       "      *\n",
       "         sin(w x)\n",
       "     + \n",
       "                                            - w x\n",
       "             5      2 3         3              0         3      3          2\n",
       "       ((- 2w  - 2w  w )x - 8w w )cos(w x)%e      + (2w w  + 2w  w)cos(w x)\n",
       "                   0          0                        0       0\n",
       "     + \n",
       "           5     4\n",
       "       (- w  + w  w)x\n",
       "                0\n",
       "  /\n",
       "       7      2 5      4 3      6\n",
       "     2w  + 6w  w  + 6w  w  + 2w  w\n",
       "             0        0        0\n",
       "                                         Type: Union(Expression(Integer),...)\n"
      ]
     },
     "execution_count": 5,
     "metadata": {},
     "output_type": "execute_result"
    }
   ],
   "source": [
    "integrate(work,x)"
   ]
  },
  {
   "cell_type": "code",
   "execution_count": 6,
   "metadata": {
    "collapsed": false
   },
   "outputs": [
    {
     "data": {
      "text/plain": [
       "     2     2         2     2     2         2    2     2\n",
       "   (w  - w  )sin(w x)  + (w  - w  )cos(w x)  - w  + w\n",
       "          0                     0                    0\n",
       "   ----------------------------------------------------\n",
       "                      4      2 2      4\n",
       "                    2w  + 4w  w  + 2w\n",
       "                            0        0\n",
       "                                                    Type: Expression(Integer)\n"
      ]
     },
     "execution_count": 6,
     "metadata": {},
     "output_type": "execute_result"
    }
   ],
   "source": [
    "D(%,x)-work"
   ]
  },
  {
   "cell_type": "code",
   "execution_count": 7,
   "metadata": {
    "collapsed": false
   },
   "outputs": [
    {
     "data": {
      "text/plain": [
       "   0\n",
       "                                                    Type: Expression(Integer)\n"
      ]
     },
     "execution_count": 7,
     "metadata": {},
     "output_type": "execute_result"
    }
   ],
   "source": [
    "simplify %"
   ]
  },
  {
   "cell_type": "code",
   "execution_count": 8,
   "metadata": {
    "collapsed": false
   },
   "outputs": [
    {
     "name": "stderr",
     "output_type": "stream",
     "text": [
      "INDEX-TOO-LARGE-ERROR: \n",
      "  #<SB-KERNEL:INDEX-TOO-LARGE-ERROR expected-type: (INTEGER 0 (0)) datum: 0>\n"
     ]
    },
    {
     "data": {
      "text/plain": []
     },
     "execution_count": 8,
     "metadata": {},
     "output_type": "execute_result"
    }
   ],
   "source": []
  }
 ],
 "metadata": {
  "kernelspec": {
   "display_name": "FriCAS",
   "language": "spad",
   "name": "ifricas"
  },
  "language_info": {
   "codemirror_mode": "spad",
   "mimetype": "text/x-spad",
   "name": "SPAD",
   "pygments_lexer": "spad",
   "version": "1.2.6"
  },
  "name": "intdeq.ipynb"
 },
 "nbformat": 4,
 "nbformat_minor": 0
}