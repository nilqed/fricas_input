{
 "cells": [
  {
   "cell_type": "markdown",
   "metadata": {},
   "source": [
    "Copyright The Numerical Algorithms Group Limited 1991.\n",
    "\n",
    "  example of Noonburg\n",
    "\n"
   ]
  },
  {
   "cell_type": "code",
   "execution_count": 0,
   "metadata": {
    "collapsed": false
   },
   "outputs": [
    {
     "data": {
      "text/plain": [
       "   Fraction(Integer)\n",
       "                                                                   Type: Type\n"
      ]
     },
     "execution_count": 0,
     "metadata": {},
     "output_type": "execute_result"
    }
   ],
   "source": [
    "RN := Fraction Integer"
   ]
  },
  {
   "cell_type": "code",
   "execution_count": 1,
   "metadata": {
    "collapsed": false
   },
   "outputs": [
    {
     "data": {
      "text/plain": [
       "   DistributedMultivariatePolynomial([x,y,z,c],Fraction(Integer))\n",
       "                                                                   Type: Type\n"
      ]
     },
     "execution_count": 1,
     "metadata": {},
     "output_type": "execute_result"
    }
   ],
   "source": [
    "dmp0 := DMP([x,y,z,c],RN)"
   ]
  },
  {
   "cell_type": "code",
   "execution_count": 2,
   "metadata": {
    "collapsed": false
   },
   "outputs": [
    {
     "name": "stdout",
     "output_type": "stream",
     "text": [
      "Warning: HyperTeX macro table not found\n"
     ]
    },
    {
     "data": {
      "text/plain": [
       "      2      2\n",
       "   x y  + x z  - x c + 1\n",
       "         Type: DistributedMultivariatePolynomial([x,y,z,c],Fraction(Integer))\n"
      ]
     },
     "execution_count": 2,
     "metadata": {},
     "output_type": "execute_result"
    }
   ],
   "source": [
    "px : dmp0 := 1-c*x +x*(y^2 + z^2)"
   ]
  },
  {
   "cell_type": "code",
   "execution_count": 3,
   "metadata": {
    "collapsed": false
   },
   "outputs": [
    {
     "data": {
      "text/plain": [
       "    2       2\n",
       "   x y + y z  - y c + 1\n",
       "         Type: DistributedMultivariatePolynomial([x,y,z,c],Fraction(Integer))\n"
      ]
     },
     "execution_count": 3,
     "metadata": {},
     "output_type": "execute_result"
    }
   ],
   "source": [
    "py : dmp0 := 1-c*y +y*(z^2 + x^2)"
   ]
  },
  {
   "cell_type": "code",
   "execution_count": 4,
   "metadata": {
    "collapsed": false
   },
   "outputs": [
    {
     "data": {
      "text/plain": [
       "    2     2\n",
       "   x z + y z - z c + 1\n",
       "         Type: DistributedMultivariatePolynomial([x,y,z,c],Fraction(Integer))\n"
      ]
     },
     "execution_count": 4,
     "metadata": {},
     "output_type": "execute_result"
    }
   ],
   "source": [
    "pz : dmp0 := 1-c*z +z*(x^2 + y^2)"
   ]
  },
  {
   "cell_type": "code",
   "execution_count": 5,
   "metadata": {
    "collapsed": false
   },
   "outputs": [
    {
     "name": "stdout",
     "output_type": "stream",
     "text": [
      "\n",
      "\n",
      "\n",
      "      \n",
      "      \n",
      "      \n",
      "\n",
      "\n",
      "\n",
      "\n",
      "      \n",
      "      \n",
      "\n",
      "\n",
      "\n",
      "\n",
      "\n"
     ]
    },
    {
     "data": {
      "text/plain": [
       "   [\n",
       "           3 2     2    1    3       1  2       3 2     2    1    3       1  2\n",
       "     [x - z c  + 2z c + - z c  - z + - c , y - z c  + 2z c + - z c  - z + - c ,\n",
       "                        2            2                       2            2\n",
       "       4     3   1  2 2         1\n",
       "      z c - z  - - z c  - z c - -]\n",
       "                 2              2\n",
       "     ,\n",
       "\n",
       "     [\n",
       "              1    3   1      1  3 5   4  3 2    2  2 4   8  2    4    3\n",
       "         x - -- y c  - - y + -- z c  - - z c  - -- z c  + - z c - - z c  + z\n",
       "             15        5     15        5        15        5       3\n",
       "       + \n",
       "            1  5   2  2\n",
       "         - -- c  + - c\n",
       "           30      5\n",
       "       ,\n",
       "\n",
       "          2    1    5    7    2    2  3 4   8  3     4  2 3   11  2    1    5\n",
       "         y  + -- y c  - -- y c  - -- z c  + - z c + -- z c  - -- z  + -- z c\n",
       "              90        15        15        5       15         5      18\n",
       "       + \n",
       "           1    2    1  4   9\n",
       "         - - z c  + -- c  - - c\n",
       "           3        15      5\n",
       "       ,\n",
       "\n",
       "                1    5    7    2    2  3 4   2  3     4  2 3   1  2    1    5\n",
       "         y z - -- y c  + -- y c  + -- z c  + - z c - -- z c  + - z  - -- z c\n",
       "               90        15        15        5       15        5      18\n",
       "       + \n",
       "           2    2    1  4   1\n",
       "         - - z c  - -- c  - - c\n",
       "           3        15      5\n",
       "       ,\n",
       "       4    1  3 5    3 2   1  2         1   5   1  2   6      3\n",
       "      z  + -- z c  - z c  - - z c - z + --- c  - - c , c  - 54c  + 54]\n",
       "           54               2           108      2\n",
       "     ,\n",
       "                  2             3             4   3  2    1     1  2\n",
       "    [x - z,y z - z  + c,y c - 2z  + 2z c - 1,z  - - z c + - z + - c ],\n",
       "                                                  2       2     2\n",
       "\n",
       "           1    3   1      1   3 5    8  3 2    2    3   7      1   5    4  2\n",
       "     [x - -- y c  - - y - --- z c  + -- z c  - -- z c  - - z - --- c  + -- c ,\n",
       "          15        5     135        15        15        5     270      15\n",
       "\n",
       "          2    1    5    7    2    2   3 4   16  3     2    1    5   31    2\n",
       "         y  + -- y c  - -- y c  + --- z c  - -- z c + z  - -- z c  + -- z c\n",
       "              90        15        135        15            30        15\n",
       "       + \n",
       "          1   4   23\n",
       "         --- c  - -- c\n",
       "         135      15\n",
       "       ,\n",
       "\n",
       "                1    5    7    2    1  3 4   14  3     2    1    5   14    2\n",
       "         y z - -- y c  + -- y c  + -- z c  - -- z c - z  - -- z c  + -- z c\n",
       "               90        15        45        15            45        15\n",
       "       + \n",
       "          1  4    8\n",
       "         -- c  + -- c\n",
       "         90      15\n",
       "       ,\n",
       "       4   3  2    1     1  2   6      3\n",
       "      z  - - z c + - z + - c , c  - 54c  + 54]\n",
       "           2       2     2\n",
       "     ,\n",
       "                2          2      3\n",
       "    [x + y + z,y  + y z + z  - c,z  - z c - 1], [1],\n",
       "            2             3                   4   3  2    1     1  2\n",
       "    [x z - z  + c,x c - 2z  + 2z c - 1,y - z,z  - - z c + - z + - c ],\n",
       "                                                  2       2     2\n",
       "                  3   1       1\n",
       "    [x - z,y - z,z  - - z c + -]]\n",
       "                      2       2\n",
       "Type: List(List(DistributedMultivariatePolynomial([x,y,z,c],Fraction(Integer))))\n"
      ]
     },
     "execution_count": 5,
     "metadata": {},
     "output_type": "execute_result"
    }
   ],
   "source": [
    "gb0 := groebnerFactorize [px,py,pz]"
   ]
  },
  {
   "cell_type": "code",
   "execution_count": 6,
   "metadata": {
    "collapsed": false
   },
   "outputs": [
    {
     "name": "stderr",
     "output_type": "stream",
     "text": [
      "INDEX-TOO-LARGE-ERROR: \n",
      "  #<SB-KERNEL:INDEX-TOO-LARGE-ERROR expected-type: (INTEGER 0 (0)) datum: 0>\n"
     ]
    },
    {
     "data": {
      "text/plain": []
     },
     "execution_count": 6,
     "metadata": {},
     "output_type": "execute_result"
    }
   ],
   "source": []
  }
 ],
 "metadata": {
  "kernelspec": {
   "display_name": "FriCAS",
   "language": "spad",
   "name": "ifricas"
  },
  "language_info": {
   "codemirror_mode": "spad",
   "mimetype": "text/x-spad",
   "name": "SPAD",
   "pygments_lexer": "spad",
   "version": "1.2.6"
  },
  "name": "noonburg.ipynb"
 },
 "nbformat": 4,
 "nbformat_minor": 0
}