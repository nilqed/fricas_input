{
 "cells": [
  {
   "cell_type": "markdown",
   "metadata": {},
   "source": [
    "Copyright The Numerical Algorithms Group Limited 1994.\n",
    " Color gallery pages 3-4\n"
   ]
  },
  {
   "cell_type": "markdown",
   "metadata": {},
   "source": [
    " draw a seris of unfolding torus knots\n"
   ]
  },
  {
   "cell_type": "code",
   "execution_count": 0,
   "metadata": {
    "collapsed": false
   },
   "outputs": [
    {
     "name": "stderr",
     "output_type": "stream",
     "text": [
      " \n",
      "   The file tknot is needed but does not exist.\n",
      "\n"
     ]
    },
    {
     "data": {
      "text/plain": [
       "error\n"
      ]
     },
     "execution_count": 0,
     "metadata": {},
     "output_type": "execute_result"
    }
   ],
   "source": [
    ")read tknot"
   ]
  },
  {
   "cell_type": "code",
   "execution_count": 1,
   "metadata": {
    "collapsed": false
   },
   "outputs": [
    {
     "name": "stderr",
     "output_type": "stream",
     "text": [
      "Warning: HyperTeX macro table not found\n",
      "   There are no library operations named torusKnot \n",
      "      Use HyperDoc Browse or issue\n",
      "                             )what op torusKnot\n",
      "      to learn if there is any operation containing \" torusKnot \" in \n",
      "      its name.\n",
      "   Cannot find a definition or applicable library operation named \n",
      "      torusKnot with argument type(s) \n",
      "                               PositiveInteger\n",
      "                              Fraction(Integer)\n",
      "                                    Float\n",
      "                               PositiveInteger\n",
      "                               PositiveInteger\n",
      "      \n",
      "      Perhaps you should use \"@\" to indicate the required return type, \n",
      "      or \"$\" to specify which version of the function you need.\n",
      "   FriCAS will attempt to step through and interpret the code.\n",
      "   There are no library operations named torusKnot \n",
      "      Use HyperDoc Browse or issue\n",
      "                             )what op torusKnot\n",
      "      to learn if there is any operation containing \" torusKnot \" in \n",
      "      its name.\n",
      " \n",
      "   Cannot find a definition or applicable library operation named \n",
      "      torusKnot with argument type(s) \n",
      "                               PositiveInteger\n",
      "                              Fraction(Integer)\n",
      "                                    Float\n",
      "                               PositiveInteger\n",
      "                               PositiveInteger\n",
      "      \n",
      "      Perhaps you should use \"@\" to indicate the required return type, \n",
      "      or \"$\" to specify which version of the function you need.\n",
      "\n"
     ]
    },
    {
     "data": {
      "text/plain": [
       "error\n"
      ]
     },
     "execution_count": 1,
     "metadata": {},
     "output_type": "execute_result"
    }
   ],
   "source": [
    "for i in 0..4 repeat torusKnot(2, 2 + i/4, 0.5, 25, 250)"
   ]
  },
  {
   "cell_type": "code",
   "execution_count": 2,
   "metadata": {
    "collapsed": false
   },
   "outputs": [
    {
     "name": "stderr",
     "output_type": "stream",
     "text": [
      "INDEX-TOO-LARGE-ERROR: \n",
      "  #<SB-KERNEL:INDEX-TOO-LARGE-ERROR expected-type: (INTEGER 0 (0)) datum: 0>\n"
     ]
    },
    {
     "data": {
      "text/plain": []
     },
     "execution_count": 2,
     "metadata": {},
     "output_type": "execute_result"
    }
   ],
   "source": []
  }
 ],
 "metadata": {
  "kernelspec": {
   "display_name": "FriCAS",
   "language": "spad",
   "name": "ifricas"
  },
  "language_info": {
   "codemirror_mode": "spad",
   "mimetype": "text/x-spad",
   "name": "SPAD",
   "pygments_lexer": "spad",
   "version": "1.2.6"
  },
  "name": "images3.ipynb"
 },
 "nbformat": 4,
 "nbformat_minor": 0
}