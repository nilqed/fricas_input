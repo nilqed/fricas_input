{
 "cells": [
  {
   "cell_type": "code",
   "execution_count": 0,
   "metadata": {
    "collapsed": false
   },
   "outputs": [
    {
     "data": {
      "text/plain": []
     },
     "execution_count": 0,
     "metadata": {},
     "output_type": "execute_result"
    }
   ],
   "source": [
    ")set break resume"
   ]
  },
  {
   "cell_type": "code",
   "execution_count": 1,
   "metadata": {
    "collapsed": false
   },
   "outputs": [
    {
     "name": "stdout",
     "output_type": "stream",
     "text": [
      "   UnittestCount is now explicitly exposed in frame initial \n",
      "   UnittestAux is now explicitly exposed in frame initial \n",
      "   Unittest is now explicitly exposed in frame initial \n"
     ]
    },
    {
     "data": {
      "text/plain": []
     },
     "execution_count": 1,
     "metadata": {},
     "output_type": "execute_result"
    }
   ],
   "source": [
    ")expose UnittestCount UnittestAux Unittest"
   ]
  },
  {
   "cell_type": "code",
   "execution_count": 2,
   "metadata": {
    "collapsed": false
   },
   "outputs": [
    {
     "name": "stdout",
     "output_type": "stream",
     "text": [
      "   DirichletRing is now explicitly exposed in frame initial \n"
     ]
    },
    {
     "data": {
      "text/plain": []
     },
     "execution_count": 2,
     "metadata": {},
     "output_type": "execute_result"
    }
   ],
   "source": [
    ")expose DirichletRing"
   ]
  },
  {
   "cell_type": "code",
   "execution_count": 3,
   "metadata": {
    "collapsed": false
   },
   "outputs": [
    {
     "name": "stdout",
     "output_type": "stream",
     "text": [
      "   All user variables and function definitions have been cleared.\n",
      "Warning: HyperTeX macro table not found\n"
     ]
    },
    {
     "data": {
      "text/plain": [
       "                                                                   Type: Void\n"
      ]
     },
     "execution_count": 3,
     "metadata": {},
     "output_type": "execute_result"
    }
   ],
   "source": [
    "testsuite \"Dirichlet\""
   ]
  },
  {
   "cell_type": "code",
   "execution_count": 4,
   "metadata": {
    "collapsed": false
   },
   "outputs": [
    {
     "name": "stdout",
     "output_type": "stream",
     "text": [
      " \n",
      "   >> Error detected within library code:\n",
      "   key not in table\n",
      "\n",
      "   Continuing to read the file...\n",
      "\n",
      "\n"
     ]
    },
    {
     "data": {
      "text/plain": []
     },
     "execution_count": 4,
     "metadata": {},
     "output_type": "execute_result"
    }
   ],
   "source": [
    "testEquals(\"(m: DIRRING INT := (n: PI): INT +-> moebiusMu n;\" _\n",
    "           \" [m.i for i in 1..4])\", \"[1,-1,-1,0]\")\n"
   ]
  },
  {
   "cell_type": "code",
   "execution_count": 5,
   "metadata": {
    "collapsed": false
   },
   "outputs": [
    {
     "name": "stdout",
     "output_type": "stream",
     "text": [
      " \n",
      "   >> Error detected within library code:\n",
      "   key not in table\n",
      "\n",
      "   Continuing to read the file...\n",
      "\n",
      "\n"
     ]
    },
    {
     "data": {
      "text/plain": []
     },
     "execution_count": 5,
     "metadata": {},
     "output_type": "execute_result"
    }
   ],
   "source": [
    "testEquals(\"(m: DIRRING INT := [moebiusMu n for n in 1..]; \" _\n",
    "           \" [m.i for i in 1..4])\", \"[1,-1,-1,0]\")\n"
   ]
  },
  {
   "cell_type": "code",
   "execution_count": 6,
   "metadata": {
    "collapsed": false
   },
   "outputs": [
    {
     "name": "stdout",
     "output_type": "stream",
     "text": [
      "   All user variables and function definitions have been cleared.\n"
     ]
    },
    {
     "data": {
      "text/plain": [
       "                                                                   Type: Void\n"
      ]
     },
     "execution_count": 6,
     "metadata": {},
     "output_type": "execute_result"
    }
   ],
   "source": [
    "testcase \"coercion\""
   ]
  },
  {
   "cell_type": "code",
   "execution_count": 7,
   "metadata": {
    "collapsed": false
   },
   "outputs": [
    {
     "name": "stdout",
     "output_type": "stream",
     "text": [
      "   All user variables and function definitions have been cleared.\n"
     ]
    },
    {
     "data": {
      "text/plain": [
       "                                                                   Type: Void\n"
      ]
     },
     "execution_count": 7,
     "metadata": {},
     "output_type": "execute_result"
    }
   ],
   "source": [
    "testcase \"categories\""
   ]
  },
  {
   "cell_type": "code",
   "execution_count": 8,
   "metadata": {
    "collapsed": false
   },
   "outputs": [
    {
     "data": {
      "text/plain": [
       "                                                                   Type: Void\n"
      ]
     },
     "execution_count": 8,
     "metadata": {},
     "output_type": "execute_result"
    }
   ],
   "source": [
    "testTrue(\"DIRRING INT has CommutativeRing\")"
   ]
  },
  {
   "cell_type": "code",
   "execution_count": 9,
   "metadata": {
    "collapsed": false
   },
   "outputs": [
    {
     "data": {
      "text/plain": [
       "                                       Type: DirichletRing(Fraction(Integer))\n"
      ]
     },
     "execution_count": 9,
     "metadata": {},
     "output_type": "execute_result"
    }
   ],
   "source": [
    "mu: DIRRING FRAC INT := (n: PI): FRAC INT +-> moebiusMu n;"
   ]
  },
  {
   "cell_type": "code",
   "execution_count": 10,
   "metadata": {
    "collapsed": false
   },
   "outputs": [
    {
     "data": {
      "text/plain": [
       "                                       Type: DirichletRing(Fraction(Integer))\n"
      ]
     },
     "execution_count": 10,
     "metadata": {},
     "output_type": "execute_result"
    }
   ],
   "source": [
    "phi: DIRRING FRAC INT := (n: PI): FRAC INT +-> eulerPhi n;"
   ]
  },
  {
   "cell_type": "code",
   "execution_count": 11,
   "metadata": {
    "collapsed": false
   },
   "outputs": [
    {
     "data": {
      "text/plain": [
       "                                                                   Type: Void\n"
      ]
     },
     "execution_count": 11,
     "metadata": {},
     "output_type": "execute_result"
    }
   ],
   "source": [
    "testEquals(\"[(recip mu * phi).n for n in 1..10]\",\n",
    "           \"[(phi * recip mu).n for n in 1..10]\")"
   ]
  },
  {
   "cell_type": "code",
   "execution_count": 12,
   "metadata": {
    "collapsed": false
   },
   "outputs": [
    {
     "data": {
      "text/plain": [
       "                                                                   Type: Void\n"
      ]
     },
     "execution_count": 12,
     "metadata": {},
     "output_type": "execute_result"
    }
   ],
   "source": [
    "testTrue(\"DIRRING FRAC INT has Algebra FRAC INT\")"
   ]
  },
  {
   "cell_type": "code",
   "execution_count": 13,
   "metadata": {
    "collapsed": false
   },
   "outputs": [
    {
     "data": {
      "text/plain": [
       "                                                                   Type: Void\n"
      ]
     },
     "execution_count": 13,
     "metadata": {},
     "output_type": "execute_result"
    }
   ],
   "source": [
    "testEquals(\"[(1/2 * phi).n for n in 1..10]\",\n",
    "           \"[eulerPhi n/2  for n in 1..10]\");"
   ]
  },
  {
   "cell_type": "code",
   "execution_count": 14,
   "metadata": {
    "collapsed": false
   },
   "outputs": [
    {
     "name": "stdout",
     "output_type": "stream",
     "text": [
      "   All user variables and function definitions have been cleared.\n"
     ]
    },
    {
     "data": {
      "text/plain": [
       "                                                                   Type: Void\n"
      ]
     },
     "execution_count": 14,
     "metadata": {},
     "output_type": "execute_result"
    }
   ],
   "source": [
    "testcase \"identities\""
   ]
  },
  {
   "cell_type": "code",
   "execution_count": 15,
   "metadata": {
    "collapsed": false
   },
   "outputs": [
    {
     "data": {
      "text/plain": [
       "                                                 Type: DirichletRing(Integer)\n"
      ]
     },
     "execution_count": 15,
     "metadata": {},
     "output_type": "execute_result"
    }
   ],
   "source": [
    "mu: DIRRING INT := (n: PI): INT +-> moebiusMu n;"
   ]
  },
  {
   "cell_type": "code",
   "execution_count": 16,
   "metadata": {
    "collapsed": false
   },
   "outputs": [
    {
     "data": {
      "text/plain": [
       "                                                 Type: DirichletRing(Integer)\n"
      ]
     },
     "execution_count": 16,
     "metadata": {},
     "output_type": "execute_result"
    }
   ],
   "source": [
    "phi: DIRRING INT := (n: PI): INT +-> eulerPhi n;"
   ]
  },
  {
   "cell_type": "code",
   "execution_count": 17,
   "metadata": {
    "collapsed": false
   },
   "outputs": [
    {
     "data": {
      "text/plain": [
       "                                                                   Type: Void\n"
      ]
     },
     "execution_count": 17,
     "metadata": {},
     "output_type": "execute_result"
    }
   ],
   "source": [
    "testEquals(\"[(recip mu).n for n in 1..10]\", \"[1 for n in 1..10]\")"
   ]
  },
  {
   "cell_type": "code",
   "execution_count": 18,
   "metadata": {
    "collapsed": false
   },
   "outputs": [
    {
     "data": {
      "text/plain": [
       "                                                                   Type: Void\n"
      ]
     },
     "execution_count": 18,
     "metadata": {},
     "output_type": "execute_result"
    }
   ],
   "source": [
    "testEquals(\"[(recip mu * phi).n for n in 1..10]\", \"[n for n in 1..10]\")"
   ]
  },
  {
   "cell_type": "code",
   "execution_count": 19,
   "metadata": {
    "collapsed": false
   },
   "outputs": [
    {
     "data": {
      "text/plain": [
       "   =============================================================================\n",
       "   General WARNINGS:\n",
       "   * do not use ')clear completely' before having used 'statistics()'\n",
       "     It clears the statistics without warning!\n",
       "   * do not forget to pass the arguments of the testXxxx functions as Strings!\n",
       "     Otherwise, the test will fail and statistics() will not notice!\n",
       "   * testLibraryError does not prevent FriCAS from aborting the current block.\n",
       "     Thus, if a block contains other test functions, they will not be executed\n",
       "     and statistics() will not notice!\n",
       "\n",
       "   =============================================================================\n",
       "   Testsuite: Dirichlet\n",
       "     failed (total): 0 (3)\n",
       "\n",
       "   =============================================================================\n",
       "   testsuite | testcases: failed (total) | tests: failed (total)\n",
       "   Dirichlet                   0     (3)               0     (6)\n",
       "   =============================================================================\n",
       "   File summary.\n",
       "   unexpected failures: 0\n",
       "   expected failures: 0\n",
       "   unexpected passes: 0\n",
       "   total tests: 6\n",
       "                                                                   Type: Void\n"
      ]
     },
     "execution_count": 19,
     "metadata": {},
     "output_type": "execute_result"
    }
   ],
   "source": [
    "statistics()"
   ]
  },
  {
   "cell_type": "code",
   "execution_count": 20,
   "metadata": {
    "collapsed": false
   },
   "outputs": [
    {
     "name": "stderr",
     "output_type": "stream",
     "text": [
      "INDEX-TOO-LARGE-ERROR: \n",
      "  #<SB-KERNEL:INDEX-TOO-LARGE-ERROR expected-type: (INTEGER 0 (0)) datum: 0>\n"
     ]
    },
    {
     "data": {
      "text/plain": []
     },
     "execution_count": 20,
     "metadata": {},
     "output_type": "execute_result"
    }
   ],
   "source": []
  }
 ],
 "metadata": {
  "kernelspec": {
   "display_name": "FriCAS",
   "language": "spad",
   "name": "ifricas"
  },
  "language_info": {
   "codemirror_mode": "spad",
   "mimetype": "text/x-spad",
   "name": "SPAD",
   "pygments_lexer": "spad",
   "version": "1.2.6"
  },
  "name": "dirichlet.ipynb"
 },
 "nbformat": 4,
 "nbformat_minor": 0
}