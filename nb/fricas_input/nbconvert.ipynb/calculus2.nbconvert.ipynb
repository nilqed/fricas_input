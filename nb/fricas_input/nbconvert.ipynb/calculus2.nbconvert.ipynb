{
 "cells": [
  {
   "cell_type": "markdown",
   "metadata": {},
   "source": [
    " Input for page FormalDerivativePage\n"
   ]
  },
  {
   "cell_type": "code",
   "execution_count": 0,
   "metadata": {
    "collapsed": false
   },
   "outputs": [
    {
     "name": "stdout",
     "output_type": "stream",
     "text": [
      "   All user variables and function definitions have been cleared.\n"
     ]
    },
    {
     "data": {
      "text/plain": []
     },
     "execution_count": 0,
     "metadata": {},
     "output_type": "execute_result"
    }
   ],
   "source": [
    ")clear all"
   ]
  },
  {
   "cell_type": "code",
   "execution_count": 1,
   "metadata": {
    "collapsed": false
   },
   "outputs": [
    {
     "name": "stdout",
     "output_type": "stream",
     "text": [
      "Warning: HyperTeX macro table not found\n"
     ]
    },
    {
     "data": {
      "text/plain": [
       "   0\n",
       "                                                    Type: Polynomial(Integer)\n"
      ]
     },
     "execution_count": 1,
     "metadata": {},
     "output_type": "execute_result"
    }
   ],
   "source": [
    "differentiate(f, x)"
   ]
  },
  {
   "cell_type": "code",
   "execution_count": 2,
   "metadata": {
    "collapsed": false
   },
   "outputs": [
    {
     "data": {
      "text/plain": [
       "   f\n",
       "                                                          Type: BasicOperator\n"
      ]
     },
     "execution_count": 2,
     "metadata": {},
     "output_type": "execute_result"
    }
   ],
   "source": [
    "f := operator f"
   ]
  },
  {
   "cell_type": "code",
   "execution_count": 3,
   "metadata": {
    "collapsed": false
   },
   "outputs": [
    {
     "data": {
      "text/plain": [
       "   x\n",
       "                                                          Type: BasicOperator\n"
      ]
     },
     "execution_count": 3,
     "metadata": {},
     "output_type": "execute_result"
    }
   ],
   "source": [
    "x := operator x"
   ]
  },
  {
   "cell_type": "code",
   "execution_count": 4,
   "metadata": {
    "collapsed": false
   },
   "outputs": [
    {
     "data": {
      "text/plain": [
       "   y\n",
       "                                                          Type: BasicOperator\n"
      ]
     },
     "execution_count": 4,
     "metadata": {},
     "output_type": "execute_result"
    }
   ],
   "source": [
    "y := operator y"
   ]
  },
  {
   "cell_type": "code",
   "execution_count": 5,
   "metadata": {
    "collapsed": false
   },
   "outputs": [
    {
     "data": {
      "text/plain": [
       "                              2\n",
       "   x(y(z + 1)) + f(x(z),y(z),z )\n",
       "                                                    Type: Expression(Integer)\n"
      ]
     },
     "execution_count": 5,
     "metadata": {},
     "output_type": "execute_result"
    }
   ],
   "source": [
    "a := f(x z, y z, z^2) + x y(z+1)"
   ]
  },
  {
   "cell_type": "code",
   "execution_count": 6,
   "metadata": {
    "collapsed": false
   },
   "outputs": [
    {
     "name": "stdout",
     "output_type": "stream",
     "text": [
      "  "
     ]
    },
    {
     "data": {
      "text/plain": [
       "                      2     ,                  2     ,                  2\n",
       "     2zf  (x(z),y(z),z ) + y (z)f  (x(z),y(z),z ) + x (z)f  (x(z),y(z),z )\n",
       "        ,3                       ,2                       ,1\n",
       "   + \n",
       "      ,           ,\n",
       "     x (y(z + 1))y (z + 1)\n",
       "\n",
       "                                                    Type: Expression(Integer)\n"
      ]
     },
     "execution_count": 6,
     "metadata": {},
     "output_type": "execute_result"
    }
   ],
   "source": [
    "dadz := differentiate(a, z)"
   ]
  },
  {
   "cell_type": "code",
   "execution_count": 7,
   "metadata": {
    "collapsed": false
   },
   "outputs": [
    {
     "name": "stdout",
     "output_type": "stream",
     "text": [
      "      "
     ]
    },
    {
     "data": {
      "text/plain": [
       "          2            z             2          z             2\n",
       "       (2z  + 2z)f  (%e ,log(z + 1),z ) + f  (%e ,log(z + 1),z )\n",
       "                  ,3                       ,2\n",
       "     + \n",
       "                z      z             2\n",
       "       (z + 1)%e f  (%e ,log(z + 1),z ) + z + 1\n",
       "                  ,1\n",
       "  /\n",
       "     z + 1\n",
       "                                                    Type: Expression(Integer)\n"
      ]
     },
     "execution_count": 7,
     "metadata": {},
     "output_type": "execute_result"
    }
   ],
   "source": [
    "eval(eval(dadz, 'x, z +-> exp z), 'y, z +-> log(z+1))"
   ]
  },
  {
   "cell_type": "code",
   "execution_count": 8,
   "metadata": {
    "collapsed": false
   },
   "outputs": [
    {
     "data": {
      "text/plain": [
       "       z             2\n",
       "   f(%e ,log(z + 1),z ) + z + 2\n",
       "                                                    Type: Expression(Integer)\n"
      ]
     },
     "execution_count": 8,
     "metadata": {},
     "output_type": "execute_result"
    }
   ],
   "source": [
    "eval(eval(a, 'x, z +-> exp z), 'y, z +-> log(z+1))"
   ]
  },
  {
   "cell_type": "markdown",
   "metadata": {},
   "source": [
    " Input for page SeriesArithmeticPage\n"
   ]
  },
  {
   "cell_type": "code",
   "execution_count": 9,
   "metadata": {
    "collapsed": false
   },
   "outputs": [
    {
     "name": "stdout",
     "output_type": "stream",
     "text": [
      "      "
     ]
    },
    {
     "data": {
      "text/plain": [
       "          2            z             2          z             2\n",
       "       (2z  + 2z)f  (%e ,log(z + 1),z ) + f  (%e ,log(z + 1),z )\n",
       "                  ,3                       ,2\n",
       "     + \n",
       "                z      z             2\n",
       "       (z + 1)%e f  (%e ,log(z + 1),z ) + z + 1\n",
       "                  ,1\n",
       "  /\n",
       "     z + 1\n",
       "                                                    Type: Expression(Integer)\n"
      ]
     },
     "execution_count": 9,
     "metadata": {},
     "output_type": "execute_result"
    }
   ],
   "source": [
    "differentiate(%, z)"
   ]
  },
  {
   "cell_type": "code",
   "execution_count": 10,
   "metadata": {
    "collapsed": false
   },
   "outputs": [
    {
     "name": "stdout",
     "output_type": "stream",
     "text": [
      "   All user variables and function definitions have been cleared.\n"
     ]
    },
    {
     "data": {
      "text/plain": []
     },
     "execution_count": 10,
     "metadata": {},
     "output_type": "execute_result"
    }
   ],
   "source": [
    ")clear all"
   ]
  },
  {
   "cell_type": "code",
   "execution_count": 11,
   "metadata": {
    "collapsed": false
   },
   "outputs": [
    {
     "data": {
      "text/plain": [
       "   x\n",
       "                       Type: UnivariatePuiseuxSeries(Expression(Integer),x,0)\n"
      ]
     },
     "execution_count": 11,
     "metadata": {},
     "output_type": "execute_result"
    }
   ],
   "source": [
    "x := series x"
   ]
  },
  {
   "cell_type": "code",
   "execution_count": 12,
   "metadata": {
    "collapsed": false
   },
   "outputs": [
    {
     "data": {
      "text/plain": [
       "   3 + x\n",
       "                       Type: UnivariatePuiseuxSeries(Expression(Integer),x,0)\n"
      ]
     },
     "execution_count": 12,
     "metadata": {},
     "output_type": "execute_result"
    }
   ],
   "source": [
    "num := 3 + x"
   ]
  },
  {
   "cell_type": "code",
   "execution_count": 13,
   "metadata": {
    "collapsed": false
   },
   "outputs": [
    {
     "data": {
      "text/plain": [
       "   1 + 7x\n",
       "                       Type: UnivariatePuiseuxSeries(Expression(Integer),x,0)\n"
      ]
     },
     "execution_count": 13,
     "metadata": {},
     "output_type": "execute_result"
    }
   ],
   "source": [
    "den := 1 + 7 * x"
   ]
  },
  {
   "cell_type": "code",
   "execution_count": 14,
   "metadata": {
    "collapsed": false
   },
   "outputs": [
    {
     "name": "stdout",
     "output_type": "stream",
     "text": [
      "  "
     ]
    },
    {
     "data": {
      "text/plain": [
       "                   2       3        4         5          6           7\n",
       "     3 - 20x + 140x  - 980x  + 6860x  - 48020x  + 336140x  - 2352980x\n",
       "   + \n",
       "              8             9             10      11\n",
       "     16470860x  - 115296020x  + 807072140x   + O(x  )\n",
       "                       Type: UnivariatePuiseuxSeries(Expression(Integer),x,0)\n"
      ]
     },
     "execution_count": 14,
     "metadata": {},
     "output_type": "execute_result"
    }
   ],
   "source": [
    "num / den"
   ]
  },
  {
   "cell_type": "code",
   "execution_count": 15,
   "metadata": {
    "collapsed": false
   },
   "outputs": [
    {
     "data": {
      "text/plain": [
       "            2    3    4    5    6    7    8    9    10      11\n",
       "   1 + x + x  + x  + x  + x  + x  + x  + x  + x  + x   + O(x  )\n",
       "                       Type: UnivariatePuiseuxSeries(Expression(Integer),x,0)\n"
      ]
     },
     "execution_count": 15,
     "metadata": {},
     "output_type": "execute_result"
    }
   ],
   "source": [
    "base := 1 / (1 - x)"
   ]
  },
  {
   "cell_type": "code",
   "execution_count": 16,
   "metadata": {
    "collapsed": false
   },
   "outputs": [
    {
     "data": {
      "text/plain": [
       "        2    3    4    5    6    7    8    9    10    11      12\n",
       "   x + x  + x  + x  + x  + x  + x  + x  + x  + x   + x   + O(x  )\n",
       "                       Type: UnivariatePuiseuxSeries(Expression(Integer),x,0)\n"
      ]
     },
     "execution_count": 16,
     "metadata": {},
     "output_type": "execute_result"
    }
   ],
   "source": [
    "expon := x * base"
   ]
  },
  {
   "cell_type": "markdown",
   "metadata": {},
   "source": [
    " Input for page SeriesConversionPage\n"
   ]
  },
  {
   "cell_type": "code",
   "execution_count": 17,
   "metadata": {
    "collapsed": false
   },
   "outputs": [
    {
     "name": "stdout",
     "output_type": "stream",
     "text": [
      "  "
     ]
    },
    {
     "data": {
      "text/plain": [
       "          2   3  3   7  4   43  5   649  6   241  7   3706  8   85763  9\n",
       "     1 + x  + - x  + - x  + -- x  + --- x  + --- x  + ---- x  + ----- x\n",
       "              2      3      12      120       30       315       5040\n",
       "   + \n",
       "     245339  10      11\n",
       "     ------ x   + O(x  )\n",
       "      10080\n",
       "                       Type: UnivariatePuiseuxSeries(Expression(Integer),x,0)\n"
      ]
     },
     "execution_count": 17,
     "metadata": {},
     "output_type": "execute_result"
    }
   ],
   "source": [
    "base ^ expon"
   ]
  },
  {
   "cell_type": "code",
   "execution_count": 18,
   "metadata": {
    "collapsed": false
   },
   "outputs": [
    {
     "name": "stdout",
     "output_type": "stream",
     "text": [
      "   All user variables and function definitions have been cleared.\n"
     ]
    },
    {
     "data": {
      "text/plain": []
     },
     "execution_count": 18,
     "metadata": {},
     "output_type": "execute_result"
    }
   ],
   "source": [
    ")clear all"
   ]
  },
  {
   "cell_type": "code",
   "execution_count": 19,
   "metadata": {
    "collapsed": false
   },
   "outputs": [
    {
     "data": {
      "text/plain": [
       "   sin(a x)\n",
       "                                                    Type: Expression(Integer)\n"
      ]
     },
     "execution_count": 19,
     "metadata": {},
     "output_type": "execute_result"
    }
   ],
   "source": [
    "f := sin(a*x)"
   ]
  },
  {
   "cell_type": "code",
   "execution_count": 20,
   "metadata": {
    "collapsed": false
   },
   "outputs": [
    {
     "data": {
      "text/plain": [
       "          3        5        7          9            11\n",
       "         a   3    a   5    a    7     a     9      a      11      12\n",
       "   a x - -- x  + --- x  - ---- x  + ------ x  - -------- x   + O(x  )\n",
       "          6      120      5040      362880      39916800\n",
       "                       Type: UnivariatePuiseuxSeries(Expression(Integer),x,0)\n"
      ]
     },
     "execution_count": 20,
     "metadata": {},
     "output_type": "execute_result"
    }
   ],
   "source": [
    "series(f,x = 0)"
   ]
  },
  {
   "cell_type": "code",
   "execution_count": 21,
   "metadata": {
    "collapsed": false
   },
   "outputs": [
    {
     "data": {
      "text/plain": [
       "      y\n",
       "   -------\n",
       "     y\n",
       "   %e  - 1\n",
       "                                                    Type: Expression(Integer)\n"
      ]
     },
     "execution_count": 21,
     "metadata": {},
     "output_type": "execute_result"
    }
   ],
   "source": [
    "g := y / (exp(y) - 1)"
   ]
  },
  {
   "cell_type": "code",
   "execution_count": 22,
   "metadata": {
    "collapsed": false
   },
   "outputs": [
    {
     "data": {
      "text/plain": [
       "       1      1  2    1   4     1    6      1     8       1     10      11\n",
       "   1 - - y + -- y  - --- y  + ----- y  - ------- y  + -------- y   + O(y  )\n",
       "       2     12      720      30240      1209600      47900160\n",
       "                       Type: UnivariatePuiseuxSeries(Expression(Integer),y,0)\n"
      ]
     },
     "execution_count": 22,
     "metadata": {},
     "output_type": "execute_result"
    }
   ],
   "source": [
    "series(g)"
   ]
  },
  {
   "cell_type": "code",
   "execution_count": 23,
   "metadata": {
    "collapsed": false
   },
   "outputs": [
    {
     "data": {
      "text/plain": [
       "   sin(3x)\n",
       "                                                    Type: Expression(Integer)\n"
      ]
     },
     "execution_count": 23,
     "metadata": {},
     "output_type": "execute_result"
    }
   ],
   "source": [
    "h := sin(3*x)"
   ]
  },
  {
   "cell_type": "code",
   "execution_count": 24,
   "metadata": {
    "collapsed": false
   },
   "outputs": [
    {
     "name": "stdout",
     "output_type": "stream",
     "text": [
      "      "
     ]
    },
    {
     "data": {
      "text/plain": [
       "                %pi               %pi 2              %pi 3               %pi 4\n",
       "     sin(3)(x - ---) + sin(6)(x - ---)  + sin(9)(x - ---)  + sin(12)(x - ---)\n",
       "                 12                12                 12                  12\n",
       "   + \n",
       "                 %pi 5               %pi 6               %pi 7\n",
       "     sin(15)(x - ---)  + sin(18)(x - ---)  + sin(21)(x - ---)\n",
       "                  12                  12                  12\n",
       "   + \n",
       "                 %pi 8               %pi 9               %pi 10\n",
       "     sin(24)(x - ---)  + sin(27)(x - ---)  + sin(30)(x - ---)\n",
       "                  12                  12                  12\n",
       "   + \n",
       "                 %pi 11          %pi 12\n",
       "     sin(33)(x - ---)   + O((x - ---)  )\n",
       "                  12              12\n",
       "                  Type: UnivariatePuiseuxSeries(Expression(Integer),x,%pi/12)\n"
      ]
     },
     "execution_count": 24,
     "metadata": {},
     "output_type": "execute_result"
    }
   ],
   "source": [
    "series(h,x,x = %pi/12)"
   ]
  },
  {
   "cell_type": "code",
   "execution_count": 25,
   "metadata": {
    "collapsed": false
   },
   "outputs": [
    {
     "data": {
      "text/plain": [
       "        1           5             9\n",
       "        -    2 +-+  -      4 +-+  -\n",
       "    +-+ 2   a \\|a   2   19a \\|a   2      6\n",
       "   \\|a x  + ------ x  + -------- x  + O(x )\n",
       "               6           360\n",
       "                       Type: UnivariatePuiseuxSeries(Expression(Integer),x,0)\n"
      ]
     },
     "execution_count": 25,
     "metadata": {},
     "output_type": "execute_result"
    }
   ],
   "source": [
    "series(sqrt(tan(a*x)),x = 0)"
   ]
  },
  {
   "cell_type": "code",
   "execution_count": 26,
   "metadata": {
    "collapsed": false
   },
   "outputs": [
    {
     "name": "stdout",
     "output_type": "stream",
     "text": [
      "  "
     ]
    },
    {
     "data": {
      "text/plain": [
       "          %pi - 2   1    1      %pi 2    2       %pi 4    1       %pi 6\n",
       "     (x - ---)    + - + -- (x - ---)  + --- (x - ---)  + --- (x - ---)\n",
       "           2        3   15       2      189       2      675       2\n",
       "   + \n",
       "       2        %pi 8          %pi 9\n",
       "     ----- (x - ---)  + O((x - ---) )\n",
       "     10395       2              2\n",
       "                   Type: UnivariatePuiseuxSeries(Expression(Integer),x,%pi/2)\n"
      ]
     },
     "execution_count": 26,
     "metadata": {},
     "output_type": "execute_result"
    }
   ],
   "source": [
    "series(sec(x) ^ 2,x = %pi/2)"
   ]
  },
  {
   "cell_type": "code",
   "execution_count": 27,
   "metadata": {
    "collapsed": false
   },
   "outputs": [
    {
     "data": {
      "text/plain": [
       "       t x\n",
       "   t %e\n",
       "   -------\n",
       "     t\n",
       "   %e  - 1\n",
       "                                                    Type: Expression(Integer)\n"
      ]
     },
     "execution_count": 27,
     "metadata": {},
     "output_type": "execute_result"
    }
   ],
   "source": [
    "bern := t * exp(t*x) / (exp(t) - 1)"
   ]
  },
  {
   "cell_type": "code",
   "execution_count": 28,
   "metadata": {
    "collapsed": false
   },
   "outputs": [
    {
     "name": "stdout",
     "output_type": "stream",
     "text": [
      "          "
     ]
    },
    {
     "data": {
      "text/plain": [
       "                      2                 3     2\n",
       "         2x - 1     6x  - 6x + 1  2   2x  - 3x  + x  3\n",
       "     1 + ------ t + ------------ t  + ------------- t\n",
       "            2            12                 12\n",
       "   + \n",
       "        4      3      2            5      4      3\n",
       "     30x  - 60x  + 30x  - 1  4   6x  - 15x  + 10x  - x  5\n",
       "     ---------------------- t  + --------------------- t\n",
       "               720                        720\n",
       "   + \n",
       "        6       5       4      2            7      6      5     3\n",
       "     42x  - 126x  + 105x  - 21x  + 1  6   6x  - 21x  + 21x  - 7x  + x  7\n",
       "     ------------------------------- t  + --------------------------- t\n",
       "                  30240                              30240\n",
       "   + \n",
       "        8       7       6      4      2\n",
       "     30x  - 120x  + 140x  - 70x  + 20x  - 1  8\n",
       "     -------------------------------------- t\n",
       "                     1209600\n",
       "   + \n",
       "        9      8      7      5      3\n",
       "     10x  - 45x  + 60x  - 42x  + 20x  - 3x  9\n",
       "     ------------------------------------- t\n",
       "                    3628800\n",
       "   + \n",
       "        10       9       8       6       4      2\n",
       "     66x   - 330x  + 495x  - 462x  + 330x  - 99x  + 5  10      11\n",
       "     ------------------------------------------------ t   + O(t  )\n",
       "                         239500800\n",
       "                       Type: UnivariatePuiseuxSeries(Expression(Integer),t,0)\n"
      ]
     },
     "execution_count": 28,
     "metadata": {},
     "output_type": "execute_result"
    }
   ],
   "source": [
    "series(bern,t = 0)"
   ]
  },
  {
   "cell_type": "markdown",
   "metadata": {},
   "source": [
    " Input for page LaplacePage\n"
   ]
  },
  {
   "cell_type": "code",
   "execution_count": 29,
   "metadata": {
    "collapsed": false
   },
   "outputs": [
    {
     "name": "stdout",
     "output_type": "stream",
     "text": [
      "  "
     ]
    },
    {
     "data": {
      "text/plain": [
       "                    2        2         2          2          2           2\n",
       "       2     2    %e   2   %e   3   3%e   4   37%e   5   59%e   6   137%e   7\n",
       "     %e  + %e y + --- y  + --- y  + ---- y  + ----- y  + ----- y  + ------ y\n",
       "                   2        2         8        120        240         720\n",
       "   + \n",
       "          2             2              2\n",
       "     871%e   8   41641%e   9   325249%e   10      11\n",
       "     ------ y  + -------- y  + --------- y   + O(y  )\n",
       "      5760        362880        3628800\n",
       "                       Type: UnivariatePuiseuxSeries(Expression(Integer),y,0)\n"
      ]
     },
     "execution_count": 29,
     "metadata": {},
     "output_type": "execute_result"
    }
   ],
   "source": [
    "series(exp(2 + tan(y)), y=0)"
   ]
  },
  {
   "cell_type": "code",
   "execution_count": 30,
   "metadata": {
    "collapsed": false
   },
   "outputs": [
    {
     "name": "stdout",
     "output_type": "stream",
     "text": [
      "   All user variables and function definitions have been cleared.\n"
     ]
    },
    {
     "data": {
      "text/plain": []
     },
     "execution_count": 30,
     "metadata": {},
     "output_type": "execute_result"
    }
   ],
   "source": [
    ")clear all"
   ]
  },
  {
   "cell_type": "code",
   "execution_count": 31,
   "metadata": {
    "collapsed": false
   },
   "outputs": [
    {
     "data": {
      "text/plain": [
       "   - cos(a t)sinh(a t) + cosh(a t)sin(a t)\n",
       "                                                    Type: Expression(Integer)\n"
      ]
     },
     "execution_count": 31,
     "metadata": {},
     "output_type": "execute_result"
    }
   ],
   "source": [
    "sin(a*t) * cosh(a*t) - cos(a*t) * sinh(a*t)"
   ]
  },
  {
   "cell_type": "code",
   "execution_count": 32,
   "metadata": {
    "collapsed": false
   },
   "outputs": [
    {
     "data": {
      "text/plain": [
       "        3\n",
       "      4a\n",
       "   --------\n",
       "    4     4\n",
       "   s  + 4a\n",
       "                                                    Type: Expression(Integer)\n"
      ]
     },
     "execution_count": 32,
     "metadata": {},
     "output_type": "execute_result"
    }
   ],
   "source": [
    "laplace(%, t, s)"
   ]
  },
  {
   "cell_type": "code",
   "execution_count": 33,
   "metadata": {
    "collapsed": false
   },
   "outputs": [
    {
     "data": {
      "text/plain": [
       "   - log(s - a) + log(s - b)\n",
       "                                                    Type: Expression(Integer)\n"
      ]
     },
     "execution_count": 33,
     "metadata": {},
     "output_type": "execute_result"
    }
   ],
   "source": [
    "laplace((exp(a*t) - exp(b*t))/t, t, s)"
   ]
  },
  {
   "cell_type": "code",
   "execution_count": 34,
   "metadata": {
    "collapsed": false
   },
   "outputs": [
    {
     "data": {
      "text/plain": [
       "        2    2\n",
       "   log(s  + a ) - 2log(s)\n",
       "                                                    Type: Expression(Integer)\n"
      ]
     },
     "execution_count": 34,
     "metadata": {},
     "output_type": "execute_result"
    }
   ],
   "source": [
    "laplace(2/t * (1 - cos(a*t)), t, s)"
   ]
  },
  {
   "cell_type": "code",
   "execution_count": 35,
   "metadata": {
    "collapsed": false
   },
   "outputs": [
    {
     "data": {
      "text/plain": [
       "               1\n",
       "   ------------------------\n",
       "      2             3    2\n",
       "   b s  + 2a b s + b  + a b\n",
       "                                                    Type: Expression(Integer)\n"
      ]
     },
     "execution_count": 35,
     "metadata": {},
     "output_type": "execute_result"
    }
   ],
   "source": [
    "laplace(exp(-a*t) * sin(b*t) / b^2, t, s)"
   ]
  },
  {
   "cell_type": "code",
   "execution_count": 36,
   "metadata": {
    "collapsed": false
   },
   "outputs": [
    {
     "data": {
      "text/plain": [
       "        2    2         2    2\n",
       "   log(s  + b ) - log(s  + a )\n",
       "   ---------------------------\n",
       "                2\n",
       "                                                    Type: Expression(Integer)\n"
      ]
     },
     "execution_count": 36,
     "metadata": {},
     "output_type": "execute_result"
    }
   ],
   "source": [
    "laplace((cos(a*t) - cos(b*t))/t, t, s)"
   ]
  },
  {
   "cell_type": "code",
   "execution_count": 37,
   "metadata": {
    "collapsed": false
   },
   "outputs": [
    {
     "data": {
      "text/plain": [
       "     b    s + c - a\n",
       "   %e log(---------)\n",
       "              c\n",
       "   -----------------\n",
       "         s - a\n",
       "                                                    Type: Expression(Integer)\n"
      ]
     },
     "execution_count": 37,
     "metadata": {},
     "output_type": "execute_result"
    }
   ],
   "source": [
    "laplace(exp(a*t+b)*Ei(c*t), t, s)"
   ]
  },
  {
   "cell_type": "code",
   "execution_count": 38,
   "metadata": {
    "collapsed": false
   },
   "outputs": [
    {
     "data": {
      "text/plain": [
       "          2    2\n",
       "         s  + b             d\n",
       "   a log(-------) + 2c atan(-)\n",
       "             2              s\n",
       "            b\n",
       "   ---------------------------\n",
       "                2s\n",
       "                                                    Type: Expression(Integer)\n"
      ]
     },
     "execution_count": 38,
     "metadata": {},
     "output_type": "execute_result"
    }
   ],
   "source": [
    "laplace(a*Ci(b*t) + c*Si(d*t), t, s)"
   ]
  },
  {
   "cell_type": "markdown",
   "metadata": {},
   "source": [
    " Input for page SeriesCoefficientPage\n"
   ]
  },
  {
   "cell_type": "code",
   "execution_count": 39,
   "metadata": {
    "collapsed": false
   },
   "outputs": [
    {
     "data": {
      "text/plain": [
       "                               2\n",
       "     4     2 2    4           t           3\n",
       "   (s  + 2a s  + a )laplace(%e  ,t,s) + 2a\n",
       "   ----------------------------------------\n",
       "                 4     2 2    4\n",
       "                s  + 2a s  + a\n",
       "                                                    Type: Expression(Integer)\n"
      ]
     },
     "execution_count": 39,
     "metadata": {},
     "output_type": "execute_result"
    }
   ],
   "source": [
    "laplace(sin(a*t) - a*t*cos(a*t) + exp(t^2), t, s)"
   ]
  },
  {
   "cell_type": "code",
   "execution_count": 40,
   "metadata": {
    "collapsed": false
   },
   "outputs": [
    {
     "name": "stdout",
     "output_type": "stream",
     "text": [
      "   All user variables and function definitions have been cleared.\n"
     ]
    },
    {
     "data": {
      "text/plain": []
     },
     "execution_count": 40,
     "metadata": {},
     "output_type": "execute_result"
    }
   ],
   "source": [
    ")clear all"
   ]
  },
  {
   "cell_type": "code",
   "execution_count": 41,
   "metadata": {
    "collapsed": false
   },
   "outputs": [
    {
     "data": {
      "text/plain": []
     },
     "execution_count": 41,
     "metadata": {},
     "output_type": "execute_result"
    }
   ],
   "source": [
    ")set streams calculate 7"
   ]
  },
  {
   "cell_type": "code",
   "execution_count": 42,
   "metadata": {
    "collapsed": false
   },
   "outputs": [
    {
     "data": {
      "text/plain": [
       "   x\n",
       "                       Type: UnivariatePuiseuxSeries(Expression(Integer),x,0)\n"
      ]
     },
     "execution_count": 42,
     "metadata": {},
     "output_type": "execute_result"
    }
   ],
   "source": [
    "x := series(x)"
   ]
  },
  {
   "cell_type": "code",
   "execution_count": 43,
   "metadata": {
    "collapsed": false
   },
   "outputs": [
    {
     "data": {
      "text/plain": [
       "        2   1  3    1  5    1  6    1   7      9\n",
       "   x + x  + - x  - -- x  - -- x  - --- x  + O(x )\n",
       "            3      30      90      630\n",
       "                       Type: UnivariatePuiseuxSeries(Expression(Integer),x,0)\n"
      ]
     },
     "execution_count": 43,
     "metadata": {},
     "output_type": "execute_result"
    }
   ],
   "source": [
    "y := exp(x) * sin(x)"
   ]
  },
  {
   "cell_type": "code",
   "execution_count": 44,
   "metadata": {
    "collapsed": false
   },
   "outputs": [
    {
     "data": {
      "text/plain": [
       "      1\n",
       "   - --\n",
       "     90\n",
       "                                                    Type: Expression(Integer)\n"
      ]
     },
     "execution_count": 44,
     "metadata": {},
     "output_type": "execute_result"
    }
   ],
   "source": [
    "coefficient(y,6)"
   ]
  },
  {
   "cell_type": "code",
   "execution_count": 45,
   "metadata": {
    "collapsed": false
   },
   "outputs": [
    {
     "data": {
      "text/plain": [
       "          1\n",
       "   - -----------\n",
       "     10216206000\n",
       "                                                    Type: Expression(Integer)\n"
      ]
     },
     "execution_count": 45,
     "metadata": {},
     "output_type": "execute_result"
    }
   ],
   "source": [
    "coefficient(y,15)"
   ]
  },
  {
   "cell_type": "markdown",
   "metadata": {},
   "source": [
    " Input for page SymbolicIntegrationPage\n"
   ]
  },
  {
   "cell_type": "code",
   "execution_count": 46,
   "metadata": {
    "collapsed": false
   },
   "outputs": [
    {
     "data": {
      "text/plain": [
       "        2   1  3    1  5    1  6    1   7      9\n",
       "   x + x  + - x  - -- x  - -- x  - --- x  + O(x )\n",
       "            3      30      90      630\n",
       "                       Type: UnivariatePuiseuxSeries(Expression(Integer),x,0)\n"
      ]
     },
     "execution_count": 46,
     "metadata": {},
     "output_type": "execute_result"
    }
   ],
   "source": [
    "y"
   ]
  },
  {
   "cell_type": "code",
   "execution_count": 47,
   "metadata": {
    "collapsed": false
   },
   "outputs": [
    {
     "name": "stdout",
     "output_type": "stream",
     "text": [
      "   All user variables and function definitions have been cleared.\n"
     ]
    },
    {
     "data": {
      "text/plain": []
     },
     "execution_count": 47,
     "metadata": {},
     "output_type": "execute_result"
    }
   ],
   "source": [
    ")clear all"
   ]
  },
  {
   "cell_type": "code",
   "execution_count": 48,
   "metadata": {
    "collapsed": false
   },
   "outputs": [
    {
     "data": {
      "text/plain": [
       "                  2\n",
       "                 x  + 2x + 1\n",
       "   --------------------------------------\n",
       "    6     5      4      3      2\n",
       "   x  + 6x  + 15x  + 20x  + 15x  + 6x + 2\n",
       "                                          Type: Fraction(Polynomial(Integer))\n"
      ]
     },
     "execution_count": 48,
     "metadata": {},
     "output_type": "execute_result"
    }
   ],
   "source": [
    "f := (x^2+2*x+1) / (x^6+6*x^5+15*x^4+20*x^3+15*x^2+6*x+2)"
   ]
  },
  {
   "cell_type": "code",
   "execution_count": 49,
   "metadata": {
    "collapsed": false
   },
   "outputs": [
    {
     "data": {
      "text/plain": [
       "         3     2\n",
       "   atan(x  + 3x  + 3x + 1)\n",
       "   -----------------------\n",
       "              3\n",
       "                                         Type: Union(Expression(Integer),...)\n"
      ]
     },
     "execution_count": 49,
     "metadata": {},
     "output_type": "execute_result"
    }
   ],
   "source": [
    "integrate(f, x)"
   ]
  },
  {
   "cell_type": "code",
   "execution_count": 50,
   "metadata": {
    "collapsed": false
   },
   "outputs": [
    {
     "data": {
      "text/plain": [
       "        +-------+\n",
       "   log(\\|a x + b  + 1)\n",
       "   -------------------\n",
       "            x\n",
       "                                                    Type: Expression(Integer)\n"
      ]
     },
     "execution_count": 50,
     "metadata": {},
     "output_type": "execute_result"
    }
   ],
   "source": [
    "g := log(1 + sqrt(a * x + b)) / x"
   ]
  },
  {
   "cell_type": "code",
   "execution_count": 51,
   "metadata": {
    "collapsed": false
   },
   "outputs": [
    {
     "data": {
      "text/plain": [
       "      x      +--------+\n",
       "    ++  log(\\|b + %S a  + 1)\n",
       "    |   -------------------- d%S\n",
       "   ++            %S\n",
       "                                         Type: Union(Expression(Integer),...)\n"
      ]
     },
     "execution_count": 51,
     "metadata": {},
     "output_type": "execute_result"
    }
   ],
   "source": [
    "integrate(g, x)"
   ]
  },
  {
   "cell_type": "code",
   "execution_count": 52,
   "metadata": {
    "collapsed": false
   },
   "outputs": [
    {
     "data": {
      "text/plain": [
       "         2      +-+\n",
       "       (x  + 2)\\|2  - 4x\n",
       "   log(-----------------)\n",
       "              2\n",
       "             x  - 2\n",
       "   ----------------------\n",
       "              +-+\n",
       "            2\\|2\n",
       "                                         Type: Union(Expression(Integer),...)\n"
      ]
     },
     "execution_count": 52,
     "metadata": {},
     "output_type": "execute_result"
    }
   ],
   "source": [
    "integrate(1/(x^2 - 2),x)"
   ]
  },
  {
   "cell_type": "code",
   "execution_count": 53,
   "metadata": {
    "collapsed": false
   },
   "outputs": [
    {
     "data": {
      "text/plain": [
       "          +-+\n",
       "        x\\|2\n",
       "   atan(-----)\n",
       "          2\n",
       "   -----------\n",
       "        +-+\n",
       "       \\|2\n",
       "                                         Type: Union(Expression(Integer),...)\n"
      ]
     },
     "execution_count": 53,
     "metadata": {},
     "output_type": "execute_result"
    }
   ],
   "source": [
    "integrate(1/(x^2 + 2),x)"
   ]
  },
  {
   "cell_type": "code",
   "execution_count": 54,
   "metadata": {
    "collapsed": false
   },
   "outputs": [
    {
     "data": {
      "text/plain": [
       "       2\n",
       "      x\n",
       "   -------\n",
       "    4    2\n",
       "   x  - a\n",
       "                                          Type: Fraction(Polynomial(Integer))\n"
      ]
     },
     "execution_count": 54,
     "metadata": {},
     "output_type": "execute_result"
    }
   ],
   "source": [
    "h := x^2 / (x^4 - a^2)"
   ]
  },
  {
   "cell_type": "code",
   "execution_count": 55,
   "metadata": {
    "collapsed": false
   },
   "outputs": [
    {
     "name": "stdout",
     "output_type": "stream",
     "text": [
      "\n",
      "\n"
     ]
    },
    {
     "data": {
      "text/plain": [
       "          2      +-+                   +-+\n",
       "        (x  + a)\\|a  - 2a x          x\\|a\n",
       "    log(-------------------) + 2atan(-----)\n",
       "                2                      a\n",
       "               x  - a\n",
       "   [---------------------------------------,\n",
       "                       +-+\n",
       "                     4\\|a\n",
       "          2      +---+                   +---+\n",
       "        (x  - a)\\|- a  + 2a x          x\\|- a\n",
       "    log(---------------------) - 2atan(-------)\n",
       "                 2                        a\n",
       "                x  + a\n",
       "    -------------------------------------------]\n",
       "                        +---+\n",
       "                      4\\|- a\n",
       "                                   Type: Union(List(Expression(Integer)),...)\n"
      ]
     },
     "execution_count": 55,
     "metadata": {},
     "output_type": "execute_result"
    }
   ],
   "source": [
    "integrate(h, x)"
   ]
  },
  {
   "cell_type": "code",
   "execution_count": 56,
   "metadata": {
    "collapsed": false
   },
   "outputs": [
    {
     "name": "stdout",
     "output_type": "stream",
     "text": [
      "      "
     ]
    },
    {
     "data": {
      "text/plain": [
       "          +--+       +--+         +----+       +----+\n",
       "          | 1        | 1          |   1        |   1\n",
       "       -  |-- log(2a |--  + x) +  |- -- log(2a |- --  + x)\n",
       "         \\|4a       \\|4a         \\|  4a       \\|  4a\n",
       "     + \n",
       "          +----+         +----+         +--+         +--+\n",
       "          |   1          |   1          | 1          | 1\n",
       "       -  |- -- log(- 2a |- --  + x) +  |-- log(- 2a |--  + x)\n",
       "         \\|  4a         \\|  4a         \\|4a         \\|4a\n",
       "  /\n",
       "     2\n",
       "                                                    Type: Expression(Integer)\n"
      ]
     },
     "execution_count": 56,
     "metadata": {},
     "output_type": "execute_result"
    }
   ],
   "source": [
    "complexIntegrate(h, x)"
   ]
  },
  {
   "cell_type": "code",
   "execution_count": 57,
   "metadata": {
    "collapsed": false
   },
   "outputs": [
    {
     "name": "stdout",
     "output_type": "stream",
     "text": [
      "          "
     ]
    },
    {
     "data": {
      "text/plain": [
       "          +--+       +--+         +--+       +--+\n",
       "          | 1        | 1          | 1        | 1\n",
       "       -  |-- log(2a |--  + x) +  |-- log(2a |--  - x)\n",
       "         \\|4a       \\|4a         \\|4a       \\|4a\n",
       "     + \n",
       "        +----+       +----+         +----+       +----+                 +--+\n",
       "        |   1        |   1          |   1        |   1                  | 1\n",
       "        |- -- log(2a |- --  + x) -  |- -- log(2a |- --  - x) + log(- 1) |--\n",
       "       \\|  4a       \\|  4a         \\|  4a       \\|  4a                 \\|4a\n",
       "     + \n",
       "                  +----+\n",
       "                  |   1\n",
       "       - log(- 1) |- --\n",
       "                 \\|  4a\n",
       "  /\n",
       "     2\n",
       "                                                    Type: Expression(Integer)\n"
      ]
     },
     "execution_count": 57,
     "metadata": {},
     "output_type": "execute_result"
    }
   ],
   "source": [
    "expandLog %"
   ]
  },
  {
   "cell_type": "markdown",
   "metadata": {},
   "source": [
    " Input for page DerivativePage\n"
   ]
  },
  {
   "cell_type": "code",
   "execution_count": 58,
   "metadata": {
    "collapsed": false
   },
   "outputs": [
    {
     "name": "stdout",
     "output_type": "stream",
     "text": [
      "      "
     ]
    },
    {
     "data": {
      "text/plain": [
       "                 +---+                    +-+                    +---+\n",
       "        +-+    x\\|- a  + a     +---+    x\\|a  + a     +-+    - x\\|- a  + a\n",
       "       \\|a log(-----------) - \\|- a log(---------) - \\|a log(-------------)\n",
       "                   +---+                    +-+                   +---+\n",
       "                  \\|- a                    \\|a                   \\|- a\n",
       "     + \n",
       "                     +-+\n",
       "        +---+    - x\\|a  + a             +-+            +---+\n",
       "       \\|- a log(-----------) - log(- 1)\\|a  + log(- 1)\\|- a\n",
       "                      +-+\n",
       "                     \\|a\n",
       "  /\n",
       "       +---+ +-+\n",
       "     4\\|- a \\|a\n",
       "                                                    Type: Expression(Integer)\n"
      ]
     },
     "execution_count": 58,
     "metadata": {},
     "output_type": "execute_result"
    }
   ],
   "source": [
    "rootSimp %"
   ]
  },
  {
   "cell_type": "code",
   "execution_count": 59,
   "metadata": {
    "collapsed": false
   },
   "outputs": [
    {
     "name": "stdout",
     "output_type": "stream",
     "text": [
      "   All user variables and function definitions have been cleared.\n"
     ]
    },
    {
     "data": {
      "text/plain": []
     },
     "execution_count": 59,
     "metadata": {},
     "output_type": "execute_result"
    }
   ],
   "source": [
    ")clear all"
   ]
  },
  {
   "cell_type": "code",
   "execution_count": 60,
   "metadata": {
    "collapsed": false
   },
   "outputs": [
    {
     "data": {
      "text/plain": [
       "       x\n",
       "     %e\n",
       "   %e\n",
       "                                                    Type: Expression(Integer)\n"
      ]
     },
     "execution_count": 60,
     "metadata": {},
     "output_type": "execute_result"
    }
   ],
   "source": [
    "f := exp exp x"
   ]
  },
  {
   "cell_type": "code",
   "execution_count": 61,
   "metadata": {
    "collapsed": false
   },
   "outputs": [
    {
     "data": {
      "text/plain": [
       "          x\n",
       "     x  %e\n",
       "   %e %e\n",
       "                                                    Type: Expression(Integer)\n"
      ]
     },
     "execution_count": 61,
     "metadata": {},
     "output_type": "execute_result"
    }
   ],
   "source": [
    "differentiate(f, x)"
   ]
  },
  {
   "cell_type": "code",
   "execution_count": 62,
   "metadata": {
    "collapsed": false
   },
   "outputs": [
    {
     "data": {
      "text/plain": [
       "                                         x\n",
       "       x 4       x 3       x 2     x   %e\n",
       "   ((%e )  + 6(%e )  + 7(%e )  + %e )%e\n",
       "                                                    Type: Expression(Integer)\n"
      ]
     },
     "execution_count": 62,
     "metadata": {},
     "output_type": "execute_result"
    }
   ],
   "source": [
    "differentiate(f, x, 4)"
   ]
  },
  {
   "cell_type": "code",
   "execution_count": 63,
   "metadata": {
    "collapsed": false
   },
   "outputs": [
    {
     "data": {
      "text/plain": [
       "            2\n",
       "   sin(y + x )\n",
       "                                                    Type: Expression(Integer)\n"
      ]
     },
     "execution_count": 63,
     "metadata": {},
     "output_type": "execute_result"
    }
   ],
   "source": [
    "g := sin(x^2 + y)"
   ]
  },
  {
   "cell_type": "code",
   "execution_count": 64,
   "metadata": {
    "collapsed": false
   },
   "outputs": [
    {
     "data": {
      "text/plain": [
       "            2\n",
       "   cos(y + x )\n",
       "                                                    Type: Expression(Integer)\n"
      ]
     },
     "execution_count": 64,
     "metadata": {},
     "output_type": "execute_result"
    }
   ],
   "source": [
    "differentiate(g, y)"
   ]
  },
  {
   "cell_type": "markdown",
   "metadata": {},
   "source": [
    " Input for page SeriesFormulaPage\n"
   ]
  },
  {
   "cell_type": "code",
   "execution_count": 65,
   "metadata": {
    "collapsed": false
   },
   "outputs": [
    {
     "data": {
      "text/plain": [
       "     2         2              2\n",
       "   4x sin(y + x ) - 2cos(y + x )\n",
       "                                                    Type: Expression(Integer)\n"
      ]
     },
     "execution_count": 65,
     "metadata": {},
     "output_type": "execute_result"
    }
   ],
   "source": [
    "differentiate(g, [y, y, x, x])"
   ]
  },
  {
   "cell_type": "code",
   "execution_count": 66,
   "metadata": {
    "collapsed": false
   },
   "outputs": [
    {
     "name": "stdout",
     "output_type": "stream",
     "text": [
      "   All user variables and function definitions have been cleared.\n"
     ]
    },
    {
     "data": {
      "text/plain": []
     },
     "execution_count": 66,
     "metadata": {},
     "output_type": "execute_result"
    }
   ],
   "source": [
    ")clear all"
   ]
  },
  {
   "cell_type": "code",
   "execution_count": 67,
   "metadata": {
    "collapsed": false
   },
   "outputs": [
    {
     "data": {
      "text/plain": [
       "           1  2   1  3    1  4    1   5    1   6     1   7      8\n",
       "   1 + x + - x  + - x  + -- x  + --- x  + --- x  + ---- x  + O(x )\n",
       "           2      6      24      120      720      5040\n",
       "                        Type: UnivariateTaylorSeries(Expression(Integer),x,0)\n"
      ]
     },
     "execution_count": 67,
     "metadata": {},
     "output_type": "execute_result"
    }
   ],
   "source": [
    "taylor(n +-> 1/factorial(n),x = 0)"
   ]
  },
  {
   "cell_type": "code",
   "execution_count": 68,
   "metadata": {
    "collapsed": false
   },
   "outputs": [
    {
     "name": "stdout",
     "output_type": "stream",
     "text": [
      "  "
     ]
    },
    {
     "data": {
      "text/plain": [
       "               1        2   1        3   1        4   1        5   1        6\n",
       "     (x - 1) - - (x - 1)  + - (x - 1)  - - (x - 1)  + - (x - 1)  - - (x - 1)\n",
       "               2            3            4            5            6\n",
       "   + \n",
       "     1        7            8\n",
       "     - (x - 1)  + O((x - 1) )\n",
       "     7\n",
       "                        Type: UnivariateTaylorSeries(Expression(Integer),x,1)\n"
      ]
     },
     "execution_count": 68,
     "metadata": {},
     "output_type": "execute_result"
    }
   ],
   "source": [
    "taylor(n +-> (-1)^(n-1)/n,x = 1,1..)"
   ]
  },
  {
   "cell_type": "code",
   "execution_count": 69,
   "metadata": {
    "collapsed": false
   },
   "outputs": [
    {
     "name": "stdout",
     "output_type": "stream",
     "text": [
      "  "
     ]
    },
    {
     "data": {
      "text/plain": [
       "               1        2   1        3   1        4   1        5   1        6\n",
       "     (x - 1) - - (x - 1)  + - (x - 1)  - - (x - 1)  + - (x - 1)  - - (x - 1)\n",
       "               2            3            4            5            6\n",
       "   + \n",
       "     1        7\n",
       "     - (x - 1)\n",
       "     7\n",
       "                        Type: UnivariateTaylorSeries(Expression(Integer),x,1)\n"
      ]
     },
     "execution_count": 69,
     "metadata": {},
     "output_type": "execute_result"
    }
   ],
   "source": [
    "taylor(n +-> (-1)^(n-1)/n,x = 1,1..7)"
   ]
  },
  {
   "cell_type": "code",
   "execution_count": 70,
   "metadata": {
    "collapsed": false
   },
   "outputs": [
    {
     "name": "stdout",
     "output_type": "stream",
     "text": [
      "  "
     ]
    },
    {
     "data": {
      "text/plain": [
       "            - 1   1   1           1        2   1        3   1        4\n",
       "     (x - 1)    - - + - (x - 1) - - (x - 1)  + - (x - 1)  - - (x - 1)\n",
       "                  2   3           4            5            6\n",
       "   + \n",
       "     1        5   1        6            7\n",
       "     - (x - 1)  - - (x - 1)  + O((x - 1) )\n",
       "     7            8\n",
       "                       Type: UnivariateLaurentSeries(Expression(Integer),x,1)\n"
      ]
     },
     "execution_count": 70,
     "metadata": {},
     "output_type": "execute_result"
    }
   ],
   "source": [
    "laurent(n +-> (-1)^(n-1)/(n + 2),x = 1,-1..)"
   ]
  },
  {
   "cell_type": "code",
   "execution_count": 71,
   "metadata": {
    "collapsed": false
   },
   "outputs": [
    {
     "data": {
      "text/plain": [
       "       1  3    1   5     1   7      9\n",
       "   x - - x  + --- x  - ---- x  + O(x )\n",
       "       6      120      5040\n",
       "                       Type: UnivariatePuiseuxSeries(Expression(Integer),x,0)\n"
      ]
     },
     "execution_count": 71,
     "metadata": {},
     "output_type": "execute_result"
    }
   ],
   "source": [
    "puiseux(i +-> (-1)^((i-1)/2)/factorial(i),x = 0,1..,2)"
   ]
  },
  {
   "cell_type": "code",
   "execution_count": 72,
   "metadata": {
    "collapsed": false
   },
   "outputs": [
    {
     "data": {
      "text/plain": [
       "               4               5              1\n",
       "             - -             - -            - -\n",
       "   16          3   25          6   1          3            0\n",
       "   -- (x - 8)    + -- (x - 8)    + - (x - 8)    + O((x - 8) )\n",
       "    9              36              9\n",
       "                       Type: UnivariatePuiseuxSeries(Expression(Integer),x,8)\n"
      ]
     },
     "execution_count": 72,
     "metadata": {},
     "output_type": "execute_result"
    }
   ],
   "source": [
    "puiseux(j +-> j^2,x = 8,-4/3..,1/2)"
   ]
  },
  {
   "cell_type": "code",
   "execution_count": 73,
   "metadata": {
    "collapsed": false
   },
   "outputs": [
    {
     "data": {
      "text/plain": [
       "           1  2   1  3    1  4    1   5    1   6     1   7      8\n",
       "   1 + x + - x  + - x  + -- x  + --- x  + --- x  + ---- x  + O(x )\n",
       "           2      6      24      120      720      5040\n",
       "                       Type: UnivariatePuiseuxSeries(Expression(Integer),x,0)\n"
      ]
     },
     "execution_count": 73,
     "metadata": {},
     "output_type": "execute_result"
    }
   ],
   "source": [
    "series(n +-> 1/factorial(n),x = 0)"
   ]
  },
  {
   "cell_type": "code",
   "execution_count": 74,
   "metadata": {
    "collapsed": false
   },
   "outputs": [
    {
     "name": "stdout",
     "output_type": "stream",
     "text": [
      "  "
     ]
    },
    {
     "data": {
      "text/plain": [
       "            - 1   1   1           1        2   1        3   1        4\n",
       "     (x - 1)    - - + - (x - 1) - - (x - 1)  + - (x - 1)  - - (x - 1)\n",
       "                  2   3           4            5            6\n",
       "   + \n",
       "     1        5   1        6            7\n",
       "     - (x - 1)  - - (x - 1)  + O((x - 1) )\n",
       "     7            8\n",
       "                       Type: UnivariatePuiseuxSeries(Expression(Integer),x,1)\n"
      ]
     },
     "execution_count": 74,
     "metadata": {},
     "output_type": "execute_result"
    }
   ],
   "source": [
    "series(n +-> (-1)^(n - 1)/(n + 2),x = 1,-1..)"
   ]
  },
  {
   "cell_type": "markdown",
   "metadata": {},
   "source": [
    " Input for page SeriesCreationPage\n"
   ]
  },
  {
   "cell_type": "code",
   "execution_count": 75,
   "metadata": {
    "collapsed": false
   },
   "outputs": [
    {
     "data": {
      "text/plain": [
       "       1  3    1   5     1   7      9\n",
       "   x - - x  + --- x  - ---- x  + O(x )\n",
       "       6      120      5040\n",
       "                       Type: UnivariatePuiseuxSeries(Expression(Integer),x,0)\n"
      ]
     },
     "execution_count": 75,
     "metadata": {},
     "output_type": "execute_result"
    }
   ],
   "source": [
    "series(i +-> (-1)^((i - 1)/2)/factorial(i),x = 0,1..,2)"
   ]
  },
  {
   "cell_type": "code",
   "execution_count": 76,
   "metadata": {
    "collapsed": false
   },
   "outputs": [
    {
     "name": "stdout",
     "output_type": "stream",
     "text": [
      "   All user variables and function definitions have been cleared.\n"
     ]
    },
    {
     "data": {
      "text/plain": []
     },
     "execution_count": 76,
     "metadata": {},
     "output_type": "execute_result"
    }
   ],
   "source": [
    ")clear all"
   ]
  },
  {
   "cell_type": "code",
   "execution_count": 77,
   "metadata": {
    "collapsed": false
   },
   "outputs": [
    {
     "data": {
      "text/plain": [
       "   x\n",
       "                       Type: UnivariatePuiseuxSeries(Expression(Integer),x,0)\n"
      ]
     },
     "execution_count": 77,
     "metadata": {},
     "output_type": "execute_result"
    }
   ],
   "source": [
    "x := series x"
   ]
  },
  {
   "cell_type": "code",
   "execution_count": 78,
   "metadata": {
    "collapsed": false
   },
   "outputs": [
    {
     "data": {
      "text/plain": [
       "             2     3     4     5      6      7      8\n",
       "   1 + x + 2x  + 3x  + 5x  + 8x  + 13x  + 21x  + O(x )\n",
       "                       Type: UnivariatePuiseuxSeries(Expression(Integer),x,0)\n"
      ]
     },
     "execution_count": 78,
     "metadata": {},
     "output_type": "execute_result"
    }
   ],
   "source": [
    "1/(1 - x - x^2)"
   ]
  },
  {
   "cell_type": "code",
   "execution_count": 79,
   "metadata": {
    "collapsed": false
   },
   "outputs": [
    {
     "data": {
      "text/plain": [
       "       1  3    1   5     1   7      9\n",
       "   x - - x  + --- x  - ---- x  + O(x )\n",
       "       6      120      5040\n",
       "                       Type: UnivariatePuiseuxSeries(Expression(Integer),x,0)\n"
      ]
     },
     "execution_count": 79,
     "metadata": {},
     "output_type": "execute_result"
    }
   ],
   "source": [
    "sin(x)"
   ]
  },
  {
   "cell_type": "code",
   "execution_count": 80,
   "metadata": {
    "collapsed": false
   },
   "outputs": [
    {
     "name": "stdout",
     "output_type": "stream",
     "text": [
      "  "
     ]
    },
    {
     "data": {
      "text/plain": [
       "                        sin(1)  2   cos(1)  3   sin(1)  4   cos(1)  5\n",
       "     sin(1) + cos(1)x - ------ x  - ------ x  + ------ x  + ------ x\n",
       "                           2           6          24          120\n",
       "   + \n",
       "       sin(1)  6   cos(1)  7      8\n",
       "     - ------ x  - ------ x  + O(x )\n",
       "         720        5040\n",
       "                       Type: UnivariatePuiseuxSeries(Expression(Integer),x,0)\n"
      ]
     },
     "execution_count": 80,
     "metadata": {},
     "output_type": "execute_result"
    }
   ],
   "source": [
    "sin(1 + x)"
   ]
  },
  {
   "cell_type": "code",
   "execution_count": 81,
   "metadata": {
    "collapsed": false
   },
   "outputs": [
    {
     "data": {
      "text/plain": [
       "          3        5        7\n",
       "         a   3    a   5    a    7      9\n",
       "   a x - -- x  + --- x  - ---- x  + O(x )\n",
       "          6      120      5040\n",
       "                       Type: UnivariatePuiseuxSeries(Expression(Integer),x,0)\n"
      ]
     },
     "execution_count": 81,
     "metadata": {},
     "output_type": "execute_result"
    }
   ],
   "source": [
    "sin(a * x)"
   ]
  },
  {
   "cell_type": "code",
   "execution_count": 82,
   "metadata": {
    "collapsed": false
   },
   "outputs": [
    {
     "name": "stdout",
     "output_type": "stream",
     "text": [
      "  "
     ]
    },
    {
     "data": {
      "text/plain": [
       "            - 1   1    1            1        2    19        3    3         4\n",
       "     (y - 1)    + - - -- (y - 1) + -- (y - 1)  - --- (y - 1)  + --- (y - 1)\n",
       "                  2   12           24            720            160\n",
       "   + \n",
       "        863         5    275         6            7\n",
       "     - ----- (y - 1)  + ----- (y - 1)  + O((y - 1) )\n",
       "       60480            24192\n",
       "                       Type: UnivariatePuiseuxSeries(Expression(Integer),y,1)\n"
      ]
     },
     "execution_count": 82,
     "metadata": {},
     "output_type": "execute_result"
    }
   ],
   "source": [
    "series(1/log(y),y = 1)"
   ]
  },
  {
   "cell_type": "code",
   "execution_count": 83,
   "metadata": {
    "collapsed": false
   },
   "outputs": [
    {
     "name": "stdout",
     "output_type": "stream",
     "text": [
      "    "
     ]
    },
    {
     "data": {
      "text/plain": [
       "                    2                            3\n",
       "     1.0 + z + 0.5 z  + 0.1666666666_6666666667 z\n",
       "   + \n",
       "                                4                               5\n",
       "     0.0416666666_6666666666_7 z  + 0.0083333333_3333333333_34 z\n",
       "   + \n",
       "                                 6                               7      8\n",
       "     0.0013888888_8888888888_89 z  + 0.0001984126_9841269841_27 z  + O(z )\n",
       "                                    Type: UnivariateTaylorSeries(Float,z,0.0)\n"
      ]
     },
     "execution_count": 83,
     "metadata": {},
     "output_type": "execute_result"
    }
   ],
   "source": [
    "f : UTS(FLOAT,z,0) := exp(z)"
   ]
  },
  {
   "cell_type": "markdown",
   "metadata": {},
   "source": [
    " Input for page SeriesFunctionPage\n"
   ]
  },
  {
   "cell_type": "code",
   "execution_count": 84,
   "metadata": {
    "collapsed": false
   },
   "outputs": [
    {
     "data": {
      "text/plain": [
       "           1  2   1  3    1  4    1   5    1   6     1   7      8\n",
       "   1 + w + - w  + - w  + -- w  + --- w  + --- w  + ---- w  + O(w )\n",
       "           2      6      24      120      720      5040\n",
       "                       Type: UnivariatePuiseuxSeries(Expression(Integer),w,0)\n"
      ]
     },
     "execution_count": 84,
     "metadata": {},
     "output_type": "execute_result"
    }
   ],
   "source": [
    "series(1/factorial(n),n,w = 0)"
   ]
  },
  {
   "cell_type": "code",
   "execution_count": 85,
   "metadata": {
    "collapsed": false
   },
   "outputs": [
    {
     "name": "stdout",
     "output_type": "stream",
     "text": [
      "   All user variables and function definitions have been cleared.\n"
     ]
    },
    {
     "data": {
      "text/plain": []
     },
     "execution_count": 85,
     "metadata": {},
     "output_type": "execute_result"
    }
   ],
   "source": [
    ")clear all"
   ]
  },
  {
   "cell_type": "code",
   "execution_count": 86,
   "metadata": {
    "collapsed": false
   },
   "outputs": [
    {
     "data": {
      "text/plain": [
       "   x\n",
       "                       Type: UnivariatePuiseuxSeries(Expression(Integer),x,0)\n"
      ]
     },
     "execution_count": 86,
     "metadata": {},
     "output_type": "execute_result"
    }
   ],
   "source": [
    "x := series x"
   ]
  },
  {
   "cell_type": "code",
   "execution_count": 87,
   "metadata": {
    "collapsed": false
   },
   "outputs": [
    {
     "data": {
      "text/plain": [
       "    2     3      4       5        6        7         8          9      10\n",
       "   x  + 6x  + 35x  + 204x  + 1189x  + 6930x  + 40391x  + 235416x  + O(x  )\n",
       "                       Type: UnivariatePuiseuxSeries(Expression(Integer),x,0)\n"
      ]
     },
     "execution_count": 87,
     "metadata": {},
     "output_type": "execute_result"
    }
   ],
   "source": [
    "rat := x^2 / (1 - 6*x + x^2)"
   ]
  },
  {
   "cell_type": "code",
   "execution_count": 88,
   "metadata": {
    "collapsed": false
   },
   "outputs": [
    {
     "data": {
      "text/plain": [
       "    2     3      4       5   7133  6        7   80711  8          9      10\n",
       "   x  + 6x  + 35x  + 204x  + ---- x  + 6927x  + ----- x  + 235068x  + O(x  )\n",
       "                               6                  2\n",
       "                       Type: UnivariatePuiseuxSeries(Expression(Integer),x,0)\n"
      ]
     },
     "execution_count": 88,
     "metadata": {},
     "output_type": "execute_result"
    }
   ],
   "source": [
    "sin(rat)"
   ]
  },
  {
   "cell_type": "code",
   "execution_count": 89,
   "metadata": {
    "collapsed": false
   },
   "outputs": [
    {
     "data": {
      "text/plain": [
       "   y\n",
       "                          Type: UnivariateTaylorSeries(Fraction(Integer),y,0)\n"
      ]
     },
     "execution_count": 89,
     "metadata": {},
     "output_type": "execute_result"
    }
   ],
   "source": [
    "y : UTS(FRAC INT,y,0) := y"
   ]
  },
  {
   "cell_type": "code",
   "execution_count": 90,
   "metadata": {
    "collapsed": false
   },
   "outputs": [
    {
     "data": {
      "text/plain": [
       "           1  2   1  3    1  4    1   5    1   6     1   7      8\n",
       "   1 + y + - y  + - y  + -- y  + --- y  + --- y  + ---- y  + O(y )\n",
       "           2      6      24      120      720      5040\n",
       "                          Type: UnivariateTaylorSeries(Fraction(Integer),y,0)\n"
      ]
     },
     "execution_count": 90,
     "metadata": {},
     "output_type": "execute_result"
    }
   ],
   "source": [
    "exp(y)"
   ]
  },
  {
   "cell_type": "code",
   "execution_count": 91,
   "metadata": {
    "collapsed": false
   },
   "outputs": [
    {
     "data": {
      "text/plain": [
       "    2   1  6      8\n",
       "   y  + - y  + O(y )\n",
       "        3\n",
       "                          Type: UnivariateTaylorSeries(Fraction(Integer),y,0)\n"
      ]
     },
     "execution_count": 91,
     "metadata": {},
     "output_type": "execute_result"
    }
   ],
   "source": [
    "tan(y^2)"
   ]
  },
  {
   "cell_type": "code",
   "execution_count": 92,
   "metadata": {
    "collapsed": false
   },
   "outputs": [
    {
     "data": {
      "text/plain": [
       "       1  2    1  4   721  6      8\n",
       "   1 - - y  + -- y  - --- y  + O(y )\n",
       "       2      24      720\n",
       "                          Type: UnivariateTaylorSeries(Fraction(Integer),y,0)\n"
      ]
     },
     "execution_count": 92,
     "metadata": {},
     "output_type": "execute_result"
    }
   ],
   "source": [
    "cos(y + y^5)"
   ]
  },
  {
   "cell_type": "code",
   "execution_count": 93,
   "metadata": {
    "collapsed": false
   },
   "outputs": [
    {
     "data": {
      "text/plain": [
       "       1  2   1  3    1  4    1  5    1  6    61   7      8\n",
       "   y - - y  + - y  - -- y  + -- y  - -- y  + ---- y  + O(y )\n",
       "       2      6      12      24      45      5040\n",
       "                          Type: UnivariateTaylorSeries(Fraction(Integer),y,0)\n"
      ]
     },
     "execution_count": 93,
     "metadata": {},
     "output_type": "execute_result"
    }
   ],
   "source": [
    "log(1 + sin(y))"
   ]
  },
  {
   "cell_type": "code",
   "execution_count": 94,
   "metadata": {
    "collapsed": false
   },
   "outputs": [
    {
     "data": {
      "text/plain": [
       "   z\n",
       "                        Type: UnivariateTaylorSeries(Expression(Integer),z,0)\n"
      ]
     },
     "execution_count": 94,
     "metadata": {},
     "output_type": "execute_result"
    }
   ],
   "source": [
    "z : UTS(EXPR INT,z,0) := z"
   ]
  },
  {
   "cell_type": "code",
   "execution_count": 95,
   "metadata": {
    "collapsed": false
   },
   "outputs": [
    {
     "name": "stdout",
     "output_type": "stream",
     "text": [
      "  "
     ]
    },
    {
     "data": {
      "text/plain": [
       "                    2        2         2          2          2           2\n",
       "       2     2    %e   2   %e   3   3%e   4   37%e   5   59%e   6   137%e   7\n",
       "     %e  + %e z + --- z  + --- z  + ---- z  + ----- z  + ----- z  + ------ z\n",
       "                   2        2         8        120        240         720\n",
       "   + \n",
       "        8\n",
       "     O(z )\n",
       "                        Type: UnivariateTaylorSeries(Expression(Integer),z,0)\n"
      ]
     },
     "execution_count": 95,
     "metadata": {},
     "output_type": "execute_result"
    }
   ],
   "source": [
    "exp(2 + tan(z))"
   ]
  },
  {
   "cell_type": "code",
   "execution_count": 96,
   "metadata": {
    "collapsed": false
   },
   "outputs": [
    {
     "data": {
      "text/plain": [
       "   w\n",
       "                        Type: UnivariateTaylorSeries(Expression(Integer),w,0)\n"
      ]
     },
     "execution_count": 96,
     "metadata": {},
     "output_type": "execute_result"
    }
   ],
   "source": [
    "w := taylor w"
   ]
  },
  {
   "cell_type": "markdown",
   "metadata": {},
   "source": [
    " Input for page LimitPage\n"
   ]
  },
  {
   "cell_type": "code",
   "execution_count": 97,
   "metadata": {
    "collapsed": false
   },
   "outputs": [
    {
     "name": "stdout",
     "output_type": "stream",
     "text": [
      "  "
     ]
    },
    {
     "data": {
      "text/plain": [
       "                    2        2         2          2          2           2\n",
       "       2     2    %e   2   %e   3   3%e   4   37%e   5   59%e   6   137%e   7\n",
       "     %e  + %e w + --- w  + --- w  + ---- w  + ----- w  + ----- w  + ------ w\n",
       "                   2        2         8        120        240         720\n",
       "   + \n",
       "        8\n",
       "     O(w )\n",
       "                        Type: UnivariateTaylorSeries(Expression(Integer),w,0)\n"
      ]
     },
     "execution_count": 97,
     "metadata": {},
     "output_type": "execute_result"
    }
   ],
   "source": [
    "exp(2 + tan(w))"
   ]
  },
  {
   "cell_type": "code",
   "execution_count": 98,
   "metadata": {
    "collapsed": false
   },
   "outputs": [
    {
     "name": "stdout",
     "output_type": "stream",
     "text": [
      "   All user variables and function definitions have been cleared.\n"
     ]
    },
    {
     "data": {
      "text/plain": []
     },
     "execution_count": 98,
     "metadata": {},
     "output_type": "execute_result"
    }
   ],
   "source": [
    ")clear all"
   ]
  },
  {
   "cell_type": "code",
   "execution_count": 99,
   "metadata": {
    "collapsed": false
   },
   "outputs": [
    {
     "data": {
      "text/plain": [
       "   sin(a x)\n",
       "   --------\n",
       "   tan(b x)\n",
       "                                                    Type: Expression(Integer)\n"
      ]
     },
     "execution_count": 99,
     "metadata": {},
     "output_type": "execute_result"
    }
   ],
   "source": [
    "f := sin(a*x) / tan(b*x)"
   ]
  },
  {
   "cell_type": "code",
   "execution_count": 100,
   "metadata": {
    "collapsed": false
   },
   "outputs": [
    {
     "data": {
      "text/plain": [
       "   a\n",
       "   -\n",
       "   b\n",
       "                      Type: Union(OrderedCompletion(Expression(Integer)),...)\n"
      ]
     },
     "execution_count": 100,
     "metadata": {},
     "output_type": "execute_result"
    }
   ],
   "source": [
    "limit(f,x=0)"
   ]
  },
  {
   "cell_type": "code",
   "execution_count": 101,
   "metadata": {
    "collapsed": false
   },
   "outputs": [
    {
     "data": {
      "text/plain": [
       "    csc(a x)\n",
       "   ---------\n",
       "   csch(b x)\n",
       "                                                    Type: Expression(Integer)\n"
      ]
     },
     "execution_count": 101,
     "metadata": {},
     "output_type": "execute_result"
    }
   ],
   "source": [
    "g := csc(a*x) / csch(b*x)"
   ]
  },
  {
   "cell_type": "code",
   "execution_count": 102,
   "metadata": {
    "collapsed": false
   },
   "outputs": [
    {
     "data": {
      "text/plain": [
       "   b\n",
       "   -\n",
       "   a\n",
       "                      Type: Union(OrderedCompletion(Expression(Integer)),...)\n"
      ]
     },
     "execution_count": 102,
     "metadata": {},
     "output_type": "execute_result"
    }
   ],
   "source": [
    "limit(g,x=0)"
   ]
  },
  {
   "cell_type": "code",
   "execution_count": 103,
   "metadata": {
    "collapsed": false
   },
   "outputs": [
    {
     "data": {
      "text/plain": [
       "    x + k x\n",
       "   (-----)\n",
       "      x\n",
       "                                                    Type: Expression(Integer)\n"
      ]
     },
     "execution_count": 103,
     "metadata": {},
     "output_type": "execute_result"
    }
   ],
   "source": [
    "h := (1 + k/x)^x"
   ]
  },
  {
   "cell_type": "markdown",
   "metadata": {},
   "source": [
    " Input for page SeriesBernoulliPage\n"
   ]
  },
  {
   "cell_type": "code",
   "execution_count": 104,
   "metadata": {
    "collapsed": false
   },
   "outputs": [
    {
     "data": {
      "text/plain": [
       "     k\n",
       "   %e\n",
       "                      Type: Union(OrderedCompletion(Expression(Integer)),...)\n"
      ]
     },
     "execution_count": 104,
     "metadata": {},
     "output_type": "execute_result"
    }
   ],
   "source": [
    "limit(h,x=%plusInfinity)"
   ]
  },
  {
   "cell_type": "code",
   "execution_count": 105,
   "metadata": {
    "collapsed": false
   },
   "outputs": [
    {
     "name": "stdout",
     "output_type": "stream",
     "text": [
      "   All user variables and function definitions have been cleared.\n"
     ]
    },
    {
     "data": {
      "text/plain": []
     },
     "execution_count": 105,
     "metadata": {},
     "output_type": "execute_result"
    }
   ],
   "source": [
    ")clear all"
   ]
  },
  {
   "cell_type": "code",
   "execution_count": 106,
   "metadata": {
    "collapsed": false
   },
   "outputs": [
    {
     "data": {
      "text/plain": [
       "   25333\n",
       "                                                        Type: PositiveInteger\n"
      ]
     },
     "execution_count": 106,
     "metadata": {},
     "output_type": "execute_result"
    }
   ],
   "source": [
    "reduce(+,[m^4 for m in 1..10])"
   ]
  },
  {
   "cell_type": "code",
   "execution_count": 107,
   "metadata": {
    "collapsed": false
   },
   "outputs": [
    {
     "data": {
      "text/plain": [
       "     5      4      3\n",
       "   6k  + 15k  + 10k  - k\n",
       "   ---------------------\n",
       "             30\n",
       "                                          Type: Fraction(Polynomial(Integer))\n"
      ]
     },
     "execution_count": 107,
     "metadata": {},
     "output_type": "execute_result"
    }
   ],
   "source": [
    "sum4 := sum(m^4, m = 1..k)"
   ]
  },
  {
   "cell_type": "code",
   "execution_count": 108,
   "metadata": {
    "collapsed": false
   },
   "outputs": [
    {
     "data": {
      "text/plain": [
       "   25333\n",
       "                                          Type: Fraction(Polynomial(Integer))\n"
      ]
     },
     "execution_count": 108,
     "metadata": {},
     "output_type": "execute_result"
    }
   ],
   "source": [
    "eval(sum4, k = 10)"
   ]
  },
  {
   "cell_type": "code",
   "execution_count": 109,
   "metadata": {
    "collapsed": false
   },
   "outputs": [
    {
     "data": {
      "text/plain": [
       "       t x\n",
       "   t %e\n",
       "   -------\n",
       "     t\n",
       "   %e  - 1\n",
       "                                                    Type: Expression(Integer)\n"
      ]
     },
     "execution_count": 109,
     "metadata": {},
     "output_type": "execute_result"
    }
   ],
   "source": [
    "f := t*exp(x*t) / (exp(t) - 1)"
   ]
  },
  {
   "cell_type": "code",
   "execution_count": 110,
   "metadata": {
    "collapsed": false
   },
   "outputs": [
    {
     "data": {
      "text/plain": []
     },
     "execution_count": 110,
     "metadata": {},
     "output_type": "execute_result"
    }
   ],
   "source": [
    ")set streams calculate 5"
   ]
  },
  {
   "cell_type": "code",
   "execution_count": 111,
   "metadata": {
    "collapsed": false
   },
   "outputs": [
    {
     "name": "stdout",
     "output_type": "stream",
     "text": [
      "  "
     ]
    },
    {
     "data": {
      "text/plain": [
       "                      2                 3     2\n",
       "         2x - 1     6x  - 6x + 1  2   2x  - 3x  + x  3\n",
       "     1 + ------ t + ------------ t  + ------------- t\n",
       "            2            12                 12\n",
       "   + \n",
       "        4      3      2            5      4      3\n",
       "     30x  - 60x  + 30x  - 1  4   6x  - 15x  + 10x  - x  5      6\n",
       "     ---------------------- t  + --------------------- t  + O(t )\n",
       "               720                        720\n",
       "                        Type: UnivariateTaylorSeries(Expression(Integer),t,0)\n"
      ]
     },
     "execution_count": 111,
     "metadata": {},
     "output_type": "execute_result"
    }
   ],
   "source": [
    "ff := taylor(f,t = 0)"
   ]
  },
  {
   "cell_type": "code",
   "execution_count": 112,
   "metadata": {
    "collapsed": false
   },
   "outputs": [
    {
     "data": {
      "text/plain": [
       "      6       5       4      2\n",
       "   42x  - 126x  + 105x  - 21x  + 1\n",
       "   -------------------------------\n",
       "                  42\n",
       "                                                    Type: Expression(Integer)\n"
      ]
     },
     "execution_count": 112,
     "metadata": {},
     "output_type": "execute_result"
    }
   ],
   "source": [
    "factorial(6) * coefficient(ff,6)"
   ]
  },
  {
   "cell_type": "code",
   "execution_count": 113,
   "metadata": {
    "collapsed": false
   },
   "outputs": [
    {
     "data": {
      "text/plain": [
       "       t x + t       t x\n",
       "   t %e        - t %e\n",
       "   ---------------------\n",
       "            t\n",
       "          %e  - 1\n",
       "                                                    Type: Expression(Integer)\n"
      ]
     },
     "execution_count": 113,
     "metadata": {},
     "output_type": "execute_result"
    }
   ],
   "source": [
    "g := eval(f, x = x + 1) - f"
   ]
  },
  {
   "cell_type": "code",
   "execution_count": 114,
   "metadata": {
    "collapsed": false
   },
   "outputs": [
    {
     "data": {
      "text/plain": [
       "       t x\n",
       "   t %e\n",
       "                                                    Type: Expression(Integer)\n"
      ]
     },
     "execution_count": 114,
     "metadata": {},
     "output_type": "execute_result"
    }
   ],
   "source": [
    "normalize(g)"
   ]
  },
  {
   "cell_type": "code",
   "execution_count": 115,
   "metadata": {
    "collapsed": false
   },
   "outputs": [
    {
     "data": {
      "text/plain": [
       "               2       3       4\n",
       "          2   x   3   x   4   x   5      6\n",
       "   t + x t  + -- t  + -- t  + -- t  + O(t )\n",
       "               2       6      24\n",
       "                        Type: UnivariateTaylorSeries(Expression(Integer),t,0)\n"
      ]
     },
     "execution_count": 115,
     "metadata": {},
     "output_type": "execute_result"
    }
   ],
   "source": [
    "taylor(g,t = 0)"
   ]
  },
  {
   "cell_type": "code",
   "execution_count": 116,
   "metadata": {
    "collapsed": false
   },
   "outputs": [
    {
     "data": {
      "text/plain": [
       "     5      4      3\n",
       "   6x  - 15x  + 10x  - x\n",
       "   ---------------------\n",
       "             6\n",
       "                                                    Type: Expression(Integer)\n"
      ]
     },
     "execution_count": 116,
     "metadata": {},
     "output_type": "execute_result"
    }
   ],
   "source": [
    "B5 := factorial(5) * coefficient(ff,5)"
   ]
  },
  {
   "cell_type": "code",
   "execution_count": 117,
   "metadata": {
    "collapsed": false
   },
   "outputs": [
    {
     "data": {
      "text/plain": [
       "     5      4      3\n",
       "   6k  + 15k  + 10k  - k\n",
       "   ---------------------\n",
       "             30\n",
       "                                                    Type: Expression(Integer)\n"
      ]
     },
     "execution_count": 117,
     "metadata": {},
     "output_type": "execute_result"
    }
   ],
   "source": [
    "1/5 * (eval(B5, x = k + 1) - eval(B5, x = 1))"
   ]
  },
  {
   "cell_type": "code",
   "execution_count": 118,
   "metadata": {
    "collapsed": false
   },
   "outputs": [
    {
     "data": {
      "text/plain": [
       "     5      4      3\n",
       "   6k  + 15k  + 10k  - k\n",
       "   ---------------------\n",
       "             30\n",
       "                                          Type: Fraction(Polynomial(Integer))\n"
      ]
     },
     "execution_count": 118,
     "metadata": {},
     "output_type": "execute_result"
    }
   ],
   "source": [
    "sum4"
   ]
  },
  {
   "cell_type": "code",
   "execution_count": 119,
   "metadata": {
    "collapsed": false
   },
   "outputs": [
    {
     "name": "stderr",
     "output_type": "stream",
     "text": [
      "INDEX-TOO-LARGE-ERROR: \n",
      "  #<SB-KERNEL:INDEX-TOO-LARGE-ERROR expected-type: (INTEGER 0 (0)) datum: 0>\n"
     ]
    },
    {
     "data": {
      "text/plain": []
     },
     "execution_count": 119,
     "metadata": {},
     "output_type": "execute_result"
    }
   ],
   "source": []
  }
 ],
 "metadata": {
  "kernelspec": {
   "display_name": "FriCAS",
   "language": "spad",
   "name": "ifricas"
  },
  "language_info": {
   "codemirror_mode": "spad",
   "mimetype": "text/x-spad",
   "name": "SPAD",
   "pygments_lexer": "spad",
   "version": "1.2.6"
  },
  "name": "calculus2.ipynb"
 },
 "nbformat": 4,
 "nbformat_minor": 0
}