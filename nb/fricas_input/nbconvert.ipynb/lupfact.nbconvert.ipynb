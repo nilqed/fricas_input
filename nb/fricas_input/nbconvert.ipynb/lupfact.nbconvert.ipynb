{
 "cells": [
  {
   "cell_type": "markdown",
   "metadata": {},
   "source": [
    "Copyright The Numerical Algorithms Group Limited 1991.\n",
    " This file contains some functions that compute LUP factorizations of\n",
    " matrices over a field.  The main function to call is lupFactor.  It\n",
    " accepts one argument, which should be a non-singular square matrix.\n",
    " If the matrix is not square, \"failed\" will be returned.  If the matrix\n",
    " is non-singular, a 'cannot coerce \"failed\"' error will be displayed.\n",
    " lupFactor returns a Union(List Matrix field,\"failed\") object.  Coerce\n",
    " this to a List Matrix field before you try to use it.  See the comment\n",
    " before the definition of lupFactor for the reference for the\n",
    " algorithm.\n"
   ]
  },
  {
   "cell_type": "markdown",
   "metadata": {},
   "source": [
    " state the field here\n"
   ]
  },
  {
   "cell_type": "code",
   "execution_count": 0,
   "metadata": {
    "collapsed": false
   },
   "outputs": [
    {
     "name": "stdout",
     "output_type": "stream",
     "text": [
      "   All user variables and function definitions have been cleared.\n"
     ]
    },
    {
     "data": {
      "text/plain": []
     },
     "execution_count": 0,
     "metadata": {},
     "output_type": "execute_result"
    }
   ],
   "source": [
    ")clear all"
   ]
  },
  {
   "cell_type": "markdown",
   "metadata": {},
   "source": [
    " next computes a permutation matrix for mult on the right\n"
   ]
  },
  {
   "cell_type": "code",
   "execution_count": 1,
   "metadata": {
    "collapsed": false
   },
   "outputs": [
    {
     "data": {
      "text/plain": [
       "   Fraction(Integer)\n",
       "                                                                   Type: Type\n"
      ]
     },
     "execution_count": 1,
     "metadata": {},
     "output_type": "execute_result"
    }
   ],
   "source": [
    "field := Fraction Integer"
   ]
  },
  {
   "cell_type": "code",
   "execution_count": 2,
   "metadata": {
    "collapsed": false
   },
   "outputs": [
    {
     "data": {
      "text/plain": [
       "                                                                   Type: Void\n"
      ]
     },
     "execution_count": 2,
     "metadata": {},
     "output_type": "execute_result"
    }
   ],
   "source": [
    "permMat: (INT, INT, INT) -> Matrix field"
   ]
  },
  {
   "cell_type": "markdown",
   "metadata": {},
   "source": [
    " find first col in first row that is nonzero or returns 0\n"
   ]
  },
  {
   "cell_type": "code",
   "execution_count": 3,
   "metadata": {
    "collapsed": false
   },
   "outputs": [
    {
     "data": {
      "text/plain": [
       "                                                                   Type: Void\n"
      ]
     },
     "execution_count": 3,
     "metadata": {},
     "output_type": "execute_result"
    }
   ],
   "source": [
    "permMat(dim, i, j) ==\n",
    "  m : Matrix field :=\n",
    "    diagonalMatrix [(if i = k or j = k then 0 else 1) for k in 1..dim]\n",
    "  m(i,j) := 1\n",
    "  m(j,i) := 1\n",
    "  m"
   ]
  },
  {
   "cell_type": "code",
   "execution_count": 4,
   "metadata": {
    "collapsed": false
   },
   "outputs": [
    {
     "data": {
      "text/plain": [
       "                                                                   Type: Void\n"
      ]
     },
     "execution_count": 4,
     "metadata": {},
     "output_type": "execute_result"
    }
   ],
   "source": [
    "nonZeroCol: Matrix field -> INT"
   ]
  },
  {
   "cell_type": "markdown",
   "metadata": {},
   "source": [
    " this embeds the given square matrix in a larger square matrix\n",
    " where the extra space is filled with 1s on the diagonal, 0 elsewhere.\n"
   ]
  },
  {
   "cell_type": "code",
   "execution_count": 5,
   "metadata": {
    "collapsed": false
   },
   "outputs": [
    {
     "data": {
      "text/plain": [
       "                                                                   Type: Void\n"
      ]
     },
     "execution_count": 5,
     "metadata": {},
     "output_type": "execute_result"
    }
   ],
   "source": [
    "nonZeroCol(m) ==\n",
    "  foundit := false\n",
    "  col := 1\n",
    "  for i in 1..ncols(m) while not foundit repeat\n",
    "    for j in 1..nrows(m) while not foundit repeat\n",
    "      if not(m(j,i) = 0) then\n",
    "        col := i\n",
    "        foundit := true\n",
    "  col"
   ]
  },
  {
   "cell_type": "code",
   "execution_count": 6,
   "metadata": {
    "collapsed": false
   },
   "outputs": [
    {
     "data": {
      "text/plain": [
       "                                                                   Type: Void\n"
      ]
     },
     "execution_count": 6,
     "metadata": {},
     "output_type": "execute_result"
    }
   ],
   "source": [
    "embedMatrix: (Matrix field,NNI,NNI) -> Matrix field"
   ]
  },
  {
   "cell_type": "markdown",
   "metadata": {},
   "source": [
    " following implements algorithm in \"The Design and Analysis of\n",
    " Computer Algorithms\" by Aho, Hopcroft and Ullman\n"
   ]
  },
  {
   "cell_type": "code",
   "execution_count": 7,
   "metadata": {
    "collapsed": false
   },
   "outputs": [
    {
     "data": {
      "text/plain": [
       "                                                                   Type: Void\n"
      ]
     },
     "execution_count": 7,
     "metadata": {},
     "output_type": "execute_result"
    }
   ],
   "source": [
    "embedMatrix(m, oldDim, newDim) ==\n",
    "  n := diagonalMatrix([1 for i in 1..newDim])$(Matrix(field))\n",
    "  setsubMatrix!(n,1,1,m)\n",
    "  n"
   ]
  },
  {
   "cell_type": "code",
   "execution_count": 8,
   "metadata": {
    "collapsed": false
   },
   "outputs": [
    {
     "data": {
      "text/plain": [
       "                                                                   Type: Void\n"
      ]
     },
     "execution_count": 8,
     "metadata": {},
     "output_type": "execute_result"
    }
   ],
   "source": [
    "lupFactorEngine: (Matrix field, INT, INT)  -> List Matrix field"
   ]
  },
  {
   "cell_type": "markdown",
   "metadata": {},
   "source": [
    " next computes floor of log base 2 of an integer\n"
   ]
  },
  {
   "cell_type": "code",
   "execution_count": 9,
   "metadata": {
    "collapsed": false
   },
   "outputs": [
    {
     "data": {
      "text/plain": [
       "                                                                   Type: Void\n"
      ]
     },
     "execution_count": 9,
     "metadata": {},
     "output_type": "execute_result"
    }
   ],
   "source": [
    "lupFactorEngine(a, m, p) ==\n",
    "  m = 1 =>\n",
    "    l : Matrix field := diagonalMatrix [1]\n",
    "    pm : Matrix field := permMat(p,1,nonZeroCol a)\n",
    "    [l,a*pm,pm]\n",
    "  m2 : NNI := m quo 2\n",
    "  b : Matrix field := subMatrix(a,1,m2,1,p)\n",
    "  c : Matrix field := subMatrix(a,m2+1,m,1,p)\n",
    "  lup := lupFactorEngine(b,m2,p)\n",
    "  l1 := lup.1\n",
    "  u1 := lup.2\n",
    "  pm1 := lup.3\n",
    "  d : Matrix field := c * (inverse(pm1) :: Matrix(field))\n",
    "  e : Matrix field := subMatrix(u1,1,m2,1,m2)\n",
    "  f : Matrix field := subMatrix(d,1,m2,1,m2)\n",
    "  g : Matrix field := d - f * (inverse(e) :: Matrix(field)) * u1\n",
    "  pmin2 : NNI := p - m2\n",
    "  g' : Matrix field := subMatrix(g,1,nrows(g),p - pmin2 + 1,p)\n",
    "  lup := lupFactorEngine(g',m2,pmin2)\n",
    "  l2 := lup.1\n",
    "  u2 := lup.2\n",
    "  pm2 := lup.3\n",
    "  pm3 := horizConcat(zero(pmin2,m2)$(Matrix field), pm2)\n",
    "  pm3 := vertConcat(horizConcat(diagonalMatrix [1 for i in 1..m2],\n",
    "    zero(m2,pmin2)$(Matrix field)),pm3)\n",
    "  h : Matrix field := u1 * (inverse(pm3) :: Matrix(field))\n",
    "  l : Matrix field := horizConcat(l1, zero(m2,m2)$(Matrix field))\n",
    "  l := vertConcat(l,horizConcat(f * (inverse(e) :: Matrix(field)), l2))\n",
    "  u : Matrix field := horizConcat(zero(m2,m2)$(Matrix field), u2)\n",
    "  u := vertConcat(h,u)\n",
    "  pm := pm3 * pm1\n",
    "  [l,u,pm]"
   ]
  },
  {
   "cell_type": "code",
   "execution_count": 10,
   "metadata": {
    "collapsed": false
   },
   "outputs": [
    {
     "data": {
      "text/plain": [
       "                                                                   Type: Void\n"
      ]
     },
     "execution_count": 10,
     "metadata": {},
     "output_type": "execute_result"
    }
   ],
   "source": [
    "intLog2: NNI -> NNI"
   ]
  },
  {
   "cell_type": "markdown",
   "metadata": {},
   "source": [
    " here is the function to call\n"
   ]
  },
  {
   "cell_type": "code",
   "execution_count": 11,
   "metadata": {
    "collapsed": false
   },
   "outputs": [
    {
     "data": {
      "text/plain": [
       "                                                                   Type: Void\n"
      ]
     },
     "execution_count": 11,
     "metadata": {},
     "output_type": "execute_result"
    }
   ],
   "source": [
    "intLog2 n == if n = 1 then 0 else 1 + intLog2(n quo 2)"
   ]
  },
  {
   "cell_type": "code",
   "execution_count": 12,
   "metadata": {
    "collapsed": false
   },
   "outputs": [
    {
     "data": {
      "text/plain": [
       "                                                                   Type: Void\n"
      ]
     },
     "execution_count": 12,
     "metadata": {},
     "output_type": "execute_result"
    }
   ],
   "source": [
    "lupFactor: Matrix field -> Union(List Matrix field,\"failed\")"
   ]
  },
  {
   "cell_type": "markdown",
   "metadata": {},
   "source": [
    " Example from Aho, et al.\n"
   ]
  },
  {
   "cell_type": "code",
   "execution_count": 13,
   "metadata": {
    "collapsed": false
   },
   "outputs": [
    {
     "data": {
      "text/plain": [
       "                                                                   Type: Void\n"
      ]
     },
     "execution_count": 13,
     "metadata": {},
     "output_type": "execute_result"
    }
   ],
   "source": [
    "lupFactor m ==\n",
    "  not((r := nrows m) = ncols m) =>\n",
    "    messagePrint(\"Matrix must be square\")$OUTFORM\n",
    "    \"failed\"\n",
    "  ilog := intLog2(2)\n",
    "  not(r = 2 ^ ilog) =>\n",
    "    m := embedMatrix(m,r,(n := 2 ^ (ilog + 1)))\n",
    "    l := lupFactorEngine(m,n,n)\n",
    "    [subMatrix(l.1,1,r,1,r),subMatrix(l.2,1,r,1,r),\n",
    "      subMatrix(l.3,1,r,1,r)]\n",
    "  lupFactorEngine(m,r,r)"
   ]
  },
  {
   "cell_type": "code",
   "execution_count": 14,
   "metadata": {
    "collapsed": false
   },
   "outputs": [
    {
     "name": "stdout",
     "output_type": "stream",
     "text": [
      "Warning: HyperTeX macro table not found\n"
     ]
    },
    {
     "data": {
      "text/plain": [
       "   +0  0  0  0+\n",
       "   |          |\n",
       "   |0  0  0  0|\n",
       "   |          |\n",
       "   |0  0  0  0|\n",
       "   |          |\n",
       "   +0  0  0  0+\n",
       "                                              Type: Matrix(Fraction(Integer))\n"
      ]
     },
     "execution_count": 14,
     "metadata": {},
     "output_type": "execute_result"
    }
   ],
   "source": [
    "m : Matrix field := zero(4,4)"
   ]
  },
  {
   "cell_type": "code",
   "execution_count": 15,
   "metadata": {
    "collapsed": false
   },
   "outputs": [
    {
     "data": {
      "text/plain": [
       "                                                                   Type: Void\n"
      ]
     },
     "execution_count": 15,
     "metadata": {},
     "output_type": "execute_result"
    }
   ],
   "source": [
    "for i in 4..1 by -1 repeat m(5-i,i) := i"
   ]
  },
  {
   "cell_type": "code",
   "execution_count": 16,
   "metadata": {
    "collapsed": false
   },
   "outputs": [
    {
     "data": {
      "text/plain": [
       "   +0  0  0  4+\n",
       "   |          |\n",
       "   |0  0  3  0|\n",
       "   |          |\n",
       "   |0  2  0  0|\n",
       "   |          |\n",
       "   +1  0  0  0+\n",
       "                                              Type: Matrix(Fraction(Integer))\n"
      ]
     },
     "execution_count": 16,
     "metadata": {},
     "output_type": "execute_result"
    }
   ],
   "source": [
    "m"
   ]
  },
  {
   "cell_type": "markdown",
   "metadata": {},
   "source": [
    " Example where the dimension does not start out a power of 2\n"
   ]
  },
  {
   "cell_type": "code",
   "execution_count": 17,
   "metadata": {
    "collapsed": false
   },
   "outputs": [
    {
     "name": "stdout",
     "output_type": "stream",
     "text": [
      "   Compiling function intLog2 with type NonNegativeInteger -> \n",
      "      NonNegativeInteger \n",
      "   Compiling function embedMatrix with type (Matrix(Fraction(Integer)),\n",
      "      NonNegativeInteger,NonNegativeInteger) -> Matrix(Fraction(Integer\n",
      "      )) \n",
      "   Compiling function nonZeroCol with type Matrix(Fraction(Integer))\n",
      "       -> Integer \n",
      "   Compiling function permMat with type (Integer,Integer,Integer) -> \n",
      "      Matrix(Fraction(Integer)) \n",
      "   Compiling function lupFactorEngine with type (Matrix(Fraction(\n",
      "      Integer)),Integer,Integer) -> List(Matrix(Fraction(Integer))) \n",
      "   Compiling function lupFactor with type Matrix(Fraction(Integer)) -> \n",
      "      Union(List(Matrix(Fraction(Integer))),\"failed\") \n",
      "   Compiling function G11373 with type Integer -> Boolean \n"
     ]
    },
    {
     "data": {
      "text/plain": [
       "    +1  0  0  0+ +4  0  0  0+ +0  0  0  1+\n",
       "    |          | |          | |          |\n",
       "    |0  1  0  0| |0  3  0  0| |0  0  1  0|\n",
       "   [|          |,|          |,|          |]\n",
       "    |0  0  1  0| |0  0  2  0| |0  1  0  0|\n",
       "    |          | |          | |          |\n",
       "    +0  0  0  1+ +0  0  0  1+ +1  0  0  0+\n",
       "                             Type: Union(List(Matrix(Fraction(Integer))),...)\n"
      ]
     },
     "execution_count": 17,
     "metadata": {},
     "output_type": "execute_result"
    }
   ],
   "source": [
    "lupFactor m"
   ]
  },
  {
   "cell_type": "code",
   "execution_count": 18,
   "metadata": {
    "collapsed": false
   },
   "outputs": [
    {
     "data": {
      "text/plain": [
       "   +1  2  3+\n",
       "   |       |\n",
       "   |2  3  1|\n",
       "   |       |\n",
       "   +3  1  2+\n",
       "                                              Type: Matrix(Fraction(Integer))\n"
      ]
     },
     "execution_count": 18,
     "metadata": {},
     "output_type": "execute_result"
    }
   ],
   "source": [
    "m := [[1,2,3],[2,3,1],[3,1,2]]"
   ]
  },
  {
   "cell_type": "code",
   "execution_count": 19,
   "metadata": {
    "collapsed": false
   },
   "outputs": [
    {
     "name": "stderr",
     "output_type": "stream",
     "text": [
      "INDEX-TOO-LARGE-ERROR: \n",
      "  #<SB-KERNEL:INDEX-TOO-LARGE-ERROR expected-type: (INTEGER 0 (0)) datum: 0>\n"
     ]
    },
    {
     "data": {
      "text/plain": []
     },
     "execution_count": 19,
     "metadata": {},
     "output_type": "execute_result"
    }
   ],
   "source": []
  }
 ],
 "metadata": {
  "kernelspec": {
   "display_name": "FriCAS",
   "language": "spad",
   "name": "ifricas"
  },
  "language_info": {
   "codemirror_mode": "spad",
   "mimetype": "text/x-spad",
   "name": "SPAD",
   "pygments_lexer": "spad",
   "version": "1.2.6"
  },
  "name": "lupfact.ipynb"
 },
 "nbformat": 4,
 "nbformat_minor": 0
}