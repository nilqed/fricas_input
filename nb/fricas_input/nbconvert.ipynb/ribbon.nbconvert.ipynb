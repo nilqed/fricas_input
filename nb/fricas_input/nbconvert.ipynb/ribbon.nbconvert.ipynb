{
 "cells": [
  {
   "cell_type": "markdown",
   "metadata": {},
   "source": [
    "Copyright The Numerical Algorithms Group Limited 1994.\n",
    "the first attempt\n"
   ]
  },
  {
   "cell_type": "code",
   "execution_count": 0,
   "metadata": {
    "collapsed": false
   },
   "outputs": [
    {
     "data": {
      "text/plain": [
       "                                                                   Type: Void\n"
      ]
     },
     "execution_count": 0,
     "metadata": {},
     "output_type": "execute_result"
    }
   ],
   "source": [
    "drawRibbons(flist,xrange) ==\n",
    "  sp := createThreeSpace()\n",
    "  y0 := 0\n",
    "  for f in flist repeat\n",
    "    makeObject(f,xrange,y=y0..y0+1,\n",
    "       space==sp, var2Steps ==1)\n",
    "    y0 := y0+1\n",
    "  vp:=makeViewport3D(sp,\"Ribbons\")\n",
    "  drawStyle(vp,\"shade\")\n",
    "  outlineRender(vp,\"on\")\n",
    "  showRegion(vp,\"on\")\n",
    "  n := # flist\n",
    "  zoom(vp,n,1,n)\n",
    "  rotate(vp,0,75)\n",
    "  vp"
   ]
  },
  {
   "cell_type": "code",
   "execution_count": 1,
   "metadata": {
    "collapsed": false
   },
   "outputs": [
    {
     "name": "stderr",
     "output_type": "stream",
     "text": [
      "INDEX-TOO-LARGE-ERROR: \n",
      "  #<SB-KERNEL:INDEX-TOO-LARGE-ERROR expected-type: (INTEGER 0 (0)) datum: 0>\n"
     ]
    },
    {
     "data": {
      "text/plain": []
     },
     "execution_count": 1,
     "metadata": {},
     "output_type": "execute_result"
    }
   ],
   "source": []
  }
 ],
 "metadata": {
  "kernelspec": {
   "display_name": "FriCAS",
   "language": "spad",
   "name": "ifricas"
  },
  "language_info": {
   "codemirror_mode": "spad",
   "mimetype": "text/x-spad",
   "name": "SPAD",
   "pygments_lexer": "spad",
   "version": "1.2.6"
  },
  "name": "ribbon.ipynb"
 },
 "nbformat": 4,
 "nbformat_minor": 0
}