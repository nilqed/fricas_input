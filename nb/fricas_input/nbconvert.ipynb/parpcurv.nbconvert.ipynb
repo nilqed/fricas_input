{
 "cells": [
  {
   "cell_type": "markdown",
   "metadata": {},
   "source": [
    "Copyright The Numerical Algorithms Group Limited 1991.\n",
    " test for ParametricPlaneCurve domain\n"
   ]
  },
  {
   "cell_type": "code",
   "execution_count": 0,
   "metadata": {
    "collapsed": false
   },
   "outputs": [
    {
     "name": "stdout",
     "output_type": "stream",
     "text": [
      "Warning: HyperTeX macro table not found\n",
      "   Compiling function %B with type DoubleFloat -> DoubleFloat \n",
      "   Compiling function %D with type DoubleFloat -> DoubleFloat \n",
      "   Graph data being transmitted to the viewport manager...\n",
      "   FriCAS2D data being transmitted to the viewport manager...\n"
     ]
    },
    {
     "data": {
      "text/plain": [
       "   TwoDimensionalViewport: \"sin(3*t)\"\n",
       "                                                 Type: TwoDimensionalViewport\n"
      ]
     },
     "execution_count": 0,
     "metadata": {},
     "output_type": "execute_result"
    }
   ],
   "source": [
    "draw(curve(sin(3*t),cos(3*t)),t = -5*%pi..5*%pi)"
   ]
  },
  {
   "cell_type": "code",
   "execution_count": 1,
   "metadata": {
    "collapsed": false
   },
   "outputs": [
    {
     "name": "stdout",
     "output_type": "stream",
     "text": [
      "   Compiling function %F with type DoubleFloat -> DoubleFloat \n",
      "   Compiling function %H with type DoubleFloat -> DoubleFloat \n",
      "   Graph data being transmitted to the viewport manager...\n",
      "   FriCAS2D data being transmitted to the viewport manager...\n"
     ]
    },
    {
     "data": {
      "text/plain": [
       "   TwoDimensionalViewport: \"sin(tan(t))\"\n",
       "                                                 Type: TwoDimensionalViewport\n"
      ]
     },
     "execution_count": 1,
     "metadata": {},
     "output_type": "execute_result"
    }
   ],
   "source": [
    "draw(curve(sin(tan(t)),tan(sin(t))),t = -5*%pi..5*%pi)"
   ]
  },
  {
   "cell_type": "code",
   "execution_count": 2,
   "metadata": {
    "collapsed": false
   },
   "outputs": [
    {
     "name": "stderr",
     "output_type": "stream",
     "text": [
      "INDEX-TOO-LARGE-ERROR: \n",
      "  #<SB-KERNEL:INDEX-TOO-LARGE-ERROR expected-type: (INTEGER 0 (0)) datum: 0>\n"
     ]
    },
    {
     "data": {
      "text/plain": []
     },
     "execution_count": 2,
     "metadata": {},
     "output_type": "execute_result"
    }
   ],
   "source": []
  }
 ],
 "metadata": {
  "kernelspec": {
   "display_name": "FriCAS",
   "language": "spad",
   "name": "ifricas"
  },
  "language_info": {
   "codemirror_mode": "spad",
   "mimetype": "text/x-spad",
   "name": "SPAD",
   "pygments_lexer": "spad",
   "version": "1.2.6"
  },
  "name": "parpcurv.ipynb"
 },
 "nbformat": 4,
 "nbformat_minor": 0
}