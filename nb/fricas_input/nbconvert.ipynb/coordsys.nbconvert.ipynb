{
 "cells": [
  {
   "cell_type": "markdown",
   "metadata": {},
   "source": [
    "Copyright The Numerical Algorithms Group Limited 1994.\n",
    " test input for CoordinateSystems package\n"
   ]
  },
  {
   "cell_type": "code",
   "execution_count": 0,
   "metadata": {
    "collapsed": false
   },
   "outputs": [
    {
     "name": "stdout",
     "output_type": "stream",
     "text": [
      "Warning: HyperTeX macro table not found\n",
      "   Compiling function %B with type DoubleFloat -> DoubleFloat \n",
      "   Graph data being transmitted to the viewport manager...\n",
      "   FriCAS2D data being transmitted to the viewport manager...\n"
     ]
    },
    {
     "data": {
      "text/plain": [
       "   TwoDimensionalViewport: \"sin(x)\"\n",
       "                                                 Type: TwoDimensionalViewport\n"
      ]
     },
     "execution_count": 0,
     "metadata": {},
     "output_type": "execute_result"
    }
   ],
   "source": [
    "draw(sin(x),x=0.5..%pi,coordinates == bipolar(1$DFLOAT))"
   ]
  },
  {
   "cell_type": "code",
   "execution_count": 1,
   "metadata": {
    "collapsed": false
   },
   "outputs": [
    {
     "name": "stdout",
     "output_type": "stream",
     "text": [
      "   Function declaration m : (DoubleFloat,DoubleFloat) -> DoubleFloat \n",
      "      has been added to workspace.\n"
     ]
    },
    {
     "data": {
      "text/plain": [
       "                                                                   Type: Void\n"
      ]
     },
     "execution_count": 1,
     "metadata": {},
     "output_type": "execute_result"
    }
   ],
   "source": [
    "m(u:DFLOAT,v:DFLOAT):DFLOAT == 1"
   ]
  },
  {
   "cell_type": "code",
   "execution_count": 2,
   "metadata": {
    "collapsed": false
   },
   "outputs": [
    {
     "name": "stdout",
     "output_type": "stream",
     "text": [
      "   Compiling function m with type (DoubleFloat,DoubleFloat) -> \n",
      "      DoubleFloat \n",
      "   Transmitting data...\n"
     ]
    },
    {
     "data": {
      "text/plain": [
       "   ThreeDimensionalViewport: \"FriCAS3D\"\n",
       "                                               Type: ThreeDimensionalViewport\n"
      ]
     },
     "execution_count": 2,
     "metadata": {},
     "output_type": "execute_result"
    }
   ],
   "source": [
    "draw(m,0..2*%pi, 0..%pi,coordinates == bipolar(1$DFLOAT))"
   ]
  },
  {
   "cell_type": "markdown",
   "metadata": {},
   "source": [
    "conical(a,b) maps a 3D point (lambda,mu,nu) to the rectangular coordinates:\n",
    "x = lambda*mu*nu/(a*b)\n",
    "y = lambda/a*sqrt((mu^2-a^2)*(nu^2-a^2)/(a^2-b^2))\n",
    "z = lambda/b*sqrt((mu^2-b^2)*(nu^2-b^2)/(b^2-a^2))\n",
    "NOTE:  There will be a division by zero error if a*b = 0, or a^2-b^2 = 0,\n",
    "     or if b^2-a^2 = 0. Also, the following relations must be true:\n",
    "       (mu^2-a^2)*(nu^2-a^2)/(a^2-b^2) > 0 and\n",
    "       (mu^2-b^2)*(nu^2-b^2)/(b^2-a^2) > 0.\n"
   ]
  },
  {
   "cell_type": "code",
   "execution_count": 3,
   "metadata": {
    "collapsed": false
   },
   "outputs": [
    {
     "name": "stdout",
     "output_type": "stream",
     "text": [
      "   Compiling function %D with type (DoubleFloat,DoubleFloat) -> \n",
      "      DoubleFloat \n",
      "   Compiling function %F with type (DoubleFloat,DoubleFloat) -> \n",
      "      DoubleFloat \n",
      "   Compiling function %H with type (DoubleFloat,DoubleFloat) -> \n",
      "      DoubleFloat \n",
      "   Transmitting data...\n"
     ]
    },
    {
     "data": {
      "text/plain": [
       "   ThreeDimensionalViewport: \"u*cos(v)\"\n",
       "                                               Type: ThreeDimensionalViewport\n"
      ]
     },
     "execution_count": 3,
     "metadata": {},
     "output_type": "execute_result"
    }
   ],
   "source": [
    "draw(surface(u*cos(v),u*sin(v),u),u=1..4,v=1..2*%pi,coordinates == bipolarCylindrical(1$DFLOAT))"
   ]
  },
  {
   "cell_type": "code",
   "execution_count": 4,
   "metadata": {
    "collapsed": false
   },
   "outputs": [
    {
     "name": "stdout",
     "output_type": "stream",
     "text": [
      "   Function declaration j1 : DoubleFloat -> DoubleFloat has been added \n",
      "      to workspace.\n"
     ]
    },
    {
     "data": {
      "text/plain": [
       "                                                                   Type: Void\n"
      ]
     },
     "execution_count": 4,
     "metadata": {},
     "output_type": "execute_result"
    }
   ],
   "source": [
    "j1(t:DFLOAT):DFLOAT == 4"
   ]
  },
  {
   "cell_type": "code",
   "execution_count": 5,
   "metadata": {
    "collapsed": false
   },
   "outputs": [
    {
     "name": "stdout",
     "output_type": "stream",
     "text": [
      "   Function declaration j2 : DoubleFloat -> DoubleFloat has been added \n",
      "      to workspace.\n"
     ]
    },
    {
     "data": {
      "text/plain": [
       "                                                                   Type: Void\n"
      ]
     },
     "execution_count": 5,
     "metadata": {},
     "output_type": "execute_result"
    }
   ],
   "source": [
    "j2(t:DFLOAT):DFLOAT == t"
   ]
  },
  {
   "cell_type": "code",
   "execution_count": 6,
   "metadata": {
    "collapsed": false
   },
   "outputs": [
    {
     "name": "stdout",
     "output_type": "stream",
     "text": [
      "   Compiling function j1 with type DoubleFloat -> DoubleFloat \n",
      "   Compiling function j2 with type DoubleFloat -> DoubleFloat \n",
      "   Transmitting data...\n"
     ]
    },
    {
     "data": {
      "text/plain": [
       "   ThreeDimensionalViewport: \"FriCAS3D\"\n",
       "                                               Type: ThreeDimensionalViewport\n"
      ]
     },
     "execution_count": 6,
     "metadata": {},
     "output_type": "execute_result"
    }
   ],
   "source": [
    "draw(curve(j1,j2,j2),-9..9,coordinates == cylindrical)"
   ]
  },
  {
   "cell_type": "code",
   "execution_count": 7,
   "metadata": {
    "collapsed": false
   },
   "outputs": [
    {
     "name": "stdout",
     "output_type": "stream",
     "text": [
      "   Compiling function %J with type DoubleFloat -> DoubleFloat \n",
      "   Graph data being transmitted to the viewport manager...\n",
      "   FriCAS2D data being transmitted to the viewport manager...\n"
     ]
    },
    {
     "data": {
      "text/plain": [
       "   TwoDimensionalViewport: \"sin((4*t)/7)\"\n",
       "                                                 Type: TwoDimensionalViewport\n"
      ]
     },
     "execution_count": 7,
     "metadata": {},
     "output_type": "execute_result"
    }
   ],
   "source": [
    "draw(sin(4*t/7),t=0..14*%pi,coordinates == elliptic(1$DFLOAT))"
   ]
  },
  {
   "cell_type": "code",
   "execution_count": 8,
   "metadata": {
    "collapsed": false
   },
   "outputs": [
    {
     "name": "stdout",
     "output_type": "stream",
     "text": [
      "   Function declaration m : (DoubleFloat,DoubleFloat) -> DoubleFloat \n",
      "      has been added to workspace.\n",
      "   Compiled code for m has been cleared.\n",
      "   1 old definition(s) deleted for function or rule m \n"
     ]
    },
    {
     "data": {
      "text/plain": [
       "                                                                   Type: Void\n"
      ]
     },
     "execution_count": 8,
     "metadata": {},
     "output_type": "execute_result"
    }
   ],
   "source": [
    "m(u:DFLOAT,v:DFLOAT):DFLOAT == 1"
   ]
  },
  {
   "cell_type": "code",
   "execution_count": 9,
   "metadata": {
    "collapsed": false
   },
   "outputs": [
    {
     "name": "stdout",
     "output_type": "stream",
     "text": [
      "   Compiling function m with type (DoubleFloat,DoubleFloat) -> \n",
      "      DoubleFloat \n",
      "   Transmitting data...\n"
     ]
    },
    {
     "data": {
      "text/plain": [
       "   ThreeDimensionalViewport: \"FriCAS3D\"\n",
       "                                               Type: ThreeDimensionalViewport\n"
      ]
     },
     "execution_count": 9,
     "metadata": {},
     "output_type": "execute_result"
    }
   ],
   "source": [
    "draw(m,0..2*%pi,0..%pi,coordinates == elliptic(1$DFLOAT))"
   ]
  },
  {
   "cell_type": "code",
   "execution_count": 10,
   "metadata": {
    "collapsed": false
   },
   "outputs": [
    {
     "data": {
      "text/plain": [
       "   [0,0,1]\n",
       "                                            Type: Vector(Expression(Integer))\n"
      ]
     },
     "execution_count": 10,
     "metadata": {},
     "output_type": "execute_result"
    }
   ],
   "source": [
    "U2:Vector Expression Integer := vector [0,0,1]"
   ]
  },
  {
   "cell_type": "code",
   "execution_count": 11,
   "metadata": {
    "collapsed": false
   },
   "outputs": [
    {
     "data": {
      "text/plain": [
       "                                                                   Type: Void\n"
      ]
     },
     "execution_count": 11,
     "metadata": {},
     "output_type": "execute_result"
    }
   ],
   "source": [
    "x(u,v) == beta(u) + v*delta(u)"
   ]
  },
  {
   "cell_type": "code",
   "execution_count": 12,
   "metadata": {
    "collapsed": false
   },
   "outputs": [
    {
     "data": {
      "text/plain": [
       "                                                                   Type: Void\n"
      ]
     },
     "execution_count": 12,
     "metadata": {},
     "output_type": "execute_result"
    }
   ],
   "source": [
    "beta u == vector [cos u, sin u, 0]"
   ]
  },
  {
   "cell_type": "code",
   "execution_count": 13,
   "metadata": {
    "collapsed": false
   },
   "outputs": [
    {
     "data": {
      "text/plain": [
       "                                                                   Type: Void\n"
      ]
     },
     "execution_count": 13,
     "metadata": {},
     "output_type": "execute_result"
    }
   ],
   "source": [
    "delta u == (cos(u/2)) * beta(u) + sin(u/2) * U2"
   ]
  },
  {
   "cell_type": "code",
   "execution_count": 14,
   "metadata": {
    "collapsed": false
   },
   "outputs": [
    {
     "name": "stdout",
     "output_type": "stream",
     "text": [
      "   Compiling function beta with type Variable(u) -> Vector(Expression(\n",
      "      Integer)) \n",
      "   Compiling function delta with type Variable(u) -> Vector(Expression(\n",
      "      Integer)) \n",
      "   Compiling function x with type (Variable(u),Variable(v)) -> Vector(\n",
      "      Expression(Integer)) \n"
     ]
    },
    {
     "data": {
      "text/plain": [
       "           u                    u                   u\n",
       "   [(v cos(-) + 1)cos(u),(v cos(-) + 1)sin(u),v sin(-)]\n",
       "           2                    2                   2\n",
       "                                            Type: Vector(Expression(Integer))\n"
      ]
     },
     "execution_count": 14,
     "metadata": {},
     "output_type": "execute_result"
    }
   ],
   "source": [
    "vec := x(u,v)"
   ]
  },
  {
   "cell_type": "code",
   "execution_count": 15,
   "metadata": {
    "collapsed": false
   },
   "outputs": [
    {
     "name": "stdout",
     "output_type": "stream",
     "text": [
      "   Compiling function %L with type (DoubleFloat,DoubleFloat) -> \n",
      "      DoubleFloat \n",
      "   Compiling function %N with type (DoubleFloat,DoubleFloat) -> \n",
      "      DoubleFloat \n",
      "   Compiling function %P with type (DoubleFloat,DoubleFloat) -> \n",
      "      DoubleFloat \n",
      "   Transmitting data...\n"
     ]
    },
    {
     "data": {
      "text/plain": [
       "   ThreeDimensionalViewport: \"(v*cos(u/2)+1)*cos(u)\"\n",
       "                                               Type: ThreeDimensionalViewport\n"
      ]
     },
     "execution_count": 15,
     "metadata": {},
     "output_type": "execute_result"
    }
   ],
   "source": [
    "draw(surface(vec.1,vec.2,vec.3),v=-0.5..0.5,u=0..2*%pi,coordinates == ellipticCylindrical(1$DFLOAT),var1Steps == 50,var2Steps == 50)"
   ]
  },
  {
   "cell_type": "code",
   "execution_count": 16,
   "metadata": {
    "collapsed": false
   },
   "outputs": [
    {
     "name": "stdout",
     "output_type": "stream",
     "text": [
      "   Function declaration m : (DoubleFloat,DoubleFloat) -> DoubleFloat \n",
      "      has been added to workspace.\n",
      "   Compiled code for m has been cleared.\n",
      "   1 old definition(s) deleted for function or rule m \n"
     ]
    },
    {
     "data": {
      "text/plain": [
       "                                                                   Type: Void\n"
      ]
     },
     "execution_count": 16,
     "metadata": {},
     "output_type": "execute_result"
    }
   ],
   "source": [
    "m(u:DFLOAT,v:DFLOAT):DFLOAT == 1"
   ]
  },
  {
   "cell_type": "code",
   "execution_count": 17,
   "metadata": {
    "collapsed": false
   },
   "outputs": [
    {
     "name": "stdout",
     "output_type": "stream",
     "text": [
      "   Compiling function m with type (DoubleFloat,DoubleFloat) -> \n",
      "      DoubleFloat \n",
      "   Transmitting data...\n"
     ]
    },
    {
     "data": {
      "text/plain": [
       "   ThreeDimensionalViewport: \"FriCAS3D\"\n",
       "                                               Type: ThreeDimensionalViewport\n"
      ]
     },
     "execution_count": 17,
     "metadata": {},
     "output_type": "execute_result"
    }
   ],
   "source": [
    "draw(m,-%pi/2..%pi/2,0..2*%pi,coordinates == oblateSpheroidal(1$DFLOAT))"
   ]
  },
  {
   "cell_type": "code",
   "execution_count": 18,
   "metadata": {
    "collapsed": false
   },
   "outputs": [
    {
     "name": "stdout",
     "output_type": "stream",
     "text": [
      "   Function declaration h1 : DoubleFloat -> DoubleFloat has been added \n",
      "      to workspace.\n"
     ]
    },
    {
     "data": {
      "text/plain": [
       "                                                                   Type: Void\n"
      ]
     },
     "execution_count": 18,
     "metadata": {},
     "output_type": "execute_result"
    }
   ],
   "source": [
    "h1(t:DFLOAT):DFLOAT == t"
   ]
  },
  {
   "cell_type": "code",
   "execution_count": 19,
   "metadata": {
    "collapsed": false
   },
   "outputs": [
    {
     "name": "stdout",
     "output_type": "stream",
     "text": [
      "   Function declaration h2 : DoubleFloat -> DoubleFloat has been added \n",
      "      to workspace.\n"
     ]
    },
    {
     "data": {
      "text/plain": [
       "                                                                   Type: Void\n"
      ]
     },
     "execution_count": 19,
     "metadata": {},
     "output_type": "execute_result"
    }
   ],
   "source": [
    "h2(t:DFLOAT):DFLOAT == 2"
   ]
  },
  {
   "cell_type": "code",
   "execution_count": 20,
   "metadata": {
    "collapsed": false
   },
   "outputs": [
    {
     "name": "stdout",
     "output_type": "stream",
     "text": [
      "   Compiling function h1 with type DoubleFloat -> DoubleFloat \n",
      "   Compiling function h2 with type DoubleFloat -> DoubleFloat \n",
      "   Graph data being transmitted to the viewport manager...\n",
      "   FriCAS2D data being transmitted to the viewport manager...\n"
     ]
    },
    {
     "data": {
      "text/plain": [
       "   TwoDimensionalViewport: \"FriCAS2D\"\n",
       "                                                 Type: TwoDimensionalViewport\n"
      ]
     },
     "execution_count": 20,
     "metadata": {},
     "output_type": "execute_result"
    }
   ],
   "source": [
    "draw(curve(h1,h2),-3..3,coordinates == parabolic)"
   ]
  },
  {
   "cell_type": "code",
   "execution_count": 21,
   "metadata": {
    "collapsed": false
   },
   "outputs": [
    {
     "name": "stdout",
     "output_type": "stream",
     "text": [
      "   Compiling function %R with type (DoubleFloat,DoubleFloat) -> \n",
      "      DoubleFloat \n",
      "   Compiling function %T with type (DoubleFloat,DoubleFloat) -> \n",
      "      DoubleFloat \n",
      "   Compiling function %V with type (DoubleFloat,DoubleFloat) -> \n",
      "      DoubleFloat \n",
      "   Transmitting data...\n"
     ]
    },
    {
     "data": {
      "text/plain": [
       "   ThreeDimensionalViewport: \"u*cos(v)\"\n",
       "                                               Type: ThreeDimensionalViewport\n"
      ]
     },
     "execution_count": 21,
     "metadata": {},
     "output_type": "execute_result"
    }
   ],
   "source": [
    "draw(surface(u*cos(v),u*sin(v),2*u),u=0..4,v=0..2*%pi,coordinates == parabolic)"
   ]
  },
  {
   "cell_type": "code",
   "execution_count": 22,
   "metadata": {
    "collapsed": false
   },
   "outputs": [
    {
     "name": "stdout",
     "output_type": "stream",
     "text": [
      "   Compiling function %X with type (DoubleFloat,DoubleFloat) -> \n",
      "      DoubleFloat \n",
      "   Compiling function %Z with type (DoubleFloat,DoubleFloat) -> \n",
      "      DoubleFloat \n",
      "   Compiling function %BB with type (DoubleFloat,DoubleFloat) -> \n",
      "      DoubleFloat \n",
      "   Transmitting data...\n"
     ]
    },
    {
     "data": {
      "text/plain": [
       "   ThreeDimensionalViewport: \"u*cos(v)\"\n",
       "                                               Type: ThreeDimensionalViewport\n"
      ]
     },
     "execution_count": 22,
     "metadata": {},
     "output_type": "execute_result"
    }
   ],
   "source": [
    "draw(surface(u*cos(v),u*sin(v),v*cos(u)),u=0..4,v=0..2*%pi,coordinates == parabolicCylindrical)"
   ]
  },
  {
   "cell_type": "code",
   "execution_count": 23,
   "metadata": {
    "collapsed": false
   },
   "outputs": [
    {
     "name": "stdout",
     "output_type": "stream",
     "text": [
      "   Compiling function %BD with type (DoubleFloat,DoubleFloat) -> \n",
      "      DoubleFloat \n",
      "   Compiling function %BF with type (DoubleFloat,DoubleFloat) -> \n",
      "      DoubleFloat \n",
      "   Compiling function %BH with type (DoubleFloat,DoubleFloat) -> \n",
      "      DoubleFloat \n",
      "   Transmitting data...\n"
     ]
    },
    {
     "data": {
      "text/plain": [
       "   ThreeDimensionalViewport: \"u*cos(v)\"\n",
       "                                               Type: ThreeDimensionalViewport\n"
      ]
     },
     "execution_count": 23,
     "metadata": {},
     "output_type": "execute_result"
    }
   ],
   "source": [
    "draw(surface(u*cos(v),u*sin(v),u*v),u=0..4,v=0..2*%pi,coordinates==paraboloidal,var1Steps == 50, var2Steps == 50)"
   ]
  },
  {
   "cell_type": "code",
   "execution_count": 24,
   "metadata": {
    "collapsed": false
   },
   "outputs": [
    {
     "name": "stdout",
     "output_type": "stream",
     "text": [
      "   Compiling function %BJ with type DoubleFloat -> DoubleFloat \n",
      "   Graph data being transmitted to the viewport manager...\n",
      "   FriCAS2D data being transmitted to the viewport manager...\n"
     ]
    },
    {
     "data": {
      "text/plain": [
       "   TwoDimensionalViewport: \"sin((4*t)/7)\"\n",
       "                                                 Type: TwoDimensionalViewport\n"
      ]
     },
     "execution_count": 24,
     "metadata": {},
     "output_type": "execute_result"
    }
   ],
   "source": [
    "draw(sin(4*t/7),t=0..14*%pi,coordinates == polar)"
   ]
  },
  {
   "cell_type": "code",
   "execution_count": 25,
   "metadata": {
    "collapsed": false
   },
   "outputs": [
    {
     "name": "stdout",
     "output_type": "stream",
     "text": [
      "   Function declaration m : (DoubleFloat,DoubleFloat) -> DoubleFloat \n",
      "      has been added to workspace.\n",
      "   Compiled code for m has been cleared.\n",
      "   1 old definition(s) deleted for function or rule m \n"
     ]
    },
    {
     "data": {
      "text/plain": [
       "                                                                   Type: Void\n"
      ]
     },
     "execution_count": 25,
     "metadata": {},
     "output_type": "execute_result"
    }
   ],
   "source": [
    "m(u:DFLOAT,v:DFLOAT):DFLOAT == 1"
   ]
  },
  {
   "cell_type": "code",
   "execution_count": 26,
   "metadata": {
    "collapsed": false
   },
   "outputs": [
    {
     "name": "stdout",
     "output_type": "stream",
     "text": [
      "   Compiling function m with type (DoubleFloat,DoubleFloat) -> \n",
      "      DoubleFloat \n",
      "   Transmitting data...\n"
     ]
    },
    {
     "data": {
      "text/plain": [
       "   ThreeDimensionalViewport: \"FriCAS3D\"\n",
       "                                               Type: ThreeDimensionalViewport\n"
      ]
     },
     "execution_count": 26,
     "metadata": {},
     "output_type": "execute_result"
    }
   ],
   "source": [
    "draw(m,0..2*%pi, 0..%pi,coordinates == polar)"
   ]
  },
  {
   "cell_type": "code",
   "execution_count": 27,
   "metadata": {
    "collapsed": false
   },
   "outputs": [
    {
     "name": "stdout",
     "output_type": "stream",
     "text": [
      "   Function declaration m : (DoubleFloat,DoubleFloat) -> DoubleFloat \n",
      "      has been added to workspace.\n",
      "   Compiled code for m has been cleared.\n",
      "   1 old definition(s) deleted for function or rule m \n"
     ]
    },
    {
     "data": {
      "text/plain": [
       "                                                                   Type: Void\n"
      ]
     },
     "execution_count": 27,
     "metadata": {},
     "output_type": "execute_result"
    }
   ],
   "source": [
    "m(u:DFLOAT,v:DFLOAT):DFLOAT == 1"
   ]
  },
  {
   "cell_type": "code",
   "execution_count": 28,
   "metadata": {
    "collapsed": false
   },
   "outputs": [
    {
     "name": "stdout",
     "output_type": "stream",
     "text": [
      "   Compiling function m with type (DoubleFloat,DoubleFloat) -> \n",
      "      DoubleFloat \n",
      "   Transmitting data...\n"
     ]
    },
    {
     "data": {
      "text/plain": [
       "   ThreeDimensionalViewport: \"FriCAS3D\"\n",
       "                                               Type: ThreeDimensionalViewport\n"
      ]
     },
     "execution_count": 28,
     "metadata": {},
     "output_type": "execute_result"
    }
   ],
   "source": [
    "draw(m,-%pi/2..%pi/2,0..2*%pi,coordinates == prolateSpheroidal(1$DFLOAT))"
   ]
  },
  {
   "cell_type": "code",
   "execution_count": 29,
   "metadata": {
    "collapsed": false
   },
   "outputs": [
    {
     "name": "stdout",
     "output_type": "stream",
     "text": [
      "   Function declaration m : (DoubleFloat,DoubleFloat) -> DoubleFloat \n",
      "      has been added to workspace.\n",
      "   Compiled code for m has been cleared.\n",
      "   1 old definition(s) deleted for function or rule m \n"
     ]
    },
    {
     "data": {
      "text/plain": [
       "                                                                   Type: Void\n"
      ]
     },
     "execution_count": 29,
     "metadata": {},
     "output_type": "execute_result"
    }
   ],
   "source": [
    "m(u:DFLOAT,v:DFLOAT):DFLOAT == 1"
   ]
  },
  {
   "cell_type": "code",
   "execution_count": 30,
   "metadata": {
    "collapsed": false
   },
   "outputs": [
    {
     "name": "stdout",
     "output_type": "stream",
     "text": [
      "   Compiling function m with type (DoubleFloat,DoubleFloat) -> \n",
      "      DoubleFloat \n",
      "   Transmitting data...\n"
     ]
    },
    {
     "data": {
      "text/plain": [
       "   ThreeDimensionalViewport: \"FriCAS3D\"\n",
       "                                               Type: ThreeDimensionalViewport\n"
      ]
     },
     "execution_count": 30,
     "metadata": {},
     "output_type": "execute_result"
    }
   ],
   "source": [
    "draw(m,0..2*%pi,0..%pi,coordinates == spherical)"
   ]
  },
  {
   "cell_type": "code",
   "execution_count": 31,
   "metadata": {
    "collapsed": false
   },
   "outputs": [
    {
     "name": "stdout",
     "output_type": "stream",
     "text": [
      "   Compiling function %BL with type (DoubleFloat,DoubleFloat) -> \n",
      "      DoubleFloat \n",
      "   Compiling function %BN with type (DoubleFloat,DoubleFloat) -> \n",
      "      DoubleFloat \n",
      "   Compiling function %BP with type (DoubleFloat,DoubleFloat) -> \n",
      "      DoubleFloat \n",
      "   Transmitting data...\n"
     ]
    },
    {
     "data": {
      "text/plain": [
       "   ThreeDimensionalViewport: \"u*cos(v)\"\n",
       "                                               Type: ThreeDimensionalViewport\n"
      ]
     },
     "execution_count": 31,
     "metadata": {},
     "output_type": "execute_result"
    }
   ],
   "source": [
    "draw(surface(u*cos(v),u*sin(v),u),u=1..4,v=1..4*%pi,coordinates == toroidal(1$DFLOAT))"
   ]
  },
  {
   "cell_type": "code",
   "execution_count": 32,
   "metadata": {
    "collapsed": false
   },
   "outputs": [
    {
     "name": "stderr",
     "output_type": "stream",
     "text": [
      "INDEX-TOO-LARGE-ERROR: \n",
      "  #<SB-KERNEL:INDEX-TOO-LARGE-ERROR expected-type: (INTEGER 0 (0)) datum: 0>\n"
     ]
    },
    {
     "data": {
      "text/plain": []
     },
     "execution_count": 32,
     "metadata": {},
     "output_type": "execute_result"
    }
   ],
   "source": []
  }
 ],
 "metadata": {
  "kernelspec": {
   "display_name": "FriCAS",
   "language": "spad",
   "name": "ifricas"
  },
  "language_info": {
   "codemirror_mode": "spad",
   "mimetype": "text/x-spad",
   "name": "SPAD",
   "pygments_lexer": "spad",
   "version": "1.2.6"
  },
  "name": "coordsys.ipynb"
 },
 "nbformat": 4,
 "nbformat_minor": 0
}