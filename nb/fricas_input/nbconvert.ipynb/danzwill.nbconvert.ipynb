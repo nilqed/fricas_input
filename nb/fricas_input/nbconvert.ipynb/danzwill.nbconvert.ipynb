{
 "cells": [
  {
   "cell_type": "markdown",
   "metadata": {},
   "source": [
    "Copyright The Numerical Algorithms Group Limited 1994.\n",
    " X-External-Networks: yes\n",
    " Date: Fri, 3 Apr 92 10:58:35 -0500\n",
    " From: zwilling@world.std.com (Daniel Zwillinger)\n",
    " To: axiom@watson.ibm.com\n",
    "\n",
    " Enclosed is my test suite of integrals in MAPLE format.\n",
    " I would appreciate you running it under AXIOM and returning the\n",
    " results to me via email.\n",
    "\n",
    " Thank you.\n",
    "\n",
    " ----------------------------------------------------------------------\n",
    " Daniel Zwillinger            email: zwilling@world.std.com\n",
    " 61 Highland Avenue           phone: 617/646-8565\n",
    " Arlington, MA 02174\n",
    " Home of: Handbook of Differential Equations\n",
    " Home of: Handbook of Integration\n",
    " ----------------------------------------------------------------------\n",
    "\n"
   ]
  },
  {
   "cell_type": "code",
   "execution_count": 0,
   "metadata": {
    "collapsed": false
   },
   "outputs": [
    {
     "name": "stdout",
     "output_type": "stream",
     "text": [
      "   All user variables and function definitions have been cleared.\n"
     ]
    },
    {
     "data": {
      "text/plain": []
     },
     "execution_count": 0,
     "metadata": {},
     "output_type": "execute_result"
    }
   ],
   "source": [
    ")clear all"
   ]
  },
  {
   "cell_type": "code",
   "execution_count": 1,
   "metadata": {
    "collapsed": false
   },
   "outputs": [
    {
     "data": {
      "text/plain": []
     },
     "execution_count": 1,
     "metadata": {},
     "output_type": "execute_result"
    }
   ],
   "source": [
    ")set break resume"
   ]
  },
  {
   "cell_type": "markdown",
   "metadata": {},
   "source": [
    "i2 := integrate( sqrt(tan(x)), x)\n"
   ]
  },
  {
   "cell_type": "code",
   "execution_count": 2,
   "metadata": {
    "collapsed": false
   },
   "outputs": [
    {
     "name": "stdout",
     "output_type": "stream",
     "text": [
      "Warning: HyperTeX macro table not found\n"
     ]
    },
    {
     "data": {
      "text/plain": [
       "   - cos(x)\n",
       "                                         Type: Union(Expression(Integer),...)\n"
      ]
     },
     "execution_count": 2,
     "metadata": {},
     "output_type": "execute_result"
    }
   ],
   "source": [
    "i1 := integrate( sin(x), x)"
   ]
  },
  {
   "cell_type": "code",
   "execution_count": 3,
   "metadata": {
    "collapsed": false
   },
   "outputs": [
    {
     "data": {
      "text/plain": [
       "                                                            +-+\n",
       "      +-+     2              +-+                   (2x + 1)\\|3\n",
       "   - \\|3 log(x  + x + 1) + 2\\|3 log(x - 1) + 6atan(------------)\n",
       "                                                         3\n",
       "   -------------------------------------------------------------\n",
       "                                 +-+\n",
       "                               6\\|3\n",
       "                                         Type: Union(Expression(Integer),...)\n"
      ]
     },
     "execution_count": 3,
     "metadata": {},
     "output_type": "execute_result"
    }
   ],
   "source": [
    "i3 := integrate( x/(x^3-1),x)"
   ]
  },
  {
   "cell_type": "code",
   "execution_count": 4,
   "metadata": {
    "collapsed": false
   },
   "outputs": [
    {
     "data": {
      "text/plain": [
       "             sin(x)\n",
       "   sin(x)log(------) - x cos(x)\n",
       "                2\n",
       "   ----------------------------\n",
       "              sin(x)\n",
       "                                         Type: Union(Expression(Integer),...)\n"
      ]
     },
     "execution_count": 4,
     "metadata": {},
     "output_type": "execute_result"
    }
   ],
   "source": [
    "i4 := integrate( x/sin(x)^2, x)"
   ]
  },
  {
   "cell_type": "code",
   "execution_count": 5,
   "metadata": {
    "collapsed": false
   },
   "outputs": [
    {
     "data": {
      "text/plain": [
       "         +-----+              +-----+                      +-----+\n",
       "   2log(\\|x + 1  + 1) - 2log(\\|x + 1  - 1) + (2log(x) - 4)\\|x + 1\n",
       "                                         Type: Union(Expression(Integer),...)\n"
      ]
     },
     "execution_count": 5,
     "metadata": {},
     "output_type": "execute_result"
    }
   ],
   "source": [
    "i5 := integrate( log(x)/sqrt(x+1), x)"
   ]
  },
  {
   "cell_type": "code",
   "execution_count": 6,
   "metadata": {
    "collapsed": false
   },
   "outputs": [
    {
     "data": {
      "text/plain": [
       "    +---+      +-+\n",
       "   \\|%pi erf(x\\|a )\n",
       "   ----------------\n",
       "           +-+\n",
       "         2\\|a\n",
       "                                         Type: Union(Expression(Integer),...)\n"
      ]
     },
     "execution_count": 6,
     "metadata": {},
     "output_type": "execute_result"
    }
   ],
   "source": [
    "i6 := integrate( exp(-a*x^2), x)"
   ]
  },
  {
   "cell_type": "code",
   "execution_count": 7,
   "metadata": {
    "collapsed": false
   },
   "outputs": [
    {
     "data": {
      "text/plain": [
       "        2       2     2          2\n",
       "   4li(x )log(x)  - 2x log(x) - x\n",
       "   -------------------------------\n",
       "                      2\n",
       "               2log(x)\n",
       "                                         Type: Union(Expression(Integer),...)\n"
      ]
     },
     "execution_count": 7,
     "metadata": {},
     "output_type": "execute_result"
    }
   ],
   "source": [
    "i7 := integrate( x/(log(x))^3, x)"
   ]
  },
  {
   "cell_type": "code",
   "execution_count": 8,
   "metadata": {
    "collapsed": false
   },
   "outputs": [
    {
     "data": {
      "text/plain": [
       "           +-----+             +-------+\n",
       "   (x + 1)\\|x + 1  + (- x + 1)\\|- x + 1\n",
       "   -------------------------------------\n",
       "                     3\n",
       "                                         Type: Union(Expression(Integer),...)\n"
      ]
     },
     "execution_count": 8,
     "metadata": {},
     "output_type": "execute_result"
    }
   ],
   "source": [
    "i8 := integrate( x/(sqrt(1+x)+sqrt(1-x)),x)"
   ]
  },
  {
   "cell_type": "code",
   "execution_count": 9,
   "metadata": {
    "collapsed": false
   },
   "outputs": [
    {
     "data": {
      "text/plain": [
       "            +-+          +-+\n",
       "          2\\|3 cos(x) + \\|3\n",
       "     atan(------------------)\n",
       "                3sin(x)\n",
       "   - ------------------------\n",
       "                +-+\n",
       "               \\|3\n",
       "                                         Type: Union(Expression(Integer),...)\n"
      ]
     },
     "execution_count": 9,
     "metadata": {},
     "output_type": "execute_result"
    }
   ],
   "source": [
    "i9 := integrate( 1/(2+cos(x)),x)"
   ]
  },
  {
   "cell_type": "code",
   "execution_count": 10,
   "metadata": {
    "collapsed": false
   },
   "outputs": [
    {
     "data": {
      "text/plain": [
       "   - 2sin(x) + x Ci(x) + x Ci(- x)\n",
       "   -------------------------------\n",
       "                  2x\n",
       "                                         Type: Union(Expression(Integer),...)\n"
      ]
     },
     "execution_count": 10,
     "metadata": {},
     "output_type": "execute_result"
    }
   ],
   "source": [
    "i10:= integrate( sin(x)/x^2, x)"
   ]
  },
  {
   "cell_type": "code",
   "execution_count": 11,
   "metadata": {
    "collapsed": false
   },
   "outputs": [
    {
     "data": {
      "text/plain": [
       "   \"potentialPole\"\n",
       "                                         Type: Union(pole: potentialPole,...)\n"
      ]
     },
     "execution_count": 11,
     "metadata": {},
     "output_type": "execute_result"
    }
   ],
   "source": [
    "d1:= integrate( 1/(2+cos(x)),x=0..4*%pi)"
   ]
  },
  {
   "cell_type": "code",
   "execution_count": 12,
   "metadata": {
    "collapsed": false
   },
   "outputs": [
    {
     "data": {
      "text/plain": []
     },
     "execution_count": 12,
     "metadata": {},
     "output_type": "execute_result"
    }
   ],
   "source": [
    ")set mes test off"
   ]
  },
  {
   "cell_type": "code",
   "execution_count": 13,
   "metadata": {
    "collapsed": false
   },
   "outputs": [
    {
     "name": "stderr",
     "output_type": "stream",
     "text": [
      " \n",
      "   >> Error detected within library code:\n",
      "   integrate: pole in path of integration\n",
      "\n"
     ]
    },
    {
     "data": {
      "text/plain": [
       "error\n"
      ]
     },
     "execution_count": 13,
     "metadata": {},
     "output_type": "execute_result"
    }
   ],
   "source": [
    "d2:= integrate( sin(x)/x,x=%minusInfinity..%plusInfinity)"
   ]
  },
  {
   "cell_type": "code",
   "execution_count": 14,
   "metadata": {
    "collapsed": false
   },
   "outputs": [
    {
     "data": {
      "text/plain": []
     },
     "execution_count": 14,
     "metadata": {},
     "output_type": "execute_result"
    }
   ],
   "source": [
    ")set mes test on"
   ]
  },
  {
   "cell_type": "code",
   "execution_count": 15,
   "metadata": {
    "collapsed": false
   },
   "outputs": [
    {
     "data": {
      "text/plain": [
       "    + infinity\n",
       "                  Type: Union(f1: OrderedCompletion(Expression(Integer)),...)\n"
      ]
     },
     "execution_count": 15,
     "metadata": {},
     "output_type": "execute_result"
    }
   ],
   "source": [
    "d3:= integrate( x^2/(1+x^3),x=0..%plusInfinity)"
   ]
  },
  {
   "cell_type": "code",
   "execution_count": 16,
   "metadata": {
    "collapsed": false
   },
   "outputs": [
    {
     "data": {
      "text/plain": [
       "         1\n",
       "   Gamma(-)\n",
       "         2\n",
       "                  Type: Union(f1: OrderedCompletion(Expression(Integer)),...)\n"
      ]
     },
     "execution_count": 16,
     "metadata": {},
     "output_type": "execute_result"
    }
   ],
   "source": [
    "d4:= integrate( exp(-x)/sqrt(x),x=0..%plusInfinity)"
   ]
  },
  {
   "cell_type": "code",
   "execution_count": 17,
   "metadata": {
    "collapsed": false
   },
   "outputs": [
    {
     "data": {
      "text/plain": [
       "         1             1          1         1 2\n",
       "   Gamma(-)polygamma(1,-) + Gamma(-)digamma(-)\n",
       "         2             2          2         2\n",
       "   --------------------------------------------\n",
       "                         8\n",
       "                  Type: Union(f1: OrderedCompletion(Expression(Integer)),...)\n"
      ]
     },
     "execution_count": 17,
     "metadata": {},
     "output_type": "execute_result"
    }
   ],
   "source": [
    "d5:= integrate( exp(-x^2)*log(x)^2,x=0..%plusInfinity)"
   ]
  },
  {
   "cell_type": "code",
   "execution_count": 18,
   "metadata": {
    "collapsed": false
   },
   "outputs": [
    {
     "data": {
      "text/plain": [
       "   \"failed\"\n",
       "                                                Type: Union(fail: failed,...)\n"
      ]
     },
     "execution_count": 18,
     "metadata": {},
     "output_type": "execute_result"
    }
   ],
   "source": [
    "d6:= integrate( exp(-x)*log(x)^2*x^3,x=1..%plusInfinity)"
   ]
  },
  {
   "cell_type": "code",
   "execution_count": 19,
   "metadata": {
    "collapsed": false
   },
   "outputs": [
    {
     "data": {
      "text/plain": [
       "   \"potentialPole\"\n",
       "                                         Type: Union(pole: potentialPole,...)\n"
      ]
     },
     "execution_count": 19,
     "metadata": {},
     "output_type": "execute_result"
    }
   ],
   "source": [
    "d7:= integrate( exp(-x)*x^(1/3),x=1..%plusInfinity)"
   ]
  },
  {
   "cell_type": "code",
   "execution_count": 20,
   "metadata": {
    "collapsed": false
   },
   "outputs": [
    {
     "data": {
      "text/plain": [
       "   \"potentialPole\"\n",
       "                                         Type: Union(pole: potentialPole,...)\n"
      ]
     },
     "execution_count": 20,
     "metadata": {},
     "output_type": "execute_result"
    }
   ],
   "source": [
    "d8:= integrate( exp(-x)*x^2/(1-exp(-2*x)),x=0..%plusInfinity)"
   ]
  },
  {
   "cell_type": "code",
   "execution_count": 21,
   "metadata": {
    "collapsed": false
   },
   "outputs": [
    {
     "data": {
      "text/plain": []
     },
     "execution_count": 21,
     "metadata": {},
     "output_type": "execute_result"
    }
   ],
   "source": [
    ")set mes test off"
   ]
  },
  {
   "cell_type": "code",
   "execution_count": 22,
   "metadata": {
    "collapsed": false
   },
   "outputs": [
    {
     "name": "stderr",
     "output_type": "stream",
     "text": [
      " \n",
      "   >> Error detected within library code:\n",
      "   integrate: pole in path of integration\n",
      "\n"
     ]
    },
    {
     "data": {
      "text/plain": [
       "error\n"
      ]
     },
     "execution_count": 22,
     "metadata": {},
     "output_type": "execute_result"
    }
   ],
   "source": [
    "d9:= integrate( 1/x^2,x=-1..1)"
   ]
  },
  {
   "cell_type": "code",
   "execution_count": 23,
   "metadata": {
    "collapsed": false
   },
   "outputs": [
    {
     "data": {
      "text/plain": []
     },
     "execution_count": 23,
     "metadata": {},
     "output_type": "execute_result"
    }
   ],
   "source": [
    ")set mes test on"
   ]
  },
  {
   "cell_type": "code",
   "execution_count": 24,
   "metadata": {
    "collapsed": false
   },
   "outputs": [
    {
     "name": "stderr",
     "output_type": "stream",
     "text": [
      "INDEX-TOO-LARGE-ERROR: \n",
      "  #<SB-KERNEL:INDEX-TOO-LARGE-ERROR expected-type: (INTEGER 0 (0)) datum: 0>\n"
     ]
    },
    {
     "data": {
      "text/plain": []
     },
     "execution_count": 24,
     "metadata": {},
     "output_type": "execute_result"
    }
   ],
   "source": []
  }
 ],
 "metadata": {
  "kernelspec": {
   "display_name": "FriCAS",
   "language": "spad",
   "name": "ifricas"
  },
  "language_info": {
   "codemirror_mode": "spad",
   "mimetype": "text/x-spad",
   "name": "SPAD",
   "pygments_lexer": "spad",
   "version": "1.2.6"
  },
  "name": "danzwill.ipynb"
 },
 "nbformat": 4,
 "nbformat_minor": 0
}