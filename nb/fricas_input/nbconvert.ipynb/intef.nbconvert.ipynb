{
 "cells": [
  {
   "cell_type": "markdown",
   "metadata": {},
   "source": [
    "Copyright The Numerical Algorithms Group Limited 1993.\n",
    " intef.input --------------------------------\n"
   ]
  },
  {
   "cell_type": "code",
   "execution_count": 0,
   "metadata": {
    "collapsed": false
   },
   "outputs": [
    {
     "name": "stdout",
     "output_type": "stream",
     "text": [
      "   All user variables and function definitions have been cleared.\n"
     ]
    },
    {
     "data": {
      "text/plain": []
     },
     "execution_count": 0,
     "metadata": {},
     "output_type": "execute_result"
    }
   ],
   "source": [
    ")clear all"
   ]
  },
  {
   "cell_type": "code",
   "execution_count": 1,
   "metadata": {
    "collapsed": false
   },
   "outputs": [
    {
     "name": "stdout",
     "output_type": "stream",
     "text": [
      "Warning: HyperTeX macro table not found\n"
     ]
    },
    {
     "data": {
      "text/plain": [
       "                   a x + b\n",
       "   --------------------------------------\n",
       "    2        2         2          2 3\n",
       "   b x log(x)  + 2a b x log(x) + a x  + x\n",
       "                                                    Type: Expression(Integer)\n"
      ]
     },
     "execution_count": 1,
     "metadata": {},
     "output_type": "execute_result"
    }
   ],
   "source": [
    "(a*x+b) / (b^2 * x * log(x)^2 + 2*a*b*x^2*log(x) + a^2*x^3 + x)"
   ]
  },
  {
   "cell_type": "code",
   "execution_count": 2,
   "metadata": {
    "collapsed": false
   },
   "outputs": [
    {
     "data": {
      "text/plain": [
       "   atan(b log(x) + a x)\n",
       "                                         Type: Union(Expression(Integer),...)\n"
      ]
     },
     "execution_count": 2,
     "metadata": {},
     "output_type": "execute_result"
    }
   ],
   "source": [
    "integrate(%,x)"
   ]
  },
  {
   "cell_type": "code",
   "execution_count": 3,
   "metadata": {
    "collapsed": false
   },
   "outputs": [
    {
     "data": {
      "text/plain": [
       "                      2       x    3\n",
       "                    (x  - 1)%e  + x\n",
       "                    ----------------\n",
       "                           x    2\n",
       "      x    2           x %e  + x\n",
       "   (%e  - x  + 2x)%e\n",
       "   ---------------------------------\n",
       "          2   x 2     3  x    4\n",
       "         x (%e )  + 2x %e  + x\n",
       "                                                    Type: Expression(Integer)\n"
      ]
     },
     "execution_count": 3,
     "metadata": {},
     "output_type": "execute_result"
    }
   ],
   "source": [
    "((exp(x)-x^2+2*x)/(x^2*(exp(x)+x)^2))*exp((x^2-1)/x+1/(exp(x)+x))"
   ]
  },
  {
   "cell_type": "markdown",
   "metadata": {},
   "source": [
    " here are three which do not have elementary integrals\n"
   ]
  },
  {
   "cell_type": "code",
   "execution_count": 4,
   "metadata": {
    "collapsed": false
   },
   "outputs": [
    {
     "data": {
      "text/plain": [
       "       2       x    3\n",
       "     (x  - 1)%e  + x\n",
       "     ----------------\n",
       "            x    2\n",
       "        x %e  + x\n",
       "   %e\n",
       "   ------------------\n",
       "             x\n",
       "           %e\n",
       "                                         Type: Union(Expression(Integer),...)\n"
      ]
     },
     "execution_count": 4,
     "metadata": {},
     "output_type": "execute_result"
    }
   ],
   "source": [
    "integrate(%,x)"
   ]
  },
  {
   "cell_type": "code",
   "execution_count": 5,
   "metadata": {
    "collapsed": false
   },
   "outputs": [
    {
     "data": {
      "text/plain": [
       "   sin(x)\n",
       "   ------\n",
       "      x\n",
       "                                                    Type: Expression(Integer)\n"
      ]
     },
     "execution_count": 5,
     "metadata": {},
     "output_type": "execute_result"
    }
   ],
   "source": [
    "sin(x)/x"
   ]
  },
  {
   "cell_type": "code",
   "execution_count": 6,
   "metadata": {
    "collapsed": false
   },
   "outputs": [
    {
     "data": {
      "text/plain": [
       "   Si(x)\n",
       "                                         Type: Union(Expression(Integer),...)\n"
      ]
     },
     "execution_count": 6,
     "metadata": {},
     "output_type": "execute_result"
    }
   ],
   "source": [
    "integrate(%,x)"
   ]
  },
  {
   "cell_type": "code",
   "execution_count": 7,
   "metadata": {
    "collapsed": false
   },
   "outputs": [
    {
     "data": {
      "text/plain": [
       "   x cot(x)\n",
       "                                                    Type: Expression(Integer)\n"
      ]
     },
     "execution_count": 7,
     "metadata": {},
     "output_type": "execute_result"
    }
   ],
   "source": [
    "x * cot x"
   ]
  },
  {
   "cell_type": "code",
   "execution_count": 8,
   "metadata": {
    "collapsed": false
   },
   "outputs": [
    {
     "name": "stdout",
     "output_type": "stream",
     "text": [
      "              "
     ]
    },
    {
     "data": {
      "text/plain": [
       "   dilog\n",
       "           2          2\n",
       "    sin(2x)  + cos(2x)  - cos(2x)         sin(2x)\n",
       "   [----------------------------- + ------------------- %i]\n",
       "                2          2               2          2\n",
       "         sin(2x)  + cos(2x)         sin(2x)  + cos(2x)\n",
       "                          2sin(2x)\n",
       "       2x log(--------------------------------)\n",
       "                         +---+           +---+\n",
       "              sin(2x) - \\|- 1 cos(2x) - \\|- 1\n",
       "     + \n",
       "                          2sin(2x)\n",
       "       2x log(--------------------------------)\n",
       "                         +---+           +---+\n",
       "              sin(2x) + \\|- 1 cos(2x) + \\|- 1\n",
       "     + \n",
       "        +---+                  2sin(2x)\n",
       "       \\|- 1 dilog(--------------------------------)\n",
       "                              +---+           +---+\n",
       "                   sin(2x) - \\|- 1 cos(2x) - \\|- 1\n",
       "     + \n",
       "          +---+                  2sin(2x)\n",
       "       - \\|- 1 dilog(--------------------------------)\n",
       "                                +---+           +---+\n",
       "                     sin(2x) + \\|- 1 cos(2x) + \\|- 1\n",
       "  /\n",
       "     4\n",
       "                                         Type: Union(Expression(Integer),...)\n"
      ]
     },
     "execution_count": 8,
     "metadata": {},
     "output_type": "execute_result"
    }
   ],
   "source": [
    "integrate(%,x)"
   ]
  },
  {
   "cell_type": "code",
   "execution_count": 9,
   "metadata": {
    "collapsed": false
   },
   "outputs": [
    {
     "data": {
      "text/plain": [
       "          2             2\n",
       "   2log(x)  - log(x) - x\n",
       "   ----------------------\n",
       "           3    2\n",
       "     log(x)  - x log(x)\n",
       "                                                    Type: Expression(Integer)\n"
      ]
     },
     "execution_count": 9,
     "metadata": {},
     "output_type": "execute_result"
    }
   ],
   "source": [
    "(2 * log(x)^2 - log x - x^2) / (log(x)^3 - x^2 * log x)"
   ]
  },
  {
   "cell_type": "markdown",
   "metadata": {},
   "source": [
    " real trigonometric functions are handled directly\n"
   ]
  },
  {
   "cell_type": "code",
   "execution_count": 10,
   "metadata": {
    "collapsed": false
   },
   "outputs": [
    {
     "data": {
      "text/plain": [
       "   log(log(x) + x) - log(log(x) - x) + 2li(x)\n",
       "   ------------------------------------------\n",
       "                        2\n",
       "                                         Type: Union(Expression(Integer),...)\n"
      ]
     },
     "execution_count": 10,
     "metadata": {},
     "output_type": "execute_result"
    }
   ],
   "source": [
    "integrate(%,x)"
   ]
  },
  {
   "cell_type": "code",
   "execution_count": 11,
   "metadata": {
    "collapsed": false
   },
   "outputs": [
    {
     "data": {
      "text/plain": [
       "     cos(a x)\n",
       "   ------------\n",
       "   cos(a x) + 1\n",
       "                                                    Type: Expression(Integer)\n"
      ]
     },
     "execution_count": 11,
     "metadata": {},
     "output_type": "execute_result"
    }
   ],
   "source": [
    "cos(a * x) / (1 + cos(a * x))"
   ]
  },
  {
   "cell_type": "code",
   "execution_count": 12,
   "metadata": {
    "collapsed": false
   },
   "outputs": [
    {
     "data": {
      "text/plain": [
       "   - sin(a x) + a x cos(a x) + a x\n",
       "   -------------------------------\n",
       "            a cos(a x) + a\n",
       "                                         Type: Union(Expression(Integer),...)\n"
      ]
     },
     "execution_count": 12,
     "metadata": {},
     "output_type": "execute_result"
    }
   ],
   "source": [
    "integrate(%,x)"
   ]
  },
  {
   "cell_type": "code",
   "execution_count": 13,
   "metadata": {
    "collapsed": false
   },
   "outputs": [
    {
     "data": {
      "text/plain": [
       "   cos(3x)sin(2x)\n",
       "                                                    Type: Expression(Integer)\n"
      ]
     },
     "execution_count": 13,
     "metadata": {},
     "output_type": "execute_result"
    }
   ],
   "source": [
    "cos(3*x)*sin(2*x)"
   ]
  },
  {
   "cell_type": "markdown",
   "metadata": {},
   "source": [
    " integrals of hyperb. trigs are transformed back into hyperb. trigs.\n"
   ]
  },
  {
   "cell_type": "code",
   "execution_count": 14,
   "metadata": {
    "collapsed": false
   },
   "outputs": [
    {
     "data": {
      "text/plain": [
       "            5           3\n",
       "   - 8cos(x)  + 10cos(x)\n",
       "   ----------------------\n",
       "              5\n",
       "                                         Type: Union(Expression(Integer),...)\n"
      ]
     },
     "execution_count": 14,
     "metadata": {},
     "output_type": "execute_result"
    }
   ],
   "source": [
    "integrate(%,x)"
   ]
  },
  {
   "cell_type": "code",
   "execution_count": 15,
   "metadata": {
    "collapsed": false
   },
   "outputs": [
    {
     "data": {
      "text/plain": [
       "   cosh(a x)sinh(a x)\n",
       "                                                    Type: Expression(Integer)\n"
      ]
     },
     "execution_count": 15,
     "metadata": {},
     "output_type": "execute_result"
    }
   ],
   "source": [
    "cosh(a*x)*sinh(a*x)"
   ]
  },
  {
   "cell_type": "code",
   "execution_count": 16,
   "metadata": {
    "collapsed": false
   },
   "outputs": [
    {
     "data": {
      "text/plain": [
       "            2            2\n",
       "   sinh(a x)  + cosh(a x)\n",
       "   -----------------------\n",
       "              4a\n",
       "                                         Type: Union(Expression(Integer),...)\n"
      ]
     },
     "execution_count": 16,
     "metadata": {},
     "output_type": "execute_result"
    }
   ],
   "source": [
    "integrate(%,x)"
   ]
  },
  {
   "cell_type": "code",
   "execution_count": 17,
   "metadata": {
    "collapsed": false
   },
   "outputs": [
    {
     "name": "stderr",
     "output_type": "stream",
     "text": [
      "INDEX-TOO-LARGE-ERROR: \n",
      "  #<SB-KERNEL:INDEX-TOO-LARGE-ERROR expected-type: (INTEGER 0 (0)) datum: 0>\n"
     ]
    },
    {
     "data": {
      "text/plain": []
     },
     "execution_count": 17,
     "metadata": {},
     "output_type": "execute_result"
    }
   ],
   "source": []
  }
 ],
 "metadata": {
  "kernelspec": {
   "display_name": "FriCAS",
   "language": "spad",
   "name": "ifricas"
  },
  "language_info": {
   "codemirror_mode": "spad",
   "mimetype": "text/x-spad",
   "name": "SPAD",
   "pygments_lexer": "spad",
   "version": "1.2.6"
  },
  "name": "intef.ipynb"
 },
 "nbformat": 4,
 "nbformat_minor": 0
}