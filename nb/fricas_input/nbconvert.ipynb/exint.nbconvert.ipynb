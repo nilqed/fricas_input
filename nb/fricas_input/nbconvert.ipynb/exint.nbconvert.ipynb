{
 "cells": [
  {
   "cell_type": "markdown",
   "metadata": {},
   "source": [
    " Input for page ExIntRationalWithRealParameter\n"
   ]
  },
  {
   "cell_type": "code",
   "execution_count": 0,
   "metadata": {
    "collapsed": false
   },
   "outputs": [
    {
     "name": "stdout",
     "output_type": "stream",
     "text": [
      "   All user variables and function definitions have been cleared.\n"
     ]
    },
    {
     "data": {
      "text/plain": []
     },
     "execution_count": 0,
     "metadata": {},
     "output_type": "execute_result"
    }
   ],
   "source": [
    ")clear all"
   ]
  },
  {
   "cell_type": "markdown",
   "metadata": {},
   "source": [
    " Input for page ExIntRationalFunction\n"
   ]
  },
  {
   "cell_type": "code",
   "execution_count": 1,
   "metadata": {
    "collapsed": false
   },
   "outputs": [
    {
     "name": "stdout",
     "output_type": "stream",
     "text": [
      "Warning: HyperTeX macro table not found\n"
     ]
    },
    {
     "data": {
      "text/plain": [
       "          2      +---+\n",
       "        (x  - a)\\|- a  + 2a x         +-+\n",
       "    log(---------------------)      x\\|a\n",
       "                 2             atan(-----)\n",
       "                x  + a                a\n",
       "   [--------------------------,-----------]\n",
       "                +---+               +-+\n",
       "              2\\|- a               \\|a\n",
       "                                   Type: Union(List(Expression(Integer)),...)\n"
      ]
     },
     "execution_count": 1,
     "metadata": {},
     "output_type": "execute_result"
    }
   ],
   "source": [
    "integrate(1/(x^2 + a),x)"
   ]
  },
  {
   "cell_type": "code",
   "execution_count": 2,
   "metadata": {
    "collapsed": false
   },
   "outputs": [
    {
     "name": "stdout",
     "output_type": "stream",
     "text": [
      "   All user variables and function definitions have been cleared.\n"
     ]
    },
    {
     "data": {
      "text/plain": []
     },
     "execution_count": 2,
     "metadata": {},
     "output_type": "execute_result"
    }
   ],
   "source": [
    ")clear all"
   ]
  },
  {
   "cell_type": "markdown",
   "metadata": {},
   "source": [
    " Input for page ExIntAlgebraicRelation\n"
   ]
  },
  {
   "cell_type": "code",
   "execution_count": 3,
   "metadata": {
    "collapsed": false
   },
   "outputs": [
    {
     "data": {
      "text/plain": [
       "         3     2\n",
       "   atan(x  + 3x  + 3x + 1)\n",
       "   -----------------------\n",
       "              3\n",
       "                                         Type: Union(Expression(Integer),...)\n"
      ]
     },
     "execution_count": 3,
     "metadata": {},
     "output_type": "execute_result"
    }
   ],
   "source": [
    "integrate((x^2+2*x+1)/((x+1)^6+1),x)"
   ]
  },
  {
   "cell_type": "code",
   "execution_count": 4,
   "metadata": {
    "collapsed": false
   },
   "outputs": [
    {
     "name": "stdout",
     "output_type": "stream",
     "text": [
      "   All user variables and function definitions have been cleared.\n"
     ]
    },
    {
     "data": {
      "text/plain": []
     },
     "execution_count": 4,
     "metadata": {},
     "output_type": "execute_result"
    }
   ],
   "source": [
    ")clear all"
   ]
  },
  {
   "cell_type": "markdown",
   "metadata": {},
   "source": [
    " Input for page ExIntRationalWithComplexParameter\n"
   ]
  },
  {
   "cell_type": "code",
   "execution_count": 5,
   "metadata": {
    "collapsed": false
   },
   "outputs": [
    {
     "data": {
      "text/plain": [
       "             atan(x) 2             atan(x) 2           atan(x)\n",
       "   8log(3tan(-------)  - 1) - 3tan(-------)  + 18x tan(-------)\n",
       "                3                     3                   3\n",
       "   ------------------------------------------------------------\n",
       "                                18\n",
       "                                         Type: Union(Expression(Integer),...)\n"
      ]
     },
     "execution_count": 5,
     "metadata": {},
     "output_type": "execute_result"
    }
   ],
   "source": [
    "integrate(tan(atan(x)/3),x)"
   ]
  },
  {
   "cell_type": "code",
   "execution_count": 6,
   "metadata": {
    "collapsed": false
   },
   "outputs": [
    {
     "name": "stdout",
     "output_type": "stream",
     "text": [
      "   All user variables and function definitions have been cleared.\n"
     ]
    },
    {
     "data": {
      "text/plain": []
     },
     "execution_count": 6,
     "metadata": {},
     "output_type": "execute_result"
    }
   ],
   "source": [
    ")clear all"
   ]
  },
  {
   "cell_type": "markdown",
   "metadata": {},
   "source": [
    " Input for page ExIntNoSolution\n"
   ]
  },
  {
   "cell_type": "code",
   "execution_count": 7,
   "metadata": {
    "collapsed": false
   },
   "outputs": [
    {
     "data": {
      "text/plain": [
       "    +---+      +---+         +---+        +---+\n",
       "    |  1       |  1          |  1         |  1\n",
       "    |- - log(a |- -  + x) -  |- - log(- a |- -  + x)\n",
       "   \\|  a      \\|  a         \\|  a        \\|  a\n",
       "   -------------------------------------------------\n",
       "                           2\n",
       "                                                    Type: Expression(Integer)\n"
      ]
     },
     "execution_count": 7,
     "metadata": {},
     "output_type": "execute_result"
    }
   ],
   "source": [
    "complexIntegrate(1/(x^2 + a),x)"
   ]
  },
  {
   "cell_type": "code",
   "execution_count": 8,
   "metadata": {
    "collapsed": false
   },
   "outputs": [
    {
     "name": "stdout",
     "output_type": "stream",
     "text": [
      "   All user variables and function definitions have been cleared.\n"
     ]
    },
    {
     "data": {
      "text/plain": []
     },
     "execution_count": 8,
     "metadata": {},
     "output_type": "execute_result"
    }
   ],
   "source": [
    ")clear all"
   ]
  },
  {
   "cell_type": "markdown",
   "metadata": {},
   "source": [
    " Input for page ExIntTwoSimilarIntegrands\n"
   ]
  },
  {
   "cell_type": "code",
   "execution_count": 9,
   "metadata": {
    "collapsed": false
   },
   "outputs": [
    {
     "data": {
      "text/plain": [
       "      x      +--------+\n",
       "    ++  log(\\|b + %F a  + 1)\n",
       "    |   -------------------- d%F\n",
       "   ++            %F\n",
       "                                         Type: Union(Expression(Integer),...)\n"
      ]
     },
     "execution_count": 9,
     "metadata": {},
     "output_type": "execute_result"
    }
   ],
   "source": [
    "integrate(log(1 + sqrt(a*x + b)) / x,x)"
   ]
  },
  {
   "cell_type": "code",
   "execution_count": 10,
   "metadata": {
    "collapsed": false
   },
   "outputs": [
    {
     "name": "stdout",
     "output_type": "stream",
     "text": [
      "   All user variables and function definitions have been cleared.\n"
     ]
    },
    {
     "data": {
      "text/plain": []
     },
     "execution_count": 10,
     "metadata": {},
     "output_type": "execute_result"
    }
   ],
   "source": [
    ")clear all"
   ]
  },
  {
   "cell_type": "code",
   "execution_count": 11,
   "metadata": {
    "collapsed": false
   },
   "outputs": [
    {
     "data": {
      "text/plain": [
       "        3 3         2 2       2          3 3+-------+2\n",
       "   (120b x  - 135a b x  + 162a b x - 243a )\\|b x + a\n",
       "   ---------------------------------------------------\n",
       "                              4\n",
       "                          440b\n",
       "                                         Type: Union(Expression(Integer),...)\n"
      ]
     },
     "execution_count": 11,
     "metadata": {},
     "output_type": "execute_result"
    }
   ],
   "source": [
    "integrate(x^3 / (a+b*x)^(1/3),x)"
   ]
  },
  {
   "cell_type": "markdown",
   "metadata": {},
   "source": [
    " Input for page ExIntRadicalOfTranscendental\n"
   ]
  },
  {
   "cell_type": "code",
   "execution_count": 12,
   "metadata": {
    "collapsed": false
   },
   "outputs": [
    {
     "name": "stdout",
     "output_type": "stream",
     "text": [
      "          "
     ]
    },
    {
     "data": {
      "text/plain": [
       "           2 2 +-+    3+-+3+-------+2   3+-+2 3+-------+\n",
       "       - 2b x \\|3 log(\\|a \\|b x + a   + \\|a   \\|b x + a + a)\n",
       "     + \n",
       "         2 2 +-+    3+-+2 3+-------+\n",
       "       4b x \\|3 log(\\|a   \\|b x + a - a)\n",
       "     + \n",
       "                  +-+3+-+2 3+-------+    +-+\n",
       "        2 2     2\\|3 \\|a   \\|b x + a + a\\|3                  +-+3+-+3+-------+2\n",
       "     12b x atan(----------------------------) + (12b x - 9a)\\|3 \\|a \\|b x + a\n",
       "                             3a\n",
       "  /\n",
       "        2 2 +-+3+-+\n",
       "     18a x \\|3 \\|a\n",
       "                                         Type: Union(Expression(Integer),...)\n"
      ]
     },
     "execution_count": 12,
     "metadata": {},
     "output_type": "execute_result"
    }
   ],
   "source": [
    "integrate(1 / (x^3 * (a+b*x)^(1/3)),x)"
   ]
  },
  {
   "cell_type": "code",
   "execution_count": 13,
   "metadata": {
    "collapsed": false
   },
   "outputs": [
    {
     "name": "stdout",
     "output_type": "stream",
     "text": [
      "   All user variables and function definitions have been cleared.\n"
     ]
    },
    {
     "data": {
      "text/plain": []
     },
     "execution_count": 13,
     "metadata": {},
     "output_type": "execute_result"
    }
   ],
   "source": [
    ")clear all"
   ]
  },
  {
   "cell_type": "markdown",
   "metadata": {},
   "source": [
    " Input for page ExIntNonElementary\n"
   ]
  },
  {
   "cell_type": "code",
   "execution_count": 14,
   "metadata": {
    "collapsed": false
   },
   "outputs": [
    {
     "data": {
      "text/plain": [
       "       +----------+\n",
       "     2\\|log(x) + x\n",
       "   - --------------\n",
       "       log(x) + x\n",
       "                                         Type: Union(Expression(Integer),...)\n"
      ]
     },
     "execution_count": 14,
     "metadata": {},
     "output_type": "execute_result"
    }
   ],
   "source": [
    "integrate((x + 1) / (x * (x + log x)^(3/2)),x)"
   ]
  },
  {
   "cell_type": "code",
   "execution_count": 15,
   "metadata": {
    "collapsed": false
   },
   "outputs": [
    {
     "name": "stdout",
     "output_type": "stream",
     "text": [
      "   All user variables and function definitions have been cleared.\n"
     ]
    },
    {
     "data": {
      "text/plain": []
     },
     "execution_count": 15,
     "metadata": {},
     "output_type": "execute_result"
    }
   ],
   "source": [
    ")clear all"
   ]
  },
  {
   "cell_type": "markdown",
   "metadata": {},
   "source": [
    " Input for page ExIntTrig\n"
   ]
  },
  {
   "cell_type": "code",
   "execution_count": 16,
   "metadata": {
    "collapsed": false
   },
   "outputs": [
    {
     "data": {
      "text/plain": [
       "                +---+    erf(x) - 1      +---+\n",
       "   (erf(x) - 1)\\|%pi log(----------) - 2\\|%pi\n",
       "                         erf(x) + 1\n",
       "   -------------------------------------------\n",
       "                   8erf(x) - 8\n",
       "                                         Type: Union(Expression(Integer),...)\n"
      ]
     },
     "execution_count": 16,
     "metadata": {},
     "output_type": "execute_result"
    }
   ],
   "source": [
    "integrate(exp(-x^2) * erf(x) / (erf(x)^3 - erf(x)^2 - erf(x) + 1),x)"
   ]
  },
  {
   "cell_type": "code",
   "execution_count": 17,
   "metadata": {
    "collapsed": false
   },
   "outputs": [
    {
     "name": "stdout",
     "output_type": "stream",
     "text": [
      "   All user variables and function definitions have been cleared.\n"
     ]
    },
    {
     "data": {
      "text/plain": []
     },
     "execution_count": 17,
     "metadata": {},
     "output_type": "execute_result"
    }
   ],
   "source": [
    ")clear all"
   ]
  },
  {
   "cell_type": "code",
   "execution_count": 18,
   "metadata": {
    "collapsed": false
   },
   "outputs": [
    {
     "data": {
      "text/plain": [
       "                        +-----+\n",
       "               - 2cosh(\\|x + b  + 1) - 2x            +-----+\n",
       "   2log(---------------------------------------) - 2\\|x + b\n",
       "              +-----+              +-----+\n",
       "        sinh(\\|x + b  + 1) - cosh(\\|x + b  + 1)\n",
       "                                         Type: Union(Expression(Integer),...)\n"
      ]
     },
     "execution_count": 18,
     "metadata": {},
     "output_type": "execute_result"
    }
   ],
   "source": [
    "integrate((sinh(1+sqrt(x+b))+2*sqrt(x+b))/(sqrt(x+b)*(x+cosh(1+sqrt(x+b)))),x)"
   ]
  },
  {
   "cell_type": "code",
   "execution_count": 19,
   "metadata": {
    "collapsed": false
   },
   "outputs": [
    {
     "name": "stderr",
     "output_type": "stream",
     "text": [
      "INDEX-TOO-LARGE-ERROR: \n",
      "  #<SB-KERNEL:INDEX-TOO-LARGE-ERROR expected-type: (INTEGER 0 (0)) datum: 0>\n"
     ]
    },
    {
     "data": {
      "text/plain": []
     },
     "execution_count": 19,
     "metadata": {},
     "output_type": "execute_result"
    }
   ],
   "source": []
  }
 ],
 "metadata": {
  "kernelspec": {
   "display_name": "FriCAS",
   "language": "spad",
   "name": "ifricas"
  },
  "language_info": {
   "codemirror_mode": "spad",
   "mimetype": "text/x-spad",
   "name": "SPAD",
   "pygments_lexer": "spad",
   "version": "1.2.6"
  },
  "name": "exint.ipynb"
 },
 "nbformat": 4,
 "nbformat_minor": 0
}