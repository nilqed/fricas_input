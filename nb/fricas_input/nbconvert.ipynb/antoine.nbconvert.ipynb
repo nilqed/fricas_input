{
 "cells": [
  {
   "cell_type": "markdown",
   "metadata": {},
   "source": [
    "Copyright The Numerical Algorithms Group Limited 1994.\n",
    " Draw Antoine's Necklace\n",
    " Thanks to Matt Grayson (formerly at IBM's T.J Watson Research Center)\n",
    " for the idea.\n",
    " Bring DH matrices into the environment\n"
   ]
  },
  {
   "cell_type": "code",
   "execution_count": 0,
   "metadata": {
    "collapsed": false
   },
   "outputs": [
    {
     "name": "stdout",
     "output_type": "stream",
     "text": [
      "   DenavitHartenbergMatrix is now explicitly exposed in frame initial \n"
     ]
    },
    {
     "data": {
      "text/plain": []
     },
     "execution_count": 0,
     "metadata": {},
     "output_type": "execute_result"
    }
   ],
   "source": [
    ")set expose add con DenavitHartenbergMatrix"
   ]
  },
  {
   "cell_type": "markdown",
   "metadata": {},
   "source": [
    " The current transformation for drawing a sub-ring\n"
   ]
  },
  {
   "cell_type": "code",
   "execution_count": 1,
   "metadata": {
    "collapsed": false
   },
   "outputs": [
    {
     "name": "stderr",
     "output_type": "stream",
     "text": [
      " \n",
      "   The file dhtri is needed but does not exist.\n",
      "\n"
     ]
    },
    {
     "data": {
      "text/plain": [
       "error\n"
      ]
     },
     "execution_count": 1,
     "metadata": {},
     "output_type": "execute_result"
    }
   ],
   "source": [
    ")read dhtri"
   ]
  },
  {
   "cell_type": "markdown",
   "metadata": {},
   "source": [
    " Draw Antoine's Rings with n levels of recursive subdivision.\n",
    " The number of subrings is 10^n.\n"
   ]
  },
  {
   "cell_type": "code",
   "execution_count": 2,
   "metadata": {
    "collapsed": false
   },
   "outputs": [
    {
     "data": {
      "text/plain": [
       "                                                                   Type: Void\n"
      ]
     },
     "execution_count": 2,
     "metadata": {},
     "output_type": "execute_result"
    }
   ],
   "source": [
    "torusRot: DHMATRIX(DoubleFloat)"
   ]
  },
  {
   "cell_type": "markdown",
   "metadata": {},
   "source": [
    " Recursively draw Antoine's Necklace.\n"
   ]
  },
  {
   "cell_type": "code",
   "execution_count": 3,
   "metadata": {
    "collapsed": false
   },
   "outputs": [
    {
     "data": {
      "text/plain": [
       "                                                                   Type: Void\n"
      ]
     },
     "execution_count": 3,
     "metadata": {},
     "output_type": "execute_result"
    }
   ],
   "source": [
    "drawRings(n) ==\n",
    "  s := create3Space()$ThreeSpace DoubleFloat\n",
    "  -- create an identity transformation\n",
    "  dh:DHMATRIX(DoubleFloat) := identity()\n",
    "  drawRingsInner(s, n, dh)\n",
    "  makeViewport3D(s, \"Antoine's Necklace\")"
   ]
  },
  {
   "cell_type": "markdown",
   "metadata": {},
   "source": [
    " draw a single ring into the given subspace, transformed by the given\n",
    " DHMATRIX.\n"
   ]
  },
  {
   "cell_type": "code",
   "execution_count": 4,
   "metadata": {
    "collapsed": false
   },
   "outputs": [
    {
     "data": {
      "text/plain": [
       "                                                                   Type: Void\n"
      ]
     },
     "execution_count": 4,
     "metadata": {},
     "output_type": "execute_result"
    }
   ],
   "source": [
    "drawRingsInner(s, n, dh) ==\n",
    "  n = 0 =>\n",
    "    drawRing(s, dh)\n",
    "    void()\n",
    "  t := 0.0@DoubleFloat             -- the current angle around the ring\n",
    "  p := 0.0@DoubleFloat             -- the angle of the subring from the plane\n",
    "  tr := 1.0@DoubleFloat            -- the amount to translate the subring\n",
    "  inc := 0.1@DoubleFloat           -- translation increment\n",
    "  -- subdivide the ring into 10 linked rings\n",
    "  for i in 1..10 repeat\n",
    "    tr := tr + inc\n",
    "    inc := -inc\n",
    "    dh' := dh * rotatez(t) * translate(tr, 0.0@DoubleFloat, 0.0@DoubleFloat) *\n",
    "           rotatey(p) * scale(0.35@DoubleFloat, 0.48@DoubleFloat, 0.4@DoubleFloat)\n",
    "    drawRingsInner(s, n-1, dh')\n",
    "    t := t + 36.0@DoubleFloat\n",
    "    p := p + 90.0@DoubleFloat\n",
    "  void()"
   ]
  },
  {
   "cell_type": "markdown",
   "metadata": {},
   "source": [
    " Parameterization of a torus, transformed by the DHMATRIX in torusRot.\n"
   ]
  },
  {
   "cell_type": "code",
   "execution_count": 5,
   "metadata": {
    "collapsed": false
   },
   "outputs": [
    {
     "data": {
      "text/plain": [
       "                                                                   Type: Void\n"
      ]
     },
     "execution_count": 5,
     "metadata": {},
     "output_type": "execute_result"
    }
   ],
   "source": [
    "drawRing(s, dh) ==\n",
    "  free torusRot\n",
    "  torusRot := dh\n",
    "  makeObject(torus, 0..2*%pi, 0..2*%pi, var1Steps == 6, space == s,\n",
    "             var2Steps == 15)"
   ]
  },
  {
   "cell_type": "code",
   "execution_count": 6,
   "metadata": {
    "collapsed": false
   },
   "outputs": [
    {
     "data": {
      "text/plain": [
       "                                                                   Type: Void\n"
      ]
     },
     "execution_count": 6,
     "metadata": {},
     "output_type": "execute_result"
    }
   ],
   "source": [
    "torus(u ,v) ==\n",
    "  cu := cos(u)/6\n",
    "  torusRot * point [(1+cu)*cos(v), (1+cu)*sin(v), (sin u)/6]"
   ]
  },
  {
   "cell_type": "code",
   "execution_count": 7,
   "metadata": {
    "collapsed": false
   },
   "outputs": [
    {
     "name": "stderr",
     "output_type": "stream",
     "text": [
      "INDEX-TOO-LARGE-ERROR: \n",
      "  #<SB-KERNEL:INDEX-TOO-LARGE-ERROR expected-type: (INTEGER 0 (0)) datum: 0>\n"
     ]
    },
    {
     "data": {
      "text/plain": []
     },
     "execution_count": 7,
     "metadata": {},
     "output_type": "execute_result"
    }
   ],
   "source": []
  }
 ],
 "metadata": {
  "kernelspec": {
   "display_name": "FriCAS",
   "language": "spad",
   "name": "ifricas"
  },
  "language_info": {
   "codemirror_mode": "spad",
   "mimetype": "text/x-spad",
   "name": "SPAD",
   "pygments_lexer": "spad",
   "version": "1.2.6"
  },
  "name": "antoine.ipynb"
 },
 "nbformat": 4,
 "nbformat_minor": 0
}