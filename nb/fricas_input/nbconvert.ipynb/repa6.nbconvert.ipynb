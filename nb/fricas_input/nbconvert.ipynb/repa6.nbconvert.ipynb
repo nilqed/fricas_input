{
 "cells": [
  {
   "cell_type": "markdown",
   "metadata": {},
   "source": [
    " This file demonstrates Representation Theory in Scratchpad\n",
    " using the packages REP1, REP2, IRSN and SGCF, which are the\n",
    " abbreviations for RepresentationPackage1, RepresentationPackage2\n",
    " IrrRepSymNatPackage and SymmetricGroupCombinatoricFunctions.\n",
    " authors: Holger Gollan, Johannes Grabmeier\n",
    " release 1.0  09/30/87\n",
    " release 2.0  11/10/88: J. Grabmeier: add functions from IRSN\n",
    " release 2.1  08/04/89: J. Grabmeier: adjusting to new PERM\n",
    "   and modified REP1\n",
    " release 2.2  06/05/89: J. Grabmeier: adjusting to new algebra\n",
    " release 2.3  08/20/89: J. Grabmeier: minor adjustments\n",
    " In the sequel we show how to get all 2-modular irreducible\n",
    " representations of the alternating group A6.\n",
    " We generate A6 by the permutations threecycle x=(1,2,3)\n",
    " and the 5-cycle y=(2,3,4,5,6)\n"
   ]
  },
  {
   "cell_type": "code",
   "execution_count": 0,
   "metadata": {
    "collapsed": false
   },
   "outputs": [
    {
     "name": "stdout",
     "output_type": "stream",
     "text": [
      "   All user variables and function definitions have been cleared.\n"
     ]
    },
    {
     "data": {
      "text/plain": []
     },
     "execution_count": 0,
     "metadata": {},
     "output_type": "execute_result"
    }
   ],
   "source": [
    ")clear all"
   ]
  },
  {
   "cell_type": "markdown",
   "metadata": {},
   "source": [
    " pRA6 is the permutation representation over the Integers...\n"
   ]
  },
  {
   "cell_type": "code",
   "execution_count": 1,
   "metadata": {
    "collapsed": false
   },
   "outputs": [
    {
     "name": "stdout",
     "output_type": "stream",
     "text": [
      "Warning: HyperTeX macro table not found\n"
     ]
    },
    {
     "data": {
      "text/plain": [
       "   [(1 2 3),(2 3 4 5 6)]\n",
       "                                             Type: List(Permutation(Integer))\n"
      ]
     },
     "execution_count": 1,
     "metadata": {},
     "output_type": "execute_result"
    }
   ],
   "source": [
    "genA6 : List PERM INT := [cycle [1,2,3], cycle [2,3,4,5,6]]"
   ]
  },
  {
   "cell_type": "markdown",
   "metadata": {},
   "source": [
    " ... and pRA6m2 is the permutation representation over PrimeField 2:\n"
   ]
  },
  {
   "cell_type": "code",
   "execution_count": 2,
   "metadata": {
    "collapsed": false
   },
   "outputs": [
    {
     "data": {
      "text/plain": [
       "    +0  0  1  0  0  0+ +1  0  0  0  0  0+\n",
       "    |                | |                |\n",
       "    |1  0  0  0  0  0| |0  0  0  0  0  1|\n",
       "    |                | |                |\n",
       "    |0  1  0  0  0  0| |0  1  0  0  0  0|\n",
       "   [|                |,|                |]\n",
       "    |0  0  0  1  0  0| |0  0  1  0  0  0|\n",
       "    |                | |                |\n",
       "    |0  0  0  0  1  0| |0  0  0  1  0  0|\n",
       "    |                | |                |\n",
       "    +0  0  0  0  0  1+ +0  0  0  0  1  0+\n",
       "                                                  Type: List(Matrix(Integer))\n"
      ]
     },
     "execution_count": 2,
     "metadata": {},
     "output_type": "execute_result"
    }
   ],
   "source": [
    "pRA6 := permutationRepresentation (genA6, 6)"
   ]
  },
  {
   "cell_type": "markdown",
   "metadata": {},
   "source": [
    " Now try to split pRA6m2:\n"
   ]
  },
  {
   "cell_type": "code",
   "execution_count": 3,
   "metadata": {
    "collapsed": false
   },
   "outputs": [
    {
     "data": {
      "text/plain": [
       "    +0  0  1  0  0  0+ +1  0  0  0  0  0+\n",
       "    |                | |                |\n",
       "    |1  0  0  0  0  0| |0  0  0  0  0  1|\n",
       "    |                | |                |\n",
       "    |0  1  0  0  0  0| |0  1  0  0  0  0|\n",
       "   [|                |,|                |]\n",
       "    |0  0  0  1  0  0| |0  0  1  0  0  0|\n",
       "    |                | |                |\n",
       "    |0  0  0  0  1  0| |0  0  0  1  0  0|\n",
       "    |                | |                |\n",
       "    +0  0  0  0  0  1+ +0  0  0  0  1  0+\n",
       "                                            Type: List(Matrix(PrimeField(2)))\n"
      ]
     },
     "execution_count": 3,
     "metadata": {},
     "output_type": "execute_result"
    }
   ],
   "source": [
    "pRA6m2 : List Matrix PrimeField 2 := pRA6"
   ]
  },
  {
   "cell_type": "markdown",
   "metadata": {},
   "source": [
    " We have found the trivial module as a factormodule\n",
    " and a 5-dimensional submodule.\n"
   ]
  },
  {
   "cell_type": "code",
   "execution_count": 4,
   "metadata": {
    "collapsed": false
   },
   "outputs": [
    {
     "data": {
      "text/plain": [
       "   Fingerprint element in generated algebra is singular\n",
       "     A proper cyclic submodule is found.\n",
       "     Transition matrix computed\n",
       "     The inverse of the transition matrix computed\n",
       "     Now transform the matrices\n",
       "     +0  0  1  0  0+ +1  0  0  0  0+\n",
       "     |             | |             |\n",
       "     |1  0  0  0  0| |1  1  1  1  1|\n",
       "     |             | |             |\n",
       "   [[|0  1  0  0  0|,|0  1  0  0  0|],[[1],[1]]]\n",
       "     |             | |             |\n",
       "     |0  0  0  1  0| |0  0  1  0  0|\n",
       "     |             | |             |\n",
       "     +0  0  0  0  1+ +0  0  0  1  0+\n",
       "                                      Type: List(List(Matrix(PrimeField(2))))\n"
      ]
     },
     "execution_count": 4,
     "metadata": {},
     "output_type": "execute_result"
    }
   ],
   "source": [
    "sp0 := meatAxe pRA6m2"
   ]
  },
  {
   "cell_type": "markdown",
   "metadata": {},
   "source": [
    " Try to split again...\n"
   ]
  },
  {
   "cell_type": "code",
   "execution_count": 5,
   "metadata": {
    "collapsed": false
   },
   "outputs": [
    {
     "data": {
      "text/plain": [
       "   [[1],[1]]\n",
       "                                            Type: List(Matrix(PrimeField(2)))\n"
      ]
     },
     "execution_count": 5,
     "metadata": {},
     "output_type": "execute_result"
    }
   ],
   "source": [
    "dA6d1 := sp0.2"
   ]
  },
  {
   "cell_type": "markdown",
   "metadata": {},
   "source": [
    " ... and find a 4-dimensional submodule, say dA6d4a, and the\n",
    " trivial one again.\n"
   ]
  },
  {
   "cell_type": "code",
   "execution_count": 6,
   "metadata": {
    "collapsed": false
   },
   "outputs": [
    {
     "data": {
      "text/plain": [
       "   Fingerprint element in generated algebra is singular\n",
       "     The generated cyclic submodule was not proper\n",
       "     The generated cyclic submodule was not proper\n",
       "     The generated cyclic submodule was not proper\n",
       "     We know that all the cyclic submodules generated by all\n",
       "       non-trivial element of the singular matrix under view are\n",
       "       not proper, hence Norton's irreducibility test can be done:\n",
       "     A proper cyclic submodule is found.\n",
       "     Transition matrix computed\n",
       "     The inverse of the transition matrix computed\n",
       "     Now transform the matrices\n",
       "     Representation is not irreducible and it will be split:\n",
       "               +0  1  0  0+ +0  1  1  1+\n",
       "               |          | |          |\n",
       "               |0  0  1  0| |1  1  0  1|\n",
       "   [[[1],[1]],[|          |,|          |]]\n",
       "               |1  0  0  0| |1  1  1  0|\n",
       "               |          | |          |\n",
       "               +0  0  0  1+ +1  1  1  1+\n",
       "                                      Type: List(List(Matrix(PrimeField(2))))\n"
      ]
     },
     "execution_count": 6,
     "metadata": {},
     "output_type": "execute_result"
    }
   ],
   "source": [
    "sp1 := meatAxe sp0.1"
   ]
  },
  {
   "cell_type": "markdown",
   "metadata": {},
   "source": [
    " Now we want to test, whether dA6d4a is absolutely irreducible...\n"
   ]
  },
  {
   "cell_type": "code",
   "execution_count": 7,
   "metadata": {
    "collapsed": false
   },
   "outputs": [
    {
     "data": {
      "text/plain": [
       "    +0  1  0  0+ +0  1  1  1+\n",
       "    |          | |          |\n",
       "    |0  0  1  0| |1  1  0  1|\n",
       "   [|          |,|          |]\n",
       "    |1  0  0  0| |1  1  1  0|\n",
       "    |          | |          |\n",
       "    +0  0  0  1+ +1  1  1  1+\n",
       "                                            Type: List(Matrix(PrimeField(2)))\n"
      ]
     },
     "execution_count": 7,
     "metadata": {},
     "output_type": "execute_result"
    }
   ],
   "source": [
    "dA6d4a := sp1.2"
   ]
  },
  {
   "cell_type": "markdown",
   "metadata": {},
   "source": [
    " ...and see: dA6d4a is absolutely irreducible.\n",
    " So we have found a second irreducible representation.\n",
    " Now construct a representation from reducing an irreducible one\n",
    " of the symmetric group S_6 over the integers taken mod 2\n",
    " What is the degree of the representation belonging to partition\n",
    " [2,2,1,1]?\n",
    " lambda : PRTITION := partition [2,2,1,1]\n"
   ]
  },
  {
   "cell_type": "code",
   "execution_count": 8,
   "metadata": {
    "collapsed": false
   },
   "outputs": [
    {
     "data": {
      "text/plain": [
       "   Random element in generated algebra does\n",
       "     not have a one-dimensional kernel\n",
       "   Random element in generated algebra does\n",
       "     not have a one-dimensional kernel\n",
       "   Random element in generated algebra does\n",
       "     not have a one-dimensional kernel\n",
       "   Random element in generated algebra does\n",
       "     not have a one-dimensional kernel\n",
       "   Random element in generated algebra does\n",
       "     not have a one-dimensional kernel\n",
       "   Random element in generated algebra does\n",
       "     not have a one-dimensional kernel\n",
       "   Random element in generated algebra has\n",
       "     one-dimensional kernel\n",
       "     We know that all the cyclic submodules generated by all\n",
       "       non-trivial element of the singular matrix under view are\n",
       "       not proper, hence Norton's irreducibility test can be done:\n",
       "     The generated cyclic submodule was not proper\n",
       "     Representation is absolutely irreducible\n",
       "   true\n",
       "                                                                Type: Boolean\n"
      ]
     },
     "execution_count": 8,
     "metadata": {},
     "output_type": "execute_result"
    }
   ],
   "source": [
    "isAbsolutelyIrreducible? dA6d4a"
   ]
  },
  {
   "cell_type": "code",
   "execution_count": 9,
   "metadata": {
    "collapsed": false
   },
   "outputs": [
    {
     "data": {
      "text/plain": [
       "   [2,2,1,1]\n",
       "                                                  Type: List(PositiveInteger)\n"
      ]
     },
     "execution_count": 9,
     "metadata": {},
     "output_type": "execute_result"
    }
   ],
   "source": [
    "lambda := [2,2,1,1]"
   ]
  },
  {
   "cell_type": "markdown",
   "metadata": {},
   "source": [
    " now create the restriction to A6:\n"
   ]
  },
  {
   "cell_type": "code",
   "execution_count": 10,
   "metadata": {
    "collapsed": false
   },
   "outputs": [
    {
     "data": {
      "text/plain": [
       "   9\n",
       "                                                        Type: PositiveInteger\n"
      ]
     },
     "execution_count": 10,
     "metadata": {},
     "output_type": "execute_result"
    }
   ],
   "source": [
    "dimensionOfIrreducibleRepresentation lambda"
   ]
  },
  {
   "cell_type": "markdown",
   "metadata": {},
   "source": [
    " ... and d2211m2 is the representation over PrimeField 2:\n"
   ]
  },
  {
   "cell_type": "code",
   "execution_count": 11,
   "metadata": {
    "collapsed": false
   },
   "outputs": [
    {
     "data": {
      "text/plain": [
       "    +1  0  0  - 1   1    0    0    0    0 + + 0    0   1   0   0  0   1   0  0+\n",
       "    |                                     | |                                 |\n",
       "    |0  1  0   1    0    1    0    0    0 | | 0    0   0   0   1  0  - 1  0  0|\n",
       "    |                                     | |                                 |\n",
       "    |0  0  1   0    1   - 1   0    0    0 | | 0    0   0   0   0  1   1   0  0|\n",
       "    |                                     | |                                 |\n",
       "    |0  0  0  - 1   0    0   - 1   0    0 | | 0    0   0   0   0  0   1   1  0|\n",
       "    |                                     | |                                 |\n",
       "   [|0  0  0   0   - 1   0    0   - 1   0 |,| 0    0   0   0   0  0  - 1  0  1|]\n",
       "    |                                     | |                                 |\n",
       "    |0  0  0   0    0   - 1   0    0   - 1| | 0    0   0   0   0  0   1   0  0|\n",
       "    |                                     | |                                 |\n",
       "    |0  0  0   1    0    0    0    0    0 | |- 1   0   0   0   0  0  - 1  0  0|\n",
       "    |                                     | |                                 |\n",
       "    |0  0  0   0    1    0    0    0    0 | | 0   - 1  0   0   0  0   1   0  0|\n",
       "    |                                     | |                                 |\n",
       "    +0  0  0   0    0    1    0    0    0 + + 0    0   0  - 1  0  0  - 1  0  0+\n",
       "                                                  Type: List(Matrix(Integer))\n"
      ]
     },
     "execution_count": 11,
     "metadata": {},
     "output_type": "execute_result"
    }
   ],
   "source": [
    "d2211  := irreducibleRepresentation(lambda, genA6)"
   ]
  },
  {
   "cell_type": "markdown",
   "metadata": {},
   "source": [
    " and split it:\n"
   ]
  },
  {
   "cell_type": "code",
   "execution_count": 12,
   "metadata": {
    "collapsed": false
   },
   "outputs": [
    {
     "data": {
      "text/plain": [
       "    +1  0  0  1  1  0  0  0  0+ +0  0  1  0  0  0  1  0  0+\n",
       "    |                         | |                         |\n",
       "    |0  1  0  1  0  1  0  0  0| |0  0  0  0  1  0  1  0  0|\n",
       "    |                         | |                         |\n",
       "    |0  0  1  0  1  1  0  0  0| |0  0  0  0  0  1  1  0  0|\n",
       "    |                         | |                         |\n",
       "    |0  0  0  1  0  0  1  0  0| |0  0  0  0  0  0  1  1  0|\n",
       "    |                         | |                         |\n",
       "   [|0  0  0  0  1  0  0  1  0|,|0  0  0  0  0  0  1  0  1|]\n",
       "    |                         | |                         |\n",
       "    |0  0  0  0  0  1  0  0  1| |0  0  0  0  0  0  1  0  0|\n",
       "    |                         | |                         |\n",
       "    |0  0  0  1  0  0  0  0  0| |1  0  0  0  0  0  1  0  0|\n",
       "    |                         | |                         |\n",
       "    |0  0  0  0  1  0  0  0  0| |0  1  0  0  0  0  1  0  0|\n",
       "    |                         | |                         |\n",
       "    +0  0  0  0  0  1  0  0  0+ +0  0  0  1  0  0  1  0  0+\n",
       "                                            Type: List(Matrix(PrimeField(2)))\n"
      ]
     },
     "execution_count": 12,
     "metadata": {},
     "output_type": "execute_result"
    }
   ],
   "source": [
    "d2211m2 : List Matrix PrimeField 2 := d2211"
   ]
  },
  {
   "cell_type": "markdown",
   "metadata": {},
   "source": [
    " A 5 and a 4-dimensional one.\n",
    " we take the 4-dimensional one, say dA6d4b:\n"
   ]
  },
  {
   "cell_type": "code",
   "execution_count": 13,
   "metadata": {
    "collapsed": false
   },
   "outputs": [
    {
     "data": {
      "text/plain": [
       "   Fingerprint element in generated algebra is singular\n",
       "     A proper cyclic submodule is found.\n",
       "     Transition matrix computed\n",
       "     The inverse of the transition matrix computed\n",
       "     Now transform the matrices\n",
       "                                 +1  0  0  0  0+ +1  1  1  0  0+\n",
       "     +1  0  1  1+ +0  0  1  0+   |             | |             |\n",
       "     |          | |          |   |0  1  1  1  1| |0  0  1  1  1|\n",
       "     |0  1  0  1| |1  1  1  1|   |             | |             |\n",
       "   [[|          |,|          |],[|0  1  1  0  0|,|1  0  0  1  0|]]\n",
       "     |1  1  0  0| |1  0  1  1|   |             | |             |\n",
       "     |          | |          |   |0  1  0  1  0| |0  0  1  0  1|\n",
       "     +0  1  0  0+ +0  1  0  1+   |             | |             |\n",
       "                                 +0  1  1  1  0+ +1  0  0  1  1+\n",
       "                                      Type: List(List(Matrix(PrimeField(2))))\n"
      ]
     },
     "execution_count": 13,
     "metadata": {},
     "output_type": "execute_result"
    }
   ],
   "source": [
    "sp2 := meatAxe d2211m2"
   ]
  },
  {
   "cell_type": "markdown",
   "metadata": {},
   "source": [
    " This is absolutely irreducible, too ...\n"
   ]
  },
  {
   "cell_type": "code",
   "execution_count": 14,
   "metadata": {
    "collapsed": false
   },
   "outputs": [
    {
     "data": {
      "text/plain": [
       "    +1  0  1  1+ +0  0  1  0+\n",
       "    |          | |          |\n",
       "    |0  1  0  1| |1  1  1  1|\n",
       "   [|          |,|          |]\n",
       "    |1  1  0  0| |1  0  1  1|\n",
       "    |          | |          |\n",
       "    +0  1  0  0+ +0  1  0  1+\n",
       "                                            Type: List(Matrix(PrimeField(2)))\n"
      ]
     },
     "execution_count": 14,
     "metadata": {},
     "output_type": "execute_result"
    }
   ],
   "source": [
    "dA6d4b := sp2.1"
   ]
  },
  {
   "cell_type": "markdown",
   "metadata": {},
   "source": [
    " ... and dA6d4a and dA6d4b are not equivalent:\n"
   ]
  },
  {
   "cell_type": "code",
   "execution_count": 15,
   "metadata": {
    "collapsed": false
   },
   "outputs": [
    {
     "data": {
      "text/plain": [
       "   Random element in generated algebra does\n",
       "     not have a one-dimensional kernel\n",
       "   Random element in generated algebra does\n",
       "     not have a one-dimensional kernel\n",
       "   Random element in generated algebra has\n",
       "     one-dimensional kernel\n",
       "     We know that all the cyclic submodules generated by all\n",
       "       non-trivial element of the singular matrix under view are\n",
       "       not proper, hence Norton's irreducibility test can be done:\n",
       "     The generated cyclic submodule was not proper\n",
       "     Representation is absolutely irreducible\n",
       "   true\n",
       "                                                                Type: Boolean\n"
      ]
     },
     "execution_count": 15,
     "metadata": {},
     "output_type": "execute_result"
    }
   ],
   "source": [
    "isAbsolutelyIrreducible? dA6d4b"
   ]
  },
  {
   "cell_type": "markdown",
   "metadata": {},
   "source": [
    " So the third irreducible representation is found.\n",
    " Now construct a new representation with the help of the tensorproduct\n"
   ]
  },
  {
   "cell_type": "code",
   "execution_count": 16,
   "metadata": {
    "collapsed": false
   },
   "outputs": [
    {
     "data": {
      "text/plain": [
       "   Dimensions of kernels differ\n",
       "\n",
       "   Representations are not equivalent.\n",
       "   [0]\n",
       "                                                  Type: Matrix(PrimeField(2))\n"
      ]
     },
     "execution_count": 16,
     "metadata": {},
     "output_type": "execute_result"
    }
   ],
   "source": [
    "areEquivalent? ( dA6d4a , dA6d4b )"
   ]
  },
  {
   "cell_type": "markdown",
   "metadata": {},
   "source": [
    " and try to split it...\n"
   ]
  },
  {
   "cell_type": "code",
   "execution_count": 17,
   "metadata": {
    "collapsed": false
   },
   "outputs": [
    {
     "name": "stdout",
     "output_type": "stream",
     "text": [
      "\n",
      "\n"
     ]
    },
    {
     "data": {
      "text/plain": [
       "    +0  0  0  0  1  0  1  1  0  0  0  0  0  0  0  0+\n",
       "    |                                              |\n",
       "    |0  0  0  0  0  1  0  1  0  0  0  0  0  0  0  0|\n",
       "    |                                              |\n",
       "    |0  0  0  0  1  1  0  0  0  0  0  0  0  0  0  0|\n",
       "    |                                              |\n",
       "    |0  0  0  0  0  1  0  0  0  0  0  0  0  0  0  0|\n",
       "    |                                              |\n",
       "    |0  0  0  0  0  0  0  0  1  0  1  1  0  0  0  0|\n",
       "    |                                              |\n",
       "    |0  0  0  0  0  0  0  0  0  1  0  1  0  0  0  0|\n",
       "    |                                              |\n",
       "    |0  0  0  0  0  0  0  0  1  1  0  0  0  0  0  0|\n",
       "    |                                              |\n",
       "    |0  0  0  0  0  0  0  0  0  1  0  0  0  0  0  0|\n",
       "   [|                                              |,\n",
       "    |1  0  1  1  0  0  0  0  0  0  0  0  0  0  0  0|\n",
       "    |                                              |\n",
       "    |0  1  0  1  0  0  0  0  0  0  0  0  0  0  0  0|\n",
       "    |                                              |\n",
       "    |1  1  0  0  0  0  0  0  0  0  0  0  0  0  0  0|\n",
       "    |                                              |\n",
       "    |0  1  0  0  0  0  0  0  0  0  0  0  0  0  0  0|\n",
       "    |                                              |\n",
       "    |0  0  0  0  0  0  0  0  0  0  0  0  1  0  1  1|\n",
       "    |                                              |\n",
       "    |0  0  0  0  0  0  0  0  0  0  0  0  0  1  0  1|\n",
       "    |                                              |\n",
       "    |0  0  0  0  0  0  0  0  0  0  0  0  1  1  0  0|\n",
       "    |                                              |\n",
       "    +0  0  0  0  0  0  0  0  0  0  0  0  0  1  0  0+\n",
       "    +0  0  0  0  0  0  1  0  0  0  1  0  0  0  1  0+\n",
       "    |                                              |\n",
       "    |0  0  0  0  1  1  1  1  1  1  1  1  1  1  1  1|\n",
       "    |                                              |\n",
       "    |0  0  0  0  1  0  1  1  1  0  1  1  1  0  1  1|\n",
       "    |                                              |\n",
       "    |0  0  0  0  0  1  0  1  0  1  0  1  0  1  0  1|\n",
       "    |                                              |\n",
       "    |0  0  1  0  0  0  1  0  0  0  0  0  0  0  1  0|\n",
       "    |                                              |\n",
       "    |1  1  1  1  1  1  1  1  0  0  0  0  1  1  1  1|\n",
       "    |                                              |\n",
       "    |1  0  1  1  1  0  1  1  0  0  0  0  1  0  1  1|\n",
       "    |                                              |\n",
       "    |0  1  0  1  0  1  0  1  0  0  0  0  0  1  0  1|\n",
       "    |                                              |]\n",
       "    |0  0  1  0  0  0  1  0  0  0  1  0  0  0  0  0|\n",
       "    |                                              |\n",
       "    |1  1  1  1  1  1  1  1  1  1  1  1  0  0  0  0|\n",
       "    |                                              |\n",
       "    |1  0  1  1  1  0  1  1  1  0  1  1  0  0  0  0|\n",
       "    |                                              |\n",
       "    |0  1  0  1  0  1  0  1  0  1  0  1  0  0  0  0|\n",
       "    |                                              |\n",
       "    |0  0  1  0  0  0  1  0  0  0  1  0  0  0  1  0|\n",
       "    |                                              |\n",
       "    |1  1  1  1  1  1  1  1  1  1  1  1  1  1  1  1|\n",
       "    |                                              |\n",
       "    |1  0  1  1  1  0  1  1  1  0  1  1  1  0  1  1|\n",
       "    |                                              |\n",
       "    +0  1  0  1  0  1  0  1  0  1  0  1  0  1  0  1+\n",
       "                                            Type: List(Matrix(PrimeField(2)))\n"
      ]
     },
     "execution_count": 17,
     "metadata": {},
     "output_type": "execute_result"
    }
   ],
   "source": [
    "dA6d16 := tensorProduct ( dA6d4a , dA6d4b )"
   ]
  },
  {
   "cell_type": "markdown",
   "metadata": {},
   "source": [
    " The representation is irreducible, but may be not\n",
    " absolutely irreducible.\n"
   ]
  },
  {
   "cell_type": "code",
   "execution_count": 18,
   "metadata": {
    "collapsed": false
   },
   "outputs": [
    {
     "name": "stdout",
     "output_type": "stream",
     "text": [
      "\n",
      "\n",
      "\n"
     ]
    },
    {
     "data": {
      "text/plain": [
       "   Fingerprint element in generated algebra is non-singular\n",
       "     The generated cyclic submodule was not proper\n",
       "   All factors were bad\n",
       "   Fingerprint element in generated algebra is non-singular\n",
       "     The generated cyclic submodule was not proper\n",
       "   Found good factor\n",
       "     We know that all the cyclic submodules generated by all\n",
       "       non-trivial element of the singular matrix under view are\n",
       "       not proper, hence Norton's irreducibility test can be done:\n",
       "     The generated cyclic submodule was not proper\n",
       "     Representation is irreducible, but we don't know\n",
       "       whether it is absolutely irreducible\n",
       "   [\n",
       "      +0  0  0  0  0  0  0  0  1  0  1  0  0  0  0  0+\n",
       "      |                                              |\n",
       "      |0  0  0  0  0  0  0  0  0  1  1  1  0  0  0  0|\n",
       "      |                                              |\n",
       "      |0  0  0  0  0  0  0  0  1  0  0  0  0  0  0  0|\n",
       "      |                                              |\n",
       "      |0  0  0  0  0  0  0  0  1  1  0  0  0  0  0  0|\n",
       "      |                                              |\n",
       "      |1  0  1  0  0  0  0  0  0  0  0  0  0  0  0  0|\n",
       "      |                                              |\n",
       "      |0  1  1  1  0  0  0  0  0  0  0  0  0  0  0  0|\n",
       "      |                                              |\n",
       "      |1  0  0  0  0  0  0  0  0  0  0  0  0  0  0  0|\n",
       "      |                                              |\n",
       "      |1  1  0  0  0  0  0  0  0  0  0  0  0  0  0  0|\n",
       "     [|                                              |,\n",
       "      |0  0  0  0  1  0  1  0  0  0  0  0  0  0  0  0|\n",
       "      |                                              |\n",
       "      |0  0  0  0  0  1  1  1  0  0  0  0  0  0  0  0|\n",
       "      |                                              |\n",
       "      |0  0  0  0  1  0  0  0  0  0  0  0  0  0  0  0|\n",
       "      |                                              |\n",
       "      |0  0  0  0  1  1  0  0  0  0  0  0  0  0  0  0|\n",
       "      |                                              |\n",
       "      |0  0  0  0  0  0  0  0  0  0  0  0  1  0  1  0|\n",
       "      |                                              |\n",
       "      |0  0  0  0  0  0  0  0  0  0  0  0  0  1  1  1|\n",
       "      |                                              |\n",
       "      |0  0  0  0  0  0  0  0  0  0  0  0  1  0  0  0|\n",
       "      |                                              |\n",
       "      +0  0  0  0  0  0  0  0  0  0  0  0  1  1  0  0+\n",
       "      +0  0  0  0  0  1  1  0  0  1  1  0  0  1  1  0+\n",
       "      |                                              |\n",
       "      |0  0  0  0  0  1  0  1  0  1  0  1  0  1  0  1|\n",
       "      |                                              |\n",
       "      |0  0  0  0  1  1  1  0  1  1  1  0  1  1  1  0|\n",
       "      |                                              |\n",
       "      |0  0  0  0  0  1  1  1  0  1  1  1  0  1  1  1|\n",
       "      |                                              |\n",
       "      |0  1  1  0  0  1  1  0  0  1  1  0  0  1  1  0|\n",
       "      |                                              |\n",
       "      |0  1  0  1  0  1  0  1  0  1  0  1  0  1  0  1|\n",
       "      |                                              |\n",
       "      |1  1  1  0  1  1  1  0  1  1  1  0  1  1  1  0|\n",
       "      |                                              |\n",
       "      |0  1  1  1  0  1  1  1  0  1  1  1  0  1  1  1|\n",
       "      |                                              |]\n",
       "      |0  1  1  0  0  0  0  0  0  1  1  0  0  1  1  0|\n",
       "      |                                              |\n",
       "      |0  1  0  1  0  0  0  0  0  1  0  1  0  1  0  1|\n",
       "      |                                              |\n",
       "      |1  1  1  0  0  0  0  0  1  1  1  0  1  1  1  0|\n",
       "      |                                              |\n",
       "      |0  1  1  1  0  0  0  0  0  1  1  1  0  1  1  1|\n",
       "      |                                              |\n",
       "      |0  1  1  0  0  1  1  0  0  0  0  0  0  1  1  0|\n",
       "      |                                              |\n",
       "      |0  1  0  1  0  1  0  1  0  0  0  0  0  1  0  1|\n",
       "      |                                              |\n",
       "      |1  1  1  0  1  1  1  0  0  0  0  0  1  1  1  0|\n",
       "      |                                              |\n",
       "      +0  1  1  1  0  1  1  1  0  0  0  0  0  1  1  1+\n",
       "     ]\n",
       "                                      Type: List(List(Matrix(PrimeField(2))))\n"
      ]
     },
     "execution_count": 18,
     "metadata": {},
     "output_type": "execute_result"
    }
   ],
   "source": [
    "sp3 := meatAxe dA6d16"
   ]
  },
  {
   "cell_type": "markdown",
   "metadata": {},
   "source": [
    " So let's try the same over the field with 4 elements:\n"
   ]
  },
  {
   "cell_type": "code",
   "execution_count": 19,
   "metadata": {
    "collapsed": false
   },
   "outputs": [
    {
     "data": {
      "text/plain": [
       "   Random element in generated algebra does\n",
       "     not have a one-dimensional kernel\n",
       "   Random element in generated algebra does\n",
       "     not have a one-dimensional kernel\n",
       "   Random element in generated algebra does\n",
       "     not have a one-dimensional kernel\n",
       "   Random element in generated algebra does\n",
       "     not have a one-dimensional kernel\n",
       "   Random element in generated algebra does\n",
       "     not have a one-dimensional kernel\n",
       "   Random element in generated algebra does\n",
       "     not have a one-dimensional kernel\n",
       "   Random element in generated algebra does\n",
       "     not have a one-dimensional kernel\n",
       "   Random element in generated algebra does\n",
       "     not have a one-dimensional kernel\n",
       "   Random element in generated algebra does\n",
       "     not have a one-dimensional kernel\n",
       "   Random element in generated algebra does\n",
       "     not have a one-dimensional kernel\n",
       "   Random element in generated algebra does\n",
       "     not have a one-dimensional kernel\n",
       "   Random element in generated algebra does\n",
       "     not have a one-dimensional kernel\n",
       "   Random element in generated algebra does\n",
       "     not have a one-dimensional kernel\n",
       "   Random element in generated algebra does\n",
       "     not have a one-dimensional kernel\n",
       "   Random element in generated algebra does\n",
       "     not have a one-dimensional kernel\n",
       "   Random element in generated algebra does\n",
       "     not have a one-dimensional kernel\n",
       "   Random element in generated algebra does\n",
       "     not have a one-dimensional kernel\n",
       "   Random element in generated algebra does\n",
       "     not have a one-dimensional kernel\n",
       "   Random element in generated algebra does\n",
       "     not have a one-dimensional kernel\n",
       "   Random element in generated algebra does\n",
       "     not have a one-dimensional kernel\n",
       "   Random element in generated algebra does\n",
       "     not have a one-dimensional kernel\n",
       "   Random element in generated algebra does\n",
       "     not have a one-dimensional kernel\n",
       "   Random element in generated algebra does\n",
       "     not have a one-dimensional kernel\n",
       "   Random element in generated algebra does\n",
       "     not have a one-dimensional kernel\n",
       "   Random element in generated algebra does\n",
       "     not have a one-dimensional kernel\n",
       "   We have not found a one-dimensional kernel so far,\n",
       "     as we do a random search you could try again\n",
       "   false\n",
       "                                                                Type: Boolean\n"
      ]
     },
     "execution_count": 19,
     "metadata": {},
     "output_type": "execute_result"
    }
   ],
   "source": [
    "isAbsolutelyIrreducible? dA6d16"
   ]
  },
  {
   "cell_type": "code",
   "execution_count": 20,
   "metadata": {
    "collapsed": false
   },
   "outputs": [
    {
     "data": {
      "text/plain": [
       "   FiniteField(2,2)\n",
       "                                                                   Type: Type\n"
      ]
     },
     "execution_count": 20,
     "metadata": {},
     "output_type": "execute_result"
    }
   ],
   "source": [
    "gf4 := FiniteField(2,2)"
   ]
  },
  {
   "cell_type": "code",
   "execution_count": 21,
   "metadata": {
    "collapsed": false
   },
   "outputs": [
    {
     "name": "stdout",
     "output_type": "stream",
     "text": [
      "\n",
      "\n"
     ]
    },
    {
     "data": {
      "text/plain": [
       "    +0  0  0  0  1  0  1  1  0  0  0  0  0  0  0  0+\n",
       "    |                                              |\n",
       "    |0  0  0  0  0  1  0  1  0  0  0  0  0  0  0  0|\n",
       "    |                                              |\n",
       "    |0  0  0  0  1  1  0  0  0  0  0  0  0  0  0  0|\n",
       "    |                                              |\n",
       "    |0  0  0  0  0  1  0  0  0  0  0  0  0  0  0  0|\n",
       "    |                                              |\n",
       "    |0  0  0  0  0  0  0  0  1  0  1  1  0  0  0  0|\n",
       "    |                                              |\n",
       "    |0  0  0  0  0  0  0  0  0  1  0  1  0  0  0  0|\n",
       "    |                                              |\n",
       "    |0  0  0  0  0  0  0  0  1  1  0  0  0  0  0  0|\n",
       "    |                                              |\n",
       "    |0  0  0  0  0  0  0  0  0  1  0  0  0  0  0  0|\n",
       "   [|                                              |,\n",
       "    |1  0  1  1  0  0  0  0  0  0  0  0  0  0  0  0|\n",
       "    |                                              |\n",
       "    |0  1  0  1  0  0  0  0  0  0  0  0  0  0  0  0|\n",
       "    |                                              |\n",
       "    |1  1  0  0  0  0  0  0  0  0  0  0  0  0  0  0|\n",
       "    |                                              |\n",
       "    |0  1  0  0  0  0  0  0  0  0  0  0  0  0  0  0|\n",
       "    |                                              |\n",
       "    |0  0  0  0  0  0  0  0  0  0  0  0  1  0  1  1|\n",
       "    |                                              |\n",
       "    |0  0  0  0  0  0  0  0  0  0  0  0  0  1  0  1|\n",
       "    |                                              |\n",
       "    |0  0  0  0  0  0  0  0  0  0  0  0  1  1  0  0|\n",
       "    |                                              |\n",
       "    +0  0  0  0  0  0  0  0  0  0  0  0  0  1  0  0+\n",
       "    +0  0  0  0  0  0  1  0  0  0  1  0  0  0  1  0+\n",
       "    |                                              |\n",
       "    |0  0  0  0  1  1  1  1  1  1  1  1  1  1  1  1|\n",
       "    |                                              |\n",
       "    |0  0  0  0  1  0  1  1  1  0  1  1  1  0  1  1|\n",
       "    |                                              |\n",
       "    |0  0  0  0  0  1  0  1  0  1  0  1  0  1  0  1|\n",
       "    |                                              |\n",
       "    |0  0  1  0  0  0  1  0  0  0  0  0  0  0  1  0|\n",
       "    |                                              |\n",
       "    |1  1  1  1  1  1  1  1  0  0  0  0  1  1  1  1|\n",
       "    |                                              |\n",
       "    |1  0  1  1  1  0  1  1  0  0  0  0  1  0  1  1|\n",
       "    |                                              |\n",
       "    |0  1  0  1  0  1  0  1  0  0  0  0  0  1  0  1|\n",
       "    |                                              |]\n",
       "    |0  0  1  0  0  0  1  0  0  0  1  0  0  0  0  0|\n",
       "    |                                              |\n",
       "    |1  1  1  1  1  1  1  1  1  1  1  1  0  0  0  0|\n",
       "    |                                              |\n",
       "    |1  0  1  1  1  0  1  1  1  0  1  1  0  0  0  0|\n",
       "    |                                              |\n",
       "    |0  1  0  1  0  1  0  1  0  1  0  1  0  0  0  0|\n",
       "    |                                              |\n",
       "    |0  0  1  0  0  0  1  0  0  0  1  0  0  0  1  0|\n",
       "    |                                              |\n",
       "    |1  1  1  1  1  1  1  1  1  1  1  1  1  1  1  1|\n",
       "    |                                              |\n",
       "    |1  0  1  1  1  0  1  1  1  0  1  1  1  0  1  1|\n",
       "    |                                              |\n",
       "    +0  1  0  1  0  1  0  1  0  1  0  1  0  1  0  1+\n",
       "                                         Type: List(Matrix(FiniteField(2,2)))\n"
      ]
     },
     "execution_count": 21,
     "metadata": {},
     "output_type": "execute_result"
    }
   ],
   "source": [
    "dA6d16gf4 : List Matrix gf4 := dA6d16"
   ]
  },
  {
   "cell_type": "markdown",
   "metadata": {},
   "source": [
    " Now we find two 8-dimensional ones, dA6d8a and dA6d8b.\n"
   ]
  },
  {
   "cell_type": "code",
   "execution_count": 22,
   "metadata": {
    "collapsed": false
   },
   "outputs": [
    {
     "name": "stdout",
     "output_type": "stream",
     "text": [
      "\n",
      "\n",
      "\n",
      "\n",
      "\n",
      "\n"
     ]
    },
    {
     "data": {
      "text/plain": [
       "     The generated cyclic submodule was not proper\n",
       "     A proper cyclic submodule is found.\n",
       "     Transition matrix computed\n",
       "     The inverse of the transition matrix computed\n",
       "     Now transform the matrices\n",
       "   [\n",
       "      +%A + 1  %A    0     %A + 1    1       %A      0       0   +\n",
       "      |                                                          |\n",
       "      |  0     0   %A + 1    %A    %A + 1  %A + 1    0       0   |\n",
       "      |                                                          |\n",
       "      |%A + 1  %A  %A + 1    1       %A      0       0       0   |\n",
       "      |                                                          |\n",
       "      |%A + 1  %A  %A + 1    1     %A + 1    0       0       0   |\n",
       "     [|                                                          |,\n",
       "      |  %A    1     1       1       0       0       %A    %A + 1|\n",
       "      |                                                          |\n",
       "      |  0     0     %A      1       0       0     %A + 1    0   |\n",
       "      |                                                          |\n",
       "      |  1     0     1       1       0       0       0       0   |\n",
       "      |                                                          |\n",
       "      +  1     1     0       0       0       0       0       0   +\n",
       "      +  1       0     %A + 1    0     1   1   %A + 1    %A  +\n",
       "      |                                                      |\n",
       "      |  1       %A      0       0     0   %A    1       %A  |\n",
       "      |                                                      |\n",
       "      |%A + 1    1       %A      %A    %A  1   %A + 1    0   |\n",
       "      |                                                      |\n",
       "      |  %A      %A      0       0     1   %A    1       1   |\n",
       "      |                                                      |]\n",
       "      |  1       0       %A      0     1   1   %A + 1  %A + 1|\n",
       "      |                                                      |\n",
       "      |  0       0       %A      %A    %A  1     1     %A + 1|\n",
       "      |                                                      |\n",
       "      |  0       0       1       0     0   1     0       1   |\n",
       "      |                                                      |\n",
       "      +  0     %A + 1    0     %A + 1  1   %A    %A    %A + 1+\n",
       "     ,\n",
       "\n",
       "      +  0       1       1       %A    0  0  0  0+\n",
       "      |                                          |\n",
       "      |  1       1       %A      0     0  0  0  0|\n",
       "      |                                          |\n",
       "      |%A + 1    0       0       0     0  0  0  0|\n",
       "      |                                          |\n",
       "      |  1     %A + 1    0       0     0  0  0  0|\n",
       "     [|                                          |,\n",
       "      |%A + 1    %A      1       1     1  0  1  1|\n",
       "      |                                          |\n",
       "      |  0       0     %A + 1    1     0  1  0  1|\n",
       "      |                                          |\n",
       "      |%A + 1    1       0       1     1  1  0  0|\n",
       "      |                                          |\n",
       "      +  1     %A + 1    %A    %A + 1  0  1  0  0+\n",
       "      +  %A      1     %A + 1    0       0       %A    0     1   +\n",
       "      |                                                          |\n",
       "      |  0     %A + 1    1       1       1       0     %A  %A + 1|\n",
       "      |                                                          |\n",
       "      |  0       %A      0       %A      %A      1     %A  %A + 1|\n",
       "      |                                                          |\n",
       "      |  1       %A      1       %A      0       0     %A    1   |\n",
       "      |                                                          |]\n",
       "      |  0     %A + 1    0       %A      %A      0     0     %A  |\n",
       "      |                                                          |\n",
       "      |  %A      0       %A    %A + 1    0       %A    0     %A  |\n",
       "      |                                                          |\n",
       "      |  0       1       0       1       %A      0     %A    %A  |\n",
       "      |                                                          |\n",
       "      +%A + 1  %A + 1  %A + 1    1     %A + 1  %A + 1  1     %A  +\n",
       "     ]\n",
       "                                   Type: List(List(Matrix(FiniteField(2,2))))\n"
      ]
     },
     "execution_count": 22,
     "metadata": {},
     "output_type": "execute_result"
    }
   ],
   "source": [
    "sp4 := meatAxe dA6d16gf4"
   ]
  },
  {
   "cell_type": "code",
   "execution_count": 23,
   "metadata": {
    "collapsed": false
   },
   "outputs": [
    {
     "name": "stdout",
     "output_type": "stream",
     "text": [
      "\n",
      "\n"
     ]
    },
    {
     "data": {
      "text/plain": [
       "    +%A + 1  %A    0     %A + 1    1       %A      0       0   +\n",
       "    |                                                          |\n",
       "    |  0     0   %A + 1    %A    %A + 1  %A + 1    0       0   |\n",
       "    |                                                          |\n",
       "    |%A + 1  %A  %A + 1    1       %A      0       0       0   |\n",
       "    |                                                          |\n",
       "    |%A + 1  %A  %A + 1    1     %A + 1    0       0       0   |\n",
       "   [|                                                          |,\n",
       "    |  %A    1     1       1       0       0       %A    %A + 1|\n",
       "    |                                                          |\n",
       "    |  0     0     %A      1       0       0     %A + 1    0   |\n",
       "    |                                                          |\n",
       "    |  1     0     1       1       0       0       0       0   |\n",
       "    |                                                          |\n",
       "    +  1     1     0       0       0       0       0       0   +\n",
       "    +  1       0     %A + 1    0     1   1   %A + 1    %A  +\n",
       "    |                                                      |\n",
       "    |  1       %A      0       0     0   %A    1       %A  |\n",
       "    |                                                      |\n",
       "    |%A + 1    1       %A      %A    %A  1   %A + 1    0   |\n",
       "    |                                                      |\n",
       "    |  %A      %A      0       0     1   %A    1       1   |\n",
       "    |                                                      |]\n",
       "    |  1       0       %A      0     1   1   %A + 1  %A + 1|\n",
       "    |                                                      |\n",
       "    |  0       0       %A      %A    %A  1     1     %A + 1|\n",
       "    |                                                      |\n",
       "    |  0       0       1       0     0   1     0       1   |\n",
       "    |                                                      |\n",
       "    +  0     %A + 1    0     %A + 1  1   %A    %A    %A + 1+\n",
       "                                         Type: List(Matrix(FiniteField(2,2)))\n"
      ]
     },
     "execution_count": 23,
     "metadata": {},
     "output_type": "execute_result"
    }
   ],
   "source": [
    "dA6d8a : List Matrix gf4  := sp4.1"
   ]
  },
  {
   "cell_type": "markdown",
   "metadata": {},
   "source": [
    " Both are absolutely irreducible...\n"
   ]
  },
  {
   "cell_type": "code",
   "execution_count": 24,
   "metadata": {
    "collapsed": false
   },
   "outputs": [
    {
     "name": "stdout",
     "output_type": "stream",
     "text": [
      "\n",
      "\n"
     ]
    },
    {
     "data": {
      "text/plain": [
       "    +  0       1       1       %A    0  0  0  0+\n",
       "    |                                          |\n",
       "    |  1       1       %A      0     0  0  0  0|\n",
       "    |                                          |\n",
       "    |%A + 1    0       0       0     0  0  0  0|\n",
       "    |                                          |\n",
       "    |  1     %A + 1    0       0     0  0  0  0|\n",
       "   [|                                          |,\n",
       "    |%A + 1    %A      1       1     1  0  1  1|\n",
       "    |                                          |\n",
       "    |  0       0     %A + 1    1     0  1  0  1|\n",
       "    |                                          |\n",
       "    |%A + 1    1       0       1     1  1  0  0|\n",
       "    |                                          |\n",
       "    +  1     %A + 1    %A    %A + 1  0  1  0  0+\n",
       "    +  %A      1     %A + 1    0       0       %A    0     1   +\n",
       "    |                                                          |\n",
       "    |  0     %A + 1    1       1       1       0     %A  %A + 1|\n",
       "    |                                                          |\n",
       "    |  0       %A      0       %A      %A      1     %A  %A + 1|\n",
       "    |                                                          |\n",
       "    |  1       %A      1       %A      0       0     %A    1   |\n",
       "    |                                                          |]\n",
       "    |  0     %A + 1    0       %A      %A      0     0     %A  |\n",
       "    |                                                          |\n",
       "    |  %A      0       %A    %A + 1    0       %A    0     %A  |\n",
       "    |                                                          |\n",
       "    |  0       1       0       1       %A      0     %A    %A  |\n",
       "    |                                                          |\n",
       "    +%A + 1  %A + 1  %A + 1    1     %A + 1  %A + 1  1     %A  +\n",
       "                                         Type: List(Matrix(FiniteField(2,2)))\n"
      ]
     },
     "execution_count": 24,
     "metadata": {},
     "output_type": "execute_result"
    }
   ],
   "source": [
    "dA6d8b : List Matrix gf4  := sp4.2"
   ]
  },
  {
   "cell_type": "code",
   "execution_count": 25,
   "metadata": {
    "collapsed": false
   },
   "outputs": [
    {
     "data": {
      "text/plain": [
       "   Random element in generated algebra does\n",
       "     not have a one-dimensional kernel\n",
       "   Random element in generated algebra does\n",
       "     not have a one-dimensional kernel\n",
       "   Random element in generated algebra does\n",
       "     not have a one-dimensional kernel\n",
       "   Random element in generated algebra does\n",
       "     not have a one-dimensional kernel\n",
       "   Random element in generated algebra does\n",
       "     not have a one-dimensional kernel\n",
       "   Random element in generated algebra has\n",
       "     one-dimensional kernel\n",
       "     We know that all the cyclic submodules generated by all\n",
       "       non-trivial element of the singular matrix under view are\n",
       "       not proper, hence Norton's irreducibility test can be done:\n",
       "     The generated cyclic submodule was not proper\n",
       "     Representation is absolutely irreducible\n",
       "   true\n",
       "                                                                Type: Boolean\n"
      ]
     },
     "execution_count": 25,
     "metadata": {},
     "output_type": "execute_result"
    }
   ],
   "source": [
    "isAbsolutelyIrreducible? dA6d8a"
   ]
  },
  {
   "cell_type": "markdown",
   "metadata": {},
   "source": [
    " and they are not equivalent...\n"
   ]
  },
  {
   "cell_type": "code",
   "execution_count": 26,
   "metadata": {
    "collapsed": false
   },
   "outputs": [
    {
     "data": {
      "text/plain": [
       "   Random element in generated algebra does\n",
       "     not have a one-dimensional kernel\n",
       "   Random element in generated algebra has\n",
       "     one-dimensional kernel\n",
       "     We know that all the cyclic submodules generated by all\n",
       "       non-trivial element of the singular matrix under view are\n",
       "       not proper, hence Norton's irreducibility test can be done:\n",
       "     The generated cyclic submodule was not proper\n",
       "     Representation is absolutely irreducible\n",
       "   true\n",
       "                                                                Type: Boolean\n"
      ]
     },
     "execution_count": 26,
     "metadata": {},
     "output_type": "execute_result"
    }
   ],
   "source": [
    "isAbsolutelyIrreducible? dA6d8b"
   ]
  },
  {
   "cell_type": "markdown",
   "metadata": {},
   "source": [
    " So we have found five absolutely irreducible representations of A6\n",
    " in characteristic 2.\n",
    " The theory tells us that there are no more irreducible ones.\n",
    " Here again are all absolutely irreducible 2-modular\n",
    " representations of A6\n"
   ]
  },
  {
   "cell_type": "code",
   "execution_count": 27,
   "metadata": {
    "collapsed": false
   },
   "outputs": [
    {
     "data": {
      "text/plain": [
       "   Random element in generated algebra does\n",
       "     not have a one-dimensional kernel\n",
       "   Random element in generated algebra does\n",
       "     not have a one-dimensional kernel\n",
       "   Random element in generated algebra does\n",
       "     not have a one-dimensional kernel\n",
       "   Random element in generated algebra does\n",
       "     not have a one-dimensional kernel\n",
       "   Random element in generated algebra does\n",
       "     not have a one-dimensional kernel\n",
       "   Random element in generated algebra does\n",
       "     not have a one-dimensional kernel\n",
       "   Random element in generated algebra does\n",
       "     not have a one-dimensional kernel\n",
       "   Random element in generated algebra does\n",
       "     not have a one-dimensional kernel\n",
       "   Random element in generated algebra does\n",
       "     not have a one-dimensional kernel\n",
       "   Random element in generated algebra does\n",
       "     not have a one-dimensional kernel\n",
       "   Random element in generated algebra does\n",
       "     not have a one-dimensional kernel\n",
       "   Random element in generated algebra does\n",
       "     not have a one-dimensional kernel\n",
       "   Random element in generated algebra does\n",
       "     not have a one-dimensional kernel\n",
       "   Random element in generated algebra has\n",
       "     one-dimensional kernel\n",
       "     There is no isomorphism, as the only possible one\n",
       "       fails to do the necessary base change\n",
       "\n",
       "   Representations are not equivalent.\n",
       "   [0]\n",
       "                                               Type: Matrix(FiniteField(2,2))\n"
      ]
     },
     "execution_count": 27,
     "metadata": {},
     "output_type": "execute_result"
    }
   ],
   "source": [
    "areEquivalent? ( dA6d8a, dA6d8b )"
   ]
  },
  {
   "cell_type": "code",
   "execution_count": 28,
   "metadata": {
    "collapsed": false
   },
   "outputs": [
    {
     "data": {
      "text/plain": [
       "   [[1],[1]]\n",
       "                                            Type: List(Matrix(PrimeField(2)))\n"
      ]
     },
     "execution_count": 28,
     "metadata": {},
     "output_type": "execute_result"
    }
   ],
   "source": [
    "dA6d1"
   ]
  },
  {
   "cell_type": "code",
   "execution_count": 29,
   "metadata": {
    "collapsed": false
   },
   "outputs": [
    {
     "data": {
      "text/plain": [
       "    +0  1  0  0+ +0  1  1  1+\n",
       "    |          | |          |\n",
       "    |0  0  1  0| |1  1  0  1|\n",
       "   [|          |,|          |]\n",
       "    |1  0  0  0| |1  1  1  0|\n",
       "    |          | |          |\n",
       "    +0  0  0  1+ +1  1  1  1+\n",
       "                                            Type: List(Matrix(PrimeField(2)))\n"
      ]
     },
     "execution_count": 29,
     "metadata": {},
     "output_type": "execute_result"
    }
   ],
   "source": [
    "dA6d4a"
   ]
  },
  {
   "cell_type": "code",
   "execution_count": 30,
   "metadata": {
    "collapsed": false
   },
   "outputs": [
    {
     "data": {
      "text/plain": [
       "    +1  0  1  1+ +0  0  1  0+\n",
       "    |          | |          |\n",
       "    |0  1  0  1| |1  1  1  1|\n",
       "   [|          |,|          |]\n",
       "    |1  1  0  0| |1  0  1  1|\n",
       "    |          | |          |\n",
       "    +0  1  0  0+ +0  1  0  1+\n",
       "                                            Type: List(Matrix(PrimeField(2)))\n"
      ]
     },
     "execution_count": 30,
     "metadata": {},
     "output_type": "execute_result"
    }
   ],
   "source": [
    "dA6d4b"
   ]
  },
  {
   "cell_type": "code",
   "execution_count": 31,
   "metadata": {
    "collapsed": false
   },
   "outputs": [
    {
     "name": "stdout",
     "output_type": "stream",
     "text": [
      "\n",
      "\n"
     ]
    },
    {
     "data": {
      "text/plain": [
       "    +%A + 1  %A    0     %A + 1    1       %A      0       0   +\n",
       "    |                                                          |\n",
       "    |  0     0   %A + 1    %A    %A + 1  %A + 1    0       0   |\n",
       "    |                                                          |\n",
       "    |%A + 1  %A  %A + 1    1       %A      0       0       0   |\n",
       "    |                                                          |\n",
       "    |%A + 1  %A  %A + 1    1     %A + 1    0       0       0   |\n",
       "   [|                                                          |,\n",
       "    |  %A    1     1       1       0       0       %A    %A + 1|\n",
       "    |                                                          |\n",
       "    |  0     0     %A      1       0       0     %A + 1    0   |\n",
       "    |                                                          |\n",
       "    |  1     0     1       1       0       0       0       0   |\n",
       "    |                                                          |\n",
       "    +  1     1     0       0       0       0       0       0   +\n",
       "    +  1       0     %A + 1    0     1   1   %A + 1    %A  +\n",
       "    |                                                      |\n",
       "    |  1       %A      0       0     0   %A    1       %A  |\n",
       "    |                                                      |\n",
       "    |%A + 1    1       %A      %A    %A  1   %A + 1    0   |\n",
       "    |                                                      |\n",
       "    |  %A      %A      0       0     1   %A    1       1   |\n",
       "    |                                                      |]\n",
       "    |  1       0       %A      0     1   1   %A + 1  %A + 1|\n",
       "    |                                                      |\n",
       "    |  0       0       %A      %A    %A  1     1     %A + 1|\n",
       "    |                                                      |\n",
       "    |  0       0       1       0     0   1     0       1   |\n",
       "    |                                                      |\n",
       "    +  0     %A + 1    0     %A + 1  1   %A    %A    %A + 1+\n",
       "                                         Type: List(Matrix(FiniteField(2,2)))\n"
      ]
     },
     "execution_count": 31,
     "metadata": {},
     "output_type": "execute_result"
    }
   ],
   "source": [
    "dA6d8a"
   ]
  },
  {
   "cell_type": "markdown",
   "metadata": {},
   "source": [
    " And here again is the irreducible, but not absolutely irreducible\n",
    " representations of A6 over PrimeField 2\n"
   ]
  },
  {
   "cell_type": "code",
   "execution_count": 32,
   "metadata": {
    "collapsed": false
   },
   "outputs": [
    {
     "name": "stdout",
     "output_type": "stream",
     "text": [
      "\n",
      "\n"
     ]
    },
    {
     "data": {
      "text/plain": [
       "    +  0       1       1       %A    0  0  0  0+\n",
       "    |                                          |\n",
       "    |  1       1       %A      0     0  0  0  0|\n",
       "    |                                          |\n",
       "    |%A + 1    0       0       0     0  0  0  0|\n",
       "    |                                          |\n",
       "    |  1     %A + 1    0       0     0  0  0  0|\n",
       "   [|                                          |,\n",
       "    |%A + 1    %A      1       1     1  0  1  1|\n",
       "    |                                          |\n",
       "    |  0       0     %A + 1    1     0  1  0  1|\n",
       "    |                                          |\n",
       "    |%A + 1    1       0       1     1  1  0  0|\n",
       "    |                                          |\n",
       "    +  1     %A + 1    %A    %A + 1  0  1  0  0+\n",
       "    +  %A      1     %A + 1    0       0       %A    0     1   +\n",
       "    |                                                          |\n",
       "    |  0     %A + 1    1       1       1       0     %A  %A + 1|\n",
       "    |                                                          |\n",
       "    |  0       %A      0       %A      %A      1     %A  %A + 1|\n",
       "    |                                                          |\n",
       "    |  1       %A      1       %A      0       0     %A    1   |\n",
       "    |                                                          |]\n",
       "    |  0     %A + 1    0       %A      %A      0     0     %A  |\n",
       "    |                                                          |\n",
       "    |  %A      0       %A    %A + 1    0       %A    0     %A  |\n",
       "    |                                                          |\n",
       "    |  0       1       0       1       %A      0     %A    %A  |\n",
       "    |                                                          |\n",
       "    +%A + 1  %A + 1  %A + 1    1     %A + 1  %A + 1  1     %A  +\n",
       "                                         Type: List(Matrix(FiniteField(2,2)))\n"
      ]
     },
     "execution_count": 32,
     "metadata": {},
     "output_type": "execute_result"
    }
   ],
   "source": [
    "dA6d8b"
   ]
  },
  {
   "cell_type": "code",
   "execution_count": 33,
   "metadata": {
    "collapsed": false
   },
   "outputs": [
    {
     "name": "stdout",
     "output_type": "stream",
     "text": [
      "\n",
      "\n"
     ]
    },
    {
     "data": {
      "text/plain": [
       "    +0  0  0  0  1  0  1  1  0  0  0  0  0  0  0  0+\n",
       "    |                                              |\n",
       "    |0  0  0  0  0  1  0  1  0  0  0  0  0  0  0  0|\n",
       "    |                                              |\n",
       "    |0  0  0  0  1  1  0  0  0  0  0  0  0  0  0  0|\n",
       "    |                                              |\n",
       "    |0  0  0  0  0  1  0  0  0  0  0  0  0  0  0  0|\n",
       "    |                                              |\n",
       "    |0  0  0  0  0  0  0  0  1  0  1  1  0  0  0  0|\n",
       "    |                                              |\n",
       "    |0  0  0  0  0  0  0  0  0  1  0  1  0  0  0  0|\n",
       "    |                                              |\n",
       "    |0  0  0  0  0  0  0  0  1  1  0  0  0  0  0  0|\n",
       "    |                                              |\n",
       "    |0  0  0  0  0  0  0  0  0  1  0  0  0  0  0  0|\n",
       "   [|                                              |,\n",
       "    |1  0  1  1  0  0  0  0  0  0  0  0  0  0  0  0|\n",
       "    |                                              |\n",
       "    |0  1  0  1  0  0  0  0  0  0  0  0  0  0  0  0|\n",
       "    |                                              |\n",
       "    |1  1  0  0  0  0  0  0  0  0  0  0  0  0  0  0|\n",
       "    |                                              |\n",
       "    |0  1  0  0  0  0  0  0  0  0  0  0  0  0  0  0|\n",
       "    |                                              |\n",
       "    |0  0  0  0  0  0  0  0  0  0  0  0  1  0  1  1|\n",
       "    |                                              |\n",
       "    |0  0  0  0  0  0  0  0  0  0  0  0  0  1  0  1|\n",
       "    |                                              |\n",
       "    |0  0  0  0  0  0  0  0  0  0  0  0  1  1  0  0|\n",
       "    |                                              |\n",
       "    +0  0  0  0  0  0  0  0  0  0  0  0  0  1  0  0+\n",
       "    +0  0  0  0  0  0  1  0  0  0  1  0  0  0  1  0+\n",
       "    |                                              |\n",
       "    |0  0  0  0  1  1  1  1  1  1  1  1  1  1  1  1|\n",
       "    |                                              |\n",
       "    |0  0  0  0  1  0  1  1  1  0  1  1  1  0  1  1|\n",
       "    |                                              |\n",
       "    |0  0  0  0  0  1  0  1  0  1  0  1  0  1  0  1|\n",
       "    |                                              |\n",
       "    |0  0  1  0  0  0  1  0  0  0  0  0  0  0  1  0|\n",
       "    |                                              |\n",
       "    |1  1  1  1  1  1  1  1  0  0  0  0  1  1  1  1|\n",
       "    |                                              |\n",
       "    |1  0  1  1  1  0  1  1  0  0  0  0  1  0  1  1|\n",
       "    |                                              |\n",
       "    |0  1  0  1  0  1  0  1  0  0  0  0  0  1  0  1|\n",
       "    |                                              |]\n",
       "    |0  0  1  0  0  0  1  0  0  0  1  0  0  0  0  0|\n",
       "    |                                              |\n",
       "    |1  1  1  1  1  1  1  1  1  1  1  1  0  0  0  0|\n",
       "    |                                              |\n",
       "    |1  0  1  1  1  0  1  1  1  0  1  1  0  0  0  0|\n",
       "    |                                              |\n",
       "    |0  1  0  1  0  1  0  1  0  1  0  1  0  0  0  0|\n",
       "    |                                              |\n",
       "    |0  0  1  0  0  0  1  0  0  0  1  0  0  0  1  0|\n",
       "    |                                              |\n",
       "    |1  1  1  1  1  1  1  1  1  1  1  1  1  1  1  1|\n",
       "    |                                              |\n",
       "    |1  0  1  1  1  0  1  1  1  0  1  1  1  0  1  1|\n",
       "    |                                              |\n",
       "    +0  1  0  1  0  1  0  1  0  1  0  1  0  1  0  1+\n",
       "                                            Type: List(Matrix(PrimeField(2)))\n"
      ]
     },
     "execution_count": 33,
     "metadata": {},
     "output_type": "execute_result"
    }
   ],
   "source": [
    "dA6d16"
   ]
  },
  {
   "cell_type": "markdown",
   "metadata": {},
   "source": [
    " General algebras over GF(10007)\n"
   ]
  },
  {
   "cell_type": "code",
   "execution_count": 34,
   "metadata": {
    "collapsed": false
   },
   "outputs": [
    {
     "name": "stdout",
     "output_type": "stream",
     "text": [
      "   All user variables and function definitions have been cleared.\n"
     ]
    },
    {
     "data": {
      "text/plain": []
     },
     "execution_count": 34,
     "metadata": {},
     "output_type": "execute_result"
    }
   ],
   "source": [
    ")clear all"
   ]
  },
  {
   "cell_type": "code",
   "execution_count": 35,
   "metadata": {
    "collapsed": false
   },
   "outputs": [
    {
     "data": {
      "text/plain": [
       "   PrimeField(10007)\n",
       "                                                                   Type: Type\n"
      ]
     },
     "execution_count": 35,
     "metadata": {},
     "output_type": "execute_result"
    }
   ],
   "source": [
    "pF := PrimeField(10007)"
   ]
  },
  {
   "cell_type": "markdown",
   "metadata": {},
   "source": [
    " Irreducible representation\n"
   ]
  },
  {
   "cell_type": "code",
   "execution_count": 36,
   "metadata": {
    "collapsed": false
   },
   "outputs": [
    {
     "data": {
      "text/plain": [
       "   Matrix(PrimeField(10007))\n",
       "                                                                   Type: Type\n"
      ]
     },
     "execution_count": 36,
     "metadata": {},
     "output_type": "execute_result"
    }
   ],
   "source": [
    "mX := Matrix(pF)"
   ]
  },
  {
   "cell_type": "code",
   "execution_count": 37,
   "metadata": {
    "collapsed": false
   },
   "outputs": [
    {
     "data": {
      "text/plain": [
       "   +0  1  0+\n",
       "   |       |\n",
       "   |0  0  1|\n",
       "   |       |\n",
       "   +1  0  0+\n",
       "                                              Type: Matrix(PrimeField(10007))\n"
      ]
     },
     "execution_count": 37,
     "metadata": {},
     "output_type": "execute_result"
    }
   ],
   "source": [
    "m1 := matrix([[0, 1, 0], [0, 0, 1], [1, 0, 0]])$mX"
   ]
  },
  {
   "cell_type": "code",
   "execution_count": 38,
   "metadata": {
    "collapsed": false
   },
   "outputs": [
    {
     "data": {
      "text/plain": [
       "   +1  0  0+\n",
       "   |       |\n",
       "   |0  2  0|\n",
       "   |       |\n",
       "   +0  0  3+\n",
       "                                              Type: Matrix(PrimeField(10007))\n"
      ]
     },
     "execution_count": 38,
     "metadata": {},
     "output_type": "execute_result"
    }
   ],
   "source": [
    "m2 := matrix([[1, 0, 0], [0, 2, 0], [0, 0, 3]])$mX"
   ]
  },
  {
   "cell_type": "markdown",
   "metadata": {},
   "source": [
    " sum of two indentical irreducibles\n"
   ]
  },
  {
   "cell_type": "code",
   "execution_count": 39,
   "metadata": {
    "collapsed": false
   },
   "outputs": [
    {
     "data": {
      "text/plain": [
       "     The generated cyclic submodule was not proper\n",
       "   Found good factor\n",
       "     We know that all the cyclic submodules generated by all\n",
       "       non-trivial element of the singular matrix under view are\n",
       "       not proper, hence Norton's irreducibility test can be done:\n",
       "     The generated cyclic submodule was not proper\n",
       "     Representation is absolutely irreducible\n",
       "     +0  0  1+ +1  0  0+\n",
       "     |       | |       |\n",
       "   [[|1  0  0|,|0  2  0|]]\n",
       "     |       | |       |\n",
       "     +0  1  0+ +0  0  3+\n",
       "                                  Type: List(List(Matrix(PrimeField(10007))))\n"
      ]
     },
     "execution_count": 39,
     "metadata": {},
     "output_type": "execute_result"
    }
   ],
   "source": [
    "meatAxe([m1, m2])"
   ]
  },
  {
   "cell_type": "code",
   "execution_count": 40,
   "metadata": {
    "collapsed": false
   },
   "outputs": [
    {
     "data": {
      "text/plain": [
       "                                              Type: Matrix(PrimeField(10007))\n"
      ]
     },
     "execution_count": 40,
     "metadata": {},
     "output_type": "execute_result"
    }
   ],
   "source": [
    "mm1 := zero(6, 6)$mX;"
   ]
  },
  {
   "cell_type": "code",
   "execution_count": 41,
   "metadata": {
    "collapsed": false
   },
   "outputs": [
    {
     "data": {
      "text/plain": [
       "                                              Type: Matrix(PrimeField(10007))\n"
      ]
     },
     "execution_count": 41,
     "metadata": {},
     "output_type": "execute_result"
    }
   ],
   "source": [
    "mm1 := setsubMatrix!(mm1, 1, 1, m1);"
   ]
  },
  {
   "cell_type": "code",
   "execution_count": 42,
   "metadata": {
    "collapsed": false
   },
   "outputs": [
    {
     "data": {
      "text/plain": [
       "   +0  1  0  0  0  0+\n",
       "   |                |\n",
       "   |0  0  1  0  0  0|\n",
       "   |                |\n",
       "   |1  0  0  0  0  0|\n",
       "   |                |\n",
       "   |0  0  0  0  1  0|\n",
       "   |                |\n",
       "   |0  0  0  0  0  1|\n",
       "   |                |\n",
       "   +0  0  0  1  0  0+\n",
       "                                              Type: Matrix(PrimeField(10007))\n"
      ]
     },
     "execution_count": 42,
     "metadata": {},
     "output_type": "execute_result"
    }
   ],
   "source": [
    "mm1 := setsubMatrix!(mm1, 4, 4, m1)"
   ]
  },
  {
   "cell_type": "code",
   "execution_count": 43,
   "metadata": {
    "collapsed": false
   },
   "outputs": [
    {
     "data": {
      "text/plain": [
       "                                              Type: Matrix(PrimeField(10007))\n"
      ]
     },
     "execution_count": 43,
     "metadata": {},
     "output_type": "execute_result"
    }
   ],
   "source": [
    "mm2 := zero(6, 6)$mX;"
   ]
  },
  {
   "cell_type": "code",
   "execution_count": 44,
   "metadata": {
    "collapsed": false
   },
   "outputs": [
    {
     "data": {
      "text/plain": [
       "                                              Type: Matrix(PrimeField(10007))\n"
      ]
     },
     "execution_count": 44,
     "metadata": {},
     "output_type": "execute_result"
    }
   ],
   "source": [
    "mm2 := setsubMatrix!(mm2, 1, 1, m2);"
   ]
  },
  {
   "cell_type": "code",
   "execution_count": 45,
   "metadata": {
    "collapsed": false
   },
   "outputs": [
    {
     "data": {
      "text/plain": [
       "   +1  0  0  0  0  0+\n",
       "   |                |\n",
       "   |0  2  0  0  0  0|\n",
       "   |                |\n",
       "   |0  0  3  0  0  0|\n",
       "   |                |\n",
       "   |0  0  0  1  0  0|\n",
       "   |                |\n",
       "   |0  0  0  0  2  0|\n",
       "   |                |\n",
       "   +0  0  0  0  0  3+\n",
       "                                              Type: Matrix(PrimeField(10007))\n"
      ]
     },
     "execution_count": 45,
     "metadata": {},
     "output_type": "execute_result"
    }
   ],
   "source": [
    "mm2 := setsubMatrix!(mm2, 4, 4, m2)"
   ]
  },
  {
   "cell_type": "markdown",
   "metadata": {},
   "source": [
    " change basis so that direct sum structure is hidden\n"
   ]
  },
  {
   "cell_type": "code",
   "execution_count": 46,
   "metadata": {
    "collapsed": false
   },
   "outputs": [
    {
     "data": {
      "text/plain": [
       "     A proper cyclic submodule is found.\n",
       "     Transition matrix computed\n",
       "     The inverse of the transition matrix computed\n",
       "     Now transform the matrices\n",
       "     +0  1  0+ +1  0  0+   +0  1  0+ +1  0  0+\n",
       "     |       | |       |   |       | |       |\n",
       "   [[|0  0  1|,|0  2  0|],[|0  0  1|,|0  2  0|]]\n",
       "     |       | |       |   |       | |       |\n",
       "     +1  0  0+ +0  0  3+   +1  0  0+ +0  0  3+\n",
       "                                  Type: List(List(Matrix(PrimeField(10007))))\n"
      ]
     },
     "execution_count": 46,
     "metadata": {},
     "output_type": "execute_result"
    }
   ],
   "source": [
    "meatAxe([mm1, mm2])"
   ]
  },
  {
   "cell_type": "code",
   "execution_count": 47,
   "metadata": {
    "collapsed": false
   },
   "outputs": [
    {
     "data": {
      "text/plain": [
       "                                              Type: Matrix(PrimeField(10007))\n"
      ]
     },
     "execution_count": 47,
     "metadata": {},
     "output_type": "execute_result"
    }
   ],
   "source": [
    "tm := matrix [[gcd(i, j)$Integer::pF for i in 1..6] for j in 1..6];"
   ]
  },
  {
   "cell_type": "code",
   "execution_count": 48,
   "metadata": {
    "collapsed": false
   },
   "outputs": [
    {
     "data": {
      "text/plain": [
       "                                   Type: Union(Matrix(PrimeField(10007)),...)\n"
      ]
     },
     "execution_count": 48,
     "metadata": {},
     "output_type": "execute_result"
    }
   ],
   "source": [
    "itm := inverse(tm);"
   ]
  },
  {
   "cell_type": "code",
   "execution_count": 49,
   "metadata": {
    "collapsed": false
   },
   "outputs": [
    {
     "data": {
      "text/plain": [
       "                                              Type: Matrix(PrimeField(10007))\n"
      ]
     },
     "execution_count": 49,
     "metadata": {},
     "output_type": "execute_result"
    }
   ],
   "source": [
    "mm1 := itm*mm1*tm;"
   ]
  },
  {
   "cell_type": "code",
   "execution_count": 50,
   "metadata": {
    "collapsed": false
   },
   "outputs": [
    {
     "data": {
      "text/plain": [
       "                                              Type: Matrix(PrimeField(10007))\n"
      ]
     },
     "execution_count": 50,
     "metadata": {},
     "output_type": "execute_result"
    }
   ],
   "source": [
    "mm2 := itm*mm2*tm;"
   ]
  },
  {
   "cell_type": "code",
   "execution_count": 51,
   "metadata": {
    "collapsed": false
   },
   "outputs": [
    {
     "name": "stdout",
     "output_type": "stream",
     "text": [
      "\n",
      "\n"
     ]
    },
    {
     "data": {
      "text/plain": [
       "     A proper cyclic submodule is found.\n",
       "     Transition matrix computed\n",
       "     The inverse of the transition matrix computed\n",
       "     Now transform the matrices\n",
       "     +2040  9340  1234+ +3023  8668  7645+\n",
       "     |                | |                |\n",
       "   [[|4434  4504  2835|,| 6    7006  9403|],\n",
       "     |                | |                |\n",
       "     + 72   8819  3463+ +2448  9079  9991+\n",
       "     +9417  2410  7652+ +5025  4669  436 +\n",
       "     |                | |                |\n",
       "    [|3837  6963  9571|,|7672  3087  7713|]]\n",
       "     |                | |                |\n",
       "     +3560  2857  3634+ +4233  1766  1901+\n",
       "                                  Type: List(List(Matrix(PrimeField(10007))))\n"
      ]
     },
     "execution_count": 51,
     "metadata": {},
     "output_type": "execute_result"
    }
   ],
   "source": [
    "meatAxe([mm1, mm2])"
   ]
  },
  {
   "cell_type": "code",
   "execution_count": 52,
   "metadata": {
    "collapsed": false
   },
   "outputs": [
    {
     "name": "stderr",
     "output_type": "stream",
     "text": [
      "INDEX-TOO-LARGE-ERROR: \n",
      "  #<SB-KERNEL:INDEX-TOO-LARGE-ERROR expected-type: (INTEGER 0 (0)) datum: 0>\n"
     ]
    },
    {
     "data": {
      "text/plain": []
     },
     "execution_count": 52,
     "metadata": {},
     "output_type": "execute_result"
    }
   ],
   "source": []
  }
 ],
 "metadata": {
  "kernelspec": {
   "display_name": "FriCAS",
   "language": "spad",
   "name": "ifricas"
  },
  "language_info": {
   "codemirror_mode": "spad",
   "mimetype": "text/x-spad",
   "name": "SPAD",
   "pygments_lexer": "spad",
   "version": "1.2.6"
  },
  "name": "repa6.ipynb"
 },
 "nbformat": 4,
 "nbformat_minor": 0
}