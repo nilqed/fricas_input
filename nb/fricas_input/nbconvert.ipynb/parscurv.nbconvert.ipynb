{
 "cells": [
  {
   "cell_type": "markdown",
   "metadata": {},
   "source": [
    "Copyright The Numerical Algorithms Group Limited 1991.\n",
    " test for ParametricSpaceCurve domain\n"
   ]
  },
  {
   "cell_type": "code",
   "execution_count": 0,
   "metadata": {
    "collapsed": false
   },
   "outputs": [
    {
     "name": "stdout",
     "output_type": "stream",
     "text": [
      "Warning: HyperTeX macro table not found\n",
      "   Compiling function %B with type DoubleFloat -> DoubleFloat \n",
      "   Compiling function %D with type DoubleFloat -> DoubleFloat \n",
      "   Compiling function %F with type DoubleFloat -> DoubleFloat \n",
      "   Transmitting data...\n"
     ]
    },
    {
     "data": {
      "text/plain": [
       "   ThreeDimensionalViewport: \"tan(cos(t))\"\n",
       "                                               Type: ThreeDimensionalViewport\n"
      ]
     },
     "execution_count": 0,
     "metadata": {},
     "output_type": "execute_result"
    }
   ],
   "source": [
    "draw(curve(tan(cos(t)),sin(t),cos(t)),t=-12..12)"
   ]
  },
  {
   "cell_type": "code",
   "execution_count": 1,
   "metadata": {
    "collapsed": false
   },
   "outputs": [
    {
     "name": "stdout",
     "output_type": "stream",
     "text": [
      "   Compiling function %H with type DoubleFloat -> DoubleFloat \n",
      "   Compiling function %J with type DoubleFloat -> DoubleFloat \n",
      "   Compiling function %L with type DoubleFloat -> DoubleFloat \n",
      "   Transmitting data...\n"
     ]
    },
    {
     "data": {
      "text/plain": [
       "   ThreeDimensionalViewport: \"sin(t)\"\n",
       "                                               Type: ThreeDimensionalViewport\n"
      ]
     },
     "execution_count": 1,
     "metadata": {},
     "output_type": "execute_result"
    }
   ],
   "source": [
    "draw(curve(sin(t),cos(t),sin(t)*cos(t)),t=-12..12)"
   ]
  },
  {
   "cell_type": "code",
   "execution_count": 2,
   "metadata": {
    "collapsed": false
   },
   "outputs": [
    {
     "name": "stderr",
     "output_type": "stream",
     "text": [
      "INDEX-TOO-LARGE-ERROR: \n",
      "  #<SB-KERNEL:INDEX-TOO-LARGE-ERROR expected-type: (INTEGER 0 (0)) datum: 0>\n"
     ]
    },
    {
     "data": {
      "text/plain": []
     },
     "execution_count": 2,
     "metadata": {},
     "output_type": "execute_result"
    }
   ],
   "source": []
  }
 ],
 "metadata": {
  "kernelspec": {
   "display_name": "FriCAS",
   "language": "spad",
   "name": "ifricas"
  },
  "language_info": {
   "codemirror_mode": "spad",
   "mimetype": "text/x-spad",
   "name": "SPAD",
   "pygments_lexer": "spad",
   "version": "1.2.6"
  },
  "name": "parscurv.ipynb"
 },
 "nbformat": 4,
 "nbformat_minor": 0
}