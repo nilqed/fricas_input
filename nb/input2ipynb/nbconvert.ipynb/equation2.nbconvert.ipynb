{
 "cells": [
  {
   "cell_type": "markdown",
   "metadata": {},
   "source": [
    " Input for page SystemOfPolynomialEquationPage\n"
   ]
  },
  {
   "cell_type": "code",
   "execution_count": 0,
   "metadata": {
    "collapsed": false
   },
   "outputs": [
    {
     "name": "stdout",
     "output_type": "stream",
     "text": [
      "   All user variables and function definitions have been cleared.\n"
     ]
    },
    {
     "data": {
      "text/plain": []
     },
     "execution_count": 0,
     "metadata": {},
     "output_type": "execute_result"
    }
   ],
   "source": [
    ")clear all"
   ]
  },
  {
   "cell_type": "code",
   "execution_count": 1,
   "metadata": {
    "collapsed": false
   },
   "outputs": [
    {
     "name": "stdout",
     "output_type": "stream",
     "text": [
      "Warning: HyperTeX macro table not found\n"
     ]
    },
    {
     "data": {
      "text/plain": [
       "       3\n",
       "   [[3x  + 2= 0,y= 1]]\n",
       "                    Type: List(List(Equation(Fraction(Polynomial(Integer)))))\n"
      ]
     },
     "execution_count": 1,
     "metadata": {},
     "output_type": "execute_result"
    }
   ],
   "source": [
    "solve([3*x^3 + y + 1,y - 1],[x,y])"
   ]
  },
  {
   "cell_type": "code",
   "execution_count": 2,
   "metadata": {
    "collapsed": false
   },
   "outputs": [
    {
     "data": {
      "text/plain": [
       "         4     2\n",
       "        y  - 4y  + 2y  5     3     2\n",
       "   [[x= -------------,y  - 4y  + 2y  + 8= 0]]\n",
       "              4\n",
       "                    Type: List(List(Equation(Fraction(Polynomial(Integer)))))\n"
      ]
     },
     "execution_count": 2,
     "metadata": {},
     "output_type": "execute_result"
    }
   ],
   "source": [
    "solve([x^3 + x - y^2 + 4, x*y + 2], [x, y])"
   ]
  },
  {
   "cell_type": "code",
   "execution_count": 3,
   "metadata": {
    "collapsed": false
   },
   "outputs": [
    {
     "data": {
      "text/plain": [
       "               2\n",
       "        z    3z  + z + 9   4     3      2\n",
       "   [[x= -,y= -----------,9z  + 6z  + 55z  + 15z - 90= 0]]\n",
       "        3         3\n",
       "                    Type: List(List(Equation(Fraction(Polynomial(Integer)))))\n"
      ]
     },
     "execution_count": 3,
     "metadata": {},
     "output_type": "execute_result"
    }
   ],
   "source": [
    "solve([x = y^2-19,y = z^2+x+3,z = 3*x],[x,y,z])"
   ]
  },
  {
   "cell_type": "code",
   "execution_count": 4,
   "metadata": {
    "collapsed": false
   },
   "outputs": [
    {
     "data": {
      "text/plain": [
       "   [[z= 0,y= 0,x= 0]]\n",
       "                    Type: List(List(Equation(Fraction(Polynomial(Integer)))))\n"
      ]
     },
     "execution_count": 4,
     "metadata": {},
     "output_type": "execute_result"
    }
   ],
   "source": [
    "solve([3*x + 2*y - z,x - 1/2*y + 1/3*z,4/5*x - 2/3*y - z])"
   ]
  },
  {
   "cell_type": "code",
   "execution_count": 5,
   "metadata": {
    "collapsed": false
   },
   "outputs": [
    {
     "data": {
      "text/plain": [
       "   [[y= 1.5874011516_5710449218_75,x= 0.7937005758_2855224609_375]]\n",
       "                                Type: List(List(Equation(Polynomial(Float))))\n"
      ]
     },
     "execution_count": 5,
     "metadata": {},
     "output_type": "execute_result"
    }
   ],
   "source": [
    "solve([x^2*y - 1, x*y^2 - 2], .01)"
   ]
  },
  {
   "cell_type": "code",
   "execution_count": 6,
   "metadata": {
    "collapsed": false
   },
   "outputs": [
    {
     "data": {
      "text/plain": [
       "   [[x= 1.0,a= 1.0]]\n",
       "                                Type: List(List(Equation(Polynomial(Float))))\n"
      ]
     },
     "execution_count": 6,
     "metadata": {},
     "output_type": "execute_result"
    }
   ],
   "source": [
    "solve([x^2/a = 1, a^2 - a*x = 0], .001)"
   ]
  },
  {
   "cell_type": "code",
   "execution_count": 7,
   "metadata": {
    "collapsed": false
   },
   "outputs": [
    {
     "data": {
      "text/plain": [
       "      2 2    4     3     2                - a - 1\n",
       "   [[a x  + a  - 2a  - 3a  - 3a - 1= 0,y= -------]]\n",
       "                                             a\n",
       "                    Type: List(List(Equation(Fraction(Polynomial(Integer)))))\n"
      ]
     },
     "execution_count": 7,
     "metadata": {},
     "output_type": "execute_result"
    }
   ],
   "source": [
    "solve([x^2/a + a + y^3 - 1,a*y + a + 1],[x,y])"
   ]
  },
  {
   "cell_type": "markdown",
   "metadata": {},
   "source": [
    " Input for page OnePolynomialEquationPage\n"
   ]
  },
  {
   "cell_type": "code",
   "execution_count": 8,
   "metadata": {
    "collapsed": false
   },
   "outputs": [
    {
     "name": "stdout",
     "output_type": "stream",
     "text": [
      "   All user variables and function definitions have been cleared.\n"
     ]
    },
    {
     "data": {
      "text/plain": []
     },
     "execution_count": 8,
     "metadata": {},
     "output_type": "execute_result"
    }
   ],
   "source": [
    ")clear all"
   ]
  },
  {
   "cell_type": "code",
   "execution_count": 9,
   "metadata": {
    "collapsed": false
   },
   "outputs": [
    {
     "data": {
      "text/plain": [
       "            2\n",
       "   [x= - 1,x  - x + 1= 0]\n",
       "                          Type: List(Equation(Fraction(Polynomial(Integer))))\n"
      ]
     },
     "execution_count": 9,
     "metadata": {},
     "output_type": "execute_result"
    }
   ],
   "source": [
    "solve(x^3 + 1 = 0,x)"
   ]
  },
  {
   "cell_type": "code",
   "execution_count": 10,
   "metadata": {
    "collapsed": false
   },
   "outputs": [
    {
     "data": {
      "text/plain": [
       "      3\n",
       "   [(x  + x)y + 1= 0]\n",
       "                          Type: List(Equation(Fraction(Polynomial(Integer))))\n"
      ]
     },
     "execution_count": 10,
     "metadata": {},
     "output_type": "execute_result"
    }
   ],
   "source": [
    "solve(x^3*y + x*y + 1, x)"
   ]
  },
  {
   "cell_type": "code",
   "execution_count": 11,
   "metadata": {
    "collapsed": false
   },
   "outputs": [
    {
     "data": {
      "text/plain": [
       "       - y + 4\n",
       "   [x= -------]\n",
       "          12\n",
       "                          Type: List(Equation(Fraction(Polynomial(Integer))))\n"
      ]
     },
     "execution_count": 11,
     "metadata": {},
     "output_type": "execute_result"
    }
   ],
   "source": [
    "solve(3*x + 1/4*y = 1,x)"
   ]
  },
  {
   "cell_type": "code",
   "execution_count": 12,
   "metadata": {
    "collapsed": false
   },
   "outputs": [
    {
     "data": {
      "text/plain": [
       "       7409    2831\n",
       "   [x= ----,x= ----]\n",
       "       2048    2048\n",
       "                          Type: List(Equation(Polynomial(Fraction(Integer))))\n"
      ]
     },
     "execution_count": 12,
     "metadata": {},
     "output_type": "execute_result"
    }
   ],
   "source": [
    "solve(x^4 - 10*x^3 + 35*x^2 - 50*x + 25, 1/1000)"
   ]
  },
  {
   "cell_type": "code",
   "execution_count": 13,
   "metadata": {
    "collapsed": false
   },
   "outputs": [
    {
     "data": {
      "text/plain": [
       "     2\n",
       "   [x  - 5x + 5= 0]\n",
       "                          Type: List(Equation(Fraction(Polynomial(Integer))))\n"
      ]
     },
     "execution_count": 13,
     "metadata": {},
     "output_type": "execute_result"
    }
   ],
   "source": [
    "solve(x^4 - 10*x^3 + 35*x^2 - 50*x + 25, x)"
   ]
  },
  {
   "cell_type": "code",
   "execution_count": 14,
   "metadata": {
    "collapsed": false
   },
   "outputs": [
    {
     "data": {
      "text/plain": [
       "     3    +-+\n",
       "   [x  - \\|2 = 0]\n",
       "                  Type: List(Equation(Fraction(Polynomial(AlgebraicNumber))))\n"
      ]
     },
     "execution_count": 14,
     "metadata": {},
     "output_type": "execute_result"
    }
   ],
   "source": [
    "solve(x^3 - sqrt(2))"
   ]
  },
  {
   "cell_type": "code",
   "execution_count": 15,
   "metadata": {
    "collapsed": false
   },
   "outputs": [
    {
     "data": {
      "text/plain": [
       "     3\n",
       "   [x  + x + a= 0]\n",
       "                          Type: List(Equation(Fraction(Polynomial(Integer))))\n"
      ]
     },
     "execution_count": 15,
     "metadata": {},
     "output_type": "execute_result"
    }
   ],
   "source": [
    "solve(x^3/a + x/a + 1,x)"
   ]
  },
  {
   "cell_type": "code",
   "execution_count": 16,
   "metadata": {
    "collapsed": false
   },
   "outputs": [
    {
     "data": {
      "text/plain": [
       "     2\n",
       "   [x  + x + 1= 0]\n",
       "                          Type: List(Equation(Fraction(Polynomial(Integer))))\n"
      ]
     },
     "execution_count": 16,
     "metadata": {},
     "output_type": "execute_result"
    }
   ],
   "source": [
    "solve(1/x^3 + 1/x^2 + 1/x = 0, x)"
   ]
  },
  {
   "cell_type": "markdown",
   "metadata": {},
   "source": [
    " Input for page LinearEquationPage\n"
   ]
  },
  {
   "cell_type": "code",
   "execution_count": 17,
   "metadata": {
    "collapsed": false
   },
   "outputs": [
    {
     "name": "stdout",
     "output_type": "stream",
     "text": [
      "   All user variables and function definitions have been cleared.\n"
     ]
    },
    {
     "data": {
      "text/plain": []
     },
     "execution_count": 17,
     "metadata": {},
     "output_type": "execute_result"
    }
   ],
   "source": [
    ")clear all"
   ]
  },
  {
   "cell_type": "code",
   "execution_count": 18,
   "metadata": {
    "collapsed": false
   },
   "outputs": [
    {
     "data": {
      "text/plain": [
       "   [particular= [- 1,2,7],basis= []]\n",
       "Type: Record(particular: Union(Vector(Fraction(Integer)),\"failed\"),basis: List(Vector(Fraction(Integer))))\n"
      ]
     },
     "execution_count": 18,
     "metadata": {},
     "output_type": "execute_result"
    }
   ],
   "source": [
    "solve([[1,1,1],[3,-2,1],[1,2,2]],[8,0,17])"
   ]
  },
  {
   "cell_type": "code",
   "execution_count": 19,
   "metadata": {
    "collapsed": false
   },
   "outputs": [
    {
     "data": {
      "text/plain": [
       "   [particular= [- 2,2,0],basis= [[1,- 2,1]]]\n",
       "Type: Record(particular: Union(Vector(Fraction(Integer)),\"failed\"),basis: List(Vector(Fraction(Integer))))\n"
      ]
     },
     "execution_count": 19,
     "metadata": {},
     "output_type": "execute_result"
    }
   ],
   "source": [
    "solve([[1,2,3],[2,3,4],[3,4,5]],[2,2,2])"
   ]
  },
  {
   "cell_type": "code",
   "execution_count": 20,
   "metadata": {
    "collapsed": false
   },
   "outputs": [
    {
     "data": {
      "text/plain": [
       "   [particular= \"failed\",basis= [[1,- 2,1]]]\n",
       "Type: Record(particular: Union(Vector(Fraction(Integer)),\"failed\"),basis: List(Vector(Fraction(Integer))))\n"
      ]
     },
     "execution_count": 20,
     "metadata": {},
     "output_type": "execute_result"
    }
   ],
   "source": [
    "solve([[1,2,3],[2,3,4],[3,4,5]],[2,3,2])"
   ]
  },
  {
   "cell_type": "code",
   "execution_count": 21,
   "metadata": {
    "collapsed": false
   },
   "outputs": [
    {
     "data": {
      "text/plain": [
       "   solve\n",
       "        [1,2,3],[2,3,4],[3,4,5]\n",
       "                                                                 Type: Symbol\n"
      ]
     },
     "execution_count": 21,
     "metadata": {},
     "output_type": "execute_result"
    }
   ],
   "source": [
    "solve([[1,2,3],[2,3,4],[3,4,5]])"
   ]
  },
  {
   "cell_type": "code",
   "execution_count": 22,
   "metadata": {
    "collapsed": false
   },
   "outputs": [
    {
     "data": {
      "text/plain": []
     },
     "execution_count": 22,
     "metadata": {},
     "output_type": "execute_result"
    }
   ],
   "source": [
    "--\n",
    "-- EOF\n",
    "--"
   ]
  }
 ],
 "metadata": {
  "kernelspec": {
   "display_name": "FriCAS",
   "language": "spad",
   "name": "ifricas"
  },
  "language_info": {
   "codemirror_mode": "spad",
   "mimetype": "text/x-spad",
   "name": "SPAD",
   "pygments_lexer": "spad",
   "version": "1.2.6"
  },
  "name": "equation2.ipynb"
 },
 "nbformat": 4,
 "nbformat_minor": 0
}