{
 "cells": [
  {
   "cell_type": "markdown",
   "metadata": {},
   "source": [
    "Copyright The Numerical Algorithms Group Limited 1991.\n"
   ]
  },
  {
   "cell_type": "markdown",
   "metadata": {},
   "source": [
    " this demonstrates Floats and the result of changing precision\n"
   ]
  },
  {
   "cell_type": "code",
   "execution_count": 0,
   "metadata": {
    "collapsed": false
   },
   "outputs": [
    {
     "name": "stdout",
     "output_type": "stream",
     "text": [
      "   All user variables and function definitions have been cleared.\n"
     ]
    },
    {
     "data": {
      "text/plain": []
     },
     "execution_count": 0,
     "metadata": {},
     "output_type": "execute_result"
    }
   ],
   "source": [
    ")cl all"
   ]
  },
  {
   "cell_type": "markdown",
   "metadata": {},
   "source": [
    " look at 28 digits of accuracy (default is 20)\n"
   ]
  },
  {
   "cell_type": "code",
   "execution_count": 1,
   "metadata": {
    "collapsed": false
   },
   "outputs": [
    {
     "name": "stdout",
     "output_type": "stream",
     "text": [
      "Warning: HyperTeX macro table not found\n"
     ]
    },
    {
     "data": {
      "text/plain": [
       "   20\n",
       "                                                        Type: PositiveInteger\n"
      ]
     },
     "execution_count": 1,
     "metadata": {},
     "output_type": "execute_result"
    }
   ],
   "source": [
    "digits 28"
   ]
  },
  {
   "cell_type": "code",
   "execution_count": 2,
   "metadata": {
    "collapsed": false
   },
   "outputs": [
    {
     "data": {
      "text/plain": [
       "   3.1415926535_8979323846_2643383\n",
       "                                                                  Type: Float\n"
      ]
     },
     "execution_count": 2,
     "metadata": {},
     "output_type": "execute_result"
    }
   ],
   "source": [
    "p := numeric %pi"
   ]
  },
  {
   "cell_type": "code",
   "execution_count": 3,
   "metadata": {
    "collapsed": false
   },
   "outputs": [
    {
     "data": {
      "text/plain": [
       "   163.0\n",
       "                                                                  Type: Float\n"
      ]
     },
     "execution_count": 3,
     "metadata": {},
     "output_type": "execute_result"
    }
   ],
   "source": [
    "a := 163.0"
   ]
  },
  {
   "cell_type": "code",
   "execution_count": 4,
   "metadata": {
    "collapsed": false
   },
   "outputs": [
    {
     "data": {
      "text/plain": [
       "   12.7671453348_0370466171_095201\n",
       "                                                                  Type: Float\n"
      ]
     },
     "execution_count": 4,
     "metadata": {},
     "output_type": "execute_result"
    }
   ],
   "source": [
    "b := sqrt a"
   ]
  },
  {
   "cell_type": "markdown",
   "metadata": {},
   "source": [
    " following appears to be an integer\n"
   ]
  },
  {
   "cell_type": "code",
   "execution_count": 5,
   "metadata": {
    "collapsed": false
   },
   "outputs": [
    {
     "data": {
      "text/plain": [
       "   26253741_2640768744.0000000003\n",
       "                                                                  Type: Float\n"
      ]
     },
     "execution_count": 5,
     "metadata": {},
     "output_type": "execute_result"
    }
   ],
   "source": [
    "exp(p * b)"
   ]
  },
  {
   "cell_type": "markdown",
   "metadata": {},
   "source": [
    " increase the precision to 60 and recalculate\n"
   ]
  },
  {
   "cell_type": "code",
   "execution_count": 6,
   "metadata": {
    "collapsed": false
   },
   "outputs": [
    {
     "data": {
      "text/plain": [
       "   28\n",
       "                                                        Type: PositiveInteger\n"
      ]
     },
     "execution_count": 6,
     "metadata": {},
     "output_type": "execute_result"
    }
   ],
   "source": [
    "digits 60"
   ]
  },
  {
   "cell_type": "code",
   "execution_count": 7,
   "metadata": {
    "collapsed": false
   },
   "outputs": [
    {
     "data": {
      "text/plain": [
       "   3.1415926535_8979323846_2643383279_5028841971_6939937510_582097494\n",
       "                                                                  Type: Float\n"
      ]
     },
     "execution_count": 7,
     "metadata": {},
     "output_type": "execute_result"
    }
   ],
   "source": [
    "p := numeric %pi"
   ]
  },
  {
   "cell_type": "code",
   "execution_count": 8,
   "metadata": {
    "collapsed": false
   },
   "outputs": [
    {
     "data": {
      "text/plain": [
       "   163.0\n",
       "                                                                  Type: Float\n"
      ]
     },
     "execution_count": 8,
     "metadata": {},
     "output_type": "execute_result"
    }
   ],
   "source": [
    "a := 163.0"
   ]
  },
  {
   "cell_type": "code",
   "execution_count": 9,
   "metadata": {
    "collapsed": false
   },
   "outputs": [
    {
     "data": {
      "text/plain": [
       "   12.7671453348_0370466171_0952009780_8923473823_6378030125_88512126\n",
       "                                                                  Type: Float\n"
      ]
     },
     "execution_count": 9,
     "metadata": {},
     "output_type": "execute_result"
    }
   ],
   "source": [
    "b := sqrt a"
   ]
  },
  {
   "cell_type": "code",
   "execution_count": 10,
   "metadata": {
    "collapsed": false
   },
   "outputs": [
    {
     "data": {
      "text/plain": [
       "   26253741_2640768743.9999999999_9925007259_7198185688_8793538563_39\n",
       "                                                                  Type: Float\n"
      ]
     },
     "execution_count": 10,
     "metadata": {},
     "output_type": "execute_result"
    }
   ],
   "source": [
    "exp(p * b)"
   ]
  },
  {
   "cell_type": "code",
   "execution_count": 11,
   "metadata": {
    "collapsed": false
   },
   "outputs": [
    {
     "data": {
      "text/plain": [
       "   0.9659258262_8906828674_9743199728_8973676339_0483900840_4550402343\n",
       "                                                                  Type: Float\n"
      ]
     },
     "execution_count": 11,
     "metadata": {},
     "output_type": "execute_result"
    }
   ],
   "source": [
    "c := cos(p/12)"
   ]
  },
  {
   "cell_type": "markdown",
   "metadata": {},
   "source": [
    " we have enough precision to get 0 in following\n"
   ]
  },
  {
   "cell_type": "code",
   "execution_count": 12,
   "metadata": {
    "collapsed": false
   },
   "outputs": [
    {
     "data": {
      "text/plain": [
       "   0.0\n",
       "                                                                  Type: Float\n"
      ]
     },
     "execution_count": 12,
     "metadata": {},
     "output_type": "execute_result"
    }
   ],
   "source": [
    "16*c^4 - 16*c^2 + 1"
   ]
  },
  {
   "cell_type": "markdown",
   "metadata": {},
   "source": [
    " look at PI to 200 places\n"
   ]
  },
  {
   "cell_type": "code",
   "execution_count": 13,
   "metadata": {
    "collapsed": false
   },
   "outputs": [
    {
     "data": {
      "text/plain": [
       "  3.1415926535_8979323846_2643383279_5028841971_6939937510_5820974944_592307816\n",
       "  4_0628620899_8628034825_3421170679_8214808651_3282306647_0938446095_505822317\n",
       "  2_5359408128_4811174502_8410270193_8521105559_6446229489_54930382\n",
       "                                                                  Type: Float\n"
      ]
     },
     "execution_count": 13,
     "metadata": {},
     "output_type": "execute_result"
    }
   ],
   "source": [
    "numeric(%pi, 200)"
   ]
  },
  {
   "cell_type": "code",
   "execution_count": 14,
   "metadata": {
    "collapsed": false
   },
   "outputs": [
    {
     "data": {
      "text/plain": []
     },
     "execution_count": 14,
     "metadata": {},
     "output_type": "execute_result"
    }
   ],
   "source": [
    "--\n",
    "-- EOF\n",
    "--"
   ]
  }
 ],
 "metadata": {
  "kernelspec": {
   "display_name": "FriCAS",
   "language": "spad",
   "name": "ifricas"
  },
  "language_info": {
   "codemirror_mode": "spad",
   "mimetype": "text/x-spad",
   "name": "SPAD",
   "pygments_lexer": "spad",
   "version": "1.2.6"
  },
  "name": "float.ipynb"
 },
 "nbformat": 4,
 "nbformat_minor": 0
}