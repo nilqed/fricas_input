{
 "cells": [
  {
   "cell_type": "markdown",
   "metadata": {},
   "source": [
    "Copyright The Numerical Algorithms Group Limited 1991.\n"
   ]
  },
  {
   "cell_type": "markdown",
   "metadata": {},
   "source": [
    " Manipulation of factored integers\n"
   ]
  },
  {
   "cell_type": "code",
   "execution_count": 0,
   "metadata": {
    "collapsed": false
   },
   "outputs": [
    {
     "name": "stdout",
     "output_type": "stream",
     "text": [
      "   All user variables and function definitions have been cleared.\n"
     ]
    },
    {
     "data": {
      "text/plain": []
     },
     "execution_count": 0,
     "metadata": {},
     "output_type": "execute_result"
    }
   ],
   "source": [
    ")clear all"
   ]
  },
  {
   "cell_type": "code",
   "execution_count": 1,
   "metadata": {
    "collapsed": false
   },
   "outputs": [
    {
     "data": {
      "text/plain": [
       "                                                                   Type: Void\n"
      ]
     },
     "execution_count": 1,
     "metadata": {},
     "output_type": "execute_result"
    }
   ],
   "source": [
    "(x,y,z,w): FR INT"
   ]
  },
  {
   "cell_type": "markdown",
   "metadata": {},
   "source": [
    " automatic coercion of integers to factored integers\n"
   ]
  },
  {
   "cell_type": "code",
   "execution_count": 2,
   "metadata": {
    "collapsed": false
   },
   "outputs": [
    {
     "name": "stdout",
     "output_type": "stream",
     "text": [
      "Warning: HyperTeX macro table not found\n"
     ]
    },
    {
     "data": {
      "text/plain": [
       "    16 10  7  3\n",
       "   2  3  13 37 83 449\n",
       "                                                      Type: Factored(Integer)\n"
      ]
     },
     "execution_count": 2,
     "metadata": {},
     "output_type": "execute_result"
    }
   ],
   "source": [
    "x := 2^8 * 78^7 * 111^3 * 74534"
   ]
  },
  {
   "cell_type": "code",
   "execution_count": 3,
   "metadata": {
    "collapsed": false
   },
   "outputs": [
    {
     "data": {
      "text/plain": [
       "    10 30 5\n",
       "   2  3  5 47 659\n",
       "                                                      Type: Factored(Integer)\n"
      ]
     },
     "execution_count": 3,
     "metadata": {},
     "output_type": "execute_result"
    }
   ],
   "source": [
    "y := 2^4 * 45^3 * 162^6 * 774325"
   ]
  },
  {
   "cell_type": "markdown",
   "metadata": {},
   "source": [
    " computation of 50!\n"
   ]
  },
  {
   "cell_type": "code",
   "execution_count": 4,
   "metadata": {
    "collapsed": false
   },
   "outputs": [
    {
     "data": {
      "text/plain": [
       "   30414093201713378043612608166064768844377641568960512000000000000\n",
       "                                                        Type: PositiveInteger\n"
      ]
     },
     "execution_count": 4,
     "metadata": {},
     "output_type": "execute_result"
    }
   ],
   "source": [
    "z1 := factorial 50"
   ]
  },
  {
   "cell_type": "code",
   "execution_count": 5,
   "metadata": {
    "collapsed": false
   },
   "outputs": [
    {
     "data": {
      "text/plain": [
       "    47 22 12 8  4  3  2  2  2\n",
       "   2  3  5  7 11 13 17 19 23 29 31 37 41 43 47\n",
       "                                                      Type: Factored(Integer)\n"
      ]
     },
     "execution_count": 5,
     "metadata": {},
     "output_type": "execute_result"
    }
   ],
   "source": [
    "z := z1 :: (FR INT)"
   ]
  },
  {
   "cell_type": "markdown",
   "metadata": {},
   "source": [
    " examine the structure if a factor\n"
   ]
  },
  {
   "cell_type": "code",
   "execution_count": 6,
   "metadata": {
    "collapsed": false
   },
   "outputs": [
    {
     "data": {
      "text/plain": [
       "   2\n",
       "                                                        Type: PositiveInteger\n"
      ]
     },
     "execution_count": 6,
     "metadata": {},
     "output_type": "execute_result"
    }
   ],
   "source": [
    "nthFactor(z,1)"
   ]
  },
  {
   "cell_type": "code",
   "execution_count": 7,
   "metadata": {
    "collapsed": false
   },
   "outputs": [
    {
     "data": {
      "text/plain": [
       "   \"prime\"\n",
       "                                                     Type: Union(\"prime\",...)\n"
      ]
     },
     "execution_count": 7,
     "metadata": {},
     "output_type": "execute_result"
    }
   ],
   "source": [
    "nthFlag(z,1)"
   ]
  },
  {
   "cell_type": "code",
   "execution_count": 8,
   "metadata": {
    "collapsed": false
   },
   "outputs": [
    {
     "data": {
      "text/plain": [
       "   47\n",
       "                                                        Type: PositiveInteger\n"
      ]
     },
     "execution_count": 8,
     "metadata": {},
     "output_type": "execute_result"
    }
   ],
   "source": [
    "nthExponent(z,1)"
   ]
  },
  {
   "cell_type": "markdown",
   "metadata": {},
   "source": [
    " extract the factors in another form\n"
   ]
  },
  {
   "cell_type": "code",
   "execution_count": 9,
   "metadata": {
    "collapsed": false
   },
   "outputs": [
    {
     "name": "stdout",
     "output_type": "stream",
     "text": [
      "\n",
      "\n",
      "\n",
      "\n",
      "\n",
      "\n",
      "\n",
      "\n"
     ]
    },
    {
     "data": {
      "text/plain": [
       "   [[flg= \"prime\",fctr= 2,xpnt= 47], [flg= \"prime\",fctr= 3,xpnt= 22],\n",
       "    [flg= \"prime\",fctr= 5,xpnt= 12], [flg= \"prime\",fctr= 7,xpnt= 8],\n",
       "    [flg= \"prime\",fctr= 11,xpnt= 4], [flg= \"prime\",fctr= 13,xpnt= 3],\n",
       "    [flg= \"prime\",fctr= 17,xpnt= 2], [flg= \"prime\",fctr= 19,xpnt= 2],\n",
       "    [flg= \"prime\",fctr= 23,xpnt= 2], [flg= \"prime\",fctr= 29,xpnt= 1],\n",
       "    [flg= \"prime\",fctr= 31,xpnt= 1], [flg= \"prime\",fctr= 37,xpnt= 1],\n",
       "    [flg= \"prime\",fctr= 41,xpnt= 1], [flg= \"prime\",fctr= 43,xpnt= 1],\n",
       "    [flg= \"prime\",fctr= 47,xpnt= 1]]\n",
       "Type: List(Record(flg: Union(\"nil\",\"sqfr\",\"irred\",\"prime\"),fctr: Integer,xpnt: Integer))\n"
      ]
     },
     "execution_count": 9,
     "metadata": {},
     "output_type": "execute_result"
    }
   ],
   "source": [
    "factorList z"
   ]
  },
  {
   "cell_type": "markdown",
   "metadata": {},
   "source": [
    " construct an object that has the factors to multiplicity one\n"
   ]
  },
  {
   "cell_type": "code",
   "execution_count": 10,
   "metadata": {
    "collapsed": false
   },
   "outputs": [
    {
     "data": {
      "text/plain": [
       "   2 3 5 7 11 13 17 19 23 29 31 37 41 43 47\n",
       "                                                      Type: Factored(Integer)\n"
      ]
     },
     "execution_count": 10,
     "metadata": {},
     "output_type": "execute_result"
    }
   ],
   "source": [
    "r:=reduce(*,[(nthFactor(z,i) :: (FR INT)) for i in 1..(numberOfFactors z)])"
   ]
  },
  {
   "cell_type": "markdown",
   "metadata": {},
   "source": [
    " some arithmetic\n"
   ]
  },
  {
   "cell_type": "code",
   "execution_count": 11,
   "metadata": {
    "collapsed": false
   },
   "outputs": [
    {
     "data": {
      "text/plain": [
       "    46 21 11 7  3  2\n",
       "   2  3  5  7 11 13 17 19 23\n",
       "                                           Type: Union(Factored(Integer),...)\n"
      ]
     },
     "execution_count": 11,
     "metadata": {},
     "output_type": "execute_result"
    }
   ],
   "source": [
    "exquo(z,r)"
   ]
  },
  {
   "cell_type": "code",
   "execution_count": 12,
   "metadata": {
    "collapsed": false
   },
   "outputs": [
    {
     "data": {
      "text/plain": [
       "    26 40 5  7  3\n",
       "   2  3  5 13 37 47 83 449 659\n",
       "                                                      Type: Factored(Integer)\n"
      ]
     },
     "execution_count": 12,
     "metadata": {},
     "output_type": "execute_result"
    }
   ],
   "source": [
    "x*y"
   ]
  },
  {
   "cell_type": "code",
   "execution_count": 13,
   "metadata": {
    "collapsed": false
   },
   "outputs": [
    {
     "data": {
      "text/plain": [
       "    26 40 5  7  3\n",
       "   2  3  5 13 37 47 83 449 659\n",
       "                                                      Type: Factored(Integer)\n"
      ]
     },
     "execution_count": 13,
     "metadata": {},
     "output_type": "execute_result"
    }
   ],
   "source": [
    "y*x"
   ]
  },
  {
   "cell_type": "code",
   "execution_count": 14,
   "metadata": {
    "collapsed": false
   },
   "outputs": [
    {
     "data": {
      "text/plain": [
       "   true\n",
       "                                                                Type: Boolean\n"
      ]
     },
     "execution_count": 14,
     "metadata": {},
     "output_type": "execute_result"
    }
   ],
   "source": [
    "(x*y = y*x) :: BOOLEAN"
   ]
  },
  {
   "cell_type": "code",
   "execution_count": 15,
   "metadata": {
    "collapsed": false
   },
   "outputs": [
    {
     "data": {
      "text/plain": [
       "    16 10  3\n",
       "   2  3  13 37\n",
       "                                                      Type: Factored(Integer)\n"
      ]
     },
     "execution_count": 15,
     "metadata": {},
     "output_type": "execute_result"
    }
   ],
   "source": [
    "gcd(x,z)"
   ]
  },
  {
   "cell_type": "code",
   "execution_count": 16,
   "metadata": {
    "collapsed": false
   },
   "outputs": [
    {
     "data": {
      "text/plain": [
       "    10 10\n",
       "   2  3  1109 3557 2007307818601\n",
       "                                                      Type: Factored(Integer)\n"
      ]
     },
     "execution_count": 16,
     "metadata": {},
     "output_type": "execute_result"
    }
   ],
   "source": [
    "x+y"
   ]
  },
  {
   "cell_type": "markdown",
   "metadata": {},
   "source": [
    " this is how you multiply the terms together\n"
   ]
  },
  {
   "cell_type": "code",
   "execution_count": 17,
   "metadata": {
    "collapsed": false
   },
   "outputs": [
    {
     "data": {
      "text/plain": [
       "   478786494447911114328204288\n",
       "                                                        Type: PositiveInteger\n"
      ]
     },
     "execution_count": 17,
     "metadata": {},
     "output_type": "execute_result"
    }
   ],
   "source": [
    "expand(x+y)"
   ]
  },
  {
   "cell_type": "markdown",
   "metadata": {},
   "source": [
    " now look at quotients\n"
   ]
  },
  {
   "cell_type": "code",
   "execution_count": 18,
   "metadata": {
    "collapsed": false
   },
   "outputs": [
    {
     "data": {
      "text/plain": [
       "    6  7  3\n",
       "   2 13 37 83 449\n",
       "   --------------\n",
       "      20 5\n",
       "     3  5 47 659\n",
       "                                            Type: Fraction(Factored(Integer))\n"
      ]
     },
     "execution_count": 18,
     "metadata": {},
     "output_type": "execute_result"
    }
   ],
   "source": [
    "f := x/y"
   ]
  },
  {
   "cell_type": "code",
   "execution_count": 19,
   "metadata": {
    "collapsed": false
   },
   "outputs": [
    {
     "data": {
      "text/plain": [
       "    134 60  63  27  9   9\n",
       "   2   3  13  37  83 449\n",
       "   ----------------------\n",
       "           5\n",
       "          5 47 659\n",
       "                                            Type: Fraction(Factored(Integer))\n"
      ]
     },
     "execution_count": 19,
     "metadata": {},
     "output_type": "execute_result"
    }
   ],
   "source": [
    "g := (x ^ 9) / y"
   ]
  },
  {
   "cell_type": "code",
   "execution_count": 20,
   "metadata": {
    "collapsed": false
   },
   "outputs": [
    {
     "data": {
      "text/plain": [
       "    140 40  70  30  10   10\n",
       "   2   3  13  37  83  449\n",
       "   ------------------------\n",
       "           10  2   2\n",
       "          5  47 659\n",
       "                                            Type: Fraction(Factored(Integer))\n"
      ]
     },
     "execution_count": 20,
     "metadata": {},
     "output_type": "execute_result"
    }
   ],
   "source": [
    "f * g"
   ]
  },
  {
   "cell_type": "code",
   "execution_count": 21,
   "metadata": {
    "collapsed": false
   },
   "outputs": [
    {
     "data": {
      "text/plain": [
       "       7  3\n",
       "     13 37 83 449\n",
       "   ---------------\n",
       "    194 20 5\n",
       "   2   3  5 47 659\n",
       "                                            Type: Fraction(Factored(Integer))\n"
      ]
     },
     "execution_count": 21,
     "metadata": {},
     "output_type": "execute_result"
    }
   ],
   "source": [
    "(f * g) / (g * primeFactor(2,200))"
   ]
  },
  {
   "cell_type": "code",
   "execution_count": 22,
   "metadata": {
    "collapsed": false
   },
   "outputs": [
    {
     "data": {
      "text/plain": [
       "    2 7 8  4  10  2  2  2        4\n",
       "   3 5 7 11 13  17 19 23 29 31 37 41 43 83 449\n",
       "   -------------------------------------------\n",
       "                      147\n",
       "                     2   659\n",
       "                                            Type: Fraction(Factored(Integer))\n"
      ]
     },
     "execution_count": 22,
     "metadata": {},
     "output_type": "execute_result"
    }
   ],
   "source": [
    "(f * g) / (g * primeFactor(2,200)) * z"
   ]
  },
  {
   "cell_type": "markdown",
   "metadata": {},
   "source": [
    "% Manipulation of factored polynomials\n"
   ]
  },
  {
   "cell_type": "code",
   "execution_count": 23,
   "metadata": {
    "collapsed": false
   },
   "outputs": [
    {
     "name": "stdout",
     "output_type": "stream",
     "text": [
      "   All user variables and function definitions have been cleared.\n"
     ]
    },
    {
     "data": {
      "text/plain": []
     },
     "execution_count": 23,
     "metadata": {},
     "output_type": "execute_result"
    }
   ],
   "source": [
    ")clear all"
   ]
  },
  {
   "cell_type": "code",
   "execution_count": 24,
   "metadata": {
    "collapsed": false
   },
   "outputs": [
    {
     "data": {
      "text/plain": []
     },
     "execution_count": 24,
     "metadata": {},
     "output_type": "execute_result"
    }
   ],
   "source": [
    ")set history on"
   ]
  },
  {
   "cell_type": "code",
   "execution_count": 25,
   "metadata": {
    "collapsed": false
   },
   "outputs": [
    {
     "data": {
      "text/plain": [
       "                                                                   Type: Void\n"
      ]
     },
     "execution_count": 25,
     "metadata": {},
     "output_type": "execute_result"
    }
   ],
   "source": [
    "(u,v,w): FR POLY INT"
   ]
  },
  {
   "cell_type": "markdown",
   "metadata": {},
   "source": [
    " coercion to FR POLY INT involves factoring\n"
   ]
  },
  {
   "cell_type": "code",
   "execution_count": 26,
   "metadata": {
    "collapsed": false
   },
   "outputs": [
    {
     "data": {
      "text/plain": [
       "                     2    2\n",
       "   - (y - x)(y + x)(y  + x )\n",
       "                                          Type: Factored(Polynomial(Integer))\n"
      ]
     },
     "execution_count": 26,
     "metadata": {},
     "output_type": "execute_result"
    }
   ],
   "source": [
    "u := (x^4 - y^4) :: POLY INT"
   ]
  },
  {
   "cell_type": "markdown",
   "metadata": {},
   "source": [
    " primeFactor creates factors that are asserted to be prime\n"
   ]
  },
  {
   "cell_type": "code",
   "execution_count": 27,
   "metadata": {
    "collapsed": false
   },
   "outputs": [
    {
     "data": {
      "text/plain": [
       "          2       2  2    2\n",
       "   (y - x) (y + x) (y  + x )\n",
       "                                          Type: Factored(Polynomial(Integer))\n"
      ]
     },
     "execution_count": 27,
     "metadata": {},
     "output_type": "execute_result"
    }
   ],
   "source": [
    "v := primeFactor(x-y,2) * primeFactor(x+y,2) * primeFactor(x^2 + y^2,1)"
   ]
  },
  {
   "cell_type": "code",
   "execution_count": 28,
   "metadata": {
    "collapsed": false
   },
   "outputs": [
    {
     "data": {
      "text/plain": [
       "          2           2\n",
       "   (y - x) (y + x + 1)\n",
       "                                          Type: Factored(Polynomial(Integer))\n"
      ]
     },
     "execution_count": 28,
     "metadata": {},
     "output_type": "execute_result"
    }
   ],
   "source": [
    "w := factor(x^2 + 2*x*y + 2*x + 2*y + y^2 + 1) * primeFactor(x-y,2)"
   ]
  },
  {
   "cell_type": "code",
   "execution_count": 29,
   "metadata": {
    "collapsed": false
   },
   "outputs": [
    {
     "data": {
      "text/plain": [
       "   1\n",
       "                                                    Type: Polynomial(Integer)\n"
      ]
     },
     "execution_count": 29,
     "metadata": {},
     "output_type": "execute_result"
    }
   ],
   "source": [
    "unit w"
   ]
  },
  {
   "cell_type": "markdown",
   "metadata": {},
   "source": [
    " some ways of looking at the components of an elements of FR P I\n"
   ]
  },
  {
   "cell_type": "code",
   "execution_count": 30,
   "metadata": {
    "collapsed": false
   },
   "outputs": [
    {
     "name": "stdout",
     "output_type": "stream",
     "text": [
      "\n",
      "\n"
     ]
    },
    {
     "data": {
      "text/plain": [
       "   [[flg= \"prime\",fctr= y - x,xpnt= 1], [flg= \"prime\",fctr= y + x,xpnt= 1],\n",
       "                         2    2\n",
       "    [flg= \"prime\",fctr= y  + x ,xpnt= 1]]\n",
       "Type: List(Record(flg: Union(\"nil\",\"sqfr\",\"irred\",\"prime\"),fctr: Polynomial(Integer),xpnt: Integer))\n"
      ]
     },
     "execution_count": 30,
     "metadata": {},
     "output_type": "execute_result"
    }
   ],
   "source": [
    "l := factorList u"
   ]
  },
  {
   "cell_type": "code",
   "execution_count": 31,
   "metadata": {
    "collapsed": false
   },
   "outputs": [
    {
     "name": "stdout",
     "output_type": "stream",
     "text": [
      "\n",
      "\n"
     ]
    },
    {
     "data": {
      "text/plain": [
       "   [[flg= \"prime\",fctr= y - x,xpnt= 2], [flg= \"prime\",fctr= y + x,xpnt= 2],\n",
       "                         2    2\n",
       "    [flg= \"prime\",fctr= y  + x ,xpnt= 1]]\n",
       "Type: List(Record(flg: Union(\"nil\",\"sqfr\",\"irred\",\"prime\"),fctr: Polynomial(Integer),xpnt: Integer))\n"
      ]
     },
     "execution_count": 31,
     "metadata": {},
     "output_type": "execute_result"
    }
   ],
   "source": [
    "factorList v"
   ]
  },
  {
   "cell_type": "code",
   "execution_count": 32,
   "metadata": {
    "collapsed": false
   },
   "outputs": [
    {
     "data": {
      "text/plain": [
       "   [[flg= \"prime\",fctr= y - x,xpnt= 2],[flg= \"prime\",fctr= y + x + 1,xpnt= 2]]\n",
       "Type: List(Record(flg: Union(\"nil\",\"sqfr\",\"irred\",\"prime\"),fctr: Polynomial(Integer),xpnt: Integer))\n"
      ]
     },
     "execution_count": 32,
     "metadata": {},
     "output_type": "execute_result"
    }
   ],
   "source": [
    "factorList w"
   ]
  },
  {
   "cell_type": "code",
   "execution_count": 33,
   "metadata": {
    "collapsed": false
   },
   "outputs": [
    {
     "data": {
      "text/plain": [
       "   y - x\n",
       "                                                    Type: Polynomial(Integer)\n"
      ]
     },
     "execution_count": 33,
     "metadata": {},
     "output_type": "execute_result"
    }
   ],
   "source": [
    "l.1.fctr"
   ]
  },
  {
   "cell_type": "code",
   "execution_count": 34,
   "metadata": {
    "collapsed": false
   },
   "outputs": [
    {
     "data": {
      "text/plain": [
       "   1\n",
       "                                                        Type: PositiveInteger\n"
      ]
     },
     "execution_count": 34,
     "metadata": {},
     "output_type": "execute_result"
    }
   ],
   "source": [
    "l.1.xpnt"
   ]
  },
  {
   "cell_type": "code",
   "execution_count": 35,
   "metadata": {
    "collapsed": false
   },
   "outputs": [
    {
     "data": {
      "text/plain": [
       "   y - x\n",
       "                                                    Type: Polynomial(Integer)\n"
      ]
     },
     "execution_count": 35,
     "metadata": {},
     "output_type": "execute_result"
    }
   ],
   "source": [
    "nthFactor(u,1)"
   ]
  },
  {
   "cell_type": "code",
   "execution_count": 36,
   "metadata": {
    "collapsed": false
   },
   "outputs": [
    {
     "data": {
      "text/plain": [
       "   y + x\n",
       "                                                    Type: Polynomial(Integer)\n"
      ]
     },
     "execution_count": 36,
     "metadata": {},
     "output_type": "execute_result"
    }
   ],
   "source": [
    "nthFactor(u,2)"
   ]
  },
  {
   "cell_type": "code",
   "execution_count": 37,
   "metadata": {
    "collapsed": false
   },
   "outputs": [
    {
     "data": {
      "text/plain": [
       "    2    2\n",
       "   y  + x\n",
       "                                                    Type: Polynomial(Integer)\n"
      ]
     },
     "execution_count": 37,
     "metadata": {},
     "output_type": "execute_result"
    }
   ],
   "source": [
    "nthFactor(u,3)"
   ]
  },
  {
   "cell_type": "code",
   "execution_count": 38,
   "metadata": {
    "collapsed": false
   },
   "outputs": [
    {
     "data": {
      "text/plain": [
       "   1\n",
       "                                                        Type: PositiveInteger\n"
      ]
     },
     "execution_count": 38,
     "metadata": {},
     "output_type": "execute_result"
    }
   ],
   "source": [
    "nthExponent(u,3)"
   ]
  },
  {
   "cell_type": "code",
   "execution_count": 39,
   "metadata": {
    "collapsed": false
   },
   "outputs": [
    {
     "data": {
      "text/plain": [
       "   \"prime\"\n",
       "                                                     Type: Union(\"prime\",...)\n"
      ]
     },
     "execution_count": 39,
     "metadata": {},
     "output_type": "execute_result"
    }
   ],
   "source": [
    "nthFlag(u,3)"
   ]
  },
  {
   "cell_type": "code",
   "execution_count": 40,
   "metadata": {
    "collapsed": false
   },
   "outputs": [
    {
     "data": {
      "text/plain": [
       "   1\n",
       "                                                    Type: Polynomial(Integer)\n"
      ]
     },
     "execution_count": 40,
     "metadata": {},
     "output_type": "execute_result"
    }
   ],
   "source": [
    "nthFactor(u,4)"
   ]
  },
  {
   "cell_type": "markdown",
   "metadata": {},
   "source": [
    " this computes a factored object that is similar to v except that\n",
    " each factor occurs with multiplicity 1\n"
   ]
  },
  {
   "cell_type": "code",
   "execution_count": 41,
   "metadata": {
    "collapsed": false
   },
   "outputs": [
    {
     "data": {
      "text/plain": [
       "                   2    2\n",
       "   (y - x)(y + x)(y  + x )\n",
       "                                          Type: Factored(Polynomial(Integer))\n"
      ]
     },
     "execution_count": 41,
     "metadata": {},
     "output_type": "execute_result"
    }
   ],
   "source": [
    "s:=reduce(*,[(nthFactor(v,i) :: FR POLY INT) for i in 1..(numberOfFactors v)])"
   ]
  },
  {
   "cell_type": "markdown",
   "metadata": {},
   "source": [
    " some arithmetic\n"
   ]
  },
  {
   "cell_type": "code",
   "execution_count": 42,
   "metadata": {
    "collapsed": false
   },
   "outputs": [
    {
     "data": {
      "text/plain": [
       "   (y - x)(y + x)\n",
       "                               Type: Union(Factored(Polynomial(Integer)),...)\n"
      ]
     },
     "execution_count": 42,
     "metadata": {},
     "output_type": "execute_result"
    }
   ],
   "source": [
    "exquo(v,s)"
   ]
  },
  {
   "cell_type": "code",
   "execution_count": 43,
   "metadata": {
    "collapsed": false
   },
   "outputs": [
    {
     "data": {
      "text/plain": [
       "                   2    2\n",
       "   (y - x)(y + x)(y  + x )\n",
       "                                          Type: Factored(Polynomial(Integer))\n"
      ]
     },
     "execution_count": 43,
     "metadata": {},
     "output_type": "execute_result"
    }
   ],
   "source": [
    "gcd(u,v)"
   ]
  },
  {
   "cell_type": "code",
   "execution_count": 44,
   "metadata": {
    "collapsed": false
   },
   "outputs": [
    {
     "data": {
      "text/plain": [
       "                   2    2       2    2\n",
       "   (y - x)(y + x)(y  - x  - 1)(y  + x )\n",
       "                                          Type: Factored(Polynomial(Integer))\n"
      ]
     },
     "execution_count": 44,
     "metadata": {},
     "output_type": "execute_result"
    }
   ],
   "source": [
    "u + v"
   ]
  },
  {
   "cell_type": "code",
   "execution_count": 45,
   "metadata": {
    "collapsed": false
   },
   "outputs": [
    {
     "data": {
      "text/plain": [
       "          2       2           2  2    2\n",
       "   (y - x) (y + x) (y + x + 1) (y  + x )\n",
       "                                          Type: Factored(Polynomial(Integer))\n"
      ]
     },
     "execution_count": 45,
     "metadata": {},
     "output_type": "execute_result"
    }
   ],
   "source": [
    "lcm(v,w)"
   ]
  },
  {
   "cell_type": "code",
   "execution_count": 46,
   "metadata": {
    "collapsed": false
   },
   "outputs": [
    {
     "data": {
      "text/plain": [
       "            5       3           2  2    2 2\n",
       "   - (y - x) (y + x) (y + x + 1) (y  + x )\n",
       "                                          Type: Factored(Polynomial(Integer))\n"
      ]
     },
     "execution_count": 46,
     "metadata": {},
     "output_type": "execute_result"
    }
   ],
   "source": [
    "u * v * w"
   ]
  },
  {
   "cell_type": "markdown",
   "metadata": {},
   "source": [
    " \"expand\" multiplies the factors together\n"
   ]
  },
  {
   "cell_type": "code",
   "execution_count": 47,
   "metadata": {
    "collapsed": false
   },
   "outputs": [
    {
     "name": "stdout",
     "output_type": "stream",
     "text": [
      "      "
     ]
    },
    {
     "data": {
      "text/plain": [
       "        14     13      2           12      2       11       4     3  10\n",
       "     - y   - 2y   + (3x  + 2x - 1)y   + (4x  + 2x)y   + (- x  - 4x )y\n",
       "   + \n",
       "        4     3  9        6     5     4  8        6     5  7      8     7  6\n",
       "     (2x  - 2x )y  + (- 5x  - 2x  + 3x )y  + (- 8x  - 4x )y  + (5x  + 8x )y\n",
       "   + \n",
       "        8     7  5     10     9     8  4      10     9  3        12     11  2\n",
       "     (2x  + 4x )y  + (x   - 2x  - 3x )y  + (4x   + 2x )y  + (- 3x   - 4x  )y\n",
       "   + \n",
       "          12     11      14     13    12\n",
       "     (- 2x   - 2x  )y + x   + 2x   + x\n",
       "                                                    Type: Polynomial(Integer)\n"
      ]
     },
     "execution_count": 47,
     "metadata": {},
     "output_type": "execute_result"
    }
   ],
   "source": [
    "expand(u * v * w)"
   ]
  },
  {
   "cell_type": "markdown",
   "metadata": {},
   "source": [
    " some quotients\n"
   ]
  },
  {
   "cell_type": "code",
   "execution_count": 48,
   "metadata": {
    "collapsed": false
   },
   "outputs": [
    {
     "data": {
      "text/plain": [
       "                2    2\n",
       "       (y + x)(y  + x )\n",
       "   - -------------------\n",
       "                       2\n",
       "     (y - x)(y + x + 1)\n",
       "                                Type: Fraction(Factored(Polynomial(Integer)))\n"
      ]
     },
     "execution_count": 48,
     "metadata": {},
     "output_type": "execute_result"
    }
   ],
   "source": [
    "u/w"
   ]
  },
  {
   "cell_type": "code",
   "execution_count": 49,
   "metadata": {
    "collapsed": false
   },
   "outputs": [
    {
     "data": {
      "text/plain": [
       "                       2\n",
       "            (y + x + 1)\n",
       "   - -------------------------\n",
       "                   3  2    2 2\n",
       "     (y - x)(y + x) (y  + x )\n",
       "                                Type: Fraction(Factored(Polynomial(Integer)))\n"
      ]
     },
     "execution_count": 49,
     "metadata": {},
     "output_type": "execute_result"
    }
   ],
   "source": [
    "w/(u*v)"
   ]
  },
  {
   "cell_type": "markdown",
   "metadata": {},
   "source": [
    " %%(-1) is the last result, %%(-2) is the one before that\n"
   ]
  },
  {
   "cell_type": "code",
   "execution_count": 50,
   "metadata": {
    "collapsed": false
   },
   "outputs": [
    {
     "data": {
      "text/plain": [
       "               1\n",
       "   -------------------------\n",
       "          2       2  2    2\n",
       "   (y - x) (y + x) (y  + x )\n",
       "                                Type: Fraction(Factored(Polynomial(Integer)))\n"
      ]
     },
     "execution_count": 50,
     "metadata": {},
     "output_type": "execute_result"
    }
   ],
   "source": [
    "w/(u*v) * u/w"
   ]
  },
  {
   "cell_type": "code",
   "execution_count": 51,
   "metadata": {
    "collapsed": false
   },
   "outputs": [
    {
     "name": "stdout",
     "output_type": "stream",
     "text": [
      "                   "
     ]
    },
    {
     "data": {
      "text/plain": [
       "   -\n",
       "           10       9     2 8      3 7      4 6      5 5       6      4\n",
       "          y   + 4x y  + 9x y  + 16x y  + 22x y  + 24x y  + (22x  + 1)y\n",
       "        + \n",
       "              7           3      8     2            2\n",
       "          (16x  + 4x + 4)y  + (9x  + 6x  + 12x + 6)y\n",
       "        + \n",
       "             9     3      2                10    4     3     2\n",
       "          (4x  + 4x  + 12x  + 12x + 4)y + x   + x  + 4x  + 6x  + 4x + 1\n",
       "     /\n",
       "                      3           2  2    2 2\n",
       "        (y - x)(y + x) (y + x + 1) (y  + x )\n",
       "                                Type: Fraction(Factored(Polynomial(Integer)))\n"
      ]
     },
     "execution_count": 51,
     "metadata": {},
     "output_type": "execute_result"
    }
   ],
   "source": [
    "w/(u*v) + u/w"
   ]
  },
  {
   "cell_type": "code",
   "execution_count": 52,
   "metadata": {
    "collapsed": false
   },
   "outputs": [
    {
     "data": {
      "text/plain": [
       "   - 2(2x + 1)(y - x)(y + x + 1)\n",
       "                                          Type: Factored(Polynomial(Integer))\n"
      ]
     },
     "execution_count": 52,
     "metadata": {},
     "output_type": "execute_result"
    }
   ],
   "source": [
    "differentiate(w,x)"
   ]
  },
  {
   "cell_type": "code",
   "execution_count": 53,
   "metadata": {
    "collapsed": false
   },
   "outputs": [
    {
     "data": {
      "text/plain": [
       "   2(y - x)(y + x + 1)(2y + 1)\n",
       "                                          Type: Factored(Polynomial(Integer))\n"
      ]
     },
     "execution_count": 53,
     "metadata": {},
     "output_type": "execute_result"
    }
   ],
   "source": [
    "differentiate(w,y)"
   ]
  },
  {
   "cell_type": "code",
   "execution_count": 54,
   "metadata": {
    "collapsed": false
   },
   "outputs": [
    {
     "data": {
      "text/plain": [
       "   true\n",
       "                                                                Type: Boolean\n"
      ]
     },
     "execution_count": 54,
     "metadata": {},
     "output_type": "execute_result"
    }
   ],
   "source": [
    "associates?(x,-x)"
   ]
  },
  {
   "cell_type": "code",
   "execution_count": 55,
   "metadata": {
    "collapsed": false
   },
   "outputs": [
    {
     "data": {
      "text/plain": [
       "   0\n",
       "                                                     Type: NonNegativeInteger\n"
      ]
     },
     "execution_count": 55,
     "metadata": {},
     "output_type": "execute_result"
    }
   ],
   "source": [
    "characteristic()$FR POLY INT"
   ]
  },
  {
   "cell_type": "code",
   "execution_count": 56,
   "metadata": {
    "collapsed": false
   },
   "outputs": [
    {
     "data": {
      "text/plain": [
       "   1\n",
       "                                          Type: Factored(Polynomial(Integer))\n"
      ]
     },
     "execution_count": 56,
     "metadata": {},
     "output_type": "execute_result"
    }
   ],
   "source": [
    "1$FR POLY INT"
   ]
  },
  {
   "cell_type": "code",
   "execution_count": 57,
   "metadata": {
    "collapsed": false
   },
   "outputs": [
    {
     "data": {
      "text/plain": [
       "   0\n",
       "                                          Type: Factored(Polynomial(Integer))\n"
      ]
     },
     "execution_count": 57,
     "metadata": {},
     "output_type": "execute_result"
    }
   ],
   "source": [
    "0$FR POLY INT"
   ]
  },
  {
   "cell_type": "code",
   "execution_count": 58,
   "metadata": {
    "collapsed": false
   },
   "outputs": [
    {
     "data": {
      "text/plain": [
       "   - 1\n",
       "                                          Type: Factored(Polynomial(Integer))\n"
      ]
     },
     "execution_count": 58,
     "metadata": {},
     "output_type": "execute_result"
    }
   ],
   "source": [
    "D(factor (-x), x)"
   ]
  },
  {
   "cell_type": "code",
   "execution_count": 59,
   "metadata": {
    "collapsed": false
   },
   "outputs": [
    {
     "data": {
      "text/plain": []
     },
     "execution_count": 59,
     "metadata": {},
     "output_type": "execute_result"
    }
   ],
   "source": [
    "--\n",
    "-- EOF\n",
    "--"
   ]
  }
 ],
 "metadata": {
  "kernelspec": {
   "display_name": "FriCAS",
   "language": "spad",
   "name": "ifricas"
  },
  "language_info": {
   "codemirror_mode": "spad",
   "mimetype": "text/x-spad",
   "name": "SPAD",
   "pygments_lexer": "spad",
   "version": "1.2.6"
  },
  "name": "fr.ipynb"
 },
 "nbformat": 4,
 "nbformat_minor": 0
}