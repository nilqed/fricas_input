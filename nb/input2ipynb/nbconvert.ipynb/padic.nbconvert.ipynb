{
 "cells": [
  {
   "cell_type": "markdown",
   "metadata": {},
   "source": [
    "Copyright The Numerical Algorithms Group Limited MCMXCIV.\n"
   ]
  },
  {
   "cell_type": "markdown",
   "metadata": {},
   "source": [
    " Author: Clifton J. Williamson\n"
   ]
  },
  {
   "cell_type": "code",
   "execution_count": 0,
   "metadata": {
    "collapsed": false
   },
   "outputs": [
    {
     "name": "stdout",
     "output_type": "stream",
     "text": [
      "Warning: HyperTeX macro table not found\n"
     ]
    },
    {
     "data": {
      "text/plain": [
       "              2      3    4      5    6      7      8      9      10      11\n",
       "   3 + 7 + 2 7  + 6 7  + 7  + 2 7  + 7  + 2 7  + 4 7  + 6 7  + 6 7   + O(7  )\n",
       "                                                        Type: PAdicInteger(7)\n"
      ]
     },
     "execution_count": 0,
     "metadata": {},
     "output_type": "execute_result"
    }
   ],
   "source": [
    "root2 : PADIC 7 := sqrt(2,3)"
   ]
  },
  {
   "cell_type": "code",
   "execution_count": 1,
   "metadata": {
    "collapsed": false
   },
   "outputs": [
    {
     "data": {
      "text/plain": [
       "              2      3    4      5    6      7      8      9      10      11\n",
       "   3 + 7 + 2 7  + 6 7  + 7  + 2 7  + 7  + 2 7  + 4 7  + 6 7  + 6 7   + O(7  )\n",
       "                                                        Type: PAdicInteger(7)\n"
      ]
     },
     "execution_count": 1,
     "metadata": {},
     "output_type": "execute_result"
    }
   ],
   "source": [
    "extend(root2,20)"
   ]
  },
  {
   "cell_type": "code",
   "execution_count": 2,
   "metadata": {
    "collapsed": false
   },
   "outputs": [
    {
     "data": {
      "text/plain": [
       "              2    3      4      5    6      7      8      11\n",
       "   3 + 7 + 2 7  - 7  + 2 7  + 2 7  + 7  + 2 7  - 3 7  + O(7  )\n",
       "                                                Type: BalancedPAdicInteger(7)\n"
      ]
     },
     "execution_count": 2,
     "metadata": {},
     "output_type": "execute_result"
    }
   ],
   "source": [
    "broot2 : BPADIC 7 := sqrt(2,3)"
   ]
  },
  {
   "cell_type": "code",
   "execution_count": 3,
   "metadata": {
    "collapsed": false
   },
   "outputs": [
    {
     "data": {
      "text/plain": [
       "              2    3      4      5    6      7      8      11\n",
       "   3 + 7 + 2 7  - 7  + 2 7  + 2 7  + 7  + 2 7  - 3 7  + O(7  )\n",
       "                                                Type: BalancedPAdicInteger(7)\n"
      ]
     },
     "execution_count": 3,
     "metadata": {},
     "output_type": "execute_result"
    }
   ],
   "source": [
    "extend(broot2,20)"
   ]
  },
  {
   "cell_type": "code",
   "execution_count": 4,
   "metadata": {
    "collapsed": false
   },
   "outputs": [
    {
     "data": {
      "text/plain": [
       "   ?\n",
       "                                    Type: SparseUnivariatePolynomial(Integer)\n"
      ]
     },
     "execution_count": 4,
     "metadata": {},
     "output_type": "execute_result"
    }
   ],
   "source": [
    "xx : SUP INT := monomial(1,1)"
   ]
  },
  {
   "cell_type": "code",
   "execution_count": 5,
   "metadata": {
    "collapsed": false
   },
   "outputs": [
    {
     "data": {
      "text/plain": [
       "    6\n",
       "   ?  - 1\n",
       "                                    Type: SparseUnivariatePolynomial(Integer)\n"
      ]
     },
     "execution_count": 5,
     "metadata": {},
     "output_type": "execute_result"
    }
   ],
   "source": [
    "pp := xx^6 - 1"
   ]
  },
  {
   "cell_type": "code",
   "execution_count": 6,
   "metadata": {
    "collapsed": false
   },
   "outputs": [
    {
     "data": {
      "text/plain": [
       "          11\n",
       "   1 + O(7  )\n",
       "                                                        Type: PAdicInteger(7)\n"
      ]
     },
     "execution_count": 6,
     "metadata": {},
     "output_type": "execute_result"
    }
   ],
   "source": [
    "r1 : PADIC 7 := root(pp,1)"
   ]
  },
  {
   "cell_type": "code",
   "execution_count": 7,
   "metadata": {
    "collapsed": false
   },
   "outputs": [
    {
     "data": {
      "text/plain": [
       "                2      3      5      6      7      8      9      10      11\n",
       "   2 + 4 7 + 6 7  + 3 7  + 2 7  + 6 7  + 2 7  + 4 7  + 3 7  + 4 7   + O(7  )\n",
       "                                                        Type: PAdicInteger(7)\n"
      ]
     },
     "execution_count": 7,
     "metadata": {},
     "output_type": "execute_result"
    }
   ],
   "source": [
    "r2 : PADIC 7 := root(pp,2)"
   ]
  },
  {
   "cell_type": "code",
   "execution_count": 8,
   "metadata": {
    "collapsed": false
   },
   "outputs": [
    {
     "data": {
      "text/plain": [
       "                2      3      5      6      7      8      9      10      11\n",
       "   3 + 4 7 + 6 7  + 3 7  + 2 7  + 6 7  + 2 7  + 4 7  + 3 7  + 4 7   + O(7  )\n",
       "                                                        Type: PAdicInteger(7)\n"
      ]
     },
     "execution_count": 8,
     "metadata": {},
     "output_type": "execute_result"
    }
   ],
   "source": [
    "r3 : PADIC 7 := root(pp,3)"
   ]
  },
  {
   "cell_type": "code",
   "execution_count": 9,
   "metadata": {
    "collapsed": false
   },
   "outputs": [
    {
     "data": {
      "text/plain": [
       "                3      4      5      7      8      9      10      11\n",
       "   4 + 2 7 + 3 7  + 6 7  + 4 7  + 4 7  + 2 7  + 3 7  + 2 7   + O(7  )\n",
       "                                                        Type: PAdicInteger(7)\n"
      ]
     },
     "execution_count": 9,
     "metadata": {},
     "output_type": "execute_result"
    }
   ],
   "source": [
    "r4 : PADIC 7 := root(pp,4)"
   ]
  },
  {
   "cell_type": "code",
   "execution_count": 10,
   "metadata": {
    "collapsed": false
   },
   "outputs": [
    {
     "data": {
      "text/plain": [
       "                3      4      5      7      8      9      10      11\n",
       "   5 + 2 7 + 3 7  + 6 7  + 4 7  + 4 7  + 2 7  + 3 7  + 2 7   + O(7  )\n",
       "                                                        Type: PAdicInteger(7)\n"
      ]
     },
     "execution_count": 10,
     "metadata": {},
     "output_type": "execute_result"
    }
   ],
   "source": [
    "r5 : PADIC 7 := root(pp,5)"
   ]
  },
  {
   "cell_type": "code",
   "execution_count": 11,
   "metadata": {
    "collapsed": false
   },
   "outputs": [
    {
     "name": "stdout",
     "output_type": "stream",
     "text": [
      "  "
     ]
    },
    {
     "data": {
      "text/plain": [
       "                  2      3      4      5      6      7      8      9      10\n",
       "     6 + 6 7 + 6 7  + 6 7  + 6 7  + 6 7  + 6 7  + 6 7  + 6 7  + 6 7  + 6 7\n",
       "   + \n",
       "        11\n",
       "     O(7  )\n",
       "                                                        Type: PAdicInteger(7)\n"
      ]
     },
     "execution_count": 11,
     "metadata": {},
     "output_type": "execute_result"
    }
   ],
   "source": [
    "r6 : PADIC 7 := root(pp,6)"
   ]
  },
  {
   "cell_type": "code",
   "execution_count": 12,
   "metadata": {
    "collapsed": false
   },
   "outputs": [
    {
     "name": "stdout",
     "output_type": "stream",
     "text": [
      "  "
     ]
    },
    {
     "data": {
      "text/plain": [
       "      6      11  5      11  4      11  3      11  2      11                  2\n",
       "     x  + O(7  )x  + O(7  )x  + O(7  )x  + O(7  )x  + O(7  )x + 6 + 6 7 + 6 7\n",
       "   + \n",
       "        3      4      5      6      7      8      9      10      11\n",
       "     6 7  + 6 7  + 6 7  + 6 7  + 6 7  + 6 7  + 6 7  + 6 7   + O(7  )\n",
       "                                            Type: Polynomial(PAdicInteger(7))\n"
      ]
     },
     "execution_count": 12,
     "metadata": {},
     "output_type": "execute_result"
    }
   ],
   "source": [
    "(x - r1) * (x - r2) * (x - r3) * (x - r4) * (x - r5) * (x - r6)"
   ]
  },
  {
   "cell_type": "code",
   "execution_count": 13,
   "metadata": {
    "collapsed": false
   },
   "outputs": [
    {
     "data": {
      "text/plain": [
       "          11\n",
       "   1 + O(7  )\n",
       "                                                Type: BalancedPAdicInteger(7)\n"
      ]
     },
     "execution_count": 13,
     "metadata": {},
     "output_type": "execute_result"
    }
   ],
   "source": [
    "rr1 : BPADIC 7 := root(pp,1)"
   ]
  },
  {
   "cell_type": "code",
   "execution_count": 14,
   "metadata": {
    "collapsed": false
   },
   "outputs": [
    {
     "data": {
      "text/plain": [
       "                3    4      5    6      7      8      9      10      11\n",
       "   2 - 3 7 - 3 7  + 7  + 2 7  - 7  + 3 7  - 3 7  - 3 7  - 2 7   + O(7  )\n",
       "                                                Type: BalancedPAdicInteger(7)\n"
      ]
     },
     "execution_count": 14,
     "metadata": {},
     "output_type": "execute_result"
    }
   ],
   "source": [
    "rr2 : BPADIC 7 := root(pp,2)"
   ]
  },
  {
   "cell_type": "code",
   "execution_count": 15,
   "metadata": {
    "collapsed": false
   },
   "outputs": [
    {
     "data": {
      "text/plain": [
       "                3    4      5    6      7      8      9      10      11\n",
       "   3 - 3 7 - 3 7  + 7  + 2 7  - 7  + 3 7  - 3 7  - 3 7  - 2 7   + O(7  )\n",
       "                                                Type: BalancedPAdicInteger(7)\n"
      ]
     },
     "execution_count": 15,
     "metadata": {},
     "output_type": "execute_result"
    }
   ],
   "source": [
    "rr3 : BPADIC 7 := root(pp,3)"
   ]
  },
  {
   "cell_type": "code",
   "execution_count": 16,
   "metadata": {
    "collapsed": false
   },
   "outputs": [
    {
     "data": {
      "text/plain": [
       "                  3    4      5    6      7      8      9      10      11\n",
       "   - 3 + 3 7 + 3 7  - 7  - 2 7  + 7  - 3 7  + 3 7  + 3 7  + 2 7   + O(7  )\n",
       "                                                Type: BalancedPAdicInteger(7)\n"
      ]
     },
     "execution_count": 16,
     "metadata": {},
     "output_type": "execute_result"
    }
   ],
   "source": [
    "rr4 : BPADIC 7 := root(pp,4)"
   ]
  },
  {
   "cell_type": "code",
   "execution_count": 17,
   "metadata": {
    "collapsed": false
   },
   "outputs": [
    {
     "data": {
      "text/plain": [
       "                  3    4      5    6      7      8      9      10      11\n",
       "   - 2 + 3 7 + 3 7  - 7  - 2 7  + 7  - 3 7  + 3 7  + 3 7  + 2 7   + O(7  )\n",
       "                                                Type: BalancedPAdicInteger(7)\n"
      ]
     },
     "execution_count": 17,
     "metadata": {},
     "output_type": "execute_result"
    }
   ],
   "source": [
    "rr5 : BPADIC 7 := root(pp,5)"
   ]
  },
  {
   "cell_type": "code",
   "execution_count": 18,
   "metadata": {
    "collapsed": false
   },
   "outputs": [
    {
     "data": {
      "text/plain": [
       "            11\n",
       "   - 1 + O(7  )\n",
       "                                                Type: BalancedPAdicInteger(7)\n"
      ]
     },
     "execution_count": 18,
     "metadata": {},
     "output_type": "execute_result"
    }
   ],
   "source": [
    "rr6 : BPADIC 7 := root(pp,6)"
   ]
  },
  {
   "cell_type": "code",
   "execution_count": 19,
   "metadata": {
    "collapsed": false
   },
   "outputs": [
    {
     "data": {
      "text/plain": [
       "    6      11  5      11  4      11  3      11  2      11            11\n",
       "   x  + O(7  )x  + O(7  )x  + O(7  )x  + O(7  )x  + O(7  )x - 1 + O(7  )\n",
       "                                    Type: Polynomial(BalancedPAdicInteger(7))\n"
      ]
     },
     "execution_count": 19,
     "metadata": {},
     "output_type": "execute_result"
    }
   ],
   "source": [
    "(x - rr1) * (x - rr2) * (x - rr3) * (x - rr4) * (x - rr5) * (x - rr6)"
   ]
  },
  {
   "cell_type": "code",
   "execution_count": 20,
   "metadata": {
    "collapsed": false
   },
   "outputs": [
    {
     "data": {
      "text/plain": []
     },
     "execution_count": 20,
     "metadata": {},
     "output_type": "execute_result"
    }
   ],
   "source": [
    "--\n",
    "-- EOF\n",
    "--"
   ]
  }
 ],
 "metadata": {
  "kernelspec": {
   "display_name": "FriCAS",
   "language": "spad",
   "name": "ifricas"
  },
  "language_info": {
   "codemirror_mode": "spad",
   "mimetype": "text/x-spad",
   "name": "SPAD",
   "pygments_lexer": "spad",
   "version": "1.2.6"
  },
  "name": "padic.ipynb"
 },
 "nbformat": 4,
 "nbformat_minor": 0
}