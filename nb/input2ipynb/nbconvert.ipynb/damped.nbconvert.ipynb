{
 "cells": [
  {
   "cell_type": "markdown",
   "metadata": {},
   "source": [
    "Copyright The Numerical Algorithms Group Limited 1994.\n",
    " Input file to solve linear second order differential equations\n",
    " with driving force A*cos(wt).\n"
   ]
  },
  {
   "cell_type": "markdown",
   "metadata": {},
   "source": [
    " The equation is solved at y(0)=y'(0)=0 for\n",
    "    (i)   an overdamped, forced motion example  c^2-4*k*m > 0\n",
    "    (ii)  critically damped                     c^2-4*k*m = 0\n",
    "    (iii) underdamped                           c^2-4*k*m < 0\n"
   ]
  },
  {
   "cell_type": "markdown",
   "metadata": {},
   "source": [
    " The resulting equations are then plotted.\n"
   ]
  },
  {
   "cell_type": "code",
   "execution_count": 0,
   "metadata": {
    "collapsed": false
   },
   "outputs": [
    {
     "name": "stdout",
     "output_type": "stream",
     "text": [
      "   All user variables and function definitions have been cleared.\n"
     ]
    },
    {
     "data": {
      "text/plain": []
     },
     "execution_count": 0,
     "metadata": {},
     "output_type": "execute_result"
    }
   ],
   "source": [
    ")clear all"
   ]
  },
  {
   "cell_type": "code",
   "execution_count": 1,
   "metadata": {
    "collapsed": false
   },
   "outputs": [
    {
     "name": "stdout",
     "output_type": "stream",
     "text": [
      "Warning: HyperTeX macro table not found\n"
     ]
    },
    {
     "data": {
      "text/plain": [
       "   y\n",
       "                                                          Type: BasicOperator\n"
      ]
     },
     "execution_count": 1,
     "metadata": {},
     "output_type": "execute_result"
    }
   ],
   "source": [
    "y := operator y"
   ]
  },
  {
   "cell_type": "code",
   "execution_count": 2,
   "metadata": {
    "collapsed": false
   },
   "outputs": [
    {
     "data": {
      "text/plain": [
       "     ,,        ,\n",
       "   my  (x) + cy (x) + k y(x)= A cos(w x)\n",
       "\n",
       "                                          Type: Equation(Expression(Integer))\n"
      ]
     },
     "execution_count": 2,
     "metadata": {},
     "output_type": "execute_result"
    }
   ],
   "source": [
    "deq := m*D(y x, x, 2) + c*D(y x, x) + k*(y x) = A * cos (w * x)"
   ]
  },
  {
   "cell_type": "code",
   "execution_count": 3,
   "metadata": {
    "collapsed": false
   },
   "outputs": [
    {
     "name": "stdout",
     "output_type": "stream",
     "text": [
      "                      "
     ]
    },
    {
     "data": {
      "text/plain": [
       "                           +-----------+\n",
       "                           |          2\n",
       "              2 2          |- 4k m + c            2\n",
       "         ((A m w  - A k m) |-----------  - A c m w  - A c k)\n",
       "                           |      2\n",
       "                          \\|     m\n",
       "      *\n",
       "               +-----------+\n",
       "               |          2\n",
       "               |- 4k m + c\n",
       "           m x |-----------  - c x\n",
       "               |      2\n",
       "              \\|     m\n",
       "           -----------------------\n",
       "                      2m\n",
       "         %e\n",
       "     + \n",
       "                           +-----------+\n",
       "                           |          2\n",
       "              2 2          |- 4k m + c            2\n",
       "         ((A m w  - A k m) |-----------  + A c m w  + A c k)\n",
       "                           |      2\n",
       "                          \\|     m\n",
       "      *\n",
       "                 +-----------+\n",
       "                 |          2\n",
       "                 |- 4k m + c\n",
       "           - m x |-----------  - c x\n",
       "                 |      2\n",
       "                \\|     m\n",
       "           -------------------------\n",
       "                       2m\n",
       "         %e\n",
       "     + \n",
       "                                                          +-----------+\n",
       "                                                          |          2\n",
       "                                   2 2                    |- 4k m + c\n",
       "       (2A c m w sin(w x) + (- 2A m w  + 2A k m)cos(w x)) |-----------\n",
       "                                                          |      2\n",
       "                                                         \\|     m\n",
       "  /\n",
       "                                         +-----------+\n",
       "                                         |          2\n",
       "        3 4          2     2   2     2   |- 4k m + c\n",
       "     (2m w  + (- 4k m  + 2c m)w  + 2k m) |-----------\n",
       "                                         |      2\n",
       "                                        \\|     m\n",
       "                                         Type: Union(Expression(Integer),...)\n"
      ]
     },
     "execution_count": 3,
     "metadata": {},
     "output_type": "execute_result"
    }
   ],
   "source": [
    "solve(deq, y, x=0, [0,0])                     -- takes a few minutes"
   ]
  },
  {
   "cell_type": "code",
   "execution_count": 4,
   "metadata": {
    "collapsed": false
   },
   "outputs": [
    {
     "name": "stdout",
     "output_type": "stream",
     "text": [
      "                      "
     ]
    },
    {
     "data": {
      "text/plain": [
       "                           +-----------+\n",
       "                           |          2\n",
       "              2 2          |- 4k m + c            2\n",
       "         ((A m w  - A k m) |-----------  - A c m w  - A c k)\n",
       "                           |      2\n",
       "                          \\|     m\n",
       "      *\n",
       "               +-----------+\n",
       "               |          2\n",
       "               |- 4k m + c\n",
       "           m x |-----------  - c x\n",
       "               |      2\n",
       "              \\|     m\n",
       "           -----------------------\n",
       "                      2m\n",
       "         %e\n",
       "     + \n",
       "                           +-----------+\n",
       "                           |          2\n",
       "              2 2          |- 4k m + c            2\n",
       "         ((A m w  - A k m) |-----------  + A c m w  + A c k)\n",
       "                           |      2\n",
       "                          \\|     m\n",
       "      *\n",
       "                 +-----------+\n",
       "                 |          2\n",
       "                 |- 4k m + c\n",
       "           - m x |-----------  - c x\n",
       "                 |      2\n",
       "                \\|     m\n",
       "           -------------------------\n",
       "                       2m\n",
       "         %e\n",
       "     + \n",
       "                                                          +-----------+\n",
       "                                                          |          2\n",
       "                                   2 2                    |- 4k m + c\n",
       "       (2A c m w sin(w x) + (- 2A m w  + 2A k m)cos(w x)) |-----------\n",
       "                                                          |      2\n",
       "                                                         \\|     m\n",
       "  /\n",
       "                                         +-----------+\n",
       "                                         |          2\n",
       "        3 4          2     2   2     2   |- 4k m + c\n",
       "     (2m w  + (- 4k m  + 2c m)w  + 2k m) |-----------\n",
       "                                         |      2\n",
       "                                        \\|     m\n",
       "                                         Type: Union(Expression(Integer),...)\n"
      ]
     },
     "execution_count": 4,
     "metadata": {},
     "output_type": "execute_result"
    }
   ],
   "source": [
    "ex:=%"
   ]
  },
  {
   "cell_type": "code",
   "execution_count": 5,
   "metadata": {
    "collapsed": false
   },
   "outputs": [
    {
     "data": {
      "text/plain": [
       "          +-+     +-+  - x    +-+  - 5x\n",
       "   4sin(x\\|5 ) - \\|5 %e    + \\|5 %e\n",
       "   ------------------------------------\n",
       "                     4\n",
       "                                                    Type: Expression(Integer)\n"
      ]
     },
     "execution_count": 5,
     "metadata": {},
     "output_type": "execute_result"
    }
   ],
   "source": [
    "eval(%, [c=6,k=5,m=1,A=6*sqrt(5),w=sqrt(5)])  -- c^2-4*k*m = 16"
   ]
  },
  {
   "cell_type": "code",
   "execution_count": 6,
   "metadata": {
    "collapsed": false
   },
   "outputs": [
    {
     "name": "stdout",
     "output_type": "stream",
     "text": [
      "   Compiling function %S with type DoubleFloat -> DoubleFloat \n",
      "   Graph data being transmitted to the viewport manager...\n",
      "   FriCAS2D data being transmitted to the viewport manager...\n"
     ]
    },
    {
     "data": {
      "text/plain": [
       "   TwoDimensionalViewport: \"Overdamping\"\n",
       "                                                 Type: TwoDimensionalViewport\n"
      ]
     },
     "execution_count": 6,
     "metadata": {},
     "output_type": "execute_result"
    }
   ],
   "source": [
    "draw(%,x=0..15,title==\"Overdamping\")"
   ]
  },
  {
   "cell_type": "code",
   "execution_count": 7,
   "metadata": {
    "collapsed": false
   },
   "outputs": [
    {
     "name": "stdout",
     "output_type": "stream",
     "text": [
      "      "
     ]
    },
    {
     "data": {
      "text/plain": [
       "                  +-------+                    +-------+\n",
       "                  | 2                          | 2\n",
       "                x\\|c  - 20  - c x          - x\\|c  - 20  - c x\n",
       "                -----------------          -------------------\n",
       "           +-+          2             +-+           2\n",
       "       - 6\\|5 %e                  + 6\\|5 %e\n",
       "     + \n",
       "                   +-------+\n",
       "              +-+  | 2\n",
       "       6sin(x\\|5 )\\|c  - 20\n",
       "  /\n",
       "       +-------+\n",
       "       | 2\n",
       "     c\\|c  - 20\n",
       "                                                    Type: Expression(Integer)\n"
      ]
     },
     "execution_count": 7,
     "metadata": {},
     "output_type": "execute_result"
    }
   ],
   "source": [
    "eval(ex, [k=5,m=1,A=6*sqrt(5),w=sqrt(5)])     -- c^2-4*k*m = 0"
   ]
  },
  {
   "cell_type": "code",
   "execution_count": 8,
   "metadata": {
    "collapsed": false
   },
   "outputs": [
    {
     "data": {
      "text/plain": [
       "                 +-+      +-+ 2          +-+                +-+\n",
       "        +-+  - x\\|5     x\\|5           x\\|5        +-+  - x\\|5\n",
       "   - 3x\\|5 %e       tan(-----)  + 6tan(-----) - 3x\\|5 %e\n",
       "                          2              2\n",
       "   ------------------------------------------------------------\n",
       "                                +-+ 2\n",
       "                       +-+    x\\|5       +-+\n",
       "                      \\|5 tan(-----)  + \\|5\n",
       "                                2\n",
       "                      Type: Union(OrderedCompletion(Expression(Integer)),...)\n"
      ]
     },
     "execution_count": 8,
     "metadata": {},
     "output_type": "execute_result"
    }
   ],
   "source": [
    "limit(%,c=sqrt(20),\"right\")                   -- otherwise division by zero"
   ]
  },
  {
   "cell_type": "code",
   "execution_count": 9,
   "metadata": {
    "collapsed": false
   },
   "outputs": [
    {
     "name": "stdout",
     "output_type": "stream",
     "text": [
      "   Compiling function %W with type DoubleFloat -> DoubleFloat \n",
      "   Graph data being transmitted to the viewport manager...\n",
      "   FriCAS2D data being transmitted to the viewport manager...\n"
     ]
    },
    {
     "data": {
      "text/plain": [
       "   TwoDimensionalViewport: \"Critically Damped\"\n",
       "                                                 Type: TwoDimensionalViewport\n"
      ]
     },
     "execution_count": 9,
     "metadata": {},
     "output_type": "execute_result"
    }
   ],
   "source": [
    "draw(%,x=0..15,title==\"Critically Damped\")"
   ]
  },
  {
   "cell_type": "code",
   "execution_count": 10,
   "metadata": {
    "collapsed": false
   },
   "outputs": [
    {
     "data": {
      "text/plain": [
       "                                  +---+                   +---+\n",
       "      +---+      +-+      +-+  2x\\|- 1  - x     +-+  - 2x\\|- 1  - x\n",
       "   12\\|- 1 sin(x\\|5 ) - 3\\|5 %e             + 3\\|5 %e\n",
       "   ----------------------------------------------------------------\n",
       "                                  +---+\n",
       "                                4\\|- 1\n",
       "                                                    Type: Expression(Integer)\n"
      ]
     },
     "execution_count": 10,
     "metadata": {},
     "output_type": "execute_result"
    }
   ],
   "source": [
    "eval(ex, [c=2,k=5,m=1,A=6*sqrt(5),w=sqrt(5)]) -- c^2-4*k*m = -16"
   ]
  },
  {
   "cell_type": "code",
   "execution_count": 11,
   "metadata": {
    "collapsed": false
   },
   "outputs": [
    {
     "data": {
      "text/plain": [
       "          +-+      +-+  - x\n",
       "   6sin(x\\|5 ) - 3\\|5 %e   sin(2x)\n",
       "   -------------------------------\n",
       "                  2\n",
       "                                                    Type: Expression(Integer)\n"
      ]
     },
     "execution_count": 11,
     "metadata": {},
     "output_type": "execute_result"
    }
   ],
   "source": [
    "trigs %"
   ]
  },
  {
   "cell_type": "code",
   "execution_count": 12,
   "metadata": {
    "collapsed": false
   },
   "outputs": [
    {
     "data": {
      "text/plain": [
       "   - %X sin(x) == - %X sin(x)\n",
       "                       Type: RewriteRule(Integer,Integer,Expression(Integer))\n"
      ]
     },
     "execution_count": 12,
     "metadata": {},
     "output_type": "execute_result"
    }
   ],
   "source": [
    "rule1 := rule sin(-x) == - sin(x)"
   ]
  },
  {
   "cell_type": "code",
   "execution_count": 13,
   "metadata": {
    "collapsed": false
   },
   "outputs": [
    {
     "data": {
      "text/plain": [
       "   cos(x) == cos(x)\n",
       "                       Type: RewriteRule(Integer,Integer,Expression(Integer))\n"
      ]
     },
     "execution_count": 13,
     "metadata": {},
     "output_type": "execute_result"
    }
   ],
   "source": [
    "rule2 := rule cos(-x) ==   cos(x)"
   ]
  },
  {
   "cell_type": "code",
   "execution_count": 14,
   "metadata": {
    "collapsed": false
   },
   "outputs": [
    {
     "name": "stderr",
     "output_type": "stream",
     "text": [
      "SIMPLE-TYPE-ERROR: \n",
      "Argument X is not a NUMBER: NIL\n"
     ]
    },
    {
     "data": {
      "text/plain": []
     },
     "execution_count": 14,
     "metadata": {},
     "output_type": "execute_result"
    }
   ],
   "source": [
    "rule2 rule1 %% (-3)"
   ]
  },
  {
   "cell_type": "code",
   "execution_count": 15,
   "metadata": {
    "collapsed": false
   },
   "outputs": [
    {
     "name": "stderr",
     "output_type": "stream",
     "text": [
      "   There are 14 exposed and 0 unexposed library operations named draw \n",
      "      having 3 argument(s) but none was determined to be applicable. \n",
      "      Use HyperDoc Browse, or issue\n",
      "                              )display op draw\n",
      "      to learn more about the available operations. Perhaps \n",
      "      package-calling the operation or using coercions on the arguments\n",
      "      will allow you to apply the operation.\n",
      " \n",
      "   Cannot find a definition or applicable library operation named draw \n",
      "      with argument type(s) \n",
      "              RewriteRule(Integer,Integer,Expression(Integer))\n",
      "                     SegmentBinding(NonNegativeInteger)\n",
      "                              List(DrawOption)\n",
      "      \n",
      "      Perhaps you should use \"@\" to indicate the required return type, \n",
      "      or \"$\" to specify which version of the function you need.\n",
      "\n"
     ]
    },
    {
     "data": {
      "text/plain": [
       "error\n"
      ]
     },
     "execution_count": 15,
     "metadata": {},
     "output_type": "execute_result"
    }
   ],
   "source": [
    "draw(%,x=0..15,title==\"Underdamped\")"
   ]
  },
  {
   "cell_type": "code",
   "execution_count": 16,
   "metadata": {
    "collapsed": false
   },
   "outputs": [
    {
     "data": {
      "text/plain": []
     },
     "execution_count": 16,
     "metadata": {},
     "output_type": "execute_result"
    }
   ],
   "source": [
    "--\n",
    "-- EOF\n",
    "--"
   ]
  }
 ],
 "metadata": {
  "kernelspec": {
   "display_name": "FriCAS",
   "language": "spad",
   "name": "ifricas"
  },
  "language_info": {
   "codemirror_mode": "spad",
   "mimetype": "text/x-spad",
   "name": "SPAD",
   "pygments_lexer": "spad",
   "version": "1.2.6"
  },
  "name": "damped.ipynb"
 },
 "nbformat": 4,
 "nbformat_minor": 0
}