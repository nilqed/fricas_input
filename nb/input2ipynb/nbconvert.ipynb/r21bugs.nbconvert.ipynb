{
 "cells": [
  {
   "cell_type": "code",
   "execution_count": 0,
   "metadata": {
    "collapsed": false
   },
   "outputs": [
    {
     "data": {
      "text/plain": []
     },
     "execution_count": 0,
     "metadata": {},
     "output_type": "execute_result"
    }
   ],
   "source": [
    ")set break resume"
   ]
  },
  {
   "cell_type": "markdown",
   "metadata": {},
   "source": [
    "Copyright The Numerical Algorithms Group Limited 1996.\n"
   ]
  },
  {
   "cell_type": "markdown",
   "metadata": {},
   "source": [
    " This file tests bugs fixed since release 2.1.\n",
    " Mike Dewar 19-11-96\n"
   ]
  },
  {
   "cell_type": "code",
   "execution_count": 1,
   "metadata": {
    "collapsed": false
   },
   "outputs": [
    {
     "name": "stdout",
     "output_type": "stream",
     "text": [
      "   All user variables and function definitions have been cleared.\n",
      "   All )browse facility databases have been cleared.\n",
      "   Internally cached functions and constructors have been cleared.\n",
      "   )clear completely is finished.\n"
     ]
    },
    {
     "data": {
      "text/plain": []
     },
     "execution_count": 1,
     "metadata": {},
     "output_type": "execute_result"
    }
   ],
   "source": [
    ")clear completely"
   ]
  },
  {
   "cell_type": "markdown",
   "metadata": {},
   "source": [
    " This bug, spotted by Claude Quitte, meant that we generated incorrect\n",
    " expressions for Chebyshev polynomials of the second kind, so that they\n",
    " did not satisfy the recurrence relation:\n",
    "  U_n(x) - x U_{n-1}(x) = T_n(x)\n"
   ]
  },
  {
   "cell_type": "code",
   "execution_count": 2,
   "metadata": {
    "collapsed": false
   },
   "outputs": [
    {
     "name": "stdout",
     "output_type": "stream",
     "text": [
      "   PolynomialNumberTheoryFunctions is now explicitly exposed in frame \n",
      "      initial \n"
     ]
    },
    {
     "data": {
      "text/plain": []
     },
     "execution_count": 2,
     "metadata": {},
     "output_type": "execute_result"
    }
   ],
   "source": [
    ")set expose add constructor PolynomialNumberTheoryFunctions"
   ]
  },
  {
   "cell_type": "code",
   "execution_count": 3,
   "metadata": {
    "collapsed": false
   },
   "outputs": [
    {
     "data": {
      "text/plain": [
       "   x\n",
       "                                        Type: UnivariatePolynomial(x,Integer)\n"
      ]
     },
     "execution_count": 3,
     "metadata": {},
     "output_type": "execute_result"
    }
   ],
   "source": [
    "X : UP('x, Integer) := x"
   ]
  },
  {
   "cell_type": "code",
   "execution_count": 4,
   "metadata": {
    "collapsed": false
   },
   "outputs": [
    {
     "name": "stdout",
     "output_type": "stream",
     "text": [
      "Warning: HyperTeX macro table not found\n"
     ]
    },
    {
     "data": {
      "text/plain": [
       "   [0,0,0,0,0,0,0,0,0,0,...]\n",
       "                            Type: Stream(SparseUnivariatePolynomial(Integer))\n"
      ]
     },
     "execution_count": 4,
     "metadata": {},
     "output_type": "execute_result"
    }
   ],
   "source": [
    "[chebyshevU(n) - X*chebyshevU(n-1) - chebyshevT(n) for n in 1 .. ]"
   ]
  },
  {
   "cell_type": "code",
   "execution_count": 5,
   "metadata": {
    "collapsed": false
   },
   "outputs": [
    {
     "name": "stdout",
     "output_type": "stream",
     "text": [
      "   All user variables and function definitions have been cleared.\n",
      "   All )browse facility databases have been cleared.\n",
      "   Internally cached functions and constructors have been cleared.\n",
      "   )clear completely is finished.\n"
     ]
    },
    {
     "data": {
      "text/plain": []
     },
     "execution_count": 5,
     "metadata": {},
     "output_type": "execute_result"
    }
   ],
   "source": [
    ")clear completely"
   ]
  },
  {
   "cell_type": "code",
   "execution_count": 6,
   "metadata": {
    "collapsed": false
   },
   "outputs": [
    {
     "data": {
      "text/plain": [
       "   PrimeField(2)\n",
       "                                                                   Type: Type\n"
      ]
     },
     "execution_count": 6,
     "metadata": {},
     "output_type": "execute_result"
    }
   ],
   "source": [
    "Fp:=PF 2"
   ]
  },
  {
   "cell_type": "code",
   "execution_count": 7,
   "metadata": {
    "collapsed": false
   },
   "outputs": [
    {
     "data": {
      "text/plain": [
       "    4\n",
       "   ?  + ? + 1\n",
       "                              Type: SparseUnivariatePolynomial(PrimeField(2))\n"
      ]
     },
     "execution_count": 7,
     "metadata": {},
     "output_type": "execute_result"
    }
   ],
   "source": [
    "poly:=createIrreduciblePoly(4)$FFPOLY(Fp)"
   ]
  },
  {
   "cell_type": "code",
   "execution_count": 8,
   "metadata": {
    "collapsed": false
   },
   "outputs": [
    {
     "data": {
      "text/plain": [
       "   FiniteFieldExtensionByPolynomial(PrimeField(2),?^4+?+1)\n",
       "                                                                   Type: Type\n"
      ]
     },
     "execution_count": 8,
     "metadata": {},
     "output_type": "execute_result"
    }
   ],
   "source": [
    "Fq:=FFP(Fp, poly)    -- Field with 16 elements"
   ]
  },
  {
   "cell_type": "code",
   "execution_count": 9,
   "metadata": {
    "collapsed": false
   },
   "outputs": [
    {
     "data": {
      "text/plain": [
       "  DistributedMultivariatePolynomial([X,Y,Z],FiniteFieldExtensionByPolynomial(Pr\n",
       "  imeField(2),?^4+?+1))\n",
       "                                                                   Type: Type\n"
      ]
     },
     "execution_count": 9,
     "metadata": {},
     "output_type": "execute_result"
    }
   ],
   "source": [
    "R:=DMP([X,Y,Z],Fq)"
   ]
  },
  {
   "cell_type": "code",
   "execution_count": 10,
   "metadata": {
    "collapsed": false
   },
   "outputs": [
    {
     "data": {
      "text/plain": [
       "  Fraction(DistributedMultivariatePolynomial([X,Y,Z],FiniteFieldExtensionByPoly\n",
       "  nomial(PrimeField(2),?^4+?+1)))\n",
       "                                                                   Type: Type\n"
      ]
     },
     "execution_count": 10,
     "metadata": {},
     "output_type": "execute_result"
    }
   ],
   "source": [
    "Q:=FRAC R"
   ]
  },
  {
   "cell_type": "code",
   "execution_count": 11,
   "metadata": {
    "collapsed": false
   },
   "outputs": [
    {
     "data": {
      "text/plain": [
       "      3    4\n",
       "   X Z  + X\n",
       "                                                    Type: Polynomial(Integer)\n"
      ]
     },
     "execution_count": 11,
     "metadata": {},
     "output_type": "execute_result"
    }
   ],
   "source": [
    "F:=X^4+X*Z^3"
   ]
  },
  {
   "cell_type": "code",
   "execution_count": 12,
   "metadata": {
    "collapsed": false
   },
   "outputs": [
    {
     "data": {
      "text/plain": [
       "    4    2 2    4\n",
       "   Z  + X Y  + X\n",
       "                                                    Type: Polynomial(Integer)\n"
      ]
     },
     "execution_count": 12,
     "metadata": {},
     "output_type": "execute_result"
    }
   ],
   "source": [
    "G:=X^4+X^2*Y^2+Z^4"
   ]
  },
  {
   "cell_type": "code",
   "execution_count": 13,
   "metadata": {
    "collapsed": false
   },
   "outputs": [
    {
     "data": {
      "text/plain": [
       "       4      3\n",
       "      X  + X Z\n",
       "   --------------\n",
       "    4    2 2    4\n",
       "   X  + X Y  + Z\n",
       "Type: Fraction(DistributedMultivariatePolynomial([X,Y,Z],FiniteFieldExtensionByPolynomial(PrimeField(2),?^4+?+1)))\n"
      ]
     },
     "execution_count": 13,
     "metadata": {},
     "output_type": "execute_result"
    }
   ],
   "source": [
    "h:Q:=F/G"
   ]
  },
  {
   "cell_type": "code",
   "execution_count": 14,
   "metadata": {
    "collapsed": false
   },
   "outputs": [
    {
     "name": "stdout",
     "output_type": "stream",
     "text": [
      "   All user variables and function definitions have been cleared.\n",
      "   All )browse facility databases have been cleared.\n",
      "   Internally cached functions and constructors have been cleared.\n",
      "   )clear completely is finished.\n"
     ]
    },
    {
     "data": {
      "text/plain": []
     },
     "execution_count": 14,
     "metadata": {},
     "output_type": "execute_result"
    }
   ],
   "source": [
    ")clear completely"
   ]
  },
  {
   "cell_type": "code",
   "execution_count": 15,
   "metadata": {
    "collapsed": false
   },
   "outputs": [
    {
     "data": {
      "text/plain": [
       "     2    2  4 15\n",
       "   (e  + c d) c\n",
       "                                    Type: Factored(Polynomial(PrimeField(2)))\n"
      ]
     },
     "execution_count": 15,
     "metadata": {},
     "output_type": "execute_result"
    }
   ],
   "source": [
    "squareFree ((c^15*e^8+c^23*d^4)::POLY PF 2)"
   ]
  },
  {
   "cell_type": "code",
   "execution_count": 16,
   "metadata": {
    "collapsed": false
   },
   "outputs": [
    {
     "name": "stdout",
     "output_type": "stream",
     "text": [
      "   All user variables and function definitions have been cleared.\n",
      "   All )browse facility databases have been cleared.\n",
      "   Internally cached functions and constructors have been cleared.\n",
      "   )clear completely is finished.\n"
     ]
    },
    {
     "data": {
      "text/plain": []
     },
     "execution_count": 16,
     "metadata": {},
     "output_type": "execute_result"
    }
   ],
   "source": [
    ")clear completely"
   ]
  },
  {
   "cell_type": "code",
   "execution_count": 17,
   "metadata": {
    "collapsed": false
   },
   "outputs": [
    {
     "data": {
      "text/plain": [
       "   FiniteFieldExtensionByPolynomial(FiniteField(3,3),?^3+2*?^2+1)\n",
       "                                                                   Type: Type\n"
      ]
     },
     "execution_count": 17,
     "metadata": {},
     "output_type": "execute_result"
    }
   ],
   "source": [
    "FiniteFieldExtensionByPolynomial(FF(3,3),1+2*x^2+x^3)"
   ]
  },
  {
   "cell_type": "code",
   "execution_count": 18,
   "metadata": {
    "collapsed": false
   },
   "outputs": [
    {
     "name": "stdout",
     "output_type": "stream",
     "text": [
      "   All user variables and function definitions have been cleared.\n",
      "   All )browse facility databases have been cleared.\n",
      "   Internally cached functions and constructors have been cleared.\n",
      "   )clear completely is finished.\n"
     ]
    },
    {
     "data": {
      "text/plain": []
     },
     "execution_count": 18,
     "metadata": {},
     "output_type": "execute_result"
    }
   ],
   "source": [
    ")clear completely"
   ]
  },
  {
   "cell_type": "code",
   "execution_count": 19,
   "metadata": {
    "collapsed": false
   },
   "outputs": [
    {
     "data": {
      "text/plain": [
       "   true\n",
       "                                                                Type: Boolean\n"
      ]
     },
     "execution_count": 19,
     "metadata": {},
     "output_type": "execute_result"
    }
   ],
   "source": [
    "Field has Ring"
   ]
  },
  {
   "cell_type": "code",
   "execution_count": 20,
   "metadata": {
    "collapsed": false
   },
   "outputs": [
    {
     "name": "stdout",
     "output_type": "stream",
     "text": [
      "   All user variables and function definitions have been cleared.\n",
      "   All )browse facility databases have been cleared.\n",
      "   Internally cached functions and constructors have been cleared.\n",
      "   )clear completely is finished.\n"
     ]
    },
    {
     "data": {
      "text/plain": []
     },
     "execution_count": 20,
     "metadata": {},
     "output_type": "execute_result"
    }
   ],
   "source": [
    ")clear completely"
   ]
  },
  {
   "cell_type": "markdown",
   "metadata": {},
   "source": [
    " from bmt\n"
   ]
  },
  {
   "cell_type": "code",
   "execution_count": 21,
   "metadata": {
    "collapsed": false
   },
   "outputs": [
    {
     "data": {
      "text/plain": [
       "   y\n",
       "                                                          Type: BasicOperator\n"
      ]
     },
     "execution_count": 21,
     "metadata": {},
     "output_type": "execute_result"
    }
   ],
   "source": [
    "y:=operator y"
   ]
  },
  {
   "cell_type": "code",
   "execution_count": 22,
   "metadata": {
    "collapsed": false
   },
   "outputs": [
    {
     "data": {
      "text/plain": [
       "   u\n",
       "                                                          Type: BasicOperator\n"
      ]
     },
     "execution_count": 22,
     "metadata": {},
     "output_type": "execute_result"
    }
   ],
   "source": [
    "u:=operator u"
   ]
  },
  {
   "cell_type": "code",
   "execution_count": 23,
   "metadata": {
    "collapsed": false
   },
   "outputs": [
    {
     "name": "stdout",
     "output_type": "stream",
     "text": [
      "   Compiling function %B with type Expression(Integer) -> Expression(\n",
      "      Integer) \n"
     ]
    },
    {
     "data": {
      "text/plain": [
       "   c x\n",
       "    1\n",
       "                                                    Type: Expression(Integer)\n"
      ]
     },
     "execution_count": 23,
     "metadata": {},
     "output_type": "execute_result"
    }
   ],
   "source": [
    "eval(y x, y, c[1]*x,x)"
   ]
  },
  {
   "cell_type": "code",
   "execution_count": 24,
   "metadata": {
    "collapsed": false
   },
   "outputs": [
    {
     "name": "stdout",
     "output_type": "stream",
     "text": [
      "   Compiling function %D with type Expression(Integer) -> Expression(\n",
      "      Integer) \n"
     ]
    },
    {
     "data": {
      "text/plain": [
       "    ,\n",
       "   u (x)\n",
       "\n",
       "                                                    Type: Expression(Integer)\n"
      ]
     },
     "execution_count": 24,
     "metadata": {},
     "output_type": "execute_result"
    }
   ],
   "source": [
    "eval(y x, y, D(u t,t),t)"
   ]
  },
  {
   "cell_type": "code",
   "execution_count": 25,
   "metadata": {
    "collapsed": false
   },
   "outputs": [
    {
     "name": "stdout",
     "output_type": "stream",
     "text": [
      "   Compiling function %H with type Expression(Integer) -> Expression(\n",
      "      Integer) \n"
     ]
    },
    {
     "data": {
      "text/plain": [
       "      x\n",
       "    ++\n",
       "    |   u(%G)d%G\n",
       "   ++\n",
       "                                                    Type: Expression(Integer)\n"
      ]
     },
     "execution_count": 25,
     "metadata": {},
     "output_type": "execute_result"
    }
   ],
   "source": [
    "eval(y x ,y, integral(u t,t),t)"
   ]
  },
  {
   "cell_type": "code",
   "execution_count": 26,
   "metadata": {
    "collapsed": false
   },
   "outputs": [
    {
     "name": "stdout",
     "output_type": "stream",
     "text": [
      "   Compiling function %I with type Expression(Integer) -> Expression(\n",
      "      Integer) \n"
     ]
    },
    {
     "data": {
      "text/plain": [
       "      x\n",
       "    ++\n",
       "    |   u(z)dz\n",
       "   ++\n",
       "   z0\n",
       "                                                    Type: Expression(Integer)\n"
      ]
     },
     "execution_count": 26,
     "metadata": {},
     "output_type": "execute_result"
    }
   ],
   "source": [
    "eval(y x ,y, integral(u z,z=z0..t),t)"
   ]
  },
  {
   "cell_type": "code",
   "execution_count": 27,
   "metadata": {
    "collapsed": false
   },
   "outputs": [
    {
     "name": "stdout",
     "output_type": "stream",
     "text": [
      "   Compiling function %L with type Expression(Integer) -> Expression(\n",
      "      Integer) \n"
     ]
    },
    {
     "data": {
      "text/plain": [
       "    ,,        ,\n",
       "   u  (x) + 2u (x) + u(x)\n",
       "\n",
       "                                                    Type: Expression(Integer)\n"
      ]
     },
     "execution_count": 27,
     "metadata": {},
     "output_type": "execute_result"
    }
   ],
   "source": [
    "eval(y x+D(y x,x), y, u t+ D(u t,t),t)"
   ]
  },
  {
   "cell_type": "code",
   "execution_count": 28,
   "metadata": {
    "collapsed": false
   },
   "outputs": [
    {
     "name": "stdout",
     "output_type": "stream",
     "text": [
      "   Compiling function %V with type Expression(Integer) -> Expression(\n",
      "      Integer) \n"
     ]
    },
    {
     "data": {
      "text/plain": [
       "    ,,        ,\n",
       "   u  (x) + 2u (x) + u(x)\n",
       "\n",
       "                                                    Type: Expression(Integer)\n"
      ]
     },
     "execution_count": 28,
     "metadata": {},
     "output_type": "execute_result"
    }
   ],
   "source": [
    "eval(D(y x,x)+y(x),y,D(u x,x)+u(x),x)"
   ]
  },
  {
   "cell_type": "code",
   "execution_count": 29,
   "metadata": {
    "collapsed": false
   },
   "outputs": [
    {
     "name": "stdout",
     "output_type": "stream",
     "text": [
      "   All user variables and function definitions have been cleared.\n",
      "   All )browse facility databases have been cleared.\n",
      "   Internally cached functions and constructors have been cleared.\n",
      "   )clear completely is finished.\n"
     ]
    },
    {
     "data": {
      "text/plain": []
     },
     "execution_count": 29,
     "metadata": {},
     "output_type": "execute_result"
    }
   ],
   "source": [
    ")clear completely"
   ]
  },
  {
   "cell_type": "markdown",
   "metadata": {},
   "source": [
    " from bmt\n"
   ]
  },
  {
   "cell_type": "code",
   "execution_count": 30,
   "metadata": {
    "collapsed": false
   },
   "outputs": [
    {
     "data": {
      "text/plain": [
       "   x\n",
       "                                        Type: TaylorSeries(Fraction(Integer))\n"
      ]
     },
     "execution_count": 30,
     "metadata": {},
     "output_type": "execute_result"
    }
   ],
   "source": [
    "ps:=x::TS FRAC INT"
   ]
  },
  {
   "cell_type": "code",
   "execution_count": 31,
   "metadata": {
    "collapsed": false
   },
   "outputs": [
    {
     "data": {
      "text/plain": [
       "   1\n",
       "                                        Type: TaylorSeries(Fraction(Integer))\n"
      ]
     },
     "execution_count": 31,
     "metadata": {},
     "output_type": "execute_result"
    }
   ],
   "source": [
    "D(ps,x) -- fails to find function"
   ]
  },
  {
   "cell_type": "code",
   "execution_count": 32,
   "metadata": {
    "collapsed": false
   },
   "outputs": [
    {
     "data": {
      "text/plain": [
       "   1\n",
       "                                        Type: TaylorSeries(Fraction(Integer))\n"
      ]
     },
     "execution_count": 32,
     "metadata": {},
     "output_type": "execute_result"
    }
   ],
   "source": [
    "D(ps,[x]) -- works"
   ]
  },
  {
   "cell_type": "code",
   "execution_count": 33,
   "metadata": {
    "collapsed": false
   },
   "outputs": [
    {
     "data": {
      "text/plain": [
       "   0\n",
       "                                        Type: TaylorSeries(Fraction(Integer))\n"
      ]
     },
     "execution_count": 33,
     "metadata": {},
     "output_type": "execute_result"
    }
   ],
   "source": [
    "D(ps,[y]) -- causes ccl to disappear (at least under windows)"
   ]
  },
  {
   "cell_type": "code",
   "execution_count": 34,
   "metadata": {
    "collapsed": false
   },
   "outputs": [
    {
     "name": "stdout",
     "output_type": "stream",
     "text": [
      "   All user variables and function definitions have been cleared.\n",
      "   All )browse facility databases have been cleared.\n",
      "   Internally cached functions and constructors have been cleared.\n",
      "   )clear completely is finished.\n"
     ]
    },
    {
     "data": {
      "text/plain": []
     },
     "execution_count": 34,
     "metadata": {},
     "output_type": "execute_result"
    }
   ],
   "source": [
    ")clear completely"
   ]
  },
  {
   "cell_type": "markdown",
   "metadata": {},
   "source": [
    " from bmt\n"
   ]
  },
  {
   "cell_type": "code",
   "execution_count": 35,
   "metadata": {
    "collapsed": false
   },
   "outputs": [
    {
     "data": {
      "text/plain": [
       "   3\n",
       "                                                        Type: PositiveInteger\n"
      ]
     },
     "execution_count": 35,
     "metadata": {},
     "output_type": "execute_result"
    }
   ],
   "source": [
    "T1:=3"
   ]
  },
  {
   "cell_type": "code",
   "execution_count": 36,
   "metadata": {
    "collapsed": false
   },
   "outputs": [
    {
     "name": "stdout",
     "output_type": "stream",
     "text": [
      "   Your statement has resulted in the following assignments and \n",
      "      declaration:\n",
      "\n",
      "   SAEa := SimpleAlgebraicExtension(Fraction(Integer),UnivariatePolynomial(a,Fraction(Integer)),a^2+1)\n",
      "   a : SAEa := a\n"
     ]
    },
    {
     "data": {
      "text/plain": [
       "   a\n",
       "Type: SimpleAlgebraicExtension(Fraction(Integer),UnivariatePolynomial(a,Fraction(Integer)),a^2+1)\n"
      ]
     },
     "execution_count": 36,
     "metadata": {},
     "output_type": "execute_result"
    }
   ],
   "source": [
    "a | a^2+1"
   ]
  },
  {
   "cell_type": "markdown",
   "metadata": {},
   "source": [
    "gets an error while trying to display the type of the expression\n",
    "since it uses fortran code generation stuff which wants to use\n",
    " the variable name T1 for some other purpose\n"
   ]
  },
  {
   "cell_type": "code",
   "execution_count": 37,
   "metadata": {
    "collapsed": false
   },
   "outputs": [
    {
     "name": "stdout",
     "output_type": "stream",
     "text": [
      "   All user variables and function definitions have been cleared.\n",
      "   All )browse facility databases have been cleared.\n",
      "   Internally cached functions and constructors have been cleared.\n",
      "   )clear completely is finished.\n"
     ]
    },
    {
     "data": {
      "text/plain": []
     },
     "execution_count": 37,
     "metadata": {},
     "output_type": "execute_result"
    }
   ],
   "source": [
    ")clear completely"
   ]
  },
  {
   "cell_type": "markdown",
   "metadata": {},
   "source": [
    " from bmt\n"
   ]
  },
  {
   "cell_type": "code",
   "execution_count": 38,
   "metadata": {
    "collapsed": false
   },
   "outputs": [
    {
     "data": {
      "text/plain": [
       "   u1\n",
       "                                                          Type: BasicOperator\n"
      ]
     },
     "execution_count": 38,
     "metadata": {},
     "output_type": "execute_result"
    }
   ],
   "source": [
    "u1 := operator 'u1"
   ]
  },
  {
   "cell_type": "code",
   "execution_count": 39,
   "metadata": {
    "collapsed": false
   },
   "outputs": [
    {
     "data": {
      "text/plain": [
       "   u2\n",
       "                                                          Type: BasicOperator\n"
      ]
     },
     "execution_count": 39,
     "metadata": {},
     "output_type": "execute_result"
    }
   ],
   "source": [
    "u2 := operator 'u2"
   ]
  },
  {
   "cell_type": "code",
   "execution_count": 40,
   "metadata": {
    "collapsed": false
   },
   "outputs": [
    {
     "data": {
      "text/plain": [
       "     ,,\n",
       "   u1  (t) + 5u1(t)= 2u2(t)\n",
       "\n",
       "                                          Type: Equation(Expression(Integer))\n"
      ]
     },
     "execution_count": 40,
     "metadata": {},
     "output_type": "execute_result"
    }
   ],
   "source": [
    "eq1 := D(u1(t),t,2) + 5*u1(t) = 2*u2(t)"
   ]
  },
  {
   "cell_type": "code",
   "execution_count": 41,
   "metadata": {
    "collapsed": false
   },
   "outputs": [
    {
     "data": {
      "text/plain": [
       "     ,,\n",
       "   u2  (t) + 2u2(t)= 2u1(t)\n",
       "\n",
       "                                          Type: Equation(Expression(Integer))\n"
      ]
     },
     "execution_count": 41,
     "metadata": {},
     "output_type": "execute_result"
    }
   ],
   "source": [
    "eq2 := D(u2(t),t,2) + 2*u2(t) = 2*u1(t)"
   ]
  },
  {
   "cell_type": "code",
   "execution_count": 42,
   "metadata": {
    "collapsed": false
   },
   "outputs": [
    {
     "data": {
      "text/plain": [
       "     ,,\n",
       "   u1  (t) + 5u1(t)\n",
       "\n",
       "   ----------------= u2(t)\n",
       "           2\n",
       "                                          Type: Equation(Expression(Integer))\n"
      ]
     },
     "execution_count": 42,
     "metadata": {},
     "output_type": "execute_result"
    }
   ],
   "source": [
    "eq1/2"
   ]
  },
  {
   "cell_type": "code",
   "execution_count": 43,
   "metadata": {
    "collapsed": false
   },
   "outputs": [
    {
     "data": {
      "text/plain": [
       "              ,,\n",
       "            u1  (t) + 5u1(t)\n",
       "\n",
       "   u2(t) == ----------------\n",
       "                    2\n",
       "                       Type: RewriteRule(Integer,Integer,Expression(Integer))\n"
      ]
     },
     "execution_count": 43,
     "metadata": {},
     "output_type": "execute_result"
    }
   ],
   "source": [
    "_rule(rhs %, lhs %)"
   ]
  },
  {
   "cell_type": "code",
   "execution_count": 44,
   "metadata": {
    "collapsed": false
   },
   "outputs": [
    {
     "data": {
      "text/plain": [
       "     (iv)         ,,\n",
       "   u1    (t) + 7u1  (t) + 10u1(t)\n",
       "\n",
       "   ------------------------------\n",
       "                  2\n",
       "                                                    Type: Expression(Integer)\n"
      ]
     },
     "execution_count": 44,
     "metadata": {},
     "output_type": "execute_result"
    }
   ],
   "source": [
    "%(lhs eq2)"
   ]
  },
  {
   "cell_type": "code",
   "execution_count": 45,
   "metadata": {
    "collapsed": false
   },
   "outputs": [
    {
     "data": {
      "text/plain": [
       "     (iv)         ,,\n",
       "   u1    (0) + 7u1  (0) + 10u1(0)\n",
       "\n",
       "   ------------------------------\n",
       "                  2\n",
       "                                                    Type: Expression(Integer)\n"
      ]
     },
     "execution_count": 45,
     "metadata": {},
     "output_type": "execute_result"
    }
   ],
   "source": [
    "eval(%,t=0)"
   ]
  },
  {
   "cell_type": "code",
   "execution_count": 46,
   "metadata": {
    "collapsed": false
   },
   "outputs": [
    {
     "name": "stdout",
     "output_type": "stream",
     "text": [
      "   All user variables and function definitions have been cleared.\n",
      "   All )browse facility databases have been cleared.\n",
      "   Internally cached functions and constructors have been cleared.\n",
      "   )clear completely is finished.\n"
     ]
    },
    {
     "data": {
      "text/plain": []
     },
     "execution_count": 46,
     "metadata": {},
     "output_type": "execute_result"
    }
   ],
   "source": [
    ")clear completely"
   ]
  },
  {
   "cell_type": "markdown",
   "metadata": {},
   "source": [
    " from bmt\n"
   ]
  },
  {
   "cell_type": "code",
   "execution_count": 47,
   "metadata": {
    "collapsed": false
   },
   "outputs": [
    {
     "data": {
      "text/plain": [
       "       +---+\n",
       "      \\|- 5\n",
       "   [%e      ]\n",
       "                                              Type: List(Expression(Integer))\n"
      ]
     },
     "execution_count": 47,
     "metadata": {},
     "output_type": "execute_result"
    }
   ],
   "source": [
    "bug := [exp(sqrt(-5))]"
   ]
  },
  {
   "cell_type": "code",
   "execution_count": 48,
   "metadata": {
    "collapsed": false
   },
   "outputs": [
    {
     "data": {
      "text/plain": [
       "        +-+         +-+\n",
       "   cos(\\|5 ) + sin(\\|5 )%i\n",
       "                                           Type: Complex(Expression(Integer))\n"
      ]
     },
     "execution_count": 48,
     "metadata": {},
     "output_type": "execute_result"
    }
   ],
   "source": [
    "complexForm(bug.1) -- works"
   ]
  },
  {
   "cell_type": "code",
   "execution_count": 49,
   "metadata": {
    "collapsed": false
   },
   "outputs": [
    {
     "data": {
      "text/plain": [
       "         +-+         +-+\n",
       "   [cos(\\|5 ) + sin(\\|5 )%i]\n",
       "                                     Type: List(Complex(Expression(Integer)))\n"
      ]
     },
     "execution_count": 49,
     "metadata": {},
     "output_type": "execute_result"
    }
   ],
   "source": [
    "map(complexForm,bug::List EXPR COMPLEX INT) -- works"
   ]
  },
  {
   "cell_type": "code",
   "execution_count": 50,
   "metadata": {
    "collapsed": false
   },
   "outputs": [
    {
     "data": {
      "text/plain": [
       "         +-+         +-+\n",
       "   [cos(\\|5 ) + sin(\\|5 )%i]\n",
       "                                     Type: List(Complex(Expression(Integer)))\n"
      ]
     },
     "execution_count": 50,
     "metadata": {},
     "output_type": "execute_result"
    }
   ],
   "source": [
    "map(complexForm,bug) -- fails"
   ]
  },
  {
   "cell_type": "code",
   "execution_count": 51,
   "metadata": {
    "collapsed": false
   },
   "outputs": [
    {
     "name": "stdout",
     "output_type": "stream",
     "text": [
      "   All user variables and function definitions have been cleared.\n",
      "   All )browse facility databases have been cleared.\n",
      "   Internally cached functions and constructors have been cleared.\n",
      "   )clear completely is finished.\n"
     ]
    },
    {
     "data": {
      "text/plain": []
     },
     "execution_count": 51,
     "metadata": {},
     "output_type": "execute_result"
    }
   ],
   "source": [
    ")clear completely"
   ]
  },
  {
   "cell_type": "markdown",
   "metadata": {},
   "source": [
    " from bmt\n"
   ]
  },
  {
   "cell_type": "code",
   "execution_count": 52,
   "metadata": {
    "collapsed": false
   },
   "outputs": [
    {
     "data": {
      "text/plain": [
       "                                                                   Type: Void\n"
      ]
     },
     "execution_count": 52,
     "metadata": {},
     "output_type": "execute_result"
    }
   ],
   "source": [
    "f x == c[1]*exp(x)"
   ]
  },
  {
   "cell_type": "code",
   "execution_count": 53,
   "metadata": {
    "collapsed": false
   },
   "outputs": [
    {
     "name": "stdout",
     "output_type": "stream",
     "text": [
      "   Compiling function f with type Variable(x) -> Expression(Integer) \n"
     ]
    },
    {
     "data": {
      "text/plain": [
       "       x\n",
       "   c %e\n",
       "    1\n",
       "                                                    Type: Expression(Integer)\n"
      ]
     },
     "execution_count": 53,
     "metadata": {},
     "output_type": "execute_result"
    }
   ],
   "source": [
    "f x -- works"
   ]
  },
  {
   "cell_type": "code",
   "execution_count": 54,
   "metadata": {
    "collapsed": false
   },
   "outputs": [
    {
     "name": "stdout",
     "output_type": "stream",
     "text": [
      "   Function declaration g : Expression(Integer) -> Expression(Integer) \n",
      "      has been added to workspace.\n"
     ]
    },
    {
     "data": {
      "text/plain": [
       "                                                                   Type: Void\n"
      ]
     },
     "execution_count": 54,
     "metadata": {},
     "output_type": "execute_result"
    }
   ],
   "source": [
    "g(x:EXPR(INT)):EXPR(INT) == c[1]*exp(x)"
   ]
  },
  {
   "cell_type": "code",
   "execution_count": 55,
   "metadata": {
    "collapsed": false
   },
   "outputs": [
    {
     "name": "stderr",
     "output_type": "stream",
     "text": [
      "   There are no library operations named c \n",
      "      Use HyperDoc Browse or issue\n",
      "                                 )what op c\n",
      "      to learn if there is any operation containing \" c \" in its name.\n",
      "   Cannot find a definition or applicable library operation named c \n",
      "      with argument type(s) \n",
      "                            List(PositiveInteger)\n",
      "      \n",
      "      Perhaps you should use \"@\" to indicate the required return type, \n",
      "      or \"$\" to specify which version of the function you need.\n",
      "   FriCAS will attempt to step through and interpret the code.\n",
      "   Compiling function g with type Expression(Integer) -> Expression(\n",
      "      Integer) \n",
      "   There are no library operations named c \n",
      "      Use HyperDoc Browse or issue\n",
      "                                 )what op c\n",
      "      to learn if there is any operation containing \" c \" in its name.\n",
      " \n",
      "   Cannot find a definition or applicable library operation named c \n",
      "      with argument type(s) \n",
      "                            List(PositiveInteger)\n",
      "      \n",
      "      Perhaps you should use \"@\" to indicate the required return type, \n",
      "      or \"$\" to specify which version of the function you need.\n",
      "\n"
     ]
    },
    {
     "data": {
      "text/plain": [
       "error\n"
      ]
     },
     "execution_count": 55,
     "metadata": {},
     "output_type": "execute_result"
    }
   ],
   "source": [
    "g x -- fails"
   ]
  },
  {
   "cell_type": "code",
   "execution_count": 56,
   "metadata": {
    "collapsed": false
   },
   "outputs": [
    {
     "name": "stdout",
     "output_type": "stream",
     "text": [
      "   Function declaration g : Expression(Integer) -> Expression(Integer) \n",
      "      has been added to workspace.\n",
      "   Compiled code for g has been cleared.\n",
      "   1 old definition(s) deleted for function or rule g \n"
     ]
    },
    {
     "data": {
      "text/plain": [
       "                                                                   Type: Void\n"
      ]
     },
     "execution_count": 56,
     "metadata": {},
     "output_type": "execute_result"
    }
   ],
   "source": [
    "g(x:EXPR(INT)):EXPR(INT) == (c[1]::EXPR INT)*exp(x)"
   ]
  },
  {
   "cell_type": "code",
   "execution_count": 57,
   "metadata": {
    "collapsed": false
   },
   "outputs": [
    {
     "name": "stdout",
     "output_type": "stream",
     "text": [
      "   Compiling function g with type Expression(Integer) -> Expression(\n",
      "      Integer) \n"
     ]
    },
    {
     "data": {
      "text/plain": [
       "       x\n",
       "   c %e\n",
       "    1\n",
       "                                                    Type: Expression(Integer)\n"
      ]
     },
     "execution_count": 57,
     "metadata": {},
     "output_type": "execute_result"
    }
   ],
   "source": [
    "g x -- fails"
   ]
  },
  {
   "cell_type": "code",
   "execution_count": 58,
   "metadata": {
    "collapsed": false
   },
   "outputs": [
    {
     "name": "stdout",
     "output_type": "stream",
     "text": [
      "   All user variables and function definitions have been cleared.\n",
      "   All )browse facility databases have been cleared.\n",
      "   Internally cached functions and constructors have been cleared.\n",
      "   )clear completely is finished.\n"
     ]
    },
    {
     "data": {
      "text/plain": []
     },
     "execution_count": 58,
     "metadata": {},
     "output_type": "execute_result"
    }
   ],
   "source": [
    ")clear completely"
   ]
  },
  {
   "cell_type": "markdown",
   "metadata": {},
   "source": [
    " from bmt\n"
   ]
  },
  {
   "cell_type": "code",
   "execution_count": 59,
   "metadata": {
    "collapsed": false
   },
   "outputs": [
    {
     "name": "stdout",
     "output_type": "stream",
     "text": [
      "   Your statement has resulted in the following assignments and \n",
      "      declaration:\n",
      "\n",
      "   SAEa := SimpleAlgebraicExtension(PrimeField(2),UnivariatePolynomial(a,PrimeField(2)),a^8+a^4+a^3+a^2+1)\n",
      "   a : SAEa := a\n"
     ]
    },
    {
     "data": {
      "text/plain": [
       "   a\n",
       "Type: SimpleAlgebraicExtension(PrimeField(2),UnivariatePolynomial(a,PrimeField(2)),a^8+a^4+a^3+a^2+1)\n"
      ]
     },
     "execution_count": 59,
     "metadata": {},
     "output_type": "execute_result"
    }
   ],
   "source": [
    "a | a^8+a^4+a^3+a^2+(1::PF 2)"
   ]
  },
  {
   "cell_type": "code",
   "execution_count": 60,
   "metadata": {
    "collapsed": false
   },
   "outputs": [
    {
     "data": {
      "text/plain": [
       "Type: Matrix(SimpleAlgebraicExtension(PrimeField(2),UnivariatePolynomial(a,PrimeField(2)),a^8+a^4+a^3+a^2+1))\n"
      ]
     },
     "execution_count": 60,
     "metadata": {},
     "output_type": "execute_result"
    }
   ],
   "source": [
    "tt:Matrix SAEa:=[_\n",
    "[0,0,0,1,1,1,0,1],_\n",
    "[1,0,0,0,0,0,0,0],_\n",
    "[0,1,0,0,0,0,0,0],_\n",
    "[0,0,1,0,0,0,0,0],_\n",
    "[0,0,0,1,0,0,0,0],_\n",
    "[0,0,0,0,1,0,0,0],_\n",
    "[0,0,0,0,0,1,0,0],_\n",
    "[0,0,0,0,0,0,1,0]];\n"
   ]
  },
  {
   "cell_type": "code",
   "execution_count": 61,
   "metadata": {
    "collapsed": false
   },
   "outputs": [
    {
     "data": {
      "text/plain": [
       "   +0  1  0  0  0  0  0  0+\n",
       "   |                      |\n",
       "   |0  0  1  0  0  0  0  0|\n",
       "   |                      |\n",
       "   |0  0  0  1  0  0  0  0|\n",
       "   |                      |\n",
       "   |1  0  0  0  1  0  0  0|\n",
       "   |                      |\n",
       "   |1  0  0  0  0  1  0  0|\n",
       "   |                      |\n",
       "   |1  0  0  0  0  0  1  0|\n",
       "   |                      |\n",
       "   |0  0  0  0  0  0  0  1|\n",
       "   |                      |\n",
       "   +1  0  0  0  0  0  0  0+\n",
       "Type: Matrix(SimpleAlgebraicExtension(PrimeField(2),UnivariatePolynomial(a,PrimeField(2)),a^8+a^4+a^3+a^2+1))\n"
      ]
     },
     "execution_count": 61,
     "metadata": {},
     "output_type": "execute_result"
    }
   ],
   "source": [
    "T:=transpose tt"
   ]
  },
  {
   "cell_type": "code",
   "execution_count": 62,
   "metadata": {
    "collapsed": false
   },
   "outputs": [
    {
     "data": {
      "text/plain": [
       "   +0  1  1  1  0  1  0  1+\n",
       "   |                      |\n",
       "   |1  0  1  1  1  0  1  0|\n",
       "   |                      |\n",
       "   |0  1  0  1  1  1  0  1|\n",
       "   |                      |\n",
       "   |0  0  1  0  1  1  1  0|\n",
       "   |                      |\n",
       "   |0  1  1  0  0  0  1  0|\n",
       "   |                      |\n",
       "   |0  1  0  0  0  1  0  0|\n",
       "   |                      |\n",
       "   |1  1  0  1  0  1  1  1|\n",
       "   |                      |\n",
       "   +1  1  1  0  1  0  1  1+\n",
       "Type: Matrix(SimpleAlgebraicExtension(PrimeField(2),UnivariatePolynomial(a,PrimeField(2)),a^8+a^4+a^3+a^2+1))\n"
      ]
     },
     "execution_count": 62,
     "metadata": {},
     "output_type": "execute_result"
    }
   ],
   "source": [
    "T0:=T^91"
   ]
  },
  {
   "cell_type": "code",
   "execution_count": 63,
   "metadata": {
    "collapsed": false
   },
   "outputs": [
    {
     "data": {
      "text/plain": [
       "   +0  0  0  1  0  1  1  1+\n",
       "   |                      |\n",
       "   |1  0  0  0  1  0  1  1|\n",
       "   |                      |\n",
       "   |0  1  0  0  0  1  0  1|\n",
       "   |                      |\n",
       "   |0  0  1  0  0  0  1  0|\n",
       "   |                      |\n",
       "   |0  0  0  0  0  1  1  0|\n",
       "   |                      |\n",
       "   |1  0  0  1  0  1  0  0|\n",
       "   |                      |\n",
       "   |0  1  0  1  1  1  0  1|\n",
       "   |                      |\n",
       "   +0  0  1  0  1  1  1  0+\n",
       "Type: Matrix(SimpleAlgebraicExtension(PrimeField(2),UnivariatePolynomial(a,PrimeField(2)),a^8+a^4+a^3+a^2+1))\n"
      ]
     },
     "execution_count": 63,
     "metadata": {},
     "output_type": "execute_result"
    }
   ],
   "source": [
    "T1:=T^95"
   ]
  },
  {
   "cell_type": "code",
   "execution_count": 64,
   "metadata": {
    "collapsed": false
   },
   "outputs": [
    {
     "name": "stdout",
     "output_type": "stream",
     "text": [
      "   All user variables and function definitions have been cleared.\n",
      "   All )browse facility databases have been cleared.\n",
      "   Internally cached functions and constructors have been cleared.\n",
      "   )clear completely is finished.\n"
     ]
    },
    {
     "data": {
      "text/plain": []
     },
     "execution_count": 64,
     "metadata": {},
     "output_type": "execute_result"
    }
   ],
   "source": [
    ")clear completely"
   ]
  },
  {
   "cell_type": "markdown",
   "metadata": {},
   "source": [
    " from bmt\n"
   ]
  },
  {
   "cell_type": "code",
   "execution_count": 65,
   "metadata": {
    "collapsed": false
   },
   "outputs": [
    {
     "data": {
      "text/plain": [
       "   u1\n",
       "                                                          Type: BasicOperator\n"
      ]
     },
     "execution_count": 65,
     "metadata": {},
     "output_type": "execute_result"
    }
   ],
   "source": [
    "u1:=operator 'u1"
   ]
  },
  {
   "cell_type": "code",
   "execution_count": 66,
   "metadata": {
    "collapsed": false
   },
   "outputs": [
    {
     "data": {
      "text/plain": [
       "   u2\n",
       "                                                          Type: BasicOperator\n"
      ]
     },
     "execution_count": 66,
     "metadata": {},
     "output_type": "execute_result"
    }
   ],
   "source": [
    "u2:=operator 'u2"
   ]
  },
  {
   "cell_type": "code",
   "execution_count": 67,
   "metadata": {
    "collapsed": false
   },
   "outputs": [
    {
     "data": {
      "text/plain": [
       "     ,,\n",
       "   u1  (t) + 5u1(t)= 2u2(t)\n",
       "\n",
       "                                          Type: Equation(Expression(Integer))\n"
      ]
     },
     "execution_count": 67,
     "metadata": {},
     "output_type": "execute_result"
    }
   ],
   "source": [
    "eq1 := D(u1(t),t,2) + 5*u1(t) = 2*u2(t)"
   ]
  },
  {
   "cell_type": "code",
   "execution_count": 68,
   "metadata": {
    "collapsed": false
   },
   "outputs": [
    {
     "data": {
      "text/plain": [
       "     ,,\n",
       "   u2  (t) + 2u2(t)= 2u1(t)\n",
       "\n",
       "                                          Type: Equation(Expression(Integer))\n"
      ]
     },
     "execution_count": 68,
     "metadata": {},
     "output_type": "execute_result"
    }
   ],
   "source": [
    "eq2 := D(u2(t),t,2) + 2*u2(t) = 2*u1(t)"
   ]
  },
  {
   "cell_type": "code",
   "execution_count": 69,
   "metadata": {
    "collapsed": false
   },
   "outputs": [
    {
     "data": {
      "text/plain": [
       "     ,,\n",
       "   u1  (t) + 5u1(t)\n",
       "\n",
       "   ----------------= u2(t)\n",
       "           2\n",
       "                                          Type: Equation(Expression(Integer))\n"
      ]
     },
     "execution_count": 69,
     "metadata": {},
     "output_type": "execute_result"
    }
   ],
   "source": [
    "eq1/2"
   ]
  },
  {
   "cell_type": "code",
   "execution_count": 70,
   "metadata": {
    "collapsed": false
   },
   "outputs": [
    {
     "data": {
      "text/plain": [
       "              ,,\n",
       "            u1  (t) + 5u1(t)\n",
       "\n",
       "   u2(t) == ----------------\n",
       "                    2\n",
       "                       Type: RewriteRule(Integer,Integer,Expression(Integer))\n"
      ]
     },
     "execution_count": 70,
     "metadata": {},
     "output_type": "execute_result"
    }
   ],
   "source": [
    "_rule(rhs %, lhs %)"
   ]
  },
  {
   "cell_type": "code",
   "execution_count": 71,
   "metadata": {
    "collapsed": false
   },
   "outputs": [
    {
     "data": {
      "text/plain": [
       "     (iv)         ,,\n",
       "   u1    (t) + 7u1  (t) + 10u1(t)\n",
       "\n",
       "   ------------------------------= 2u1(t)\n",
       "                  2\n",
       "                                          Type: Equation(Expression(Integer))\n"
      ]
     },
     "execution_count": 71,
     "metadata": {},
     "output_type": "execute_result"
    }
   ],
   "source": [
    "%(lhs eq2)=%(rhs eq2)"
   ]
  },
  {
   "cell_type": "code",
   "execution_count": 72,
   "metadata": {
    "collapsed": false
   },
   "outputs": [
    {
     "data": {
      "text/plain": [
       "     (iv)         ,,\n",
       "   u1    (t) + 7u1  (t) + 6u1(t)\n",
       "\n",
       "   -----------------------------= 0\n",
       "                 2\n",
       "                                          Type: Equation(Expression(Integer))\n"
      ]
     },
     "execution_count": 72,
     "metadata": {},
     "output_type": "execute_result"
    }
   ],
   "source": [
    "rightZero %"
   ]
  },
  {
   "cell_type": "code",
   "execution_count": 73,
   "metadata": {
    "collapsed": false
   },
   "outputs": [
    {
     "data": {
      "text/plain": [
       "       (iv)         ,,\n",
       "   - u1    (t) - 7u1  (t) - 6u1(t)= 0\n",
       "\n",
       "                                          Type: Equation(Expression(Integer))\n"
      ]
     },
     "execution_count": 73,
     "metadata": {},
     "output_type": "execute_result"
    }
   ],
   "source": [
    "-2*%"
   ]
  },
  {
   "cell_type": "code",
   "execution_count": 74,
   "metadata": {
    "collapsed": false
   },
   "outputs": [
    {
     "name": "stdout",
     "output_type": "stream",
     "text": [
      "   Compiling function %N with type Expression(Integer) -> Expression(\n",
      "      Integer) \n"
     ]
    },
    {
     "data": {
      "text/plain": [
       "       4     2       r t\n",
       "   (- r  - 7r  - 6)%e\n",
       "                                                    Type: Expression(Integer)\n"
      ]
     },
     "execution_count": 74,
     "metadata": {},
     "output_type": "execute_result"
    }
   ],
   "source": [
    "eval(lhs %,u1,exp(r*t),t)"
   ]
  },
  {
   "cell_type": "code",
   "execution_count": 75,
   "metadata": {
    "collapsed": false
   },
   "outputs": [
    {
     "data": {
      "text/plain": [
       "      4     2\n",
       "   - r  - 7r  - 6\n",
       "                                                    Type: Expression(Integer)\n"
      ]
     },
     "execution_count": 75,
     "metadata": {},
     "output_type": "execute_result"
    }
   ],
   "source": [
    "%/exp(r*t)"
   ]
  },
  {
   "cell_type": "code",
   "execution_count": 76,
   "metadata": {
    "collapsed": false
   },
   "outputs": [
    {
     "data": {
      "text/plain": [
       "        +---+       +---+     +---+       +---+\n",
       "   [r= \\|- 1 ,r= - \\|- 1 ,r= \\|- 6 ,r= - \\|- 6 ]\n",
       "                                    Type: List(Equation(Expression(Integer)))\n"
      ]
     },
     "execution_count": 76,
     "metadata": {},
     "output_type": "execute_result"
    }
   ],
   "source": [
    "solve(%,r)"
   ]
  },
  {
   "cell_type": "code",
   "execution_count": 77,
   "metadata": {
    "collapsed": false
   },
   "outputs": [
    {
     "data": {
      "text/plain": [
       "        +---+       +---+     +---+       +---+\n",
       "      t\\|- 1    - t\\|- 1    t\\|- 6    - t\\|- 6\n",
       "   [%e       ,%e         ,%e       ,%e         ]\n",
       "                                              Type: List(Expression(Integer))\n"
      ]
     },
     "execution_count": 77,
     "metadata": {},
     "output_type": "execute_result"
    }
   ],
   "source": [
    "[eval(exp(r*t),eq) for eq in %]"
   ]
  },
  {
   "cell_type": "code",
   "execution_count": 78,
   "metadata": {
    "collapsed": false
   },
   "outputs": [
    {
     "name": "stdout",
     "output_type": "stream",
     "text": [
      "\n",
      "\n"
     ]
    },
    {
     "data": {
      "text/plain": [
       "                                                +-+          +-+\n",
       "   [cos(t) + sin(t)%i, cos(t) - sin(t)%i, cos(t\\|6 ) + sin(t\\|6 )%i,\n",
       "          +-+          +-+\n",
       "    cos(t\\|6 ) - sin(t\\|6 )%i]\n",
       "                                     Type: List(Complex(Expression(Integer)))\n"
      ]
     },
     "execution_count": 78,
     "metadata": {},
     "output_type": "execute_result"
    }
   ],
   "source": [
    "map(complexForm, %::List EXPR COMPLEX INT)"
   ]
  },
  {
   "cell_type": "code",
   "execution_count": 79,
   "metadata": {
    "collapsed": false
   },
   "outputs": [
    {
     "data": {
      "text/plain": [
       "                        +-+        +-+\n",
       "   [cos(t),sin(t),cos(t\\|6 ),sin(t\\|6 )]\n",
       "                                              Type: List(Expression(Integer))\n"
      ]
     },
     "execution_count": 79,
     "metadata": {},
     "output_type": "execute_result"
    }
   ],
   "source": [
    "[real %(1), imag %(1), real %(3), imag %(3)]"
   ]
  },
  {
   "cell_type": "code",
   "execution_count": 80,
   "metadata": {
    "collapsed": false
   },
   "outputs": [
    {
     "data": {
      "text/plain": [
       "                  +-+                       +-+\n",
       "   u1(t)= c sin(t\\|6 ) + c sin(t) + c cos(t\\|6 ) + c cos(t)\n",
       "           4              2          3              1\n",
       "                                          Type: Equation(Expression(Integer))\n"
      ]
     },
     "execution_count": 80,
     "metadata": {},
     "output_type": "execute_result"
    }
   ],
   "source": [
    "gform:= u1(t)=reduce(+, [c[i]*%.i for i in 1..#%])"
   ]
  },
  {
   "cell_type": "code",
   "execution_count": 81,
   "metadata": {
    "collapsed": false
   },
   "outputs": [
    {
     "data": {
      "text/plain": [
       "                    +-+                       +-+\n",
       "   u1(t) == c sin(t\\|6 ) + c sin(t) + c cos(t\\|6 ) + c cos(t)\n",
       "             4              2          3              1\n",
       "                       Type: RewriteRule(Integer,Integer,Expression(Integer))\n"
      ]
     },
     "execution_count": 81,
     "metadata": {},
     "output_type": "execute_result"
    }
   ],
   "source": [
    "_rule(lhs %, rhs %)"
   ]
  },
  {
   "cell_type": "code",
   "execution_count": 82,
   "metadata": {
    "collapsed": false
   },
   "outputs": [
    {
     "data": {
      "text/plain": [
       "             +-+                        +-+\n",
       "   - c sin(t\\|6 ) + 4c sin(t) - c cos(t\\|6 ) + 4c cos(t)= 2u2(t)\n",
       "      4               2          3               1\n",
       "                                          Type: Equation(Expression(Integer))\n"
      ]
     },
     "execution_count": 82,
     "metadata": {},
     "output_type": "execute_result"
    }
   ],
   "source": [
    "%(lhs eq1)=rhs eq1"
   ]
  },
  {
   "cell_type": "code",
   "execution_count": 83,
   "metadata": {
    "collapsed": false
   },
   "outputs": [
    {
     "data": {
      "text/plain": [
       "             +-+                        +-+\n",
       "   - c sin(t\\|6 ) + 4c sin(t) - c cos(t\\|6 ) + 4c cos(t)\n",
       "      4               2          3               1\n",
       "   -----------------------------------------------------= u2(t)\n",
       "                             2\n",
       "                                          Type: Equation(Expression(Integer))\n"
      ]
     },
     "execution_count": 83,
     "metadata": {},
     "output_type": "execute_result"
    }
   ],
   "source": [
    "%/2"
   ]
  },
  {
   "cell_type": "markdown",
   "metadata": {},
   "source": [
    "part c\n"
   ]
  },
  {
   "cell_type": "code",
   "execution_count": 84,
   "metadata": {
    "collapsed": false
   },
   "outputs": [
    {
     "data": {
      "text/plain": [
       "               ,                  ,\n",
       "   [u1(0)= 1,u1 (0)= 0,u2(0)= 2,u2 (0)= 0]\n",
       "\n",
       "                                    Type: List(Equation(Expression(Integer)))\n"
      ]
     },
     "execution_count": 84,
     "metadata": {},
     "output_type": "execute_result"
    }
   ],
   "source": [
    "inits := [u1(0)=1, eval(D(u1 t,t),t=0)=0, u2(0)=2, eval(D(u2 t,t),t=0)=0]"
   ]
  },
  {
   "cell_type": "code",
   "execution_count": 85,
   "metadata": {
    "collapsed": false
   },
   "outputs": [
    {
     "data": {
      "text/plain": [
       "     ,,\n",
       "   u1  (t)= 2u2(t) - 5u1(t)\n",
       "\n",
       "                                          Type: Equation(Expression(Integer))\n"
      ]
     },
     "execution_count": 85,
     "metadata": {},
     "output_type": "execute_result"
    }
   ],
   "source": [
    "eqq := eq1-5*u1(t)"
   ]
  },
  {
   "cell_type": "code",
   "execution_count": 86,
   "metadata": {
    "collapsed": false
   },
   "outputs": [
    {
     "data": {
      "text/plain": [
       "     ,,\n",
       "   u1  (0)= 2u2(0) - 5u1(0)\n",
       "\n",
       "                                          Type: Equation(Expression(Integer))\n"
      ]
     },
     "execution_count": 86,
     "metadata": {},
     "output_type": "execute_result"
    }
   ],
   "source": [
    "eval(eqq,t=0)"
   ]
  },
  {
   "cell_type": "code",
   "execution_count": 87,
   "metadata": {
    "collapsed": false
   },
   "outputs": [
    {
     "data": {
      "text/plain": [
       "     ,,\n",
       "   u1  (0)= - 1\n",
       "\n",
       "                                          Type: Equation(Expression(Integer))\n"
      ]
     },
     "execution_count": 87,
     "metadata": {},
     "output_type": "execute_result"
    }
   ],
   "source": [
    "eval(%,inits)"
   ]
  },
  {
   "cell_type": "code",
   "execution_count": 88,
   "metadata": {
    "collapsed": false
   },
   "outputs": [
    {
     "data": {
      "text/plain": [
       "      ,,                    ,                  ,\n",
       "   [u1  (0)= - 1,u1(0)= 1,u1 (0)= 0,u2(0)= 2,u2 (0)= 0]\n",
       "\n",
       "                                    Type: List(Equation(Expression(Integer)))\n"
      ]
     },
     "execution_count": 88,
     "metadata": {},
     "output_type": "execute_result"
    }
   ],
   "source": [
    "inits:=cons(%,inits)"
   ]
  },
  {
   "cell_type": "code",
   "execution_count": 89,
   "metadata": {
    "collapsed": false
   },
   "outputs": [
    {
     "data": {
      "text/plain": [
       "     ,,,        ,         ,\n",
       "   u1   (t)= 2u2 (t) - 5u1 (t)\n",
       "\n",
       "                                          Type: Equation(Expression(Integer))\n"
      ]
     },
     "execution_count": 89,
     "metadata": {},
     "output_type": "execute_result"
    }
   ],
   "source": [
    "D(eqq,t)"
   ]
  },
  {
   "cell_type": "code",
   "execution_count": 90,
   "metadata": {
    "collapsed": false
   },
   "outputs": [
    {
     "data": {
      "text/plain": [
       "     ,,,        ,         ,\n",
       "   u1   (0)= 2u2 (0) - 5u1 (0)\n",
       "\n",
       "                                          Type: Equation(Expression(Integer))\n"
      ]
     },
     "execution_count": 90,
     "metadata": {},
     "output_type": "execute_result"
    }
   ],
   "source": [
    "eval(%,t=0)"
   ]
  },
  {
   "cell_type": "code",
   "execution_count": 91,
   "metadata": {
    "collapsed": false
   },
   "outputs": [
    {
     "name": "stdout",
     "output_type": "stream",
     "text": [
      "   All user variables and function definitions have been cleared.\n",
      "   All )browse facility databases have been cleared.\n",
      "   Internally cached functions and constructors have been cleared.\n",
      "   )clear completely is finished.\n"
     ]
    },
    {
     "data": {
      "text/plain": []
     },
     "execution_count": 91,
     "metadata": {},
     "output_type": "execute_result"
    }
   ],
   "source": [
    ")clear completely"
   ]
  },
  {
   "cell_type": "markdown",
   "metadata": {},
   "source": [
    " from bmt\n"
   ]
  },
  {
   "cell_type": "code",
   "execution_count": 92,
   "metadata": {
    "collapsed": false
   },
   "outputs": [
    {
     "data": {
      "text/plain": [
       "   u\n",
       "                                                          Type: BasicOperator\n"
      ]
     },
     "execution_count": 92,
     "metadata": {},
     "output_type": "execute_result"
    }
   ],
   "source": [
    "u:=operator 'u"
   ]
  },
  {
   "cell_type": "code",
   "execution_count": 93,
   "metadata": {
    "collapsed": false
   },
   "outputs": [
    {
     "data": {
      "text/plain": [
       "    ,\n",
       "   u (t)\n",
       "\n",
       "                                                    Type: Expression(Integer)\n"
      ]
     },
     "execution_count": 93,
     "metadata": {},
     "output_type": "execute_result"
    }
   ],
   "source": [
    "exp:=D(u t,t)"
   ]
  },
  {
   "cell_type": "code",
   "execution_count": 94,
   "metadata": {
    "collapsed": false
   },
   "outputs": [
    {
     "data": {
      "text/plain": [
       "    ,\n",
       "   u (t)\n",
       "\n",
       "                                            Type: Kernel(Expression(Integer))\n"
      ]
     },
     "execution_count": 94,
     "metadata": {},
     "output_type": "execute_result"
    }
   ],
   "source": [
    "k:=kernels(exp).1"
   ]
  },
  {
   "cell_type": "code",
   "execution_count": 95,
   "metadata": {
    "collapsed": false
   },
   "outputs": [
    {
     "data": {
      "text/plain": [
       "   [u(%A),%A,t]\n",
       "                                              Type: List(Expression(Integer))\n"
      ]
     },
     "execution_count": 95,
     "metadata": {},
     "output_type": "execute_result"
    }
   ],
   "source": [
    "l:=argument %"
   ]
  },
  {
   "cell_type": "code",
   "execution_count": 96,
   "metadata": {
    "collapsed": false
   },
   "outputs": [
    {
     "data": {
      "text/plain": [
       "   %diff\n",
       "                                                          Type: BasicOperator\n"
      ]
     },
     "execution_count": 96,
     "metadata": {},
     "output_type": "execute_result"
    }
   ],
   "source": [
    "difop:=operator k"
   ]
  },
  {
   "cell_type": "code",
   "execution_count": 97,
   "metadata": {
    "collapsed": false
   },
   "outputs": [
    {
     "data": {
      "text/plain": [
       "   [u(%A) + %A,%A,t]\n",
       "                                              Type: List(Expression(Integer))\n"
      ]
     },
     "execution_count": 97,
     "metadata": {},
     "output_type": "execute_result"
    }
   ],
   "source": [
    "l2:=[l.1+l.2,l.2,l.3]"
   ]
  },
  {
   "cell_type": "code",
   "execution_count": 98,
   "metadata": {
    "collapsed": false
   },
   "outputs": [
    {
     "data": {
      "text/plain": [
       "    ,\n",
       "   u (t) + 1\n",
       "\n",
       "                                         Type: Union(Expression(Integer),...)\n"
      ]
     },
     "execution_count": 98,
     "metadata": {},
     "output_type": "execute_result"
    }
   ],
   "source": [
    "bug:=evaluate(difop,l2)"
   ]
  },
  {
   "cell_type": "code",
   "execution_count": 99,
   "metadata": {
    "collapsed": false
   },
   "outputs": [
    {
     "data": {
      "text/plain": [
       "    ,\n",
       "   u (t)\n",
       "\n",
       "                                            Type: Kernel(Expression(Integer))\n"
      ]
     },
     "execution_count": 99,
     "metadata": {},
     "output_type": "execute_result"
    }
   ],
   "source": [
    "kernels(bug).1"
   ]
  },
  {
   "cell_type": "code",
   "execution_count": 100,
   "metadata": {
    "collapsed": false
   },
   "outputs": [
    {
     "data": {
      "text/plain": [
       "   [u(%A),%A,t]\n",
       "                                              Type: List(Expression(Integer))\n"
      ]
     },
     "execution_count": 100,
     "metadata": {},
     "output_type": "execute_result"
    }
   ],
   "source": [
    "argument %"
   ]
  },
  {
   "cell_type": "code",
   "execution_count": 101,
   "metadata": {
    "collapsed": false
   },
   "outputs": [
    {
     "data": {
      "text/plain": [
       "    ,\n",
       "   u (0) + 1\n",
       "\n",
       "                                                    Type: Expression(Integer)\n"
      ]
     },
     "execution_count": 101,
     "metadata": {},
     "output_type": "execute_result"
    }
   ],
   "source": [
    "eval(bug,t=0)"
   ]
  },
  {
   "cell_type": "code",
   "execution_count": 102,
   "metadata": {
    "collapsed": false
   },
   "outputs": [
    {
     "name": "stdout",
     "output_type": "stream",
     "text": [
      "   All user variables and function definitions have been cleared.\n",
      "   All )browse facility databases have been cleared.\n",
      "   Internally cached functions and constructors have been cleared.\n",
      "   )clear completely is finished.\n"
     ]
    },
    {
     "data": {
      "text/plain": []
     },
     "execution_count": 102,
     "metadata": {},
     "output_type": "execute_result"
    }
   ],
   "source": [
    ")clear completely"
   ]
  },
  {
   "cell_type": "code",
   "execution_count": 103,
   "metadata": {
    "collapsed": false
   },
   "outputs": [
    {
     "data": {
      "text/plain": [
       "                                                                   Type: Type\n"
      ]
     },
     "execution_count": 103,
     "metadata": {},
     "output_type": "execute_result"
    }
   ],
   "source": [
    "R := Polynomial(PrimeField(3)) ;"
   ]
  },
  {
   "cell_type": "code",
   "execution_count": 104,
   "metadata": {
    "collapsed": false
   },
   "outputs": [
    {
     "data": {
      "text/plain": [
       "   UnivariatePolynomial(X,Polynomial(PrimeField(3)))\n",
       "                                                                   Type: Type\n"
      ]
     },
     "execution_count": 104,
     "metadata": {},
     "output_type": "execute_result"
    }
   ],
   "source": [
    "A := UP('X, R)"
   ]
  },
  {
   "cell_type": "code",
   "execution_count": 105,
   "metadata": {
    "collapsed": false
   },
   "outputs": [
    {
     "data": {
      "text/plain": [
       "                      Type: UnivariatePolynomial(X,Polynomial(PrimeField(3)))\n"
      ]
     },
     "execution_count": 105,
     "metadata": {},
     "output_type": "execute_result"
    }
   ],
   "source": [
    "X : A := monomial(1, 1) ;"
   ]
  },
  {
   "cell_type": "code",
   "execution_count": 106,
   "metadata": {
    "collapsed": false
   },
   "outputs": [
    {
     "data": {
      "text/plain": [
       "      3      2\n",
       "   a X  + b X  + c X + d\n",
       "                      Type: UnivariatePolynomial(X,Polynomial(PrimeField(3)))\n"
      ]
     },
     "execution_count": 106,
     "metadata": {},
     "output_type": "execute_result"
    }
   ],
   "source": [
    "f : A := a*X^3 + b*X^2 + c*X + d"
   ]
  },
  {
   "cell_type": "code",
   "execution_count": 107,
   "metadata": {
    "collapsed": false
   },
   "outputs": [
    {
     "data": {
      "text/plain": [
       "     3        3    2 2\n",
       "   2b d + 2a c  + b c\n",
       "                                              Type: Polynomial(PrimeField(3))\n"
      ]
     },
     "execution_count": 107,
     "metadata": {},
     "output_type": "execute_result"
    }
   ],
   "source": [
    "discriminant(f)"
   ]
  },
  {
   "cell_type": "code",
   "execution_count": 108,
   "metadata": {
    "collapsed": false
   },
   "outputs": [
    {
     "data": {
      "text/plain": [
       "   2b X + c\n",
       "                      Type: UnivariatePolynomial(X,Polynomial(PrimeField(3)))\n"
      ]
     },
     "execution_count": 108,
     "metadata": {},
     "output_type": "execute_result"
    }
   ],
   "source": [
    "s := differentiate f"
   ]
  },
  {
   "cell_type": "code",
   "execution_count": 109,
   "metadata": {
    "collapsed": false
   },
   "outputs": [
    {
     "data": {
      "text/plain": [
       "    3       3     2 2\n",
       "   b d + a c  + 2b c\n",
       "                                              Type: Polynomial(PrimeField(3))\n"
      ]
     },
     "execution_count": 109,
     "metadata": {},
     "output_type": "execute_result"
    }
   ],
   "source": [
    "resultant(f,s)"
   ]
  },
  {
   "cell_type": "code",
   "execution_count": 110,
   "metadata": {
    "collapsed": false
   },
   "outputs": [
    {
     "data": {
      "text/plain": [
       "   \"failed\"\n",
       "                                                    Type: Union(\"failed\",...)\n"
      ]
     },
     "execution_count": 110,
     "metadata": {},
     "output_type": "execute_result"
    }
   ],
   "source": [
    "exquo(%,leadingCoefficient(f))"
   ]
  },
  {
   "cell_type": "code",
   "execution_count": 111,
   "metadata": {
    "collapsed": false
   },
   "outputs": [
    {
     "data": {
      "text/plain": []
     },
     "execution_count": 111,
     "metadata": {},
     "output_type": "execute_result"
    }
   ],
   "source": [
    "--\n",
    "-- EOF\n",
    "--"
   ]
  }
 ],
 "metadata": {
  "kernelspec": {
   "display_name": "FriCAS",
   "language": "spad",
   "name": "ifricas"
  },
  "language_info": {
   "codemirror_mode": "spad",
   "mimetype": "text/x-spad",
   "name": "SPAD",
   "pygments_lexer": "spad",
   "version": "1.2.6"
  },
  "name": "r21bugs.ipynb"
 },
 "nbformat": 4,
 "nbformat_minor": 0
}