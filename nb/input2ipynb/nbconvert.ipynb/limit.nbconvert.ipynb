{
 "cells": [
  {
   "cell_type": "code",
   "execution_count": 0,
   "metadata": {
    "collapsed": false
   },
   "outputs": [
    {
     "data": {
      "text/plain": []
     },
     "execution_count": 0,
     "metadata": {},
     "output_type": "execute_result"
    }
   ],
   "source": [
    ")set break resume"
   ]
  },
  {
   "cell_type": "code",
   "execution_count": 1,
   "metadata": {
    "collapsed": false
   },
   "outputs": [
    {
     "name": "stdout",
     "output_type": "stream",
     "text": [
      "   UnittestCount is now explicitly exposed in frame initial \n",
      "   UnittestAux is now explicitly exposed in frame initial \n",
      "   Unittest is now explicitly exposed in frame initial \n"
     ]
    },
    {
     "data": {
      "text/plain": []
     },
     "execution_count": 1,
     "metadata": {},
     "output_type": "execute_result"
    }
   ],
   "source": [
    ")expose UnittestCount UnittestAux Unittest"
   ]
  },
  {
   "cell_type": "code",
   "execution_count": 2,
   "metadata": {
    "collapsed": false
   },
   "outputs": [
    {
     "name": "stdout",
     "output_type": "stream",
     "text": [
      "   All user variables and function definitions have been cleared.\n",
      "Warning: HyperTeX macro table not found\n"
     ]
    },
    {
     "data": {
      "text/plain": [
       "                                                                   Type: Void\n"
      ]
     },
     "execution_count": 2,
     "metadata": {},
     "output_type": "execute_result"
    }
   ],
   "source": [
    "testsuite \"limit\""
   ]
  },
  {
   "cell_type": "code",
   "execution_count": 3,
   "metadata": {
    "collapsed": false
   },
   "outputs": [
    {
     "name": "stdout",
     "output_type": "stream",
     "text": [
      "   Function declaration test_limit : (String,String) -> Void has been \n",
      "      added to workspace.\n",
      "\n"
     ]
    },
    {
     "data": {
      "text/plain": [
       "                                                                   Type: Void\n"
      ]
     },
     "execution_count": 3,
     "metadata": {},
     "output_type": "execute_result"
    }
   ],
   "source": [
    "test_limit(expr : String, val : String) : Void ==\n",
    "    testcaseNoClear(expr)\n",
    "    lim_expr := concat([\"limit(\", expr, \", x = %plusInfinity)\"])\n",
    "    testEquals(lim_expr, val)"
   ]
  },
  {
   "cell_type": "code",
   "execution_count": 4,
   "metadata": {
    "collapsed": false
   },
   "outputs": [
    {
     "name": "stdout",
     "output_type": "stream",
     "text": [
      "   Compiling function test_limit with type (String,String) -> Void \n"
     ]
    },
    {
     "data": {
      "text/plain": [
       "                                                                   Type: Void\n"
      ]
     },
     "execution_count": 4,
     "metadata": {},
     "output_type": "execute_result"
    }
   ],
   "source": [
    "test_limit(\"1/x\", \"0\")"
   ]
  },
  {
   "cell_type": "code",
   "execution_count": 5,
   "metadata": {
    "collapsed": false
   },
   "outputs": [
    {
     "data": {
      "text/plain": [
       "                                                                   Type: Void\n"
      ]
     },
     "execution_count": 5,
     "metadata": {},
     "output_type": "execute_result"
    }
   ],
   "source": [
    "test_limit(\"1/log(x)\", \"0\")"
   ]
  },
  {
   "cell_type": "code",
   "execution_count": 6,
   "metadata": {
    "collapsed": false
   },
   "outputs": [
    {
     "data": {
      "text/plain": [
       "                                                                   Type: Void\n"
      ]
     },
     "execution_count": 6,
     "metadata": {},
     "output_type": "execute_result"
    }
   ],
   "source": [
    "test_limit(\"1/(x + log(x))\", \"0\")"
   ]
  },
  {
   "cell_type": "code",
   "execution_count": 7,
   "metadata": {
    "collapsed": false
   },
   "outputs": [
    {
     "data": {
      "text/plain": [
       "                                                                   Type: Void\n"
      ]
     },
     "execution_count": 7,
     "metadata": {},
     "output_type": "execute_result"
    }
   ],
   "source": [
    "test_limit(\"x/(x + log(x))\", \"1\")"
   ]
  },
  {
   "cell_type": "code",
   "execution_count": 8,
   "metadata": {
    "collapsed": false
   },
   "outputs": [
    {
     "data": {
      "text/plain": [
       "                                                                   Type: Void\n"
      ]
     },
     "execution_count": 8,
     "metadata": {},
     "output_type": "execute_result"
    }
   ],
   "source": [
    "test_limit(\"x/(x - log(x))\", \"1\")"
   ]
  },
  {
   "cell_type": "code",
   "execution_count": 9,
   "metadata": {
    "collapsed": false
   },
   "outputs": [
    {
     "data": {
      "text/plain": [
       "                                                                   Type: Void\n"
      ]
     },
     "execution_count": 9,
     "metadata": {},
     "output_type": "execute_result"
    }
   ],
   "source": [
    "test_limit(\"x/(x + sqrt(x))\", \"1\")"
   ]
  },
  {
   "cell_type": "code",
   "execution_count": 10,
   "metadata": {
    "collapsed": false
   },
   "outputs": [
    {
     "data": {
      "text/plain": [
       "                                                                   Type: Void\n"
      ]
     },
     "execution_count": 10,
     "metadata": {},
     "output_type": "execute_result"
    }
   ],
   "source": [
    "test_limit(\"x/(x - sqrt(x))\", \"1\")"
   ]
  },
  {
   "cell_type": "code",
   "execution_count": 11,
   "metadata": {
    "collapsed": false
   },
   "outputs": [
    {
     "data": {
      "text/plain": [
       "                                                                   Type: Void\n"
      ]
     },
     "execution_count": 11,
     "metadata": {},
     "output_type": "execute_result"
    }
   ],
   "source": [
    "test_limit(\"1/exp(x)\", \"0\")"
   ]
  },
  {
   "cell_type": "code",
   "execution_count": 12,
   "metadata": {
    "collapsed": false
   },
   "outputs": [
    {
     "data": {
      "text/plain": [
       "                                                                   Type: Void\n"
      ]
     },
     "execution_count": 12,
     "metadata": {},
     "output_type": "execute_result"
    }
   ],
   "source": [
    "test_limit(\"1/(exp(x) - log(x))\", \"0\")"
   ]
  },
  {
   "cell_type": "code",
   "execution_count": 13,
   "metadata": {
    "collapsed": false
   },
   "outputs": [
    {
     "data": {
      "text/plain": [
       "                                                                   Type: Void\n"
      ]
     },
     "execution_count": 13,
     "metadata": {},
     "output_type": "execute_result"
    }
   ],
   "source": [
    "test_limit(\"x/exp(x)\", \"0\")"
   ]
  },
  {
   "cell_type": "code",
   "execution_count": 14,
   "metadata": {
    "collapsed": false
   },
   "outputs": [
    {
     "data": {
      "text/plain": [
       "                                                                   Type: Void\n"
      ]
     },
     "execution_count": 14,
     "metadata": {},
     "output_type": "execute_result"
    }
   ],
   "source": [
    "test_limit(\"x^667/exp(x)\", \"0\")"
   ]
  },
  {
   "cell_type": "code",
   "execution_count": 15,
   "metadata": {
    "collapsed": false
   },
   "outputs": [
    {
     "data": {
      "text/plain": [
       "                                                                   Type: Void\n"
      ]
     },
     "execution_count": 15,
     "metadata": {},
     "output_type": "execute_result"
    }
   ],
   "source": [
    "test_limit(\"x^a/exp(x)\", \"0\")"
   ]
  },
  {
   "cell_type": "code",
   "execution_count": 16,
   "metadata": {
    "collapsed": false
   },
   "outputs": [
    {
     "data": {
      "text/plain": [
       "                                                                   Type: Void\n"
      ]
     },
     "execution_count": 16,
     "metadata": {},
     "output_type": "execute_result"
    }
   ],
   "source": [
    "test_limit(\"sinh(x)/exp(x)\", \"1/2\")"
   ]
  },
  {
   "cell_type": "code",
   "execution_count": 17,
   "metadata": {
    "collapsed": false
   },
   "outputs": [
    {
     "data": {
      "text/plain": [
       "                                                                   Type: Void\n"
      ]
     },
     "execution_count": 17,
     "metadata": {},
     "output_type": "execute_result"
    }
   ],
   "source": [
    "test_limit(\"cosh(x)/exp(x)\", \"1/2\")"
   ]
  },
  {
   "cell_type": "code",
   "execution_count": 18,
   "metadata": {
    "collapsed": false
   },
   "outputs": [
    {
     "data": {
      "text/plain": [
       "                                                                   Type: Void\n"
      ]
     },
     "execution_count": 18,
     "metadata": {},
     "output_type": "execute_result"
    }
   ],
   "source": [
    "test_limit(\"sin(x)/exp(x)\", \"0\")"
   ]
  },
  {
   "cell_type": "code",
   "execution_count": 19,
   "metadata": {
    "collapsed": false
   },
   "outputs": [
    {
     "data": {
      "text/plain": [
       "                                                                   Type: Void\n"
      ]
     },
     "execution_count": 19,
     "metadata": {},
     "output_type": "execute_result"
    }
   ],
   "source": [
    "test_limit(\"(x + sin(x))/exp(x)\", \"0\")"
   ]
  },
  {
   "cell_type": "code",
   "execution_count": 20,
   "metadata": {
    "collapsed": false
   },
   "outputs": [
    {
     "data": {
      "text/plain": [
       "                                                                   Type: Void\n"
      ]
     },
     "execution_count": 20,
     "metadata": {},
     "output_type": "execute_result"
    }
   ],
   "source": [
    "test_limit(\"log(x)/exp(x)\", \"0\")"
   ]
  },
  {
   "cell_type": "code",
   "execution_count": 21,
   "metadata": {
    "collapsed": false
   },
   "outputs": [
    {
     "data": {
      "text/plain": [
       "                                                                   Type: Void\n"
      ]
     },
     "execution_count": 21,
     "metadata": {},
     "output_type": "execute_result"
    }
   ],
   "source": [
    "test_limit(\"log(x)/exp(x-log(x))\", \"0\")"
   ]
  },
  {
   "cell_type": "code",
   "execution_count": 22,
   "metadata": {
    "collapsed": false
   },
   "outputs": [
    {
     "data": {
      "text/plain": [
       "                                                                   Type: Void\n"
      ]
     },
     "execution_count": 22,
     "metadata": {},
     "output_type": "execute_result"
    }
   ],
   "source": [
    "test_limit(\"log(x)/exp(x/log(x))\", \"0\")"
   ]
  },
  {
   "cell_type": "code",
   "execution_count": 23,
   "metadata": {
    "collapsed": false
   },
   "outputs": [
    {
     "data": {
      "text/plain": [
       "                                                                   Type: Void\n"
      ]
     },
     "execution_count": 23,
     "metadata": {},
     "output_type": "execute_result"
    }
   ],
   "source": [
    "test_limit(\"log(x)/exp(log(x+1)^2)\", \"0\")"
   ]
  },
  {
   "cell_type": "code",
   "execution_count": 24,
   "metadata": {
    "collapsed": false
   },
   "outputs": [
    {
     "data": {
      "text/plain": [
       "                                                                   Type: Void\n"
      ]
     },
     "execution_count": 24,
     "metadata": {},
     "output_type": "execute_result"
    }
   ],
   "source": [
    "test_limit(\"log(x)/exp(x*log(x))\", \"0\")"
   ]
  },
  {
   "cell_type": "code",
   "execution_count": 25,
   "metadata": {
    "collapsed": false
   },
   "outputs": [
    {
     "data": {
      "text/plain": [
       "                                                                   Type: Void\n"
      ]
     },
     "execution_count": 25,
     "metadata": {},
     "output_type": "execute_result"
    }
   ],
   "source": [
    "test_limit(\"log(x)/exp(exp(x))\", \"0\")"
   ]
  },
  {
   "cell_type": "code",
   "execution_count": 26,
   "metadata": {
    "collapsed": false
   },
   "outputs": [
    {
     "data": {
      "text/plain": [
       "                                                                   Type: Void\n"
      ]
     },
     "execution_count": 26,
     "metadata": {},
     "output_type": "execute_result"
    }
   ],
   "source": [
    "test_limit(\"log(x)/exp(exp(x)/log(x))\", \"0\")"
   ]
  },
  {
   "cell_type": "code",
   "execution_count": 27,
   "metadata": {
    "collapsed": false
   },
   "outputs": [
    {
     "data": {
      "text/plain": [
       "                                                                   Type: Void\n"
      ]
     },
     "execution_count": 27,
     "metadata": {},
     "output_type": "execute_result"
    }
   ],
   "source": [
    "test_limit(\"log(exp(x)+x)/log(exp(x + log(x)^2) + 1)\", \"1\")"
   ]
  },
  {
   "cell_type": "code",
   "execution_count": 28,
   "metadata": {
    "collapsed": false
   },
   "outputs": [
    {
     "data": {
      "text/plain": [
       "                                                                   Type: Void\n"
      ]
     },
     "execution_count": 28,
     "metadata": {},
     "output_type": "execute_result"
    }
   ],
   "source": [
    "test_limit(\"log(log(exp(x) + x))/log(exp(log(x)+1))\", \"1\")"
   ]
  },
  {
   "cell_type": "code",
   "execution_count": 29,
   "metadata": {
    "collapsed": false
   },
   "outputs": [
    {
     "data": {
      "text/plain": [
       "                                                                   Type: Void\n"
      ]
     },
     "execution_count": 29,
     "metadata": {},
     "output_type": "execute_result"
    }
   ],
   "source": [
    "test_limit(\"x*(exp(-exp(-x)) - 1)\", \"0\")"
   ]
  },
  {
   "cell_type": "code",
   "execution_count": 30,
   "metadata": {
    "collapsed": false
   },
   "outputs": [
    {
     "data": {
      "text/plain": [
       "                                                                   Type: Void\n"
      ]
     },
     "execution_count": 30,
     "metadata": {},
     "output_type": "execute_result"
    }
   ],
   "source": [
    "test_limit(\"x*(exp(-exp(-x)) - exp(-exp(-2*x)))\", \"0\")"
   ]
  },
  {
   "cell_type": "code",
   "execution_count": 31,
   "metadata": {
    "collapsed": false
   },
   "outputs": [
    {
     "data": {
      "text/plain": [
       "                                                                   Type: Void\n"
      ]
     },
     "execution_count": 31,
     "metadata": {},
     "output_type": "execute_result"
    }
   ],
   "source": [
    "test_limit(\"x*(exp(-exp(x)) - exp(-exp(2*x)))\", \"0\")"
   ]
  },
  {
   "cell_type": "code",
   "execution_count": 32,
   "metadata": {
    "collapsed": false
   },
   "outputs": [
    {
     "data": {
      "text/plain": [
       "                                                                   Type: Void\n"
      ]
     },
     "execution_count": 32,
     "metadata": {},
     "output_type": "execute_result"
    }
   ],
   "source": [
    "test_limit(\"x^log(1/x)\", \"0\")"
   ]
  },
  {
   "cell_type": "code",
   "execution_count": 33,
   "metadata": {
    "collapsed": false
   },
   "outputs": [
    {
     "data": {
      "text/plain": [
       "                                                                   Type: Void\n"
      ]
     },
     "execution_count": 33,
     "metadata": {},
     "output_type": "execute_result"
    }
   ],
   "source": [
    "test_limit(\"(x + 1)^(x + 1)/x^x - x^x/(x - 1)^(x - 1)\", \"%e\")"
   ]
  },
  {
   "cell_type": "code",
   "execution_count": 34,
   "metadata": {
    "collapsed": false
   },
   "outputs": [
    {
     "data": {
      "text/plain": [
       "                                                                   Type: Void\n"
      ]
     },
     "execution_count": 34,
     "metadata": {},
     "output_type": "execute_result"
    }
   ],
   "source": [
    "test_limit(\"1/cosh(x)\", \"0\")"
   ]
  },
  {
   "cell_type": "code",
   "execution_count": 35,
   "metadata": {
    "collapsed": false
   },
   "outputs": [
    {
     "data": {
      "text/plain": [
       "                                                                   Type: Void\n"
      ]
     },
     "execution_count": 35,
     "metadata": {},
     "output_type": "execute_result"
    }
   ],
   "source": [
    "test_limit(\"1/(cosh(x) - log(x))\", \"0\")"
   ]
  },
  {
   "cell_type": "code",
   "execution_count": 36,
   "metadata": {
    "collapsed": false
   },
   "outputs": [
    {
     "data": {
      "text/plain": [
       "                                                                   Type: Void\n"
      ]
     },
     "execution_count": 36,
     "metadata": {},
     "output_type": "execute_result"
    }
   ],
   "source": [
    "test_limit(\"1/log(cosh(x))\", \"0\")"
   ]
  },
  {
   "cell_type": "code",
   "execution_count": 37,
   "metadata": {
    "collapsed": false
   },
   "outputs": [
    {
     "data": {
      "text/plain": [
       "                                                                   Type: Void\n"
      ]
     },
     "execution_count": 37,
     "metadata": {},
     "output_type": "execute_result"
    }
   ],
   "source": [
    "test_limit(\"log(x)/cosh(x)\", \"0\")"
   ]
  },
  {
   "cell_type": "code",
   "execution_count": 38,
   "metadata": {
    "collapsed": false
   },
   "outputs": [
    {
     "data": {
      "text/plain": [
       "                                                                   Type: Void\n"
      ]
     },
     "execution_count": 38,
     "metadata": {},
     "output_type": "execute_result"
    }
   ],
   "source": [
    "test_limit(\"log(x)/cosh(x*log(x))\", \"0\")"
   ]
  },
  {
   "cell_type": "code",
   "execution_count": 39,
   "metadata": {
    "collapsed": false
   },
   "outputs": [
    {
     "data": {
      "text/plain": [
       "                                                                   Type: Void\n"
      ]
     },
     "execution_count": 39,
     "metadata": {},
     "output_type": "execute_result"
    }
   ],
   "source": [
    "test_limit(\"log(x)*(1 - tanh(x))\", \"0\")"
   ]
  },
  {
   "cell_type": "code",
   "execution_count": 40,
   "metadata": {
    "collapsed": false
   },
   "outputs": [
    {
     "data": {
      "text/plain": [
       "                                                                   Type: Void\n"
      ]
     },
     "execution_count": 40,
     "metadata": {},
     "output_type": "execute_result"
    }
   ],
   "source": [
    "test_limit(\"log(x)*(1 - tanh(x*log(x)))\", \"0\")"
   ]
  },
  {
   "cell_type": "code",
   "execution_count": 41,
   "metadata": {
    "collapsed": false
   },
   "outputs": [
    {
     "data": {
      "text/plain": [
       "                                                                   Type: Void\n"
      ]
     },
     "execution_count": 41,
     "metadata": {},
     "output_type": "execute_result"
    }
   ],
   "source": [
    "test_limit(\"log(x)*(1 - tanh(x*log(log(x))))\", \"0\")"
   ]
  },
  {
   "cell_type": "code",
   "execution_count": 42,
   "metadata": {
    "collapsed": false
   },
   "outputs": [
    {
     "data": {
      "text/plain": [
       "                                                                   Type: Void\n"
      ]
     },
     "execution_count": 42,
     "metadata": {},
     "output_type": "execute_result"
    }
   ],
   "source": [
    "test_limit(\"log(log(x))*(1 - tanh(x))\", \"0\")"
   ]
  },
  {
   "cell_type": "code",
   "execution_count": 43,
   "metadata": {
    "collapsed": false
   },
   "outputs": [
    {
     "data": {
      "text/plain": [
       "   (2x - 1)log(x) + log(2%pi) - 2x\n",
       "   -------------------------------\n",
       "                  2\n",
       "                                                    Type: Expression(Integer)\n"
      ]
     },
     "execution_count": 43,
     "metadata": {},
     "output_type": "execute_result"
    }
   ],
   "source": [
    "lg0 := (x - 1/2)*log(x) - x + log(2*%pi)/2"
   ]
  },
  {
   "cell_type": "code",
   "execution_count": 44,
   "metadata": {
    "collapsed": false
   },
   "outputs": [
    {
     "data": {
      "text/plain": [
       "                                                                   Type: Void\n"
      ]
     },
     "execution_count": 44,
     "metadata": {},
     "output_type": "execute_result"
    }
   ],
   "source": [
    "test_limit(\"log(Gamma(x))/lg0\", \"1\")"
   ]
  },
  {
   "cell_type": "code",
   "execution_count": 45,
   "metadata": {
    "collapsed": false
   },
   "outputs": [
    {
     "data": {
      "text/plain": [
       "                                                                   Type: Void\n"
      ]
     },
     "execution_count": 45,
     "metadata": {},
     "output_type": "execute_result"
    }
   ],
   "source": [
    "test_limit(\"log(Gamma(x)) - lg0\", \"0\")"
   ]
  },
  {
   "cell_type": "code",
   "execution_count": 46,
   "metadata": {
    "collapsed": false
   },
   "outputs": [
    {
     "data": {
      "text/plain": [
       "   2log(Gamma(x)) + (- 2x + 1)log(x) - log(2%pi) + 2x\n",
       "   --------------------------------------------------\n",
       "                            2\n",
       "                                                    Type: Expression(Integer)\n"
      ]
     },
     "execution_count": 46,
     "metadata": {},
     "output_type": "execute_result"
    }
   ],
   "source": [
    "lg1 := log(Gamma(x)) - lg0"
   ]
  },
  {
   "cell_type": "code",
   "execution_count": 47,
   "metadata": {
    "collapsed": false
   },
   "outputs": [
    {
     "data": {
      "text/plain": [
       "                                                                   Type: Void\n"
      ]
     },
     "execution_count": 47,
     "metadata": {},
     "output_type": "execute_result"
    }
   ],
   "source": [
    "test_limit(\"x*lg1\", \"1/12\")"
   ]
  },
  {
   "cell_type": "code",
   "execution_count": 48,
   "metadata": {
    "collapsed": false
   },
   "outputs": [
    {
     "data": {
      "text/plain": [
       "                                                                   Type: Void\n"
      ]
     },
     "execution_count": 48,
     "metadata": {},
     "output_type": "execute_result"
    }
   ],
   "source": [
    "test_limit(\"x^2*(x*lg1 - 1/12)\", \"-1/360\")"
   ]
  },
  {
   "cell_type": "code",
   "execution_count": 49,
   "metadata": {
    "collapsed": false
   },
   "outputs": [
    {
     "data": {
      "text/plain": [
       "                                                                   Type: Void\n"
      ]
     },
     "execution_count": 49,
     "metadata": {},
     "output_type": "execute_result"
    }
   ],
   "source": [
    "test_limit(\"x^2*(x^2*(x*lg1 - 1/12) + 1/360)\", \"1/1260\")"
   ]
  },
  {
   "cell_type": "code",
   "execution_count": 50,
   "metadata": {
    "collapsed": false
   },
   "outputs": [
    {
     "data": {
      "text/plain": [
       "                                                                   Type: Void\n"
      ]
     },
     "execution_count": 50,
     "metadata": {},
     "output_type": "execute_result"
    }
   ],
   "source": [
    "test_limit(\"(log(Gamma(x+1)) - log(Gamma(x)))/log(x)\", \"1\")"
   ]
  },
  {
   "cell_type": "code",
   "execution_count": 51,
   "metadata": {
    "collapsed": false
   },
   "outputs": [
    {
     "data": {
      "text/plain": [
       "              2\n",
       "             x  + x + 1\n",
       "   log(Gamma(----------)) - log(Gamma(x)) - log(x)\n",
       "                  x\n",
       "                                                    Type: Expression(Integer)\n"
      ]
     },
     "execution_count": 51,
     "metadata": {},
     "output_type": "execute_result"
    }
   ],
   "source": [
    "lg2 := log(Gamma(x + 1 + 1/x)) - log(Gamma(x)) - log(x)"
   ]
  },
  {
   "cell_type": "code",
   "execution_count": 52,
   "metadata": {
    "collapsed": false
   },
   "outputs": [
    {
     "data": {
      "text/plain": [
       "                                                                   Type: Void\n"
      ]
     },
     "execution_count": 52,
     "metadata": {},
     "output_type": "execute_result"
    }
   ],
   "source": [
    "test_limit(\"lg2\", \"0\")"
   ]
  },
  {
   "cell_type": "code",
   "execution_count": 53,
   "metadata": {
    "collapsed": false
   },
   "outputs": [
    {
     "data": {
      "text/plain": [
       "                                                                   Type: Void\n"
      ]
     },
     "execution_count": 53,
     "metadata": {},
     "output_type": "execute_result"
    }
   ],
   "source": [
    "test_limit(\"x*lg2/log(x)\", \"1\")"
   ]
  },
  {
   "cell_type": "code",
   "execution_count": 54,
   "metadata": {
    "collapsed": false
   },
   "outputs": [
    {
     "data": {
      "text/plain": [
       "                                                                   Type: Void\n"
      ]
     },
     "execution_count": 54,
     "metadata": {},
     "output_type": "execute_result"
    }
   ],
   "source": [
    "test_limit(\"x*(digamma(x) - log(x))\", \"-1/2\")"
   ]
  },
  {
   "cell_type": "code",
   "execution_count": 55,
   "metadata": {
    "collapsed": false
   },
   "outputs": [
    {
     "data": {
      "text/plain": [
       "                                                                   Type: Void\n"
      ]
     },
     "execution_count": 55,
     "metadata": {},
     "output_type": "execute_result"
    }
   ],
   "source": [
    "test_limit(\"Gamma(1 + x - t)*Gamma(1 + x + t)/Gamma(1 + x)^2\", \"1\")"
   ]
  },
  {
   "cell_type": "code",
   "execution_count": 56,
   "metadata": {
    "collapsed": false
   },
   "outputs": [
    {
     "data": {
      "text/plain": [
       "                                                                   Type: Void\n"
      ]
     },
     "execution_count": 56,
     "metadata": {},
     "output_type": "execute_result"
    }
   ],
   "source": [
    "test_limit(\"log(x)*li(x)/x\", \"1\")"
   ]
  },
  {
   "cell_type": "code",
   "execution_count": 57,
   "metadata": {
    "collapsed": false
   },
   "outputs": [
    {
     "data": {
      "text/plain": [
       "                                                                   Type: Void\n"
      ]
     },
     "execution_count": 57,
     "metadata": {},
     "output_type": "execute_result"
    }
   ],
   "source": [
    "test_limit(\"log(x)*(log(x)*li(x)/x - 1)\", \"1\")"
   ]
  },
  {
   "cell_type": "code",
   "execution_count": 58,
   "metadata": {
    "collapsed": false
   },
   "outputs": [
    {
     "data": {
      "text/plain": [
       "                                                                   Type: Void\n"
      ]
     },
     "execution_count": 58,
     "metadata": {},
     "output_type": "execute_result"
    }
   ],
   "source": [
    "test_limit(\"exp(-x^2)*erfi(x)\", \"0\")"
   ]
  },
  {
   "cell_type": "code",
   "execution_count": 59,
   "metadata": {
    "collapsed": false
   },
   "outputs": [
    {
     "data": {
      "text/plain": [
       "                                                                   Type: Void\n"
      ]
     },
     "execution_count": 59,
     "metadata": {},
     "output_type": "execute_result"
    }
   ],
   "source": [
    "test_limit(\"x*exp(-x^2)*erfi(x)\", \"1/sqrt(%pi)\")"
   ]
  },
  {
   "cell_type": "code",
   "execution_count": 60,
   "metadata": {
    "collapsed": false
   },
   "outputs": [
    {
     "data": {
      "text/plain": [
       "                                                                   Type: Void\n"
      ]
     },
     "execution_count": 60,
     "metadata": {},
     "output_type": "execute_result"
    }
   ],
   "source": [
    "test_limit(\"x^2*(sqrt(%pi)*x*exp(-x^2)*erfi(x) - 1)\", \"1/2\")"
   ]
  },
  {
   "cell_type": "code",
   "execution_count": 61,
   "metadata": {
    "collapsed": false
   },
   "outputs": [
    {
     "data": {
      "text/plain": [
       "                                                                   Type: Void\n"
      ]
     },
     "execution_count": 61,
     "metadata": {},
     "output_type": "execute_result"
    }
   ],
   "source": [
    "testEquals(\"limit(x/exp(x),x = %minusInfinity)\", \"%minusInfinity\")"
   ]
  },
  {
   "cell_type": "code",
   "execution_count": 62,
   "metadata": {
    "collapsed": false
   },
   "outputs": [
    {
     "data": {
      "text/plain": [
       "                                                                   Type: Void\n"
      ]
     },
     "execution_count": 62,
     "metadata": {},
     "output_type": "execute_result"
    }
   ],
   "source": [
    "testEquals(\"limit(x^(10^20)/exp(x),x = %minusInfinity)\", \"%plusInfinity\")"
   ]
  },
  {
   "cell_type": "code",
   "execution_count": 63,
   "metadata": {
    "collapsed": false
   },
   "outputs": [
    {
     "data": {
      "text/plain": [
       "                                                                   Type: Void\n"
      ]
     },
     "execution_count": 63,
     "metadata": {},
     "output_type": "execute_result"
    }
   ],
   "source": [
    "testTrue(\"limit(x^h/exp(x),x = %minusInfinity) case _\"failed_\"\")"
   ]
  },
  {
   "cell_type": "code",
   "execution_count": 64,
   "metadata": {
    "collapsed": false
   },
   "outputs": [
    {
     "data": {
      "text/plain": []
     },
     "execution_count": 64,
     "metadata": {},
     "output_type": "execute_result"
    }
   ],
   "source": [
    ")set output algebra on"
   ]
  },
  {
   "cell_type": "code",
   "execution_count": 65,
   "metadata": {
    "collapsed": false
   },
   "outputs": [
    {
     "data": {
      "text/plain": [
       "   =============================================================================\n",
       "   General WARNINGS:\n",
       "   * do not use ')clear completely' before having used 'statistics()'\n",
       "     It clears the statistics without warning!\n",
       "   * do not forget to pass the arguments of the testXxxx functions as Strings!\n",
       "     Otherwise, the test will fail and statistics() will not notice!\n",
       "   * testLibraryError does not prevent FriCAS from aborting the current block.\n",
       "     Thus, if a block contains other test functions, they will not be executed\n",
       "     and statistics() will not notice!\n",
       "   =============================================================================\n",
       "   WARNINGS:\n",
       "   Testsuite: limit\n",
       "   Testcase: 1/x\n",
       "   test: 1\n",
       "   testing in a domain without InputForm!\n",
       "   Testsuite: limit\n",
       "   Testcase: 1/log(x)\n",
       "   test: 1\n",
       "   testing in a domain without InputForm!\n",
       "   Testsuite: limit\n",
       "   Testcase: 1/(x + log(x))\n",
       "   test: 1\n",
       "   testing in a domain without InputForm!\n",
       "   Testsuite: limit\n",
       "   Testcase: x/(x + log(x))\n",
       "   test: 1\n",
       "   testing in a domain without InputForm!\n",
       "   Testsuite: limit\n",
       "   Testcase: x/(x - log(x))\n",
       "   test: 1\n",
       "   testing in a domain without InputForm!\n",
       "   Testsuite: limit\n",
       "   Testcase: x/(x + sqrt(x))\n",
       "   test: 1\n",
       "   testing in a domain without InputForm!\n",
       "   Testsuite: limit\n",
       "   Testcase: x/(x - sqrt(x))\n",
       "   test: 1\n",
       "   testing in a domain without InputForm!\n",
       "   Testsuite: limit\n",
       "   Testcase: 1/exp(x)\n",
       "   test: 1\n",
       "   testing in a domain without InputForm!\n",
       "   Testsuite: limit\n",
       "   Testcase: 1/(exp(x) - log(x))\n",
       "   test: 1\n",
       "   testing in a domain without InputForm!\n",
       "   Testsuite: limit\n",
       "   Testcase: x/exp(x)\n",
       "   test: 1\n",
       "   testing in a domain without InputForm!\n",
       "   Testsuite: limit\n",
       "   Testcase: x^667/exp(x)\n",
       "   test: 1\n",
       "   testing in a domain without InputForm!\n",
       "   Testsuite: limit\n",
       "   Testcase: x^a/exp(x)\n",
       "   test: 1\n",
       "   testing in a domain without InputForm!\n",
       "   Testsuite: limit\n",
       "   Testcase: sinh(x)/exp(x)\n",
       "   test: 1\n",
       "   testing in a domain without InputForm!\n",
       "   Testsuite: limit\n",
       "   Testcase: cosh(x)/exp(x)\n",
       "   test: 1\n",
       "   testing in a domain without InputForm!\n",
       "   Testsuite: limit\n",
       "   Testcase: sin(x)/exp(x)\n",
       "   test: 1\n",
       "   testing in a domain without InputForm!\n",
       "   Testsuite: limit\n",
       "   Testcase: (x + sin(x))/exp(x)\n",
       "   test: 1\n",
       "   testing in a domain without InputForm!\n",
       "   Testsuite: limit\n",
       "   Testcase: log(x)/exp(x)\n",
       "   test: 1\n",
       "   testing in a domain without InputForm!\n",
       "   Testsuite: limit\n",
       "   Testcase: log(x)/exp(x-log(x))\n",
       "   test: 1\n",
       "   testing in a domain without InputForm!\n",
       "   Testsuite: limit\n",
       "   Testcase: log(x)/exp(x/log(x))\n",
       "   test: 1\n",
       "   testing in a domain without InputForm!\n",
       "   Testsuite: limit\n",
       "   Testcase: log(x)/exp(log(x+1)^2)\n",
       "   test: 1\n",
       "   testing in a domain without InputForm!\n",
       "   Testsuite: limit\n",
       "   Testcase: log(x)/exp(x*log(x))\n",
       "   test: 1\n",
       "   testing in a domain without InputForm!\n",
       "   Testsuite: limit\n",
       "   Testcase: log(x)/exp(exp(x))\n",
       "   test: 1\n",
       "   testing in a domain without InputForm!\n",
       "   Testsuite: limit\n",
       "   Testcase: log(x)/exp(exp(x)/log(x))\n",
       "   test: 1\n",
       "   testing in a domain without InputForm!\n",
       "   Testsuite: limit\n",
       "   Testcase: log(exp(x)+x)/log(exp(x + log(x)^2) + 1)\n",
       "   test: 1\n",
       "   testing in a domain without InputForm!\n",
       "   Testsuite: limit\n",
       "   Testcase: log(log(exp(x) + x))/log(exp(log(x)+1))\n",
       "   test: 1\n",
       "   testing in a domain without InputForm!\n",
       "   Testsuite: limit\n",
       "   Testcase: x*(exp(-exp(-x)) - 1)\n",
       "   test: 1\n",
       "   testing in a domain without InputForm!\n",
       "   Testsuite: limit\n",
       "   Testcase: x*(exp(-exp(-x)) - exp(-exp(-2*x)))\n",
       "   test: 1\n",
       "   testing in a domain without InputForm!\n",
       "   Testsuite: limit\n",
       "   Testcase: x*(exp(-exp(x)) - exp(-exp(2*x)))\n",
       "   test: 1\n",
       "   testing in a domain without InputForm!\n",
       "   Testsuite: limit\n",
       "   Testcase: x^log(1/x)\n",
       "   test: 1\n",
       "   testing in a domain without InputForm!\n",
       "   Testsuite: limit\n",
       "   Testcase: (x + 1)^(x + 1)/x^x - x^x/(x - 1)^(x - 1)\n",
       "   test: 1\n",
       "   testing in a domain without InputForm!\n",
       "   Testsuite: limit\n",
       "   Testcase: 1/cosh(x)\n",
       "   test: 1\n",
       "   testing in a domain without InputForm!\n",
       "   Testsuite: limit\n",
       "   Testcase: 1/(cosh(x) - log(x))\n",
       "   test: 1\n",
       "   testing in a domain without InputForm!\n",
       "   Testsuite: limit\n",
       "   Testcase: 1/log(cosh(x))\n",
       "   test: 1\n",
       "   testing in a domain without InputForm!\n",
       "   Testsuite: limit\n",
       "   Testcase: log(x)/cosh(x)\n",
       "   test: 1\n",
       "   testing in a domain without InputForm!\n",
       "   Testsuite: limit\n",
       "   Testcase: log(x)/cosh(x*log(x))\n",
       "   test: 1\n",
       "   testing in a domain without InputForm!\n",
       "   Testsuite: limit\n",
       "   Testcase: log(x)*(1 - tanh(x))\n",
       "   test: 1\n",
       "   testing in a domain without InputForm!\n",
       "   Testsuite: limit\n",
       "   Testcase: log(x)*(1 - tanh(x*log(x)))\n",
       "   test: 1\n",
       "   testing in a domain without InputForm!\n",
       "   Testsuite: limit\n",
       "   Testcase: log(x)*(1 - tanh(x*log(log(x))))\n",
       "   test: 1\n",
       "   testing in a domain without InputForm!\n",
       "   Testsuite: limit\n",
       "   Testcase: log(log(x))*(1 - tanh(x))\n",
       "   test: 1\n",
       "   testing in a domain without InputForm!\n",
       "   Testsuite: limit\n",
       "   Testcase: log(Gamma(x))/lg0\n",
       "   test: 1\n",
       "   testing in a domain without InputForm!\n",
       "   Testsuite: limit\n",
       "   Testcase: log(Gamma(x)) - lg0\n",
       "   test: 1\n",
       "   testing in a domain without InputForm!\n",
       "   Testsuite: limit\n",
       "   Testcase: x*lg1\n",
       "   test: 1\n",
       "   testing in a domain without InputForm!\n",
       "   Testsuite: limit\n",
       "   Testcase: x^2*(x*lg1 - 1/12)\n",
       "   test: 1\n",
       "   testing in a domain without InputForm!\n",
       "   Testsuite: limit\n",
       "   Testcase: x^2*(x^2*(x*lg1 - 1/12) + 1/360)\n",
       "   test: 1\n",
       "   testing in a domain without InputForm!\n",
       "   Testsuite: limit\n",
       "   Testcase: (log(Gamma(x+1)) - log(Gamma(x)))/log(x)\n",
       "   test: 1\n",
       "   testing in a domain without InputForm!\n",
       "   Testsuite: limit\n",
       "   Testcase: lg2\n",
       "   test: 1\n",
       "   testing in a domain without InputForm!\n",
       "   Testsuite: limit\n",
       "   Testcase: x*lg2/log(x)\n",
       "   test: 1\n",
       "   testing in a domain without InputForm!\n",
       "   Testsuite: limit\n",
       "   Testcase: x*(digamma(x) - log(x))\n",
       "   test: 1\n",
       "   testing in a domain without InputForm!\n",
       "   Testsuite: limit\n",
       "   Testcase: Gamma(1 + x - t)*Gamma(1 + x + t)/Gamma(1 + x)^2\n",
       "   test: 1\n",
       "   testing in a domain without InputForm!\n",
       "   Testsuite: limit\n",
       "   Testcase: log(x)*li(x)/x\n",
       "   test: 1\n",
       "   testing in a domain without InputForm!\n",
       "   Testsuite: limit\n",
       "   Testcase: log(x)*(log(x)*li(x)/x - 1)\n",
       "   test: 1\n",
       "   testing in a domain without InputForm!\n",
       "   Testsuite: limit\n",
       "   Testcase: exp(-x^2)*erfi(x)\n",
       "   test: 1\n",
       "   testing in a domain without InputForm!\n",
       "   Testsuite: limit\n",
       "   Testcase: x*exp(-x^2)*erfi(x)\n",
       "   test: 1\n",
       "   testing in a domain without InputForm!\n",
       "   Testsuite: limit\n",
       "   Testcase: x^2*(sqrt(%pi)*x*exp(-x^2)*erfi(x) - 1)\n",
       "   test: 1\n",
       "   testing in a domain without InputForm!\n",
       "   Testsuite: limit\n",
       "   Testcase: x^2*(sqrt(%pi)*x*exp(-x^2)*erfi(x) - 1)\n",
       "   test: 2\n",
       "   testing in a domain without InputForm!\n",
       "   Testsuite: limit\n",
       "   Testcase: x^2*(sqrt(%pi)*x*exp(-x^2)*erfi(x) - 1)\n",
       "   test: 3\n",
       "   testing in a domain without InputForm!\n",
       "\n",
       "   =============================================================================\n",
       "   Testsuite: limit\n",
       "     failed (total): 0 (54)\n",
       "\n",
       "   =============================================================================\n",
       "   testsuite | testcases: failed (total) | tests: failed (total)\n",
       "   limit                       0    (54)               0    (57)\n",
       "   =============================================================================\n",
       "   File summary.\n",
       "   unexpected failures: 0\n",
       "   expected failures: 0\n",
       "   unexpected passes: 0\n",
       "   total tests: 57\n",
       "                                                                   Type: Void\n"
      ]
     },
     "execution_count": 65,
     "metadata": {},
     "output_type": "execute_result"
    }
   ],
   "source": [
    "statistics()"
   ]
  },
  {
   "cell_type": "code",
   "execution_count": 66,
   "metadata": {
    "collapsed": false
   },
   "outputs": [
    {
     "data": {
      "text/plain": []
     },
     "execution_count": 66,
     "metadata": {},
     "output_type": "execute_result"
    }
   ],
   "source": [
    "--\n",
    "-- EOF\n",
    "--"
   ]
  }
 ],
 "metadata": {
  "kernelspec": {
   "display_name": "FriCAS",
   "language": "spad",
   "name": "ifricas"
  },
  "language_info": {
   "codemirror_mode": "spad",
   "mimetype": "text/x-spad",
   "name": "SPAD",
   "pygments_lexer": "spad",
   "version": "1.2.6"
  },
  "name": "limit.ipynb"
 },
 "nbformat": 4,
 "nbformat_minor": 0
}