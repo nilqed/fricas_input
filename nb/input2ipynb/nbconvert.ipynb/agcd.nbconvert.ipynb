{
 "cells": [
  {
   "cell_type": "code",
   "execution_count": 0,
   "metadata": {
    "collapsed": false
   },
   "outputs": [
    {
     "data": {
      "text/plain": []
     },
     "execution_count": 0,
     "metadata": {},
     "output_type": "execute_result"
    }
   ],
   "source": [
    ")set break resume"
   ]
  },
  {
   "cell_type": "code",
   "execution_count": 1,
   "metadata": {
    "collapsed": false
   },
   "outputs": [
    {
     "name": "stdout",
     "output_type": "stream",
     "text": [
      "   UnittestCount is now explicitly exposed in frame initial \n",
      "   UnittestAux is now explicitly exposed in frame initial \n",
      "   Unittest is now explicitly exposed in frame initial \n"
     ]
    },
    {
     "data": {
      "text/plain": []
     },
     "execution_count": 1,
     "metadata": {},
     "output_type": "execute_result"
    }
   ],
   "source": [
    ")expose UnittestCount UnittestAux Unittest"
   ]
  },
  {
   "cell_type": "code",
   "execution_count": 2,
   "metadata": {
    "collapsed": false
   },
   "outputs": [
    {
     "name": "stdout",
     "output_type": "stream",
     "text": [
      "   All user variables and function definitions have been cleared.\n",
      "Warning: HyperTeX macro table not found\n"
     ]
    },
    {
     "data": {
      "text/plain": [
       "                                                                   Type: Void\n"
      ]
     },
     "execution_count": 2,
     "metadata": {},
     "output_type": "execute_result"
    }
   ],
   "source": [
    "testsuite \"algebraic gcd\""
   ]
  },
  {
   "cell_type": "code",
   "execution_count": 3,
   "metadata": {
    "collapsed": false
   },
   "outputs": [
    {
     "name": "stdout",
     "output_type": "stream",
     "text": [
      "   All user variables and function definitions have been cleared.\n"
     ]
    },
    {
     "data": {
      "text/plain": [
       "                                                                   Type: Void\n"
      ]
     },
     "execution_count": 3,
     "metadata": {},
     "output_type": "execute_result"
    }
   ],
   "source": [
    "testcase \"single extension\""
   ]
  },
  {
   "cell_type": "markdown",
   "metadata": {},
   "source": [
    " Setup gcd routines\n"
   ]
  },
  {
   "cell_type": "code",
   "execution_count": 4,
   "metadata": {
    "collapsed": false
   },
   "outputs": [
    {
     "data": {
      "text/plain": [
       "   U32Vector\n",
       "                                                                   Type: Type\n"
      ]
     },
     "execution_count": 4,
     "metadata": {},
     "output_type": "execute_result"
    }
   ],
   "source": [
    "pA := U32Vector"
   ]
  },
  {
   "cell_type": "code",
   "execution_count": 5,
   "metadata": {
    "collapsed": false
   },
   "outputs": [
    {
     "data": {
      "text/plain": [
       "   PrimitiveArray(U32Vector)\n",
       "                                                                   Type: Type\n"
      ]
     },
     "execution_count": 5,
     "metadata": {},
     "output_type": "execute_result"
    }
   ],
   "source": [
    "pPA := PrimitiveArray(pA)"
   ]
  },
  {
   "cell_type": "code",
   "execution_count": 6,
   "metadata": {
    "collapsed": false
   },
   "outputs": [
    {
     "data": {
      "text/plain": [
       "   Record(svz: Symbol,sm: U32Vector,sp: Integer)\n",
       "                                                                   Type: Type\n"
      ]
     },
     "execution_count": 6,
     "metadata": {},
     "output_type": "execute_result"
    }
   ],
   "source": [
    "mD1 := Record(svz : Symbol, sm : pA, sp : Integer)"
   ]
  },
  {
   "cell_type": "code",
   "execution_count": 7,
   "metadata": {
    "collapsed": false
   },
   "outputs": [
    {
     "data": {
      "text/plain": [
       "   ModularAlgebraicGcdTools2\n",
       "                                                                   Type: Type\n"
      ]
     },
     "execution_count": 7,
     "metadata": {},
     "output_type": "execute_result"
    }
   ],
   "source": [
    "mOP := ModularAlgebraicGcdTools2"
   ]
  },
  {
   "cell_type": "code",
   "execution_count": 8,
   "metadata": {
    "collapsed": false
   },
   "outputs": [
    {
     "data": {
      "text/plain": [
       "  ModularAlgebraicGcd(PrimitiveArray(U32Vector),Record(svz: Symbol,sm: U32Vecto\n",
       "  r,sp: Integer),ModularAlgebraicGcdTools2)\n",
       "                                                                   Type: Type\n"
      ]
     },
     "execution_count": 8,
     "metadata": {},
     "output_type": "execute_result"
    }
   ],
   "source": [
    "mGCD := ModularAlgebraicGcd(pPA, mD1, mOP)"
   ]
  },
  {
   "cell_type": "markdown",
   "metadata": {},
   "source": [
    " helper to prepare data\n"
   ]
  },
  {
   "cell_type": "code",
   "execution_count": 9,
   "metadata": {
    "collapsed": false
   },
   "outputs": [
    {
     "data": {
      "text/plain": [
       "                                                                   Type: Void\n"
      ]
     },
     "execution_count": 9,
     "metadata": {},
     "output_type": "execute_result"
    }
   ],
   "source": [
    "mreduction(x, z, m) == multivariate(pseudoRemainder(univariate(x, z), univariate(m, z)), z)"
   ]
  },
  {
   "cell_type": "markdown",
   "metadata": {},
   "source": [
    " case 1\n"
   ]
  },
  {
   "cell_type": "code",
   "execution_count": 10,
   "metadata": {
    "collapsed": false
   },
   "outputs": [
    {
     "data": {
      "text/plain": [
       "         2                     2           3\n",
       "   ((- 2t  + 3t)x + 15)z + 3t x  + 15x - 2t\n",
       "                                                    Type: Polynomial(Integer)\n"
      ]
     },
     "execution_count": 10,
     "metadata": {},
     "output_type": "execute_result"
    }
   ],
   "source": [
    "p1 := 3*t*x^2 + (-2*t^2 + 3*t)*z*x + 15*x + 15*z - 2*t^3"
   ]
  },
  {
   "cell_type": "code",
   "execution_count": 11,
   "metadata": {
    "collapsed": false
   },
   "outputs": [
    {
     "data": {
      "text/plain": [
       "        2           2          3\n",
       "   (3t x  + 15x - 2t )z + (- 2t  + 3t)x + 15\n",
       "                                                    Type: Polynomial(Integer)\n"
      ]
     },
     "execution_count": 11,
     "metadata": {},
     "output_type": "execute_result"
    }
   ],
   "source": [
    "q1 := 3*t*z*x^2 + 15*z*x + (-2*t^3 + 3*t)*x - 2*t^2*z + 15"
   ]
  },
  {
   "cell_type": "code",
   "execution_count": 12,
   "metadata": {
    "collapsed": false
   },
   "outputs": [
    {
     "data": {
      "text/plain": [
       "    2\n",
       "   z  - t\n",
       "                                                    Type: Polynomial(Integer)\n"
      ]
     },
     "execution_count": 12,
     "metadata": {},
     "output_type": "execute_result"
    }
   ],
   "source": [
    "m := z^2 - t"
   ]
  },
  {
   "cell_type": "code",
   "execution_count": 13,
   "metadata": {
    "collapsed": false
   },
   "outputs": [
    {
     "data": {
      "text/plain": [
       "       2\n",
       "   - 2t z + 3t x + 15\n",
       "                                                    Type: Polynomial(Integer)\n"
      ]
     },
     "execution_count": 13,
     "metadata": {},
     "output_type": "execute_result"
    }
   ],
   "source": [
    "g1 := algebraicGcd(p1, q1, [m], [t], x, [z])$mGCD"
   ]
  },
  {
   "cell_type": "code",
   "execution_count": 14,
   "metadata": {
    "collapsed": false
   },
   "outputs": [
    {
     "data": {
      "text/plain": [
       "                                                                   Type: Void\n"
      ]
     },
     "execution_count": 14,
     "metadata": {},
     "output_type": "execute_result"
    }
   ],
   "source": [
    "testEquals(\"g1\", \"-2*t^2*z+(3*t*x+15)\")"
   ]
  },
  {
   "cell_type": "code",
   "execution_count": 15,
   "metadata": {
    "collapsed": false
   },
   "outputs": [
    {
     "name": "stdout",
     "output_type": "stream",
     "text": [
      "   Compiling function mreduction with type (Polynomial(Integer),\n",
      "      Variable(z),Polynomial(Integer)) -> Polynomial(Integer) \n",
      "                                                                                                                                                                                                "
     ]
    },
    {
     "data": {
      "text/plain": [
       "                6        5  9            5         4  8\n",
       "         (- 810t  + 1215t )x  + (- 16200t  + 30375t )x\n",
       "       + \n",
       "                9        8        7        6          4          3  7\n",
       "         (- 720t  + 5400t  - 8100t  + 2430t  - 121500t  + 303750t )x\n",
       "       + \n",
       "                 8         7          6         5          3           2  6\n",
       "         (- 7200t  + 81000t  - 162000t  + 60750t  - 405000t  + 1518750t )x\n",
       "       + \n",
       "                  12        11        10         9        8         7          6\n",
       "             - 32t   + 1200t   - 7200t   + 10800t  - 4050t  - 17757t  + 405000t\n",
       "           + \n",
       "                       5          4          2\n",
       "             - 1215000t  + 607500t  - 506250t  + 3796875t\n",
       "        *\n",
       "            5\n",
       "           x\n",
       "       + \n",
       "                  10         9          8         7        6          5\n",
       "             6000t   - 72000t  + 162000t  - 81000t  + 6075t  + 675000t\n",
       "           + \n",
       "                       4           3\n",
       "             - 4050000t  + 3037500t  + 3796875\n",
       "        *\n",
       "            4\n",
       "           x\n",
       "       + \n",
       "                   13        12        11        10          8          7\n",
       "             - 320t   + 2400t   - 3600t   + 1080t   - 180000t  + 810000t\n",
       "           + \n",
       "                      6         5           3           2\n",
       "             - 607500t  + 60750t  - 5062500t  + 7593750t\n",
       "        *\n",
       "            3\n",
       "           x\n",
       "       + \n",
       "                   11         10         9           6           5          4\n",
       "             12000t   - 36000t   + 16200t  + 1350000t  - 2025000t  + 303750t\n",
       "           + \n",
       "             7593750t\n",
       "        *\n",
       "            2\n",
       "           x\n",
       "       + \n",
       "                14       13         9         8           4          3\n",
       "         (- 160t   + 240t   - 90000t  + 81000t  - 2531250t  + 759375t )x\n",
       "       + \n",
       "              12          7          2\n",
       "         1200t   + 135000t  + 759375t\n",
       "    *\n",
       "       z\n",
       "   + \n",
       "         5 10        4 9         8        7        6         3  8\n",
       "     243t x   + 6075t x  + (1080t  - 4050t  + 2430t  + 60750t )x\n",
       "   + \n",
       "            7         6         5          2  7\n",
       "     (16200t  - 81000t  + 60750t  + 303750t )x\n",
       "   + \n",
       "             11        10         9        8        7         6          5\n",
       "         240t   - 3600t   + 10800t  - 8100t  + 1215t  + 81000t  - 607500t\n",
       "       + \n",
       "                4\n",
       "         607500t  + 759375t\n",
       "    *\n",
       "        6\n",
       "       x\n",
       "   + \n",
       "              10         9          8          7         6          5\n",
       "         1200t   - 36000t  + 162000t  - 162000t  + 30375t  + 135000t\n",
       "       + \n",
       "                   4           3\n",
       "         - 2025000t  + 3037500t  + 759375\n",
       "    *\n",
       "        5\n",
       "       x\n",
       "   + \n",
       "               13        12        11        10       9         8          7\n",
       "         - 160t   + 2400t   - 7200t   + 5400t   - 810t  - 90000t  + 810000t\n",
       "       + \n",
       "                   6          5           3           2\n",
       "         - 1215000t  + 303750t  - 2531250t  + 7593750t\n",
       "    *\n",
       "        4\n",
       "       x\n",
       "   + \n",
       "               11         10         9         8           6           5\n",
       "         12000t   - 72000t   + 81000t  - 16200t  + 1350000t  - 4050000t\n",
       "       + \n",
       "                 4\n",
       "         1518750t  + 7593750t\n",
       "    *\n",
       "        3\n",
       "       x\n",
       "   + \n",
       "               14        13       12          9          8          7\n",
       "         - 320t   + 1200t   - 720t   - 180000t  + 405000t  - 121500t\n",
       "       + \n",
       "                   4           3\n",
       "         - 5062500t  + 3796875t\n",
       "    *\n",
       "        2\n",
       "       x\n",
       "   + \n",
       "           12        11          7          6           2        15         10\n",
       "     (6000t   - 7200t   + 675000t  - 405000t  + 3796875t )x - 32t   - 18000t\n",
       "   + \n",
       "              5\n",
       "     - 506250t\n",
       "                                                    Type: Polynomial(Integer)\n"
      ]
     },
     "execution_count": 15,
     "metadata": {},
     "output_type": "execute_result"
    }
   ],
   "source": [
    "p5 := mreduction(p1^5, z, m)"
   ]
  },
  {
   "cell_type": "code",
   "execution_count": 16,
   "metadata": {
    "collapsed": false
   },
   "outputs": [
    {
     "name": "stdout",
     "output_type": "stream",
     "text": [
      "                                                                            "
     ]
    },
    {
     "data": {
      "text/plain": [
       "                7       5  7           6        4  6\n",
       "         (- 216t  + 324t )x  + (- 3240t  + 6480t )x\n",
       "       + \n",
       "               10       8        6         5       4         3  5\n",
       "         (- 96t   + 864t  - 1296t  - 16200t  + 324t  + 48600t )x\n",
       "       + \n",
       "                9        7         5         4        3          2  4\n",
       "         (- 480t  + 8640t  - 19440t  - 27000t  + 6480t  + 162000t )x\n",
       "       + \n",
       "                  11       9       7         6       5         4         2\n",
       "               64t   - 576t  + 864t  + 21600t  - 216t  - 97200t  + 48600t\n",
       "             + \n",
       "               202500t\n",
       "        *\n",
       "            3\n",
       "           x\n",
       "       + \n",
       "                 8        6        4          3            2\n",
       "         (- 2880t  + 8640t  - 3240t  - 162000t  + 162000t)x\n",
       "       + \n",
       "             10      8         5         3                  7         2\n",
       "         (64t   - 96t  + 21600t  - 16200t  + 202500)x - 480t  - 27000t\n",
       "    *\n",
       "       z\n",
       "   + \n",
       "        6 8        5 7        9       7       5         4  6\n",
       "     81t x  + 1620t x  + (216t  - 864t  + 486t  + 12150t )x\n",
       "   + \n",
       "           8         6        4         3  5\n",
       "     (2160t  - 12960t  + 9720t  + 40500t )x\n",
       "   + \n",
       "            12       10        8        7       6         5      4         3\n",
       "         16t   - 384t   + 1296t  + 5400t  - 864t  - 64800t  + 81t  + 72900t\n",
       "       + \n",
       "               2\n",
       "         50625t\n",
       "    *\n",
       "        4\n",
       "       x\n",
       "   + \n",
       "             9         7         5          4        3          2  3\n",
       "     (- 1920t  + 12960t  - 12960t  - 108000t  + 1620t  + 243000t )x\n",
       "   + \n",
       "         11       9       7         6         4         2            2\n",
       "     (96t   - 384t  + 216t  + 32400t  - 64800t  + 12150t  + 303750t)x\n",
       "   + \n",
       "             8        6          3                 10        5\n",
       "     (- 1920t  + 2160t  - 108000t  + 40500t)x + 16t   + 5400t  + 50625\n",
       "                                                    Type: Polynomial(Integer)\n"
      ]
     },
     "execution_count": 16,
     "metadata": {},
     "output_type": "execute_result"
    }
   ],
   "source": [
    "q4 := mreduction(q1^4, z, m)"
   ]
  },
  {
   "cell_type": "code",
   "execution_count": 17,
   "metadata": {
    "collapsed": false
   },
   "outputs": [
    {
     "name": "stdout",
     "output_type": "stream",
     "text": [
      "  "
     ]
    },
    {
     "data": {
      "text/plain": [
       "            5 3        4 2         8         3         7         2        4 4\n",
       "     (- 216t x  - 3240t x  + (- 96t  - 16200t )x - 480t  - 27000t )z + 81t x\n",
       "   + \n",
       "        3 3        7         2  2         6                 10        5\n",
       "   1620t x  + (216t  + 12150t )x  + (2160t  + 40500t)x + 16t   + 5400t  + 50625\n",
       "                                                    Type: Polynomial(Integer)\n"
      ]
     },
     "execution_count": 17,
     "metadata": {},
     "output_type": "execute_result"
    }
   ],
   "source": [
    "g4 := algebraicGcd(p5, q4, [m], [t], x, [z])$mGCD"
   ]
  },
  {
   "cell_type": "code",
   "execution_count": 18,
   "metadata": {
    "collapsed": false
   },
   "outputs": [
    {
     "data": {
      "text/plain": [
       "                                                                   Type: Void\n"
      ]
     },
     "execution_count": 18,
     "metadata": {},
     "output_type": "execute_result"
    }
   ],
   "source": [
    "testEquals(\"g4\", \"mreduction(g1^4, z, m)\")"
   ]
  },
  {
   "cell_type": "markdown",
   "metadata": {},
   "source": [
    " from clicliclic on sci.math.symbolic\n"
   ]
  },
  {
   "cell_type": "code",
   "execution_count": 19,
   "metadata": {
    "collapsed": false
   },
   "outputs": [
    {
     "name": "stdout",
     "output_type": "stream",
     "text": [
      "  Line   1: pol := (8*b*e^2 - 4*c*d*e + d^3)*x^6 + 2*(16*a*e^2 + 2*b*d*e - _\n",
      "  Line   2:  4*c^2*e + c*d^2)*x^5 + 5*(8*a*d*e - 4*b*c*e + b*d^2)*x^4 _\n",
      "  Line   3:  + 20*(a*d^2 - b^2*e)*x^3 - 5*(8*a*b*e - 4*a*c*d + b^2*d)*x^2 _\n",
      "  Line   4:  - 2*(16*a^2*e + 2*a*b*d - 4*a*c^2 + b^2*c)*x _\n",
      "  Line   5: )--premature end\n",
      "           AB\n",
      "  Error  A: Improper syntax.\n",
      "  Error  B: File \n",
      "            /home/kfp/Development/fricas_input/nb/input2ipynb/nbconvert.ipynb/.tmp-ispad-40694.input\n",
      "             ended where at least one )endif was still needed. An appropriate \n",
      "            number of )endif lines has been assumed.\n",
      "   2 error(s) parsing \n",
      "\n",
      "   Continuing to read the file...\n",
      "\n",
      "\n"
     ]
    },
    {
     "data": {
      "text/plain": []
     },
     "execution_count": 19,
     "metadata": {},
     "output_type": "execute_result"
    }
   ],
   "source": [
    "pol := (8*b*e^2 - 4*c*d*e + d^3)*x^6 + 2*(16*a*e^2 + 2*b*d*e - _\n",
    " 4*c^2*e + c*d^2)*x^5 + 5*(8*a*d*e - 4*b*c*e + b*d^2)*x^4 _\n",
    " + 20*(a*d^2 - b^2*e)*x^3 - 5*(8*a*b*e - 4*a*c*d + b^2*d)*x^2 _\n",
    " - 2*(16*a^2*e + 2*a*b*d - 4*a*c^2 + b^2*c)*x _\n"
   ]
  },
  {
   "cell_type": "code",
   "execution_count": 20,
   "metadata": {
    "collapsed": false
   },
   "outputs": [
    {
     "data": {
      "text/plain": [
       "       2              3\n",
       "   - 8a d + 4a b c - b\n",
       "                                                    Type: Polynomial(Integer)\n"
      ]
     },
     "execution_count": 20,
     "metadata": {},
     "output_type": "execute_result"
    }
   ],
   "source": [
    " - 8*a^2*d + 4*a*b*c - b^3"
   ]
  },
  {
   "cell_type": "code",
   "execution_count": 21,
   "metadata": {
    "collapsed": false
   },
   "outputs": [
    {
     "name": "stdout",
     "output_type": "stream",
     "text": [
      "  Line   1: cc := 64*a^3*e^3 - 48*a^2*b*d*e^2 - 64*a^2*c^2*e^2 + 48*a^2*c*d^2*e _\n",
      "  Line   2:  - 8*a^2*d^4 + 48*a*b^2*c*e^2 - 4*a*b^2*d^2*e - 16*a*b*c^2*d*e _\n",
      "  Line   3: )--premature end\n",
      "           AB\n",
      "  Error  A: Improper syntax.\n",
      "  Error  B: File \n",
      "            /home/kfp/Development/fricas_input/nb/input2ipynb/nbconvert.ipynb/.tmp-ispad-40694.input\n",
      "             ended where at least one )endif was still needed. An appropriate \n",
      "            number of )endif lines has been assumed.\n",
      "   2 error(s) parsing \n",
      "\n",
      "   Continuing to read the file...\n",
      "\n",
      "\n"
     ]
    },
    {
     "data": {
      "text/plain": []
     },
     "execution_count": 21,
     "metadata": {},
     "output_type": "execute_result"
    }
   ],
   "source": [
    "cc := 64*a^3*e^3 - 48*a^2*b*d*e^2 - 64*a^2*c^2*e^2 + 48*a^2*c*d^2*e _\n",
    " - 8*a^2*d^4 + 48*a*b^2*c*e^2 - 4*a*b^2*d^2*e - 16*a*b*c^2*d*e _\n"
   ]
  },
  {
   "cell_type": "code",
   "execution_count": 22,
   "metadata": {
    "collapsed": false
   },
   "outputs": [
    {
     "name": "stderr",
     "output_type": "stream",
     "text": [
      "   There are no library operations named + having 1 argument(s) though \n",
      "      there are 11 exposed operation(s) and 8 unexposed operation(s) \n",
      "      having a different number of arguments. Use HyperDoc Browse, or \n",
      "      issue\n",
      "                                 )what op +\n",
      "      to learn what operations contain \" + \" in their names, or issue\n",
      "                                )display op +\n",
      "      to learn more about the available operations.\n",
      " \n",
      "   Cannot find a definition or applicable library operation named + \n",
      "      with argument type(s) \n",
      "                             Polynomial(Integer)\n",
      "      \n",
      "      Perhaps you should use \"@\" to indicate the required return type, \n",
      "      or \"$\" to specify which version of the function you need.\n",
      "\n"
     ]
    },
    {
     "data": {
      "text/plain": [
       "error\n"
      ]
     },
     "execution_count": 22,
     "metadata": {},
     "output_type": "execute_result"
    }
   ],
   "source": [
    " + 4*a*b*c*d^3 - 8*b^4*e^2 + 4*b^3*c*d*e - b^3*d^3"
   ]
  },
  {
   "cell_type": "code",
   "execution_count": 23,
   "metadata": {
    "collapsed": false
   },
   "outputs": [
    {
     "data": {
      "text/plain": [
       "   pol\n",
       "                                                    Type: Polynomial(Integer)\n"
      ]
     },
     "execution_count": 23,
     "metadata": {},
     "output_type": "execute_result"
    }
   ],
   "source": [
    "lc1 := leadingCoefficient(univariate(pol, c))"
   ]
  },
  {
   "cell_type": "code",
   "execution_count": 24,
   "metadata": {
    "collapsed": false
   },
   "outputs": [
    {
     "data": {
      "text/plain": [
       "   cc\n",
       "                                                    Type: Polynomial(Integer)\n"
      ]
     },
     "execution_count": 24,
     "metadata": {},
     "output_type": "execute_result"
    }
   ],
   "source": [
    "lc2 := leadingCoefficient(univariate(cc, c))"
   ]
  },
  {
   "cell_type": "code",
   "execution_count": 25,
   "metadata": {
    "collapsed": false
   },
   "outputs": [
    {
     "data": {
      "text/plain": [
       "   1\n",
       "                                                    Type: Polynomial(Integer)\n"
      ]
     },
     "execution_count": 25,
     "metadata": {},
     "output_type": "execute_result"
    }
   ],
   "source": [
    "lcg := gcd(lc1, lc2)"
   ]
  },
  {
   "cell_type": "code",
   "execution_count": 26,
   "metadata": {
    "collapsed": false
   },
   "outputs": [
    {
     "data": {
      "text/plain": [
       "   pol\n",
       "                                         Type: Union(Polynomial(Integer),...)\n"
      ]
     },
     "execution_count": 26,
     "metadata": {},
     "output_type": "execute_result"
    }
   ],
   "source": [
    "lc1 := lc1 exquo lcg"
   ]
  },
  {
   "cell_type": "code",
   "execution_count": 27,
   "metadata": {
    "collapsed": false
   },
   "outputs": [
    {
     "data": {
      "text/plain": [
       "   cc\n",
       "                                         Type: Union(Polynomial(Integer),...)\n"
      ]
     },
     "execution_count": 27,
     "metadata": {},
     "output_type": "execute_result"
    }
   ],
   "source": [
    "lc2 := lc2 exquo lcg"
   ]
  },
  {
   "cell_type": "code",
   "execution_count": 28,
   "metadata": {
    "collapsed": false
   },
   "outputs": [
    {
     "data": {
      "text/plain": [
       "   0\n",
       "                                                    Type: Polynomial(Integer)\n"
      ]
     },
     "execution_count": 28,
     "metadata": {},
     "output_type": "execute_result"
    }
   ],
   "source": [
    "pol := lc2*pol - lc1*cc"
   ]
  },
  {
   "cell_type": "code",
   "execution_count": 29,
   "metadata": {
    "collapsed": false
   },
   "outputs": [
    {
     "data": {
      "text/plain": [
       "                                                                   Type: Void\n"
      ]
     },
     "execution_count": 29,
     "metadata": {},
     "output_type": "execute_result"
    }
   ],
   "source": [
    "testEquals(\"degree(pol, c)\", \"1\")"
   ]
  },
  {
   "cell_type": "code",
   "execution_count": 30,
   "metadata": {
    "collapsed": false
   },
   "outputs": [
    {
     "data": {
      "text/plain": [
       "                                                    Type: Polynomial(Integer)\n"
      ]
     },
     "execution_count": 30,
     "metadata": {},
     "output_type": "execute_result"
    }
   ],
   "source": [
    "npol := resultant(univariate(pol, c), univariate(cc, c));"
   ]
  },
  {
   "cell_type": "code",
   "execution_count": 31,
   "metadata": {
    "collapsed": false
   },
   "outputs": [
    {
     "data": {
      "text/plain": [
       "                                          Type: Factored(Polynomial(Integer))\n"
      ]
     },
     "execution_count": 31,
     "metadata": {},
     "output_type": "execute_result"
    }
   ],
   "source": [
    "nfac := factor(npol);"
   ]
  },
  {
   "cell_type": "code",
   "execution_count": 32,
   "metadata": {
    "collapsed": false
   },
   "outputs": [
    {
     "name": "stderr",
     "output_type": "stream",
     "text": [
      " \n",
      "   >> Error detected within library code:\n",
      "   index out of range\n",
      "\n"
     ]
    },
    {
     "data": {
      "text/plain": [
       "error\n"
      ]
     },
     "execution_count": 32,
     "metadata": {},
     "output_type": "execute_result"
    }
   ],
   "source": [
    "nfac1 := factors(nfac).4.factor;"
   ]
  },
  {
   "cell_type": "code",
   "execution_count": null,
   "metadata": {
    "collapsed": false
   },
   "outputs": [],
   "source": [
    "fac1 := algebraicGcd(pol, nfac1, [cc], [a, b, d, e], x, [c])$mGCD"
   ]
  },
  {
   "cell_type": "code",
   "execution_count": null,
   "metadata": {
    "collapsed": false
   },
   "outputs": [],
   "source": [
    "testEquals(\"degree(fac1, x)\", \"2\")"
   ]
  },
  {
   "cell_type": "markdown",
   "metadata": {},
   "source": [
    " Compute the other factor using division\n"
   ]
  },
  {
   "cell_type": "code",
   "execution_count": null,
   "metadata": {
    "collapsed": false
   },
   "outputs": [],
   "source": [
    "fF := Fraction(Polynomial(Integer))"
   ]
  },
  {
   "cell_type": "code",
   "execution_count": null,
   "metadata": {
    "collapsed": false
   },
   "outputs": [],
   "source": [
    "ccf := univariate(cc, c)::SUP(fF)"
   ]
  },
  {
   "cell_type": "code",
   "execution_count": null,
   "metadata": {
    "collapsed": false
   },
   "outputs": [],
   "source": [
    "aE := SAE(fF, SUP(fF), ccf)"
   ]
  },
  {
   "cell_type": "code",
   "execution_count": null,
   "metadata": {
    "collapsed": false
   },
   "outputs": [],
   "source": [
    "avar := create()$SingletonAsOrderedSet"
   ]
  },
  {
   "cell_type": "code",
   "execution_count": null,
   "metadata": {
    "collapsed": false
   },
   "outputs": [],
   "source": [
    "to_aE(t : fF) : aE == reduce(univariate(t, c)::SUP(fF))$aE"
   ]
  },
  {
   "cell_type": "code",
   "execution_count": null,
   "metadata": {
    "collapsed": false
   },
   "outputs": [],
   "source": [
    "polf := map(to_aE, univariate(pol, x)::SUP(fF));"
   ]
  },
  {
   "cell_type": "code",
   "execution_count": null,
   "metadata": {
    "collapsed": false
   },
   "outputs": [],
   "source": [
    "facf1 := map(to_aE, univariate(fac1, x)::SUP(fF));"
   ]
  },
  {
   "cell_type": "code",
   "execution_count": null,
   "metadata": {
    "collapsed": false
   },
   "outputs": [],
   "source": [
    "qr := divide(polf, facf1);"
   ]
  },
  {
   "cell_type": "code",
   "execution_count": null,
   "metadata": {
    "collapsed": false
   },
   "outputs": [],
   "source": [
    "testEquals(\"qr.remainder\", \"0\")"
   ]
  },
  {
   "cell_type": "code",
   "execution_count": null,
   "metadata": {
    "collapsed": false
   },
   "outputs": [],
   "source": [
    "facf2 := qr.quotient;"
   ]
  },
  {
   "cell_type": "code",
   "execution_count": null,
   "metadata": {
    "collapsed": false
   },
   "outputs": [],
   "source": [
    "from_aE(t : aE) : fF == eval(lift(t), avar, c)"
   ]
  },
  {
   "cell_type": "code",
   "execution_count": null,
   "metadata": {
    "collapsed": false
   },
   "outputs": [],
   "source": [
    "fac2fF := retract(eval(map(from_aE, facf2), avar, x))@fF;"
   ]
  },
  {
   "cell_type": "code",
   "execution_count": null,
   "metadata": {
    "collapsed": false
   },
   "outputs": [],
   "source": [
    "fac2 := numer(fac2fF)"
   ]
  },
  {
   "cell_type": "code",
   "execution_count": null,
   "metadata": {
    "collapsed": false
   },
   "outputs": [],
   "source": [
    "den := denom(fac2fF)"
   ]
  },
  {
   "cell_type": "code",
   "execution_count": null,
   "metadata": {
    "collapsed": false
   },
   "outputs": [],
   "source": [
    "testEquals(\"gcd(den*pol - fac1*fac2, cc)\", \"cc\")"
   ]
  },
  {
   "cell_type": "code",
   "execution_count": null,
   "metadata": {
    "collapsed": false
   },
   "outputs": [],
   "source": [
    "testcase \"multiple extensions\""
   ]
  },
  {
   "cell_type": "code",
   "execution_count": null,
   "metadata": {
    "collapsed": false
   },
   "outputs": [],
   "source": [
    "mP := Polynomial(Integer)"
   ]
  },
  {
   "cell_type": "code",
   "execution_count": null,
   "metadata": {
    "collapsed": false
   },
   "outputs": [],
   "source": [
    "mPU := SparseUnivariatePolynomial(mP)"
   ]
  },
  {
   "cell_type": "code",
   "execution_count": null,
   "metadata": {
    "collapsed": false
   },
   "outputs": [],
   "source": [
    "mD := Record(svz : List(Symbol), sm : List(mP), msizes : List(Integer), sp : Integer)"
   ]
  },
  {
   "cell_type": "code",
   "execution_count": null,
   "metadata": {
    "collapsed": false
   },
   "outputs": [],
   "source": [
    "mOP := ModularAlgebraicGcdTools3"
   ]
  },
  {
   "cell_type": "code",
   "execution_count": null,
   "metadata": {
    "collapsed": false
   },
   "outputs": [],
   "source": [
    "mGCD := ModularAlgebraicGcd(mPU, mD, mOP)"
   ]
  },
  {
   "cell_type": "code",
   "execution_count": null,
   "metadata": {
    "collapsed": false
   },
   "outputs": [],
   "source": [
    "m1 := (t + z2 + 1)*z1^2 - 3*z2 + t"
   ]
  },
  {
   "cell_type": "code",
   "execution_count": null,
   "metadata": {
    "collapsed": false
   },
   "outputs": [],
   "source": [
    "m2 := (t + 1)*z2^2 - 7*t"
   ]
  },
  {
   "cell_type": "code",
   "execution_count": null,
   "metadata": {
    "collapsed": false
   },
   "outputs": [],
   "source": [
    "g := x - t - z1 - z2"
   ]
  },
  {
   "cell_type": "code",
   "execution_count": null,
   "metadata": {
    "collapsed": false
   },
   "outputs": [],
   "source": [
    "g2 := algebraicGcd(g*g, g*g, [m1, m2], [t], x, [z1, z2])$mGCD"
   ]
  },
  {
   "cell_type": "code",
   "execution_count": null,
   "metadata": {
    "collapsed": false
   },
   "outputs": [],
   "source": [
    "testEquals(\"degree(g2, x)\", \"2\")"
   ]
  },
  {
   "cell_type": "code",
   "execution_count": null,
   "metadata": {
    "collapsed": false
   },
   "outputs": [],
   "source": [
    "a := t*(x + z1) + z2"
   ]
  },
  {
   "cell_type": "code",
   "execution_count": null,
   "metadata": {
    "collapsed": false
   },
   "outputs": [],
   "source": [
    "b := x + t*z1 - z2"
   ]
  },
  {
   "cell_type": "code",
   "execution_count": null,
   "metadata": {
    "collapsed": false
   },
   "outputs": [],
   "source": [
    "f1 := a^2*g^2"
   ]
  },
  {
   "cell_type": "code",
   "execution_count": null,
   "metadata": {
    "collapsed": false
   },
   "outputs": [],
   "source": [
    "f2 := b^2*g^2"
   ]
  },
  {
   "cell_type": "code",
   "execution_count": null,
   "metadata": {
    "collapsed": false
   },
   "outputs": [],
   "source": [
    "p1 := algebraicGcd(f1, f1, [m1, m2], [t], x, [z1, z2])$mGCD;"
   ]
  },
  {
   "cell_type": "code",
   "execution_count": null,
   "metadata": {
    "collapsed": false
   },
   "outputs": [],
   "source": [
    "gg := algebraicGcd(p1, f2, [m1, m2], [t], x, [z1, z2])$mGCD;"
   ]
  },
  {
   "cell_type": "code",
   "execution_count": null,
   "metadata": {
    "collapsed": false
   },
   "outputs": [],
   "source": [
    "testEquals(\"g2 - gg\", \"0\")"
   ]
  },
  {
   "cell_type": "code",
   "execution_count": null,
   "metadata": {
    "collapsed": false
   },
   "outputs": [],
   "source": [
    ")set output algebra on"
   ]
  },
  {
   "cell_type": "code",
   "execution_count": null,
   "metadata": {
    "collapsed": false
   },
   "outputs": [],
   "source": [
    "statistics()"
   ]
  },
  {
   "cell_type": "code",
   "execution_count": null,
   "metadata": {
    "collapsed": false
   },
   "outputs": [],
   "source": [
    "--\n",
    "-- EOF\n",
    "--"
   ]
  }
 ],
 "metadata": {
  "kernelspec": {
   "display_name": "FriCAS",
   "language": "spad",
   "name": "ifricas"
  },
  "language_info": {
   "codemirror_mode": "spad",
   "mimetype": "text/x-spad",
   "name": "SPAD",
   "pygments_lexer": "spad",
   "version": "1.2.6"
  },
  "name": "agcd.ipynb"
 },
 "nbformat": 4,
 "nbformat_minor": 0
}
