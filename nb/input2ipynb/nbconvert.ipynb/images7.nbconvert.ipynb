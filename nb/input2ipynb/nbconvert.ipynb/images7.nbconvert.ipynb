{
 "cells": [
  {
   "cell_type": "markdown",
   "metadata": {},
   "source": [
    "Copyright The Numerical Algorithms Group Limited 1994.\n",
    " Color gallery page 7\n"
   ]
  },
  {
   "cell_type": "code",
   "execution_count": 0,
   "metadata": {
    "collapsed": false
   },
   "outputs": [
    {
     "name": "stderr",
     "output_type": "stream",
     "text": [
      " \n",
      "   The file conformal is needed but does not exist.\n",
      "\n"
     ]
    },
    {
     "data": {
      "text/plain": [
       "error\n"
      ]
     },
     "execution_count": 0,
     "metadata": {},
     "output_type": "execute_result"
    }
   ],
   "source": [
    ")read conformal"
   ]
  },
  {
   "cell_type": "markdown",
   "metadata": {},
   "source": [
    " Conformal maps\n"
   ]
  },
  {
   "cell_type": "markdown",
   "metadata": {},
   "source": [
    " The map z +-> z + 1/z on the complex plane\n"
   ]
  },
  {
   "cell_type": "markdown",
   "metadata": {},
   "source": [
    " The coordinate grid for the complex plane\n"
   ]
  },
  {
   "cell_type": "code",
   "execution_count": 1,
   "metadata": {
    "collapsed": false
   },
   "outputs": [
    {
     "data": {
      "text/plain": [
       "                                                                   Type: Void\n"
      ]
     },
     "execution_count": 1,
     "metadata": {},
     "output_type": "execute_result"
    }
   ],
   "source": [
    "f z == z"
   ]
  },
  {
   "cell_type": "code",
   "execution_count": 2,
   "metadata": {
    "collapsed": false
   },
   "outputs": [
    {
     "name": "stderr",
     "output_type": "stream",
     "text": [
      "Warning: HyperTeX macro table not found\n",
      "   There are no library operations named conformalDraw \n",
      "      Use HyperDoc Browse or issue\n",
      "                           )what op conformalDraw\n",
      "      to learn if there is any operation containing \" conformalDraw \" \n",
      "      in its name.\n",
      " \n",
      "   Cannot find a definition or applicable library operation named \n",
      "      conformalDraw with argument type(s) \n",
      "                              FunctionCalled(f)\n",
      "                              Segment(Integer)\n",
      "                              Segment(Integer)\n",
      "                               PositiveInteger\n",
      "                               PositiveInteger\n",
      "                                   String\n",
      "      \n",
      "      Perhaps you should use \"@\" to indicate the required return type, \n",
      "      or \"$\" to specify which version of the function you need.\n",
      "\n"
     ]
    },
    {
     "data": {
      "text/plain": [
       "error\n"
      ]
     },
     "execution_count": 2,
     "metadata": {},
     "output_type": "execute_result"
    }
   ],
   "source": [
    "conformalDraw(f, -2..2, -2..2, 9, 9, \"cartesian\")"
   ]
  },
  {
   "cell_type": "code",
   "execution_count": 3,
   "metadata": {
    "collapsed": false
   },
   "outputs": [
    {
     "name": "stdout",
     "output_type": "stream",
     "text": [
      "   1 old definition(s) deleted for function or rule f \n"
     ]
    },
    {
     "data": {
      "text/plain": [
       "                                                                   Type: Void\n"
      ]
     },
     "execution_count": 3,
     "metadata": {},
     "output_type": "execute_result"
    }
   ],
   "source": [
    "f z == z + 1/z"
   ]
  },
  {
   "cell_type": "code",
   "execution_count": 4,
   "metadata": {
    "collapsed": false
   },
   "outputs": [
    {
     "name": "stderr",
     "output_type": "stream",
     "text": [
      "   There are no library operations named conformalDraw \n",
      "      Use HyperDoc Browse or issue\n",
      "                           )what op conformalDraw\n",
      "      to learn if there is any operation containing \" conformalDraw \" \n",
      "      in its name.\n",
      " \n",
      "   Cannot find a definition or applicable library operation named \n",
      "      conformalDraw with argument type(s) \n",
      "                              FunctionCalled(f)\n",
      "                              Segment(Integer)\n",
      "                              Segment(Integer)\n",
      "                               PositiveInteger\n",
      "                               PositiveInteger\n",
      "                                   String\n",
      "      \n",
      "      Perhaps you should use \"@\" to indicate the required return type, \n",
      "      or \"$\" to specify which version of the function you need.\n",
      "\n"
     ]
    },
    {
     "data": {
      "text/plain": [
       "error\n"
      ]
     },
     "execution_count": 4,
     "metadata": {},
     "output_type": "execute_result"
    }
   ],
   "source": [
    "conformalDraw(f, -2..2, -2..2, 9, 9, \"cartesian\")"
   ]
  },
  {
   "cell_type": "markdown",
   "metadata": {},
   "source": [
    " The map z +-> -(z+1)/(z-1)\n",
    " This function maps the unit disk to the right half-plane, as shown\n",
    " on the Riemann sphere.\n"
   ]
  },
  {
   "cell_type": "markdown",
   "metadata": {},
   "source": [
    " The unit disk\n"
   ]
  },
  {
   "cell_type": "code",
   "execution_count": 5,
   "metadata": {
    "collapsed": false
   },
   "outputs": [
    {
     "name": "stdout",
     "output_type": "stream",
     "text": [
      "   1 old definition(s) deleted for function or rule f \n"
     ]
    },
    {
     "data": {
      "text/plain": [
       "                                                                   Type: Void\n"
      ]
     },
     "execution_count": 5,
     "metadata": {},
     "output_type": "execute_result"
    }
   ],
   "source": [
    "f z == z"
   ]
  },
  {
   "cell_type": "code",
   "execution_count": 6,
   "metadata": {
    "collapsed": false
   },
   "outputs": [
    {
     "name": "stderr",
     "output_type": "stream",
     "text": [
      "   There are no library operations named riemannConformalDraw \n",
      "      Use HyperDoc Browse or issue\n",
      "                        )what op riemannConformalDraw\n",
      "      to learn if there is any operation containing \" \n",
      "      riemannConformalDraw \" in its name.\n",
      " \n",
      "   Cannot find a definition or applicable library operation named \n",
      "      riemannConformalDraw with argument type(s) \n",
      "                              FunctionCalled(f)\n",
      "                               Segment(Float)\n",
      "                                 Segment(Pi)\n",
      "                               PositiveInteger\n",
      "                               PositiveInteger\n",
      "                                   String\n",
      "      \n",
      "      Perhaps you should use \"@\" to indicate the required return type, \n",
      "      or \"$\" to specify which version of the function you need.\n",
      "\n"
     ]
    },
    {
     "data": {
      "text/plain": [
       "error\n"
      ]
     },
     "execution_count": 6,
     "metadata": {},
     "output_type": "execute_result"
    }
   ],
   "source": [
    "riemannConformalDraw(f, 0.1..0.99, 0..2*%pi, 7, 11, \"polar\")"
   ]
  },
  {
   "cell_type": "markdown",
   "metadata": {},
   "source": [
    " The right half-plane\n"
   ]
  },
  {
   "cell_type": "code",
   "execution_count": 7,
   "metadata": {
    "collapsed": false
   },
   "outputs": [
    {
     "name": "stdout",
     "output_type": "stream",
     "text": [
      "   1 old definition(s) deleted for function or rule f \n"
     ]
    },
    {
     "data": {
      "text/plain": [
       "                                                                   Type: Void\n"
      ]
     },
     "execution_count": 7,
     "metadata": {},
     "output_type": "execute_result"
    }
   ],
   "source": [
    "f z == -(z+1)/(z-1)"
   ]
  },
  {
   "cell_type": "code",
   "execution_count": 8,
   "metadata": {
    "collapsed": false
   },
   "outputs": [
    {
     "name": "stderr",
     "output_type": "stream",
     "text": [
      "   There are no library operations named riemannConformalDraw \n",
      "      Use HyperDoc Browse or issue\n",
      "                        )what op riemannConformalDraw\n",
      "      to learn if there is any operation containing \" \n",
      "      riemannConformalDraw \" in its name.\n",
      " \n",
      "   Cannot find a definition or applicable library operation named \n",
      "      riemannConformalDraw with argument type(s) \n",
      "                              FunctionCalled(f)\n",
      "                               Segment(Float)\n",
      "                                 Segment(Pi)\n",
      "                               PositiveInteger\n",
      "                               PositiveInteger\n",
      "                                   String\n",
      "      \n",
      "      Perhaps you should use \"@\" to indicate the required return type, \n",
      "      or \"$\" to specify which version of the function you need.\n",
      "\n"
     ]
    },
    {
     "data": {
      "text/plain": [
       "error\n"
      ]
     },
     "execution_count": 8,
     "metadata": {},
     "output_type": "execute_result"
    }
   ],
   "source": [
    "riemannConformalDraw(f, 0.1..0.99, 0..2*%pi, 7, 11, \"polar\")"
   ]
  },
  {
   "cell_type": "markdown",
   "metadata": {},
   "source": [
    " Visualization of the mapping from the complex plane to the Riemann Sphere.\n"
   ]
  },
  {
   "cell_type": "code",
   "execution_count": 9,
   "metadata": {
    "collapsed": false
   },
   "outputs": [
    {
     "name": "stderr",
     "output_type": "stream",
     "text": [
      "   There are no library operations named riemannSphereDraw \n",
      "      Use HyperDoc Browse or issue\n",
      "                         )what op riemannSphereDraw\n",
      "      to learn if there is any operation containing \" riemannSphereDraw\n",
      "      \" in its name.\n",
      " \n",
      "   Cannot find a definition or applicable library operation named \n",
      "      riemannSphereDraw with argument type(s) \n",
      "                              Segment(Integer)\n",
      "                              Segment(Integer)\n",
      "                               PositiveInteger\n",
      "                               PositiveInteger\n",
      "                                   String\n",
      "      \n",
      "      Perhaps you should use \"@\" to indicate the required return type, \n",
      "      or \"$\" to specify which version of the function you need.\n",
      "\n"
     ]
    },
    {
     "data": {
      "text/plain": [
       "error\n"
      ]
     },
     "execution_count": 9,
     "metadata": {},
     "output_type": "execute_result"
    }
   ],
   "source": [
    "riemannSphereDraw(-4..4, -4..4, 7, 7, \"cartesian\")"
   ]
  },
  {
   "cell_type": "code",
   "execution_count": 10,
   "metadata": {
    "collapsed": false
   },
   "outputs": [
    {
     "data": {
      "text/plain": []
     },
     "execution_count": 10,
     "metadata": {},
     "output_type": "execute_result"
    }
   ],
   "source": [
    "--\n",
    "-- EOF\n",
    "--"
   ]
  }
 ],
 "metadata": {
  "kernelspec": {
   "display_name": "FriCAS",
   "language": "spad",
   "name": "ifricas"
  },
  "language_info": {
   "codemirror_mode": "spad",
   "mimetype": "text/x-spad",
   "name": "SPAD",
   "pygments_lexer": "spad",
   "version": "1.2.6"
  },
  "name": "images7.ipynb"
 },
 "nbformat": 4,
 "nbformat_minor": 0
}