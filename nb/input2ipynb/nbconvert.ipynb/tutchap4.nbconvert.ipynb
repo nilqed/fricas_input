{
 "cells": [
  {
   "cell_type": "markdown",
   "metadata": {},
   "source": [
    "Copyright The Numerical Algorithms Group Limited 1996.\n"
   ]
  },
  {
   "cell_type": "code",
   "execution_count": 0,
   "metadata": {
    "collapsed": false
   },
   "outputs": [
    {
     "name": "stdout",
     "output_type": "stream",
     "text": [
      "Warning: HyperTeX macro table not found\n"
     ]
    },
    {
     "data": {
      "text/plain": [
       "   s\n",
       "                                                          Type: BasicOperator\n"
      ]
     },
     "execution_count": 0,
     "metadata": {},
     "output_type": "execute_result"
    }
   ],
   "source": [
    "s := operator 's"
   ]
  },
  {
   "cell_type": "code",
   "execution_count": 1,
   "metadata": {
    "collapsed": false
   },
   "outputs": [
    {
     "data": {
      "text/plain": [
       "   [particular= 0,basis= [cos(k t),sin(k t)]]\n",
       "Type: Union(Record(particular: Expression(Integer),basis: List(Expression(Integer))),...)\n"
      ]
     },
     "execution_count": 1,
     "metadata": {},
     "output_type": "execute_result"
    }
   ],
   "source": [
    "solve(D(s(t),t,2) = -k^2*s(t), s, t)"
   ]
  },
  {
   "cell_type": "code",
   "execution_count": 2,
   "metadata": {
    "collapsed": false
   },
   "outputs": [
    {
     "data": {
      "text/plain": [
       "   A cos(k t)\n",
       "                                         Type: Union(Expression(Integer),...)\n"
      ]
     },
     "execution_count": 2,
     "metadata": {},
     "output_type": "execute_result"
    }
   ],
   "source": [
    "solve(D(s(t),t,2) = -k^2*s(t), s, t=0, [A, 0])"
   ]
  },
  {
   "cell_type": "code",
   "execution_count": 3,
   "metadata": {
    "collapsed": false
   },
   "outputs": [
    {
     "data": {
      "text/plain": [
       "    ,,         ,       2\n",
       "   s  (t)= - cs (t) - k s(t)\n",
       "\n",
       "                                          Type: Equation(Expression(Integer))\n"
      ]
     },
     "execution_count": 3,
     "metadata": {},
     "output_type": "execute_result"
    }
   ],
   "source": [
    "DE := D(s(t),t,2) = -k^2*s(t) - c*D(s(t),t)"
   ]
  },
  {
   "cell_type": "code",
   "execution_count": 4,
   "metadata": {
    "collapsed": false
   },
   "outputs": [
    {
     "name": "stdout",
     "output_type": "stream",
     "text": [
      "      "
     ]
    },
    {
     "data": {
      "text/plain": [
       "                                 +----------+\n",
       "                                 |    2    2\n",
       "                               t\\|- 4k  + c   - c t\n",
       "          +----------+         --------------------\n",
       "          |    2    2                    2\n",
       "       (A\\|- 4k  + c   + A c)%e\n",
       "     + \n",
       "                                   +----------+\n",
       "                                   |    2    2\n",
       "                               - t\\|- 4k  + c   - c t\n",
       "          +----------+         ----------------------\n",
       "          |    2    2                     2\n",
       "       (A\\|- 4k  + c   - A c)%e\n",
       "  /\n",
       "       +----------+\n",
       "       |    2    2\n",
       "     2\\|- 4k  + c\n",
       "                                         Type: Union(Expression(Integer),...)\n"
      ]
     },
     "execution_count": 4,
     "metadata": {},
     "output_type": "execute_result"
    }
   ],
   "source": [
    "S := solve(DE, s, t=0, [A, 0])"
   ]
  },
  {
   "cell_type": "code",
   "execution_count": 5,
   "metadata": {
    "collapsed": false
   },
   "outputs": [
    {
     "data": {
      "text/plain": [
       "                                                                   Type: Void\n"
      ]
     },
     "execution_count": 5,
     "metadata": {},
     "output_type": "execute_result"
    }
   ],
   "source": [
    "S1 == eval(S,[A=1,k=1,c=3])"
   ]
  },
  {
   "cell_type": "code",
   "execution_count": 6,
   "metadata": {
    "collapsed": false
   },
   "outputs": [
    {
     "name": "stdout",
     "output_type": "stream",
     "text": [
      "   Compiling body of rule S1 to compute value of type Expression(\n",
      "      Integer) \n",
      "   Compiling function %L with type DoubleFloat -> DoubleFloat \n",
      "   Graph data being transmitted to the viewport manager...\n",
      "   FriCAS2D data being transmitted to the viewport manager...\n"
     ]
    },
    {
     "data": {
      "text/plain": [
       "   TwoDimensionalViewport: \"FriCAS2D\"\n",
       "                                                 Type: TwoDimensionalViewport\n"
      ]
     },
     "execution_count": 6,
     "metadata": {},
     "output_type": "execute_result"
    }
   ],
   "source": [
    "draw(S1, t=0..100)"
   ]
  },
  {
   "cell_type": "code",
   "execution_count": 7,
   "metadata": {
    "collapsed": false
   },
   "outputs": [
    {
     "name": "stdout",
     "output_type": "stream",
     "text": [
      "      "
     ]
    },
    {
     "data": {
      "text/plain": [
       "                                 +----------+\n",
       "                                 |    2    2\n",
       "                               t\\|- 4k  + c   - c t\n",
       "          +----------+         --------------------\n",
       "          |    2    2                    2\n",
       "       (A\\|- 4k  + c   + A c)%e\n",
       "     + \n",
       "                                   +----------+\n",
       "                                   |    2    2\n",
       "                               - t\\|- 4k  + c   - c t\n",
       "          +----------+         ----------------------\n",
       "          |    2    2                     2\n",
       "       (A\\|- 4k  + c   - A c)%e\n",
       "  /\n",
       "       +----------+\n",
       "       |    2    2\n",
       "     2\\|- 4k  + c\n",
       "                                         Type: Union(Expression(Integer),...)\n"
      ]
     },
     "execution_count": 7,
     "metadata": {},
     "output_type": "execute_result"
    }
   ],
   "source": [
    "S"
   ]
  },
  {
   "cell_type": "code",
   "execution_count": 8,
   "metadata": {
    "collapsed": false
   },
   "outputs": [
    {
     "data": {
      "text/plain": [
       "        +----------+             +----------+\n",
       "        |    2    2              |    2    2\n",
       "      t\\|- 4k  + c   - c t   - t\\|- 4k  + c   - c t\n",
       "      --------------------   ----------------------  +----------+\n",
       "                2                       2            |    2    2\n",
       "   [%e                    ,%e                      ,\\|- 4k  + c  ,c,A]\n",
       "                                      Type: List(Kernel(Expression(Integer)))\n"
      ]
     },
     "execution_count": 8,
     "metadata": {},
     "output_type": "execute_result"
    }
   ],
   "source": [
    "kernels S"
   ]
  },
  {
   "cell_type": "code",
   "execution_count": 9,
   "metadata": {
    "collapsed": false
   },
   "outputs": [
    {
     "data": {
      "text/plain": [
       "    +----------+\n",
       "    |    2    2\n",
       "   \\|- 4k  + c\n",
       "                                            Type: Kernel(Expression(Integer))\n"
      ]
     },
     "execution_count": 9,
     "metadata": {},
     "output_type": "execute_result"
    }
   ],
   "source": [
    "k3 := %.3"
   ]
  },
  {
   "cell_type": "code",
   "execution_count": 10,
   "metadata": {
    "collapsed": false
   },
   "outputs": [
    {
     "name": "stdout",
     "output_type": "stream",
     "text": [
      "      "
     ]
    },
    {
     "data": {
      "text/plain": [
       "                                     +--------+\n",
       "                                     |  2    2\n",
       "                                %i t\\|4k  - c   - c t\n",
       "          +--------+            ---------------------\n",
       "          |  2    2                       2\n",
       "       (A\\|4k  - c   - %i A c)%e\n",
       "     + \n",
       "                                       +--------+\n",
       "                                       |  2    2\n",
       "                                - %i t\\|4k  - c   - c t\n",
       "          +--------+            -----------------------\n",
       "          |  2    2                        2\n",
       "       (A\\|4k  - c   + %i A c)%e\n",
       "  /\n",
       "       +--------+\n",
       "       |  2    2\n",
       "     2\\|4k  - c\n",
       "                                           Type: Expression(Complex(Integer))\n"
      ]
     },
     "execution_count": 10,
     "metadata": {},
     "output_type": "execute_result"
    }
   ],
   "source": [
    "eval(S,k3,%i*sqrt(4*k^2 - c^2))"
   ]
  },
  {
   "cell_type": "code",
   "execution_count": 11,
   "metadata": {
    "collapsed": false
   },
   "outputs": [
    {
     "data": {
      "text/plain": [
       "           c t      +--------+          c t                 +--------+\n",
       "         - ---      |  2    2         - --- +--------+      |  2    2\n",
       "            2     t\\|4k  - c             2  |  2    2     t\\|4k  - c\n",
       "   A c %e     sin(------------) + A %e     \\|4k  - c  cos(------------)\n",
       "                        2                                       2\n",
       "   --------------------------------------------------------------------\n",
       "                                 +--------+\n",
       "                                 |  2    2\n",
       "                                \\|4k  - c\n",
       "                                           Type: Expression(Complex(Integer))\n"
      ]
     },
     "execution_count": 11,
     "metadata": {},
     "output_type": "execute_result"
    }
   ],
   "source": [
    "ST := trigs %"
   ]
  },
  {
   "cell_type": "code",
   "execution_count": 12,
   "metadata": {
    "collapsed": false
   },
   "outputs": [
    {
     "data": {
      "text/plain": [
       "                                                                   Type: Void\n"
      ]
     },
     "execution_count": 12,
     "metadata": {},
     "output_type": "execute_result"
    }
   ],
   "source": [
    "S2 == eval(ST,[A=1,k=1,c=0.1])"
   ]
  },
  {
   "cell_type": "code",
   "execution_count": 13,
   "metadata": {
    "collapsed": false
   },
   "outputs": [
    {
     "name": "stdout",
     "output_type": "stream",
     "text": [
      "   Compiling body of rule S2 to compute value of type Expression(\n",
      "      Complex(Float)) \n",
      "   Compiling function %R with type DoubleFloat -> DoubleFloat \n",
      "   Graph data being transmitted to the viewport manager...\n",
      "   FriCAS2D data being transmitted to the viewport manager...\n"
     ]
    },
    {
     "data": {
      "text/plain": [
       "   TwoDimensionalViewport: \"FriCAS2D\"\n",
       "                                                 Type: TwoDimensionalViewport\n"
      ]
     },
     "execution_count": 13,
     "metadata": {},
     "output_type": "execute_result"
    }
   ],
   "source": [
    "draw(S2::EXPR FLOAT,t=0..100)"
   ]
  },
  {
   "cell_type": "code",
   "execution_count": 14,
   "metadata": {
    "collapsed": false
   },
   "outputs": [
    {
     "data": {
      "text/plain": [
       "                                                                   Type: Void\n"
      ]
     },
     "execution_count": 14,
     "metadata": {},
     "output_type": "execute_result"
    }
   ],
   "source": [
    "S3==eval(S,[A=1,k=1,c=0.1])"
   ]
  },
  {
   "cell_type": "code",
   "execution_count": 15,
   "metadata": {
    "collapsed": false
   },
   "outputs": [
    {
     "name": "stdout",
     "output_type": "stream",
     "text": [
      "   There are 12 exposed and 6 unexposed library operations named eval \n",
      "      having 2 argument(s) but none was determined to be applicable. \n",
      "      Use HyperDoc Browse, or issue\n",
      "                              )display op eval\n",
      "      to learn more about the available operations. Perhaps \n",
      "      package-calling the operation or using coercions on the arguments\n",
      "      will allow you to apply the operation.\n",
      "   Cannot find a definition or applicable library operation named eval \n",
      "      with argument type(s) \n",
      "                     Union(Expression(Integer),\"failed\")\n",
      "                      List(Equation(Polynomial(Float)))\n",
      "      \n",
      "      Perhaps you should use \"@\" to indicate the required return type, \n",
      "      or \"$\" to specify which version of the function you need.\n",
      "   FriCAS will attempt to step through and interpret the code.\n",
      "   Compiling function %T with type DoubleFloat -> DoubleFloat \n",
      "   Graph data being transmitted to the viewport manager...\n",
      "   FriCAS2D data being transmitted to the viewport manager...\n"
     ]
    },
    {
     "data": {
      "text/plain": [
       "   TwoDimensionalViewport: \"FriCAS2D\"\n",
       "                                                 Type: TwoDimensionalViewport\n"
      ]
     },
     "execution_count": 15,
     "metadata": {},
     "output_type": "execute_result"
    }
   ],
   "source": [
    "draw(S3,t=0..100)"
   ]
  },
  {
   "cell_type": "code",
   "execution_count": 16,
   "metadata": {
    "collapsed": false
   },
   "outputs": [
    {
     "data": {
      "text/plain": [
       "   s1\n",
       "                                                                 Type: Symbol\n"
      ]
     },
     "execution_count": 16,
     "metadata": {},
     "output_type": "execute_result"
    }
   ],
   "source": [
    "function(S1,'s1,'t)"
   ]
  },
  {
   "cell_type": "code",
   "execution_count": 17,
   "metadata": {
    "collapsed": false
   },
   "outputs": [
    {
     "name": "stdout",
     "output_type": "stream",
     "text": [
      "   Compiling function s1 with type PositiveInteger -> Expression(\n",
      "      Integer) \n"
     ]
    },
    {
     "data": {
      "text/plain": [
       "                +-+       +-+\n",
       "               \\|5  - 3  \\|5  + 3\n",
       "               --------  --------\n",
       "     +-+           2         2       +-+\n",
       "   (\\|5  + 3)%e        %e         + \\|5  - 3\n",
       "   -----------------------------------------\n",
       "                        +-+\n",
       "                       \\|5  + 3\n",
       "                       --------\n",
       "                  +-+      2\n",
       "                2\\|5 %e\n",
       "                                                    Type: Expression(Integer)\n"
      ]
     },
     "execution_count": 17,
     "metadata": {},
     "output_type": "execute_result"
    }
   ],
   "source": [
    "s1(1)"
   ]
  },
  {
   "cell_type": "code",
   "execution_count": 18,
   "metadata": {
    "collapsed": false
   },
   "outputs": [
    {
     "data": {
      "text/plain": [
       "   s2\n",
       "                                                                 Type: Symbol\n"
      ]
     },
     "execution_count": 18,
     "metadata": {},
     "output_type": "execute_result"
    }
   ],
   "source": [
    "function(S2,'s2,'t)"
   ]
  },
  {
   "cell_type": "code",
   "execution_count": 19,
   "metadata": {
    "collapsed": false
   },
   "outputs": [
    {
     "name": "stdout",
     "output_type": "stream",
     "text": [
      "   Compiling function s2 with type Float -> Complex(Float) \n"
     ]
    },
    {
     "data": {
      "text/plain": [
       "   0.9950207737_4207759557 - 0.1263157039_3106975913 E -21 %i\n",
       "                                                         Type: Complex(Float)\n"
      ]
     },
     "execution_count": 19,
     "metadata": {},
     "output_type": "execute_result"
    }
   ],
   "source": [
    "s2(0.1)"
   ]
  },
  {
   "cell_type": "code",
   "execution_count": 20,
   "metadata": {
    "collapsed": false
   },
   "outputs": [
    {
     "data": {
      "text/plain": []
     },
     "execution_count": 20,
     "metadata": {},
     "output_type": "execute_result"
    }
   ],
   "source": [
    "--\n",
    "-- EOF\n",
    "--"
   ]
  }
 ],
 "metadata": {
  "kernelspec": {
   "display_name": "FriCAS",
   "language": "spad",
   "name": "ifricas"
  },
  "language_info": {
   "codemirror_mode": "spad",
   "mimetype": "text/x-spad",
   "name": "SPAD",
   "pygments_lexer": "spad",
   "version": "1.2.6"
  },
  "name": "tutchap4.ipynb"
 },
 "nbformat": 4,
 "nbformat_minor": 0
}