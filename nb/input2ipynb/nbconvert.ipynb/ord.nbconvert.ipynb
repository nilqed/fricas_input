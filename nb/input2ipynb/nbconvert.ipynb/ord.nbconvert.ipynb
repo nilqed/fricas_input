{
 "cells": [
  {
   "cell_type": "code",
   "execution_count": 0,
   "metadata": {
    "collapsed": false
   },
   "outputs": [
    {
     "data": {
      "text/plain": []
     },
     "execution_count": 0,
     "metadata": {},
     "output_type": "execute_result"
    }
   ],
   "source": [
    ")set break resume"
   ]
  },
  {
   "cell_type": "code",
   "execution_count": 1,
   "metadata": {
    "collapsed": false
   },
   "outputs": [
    {
     "name": "stdout",
     "output_type": "stream",
     "text": [
      "   UnittestCount is now explicitly exposed in frame initial \n",
      "   UnittestAux is now explicitly exposed in frame initial \n",
      "   Unittest is now explicitly exposed in frame initial \n"
     ]
    },
    {
     "data": {
      "text/plain": []
     },
     "execution_count": 1,
     "metadata": {},
     "output_type": "execute_result"
    }
   ],
   "source": [
    ")expose UnittestCount UnittestAux Unittest"
   ]
  },
  {
   "cell_type": "code",
   "execution_count": 2,
   "metadata": {
    "collapsed": false
   },
   "outputs": [
    {
     "name": "stdout",
     "output_type": "stream",
     "text": [
      "   All user variables and function definitions have been cleared.\n",
      "Warning: HyperTeX macro table not found\n"
     ]
    },
    {
     "data": {
      "text/plain": [
       "                                                                   Type: Void\n"
      ]
     },
     "execution_count": 2,
     "metadata": {},
     "output_type": "execute_result"
    }
   ],
   "source": [
    "testsuite \"ordinals\""
   ]
  },
  {
   "cell_type": "code",
   "execution_count": 3,
   "metadata": {
    "collapsed": false
   },
   "outputs": [
    {
     "name": "stdout",
     "output_type": "stream",
     "text": [
      "   All user variables and function definitions have been cleared.\n"
     ]
    },
    {
     "data": {
      "text/plain": [
       "                                                                   Type: Void\n"
      ]
     },
     "execution_count": 3,
     "metadata": {},
     "output_type": "execute_result"
    }
   ],
   "source": [
    "testcase \"ordinals\""
   ]
  },
  {
   "cell_type": "code",
   "execution_count": 4,
   "metadata": {
    "collapsed": false
   },
   "outputs": [
    {
     "data": {
      "text/plain": [
       "   omega\n",
       "                                                           Type: SmallOrdinal\n"
      ]
     },
     "execution_count": 4,
     "metadata": {},
     "output_type": "execute_result"
    }
   ],
   "source": [
    "om := omega()$SORD"
   ]
  },
  {
   "cell_type": "code",
   "execution_count": 5,
   "metadata": {
    "collapsed": false
   },
   "outputs": [
    {
     "data": {
      "text/plain": [
       "        2\n",
       "   omega  + 2omega + 4\n",
       "                                                           Type: SmallOrdinal\n"
      ]
     },
     "execution_count": 5,
     "metadata": {},
     "output_type": "execute_result"
    }
   ],
   "source": [
    "o1 := om*om + 2*om + 4"
   ]
  },
  {
   "cell_type": "code",
   "execution_count": 6,
   "metadata": {
    "collapsed": false
   },
   "outputs": [
    {
     "data": {
      "text/plain": [
       "        2\n",
       "   omega  + 2omega + 5\n",
       "                                                           Type: SmallOrdinal\n"
      ]
     },
     "execution_count": 6,
     "metadata": {},
     "output_type": "execute_result"
    }
   ],
   "source": [
    "o2 := om*om + 2*om + 5"
   ]
  },
  {
   "cell_type": "code",
   "execution_count": 7,
   "metadata": {
    "collapsed": false
   },
   "outputs": [
    {
     "data": {
      "text/plain": [
       "                                                                   Type: Void\n"
      ]
     },
     "execution_count": 7,
     "metadata": {},
     "output_type": "execute_result"
    }
   ],
   "source": [
    "testTrue(\"o1 < o2\")"
   ]
  },
  {
   "cell_type": "code",
   "execution_count": 8,
   "metadata": {
    "collapsed": false
   },
   "outputs": [
    {
     "data": {
      "text/plain": [
       "                                                                   Type: Void\n"
      ]
     },
     "execution_count": 8,
     "metadata": {},
     "output_type": "execute_result"
    }
   ],
   "source": [
    "testEquals(\"o1 + 1\", \"o2\")"
   ]
  },
  {
   "cell_type": "code",
   "execution_count": 9,
   "metadata": {
    "collapsed": false
   },
   "outputs": [
    {
     "data": {
      "text/plain": [
       "                                                                   Type: Void\n"
      ]
     },
     "execution_count": 9,
     "metadata": {},
     "output_type": "execute_result"
    }
   ],
   "source": [
    "testTrue(\"not(o1 = o2)\")"
   ]
  },
  {
   "cell_type": "code",
   "execution_count": 10,
   "metadata": {
    "collapsed": false
   },
   "outputs": [
    {
     "data": {
      "text/plain": [
       "                                                                   Type: Void\n"
      ]
     },
     "execution_count": 10,
     "metadata": {},
     "output_type": "execute_result"
    }
   ],
   "source": [
    "testEquals(\"ordinalAdd(o1, o2)\", \"ordinalAdd(o2, o1) + 1\")"
   ]
  },
  {
   "cell_type": "code",
   "execution_count": 11,
   "metadata": {
    "collapsed": false
   },
   "outputs": [
    {
     "data": {
      "text/plain": [
       "             2                           2\n",
       "        omega  + 2omega + 5         omega  + 2omega + 4\n",
       "   omega                    + 7omega\n",
       "                                                           Type: SmallOrdinal\n"
      ]
     },
     "execution_count": 11,
     "metadata": {},
     "output_type": "execute_result"
    }
   ],
   "source": [
    "o3 := ordinalPower(om + 7, o2)"
   ]
  },
  {
   "cell_type": "code",
   "execution_count": 12,
   "metadata": {
    "collapsed": false
   },
   "outputs": [
    {
     "data": {
      "text/plain": [
       "                                                                   Type: Void\n"
      ]
     },
     "execution_count": 12,
     "metadata": {},
     "output_type": "execute_result"
    }
   ],
   "source": [
    "testEquals(\"omegapower(o2) + 7*omegapower(o1)\", \"o3\")"
   ]
  },
  {
   "cell_type": "code",
   "execution_count": 13,
   "metadata": {
    "collapsed": false
   },
   "outputs": [
    {
     "name": "stdout",
     "output_type": "stream",
     "text": [
      "          "
     ]
    },
    {
     "data": {
      "text/plain": [
       "               2                             2\n",
       "          omega  + 2omega + 10          omega  + 2omega + 9\n",
       "     omega                     + 10omega\n",
       "   + \n",
       "                 2                             2\n",
       "            omega  + 2omega + 8           omega  + 2omega + 7\n",
       "     60omega                    + 240omega\n",
       "   + \n",
       "                  2                              2\n",
       "             omega  + 2omega + 6            omega  + 2omega + 5\n",
       "     720omega                    + 1632omega\n",
       "   + \n",
       "                   2                              2\n",
       "              omega  + 2omega + 4            omega  + 2omega + 3\n",
       "     2880omega                    + 3840omega\n",
       "   + \n",
       "                   2                              2\n",
       "              omega  + 2omega + 2            omega  + 2omega + 1\n",
       "     3840omega                    + 2560omega\n",
       "   + \n",
       "                   2\n",
       "              omega  + 2omega\n",
       "     1024omega\n",
       "                                                           Type: SmallOrdinal\n"
      ]
     },
     "execution_count": 13,
     "metadata": {},
     "output_type": "execute_result"
    }
   ],
   "source": [
    "o4 := o1^o2"
   ]
  },
  {
   "cell_type": "code",
   "execution_count": 14,
   "metadata": {
    "collapsed": false
   },
   "outputs": [
    {
     "name": "stdout",
     "output_type": "stream",
     "text": [
      "        "
     ]
    },
    {
     "data": {
      "text/plain": [
       "               2                           2\n",
       "          omega  + 2omega + 8         omega  + 2omega + 7\n",
       "     omega                    + 8omega\n",
       "   + \n",
       "                 2                             2\n",
       "            omega  + 2omega + 6           omega  + 2omega + 5\n",
       "     44omega                    + 152omega\n",
       "   + \n",
       "                  2                             2\n",
       "             omega  + 2omega + 4           omega  + 2omega + 3\n",
       "     406omega                    + 760omega\n",
       "   + \n",
       "                   2                              2\n",
       "              omega  + 2omega + 2            omega  + 2omega + 1\n",
       "     1100omega                    + 1000omega\n",
       "   + \n",
       "                  2\n",
       "             omega  + 2omega\n",
       "     625omega\n",
       "                                                           Type: SmallOrdinal\n"
      ]
     },
     "execution_count": 14,
     "metadata": {},
     "output_type": "execute_result"
    }
   ],
   "source": [
    "o5 := o2^o1"
   ]
  },
  {
   "cell_type": "code",
   "execution_count": 15,
   "metadata": {
    "collapsed": false
   },
   "outputs": [
    {
     "data": {
      "text/plain": [
       "                                                                   Type: Void\n"
      ]
     },
     "execution_count": 15,
     "metadata": {},
     "output_type": "execute_result"
    }
   ],
   "source": [
    "testTrue(\"o5 < o4\")"
   ]
  },
  {
   "cell_type": "code",
   "execution_count": 16,
   "metadata": {
    "collapsed": false
   },
   "outputs": [
    {
     "name": "stdout",
     "output_type": "stream",
     "text": [
      "          "
     ]
    },
    {
     "data": {
      "text/plain": [
       "               2                             2\n",
       "          omega  + 2omega + 10          omega  + 2omega + 9\n",
       "     omega                     + 10omega\n",
       "   + \n",
       "                 2                           2\n",
       "            omega  + 2omega + 8         omega  + 2omega + 7\n",
       "     61omega                    + 8omega\n",
       "   + \n",
       "                 2                             2\n",
       "            omega  + 2omega + 6           omega  + 2omega + 5\n",
       "     44omega                    + 152omega\n",
       "   + \n",
       "                  2                             2\n",
       "             omega  + 2omega + 4           omega  + 2omega + 3\n",
       "     406omega                    + 760omega\n",
       "   + \n",
       "                   2                              2\n",
       "              omega  + 2omega + 2            omega  + 2omega + 1\n",
       "     1100omega                    + 1000omega\n",
       "   + \n",
       "                  2\n",
       "             omega  + 2omega\n",
       "     625omega\n",
       "                                                           Type: SmallOrdinal\n"
      ]
     },
     "execution_count": 16,
     "metadata": {},
     "output_type": "execute_result"
    }
   ],
   "source": [
    "o6 := ordinalAdd(o4, o5)"
   ]
  },
  {
   "cell_type": "code",
   "execution_count": 17,
   "metadata": {
    "collapsed": false
   },
   "outputs": [
    {
     "data": {
      "text/plain": [
       "                                                                   Type: Void\n"
      ]
     },
     "execution_count": 17,
     "metadata": {},
     "output_type": "execute_result"
    }
   ],
   "source": [
    "testTrue(\"ordinalAdd(o5, o4) < o6\")"
   ]
  },
  {
   "cell_type": "code",
   "execution_count": 18,
   "metadata": {
    "collapsed": false
   },
   "outputs": [
    {
     "name": "stdout",
     "output_type": "stream",
     "text": [
      "        "
     ]
    },
    {
     "data": {
      "text/plain": [
       "                2                            2\n",
       "          2omega  + 2omega + 8         2omega  + 2omega + 7\n",
       "     omega                     + 8omega\n",
       "   + \n",
       "                  2                              2\n",
       "            2omega  + 2omega + 6           2omega  + 2omega + 5\n",
       "     44omega                     + 152omega\n",
       "   + \n",
       "                   2                              2\n",
       "             2omega  + 2omega + 4           2omega  + 2omega + 3\n",
       "     406omega                     + 760omega\n",
       "   + \n",
       "                    2                               2\n",
       "              2omega  + 2omega + 2            2omega  + 2omega + 1\n",
       "     1100omega                     + 1000omega\n",
       "   + \n",
       "                   2\n",
       "             2omega  + 2omega\n",
       "     625omega\n",
       "                                                           Type: SmallOrdinal\n"
      ]
     },
     "execution_count": 18,
     "metadata": {},
     "output_type": "execute_result"
    }
   ],
   "source": [
    "o7 := ordinalMul(o4, o5)"
   ]
  },
  {
   "cell_type": "code",
   "execution_count": 19,
   "metadata": {
    "collapsed": false
   },
   "outputs": [
    {
     "data": {
      "text/plain": [
       "                                                                   Type: Void\n"
      ]
     },
     "execution_count": 19,
     "metadata": {},
     "output_type": "execute_result"
    }
   ],
   "source": [
    "testEquals(\"subtractIfCan(o2, o1)\", \"1\")"
   ]
  },
  {
   "cell_type": "code",
   "execution_count": 20,
   "metadata": {
    "collapsed": false
   },
   "outputs": [
    {
     "data": {
      "text/plain": [
       "   true\n",
       "                                                                Type: Boolean\n"
      ]
     },
     "execution_count": 20,
     "metadata": {},
     "output_type": "execute_result"
    }
   ],
   "source": [
    "rr12 := subtractIfCan(o1, o2) case \"failed\""
   ]
  },
  {
   "cell_type": "code",
   "execution_count": 21,
   "metadata": {
    "collapsed": false
   },
   "outputs": [
    {
     "data": {
      "text/plain": [
       "                                                                   Type: Void\n"
      ]
     },
     "execution_count": 21,
     "metadata": {},
     "output_type": "execute_result"
    }
   ],
   "source": [
    "testTrue(\"rr12\")"
   ]
  },
  {
   "cell_type": "code",
   "execution_count": 22,
   "metadata": {
    "collapsed": false
   },
   "outputs": [
    {
     "data": {
      "text/plain": [
       "   true\n",
       "                                                                Type: Boolean\n"
      ]
     },
     "execution_count": 22,
     "metadata": {},
     "output_type": "execute_result"
    }
   ],
   "source": [
    "rr41 := subtractIfCan(o4, o1) case \"failed\""
   ]
  },
  {
   "cell_type": "code",
   "execution_count": 23,
   "metadata": {
    "collapsed": false
   },
   "outputs": [
    {
     "data": {
      "text/plain": [
       "                                                                   Type: Void\n"
      ]
     },
     "execution_count": 23,
     "metadata": {},
     "output_type": "execute_result"
    }
   ],
   "source": [
    "testTrue(\"rr41\")"
   ]
  },
  {
   "cell_type": "code",
   "execution_count": 24,
   "metadata": {
    "collapsed": false
   },
   "outputs": [
    {
     "data": {
      "text/plain": [
       "                                                                   Type: Void\n"
      ]
     },
     "execution_count": 24,
     "metadata": {},
     "output_type": "execute_result"
    }
   ],
   "source": [
    "testEquals(\"subtractIfCan(o4, o5) + o5\", \"o4\")"
   ]
  },
  {
   "cell_type": "code",
   "execution_count": 25,
   "metadata": {
    "collapsed": false
   },
   "outputs": [
    {
     "data": {
      "text/plain": [
       "                                                                   Type: Void\n"
      ]
     },
     "execution_count": 25,
     "metadata": {},
     "output_type": "execute_result"
    }
   ],
   "source": [
    "testEquals(\"subtractIfCan(o1 + o7, o7)\", \"o1\")"
   ]
  },
  {
   "cell_type": "code",
   "execution_count": 26,
   "metadata": {
    "collapsed": false
   },
   "outputs": [
    {
     "data": {
      "text/plain": [
       "   =============================================================================\n",
       "   General WARNINGS:\n",
       "   * do not use ')clear completely' before having used 'statistics()'\n",
       "     It clears the statistics without warning!\n",
       "   * do not forget to pass the arguments of the testXxxx functions as Strings!\n",
       "     Otherwise, the test will fail and statistics() will not notice!\n",
       "   * testLibraryError does not prevent FriCAS from aborting the current block.\n",
       "     Thus, if a block contains other test functions, they will not be executed\n",
       "     and statistics() will not notice!\n",
       "   =============================================================================\n",
       "   WARNINGS:\n",
       "   Testsuite: ordinals\n",
       "   Testcase: ordinals\n",
       "   test: 2\n",
       "   testing in a domain without InputForm!\n",
       "   Testsuite: ordinals\n",
       "   Testcase: ordinals\n",
       "   test: 4\n",
       "   testing in a domain without InputForm!\n",
       "   Testsuite: ordinals\n",
       "   Testcase: ordinals\n",
       "   test: 5\n",
       "   testing in a domain without InputForm!\n",
       "   Testsuite: ordinals\n",
       "   Testcase: ordinals\n",
       "   test: 8\n",
       "   testing in a domain without InputForm!\n",
       "   Testsuite: ordinals\n",
       "   Testcase: ordinals\n",
       "   test: 11\n",
       "   testing in a domain without InputForm!\n",
       "   Testsuite: ordinals\n",
       "   Testcase: ordinals\n",
       "   test: 12\n",
       "   testing in a domain without InputForm!\n",
       "\n",
       "   =============================================================================\n",
       "   Testsuite: ordinals\n",
       "     failed (total): 0 (1)\n",
       "\n",
       "   =============================================================================\n",
       "   testsuite | testcases: failed (total) | tests: failed (total)\n",
       "   ordinals                    0     (1)               0    (12)\n",
       "   =============================================================================\n",
       "   File summary.\n",
       "   unexpected failures: 0\n",
       "   expected failures: 0\n",
       "   unexpected passes: 0\n",
       "   total tests: 12\n",
       "                                                                   Type: Void\n"
      ]
     },
     "execution_count": 26,
     "metadata": {},
     "output_type": "execute_result"
    }
   ],
   "source": [
    "statistics()"
   ]
  },
  {
   "cell_type": "code",
   "execution_count": 27,
   "metadata": {
    "collapsed": false
   },
   "outputs": [
    {
     "data": {
      "text/plain": []
     },
     "execution_count": 27,
     "metadata": {},
     "output_type": "execute_result"
    }
   ],
   "source": [
    "--\n",
    "-- EOF\n",
    "--"
   ]
  }
 ],
 "metadata": {
  "kernelspec": {
   "display_name": "FriCAS",
   "language": "spad",
   "name": "ifricas"
  },
  "language_info": {
   "codemirror_mode": "spad",
   "mimetype": "text/x-spad",
   "name": "SPAD",
   "pygments_lexer": "spad",
   "version": "1.2.6"
  },
  "name": "ord.ipynb"
 },
 "nbformat": 4,
 "nbformat_minor": 0
}