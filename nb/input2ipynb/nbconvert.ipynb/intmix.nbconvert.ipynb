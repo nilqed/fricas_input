{
 "cells": [
  {
   "cell_type": "markdown",
   "metadata": {},
   "source": [
    "Copyright The Numerical Algorithms Group Limited 1994.\n"
   ]
  },
  {
   "cell_type": "markdown",
   "metadata": {},
   "source": [
    " some examples of mixed functions.\n"
   ]
  },
  {
   "cell_type": "code",
   "execution_count": 0,
   "metadata": {
    "collapsed": false
   },
   "outputs": [
    {
     "name": "stdout",
     "output_type": "stream",
     "text": [
      "   All user variables and function definitions have been cleared.\n"
     ]
    },
    {
     "data": {
      "text/plain": []
     },
     "execution_count": 0,
     "metadata": {},
     "output_type": "execute_result"
    }
   ],
   "source": [
    ")cl all"
   ]
  },
  {
   "cell_type": "code",
   "execution_count": 1,
   "metadata": {
    "collapsed": false
   },
   "outputs": [
    {
     "name": "stdout",
     "output_type": "stream",
     "text": [
      "Warning: HyperTeX macro table not found\n"
     ]
    },
    {
     "data": {
      "text/plain": [
       "                  +----------+                2\n",
       "   (- log(x) - x)\\|log(x) + x  + (x + 1)log(x)\n",
       "   --------------------------------------------\n",
       "                3    2      2  +----------+\n",
       "       (x log(x)  + x log(x) )\\|log(x) + x\n",
       "                                                    Type: Expression(Integer)\n"
      ]
     },
     "execution_count": 1,
     "metadata": {},
     "output_type": "execute_result"
    }
   ],
   "source": [
    "(x + 1) / (x * (x + log x)^(3/2)) - 1/(x * log(x)^2)"
   ]
  },
  {
   "cell_type": "code",
   "execution_count": 2,
   "metadata": {
    "collapsed": false
   },
   "outputs": [
    {
     "data": {
      "text/plain": [
       "             +----------+\n",
       "   - 2log(x)\\|log(x) + x  + log(x) + x\n",
       "   -----------------------------------\n",
       "                  2\n",
       "            log(x)  + x log(x)\n",
       "                                         Type: Union(Expression(Integer),...)\n"
      ]
     },
     "execution_count": 2,
     "metadata": {},
     "output_type": "execute_result"
    }
   ],
   "source": [
    "integrate(%, x)"
   ]
  },
  {
   "cell_type": "markdown",
   "metadata": {},
   "source": [
    " this one requires solving a risch d.e. over an elliptic curve\n"
   ]
  },
  {
   "cell_type": "code",
   "execution_count": 3,
   "metadata": {
    "collapsed": false
   },
   "outputs": [
    {
     "data": {
      "text/plain": [
       "                                                    +------+\n",
       "                   +------+                         | 3\n",
       "       4           | 3          4    3            x\\|x  + 1\n",
       "   ((5x  + 2x - 2)\\|x  + 1  + 5x  + x  + 2x - 2)%e\n",
       "   ---------------------------------------------------------\n",
       "                             +------+\n",
       "                           2 | 3\n",
       "                          x \\|x  + 1\n",
       "                                                    Type: Expression(Integer)\n"
      ]
     },
     "execution_count": 3,
     "metadata": {},
     "output_type": "execute_result"
    }
   ],
   "source": [
    "((5*x^4+2*x-2)/x^2 * (1+1/sqrt(x^3+1))+x/sqrt(x^3+1)) * exp(x*sqrt(x^3+1))"
   ]
  },
  {
   "cell_type": "code",
   "execution_count": 4,
   "metadata": {
    "collapsed": false
   },
   "outputs": [
    {
     "data": {
      "text/plain": [
       "                       +------+\n",
       "      +------+         | 3\n",
       "      | 3            x\\|x  + 1\n",
       "   (2\\|x  + 1  + 2)%e\n",
       "   ----------------------------\n",
       "                 x\n",
       "                                         Type: Union(Expression(Integer),...)\n"
      ]
     },
     "execution_count": 4,
     "metadata": {},
     "output_type": "execute_result"
    }
   ],
   "source": [
    "integrate(%, x)"
   ]
  },
  {
   "cell_type": "markdown",
   "metadata": {},
   "source": [
    " this one does not have an elementary integral\n"
   ]
  },
  {
   "cell_type": "code",
   "execution_count": 5,
   "metadata": {
    "collapsed": false
   },
   "outputs": [
    {
     "data": {
      "text/plain": [
       "     +------------+\n",
       "    3|      x\n",
       "    \\|log(%e  + 1)\n",
       "   ----------------\n",
       "         x\n",
       "   log(%e  + 1) + 1\n",
       "                                                    Type: Expression(Integer)\n"
      ]
     },
     "execution_count": 5,
     "metadata": {},
     "output_type": "execute_result"
    }
   ],
   "source": [
    "log(1 + exp x)^(1/3) / (1 + log(1 + exp x))"
   ]
  },
  {
   "cell_type": "code",
   "execution_count": 6,
   "metadata": {
    "collapsed": false
   },
   "outputs": [
    {
     "data": {
      "text/plain": [
       "          +-------------+\n",
       "      x  3|      %A\n",
       "    ++   \\|log(%e   + 1)\n",
       "    |   ----------------- d%A\n",
       "   ++         %A\n",
       "        log(%e   + 1) + 1\n",
       "                                         Type: Union(Expression(Integer),...)\n"
      ]
     },
     "execution_count": 6,
     "metadata": {},
     "output_type": "execute_result"
    }
   ],
   "source": [
    "integrate(%, x)"
   ]
  },
  {
   "cell_type": "code",
   "execution_count": 7,
   "metadata": {
    "collapsed": false
   },
   "outputs": [
    {
     "data": {
      "text/plain": []
     },
     "execution_count": 7,
     "metadata": {},
     "output_type": "execute_result"
    }
   ],
   "source": [
    "--\n",
    "-- EOF\n",
    "--"
   ]
  }
 ],
 "metadata": {
  "kernelspec": {
   "display_name": "FriCAS",
   "language": "spad",
   "name": "ifricas"
  },
  "language_info": {
   "codemirror_mode": "spad",
   "mimetype": "text/x-spad",
   "name": "SPAD",
   "pygments_lexer": "spad",
   "version": "1.2.6"
  },
  "name": "intmix.ipynb"
 },
 "nbformat": 4,
 "nbformat_minor": 0
}