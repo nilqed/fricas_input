{
 "cells": [
  {
   "cell_type": "markdown",
   "metadata": {},
   "source": [
    "Copyright The Numerical Algorithms Group Limited 1991.\n"
   ]
  },
  {
   "cell_type": "code",
   "execution_count": 0,
   "metadata": {
    "collapsed": false
   },
   "outputs": [
    {
     "name": "stdout",
     "output_type": "stream",
     "text": [
      "   All user variables and function definitions have been cleared.\n"
     ]
    },
    {
     "data": {
      "text/plain": []
     },
     "execution_count": 0,
     "metadata": {},
     "output_type": "execute_result"
    }
   ],
   "source": [
    ")clear all"
   ]
  },
  {
   "cell_type": "code",
   "execution_count": 1,
   "metadata": {
    "collapsed": false
   },
   "outputs": [
    {
     "data": {
      "text/plain": [
       "   OrderlyDifferentialVariable(Symbol)\n",
       "                                                                   Type: Type\n"
      ]
     },
     "execution_count": 1,
     "metadata": {},
     "output_type": "execute_result"
    }
   ],
   "source": [
    "odvar:=ODVAR Symbol"
   ]
  },
  {
   "cell_type": "markdown",
   "metadata": {},
   "source": [
    " here are the first 5 derivatives of w\n",
    " the i-th derivative of w is printed as w subscript 5\n"
   ]
  },
  {
   "cell_type": "code",
   "execution_count": 2,
   "metadata": {
    "collapsed": false
   },
   "outputs": [
    {
     "name": "stdout",
     "output_type": "stream",
     "text": [
      "Warning: HyperTeX macro table not found\n"
     ]
    },
    {
     "data": {
      "text/plain": [
       "   [w ,w ,w ,w ,w ,w]\n",
       "     5  4  3  2  1\n",
       "                              Type: List(OrderlyDifferentialVariable(Symbol))\n"
      ]
     },
     "execution_count": 2,
     "metadata": {},
     "output_type": "execute_result"
    }
   ],
   "source": [
    "[makeVariable('w,i)$odvar for i in 5..0 by -1]"
   ]
  },
  {
   "cell_type": "markdown",
   "metadata": {},
   "source": [
    " these are now algebraic indeterminates, ranked in an orderly way\n",
    " in increasing order:\n"
   ]
  },
  {
   "cell_type": "code",
   "execution_count": 3,
   "metadata": {
    "collapsed": false
   },
   "outputs": [
    {
     "data": {
      "text/plain": [
       "   [w,w ,w ,w ,w ,w ]\n",
       "       1  2  3  4  5\n",
       "                              Type: List(OrderlyDifferentialVariable(Symbol))\n"
      ]
     },
     "execution_count": 3,
     "metadata": {},
     "output_type": "execute_result"
    }
   ],
   "source": [
    "sort %"
   ]
  },
  {
   "cell_type": "markdown",
   "metadata": {},
   "source": [
    " we now make a general differential polynomial ring\n",
    " instead of ODVAR, one can also use SDVAR for sequential ordering\n"
   ]
  },
  {
   "cell_type": "code",
   "execution_count": 4,
   "metadata": {
    "collapsed": false
   },
   "outputs": [
    {
     "data": {
      "text/plain": [
       "  DifferentialSparseMultivariatePolynomial(Fraction(Integer),Symbol,OrderlyDiff\n",
       "  erentialVariable(Symbol))\n",
       "                                                                   Type: Type\n"
      ]
     },
     "execution_count": 4,
     "metadata": {},
     "output_type": "execute_result"
    }
   ],
   "source": [
    "dpol:=DSMP (FRAC INT, Symbol, odvar)"
   ]
  },
  {
   "cell_type": "markdown",
   "metadata": {},
   "source": [
    " instead of using makeVariable, it is easier to\n",
    " think of a differential variable w as a map, where\n",
    " w.n is n-th derivative of w as an algebraic indeterminate\n"
   ]
  },
  {
   "cell_type": "code",
   "execution_count": 5,
   "metadata": {
    "collapsed": false
   },
   "outputs": [
    {
     "data": {
      "text/plain": [
       "   theMap(DPOLCAT-;makeVariable;AM;17!0,655)\n",
       "Type: (NonNegativeInteger -> DifferentialSparseMultivariatePolynomial(Fraction(Integer),Symbol,OrderlyDifferentialVariable(Symbol)))\n"
      ]
     },
     "execution_count": 5,
     "metadata": {},
     "output_type": "execute_result"
    }
   ],
   "source": [
    "w := makeVariable('w)$dpol"
   ]
  },
  {
   "cell_type": "markdown",
   "metadata": {},
   "source": [
    " create another one called z, which is higher in rank than w\n",
    " since we are ordering by Symbol\n"
   ]
  },
  {
   "cell_type": "code",
   "execution_count": 6,
   "metadata": {
    "collapsed": false
   },
   "outputs": [
    {
     "data": {
      "text/plain": [
       "   theMap(DPOLCAT-;makeVariable;AM;17!0,655)\n",
       "Type: (NonNegativeInteger -> DifferentialSparseMultivariatePolynomial(Fraction(Integer),Symbol,OrderlyDifferentialVariable(Symbol)))\n"
      ]
     },
     "execution_count": 6,
     "metadata": {},
     "output_type": "execute_result"
    }
   ],
   "source": [
    "z := makeVariable('z)$dpol"
   ]
  },
  {
   "cell_type": "markdown",
   "metadata": {},
   "source": [
    " now define some differential polynomial\n"
   ]
  },
  {
   "cell_type": "code",
   "execution_count": 7,
   "metadata": {
    "collapsed": false
   },
   "outputs": [
    {
     "data": {
      "text/plain": [
       "                                                                   Type: Void\n"
      ]
     },
     "execution_count": 7,
     "metadata": {},
     "output_type": "execute_result"
    }
   ],
   "source": [
    "(f,b):dpol"
   ]
  },
  {
   "cell_type": "code",
   "execution_count": 8,
   "metadata": {
    "collapsed": false
   },
   "outputs": [
    {
     "data": {
      "text/plain": [
       "          2\n",
       "   w  - w  z\n",
       "    4    1  3\n",
       "Type: DifferentialSparseMultivariatePolynomial(Fraction(Integer),Symbol,OrderlyDifferentialVariable(Symbol))\n"
      ]
     },
     "execution_count": 8,
     "metadata": {},
     "output_type": "execute_result"
    }
   ],
   "source": [
    "f:=w.4::dpol - w.1 * w.1 * z.3"
   ]
  },
  {
   "cell_type": "code",
   "execution_count": 9,
   "metadata": {
    "collapsed": false
   },
   "outputs": [
    {
     "data": {
      "text/plain": [
       "     3  2\n",
       "   z  z   - w\n",
       "    1  2     2\n",
       "Type: DifferentialSparseMultivariatePolynomial(Fraction(Integer),Symbol,OrderlyDifferentialVariable(Symbol))\n"
      ]
     },
     "execution_count": 9,
     "metadata": {},
     "output_type": "execute_result"
    }
   ],
   "source": [
    "b:=(z.1::dpol)^3 * (z.2)^2 - w.2"
   ]
  },
  {
   "cell_type": "markdown",
   "metadata": {},
   "source": [
    " compute the leading derivative appearing in b\n"
   ]
  },
  {
   "cell_type": "code",
   "execution_count": 10,
   "metadata": {
    "collapsed": false
   },
   "outputs": [
    {
     "data": {
      "text/plain": [
       "   z\n",
       "    2\n",
       "                                    Type: OrderlyDifferentialVariable(Symbol)\n"
      ]
     },
     "execution_count": 10,
     "metadata": {},
     "output_type": "execute_result"
    }
   ],
   "source": [
    "lb:=leader b"
   ]
  },
  {
   "cell_type": "markdown",
   "metadata": {},
   "source": [
    " the separant is the partial derivative of b with respect to its leader\n"
   ]
  },
  {
   "cell_type": "code",
   "execution_count": 11,
   "metadata": {
    "collapsed": false
   },
   "outputs": [
    {
     "data": {
      "text/plain": [
       "      3\n",
       "   2z  z\n",
       "     1  2\n",
       "Type: DifferentialSparseMultivariatePolynomial(Fraction(Integer),Symbol,OrderlyDifferentialVariable(Symbol))\n"
      ]
     },
     "execution_count": 11,
     "metadata": {},
     "output_type": "execute_result"
    }
   ],
   "source": [
    "sb:=separant b"
   ]
  },
  {
   "cell_type": "markdown",
   "metadata": {},
   "source": [
    " of course you can differentiate these differential polynomials\n",
    " and try to reduce f modulo the differential ideal generated by b\n",
    " first eliminate z.3 using the derivative of b\n"
   ]
  },
  {
   "cell_type": "code",
   "execution_count": 12,
   "metadata": {
    "collapsed": false
   },
   "outputs": [
    {
     "data": {
      "text/plain": [
       "      3               2  3\n",
       "   2z  z z  - w  + 3z  z\n",
       "     1  2 3    3     1  2\n",
       "Type: DifferentialSparseMultivariatePolynomial(Fraction(Integer),Symbol,OrderlyDifferentialVariable(Symbol))\n"
      ]
     },
     "execution_count": 12,
     "metadata": {},
     "output_type": "execute_result"
    }
   ],
   "source": [
    "bprime:= differentiate b"
   ]
  },
  {
   "cell_type": "markdown",
   "metadata": {},
   "source": [
    " find its leader\n"
   ]
  },
  {
   "cell_type": "code",
   "execution_count": 13,
   "metadata": {
    "collapsed": false
   },
   "outputs": [
    {
     "data": {
      "text/plain": [
       "   z\n",
       "    3\n",
       "                                    Type: OrderlyDifferentialVariable(Symbol)\n"
      ]
     },
     "execution_count": 13,
     "metadata": {},
     "output_type": "execute_result"
    }
   ],
   "source": [
    "lbprime:= leader bprime"
   ]
  },
  {
   "cell_type": "markdown",
   "metadata": {},
   "source": [
    " differentiate f partially with respect to lbprime\n"
   ]
  },
  {
   "cell_type": "code",
   "execution_count": 14,
   "metadata": {
    "collapsed": false
   },
   "outputs": [
    {
     "data": {
      "text/plain": [
       "       2\n",
       "   - w\n",
       "      1\n",
       "Type: DifferentialSparseMultivariatePolynomial(Fraction(Integer),Symbol,OrderlyDifferentialVariable(Symbol))\n"
      ]
     },
     "execution_count": 14,
     "metadata": {},
     "output_type": "execute_result"
    }
   ],
   "source": [
    "pbf:=differentiate (f, lbprime)"
   ]
  },
  {
   "cell_type": "markdown",
   "metadata": {},
   "source": [
    " to obtain the partial remainder of f with respect to b\n"
   ]
  },
  {
   "cell_type": "code",
   "execution_count": 15,
   "metadata": {
    "collapsed": false
   },
   "outputs": [
    {
     "data": {
      "text/plain": [
       "      3         2        2  2  3\n",
       "   2z  z w  - w  w  + 3w  z  z\n",
       "     1  2 4    1  3     1  1  2\n",
       "Type: DifferentialSparseMultivariatePolynomial(Fraction(Integer),Symbol,OrderlyDifferentialVariable(Symbol))\n"
      ]
     },
     "execution_count": 15,
     "metadata": {},
     "output_type": "execute_result"
    }
   ],
   "source": [
    "ftilde:=sb * f- pbf * bprime"
   ]
  },
  {
   "cell_type": "markdown",
   "metadata": {},
   "source": [
    " note high powers of lb still appears in ftilde\n",
    " the initial is the leading coefficient when b is written\n",
    " as a univariate polynomial in its leader\n"
   ]
  },
  {
   "cell_type": "code",
   "execution_count": 16,
   "metadata": {
    "collapsed": false
   },
   "outputs": [
    {
     "data": {
      "text/plain": [
       "     3\n",
       "   z\n",
       "    1\n",
       "Type: DifferentialSparseMultivariatePolynomial(Fraction(Integer),Symbol,OrderlyDifferentialVariable(Symbol))\n"
      ]
     },
     "execution_count": 16,
     "metadata": {},
     "output_type": "execute_result"
    }
   ],
   "source": [
    "ib:=initial b"
   ]
  },
  {
   "cell_type": "markdown",
   "metadata": {},
   "source": [
    " compute the leading coefficient of ftilde\n",
    " as a polynomial in its leader\n"
   ]
  },
  {
   "cell_type": "code",
   "execution_count": 17,
   "metadata": {
    "collapsed": false
   },
   "outputs": [
    {
     "data": {
      "text/plain": [
       "      2  2\n",
       "   3w  z\n",
       "     1  1\n",
       "Type: DifferentialSparseMultivariatePolynomial(Fraction(Integer),Symbol,OrderlyDifferentialVariable(Symbol))\n"
      ]
     },
     "execution_count": 17,
     "metadata": {},
     "output_type": "execute_result"
    }
   ],
   "source": [
    "lcef:=leadingCoefficient univariate(ftilde, lb)"
   ]
  },
  {
   "cell_type": "markdown",
   "metadata": {},
   "source": [
    " now to continue eliminating the high powers of lb appearing in ftilde:\n",
    " to obtain the remainder of f modulo b and its derivatives\n"
   ]
  },
  {
   "cell_type": "code",
   "execution_count": 18,
   "metadata": {
    "collapsed": false
   },
   "outputs": [
    {
     "data": {
      "text/plain": [
       "      6         2  3        2  2\n",
       "   2z  z w  - w  z  w  + 3w  z  w z\n",
       "     1  2 4    1  1  3     1  1  2 2\n",
       "Type: DifferentialSparseMultivariatePolynomial(Fraction(Integer),Symbol,OrderlyDifferentialVariable(Symbol))\n"
      ]
     },
     "execution_count": 18,
     "metadata": {},
     "output_type": "execute_result"
    }
   ],
   "source": [
    "f0:=ib * ftilde - lcef * b * lb"
   ]
  },
  {
   "cell_type": "code",
   "execution_count": 19,
   "metadata": {
    "collapsed": false
   },
   "outputs": [
    {
     "data": {
      "text/plain": []
     },
     "execution_count": 19,
     "metadata": {},
     "output_type": "execute_result"
    }
   ],
   "source": [
    "--\n",
    "-- EOF\n",
    "--"
   ]
  }
 ],
 "metadata": {
  "kernelspec": {
   "display_name": "FriCAS",
   "language": "spad",
   "name": "ifricas"
  },
  "language_info": {
   "codemirror_mode": "spad",
   "mimetype": "text/x-spad",
   "name": "SPAD",
   "pygments_lexer": "spad",
   "version": "1.2.6"
  },
  "name": "dpol.ipynb"
 },
 "nbformat": 4,
 "nbformat_minor": 0
}