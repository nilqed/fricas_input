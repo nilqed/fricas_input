{
 "cells": [
  {
   "cell_type": "markdown",
   "metadata": {},
   "source": [
    "Copyright The Numerical Algorithms Group Limited 1991.\n"
   ]
  },
  {
   "cell_type": "code",
   "execution_count": 0,
   "metadata": {
    "collapsed": false
   },
   "outputs": [
    {
     "name": "stdout",
     "output_type": "stream",
     "text": [
      "   All user variables and function definitions have been cleared.\n"
     ]
    },
    {
     "data": {
      "text/plain": []
     },
     "execution_count": 0,
     "metadata": {},
     "output_type": "execute_result"
    }
   ],
   "source": [
    ")clear all"
   ]
  },
  {
   "cell_type": "markdown",
   "metadata": {},
   "source": [
    "Plotting Two Dimensional Compiled Functions of One Variable\n"
   ]
  },
  {
   "cell_type": "code",
   "execution_count": 1,
   "metadata": {
    "collapsed": false
   },
   "outputs": [
    {
     "name": "stdout",
     "output_type": "stream",
     "text": [
      "   Function declaration f : DoubleFloat -> DoubleFloat has been added \n",
      "      to workspace.\n"
     ]
    },
    {
     "data": {
      "text/plain": [
       "                                                                   Type: Void\n"
      ]
     },
     "execution_count": 1,
     "metadata": {},
     "output_type": "execute_result"
    }
   ],
   "source": [
    "f(x:DFLOAT):DFLOAT == sin(tan(x))-tan(sin(x))"
   ]
  },
  {
   "cell_type": "code",
   "execution_count": 2,
   "metadata": {
    "collapsed": false
   },
   "outputs": [
    {
     "name": "stdout",
     "output_type": "stream",
     "text": [
      "Warning: HyperTeX macro table not found\n",
      "   Compiling function f with type DoubleFloat -> DoubleFloat \n",
      "   Graph data being transmitted to the viewport manager...\n",
      "   FriCAS2D data being transmitted to the viewport manager...\n"
     ]
    },
    {
     "data": {
      "text/plain": [
       "   TwoDimensionalViewport: \"FriCAS2D\"\n",
       "                                                 Type: TwoDimensionalViewport\n"
      ]
     },
     "execution_count": 2,
     "metadata": {},
     "output_type": "execute_result"
    }
   ],
   "source": [
    "draw(f,0..6)"
   ]
  },
  {
   "cell_type": "code",
   "execution_count": 3,
   "metadata": {
    "collapsed": false
   },
   "outputs": [
    {
     "name": "stdout",
     "output_type": "stream",
     "text": [
      "   Graph data being transmitted to the viewport manager...\n",
      "   FriCAS2D data being transmitted to the viewport manager...\n"
     ]
    },
    {
     "data": {
      "text/plain": [
       "   TwoDimensionalViewport: \"FriCAS2D\"\n",
       "                                                 Type: TwoDimensionalViewport\n"
      ]
     },
     "execution_count": 3,
     "metadata": {},
     "output_type": "execute_result"
    }
   ],
   "source": [
    "draw(f,0..6,unit == [1.0,0.5],toScale == true)"
   ]
  },
  {
   "cell_type": "markdown",
   "metadata": {},
   "source": [
    "Plotting Two Dimensional Compiled Parametric Plane Curve Functions\n"
   ]
  },
  {
   "cell_type": "code",
   "execution_count": 4,
   "metadata": {
    "collapsed": false
   },
   "outputs": [
    {
     "name": "stdout",
     "output_type": "stream",
     "text": [
      "   Function declaration i1 : DoubleFloat -> DoubleFloat has been added \n",
      "      to workspace.\n"
     ]
    },
    {
     "data": {
      "text/plain": [
       "                                                                   Type: Void\n"
      ]
     },
     "execution_count": 4,
     "metadata": {},
     "output_type": "execute_result"
    }
   ],
   "source": [
    "i1(t:DFLOAT):DFLOAT == 9*sin(3*t/4)"
   ]
  },
  {
   "cell_type": "code",
   "execution_count": 5,
   "metadata": {
    "collapsed": false
   },
   "outputs": [
    {
     "name": "stdout",
     "output_type": "stream",
     "text": [
      "   Function declaration i2 : DoubleFloat -> DoubleFloat has been added \n",
      "      to workspace.\n"
     ]
    },
    {
     "data": {
      "text/plain": [
       "                                                                   Type: Void\n"
      ]
     },
     "execution_count": 5,
     "metadata": {},
     "output_type": "execute_result"
    }
   ],
   "source": [
    "i2(t:DFLOAT):DFLOAT == 8*sin(t)"
   ]
  },
  {
   "cell_type": "code",
   "execution_count": 6,
   "metadata": {
    "collapsed": false
   },
   "outputs": [
    {
     "name": "stdout",
     "output_type": "stream",
     "text": [
      "   Compiling function i1 with type DoubleFloat -> DoubleFloat \n",
      "   Compiling function i2 with type DoubleFloat -> DoubleFloat \n",
      "   Graph data being transmitted to the viewport manager...\n",
      "   FriCAS2D data being transmitted to the viewport manager...\n"
     ]
    },
    {
     "data": {
      "text/plain": [
       "   TwoDimensionalViewport: \"FriCAS2D\"\n",
       "                                                 Type: TwoDimensionalViewport\n"
      ]
     },
     "execution_count": 6,
     "metadata": {},
     "output_type": "execute_result"
    }
   ],
   "source": [
    "draw(curve(i1,i2),-4*%pi..4*%pi)"
   ]
  },
  {
   "cell_type": "code",
   "execution_count": 7,
   "metadata": {
    "collapsed": false
   },
   "outputs": [
    {
     "name": "stdout",
     "output_type": "stream",
     "text": [
      "   Graph data being transmitted to the viewport manager...\n",
      "   FriCAS2D data being transmitted to the viewport manager...\n"
     ]
    },
    {
     "data": {
      "text/plain": [
       "   TwoDimensionalViewport: \"Lissajous Curve\"\n",
       "                                                 Type: TwoDimensionalViewport\n"
      ]
     },
     "execution_count": 7,
     "metadata": {},
     "output_type": "execute_result"
    }
   ],
   "source": [
    "draw(curve(i1,i2),-4*%pi..4*%pi,toScale == true, title == \"Lissajous Curve\")"
   ]
  },
  {
   "cell_type": "markdown",
   "metadata": {},
   "source": [
    "Plotting Three Dimensional Compiled Parametric Space Curve Functions\n"
   ]
  },
  {
   "cell_type": "code",
   "execution_count": 8,
   "metadata": {
    "collapsed": false
   },
   "outputs": [
    {
     "name": "stdout",
     "output_type": "stream",
     "text": [
      "   Function declaration i1 : DoubleFloat -> DoubleFloat has been added \n",
      "      to workspace.\n",
      "   Compiled code for i1 has been cleared.\n",
      "   1 old definition(s) deleted for function or rule i1 \n"
     ]
    },
    {
     "data": {
      "text/plain": [
       "                                                                   Type: Void\n"
      ]
     },
     "execution_count": 8,
     "metadata": {},
     "output_type": "execute_result"
    }
   ],
   "source": [
    "i1(t:DFLOAT):DFLOAT ==sin(t)*cos(3*t/5)"
   ]
  },
  {
   "cell_type": "code",
   "execution_count": 9,
   "metadata": {
    "collapsed": false
   },
   "outputs": [
    {
     "name": "stdout",
     "output_type": "stream",
     "text": [
      "   Function declaration i2 : DoubleFloat -> DoubleFloat has been added \n",
      "      to workspace.\n",
      "   Compiled code for i2 has been cleared.\n",
      "   1 old definition(s) deleted for function or rule i2 \n"
     ]
    },
    {
     "data": {
      "text/plain": [
       "                                                                   Type: Void\n"
      ]
     },
     "execution_count": 9,
     "metadata": {},
     "output_type": "execute_result"
    }
   ],
   "source": [
    "i2(t:DFLOAT):DFLOAT ==cos(t)*cos(3*t/5)"
   ]
  },
  {
   "cell_type": "code",
   "execution_count": 10,
   "metadata": {
    "collapsed": false
   },
   "outputs": [
    {
     "name": "stdout",
     "output_type": "stream",
     "text": [
      "   Function declaration i3 : DoubleFloat -> DoubleFloat has been added \n",
      "      to workspace.\n"
     ]
    },
    {
     "data": {
      "text/plain": [
       "                                                                   Type: Void\n"
      ]
     },
     "execution_count": 10,
     "metadata": {},
     "output_type": "execute_result"
    }
   ],
   "source": [
    "i3(t:DFLOAT):DFLOAT ==cos(t)*sin(3*t/5)"
   ]
  },
  {
   "cell_type": "code",
   "execution_count": 11,
   "metadata": {
    "collapsed": false
   },
   "outputs": [
    {
     "name": "stdout",
     "output_type": "stream",
     "text": [
      "   Compiling function i1 with type DoubleFloat -> DoubleFloat \n",
      "   Compiling function i2 with type DoubleFloat -> DoubleFloat \n",
      "   Compiling function i3 with type DoubleFloat -> DoubleFloat \n",
      "   Transmitting data...\n"
     ]
    },
    {
     "data": {
      "text/plain": [
       "   ThreeDimensionalViewport: \"FriCAS3D\"\n",
       "                                               Type: ThreeDimensionalViewport\n"
      ]
     },
     "execution_count": 11,
     "metadata": {},
     "output_type": "execute_result"
    }
   ],
   "source": [
    "draw(curve(i1,i2,i3),0..15*%pi)"
   ]
  },
  {
   "cell_type": "code",
   "execution_count": 12,
   "metadata": {
    "collapsed": false
   },
   "outputs": [
    {
     "name": "stdout",
     "output_type": "stream",
     "text": [
      "   Transmitting data...\n"
     ]
    },
    {
     "data": {
      "text/plain": [
       "   ThreeDimensionalViewport: \"Parametric Curve\"\n",
       "                                               Type: ThreeDimensionalViewport\n"
      ]
     },
     "execution_count": 12,
     "metadata": {},
     "output_type": "execute_result"
    }
   ],
   "source": [
    "draw(curve(i1,i2,i3),0..15*%pi,title == \"Parametric Curve\")"
   ]
  },
  {
   "cell_type": "markdown",
   "metadata": {},
   "source": [
    "Plotting Three Dimensional Compiled Functions of Two Variables\n"
   ]
  },
  {
   "cell_type": "code",
   "execution_count": 13,
   "metadata": {
    "collapsed": false
   },
   "outputs": [
    {
     "name": "stdout",
     "output_type": "stream",
     "text": [
      "   Function declaration l : (DoubleFloat,DoubleFloat) -> DoubleFloat \n",
      "      has been added to workspace.\n"
     ]
    },
    {
     "data": {
      "text/plain": [
       "                                                                   Type: Void\n"
      ]
     },
     "execution_count": 13,
     "metadata": {},
     "output_type": "execute_result"
    }
   ],
   "source": [
    "l(x:DFLOAT,y:DFLOAT):DFLOAT == cos(x*y)"
   ]
  },
  {
   "cell_type": "code",
   "execution_count": 14,
   "metadata": {
    "collapsed": false
   },
   "outputs": [
    {
     "name": "stdout",
     "output_type": "stream",
     "text": [
      "   Compiling function l with type (DoubleFloat,DoubleFloat) -> \n",
      "      DoubleFloat \n",
      "   Transmitting data...\n"
     ]
    },
    {
     "data": {
      "text/plain": [
       "   ThreeDimensionalViewport: \"FriCAS3D\"\n",
       "                                               Type: ThreeDimensionalViewport\n"
      ]
     },
     "execution_count": 14,
     "metadata": {},
     "output_type": "execute_result"
    }
   ],
   "source": [
    "draw(l,-3..3,-3..3)"
   ]
  },
  {
   "cell_type": "code",
   "execution_count": 15,
   "metadata": {
    "collapsed": false
   },
   "outputs": [
    {
     "name": "stdout",
     "output_type": "stream",
     "text": [
      "   Function declaration colorFxn : (DoubleFloat,DoubleFloat) -> \n",
      "      DoubleFloat has been added to workspace.\n"
     ]
    },
    {
     "data": {
      "text/plain": [
       "                                                                   Type: Void\n"
      ]
     },
     "execution_count": 15,
     "metadata": {},
     "output_type": "execute_result"
    }
   ],
   "source": [
    "colorFxn(x:DFLOAT,y:DFLOAT):DFLOAT == 1/(x^2 + y^2 + 1)"
   ]
  },
  {
   "cell_type": "code",
   "execution_count": 16,
   "metadata": {
    "collapsed": false
   },
   "outputs": [
    {
     "name": "stdout",
     "output_type": "stream",
     "text": [
      "   Compiling function colorFxn with type (DoubleFloat,DoubleFloat) -> \n",
      "      DoubleFloat \n",
      "   Transmitting data...\n"
     ]
    },
    {
     "data": {
      "text/plain": [
       "   ThreeDimensionalViewport: \"FriCAS3D\"\n",
       "                                               Type: ThreeDimensionalViewport\n"
      ]
     },
     "execution_count": 16,
     "metadata": {},
     "output_type": "execute_result"
    }
   ],
   "source": [
    "draw(l,-3..3,-3..3, colorFunction == colorFxn)"
   ]
  },
  {
   "cell_type": "markdown",
   "metadata": {},
   "source": [
    "Plotting Three Dimensional Compiled Parametric Surface Functions\n"
   ]
  },
  {
   "cell_type": "code",
   "execution_count": 17,
   "metadata": {
    "collapsed": false
   },
   "outputs": [
    {
     "name": "stdout",
     "output_type": "stream",
     "text": [
      "   Function declaration n1 : (DoubleFloat,DoubleFloat) -> DoubleFloat \n",
      "      has been added to workspace.\n"
     ]
    },
    {
     "data": {
      "text/plain": [
       "                                                                   Type: Void\n"
      ]
     },
     "execution_count": 17,
     "metadata": {},
     "output_type": "execute_result"
    }
   ],
   "source": [
    "n1(u:DFLOAT,v:DFLOAT):DFLOAT == u*cos(v)"
   ]
  },
  {
   "cell_type": "code",
   "execution_count": 18,
   "metadata": {
    "collapsed": false
   },
   "outputs": [
    {
     "name": "stdout",
     "output_type": "stream",
     "text": [
      "   Function declaration n2 : (DoubleFloat,DoubleFloat) -> DoubleFloat \n",
      "      has been added to workspace.\n"
     ]
    },
    {
     "data": {
      "text/plain": [
       "                                                                   Type: Void\n"
      ]
     },
     "execution_count": 18,
     "metadata": {},
     "output_type": "execute_result"
    }
   ],
   "source": [
    "n2(u:DFLOAT,v:DFLOAT):DFLOAT == u*sin(v)"
   ]
  },
  {
   "cell_type": "code",
   "execution_count": 19,
   "metadata": {
    "collapsed": false
   },
   "outputs": [
    {
     "name": "stdout",
     "output_type": "stream",
     "text": [
      "   Function declaration n3 : (DoubleFloat,DoubleFloat) -> DoubleFloat \n",
      "      has been added to workspace.\n"
     ]
    },
    {
     "data": {
      "text/plain": [
       "                                                                   Type: Void\n"
      ]
     },
     "execution_count": 19,
     "metadata": {},
     "output_type": "execute_result"
    }
   ],
   "source": [
    "n3(u:DFLOAT,v:DFLOAT):DFLOAT == v*cos(u)"
   ]
  },
  {
   "cell_type": "code",
   "execution_count": 20,
   "metadata": {
    "collapsed": false
   },
   "outputs": [
    {
     "name": "stdout",
     "output_type": "stream",
     "text": [
      "   Compiling function n1 with type (DoubleFloat,DoubleFloat) -> \n",
      "      DoubleFloat \n",
      "   Compiling function n2 with type (DoubleFloat,DoubleFloat) -> \n",
      "      DoubleFloat \n",
      "   Compiling function n3 with type (DoubleFloat,DoubleFloat) -> \n",
      "      DoubleFloat \n",
      "   Transmitting data...\n"
     ]
    },
    {
     "data": {
      "text/plain": [
       "   ThreeDimensionalViewport: \"FriCAS3D\"\n",
       "                                               Type: ThreeDimensionalViewport\n"
      ]
     },
     "execution_count": 20,
     "metadata": {},
     "output_type": "execute_result"
    }
   ],
   "source": [
    "draw(surface(n1,n2,n3),-4..4,0..2*%pi)"
   ]
  },
  {
   "cell_type": "code",
   "execution_count": 21,
   "metadata": {
    "collapsed": false
   },
   "outputs": [
    {
     "name": "stdout",
     "output_type": "stream",
     "text": [
      "   Function declaration colorFxn : (DoubleFloat,DoubleFloat) -> \n",
      "      DoubleFloat has been added to workspace.\n",
      "   Compiled code for colorFxn has been cleared.\n",
      "   1 old definition(s) deleted for function or rule colorFxn \n"
     ]
    },
    {
     "data": {
      "text/plain": [
       "                                                                   Type: Void\n"
      ]
     },
     "execution_count": 21,
     "metadata": {},
     "output_type": "execute_result"
    }
   ],
   "source": [
    "colorFxn(x:DFLOAT,y:DFLOAT):DFLOAT == 1/(x^2 + y^2 + 1)"
   ]
  },
  {
   "cell_type": "code",
   "execution_count": 22,
   "metadata": {
    "collapsed": false
   },
   "outputs": [
    {
     "name": "stdout",
     "output_type": "stream",
     "text": [
      "   Compiling function colorFxn with type (DoubleFloat,DoubleFloat) -> \n",
      "      DoubleFloat \n",
      "   Transmitting data...\n"
     ]
    },
    {
     "data": {
      "text/plain": [
       "   ThreeDimensionalViewport: \"FriCAS3D\"\n",
       "                                               Type: ThreeDimensionalViewport\n"
      ]
     },
     "execution_count": 22,
     "metadata": {},
     "output_type": "execute_result"
    }
   ],
   "source": [
    "draw(surface(n1,n2,n3),-4..4,0..2*%pi, colorFunction == colorFxn)"
   ]
  },
  {
   "cell_type": "code",
   "execution_count": 23,
   "metadata": {
    "collapsed": false
   },
   "outputs": [
    {
     "data": {
      "text/plain": []
     },
     "execution_count": 23,
     "metadata": {},
     "output_type": "execute_result"
    }
   ],
   "source": [
    "--\n",
    "-- EOF\n",
    "--"
   ]
  }
 ],
 "metadata": {
  "kernelspec": {
   "display_name": "FriCAS",
   "language": "spad",
   "name": "ifricas"
  },
  "language_info": {
   "codemirror_mode": "spad",
   "mimetype": "text/x-spad",
   "name": "SPAD",
   "pygments_lexer": "spad",
   "version": "1.2.6"
  },
  "name": "drawcx.ipynb"
 },
 "nbformat": 4,
 "nbformat_minor": 0
}