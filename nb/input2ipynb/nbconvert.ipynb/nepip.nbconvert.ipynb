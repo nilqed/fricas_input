{
 "cells": [
  {
   "cell_type": "markdown",
   "metadata": {},
   "source": [
    "Copyright The Numerical Algorithms Group Limited 1996.\n"
   ]
  },
  {
   "cell_type": "markdown",
   "metadata": {},
   "source": [
    " Note that the conversions of results from DoubleFloat to Float\n",
    " will become unnecessary if outputGeneral is extended to apply to\n",
    " DoubleFloat quantities.\n"
   ]
  },
  {
   "cell_type": "code",
   "execution_count": 0,
   "metadata": {
    "collapsed": false
   },
   "outputs": [
    {
     "name": "stdout",
     "output_type": "stream",
     "text": [
      "Warning: HyperTeX macro table not found\n"
     ]
    },
    {
     "data": {
      "text/plain": [
       "                                                                   Type: Void\n"
      ]
     },
     "execution_count": 0,
     "metadata": {},
     "output_type": "execute_result"
    }
   ],
   "source": [
    "outputGeneral 5"
   ]
  },
  {
   "cell_type": "code",
   "execution_count": 1,
   "metadata": {
    "collapsed": false
   },
   "outputs": [
    {
     "name": "stderr",
     "output_type": "stream",
     "text": [
      "  Line   1: mA1 := matrix [[ 0.5 ,   1.5 ,   6.6 ,   4.8],  _\n",
      "  Line   2:                [ 1.5 ,   6.5 ,  16.2 ,   8.6],  _\n",
      "  Line   3:                [ 6.6 ,  16.2 ,  37.6 ,   9.8],  _\n",
      "  Line   4: )--premature end\n",
      "           AB\n",
      "  Error  A: syntax error at top level\n",
      "  Error  A: Improper syntax.\n",
      "  Error  B: File \n",
      "            /home/kfp/Development/fricas_input/nb/input2ipynb/ipynb/.tmp-ispad-40694.input\n",
      "             ended where at least one )endif was still needed. An appropriate \n",
      "            number of )endif lines has been assumed.\n",
      "   3 error(s) parsing \n",
      "\n"
     ]
    },
    {
     "data": {
      "text/plain": [
       "error\n"
      ]
     },
     "execution_count": 1,
     "metadata": {},
     "output_type": "execute_result"
    }
   ],
   "source": [
    "mA1 := matrix [[ 0.5 ,   1.5 ,   6.6 ,   4.8],  _\n",
    "               [ 1.5 ,   6.5 ,  16.2 ,   8.6],  _\n",
    "               [ 6.6 ,  16.2 ,  37.6 ,   9.8],  _\n"
   ]
  },
  {
   "cell_type": "code",
   "execution_count": 2,
   "metadata": {
    "collapsed": false
   },
   "outputs": [
    {
     "name": "stderr",
     "output_type": "stream",
     "text": [
      " \n",
      "   NIL is not a valid identifier to use in FriCAS.\n",
      "\n"
     ]
    },
    {
     "data": {
      "text/plain": [
       "error\n"
      ]
     },
     "execution_count": 2,
     "metadata": {},
     "output_type": "execute_result"
    }
   ],
   "source": [
    "               [ 4.8 ,   8.6 ,   9.8 , -17.1]];"
   ]
  },
  {
   "cell_type": "code",
   "execution_count": 3,
   "metadata": {
    "collapsed": false
   },
   "outputs": [
    {
     "name": "stderr",
     "output_type": "stream",
     "text": [
      "  Line   1: mB1 := matrix[[ 1 ,  3 ,   4 ,  1],  _\n",
      "  Line   2:               [ 3 , 13 ,  16 , 11],  _\n",
      "  Line   3:               [ 4 , 16 ,  24 , 18],  _\n",
      "  Line   4: )--premature end\n",
      "           AB\n",
      "  Error  A: syntax error at top level\n",
      "  Error  A: Improper syntax.\n",
      "  Error  B: File \n",
      "            /home/kfp/Development/fricas_input/nb/input2ipynb/ipynb/.tmp-ispad-40694.input\n",
      "             ended where at least one )endif was still needed. An appropriate \n",
      "            number of )endif lines has been assumed.\n",
      "   3 error(s) parsing \n",
      "\n"
     ]
    },
    {
     "data": {
      "text/plain": [
       "error\n"
      ]
     },
     "execution_count": 3,
     "metadata": {},
     "output_type": "execute_result"
    }
   ],
   "source": [
    "mB1 := matrix[[ 1 ,  3 ,   4 ,  1],  _\n",
    "              [ 3 , 13 ,  16 , 11],  _\n",
    "              [ 4 , 16 ,  24 , 18],  _\n"
   ]
  },
  {
   "cell_type": "code",
   "execution_count": 4,
   "metadata": {
    "collapsed": false
   },
   "outputs": [
    {
     "name": "stderr",
     "output_type": "stream",
     "text": [
      " \n",
      "   NIL is not a valid identifier to use in FriCAS.\n",
      "\n"
     ]
    },
    {
     "data": {
      "text/plain": [
       "error\n"
      ]
     },
     "execution_count": 4,
     "metadata": {},
     "output_type": "execute_result"
    }
   ],
   "source": [
    "              [ 1 , 11 ,  18 , 27]];"
   ]
  },
  {
   "cell_type": "code",
   "execution_count": 5,
   "metadata": {
    "collapsed": false
   },
   "outputs": [
    {
     "name": "stderr",
     "output_type": "stream",
     "text": [
      "  Line   1: mA2 := matrix [[ 3.9 ,  12.5 , -34.5 ,  -0.5],  _\n",
      "  Line   2:                [ 4.3 ,  21.5 , -47.5 ,   7.5],  _\n",
      "  Line   3:                [ 4.3 ,  21.5 , -43.5 ,   3.5],  _\n",
      "  Line   4: )--premature end\n",
      "           AB\n",
      "  Error  A: syntax error at top level\n",
      "  Error  A: Improper syntax.\n",
      "  Error  B: File \n",
      "            /home/kfp/Development/fricas_input/nb/input2ipynb/ipynb/.tmp-ispad-40694.input\n",
      "             ended where at least one )endif was still needed. An appropriate \n",
      "            number of )endif lines has been assumed.\n",
      "   3 error(s) parsing \n",
      "\n"
     ]
    },
    {
     "data": {
      "text/plain": [
       "error\n"
      ]
     },
     "execution_count": 5,
     "metadata": {},
     "output_type": "execute_result"
    }
   ],
   "source": [
    "mA2 := matrix [[ 3.9 ,  12.5 , -34.5 ,  -0.5],  _\n",
    "               [ 4.3 ,  21.5 , -47.5 ,   7.5],  _\n",
    "               [ 4.3 ,  21.5 , -43.5 ,   3.5],  _\n"
   ]
  },
  {
   "cell_type": "code",
   "execution_count": 6,
   "metadata": {
    "collapsed": false
   },
   "outputs": [
    {
     "name": "stderr",
     "output_type": "stream",
     "text": [
      " \n",
      "   NIL is not a valid identifier to use in FriCAS.\n",
      "\n"
     ]
    },
    {
     "data": {
      "text/plain": [
       "error\n"
      ]
     },
     "execution_count": 6,
     "metadata": {},
     "output_type": "execute_result"
    }
   ],
   "source": [
    "               [ 4.4 ,  26.0 , -46.0 ,   6.0]];"
   ]
  },
  {
   "cell_type": "code",
   "execution_count": 7,
   "metadata": {
    "collapsed": false
   },
   "outputs": [
    {
     "name": "stderr",
     "output_type": "stream",
     "text": [
      "  Line   1: mB2 := matrix[[ 1 , 2 , -3 , 1],  _\n",
      "  Line   2:               [ 1 , 3 , -5 , 4],  _\n",
      "  Line   3:               [ 1 , 3 , -4 , 3],  _\n",
      "  Line   4: )--premature end\n",
      "           AB\n",
      "  Error  A: syntax error at top level\n",
      "  Error  A: Improper syntax.\n",
      "  Error  B: File \n",
      "            /home/kfp/Development/fricas_input/nb/input2ipynb/ipynb/.tmp-ispad-40694.input\n",
      "             ended where at least one )endif was still needed. An appropriate \n",
      "            number of )endif lines has been assumed.\n",
      "   3 error(s) parsing \n",
      "\n"
     ]
    },
    {
     "data": {
      "text/plain": [
       "error\n"
      ]
     },
     "execution_count": 7,
     "metadata": {},
     "output_type": "execute_result"
    }
   ],
   "source": [
    "mB2 := matrix[[ 1 , 2 , -3 , 1],  _\n",
    "              [ 1 , 3 , -5 , 4],  _\n",
    "              [ 1 , 3 , -4 , 3],  _\n"
   ]
  },
  {
   "cell_type": "code",
   "execution_count": 8,
   "metadata": {
    "collapsed": false
   },
   "outputs": [
    {
     "name": "stderr",
     "output_type": "stream",
     "text": [
      " \n",
      "   NIL is not a valid identifier to use in FriCAS.\n",
      "\n"
     ]
    },
    {
     "data": {
      "text/plain": [
       "error\n"
      ]
     },
     "execution_count": 8,
     "metadata": {},
     "output_type": "execute_result"
    }
   ],
   "source": [
    "              [ 1 , 3 , -4 , 4]];"
   ]
  },
  {
   "cell_type": "code",
   "execution_count": 9,
   "metadata": {
    "collapsed": false
   },
   "outputs": [
    {
     "name": "stderr",
     "output_type": "stream",
     "text": [
      "   There are no library operations named nagEigenvalues \n",
      "      Use HyperDoc Browse or issue\n",
      "                           )what op nagEigenvalues\n",
      "      to learn if there is any operation containing \" nagEigenvalues \" \n",
      "      in its name.\n",
      " \n",
      "   Cannot find a definition or applicable library operation named \n",
      "      nagEigenvalues with argument type(s) \n",
      "                                Variable(mA1)\n",
      "                                Variable(mB1)\n",
      "      \n",
      "      Perhaps you should use \"@\" to indicate the required return type, \n",
      "      or \"$\" to specify which version of the function you need.\n",
      "\n"
     ]
    },
    {
     "data": {
      "text/plain": [
       "error\n"
      ]
     },
     "execution_count": 9,
     "metadata": {},
     "output_type": "execute_result"
    }
   ],
   "source": [
    "nagEigenvalues(mA1,mB1) :: List Float"
   ]
  },
  {
   "cell_type": "markdown",
   "metadata": {},
   "source": [
    "       [- 3.0,- 1.0,2.0,4.0]\n"
   ]
  },
  {
   "cell_type": "code",
   "execution_count": 10,
   "metadata": {
    "collapsed": false
   },
   "outputs": [
    {
     "name": "stderr",
     "output_type": "stream",
     "text": [
      "   There are no library operations named nagEigenvectors \n",
      "      Use HyperDoc Browse or issue\n",
      "                          )what op nagEigenvectors\n",
      "      to learn if there is any operation containing \" nagEigenvectors \"\n",
      "      in its name.\n",
      " \n",
      "   Cannot find a definition or applicable library operation named \n",
      "      nagEigenvectors with argument type(s) \n",
      "                                Variable(mA1)\n",
      "                                Variable(mB1)\n",
      "      \n",
      "      Perhaps you should use \"@\" to indicate the required return type, \n",
      "      or \"$\" to specify which version of the function you need.\n",
      "\n"
     ]
    },
    {
     "data": {
      "text/plain": [
       "error\n"
      ]
     },
     "execution_count": 10,
     "metadata": {},
     "output_type": "execute_result"
    }
   ],
   "source": [
    "vv1 := nagEigenvectors(mA1,mB1);"
   ]
  },
  {
   "cell_type": "code",
   "execution_count": 11,
   "metadata": {
    "collapsed": false
   },
   "outputs": [
    {
     "name": "stderr",
     "output_type": "stream",
     "text": [
      "   There are no library operations named vv1 \n",
      "      Use HyperDoc Browse or issue\n",
      "                                )what op vv1\n",
      "      to learn if there is any operation containing \" vv1 \" in its \n",
      "      name.\n",
      " \n",
      "   Cannot find a definition or applicable library operation named vv1 \n",
      "      with argument type(s) \n",
      "                            Variable(eigenvalues)\n",
      "      \n",
      "      Perhaps you should use \"@\" to indicate the required return type, \n",
      "      or \"$\" to specify which version of the function you need.\n",
      "\n"
     ]
    },
    {
     "data": {
      "text/plain": [
       "error\n"
      ]
     },
     "execution_count": 11,
     "metadata": {},
     "output_type": "execute_result"
    }
   ],
   "source": [
    "(vv1.eigenvalues) :: List Float"
   ]
  },
  {
   "cell_type": "markdown",
   "metadata": {},
   "source": [
    "       [- 3.0,- 1.0,2.0,4.0]\n"
   ]
  },
  {
   "cell_type": "code",
   "execution_count": 12,
   "metadata": {
    "collapsed": false
   },
   "outputs": [
    {
     "name": "stderr",
     "output_type": "stream",
     "text": [
      "   There are no library operations named vv1 \n",
      "      Use HyperDoc Browse or issue\n",
      "                                )what op vv1\n",
      "      to learn if there is any operation containing \" vv1 \" in its \n",
      "      name.\n",
      " \n",
      "   Cannot find a definition or applicable library operation named vv1 \n",
      "      with argument type(s) \n",
      "                           Variable(eigenvectors)\n",
      "      \n",
      "      Perhaps you should use \"@\" to indicate the required return type, \n",
      "      or \"$\" to specify which version of the function you need.\n",
      "\n"
     ]
    },
    {
     "data": {
      "text/plain": [
       "error\n"
      ]
     },
     "execution_count": 12,
     "metadata": {},
     "output_type": "execute_result"
    }
   ],
   "source": [
    "(vv1.eigenvectors) :: List Vector Complex Float"
   ]
  },
  {
   "cell_type": "markdown",
   "metadata": {},
   "source": [
    " [[- 4.35,0.05,1.0,- 0.5], [- 2.05,0.15,0.5,- 0.5], [- 3.95,0.85,0.5,- 0.5],\n",
    "  [2.65,0.05,- 1.0,0.5]]\n"
   ]
  },
  {
   "cell_type": "code",
   "execution_count": 13,
   "metadata": {
    "collapsed": false
   },
   "outputs": [
    {
     "name": "stderr",
     "output_type": "stream",
     "text": [
      "   There are no library operations named nagEigenvalues \n",
      "      Use HyperDoc Browse or issue\n",
      "                           )what op nagEigenvalues\n",
      "      to learn if there is any operation containing \" nagEigenvalues \" \n",
      "      in its name.\n",
      " \n",
      "   Cannot find a definition or applicable library operation named \n",
      "      nagEigenvalues with argument type(s) \n",
      "                                Variable(mA2)\n",
      "                                Variable(mB2)\n",
      "      \n",
      "      Perhaps you should use \"@\" to indicate the required return type, \n",
      "      or \"$\" to specify which version of the function you need.\n",
      "\n"
     ]
    },
    {
     "data": {
      "text/plain": [
       "error\n"
      ]
     },
     "execution_count": 13,
     "metadata": {},
     "output_type": "execute_result"
    }
   ],
   "source": [
    "nagEigenvalues(mA2,mB2)"
   ]
  },
  {
   "cell_type": "markdown",
   "metadata": {},
   "source": [
    " all components are O(1) or more so:\n"
   ]
  },
  {
   "cell_type": "code",
   "execution_count": 14,
   "metadata": {
    "collapsed": false
   },
   "outputs": [
    {
     "name": "stderr",
     "output_type": "stream",
     "text": [
      " \n",
      "   Cannot convert the value from type Void to List(Complex(Float)) .\n",
      "\n"
     ]
    },
    {
     "data": {
      "text/plain": [
       "error\n"
      ]
     },
     "execution_count": 14,
     "metadata": {},
     "output_type": "execute_result"
    }
   ],
   "source": [
    "% :: List Complex Float"
   ]
  },
  {
   "cell_type": "markdown",
   "metadata": {},
   "source": [
    "       [2.0,3.0 + 4.0 %i,3.0 - 4.0 %i,4.0]\n"
   ]
  },
  {
   "cell_type": "code",
   "execution_count": 15,
   "metadata": {
    "collapsed": false
   },
   "outputs": [
    {
     "name": "stderr",
     "output_type": "stream",
     "text": [
      "   There are no library operations named nagEigenvectors \n",
      "      Use HyperDoc Browse or issue\n",
      "                          )what op nagEigenvectors\n",
      "      to learn if there is any operation containing \" nagEigenvectors \"\n",
      "      in its name.\n",
      " \n",
      "   Cannot find a definition or applicable library operation named \n",
      "      nagEigenvectors with argument type(s) \n",
      "                                Variable(mA2)\n",
      "                                Variable(mB2)\n",
      "      \n",
      "      Perhaps you should use \"@\" to indicate the required return type, \n",
      "      or \"$\" to specify which version of the function you need.\n",
      "\n"
     ]
    },
    {
     "data": {
      "text/plain": [
       "error\n"
      ]
     },
     "execution_count": 15,
     "metadata": {},
     "output_type": "execute_result"
    }
   ],
   "source": [
    "vv2 := nagEigenvectors(mA2,mB2);"
   ]
  },
  {
   "cell_type": "code",
   "execution_count": 16,
   "metadata": {
    "collapsed": false
   },
   "outputs": [
    {
     "name": "stderr",
     "output_type": "stream",
     "text": [
      "   There are no library operations named vv2 \n",
      "      Use HyperDoc Browse or issue\n",
      "                                )what op vv2\n",
      "      to learn if there is any operation containing \" vv2 \" in its \n",
      "      name.\n",
      " \n",
      "   Cannot find a definition or applicable library operation named vv2 \n",
      "      with argument type(s) \n",
      "                            Variable(eigenvalues)\n",
      "      \n",
      "      Perhaps you should use \"@\" to indicate the required return type, \n",
      "      or \"$\" to specify which version of the function you need.\n",
      "\n"
     ]
    },
    {
     "data": {
      "text/plain": [
       "error\n"
      ]
     },
     "execution_count": 16,
     "metadata": {},
     "output_type": "execute_result"
    }
   ],
   "source": [
    "vv2.eigenvalues"
   ]
  },
  {
   "cell_type": "markdown",
   "metadata": {},
   "source": [
    " all components are O(1) or more so:\n"
   ]
  },
  {
   "cell_type": "code",
   "execution_count": 17,
   "metadata": {
    "collapsed": false
   },
   "outputs": [
    {
     "name": "stderr",
     "output_type": "stream",
     "text": [
      " \n",
      "   Cannot convert the value from type Void to List(Complex(Float)) .\n",
      "\n"
     ]
    },
    {
     "data": {
      "text/plain": [
       "error\n"
      ]
     },
     "execution_count": 17,
     "metadata": {},
     "output_type": "execute_result"
    }
   ],
   "source": [
    "% :: List Complex Float"
   ]
  },
  {
   "cell_type": "markdown",
   "metadata": {},
   "source": [
    "       [2.0,3.0 + 4.0 %i,3.0 - 4.0 %i,4.0]\n"
   ]
  },
  {
   "cell_type": "code",
   "execution_count": 18,
   "metadata": {
    "collapsed": false
   },
   "outputs": [
    {
     "name": "stderr",
     "output_type": "stream",
     "text": [
      "   There are no library operations named vv2 \n",
      "      Use HyperDoc Browse or issue\n",
      "                                )what op vv2\n",
      "      to learn if there is any operation containing \" vv2 \" in its \n",
      "      name.\n",
      " \n",
      "   Cannot find a definition or applicable library operation named vv2 \n",
      "      with argument type(s) \n",
      "                           Variable(eigenvectors)\n",
      "      \n",
      "      Perhaps you should use \"@\" to indicate the required return type, \n",
      "      or \"$\" to specify which version of the function you need.\n",
      "\n"
     ]
    },
    {
     "data": {
      "text/plain": [
       "error\n"
      ]
     },
     "execution_count": 18,
     "metadata": {},
     "output_type": "execute_result"
    }
   ],
   "source": [
    "vv2.eigenvectors :: List Vector Complex Float"
   ]
  },
  {
   "cell_type": "markdown",
   "metadata": {},
   "source": [
    " [[0.99606,0.0056917,0.062609,0.062609],\n",
    "\n",
    "   [0.94491, 0.18898 + 0.26077 E -14 %i, 0.11339 - 0.15119 %i,\n",
    "    0.11339 - 0.15119 %i]\n",
    "   ,\n",
    "\n",
    "   [0.94491, 0.18898 - 0.26077 E -14 %i, 0.11339 + 0.15119 %i,\n",
    "    0.11339 + 0.15119 %i]\n",
    "   ,\n",
    "  [0.98752,0.010972,- 0.032917,0.15361]]\n"
   ]
  },
  {
   "cell_type": "markdown",
   "metadata": {},
   "source": [
    " The same call with eps=0.0001:\n"
   ]
  },
  {
   "cell_type": "code",
   "execution_count": 19,
   "metadata": {
    "collapsed": false
   },
   "outputs": [
    {
     "name": "stderr",
     "output_type": "stream",
     "text": [
      "   There are no library operations named nagEigenvectors \n",
      "      Use HyperDoc Browse or issue\n",
      "                          )what op nagEigenvectors\n",
      "      to learn if there is any operation containing \" nagEigenvectors \"\n",
      "      in its name.\n",
      " \n",
      "   Cannot find a definition or applicable library operation named \n",
      "      nagEigenvectors with argument type(s) \n",
      "                                Variable(mA2)\n",
      "                                Variable(mB2)\n",
      "                                    Float\n",
      "      \n",
      "      Perhaps you should use \"@\" to indicate the required return type, \n",
      "      or \"$\" to specify which version of the function you need.\n",
      "\n"
     ]
    },
    {
     "data": {
      "text/plain": [
       "error\n"
      ]
     },
     "execution_count": 19,
     "metadata": {},
     "output_type": "execute_result"
    }
   ],
   "source": [
    "vv2a := nagEigenvectors(mA2,mB2,0.0001);"
   ]
  },
  {
   "cell_type": "code",
   "execution_count": 20,
   "metadata": {
    "collapsed": false
   },
   "outputs": [
    {
     "name": "stderr",
     "output_type": "stream",
     "text": [
      "   There are no library operations named vv2a \n",
      "      Use HyperDoc Browse or issue\n",
      "                                )what op vv2a\n",
      "      to learn if there is any operation containing \" vv2a \" in its \n",
      "      name.\n",
      " \n",
      "   Cannot find a definition or applicable library operation named vv2a \n",
      "      with argument type(s) \n",
      "                            Variable(eigenvalues)\n",
      "      \n",
      "      Perhaps you should use \"@\" to indicate the required return type, \n",
      "      or \"$\" to specify which version of the function you need.\n",
      "\n"
     ]
    },
    {
     "data": {
      "text/plain": [
       "error\n"
      ]
     },
     "execution_count": 20,
     "metadata": {},
     "output_type": "execute_result"
    }
   ],
   "source": [
    "vv2a.eigenvalues :: List Complex Float"
   ]
  },
  {
   "cell_type": "markdown",
   "metadata": {},
   "source": [
    "       [1.9989,3.0003 + 3.9994 %i,3.0003 - 3.9994 %i,4.0]\n"
   ]
  },
  {
   "cell_type": "code",
   "execution_count": 21,
   "metadata": {
    "collapsed": false
   },
   "outputs": [
    {
     "name": "stderr",
     "output_type": "stream",
     "text": [
      "   There are no library operations named vv2a \n",
      "      Use HyperDoc Browse or issue\n",
      "                                )what op vv2a\n",
      "      to learn if there is any operation containing \" vv2a \" in its \n",
      "      name.\n",
      " \n",
      "   Cannot find a definition or applicable library operation named vv2a \n",
      "      with argument type(s) \n",
      "                           Variable(eigenvectors)\n",
      "      \n",
      "      Perhaps you should use \"@\" to indicate the required return type, \n",
      "      or \"$\" to specify which version of the function you need.\n",
      "\n"
     ]
    },
    {
     "data": {
      "text/plain": [
       "error\n"
      ]
     },
     "execution_count": 21,
     "metadata": {},
     "output_type": "execute_result"
    }
   ],
   "source": [
    "vv2a.eigenvectors :: List Vector Complex Float"
   ]
  },
  {
   "cell_type": "markdown",
   "metadata": {},
   "source": [
    " [[0.99605,0.0057355,0.062656,0.062656],\n",
    "\n",
    "   [0.94491, 0.18899 - 0.000048882 %i, 0.11336 - 0.15119 %i,\n",
    "    0.11336 - 0.15119 %i]\n",
    "   ,\n",
    "\n",
    "   [0.94491, 0.18899 + 0.000048882 %i, 0.11336 + 0.15119 %i,\n",
    "    0.11336 + 0.15119 %i]\n",
    "   ,\n",
    "  [0.98751,0.011031,- 0.032912,0.15367]]\n"
   ]
  },
  {
   "cell_type": "code",
   "execution_count": 22,
   "metadata": {
    "collapsed": false
   },
   "outputs": [
    {
     "name": "stderr",
     "output_type": "stream",
     "text": [
      " \n",
      "   The form on the left hand side of an assignment must be a single \n",
      "      variable, a Tuple of variables or a reference to an entry in an \n",
      "      object supporting the setelt operation.\n",
      "\n"
     ]
    },
    {
     "data": {
      "text/plain": [
       "error\n"
      ]
     },
     "execution_count": 22,
     "metadata": {},
     "output_type": "execute_result"
    }
   ],
   "source": [
    "mB1(1,1) := -1;"
   ]
  },
  {
   "cell_type": "markdown",
   "metadata": {},
   "source": [
    " The next test should fail on F02ADF then call F02BJF:\n"
   ]
  },
  {
   "cell_type": "code",
   "execution_count": 23,
   "metadata": {
    "collapsed": false
   },
   "outputs": [
    {
     "name": "stderr",
     "output_type": "stream",
     "text": [
      "   There are no library operations named nagEigenvalues \n",
      "      Use HyperDoc Browse or issue\n",
      "                           )what op nagEigenvalues\n",
      "      to learn if there is any operation containing \" nagEigenvalues \" \n",
      "      in its name.\n",
      " \n",
      "   Cannot find a definition or applicable library operation named \n",
      "      nagEigenvalues with argument type(s) \n",
      "                                Variable(mA1)\n",
      "                                Variable(mB1)\n",
      "      \n",
      "      Perhaps you should use \"@\" to indicate the required return type, \n",
      "      or \"$\" to specify which version of the function you need.\n",
      "\n"
     ]
    },
    {
     "data": {
      "text/plain": [
       "error\n"
      ]
     },
     "execution_count": 23,
     "metadata": {},
     "output_type": "execute_result"
    }
   ],
   "source": [
    "nagEigenvalues(mA1,mB1)"
   ]
  },
  {
   "cell_type": "markdown",
   "metadata": {},
   "source": [
    " all components are O(1) or more so:\n"
   ]
  },
  {
   "cell_type": "code",
   "execution_count": 24,
   "metadata": {
    "collapsed": false
   },
   "outputs": [
    {
     "name": "stderr",
     "output_type": "stream",
     "text": [
      " \n",
      "   Cannot convert the value from type Void to List(Complex(Float)) .\n",
      "\n"
     ]
    },
    {
     "data": {
      "text/plain": [
       "error\n"
      ]
     },
     "execution_count": 24,
     "metadata": {},
     "output_type": "execute_result"
    }
   ],
   "source": [
    "% :: List Complex Float"
   ]
  },
  {
   "cell_type": "markdown",
   "metadata": {},
   "source": [
    "       [3.5016,- 1.5471,0.041212 + 0.21738 %i,0.041212 - 0.21738 %i]\n"
   ]
  },
  {
   "cell_type": "markdown",
   "metadata": {},
   "source": [
    " Similarly, this should fail on F02AEF then call F02BJF:\n"
   ]
  },
  {
   "cell_type": "code",
   "execution_count": 25,
   "metadata": {
    "collapsed": false
   },
   "outputs": [
    {
     "name": "stderr",
     "output_type": "stream",
     "text": [
      "   There are no library operations named nagEigenvectors \n",
      "      Use HyperDoc Browse or issue\n",
      "                          )what op nagEigenvectors\n",
      "      to learn if there is any operation containing \" nagEigenvectors \"\n",
      "      in its name.\n",
      " \n",
      "   Cannot find a definition or applicable library operation named \n",
      "      nagEigenvectors with argument type(s) \n",
      "                                Variable(mA1)\n",
      "                                Variable(mB1)\n",
      "      \n",
      "      Perhaps you should use \"@\" to indicate the required return type, \n",
      "      or \"$\" to specify which version of the function you need.\n",
      "\n"
     ]
    },
    {
     "data": {
      "text/plain": [
       "error\n"
      ]
     },
     "execution_count": 25,
     "metadata": {},
     "output_type": "execute_result"
    }
   ],
   "source": [
    "vv3 := nagEigenvectors(mA1,mB1);"
   ]
  },
  {
   "cell_type": "code",
   "execution_count": 26,
   "metadata": {
    "collapsed": false
   },
   "outputs": [
    {
     "name": "stderr",
     "output_type": "stream",
     "text": [
      "   There are no library operations named vv3 \n",
      "      Use HyperDoc Browse or issue\n",
      "                                )what op vv3\n",
      "      to learn if there is any operation containing \" vv3 \" in its \n",
      "      name.\n",
      " \n",
      "   Cannot find a definition or applicable library operation named vv3 \n",
      "      with argument type(s) \n",
      "                            Variable(eigenvalues)\n",
      "      \n",
      "      Perhaps you should use \"@\" to indicate the required return type, \n",
      "      or \"$\" to specify which version of the function you need.\n",
      "\n"
     ]
    },
    {
     "data": {
      "text/plain": [
       "error\n"
      ]
     },
     "execution_count": 26,
     "metadata": {},
     "output_type": "execute_result"
    }
   ],
   "source": [
    "vv3.eigenvalues"
   ]
  },
  {
   "cell_type": "markdown",
   "metadata": {},
   "source": [
    " all components are O(1) or more so:\n"
   ]
  },
  {
   "cell_type": "code",
   "execution_count": 27,
   "metadata": {
    "collapsed": false
   },
   "outputs": [
    {
     "name": "stderr",
     "output_type": "stream",
     "text": [
      " \n",
      "   Cannot convert the value from type Void to List(Complex(Float)) .\n",
      "\n"
     ]
    },
    {
     "data": {
      "text/plain": [
       "error\n"
      ]
     },
     "execution_count": 27,
     "metadata": {},
     "output_type": "execute_result"
    }
   ],
   "source": [
    "% :: List Complex Float"
   ]
  },
  {
   "cell_type": "markdown",
   "metadata": {},
   "source": [
    "       [3.5016,- 1.5471,0.041212 + 0.21738 %i,0.041212 - 0.21738 %i]\n"
   ]
  },
  {
   "cell_type": "code",
   "execution_count": 28,
   "metadata": {
    "collapsed": false
   },
   "outputs": [
    {
     "name": "stderr",
     "output_type": "stream",
     "text": [
      "   There are no library operations named vv3 \n",
      "      Use HyperDoc Browse or issue\n",
      "                                )what op vv3\n",
      "      to learn if there is any operation containing \" vv3 \" in its \n",
      "      name.\n",
      " \n",
      "   Cannot find a definition or applicable library operation named vv3 \n",
      "      with argument type(s) \n",
      "                           Variable(eigenvectors)\n",
      "      \n",
      "      Perhaps you should use \"@\" to indicate the required return type, \n",
      "      or \"$\" to specify which version of the function you need.\n",
      "\n"
     ]
    },
    {
     "data": {
      "text/plain": [
       "error\n"
      ]
     },
     "execution_count": 28,
     "metadata": {},
     "output_type": "execute_result"
    }
   ],
   "source": [
    "vv3.eigenvectors :: List Vector Complex Float"
   ]
  },
  {
   "cell_type": "markdown",
   "metadata": {},
   "source": [
    "  [[- 0.034577,0.63045,- 0.75202,0.1892],\n",
    "   [0.17876,- 0.73845,0.047413,0.64845],\n",
    "\n",
    "    [0.80838, - 0.00095133 + 0.47557 %i, - 0.20354 - 0.21737 %i,\n",
    "     0.15404 + 0.089179 %i]\n",
    "    ,\n",
    "\n",
    "    [0.80838, - 0.00095133 - 0.47557 %i, - 0.20354 + 0.21737 %i,\n",
    "     0.15404 - 0.089179 %i]\n",
    "   ]\n"
   ]
  },
  {
   "cell_type": "code",
   "execution_count": 29,
   "metadata": {
    "collapsed": false
   },
   "outputs": [
    {
     "data": {
      "text/plain": [
       "                                                                   Type: Void\n"
      ]
     },
     "execution_count": 29,
     "metadata": {},
     "output_type": "execute_result"
    }
   ],
   "source": [
    "outputGeneral()"
   ]
  },
  {
   "cell_type": "code",
   "execution_count": 30,
   "metadata": {
    "collapsed": false
   },
   "outputs": [
    {
     "data": {
      "text/plain": [
       "   End of tests\n",
       "                                                                   Type: Void\n"
      ]
     },
     "execution_count": 30,
     "metadata": {},
     "output_type": "execute_result"
    }
   ],
   "source": [
    "output \"End of tests\""
   ]
  },
  {
   "cell_type": "code",
   "execution_count": 31,
   "metadata": {
    "collapsed": false
   },
   "outputs": [
    {
     "data": {
      "text/plain": []
     },
     "execution_count": 31,
     "metadata": {},
     "output_type": "execute_result"
    }
   ],
   "source": [
    "--\n",
    "-- EOF\n",
    "--"
   ]
  }
 ],
 "metadata": {
  "kernelspec": {
   "display_name": "FriCAS",
   "language": "spad",
   "name": "ifricas"
  },
  "language_info": {
   "codemirror_mode": "spad",
   "mimetype": "text/x-spad",
   "name": "SPAD",
   "pygments_lexer": "spad",
   "version": "1.2.6"
  },
  "name": "nepip.ipynb"
 },
 "nbformat": 4,
 "nbformat_minor": 0
}