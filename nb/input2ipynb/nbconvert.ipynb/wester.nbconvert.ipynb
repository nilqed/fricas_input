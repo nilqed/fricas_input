{
 "cells": [
  {
   "cell_type": "markdown",
   "metadata": {},
   "source": [
    "Copyright The Numerical Algorithms Group Limited 1996.\n"
   ]
  },
  {
   "cell_type": "markdown",
   "metadata": {},
   "source": [
    " ----------[ A x i o m ]----------\n",
    " ---------- Initialization ----------\n"
   ]
  },
  {
   "cell_type": "code",
   "execution_count": 0,
   "metadata": {
    "collapsed": false
   },
   "outputs": [
    {
     "data": {
      "text/plain": []
     },
     "execution_count": 0,
     "metadata": {},
     "output_type": "execute_result"
    }
   ],
   "source": [
    ")set messages autoload off"
   ]
  },
  {
   "cell_type": "code",
   "execution_count": 1,
   "metadata": {
    "collapsed": false
   },
   "outputs": [
    {
     "data": {
      "text/plain": []
     },
     "execution_count": 1,
     "metadata": {},
     "output_type": "execute_result"
    }
   ],
   "source": [
    ")set messages time on"
   ]
  },
  {
   "cell_type": "code",
   "execution_count": 2,
   "metadata": {
    "collapsed": false
   },
   "outputs": [
    {
     "data": {
      "text/plain": []
     },
     "execution_count": 2,
     "metadata": {},
     "output_type": "execute_result"
    }
   ],
   "source": [
    ")set quit unprotected"
   ]
  },
  {
   "cell_type": "code",
   "execution_count": 3,
   "metadata": {
    "collapsed": false
   },
   "outputs": [
    {
     "data": {
      "text/plain": []
     },
     "execution_count": 3,
     "metadata": {},
     "output_type": "execute_result"
    }
   ],
   "source": [
    ")set streams calculate 7"
   ]
  },
  {
   "cell_type": "markdown",
   "metadata": {},
   "source": [
    " ---------- Numbers ----------\n",
    " Let's begin by playing with numbers: infinite precision integers\n"
   ]
  },
  {
   "cell_type": "code",
   "execution_count": 4,
   "metadata": {
    "collapsed": false
   },
   "outputs": [
    {
     "name": "stdout",
     "output_type": "stream",
     "text": [
      "Warning: HyperTeX macro table not found\n"
     ]
    },
    {
     "data": {
      "text/plain": [
       "   30414093201713378043612608166064768844377641568960512000000000000\n",
       "Type: PositiveInteger\n"
      ]
     },
     "execution_count": 4,
     "metadata": {},
     "output_type": "execute_result"
    }
   ],
   "source": [
    "factorial(50)"
   ]
  },
  {
   "cell_type": "code",
   "execution_count": 5,
   "metadata": {
    "collapsed": false
   },
   "outputs": [
    {
     "data": {
      "text/plain": [
       "    47 22 12 8  4  3  2  2  2\n",
       "   2  3  5  7 11 13 17 19 23 29 31 37 41 43 47\n",
       "Type: Factored(Integer)\n"
      ]
     },
     "execution_count": 5,
     "metadata": {},
     "output_type": "execute_result"
    }
   ],
   "source": [
    "factor(%)"
   ]
  },
  {
   "cell_type": "markdown",
   "metadata": {},
   "source": [
    " Infinite precision rational numbers\n"
   ]
  },
  {
   "cell_type": "code",
   "execution_count": 6,
   "metadata": {
    "collapsed": false
   },
   "outputs": [
    {
     "data": {
      "text/plain": [
       "   4861\n",
       "   ----\n",
       "   2520\n",
       "Type: Fraction(Integer)\n"
      ]
     },
     "execution_count": 6,
     "metadata": {},
     "output_type": "execute_result"
    }
   ],
   "source": [
    "1/2 + 1/3 + 1/4 + 1/5 + 1/6 + 1/7 + 1/8 + 1/9 + 1/10"
   ]
  },
  {
   "cell_type": "markdown",
   "metadata": {},
   "source": [
    " Arbitrary precision floating point numbers\n"
   ]
  },
  {
   "cell_type": "code",
   "execution_count": 7,
   "metadata": {
    "collapsed": false
   },
   "outputs": [
    {
     "data": {
      "text/plain": [
       "Type: PositiveInteger\n"
      ]
     },
     "execution_count": 7,
     "metadata": {},
     "output_type": "execute_result"
    }
   ],
   "source": [
    "digits(50);"
   ]
  },
  {
   "cell_type": "markdown",
   "metadata": {},
   "source": [
    " This number is nearly an integer\n"
   ]
  },
  {
   "cell_type": "code",
   "execution_count": 8,
   "metadata": {
    "collapsed": false
   },
   "outputs": [
    {
     "data": {
      "text/plain": [
       "   26253741_2640768743.9999999999_9925007259_7198185688_9\n",
       "Type: Float\n"
      ]
     },
     "execution_count": 8,
     "metadata": {},
     "output_type": "execute_result"
    }
   ],
   "source": [
    "exp(sqrt(163.)*%pi)"
   ]
  },
  {
   "cell_type": "code",
   "execution_count": 9,
   "metadata": {
    "collapsed": false
   },
   "outputs": [
    {
     "data": {
      "text/plain": [
       "Type: PositiveInteger\n"
      ]
     },
     "execution_count": 9,
     "metadata": {},
     "output_type": "execute_result"
    }
   ],
   "source": [
    "digits(20);"
   ]
  },
  {
   "cell_type": "markdown",
   "metadata": {},
   "source": [
    " Special functions\n"
   ]
  },
  {
   "cell_type": "code",
   "execution_count": 10,
   "metadata": {
    "collapsed": false
   },
   "outputs": [
    {
     "data": {
      "text/plain": [
       "   besselJ(2,1 + %i)\n",
       "Type: Expression(Complex(Integer))\n"
      ]
     },
     "execution_count": 10,
     "metadata": {},
     "output_type": "execute_result"
    }
   ],
   "source": [
    "besselJ(2, 1 + %i)"
   ]
  },
  {
   "cell_type": "markdown",
   "metadata": {},
   "source": [
    " Complete decimal expansion of a rational number\n"
   ]
  },
  {
   "cell_type": "code",
   "execution_count": 11,
   "metadata": {
    "collapsed": false
   },
   "outputs": [
    {
     "data": {
      "text/plain": [
       "     ______\n",
       "   0.142857\n",
       "Type: DecimalExpansion\n"
      ]
     },
     "execution_count": 11,
     "metadata": {},
     "output_type": "execute_result"
    }
   ],
   "source": [
    "decimal(1/7)"
   ]
  },
  {
   "cell_type": "markdown",
   "metadata": {},
   "source": [
    " Continued fractions\n"
   ]
  },
  {
   "cell_type": "code",
   "execution_count": 12,
   "metadata": {
    "collapsed": false
   },
   "outputs": [
    {
     "data": {
      "text/plain": [
       "         1 |     1  |     1 |      1  |     1 |     1 |     1 |\n",
       "   3 + +---+ + +----+ + +---+ + +-----+ + +---+ + +---+ + +---+ + ...\n",
       "       | 7     | 15     | 1     | 292     | 1     | 1     | 1\n",
       "Type: ContinuedFraction(Integer)\n"
      ]
     },
     "execution_count": 12,
     "metadata": {},
     "output_type": "execute_result"
    }
   ],
   "source": [
    "continuedFraction(%pi)"
   ]
  },
  {
   "cell_type": "markdown",
   "metadata": {},
   "source": [
    " Simplify an expression with nested square roots\n"
   ]
  },
  {
   "cell_type": "code",
   "execution_count": 13,
   "metadata": {
    "collapsed": false
   },
   "outputs": [
    {
     "data": {
      "text/plain": [
       "    +---------+\n",
       "    |  +-+\n",
       "   \\|2\\|3  + 4\n",
       "Type: AlgebraicNumber\n"
      ]
     },
     "execution_count": 13,
     "metadata": {},
     "output_type": "execute_result"
    }
   ],
   "source": [
    "s1:=sqrt(2*sqrt(3) + 4)"
   ]
  },
  {
   "cell_type": "code",
   "execution_count": 14,
   "metadata": {
    "collapsed": false
   },
   "outputs": [
    {
     "data": {
      "text/plain": [
       "    4     2\n",
       "   z  - 8z  + 4\n",
       "Type: Polynomial(Fraction(Integer))\n"
      ]
     },
     "execution_count": 14,
     "metadata": {},
     "output_type": "execute_result"
    }
   ],
   "source": [
    "p:POLY FRAC INT:= (ratPoly(s1::Expression Integer)::SUP FRAC INT).'z"
   ]
  },
  {
   "cell_type": "code",
   "execution_count": 15,
   "metadata": {
    "collapsed": false
   },
   "outputs": [
    {
     "data": {
      "text/plain": [
       "          +-+         +-+           +-+         +-+\n",
       "   [z= - \\|3  - 1,z= \\|3  - 1,z= - \\|3  + 1,z= \\|3  + 1]\n",
       "Type: List(Equation(Expression(Integer)))\n"
      ]
     },
     "execution_count": 15,
     "metadata": {},
     "output_type": "execute_result"
    }
   ],
   "source": [
    "solp:=radicalSolve p"
   ]
  },
  {
   "cell_type": "code",
   "execution_count": 16,
   "metadata": {
    "collapsed": false
   },
   "outputs": [
    {
     "data": {
      "text/plain": [
       "    +-+\n",
       "   \\|3  + 1\n",
       "Type: Expression(Integer)\n"
      ]
     },
     "execution_count": 16,
     "metadata": {},
     "output_type": "execute_result"
    }
   ],
   "source": [
    "rhs select (z+-> real abs (complexNumeric rhs z - complexNumeric s1) < 1.E-19,solp).1"
   ]
  },
  {
   "cell_type": "code",
   "execution_count": 17,
   "metadata": {
    "collapsed": false
   },
   "outputs": [
    {
     "data": {
      "text/plain": [
       "    +---------+\n",
       "    |  +-+\n",
       "   \\|2\\|3  + 4\n",
       "Type: Expression(Integer)\n"
      ]
     },
     "execution_count": 17,
     "metadata": {},
     "output_type": "execute_result"
    }
   ],
   "source": [
    "simplify(s1)"
   ]
  },
  {
   "cell_type": "markdown",
   "metadata": {},
   "source": [
    " Try a more complicated example (from the Putnam exam)\n"
   ]
  },
  {
   "cell_type": "code",
   "execution_count": 18,
   "metadata": {
    "collapsed": false
   },
   "outputs": [
    {
     "data": {
      "text/plain": [
       "    +---------------------------------------+\n",
       "    |  +------------------------------+\n",
       "    |  |  +----------------------+\n",
       "    |  |  |     +-----------+\n",
       "    |  |  |     |    +-+\n",
       "   \\|3\\|2\\|- 12\\|- 2\\|2  + 3  + 5  + 3  + 14\n",
       "Type: AlgebraicNumber\n"
      ]
     },
     "execution_count": 18,
     "metadata": {},
     "output_type": "execute_result"
    }
   ],
   "source": [
    "s1:=sqrt(14 + 3*sqrt(3 + 2*sqrt(5 - 12*sqrt(3 - 2*sqrt(2)))))"
   ]
  },
  {
   "cell_type": "code",
   "execution_count": 19,
   "metadata": {
    "collapsed": false
   },
   "outputs": [
    {
     "name": "stdout",
     "output_type": "stream",
     "text": [
      "        "
     ]
    },
    {
     "data": {
      "text/plain": [
       "      32       30         28           26            24              22\n",
       "     z   - 224z   + 23304z   - 1494304z   + 66078476z   - 2135811552z\n",
       "   + \n",
       "                 20                18                  16                   14\n",
       "     52170542296z   - 981761299232z   + 14373744925878z   - 164123059536800z\n",
       "   + \n",
       "                      12                    10                     8\n",
       "     1455002985999736z   - 9894174058819680z   + 50472762054977900z\n",
       "   + \n",
       "                          6                      4                      2\n",
       "     - 186014091485754784z  + 464209556778289704z  - 693994526414475104z\n",
       "   + \n",
       "     461208414302655313\n",
       "Type: Polynomial(Fraction(Integer))\n"
      ]
     },
     "execution_count": 19,
     "metadata": {},
     "output_type": "execute_result"
    }
   ],
   "source": [
    "p:POLY FRAC INT:= (ratPoly(s1::Expression Integer)::SUP FRAC INT).'z"
   ]
  },
  {
   "cell_type": "code",
   "execution_count": 20,
   "metadata": {
    "collapsed": false
   },
   "outputs": [
    {
     "name": "stdout",
     "output_type": "stream",
     "text": [
      "\n",
      "\n",
      "\n",
      "\n",
      "\n",
      "\n",
      "\n",
      "\n",
      "\n",
      "\n"
     ]
    },
    {
     "data": {
      "text/plain": [
       "        +--------------------------------------------+\n",
       "        | +--------------+    +----------------+\n",
       "        | |   +----+          |     +----+\n",
       "       \\|\\|18\\|- 23  - 54  - \\|- 18\\|- 23  - 54  + 28\n",
       "   [z= -----------------------------------------------,\n",
       "                              +-+\n",
       "                             \\|2\n",
       "          +--------------------------------------------+\n",
       "          | +--------------+    +----------------+\n",
       "          | |   +----+          |     +----+\n",
       "         \\|\\|18\\|- 23  - 54  - \\|- 18\\|- 23  - 54  + 28\n",
       "    z= - -----------------------------------------------,\n",
       "                                +-+\n",
       "                               \\|2\n",
       "        +--------------------------------------------+\n",
       "        | +--------------+    +----------------+\n",
       "        | |   +----+          |     +----+\n",
       "       \\|\\|18\\|- 23  - 54  + \\|- 18\\|- 23  - 54  + 28\n",
       "    z= -----------------------------------------------,\n",
       "                              +-+\n",
       "                             \\|2\n",
       "          +--------------------------------------------+\n",
       "          | +--------------+    +----------------+\n",
       "          | |   +----+          |     +----+\n",
       "         \\|\\|18\\|- 23  - 54  + \\|- 18\\|- 23  - 54  + 28\n",
       "    z= - -----------------------------------------------,\n",
       "                                +-+\n",
       "                               \\|2\n",
       "        +----------------------------------------------+\n",
       "        |   +--------------+    +----------------+\n",
       "        |   |   +----+          |     +----+\n",
       "       \\|- \\|18\\|- 23  - 54  - \\|- 18\\|- 23  - 54  + 28\n",
       "    z= -------------------------------------------------,\n",
       "                               +-+\n",
       "                              \\|2\n",
       "          +----------------------------------------------+\n",
       "          |   +--------------+    +----------------+\n",
       "          |   |   +----+          |     +----+\n",
       "         \\|- \\|18\\|- 23  - 54  - \\|- 18\\|- 23  - 54  + 28\n",
       "    z= - -------------------------------------------------,\n",
       "                                 +-+\n",
       "                                \\|2\n",
       "        +----------------------------------------------+\n",
       "        |   +--------------+    +----------------+\n",
       "        |   |   +----+          |     +----+\n",
       "       \\|- \\|18\\|- 23  - 54  + \\|- 18\\|- 23  - 54  + 28\n",
       "    z= -------------------------------------------------,\n",
       "                               +-+\n",
       "                              \\|2\n",
       "          +----------------------------------------------+\n",
       "          |   +--------------+    +----------------+\n",
       "          |   |   +----+          |     +----+                  +------------+\n",
       "         \\|- \\|18\\|- 23  - 54  + \\|- 18\\|- 23  - 54  + 28       |    +-+\n",
       "    z= - -------------------------------------------------, z= \\|- 6\\|2  + 17 ,\n",
       "                                 +-+\n",
       "                                \\|2\n",
       "          +------------+      +----------+        +----------+\n",
       "          |    +-+            |  +-+              |  +-+              +-+\n",
       "    z= - \\|- 6\\|2  + 17 , z= \\|6\\|2  + 17 , z= - \\|6\\|2  + 17 , z= - \\|2  - 3,\n",
       "        +-+            +-+          +-+\n",
       "    z= \\|2  - 3, z= - \\|2  + 3, z= \\|2  + 3]\n",
       "Type: List(Equation(Expression(Integer)))\n"
      ]
     },
     "execution_count": 20,
     "metadata": {},
     "output_type": "execute_result"
    }
   ],
   "source": [
    "solp:=radicalSolve p"
   ]
  },
  {
   "cell_type": "code",
   "execution_count": 21,
   "metadata": {
    "collapsed": false
   },
   "outputs": [
    {
     "data": {
      "text/plain": [
       "    +-+\n",
       "   \\|2  + 3\n",
       "Type: Expression(Integer)\n"
      ]
     },
     "execution_count": 21,
     "metadata": {},
     "output_type": "execute_result"
    }
   ],
   "source": [
    "rhs select (z+-> real abs (complexNumeric rhs z - complexNumeric s1) < 1.E-19,solp).1"
   ]
  },
  {
   "cell_type": "code",
   "execution_count": 22,
   "metadata": {
    "collapsed": false
   },
   "outputs": [
    {
     "data": {
      "text/plain": [
       "    +---------------------------------------+\n",
       "    |  +------------------------------+\n",
       "    |  |  +----------------------+\n",
       "    |  |  |     +-----------+\n",
       "    |  |  |     |    +-+\n",
       "   \\|3\\|2\\|- 12\\|- 2\\|2  + 3  + 5  + 3  + 14\n",
       "Type: Expression(Integer)\n"
      ]
     },
     "execution_count": 22,
     "metadata": {},
     "output_type": "execute_result"
    }
   ],
   "source": [
    "simplify(s1)"
   ]
  },
  {
   "cell_type": "markdown",
   "metadata": {},
   "source": [
    " Cardinal numbers\n"
   ]
  },
  {
   "cell_type": "code",
   "execution_count": 23,
   "metadata": {
    "collapsed": false
   },
   "outputs": [
    {
     "data": {
      "text/plain": [
       "   Aleph(0)\n",
       "Type: Union(CardinalNumber,...)\n"
      ]
     },
     "execution_count": 23,
     "metadata": {},
     "output_type": "execute_result"
    }
   ],
   "source": [
    "2*Aleph(0) - 3"
   ]
  },
  {
   "cell_type": "markdown",
   "metadata": {},
   "source": [
    " ---------- Statistics ----------\n",
    " ---------- Algebra ----------\n",
    " Numbers are nice, but symbols allow for variability---try some high school\n",
    " algebra: rational simplification\n"
   ]
  },
  {
   "cell_type": "code",
   "execution_count": 24,
   "metadata": {
    "collapsed": false
   },
   "outputs": [
    {
     "data": {
      "text/plain": [
       "   x - 2\n",
       "   -----\n",
       "   x + 2\n",
       "Type: Fraction(Polynomial(Integer))\n"
      ]
     },
     "execution_count": 24,
     "metadata": {},
     "output_type": "execute_result"
    }
   ],
   "source": [
    "(x^2 - 4)/(x^2 + 4*x + 4)"
   ]
  },
  {
   "cell_type": "markdown",
   "metadata": {},
   "source": [
    " This example requires more sophistication\n"
   ]
  },
  {
   "cell_type": "code",
   "execution_count": 25,
   "metadata": {
    "collapsed": false
   },
   "outputs": [
    {
     "data": {
      "text/plain": [
       "     x\n",
       "   %e  - 1\n",
       "   -------\n",
       "     x\n",
       "     -\n",
       "     2\n",
       "   %e  + 1\n",
       "Type: Expression(Integer)\n"
      ]
     },
     "execution_count": 25,
     "metadata": {},
     "output_type": "execute_result"
    }
   ],
   "source": [
    "(%e^x - 1)/(%e^(x/2) + 1)"
   ]
  },
  {
   "cell_type": "code",
   "execution_count": 26,
   "metadata": {
    "collapsed": false
   },
   "outputs": [
    {
     "data": {
      "text/plain": [
       "     x\n",
       "     -\n",
       "     2\n",
       "   %e  - 1\n",
       "Type: Expression(Integer)\n"
      ]
     },
     "execution_count": 26,
     "metadata": {},
     "output_type": "execute_result"
    }
   ],
   "source": [
    "normalize(%)"
   ]
  },
  {
   "cell_type": "markdown",
   "metadata": {},
   "source": [
    " Expand and factor polynomials\n"
   ]
  },
  {
   "cell_type": "code",
   "execution_count": 27,
   "metadata": {
    "collapsed": false
   },
   "outputs": [
    {
     "name": "stdout",
     "output_type": "stream",
     "text": [
      "    "
     ]
    },
    {
     "data": {
      "text/plain": [
       "      20      19       18        17        16         15         14         13\n",
       "     x   + 20x   + 190x   + 1140x   + 4845x   + 15504x   + 38760x   + 77520x\n",
       "   + \n",
       "            12          11          10          9          8         7         6\n",
       "     125970x   + 167960x   + 184756x   + 167960x  + 125970x  + 77520x  + 38760x\n",
       "   + \n",
       "           5        4        3       2\n",
       "     15504x  + 4845x  + 1140x  + 190x  + 20x + 1\n",
       "Type: Polynomial(Integer)\n"
      ]
     },
     "execution_count": 27,
     "metadata": {},
     "output_type": "execute_result"
    }
   ],
   "source": [
    "(x + 1)^20"
   ]
  },
  {
   "cell_type": "code",
   "execution_count": 28,
   "metadata": {
    "collapsed": false
   },
   "outputs": [
    {
     "name": "stdout",
     "output_type": "stream",
     "text": [
      "    "
     ]
    },
    {
     "data": {
      "text/plain": [
       "        19       18        17         16         15          14          13\n",
       "     20x   + 380x   + 3420x   + 19380x   + 77520x   + 232560x   + 542640x\n",
       "   + \n",
       "             12           11           10           9           8           7\n",
       "     1007760x   + 1511640x   + 1847560x   + 1847560x  + 1511640x  + 1007760x\n",
       "   + \n",
       "            6          5         4         3        2\n",
       "     542640x  + 232560x  + 77520x  + 19380x  + 3420x  + 380x + 20\n",
       "Type: Polynomial(Integer)\n"
      ]
     },
     "execution_count": 28,
     "metadata": {},
     "output_type": "execute_result"
    }
   ],
   "source": [
    "D(%, x)"
   ]
  },
  {
   "cell_type": "code",
   "execution_count": 29,
   "metadata": {
    "collapsed": false
   },
   "outputs": [
    {
     "data": {
      "text/plain": [
       "            19\n",
       "   20(x + 1)\n",
       "Type: Factored(Polynomial(Integer))\n"
      ]
     },
     "execution_count": 29,
     "metadata": {},
     "output_type": "execute_result"
    }
   ],
   "source": [
    "factor(%)"
   ]
  },
  {
   "cell_type": "code",
   "execution_count": 30,
   "metadata": {
    "collapsed": false
   },
   "outputs": [
    {
     "data": {
      "text/plain": [
       "    100\n",
       "   x    - 1\n",
       "Type: Polynomial(Integer)\n"
      ]
     },
     "execution_count": 30,
     "metadata": {},
     "output_type": "execute_result"
    }
   ],
   "source": [
    "x^100 - 1"
   ]
  },
  {
   "cell_type": "code",
   "execution_count": 31,
   "metadata": {
    "collapsed": false
   },
   "outputs": [
    {
     "name": "stdout",
     "output_type": "stream",
     "text": [
      "    "
     ]
    },
    {
     "data": {
      "text/plain": [
       "                     2       4    3    2           4    3    2\n",
       "     (x - 1)(x + 1)(x  + 1)(x  - x  + x  - x + 1)(x  + x  + x  + x + 1)\n",
       "  *\n",
       "       8    6    4    2       20    15    10    5       20    15    10    5\n",
       "     (x  - x  + x  - x  + 1)(x   - x   + x   - x  + 1)(x   + x   + x   + x  + 1)\n",
       "  *\n",
       "       40    30    20    10\n",
       "     (x   - x   + x   - x   + 1)\n",
       "Type: Factored(Polynomial(Integer))\n"
      ]
     },
     "execution_count": 31,
     "metadata": {},
     "output_type": "execute_result"
    }
   ],
   "source": [
    "factor(%)"
   ]
  },
  {
   "cell_type": "markdown",
   "metadata": {},
   "source": [
    " Factor polynomials over finite fields and field extensions\n"
   ]
  },
  {
   "cell_type": "code",
   "execution_count": 32,
   "metadata": {
    "collapsed": false
   },
   "outputs": [
    {
     "data": {
      "text/plain": [
       "    4     2\n",
       "   x  - 3x  + 1\n",
       "Type: Polynomial(Fraction(Integer))\n"
      ]
     },
     "execution_count": 32,
     "metadata": {},
     "output_type": "execute_result"
    }
   ],
   "source": [
    "p:= x^4 - 3*x^2 + 1"
   ]
  },
  {
   "cell_type": "code",
   "execution_count": 33,
   "metadata": {
    "collapsed": false
   },
   "outputs": [
    {
     "data": {
      "text/plain": [
       "     2           2\n",
       "   (x  - x - 1)(x  + x - 1)\n",
       "Type: Factored(Polynomial(Fraction(Integer)))\n"
      ]
     },
     "execution_count": 33,
     "metadata": {},
     "output_type": "execute_result"
    }
   ],
   "source": [
    "factor(p)"
   ]
  },
  {
   "cell_type": "code",
   "execution_count": 34,
   "metadata": {
    "collapsed": false
   },
   "outputs": [
    {
     "data": {
      "text/plain": [
       "Type: AlgebraicNumber\n"
      ]
     },
     "execution_count": 34,
     "metadata": {},
     "output_type": "execute_result"
    }
   ],
   "source": [
    "phi:= rootOf(phi^2 - phi - 1);"
   ]
  },
  {
   "cell_type": "code",
   "execution_count": 35,
   "metadata": {
    "collapsed": false
   },
   "outputs": [
    {
     "data": {
      "text/plain": [
       "   (x - phi)(x - phi + 1)(x + phi - 1)(x + phi)\n",
       "Type: Factored(Polynomial(AlgebraicNumber))\n"
      ]
     },
     "execution_count": 35,
     "metadata": {},
     "output_type": "execute_result"
    }
   ],
   "source": [
    "factor(p, [phi])"
   ]
  },
  {
   "cell_type": "code",
   "execution_count": 36,
   "metadata": {
    "collapsed": false
   },
   "outputs": [
    {
     "data": {
      "text/plain": [
       "          2       2\n",
       "   (x + 2) (x + 3)\n",
       "Type: Factored(Polynomial(PrimeField(5)))\n"
      ]
     },
     "execution_count": 36,
     "metadata": {},
     "output_type": "execute_result"
    }
   ],
   "source": [
    "factor(p :: Polynomial(PrimeField(5)))"
   ]
  },
  {
   "cell_type": "code",
   "execution_count": 37,
   "metadata": {
    "collapsed": false
   },
   "outputs": [
    {
     "data": {
      "text/plain": [
       "    4     2\n",
       "   x  + 2x  + 1\n",
       "Type: Polynomial(PrimeField(5))\n"
      ]
     },
     "execution_count": 37,
     "metadata": {},
     "output_type": "execute_result"
    }
   ],
   "source": [
    "expand(%)"
   ]
  },
  {
   "cell_type": "markdown",
   "metadata": {},
   "source": [
    " Partial fraction decomposition\n"
   ]
  },
  {
   "cell_type": "code",
   "execution_count": 38,
   "metadata": {
    "collapsed": false
   },
   "outputs": [
    {
     "data": {
      "text/plain": [
       "       2\n",
       "      x  + 2x + 3\n",
       "   -----------------\n",
       "    3     2\n",
       "   x  + 4x  + 5x + 2\n",
       "Type: Fraction(Polynomial(Integer))\n"
      ]
     },
     "execution_count": 38,
     "metadata": {},
     "output_type": "execute_result"
    }
   ],
   "source": [
    "(x^2 + 2*x + 3)/(x^3 + 4*x^2 + 5*x + 2)"
   ]
  },
  {
   "cell_type": "code",
   "execution_count": 39,
   "metadata": {
    "collapsed": false
   },
   "outputs": [
    {
     "data": {
      "text/plain": [
       "       2         2        3\n",
       "   - ----- + -------- + -----\n",
       "     x + 1          2   x + 2\n",
       "             (x + 1)\n",
       "Type: PartialFraction(UnivariatePolynomial(x,Fraction(Integer)))\n"
      ]
     },
     "execution_count": 39,
     "metadata": {},
     "output_type": "execute_result"
    }
   ],
   "source": [
    "padicFraction(\n",
    "   partialFraction(numerator(%) :: UnivariatePolynomial(x, Fraction Integer),\n",
    "                   factor(denominator(%) :: Polynomial Integer) ::\n",
    "                      Factored UnivariatePolynomial(x, Fraction Integer)))"
   ]
  },
  {
   "cell_type": "markdown",
   "metadata": {},
   "source": [
    " ---------- Inequalities ----------\n",
    " ---------- Trigonometry ----------\n",
    " Trigonometric manipulations---these are typically difficult for students\n"
   ]
  },
  {
   "cell_type": "code",
   "execution_count": 40,
   "metadata": {
    "collapsed": false
   },
   "outputs": [
    {
     "data": {
      "text/plain": [
       "   cos(3x)\n",
       "   -------\n",
       "    cos(x)\n",
       "Type: Expression(Integer)\n"
      ]
     },
     "execution_count": 40,
     "metadata": {},
     "output_type": "execute_result"
    }
   ],
   "source": [
    "r:= cos(3*x)/cos(x)"
   ]
  },
  {
   "cell_type": "code",
   "execution_count": 41,
   "metadata": {
    "collapsed": false
   },
   "outputs": [
    {
     "data": {
      "text/plain": [
       "            2          2\n",
       "   - 2sin(x)  + 2cos(x)  - 1\n",
       "Type: Expression(Integer)\n"
      ]
     },
     "execution_count": 41,
     "metadata": {},
     "output_type": "execute_result"
    }
   ],
   "source": [
    "real(complexNormalize(%))"
   ]
  },
  {
   "cell_type": "code",
   "execution_count": 42,
   "metadata": {
    "collapsed": false
   },
   "outputs": [
    {
     "data": {
      "text/plain": [
       "   2cos(2x) - 1\n",
       "Type: Expression(Integer)\n"
      ]
     },
     "execution_count": 42,
     "metadata": {},
     "output_type": "execute_result"
    }
   ],
   "source": [
    "real(normalize(simplify(complexNormalize(r))))"
   ]
  },
  {
   "cell_type": "markdown",
   "metadata": {},
   "source": [
    " Use rewrite rules\n"
   ]
  },
  {
   "cell_type": "code",
   "execution_count": 43,
   "metadata": {
    "collapsed": false
   },
   "outputs": [
    {
     "name": "stdout",
     "output_type": "stream",
     "text": [
      "\n",
      "\n",
      "\n"
     ]
    },
    {
     "data": {
      "text/plain": [
       "   {cos(n x) == - sin(x)sin((n - 1)x) + cos(x)cos((n - 1)x),\n",
       "    sin(n x) == cos(x)sin((n - 1)x) + cos((n - 1)x)sin(x)}\n",
       "Type: Ruleset(Integer,Integer,Expression(Integer))\n"
      ]
     },
     "execution_count": 43,
     "metadata": {},
     "output_type": "execute_result"
    }
   ],
   "source": [
    "sincosAngles:= rule _\n",
    "  (cos((n | integer?(n)) * x) == _\n",
    "      cos((n - 1)*x) * cos(x) - sin((n - 1)*x) * sin(x); _\n",
    "   sin((n | integer?(n)) * x) == _\n",
    "      sin((n - 1)*x) * cos(x) + cos((n - 1)*x) * sin(x) )\n"
   ]
  },
  {
   "cell_type": "code",
   "execution_count": 44,
   "metadata": {
    "collapsed": false
   },
   "outputs": [
    {
     "data": {
      "text/plain": [
       "            2         2\n",
       "   - 3sin(x)  + cos(x)\n",
       "Type: Expression(Integer)\n"
      ]
     },
     "execution_count": 44,
     "metadata": {},
     "output_type": "execute_result"
    }
   ],
   "source": [
    "sincosAngles r"
   ]
  },
  {
   "cell_type": "markdown",
   "metadata": {},
   "source": [
    " ---------- Determining Zero Equivalence ----------\n",
    " The following expressions are all equal to zero\n"
   ]
  },
  {
   "cell_type": "code",
   "execution_count": 45,
   "metadata": {
    "collapsed": false
   },
   "outputs": [
    {
     "data": {
      "text/plain": [
       "   0\n",
       "Type: AlgebraicNumber\n"
      ]
     },
     "execution_count": 45,
     "metadata": {},
     "output_type": "execute_result"
    }
   ],
   "source": [
    "sqrt(997) - (997^3)^(1/6)"
   ]
  },
  {
   "cell_type": "code",
   "execution_count": 46,
   "metadata": {
    "collapsed": false
   },
   "outputs": [
    {
     "data": {
      "text/plain": [
       "   0\n",
       "Type: AlgebraicNumber\n"
      ]
     },
     "execution_count": 46,
     "metadata": {},
     "output_type": "execute_result"
    }
   ],
   "source": [
    "sqrt(999983) - (999983^3)^(1/6)"
   ]
  },
  {
   "cell_type": "code",
   "execution_count": 47,
   "metadata": {
    "collapsed": false
   },
   "outputs": [
    {
     "data": {
      "text/plain": [
       "    3+-+3+-+2     3+-+2     3+-+    3+-+\n",
       "   3\\|2 \\|4   + (3\\|2   - 6)\\|4  - 6\\|2\n",
       "Type: AlgebraicNumber\n"
      ]
     },
     "execution_count": 47,
     "metadata": {},
     "output_type": "execute_result"
    }
   ],
   "source": [
    "s1:=(2^(1/3) + 4^(1/3))^3 - 6*(2^(1/3) + 4^(1/3)) - 6"
   ]
  },
  {
   "cell_type": "code",
   "execution_count": 48,
   "metadata": {
    "collapsed": false
   },
   "outputs": [
    {
     "data": {
      "text/plain": [
       "    3+-+3+-+2     3+-+2     3+-+    3+-+\n",
       "   3\\|2 \\|4   + (3\\|2   - 6)\\|4  - 6\\|2\n",
       "Type: Expression(Integer)\n"
      ]
     },
     "execution_count": 48,
     "metadata": {},
     "output_type": "execute_result"
    }
   ],
   "source": [
    "simplify(%)"
   ]
  },
  {
   "cell_type": "code",
   "execution_count": 49,
   "metadata": {
    "collapsed": false
   },
   "outputs": [
    {
     "data": {
      "text/plain": [
       "    7       5          3           2\n",
       "   z  - 648z  + 419904z  + 7558272z  + 45349632z\n",
       "Type: Polynomial(Fraction(Integer))\n"
      ]
     },
     "execution_count": 49,
     "metadata": {},
     "output_type": "execute_result"
    }
   ],
   "source": [
    "p:POLY FRAC INT:= (ratPoly(s1::Expression Integer)::SUP FRAC INT).'z"
   ]
  },
  {
   "cell_type": "code",
   "execution_count": 50,
   "metadata": {
    "collapsed": false
   },
   "outputs": [
    {
     "data": {
      "text/plain": [
       "   [z= 0]\n",
       "Type: List(Equation(Expression(Integer)))\n"
      ]
     },
     "execution_count": 50,
     "metadata": {},
     "output_type": "execute_result"
    }
   ],
   "source": [
    "solp:=radicalSolve p"
   ]
  },
  {
   "cell_type": "code",
   "execution_count": 51,
   "metadata": {
    "collapsed": false
   },
   "outputs": [
    {
     "data": {
      "text/plain": [
       "   0\n",
       "Type: Expression(Integer)\n"
      ]
     },
     "execution_count": 51,
     "metadata": {},
     "output_type": "execute_result"
    }
   ],
   "source": [
    "rhs select (z+-> real abs (complexNumeric rhs z - complexNumeric s1) < 1.E-19,solp).1"
   ]
  },
  {
   "cell_type": "markdown",
   "metadata": {},
   "source": [
    " This expression is zero for x, y > 0 and n not equal to zero\n"
   ]
  },
  {
   "cell_type": "code",
   "execution_count": 52,
   "metadata": {
    "collapsed": false
   },
   "outputs": [
    {
     "data": {
      "text/plain": [
       "          1    1 1\n",
       "          -    - -\n",
       "          n    n n\n",
       "   - (x y)  + x y\n",
       "Type: Expression(Integer)\n"
      ]
     },
     "execution_count": 52,
     "metadata": {},
     "output_type": "execute_result"
    }
   ],
   "source": [
    "x^(1/n)*y^(1/n) - (x*y)^(1/n)"
   ]
  },
  {
   "cell_type": "code",
   "execution_count": 53,
   "metadata": {
    "collapsed": false
   },
   "outputs": [
    {
     "data": {
      "text/plain": [
       "   0\n",
       "Type: Expression(Integer)\n"
      ]
     },
     "execution_count": 53,
     "metadata": {},
     "output_type": "execute_result"
    }
   ],
   "source": [
    "normalize(%)"
   ]
  },
  {
   "cell_type": "markdown",
   "metadata": {},
   "source": [
    " See Joel Moses, ``Algebraic Simplification: A Guide for the Perplexed'',\n",
    " CACM, Volume 14, Number 8, August 1971\n"
   ]
  },
  {
   "cell_type": "code",
   "execution_count": 54,
   "metadata": {
    "collapsed": false
   },
   "outputs": [
    {
     "data": {
      "text/plain": [
       "           2x + %pi\n",
       "   log(tan(--------)) - asinh(tan(x))\n",
       "               4\n",
       "Type: Expression(Integer)\n"
      ]
     },
     "execution_count": 54,
     "metadata": {},
     "output_type": "execute_result"
    }
   ],
   "source": [
    "expr:= log(tan(1/2*x + %pi/4)) - asinh(tan(x))"
   ]
  },
  {
   "cell_type": "code",
   "execution_count": 55,
   "metadata": {
    "collapsed": false
   },
   "outputs": [
    {
     "data": {
      "text/plain": [
       "   0\n",
       "Type: Expression(Integer)\n"
      ]
     },
     "execution_count": 55,
     "metadata": {},
     "output_type": "execute_result"
    }
   ],
   "source": [
    "complexNormalize(%)"
   ]
  },
  {
   "cell_type": "markdown",
   "metadata": {},
   "source": [
    " Use a roundabout method---show that expr is a constant equal to zero\n"
   ]
  },
  {
   "cell_type": "code",
   "execution_count": 56,
   "metadata": {
    "collapsed": false
   },
   "outputs": [
    {
     "data": {
      "text/plain": [
       "                        +-----------+\n",
       "        2x + %pi 2      |      2             2x + %pi       2        2x + %pi\n",
       "   (tan(--------)  + 1)\\|tan(x)  + 1  - 2tan(--------)tan(x)  - 2tan(--------)\n",
       "            4                                    4                       4\n",
       "   ---------------------------------------------------------------------------\n",
       "                                          +-----------+\n",
       "                                2x + %pi  |      2\n",
       "                           2tan(--------)\\|tan(x)  + 1\n",
       "                                    4\n",
       "Type: Expression(Integer)\n"
      ]
     },
     "execution_count": 56,
     "metadata": {},
     "output_type": "execute_result"
    }
   ],
   "source": [
    "D(expr, x)"
   ]
  },
  {
   "cell_type": "code",
   "execution_count": 57,
   "metadata": {
    "collapsed": false
   },
   "outputs": [
    {
     "data": {
      "text/plain": [
       "   0\n",
       "Type: Expression(Integer)\n"
      ]
     },
     "execution_count": 57,
     "metadata": {},
     "output_type": "execute_result"
    }
   ],
   "source": [
    "normalize(rootSimp(expand(simplify(%))))"
   ]
  },
  {
   "cell_type": "code",
   "execution_count": 58,
   "metadata": {
    "collapsed": false
   },
   "outputs": [
    {
     "data": {
      "text/plain": [
       "   0\n",
       "Type: Expression(Integer)\n"
      ]
     },
     "execution_count": 58,
     "metadata": {},
     "output_type": "execute_result"
    }
   ],
   "source": [
    "normalize(eval(expr, x = 0))"
   ]
  },
  {
   "cell_type": "code",
   "execution_count": 59,
   "metadata": {
    "collapsed": false
   },
   "outputs": [
    {
     "data": {
      "text/plain": [
       "                       +-------+\n",
       "                       |cos(3x)\n",
       "                    2  |------- + 1\n",
       "                      \\| cos(x)\n",
       "   log(----------------------------------------)\n",
       "        +-------------------------------------+\n",
       "        |        +-------+\n",
       "        |        |cos(3x)\n",
       "        |4cos(x) |-------  + 4cos(3x) + cos(x)\n",
       "        |       \\| cos(x)\n",
       "        |-------------------------------------\n",
       "       \\|                cos(x)\n",
       "Type: Expression(Integer)\n"
      ]
     },
     "execution_count": 59,
     "metadata": {},
     "output_type": "execute_result"
    }
   ],
   "source": [
    "expr:=log((2*sqrt(r) + 1)/sqrt(4*r + 4*sqrt(r) + 1))"
   ]
  },
  {
   "cell_type": "code",
   "execution_count": 60,
   "metadata": {
    "collapsed": false
   },
   "outputs": [
    {
     "data": {
      "text/plain": [
       "   0\n",
       "Type: Expression(Integer)\n"
      ]
     },
     "execution_count": 60,
     "metadata": {},
     "output_type": "execute_result"
    }
   ],
   "source": [
    "D(expr, x)"
   ]
  },
  {
   "cell_type": "code",
   "execution_count": 61,
   "metadata": {
    "collapsed": false
   },
   "outputs": [
    {
     "data": {
      "text/plain": [
       "   0\n",
       "Type: Expression(Integer)\n"
      ]
     },
     "execution_count": 61,
     "metadata": {},
     "output_type": "execute_result"
    }
   ],
   "source": [
    "eval(expr, x = 0)"
   ]
  },
  {
   "cell_type": "code",
   "execution_count": 62,
   "metadata": {
    "collapsed": false
   },
   "outputs": [
    {
     "name": "stdout",
     "output_type": "stream",
     "text": [
      "      \n"
     ]
    },
    {
     "data": {
      "text/plain": [
       "                               1\n",
       "                        ---------------\n",
       "                           +-------+\n",
       "                           |cos(3x)\n",
       "                        2  |------- + 1\n",
       "           +-------+      \\| cos(x)\n",
       "           |cos(3x)\n",
       "       (2  |------- + 1)\n",
       "          \\| cos(x)\n",
       "    *\n",
       "                                                  +-------+\n",
       "                                                  |cos(3x)\n",
       "                                                  |-------\n",
       "                                                 \\| cos(x)\n",
       "                                              ---------------\n",
       "                                                 +-------+\n",
       "                                                 |cos(3x)\n",
       "                                              2  |------- + 1\n",
       "                +-------+                       \\| cos(x)\n",
       "                |cos(3x)\n",
       "        4cos(x) |-------  + 4cos(3x) + cos(x)\n",
       "               \\| cos(x)\n",
       "       (-------------------------------------)\n",
       "                        cos(x)\n",
       "   + \n",
       "          +-------+\n",
       "          |cos(3x)\n",
       "     - 2  |------- - 1\n",
       "         \\| cos(x)\n",
       "Type: Expression(Integer)\n"
      ]
     },
     "execution_count": 62,
     "metadata": {},
     "output_type": "execute_result"
    }
   ],
   "source": [
    "(4*r + 4*sqrt(r) + 1)^(sqrt(r)/(2*sqrt(r) + 1)) _\n",
    "   * (2*sqrt(r) + 1)^(1/(2*sqrt(r) + 1)) - 2*sqrt(r) - 1\n"
   ]
  },
  {
   "cell_type": "code",
   "execution_count": 63,
   "metadata": {
    "collapsed": false
   },
   "outputs": [
    {
     "data": {
      "text/plain": [
       "   0\n",
       "Type: Expression(Integer)\n"
      ]
     },
     "execution_count": 63,
     "metadata": {},
     "output_type": "execute_result"
    }
   ],
   "source": [
    "normalize(%)"
   ]
  },
  {
   "cell_type": "markdown",
   "metadata": {},
   "source": [
    " ---------- The Complex Domain ----------\n",
    " Complex functions---separate into their real and imaginary parts\n"
   ]
  },
  {
   "cell_type": "code",
   "execution_count": 64,
   "metadata": {
    "collapsed": false
   },
   "outputs": [
    {
     "data": {
      "text/plain": [
       "Type: Void\n"
      ]
     },
     "execution_count": 64,
     "metadata": {},
     "output_type": "execute_result"
    }
   ],
   "source": [
    "rectform(z) == real(z) + %i*imag(z)"
   ]
  },
  {
   "cell_type": "code",
   "execution_count": 65,
   "metadata": {
    "collapsed": false
   },
   "outputs": [
    {
     "name": "stdout",
     "output_type": "stream",
     "text": [
      "   Compiling function rectform with type Expression(Complex(Integer))\n",
      "       -> Expression(Complex(Integer)) \n"
     ]
    },
    {
     "data": {
      "text/plain": [
       "                      1\n",
       "   log(25) + 4%i atan(-)\n",
       "                      2\n",
       "   ---------------------\n",
       "             2\n",
       "Type: Expression(Complex(Integer))\n"
      ]
     },
     "execution_count": 65,
     "metadata": {},
     "output_type": "execute_result"
    }
   ],
   "source": [
    "rectform(log(3 + 4*%i))"
   ]
  },
  {
   "cell_type": "code",
   "execution_count": 66,
   "metadata": {
    "collapsed": false
   },
   "outputs": [
    {
     "data": {
      "text/plain": [
       "                 - 2y                   2       - 2y\n",
       "   - 2%i cos(x)%e    sin(x) + (- 2cos(x)  + 1)%e     + 1\n",
       "   -----------------------------------------------------\n",
       "            - 2y                      2        - 2y\n",
       "   2cos(x)%e    sin(x) + (- 2%i cos(x)  + %i)%e     - %i\n",
       "Type: Expression(Complex(Integer))\n"
      ]
     },
     "execution_count": 66,
     "metadata": {},
     "output_type": "execute_result"
    }
   ],
   "source": [
    "simplify(rectform(tan(x + %i*y)))"
   ]
  },
  {
   "cell_type": "markdown",
   "metadata": {},
   "source": [
    " Check for branch abuse.  See David R. Stoutemyer, ``Crimes and Misdemeanors\n",
    " in the Computer Algebra Trade'', Notices of the AMS, Volume 38, Number 7,\n",
    " September 1991.  This first expression can simplify to sqrt(x y)/sqrt(x),\n",
    " but no further in general (consider what happens when x, y = -1).\n"
   ]
  },
  {
   "cell_type": "code",
   "execution_count": 67,
   "metadata": {
    "collapsed": false
   },
   "outputs": [
    {
     "data": {
      "text/plain": [
       "    +-----------+\n",
       "    |          2\n",
       "   \\|x y abs(z)\n",
       "   --------------\n",
       "            +-+\n",
       "     abs(z)\\|x\n",
       "Type: Expression(Integer)\n"
      ]
     },
     "execution_count": 67,
     "metadata": {},
     "output_type": "execute_result"
    }
   ],
   "source": [
    "sqrt(x*y*abs(z)^2) / (sqrt(x)*abs(z))"
   ]
  },
  {
   "cell_type": "code",
   "execution_count": 68,
   "metadata": {
    "collapsed": false
   },
   "outputs": [
    {
     "data": {
      "text/plain": [
       "    +---+\n",
       "   \\|x y\n",
       "   ------\n",
       "     +-+\n",
       "    \\|x\n",
       "Type: Expression(Integer)\n"
      ]
     },
     "execution_count": 68,
     "metadata": {},
     "output_type": "execute_result"
    }
   ],
   "source": [
    "rootSimp %"
   ]
  },
  {
   "cell_type": "markdown",
   "metadata": {},
   "source": [
    " If z = -1, sqrt(1/z) is not equal to 1/sqrt(z)\n"
   ]
  },
  {
   "cell_type": "code",
   "execution_count": 69,
   "metadata": {
    "collapsed": false
   },
   "outputs": [
    {
     "data": {
      "text/plain": [
       "    +-+\n",
       "    |1  +-+\n",
       "    |- \\|z  - 1\n",
       "   \\|z\n",
       "   ------------\n",
       "        +-+\n",
       "       \\|z\n",
       "Type: Expression(Integer)\n"
      ]
     },
     "execution_count": 69,
     "metadata": {},
     "output_type": "execute_result"
    }
   ],
   "source": [
    "sqrt(1/z) - 1/sqrt(z)"
   ]
  },
  {
   "cell_type": "markdown",
   "metadata": {},
   "source": [
    " If z = 3 pi i, log(exp(z)) is not equal to z\n"
   ]
  },
  {
   "cell_type": "code",
   "execution_count": 70,
   "metadata": {
    "collapsed": false
   },
   "outputs": [
    {
     "data": {
      "text/plain": [
       "   z\n",
       "Type: Expression(Integer)\n"
      ]
     },
     "execution_count": 70,
     "metadata": {},
     "output_type": "execute_result"
    }
   ],
   "source": [
    "log(%e^z)"
   ]
  },
  {
   "cell_type": "code",
   "execution_count": 71,
   "metadata": {
    "collapsed": false
   },
   "outputs": [
    {
     "data": {
      "text/plain": [
       "   z\n",
       "Type: Expression(Integer)\n"
      ]
     },
     "execution_count": 71,
     "metadata": {},
     "output_type": "execute_result"
    }
   ],
   "source": [
    "normalize(%)"
   ]
  },
  {
   "cell_type": "markdown",
   "metadata": {},
   "source": [
    " The principal value of this expression is (10 - 4 pi) i\n"
   ]
  },
  {
   "cell_type": "code",
   "execution_count": 72,
   "metadata": {
    "collapsed": false
   },
   "outputs": [
    {
     "data": {
      "text/plain": [
       "         10%i\n",
       "   log(%e    )\n",
       "Type: Expression(Complex(Integer))\n"
      ]
     },
     "execution_count": 72,
     "metadata": {},
     "output_type": "execute_result"
    }
   ],
   "source": [
    "log(%e^(10*%i))"
   ]
  },
  {
   "cell_type": "code",
   "execution_count": 73,
   "metadata": {
    "collapsed": false
   },
   "outputs": [
    {
     "data": {
      "text/plain": [
       "   10%i\n",
       "Type: Expression(Complex(Integer))\n"
      ]
     },
     "execution_count": 73,
     "metadata": {},
     "output_type": "execute_result"
    }
   ],
   "source": [
    "normalize(%)"
   ]
  },
  {
   "cell_type": "markdown",
   "metadata": {},
   "source": [
    " If z = pi, arctan(tan(z)) is not equal to z\n"
   ]
  },
  {
   "cell_type": "code",
   "execution_count": 74,
   "metadata": {
    "collapsed": false
   },
   "outputs": [
    {
     "data": {
      "text/plain": [
       "   atan(tan(z))\n",
       "Type: Expression(Integer)\n"
      ]
     },
     "execution_count": 74,
     "metadata": {},
     "output_type": "execute_result"
    }
   ],
   "source": [
    "atan(tan(z))"
   ]
  },
  {
   "cell_type": "markdown",
   "metadata": {},
   "source": [
    " If z = 2 pi i, sqrt(exp(z)) is not equal to exp(z/2)\n"
   ]
  },
  {
   "cell_type": "code",
   "execution_count": 75,
   "metadata": {
    "collapsed": false
   },
   "outputs": [
    {
     "data": {
      "text/plain": [
       "              z\n",
       "    +---+     -\n",
       "    |  z      2\n",
       "   \\|%e   - %e\n",
       "Type: Expression(Integer)\n"
      ]
     },
     "execution_count": 75,
     "metadata": {},
     "output_type": "execute_result"
    }
   ],
   "source": [
    "sqrt(%e^z) - %e^(z/2)"
   ]
  },
  {
   "cell_type": "markdown",
   "metadata": {},
   "source": [
    " ---------- Equations ----------\n",
    " Manipulate an equation using a natural syntax\n"
   ]
  },
  {
   "cell_type": "code",
   "execution_count": 76,
   "metadata": {
    "collapsed": false
   },
   "outputs": [
    {
     "data": {
      "text/plain": [
       "   x + 2\n",
       "   -----= 1\n",
       "     2\n",
       "Type: Equation(Fraction(Polynomial(Integer)))\n"
      ]
     },
     "execution_count": 76,
     "metadata": {},
     "output_type": "execute_result"
    }
   ],
   "source": [
    "(x = 0)/2 + 1"
   ]
  },
  {
   "cell_type": "markdown",
   "metadata": {},
   "source": [
    " Solve various nonlinear equations---this cubic polynomial has all real roots\n"
   ]
  },
  {
   "cell_type": "code",
   "execution_count": 77,
   "metadata": {
    "collapsed": false
   },
   "outputs": [
    {
     "name": "stdout",
     "output_type": "stream",
     "text": [
      "\n",
      "\n",
      "\n"
     ]
    },
    {
     "data": {
      "text/plain": [
       "                        +-------------+2                 +-------------+\n",
       "                        | +-+    +---+                   | +-+    +---+\n",
       "            +---+       |\\|3  + \\|- 1        +---+       |\\|3  + \\|- 1\n",
       "       (- 3\\|- 3  + 3)  |-------------  + (6\\|- 3  + 6)  |------------- - 2\n",
       "                       3|      +-+                      3|      +-+\n",
       "                       \\|    6\\|3                       \\|    6\\|3\n",
       "   [x= --------------------------------------------------------------------,\n",
       "                                          +-------------+\n",
       "                                          | +-+    +---+\n",
       "                              +---+       |\\|3  + \\|- 1\n",
       "                           (3\\|- 3  + 3)  |-------------\n",
       "                                         3|      +-+\n",
       "                                         \\|    6\\|3\n",
       "                        +-------------+2                 +-------------+\n",
       "                        | +-+    +---+                   | +-+    +---+\n",
       "            +---+       |\\|3  + \\|- 1        +---+       |\\|3  + \\|- 1\n",
       "       (- 3\\|- 3  - 3)  |-------------  + (6\\|- 3  - 6)  |------------- + 2\n",
       "                       3|      +-+                      3|      +-+\n",
       "                       \\|    6\\|3                       \\|    6\\|3\n",
       "    x= --------------------------------------------------------------------,\n",
       "                                          +-------------+\n",
       "                                          | +-+    +---+\n",
       "                              +---+       |\\|3  + \\|- 1\n",
       "                           (3\\|- 3  - 3)  |-------------\n",
       "                                         3|      +-+\n",
       "                                         \\|    6\\|3\n",
       "          +-------------+2     +-------------+\n",
       "          | +-+    +---+       | +-+    +---+\n",
       "          |\\|3  + \\|- 1        |\\|3  + \\|- 1\n",
       "       3  |-------------  + 6  |------------- + 1\n",
       "         3|      +-+          3|      +-+\n",
       "         \\|    6\\|3           \\|    6\\|3\n",
       "    x= ------------------------------------------]\n",
       "                       +-------------+\n",
       "                       | +-+    +---+\n",
       "                       |\\|3  + \\|- 1\n",
       "                    3  |-------------\n",
       "                      3|      +-+\n",
       "                      \\|    6\\|3\n",
       "Type: List(Equation(Expression(Integer)))\n"
      ]
     },
     "execution_count": 77,
     "metadata": {},
     "output_type": "execute_result"
    }
   ],
   "source": [
    "radicalSolve(3*x^3 - 18*x^2 + 33*x - 19 = 0, x)"
   ]
  },
  {
   "cell_type": "code",
   "execution_count": 78,
   "metadata": {
    "collapsed": false
   },
   "outputs": [
    {
     "name": "stdout",
     "output_type": "stream",
     "text": [
      "   Compiling function rectform with type Expression(Integer) -> \n",
      "      Expression(Complex(Integer)) \n",
      "                              \n",
      "                              \n",
      "                      \n"
     ]
    },
    {
     "data": {
      "text/plain": [
       "   [\n",
       "     x =\n",
       "                                    1     2\n",
       "                          2atan(--------)\n",
       "                                 +-+\n",
       "             +-+                \\|3  + 2\n",
       "           (\\|3  - %i)sin(---------------)\n",
       "                                 3\n",
       "         + \n",
       "                                         1                            1\n",
       "                               2atan(--------)              2atan(--------)\n",
       "                                      +-+                          +-+\n",
       "                   +-+               \\|3  + 2       +-+           \\|3  + 2\n",
       "           ((- 2%i\\|3  - 2)cos(---------------) + 4\\|3 )sin(---------------)\n",
       "                                      3                            3\n",
       "         + \n",
       "                                      1     2                        1\n",
       "                            2atan(--------)                2atan(--------)\n",
       "                                   +-+                            +-+\n",
       "               +-+                \\|3  + 2          +-+          \\|3  + 2\n",
       "           (- \\|3  + %i)cos(---------------)  - 4%i\\|3 cos(---------------)\n",
       "                                   3                              3\n",
       "         + \n",
       "            +-+\n",
       "           \\|3  + %i\n",
       "      /\n",
       "                            1                             1\n",
       "                  2atan(--------)               2atan(--------)\n",
       "                         +-+                           +-+\n",
       "           +-+          \\|3  + 2         +-+          \\|3  + 2\n",
       "         2\\|3 sin(---------------) - 2%i\\|3 cos(---------------)\n",
       "                         3                             3\n",
       "     ,\n",
       "\n",
       "     x =\n",
       "                                      1     2\n",
       "                            2atan(--------)\n",
       "                                   +-+\n",
       "               +-+                \\|3  + 2\n",
       "           (- \\|3  - %i)sin(---------------)\n",
       "                                   3\n",
       "         + \n",
       "                                       1                            1\n",
       "                             2atan(--------)              2atan(--------)\n",
       "                                    +-+                          +-+\n",
       "                 +-+               \\|3  + 2       +-+           \\|3  + 2\n",
       "           ((2%i\\|3  - 2)cos(---------------) + 4\\|3 )sin(---------------)\n",
       "                                    3                            3\n",
       "         + \n",
       "                                    1     2                        1\n",
       "                          2atan(--------)                2atan(--------)\n",
       "                                 +-+                            +-+\n",
       "             +-+                \\|3  + 2          +-+          \\|3  + 2      +-+\n",
       "           (\\|3  + %i)cos(---------------)  - 4%i\\|3 cos(---------------) - \\|3\n",
       "                                 3                              3\n",
       "         + \n",
       "           %i\n",
       "      /\n",
       "                            1                             1\n",
       "                  2atan(--------)               2atan(--------)\n",
       "                         +-+                           +-+\n",
       "           +-+          \\|3  + 2         +-+          \\|3  + 2\n",
       "         2\\|3 sin(---------------) - 2%i\\|3 cos(---------------)\n",
       "                         3                             3\n",
       "     ,\n",
       "\n",
       "     x =\n",
       "                            1     2\n",
       "                  2atan(--------)\n",
       "                         +-+\n",
       "                        \\|3  + 2\n",
       "           %i sin(---------------)\n",
       "                         3\n",
       "         + \n",
       "                           1                            1\n",
       "                 2atan(--------)              2atan(--------)\n",
       "                        +-+                          +-+\n",
       "                       \\|3  + 2       +-+           \\|3  + 2\n",
       "           (2cos(---------------) + 2\\|3 )sin(---------------)\n",
       "                        3                            3\n",
       "         + \n",
       "                              1     2                        1\n",
       "                    2atan(--------)                2atan(--------)\n",
       "                           +-+                            +-+\n",
       "                          \\|3  + 2          +-+          \\|3  + 2\n",
       "           - %i cos(---------------)  - 2%i\\|3 cos(---------------) - %i\n",
       "                           3                              3\n",
       "      /\n",
       "                           1                            1\n",
       "                 2atan(--------)              2atan(--------)\n",
       "                        +-+                          +-+\n",
       "          +-+          \\|3  + 2        +-+          \\|3  + 2\n",
       "         \\|3 sin(---------------) - %i\\|3 cos(---------------)\n",
       "                        3                            3\n",
       "     ]\n",
       "Type: List(Equation(Expression(Complex(Integer))))\n"
      ]
     },
     "execution_count": 78,
     "metadata": {},
     "output_type": "execute_result"
    }
   ],
   "source": [
    "map(e +-> lhs(e) = rectform(rhs(e)), %)"
   ]
  },
  {
   "cell_type": "markdown",
   "metadata": {},
   "source": [
    " Some simple seeming problems can have messy answers\n"
   ]
  },
  {
   "cell_type": "code",
   "execution_count": 79,
   "metadata": {
    "collapsed": false
   },
   "outputs": [
    {
     "data": {
      "text/plain": [
       "    4    3    2\n",
       "   x  + x  + x  + x + 1= 0\n",
       "Type: Equation(Polynomial(Integer))\n"
      ]
     },
     "execution_count": 79,
     "metadata": {},
     "output_type": "execute_result"
    }
   ],
   "source": [
    "eqn:= x^4 + x^3 + x^2 + x + 1 = 0"
   ]
  },
  {
   "cell_type": "code",
   "execution_count": 80,
   "metadata": {
    "collapsed": false
   },
   "outputs": [
    {
     "name": "stdout",
     "output_type": "stream",
     "text": [
      "                                                                                                                                                                                                                                               \n",
      "                                                                                                                 \n",
      "                                                                                                                                                                                                                                               \n",
      "                                                                                                                 \n"
     ]
    },
    {
     "data": {
      "text/plain": [
       "   [\n",
       "     x =\n",
       "           -\n",
       "                2\n",
       "             *\n",
       "                ROOT\n",
       "                                 +-------------------+2\n",
       "                                 |     +-+      +---+\n",
       "                                 |- 25\\|3  + 45\\|- 5\n",
       "                           - 36  |-------------------\n",
       "                                3|          +-+\n",
       "                                \\|       54\\|3\n",
       "                         + \n",
       "                                 +-------------------+\n",
       "                                 |     +-+      +---+\n",
       "                                 |- 25\\|3  + 45\\|- 5\n",
       "                           - 30  |------------------- - 40\n",
       "                                3|          +-+\n",
       "                                \\|       54\\|3\n",
       "                      *\n",
       "                         ROOT\n",
       "                                    +-------------------+2\n",
       "                                    |     +-+      +---+\n",
       "                                    |- 25\\|3  + 45\\|- 5\n",
       "                                36  |-------------------\n",
       "                                   3|          +-+\n",
       "                                   \\|       54\\|3\n",
       "                              + \n",
       "                                      +-------------------+\n",
       "                                      |     +-+      +---+\n",
       "                                      |- 25\\|3  + 45\\|- 5\n",
       "                                - 15  |------------------- + 40\n",
       "                                     3|          +-+\n",
       "                                     \\|       54\\|3\n",
       "                           /\n",
       "                                  +-------------------+\n",
       "                                  |     +-+      +---+\n",
       "                                  |- 25\\|3  + 45\\|- 5\n",
       "                              36  |-------------------\n",
       "                                 3|          +-+\n",
       "                                 \\|       54\\|3\n",
       "                     + \n",
       "                             +-------------------+\n",
       "                             |     +-+      +---+\n",
       "                             |- 25\\|3  + 45\\|- 5\n",
       "                       - 45  |-------------------\n",
       "                            3|          +-+\n",
       "                            \\|       54\\|3\n",
       "                  /\n",
       "                           +-------------------+\n",
       "                           |     +-+      +---+\n",
       "                           |- 25\\|3  + 45\\|- 5\n",
       "                       36  |-------------------\n",
       "                          3|          +-+\n",
       "                          \\|       54\\|3\n",
       "                    *\n",
       "                       ROOT\n",
       "                                  +-------------------+2\n",
       "                                  |     +-+      +---+\n",
       "                                  |- 25\\|3  + 45\\|- 5\n",
       "                              36  |-------------------\n",
       "                                 3|          +-+\n",
       "                                 \\|       54\\|3\n",
       "                            + \n",
       "                                    +-------------------+\n",
       "                                    |     +-+      +---+\n",
       "                                    |- 25\\|3  + 45\\|- 5\n",
       "                              - 15  |------------------- + 40\n",
       "                                   3|          +-+\n",
       "                                   \\|       54\\|3\n",
       "                         /\n",
       "                                +-------------------+\n",
       "                                |     +-+      +---+\n",
       "                                |- 25\\|3  + 45\\|- 5\n",
       "                            36  |-------------------\n",
       "                               3|          +-+\n",
       "                               \\|       54\\|3\n",
       "         + \n",
       "             +---------------------------------------------------------+\n",
       "             |    +-------------------+2      +-------------------+\n",
       "             |    |     +-+      +---+        |     +-+      +---+\n",
       "             |    |- 25\\|3  + 45\\|- 5         |- 25\\|3  + 45\\|- 5\n",
       "             |36  |-------------------  - 15  |------------------- + 40\n",
       "             |   3|          +-+             3|          +-+\n",
       "             |   \\|       54\\|3              \\|       54\\|3\n",
       "           2 |---------------------------------------------------------  - 1\n",
       "             |                     +-------------------+\n",
       "             |                     |     +-+      +---+\n",
       "             |                     |- 25\\|3  + 45\\|- 5\n",
       "             |                 36  |-------------------\n",
       "             |                    3|          +-+\n",
       "            \\|                    \\|       54\\|3\n",
       "      /\n",
       "         4\n",
       "     ,\n",
       "\n",
       "     x =\n",
       "             2\n",
       "          *\n",
       "             ROOT\n",
       "                              +-------------------+2      +-------------------+\n",
       "                              |     +-+      +---+        |     +-+      +---+\n",
       "                              |- 25\\|3  + 45\\|- 5         |- 25\\|3  + 45\\|- 5\n",
       "                        - 36  |-------------------  - 30  |-------------------\n",
       "                             3|          +-+             3|          +-+\n",
       "                             \\|       54\\|3              \\|       54\\|3\n",
       "                      + \n",
       "                        - 40\n",
       "                   *\n",
       "                     +---------------------------------------------------------+\n",
       "                     |    +-------------------+2      +-------------------+\n",
       "                     |    |     +-+      +---+        |     +-+      +---+\n",
       "                     |    |- 25\\|3  + 45\\|- 5         |- 25\\|3  + 45\\|- 5\n",
       "                     |36  |-------------------  - 15  |------------------- + 40\n",
       "                     |   3|          +-+             3|          +-+\n",
       "                     |   \\|       54\\|3              \\|       54\\|3\n",
       "                     |---------------------------------------------------------\n",
       "                     |                     +-------------------+\n",
       "                     |                     |     +-+      +---+\n",
       "                     |                     |- 25\\|3  + 45\\|- 5\n",
       "                     |                 36  |-------------------\n",
       "                     |                    3|          +-+\n",
       "                    \\|                    \\|       54\\|3\n",
       "                  + \n",
       "                          +-------------------+\n",
       "                          |     +-+      +---+\n",
       "                          |- 25\\|3  + 45\\|- 5\n",
       "                    - 45  |-------------------\n",
       "                         3|          +-+\n",
       "                         \\|       54\\|3\n",
       "               /\n",
       "                        +-------------------+\n",
       "                        |     +-+      +---+\n",
       "                        |- 25\\|3  + 45\\|- 5\n",
       "                    36  |-------------------\n",
       "                       3|          +-+\n",
       "                       \\|       54\\|3\n",
       "                 *\n",
       "                   +---------------------------------------------------------+\n",
       "                   |    +-------------------+2      +-------------------+\n",
       "                   |    |     +-+      +---+        |     +-+      +---+\n",
       "                   |    |- 25\\|3  + 45\\|- 5         |- 25\\|3  + 45\\|- 5\n",
       "                   |36  |-------------------  - 15  |------------------- + 40\n",
       "                   |   3|          +-+             3|          +-+\n",
       "                   |   \\|       54\\|3              \\|       54\\|3\n",
       "                   |---------------------------------------------------------\n",
       "                   |                     +-------------------+\n",
       "                   |                     |     +-+      +---+\n",
       "                   |                     |- 25\\|3  + 45\\|- 5\n",
       "                   |                 36  |-------------------\n",
       "                   |                    3|          +-+\n",
       "                  \\|                    \\|       54\\|3\n",
       "         + \n",
       "             +---------------------------------------------------------+\n",
       "             |    +-------------------+2      +-------------------+\n",
       "             |    |     +-+      +---+        |     +-+      +---+\n",
       "             |    |- 25\\|3  + 45\\|- 5         |- 25\\|3  + 45\\|- 5\n",
       "             |36  |-------------------  - 15  |------------------- + 40\n",
       "             |   3|          +-+             3|          +-+\n",
       "             |   \\|       54\\|3              \\|       54\\|3\n",
       "           2 |---------------------------------------------------------  - 1\n",
       "             |                     +-------------------+\n",
       "             |                     |     +-+      +---+\n",
       "             |                     |- 25\\|3  + 45\\|- 5\n",
       "             |                 36  |-------------------\n",
       "             |                    3|          +-+\n",
       "            \\|                    \\|       54\\|3\n",
       "      /\n",
       "         4\n",
       "     ,\n",
       "\n",
       "     x =\n",
       "           -\n",
       "                2\n",
       "             *\n",
       "                ROOT\n",
       "                                 +-------------------+2\n",
       "                                 |     +-+      +---+\n",
       "                                 |- 25\\|3  + 45\\|- 5\n",
       "                           - 36  |-------------------\n",
       "                                3|          +-+\n",
       "                                \\|       54\\|3\n",
       "                         + \n",
       "                                 +-------------------+\n",
       "                                 |     +-+      +---+\n",
       "                                 |- 25\\|3  + 45\\|- 5\n",
       "                           - 30  |------------------- - 40\n",
       "                                3|          +-+\n",
       "                                \\|       54\\|3\n",
       "                      *\n",
       "                         ROOT\n",
       "                                    +-------------------+2\n",
       "                                    |     +-+      +---+\n",
       "                                    |- 25\\|3  + 45\\|- 5\n",
       "                                36  |-------------------\n",
       "                                   3|          +-+\n",
       "                                   \\|       54\\|3\n",
       "                              + \n",
       "                                      +-------------------+\n",
       "                                      |     +-+      +---+\n",
       "                                      |- 25\\|3  + 45\\|- 5\n",
       "                                - 15  |------------------- + 40\n",
       "                                     3|          +-+\n",
       "                                     \\|       54\\|3\n",
       "                           /\n",
       "                                  +-------------------+\n",
       "                                  |     +-+      +---+\n",
       "                                  |- 25\\|3  + 45\\|- 5\n",
       "                              36  |-------------------\n",
       "                                 3|          +-+\n",
       "                                 \\|       54\\|3\n",
       "                     + \n",
       "                           +-------------------+\n",
       "                           |     +-+      +---+\n",
       "                           |- 25\\|3  + 45\\|- 5\n",
       "                       45  |-------------------\n",
       "                          3|          +-+\n",
       "                          \\|       54\\|3\n",
       "                  /\n",
       "                           +-------------------+\n",
       "                           |     +-+      +---+\n",
       "                           |- 25\\|3  + 45\\|- 5\n",
       "                       36  |-------------------\n",
       "                          3|          +-+\n",
       "                          \\|       54\\|3\n",
       "                    *\n",
       "                       ROOT\n",
       "                                  +-------------------+2\n",
       "                                  |     +-+      +---+\n",
       "                                  |- 25\\|3  + 45\\|- 5\n",
       "                              36  |-------------------\n",
       "                                 3|          +-+\n",
       "                                 \\|       54\\|3\n",
       "                            + \n",
       "                                    +-------------------+\n",
       "                                    |     +-+      +---+\n",
       "                                    |- 25\\|3  + 45\\|- 5\n",
       "                              - 15  |------------------- + 40\n",
       "                                   3|          +-+\n",
       "                                   \\|       54\\|3\n",
       "                         /\n",
       "                                +-------------------+\n",
       "                                |     +-+      +---+\n",
       "                                |- 25\\|3  + 45\\|- 5\n",
       "                            36  |-------------------\n",
       "                               3|          +-+\n",
       "                               \\|       54\\|3\n",
       "         + \n",
       "               +---------------------------------------------------------+\n",
       "               |    +-------------------+2      +-------------------+\n",
       "               |    |     +-+      +---+        |     +-+      +---+\n",
       "               |    |- 25\\|3  + 45\\|- 5         |- 25\\|3  + 45\\|- 5\n",
       "               |36  |-------------------  - 15  |------------------- + 40\n",
       "               |   3|          +-+             3|          +-+\n",
       "               |   \\|       54\\|3              \\|       54\\|3\n",
       "           - 2 |---------------------------------------------------------  - 1\n",
       "               |                     +-------------------+\n",
       "               |                     |     +-+      +---+\n",
       "               |                     |- 25\\|3  + 45\\|- 5\n",
       "               |                 36  |-------------------\n",
       "               |                    3|          +-+\n",
       "              \\|                    \\|       54\\|3\n",
       "      /\n",
       "         4\n",
       "     ,\n",
       "\n",
       "     x =\n",
       "             2\n",
       "          *\n",
       "             ROOT\n",
       "                              +-------------------+2      +-------------------+\n",
       "                              |     +-+      +---+        |     +-+      +---+\n",
       "                              |- 25\\|3  + 45\\|- 5         |- 25\\|3  + 45\\|- 5\n",
       "                        - 36  |-------------------  - 30  |-------------------\n",
       "                             3|          +-+             3|          +-+\n",
       "                             \\|       54\\|3              \\|       54\\|3\n",
       "                      + \n",
       "                        - 40\n",
       "                   *\n",
       "                     +---------------------------------------------------------+\n",
       "                     |    +-------------------+2      +-------------------+\n",
       "                     |    |     +-+      +---+        |     +-+      +---+\n",
       "                     |    |- 25\\|3  + 45\\|- 5         |- 25\\|3  + 45\\|- 5\n",
       "                     |36  |-------------------  - 15  |------------------- + 40\n",
       "                     |   3|          +-+             3|          +-+\n",
       "                     |   \\|       54\\|3              \\|       54\\|3\n",
       "                     |---------------------------------------------------------\n",
       "                     |                     +-------------------+\n",
       "                     |                     |     +-+      +---+\n",
       "                     |                     |- 25\\|3  + 45\\|- 5\n",
       "                     |                 36  |-------------------\n",
       "                     |                    3|          +-+\n",
       "                    \\|                    \\|       54\\|3\n",
       "                  + \n",
       "                        +-------------------+\n",
       "                        |     +-+      +---+\n",
       "                        |- 25\\|3  + 45\\|- 5\n",
       "                    45  |-------------------\n",
       "                       3|          +-+\n",
       "                       \\|       54\\|3\n",
       "               /\n",
       "                        +-------------------+\n",
       "                        |     +-+      +---+\n",
       "                        |- 25\\|3  + 45\\|- 5\n",
       "                    36  |-------------------\n",
       "                       3|          +-+\n",
       "                       \\|       54\\|3\n",
       "                 *\n",
       "                   +---------------------------------------------------------+\n",
       "                   |    +-------------------+2      +-------------------+\n",
       "                   |    |     +-+      +---+        |     +-+      +---+\n",
       "                   |    |- 25\\|3  + 45\\|- 5         |- 25\\|3  + 45\\|- 5\n",
       "                   |36  |-------------------  - 15  |------------------- + 40\n",
       "                   |   3|          +-+             3|          +-+\n",
       "                   |   \\|       54\\|3              \\|       54\\|3\n",
       "                   |---------------------------------------------------------\n",
       "                   |                     +-------------------+\n",
       "                   |                     |     +-+      +---+\n",
       "                   |                     |- 25\\|3  + 45\\|- 5\n",
       "                   |                 36  |-------------------\n",
       "                   |                    3|          +-+\n",
       "                  \\|                    \\|       54\\|3\n",
       "         + \n",
       "               +---------------------------------------------------------+\n",
       "               |    +-------------------+2      +-------------------+\n",
       "               |    |     +-+      +---+        |     +-+      +---+\n",
       "               |    |- 25\\|3  + 45\\|- 5         |- 25\\|3  + 45\\|- 5\n",
       "               |36  |-------------------  - 15  |------------------- + 40\n",
       "               |   3|          +-+             3|          +-+\n",
       "               |   \\|       54\\|3              \\|       54\\|3\n",
       "           - 2 |---------------------------------------------------------  - 1\n",
       "               |                     +-------------------+\n",
       "               |                     |     +-+      +---+\n",
       "               |                     |- 25\\|3  + 45\\|- 5\n",
       "               |                 36  |-------------------\n",
       "               |                    3|          +-+\n",
       "              \\|                    \\|       54\\|3\n",
       "      /\n",
       "         4\n",
       "     ]\n",
       "Type: List(Equation(Expression(Integer)))\n"
      ]
     },
     "execution_count": 80,
     "metadata": {},
     "output_type": "execute_result"
    }
   ],
   "source": [
    "radicalSolve(eqn, x)"
   ]
  },
  {
   "cell_type": "markdown",
   "metadata": {},
   "source": [
    " Check one of the answers\n"
   ]
  },
  {
   "cell_type": "code",
   "execution_count": 81,
   "metadata": {
    "collapsed": false
   },
   "outputs": [
    {
     "data": {
      "text/plain": [
       "   0= 0\n",
       "Type: Equation(Expression(Integer))\n"
      ]
     },
     "execution_count": 81,
     "metadata": {},
     "output_type": "execute_result"
    }
   ],
   "source": [
    "eval(eqn, %.1)"
   ]
  },
  {
   "cell_type": "code",
   "execution_count": 82,
   "metadata": {
    "collapsed": false
   },
   "outputs": [
    {
     "data": {
      "text/plain": [
       "     2x      x\n",
       "   %e   + 2%e  + 1= z\n",
       "Type: Equation(Expression(Integer))\n"
      ]
     },
     "execution_count": 82,
     "metadata": {},
     "output_type": "execute_result"
    }
   ],
   "source": [
    "%e^(2*x) + 2*%e^x + 1 = z"
   ]
  },
  {
   "cell_type": "code",
   "execution_count": 83,
   "metadata": {
    "collapsed": false
   },
   "outputs": [
    {
     "data": {
      "text/plain": [
       "            +-+                +-+\n",
       "   [x= log(\\|z  - 1),x= log(- \\|z  - 1)]\n",
       "Type: List(Equation(Expression(Integer)))\n"
      ]
     },
     "execution_count": 83,
     "metadata": {},
     "output_type": "execute_result"
    }
   ],
   "source": [
    "solve(%, x)"
   ]
  },
  {
   "cell_type": "markdown",
   "metadata": {},
   "source": [
    " This equation is already factored and so *should* be easy to solve\n"
   ]
  },
  {
   "cell_type": "code",
   "execution_count": 84,
   "metadata": {
    "collapsed": false
   },
   "outputs": [
    {
     "data": {
      "text/plain": [
       "                 3      4                  3      2                 3\n",
       "   (x + 1)cos(3x) sin(x)  + (2x + 2)cos(3x) sin(x)  + (x + 1)cos(3x) = 0\n",
       "Type: Equation(Expression(Integer))\n"
      ]
     },
     "execution_count": 84,
     "metadata": {},
     "output_type": "execute_result"
    }
   ],
   "source": [
    "(x + 1) * (sin(x)^2 + 1)^2 * cos(3*x)^3 = 0"
   ]
  },
  {
   "cell_type": "code",
   "execution_count": 85,
   "metadata": {
    "collapsed": false
   },
   "outputs": [
    {
     "data": {
      "text/plain": [
       "             +---+             +---+     %pi\n",
       "   [x= asin(\\|- 1 ),x= - asin(\\|- 1 ),x= ---,x= - 1]\n",
       "                                          6\n",
       "Type: List(Equation(Expression(Integer)))\n"
      ]
     },
     "execution_count": 85,
     "metadata": {},
     "output_type": "execute_result"
    }
   ],
   "source": [
    "solve(%, x)"
   ]
  },
  {
   "cell_type": "markdown",
   "metadata": {},
   "source": [
    " The following equations have an infinite number of solutions (let n be an\n",
    " arbitrary integer): z = 0 [+ n 2 pi i]\n"
   ]
  },
  {
   "cell_type": "code",
   "execution_count": 86,
   "metadata": {
    "collapsed": false
   },
   "outputs": [
    {
     "data": {
      "text/plain": [
       "   [z= 0]\n",
       "Type: List(Equation(Expression(Integer)))\n"
      ]
     },
     "execution_count": 86,
     "metadata": {},
     "output_type": "execute_result"
    }
   ],
   "source": [
    "solve(%e^z = 1, z)"
   ]
  },
  {
   "cell_type": "markdown",
   "metadata": {},
   "source": [
    " x = pi/4 [+ n pi]\n"
   ]
  },
  {
   "cell_type": "code",
   "execution_count": 87,
   "metadata": {
    "collapsed": false
   },
   "outputs": [
    {
     "data": {
      "text/plain": [
       "       %pi\n",
       "   [x= ---]\n",
       "        4\n",
       "Type: List(Equation(Expression(Integer)))\n"
      ]
     },
     "execution_count": 87,
     "metadata": {},
     "output_type": "execute_result"
    }
   ],
   "source": [
    "solve(sin(x) = cos(x), x)"
   ]
  },
  {
   "cell_type": "code",
   "execution_count": 88,
   "metadata": {
    "collapsed": false
   },
   "outputs": [
    {
     "data": {
      "text/plain": [
       "       %pi\n",
       "   [x= ---]\n",
       "        4\n",
       "Type: List(Equation(Expression(Integer)))\n"
      ]
     },
     "execution_count": 88,
     "metadata": {},
     "output_type": "execute_result"
    }
   ],
   "source": [
    "solve(tan(x) = 1, x)"
   ]
  },
  {
   "cell_type": "markdown",
   "metadata": {},
   "source": [
    " x = 0, 0 [+ n pi, + n 2 pi]\n"
   ]
  },
  {
   "cell_type": "code",
   "execution_count": 89,
   "metadata": {
    "collapsed": false
   },
   "outputs": [
    {
     "data": {
      "text/plain": [
       "   [x= 0]\n",
       "Type: List(Equation(Expression(Integer)))\n"
      ]
     },
     "execution_count": 89,
     "metadata": {},
     "output_type": "execute_result"
    }
   ],
   "source": [
    "solve(sin(x) = tan(x), x)"
   ]
  },
  {
   "cell_type": "markdown",
   "metadata": {},
   "source": [
    " This equation has no solutions\n"
   ]
  },
  {
   "cell_type": "code",
   "execution_count": 90,
   "metadata": {
    "collapsed": false
   },
   "outputs": [
    {
     "data": {
      "text/plain": [
       "   []\n",
       "Type: List(Equation(Expression(Integer)))\n"
      ]
     },
     "execution_count": 90,
     "metadata": {},
     "output_type": "execute_result"
    }
   ],
   "source": [
    "solve(sqrt(x^2 + 1) = x - 2, x)"
   ]
  },
  {
   "cell_type": "markdown",
   "metadata": {},
   "source": [
    " Solve a system of linear equations\n"
   ]
  },
  {
   "cell_type": "code",
   "execution_count": 91,
   "metadata": {
    "collapsed": false
   },
   "outputs": [
    {
     "data": {
      "text/plain": [
       "   z + y + x= 6\n",
       "Type: Equation(Polynomial(Integer))\n"
      ]
     },
     "execution_count": 91,
     "metadata": {},
     "output_type": "execute_result"
    }
   ],
   "source": [
    "eq1:=   x +   y +   z =  6"
   ]
  },
  {
   "cell_type": "code",
   "execution_count": 92,
   "metadata": {
    "collapsed": false
   },
   "outputs": [
    {
     "data": {
      "text/plain": [
       "   2z + y + 2x= 10\n",
       "Type: Equation(Polynomial(Integer))\n"
      ]
     },
     "execution_count": 92,
     "metadata": {},
     "output_type": "execute_result"
    }
   ],
   "source": [
    "eq2:= 2*x +   y + 2*z = 10"
   ]
  },
  {
   "cell_type": "code",
   "execution_count": 93,
   "metadata": {
    "collapsed": false
   },
   "outputs": [
    {
     "data": {
      "text/plain": [
       "   z + 3y + x= 10\n",
       "Type: Equation(Polynomial(Integer))\n"
      ]
     },
     "execution_count": 93,
     "metadata": {},
     "output_type": "execute_result"
    }
   ],
   "source": [
    "eq3:=   x + 3*y +   z = 10"
   ]
  },
  {
   "cell_type": "markdown",
   "metadata": {},
   "source": [
    " Note that the solution is parametric\n"
   ]
  },
  {
   "cell_type": "code",
   "execution_count": 94,
   "metadata": {
    "collapsed": false
   },
   "outputs": [
    {
     "data": {
      "text/plain": [
       "   [[x= - %BU + 4,y= 2,z= %BU]]\n",
       "Type: List(List(Equation(Fraction(Polynomial(Integer)))))\n"
      ]
     },
     "execution_count": 94,
     "metadata": {},
     "output_type": "execute_result"
    }
   ],
   "source": [
    "solve([eq1, eq2, eq3], [x, y, z])"
   ]
  },
  {
   "cell_type": "markdown",
   "metadata": {},
   "source": [
    " Solve a system of nonlinear equations\n"
   ]
  },
  {
   "cell_type": "code",
   "execution_count": 95,
   "metadata": {
    "collapsed": false
   },
   "outputs": [
    {
     "data": {
      "text/plain": [
       "           2\n",
       "   3y z + x y - 4= 0\n",
       "Type: Equation(Polynomial(Integer))\n"
      ]
     },
     "execution_count": 95,
     "metadata": {},
     "output_type": "execute_result"
    }
   ],
   "source": [
    "eq1:= x^2*y + 3*y*z - 4 = 0"
   ]
  },
  {
   "cell_type": "code",
   "execution_count": 96,
   "metadata": {
    "collapsed": false
   },
   "outputs": [
    {
     "data": {
      "text/plain": [
       "       2      2\n",
       "   - 3x z + 2y  + 1= 0\n",
       "Type: Equation(Polynomial(Integer))\n"
      ]
     },
     "execution_count": 96,
     "metadata": {},
     "output_type": "execute_result"
    }
   ],
   "source": [
    "eq2:= -3*x^2*z + 2*y^2 + 1 = 0"
   ]
  },
  {
   "cell_type": "code",
   "execution_count": 97,
   "metadata": {
    "collapsed": false
   },
   "outputs": [
    {
     "data": {
      "text/plain": [
       "            2\n",
       "   (2y - 1)z  - 1= 0\n",
       "Type: Equation(Polynomial(Integer))\n"
      ]
     },
     "execution_count": 97,
     "metadata": {},
     "output_type": "execute_result"
    }
   ],
   "source": [
    "eq3:= 2*y*z^2 - z^2 - 1 = 0"
   ]
  },
  {
   "cell_type": "markdown",
   "metadata": {},
   "source": [
    " Solving this by hand would be a nightmare\n"
   ]
  },
  {
   "cell_type": "code",
   "execution_count": 98,
   "metadata": {
    "collapsed": false
   },
   "outputs": [
    {
     "name": "stdout",
     "output_type": "stream",
     "text": [
      "\n",
      "\n",
      "\n",
      "\n",
      "\n"
     ]
    },
    {
     "data": {
      "text/plain": [
       "   [[x= 1,y= 1,z= 1], [x= - 1,y= 1,z= 1],\n",
       "             2                      2\n",
       "    [- 3z + x  + 2= 0,y= - 3z + 1,3z  - 2z + 1= 0],\n",
       "\n",
       "                                                4      3      2\n",
       "         4      3      2          2        - 18z  + 24z  + 21z  + 12z + 3\n",
       "     [12z  - 12z  - 30z  + 7z + 3x = 0, y= ------------------------------,\n",
       "                                                          2\n",
       "        5     4     3     2\n",
       "      6z  - 6z  - 9z  - 7z  - 3z - 1= 0]\n",
       "     ]\n",
       "Type: List(List(Equation(Fraction(Polynomial(Integer)))))\n"
      ]
     },
     "execution_count": 98,
     "metadata": {},
     "output_type": "execute_result"
    }
   ],
   "source": [
    "solve([eq1, eq2, eq3], [x, y, z])"
   ]
  },
  {
   "cell_type": "markdown",
   "metadata": {},
   "source": [
    " ---------- Matrix Algebra ----------\n"
   ]
  },
  {
   "cell_type": "code",
   "execution_count": 99,
   "metadata": {
    "collapsed": false
   },
   "outputs": [
    {
     "data": {
      "text/plain": [
       "   +a   b +\n",
       "   |      |\n",
       "   +1  a b+\n",
       "Type: Matrix(Polynomial(Integer))\n"
      ]
     },
     "execution_count": 99,
     "metadata": {},
     "output_type": "execute_result"
    }
   ],
   "source": [
    "m:= matrix([[a, b], [1, a*b]])"
   ]
  },
  {
   "cell_type": "markdown",
   "metadata": {},
   "source": [
    " Invert the matrix\n"
   ]
  },
  {
   "cell_type": "code",
   "execution_count": 100,
   "metadata": {
    "collapsed": false
   },
   "outputs": [
    {
     "data": {
      "text/plain": [
       "   +     a            1   +\n",
       "   |  ------     - ------ |\n",
       "   |   2            2     |\n",
       "   |  a  - 1       a  - 1 |\n",
       "   |                      |\n",
       "   |      1          a    |\n",
       "   |- ---------  ---------|\n",
       "   |    2          2      |\n",
       "   +  (a  - 1)b  (a  - 1)b+\n",
       "Type: Union(Matrix(Fraction(Polynomial(Integer))),...)\n"
      ]
     },
     "execution_count": 100,
     "metadata": {},
     "output_type": "execute_result"
    }
   ],
   "source": [
    "minv:= inverse(m)"
   ]
  },
  {
   "cell_type": "code",
   "execution_count": 101,
   "metadata": {
    "collapsed": false
   },
   "outputs": [
    {
     "data": {
      "text/plain": [
       "   +1  0+\n",
       "   |    |\n",
       "   +0  1+\n",
       "Type: Matrix(Fraction(Polynomial(Integer)))\n"
      ]
     },
     "execution_count": 101,
     "metadata": {},
     "output_type": "execute_result"
    }
   ],
   "source": [
    "m * minv"
   ]
  },
  {
   "cell_type": "markdown",
   "metadata": {},
   "source": [
    " Define a Vandermonde matrix (useful for doing polynomial interpolations)\n"
   ]
  },
  {
   "cell_type": "code",
   "execution_count": 102,
   "metadata": {
    "collapsed": false
   },
   "outputs": [
    {
     "data": {
      "text/plain": [
       "   +1   1   1   1 +\n",
       "   |              |\n",
       "   |w   x   y   z |\n",
       "   |              |\n",
       "   | 2   2   2   2|\n",
       "   |w   x   y   z |\n",
       "   |              |\n",
       "   | 3   3   3   3|\n",
       "   +w   x   y   z +\n",
       "Type: Matrix(Polynomial(Integer))\n"
      ]
     },
     "execution_count": 102,
     "metadata": {},
     "output_type": "execute_result"
    }
   ],
   "source": [
    "matrix([[1,    1,    1,    1   ], _\n",
    "        [w,    x,    y,    z   ], _\n",
    "        [w^2, x^2, y^2, z^2], _\n",
    "        [w^3, x^3, y^3, z^3]])\n"
   ]
  },
  {
   "cell_type": "code",
   "execution_count": 103,
   "metadata": {
    "collapsed": false
   },
   "outputs": [
    {
     "name": "stdout",
     "output_type": "stream",
     "text": [
      "      "
     ]
    },
    {
     "data": {
      "text/plain": [
       "              2       2    2        2    2   3\n",
       "     ((x - w)y  + (- x  + w )y + w x  - w x)z\n",
       "   + \n",
       "                3     3    3        3    3   2\n",
       "     ((- x + w)y  + (x  - w )y - w x  + w x)z\n",
       "   + \n",
       "        2    2  3       3    3  2    2 3    3 2           2    2   3\n",
       "     ((x  - w )y  + (- x  + w )y  + w x  - w x )z + (- w x  + w x)y\n",
       "   + \n",
       "         3    3   2       2 3    3 2\n",
       "     (w x  - w x)y  + (- w x  + w x )y\n",
       "Type: Polynomial(Integer)\n"
      ]
     },
     "execution_count": 103,
     "metadata": {},
     "output_type": "execute_result"
    }
   ],
   "source": [
    "determinant(%)"
   ]
  },
  {
   "cell_type": "markdown",
   "metadata": {},
   "source": [
    " The following formula implies a general result\n"
   ]
  },
  {
   "cell_type": "code",
   "execution_count": 104,
   "metadata": {
    "collapsed": false
   },
   "outputs": [
    {
     "data": {
      "text/plain": [
       "   (x - w)(y - x)(y - w)(z - y)(z - x)(z - w)\n",
       "Type: Factored(Polynomial(Integer))\n"
      ]
     },
     "execution_count": 104,
     "metadata": {},
     "output_type": "execute_result"
    }
   ],
   "source": [
    "factor(%)"
   ]
  },
  {
   "cell_type": "markdown",
   "metadata": {},
   "source": [
    " Compute the eigenvalues of a matrix from its characteristic polynomial\n"
   ]
  },
  {
   "cell_type": "code",
   "execution_count": 105,
   "metadata": {
    "collapsed": false
   },
   "outputs": [
    {
     "data": {
      "text/plain": [
       "   + 5   - 3  - 7+\n",
       "   |             |\n",
       "   |- 2   1    2 |\n",
       "   |             |\n",
       "   + 2   - 3  - 4+\n",
       "Type: Matrix(Integer)\n"
      ]
     },
     "execution_count": 105,
     "metadata": {},
     "output_type": "execute_result"
    }
   ],
   "source": [
    "m:= matrix([[ 5, -3, -7], _\n",
    "            [-2,  1,  2], _\n",
    "            [ 2, -3, -4]])\n"
   ]
  },
  {
   "cell_type": "code",
   "execution_count": 106,
   "metadata": {
    "collapsed": false
   },
   "outputs": [
    {
     "data": {
      "text/plain": [
       "           3          2\n",
       "   - lambda  + 2lambda  + 5lambda - 6\n",
       "Type: Polynomial(Integer)\n"
      ]
     },
     "execution_count": 106,
     "metadata": {},
     "output_type": "execute_result"
    }
   ],
   "source": [
    "characteristicPolynomial(m, lambda)"
   ]
  },
  {
   "cell_type": "code",
   "execution_count": 107,
   "metadata": {
    "collapsed": false
   },
   "outputs": [
    {
     "data": {
      "text/plain": [
       "   [lambda= 3,lambda= 1,lambda= - 2]\n",
       "Type: List(Equation(Fraction(Polynomial(Integer))))\n"
      ]
     },
     "execution_count": 107,
     "metadata": {},
     "output_type": "execute_result"
    }
   ],
   "source": [
    "solve(% = 0, lambda)"
   ]
  },
  {
   "cell_type": "markdown",
   "metadata": {},
   "source": [
    " ---------- Tensors ----------\n",
    " ---------- Sums and Products ----------\n",
    " Sums: finite and infinite\n"
   ]
  },
  {
   "cell_type": "code",
   "execution_count": 108,
   "metadata": {
    "collapsed": false
   },
   "outputs": [
    {
     "data": {
      "text/plain": [
       "    n\n",
       "   --+    3\n",
       "   >     k\n",
       "   --+\n",
       "   k= 1\n",
       "Type: Expression(Integer)\n"
      ]
     },
     "execution_count": 108,
     "metadata": {},
     "output_type": "execute_result"
    }
   ],
   "source": [
    "summation(k^3, k = 1..n)"
   ]
  },
  {
   "cell_type": "code",
   "execution_count": 109,
   "metadata": {
    "collapsed": false
   },
   "outputs": [
    {
     "data": {
      "text/plain": [
       "    4     3    2\n",
       "   n  + 2n  + n\n",
       "   -------------\n",
       "         4\n",
       "Type: Fraction(Polynomial(Integer))\n"
      ]
     },
     "execution_count": 109,
     "metadata": {},
     "output_type": "execute_result"
    }
   ],
   "source": [
    "sum(k^3, k = 1..n)"
   ]
  },
  {
   "cell_type": "code",
   "execution_count": 110,
   "metadata": {
    "collapsed": false
   },
   "outputs": [
    {
     "data": {
      "text/plain": [
       "   \"failed\"\n",
       "Type: Union(\"failed\",...)\n"
      ]
     },
     "execution_count": 110,
     "metadata": {},
     "output_type": "execute_result"
    }
   ],
   "source": [
    "limit(sum(1/k^2 + 1/k^3, k = 1..n), n = %plusInfinity)"
   ]
  },
  {
   "cell_type": "markdown",
   "metadata": {},
   "source": [
    " Products\n"
   ]
  },
  {
   "cell_type": "code",
   "execution_count": 111,
   "metadata": {
    "collapsed": false
   },
   "outputs": [
    {
     "data": {
      "text/plain": [
       "     n\n",
       "   ++-++\n",
       "    | |   k\n",
       "    | |\n",
       "   k= 1\n",
       "Type: Expression(Integer)\n"
      ]
     },
     "execution_count": 111,
     "metadata": {},
     "output_type": "execute_result"
    }
   ],
   "source": [
    "product(k, k = 1..n)"
   ]
  },
  {
   "cell_type": "markdown",
   "metadata": {},
   "source": [
    " ---------- Calculus ----------\n",
    " Limits---start with a famous example\n"
   ]
  },
  {
   "cell_type": "code",
   "execution_count": 112,
   "metadata": {
    "collapsed": false
   },
   "outputs": [
    {
     "data": {
      "text/plain": [
       "   %e\n",
       "Type: Union(OrderedCompletion(Expression(Integer)),...)\n"
      ]
     },
     "execution_count": 112,
     "metadata": {},
     "output_type": "execute_result"
    }
   ],
   "source": [
    "limit((1 + 1/n)^n, n = %plusInfinity)"
   ]
  },
  {
   "cell_type": "code",
   "execution_count": 113,
   "metadata": {
    "collapsed": false
   },
   "outputs": [
    {
     "data": {
      "text/plain": [
       "   1\n",
       "   -\n",
       "   2\n",
       "Type: Union(OrderedCompletion(Expression(Integer)),...)\n"
      ]
     },
     "execution_count": 113,
     "metadata": {},
     "output_type": "execute_result"
    }
   ],
   "source": [
    "limit((1 - cos(x))/x^2, x = 0)"
   ]
  },
  {
   "cell_type": "markdown",
   "metadata": {},
   "source": [
    " Apply the chain rule---this is important for PDEs and many other\n",
    " applications\n"
   ]
  },
  {
   "cell_type": "code",
   "execution_count": 114,
   "metadata": {
    "collapsed": false
   },
   "outputs": [
    {
     "data": {
      "text/plain": [
       "Type: BasicOperator\n"
      ]
     },
     "execution_count": 114,
     "metadata": {},
     "output_type": "execute_result"
    }
   ],
   "source": [
    "y:= operator('y);"
   ]
  },
  {
   "cell_type": "code",
   "execution_count": 115,
   "metadata": {
    "collapsed": false
   },
   "outputs": [
    {
     "data": {
      "text/plain": [
       "Type: BasicOperator\n"
      ]
     },
     "execution_count": 115,
     "metadata": {},
     "output_type": "execute_result"
    }
   ],
   "source": [
    "x:= operator('x);"
   ]
  },
  {
   "cell_type": "code",
   "execution_count": 116,
   "metadata": {
    "collapsed": false
   },
   "outputs": [
    {
     "data": {
      "text/plain": [
       "    ,   2 ,,          ,       ,,\n",
       "   x (t) y  (x(t)) + y (x(t))x  (t)\n",
       "\n",
       "Type: Expression(Integer)\n"
      ]
     },
     "execution_count": 116,
     "metadata": {},
     "output_type": "execute_result"
    }
   ],
   "source": [
    "D(y(x(t)), t, 2)"
   ]
  },
  {
   "cell_type": "code",
   "execution_count": 117,
   "metadata": {
    "collapsed": false
   },
   "outputs": [
    {
     "data": {
      "text/plain": []
     },
     "execution_count": 117,
     "metadata": {},
     "output_type": "execute_result"
    }
   ],
   "source": [
    ")clear properties x y"
   ]
  },
  {
   "cell_type": "markdown",
   "metadata": {},
   "source": [
    " ---------- Indefinite Integrals ----------\n"
   ]
  },
  {
   "cell_type": "code",
   "execution_count": 118,
   "metadata": {
    "collapsed": false
   },
   "outputs": [
    {
     "data": {
      "text/plain": [
       "      1\n",
       "   ------\n",
       "    3\n",
       "   x  + 2\n",
       "Type: Fraction(Polynomial(Integer))\n"
      ]
     },
     "execution_count": 118,
     "metadata": {},
     "output_type": "execute_result"
    }
   ],
   "source": [
    "1/(x^3 + 2)"
   ]
  },
  {
   "cell_type": "markdown",
   "metadata": {},
   "source": [
    " This would be very difficult to do by hand\n"
   ]
  },
  {
   "cell_type": "code",
   "execution_count": 119,
   "metadata": {
    "collapsed": false
   },
   "outputs": [
    {
     "name": "stdout",
     "output_type": "stream",
     "text": [
      "      "
     ]
    },
    {
     "data": {
      "text/plain": [
       "          +-+     2 3+-+2    3+-+          +-+     3+-+\n",
       "       - \\|3 log(x  \\|4  - 2x\\|4  + 4) + 2\\|3 log(x\\|4  + 2)\n",
       "     + \n",
       "               +-+3+-+    +-+\n",
       "             x\\|3 \\|4  - \\|3\n",
       "       6atan(----------------)\n",
       "                     3\n",
       "  /\n",
       "       +-+3+-+\n",
       "     6\\|3 \\|4\n",
       "Type: Union(Expression(Integer),...)\n"
      ]
     },
     "execution_count": 119,
     "metadata": {},
     "output_type": "execute_result"
    }
   ],
   "source": [
    "integrate(%, x)"
   ]
  },
  {
   "cell_type": "code",
   "execution_count": 120,
   "metadata": {
    "collapsed": false
   },
   "outputs": [
    {
     "data": {
      "text/plain": [
       "      1\n",
       "   ------\n",
       "    3\n",
       "   x  + 2\n",
       "Type: Expression(Integer)\n"
      ]
     },
     "execution_count": 120,
     "metadata": {},
     "output_type": "execute_result"
    }
   ],
   "source": [
    "D(%, x)"
   ]
  },
  {
   "cell_type": "markdown",
   "metadata": {},
   "source": [
    " This example involves several symbolic parameters\n"
   ]
  },
  {
   "cell_type": "code",
   "execution_count": 121,
   "metadata": {
    "collapsed": false
   },
   "outputs": [
    {
     "name": "stdout",
     "output_type": "stream",
     "text": [
      "                        \n",
      "\n"
     ]
    },
    {
     "data": {
      "text/plain": [
       "   [\n",
       "       log\n",
       "                                                             +-------+\n",
       "                   2     2       2                   2    2  | 2    2\n",
       "              ((- b  + 2a )cos(x)  + 2a b cos(x) + 2b  - a )\\|b  - a\n",
       "            + \n",
       "                    2     3            3     2\n",
       "              ((2a b  - 2a )cos(x) + 2b  - 2a b)sin(x)\n",
       "         /\n",
       "             2      2                  2\n",
       "            b cos(x)  + 2a b cos(x) + a\n",
       "    /\n",
       "         +-------+\n",
       "         | 2    2\n",
       "       2\\|b  - a\n",
       "     ,\n",
       "                        +---------+\n",
       "                        |   2    2\n",
       "         (a cos(x) + b)\\|- b  + a\n",
       "    atan(--------------------------)\n",
       "                 2    2\n",
       "               (b  - a )sin(x)\n",
       "    --------------------------------]\n",
       "               +---------+\n",
       "               |   2    2\n",
       "              \\|- b  + a\n",
       "Type: Union(List(Expression(Integer)),...)\n"
      ]
     },
     "execution_count": 121,
     "metadata": {},
     "output_type": "execute_result"
    }
   ],
   "source": [
    "integrate(1/(a + b*cos(x)), x)"
   ]
  },
  {
   "cell_type": "code",
   "execution_count": 122,
   "metadata": {
    "collapsed": false
   },
   "outputs": [
    {
     "data": {
      "text/plain": [
       "          1            1\n",
       "   [------------,------------]\n",
       "    b cos(x) + a b cos(x) + a\n",
       "Type: List(Expression(Integer))\n"
      ]
     },
     "execution_count": 122,
     "metadata": {},
     "output_type": "execute_result"
    }
   ],
   "source": [
    "map(simplify, map(f +-> D(f, x), %))"
   ]
  },
  {
   "cell_type": "markdown",
   "metadata": {},
   "source": [
    " Calculus on a non-smooth (but well defined) function\n"
   ]
  },
  {
   "cell_type": "code",
   "execution_count": 123,
   "metadata": {
    "collapsed": false
   },
   "outputs": [
    {
     "data": {
      "text/plain": [
       "   abs(x)\n",
       "   ------\n",
       "      x\n",
       "Type: Expression(Integer)\n"
      ]
     },
     "execution_count": 123,
     "metadata": {},
     "output_type": "execute_result"
    }
   ],
   "source": [
    "D(abs(x), x)"
   ]
  },
  {
   "cell_type": "code",
   "execution_count": 124,
   "metadata": {
    "collapsed": false
   },
   "outputs": [
    {
     "data": {
      "text/plain": [
       "      x\n",
       "    ++\n",
       "    |   abs(%I)d%I\n",
       "   ++\n",
       "Type: Union(Expression(Integer),...)\n"
      ]
     },
     "execution_count": 124,
     "metadata": {},
     "output_type": "execute_result"
    }
   ],
   "source": [
    "integrate(abs(x), x)"
   ]
  },
  {
   "cell_type": "markdown",
   "metadata": {},
   "source": [
    " Calculus on a piecewise defined function\n"
   ]
  },
  {
   "cell_type": "code",
   "execution_count": 125,
   "metadata": {
    "collapsed": false
   },
   "outputs": [
    {
     "data": {
      "text/plain": [
       "Type: Void\n"
      ]
     },
     "execution_count": 125,
     "metadata": {},
     "output_type": "execute_result"
    }
   ],
   "source": [
    "a(x) == if x < 0 then -x else x"
   ]
  },
  {
   "cell_type": "code",
   "execution_count": 126,
   "metadata": {
    "collapsed": false
   },
   "outputs": [
    {
     "name": "stderr",
     "output_type": "stream",
     "text": [
      "   There are 3 exposed and 1 unexposed library operations named < \n",
      "      having 2 argument(s) but none was determined to be applicable. \n",
      "      Use HyperDoc Browse, or issue\n",
      "                                )display op <\n",
      "      to learn more about the available operations. Perhaps \n",
      "      package-calling the operation or using coercions on the arguments\n",
      "      will allow you to apply the operation.\n",
      "   Cannot find a definition or applicable library operation named < \n",
      "      with argument type(s) \n",
      "                                 Variable(x)\n",
      "                             NonNegativeInteger\n",
      "      \n",
      "      Perhaps you should use \"@\" to indicate the required return type, \n",
      "      or \"$\" to specify which version of the function you need.\n",
      "   FriCAS will attempt to step through and interpret the code.\n",
      "   There are 3 exposed and 1 unexposed library operations named < \n",
      "      having 2 argument(s) but none was determined to be applicable. \n",
      "      Use HyperDoc Browse, or issue\n",
      "                                )display op <\n",
      "      to learn more about the available operations. Perhaps \n",
      "      package-calling the operation or using coercions on the arguments\n",
      "      will allow you to apply the operation.\n",
      " \n",
      "   Cannot find a definition or applicable library operation named < \n",
      "      with argument type(s) \n",
      "                                 Variable(x)\n",
      "                             NonNegativeInteger\n",
      "      \n",
      "      Perhaps you should use \"@\" to indicate the required return type, \n",
      "      or \"$\" to specify which version of the function you need.\n",
      "\n"
     ]
    },
    {
     "data": {
      "text/plain": [
       "error\n"
      ]
     },
     "execution_count": 126,
     "metadata": {},
     "output_type": "execute_result"
    }
   ],
   "source": [
    "D(a(x), x)"
   ]
  },
  {
   "cell_type": "code",
   "execution_count": 127,
   "metadata": {
    "collapsed": false
   },
   "outputs": [
    {
     "name": "stderr",
     "output_type": "stream",
     "text": [
      "   There are 3 exposed and 1 unexposed library operations named < \n",
      "      having 2 argument(s) but none was determined to be applicable. \n",
      "      Use HyperDoc Browse, or issue\n",
      "                                )display op <\n",
      "      to learn more about the available operations. Perhaps \n",
      "      package-calling the operation or using coercions on the arguments\n",
      "      will allow you to apply the operation.\n",
      "   Cannot find a definition or applicable library operation named < \n",
      "      with argument type(s) \n",
      "                                 Variable(x)\n",
      "                             NonNegativeInteger\n",
      "      \n",
      "      Perhaps you should use \"@\" to indicate the required return type, \n",
      "      or \"$\" to specify which version of the function you need.\n",
      "   FriCAS will attempt to step through and interpret the code.\n",
      "   There are 3 exposed and 1 unexposed library operations named < \n",
      "      having 2 argument(s) but none was determined to be applicable. \n",
      "      Use HyperDoc Browse, or issue\n",
      "                                )display op <\n",
      "      to learn more about the available operations. Perhaps \n",
      "      package-calling the operation or using coercions on the arguments\n",
      "      will allow you to apply the operation.\n",
      " \n",
      "   Cannot find a definition or applicable library operation named < \n",
      "      with argument type(s) \n",
      "                                 Variable(x)\n",
      "                             NonNegativeInteger\n",
      "      \n",
      "      Perhaps you should use \"@\" to indicate the required return type, \n",
      "      or \"$\" to specify which version of the function you need.\n",
      "\n"
     ]
    },
    {
     "data": {
      "text/plain": [
       "error\n"
      ]
     },
     "execution_count": 127,
     "metadata": {},
     "output_type": "execute_result"
    }
   ],
   "source": [
    "integrate(a(x), x)"
   ]
  },
  {
   "cell_type": "code",
   "execution_count": 128,
   "metadata": {
    "collapsed": false
   },
   "outputs": [
    {
     "name": "stdout",
     "output_type": "stream",
     "text": [
      "   Compiled code for a has been cleared.\n"
     ]
    },
    {
     "data": {
      "text/plain": []
     },
     "execution_count": 128,
     "metadata": {},
     "output_type": "execute_result"
    }
   ],
   "source": [
    ")clear properties a"
   ]
  },
  {
   "cell_type": "markdown",
   "metadata": {},
   "source": [
    " The following two integrals should be equivalent.  The correct solution is\n",
    " [(1 + x)^(3/2) + (1 - x)^(3/2)] / 3\n"
   ]
  },
  {
   "cell_type": "code",
   "execution_count": 129,
   "metadata": {
    "collapsed": false
   },
   "outputs": [
    {
     "data": {
      "text/plain": [
       "           +-----+             +-------+\n",
       "   (x + 1)\\|x + 1  + (- x + 1)\\|- x + 1\n",
       "   -------------------------------------\n",
       "                     3\n",
       "Type: Union(Expression(Integer),...)\n"
      ]
     },
     "execution_count": 129,
     "metadata": {},
     "output_type": "execute_result"
    }
   ],
   "source": [
    "integrate(x/(sqrt(1 + x) + sqrt(1 - x)), x)"
   ]
  },
  {
   "cell_type": "code",
   "execution_count": 130,
   "metadata": {
    "collapsed": false
   },
   "outputs": [
    {
     "data": {
      "text/plain": [
       "           +-----+             +-------+\n",
       "   (x + 1)\\|x + 1  + (- x + 1)\\|- x + 1\n",
       "   -------------------------------------\n",
       "                     3\n",
       "Type: Union(Expression(Integer),...)\n"
      ]
     },
     "execution_count": 130,
     "metadata": {},
     "output_type": "execute_result"
    }
   ],
   "source": [
    "integrate((sqrt(1 + x) - sqrt(1 - x))/2, x)"
   ]
  },
  {
   "cell_type": "markdown",
   "metadata": {},
   "source": [
    " ---------- Definite Integrals ----------\n",
    " The following two functions have a pole at zero\n"
   ]
  },
  {
   "cell_type": "code",
   "execution_count": 131,
   "metadata": {
    "collapsed": false
   },
   "outputs": [
    {
     "name": "stderr",
     "output_type": "stream",
     "text": [
      " \n",
      "   >> Error detected within library code:\n",
      "   integrate: pole in path of integration\n",
      "\n"
     ]
    },
    {
     "data": {
      "text/plain": [
       "error\n"
      ]
     },
     "execution_count": 131,
     "metadata": {},
     "output_type": "execute_result"
    }
   ],
   "source": [
    "integrate(1/x, x = -1..1)"
   ]
  },
  {
   "cell_type": "code",
   "execution_count": 132,
   "metadata": {
    "collapsed": false
   },
   "outputs": [
    {
     "name": "stderr",
     "output_type": "stream",
     "text": [
      " \n",
      "   >> Error detected within library code:\n",
      "   integrate: pole in path of integration\n",
      "\n"
     ]
    },
    {
     "data": {
      "text/plain": [
       "error\n"
      ]
     },
     "execution_count": 132,
     "metadata": {},
     "output_type": "execute_result"
    }
   ],
   "source": [
    "integrate(1/x^2, x = -1..1)"
   ]
  },
  {
   "cell_type": "markdown",
   "metadata": {},
   "source": [
    " Different branches of the square root need to be chosen in the intervals\n",
    " [0, 1] and [1, 2].  The correct results are 4/3, [4 - sqrt(8)]/3,\n",
    " [8 - sqrt(8)]/3, respectively.\n"
   ]
  },
  {
   "cell_type": "code",
   "execution_count": 133,
   "metadata": {
    "collapsed": false
   },
   "outputs": [
    {
     "data": {
      "text/plain": [
       "   \"potentialPole\"\n",
       "Type: Union(pole: potentialPole,...)\n"
      ]
     },
     "execution_count": 133,
     "metadata": {},
     "output_type": "execute_result"
    }
   ],
   "source": [
    "integrate(sqrt(x + 1/x - 2), x = 0..1)"
   ]
  },
  {
   "cell_type": "code",
   "execution_count": 134,
   "metadata": {
    "collapsed": false
   },
   "outputs": [
    {
     "data": {
      "text/plain": [
       "   4\n",
       "   -\n",
       "   3\n",
       "Type: Union(f1: OrderedCompletion(Expression(Integer)),...)\n"
      ]
     },
     "execution_count": 134,
     "metadata": {},
     "output_type": "execute_result"
    }
   ],
   "source": [
    "integrate(sqrt(x + 1/x - 2), x = 0..1, \"noPole\")"
   ]
  },
  {
   "cell_type": "code",
   "execution_count": 135,
   "metadata": {
    "collapsed": false
   },
   "outputs": [
    {
     "data": {
      "text/plain": [
       "   \"potentialPole\"\n",
       "Type: Union(pole: potentialPole,...)\n"
      ]
     },
     "execution_count": 135,
     "metadata": {},
     "output_type": "execute_result"
    }
   ],
   "source": [
    "integrate(sqrt(x + 1/x - 2), x = 1..2)"
   ]
  },
  {
   "cell_type": "code",
   "execution_count": 136,
   "metadata": {
    "collapsed": false
   },
   "outputs": [
    {
     "data": {
      "text/plain": [
       "     +-+\n",
       "   4\\|2  - 4\n",
       "   ---------\n",
       "       +-+\n",
       "     3\\|2\n",
       "Type: Union(f1: OrderedCompletion(Expression(Integer)),...)\n"
      ]
     },
     "execution_count": 136,
     "metadata": {},
     "output_type": "execute_result"
    }
   ],
   "source": [
    "integrate(sqrt(x + 1/x - 2), x = 1..2, \"noPole\")"
   ]
  },
  {
   "cell_type": "code",
   "execution_count": 137,
   "metadata": {
    "collapsed": false
   },
   "outputs": [
    {
     "data": {
      "text/plain": [
       "   \"potentialPole\"\n",
       "Type: Union(pole: potentialPole,...)\n"
      ]
     },
     "execution_count": 137,
     "metadata": {},
     "output_type": "execute_result"
    }
   ],
   "source": [
    "integrate(sqrt(x + 1/x - 2), x = 0..2)"
   ]
  },
  {
   "cell_type": "code",
   "execution_count": 138,
   "metadata": {
    "collapsed": false
   },
   "outputs": [
    {
     "data": {
      "text/plain": [
       "       4\n",
       "   - -----\n",
       "       +-+\n",
       "     3\\|2\n",
       "Type: Union(f1: OrderedCompletion(Expression(Integer)),...)\n"
      ]
     },
     "execution_count": 138,
     "metadata": {},
     "output_type": "execute_result"
    }
   ],
   "source": [
    "integrate(sqrt(x + 1/x - 2), x = 0..2, \"noPole\")"
   ]
  },
  {
   "cell_type": "markdown",
   "metadata": {},
   "source": [
    " Contour integrals\n"
   ]
  },
  {
   "cell_type": "code",
   "execution_count": 139,
   "metadata": {
    "collapsed": false
   },
   "outputs": [
    {
     "data": {
      "text/plain": [
       "   \"potentialPole\"\n",
       "Type: Union(pole: potentialPole,...)\n"
      ]
     },
     "execution_count": 139,
     "metadata": {},
     "output_type": "execute_result"
    }
   ],
   "source": [
    "integrate(cos(x)/(x^2 + a^2), x = %minusInfinity..%plusInfinity)"
   ]
  },
  {
   "cell_type": "code",
   "execution_count": 140,
   "metadata": {
    "collapsed": false
   },
   "outputs": [
    {
     "data": {
      "text/plain": [
       "   Ei\n",
       "   [- a + x %i]\n",
       "   \"failed\"\n",
       "Type: Union(fail: failed,...)\n"
      ]
     },
     "execution_count": 140,
     "metadata": {},
     "output_type": "execute_result"
    }
   ],
   "source": [
    "integrate(cos(x)/(x^2 + a^2), x = %minusInfinity..%plusInfinity, \"noPole\")"
   ]
  },
  {
   "cell_type": "markdown",
   "metadata": {},
   "source": [
    " Integrand with a branch point\n"
   ]
  },
  {
   "cell_type": "code",
   "execution_count": 141,
   "metadata": {
    "collapsed": false
   },
   "outputs": [
    {
     "data": {
      "text/plain": [
       "   \"potentialPole\"\n",
       "Type: Union(pole: potentialPole,...)\n"
      ]
     },
     "execution_count": 141,
     "metadata": {},
     "output_type": "execute_result"
    }
   ],
   "source": [
    "integrate(t^(a - 1)/(1 + t), t = 0..%plusInfinity)"
   ]
  },
  {
   "cell_type": "code",
   "execution_count": 142,
   "metadata": {
    "collapsed": false
   },
   "outputs": [
    {
     "data": {
      "text/plain": [
       "   \"failed\"\n",
       "Type: Union(fail: failed,...)\n"
      ]
     },
     "execution_count": 142,
     "metadata": {},
     "output_type": "execute_result"
    }
   ],
   "source": [
    "integrate(t^(a - 1)/(1 + t), t = 0..%plusInfinity, \"noPole\")"
   ]
  },
  {
   "cell_type": "markdown",
   "metadata": {},
   "source": [
    " Multiple integrals: volume of a tetrahedron\n"
   ]
  },
  {
   "cell_type": "code",
   "execution_count": 143,
   "metadata": {
    "collapsed": false
   },
   "outputs": [
    {
     "data": {
      "text/plain": [
       "   a b c\n",
       "   -----\n",
       "     6\n",
       "Type: Union(f1: OrderedCompletion(Expression(Integer)),...)\n"
      ]
     },
     "execution_count": 143,
     "metadata": {},
     "output_type": "execute_result"
    }
   ],
   "source": [
    "integrate(integrate(integrate(1, z = 0..c*(1 - x/a - y/b)), _\n",
    "                    y = 0..b*(1 - x/a)), _\n",
    "          x = 0..a)\n"
   ]
  },
  {
   "cell_type": "markdown",
   "metadata": {},
   "source": [
    " ---------- Series ----------\n",
    " Taylor series---this first example comes from special relativity\n"
   ]
  },
  {
   "cell_type": "code",
   "execution_count": 144,
   "metadata": {
    "collapsed": false
   },
   "outputs": [
    {
     "data": {
      "text/plain": [
       "         1\n",
       "   ------------\n",
       "    +---------+\n",
       "    |   2    2\n",
       "    |- v  + c\n",
       "    |---------\n",
       "    |     2\n",
       "   \\|    c\n",
       "Type: Expression(Integer)\n"
      ]
     },
     "execution_count": 144,
     "metadata": {},
     "output_type": "execute_result"
    }
   ],
   "source": [
    "1/sqrt(1 - (v/c)^2)"
   ]
  },
  {
   "cell_type": "code",
   "execution_count": 145,
   "metadata": {
    "collapsed": false
   },
   "outputs": [
    {
     "data": {
      "text/plain": [
       "        1   2    3   4     5   6      8\n",
       "   1 + --- v  + --- v  + ---- v  + O(v )\n",
       "         2        4         6\n",
       "       2c       8c       16c\n",
       "Type: UnivariatePuiseuxSeries(Expression(Integer),v,0)\n"
      ]
     },
     "execution_count": 145,
     "metadata": {},
     "output_type": "execute_result"
    }
   ],
   "source": [
    "series(%, v = 0)"
   ]
  },
  {
   "cell_type": "code",
   "execution_count": 146,
   "metadata": {
    "collapsed": false
   },
   "outputs": [
    {
     "data": {
      "text/plain": [
       "        1  2      8\n",
       "   1 - -- v  + O(v )\n",
       "        2\n",
       "       c\n",
       "Type: UnivariatePuiseuxSeries(Expression(Integer),v,0)\n"
      ]
     },
     "execution_count": 146,
     "metadata": {},
     "output_type": "execute_result"
    }
   ],
   "source": [
    "1/%^2"
   ]
  },
  {
   "cell_type": "code",
   "execution_count": 147,
   "metadata": {
    "collapsed": false
   },
   "outputs": [
    {
     "data": {
      "text/plain": [
       "       1  3    1   5     1   7      9\n",
       "   x - - x  + --- x  - ---- x  + O(x )\n",
       "       6      120      5040\n",
       "Type: UnivariatePuiseuxSeries(Expression(Integer),x,0)\n"
      ]
     },
     "execution_count": 147,
     "metadata": {},
     "output_type": "execute_result"
    }
   ],
   "source": [
    "tsin:= series(sin(x), x = 0)"
   ]
  },
  {
   "cell_type": "code",
   "execution_count": 148,
   "metadata": {
    "collapsed": false
   },
   "outputs": [
    {
     "data": {
      "text/plain": [
       "       1  2    1  4    1   6      8\n",
       "   1 - - x  + -- x  - --- x  + O(x )\n",
       "       2      24      720\n",
       "Type: UnivariatePuiseuxSeries(Expression(Integer),x,0)\n"
      ]
     },
     "execution_count": 148,
     "metadata": {},
     "output_type": "execute_result"
    }
   ],
   "source": [
    "tcos:= series(cos(x), x = 0)"
   ]
  },
  {
   "cell_type": "markdown",
   "metadata": {},
   "source": [
    " Note that additional terms will be computed as needed\n"
   ]
  },
  {
   "cell_type": "code",
   "execution_count": 149,
   "metadata": {
    "collapsed": false
   },
   "outputs": [
    {
     "data": {
      "text/plain": [
       "       1  3    2  5    17  7      9\n",
       "   x + - x  + -- x  + --- x  + O(x )\n",
       "       3      15      315\n",
       "Type: UnivariatePuiseuxSeries(Expression(Integer),x,0)\n"
      ]
     },
     "execution_count": 149,
     "metadata": {},
     "output_type": "execute_result"
    }
   ],
   "source": [
    "tsin/tcos"
   ]
  },
  {
   "cell_type": "code",
   "execution_count": 150,
   "metadata": {
    "collapsed": false
   },
   "outputs": [
    {
     "data": {
      "text/plain": [
       "       1  3    2  5    17  7      9\n",
       "   x + - x  + -- x  + --- x  + O(x )\n",
       "       3      15      315\n",
       "Type: UnivariatePuiseuxSeries(Expression(Integer),x,0)\n"
      ]
     },
     "execution_count": 150,
     "metadata": {},
     "output_type": "execute_result"
    }
   ],
   "source": [
    "series(tan(x), x = 0)"
   ]
  },
  {
   "cell_type": "markdown",
   "metadata": {},
   "source": [
    " Look at the Taylor series around x = 1\n"
   ]
  },
  {
   "cell_type": "code",
   "execution_count": 151,
   "metadata": {
    "collapsed": false
   },
   "outputs": [
    {
     "data": {
      "text/plain": []
     },
     "execution_count": 151,
     "metadata": {},
     "output_type": "execute_result"
    }
   ],
   "source": [
    ")set streams calculate 1"
   ]
  },
  {
   "cell_type": "code",
   "execution_count": 152,
   "metadata": {
    "collapsed": false
   },
   "outputs": [
    {
     "data": {
      "text/plain": [
       "     - b x      a\n",
       "   %e     log(x)\n",
       "Type: Expression(Integer)\n"
      ]
     },
     "execution_count": 152,
     "metadata": {},
     "output_type": "execute_result"
    }
   ],
   "source": [
    "log(x)^a*exp(-b*x)"
   ]
  },
  {
   "cell_type": "code",
   "execution_count": 153,
   "metadata": {
    "collapsed": false
   },
   "outputs": [
    {
     "name": "stderr",
     "output_type": "stream",
     "text": [
      " \n",
      "   >> Error detected within library code:\n",
      "   No series expansion\n",
      "\n"
     ]
    },
    {
     "data": {
      "text/plain": [
       "error\n"
      ]
     },
     "execution_count": 153,
     "metadata": {},
     "output_type": "execute_result"
    }
   ],
   "source": [
    "series(%, x = 1)"
   ]
  },
  {
   "cell_type": "code",
   "execution_count": 154,
   "metadata": {
    "collapsed": false
   },
   "outputs": [
    {
     "data": {
      "text/plain": []
     },
     "execution_count": 154,
     "metadata": {},
     "output_type": "execute_result"
    }
   ],
   "source": [
    ")set streams calculate 7"
   ]
  },
  {
   "cell_type": "markdown",
   "metadata": {},
   "source": [
    " Compare the Taylor series of two different formulations of a function\n"
   ]
  },
  {
   "cell_type": "code",
   "execution_count": 155,
   "metadata": {
    "collapsed": false
   },
   "outputs": [
    {
     "name": "stderr",
     "output_type": "stream",
     "text": [
      " \n",
      "   >> Error detected within library code:\n",
      "   No Taylor expansion: logarithmic singularity\n",
      "\n"
     ]
    },
    {
     "data": {
      "text/plain": [
       "error\n"
      ]
     },
     "execution_count": 155,
     "metadata": {},
     "output_type": "execute_result"
    }
   ],
   "source": [
    "taylor(log(sinh(z)) + log(cosh(z + w)), z = 0)"
   ]
  },
  {
   "cell_type": "code",
   "execution_count": 156,
   "metadata": {
    "collapsed": false
   },
   "outputs": [
    {
     "name": "stderr",
     "output_type": "stream",
     "text": [
      " \n",
      "   >> Error detected within library code:\n",
      "   No Taylor expansion: logarithmic singularity\n",
      "\n"
     ]
    },
    {
     "data": {
      "text/plain": [
       "error\n"
      ]
     },
     "execution_count": 156,
     "metadata": {},
     "output_type": "execute_result"
    }
   ],
   "source": [
    "% - taylor(log(sinh(z) * cosh(z + w)), z = 0)"
   ]
  },
  {
   "cell_type": "code",
   "execution_count": 157,
   "metadata": {
    "collapsed": false
   },
   "outputs": [
    {
     "name": "stdout",
     "output_type": "stream",
     "text": [
      "                                                        "
     ]
    },
    {
     "data": {
      "text/plain": [
       "            w 2                    w 2             w 4        w 2\n",
       "         (%e )  + 1             (%e )  - 1      (%e )  + 14(%e )  + 1  2\n",
       "     log(----------) + log(z) + ---------- z + ---------------------- z\n",
       "               w                   w 2             w 4        w 2\n",
       "            2%e                 (%e )  + 1     6(%e )  + 12(%e )  + 6\n",
       "   + \n",
       "                 w 4       w 2\n",
       "           - 4(%e )  + 4(%e )         3\n",
       "     ------------------------------- z\n",
       "         w 6       w 4       w 2\n",
       "     3(%e )  + 9(%e )  + 9(%e )  + 3\n",
       "   + \n",
       "            w 8         w 6         w 4         w 2\n",
       "       - (%e )  + 116(%e )  - 486(%e )  + 116(%e )  - 1    4\n",
       "     ---------------------------------------------------- z\n",
       "           w 8         w 6          w 4         w 2\n",
       "     180(%e )  + 720(%e )  + 1080(%e )  + 720(%e )  + 180\n",
       "   + \n",
       "                     w 8        w 6        w 4       w 2\n",
       "               - 4(%e )  + 44(%e )  - 44(%e )  + 4(%e )            5\n",
       "     ------------------------------------------------------------ z\n",
       "          w 10        w 8         w 6         w 4        w 2\n",
       "     15(%e )   + 75(%e )  + 150(%e )  + 150(%e )  + 75(%e )  + 15\n",
       "   + \n",
       "              w 12         w 10          w 8           w 6          w 4\n",
       "           (%e )   + 258(%e )   - 6537(%e )  + 16652(%e )  - 6537(%e )\n",
       "         + \n",
       "                 w 2\n",
       "           258(%e )  + 1\n",
       "      /\n",
       "                  w 12           w 10           w 8           w 6           w 4\n",
       "           2835(%e )   + 17010(%e )   + 42525(%e )  + 56700(%e )  + 42525(%e )\n",
       "         + \n",
       "                   w 2\n",
       "           17010(%e )  + 2835\n",
       "    *\n",
       "        6\n",
       "       z\n",
       "   + \n",
       "               w 12         w 10          w 8          w 6         w 4       w 2\n",
       "         - 8(%e )   + 456(%e )   - 2416(%e )  + 2416(%e )  - 456(%e )  + 8(%e )\n",
       "      /\n",
       "                 w 14          w 12          w 10           w 8           w 6\n",
       "           315(%e )   + 2205(%e )   + 6615(%e )   + 11025(%e )  + 11025(%e )\n",
       "         + \n",
       "                  w 4          w 2\n",
       "           6615(%e )  + 2205(%e )  + 315\n",
       "    *\n",
       "        7\n",
       "       z\n",
       "   + \n",
       "        8\n",
       "     O(z )\n",
       "Type: GeneralUnivariatePowerSeries(Expression(Integer),z,0)\n"
      ]
     },
     "execution_count": 157,
     "metadata": {},
     "output_type": "execute_result"
    }
   ],
   "source": [
    "series(log(sinh(z)) + log(cosh(z + w)), z = 0)"
   ]
  },
  {
   "cell_type": "code",
   "execution_count": 158,
   "metadata": {
    "collapsed": false
   },
   "outputs": [
    {
     "data": {
      "text/plain": [
       "      15\n",
       "   O(z  )\n",
       "Type: GeneralUnivariatePowerSeries(Expression(Integer),z,0)\n"
      ]
     },
     "execution_count": 158,
     "metadata": {},
     "output_type": "execute_result"
    }
   ],
   "source": [
    "% - series(log(sinh(z) * cosh(z + w)), z = 0)"
   ]
  },
  {
   "cell_type": "markdown",
   "metadata": {},
   "source": [
    " Power series (compute the general formula)\n"
   ]
  },
  {
   "cell_type": "code",
   "execution_count": 159,
   "metadata": {
    "collapsed": false
   },
   "outputs": [
    {
     "data": {
      "text/plain": [
       "       sin(x)\n",
       "   log(------)\n",
       "          x\n",
       "Type: Expression(Integer)\n"
      ]
     },
     "execution_count": 159,
     "metadata": {},
     "output_type": "execute_result"
    }
   ],
   "source": [
    "log(sin(x)/x)"
   ]
  },
  {
   "cell_type": "code",
   "execution_count": 160,
   "metadata": {
    "collapsed": false
   },
   "outputs": [
    {
     "data": {
      "text/plain": [
       "     1  2    1   4     1   6     1    8      10\n",
       "   - - x  - --- x  - ---- x  - ----- x  + O(x  )\n",
       "     6      180      2835      37800\n",
       "Type: UnivariatePuiseuxSeries(Expression(Integer),x,0)\n"
      ]
     },
     "execution_count": 160,
     "metadata": {},
     "output_type": "execute_result"
    }
   ],
   "source": [
    "series(%, x = 0)"
   ]
  },
  {
   "cell_type": "code",
   "execution_count": 161,
   "metadata": {
    "collapsed": false
   },
   "outputs": [
    {
     "data": {
      "text/plain": [
       "     - x\n",
       "   %e   sin(x)\n",
       "Type: Expression(Integer)\n"
      ]
     },
     "execution_count": 161,
     "metadata": {},
     "output_type": "execute_result"
    }
   ],
   "source": [
    "exp(-x)*sin(x)"
   ]
  },
  {
   "cell_type": "code",
   "execution_count": 162,
   "metadata": {
    "collapsed": false
   },
   "outputs": [
    {
     "data": {
      "text/plain": [
       "        2   1  3    1  5    1  6    1   7      9\n",
       "   x - x  + - x  - -- x  + -- x  - --- x  + O(x )\n",
       "            3      30      90      630\n",
       "Type: UnivariatePuiseuxSeries(Expression(Integer),x,0)\n"
      ]
     },
     "execution_count": 162,
     "metadata": {},
     "output_type": "execute_result"
    }
   ],
   "source": [
    "series(%, x = 0)"
   ]
  },
  {
   "cell_type": "markdown",
   "metadata": {},
   "source": [
    " Derive an explicit Taylor series solution of y as a function of x from the\n",
    " following implicit relation\n"
   ]
  },
  {
   "cell_type": "code",
   "execution_count": 163,
   "metadata": {
    "collapsed": false
   },
   "outputs": [
    {
     "data": {
      "text/plain": [
       "Type: BasicOperator\n"
      ]
     },
     "execution_count": 163,
     "metadata": {},
     "output_type": "execute_result"
    }
   ],
   "source": [
    "y:= operator('y);"
   ]
  },
  {
   "cell_type": "code",
   "execution_count": 164,
   "metadata": {
    "collapsed": false
   },
   "outputs": [
    {
     "data": {
      "text/plain": [
       "   x= sin(y(x)) + cos(y(x))\n",
       "Type: Equation(Expression(Integer))\n"
      ]
     },
     "execution_count": 164,
     "metadata": {},
     "output_type": "execute_result"
    }
   ],
   "source": [
    "x = sin(y(x)) + cos(y(x))"
   ]
  },
  {
   "cell_type": "code",
   "execution_count": 165,
   "metadata": {
    "collapsed": false
   },
   "outputs": [
    {
     "name": "stderr",
     "output_type": "stream",
     "text": [
      " \n",
      "   >> Error detected within library code:\n",
      "   Improper initial value\n",
      "\n"
     ]
    },
    {
     "data": {
      "text/plain": [
       "error\n"
      ]
     },
     "execution_count": 165,
     "metadata": {},
     "output_type": "execute_result"
    }
   ],
   "source": [
    "seriesSolve(%, y, x = 1, 0)"
   ]
  },
  {
   "cell_type": "code",
   "execution_count": 166,
   "metadata": {
    "collapsed": false
   },
   "outputs": [
    {
     "data": {
      "text/plain": []
     },
     "execution_count": 166,
     "metadata": {},
     "output_type": "execute_result"
    }
   ],
   "source": [
    ")clear properties y"
   ]
  },
  {
   "cell_type": "markdown",
   "metadata": {},
   "source": [
    " Pade (rational function) approximation\n"
   ]
  },
  {
   "cell_type": "code",
   "execution_count": 167,
   "metadata": {
    "collapsed": false
   },
   "outputs": [
    {
     "data": {
      "text/plain": [
       "   - x + 2\n",
       "   -------\n",
       "    x + 2\n",
       "Type: Union(Fraction(UnivariatePolynomial(x,Expression(Integer))),...)\n"
      ]
     },
     "execution_count": 167,
     "metadata": {},
     "output_type": "execute_result"
    }
   ],
   "source": [
    "pade(1, 1, taylor(exp(-x), x = 0))"
   ]
  },
  {
   "cell_type": "markdown",
   "metadata": {},
   "source": [
    " ---------- Transforms ----------\n",
    " Laplace and inverse Laplace transforms\n"
   ]
  },
  {
   "cell_type": "code",
   "execution_count": 168,
   "metadata": {
    "collapsed": false
   },
   "outputs": [
    {
     "data": {
      "text/plain": [
       "           s\n",
       "   ----------------\n",
       "    2         2\n",
       "   w  - 2w + s  + 1\n",
       "Type: Expression(Integer)\n"
      ]
     },
     "execution_count": 168,
     "metadata": {},
     "output_type": "execute_result"
    }
   ],
   "source": [
    "laplace(cos((w - 1)*t), t, s)"
   ]
  },
  {
   "cell_type": "code",
   "execution_count": 169,
   "metadata": {
    "collapsed": false
   },
   "outputs": [
    {
     "data": {
      "text/plain": [
       "         +-----------+\n",
       "         | 2\n",
       "   cos(t\\|w  - 2w + 1 )\n",
       "Type: Union(Expression(Integer),...)\n"
      ]
     },
     "execution_count": 169,
     "metadata": {},
     "output_type": "execute_result"
    }
   ],
   "source": [
    "inverseLaplace(%, s, t)"
   ]
  },
  {
   "cell_type": "markdown",
   "metadata": {},
   "source": [
    " ---------- Difference and Differential Equations ----------\n",
    " Second order linear recurrence equation\n"
   ]
  },
  {
   "cell_type": "code",
   "execution_count": 170,
   "metadata": {
    "collapsed": false
   },
   "outputs": [
    {
     "data": {
      "text/plain": [
       "Type: BasicOperator\n"
      ]
     },
     "execution_count": 170,
     "metadata": {},
     "output_type": "execute_result"
    }
   ],
   "source": [
    "r:= operator('r);"
   ]
  },
  {
   "cell_type": "code",
   "execution_count": 171,
   "metadata": {
    "collapsed": false
   },
   "outputs": [
    {
     "data": {
      "text/plain": [
       "   r(n + 2) - 2r(n + 1) + r(n)= 2\n",
       "Type: Equation(Expression(Integer))\n"
      ]
     },
     "execution_count": 171,
     "metadata": {},
     "output_type": "execute_result"
    }
   ],
   "source": [
    "r(n + 2) - 2 * r(n + 1) + r(n) = 2"
   ]
  },
  {
   "cell_type": "code",
   "execution_count": 172,
   "metadata": {
    "collapsed": false
   },
   "outputs": [
    {
     "name": "stdout",
     "output_type": "stream",
     "text": [
      "\n",
      "\n",
      "\n",
      "\n"
     ]
    },
    {
     "data": {
      "text/plain": [
       "   [\n",
       "   [[r(n + 2) - 2r(n + 1) + r(n),0,0], [0,r(n + 2) - 2r(n + 1) + r(n),0],\n",
       "    [0,0,r(n + 2) - 2r(n + 1) + r(n)]]\n",
       "       =\n",
       "       +2  0  0+\n",
       "       |       |\n",
       "       |0  2  0|\n",
       "       |       |\n",
       "       +0  0  2+\n",
       "     ,\n",
       "    +r(0)   0     0  +  +1  0  0+  +r(1)   0     0  +  + 5   - 3  - 7+\n",
       "    |                |  |       |  |                |  |             |\n",
       "    | 0    r(0)   0  |= |0  1  0|, | 0    r(1)   0  |= |- 2   1    2 |]\n",
       "    |                |  |       |  |                |  |             |\n",
       "    + 0     0    r(0)+  +0  0  1+  + 0     0    r(1)+  + 2   - 3  - 4+\n",
       "Type: List(Equation(SquareMatrix(3,Expression(Integer))))\n"
      ]
     },
     "execution_count": 172,
     "metadata": {},
     "output_type": "execute_result"
    }
   ],
   "source": [
    "[%, r(0) = 1, r(1) = m]"
   ]
  },
  {
   "cell_type": "code",
   "execution_count": 173,
   "metadata": {
    "collapsed": false
   },
   "outputs": [
    {
     "data": {
      "text/plain": []
     },
     "execution_count": 173,
     "metadata": {},
     "output_type": "execute_result"
    }
   ],
   "source": [
    ")clear properties r"
   ]
  },
  {
   "cell_type": "markdown",
   "metadata": {},
   "source": [
    " Second order ODE with initial conditions---solve first using Laplace\n",
    " transforms\n"
   ]
  },
  {
   "cell_type": "code",
   "execution_count": 174,
   "metadata": {
    "collapsed": false
   },
   "outputs": [
    {
     "data": {
      "text/plain": [
       "Type: BasicOperator\n"
      ]
     },
     "execution_count": 174,
     "metadata": {},
     "output_type": "execute_result"
    }
   ],
   "source": [
    "f:= operator('f);"
   ]
  },
  {
   "cell_type": "code",
   "execution_count": 175,
   "metadata": {
    "collapsed": false
   },
   "outputs": [
    {
     "data": {
      "text/plain": [
       "    ,,\n",
       "   f  (t) + 4f(t)= sin(2t)\n",
       "\n",
       "Type: Equation(Expression(Integer))\n"
      ]
     },
     "execution_count": 175,
     "metadata": {},
     "output_type": "execute_result"
    }
   ],
   "source": [
    "ode:= D(f(t), t, 2) + 4*f(t) = sin(2*t)"
   ]
  },
  {
   "cell_type": "code",
   "execution_count": 176,
   "metadata": {
    "collapsed": false
   },
   "outputs": [
    {
     "data": {
      "text/plain": [
       "     2                          ,                2\n",
       "   (s  + 4)laplace(f(t),t,s) - f (0) - f(0)s= ------\n",
       "                                               2\n",
       "                                              s  + 4\n",
       "Type: Equation(Expression(Integer))\n"
      ]
     },
     "execution_count": 176,
     "metadata": {},
     "output_type": "execute_result"
    }
   ],
   "source": [
    "map(e +-> laplace(e, t, s), %)"
   ]
  },
  {
   "cell_type": "markdown",
   "metadata": {},
   "source": [
    " Now, solve the ODE directly\n"
   ]
  },
  {
   "cell_type": "code",
   "execution_count": 177,
   "metadata": {
    "collapsed": false
   },
   "outputs": [
    {
     "data": {
      "text/plain": [
       "   sin(2t) - 2t cos(2t)\n",
       "   --------------------\n",
       "             8\n",
       "Type: Union(Expression(Integer),...)\n"
      ]
     },
     "execution_count": 177,
     "metadata": {},
     "output_type": "execute_result"
    }
   ],
   "source": [
    "solve(ode, f, t = 0, [0, 0])"
   ]
  },
  {
   "cell_type": "markdown",
   "metadata": {},
   "source": [
    " First order linear ODE\n"
   ]
  },
  {
   "cell_type": "code",
   "execution_count": 178,
   "metadata": {
    "collapsed": false
   },
   "outputs": [
    {
     "data": {
      "text/plain": [
       "Type: BasicOperator\n"
      ]
     },
     "execution_count": 178,
     "metadata": {},
     "output_type": "execute_result"
    }
   ],
   "source": [
    "y:= operator('y);"
   ]
  },
  {
   "cell_type": "code",
   "execution_count": 179,
   "metadata": {
    "collapsed": false
   },
   "outputs": [
    {
     "data": {
      "text/plain": [
       "    2 ,               sin(x)\n",
       "   x y (x) + 3x y(x)= ------\n",
       "                         x\n",
       "Type: Equation(Expression(Integer))\n"
      ]
     },
     "execution_count": 179,
     "metadata": {},
     "output_type": "execute_result"
    }
   ],
   "source": [
    "x^2 * D(y(x), x) + 3*x*y(x) = sin(x)/x"
   ]
  },
  {
   "cell_type": "code",
   "execution_count": 180,
   "metadata": {
    "collapsed": false
   },
   "outputs": [
    {
     "data": {
      "text/plain": [
       "                  cos(x)          1\n",
       "   [particular= - ------,basis= [--]]\n",
       "                     3            3\n",
       "                    x            x\n",
       "Type: Union(Record(particular: Expression(Integer),basis: List(Expression(Integer))),...)\n"
      ]
     },
     "execution_count": 180,
     "metadata": {},
     "output_type": "execute_result"
    }
   ],
   "source": [
    "solve(%, y, x)"
   ]
  },
  {
   "cell_type": "markdown",
   "metadata": {},
   "source": [
    " Nonlinear ODE\n"
   ]
  },
  {
   "cell_type": "code",
   "execution_count": 181,
   "metadata": {
    "collapsed": false
   },
   "outputs": [
    {
     "data": {
      "text/plain": [
       "    ,,           ,   3\n",
       "   y  (x) + y(x)y (x) = 0\n",
       "\n",
       "Type: Equation(Expression(Integer))\n"
      ]
     },
     "execution_count": 181,
     "metadata": {},
     "output_type": "execute_result"
    }
   ],
   "source": [
    "D(y(x), x, 2) + y(x)*D(y(x), x)^3 = 0"
   ]
  },
  {
   "cell_type": "code",
   "execution_count": 182,
   "metadata": {
    "collapsed": false
   },
   "outputs": [
    {
     "name": "stderr",
     "output_type": "stream",
     "text": [
      " \n",
      "   >> Error detected within library code:\n",
      "   getlincoeff: not an appropriate ordinary differential equation\n",
      "\n"
     ]
    },
    {
     "data": {
      "text/plain": [
       "error\n"
      ]
     },
     "execution_count": 182,
     "metadata": {},
     "output_type": "execute_result"
    }
   ],
   "source": [
    "solve(%, y, x)"
   ]
  },
  {
   "cell_type": "markdown",
   "metadata": {},
   "source": [
    " A simple parametric ODE\n"
   ]
  },
  {
   "cell_type": "code",
   "execution_count": 183,
   "metadata": {
    "collapsed": false
   },
   "outputs": [
    {
     "data": {
      "text/plain": [
       "   y  (x,a)= a y(x,a)\n",
       "    ,1\n",
       "Type: Equation(Expression(Integer))\n"
      ]
     },
     "execution_count": 183,
     "metadata": {},
     "output_type": "execute_result"
    }
   ],
   "source": [
    "D(y(x, a), x) = a*y(x, a)"
   ]
  },
  {
   "cell_type": "code",
   "execution_count": 184,
   "metadata": {
    "collapsed": false
   },
   "outputs": [
    {
     "name": "stderr",
     "output_type": "stream",
     "text": [
      " \n",
      "   >> Error detected within library code:\n",
      "   parseODE: equation has order 0\n",
      "\n"
     ]
    },
    {
     "data": {
      "text/plain": [
       "error\n"
      ]
     },
     "execution_count": 184,
     "metadata": {},
     "output_type": "execute_result"
    }
   ],
   "source": [
    "solve(%, y, x)"
   ]
  },
  {
   "cell_type": "code",
   "execution_count": 185,
   "metadata": {
    "collapsed": false
   },
   "outputs": [
    {
     "data": {
      "text/plain": [
       "    ,\n",
       "   y (x)= a y(x)\n",
       "\n",
       "Type: Equation(Expression(Integer))\n"
      ]
     },
     "execution_count": 185,
     "metadata": {},
     "output_type": "execute_result"
    }
   ],
   "source": [
    "D(y(x), x) = a*y(x)"
   ]
  },
  {
   "cell_type": "code",
   "execution_count": 186,
   "metadata": {
    "collapsed": false
   },
   "outputs": [
    {
     "data": {
      "text/plain": [
       "                            a x\n",
       "   [particular= 0,basis= [%e   ]]\n",
       "Type: Union(Record(particular: Expression(Integer),basis: List(Expression(Integer))),...)\n"
      ]
     },
     "execution_count": 186,
     "metadata": {},
     "output_type": "execute_result"
    }
   ],
   "source": [
    "solve(%, y, x)"
   ]
  },
  {
   "cell_type": "markdown",
   "metadata": {},
   "source": [
    " ODE with boundary conditions.  This problem has nontrivial solutions\n",
    " y(x) = A sin([pi/2 + n pi] x) for n an arbitrary integer.\n"
   ]
  },
  {
   "cell_type": "code",
   "execution_count": 187,
   "metadata": {
    "collapsed": false
   },
   "outputs": [
    {
     "data": {
      "text/plain": [
       "   [particular= 0,basis= [cos(k x),sin(k x)]]\n",
       "Type: Union(Record(particular: Expression(Integer),basis: List(Expression(Integer))),...)\n"
      ]
     },
     "execution_count": 187,
     "metadata": {},
     "output_type": "execute_result"
    }
   ],
   "source": [
    "solve(D(y(x), x, 2) + k^2*y(x) = 0, y, x)"
   ]
  },
  {
   "cell_type": "markdown",
   "metadata": {},
   "source": [
    " bc(%, x = 0, y = 0, x = 1, D(y(x), x) = 0)\n",
    " System of two linear, constant coefficient ODEs\n"
   ]
  },
  {
   "cell_type": "code",
   "execution_count": 188,
   "metadata": {
    "collapsed": false
   },
   "outputs": [
    {
     "data": {
      "text/plain": [
       "Type: BasicOperator\n"
      ]
     },
     "execution_count": 188,
     "metadata": {},
     "output_type": "execute_result"
    }
   ],
   "source": [
    "x:= operator('x);"
   ]
  },
  {
   "cell_type": "code",
   "execution_count": 189,
   "metadata": {
    "collapsed": false
   },
   "outputs": [
    {
     "data": {
      "text/plain": [
       "     ,                    ,\n",
       "   [x (t)= - y(t) + x(t),y (t)= y(t) + x(t)]\n",
       "\n",
       "Type: List(Equation(Expression(Integer)))\n"
      ]
     },
     "execution_count": 189,
     "metadata": {},
     "output_type": "execute_result"
    }
   ],
   "source": [
    "system:= [D(x(t), t) = x(t) - y(t), D(y(t), t) = x(t) + y(t)]"
   ]
  },
  {
   "cell_type": "code",
   "execution_count": 190,
   "metadata": {
    "collapsed": false
   },
   "outputs": [
    {
     "data": {
      "text/plain": [
       "                                       t   t           t                 t\n",
       "   [particular= [0,0],basis= [[cos(t)%e ,%e sin(t)],[%e sin(t),- cos(t)%e ]]]\n",
       "Type: Union(Record(particular: Vector(Expression(Integer)),basis: List(Vector(Expression(Integer)))),...)\n"
      ]
     },
     "execution_count": 190,
     "metadata": {},
     "output_type": "execute_result"
    }
   ],
   "source": [
    "solve(system,[x,y],t)"
   ]
  },
  {
   "cell_type": "markdown",
   "metadata": {},
   "source": [
    " Check the answer\n",
    " Triangular system of two ODEs\n"
   ]
  },
  {
   "cell_type": "code",
   "execution_count": 191,
   "metadata": {
    "collapsed": false
   },
   "outputs": [
    {
     "data": {
      "text/plain": [
       "     ,     x(t)sin(t) + x(t)cos(t) + 2x(t)  ,\n",
       "   [x (t)= -------------------------------,y (t)= - y(t) + x(t)]\n",
       "                      sin(t) + 2\n",
       "Type: List(Equation(Expression(Integer)))\n"
      ]
     },
     "execution_count": 191,
     "metadata": {},
     "output_type": "execute_result"
    }
   ],
   "source": [
    "system:= [D(x(t), t) = x(t) * (1 + cos(t)/(2 + sin(t))), _\n",
    "          D(y(t), t) = x(t) - y(t)]\n"
   ]
  },
  {
   "cell_type": "markdown",
   "metadata": {},
   "source": [
    " Try solving this system one equation at a time\n"
   ]
  },
  {
   "cell_type": "code",
   "execution_count": 192,
   "metadata": {
    "collapsed": false
   },
   "outputs": [
    {
     "data": {
      "text/plain": [
       "                            t            t\n",
       "   [particular= 0,basis= [%e sin(t) + 2%e ]]\n",
       "Type: Union(Record(particular: Expression(Integer),basis: List(Expression(Integer))),...)\n"
      ]
     },
     "execution_count": 192,
     "metadata": {},
     "output_type": "execute_result"
    }
   ],
   "source": [
    "solve(system.1, x, t)"
   ]
  },
  {
   "cell_type": "code",
   "execution_count": 193,
   "metadata": {
    "collapsed": false
   },
   "outputs": [
    {
     "data": {
      "text/plain": [
       "        t               t\n",
       "   C1 %e sin(t) + 2C1 %e\n",
       "Type: Expression(Integer)\n"
      ]
     },
     "execution_count": 193,
     "metadata": {},
     "output_type": "execute_result"
    }
   ],
   "source": [
    "genericx:=C1*%.basis.1"
   ]
  },
  {
   "cell_type": "code",
   "execution_count": 194,
   "metadata": {
    "collapsed": false
   },
   "outputs": [
    {
     "name": "stdout",
     "output_type": "stream",
     "text": [
      "   Compiling function %EA with type Expression(Integer) -> Expression(\n",
      "      Integer) \n"
     ]
    },
    {
     "data": {
      "text/plain": [
       "    ,           t               t\n",
       "   y (t) - C1 %e sin(t) - 2C1 %e  + y(t)\n",
       "\n",
       "Type: Expression(Integer)\n"
      ]
     },
     "execution_count": 194,
     "metadata": {},
     "output_type": "execute_result"
    }
   ],
   "source": [
    "eval(lhs rightZero system.2,x,genericx,t)"
   ]
  },
  {
   "cell_type": "code",
   "execution_count": 195,
   "metadata": {
    "collapsed": false
   },
   "outputs": [
    {
     "name": "stdout",
     "output_type": "stream",
     "text": [
      "\n",
      "\n"
     ]
    },
    {
     "data": {
      "text/plain": [
       "                      - t   t 2                              - t   t 2\n",
       "                2C1 %e   (%e ) sin(t) + (- C1 cos(t) + 5C1)%e   (%e )\n",
       "   [particular= ------------------------------------------------------,\n",
       "                                           5\n",
       "              - t\n",
       "    basis= [%e   ]]\n",
       "Type: Union(Record(particular: Expression(Integer),basis: List(Expression(Integer))),...)\n"
      ]
     },
     "execution_count": 195,
     "metadata": {},
     "output_type": "execute_result"
    }
   ],
   "source": [
    "solve(%,y,t)"
   ]
  },
  {
   "cell_type": "code",
   "execution_count": 196,
   "metadata": {
    "collapsed": false
   },
   "outputs": [
    {
     "data": {
      "text/plain": [
       "         t                              t         - t\n",
       "   2C1 %e sin(t) + (- C1 cos(t) + 5C1)%e  + 5K1 %e\n",
       "   --------------------------------------------------\n",
       "                            5\n",
       "Type: Expression(Integer)\n"
      ]
     },
     "execution_count": 196,
     "metadata": {},
     "output_type": "execute_result"
    }
   ],
   "source": [
    "genericy:=simplify (%.particular)+K1*(%.basis.1)"
   ]
  },
  {
   "cell_type": "code",
   "execution_count": 197,
   "metadata": {
    "collapsed": false
   },
   "outputs": [
    {
     "name": "stdout",
     "output_type": "stream",
     "text": [
      "   Compiling function %ED with type Expression(Integer) -> Expression(\n",
      "      Integer) \n"
     ]
    },
    {
     "data": {
      "text/plain": [
       "   0\n",
       "Type: Expression(Integer)\n"
      ]
     },
     "execution_count": 197,
     "metadata": {},
     "output_type": "execute_result"
    }
   ],
   "source": [
    "eval(lhs rightZero system.1,x,genericx,t)"
   ]
  },
  {
   "cell_type": "code",
   "execution_count": 198,
   "metadata": {
    "collapsed": false
   },
   "outputs": [
    {
     "name": "stdout",
     "output_type": "stream",
     "text": [
      "   Compiling function %EE with type Expression(Integer) -> Expression(\n",
      "      Integer) \n",
      "   Compiling function %EF with type Expression(Integer) -> Expression(\n",
      "      Integer) \n"
     ]
    },
    {
     "data": {
      "text/plain": [
       "   0\n",
       "Type: Expression(Integer)\n"
      ]
     },
     "execution_count": 198,
     "metadata": {},
     "output_type": "execute_result"
    }
   ],
   "source": [
    "eval(lhs rightZero system.2,[x,y],[genericx,genericy],t)"
   ]
  },
  {
   "cell_type": "code",
   "execution_count": 199,
   "metadata": {
    "collapsed": false
   },
   "outputs": [
    {
     "data": {
      "text/plain": []
     },
     "execution_count": 199,
     "metadata": {},
     "output_type": "execute_result"
    }
   ],
   "source": [
    ")clear properties x y"
   ]
  },
  {
   "cell_type": "markdown",
   "metadata": {},
   "source": [
    " ---------- Operators ----------\n",
    " Linear differential operator\n"
   ]
  },
  {
   "cell_type": "code",
   "execution_count": 200,
   "metadata": {
    "collapsed": false
   },
   "outputs": [
    {
     "data": {
      "text/plain": [
       "   D\n",
       "Type: Operator(Expression(Integer))\n"
      ]
     },
     "execution_count": 200,
     "metadata": {},
     "output_type": "execute_result"
    }
   ],
   "source": [
    "DD:= operator(\"D\") :: Operator(Expression Integer)"
   ]
  },
  {
   "cell_type": "code",
   "execution_count": 201,
   "metadata": {
    "collapsed": false
   },
   "outputs": [
    {
     "data": {
      "text/plain": [
       "   D\n",
       "Type: Operator(Expression(Integer))\n"
      ]
     },
     "execution_count": 201,
     "metadata": {},
     "output_type": "execute_result"
    }
   ],
   "source": [
    "evaluate(DD, e +-> D(e, x))$Operator(Expression Integer)"
   ]
  },
  {
   "cell_type": "code",
   "execution_count": 202,
   "metadata": {
    "collapsed": false
   },
   "outputs": [
    {
     "data": {
      "text/plain": [
       "          2\n",
       "   D 2 + D  - D - 2\n",
       "Type: Operator(Expression(Integer))\n"
      ]
     },
     "execution_count": 202,
     "metadata": {},
     "output_type": "execute_result"
    }
   ],
   "source": [
    "L:= (DD - 1) * (DD + 2)"
   ]
  },
  {
   "cell_type": "code",
   "execution_count": 203,
   "metadata": {
    "collapsed": false
   },
   "outputs": [
    {
     "data": {
      "text/plain": [
       "   g\n",
       "Type: BasicOperator\n"
      ]
     },
     "execution_count": 203,
     "metadata": {},
     "output_type": "execute_result"
    }
   ],
   "source": [
    "g:= operator('g)"
   ]
  },
  {
   "cell_type": "code",
   "execution_count": 204,
   "metadata": {
    "collapsed": false
   },
   "outputs": [
    {
     "data": {
      "text/plain": [
       "    ,,       ,\n",
       "   f  (x) + f (x) - 2f(x)\n",
       "\n",
       "Type: Expression(Integer)\n"
      ]
     },
     "execution_count": 204,
     "metadata": {},
     "output_type": "execute_result"
    }
   ],
   "source": [
    "L(f(x))"
   ]
  },
  {
   "cell_type": "code",
   "execution_count": 205,
   "metadata": {
    "collapsed": false
   },
   "outputs": [
    {
     "data": {
      "text/plain": [
       "    ,,       ,\n",
       "   g  (y) + g (y) - 2g(y)\n",
       "\n",
       "Type: Expression(Integer)\n"
      ]
     },
     "execution_count": 205,
     "metadata": {},
     "output_type": "execute_result"
    }
   ],
   "source": [
    "subst(L(subst(g(y), y = x)), x = y)"
   ]
  },
  {
   "cell_type": "code",
   "execution_count": 206,
   "metadata": {
    "collapsed": false
   },
   "outputs": [
    {
     "data": {
      "text/plain": [
       "          2           2                    2\n",
       "   (- 4A z  - 2A)sin(z ) + (2A z + 2A)cos(z )\n",
       "Type: Expression(Integer)\n"
      ]
     },
     "execution_count": 206,
     "metadata": {},
     "output_type": "execute_result"
    }
   ],
   "source": [
    "subst(L(subst(A * sin(z^2), z = x)), x = z)"
   ]
  },
  {
   "cell_type": "markdown",
   "metadata": {},
   "source": [
    " Truncated Taylor series operator\n"
   ]
  },
  {
   "cell_type": "code",
   "execution_count": 207,
   "metadata": {
    "collapsed": false
   },
   "outputs": [
    {
     "name": "stdout",
     "output_type": "stream",
     "text": [
      "      \n"
     ]
    },
    {
     "data": {
      "text/plain": [
       "     (f,xx,a)\n",
       "   +-> \n",
       "               0                                 1\n",
       "       subst(DD (f(x)),x= a)         0   subst(DD (f(x)),x= a)         1\n",
       "       --------------------- (xx - a)  + --------------------- (xx - a)\n",
       "            factorial(0)                      factorial(1)\n",
       "     + \n",
       "               2\n",
       "       subst(DD (f(x)),x= a)         2\n",
       "       --------------------- (xx - a)\n",
       "            factorial(2)\n",
       "Type: AnonymousFunction\n"
      ]
     },
     "execution_count": 207,
     "metadata": {},
     "output_type": "execute_result"
    }
   ],
   "source": [
    "T:= (f, xx, a) +-> subst((DD^0)(f(x)), x = a)/factorial(0) * (xx - a)^0 + _\n",
    "                   subst((DD^1)(f(x)), x = a)/factorial(1) * (xx - a)^1 + _\n",
    "                   subst((DD^2)(f(x)), x = a)/factorial(2) * (xx - a)^2\n"
   ]
  },
  {
   "cell_type": "code",
   "execution_count": 208,
   "metadata": {
    "collapsed": false
   },
   "outputs": [
    {
     "data": {
      "text/plain": [
       "     2           2  ,,                ,\n",
       "   (x  - 2a x + a )f  (a) + (2x - 2a)f (a) + 2f(a)\n",
       "\n",
       "   -----------------------------------------------\n",
       "                          2\n",
       "Type: Expression(Integer)\n"
      ]
     },
     "execution_count": 208,
     "metadata": {},
     "output_type": "execute_result"
    }
   ],
   "source": [
    "T(f, x, a)"
   ]
  },
  {
   "cell_type": "code",
   "execution_count": 209,
   "metadata": {
    "collapsed": false
   },
   "outputs": [
    {
     "data": {
      "text/plain": [
       "     2           2  ,,                ,\n",
       "   (y  - 2b y + b )g  (b) + (2y - 2b)g (b) + 2g(b)\n",
       "\n",
       "   -----------------------------------------------\n",
       "                          2\n",
       "Type: Expression(Integer)\n"
      ]
     },
     "execution_count": 209,
     "metadata": {},
     "output_type": "execute_result"
    }
   ],
   "source": [
    "T(g, y, b)"
   ]
  },
  {
   "cell_type": "code",
   "execution_count": 210,
   "metadata": {
    "collapsed": false
   },
   "outputs": [
    {
     "data": {
      "text/plain": [
       "   sin\n",
       "Type: Operator(Expression(Integer))\n"
      ]
     },
     "execution_count": 210,
     "metadata": {},
     "output_type": "execute_result"
    }
   ],
   "source": [
    "Sin:= operator(\"sin\") :: Operator(Expression Integer)"
   ]
  },
  {
   "cell_type": "code",
   "execution_count": 211,
   "metadata": {
    "collapsed": false
   },
   "outputs": [
    {
     "data": {
      "text/plain": [
       "   sin\n",
       "Type: Operator(Expression(Integer))\n"
      ]
     },
     "execution_count": 211,
     "metadata": {},
     "output_type": "execute_result"
    }
   ],
   "source": [
    "evaluate(Sin, x +-> sin(x))$Operator(Expression Integer)"
   ]
  },
  {
   "cell_type": "code",
   "execution_count": 212,
   "metadata": {
    "collapsed": false
   },
   "outputs": [
    {
     "data": {
      "text/plain": [
       "       2           2\n",
       "   (- z  + 2c z - c  + 2)sin(c) + (2z - 2c)cos(c)\n",
       "   ----------------------------------------------\n",
       "                          2\n",
       "Type: Expression(Integer)\n"
      ]
     },
     "execution_count": 212,
     "metadata": {},
     "output_type": "execute_result"
    }
   ],
   "source": [
    "T(Sin, z, c)"
   ]
  },
  {
   "cell_type": "markdown",
   "metadata": {},
   "source": [
    " ---------- Programming ----------\n",
    " Write a simple program to compute Legendre polynomials\n"
   ]
  },
  {
   "cell_type": "code",
   "execution_count": 213,
   "metadata": {
    "collapsed": false
   },
   "outputs": [
    {
     "data": {
      "text/plain": []
     },
     "execution_count": 213,
     "metadata": {},
     "output_type": "execute_result"
    }
   ],
   "source": [
    ")clear properties p"
   ]
  },
  {
   "cell_type": "code",
   "execution_count": 214,
   "metadata": {
    "collapsed": false
   },
   "outputs": [
    {
     "data": {
      "text/plain": [
       "Type: Void\n"
      ]
     },
     "execution_count": 214,
     "metadata": {},
     "output_type": "execute_result"
    }
   ],
   "source": [
    "p(n, x) == 1/(2^n*factorial(n)) * D((x^2 - 1)^n, x, n)"
   ]
  },
  {
   "cell_type": "code",
   "execution_count": 215,
   "metadata": {
    "collapsed": false
   },
   "outputs": [
    {
     "name": "stdout",
     "output_type": "stream",
     "text": [
      "   Compiling function p with type (NonNegativeInteger,Variable(x)) -> \n",
      "      Polynomial(Fraction(Integer)) \n"
     ]
    },
    {
     "data": {
      "text/plain": [
       "\n",
       "   p(0, x) =\n",
       "   1\n",
       "\n",
       "   p(1, x) =\n",
       "   x\n",
       "\n",
       "   p(2, x) =\n",
       "   3  2   1\n",
       "   - x  - -\n",
       "   2      2\n",
       "\n",
       "   p(3, x) =\n",
       "   5  3   3\n",
       "   - x  - - x\n",
       "   2      2\n",
       "\n",
       "   p(4, x) =\n",
       "   35  4   15  2   3\n",
       "   -- x  - -- x  + -\n",
       "    8       4      8\n",
       "Type: Void\n"
      ]
     },
     "execution_count": 215,
     "metadata": {},
     "output_type": "execute_result"
    }
   ],
   "source": [
    "for i in 0..4 repeat {  output(\"\");    output(concat([\"p(\", string(i), \", x) = \"]));    output(p(i, x))}"
   ]
  },
  {
   "cell_type": "code",
   "execution_count": 216,
   "metadata": {
    "collapsed": false
   },
   "outputs": [
    {
     "name": "stdout",
     "output_type": "stream",
     "text": [
      "   Compiling function p with type (PositiveInteger,Variable(x)) -> \n",
      "      Polynomial(Fraction(Integer)) \n"
     ]
    },
    {
     "data": {
      "text/plain": [
       "   1\n",
       "Type: Polynomial(Fraction(Integer))\n"
      ]
     },
     "execution_count": 216,
     "metadata": {},
     "output_type": "execute_result"
    }
   ],
   "source": [
    "eval(p(4, x), x = 1)"
   ]
  },
  {
   "cell_type": "markdown",
   "metadata": {},
   "source": [
    " Now, perform the same computation using a recursive definition\n"
   ]
  },
  {
   "cell_type": "code",
   "execution_count": 217,
   "metadata": {
    "collapsed": false
   },
   "outputs": [
    {
     "data": {
      "text/plain": [
       "Type: Void\n"
      ]
     },
     "execution_count": 217,
     "metadata": {},
     "output_type": "execute_result"
    }
   ],
   "source": [
    "pp(0, x) == 1"
   ]
  },
  {
   "cell_type": "code",
   "execution_count": 218,
   "metadata": {
    "collapsed": false
   },
   "outputs": [
    {
     "data": {
      "text/plain": [
       "Type: Void\n"
      ]
     },
     "execution_count": 218,
     "metadata": {},
     "output_type": "execute_result"
    }
   ],
   "source": [
    "pp(1, x) == x"
   ]
  },
  {
   "cell_type": "code",
   "execution_count": 219,
   "metadata": {
    "collapsed": false
   },
   "outputs": [
    {
     "data": {
      "text/plain": [
       "Type: Void\n"
      ]
     },
     "execution_count": 219,
     "metadata": {},
     "output_type": "execute_result"
    }
   ],
   "source": [
    "pp(n, x) == ((2*n - 1)*x*pp(n - 1, x) - (n - 1)*pp(n - 2, x))/n"
   ]
  },
  {
   "cell_type": "code",
   "execution_count": 220,
   "metadata": {
    "collapsed": false
   },
   "outputs": [
    {
     "name": "stdout",
     "output_type": "stream",
     "text": [
      "   Compiling function pp with type (Integer,Variable(x)) -> Polynomial(\n",
      "      Fraction(Integer)) \n"
     ]
    },
    {
     "data": {
      "text/plain": [
       "\n",
       "   pp(0, x) =\n",
       "   1\n",
       "\n",
       "   pp(1, x) =\n",
       "   x\n",
       "\n",
       "   pp(2, x) =\n",
       "   3  2   1\n",
       "   - x  - -\n",
       "   2      2\n",
       "\n",
       "   pp(3, x) =\n",
       "   5  3   3\n",
       "   - x  - - x\n",
       "   2      2\n",
       "\n",
       "   pp(4, x) =\n",
       "   35  4   15  2   3\n",
       "   -- x  - -- x  + -\n",
       "    8       4      8\n",
       "Type: Void\n"
      ]
     },
     "execution_count": 220,
     "metadata": {},
     "output_type": "execute_result"
    }
   ],
   "source": [
    "for i in 0..4 repeat {   output(\"\");   output(concat([\"pp(\", string(i), \", x) = \"]));   output(pp(i, x))}"
   ]
  },
  {
   "cell_type": "code",
   "execution_count": 221,
   "metadata": {
    "collapsed": false
   },
   "outputs": [
    {
     "name": "stdout",
     "output_type": "stream",
     "text": [
      "   Compiled code for p has been cleared.\n",
      "   Compiled code for pp has been cleared.\n"
     ]
    },
    {
     "data": {
      "text/plain": []
     },
     "execution_count": 221,
     "metadata": {},
     "output_type": "execute_result"
    }
   ],
   "source": [
    ")clear properties p pp"
   ]
  },
  {
   "cell_type": "markdown",
   "metadata": {},
   "source": [
    " ---------- Translation ----------\n",
    " Horner's rule---this is important for numerical algorithms\n"
   ]
  },
  {
   "cell_type": "code",
   "execution_count": 222,
   "metadata": {
    "collapsed": false
   },
   "outputs": [
    {
     "data": {
      "text/plain": [
       "   a\n",
       "Type: BasicOperator\n"
      ]
     },
     "execution_count": 222,
     "metadata": {},
     "output_type": "execute_result"
    }
   ],
   "source": [
    "a:= operator('a)"
   ]
  },
  {
   "cell_type": "code",
   "execution_count": 223,
   "metadata": {
    "collapsed": false
   },
   "outputs": [
    {
     "data": {
      "text/plain": [
       "        5        4        3        2\n",
       "   a(5)x  + a(4)x  + a(3)x  + a(2)x  + a(1)x\n",
       "Type: Expression(Integer)\n"
      ]
     },
     "execution_count": 223,
     "metadata": {},
     "output_type": "execute_result"
    }
   ],
   "source": [
    "sum(a(i)*x^i, i = 1..5)"
   ]
  },
  {
   "cell_type": "code",
   "execution_count": 224,
   "metadata": {
    "collapsed": false
   },
   "outputs": [
    {
     "data": {
      "text/plain": [
       "        5        4        3        2\n",
       "   a(5)x  + a(4)x  + a(3)x  + a(2)x  + a(1)x\n",
       "Type: Factored(Expression(Integer))\n"
      ]
     },
     "execution_count": 224,
     "metadata": {},
     "output_type": "execute_result"
    }
   ],
   "source": [
    "p:= factor(%)"
   ]
  },
  {
   "cell_type": "markdown",
   "metadata": {},
   "source": [
    " Convert the result into FORTRAN syntax\n"
   ]
  },
  {
   "cell_type": "code",
   "execution_count": 225,
   "metadata": {
    "collapsed": false
   },
   "outputs": [
    {
     "data": {
      "text/plain": []
     },
     "execution_count": 225,
     "metadata": {},
     "output_type": "execute_result"
    }
   ],
   "source": [
    ")set fortran ints2floats off"
   ]
  },
  {
   "cell_type": "code",
   "execution_count": 226,
   "metadata": {
    "collapsed": false
   },
   "outputs": [
    {
     "name": "stderr",
     "output_type": "stream",
     "text": [
      "UNDEFINED-FUNCTION: \n",
      "  #<UNDEFINED-FUNCTION dispfortexp {100B1E6183}>\n"
     ]
    },
    {
     "data": {
      "text/plain": []
     },
     "execution_count": 226,
     "metadata": {},
     "output_type": "execute_result"
    }
   ],
   "source": [
    "outputAsFortran('p = p)"
   ]
  },
  {
   "cell_type": "markdown",
   "metadata": {},
   "source": [
    " ---------- Boolean Logic ----------\n",
    " Simplify logical expressions\n"
   ]
  },
  {
   "cell_type": "code",
   "execution_count": 227,
   "metadata": {
    "collapsed": false
   },
   "outputs": [
    {
     "data": {
      "text/plain": [
       "   false\n",
       "Type: Boolean\n"
      ]
     },
     "execution_count": 227,
     "metadata": {},
     "output_type": "execute_result"
    }
   ],
   "source": [
    "true and false"
   ]
  },
  {
   "cell_type": "code",
   "execution_count": 228,
   "metadata": {
    "collapsed": false
   },
   "outputs": [
    {
     "name": "stderr",
     "output_type": "stream",
     "text": [
      " \n",
      "   Argument number 1 to \"or\" must be a Boolean.\n",
      "\n"
     ]
    },
    {
     "data": {
      "text/plain": [
       "error\n"
      ]
     },
     "execution_count": 228,
     "metadata": {},
     "output_type": "execute_result"
    }
   ],
   "source": [
    "x or (not x)"
   ]
  },
  {
   "cell_type": "markdown",
   "metadata": {},
   "source": [
    "x or y or (x and y)\n"
   ]
  },
  {
   "cell_type": "code",
   "execution_count": 229,
   "metadata": {
    "collapsed": false
   },
   "outputs": [
    {
     "data": {
      "text/plain": []
     },
     "execution_count": 229,
     "metadata": {},
     "output_type": "execute_result"
    }
   ],
   "source": [
    "--\n",
    "-- EOF\n",
    "--"
   ]
  }
 ],
 "metadata": {
  "kernelspec": {
   "display_name": "FriCAS",
   "language": "spad",
   "name": "ifricas"
  },
  "language_info": {
   "codemirror_mode": "spad",
   "mimetype": "text/x-spad",
   "name": "SPAD",
   "pygments_lexer": "spad",
   "version": "1.2.6"
  },
  "name": "wester.ipynb"
 },
 "nbformat": 4,
 "nbformat_minor": 0
}