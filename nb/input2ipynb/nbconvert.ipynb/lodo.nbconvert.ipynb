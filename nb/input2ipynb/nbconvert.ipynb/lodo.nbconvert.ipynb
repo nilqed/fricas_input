{
 "cells": [
  {
   "cell_type": "markdown",
   "metadata": {},
   "source": [
    "Copyright The Numerical Algorithms Group Limited 1991.\n",
    " lodo.input -----------------------------\n"
   ]
  },
  {
   "cell_type": "markdown",
   "metadata": {},
   "source": [
    " LODO2(A, M) is the domain of linear ordinary differential operators over\n",
    " an A-module M, where A is a differential ring.  This includes the\n",
    " cases of operators which are polynomials in D acting upon scalars or\n",
    " vectors depending on a single variable.  The coefficients of the\n",
    " operator polynomials can be integers, rational functions, matrices\n",
    " or elements of other domains.\n"
   ]
  },
  {
   "cell_type": "markdown",
   "metadata": {},
   "source": [
    "\n",
    " Differential operators with constant coefficients\n",
    "\n"
   ]
  },
  {
   "cell_type": "code",
   "execution_count": 0,
   "metadata": {
    "collapsed": false
   },
   "outputs": [
    {
     "name": "stdout",
     "output_type": "stream",
     "text": [
      "   All user variables and function definitions have been cleared.\n"
     ]
    },
    {
     "data": {
      "text/plain": []
     },
     "execution_count": 0,
     "metadata": {},
     "output_type": "execute_result"
    }
   ],
   "source": [
    ")clear all"
   ]
  },
  {
   "cell_type": "code",
   "execution_count": 1,
   "metadata": {
    "collapsed": false
   },
   "outputs": [
    {
     "data": {
      "text/plain": [
       "   Fraction(Integer)\n",
       "                                                                   Type: Type\n"
      ]
     },
     "execution_count": 1,
     "metadata": {},
     "output_type": "execute_result"
    }
   ],
   "source": [
    "RN:=FRAC INT"
   ]
  },
  {
   "cell_type": "code",
   "execution_count": 2,
   "metadata": {
    "collapsed": false
   },
   "outputs": [
    {
     "data": {
      "text/plain": [
       "                                                                   Type: Void\n"
      ]
     },
     "execution_count": 2,
     "metadata": {},
     "output_type": "execute_result"
    }
   ],
   "source": [
    "Dx: LODO2(RN, UP(x,RN))"
   ]
  },
  {
   "cell_type": "code",
   "execution_count": 3,
   "metadata": {
    "collapsed": false
   },
   "outputs": [
    {
     "name": "stdout",
     "output_type": "stream",
     "text": [
      "Warning: HyperTeX macro table not found\n"
     ]
    },
    {
     "data": {
      "text/plain": [
       "   D\n",
       "Type: LinearOrdinaryDifferentialOperator2(Fraction(Integer),UnivariatePolynomial(x,Fraction(Integer)))\n"
      ]
     },
     "execution_count": 3,
     "metadata": {},
     "output_type": "execute_result"
    }
   ],
   "source": [
    "Dx := D()                  -- definition of an operator"
   ]
  },
  {
   "cell_type": "code",
   "execution_count": 4,
   "metadata": {
    "collapsed": false
   },
   "outputs": [
    {
     "data": {
      "text/plain": [
       "   D + 1\n",
       "Type: LinearOrdinaryDifferentialOperator2(Fraction(Integer),UnivariatePolynomial(x,Fraction(Integer)))\n"
      ]
     },
     "execution_count": 4,
     "metadata": {},
     "output_type": "execute_result"
    }
   ],
   "source": [
    "a  := Dx  + 1"
   ]
  },
  {
   "cell_type": "code",
   "execution_count": 5,
   "metadata": {
    "collapsed": false
   },
   "outputs": [
    {
     "data": {
      "text/plain": [
       "   1  2       1\n",
       "   - D  + D + -\n",
       "   2          2\n",
       "Type: LinearOrdinaryDifferentialOperator2(Fraction(Integer),UnivariatePolynomial(x,Fraction(Integer)))\n"
      ]
     },
     "execution_count": 5,
     "metadata": {},
     "output_type": "execute_result"
    }
   ],
   "source": [
    "b  := a + 1/2*Dx^2 - 1/2"
   ]
  },
  {
   "cell_type": "code",
   "execution_count": 6,
   "metadata": {
    "collapsed": false
   },
   "outputs": [
    {
     "data": {
      "text/plain": [
       "     2   2\n",
       "   4x  + -\n",
       "         3\n",
       "                              Type: UnivariatePolynomial(x,Fraction(Integer))\n"
      ]
     },
     "execution_count": 6,
     "metadata": {},
     "output_type": "execute_result"
    }
   ],
   "source": [
    "p: UP(x,RN) := 4*x^2 + 2/3      -- something to work on"
   ]
  },
  {
   "cell_type": "code",
   "execution_count": 7,
   "metadata": {
    "collapsed": false
   },
   "outputs": [
    {
     "data": {
      "text/plain": [
       "     2        2\n",
       "   4x  + 8x + -\n",
       "              3\n",
       "                              Type: UnivariatePolynomial(x,Fraction(Integer))\n"
      ]
     },
     "execution_count": 7,
     "metadata": {},
     "output_type": "execute_result"
    }
   ],
   "source": [
    "a p                        -- application of an operator to a polynomial"
   ]
  },
  {
   "cell_type": "code",
   "execution_count": 8,
   "metadata": {
    "collapsed": false
   },
   "outputs": [
    {
     "data": {
      "text/plain": [
       "     2         37    2         37\n",
       "   2x  + 12x + --= 2x  + 12x + --\n",
       "                3               3\n",
       "                    Type: Equation(UnivariatePolynomial(x,Fraction(Integer)))\n"
      ]
     },
     "execution_count": 8,
     "metadata": {},
     "output_type": "execute_result"
    }
   ],
   "source": [
    "(a*b) p = a b p            -- multiplication is defined by this identity"
   ]
  },
  {
   "cell_type": "code",
   "execution_count": 9,
   "metadata": {
    "collapsed": false
   },
   "outputs": [
    {
     "data": {
      "text/plain": [
       "    1  6    5  5   13  4   19  3   79  2    7     1\n",
       "   -- D  + -- D  + -- D  + -- D  + -- D  + -- D + -\n",
       "   72      36      24      18      72      12     8\n",
       "Type: LinearOrdinaryDifferentialOperator2(Fraction(Integer),UnivariatePolynomial(x,Fraction(Integer)))\n"
      ]
     },
     "execution_count": 9,
     "metadata": {},
     "output_type": "execute_result"
    }
   ],
   "source": [
    "c := (1/9)*b*(a + b)^2    -- exponentiation follows from multiplication"
   ]
  },
  {
   "cell_type": "code",
   "execution_count": 10,
   "metadata": {
    "collapsed": false
   },
   "outputs": [
    {
     "data": {
      "text/plain": [
       "     2   44     541\n",
       "   3x  + -- x + ---\n",
       "          3      36\n",
       "                              Type: UnivariatePolynomial(x,Fraction(Integer))\n"
      ]
     },
     "execution_count": 10,
     "metadata": {},
     "output_type": "execute_result"
    }
   ],
   "source": [
    "(a^2 - 3/4*b + c) (p + 1) -- general application of operator expressions"
   ]
  },
  {
   "cell_type": "markdown",
   "metadata": {},
   "source": [
    "\n",
    " Differential operators with rational function coefficients\n",
    "\n"
   ]
  },
  {
   "cell_type": "code",
   "execution_count": 11,
   "metadata": {
    "collapsed": false
   },
   "outputs": [
    {
     "name": "stdout",
     "output_type": "stream",
     "text": [
      "   All user variables and function definitions have been cleared.\n"
     ]
    },
    {
     "data": {
      "text/plain": []
     },
     "execution_count": 11,
     "metadata": {},
     "output_type": "execute_result"
    }
   ],
   "source": [
    ")clear all"
   ]
  },
  {
   "cell_type": "code",
   "execution_count": 12,
   "metadata": {
    "collapsed": false
   },
   "outputs": [
    {
     "data": {
      "text/plain": [
       "   Fraction(UnivariatePolynomial(x,Integer))\n",
       "                                                                   Type: Type\n"
      ]
     },
     "execution_count": 12,
     "metadata": {},
     "output_type": "execute_result"
    }
   ],
   "source": [
    "RFZ := FRAC UP(x,INT)"
   ]
  },
  {
   "cell_type": "code",
   "execution_count": 13,
   "metadata": {
    "collapsed": false
   },
   "outputs": [
    {
     "data": {
      "text/plain": [
       "                                                                   Type: Void\n"
      ]
     },
     "execution_count": 13,
     "metadata": {},
     "output_type": "execute_result"
    }
   ],
   "source": [
    "(Dx, a, b): LODO1 RFZ"
   ]
  },
  {
   "cell_type": "code",
   "execution_count": 14,
   "metadata": {
    "collapsed": false
   },
   "outputs": [
    {
     "data": {
      "text/plain": [
       "   D\n",
       "Type: LinearOrdinaryDifferentialOperator1(Fraction(UnivariatePolynomial(x,Integer)))\n"
      ]
     },
     "execution_count": 14,
     "metadata": {},
     "output_type": "execute_result"
    }
   ],
   "source": [
    "Dx := D()"
   ]
  },
  {
   "cell_type": "code",
   "execution_count": 15,
   "metadata": {
    "collapsed": false
   },
   "outputs": [
    {
     "data": {
      "text/plain": [
       "     2 2        1\n",
       "   3x D  + 2D + -\n",
       "                x\n",
       "Type: LinearOrdinaryDifferentialOperator1(Fraction(UnivariatePolynomial(x,Integer)))\n"
      ]
     },
     "execution_count": 15,
     "metadata": {},
     "output_type": "execute_result"
    }
   ],
   "source": [
    "b := 3*x^2*Dx^2 + 2*Dx + 1/x"
   ]
  },
  {
   "cell_type": "code",
   "execution_count": 16,
   "metadata": {
    "collapsed": false
   },
   "outputs": [
    {
     "data": {
      "text/plain": [
       "      3 3       2        2         7\n",
       "   15x D  + (51x  + 10x)D  + 29D + -\n",
       "                                   x\n",
       "Type: LinearOrdinaryDifferentialOperator1(Fraction(UnivariatePolynomial(x,Integer)))\n"
      ]
     },
     "execution_count": 16,
     "metadata": {},
     "output_type": "execute_result"
    }
   ],
   "source": [
    "a := b*(5*x*Dx + 7)"
   ]
  },
  {
   "cell_type": "code",
   "execution_count": 17,
   "metadata": {
    "collapsed": false
   },
   "outputs": [
    {
     "data": {
      "text/plain": [
       "    4\n",
       "   x  + 1\n",
       "   ------\n",
       "      2\n",
       "     x\n",
       "                              Type: Fraction(UnivariatePolynomial(x,Integer))\n"
      ]
     },
     "execution_count": 17,
     "metadata": {},
     "output_type": "execute_result"
    }
   ],
   "source": [
    "p: RFZ := x^2 + 1/x^2"
   ]
  },
  {
   "cell_type": "code",
   "execution_count": 18,
   "metadata": {
    "collapsed": false
   },
   "outputs": [
    {
     "data": {
      "text/plain": [
       "        4\n",
       "   - 75x  + 540x - 75\n",
       "   ------------------\n",
       "            4\n",
       "           x\n",
       "                              Type: Fraction(UnivariatePolynomial(x,Integer))\n"
      ]
     },
     "execution_count": 18,
     "metadata": {},
     "output_type": "execute_result"
    }
   ],
   "source": [
    "(a*b - b*a) p  -- operator multiplication is not commutative"
   ]
  },
  {
   "cell_type": "markdown",
   "metadata": {},
   "source": [
    " When the coefficients of the operator polynomials come from a field\n",
    " it is possible to define left and right division of the operators.\n",
    " This allows the computation of left and right gcd's via remainder\n",
    " sequences, and also the computation of left and right lcm's.\n"
   ]
  },
  {
   "cell_type": "code",
   "execution_count": 19,
   "metadata": {
    "collapsed": false
   },
   "outputs": [
    {
     "data": {
      "text/plain": [
       "   [quotient= 5x D + 7,remainder= 0]\n",
       "Type: Record(quotient: LinearOrdinaryDifferentialOperator1(Fraction(UnivariatePolynomial(x,Integer))),remainder: LinearOrdinaryDifferentialOperator1(Fraction(UnivariatePolynomial(x,Integer))))\n"
      ]
     },
     "execution_count": 19,
     "metadata": {},
     "output_type": "execute_result"
    }
   ],
   "source": [
    "leftDivide(a,b)      -- result is the quotient/remainder pair"
   ]
  },
  {
   "cell_type": "code",
   "execution_count": 20,
   "metadata": {
    "collapsed": false
   },
   "outputs": [
    {
     "data": {
      "text/plain": [
       "   0\n",
       "Type: LinearOrdinaryDifferentialOperator1(Fraction(UnivariatePolynomial(x,Integer)))\n"
      ]
     },
     "execution_count": 20,
     "metadata": {},
     "output_type": "execute_result"
    }
   ],
   "source": [
    "a - (b * %.quotient + %.remainder)"
   ]
  },
  {
   "cell_type": "code",
   "execution_count": 21,
   "metadata": {
    "collapsed": false
   },
   "outputs": [
    {
     "data": {
      "text/plain": [
       "                                        5\n",
       "   [quotient= 5x D + 7,remainder= 10D + -]\n",
       "                                        x\n",
       "Type: Record(quotient: LinearOrdinaryDifferentialOperator1(Fraction(UnivariatePolynomial(x,Integer))),remainder: LinearOrdinaryDifferentialOperator1(Fraction(UnivariatePolynomial(x,Integer))))\n"
      ]
     },
     "execution_count": 21,
     "metadata": {},
     "output_type": "execute_result"
    }
   ],
   "source": [
    "rightDivide(a,b)"
   ]
  },
  {
   "cell_type": "code",
   "execution_count": 22,
   "metadata": {
    "collapsed": false
   },
   "outputs": [
    {
     "data": {
      "text/plain": [
       "   0\n",
       "Type: LinearOrdinaryDifferentialOperator1(Fraction(UnivariatePolynomial(x,Integer)))\n"
      ]
     },
     "execution_count": 22,
     "metadata": {},
     "output_type": "execute_result"
    }
   ],
   "source": [
    "a - (%.quotient * b + %.remainder)"
   ]
  },
  {
   "cell_type": "markdown",
   "metadata": {},
   "source": [
    " A GCD doesn't necessarily divide a and b on both sides.\n"
   ]
  },
  {
   "cell_type": "code",
   "execution_count": 23,
   "metadata": {
    "collapsed": false
   },
   "outputs": [
    {
     "data": {
      "text/plain": [
       "     2 2        1\n",
       "   3x D  + 2D + -\n",
       "                x\n",
       "Type: LinearOrdinaryDifferentialOperator1(Fraction(UnivariatePolynomial(x,Integer)))\n"
      ]
     },
     "execution_count": 23,
     "metadata": {},
     "output_type": "execute_result"
    }
   ],
   "source": [
    "e := leftGcd(a,b)"
   ]
  },
  {
   "cell_type": "code",
   "execution_count": 24,
   "metadata": {
    "collapsed": false
   },
   "outputs": [
    {
     "data": {
      "text/plain": [
       "   0\n",
       "Type: LinearOrdinaryDifferentialOperator1(Fraction(UnivariatePolynomial(x,Integer)))\n"
      ]
     },
     "execution_count": 24,
     "metadata": {},
     "output_type": "execute_result"
    }
   ],
   "source": [
    "leftRemainder(a, e)    -- remainder from left division"
   ]
  },
  {
   "cell_type": "code",
   "execution_count": 25,
   "metadata": {
    "collapsed": false
   },
   "outputs": [
    {
     "data": {
      "text/plain": [
       "         5\n",
       "   10D + -\n",
       "         x\n",
       "Type: LinearOrdinaryDifferentialOperator1(Fraction(UnivariatePolynomial(x,Integer)))\n"
      ]
     },
     "execution_count": 25,
     "metadata": {},
     "output_type": "execute_result"
    }
   ],
   "source": [
    "rightRemainder(a, e)    -- remainder from right division"
   ]
  },
  {
   "cell_type": "markdown",
   "metadata": {},
   "source": [
    " An LCM is not necessarily divisible from both sides.\n"
   ]
  },
  {
   "cell_type": "code",
   "execution_count": 26,
   "metadata": {
    "collapsed": false
   },
   "outputs": [
    {
     "data": {
      "text/plain": [
       "      3 3       2        2         7\n",
       "   15x D  + (51x  + 10x)D  + 29D + -\n",
       "                                   x\n",
       "Type: LinearOrdinaryDifferentialOperator1(Fraction(UnivariatePolynomial(x,Integer)))\n"
      ]
     },
     "execution_count": 26,
     "metadata": {},
     "output_type": "execute_result"
    }
   ],
   "source": [
    "f := rightLcm(a,b)"
   ]
  },
  {
   "cell_type": "code",
   "execution_count": 27,
   "metadata": {
    "collapsed": false
   },
   "outputs": [
    {
     "data": {
      "text/plain": [
       "   0\n",
       "Type: LinearOrdinaryDifferentialOperator1(Fraction(UnivariatePolynomial(x,Integer)))\n"
      ]
     },
     "execution_count": 27,
     "metadata": {},
     "output_type": "execute_result"
    }
   ],
   "source": [
    "leftRemainder(f, b)"
   ]
  },
  {
   "cell_type": "code",
   "execution_count": 28,
   "metadata": {
    "collapsed": false
   },
   "outputs": [
    {
     "data": {
      "text/plain": [
       "         5\n",
       "   10D + -\n",
       "         x\n",
       "Type: LinearOrdinaryDifferentialOperator1(Fraction(UnivariatePolynomial(x,Integer)))\n"
      ]
     },
     "execution_count": 28,
     "metadata": {},
     "output_type": "execute_result"
    }
   ],
   "source": [
    "rightRemainder(f, b)  -- the remainder is non-zero"
   ]
  },
  {
   "cell_type": "markdown",
   "metadata": {},
   "source": [
    "\n",
    "\n",
    " Problem: find the first few coefficients of exp(x)/x^i in\n",
    "       Dop phi\n",
    " where\n",
    "       Dop := D^3 + G/x^2 * D + H/x^3 - 1\n",
    "       phi := sum(s[i]*exp(x)/x^i, i = 0..)\n",
    "\n"
   ]
  },
  {
   "cell_type": "code",
   "execution_count": 29,
   "metadata": {
    "collapsed": false
   },
   "outputs": [
    {
     "name": "stdout",
     "output_type": "stream",
     "text": [
      "   All user variables and function definitions have been cleared.\n"
     ]
    },
    {
     "data": {
      "text/plain": []
     },
     "execution_count": 29,
     "metadata": {},
     "output_type": "execute_result"
    }
   ],
   "source": [
    ")clear all"
   ]
  },
  {
   "cell_type": "code",
   "execution_count": 30,
   "metadata": {
    "collapsed": false
   },
   "outputs": [
    {
     "data": {
      "text/plain": [
       "                                                                   Type: Void\n"
      ]
     },
     "execution_count": 30,
     "metadata": {},
     "output_type": "execute_result"
    }
   ],
   "source": [
    "Dx: LODO(EXPR INT, f +-> D(f, x))"
   ]
  },
  {
   "cell_type": "code",
   "execution_count": 31,
   "metadata": {
    "collapsed": false
   },
   "outputs": [
    {
     "data": {
      "text/plain": [
       "   D\n",
       "Type: LinearOrdinaryDifferentialOperator(Expression(Integer),theMap(*1;anonymousFunction;0;initial;internal))\n"
      ]
     },
     "execution_count": 31,
     "metadata": {},
     "output_type": "execute_result"
    }
   ],
   "source": [
    "Dx := D()"
   ]
  },
  {
   "cell_type": "code",
   "execution_count": 32,
   "metadata": {
    "collapsed": false
   },
   "outputs": [
    {
     "data": {
      "text/plain": [
       "                  3\n",
       "    3    G     - x  + H\n",
       "   D  + -- D + --------\n",
       "         2         3\n",
       "        x         x\n",
       "Type: LinearOrdinaryDifferentialOperator(Expression(Integer),theMap(*1;anonymousFunction;0;initial;internal))\n"
      ]
     },
     "execution_count": 32,
     "metadata": {},
     "output_type": "execute_result"
    }
   ],
   "source": [
    "Dop:= Dx^3 + G/x^2*Dx + H/x^3 - 1"
   ]
  },
  {
   "cell_type": "code",
   "execution_count": 33,
   "metadata": {
    "collapsed": false
   },
   "outputs": [
    {
     "data": {
      "text/plain": [
       "                                                                   Type: Void\n"
      ]
     },
     "execution_count": 33,
     "metadata": {},
     "output_type": "execute_result"
    }
   ],
   "source": [
    "n == 3"
   ]
  },
  {
   "cell_type": "code",
   "execution_count": 34,
   "metadata": {
    "collapsed": false
   },
   "outputs": [
    {
     "data": {
      "text/plain": [
       "                                                                   Type: Void\n"
      ]
     },
     "execution_count": 34,
     "metadata": {},
     "output_type": "execute_result"
    }
   ],
   "source": [
    "phi == reduce(+,[subscript(s,[i])*exp(x)/x^i for i in 0..n])"
   ]
  },
  {
   "cell_type": "code",
   "execution_count": 35,
   "metadata": {
    "collapsed": false
   },
   "outputs": [
    {
     "data": {
      "text/plain": [
       "                                                                   Type: Void\n"
      ]
     },
     "execution_count": 35,
     "metadata": {},
     "output_type": "execute_result"
    }
   ],
   "source": [
    "phi1 ==  Dop(phi) / exp x"
   ]
  },
  {
   "cell_type": "code",
   "execution_count": 36,
   "metadata": {
    "collapsed": false
   },
   "outputs": [
    {
     "data": {
      "text/plain": [
       "                                                                   Type: Void\n"
      ]
     },
     "execution_count": 36,
     "metadata": {},
     "output_type": "execute_result"
    }
   ],
   "source": [
    "phi2 == phi1 *x^(n+3)"
   ]
  },
  {
   "cell_type": "code",
   "execution_count": 37,
   "metadata": {
    "collapsed": false
   },
   "outputs": [
    {
     "data": {
      "text/plain": [
       "                                                                   Type: Void\n"
      ]
     },
     "execution_count": 37,
     "metadata": {},
     "output_type": "execute_result"
    }
   ],
   "source": [
    "phi3 == retract(phi2)@(POLY INT)"
   ]
  },
  {
   "cell_type": "code",
   "execution_count": 38,
   "metadata": {
    "collapsed": false
   },
   "outputs": [
    {
     "data": {
      "text/plain": [
       "                                                                   Type: Void\n"
      ]
     },
     "execution_count": 38,
     "metadata": {},
     "output_type": "execute_result"
    }
   ],
   "source": [
    "pans == phi3 ::UP(x,POLY INT)"
   ]
  },
  {
   "cell_type": "code",
   "execution_count": 39,
   "metadata": {
    "collapsed": false
   },
   "outputs": [
    {
     "data": {
      "text/plain": [
       "                                                                   Type: Void\n"
      ]
     },
     "execution_count": 39,
     "metadata": {},
     "output_type": "execute_result"
    }
   ],
   "source": [
    "pans1 == [coefficient(pans, (n+3-i) :: NNI) for i in 2..n+1]"
   ]
  },
  {
   "cell_type": "code",
   "execution_count": 40,
   "metadata": {
    "collapsed": false
   },
   "outputs": [
    {
     "data": {
      "text/plain": [
       "                                                                   Type: Void\n"
      ]
     },
     "execution_count": 40,
     "metadata": {},
     "output_type": "execute_result"
    }
   ],
   "source": [
    "leq == solve(pans1,[subscript(s,[i]) for i in 1..n])"
   ]
  },
  {
   "cell_type": "code",
   "execution_count": 41,
   "metadata": {
    "collapsed": false
   },
   "outputs": [
    {
     "name": "stdout",
     "output_type": "stream",
     "text": [
      "   Compiling body of rule n to compute value of type PositiveInteger \n",
      "   Compiling body of rule phi to compute value of type Expression(\n",
      "      Integer) \n",
      "   Compiling body of rule phi1 to compute value of type Expression(\n",
      "      Integer) \n",
      "   Compiling body of rule phi2 to compute value of type Expression(\n",
      "      Integer) \n",
      "   Compiling body of rule phi3 to compute value of type Polynomial(\n",
      "      Integer) \n",
      "   Compiling body of rule pans to compute value of type \n",
      "      UnivariatePolynomial(x,Polynomial(Integer)) \n",
      "   Compiling body of rule pans1 to compute value of type List(\n",
      "      Polynomial(Integer)) \n",
      "   Compiling body of rule leq to compute value of type List(List(\n",
      "      Equation(Fraction(Polynomial(Integer))))) \n",
      "   Compiling function G24619 with type Integer -> Boolean \n"
     ]
    },
    {
     "data": {
      "text/plain": [
       "                           2                                3        2\n",
       "         s G     3s H + s G  + 6s G     (9s G + 54s )H + s G  + 18s G  + 72s G\n",
       "          0        0     0       0         0       0      0        0        0\n",
       "   [[s = ---,s = ------------------,s = --------------------------------------]]\n",
       "      1   3   2          18          3                    162\n",
       "                    Type: List(List(Equation(Fraction(Polynomial(Integer)))))\n"
      ]
     },
     "execution_count": 41,
     "metadata": {},
     "output_type": "execute_result"
    }
   ],
   "source": [
    "leq"
   ]
  },
  {
   "cell_type": "code",
   "execution_count": 42,
   "metadata": {
    "collapsed": false
   },
   "outputs": [
    {
     "name": "stdout",
     "output_type": "stream",
     "text": [
      "   Compiled code for n has been cleared.\n",
      "   Compiled code for leq has been cleared.\n",
      "   Compiled code for pans1 has been cleared.\n",
      "   Compiled code for phi2 has been cleared.\n",
      "   Compiled code for phi has been cleared.\n",
      "   Compiled code for phi3 has been cleared.\n",
      "   Compiled code for phi1 has been cleared.\n",
      "   Compiled code for pans has been cleared.\n",
      "   1 old definition(s) deleted for function or rule n \n"
     ]
    },
    {
     "data": {
      "text/plain": [
       "                                                                   Type: Void\n"
      ]
     },
     "execution_count": 42,
     "metadata": {},
     "output_type": "execute_result"
    }
   ],
   "source": [
    "n==4"
   ]
  },
  {
   "cell_type": "code",
   "execution_count": 43,
   "metadata": {
    "collapsed": false
   },
   "outputs": [
    {
     "name": "stdout",
     "output_type": "stream",
     "text": [
      "   Compiling body of rule n to compute value of type PositiveInteger \n",
      "   Compiling body of rule phi to compute value of type Expression(\n",
      "      Integer) \n",
      "   Compiling body of rule phi1 to compute value of type Expression(\n",
      "      Integer) \n",
      "   Compiling body of rule phi2 to compute value of type Expression(\n",
      "      Integer) \n",
      "   Compiling body of rule phi3 to compute value of type Polynomial(\n",
      "      Integer) \n",
      "   Compiling body of rule pans to compute value of type \n",
      "      UnivariatePolynomial(x,Polynomial(Integer)) \n",
      "   Compiling body of rule pans1 to compute value of type List(\n",
      "      Polynomial(Integer)) \n",
      "   Compiling body of rule leq to compute value of type List(List(\n",
      "      Equation(Fraction(Polynomial(Integer))))) \n",
      "\n",
      "\n",
      "                  \n",
      "\n"
     ]
    },
    {
     "data": {
      "text/plain": [
       "   [\n",
       "                             2\n",
       "          s G      3s H + s G  + 6s G\n",
       "           0         0     0       0\n",
       "     [s = ---, s = ------------------,\n",
       "       1   3    2          18\n",
       "                              3        2\n",
       "          (9s G + 54s )H + s G  + 18s G  + 72s G\n",
       "             0       0      0        0        0\n",
       "      s = --------------------------------------,\n",
       "       3                    162\n",
       "\n",
       "       s  =\n",
       "        4\n",
       "                  2         2                          4        3         2\n",
       "             27s H  + (18s G  + 378s G + 1296s )H + s G  + 36s G  + 396s G\n",
       "                0         0         0         0      0        0         0\n",
       "           + \n",
       "             1296s G\n",
       "                  0\n",
       "        /\n",
       "           1944\n",
       "       ]\n",
       "     ]\n",
       "                    Type: List(List(Equation(Fraction(Polynomial(Integer)))))\n"
      ]
     },
     "execution_count": 43,
     "metadata": {},
     "output_type": "execute_result"
    }
   ],
   "source": [
    "leq"
   ]
  },
  {
   "cell_type": "code",
   "execution_count": 44,
   "metadata": {
    "collapsed": false
   },
   "outputs": [
    {
     "name": "stdout",
     "output_type": "stream",
     "text": [
      "   Compiled code for n has been cleared.\n",
      "   Compiled code for leq has been cleared.\n",
      "   Compiled code for pans1 has been cleared.\n",
      "   Compiled code for phi2 has been cleared.\n",
      "   Compiled code for phi has been cleared.\n",
      "   Compiled code for phi3 has been cleared.\n",
      "   Compiled code for phi1 has been cleared.\n",
      "   Compiled code for pans has been cleared.\n",
      "   1 old definition(s) deleted for function or rule n \n"
     ]
    },
    {
     "data": {
      "text/plain": [
       "                                                                   Type: Void\n"
      ]
     },
     "execution_count": 44,
     "metadata": {},
     "output_type": "execute_result"
    }
   ],
   "source": [
    "n==7"
   ]
  },
  {
   "cell_type": "code",
   "execution_count": 45,
   "metadata": {
    "collapsed": false
   },
   "outputs": [
    {
     "name": "stdout",
     "output_type": "stream",
     "text": [
      "   Compiling body of rule n to compute value of type PositiveInteger \n",
      "   Compiling body of rule phi to compute value of type Expression(\n",
      "      Integer) \n",
      "   Compiling body of rule phi1 to compute value of type Expression(\n",
      "      Integer) \n",
      "   Compiling body of rule phi2 to compute value of type Expression(\n",
      "      Integer) \n",
      "   Compiling body of rule phi3 to compute value of type Polynomial(\n",
      "      Integer) \n",
      "   Compiling body of rule pans to compute value of type \n",
      "      UnivariatePolynomial(x,Polynomial(Integer)) \n",
      "   Compiling body of rule pans1 to compute value of type List(\n",
      "      Polynomial(Integer)) \n",
      "   Compiling body of rule leq to compute value of type List(List(\n",
      "      Equation(Fraction(Polynomial(Integer))))) \n",
      "\n",
      "\n",
      "                  \n",
      "                  \n",
      "                            \n",
      "                                                \n",
      "\n"
     ]
    },
    {
     "data": {
      "text/plain": [
       "   [\n",
       "                             2\n",
       "          s G      3s H + s G  + 6s G\n",
       "           0         0     0       0\n",
       "     [s = ---, s = ------------------,\n",
       "       1   3    2          18\n",
       "                              3        2\n",
       "          (9s G + 54s )H + s G  + 18s G  + 72s G\n",
       "             0       0      0        0        0\n",
       "      s = --------------------------------------,\n",
       "       3                    162\n",
       "\n",
       "       s  =\n",
       "        4\n",
       "                  2         2                          4        3         2\n",
       "             27s H  + (18s G  + 378s G + 1296s )H + s G  + 36s G  + 396s G\n",
       "                0         0         0         0      0        0         0\n",
       "           + \n",
       "             1296s G\n",
       "                  0\n",
       "        /\n",
       "           1944\n",
       "       ,\n",
       "\n",
       "       s  =\n",
       "        5\n",
       "                               2         3          2\n",
       "             (135s G + 2268s )H  + (30s G  + 1350s G  + 16416s G + 38880s )H\n",
       "                  0         0          0          0           0          0\n",
       "           + \n",
       "                5        4          3          2\n",
       "             s G  + 60s G  + 1188s G  + 9504s G  + 25920s G\n",
       "              0        0          0          0           0\n",
       "        /\n",
       "           29160\n",
       "       ,\n",
       "\n",
       "       s  =\n",
       "        6\n",
       "                   3          2                        2\n",
       "             405s H  + (405s G  + 18468s G + 174960s )H\n",
       "                 0          0           0           0\n",
       "           + \n",
       "                   4          3           2                                6\n",
       "             (45s G  + 3510s G  + 88776s G  + 777600s G + 1166400s )H + s G\n",
       "                 0          0           0            0            0      0\n",
       "           + \n",
       "                  5          4           3           2\n",
       "             90s G  + 2628s G  + 27864s G  + 90720s G\n",
       "                0          0           0           0\n",
       "        /\n",
       "           524880\n",
       "       ,\n",
       "\n",
       "       s  =\n",
       "        7\n",
       "                                 3\n",
       "             (2835s G + 91854s )H\n",
       "                   0          0\n",
       "           + \n",
       "                    3           2                            2\n",
       "             (945s G  + 81648s G  + 2082996s G + 14171760s )H\n",
       "                  0           0             0             0\n",
       "           + \n",
       "                   5          4            3             2\n",
       "             (63s G  + 7560s G  + 317520s G  + 5554008s G  + 34058880s G)H\n",
       "                 0          0            0             0              0\n",
       "           + \n",
       "                7         6          5           4             3              2\n",
       "             s G  + 126s G  + 4788s G  + 25272s G  - 1744416s G  - 26827200s G\n",
       "              0         0          0           0             0              0\n",
       "           + \n",
       "             - 97977600s G\n",
       "                        0\n",
       "        /\n",
       "           11022480\n",
       "       ]\n",
       "     ]\n",
       "                    Type: List(List(Equation(Fraction(Polynomial(Integer)))))\n"
      ]
     },
     "execution_count": 45,
     "metadata": {},
     "output_type": "execute_result"
    }
   ],
   "source": [
    "leq"
   ]
  },
  {
   "cell_type": "markdown",
   "metadata": {},
   "source": [
    "\n",
    " Differential operators with matrix coefficients acting on vectors.\n",
    "\n"
   ]
  },
  {
   "cell_type": "code",
   "execution_count": 46,
   "metadata": {
    "collapsed": false
   },
   "outputs": [
    {
     "name": "stdout",
     "output_type": "stream",
     "text": [
      "   All user variables and function definitions have been cleared.\n"
     ]
    },
    {
     "data": {
      "text/plain": []
     },
     "execution_count": 46,
     "metadata": {},
     "output_type": "execute_result"
    }
   ],
   "source": [
    ")clear all"
   ]
  },
  {
   "cell_type": "code",
   "execution_count": 47,
   "metadata": {
    "collapsed": false
   },
   "outputs": [
    {
     "data": {
      "text/plain": [
       "                                                                   Type: Type\n"
      ]
     },
     "execution_count": 47,
     "metadata": {},
     "output_type": "execute_result"
    }
   ],
   "source": [
    "PZ := UP(x,INT); Vect := DPMM(3, PZ, SQMATRIX(3,PZ), PZ);"
   ]
  },
  {
   "cell_type": "code",
   "execution_count": 48,
   "metadata": {
    "collapsed": false
   },
   "outputs": [
    {
     "data": {
      "text/plain": [
       "                                                                   Type: Type\n"
      ]
     },
     "execution_count": 48,
     "metadata": {},
     "output_type": "execute_result"
    }
   ],
   "source": [
    "Modo := LODO2(SQMATRIX(3,PZ), Vect);"
   ]
  },
  {
   "cell_type": "code",
   "execution_count": 49,
   "metadata": {
    "collapsed": false
   },
   "outputs": [
    {
     "data": {
      "text/plain": [
       "      2          3\n",
       "   [3x  + 1,2x,7x  + 2x]\n",
       "Type: DirectProductMatrixModule(3,UnivariatePolynomial(x,Integer),SquareMatrix(3,UnivariatePolynomial(x,Integer)),UnivariatePolynomial(x,Integer))\n"
      ]
     },
     "execution_count": 49,
     "metadata": {},
     "output_type": "execute_result"
    }
   ],
   "source": [
    "p := directProduct([3*x^2 + 1, 2*x, 7*x^3 + 2*x]::(VECTOR(PZ)))@Vect"
   ]
  },
  {
   "cell_type": "code",
   "execution_count": 50,
   "metadata": {
    "collapsed": false
   },
   "outputs": [
    {
     "data": {
      "text/plain": [
       "   + 2         +\n",
       "   |x   1    0 |\n",
       "   |           |\n",
       "   |     4     |\n",
       "   |1   x    0 |\n",
       "   |           |\n",
       "   |          2|\n",
       "   +0   0   4x +\n",
       "                        Type: SquareMatrix(3,UnivariatePolynomial(x,Integer))\n"
      ]
     },
     "execution_count": 50,
     "metadata": {},
     "output_type": "execute_result"
    }
   ],
   "source": [
    "m := [[x^2, 1, 0], [1, x^4, 0], [0, 0, 4*x^2]]::(SQMATRIX(3,PZ))"
   ]
  },
  {
   "cell_type": "markdown",
   "metadata": {},
   "source": [
    " Vect is a left SM(3,PZ)-module\n"
   ]
  },
  {
   "cell_type": "code",
   "execution_count": 51,
   "metadata": {
    "collapsed": false
   },
   "outputs": [
    {
     "data": {
      "text/plain": [
       "      4    2        5     2        5     3\n",
       "   [3x  + x  + 2x,2x  + 3x  + 1,28x  + 8x ]\n",
       "Type: DirectProductMatrixModule(3,UnivariatePolynomial(x,Integer),SquareMatrix(3,UnivariatePolynomial(x,Integer)),UnivariatePolynomial(x,Integer))\n"
      ]
     },
     "execution_count": 51,
     "metadata": {},
     "output_type": "execute_result"
    }
   ],
   "source": [
    "q: Vect := m * p"
   ]
  },
  {
   "cell_type": "markdown",
   "metadata": {},
   "source": [
    " Operator combination and application\n"
   ]
  },
  {
   "cell_type": "code",
   "execution_count": 52,
   "metadata": {
    "collapsed": false
   },
   "outputs": [
    {
     "data": {
      "text/plain": [
       "   D\n",
       "Type: LinearOrdinaryDifferentialOperator2(SquareMatrix(3,UnivariatePolynomial(x,Integer)),DirectProductMatrixModule(3,UnivariatePolynomial(x,Integer),SquareMatrix(3,UnivariatePolynomial(x,Integer)),UnivariatePolynomial(x,Integer)))\n"
      ]
     },
     "execution_count": 52,
     "metadata": {},
     "output_type": "execute_result"
    }
   ],
   "source": [
    "Dx:  Modo := D()"
   ]
  },
  {
   "cell_type": "code",
   "execution_count": 53,
   "metadata": {
    "collapsed": false
   },
   "outputs": [
    {
     "data": {
      "text/plain": [
       "       + 2         +\n",
       "       |x   1    0 |\n",
       "       |           |\n",
       "   D + |     4     |\n",
       "       |1   x    0 |\n",
       "       |           |\n",
       "       |          2|\n",
       "       +0   0   4x +\n",
       "Type: LinearOrdinaryDifferentialOperator2(SquareMatrix(3,UnivariatePolynomial(x,Integer)),DirectProductMatrixModule(3,UnivariatePolynomial(x,Integer),SquareMatrix(3,UnivariatePolynomial(x,Integer)),UnivariatePolynomial(x,Integer)))\n"
      ]
     },
     "execution_count": 53,
     "metadata": {},
     "output_type": "execute_result"
    }
   ],
   "source": [
    "a:   Modo := 1*Dx  + m"
   ]
  },
  {
   "cell_type": "code",
   "execution_count": 54,
   "metadata": {
    "collapsed": false
   },
   "outputs": [
    {
     "data": {
      "text/plain": [
       "   + 2         +\n",
       "   |x   1    0 |    +1  0  0+\n",
       "   |           |    |       |\n",
       "   |     4     |D + |0  1  0|\n",
       "   |1   x    0 |    |       |\n",
       "   |           |    +0  0  1+\n",
       "   |          2|\n",
       "   +0   0   4x +\n",
       "Type: LinearOrdinaryDifferentialOperator2(SquareMatrix(3,UnivariatePolynomial(x,Integer)),DirectProductMatrixModule(3,UnivariatePolynomial(x,Integer),SquareMatrix(3,UnivariatePolynomial(x,Integer)),UnivariatePolynomial(x,Integer)))\n"
      ]
     },
     "execution_count": 54,
     "metadata": {},
     "output_type": "execute_result"
    }
   ],
   "source": [
    "b:   Modo := m*Dx  + 1"
   ]
  },
  {
   "cell_type": "code",
   "execution_count": 55,
   "metadata": {
    "collapsed": false
   },
   "outputs": [
    {
     "data": {
      "text/plain": [
       "   + 2         +     + 4              4    2                  +    + 2         +\n",
       "   |x   1    0 |     |x  + 2x + 2    x  + x            0      |    |x   1    0 |\n",
       "   |           | 2   |                                        |    |           |\n",
       "   |     4     |D  + |   4    2     8     3                   |D + |     4     |\n",
       "   |1   x    0 |     |  x  + x     x  + 4x  + 2        0      |    |1   x    0 |\n",
       "   |           |     |                                        |    |           |\n",
       "   |          2|     |                              4         |    |          2|\n",
       "   +0   0   4x +     +     0            0        16x  + 8x + 1+    +0   0   4x +\n",
       "Type: LinearOrdinaryDifferentialOperator2(SquareMatrix(3,UnivariatePolynomial(x,Integer)),DirectProductMatrixModule(3,UnivariatePolynomial(x,Integer),SquareMatrix(3,UnivariatePolynomial(x,Integer)),UnivariatePolynomial(x,Integer)))\n"
      ]
     },
     "execution_count": 55,
     "metadata": {},
     "output_type": "execute_result"
    }
   ],
   "source": [
    "a*b"
   ]
  },
  {
   "cell_type": "code",
   "execution_count": 56,
   "metadata": {
    "collapsed": false
   },
   "outputs": [
    {
     "data": {
      "text/plain": [
       "      4    2        5     2        5     3      2\n",
       "   [3x  + x  + 8x,2x  + 3x  + 3,28x  + 8x  + 21x  + 2]\n",
       "Type: DirectProductMatrixModule(3,UnivariatePolynomial(x,Integer),SquareMatrix(3,UnivariatePolynomial(x,Integer)),UnivariatePolynomial(x,Integer))\n"
      ]
     },
     "execution_count": 56,
     "metadata": {},
     "output_type": "execute_result"
    }
   ],
   "source": [
    "a p"
   ]
  },
  {
   "cell_type": "code",
   "execution_count": 57,
   "metadata": {
    "collapsed": false
   },
   "outputs": [
    {
     "data": {
      "text/plain": [
       "      3     2       4         4     3     2\n",
       "   [6x  + 3x  + 3,2x  + 8x,84x  + 7x  + 8x  + 2x]\n",
       "Type: DirectProductMatrixModule(3,UnivariatePolynomial(x,Integer),SquareMatrix(3,UnivariatePolynomial(x,Integer)),UnivariatePolynomial(x,Integer))\n"
      ]
     },
     "execution_count": 57,
     "metadata": {},
     "output_type": "execute_result"
    }
   ],
   "source": [
    "b p"
   ]
  },
  {
   "cell_type": "code",
   "execution_count": 58,
   "metadata": {
    "collapsed": false
   },
   "outputs": [
    {
     "name": "stdout",
     "output_type": "stream",
     "text": [
      "\n",
      "\n",
      "\n"
     ]
    },
    {
     "data": {
      "text/plain": [
       "      6      5      4      3      2\n",
       "   [3x  + 14x  + 17x  + 22x  + 10x  + 18x + 6,\n",
       "      9      8     6      5      4      3     2\n",
       "    2x  + 10x  + 3x  + 10x  + 16x  + 12x  + 7x  + 18x + 6,\n",
       "        7       6      5       4      3      2\n",
       "    112x  + 560x  + 88x  + 320x  + 23x  + 53x  + 2x + 2]\n",
       "Type: DirectProductMatrixModule(3,UnivariatePolynomial(x,Integer),SquareMatrix(3,UnivariatePolynomial(x,Integer)),UnivariatePolynomial(x,Integer))\n"
      ]
     },
     "execution_count": 58,
     "metadata": {},
     "output_type": "execute_result"
    }
   ],
   "source": [
    "(a+b) (p + q)"
   ]
  },
  {
   "cell_type": "code",
   "execution_count": 59,
   "metadata": {
    "collapsed": false
   },
   "outputs": [
    {
     "data": {
      "text/plain": []
     },
     "execution_count": 59,
     "metadata": {},
     "output_type": "execute_result"
    }
   ],
   "source": [
    "--\n",
    "-- EOF\n",
    "--"
   ]
  }
 ],
 "metadata": {
  "kernelspec": {
   "display_name": "FriCAS",
   "language": "spad",
   "name": "ifricas"
  },
  "language_info": {
   "codemirror_mode": "spad",
   "mimetype": "text/x-spad",
   "name": "SPAD",
   "pygments_lexer": "spad",
   "version": "1.2.6"
  },
  "name": "lodo.ipynb"
 },
 "nbformat": 4,
 "nbformat_minor": 0
}