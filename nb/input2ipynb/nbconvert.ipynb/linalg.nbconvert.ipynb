{
 "cells": [
  {
   "cell_type": "code",
   "execution_count": 0,
   "metadata": {
    "collapsed": false
   },
   "outputs": [
    {
     "data": {
      "text/plain": []
     },
     "execution_count": 0,
     "metadata": {},
     "output_type": "execute_result"
    }
   ],
   "source": [
    ")set break resume"
   ]
  },
  {
   "cell_type": "markdown",
   "metadata": {},
   "source": [
    " Input for page MatrixMoreFunctionsPage\n"
   ]
  },
  {
   "cell_type": "code",
   "execution_count": 1,
   "metadata": {
    "collapsed": false
   },
   "outputs": [
    {
     "name": "stdout",
     "output_type": "stream",
     "text": [
      "   All user variables and function definitions have been cleared.\n"
     ]
    },
    {
     "data": {
      "text/plain": []
     },
     "execution_count": 1,
     "metadata": {},
     "output_type": "execute_result"
    }
   ],
   "source": [
    ")clear all"
   ]
  },
  {
   "cell_type": "code",
   "execution_count": 2,
   "metadata": {
    "collapsed": false
   },
   "outputs": [
    {
     "name": "stdout",
     "output_type": "stream",
     "text": [
      "Warning: HyperTeX macro table not found\n"
     ]
    },
    {
     "data": {
      "text/plain": [
       "   +1  - 2   1 +\n",
       "   |           |\n",
       "   +4   2   - 4+\n",
       "                                                        Type: Matrix(Integer)\n"
      ]
     },
     "execution_count": 2,
     "metadata": {},
     "output_type": "execute_result"
    }
   ],
   "source": [
    "m1 := matrix([[1,-2,1],[4,2,-4]])"
   ]
  },
  {
   "cell_type": "code",
   "execution_count": 3,
   "metadata": {
    "collapsed": false
   },
   "outputs": [
    {
     "data": {
      "text/plain": [
       "   +0  1  2+\n",
       "   |       |\n",
       "   |2  3  4|\n",
       "   |       |\n",
       "   +3  4  5+\n",
       "                                             Type: Matrix(NonNegativeInteger)\n"
      ]
     },
     "execution_count": 3,
     "metadata": {},
     "output_type": "execute_result"
    }
   ],
   "source": [
    "m2 := matrix([[0,1,2],[2,3,4],[3,4,5]])"
   ]
  },
  {
   "cell_type": "code",
   "execution_count": 4,
   "metadata": {
    "collapsed": false
   },
   "outputs": [
    {
     "data": {
      "text/plain": [
       "   +1  2  3+\n",
       "   |       |\n",
       "   +2  4  6+\n",
       "                                                        Type: Matrix(Integer)\n"
      ]
     },
     "execution_count": 4,
     "metadata": {},
     "output_type": "execute_result"
    }
   ],
   "source": [
    "m3 := matrix([[1,2,3],[2,4,6]])"
   ]
  },
  {
   "cell_type": "code",
   "execution_count": 5,
   "metadata": {
    "collapsed": false
   },
   "outputs": [
    {
     "data": {
      "text/plain": [
       "   +2  0  4+\n",
       "   |       |\n",
       "   +6  6  2+\n",
       "                                                        Type: Matrix(Integer)\n"
      ]
     },
     "execution_count": 5,
     "metadata": {},
     "output_type": "execute_result"
    }
   ],
   "source": [
    "m1 + m3"
   ]
  },
  {
   "cell_type": "code",
   "execution_count": 6,
   "metadata": {
    "collapsed": false
   },
   "outputs": [
    {
     "data": {
      "text/plain": [
       "   +100  - 200   100 +\n",
       "   |                 |\n",
       "   +400   200   - 400+\n",
       "                                                        Type: Matrix(Integer)\n"
      ]
     },
     "execution_count": 6,
     "metadata": {},
     "output_type": "execute_result"
    }
   ],
   "source": [
    "100 * m1"
   ]
  },
  {
   "cell_type": "code",
   "execution_count": 7,
   "metadata": {
    "collapsed": false
   },
   "outputs": [
    {
     "data": {
      "text/plain": [
       "   +- 1  - 1  - 1+\n",
       "   |             |\n",
       "   +- 8  - 6  - 4+\n",
       "                                                        Type: Matrix(Integer)\n"
      ]
     },
     "execution_count": 7,
     "metadata": {},
     "output_type": "execute_result"
    }
   ],
   "source": [
    "m1 * m2"
   ]
  },
  {
   "cell_type": "code",
   "execution_count": 8,
   "metadata": {
    "collapsed": false
   },
   "outputs": [
    {
     "data": {
      "text/plain": [
       "   +12  21  24+\n",
       "   |          |\n",
       "   +22  36  54+\n",
       "                                                        Type: Matrix(Integer)\n"
      ]
     },
     "execution_count": 8,
     "metadata": {},
     "output_type": "execute_result"
    }
   ],
   "source": [
    "-m1 + m3 * m2"
   ]
  },
  {
   "cell_type": "code",
   "execution_count": 9,
   "metadata": {
    "collapsed": false
   },
   "outputs": [
    {
     "name": "stderr",
     "output_type": "stream",
     "text": [
      " \n",
      "   >> Error detected within library code:\n",
      "   can't multiply matrices of incompatible dimensions\n",
      "\n"
     ]
    },
    {
     "data": {
      "text/plain": [
       "error\n"
      ]
     },
     "execution_count": 9,
     "metadata": {},
     "output_type": "execute_result"
    }
   ],
   "source": [
    "m2 * m1"
   ]
  },
  {
   "cell_type": "code",
   "execution_count": 10,
   "metadata": {
    "collapsed": false
   },
   "outputs": [
    {
     "data": {
      "text/plain": [
       "   [1,0,1]\n",
       "                                             Type: Vector(NonNegativeInteger)\n"
      ]
     },
     "execution_count": 10,
     "metadata": {},
     "output_type": "execute_result"
    }
   ],
   "source": [
    "v := vector([1,0,1])"
   ]
  },
  {
   "cell_type": "code",
   "execution_count": 11,
   "metadata": {
    "collapsed": false
   },
   "outputs": [
    {
     "data": {
      "text/plain": [
       "   [4,8]\n",
       "                                                        Type: Vector(Integer)\n"
      ]
     },
     "execution_count": 11,
     "metadata": {},
     "output_type": "execute_result"
    }
   ],
   "source": [
    "m3 * v"
   ]
  },
  {
   "cell_type": "code",
   "execution_count": 12,
   "metadata": {
    "collapsed": false
   },
   "outputs": [
    {
     "data": {
      "text/plain": [
       "   +1  1  1  1+\n",
       "   |          |\n",
       "   |1  1  1  1|\n",
       "   |          |\n",
       "   |1  1  1  1|\n",
       "   |          |\n",
       "   +1  1  1  1+\n",
       "                                            Type: Matrix(Polynomial(Integer))\n"
      ]
     },
     "execution_count": 12,
     "metadata": {},
     "output_type": "execute_result"
    }
   ],
   "source": [
    "m5 : MATRIX POLY INT := new(4,4,1)"
   ]
  },
  {
   "cell_type": "code",
   "execution_count": 13,
   "metadata": {
    "collapsed": false
   },
   "outputs": [
    {
     "data": {
      "text/plain": [
       "   [x,y,z,u]\n",
       "                                              Type: List(Polynomial(Integer))\n"
      ]
     },
     "execution_count": 13,
     "metadata": {},
     "output_type": "execute_result"
    }
   ],
   "source": [
    "vars : LIST POLY INT := [x,y,z,u]"
   ]
  },
  {
   "cell_type": "code",
   "execution_count": 14,
   "metadata": {
    "collapsed": false
   },
   "outputs": [
    {
     "data": {
      "text/plain": [
       "                                                                   Type: Void\n"
      ]
     },
     "execution_count": 14,
     "metadata": {},
     "output_type": "execute_result"
    }
   ],
   "source": [
    "for i in 1..4 repeat for j in 1..3 repeat m5(i,j + 1) := (vars.i)^j"
   ]
  },
  {
   "cell_type": "code",
   "execution_count": 15,
   "metadata": {
    "collapsed": false
   },
   "outputs": [
    {
     "data": {
      "text/plain": [
       "   +       2   3+\n",
       "   |1  x  x   x |\n",
       "   |            |\n",
       "   |       2   3|\n",
       "   |1  y  y   y |\n",
       "   |            |\n",
       "   |       2   3|\n",
       "   |1  z  z   z |\n",
       "   |            |\n",
       "   |       2   3|\n",
       "   +1  u  u   u +\n",
       "                                            Type: Matrix(Polynomial(Integer))\n"
      ]
     },
     "execution_count": 15,
     "metadata": {},
     "output_type": "execute_result"
    }
   ],
   "source": [
    "m5"
   ]
  },
  {
   "cell_type": "code",
   "execution_count": 16,
   "metadata": {
    "collapsed": false
   },
   "outputs": [
    {
     "data": {
      "text/plain": [
       "    2        3\n",
       "   z  + y + u  + 1\n",
       "                                                    Type: Polynomial(Integer)\n"
      ]
     },
     "execution_count": 16,
     "metadata": {},
     "output_type": "execute_result"
    }
   ],
   "source": [
    "trace(m5)"
   ]
  },
  {
   "cell_type": "code",
   "execution_count": 17,
   "metadata": {
    "collapsed": false
   },
   "outputs": [
    {
     "name": "stdout",
     "output_type": "stream",
     "text": [
      "      "
     ]
    },
    {
     "data": {
      "text/plain": [
       "                2     2    2        2    2   3\n",
       "     ((- x + u)y  + (x  - u )y - u x  + u x)z\n",
       "   + \n",
       "              3       3    3        3    3   2\n",
       "     ((x - u)y  + (- x  + u )y + u x  - u x)z\n",
       "   + \n",
       "          2    2  3     3    3  2    2 3    3 2         2    2   3\n",
       "     ((- x  + u )y  + (x  - u )y  - u x  + u x )z + (u x  - u x)y\n",
       "   + \n",
       "           3    3   2     2 3    3 2\n",
       "     (- u x  + u x)y  + (u x  - u x )y\n",
       "                                                    Type: Polynomial(Integer)\n"
      ]
     },
     "execution_count": 17,
     "metadata": {},
     "output_type": "execute_result"
    }
   ],
   "source": [
    "det := determinant(m5)"
   ]
  },
  {
   "cell_type": "code",
   "execution_count": 18,
   "metadata": {
    "collapsed": false
   },
   "outputs": [
    {
     "data": {
      "text/plain": [
       "   - (x - u)(y - x)(y - u)(z - y)(z - x)(z - u)\n",
       "                                          Type: Factored(Polynomial(Integer))\n"
      ]
     },
     "execution_count": 18,
     "metadata": {},
     "output_type": "execute_result"
    }
   ],
   "source": [
    "factor(det)"
   ]
  },
  {
   "cell_type": "code",
   "execution_count": 19,
   "metadata": {
    "collapsed": false
   },
   "outputs": [
    {
     "data": {
      "text/plain": [
       "   + 1   2  1+\n",
       "   |         |\n",
       "   |- 2  3  4|\n",
       "   |         |\n",
       "   +- 1  5  6+\n",
       "                                                        Type: Matrix(Integer)\n"
      ]
     },
     "execution_count": 19,
     "metadata": {},
     "output_type": "execute_result"
    }
   ],
   "source": [
    "m6 := matrix([[1,2,1],[-2,3,4],[-1,5,6]])"
   ]
  },
  {
   "cell_type": "code",
   "execution_count": 20,
   "metadata": {
    "collapsed": false
   },
   "outputs": [
    {
     "data": {
      "text/plain": [
       "   +  2        5 +\n",
       "   |- -  - 1   - |\n",
       "   |  7        7 |\n",
       "   |             |\n",
       "   | 8          6|\n",
       "   | -    1   - -|\n",
       "   | 7          7|\n",
       "   |             |\n",
       "   +- 1  - 1   1 +\n",
       "                                   Type: Union(Matrix(Fraction(Integer)),...)\n"
      ]
     },
     "execution_count": 20,
     "metadata": {},
     "output_type": "execute_result"
    }
   ],
   "source": [
    "m6inv := inverse(m6)"
   ]
  },
  {
   "cell_type": "code",
   "execution_count": 21,
   "metadata": {
    "collapsed": false
   },
   "outputs": [
    {
     "data": {
      "text/plain": [
       "   +1  0  0+\n",
       "   |       |\n",
       "   |0  1  0|\n",
       "   |       |\n",
       "   +0  0  1+\n",
       "                                              Type: Matrix(Fraction(Integer))\n"
      ]
     },
     "execution_count": 21,
     "metadata": {},
     "output_type": "execute_result"
    }
   ],
   "source": [
    "m6 * m6inv"
   ]
  },
  {
   "cell_type": "code",
   "execution_count": 22,
   "metadata": {
    "collapsed": false
   },
   "outputs": [
    {
     "data": {
      "text/plain": [
       "   + 1   2  1+\n",
       "   |         |\n",
       "   |- 2  3  4|\n",
       "   |         |\n",
       "   +- 1  5  5+\n",
       "                                                        Type: Matrix(Integer)\n"
      ]
     },
     "execution_count": 22,
     "metadata": {},
     "output_type": "execute_result"
    }
   ],
   "source": [
    "m7 := matrix([[1,2,1],[-2,3,4],[-1,5,5]])"
   ]
  },
  {
   "cell_type": "code",
   "execution_count": 23,
   "metadata": {
    "collapsed": false
   },
   "outputs": [
    {
     "data": {
      "text/plain": [
       "   \"failed\"\n",
       "                                                    Type: Union(\"failed\",...)\n"
      ]
     },
     "execution_count": 23,
     "metadata": {},
     "output_type": "execute_result"
    }
   ],
   "source": [
    "inverse(m7)"
   ]
  },
  {
   "cell_type": "code",
   "execution_count": 24,
   "metadata": {
    "collapsed": false
   },
   "outputs": [
    {
     "data": {
      "text/plain": [
       "   0\n",
       "                                                     Type: NonNegativeInteger\n"
      ]
     },
     "execution_count": 24,
     "metadata": {},
     "output_type": "execute_result"
    }
   ],
   "source": [
    "determinant(m7)"
   ]
  },
  {
   "cell_type": "code",
   "execution_count": 25,
   "metadata": {
    "collapsed": false
   },
   "outputs": [
    {
     "data": {
      "text/plain": [
       "   +1  2+\n",
       "   |    |\n",
       "   +2  3+\n",
       "                                                Type: SquareMatrix(2,Integer)\n"
      ]
     },
     "execution_count": 25,
     "metadata": {},
     "output_type": "execute_result"
    }
   ],
   "source": [
    "m8 : SQMATRIX(2,INT) := matrix([[1,2],[2,3]])"
   ]
  },
  {
   "cell_type": "code",
   "execution_count": 26,
   "metadata": {
    "collapsed": false
   },
   "outputs": [
    {
     "data": {
      "text/plain": [
       "   +1  1+\n",
       "   |    |\n",
       "   +0  1+\n",
       "                                                Type: SquareMatrix(2,Integer)\n"
      ]
     },
     "execution_count": 26,
     "metadata": {},
     "output_type": "execute_result"
    }
   ],
   "source": [
    "m9 : SQMATRIX(2,INT) := matrix([[1,1],[0,1]])"
   ]
  },
  {
   "cell_type": "code",
   "execution_count": 27,
   "metadata": {
    "collapsed": false
   },
   "outputs": [
    {
     "data": {
      "text/plain": [
       "   +5  8 +\n",
       "   |     |\n",
       "   +8  13+\n",
       "                                                Type: SquareMatrix(2,Integer)\n"
      ]
     },
     "execution_count": 27,
     "metadata": {},
     "output_type": "execute_result"
    }
   ],
   "source": [
    "m8 ^ 2"
   ]
  },
  {
   "cell_type": "code",
   "execution_count": 28,
   "metadata": {
    "collapsed": false
   },
   "outputs": [
    {
     "data": {
      "text/plain": [
       "   +1  3+\n",
       "   |    |\n",
       "   +0  1+\n",
       "                                                Type: SquareMatrix(2,Integer)\n"
      ]
     },
     "execution_count": 28,
     "metadata": {},
     "output_type": "execute_result"
    }
   ],
   "source": [
    "m9 ^ 3"
   ]
  },
  {
   "cell_type": "code",
   "execution_count": 29,
   "metadata": {
    "collapsed": false
   },
   "outputs": [
    {
     "data": {
      "text/plain": [
       "   ++1  0+  +1  2++\n",
       "   ||    |  |    ||\n",
       "   |+0  1+  +2  3+|\n",
       "   |              |\n",
       "   |+1  1+  +0  0+|\n",
       "   ||    |  |    ||\n",
       "   ++0  1+  +0  0++\n",
       "                                Type: SquareMatrix(2,SquareMatrix(2,Integer))\n"
      ]
     },
     "execution_count": 29,
     "metadata": {},
     "output_type": "execute_result"
    }
   ],
   "source": [
    "mm : SQMATRIX(2,SQMATRIX(2,INT)) := matrix([[1,m8],[m9,0]])"
   ]
  },
  {
   "cell_type": "code",
   "execution_count": 30,
   "metadata": {
    "collapsed": false
   },
   "outputs": [
    {
     "data": {
      "text/plain": [
       "   ++100   0 +  +100  200++\n",
       "   ||        |  |        ||\n",
       "   |+ 0   100+  +200  300+|\n",
       "   |                      |\n",
       "   |+100  100+    +0  0+  |\n",
       "   ||        |    |    |  |\n",
       "   ++ 0   100+    +0  0+  +\n",
       "                                Type: SquareMatrix(2,SquareMatrix(2,Integer))\n"
      ]
     },
     "execution_count": 30,
     "metadata": {},
     "output_type": "execute_result"
    }
   ],
   "source": [
    "100 * mm"
   ]
  },
  {
   "cell_type": "code",
   "execution_count": 31,
   "metadata": {
    "collapsed": false
   },
   "outputs": [
    {
     "data": {
      "text/plain": [
       "   ++1  2+  +5  8 ++\n",
       "   ||    |  |     ||\n",
       "   |+2  3+  +8  13+|\n",
       "   |               |\n",
       "   |+1  3+  +0  0+ |\n",
       "   ||    |  |    | |\n",
       "   ++2  5+  +0  0+ +\n",
       "                                Type: SquareMatrix(2,SquareMatrix(2,Integer))\n"
      ]
     },
     "execution_count": 31,
     "metadata": {},
     "output_type": "execute_result"
    }
   ],
   "source": [
    "m8 * mm"
   ]
  },
  {
   "cell_type": "code",
   "execution_count": 32,
   "metadata": {
    "collapsed": false
   },
   "outputs": [
    {
     "data": {
      "text/plain": [
       "   ++2  3+  +1  2++\n",
       "   ||    |  |    ||\n",
       "   |+2  6+  +2  3+|\n",
       "   |              |\n",
       "   |+1  1+  +3  5+|\n",
       "   ||    |  |    ||\n",
       "   ++0  1+  +2  3++\n",
       "                                Type: SquareMatrix(2,SquareMatrix(2,Integer))\n"
      ]
     },
     "execution_count": 32,
     "metadata": {},
     "output_type": "execute_result"
    }
   ],
   "source": [
    "mm * mm"
   ]
  },
  {
   "cell_type": "code",
   "execution_count": 33,
   "metadata": {
    "collapsed": false
   },
   "outputs": [
    {
     "data": {
      "text/plain": [
       "   +1  2+ 2   +1  1+    +1  3+\n",
       "   |    |x  + |    |x + |    |\n",
       "   +2  3+     +0  1+    +2  5+\n",
       "                                    Type: Polynomial(SquareMatrix(2,Integer))\n"
      ]
     },
     "execution_count": 33,
     "metadata": {},
     "output_type": "execute_result"
    }
   ],
   "source": [
    "p : POLY SQMATRIX(2,INT) := m8 * x^2 + m9 * x + m8 * m9"
   ]
  },
  {
   "cell_type": "code",
   "execution_count": 34,
   "metadata": {
    "collapsed": false
   },
   "outputs": [
    {
     "data": {
      "text/plain": [
       "   +100  200+ 2   +100  100+    +100  300+\n",
       "   |        |x  + |        |x + |        |\n",
       "   +200  300+     + 0   100+    +200  500+\n",
       "                                    Type: Polynomial(SquareMatrix(2,Integer))\n"
      ]
     },
     "execution_count": 34,
     "metadata": {},
     "output_type": "execute_result"
    }
   ],
   "source": [
    "100 * p"
   ]
  },
  {
   "cell_type": "code",
   "execution_count": 35,
   "metadata": {
    "collapsed": false
   },
   "outputs": [
    {
     "data": {
      "text/plain": [
       "   +5  8 + 2   +1  3+    +5  13+\n",
       "   |     |x  + |    |x + |     |\n",
       "   +8  13+     +2  5+    +8  21+\n",
       "                                    Type: Polynomial(SquareMatrix(2,Integer))\n"
      ]
     },
     "execution_count": 35,
     "metadata": {},
     "output_type": "execute_result"
    }
   ],
   "source": [
    "m8 * p"
   ]
  },
  {
   "cell_type": "code",
   "execution_count": 36,
   "metadata": {
    "collapsed": false
   },
   "outputs": [
    {
     "data": {
      "text/plain": [
       "   +5  8 + 4   +4  8+ 3   +13  26+ 2   +4  12+    +7   18+\n",
       "   |     |x  + |    |x  + |      |x  + |     |x + |      |\n",
       "   +8  13+     +4  8+     +20  41+     +4  12+    +12  31+\n",
       "                                    Type: Polynomial(SquareMatrix(2,Integer))\n"
      ]
     },
     "execution_count": 36,
     "metadata": {},
     "output_type": "execute_result"
    }
   ],
   "source": [
    "p * p"
   ]
  },
  {
   "cell_type": "markdown",
   "metadata": {},
   "source": [
    " Input for page MatrixCanonicalFormsPage\n"
   ]
  },
  {
   "cell_type": "code",
   "execution_count": 37,
   "metadata": {
    "collapsed": false
   },
   "outputs": [
    {
     "name": "stdout",
     "output_type": "stream",
     "text": [
      "   All user variables and function definitions have been cleared.\n"
     ]
    },
    {
     "data": {
      "text/plain": []
     },
     "execution_count": 37,
     "metadata": {},
     "output_type": "execute_result"
    }
   ],
   "source": [
    ")clear all"
   ]
  },
  {
   "cell_type": "code",
   "execution_count": 38,
   "metadata": {
    "collapsed": false
   },
   "outputs": [
    {
     "data": {
      "text/plain": [
       "   + 0   4   1 +\n",
       "   |           |\n",
       "   | 5   3  - 7|\n",
       "   |           |\n",
       "   +- 5  5   9 +\n",
       "                                                        Type: Matrix(Integer)\n"
      ]
     },
     "execution_count": 38,
     "metadata": {},
     "output_type": "execute_result"
    }
   ],
   "source": [
    "m1 := matrix([[0,4,1],[5,3,-7],[-5,5,9]])"
   ]
  },
  {
   "cell_type": "code",
   "execution_count": 39,
   "metadata": {
    "collapsed": false
   },
   "outputs": [
    {
     "data": {
      "text/plain": [
       "   2\n",
       "                                                        Type: PositiveInteger\n"
      ]
     },
     "execution_count": 39,
     "metadata": {},
     "output_type": "execute_result"
    }
   ],
   "source": [
    "rank(m1)"
   ]
  },
  {
   "cell_type": "code",
   "execution_count": 40,
   "metadata": {
    "collapsed": false
   },
   "outputs": [
    {
     "data": {
      "text/plain": [
       "   +5  3  - 7+\n",
       "   |         |\n",
       "   |0  4   1 |\n",
       "   |         |\n",
       "   +0  0   0 +\n",
       "                                                        Type: Matrix(Integer)\n"
      ]
     },
     "execution_count": 40,
     "metadata": {},
     "output_type": "execute_result"
    }
   ],
   "source": [
    "rowEchelon(m1)"
   ]
  },
  {
   "cell_type": "code",
   "execution_count": 41,
   "metadata": {
    "collapsed": false
   },
   "outputs": [
    {
     "data": {
      "text/plain": [
       "   [[31,- 5,20]]\n",
       "                                                  Type: List(Vector(Integer))\n"
      ]
     },
     "execution_count": 41,
     "metadata": {},
     "output_type": "execute_result"
    }
   ],
   "source": [
    "nullSpace(m1)"
   ]
  },
  {
   "cell_type": "code",
   "execution_count": 42,
   "metadata": {
    "collapsed": false
   },
   "outputs": [
    {
     "data": {
      "text/plain": [
       "   + +----+          +----+          +\n",
       "   |\\|- 11  + 2   - \\|- 11  + 2   31 |\n",
       "   |-----------   -------------   -- |\n",
       "   |     5              5         20 |\n",
       "   |                                 |\n",
       "   |  +----+          +----+         |\n",
       "   |2\\|- 11  - 1  - 2\\|- 11  - 1    1|\n",
       "   |------------  --------------  - -|\n",
       "   |      5              5          4|\n",
       "   |                                 |\n",
       "   +     1              1          1 +\n",
       "                                 Type: Union(Matrix(Expression(Integer)),...)\n"
      ]
     },
     "execution_count": 42,
     "metadata": {},
     "output_type": "execute_result"
    }
   ],
   "source": [
    "t := eigenMatrix(m1)"
   ]
  },
  {
   "cell_type": "code",
   "execution_count": 43,
   "metadata": {
    "collapsed": false
   },
   "outputs": [
    {
     "data": {
      "text/plain": [
       "   +           +----+                                +\n",
       "   |5581634906\\|- 11  - 55255461173                  |\n",
       "   |-------------------------------        0        0|\n",
       "   |            +----+                               |\n",
       "   | 1888197247\\|- 11  - 5747548576                  |\n",
       "   |                                                 |\n",
       "   |                                   +----+        |\n",
       "   |                                 6\\|- 11  + 11   |\n",
       "   |               0                 -------------  0|\n",
       "   |                                     +----+      |\n",
       "   |                                    \\|- 11       |\n",
       "   |                                                 |\n",
       "   +               0                       0        0+\n",
       "                                            Type: Matrix(Expression(Integer))\n"
      ]
     },
     "execution_count": 43,
     "metadata": {},
     "output_type": "execute_result"
    }
   ],
   "source": [
    "inverse(t) * m1 * t"
   ]
  },
  {
   "cell_type": "markdown",
   "metadata": {},
   "source": [
    " Input for page MatrixBasicFunctionsPage\n"
   ]
  },
  {
   "cell_type": "code",
   "execution_count": 44,
   "metadata": {
    "collapsed": false
   },
   "outputs": [
    {
     "name": "stdout",
     "output_type": "stream",
     "text": [
      "   All user variables and function definitions have been cleared.\n"
     ]
    },
    {
     "data": {
      "text/plain": []
     },
     "execution_count": 44,
     "metadata": {},
     "output_type": "execute_result"
    }
   ],
   "source": [
    ")clear all"
   ]
  },
  {
   "cell_type": "code",
   "execution_count": 45,
   "metadata": {
    "collapsed": false
   },
   "outputs": [
    {
     "data": {
      "text/plain": [
       "   +1  2  3  4+\n",
       "   |          |\n",
       "   |2  3  4  5|\n",
       "   |          |\n",
       "   |3  4  5  6|\n",
       "   |          |\n",
       "   +4  5  6  7+\n",
       "                                                        Type: Matrix(Integer)\n"
      ]
     },
     "execution_count": 45,
     "metadata": {},
     "output_type": "execute_result"
    }
   ],
   "source": [
    "m1 := matrix([[1,2,3,4],[2,3,4,5],[3,4,5,6],[4,5,6,7]])"
   ]
  },
  {
   "cell_type": "code",
   "execution_count": 46,
   "metadata": {
    "collapsed": false
   },
   "outputs": [
    {
     "data": {
      "text/plain": [
       "   +1    0    2 +\n",
       "   |            |\n",
       "   |20  30   10 |\n",
       "   |            |\n",
       "   +0   200  100+\n",
       "                                             Type: Matrix(NonNegativeInteger)\n"
      ]
     },
     "execution_count": 46,
     "metadata": {},
     "output_type": "execute_result"
    }
   ],
   "source": [
    "m2 := matrix([[1,0,2],[20,30,10],[0,200,100]])"
   ]
  },
  {
   "cell_type": "code",
   "execution_count": 47,
   "metadata": {
    "collapsed": false
   },
   "outputs": [
    {
     "data": {
      "text/plain": [
       "                                                                   Type: Void\n"
      ]
     },
     "execution_count": 47,
     "metadata": {},
     "output_type": "execute_result"
    }
   ],
   "source": [
    "(m3,m4) : MATRIX PF 7"
   ]
  },
  {
   "cell_type": "code",
   "execution_count": 48,
   "metadata": {
    "collapsed": false
   },
   "outputs": [
    {
     "data": {
      "text/plain": [
       "   +1  0  1+\n",
       "   |       |\n",
       "   +5  0  1+\n",
       "                                                  Type: Matrix(PrimeField(7))\n"
      ]
     },
     "execution_count": 48,
     "metadata": {},
     "output_type": "execute_result"
    }
   ],
   "source": [
    "m3 := matrix([[1,0,1],[5,0,1]])"
   ]
  },
  {
   "cell_type": "code",
   "execution_count": 49,
   "metadata": {
    "collapsed": false
   },
   "outputs": [
    {
     "data": {
      "text/plain": [
       "   +1+\n",
       "   | |\n",
       "   |2|\n",
       "   | |\n",
       "   |5|\n",
       "   | |\n",
       "   +6+\n",
       "                                                  Type: Matrix(PrimeField(7))\n"
      ]
     },
     "execution_count": 49,
     "metadata": {},
     "output_type": "execute_result"
    }
   ],
   "source": [
    "m4 := matrix([[1],[2],[5],[6]])"
   ]
  },
  {
   "cell_type": "code",
   "execution_count": 50,
   "metadata": {
    "collapsed": false
   },
   "outputs": [
    {
     "data": {
      "text/plain": [
       "   1\n",
       "                                                        Type: PositiveInteger\n"
      ]
     },
     "execution_count": 50,
     "metadata": {},
     "output_type": "execute_result"
    }
   ],
   "source": [
    "m2(1,1)"
   ]
  },
  {
   "cell_type": "code",
   "execution_count": 51,
   "metadata": {
    "collapsed": false
   },
   "outputs": [
    {
     "data": {
      "text/plain": [
       "   99\n",
       "                                                        Type: PositiveInteger\n"
      ]
     },
     "execution_count": 51,
     "metadata": {},
     "output_type": "execute_result"
    }
   ],
   "source": [
    "m2(1,1) := 99"
   ]
  },
  {
   "cell_type": "code",
   "execution_count": 52,
   "metadata": {
    "collapsed": false
   },
   "outputs": [
    {
     "data": {
      "text/plain": [
       "   +99   0    2 +\n",
       "   |            |\n",
       "   |20  30   10 |\n",
       "   |            |\n",
       "   +0   200  100+\n",
       "                                             Type: Matrix(NonNegativeInteger)\n"
      ]
     },
     "execution_count": 52,
     "metadata": {},
     "output_type": "execute_result"
    }
   ],
   "source": [
    "m2"
   ]
  },
  {
   "cell_type": "code",
   "execution_count": 53,
   "metadata": {
    "collapsed": false
   },
   "outputs": [
    {
     "data": {
      "text/plain": [
       "   [20,30,10]\n",
       "                                             Type: Vector(NonNegativeInteger)\n"
      ]
     },
     "execution_count": 53,
     "metadata": {},
     "output_type": "execute_result"
    }
   ],
   "source": [
    "row(m2,2)"
   ]
  },
  {
   "cell_type": "code",
   "execution_count": 54,
   "metadata": {
    "collapsed": false
   },
   "outputs": [
    {
     "data": {
      "text/plain": [
       "   +99   0    2 +\n",
       "   |            |\n",
       "   |66  77   88 |\n",
       "   |            |\n",
       "   +0   200  100+\n",
       "                                             Type: Matrix(NonNegativeInteger)\n"
      ]
     },
     "execution_count": 54,
     "metadata": {},
     "output_type": "execute_result"
    }
   ],
   "source": [
    "setRow!(m2,2,vector [66,77,88])"
   ]
  },
  {
   "cell_type": "code",
   "execution_count": 55,
   "metadata": {
    "collapsed": false
   },
   "outputs": [
    {
     "data": {
      "text/plain": [
       "   [99,66,0]\n",
       "                                             Type: Vector(NonNegativeInteger)\n"
      ]
     },
     "execution_count": 55,
     "metadata": {},
     "output_type": "execute_result"
    }
   ],
   "source": [
    "r := column(m2,1)"
   ]
  },
  {
   "cell_type": "code",
   "execution_count": 56,
   "metadata": {
    "collapsed": false
   },
   "outputs": [
    {
     "data": {
      "text/plain": [
       "   +99  99   2 +\n",
       "   |           |\n",
       "   |66  66  88 |\n",
       "   |           |\n",
       "   +0   0   100+\n",
       "                                             Type: Matrix(NonNegativeInteger)\n"
      ]
     },
     "execution_count": 56,
     "metadata": {},
     "output_type": "execute_result"
    }
   ],
   "source": [
    "setColumn!(m2,2,r)"
   ]
  },
  {
   "cell_type": "code",
   "execution_count": 57,
   "metadata": {
    "collapsed": false
   },
   "outputs": [
    {
     "data": {
      "text/plain": [
       "   4\n",
       "                                                        Type: PositiveInteger\n"
      ]
     },
     "execution_count": 57,
     "metadata": {},
     "output_type": "execute_result"
    }
   ],
   "source": [
    "nrows(m1)"
   ]
  },
  {
   "cell_type": "code",
   "execution_count": 58,
   "metadata": {
    "collapsed": false
   },
   "outputs": [
    {
     "data": {
      "text/plain": [
       "   +0  0  0  0  0  0  0  0  0  0  0  0+\n",
       "   |                                  |\n",
       "   |0  0  0  0  0  0  0  0  0  0  0  0|\n",
       "   |                                  |\n",
       "   |0  0  0  0  0  0  0  0  0  0  0  0|\n",
       "   |                                  |\n",
       "   |0  0  0  0  0  0  0  0  0  0  0  0|\n",
       "   |                                  |\n",
       "   |0  0  0  0  0  0  0  0  0  0  0  0|\n",
       "   |                                  |\n",
       "   |0  0  0  0  0  0  0  0  0  0  0  0|\n",
       "   |                                  |\n",
       "   |0  0  0  0  0  0  0  0  0  0  0  0|\n",
       "   |                                  |\n",
       "   |0  0  0  0  0  0  0  0  0  0  0  0|\n",
       "   |                                  |\n",
       "   |0  0  0  0  0  0  0  0  0  0  0  0|\n",
       "   |                                  |\n",
       "   |0  0  0  0  0  0  0  0  0  0  0  0|\n",
       "   |                                  |\n",
       "   |0  0  0  0  0  0  0  0  0  0  0  0|\n",
       "   |                                  |\n",
       "   +0  0  0  0  0  0  0  0  0  0  0  0+\n",
       "                                                        Type: Matrix(Integer)\n"
      ]
     },
     "execution_count": 58,
     "metadata": {},
     "output_type": "execute_result"
    }
   ],
   "source": [
    "m5 : MATRIX INT := new(12,12,0)"
   ]
  },
  {
   "cell_type": "code",
   "execution_count": 59,
   "metadata": {
    "collapsed": false
   },
   "outputs": [
    {
     "data": {
      "text/plain": [
       "                                                                   Type: Void\n"
      ]
     },
     "execution_count": 59,
     "metadata": {},
     "output_type": "execute_result"
    }
   ],
   "source": [
    "for i in 2..nrows(m5) repeat m5(i-1,i):= 1"
   ]
  },
  {
   "cell_type": "code",
   "execution_count": 60,
   "metadata": {
    "collapsed": false
   },
   "outputs": [
    {
     "data": {
      "text/plain": [
       "   +0  1  0  0  0  0  0  0  0  0  0  0+\n",
       "   |                                  |\n",
       "   |0  0  1  0  0  0  0  0  0  0  0  0|\n",
       "   |                                  |\n",
       "   |0  0  0  1  0  0  0  0  0  0  0  0|\n",
       "   |                                  |\n",
       "   |0  0  0  0  1  0  0  0  0  0  0  0|\n",
       "   |                                  |\n",
       "   |0  0  0  0  0  1  0  0  0  0  0  0|\n",
       "   |                                  |\n",
       "   |0  0  0  0  0  0  1  0  0  0  0  0|\n",
       "   |                                  |\n",
       "   |0  0  0  0  0  0  0  1  0  0  0  0|\n",
       "   |                                  |\n",
       "   |0  0  0  0  0  0  0  0  1  0  0  0|\n",
       "   |                                  |\n",
       "   |0  0  0  0  0  0  0  0  0  1  0  0|\n",
       "   |                                  |\n",
       "   |0  0  0  0  0  0  0  0  0  0  1  0|\n",
       "   |                                  |\n",
       "   |0  0  0  0  0  0  0  0  0  0  0  1|\n",
       "   |                                  |\n",
       "   +0  0  0  0  0  0  0  0  0  0  0  0+\n",
       "                                                        Type: Matrix(Integer)\n"
      ]
     },
     "execution_count": 60,
     "metadata": {},
     "output_type": "execute_result"
    }
   ],
   "source": [
    "m5"
   ]
  },
  {
   "cell_type": "code",
   "execution_count": 61,
   "metadata": {
    "collapsed": false
   },
   "outputs": [
    {
     "data": {
      "text/plain": [
       "   +1  0  0  0  0+\n",
       "   |             |\n",
       "   |0  2  0  0  0|\n",
       "   |             |\n",
       "   |0  0  3  0  0|\n",
       "   |             |\n",
       "   |0  0  0  2  0|\n",
       "   |             |\n",
       "   +0  0  0  0  1+\n",
       "                                                        Type: Matrix(Integer)\n"
      ]
     },
     "execution_count": 61,
     "metadata": {},
     "output_type": "execute_result"
    }
   ],
   "source": [
    "d : MATRIX INT := diagonalMatrix([1,2,3,2,1])"
   ]
  },
  {
   "cell_type": "code",
   "execution_count": 62,
   "metadata": {
    "collapsed": false
   },
   "outputs": [
    {
     "data": {
      "text/plain": [
       "   +0   1   2   3   4 +\n",
       "   |                  |\n",
       "   |5   6   7   8   9 |\n",
       "   |                  |\n",
       "   +10  11  12  13  14+\n",
       "                                             Type: Matrix(NonNegativeInteger)\n"
      ]
     },
     "execution_count": 62,
     "metadata": {},
     "output_type": "execute_result"
    }
   ],
   "source": [
    "m6 := matrix([[0,1,2,3,4],[5,6,7,8,9],[10,11,12,13,14]])"
   ]
  },
  {
   "cell_type": "code",
   "execution_count": 63,
   "metadata": {
    "collapsed": false
   },
   "outputs": [
    {
     "data": {
      "text/plain": [
       "   +1   2   3 +\n",
       "   |          |\n",
       "   |6   7   8 |\n",
       "   |          |\n",
       "   +11  12  13+\n",
       "                                             Type: Matrix(NonNegativeInteger)\n"
      ]
     },
     "execution_count": 63,
     "metadata": {},
     "output_type": "execute_result"
    }
   ],
   "source": [
    "m7 := subMatrix(m6,1,3,2,4)"
   ]
  },
  {
   "cell_type": "code",
   "execution_count": 64,
   "metadata": {
    "collapsed": false
   },
   "outputs": [
    {
     "data": {
      "text/plain": [
       "   +0   1   2   3   4   1   2   3 +\n",
       "   |                              |\n",
       "   |5   6   7   8   9   6   7   8 |\n",
       "   |                              |\n",
       "   +10  11  12  13  14  11  12  13+\n",
       "                                             Type: Matrix(NonNegativeInteger)\n"
      ]
     },
     "execution_count": 64,
     "metadata": {},
     "output_type": "execute_result"
    }
   ],
   "source": [
    "horizConcat(m6,m7)"
   ]
  },
  {
   "cell_type": "code",
   "execution_count": 65,
   "metadata": {
    "collapsed": false
   },
   "outputs": [
    {
     "data": {
      "text/plain": [
       "   +0   1   2   3   4 +\n",
       "   |                  |\n",
       "   |5   6   7   8   9 |\n",
       "   |                  |\n",
       "   |10  11  12  13  14|\n",
       "   |                  |\n",
       "   +0   1   2   3   4 +\n",
       "                                             Type: Matrix(NonNegativeInteger)\n"
      ]
     },
     "execution_count": 65,
     "metadata": {},
     "output_type": "execute_result"
    }
   ],
   "source": [
    "vertConcat(m6,subMatrix(m6,1,1,1,5))"
   ]
  },
  {
   "cell_type": "code",
   "execution_count": 66,
   "metadata": {
    "collapsed": false
   },
   "outputs": [
    {
     "data": {
      "text/plain": [
       "   +0  5  10+\n",
       "   |        |\n",
       "   |1  6  11|\n",
       "   |        |\n",
       "   |2  7  12|\n",
       "   |        |\n",
       "   |3  8  13|\n",
       "   |        |\n",
       "   +4  9  14+\n",
       "                                             Type: Matrix(NonNegativeInteger)\n"
      ]
     },
     "execution_count": 66,
     "metadata": {},
     "output_type": "execute_result"
    }
   ],
   "source": [
    "transpose(m6)"
   ]
  },
  {
   "cell_type": "code",
   "execution_count": 67,
   "metadata": {
    "collapsed": false
   },
   "outputs": [
    {
     "data": {
      "text/plain": [
       "   +0  5  10  3   4 +\n",
       "   |                |\n",
       "   |1  6  11  8   9 |\n",
       "   |                |\n",
       "   +2  7  12  13  14+\n",
       "                                             Type: Matrix(NonNegativeInteger)\n"
      ]
     },
     "execution_count": 67,
     "metadata": {},
     "output_type": "execute_result"
    }
   ],
   "source": [
    "setsubMatrix!(m6, 1, 1, transpose(subMatrix(m6, 1, 3, 1, 3)))"
   ]
  },
  {
   "cell_type": "code",
   "execution_count": 68,
   "metadata": {
    "collapsed": false
   },
   "outputs": [
    {
     "data": {
      "text/plain": [
       "   +0  5  10  3   4 +\n",
       "   |                |\n",
       "   |1  6  11  8   9 |\n",
       "   |                |\n",
       "   +2  7  12  13  14+\n",
       "                                             Type: Matrix(NonNegativeInteger)\n"
      ]
     },
     "execution_count": 68,
     "metadata": {},
     "output_type": "execute_result"
    }
   ],
   "source": [
    "m6"
   ]
  },
  {
   "cell_type": "code",
   "execution_count": 69,
   "metadata": {
    "collapsed": false
   },
   "outputs": [
    {
     "data": {
      "text/plain": [
       "   +1  2+\n",
       "   |    |\n",
       "   +3  4+\n",
       "                                                        Type: Matrix(Integer)\n"
      ]
     },
     "execution_count": 69,
     "metadata": {},
     "output_type": "execute_result"
    }
   ],
   "source": [
    "m8 := matrix([[1,2],[3,4]])"
   ]
  },
  {
   "cell_type": "code",
   "execution_count": 70,
   "metadata": {
    "collapsed": false
   },
   "outputs": [
    {
     "data": {
      "text/plain": [
       "   +1  2+\n",
       "   |    |\n",
       "   +3  4+\n",
       "                                                        Type: Matrix(Integer)\n"
      ]
     },
     "execution_count": 70,
     "metadata": {},
     "output_type": "execute_result"
    }
   ],
   "source": [
    "m9 := m8"
   ]
  },
  {
   "cell_type": "code",
   "execution_count": 71,
   "metadata": {
    "collapsed": false
   },
   "outputs": [
    {
     "data": {
      "text/plain": [
       "   +1  2+\n",
       "   |    |\n",
       "   +3  4+\n",
       "                                                        Type: Matrix(Integer)\n"
      ]
     },
     "execution_count": 71,
     "metadata": {},
     "output_type": "execute_result"
    }
   ],
   "source": [
    "m10 := copy(m8)"
   ]
  },
  {
   "cell_type": "code",
   "execution_count": 72,
   "metadata": {
    "collapsed": false
   },
   "outputs": [
    {
     "data": {
      "text/plain": [
       "   1000000\n",
       "                                                        Type: PositiveInteger\n"
      ]
     },
     "execution_count": 72,
     "metadata": {},
     "output_type": "execute_result"
    }
   ],
   "source": [
    "m8(1,1) := 1000000"
   ]
  },
  {
   "cell_type": "code",
   "execution_count": 73,
   "metadata": {
    "collapsed": false
   },
   "outputs": [
    {
     "data": {
      "text/plain": [
       "   +1000000  2+\n",
       "   |          |\n",
       "   +   3     4+\n",
       "                                                        Type: Matrix(Integer)\n"
      ]
     },
     "execution_count": 73,
     "metadata": {},
     "output_type": "execute_result"
    }
   ],
   "source": [
    "m8"
   ]
  },
  {
   "cell_type": "code",
   "execution_count": 74,
   "metadata": {
    "collapsed": false
   },
   "outputs": [
    {
     "data": {
      "text/plain": [
       "   +1000000  2+\n",
       "   |          |\n",
       "   +   3     4+\n",
       "                                                        Type: Matrix(Integer)\n"
      ]
     },
     "execution_count": 74,
     "metadata": {},
     "output_type": "execute_result"
    }
   ],
   "source": [
    "m9"
   ]
  },
  {
   "cell_type": "code",
   "execution_count": 75,
   "metadata": {
    "collapsed": false
   },
   "outputs": [
    {
     "data": {
      "text/plain": [
       "   +1  2+\n",
       "   |    |\n",
       "   +3  4+\n",
       "                                                        Type: Matrix(Integer)\n"
      ]
     },
     "execution_count": 75,
     "metadata": {},
     "output_type": "execute_result"
    }
   ],
   "source": [
    "m10"
   ]
  },
  {
   "cell_type": "markdown",
   "metadata": {},
   "source": [
    " Input for page EigenPage\n"
   ]
  },
  {
   "cell_type": "code",
   "execution_count": 76,
   "metadata": {
    "collapsed": false
   },
   "outputs": [
    {
     "name": "stdout",
     "output_type": "stream",
     "text": [
      "   All user variables and function definitions have been cleared.\n"
     ]
    },
    {
     "data": {
      "text/plain": []
     },
     "execution_count": 76,
     "metadata": {},
     "output_type": "execute_result"
    }
   ],
   "source": [
    ")clear all"
   ]
  },
  {
   "cell_type": "code",
   "execution_count": 77,
   "metadata": {
    "collapsed": false
   },
   "outputs": [
    {
     "data": {
      "text/plain": [
       "   +1   2    1 +\n",
       "   |           |\n",
       "   |2   1   - 2|\n",
       "   |           |\n",
       "   +1  - 2   4 +\n",
       "                                              Type: Matrix(Fraction(Integer))\n"
      ]
     },
     "execution_count": 77,
     "metadata": {},
     "output_type": "execute_result"
    }
   ],
   "source": [
    "m1 : MATRIX FRAC INT := [[1,2,1],[2,1,-2],[1,-2,4]]"
   ]
  },
  {
   "cell_type": "code",
   "execution_count": 78,
   "metadata": {
    "collapsed": false
   },
   "outputs": [
    {
     "data": {
      "text/plain": [
       "             2\n",
       "   [5,%C | %C  - %C - 5]\n",
       "Type: List(Union(Fraction(Polynomial(Integer)),SuchThat(Symbol,Polynomial(Integer))))\n"
      ]
     },
     "execution_count": 78,
     "metadata": {},
     "output_type": "execute_result"
    }
   ],
   "source": [
    "leig := eigenvalues(m1)"
   ]
  },
  {
   "cell_type": "code",
   "execution_count": 79,
   "metadata": {
    "collapsed": false
   },
   "outputs": [
    {
     "data": {
      "text/plain": [
       "    + 0 +\n",
       "    |   |\n",
       "    |  1|\n",
       "   [|- -|]\n",
       "    |  2|\n",
       "    |   |\n",
       "    + 1 +\n",
       "                  Type: List(Matrix(Fraction(Polynomial(Fraction(Integer)))))\n"
      ]
     },
     "execution_count": 79,
     "metadata": {},
     "output_type": "execute_result"
    }
   ],
   "source": [
    "eigenvector(first(leig),m1)"
   ]
  },
  {
   "cell_type": "code",
   "execution_count": 80,
   "metadata": {
    "collapsed": false
   },
   "outputs": [
    {
     "name": "stdout",
     "output_type": "stream",
     "text": [
      "\n",
      "\n"
     ]
    },
    {
     "data": {
      "text/plain": [
       "                                   + 0 +\n",
       "                                   |   |\n",
       "                                   |  1|\n",
       "   [[eigval= 5,eigmult= 1,eigvec= [|- -|]],\n",
       "                                   |  2|\n",
       "                                   |   |\n",
       "                                   + 1 +\n",
       "                                                     +%E+\n",
       "                     2                               |  |\n",
       "    [eigval= (%E | %E  - %E - 5),eigmult= 1,eigvec= [|2 |]]]\n",
       "                                                     |  |\n",
       "                                                     +1 +\n",
       "Type: List(Record(eigval: Union(Fraction(Polynomial(Integer)),SuchThat(Symbol,Polynomial(Integer))),eigmult: NonNegativeInteger,eigvec: List(Matrix(Fraction(Polynomial(Integer))))))\n"
      ]
     },
     "execution_count": 80,
     "metadata": {},
     "output_type": "execute_result"
    }
   ],
   "source": [
    "eigenvectors(m1)"
   ]
  },
  {
   "cell_type": "code",
   "execution_count": 81,
   "metadata": {
    "collapsed": false
   },
   "outputs": [
    {
     "name": "stdout",
     "output_type": "stream",
     "text": [
      "\n",
      "\n",
      "\n"
     ]
    },
    {
     "data": {
      "text/plain": [
       "                                            + +--+    +\n",
       "              +--+                          |\\|21  + 1|\n",
       "             \\|21  + 1                      |---------|\n",
       "   [[radval= ---------,radmult= 1,radvect= [|    2    |]],\n",
       "                 2                          |         |\n",
       "                                            |    2    |\n",
       "                                            |         |\n",
       "                                            +    1    +\n",
       "                                              +   +--+    +\n",
       "                +--+                          |- \\|21  + 1|\n",
       "             - \\|21  + 1                      |-----------|\n",
       "    [radval= -----------,radmult= 1,radvect= [|     2     |]],\n",
       "                  2                           |           |\n",
       "                                              |     2     |\n",
       "                                              |           |\n",
       "                                              +     1     +\n",
       "                                    + 0 +\n",
       "                                    |   |\n",
       "                                    |  1|\n",
       "    [radval= 5,radmult= 1,radvect= [|- -|]]]\n",
       "                                    |  2|\n",
       "                                    |   |\n",
       "                                    + 1 +\n",
       "Type: List(Record(radval: Expression(Integer),radmult: Integer,radvect: List(Matrix(Expression(Integer)))))\n"
      ]
     },
     "execution_count": 81,
     "metadata": {},
     "output_type": "execute_result"
    }
   ],
   "source": [
    "radicalEigenvectors(m1)"
   ]
  },
  {
   "cell_type": "code",
   "execution_count": 82,
   "metadata": {
    "collapsed": false
   },
   "outputs": [
    {
     "data": {
      "text/plain": [
       "   + +--+         +--+         +\n",
       "   |\\|21  + 1  - \\|21  + 1     |\n",
       "   |---------  -----------   0 |\n",
       "   |    2           2          |\n",
       "   |                           |\n",
       "   |                          1|\n",
       "   |    2           2       - -|\n",
       "   |                          2|\n",
       "   |                           |\n",
       "   +    1           1        1 +\n",
       "                                 Type: Union(Matrix(Expression(Integer)),...)\n"
      ]
     },
     "execution_count": 82,
     "metadata": {},
     "output_type": "execute_result"
    }
   ],
   "source": [
    "eigenMatrix(m1)"
   ]
  },
  {
   "cell_type": "code",
   "execution_count": 83,
   "metadata": {
    "collapsed": false
   },
   "outputs": [
    {
     "data": {
      "text/plain": [
       "   +- 5  - 2+\n",
       "   |        |\n",
       "   +18    7 +\n",
       "                                              Type: Matrix(Fraction(Integer))\n"
      ]
     },
     "execution_count": 83,
     "metadata": {},
     "output_type": "execute_result"
    }
   ],
   "source": [
    "m2 : MATRIX FRAC INT := [[-5,-2],[18,7]]"
   ]
  },
  {
   "cell_type": "code",
   "execution_count": 84,
   "metadata": {
    "collapsed": false
   },
   "outputs": [
    {
     "data": {
      "text/plain": [
       "   \"failed\"\n",
       "                                                    Type: Union(\"failed\",...)\n"
      ]
     },
     "execution_count": 84,
     "metadata": {},
     "output_type": "execute_result"
    }
   ],
   "source": [
    "eigenMatrix(m2)"
   ]
  },
  {
   "cell_type": "code",
   "execution_count": 85,
   "metadata": {
    "collapsed": false
   },
   "outputs": [
    {
     "data": {
      "text/plain": [
       "   +1  2+\n",
       "   |    |\n",
       "   +2  1+\n",
       "                                              Type: Matrix(Fraction(Integer))\n"
      ]
     },
     "execution_count": 85,
     "metadata": {},
     "output_type": "execute_result"
    }
   ],
   "source": [
    "m3 : MATRIX FRAC INT := [[1,2],[2,1]]"
   ]
  },
  {
   "cell_type": "code",
   "execution_count": 86,
   "metadata": {
    "collapsed": false
   },
   "outputs": [
    {
     "data": {
      "text/plain": [
       "    +    1 + +  1 +\n",
       "    |- ----| |----|\n",
       "    |   +-+| | +-+|\n",
       "    |  \\|2 | |\\|2 |\n",
       "   [|      |,|    |]\n",
       "    |   1  | |  1 |\n",
       "    | ---- | |----|\n",
       "    |  +-+ | | +-+|\n",
       "    + \\|2  + +\\|2 +\n",
       "                                      Type: List(Matrix(Expression(Integer)))\n"
      ]
     },
     "execution_count": 86,
     "metadata": {},
     "output_type": "execute_result"
    }
   ],
   "source": [
    "orthonormalBasis(m3)"
   ]
  },
  {
   "cell_type": "code",
   "execution_count": 87,
   "metadata": {
    "collapsed": false
   },
   "outputs": [
    {
     "data": {
      "text/plain": []
     },
     "execution_count": 87,
     "metadata": {},
     "output_type": "execute_result"
    }
   ],
   "source": [
    "--\n",
    "-- EOF\n",
    "--"
   ]
  }
 ],
 "metadata": {
  "kernelspec": {
   "display_name": "FriCAS",
   "language": "spad",
   "name": "ifricas"
  },
  "language_info": {
   "codemirror_mode": "spad",
   "mimetype": "text/x-spad",
   "name": "SPAD",
   "pygments_lexer": "spad",
   "version": "1.2.6"
  },
  "name": "linalg.ipynb"
 },
 "nbformat": 4,
 "nbformat_minor": 0
}