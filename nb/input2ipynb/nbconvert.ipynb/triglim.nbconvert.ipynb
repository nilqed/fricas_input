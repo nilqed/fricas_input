{
 "cells": [
  {
   "cell_type": "markdown",
   "metadata": {},
   "source": [
    "Copyright The Numerical Algorithms Group Limited MCMXCII.\n"
   ]
  },
  {
   "cell_type": "markdown",
   "metadata": {},
   "source": [
    "% Limits involving trig and inverse trig functions\n",
    " Some of these limits were taken from bug reports submitted before\n",
    " changes were made to limit and related series packages.\n",
    " Author: Clifton J. Williamson\n",
    " Date Created: 27 August 1992\n",
    " Date Last Updated: 27 August 1992\n",
    " Keywords: limit, trigonometric function, inverse trigonometric function\n",
    " References:\n"
   ]
  },
  {
   "cell_type": "code",
   "execution_count": 0,
   "metadata": {
    "collapsed": false
   },
   "outputs": [
    {
     "name": "stdout",
     "output_type": "stream",
     "text": [
      "   All user variables and function definitions have been cleared.\n"
     ]
    },
    {
     "data": {
      "text/plain": []
     },
     "execution_count": 0,
     "metadata": {},
     "output_type": "execute_result"
    }
   ],
   "source": [
    ")clear all"
   ]
  },
  {
   "cell_type": "markdown",
   "metadata": {},
   "source": [
    " in each case, the argument to 'atan' has a pole and the left-hand\n",
    " and right-hand limits differ\n"
   ]
  },
  {
   "cell_type": "code",
   "execution_count": 1,
   "metadata": {
    "collapsed": false
   },
   "outputs": [
    {
     "name": "stdout",
     "output_type": "stream",
     "text": [
      "Warning: HyperTeX macro table not found\n"
     ]
    },
    {
     "data": {
      "text/plain": [
       "                     %pi                 %pi\n",
       "   [leftHandLimit= - ---,rightHandLimit= ---]\n",
       "                      2                   2\n",
       "Type: Union(Record(leftHandLimit: Union(OrderedCompletion(Expression(Integer)),\"failed\"),rightHandLimit: Union(OrderedCompletion(Expression(Integer)),\"failed\")),...)\n"
      ]
     },
     "execution_count": 1,
     "metadata": {},
     "output_type": "execute_result"
    }
   ],
   "source": [
    "limit(atan(1/sin(x)),x = 0)"
   ]
  },
  {
   "cell_type": "code",
   "execution_count": 2,
   "metadata": {
    "collapsed": false
   },
   "outputs": [
    {
     "data": {
      "text/plain": [
       "                     %pi                 %pi\n",
       "   [leftHandLimit= - ---,rightHandLimit= ---]\n",
       "                      2                   2\n",
       "Type: Union(Record(leftHandLimit: Union(OrderedCompletion(Expression(Integer)),\"failed\"),rightHandLimit: Union(OrderedCompletion(Expression(Integer)),\"failed\")),...)\n"
      ]
     },
     "execution_count": 2,
     "metadata": {},
     "output_type": "execute_result"
    }
   ],
   "source": [
    "limit(atan(sqrt(1 - x^2)/x),x = 0)"
   ]
  },
  {
   "cell_type": "code",
   "execution_count": 3,
   "metadata": {
    "collapsed": false
   },
   "outputs": [
    {
     "data": {
      "text/plain": [
       "                     %pi                 %pi\n",
       "   [leftHandLimit= - ---,rightHandLimit= ---]\n",
       "                      2                   2\n",
       "Type: Union(Record(leftHandLimit: Union(OrderedCompletion(Expression(Integer)),\"failed\"),rightHandLimit: Union(OrderedCompletion(Expression(Integer)),\"failed\")),...)\n"
      ]
     },
     "execution_count": 3,
     "metadata": {},
     "output_type": "execute_result"
    }
   ],
   "source": [
    "limit(atan(-sin(x)/(cos(x) + a)),x = acos(-a))"
   ]
  },
  {
   "cell_type": "code",
   "execution_count": 4,
   "metadata": {
    "collapsed": false
   },
   "outputs": [
    {
     "data": {
      "text/plain": [
       "                   %pi                   %pi\n",
       "   [leftHandLimit= ---,rightHandLimit= - ---]\n",
       "                    2                     2\n",
       "Type: Union(Record(leftHandLimit: Union(OrderedCompletion(Expression(Integer)),\"failed\"),rightHandLimit: Union(OrderedCompletion(Expression(Integer)),\"failed\")),...)\n"
      ]
     },
     "execution_count": 4,
     "metadata": {},
     "output_type": "execute_result"
    }
   ],
   "source": [
    "limit(atan(sin(x)/(cos(x) + a)),x = acos(-a))"
   ]
  },
  {
   "cell_type": "markdown",
   "metadata": {},
   "source": [
    " we'll get these next two if sqrt(1 - a^2) is considered to be\n",
    " positive by SIGNEF\n"
   ]
  },
  {
   "cell_type": "code",
   "execution_count": 5,
   "metadata": {
    "collapsed": false
   },
   "outputs": [
    {
     "data": {
      "text/plain": [
       "                   %pi                   %pi\n",
       "   [leftHandLimit= ---,rightHandLimit= - ---]\n",
       "                    2                     2\n",
       "Type: Union(Record(leftHandLimit: Union(OrderedCompletion(Expression(Integer)),\"failed\"),rightHandLimit: Union(OrderedCompletion(Expression(Integer)),\"failed\")),...)\n"
      ]
     },
     "execution_count": 5,
     "metadata": {},
     "output_type": "execute_result"
    }
   ],
   "source": [
    "limit(atan(1/(cos(x) + a)),x = acos(-a))"
   ]
  },
  {
   "cell_type": "code",
   "execution_count": 6,
   "metadata": {
    "collapsed": false
   },
   "outputs": [
    {
     "data": {
      "text/plain": [
       "                     %pi                 %pi\n",
       "   [leftHandLimit= - ---,rightHandLimit= ---]\n",
       "                      2                   2\n",
       "Type: Union(Record(leftHandLimit: Union(OrderedCompletion(Expression(Integer)),\"failed\"),rightHandLimit: Union(OrderedCompletion(Expression(Integer)),\"failed\")),...)\n"
      ]
     },
     "execution_count": 6,
     "metadata": {},
     "output_type": "execute_result"
    }
   ],
   "source": [
    "limit(atan(1/(sin(x) + a)),x = asin(-a))"
   ]
  },
  {
   "cell_type": "code",
   "execution_count": 7,
   "metadata": {
    "collapsed": false
   },
   "outputs": [
    {
     "data": {
      "text/plain": [
       "              - n\n",
       "     n    n %e    + 1      n    1\n",
       "   %e sin(-----------) - %e sin(-)\n",
       "               n                n\n",
       "                                                    Type: Expression(Integer)\n"
      ]
     },
     "execution_count": 7,
     "metadata": {},
     "output_type": "execute_result"
    }
   ],
   "source": [
    "f := exp(n) * (sin(1/n + exp(-n)) - sin(1/n))"
   ]
  },
  {
   "cell_type": "code",
   "execution_count": 8,
   "metadata": {
    "collapsed": false
   },
   "outputs": [
    {
     "data": {
      "text/plain": [
       "   \"failed\"\n",
       "                                                    Type: Union(\"failed\",...)\n"
      ]
     },
     "execution_count": 8,
     "metadata": {},
     "output_type": "execute_result"
    }
   ],
   "source": [
    "limit(f,n=%plusInfinity)"
   ]
  },
  {
   "cell_type": "code",
   "execution_count": 9,
   "metadata": {
    "collapsed": false
   },
   "outputs": [
    {
     "data": {
      "text/plain": []
     },
     "execution_count": 9,
     "metadata": {},
     "output_type": "execute_result"
    }
   ],
   "source": [
    "--\n",
    "-- EOF\n",
    "--"
   ]
  }
 ],
 "metadata": {
  "kernelspec": {
   "display_name": "FriCAS",
   "language": "spad",
   "name": "ifricas"
  },
  "language_info": {
   "codemirror_mode": "spad",
   "mimetype": "text/x-spad",
   "name": "SPAD",
   "pygments_lexer": "spad",
   "version": "1.2.6"
  },
  "name": "triglim.ipynb"
 },
 "nbformat": 4,
 "nbformat_minor": 0
}