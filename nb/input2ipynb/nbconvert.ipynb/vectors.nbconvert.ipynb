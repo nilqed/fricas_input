{
 "cells": [
  {
   "cell_type": "markdown",
   "metadata": {},
   "source": [
    "Copyright The Numerical Algorithms Group Limited 1991.\n"
   ]
  },
  {
   "cell_type": "code",
   "execution_count": 0,
   "metadata": {
    "collapsed": false
   },
   "outputs": [
    {
     "name": "stderr",
     "output_type": "stream",
     "text": [
      " \n",
      "   The file arrows is needed but does not exist.\n",
      "\n"
     ]
    },
    {
     "data": {
      "text/plain": [
       "error\n"
      ]
     },
     "execution_count": 0,
     "metadata": {},
     "output_type": "execute_result"
    }
   ],
   "source": [
    ")read arrows"
   ]
  },
  {
   "cell_type": "code",
   "execution_count": 1,
   "metadata": {
    "collapsed": false
   },
   "outputs": [
    {
     "data": {
      "text/plain": [
       "   6.0\n",
       "                                                            Type: DoubleFloat\n"
      ]
     },
     "execution_count": 1,
     "metadata": {},
     "output_type": "execute_result"
    }
   ],
   "source": [
    "clipValue :SF :=  6"
   ]
  },
  {
   "cell_type": "code",
   "execution_count": 2,
   "metadata": {
    "collapsed": false
   },
   "outputs": [
    {
     "data": {
      "text/plain": [
       "                                                                   Type: Void\n"
      ]
     },
     "execution_count": 2,
     "metadata": {},
     "output_type": "execute_result"
    }
   ],
   "source": [
    "clipFun(x) == min(max(x,-clipValue),clipValue)"
   ]
  },
  {
   "cell_type": "code",
   "execution_count": 3,
   "metadata": {
    "collapsed": false
   },
   "outputs": [
    {
     "data": {
      "text/plain": [
       "   25\n",
       "                                                                Type: Integer\n"
      ]
     },
     "execution_count": 3,
     "metadata": {},
     "output_type": "execute_result"
    }
   ],
   "source": [
    "realSteps :INT := 25"
   ]
  },
  {
   "cell_type": "code",
   "execution_count": 4,
   "metadata": {
    "collapsed": false
   },
   "outputs": [
    {
     "data": {
      "text/plain": [
       "   25\n",
       "                                                                Type: Integer\n"
      ]
     },
     "execution_count": 4,
     "metadata": {},
     "output_type": "execute_result"
    }
   ],
   "source": [
    "imagSteps :INT := 25"
   ]
  },
  {
   "cell_type": "code",
   "execution_count": 5,
   "metadata": {
    "collapsed": false
   },
   "outputs": [
    {
     "data": {
      "text/plain": [
       "   Complex(DoubleFloat)\n",
       "                                                                   Type: Type\n"
      ]
     },
     "execution_count": 5,
     "metadata": {},
     "output_type": "execute_result"
    }
   ],
   "source": [
    "C := Complex SF"
   ]
  },
  {
   "cell_type": "code",
   "execution_count": 6,
   "metadata": {
    "collapsed": false
   },
   "outputs": [
    {
     "data": {
      "text/plain": [
       "   Segment(DoubleFloat)\n",
       "                                                                   Type: Type\n"
      ]
     },
     "execution_count": 6,
     "metadata": {},
     "output_type": "execute_result"
    }
   ],
   "source": [
    "S := Segment SF"
   ]
  },
  {
   "cell_type": "code",
   "execution_count": 7,
   "metadata": {
    "collapsed": false
   },
   "outputs": [
    {
     "data": {
      "text/plain": [
       "                                                                   Type: Void\n"
      ]
     },
     "execution_count": 7,
     "metadata": {},
     "output_type": "execute_result"
    }
   ],
   "source": [
    "drawComplexVectorField :(C -> C, S, S) -> VIEW3D"
   ]
  },
  {
   "cell_type": "code",
   "execution_count": 8,
   "metadata": {
    "collapsed": false
   },
   "outputs": [
    {
     "data": {
      "text/plain": [
       "                                                                   Type: Void\n"
      ]
     },
     "execution_count": 8,
     "metadata": {},
     "output_type": "execute_result"
    }
   ],
   "source": [
    "drawComplexVectorField(f,realRange,imagRange) ==\n",
    "  delReal := (hi realRange - lo realRange)/realSteps\n",
    "  delImag := (hi imagRange - lo imagRange)/imagSteps\n",
    "  sp := create3Space()$ThreeSpace SF\n",
    "  real := lo realRange\n",
    "  for i in 1..realSteps + 1 repeat\n",
    "    imag := lo imagRange\n",
    "    for j in 1..imagSteps + 1 repeat\n",
    "       z := f complex(real, imag)\n",
    "       arg := argument z\n",
    "       len := clipFun sqrt norm z\n",
    "       p1 := point[real, imag, 0.0@SF, arg]\n",
    "       scaleLen := delReal * len\n",
    "       p2 := point[p1.1 + scaleLen * cos(arg),\n",
    "                   p1.2 + scaleLen * sin(arg), 0.0@SF, arg]\n",
    "       arrow := makeArrow(p1, p2)\n",
    "       for a in arrow repeat curve(sp, a)\n",
    "       imag := imag + delImag\n",
    "    real := real + delReal\n",
    "  makeViewport3D(sp, \"Complex Vector Field\")$VIEW3D"
   ]
  },
  {
   "cell_type": "code",
   "execution_count": 9,
   "metadata": {
    "collapsed": false
   },
   "outputs": [
    {
     "data": {
      "text/plain": [
       "                                                                   Type: Void\n"
      ]
     },
     "execution_count": 9,
     "metadata": {},
     "output_type": "execute_result"
    }
   ],
   "source": [
    "drawComplex :(C->C, S, S) -> VIEW3D"
   ]
  },
  {
   "cell_type": "code",
   "execution_count": 10,
   "metadata": {
    "collapsed": false
   },
   "outputs": [
    {
     "data": {
      "text/plain": [
       "                                                                   Type: Void\n"
      ]
     },
     "execution_count": 10,
     "metadata": {},
     "output_type": "execute_result"
    }
   ],
   "source": [
    "drawComplex(f, realRange, imagRange) ==\n",
    "  deltaReal :SF := (hi realRange - lo realRange)/realSteps\n",
    "  deltaImag :SF := (hi imagRange - lo imagRange)/imagSteps\n",
    "  llp:List List Point SF := []\n",
    "  real :SF := lo realRange\n",
    "  for i in 1..realSteps + 1 repeat\n",
    "    imag :SF := lo imagRange\n",
    "    lp := []$(List Point SF)\n",
    "    for j in 1..imagSteps + 1 repeat\n",
    "      z :COMPLEX SF := f(complex(real, imag))\n",
    "      pt :Point SF := point[real, imag, clipFun sqrt norm z, argument z]\n",
    "      lp := cons(pt, lp)\n",
    "      imag := imag + deltaImag\n",
    "    real := real + deltaReal\n",
    "    llp := cons(reverse! lp, llp)\n",
    "  llp := reverse! llp\n",
    "  makeViewport3D(mesh(llp), \"Complex Function\")$VIEW3D"
   ]
  },
  {
   "cell_type": "code",
   "execution_count": 11,
   "metadata": {
    "collapsed": false
   },
   "outputs": [
    {
     "data": {
      "text/plain": []
     },
     "execution_count": 11,
     "metadata": {},
     "output_type": "execute_result"
    }
   ],
   "source": [
    "--\n",
    "-- EOF\n",
    "--"
   ]
  }
 ],
 "metadata": {
  "kernelspec": {
   "display_name": "FriCAS",
   "language": "spad",
   "name": "ifricas"
  },
  "language_info": {
   "codemirror_mode": "spad",
   "mimetype": "text/x-spad",
   "name": "SPAD",
   "pygments_lexer": "spad",
   "version": "1.2.6"
  },
  "name": "vectors.ipynb"
 },
 "nbformat": 4,
 "nbformat_minor": 0
}