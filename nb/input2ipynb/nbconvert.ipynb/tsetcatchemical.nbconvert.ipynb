{
 "cells": [
  {
   "cell_type": "markdown",
   "metadata": {},
   "source": [
    "\n",
    "% Domains Definitions\n",
    "\n"
   ]
  },
  {
   "cell_type": "code",
   "execution_count": 0,
   "metadata": {
    "collapsed": false
   },
   "outputs": [
    {
     "name": "stdout",
     "output_type": "stream",
     "text": [
      "   All user variables and function definitions have been cleared.\n"
     ]
    },
    {
     "data": {
      "text/plain": []
     },
     "execution_count": 0,
     "metadata": {},
     "output_type": "execute_result"
    }
   ],
   "source": [
    ")clear all"
   ]
  },
  {
   "cell_type": "code",
   "execution_count": 1,
   "metadata": {
    "collapsed": false
   },
   "outputs": [
    {
     "data": {
      "text/plain": [
       "                                                           Type: List(Symbol)\n"
      ]
     },
     "execution_count": 1,
     "metadata": {},
     "output_type": "execute_result"
    }
   ],
   "source": [
    "ls : List Symbol := [x4,x3,x2,x1,t];"
   ]
  },
  {
   "cell_type": "code",
   "execution_count": 2,
   "metadata": {
    "collapsed": false
   },
   "outputs": [
    {
     "data": {
      "text/plain": [
       "                                                                   Type: Type\n"
      ]
     },
     "execution_count": 2,
     "metadata": {},
     "output_type": "execute_result"
    }
   ],
   "source": [
    "V := OVAR(ls);"
   ]
  },
  {
   "cell_type": "code",
   "execution_count": 3,
   "metadata": {
    "collapsed": false
   },
   "outputs": [
    {
     "data": {
      "text/plain": [
       "                                                                   Type: Type\n"
      ]
     },
     "execution_count": 3,
     "metadata": {},
     "output_type": "execute_result"
    }
   ],
   "source": [
    "R := Integer;"
   ]
  },
  {
   "cell_type": "code",
   "execution_count": 4,
   "metadata": {
    "collapsed": false
   },
   "outputs": [
    {
     "data": {
      "text/plain": [
       "   IndexedExponents(OrderedVariableList([x4,x3,x2,x1,t]))\n",
       "                                                                   Type: Type\n"
      ]
     },
     "execution_count": 4,
     "metadata": {},
     "output_type": "execute_result"
    }
   ],
   "source": [
    "E := IndexedExponents V"
   ]
  },
  {
   "cell_type": "code",
   "execution_count": 5,
   "metadata": {
    "collapsed": false
   },
   "outputs": [
    {
     "data": {
      "text/plain": [
       "                                                                   Type: Type\n"
      ]
     },
     "execution_count": 5,
     "metadata": {},
     "output_type": "execute_result"
    }
   ],
   "source": [
    "P := NSMP(R, V);"
   ]
  },
  {
   "cell_type": "code",
   "execution_count": 6,
   "metadata": {
    "collapsed": false
   },
   "outputs": [
    {
     "data": {
      "text/plain": [
       "                                                                   Type: Type\n"
      ]
     },
     "execution_count": 6,
     "metadata": {},
     "output_type": "execute_result"
    }
   ],
   "source": [
    "LP := List(P);"
   ]
  },
  {
   "cell_type": "markdown",
   "metadata": {},
   "source": [
    "\n",
    "% Initialisations\n",
    "\n"
   ]
  },
  {
   "cell_type": "code",
   "execution_count": 7,
   "metadata": {
    "collapsed": false
   },
   "outputs": [
    {
     "data": {
      "text/plain": [
       "Type: NewSparseMultivariatePolynomial(Integer,OrderedVariableList([x4,x3,x2,x1,t]))\n"
      ]
     },
     "execution_count": 7,
     "metadata": {},
     "output_type": "execute_result"
    }
   ],
   "source": [
    "x1: P := 'x1;"
   ]
  },
  {
   "cell_type": "code",
   "execution_count": 8,
   "metadata": {
    "collapsed": false
   },
   "outputs": [
    {
     "data": {
      "text/plain": [
       "Type: NewSparseMultivariatePolynomial(Integer,OrderedVariableList([x4,x3,x2,x1,t]))\n"
      ]
     },
     "execution_count": 8,
     "metadata": {},
     "output_type": "execute_result"
    }
   ],
   "source": [
    "x2: P := 'x2;"
   ]
  },
  {
   "cell_type": "code",
   "execution_count": 9,
   "metadata": {
    "collapsed": false
   },
   "outputs": [
    {
     "data": {
      "text/plain": [
       "Type: NewSparseMultivariatePolynomial(Integer,OrderedVariableList([x4,x3,x2,x1,t]))\n"
      ]
     },
     "execution_count": 9,
     "metadata": {},
     "output_type": "execute_result"
    }
   ],
   "source": [
    "x3: P := 'x3;"
   ]
  },
  {
   "cell_type": "code",
   "execution_count": 10,
   "metadata": {
    "collapsed": false
   },
   "outputs": [
    {
     "data": {
      "text/plain": [
       "Type: NewSparseMultivariatePolynomial(Integer,OrderedVariableList([x4,x3,x2,x1,t]))\n"
      ]
     },
     "execution_count": 10,
     "metadata": {},
     "output_type": "execute_result"
    }
   ],
   "source": [
    "x4: P := 'x4;"
   ]
  },
  {
   "cell_type": "code",
   "execution_count": 11,
   "metadata": {
    "collapsed": false
   },
   "outputs": [
    {
     "data": {
      "text/plain": [
       "Type: NewSparseMultivariatePolynomial(Integer,OrderedVariableList([x4,x3,x2,x1,t]))\n"
      ]
     },
     "execution_count": 11,
     "metadata": {},
     "output_type": "execute_result"
    }
   ],
   "source": [
    "t: P := 't;"
   ]
  },
  {
   "cell_type": "code",
   "execution_count": 12,
   "metadata": {
    "collapsed": false
   },
   "outputs": [
    {
     "name": "stdout",
     "output_type": "stream",
     "text": [
      "Warning: HyperTeX macro table not found\n"
     ]
    },
    {
     "data": {
      "text/plain": [
       "Type: NewSparseMultivariatePolynomial(Integer,OrderedVariableList([x4,x3,x2,x1,t]))\n"
      ]
     },
     "execution_count": 12,
     "metadata": {},
     "output_type": "execute_result"
    }
   ],
   "source": [
    "p1 := 2 - 7 * x1 + x1 ^ 2 * x2 + t * (x3 - x1) ;"
   ]
  },
  {
   "cell_type": "code",
   "execution_count": 13,
   "metadata": {
    "collapsed": false
   },
   "outputs": [
    {
     "data": {
      "text/plain": [
       "Type: NewSparseMultivariatePolynomial(Integer,OrderedVariableList([x4,x3,x2,x1,t]))\n"
      ]
     },
     "execution_count": 13,
     "metadata": {},
     "output_type": "execute_result"
    }
   ],
   "source": [
    "p2 := 6 * x1 - x1 ^ 2 * x2 + 10 * t * (x4 - x2) ;"
   ]
  },
  {
   "cell_type": "code",
   "execution_count": 14,
   "metadata": {
    "collapsed": false
   },
   "outputs": [
    {
     "data": {
      "text/plain": [
       "Type: NewSparseMultivariatePolynomial(Integer,OrderedVariableList([x4,x3,x2,x1,t]))\n"
      ]
     },
     "execution_count": 14,
     "metadata": {},
     "output_type": "execute_result"
    }
   ],
   "source": [
    "p3 := 2 - 7 * x3 + x3 ^ 2 * x4 + t * (x1 - x3) ;"
   ]
  },
  {
   "cell_type": "code",
   "execution_count": 15,
   "metadata": {
    "collapsed": false
   },
   "outputs": [
    {
     "data": {
      "text/plain": [
       "Type: NewSparseMultivariatePolynomial(Integer,OrderedVariableList([x4,x3,x2,x1,t]))\n"
      ]
     },
     "execution_count": 15,
     "metadata": {},
     "output_type": "execute_result"
    }
   ],
   "source": [
    "p4 := 6 * x3 - x3 ^2 * x4  + 1 - t * (x2 - x4) ;"
   ]
  },
  {
   "cell_type": "code",
   "execution_count": 16,
   "metadata": {
    "collapsed": false
   },
   "outputs": [
    {
     "data": {
      "text/plain": [
       "Type: List(NewSparseMultivariatePolynomial(Integer,OrderedVariableList([x4,x3,x2,x1,t])))\n"
      ]
     },
     "execution_count": 16,
     "metadata": {},
     "output_type": "execute_result"
    }
   ],
   "source": [
    "lp := [p1,p2,p3,p4];"
   ]
  },
  {
   "cell_type": "markdown",
   "metadata": {},
   "source": [
    "\n",
    "% Computations\n",
    "\n"
   ]
  },
  {
   "cell_type": "code",
   "execution_count": 17,
   "metadata": {
    "collapsed": false
   },
   "outputs": [
    {
     "data": {
      "text/plain": [
       "  WuWenTsunTriangularSet(Integer,IndexedExponents(OrderedVariableList([x4,x3,x2\n",
       "  ,x1,t])),OrderedVariableList([x4,x3,x2,x1,t]),NewSparseMultivariatePolynomial\n",
       "  (Integer,OrderedVariableList([x4,x3,x2,x1,t])))\n",
       "                                                                   Type: Type\n"
      ]
     },
     "execution_count": 17,
     "metadata": {},
     "output_type": "execute_result"
    }
   ],
   "source": [
    "T := WUTSET(R,E,V,P)"
   ]
  },
  {
   "cell_type": "code",
   "execution_count": 18,
   "metadata": {
    "collapsed": false
   },
   "outputs": [
    {
     "name": "stdout",
     "output_type": "stream",
     "text": [
      "            \n",
      "\n",
      "\n"
     ]
    },
    {
     "data": {
      "text/plain": [
       "   {\n",
       "            11       10      9    8   9          11       10       9      8   8\n",
       "       (242t   + 165t   + 24t  + t )x1  + (- 605t   + 880t   + 679t  + 54t )x1\n",
       "     + \n",
       "             12        11        10       9       8   7\n",
       "       (2178t   - 5445t   - 9794t   - 574t  + 672t )x1\n",
       "     + \n",
       "               12         11        10         9        8   6\n",
       "       (- 6776t   + 26840t   + 8126t   - 17620t  - 1568t )x1\n",
       "     + \n",
       "                11         10         9   5            10         9   4\n",
       "       (- 30800t   + 52304t   + 53760t )x1  + (- 39200t   - 15680t )x1\n",
       "     ,\n",
       "        3      2   2           3      2         3      2\n",
       "    (11t  + 10t )x1 x2 + (- 86t  - 70t )x1 + 50t  + 20t ,\n",
       "             2                                    2\n",
       "    t x3 + x1 x2 + (- t - 7)x1 + 2, 10t x4 + (- x1  - 10t)x2 + 6x1}\n",
       "Type: Union(WuWenTsunTriangularSet(Integer,IndexedExponents(OrderedVariableList([x4,x3,x2,x1,t])),OrderedVariableList([x4,x3,x2,x1,t]),NewSparseMultivariatePolynomial(Integer,OrderedVariableList([x4,x3,x2,x1,t]))),...)\n"
      ]
     },
     "execution_count": 18,
     "metadata": {},
     "output_type": "execute_result"
    }
   ],
   "source": [
    "medialSet(lp)$T"
   ]
  },
  {
   "cell_type": "code",
   "execution_count": 19,
   "metadata": {
    "collapsed": false
   },
   "outputs": [
    {
     "name": "stdout",
     "output_type": "stream",
     "text": [
      "            \n",
      "\n",
      "\n"
     ]
    },
    {
     "data": {
      "text/plain": [
       "   {\n",
       "            11       10      9    8   9          11       10       9      8   8\n",
       "       (242t   + 165t   + 24t  + t )x1  + (- 605t   + 880t   + 679t  + 54t )x1\n",
       "     + \n",
       "             12        11        10       9       8   7\n",
       "       (2178t   - 5445t   - 9794t   - 574t  + 672t )x1\n",
       "     + \n",
       "               12         11        10         9        8   6\n",
       "       (- 6776t   + 26840t   + 8126t   - 17620t  - 1568t )x1\n",
       "     + \n",
       "                11         10         9   5            10         9   4\n",
       "       (- 30800t   + 52304t   + 53760t )x1  + (- 39200t   - 15680t )x1\n",
       "     ,\n",
       "        3      2   2           3      2         3      2\n",
       "    (11t  + 10t )x1 x2 + (- 86t  - 70t )x1 + 50t  + 20t ,\n",
       "             2                                    2\n",
       "    t x3 + x1 x2 + (- t - 7)x1 + 2, 10t x4 + (- x1  - 10t)x2 + 6x1}\n",
       "Type: Union(WuWenTsunTriangularSet(Integer,IndexedExponents(OrderedVariableList([x4,x3,x2,x1,t])),OrderedVariableList([x4,x3,x2,x1,t]),NewSparseMultivariatePolynomial(Integer,OrderedVariableList([x4,x3,x2,x1,t]))),...)\n"
      ]
     },
     "execution_count": 19,
     "metadata": {},
     "output_type": "execute_result"
    }
   ],
   "source": [
    "characteristicSet(lp)$T"
   ]
  },
  {
   "cell_type": "code",
   "execution_count": 20,
   "metadata": {
    "collapsed": false
   },
   "outputs": [
    {
     "name": "stdout",
     "output_type": "stream",
     "text": [
      "\n",
      "                                                                                            \n",
      "\n",
      "\n",
      "\n",
      "                                                                                                                                                                                                                                              \n",
      "\n",
      "\n",
      "\n",
      "      \n",
      "\n",
      "\n",
      "\n",
      "\n",
      "                        \n",
      "\n",
      "\n",
      "\n",
      "\n",
      "                        \n",
      "\n",
      "\n",
      "\n"
     ]
    },
    {
     "data": {
      "text/plain": [
       "   [\n",
       "                             3        2\n",
       "     {11t + 10, 900x1 + 6655t  + 2662t ,\n",
       "\n",
       "                      3\n",
       "         38971649024x2\n",
       "       + \n",
       "                                            5               4\n",
       "             (- 1414695942t - 14146959420)x1  + 2829391884x1\n",
       "           + \n",
       "                            2                  3                  2\n",
       "             (- 14146959420t  - 99028715940t)x1  + 28293918840t x1\n",
       "        *\n",
       "             2\n",
       "           x2\n",
       "       + \n",
       "                        2                                4\n",
       "             (707347971t  + 18391047246t + 94077280143)x1\n",
       "           + \n",
       "                                            3\n",
       "             (- 2829391884t - 36782094492)x1\n",
       "           + \n",
       "                         3               2                                 2\n",
       "             (7073479710t  + 99028715940t  + 352446356790t + 43750348884)x1\n",
       "           + \n",
       "                            2\n",
       "             (- 28293918840t  - 198057431880t)x1 + 28293918840t\n",
       "        *\n",
       "           x2\n",
       "       + \n",
       "                       2                                 3\n",
       "         (- 4244087826t  - 59417229564t - 207960303474)x1\n",
       "       + \n",
       "                                        2\n",
       "         (16976351304t + 118834459128)x1\n",
       "       + \n",
       "                       2\n",
       "         (- 5845851000t  - 87156324000t - 303423050304)x1 + 11691702000t\n",
       "       + \n",
       "         71213094000\n",
       "       ,\n",
       "                 2                                     2\n",
       "      10x3 - 11x1 x2 + (11t + 77)x1 - 22, 100x4 + (11x1  + 110t)x2 - 66x1}\n",
       "     ,\n",
       "\n",
       "         3      2\n",
       "     {55t  + 72t  + 20t, (11t + 10)x1,\n",
       "\n",
       "                          2\n",
       "         (465452061949952t  + 423138238136320t)x2\n",
       "       + \n",
       "                                 12                      11\n",
       "             - 30395419454296875t   - 701857867399218750t\n",
       "           + \n",
       "                                   10                        9\n",
       "             - 6488291645330859375t   - 32105875440117187500t\n",
       "           + \n",
       "                                    8                         7\n",
       "             - 98115068719335937500t  - 200070637593750000000t\n",
       "           + \n",
       "                                     6                         5\n",
       "             - 283812925429687500000t  - 285360368906250000000t\n",
       "           + \n",
       "                                     4                         3\n",
       "             - 203392019531250000000t  - 100776328125000000000t\n",
       "           + \n",
       "                                  2\n",
       "           - 33082617187500000000t  - 6480468750000000000t - 574218750000000000\n",
       "        *\n",
       "             3\n",
       "           x1\n",
       "       + \n",
       "                                11                       10\n",
       "             121581677817187500t   + 1956359724876562500t\n",
       "           + \n",
       "                                  9                        8\n",
       "             12258648507187500000t  + 42612962210156250000t\n",
       "           + \n",
       "                                  7                         6\n",
       "             94169539406250000000t  + 141095774531250000000t\n",
       "           + \n",
       "                                   5                         4\n",
       "             147581280000000000000t  + 108372515625000000000t\n",
       "           + \n",
       "                                  3                        2\n",
       "             54960468750000000000t  + 18382031250000000000t\n",
       "           + \n",
       "             3656250000000000000t + 328125000000000000\n",
       "        *\n",
       "             2\n",
       "           x1\n",
       "       + \n",
       "                                  13                       12\n",
       "             - 709226453933593750t   - 8929805806345703125t\n",
       "           + \n",
       "                                    11                         10\n",
       "             - 48942486697070312500t   - 156380528045981250000t\n",
       "           + \n",
       "                                     9                         8\n",
       "             - 326629621730156250000t  - 471538077372656250000t\n",
       "           + \n",
       "                                     7                         6\n",
       "             - 483442617281250000000t  - 355362026250000000000t\n",
       "           + \n",
       "                                     5                        4\n",
       "             - 186769852500000000000t  - 69530398437500000000t\n",
       "           + \n",
       "                                    3                       2\n",
       "             - 18287656250000000000t  - 3509375000000000000t\n",
       "           + \n",
       "             - 515625000000000000t - 46875000000000000\n",
       "        *\n",
       "           x1\n",
       "       + \n",
       "                            13                       12\n",
       "         202636129695312500t   + 2551373087527343750t\n",
       "       + \n",
       "                              11                        10\n",
       "         13983567627734375000t   + 44645413248046875000t\n",
       "       + \n",
       "                              9                         8\n",
       "         93006952500000000000t  + 133433269921875000000t\n",
       "       + \n",
       "                               7                        6\n",
       "         134994595312500000000t  + 96549492187500000000t\n",
       "       + \n",
       "                              5                        4                       3\n",
       "         47927343750000000000t  + 15748046875000000000t  + 3085937500000000000t\n",
       "       + \n",
       "                            2\n",
       "         273437500000000000t\n",
       "       ,\n",
       "               2                                    2\n",
       "      t x3 + x1 x2 + (- t - 7)x1 + 2, 10t x4 + (- x1  - 10t)x2 + 6x1}\n",
       "     ,\n",
       "\n",
       "     {11t + 1,\n",
       "\n",
       "                3         2               3            2               3\n",
       "         78345x1  + 9722x1  + (- 89741344t  - 73045280t )x1 + 52175200t\n",
       "       + \n",
       "                  2\n",
       "         20870080t\n",
       "       ,\n",
       "         2              3        2           3        2\n",
       "      9x1 x2 + (- 10406t  - 8470t )x1 + 6050t  + 2420t ,\n",
       "               2                                    2\n",
       "      x3 - 11x1 x2 + (11t + 77)x1 - 22, 10x4 + (11x1  + 110t)x2 - 66x1}\n",
       "     ,\n",
       "\n",
       "         2\n",
       "     {22t  + 13t + 1,\n",
       "\n",
       "                    8\n",
       "         (99t + 9)x1\n",
       "       + \n",
       "                    12           11            10          9          8   7\n",
       "         (- 2230272t   + 5575680t   + 10029056t   + 587776t  - 688128t )x1\n",
       "       + \n",
       "                  12            11           10            9           8   6\n",
       "         (6938624t   - 27484160t   - 8321024t   + 18042880t  + 1605632t )x1\n",
       "       + \n",
       "                   11            10            9   5\n",
       "         (31539200t   - 53559296t   - 55050240t )x1\n",
       "       + \n",
       "                   10            9   4\n",
       "         (40140800t   + 16056320t )x1\n",
       "       ,\n",
       "                  2           3        2           3       2\n",
       "      (113t + 7)x1 x2 + (3784t  + 3080t )x1 - 2200t  - 880t ,\n",
       "               2                                    2\n",
       "      t x3 + x1 x2 + (- t - 7)x1 + 2, 10t x4 + (- x1  - 10t)x2 + 6x1}\n",
       "     ,\n",
       "    {t,x1 - 2,4x2 + (- t - 7)x1 + 2,x3 - 3,9x4 + (- t - 7)x3 + t x1 + 2},\n",
       "\n",
       "     {\n",
       "              11       10      9    8   9\n",
       "         (242t   + 165t   + 24t  + t )x1\n",
       "       + \n",
       "                11       10       9      8   8\n",
       "         (- 605t   + 880t   + 679t  + 54t )x1\n",
       "       + \n",
       "               12        11        10       9       8   7\n",
       "         (2178t   - 5445t   - 9794t   - 574t  + 672t )x1\n",
       "       + \n",
       "                 12         11        10         9        8   6\n",
       "         (- 6776t   + 26840t   + 8126t   - 17620t  - 1568t )x1\n",
       "       + \n",
       "                  11         10         9   5            10         9   4\n",
       "         (- 30800t   + 52304t   + 53760t )x1  + (- 39200t   - 15680t )x1\n",
       "       ,\n",
       "          3      2   2           3      2         3      2\n",
       "      (11t  + 10t )x1 x2 + (- 86t  - 70t )x1 + 50t  + 20t ,\n",
       "               2                                    2\n",
       "      t x3 + x1 x2 + (- t - 7)x1 + 2, 10t x4 + (- x1  - 10t)x2 + 6x1}\n",
       "     ]\n",
       "Type: List(WuWenTsunTriangularSet(Integer,IndexedExponents(OrderedVariableList([x4,x3,x2,x1,t])),OrderedVariableList([x4,x3,x2,x1,t]),NewSparseMultivariatePolynomial(Integer,OrderedVariableList([x4,x3,x2,x1,t]))))\n"
      ]
     },
     "execution_count": 20,
     "metadata": {},
     "output_type": "execute_result"
    }
   ],
   "source": [
    "characteristicSerie(lp)$T"
   ]
  },
  {
   "cell_type": "code",
   "execution_count": 21,
   "metadata": {
    "collapsed": false
   },
   "outputs": [
    {
     "name": "stdout",
     "output_type": "stream",
     "text": [
      "\n",
      "\n",
      "                                                                                            \n",
      "\n",
      "\n",
      "\n",
      "      \n",
      "\n",
      "\n",
      "\n",
      "\n",
      "                        \n",
      "\n",
      "\n",
      "\n",
      "\n",
      "                                                                                                                                                                                                                                              \n",
      "\n",
      "\n",
      "                  \n",
      "\n",
      "\n",
      "\n"
     ]
    },
    {
     "data": {
      "text/plain": [
       "   [{t,x1 - 2,4x2 + (- t - 7)x1 + 2,x3 - 3,9x4 + (- t - 7)x3 + 2},\n",
       "\n",
       "                             3        2\n",
       "     {11t + 10, 900x1 + 6655t  + 2662t ,\n",
       "\n",
       "                      3\n",
       "         38971649024x2\n",
       "       + \n",
       "                                            5               4\n",
       "             (- 1414695942t - 14146959420)x1  + 2829391884x1\n",
       "           + \n",
       "                            2                  3                  2\n",
       "             (- 14146959420t  - 99028715940t)x1  + 28293918840t x1\n",
       "        *\n",
       "             2\n",
       "           x2\n",
       "       + \n",
       "                        2                                4\n",
       "             (707347971t  + 18391047246t + 94077280143)x1\n",
       "           + \n",
       "                                            3\n",
       "             (- 2829391884t - 36782094492)x1\n",
       "           + \n",
       "                         3               2                                 2\n",
       "             (7073479710t  + 99028715940t  + 352446356790t + 43750348884)x1\n",
       "           + \n",
       "                            2\n",
       "             (- 28293918840t  - 198057431880t)x1 + 28293918840t\n",
       "        *\n",
       "           x2\n",
       "       + \n",
       "                       2                                 3\n",
       "         (- 4244087826t  - 59417229564t - 207960303474)x1\n",
       "       + \n",
       "                                        2\n",
       "         (16976351304t + 118834459128)x1\n",
       "       + \n",
       "                       2\n",
       "         (- 5845851000t  - 87156324000t - 303423050304)x1 + 11691702000t\n",
       "       + \n",
       "         71213094000\n",
       "       ,\n",
       "                 2                                     2\n",
       "      10x3 - 11x1 x2 + (11t + 77)x1 - 22, 100x4 + (11x1  + 110t)x2 - 66x1}\n",
       "     ,\n",
       "\n",
       "     {11t + 1,\n",
       "\n",
       "                3         2               3            2               3\n",
       "         78345x1  + 9722x1  + (- 89741344t  - 73045280t )x1 + 52175200t\n",
       "       + \n",
       "                  2\n",
       "         20870080t\n",
       "       ,\n",
       "         2              3        2           3        2\n",
       "      9x1 x2 + (- 10406t  - 8470t )x1 + 6050t  + 2420t ,\n",
       "               2                                    2\n",
       "      x3 - 11x1 x2 + (11t + 77)x1 - 22, 10x4 + (11x1  + 110t)x2 - 66x1}\n",
       "     ,\n",
       "\n",
       "         2\n",
       "     {22t  + 13t + 1,\n",
       "\n",
       "                    5\n",
       "         (99t + 9)x1\n",
       "       + \n",
       "                    12           11            10          9          8   4\n",
       "         (- 2230272t   + 5575680t   + 10029056t   + 587776t  - 688128t )x1\n",
       "       + \n",
       "                  12            11           10            9           8   3\n",
       "         (6938624t   - 27484160t   - 8321024t   + 18042880t  + 1605632t )x1\n",
       "       + \n",
       "                   11            10            9   2\n",
       "         (31539200t   - 53559296t   - 55050240t )x1\n",
       "       + \n",
       "                   10            9\n",
       "         (40140800t   + 16056320t )x1\n",
       "       ,\n",
       "                  2           3        2           3       2\n",
       "      (113t + 7)x1 x2 + (3784t  + 3080t )x1 - 2200t  - 880t ,\n",
       "               2                                    2\n",
       "      t x3 + x1 x2 + (- t - 7)x1 + 2, 10t x4 + (- x1  - 10t)x2 + 6x1}\n",
       "     ,\n",
       "\n",
       "         3      2\n",
       "     {55t  + 72t  + 20t, (11t + 10)x1,\n",
       "\n",
       "                          2\n",
       "         (465452061949952t  + 423138238136320t)x2\n",
       "       + \n",
       "                                 12                      11\n",
       "             - 30395419454296875t   - 701857867399218750t\n",
       "           + \n",
       "                                   10                        9\n",
       "             - 6488291645330859375t   - 32105875440117187500t\n",
       "           + \n",
       "                                    8                         7\n",
       "             - 98115068719335937500t  - 200070637593750000000t\n",
       "           + \n",
       "                                     6                         5\n",
       "             - 283812925429687500000t  - 285360368906250000000t\n",
       "           + \n",
       "                                     4                         3\n",
       "             - 203392019531250000000t  - 100776328125000000000t\n",
       "           + \n",
       "                                  2\n",
       "           - 33082617187500000000t  - 6480468750000000000t - 574218750000000000\n",
       "        *\n",
       "             3\n",
       "           x1\n",
       "       + \n",
       "                                11                       10\n",
       "             121581677817187500t   + 1956359724876562500t\n",
       "           + \n",
       "                                  9                        8\n",
       "             12258648507187500000t  + 42612962210156250000t\n",
       "           + \n",
       "                                  7                         6\n",
       "             94169539406250000000t  + 141095774531250000000t\n",
       "           + \n",
       "                                   5                         4\n",
       "             147581280000000000000t  + 108372515625000000000t\n",
       "           + \n",
       "                                  3                        2\n",
       "             54960468750000000000t  + 18382031250000000000t\n",
       "           + \n",
       "             3656250000000000000t + 328125000000000000\n",
       "        *\n",
       "             2\n",
       "           x1\n",
       "       + \n",
       "                                  13                       12\n",
       "             - 709226453933593750t   - 8929805806345703125t\n",
       "           + \n",
       "                                    11                         10\n",
       "             - 48942486697070312500t   - 156380528045981250000t\n",
       "           + \n",
       "                                     9                         8\n",
       "             - 326629621730156250000t  - 471538077372656250000t\n",
       "           + \n",
       "                                     7                         6\n",
       "             - 483442617281250000000t  - 355362026250000000000t\n",
       "           + \n",
       "                                     5                        4\n",
       "             - 186769852500000000000t  - 69530398437500000000t\n",
       "           + \n",
       "                                    3                       2\n",
       "             - 18287656250000000000t  - 3509375000000000000t\n",
       "           + \n",
       "             - 515625000000000000t - 46875000000000000\n",
       "        *\n",
       "           x1\n",
       "       + \n",
       "                            13                       12\n",
       "         202636129695312500t   + 2551373087527343750t\n",
       "       + \n",
       "                              11                        10\n",
       "         13983567627734375000t   + 44645413248046875000t\n",
       "       + \n",
       "                              9                         8\n",
       "         93006952500000000000t  + 133433269921875000000t\n",
       "       + \n",
       "                               7                        6\n",
       "         134994595312500000000t  + 96549492187500000000t\n",
       "       + \n",
       "                              5                        4                       3\n",
       "         47927343750000000000t  + 15748046875000000000t  + 3085937500000000000t\n",
       "       + \n",
       "                            2\n",
       "         273437500000000000t\n",
       "       ,\n",
       "                                            2\n",
       "      t x3 + (- t - 7)x1 + 2, 10t x4 + (- x1  - 10t)x2}\n",
       "     ,\n",
       "\n",
       "     {\n",
       "              4       3      2       6          4       3       2         5\n",
       "         (242t  + 165t  + 24t  + t)x1  + (- 605t  + 880t  + 679t  + 54t)x1\n",
       "       + \n",
       "               5        4        3       2          4\n",
       "         (2178t  - 5445t  - 9794t  - 574t  + 672t)x1\n",
       "       + \n",
       "                 5         4        3         2           3\n",
       "         (- 6776t  + 26840t  + 8126t  - 17620t  - 1568t)x1\n",
       "       + \n",
       "                  4         3         2   2            3         2\n",
       "         (- 30800t  + 52304t  + 53760t )x1  + (- 39200t  - 15680t )x1\n",
       "       ,\n",
       "          2         2           2               2\n",
       "      (11t  + 10t)x1 x2 + (- 86t  - 70t)x1 + 50t  + 20t,\n",
       "               2                                    2\n",
       "      t x3 + x1 x2 + (- t - 7)x1 + 2, 10t x4 + (- x1  - 10t)x2 + 6x1}\n",
       "     ]\n",
       "Type: List(WuWenTsunTriangularSet(Integer,IndexedExponents(OrderedVariableList([x4,x3,x2,x1,t])),OrderedVariableList([x4,x3,x2,x1,t]),NewSparseMultivariatePolynomial(Integer,OrderedVariableList([x4,x3,x2,x1,t]))))\n"
      ]
     },
     "execution_count": 21,
     "metadata": {},
     "output_type": "execute_result"
    }
   ],
   "source": [
    "zeroSetSplit(lp)$T"
   ]
  },
  {
   "cell_type": "code",
   "execution_count": 22,
   "metadata": {
    "collapsed": false
   },
   "outputs": [
    {
     "data": {
      "text/plain": [
       "  RegularTriangularSet(Integer,IndexedExponents(OrderedVariableList([x4,x3,x2,x\n",
       "  1,t])),OrderedVariableList([x4,x3,x2,x1,t]),NewSparseMultivariatePolynomial(I\n",
       "  nteger,OrderedVariableList([x4,x3,x2,x1,t])))\n",
       "                                                                   Type: Type\n"
      ]
     },
     "execution_count": 22,
     "metadata": {},
     "output_type": "execute_result"
    }
   ],
   "source": [
    "T := REGSET(R,E,V,P)"
   ]
  },
  {
   "cell_type": "code",
   "execution_count": 23,
   "metadata": {
    "collapsed": false
   },
   "outputs": [
    {
     "name": "stdout",
     "output_type": "stream",
     "text": [
      "                  \n",
      "\n",
      "\n",
      "\n"
     ]
    },
    {
     "data": {
      "text/plain": [
       "   [\n",
       "     {\n",
       "              3       2             5          3       2               4\n",
       "         (242t  + 165t  + 24t + 1)x1  + (- 605t  + 880t  + 679t + 54)x1\n",
       "       + \n",
       "               4        3        2                3\n",
       "         (2178t  - 5445t  - 9794t  - 574t + 672)x1\n",
       "       + \n",
       "                 4         3        2                   2\n",
       "         (- 6776t  + 26840t  + 8126t  - 17620t - 1568)x1\n",
       "       + \n",
       "                  3         2                     2\n",
       "         (- 30800t  + 52304t  + 53760t)x1 - 39200t  - 15680t\n",
       "       ,\n",
       "                  2\n",
       "      (11t + 10)x1 x2 + (- 86t - 70)x1 + 50t + 20,\n",
       "               2                                    2\n",
       "      t x3 + x1 x2 + (- t - 7)x1 + 2, 10t x4 + (- x1  - 10t)x2 + 6x1}\n",
       "     ]\n",
       "Type: List(RegularTriangularSet(Integer,IndexedExponents(OrderedVariableList([x4,x3,x2,x1,t])),OrderedVariableList([x4,x3,x2,x1,t]),NewSparseMultivariatePolynomial(Integer,OrderedVariableList([x4,x3,x2,x1,t]))))\n"
      ]
     },
     "execution_count": 23,
     "metadata": {},
     "output_type": "execute_result"
    }
   ],
   "source": [
    "zeroSetSplit(lp)$T"
   ]
  },
  {
   "cell_type": "code",
   "execution_count": 24,
   "metadata": {
    "collapsed": false
   },
   "outputs": [
    {
     "name": "stdout",
     "output_type": "stream",
     "text": [
      "                  \n",
      "\n",
      "\n",
      "\n",
      "\n",
      "\n",
      "\n",
      "\n",
      "\n",
      "\n",
      "\n",
      "\n",
      "\n",
      "\n",
      "\n"
     ]
    },
    {
     "data": {
      "text/plain": [
       "   [\n",
       "     {\n",
       "              3       2             5          3       2               4\n",
       "         (242t  + 165t  + 24t + 1)x1  + (- 605t  + 880t  + 679t + 54)x1\n",
       "       + \n",
       "               4        3        2                3\n",
       "         (2178t  - 5445t  - 9794t  - 574t + 672)x1\n",
       "       + \n",
       "                 4         3        2                   2\n",
       "         (- 6776t  + 26840t  + 8126t  - 17620t - 1568)x1\n",
       "       + \n",
       "                  3         2                     2\n",
       "         (- 30800t  + 52304t  + 53760t)x1 - 39200t  - 15680t\n",
       "       ,\n",
       "                  2\n",
       "      (11t + 10)x1 x2 + (- 86t - 70)x1 + 50t + 20,\n",
       "               2                                    2\n",
       "      t x3 + x1 x2 + (- t - 7)x1 + 2, 10t x4 + (- x1  - 10t)x2 + 6x1}\n",
       "     ,\n",
       "\n",
       "                      3         2                          2\n",
       "     {11t + 1, 78345x1  + 9722x1  - 536256x1 + 133280, 99x1 x2 - 684x1 + 170,\n",
       "      9x3 - 28, 9x4 - 9x2 + 9x1 - 17}\n",
       "     ,\n",
       "\n",
       "                  4         3          2                       2\n",
       "     {2t + 1, 81x1  - 5382x1  + 43960x1  - 79632x1 - 15680, 9x1 x2 - 54x1 - 10,\n",
       "      9x3 + 9x1 - 56, 9x4 - 9x2 + 2}\n",
       "     ,\n",
       "\n",
       "     {11t + 10, 9x1 - 28,\n",
       "                  3                2\n",
       "      2435728064x2  - 85841821296x2  + 299777296923x2 - 274523632083,\n",
       "      405x3 - 4312x2 + 7551, 2025x4 + 131x2 - 4158}\n",
       "     ,\n",
       "    {5t + 2,x1,25x2 - 31,x3 - 5,25x4 - 31}, {t,x1 - 2,x2 - 3,x3 - 3,9x4 - 19}]\n",
       "Type: List(RegularTriangularSet(Integer,IndexedExponents(OrderedVariableList([x4,x3,x2,x1,t])),OrderedVariableList([x4,x3,x2,x1,t]),NewSparseMultivariatePolynomial(Integer,OrderedVariableList([x4,x3,x2,x1,t]))))\n"
      ]
     },
     "execution_count": 24,
     "metadata": {},
     "output_type": "execute_result"
    }
   ],
   "source": [
    "zeroSetSplit(lp,false)$T"
   ]
  },
  {
   "cell_type": "code",
   "execution_count": 25,
   "metadata": {
    "collapsed": false
   },
   "outputs": [
    {
     "data": {
      "text/plain": []
     },
     "execution_count": 25,
     "metadata": {},
     "output_type": "execute_result"
    }
   ],
   "source": [
    "--\n",
    "-- EOF\n",
    "--"
   ]
  }
 ],
 "metadata": {
  "kernelspec": {
   "display_name": "FriCAS",
   "language": "spad",
   "name": "ifricas"
  },
  "language_info": {
   "codemirror_mode": "spad",
   "mimetype": "text/x-spad",
   "name": "SPAD",
   "pygments_lexer": "spad",
   "version": "1.2.6"
  },
  "name": "tsetcatchemical.ipynb"
 },
 "nbformat": 4,
 "nbformat_minor": 0
}