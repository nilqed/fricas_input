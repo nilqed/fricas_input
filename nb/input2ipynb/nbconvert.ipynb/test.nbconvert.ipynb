{
 "cells": [
  {
   "cell_type": "code",
   "execution_count": 0,
   "metadata": {
    "collapsed": false
   },
   "outputs": [
    {
     "data": {
      "text/plain": []
     },
     "execution_count": 0,
     "metadata": {},
     "output_type": "execute_result"
    }
   ],
   "source": [
    ")set break resume"
   ]
  },
  {
   "cell_type": "markdown",
   "metadata": {},
   "source": [
    "Copyright The Numerical Algorithms Group Limited 1991.\n"
   ]
  },
  {
   "cell_type": "markdown",
   "metadata": {},
   "source": [
    " File of recently fixed interpreter bugs\n"
   ]
  },
  {
   "cell_type": "markdown",
   "metadata": {},
   "source": [
    " eval a polynomial with EXPR substitution values\n",
    " Fixed by SCM, verified on 10/30/90\n"
   ]
  },
  {
   "cell_type": "code",
   "execution_count": 1,
   "metadata": {
    "collapsed": false
   },
   "outputs": [
    {
     "name": "stdout",
     "output_type": "stream",
     "text": [
      "   All user variables and function definitions have been cleared.\n"
     ]
    },
    {
     "data": {
      "text/plain": []
     },
     "execution_count": 1,
     "metadata": {},
     "output_type": "execute_result"
    }
   ],
   "source": [
    ")clear all"
   ]
  },
  {
   "cell_type": "code",
   "execution_count": 2,
   "metadata": {
    "collapsed": false
   },
   "outputs": [
    {
     "name": "stdout",
     "output_type": "stream",
     "text": [
      "Warning: HyperTeX macro table not found\n"
     ]
    },
    {
     "data": {
      "text/plain": [
       "      2                   2\n",
       "   C y  + (B x + E)y + A x  + D x + F\n",
       "                                                    Type: Polynomial(Integer)\n"
      ]
     },
     "execution_count": 2,
     "metadata": {},
     "output_type": "execute_result"
    }
   ],
   "source": [
    "eq1:= A*x^2 + B*x*y + C*y^2 +D*x + E*y + F"
   ]
  },
  {
   "cell_type": "code",
   "execution_count": 3,
   "metadata": {
    "collapsed": false
   },
   "outputs": [
    {
     "name": "stdout",
     "output_type": "stream",
     "text": [
      "    "
     ]
    },
    {
     "data": {
      "text/plain": [
       "            2                       2       2\n",
       "     (A ydot  - B xdot ydot + C xdot )sin(t)\n",
       "   + \n",
       "               2                              2\n",
       "     ((- B ydot  + (2C - 2A)xdot ydot + B xdot )cos(t) - D ydot + E xdot)sin(t)\n",
       "   + \n",
       "            2                       2       2\n",
       "     (C ydot  + B xdot ydot + A xdot )cos(t)  + (E ydot + D xdot)cos(t) + F\n",
       "                                                    Type: Expression(Integer)\n"
      ]
     },
     "execution_count": 3,
     "metadata": {},
     "output_type": "execute_result"
    }
   ],
   "source": [
    "eq2:= eval(eq1,[x= xdot*cos(t) - ydot*sin(t), y=xdot*sin(t) + ydot*cos(t)])"
   ]
  },
  {
   "cell_type": "markdown",
   "metadata": {},
   "source": [
    " UTS coercions.  Fixed by SCM, verified on 10/30/90\n"
   ]
  },
  {
   "cell_type": "code",
   "execution_count": 4,
   "metadata": {
    "collapsed": false
   },
   "outputs": [
    {
     "name": "stdout",
     "output_type": "stream",
     "text": [
      "   All user variables and function definitions have been cleared.\n"
     ]
    },
    {
     "data": {
      "text/plain": []
     },
     "execution_count": 4,
     "metadata": {},
     "output_type": "execute_result"
    }
   ],
   "source": [
    ")clear all"
   ]
  },
  {
   "cell_type": "code",
   "execution_count": 5,
   "metadata": {
    "collapsed": false
   },
   "outputs": [
    {
     "name": "stdout",
     "output_type": "stream",
     "text": [
      "  "
     ]
    },
    {
     "data": {
      "text/plain": [
       "             1  2   1  3    1  4    1   5    1   6     1   7     1    8\n",
       "     1 + x + - x  + - x  + -- x  + --- x  + --- x  + ---- x  + ----- x\n",
       "             2      6      24      120      720      5040      40320\n",
       "   + \n",
       "        1    9      1     10      11\n",
       "     ------ x  + ------- x   + O(x  )\n",
       "     362880      3628800\n",
       "                        Type: UnivariateTaylorSeries(Expression(Integer),x,0)\n"
      ]
     },
     "execution_count": 5,
     "metadata": {},
     "output_type": "execute_result"
    }
   ],
   "source": [
    "taylor exp x"
   ]
  },
  {
   "cell_type": "code",
   "execution_count": 6,
   "metadata": {
    "collapsed": false
   },
   "outputs": [
    {
     "name": "stdout",
     "output_type": "stream",
     "text": [
      "  "
     ]
    },
    {
     "data": {
      "text/plain": [
       "             1  2   1  3    1  4    1   5    1   6     1   7     1    8\n",
       "     1 + x + - x  + - x  + -- x  + --- x  + --- x  + ---- x  + ----- x\n",
       "             2      6      24      120      720      5040      40320\n",
       "   + \n",
       "        1    9      1     10      11\n",
       "     ------ x  + ------- x   + O(x  )\n",
       "     362880      3628800\n",
       "                        Type: UnivariateTaylorSeries(Expression(Integer),x,0)\n"
      ]
     },
     "execution_count": 6,
     "metadata": {},
     "output_type": "execute_result"
    }
   ],
   "source": [
    "s := %"
   ]
  },
  {
   "cell_type": "code",
   "execution_count": 7,
   "metadata": {
    "collapsed": false
   },
   "outputs": [
    {
     "name": "stdout",
     "output_type": "stream",
     "text": [
      "        "
     ]
    },
    {
     "data": {
      "text/plain": [
       "                    2                            3\n",
       "     1.0 + x + 0.5 x  + 0.1666666666_6666666667 x\n",
       "   + \n",
       "                                4                               5\n",
       "     0.0416666666_6666666666_7 x  + 0.0083333333_3333333333_34 x\n",
       "   + \n",
       "                                 6                               7\n",
       "     0.0013888888_8888888888_89 x  + 0.0001984126_9841269841_27 x\n",
       "   + \n",
       "                                   8                                  9\n",
       "     0.0000248015_8730158730_1587 x  + 0.0000027557_3192239858_90653 x\n",
       "   + \n",
       "                                   10      11\n",
       "     0.2755731922_3985890653 E -6 x   + O(x  )\n",
       "                        Type: UnivariateTaylorSeries(Expression(Float),x,0.0)\n"
      ]
     },
     "execution_count": 7,
     "metadata": {},
     "output_type": "execute_result"
    }
   ],
   "source": [
    "s::(UTS(EXPR FLOAT, x, 0))"
   ]
  },
  {
   "cell_type": "code",
   "execution_count": 8,
   "metadata": {
    "collapsed": false
   },
   "outputs": [
    {
     "name": "stdout",
     "output_type": "stream",
     "text": [
      "        "
     ]
    },
    {
     "data": {
      "text/plain": [
       "                    2                            3\n",
       "     1.0 + x + 0.5 x  + 0.1666666666_6666666667 x\n",
       "   + \n",
       "                                4                               5\n",
       "     0.0416666666_6666666666_7 x  + 0.0083333333_3333333333_34 x\n",
       "   + \n",
       "                                 6                               7\n",
       "     0.0013888888_8888888888_89 x  + 0.0001984126_9841269841_27 x\n",
       "   + \n",
       "                                   8                                  9\n",
       "     0.0000248015_8730158730_1587 x  + 0.0000027557_3192239858_90653 x\n",
       "   + \n",
       "                                   10      11\n",
       "     0.2755731922_3985890653 E -6 x   + O(x  )\n",
       "                                    Type: UnivariateTaylorSeries(Float,x,0.0)\n"
      ]
     },
     "execution_count": 8,
     "metadata": {},
     "output_type": "execute_result"
    }
   ],
   "source": [
    "s::(UTS(FLOAT, x, 0))"
   ]
  },
  {
   "cell_type": "code",
   "execution_count": 9,
   "metadata": {
    "collapsed": false
   },
   "outputs": [
    {
     "data": {
      "text/plain": [
       "        5 8 65 163 1957 685 109601 98641\n",
       "   [1,2,-,-,--,---,----,---,------,-----,...]\n",
       "        2 3 24  60  720 252  40320 36288\n",
       "                                            Type: Stream(Expression(Integer))\n"
      ]
     },
     "execution_count": 9,
     "metadata": {},
     "output_type": "execute_result"
    }
   ],
   "source": [
    "eval(s,1)"
   ]
  },
  {
   "cell_type": "code",
   "execution_count": 10,
   "metadata": {
    "collapsed": false
   },
   "outputs": [
    {
     "name": "stdout",
     "output_type": "stream",
     "text": [
      "\n",
      "\n",
      "\n"
     ]
    },
    {
     "data": {
      "text/plain": [
       "   [1.0, 2.0, 2.5, 2.6666666666_666666667, 2.7083333333_333333333,\n",
       "    2.7166666666_666666667, 2.7180555555_555555556, 2.7182539682_53968254,\n",
       "    2.7182787698_412698413, 2.7182815255_731922399, ...]\n",
       "                                                          Type: Stream(Float)\n"
      ]
     },
     "execution_count": 10,
     "metadata": {},
     "output_type": "execute_result"
    }
   ],
   "source": [
    "%::(Stream Float)"
   ]
  },
  {
   "cell_type": "markdown",
   "metadata": {},
   "source": [
    " Another bug, fixed by adding UPXS2 package,\n"
   ]
  },
  {
   "cell_type": "code",
   "execution_count": 11,
   "metadata": {
    "collapsed": false
   },
   "outputs": [
    {
     "data": {
      "text/plain": [
       "          3        5        7          9            11\n",
       "         a   3    a   5    a    7     a     9      a      11      12\n",
       "   a x - -- x  + --- x  - ---- x  + ------ x  - -------- x   + O(x  )\n",
       "          6      120      5040      362880      39916800\n",
       "                       Type: UnivariatePuiseuxSeries(Expression(Integer),x,0)\n"
      ]
     },
     "execution_count": 11,
     "metadata": {},
     "output_type": "execute_result"
    }
   ],
   "source": [
    "s := series(sin(a*x),x=0)"
   ]
  },
  {
   "cell_type": "code",
   "execution_count": 12,
   "metadata": {
    "collapsed": false
   },
   "outputs": [
    {
     "name": "stdout",
     "output_type": "stream",
     "text": [
      "\n",
      "\n",
      "\n",
      "\n",
      "    \n",
      "    \n",
      "    \n",
      "\n"
     ]
    },
    {
     "data": {
      "text/plain": [
       "                                          3\n",
       "   [0.0, a, a, - 0.1666666666_6666666667 a  + a,\n",
       "                               3\n",
       "    - 0.1666666666_6666666667 a  + a,\n",
       "                                5                            3\n",
       "    0.0083333333_3333333333_34 a  - 0.1666666666_6666666667 a  + a,\n",
       "                                5                            3\n",
       "    0.0083333333_3333333333_34 a  - 0.1666666666_6666666667 a  + a,\n",
       "\n",
       "                                     7                               5\n",
       "       - 0.0001984126_9841269841_27 a  + 0.0083333333_3333333333_34 a\n",
       "     + \n",
       "                                  3\n",
       "       - 0.1666666666_6666666667 a  + a\n",
       "     ,\n",
       "\n",
       "                                     7                               5\n",
       "       - 0.0001984126_9841269841_27 a  + 0.0083333333_3333333333_34 a\n",
       "     + \n",
       "                                  3\n",
       "       - 0.1666666666_6666666667 a  + a\n",
       "     ,\n",
       "\n",
       "                                      9                               7\n",
       "       0.0000027557_3192239858_90653 a  - 0.0001984126_9841269841_27 a\n",
       "     + \n",
       "                                   5                            3\n",
       "       0.0083333333_3333333333_34 a  - 0.1666666666_6666666667 a  + a\n",
       "     ,\n",
       "    ...]\n",
       "                                              Type: Stream(Expression(Float))\n"
      ]
     },
     "execution_count": 12,
     "metadata": {},
     "output_type": "execute_result"
    }
   ],
   "source": [
    "eval(s, 1.0)"
   ]
  },
  {
   "cell_type": "code",
   "execution_count": 13,
   "metadata": {
    "collapsed": false
   },
   "outputs": [
    {
     "name": "stdout",
     "output_type": "stream",
     "text": [
      "  "
     ]
    },
    {
     "data": {
      "text/plain": [
       "        3        5        7          9            11              13\n",
       "       a   3    a   5    a    7     a     9      a      11       a       13\n",
       "     - -- x  + --- x  - ---- x  + ------ x  - -------- x   + ---------- x\n",
       "        6      120      5040      362880      39916800       6227020800\n",
       "   + \n",
       "        14\n",
       "     O(x  )\n",
       "                       Type: UnivariatePuiseuxSeries(Expression(Integer),x,0)\n"
      ]
     },
     "execution_count": 13,
     "metadata": {},
     "output_type": "execute_result"
    }
   ],
   "source": [
    "s - a*x"
   ]
  },
  {
   "cell_type": "markdown",
   "metadata": {},
   "source": [
    " grand finale, just fixed on 3/23/91\n"
   ]
  },
  {
   "cell_type": "code",
   "execution_count": 14,
   "metadata": {
    "collapsed": false
   },
   "outputs": [
    {
     "name": "stdout",
     "output_type": "stream",
     "text": [
      "\n",
      "\n",
      "\n",
      "\n",
      "    \n",
      "    \n",
      "    \n",
      "\n"
     ]
    },
    {
     "data": {
      "text/plain": [
       "                                          3\n",
       "   [0.0, a, a, - 0.1666666666_6666666667 a  + a,\n",
       "                               3\n",
       "    - 0.1666666666_6666666667 a  + a,\n",
       "                                5                            3\n",
       "    0.0083333333_3333333333_34 a  - 0.1666666666_6666666667 a  + a,\n",
       "                                5                            3\n",
       "    0.0083333333_3333333333_34 a  - 0.1666666666_6666666667 a  + a,\n",
       "\n",
       "                                     7                               5\n",
       "       - 0.0001984126_9841269841_27 a  + 0.0083333333_3333333333_34 a\n",
       "     + \n",
       "                                  3\n",
       "       - 0.1666666666_6666666667 a  + a\n",
       "     ,\n",
       "\n",
       "                                     7                               5\n",
       "       - 0.0001984126_9841269841_27 a  + 0.0083333333_3333333333_34 a\n",
       "     + \n",
       "                                  3\n",
       "       - 0.1666666666_6666666667 a  + a\n",
       "     ,\n",
       "\n",
       "                                      9                               7\n",
       "       0.0000027557_3192239858_90653 a  - 0.0001984126_9841269841_27 a\n",
       "     + \n",
       "                                   5                            3\n",
       "       0.0083333333_3333333333_34 a  - 0.1666666666_6666666667 a  + a\n",
       "     ,\n",
       "    ...]\n",
       "                                              Type: Stream(Expression(Float))\n"
      ]
     },
     "execution_count": 14,
     "metadata": {},
     "output_type": "execute_result"
    }
   ],
   "source": [
    "eval(s, 1.0)"
   ]
  },
  {
   "cell_type": "markdown",
   "metadata": {},
   "source": [
    " generalized resolve\n",
    " Fixed (enhanced) by SCM in 3/23/91\n"
   ]
  },
  {
   "cell_type": "code",
   "execution_count": 15,
   "metadata": {
    "collapsed": false
   },
   "outputs": [
    {
     "name": "stdout",
     "output_type": "stream",
     "text": [
      "   All user variables and function definitions have been cleared.\n"
     ]
    },
    {
     "data": {
      "text/plain": []
     },
     "execution_count": 15,
     "metadata": {},
     "output_type": "execute_result"
    }
   ],
   "source": [
    ")cl all"
   ]
  },
  {
   "cell_type": "code",
   "execution_count": 16,
   "metadata": {
    "collapsed": false
   },
   "outputs": [
    {
     "data": {
      "text/plain": [
       "   [1,2,3]\n",
       "                                                Type: Vector(PositiveInteger)\n"
      ]
     },
     "execution_count": 16,
     "metadata": {},
     "output_type": "execute_result"
    }
   ],
   "source": [
    "v := vector [1,2,3]"
   ]
  },
  {
   "cell_type": "code",
   "execution_count": 17,
   "metadata": {
    "collapsed": false
   },
   "outputs": [
    {
     "data": {
      "text/plain": [
       "    1   3\n",
       "   [-,1,-]\n",
       "    2   2\n",
       "                                              Type: Vector(Fraction(Integer))\n"
      ]
     },
     "execution_count": 17,
     "metadata": {},
     "output_type": "execute_result"
    }
   ],
   "source": [
    "(1/2)*v"
   ]
  },
  {
   "cell_type": "code",
   "execution_count": 18,
   "metadata": {
    "collapsed": false
   },
   "outputs": [
    {
     "data": {
      "text/plain": [
       "   1\n",
       "   -\n",
       "   4\n",
       "                                          Type: Polynomial(Fraction(Integer))\n"
      ]
     },
     "execution_count": 18,
     "metadata": {},
     "output_type": "execute_result"
    }
   ],
   "source": [
    "eval(x^2, x=1/2)"
   ]
  },
  {
   "cell_type": "code",
   "execution_count": 19,
   "metadata": {
    "collapsed": false
   },
   "outputs": [
    {
     "data": {
      "text/plain": [
       "   0.25\n",
       "                                                      Type: Polynomial(Float)\n"
      ]
     },
     "execution_count": 19,
     "metadata": {},
     "output_type": "execute_result"
    }
   ],
   "source": [
    "eval(x^2, x=0.5)"
   ]
  },
  {
   "cell_type": "code",
   "execution_count": 20,
   "metadata": {
    "collapsed": false
   },
   "outputs": [
    {
     "data": {
      "text/plain": [
       "   1.7320508075_688772935\n",
       "                                                      Type: Expression(Float)\n"
      ]
     },
     "execution_count": 20,
     "metadata": {},
     "output_type": "execute_result"
    }
   ],
   "source": [
    "eval(3^x, x=0.5)"
   ]
  },
  {
   "cell_type": "markdown",
   "metadata": {},
   "source": [
    " overloading interpreter maps on arity\n",
    " Fixed by SCM, verified on 10/30/90\n"
   ]
  },
  {
   "cell_type": "code",
   "execution_count": 21,
   "metadata": {
    "collapsed": false
   },
   "outputs": [
    {
     "name": "stdout",
     "output_type": "stream",
     "text": [
      "   All user variables and function definitions have been cleared.\n"
     ]
    },
    {
     "data": {
      "text/plain": []
     },
     "execution_count": 21,
     "metadata": {},
     "output_type": "execute_result"
    }
   ],
   "source": [
    ")clear all"
   ]
  },
  {
   "cell_type": "code",
   "execution_count": 22,
   "metadata": {
    "collapsed": false
   },
   "outputs": [
    {
     "data": {
      "text/plain": [
       "                                                                   Type: Void\n"
      ]
     },
     "execution_count": 22,
     "metadata": {},
     "output_type": "execute_result"
    }
   ],
   "source": [
    "f(x) == x+1"
   ]
  },
  {
   "cell_type": "code",
   "execution_count": 23,
   "metadata": {
    "collapsed": false
   },
   "outputs": [
    {
     "data": {
      "text/plain": [
       "                                                                   Type: Void\n"
      ]
     },
     "execution_count": 23,
     "metadata": {},
     "output_type": "execute_result"
    }
   ],
   "source": [
    "f(x,y) == x+y"
   ]
  },
  {
   "cell_type": "code",
   "execution_count": 24,
   "metadata": {
    "collapsed": false
   },
   "outputs": [
    {
     "name": "stdout",
     "output_type": "stream",
     "text": [
      "   Compiling function f with type PositiveInteger -> PositiveInteger \n"
     ]
    },
    {
     "data": {
      "text/plain": [
       "   4\n",
       "                                                        Type: PositiveInteger\n"
      ]
     },
     "execution_count": 24,
     "metadata": {},
     "output_type": "execute_result"
    }
   ],
   "source": [
    "f 3"
   ]
  },
  {
   "cell_type": "code",
   "execution_count": 25,
   "metadata": {
    "collapsed": false
   },
   "outputs": [
    {
     "name": "stdout",
     "output_type": "stream",
     "text": [
      "   Compiling function f with type (PositiveInteger,PositiveInteger) -> \n",
      "      PositiveInteger \n"
     ]
    },
    {
     "data": {
      "text/plain": [
       "   7\n",
       "                                                        Type: PositiveInteger\n"
      ]
     },
     "execution_count": 25,
     "metadata": {},
     "output_type": "execute_result"
    }
   ],
   "source": [
    "f(3,4)"
   ]
  },
  {
   "cell_type": "code",
   "execution_count": 26,
   "metadata": {
    "collapsed": false
   },
   "outputs": [
    {
     "data": {
      "text/plain": [
       "   6\n",
       "                                                        Type: PositiveInteger\n"
      ]
     },
     "execution_count": 26,
     "metadata": {},
     "output_type": "execute_result"
    }
   ],
   "source": [
    "f(5)"
   ]
  },
  {
   "cell_type": "code",
   "execution_count": 27,
   "metadata": {
    "collapsed": false
   },
   "outputs": [
    {
     "name": "stdout",
     "output_type": "stream",
     "text": [
      "   Compiling function f with type (PositiveInteger,Variable(x)) -> \n",
      "      Polynomial(Integer) \n"
     ]
    },
    {
     "data": {
      "text/plain": [
       "   x + 1\n",
       "                                                    Type: Polynomial(Integer)\n"
      ]
     },
     "execution_count": 27,
     "metadata": {},
     "output_type": "execute_result"
    }
   ],
   "source": [
    "f(1,x)"
   ]
  },
  {
   "cell_type": "markdown",
   "metadata": {},
   "source": [
    " targetted function requiring a coercion\n",
    " Fixed by SCM, verified on 10/30/90\n"
   ]
  },
  {
   "cell_type": "code",
   "execution_count": 28,
   "metadata": {
    "collapsed": false
   },
   "outputs": [
    {
     "name": "stdout",
     "output_type": "stream",
     "text": [
      "   All user variables and function definitions have been cleared.\n"
     ]
    },
    {
     "data": {
      "text/plain": []
     },
     "execution_count": 28,
     "metadata": {},
     "output_type": "execute_result"
    }
   ],
   "source": [
    ")clear all"
   ]
  },
  {
   "cell_type": "code",
   "execution_count": 29,
   "metadata": {
    "collapsed": false
   },
   "outputs": [
    {
     "data": {
      "text/plain": [
       "       1      1  2    1   4     1    6      1     8       1     10      11\n",
       "   1 - - t + -- t  - --- t  + ----- t  - ------- t  + -------- t   + O(t  )\n",
       "       2     12      720      30240      1209600      47900160\n",
       "                       Type: UnivariatePuiseuxSeries(Expression(Integer),t,0)\n"
      ]
     },
     "execution_count": 29,
     "metadata": {},
     "output_type": "execute_result"
    }
   ],
   "source": [
    "series(n +-> bernoulli(n)/factorial(n), t=0)"
   ]
  },
  {
   "cell_type": "markdown",
   "metadata": {},
   "source": [
    " in-homogeneous list mapping\n",
    " Fixed by SCM, verified on 10/30/90\n"
   ]
  },
  {
   "cell_type": "code",
   "execution_count": 30,
   "metadata": {
    "collapsed": false
   },
   "outputs": [
    {
     "name": "stdout",
     "output_type": "stream",
     "text": [
      "   All user variables and function definitions have been cleared.\n"
     ]
    },
    {
     "data": {
      "text/plain": []
     },
     "execution_count": 30,
     "metadata": {},
     "output_type": "execute_result"
    }
   ],
   "source": [
    ")clear all"
   ]
  },
  {
   "cell_type": "code",
   "execution_count": 31,
   "metadata": {
    "collapsed": false
   },
   "outputs": [
    {
     "data": {
      "text/plain": [
       "   [1,2,- 1]\n",
       "                                                          Type: List(Integer)\n"
      ]
     },
     "execution_count": 31,
     "metadata": {},
     "output_type": "execute_result"
    }
   ],
   "source": [
    "l := [1,2,-1]"
   ]
  },
  {
   "cell_type": "code",
   "execution_count": 32,
   "metadata": {
    "collapsed": false
   },
   "outputs": [
    {
     "data": {
      "text/plain": [
       "                                                                   Type: Void\n"
      ]
     },
     "execution_count": 32,
     "metadata": {},
     "output_type": "execute_result"
    }
   ],
   "source": [
    "f : INT -> FRAC INT"
   ]
  },
  {
   "cell_type": "code",
   "execution_count": 33,
   "metadata": {
    "collapsed": false
   },
   "outputs": [
    {
     "data": {
      "text/plain": [
       "                                                                   Type: Void\n"
      ]
     },
     "execution_count": 33,
     "metadata": {},
     "output_type": "execute_result"
    }
   ],
   "source": [
    "f x == x"
   ]
  },
  {
   "cell_type": "code",
   "execution_count": 34,
   "metadata": {
    "collapsed": false
   },
   "outputs": [
    {
     "name": "stdout",
     "output_type": "stream",
     "text": [
      "   Compiling function f with type Integer -> Fraction(Integer) \n"
     ]
    },
    {
     "data": {
      "text/plain": [
       "   [1,2,- 1]\n",
       "                                                Type: List(Fraction(Integer))\n"
      ]
     },
     "execution_count": 34,
     "metadata": {},
     "output_type": "execute_result"
    }
   ],
   "source": [
    "map(f, l)"
   ]
  },
  {
   "cell_type": "markdown",
   "metadata": {},
   "source": [
    " Function args to interpreter functions\n",
    " Fixed by SCM, verified on 10/30/90\n"
   ]
  },
  {
   "cell_type": "code",
   "execution_count": 35,
   "metadata": {
    "collapsed": false
   },
   "outputs": [
    {
     "name": "stdout",
     "output_type": "stream",
     "text": [
      "   All user variables and function definitions have been cleared.\n"
     ]
    },
    {
     "data": {
      "text/plain": []
     },
     "execution_count": 35,
     "metadata": {},
     "output_type": "execute_result"
    }
   ],
   "source": [
    ")cl all"
   ]
  },
  {
   "cell_type": "code",
   "execution_count": 36,
   "metadata": {
    "collapsed": false
   },
   "outputs": [
    {
     "data": {
      "text/plain": [
       "                                                                   Type: Void\n"
      ]
     },
     "execution_count": 36,
     "metadata": {},
     "output_type": "execute_result"
    }
   ],
   "source": [
    "f: INT -> INT"
   ]
  },
  {
   "cell_type": "code",
   "execution_count": 37,
   "metadata": {
    "collapsed": false
   },
   "outputs": [
    {
     "data": {
      "text/plain": [
       "                                                                   Type: Void\n"
      ]
     },
     "execution_count": 37,
     "metadata": {},
     "output_type": "execute_result"
    }
   ],
   "source": [
    "f x == x+1"
   ]
  },
  {
   "cell_type": "code",
   "execution_count": 38,
   "metadata": {
    "collapsed": false
   },
   "outputs": [
    {
     "data": {
      "text/plain": [
       "                                                                   Type: Void\n"
      ]
     },
     "execution_count": 38,
     "metadata": {},
     "output_type": "execute_result"
    }
   ],
   "source": [
    "u g == g 3"
   ]
  },
  {
   "cell_type": "code",
   "execution_count": 39,
   "metadata": {
    "collapsed": false
   },
   "outputs": [
    {
     "name": "stdout",
     "output_type": "stream",
     "text": [
      "   Compiling function u with type (Integer -> Integer) -> Integer \n",
      "   Compiling function f with type Integer -> Integer \n"
     ]
    },
    {
     "data": {
      "text/plain": [
       "   4\n",
       "                                                        Type: PositiveInteger\n"
      ]
     },
     "execution_count": 39,
     "metadata": {},
     "output_type": "execute_result"
    }
   ],
   "source": [
    "u f"
   ]
  },
  {
   "cell_type": "markdown",
   "metadata": {},
   "source": [
    " category modemap requiring a field to be constructed\n",
    " Fixed by SCM, verified on 10/30/90\n"
   ]
  },
  {
   "cell_type": "code",
   "execution_count": 40,
   "metadata": {
    "collapsed": false
   },
   "outputs": [
    {
     "name": "stdout",
     "output_type": "stream",
     "text": [
      "   All user variables and function definitions have been cleared.\n"
     ]
    },
    {
     "data": {
      "text/plain": []
     },
     "execution_count": 40,
     "metadata": {},
     "output_type": "execute_result"
    }
   ],
   "source": [
    ")clear all"
   ]
  },
  {
   "cell_type": "code",
   "execution_count": 41,
   "metadata": {
    "collapsed": false
   },
   "outputs": [
    {
     "data": {
      "text/plain": [
       "         2  6\n",
       "   [y - x ,x  + 1]\n",
       "                                              Type: List(Polynomial(Integer))\n"
      ]
     },
     "execution_count": 41,
     "metadata": {},
     "output_type": "execute_result"
    }
   ],
   "source": [
    "groebner [x^2 - y, y^3+1]"
   ]
  },
  {
   "cell_type": "markdown",
   "metadata": {},
   "source": [
    " operations requiring polynomials, passed variables\n",
    " Fixed by SCM, verified on 10/30/90\n"
   ]
  },
  {
   "cell_type": "code",
   "execution_count": 42,
   "metadata": {
    "collapsed": false
   },
   "outputs": [
    {
     "name": "stdout",
     "output_type": "stream",
     "text": [
      "   All user variables and function definitions have been cleared.\n"
     ]
    },
    {
     "data": {
      "text/plain": []
     },
     "execution_count": 42,
     "metadata": {},
     "output_type": "execute_result"
    }
   ],
   "source": [
    ")clear all"
   ]
  },
  {
   "cell_type": "code",
   "execution_count": 43,
   "metadata": {
    "collapsed": false
   },
   "outputs": [
    {
     "data": {
      "text/plain": [
       "   x\n",
       "                                          Type: Factored(Polynomial(Integer))\n"
      ]
     },
     "execution_count": 43,
     "metadata": {},
     "output_type": "execute_result"
    }
   ],
   "source": [
    "factor x"
   ]
  },
  {
   "cell_type": "code",
   "execution_count": 44,
   "metadata": {
    "collapsed": false
   },
   "outputs": [
    {
     "name": "stdout",
     "output_type": "stream",
     "text": [
      "   Compiling function %D with type DoubleFloat -> DoubleFloat \n",
      "   Graph data being transmitted to the viewport manager...\n",
      "   FriCAS2D data being transmitted to the viewport manager...\n"
     ]
    },
    {
     "data": {
      "text/plain": [
       "   TwoDimensionalViewport: \"x\"\n",
       "                                                 Type: TwoDimensionalViewport\n"
      ]
     },
     "execution_count": 44,
     "metadata": {},
     "output_type": "execute_result"
    }
   ],
   "source": [
    "draw(x, x=-1..1)"
   ]
  },
  {
   "cell_type": "markdown",
   "metadata": {},
   "source": [
    " bracket parsing and empty-set types\n",
    " Fixed by SCM, verified on 10/30/90\n"
   ]
  },
  {
   "cell_type": "code",
   "execution_count": 45,
   "metadata": {
    "collapsed": false
   },
   "outputs": [
    {
     "name": "stdout",
     "output_type": "stream",
     "text": [
      "   All user variables and function definitions have been cleared.\n"
     ]
    },
    {
     "data": {
      "text/plain": []
     },
     "execution_count": 45,
     "metadata": {},
     "output_type": "execute_result"
    }
   ],
   "source": [
    ")clear all"
   ]
  },
  {
   "cell_type": "code",
   "execution_count": 46,
   "metadata": {
    "collapsed": false
   },
   "outputs": [
    {
     "data": {
      "text/plain": [
       "   {}\n",
       "                                                              Type: Set(None)\n"
      ]
     },
     "execution_count": 46,
     "metadata": {},
     "output_type": "execute_result"
    }
   ],
   "source": [
    "brace []  -- {}"
   ]
  },
  {
   "cell_type": "markdown",
   "metadata": {},
   "source": [
    "{}$(List INT)\n"
   ]
  },
  {
   "cell_type": "code",
   "execution_count": 47,
   "metadata": {
    "collapsed": false
   },
   "outputs": [
    {
     "data": {
      "text/plain": [
       "   {1}\n",
       "                                                   Type: Set(PositiveInteger)\n"
      ]
     },
     "execution_count": 47,
     "metadata": {},
     "output_type": "execute_result"
    }
   ],
   "source": [
    "brace [1] -- {1}"
   ]
  },
  {
   "cell_type": "markdown",
   "metadata": {},
   "source": [
    " The following still doesn't work\n"
   ]
  },
  {
   "cell_type": "code",
   "execution_count": 48,
   "metadata": {
    "collapsed": false
   },
   "outputs": [
    {
     "data": {
      "text/plain": [
       "   {1,2}\n",
       "                                                   Type: Set(PositiveInteger)\n"
      ]
     },
     "execution_count": 48,
     "metadata": {},
     "output_type": "execute_result"
    }
   ],
   "source": [
    "union(brace [], brace [1,2])   -- union({}, {1,2})"
   ]
  },
  {
   "cell_type": "markdown",
   "metadata": {},
   "source": [
    " Shouldn't work, but no longer bombs the interpreter\n",
    " Fixed by SCM, verified on 10/30/90\n"
   ]
  },
  {
   "cell_type": "code",
   "execution_count": 49,
   "metadata": {
    "collapsed": false
   },
   "outputs": [
    {
     "name": "stdout",
     "output_type": "stream",
     "text": [
      "   All user variables and function definitions have been cleared.\n"
     ]
    },
    {
     "data": {
      "text/plain": []
     },
     "execution_count": 49,
     "metadata": {},
     "output_type": "execute_result"
    }
   ],
   "source": [
    ")clear all"
   ]
  },
  {
   "cell_type": "code",
   "execution_count": 50,
   "metadata": {
    "collapsed": false
   },
   "outputs": [
    {
     "data": {
      "text/plain": []
     },
     "execution_count": 50,
     "metadata": {},
     "output_type": "execute_result"
    }
   ],
   "source": [
    ")set mes test off"
   ]
  },
  {
   "cell_type": "code",
   "execution_count": 51,
   "metadata": {
    "collapsed": false
   },
   "outputs": [
    {
     "data": {
      "text/plain": [
       "   [x,y]\n",
       "                       Type: List(Union(OrderedVariableList([x,y]),\"failed\"))\n"
      ]
     },
     "execution_count": 51,
     "metadata": {},
     "output_type": "execute_result"
    }
   ],
   "source": [
    "map(variable, [x,y])"
   ]
  },
  {
   "cell_type": "code",
   "execution_count": 52,
   "metadata": {
    "collapsed": false
   },
   "outputs": [
    {
     "data": {
      "text/plain": []
     },
     "execution_count": 52,
     "metadata": {},
     "output_type": "execute_result"
    }
   ],
   "source": [
    ")set mes test on"
   ]
  },
  {
   "cell_type": "markdown",
   "metadata": {},
   "source": [
    " Recursive map type analysis bug\n",
    " Fixed by SCM, verified on 10/30/90\n"
   ]
  },
  {
   "cell_type": "code",
   "execution_count": 53,
   "metadata": {
    "collapsed": false
   },
   "outputs": [
    {
     "data": {
      "text/plain": []
     },
     "execution_count": 53,
     "metadata": {},
     "output_type": "execute_result"
    }
   ],
   "source": [
    ")set fun recur off"
   ]
  },
  {
   "cell_type": "code",
   "execution_count": 54,
   "metadata": {
    "collapsed": false
   },
   "outputs": [
    {
     "name": "stdout",
     "output_type": "stream",
     "text": [
      "   All user variables and function definitions have been cleared.\n"
     ]
    },
    {
     "data": {
      "text/plain": []
     },
     "execution_count": 54,
     "metadata": {},
     "output_type": "execute_result"
    }
   ],
   "source": [
    ")clear all"
   ]
  },
  {
   "cell_type": "code",
   "execution_count": 55,
   "metadata": {
    "collapsed": false
   },
   "outputs": [
    {
     "data": {
      "text/plain": [
       "                                                                   Type: Void\n"
      ]
     },
     "execution_count": 55,
     "metadata": {},
     "output_type": "execute_result"
    }
   ],
   "source": [
    "p(n,x) == if n=0 then 1 else (x+n-1)*p(n-1,x)"
   ]
  },
  {
   "cell_type": "code",
   "execution_count": 56,
   "metadata": {
    "collapsed": false
   },
   "outputs": [
    {
     "data": {
      "text/plain": [
       "                                                                   Type: Void\n"
      ]
     },
     "execution_count": 56,
     "metadata": {},
     "output_type": "execute_result"
    }
   ],
   "source": [
    "pp(n,x) == if n=0 then 1 else if n<0 then (-1)^n/p(-n,1-x) else p(n,x)"
   ]
  },
  {
   "cell_type": "code",
   "execution_count": 57,
   "metadata": {
    "collapsed": false
   },
   "outputs": [
    {
     "name": "stdout",
     "output_type": "stream",
     "text": [
      "   Compiling function p with type (Integer,Polynomial(Integer)) -> \n",
      "      Polynomial(Integer) \n",
      "   Compiling function p with type (Integer,Variable(x)) -> Polynomial(\n",
      "      Integer) \n",
      "   Compiling function pp with type (Integer,Variable(x)) -> Fraction(\n",
      "      Polynomial(Fraction(Integer))) \n"
     ]
    },
    {
     "data": {
      "text/plain": [
       "     1\n",
       "   -----\n",
       "   x - 1\n",
       "                                Type: Fraction(Polynomial(Fraction(Integer)))\n"
      ]
     },
     "execution_count": 57,
     "metadata": {},
     "output_type": "execute_result"
    }
   ],
   "source": [
    "pp(-1,x) -- should be 1/(x-1)"
   ]
  },
  {
   "cell_type": "markdown",
   "metadata": {},
   "source": [
    " interpret-code mode for iterators is broken\n"
   ]
  },
  {
   "cell_type": "code",
   "execution_count": 58,
   "metadata": {
    "collapsed": false
   },
   "outputs": [
    {
     "name": "stdout",
     "output_type": "stream",
     "text": [
      "   All user variables and function definitions have been cleared.\n"
     ]
    },
    {
     "data": {
      "text/plain": []
     },
     "execution_count": 58,
     "metadata": {},
     "output_type": "execute_result"
    }
   ],
   "source": [
    ")cl all"
   ]
  },
  {
   "cell_type": "code",
   "execution_count": 59,
   "metadata": {
    "collapsed": false
   },
   "outputs": [
    {
     "data": {
      "text/plain": [
       "                                                                   Type: Void\n"
      ]
     },
     "execution_count": 59,
     "metadata": {},
     "output_type": "execute_result"
    }
   ],
   "source": [
    "f n ==\n",
    "  for i in 1..n repeat\n",
    "    j:=2*i\n",
    "    m:SQMATRIX(j,?):=1\n",
    "    print m"
   ]
  },
  {
   "cell_type": "code",
   "execution_count": 60,
   "metadata": {
    "collapsed": false
   },
   "outputs": [
    {
     "data": {
      "text/plain": [
       "                                                                   Type: Void\n"
      ]
     },
     "execution_count": 60,
     "metadata": {},
     "output_type": "execute_result"
    }
   ],
   "source": [
    "g n ==\n",
    "    j:=2*n\n",
    "    m:SQMATRIX(j,?):=1\n",
    "    print m"
   ]
  },
  {
   "cell_type": "code",
   "execution_count": 61,
   "metadata": {
    "collapsed": false
   },
   "outputs": [
    {
     "name": "stdout",
     "output_type": "stream",
     "text": [
      "   Cannot compile the declaration for m because its (possible partial) \n",
      "      type contains a local variable.\n",
      "   FriCAS will attempt to step through and interpret the code.\n"
     ]
    },
    {
     "data": {
      "text/plain": [
       "   +1  0  0  0  0  0+\n",
       "   |                |\n",
       "   |0  1  0  0  0  0|\n",
       "   |                |\n",
       "   |0  0  1  0  0  0|\n",
       "   |                |\n",
       "   |0  0  0  1  0  0|\n",
       "   |                |\n",
       "   |0  0  0  0  1  0|\n",
       "   |                |\n",
       "   +0  0  0  0  0  1+\n",
       "                                                                   Type: Void\n"
      ]
     },
     "execution_count": 61,
     "metadata": {},
     "output_type": "execute_result"
    }
   ],
   "source": [
    "g 3"
   ]
  },
  {
   "cell_type": "code",
   "execution_count": 62,
   "metadata": {
    "collapsed": false
   },
   "outputs": [
    {
     "name": "stdout",
     "output_type": "stream",
     "text": [
      "   Cannot compile the declaration for m because its (possible partial) \n",
      "      type contains a local variable.\n",
      "   FriCAS will attempt to step through and interpret the code.\n"
     ]
    },
    {
     "data": {
      "text/plain": [
       "   +1  0+\n",
       "   |    |\n",
       "   +0  1+\n",
       "   +1  0  0  0+\n",
       "   |          |\n",
       "   |0  1  0  0|\n",
       "   |          |\n",
       "   |0  0  1  0|\n",
       "   |          |\n",
       "   +0  0  0  1+\n",
       "   +1  0  0  0  0  0+\n",
       "   |                |\n",
       "   |0  1  0  0  0  0|\n",
       "   |                |\n",
       "   |0  0  1  0  0  0|\n",
       "   |                |\n",
       "   |0  0  0  1  0  0|\n",
       "   |                |\n",
       "   |0  0  0  0  1  0|\n",
       "   |                |\n",
       "   +0  0  0  0  0  1+\n",
       "                                                                   Type: Void\n"
      ]
     },
     "execution_count": 62,
     "metadata": {},
     "output_type": "execute_result"
    }
   ],
   "source": [
    "f 3"
   ]
  },
  {
   "cell_type": "markdown",
   "metadata": {},
   "source": [
    " Test interpreter list destructuring\n"
   ]
  },
  {
   "cell_type": "code",
   "execution_count": 63,
   "metadata": {
    "collapsed": false
   },
   "outputs": [
    {
     "name": "stdout",
     "output_type": "stream",
     "text": [
      "   All user variables and function definitions have been cleared.\n"
     ]
    },
    {
     "data": {
      "text/plain": []
     },
     "execution_count": 63,
     "metadata": {},
     "output_type": "execute_result"
    }
   ],
   "source": [
    ")clear all"
   ]
  },
  {
   "cell_type": "code",
   "execution_count": 64,
   "metadata": {
    "collapsed": false
   },
   "outputs": [
    {
     "data": {
      "text/plain": [
       "                                                                   Type: Void\n"
      ]
     },
     "execution_count": 64,
     "metadata": {},
     "output_type": "execute_result"
    }
   ],
   "source": [
    "mp(x,l) ==\n",
    "  l is [a,:b] =>\n",
    "    a*x^(#b)+ mp(x,b)\n",
    "  0"
   ]
  },
  {
   "cell_type": "code",
   "execution_count": 65,
   "metadata": {
    "collapsed": false
   },
   "outputs": [
    {
     "name": "stdout",
     "output_type": "stream",
     "text": [
      "   Compiling function mp with type (Variable(x),List(PositiveInteger))\n",
      "       -> Polynomial(Integer) \n"
     ]
    },
    {
     "data": {
      "text/plain": [
       "    3     2\n",
       "   x  + 3x  + 4x + 2\n",
       "                                                    Type: Polynomial(Integer)\n"
      ]
     },
     "execution_count": 65,
     "metadata": {},
     "output_type": "execute_result"
    }
   ],
   "source": [
    "mp(x, [1,3,4, 2])"
   ]
  },
  {
   "cell_type": "code",
   "execution_count": 66,
   "metadata": {
    "collapsed": false
   },
   "outputs": [
    {
     "name": "stdout",
     "output_type": "stream",
     "text": [
      "   Compiling function mp with type (Variable(x),List(Integer)) -> \n",
      "      Polynomial(Integer) \n"
     ]
    },
    {
     "data": {
      "text/plain": [
       "    3     2\n",
       "   x  + 2x  - 3x + 4\n",
       "                                                    Type: Polynomial(Integer)\n"
      ]
     },
     "execution_count": 66,
     "metadata": {},
     "output_type": "execute_result"
    }
   ],
   "source": [
    "mp(x, [1,2,-3, 4])"
   ]
  },
  {
   "cell_type": "markdown",
   "metadata": {},
   "source": [
    " Tests compilation of recursive functions\n"
   ]
  },
  {
   "cell_type": "code",
   "execution_count": 67,
   "metadata": {
    "collapsed": false
   },
   "outputs": [
    {
     "name": "stdout",
     "output_type": "stream",
     "text": [
      "   All user variables and function definitions have been cleared.\n"
     ]
    },
    {
     "data": {
      "text/plain": []
     },
     "execution_count": 67,
     "metadata": {},
     "output_type": "execute_result"
    }
   ],
   "source": [
    ")clear all"
   ]
  },
  {
   "cell_type": "code",
   "execution_count": 68,
   "metadata": {
    "collapsed": false
   },
   "outputs": [
    {
     "data": {
      "text/plain": [
       "                                                                   Type: Void\n"
      ]
     },
     "execution_count": 68,
     "metadata": {},
     "output_type": "execute_result"
    }
   ],
   "source": [
    "f1 n ==\n",
    "  if n=0 then 1 else if n=1 then 1 else f1(n-1)+f1(n-2)"
   ]
  },
  {
   "cell_type": "code",
   "execution_count": 69,
   "metadata": {
    "collapsed": false
   },
   "outputs": [
    {
     "data": {
      "text/plain": [
       "                                                                   Type: Void\n"
      ]
     },
     "execution_count": 69,
     "metadata": {},
     "output_type": "execute_result"
    }
   ],
   "source": [
    "f2 n ==\n",
    "  m:=n\n",
    "  if n=0 then 1 else if n=1 then 1 else f2(n-1)+f2(n-2)"
   ]
  },
  {
   "cell_type": "code",
   "execution_count": 70,
   "metadata": {
    "collapsed": false
   },
   "outputs": [
    {
     "data": {
      "text/plain": [
       "                                                                   Type: Void\n"
      ]
     },
     "execution_count": 70,
     "metadata": {},
     "output_type": "execute_result"
    }
   ],
   "source": [
    "f3 n ==\n",
    "  n=0 => 1\n",
    "  n=1 => 1\n",
    "  f3(n-1)+f3(n-2)"
   ]
  },
  {
   "cell_type": "code",
   "execution_count": 71,
   "metadata": {
    "collapsed": false
   },
   "outputs": [
    {
     "data": {
      "text/plain": [
       "                                                                   Type: Void\n"
      ]
     },
     "execution_count": 71,
     "metadata": {},
     "output_type": "execute_result"
    }
   ],
   "source": [
    "f4 n ==\n",
    "  m:=n\n",
    "  n=0 => 1\n",
    "  n=1 => 1\n",
    "  m:=n\n",
    "  f4(n-1)+f4(n-2)"
   ]
  },
  {
   "cell_type": "code",
   "execution_count": 72,
   "metadata": {
    "collapsed": false
   },
   "outputs": [
    {
     "data": {
      "text/plain": [
       "                                                                   Type: Void\n"
      ]
     },
     "execution_count": 72,
     "metadata": {},
     "output_type": "execute_result"
    }
   ],
   "source": [
    "f5 n == if n=0 or n=1 then 1 else f5(n-1)+f5(n-2)"
   ]
  },
  {
   "cell_type": "code",
   "execution_count": 73,
   "metadata": {
    "collapsed": false
   },
   "outputs": [
    {
     "name": "stdout",
     "output_type": "stream",
     "text": [
      "   Compiling function f1 with type Integer -> PositiveInteger \n",
      "   Compiling function f2 with type Integer -> PositiveInteger \n",
      "   Compiling function f3 with type Integer -> PositiveInteger \n",
      "   Compiling function f4 with type Integer -> PositiveInteger \n",
      "   Compiling function f5 with type Integer -> PositiveInteger \n"
     ]
    },
    {
     "data": {
      "text/plain": [
       "   [3,3,3,3,3]\n",
       "                                                  Type: List(PositiveInteger)\n"
      ]
     },
     "execution_count": 73,
     "metadata": {},
     "output_type": "execute_result"
    }
   ],
   "source": [
    "[f1 3,f2 3, f3 3,f4 3,f5 3]"
   ]
  },
  {
   "cell_type": "markdown",
   "metadata": {},
   "source": [
    " Input of GDMP types\n",
    " Fixed by SCM on 1/22/91\n"
   ]
  },
  {
   "cell_type": "code",
   "execution_count": 74,
   "metadata": {
    "collapsed": false
   },
   "outputs": [
    {
     "name": "stdout",
     "output_type": "stream",
     "text": [
      "   All user variables and function definitions have been cleared.\n"
     ]
    },
    {
     "data": {
      "text/plain": []
     },
     "execution_count": 74,
     "metadata": {},
     "output_type": "execute_result"
    }
   ],
   "source": [
    ")cl all"
   ]
  },
  {
   "cell_type": "code",
   "execution_count": 75,
   "metadata": {
    "collapsed": false
   },
   "outputs": [
    {
     "data": {
      "text/plain": [
       "    2\n",
       "   x  + y\n",
       "Type: GeneralDistributedMultivariatePolynomial([x,y],Integer,DirectProduct(2,NonNegativeInteger))\n"
      ]
     },
     "execution_count": 75,
     "metadata": {},
     "output_type": "execute_result"
    }
   ],
   "source": [
    "g: GDMP([x,y], INT, DIRPROD(2, NNI)) := x^2 + y"
   ]
  },
  {
   "cell_type": "markdown",
   "metadata": {},
   "source": [
    " has test with variables\n",
    " Fixed by SCM on 1/22/91\n"
   ]
  },
  {
   "cell_type": "code",
   "execution_count": 76,
   "metadata": {
    "collapsed": false
   },
   "outputs": [
    {
     "name": "stdout",
     "output_type": "stream",
     "text": [
      "   All user variables and function definitions have been cleared.\n"
     ]
    },
    {
     "data": {
      "text/plain": []
     },
     "execution_count": 76,
     "metadata": {},
     "output_type": "execute_result"
    }
   ],
   "source": [
    ")cl all"
   ]
  },
  {
   "cell_type": "code",
   "execution_count": 77,
   "metadata": {
    "collapsed": false
   },
   "outputs": [
    {
     "data": {
      "text/plain": [
       "   Integer\n",
       "                                                                   Type: Type\n"
      ]
     },
     "execution_count": 77,
     "metadata": {},
     "output_type": "execute_result"
    }
   ],
   "source": [
    "i := INT"
   ]
  },
  {
   "cell_type": "code",
   "execution_count": 78,
   "metadata": {
    "collapsed": false
   },
   "outputs": [
    {
     "data": {
      "text/plain": [
       "   true\n",
       "                                                                Type: Boolean\n"
      ]
     },
     "execution_count": 78,
     "metadata": {},
     "output_type": "execute_result"
    }
   ],
   "source": [
    "i has Algebra(i)"
   ]
  },
  {
   "cell_type": "markdown",
   "metadata": {},
   "source": [
    "  returns in functions\n",
    " Fixed by SCM on 1/22/91\n"
   ]
  },
  {
   "cell_type": "code",
   "execution_count": 79,
   "metadata": {
    "collapsed": false
   },
   "outputs": [
    {
     "name": "stdout",
     "output_type": "stream",
     "text": [
      "   All user variables and function definitions have been cleared.\n"
     ]
    },
    {
     "data": {
      "text/plain": []
     },
     "execution_count": 79,
     "metadata": {},
     "output_type": "execute_result"
    }
   ],
   "source": [
    ")cl all"
   ]
  },
  {
   "cell_type": "code",
   "execution_count": 80,
   "metadata": {
    "collapsed": false
   },
   "outputs": [
    {
     "data": {
      "text/plain": [
       "                                                                   Type: Void\n"
      ]
     },
     "execution_count": 80,
     "metadata": {},
     "output_type": "execute_result"
    }
   ],
   "source": [
    "f x == if x<0 then return x else x+1"
   ]
  },
  {
   "cell_type": "code",
   "execution_count": 81,
   "metadata": {
    "collapsed": false
   },
   "outputs": [
    {
     "name": "stdout",
     "output_type": "stream",
     "text": [
      "   Compiling function f with type PositiveInteger -> PositiveInteger \n"
     ]
    },
    {
     "data": {
      "text/plain": [
       "   3\n",
       "                                                        Type: PositiveInteger\n"
      ]
     },
     "execution_count": 81,
     "metadata": {},
     "output_type": "execute_result"
    }
   ],
   "source": [
    "f 2 -- should be 3"
   ]
  },
  {
   "cell_type": "code",
   "execution_count": 82,
   "metadata": {
    "collapsed": false
   },
   "outputs": [
    {
     "name": "stdout",
     "output_type": "stream",
     "text": [
      "   Compiling function f with type Integer -> Integer \n"
     ]
    },
    {
     "data": {
      "text/plain": [
       "   - 2\n",
       "                                                                Type: Integer\n"
      ]
     },
     "execution_count": 82,
     "metadata": {},
     "output_type": "execute_result"
    }
   ],
   "source": [
    "f(-2) -- should be -2"
   ]
  },
  {
   "cell_type": "markdown",
   "metadata": {},
   "source": [
    " resolveTT not returning Any\n",
    " Fixed by SCM 1/30/91\n"
   ]
  },
  {
   "cell_type": "code",
   "execution_count": 83,
   "metadata": {
    "collapsed": false
   },
   "outputs": [
    {
     "name": "stdout",
     "output_type": "stream",
     "text": [
      "   All user variables and function definitions have been cleared.\n"
     ]
    },
    {
     "data": {
      "text/plain": []
     },
     "execution_count": 83,
     "metadata": {},
     "output_type": "execute_result"
    }
   ],
   "source": [
    ")cl all"
   ]
  },
  {
   "cell_type": "code",
   "execution_count": 84,
   "metadata": {
    "collapsed": false
   },
   "outputs": [
    {
     "data": {
      "text/plain": [
       "      +1  2+\n",
       "   m= |    |\n",
       "      +2  3+\n",
       "                          Type: Equation(Polynomial(SquareMatrix(2,Integer)))\n"
      ]
     },
     "execution_count": 84,
     "metadata": {},
     "output_type": "execute_result"
    }
   ],
   "source": [
    "m = [[1,2],[2,3]]  -- Should return type EQ POLY SQMATRIX(2, INT)"
   ]
  },
  {
   "cell_type": "code",
   "execution_count": 85,
   "metadata": {
    "collapsed": false
   },
   "outputs": [
    {
     "data": {
      "text/plain": [
       "   [1,\"asd\"]\n",
       "                                                              Type: List(Any)\n"
      ]
     },
     "execution_count": 85,
     "metadata": {},
     "output_type": "execute_result"
    }
   ],
   "source": [
    "[1, \"asd\"]   -- Should be of type List Any"
   ]
  },
  {
   "cell_type": "code",
   "execution_count": 86,
   "metadata": {
    "collapsed": false
   },
   "outputs": [
    {
     "data": {
      "text/plain": []
     },
     "execution_count": 86,
     "metadata": {},
     "output_type": "execute_result"
    }
   ],
   "source": [
    ")set mes test off"
   ]
  },
  {
   "cell_type": "code",
   "execution_count": 87,
   "metadata": {
    "collapsed": false
   },
   "outputs": [
    {
     "name": "stderr",
     "output_type": "stream",
     "text": [
      "   There are 11 exposed and 8 unexposed library operations named + \n",
      "      having 2 argument(s) but none was determined to be applicable. \n",
      "      Use HyperDoc Browse, or issue\n",
      "                                )display op +\n",
      "      to learn more about the available operations. Perhaps \n",
      "      package-calling the operation or using coercions on the arguments\n",
      "      will allow you to apply the operation.\n",
      " \n",
      "   Cannot find a definition or applicable library operation named + \n",
      "      with argument type(s) \n",
      "                               PositiveInteger\n",
      "                                   String\n",
      "      \n",
      "      Perhaps you should use \"@\" to indicate the required return type, \n",
      "      or \"$\" to specify which version of the function you need.\n",
      "\n"
     ]
    },
    {
     "data": {
      "text/plain": [
       "error\n"
      ]
     },
     "execution_count": 87,
     "metadata": {},
     "output_type": "execute_result"
    }
   ],
   "source": [
    "1+\"asd\"  -- These should both fail in the same way"
   ]
  },
  {
   "cell_type": "code",
   "execution_count": 88,
   "metadata": {
    "collapsed": false
   },
   "outputs": [
    {
     "name": "stderr",
     "output_type": "stream",
     "text": [
      "   There are 12 exposed and 12 unexposed library operations named / \n",
      "      having 2 argument(s) but none was determined to be applicable. \n",
      "      Use HyperDoc Browse, or issue\n",
      "                                )display op /\n",
      "      to learn more about the available operations. Perhaps \n",
      "      package-calling the operation or using coercions on the arguments\n",
      "      will allow you to apply the operation.\n",
      " \n",
      "   Cannot find a definition or applicable library operation named / \n",
      "      with argument type(s) \n",
      "                               PositiveInteger\n",
      "                                   String\n",
      "      \n",
      "      Perhaps you should use \"@\" to indicate the required return type, \n",
      "      or \"$\" to specify which version of the function you need.\n",
      "\n"
     ]
    },
    {
     "data": {
      "text/plain": [
       "error\n"
      ]
     },
     "execution_count": 88,
     "metadata": {},
     "output_type": "execute_result"
    }
   ],
   "source": [
    "1/\"asd\""
   ]
  },
  {
   "cell_type": "code",
   "execution_count": 89,
   "metadata": {
    "collapsed": false
   },
   "outputs": [
    {
     "data": {
      "text/plain": []
     },
     "execution_count": 89,
     "metadata": {},
     "output_type": "execute_result"
    }
   ],
   "source": [
    ")set mes test on"
   ]
  },
  {
   "cell_type": "markdown",
   "metadata": {},
   "source": [
    " Passing type variables to )show\n"
   ]
  },
  {
   "cell_type": "code",
   "execution_count": 90,
   "metadata": {
    "collapsed": false
   },
   "outputs": [
    {
     "name": "stdout",
     "output_type": "stream",
     "text": [
      "   All user variables and function definitions have been cleared.\n"
     ]
    },
    {
     "data": {
      "text/plain": []
     },
     "execution_count": 90,
     "metadata": {},
     "output_type": "execute_result"
    }
   ],
   "source": [
    ")cl all"
   ]
  },
  {
   "cell_type": "code",
   "execution_count": 91,
   "metadata": {
    "collapsed": false
   },
   "outputs": [
    {
     "data": {
      "text/plain": [
       "   MultivariatePolynomial([x,y],Integer)\n",
       "                                                                   Type: Type\n"
      ]
     },
     "execution_count": 91,
     "metadata": {},
     "output_type": "execute_result"
    }
   ],
   "source": [
    "t := MPOLY([x,y], INT)"
   ]
  },
  {
   "cell_type": "code",
   "execution_count": 92,
   "metadata": {
    "collapsed": false
   },
   "outputs": [
    {
     "name": "stdout",
     "output_type": "stream",
     "text": [
      " MultivariatePolynomial([x,y],Integer) is a domain constructor.\n",
      " Abbreviation for MultivariatePolynomial is MPOLY \n",
      " This constructor is exposed in this frame.\n",
      "------------------------------- Operations --------------------------------\n",
      "\n",
      " ?*? : (Fraction(Integer),%) -> %      ?*? : (Integer,%) -> %\n",
      " ?*? : (PositiveInteger,%) -> %        ?*? : (%,Fraction(Integer)) -> %\n",
      " ?*? : (%,Integer) -> %                ?*? : (%,%) -> %\n",
      " ?+? : (%,%) -> %                      ?-? : (%,%) -> %\n",
      " -? : % -> %                           ?/? : (%,Integer) -> %\n",
      " ?=? : (%,%) -> Boolean                1 : () -> %\n",
      " 0 : () -> %                           ?^? : (%,PositiveInteger) -> %\n",
      " annihilate? : (%,%) -> Boolean        associates? : (%,%) -> Boolean\n",
      " coefficients : % -> List(Integer)     coerce : % -> OutputForm\n",
      " coerce : Fraction(Integer) -> %       coerce : Integer -> %\n",
      " coerce : % -> %                       content : % -> Integer\n",
      " convert : % -> InputForm              convert : % -> Pattern(Float)\n",
      " convert : % -> Pattern(Integer)       eval : (%,Equation(%)) -> %\n",
      " eval : (%,%,%) -> %                   factor : % -> Factored(%)\n",
      " gcd : List(%) -> %                    gcd : (%,%) -> %\n",
      " ground : % -> Integer                 ground? : % -> Boolean\n",
      " hash : % -> SingleInteger             latex : % -> String\n",
      " lcm : List(%) -> %                    lcm : (%,%) -> %\n",
      " leadingCoefficient : % -> Integer     leadingMonomial : % -> %\n",
      " monomial? : % -> Boolean              monomials : % -> List(%)\n",
      " one? : % -> Boolean                   opposite? : (%,%) -> Boolean\n",
      " prime? : % -> Boolean                 primitivePart : % -> %\n",
      " recip : % -> Union(%,\"failed\")        reductum : % -> %\n",
      " retract : % -> Fraction(Integer)      retract : % -> Integer\n",
      " sample : () -> %                      smaller? : (%,%) -> Boolean\n",
      " squareFree : % -> Factored(%)         squareFreePart : % -> %\n",
      " unit? : % -> Boolean                  unitCanonical : % -> %\n",
      " zero? : % -> Boolean                  ?~=? : (%,%) -> Boolean\n",
      " ?*? : (NonNegativeInteger,%) -> %\n",
      " D : (%,List(OrderedVariableList([x,y])),List(NonNegativeInteger)) -> %\n",
      " D : (%,List(OrderedVariableList([x,y]))) -> %\n",
      " D : (%,OrderedVariableList([x,y]),NonNegativeInteger) -> %\n",
      " D : (%,OrderedVariableList([x,y])) -> %\n",
      " ?^? : (%,NonNegativeInteger) -> %\n",
      " binomThmExpt : (%,%,NonNegativeInteger) -> %\n",
      " characteristic : () -> NonNegativeInteger\n",
      " charthRoot : % -> Union(%,\"failed\")\n",
      " coefficient : (%,IndexedExponents(OrderedVariableList([x,y]))) -> Integer\n",
      " coefficient : (%,List(OrderedVariableList([x,y])),List(NonNegativeInteger)) -> %\n",
      " coefficient : (%,OrderedVariableList([x,y]),NonNegativeInteger) -> %\n",
      " coerce : OrderedVariableList([x,y]) -> %\n",
      " conditionP : Matrix(%) -> Union(Vector(%),\"failed\")\n",
      " content : (%,OrderedVariableList([x,y])) -> %\n",
      " degree : % -> IndexedExponents(OrderedVariableList([x,y]))\n",
      " degree : (%,List(OrderedVariableList([x,y]))) -> List(NonNegativeInteger)\n",
      " degree : (%,OrderedVariableList([x,y])) -> NonNegativeInteger\n",
      " differentiate : (%,List(OrderedVariableList([x,y])),List(NonNegativeInteger)) -> %\n",
      " differentiate : (%,List(OrderedVariableList([x,y]))) -> %\n",
      " differentiate : (%,OrderedVariableList([x,y]),NonNegativeInteger) -> %\n",
      " differentiate : (%,OrderedVariableList([x,y])) -> %\n",
      " discriminant : (%,OrderedVariableList([x,y])) -> %\n",
      " eval : (%,List(Equation(%))) -> %\n",
      " eval : (%,List(OrderedVariableList([x,y])),List(Integer)) -> %\n",
      " eval : (%,List(OrderedVariableList([x,y])),List(%)) -> %\n",
      " eval : (%,List(%),List(%)) -> %\n",
      " eval : (%,OrderedVariableList([x,y]),Integer) -> %\n",
      " eval : (%,OrderedVariableList([x,y]),%) -> %\n",
      " exquo : (%,Integer) -> Union(%,\"failed\")\n",
      " exquo : (%,%) -> Union(%,\"failed\")\n",
      " factorPolynomial : SparseUnivariatePolynomial(%) -> Factored(SparseUnivariatePolynomial(%))\n",
      " factorSquareFreePolynomial : SparseUnivariatePolynomial(%) -> Factored(SparseUnivariatePolynomial(%))\n",
      " gcdPolynomial : (SparseUnivariatePolynomial(%),SparseUnivariatePolynomial(%)) -> SparseUnivariatePolynomial(%)\n",
      " hashUpdate! : (HashState,%) -> HashState\n",
      " isExpt : % -> Union(Record(var: OrderedVariableList([x,y]),exponent: NonNegativeInteger),\"failed\")\n",
      " isPlus : % -> Union(List(%),\"failed\")\n",
      " isTimes : % -> Union(List(%),\"failed\")\n",
      " lcmCoef : (%,%) -> Record(llcm_res: %,coeff1: %,coeff2: %)\n",
      " mainVariable : % -> Union(OrderedVariableList([x,y]),\"failed\")\n",
      " map : ((Integer -> Integer),%) -> %\n",
      " mapExponents : ((IndexedExponents(OrderedVariableList([x,y])) -> IndexedExponents(OrderedVariableList([x,y]))),%) -> %\n",
      " minimumDegree : % -> IndexedExponents(OrderedVariableList([x,y]))\n",
      " minimumDegree : (%,List(OrderedVariableList([x,y]))) -> List(NonNegativeInteger)\n",
      " minimumDegree : (%,OrderedVariableList([x,y])) -> NonNegativeInteger\n",
      " monicDivide : (%,%,OrderedVariableList([x,y])) -> Record(quotient: %,remainder: %)\n",
      " monomial : (Integer,IndexedExponents(OrderedVariableList([x,y]))) -> %\n",
      " monomial : (%,List(OrderedVariableList([x,y])),List(NonNegativeInteger)) -> %\n",
      " monomial : (%,OrderedVariableList([x,y]),NonNegativeInteger) -> %\n",
      " multivariate : (SparseUnivariatePolynomial(Integer),OrderedVariableList([x,y])) -> %\n",
      " multivariate : (SparseUnivariatePolynomial(%),OrderedVariableList([x,y])) -> %\n",
      " numberOfMonomials : % -> NonNegativeInteger\n",
      " patternMatch : (%,Pattern(Float),PatternMatchResult(Float,%)) -> PatternMatchResult(Float,%)\n",
      " patternMatch : (%,Pattern(Integer),PatternMatchResult(Integer,%)) -> PatternMatchResult(Integer,%)\n",
      " pomopo! : (%,Integer,IndexedExponents(OrderedVariableList([x,y])),%) -> %\n",
      " primitiveMonomials : % -> List(%)\n",
      " primitivePart : (%,OrderedVariableList([x,y])) -> %\n",
      " reducedSystem : Matrix(%) -> Matrix(Integer)\n",
      " reducedSystem : (Matrix(%),Vector(%)) -> Record(mat: Matrix(Integer),vec: Vector(Integer))\n",
      " resultant : (%,%,OrderedVariableList([x,y])) -> %\n",
      " retract : % -> OrderedVariableList([x,y])\n",
      " retractIfCan : % -> Union(Fraction(Integer),\"failed\")\n",
      " retractIfCan : % -> Union(Integer,\"failed\")\n",
      " retractIfCan : % -> Union(OrderedVariableList([x,y]),\"failed\")\n",
      " solveLinearPolynomialEquation : (List(SparseUnivariatePolynomial(%)),SparseUnivariatePolynomial(%)) -> Union(List(SparseUnivariatePolynomial(%)),\"failed\")\n",
      " squareFreePolynomial : SparseUnivariatePolynomial(%) -> Factored(SparseUnivariatePolynomial(%))\n",
      " subtractIfCan : (%,%) -> Union(%,\"failed\")\n",
      " totalDegree : (%,List(OrderedVariableList([x,y]))) -> NonNegativeInteger\n",
      " totalDegree : % -> NonNegativeInteger\n",
      " totalDegreeSorted : (%,List(OrderedVariableList([x,y]))) -> NonNegativeInteger\n",
      " unitNormal : % -> Record(unit: %,canonical: %,associate: %)\n",
      " univariate : % -> SparseUnivariatePolynomial(Integer)\n",
      " univariate : (%,OrderedVariableList([x,y])) -> SparseUnivariatePolynomial(%)\n",
      " variables : % -> List(OrderedVariableList([x,y]))\n",
      "\n",
      "\n"
     ]
    },
    {
     "data": {
      "text/plain": []
     },
     "execution_count": 92,
     "metadata": {},
     "output_type": "execute_result"
    }
   ],
   "source": [
    ")show t"
   ]
  },
  {
   "cell_type": "markdown",
   "metadata": {},
   "source": [
    " caching nullary functions\n"
   ]
  },
  {
   "cell_type": "code",
   "execution_count": 93,
   "metadata": {
    "collapsed": false
   },
   "outputs": [
    {
     "name": "stdout",
     "output_type": "stream",
     "text": [
      "   In general, interpreter functions will cache all values.\n"
     ]
    },
    {
     "data": {
      "text/plain": []
     },
     "execution_count": 93,
     "metadata": {},
     "output_type": "execute_result"
    }
   ],
   "source": [
    ")set fun cache all"
   ]
  },
  {
   "cell_type": "code",
   "execution_count": 94,
   "metadata": {
    "collapsed": false
   },
   "outputs": [
    {
     "data": {
      "text/plain": [
       "                                                                   Type: Void\n"
      ]
     },
     "execution_count": 94,
     "metadata": {},
     "output_type": "execute_result"
    }
   ],
   "source": [
    "u == 1"
   ]
  },
  {
   "cell_type": "code",
   "execution_count": 95,
   "metadata": {
    "collapsed": false
   },
   "outputs": [
    {
     "name": "stdout",
     "output_type": "stream",
     "text": [
      "   Compiling body of rule u to compute value of type PositiveInteger \n",
      "   u will cache all previously computed values.\n"
     ]
    },
    {
     "data": {
      "text/plain": [
       "   1\n",
       "                                                        Type: PositiveInteger\n"
      ]
     },
     "execution_count": 95,
     "metadata": {},
     "output_type": "execute_result"
    }
   ],
   "source": [
    "u"
   ]
  },
  {
   "cell_type": "code",
   "execution_count": 96,
   "metadata": {
    "collapsed": false
   },
   "outputs": [
    {
     "name": "stdout",
     "output_type": "stream",
     "text": [
      " In general, functions will cache no returned values.\n"
     ]
    },
    {
     "data": {
      "text/plain": []
     },
     "execution_count": 96,
     "metadata": {},
     "output_type": "execute_result"
    }
   ],
   "source": [
    ")set fun cache 0"
   ]
  },
  {
   "cell_type": "markdown",
   "metadata": {},
   "source": [
    " Interpreter Only mode on collects\n",
    " Fixed by SCM on 3/1/91\n"
   ]
  },
  {
   "cell_type": "code",
   "execution_count": 97,
   "metadata": {
    "collapsed": false
   },
   "outputs": [
    {
     "data": {
      "text/plain": [
       "                                                                   Type: Void\n"
      ]
     },
     "execution_count": 97,
     "metadata": {},
     "output_type": "execute_result"
    }
   ],
   "source": [
    "factorp: (UP(x,INT),PositiveInteger,PositiveInteger) -> List(UP(x,INT))"
   ]
  },
  {
   "cell_type": "code",
   "execution_count": 98,
   "metadata": {
    "collapsed": false
   },
   "outputs": [
    {
     "data": {
      "text/plain": [
       "                                                                   Type: Void\n"
      ]
     },
     "execution_count": 98,
     "metadata": {},
     "output_type": "execute_result"
    }
   ],
   "source": [
    "factorp(poly,p,e) ==\n",
    "   ppoly:UP(x,PF p):=poly\n",
    "   pl := [rec.factor for rec in factors factor ppoly]\n",
    "   facl:=pl::List(UP(x,INT))"
   ]
  },
  {
   "cell_type": "code",
   "execution_count": 99,
   "metadata": {
    "collapsed": false
   },
   "outputs": [
    {
     "name": "stdout",
     "output_type": "stream",
     "text": [
      "   Cannot compile the declaration for ppoly because its (possible \n",
      "      partial) type contains a local variable.\n",
      "   FriCAS will attempt to step through and interpret the code.\n",
      "   Compiling function factorp with type (UnivariatePolynomial(x,Integer\n",
      "      ),PositiveInteger,PositiveInteger) -> List(UnivariatePolynomial(x\n",
      "      ,Integer)) \n"
     ]
    },
    {
     "data": {
      "text/plain": [
       "   [x + 2,x + 6]\n",
       "                                  Type: List(UnivariatePolynomial(x,Integer))\n"
      ]
     },
     "execution_count": 99,
     "metadata": {},
     "output_type": "execute_result"
    }
   ],
   "source": [
    "factorp(x^2+x+5,7,1)"
   ]
  },
  {
   "cell_type": "markdown",
   "metadata": {},
   "source": [
    " using \"by\" with segments\n",
    " Fixed by SCM on 2/14/91\n"
   ]
  },
  {
   "cell_type": "code",
   "execution_count": 100,
   "metadata": {
    "collapsed": false
   },
   "outputs": [
    {
     "name": "stdout",
     "output_type": "stream",
     "text": [
      "   All user variables and function definitions have been cleared.\n"
     ]
    },
    {
     "data": {
      "text/plain": []
     },
     "execution_count": 100,
     "metadata": {},
     "output_type": "execute_result"
    }
   ],
   "source": [
    ")cl all"
   ]
  },
  {
   "cell_type": "code",
   "execution_count": 101,
   "metadata": {
    "collapsed": false
   },
   "outputs": [
    {
     "data": {
      "text/plain": [
       "   1..10\n",
       "                                               Type: Segment(PositiveInteger)\n"
      ]
     },
     "execution_count": 101,
     "metadata": {},
     "output_type": "execute_result"
    }
   ],
   "source": [
    "b:= 1..10"
   ]
  },
  {
   "cell_type": "code",
   "execution_count": 102,
   "metadata": {
    "collapsed": false
   },
   "outputs": [
    {
     "data": {
      "text/plain": [
       "   1\n",
       "   3\n",
       "   5\n",
       "   7\n",
       "   9\n",
       "                                                                   Type: Void\n"
      ]
     },
     "execution_count": 102,
     "metadata": {},
     "output_type": "execute_result"
    }
   ],
   "source": [
    "for i in b by 2 repeat output i"
   ]
  },
  {
   "cell_type": "markdown",
   "metadata": {},
   "source": [
    " DMP resolve bug\n",
    " Fixed by SCM 3/7/91\n"
   ]
  },
  {
   "cell_type": "code",
   "execution_count": 103,
   "metadata": {
    "collapsed": false
   },
   "outputs": [
    {
     "name": "stdout",
     "output_type": "stream",
     "text": [
      "   All user variables and function definitions have been cleared.\n"
     ]
    },
    {
     "data": {
      "text/plain": []
     },
     "execution_count": 103,
     "metadata": {},
     "output_type": "execute_result"
    }
   ],
   "source": [
    ")cl all"
   ]
  },
  {
   "cell_type": "code",
   "execution_count": 104,
   "metadata": {
    "collapsed": false
   },
   "outputs": [
    {
     "data": {
      "text/plain": [
       "                                                                   Type: Void\n"
      ]
     },
     "execution_count": 104,
     "metadata": {},
     "output_type": "execute_result"
    }
   ],
   "source": [
    "macro RN == FRAC INT"
   ]
  },
  {
   "cell_type": "code",
   "execution_count": 105,
   "metadata": {
    "collapsed": false
   },
   "outputs": [
    {
     "data": {
      "text/plain": [
       "                                                    Type: Polynomial(Integer)\n"
      ]
     },
     "execution_count": 105,
     "metadata": {},
     "output_type": "execute_result"
    }
   ],
   "source": [
    "a51:=x+y+z+t+u;"
   ]
  },
  {
   "cell_type": "code",
   "execution_count": 106,
   "metadata": {
    "collapsed": false
   },
   "outputs": [
    {
     "data": {
      "text/plain": [
       "                                                    Type: Polynomial(Integer)\n"
      ]
     },
     "execution_count": 106,
     "metadata": {},
     "output_type": "execute_result"
    }
   ],
   "source": [
    "a52:=x*y+y*z+z*t+x*u+t*u;"
   ]
  },
  {
   "cell_type": "code",
   "execution_count": 107,
   "metadata": {
    "collapsed": false
   },
   "outputs": [
    {
     "data": {
      "text/plain": [
       "                                                    Type: Polynomial(Integer)\n"
      ]
     },
     "execution_count": 107,
     "metadata": {},
     "output_type": "execute_result"
    }
   ],
   "source": [
    "a53:=x*y*z+y*z*t+x*y*u+x*t*u+z*t*u;"
   ]
  },
  {
   "cell_type": "code",
   "execution_count": 108,
   "metadata": {
    "collapsed": false
   },
   "outputs": [
    {
     "data": {
      "text/plain": [
       "                                                    Type: Polynomial(Integer)\n"
      ]
     },
     "execution_count": 108,
     "metadata": {},
     "output_type": "execute_result"
    }
   ],
   "source": [
    "a54:=x*y*z*t+x*y*z*u+x*y*t*u+x*z*t*u+y*z*t*u;"
   ]
  },
  {
   "cell_type": "code",
   "execution_count": 109,
   "metadata": {
    "collapsed": false
   },
   "outputs": [
    {
     "data": {
      "text/plain": [
       "                                                    Type: Polynomial(Integer)\n"
      ]
     },
     "execution_count": 109,
     "metadata": {},
     "output_type": "execute_result"
    }
   ],
   "source": [
    "a55:=x*y*z*t*u-1;"
   ]
  },
  {
   "cell_type": "code",
   "execution_count": 110,
   "metadata": {
    "collapsed": false
   },
   "outputs": [
    {
     "data": {
      "text/plain": [
       "Type: List(HomogeneousDistributedMultivariatePolynomial([x,y,z,t,u],Fraction(Integer)))\n"
      ]
     },
     "execution_count": 110,
     "metadata": {},
     "output_type": "execute_result"
    }
   ],
   "source": [
    "arnborg5: List HDMP([x,y,z,t,u],RN):=[a51,a52,a53,a54,a55];"
   ]
  },
  {
   "cell_type": "code",
   "execution_count": 111,
   "metadata": {
    "collapsed": false
   },
   "outputs": [
    {
     "data": {
      "text/plain": [
       " Type: List(DistributedMultivariatePolynomial([x,y,z,t,u],Fraction(Integer)))\n"
      ]
     },
     "execution_count": 111,
     "metadata": {},
     "output_type": "execute_result"
    }
   ],
   "source": [
    "arnborg5l: List DMP([x,y,z,t,u],RN):=[a51,a52,a53,a54,a55];"
   ]
  },
  {
   "cell_type": "markdown",
   "metadata": {},
   "source": [
    " construct in interpret-only mode\n",
    " Fixed by SCM on 3/7/91\n"
   ]
  },
  {
   "cell_type": "code",
   "execution_count": 112,
   "metadata": {
    "collapsed": false
   },
   "outputs": [
    {
     "name": "stdout",
     "output_type": "stream",
     "text": [
      "   All user variables and function definitions have been cleared.\n"
     ]
    },
    {
     "data": {
      "text/plain": []
     },
     "execution_count": 112,
     "metadata": {},
     "output_type": "execute_result"
    }
   ],
   "source": [
    ")cl all"
   ]
  },
  {
   "cell_type": "code",
   "execution_count": 113,
   "metadata": {
    "collapsed": false
   },
   "outputs": [
    {
     "data": {
      "text/plain": [
       "                                                                   Type: Void\n"
      ]
     },
     "execution_count": 113,
     "metadata": {},
     "output_type": "execute_result"
    }
   ],
   "source": [
    "factorp(poly,p,e) ==\n",
    "   [rec.factor for rec in factors factor (poly::UP(x, PF p))]::List UP(x, INT)"
   ]
  },
  {
   "cell_type": "code",
   "execution_count": 114,
   "metadata": {
    "collapsed": false
   },
   "outputs": [
    {
     "name": "stdout",
     "output_type": "stream",
     "text": [
      "   Cannot compile conversion for types involving local variables. In \n",
      "      particular, could not compile the expression involving :: UP(x,PF\n",
      "      (#2)) \n",
      "   FriCAS will attempt to step through and interpret the code.\n"
     ]
    },
    {
     "data": {
      "text/plain": [
       "   [x + 2,x + 6]\n",
       "                                  Type: List(UnivariatePolynomial(x,Integer))\n"
      ]
     },
     "execution_count": 114,
     "metadata": {},
     "output_type": "execute_result"
    }
   ],
   "source": [
    "factorp(x^2+x+5,7,1)"
   ]
  },
  {
   "cell_type": "markdown",
   "metadata": {},
   "source": [
    " return in interpret-only mode\n",
    " fixed by SCM 3/11/91\n"
   ]
  },
  {
   "cell_type": "code",
   "execution_count": 115,
   "metadata": {
    "collapsed": false
   },
   "outputs": [
    {
     "name": "stdout",
     "output_type": "stream",
     "text": [
      "   All user variables and function definitions have been cleared.\n"
     ]
    },
    {
     "data": {
      "text/plain": []
     },
     "execution_count": 115,
     "metadata": {},
     "output_type": "execute_result"
    }
   ],
   "source": [
    ")cl all"
   ]
  },
  {
   "cell_type": "code",
   "execution_count": 116,
   "metadata": {
    "collapsed": false
   },
   "outputs": [
    {
     "data": {
      "text/plain": [
       "                                                                   Type: Void\n"
      ]
     },
     "execution_count": 116,
     "metadata": {},
     "output_type": "execute_result"
    }
   ],
   "source": [
    "f (x) ==\n",
    "  y: PF x := 1\n",
    "  x = 3 => return x\n",
    "  x = 4 => return(-x)\n",
    "  (x+1)"
   ]
  },
  {
   "cell_type": "code",
   "execution_count": 117,
   "metadata": {
    "collapsed": false
   },
   "outputs": [
    {
     "name": "stdout",
     "output_type": "stream",
     "text": [
      "   Cannot compile the declaration for y because its (possible partial) \n",
      "      type contains a local variable.\n",
      "   FriCAS will attempt to step through and interpret the code.\n"
     ]
    },
    {
     "data": {
      "text/plain": [
       "   3\n",
       "                                                        Type: PositiveInteger\n"
      ]
     },
     "execution_count": 117,
     "metadata": {},
     "output_type": "execute_result"
    }
   ],
   "source": [
    "f 3"
   ]
  },
  {
   "cell_type": "markdown",
   "metadata": {},
   "source": [
    " incorrect handling of type of returns\n",
    " fixed by SCM 3/11/91\n"
   ]
  },
  {
   "cell_type": "code",
   "execution_count": 118,
   "metadata": {
    "collapsed": false
   },
   "outputs": [
    {
     "name": "stdout",
     "output_type": "stream",
     "text": [
      "   All user variables and function definitions have been cleared.\n"
     ]
    },
    {
     "data": {
      "text/plain": []
     },
     "execution_count": 118,
     "metadata": {},
     "output_type": "execute_result"
    }
   ],
   "source": [
    ")cl all"
   ]
  },
  {
   "cell_type": "code",
   "execution_count": 119,
   "metadata": {
    "collapsed": false
   },
   "outputs": [
    {
     "data": {
      "text/plain": [
       "                                                                   Type: Void\n"
      ]
     },
     "execution_count": 119,
     "metadata": {},
     "output_type": "execute_result"
    }
   ],
   "source": [
    "f (x) ==\n",
    "  x = 3 => return x\n",
    "  x = 4 => return(-x)\n",
    "  return (x+1)"
   ]
  },
  {
   "cell_type": "code",
   "execution_count": 120,
   "metadata": {
    "collapsed": false
   },
   "outputs": [
    {
     "name": "stdout",
     "output_type": "stream",
     "text": [
      "   Compiling function f with type PositiveInteger -> Integer \n"
     ]
    },
    {
     "data": {
      "text/plain": [
       "   3\n",
       "                                                        Type: PositiveInteger\n"
      ]
     },
     "execution_count": 120,
     "metadata": {},
     "output_type": "execute_result"
    }
   ],
   "source": [
    "f 3"
   ]
  },
  {
   "cell_type": "markdown",
   "metadata": {},
   "source": [
    " SquareMatrix coercion bug\n",
    " Fixed by SCM on 4/3/91\n"
   ]
  },
  {
   "cell_type": "code",
   "execution_count": 121,
   "metadata": {
    "collapsed": false
   },
   "outputs": [
    {
     "name": "stdout",
     "output_type": "stream",
     "text": [
      "   All user variables and function definitions have been cleared.\n"
     ]
    },
    {
     "data": {
      "text/plain": []
     },
     "execution_count": 121,
     "metadata": {},
     "output_type": "execute_result"
    }
   ],
   "source": [
    ")cl all"
   ]
  },
  {
   "cell_type": "code",
   "execution_count": 122,
   "metadata": {
    "collapsed": false
   },
   "outputs": [
    {
     "data": {
      "text/plain": [
       "   +1  2+\n",
       "   |    |\n",
       "   +2  3+\n",
       "                                                Type: SquareMatrix(2,Integer)\n"
      ]
     },
     "execution_count": 122,
     "metadata": {},
     "output_type": "execute_result"
    }
   ],
   "source": [
    "s:SQMATRIX(2, INT) := matrix [[1,2],[2,3]]"
   ]
  },
  {
   "cell_type": "code",
   "execution_count": 123,
   "metadata": {
    "collapsed": false
   },
   "outputs": [
    {
     "data": {
      "text/plain": [
       "   +1  2+\n",
       "   |    |\n",
       "   +2  3+\n",
       "                                      Type: SquareMatrix(2,Fraction(Integer))\n"
      ]
     },
     "execution_count": 123,
     "metadata": {},
     "output_type": "execute_result"
    }
   ],
   "source": [
    "s::SQMATRIX(2, FRAC INT)"
   ]
  },
  {
   "cell_type": "markdown",
   "metadata": {},
   "source": [
    " SquareMatric resolve bug\n"
   ]
  },
  {
   "cell_type": "code",
   "execution_count": 124,
   "metadata": {
    "collapsed": false
   },
   "outputs": [
    {
     "name": "stdout",
     "output_type": "stream",
     "text": [
      "   All user variables and function definitions have been cleared.\n"
     ]
    },
    {
     "data": {
      "text/plain": []
     },
     "execution_count": 124,
     "metadata": {},
     "output_type": "execute_result"
    }
   ],
   "source": [
    ")cl all"
   ]
  },
  {
   "cell_type": "code",
   "execution_count": 125,
   "metadata": {
    "collapsed": false
   },
   "outputs": [
    {
     "data": {
      "text/plain": [
       "   SquareMatrix(2,Polynomial(Integer))\n",
       "                                                                   Type: Type\n"
      ]
     },
     "execution_count": 125,
     "metadata": {},
     "output_type": "execute_result"
    }
   ],
   "source": [
    "Mat := SquareMatrix(2, Polynomial Integer)"
   ]
  },
  {
   "cell_type": "code",
   "execution_count": 126,
   "metadata": {
    "collapsed": false
   },
   "outputs": [
    {
     "data": {
      "text/plain": [
       "   +2x + 1  x+\n",
       "   |         |\n",
       "   +  x     1+\n",
       "                                    Type: SquareMatrix(2,Polynomial(Integer))\n"
      ]
     },
     "execution_count": 126,
     "metadata": {},
     "output_type": "execute_result"
    }
   ],
   "source": [
    "s:Mat := matrix [[ 2*x + 1, x], [x, 1]]"
   ]
  },
  {
   "cell_type": "code",
   "execution_count": 127,
   "metadata": {
    "collapsed": false
   },
   "outputs": [
    {
     "data": {
      "text/plain": [
       "   +   3      2             3     2     +\n",
       "   |12x  + 15x  + 6x + 1  5x  + 6x  + 3x|\n",
       "   |                                    |\n",
       "   |     3     2            3     2     |\n",
       "   +   5x  + 6x  + 3x     2x  + 3x  + 1 +\n",
       "                                    Type: SquareMatrix(2,Polynomial(Integer))\n"
      ]
     },
     "execution_count": 127,
     "metadata": {},
     "output_type": "execute_result"
    }
   ],
   "source": [
    "s^3"
   ]
  },
  {
   "cell_type": "code",
   "execution_count": 128,
   "metadata": {
    "collapsed": false
   },
   "outputs": [
    {
     "data": {
      "text/plain": [
       "   +12  5+ 3   +15  6+ 2   +6  3+    +1  0+\n",
       "   |     |x  + |     |x  + |    |x + |    |\n",
       "   +5   2+     +6   3+     +3  0+    +0  1+\n",
       "                                    Type: Polynomial(SquareMatrix(2,Integer))\n"
      ]
     },
     "execution_count": 128,
     "metadata": {},
     "output_type": "execute_result"
    }
   ],
   "source": [
    "%::Polynomial(?)"
   ]
  },
  {
   "cell_type": "markdown",
   "metadata": {},
   "source": [
    " parsing bug\n",
    " Fixed by BURGE on 4/18/91\n"
   ]
  },
  {
   "cell_type": "code",
   "execution_count": 129,
   "metadata": {
    "collapsed": false
   },
   "outputs": [
    {
     "name": "stdout",
     "output_type": "stream",
     "text": [
      "   All user variables and function definitions have been cleared.\n"
     ]
    },
    {
     "data": {
      "text/plain": []
     },
     "execution_count": 129,
     "metadata": {},
     "output_type": "execute_result"
    }
   ],
   "source": [
    ")cl all"
   ]
  },
  {
   "cell_type": "code",
   "execution_count": 130,
   "metadata": {
    "collapsed": false
   },
   "outputs": [
    {
     "data": {
      "text/plain": [
       "   - 4\n",
       "                                                                Type: Integer\n"
      ]
     },
     "execution_count": 130,
     "metadata": {},
     "output_type": "execute_result"
    }
   ],
   "source": [
    "-2^2  -- Should return -4"
   ]
  },
  {
   "cell_type": "markdown",
   "metadata": {},
   "source": [
    " # in constructor argument list bug\n",
    " Fixed by SCM on 4/9/91\n"
   ]
  },
  {
   "cell_type": "code",
   "execution_count": 131,
   "metadata": {
    "collapsed": false
   },
   "outputs": [
    {
     "name": "stdout",
     "output_type": "stream",
     "text": [
      "   All user variables and function definitions have been cleared.\n"
     ]
    },
    {
     "data": {
      "text/plain": []
     },
     "execution_count": 131,
     "metadata": {},
     "output_type": "execute_result"
    }
   ],
   "source": [
    ")cl all"
   ]
  },
  {
   "cell_type": "code",
   "execution_count": 132,
   "metadata": {
    "collapsed": false
   },
   "outputs": [
    {
     "data": {
      "text/plain": [
       "    2    2\n",
       "   x  - y\n",
       "                       Type: DistributedMultivariatePolynomial([x,y],Integer)\n"
      ]
     },
     "execution_count": 132,
     "metadata": {},
     "output_type": "execute_result"
    }
   ],
   "source": [
    "f: DMP([x,y], INT) := x^2-y^2"
   ]
  },
  {
   "cell_type": "code",
   "execution_count": 133,
   "metadata": {
    "collapsed": false
   },
   "outputs": [
    {
     "data": {
      "text/plain": [
       "   1\n",
       "                                                        Type: PositiveInteger\n"
      ]
     },
     "execution_count": 133,
     "metadata": {},
     "output_type": "execute_result"
    }
   ],
   "source": [
    "coefficient(f, degree f)"
   ]
  },
  {
   "cell_type": "markdown",
   "metadata": {},
   "source": [
    " retract from EXPR to POLY\n",
    " fixed by SCM and SUTOR on 5/1/91\n"
   ]
  },
  {
   "cell_type": "code",
   "execution_count": 134,
   "metadata": {
    "collapsed": false
   },
   "outputs": [
    {
     "name": "stdout",
     "output_type": "stream",
     "text": [
      "   All user variables and function definitions have been cleared.\n"
     ]
    },
    {
     "data": {
      "text/plain": []
     },
     "execution_count": 134,
     "metadata": {},
     "output_type": "execute_result"
    }
   ],
   "source": [
    ")cl all"
   ]
  },
  {
   "cell_type": "code",
   "execution_count": 135,
   "metadata": {
    "collapsed": false
   },
   "outputs": [
    {
     "data": {
      "text/plain": [
       "   x + 1\n",
       "                                                    Type: Expression(Integer)\n"
      ]
     },
     "execution_count": 135,
     "metadata": {},
     "output_type": "execute_result"
    }
   ],
   "source": [
    "x+1::EXPR INT"
   ]
  },
  {
   "cell_type": "code",
   "execution_count": 136,
   "metadata": {
    "collapsed": false
   },
   "outputs": [
    {
     "data": {
      "text/plain": [
       "   x + 1\n",
       "                                                    Type: Polynomial(Integer)\n"
      ]
     },
     "execution_count": 136,
     "metadata": {},
     "output_type": "execute_result"
    }
   ],
   "source": [
    "%::POLY INT"
   ]
  },
  {
   "cell_type": "markdown",
   "metadata": {},
   "source": [
    " fixed by SCM in May\n"
   ]
  },
  {
   "cell_type": "code",
   "execution_count": 137,
   "metadata": {
    "collapsed": false
   },
   "outputs": [
    {
     "name": "stdout",
     "output_type": "stream",
     "text": [
      "   All user variables and function definitions have been cleared.\n"
     ]
    },
    {
     "data": {
      "text/plain": []
     },
     "execution_count": 137,
     "metadata": {},
     "output_type": "execute_result"
    }
   ],
   "source": [
    ")cl all"
   ]
  },
  {
   "cell_type": "code",
   "execution_count": 138,
   "metadata": {
    "collapsed": false
   },
   "outputs": [
    {
     "data": {
      "text/plain": [
       "   [particular= [12,- 7],basis= []]\n",
       "Type: Record(particular: Union(Vector(Fraction(Integer)),\"failed\"),basis: List(Vector(Fraction(Integer))))\n"
      ]
     },
     "execution_count": 138,
     "metadata": {},
     "output_type": "execute_result"
    }
   ],
   "source": [
    "solve([[1,2],[2,3]],[-2,3])"
   ]
  },
  {
   "cell_type": "markdown",
   "metadata": {},
   "source": [
    " fixed by several people over a period of time\n"
   ]
  },
  {
   "cell_type": "code",
   "execution_count": 139,
   "metadata": {
    "collapsed": false
   },
   "outputs": [
    {
     "name": "stdout",
     "output_type": "stream",
     "text": [
      "   All user variables and function definitions have been cleared.\n"
     ]
    },
    {
     "data": {
      "text/plain": []
     },
     "execution_count": 139,
     "metadata": {},
     "output_type": "execute_result"
    }
   ],
   "source": [
    ")cl all"
   ]
  },
  {
   "cell_type": "code",
   "execution_count": 140,
   "metadata": {
    "collapsed": false
   },
   "outputs": [
    {
     "data": {
      "text/plain": [
       "   +5  8 +\n",
       "   |     |\n",
       "   +8  13+\n",
       "                                    Type: Polynomial(SquareMatrix(2,Integer))\n"
      ]
     },
     "execution_count": 140,
     "metadata": {},
     "output_type": "execute_result"
    }
   ],
   "source": [
    "eval(m^2, m=[[1,2],[2,3]])"
   ]
  },
  {
   "cell_type": "markdown",
   "metadata": {},
   "source": [
    " filtering various illegal declarations\n"
   ]
  },
  {
   "cell_type": "code",
   "execution_count": 141,
   "metadata": {
    "collapsed": false
   },
   "outputs": [
    {
     "name": "stdout",
     "output_type": "stream",
     "text": [
      "   All user variables and function definitions have been cleared.\n"
     ]
    },
    {
     "data": {
      "text/plain": []
     },
     "execution_count": 141,
     "metadata": {},
     "output_type": "execute_result"
    }
   ],
   "source": [
    ")cl all"
   ]
  },
  {
   "cell_type": "code",
   "execution_count": 142,
   "metadata": {
    "collapsed": false
   },
   "outputs": [
    {
     "data": {
      "text/plain": []
     },
     "execution_count": 142,
     "metadata": {},
     "output_type": "execute_result"
    }
   ],
   "source": [
    ")set mes test off"
   ]
  },
  {
   "cell_type": "code",
   "execution_count": 143,
   "metadata": {
    "collapsed": false
   },
   "outputs": [
    {
     "name": "stderr",
     "output_type": "stream",
     "text": [
      " \n",
      "   Ring is a category, not a domain, and declarations require domains.\n",
      "\n"
     ]
    },
    {
     "data": {
      "text/plain": [
       "error\n"
      ]
     },
     "execution_count": 143,
     "metadata": {},
     "output_type": "execute_result"
    }
   ],
   "source": [
    "r: Ring"
   ]
  },
  {
   "cell_type": "code",
   "execution_count": 144,
   "metadata": {
    "collapsed": false
   },
   "outputs": [
    {
     "name": "stderr",
     "output_type": "stream",
     "text": [
      " \n",
      "   RationalFunction(Integer) is a package, not a domain, and \n",
      "      declarations require domains.\n",
      "\n"
     ]
    },
    {
     "data": {
      "text/plain": [
       "error\n"
      ]
     },
     "execution_count": 144,
     "metadata": {},
     "output_type": "execute_result"
    }
   ],
   "source": [
    "w: RF INT"
   ]
  },
  {
   "cell_type": "code",
   "execution_count": 145,
   "metadata": {
    "collapsed": false
   },
   "outputs": [
    {
     "data": {
      "text/plain": []
     },
     "execution_count": 145,
     "metadata": {},
     "output_type": "execute_result"
    }
   ],
   "source": [
    ")set mes test on"
   ]
  },
  {
   "cell_type": "markdown",
   "metadata": {},
   "source": [
    " Correct representation of length 1 records\n"
   ]
  },
  {
   "cell_type": "code",
   "execution_count": 146,
   "metadata": {
    "collapsed": false
   },
   "outputs": [
    {
     "name": "stdout",
     "output_type": "stream",
     "text": [
      "   All user variables and function definitions have been cleared.\n"
     ]
    },
    {
     "data": {
      "text/plain": []
     },
     "execution_count": 146,
     "metadata": {},
     "output_type": "execute_result"
    }
   ],
   "source": [
    ")cl all"
   ]
  },
  {
   "cell_type": "code",
   "execution_count": 147,
   "metadata": {
    "collapsed": false
   },
   "outputs": [
    {
     "data": {
      "text/plain": [
       "   [a= 1]\n",
       "                                                     Type: Record(a: Integer)\n"
      ]
     },
     "execution_count": 147,
     "metadata": {},
     "output_type": "execute_result"
    }
   ],
   "source": [
    "r:Record(a: INT) := [1]"
   ]
  },
  {
   "cell_type": "markdown",
   "metadata": {},
   "source": [
    " Fast generation of POLY FLOAT graphics code\n"
   ]
  },
  {
   "cell_type": "code",
   "execution_count": 148,
   "metadata": {
    "collapsed": false
   },
   "outputs": [
    {
     "data": {
      "text/plain": []
     },
     "execution_count": 148,
     "metadata": {},
     "output_type": "execute_result"
    }
   ],
   "source": [
    ")time on"
   ]
  },
  {
   "cell_type": "markdown",
   "metadata": {},
   "source": [
    " p: POLY FLOAT := (x-1)^30\n",
    " for large exponents draw below  is very slow using Closure CL\n"
   ]
  },
  {
   "cell_type": "code",
   "execution_count": 149,
   "metadata": {
    "collapsed": false
   },
   "outputs": [
    {
     "name": "stdout",
     "output_type": "stream",
     "text": [
      "  "
     ]
    },
    {
     "data": {
      "text/plain": [
       "      12         11         10          9          8          7          6\n",
       "     x   - 12.0 x   + 66.0 x   - 220.0 x  + 495.0 x  - 792.0 x  + 924.0 x\n",
       "   + \n",
       "              5          4          3         2\n",
       "     - 792.0 x  + 495.0 x  - 220.0 x  + 66.0 x  - 12.0 x + 1.0\n",
       "Type: Polynomial(Float)\n"
      ]
     },
     "execution_count": 149,
     "metadata": {},
     "output_type": "execute_result"
    }
   ],
   "source": [
    "p: POLY FLOAT := (x-1)^12"
   ]
  },
  {
   "cell_type": "code",
   "execution_count": 150,
   "metadata": {
    "collapsed": false
   },
   "outputs": [
    {
     "name": "stdout",
     "output_type": "stream",
     "text": [
      "   Compiling function %F with type DoubleFloat -> DoubleFloat \n",
      "   Graph data being transmitted to the viewport manager...\n",
      "   FriCAS2D data being transmitted to the viewport manager...\n"
     ]
    },
    {
     "data": {
      "text/plain": [
       "   TwoDimensionalViewport: \"FriCAS2D\"\n",
       "Type: TwoDimensionalViewport\n"
      ]
     },
     "execution_count": 150,
     "metadata": {},
     "output_type": "execute_result"
    }
   ],
   "source": [
    "draw(p, x=-1..1)"
   ]
  },
  {
   "cell_type": "code",
   "execution_count": 151,
   "metadata": {
    "collapsed": false
   },
   "outputs": [
    {
     "name": "stdout",
     "output_type": "stream",
     "text": [
      "----------------------------- The time Option -----------------------------\n",
      "\n",
      " Description: print timings after computation\n",
      "\n",
      " The time option may be followed by any one of the following:\n",
      "\n",
      " -> on \n",
      "    off\n",
      "    long\n",
      "\n",
      " The current setting is indicated within the list.\n",
      "\n"
     ]
    },
    {
     "data": {
      "text/plain": []
     },
     "execution_count": 151,
     "metadata": {},
     "output_type": "execute_result"
    }
   ],
   "source": [
    ")time )off"
   ]
  },
  {
   "cell_type": "markdown",
   "metadata": {},
   "source": [
    " Case broken in interpreter\n",
    " fixed by SCM in early 1991\n"
   ]
  },
  {
   "cell_type": "code",
   "execution_count": 152,
   "metadata": {
    "collapsed": false
   },
   "outputs": [
    {
     "name": "stdout",
     "output_type": "stream",
     "text": [
      "   All user variables and function definitions have been cleared.\n"
     ]
    },
    {
     "data": {
      "text/plain": []
     },
     "execution_count": 152,
     "metadata": {},
     "output_type": "execute_result"
    }
   ],
   "source": [
    ")cl all"
   ]
  },
  {
   "cell_type": "code",
   "execution_count": 153,
   "metadata": {
    "collapsed": false
   },
   "outputs": [
    {
     "data": {
      "text/plain": [
       "Type: Void\n"
      ]
     },
     "execution_count": 153,
     "metadata": {},
     "output_type": "execute_result"
    }
   ],
   "source": [
    "sayBranch x == _\n",
    " if x case INT then output \"Integer Branch\" _\n",
    " else if x case STRING then output \"String Branch\" _\n",
    " else if x case FLOAT then output \"Float Branch\" _\n",
    " else output \"don't know\"\n"
   ]
  },
  {
   "cell_type": "code",
   "execution_count": 154,
   "metadata": {
    "collapsed": false
   },
   "outputs": [
    {
     "data": {
      "text/plain": [
       "Type: Void\n"
      ]
     },
     "execution_count": 154,
     "metadata": {},
     "output_type": "execute_result"
    }
   ],
   "source": [
    "x:Union(INT,STRING,FLOAT)"
   ]
  },
  {
   "cell_type": "code",
   "execution_count": 155,
   "metadata": {
    "collapsed": false
   },
   "outputs": [
    {
     "data": {
      "text/plain": [
       "   3\n",
       "Type: Union(Integer,...)\n"
      ]
     },
     "execution_count": 155,
     "metadata": {},
     "output_type": "execute_result"
    }
   ],
   "source": [
    "x:=3"
   ]
  },
  {
   "cell_type": "code",
   "execution_count": 156,
   "metadata": {
    "collapsed": false
   },
   "outputs": [
    {
     "name": "stderr",
     "output_type": "stream",
     "text": [
      " \n",
      "Daly Bug\n",
      "   case is only used for Unions and the object on the left-hand side \n",
      "      does not belong to a union.\n",
      "\n"
     ]
    },
    {
     "data": {
      "text/plain": [
       "error\n"
      ]
     },
     "execution_count": 156,
     "metadata": {},
     "output_type": "execute_result"
    }
   ],
   "source": [
    "sayBranch(x)"
   ]
  },
  {
   "cell_type": "markdown",
   "metadata": {},
   "source": [
    " bug in evaluateType\n",
    " fixed by SCM in May 1991\n"
   ]
  },
  {
   "cell_type": "code",
   "execution_count": 157,
   "metadata": {
    "collapsed": false
   },
   "outputs": [
    {
     "name": "stdout",
     "output_type": "stream",
     "text": [
      "   All user variables and function definitions have been cleared.\n"
     ]
    },
    {
     "data": {
      "text/plain": []
     },
     "execution_count": 157,
     "metadata": {},
     "output_type": "execute_result"
    }
   ],
   "source": [
    ")cl all"
   ]
  },
  {
   "cell_type": "code",
   "execution_count": 158,
   "metadata": {
    "collapsed": false
   },
   "outputs": [
    {
     "data": {
      "text/plain": [
       "   Fraction(Polynomial(Integer))\n",
       "Type: Type\n"
      ]
     },
     "execution_count": 158,
     "metadata": {},
     "output_type": "execute_result"
    }
   ],
   "source": [
    "RFI := FRAC POLY INT"
   ]
  },
  {
   "cell_type": "code",
   "execution_count": 159,
   "metadata": {
    "collapsed": false
   },
   "outputs": [
    {
     "data": {
      "text/plain": [
       "    2       2\n",
       "   a   2   c   2\n",
       "   -- x  - -- y\n",
       "    2       2\n",
       "   b       d\n",
       "Type: DistributedMultivariatePolynomial([x,y],Fraction(Polynomial(Integer)))\n"
      ]
     },
     "execution_count": 159,
     "metadata": {},
     "output_type": "execute_result"
    }
   ],
   "source": [
    "g:DMP([x,y], RFI) := a^2*x^2/b^2 - c^2*y^2/d^2"
   ]
  },
  {
   "cell_type": "code",
   "execution_count": 160,
   "metadata": {
    "collapsed": false
   },
   "outputs": [
    {
     "data": {
      "text/plain": [
       "    2\n",
       "   a       b c        b c\n",
       "   -- (x - --- y)(x + --- y)\n",
       "    2      a d        a d\n",
       "   b\n",
       "Type: Factored(DistributedMultivariatePolynomial([x,y],Fraction(Polynomial(Integer))))\n"
      ]
     },
     "execution_count": 160,
     "metadata": {},
     "output_type": "execute_result"
    }
   ],
   "source": [
    "factor g"
   ]
  },
  {
   "cell_type": "markdown",
   "metadata": {},
   "source": [
    " bug in resolveTTSpecial\n",
    " Fixed by SCM 6/2/91\n"
   ]
  },
  {
   "cell_type": "code",
   "execution_count": 161,
   "metadata": {
    "collapsed": false
   },
   "outputs": [
    {
     "name": "stdout",
     "output_type": "stream",
     "text": [
      "   All user variables and function definitions have been cleared.\n"
     ]
    },
    {
     "data": {
      "text/plain": []
     },
     "execution_count": 161,
     "metadata": {},
     "output_type": "execute_result"
    }
   ],
   "source": [
    ")cl all"
   ]
  },
  {
   "cell_type": "code",
   "execution_count": 162,
   "metadata": {
    "collapsed": false
   },
   "outputs": [
    {
     "name": "stdout",
     "output_type": "stream",
     "text": [
      "   Function declaration f : (DoubleFloat,DoubleFloat) -> DoubleFloat \n",
      "      has been added to workspace.\n"
     ]
    },
    {
     "data": {
      "text/plain": [
       "Type: Void\n"
      ]
     },
     "execution_count": 162,
     "metadata": {},
     "output_type": "execute_result"
    }
   ],
   "source": [
    "f(u:DoubleFloat, v:DoubleFloat):DoubleFloat == u+v"
   ]
  },
  {
   "cell_type": "code",
   "execution_count": 163,
   "metadata": {
    "collapsed": false
   },
   "outputs": [
    {
     "name": "stdout",
     "output_type": "stream",
     "text": [
      "   Function declaration g : (DoubleFloat,DoubleFloat) -> DoubleFloat \n",
      "      has been added to workspace.\n"
     ]
    },
    {
     "data": {
      "text/plain": [
       "Type: Void\n"
      ]
     },
     "execution_count": 163,
     "metadata": {},
     "output_type": "execute_result"
    }
   ],
   "source": [
    "g(u:DoubleFloat, v:DoubleFloat):DoubleFloat == sin(u+v)"
   ]
  },
  {
   "cell_type": "code",
   "execution_count": 164,
   "metadata": {
    "collapsed": false
   },
   "outputs": [
    {
     "name": "stdout",
     "output_type": "stream",
     "text": [
      "   Function declaration h : (DoubleFloat,DoubleFloat) -> DoubleFloat \n",
      "      has been added to workspace.\n"
     ]
    },
    {
     "data": {
      "text/plain": [
       "Type: Void\n"
      ]
     },
     "execution_count": 164,
     "metadata": {},
     "output_type": "execute_result"
    }
   ],
   "source": [
    "h(u:DoubleFloat, v:DoubleFloat):DoubleFloat == u+cos(v)"
   ]
  },
  {
   "cell_type": "code",
   "execution_count": 165,
   "metadata": {
    "collapsed": false
   },
   "outputs": [
    {
     "name": "stdout",
     "output_type": "stream",
     "text": [
      "   Compiling function f with type (DoubleFloat,DoubleFloat) -> \n",
      "      DoubleFloat \n",
      "   Compiling function g with type (DoubleFloat,DoubleFloat) -> \n",
      "      DoubleFloat \n",
      "   Compiling function h with type (DoubleFloat,DoubleFloat) -> \n",
      "      DoubleFloat \n",
      "   Transmitting data...\n"
     ]
    },
    {
     "data": {
      "text/plain": [
       "   ThreeDimensionalViewport: \"FriCAS3D\"\n",
       "Type: ThreeDimensionalViewport\n"
      ]
     },
     "execution_count": 165,
     "metadata": {},
     "output_type": "execute_result"
    }
   ],
   "source": [
    "draw(surface(f,g,h), 0..4, 0..2*%pi)"
   ]
  },
  {
   "cell_type": "markdown",
   "metadata": {},
   "source": [
    " check for package calling from categories\n",
    " fixed by SCM 6/4/91\n"
   ]
  },
  {
   "cell_type": "code",
   "execution_count": 166,
   "metadata": {
    "collapsed": false
   },
   "outputs": [
    {
     "name": "stdout",
     "output_type": "stream",
     "text": [
      "   All user variables and function definitions have been cleared.\n"
     ]
    },
    {
     "data": {
      "text/plain": []
     },
     "execution_count": 166,
     "metadata": {},
     "output_type": "execute_result"
    }
   ],
   "source": [
    ")cl all"
   ]
  },
  {
   "cell_type": "code",
   "execution_count": 167,
   "metadata": {
    "collapsed": false
   },
   "outputs": [
    {
     "data": {
      "text/plain": []
     },
     "execution_count": 167,
     "metadata": {},
     "output_type": "execute_result"
    }
   ],
   "source": [
    ")set mes test off"
   ]
  },
  {
   "cell_type": "code",
   "execution_count": 168,
   "metadata": {
    "collapsed": false
   },
   "outputs": [
    {
     "name": "stderr",
     "output_type": "stream",
     "text": [
      " \n",
      "   The right-hand side of the $ operator must be a package or domain \n",
      "      name, but Ring is a category.\n",
      "\n"
     ]
    },
    {
     "data": {
      "text/plain": [
       "error\n"
      ]
     },
     "execution_count": 168,
     "metadata": {},
     "output_type": "execute_result"
    }
   ],
   "source": [
    "(1+1)$Ring"
   ]
  },
  {
   "cell_type": "code",
   "execution_count": 169,
   "metadata": {
    "collapsed": false
   },
   "outputs": [
    {
     "data": {
      "text/plain": []
     },
     "execution_count": 169,
     "metadata": {},
     "output_type": "execute_result"
    }
   ],
   "source": [
    ")set mes test on"
   ]
  },
  {
   "cell_type": "markdown",
   "metadata": {},
   "source": [
    " UnivariateSeries coercions\n",
    " Fixed by SCM 6/20/91\n"
   ]
  },
  {
   "cell_type": "code",
   "execution_count": 170,
   "metadata": {
    "collapsed": false
   },
   "outputs": [
    {
     "name": "stdout",
     "output_type": "stream",
     "text": [
      "   All user variables and function definitions have been cleared.\n"
     ]
    },
    {
     "data": {
      "text/plain": []
     },
     "execution_count": 170,
     "metadata": {},
     "output_type": "execute_result"
    }
   ],
   "source": [
    ")cl all"
   ]
  },
  {
   "cell_type": "code",
   "execution_count": 171,
   "metadata": {
    "collapsed": false
   },
   "outputs": [
    {
     "data": {
      "text/plain": [
       "          3        5        7          9            11\n",
       "         a   3    a   5    a    7     a     9      a      11      12\n",
       "   a x - -- x  + --- x  - ---- x  + ------ x  - -------- x   + O(x  )\n",
       "          6      120      5040      362880      39916800\n",
       "Type: UnivariatePuiseuxSeries(Expression(Integer),x,0)\n"
      ]
     },
     "execution_count": 171,
     "metadata": {},
     "output_type": "execute_result"
    }
   ],
   "source": [
    "s := series(sin(a*x), x=0)"
   ]
  },
  {
   "cell_type": "code",
   "execution_count": 172,
   "metadata": {
    "collapsed": false
   },
   "outputs": [
    {
     "name": "stdout",
     "output_type": "stream",
     "text": [
      "  "
     ]
    },
    {
     "data": {
      "text/plain": [
       "        3        5        7          9            11              13\n",
       "       a   3    a   5    a    7     a     9      a      11       a       13\n",
       "     - -- x  + --- x  - ---- x  + ------ x  - -------- x   + ---------- x\n",
       "        6      120      5040      362880      39916800       6227020800\n",
       "   + \n",
       "        14\n",
       "     O(x  )\n",
       "Type: UnivariatePuiseuxSeries(Expression(Integer),x,0)\n"
      ]
     },
     "execution_count": 172,
     "metadata": {},
     "output_type": "execute_result"
    }
   ],
   "source": [
    "s - a*x"
   ]
  },
  {
   "cell_type": "code",
   "execution_count": 173,
   "metadata": {
    "collapsed": false
   },
   "outputs": [
    {
     "data": {
      "text/plain": [
       "      21\n",
       "   O(x  )\n",
       "Type: UnivariatePuiseuxSeries(Expression(Integer),x,0)\n"
      ]
     },
     "execution_count": 173,
     "metadata": {},
     "output_type": "execute_result"
    }
   ],
   "source": [
    "s - sin(a*x)"
   ]
  },
  {
   "cell_type": "markdown",
   "metadata": {},
   "source": [
    " Complex & AlgebraicNumber coercions\n",
    " fixed by SCM 6/91\n"
   ]
  },
  {
   "cell_type": "code",
   "execution_count": 174,
   "metadata": {
    "collapsed": false
   },
   "outputs": [
    {
     "name": "stdout",
     "output_type": "stream",
     "text": [
      "   All user variables and function definitions have been cleared.\n"
     ]
    },
    {
     "data": {
      "text/plain": []
     },
     "execution_count": 174,
     "metadata": {},
     "output_type": "execute_result"
    }
   ],
   "source": [
    ")cl all"
   ]
  },
  {
   "cell_type": "code",
   "execution_count": 175,
   "metadata": {
    "collapsed": false
   },
   "outputs": [
    {
     "data": {
      "text/plain": [
       "   sin(%i)\n",
       "Type: Expression(Complex(Integer))\n"
      ]
     },
     "execution_count": 175,
     "metadata": {},
     "output_type": "execute_result"
    }
   ],
   "source": [
    "sin %i"
   ]
  },
  {
   "cell_type": "code",
   "execution_count": 176,
   "metadata": {
    "collapsed": false
   },
   "outputs": [
    {
     "data": {
      "text/plain": [
       "        +-+\n",
       "   sin(\\|2 )\n",
       "Type: Expression(Integer)\n"
      ]
     },
     "execution_count": 176,
     "metadata": {},
     "output_type": "execute_result"
    }
   ],
   "source": [
    "sin sqrt 2"
   ]
  },
  {
   "cell_type": "code",
   "execution_count": 177,
   "metadata": {
    "collapsed": false
   },
   "outputs": [
    {
     "data": {
      "text/plain": [
       "      +-+\n",
       "   %i\\|2\n",
       "Type: Expression(Complex(Integer))\n"
      ]
     },
     "execution_count": 177,
     "metadata": {},
     "output_type": "execute_result"
    }
   ],
   "source": [
    "%i*sqrt(2)"
   ]
  },
  {
   "cell_type": "code",
   "execution_count": 178,
   "metadata": {
    "collapsed": false
   },
   "outputs": [
    {
     "data": {
      "text/plain": [
       "          +-+\n",
       "   sin(%i\\|2 )\n",
       "Type: Expression(Complex(Integer))\n"
      ]
     },
     "execution_count": 178,
     "metadata": {},
     "output_type": "execute_result"
    }
   ],
   "source": [
    "sin(%i*sqrt 2)"
   ]
  },
  {
   "cell_type": "code",
   "execution_count": 179,
   "metadata": {
    "collapsed": false
   },
   "outputs": [
    {
     "data": {
      "text/plain": [
       "   %i sin(x)\n",
       "Type: Expression(Complex(Integer))\n"
      ]
     },
     "execution_count": 179,
     "metadata": {},
     "output_type": "execute_result"
    }
   ],
   "source": [
    "%i * sin(x)"
   ]
  },
  {
   "cell_type": "code",
   "execution_count": 180,
   "metadata": {
    "collapsed": false
   },
   "outputs": [
    {
     "data": {
      "text/plain": [
       "         +-+\n",
       "       x\\|2\n",
       "   sin(-----)\n",
       "         2\n",
       "Type: Expression(Integer)\n"
      ]
     },
     "execution_count": 180,
     "metadata": {},
     "output_type": "execute_result"
    }
   ],
   "source": [
    "sin(x/sqrt(2))"
   ]
  },
  {
   "cell_type": "markdown",
   "metadata": {},
   "source": [
    " bug in resolve\n",
    " fixed by SCM 8/12/91\n"
   ]
  },
  {
   "cell_type": "code",
   "execution_count": 181,
   "metadata": {
    "collapsed": false
   },
   "outputs": [
    {
     "name": "stdout",
     "output_type": "stream",
     "text": [
      "   All user variables and function definitions have been cleared.\n"
     ]
    },
    {
     "data": {
      "text/plain": []
     },
     "execution_count": 181,
     "metadata": {},
     "output_type": "execute_result"
    }
   ],
   "source": [
    ")cl all"
   ]
  },
  {
   "cell_type": "code",
   "execution_count": 182,
   "metadata": {
    "collapsed": false
   },
   "outputs": [
    {
     "data": {
      "text/plain": []
     },
     "execution_count": 182,
     "metadata": {},
     "output_type": "execute_result"
    }
   ],
   "source": [
    ")set message test off"
   ]
  },
  {
   "cell_type": "code",
   "execution_count": 183,
   "metadata": {
    "collapsed": false
   },
   "outputs": [
    {
     "name": "stderr",
     "output_type": "stream",
     "text": [
      "   There are 1 exposed and 0 unexposed library operations named \n",
      "      primaryDecomp having 1 argument(s) but none was determined to be \n",
      "      applicable. Use HyperDoc Browse, or issue\n",
      "                          )display op primaryDecomp\n",
      "      to learn more about the available operations. Perhaps \n",
      "      package-calling the operation or using coercions on the arguments\n",
      "      will allow you to apply the operation.\n",
      " \n",
      "   Cannot find a definition or applicable library operation named \n",
      "      primaryDecomp with argument type(s) \n",
      "                                Variable(xx)\n",
      "      \n",
      "      Perhaps you should use \"@\" to indicate the required return type, \n",
      "      or \"$\" to specify which version of the function you need.\n",
      "\n"
     ]
    },
    {
     "data": {
      "text/plain": [
       "error\n"
      ]
     },
     "execution_count": 183,
     "metadata": {},
     "output_type": "execute_result"
    }
   ],
   "source": [
    "primaryDecomp xx"
   ]
  },
  {
   "cell_type": "code",
   "execution_count": 184,
   "metadata": {
    "collapsed": false
   },
   "outputs": [
    {
     "data": {
      "text/plain": []
     },
     "execution_count": 184,
     "metadata": {},
     "output_type": "execute_result"
    }
   ],
   "source": [
    ")set message test on"
   ]
  },
  {
   "cell_type": "markdown",
   "metadata": {},
   "source": [
    " functions with ADEFs were broken\n",
    " fixwd by SCM 8/9/91\n"
   ]
  },
  {
   "cell_type": "code",
   "execution_count": 185,
   "metadata": {
    "collapsed": false
   },
   "outputs": [
    {
     "name": "stdout",
     "output_type": "stream",
     "text": [
      "   All user variables and function definitions have been cleared.\n"
     ]
    },
    {
     "data": {
      "text/plain": []
     },
     "execution_count": 185,
     "metadata": {},
     "output_type": "execute_result"
    }
   ],
   "source": [
    ")cl all"
   ]
  },
  {
   "cell_type": "code",
   "execution_count": 186,
   "metadata": {
    "collapsed": false
   },
   "outputs": [
    {
     "data": {
      "text/plain": [
       "Type: Void\n"
      ]
     },
     "execution_count": 186,
     "metadata": {},
     "output_type": "execute_result"
    }
   ],
   "source": [
    "f l ==\n",
    "  reduce((x,y) +-> l.1 + x + y, l)"
   ]
  },
  {
   "cell_type": "code",
   "execution_count": 187,
   "metadata": {
    "collapsed": false
   },
   "outputs": [
    {
     "name": "stdout",
     "output_type": "stream",
     "text": [
      "   Compiling function f with type List(PositiveInteger) -> \n",
      "      PositiveInteger \n"
     ]
    },
    {
     "data": {
      "text/plain": [
       "   85\n",
       "Type: PositiveInteger\n"
      ]
     },
     "execution_count": 187,
     "metadata": {},
     "output_type": "execute_result"
    }
   ],
   "source": [
    "f [10,2,53]"
   ]
  },
  {
   "cell_type": "code",
   "execution_count": 188,
   "metadata": {
    "collapsed": false
   },
   "outputs": [
    {
     "data": {
      "text/plain": [
       "Type: Void\n"
      ]
     },
     "execution_count": 188,
     "metadata": {},
     "output_type": "execute_result"
    }
   ],
   "source": [
    "g l ==\n",
    "  (x:INT):INT +-> l.x"
   ]
  },
  {
   "cell_type": "code",
   "execution_count": 189,
   "metadata": {
    "collapsed": false
   },
   "outputs": [
    {
     "name": "stdout",
     "output_type": "stream",
     "text": [
      "   Compiling function g with type List(PositiveInteger) -> (Integer -> \n",
      "      Integer) \n"
     ]
    },
    {
     "data": {
      "text/plain": [
       "Type: (Integer -> Integer)\n"
      ]
     },
     "execution_count": 189,
     "metadata": {},
     "output_type": "execute_result"
    }
   ],
   "source": [
    "w := g [23,1,341,12] ;"
   ]
  },
  {
   "cell_type": "code",
   "execution_count": 190,
   "metadata": {
    "collapsed": false
   },
   "outputs": [
    {
     "data": {
      "text/plain": [
       "   364\n",
       "Type: PositiveInteger\n"
      ]
     },
     "execution_count": 190,
     "metadata": {},
     "output_type": "execute_result"
    }
   ],
   "source": [
    "w(1) + w(3)"
   ]
  },
  {
   "cell_type": "markdown",
   "metadata": {},
   "source": [
    " w(-1) removed tpd; causes testing to crash\n"
   ]
  },
  {
   "cell_type": "markdown",
   "metadata": {},
   "source": [
    " coerces RN to PF and POLY to EXPR\n",
    " fixed by SCM 8/9/91\n"
   ]
  },
  {
   "cell_type": "code",
   "execution_count": 191,
   "metadata": {
    "collapsed": false
   },
   "outputs": [
    {
     "name": "stdout",
     "output_type": "stream",
     "text": [
      "   All user variables and function definitions have been cleared.\n"
     ]
    },
    {
     "data": {
      "text/plain": []
     },
     "execution_count": 191,
     "metadata": {},
     "output_type": "execute_result"
    }
   ],
   "source": [
    ")cl all"
   ]
  },
  {
   "cell_type": "code",
   "execution_count": 192,
   "metadata": {
    "collapsed": false
   },
   "outputs": [
    {
     "data": {
      "text/plain": [
       "   2\n",
       "   -\n",
       "   3\n",
       "Type: Fraction(Integer)\n"
      ]
     },
     "execution_count": 192,
     "metadata": {},
     "output_type": "execute_result"
    }
   ],
   "source": [
    "a := 2/3"
   ]
  },
  {
   "cell_type": "code",
   "execution_count": 193,
   "metadata": {
    "collapsed": false
   },
   "outputs": [
    {
     "data": {
      "text/plain": []
     },
     "execution_count": 193,
     "metadata": {},
     "output_type": "execute_result"
    }
   ],
   "source": [
    ")set mes test off"
   ]
  },
  {
   "cell_type": "code",
   "execution_count": 194,
   "metadata": {
    "collapsed": false
   },
   "outputs": [
    {
     "name": "stderr",
     "output_type": "stream",
     "text": [
      " \n",
      "   Division by zero on conversion to GaloisField.\n",
      "\n"
     ]
    },
    {
     "data": {
      "text/plain": [
       "error\n"
      ]
     },
     "execution_count": 194,
     "metadata": {},
     "output_type": "execute_result"
    }
   ],
   "source": [
    "a::PF 3"
   ]
  },
  {
   "cell_type": "code",
   "execution_count": 195,
   "metadata": {
    "collapsed": false
   },
   "outputs": [
    {
     "data": {
      "text/plain": []
     },
     "execution_count": 195,
     "metadata": {},
     "output_type": "execute_result"
    }
   ],
   "source": [
    ")set mes test on"
   ]
  },
  {
   "cell_type": "code",
   "execution_count": 196,
   "metadata": {
    "collapsed": false
   },
   "outputs": [
    {
     "data": {
      "text/plain": [
       "   x + 1\n",
       "Type: Polynomial(Integer)\n"
      ]
     },
     "execution_count": 196,
     "metadata": {},
     "output_type": "execute_result"
    }
   ],
   "source": [
    "b := x+1"
   ]
  },
  {
   "cell_type": "code",
   "execution_count": 197,
   "metadata": {
    "collapsed": false
   },
   "outputs": [
    {
     "data": {
      "text/plain": [
       "   x + 1.0\n",
       "Type: Expression(Float)\n"
      ]
     },
     "execution_count": 197,
     "metadata": {},
     "output_type": "execute_result"
    }
   ],
   "source": [
    "b:: EXPR FLOAT"
   ]
  },
  {
   "cell_type": "markdown",
   "metadata": {},
   "source": [
    " minivector use in coercion functions\n"
   ]
  },
  {
   "cell_type": "code",
   "execution_count": 198,
   "metadata": {
    "collapsed": false
   },
   "outputs": [
    {
     "name": "stdout",
     "output_type": "stream",
     "text": [
      "   All user variables and function definitions have been cleared.\n"
     ]
    },
    {
     "data": {
      "text/plain": []
     },
     "execution_count": 198,
     "metadata": {},
     "output_type": "execute_result"
    }
   ],
   "source": [
    ")cl all"
   ]
  },
  {
   "cell_type": "code",
   "execution_count": 199,
   "metadata": {
    "collapsed": false
   },
   "outputs": [
    {
     "name": "stdout",
     "output_type": "stream",
     "text": [
      "   Function declaration symbol : (Symbol,Integer) -> Symbol has been \n",
      "      added to workspace.\n",
      "\n"
     ]
    },
    {
     "data": {
      "text/plain": [
       "Type: Void\n"
      ]
     },
     "execution_count": 199,
     "metadata": {},
     "output_type": "execute_result"
    }
   ],
   "source": [
    "symbol(s:Symbol,i:Integer):Symbol ==\n",
    "  st0:String:= convert(i)\n",
    "  st0:= concat(string(s),st0)\n",
    "  st0::Symbol"
   ]
  },
  {
   "cell_type": "code",
   "execution_count": 200,
   "metadata": {
    "collapsed": false
   },
   "outputs": [
    {
     "data": {
      "text/plain": [
       "Type: Void\n"
      ]
     },
     "execution_count": 200,
     "metadata": {},
     "output_type": "execute_result"
    }
   ],
   "source": [
    "f(a,b) == symbol(a,b)"
   ]
  },
  {
   "cell_type": "code",
   "execution_count": 201,
   "metadata": {
    "collapsed": false
   },
   "outputs": [
    {
     "name": "stdout",
     "output_type": "stream",
     "text": [
      "   Compiling function symbol with type (Symbol,Integer) -> Symbol \n",
      "   Compiling function f with type (Variable(abc),PositiveInteger) -> \n",
      "      Symbol \n"
     ]
    },
    {
     "data": {
      "text/plain": [
       "   abc3\n",
       "Type: Symbol\n"
      ]
     },
     "execution_count": 201,
     "metadata": {},
     "output_type": "execute_result"
    }
   ],
   "source": [
    "f('abc,3)"
   ]
  },
  {
   "cell_type": "markdown",
   "metadata": {},
   "source": [
    " coercing undeclared maps to Mapping types\n",
    " fixed by SCM 9/3/91\n"
   ]
  },
  {
   "cell_type": "code",
   "execution_count": 202,
   "metadata": {
    "collapsed": false
   },
   "outputs": [
    {
     "name": "stdout",
     "output_type": "stream",
     "text": [
      "   All user variables and function definitions have been cleared.\n"
     ]
    },
    {
     "data": {
      "text/plain": []
     },
     "execution_count": 202,
     "metadata": {},
     "output_type": "execute_result"
    }
   ],
   "source": [
    ")cl all"
   ]
  },
  {
   "cell_type": "code",
   "execution_count": 203,
   "metadata": {
    "collapsed": false
   },
   "outputs": [
    {
     "data": {
      "text/plain": [
       "   f\n",
       "Type: BasicOperator\n"
      ]
     },
     "execution_count": 203,
     "metadata": {},
     "output_type": "execute_result"
    }
   ],
   "source": [
    "f := operator 'f"
   ]
  },
  {
   "cell_type": "code",
   "execution_count": 204,
   "metadata": {
    "collapsed": false
   },
   "outputs": [
    {
     "data": {
      "text/plain": [
       "   f(x)\n",
       "Type: Expression(Integer)\n"
      ]
     },
     "execution_count": 204,
     "metadata": {},
     "output_type": "execute_result"
    }
   ],
   "source": [
    "y := f(x)"
   ]
  },
  {
   "cell_type": "code",
   "execution_count": 205,
   "metadata": {
    "collapsed": false
   },
   "outputs": [
    {
     "data": {
      "text/plain": [
       "Type: Void\n"
      ]
     },
     "execution_count": 205,
     "metadata": {},
     "output_type": "execute_result"
    }
   ],
   "source": [
    "foo(u) == sin(u)"
   ]
  },
  {
   "cell_type": "code",
   "execution_count": 206,
   "metadata": {
    "collapsed": false
   },
   "outputs": [
    {
     "name": "stdout",
     "output_type": "stream",
     "text": [
      "   There are 1 exposed and 7 unexposed library operations named sin \n",
      "      having 1 argument(s) but none was determined to be applicable. \n",
      "      Use HyperDoc Browse, or issue\n",
      "                               )display op sin\n",
      "      to learn more about the available operations. Perhaps \n",
      "      package-calling the operation or using coercions on the arguments\n",
      "      will allow you to apply the operation.\n",
      "   Compiling function foo with type Expression(Integer) -> Expression(\n",
      "      Integer) \n"
     ]
    },
    {
     "data": {
      "text/plain": [
       "   sin(x)\n",
       "Type: Expression(Integer)\n"
      ]
     },
     "execution_count": 206,
     "metadata": {},
     "output_type": "execute_result"
    }
   ],
   "source": [
    "eval(y, 'f, foo)"
   ]
  },
  {
   "cell_type": "markdown",
   "metadata": {},
   "source": [
    " package calling constants\n",
    " fixed by SCM 9/3/91\n"
   ]
  },
  {
   "cell_type": "code",
   "execution_count": 207,
   "metadata": {
    "collapsed": false
   },
   "outputs": [
    {
     "name": "stdout",
     "output_type": "stream",
     "text": [
      "   All user variables and function definitions have been cleared.\n"
     ]
    },
    {
     "data": {
      "text/plain": []
     },
     "execution_count": 207,
     "metadata": {},
     "output_type": "execute_result"
    }
   ],
   "source": [
    ")cl all"
   ]
  },
  {
   "cell_type": "code",
   "execution_count": 208,
   "metadata": {
    "collapsed": false
   },
   "outputs": [
    {
     "data": {
      "text/plain": [
       "   0\n",
       "Type: PrimeField(3)\n"
      ]
     },
     "execution_count": 208,
     "metadata": {},
     "output_type": "execute_result"
    }
   ],
   "source": [
    "init()$(PF 3)"
   ]
  },
  {
   "cell_type": "markdown",
   "metadata": {},
   "source": [
    " passing ADEFs to functions which require specific mapping types\n"
   ]
  },
  {
   "cell_type": "code",
   "execution_count": 209,
   "metadata": {
    "collapsed": false
   },
   "outputs": [
    {
     "name": "stdout",
     "output_type": "stream",
     "text": [
      "   Transmitting data...\n"
     ]
    },
    {
     "data": {
      "text/plain": [
       "   ThreeDimensionalViewport: \"FriCAS3D\"\n",
       "Type: ThreeDimensionalViewport\n"
      ]
     },
     "execution_count": 209,
     "metadata": {},
     "output_type": "execute_result"
    }
   ],
   "source": [
    "draw((x,y) +-> x^2 - y^2, -1..1, -1..1)"
   ]
  },
  {
   "cell_type": "markdown",
   "metadata": {},
   "source": [
    " DP bug.  Don't know where this came from, but its fixed\n",
    " DP makes problems:\n"
   ]
  },
  {
   "cell_type": "code",
   "execution_count": 210,
   "metadata": {
    "collapsed": false
   },
   "outputs": [
    {
     "data": {
      "text/plain": [
       "   DistributedMultivariatePolynomial([u1,u2,u3],Fraction(Integer))\n",
       "Type: Type\n"
      ]
     },
     "execution_count": 210,
     "metadata": {},
     "output_type": "execute_result"
    }
   ],
   "source": [
    "dmp := DMP([u1,u2,u3],Fraction INT)"
   ]
  },
  {
   "cell_type": "code",
   "execution_count": 211,
   "metadata": {
    "collapsed": false
   },
   "outputs": [
    {
     "data": {
      "text/plain": [
       "      4\n",
       "   2u1 u2 u3\n",
       "Type: DistributedMultivariatePolynomial([u1,u2,u3],Fraction(Integer))\n"
      ]
     },
     "execution_count": 211,
     "metadata": {},
     "output_type": "execute_result"
    }
   ],
   "source": [
    "p : dmp := 2*u1^4*u2*u3"
   ]
  },
  {
   "cell_type": "code",
   "execution_count": 212,
   "metadata": {
    "collapsed": false
   },
   "outputs": [
    {
     "data": {
      "text/plain": [
       "   [4,1,1]\n",
       "Type: DirectProduct(3,NonNegativeInteger)\n"
      ]
     },
     "execution_count": 212,
     "metadata": {},
     "output_type": "execute_result"
    }
   ],
   "source": [
    "e1 := degree p"
   ]
  },
  {
   "cell_type": "markdown",
   "metadata": {},
   "source": [
    " the following doesn't work\n"
   ]
  },
  {
   "cell_type": "code",
   "execution_count": 213,
   "metadata": {
    "collapsed": false
   },
   "outputs": [
    {
     "data": {
      "text/plain": [
       "   [4,1,1]\n",
       "Type: DirectProduct(3,NonNegativeInteger)\n"
      ]
     },
     "execution_count": 213,
     "metadata": {},
     "output_type": "execute_result"
    }
   ],
   "source": [
    "e2 : DirectProduct(3,NonNegativeInteger) := e1"
   ]
  },
  {
   "cell_type": "code",
   "execution_count": 214,
   "metadata": {
    "collapsed": false
   },
   "outputs": [
    {
     "data": {
      "text/plain": [
       "   [4,1,1]\n",
       "Type: DirectProduct(3,NonNegativeInteger)\n"
      ]
     },
     "execution_count": 214,
     "metadata": {},
     "output_type": "execute_result"
    }
   ],
   "source": [
    "sup(e1,e1)"
   ]
  },
  {
   "cell_type": "markdown",
   "metadata": {},
   "source": [
    " if you give to many infos to the Interpreter it has problems\n"
   ]
  },
  {
   "cell_type": "code",
   "execution_count": 215,
   "metadata": {
    "collapsed": false
   },
   "outputs": [
    {
     "data": {
      "text/plain": [
       "   [4,1,1]\n",
       "Type: DirectProduct(3,NonNegativeInteger)\n"
      ]
     },
     "execution_count": 215,
     "metadata": {},
     "output_type": "execute_result"
    }
   ],
   "source": [
    "sup(e1,e1)$DirectProduct(3,NonNegativeInteger)"
   ]
  },
  {
   "cell_type": "markdown",
   "metadata": {},
   "source": [
    " Some other bug.\n"
   ]
  },
  {
   "cell_type": "code",
   "execution_count": 216,
   "metadata": {
    "collapsed": false
   },
   "outputs": [
    {
     "name": "stdout",
     "output_type": "stream",
     "text": [
      "   All user variables and function definitions have been cleared.\n"
     ]
    },
    {
     "data": {
      "text/plain": []
     },
     "execution_count": 216,
     "metadata": {},
     "output_type": "execute_result"
    }
   ],
   "source": [
    ")clear all"
   ]
  },
  {
   "cell_type": "code",
   "execution_count": 217,
   "metadata": {
    "collapsed": false
   },
   "outputs": [
    {
     "data": {
      "text/plain": [
       "   0\n",
       "Type: NonNegativeInteger\n"
      ]
     },
     "execution_count": 217,
     "metadata": {},
     "output_type": "execute_result"
    }
   ],
   "source": [
    "sum:=0"
   ]
  },
  {
   "cell_type": "code",
   "execution_count": 218,
   "metadata": {
    "collapsed": false
   },
   "outputs": [
    {
     "data": {
      "text/plain": [
       "   +1  2+\n",
       "   |    |\n",
       "   +3  4+\n",
       "Type: Matrix(Integer)\n"
      ]
     },
     "execution_count": 218,
     "metadata": {},
     "output_type": "execute_result"
    }
   ],
   "source": [
    "m:=matrix [[1,2],[3,4]]"
   ]
  },
  {
   "cell_type": "code",
   "execution_count": 219,
   "metadata": {
    "collapsed": false
   },
   "outputs": [
    {
     "data": {
      "text/plain": [
       "   2\n",
       "Type: PositiveInteger\n"
      ]
     },
     "execution_count": 219,
     "metadata": {},
     "output_type": "execute_result"
    }
   ],
   "source": [
    "lastcol:=ncols(m)"
   ]
  },
  {
   "cell_type": "code",
   "execution_count": 220,
   "metadata": {
    "collapsed": false
   },
   "outputs": [
    {
     "data": {
      "text/plain": [
       "Type: Void\n"
      ]
     },
     "execution_count": 220,
     "metadata": {},
     "output_type": "execute_result"
    }
   ],
   "source": [
    "for r in 1..nrows(m) repeat\n",
    " -- interpreter having a value for \"row\" would cause it to hide\n",
    " -- the system function\n",
    " Row:=row(m,r)\n",
    " for c in 1..lastcol repeat\n",
    "  sum:=sum+Row.c"
   ]
  },
  {
   "cell_type": "code",
   "execution_count": 221,
   "metadata": {
    "collapsed": false
   },
   "outputs": [
    {
     "data": {
      "text/plain": [
       "   10\n",
       "Type: PositiveInteger\n"
      ]
     },
     "execution_count": 221,
     "metadata": {},
     "output_type": "execute_result"
    }
   ],
   "source": [
    "sum"
   ]
  },
  {
   "cell_type": "markdown",
   "metadata": {},
   "source": [
    " interpOnly mode left things in an incosistent state if it failed twice\n",
    " fixed by SCM\n"
   ]
  },
  {
   "cell_type": "code",
   "execution_count": 222,
   "metadata": {
    "collapsed": false
   },
   "outputs": [
    {
     "name": "stdout",
     "output_type": "stream",
     "text": [
      "   All user variables and function definitions have been cleared.\n"
     ]
    },
    {
     "data": {
      "text/plain": []
     },
     "execution_count": 222,
     "metadata": {},
     "output_type": "execute_result"
    }
   ],
   "source": [
    ")cl all"
   ]
  },
  {
   "cell_type": "code",
   "execution_count": 223,
   "metadata": {
    "collapsed": false
   },
   "outputs": [
    {
     "data": {
      "text/plain": [
       "Type: Void\n"
      ]
     },
     "execution_count": 223,
     "metadata": {},
     "output_type": "execute_result"
    }
   ],
   "source": [
    "splitPoly(f,var) ==\n",
    "   map(g +-> multivariate(g,var),monomials univariate(f,var))"
   ]
  },
  {
   "cell_type": "code",
   "execution_count": 224,
   "metadata": {
    "collapsed": false
   },
   "outputs": [
    {
     "data": {
      "text/plain": [
       "   sin(x) + cos(x)\n",
       "Type: Expression(Integer)\n"
      ]
     },
     "execution_count": 224,
     "metadata": {},
     "output_type": "execute_result"
    }
   ],
   "source": [
    "g:=sin(x)+cos(x)"
   ]
  },
  {
   "cell_type": "code",
   "execution_count": 225,
   "metadata": {
    "collapsed": false
   },
   "outputs": [
    {
     "data": {
      "text/plain": [
       "   sin(x)\n",
       "Type: Kernel(Expression(Integer))\n"
      ]
     },
     "execution_count": 225,
     "metadata": {},
     "output_type": "execute_result"
    }
   ],
   "source": [
    "k:=kernels(g).1"
   ]
  },
  {
   "cell_type": "code",
   "execution_count": 226,
   "metadata": {
    "collapsed": false
   },
   "outputs": [
    {
     "data": {
      "text/plain": []
     },
     "execution_count": 226,
     "metadata": {},
     "output_type": "execute_result"
    }
   ],
   "source": [
    ")set mes test off"
   ]
  },
  {
   "cell_type": "code",
   "execution_count": 227,
   "metadata": {
    "collapsed": false
   },
   "outputs": [
    {
     "name": "stderr",
     "output_type": "stream",
     "text": [
      "   There are 4 exposed and 1 unexposed library operations named \n",
      "      univariate having 2 argument(s) but none was determined to be \n",
      "      applicable. Use HyperDoc Browse, or issue\n",
      "                           )display op univariate\n",
      "      to learn more about the available operations. Perhaps \n",
      "      package-calling the operation or using coercions on the arguments\n",
      "      will allow you to apply the operation.\n",
      "   Cannot find a definition or applicable library operation named \n",
      "      univariate with argument type(s) \n",
      "                          List(Expression(Integer))\n",
      "                         Kernel(Expression(Integer))\n",
      "      \n",
      "      Perhaps you should use \"@\" to indicate the required return type, \n",
      "      or \"$\" to specify which version of the function you need.\n",
      "   FriCAS will attempt to step through and interpret the code.\n",
      "   There are 4 exposed and 1 unexposed library operations named \n",
      "      univariate having 2 argument(s) but none was determined to be \n",
      "      applicable. Use HyperDoc Browse, or issue\n",
      "                           )display op univariate\n",
      "      to learn more about the available operations. Perhaps \n",
      "      package-calling the operation or using coercions on the arguments\n",
      "      will allow you to apply the operation.\n",
      " \n",
      "   Cannot find a definition or applicable library operation named \n",
      "      univariate with argument type(s) \n",
      "                          List(Expression(Integer))\n",
      "                         Kernel(Expression(Integer))\n",
      "      \n",
      "      Perhaps you should use \"@\" to indicate the required return type, \n",
      "      or \"$\" to specify which version of the function you need.\n",
      "\n"
     ]
    },
    {
     "data": {
      "text/plain": [
       "error\n"
      ]
     },
     "execution_count": 227,
     "metadata": {},
     "output_type": "execute_result"
    }
   ],
   "source": [
    "splitPoly([g],k) -- this is an incorrect call"
   ]
  },
  {
   "cell_type": "code",
   "execution_count": 228,
   "metadata": {
    "collapsed": false
   },
   "outputs": [
    {
     "data": {
      "text/plain": []
     },
     "execution_count": 228,
     "metadata": {},
     "output_type": "execute_result"
    }
   ],
   "source": [
    ")set mes test on"
   ]
  },
  {
   "cell_type": "code",
   "execution_count": 229,
   "metadata": {
    "collapsed": false
   },
   "outputs": [
    {
     "name": "stdout",
     "output_type": "stream",
     "text": [
      "   Compiling function splitPoly with type (SparseMultivariatePolynomial\n",
      "      (Integer,Kernel(Expression(Integer))),Kernel(Expression(Integer))\n",
      "      ) -> List(SparseMultivariatePolynomial(Integer,Kernel(Expression(\n",
      "      Integer)))) \n"
     ]
    },
    {
     "data": {
      "text/plain": [
       "   [sin(x),cos(x)]\n",
       "Type: List(SparseMultivariatePolynomial(Integer,Kernel(Expression(Integer))))\n"
      ]
     },
     "execution_count": 229,
     "metadata": {},
     "output_type": "execute_result"
    }
   ],
   "source": [
    "splitPoly(numer g,k) -- this is a correct call"
   ]
  },
  {
   "cell_type": "markdown",
   "metadata": {},
   "source": [
    " scoping of lambda variables\n",
    " fixed by SCM in March, 1992\n"
   ]
  },
  {
   "cell_type": "code",
   "execution_count": 230,
   "metadata": {
    "collapsed": false
   },
   "outputs": [
    {
     "name": "stdout",
     "output_type": "stream",
     "text": [
      "   All user variables and function definitions have been cleared.\n"
     ]
    },
    {
     "data": {
      "text/plain": []
     },
     "execution_count": 230,
     "metadata": {},
     "output_type": "execute_result"
    }
   ],
   "source": [
    ")cl all"
   ]
  },
  {
   "cell_type": "code",
   "execution_count": 231,
   "metadata": {
    "collapsed": false
   },
   "outputs": [
    {
     "data": {
      "text/plain": [
       "Type: Void\n"
      ]
     },
     "execution_count": 231,
     "metadata": {},
     "output_type": "execute_result"
    }
   ],
   "source": [
    "f x ==\n",
    "  g := (y:DoubleFloat):DoubleFloat +-> y+x\n",
    "  output(y+1)\n",
    "  g(x)"
   ]
  },
  {
   "cell_type": "code",
   "execution_count": 232,
   "metadata": {
    "collapsed": false
   },
   "outputs": [
    {
     "name": "stdout",
     "output_type": "stream",
     "text": [
      "   Compiling function f with type PositiveInteger -> DoubleFloat \n"
     ]
    },
    {
     "data": {
      "text/plain": [
       "   y + 1\n",
       "   6.0\n",
       "Type: DoubleFloat\n"
      ]
     },
     "execution_count": 232,
     "metadata": {},
     "output_type": "execute_result"
    }
   ],
   "source": [
    "f 3"
   ]
  },
  {
   "cell_type": "markdown",
   "metadata": {},
   "source": [
    " coercing undeclared interpreter function to mapping type with\n",
    " target which need to be coerced.\n",
    " fixed by SCM in March, 1992\n"
   ]
  },
  {
   "cell_type": "code",
   "execution_count": 233,
   "metadata": {
    "collapsed": false
   },
   "outputs": [
    {
     "name": "stdout",
     "output_type": "stream",
     "text": [
      "   All user variables and function definitions have been cleared.\n"
     ]
    },
    {
     "data": {
      "text/plain": []
     },
     "execution_count": 233,
     "metadata": {},
     "output_type": "execute_result"
    }
   ],
   "source": [
    ")cl all"
   ]
  },
  {
   "cell_type": "code",
   "execution_count": 234,
   "metadata": {
    "collapsed": false
   },
   "outputs": [
    {
     "data": {
      "text/plain": [
       "Type: Void\n"
      ]
     },
     "execution_count": 234,
     "metadata": {},
     "output_type": "execute_result"
    }
   ],
   "source": [
    "f x == 1/factorial(x)"
   ]
  },
  {
   "cell_type": "code",
   "execution_count": 235,
   "metadata": {
    "collapsed": false
   },
   "outputs": [
    {
     "name": "stdout",
     "output_type": "stream",
     "text": [
      "   Compiling function f with type Integer -> Expression(Integer) \n",
      "  "
     ]
    },
    {
     "data": {
      "text/plain": [
       "             1  2   1  3    1  4    1   5    1   6     1   7     1    8\n",
       "     1 + x + - x  + - x  + -- x  + --- x  + --- x  + ---- x  + ----- x\n",
       "             2      6      24      120      720      5040      40320\n",
       "   + \n",
       "        1    9      1     10      11\n",
       "     ------ x  + ------- x   + O(x  )\n",
       "     362880      3628800\n",
       "Type: UnivariatePuiseuxSeries(Expression(Integer),x,0)\n"
      ]
     },
     "execution_count": 235,
     "metadata": {},
     "output_type": "execute_result"
    }
   ],
   "source": [
    "series(f, x=0)"
   ]
  },
  {
   "cell_type": "markdown",
   "metadata": {},
   "source": [
    " rule dependencies with dependencies on the operator postion\n"
   ]
  },
  {
   "cell_type": "code",
   "execution_count": 236,
   "metadata": {
    "collapsed": false
   },
   "outputs": [
    {
     "name": "stdout",
     "output_type": "stream",
     "text": [
      "   All user variables and function definitions have been cleared.\n"
     ]
    },
    {
     "data": {
      "text/plain": []
     },
     "execution_count": 236,
     "metadata": {},
     "output_type": "execute_result"
    }
   ],
   "source": [
    ")cl all"
   ]
  },
  {
   "cell_type": "code",
   "execution_count": 237,
   "metadata": {
    "collapsed": false
   },
   "outputs": [
    {
     "data": {
      "text/plain": [
       "Type: Void\n"
      ]
     },
     "execution_count": 237,
     "metadata": {},
     "output_type": "execute_result"
    }
   ],
   "source": [
    "node_a == i1+i2+i3-i5+i6=0"
   ]
  },
  {
   "cell_type": "code",
   "execution_count": 238,
   "metadata": {
    "collapsed": false
   },
   "outputs": [
    {
     "data": {
      "text/plain": [
       "Type: Void\n"
      ]
     },
     "execution_count": 238,
     "metadata": {},
     "output_type": "execute_result"
    }
   ],
   "source": [
    "node_b == -i2-i3+i4-i6=0"
   ]
  },
  {
   "cell_type": "code",
   "execution_count": 239,
   "metadata": {
    "collapsed": false
   },
   "outputs": [
    {
     "data": {
      "text/plain": [
       "Type: Void\n"
      ]
     },
     "execution_count": 239,
     "metadata": {},
     "output_type": "execute_result"
    }
   ],
   "source": [
    "i1 == va/r1"
   ]
  },
  {
   "cell_type": "code",
   "execution_count": 240,
   "metadata": {
    "collapsed": false
   },
   "outputs": [
    {
     "data": {
      "text/plain": [
       "Type: Void\n"
      ]
     },
     "execution_count": 240,
     "metadata": {},
     "output_type": "execute_result"
    }
   ],
   "source": [
    "i2 == (va-vb)/r2"
   ]
  },
  {
   "cell_type": "code",
   "execution_count": 241,
   "metadata": {
    "collapsed": false
   },
   "outputs": [
    {
     "data": {
      "text/plain": [
       "Type: Void\n"
      ]
     },
     "execution_count": 241,
     "metadata": {},
     "output_type": "execute_result"
    }
   ],
   "source": [
    "i3 == (va-vb)/r3"
   ]
  },
  {
   "cell_type": "code",
   "execution_count": 242,
   "metadata": {
    "collapsed": false
   },
   "outputs": [
    {
     "data": {
      "text/plain": [
       "Type: Void\n"
      ]
     },
     "execution_count": 242,
     "metadata": {},
     "output_type": "execute_result"
    }
   ],
   "source": [
    "i4 == vb/r4"
   ]
  },
  {
   "cell_type": "code",
   "execution_count": 243,
   "metadata": {
    "collapsed": false
   },
   "outputs": [
    {
     "name": "stdout",
     "output_type": "stream",
     "text": [
      "   Compiling body of rule i1 to compute value of type Fraction(\n",
      "      Polynomial(Integer)) \n",
      "   Compiling body of rule i2 to compute value of type Fraction(\n",
      "      Polynomial(Integer)) \n",
      "   Compiling body of rule i3 to compute value of type Fraction(\n",
      "      Polynomial(Integer)) \n",
      "   Compiling body of rule node_a to compute value of type Equation(\n",
      "      Fraction(Polynomial(Integer))) \n"
     ]
    },
    {
     "data": {
      "text/plain": [
       "   (- r1 r3 - r1 r2)vb + ((r2 + r1)r3 + r1 r2)va + (i6 - i5)r1 r2 r3\n",
       "   -----------------------------------------------------------------= 0\n",
       "                                r1 r2 r3\n",
       "Type: Equation(Fraction(Polynomial(Integer)))\n"
      ]
     },
     "execution_count": 243,
     "metadata": {},
     "output_type": "execute_result"
    }
   ],
   "source": [
    "node_a"
   ]
  },
  {
   "cell_type": "code",
   "execution_count": 244,
   "metadata": {
    "collapsed": false
   },
   "outputs": [
    {
     "name": "stdout",
     "output_type": "stream",
     "text": [
      "   Compiling body of rule i4 to compute value of type Fraction(\n",
      "      Polynomial(Integer)) \n",
      "   Compiling body of rule node_b to compute value of type Equation(\n",
      "      Fraction(Polynomial(Integer))) \n"
     ]
    },
    {
     "data": {
      "text/plain": [
       "   ((r3 + r2)r4 + r2 r3)vb + (- r3 - r2)r4 va - i6 r2 r3 r4\n",
       "   --------------------------------------------------------= 0\n",
       "                           r2 r3 r4\n",
       "Type: Equation(Fraction(Polynomial(Integer)))\n"
      ]
     },
     "execution_count": 244,
     "metadata": {},
     "output_type": "execute_result"
    }
   ],
   "source": [
    "node_b"
   ]
  },
  {
   "cell_type": "code",
   "execution_count": 245,
   "metadata": {
    "collapsed": false
   },
   "outputs": [
    {
     "data": {
      "text/plain": [
       "Type: Void\n"
      ]
     },
     "execution_count": 245,
     "metadata": {},
     "output_type": "execute_result"
    }
   ],
   "source": [
    "ans == solve([node_a,node_b],[va,vb]) -- (*)"
   ]
  },
  {
   "cell_type": "code",
   "execution_count": 246,
   "metadata": {
    "collapsed": false
   },
   "outputs": [
    {
     "data": {
      "text/plain": [
       "Type: Void\n"
      ]
     },
     "execution_count": 246,
     "metadata": {},
     "output_type": "execute_result"
    }
   ],
   "source": [
    "x1 == rhs(ans.1.1)"
   ]
  },
  {
   "cell_type": "code",
   "execution_count": 247,
   "metadata": {
    "collapsed": false
   },
   "outputs": [
    {
     "data": {
      "text/plain": [
       "Type: Void\n"
      ]
     },
     "execution_count": 247,
     "metadata": {},
     "output_type": "execute_result"
    }
   ],
   "source": [
    "x2 == rhs(ans.1.2)"
   ]
  },
  {
   "cell_type": "code",
   "execution_count": 248,
   "metadata": {
    "collapsed": false
   },
   "outputs": [
    {
     "name": "stdout",
     "output_type": "stream",
     "text": [
      "   Compiling body of rule ans to compute value of type List(List(\n",
      "      Equation(Fraction(Polynomial(Integer))))) \n",
      "   Compiling body of rule x1 to compute value of type Fraction(\n",
      "      Polynomial(Integer)) \n"
     ]
    },
    {
     "data": {
      "text/plain": [
       "   (i5 r1 r3 + i5 r1 r2)r4 + (- i6 + i5)r1 r2 r3\n",
       "   ---------------------------------------------\n",
       "         (r3 + r2)r4 + (r2 + r1)r3 + r1 r2\n",
       "Type: Fraction(Polynomial(Integer))\n"
      ]
     },
     "execution_count": 248,
     "metadata": {},
     "output_type": "execute_result"
    }
   ],
   "source": [
    "x1       -- (^)"
   ]
  },
  {
   "cell_type": "code",
   "execution_count": 249,
   "metadata": {
    "collapsed": false
   },
   "outputs": [
    {
     "name": "stdout",
     "output_type": "stream",
     "text": [
      "   Compiled code for i1 has been cleared.\n",
      "   Compiled code for node_a has been cleared.\n",
      "   Compiled code for ans has been cleared.\n",
      "   Compiled code for x1 has been cleared.\n"
     ]
    },
    {
     "data": {
      "text/plain": [
       "Type: Void\n"
      ]
     },
     "execution_count": 249,
     "metadata": {},
     "output_type": "execute_result"
    }
   ],
   "source": [
    "r1 == 2  -- (^*)"
   ]
  },
  {
   "cell_type": "code",
   "execution_count": 250,
   "metadata": {
    "collapsed": false
   },
   "outputs": [
    {
     "name": "stdout",
     "output_type": "stream",
     "text": [
      "   Compiling body of rule r1 to compute value of type PositiveInteger \n",
      "   Compiling body of rule i1 to compute value of type Polynomial(\n",
      "      Fraction(Integer)) \n",
      "   Compiling body of rule node_a to compute value of type Equation(\n",
      "      Fraction(Polynomial(Integer))) \n",
      "   Compiling body of rule ans to compute value of type List(List(\n",
      "      Equation(Fraction(Polynomial(Integer))))) \n",
      "   Compiling body of rule x1 to compute value of type Fraction(\n",
      "      Polynomial(Integer)) \n"
     ]
    },
    {
     "data": {
      "text/plain": [
       "   (2i5 r3 + 2i5 r2)r4 + (- 2i6 + 2i5)r2 r3\n",
       "   ----------------------------------------\n",
       "        (r3 + r2)r4 + (r2 + 2)r3 + 2r2\n",
       "Type: Fraction(Polynomial(Integer))\n"
      ]
     },
     "execution_count": 250,
     "metadata": {},
     "output_type": "execute_result"
    }
   ],
   "source": [
    "x1       -- (^^)"
   ]
  },
  {
   "cell_type": "markdown",
   "metadata": {},
   "source": [
    " look for immediate data in operator position\n",
    " fixed in March 1992 by SCM and RSS\n"
   ]
  },
  {
   "cell_type": "code",
   "execution_count": 251,
   "metadata": {
    "collapsed": false
   },
   "outputs": [
    {
     "data": {
      "text/plain": [
       "   \"asdsdfsdfdfgdfg\"\n",
       "Type: String\n"
      ]
     },
     "execution_count": 251,
     "metadata": {},
     "output_type": "execute_result"
    }
   ],
   "source": [
    "\"asd\" \"sdfsdf\" \"dfgdfg\""
   ]
  },
  {
   "cell_type": "markdown",
   "metadata": {},
   "source": [
    " global variables that change type in a loop.\n",
    " fixed by SCM\n"
   ]
  },
  {
   "cell_type": "code",
   "execution_count": 252,
   "metadata": {
    "collapsed": false
   },
   "outputs": [
    {
     "name": "stdout",
     "output_type": "stream",
     "text": [
      "   All user variables and function definitions have been cleared.\n"
     ]
    },
    {
     "data": {
      "text/plain": []
     },
     "execution_count": 252,
     "metadata": {},
     "output_type": "execute_result"
    }
   ],
   "source": [
    ")clear all"
   ]
  },
  {
   "cell_type": "code",
   "execution_count": 253,
   "metadata": {
    "collapsed": false
   },
   "outputs": [
    {
     "data": {
      "text/plain": [
       "   3.4\n",
       "Type: Float\n"
      ]
     },
     "execution_count": 253,
     "metadata": {},
     "output_type": "execute_result"
    }
   ],
   "source": [
    "s := 3.4"
   ]
  },
  {
   "cell_type": "code",
   "execution_count": 254,
   "metadata": {
    "collapsed": false
   },
   "outputs": [
    {
     "data": {
      "text/plain": [
       "   1\n",
       "   -\n",
       "   2\n",
       "Type: Void\n"
      ]
     },
     "execution_count": 254,
     "metadata": {},
     "output_type": "execute_result"
    }
   ],
   "source": [
    "while s > 1.0 repeat (s := 1/2; print s)"
   ]
  },
  {
   "cell_type": "code",
   "execution_count": 255,
   "metadata": {
    "collapsed": false
   },
   "outputs": [
    {
     "data": {
      "text/plain": [
       "   1\n",
       "   -\n",
       "   2\n",
       "Type: Fraction(Integer)\n"
      ]
     },
     "execution_count": 255,
     "metadata": {},
     "output_type": "execute_result"
    }
   ],
   "source": [
    "s"
   ]
  },
  {
   "cell_type": "code",
   "execution_count": 256,
   "metadata": {
    "collapsed": false
   },
   "outputs": [
    {
     "name": "stdout",
     "output_type": "stream",
     "text": [
      "   All user variables and function definitions have been cleared.\n"
     ]
    },
    {
     "data": {
      "text/plain": []
     },
     "execution_count": 256,
     "metadata": {},
     "output_type": "execute_result"
    }
   ],
   "source": [
    ")cl all"
   ]
  },
  {
   "cell_type": "code",
   "execution_count": 257,
   "metadata": {
    "collapsed": false
   },
   "outputs": [
    {
     "data": {
      "text/plain": [
       "Type: Void\n"
      ]
     },
     "execution_count": 257,
     "metadata": {},
     "output_type": "execute_result"
    }
   ],
   "source": [
    "f x ==\n",
    "  free s\n",
    "  s := x\n",
    "  while s > 1.0 repeat (s := 1/2; print s)\n",
    "  s"
   ]
  },
  {
   "cell_type": "code",
   "execution_count": 258,
   "metadata": {
    "collapsed": false
   },
   "outputs": [
    {
     "name": "stdout",
     "output_type": "stream",
     "text": [
      "   Compiling function f with type Float -> Float \n",
      "   Compiled code for f has been cleared.\n"
     ]
    },
    {
     "data": {
      "text/plain": [
       "   0.5\n",
       "   0.5\n",
       "Type: Float\n"
      ]
     },
     "execution_count": 258,
     "metadata": {},
     "output_type": "execute_result"
    }
   ],
   "source": [
    "f(3.4)"
   ]
  },
  {
   "cell_type": "markdown",
   "metadata": {},
   "source": [
    " returns in sequences\n",
    " fixed by SCM\n"
   ]
  },
  {
   "cell_type": "code",
   "execution_count": 259,
   "metadata": {
    "collapsed": false
   },
   "outputs": [
    {
     "data": {
      "text/plain": [
       "Type: Void\n"
      ]
     },
     "execution_count": 259,
     "metadata": {},
     "output_type": "execute_result"
    }
   ],
   "source": [
    "t x ==\n",
    "  if x = 1 then (1; return [x])\n",
    "  return [2]"
   ]
  },
  {
   "cell_type": "code",
   "execution_count": 260,
   "metadata": {
    "collapsed": false
   },
   "outputs": [
    {
     "name": "stdout",
     "output_type": "stream",
     "text": [
      "   Compiling function t with type PositiveInteger -> List(\n",
      "      PositiveInteger) \n"
     ]
    },
    {
     "data": {
      "text/plain": [
       "   [1]\n",
       "Type: List(PositiveInteger)\n"
      ]
     },
     "execution_count": 260,
     "metadata": {},
     "output_type": "execute_result"
    }
   ],
   "source": [
    "t 1"
   ]
  },
  {
   "cell_type": "code",
   "execution_count": 261,
   "metadata": {
    "collapsed": false
   },
   "outputs": [
    {
     "data": {
      "text/plain": []
     },
     "execution_count": 261,
     "metadata": {},
     "output_type": "execute_result"
    }
   ],
   "source": [
    "--\n",
    "-- EOF\n",
    "--"
   ]
  }
 ],
 "metadata": {
  "kernelspec": {
   "display_name": "FriCAS",
   "language": "spad",
   "name": "ifricas"
  },
  "language_info": {
   "codemirror_mode": "spad",
   "mimetype": "text/x-spad",
   "name": "SPAD",
   "pygments_lexer": "spad",
   "version": "1.2.6"
  },
  "name": "test.ipynb"
 },
 "nbformat": 4,
 "nbformat_minor": 0
}