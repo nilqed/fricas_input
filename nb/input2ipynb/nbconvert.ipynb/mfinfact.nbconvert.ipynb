{
 "cells": [
  {
   "cell_type": "markdown",
   "metadata": {},
   "source": [
    "Copyright The Numerical Algorithms Group Limited 1994.\n"
   ]
  },
  {
   "cell_type": "code",
   "execution_count": 0,
   "metadata": {
    "collapsed": false
   },
   "outputs": [
    {
     "name": "stdout",
     "output_type": "stream",
     "text": [
      "   All user variables and function definitions have been cleared.\n"
     ]
    },
    {
     "data": {
      "text/plain": []
     },
     "execution_count": 0,
     "metadata": {},
     "output_type": "execute_result"
    }
   ],
   "source": [
    ")clear all"
   ]
  },
  {
   "cell_type": "code",
   "execution_count": 1,
   "metadata": {
    "collapsed": false
   },
   "outputs": [
    {
     "name": "stdout",
     "output_type": "stream",
     "text": [
      "Warning: HyperTeX macro table not found\n"
     ]
    },
    {
     "data": {
      "text/plain": [
       "    49         49         49\n",
       "   z   + 6z + y   + 6y + x   + 6x\n",
       "                                              Type: Polynomial(PrimeField(7))\n"
      ]
     },
     "execution_count": 1,
     "metadata": {},
     "output_type": "execute_result"
    }
   ],
   "source": [
    "p:POLY PF 7 :=6*x +6*y +6*z +x^49+y^49+z^49"
   ]
  },
  {
   "cell_type": "code",
   "execution_count": 2,
   "metadata": {
    "collapsed": false
   },
   "outputs": [
    {
     "name": "stdout",
     "output_type": "stream",
     "text": [
      "                                          "
     ]
    },
    {
     "data": {
      "text/plain": [
       "       2                     2                2\n",
       "     (z  + (2y + 2x + 1)z + y  + (2x + 1)y + x  + x + 3)\n",
       "  *\n",
       "       2                     2                2\n",
       "     (z  + (2y + 2x + 1)z + y  + (2x + 1)y + x  + x + 4)\n",
       "  *\n",
       "       2                     2                2\n",
       "     (z  + (2y + 2x + 1)z + y  + (2x + 1)y + x  + x + 6)\n",
       "  *\n",
       "       2                     2                2\n",
       "     (z  + (2y + 2x + 2)z + y  + (2x + 2)y + x  + 2x + 2)\n",
       "  *\n",
       "       2                     2                2\n",
       "     (z  + (2y + 2x + 2)z + y  + (2x + 2)y + x  + 2x + 3)\n",
       "  *\n",
       "       2                     2                2\n",
       "     (z  + (2y + 2x + 2)z + y  + (2x + 2)y + x  + 2x + 5)\n",
       "  *\n",
       "       2                     2                2\n",
       "     (z  + (2y + 2x + 3)z + y  + (2x + 3)y + x  + 3x + 1)\n",
       "  *\n",
       "       2                     2                2\n",
       "     (z  + (2y + 2x + 3)z + y  + (2x + 3)y + x  + 3x + 5)\n",
       "  *\n",
       "       2                     2                2\n",
       "     (z  + (2y + 2x + 3)z + y  + (2x + 3)y + x  + 3x + 6)\n",
       "  *\n",
       "       2                     2                2\n",
       "     (z  + (2y + 2x + 4)z + y  + (2x + 4)y + x  + 4x + 1)\n",
       "  *\n",
       "       2                     2                2\n",
       "     (z  + (2y + 2x + 4)z + y  + (2x + 4)y + x  + 4x + 5)\n",
       "  *\n",
       "       2                     2                2\n",
       "     (z  + (2y + 2x + 4)z + y  + (2x + 4)y + x  + 4x + 6)\n",
       "  *\n",
       "       2                     2                2\n",
       "     (z  + (2y + 2x + 5)z + y  + (2x + 5)y + x  + 5x + 2)\n",
       "  *\n",
       "       2                     2                2\n",
       "     (z  + (2y + 2x + 5)z + y  + (2x + 5)y + x  + 5x + 3)\n",
       "  *\n",
       "       2                     2                2\n",
       "     (z  + (2y + 2x + 5)z + y  + (2x + 5)y + x  + 5x + 5)\n",
       "  *\n",
       "       2                     2                2\n",
       "     (z  + (2y + 2x + 6)z + y  + (2x + 6)y + x  + 6x + 3)\n",
       "  *\n",
       "       2                     2                2\n",
       "     (z  + (2y + 2x + 6)z + y  + (2x + 6)y + x  + 6x + 4)\n",
       "  *\n",
       "       2                     2                2\n",
       "     (z  + (2y + 2x + 6)z + y  + (2x + 6)y + x  + 6x + 6)\n",
       "  *\n",
       "       2                 2           2\n",
       "     (z  + (2y + 2x)z + y  + 2x y + x  + 1)\n",
       "  *\n",
       "       2                 2           2\n",
       "     (z  + (2y + 2x)z + y  + 2x y + x  + 2)\n",
       "  *\n",
       "       2                 2           2\n",
       "     (z  + (2y + 2x)z + y  + 2x y + x  + 4)(z + y + x + 1)(z + y + x + 2)\n",
       "  *\n",
       "     (z + y + x + 3)(z + y + x + 4)(z + y + x + 5)(z + y + x + 6)(z + y + x)\n",
       "                                    Type: Factored(Polynomial(PrimeField(7)))\n"
      ]
     },
     "execution_count": 2,
     "metadata": {},
     "output_type": "execute_result"
    }
   ],
   "source": [
    "factor p"
   ]
  },
  {
   "cell_type": "code",
   "execution_count": 3,
   "metadata": {
    "collapsed": false
   },
   "outputs": [
    {
     "name": "stdout",
     "output_type": "stream",
     "text": [
      "  "
     ]
    },
    {
     "data": {
      "text/plain": [
       "         2       2    3      4          3             2     3  2\n",
       "     (x y  + (w x  + w )y + w x)z + 3x y  + ((3w + 1)x  + 3w )y\n",
       "   + \n",
       "         3      4    3        4 2\n",
       "     (w x  + (3w  + w )x)y + w x\n",
       "                                              Type: Polynomial(PrimeField(7))\n"
      ]
     },
     "execution_count": 3,
     "metadata": {},
     "output_type": "execute_result"
    }
   ],
   "source": [
    "p:POLY PF 7:=(x+3*y+z)*(w*x+y)*(x*y+w^3)"
   ]
  },
  {
   "cell_type": "code",
   "execution_count": 4,
   "metadata": {
    "collapsed": false
   },
   "outputs": [
    {
     "data": {
      "text/plain": [
       "                       3\n",
       "   (z + 3y + x)(x y + w )(y + w x)\n",
       "                                    Type: Factored(Polynomial(PrimeField(7)))\n"
      ]
     },
     "execution_count": 4,
     "metadata": {},
     "output_type": "execute_result"
    }
   ],
   "source": [
    "factor p"
   ]
  },
  {
   "cell_type": "code",
   "execution_count": 5,
   "metadata": {
    "collapsed": false
   },
   "outputs": [
    {
     "name": "stdout",
     "output_type": "stream",
     "text": [
      "                                      "
     ]
    },
    {
     "data": {
      "text/plain": [
       "            2 4        3     3   3     2 4     4 2    6  2      5 3     7\n",
       "           x y  + (2w x  + 2w x)y  + (w x  + 4w x  + w )y  + (2w x  + 2w x)y\n",
       "         + \n",
       "            8 2\n",
       "           w x\n",
       "    *\n",
       "        2\n",
       "       z\n",
       "   + \n",
       "           2 5             3     3   4       2       4      4     3  2     6  3\n",
       "         6x y  + ((5w + 2)x  + 5w x)y  + ((6w  + 4w)x  + (3w  + 4w )x  + 6w )y\n",
       "       + \n",
       "            2 5      5    4  3      7     6    2      5 4      8     7  2\n",
       "         (2w x  + (5w  + w )x  + (5w  + 2w )x)y  + (4w x  + (6w  + 4w )x )y\n",
       "       + \n",
       "           8 3\n",
       "         2w x\n",
       "    *\n",
       "       z\n",
       "   + \n",
       "       2 6             3     3   5       2           4     4     3  2     6  4\n",
       "     2x y  + ((4w + 6)x  + 4w x)y  + ((2w  + 5w + 1)x  + (w  + 5w )x  + 2w )y\n",
       "   + \n",
       "         2       5      5     4     3  3      7     6    3\n",
       "     ((6w  + 2w)x  + (4w  + 3w  + 2w )x  + (4w  + 6w )x)y\n",
       "   + \n",
       "       2 6      5     4  4      8     7    6  2  2      5 5      8     7  3\n",
       "     (w x  + (5w  + 4w )x  + (2w  + 5w  + w )x )y  + (2w x  + (6w  + 2w )x )y\n",
       "   + \n",
       "      8 4\n",
       "     w x\n",
       "                                              Type: Polynomial(PrimeField(7))\n"
      ]
     },
     "execution_count": 5,
     "metadata": {},
     "output_type": "execute_result"
    }
   ],
   "source": [
    "pp:=p^2"
   ]
  },
  {
   "cell_type": "code",
   "execution_count": 6,
   "metadata": {
    "collapsed": false
   },
   "outputs": [
    {
     "data": {
      "text/plain": [
       "   1\n",
       "                                              Type: Polynomial(PrimeField(7))\n"
      ]
     },
     "execution_count": 6,
     "metadata": {},
     "output_type": "execute_result"
    }
   ],
   "source": [
    "gcd(p,differentiate(p,x))"
   ]
  },
  {
   "cell_type": "code",
   "execution_count": 7,
   "metadata": {
    "collapsed": false
   },
   "outputs": [
    {
     "name": "stdout",
     "output_type": "stream",
     "text": [
      "  "
     ]
    },
    {
     "data": {
      "text/plain": [
       "         2       2    3      4          3             2     3  2\n",
       "     (x y  + (w x  + w )y + w x)z + 3x y  + ((3w + 1)x  + 3w )y\n",
       "   + \n",
       "         3      4    3        4 2\n",
       "     (w x  + (3w  + w )x)y + w x\n",
       "                                             Type: Polynomial(PrimeField(23))\n"
      ]
     },
     "execution_count": 7,
     "metadata": {},
     "output_type": "execute_result"
    }
   ],
   "source": [
    "p23:POLY PF 23:=(x+3*y+z)*(w*x+y)*(x*y+w^3)"
   ]
  },
  {
   "cell_type": "code",
   "execution_count": 8,
   "metadata": {
    "collapsed": false
   },
   "outputs": [
    {
     "data": {
      "text/plain": [
       "                       3\n",
       "   (z + 3y + x)(x y + w )(y + w x)\n",
       "                                   Type: Factored(Polynomial(PrimeField(23)))\n"
      ]
     },
     "execution_count": 8,
     "metadata": {},
     "output_type": "execute_result"
    }
   ],
   "source": [
    "factor(p23)"
   ]
  },
  {
   "cell_type": "code",
   "execution_count": 9,
   "metadata": {
    "collapsed": false
   },
   "outputs": [
    {
     "data": {
      "text/plain": [
       "    4    3    4    2\n",
       "   y  + y  + x  + x\n",
       "                                              Type: Polynomial(PrimeField(2))\n"
      ]
     },
     "execution_count": 9,
     "metadata": {},
     "output_type": "execute_result"
    }
   ],
   "source": [
    "q: POLY PF 2 := y^4 + y^3 + x^4 + x^2"
   ]
  },
  {
   "cell_type": "code",
   "execution_count": 10,
   "metadata": {
    "collapsed": false
   },
   "outputs": [
    {
     "data": {
      "text/plain": [
       "    4    3    4    2\n",
       "   y  + y  + x  + x\n",
       "                                    Type: Factored(Polynomial(PrimeField(2)))\n"
      ]
     },
     "execution_count": 10,
     "metadata": {},
     "output_type": "execute_result"
    }
   ],
   "source": [
    "factor q"
   ]
  },
  {
   "cell_type": "code",
   "execution_count": 11,
   "metadata": {
    "collapsed": false
   },
   "outputs": [
    {
     "data": {
      "text/plain": [
       "     4    3    4    2       4    3    4    2\n",
       "   (y  + y  + x  + x  + 1)(y  + y  + x  + x )\n",
       "                                    Type: Factored(Polynomial(PrimeField(2)))\n"
      ]
     },
     "execution_count": 11,
     "metadata": {},
     "output_type": "execute_result"
    }
   ],
   "source": [
    "factor(q*(q+1))"
   ]
  },
  {
   "cell_type": "code",
   "execution_count": 12,
   "metadata": {
    "collapsed": false
   },
   "outputs": [
    {
     "data": {
      "text/plain": [
       "        2 2\n",
       "   z + x y\n",
       "                                              Type: Polynomial(PrimeField(2))\n"
      ]
     },
     "execution_count": 12,
     "metadata": {},
     "output_type": "execute_result"
    }
   ],
   "source": [
    "q:=x^2*y^2+z"
   ]
  },
  {
   "cell_type": "code",
   "execution_count": 13,
   "metadata": {
    "collapsed": false
   },
   "outputs": [
    {
     "data": {
      "text/plain": [
       "         2 2           2 2\n",
       "   (z + x y  + 1)(z + x y )\n",
       "                                    Type: Factored(Polynomial(PrimeField(2)))\n"
      ]
     },
     "execution_count": 13,
     "metadata": {},
     "output_type": "execute_result"
    }
   ],
   "source": [
    "factor(q*(1+q))"
   ]
  },
  {
   "cell_type": "code",
   "execution_count": 14,
   "metadata": {
    "collapsed": false
   },
   "outputs": [
    {
     "data": {
      "text/plain": []
     },
     "execution_count": 14,
     "metadata": {},
     "output_type": "execute_result"
    }
   ],
   "source": [
    "--\n",
    "-- EOF\n",
    "--"
   ]
  }
 ],
 "metadata": {
  "kernelspec": {
   "display_name": "FriCAS",
   "language": "spad",
   "name": "ifricas"
  },
  "language_info": {
   "codemirror_mode": "spad",
   "mimetype": "text/x-spad",
   "name": "SPAD",
   "pygments_lexer": "spad",
   "version": "1.2.6"
  },
  "name": "mfinfact.ipynb"
 },
 "nbformat": 4,
 "nbformat_minor": 0
}