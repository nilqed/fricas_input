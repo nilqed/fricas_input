{
 "cells": [
  {
   "cell_type": "markdown",
   "metadata": {},
   "source": [
    "Copyright The Numerical Algorithms Group Limited 1994.\n",
    " Scherk's minimal surface.\n",
    " Defined by:\n",
    "    exp(z) * cos(x) = cos(y)\n",
    " See: A comprehensive Introduction to Differential Geometry, Vol. 3,\n",
    "  by Michael Spivak, Publish Or Persih, Berkeley, 1979, pp 249-252.\n"
   ]
  },
  {
   "cell_type": "markdown",
   "metadata": {},
   "source": [
    " Off set for a single piece of Scherk's minimal surface\n"
   ]
  },
  {
   "cell_type": "code",
   "execution_count": 0,
   "metadata": {
    "collapsed": false
   },
   "outputs": [
    {
     "data": {
      "text/plain": [
       "                                                                   Type: Void\n"
      ]
     },
     "execution_count": 0,
     "metadata": {},
     "output_type": "execute_result"
    }
   ],
   "source": [
    "(xOffset, yOffset):DoubleFloat"
   ]
  },
  {
   "cell_type": "markdown",
   "metadata": {},
   "source": [
    " DrawScherk's minimal surface on an m by n patch.\n"
   ]
  },
  {
   "cell_type": "code",
   "execution_count": 1,
   "metadata": {
    "collapsed": false
   },
   "outputs": [
    {
     "data": {
      "text/plain": [
       "                                                                   Type: Void\n"
      ]
     },
     "execution_count": 1,
     "metadata": {},
     "output_type": "execute_result"
    }
   ],
   "source": [
    "drawScherk(m,n) ==\n",
    "  free xOffset, yOffset\n",
    "  space := create3Space()$ThreeSpace(DoubleFloat)\n",
    "  for i in 0..m-1 repeat\n",
    "    xOffset := i*%pi\n",
    "    for j in 0 .. n-1 repeat\n",
    "      rem(i+j, 2) = 0 => 'iter\n",
    "      yOffset := j*%pi\n",
    "      drawOneScherk(space)\n",
    "  makeViewport3D(space, \"Scherk's Minimal Surface\")"
   ]
  },
  {
   "cell_type": "markdown",
   "metadata": {},
   "source": [
    " The four patches which make up a single piece of Scherk's minimal surface.\n"
   ]
  },
  {
   "cell_type": "code",
   "execution_count": 2,
   "metadata": {
    "collapsed": false
   },
   "outputs": [
    {
     "data": {
      "text/plain": [
       "                                                                   Type: Void\n"
      ]
     },
     "execution_count": 2,
     "metadata": {},
     "output_type": "execute_result"
    }
   ],
   "source": [
    "scherk1(u,v) ==\n",
    "  x := cos(u)/exp(v)\n",
    "  point [xOffset + acos(x), yOffset + u, v, abs(v)]"
   ]
  },
  {
   "cell_type": "code",
   "execution_count": 3,
   "metadata": {
    "collapsed": false
   },
   "outputs": [
    {
     "data": {
      "text/plain": [
       "                                                                   Type: Void\n"
      ]
     },
     "execution_count": 3,
     "metadata": {},
     "output_type": "execute_result"
    }
   ],
   "source": [
    "scherk2(u,v) ==\n",
    "  x := cos(u)/exp(v)\n",
    "  point [xOffset - acos(x), yOffset + u, v, abs(v)]"
   ]
  },
  {
   "cell_type": "code",
   "execution_count": 4,
   "metadata": {
    "collapsed": false
   },
   "outputs": [
    {
     "data": {
      "text/plain": [
       "                                                                   Type: Void\n"
      ]
     },
     "execution_count": 4,
     "metadata": {},
     "output_type": "execute_result"
    }
   ],
   "source": [
    "scherk3(u,v) ==\n",
    "  x := exp(v) * cos(u)\n",
    "  point [xOffset + u, yOffset + acos(x), v, abs(v)]"
   ]
  },
  {
   "cell_type": "code",
   "execution_count": 5,
   "metadata": {
    "collapsed": false
   },
   "outputs": [
    {
     "data": {
      "text/plain": [
       "                                                                   Type: Void\n"
      ]
     },
     "execution_count": 5,
     "metadata": {},
     "output_type": "execute_result"
    }
   ],
   "source": [
    "scherk4(u,v) ==\n",
    "  x := exp(v) * cos(u)\n",
    "  point [xOffset + u, yOffset - acos(x), v, abs(v)]"
   ]
  },
  {
   "cell_type": "markdown",
   "metadata": {},
   "source": [
    " We draw the surface by breaking it into 4 patches, and drawing them\n",
    " into a single space.\n"
   ]
  },
  {
   "cell_type": "code",
   "execution_count": 6,
   "metadata": {
    "collapsed": false
   },
   "outputs": [
    {
     "name": "stderr",
     "output_type": "stream",
     "text": [
      " \n",
      "   NIL is not a valid identifier to use in FriCAS.\n",
      "\n"
     ]
    },
    {
     "data": {
      "text/plain": [
       "error\n"
      ]
     },
     "execution_count": 6,
     "metadata": {},
     "output_type": "execute_result"
    }
   ],
   "source": [
    "drawOneScherk(s) =="
   ]
  },
  {
   "cell_type": "code",
   "execution_count": 7,
   "metadata": {
    "collapsed": false
   },
   "outputs": [
    {
     "name": "stderr",
     "output_type": "stream",
     "text": [
      "  Line   1:   makeObject(scherk1, -%pi/2..%pi/2, 0..%pi/2,  space == s, _\n",
      "  Line   2: )--premature end\n",
      "           AB\n",
      "  Error  A: syntax error at top level\n",
      "  Error  A: Improper syntax.\n",
      "  Error  B: File \n",
      "            /home/kfp/Development/fricas_input/nb/input2ipynb/ipynb/.tmp-ispad-40694.input\n",
      "             ended where at least one )endif was still needed. An appropriate \n",
      "            number of )endif lines has been assumed.\n",
      "   3 error(s) parsing \n",
      "\n"
     ]
    },
    {
     "data": {
      "text/plain": [
       "error\n"
      ]
     },
     "execution_count": 7,
     "metadata": {},
     "output_type": "execute_result"
    }
   ],
   "source": [
    "  makeObject(scherk1, -%pi/2..%pi/2, 0..%pi/2,  space == s, _\n"
   ]
  },
  {
   "cell_type": "code",
   "execution_count": 8,
   "metadata": {
    "collapsed": false
   },
   "outputs": [
    {
     "name": "stderr",
     "output_type": "stream",
     "text": [
      " \n",
      "   NIL is not a valid identifier to use in FriCAS.\n",
      "\n"
     ]
    },
    {
     "data": {
      "text/plain": [
       "error\n"
      ]
     },
     "execution_count": 8,
     "metadata": {},
     "output_type": "execute_result"
    }
   ],
   "source": [
    "             var1Steps == 28, var2Steps == 28)"
   ]
  },
  {
   "cell_type": "code",
   "execution_count": 9,
   "metadata": {
    "collapsed": false
   },
   "outputs": [
    {
     "name": "stderr",
     "output_type": "stream",
     "text": [
      "  Line   1:   makeObject(scherk2, -%pi/2..%pi/2, 0..%pi/2,  space == s, _\n",
      "  Line   2: )--premature end\n",
      "           AB\n",
      "  Error  A: syntax error at top level\n",
      "  Error  A: Improper syntax.\n",
      "  Error  B: File \n",
      "            /home/kfp/Development/fricas_input/nb/input2ipynb/ipynb/.tmp-ispad-40694.input\n",
      "             ended where at least one )endif was still needed. An appropriate \n",
      "            number of )endif lines has been assumed.\n",
      "   3 error(s) parsing \n",
      "\n"
     ]
    },
    {
     "data": {
      "text/plain": [
       "error\n"
      ]
     },
     "execution_count": 9,
     "metadata": {},
     "output_type": "execute_result"
    }
   ],
   "source": [
    "  makeObject(scherk2, -%pi/2..%pi/2, 0..%pi/2,  space == s, _\n"
   ]
  },
  {
   "cell_type": "code",
   "execution_count": 10,
   "metadata": {
    "collapsed": false
   },
   "outputs": [
    {
     "name": "stderr",
     "output_type": "stream",
     "text": [
      " \n",
      "   NIL is not a valid identifier to use in FriCAS.\n",
      "\n"
     ]
    },
    {
     "data": {
      "text/plain": [
       "error\n"
      ]
     },
     "execution_count": 10,
     "metadata": {},
     "output_type": "execute_result"
    }
   ],
   "source": [
    "             var1Steps == 28, var2Steps == 28)"
   ]
  },
  {
   "cell_type": "code",
   "execution_count": 11,
   "metadata": {
    "collapsed": false
   },
   "outputs": [
    {
     "name": "stderr",
     "output_type": "stream",
     "text": [
      "  Line   1:   makeObject(scherk3, -%pi/2..%pi/2, -%pi/2..0, space == s, _\n",
      "  Line   2: )--premature end\n",
      "           AB\n",
      "  Error  A: syntax error at top level\n",
      "  Error  A: Improper syntax.\n",
      "  Error  B: File \n",
      "            /home/kfp/Development/fricas_input/nb/input2ipynb/ipynb/.tmp-ispad-40694.input\n",
      "             ended where at least one )endif was still needed. An appropriate \n",
      "            number of )endif lines has been assumed.\n",
      "   3 error(s) parsing \n",
      "\n"
     ]
    },
    {
     "data": {
      "text/plain": [
       "error\n"
      ]
     },
     "execution_count": 11,
     "metadata": {},
     "output_type": "execute_result"
    }
   ],
   "source": [
    "  makeObject(scherk3, -%pi/2..%pi/2, -%pi/2..0, space == s, _\n"
   ]
  },
  {
   "cell_type": "code",
   "execution_count": 12,
   "metadata": {
    "collapsed": false
   },
   "outputs": [
    {
     "name": "stderr",
     "output_type": "stream",
     "text": [
      " \n",
      "   NIL is not a valid identifier to use in FriCAS.\n",
      "\n"
     ]
    },
    {
     "data": {
      "text/plain": [
       "error\n"
      ]
     },
     "execution_count": 12,
     "metadata": {},
     "output_type": "execute_result"
    }
   ],
   "source": [
    "             var1Steps == 28, var2Steps == 28)"
   ]
  },
  {
   "cell_type": "code",
   "execution_count": 13,
   "metadata": {
    "collapsed": false
   },
   "outputs": [
    {
     "name": "stderr",
     "output_type": "stream",
     "text": [
      "  Line   1:   makeObject(scherk4, -%pi/2..%pi/2, -%pi/2..0, space == s, _\n",
      "  Line   2: )--premature end\n",
      "           AB\n",
      "  Error  A: syntax error at top level\n",
      "  Error  A: Improper syntax.\n",
      "  Error  B: File \n",
      "            /home/kfp/Development/fricas_input/nb/input2ipynb/ipynb/.tmp-ispad-40694.input\n",
      "             ended where at least one )endif was still needed. An appropriate \n",
      "            number of )endif lines has been assumed.\n",
      "   3 error(s) parsing \n",
      "\n"
     ]
    },
    {
     "data": {
      "text/plain": [
       "error\n"
      ]
     },
     "execution_count": 13,
     "metadata": {},
     "output_type": "execute_result"
    }
   ],
   "source": [
    "  makeObject(scherk4, -%pi/2..%pi/2, -%pi/2..0, space == s, _\n"
   ]
  },
  {
   "cell_type": "code",
   "execution_count": 14,
   "metadata": {
    "collapsed": false
   },
   "outputs": [
    {
     "name": "stderr",
     "output_type": "stream",
     "text": [
      "  Line   1:              var1Steps == 28, var2Steps == 28)\n",
      "           .............................................A\n",
      "  Error  A: Improper syntax.\n",
      "   1 error(s) parsing \n",
      "\n"
     ]
    },
    {
     "data": {
      "text/plain": [
       "error\n"
      ]
     },
     "execution_count": 14,
     "metadata": {},
     "output_type": "execute_result"
    }
   ],
   "source": [
    "             var1Steps == 28, var2Steps == 28)\n",
    "  void()"
   ]
  },
  {
   "cell_type": "code",
   "execution_count": 15,
   "metadata": {
    "collapsed": false
   },
   "outputs": [
    {
     "data": {
      "text/plain": []
     },
     "execution_count": 15,
     "metadata": {},
     "output_type": "execute_result"
    }
   ],
   "source": [
    "--\n",
    "-- EOF\n",
    "--"
   ]
  }
 ],
 "metadata": {
  "kernelspec": {
   "display_name": "FriCAS",
   "language": "spad",
   "name": "ifricas"
  },
  "language_info": {
   "codemirror_mode": "spad",
   "mimetype": "text/x-spad",
   "name": "SPAD",
   "pygments_lexer": "spad",
   "version": "1.2.6"
  },
  "name": "scherk.ipynb"
 },
 "nbformat": 4,
 "nbformat_minor": 0
}