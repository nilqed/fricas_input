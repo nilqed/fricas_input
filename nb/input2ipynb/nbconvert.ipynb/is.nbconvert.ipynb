{
 "cells": [
  {
   "cell_type": "markdown",
   "metadata": {},
   "source": [
    "Copyright The Numerical Algorithms Group Limited 1991.\n"
   ]
  },
  {
   "cell_type": "markdown",
   "metadata": {},
   "source": [
    "  This is the 3n + 1 function:   f(n) = n/2    if n is even,\n",
    "                                        3n + 1 otherwise\n",
    "\n",
    " It can obviously be coded as\n",
    "  f n ==\n",
    "    even? n => n quo 2\n",
    "    3 * n + 1\n"
   ]
  },
  {
   "cell_type": "markdown",
   "metadata": {},
   "source": [
    " but we code using the pattern matching syntax:\n",
    " f n ==\n",
    "    n is 2*m% => m%\n",
    "    3 * n + 1\n"
   ]
  },
  {
   "cell_type": "markdown",
   "metadata": {},
   "source": [
    " The 'integer' is to return an integer instead of a polynomial\n"
   ]
  },
  {
   "cell_type": "code",
   "execution_count": 0,
   "metadata": {
    "collapsed": false
   },
   "outputs": [
    {
     "data": {
      "text/plain": [
       "                                                                   Type: Void\n"
      ]
     },
     "execution_count": 0,
     "metadata": {},
     "output_type": "execute_result"
    }
   ],
   "source": [
    "f n ==\n",
    "   not empty?(u := Is(n, 2*m%)) => integer eval(m%, u)\n",
    "   3 * n + 1"
   ]
  },
  {
   "cell_type": "code",
   "execution_count": 1,
   "metadata": {
    "collapsed": false
   },
   "outputs": [
    {
     "data": {
      "text/plain": []
     },
     "execution_count": 1,
     "metadata": {},
     "output_type": "execute_result"
    }
   ],
   "source": [
    ")set stream showall on"
   ]
  },
  {
   "cell_type": "markdown",
   "metadata": {},
   "source": [
    " The function g generates the stream of the repeated applications of f\n"
   ]
  },
  {
   "cell_type": "code",
   "execution_count": 2,
   "metadata": {
    "collapsed": false
   },
   "outputs": [
    {
     "name": "stdout",
     "output_type": "stream",
     "text": [
      "   Function declaration g : Integer -> Stream(Integer) has been added \n",
      "      to workspace.\n"
     ]
    },
    {
     "data": {
      "text/plain": [
       "                                                                   Type: Void\n"
      ]
     },
     "execution_count": 2,
     "metadata": {},
     "output_type": "execute_result"
    }
   ],
   "source": [
    "g(n:INT):STREAM(INT) == stream(f, n)"
   ]
  },
  {
   "cell_type": "markdown",
   "metadata": {},
   "source": [
    " There is a conjecture that g(n) gets into the cycle (1 4 2)\n",
    " for every n\n"
   ]
  },
  {
   "cell_type": "code",
   "execution_count": 3,
   "metadata": {
    "collapsed": false
   },
   "outputs": [
    {
     "name": "stdout",
     "output_type": "stream",
     "text": [
      "Warning: HyperTeX macro table not found\n",
      "   Compiling function f with type Integer -> Integer \n",
      "   Compiling function g with type Integer -> Stream(Integer) \n"
     ]
    },
    {
     "data": {
      "text/plain": [
       "   [27,82,41,124,62,31,94,47,142,71,...]\n",
       "                                                        Type: Stream(Integer)\n"
      ]
     },
     "execution_count": 3,
     "metadata": {},
     "output_type": "execute_result"
    }
   ],
   "source": [
    "s := g 27"
   ]
  },
  {
   "cell_type": "code",
   "execution_count": 4,
   "metadata": {
    "collapsed": false
   },
   "outputs": [
    {
     "name": "stdout",
     "output_type": "stream",
     "text": [
      "\n",
      "\n",
      "\n",
      "\n",
      "\n",
      "\n",
      "\n",
      "\n",
      "\n",
      "\n"
     ]
    },
    {
     "data": {
      "text/plain": [
       "   [27, 82, 41, 124, 62, 31, 94, 47, 142, 71, 214, 107, 322, 161, 484, 242,\n",
       "    121, 364, 182, 91, 274, 137, 412, 206, 103, 310, 155, 466, 233, 700, 350,\n",
       "    175, 526, 263, 790, 395, 1186, 593, 1780, 890, 445, 1336, 668, 334, 167,\n",
       "    502, 251, 754, 377, 1132, 566, 283, 850, 425, 1276, 638, 319, 958, 479,\n",
       "    1438, 719, 2158, 1079, 3238, 1619, 4858, 2429, 7288, 3644, 1822, 911, 2734,\n",
       "    1367, 4102, 2051, 6154, 3077, 9232, 4616, 2308, 1154, 577, 1732, 866, 433,\n",
       "    1300, 650, 325, 976, 488, 244, 122, 61, 184, 92, 46, 23, 70, 35, 106, 53,\n",
       "    160, 80, 40, 20, 10, 5, 16, 8, 4, 2, 7, 22, 11, 34, 17, 52, 26, 13, 40, 20,\n",
       "    10, 5, 16, 8, 4, 2, 7, 22, 11, 34, 17, 52, 26, 13, 40, 20, 10, 5, 16, 8, 4,\n",
       "    2, 7, 22, 11, 34, 17, 52, 26, ...]\n",
       "                                                        Type: Stream(Integer)\n"
      ]
     },
     "execution_count": 4,
     "metadata": {},
     "output_type": "execute_result"
    }
   ],
   "source": [
    "extend(s, 150)"
   ]
  },
  {
   "cell_type": "code",
   "execution_count": 5,
   "metadata": {
    "collapsed": false
   },
   "outputs": [
    {
     "data": {
      "text/plain": []
     },
     "execution_count": 5,
     "metadata": {},
     "output_type": "execute_result"
    }
   ],
   "source": [
    "--\n",
    "-- EOF\n",
    "--"
   ]
  }
 ],
 "metadata": {
  "kernelspec": {
   "display_name": "FriCAS",
   "language": "spad",
   "name": "ifricas"
  },
  "language_info": {
   "codemirror_mode": "spad",
   "mimetype": "text/x-spad",
   "name": "SPAD",
   "pygments_lexer": "spad",
   "version": "1.2.6"
  },
  "name": "is.ipynb"
 },
 "nbformat": 4,
 "nbformat_minor": 0
}