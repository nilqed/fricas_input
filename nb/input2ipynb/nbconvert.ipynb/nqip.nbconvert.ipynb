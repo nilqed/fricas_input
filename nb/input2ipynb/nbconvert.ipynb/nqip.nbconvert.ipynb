{
 "cells": [
  {
   "cell_type": "markdown",
   "metadata": {},
   "source": [
    "Copyright The Numerical Algorithms Group Limited 1996.\n"
   ]
  },
  {
   "cell_type": "markdown",
   "metadata": {},
   "source": [
    " Note that the conversions of results from DoubleFloat to Float\n",
    " will become unnecessary if outputGeneral is extended to apply to\n",
    " DoubleFloat quantities.\n"
   ]
  },
  {
   "cell_type": "code",
   "execution_count": 0,
   "metadata": {
    "collapsed": false
   },
   "outputs": [
    {
     "name": "stdout",
     "output_type": "stream",
     "text": [
      "Warning: HyperTeX macro table not found\n"
     ]
    },
    {
     "data": {
      "text/plain": [
       "                                                                   Type: Void\n"
      ]
     },
     "execution_count": 0,
     "metadata": {},
     "output_type": "execute_result"
    }
   ],
   "source": [
    "outputGeneral 5"
   ]
  },
  {
   "cell_type": "code",
   "execution_count": 1,
   "metadata": {
    "collapsed": false
   },
   "outputs": [
    {
     "data": {
      "text/plain": [
       "                                                            Type: List(Float)\n"
      ]
     },
     "execution_count": 1,
     "metadata": {},
     "output_type": "execute_result"
    }
   ],
   "source": [
    "xvals := [0.00,0.04,0.08,0.12,0.22,0.26,0.30,0.38,0.39,0.42,0.45,\n",
    "               0.46,0.60,0.68,0.72,0.73,0.83,0.85,0.88,0.90,1.00];"
   ]
  },
  {
   "cell_type": "code",
   "execution_count": 2,
   "metadata": {
    "collapsed": false
   },
   "outputs": [
    {
     "data": {
      "text/plain": [
       "                                                            Type: List(Float)\n"
      ]
     },
     "execution_count": 2,
     "metadata": {},
     "output_type": "execute_result"
    }
   ],
   "source": [
    "yvals := [4.0000,3.9936,3.9746,3.9432,3.8135,3.7467,3.6697,3.4943,\n",
    "                 3.4719,3.4002,3.3264,3.3017,2.9412,2.7352,2.6344,\n",
    "                        2.6094,2.3684,2.3222,2.2543,2.2099,2.0000];"
   ]
  },
  {
   "cell_type": "code",
   "execution_count": 3,
   "metadata": {
    "collapsed": false
   },
   "outputs": [
    {
     "name": "stderr",
     "output_type": "stream",
     "text": [
      "   There are no library operations named nagPolygonIntegrate \n",
      "      Use HyperDoc Browse or issue\n",
      "                        )what op nagPolygonIntegrate\n",
      "      to learn if there is any operation containing \" \n",
      "      nagPolygonIntegrate \" in its name.\n",
      " \n",
      "   Cannot find a definition or applicable library operation named \n",
      "      nagPolygonIntegrate with argument type(s) \n",
      "                                 List(Float)\n",
      "                                 List(Float)\n",
      "      \n",
      "      Perhaps you should use \"@\" to indicate the required return type, \n",
      "      or \"$\" to specify which version of the function you need.\n",
      "\n"
     ]
    },
    {
     "data": {
      "text/plain": [
       "error\n"
      ]
     },
     "execution_count": 3,
     "metadata": {},
     "output_type": "execute_result"
    }
   ],
   "source": [
    "result := nagPolygonIntegrate(xvals,yvals);"
   ]
  },
  {
   "cell_type": "code",
   "execution_count": 4,
   "metadata": {
    "collapsed": false
   },
   "outputs": [
    {
     "name": "stderr",
     "output_type": "stream",
     "text": [
      "   There are no exposed library operations named result but there is \n",
      "      one unexposed operation with that name. Use HyperDoc Browse or \n",
      "      issue\n",
      "                             )display op result\n",
      "      to learn more about the available operation.\n",
      " \n",
      "   Cannot find a definition or applicable library operation named \n",
      "      result with argument type(s) \n",
      "                             Variable(integral)\n",
      "      \n",
      "      Perhaps you should use \"@\" to indicate the required return type, \n",
      "      or \"$\" to specify which version of the function you need.\n",
      "\n"
     ]
    },
    {
     "data": {
      "text/plain": [
       "error\n"
      ]
     },
     "execution_count": 4,
     "metadata": {},
     "output_type": "execute_result"
    }
   ],
   "source": [
    "result.integral :: Float"
   ]
  },
  {
   "cell_type": "markdown",
   "metadata": {},
   "source": [
    "       3.1414\n"
   ]
  },
  {
   "cell_type": "code",
   "execution_count": 5,
   "metadata": {
    "collapsed": false
   },
   "outputs": [
    {
     "name": "stderr",
     "output_type": "stream",
     "text": [
      "   There are no exposed library operations named result but there is \n",
      "      one unexposed operation with that name. Use HyperDoc Browse or \n",
      "      issue\n",
      "                             )display op result\n",
      "      to learn more about the available operation.\n",
      " \n",
      "   Cannot find a definition or applicable library operation named \n",
      "      result with argument type(s) \n",
      "                           Variable(errorEstimate)\n",
      "      \n",
      "      Perhaps you should use \"@\" to indicate the required return type, \n",
      "      or \"$\" to specify which version of the function you need.\n",
      "\n"
     ]
    },
    {
     "data": {
      "text/plain": [
       "error\n"
      ]
     },
     "execution_count": 5,
     "metadata": {},
     "output_type": "execute_result"
    }
   ],
   "source": [
    "result.errorEstimate :: Float"
   ]
  },
  {
   "cell_type": "markdown",
   "metadata": {},
   "source": [
    "       - 0.000025627\n"
   ]
  },
  {
   "cell_type": "code",
   "execution_count": 6,
   "metadata": {
    "collapsed": false
   },
   "outputs": [
    {
     "data": {
      "text/plain": [
       "                                                          Type: Matrix(Float)\n"
      ]
     },
     "execution_count": 6,
     "metadata": {},
     "output_type": "execute_result"
    }
   ],
   "source": [
    "coords := transpose matrix [xvals, yvals];"
   ]
  },
  {
   "cell_type": "code",
   "execution_count": 7,
   "metadata": {
    "collapsed": false
   },
   "outputs": [
    {
     "name": "stderr",
     "output_type": "stream",
     "text": [
      "   There are no library operations named nagPolygonIntegrate \n",
      "      Use HyperDoc Browse or issue\n",
      "                        )what op nagPolygonIntegrate\n",
      "      to learn if there is any operation containing \" \n",
      "      nagPolygonIntegrate \" in its name.\n",
      " \n",
      "   Cannot find a definition or applicable library operation named \n",
      "      nagPolygonIntegrate with argument type(s) \n",
      "                                Matrix(Float)\n",
      "      \n",
      "      Perhaps you should use \"@\" to indicate the required return type, \n",
      "      or \"$\" to specify which version of the function you need.\n",
      "\n"
     ]
    },
    {
     "data": {
      "text/plain": [
       "error\n"
      ]
     },
     "execution_count": 7,
     "metadata": {},
     "output_type": "execute_result"
    }
   ],
   "source": [
    "result := nagPolygonIntegrate coords;"
   ]
  },
  {
   "cell_type": "code",
   "execution_count": 8,
   "metadata": {
    "collapsed": false
   },
   "outputs": [
    {
     "name": "stderr",
     "output_type": "stream",
     "text": [
      "   There are no exposed library operations named result but there is \n",
      "      one unexposed operation with that name. Use HyperDoc Browse or \n",
      "      issue\n",
      "                             )display op result\n",
      "      to learn more about the available operation.\n",
      " \n",
      "   Cannot find a definition or applicable library operation named \n",
      "      result with argument type(s) \n",
      "                             Variable(integral)\n",
      "      \n",
      "      Perhaps you should use \"@\" to indicate the required return type, \n",
      "      or \"$\" to specify which version of the function you need.\n",
      "\n"
     ]
    },
    {
     "data": {
      "text/plain": [
       "error\n"
      ]
     },
     "execution_count": 8,
     "metadata": {},
     "output_type": "execute_result"
    }
   ],
   "source": [
    "result.integral :: Float"
   ]
  },
  {
   "cell_type": "markdown",
   "metadata": {},
   "source": [
    "       3.1414\n"
   ]
  },
  {
   "cell_type": "code",
   "execution_count": 9,
   "metadata": {
    "collapsed": false
   },
   "outputs": [
    {
     "name": "stderr",
     "output_type": "stream",
     "text": [
      "   There are no exposed library operations named result but there is \n",
      "      one unexposed operation with that name. Use HyperDoc Browse or \n",
      "      issue\n",
      "                             )display op result\n",
      "      to learn more about the available operation.\n",
      " \n",
      "   Cannot find a definition or applicable library operation named \n",
      "      result with argument type(s) \n",
      "                           Variable(errorEstimate)\n",
      "      \n",
      "      Perhaps you should use \"@\" to indicate the required return type, \n",
      "      or \"$\" to specify which version of the function you need.\n",
      "\n"
     ]
    },
    {
     "data": {
      "text/plain": [
       "error\n"
      ]
     },
     "execution_count": 9,
     "metadata": {},
     "output_type": "execute_result"
    }
   ],
   "source": [
    "result.errorEstimate :: Float"
   ]
  },
  {
   "cell_type": "markdown",
   "metadata": {},
   "source": [
    "       - 0.000025627\n"
   ]
  },
  {
   "cell_type": "code",
   "execution_count": 10,
   "metadata": {
    "collapsed": false
   },
   "outputs": [
    {
     "name": "stderr",
     "output_type": "stream",
     "text": [
      "   There are no library operations named nagPolygonIntegrate \n",
      "      Use HyperDoc Browse or issue\n",
      "                        )what op nagPolygonIntegrate\n",
      "      to learn if there is any operation containing \" \n",
      "      nagPolygonIntegrate \" in its name.\n",
      " \n",
      "   Cannot find a definition or applicable library operation named \n",
      "      nagPolygonIntegrate with argument type(s) \n",
      "                            List(PositiveInteger)\n",
      "                            List(PositiveInteger)\n",
      "      \n",
      "      Perhaps you should use \"@\" to indicate the required return type, \n",
      "      or \"$\" to specify which version of the function you need.\n",
      "\n"
     ]
    },
    {
     "data": {
      "text/plain": [
       "error\n"
      ]
     },
     "execution_count": 10,
     "metadata": {},
     "output_type": "execute_result"
    }
   ],
   "source": [
    "nagPolygonIntegrate([1,2,3],[1,2,3,4])"
   ]
  },
  {
   "cell_type": "markdown",
   "metadata": {},
   "source": [
    "   Error signalled from user code:\n",
    "      The lists supplied to nagPolygonIntegrate are of different\n",
    "      lengths: 3 and 4.\n"
   ]
  },
  {
   "cell_type": "code",
   "execution_count": 11,
   "metadata": {
    "collapsed": false
   },
   "outputs": [
    {
     "data": {
      "text/plain": [
       "   nagPolygonIntegrate\n",
       "                      [1,2,3],[4,5,6]\n",
       "                                                                 Type: Symbol\n"
      ]
     },
     "execution_count": 11,
     "metadata": {},
     "output_type": "execute_result"
    }
   ],
   "source": [
    "nagPolygonIntegrate([[1,2,3],[4,5,6]])"
   ]
  },
  {
   "cell_type": "markdown",
   "metadata": {},
   "source": [
    "   Error signalled from user code:\n",
    "      Please supply the coordinate matrix in nagPolygonIntegrate with\n",
    "      each row consisting of single a x-y pair.\n"
   ]
  },
  {
   "cell_type": "code",
   "execution_count": 12,
   "metadata": {
    "collapsed": false
   },
   "outputs": [
    {
     "data": {
      "text/plain": [
       "                                                                   Type: Void\n"
      ]
     },
     "execution_count": 12,
     "metadata": {},
     "output_type": "execute_result"
    }
   ],
   "source": [
    "outputGeneral()"
   ]
  },
  {
   "cell_type": "code",
   "execution_count": 13,
   "metadata": {
    "collapsed": false
   },
   "outputs": [
    {
     "data": {
      "text/plain": [
       "   End of tests\n",
       "                                                                   Type: Void\n"
      ]
     },
     "execution_count": 13,
     "metadata": {},
     "output_type": "execute_result"
    }
   ],
   "source": [
    "output \"End of tests\""
   ]
  },
  {
   "cell_type": "code",
   "execution_count": 14,
   "metadata": {
    "collapsed": false
   },
   "outputs": [
    {
     "data": {
      "text/plain": []
     },
     "execution_count": 14,
     "metadata": {},
     "output_type": "execute_result"
    }
   ],
   "source": [
    "--\n",
    "-- EOF\n",
    "--"
   ]
  }
 ],
 "metadata": {
  "kernelspec": {
   "display_name": "FriCAS",
   "language": "spad",
   "name": "ifricas"
  },
  "language_info": {
   "codemirror_mode": "spad",
   "mimetype": "text/x-spad",
   "name": "SPAD",
   "pygments_lexer": "spad",
   "version": "1.2.6"
  },
  "name": "nqip.ipynb"
 },
 "nbformat": 4,
 "nbformat_minor": 0
}