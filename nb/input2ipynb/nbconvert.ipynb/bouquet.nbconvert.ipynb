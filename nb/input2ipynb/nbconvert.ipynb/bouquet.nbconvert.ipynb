{
 "cells": [
  {
   "cell_type": "markdown",
   "metadata": {},
   "source": [
    "Copyright The Numerical Algorithms Group Limited 1994.\n",
    " relative size of the arrow head compared to the length of the arrow\n"
   ]
  },
  {
   "cell_type": "code",
   "execution_count": 0,
   "metadata": {
    "collapsed": false
   },
   "outputs": [
    {
     "name": "stdout",
     "output_type": "stream",
     "text": [
      "Warning: HyperTeX macro table not found\n"
     ]
    },
    {
     "data": {
      "text/plain": [
       "   0.2\n",
       "                                                            Type: DoubleFloat\n"
      ]
     },
     "execution_count": 0,
     "metadata": {},
     "output_type": "execute_result"
    }
   ],
   "source": [
    "arrowScale := 0.2@DFLOAT"
   ]
  },
  {
   "cell_type": "markdown",
   "metadata": {},
   "source": [
    " angle of the arrow head\n"
   ]
  },
  {
   "cell_type": "code",
   "execution_count": 1,
   "metadata": {
    "collapsed": false
   },
   "outputs": [
    {
     "data": {
      "text/plain": [
       "   2.827433388230814\n",
       "                                                            Type: DoubleFloat\n"
      ]
     },
     "execution_count": 1,
     "metadata": {},
     "output_type": "execute_result"
    }
   ],
   "source": [
    "arrowAngle := %pi-%pi/10.0@DFLOAT"
   ]
  },
  {
   "cell_type": "markdown",
   "metadata": {},
   "source": [
    " Add an arrow head to a line segment, which starts at 'p1', ends at 'p2',\n",
    " has length 'len', and and angle 'arg'.  We pass 'len' and 'arg' as\n",
    " arguments since they were already computed by the calling program\n"
   ]
  },
  {
   "cell_type": "code",
   "execution_count": 2,
   "metadata": {
    "collapsed": false
   },
   "outputs": [
    {
     "data": {
      "text/plain": [
       "                                                                   Type: Void\n"
      ]
     },
     "execution_count": 2,
     "metadata": {},
     "output_type": "execute_result"
    }
   ],
   "source": [
    "makeArrow(p1, p2) ==\n",
    "  delta := p2 - p1\n",
    "  len := arrowScale * length delta\n",
    "  theta := atan(delta.1, delta.2)\n",
    "  c1 := len * cos(theta + arrowAngle)\n",
    "  s1 := len * sin(theta + arrowAngle)\n",
    "  c2 := len * cos(theta - arrowAngle)\n",
    "  s2 := len * sin(theta - arrowAngle)\n",
    "  z  := p2.3*(1 - arrowScale)\n",
    "  p3 := point [p2.1 + c1, p2.2 + s1, z, p2.4]\n",
    "  p4 := point [p2.1 + c2, p2.2 + s2, z, p2.4]\n",
    "  [[p1, p2, p3], [p2, p4]]"
   ]
  },
  {
   "cell_type": "code",
   "execution_count": 3,
   "metadata": {
    "collapsed": false
   },
   "outputs": [
    {
     "data": {
      "text/plain": [
       "                                                                   Type: Void\n"
      ]
     },
     "execution_count": 3,
     "metadata": {},
     "output_type": "execute_result"
    }
   ],
   "source": [
    "drawBouquet(n,title) ==\n",
    "  angle := 0.0@DFLOAT\n",
    "  sp := create3Space()$ThreeSpace(DFLOAT)\n",
    "  for i in 0..n-1 repeat\n",
    "    start := point [0.0@DFLOAT,0.0@DFLOAT,0.0@DFLOAT,angle]\n",
    "    end   := point [cos angle, sin angle, 1.0@DFLOAT, angle]\n",
    "    arrow := makeArrow(start, end)\n",
    "    for a in arrow repeat curve(sp,a)\n",
    "    angle := angle + 2*%pi/n\n",
    "  makeViewport3D(sp,title)$VIEW3D"
   ]
  },
  {
   "cell_type": "code",
   "execution_count": 4,
   "metadata": {
    "collapsed": false
   },
   "outputs": [
    {
     "data": {
      "text/plain": []
     },
     "execution_count": 4,
     "metadata": {},
     "output_type": "execute_result"
    }
   ],
   "source": [
    "--\n",
    "-- EOF\n",
    "--"
   ]
  }
 ],
 "metadata": {
  "kernelspec": {
   "display_name": "FriCAS",
   "language": "spad",
   "name": "ifricas"
  },
  "language_info": {
   "codemirror_mode": "spad",
   "mimetype": "text/x-spad",
   "name": "SPAD",
   "pygments_lexer": "spad",
   "version": "1.2.6"
  },
  "name": "bouquet.ipynb"
 },
 "nbformat": 4,
 "nbformat_minor": 0
}