{
 "cells": [
  {
   "cell_type": "markdown",
   "metadata": {},
   "source": [
    "Copyright The Numerical Algorithms Group Limited 1991.\n"
   ]
  },
  {
   "cell_type": "code",
   "execution_count": 0,
   "metadata": {
    "collapsed": false
   },
   "outputs": [
    {
     "name": "stdout",
     "output_type": "stream",
     "text": [
      "   All user variables and function definitions have been cleared.\n"
     ]
    },
    {
     "data": {
      "text/plain": []
     },
     "execution_count": 0,
     "metadata": {},
     "output_type": "execute_result"
    }
   ],
   "source": [
    ")clear all"
   ]
  },
  {
   "cell_type": "code",
   "execution_count": 1,
   "metadata": {
    "collapsed": false
   },
   "outputs": [
    {
     "name": "stdout",
     "output_type": "stream",
     "text": [
      "Warning: HyperTeX macro table not found\n"
     ]
    },
    {
     "data": {
      "text/plain": [
       "   3-Space with 0 components\n",
       "                                                Type: ThreeSpace(DoubleFloat)\n"
      ]
     },
     "execution_count": 1,
     "metadata": {},
     "output_type": "execute_result"
    }
   ],
   "source": [
    "sp := create3Space()$ThreeSpace(DFLOAT)"
   ]
  },
  {
   "cell_type": "code",
   "execution_count": 2,
   "metadata": {
    "collapsed": false
   },
   "outputs": [
    {
     "data": {
      "text/plain": [
       "                                                                   Type: Void\n"
      ]
     },
     "execution_count": 2,
     "metadata": {},
     "output_type": "execute_result"
    }
   ],
   "source": [
    "torusInKnot(p,q,r) ==\n",
    "  a := 1\n",
    "  b := 1\n",
    "  ab := a+b\n",
    "  fac := 2*ab/(1.1*ab-sin(q*t))\n",
    "  Title := concat(\"Torus Knot of Type (\", concat(p::String,\n",
    "                  concat(\",\", concat(q::String, \")\"))))\n",
    "  Curve := curve(a*fac*cos(p*t), a*fac*sin(p*t), b*fac*cos(q*t))\n",
    "  r = 0 => draw(Curve, t=0..2*%pi, title == Title)\n",
    "  draw(Curve, t=0..2*%pi, tubeRadius == r, title == Title, space == sp)"
   ]
  },
  {
   "cell_type": "code",
   "execution_count": 3,
   "metadata": {
    "collapsed": false
   },
   "outputs": [
    {
     "name": "stdout",
     "output_type": "stream",
     "text": [
      "   Compiling function torusInKnot with type (PositiveInteger,\n",
      "      PositiveInteger,Float) -> ThreeDimensionalViewport \n",
      "   Compiling function %C with type DoubleFloat -> DoubleFloat \n",
      "   Compiling function %E with type DoubleFloat -> DoubleFloat \n",
      "   Compiling function %G with type DoubleFloat -> DoubleFloat \n",
      "   Transmitting data...\n"
     ]
    },
    {
     "data": {
      "text/plain": [
       "   ThreeDimensionalViewport: \"Torus Knot of Type (15,17)\"\n",
       "                                               Type: ThreeDimensionalViewport\n"
      ]
     },
     "execution_count": 3,
     "metadata": {},
     "output_type": "execute_result"
    }
   ],
   "source": [
    "torusInKnot(15,17,.1)"
   ]
  },
  {
   "cell_type": "code",
   "execution_count": 4,
   "metadata": {
    "collapsed": false
   },
   "outputs": [
    {
     "name": "stdout",
     "output_type": "stream",
     "text": [
      "   Function declaration cfxn : DoubleFloat -> DoubleFloat has been \n",
      "      added to workspace.\n"
     ]
    },
    {
     "data": {
      "text/plain": [
       "                                                                   Type: Void\n"
      ]
     },
     "execution_count": 4,
     "metadata": {},
     "output_type": "execute_result"
    }
   ],
   "source": [
    "cfxn(t:DFLOAT):DFLOAT == .7"
   ]
  },
  {
   "cell_type": "markdown",
   "metadata": {},
   "source": [
    "draw(sp,curve(3*sin(t),3*cos(t),0),t=0..2*%pi,tubePoints==10,tubeRadius==.7)\n"
   ]
  },
  {
   "cell_type": "code",
   "execution_count": 5,
   "metadata": {
    "collapsed": false
   },
   "outputs": [
    {
     "name": "stdout",
     "output_type": "stream",
     "text": [
      "   Compiling function cfxn with type DoubleFloat -> DoubleFloat \n",
      "   Compiling function %I with type DoubleFloat -> DoubleFloat \n",
      "   Compiling function %K with type DoubleFloat -> DoubleFloat \n",
      "   Compiling function %M with type DoubleFloat -> DoubleFloat \n",
      "   Transmitting data...\n"
     ]
    },
    {
     "data": {
      "text/plain": [
       "   ThreeDimensionalViewport: \"FriCAS3D\"\n",
       "                                               Type: ThreeDimensionalViewport\n"
      ]
     },
     "execution_count": 5,
     "metadata": {},
     "output_type": "execute_result"
    }
   ],
   "source": [
    "draw(curve(2.4*sin(t),2.4*cos(t),0),t=0..2*%pi,tubePoints==10,tubeRadius==.8,colorFunction==cfxn, space == sp)"
   ]
  },
  {
   "cell_type": "code",
   "execution_count": 6,
   "metadata": {
    "collapsed": false
   },
   "outputs": [
    {
     "data": {
      "text/plain": []
     },
     "execution_count": 6,
     "metadata": {},
     "output_type": "execute_result"
    }
   ],
   "source": [
    "--\n",
    "-- EOF\n",
    "--"
   ]
  }
 ],
 "metadata": {
  "kernelspec": {
   "display_name": "FriCAS",
   "language": "spad",
   "name": "ifricas"
  },
  "language_info": {
   "codemirror_mode": "spad",
   "mimetype": "text/x-spad",
   "name": "SPAD",
   "pygments_lexer": "spad",
   "version": "1.2.6"
  },
  "name": "multKnot.ipynb"
 },
 "nbformat": 4,
 "nbformat_minor": 0
}