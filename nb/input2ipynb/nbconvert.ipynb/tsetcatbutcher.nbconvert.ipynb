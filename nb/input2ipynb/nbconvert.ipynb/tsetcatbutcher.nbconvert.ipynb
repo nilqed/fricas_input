{
 "cells": [
  {
   "cell_type": "markdown",
   "metadata": {},
   "source": [
    "\n",
    "% Domains Definitions\n",
    "\n"
   ]
  },
  {
   "cell_type": "code",
   "execution_count": 0,
   "metadata": {
    "collapsed": false
   },
   "outputs": [
    {
     "name": "stdout",
     "output_type": "stream",
     "text": [
      "   All user variables and function definitions have been cleared.\n"
     ]
    },
    {
     "data": {
      "text/plain": []
     },
     "execution_count": 0,
     "metadata": {},
     "output_type": "execute_result"
    }
   ],
   "source": [
    ")clear all"
   ]
  },
  {
   "cell_type": "code",
   "execution_count": 1,
   "metadata": {
    "collapsed": false
   },
   "outputs": [
    {
     "data": {
      "text/plain": [
       "                                                           Type: List(Symbol)\n"
      ]
     },
     "execution_count": 1,
     "metadata": {},
     "output_type": "execute_result"
    }
   ],
   "source": [
    "ls : List Symbol := [b1,x,y,z,t,v,u,w];"
   ]
  },
  {
   "cell_type": "code",
   "execution_count": 2,
   "metadata": {
    "collapsed": false
   },
   "outputs": [
    {
     "data": {
      "text/plain": [
       "                                                                   Type: Type\n"
      ]
     },
     "execution_count": 2,
     "metadata": {},
     "output_type": "execute_result"
    }
   ],
   "source": [
    "V := OVAR(ls);"
   ]
  },
  {
   "cell_type": "code",
   "execution_count": 3,
   "metadata": {
    "collapsed": false
   },
   "outputs": [
    {
     "data": {
      "text/plain": [
       "                                                                   Type: Type\n"
      ]
     },
     "execution_count": 3,
     "metadata": {},
     "output_type": "execute_result"
    }
   ],
   "source": [
    "R := Integer;"
   ]
  },
  {
   "cell_type": "code",
   "execution_count": 4,
   "metadata": {
    "collapsed": false
   },
   "outputs": [
    {
     "data": {
      "text/plain": [
       "                                                                   Type: Type\n"
      ]
     },
     "execution_count": 4,
     "metadata": {},
     "output_type": "execute_result"
    }
   ],
   "source": [
    "E := IndexedExponents V;"
   ]
  },
  {
   "cell_type": "code",
   "execution_count": 5,
   "metadata": {
    "collapsed": false
   },
   "outputs": [
    {
     "data": {
      "text/plain": [
       "                                                                   Type: Type\n"
      ]
     },
     "execution_count": 5,
     "metadata": {},
     "output_type": "execute_result"
    }
   ],
   "source": [
    "P := NSMP(R, V);"
   ]
  },
  {
   "cell_type": "code",
   "execution_count": 6,
   "metadata": {
    "collapsed": false
   },
   "outputs": [
    {
     "data": {
      "text/plain": [
       "                                                                   Type: Type\n"
      ]
     },
     "execution_count": 6,
     "metadata": {},
     "output_type": "execute_result"
    }
   ],
   "source": [
    "LP := List(P);"
   ]
  },
  {
   "cell_type": "markdown",
   "metadata": {},
   "source": [
    "\n",
    "% Initialisations\n",
    "\n"
   ]
  },
  {
   "cell_type": "code",
   "execution_count": 7,
   "metadata": {
    "collapsed": false
   },
   "outputs": [
    {
     "data": {
      "text/plain": [
       "Type: NewSparseMultivariatePolynomial(Integer,OrderedVariableList([b1,x,y,z,t,v,u,w]))\n"
      ]
     },
     "execution_count": 7,
     "metadata": {},
     "output_type": "execute_result"
    }
   ],
   "source": [
    "b1: P := 'b1;"
   ]
  },
  {
   "cell_type": "code",
   "execution_count": 8,
   "metadata": {
    "collapsed": false
   },
   "outputs": [
    {
     "data": {
      "text/plain": [
       "Type: NewSparseMultivariatePolynomial(Integer,OrderedVariableList([b1,x,y,z,t,v,u,w]))\n"
      ]
     },
     "execution_count": 8,
     "metadata": {},
     "output_type": "execute_result"
    }
   ],
   "source": [
    "x: P := 'x;"
   ]
  },
  {
   "cell_type": "code",
   "execution_count": 9,
   "metadata": {
    "collapsed": false
   },
   "outputs": [
    {
     "data": {
      "text/plain": [
       "Type: NewSparseMultivariatePolynomial(Integer,OrderedVariableList([b1,x,y,z,t,v,u,w]))\n"
      ]
     },
     "execution_count": 9,
     "metadata": {},
     "output_type": "execute_result"
    }
   ],
   "source": [
    "y: P := 'y;"
   ]
  },
  {
   "cell_type": "code",
   "execution_count": 10,
   "metadata": {
    "collapsed": false
   },
   "outputs": [
    {
     "data": {
      "text/plain": [
       "Type: NewSparseMultivariatePolynomial(Integer,OrderedVariableList([b1,x,y,z,t,v,u,w]))\n"
      ]
     },
     "execution_count": 10,
     "metadata": {},
     "output_type": "execute_result"
    }
   ],
   "source": [
    "z: P := 'z;"
   ]
  },
  {
   "cell_type": "code",
   "execution_count": 11,
   "metadata": {
    "collapsed": false
   },
   "outputs": [
    {
     "data": {
      "text/plain": [
       "Type: NewSparseMultivariatePolynomial(Integer,OrderedVariableList([b1,x,y,z,t,v,u,w]))\n"
      ]
     },
     "execution_count": 11,
     "metadata": {},
     "output_type": "execute_result"
    }
   ],
   "source": [
    "t: P := 't;"
   ]
  },
  {
   "cell_type": "code",
   "execution_count": 12,
   "metadata": {
    "collapsed": false
   },
   "outputs": [
    {
     "data": {
      "text/plain": [
       "Type: NewSparseMultivariatePolynomial(Integer,OrderedVariableList([b1,x,y,z,t,v,u,w]))\n"
      ]
     },
     "execution_count": 12,
     "metadata": {},
     "output_type": "execute_result"
    }
   ],
   "source": [
    "u: P := 'u;"
   ]
  },
  {
   "cell_type": "code",
   "execution_count": 13,
   "metadata": {
    "collapsed": false
   },
   "outputs": [
    {
     "data": {
      "text/plain": [
       "Type: NewSparseMultivariatePolynomial(Integer,OrderedVariableList([b1,x,y,z,t,v,u,w]))\n"
      ]
     },
     "execution_count": 13,
     "metadata": {},
     "output_type": "execute_result"
    }
   ],
   "source": [
    "v: P := 'v;"
   ]
  },
  {
   "cell_type": "code",
   "execution_count": 14,
   "metadata": {
    "collapsed": false
   },
   "outputs": [
    {
     "data": {
      "text/plain": [
       "Type: NewSparseMultivariatePolynomial(Integer,OrderedVariableList([b1,x,y,z,t,v,u,w]))\n"
      ]
     },
     "execution_count": 14,
     "metadata": {},
     "output_type": "execute_result"
    }
   ],
   "source": [
    "w: P := 'w;"
   ]
  },
  {
   "cell_type": "code",
   "execution_count": 15,
   "metadata": {
    "collapsed": false
   },
   "outputs": [
    {
     "name": "stdout",
     "output_type": "stream",
     "text": [
      "Warning: HyperTeX macro table not found\n"
     ]
    },
    {
     "data": {
      "text/plain": [
       "Type: NewSparseMultivariatePolynomial(Integer,OrderedVariableList([b1,x,y,z,t,v,u,w]))\n"
      ]
     },
     "execution_count": 15,
     "metadata": {},
     "output_type": "execute_result"
    }
   ],
   "source": [
    "f0 := b1 + y + z - t - w;"
   ]
  },
  {
   "cell_type": "code",
   "execution_count": 16,
   "metadata": {
    "collapsed": false
   },
   "outputs": [
    {
     "data": {
      "text/plain": [
       "Type: NewSparseMultivariatePolynomial(Integer,OrderedVariableList([b1,x,y,z,t,v,u,w]))\n"
      ]
     },
     "execution_count": 16,
     "metadata": {},
     "output_type": "execute_result"
    }
   ],
   "source": [
    "f1 := 2*z*u + 2*y*v + 2*t*w - 2*w^2 - w - 1 ;"
   ]
  },
  {
   "cell_type": "code",
   "execution_count": 17,
   "metadata": {
    "collapsed": false
   },
   "outputs": [
    {
     "data": {
      "text/plain": [
       "Type: NewSparseMultivariatePolynomial(Integer,OrderedVariableList([b1,x,y,z,t,v,u,w]))\n"
      ]
     },
     "execution_count": 17,
     "metadata": {},
     "output_type": "execute_result"
    }
   ],
   "source": [
    "f2 := 3*z*u^2 + 3*y*v^2 - 3*t*w^2 + 3*w^3 + 3*w^2 - t + 4*w  ;"
   ]
  },
  {
   "cell_type": "code",
   "execution_count": 18,
   "metadata": {
    "collapsed": false
   },
   "outputs": [
    {
     "data": {
      "text/plain": [
       "Type: NewSparseMultivariatePolynomial(Integer,OrderedVariableList([b1,x,y,z,t,v,u,w]))\n"
      ]
     },
     "execution_count": 18,
     "metadata": {},
     "output_type": "execute_result"
    }
   ],
   "source": [
    "f3 := 6*x*z*v - 6*t*w^2 + 6*w^3 - 3*t*w + 6*w^2 - t + 4*w  ;"
   ]
  },
  {
   "cell_type": "code",
   "execution_count": 19,
   "metadata": {
    "collapsed": false
   },
   "outputs": [
    {
     "data": {
      "text/plain": [
       "Type: NewSparseMultivariatePolynomial(Integer,OrderedVariableList([b1,x,y,z,t,v,u,w]))\n"
      ]
     },
     "execution_count": 19,
     "metadata": {},
     "output_type": "execute_result"
    }
   ],
   "source": [
    "f4 := 4*z*u^3+ 4*y*v^3+ 4*t*w^3- 4*w^4 - 6*w^3+ 4*t*w- 10*w^2- w- 1  ;"
   ]
  },
  {
   "cell_type": "code",
   "execution_count": 20,
   "metadata": {
    "collapsed": false
   },
   "outputs": [
    {
     "data": {
      "text/plain": [
       "Type: NewSparseMultivariatePolynomial(Integer,OrderedVariableList([b1,x,y,z,t,v,u,w]))\n"
      ]
     },
     "execution_count": 20,
     "metadata": {},
     "output_type": "execute_result"
    }
   ],
   "source": [
    "f5 := 8*x*z*u*v +8*t*w^3 -8*w^4 +4*t*w^2 -12*w^3 +4*t*w -14*w^2 -3*w -1  ;"
   ]
  },
  {
   "cell_type": "code",
   "execution_count": 21,
   "metadata": {
    "collapsed": false
   },
   "outputs": [
    {
     "data": {
      "text/plain": [
       "Type: NewSparseMultivariatePolynomial(Integer,OrderedVariableList([b1,x,y,z,t,v,u,w]))\n"
      ]
     },
     "execution_count": 21,
     "metadata": {},
     "output_type": "execute_result"
    }
   ],
   "source": [
    "f6 := 12*x*z*v^2+12*t*w^3 -12*w^4 +12*t*w^2 -18*w^3 +8*t*w -14*w^2 -w -1;"
   ]
  },
  {
   "cell_type": "code",
   "execution_count": 22,
   "metadata": {
    "collapsed": false
   },
   "outputs": [
    {
     "data": {
      "text/plain": [
       "Type: NewSparseMultivariatePolynomial(Integer,OrderedVariableList([b1,x,y,z,t,v,u,w]))\n"
      ]
     },
     "execution_count": 22,
     "metadata": {},
     "output_type": "execute_result"
    }
   ],
   "source": [
    "f7 := -24*t*w^3 + 24*w^4 - 24*t*w^2 + 36*w^3 - 8*t*w + 26*w^2 + 7*w + 1 ;"
   ]
  },
  {
   "cell_type": "code",
   "execution_count": 23,
   "metadata": {
    "collapsed": false
   },
   "outputs": [
    {
     "data": {
      "text/plain": [
       "Type: List(NewSparseMultivariatePolynomial(Integer,OrderedVariableList([b1,x,y,z,t,v,u,w])))\n"
      ]
     },
     "execution_count": 23,
     "metadata": {},
     "output_type": "execute_result"
    }
   ],
   "source": [
    "lp := [f0,f1,f2,f3,f4,f5,f6,f7];"
   ]
  },
  {
   "cell_type": "markdown",
   "metadata": {},
   "source": [
    "\n",
    "% Computations\n",
    "\n"
   ]
  },
  {
   "cell_type": "code",
   "execution_count": 24,
   "metadata": {
    "collapsed": false
   },
   "outputs": [
    {
     "data": {
      "text/plain": [
       "                                                                   Type: Type\n"
      ]
     },
     "execution_count": 24,
     "metadata": {},
     "output_type": "execute_result"
    }
   ],
   "source": [
    "T := WUTSET(R,E,V,P);"
   ]
  },
  {
   "cell_type": "code",
   "execution_count": 25,
   "metadata": {
    "collapsed": false
   },
   "outputs": [
    {
     "name": "stdout",
     "output_type": "stream",
     "text": [
      "    \n",
      "\n",
      "\n",
      "\n",
      "                                                                                        \n",
      "    \n",
      "                                                                                        \n",
      "\n"
     ]
    },
    {
     "data": {
      "text/plain": [
       "   {\n",
       "            10         9         8         7        6       5       4       3\n",
       "       3456w   + 12960w  + 19872w  + 15912w  + 6732w  + 996w  - 337w  - 167w\n",
       "     + \n",
       "            2\n",
       "       - 23w  - w\n",
       "     ,\n",
       "        3      2                  6       5       4      3      2\n",
       "    (12w  + 21w  + 10w + 1)u - 72w  - 180w  - 150w  - 51w  - 12w  - 3w,\n",
       "        3      2                  5      4      3      2\n",
       "    (12w  + 21w  + 10w + 1)v + 36w  + 90w  + 72w  + 18w ,\n",
       "        3      2             4      3      2\n",
       "    (24w  + 24w  + 8w)t - 24w  - 36w  - 26w  - 7w - 1,\n",
       "\n",
       "                 9          8          7          6          5          4\n",
       "           82944w  + 323568w  + 536868w  + 501804w  + 291411w  + 106080w\n",
       "         + \n",
       "                 3        2\n",
       "           22458w  + 2316w  + 87w\n",
       "      *\n",
       "         z\n",
       "     + \n",
       "                       10          9          8          7          6          5\n",
       "               - 20736w   - 108864w  - 242352w  - 297756w  - 220104w  - 100116w\n",
       "             + \n",
       "                       4        3       2\n",
       "               - 27552w  - 4356w  - 360w  - 12w\n",
       "          *\n",
       "             v\n",
       "         + \n",
       "                   11          10          9          8          7          6\n",
       "           - 20736w   - 108864w   - 249264w  - 334044w  - 300888w  - 199368w\n",
       "         + \n",
       "                    5         4        3        2\n",
       "           - 100920w  - 37728w  - 9544w  - 1464w  - 120w - 4\n",
       "      *\n",
       "         t\n",
       "     + \n",
       "                 11          10          9          8          7          6\n",
       "           20736w   + 119232w   + 307152w  + 473364w  + 490158w  + 359046w\n",
       "         + \n",
       "                  5         4         3        2\n",
       "           187662w  + 68190w  + 16314w  + 2370w  + 186w + 6\n",
       "      *\n",
       "         v\n",
       "     + \n",
       "             12          11          10          9          8          7\n",
       "       20736w   + 129600w   + 378864w   + 685260w  + 840996w  + 717228w\n",
       "     + \n",
       "              6          5         4        3       2\n",
       "       421140w  + 165396w  + 41452w  + 6180w  + 492w  + 16w\n",
       "     ,\n",
       "\n",
       "           5       4       3      2           3      2\n",
       "       (72w  + 180w  + 144w  + 36w )y + (- 24w  - 42w  - 20w - 2)u z\n",
       "     + \n",
       "             4      3      2             5      4      3      2\n",
       "       (- 24w  - 42w  - 20w  - 2w)t + 24w  + 54w  + 53w  + 33w  + 11w + 1\n",
       "     ,\n",
       "\n",
       "                     9             8              7              6             5\n",
       "           177732288w  + 719015472w  + 1232091096w  + 1173573804w  + 679584244w\n",
       "         + \n",
       "                     4            3           2\n",
       "           241504763w  + 49510061w  + 5012029w  + 188379w\n",
       "      *\n",
       "         x\n",
       "     + \n",
       "                       23                22                 21\n",
       "           18345885696w   + 201804742656w   + 1034631512064w\n",
       "         + \n",
       "                         20                 19                  18\n",
       "           3285633466368w   + 7245828587520w   + 11794015715328w\n",
       "         + \n",
       "                          17                  16                  15\n",
       "           14705111236608w   + 14392584880128w   + 11248017481728w\n",
       "         + \n",
       "                         14                 13                 12\n",
       "           7106910658560w   + 3664870060032w   + 1553671950336w\n",
       "         + \n",
       "                        11                10               9              8\n",
       "           544159248384w   + 157668409344w   + 37615263744w  + 7285383168w\n",
       "         + \n",
       "                      7             6            5          4         3\n",
       "           1114865664w  + 128901120w  + 10481664w  + 528384w  + 12288w\n",
       "      *\n",
       "         t\n",
       "     + \n",
       "                   23                22                 21                 20\n",
       "       18345885696w   + 201422536704w   + 1030427246592w   + 3264142344192w\n",
       "     + \n",
       "                     19                  18                  17\n",
       "       7178014900224w   + 11646005796864w   + 14467760013312w\n",
       "     + \n",
       "                      16                  15                 14\n",
       "       14102539278336w   + 10971419618304w   + 6897670239744w\n",
       "     + \n",
       "                     13                 12                11                10\n",
       "       3537815786496w   + 1491187528704w   + 519099757056w   + 149437154304w\n",
       "     + \n",
       "                   9              8              7             6           5\n",
       "       35401691136w  + 6802421760w  + 1031325696w  + 117929472w  + 9464832w\n",
       "     + \n",
       "              4         3\n",
       "       470016w  + 10752w\n",
       "     ,\n",
       "    b1 + y + z - t - w}\n",
       "Type: Union(WuWenTsunTriangularSet(Integer,IndexedExponents(OrderedVariableList([b1,x,y,z,t,v,u,w])),OrderedVariableList([b1,x,y,z,t,v,u,w]),NewSparseMultivariatePolynomial(Integer,OrderedVariableList([b1,x,y,z,t,v,u,w]))),...)\n"
      ]
     },
     "execution_count": 25,
     "metadata": {},
     "output_type": "execute_result"
    }
   ],
   "source": [
    "medialSet(lp)$T"
   ]
  },
  {
   "cell_type": "code",
   "execution_count": 26,
   "metadata": {
    "collapsed": false
   },
   "outputs": [
    {
     "name": "stdout",
     "output_type": "stream",
     "text": [
      "    \n",
      "\n",
      "\n",
      "\n",
      "                                                                                        \n",
      "    \n",
      "                                                                                        \n",
      "\n"
     ]
    },
    {
     "data": {
      "text/plain": [
       "   {\n",
       "            10         9         8         7        6       5       4       3\n",
       "       3456w   + 12960w  + 19872w  + 15912w  + 6732w  + 996w  - 337w  - 167w\n",
       "     + \n",
       "            2\n",
       "       - 23w  - w\n",
       "     ,\n",
       "        3      2                  6       5       4      3      2\n",
       "    (12w  + 21w  + 10w + 1)u - 72w  - 180w  - 150w  - 51w  - 12w  - 3w,\n",
       "        3      2                  5      4      3      2\n",
       "    (12w  + 21w  + 10w + 1)v + 36w  + 90w  + 72w  + 18w ,\n",
       "        3      2             4      3      2\n",
       "    (24w  + 24w  + 8w)t - 24w  - 36w  - 26w  - 7w - 1,\n",
       "\n",
       "                 9          8          7          6          5          4\n",
       "           82944w  + 323568w  + 536868w  + 501804w  + 291411w  + 106080w\n",
       "         + \n",
       "                 3        2\n",
       "           22458w  + 2316w  + 87w\n",
       "      *\n",
       "         z\n",
       "     + \n",
       "                       10          9          8          7          6          5\n",
       "               - 20736w   - 108864w  - 242352w  - 297756w  - 220104w  - 100116w\n",
       "             + \n",
       "                       4        3       2\n",
       "               - 27552w  - 4356w  - 360w  - 12w\n",
       "          *\n",
       "             v\n",
       "         + \n",
       "                   11          10          9          8          7          6\n",
       "           - 20736w   - 108864w   - 249264w  - 334044w  - 300888w  - 199368w\n",
       "         + \n",
       "                    5         4        3        2\n",
       "           - 100920w  - 37728w  - 9544w  - 1464w  - 120w - 4\n",
       "      *\n",
       "         t\n",
       "     + \n",
       "                 11          10          9          8          7          6\n",
       "           20736w   + 119232w   + 307152w  + 473364w  + 490158w  + 359046w\n",
       "         + \n",
       "                  5         4         3        2\n",
       "           187662w  + 68190w  + 16314w  + 2370w  + 186w + 6\n",
       "      *\n",
       "         v\n",
       "     + \n",
       "             12          11          10          9          8          7\n",
       "       20736w   + 129600w   + 378864w   + 685260w  + 840996w  + 717228w\n",
       "     + \n",
       "              6          5         4        3       2\n",
       "       421140w  + 165396w  + 41452w  + 6180w  + 492w  + 16w\n",
       "     ,\n",
       "\n",
       "           5       4       3      2           3      2\n",
       "       (72w  + 180w  + 144w  + 36w )y + (- 24w  - 42w  - 20w - 2)u z\n",
       "     + \n",
       "             4      3      2             5      4      3      2\n",
       "       (- 24w  - 42w  - 20w  - 2w)t + 24w  + 54w  + 53w  + 33w  + 11w + 1\n",
       "     ,\n",
       "\n",
       "                     9             8              7              6             5\n",
       "           177732288w  + 719015472w  + 1232091096w  + 1173573804w  + 679584244w\n",
       "         + \n",
       "                     4            3           2\n",
       "           241504763w  + 49510061w  + 5012029w  + 188379w\n",
       "      *\n",
       "         x\n",
       "     + \n",
       "                       23                22                 21\n",
       "           18345885696w   + 201804742656w   + 1034631512064w\n",
       "         + \n",
       "                         20                 19                  18\n",
       "           3285633466368w   + 7245828587520w   + 11794015715328w\n",
       "         + \n",
       "                          17                  16                  15\n",
       "           14705111236608w   + 14392584880128w   + 11248017481728w\n",
       "         + \n",
       "                         14                 13                 12\n",
       "           7106910658560w   + 3664870060032w   + 1553671950336w\n",
       "         + \n",
       "                        11                10               9              8\n",
       "           544159248384w   + 157668409344w   + 37615263744w  + 7285383168w\n",
       "         + \n",
       "                      7             6            5          4         3\n",
       "           1114865664w  + 128901120w  + 10481664w  + 528384w  + 12288w\n",
       "      *\n",
       "         t\n",
       "     + \n",
       "                   23                22                 21                 20\n",
       "       18345885696w   + 201422536704w   + 1030427246592w   + 3264142344192w\n",
       "     + \n",
       "                     19                  18                  17\n",
       "       7178014900224w   + 11646005796864w   + 14467760013312w\n",
       "     + \n",
       "                      16                  15                 14\n",
       "       14102539278336w   + 10971419618304w   + 6897670239744w\n",
       "     + \n",
       "                     13                 12                11                10\n",
       "       3537815786496w   + 1491187528704w   + 519099757056w   + 149437154304w\n",
       "     + \n",
       "                   9              8              7             6           5\n",
       "       35401691136w  + 6802421760w  + 1031325696w  + 117929472w  + 9464832w\n",
       "     + \n",
       "              4         3\n",
       "       470016w  + 10752w\n",
       "     ,\n",
       "    b1 + y + z - t - w}\n",
       "Type: Union(WuWenTsunTriangularSet(Integer,IndexedExponents(OrderedVariableList([b1,x,y,z,t,v,u,w])),OrderedVariableList([b1,x,y,z,t,v,u,w]),NewSparseMultivariatePolynomial(Integer,OrderedVariableList([b1,x,y,z,t,v,u,w]))),...)\n"
      ]
     },
     "execution_count": 26,
     "metadata": {},
     "output_type": "execute_result"
    }
   ],
   "source": [
    "characteristicSet(lp)$T"
   ]
  },
  {
   "cell_type": "code",
   "execution_count": 27,
   "metadata": {
    "collapsed": false
   },
   "outputs": [
    {
     "name": "stdout",
     "output_type": "stream",
     "text": [
      "\n",
      "\n",
      "\n",
      "\n",
      "\n",
      "\n",
      "\n",
      "\n",
      "\n",
      "\n",
      "\n",
      "\n",
      "\n",
      "\n",
      "\n",
      "\n",
      "\n",
      "\n",
      "\n",
      "\n",
      "\n",
      "\n",
      "      \n",
      "\n",
      "\n",
      "\n",
      "                                                                                                                  \n",
      "      \n",
      "                                                                                                                      \n",
      "\n",
      "\n"
     ]
    },
    {
     "data": {
      "text/plain": [
       "                       4      3      2\n",
       "   [{w + 1,u,v,8t + 24w  + 36w  + 26w  + 7w + 1,z,b1 + y + z - t - w},\n",
       "\n",
       "                        4      3      2\n",
       "     {w + 1, u, 8t + 24w  + 36w  + 26w  + 7w + 1, z,\n",
       "                             2\n",
       "      2v y + 2u z + 2w t - 2w  - w - 1, b1 + y + z - t - w}\n",
       "     ,\n",
       "\n",
       "                    2          4      3      2               2     2\n",
       "     {w + 1, u v - u , 8t + 24w  + 36w  + 26w  + 7w + 1, z, u y + u z,\n",
       "      b1 + y + z - t - w}\n",
       "     ,\n",
       "                       4      3      2\n",
       "    {w + 1,u,v,8t + 24w  + 36w  + 26w  + 7w + 1,b1 + y + z - t - w},\n",
       "\n",
       "                        4      3      2\n",
       "     {w + 1, u, 8t + 24w  + 36w  + 26w  + 7w + 1,\n",
       "                             2\n",
       "      2v y + 2u z + 2w t - 2w  - w - 1,\n",
       "                    2                3     2\n",
       "      6v z x + (- 6w  - 3w - 1)t + 6w  + 6w  + 4w, b1 + y + z - t - w}\n",
       "     ,\n",
       "\n",
       "                    2          4      3      2            2     2    2\n",
       "     {w + 1, u v - u , 8t + 24w  + 36w  + 26w  + 7w + 1, u y + u z, u z x,\n",
       "      b1 + y + z - t - w}\n",
       "     ,\n",
       "                       4      3      2\n",
       "    {w + 1,u,v,8t + 24w  + 36w  + 26w  + 7w + 1,b1 + y + z - t - w},\n",
       "\n",
       "                        4      3      2                           2\n",
       "     {w + 1, v, 8t + 24w  + 36w  + 26w  + 7w + 1, 2u z + 2w t - 2w  - w - 1,\n",
       "      b1 + y + z - t - w}\n",
       "     ,\n",
       "\n",
       "                     4      3      2                   2\n",
       "     {w + 1, 8t + 24w  + 36w  + 26w  + 7w + 1, (u v - u )z,\n",
       "                             2\n",
       "      2v y + 2u z + 2w t - 2w  - w - 1, b1 + y + z - t - w}\n",
       "     ,\n",
       "\n",
       "     {\n",
       "              10         9         8         7        6       5       4       3\n",
       "         3456w   + 12960w  + 19872w  + 15912w  + 6732w  + 996w  - 337w  - 167w\n",
       "       + \n",
       "              2\n",
       "         - 23w  - w\n",
       "       ,\n",
       "          3      2                  6       5       4      3      2\n",
       "      (12w  + 21w  + 10w + 1)u - 72w  - 180w  - 150w  - 51w  - 12w  - 3w,\n",
       "          3      2                  5      4      3      2\n",
       "      (12w  + 21w  + 10w + 1)v + 36w  + 90w  + 72w  + 18w ,\n",
       "          3      2             4      3      2\n",
       "      (24w  + 24w  + 8w)t - 24w  - 36w  - 26w  - 7w - 1,\n",
       "\n",
       "                   9          8          7          6          5          4\n",
       "             82944w  + 323568w  + 536868w  + 501804w  + 291411w  + 106080w\n",
       "           + \n",
       "                   3        2\n",
       "             22458w  + 2316w  + 87w\n",
       "        *\n",
       "           z\n",
       "       + \n",
       "                         10          9          8          7          6\n",
       "                 - 20736w   - 108864w  - 242352w  - 297756w  - 220104w\n",
       "               + \n",
       "                          5         4        3       2\n",
       "                 - 100116w  - 27552w  - 4356w  - 360w  - 12w\n",
       "            *\n",
       "               v\n",
       "           + \n",
       "                     11          10          9          8          7          6\n",
       "             - 20736w   - 108864w   - 249264w  - 334044w  - 300888w  - 199368w\n",
       "           + \n",
       "                      5         4        3        2\n",
       "             - 100920w  - 37728w  - 9544w  - 1464w  - 120w - 4\n",
       "        *\n",
       "           t\n",
       "       + \n",
       "                   11          10          9          8          7          6\n",
       "             20736w   + 119232w   + 307152w  + 473364w  + 490158w  + 359046w\n",
       "           + \n",
       "                    5         4         3        2\n",
       "             187662w  + 68190w  + 16314w  + 2370w  + 186w + 6\n",
       "        *\n",
       "           v\n",
       "       + \n",
       "               12          11          10          9          8          7\n",
       "         20736w   + 129600w   + 378864w   + 685260w  + 840996w  + 717228w\n",
       "       + \n",
       "                6          5         4        3       2\n",
       "         421140w  + 165396w  + 41452w  + 6180w  + 492w  + 16w\n",
       "       ,\n",
       "\n",
       "             5       4       3      2           3      2\n",
       "         (72w  + 180w  + 144w  + 36w )y + (- 24w  - 42w  - 20w - 2)u z\n",
       "       + \n",
       "               4      3      2             5      4      3      2\n",
       "         (- 24w  - 42w  - 20w  - 2w)t + 24w  + 54w  + 53w  + 33w  + 11w + 1\n",
       "       ,\n",
       "\n",
       "                       9             8              7              6\n",
       "             177732288w  + 719015472w  + 1232091096w  + 1173573804w\n",
       "           + \n",
       "                       5             4            3           2\n",
       "             679584244w  + 241504763w  + 49510061w  + 5012029w  + 188379w\n",
       "        *\n",
       "           x\n",
       "       + \n",
       "                         23                22                 21\n",
       "             18345885696w   + 201804742656w   + 1034631512064w\n",
       "           + \n",
       "                           20                 19                  18\n",
       "             3285633466368w   + 7245828587520w   + 11794015715328w\n",
       "           + \n",
       "                            17                  16                  15\n",
       "             14705111236608w   + 14392584880128w   + 11248017481728w\n",
       "           + \n",
       "                           14                 13                 12\n",
       "             7106910658560w   + 3664870060032w   + 1553671950336w\n",
       "           + \n",
       "                          11                10               9              8\n",
       "             544159248384w   + 157668409344w   + 37615263744w  + 7285383168w\n",
       "           + \n",
       "                        7             6            5          4         3\n",
       "             1114865664w  + 128901120w  + 10481664w  + 528384w  + 12288w\n",
       "        *\n",
       "           t\n",
       "       + \n",
       "                     23                22                 21                 20\n",
       "         18345885696w   + 201422536704w   + 1030427246592w   + 3264142344192w\n",
       "       + \n",
       "                       19                  18                  17\n",
       "         7178014900224w   + 11646005796864w   + 14467760013312w\n",
       "       + \n",
       "                        16                  15                 14\n",
       "         14102539278336w   + 10971419618304w   + 6897670239744w\n",
       "       + \n",
       "                       13                 12                11                10\n",
       "         3537815786496w   + 1491187528704w   + 519099757056w   + 149437154304w\n",
       "       + \n",
       "                     9              8              7             6           5\n",
       "         35401691136w  + 6802421760w  + 1031325696w  + 117929472w  + 9464832w\n",
       "       + \n",
       "                4         3\n",
       "         470016w  + 10752w\n",
       "       ,\n",
       "      b1 + y + z - t - w}\n",
       "     ]\n",
       "Type: List(WuWenTsunTriangularSet(Integer,IndexedExponents(OrderedVariableList([b1,x,y,z,t,v,u,w])),OrderedVariableList([b1,x,y,z,t,v,u,w]),NewSparseMultivariatePolynomial(Integer,OrderedVariableList([b1,x,y,z,t,v,u,w]))))\n"
      ]
     },
     "execution_count": 27,
     "metadata": {},
     "output_type": "execute_result"
    }
   ],
   "source": [
    "characteristicSerie(lp)$T"
   ]
  },
  {
   "cell_type": "code",
   "execution_count": 28,
   "metadata": {
    "collapsed": false
   },
   "outputs": [
    {
     "name": "stdout",
     "output_type": "stream",
     "text": [
      "\n",
      "\n",
      "\n",
      "\n",
      "\n",
      "\n",
      "\n",
      "\n",
      "\n",
      "\n",
      "      \n",
      "\n",
      "\n",
      "\n",
      "                                                                                                                  \n",
      "      \n",
      "                                                                                                                      \n",
      "\n",
      "\n"
     ]
    },
    {
     "data": {
      "text/plain": [
       "                       4      3      2\n",
       "   [{w + 1,u,v,8t + 24w  + 36w  + 26w  + 7w + 1,z,b1 + y + z - t - w},\n",
       "                       4      3      2\n",
       "    {w + 1,u,v,8t + 24w  + 36w  + 26w  + 7w + 1,b1 + y + z - t - w},\n",
       "                     4      3      2\n",
       "    {w + 1,u,8t + 24w  + 36w  + 26w  + 7w + 1,z,v y,b1 + y + z - t - w},\n",
       "                     4      3      2\n",
       "    {w + 1,u,8t + 24w  + 36w  + 26w  + 7w + 1,v y,v z x,b1 + y + z - t - w},\n",
       "                     4      3      2\n",
       "    {w + 1,v,8t + 24w  + 36w  + 26w  + 7w + 1,u z,b1 + y + z - t - w},\n",
       "                  2         4      3      2\n",
       "    {w + 1,u v - u ,8t + 24w  + 36w  + 26w  + 7w + 1,z,u y,b1 + y + z - t - w},\n",
       "\n",
       "                    2          4      3      2\n",
       "     {w + 1, u v - u , 8t + 24w  + 36w  + 26w  + 7w + 1, u y + u z, u z x,\n",
       "      b1 + y + z - t - w}\n",
       "     ,\n",
       "                   4      3      2                  2\n",
       "    {w + 1,8t + 24w  + 36w  + 26w  + 7w + 1,(u v - u )z,v y,b1 + y + z - t - w},\n",
       "\n",
       "     {\n",
       "              10         9         8         7        6       5       4       3\n",
       "         3456w   + 12960w  + 19872w  + 15912w  + 6732w  + 996w  - 337w  - 167w\n",
       "       + \n",
       "              2\n",
       "         - 23w  - w\n",
       "       ,\n",
       "          3      2                  6       5       4      3      2\n",
       "      (12w  + 21w  + 10w + 1)u - 72w  - 180w  - 150w  - 51w  - 12w  - 3w,\n",
       "          3      2                  5      4      3      2\n",
       "      (12w  + 21w  + 10w + 1)v + 36w  + 90w  + 72w  + 18w ,\n",
       "          3      2             4      3      2\n",
       "      (24w  + 24w  + 8w)t - 24w  - 36w  - 26w  - 7w - 1,\n",
       "\n",
       "                   9          8          7          6          5          4\n",
       "             82944w  + 323568w  + 536868w  + 501804w  + 291411w  + 106080w\n",
       "           + \n",
       "                   3        2\n",
       "             22458w  + 2316w  + 87w\n",
       "        *\n",
       "           z\n",
       "       + \n",
       "                         10          9          8          7          6\n",
       "                 - 20736w   - 108864w  - 242352w  - 297756w  - 220104w\n",
       "               + \n",
       "                          5         4        3       2\n",
       "                 - 100116w  - 27552w  - 4356w  - 360w  - 12w\n",
       "            *\n",
       "               v\n",
       "           + \n",
       "                     11          10          9          8          7          6\n",
       "             - 20736w   - 108864w   - 249264w  - 334044w  - 300888w  - 199368w\n",
       "           + \n",
       "                      5         4        3        2\n",
       "             - 100920w  - 37728w  - 9544w  - 1464w  - 120w - 4\n",
       "        *\n",
       "           t\n",
       "       + \n",
       "                   11          10          9          8          7          6\n",
       "             20736w   + 119232w   + 307152w  + 473364w  + 490158w  + 359046w\n",
       "           + \n",
       "                    5         4         3        2\n",
       "             187662w  + 68190w  + 16314w  + 2370w  + 186w + 6\n",
       "        *\n",
       "           v\n",
       "       + \n",
       "               12          11          10          9          8          7\n",
       "         20736w   + 129600w   + 378864w   + 685260w  + 840996w  + 717228w\n",
       "       + \n",
       "                6          5         4        3       2\n",
       "         421140w  + 165396w  + 41452w  + 6180w  + 492w  + 16w\n",
       "       ,\n",
       "\n",
       "             5       4       3      2           3      2\n",
       "         (72w  + 180w  + 144w  + 36w )y + (- 24w  - 42w  - 20w - 2)u z\n",
       "       + \n",
       "               4      3      2             5      4      3      2\n",
       "         (- 24w  - 42w  - 20w  - 2w)t + 24w  + 54w  + 53w  + 33w  + 11w + 1\n",
       "       ,\n",
       "\n",
       "                       9             8              7              6\n",
       "             177732288w  + 719015472w  + 1232091096w  + 1173573804w\n",
       "           + \n",
       "                       5             4            3           2\n",
       "             679584244w  + 241504763w  + 49510061w  + 5012029w  + 188379w\n",
       "        *\n",
       "           x\n",
       "       + \n",
       "                         23                22                 21\n",
       "             18345885696w   + 201804742656w   + 1034631512064w\n",
       "           + \n",
       "                           20                 19                  18\n",
       "             3285633466368w   + 7245828587520w   + 11794015715328w\n",
       "           + \n",
       "                            17                  16                  15\n",
       "             14705111236608w   + 14392584880128w   + 11248017481728w\n",
       "           + \n",
       "                           14                 13                 12\n",
       "             7106910658560w   + 3664870060032w   + 1553671950336w\n",
       "           + \n",
       "                          11                10               9              8\n",
       "             544159248384w   + 157668409344w   + 37615263744w  + 7285383168w\n",
       "           + \n",
       "                        7             6            5          4         3\n",
       "             1114865664w  + 128901120w  + 10481664w  + 528384w  + 12288w\n",
       "        *\n",
       "           t\n",
       "       + \n",
       "                     23                22                 21                 20\n",
       "         18345885696w   + 201422536704w   + 1030427246592w   + 3264142344192w\n",
       "       + \n",
       "                       19                  18                  17\n",
       "         7178014900224w   + 11646005796864w   + 14467760013312w\n",
       "       + \n",
       "                        16                  15                 14\n",
       "         14102539278336w   + 10971419618304w   + 6897670239744w\n",
       "       + \n",
       "                       13                 12                11                10\n",
       "         3537815786496w   + 1491187528704w   + 519099757056w   + 149437154304w\n",
       "       + \n",
       "                     9              8              7             6           5\n",
       "         35401691136w  + 6802421760w  + 1031325696w  + 117929472w  + 9464832w\n",
       "       + \n",
       "                4         3\n",
       "         470016w  + 10752w\n",
       "       ,\n",
       "      b1 + y + z - t - w}\n",
       "     ]\n",
       "Type: List(WuWenTsunTriangularSet(Integer,IndexedExponents(OrderedVariableList([b1,x,y,z,t,v,u,w])),OrderedVariableList([b1,x,y,z,t,v,u,w]),NewSparseMultivariatePolynomial(Integer,OrderedVariableList([b1,x,y,z,t,v,u,w]))))\n"
      ]
     },
     "execution_count": 28,
     "metadata": {},
     "output_type": "execute_result"
    }
   ],
   "source": [
    "zeroSetSplit(lp)$T"
   ]
  },
  {
   "cell_type": "code",
   "execution_count": 29,
   "metadata": {
    "collapsed": false
   },
   "outputs": [
    {
     "data": {
      "text/plain": [
       "  RegularTriangularSet(Integer,IndexedExponents(OrderedVariableList([b1,x,y,z,t\n",
       "  ,v,u,w])),OrderedVariableList([b1,x,y,z,t,v,u,w]),NewSparseMultivariatePolyno\n",
       "  mial(Integer,OrderedVariableList([b1,x,y,z,t,v,u,w])))\n",
       "                                                                   Type: Type\n"
      ]
     },
     "execution_count": 29,
     "metadata": {},
     "output_type": "execute_result"
    }
   ],
   "source": [
    "T := REGSET(R,E,V,P)"
   ]
  },
  {
   "cell_type": "code",
   "execution_count": 30,
   "metadata": {
    "collapsed": false
   },
   "outputs": [
    {
     "name": "stdout",
     "output_type": "stream",
     "text": [
      "\n",
      "\n",
      "\n",
      "\n",
      "\n",
      "\n",
      "\n",
      "      \n",
      "\n",
      "\n",
      "\n"
     ]
    },
    {
     "data": {
      "text/plain": [
       "   [{w + 1,u,v,t + 1,b1 + y + z + 2}, {w + 1,v,t + 1,z,b1 + y + 2},\n",
       "    {w + 1,t + 1,z,y,b1 + 2}, {w + 1,v - u,t + 1,y + z,x,b1 + 2},\n",
       "    {w + 1,u,t + 1,y,x,b1 + z + 2},\n",
       "\n",
       "          5       4      3     2\n",
       "     {144w  + 216w  + 96w  + 6w  - 11w - 1,\n",
       "          2                 5       4      3     2\n",
       "      (12w  + 9w + 1)u - 72w  - 108w  - 42w  - 9w  - 3w,\n",
       "          2                 4      3      2\n",
       "      (12w  + 9w + 1)v + 36w  + 54w  + 18w ,\n",
       "          3      2             4      3      2\n",
       "      (24w  + 24w  + 8w)t - 24w  - 36w  - 26w  - 7w - 1,\n",
       "\n",
       "                     2                 2                        4      3     2\n",
       "         (12u v - 12u )z + (12w v + 12w  + 4)t + (3w - 5)v + 36w  + 42w  + 6w\n",
       "       + \n",
       "         - 16w\n",
       "       ,\n",
       "                             2\n",
       "      2v y + 2u z + 2w t - 2w  - w - 1,\n",
       "                    2                3     2\n",
       "      6v z x + (- 6w  - 3w - 1)t + 6w  + 6w  + 4w, b1 + y + z - t - w}\n",
       "     ]\n",
       "Type: List(RegularTriangularSet(Integer,IndexedExponents(OrderedVariableList([b1,x,y,z,t,v,u,w])),OrderedVariableList([b1,x,y,z,t,v,u,w]),NewSparseMultivariatePolynomial(Integer,OrderedVariableList([b1,x,y,z,t,v,u,w]))))\n"
      ]
     },
     "execution_count": 30,
     "metadata": {},
     "output_type": "execute_result"
    }
   ],
   "source": [
    "zeroSetSplit(lp)$T"
   ]
  },
  {
   "cell_type": "code",
   "execution_count": 31,
   "metadata": {
    "collapsed": false
   },
   "outputs": [
    {
     "data": {
      "text/plain": [
       "  SquareFreeRegularTriangularSet(Integer,IndexedExponents(OrderedVariableList([\n",
       "  b1,x,y,z,t,v,u,w])),OrderedVariableList([b1,x,y,z,t,v,u,w]),NewSparseMultivar\n",
       "  iatePolynomial(Integer,OrderedVariableList([b1,x,y,z,t,v,u,w])))\n",
       "                                                                   Type: Type\n"
      ]
     },
     "execution_count": 31,
     "metadata": {},
     "output_type": "execute_result"
    }
   ],
   "source": [
    "ST := SREGSET(R,E,V,P)"
   ]
  },
  {
   "cell_type": "code",
   "execution_count": 32,
   "metadata": {
    "collapsed": false
   },
   "outputs": [
    {
     "name": "stdout",
     "output_type": "stream",
     "text": [
      "\n",
      "\n",
      "\n",
      "\n",
      "\n",
      "\n",
      "\n",
      "      \n",
      "\n",
      "\n",
      "\n"
     ]
    },
    {
     "data": {
      "text/plain": [
       "   [{w + 1,u,v,t + 1,b1 + y + z + 2}, {w + 1,v,t + 1,z,b1 + y + 2},\n",
       "    {w + 1,t + 1,z,y,b1 + 2}, {w + 1,v - u,t + 1,y + z,x,b1 + 2},\n",
       "    {w + 1,u,t + 1,y,x,b1 + z + 2},\n",
       "\n",
       "          5       4      3     2\n",
       "     {144w  + 216w  + 96w  + 6w  - 11w - 1,\n",
       "          2                  3      2\n",
       "      (24w  + 18w + 2)u + 12w  - 12w  - 17w - 1,\n",
       "          2                 4      3      2\n",
       "      (12w  + 9w + 1)v + 36w  + 54w  + 18w ,\n",
       "          3      2             4      3      2\n",
       "      (24w  + 24w  + 8w)t - 24w  - 36w  - 26w  - 7w - 1,\n",
       "\n",
       "                     2                 2                        4      3     2\n",
       "         (12u v - 12u )z + (12w v + 12w  + 4)t + (3w - 5)v + 36w  + 42w  + 6w\n",
       "       + \n",
       "         - 16w\n",
       "       ,\n",
       "                             2\n",
       "      2v y + 2u z + 2w t - 2w  - w - 1,\n",
       "                    2                3     2\n",
       "      6v z x + (- 6w  - 3w - 1)t + 6w  + 6w  + 4w, b1 + y + z - t - w}\n",
       "     ]\n",
       "Type: List(SquareFreeRegularTriangularSet(Integer,IndexedExponents(OrderedVariableList([b1,x,y,z,t,v,u,w])),OrderedVariableList([b1,x,y,z,t,v,u,w]),NewSparseMultivariatePolynomial(Integer,OrderedVariableList([b1,x,y,z,t,v,u,w]))))\n"
      ]
     },
     "execution_count": 32,
     "metadata": {},
     "output_type": "execute_result"
    }
   ],
   "source": [
    "zeroSetSplit(lp)$ST"
   ]
  },
  {
   "cell_type": "code",
   "execution_count": 33,
   "metadata": {
    "collapsed": false
   },
   "outputs": [
    {
     "data": {
      "text/plain": [
       "                                                                   Type: Type\n"
      ]
     },
     "execution_count": 33,
     "metadata": {},
     "output_type": "execute_result"
    }
   ],
   "source": [
    "lmpack := LAZM3PK(R,E,V,P,T,ST);"
   ]
  },
  {
   "cell_type": "code",
   "execution_count": 34,
   "metadata": {
    "collapsed": false
   },
   "outputs": [
    {
     "name": "stdout",
     "output_type": "stream",
     "text": [
      "\n",
      "\n",
      "\n",
      "\n",
      "\n",
      "\n",
      "\n",
      "\n",
      "\n",
      "\n"
     ]
    },
    {
     "data": {
      "text/plain": [
       "   [{w + 1,t + 1,z,y,b1 + 2}, {w + 1,v,t + 1,z,b1 + y + 2},\n",
       "    {w + 1,u,v,t + 1,b1 + y + z + 2}, {w + 1,v - u,t + 1,y + z,x,b1 + 2},\n",
       "    {w + 1,u,t + 1,y,x,b1 + z + 2},\n",
       "\n",
       "          5       4      3     2                   4      3      2\n",
       "     {144w  + 216w  + 96w  + 6w  - 11w - 1, u - 24w  - 36w  - 14w  + w + 1,\n",
       "              4      3      2                  4      3      2\n",
       "      3v - 48w  - 60w  - 10w  + 8w + 2, t - 24w  - 36w  - 14w  - w + 1,\n",
       "                  4        3        2\n",
       "      486z - 2772w  - 4662w  - 2055w  + 30w + 127,\n",
       "                    4         3        2\n",
       "      2916y - 22752w  - 30312w  - 8220w  + 2064w + 1561,\n",
       "                  4        3       2\n",
       "      356x - 3696w  - 4536w  - 968w  + 822w + 371,\n",
       "                     4         3         2\n",
       "      2916b1 - 30600w  - 46692w  - 20274w  - 8076w + 593}\n",
       "     ]\n",
       "Type: List(SquareFreeRegularTriangularSet(Integer,IndexedExponents(OrderedVariableList([b1,x,y,z,t,v,u,w])),OrderedVariableList([b1,x,y,z,t,v,u,w]),NewSparseMultivariatePolynomial(Integer,OrderedVariableList([b1,x,y,z,t,v,u,w]))))\n"
      ]
     },
     "execution_count": 34,
     "metadata": {},
     "output_type": "execute_result"
    }
   ],
   "source": [
    "zeroSetSplit(lp,false)$lmpack"
   ]
  },
  {
   "cell_type": "code",
   "execution_count": 35,
   "metadata": {
    "collapsed": false
   },
   "outputs": [
    {
     "data": {
      "text/plain": []
     },
     "execution_count": 35,
     "metadata": {},
     "output_type": "execute_result"
    }
   ],
   "source": [
    "--\n",
    "-- EOF\n",
    "--"
   ]
  }
 ],
 "metadata": {
  "kernelspec": {
   "display_name": "FriCAS",
   "language": "spad",
   "name": "ifricas"
  },
  "language_info": {
   "codemirror_mode": "spad",
   "mimetype": "text/x-spad",
   "name": "SPAD",
   "pygments_lexer": "spad",
   "version": "1.2.6"
  },
  "name": "tsetcatbutcher.ipynb"
 },
 "nbformat": 4,
 "nbformat_minor": 0
}