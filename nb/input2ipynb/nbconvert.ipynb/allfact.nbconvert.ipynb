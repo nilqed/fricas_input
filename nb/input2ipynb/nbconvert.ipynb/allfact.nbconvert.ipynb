{
 "cells": [
  {
   "cell_type": "markdown",
   "metadata": {},
   "source": [
    "Copyright The Numerical Algorithms Group Limited 1991.\n"
   ]
  },
  {
   "cell_type": "code",
   "execution_count": 0,
   "metadata": {
    "collapsed": false
   },
   "outputs": [
    {
     "name": "stdout",
     "output_type": "stream",
     "text": [
      "   All user variables and function definitions have been cleared.\n"
     ]
    },
    {
     "data": {
      "text/plain": []
     },
     "execution_count": 0,
     "metadata": {},
     "output_type": "execute_result"
    }
   ],
   "source": [
    ")cl all"
   ]
  },
  {
   "cell_type": "markdown",
   "metadata": {},
   "source": [
    "  Examples of all the factor functions in the system.\n"
   ]
  },
  {
   "cell_type": "markdown",
   "metadata": {},
   "source": [
    " factorization of integer numbers\n"
   ]
  },
  {
   "cell_type": "code",
   "execution_count": 1,
   "metadata": {
    "collapsed": false
   },
   "outputs": [
    {
     "data": {
      "text/plain": [
       "   45234258258293\n",
       "                                                        Type: PositiveInteger\n"
      ]
     },
     "execution_count": 1,
     "metadata": {},
     "output_type": "execute_result"
    }
   ],
   "source": [
    "n:=45234258258293"
   ]
  },
  {
   "cell_type": "code",
   "execution_count": 2,
   "metadata": {
    "collapsed": false
   },
   "outputs": [
    {
     "name": "stdout",
     "output_type": "stream",
     "text": [
      "Warning: HyperTeX macro table not found\n"
     ]
    },
    {
     "data": {
      "text/plain": [
       "   13 19 269 8387 81173\n",
       "                                                      Type: Factored(Integer)\n"
      ]
     },
     "execution_count": 2,
     "metadata": {},
     "output_type": "execute_result"
    }
   ],
   "source": [
    "factor n"
   ]
  },
  {
   "cell_type": "markdown",
   "metadata": {},
   "source": [
    " factorization of gaussian integers\n"
   ]
  },
  {
   "cell_type": "code",
   "execution_count": 3,
   "metadata": {
    "collapsed": false
   },
   "outputs": [
    {
     "data": {
      "text/plain": [
       "   1324567 + 53523582%i\n",
       "                                                       Type: Complex(Integer)\n"
      ]
     },
     "execution_count": 3,
     "metadata": {},
     "output_type": "execute_result"
    }
   ],
   "source": [
    "m:(Complex Integer) := 1324567+%i*53523582"
   ]
  },
  {
   "cell_type": "code",
   "execution_count": 4,
   "metadata": {
    "collapsed": false
   },
   "outputs": [
    {
     "data": {
      "text/plain": [
       "   (2 + 7%i)(7119136 + 1844815%i)\n",
       "                                             Type: Factored(Complex(Integer))\n"
      ]
     },
     "execution_count": 4,
     "metadata": {},
     "output_type": "execute_result"
    }
   ],
   "source": [
    "factor m"
   ]
  },
  {
   "cell_type": "markdown",
   "metadata": {},
   "source": [
    " factorization of polynomials over finite fields\n"
   ]
  },
  {
   "cell_type": "code",
   "execution_count": 5,
   "metadata": {
    "collapsed": false
   },
   "outputs": [
    {
     "data": {
      "text/plain": [
       "     4     2\n",
       "   3x  + 2x  + 15x + 18\n",
       "                                 Type: UnivariatePolynomial(x,PrimeField(19))\n"
      ]
     },
     "execution_count": 5,
     "metadata": {},
     "output_type": "execute_result"
    }
   ],
   "source": [
    "u:UP(x,PF(19)) :=3*x^4+2*x^2+15*x+18"
   ]
  },
  {
   "cell_type": "code",
   "execution_count": 6,
   "metadata": {
    "collapsed": false
   },
   "outputs": [
    {
     "data": {
      "text/plain": [
       "      3    2\n",
       "   3(x  + x  + 8x + 13)(x + 18)\n",
       "                       Type: Factored(UnivariatePolynomial(x,PrimeField(19)))\n"
      ]
     },
     "execution_count": 6,
     "metadata": {},
     "output_type": "execute_result"
    }
   ],
   "source": [
    "factor u"
   ]
  },
  {
   "cell_type": "markdown",
   "metadata": {},
   "source": [
    " factorization of polynomials over the integers\n"
   ]
  },
  {
   "cell_type": "code",
   "execution_count": 7,
   "metadata": {
    "collapsed": false
   },
   "outputs": [
    {
     "data": {
      "text/plain": [
       "      8      7     6      5      3      2\n",
       "   48x  + 24x  - 4x  + 10x  + 47x  + 24x  + 12\n",
       "                                        Type: UnivariatePolynomial(x,Integer)\n"
      ]
     },
     "execution_count": 7,
     "metadata": {},
     "output_type": "execute_result"
    }
   ],
   "source": [
    "v:UP(x,INT):= (4*x^3+2*x^2+1)*(12*x^5-x^3+12)"
   ]
  },
  {
   "cell_type": "code",
   "execution_count": 8,
   "metadata": {
    "collapsed": false
   },
   "outputs": [
    {
     "data": {
      "text/plain": [
       "      3     2         5    3\n",
       "   (4x  + 2x  + 1)(12x  - x  + 12)\n",
       "                              Type: Factored(UnivariatePolynomial(x,Integer))\n"
      ]
     },
     "execution_count": 8,
     "metadata": {},
     "output_type": "execute_result"
    }
   ],
   "source": [
    "factor v"
   ]
  },
  {
   "cell_type": "markdown",
   "metadata": {},
   "source": [
    " factorization of multivariate polynomial over the integers\n"
   ]
  },
  {
   "cell_type": "code",
   "execution_count": 9,
   "metadata": {
    "collapsed": false
   },
   "outputs": [
    {
     "data": {
      "text/plain": [
       "              4      5       4     3 3     3 2    5      5\n",
       "   (z y + 3z)x  - z y  - 3z y  - 2z y  - 6z y  - z y - 3z\n",
       "                                Type: MultivariatePolynomial([x,y,z],Integer)\n"
      ]
     },
     "execution_count": 9,
     "metadata": {},
     "output_type": "execute_result"
    }
   ],
   "source": [
    "w:MPOLY([x,y,z],INT) :=(x^2-y^2-z^2)*(x^2+y^2+z^2)*(z*y+3*z)"
   ]
  },
  {
   "cell_type": "code",
   "execution_count": 10,
   "metadata": {
    "collapsed": false
   },
   "outputs": [
    {
     "data": {
      "text/plain": [
       "             2    2    2   2    2    2\n",
       "   z(y + 3)(x  - y  - z )(x  + y  + z )\n",
       "                      Type: Factored(MultivariatePolynomial([x,y,z],Integer))\n"
      ]
     },
     "execution_count": 10,
     "metadata": {},
     "output_type": "execute_result"
    }
   ],
   "source": [
    "factor w"
   ]
  },
  {
   "cell_type": "markdown",
   "metadata": {},
   "source": [
    " factorization of univariate and multivariate over the rational numbers\n"
   ]
  },
  {
   "cell_type": "code",
   "execution_count": 11,
   "metadata": {
    "collapsed": false
   },
   "outputs": [
    {
     "data": {
      "text/plain": [
       "    4   5    1   3   500  2   125\n",
       "   --- x  - --- x  + --- x  - ---\n",
       "   243      432       9        16\n",
       "                      Type: MultivariatePolynomial([x,y,z],Fraction(Integer))\n"
      ]
     },
     "execution_count": 11,
     "metadata": {},
     "output_type": "execute_result"
    }
   ],
   "source": [
    "f:MPOLY([x,y,z],FRAC INT) :=(4/9*x^2-1/16)*(x^3/27+125)"
   ]
  },
  {
   "cell_type": "code",
   "execution_count": 12,
   "metadata": {
    "collapsed": false
   },
   "outputs": [
    {
     "data": {
      "text/plain": [
       "    4       3      3           2\n",
       "   --- (x - -)(x + -)(x + 15)(x  - 15x + 225)\n",
       "   243      8      8\n",
       "            Type: Factored(MultivariatePolynomial([x,y,z],Fraction(Integer)))\n"
      ]
     },
     "execution_count": 12,
     "metadata": {},
     "output_type": "execute_result"
    }
   ],
   "source": [
    "factor f"
   ]
  },
  {
   "cell_type": "markdown",
   "metadata": {},
   "source": [
    " factorization over rational functions\n"
   ]
  },
  {
   "cell_type": "code",
   "execution_count": 13,
   "metadata": {
    "collapsed": false
   },
   "outputs": [
    {
     "data": {
      "text/plain": [
       "    2       2\n",
       "   a   2   c   2\n",
       "   -- x  - -- y\n",
       "    2       2\n",
       "   b       d\n",
       " Type: DistributedMultivariatePolynomial([x,y],Fraction(Polynomial(Integer)))\n"
      ]
     },
     "execution_count": 13,
     "metadata": {},
     "output_type": "execute_result"
    }
   ],
   "source": [
    "g:DMP([x,y],FRAC POLY INT):=a^2*x^2/b^2 -c^2*y^2/d^2"
   ]
  },
  {
   "cell_type": "code",
   "execution_count": 14,
   "metadata": {
    "collapsed": false
   },
   "outputs": [
    {
     "data": {
      "text/plain": [
       "    2\n",
       "   a       b c        b c\n",
       "   -- (x - --- y)(x + --- y)\n",
       "    2      a d        a d\n",
       "   b\n",
       "Type: Factored(DistributedMultivariatePolynomial([x,y],Fraction(Polynomial(Integer))))\n"
      ]
     },
     "execution_count": 14,
     "metadata": {},
     "output_type": "execute_result"
    }
   ],
   "source": [
    "factor g"
   ]
  },
  {
   "cell_type": "markdown",
   "metadata": {},
   "source": [
    " decomposition of a rational function\n"
   ]
  },
  {
   "cell_type": "code",
   "execution_count": 15,
   "metadata": {
    "collapsed": false
   },
   "outputs": [
    {
     "data": {
      "text/plain": [
       "         3 4     4 3     4 2     4     4          3 3    4 3     4 2     4     4\n",
       "   (- a b c  + (a b  + 3a b  + 3a b + a )c)d - a b c  + a b  + 3a b  + 3a b + a\n",
       "   -----------------------------------------------------------------------------\n",
       "                                 6     5     4    3\n",
       "                               (b  + 3b  + 3b  + b )c\n",
       "                                          Type: Fraction(Polynomial(Integer))\n"
      ]
     },
     "execution_count": 15,
     "metadata": {},
     "output_type": "execute_result"
    }
   ],
   "source": [
    "r:FRAC POLY INT:= (a^3/b^3-c^3/(b+1)^3)*(a*d+a/c)"
   ]
  },
  {
   "cell_type": "code",
   "execution_count": 16,
   "metadata": {
    "collapsed": false
   },
   "outputs": [
    {
     "data": {
      "text/plain": [
       "                       2 2       2            2 2     2     2\n",
       "     a(b c - a b - a)(b c  + (a b  + a b)c + a b  + 2a b + a )(c d + 1)\n",
       "   - ------------------------------------------------------------------\n",
       "                                  3       3\n",
       "                                 b (b + 1) c\n",
       "                                Type: Fraction(Factored(Polynomial(Integer)))\n"
      ]
     },
     "execution_count": 16,
     "metadata": {},
     "output_type": "execute_result"
    }
   ],
   "source": [
    "factorFraction r"
   ]
  },
  {
   "cell_type": "markdown",
   "metadata": {},
   "source": [
    " factorization over simple algebraic extensions\n"
   ]
  },
  {
   "cell_type": "code",
   "execution_count": 17,
   "metadata": {
    "collapsed": false
   },
   "outputs": [
    {
     "name": "stdout",
     "output_type": "stream",
     "text": [
      "   Your statement has resulted in the following assignments and \n",
      "      declaration:\n",
      "\n",
      "   SAEaa := SimpleAlgebraicExtension(Fraction(Integer),UnivariatePolynomial(aa,Fraction(Integer)),aa^2+aa+1)\n",
      "   aa : SAEaa := aa\n"
     ]
    },
    {
     "data": {
      "text/plain": [
       "   aa\n",
       "Type: SimpleAlgebraicExtension(Fraction(Integer),UnivariatePolynomial(aa,Fraction(Integer)),aa^2+aa+1)\n"
      ]
     },
     "execution_count": 17,
     "metadata": {},
     "output_type": "execute_result"
    }
   ],
   "source": [
    "aa|aa^2+aa+1"
   ]
  },
  {
   "cell_type": "code",
   "execution_count": 18,
   "metadata": {
    "collapsed": false
   },
   "outputs": [
    {
     "name": "stdout",
     "output_type": "stream",
     "text": [
      "  "
     ]
    },
    {
     "data": {
      "text/plain": [
       "                7               6               5              4     3\n",
       "     (- aa - 1)x  + (- 2aa - 2)x  + (- 2aa - 3)x  + (- aa - 3)x  - 3x\n",
       "   + \n",
       "                2\n",
       "     (- aa - 3)x  + (- aa - 2)x - aa - 1\n",
       "Type: UnivariatePolynomial(x,SimpleAlgebraicExtension(Fraction(Integer),UnivariatePolynomial(aa,Fraction(Integer)),aa^2+aa+1))\n"
      ]
     },
     "execution_count": 18,
     "metadata": {},
     "output_type": "execute_result"
    }
   ],
   "source": [
    "p:UP(x,SAEaa) :=(x^3+aa^2*x+1)*(aa*x^2+aa*x+aa)^2"
   ]
  },
  {
   "cell_type": "code",
   "execution_count": 19,
   "metadata": {
    "collapsed": false
   },
   "outputs": [
    {
     "data": {
      "text/plain": [
       "                     2            2  3\n",
       "   (- aa - 1)(x - aa) (x + aa + 1) (x  + (- aa - 1)x + 1)\n",
       "Type: Factored(UnivariatePolynomial(x,SimpleAlgebraicExtension(Fraction(Integer),UnivariatePolynomial(aa,Fraction(Integer)),aa^2+aa+1)))\n"
      ]
     },
     "execution_count": 19,
     "metadata": {},
     "output_type": "execute_result"
    }
   ],
   "source": [
    "factor(p)"
   ]
  },
  {
   "cell_type": "markdown",
   "metadata": {},
   "source": [
    " factorization over algebraic numbers\n"
   ]
  },
  {
   "cell_type": "code",
   "execution_count": 20,
   "metadata": {
    "collapsed": false
   },
   "outputs": [
    {
     "data": {
      "text/plain": [
       "   a\n",
       "                                                        Type: AlgebraicNumber\n"
      ]
     },
     "execution_count": 20,
     "metadata": {},
     "output_type": "execute_result"
    }
   ],
   "source": [
    "a:=rootOf(a^2+3)$AN"
   ]
  },
  {
   "cell_type": "code",
   "execution_count": 21,
   "metadata": {
    "collapsed": false
   },
   "outputs": [
    {
     "data": {
      "text/plain": [
       "        - a + 1      a + 1\n",
       "   (x + -------)(x + -----)\n",
       "           2           2\n",
       "                                  Type: Factored(Polynomial(AlgebraicNumber))\n"
      ]
     },
     "execution_count": 21,
     "metadata": {},
     "output_type": "execute_result"
    }
   ],
   "source": [
    "factor(x^2+x+1,[a])"
   ]
  },
  {
   "cell_type": "code",
   "execution_count": 22,
   "metadata": {
    "collapsed": false
   },
   "outputs": [
    {
     "data": {
      "text/plain": []
     },
     "execution_count": 22,
     "metadata": {},
     "output_type": "execute_result"
    }
   ],
   "source": [
    "--\n",
    "-- EOF\n",
    "--"
   ]
  }
 ],
 "metadata": {
  "kernelspec": {
   "display_name": "FriCAS",
   "language": "spad",
   "name": "ifricas"
  },
  "language_info": {
   "codemirror_mode": "spad",
   "mimetype": "text/x-spad",
   "name": "SPAD",
   "pygments_lexer": "spad",
   "version": "1.2.6"
  },
  "name": "allfact.ipynb"
 },
 "nbformat": 4,
 "nbformat_minor": 0
}