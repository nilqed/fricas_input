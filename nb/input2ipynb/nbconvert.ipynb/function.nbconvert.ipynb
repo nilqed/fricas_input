{
 "cells": [
  {
   "cell_type": "markdown",
   "metadata": {},
   "source": [
    " Input for page RationalFunctionPage\n"
   ]
  },
  {
   "cell_type": "code",
   "execution_count": 0,
   "metadata": {
    "collapsed": false
   },
   "outputs": [
    {
     "name": "stdout",
     "output_type": "stream",
     "text": [
      "   All user variables and function definitions have been cleared.\n"
     ]
    },
    {
     "data": {
      "text/plain": []
     },
     "execution_count": 0,
     "metadata": {},
     "output_type": "execute_result"
    }
   ],
   "source": [
    ")clear all"
   ]
  },
  {
   "cell_type": "code",
   "execution_count": 1,
   "metadata": {
    "collapsed": false
   },
   "outputs": [
    {
     "name": "stdout",
     "output_type": "stream",
     "text": [
      "Warning: HyperTeX macro table not found\n"
     ]
    },
    {
     "data": {
      "text/plain": [
       "   - y + x\n",
       "   -------\n",
       "    y + x\n",
       "                                          Type: Fraction(Polynomial(Integer))\n"
      ]
     },
     "execution_count": 1,
     "metadata": {},
     "output_type": "execute_result"
    }
   ],
   "source": [
    "f := (x - y) / (x + y)"
   ]
  },
  {
   "cell_type": "code",
   "execution_count": 2,
   "metadata": {
    "collapsed": false
   },
   "outputs": [
    {
     "data": {
      "text/plain": [
       "   - y + x\n",
       "                                                    Type: Polynomial(Integer)\n"
      ]
     },
     "execution_count": 2,
     "metadata": {},
     "output_type": "execute_result"
    }
   ],
   "source": [
    "numer f"
   ]
  },
  {
   "cell_type": "code",
   "execution_count": 3,
   "metadata": {
    "collapsed": false
   },
   "outputs": [
    {
     "data": {
      "text/plain": [
       "   y + x\n",
       "                                                    Type: Polynomial(Integer)\n"
      ]
     },
     "execution_count": 3,
     "metadata": {},
     "output_type": "execute_result"
    }
   ],
   "source": [
    "denom f"
   ]
  },
  {
   "cell_type": "code",
   "execution_count": 4,
   "metadata": {
    "collapsed": false
   },
   "outputs": [
    {
     "data": {
      "text/plain": [
       "   - x y + 1\n",
       "   ---------\n",
       "    x y + 1\n",
       "                                          Type: Fraction(Polynomial(Integer))\n"
      ]
     },
     "execution_count": 4,
     "metadata": {},
     "output_type": "execute_result"
    }
   ],
   "source": [
    "eval(f, x = 1/x)"
   ]
  },
  {
   "cell_type": "code",
   "execution_count": 5,
   "metadata": {
    "collapsed": false
   },
   "outputs": [
    {
     "data": {
      "text/plain": [
       "   y - x\n",
       "   -----\n",
       "   y + x\n",
       "                                          Type: Fraction(Polynomial(Integer))\n"
      ]
     },
     "execution_count": 5,
     "metadata": {},
     "output_type": "execute_result"
    }
   ],
   "source": [
    "eval(f, [x = y, y = x])"
   ]
  },
  {
   "cell_type": "markdown",
   "metadata": {},
   "source": [
    " Input for page AlgebraicFunctionPage\n"
   ]
  },
  {
   "cell_type": "code",
   "execution_count": 6,
   "metadata": {
    "collapsed": false
   },
   "outputs": [
    {
     "name": "stdout",
     "output_type": "stream",
     "text": [
      "   All user variables and function definitions have been cleared.\n"
     ]
    },
    {
     "data": {
      "text/plain": []
     },
     "execution_count": 6,
     "metadata": {},
     "output_type": "execute_result"
    }
   ],
   "source": [
    ")clear all"
   ]
  },
  {
   "cell_type": "code",
   "execution_count": 7,
   "metadata": {
    "collapsed": false
   },
   "outputs": [
    {
     "data": {
      "text/plain": [
       "    +--------+\n",
       "    |3+-+\n",
       "   \\|\\|x  + 1\n",
       "                                                    Type: Expression(Integer)\n"
      ]
     },
     "execution_count": 7,
     "metadata": {},
     "output_type": "execute_result"
    }
   ],
   "source": [
    "f := sqrt(1 + x ^ (1/3))"
   ]
  },
  {
   "cell_type": "code",
   "execution_count": 8,
   "metadata": {
    "collapsed": false
   },
   "outputs": [
    {
     "data": {
      "text/plain": [
       "   y\n",
       "                                                    Type: Expression(Integer)\n"
      ]
     },
     "execution_count": 8,
     "metadata": {},
     "output_type": "execute_result"
    }
   ],
   "source": [
    "y := rootOf(y^3 + y^2 - x*y + x^3 - 1, y)"
   ]
  },
  {
   "cell_type": "code",
   "execution_count": 9,
   "metadata": {
    "collapsed": false
   },
   "outputs": [
    {
     "data": {
      "text/plain": [
       "            2\n",
       "      y - 3x\n",
       "   ------------\n",
       "     2\n",
       "   3y  + 2y - x\n",
       "                                                    Type: Expression(Integer)\n"
      ]
     },
     "execution_count": 9,
     "metadata": {},
     "output_type": "execute_result"
    }
   ],
   "source": [
    "differentiate(y, x)"
   ]
  },
  {
   "cell_type": "code",
   "execution_count": 10,
   "metadata": {
    "collapsed": false
   },
   "outputs": [
    {
     "data": {
      "text/plain": [
       "     2               3\n",
       "   2y  + (x + 3)y - x  + 2\n",
       "                                                    Type: Expression(Integer)\n"
      ]
     },
     "execution_count": 10,
     "metadata": {},
     "output_type": "execute_result"
    }
   ],
   "source": [
    "(y + 1) ^ 3"
   ]
  },
  {
   "cell_type": "code",
   "execution_count": 11,
   "metadata": {
    "collapsed": false
   },
   "outputs": [
    {
     "data": {
      "text/plain": [
       "        1\n",
       "   -----------\n",
       "    +--------+\n",
       "    |3+-+\n",
       "   \\|\\|x  + 1\n",
       "                                                    Type: Expression(Integer)\n"
      ]
     },
     "execution_count": 11,
     "metadata": {},
     "output_type": "execute_result"
    }
   ],
   "source": [
    "g := inv f"
   ]
  },
  {
   "cell_type": "code",
   "execution_count": 12,
   "metadata": {
    "collapsed": false
   },
   "outputs": [
    {
     "data": {
      "text/plain": [
       "                      +--------+\n",
       "    3+-+2   3+-+      |3+-+\n",
       "   (\\|x   - \\|x  + 1)\\|\\|x  + 1\n",
       "   -----------------------------\n",
       "               x + 1\n",
       "                                                    Type: Expression(Integer)\n"
      ]
     },
     "execution_count": 12,
     "metadata": {},
     "output_type": "execute_result"
    }
   ],
   "source": [
    "ratDenom g"
   ]
  },
  {
   "cell_type": "markdown",
   "metadata": {},
   "source": [
    " Input for page OperatorPage\n"
   ]
  },
  {
   "cell_type": "code",
   "execution_count": 13,
   "metadata": {
    "collapsed": false
   },
   "outputs": [
    {
     "name": "stdout",
     "output_type": "stream",
     "text": [
      "   All user variables and function definitions have been cleared.\n"
     ]
    },
    {
     "data": {
      "text/plain": []
     },
     "execution_count": 13,
     "metadata": {},
     "output_type": "execute_result"
    }
   ],
   "source": [
    ")clear all"
   ]
  },
  {
   "cell_type": "code",
   "execution_count": 14,
   "metadata": {
    "collapsed": false
   },
   "outputs": [
    {
     "data": {
      "text/plain": [
       "   SquareMatrix(2,Integer)\n",
       "                                                                   Type: Type\n"
      ]
     },
     "execution_count": 14,
     "metadata": {},
     "output_type": "execute_result"
    }
   ],
   "source": [
    "R := SQMATRIX(2, INT)"
   ]
  },
  {
   "cell_type": "code",
   "execution_count": 15,
   "metadata": {
    "collapsed": false
   },
   "outputs": [
    {
     "data": {
      "text/plain": [
       "   tilde\n",
       "                                      Type: Operator(SquareMatrix(2,Integer))\n"
      ]
     },
     "execution_count": 15,
     "metadata": {},
     "output_type": "execute_result"
    }
   ],
   "source": [
    "t := operator(\"tilde\")::OP(R)"
   ]
  },
  {
   "cell_type": "markdown",
   "metadata": {},
   "source": [
    " evaluate(t, m +-> transpose m)\n"
   ]
  },
  {
   "cell_type": "code",
   "execution_count": 16,
   "metadata": {
    "collapsed": false
   },
   "outputs": [
    {
     "data": {
      "text/plain": [
       "   tilde\n",
       "                                      Type: Operator(SquareMatrix(2,Integer))\n"
      ]
     },
     "execution_count": 16,
     "metadata": {},
     "output_type": "execute_result"
    }
   ],
   "source": [
    "evaluate(t, (m : R) : R +-> transpose m)"
   ]
  },
  {
   "cell_type": "code",
   "execution_count": 17,
   "metadata": {
    "collapsed": false
   },
   "outputs": [
    {
     "data": {
      "text/plain": [
       "   +0  1+\n",
       "   |    |\n",
       "   +1  0+\n",
       "                                                Type: SquareMatrix(2,Integer)\n"
      ]
     },
     "execution_count": 17,
     "metadata": {},
     "output_type": "execute_result"
    }
   ],
   "source": [
    "s:R := matrix [[0, 1], [1, 0]]"
   ]
  },
  {
   "cell_type": "code",
   "execution_count": 18,
   "metadata": {
    "collapsed": false
   },
   "outputs": [
    {
     "data": {
      "text/plain": [
       "        +0  1+\n",
       "   tilde|    |\n",
       "        +1  0+\n",
       "                                      Type: Operator(SquareMatrix(2,Integer))\n"
      ]
     },
     "execution_count": 18,
     "metadata": {},
     "output_type": "execute_result"
    }
   ],
   "source": [
    "rho := t * s"
   ]
  },
  {
   "cell_type": "code",
   "execution_count": 19,
   "metadata": {
    "collapsed": false
   },
   "outputs": [
    {
     "data": {
      "text/plain": [
       "              +0  1+     +0  1+     +0  1+     +0  1+\n",
       "   - 1 + tilde|    |tilde|    |tilde|    |tilde|    |\n",
       "              +1  0+     +1  0+     +1  0+     +1  0+\n",
       "                                      Type: Operator(SquareMatrix(2,Integer))\n"
      ]
     },
     "execution_count": 19,
     "metadata": {},
     "output_type": "execute_result"
    }
   ],
   "source": [
    "z := rho^4 - 1"
   ]
  },
  {
   "cell_type": "code",
   "execution_count": 20,
   "metadata": {
    "collapsed": false
   },
   "outputs": [
    {
     "data": {
      "text/plain": [
       "   +1  2+\n",
       "   |    |\n",
       "   +3  4+\n",
       "                                                Type: SquareMatrix(2,Integer)\n"
      ]
     },
     "execution_count": 20,
     "metadata": {},
     "output_type": "execute_result"
    }
   ],
   "source": [
    "m:R := matrix [[1, 2], [3, 4]]"
   ]
  },
  {
   "cell_type": "code",
   "execution_count": 21,
   "metadata": {
    "collapsed": false
   },
   "outputs": [
    {
     "data": {
      "text/plain": [
       "   +0  0+\n",
       "   |    |\n",
       "   +0  0+\n",
       "                                                Type: SquareMatrix(2,Integer)\n"
      ]
     },
     "execution_count": 21,
     "metadata": {},
     "output_type": "execute_result"
    }
   ],
   "source": [
    "z m"
   ]
  },
  {
   "cell_type": "code",
   "execution_count": 22,
   "metadata": {
    "collapsed": false
   },
   "outputs": [
    {
     "data": {
      "text/plain": [
       "   +3  1+\n",
       "   |    |\n",
       "   +4  2+\n",
       "                                                Type: SquareMatrix(2,Integer)\n"
      ]
     },
     "execution_count": 22,
     "metadata": {},
     "output_type": "execute_result"
    }
   ],
   "source": [
    "rho m"
   ]
  },
  {
   "cell_type": "code",
   "execution_count": 23,
   "metadata": {
    "collapsed": false
   },
   "outputs": [
    {
     "data": {
      "text/plain": [
       "   +4  3+\n",
       "   |    |\n",
       "   +2  1+\n",
       "                                                Type: SquareMatrix(2,Integer)\n"
      ]
     },
     "execution_count": 23,
     "metadata": {},
     "output_type": "execute_result"
    }
   ],
   "source": [
    "rho rho m"
   ]
  },
  {
   "cell_type": "code",
   "execution_count": 24,
   "metadata": {
    "collapsed": false
   },
   "outputs": [
    {
     "data": {
      "text/plain": [
       "   +2  4+\n",
       "   |    |\n",
       "   +1  3+\n",
       "                                                Type: SquareMatrix(2,Integer)\n"
      ]
     },
     "execution_count": 24,
     "metadata": {},
     "output_type": "execute_result"
    }
   ],
   "source": [
    "(rho^3) m"
   ]
  },
  {
   "cell_type": "code",
   "execution_count": 25,
   "metadata": {
    "collapsed": false
   },
   "outputs": [
    {
     "data": {
      "text/plain": [
       "     +0  1+             +0  1+\n",
       "   - |    |tilde + tilde|    |\n",
       "     +1  0+             +1  0+\n",
       "                                      Type: Operator(SquareMatrix(2,Integer))\n"
      ]
     },
     "execution_count": 25,
     "metadata": {},
     "output_type": "execute_result"
    }
   ],
   "source": [
    "b := t * s - s * t"
   ]
  },
  {
   "cell_type": "code",
   "execution_count": 26,
   "metadata": {
    "collapsed": false
   },
   "outputs": [
    {
     "data": {
      "text/plain": [
       "   +1  - 3+\n",
       "   |      |\n",
       "   +3  - 1+\n",
       "                                                Type: SquareMatrix(2,Integer)\n"
      ]
     },
     "execution_count": 26,
     "metadata": {},
     "output_type": "execute_result"
    }
   ],
   "source": [
    "b m"
   ]
  },
  {
   "cell_type": "code",
   "execution_count": 27,
   "metadata": {
    "collapsed": false
   },
   "outputs": [
    {
     "name": "stdout",
     "output_type": "stream",
     "text": [
      "   All user variables and function definitions have been cleared.\n"
     ]
    },
    {
     "data": {
      "text/plain": []
     },
     "execution_count": 27,
     "metadata": {},
     "output_type": "execute_result"
    }
   ],
   "source": [
    ")cl all"
   ]
  },
  {
   "cell_type": "markdown",
   "metadata": {},
   "source": [
    " This is the recursive definition of the Legendre polynomials\n"
   ]
  },
  {
   "cell_type": "code",
   "execution_count": 28,
   "metadata": {
    "collapsed": false
   },
   "outputs": [
    {
     "data": {
      "text/plain": [
       "                                                                   Type: Void\n"
      ]
     },
     "execution_count": 28,
     "metadata": {},
     "output_type": "execute_result"
    }
   ],
   "source": [
    "L n ==\n",
    "  n = 0 => 1\n",
    "  n = 1 => x\n",
    "  (2*n-1)/n * x * L(n-1) - (n-1)/n * L(n-2)"
   ]
  },
  {
   "cell_type": "code",
   "execution_count": 29,
   "metadata": {
    "collapsed": false
   },
   "outputs": [
    {
     "name": "stdout",
     "output_type": "stream",
     "text": [
      "   Compiling function L with type Integer -> Polynomial(Fraction(\n",
      "      Integer)) \n",
      "   Compiling function L as a recurrence relation.\n"
     ]
    },
    {
     "data": {
      "text/plain": [
       "   63  5   35  3   15\n",
       "   -- x  - -- x  + -- x\n",
       "    8       4       8\n",
       "                                          Type: Polynomial(Fraction(Integer))\n"
      ]
     },
     "execution_count": 29,
     "metadata": {},
     "output_type": "execute_result"
    }
   ],
   "source": [
    "L 5"
   ]
  },
  {
   "cell_type": "markdown",
   "metadata": {},
   "source": [
    " Create the differential operator d/dx on Q[x]\n"
   ]
  },
  {
   "cell_type": "code",
   "execution_count": 30,
   "metadata": {
    "collapsed": false
   },
   "outputs": [
    {
     "data": {
      "text/plain": [
       "   D\n",
       "                                Type: Operator(Polynomial(Fraction(Integer)))\n"
      ]
     },
     "execution_count": 30,
     "metadata": {},
     "output_type": "execute_result"
    }
   ],
   "source": [
    "dx := operator(\"D\")::OP(POLY FRAC INT)"
   ]
  },
  {
   "cell_type": "markdown",
   "metadata": {},
   "source": [
    " and attach the map d/dx to it:\n"
   ]
  },
  {
   "cell_type": "code",
   "execution_count": 31,
   "metadata": {
    "collapsed": false
   },
   "outputs": [
    {
     "data": {
      "text/plain": [
       "   D\n",
       "                                Type: Operator(Polynomial(Fraction(Integer)))\n"
      ]
     },
     "execution_count": 31,
     "metadata": {},
     "output_type": "execute_result"
    }
   ],
   "source": [
    "evaluate(dx, p +-> differentiate(p, 'x))$OP(POLY FRAC INT)"
   ]
  },
  {
   "cell_type": "markdown",
   "metadata": {},
   "source": [
    " This is the differential equation satisfied by the nth Legendre poly:\n"
   ]
  },
  {
   "cell_type": "code",
   "execution_count": 32,
   "metadata": {
    "collapsed": false
   },
   "outputs": [
    {
     "data": {
      "text/plain": [
       "                                                                   Type: Void\n"
      ]
     },
     "execution_count": 32,
     "metadata": {},
     "output_type": "execute_result"
    }
   ],
   "source": [
    "E n == (1 - x^2) * dx^2 - 2 * x * dx + n*(n+1)"
   ]
  },
  {
   "cell_type": "code",
   "execution_count": 33,
   "metadata": {
    "collapsed": false
   },
   "outputs": [
    {
     "name": "stdout",
     "output_type": "stream",
     "text": [
      "   Compiling function E with type PositiveInteger -> Operator(\n",
      "      Polynomial(Fraction(Integer))) \n"
     ]
    },
    {
     "data": {
      "text/plain": [
       "                   2      2\n",
       "   30 - 2x D + (- x  + 1)D\n",
       "                                Type: Operator(Polynomial(Fraction(Integer)))\n"
      ]
     },
     "execution_count": 33,
     "metadata": {},
     "output_type": "execute_result"
    }
   ],
   "source": [
    "E 5"
   ]
  },
  {
   "cell_type": "code",
   "execution_count": 34,
   "metadata": {
    "collapsed": false
   },
   "outputs": [
    {
     "name": "stdout",
     "output_type": "stream",
     "text": [
      "\n",
      "\n",
      "\n",
      "\n",
      "\n"
     ]
    },
    {
     "data": {
      "text/plain": [
       "       3  2   1  5  3   3    35  4   15  2   3  63  5   35  3   15\n",
       "   [x, - x  - -, - x  - - x, -- x  - -- x  + -, -- x  - -- x  + -- x,\n",
       "       2      2  2      2     8       4      8   8       4       8\n",
       "    231  6   315  4   105  2    5  429  7   693  5   315  3   35\n",
       "    --- x  - --- x  + --- x  - --, --- x  - --- x  + --- x  - -- x,\n",
       "     16       16       16      16   16       16       16      16\n",
       "    6435  8   3003  6   3465  4   315  2    35\n",
       "    ---- x  - ---- x  + ---- x  - --- x  + ---,\n",
       "     128       32        64        32      128\n",
       "    12155  9   6435  7   9009  5   1155  3   315\n",
       "    ----- x  - ---- x  + ---- x  - ---- x  + --- x,\n",
       "     128        32        64        32       128\n",
       "    46189  10   109395  8   45045  6   15015  4   3465  2    63\n",
       "    ----- x   - ------ x  + ----- x  - ----- x  + ---- x  - ---]\n",
       "     256          256        128        128        256      256\n",
       "                                    Type: List(Polynomial(Fraction(Integer)))\n"
      ]
     },
     "execution_count": 34,
     "metadata": {},
     "output_type": "execute_result"
    }
   ],
   "source": [
    "[L i for i in 1..10]"
   ]
  },
  {
   "cell_type": "code",
   "execution_count": 35,
   "metadata": {
    "collapsed": false
   },
   "outputs": [
    {
     "name": "stdout",
     "output_type": "stream",
     "text": [
      "\n",
      "\n",
      "\n",
      "\n",
      "\n"
     ]
    },
    {
     "data": {
      "text/plain": [
       "                   2      2                 2      2                  2      2\n",
       "   [2 - 2x D + (- x  + 1)D , 6 - 2x D + (- x  + 1)D , 12 - 2x D + (- x  + 1)D ,\n",
       "                    2      2                  2      2\n",
       "    20 - 2x D + (- x  + 1)D , 30 - 2x D + (- x  + 1)D ,\n",
       "                    2      2                  2      2\n",
       "    42 - 2x D + (- x  + 1)D , 56 - 2x D + (- x  + 1)D ,\n",
       "                    2      2                  2      2\n",
       "    72 - 2x D + (- x  + 1)D , 90 - 2x D + (- x  + 1)D ,\n",
       "                     2      2\n",
       "    110 - 2x D + (- x  + 1)D ]\n",
       "                          Type: List(Operator(Polynomial(Fraction(Integer))))\n"
      ]
     },
     "execution_count": 35,
     "metadata": {},
     "output_type": "execute_result"
    }
   ],
   "source": [
    "[E i for i in 1..10]"
   ]
  },
  {
   "cell_type": "code",
   "execution_count": 36,
   "metadata": {
    "collapsed": false
   },
   "outputs": [
    {
     "data": {
      "text/plain": [
       "   [0,0,0,0,0,0,0,0,0,0]\n",
       "                                    Type: List(Polynomial(Fraction(Integer)))\n"
      ]
     },
     "execution_count": 36,
     "metadata": {},
     "output_type": "execute_result"
    }
   ],
   "source": [
    "[(E i)(L i) for i in 1..10]"
   ]
  },
  {
   "cell_type": "markdown",
   "metadata": {},
   "source": [
    " Input for page ElementaryFunctionPage\n"
   ]
  },
  {
   "cell_type": "code",
   "execution_count": 37,
   "metadata": {
    "collapsed": false
   },
   "outputs": [
    {
     "name": "stdout",
     "output_type": "stream",
     "text": [
      "   All user variables and function definitions have been cleared.\n"
     ]
    },
    {
     "data": {
      "text/plain": []
     },
     "execution_count": 37,
     "metadata": {},
     "output_type": "execute_result"
    }
   ],
   "source": [
    ")clear all"
   ]
  },
  {
   "cell_type": "code",
   "execution_count": 38,
   "metadata": {
    "collapsed": false
   },
   "outputs": [
    {
     "data": {
      "text/plain": [
       "                 1\n",
       "   x log(y)sin(-----)\n",
       "               y + x\n",
       "                                                    Type: Expression(Integer)\n"
      ]
     },
     "execution_count": 38,
     "metadata": {},
     "output_type": "execute_result"
    }
   ],
   "source": [
    "f := x * log y * sin(1/(x+y))"
   ]
  },
  {
   "cell_type": "code",
   "execution_count": 39,
   "metadata": {
    "collapsed": false
   },
   "outputs": [
    {
     "data": {
      "text/plain": [
       "                 1\n",
       "   y log(x)sin(-----)\n",
       "               y + x\n",
       "                                                    Type: Expression(Integer)\n"
      ]
     },
     "execution_count": 39,
     "metadata": {},
     "output_type": "execute_result"
    }
   ],
   "source": [
    "eval(f, [x = y, y = x])"
   ]
  },
  {
   "cell_type": "code",
   "execution_count": 40,
   "metadata": {
    "collapsed": false
   },
   "outputs": [
    {
     "data": {
      "text/plain": [
       "           1          +-+\n",
       "   x sin(-----)acosh(\\|y  + x)\n",
       "         y + x\n",
       "                                                    Type: Expression(Integer)\n"
      ]
     },
     "execution_count": 40,
     "metadata": {},
     "output_type": "execute_result"
    }
   ],
   "source": [
    "eval(f, log y = acosh(x + sqrt y))"
   ]
  },
  {
   "cell_type": "markdown",
   "metadata": {},
   "source": [
    " Input for page FunctionSimplificationPage\n"
   ]
  },
  {
   "cell_type": "code",
   "execution_count": 41,
   "metadata": {
    "collapsed": false
   },
   "outputs": [
    {
     "name": "stdout",
     "output_type": "stream",
     "text": [
      "   All user variables and function definitions have been cleared.\n"
     ]
    },
    {
     "data": {
      "text/plain": []
     },
     "execution_count": 41,
     "metadata": {},
     "output_type": "execute_result"
    }
   ],
   "source": [
    ")clear all"
   ]
  },
  {
   "cell_type": "code",
   "execution_count": 42,
   "metadata": {
    "collapsed": false
   },
   "outputs": [
    {
     "data": {
      "text/plain": [
       "                        2\n",
       "                  sin(x)\n",
       "   cos(x)log(-----------------)\n",
       "                   2         2\n",
       "             sin(x)  + cos(x)\n",
       "   ----------------------------\n",
       "              sec(x)\n",
       "                                                    Type: Expression(Integer)\n"
      ]
     },
     "execution_count": 42,
     "metadata": {},
     "output_type": "execute_result"
    }
   ],
   "source": [
    "f := cos(x)/sec(x) * log(sin(x)^2/(cos(x)^2+sin(x)^2))"
   ]
  },
  {
   "cell_type": "code",
   "execution_count": 43,
   "metadata": {
    "collapsed": false
   },
   "outputs": [
    {
     "data": {
      "text/plain": [
       "         2            2\n",
       "   cos(x) log(- cos(x)  + 1)\n",
       "                                                    Type: Expression(Integer)\n"
      ]
     },
     "execution_count": 43,
     "metadata": {},
     "output_type": "execute_result"
    }
   ],
   "source": [
    "g := simplify f"
   ]
  },
  {
   "cell_type": "code",
   "execution_count": 44,
   "metadata": {
    "collapsed": false
   },
   "outputs": [
    {
     "data": {
      "text/plain": [
       "             2\n",
       "       sec(x)  - 1\n",
       "   log(-----------)\n",
       "               2\n",
       "         sec(x)\n",
       "   ----------------\n",
       "              2\n",
       "        sec(x)\n",
       "                                                    Type: Expression(Integer)\n"
      ]
     },
     "execution_count": 44,
     "metadata": {},
     "output_type": "execute_result"
    }
   ],
   "source": [
    "h := sin2csc cos2sec g"
   ]
  },
  {
   "cell_type": "code",
   "execution_count": 45,
   "metadata": {
    "collapsed": false
   },
   "outputs": [
    {
     "data": {
      "text/plain": [
       "             2\n",
       "   log(sec(x)  - 1) - 2log(sec(x))\n",
       "   -------------------------------\n",
       "                     2\n",
       "               sec(x)\n",
       "                                                    Type: Expression(Integer)\n"
      ]
     },
     "execution_count": 45,
     "metadata": {},
     "output_type": "execute_result"
    }
   ],
   "source": [
    "expandLog h"
   ]
  },
  {
   "cell_type": "code",
   "execution_count": 46,
   "metadata": {
    "collapsed": false
   },
   "outputs": [
    {
     "data": {
      "text/plain": [
       "    +-----------------+\n",
       "    | 3     2\n",
       "   \\|x  + 3x  + 3x + 1\n",
       "                                                    Type: Expression(Integer)\n"
      ]
     },
     "execution_count": 46,
     "metadata": {},
     "output_type": "execute_result"
    }
   ],
   "source": [
    "f1 := sqrt((x+1)^3)"
   ]
  },
  {
   "cell_type": "code",
   "execution_count": 47,
   "metadata": {
    "collapsed": false
   },
   "outputs": [
    {
     "data": {
      "text/plain": [
       "           +-----+\n",
       "   (x + 1)\\|x + 1\n",
       "                                                    Type: Expression(Integer)\n"
      ]
     },
     "execution_count": 47,
     "metadata": {},
     "output_type": "execute_result"
    }
   ],
   "source": [
    "rootSimp f1"
   ]
  },
  {
   "cell_type": "code",
   "execution_count": 48,
   "metadata": {
    "collapsed": false
   },
   "outputs": [
    {
     "data": {
      "text/plain": [
       "   sin(cos(x) + x)\n",
       "                                                    Type: Expression(Integer)\n"
      ]
     },
     "execution_count": 48,
     "metadata": {},
     "output_type": "execute_result"
    }
   ],
   "source": [
    "g1 := sin(x + cos x)"
   ]
  },
  {
   "cell_type": "code",
   "execution_count": 49,
   "metadata": {
    "collapsed": false
   },
   "outputs": [
    {
     "data": {
      "text/plain": [
       "                         +---+ 2               +---+          2\n",
       "               +---+   x\\|- 1         +---+  x\\|- 1     +---+\n",
       "              \\|- 1 (%e       )  + 2x\\|- 1 %e        + \\|- 1\n",
       "              -----------------------------------------------\n",
       "                                      +---+\n",
       "                                    x\\|- 1\n",
       "      +---+                      2%e                               +---+\n",
       "   - \\|- 1 (%e                                               )  + \\|- 1\n",
       "   ---------------------------------------------------------------------\n",
       "                           +---+ 2               +---+\n",
       "                 +---+   x\\|- 1         +---+  x\\|- 1     +---+\n",
       "                \\|- 1 (%e       )  + 2x\\|- 1 %e        + \\|- 1\n",
       "                -----------------------------------------------\n",
       "                                        +---+\n",
       "                                      x\\|- 1\n",
       "                                   2%e\n",
       "             2%e\n",
       "                                                    Type: Expression(Integer)\n"
      ]
     },
     "execution_count": 49,
     "metadata": {},
     "output_type": "execute_result"
    }
   ],
   "source": [
    "g2 := complexElementary g1"
   ]
  },
  {
   "cell_type": "code",
   "execution_count": 50,
   "metadata": {
    "collapsed": false
   },
   "outputs": [
    {
     "data": {
      "text/plain": [
       "   sin(cos(x) + x)\n",
       "                                                    Type: Expression(Integer)\n"
      ]
     },
     "execution_count": 50,
     "metadata": {},
     "output_type": "execute_result"
    }
   ],
   "source": [
    "trigs g2"
   ]
  },
  {
   "cell_type": "code",
   "execution_count": 51,
   "metadata": {
    "collapsed": false
   },
   "outputs": [
    {
     "data": {
      "text/plain": [
       "   sinh(cosh(x) + x)\n",
       "                                                    Type: Expression(Integer)\n"
      ]
     },
     "execution_count": 51,
     "metadata": {},
     "output_type": "execute_result"
    }
   ],
   "source": [
    "h1 := sinh(x + cosh x)"
   ]
  },
  {
   "cell_type": "code",
   "execution_count": 52,
   "metadata": {
    "collapsed": false
   },
   "outputs": [
    {
     "data": {
      "text/plain": [
       "         x 2        x     2\n",
       "      (%e )  + 2x %e  + 1\n",
       "      -------------------\n",
       "                 x\n",
       "              2%e\n",
       "   (%e                   )  - 1\n",
       "   ----------------------------\n",
       "            x 2        x\n",
       "         (%e )  + 2x %e  + 1\n",
       "         -------------------\n",
       "                    x\n",
       "                 2%e\n",
       "      2%e\n",
       "                                                    Type: Expression(Integer)\n"
      ]
     },
     "execution_count": 52,
     "metadata": {},
     "output_type": "execute_result"
    }
   ],
   "source": [
    "h2 := realElementary h1"
   ]
  },
  {
   "cell_type": "code",
   "execution_count": 53,
   "metadata": {
    "collapsed": false
   },
   "outputs": [
    {
     "data": {
      "text/plain": [
       "   sinh(cosh(x) + x)\n",
       "                                                    Type: Expression(Integer)\n"
      ]
     },
     "execution_count": 53,
     "metadata": {},
     "output_type": "execute_result"
    }
   ],
   "source": [
    "htrigs h2"
   ]
  },
  {
   "cell_type": "markdown",
   "metadata": {},
   "source": [
    " Input for page PatternMatchingPage\n"
   ]
  },
  {
   "cell_type": "code",
   "execution_count": 54,
   "metadata": {
    "collapsed": false
   },
   "outputs": [
    {
     "name": "stdout",
     "output_type": "stream",
     "text": [
      "   All user variables and function definitions have been cleared.\n"
     ]
    },
    {
     "data": {
      "text/plain": []
     },
     "execution_count": 54,
     "metadata": {},
     "output_type": "execute_result"
    }
   ],
   "source": [
    ")clear all"
   ]
  },
  {
   "cell_type": "code",
   "execution_count": 55,
   "metadata": {
    "collapsed": false
   },
   "outputs": [
    {
     "data": {
      "text/plain": [
       "      +-+ +-+       +---+\n",
       "   %J\\|a \\|b  == %J\\|a b\n",
       "                       Type: RewriteRule(Integer,Integer,Expression(Integer))\n"
      ]
     },
     "execution_count": 55,
     "metadata": {},
     "output_type": "execute_result"
    }
   ],
   "source": [
    "groupSqrt := _rule(sqrt(a) * sqrt(b), sqrt(a*b))"
   ]
  },
  {
   "cell_type": "code",
   "execution_count": 56,
   "metadata": {
    "collapsed": false
   },
   "outputs": [
    {
     "data": {
      "text/plain": [
       "    +-+ +-+\n",
       "   \\|2 \\|3\n",
       "                                                        Type: AlgebraicNumber\n"
      ]
     },
     "execution_count": 56,
     "metadata": {},
     "output_type": "execute_result"
    }
   ],
   "source": [
    "a := sqrt(2) * sqrt(3)"
   ]
  },
  {
   "cell_type": "code",
   "execution_count": 57,
   "metadata": {
    "collapsed": false
   },
   "outputs": [
    {
     "data": {
      "text/plain": [
       "    +-+\n",
       "   \\|6\n",
       "                                                    Type: Expression(Integer)\n"
      ]
     },
     "execution_count": 57,
     "metadata": {},
     "output_type": "execute_result"
    }
   ],
   "source": [
    "groupSqrt a"
   ]
  },
  {
   "cell_type": "code",
   "execution_count": 58,
   "metadata": {
    "collapsed": false
   },
   "outputs": [
    {
     "data": {
      "text/plain": [
       "             +-+ +-+    2           2\n",
       "   (4y + 4x)\\|x \\|y  + y  + 6x y + x\n",
       "                                                    Type: Expression(Integer)\n"
      ]
     },
     "execution_count": 58,
     "metadata": {},
     "output_type": "execute_result"
    }
   ],
   "source": [
    "a := (sqrt(x) + sqrt(y))^4"
   ]
  },
  {
   "cell_type": "code",
   "execution_count": 59,
   "metadata": {
    "collapsed": false
   },
   "outputs": [
    {
     "data": {
      "text/plain": [
       "             +---+    2           2\n",
       "   (4y + 4x)\\|x y  + y  + 6x y + x\n",
       "                                                    Type: Expression(Integer)\n"
      ]
     },
     "execution_count": 59,
     "metadata": {},
     "output_type": "execute_result"
    }
   ],
   "source": [
    "groupSqrt a"
   ]
  },
  {
   "cell_type": "code",
   "execution_count": 60,
   "metadata": {
    "collapsed": false
   },
   "outputs": [
    {
     "name": "stdout",
     "output_type": "stream",
     "text": [
      "\n",
      "\n",
      "\n",
      "\n"
     ]
    },
    {
     "data": {
      "text/plain": [
       "   {- %K sin(x) == - %K sin(x), cos(x) == cos(x),\n",
       "    sin(y + x) == cos(x)sin(y) + cos(y)sin(x),\n",
       "    cos(y + x) == - sin(x)sin(y) + cos(x)cos(y)}\n",
       "                           Type: Ruleset(Integer,Integer,Expression(Integer))\n"
      ]
     },
     "execution_count": 60,
     "metadata": {},
     "output_type": "execute_result"
    }
   ],
   "source": [
    "sinCosExpand := rule\n",
    "  sin(-x)    == - sin(x)\n",
    "  cos(-x)    == cos(x)\n",
    "  sin(x + y) == sin(x) * cos(y) + sin(y) * cos(x)\n",
    "  cos(x + y) == cos(x) * cos(y) - sin(x) * sin(y)"
   ]
  },
  {
   "cell_type": "code",
   "execution_count": 61,
   "metadata": {
    "collapsed": false
   },
   "outputs": [
    {
     "data": {
      "text/plain": [
       "                                                                   Type: Void\n"
      ]
     },
     "execution_count": 61,
     "metadata": {},
     "output_type": "execute_result"
    }
   ],
   "source": [
    "  sin((n | integer? n and integer n > 1) * x) ==_\n",
    "       sin(x) * cos((n-1)*x) + sin((n-1)*x) * cos(x)\n"
   ]
  },
  {
   "cell_type": "code",
   "execution_count": 62,
   "metadata": {
    "collapsed": false
   },
   "outputs": [
    {
     "data": {
      "text/plain": [
       "                                                                   Type: Void\n"
      ]
     },
     "execution_count": 62,
     "metadata": {},
     "output_type": "execute_result"
    }
   ],
   "source": [
    "  cos((n | integer? n and integer n > 1) * x) ==_\n",
    "       cos(x) * cos((n-1)*x) - sin(x) * sin((n-1)*x)\n"
   ]
  },
  {
   "cell_type": "code",
   "execution_count": 63,
   "metadata": {
    "collapsed": false
   },
   "outputs": [
    {
     "name": "stderr",
     "output_type": "stream",
     "text": [
      " \n",
      "   FriCAS cannot determine the type of sin because it cannot analyze \n",
      "      the non-recursive part, if that exists. This may be remedied by \n",
      "      declaring the function.\n",
      "\n"
     ]
    },
    {
     "data": {
      "text/plain": [
       "error\n"
      ]
     },
     "execution_count": 63,
     "metadata": {},
     "output_type": "execute_result"
    }
   ],
   "source": [
    "sinCosExpand(sin(x+y-2*z) * cos y)"
   ]
  },
  {
   "cell_type": "code",
   "execution_count": 64,
   "metadata": {
    "collapsed": false
   },
   "outputs": [
    {
     "data": {
      "text/plain": []
     },
     "execution_count": 64,
     "metadata": {},
     "output_type": "execute_result"
    }
   ],
   "source": [
    "--\n",
    "-- EOF\n",
    "--"
   ]
  }
 ],
 "metadata": {
  "kernelspec": {
   "display_name": "FriCAS",
   "language": "spad",
   "name": "ifricas"
  },
  "language_info": {
   "codemirror_mode": "spad",
   "mimetype": "text/x-spad",
   "name": "SPAD",
   "pygments_lexer": "spad",
   "version": "1.2.6"
  },
  "name": "function.ipynb"
 },
 "nbformat": 4,
 "nbformat_minor": 0
}