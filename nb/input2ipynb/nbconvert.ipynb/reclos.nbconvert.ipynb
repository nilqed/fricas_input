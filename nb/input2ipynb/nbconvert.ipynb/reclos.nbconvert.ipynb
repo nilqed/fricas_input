{
 "cells": [
  {
   "cell_type": "markdown",
   "metadata": {},
   "source": [
    " Input generated from RealClosureXmpPage\n"
   ]
  },
  {
   "cell_type": "code",
   "execution_count": 0,
   "metadata": {
    "collapsed": false
   },
   "outputs": [
    {
     "name": "stdout",
     "output_type": "stream",
     "text": [
      "   All user variables and function definitions have been cleared.\n"
     ]
    },
    {
     "data": {
      "text/plain": []
     },
     "execution_count": 0,
     "metadata": {},
     "output_type": "execute_result"
    }
   ],
   "source": [
    ")clear all"
   ]
  },
  {
   "cell_type": "code",
   "execution_count": 1,
   "metadata": {
    "collapsed": false
   },
   "outputs": [
    {
     "data": {
      "text/plain": [
       "   RealClosure(Fraction(Integer))\n",
       "                                                                   Type: Type\n"
      ]
     },
     "execution_count": 1,
     "metadata": {},
     "output_type": "execute_result"
    }
   ],
   "source": [
    "Ran := RECLOS(FRAC INT)"
   ]
  },
  {
   "cell_type": "markdown",
   "metadata": {},
   "source": [
    "\n",
    " Some simple signs for square roots, these correspond to an extension\n",
    " of degree 16 of the rational numbers.\n",
    " these examples were given to me by J. Abbot\n",
    "\n"
   ]
  },
  {
   "cell_type": "code",
   "execution_count": 2,
   "metadata": {
    "collapsed": false
   },
   "outputs": [
    {
     "name": "stdout",
     "output_type": "stream",
     "text": [
      "   Function declaration fourSquares : (RealClosure(Fraction(Integer)),\n",
      "      RealClosure(Fraction(Integer)),RealClosure(Fraction(Integer)),\n",
      "      RealClosure(Fraction(Integer))) -> RealClosure(Fraction(Integer))\n",
      "      has been added to workspace.\n"
     ]
    },
    {
     "data": {
      "text/plain": [
       "                                                                   Type: Void\n"
      ]
     },
     "execution_count": 2,
     "metadata": {},
     "output_type": "execute_result"
    }
   ],
   "source": [
    "fourSquares(a:Ran,b:Ran,c:Ran,d:Ran):Ran == sqrt(a)+sqrt(b) - sqrt(c)-sqrt(d)"
   ]
  },
  {
   "cell_type": "code",
   "execution_count": 3,
   "metadata": {
    "collapsed": false
   },
   "outputs": [
    {
     "name": "stdout",
     "output_type": "stream",
     "text": [
      "Warning: HyperTeX macro table not found\n",
      "   Compiling function fourSquares with type (RealClosure(Fraction(\n",
      "      Integer)),RealClosure(Fraction(Integer)),RealClosure(Fraction(\n",
      "      Integer)),RealClosure(Fraction(Integer))) -> RealClosure(Fraction\n",
      "      (Integer)) \n"
     ]
    },
    {
     "data": {
      "text/plain": [
       "      +---+    +--+    +---+    +--+\n",
       "   - \\|586  - \\|60  + \\|548  + \\|73\n",
       "                                         Type: RealClosure(Fraction(Integer))\n"
      ]
     },
     "execution_count": 3,
     "metadata": {},
     "output_type": "execute_result"
    }
   ],
   "source": [
    "squareDiff1 := fourSquares(73,548,60,586)"
   ]
  },
  {
   "cell_type": "code",
   "execution_count": 4,
   "metadata": {
    "collapsed": false
   },
   "outputs": [
    {
     "name": "stdout",
     "output_type": "stream",
     "text": [
      "  "
     ]
    },
    {
     "data": {
      "text/plain": [
       "             +---+          +--+  +--+         +--+ +---+            +---+\n",
       "     ((54602\\|548  + 149602\\|73 )\\|60  + 49502\\|73 \\|548  + 9900895)\\|586\n",
       "   + \n",
       "             +--+ +---+             +--+            +---+            +--+\n",
       "     (154702\\|73 \\|548  + 30941947)\\|60  + 10238421\\|548  + 28051871\\|73\n",
       "                              Type: Union(RealClosure(Fraction(Integer)),...)\n"
      ]
     },
     "execution_count": 4,
     "metadata": {},
     "output_type": "execute_result"
    }
   ],
   "source": [
    "recip(squareDiff1)"
   ]
  },
  {
   "cell_type": "code",
   "execution_count": 5,
   "metadata": {
    "collapsed": false
   },
   "outputs": [
    {
     "data": {
      "text/plain": [
       "   1\n",
       "                                                        Type: PositiveInteger\n"
      ]
     },
     "execution_count": 5,
     "metadata": {},
     "output_type": "execute_result"
    }
   ],
   "source": [
    "sign(squareDiff1)"
   ]
  },
  {
   "cell_type": "code",
   "execution_count": 6,
   "metadata": {
    "collapsed": false
   },
   "outputs": [
    {
     "data": {
      "text/plain": [
       "      +---+    +--+    +---+    +---+\n",
       "   - \\|990  - \\|86  + \\|778  + \\|165\n",
       "                                         Type: RealClosure(Fraction(Integer))\n"
      ]
     },
     "execution_count": 6,
     "metadata": {},
     "output_type": "execute_result"
    }
   ],
   "source": [
    "squareDiff2 := fourSquares(165,778,86,990)"
   ]
  },
  {
   "cell_type": "code",
   "execution_count": 7,
   "metadata": {
    "collapsed": false
   },
   "outputs": [
    {
     "name": "stdout",
     "output_type": "stream",
     "text": [
      "      "
     ]
    },
    {
     "data": {
      "text/plain": [
       "                +---+           +---+  +--+          +---+ +---+\n",
       "       ((556778\\|778  + 1209010\\|165 )\\|86  + 401966\\|165 \\|778  + 144019431)\n",
       "    *\n",
       "        +---+\n",
       "       \\|990\n",
       "   + \n",
       "              +---+ +---+              +--+             +---+             +---+\n",
       "     (1363822\\|165 \\|778  + 488640503)\\|86  + 162460913\\|778  + 352774119\\|165\n",
       "                              Type: Union(RealClosure(Fraction(Integer)),...)\n"
      ]
     },
     "execution_count": 7,
     "metadata": {},
     "output_type": "execute_result"
    }
   ],
   "source": [
    "recip(squareDiff2)"
   ]
  },
  {
   "cell_type": "code",
   "execution_count": 8,
   "metadata": {
    "collapsed": false
   },
   "outputs": [
    {
     "data": {
      "text/plain": [
       "   1\n",
       "                                                        Type: PositiveInteger\n"
      ]
     },
     "execution_count": 8,
     "metadata": {},
     "output_type": "execute_result"
    }
   ],
   "source": [
    "sign(squareDiff2)"
   ]
  },
  {
   "cell_type": "code",
   "execution_count": 9,
   "metadata": {
    "collapsed": false
   },
   "outputs": [
    {
     "data": {
      "text/plain": [
       "      +---+    +---+    +---+    +---+\n",
       "   - \\|692  - \\|226  + \\|708  + \\|217\n",
       "                                         Type: RealClosure(Fraction(Integer))\n"
      ]
     },
     "execution_count": 9,
     "metadata": {},
     "output_type": "execute_result"
    }
   ],
   "source": [
    "squareDiff3 := fourSquares(217,708,226,692)"
   ]
  },
  {
   "cell_type": "code",
   "execution_count": 10,
   "metadata": {
    "collapsed": false
   },
   "outputs": [
    {
     "name": "stdout",
     "output_type": "stream",
     "text": [
      "  "
     ]
    },
    {
     "data": {
      "text/plain": [
       "               +---+         +---+  +---+         +---+ +---+             +---+\n",
       "     ((- 34102\\|708  - 61598\\|217 )\\|226  - 34802\\|217 \\|708  - 13641141)\\|692\n",
       "   + \n",
       "              +---+ +---+             +---+            +---+            +---+\n",
       "     (- 60898\\|217 \\|708  - 23869841)\\|226  - 13486123\\|708  - 24359809\\|217\n",
       "                              Type: Union(RealClosure(Fraction(Integer)),...)\n"
      ]
     },
     "execution_count": 10,
     "metadata": {},
     "output_type": "execute_result"
    }
   ],
   "source": [
    "recip(squareDiff3)"
   ]
  },
  {
   "cell_type": "code",
   "execution_count": 11,
   "metadata": {
    "collapsed": false
   },
   "outputs": [
    {
     "data": {
      "text/plain": [
       "   - 1\n",
       "                                                                Type: Integer\n"
      ]
     },
     "execution_count": 11,
     "metadata": {},
     "output_type": "execute_result"
    }
   ],
   "source": [
    "sign(squareDiff3)"
   ]
  },
  {
   "cell_type": "code",
   "execution_count": 12,
   "metadata": {
    "collapsed": false
   },
   "outputs": [
    {
     "data": {
      "text/plain": [
       "      +---+    +---+    +---+    +---+\n",
       "   - \\|820  - \\|162  + \\|836  + \\|155\n",
       "                                         Type: RealClosure(Fraction(Integer))\n"
      ]
     },
     "execution_count": 12,
     "metadata": {},
     "output_type": "execute_result"
    }
   ],
   "source": [
    "squareDiff4 := fourSquares(155,836,162,820)"
   ]
  },
  {
   "cell_type": "code",
   "execution_count": 13,
   "metadata": {
    "collapsed": false
   },
   "outputs": [
    {
     "name": "stdout",
     "output_type": "stream",
     "text": [
      "  "
     ]
    },
    {
     "data": {
      "text/plain": [
       "               +---+         +---+  +---+         +---+ +---+             +---+\n",
       "     ((- 37078\\|836  - 86110\\|155 )\\|162  - 37906\\|155 \\|836  - 13645107)\\|820\n",
       "   + \n",
       "              +---+ +---+             +---+            +---+            +---+\n",
       "     (- 85282\\|155 \\|836  - 30699151)\\|162  - 13513901\\|836  - 31384703\\|155\n",
       "                              Type: Union(RealClosure(Fraction(Integer)),...)\n"
      ]
     },
     "execution_count": 13,
     "metadata": {},
     "output_type": "execute_result"
    }
   ],
   "source": [
    "recip(squareDiff4)"
   ]
  },
  {
   "cell_type": "code",
   "execution_count": 14,
   "metadata": {
    "collapsed": false
   },
   "outputs": [
    {
     "data": {
      "text/plain": [
       "   - 1\n",
       "                                                                Type: Integer\n"
      ]
     },
     "execution_count": 14,
     "metadata": {},
     "output_type": "execute_result"
    }
   ],
   "source": [
    "sign(squareDiff4)"
   ]
  },
  {
   "cell_type": "code",
   "execution_count": 15,
   "metadata": {
    "collapsed": false
   },
   "outputs": [
    {
     "data": {
      "text/plain": [
       "      +---+    +---+    +---+    +---+\n",
       "   - \\|818  - \\|552  + \\|772  + \\|591\n",
       "                                         Type: RealClosure(Fraction(Integer))\n"
      ]
     },
     "execution_count": 15,
     "metadata": {},
     "output_type": "execute_result"
    }
   ],
   "source": [
    "squareDiff5 := fourSquares(591,772,552,818)"
   ]
  },
  {
   "cell_type": "code",
   "execution_count": 16,
   "metadata": {
    "collapsed": false
   },
   "outputs": [
    {
     "name": "stdout",
     "output_type": "stream",
     "text": [
      "  "
     ]
    },
    {
     "data": {
      "text/plain": [
       "             +---+         +---+  +---+         +---+ +---+             +---+\n",
       "     ((70922\\|772  + 81058\\|591 )\\|552  + 68542\\|591 \\|772  + 46297673)\\|818\n",
       "   + \n",
       "            +---+ +---+             +---+            +---+            +---+\n",
       "     (83438\\|591 \\|772  + 56359389)\\|552  + 47657051\\|772  + 54468081\\|591\n",
       "                              Type: Union(RealClosure(Fraction(Integer)),...)\n"
      ]
     },
     "execution_count": 16,
     "metadata": {},
     "output_type": "execute_result"
    }
   ],
   "source": [
    "recip(squareDiff5)"
   ]
  },
  {
   "cell_type": "code",
   "execution_count": 17,
   "metadata": {
    "collapsed": false
   },
   "outputs": [
    {
     "data": {
      "text/plain": [
       "   1\n",
       "                                                        Type: PositiveInteger\n"
      ]
     },
     "execution_count": 17,
     "metadata": {},
     "output_type": "execute_result"
    }
   ],
   "source": [
    "sign(squareDiff5)"
   ]
  },
  {
   "cell_type": "code",
   "execution_count": 18,
   "metadata": {
    "collapsed": false
   },
   "outputs": [
    {
     "data": {
      "text/plain": [
       "      +----+    +---+    +----+    +---+\n",
       "   - \\|1088  - \\|412  + \\|1053  + \\|434\n",
       "                                         Type: RealClosure(Fraction(Integer))\n"
      ]
     },
     "execution_count": 18,
     "metadata": {},
     "output_type": "execute_result"
    }
   ],
   "source": [
    "squareDiff6 := fourSquares(434,1053,412,1088)"
   ]
  },
  {
   "cell_type": "code",
   "execution_count": 19,
   "metadata": {
    "collapsed": false
   },
   "outputs": [
    {
     "name": "stdout",
     "output_type": "stream",
     "text": [
      "      "
     ]
    },
    {
     "data": {
      "text/plain": [
       "                +----+          +---+  +---+          +---+ +----+\n",
       "       ((115442\\|1053  + 179818\\|434 )\\|412  + 112478\\|434 \\|1053  + 76037291)\n",
       "    *\n",
       "        +----+\n",
       "       \\|1088\n",
       "   + \n",
       "           +---+ +----+              +---+            +----+             +---+\n",
       "   (182782\\|434 \\|1053  + 123564147)\\|412  + 77290639\\|1053  + 120391609\\|434\n",
       "                              Type: Union(RealClosure(Fraction(Integer)),...)\n"
      ]
     },
     "execution_count": 19,
     "metadata": {},
     "output_type": "execute_result"
    }
   ],
   "source": [
    "recip(squareDiff6)"
   ]
  },
  {
   "cell_type": "code",
   "execution_count": 20,
   "metadata": {
    "collapsed": false
   },
   "outputs": [
    {
     "data": {
      "text/plain": [
       "   1\n",
       "                                                        Type: PositiveInteger\n"
      ]
     },
     "execution_count": 20,
     "metadata": {},
     "output_type": "execute_result"
    }
   ],
   "source": [
    "sign(squareDiff6)"
   ]
  },
  {
   "cell_type": "code",
   "execution_count": 21,
   "metadata": {
    "collapsed": false
   },
   "outputs": [
    {
     "data": {
      "text/plain": [
       "      +----+    +---+    +----+    +---+\n",
       "   - \\|1152  - \\|446  + \\|1049  + \\|514\n",
       "                                         Type: RealClosure(Fraction(Integer))\n"
      ]
     },
     "execution_count": 21,
     "metadata": {},
     "output_type": "execute_result"
    }
   ],
   "source": [
    "squareDiff7 := fourSquares(514,1049,446,1152)"
   ]
  },
  {
   "cell_type": "code",
   "execution_count": 22,
   "metadata": {
    "collapsed": false
   },
   "outputs": [
    {
     "name": "stdout",
     "output_type": "stream",
     "text": [
      "      "
     ]
    },
    {
     "data": {
      "text/plain": [
       "                +----+          +---+  +---+          +---+ +----+\n",
       "       ((349522\\|1049  + 499322\\|514 )\\|446  + 325582\\|514 \\|1049  + 239072537)\n",
       "    *\n",
       "        +----+\n",
       "       \\|1152\n",
       "   + \n",
       "           +---+ +----+              +---+             +----+             +---+\n",
       "   (523262\\|514 \\|1049  + 384227549)\\|446  + 250534873\\|1049  + 357910443\\|514\n",
       "                              Type: Union(RealClosure(Fraction(Integer)),...)\n"
      ]
     },
     "execution_count": 22,
     "metadata": {},
     "output_type": "execute_result"
    }
   ],
   "source": [
    "recip(squareDiff7)"
   ]
  },
  {
   "cell_type": "code",
   "execution_count": 23,
   "metadata": {
    "collapsed": false
   },
   "outputs": [
    {
     "data": {
      "text/plain": [
       "   1\n",
       "                                                        Type: PositiveInteger\n"
      ]
     },
     "execution_count": 23,
     "metadata": {},
     "output_type": "execute_result"
    }
   ],
   "source": [
    "sign(squareDiff7)"
   ]
  },
  {
   "cell_type": "code",
   "execution_count": 24,
   "metadata": {
    "collapsed": false
   },
   "outputs": [
    {
     "data": {
      "text/plain": [
       "      +----+    +---+    +----+    +---+\n",
       "   - \\|1698  - \\|208  + \\|1751  + \\|190\n",
       "                                         Type: RealClosure(Fraction(Integer))\n"
      ]
     },
     "execution_count": 24,
     "metadata": {},
     "output_type": "execute_result"
    }
   ],
   "source": [
    "squareDiff8 := fourSquares(190,1751,208,1698)"
   ]
  },
  {
   "cell_type": "code",
   "execution_count": 25,
   "metadata": {
    "collapsed": false
   },
   "outputs": [
    {
     "name": "stdout",
     "output_type": "stream",
     "text": [
      "                "
     ]
    },
    {
     "data": {
      "text/plain": [
       "                     +----+          +---+  +---+          +---+ +----+\n",
       "           (- 214702\\|1751  - 651782\\|190 )\\|208  - 224642\\|190 \\|1751\n",
       "         + \n",
       "           - 129571901\n",
       "    *\n",
       "        +----+\n",
       "       \\|1698\n",
       "   + \n",
       "               +---+ +----+              +---+             +----+\n",
       "     (- 641842\\|190 \\|1751  - 370209881)\\|208  - 127595865\\|1751\n",
       "   + \n",
       "                 +---+\n",
       "     - 387349387\\|190\n",
       "                              Type: Union(RealClosure(Fraction(Integer)),...)\n"
      ]
     },
     "execution_count": 25,
     "metadata": {},
     "output_type": "execute_result"
    }
   ],
   "source": [
    "recip(squareDiff8)"
   ]
  },
  {
   "cell_type": "code",
   "execution_count": 26,
   "metadata": {
    "collapsed": false
   },
   "outputs": [
    {
     "data": {
      "text/plain": [
       "   - 1\n",
       "                                                                Type: Integer\n"
      ]
     },
     "execution_count": 26,
     "metadata": {},
     "output_type": "execute_result"
    }
   ],
   "source": [
    "sign(squareDiff8)"
   ]
  },
  {
   "cell_type": "code",
   "execution_count": 27,
   "metadata": {
    "collapsed": false
   },
   "outputs": [
    {
     "data": {
      "text/plain": [
       "   - 0.2340527771_5937700123 E -10\n",
       "                                                                  Type: Float\n"
      ]
     },
     "execution_count": 27,
     "metadata": {},
     "output_type": "execute_result"
    }
   ],
   "source": [
    "relativeApprox(squareDiff8,10^(-3))::Float"
   ]
  },
  {
   "cell_type": "markdown",
   "metadata": {},
   "source": [
    "\n",
    " test the Renaud Rioboo fix (Jan 2004)\n",
    "\n"
   ]
  },
  {
   "cell_type": "code",
   "execution_count": 28,
   "metadata": {
    "collapsed": false
   },
   "outputs": [
    {
     "data": {
      "text/plain": [
       "   [2,3,4]\n",
       "                                   Type: List(RealClosure(Fraction(Integer)))\n"
      ]
     },
     "execution_count": 28,
     "metadata": {},
     "output_type": "execute_result"
    }
   ],
   "source": [
    "allRootsOf((x-2)*(x-3)*(x-4))$RECLOS(FRAC INT)"
   ]
  },
  {
   "cell_type": "markdown",
   "metadata": {},
   "source": [
    "\n",
    " check out if the sum of all roots is null\n",
    " example from P.V. Koseleff\n",
    "\n"
   ]
  },
  {
   "cell_type": "code",
   "execution_count": 29,
   "metadata": {
    "collapsed": false
   },
   "outputs": [
    {
     "data": {
      "text/plain": [
       "   [%A33,%A34,%A35,%A36]\n",
       "                                   Type: List(RealClosure(Fraction(Integer)))\n"
      ]
     },
     "execution_count": 29,
     "metadata": {},
     "output_type": "execute_result"
    }
   ],
   "source": [
    "l := allRootsOf((x^2-2)^2-2)$Ran"
   ]
  },
  {
   "cell_type": "code",
   "execution_count": 30,
   "metadata": {
    "collapsed": false
   },
   "outputs": [
    {
     "data": {
      "text/plain": [
       "   0\n",
       "                                         Type: RealClosure(Fraction(Integer))\n"
      ]
     },
     "execution_count": 30,
     "metadata": {},
     "output_type": "execute_result"
    }
   ],
   "source": [
    "l.1+l.2+l.3+l.4"
   ]
  },
  {
   "cell_type": "code",
   "execution_count": 31,
   "metadata": {
    "collapsed": false
   },
   "outputs": [
    {
     "data": {
      "text/plain": [
       "     4     2\n",
       "   [?  - 4?  + 2]\n",
       "Type: List(Union(SparseUnivariatePolynomial(RealClosure(Fraction(Integer))),\"failed\"))\n"
      ]
     },
     "execution_count": 31,
     "metadata": {},
     "output_type": "execute_result"
    }
   ],
   "source": [
    "removeDuplicates map(mainDefiningPolynomial,l)"
   ]
  },
  {
   "cell_type": "code",
   "execution_count": 32,
   "metadata": {
    "collapsed": false
   },
   "outputs": [
    {
     "data": {
      "text/plain": [
       "   [[- 2,- 1[,[- 1,0[,[0,1[,[1,2[]\n",
       "Type: List(Union(RightOpenIntervalRootCharacterization(RealClosure(Fraction(Integer)),SparseUnivariatePolynomial(RealClosure(Fraction(Integer)))),\"failed\"))\n"
      ]
     },
     "execution_count": 32,
     "metadata": {},
     "output_type": "execute_result"
    }
   ],
   "source": [
    "map(mainCharacterization,l)"
   ]
  },
  {
   "cell_type": "code",
   "execution_count": 33,
   "metadata": {
    "collapsed": false
   },
   "outputs": [
    {
     "data": {
      "text/plain": [
       "   [0,0]\n",
       "                                   Type: List(RealClosure(Fraction(Integer)))\n"
      ]
     },
     "execution_count": 33,
     "metadata": {},
     "output_type": "execute_result"
    }
   ],
   "source": [
    "[reduce(+,l),reduce(*,l)-2]"
   ]
  },
  {
   "cell_type": "markdown",
   "metadata": {},
   "source": [
    "\n",
    " a more complicated test that involve an extension of degree 256\n",
    " example by prof Kahan at ISSAC'92\n",
    "\n"
   ]
  },
  {
   "cell_type": "code",
   "execution_count": 34,
   "metadata": {
    "collapsed": false
   },
   "outputs": [
    {
     "data": {
      "text/plain": []
     },
     "execution_count": 34,
     "metadata": {},
     "output_type": "execute_result"
    }
   ],
   "source": [
    ")cl prop s2 s5 10"
   ]
  },
  {
   "cell_type": "code",
   "execution_count": 35,
   "metadata": {
    "collapsed": false
   },
   "outputs": [
    {
     "data": {
      "text/plain": [
       "    +--+\n",
       "   \\|10\n",
       "                                         Type: RealClosure(Fraction(Integer))\n"
      ]
     },
     "execution_count": 35,
     "metadata": {},
     "output_type": "execute_result"
    }
   ],
   "source": [
    "(s2, s5, s10) := (sqrt(2)$Ran, sqrt(5)$Ran, sqrt(10)$Ran)"
   ]
  },
  {
   "cell_type": "code",
   "execution_count": 36,
   "metadata": {
    "collapsed": false
   },
   "outputs": [
    {
     "data": {
      "text/plain": [
       "      +---------+ +--------+    +---------+ +--------+   +-----------+\n",
       "      | +--+      | +-+         | +--+      | +-+        |   +-+\n",
       "   - \\|\\|10  - 3 \\|\\|5  - 2  + \\|\\|10  + 3 \\|\\|5  + 2 = \\|10\\|2  + 10\n",
       "                               Type: Equation(RealClosure(Fraction(Integer)))\n"
      ]
     },
     "execution_count": 36,
     "metadata": {},
     "output_type": "execute_result"
    }
   ],
   "source": [
    "eq1:=sqrt(s10+3)*sqrt(s5+2) - sqrt(s10-3)*sqrt(s5-2) = sqrt(10*s2+10)"
   ]
  },
  {
   "cell_type": "code",
   "execution_count": 37,
   "metadata": {
    "collapsed": false
   },
   "outputs": [
    {
     "data": {
      "text/plain": [
       "   true\n",
       "                                                                Type: Boolean\n"
      ]
     },
     "execution_count": 37,
     "metadata": {},
     "output_type": "execute_result"
    }
   ],
   "source": [
    "eq1::Boolean"
   ]
  },
  {
   "cell_type": "markdown",
   "metadata": {},
   "source": [
    "\n",
    " analogous one by [rr]\n",
    "\n"
   ]
  },
  {
   "cell_type": "code",
   "execution_count": 38,
   "metadata": {
    "collapsed": false
   },
   "outputs": [
    {
     "data": {
      "text/plain": [
       "      +--------+ +--------+    +--------+ +--------+   +----------+\n",
       "      | +-+      | +-+         | +-+      | +-+        |  +--+\n",
       "   - \\|\\|5  - 2 \\|\\|2  - 1  + \\|\\|5  + 2 \\|\\|2  + 1 = \\|2\\|10  + 2\n",
       "                               Type: Equation(RealClosure(Fraction(Integer)))\n"
      ]
     },
     "execution_count": 38,
     "metadata": {},
     "output_type": "execute_result"
    }
   ],
   "source": [
    "eq2:=sqrt(s5+2)*sqrt(s2+1) - sqrt(s5-2)*sqrt(s2-1) = sqrt(2*s10+2)"
   ]
  },
  {
   "cell_type": "code",
   "execution_count": 39,
   "metadata": {
    "collapsed": false
   },
   "outputs": [
    {
     "data": {
      "text/plain": [
       "   true\n",
       "                                                                Type: Boolean\n"
      ]
     },
     "execution_count": 39,
     "metadata": {},
     "output_type": "execute_result"
    }
   ],
   "source": [
    "eq2::Boolean"
   ]
  },
  {
   "cell_type": "markdown",
   "metadata": {},
   "source": [
    "\n",
    " these came from J.M. Arnaudies\n",
    "\n"
   ]
  },
  {
   "cell_type": "code",
   "execution_count": 40,
   "metadata": {
    "collapsed": false
   },
   "outputs": [
    {
     "data": {
      "text/plain": []
     },
     "execution_count": 40,
     "metadata": {},
     "output_type": "execute_result"
    }
   ],
   "source": [
    ")cl prop s4 s7 e1 e2"
   ]
  },
  {
   "cell_type": "code",
   "execution_count": 41,
   "metadata": {
    "collapsed": false
   },
   "outputs": [
    {
     "data": {
      "text/plain": [
       "    +-+\n",
       "   \\|3\n",
       "                                         Type: RealClosure(Fraction(Integer))\n"
      ]
     },
     "execution_count": 41,
     "metadata": {},
     "output_type": "execute_result"
    }
   ],
   "source": [
    "s3 := sqrt(3)$Ran"
   ]
  },
  {
   "cell_type": "code",
   "execution_count": 42,
   "metadata": {
    "collapsed": false
   },
   "outputs": [
    {
     "data": {
      "text/plain": [
       "    +-+\n",
       "   \\|7\n",
       "                                         Type: RealClosure(Fraction(Integer))\n"
      ]
     },
     "execution_count": 42,
     "metadata": {},
     "output_type": "execute_result"
    }
   ],
   "source": [
    "s7:= sqrt(7)$Ran"
   ]
  },
  {
   "cell_type": "code",
   "execution_count": 43,
   "metadata": {
    "collapsed": false
   },
   "outputs": [
    {
     "data": {
      "text/plain": [
       "    +-------------+\n",
       "   3|  +-+     +-+\n",
       "   \\|2\\|7  - 3\\|3\n",
       "                                         Type: RealClosure(Fraction(Integer))\n"
      ]
     },
     "execution_count": 43,
     "metadata": {},
     "output_type": "execute_result"
    }
   ],
   "source": [
    "e1 := sqrt(2*s7-3*s3,3)"
   ]
  },
  {
   "cell_type": "code",
   "execution_count": 44,
   "metadata": {
    "collapsed": false
   },
   "outputs": [
    {
     "data": {
      "text/plain": [
       "    +-------------+\n",
       "   3|  +-+     +-+\n",
       "   \\|2\\|7  + 3\\|3\n",
       "                                         Type: RealClosure(Fraction(Integer))\n"
      ]
     },
     "execution_count": 44,
     "metadata": {},
     "output_type": "execute_result"
    }
   ],
   "source": [
    "e2 := sqrt(2*s7+3*s3,3)"
   ]
  },
  {
   "cell_type": "markdown",
   "metadata": {},
   "source": [
    " this should be null\n"
   ]
  },
  {
   "cell_type": "code",
   "execution_count": 45,
   "metadata": {
    "collapsed": false
   },
   "outputs": [
    {
     "data": {
      "text/plain": [
       "    +-------------+    +-------------+\n",
       "   3|  +-+     +-+    3|  +-+     +-+    +-+\n",
       "   \\|2\\|7  + 3\\|3   - \\|2\\|7  - 3\\|3  = \\|3\n",
       "                               Type: Equation(RealClosure(Fraction(Integer)))\n"
      ]
     },
     "execution_count": 45,
     "metadata": {},
     "output_type": "execute_result"
    }
   ],
   "source": [
    "ee1:=e2-e1=s3"
   ]
  },
  {
   "cell_type": "code",
   "execution_count": 46,
   "metadata": {
    "collapsed": false
   },
   "outputs": [
    {
     "data": {
      "text/plain": [
       "   true\n",
       "                                                                Type: Boolean\n"
      ]
     },
     "execution_count": 46,
     "metadata": {},
     "output_type": "execute_result"
    }
   ],
   "source": [
    "ee1::Boolean"
   ]
  },
  {
   "cell_type": "code",
   "execution_count": 47,
   "metadata": {
    "collapsed": false
   },
   "outputs": [
    {
     "data": {
      "text/plain": []
     },
     "execution_count": 47,
     "metadata": {},
     "output_type": "execute_result"
    }
   ],
   "source": [
    ")cl prop pol r1 alpha beta"
   ]
  },
  {
   "cell_type": "code",
   "execution_count": 48,
   "metadata": {
    "collapsed": false
   },
   "outputs": [
    {
     "data": {
      "text/plain": [
       "    4   7  2         100\n",
       "   x  + - x  + 30x - ---\n",
       "        3             3\n",
       "                 Type: UnivariatePolynomial(x,RealClosure(Fraction(Integer)))\n"
      ]
     },
     "execution_count": 48,
     "metadata": {},
     "output_type": "execute_result"
    }
   ],
   "source": [
    "pol : UP(x,Ran) := x^4+(7/3)*x^2+30*x-(100/3)"
   ]
  },
  {
   "cell_type": "code",
   "execution_count": 49,
   "metadata": {
    "collapsed": false
   },
   "outputs": [
    {
     "data": {
      "text/plain": [
       "    +----+\n",
       "   \\|7633\n",
       "                                         Type: RealClosure(Fraction(Integer))\n"
      ]
     },
     "execution_count": 49,
     "metadata": {},
     "output_type": "execute_result"
    }
   ],
   "source": [
    "r1 := sqrt(7633)$Ran"
   ]
  },
  {
   "cell_type": "markdown",
   "metadata": {},
   "source": [
    " cubic roots\n"
   ]
  },
  {
   "cell_type": "code",
   "execution_count": 50,
   "metadata": {
    "collapsed": false
   },
   "outputs": [
    {
     "data": {
      "text/plain": [
       "      +--------------+\n",
       "   1 3|  +----+\n",
       "   - \\|5\\|7633  - 436\n",
       "   3\n",
       "                                         Type: RealClosure(Fraction(Integer))\n"
      ]
     },
     "execution_count": 50,
     "metadata": {},
     "output_type": "execute_result"
    }
   ],
   "source": [
    "alpha := sqrt(5*r1-436,3)/3"
   ]
  },
  {
   "cell_type": "code",
   "execution_count": 51,
   "metadata": {
    "collapsed": false
   },
   "outputs": [
    {
     "data": {
      "text/plain": [
       "        +--------------+\n",
       "     1 3|  +----+\n",
       "   - - \\|5\\|7633  + 436\n",
       "     3\n",
       "                                         Type: RealClosure(Fraction(Integer))\n"
      ]
     },
     "execution_count": 51,
     "metadata": {},
     "output_type": "execute_result"
    }
   ],
   "source": [
    "beta := -sqrt(5*r1+436,3)/3"
   ]
  },
  {
   "cell_type": "markdown",
   "metadata": {},
   "source": [
    " this should be null\n"
   ]
  },
  {
   "cell_type": "code",
   "execution_count": 52,
   "metadata": {
    "collapsed": false
   },
   "outputs": [
    {
     "data": {
      "text/plain": [
       "   0\n",
       "                                         Type: RealClosure(Fraction(Integer))\n"
      ]
     },
     "execution_count": 52,
     "metadata": {},
     "output_type": "execute_result"
    }
   ],
   "source": [
    "pol.(alpha+beta-1/3)"
   ]
  },
  {
   "cell_type": "code",
   "execution_count": 53,
   "metadata": {
    "collapsed": false
   },
   "outputs": [
    {
     "data": {
      "text/plain": []
     },
     "execution_count": 53,
     "metadata": {},
     "output_type": "execute_result"
    }
   ],
   "source": [
    ")cl prop qol r2 alpha beta"
   ]
  },
  {
   "cell_type": "code",
   "execution_count": 54,
   "metadata": {
    "collapsed": false
   },
   "outputs": [
    {
     "data": {
      "text/plain": [
       "    +---+\n",
       "   \\|153\n",
       "                                         Type: RealClosure(Fraction(Integer))\n"
      ]
     },
     "execution_count": 54,
     "metadata": {},
     "output_type": "execute_result"
    }
   ],
   "source": [
    "r2 := sqrt(153)$Ran"
   ]
  },
  {
   "cell_type": "markdown",
   "metadata": {},
   "source": [
    " roots of order 5\n"
   ]
  },
  {
   "cell_type": "code",
   "execution_count": 55,
   "metadata": {
    "collapsed": false
   },
   "outputs": [
    {
     "data": {
      "text/plain": [
       "    +-----------+\n",
       "   5| +---+\n",
       "   \\|\\|153  - 11\n",
       "                                         Type: RealClosure(Fraction(Integer))\n"
      ]
     },
     "execution_count": 55,
     "metadata": {},
     "output_type": "execute_result"
    }
   ],
   "source": [
    "alpha2 := sqrt(r2-11,5)"
   ]
  },
  {
   "cell_type": "code",
   "execution_count": 56,
   "metadata": {
    "collapsed": false
   },
   "outputs": [
    {
     "data": {
      "text/plain": [
       "      +-----------+\n",
       "     5| +---+\n",
       "   - \\|\\|153  + 11\n",
       "                                         Type: RealClosure(Fraction(Integer))\n"
      ]
     },
     "execution_count": 56,
     "metadata": {},
     "output_type": "execute_result"
    }
   ],
   "source": [
    "beta2 := -sqrt(r2+11,5)"
   ]
  },
  {
   "cell_type": "code",
   "execution_count": 57,
   "metadata": {
    "collapsed": false
   },
   "outputs": [
    {
     "data": {
      "text/plain": [
       "    5      3\n",
       "   x  + 10x  + 20x + 22\n",
       "                 Type: UnivariatePolynomial(x,RealClosure(Fraction(Integer)))\n"
      ]
     },
     "execution_count": 57,
     "metadata": {},
     "output_type": "execute_result"
    }
   ],
   "source": [
    "qol : UP(x,Ran) := x^5+10*x^3+20*x+22"
   ]
  },
  {
   "cell_type": "code",
   "execution_count": 58,
   "metadata": {
    "collapsed": false
   },
   "outputs": [
    {
     "data": {
      "text/plain": [
       "   0\n",
       "                                         Type: RealClosure(Fraction(Integer))\n"
      ]
     },
     "execution_count": 58,
     "metadata": {},
     "output_type": "execute_result"
    }
   ],
   "source": [
    "qol(alpha2+beta2)"
   ]
  },
  {
   "cell_type": "code",
   "execution_count": 59,
   "metadata": {
    "collapsed": false
   },
   "outputs": [
    {
     "data": {
      "text/plain": [
       "    +---------+\n",
       "    |  +-+         +-+\n",
       "   \\|4\\|2  + 9 = 2\\|2  + 1\n",
       "                               Type: Equation(RealClosure(Fraction(Integer)))\n"
      ]
     },
     "execution_count": 59,
     "metadata": {},
     "output_type": "execute_result"
    }
   ],
   "source": [
    "dst1:=sqrt(9+4*s2)=1+2*s2"
   ]
  },
  {
   "cell_type": "code",
   "execution_count": 60,
   "metadata": {
    "collapsed": false
   },
   "outputs": [
    {
     "data": {
      "text/plain": [
       "   true\n",
       "                                                                Type: Boolean\n"
      ]
     },
     "execution_count": 60,
     "metadata": {},
     "output_type": "execute_result"
    }
   ],
   "source": [
    "dst1::Boolean"
   ]
  },
  {
   "cell_type": "code",
   "execution_count": 61,
   "metadata": {
    "collapsed": false
   },
   "outputs": [
    {
     "data": {
      "text/plain": [
       "    +-+\n",
       "   \\|6\n",
       "                                         Type: RealClosure(Fraction(Integer))\n"
      ]
     },
     "execution_count": 61,
     "metadata": {},
     "output_type": "execute_result"
    }
   ],
   "source": [
    "s6:Ran:=sqrt 6"
   ]
  },
  {
   "cell_type": "code",
   "execution_count": 62,
   "metadata": {
    "collapsed": false
   },
   "outputs": [
    {
     "data": {
      "text/plain": [
       "    +-----------+    +---------+\n",
       "    |    +-+         |  +-+         +-+\n",
       "   \\|- 2\\|6  + 5  + \\|2\\|6  + 5 = 2\\|3\n",
       "                               Type: Equation(RealClosure(Fraction(Integer)))\n"
      ]
     },
     "execution_count": 62,
     "metadata": {},
     "output_type": "execute_result"
    }
   ],
   "source": [
    "dst2:=sqrt(5+2*s6)+sqrt(5-2*s6) = 2*s3"
   ]
  },
  {
   "cell_type": "code",
   "execution_count": 63,
   "metadata": {
    "collapsed": false
   },
   "outputs": [
    {
     "data": {
      "text/plain": [
       "   true\n",
       "                                                                Type: Boolean\n"
      ]
     },
     "execution_count": 63,
     "metadata": {},
     "output_type": "execute_result"
    }
   ],
   "source": [
    "dst2::Boolean"
   ]
  },
  {
   "cell_type": "code",
   "execution_count": 64,
   "metadata": {
    "collapsed": false
   },
   "outputs": [
    {
     "data": {
      "text/plain": [
       "    +--+\n",
       "   \\|29\n",
       "                                         Type: RealClosure(Fraction(Integer))\n"
      ]
     },
     "execution_count": 64,
     "metadata": {},
     "output_type": "execute_result"
    }
   ],
   "source": [
    "s29:Ran:=sqrt 29"
   ]
  },
  {
   "cell_type": "code",
   "execution_count": 65,
   "metadata": {
    "collapsed": false
   },
   "outputs": [
    {
     "data": {
      "text/plain": [
       "    +--------------------------------+\n",
       "    |  +--------------+                    +-----------+    +----------+\n",
       "    |  |     +--+           +--+           |  +--+          |  +-+          +-+\n",
       "   \\|2\\|- 10\\|29  + 55  - 2\\|29  + 16 = - \\|2\\|29  + 11  + \\|2\\|5  + 22  + \\|5\n",
       "                               Type: Equation(RealClosure(Fraction(Integer)))\n"
      ]
     },
     "execution_count": 65,
     "metadata": {},
     "output_type": "execute_result"
    }
   ],
   "source": [
    "dst4:=sqrt(16-2*s29+2*sqrt(55-10*s29)) = sqrt(22+2*s5)-sqrt(11+2*s29)+s5"
   ]
  },
  {
   "cell_type": "code",
   "execution_count": 66,
   "metadata": {
    "collapsed": false
   },
   "outputs": [
    {
     "data": {
      "text/plain": [
       "   true\n",
       "                                                                Type: Boolean\n"
      ]
     },
     "execution_count": 66,
     "metadata": {},
     "output_type": "execute_result"
    }
   ],
   "source": [
    "dst4::Boolean"
   ]
  },
  {
   "cell_type": "code",
   "execution_count": 67,
   "metadata": {
    "collapsed": false
   },
   "outputs": [
    {
     "data": {
      "text/plain": [
       "    +--------------------------------+\n",
       "    |    +-+       +-+      +-+           +-+      +-+     +-+\n",
       "   \\|(34\\|2  + 46)\\|5  + 70\\|2  + 112 = (\\|2  + 3)\\|5  + 4\\|2  + 5\n",
       "                               Type: Equation(RealClosure(Fraction(Integer)))\n"
      ]
     },
     "execution_count": 67,
     "metadata": {},
     "output_type": "execute_result"
    }
   ],
   "source": [
    "dst6:=sqrt((112+70*s2)+(46+34*s2)*s5) = (5+4*s2)+(3+s2)*s5"
   ]
  },
  {
   "cell_type": "code",
   "execution_count": 68,
   "metadata": {
    "collapsed": false
   },
   "outputs": [
    {
     "data": {
      "text/plain": [
       "   true\n",
       "                                                                Type: Boolean\n"
      ]
     },
     "execution_count": 68,
     "metadata": {},
     "output_type": "execute_result"
    }
   ],
   "source": [
    "dst6::Boolean"
   ]
  },
  {
   "cell_type": "code",
   "execution_count": 69,
   "metadata": {
    "collapsed": false
   },
   "outputs": [
    {
     "data": {
      "text/plain": [
       "   5+-+\n",
       "   \\|3\n",
       "                                         Type: RealClosure(Fraction(Integer))\n"
      ]
     },
     "execution_count": 69,
     "metadata": {},
     "output_type": "execute_result"
    }
   ],
   "source": [
    "f3:Ran:=sqrt(3,5)"
   ]
  },
  {
   "cell_type": "code",
   "execution_count": 70,
   "metadata": {
    "collapsed": false
   },
   "outputs": [
    {
     "data": {
      "text/plain": [
       "    +--+\n",
       "    | 1\n",
       "   5|--\n",
       "   \\|25\n",
       "                                         Type: RealClosure(Fraction(Integer))\n"
      ]
     },
     "execution_count": 70,
     "metadata": {},
     "output_type": "execute_result"
    }
   ],
   "source": [
    "f25:Ran:=sqrt(1/25,5)"
   ]
  },
  {
   "cell_type": "code",
   "execution_count": 71,
   "metadata": {
    "collapsed": false
   },
   "outputs": [
    {
     "data": {
      "text/plain": [
       "    +--+\n",
       "    |32\n",
       "   5|--\n",
       "   \\| 5\n",
       "                                         Type: RealClosure(Fraction(Integer))\n"
      ]
     },
     "execution_count": 71,
     "metadata": {},
     "output_type": "execute_result"
    }
   ],
   "source": [
    "f32:Ran:=sqrt(32/5,5)"
   ]
  },
  {
   "cell_type": "code",
   "execution_count": 72,
   "metadata": {
    "collapsed": false
   },
   "outputs": [
    {
     "data": {
      "text/plain": [
       "    +--+\n",
       "    |27\n",
       "   5|--\n",
       "   \\| 5\n",
       "                                         Type: RealClosure(Fraction(Integer))\n"
      ]
     },
     "execution_count": 72,
     "metadata": {},
     "output_type": "execute_result"
    }
   ],
   "source": [
    "f27:Ran:=sqrt(27/5,5)"
   ]
  },
  {
   "cell_type": "code",
   "execution_count": 73,
   "metadata": {
    "collapsed": false
   },
   "outputs": [
    {
     "data": {
      "text/plain": [
       "    +---------------+\n",
       "    |   +--+    +--+                         +--+\n",
       "    |   |27     |32       5+-+2   5+-+       | 1\n",
       "   3|- 5|--  + 5|--  = (- \\|3   + \\|3  + 1) 5|--\n",
       "   \\|  \\| 5    \\| 5                         \\|25\n",
       "                               Type: Equation(RealClosure(Fraction(Integer)))\n"
      ]
     },
     "execution_count": 73,
     "metadata": {},
     "output_type": "execute_result"
    }
   ],
   "source": [
    "dst5:=sqrt((f32-f27,3)) = f25*(1+f3-f3^2)"
   ]
  },
  {
   "cell_type": "code",
   "execution_count": 74,
   "metadata": {
    "collapsed": false
   },
   "outputs": [
    {
     "data": {
      "text/plain": [
       "   true\n",
       "                                                                Type: Boolean\n"
      ]
     },
     "execution_count": 74,
     "metadata": {},
     "output_type": "execute_result"
    }
   ],
   "source": [
    "dst5::Boolean"
   ]
  },
  {
   "cell_type": "code",
   "execution_count": 75,
   "metadata": {
    "collapsed": false
   },
   "outputs": [
    {
     "data": {
      "text/plain": []
     },
     "execution_count": 75,
     "metadata": {},
     "output_type": "execute_result"
    }
   ],
   "source": [
    "--\n",
    "-- EOF\n",
    "--"
   ]
  }
 ],
 "metadata": {
  "kernelspec": {
   "display_name": "FriCAS",
   "language": "spad",
   "name": "ifricas"
  },
  "language_info": {
   "codemirror_mode": "spad",
   "mimetype": "text/x-spad",
   "name": "SPAD",
   "pygments_lexer": "spad",
   "version": "1.2.6"
  },
  "name": "reclos.ipynb"
 },
 "nbformat": 4,
 "nbformat_minor": 0
}