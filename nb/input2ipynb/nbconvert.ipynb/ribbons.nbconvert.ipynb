{
 "cells": [
  {
   "cell_type": "markdown",
   "metadata": {},
   "source": [
    "Copyright The Numerical Algorithms Group Limited 1994.\n",
    "the second attempt\n"
   ]
  },
  {
   "cell_type": "code",
   "execution_count": 0,
   "metadata": {
    "collapsed": false
   },
   "outputs": [
    {
     "data": {
      "text/plain": [
       "                                                                   Type: Void\n"
      ]
     },
     "execution_count": 0,
     "metadata": {},
     "output_type": "execute_result"
    }
   ],
   "source": [
    "drawRibbons(flist, xrange, yrange) ==\n",
    " sp := createThreeSpace()\n",
    " num := # flist\n",
    " yVar := variable yrange\n",
    " y0:Float    := lo segment yrange\n",
    " width:Float := (hi segment yrange - y0)/num\n",
    " for f in flist for color in 1..num repeat\n",
    "  makeObject(f, xrange, yVar = y0..y0+width,\n",
    "   var2Steps == 1, colorFunction == (x,y) +-> color,\n",
    "    space ==sp)\n",
    "  y0:= y0 + width\n",
    " vp := makeViewport3D(sp, \"Ribbons\")\n",
    " drawStyle(vp, \"shade\")\n",
    " outlineRender(vp, \"on\")\n",
    " showRegion(vp, \"on\")\n",
    " vp"
   ]
  },
  {
   "cell_type": "code",
   "execution_count": 1,
   "metadata": {
    "collapsed": false
   },
   "outputs": [
    {
     "data": {
      "text/plain": []
     },
     "execution_count": 1,
     "metadata": {},
     "output_type": "execute_result"
    }
   ],
   "source": [
    "--\n",
    "-- EOF\n",
    "--"
   ]
  }
 ],
 "metadata": {
  "kernelspec": {
   "display_name": "FriCAS",
   "language": "spad",
   "name": "ifricas"
  },
  "language_info": {
   "codemirror_mode": "spad",
   "mimetype": "text/x-spad",
   "name": "SPAD",
   "pygments_lexer": "spad",
   "version": "1.2.6"
  },
  "name": "ribbons.ipynb"
 },
 "nbformat": 4,
 "nbformat_minor": 0
}