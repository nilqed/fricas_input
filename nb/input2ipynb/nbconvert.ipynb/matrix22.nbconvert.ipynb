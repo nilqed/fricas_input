{
 "cells": [
  {
   "cell_type": "code",
   "execution_count": 0,
   "metadata": {
    "collapsed": false
   },
   "outputs": [
    {
     "data": {
      "text/plain": []
     },
     "execution_count": 0,
     "metadata": {},
     "output_type": "execute_result"
    }
   ],
   "source": [
    ")set break resume"
   ]
  },
  {
   "cell_type": "markdown",
   "metadata": {},
   "source": [
    "Copyright The Numerical Algorithms Group Limited 1991.\n"
   ]
  },
  {
   "cell_type": "code",
   "execution_count": 1,
   "metadata": {
    "collapsed": false
   },
   "outputs": [
    {
     "name": "stdout",
     "output_type": "stream",
     "text": [
      "   All user variables and function definitions have been cleared.\n"
     ]
    },
    {
     "data": {
      "text/plain": []
     },
     "execution_count": 1,
     "metadata": {},
     "output_type": "execute_result"
    }
   ],
   "source": [
    ")clear all"
   ]
  },
  {
   "cell_type": "markdown",
   "metadata": {},
   "source": [
    " this file shows nesting of matrices\n"
   ]
  },
  {
   "cell_type": "code",
   "execution_count": 2,
   "metadata": {
    "collapsed": false
   },
   "outputs": [
    {
     "name": "stdout",
     "output_type": "stream",
     "text": [
      "Warning: HyperTeX macro table not found\n"
     ]
    },
    {
     "data": {
      "text/plain": [
       "   + 0   1+\n",
       "   |      |\n",
       "   +- 1  0+\n",
       "                                                Type: SquareMatrix(2,Integer)\n"
      ]
     },
     "execution_count": 2,
     "metadata": {},
     "output_type": "execute_result"
    }
   ],
   "source": [
    "m:SQMATRIX(2,INT) := squareMatrix matrix [[0,1],[-1,0]]"
   ]
  },
  {
   "cell_type": "markdown",
   "metadata": {},
   "source": [
    " this determinant can be computed\n"
   ]
  },
  {
   "cell_type": "code",
   "execution_count": 3,
   "metadata": {
    "collapsed": false
   },
   "outputs": [
    {
     "data": {
      "text/plain": [
       "   1\n",
       "                                                        Type: PositiveInteger\n"
      ]
     },
     "execution_count": 3,
     "metadata": {},
     "output_type": "execute_result"
    }
   ],
   "source": [
    "determinant m"
   ]
  },
  {
   "cell_type": "code",
   "execution_count": 4,
   "metadata": {
    "collapsed": false
   },
   "outputs": [
    {
     "data": {
      "text/plain": [
       "   ++ 0   1+  +- 1   0 ++\n",
       "   ||      |  |        ||\n",
       "   |+- 1  0+  + 0   - 1+|\n",
       "   |                    |\n",
       "   |+0  - 1+    +1  0+  |\n",
       "   ||      |    |    |  |\n",
       "   ++1   0 +    +0  1+  +\n",
       "                                Type: SquareMatrix(2,SquareMatrix(2,Integer))\n"
      ]
     },
     "execution_count": 4,
     "metadata": {},
     "output_type": "execute_result"
    }
   ],
   "source": [
    "n:SQMATRIX(2,SQMATRIX(2,INT)) :=\n",
    "  squareMatrix matrix [[m,m^2],[m^3,m^4]]"
   ]
  },
  {
   "cell_type": "markdown",
   "metadata": {},
   "source": [
    " this determinant cannot be computed by Scratchpad II\n",
    " because there is no function that computes the determinant of a\n",
    " matrix whose entries belong to a noncommutative ring\n"
   ]
  },
  {
   "cell_type": "code",
   "execution_count": 5,
   "metadata": {
    "collapsed": false
   },
   "outputs": [
    {
     "data": {
      "text/plain": []
     },
     "execution_count": 5,
     "metadata": {},
     "output_type": "execute_result"
    }
   ],
   "source": [
    ")set mes test off"
   ]
  },
  {
   "cell_type": "code",
   "execution_count": 6,
   "metadata": {
    "collapsed": false
   },
   "outputs": [
    {
     "name": "stderr",
     "output_type": "stream",
     "text": [
      "   There are 3 exposed and 1 unexposed library operations named \n",
      "      determinant having 1 argument(s) but none was determined to be \n",
      "      applicable. Use HyperDoc Browse, or issue\n",
      "                           )display op determinant\n",
      "      to learn more about the available operations. Perhaps \n",
      "      package-calling the operation or using coercions on the arguments\n",
      "      will allow you to apply the operation.\n",
      " \n",
      "   Cannot find a definition or applicable library operation named \n",
      "      determinant with argument type(s) \n",
      "                   SquareMatrix(2,SquareMatrix(2,Integer))\n",
      "      \n",
      "      Perhaps you should use \"@\" to indicate the required return type, \n",
      "      or \"$\" to specify which version of the function you need.\n",
      "\n"
     ]
    },
    {
     "data": {
      "text/plain": [
       "error\n"
      ]
     },
     "execution_count": 6,
     "metadata": {},
     "output_type": "execute_result"
    }
   ],
   "source": [
    "determinant n"
   ]
  },
  {
   "cell_type": "code",
   "execution_count": 7,
   "metadata": {
    "collapsed": false
   },
   "outputs": [
    {
     "data": {
      "text/plain": []
     },
     "execution_count": 7,
     "metadata": {},
     "output_type": "execute_result"
    }
   ],
   "source": [
    ")set mes test on"
   ]
  },
  {
   "cell_type": "markdown",
   "metadata": {},
   "source": [
    " another level of matrix\n"
   ]
  },
  {
   "cell_type": "code",
   "execution_count": 8,
   "metadata": {
    "collapsed": false
   },
   "outputs": [
    {
     "data": {
      "text/plain": [
       "   +++ 0   1+  +- 1   0 ++  ++- 1   1 +  +- 1  - 1+++\n",
       "   |||      |  |        ||  ||        |  |        |||\n",
       "   ||+- 1  0+  + 0   - 1+|  |+- 1  - 1+  + 1   - 1+||\n",
       "   ||                    |  |                      ||\n",
       "   ||+0  - 1+    +1  0+  |  | +1  - 1+    + 1   1+ ||\n",
       "   |||      |    |    |  |  | |      |    |      | ||\n",
       "   |++1   0 +    +0  1+  +  + +1   1 +    +- 1  1+ +|\n",
       "   |                                                |\n",
       "   |++- 2   0 +  +0  - 2++  ++- 2  - 2+   +2  - 2+ +|\n",
       "   |||        |  |      ||  ||        |   |      | ||\n",
       "   ||+ 0   - 2+  +2   0 +|  |+ 2   - 2+   +2   2 + ||\n",
       "   ||                    |  |                      ||\n",
       "   ||  +2  0+    + 0   2+|  | + 2   2+   +- 2   2 +||\n",
       "   ||  |    |    |      ||  | |      |   |        |||\n",
       "   ++  +0  2+    +- 2  0++  + +- 2  2+   +- 2  - 2+++\n",
       "                Type: SquareMatrix(2,SquareMatrix(2,SquareMatrix(2,Integer)))\n"
      ]
     },
     "execution_count": 8,
     "metadata": {},
     "output_type": "execute_result"
    }
   ],
   "source": [
    "o:SQMATRIX(2,SQMATRIX(2,SQMATRIX(2,INT))) :=\n",
    "   squareMatrix matrix [[n,n^2],[n^3,n^4]]"
   ]
  },
  {
   "cell_type": "code",
   "execution_count": 9,
   "metadata": {
    "collapsed": false
   },
   "outputs": [
    {
     "data": {
      "text/plain": [
       "   +++- 1  - 3+   +3  - 1+ +  + +2  - 4+    + 4   2+ ++\n",
       "   |||        |   |      | |  | |      |    |      | ||\n",
       "   ||+ 3   - 1+   +1   3 + |  | +4   2 +    +- 2  4+ ||\n",
       "   ||                      |  |                      ||\n",
       "   || + 1   3+   +- 3   1 +|  |+- 2   4 +  +- 4  - 2+||\n",
       "   || |      |   |        ||  ||        |  |        |||\n",
       "   |+ +- 3  1+   +- 1  - 3++  ++- 4  - 2+  + 2   - 4++|\n",
       "   |                                                  |\n",
       "   |+ +6  - 2+    + 2   6+ +  + + 8   4+   +- 4   8 ++|\n",
       "   || |      |    |      | |  | |      |   |        |||\n",
       "   || +2   6 +    +- 6  2+ |  | +- 4  8+   +- 8  - 4+||\n",
       "   ||                      |  |                      ||\n",
       "   ||+- 6   2 +  +- 2  - 6+|  |+- 8  - 4+   +4  - 8+ ||\n",
       "   |||        |  |        ||  ||        |   |      | ||\n",
       "   +++- 2  - 6+  + 6   - 2++  ++ 4   - 8+   +8   4 + ++\n",
       "                Type: SquareMatrix(2,SquareMatrix(2,SquareMatrix(2,Integer)))\n"
      ]
     },
     "execution_count": 9,
     "metadata": {},
     "output_type": "execute_result"
    }
   ],
   "source": [
    "o ^ 2"
   ]
  },
  {
   "cell_type": "markdown",
   "metadata": {},
   "source": [
    " add 2 to this matrix\n"
   ]
  },
  {
   "cell_type": "code",
   "execution_count": 10,
   "metadata": {
    "collapsed": false
   },
   "outputs": [
    {
     "data": {
      "text/plain": [
       "   + ++1  - 3+   +3  - 1+ +   + +2  - 4+    + 4   2+ ++\n",
       "   | ||      |   |      | |   | |      |    |      | ||\n",
       "   | |+3   1 +   +1   3 + |   | +4   2 +    +- 2  4+ ||\n",
       "   | |                    |   |                      ||\n",
       "   | |+ 1   3+  +- 1   1 +|   |+- 2   4 +  +- 4  - 2+||\n",
       "   | ||      |  |        ||   ||        |  |        |||\n",
       "   | ++- 3  1+  +- 1  - 1++   ++- 4  - 2+  + 2   - 4++|\n",
       "   |                                                  |\n",
       "   |+ +6  - 2+    + 2   6+ +  ++10   4 +   +- 4   8 ++|\n",
       "   || |      |    |      | |  ||       |   |        |||\n",
       "   || +2   6 +    +- 6  2+ |  |+- 4  10+   +- 8  - 4+||\n",
       "   ||                      |  |                      ||\n",
       "   ||+- 6   2 +  +- 2  - 6+|  |+- 8  - 4+   +6  - 8+ ||\n",
       "   |||        |  |        ||  ||        |   |      | ||\n",
       "   +++- 2  - 6+  + 6   - 2++  ++ 4   - 8+   +8   6 + ++\n",
       "                Type: SquareMatrix(2,SquareMatrix(2,SquareMatrix(2,Integer)))\n"
      ]
     },
     "execution_count": 10,
     "metadata": {},
     "output_type": "execute_result"
    }
   ],
   "source": [
    "% + 2"
   ]
  },
  {
   "cell_type": "markdown",
   "metadata": {},
   "source": [
    " what is 2 as a matrix?\n"
   ]
  },
  {
   "cell_type": "code",
   "execution_count": 11,
   "metadata": {
    "collapsed": false
   },
   "outputs": [
    {
     "data": {
      "text/plain": [
       "   +++2  0+  +0  0++  ++0  0+  +0  0+++\n",
       "   |||    |  |    ||  ||    |  |    |||\n",
       "   ||+0  2+  +0  0+|  |+0  0+  +0  0+||\n",
       "   ||              |  |              ||\n",
       "   ||+0  0+  +2  0+|  |+0  0+  +0  0+||\n",
       "   |||    |  |    ||  ||    |  |    |||\n",
       "   |++0  0+  +0  2++  ++0  0+  +0  0++|\n",
       "   |                                  |\n",
       "   |++0  0+  +0  0++  ++2  0+  +0  0++|\n",
       "   |||    |  |    ||  ||    |  |    |||\n",
       "   ||+0  0+  +0  0+|  |+0  2+  +0  0+||\n",
       "   ||              |  |              ||\n",
       "   ||+0  0+  +0  0+|  |+0  0+  +2  0+||\n",
       "   |||    |  |    ||  ||    |  |    |||\n",
       "   +++0  0+  +0  0++  ++0  0+  +0  2+++\n",
       "                Type: SquareMatrix(2,SquareMatrix(2,SquareMatrix(2,Integer)))\n"
      ]
     },
     "execution_count": 11,
     "metadata": {},
     "output_type": "execute_result"
    }
   ],
   "source": [
    "o := 2"
   ]
  },
  {
   "cell_type": "code",
   "execution_count": 12,
   "metadata": {
    "collapsed": false
   },
   "outputs": [
    {
     "data": {
      "text/plain": []
     },
     "execution_count": 12,
     "metadata": {},
     "output_type": "execute_result"
    }
   ],
   "source": [
    "--\n",
    "-- EOF\n",
    "--"
   ]
  }
 ],
 "metadata": {
  "kernelspec": {
   "display_name": "FriCAS",
   "language": "spad",
   "name": "ifricas"
  },
  "language_info": {
   "codemirror_mode": "spad",
   "mimetype": "text/x-spad",
   "name": "SPAD",
   "pygments_lexer": "spad",
   "version": "1.2.6"
  },
  "name": "matrix22.ipynb"
 },
 "nbformat": 4,
 "nbformat_minor": 0
}