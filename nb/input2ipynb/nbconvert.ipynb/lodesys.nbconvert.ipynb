{
 "cells": [
  {
   "cell_type": "markdown",
   "metadata": {},
   "source": [
    "Copyright The Numerical Algorithms Group Limited 1994.\n"
   ]
  },
  {
   "cell_type": "code",
   "execution_count": 0,
   "metadata": {
    "collapsed": false
   },
   "outputs": [
    {
     "name": "stdout",
     "output_type": "stream",
     "text": [
      "   All user variables and function definitions have been cleared.\n"
     ]
    },
    {
     "data": {
      "text/plain": []
     },
     "execution_count": 0,
     "metadata": {},
     "output_type": "execute_result"
    }
   ],
   "source": [
    ")cl all"
   ]
  },
  {
   "cell_type": "markdown",
   "metadata": {},
   "source": [
    " There are 2 different ways to input a homogeneous 1st order system of\n",
    " linear ordinary differential equations of the form  dy/dt = M y\n",
    " where y is a vector of unknown functions of t.\n",
    " the first is simply  solve(M, t)  which will be understood to be\n",
    " a differential system:\n"
   ]
  },
  {
   "cell_type": "code",
   "execution_count": 1,
   "metadata": {
    "collapsed": false
   },
   "outputs": [
    {
     "name": "stderr",
     "output_type": "stream",
     "text": [
      "  Line   1: M := matrix [[ 1+4*t,  -5*t,   7*t,  -8*t,   8*t,  -6*t],_\n",
      "  Line   2:              [ -10*t, 1+9*t, -14*t,  16*t, -16*t,  12*t],_\n",
      "  Line   3:              [  -5*t,   5*t, 1-8*t,   8*t,  -8*t,   6*t],_\n",
      "  Line   4:              [  10*t, -10*t,  14*t,1-17*t,  16*t, -12*t],_\n",
      "  Line   5:              [   5*t,  -5*t,   7*t,  -8*t, 1+7*t,  -6*t],_\n",
      "  Line   6: )--premature end\n",
      "           AB\n",
      "  Error  A: syntax error at top level\n",
      "  Error  A: Improper syntax.\n",
      "  Error  B: File \n",
      "            /home/kfp/Development/fricas_input/nb/input2ipynb/ipynb/.tmp-ispad-40694.input\n",
      "             ended where at least one )endif was still needed. An appropriate \n",
      "            number of )endif lines has been assumed.\n",
      "   3 error(s) parsing \n",
      "\n"
     ]
    },
    {
     "data": {
      "text/plain": [
       "error\n"
      ]
     },
     "execution_count": 1,
     "metadata": {},
     "output_type": "execute_result"
    }
   ],
   "source": [
    "M := matrix [[ 1+4*t,  -5*t,   7*t,  -8*t,   8*t,  -6*t],_\n",
    "             [ -10*t, 1+9*t, -14*t,  16*t, -16*t,  12*t],_\n",
    "             [  -5*t,   5*t, 1-8*t,   8*t,  -8*t,   6*t],_\n",
    "             [  10*t, -10*t,  14*t,1-17*t,  16*t, -12*t],_\n",
    "             [   5*t,  -5*t,   7*t,  -8*t, 1+7*t,  -6*t],_\n"
   ]
  },
  {
   "cell_type": "code",
   "execution_count": 2,
   "metadata": {
    "collapsed": false
   },
   "outputs": [
    {
     "name": "stderr",
     "output_type": "stream",
     "text": [
      " \n",
      "   NIL is not a valid identifier to use in FriCAS.\n",
      "\n"
     ]
    },
    {
     "data": {
      "text/plain": [
       "error\n"
      ]
     },
     "execution_count": 2,
     "metadata": {},
     "output_type": "execute_result"
    }
   ],
   "source": [
    "             [  -5*t,   5*t,  -7*t,   8*t,  -8*t, 1+5*t]]"
   ]
  },
  {
   "cell_type": "markdown",
   "metadata": {},
   "source": [
    " the original system in Barkatou's AAECC paper is t^2 dy/dt = M*y\n"
   ]
  },
  {
   "cell_type": "code",
   "execution_count": 3,
   "metadata": {
    "collapsed": false
   },
   "outputs": [
    {
     "name": "stdout",
     "output_type": "stream",
     "text": [
      "Warning: HyperTeX macro table not found\n"
     ]
    },
    {
     "data": {
      "text/plain": [
       "   []\n",
       "                          Type: List(Equation(Fraction(Polynomial(Integer))))\n"
      ]
     },
     "execution_count": 3,
     "metadata": {},
     "output_type": "execute_result"
    }
   ],
   "source": [
    "sol := solve(inv(t^2) * M, t)"
   ]
  },
  {
   "cell_type": "markdown",
   "metadata": {},
   "source": [
    " verify the solutions\n"
   ]
  },
  {
   "cell_type": "code",
   "execution_count": 4,
   "metadata": {
    "collapsed": false
   },
   "outputs": [
    {
     "data": {
      "text/plain": [
       "   []\n",
       "                          Type: List(Equation(Fraction(Polynomial(Integer))))\n"
      ]
     },
     "execution_count": 4,
     "metadata": {},
     "output_type": "execute_result"
    }
   ],
   "source": [
    "[t^2 * map(h +-> D(h, t), v) - M * v for v in sol]"
   ]
  },
  {
   "cell_type": "markdown",
   "metadata": {},
   "source": [
    " the second way is to type each equation using a separate operator for\n",
    " each unknown:\n"
   ]
  },
  {
   "cell_type": "code",
   "execution_count": 5,
   "metadata": {
    "collapsed": false
   },
   "outputs": [
    {
     "data": {
      "text/plain": [
       "   x\n",
       "                                                          Type: BasicOperator\n"
      ]
     },
     "execution_count": 5,
     "metadata": {},
     "output_type": "execute_result"
    }
   ],
   "source": [
    "x := operator x"
   ]
  },
  {
   "cell_type": "code",
   "execution_count": 6,
   "metadata": {
    "collapsed": false
   },
   "outputs": [
    {
     "data": {
      "text/plain": [
       "   y\n",
       "                                                          Type: BasicOperator\n"
      ]
     },
     "execution_count": 6,
     "metadata": {},
     "output_type": "execute_result"
    }
   ],
   "source": [
    "y := operator y"
   ]
  },
  {
   "cell_type": "code",
   "execution_count": 7,
   "metadata": {
    "collapsed": false
   },
   "outputs": [
    {
     "data": {
      "text/plain": [
       "     ,      +-+             ,               +-+\n",
       "   [x (t)= \\|3 y(t) + x(t),y (t)= - y(t) + \\|3 x(t)]\n",
       "\n",
       "                                    Type: List(Equation(Expression(Integer)))\n"
      ]
     },
     "execution_count": 7,
     "metadata": {},
     "output_type": "execute_result"
    }
   ],
   "source": [
    "sys := [D(x t, t) = x t + sqrt 3 * y t, D(y t, t) = sqrt 3 * x t - y t]"
   ]
  },
  {
   "cell_type": "code",
   "execution_count": 8,
   "metadata": {
    "collapsed": false
   },
   "outputs": [
    {
     "data": {
      "text/plain": [
       "            2t               - 2t\n",
       "       2t %e       - 2t   3%e\n",
       "   [[%e  ,----],[%e    ,- -------]]\n",
       "           +-+               +-+\n",
       "          \\|3               \\|3\n",
       "                                      Type: List(Vector(Expression(Integer)))\n"
      ]
     },
     "execution_count": 8,
     "metadata": {},
     "output_type": "execute_result"
    }
   ],
   "source": [
    "solve(sys, [x, y], t).basis"
   ]
  },
  {
   "cell_type": "markdown",
   "metadata": {},
   "source": [
    " Similarly there are 2 different ways to input the inhomogeneous system\n",
    " dy/dt = M y + v  where v is a given vector of functions.\n",
    " the first is   solve(M, v, t):\n"
   ]
  },
  {
   "cell_type": "code",
   "execution_count": 9,
   "metadata": {
    "collapsed": false
   },
   "outputs": [
    {
     "data": {
      "text/plain": [
       "        29     19\n",
       "   [1,- -- t + --,- 1,t + 1,- 2t + 3,- 1]\n",
       "         5      5\n",
       "                                  Type: Vector(Polynomial(Fraction(Integer)))\n"
      ]
     },
     "execution_count": 9,
     "metadata": {},
     "output_type": "execute_result"
    }
   ],
   "source": [
    "v := vector [1, (-29*t + 19)/5, -1, t + 1, - 2*t + 3, -1]"
   ]
  },
  {
   "cell_type": "markdown",
   "metadata": {},
   "source": [
    " get a particular solution to  t^2 dy/dt = M y + v\n"
   ]
  },
  {
   "cell_type": "code",
   "execution_count": 10,
   "metadata": {
    "collapsed": false
   },
   "outputs": [
    {
     "name": "stderr",
     "output_type": "stream",
     "text": [
      "   There are 6 exposed and 2 unexposed library operations named solve \n",
      "      having 3 argument(s) but none was determined to be applicable. \n",
      "      Use HyperDoc Browse, or issue\n",
      "                              )display op solve\n",
      "      to learn more about the available operations. Perhaps \n",
      "      package-calling the operation or using coercions on the arguments\n",
      "      will allow you to apply the operation.\n",
      " \n",
      "   Cannot find a definition or applicable library operation named solve\n",
      "      with argument type(s) \n",
      "                        Fraction(Polynomial(Integer))\n",
      "               Vector(Fraction(Polynomial(Fraction(Integer))))\n",
      "                                 Variable(t)\n",
      "      \n",
      "      Perhaps you should use \"@\" to indicate the required return type, \n",
      "      or \"$\" to specify which version of the function you need.\n",
      "\n"
     ]
    },
    {
     "data": {
      "text/plain": [
       "error\n"
      ]
     },
     "execution_count": 10,
     "metadata": {},
     "output_type": "execute_result"
    }
   ],
   "source": [
    "solp := solve(inv(t^2) * M, inv(t^2) * v, t).particular"
   ]
  },
  {
   "cell_type": "markdown",
   "metadata": {},
   "source": [
    " verify the particular solution\n"
   ]
  },
  {
   "cell_type": "code",
   "execution_count": 11,
   "metadata": {
    "collapsed": false
   },
   "outputs": [
    {
     "name": "stderr",
     "output_type": "stream",
     "text": [
      "   There are 5 exposed and 2 unexposed library operations named D \n",
      "      having 2 argument(s) but none was determined to be applicable. \n",
      "      Use HyperDoc Browse, or issue\n",
      "                                )display op D\n",
      "      to learn more about the available operations. Perhaps \n",
      "      package-calling the operation or using coercions on the arguments\n",
      "      will allow you to apply the operation.\n",
      "   There are 5 exposed and 2 unexposed library operations named D \n",
      "      having 2 argument(s) but none was determined to be applicable. \n",
      "      Use HyperDoc Browse, or issue\n",
      "                                )display op D\n",
      "      to learn more about the available operations. Perhaps \n",
      "      package-calling the operation or using coercions on the arguments\n",
      "      will allow you to apply the operation.\n",
      "   There are 8 exposed and 4 unexposed library operations named - \n",
      "      having 2 argument(s) but none was determined to be applicable. \n",
      "      Use HyperDoc Browse, or issue\n",
      "                                )display op -\n",
      "      to learn more about the available operations. Perhaps \n",
      "      package-calling the operation or using coercions on the arguments\n",
      "      will allow you to apply the operation.\n",
      " \n",
      "   Cannot find a definition or applicable library operation named - \n",
      "      with argument type(s) \n",
      "                        Factored(Polynomial(Integer))\n",
      "                    Vector(Polynomial(Fraction(Integer)))\n",
      "      \n",
      "      Perhaps you should use \"@\" to indicate the required return type, \n",
      "      or \"$\" to specify which version of the function you need.\n",
      "\n"
     ]
    },
    {
     "data": {
      "text/plain": [
       "error\n"
      ]
     },
     "execution_count": 11,
     "metadata": {},
     "output_type": "execute_result"
    }
   ],
   "source": [
    "t^2 * map(h +-> D(h, t), solp) - M * solp - v"
   ]
  },
  {
   "cell_type": "markdown",
   "metadata": {},
   "source": [
    " the second way is by listing the equations:\n"
   ]
  },
  {
   "cell_type": "code",
   "execution_count": 12,
   "metadata": {
    "collapsed": false
   },
   "outputs": [
    {
     "data": {
      "text/plain": [
       "   z\n",
       "                                                          Type: BasicOperator\n"
      ]
     },
     "execution_count": 12,
     "metadata": {},
     "output_type": "execute_result"
    }
   ],
   "source": [
    "z := operator z"
   ]
  },
  {
   "cell_type": "code",
   "execution_count": 13,
   "metadata": {
    "collapsed": false
   },
   "outputs": [
    {
     "data": {
      "text/plain": [
       "     ,                      ,                  ,\n",
       "   [x (t)= z(t) + y(t) + t,y (t)= z(t) + x(t),z (t)= y(t) + x(t)]\n",
       "\n",
       "                                    Type: List(Equation(Expression(Integer)))\n"
      ]
     },
     "execution_count": 13,
     "metadata": {},
     "output_type": "execute_result"
    }
   ],
   "source": [
    "sys := [D(x t, t) = y t + z t + t, D(y t, t) = x t + z t, D(z t, t) = x t + y t]"
   ]
  },
  {
   "cell_type": "code",
   "execution_count": 14,
   "metadata": {
    "collapsed": false
   },
   "outputs": [
    {
     "data": {
      "text/plain": [
       "    2t - 3 - 2t + 1 - 2t + 1\n",
       "   [------,--------,--------]\n",
       "       4       4        4\n",
       "                                            Type: Vector(Expression(Integer))\n"
      ]
     },
     "execution_count": 14,
     "metadata": {},
     "output_type": "execute_result"
    }
   ],
   "source": [
    "solve(sys, [x, y, z], t).particular"
   ]
  },
  {
   "cell_type": "code",
   "execution_count": 15,
   "metadata": {
    "collapsed": false
   },
   "outputs": [
    {
     "data": {
      "text/plain": []
     },
     "execution_count": 15,
     "metadata": {},
     "output_type": "execute_result"
    }
   ],
   "source": [
    "--\n",
    "-- EOF\n",
    "--"
   ]
  }
 ],
 "metadata": {
  "kernelspec": {
   "display_name": "FriCAS",
   "language": "spad",
   "name": "ifricas"
  },
  "language_info": {
   "codemirror_mode": "spad",
   "mimetype": "text/x-spad",
   "name": "SPAD",
   "pygments_lexer": "spad",
   "version": "1.2.6"
  },
  "name": "lodesys.ipynb"
 },
 "nbformat": 4,
 "nbformat_minor": 0
}