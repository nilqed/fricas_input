{
 "cells": [
  {
   "cell_type": "markdown",
   "metadata": {},
   "source": [
    "Copyright The Numerical Algorithms Group Limited 1994.\n"
   ]
  },
  {
   "cell_type": "code",
   "execution_count": 0,
   "metadata": {
    "collapsed": false
   },
   "outputs": [
    {
     "name": "stdout",
     "output_type": "stream",
     "text": [
      "   All user variables and function definitions have been cleared.\n"
     ]
    },
    {
     "data": {
      "text/plain": []
     },
     "execution_count": 0,
     "metadata": {},
     "output_type": "execute_result"
    }
   ],
   "source": [
    ")cl all"
   ]
  },
  {
   "cell_type": "markdown",
   "metadata": {},
   "source": [
    " There are 2 different ways to input a homogeneous 1st order system of\n",
    " linear ordinary differential equations of the form  dy/dt = M y\n",
    " where y is a vector of unknown functions of t.\n",
    " the first is simply  solve(M, t)  which will be understood to be\n",
    " a differential system:\n"
   ]
  },
  {
   "cell_type": "code",
   "execution_count": 1,
   "metadata": {
    "collapsed": false
   },
   "outputs": [
    {
     "name": "stdout",
     "output_type": "stream",
     "text": [
      "Warning: HyperTeX macro table not found\n",
      "\n"
     ]
    },
    {
     "data": {
      "text/plain": [
       "   +4t + 1   - 5t      7t       - 8t       8t     - 6t +\n",
       "   |                                                   |\n",
       "   |- 10t   9t + 1   - 14t       16t     - 16t    12t  |\n",
       "   |                                                   |\n",
       "   | - 5t     5t    - 8t + 1     8t       - 8t     6t  |\n",
       "   |                                                   |\n",
       "   | 10t    - 10t     14t     - 17t + 1   16t    - 12t |\n",
       "   |                                                   |\n",
       "   |  5t     - 5t      7t       - 8t     7t + 1   - 6t |\n",
       "   |                                                   |\n",
       "   + - 5t     5t      - 7t       8t       - 8t   5t + 1+\n",
       "                                            Type: Matrix(Polynomial(Integer))\n"
      ]
     },
     "execution_count": 1,
     "metadata": {},
     "output_type": "execute_result"
    }
   ],
   "source": [
    "M := matrix [[ 1+4*t,  -5*t,   7*t,  -8*t,   8*t,  -6*t],_\n",
    "             [ -10*t, 1+9*t, -14*t,  16*t, -16*t,  12*t],_\n",
    "             [  -5*t,   5*t, 1-8*t,   8*t,  -8*t,   6*t],_\n",
    "             [  10*t, -10*t,  14*t,1-17*t,  16*t, -12*t],_\n",
    "             [   5*t,  -5*t,   7*t,  -8*t, 1+7*t,  -6*t],_\n",
    "             [  -5*t,   5*t,  -7*t,   8*t,  -8*t, 1+5*t]]\n"
   ]
  },
  {
   "cell_type": "markdown",
   "metadata": {},
   "source": [
    " the original system in Barkatou's AAECC paper is t^2 dy/dt = M*y\n"
   ]
  },
  {
   "cell_type": "code",
   "execution_count": 2,
   "metadata": {
    "collapsed": false
   },
   "outputs": [
    {
     "name": "stdout",
     "output_type": "stream",
     "text": [
      "\n",
      "\n",
      "\n"
     ]
    },
    {
     "data": {
      "text/plain": [
       "           1          1         1        1       1         1\n",
       "         - -        - -       - -      - -     - -       - -\n",
       "      5    t     5    t    5    t   5    t  5    t    5    t\n",
       "   [[t %e   ,- 2t %e   ,- t %e   ,2t %e   ,t %e   ,- t %e   ],\n",
       "         1        1       1      1     1       1           1     1\n",
       "       - -      - -     - -    - -   - -     - -         - -   - -\n",
       "         t        t       t      t     t       t           t     t\n",
       "     %e      4%e      %e    2%e    %e      %e         7%e    %e\n",
       "    [-----,- ------,- -----,------,-----,- -----], [0,------,-----,0,0,0],\n",
       "       t       5t       t      t     t       t          5t     t\n",
       "              1       1               1         1               1           1\n",
       "            - -     - -             - -       - -             - -         - -\n",
       "              t       t               t         t               t           t\n",
       "         8%e      %e             8%e        %e             6%e          %e\n",
       "    [0,- ------,0,-----,0,0], [0,------,0,0,-----,0], [0,- ------,0,0,0,-----]]\n",
       "           5t       t              5t         t              5t           t\n",
       "                           Type: Union(List(Vector(Expression(Integer))),...)\n"
      ]
     },
     "execution_count": 2,
     "metadata": {},
     "output_type": "execute_result"
    }
   ],
   "source": [
    "sol := solve(inv(t^2) * M, t)"
   ]
  },
  {
   "cell_type": "markdown",
   "metadata": {},
   "source": [
    " verify the solutions\n"
   ]
  },
  {
   "cell_type": "code",
   "execution_count": 3,
   "metadata": {
    "collapsed": false
   },
   "outputs": [
    {
     "name": "stdout",
     "output_type": "stream",
     "text": [
      "\n",
      "\n"
     ]
    },
    {
     "data": {
      "text/plain": [
       "   [[0,0,0,0,0,0], [0,0,0,0,0,0], [0,0,0,0,0,0], [0,0,0,0,0,0], [0,0,0,0,0,0],\n",
       "    [0,0,0,0,0,0]]\n",
       "                                      Type: List(Vector(Expression(Integer)))\n"
      ]
     },
     "execution_count": 3,
     "metadata": {},
     "output_type": "execute_result"
    }
   ],
   "source": [
    "[t^2 * map(h +-> D(h, t), v) - M * v for v in sol]"
   ]
  },
  {
   "cell_type": "markdown",
   "metadata": {},
   "source": [
    " the second way is to type each equation using a separate operator for\n",
    " each unknown:\n"
   ]
  },
  {
   "cell_type": "code",
   "execution_count": 4,
   "metadata": {
    "collapsed": false
   },
   "outputs": [
    {
     "data": {
      "text/plain": [
       "   x\n",
       "                                                          Type: BasicOperator\n"
      ]
     },
     "execution_count": 4,
     "metadata": {},
     "output_type": "execute_result"
    }
   ],
   "source": [
    "x := operator x"
   ]
  },
  {
   "cell_type": "code",
   "execution_count": 5,
   "metadata": {
    "collapsed": false
   },
   "outputs": [
    {
     "data": {
      "text/plain": [
       "   y\n",
       "                                                          Type: BasicOperator\n"
      ]
     },
     "execution_count": 5,
     "metadata": {},
     "output_type": "execute_result"
    }
   ],
   "source": [
    "y := operator y"
   ]
  },
  {
   "cell_type": "code",
   "execution_count": 6,
   "metadata": {
    "collapsed": false
   },
   "outputs": [
    {
     "data": {
      "text/plain": [
       "     ,      +-+             ,               +-+\n",
       "   [x (t)= \\|3 y(t) + x(t),y (t)= - y(t) + \\|3 x(t)]\n",
       "\n",
       "                                    Type: List(Equation(Expression(Integer)))\n"
      ]
     },
     "execution_count": 6,
     "metadata": {},
     "output_type": "execute_result"
    }
   ],
   "source": [
    "sys := [D(x t, t) = x t + sqrt 3 * y t, D(y t, t) = sqrt 3 * x t - y t]"
   ]
  },
  {
   "cell_type": "code",
   "execution_count": 7,
   "metadata": {
    "collapsed": false
   },
   "outputs": [
    {
     "data": {
      "text/plain": [
       "            2t               - 2t\n",
       "       2t %e       - 2t   3%e\n",
       "   [[%e  ,----],[%e    ,- -------]]\n",
       "           +-+               +-+\n",
       "          \\|3               \\|3\n",
       "                                      Type: List(Vector(Expression(Integer)))\n"
      ]
     },
     "execution_count": 7,
     "metadata": {},
     "output_type": "execute_result"
    }
   ],
   "source": [
    "solve(sys, [x, y], t).basis"
   ]
  },
  {
   "cell_type": "markdown",
   "metadata": {},
   "source": [
    " Similarly there are 2 different ways to input the inhomogeneous system\n",
    " dy/dt = M y + v  where v is a given vector of functions.\n",
    " the first is   solve(M, v, t):\n"
   ]
  },
  {
   "cell_type": "code",
   "execution_count": 8,
   "metadata": {
    "collapsed": false
   },
   "outputs": [
    {
     "data": {
      "text/plain": [
       "        29     19\n",
       "   [1,- -- t + --,- 1,t + 1,- 2t + 3,- 1]\n",
       "         5      5\n",
       "                                  Type: Vector(Polynomial(Fraction(Integer)))\n"
      ]
     },
     "execution_count": 8,
     "metadata": {},
     "output_type": "execute_result"
    }
   ],
   "source": [
    "v := vector [1, (-29*t + 19)/5, -1, t + 1, - 2*t + 3, -1]"
   ]
  },
  {
   "cell_type": "markdown",
   "metadata": {},
   "source": [
    " get a particular solution to  t^2 dy/dt = M y + v\n"
   ]
  },
  {
   "cell_type": "code",
   "execution_count": 9,
   "metadata": {
    "collapsed": false
   },
   "outputs": [
    {
     "data": {
      "text/plain": [
       "          19\n",
       "   [- 1,- --,1,- 1,- 3,1]\n",
       "           5\n",
       "                                            Type: Vector(Expression(Integer))\n"
      ]
     },
     "execution_count": 9,
     "metadata": {},
     "output_type": "execute_result"
    }
   ],
   "source": [
    "solp := solve(inv(t^2) * M, inv(t^2) * v, t).particular"
   ]
  },
  {
   "cell_type": "markdown",
   "metadata": {},
   "source": [
    " verify the particular solution\n"
   ]
  },
  {
   "cell_type": "code",
   "execution_count": 10,
   "metadata": {
    "collapsed": false
   },
   "outputs": [
    {
     "data": {
      "text/plain": [
       "   [0,0,0,0,0,0]\n",
       "                                            Type: Vector(Expression(Integer))\n"
      ]
     },
     "execution_count": 10,
     "metadata": {},
     "output_type": "execute_result"
    }
   ],
   "source": [
    "t^2 * map(h +-> D(h, t), solp) - M * solp - v"
   ]
  },
  {
   "cell_type": "markdown",
   "metadata": {},
   "source": [
    " the second way is by listing the equations:\n"
   ]
  },
  {
   "cell_type": "code",
   "execution_count": 11,
   "metadata": {
    "collapsed": false
   },
   "outputs": [
    {
     "data": {
      "text/plain": [
       "   z\n",
       "                                                          Type: BasicOperator\n"
      ]
     },
     "execution_count": 11,
     "metadata": {},
     "output_type": "execute_result"
    }
   ],
   "source": [
    "z := operator z"
   ]
  },
  {
   "cell_type": "code",
   "execution_count": 12,
   "metadata": {
    "collapsed": false
   },
   "outputs": [
    {
     "data": {
      "text/plain": [
       "     ,                      ,                  ,\n",
       "   [x (t)= z(t) + y(t) + t,y (t)= z(t) + x(t),z (t)= y(t) + x(t)]\n",
       "\n",
       "                                    Type: List(Equation(Expression(Integer)))\n"
      ]
     },
     "execution_count": 12,
     "metadata": {},
     "output_type": "execute_result"
    }
   ],
   "source": [
    "sys := [D(x t, t) = y t + z t + t, D(y t, t) = x t + z t, D(z t, t) = x t + y t]"
   ]
  },
  {
   "cell_type": "code",
   "execution_count": 13,
   "metadata": {
    "collapsed": false
   },
   "outputs": [
    {
     "data": {
      "text/plain": [
       "    2t - 3 - 2t + 1 - 2t + 1\n",
       "   [------,--------,--------]\n",
       "       4       4        4\n",
       "                                            Type: Vector(Expression(Integer))\n"
      ]
     },
     "execution_count": 13,
     "metadata": {},
     "output_type": "execute_result"
    }
   ],
   "source": [
    "solve(sys, [x, y, z], t).particular"
   ]
  },
  {
   "cell_type": "code",
   "execution_count": 14,
   "metadata": {
    "collapsed": false
   },
   "outputs": [
    {
     "data": {
      "text/plain": []
     },
     "execution_count": 14,
     "metadata": {},
     "output_type": "execute_result"
    }
   ],
   "source": [
    "--\n",
    "-- EOF\n",
    "--"
   ]
  }
 ],
 "metadata": {
  "kernelspec": {
   "display_name": "FriCAS",
   "language": "spad",
   "name": "ifricas"
  },
  "language_info": {
   "codemirror_mode": "spad",
   "mimetype": "text/x-spad",
   "name": "SPAD",
   "pygments_lexer": "spad",
   "version": "1.2.6"
  },
  "name": "lodesys.ipynb"
 },
 "nbformat": 4,
 "nbformat_minor": 0
}