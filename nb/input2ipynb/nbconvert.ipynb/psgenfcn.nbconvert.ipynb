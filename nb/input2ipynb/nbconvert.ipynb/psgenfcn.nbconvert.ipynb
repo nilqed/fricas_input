{
 "cells": [
  {
   "cell_type": "markdown",
   "metadata": {},
   "source": [
    "Copyright The Numerical Algorithms Group Limited 1991.\n"
   ]
  },
  {
   "cell_type": "markdown",
   "metadata": {},
   "source": [
    "% Power Series Generating Functions\n",
    " We obtain Fibonacci numbers, Bernoulli numbers and polynomials, and\n",
    " Euler numbers and polynomials as power series coefficients\n",
    " Author: Clifton J. Williamson\n",
    " Date Created: 1 June 1990\n",
    " Date Last Updated: 1 June 1990\n",
    " Keywords: Fibonacci, Bernoulli, Euler\n",
    " References:\n"
   ]
  },
  {
   "cell_type": "markdown",
   "metadata": {},
   "source": [
    " We will compute power series in two different ways, then test equality\n",
    " of coefficients up to a specified order.  The function that tests\n",
    " 'approximate equality' will return an error message if the test fails.\n"
   ]
  },
  {
   "cell_type": "code",
   "execution_count": 0,
   "metadata": {
    "collapsed": false
   },
   "outputs": [
    {
     "name": "stdout",
     "output_type": "stream",
     "text": [
      "   All user variables and function definitions have been cleared.\n"
     ]
    },
    {
     "data": {
      "text/plain": []
     },
     "execution_count": 0,
     "metadata": {},
     "output_type": "execute_result"
    }
   ],
   "source": [
    ")cl all"
   ]
  },
  {
   "cell_type": "code",
   "execution_count": 1,
   "metadata": {
    "collapsed": false
   },
   "outputs": [
    {
     "data": {
      "text/plain": [
       "   20\n",
       "                                                        Type: PositiveInteger\n"
      ]
     },
     "execution_count": 1,
     "metadata": {},
     "output_type": "execute_result"
    }
   ],
   "source": [
    "ORD := 20"
   ]
  },
  {
   "cell_type": "code",
   "execution_count": 2,
   "metadata": {
    "collapsed": false
   },
   "outputs": [
    {
     "data": {
      "text/plain": [
       "                                                                   Type: Void\n"
      ]
     },
     "execution_count": 2,
     "metadata": {},
     "output_type": "execute_result"
    }
   ],
   "source": [
    "approximateEquality(series1,series2) ==\n",
    "  -- tests that 2 series are equal to order ORD\n",
    "  uts1 := series1 :: UTS(EXPR INT,'t,0)\n",
    "  uts2 := series2 :: UTS(EXPR INT,'t,0)\n",
    "  flag := (order(uts1 - uts2,ORD) = ORD) :: Boolean\n",
    "  flag => true\n",
    "  error \"series do not agree to specified order\""
   ]
  },
  {
   "cell_type": "code",
   "execution_count": 3,
   "metadata": {
    "collapsed": false
   },
   "outputs": [
    {
     "data": {
      "text/plain": [
       "                                                                   Type: Void\n"
      ]
     },
     "execution_count": 3,
     "metadata": {},
     "output_type": "execute_result"
    }
   ],
   "source": [
    "bernoulliPolynomial(n) ==\n",
    "  -- returns the nth Bernoulli polynomial as an EXPR INT\n",
    "  sup := bernoulli(n)$(PNTHEORY)\n",
    "  p : POLY FRAC INT := multivariate(sup,'x)\n",
    "  p :: (EXPR INT)"
   ]
  },
  {
   "cell_type": "code",
   "execution_count": 4,
   "metadata": {
    "collapsed": false
   },
   "outputs": [
    {
     "data": {
      "text/plain": [
       "                                                                   Type: Void\n"
      ]
     },
     "execution_count": 4,
     "metadata": {},
     "output_type": "execute_result"
    }
   ],
   "source": [
    "eulerPolynomial(n) ==\n",
    "  -- returns the nth Euler polynomial as an EXPR INT\n",
    "  sup := euler(n)$(PNTHEORY)\n",
    "  p : POLY FRAC INT := multivariate(sup,'x)\n",
    "  p :: (EXPR INT)"
   ]
  },
  {
   "cell_type": "code",
   "execution_count": 5,
   "metadata": {
    "collapsed": false
   },
   "outputs": [
    {
     "name": "stdout",
     "output_type": "stream",
     "text": [
      "Warning: HyperTeX macro table not found\n"
     ]
    },
    {
     "data": {
      "text/plain": [
       "        2     3     4     5     6      7      8      9      10      11\n",
       "   t + t  + 2t  + 3t  + 5t  + 8t  + 13t  + 21t  + 34t  + 55t   + O(t  )\n",
       "                        Type: UnivariateTaylorSeries(Expression(Integer),t,0)\n"
      ]
     },
     "execution_count": 5,
     "metadata": {},
     "output_type": "execute_result"
    }
   ],
   "source": [
    "f1 := taylor(t/(1 - t - t^2))"
   ]
  },
  {
   "cell_type": "code",
   "execution_count": 6,
   "metadata": {
    "collapsed": false
   },
   "outputs": [
    {
     "data": {
      "text/plain": [
       "        2     3     4     5     6      7      8      9      10      11\n",
       "   t + t  + 2t  + 3t  + 5t  + 8t  + 13t  + 21t  + 34t  + 55t   + O(t  )\n",
       "                        Type: UnivariateTaylorSeries(Expression(Integer),t,0)\n"
      ]
     },
     "execution_count": 6,
     "metadata": {},
     "output_type": "execute_result"
    }
   ],
   "source": [
    "f2 := taylor(n +-> fibonacci(n),t = 0)"
   ]
  },
  {
   "cell_type": "code",
   "execution_count": 7,
   "metadata": {
    "collapsed": false
   },
   "outputs": [
    {
     "name": "stdout",
     "output_type": "stream",
     "text": [
      "   Compiling function approximateEquality with type (Any,Any) -> \n",
      "      Boolean \n"
     ]
    },
    {
     "data": {
      "text/plain": [
       "   true\n",
       "                                                                Type: Boolean\n"
      ]
     },
     "execution_count": 7,
     "metadata": {},
     "output_type": "execute_result"
    }
   ],
   "source": [
    "approximateEquality(f1,f2)"
   ]
  },
  {
   "cell_type": "code",
   "execution_count": 8,
   "metadata": {
    "collapsed": false
   },
   "outputs": [
    {
     "data": {
      "text/plain": [
       "       1      1  2    1   4     1    6      1     8       1     10      11\n",
       "   1 - - t + -- t  - --- t  + ----- t  - ------- t  + -------- t   + O(t  )\n",
       "       2     12      720      30240      1209600      47900160\n",
       "                        Type: UnivariateTaylorSeries(Expression(Integer),t,0)\n"
      ]
     },
     "execution_count": 8,
     "metadata": {},
     "output_type": "execute_result"
    }
   ],
   "source": [
    "g1 := taylor(t/(exp(t) - 1))"
   ]
  },
  {
   "cell_type": "code",
   "execution_count": 9,
   "metadata": {
    "collapsed": false
   },
   "outputs": [
    {
     "data": {
      "text/plain": [
       "       1      1  2    1   4     1    6      1     8       1     10      11\n",
       "   1 - - t + -- t  - --- t  + ----- t  - ------- t  + -------- t   + O(t  )\n",
       "       2     12      720      30240      1209600      47900160\n",
       "                        Type: UnivariateTaylorSeries(Expression(Integer),t,0)\n"
      ]
     },
     "execution_count": 9,
     "metadata": {},
     "output_type": "execute_result"
    }
   ],
   "source": [
    "g2 := taylor(n +-> bernoulli(n)/factorial(n),t = 0)"
   ]
  },
  {
   "cell_type": "code",
   "execution_count": 10,
   "metadata": {
    "collapsed": false
   },
   "outputs": [
    {
     "data": {
      "text/plain": [
       "   true\n",
       "                                                                Type: Boolean\n"
      ]
     },
     "execution_count": 10,
     "metadata": {},
     "output_type": "execute_result"
    }
   ],
   "source": [
    "approximateEquality(g1,g2)"
   ]
  },
  {
   "cell_type": "code",
   "execution_count": 11,
   "metadata": {
    "collapsed": false
   },
   "outputs": [
    {
     "name": "stdout",
     "output_type": "stream",
     "text": [
      "          "
     ]
    },
    {
     "data": {
      "text/plain": [
       "                      2                 3     2\n",
       "         2x - 1     6x  - 6x + 1  2   2x  - 3x  + x  3\n",
       "     1 + ------ t + ------------ t  + ------------- t\n",
       "            2            12                 12\n",
       "   + \n",
       "        4      3      2            5      4      3\n",
       "     30x  - 60x  + 30x  - 1  4   6x  - 15x  + 10x  - x  5\n",
       "     ---------------------- t  + --------------------- t\n",
       "               720                        720\n",
       "   + \n",
       "        6       5       4      2            7      6      5     3\n",
       "     42x  - 126x  + 105x  - 21x  + 1  6   6x  - 21x  + 21x  - 7x  + x  7\n",
       "     ------------------------------- t  + --------------------------- t\n",
       "                  30240                              30240\n",
       "   + \n",
       "        8       7       6      4      2\n",
       "     30x  - 120x  + 140x  - 70x  + 20x  - 1  8\n",
       "     -------------------------------------- t\n",
       "                     1209600\n",
       "   + \n",
       "        9      8      7      5      3\n",
       "     10x  - 45x  + 60x  - 42x  + 20x  - 3x  9\n",
       "     ------------------------------------- t\n",
       "                    3628800\n",
       "   + \n",
       "        10       9       8       6       4      2\n",
       "     66x   - 330x  + 495x  - 462x  + 330x  - 99x  + 5  10      11\n",
       "     ------------------------------------------------ t   + O(t  )\n",
       "                         239500800\n",
       "                        Type: UnivariateTaylorSeries(Expression(Integer),t,0)\n"
      ]
     },
     "execution_count": 11,
     "metadata": {},
     "output_type": "execute_result"
    }
   ],
   "source": [
    "gg1 := taylor(t*exp(t*x)/(exp(t) - 1),t = 0)"
   ]
  },
  {
   "cell_type": "code",
   "execution_count": 12,
   "metadata": {
    "collapsed": false
   },
   "outputs": [
    {
     "name": "stdout",
     "output_type": "stream",
     "text": [
      "   Compiling function bernoulliPolynomial with type Integer -> \n",
      "      Expression(Integer) \n",
      "          "
     ]
    },
    {
     "data": {
      "text/plain": [
       "                      2                 3     2\n",
       "         2x - 1     6x  - 6x + 1  2   2x  - 3x  + x  3\n",
       "     1 + ------ t + ------------ t  + ------------- t\n",
       "            2            12                 12\n",
       "   + \n",
       "        4      3      2            5      4      3\n",
       "     30x  - 60x  + 30x  - 1  4   6x  - 15x  + 10x  - x  5\n",
       "     ---------------------- t  + --------------------- t\n",
       "               720                        720\n",
       "   + \n",
       "        6       5       4      2            7      6      5     3\n",
       "     42x  - 126x  + 105x  - 21x  + 1  6   6x  - 21x  + 21x  - 7x  + x  7\n",
       "     ------------------------------- t  + --------------------------- t\n",
       "                  30240                              30240\n",
       "   + \n",
       "        8       7       6      4      2\n",
       "     30x  - 120x  + 140x  - 70x  + 20x  - 1  8\n",
       "     -------------------------------------- t\n",
       "                     1209600\n",
       "   + \n",
       "        9      8      7      5      3\n",
       "     10x  - 45x  + 60x  - 42x  + 20x  - 3x  9\n",
       "     ------------------------------------- t\n",
       "                    3628800\n",
       "   + \n",
       "        10       9       8       6       4      2\n",
       "     66x   - 330x  + 495x  - 462x  + 330x  - 99x  + 5  10      11\n",
       "     ------------------------------------------------ t   + O(t  )\n",
       "                         239500800\n",
       "                        Type: UnivariateTaylorSeries(Expression(Integer),t,0)\n"
      ]
     },
     "execution_count": 12,
     "metadata": {},
     "output_type": "execute_result"
    }
   ],
   "source": [
    "gg2 := taylor(n +-> bernoulliPolynomial(n)/factorial(n),t = 0)"
   ]
  },
  {
   "cell_type": "code",
   "execution_count": 13,
   "metadata": {
    "collapsed": false
   },
   "outputs": [
    {
     "data": {
      "text/plain": [
       "   true\n",
       "                                                                Type: Boolean\n"
      ]
     },
     "execution_count": 13,
     "metadata": {},
     "output_type": "execute_result"
    }
   ],
   "source": [
    "approximateEquality(gg1,gg2)"
   ]
  },
  {
   "cell_type": "code",
   "execution_count": 14,
   "metadata": {
    "collapsed": false
   },
   "outputs": [
    {
     "data": {
      "text/plain": [
       "       1  2    5   4     61   6     277    8      50521    10      11\n",
       "   1 - - t  + --- t  - ----- t  + ------- t  - ---------- t   + O(t  )\n",
       "       8      384      46080      2064384      3715891200\n",
       "                        Type: UnivariateTaylorSeries(Expression(Integer),t,0)\n"
      ]
     },
     "execution_count": 14,
     "metadata": {},
     "output_type": "execute_result"
    }
   ],
   "source": [
    "h1 := taylor(2*exp(t/2)/(exp(t) + 1))"
   ]
  },
  {
   "cell_type": "code",
   "execution_count": 15,
   "metadata": {
    "collapsed": false
   },
   "outputs": [
    {
     "data": {
      "text/plain": [
       "       1  2    5   4     61   6     277    8      50521    10      11\n",
       "   1 - - t  + --- t  - ----- t  + ------- t  - ---------- t   + O(t  )\n",
       "       8      384      46080      2064384      3715891200\n",
       "                        Type: UnivariateTaylorSeries(Expression(Integer),t,0)\n"
      ]
     },
     "execution_count": 15,
     "metadata": {},
     "output_type": "execute_result"
    }
   ],
   "source": [
    "h2 := taylor(n +-> euler(n)/(2^n * factorial(n)),t = 0)"
   ]
  },
  {
   "cell_type": "code",
   "execution_count": 16,
   "metadata": {
    "collapsed": false
   },
   "outputs": [
    {
     "data": {
      "text/plain": [
       "   true\n",
       "                                                                Type: Boolean\n"
      ]
     },
     "execution_count": 16,
     "metadata": {},
     "output_type": "execute_result"
    }
   ],
   "source": [
    "approximateEquality(h1,h2)"
   ]
  },
  {
   "cell_type": "code",
   "execution_count": 17,
   "metadata": {
    "collapsed": false
   },
   "outputs": [
    {
     "name": "stdout",
     "output_type": "stream",
     "text": [
      "        "
     ]
    },
    {
     "data": {
      "text/plain": [
       "                     2            3     2           4     3\n",
       "         2x - 1     x  - x  2   4x  - 6x  + 1  3   x  - 2x  + x  4\n",
       "     1 + ------ t + ------ t  + ------------- t  + ------------ t\n",
       "            2          2              24                24\n",
       "   + \n",
       "       5     4     2           6     5     3\n",
       "     2x  - 5x  + 5x  - 1  5   x  - 3x  + 5x  - 3x  6\n",
       "     ------------------- t  + ------------------- t\n",
       "             240                      720\n",
       "   + \n",
       "       7      6      4      2            8     7      5      3\n",
       "     8x  - 28x  + 70x  - 84x  + 17  7   x  - 4x  + 14x  - 28x  + 17x  8\n",
       "     ----------------------------- t  + ---------------------------- t\n",
       "                 40320                              40320\n",
       "   + \n",
       "       9     8      6       4       2\n",
       "     2x  - 9x  + 42x  - 126x  + 153x  - 31  9\n",
       "     ------------------------------------- t\n",
       "                     725760\n",
       "   + \n",
       "      10     9      7       5       3\n",
       "     x   - 5x  + 30x  - 126x  + 255x  - 155x  10      11\n",
       "     --------------------------------------- t   + O(t  )\n",
       "                     3628800\n",
       "                        Type: UnivariateTaylorSeries(Expression(Integer),t,0)\n"
      ]
     },
     "execution_count": 17,
     "metadata": {},
     "output_type": "execute_result"
    }
   ],
   "source": [
    "hh1 := taylor(2*exp(t*x)/(exp(t) + 1),t = 0)"
   ]
  },
  {
   "cell_type": "code",
   "execution_count": 18,
   "metadata": {
    "collapsed": false
   },
   "outputs": [
    {
     "name": "stdout",
     "output_type": "stream",
     "text": [
      "   Compiling function eulerPolynomial with type Integer -> Expression(\n",
      "      Integer) \n",
      "        "
     ]
    },
    {
     "data": {
      "text/plain": [
       "                     2            3     2           4     3\n",
       "         2x - 1     x  - x  2   4x  - 6x  + 1  3   x  - 2x  + x  4\n",
       "     1 + ------ t + ------ t  + ------------- t  + ------------ t\n",
       "            2          2              24                24\n",
       "   + \n",
       "       5     4     2           6     5     3\n",
       "     2x  - 5x  + 5x  - 1  5   x  - 3x  + 5x  - 3x  6\n",
       "     ------------------- t  + ------------------- t\n",
       "             240                      720\n",
       "   + \n",
       "       7      6      4      2            8     7      5      3\n",
       "     8x  - 28x  + 70x  - 84x  + 17  7   x  - 4x  + 14x  - 28x  + 17x  8\n",
       "     ----------------------------- t  + ---------------------------- t\n",
       "                 40320                              40320\n",
       "   + \n",
       "       9     8      6       4       2\n",
       "     2x  - 9x  + 42x  - 126x  + 153x  - 31  9\n",
       "     ------------------------------------- t\n",
       "                     725760\n",
       "   + \n",
       "      10     9      7       5       3\n",
       "     x   - 5x  + 30x  - 126x  + 255x  - 155x  10      11\n",
       "     --------------------------------------- t   + O(t  )\n",
       "                     3628800\n",
       "                        Type: UnivariateTaylorSeries(Expression(Integer),t,0)\n"
      ]
     },
     "execution_count": 18,
     "metadata": {},
     "output_type": "execute_result"
    }
   ],
   "source": [
    "hh2 := taylor(n +-> eulerPolynomial(n)/factorial(n),t = 0)"
   ]
  },
  {
   "cell_type": "code",
   "execution_count": 19,
   "metadata": {
    "collapsed": false
   },
   "outputs": [
    {
     "data": {
      "text/plain": [
       "   true\n",
       "                                                                Type: Boolean\n"
      ]
     },
     "execution_count": 19,
     "metadata": {},
     "output_type": "execute_result"
    }
   ],
   "source": [
    "approximateEquality(hh1,hh2)"
   ]
  },
  {
   "cell_type": "code",
   "execution_count": 20,
   "metadata": {
    "collapsed": false
   },
   "outputs": [
    {
     "data": {
      "text/plain": []
     },
     "execution_count": 20,
     "metadata": {},
     "output_type": "execute_result"
    }
   ],
   "source": [
    "--\n",
    "-- EOF\n",
    "--"
   ]
  }
 ],
 "metadata": {
  "kernelspec": {
   "display_name": "FriCAS",
   "language": "spad",
   "name": "ifricas"
  },
  "language_info": {
   "codemirror_mode": "spad",
   "mimetype": "text/x-spad",
   "name": "SPAD",
   "pygments_lexer": "spad",
   "version": "1.2.6"
  },
  "name": "psgenfcn.ipynb"
 },
 "nbformat": 4,
 "nbformat_minor": 0
}