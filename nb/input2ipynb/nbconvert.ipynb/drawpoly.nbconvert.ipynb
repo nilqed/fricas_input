{
 "cells": [
  {
   "cell_type": "markdown",
   "metadata": {},
   "source": [
    "Copyright The Numerical Algorithms Group Limited 1996.\n"
   ]
  },
  {
   "cell_type": "code",
   "execution_count": 0,
   "metadata": {
    "collapsed": false
   },
   "outputs": [
    {
     "name": "stderr",
     "output_type": "stream",
     "text": [
      "  Line   1: a1^18   - 83.30408576104702*a1^17   + 4016.670203940073*a1^16 + _\n",
      "  Line   2:      - 167241.63892168205*a1^15   + 5649108.7097550742*a1^14 + _\n",
      "  Line   3:      - 1.4927698938773671E8*a1^13   + 3.2737267549354239E9*a1^12 + _\n",
      "  Line   4:      - 6.0880865153029945E10*a1^11   + 8.4818140701374121E11*a1^10 + _\n",
      "  Line   5:      - 7.1925755048090801E12*a1^9  + 3.6866360833695195E13*a1^8 + _\n",
      "  Line   6:      - 1.2269584766923825E14*a1^7  + 2.990307540150555E14*a1^6 + _\n",
      "  Line   7:      - 5.580671179246935E14*a1^5  + 5.4087180857969938E14*a1^4 + _\n",
      "  Line   8:      3.5962416171315931E14*a1^3  - 8.254469833838275E14*a1^2 + _\n",
      "  Line   9: )--premature end\n",
      "           AB\n",
      "  Error  A: Improper syntax.\n",
      "  Error  B: File \n",
      "            /home/kfp/Development/fricas_input/nb/input2ipynb/ipynb/.tmp-ispad-40694.input\n",
      "             ended where at least one )endif was still needed. An appropriate \n",
      "            number of )endif lines has been assumed.\n",
      "   2 error(s) parsing \n",
      "\n"
     ]
    },
    {
     "data": {
      "text/plain": [
       "error\n"
      ]
     },
     "execution_count": 0,
     "metadata": {},
     "output_type": "execute_result"
    }
   ],
   "source": [
    "a1^18   - 83.30408576104702*a1^17   + 4016.670203940073*a1^16 + _\n",
    "     - 167241.63892168205*a1^15   + 5649108.7097550742*a1^14 + _\n",
    "     - 1.4927698938773671E8*a1^13   + 3.2737267549354239E9*a1^12 + _\n",
    "     - 6.0880865153029945E10*a1^11   + 8.4818140701374121E11*a1^10 + _\n",
    "     - 7.1925755048090801E12*a1^9  + 3.6866360833695195E13*a1^8 + _\n",
    "     - 1.2269584766923825E14*a1^7  + 2.990307540150555E14*a1^6 + _\n",
    "     - 5.580671179246935E14*a1^5  + 5.4087180857969938E14*a1^4 + _\n",
    "     3.5962416171315931E14*a1^3  - 8.254469833838275E14*a1^2 + _\n"
   ]
  },
  {
   "cell_type": "code",
   "execution_count": 1,
   "metadata": {
    "collapsed": false
   },
   "outputs": [
    {
     "name": "stdout",
     "output_type": "stream",
     "text": [
      "Warning: HyperTeX macro table not found\n"
     ]
    },
    {
     "data": {
      "text/plain": [
       "   - 43259_6673138694.12 a1 - 1208_6386259492.219\n",
       "                                                      Type: Polynomial(Float)\n"
      ]
     },
     "execution_count": 1,
     "metadata": {},
     "output_type": "execute_result"
    }
   ],
   "source": [
    "     - 4.3259667313869412E14*a1 - 1.2086386259492219E13"
   ]
  },
  {
   "cell_type": "code",
   "execution_count": 2,
   "metadata": {
    "collapsed": false
   },
   "outputs": [
    {
     "name": "stdout",
     "output_type": "stream",
     "text": [
      "   Compiling function %B with type DoubleFloat -> DoubleFloat \n",
      "   Graph data being transmitted to the viewport manager...\n",
      "   FriCAS2D data being transmitted to the viewport manager...\n"
     ]
    },
    {
     "data": {
      "text/plain": [
       "   TwoDimensionalViewport: \"FriCAS2D\"\n",
       "                                                 Type: TwoDimensionalViewport\n"
      ]
     },
     "execution_count": 2,
     "metadata": {},
     "output_type": "execute_result"
    }
   ],
   "source": [
    "draw(%,a1=-0.028..-0.027)"
   ]
  },
  {
   "cell_type": "code",
   "execution_count": 3,
   "metadata": {
    "collapsed": false
   },
   "outputs": [
    {
     "data": {
      "text/plain": []
     },
     "execution_count": 3,
     "metadata": {},
     "output_type": "execute_result"
    }
   ],
   "source": [
    "--\n",
    "-- EOF\n",
    "--"
   ]
  }
 ],
 "metadata": {
  "kernelspec": {
   "display_name": "FriCAS",
   "language": "spad",
   "name": "ifricas"
  },
  "language_info": {
   "codemirror_mode": "spad",
   "mimetype": "text/x-spad",
   "name": "SPAD",
   "pygments_lexer": "spad",
   "version": "1.2.6"
  },
  "name": "drawpoly.ipynb"
 },
 "nbformat": 4,
 "nbformat_minor": 0
}