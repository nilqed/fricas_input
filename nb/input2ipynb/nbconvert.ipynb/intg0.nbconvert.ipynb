{
 "cells": [
  {
   "cell_type": "markdown",
   "metadata": {},
   "source": [
    "Copyright The Numerical Algorithms Group Limited 1994.\n"
   ]
  },
  {
   "cell_type": "code",
   "execution_count": 0,
   "metadata": {
    "collapsed": false
   },
   "outputs": [
    {
     "name": "stdout",
     "output_type": "stream",
     "text": [
      "   All user variables and function definitions have been cleared.\n"
     ]
    },
    {
     "data": {
      "text/plain": []
     },
     "execution_count": 0,
     "metadata": {},
     "output_type": "execute_result"
    }
   ],
   "source": [
    ")cl all"
   ]
  },
  {
   "cell_type": "markdown",
   "metadata": {},
   "source": [
    " some genus 0 integrations\n"
   ]
  },
  {
   "cell_type": "code",
   "execution_count": 1,
   "metadata": {
    "collapsed": false
   },
   "outputs": [
    {
     "name": "stdout",
     "output_type": "stream",
     "text": [
      "Warning: HyperTeX macro table not found\n"
     ]
    },
    {
     "data": {
      "text/plain": [
       "    +-------+\n",
       "   \\|a x + b\n",
       "                                                    Type: Expression(Integer)\n"
      ]
     },
     "execution_count": 1,
     "metadata": {},
     "output_type": "execute_result"
    }
   ],
   "source": [
    "y := sqrt(a * x + b)"
   ]
  },
  {
   "cell_type": "code",
   "execution_count": 2,
   "metadata": {
    "collapsed": false
   },
   "outputs": [
    {
     "data": {
      "text/plain": [
       "               +-------+\n",
       "   (2a x + 2b)\\|a x + b\n",
       "   ---------------------\n",
       "             3a\n",
       "                                         Type: Union(Expression(Integer),...)\n"
      ]
     },
     "execution_count": 2,
     "metadata": {},
     "output_type": "execute_result"
    }
   ],
   "source": [
    "integrate(%,x)"
   ]
  },
  {
   "cell_type": "code",
   "execution_count": 3,
   "metadata": {
    "collapsed": false
   },
   "outputs": [
    {
     "data": {
      "text/plain": [
       "     +-------+\n",
       "   x\\|a x + b\n",
       "                                                    Type: Expression(Integer)\n"
      ]
     },
     "execution_count": 3,
     "metadata": {},
     "output_type": "execute_result"
    }
   ],
   "source": [
    "x * y"
   ]
  },
  {
   "cell_type": "code",
   "execution_count": 4,
   "metadata": {
    "collapsed": false
   },
   "outputs": [
    {
     "data": {
      "text/plain": [
       "      2 2              2  +-------+\n",
       "   (6a x  + 2a b x - 4b )\\|a x + b\n",
       "   --------------------------------\n",
       "                    2\n",
       "                 15a\n",
       "                                         Type: Union(Expression(Integer),...)\n"
      ]
     },
     "execution_count": 4,
     "metadata": {},
     "output_type": "execute_result"
    }
   ],
   "source": [
    "integrate(%,x)"
   ]
  },
  {
   "cell_type": "code",
   "execution_count": 5,
   "metadata": {
    "collapsed": false
   },
   "outputs": [
    {
     "data": {
      "text/plain": [
       "    +---------+\n",
       "    |   2    2\n",
       "   \\|- x  + a\n",
       "                                                    Type: Expression(Integer)\n"
      ]
     },
     "execution_count": 5,
     "metadata": {},
     "output_type": "execute_result"
    }
   ],
   "source": [
    "z := sqrt(a^2 - x^2)"
   ]
  },
  {
   "cell_type": "code",
   "execution_count": 6,
   "metadata": {
    "collapsed": false
   },
   "outputs": [
    {
     "data": {
      "text/plain": [
       "         1\n",
       "   ------------\n",
       "    +---------+\n",
       "    |   2    2\n",
       "   \\|- x  + a\n",
       "                                                    Type: Expression(Integer)\n"
      ]
     },
     "execution_count": 6,
     "metadata": {},
     "output_type": "execute_result"
    }
   ],
   "source": [
    "1 / z"
   ]
  },
  {
   "cell_type": "code",
   "execution_count": 7,
   "metadata": {
    "collapsed": false
   },
   "outputs": [
    {
     "data": {
      "text/plain": [
       "            +---------+\n",
       "            |   2    2\n",
       "           \\|- x  + a   - a\n",
       "   - 2atan(----------------)\n",
       "                   x\n",
       "                                         Type: Union(Expression(Integer),...)\n"
      ]
     },
     "execution_count": 7,
     "metadata": {},
     "output_type": "execute_result"
    }
   ],
   "source": [
    "integrate(%,x)"
   ]
  },
  {
   "cell_type": "code",
   "execution_count": 8,
   "metadata": {
    "collapsed": false
   },
   "outputs": [
    {
     "data": {
      "text/plain": [
       "      +---------+\n",
       "    2 |   2    2\n",
       "   x \\|- x  + a\n",
       "                                                    Type: Expression(Integer)\n"
      ]
     },
     "execution_count": 8,
     "metadata": {},
     "output_type": "execute_result"
    }
   ],
   "source": [
    "x^2 * z"
   ]
  },
  {
   "cell_type": "code",
   "execution_count": 9,
   "metadata": {
    "collapsed": false
   },
   "outputs": [
    {
     "name": "stdout",
     "output_type": "stream",
     "text": [
      "            "
     ]
    },
    {
     "data": {
      "text/plain": [
       "                           +---------+\n",
       "               5 2      7  |   2    2      4 4      6 2      8\n",
       "         ((- 8a x  + 16a )\\|- x  + a   - 2a x  + 16a x  - 16a )\n",
       "      *\n",
       "               +---------+\n",
       "               |   2    2\n",
       "              \\|- x  + a   - a\n",
       "         atan(----------------)\n",
       "                      x\n",
       "     + \n",
       "                                    +---------+\n",
       "        7      2 5      4 3     6   |   2    2        7      3 5      5 3     7\n",
       "     (2x  - 17a x  + 24a x  - 8a x)\\|- x  + a   - 8a x  + 28a x  - 28a x  + 8a x\n",
       "  /\n",
       "                     +---------+\n",
       "           2      3  |   2    2      4      2 2      4\n",
       "     (32a x  - 64a )\\|- x  + a   + 8x  - 64a x  + 64a\n",
       "                                         Type: Union(Expression(Integer),...)\n"
      ]
     },
     "execution_count": 9,
     "metadata": {},
     "output_type": "execute_result"
    }
   ],
   "source": [
    "integrate(%,x)"
   ]
  },
  {
   "cell_type": "code",
   "execution_count": 10,
   "metadata": {
    "collapsed": false
   },
   "outputs": [
    {
     "data": {
      "text/plain": [
       "        3\n",
       "       x\n",
       "   ----------\n",
       "   3+-------+\n",
       "   \\|b x + a\n",
       "                                                    Type: Expression(Integer)\n"
      ]
     },
     "execution_count": 10,
     "metadata": {},
     "output_type": "execute_result"
    }
   ],
   "source": [
    "x^3 / (a+b*x)^(1/3)"
   ]
  },
  {
   "cell_type": "code",
   "execution_count": 11,
   "metadata": {
    "collapsed": false
   },
   "outputs": [
    {
     "data": {
      "text/plain": [
       "        3 3         2 2       2          3 3+-------+2\n",
       "   (120b x  - 135a b x  + 162a b x - 243a )\\|b x + a\n",
       "   ---------------------------------------------------\n",
       "                              4\n",
       "                          440b\n",
       "                                         Type: Union(Expression(Integer),...)\n"
      ]
     },
     "execution_count": 11,
     "metadata": {},
     "output_type": "execute_result"
    }
   ],
   "source": [
    "integrate(%,x)"
   ]
  },
  {
   "cell_type": "code",
   "execution_count": 12,
   "metadata": {
    "collapsed": false
   },
   "outputs": [
    {
     "data": {
      "text/plain": [
       "         1\n",
       "   ------------\n",
       "    3 3+-------+\n",
       "   x  \\|b x + a\n",
       "                                                    Type: Expression(Integer)\n"
      ]
     },
     "execution_count": 12,
     "metadata": {},
     "output_type": "execute_result"
    }
   ],
   "source": [
    "1 / (x^3 * (a+b*x)^(1/3))"
   ]
  },
  {
   "cell_type": "code",
   "execution_count": 13,
   "metadata": {
    "collapsed": false
   },
   "outputs": [
    {
     "name": "stdout",
     "output_type": "stream",
     "text": [
      "          "
     ]
    },
    {
     "data": {
      "text/plain": [
       "           2 2 +-+    3+-+3+-------+2   3+-+2 3+-------+\n",
       "       - 2b x \\|3 log(\\|a \\|b x + a   + \\|a   \\|b x + a + a)\n",
       "     + \n",
       "         2 2 +-+    3+-+2 3+-------+\n",
       "       4b x \\|3 log(\\|a   \\|b x + a - a)\n",
       "     + \n",
       "                  +-+3+-+2 3+-------+    +-+\n",
       "        2 2     2\\|3 \\|a   \\|b x + a + a\\|3                  +-+3+-+3+-------+2\n",
       "     12b x atan(----------------------------) + (12b x - 9a)\\|3 \\|a \\|b x + a\n",
       "                             3a\n",
       "  /\n",
       "        2 2 +-+3+-+\n",
       "     18a x \\|3 \\|a\n",
       "                                         Type: Union(Expression(Integer),...)\n"
      ]
     },
     "execution_count": 13,
     "metadata": {},
     "output_type": "execute_result"
    }
   ],
   "source": [
    "integrate(%,x)"
   ]
  },
  {
   "cell_type": "markdown",
   "metadata": {},
   "source": [
    " examples of transcendentals over a curve of genus 0\n"
   ]
  },
  {
   "cell_type": "code",
   "execution_count": 14,
   "metadata": {
    "collapsed": false
   },
   "outputs": [
    {
     "data": {
      "text/plain": [
       "     +-------+                +-------+\n",
       "   (\\|a x + b  + a x + b)log(\\|a x + b  + 1) + x\n",
       "   ---------------------------------------------\n",
       "                 +-------+\n",
       "                \\|a x + b  + a x + b\n",
       "                                                    Type: Expression(Integer)\n"
      ]
     },
     "execution_count": 14,
     "metadata": {},
     "output_type": "execute_result"
    }
   ],
   "source": [
    "x / (y + y^2) + log(y + 1)"
   ]
  },
  {
   "cell_type": "code",
   "execution_count": 15,
   "metadata": {
    "collapsed": false
   },
   "outputs": [
    {
     "name": "stdout",
     "output_type": "stream",
     "text": [
      "      "
     ]
    },
    {
     "data": {
      "text/plain": [
       "          2                            +-------+                 +-------+\n",
       "       (2a x + (2a - 4)b - 2a + 4)log(\\|a x + b  + 1) + (2a - 4)\\|a x + b\n",
       "     + \n",
       "           2\n",
       "       (- a  + 2a)x\n",
       "  /\n",
       "       2\n",
       "     2a\n",
       "                                         Type: Union(Expression(Integer),...)\n"
      ]
     },
     "execution_count": 15,
     "metadata": {},
     "output_type": "execute_result"
    }
   ],
   "source": [
    "integrate(%,x)"
   ]
  },
  {
   "cell_type": "code",
   "execution_count": 16,
   "metadata": {
    "collapsed": false
   },
   "outputs": [
    {
     "data": {
      "text/plain": [
       "      +-+          +-+\n",
       "   (2\\|x  + 1)cos(\\|x  + x)\n",
       "   ------------------------\n",
       "              +-+\n",
       "             \\|x\n",
       "                                                    Type: Expression(Integer)\n"
      ]
     },
     "execution_count": 16,
     "metadata": {},
     "output_type": "execute_result"
    }
   ],
   "source": [
    "(2 + 1/sqrt(x)) * cos(x + sqrt x)"
   ]
  },
  {
   "cell_type": "code",
   "execution_count": 17,
   "metadata": {
    "collapsed": false
   },
   "outputs": [
    {
     "data": {
      "text/plain": [
       "         +-+\n",
       "   2sin(\\|x  + x)\n",
       "                                         Type: Union(Expression(Integer),...)\n"
      ]
     },
     "execution_count": 17,
     "metadata": {},
     "output_type": "execute_result"
    }
   ],
   "source": [
    "integrate(%,x)"
   ]
  },
  {
   "cell_type": "markdown",
   "metadata": {},
   "source": [
    " one which does not have an elementary integral\n"
   ]
  },
  {
   "cell_type": "code",
   "execution_count": 18,
   "metadata": {
    "collapsed": false
   },
   "outputs": [
    {
     "data": {
      "text/plain": [
       "        +-------+\n",
       "   log(\\|a x + b  + 1)\n",
       "   -------------------\n",
       "            x\n",
       "                                                    Type: Expression(Integer)\n"
      ]
     },
     "execution_count": 18,
     "metadata": {},
     "output_type": "execute_result"
    }
   ],
   "source": [
    "log(1 + y) / x"
   ]
  },
  {
   "cell_type": "code",
   "execution_count": 19,
   "metadata": {
    "collapsed": false
   },
   "outputs": [
    {
     "data": {
      "text/plain": [
       "      x      +--------+\n",
       "    ++  log(\\|b + %A a  + 1)\n",
       "    |   -------------------- d%A\n",
       "   ++            %A\n",
       "                                         Type: Union(Expression(Integer),...)\n"
      ]
     },
     "execution_count": 19,
     "metadata": {},
     "output_type": "execute_result"
    }
   ],
   "source": [
    "integrate(%,x)"
   ]
  },
  {
   "cell_type": "markdown",
   "metadata": {},
   "source": [
    " integrals of hyperbolic trigs are returned in terms of hyperb. trigs.\n"
   ]
  },
  {
   "cell_type": "code",
   "execution_count": 20,
   "metadata": {
    "collapsed": false
   },
   "outputs": [
    {
     "data": {
      "text/plain": [
       "             +-----+          +-----+\n",
       "       sinh(\\|x + b  + 1) + 2\\|x + b\n",
       "   --------------------------------------\n",
       "    +-----+      +-----+          +-----+\n",
       "   \\|x + b cosh(\\|x + b  + 1) + x\\|x + b\n",
       "                                                    Type: Expression(Integer)\n"
      ]
     },
     "execution_count": 20,
     "metadata": {},
     "output_type": "execute_result"
    }
   ],
   "source": [
    "(sinh(1+sqrt(x+b))+2*sqrt(x+b))/(sqrt(x+b)*(x+cosh(1+sqrt(x+b))))"
   ]
  },
  {
   "cell_type": "code",
   "execution_count": 21,
   "metadata": {
    "collapsed": false
   },
   "outputs": [
    {
     "data": {
      "text/plain": [
       "                        +-----+\n",
       "               - 2cosh(\\|x + b  + 1) - 2x            +-----+\n",
       "   2log(---------------------------------------) - 2\\|x + b\n",
       "              +-----+              +-----+\n",
       "        sinh(\\|x + b  + 1) - cosh(\\|x + b  + 1)\n",
       "                                         Type: Union(Expression(Integer),...)\n"
      ]
     },
     "execution_count": 21,
     "metadata": {},
     "output_type": "execute_result"
    }
   ],
   "source": [
    "integrate(%,x)"
   ]
  },
  {
   "cell_type": "markdown",
   "metadata": {},
   "source": [
    " examples of genus 0 functions presented as transcendentals\n"
   ]
  },
  {
   "cell_type": "code",
   "execution_count": 22,
   "metadata": {
    "collapsed": false
   },
   "outputs": [
    {
     "data": {
      "text/plain": [
       "       atan(x)\n",
       "   tan(-------)\n",
       "          2\n",
       "                                                    Type: Expression(Integer)\n"
      ]
     },
     "execution_count": 22,
     "metadata": {},
     "output_type": "execute_result"
    }
   ],
   "source": [
    "tan(atan(x)/2)"
   ]
  },
  {
   "cell_type": "code",
   "execution_count": 23,
   "metadata": {
    "collapsed": false
   },
   "outputs": [
    {
     "name": "stdout",
     "output_type": "stream",
     "text": [
      "          "
     ]
    },
    {
     "data": {
      "text/plain": [
       "           +------+          +------+\n",
       "           | 2               | 2\n",
       "       (- \\|x  + 1  + x)log(\\|x  + 1  - x + 1)\n",
       "     + \n",
       "         +------+          +------+                           +------+\n",
       "         | 2               | 2                                | 2\n",
       "       (\\|x  + 1  - x)log(\\|x  + 1  - x - 1) + (- log(x) - x)\\|x  + 1\n",
       "     + \n",
       "                   2\n",
       "       x log(x) + x  + 1\n",
       "  /\n",
       "      +------+\n",
       "      | 2\n",
       "     \\|x  + 1  - x\n",
       "                                         Type: Union(Expression(Integer),...)\n"
      ]
     },
     "execution_count": 23,
     "metadata": {},
     "output_type": "execute_result"
    }
   ],
   "source": [
    "integrate(%,x)"
   ]
  },
  {
   "cell_type": "code",
   "execution_count": 24,
   "metadata": {
    "collapsed": false
   },
   "outputs": [
    {
     "data": {
      "text/plain": [
       "       atan(x)\n",
       "   tan(-------)\n",
       "          3\n",
       "                                                    Type: Expression(Integer)\n"
      ]
     },
     "execution_count": 24,
     "metadata": {},
     "output_type": "execute_result"
    }
   ],
   "source": [
    "tan(atan(x)/3)"
   ]
  },
  {
   "cell_type": "code",
   "execution_count": 25,
   "metadata": {
    "collapsed": false
   },
   "outputs": [
    {
     "data": {
      "text/plain": [
       "             atan(x) 2             atan(x) 2           atan(x)\n",
       "   8log(3tan(-------)  - 1) - 3tan(-------)  + 18x tan(-------)\n",
       "                3                     3                   3\n",
       "   ------------------------------------------------------------\n",
       "                                18\n",
       "                                         Type: Union(Expression(Integer),...)\n"
      ]
     },
     "execution_count": 25,
     "metadata": {},
     "output_type": "execute_result"
    }
   ],
   "source": [
    "integrate(%,x)"
   ]
  },
  {
   "cell_type": "code",
   "execution_count": 26,
   "metadata": {
    "collapsed": false
   },
   "outputs": [
    {
     "data": {
      "text/plain": []
     },
     "execution_count": 26,
     "metadata": {},
     "output_type": "execute_result"
    }
   ],
   "source": [
    "--\n",
    "-- EOF\n",
    "--"
   ]
  }
 ],
 "metadata": {
  "kernelspec": {
   "display_name": "FriCAS",
   "language": "spad",
   "name": "ifricas"
  },
  "language_info": {
   "codemirror_mode": "spad",
   "mimetype": "text/x-spad",
   "name": "SPAD",
   "pygments_lexer": "spad",
   "version": "1.2.6"
  },
  "name": "intg0.ipynb"
 },
 "nbformat": 4,
 "nbformat_minor": 0
}