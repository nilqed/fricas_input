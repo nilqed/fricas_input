{
 "cells": [
  {
   "cell_type": "markdown",
   "metadata": {},
   "source": [
    "Copyright The Numerical Algorithms Group Limited 1991.\n"
   ]
  },
  {
   "cell_type": "code",
   "execution_count": 0,
   "metadata": {
    "collapsed": false
   },
   "outputs": [
    {
     "name": "stdout",
     "output_type": "stream",
     "text": [
      "   All user variables and function definitions have been cleared.\n"
     ]
    },
    {
     "data": {
      "text/plain": []
     },
     "execution_count": 0,
     "metadata": {},
     "output_type": "execute_result"
    }
   ],
   "source": [
    ")clear all"
   ]
  },
  {
   "cell_type": "markdown",
   "metadata": {},
   "source": [
    " This file demonstrates some of the new routines for permutations\n",
    " in AXIOM.        ( Last change: 05/16/89   by   HWG )\n",
    "                  (J. Grabmeier: adjusted to new concept: 08/07/89)\n",
    "                  (M. Weller   : adjusted to 1..: 03/29/90)\n",
    "                  (J. Grabmeier : adjusted to new algebra 05/14/90)\n"
   ]
  },
  {
   "cell_type": "markdown",
   "metadata": {},
   "source": [
    " Permutations can act on every set, finite or infinite.\n",
    " Usually permutations are given as a product of cycles,\n",
    " so the following generates a permutation acting on some\n",
    " elements of GF(29):\n"
   ]
  },
  {
   "cell_type": "code",
   "execution_count": 1,
   "metadata": {
    "collapsed": false
   },
   "outputs": [
    {
     "data": {
      "text/plain": [
       "   [[23,19,7,9,12,11,15],[22,4,14,18,2,5,8],[21,20,10,16,13,6,17]]\n",
       "                                             Type: List(List(PrimeField(29)))\n"
      ]
     },
     "execution_count": 1,
     "metadata": {},
     "output_type": "execute_result"
    }
   ],
   "source": [
    "x : List List PrimeField 29 :=\n",
    " [[23,19,7,9,12,11,15],[22,4,14,18,2,5,8],[21,20,10,16,13,6,17]]"
   ]
  },
  {
   "cell_type": "code",
   "execution_count": 2,
   "metadata": {
    "collapsed": false
   },
   "outputs": [
    {
     "data": {
      "text/plain": [
       "   (2 5 8 22 4 14 18)(6 17 21 20 10 16 13)(7 9 12 11 15 23 19)\n",
       "                                            Type: Permutation(PrimeField(29))\n"
      ]
     },
     "execution_count": 2,
     "metadata": {},
     "output_type": "execute_result"
    }
   ],
   "source": [
    "px : PERM PrimeField 29 := x"
   ]
  },
  {
   "cell_type": "markdown",
   "metadata": {},
   "source": [
    " If the permutation consists of just one cycle, you can use the\n",
    " function \"cycle\" instead of \"coerce\":\n"
   ]
  },
  {
   "cell_type": "code",
   "execution_count": 3,
   "metadata": {
    "collapsed": false
   },
   "outputs": [
    {
     "data": {
      "text/plain": [
       "   [1,2,3,4,5,6,7,8,9,10,11,12,13,14,15,16,17,18,19,20,21,22,23]\n",
       "                                                   Type: List(PrimeField(29))\n"
      ]
     },
     "execution_count": 3,
     "metadata": {},
     "output_type": "execute_result"
    }
   ],
   "source": [
    "w : List PrimeField 29 :=\n",
    " [1,2,3,4,5,6,7,8,9,10,11,12,13,14,15,16,17,18,19,20,21,22,23]"
   ]
  },
  {
   "cell_type": "code",
   "execution_count": 4,
   "metadata": {
    "collapsed": false
   },
   "outputs": [
    {
     "name": "stdout",
     "output_type": "stream",
     "text": [
      "Warning: HyperTeX macro table not found\n"
     ]
    },
    {
     "data": {
      "text/plain": [
       "   (1 2 3 4 5 6 7 8 9 10 11 12 13 14 15 16 17 18 19 20 21 22 23)\n",
       "                                            Type: Permutation(PrimeField(29))\n"
      ]
     },
     "execution_count": 4,
     "metadata": {},
     "output_type": "execute_result"
    }
   ],
   "source": [
    "pw : PERM PrimeField 29 := cycle w"
   ]
  },
  {
   "cell_type": "markdown",
   "metadata": {},
   "source": [
    " For a product of cycles there is also the function \"cycles\":\n"
   ]
  },
  {
   "cell_type": "code",
   "execution_count": 5,
   "metadata": {
    "collapsed": false
   },
   "outputs": [
    {
     "data": {
      "text/plain": [
       "   [[23,24],[22,16],[21,9],[20,19],[18,12],[17,14],[15,7],[10,6]]\n",
       "                                             Type: List(List(PrimeField(29)))\n"
      ]
     },
     "execution_count": 5,
     "metadata": {},
     "output_type": "execute_result"
    }
   ],
   "source": [
    "k : List List PrimeField 29 :=\n",
    " [[23,24],[22,16],[21,9],[20,19],[18,12],[17,14],[15,7],[10,6]]"
   ]
  },
  {
   "cell_type": "code",
   "execution_count": 6,
   "metadata": {
    "collapsed": false
   },
   "outputs": [
    {
     "data": {
      "text/plain": [
       "   (6 10)(7 15)(9 21)(12 18)(14 17)(16 22)(19 20)(23 24)\n",
       "                                            Type: Permutation(PrimeField(29))\n"
      ]
     },
     "execution_count": 6,
     "metadata": {},
     "output_type": "execute_result"
    }
   ],
   "source": [
    "pk : PERM PrimeField 29 := cycles k"
   ]
  },
  {
   "cell_type": "markdown",
   "metadata": {},
   "source": [
    " Since these permutations generate a group, you can\n",
    " perform various operations on px, pw and pk.\n",
    " You may have to be careful, because permutations are viewed\n",
    " as mappings acting on the left, so   (pw*pk)(7) = pw(pk(7)).\n",
    " Here are some examples:\n"
   ]
  },
  {
   "cell_type": "code",
   "execution_count": 7,
   "metadata": {
    "collapsed": false
   },
   "outputs": [
    {
     "data": {
      "text/plain": [
       "   (13 14 18)(8 9 22 17 15)(1 2 3 4 5 6 11 12 19 21 10 7 16 23 24)\n",
       "                                            Type: Permutation(PrimeField(29))\n"
      ]
     },
     "execution_count": 7,
     "metadata": {},
     "output_type": "execute_result"
    }
   ],
   "source": [
    "pw*pk"
   ]
  },
  {
   "cell_type": "code",
   "execution_count": 8,
   "metadata": {
    "collapsed": false
   },
   "outputs": [
    {
     "data": {
      "text/plain": [
       "   (2 22 18 8 14 5 4)(6 20 13 21 16 17 10)(7 11 19 12 23 9 15)\n",
       "                                            Type: Permutation(PrimeField(29))\n"
      ]
     },
     "execution_count": 8,
     "metadata": {},
     "output_type": "execute_result"
    }
   ],
   "source": [
    "px^3"
   ]
  },
  {
   "cell_type": "markdown",
   "metadata": {},
   "source": [
    " You can ask for inverses:\n"
   ]
  },
  {
   "cell_type": "code",
   "execution_count": 9,
   "metadata": {
    "collapsed": false
   },
   "outputs": [
    {
     "data": {
      "text/plain": [
       "   (2 18 14 4 22 8 5)(6 13 16 10 20 21 17)(7 19 23 15 11 12 9)\n",
       "                                            Type: Permutation(PrimeField(29))\n"
      ]
     },
     "execution_count": 9,
     "metadata": {},
     "output_type": "execute_result"
    }
   ],
   "source": [
    "inv px"
   ]
  },
  {
   "cell_type": "markdown",
   "metadata": {},
   "source": [
    " or for the image of some element under a special permutation:\n"
   ]
  },
  {
   "cell_type": "code",
   "execution_count": 10,
   "metadata": {
    "collapsed": false
   },
   "outputs": [
    {
     "data": {
      "text/plain": [
       "   21\n",
       "                                                         Type: PrimeField(29)\n"
      ]
     },
     "execution_count": 10,
     "metadata": {},
     "output_type": "execute_result"
    }
   ],
   "source": [
    "eval(px,17::PrimeField(29))"
   ]
  },
  {
   "cell_type": "markdown",
   "metadata": {},
   "source": [
    " you may try to build commutators:\n"
   ]
  },
  {
   "cell_type": "code",
   "execution_count": 11,
   "metadata": {
    "collapsed": false
   },
   "outputs": [
    {
     "data": {
      "text/plain": [
       "   (5 21 7 15 9)(6 17 11 14 10)(8 19 12 18 20)(13 22 23 24 16)\n",
       "                                            Type: Permutation(PrimeField(29))\n"
      ]
     },
     "execution_count": 11,
     "metadata": {},
     "output_type": "execute_result"
    }
   ],
   "source": [
    "commutator(pk,pw)"
   ]
  },
  {
   "cell_type": "markdown",
   "metadata": {},
   "source": [
    " which is the same as inv(pk) * inv(pw) * pk * pw\n"
   ]
  },
  {
   "cell_type": "markdown",
   "metadata": {},
   "source": [
    " You can also ask for the orbit of some element under a permutation:\n"
   ]
  },
  {
   "cell_type": "code",
   "execution_count": 12,
   "metadata": {
    "collapsed": false
   },
   "outputs": [
    {
     "data": {
      "text/plain": [
       "   {11,15,23,19,7,9,12}\n",
       "                                                    Type: Set(PrimeField(29))\n"
      ]
     },
     "execution_count": 12,
     "metadata": {},
     "output_type": "execute_result"
    }
   ],
   "source": [
    "orbit(px,11::PrimeField(29))"
   ]
  },
  {
   "cell_type": "markdown",
   "metadata": {},
   "source": [
    " or for the elements of the underlying set, which are permuted\n",
    " by a given permutation:\n"
   ]
  },
  {
   "cell_type": "code",
   "execution_count": 13,
   "metadata": {
    "collapsed": false
   },
   "outputs": [
    {
     "data": {
      "text/plain": [
       "   {16,22,19,20,14,17,6,10,15,7,18,12,21,9,23,24}\n",
       "                                                    Type: Set(PrimeField(29))\n"
      ]
     },
     "execution_count": 13,
     "metadata": {},
     "output_type": "execute_result"
    }
   ],
   "source": [
    "movedPoints(pk)"
   ]
  },
  {
   "cell_type": "markdown",
   "metadata": {},
   "source": [
    " Now we take a short look on permutation groups.\n",
    " They are represented as a list of generating permutations:\n"
   ]
  },
  {
   "cell_type": "code",
   "execution_count": 14,
   "metadata": {
    "collapsed": false
   },
   "outputs": [
    {
     "name": "stdout",
     "output_type": "stream",
     "text": [
      "    "
     ]
    },
    {
     "data": {
      "text/plain": [
       "   <\n",
       "       (2 5 8 22 4 14 18)(6 17 21 20 10 16 13)(7 9 12 11 15 23 19)\n",
       "    ,\n",
       "       (6 10)(7 15)(9 21)(12 18)(14 17)(16 22)(19 20)(23 24)\n",
       "     >\n",
       "                                       Type: PermutationGroup(PrimeField(29))\n"
      ]
     },
     "execution_count": 14,
     "metadata": {},
     "output_type": "execute_result"
    }
   ],
   "source": [
    "gp1 : PERMGRP PrimeField 29 := [ px , pk ]"
   ]
  },
  {
   "cell_type": "code",
   "execution_count": 15,
   "metadata": {
    "collapsed": false
   },
   "outputs": [
    {
     "name": "stdout",
     "output_type": "stream",
     "text": [
      "    "
     ]
    },
    {
     "data": {
      "text/plain": [
       "   <\n",
       "       (1 2 3 4 5 6 7 8 9 10 11 12 13 14 15 16 17 18 19 20 21 22 23)\n",
       "    ,\n",
       "       (2 5 8 22 4 14 18)(6 17 21 20 10 16 13)(7 9 12 11 15 23 19)\n",
       "     >\n",
       "                                       Type: PermutationGroup(PrimeField(29))\n"
      ]
     },
     "execution_count": 15,
     "metadata": {},
     "output_type": "execute_result"
    }
   ],
   "source": [
    "gp2 : PERMGRP PrimeField 29 := [ pw , px ]"
   ]
  },
  {
   "cell_type": "code",
   "execution_count": 16,
   "metadata": {
    "collapsed": false
   },
   "outputs": [
    {
     "name": "stdout",
     "output_type": "stream",
     "text": [
      "    "
     ]
    },
    {
     "data": {
      "text/plain": [
       "   <\n",
       "       (1 2 3 4 5 6 7 8 9 10 11 12 13 14 15 16 17 18 19 20 21 22 23)\n",
       "    ,\n",
       "       (6 10)(7 15)(9 21)(12 18)(14 17)(16 22)(19 20)(23 24)\n",
       "     >\n",
       "                                       Type: PermutationGroup(PrimeField(29))\n"
      ]
     },
     "execution_count": 16,
     "metadata": {},
     "output_type": "execute_result"
    }
   ],
   "source": [
    "gp3 : PERMGRP PrimeField 29 := [ pw , pk ]"
   ]
  },
  {
   "cell_type": "markdown",
   "metadata": {},
   "source": [
    " and we can ask for their orders:\n"
   ]
  },
  {
   "cell_type": "code",
   "execution_count": 17,
   "metadata": {
    "collapsed": false
   },
   "outputs": [
    {
     "data": {
      "text/plain": [
       "   443520\n",
       "                                                        Type: PositiveInteger\n"
      ]
     },
     "execution_count": 17,
     "metadata": {},
     "output_type": "execute_result"
    }
   ],
   "source": [
    "order gp1"
   ]
  },
  {
   "cell_type": "code",
   "execution_count": 18,
   "metadata": {
    "collapsed": false
   },
   "outputs": [
    {
     "data": {
      "text/plain": [
       "   10200960\n",
       "                                                        Type: PositiveInteger\n"
      ]
     },
     "execution_count": 18,
     "metadata": {},
     "output_type": "execute_result"
    }
   ],
   "source": [
    "order gp2"
   ]
  },
  {
   "cell_type": "code",
   "execution_count": 19,
   "metadata": {
    "collapsed": false
   },
   "outputs": [
    {
     "data": {
      "text/plain": [
       "   244823040\n",
       "                                                        Type: PositiveInteger\n"
      ]
     },
     "execution_count": 19,
     "metadata": {},
     "output_type": "execute_result"
    }
   ],
   "source": [
    "order gp3"
   ]
  },
  {
   "cell_type": "markdown",
   "metadata": {},
   "source": [
    " In fact these are the Mathieu-groups M_22, M_23 and M_24.\n"
   ]
  },
  {
   "cell_type": "markdown",
   "metadata": {},
   "source": [
    " now a more sophisticated example\n",
    " The following matrices generate the general linear group GL(3,2):\n"
   ]
  },
  {
   "cell_type": "code",
   "execution_count": 20,
   "metadata": {
    "collapsed": false
   },
   "outputs": [
    {
     "data": {
      "text/plain": [
       "                                                                   Type: Void\n"
      ]
     },
     "execution_count": 20,
     "metadata": {},
     "output_type": "execute_result"
    }
   ],
   "source": [
    "(m1,m2,m3,m4): Matrix PrimeField 2"
   ]
  },
  {
   "cell_type": "code",
   "execution_count": 21,
   "metadata": {
    "collapsed": false
   },
   "outputs": [
    {
     "data": {
      "text/plain": [
       "   +1  1  0+\n",
       "   |       |\n",
       "   |0  1  0|\n",
       "   |       |\n",
       "   +0  0  1+\n",
       "                                                  Type: Matrix(PrimeField(2))\n"
      ]
     },
     "execution_count": 21,
     "metadata": {},
     "output_type": "execute_result"
    }
   ],
   "source": [
    "m1 := [[1,1,0],[0,1,0],[0,0,1]]"
   ]
  },
  {
   "cell_type": "code",
   "execution_count": 22,
   "metadata": {
    "collapsed": false
   },
   "outputs": [
    {
     "data": {
      "text/plain": [
       "   +1  0  0+\n",
       "   |       |\n",
       "   |0  1  1|\n",
       "   |       |\n",
       "   +0  0  1+\n",
       "                                                  Type: Matrix(PrimeField(2))\n"
      ]
     },
     "execution_count": 22,
     "metadata": {},
     "output_type": "execute_result"
    }
   ],
   "source": [
    "m2 := [[1,0,0],[0,1,1],[0,0,1]]"
   ]
  },
  {
   "cell_type": "code",
   "execution_count": 23,
   "metadata": {
    "collapsed": false
   },
   "outputs": [
    {
     "data": {
      "text/plain": [
       "   +1  0  0+\n",
       "   |       |\n",
       "   |1  1  0|\n",
       "   |       |\n",
       "   +0  0  1+\n",
       "                                                  Type: Matrix(PrimeField(2))\n"
      ]
     },
     "execution_count": 23,
     "metadata": {},
     "output_type": "execute_result"
    }
   ],
   "source": [
    "m3 := [[1,0,0],[1,1,0],[0,0,1]]"
   ]
  },
  {
   "cell_type": "code",
   "execution_count": 24,
   "metadata": {
    "collapsed": false
   },
   "outputs": [
    {
     "data": {
      "text/plain": [
       "   +1  0  0+\n",
       "   |       |\n",
       "   |0  1  0|\n",
       "   |       |\n",
       "   +0  1  1+\n",
       "                                                  Type: Matrix(PrimeField(2))\n"
      ]
     },
     "execution_count": 24,
     "metadata": {},
     "output_type": "execute_result"
    }
   ],
   "source": [
    "m4 := [[1,0,0],[0,1,0],[0,1,1]]"
   ]
  },
  {
   "cell_type": "markdown",
   "metadata": {},
   "source": [
    " and these matrices act on the non-zero vectors of the\n",
    " corresponding vector space\n"
   ]
  },
  {
   "cell_type": "code",
   "execution_count": 25,
   "metadata": {
    "collapsed": false
   },
   "outputs": [
    {
     "data": {
      "text/plain": [
       "                                                                   Type: Void\n"
      ]
     },
     "execution_count": 25,
     "metadata": {},
     "output_type": "execute_result"
    }
   ],
   "source": [
    "vl : List Vector PrimeField 2"
   ]
  },
  {
   "cell_type": "code",
   "execution_count": 26,
   "metadata": {
    "collapsed": false
   },
   "outputs": [
    {
     "data": {
      "text/plain": [
       "   [[0,0,1],[0,1,0],[0,1,1],[1,0,0],[1,0,1],[1,1,0],[1,1,1]]\n",
       "                                            Type: List(Vector(PrimeField(2)))\n"
      ]
     },
     "execution_count": 26,
     "metadata": {},
     "output_type": "execute_result"
    }
   ],
   "source": [
    "vl := [[0,0,1],[0,1,0],[0,1,1],[1,0,0],[1,0,1],[1,1,0],[1,1,1]]"
   ]
  },
  {
   "cell_type": "markdown",
   "metadata": {},
   "source": [
    " Now we can write down the action of our matrices on this list vl\n",
    " as a list of pairs\n"
   ]
  },
  {
   "cell_type": "code",
   "execution_count": 27,
   "metadata": {
    "collapsed": false
   },
   "outputs": [
    {
     "name": "stdout",
     "output_type": "stream",
     "text": [
      "\n",
      "\n",
      "\n"
     ]
    },
    {
     "data": {
      "text/plain": [
       "   [[[0,0,1],[0,0,1]], [[0,1,0],[1,1,0]], [[0,1,1],[1,1,1]], [[1,0,0],[1,0,0]],\n",
       "    [[1,0,1],[1,0,1]], [[1,1,0],[0,1,0]], [[1,1,1],[0,1,1]]]\n",
       "                                      Type: List(List(Vector(PrimeField(2))))\n"
      ]
     },
     "execution_count": 27,
     "metadata": {},
     "output_type": "execute_result"
    }
   ],
   "source": [
    "ll1 : List List Vector PrimeField 2 :=\n",
    "   [ [ vl.i , m1*(vl.i) ] for i in 1..7 ]"
   ]
  },
  {
   "cell_type": "code",
   "execution_count": 28,
   "metadata": {
    "collapsed": false
   },
   "outputs": [
    {
     "name": "stdout",
     "output_type": "stream",
     "text": [
      "\n",
      "\n",
      "\n"
     ]
    },
    {
     "data": {
      "text/plain": [
       "   [[[0,0,1],[0,1,1]], [[0,1,0],[0,1,0]], [[0,1,1],[0,0,1]], [[1,0,0],[1,0,0]],\n",
       "    [[1,0,1],[1,1,1]], [[1,1,0],[1,1,0]], [[1,1,1],[1,0,1]]]\n",
       "                                      Type: List(List(Vector(PrimeField(2))))\n"
      ]
     },
     "execution_count": 28,
     "metadata": {},
     "output_type": "execute_result"
    }
   ],
   "source": [
    "ll2 : List List Vector PrimeField 2 :=\n",
    "   [ [ vl.i , m2*(vl.i) ] for i in 1..7 ]"
   ]
  },
  {
   "cell_type": "code",
   "execution_count": 29,
   "metadata": {
    "collapsed": false
   },
   "outputs": [
    {
     "name": "stdout",
     "output_type": "stream",
     "text": [
      "\n",
      "\n",
      "\n"
     ]
    },
    {
     "data": {
      "text/plain": [
       "   [[[0,0,1],[0,0,1]], [[0,1,0],[0,1,0]], [[0,1,1],[0,1,1]], [[1,0,0],[1,1,0]],\n",
       "    [[1,0,1],[1,1,1]], [[1,1,0],[1,0,0]], [[1,1,1],[1,0,1]]]\n",
       "                                      Type: List(List(Vector(PrimeField(2))))\n"
      ]
     },
     "execution_count": 29,
     "metadata": {},
     "output_type": "execute_result"
    }
   ],
   "source": [
    "ll3 : List List Vector PrimeField 2 :=\n",
    "   [ [ vl.i , m3*(vl.i) ] for i in 1..7 ]"
   ]
  },
  {
   "cell_type": "code",
   "execution_count": 30,
   "metadata": {
    "collapsed": false
   },
   "outputs": [
    {
     "name": "stdout",
     "output_type": "stream",
     "text": [
      "\n",
      "\n",
      "\n"
     ]
    },
    {
     "data": {
      "text/plain": [
       "   [[[0,0,1],[0,0,1]], [[0,1,0],[0,1,1]], [[0,1,1],[0,1,0]], [[1,0,0],[1,0,0]],\n",
       "    [[1,0,1],[1,0,1]], [[1,1,0],[1,1,1]], [[1,1,1],[1,1,0]]]\n",
       "                                      Type: List(List(Vector(PrimeField(2))))\n"
      ]
     },
     "execution_count": 30,
     "metadata": {},
     "output_type": "execute_result"
    }
   ],
   "source": [
    "ll4 : List List Vector PrimeField 2 :=\n",
    "   [ [ vl.i , m4*(vl.i) ] for i in 1..7 ]"
   ]
  },
  {
   "cell_type": "markdown",
   "metadata": {},
   "source": [
    " and we can coerce these lists to permutations\n"
   ]
  },
  {
   "cell_type": "code",
   "execution_count": 31,
   "metadata": {
    "collapsed": false
   },
   "outputs": [
    {
     "data": {
      "text/plain": [
       "   ([1,1,0] [0,1,0])([1,1,1] [0,1,1])\n",
       "                                     Type: Permutation(Vector(PrimeField(2)))\n"
      ]
     },
     "execution_count": 31,
     "metadata": {},
     "output_type": "execute_result"
    }
   ],
   "source": [
    "el1 : PERM Vector PrimeField 2 := coerceListOfPairs ll1"
   ]
  },
  {
   "cell_type": "code",
   "execution_count": 32,
   "metadata": {
    "collapsed": false
   },
   "outputs": [
    {
     "data": {
      "text/plain": [
       "   ([0,1,1] [0,0,1])([1,1,1] [1,0,1])\n",
       "                                     Type: Permutation(Vector(PrimeField(2)))\n"
      ]
     },
     "execution_count": 32,
     "metadata": {},
     "output_type": "execute_result"
    }
   ],
   "source": [
    "el2 : PERM Vector PrimeField 2 := coerceListOfPairs ll2"
   ]
  },
  {
   "cell_type": "code",
   "execution_count": 33,
   "metadata": {
    "collapsed": false
   },
   "outputs": [
    {
     "data": {
      "text/plain": [
       "   ([1,1,0] [1,0,0])([1,1,1] [1,0,1])\n",
       "                                     Type: Permutation(Vector(PrimeField(2)))\n"
      ]
     },
     "execution_count": 33,
     "metadata": {},
     "output_type": "execute_result"
    }
   ],
   "source": [
    "el3 : PERM Vector PrimeField 2 := coerceListOfPairs ll3"
   ]
  },
  {
   "cell_type": "code",
   "execution_count": 34,
   "metadata": {
    "collapsed": false
   },
   "outputs": [
    {
     "data": {
      "text/plain": [
       "   ([0,1,1] [0,1,0])([1,1,1] [1,1,0])\n",
       "                                     Type: Permutation(Vector(PrimeField(2)))\n"
      ]
     },
     "execution_count": 34,
     "metadata": {},
     "output_type": "execute_result"
    }
   ],
   "source": [
    "el4 : PERM Vector PrimeField 2 := coerceListOfPairs ll4"
   ]
  },
  {
   "cell_type": "markdown",
   "metadata": {},
   "source": [
    " Now we can do the same operations as before, e.g.\n"
   ]
  },
  {
   "cell_type": "code",
   "execution_count": 35,
   "metadata": {
    "collapsed": false
   },
   "outputs": [
    {
     "data": {
      "text/plain": [
       "   [1,1,1]\n",
       "                                                  Type: Vector(PrimeField(2))\n"
      ]
     },
     "execution_count": 35,
     "metadata": {},
     "output_type": "execute_result"
    }
   ],
   "source": [
    "eval ( el3 , vl.5 )"
   ]
  },
  {
   "cell_type": "code",
   "execution_count": 36,
   "metadata": {
    "collapsed": false
   },
   "outputs": [
    {
     "data": {
      "text/plain": [
       "   ([0,1,0] [1,1,0])([0,1,1] [1,0,1] [1,1,1] [0,0,1])\n",
       "                                     Type: Permutation(Vector(PrimeField(2)))\n"
      ]
     },
     "execution_count": 36,
     "metadata": {},
     "output_type": "execute_result"
    }
   ],
   "source": [
    "el2 * el1"
   ]
  },
  {
   "cell_type": "code",
   "execution_count": 37,
   "metadata": {
    "collapsed": false
   },
   "outputs": [
    {
     "data": {
      "text/plain": [
       "   {[1,1,1],[1,1,0],[0,1,1],[0,1,0]}\n",
       "                                             Type: Set(Vector(PrimeField(2)))\n"
      ]
     },
     "execution_count": 37,
     "metadata": {},
     "output_type": "execute_result"
    }
   ],
   "source": [
    "movedPoints el4"
   ]
  },
  {
   "cell_type": "markdown",
   "metadata": {},
   "source": [
    " Let's built the general linear group now\n"
   ]
  },
  {
   "cell_type": "code",
   "execution_count": 38,
   "metadata": {
    "collapsed": false
   },
   "outputs": [
    {
     "name": "stdout",
     "output_type": "stream",
     "text": [
      "    "
     ]
    },
    {
     "data": {
      "text/plain": [
       "   <\n",
       "       ([1,1,0] [0,1,0])([1,1,1] [0,1,1]),([0,1,1] [0,0,1])([1,1,1] [1,0,1])\n",
       "    ,\n",
       "       ([1,1,0] [1,0,0])([1,1,1] [1,0,1]),([0,1,1] [0,1,0])([1,1,1] [1,1,0])\n",
       "     >\n",
       "                                Type: PermutationGroup(Vector(PrimeField(2)))\n"
      ]
     },
     "execution_count": 38,
     "metadata": {},
     "output_type": "execute_result"
    }
   ],
   "source": [
    "gl : PERMGRP Vector PrimeField 2 := [ el1 , el2 , el3 , el4 ]"
   ]
  },
  {
   "cell_type": "markdown",
   "metadata": {},
   "source": [
    " and ask for its order\n"
   ]
  },
  {
   "cell_type": "code",
   "execution_count": 39,
   "metadata": {
    "collapsed": false
   },
   "outputs": [
    {
     "data": {
      "text/plain": [
       "   168\n",
       "                                                        Type: PositiveInteger\n"
      ]
     },
     "execution_count": 39,
     "metadata": {},
     "output_type": "execute_result"
    }
   ],
   "source": [
    "order gl"
   ]
  },
  {
   "cell_type": "markdown",
   "metadata": {},
   "source": [
    " We can also ask for the orbit of the unordered set of vectors\n"
   ]
  },
  {
   "cell_type": "code",
   "execution_count": 40,
   "metadata": {
    "collapsed": false
   },
   "outputs": [
    {
     "data": {
      "text/plain": [
       "   {[0,1,0],[1,0,0],[1,1,0]}\n",
       "                                             Type: Set(Vector(PrimeField(2)))\n"
      ]
     },
     "execution_count": 40,
     "metadata": {},
     "output_type": "execute_result"
    }
   ],
   "source": [
    "setOfVectors : Set Vector PrimeField 2 := brace [ vl.2 , vl.4 , vl.6 ]"
   ]
  },
  {
   "cell_type": "markdown",
   "metadata": {},
   "source": [
    " under gl\n"
   ]
  },
  {
   "cell_type": "code",
   "execution_count": 41,
   "metadata": {
    "collapsed": false
   },
   "outputs": [
    {
     "name": "stdout",
     "output_type": "stream",
     "text": [
      "\n",
      "\n",
      "\n",
      "\n"
     ]
    },
    {
     "data": {
      "text/plain": [
       "   {{[0,1,0],[1,0,0],[1,1,0]}, {[0,1,1],[1,0,0],[1,1,1]},\n",
       "    {[0,0,1],[1,0,0],[1,0,1]}, {[0,1,1],[1,1,0],[1,0,1]},\n",
       "    {[0,0,1],[1,1,0],[1,1,1]}, {[1,1,1],[0,1,0],[1,0,1]},\n",
       "    {[0,0,1],[0,1,0],[0,1,1]}}\n",
       "                                        Type: Set(Set(Vector(PrimeField(2))))\n"
      ]
     },
     "execution_count": 41,
     "metadata": {},
     "output_type": "execute_result"
    }
   ],
   "source": [
    "orbit ( gl, setOfVectors )"
   ]
  },
  {
   "cell_type": "markdown",
   "metadata": {},
   "source": [
    " and also for the orbit of the ordered list\n"
   ]
  },
  {
   "cell_type": "code",
   "execution_count": 42,
   "metadata": {
    "collapsed": false
   },
   "outputs": [
    {
     "data": {
      "text/plain": [
       "   [[0,1,0],[1,0,0],[1,1,0]]\n",
       "                                            Type: List(Vector(PrimeField(2)))\n"
      ]
     },
     "execution_count": 42,
     "metadata": {},
     "output_type": "execute_result"
    }
   ],
   "source": [
    "listOfVectors : List Vector PrimeField 2 := parts setOfVectors"
   ]
  },
  {
   "cell_type": "code",
   "execution_count": 43,
   "metadata": {
    "collapsed": false
   },
   "outputs": [
    {
     "name": "stdout",
     "output_type": "stream",
     "text": [
      "\n",
      "\n",
      "\n",
      "\n",
      "\n",
      "\n",
      "\n",
      "\n",
      "\n",
      "\n",
      "\n",
      "\n",
      "\n",
      "\n",
      "\n",
      "\n",
      "\n",
      "\n",
      "\n",
      "\n",
      "\n"
     ]
    },
    {
     "data": {
      "text/plain": [
       "   {[[0,1,0],[1,0,0],[1,1,0]], [[1,1,0],[1,0,0],[0,1,0]],\n",
       "    [[0,1,0],[1,1,0],[1,0,0]], [[0,1,1],[1,0,0],[1,1,1]],\n",
       "    [[1,0,0],[1,1,0],[0,1,0]], [[1,1,1],[1,0,0],[0,1,1]],\n",
       "    [[1,1,0],[0,1,0],[1,0,0]], [[0,1,1],[1,1,1],[1,0,0]],\n",
       "    [[0,0,1],[1,0,0],[1,0,1]], [[0,1,1],[1,1,0],[1,0,1]],\n",
       "    [[1,0,0],[0,1,0],[1,1,0]], [[1,0,0],[1,1,1],[0,1,1]],\n",
       "    [[1,0,1],[1,0,0],[0,0,1]], [[1,0,1],[1,1,0],[0,1,1]],\n",
       "    [[1,1,1],[0,1,1],[1,0,0]], [[0,0,1],[1,0,1],[1,0,0]],\n",
       "    [[0,1,1],[1,0,1],[1,1,0]], [[0,0,1],[1,1,0],[1,1,1]],\n",
       "    [[1,1,1],[0,1,0],[1,0,1]], [[0,1,0],[1,1,1],[1,0,1]],\n",
       "    [[1,0,0],[0,1,1],[1,1,1]], [[1,0,0],[1,0,1],[0,0,1]],\n",
       "    [[1,1,0],[1,0,1],[0,1,1]], [[1,1,1],[1,1,0],[0,0,1]],\n",
       "    [[1,0,1],[0,1,0],[1,1,1]], [[1,0,1],[1,1,1],[0,1,0]],\n",
       "    [[1,0,1],[0,0,1],[1,0,0]], [[1,0,1],[0,1,1],[1,1,0]],\n",
       "    [[0,0,1],[1,1,1],[1,1,0]], [[1,1,1],[1,0,1],[0,1,0]],\n",
       "    [[0,1,0],[1,0,1],[1,1,1]], [[0,0,1],[0,1,0],[0,1,1]],\n",
       "    [[1,1,0],[0,1,1],[1,0,1]], [[1,0,0],[0,0,1],[1,0,1]],\n",
       "    [[1,1,0],[1,1,1],[0,0,1]], [[0,1,1],[0,1,0],[0,0,1]],\n",
       "    [[1,1,1],[0,0,1],[1,1,0]], [[0,0,1],[0,1,1],[0,1,0]],\n",
       "    [[1,1,0],[0,0,1],[1,1,1]], [[0,1,0],[0,1,1],[0,0,1]],\n",
       "    [[0,1,1],[0,0,1],[0,1,0]], [[0,1,0],[0,0,1],[0,1,1]]}\n",
       "                                       Type: Set(List(Vector(PrimeField(2))))\n"
      ]
     },
     "execution_count": 43,
     "metadata": {},
     "output_type": "execute_result"
    }
   ],
   "source": [
    "orbit ( gl, listOfVectors )"
   ]
  },
  {
   "cell_type": "markdown",
   "metadata": {},
   "source": [
    " Now Rubik's cube.\n"
   ]
  },
  {
   "cell_type": "code",
   "execution_count": 44,
   "metadata": {
    "collapsed": false
   },
   "outputs": [
    {
     "name": "stderr",
     "output_type": "stream",
     "text": [
      "  Line   1: f : PERM INT := cycles [[11,13,15,17],[12,14,16,18],[51,31,21,41],[53,33,23,43],_\n",
      "  Line   2: )--premature end\n",
      "           AB\n",
      "  Error  A: syntax error at top level\n",
      "  Error  A: Improper syntax.\n",
      "  Error  B: File \n",
      "            /home/kfp/Development/fricas_input/nb/input2ipynb/ipynb/.tmp-ispad-40694.input\n",
      "             ended where at least one )endif was still needed. An appropriate \n",
      "            number of )endif lines has been assumed.\n",
      "   3 error(s) parsing \n",
      "\n"
     ]
    },
    {
     "data": {
      "text/plain": [
       "error\n"
      ]
     },
     "execution_count": 44,
     "metadata": {},
     "output_type": "execute_result"
    }
   ],
   "source": [
    "f : PERM INT := cycles [[11,13,15,17],[12,14,16,18],[51,31,21,41],[53,33,23,43],_\n"
   ]
  },
  {
   "cell_type": "code",
   "execution_count": 45,
   "metadata": {
    "collapsed": false
   },
   "outputs": [
    {
     "name": "stderr",
     "output_type": "stream",
     "text": [
      " \n",
      "   NIL is not a valid identifier to use in FriCAS.\n",
      "\n"
     ]
    },
    {
     "data": {
      "text/plain": [
       "error\n"
      ]
     },
     "execution_count": 45,
     "metadata": {},
     "output_type": "execute_result"
    }
   ],
   "source": [
    "             [52,32,22,42]]"
   ]
  },
  {
   "cell_type": "code",
   "execution_count": 46,
   "metadata": {
    "collapsed": false
   },
   "outputs": [
    {
     "name": "stderr",
     "output_type": "stream",
     "text": [
      "  Line   1: r : PERM INT := cycles [[21,23,25,27],[22,24,26,28],[13,37,67,43],[15,31,61,45],_\n",
      "  Line   2: )--premature end\n",
      "           AB\n",
      "  Error  A: syntax error at top level\n",
      "  Error  A: Improper syntax.\n",
      "  Error  B: File \n",
      "            /home/kfp/Development/fricas_input/nb/input2ipynb/ipynb/.tmp-ispad-40694.input\n",
      "             ended where at least one )endif was still needed. An appropriate \n",
      "            number of )endif lines has been assumed.\n",
      "   3 error(s) parsing \n",
      "\n"
     ]
    },
    {
     "data": {
      "text/plain": [
       "error\n"
      ]
     },
     "execution_count": 46,
     "metadata": {},
     "output_type": "execute_result"
    }
   ],
   "source": [
    "r : PERM INT := cycles [[21,23,25,27],[22,24,26,28],[13,37,67,43],[15,31,61,45],_\n"
   ]
  },
  {
   "cell_type": "code",
   "execution_count": 47,
   "metadata": {
    "collapsed": false
   },
   "outputs": [
    {
     "name": "stderr",
     "output_type": "stream",
     "text": [
      " \n",
      "   NIL is not a valid identifier to use in FriCAS.\n",
      "\n"
     ]
    },
    {
     "data": {
      "text/plain": [
       "error\n"
      ]
     },
     "execution_count": 47,
     "metadata": {},
     "output_type": "execute_result"
    }
   ],
   "source": [
    "             [14,38,68,44]]"
   ]
  },
  {
   "cell_type": "markdown",
   "metadata": {},
   "source": [
    " Some calculation in Rubik's group:\n"
   ]
  },
  {
   "cell_type": "code",
   "execution_count": 48,
   "metadata": {
    "collapsed": false
   },
   "outputs": [
    {
     "data": {
      "text/plain": [
       "    6 6\n",
       "   f r\n",
       "                                                    Type: Polynomial(Integer)\n"
      ]
     },
     "execution_count": 48,
     "metadata": {},
     "output_type": "execute_result"
    }
   ],
   "source": [
    "(f^2*r^2)^3"
   ]
  },
  {
   "cell_type": "code",
   "execution_count": 49,
   "metadata": {
    "collapsed": false
   },
   "outputs": [
    {
     "name": "stdout",
     "output_type": "stream",
     "text": [
      "                    "
     ]
    },
    {
     "data": {
      "text/plain": [
       "   <\n",
       "       (11 13 15 17)(12 14 16 18)(21 41 51 31)(22 42 52 32)(23 43 53 33)\n",
       "    ,\n",
       "       (13 37 67 43)(14 38 68 44)(15 31 61 45)(21 23 25 27)(22 24 26 28)\n",
       "    ,\n",
       "       (11 57 61 23)(12 58 62 24)(13 51 63 25)(31 33 35 37)(32 34 36 38)\n",
       "    ,\n",
       "       (15 27 65 53)(16 28 66 54)(17 21 67 55)(41 43 45 47)(42 44 46 48)\n",
       "    ,\n",
       "       (11 41 65 35)(17 47 63 33)(18 48 64 34)(51 53 55 57)(52 54 56 58)\n",
       "    ,\n",
       "       (25 35 55 45)(26 36 56 46)(27 37 57 47)(61 63 65 67)(62 64 66 68)\n",
       "     >\n",
       "                                              Type: PermutationGroup(Integer)\n"
      ]
     },
     "execution_count": 49,
     "metadata": {},
     "output_type": "execute_result"
    }
   ],
   "source": [
    "rc := rubiksGroup()"
   ]
  },
  {
   "cell_type": "code",
   "execution_count": 50,
   "metadata": {
    "collapsed": false
   },
   "outputs": [
    {
     "data": {
      "text/plain": [
       "   43252003274489856000\n",
       "                                                        Type: PositiveInteger\n"
      ]
     },
     "execution_count": 50,
     "metadata": {},
     "output_type": "execute_result"
    }
   ],
   "source": [
    "order rc"
   ]
  },
  {
   "cell_type": "code",
   "execution_count": 51,
   "metadata": {
    "collapsed": false
   },
   "outputs": [
    {
     "name": "stdout",
     "output_type": "stream",
     "text": [
      "\n",
      "\n"
     ]
    },
    {
     "data": {
      "text/plain": [
       "   {{11,13,15,17,21,23,25,27,31,33,35,37,41,43,45,47,51,53,55,57,61,63,65,67},\n",
       "    {12,14,16,18,22,24,26,28,32,34,36,38,42,44,46,48,52,54,56,58,62,64,66,68}}\n",
       "                                                      Type: Set(Set(Integer))\n"
      ]
     },
     "execution_count": 51,
     "metadata": {},
     "output_type": "execute_result"
    }
   ],
   "source": [
    "orbits rc"
   ]
  },
  {
   "cell_type": "markdown",
   "metadata": {},
   "source": [
    " Can we interchange just two pieces with two visible faces on the cube\n",
    " and leave everything else fixed?\n"
   ]
  },
  {
   "cell_type": "code",
   "execution_count": 52,
   "metadata": {
    "collapsed": false
   },
   "outputs": [
    {
     "data": {
      "text/plain": [
       "   false\n",
       "                                                                Type: Boolean\n"
      ]
     },
     "execution_count": 52,
     "metadata": {},
     "output_type": "execute_result"
    }
   ],
   "source": [
    "member? (cycles([[12,14],[32,22]])$(PERM INT),rc)"
   ]
  },
  {
   "cell_type": "code",
   "execution_count": 53,
   "metadata": {
    "collapsed": false
   },
   "outputs": [
    {
     "data": {
      "text/plain": [
       "   1\n",
       "                                           Type: Permutation(PositiveInteger)\n"
      ]
     },
     "execution_count": 53,
     "metadata": {},
     "output_type": "execute_result"
    }
   ],
   "source": [
    "p := coercePreimagesImages([[1, 2, 3], [1, 2, 3]])"
   ]
  },
  {
   "cell_type": "code",
   "execution_count": 54,
   "metadata": {
    "collapsed": false
   },
   "outputs": [
    {
     "data": {
      "text/plain": [
       "   {}\n",
       "                                                   Type: Set(PositiveInteger)\n"
      ]
     },
     "execution_count": 54,
     "metadata": {},
     "output_type": "execute_result"
    }
   ],
   "source": [
    "movedPoints p    -- should return {}"
   ]
  },
  {
   "cell_type": "code",
   "execution_count": 55,
   "metadata": {
    "collapsed": false
   },
   "outputs": [
    {
     "data": {
      "text/plain": [
       "   true\n",
       "                                                                Type: Boolean\n"
      ]
     },
     "execution_count": 55,
     "metadata": {},
     "output_type": "execute_result"
    }
   ],
   "source": [
    "even? p          -- should return true"
   ]
  },
  {
   "cell_type": "code",
   "execution_count": 56,
   "metadata": {
    "collapsed": false
   },
   "outputs": [
    {
     "data": {
      "text/plain": [
       "   (1 0 3)\n",
       "                                             Type: Permutation(IntegerMod(4))\n"
      ]
     },
     "execution_count": 56,
     "metadata": {},
     "output_type": "execute_result"
    }
   ],
   "source": [
    "p := coercePreimagesImages([[0, 1, 2, 3], [3, 0, 2, 1]])$PERM ZMOD 4"
   ]
  },
  {
   "cell_type": "code",
   "execution_count": 57,
   "metadata": {
    "collapsed": false
   },
   "outputs": [
    {
     "data": {
      "text/plain": [
       "   {2}\n",
       "                                                     Type: Set(IntegerMod(4))\n"
      ]
     },
     "execution_count": 57,
     "metadata": {},
     "output_type": "execute_result"
    }
   ],
   "source": [
    "fixedPoints p    -- should return {2}"
   ]
  },
  {
   "cell_type": "code",
   "execution_count": 58,
   "metadata": {
    "collapsed": false
   },
   "outputs": [
    {
     "data": {
      "text/plain": [
       "   (1 0)\n",
       "                                             Type: Permutation(IntegerMod(4))\n"
      ]
     },
     "execution_count": 58,
     "metadata": {},
     "output_type": "execute_result"
    }
   ],
   "source": [
    "q := coercePreimagesImages([[0, 1, 2, 3], [1, 0]])$PERM ZMOD 4"
   ]
  },
  {
   "cell_type": "code",
   "execution_count": 59,
   "metadata": {
    "collapsed": false
   },
   "outputs": [
    {
     "data": {
      "text/plain": [
       "   {2,0}\n",
       "                                                     Type: Set(IntegerMod(4))\n"
      ]
     },
     "execution_count": 59,
     "metadata": {},
     "output_type": "execute_result"
    }
   ],
   "source": [
    "fixedPoints(p*q) -- should return {2, 0}"
   ]
  },
  {
   "cell_type": "code",
   "execution_count": 60,
   "metadata": {
    "collapsed": false
   },
   "outputs": [
    {
     "data": {
      "text/plain": [
       "   false\n",
       "                                                                Type: Boolean\n"
      ]
     },
     "execution_count": 60,
     "metadata": {},
     "output_type": "execute_result"
    }
   ],
   "source": [
    "even?(p*q)       -- should return false"
   ]
  },
  {
   "cell_type": "code",
   "execution_count": 61,
   "metadata": {
    "collapsed": false
   },
   "outputs": [
    {
     "data": {
      "text/plain": []
     },
     "execution_count": 61,
     "metadata": {},
     "output_type": "execute_result"
    }
   ],
   "source": [
    "--\n",
    "-- EOF\n",
    "--"
   ]
  }
 ],
 "metadata": {
  "kernelspec": {
   "display_name": "FriCAS",
   "language": "spad",
   "name": "ifricas"
  },
  "language_info": {
   "codemirror_mode": "spad",
   "mimetype": "text/x-spad",
   "name": "SPAD",
   "pygments_lexer": "spad",
   "version": "1.2.6"
  },
  "name": "perm.ipynb"
 },
 "nbformat": 4,
 "nbformat_minor": 0
}