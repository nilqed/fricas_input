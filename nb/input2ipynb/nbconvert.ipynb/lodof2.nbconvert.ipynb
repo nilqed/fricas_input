{
 "cells": [
  {
   "cell_type": "code",
   "execution_count": 0,
   "metadata": {
    "collapsed": false
   },
   "outputs": [
    {
     "data": {
      "text/plain": []
     },
     "execution_count": 0,
     "metadata": {},
     "output_type": "execute_result"
    }
   ],
   "source": [
    ")set break resume"
   ]
  },
  {
   "cell_type": "code",
   "execution_count": 1,
   "metadata": {
    "collapsed": false
   },
   "outputs": [
    {
     "name": "stdout",
     "output_type": "stream",
     "text": [
      "   UnittestCount is now explicitly exposed in frame initial \n",
      "   UnittestAux is now explicitly exposed in frame initial \n",
      "   Unittest is now explicitly exposed in frame initial \n"
     ]
    },
    {
     "data": {
      "text/plain": []
     },
     "execution_count": 1,
     "metadata": {},
     "output_type": "execute_result"
    }
   ],
   "source": [
    ")expose UnittestCount UnittestAux Unittest"
   ]
  },
  {
   "cell_type": "code",
   "execution_count": 2,
   "metadata": {
    "collapsed": false
   },
   "outputs": [
    {
     "name": "stdout",
     "output_type": "stream",
     "text": [
      "   All user variables and function definitions have been cleared.\n",
      "Warning: HyperTeX macro table not found\n"
     ]
    },
    {
     "data": {
      "text/plain": [
       "                                                                   Type: Void\n"
      ]
     },
     "execution_count": 2,
     "metadata": {},
     "output_type": "execute_result"
    }
   ],
   "source": [
    "testsuite \"LODOF2\""
   ]
  },
  {
   "cell_type": "code",
   "execution_count": 3,
   "metadata": {
    "collapsed": false
   },
   "outputs": [
    {
     "name": "stdout",
     "output_type": "stream",
     "text": [
      "   All user variables and function definitions have been cleared.\n"
     ]
    },
    {
     "data": {
      "text/plain": [
       "                                                                   Type: Void\n"
      ]
     },
     "execution_count": 3,
     "metadata": {},
     "output_type": "execute_result"
    }
   ],
   "source": [
    "testcase \"factor\""
   ]
  },
  {
   "cell_type": "code",
   "execution_count": 4,
   "metadata": {
    "collapsed": false
   },
   "outputs": [
    {
     "data": {
      "text/plain": [
       "   Expression(Integer)\n",
       "                                                                   Type: Type\n"
      ]
     },
     "execution_count": 4,
     "metadata": {},
     "output_type": "execute_result"
    }
   ],
   "source": [
    "qF := Expression(Integer)"
   ]
  },
  {
   "cell_type": "code",
   "execution_count": 5,
   "metadata": {
    "collapsed": false
   },
   "outputs": [
    {
     "data": {
      "text/plain": [
       "   UnivariatePolynomial(x,Expression(Integer))\n",
       "                                                                   Type: Type\n"
      ]
     },
     "execution_count": 5,
     "metadata": {},
     "output_type": "execute_result"
    }
   ],
   "source": [
    "uP := UnivariatePolynomial('x, qF)"
   ]
  },
  {
   "cell_type": "code",
   "execution_count": 6,
   "metadata": {
    "collapsed": false
   },
   "outputs": [
    {
     "data": {
      "text/plain": [
       "   Fraction(UnivariatePolynomial(x,Expression(Integer)))\n",
       "                                                                   Type: Type\n"
      ]
     },
     "execution_count": 6,
     "metadata": {},
     "output_type": "execute_result"
    }
   ],
   "source": [
    "rF := Fraction(uP)"
   ]
  },
  {
   "cell_type": "code",
   "execution_count": 7,
   "metadata": {
    "collapsed": false
   },
   "outputs": [
    {
     "data": {
      "text/plain": [
       "  LinearOrdinaryDifferentialOperator1(Fraction(UnivariatePolynomial(x,Expressio\n",
       "  n(Integer))))\n",
       "                                                                   Type: Type\n"
      ]
     },
     "execution_count": 7,
     "metadata": {},
     "output_type": "execute_result"
    }
   ],
   "source": [
    "L1 := LinearOrdinaryDifferentialOperator1(rF)"
   ]
  },
  {
   "cell_type": "code",
   "execution_count": 8,
   "metadata": {
    "collapsed": false
   },
   "outputs": [
    {
     "data": {
      "text/plain": [
       "   LinearOrdinaryDifferentialOperatorFactorizer2(x,0)\n",
       "                                                                   Type: Type\n"
      ]
     },
     "execution_count": 8,
     "metadata": {},
     "output_type": "execute_result"
    }
   ],
   "source": [
    "lF := LinearOrdinaryDifferentialOperatorFactorizer2('x, 0)"
   ]
  },
  {
   "cell_type": "code",
   "execution_count": 9,
   "metadata": {
    "collapsed": false
   },
   "outputs": [
    {
     "data": {
      "text/plain": [
       "   D\n",
       "Type: LinearOrdinaryDifferentialOperator1(Fraction(UnivariatePolynomial(x,Expression(Integer))))\n"
      ]
     },
     "execution_count": 9,
     "metadata": {},
     "output_type": "execute_result"
    }
   ],
   "source": [
    "d := D()$L1"
   ]
  },
  {
   "cell_type": "code",
   "execution_count": 10,
   "metadata": {
    "collapsed": false
   },
   "outputs": [
    {
     "data": {
      "text/plain": [
       "   x\n",
       "                  Type: Fraction(UnivariatePolynomial(x,Expression(Integer)))\n"
      ]
     },
     "execution_count": 10,
     "metadata": {},
     "output_type": "execute_result"
    }
   ],
   "source": [
    "xx := x::uP::rF"
   ]
  },
  {
   "cell_type": "code",
   "execution_count": 11,
   "metadata": {
    "collapsed": false
   },
   "outputs": [
    {
     "data": {
      "text/plain": [
       "   1\n",
       "   -\n",
       "   x\n",
       "                  Type: Fraction(UnivariatePolynomial(x,Expression(Integer)))\n"
      ]
     },
     "execution_count": 11,
     "metadata": {},
     "output_type": "execute_result"
    }
   ],
   "source": [
    "x1 := xx^(-1)"
   ]
  },
  {
   "cell_type": "code",
   "execution_count": 12,
   "metadata": {
    "collapsed": false
   },
   "outputs": [
    {
     "data": {
      "text/plain": [
       "   theMap(EFACTOR;factor;SupLF;8,655)\n",
       "Type: ((SparseUnivariatePolynomial(Expression(Integer)),List(Expression(Integer))) -> Factored(SparseUnivariatePolynomial(Expression(Integer))))\n"
      ]
     },
     "execution_count": 12,
     "metadata": {},
     "output_type": "execute_result"
    }
   ],
   "source": [
    "fP := factor$ExpressionFactorPolynomial(Integer,qF)"
   ]
  },
  {
   "cell_type": "code",
   "execution_count": 13,
   "metadata": {
    "collapsed": false
   },
   "outputs": [
    {
     "name": "stdout",
     "output_type": "stream",
     "text": [
      "   Function declaration testFactor : (List(\n",
      "      LinearOrdinaryDifferentialOperator1(Fraction(UnivariatePolynomial\n",
      "      (x,Expression(Integer))))),List(Expression(Integer))) -> Void has\n",
      "      been added to workspace.\n",
      "\n"
     ]
    },
    {
     "data": {
      "text/plain": [
       "                                                                   Type: Void\n"
      ]
     },
     "execution_count": 13,
     "metadata": {},
     "output_type": "execute_result"
    }
   ],
   "source": [
    "testFactor(l: List L1, y: List qF): Void ==\n",
    "    free l1\n",
    "    free l2\n",
    "    free ll\n",
    "    free nl\n",
    "    free nll\n",
    "    l1 := reduce(*, l)\n",
    "    nl := #l\n",
    "    ll := factor(l1, fP, y)$lF\n",
    "    l2 := reduce(*, ll)\n",
    "    nll := #ll\n",
    "    testEquals(\"nl\", \"nll\")\n",
    "    testEquals(\"l1\", \"l2\")"
   ]
  },
  {
   "cell_type": "markdown",
   "metadata": {},
   "source": [
    " reducible order 2 operator (1-1)\n"
   ]
  },
  {
   "cell_type": "code",
   "execution_count": 14,
   "metadata": {
    "collapsed": false
   },
   "outputs": [
    {
     "name": "stdout",
     "output_type": "stream",
     "text": [
      "   Compiling function testFactor with type (List(\n",
      "      LinearOrdinaryDifferentialOperator1(Fraction(UnivariatePolynomial\n",
      "      (x,Expression(Integer))))),List(Expression(Integer))) -> Void \n",
      "   Compiled code for testFactor has been cleared.\n"
     ]
    },
    {
     "data": {
      "text/plain": [
       "   Better to use old factorizer\n",
       "                                                                   Type: Void\n"
      ]
     },
     "execution_count": 14,
     "metadata": {},
     "output_type": "execute_result"
    }
   ],
   "source": [
    "testFactor ([d, d+xx], [])"
   ]
  },
  {
   "cell_type": "markdown",
   "metadata": {},
   "source": [
    " irreducible order 2 operator\n"
   ]
  },
  {
   "cell_type": "code",
   "execution_count": 15,
   "metadata": {
    "collapsed": false
   },
   "outputs": [
    {
     "name": "stdout",
     "output_type": "stream",
     "text": [
      "   Compiling function testFactor with type (List(\n",
      "      LinearOrdinaryDifferentialOperator1(Fraction(UnivariatePolynomial\n",
      "      (x,Expression(Integer))))),List(Expression(Integer))) -> Void \n"
     ]
    },
    {
     "data": {
      "text/plain": [
       "   Better to use old factorizer\n",
       "                                                                   Type: Void\n"
      ]
     },
     "execution_count": 15,
     "metadata": {},
     "output_type": "execute_result"
    }
   ],
   "source": [
    "testFactor ([2*xx^3 * d^2 + 3*xx^2 * d - 2], [])"
   ]
  },
  {
   "cell_type": "markdown",
   "metadata": {},
   "source": [
    " reducible order 3 operator (1-2)\n"
   ]
  },
  {
   "cell_type": "code",
   "execution_count": 16,
   "metadata": {
    "collapsed": false
   },
   "outputs": [
    {
     "data": {
      "text/plain": [
       "   Better to use old factorizer\n",
       "                                                                   Type: Void\n"
      ]
     },
     "execution_count": 16,
     "metadata": {},
     "output_type": "execute_result"
    }
   ],
   "source": [
    "testFactor ([xx-d, -2*xx^3*d^2 - 3*xx^2*d + 2], [])"
   ]
  },
  {
   "cell_type": "code",
   "execution_count": 17,
   "metadata": {
    "collapsed": false
   },
   "outputs": [
    {
     "data": {
      "text/plain": [
       "   Better to use old factorizer\n",
       "                                                                   Type: Void\n"
      ]
     },
     "execution_count": 17,
     "metadata": {},
     "output_type": "execute_result"
    }
   ],
   "source": [
    "testFactor ([xx-d, d^2 + xx^2*d + 1], [])"
   ]
  },
  {
   "cell_type": "markdown",
   "metadata": {},
   "source": [
    " reducible order 3 operator (2-1)\n"
   ]
  },
  {
   "cell_type": "code",
   "execution_count": 18,
   "metadata": {
    "collapsed": false
   },
   "outputs": [
    {
     "data": {
      "text/plain": [
       "   Better to use old factorizer\n",
       "                                                                   Type: Void\n"
      ]
     },
     "execution_count": 18,
     "metadata": {},
     "output_type": "execute_result"
    }
   ],
   "source": [
    "testFactor ([-2*xx^3*d^2 - 3*xx^2*d + 2, d - xx], [])"
   ]
  },
  {
   "cell_type": "code",
   "execution_count": 19,
   "metadata": {
    "collapsed": false
   },
   "outputs": [
    {
     "data": {
      "text/plain": [
       "   Better to use old factorizer\n",
       "                                                                   Type: Void\n"
      ]
     },
     "execution_count": 19,
     "metadata": {},
     "output_type": "execute_result"
    }
   ],
   "source": [
    "testFactor ([d^2 + xx^2*d + 1, d - xx], [])"
   ]
  },
  {
   "cell_type": "markdown",
   "metadata": {},
   "source": [
    " reducible order 3 operator (1-1-1)\n"
   ]
  },
  {
   "cell_type": "code",
   "execution_count": 20,
   "metadata": {
    "collapsed": false
   },
   "outputs": [
    {
     "name": "stdout",
     "output_type": "stream",
     "text": [
      "  Line   1: testFactor ([(xx^9 + xx^3)*d +(-sqrt 91+7)*xx^8+(-sqrt 91 + 1)*xx^2, _\n",
      "  Line   2:             d + ((sqrt 91 + 6)*xx^6 + sqrt 91)/(xx^7+xx), _\n",
      "  Line   3: )--premature end\n",
      "           AB\n",
      "  Error  A: syntax error at top level\n",
      "  Error  A: Improper syntax.\n",
      "  Error  B: File \n",
      "            /home/kfp/Development/fricas_input/nb/input2ipynb/ipynb/.tmp-ispad-40694.input\n",
      "             ended where at least one )endif was still needed. An appropriate \n",
      "            number of )endif lines has been assumed.\n",
      "   3 error(s) parsing \n",
      "\n",
      "   Continuing to read the file...\n",
      "\n",
      "\n"
     ]
    },
    {
     "data": {
      "text/plain": []
     },
     "execution_count": 20,
     "metadata": {},
     "output_type": "execute_result"
    }
   ],
   "source": [
    "testFactor ([(xx^9 + xx^3)*d +(-sqrt 91+7)*xx^8+(-sqrt 91 + 1)*xx^2, _\n",
    "            d + ((sqrt 91 + 6)*xx^6 + sqrt 91)/(xx^7+xx), _\n"
   ]
  },
  {
   "cell_type": "code",
   "execution_count": 21,
   "metadata": {
    "collapsed": false
   },
   "outputs": [
    {
     "name": "stderr",
     "output_type": "stream",
     "text": [
      " \n",
      "   NIL is not a valid identifier to use in FriCAS.\n",
      "\n"
     ]
    },
    {
     "data": {
      "text/plain": [
       "error\n"
      ]
     },
     "execution_count": 21,
     "metadata": {},
     "output_type": "execute_result"
    }
   ],
   "source": [
    "            d + (5*xx^6 - 1)/(xx^7 + xx)], [sqrt 91])"
   ]
  },
  {
   "cell_type": "markdown",
   "metadata": {},
   "source": [
    " irreducible order 3 operator\n"
   ]
  },
  {
   "cell_type": "code",
   "execution_count": 22,
   "metadata": {
    "collapsed": false
   },
   "outputs": [
    {
     "data": {
      "text/plain": [
       "                                                                   Type: Void\n"
      ]
     },
     "execution_count": 22,
     "metadata": {},
     "output_type": "execute_result"
    }
   ],
   "source": [
    "testFactor ([d^3 + 2 * d^2 + 5 / xx * d + 7 / xx^2], [])"
   ]
  },
  {
   "cell_type": "markdown",
   "metadata": {},
   "source": [
    " reducible order 4 operator (2-2)\n"
   ]
  },
  {
   "cell_type": "code",
   "execution_count": 23,
   "metadata": {
    "collapsed": false
   },
   "outputs": [
    {
     "data": {
      "text/plain": [
       "   Better to use old factorizer\n",
       "   Better to use old factorizer\n",
       "                                                                   Type: Void\n"
      ]
     },
     "execution_count": 23,
     "metadata": {},
     "output_type": "execute_result"
    }
   ],
   "source": [
    "testFactor ([2*xx^3 * d^2 + 3*xx^2 * d - 2, 2*xx^3 * d^2 + 3*xx^2 * d - 2], [])"
   ]
  },
  {
   "cell_type": "code",
   "execution_count": 24,
   "metadata": {
    "collapsed": false
   },
   "outputs": [
    {
     "data": {
      "text/plain": [
       "   Better to use old factorizer\n",
       "   Try the old factorizer\n",
       "   Better to use old factorizer\n",
       "   Try the old factorizer\n",
       "                                                                   Type: Void\n"
      ]
     },
     "execution_count": 24,
     "metadata": {},
     "output_type": "execute_result"
    }
   ],
   "source": [
    "testFactor ([d^2 + xx^3 + x1^3, d^2 + xx^2 - x1^3], [])"
   ]
  },
  {
   "cell_type": "markdown",
   "metadata": {},
   "source": [
    " reducible order 5 operator (1-1-3)\n"
   ]
  },
  {
   "cell_type": "code",
   "execution_count": 25,
   "metadata": {
    "collapsed": false
   },
   "outputs": [
    {
     "data": {
      "text/plain": [
       "   Better to use old factorizer\n",
       "   Better to use old factorizer\n",
       "                                                                   Type: Void\n"
      ]
     },
     "execution_count": 25,
     "metadata": {},
     "output_type": "execute_result"
    }
   ],
   "source": [
    "testFactor ([d, d, d^3 + xx^2 * d^2 - x1^3 * d + (xx+1) / (xx-1)], [])"
   ]
  },
  {
   "cell_type": "code",
   "execution_count": 26,
   "metadata": {
    "collapsed": false
   },
   "outputs": [
    {
     "data": {
      "text/plain": [
       "   Better to use old factorizer\n",
       "   Better to use old factorizer\n",
       "                                                                   Type: Void\n"
      ]
     },
     "execution_count": 26,
     "metadata": {},
     "output_type": "execute_result"
    }
   ],
   "source": [
    "testFactor ([d, d, d^3 + xx^2 * d^2 - x1^3 * d + 1], [])"
   ]
  },
  {
   "cell_type": "markdown",
   "metadata": {},
   "source": [
    " reducible order 6 operator (1-1-1-1-1-1)\n"
   ]
  },
  {
   "cell_type": "code",
   "execution_count": 27,
   "metadata": {
    "collapsed": false
   },
   "outputs": [
    {
     "name": "stdout",
     "output_type": "stream",
     "text": [
      "  Line   1: testFactor ([xx^6*d + (- sqrt(-1) + 5)*xx^5, _\n",
      "  Line   2:             d + (sqrt(-1)+4)/xx, _\n",
      "  Line   3:             d + 5/xx, _\n",
      "  Line   4:             d + 4/xx, _\n",
      "  Line   5:             d + 3*xx^2/(xx^3-1), _\n",
      "  Line   6: )--premature end\n",
      "           AB\n",
      "  Error  A: syntax error at top level\n",
      "  Error  A: Improper syntax.\n",
      "  Error  B: File \n",
      "            /home/kfp/Development/fricas_input/nb/input2ipynb/ipynb/.tmp-ispad-40694.input\n",
      "             ended where at least one )endif was still needed. An appropriate \n",
      "            number of )endif lines has been assumed.\n",
      "   3 error(s) parsing \n",
      "\n",
      "   Continuing to read the file...\n",
      "\n",
      "\n"
     ]
    },
    {
     "data": {
      "text/plain": []
     },
     "execution_count": 27,
     "metadata": {},
     "output_type": "execute_result"
    }
   ],
   "source": [
    "testFactor ([xx^6*d + (- sqrt(-1) + 5)*xx^5, _\n",
    "            d + (sqrt(-1)+4)/xx, _\n",
    "            d + 5/xx, _\n",
    "            d + 4/xx, _\n",
    "            d + 3*xx^2/(xx^3-1), _\n"
   ]
  },
  {
   "cell_type": "code",
   "execution_count": 28,
   "metadata": {
    "collapsed": false
   },
   "outputs": [
    {
     "name": "stderr",
     "output_type": "stream",
     "text": [
      " \n",
      "   NIL is not a valid identifier to use in FriCAS.\n",
      "\n"
     ]
    },
    {
     "data": {
      "text/plain": [
       "error\n"
      ]
     },
     "execution_count": 28,
     "metadata": {},
     "output_type": "execute_result"
    }
   ],
   "source": [
    "            d + (-xx^3-2)/(xx^4-xx)], [sqrt(-1)])"
   ]
  },
  {
   "cell_type": "markdown",
   "metadata": {},
   "source": [
    " reducible order 7 operator (2-1-1-3)\n"
   ]
  },
  {
   "cell_type": "code",
   "execution_count": 29,
   "metadata": {
    "collapsed": false
   },
   "outputs": [
    {
     "data": {
      "text/plain": [
       "   Better to use old factorizer\n",
       "   Try the old factorizer\n",
       "                                                                   Type: Void\n"
      ]
     },
     "execution_count": 29,
     "metadata": {},
     "output_type": "execute_result"
    }
   ],
   "source": [
    "testFactor ([d^2 + x1 + xx, d, d, d^3 + xx^2 * d^2 - x1^3 * d + (xx+1) / (xx-1)], [])"
   ]
  },
  {
   "cell_type": "code",
   "execution_count": 30,
   "metadata": {
    "collapsed": false
   },
   "outputs": [
    {
     "data": {
      "text/plain": [
       "   =============================================================================\n",
       "   General WARNINGS:\n",
       "   * do not use ')clear completely' before having used 'statistics()'\n",
       "     It clears the statistics without warning!\n",
       "   * do not forget to pass the arguments of the testXxxx functions as Strings!\n",
       "     Otherwise, the test will fail and statistics() will not notice!\n",
       "   * testLibraryError does not prevent FriCAS from aborting the current block.\n",
       "     Thus, if a block contains other test functions, they will not be executed\n",
       "     and statistics() will not notice!\n",
       "   =============================================================================\n",
       "   WARNINGS:\n",
       "   Testsuite: LODOF2\n",
       "   Testcase: factor\n",
       "   test: 1\n",
       "   testing in a domain without InputForm!\n",
       "   Testsuite: LODOF2\n",
       "   Testcase: factor\n",
       "   test: 2\n",
       "   testing in a domain without InputForm!\n",
       "   Testsuite: LODOF2\n",
       "   Testcase: factor\n",
       "   test: 3\n",
       "   testing in a domain without InputForm!\n",
       "   Testsuite: LODOF2\n",
       "   Testcase: factor\n",
       "   test: 4\n",
       "   testing in a domain without InputForm!\n",
       "   Testsuite: LODOF2\n",
       "   Testcase: factor\n",
       "   test: 5\n",
       "   testing in a domain without InputForm!\n",
       "   Testsuite: LODOF2\n",
       "   Testcase: factor\n",
       "   test: 6\n",
       "   testing in a domain without InputForm!\n",
       "   Testsuite: LODOF2\n",
       "   Testcase: factor\n",
       "   test: 7\n",
       "   testing in a domain without InputForm!\n",
       "   Testsuite: LODOF2\n",
       "   Testcase: factor\n",
       "   test: 8\n",
       "   testing in a domain without InputForm!\n",
       "   Testsuite: LODOF2\n",
       "   Testcase: factor\n",
       "   test: 9\n",
       "   testing in a domain without InputForm!\n",
       "   Testsuite: LODOF2\n",
       "   Testcase: factor\n",
       "   test: 10\n",
       "   testing in a domain without InputForm!\n",
       "   Testsuite: LODOF2\n",
       "   Testcase: factor\n",
       "   test: 11\n",
       "   testing in a domain without InputForm!\n",
       "   Testsuite: LODOF2\n",
       "   Testcase: factor\n",
       "   test: 12\n",
       "   testing in a domain without InputForm!\n",
       "   Testsuite: LODOF2\n",
       "   Testcase: factor\n",
       "   test: 13\n",
       "   testing in a domain without InputForm!\n",
       "   Testsuite: LODOF2\n",
       "   Testcase: factor\n",
       "   test: 14\n",
       "   testing in a domain without InputForm!\n",
       "   Testsuite: LODOF2\n",
       "   Testcase: factor\n",
       "   test: 15\n",
       "   testing in a domain without InputForm!\n",
       "   Testsuite: LODOF2\n",
       "   Testcase: factor\n",
       "   test: 16\n",
       "   testing in a domain without InputForm!\n",
       "   Testsuite: LODOF2\n",
       "   Testcase: factor\n",
       "   test: 17\n",
       "   testing in a domain without InputForm!\n",
       "   Testsuite: LODOF2\n",
       "   Testcase: factor\n",
       "   test: 18\n",
       "   testing in a domain without InputForm!\n",
       "   Testsuite: LODOF2\n",
       "   Testcase: factor\n",
       "   test: 19\n",
       "   testing in a domain without InputForm!\n",
       "   Testsuite: LODOF2\n",
       "   Testcase: factor\n",
       "   test: 20\n",
       "   testing in a domain without InputForm!\n",
       "   Testsuite: LODOF2\n",
       "   Testcase: factor\n",
       "   test: 21\n",
       "   testing in a domain without InputForm!\n",
       "   Testsuite: LODOF2\n",
       "   Testcase: factor\n",
       "   test: 22\n",
       "   testing in a domain without InputForm!\n",
       "   Testsuite: LODOF2\n",
       "   Testcase: factor\n",
       "   test: 23\n",
       "   testing in a domain without InputForm!\n",
       "   Testsuite: LODOF2\n",
       "   Testcase: factor\n",
       "   test: 24\n",
       "   testing in a domain without InputForm!\n",
       "\n",
       "   =============================================================================\n",
       "   Testsuite: LODOF2\n",
       "     failed (total): 0 (1)\n",
       "\n",
       "   =============================================================================\n",
       "   testsuite | testcases: failed (total) | tests: failed (total)\n",
       "   LODOF2                      0     (1)               0    (24)\n",
       "   =============================================================================\n",
       "   File summary.\n",
       "   unexpected failures: 0\n",
       "   expected failures: 0\n",
       "   unexpected passes: 0\n",
       "   total tests: 24\n",
       "                                                                   Type: Void\n"
      ]
     },
     "execution_count": 30,
     "metadata": {},
     "output_type": "execute_result"
    }
   ],
   "source": [
    "statistics()"
   ]
  },
  {
   "cell_type": "code",
   "execution_count": 31,
   "metadata": {
    "collapsed": false
   },
   "outputs": [
    {
     "data": {
      "text/plain": []
     },
     "execution_count": 31,
     "metadata": {},
     "output_type": "execute_result"
    }
   ],
   "source": [
    "--\n",
    "-- EOF\n",
    "--"
   ]
  }
 ],
 "metadata": {
  "kernelspec": {
   "display_name": "FriCAS",
   "language": "spad",
   "name": "ifricas"
  },
  "language_info": {
   "codemirror_mode": "spad",
   "mimetype": "text/x-spad",
   "name": "SPAD",
   "pygments_lexer": "spad",
   "version": "1.2.6"
  },
  "name": "lodof2.ipynb"
 },
 "nbformat": 4,
 "nbformat_minor": 0
}