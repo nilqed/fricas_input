{
 "cells": [
  {
   "cell_type": "markdown",
   "metadata": {},
   "source": [
    "Copyright The Numerical Algorithms Group Limited 1991.\n",
    "Cyclohexan\n"
   ]
  },
  {
   "cell_type": "code",
   "execution_count": 0,
   "metadata": {
    "collapsed": false
   },
   "outputs": [
    {
     "name": "stderr",
     "output_type": "stream",
     "text": [
      "  Line   1: mfzn : SQMATRIX(6,DMP([x,y,z],Fraction INT)) :=_\n",
      "  Line   2:   [[0,1,1,1,1,1],[1,0,1,8/3,x,8/3],[1,1,0,1,8/3,y],_\n",
      "  Line   3: )--premature end\n",
      "           AB\n",
      "  Error  A: syntax error at top level\n",
      "  Error  A: Improper syntax.\n",
      "  Error  B: File \n",
      "            /home/kfp/Development/fricas_input/nb/input2ipynb/ipynb/.tmp-ispad-40694.input\n",
      "             ended where at least one )endif was still needed. An appropriate \n",
      "            number of )endif lines has been assumed.\n",
      "   3 error(s) parsing \n",
      "\n"
     ]
    },
    {
     "data": {
      "text/plain": [
       "error\n"
      ]
     },
     "execution_count": 0,
     "metadata": {},
     "output_type": "execute_result"
    }
   ],
   "source": [
    "mfzn : SQMATRIX(6,DMP([x,y,z],Fraction INT)) :=_\n",
    "  [[0,1,1,1,1,1],[1,0,1,8/3,x,8/3],[1,1,0,1,8/3,y],_\n"
   ]
  },
  {
   "cell_type": "code",
   "execution_count": 1,
   "metadata": {
    "collapsed": false
   },
   "outputs": [
    {
     "name": "stderr",
     "output_type": "stream",
     "text": [
      " \n",
      "   NIL is not a valid identifier to use in FriCAS.\n",
      "\n"
     ]
    },
    {
     "data": {
      "text/plain": [
       "error\n"
      ]
     },
     "execution_count": 1,
     "metadata": {},
     "output_type": "execute_result"
    }
   ],
   "source": [
    "   [1,8/3,1,0,1,8/3],[1,x,8/3,1,0,1],[1,8/3,y,8/3,1,0]]"
   ]
  },
  {
   "cell_type": "code",
   "execution_count": 2,
   "metadata": {
    "collapsed": false
   },
   "outputs": [
    {
     "name": "stderr",
     "output_type": "stream",
     "text": [
      "   There are 3 exposed and 1 unexposed library operations named \n",
      "      determinant having 1 argument(s) but none was determined to be \n",
      "      applicable. Use HyperDoc Browse, or issue\n",
      "                           )display op determinant\n",
      "      to learn more about the available operations. Perhaps \n",
      "      package-calling the operation or using coercions on the arguments\n",
      "      will allow you to apply the operation.\n",
      " \n",
      "   Cannot find a definition or applicable library operation named \n",
      "      determinant with argument type(s) \n",
      "                               Variable(mfzn)\n",
      "      \n",
      "      Perhaps you should use \"@\" to indicate the required return type, \n",
      "      or \"$\" to specify which version of the function you need.\n",
      "\n"
     ]
    },
    {
     "data": {
      "text/plain": [
       "error\n"
      ]
     },
     "execution_count": 2,
     "metadata": {},
     "output_type": "execute_result"
    }
   ],
   "source": [
    "fzn := determinant mfzn"
   ]
  },
  {
   "cell_type": "code",
   "execution_count": 3,
   "metadata": {
    "collapsed": false
   },
   "outputs": [
    {
     "name": "stderr",
     "output_type": "stream",
     "text": [
      "  Line   1: mfxn : SQMATRIX(6,DMP([x,y,z],Fraction Integer)) :=_\n",
      "  Line   2:   [[0,1,1,1,1,1],[1,0,1,8/3,y,8/3],[1,1,0,1,8/3,z],_\n",
      "  Line   3: )--premature end\n",
      "           AB\n",
      "  Error  A: syntax error at top level\n",
      "  Error  A: Improper syntax.\n",
      "  Error  B: File \n",
      "            /home/kfp/Development/fricas_input/nb/input2ipynb/ipynb/.tmp-ispad-40694.input\n",
      "             ended where at least one )endif was still needed. An appropriate \n",
      "            number of )endif lines has been assumed.\n",
      "   3 error(s) parsing \n",
      "\n"
     ]
    },
    {
     "data": {
      "text/plain": [
       "error\n"
      ]
     },
     "execution_count": 3,
     "metadata": {},
     "output_type": "execute_result"
    }
   ],
   "source": [
    "mfxn : SQMATRIX(6,DMP([x,y,z],Fraction Integer)) :=_\n",
    "  [[0,1,1,1,1,1],[1,0,1,8/3,y,8/3],[1,1,0,1,8/3,z],_\n"
   ]
  },
  {
   "cell_type": "code",
   "execution_count": 4,
   "metadata": {
    "collapsed": false
   },
   "outputs": [
    {
     "name": "stderr",
     "output_type": "stream",
     "text": [
      " \n",
      "   NIL is not a valid identifier to use in FriCAS.\n",
      "\n"
     ]
    },
    {
     "data": {
      "text/plain": [
       "error\n"
      ]
     },
     "execution_count": 4,
     "metadata": {},
     "output_type": "execute_result"
    }
   ],
   "source": [
    "   [1,8/3,1,0,1,8/3],[1,y,8/3,1,0,1],[1,8/3,z,8/3,1,0]]"
   ]
  },
  {
   "cell_type": "code",
   "execution_count": 5,
   "metadata": {
    "collapsed": false
   },
   "outputs": [
    {
     "name": "stderr",
     "output_type": "stream",
     "text": [
      "   There are 3 exposed and 1 unexposed library operations named \n",
      "      determinant having 1 argument(s) but none was determined to be \n",
      "      applicable. Use HyperDoc Browse, or issue\n",
      "                           )display op determinant\n",
      "      to learn more about the available operations. Perhaps \n",
      "      package-calling the operation or using coercions on the arguments\n",
      "      will allow you to apply the operation.\n",
      " \n",
      "   Cannot find a definition or applicable library operation named \n",
      "      determinant with argument type(s) \n",
      "                               Variable(mfxn)\n",
      "      \n",
      "      Perhaps you should use \"@\" to indicate the required return type, \n",
      "      or \"$\" to specify which version of the function you need.\n",
      "\n"
     ]
    },
    {
     "data": {
      "text/plain": [
       "error\n"
      ]
     },
     "execution_count": 5,
     "metadata": {},
     "output_type": "execute_result"
    }
   ],
   "source": [
    "fxn := determinant mfxn"
   ]
  },
  {
   "cell_type": "code",
   "execution_count": 6,
   "metadata": {
    "collapsed": false
   },
   "outputs": [
    {
     "name": "stderr",
     "output_type": "stream",
     "text": [
      "  Line   1: mfyn : SQMATRIX(6,DMP([x,y,z],Fraction Integer)) :=_\n",
      "  Line   2:   [[0,1,1,1,1,1],[1,0,1,8/3,z,8/3],[1,1,0,1,8/3,x],_\n",
      "  Line   3: )--premature end\n",
      "           AB\n",
      "  Error  A: syntax error at top level\n",
      "  Error  A: Improper syntax.\n",
      "  Error  B: File \n",
      "            /home/kfp/Development/fricas_input/nb/input2ipynb/ipynb/.tmp-ispad-40694.input\n",
      "             ended where at least one )endif was still needed. An appropriate \n",
      "            number of )endif lines has been assumed.\n",
      "   3 error(s) parsing \n",
      "\n"
     ]
    },
    {
     "data": {
      "text/plain": [
       "error\n"
      ]
     },
     "execution_count": 6,
     "metadata": {},
     "output_type": "execute_result"
    }
   ],
   "source": [
    "mfyn : SQMATRIX(6,DMP([x,y,z],Fraction Integer)) :=_\n",
    "  [[0,1,1,1,1,1],[1,0,1,8/3,z,8/3],[1,1,0,1,8/3,x],_\n"
   ]
  },
  {
   "cell_type": "code",
   "execution_count": 7,
   "metadata": {
    "collapsed": false
   },
   "outputs": [
    {
     "name": "stderr",
     "output_type": "stream",
     "text": [
      " \n",
      "   NIL is not a valid identifier to use in FriCAS.\n",
      "\n"
     ]
    },
    {
     "data": {
      "text/plain": [
       "error\n"
      ]
     },
     "execution_count": 7,
     "metadata": {},
     "output_type": "execute_result"
    }
   ],
   "source": [
    "   [1,8/3,1,0,1,8/3],[1,z,8/3,1,0,1],[1,8/3,x,8/3,1,0]]"
   ]
  },
  {
   "cell_type": "code",
   "execution_count": 8,
   "metadata": {
    "collapsed": false
   },
   "outputs": [
    {
     "name": "stderr",
     "output_type": "stream",
     "text": [
      "   There are 3 exposed and 1 unexposed library operations named \n",
      "      determinant having 1 argument(s) but none was determined to be \n",
      "      applicable. Use HyperDoc Browse, or issue\n",
      "                           )display op determinant\n",
      "      to learn more about the available operations. Perhaps \n",
      "      package-calling the operation or using coercions on the arguments\n",
      "      will allow you to apply the operation.\n",
      " \n",
      "   Cannot find a definition or applicable library operation named \n",
      "      determinant with argument type(s) \n",
      "                               Variable(mfyn)\n",
      "      \n",
      "      Perhaps you should use \"@\" to indicate the required return type, \n",
      "      or \"$\" to specify which version of the function you need.\n",
      "\n"
     ]
    },
    {
     "data": {
      "text/plain": [
       "error\n"
      ]
     },
     "execution_count": 8,
     "metadata": {},
     "output_type": "execute_result"
    }
   ],
   "source": [
    "fyn := determinant mfyn"
   ]
  },
  {
   "cell_type": "code",
   "execution_count": 9,
   "metadata": {
    "collapsed": false
   },
   "outputs": [
    {
     "name": "stdout",
     "output_type": "stream",
     "text": [
      "Warning: HyperTeX macro table not found\n"
     ]
    },
    {
     "data": {
      "text/plain": [
       "   [[fzn,fyn,fxn]]\n",
       "                                        Type: List(List(Polynomial(Integer)))\n"
      ]
     },
     "execution_count": 9,
     "metadata": {},
     "output_type": "execute_result"
    }
   ],
   "source": [
    "gb := groebnerFactorize [fxn,fyn,fzn]"
   ]
  },
  {
   "cell_type": "code",
   "execution_count": 10,
   "metadata": {
    "collapsed": false
   },
   "outputs": [
    {
     "data": {
      "text/plain": []
     },
     "execution_count": 10,
     "metadata": {},
     "output_type": "execute_result"
    }
   ],
   "source": [
    "--\n",
    "-- EOF\n",
    "--"
   ]
  }
 ],
 "metadata": {
  "kernelspec": {
   "display_name": "FriCAS",
   "language": "spad",
   "name": "ifricas"
  },
  "language_info": {
   "codemirror_mode": "spad",
   "mimetype": "text/x-spad",
   "name": "SPAD",
   "pygments_lexer": "spad",
   "version": "1.2.6"
  },
  "name": "ch.ipynb"
 },
 "nbformat": 4,
 "nbformat_minor": 0
}