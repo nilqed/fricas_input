{
 "cells": [
  {
   "cell_type": "markdown",
   "metadata": {},
   "source": [
    "Copyright The Numerical Algorithms Group Limited 1991.\n",
    "Cyclohexan\n"
   ]
  },
  {
   "cell_type": "code",
   "execution_count": 0,
   "metadata": {
    "collapsed": false
   },
   "outputs": [
    {
     "name": "stdout",
     "output_type": "stream",
     "text": [
      "Warning: HyperTeX macro table not found\n",
      "\n"
     ]
    },
    {
     "data": {
      "text/plain": [
       "   +0  1  1  1  1  1+\n",
       "   |                |\n",
       "   |         8     8|\n",
       "   |1  0  1  -  x  -|\n",
       "   |         3     3|\n",
       "   |                |\n",
       "   |            8   |\n",
       "   |1  1  0  1  -  y|\n",
       "   |            3   |\n",
       "   |                |\n",
       "   |   8           8|\n",
       "   |1  -  1  0  1  -|\n",
       "   |   3           3|\n",
       "   |                |\n",
       "   |      8         |\n",
       "   |1  x  -  1  0  1|\n",
       "   |      3         |\n",
       "   |                |\n",
       "   |   8     8      |\n",
       "   |1  -  y  -  1  0|\n",
       "   +   3     3      +\n",
       "Type: SquareMatrix(6,DistributedMultivariatePolynomial([x,y,z],Fraction(Integer)))\n"
      ]
     },
     "execution_count": 0,
     "metadata": {},
     "output_type": "execute_result"
    }
   ],
   "source": [
    "mfzn : SQMATRIX(6,DMP([x,y,z],Fraction INT)) :=_\n",
    "  [[0,1,1,1,1,1],[1,0,1,8/3,x,8/3],[1,1,0,1,8/3,y],_\n",
    "   [1,8/3,1,0,1,8/3],[1,x,8/3,1,0,1],[1,8/3,y,8/3,1,0]]\n"
   ]
  },
  {
   "cell_type": "code",
   "execution_count": 1,
   "metadata": {
    "collapsed": false
   },
   "outputs": [
    {
     "data": {
      "text/plain": [
       "      2 2   22  2    25  2   22    2   388       250     25  2   250     14575\n",
       "   - x y  + -- x y - -- x  + -- x y  - --- x y - --- x - -- y  - --- y + -----\n",
       "             3        9       3         9         27      9       27       81\n",
       "           Type: DistributedMultivariatePolynomial([x,y,z],Fraction(Integer))\n"
      ]
     },
     "execution_count": 1,
     "metadata": {},
     "output_type": "execute_result"
    }
   ],
   "source": [
    "fzn := determinant mfzn"
   ]
  },
  {
   "cell_type": "code",
   "execution_count": 2,
   "metadata": {
    "collapsed": false
   },
   "outputs": [
    {
     "data": {
      "text/plain": [
       "   +0  1  1  1  1  1+\n",
       "   |                |\n",
       "   |         8     8|\n",
       "   |1  0  1  -  y  -|\n",
       "   |         3     3|\n",
       "   |                |\n",
       "   |            8   |\n",
       "   |1  1  0  1  -  z|\n",
       "   |            3   |\n",
       "   |                |\n",
       "   |   8           8|\n",
       "   |1  -  1  0  1  -|\n",
       "   |   3           3|\n",
       "   |                |\n",
       "   |      8         |\n",
       "   |1  y  -  1  0  1|\n",
       "   |      3         |\n",
       "   |                |\n",
       "   |   8     8      |\n",
       "   |1  -  z  -  1  0|\n",
       "   +   3     3      +\n",
       "Type: SquareMatrix(6,DistributedMultivariatePolynomial([x,y,z],Fraction(Integer)))\n"
      ]
     },
     "execution_count": 2,
     "metadata": {},
     "output_type": "execute_result"
    }
   ],
   "source": [
    "mfxn : SQMATRIX(6,DMP([x,y,z],Fraction Integer)) :=_\n",
    "  [[0,1,1,1,1,1],[1,0,1,8/3,y,8/3],[1,1,0,1,8/3,z],_\n",
    "   [1,8/3,1,0,1,8/3],[1,y,8/3,1,0,1],[1,8/3,z,8/3,1,0]]\n"
   ]
  },
  {
   "cell_type": "code",
   "execution_count": 3,
   "metadata": {
    "collapsed": false
   },
   "outputs": [
    {
     "data": {
      "text/plain": [
       "      2 2   22  2    25  2   22    2   388       250     25  2   250     14575\n",
       "   - y z  + -- y z - -- y  + -- y z  - --- y z - --- y - -- z  - --- z + -----\n",
       "             3        9       3         9         27      9       27       81\n",
       "           Type: DistributedMultivariatePolynomial([x,y,z],Fraction(Integer))\n"
      ]
     },
     "execution_count": 3,
     "metadata": {},
     "output_type": "execute_result"
    }
   ],
   "source": [
    "fxn := determinant mfxn"
   ]
  },
  {
   "cell_type": "code",
   "execution_count": 4,
   "metadata": {
    "collapsed": false
   },
   "outputs": [
    {
     "data": {
      "text/plain": [
       "   +0  1  1  1  1  1+\n",
       "   |                |\n",
       "   |         8     8|\n",
       "   |1  0  1  -  z  -|\n",
       "   |         3     3|\n",
       "   |                |\n",
       "   |            8   |\n",
       "   |1  1  0  1  -  x|\n",
       "   |            3   |\n",
       "   |                |\n",
       "   |   8           8|\n",
       "   |1  -  1  0  1  -|\n",
       "   |   3           3|\n",
       "   |                |\n",
       "   |      8         |\n",
       "   |1  z  -  1  0  1|\n",
       "   |      3         |\n",
       "   |                |\n",
       "   |   8     8      |\n",
       "   |1  -  x  -  1  0|\n",
       "   +   3     3      +\n",
       "Type: SquareMatrix(6,DistributedMultivariatePolynomial([x,y,z],Fraction(Integer)))\n"
      ]
     },
     "execution_count": 4,
     "metadata": {},
     "output_type": "execute_result"
    }
   ],
   "source": [
    "mfyn : SQMATRIX(6,DMP([x,y,z],Fraction Integer)) :=_\n",
    "  [[0,1,1,1,1,1],[1,0,1,8/3,z,8/3],[1,1,0,1,8/3,x],_\n",
    "   [1,8/3,1,0,1,8/3],[1,z,8/3,1,0,1],[1,8/3,x,8/3,1,0]]\n"
   ]
  },
  {
   "cell_type": "code",
   "execution_count": 5,
   "metadata": {
    "collapsed": false
   },
   "outputs": [
    {
     "data": {
      "text/plain": [
       "      2 2   22  2    25  2   22    2   388       250     25  2   250     14575\n",
       "   - x z  + -- x z - -- x  + -- x z  - --- x z - --- x - -- z  - --- z + -----\n",
       "             3        9       3         9         27      9       27       81\n",
       "           Type: DistributedMultivariatePolynomial([x,y,z],Fraction(Integer))\n"
      ]
     },
     "execution_count": 5,
     "metadata": {},
     "output_type": "execute_result"
    }
   ],
   "source": [
    "fyn := determinant mfyn"
   ]
  },
  {
   "cell_type": "code",
   "execution_count": 6,
   "metadata": {
    "collapsed": false
   },
   "outputs": [
    {
     "name": "stdout",
     "output_type": "stream",
     "text": [
      "\n",
      "\n",
      "\n",
      "\n",
      "\n",
      "\n",
      "\n",
      "\n"
     ]
    },
    {
     "data": {
      "text/plain": [
       "   [\n",
       "                  22           22     22     121\n",
       "     [x y + x z - -- x + y z - -- y - -- z + ---,\n",
       "                   3            3      3      3\n",
       "         2   22       25        2   22       25     22  2   388     250\n",
       "      x z  - -- x z + -- x + y z  - -- y z + -- y - -- z  + --- z + ---,\n",
       "              3        9             3        9      3       9       27\n",
       "       2 2   22  2    25  2   22    2   388       250     25  2   250     14575\n",
       "      y z  - -- y z + -- y  - -- y z  + --- y z + --- y + -- z  + --- z - -----]\n",
       "              3        9       3         9         27      9       27       81\n",
       "     ,\n",
       "             21994  2   21994     4427     463\n",
       "    [x + y - -----,y  - ----- y + ----,z - ---],\n",
       "              5625       5625      675      87\n",
       "      2   1       11     5     265        2   38     265\n",
       "    [x  - - x z - -- x - - z + ---,y - z,z  - -- z + ---],\n",
       "          2        2     6      18             3      9\n",
       "         25     11     11        11     11     11        5     5     5\n",
       "    [x - --,y - --,z - --], [x - --,y - --,z - --], [x + -,y + -,z + -],\n",
       "          9      3      3         3      3      3        3     3     3\n",
       "         19     5     5\n",
       "    [x - --,y + -,z + -]]\n",
       "          3     3     3\n",
       "Type: List(List(DistributedMultivariatePolynomial([x,y,z],Fraction(Integer))))\n"
      ]
     },
     "execution_count": 6,
     "metadata": {},
     "output_type": "execute_result"
    }
   ],
   "source": [
    "gb := groebnerFactorize [fxn,fyn,fzn]"
   ]
  },
  {
   "cell_type": "code",
   "execution_count": 7,
   "metadata": {
    "collapsed": false
   },
   "outputs": [
    {
     "data": {
      "text/plain": []
     },
     "execution_count": 7,
     "metadata": {},
     "output_type": "execute_result"
    }
   ],
   "source": [
    "--\n",
    "-- EOF\n",
    "--"
   ]
  }
 ],
 "metadata": {
  "kernelspec": {
   "display_name": "FriCAS",
   "language": "spad",
   "name": "ifricas"
  },
  "language_info": {
   "codemirror_mode": "spad",
   "mimetype": "text/x-spad",
   "name": "SPAD",
   "pygments_lexer": "spad",
   "version": "1.2.6"
  },
  "name": "ch.ipynb"
 },
 "nbformat": 4,
 "nbformat_minor": 0
}