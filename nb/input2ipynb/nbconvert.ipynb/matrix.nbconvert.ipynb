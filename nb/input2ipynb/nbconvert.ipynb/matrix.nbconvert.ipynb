{
 "cells": [
  {
   "cell_type": "code",
   "execution_count": 0,
   "metadata": {
    "collapsed": false
   },
   "outputs": [
    {
     "data": {
      "text/plain": []
     },
     "execution_count": 0,
     "metadata": {},
     "output_type": "execute_result"
    }
   ],
   "source": [
    ")set break resume"
   ]
  },
  {
   "cell_type": "markdown",
   "metadata": {},
   "source": [
    "Copyright The Numerical Algorithms Group Limited 1991.\n"
   ]
  },
  {
   "cell_type": "code",
   "execution_count": 1,
   "metadata": {
    "collapsed": false
   },
   "outputs": [
    {
     "name": "stdout",
     "output_type": "stream",
     "text": [
      "   All user variables and function definitions have been cleared.\n"
     ]
    },
    {
     "data": {
      "text/plain": []
     },
     "execution_count": 1,
     "metadata": {},
     "output_type": "execute_result"
    }
   ],
   "source": [
    ")cl all"
   ]
  },
  {
   "cell_type": "markdown",
   "metadata": {},
   "source": [
    " A number of matrix computations over the integers and over the\n",
    " rationals using various algortihms and indexing schemes.\n"
   ]
  },
  {
   "cell_type": "markdown",
   "metadata": {},
   "source": [
    " Hilbert matrix\n"
   ]
  },
  {
   "cell_type": "code",
   "execution_count": 2,
   "metadata": {
    "collapsed": false
   },
   "outputs": [
    {
     "name": "stdout",
     "output_type": "stream",
     "text": [
      "Warning: HyperTeX macro table not found\n"
     ]
    },
    {
     "data": {
      "text/plain": [
       "   +1  1  1  1  1 +\n",
       "   |-  -  -  -  - |\n",
       "   |2  3  4  5  6 |\n",
       "   |              |\n",
       "   |1  1  1  1  1 |\n",
       "   |-  -  -  -  - |\n",
       "   |3  4  5  6  7 |\n",
       "   |              |\n",
       "   |1  1  1  1  1 |\n",
       "   |-  -  -  -  - |\n",
       "   |4  5  6  7  8 |\n",
       "   |              |\n",
       "   |1  1  1  1  1 |\n",
       "   |-  -  -  -  - |\n",
       "   |5  6  7  8  9 |\n",
       "   |              |\n",
       "   |1  1  1  1   1|\n",
       "   |-  -  -  -  --|\n",
       "   +6  7  8  9  10+\n",
       "                                              Type: Matrix(Fraction(Integer))\n"
      ]
     },
     "execution_count": 2,
     "metadata": {},
     "output_type": "execute_result"
    }
   ],
   "source": [
    "mat : MATRIX FRAC INT := matrix [[1/(i + j) for i in 1..5] for j in 1..5]"
   ]
  },
  {
   "cell_type": "code",
   "execution_count": 3,
   "metadata": {
    "collapsed": false
   },
   "outputs": [
    {
     "data": {
      "text/plain": [
       "   +  450     - 4200    12600    - 15120     6300  +\n",
       "   |                                               |\n",
       "   |- 4200    44100    - 141120   176400   - 75600 |\n",
       "   |                                               |\n",
       "   | 12600   - 141120   470400   - 604800   264600 |\n",
       "   |                                               |\n",
       "   |- 15120   176400   - 604800   793800   - 352800|\n",
       "   |                                               |\n",
       "   + 6300    - 75600    264600   - 352800   158760 +\n",
       "                                   Type: Union(Matrix(Fraction(Integer)),...)\n"
      ]
     },
     "execution_count": 3,
     "metadata": {},
     "output_type": "execute_result"
    }
   ],
   "source": [
    "matinv := inverse mat"
   ]
  },
  {
   "cell_type": "code",
   "execution_count": 4,
   "metadata": {
    "collapsed": false
   },
   "outputs": [
    {
     "data": {
      "text/plain": [
       "   +1  0  0  0  0+\n",
       "   |             |\n",
       "   |0  1  0  0  0|\n",
       "   |             |\n",
       "   |0  0  1  0  0|\n",
       "   |             |\n",
       "   |0  0  0  1  0|\n",
       "   |             |\n",
       "   +0  0  0  0  1+\n",
       "                                              Type: Matrix(Fraction(Integer))\n"
      ]
     },
     "execution_count": 4,
     "metadata": {},
     "output_type": "execute_result"
    }
   ],
   "source": [
    "mat * matinv"
   ]
  },
  {
   "cell_type": "markdown",
   "metadata": {},
   "source": [
    " same computation, different indexing\n"
   ]
  },
  {
   "cell_type": "code",
   "execution_count": 5,
   "metadata": {
    "collapsed": false
   },
   "outputs": [
    {
     "data": {
      "text/plain": [
       "   +1  1  1  1  1 +\n",
       "   |-  -  -  -  - |\n",
       "   |2  3  4  5  6 |\n",
       "   |              |\n",
       "   |1  1  1  1  1 |\n",
       "   |-  -  -  -  - |\n",
       "   |3  4  5  6  7 |\n",
       "   |              |\n",
       "   |1  1  1  1  1 |\n",
       "   |-  -  -  -  - |\n",
       "   |4  5  6  7  8 |\n",
       "   |              |\n",
       "   |1  1  1  1  1 |\n",
       "   |-  -  -  -  - |\n",
       "   |5  6  7  8  9 |\n",
       "   |              |\n",
       "   |1  1  1  1   1|\n",
       "   |-  -  -  -  --|\n",
       "   +6  7  8  9  10+\n",
       "                                 Type: IndexedMatrix(Fraction(Integer),-3,47)\n"
      ]
     },
     "execution_count": 5,
     "metadata": {},
     "output_type": "execute_result"
    }
   ],
   "source": [
    "mat1 : IMATRIX(FRAC INT,-3,47) := _\n",
    "   matrix [[1/(i + j) for i in 1..5] for j in 1..5]\n"
   ]
  },
  {
   "cell_type": "code",
   "execution_count": 6,
   "metadata": {
    "collapsed": false
   },
   "outputs": [
    {
     "data": {
      "text/plain": [
       "   +  450     - 4200    12600    - 15120     6300  +\n",
       "   |                                               |\n",
       "   |- 4200    44100    - 141120   176400   - 75600 |\n",
       "   |                                               |\n",
       "   | 12600   - 141120   470400   - 604800   264600 |\n",
       "   |                                               |\n",
       "   |- 15120   176400   - 604800   793800   - 352800|\n",
       "   |                                               |\n",
       "   + 6300    - 75600    264600   - 352800   158760 +\n",
       "                      Type: Union(IndexedMatrix(Fraction(Integer),-3,47),...)\n"
      ]
     },
     "execution_count": 6,
     "metadata": {},
     "output_type": "execute_result"
    }
   ],
   "source": [
    "mat1inv := inverse mat1"
   ]
  },
  {
   "cell_type": "code",
   "execution_count": 7,
   "metadata": {
    "collapsed": false
   },
   "outputs": [
    {
     "data": {
      "text/plain": [
       "   +1  0  0  0  0+\n",
       "   |             |\n",
       "   |0  1  0  0  0|\n",
       "   |             |\n",
       "   |0  0  1  0  0|\n",
       "   |             |\n",
       "   |0  0  0  1  0|\n",
       "   |             |\n",
       "   +0  0  0  0  1+\n",
       "                                 Type: IndexedMatrix(Fraction(Integer),-3,47)\n"
      ]
     },
     "execution_count": 7,
     "metadata": {},
     "output_type": "execute_result"
    }
   ],
   "source": [
    "mat1 * mat1inv"
   ]
  },
  {
   "cell_type": "markdown",
   "metadata": {},
   "source": [
    " Vandermonde determinant\n"
   ]
  },
  {
   "cell_type": "code",
   "execution_count": 8,
   "metadata": {
    "collapsed": false
   },
   "outputs": [
    {
     "data": {
      "text/plain": [
       "   +1  1  1    1    1 +\n",
       "   |                  |\n",
       "   |1  2  4    8   16 |\n",
       "   |                  |\n",
       "   |1  3  9   27   81 |\n",
       "   |                  |\n",
       "   |1  4  16  64   256|\n",
       "   |                  |\n",
       "   +1  5  25  125  625+\n",
       "                                                        Type: Matrix(Integer)\n"
      ]
     },
     "execution_count": 8,
     "metadata": {},
     "output_type": "execute_result"
    }
   ],
   "source": [
    "mat2 : MATRIX INT := matrix [[j^i for i in 0..4] for j in 1..5]"
   ]
  },
  {
   "cell_type": "code",
   "execution_count": 9,
   "metadata": {
    "collapsed": false
   },
   "outputs": [
    {
     "data": {
      "text/plain": [
       "   +1  0  0  0  0 +\n",
       "   |              |\n",
       "   |0  1  1  1  1 |\n",
       "   |              |\n",
       "   |0  0  2  0  2 |\n",
       "   |              |\n",
       "   |0  0  0  6  12|\n",
       "   |              |\n",
       "   +0  0  0  0  24+\n",
       "                                                        Type: Matrix(Integer)\n"
      ]
     },
     "execution_count": 9,
     "metadata": {},
     "output_type": "execute_result"
    }
   ],
   "source": [
    "rowEchelon  mat2"
   ]
  },
  {
   "cell_type": "code",
   "execution_count": 10,
   "metadata": {
    "collapsed": false
   },
   "outputs": [
    {
     "data": {
      "text/plain": [
       "   288\n",
       "                                                        Type: PositiveInteger\n"
      ]
     },
     "execution_count": 10,
     "metadata": {},
     "output_type": "execute_result"
    }
   ],
   "source": [
    "determinant mat2"
   ]
  },
  {
   "cell_type": "code",
   "execution_count": 11,
   "metadata": {
    "collapsed": false
   },
   "outputs": [
    {
     "data": {
      "text/plain": [
       "   288\n",
       "                                                        Type: PositiveInteger\n"
      ]
     },
     "execution_count": 11,
     "metadata": {},
     "output_type": "execute_result"
    }
   ],
   "source": [
    "minordet    mat2"
   ]
  },
  {
   "cell_type": "markdown",
   "metadata": {},
   "source": [
    " same computation, different indexing\n"
   ]
  },
  {
   "cell_type": "code",
   "execution_count": 12,
   "metadata": {
    "collapsed": false
   },
   "outputs": [
    {
     "data": {
      "text/plain": [
       "   +1  1  1    1    1 +\n",
       "   |                  |\n",
       "   |1  2  4    8   16 |\n",
       "   |                  |\n",
       "   |1  3  9   27   81 |\n",
       "   |                  |\n",
       "   |1  4  16  64   256|\n",
       "   |                  |\n",
       "   +1  5  25  125  625+\n",
       "                                           Type: IndexedMatrix(Integer,13,-7)\n"
      ]
     },
     "execution_count": 12,
     "metadata": {},
     "output_type": "execute_result"
    }
   ],
   "source": [
    "mat3 : IMATRIX(INT,13,-7) := _\n",
    "   matrix [[j^i for i in 0..4] for j in 1..5]\n"
   ]
  },
  {
   "cell_type": "code",
   "execution_count": 13,
   "metadata": {
    "collapsed": false
   },
   "outputs": [
    {
     "data": {
      "text/plain": [
       "   +1  0  0  0  0 +\n",
       "   |              |\n",
       "   |0  1  1  1  1 |\n",
       "   |              |\n",
       "   |0  0  2  0  2 |\n",
       "   |              |\n",
       "   |0  0  0  6  12|\n",
       "   |              |\n",
       "   +0  0  0  0  24+\n",
       "                                           Type: IndexedMatrix(Integer,13,-7)\n"
      ]
     },
     "execution_count": 13,
     "metadata": {},
     "output_type": "execute_result"
    }
   ],
   "source": [
    "rowEchelon  mat3"
   ]
  },
  {
   "cell_type": "code",
   "execution_count": 14,
   "metadata": {
    "collapsed": false
   },
   "outputs": [
    {
     "data": {
      "text/plain": [
       "   288\n",
       "                                                        Type: PositiveInteger\n"
      ]
     },
     "execution_count": 14,
     "metadata": {},
     "output_type": "execute_result"
    }
   ],
   "source": [
    "determinant mat3"
   ]
  },
  {
   "cell_type": "code",
   "execution_count": 15,
   "metadata": {
    "collapsed": false
   },
   "outputs": [
    {
     "data": {
      "text/plain": [
       "   288\n",
       "                                                        Type: PositiveInteger\n"
      ]
     },
     "execution_count": 15,
     "metadata": {},
     "output_type": "execute_result"
    }
   ],
   "source": [
    "minordet    mat3"
   ]
  },
  {
   "cell_type": "markdown",
   "metadata": {},
   "source": [
    " same computation, work over the rationals\n"
   ]
  },
  {
   "cell_type": "code",
   "execution_count": 16,
   "metadata": {
    "collapsed": false
   },
   "outputs": [
    {
     "data": {
      "text/plain": [
       "   +1  1  1    1    1 +\n",
       "   |                  |\n",
       "   |1  2  4    8   16 |\n",
       "   |                  |\n",
       "   |1  3  9   27   81 |\n",
       "   |                  |\n",
       "   |1  4  16  64   256|\n",
       "   |                  |\n",
       "   +1  5  25  125  625+\n",
       "                                              Type: Matrix(Fraction(Integer))\n"
      ]
     },
     "execution_count": 16,
     "metadata": {},
     "output_type": "execute_result"
    }
   ],
   "source": [
    "mat4 : MATRIX FRAC INT := matrix [[j^i for i in 0..4] for j in 1..5]"
   ]
  },
  {
   "cell_type": "code",
   "execution_count": 17,
   "metadata": {
    "collapsed": false
   },
   "outputs": [
    {
     "data": {
      "text/plain": [
       "   +1  0  0  0  0+\n",
       "   |             |\n",
       "   |0  1  0  0  0|\n",
       "   |             |\n",
       "   |0  0  1  0  0|\n",
       "   |             |\n",
       "   |0  0  0  1  0|\n",
       "   |             |\n",
       "   +0  0  0  0  1+\n",
       "                                              Type: Matrix(Fraction(Integer))\n"
      ]
     },
     "execution_count": 17,
     "metadata": {},
     "output_type": "execute_result"
    }
   ],
   "source": [
    "rowEchelon  mat4"
   ]
  },
  {
   "cell_type": "code",
   "execution_count": 18,
   "metadata": {
    "collapsed": false
   },
   "outputs": [
    {
     "data": {
      "text/plain": [
       "   288\n",
       "                                                      Type: Fraction(Integer)\n"
      ]
     },
     "execution_count": 18,
     "metadata": {},
     "output_type": "execute_result"
    }
   ],
   "source": [
    "determinant mat4"
   ]
  },
  {
   "cell_type": "code",
   "execution_count": 19,
   "metadata": {
    "collapsed": false
   },
   "outputs": [
    {
     "data": {
      "text/plain": [
       "   288\n",
       "                                                      Type: Fraction(Integer)\n"
      ]
     },
     "execution_count": 19,
     "metadata": {},
     "output_type": "execute_result"
    }
   ],
   "source": [
    "minordet    mat4"
   ]
  },
  {
   "cell_type": "markdown",
   "metadata": {},
   "source": [
    " same computation, different indexing\n"
   ]
  },
  {
   "cell_type": "code",
   "execution_count": 20,
   "metadata": {
    "collapsed": false
   },
   "outputs": [
    {
     "data": {
      "text/plain": [
       "   +1  1  1    1    1 +\n",
       "   |                  |\n",
       "   |1  2  4    8   16 |\n",
       "   |                  |\n",
       "   |1  3  9   27   81 |\n",
       "   |                  |\n",
       "   |1  4  16  64   256|\n",
       "   |                  |\n",
       "   +1  5  25  125  625+\n",
       "                               Type: IndexedMatrix(Fraction(Integer),-113,37)\n"
      ]
     },
     "execution_count": 20,
     "metadata": {},
     "output_type": "execute_result"
    }
   ],
   "source": [
    "mat5 : IMATRIX(FRAC INT,-113,37) := _\n",
    "   matrix [[j^i for i in 0..4] for j in 1..5]\n"
   ]
  },
  {
   "cell_type": "code",
   "execution_count": 21,
   "metadata": {
    "collapsed": false
   },
   "outputs": [
    {
     "data": {
      "text/plain": [
       "   +1  0  0  0  0+\n",
       "   |             |\n",
       "   |0  1  0  0  0|\n",
       "   |             |\n",
       "   |0  0  1  0  0|\n",
       "   |             |\n",
       "   |0  0  0  1  0|\n",
       "   |             |\n",
       "   +0  0  0  0  1+\n",
       "                               Type: IndexedMatrix(Fraction(Integer),-113,37)\n"
      ]
     },
     "execution_count": 21,
     "metadata": {},
     "output_type": "execute_result"
    }
   ],
   "source": [
    "rowEchelon  mat5"
   ]
  },
  {
   "cell_type": "code",
   "execution_count": 22,
   "metadata": {
    "collapsed": false
   },
   "outputs": [
    {
     "data": {
      "text/plain": [
       "   288\n",
       "                                                      Type: Fraction(Integer)\n"
      ]
     },
     "execution_count": 22,
     "metadata": {},
     "output_type": "execute_result"
    }
   ],
   "source": [
    "determinant mat5"
   ]
  },
  {
   "cell_type": "code",
   "execution_count": 23,
   "metadata": {
    "collapsed": false
   },
   "outputs": [
    {
     "data": {
      "text/plain": [
       "   288\n",
       "                                                      Type: Fraction(Integer)\n"
      ]
     },
     "execution_count": 23,
     "metadata": {},
     "output_type": "execute_result"
    }
   ],
   "source": [
    "minordet    mat5"
   ]
  },
  {
   "cell_type": "code",
   "execution_count": 24,
   "metadata": {
    "collapsed": false
   },
   "outputs": [
    {
     "data": {
      "text/plain": [
       "   +1  2  3+\n",
       "   |       |\n",
       "   |4  5  6|\n",
       "   |       |\n",
       "   +7  8  9+\n",
       "                                                        Type: Matrix(Integer)\n"
      ]
     },
     "execution_count": 24,
     "metadata": {},
     "output_type": "execute_result"
    }
   ],
   "source": [
    "mat6 : MATRIX INT := matrix [[1,2,3],[4,5,6],[7,8,9]]"
   ]
  },
  {
   "cell_type": "code",
   "execution_count": 25,
   "metadata": {
    "collapsed": false
   },
   "outputs": [
    {
     "data": {
      "text/plain": [
       "   +1  2  3+\n",
       "   |       |\n",
       "   |0  3  6|\n",
       "   |       |\n",
       "   +0  0  0+\n",
       "                                                        Type: Matrix(Integer)\n"
      ]
     },
     "execution_count": 25,
     "metadata": {},
     "output_type": "execute_result"
    }
   ],
   "source": [
    "rowEchelon mat6"
   ]
  },
  {
   "cell_type": "code",
   "execution_count": 26,
   "metadata": {
    "collapsed": false
   },
   "outputs": [
    {
     "data": {
      "text/plain": [
       "   2\n",
       "                                                        Type: PositiveInteger\n"
      ]
     },
     "execution_count": 26,
     "metadata": {},
     "output_type": "execute_result"
    }
   ],
   "source": [
    "rank       mat6"
   ]
  },
  {
   "cell_type": "code",
   "execution_count": 27,
   "metadata": {
    "collapsed": false
   },
   "outputs": [
    {
     "data": {
      "text/plain": [
       "   1\n",
       "                                                        Type: PositiveInteger\n"
      ]
     },
     "execution_count": 27,
     "metadata": {},
     "output_type": "execute_result"
    }
   ],
   "source": [
    "nullity    mat6"
   ]
  },
  {
   "cell_type": "code",
   "execution_count": 28,
   "metadata": {
    "collapsed": false
   },
   "outputs": [
    {
     "data": {
      "text/plain": [
       "   [[1,- 2,1]]\n",
       "                                                  Type: List(Vector(Integer))\n"
      ]
     },
     "execution_count": 28,
     "metadata": {},
     "output_type": "execute_result"
    }
   ],
   "source": [
    "nullSpace  mat6"
   ]
  },
  {
   "cell_type": "code",
   "execution_count": 29,
   "metadata": {
    "collapsed": false
   },
   "outputs": [
    {
     "data": {
      "text/plain": [
       "   +1  2  3+\n",
       "   |       |\n",
       "   |4  5  6|\n",
       "   |       |\n",
       "   +7  8  9+\n",
       "                             Type: IndexedMatrix(Fraction(Integer),163,61657)\n"
      ]
     },
     "execution_count": 29,
     "metadata": {},
     "output_type": "execute_result"
    }
   ],
   "source": [
    "mat7 : IMATRIX(FRAC INT,163,61657) := matrix [[1,2,3],[4,5,6],[7,8,9]]"
   ]
  },
  {
   "cell_type": "code",
   "execution_count": 30,
   "metadata": {
    "collapsed": false
   },
   "outputs": [
    {
     "data": {
      "text/plain": [
       "   +1  0  - 1+\n",
       "   |         |\n",
       "   |0  1   2 |\n",
       "   |         |\n",
       "   +0  0   0 +\n",
       "                             Type: IndexedMatrix(Fraction(Integer),163,61657)\n"
      ]
     },
     "execution_count": 30,
     "metadata": {},
     "output_type": "execute_result"
    }
   ],
   "source": [
    "rowEchelon mat7"
   ]
  },
  {
   "cell_type": "code",
   "execution_count": 31,
   "metadata": {
    "collapsed": false
   },
   "outputs": [
    {
     "data": {
      "text/plain": [
       "   2\n",
       "                                                        Type: PositiveInteger\n"
      ]
     },
     "execution_count": 31,
     "metadata": {},
     "output_type": "execute_result"
    }
   ],
   "source": [
    "rank       mat7"
   ]
  },
  {
   "cell_type": "code",
   "execution_count": 32,
   "metadata": {
    "collapsed": false
   },
   "outputs": [
    {
     "data": {
      "text/plain": [
       "   1\n",
       "                                                        Type: PositiveInteger\n"
      ]
     },
     "execution_count": 32,
     "metadata": {},
     "output_type": "execute_result"
    }
   ],
   "source": [
    "nullity    mat7"
   ]
  },
  {
   "cell_type": "code",
   "execution_count": 33,
   "metadata": {
    "collapsed": false
   },
   "outputs": [
    {
     "data": {
      "text/plain": [
       "   [[1,- 2,1]]\n",
       "                             Type: List(IndexedVector(Fraction(Integer),163))\n"
      ]
     },
     "execution_count": 33,
     "metadata": {},
     "output_type": "execute_result"
    }
   ],
   "source": [
    "nullSpace  mat7"
   ]
  },
  {
   "cell_type": "code",
   "execution_count": 34,
   "metadata": {
    "collapsed": false
   },
   "outputs": [
    {
     "data": {
      "text/plain": [
       "   + 1   - 2  13   0     5   - 47+\n",
       "   |                             |\n",
       "   |- 4  15   0    16   - 2   1  |\n",
       "   |                             |\n",
       "   +- 7   0   8   - 11   9    0  +\n",
       "                                                        Type: Matrix(Integer)\n"
      ]
     },
     "execution_count": 34,
     "metadata": {},
     "output_type": "execute_result"
    }
   ],
   "source": [
    "mat8 : MATRIX INT := _\n",
    " matrix [[1,-2,13,0,5,-47],[-4,15,0,16,-2,1],[-7,0,8,-11,9,0]]\n"
   ]
  },
  {
   "cell_type": "code",
   "execution_count": 35,
   "metadata": {
    "collapsed": false
   },
   "outputs": [
    {
     "data": {
      "text/plain": [
       "   +1  5  65   16  23  - 234+\n",
       "   |                        |\n",
       "   |0  7  52   16  18  - 187|\n",
       "   |                        |\n",
       "   +0  0  203  21  80  - 703+\n",
       "                                                        Type: Matrix(Integer)\n"
      ]
     },
     "execution_count": 35,
     "metadata": {},
     "output_type": "execute_result"
    }
   ],
   "source": [
    "rowEchelon mat8"
   ]
  },
  {
   "cell_type": "code",
   "execution_count": 36,
   "metadata": {
    "collapsed": false
   },
   "outputs": [
    {
     "data": {
      "text/plain": [
       "   3\n",
       "                                                        Type: PositiveInteger\n"
      ]
     },
     "execution_count": 36,
     "metadata": {},
     "output_type": "execute_result"
    }
   ],
   "source": [
    "rank       mat8"
   ]
  },
  {
   "cell_type": "code",
   "execution_count": 37,
   "metadata": {
    "collapsed": false
   },
   "outputs": [
    {
     "data": {
      "text/plain": [
       "   3\n",
       "                                                        Type: PositiveInteger\n"
      ]
     },
     "execution_count": 37,
     "metadata": {},
     "output_type": "execute_result"
    }
   ],
   "source": [
    "nullity    mat8"
   ]
  },
  {
   "cell_type": "code",
   "execution_count": 38,
   "metadata": {
    "collapsed": false
   },
   "outputs": [
    {
     "data": {
      "text/plain": [
       "   [[- 49,- 44,- 3,29,0,0],[1187,506,- 560,0,1421,0],[5624,1405,4921,0,0,1421]]\n",
       "                                                  Type: List(Vector(Integer))\n"
      ]
     },
     "execution_count": 38,
     "metadata": {},
     "output_type": "execute_result"
    }
   ],
   "source": [
    "nullSpace  mat8"
   ]
  },
  {
   "cell_type": "code",
   "execution_count": 39,
   "metadata": {
    "collapsed": false
   },
   "outputs": [
    {
     "data": {
      "text/plain": [
       "   + 1   - 2  13   0     5   - 47+\n",
       "   |                             |\n",
       "   |- 4  15   0    16   - 2   1  |\n",
       "   |                             |\n",
       "   +- 7   0   8   - 11   9    0  +\n",
       "                             Type: IndexedMatrix(Fraction(Integer),163,61657)\n"
      ]
     },
     "execution_count": 39,
     "metadata": {},
     "output_type": "execute_result"
    }
   ],
   "source": [
    "mat9 : IMATRIX(FRAC INT,163,61657) := _\n",
    " matrix [[1,-2,13,0,5,-47],[-4,15,0,16,-2,1],[-7,0,8,-11,9,0]]\n"
   ]
  },
  {
   "cell_type": "code",
   "execution_count": 40,
   "metadata": {
    "collapsed": false
   },
   "outputs": [
    {
     "data": {
      "text/plain": [
       "   +         49    1187    5624+\n",
       "   |1  0  0  --  - ----  - ----|\n",
       "   |         29    1421    1421|\n",
       "   |                           |\n",
       "   |         44     506    1405|\n",
       "   |0  1  0  --  - ----  - ----|\n",
       "   |         29    1421    1421|\n",
       "   |                           |\n",
       "   |          3    80      703 |\n",
       "   |0  0  1  --   ---    - --- |\n",
       "   +         29   203      203 +\n",
       "                             Type: IndexedMatrix(Fraction(Integer),163,61657)\n"
      ]
     },
     "execution_count": 40,
     "metadata": {},
     "output_type": "execute_result"
    }
   ],
   "source": [
    "rowEchelon mat9"
   ]
  },
  {
   "cell_type": "code",
   "execution_count": 41,
   "metadata": {
    "collapsed": false
   },
   "outputs": [
    {
     "data": {
      "text/plain": [
       "   3\n",
       "                                                        Type: PositiveInteger\n"
      ]
     },
     "execution_count": 41,
     "metadata": {},
     "output_type": "execute_result"
    }
   ],
   "source": [
    "rank       mat9"
   ]
  },
  {
   "cell_type": "code",
   "execution_count": 42,
   "metadata": {
    "collapsed": false
   },
   "outputs": [
    {
     "data": {
      "text/plain": [
       "   3\n",
       "                                                        Type: PositiveInteger\n"
      ]
     },
     "execution_count": 42,
     "metadata": {},
     "output_type": "execute_result"
    }
   ],
   "source": [
    "nullity    mat9"
   ]
  },
  {
   "cell_type": "code",
   "execution_count": 43,
   "metadata": {
    "collapsed": false
   },
   "outputs": [
    {
     "data": {
      "text/plain": [
       "       49   44    3         1187  506    80         5624 1405 703\n",
       "   [[- --,- --,- --,1,0,0],[----,----,- ---,0,1,0],[----,----,---,0,0,1]]\n",
       "       29   29   29         1421 1421   203         1421 1421 203\n",
       "                             Type: List(IndexedVector(Fraction(Integer),163))\n"
      ]
     },
     "execution_count": 43,
     "metadata": {},
     "output_type": "execute_result"
    }
   ],
   "source": [
    "nullSpace  mat9"
   ]
  },
  {
   "cell_type": "code",
   "execution_count": 44,
   "metadata": {
    "collapsed": false
   },
   "outputs": [
    {
     "data": {
      "text/plain": []
     },
     "execution_count": 44,
     "metadata": {},
     "output_type": "execute_result"
    }
   ],
   "source": [
    "--\n",
    "-- EOF\n",
    "--"
   ]
  }
 ],
 "metadata": {
  "kernelspec": {
   "display_name": "FriCAS",
   "language": "spad",
   "name": "ifricas"
  },
  "language_info": {
   "codemirror_mode": "spad",
   "mimetype": "text/x-spad",
   "name": "SPAD",
   "pygments_lexer": "spad",
   "version": "1.2.6"
  },
  "name": "matrix.ipynb"
 },
 "nbformat": 4,
 "nbformat_minor": 0
}