{
 "cells": [
  {
   "cell_type": "code",
   "execution_count": 0,
   "metadata": {
    "collapsed": false
   },
   "outputs": [
    {
     "data": {
      "text/plain": []
     },
     "execution_count": 0,
     "metadata": {},
     "output_type": "execute_result"
    }
   ],
   "source": [
    ")set break resume"
   ]
  },
  {
   "cell_type": "markdown",
   "metadata": {},
   "source": [
    "Copyright The Numerical Algorithms Group Limited 1991.\n"
   ]
  },
  {
   "cell_type": "code",
   "execution_count": 1,
   "metadata": {
    "collapsed": false
   },
   "outputs": [
    {
     "name": "stdout",
     "output_type": "stream",
     "text": [
      "   All user variables and function definitions have been cleared.\n"
     ]
    },
    {
     "data": {
      "text/plain": []
     },
     "execution_count": 1,
     "metadata": {},
     "output_type": "execute_result"
    }
   ],
   "source": [
    ")cl all"
   ]
  },
  {
   "cell_type": "markdown",
   "metadata": {},
   "source": [
    " A number of matrix computations over the integers and over the\n",
    " rationals using various algortihms and indexing schemes.\n"
   ]
  },
  {
   "cell_type": "markdown",
   "metadata": {},
   "source": [
    " Hilbert matrix\n"
   ]
  },
  {
   "cell_type": "code",
   "execution_count": 2,
   "metadata": {
    "collapsed": false
   },
   "outputs": [
    {
     "name": "stdout",
     "output_type": "stream",
     "text": [
      "Warning: HyperTeX macro table not found\n"
     ]
    },
    {
     "data": {
      "text/plain": [
       "   +1  1  1  1  1 +\n",
       "   |-  -  -  -  - |\n",
       "   |2  3  4  5  6 |\n",
       "   |              |\n",
       "   |1  1  1  1  1 |\n",
       "   |-  -  -  -  - |\n",
       "   |3  4  5  6  7 |\n",
       "   |              |\n",
       "   |1  1  1  1  1 |\n",
       "   |-  -  -  -  - |\n",
       "   |4  5  6  7  8 |\n",
       "   |              |\n",
       "   |1  1  1  1  1 |\n",
       "   |-  -  -  -  - |\n",
       "   |5  6  7  8  9 |\n",
       "   |              |\n",
       "   |1  1  1  1   1|\n",
       "   |-  -  -  -  --|\n",
       "   +6  7  8  9  10+\n",
       "                                              Type: Matrix(Fraction(Integer))\n"
      ]
     },
     "execution_count": 2,
     "metadata": {},
     "output_type": "execute_result"
    }
   ],
   "source": [
    "mat : MATRIX FRAC INT := matrix [[1/(i + j) for i in 1..5] for j in 1..5]"
   ]
  },
  {
   "cell_type": "code",
   "execution_count": 3,
   "metadata": {
    "collapsed": false
   },
   "outputs": [
    {
     "data": {
      "text/plain": [
       "   +  450     - 4200    12600    - 15120     6300  +\n",
       "   |                                               |\n",
       "   |- 4200    44100    - 141120   176400   - 75600 |\n",
       "   |                                               |\n",
       "   | 12600   - 141120   470400   - 604800   264600 |\n",
       "   |                                               |\n",
       "   |- 15120   176400   - 604800   793800   - 352800|\n",
       "   |                                               |\n",
       "   + 6300    - 75600    264600   - 352800   158760 +\n",
       "                                   Type: Union(Matrix(Fraction(Integer)),...)\n"
      ]
     },
     "execution_count": 3,
     "metadata": {},
     "output_type": "execute_result"
    }
   ],
   "source": [
    "matinv := inverse mat"
   ]
  },
  {
   "cell_type": "code",
   "execution_count": 4,
   "metadata": {
    "collapsed": false
   },
   "outputs": [
    {
     "data": {
      "text/plain": [
       "   +1  0  0  0  0+\n",
       "   |             |\n",
       "   |0  1  0  0  0|\n",
       "   |             |\n",
       "   |0  0  1  0  0|\n",
       "   |             |\n",
       "   |0  0  0  1  0|\n",
       "   |             |\n",
       "   +0  0  0  0  1+\n",
       "                                              Type: Matrix(Fraction(Integer))\n"
      ]
     },
     "execution_count": 4,
     "metadata": {},
     "output_type": "execute_result"
    }
   ],
   "source": [
    "mat * matinv"
   ]
  },
  {
   "cell_type": "markdown",
   "metadata": {},
   "source": [
    " same computation, different indexing\n"
   ]
  },
  {
   "cell_type": "code",
   "execution_count": 5,
   "metadata": {
    "collapsed": false
   },
   "outputs": [
    {
     "name": "stdout",
     "output_type": "stream",
     "text": [
      "  Line   1: mat1 : IMATRIX(FRAC INT,-3,47) := _\n",
      "  Line   2: )--premature end\n",
      "           AB\n",
      "  Error  A: syntax error at top level\n",
      "  Error  A: Improper syntax.\n",
      "  Error  B: File \n",
      "            /home/kfp/Development/fricas_input/nb/input2ipynb/ipynb/.tmp-ispad-40694.input\n",
      "             ended where at least one )endif was still needed. An appropriate \n",
      "            number of )endif lines has been assumed.\n",
      "   3 error(s) parsing \n",
      "\n",
      "   Continuing to read the file...\n",
      "\n",
      "\n"
     ]
    },
    {
     "data": {
      "text/plain": []
     },
     "execution_count": 5,
     "metadata": {},
     "output_type": "execute_result"
    }
   ],
   "source": [
    "mat1 : IMATRIX(FRAC INT,-3,47) := _\n"
   ]
  },
  {
   "cell_type": "code",
   "execution_count": 6,
   "metadata": {
    "collapsed": false
   },
   "outputs": [
    {
     "data": {
      "text/plain": [
       "   +1  1  1  1  1 +\n",
       "   |-  -  -  -  - |\n",
       "   |2  3  4  5  6 |\n",
       "   |              |\n",
       "   |1  1  1  1  1 |\n",
       "   |-  -  -  -  - |\n",
       "   |3  4  5  6  7 |\n",
       "   |              |\n",
       "   |1  1  1  1  1 |\n",
       "   |-  -  -  -  - |\n",
       "   |4  5  6  7  8 |\n",
       "   |              |\n",
       "   |1  1  1  1  1 |\n",
       "   |-  -  -  -  - |\n",
       "   |5  6  7  8  9 |\n",
       "   |              |\n",
       "   |1  1  1  1   1|\n",
       "   |-  -  -  -  --|\n",
       "   +6  7  8  9  10+\n",
       "                                              Type: Matrix(Fraction(Integer))\n"
      ]
     },
     "execution_count": 6,
     "metadata": {},
     "output_type": "execute_result"
    }
   ],
   "source": [
    "   matrix [[1/(i + j) for i in 1..5] for j in 1..5]"
   ]
  },
  {
   "cell_type": "code",
   "execution_count": 7,
   "metadata": {
    "collapsed": false
   },
   "outputs": [
    {
     "name": "stderr",
     "output_type": "stream",
     "text": [
      "   There are 3 exposed and 3 unexposed library operations named inverse\n",
      "      having 1 argument(s) but none was determined to be applicable. \n",
      "      Use HyperDoc Browse, or issue\n",
      "                             )display op inverse\n",
      "      to learn more about the available operations. Perhaps \n",
      "      package-calling the operation or using coercions on the arguments\n",
      "      will allow you to apply the operation.\n",
      " \n",
      "   Cannot find a definition or applicable library operation named \n",
      "      inverse with argument type(s) \n",
      "                               Variable(mat1)\n",
      "      \n",
      "      Perhaps you should use \"@\" to indicate the required return type, \n",
      "      or \"$\" to specify which version of the function you need.\n",
      "\n"
     ]
    },
    {
     "data": {
      "text/plain": [
       "error\n"
      ]
     },
     "execution_count": 7,
     "metadata": {},
     "output_type": "execute_result"
    }
   ],
   "source": [
    "mat1inv := inverse mat1"
   ]
  },
  {
   "cell_type": "code",
   "execution_count": 8,
   "metadata": {
    "collapsed": false
   },
   "outputs": [
    {
     "data": {
      "text/plain": [
       "   mat1 mat1inv\n",
       "                                                    Type: Polynomial(Integer)\n"
      ]
     },
     "execution_count": 8,
     "metadata": {},
     "output_type": "execute_result"
    }
   ],
   "source": [
    "mat1 * mat1inv"
   ]
  },
  {
   "cell_type": "markdown",
   "metadata": {},
   "source": [
    " Vandermonde determinant\n"
   ]
  },
  {
   "cell_type": "code",
   "execution_count": 9,
   "metadata": {
    "collapsed": false
   },
   "outputs": [
    {
     "data": {
      "text/plain": [
       "   +1  1  1    1    1 +\n",
       "   |                  |\n",
       "   |1  2  4    8   16 |\n",
       "   |                  |\n",
       "   |1  3  9   27   81 |\n",
       "   |                  |\n",
       "   |1  4  16  64   256|\n",
       "   |                  |\n",
       "   +1  5  25  125  625+\n",
       "                                                        Type: Matrix(Integer)\n"
      ]
     },
     "execution_count": 9,
     "metadata": {},
     "output_type": "execute_result"
    }
   ],
   "source": [
    "mat2 : MATRIX INT := matrix [[j^i for i in 0..4] for j in 1..5]"
   ]
  },
  {
   "cell_type": "code",
   "execution_count": 10,
   "metadata": {
    "collapsed": false
   },
   "outputs": [
    {
     "data": {
      "text/plain": [
       "   +1  0  0  0  0 +\n",
       "   |              |\n",
       "   |0  1  1  1  1 |\n",
       "   |              |\n",
       "   |0  0  2  0  2 |\n",
       "   |              |\n",
       "   |0  0  0  6  12|\n",
       "   |              |\n",
       "   +0  0  0  0  24+\n",
       "                                                        Type: Matrix(Integer)\n"
      ]
     },
     "execution_count": 10,
     "metadata": {},
     "output_type": "execute_result"
    }
   ],
   "source": [
    "rowEchelon  mat2"
   ]
  },
  {
   "cell_type": "code",
   "execution_count": 11,
   "metadata": {
    "collapsed": false
   },
   "outputs": [
    {
     "data": {
      "text/plain": [
       "   288\n",
       "                                                        Type: PositiveInteger\n"
      ]
     },
     "execution_count": 11,
     "metadata": {},
     "output_type": "execute_result"
    }
   ],
   "source": [
    "determinant mat2"
   ]
  },
  {
   "cell_type": "code",
   "execution_count": 12,
   "metadata": {
    "collapsed": false
   },
   "outputs": [
    {
     "data": {
      "text/plain": [
       "   288\n",
       "                                                        Type: PositiveInteger\n"
      ]
     },
     "execution_count": 12,
     "metadata": {},
     "output_type": "execute_result"
    }
   ],
   "source": [
    "minordet    mat2"
   ]
  },
  {
   "cell_type": "markdown",
   "metadata": {},
   "source": [
    " same computation, different indexing\n"
   ]
  },
  {
   "cell_type": "code",
   "execution_count": 13,
   "metadata": {
    "collapsed": false
   },
   "outputs": [
    {
     "name": "stdout",
     "output_type": "stream",
     "text": [
      "  Line   1: mat3 : IMATRIX(INT,13,-7) := _\n",
      "  Line   2: )--premature end\n",
      "           AB\n",
      "  Error  A: syntax error at top level\n",
      "  Error  A: Improper syntax.\n",
      "  Error  B: File \n",
      "            /home/kfp/Development/fricas_input/nb/input2ipynb/ipynb/.tmp-ispad-40694.input\n",
      "             ended where at least one )endif was still needed. An appropriate \n",
      "            number of )endif lines has been assumed.\n",
      "   3 error(s) parsing \n",
      "\n",
      "   Continuing to read the file...\n",
      "\n",
      "\n"
     ]
    },
    {
     "data": {
      "text/plain": []
     },
     "execution_count": 13,
     "metadata": {},
     "output_type": "execute_result"
    }
   ],
   "source": [
    "mat3 : IMATRIX(INT,13,-7) := _\n"
   ]
  },
  {
   "cell_type": "code",
   "execution_count": 14,
   "metadata": {
    "collapsed": false
   },
   "outputs": [
    {
     "data": {
      "text/plain": [
       "   +1  1  1    1    1 +\n",
       "   |                  |\n",
       "   |1  2  4    8   16 |\n",
       "   |                  |\n",
       "   |1  3  9   27   81 |\n",
       "   |                  |\n",
       "   |1  4  16  64   256|\n",
       "   |                  |\n",
       "   +1  5  25  125  625+\n",
       "                                                        Type: Matrix(Integer)\n"
      ]
     },
     "execution_count": 14,
     "metadata": {},
     "output_type": "execute_result"
    }
   ],
   "source": [
    "   matrix [[j^i for i in 0..4] for j in 1..5]"
   ]
  },
  {
   "cell_type": "code",
   "execution_count": 15,
   "metadata": {
    "collapsed": false
   },
   "outputs": [
    {
     "name": "stderr",
     "output_type": "stream",
     "text": [
      "   There are 3 exposed and 4 unexposed library operations named \n",
      "      rowEchelon having 1 argument(s) but none was determined to be \n",
      "      applicable. Use HyperDoc Browse, or issue\n",
      "                           )display op rowEchelon\n",
      "      to learn more about the available operations. Perhaps \n",
      "      package-calling the operation or using coercions on the arguments\n",
      "      will allow you to apply the operation.\n",
      " \n",
      "   Cannot find a definition or applicable library operation named \n",
      "      rowEchelon with argument type(s) \n",
      "                               Variable(mat3)\n",
      "      \n",
      "      Perhaps you should use \"@\" to indicate the required return type, \n",
      "      or \"$\" to specify which version of the function you need.\n",
      "\n"
     ]
    },
    {
     "data": {
      "text/plain": [
       "error\n"
      ]
     },
     "execution_count": 15,
     "metadata": {},
     "output_type": "execute_result"
    }
   ],
   "source": [
    "rowEchelon  mat3"
   ]
  },
  {
   "cell_type": "code",
   "execution_count": 16,
   "metadata": {
    "collapsed": false
   },
   "outputs": [
    {
     "name": "stderr",
     "output_type": "stream",
     "text": [
      "   There are 3 exposed and 1 unexposed library operations named \n",
      "      determinant having 1 argument(s) but none was determined to be \n",
      "      applicable. Use HyperDoc Browse, or issue\n",
      "                           )display op determinant\n",
      "      to learn more about the available operations. Perhaps \n",
      "      package-calling the operation or using coercions on the arguments\n",
      "      will allow you to apply the operation.\n",
      " \n",
      "   Cannot find a definition or applicable library operation named \n",
      "      determinant with argument type(s) \n",
      "                               Variable(mat3)\n",
      "      \n",
      "      Perhaps you should use \"@\" to indicate the required return type, \n",
      "      or \"$\" to specify which version of the function you need.\n",
      "\n"
     ]
    },
    {
     "data": {
      "text/plain": [
       "error\n"
      ]
     },
     "execution_count": 16,
     "metadata": {},
     "output_type": "execute_result"
    }
   ],
   "source": [
    "determinant mat3"
   ]
  },
  {
   "cell_type": "code",
   "execution_count": 17,
   "metadata": {
    "collapsed": false
   },
   "outputs": [
    {
     "name": "stderr",
     "output_type": "stream",
     "text": [
      "   There are 3 exposed and 0 unexposed library operations named \n",
      "      minordet having 1 argument(s) but none was determined to be \n",
      "      applicable. Use HyperDoc Browse, or issue\n",
      "                            )display op minordet\n",
      "      to learn more about the available operations. Perhaps \n",
      "      package-calling the operation or using coercions on the arguments\n",
      "      will allow you to apply the operation.\n",
      " \n",
      "   Cannot find a definition or applicable library operation named \n",
      "      minordet with argument type(s) \n",
      "                               Variable(mat3)\n",
      "      \n",
      "      Perhaps you should use \"@\" to indicate the required return type, \n",
      "      or \"$\" to specify which version of the function you need.\n",
      "\n"
     ]
    },
    {
     "data": {
      "text/plain": [
       "error\n"
      ]
     },
     "execution_count": 17,
     "metadata": {},
     "output_type": "execute_result"
    }
   ],
   "source": [
    "minordet    mat3"
   ]
  },
  {
   "cell_type": "markdown",
   "metadata": {},
   "source": [
    " same computation, work over the rationals\n"
   ]
  },
  {
   "cell_type": "code",
   "execution_count": 18,
   "metadata": {
    "collapsed": false
   },
   "outputs": [
    {
     "data": {
      "text/plain": [
       "   +1  1  1    1    1 +\n",
       "   |                  |\n",
       "   |1  2  4    8   16 |\n",
       "   |                  |\n",
       "   |1  3  9   27   81 |\n",
       "   |                  |\n",
       "   |1  4  16  64   256|\n",
       "   |                  |\n",
       "   +1  5  25  125  625+\n",
       "                                              Type: Matrix(Fraction(Integer))\n"
      ]
     },
     "execution_count": 18,
     "metadata": {},
     "output_type": "execute_result"
    }
   ],
   "source": [
    "mat4 : MATRIX FRAC INT := matrix [[j^i for i in 0..4] for j in 1..5]"
   ]
  },
  {
   "cell_type": "code",
   "execution_count": 19,
   "metadata": {
    "collapsed": false
   },
   "outputs": [
    {
     "data": {
      "text/plain": [
       "   +1  0  0  0  0+\n",
       "   |             |\n",
       "   |0  1  0  0  0|\n",
       "   |             |\n",
       "   |0  0  1  0  0|\n",
       "   |             |\n",
       "   |0  0  0  1  0|\n",
       "   |             |\n",
       "   +0  0  0  0  1+\n",
       "                                              Type: Matrix(Fraction(Integer))\n"
      ]
     },
     "execution_count": 19,
     "metadata": {},
     "output_type": "execute_result"
    }
   ],
   "source": [
    "rowEchelon  mat4"
   ]
  },
  {
   "cell_type": "code",
   "execution_count": 20,
   "metadata": {
    "collapsed": false
   },
   "outputs": [
    {
     "data": {
      "text/plain": [
       "   288\n",
       "                                                      Type: Fraction(Integer)\n"
      ]
     },
     "execution_count": 20,
     "metadata": {},
     "output_type": "execute_result"
    }
   ],
   "source": [
    "determinant mat4"
   ]
  },
  {
   "cell_type": "code",
   "execution_count": 21,
   "metadata": {
    "collapsed": false
   },
   "outputs": [
    {
     "data": {
      "text/plain": [
       "   288\n",
       "                                                      Type: Fraction(Integer)\n"
      ]
     },
     "execution_count": 21,
     "metadata": {},
     "output_type": "execute_result"
    }
   ],
   "source": [
    "minordet    mat4"
   ]
  },
  {
   "cell_type": "markdown",
   "metadata": {},
   "source": [
    " same computation, different indexing\n"
   ]
  },
  {
   "cell_type": "code",
   "execution_count": 22,
   "metadata": {
    "collapsed": false
   },
   "outputs": [
    {
     "name": "stdout",
     "output_type": "stream",
     "text": [
      "  Line   1: mat5 : IMATRIX(FRAC INT,-113,37) := _\n",
      "  Line   2: )--premature end\n",
      "           AB\n",
      "  Error  A: syntax error at top level\n",
      "  Error  A: Improper syntax.\n",
      "  Error  B: File \n",
      "            /home/kfp/Development/fricas_input/nb/input2ipynb/ipynb/.tmp-ispad-40694.input\n",
      "             ended where at least one )endif was still needed. An appropriate \n",
      "            number of )endif lines has been assumed.\n",
      "   3 error(s) parsing \n",
      "\n",
      "   Continuing to read the file...\n",
      "\n",
      "\n"
     ]
    },
    {
     "data": {
      "text/plain": []
     },
     "execution_count": 22,
     "metadata": {},
     "output_type": "execute_result"
    }
   ],
   "source": [
    "mat5 : IMATRIX(FRAC INT,-113,37) := _\n"
   ]
  },
  {
   "cell_type": "code",
   "execution_count": 23,
   "metadata": {
    "collapsed": false
   },
   "outputs": [
    {
     "data": {
      "text/plain": [
       "   +1  1  1    1    1 +\n",
       "   |                  |\n",
       "   |1  2  4    8   16 |\n",
       "   |                  |\n",
       "   |1  3  9   27   81 |\n",
       "   |                  |\n",
       "   |1  4  16  64   256|\n",
       "   |                  |\n",
       "   +1  5  25  125  625+\n",
       "                                                        Type: Matrix(Integer)\n"
      ]
     },
     "execution_count": 23,
     "metadata": {},
     "output_type": "execute_result"
    }
   ],
   "source": [
    "   matrix [[j^i for i in 0..4] for j in 1..5]"
   ]
  },
  {
   "cell_type": "code",
   "execution_count": 24,
   "metadata": {
    "collapsed": false
   },
   "outputs": [
    {
     "name": "stderr",
     "output_type": "stream",
     "text": [
      "   There are 3 exposed and 4 unexposed library operations named \n",
      "      rowEchelon having 1 argument(s) but none was determined to be \n",
      "      applicable. Use HyperDoc Browse, or issue\n",
      "                           )display op rowEchelon\n",
      "      to learn more about the available operations. Perhaps \n",
      "      package-calling the operation or using coercions on the arguments\n",
      "      will allow you to apply the operation.\n",
      " \n",
      "   Cannot find a definition or applicable library operation named \n",
      "      rowEchelon with argument type(s) \n",
      "                               Variable(mat5)\n",
      "      \n",
      "      Perhaps you should use \"@\" to indicate the required return type, \n",
      "      or \"$\" to specify which version of the function you need.\n",
      "\n"
     ]
    },
    {
     "data": {
      "text/plain": [
       "error\n"
      ]
     },
     "execution_count": 24,
     "metadata": {},
     "output_type": "execute_result"
    }
   ],
   "source": [
    "rowEchelon  mat5"
   ]
  },
  {
   "cell_type": "code",
   "execution_count": 25,
   "metadata": {
    "collapsed": false
   },
   "outputs": [
    {
     "name": "stderr",
     "output_type": "stream",
     "text": [
      "   There are 3 exposed and 1 unexposed library operations named \n",
      "      determinant having 1 argument(s) but none was determined to be \n",
      "      applicable. Use HyperDoc Browse, or issue\n",
      "                           )display op determinant\n",
      "      to learn more about the available operations. Perhaps \n",
      "      package-calling the operation or using coercions on the arguments\n",
      "      will allow you to apply the operation.\n",
      " \n",
      "   Cannot find a definition or applicable library operation named \n",
      "      determinant with argument type(s) \n",
      "                               Variable(mat5)\n",
      "      \n",
      "      Perhaps you should use \"@\" to indicate the required return type, \n",
      "      or \"$\" to specify which version of the function you need.\n",
      "\n"
     ]
    },
    {
     "data": {
      "text/plain": [
       "error\n"
      ]
     },
     "execution_count": 25,
     "metadata": {},
     "output_type": "execute_result"
    }
   ],
   "source": [
    "determinant mat5"
   ]
  },
  {
   "cell_type": "code",
   "execution_count": 26,
   "metadata": {
    "collapsed": false
   },
   "outputs": [
    {
     "name": "stderr",
     "output_type": "stream",
     "text": [
      "   There are 3 exposed and 0 unexposed library operations named \n",
      "      minordet having 1 argument(s) but none was determined to be \n",
      "      applicable. Use HyperDoc Browse, or issue\n",
      "                            )display op minordet\n",
      "      to learn more about the available operations. Perhaps \n",
      "      package-calling the operation or using coercions on the arguments\n",
      "      will allow you to apply the operation.\n",
      " \n",
      "   Cannot find a definition or applicable library operation named \n",
      "      minordet with argument type(s) \n",
      "                               Variable(mat5)\n",
      "      \n",
      "      Perhaps you should use \"@\" to indicate the required return type, \n",
      "      or \"$\" to specify which version of the function you need.\n",
      "\n"
     ]
    },
    {
     "data": {
      "text/plain": [
       "error\n"
      ]
     },
     "execution_count": 26,
     "metadata": {},
     "output_type": "execute_result"
    }
   ],
   "source": [
    "minordet    mat5"
   ]
  },
  {
   "cell_type": "code",
   "execution_count": 27,
   "metadata": {
    "collapsed": false
   },
   "outputs": [
    {
     "data": {
      "text/plain": [
       "   +1  2  3+\n",
       "   |       |\n",
       "   |4  5  6|\n",
       "   |       |\n",
       "   +7  8  9+\n",
       "                                                        Type: Matrix(Integer)\n"
      ]
     },
     "execution_count": 27,
     "metadata": {},
     "output_type": "execute_result"
    }
   ],
   "source": [
    "mat6 : MATRIX INT := matrix [[1,2,3],[4,5,6],[7,8,9]]"
   ]
  },
  {
   "cell_type": "code",
   "execution_count": 28,
   "metadata": {
    "collapsed": false
   },
   "outputs": [
    {
     "data": {
      "text/plain": [
       "   +1  2  3+\n",
       "   |       |\n",
       "   |0  3  6|\n",
       "   |       |\n",
       "   +0  0  0+\n",
       "                                                        Type: Matrix(Integer)\n"
      ]
     },
     "execution_count": 28,
     "metadata": {},
     "output_type": "execute_result"
    }
   ],
   "source": [
    "rowEchelon mat6"
   ]
  },
  {
   "cell_type": "code",
   "execution_count": 29,
   "metadata": {
    "collapsed": false
   },
   "outputs": [
    {
     "data": {
      "text/plain": [
       "   2\n",
       "                                                        Type: PositiveInteger\n"
      ]
     },
     "execution_count": 29,
     "metadata": {},
     "output_type": "execute_result"
    }
   ],
   "source": [
    "rank       mat6"
   ]
  },
  {
   "cell_type": "code",
   "execution_count": 30,
   "metadata": {
    "collapsed": false
   },
   "outputs": [
    {
     "data": {
      "text/plain": [
       "   1\n",
       "                                                        Type: PositiveInteger\n"
      ]
     },
     "execution_count": 30,
     "metadata": {},
     "output_type": "execute_result"
    }
   ],
   "source": [
    "nullity    mat6"
   ]
  },
  {
   "cell_type": "code",
   "execution_count": 31,
   "metadata": {
    "collapsed": false
   },
   "outputs": [
    {
     "data": {
      "text/plain": [
       "   [[1,- 2,1]]\n",
       "                                                  Type: List(Vector(Integer))\n"
      ]
     },
     "execution_count": 31,
     "metadata": {},
     "output_type": "execute_result"
    }
   ],
   "source": [
    "nullSpace  mat6"
   ]
  },
  {
   "cell_type": "code",
   "execution_count": 32,
   "metadata": {
    "collapsed": false
   },
   "outputs": [
    {
     "data": {
      "text/plain": [
       "   +1  2  3+\n",
       "   |       |\n",
       "   |4  5  6|\n",
       "   |       |\n",
       "   +7  8  9+\n",
       "                             Type: IndexedMatrix(Fraction(Integer),163,61657)\n"
      ]
     },
     "execution_count": 32,
     "metadata": {},
     "output_type": "execute_result"
    }
   ],
   "source": [
    "mat7 : IMATRIX(FRAC INT,163,61657) := matrix [[1,2,3],[4,5,6],[7,8,9]]"
   ]
  },
  {
   "cell_type": "code",
   "execution_count": 33,
   "metadata": {
    "collapsed": false
   },
   "outputs": [
    {
     "data": {
      "text/plain": [
       "   +1  0  - 1+\n",
       "   |         |\n",
       "   |0  1   2 |\n",
       "   |         |\n",
       "   +0  0   0 +\n",
       "                             Type: IndexedMatrix(Fraction(Integer),163,61657)\n"
      ]
     },
     "execution_count": 33,
     "metadata": {},
     "output_type": "execute_result"
    }
   ],
   "source": [
    "rowEchelon mat7"
   ]
  },
  {
   "cell_type": "code",
   "execution_count": 34,
   "metadata": {
    "collapsed": false
   },
   "outputs": [
    {
     "data": {
      "text/plain": [
       "   2\n",
       "                                                        Type: PositiveInteger\n"
      ]
     },
     "execution_count": 34,
     "metadata": {},
     "output_type": "execute_result"
    }
   ],
   "source": [
    "rank       mat7"
   ]
  },
  {
   "cell_type": "code",
   "execution_count": 35,
   "metadata": {
    "collapsed": false
   },
   "outputs": [
    {
     "data": {
      "text/plain": [
       "   1\n",
       "                                                        Type: PositiveInteger\n"
      ]
     },
     "execution_count": 35,
     "metadata": {},
     "output_type": "execute_result"
    }
   ],
   "source": [
    "nullity    mat7"
   ]
  },
  {
   "cell_type": "code",
   "execution_count": 36,
   "metadata": {
    "collapsed": false
   },
   "outputs": [
    {
     "data": {
      "text/plain": [
       "   [[1,- 2,1]]\n",
       "                             Type: List(IndexedVector(Fraction(Integer),163))\n"
      ]
     },
     "execution_count": 36,
     "metadata": {},
     "output_type": "execute_result"
    }
   ],
   "source": [
    "nullSpace  mat7"
   ]
  },
  {
   "cell_type": "code",
   "execution_count": 37,
   "metadata": {
    "collapsed": false
   },
   "outputs": [
    {
     "name": "stdout",
     "output_type": "stream",
     "text": [
      "  Line   1: mat8 : MATRIX INT := _\n",
      "  Line   2: )--premature end\n",
      "           AB\n",
      "  Error  A: syntax error at top level\n",
      "  Error  A: Improper syntax.\n",
      "  Error  B: File \n",
      "            /home/kfp/Development/fricas_input/nb/input2ipynb/ipynb/.tmp-ispad-40694.input\n",
      "             ended where at least one )endif was still needed. An appropriate \n",
      "            number of )endif lines has been assumed.\n",
      "   3 error(s) parsing \n",
      "\n",
      "   Continuing to read the file...\n",
      "\n",
      "\n"
     ]
    },
    {
     "data": {
      "text/plain": []
     },
     "execution_count": 37,
     "metadata": {},
     "output_type": "execute_result"
    }
   ],
   "source": [
    "mat8 : MATRIX INT := _\n"
   ]
  },
  {
   "cell_type": "code",
   "execution_count": 38,
   "metadata": {
    "collapsed": false
   },
   "outputs": [
    {
     "data": {
      "text/plain": [
       "   + 1   - 2  13   0     5   - 47+\n",
       "   |                             |\n",
       "   |- 4  15   0    16   - 2   1  |\n",
       "   |                             |\n",
       "   +- 7   0   8   - 11   9    0  +\n",
       "                                                        Type: Matrix(Integer)\n"
      ]
     },
     "execution_count": 38,
     "metadata": {},
     "output_type": "execute_result"
    }
   ],
   "source": [
    " matrix [[1,-2,13,0,5,-47],[-4,15,0,16,-2,1],[-7,0,8,-11,9,0]]"
   ]
  },
  {
   "cell_type": "code",
   "execution_count": 39,
   "metadata": {
    "collapsed": false
   },
   "outputs": [
    {
     "name": "stderr",
     "output_type": "stream",
     "text": [
      "   There are 3 exposed and 4 unexposed library operations named \n",
      "      rowEchelon having 1 argument(s) but none was determined to be \n",
      "      applicable. Use HyperDoc Browse, or issue\n",
      "                           )display op rowEchelon\n",
      "      to learn more about the available operations. Perhaps \n",
      "      package-calling the operation or using coercions on the arguments\n",
      "      will allow you to apply the operation.\n",
      " \n",
      "   Cannot find a definition or applicable library operation named \n",
      "      rowEchelon with argument type(s) \n",
      "                               Variable(mat8)\n",
      "      \n",
      "      Perhaps you should use \"@\" to indicate the required return type, \n",
      "      or \"$\" to specify which version of the function you need.\n",
      "\n"
     ]
    },
    {
     "data": {
      "text/plain": [
       "error\n"
      ]
     },
     "execution_count": 39,
     "metadata": {},
     "output_type": "execute_result"
    }
   ],
   "source": [
    "rowEchelon mat8"
   ]
  },
  {
   "cell_type": "code",
   "execution_count": 40,
   "metadata": {
    "collapsed": false
   },
   "outputs": [
    {
     "name": "stderr",
     "output_type": "stream",
     "text": [
      "   There are 4 exposed and 3 unexposed library operations named rank \n",
      "      having 1 argument(s) but none was determined to be applicable. \n",
      "      Use HyperDoc Browse, or issue\n",
      "                              )display op rank\n",
      "      to learn more about the available operations. Perhaps \n",
      "      package-calling the operation or using coercions on the arguments\n",
      "      will allow you to apply the operation.\n",
      " \n",
      "   Cannot find a definition or applicable library operation named rank \n",
      "      with argument type(s) \n",
      "                               Variable(mat8)\n",
      "      \n",
      "      Perhaps you should use \"@\" to indicate the required return type, \n",
      "      or \"$\" to specify which version of the function you need.\n",
      "\n"
     ]
    },
    {
     "data": {
      "text/plain": [
       "error\n"
      ]
     },
     "execution_count": 40,
     "metadata": {},
     "output_type": "execute_result"
    }
   ],
   "source": [
    "rank       mat8"
   ]
  },
  {
   "cell_type": "code",
   "execution_count": 41,
   "metadata": {
    "collapsed": false
   },
   "outputs": [
    {
     "name": "stderr",
     "output_type": "stream",
     "text": [
      "   There are 3 exposed and 1 unexposed library operations named nullity\n",
      "      having 1 argument(s) but none was determined to be applicable. \n",
      "      Use HyperDoc Browse, or issue\n",
      "                             )display op nullity\n",
      "      to learn more about the available operations. Perhaps \n",
      "      package-calling the operation or using coercions on the arguments\n",
      "      will allow you to apply the operation.\n",
      " \n",
      "   Cannot find a definition or applicable library operation named \n",
      "      nullity with argument type(s) \n",
      "                               Variable(mat8)\n",
      "      \n",
      "      Perhaps you should use \"@\" to indicate the required return type, \n",
      "      or \"$\" to specify which version of the function you need.\n",
      "\n"
     ]
    },
    {
     "data": {
      "text/plain": [
       "error\n"
      ]
     },
     "execution_count": 41,
     "metadata": {},
     "output_type": "execute_result"
    }
   ],
   "source": [
    "nullity    mat8"
   ]
  },
  {
   "cell_type": "code",
   "execution_count": 42,
   "metadata": {
    "collapsed": false
   },
   "outputs": [
    {
     "name": "stderr",
     "output_type": "stream",
     "text": [
      "   There are 3 exposed and 3 unexposed library operations named \n",
      "      nullSpace having 1 argument(s) but none was determined to be \n",
      "      applicable. Use HyperDoc Browse, or issue\n",
      "                            )display op nullSpace\n",
      "      to learn more about the available operations. Perhaps \n",
      "      package-calling the operation or using coercions on the arguments\n",
      "      will allow you to apply the operation.\n",
      " \n",
      "   Cannot find a definition or applicable library operation named \n",
      "      nullSpace with argument type(s) \n",
      "                               Variable(mat8)\n",
      "      \n",
      "      Perhaps you should use \"@\" to indicate the required return type, \n",
      "      or \"$\" to specify which version of the function you need.\n",
      "\n"
     ]
    },
    {
     "data": {
      "text/plain": [
       "error\n"
      ]
     },
     "execution_count": 42,
     "metadata": {},
     "output_type": "execute_result"
    }
   ],
   "source": [
    "nullSpace  mat8"
   ]
  },
  {
   "cell_type": "code",
   "execution_count": 43,
   "metadata": {
    "collapsed": false
   },
   "outputs": [
    {
     "name": "stdout",
     "output_type": "stream",
     "text": [
      "  Line   1: mat9 : IMATRIX(FRAC INT,163,61657) := _\n",
      "  Line   2: )--premature end\n",
      "           AB\n",
      "  Error  A: syntax error at top level\n",
      "  Error  A: Improper syntax.\n",
      "  Error  B: File \n",
      "            /home/kfp/Development/fricas_input/nb/input2ipynb/ipynb/.tmp-ispad-40694.input\n",
      "             ended where at least one )endif was still needed. An appropriate \n",
      "            number of )endif lines has been assumed.\n",
      "   3 error(s) parsing \n",
      "\n",
      "   Continuing to read the file...\n",
      "\n",
      "\n"
     ]
    },
    {
     "data": {
      "text/plain": []
     },
     "execution_count": 43,
     "metadata": {},
     "output_type": "execute_result"
    }
   ],
   "source": [
    "mat9 : IMATRIX(FRAC INT,163,61657) := _\n"
   ]
  },
  {
   "cell_type": "code",
   "execution_count": 44,
   "metadata": {
    "collapsed": false
   },
   "outputs": [
    {
     "data": {
      "text/plain": [
       "   + 1   - 2  13   0     5   - 47+\n",
       "   |                             |\n",
       "   |- 4  15   0    16   - 2   1  |\n",
       "   |                             |\n",
       "   +- 7   0   8   - 11   9    0  +\n",
       "                                                        Type: Matrix(Integer)\n"
      ]
     },
     "execution_count": 44,
     "metadata": {},
     "output_type": "execute_result"
    }
   ],
   "source": [
    " matrix [[1,-2,13,0,5,-47],[-4,15,0,16,-2,1],[-7,0,8,-11,9,0]]"
   ]
  },
  {
   "cell_type": "code",
   "execution_count": 45,
   "metadata": {
    "collapsed": false
   },
   "outputs": [
    {
     "name": "stderr",
     "output_type": "stream",
     "text": [
      "   There are 3 exposed and 4 unexposed library operations named \n",
      "      rowEchelon having 1 argument(s) but none was determined to be \n",
      "      applicable. Use HyperDoc Browse, or issue\n",
      "                           )display op rowEchelon\n",
      "      to learn more about the available operations. Perhaps \n",
      "      package-calling the operation or using coercions on the arguments\n",
      "      will allow you to apply the operation.\n",
      " \n",
      "   Cannot find a definition or applicable library operation named \n",
      "      rowEchelon with argument type(s) \n",
      "                               Variable(mat9)\n",
      "      \n",
      "      Perhaps you should use \"@\" to indicate the required return type, \n",
      "      or \"$\" to specify which version of the function you need.\n",
      "\n"
     ]
    },
    {
     "data": {
      "text/plain": [
       "error\n"
      ]
     },
     "execution_count": 45,
     "metadata": {},
     "output_type": "execute_result"
    }
   ],
   "source": [
    "rowEchelon mat9"
   ]
  },
  {
   "cell_type": "code",
   "execution_count": 46,
   "metadata": {
    "collapsed": false
   },
   "outputs": [
    {
     "name": "stderr",
     "output_type": "stream",
     "text": [
      "   There are 4 exposed and 3 unexposed library operations named rank \n",
      "      having 1 argument(s) but none was determined to be applicable. \n",
      "      Use HyperDoc Browse, or issue\n",
      "                              )display op rank\n",
      "      to learn more about the available operations. Perhaps \n",
      "      package-calling the operation or using coercions on the arguments\n",
      "      will allow you to apply the operation.\n",
      " \n",
      "   Cannot find a definition or applicable library operation named rank \n",
      "      with argument type(s) \n",
      "                               Variable(mat9)\n",
      "      \n",
      "      Perhaps you should use \"@\" to indicate the required return type, \n",
      "      or \"$\" to specify which version of the function you need.\n",
      "\n"
     ]
    },
    {
     "data": {
      "text/plain": [
       "error\n"
      ]
     },
     "execution_count": 46,
     "metadata": {},
     "output_type": "execute_result"
    }
   ],
   "source": [
    "rank       mat9"
   ]
  },
  {
   "cell_type": "code",
   "execution_count": 47,
   "metadata": {
    "collapsed": false
   },
   "outputs": [
    {
     "name": "stderr",
     "output_type": "stream",
     "text": [
      "   There are 3 exposed and 1 unexposed library operations named nullity\n",
      "      having 1 argument(s) but none was determined to be applicable. \n",
      "      Use HyperDoc Browse, or issue\n",
      "                             )display op nullity\n",
      "      to learn more about the available operations. Perhaps \n",
      "      package-calling the operation or using coercions on the arguments\n",
      "      will allow you to apply the operation.\n",
      " \n",
      "   Cannot find a definition or applicable library operation named \n",
      "      nullity with argument type(s) \n",
      "                               Variable(mat9)\n",
      "      \n",
      "      Perhaps you should use \"@\" to indicate the required return type, \n",
      "      or \"$\" to specify which version of the function you need.\n",
      "\n"
     ]
    },
    {
     "data": {
      "text/plain": [
       "error\n"
      ]
     },
     "execution_count": 47,
     "metadata": {},
     "output_type": "execute_result"
    }
   ],
   "source": [
    "nullity    mat9"
   ]
  },
  {
   "cell_type": "code",
   "execution_count": 48,
   "metadata": {
    "collapsed": false
   },
   "outputs": [
    {
     "name": "stderr",
     "output_type": "stream",
     "text": [
      "   There are 3 exposed and 3 unexposed library operations named \n",
      "      nullSpace having 1 argument(s) but none was determined to be \n",
      "      applicable. Use HyperDoc Browse, or issue\n",
      "                            )display op nullSpace\n",
      "      to learn more about the available operations. Perhaps \n",
      "      package-calling the operation or using coercions on the arguments\n",
      "      will allow you to apply the operation.\n",
      " \n",
      "   Cannot find a definition or applicable library operation named \n",
      "      nullSpace with argument type(s) \n",
      "                               Variable(mat9)\n",
      "      \n",
      "      Perhaps you should use \"@\" to indicate the required return type, \n",
      "      or \"$\" to specify which version of the function you need.\n",
      "\n"
     ]
    },
    {
     "data": {
      "text/plain": [
       "error\n"
      ]
     },
     "execution_count": 48,
     "metadata": {},
     "output_type": "execute_result"
    }
   ],
   "source": [
    "nullSpace  mat9"
   ]
  },
  {
   "cell_type": "code",
   "execution_count": 49,
   "metadata": {
    "collapsed": false
   },
   "outputs": [
    {
     "data": {
      "text/plain": []
     },
     "execution_count": 49,
     "metadata": {},
     "output_type": "execute_result"
    }
   ],
   "source": [
    "--\n",
    "-- EOF\n",
    "--"
   ]
  }
 ],
 "metadata": {
  "kernelspec": {
   "display_name": "FriCAS",
   "language": "spad",
   "name": "ifricas"
  },
  "language_info": {
   "codemirror_mode": "spad",
   "mimetype": "text/x-spad",
   "name": "SPAD",
   "pygments_lexer": "spad",
   "version": "1.2.6"
  },
  "name": "matrix.ipynb"
 },
 "nbformat": 4,
 "nbformat_minor": 0
}