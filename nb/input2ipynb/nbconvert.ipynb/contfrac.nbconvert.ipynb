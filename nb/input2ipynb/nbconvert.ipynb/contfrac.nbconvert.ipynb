{
 "cells": [
  {
   "cell_type": "markdown",
   "metadata": {},
   "source": [
    "Copyright The Numerical Algorithms Group Limited 1991.\n"
   ]
  },
  {
   "cell_type": "code",
   "execution_count": 0,
   "metadata": {
    "collapsed": false
   },
   "outputs": [
    {
     "name": "stdout",
     "output_type": "stream",
     "text": [
      "   All user variables and function definitions have been cleared.\n"
     ]
    },
    {
     "data": {
      "text/plain": []
     },
     "execution_count": 0,
     "metadata": {},
     "output_type": "execute_result"
    }
   ],
   "source": [
    ")clear all"
   ]
  },
  {
   "cell_type": "code",
   "execution_count": 1,
   "metadata": {
    "collapsed": false
   },
   "outputs": [
    {
     "name": "stdout",
     "output_type": "stream",
     "text": [
      "Warning: HyperTeX macro table not found\n"
     ]
    },
    {
     "data": {
      "text/plain": [
       "   3\n",
       "   -\n",
       "   4\n",
       "                                                      Type: Fraction(Integer)\n"
      ]
     },
     "execution_count": 1,
     "metadata": {},
     "output_type": "execute_result"
    }
   ],
   "source": [
    "r1 := 3/4"
   ]
  },
  {
   "cell_type": "code",
   "execution_count": 2,
   "metadata": {
    "collapsed": false
   },
   "outputs": [
    {
     "data": {
      "text/plain": [
       "   314159\n",
       "   ------\n",
       "   100000\n",
       "                                                      Type: Fraction(Integer)\n"
      ]
     },
     "execution_count": 2,
     "metadata": {},
     "output_type": "execute_result"
    }
   ],
   "source": [
    "r2 := 314159/100000"
   ]
  },
  {
   "cell_type": "code",
   "execution_count": 3,
   "metadata": {
    "collapsed": false
   },
   "outputs": [
    {
     "data": {
      "text/plain": [
       "     1 |     1 |\n",
       "   +---+ + +---+\n",
       "   | 1     | 3\n",
       "                                             Type: ContinuedFraction(Integer)\n"
      ]
     },
     "execution_count": 3,
     "metadata": {},
     "output_type": "execute_result"
    }
   ],
   "source": [
    "c1 := r1 :: ContinuedFraction Integer"
   ]
  },
  {
   "cell_type": "code",
   "execution_count": 4,
   "metadata": {
    "collapsed": false
   },
   "outputs": [
    {
     "data": {
      "text/plain": [
       "         1 |     1  |     1 |     1  |     1 |     1 |     1 |\n",
       "   3 + +---+ + +----+ + +---+ + +----+ + +---+ + +---+ + +---+\n",
       "       | 7     | 15     | 1     | 25     | 1     | 7     | 4\n",
       "                                             Type: ContinuedFraction(Integer)\n"
      ]
     },
     "execution_count": 4,
     "metadata": {},
     "output_type": "execute_result"
    }
   ],
   "source": [
    "c2 := r2 :: ContinuedFraction Integer"
   ]
  },
  {
   "cell_type": "markdown",
   "metadata": {},
   "source": [
    " We can view these in the list notation\n"
   ]
  },
  {
   "cell_type": "code",
   "execution_count": 5,
   "metadata": {
    "collapsed": false
   },
   "outputs": [
    {
     "data": {
      "text/plain": [
       "   [0,1,3]\n",
       "                                                        Type: Stream(Integer)\n"
      ]
     },
     "execution_count": 5,
     "metadata": {},
     "output_type": "execute_result"
    }
   ],
   "source": [
    "partialQuotients c1"
   ]
  },
  {
   "cell_type": "code",
   "execution_count": 6,
   "metadata": {
    "collapsed": false
   },
   "outputs": [
    {
     "data": {
      "text/plain": [
       "   [3,7,15,1,25,1,7,4]\n",
       "                                                        Type: Stream(Integer)\n"
      ]
     },
     "execution_count": 6,
     "metadata": {},
     "output_type": "execute_result"
    }
   ],
   "source": [
    "partialQuotients c2"
   ]
  },
  {
   "cell_type": "markdown",
   "metadata": {},
   "source": [
    " These are algebraic objects, so we can manipulate them accordingly\n"
   ]
  },
  {
   "cell_type": "code",
   "execution_count": 7,
   "metadata": {
    "collapsed": false
   },
   "outputs": [
    {
     "data": {
      "text/plain": [
       "         1 |     1 |     1 |     1 |     1 |     1 |     1 |     1  |     1 |\n",
       "   3 + +---+ + +---+ + +---+ + +---+ + +---+ + +---+ + +---+ + +----+ + +---+\n",
       "       | 1     | 8     | 4     | 2     | 5     | 1     | 2     | 32     | 2\n",
       "                                             Type: ContinuedFraction(Integer)\n"
      ]
     },
     "execution_count": 7,
     "metadata": {},
     "output_type": "execute_result"
    }
   ],
   "source": [
    "c1 + c2"
   ]
  },
  {
   "cell_type": "code",
   "execution_count": 8,
   "metadata": {
    "collapsed": false
   },
   "outputs": [
    {
     "name": "stdout",
     "output_type": "stream",
     "text": [
      "  "
     ]
    },
    {
     "data": {
      "text/plain": [
       "           1 |     1 |     1 |     1 |     1 |     1 |     1  |     1 |     1 |\n",
       "     2 + +---+ + +---+ + +---+ + +---+ + +---+ + +---+ + +----+ + +---+ + +---+\n",
       "         | 2     | 1     | 4     | 5     | 6     | 2     | 13     | 1     | 1\n",
       "   + \n",
       "       1 |\n",
       "     +---+ + ...\n",
       "     | 1\n",
       "                                             Type: ContinuedFraction(Integer)\n"
      ]
     },
     "execution_count": 8,
     "metadata": {},
     "output_type": "execute_result"
    }
   ],
   "source": [
    "c1 * c2"
   ]
  },
  {
   "cell_type": "code",
   "execution_count": 9,
   "metadata": {
    "collapsed": false
   },
   "outputs": [
    {
     "data": {
      "text/plain": [
       "     1 |     1 |     1  |     1 |     1  |     1 |     1 |     1 |\n",
       "   +---+ + +---+ + +----+ + +---+ + +----+ + +---+ + +---+ + +---+\n",
       "   | 3     | 7     | 15     | 1     | 25     | 1     | 7     | 4\n",
       "                                             Type: ContinuedFraction(Integer)\n"
      ]
     },
     "execution_count": 9,
     "metadata": {},
     "output_type": "execute_result"
    }
   ],
   "source": [
    "1 / c2"
   ]
  },
  {
   "cell_type": "code",
   "execution_count": 10,
   "metadata": {
    "collapsed": false
   },
   "outputs": [
    {
     "data": {
      "text/plain": [
       "           1 |     1 |     1 |     1 |     1 |     1 |     1 |     1 |      1  |\n",
       "   - 3 + +---+ + +---+ + +---+ + +---+ + +---+ + +---+ + +---+ + +---+ + +-----+\n",
       "         | 1     | 1     | 1     | 1     | 4     | 6     | 2     | 2     | 131\n",
       "                                             Type: ContinuedFraction(Integer)\n"
      ]
     },
     "execution_count": 10,
     "metadata": {},
     "output_type": "execute_result"
    }
   ],
   "source": [
    "c1 - c2"
   ]
  },
  {
   "cell_type": "code",
   "execution_count": 11,
   "metadata": {
    "collapsed": false
   },
   "outputs": [
    {
     "data": {
      "text/plain": [
       "         1 |     1 |     1 |     1 |     1 |     1 |     1 |      1  |\n",
       "   2 + +---+ + +---+ + +---+ + +---+ + +---+ + +---+ + +---+ + +-----+\n",
       "       | 2     | 1     | 1     | 4     | 6     | 2     | 2     | 131\n",
       "                                             Type: ContinuedFraction(Integer)\n"
      ]
     },
     "execution_count": 11,
     "metadata": {},
     "output_type": "execute_result"
    }
   ],
   "source": [
    "c2 - c1"
   ]
  },
  {
   "cell_type": "markdown",
   "metadata": {},
   "source": [
    " and can convert them back to rational numbers.\n"
   ]
  },
  {
   "cell_type": "code",
   "execution_count": 12,
   "metadata": {
    "collapsed": false
   },
   "outputs": [
    {
     "data": {
      "text/plain": [
       "      5 7 12 55 342 739 1820 239159\n",
       "   [2,-,-,--,--,---,---,----,------]\n",
       "      2 3  5 23 143 309  761 100000\n",
       "                                              Type: Stream(Fraction(Integer))\n"
      ]
     },
     "execution_count": 12,
     "metadata": {},
     "output_type": "execute_result"
    }
   ],
   "source": [
    "convergents %"
   ]
  },
  {
   "cell_type": "code",
   "execution_count": 13,
   "metadata": {
    "collapsed": false
   },
   "outputs": [
    {
     "name": "stdout",
     "output_type": "stream",
     "text": [
      "   All user variables and function definitions have been cleared.\n"
     ]
    },
    {
     "data": {
      "text/plain": []
     },
     "execution_count": 13,
     "metadata": {},
     "output_type": "execute_result"
    }
   ],
   "source": [
    ")clear all"
   ]
  },
  {
   "cell_type": "markdown",
   "metadata": {},
   "source": [
    " Continued fractions over other Euclidean domains\n"
   ]
  },
  {
   "cell_type": "code",
   "execution_count": 14,
   "metadata": {
    "collapsed": false
   },
   "outputs": [
    {
     "data": {
      "text/plain": [
       "     719   475\n",
       "   - --- + --- %i\n",
       "      8     8\n",
       "                                             Type: Complex(Fraction(Integer))\n"
      ]
     },
     "execution_count": 14,
     "metadata": {},
     "output_type": "execute_result"
    }
   ],
   "source": [
    "a0 := ((-122 + 597* %i)/(4 - 4*%i))"
   ]
  },
  {
   "cell_type": "code",
   "execution_count": 15,
   "metadata": {
    "collapsed": false
   },
   "outputs": [
    {
     "data": {
      "text/plain": [
       "     1781   2383\n",
       "   - ---- - ---- %i\n",
       "      25     25\n",
       "                                             Type: Complex(Fraction(Integer))\n"
      ]
     },
     "execution_count": 15,
     "metadata": {},
     "output_type": "execute_result"
    }
   ],
   "source": [
    "b0 := ((-595 - %i)/(3 - 4*%i))"
   ]
  },
  {
   "cell_type": "code",
   "execution_count": 16,
   "metadata": {
    "collapsed": false
   },
   "outputs": [
    {
     "data": {
      "text/plain": [
       "                      1    |         1     |\n",
       "   - 90 + 59%i + +---------+ + +-----------+\n",
       "                 | 1 - 2%i     | - 1 + 2%i\n",
       "                                    Type: ContinuedFraction(Complex(Integer))\n"
      ]
     },
     "execution_count": 16,
     "metadata": {},
     "output_type": "execute_result"
    }
   ],
   "source": [
    "a  := continuedFraction(a0)"
   ]
  },
  {
   "cell_type": "code",
   "execution_count": 17,
   "metadata": {
    "collapsed": false
   },
   "outputs": [
    {
     "data": {
      "text/plain": [
       "                       1     |      1  |\n",
       "   - 71 - 95%i + +-----------+ + +-----+\n",
       "                 | - 1 + 2%i     | - 2\n",
       "                                    Type: ContinuedFraction(Complex(Integer))\n"
      ]
     },
     "execution_count": 17,
     "metadata": {},
     "output_type": "execute_result"
    }
   ],
   "source": [
    "b  := continuedFraction(b0)"
   ]
  },
  {
   "cell_type": "code",
   "execution_count": 18,
   "metadata": {
    "collapsed": false
   },
   "outputs": [
    {
     "data": {
      "text/plain": [
       "                        1     |      1  |        1     |\n",
       "   - 161 - 36%i + +-----------+ + +-----+ + +----------+\n",
       "                  | - 7 - 3%i     | 2%i     | - 1 - %i\n",
       "                                    Type: ContinuedFraction(Complex(Integer))\n"
      ]
     },
     "execution_count": 18,
     "metadata": {},
     "output_type": "execute_result"
    }
   ],
   "source": [
    "a + b"
   ]
  },
  {
   "cell_type": "code",
   "execution_count": 19,
   "metadata": {
    "collapsed": false
   },
   "outputs": [
    {
     "data": {
      "text/plain": [
       "                 - 1020 - 735%i - 2004 - 1631%i 362 - 4655%i\n",
       "   [- 161 - 36%i,--------------,---------------,------------]\n",
       "                     7 + 3%i        14 + 7%i      4 + 28%i\n",
       "                                     Type: Stream(Fraction(Complex(Integer)))\n"
      ]
     },
     "execution_count": 19,
     "metadata": {},
     "output_type": "execute_result"
    }
   ],
   "source": [
    "convergents %"
   ]
  },
  {
   "cell_type": "code",
   "execution_count": 20,
   "metadata": {
    "collapsed": false
   },
   "outputs": [
    {
     "data": {
      "text/plain": [
       "   0\n",
       "                                             Type: Complex(Fraction(Integer))\n"
      ]
     },
     "execution_count": 20,
     "metadata": {},
     "output_type": "execute_result"
    }
   ],
   "source": [
    "last % - (a0 + b0)"
   ]
  },
  {
   "cell_type": "code",
   "execution_count": 21,
   "metadata": {
    "collapsed": false
   },
   "outputs": [
    {
     "name": "stdout",
     "output_type": "stream",
     "text": [
      "  "
     ]
    },
    {
     "data": {
      "text/plain": [
       "                 1    |     1 |        1     |        1     |      1  |\n",
       "     - %i + +---------+ + +---+ + +----------+ + +----------+ + +-----+\n",
       "            | 4 - 8%i     | 3     | - 4 - %i     | - 2 - %i     | 3%i\n",
       "   + \n",
       "          1    |\n",
       "     +---------+\n",
       "     | 2 + 4%i\n",
       "                                    Type: ContinuedFraction(Complex(Integer))\n"
      ]
     },
     "execution_count": 21,
     "metadata": {},
     "output_type": "execute_result"
    }
   ],
   "source": [
    "a / b"
   ]
  },
  {
   "cell_type": "code",
   "execution_count": 22,
   "metadata": {
    "collapsed": false
   },
   "outputs": [
    {
     "data": {
      "text/plain": [
       "         4 - 7%i 13 - 21%i 69 - 64%i  215 - 80%i 709 - 171%i 2279 - 2022%i\n",
       "   [- %i,-------,---------,---------,-----------,-----------,-------------]\n",
       "         8 + 4%i 24 + 13%i 75 + 72%i 102 + 232%i 234 + 771%i 2376 + 2384%i\n",
       "                                     Type: Stream(Fraction(Complex(Integer)))\n"
      ]
     },
     "execution_count": 22,
     "metadata": {},
     "output_type": "execute_result"
    }
   ],
   "source": [
    "convergents %"
   ]
  },
  {
   "cell_type": "code",
   "execution_count": 23,
   "metadata": {
    "collapsed": false
   },
   "outputs": [
    {
     "data": {
      "text/plain": [
       "   0\n",
       "                                             Type: Complex(Fraction(Integer))\n"
      ]
     },
     "execution_count": 23,
     "metadata": {},
     "output_type": "execute_result"
    }
   ],
   "source": [
    "last % - (a0/b0)"
   ]
  },
  {
   "cell_type": "code",
   "execution_count": 24,
   "metadata": {
    "collapsed": false
   },
   "outputs": [
    {
     "data": {
      "text/plain": [
       "   false\n",
       "                                                                Type: Boolean\n"
      ]
     },
     "execution_count": 24,
     "metadata": {},
     "output_type": "execute_result"
    }
   ],
   "source": [
    "(a = b)::Boolean"
   ]
  },
  {
   "cell_type": "code",
   "execution_count": 25,
   "metadata": {
    "collapsed": false
   },
   "outputs": [
    {
     "name": "stdout",
     "output_type": "stream",
     "text": [
      "  "
     ]
    },
    {
     "data": {
      "text/plain": [
       "                 1 + %i |     1 + %i |     1 + %i |     1 + %i |     1 + %i |\n",
       "     3 + 4%i + +--------+ + +--------+ + +--------+ + +--------+ + +--------+\n",
       "               | 5 - %i     | 5 - %i     | 5 - %i     | 5 - %i     | 5 - %i\n",
       "   + \n",
       "       1 + %i |     1 + %i |     1 + %i |     1 + %i |     1 + %i |\n",
       "     +--------+ + +--------+ + +--------+ + +--------+ + +--------+ + ...\n",
       "     | 5 - %i     | 5 - %i     | 5 - %i     | 5 - %i     | 5 - %i\n",
       "                                    Type: ContinuedFraction(Complex(Integer))\n"
      ]
     },
     "execution_count": 25,
     "metadata": {},
     "output_type": "execute_result"
    }
   ],
   "source": [
    "c := continuedFraction(3 + 4*%i, repeating [1 + %i], repeating [5 - %i])"
   ]
  },
  {
   "cell_type": "code",
   "execution_count": 26,
   "metadata": {
    "collapsed": false
   },
   "outputs": [
    {
     "name": "stdout",
     "output_type": "stream",
     "text": [
      "    "
     ]
    },
    {
     "data": {
      "text/plain": [
       "                        1     |          1      |        1     |         1     |\n",
       "     - 1 + 20%i + +-----------+ + +-------------+ + +----------+ + +-----------+\n",
       "                  | - 1 - 2%i     | - 11 - 16%i     | - 1 + %i     | - 9 - 2%i\n",
       "   + \n",
       "          1    |      1  |        1    |      1  |         1     |        1    |\n",
       "     +---------+ + +-----+ + +---------+ + +-----+ + +-----------+ + +---------+\n",
       "     | 1 + 2%i     | 2%i     | 8 - 2%i     | - 2     | - 1 + 8%i     | 3 - 3%i\n",
       "   + \n",
       "     ...\n",
       "                                    Type: ContinuedFraction(Complex(Integer))\n"
      ]
     },
     "execution_count": 26,
     "metadata": {},
     "output_type": "execute_result"
    }
   ],
   "source": [
    "a/c"
   ]
  },
  {
   "cell_type": "markdown",
   "metadata": {},
   "source": [
    " (a = c)::Boolean -- should give error\n"
   ]
  },
  {
   "cell_type": "code",
   "execution_count": 27,
   "metadata": {
    "collapsed": false
   },
   "outputs": [
    {
     "data": {
      "text/plain": [
       "               1 + %i |     1 + %i |     1 + %i |     1 + %i |     1 + %i |\n",
       "   3 + 4%i + +--------+ + +--------+ + +--------+ + +--------+ + +--------+\n",
       "             | 1 - %i     | 2 - %i     | 3 - %i     | 4 - %i     | 5 - %i\n",
       "                                    Type: ContinuedFraction(Complex(Integer))\n"
      ]
     },
     "execution_count": 27,
     "metadata": {},
     "output_type": "execute_result"
    }
   ],
   "source": [
    "d := complete continuedFraction(3+4*%i, repeating [1+%i],[i-%i for i in 1..5])"
   ]
  },
  {
   "cell_type": "code",
   "execution_count": 28,
   "metadata": {
    "collapsed": false
   },
   "outputs": [
    {
     "data": {
      "text/plain": [
       "   false\n",
       "                                                                Type: Boolean\n"
      ]
     },
     "execution_count": 28,
     "metadata": {},
     "output_type": "execute_result"
    }
   ],
   "source": [
    "(a = d)::Boolean"
   ]
  },
  {
   "cell_type": "code",
   "execution_count": 29,
   "metadata": {
    "collapsed": false
   },
   "outputs": [
    {
     "data": {
      "text/plain": [
       "                                                                   Type: Void\n"
      ]
     },
     "execution_count": 29,
     "metadata": {},
     "output_type": "execute_result"
    }
   ],
   "source": [
    "q : Fraction UnivariatePolynomial('x, Fraction Integer)"
   ]
  },
  {
   "cell_type": "code",
   "execution_count": 30,
   "metadata": {
    "collapsed": false
   },
   "outputs": [
    {
     "data": {
      "text/plain": [
       "   2  2   1     1\n",
       "   - x  - - x + -\n",
       "   3      3     3\n",
       "   --------------\n",
       "     3   1     8\n",
       "    x  - - x + -\n",
       "         3     3\n",
       "                    Type: Fraction(UnivariatePolynomial(x,Fraction(Integer)))\n"
      ]
     },
     "execution_count": 30,
     "metadata": {},
     "output_type": "execute_result"
    }
   ],
   "source": [
    "q := (2*x^2 - x + 1) / (3*x^3 - x + 8)"
   ]
  },
  {
   "cell_type": "code",
   "execution_count": 31,
   "metadata": {
    "collapsed": false
   },
   "outputs": [
    {
     "data": {
      "text/plain": [
       "        1    |          1      |            1        |\n",
       "   +---------+ + +-------------+ + +-----------------+\n",
       "   | 3     3     |   8     204     |    343     1421\n",
       "   | - x + -     | - - x - ---     | - ---- x + ----\n",
       "   | 2     4     |   7      49     |   6112     6112\n",
       "           Type: ContinuedFraction(UnivariatePolynomial(x,Fraction(Integer)))\n"
      ]
     },
     "execution_count": 31,
     "metadata": {},
     "output_type": "execute_result"
    }
   ],
   "source": [
    "c := continuedFraction q"
   ]
  },
  {
   "cell_type": "code",
   "execution_count": 32,
   "metadata": {
    "collapsed": false
   },
   "outputs": [
    {
     "name": "stdout",
     "output_type": "stream",
     "text": [
      "    "
     ]
    },
    {
     "data": {
      "text/plain": [
       "              1         |          1       |               1            |\n",
       "     +------------------+ + +--------------+ + +------------------------+\n",
       "     |   3  2   3     9     |    1      47     |   69696     6381055032\n",
       "     | - - x  - - x + -     | - -- x + ---     | - ----- x - ----------\n",
       "     |   2      2     4     |   11     264     |   32963     1086559369\n",
       "   + \n",
       "                            1                      |\n",
       "     +---------------------------------------------+\n",
       "     |    35816256480347      79911907817759707445\n",
       "     | - --------------- x + ---------------------\n",
       "     |   218199728406528     307361810626373910528\n",
       "   + \n",
       "                                   1                              |\n",
       "     +------------------------------------------------------------+\n",
       "     |   39359803441398779644674048     9259889268740766802477056\n",
       "     | - -------------------------- x + -------------------------\n",
       "     |    1979914602262093317951025     1979914602262093317951025\n",
       "           Type: ContinuedFraction(UnivariatePolynomial(x,Fraction(Integer)))\n"
      ]
     },
     "execution_count": 32,
     "metadata": {},
     "output_type": "execute_result"
    }
   ],
   "source": [
    "d := continuedFraction differentiate q"
   ]
  },
  {
   "cell_type": "code",
   "execution_count": 33,
   "metadata": {
    "collapsed": false
   },
   "outputs": [
    {
     "name": "stdout",
     "output_type": "stream",
     "text": [
      "    "
     ]
    },
    {
     "data": {
      "text/plain": [
       "           1         1     |              1          |\n",
       "     - x - - + +-----------+ + +---------------------+\n",
       "           2   | 6     219     |  686       83926465\n",
       "               | - x + ---     | ----- x - ---------\n",
       "               | 7      49     | 20131     405257161\n",
       "   + \n",
       "                        1                  |\n",
       "     +-------------------------------------+\n",
       "     |   8158231908091     299222030081511\n",
       "     | - ------------- x - ---------------\n",
       "     |    268162004432     350018456284868\n",
       "   + \n",
       "                              1                        |\n",
       "     +-------------------------------------------------+\n",
       "     |    7309785441053183312      1206863637270224864\n",
       "     | - -------------------- x + --------------------\n",
       "     |   30383172810229285385     30383172810229285385\n",
       "           Type: ContinuedFraction(UnivariatePolynomial(x,Fraction(Integer)))\n"
      ]
     },
     "execution_count": 33,
     "metadata": {},
     "output_type": "execute_result"
    }
   ],
   "source": [
    "c/d"
   ]
  },
  {
   "cell_type": "code",
   "execution_count": 34,
   "metadata": {
    "collapsed": false
   },
   "outputs": [
    {
     "name": "stdout",
     "output_type": "stream",
     "text": [
      "\n",
      "\n",
      "\n"
     ]
    },
    {
     "data": {
      "text/plain": [
       "                2   40     121     3   14615  2   114691     168376\n",
       "             - x  - -- x - ---  - x  + ----- x  - ------ x - ------\n",
       "          1          7      84         40262      120786      20131\n",
       "   [- x - -, -----------------, -----------------------------------,\n",
       "          2            73               2   17373     307727\n",
       "                   x + --              x  - ----- x + ------\n",
       "                       14                   20131     120786\n",
       "       4    3497  3    791   2   15030     18082\n",
       "    - x  + ----- x  + ----- x  - ----- x + -----\n",
       "           10442      31326       5221     15663\n",
       "    --------------------------------------------,\n",
       "            3   4359  2   48833     25886\n",
       "           x  - ---- x  + ----- x - -----\n",
       "                5221      31326      5221\n",
       "       5   1  4   1  3   17  2   3     4\n",
       "    - x  + - x  - - x  - -- x  + - x - -\n",
       "           2      6       6      2     3\n",
       "    ------------------------------------]\n",
       "          4    3   11  2   16     7\n",
       "         x  - x  + -- x  - -- x + -\n",
       "                    6       3     6\n",
       "            Type: Stream(Fraction(UnivariatePolynomial(x,Fraction(Integer))))\n"
      ]
     },
     "execution_count": 34,
     "metadata": {},
     "output_type": "execute_result"
    }
   ],
   "source": [
    "convergents %"
   ]
  },
  {
   "cell_type": "code",
   "execution_count": 35,
   "metadata": {
    "collapsed": false
   },
   "outputs": [
    {
     "data": {
      "text/plain": [
       "      5   1  4   1  3   17  2   3     4\n",
       "   - x  + - x  - - x  - -- x  + - x - -\n",
       "          2      6       6      2     3\n",
       "   ------------------------------------\n",
       "         4    3   11  2   16     7\n",
       "        x  - x  + -- x  - -- x + -\n",
       "                   6       3     6\n",
       "                    Type: Fraction(UnivariatePolynomial(x,Fraction(Integer)))\n"
      ]
     },
     "execution_count": 35,
     "metadata": {},
     "output_type": "execute_result"
    }
   ],
   "source": [
    "q/differentiate q"
   ]
  },
  {
   "cell_type": "code",
   "execution_count": 36,
   "metadata": {
    "collapsed": false
   },
   "outputs": [
    {
     "name": "stdout",
     "output_type": "stream",
     "text": [
      "   All user variables and function definitions have been cleared.\n"
     ]
    },
    {
     "data": {
      "text/plain": []
     },
     "execution_count": 36,
     "metadata": {},
     "output_type": "execute_result"
    }
   ],
   "source": [
    ")clear all"
   ]
  },
  {
   "cell_type": "markdown",
   "metadata": {},
   "source": [
    " This file illustrates continued fractions.\n"
   ]
  },
  {
   "cell_type": "code",
   "execution_count": 37,
   "metadata": {
    "collapsed": false
   },
   "outputs": [
    {
     "data": {
      "text/plain": []
     },
     "execution_count": 37,
     "metadata": {},
     "output_type": "execute_result"
    }
   ],
   "source": [
    ")set streams calculate 7"
   ]
  },
  {
   "cell_type": "markdown",
   "metadata": {},
   "source": [
    " Use the notation Phi(ai/bi, i = 1..n) for continued fractions\n",
    " a1/(b1 + (a2/b2 + ... (an/bn) ...))\n"
   ]
  },
  {
   "cell_type": "markdown",
   "metadata": {},
   "source": [
    " 1/(e-1) may be written  Phi(i/i, i = 1..)\n"
   ]
  },
  {
   "cell_type": "code",
   "execution_count": 38,
   "metadata": {
    "collapsed": false
   },
   "outputs": [
    {
     "data": {
      "text/plain": [
       "     1 |     2 |     3 |     4 |     5 |     6 |     7 |\n",
       "   +---+ + +---+ + +---+ + +---+ + +---+ + +---+ + +---+ + ...\n",
       "   | 1     | 2     | 3     | 4     | 5     | 6     | 7\n",
       "                                             Type: ContinuedFraction(Integer)\n"
      ]
     },
     "execution_count": 38,
     "metadata": {},
     "output_type": "execute_result"
    }
   ],
   "source": [
    "s := continuedFraction(0, expand [1..], expand [1..])"
   ]
  },
  {
   "cell_type": "markdown",
   "metadata": {},
   "source": [
    " Euler discovered the relation (e-1)/(e+1) = Phi(1/(4i-2), i = 1..)\n"
   ]
  },
  {
   "cell_type": "code",
   "execution_count": 39,
   "metadata": {
    "collapsed": false
   },
   "outputs": [
    {
     "data": {
      "text/plain": [
       "     1 |     1 |     1  |     1  |     1  |     1  |     1  |\n",
       "   +---+ + +---+ + +----+ + +----+ + +----+ + +----+ + +----+ + ...\n",
       "   | 2     | 6     | 10     | 14     | 18     | 22     | 26\n",
       "                                             Type: ContinuedFraction(Integer)\n"
      ]
     },
     "execution_count": 39,
     "metadata": {},
     "output_type": "execute_result"
    }
   ],
   "source": [
    "t := reducedContinuedFraction(0, [4*i-2 for i in 1..])"
   ]
  },
  {
   "cell_type": "markdown",
   "metadata": {},
   "source": [
    " Arithmetic on infinite continued fractions is supported.\n",
    " The results are given in reduced form.  We illustrate by using the\n",
    " values s = 1/(e-1) and t = (e-1)/(e+1) to recover the expansion for e.\n"
   ]
  },
  {
   "cell_type": "code",
   "execution_count": 40,
   "metadata": {
    "collapsed": false
   },
   "outputs": [
    {
     "data": {
      "text/plain": [
       "         1 |     1 |     1 |     1 |     1 |     1 |     1 |\n",
       "   2 + +---+ + +---+ + +---+ + +---+ + +---+ + +---+ + +---+ + ...\n",
       "       | 1     | 2     | 1     | 1     | 4     | 1     | 1\n",
       "                                             Type: ContinuedFraction(Integer)\n"
      ]
     },
     "execution_count": 40,
     "metadata": {},
     "output_type": "execute_result"
    }
   ],
   "source": [
    "e := 1/(s*t) - 1"
   ]
  },
  {
   "cell_type": "code",
   "execution_count": 41,
   "metadata": {
    "collapsed": false
   },
   "outputs": [
    {
     "data": {
      "text/plain": [
       "        8 11 19 87 106\n",
       "   [2,3,-,--,--,--,---,...]\n",
       "        3  4  7 32  39\n",
       "                                              Type: Stream(Fraction(Integer))\n"
      ]
     },
     "execution_count": 41,
     "metadata": {},
     "output_type": "execute_result"
    }
   ],
   "source": [
    "c := convergents e"
   ]
  },
  {
   "cell_type": "code",
   "execution_count": 42,
   "metadata": {
    "collapsed": false
   },
   "outputs": [
    {
     "data": {
      "text/plain": [
       "   2.0\n",
       "   3.0\n",
       "   2.6666666666_666666667\n",
       "   2.75\n",
       "   2.7142857142_857142857\n",
       "   2.71875\n",
       "   2.7179487179_487179487\n",
       "   2.7183098591_549295775\n",
       "   2.7182795698_924731183\n",
       "   2.7182835820_895522388\n",
       "   2.7182817182_817182817\n",
       "   2.7182818352_059925094\n",
       "   2.7182818229_439497119\n",
       "   2.7182818287_356957267\n",
       "   2.7182818284_45401318\n",
       "                                                                   Type: Void\n"
      ]
     },
     "execution_count": 42,
     "metadata": {},
     "output_type": "execute_result"
    }
   ],
   "source": [
    "for i in 1..15 repeat\n",
    "  output numeric c.i"
   ]
  },
  {
   "cell_type": "code",
   "execution_count": 43,
   "metadata": {
    "collapsed": false
   },
   "outputs": [
    {
     "data": {
      "text/plain": [
       "   false\n",
       "                                                                Type: Boolean\n"
      ]
     },
     "execution_count": 43,
     "metadata": {},
     "output_type": "execute_result"
    }
   ],
   "source": [
    "(s = t)::Boolean"
   ]
  },
  {
   "cell_type": "code",
   "execution_count": 44,
   "metadata": {
    "collapsed": false
   },
   "outputs": [
    {
     "data": {
      "text/plain": []
     },
     "execution_count": 44,
     "metadata": {},
     "output_type": "execute_result"
    }
   ],
   "source": [
    "--\n",
    "-- EOF\n",
    "--"
   ]
  }
 ],
 "metadata": {
  "kernelspec": {
   "display_name": "FriCAS",
   "language": "spad",
   "name": "ifricas"
  },
  "language_info": {
   "codemirror_mode": "spad",
   "mimetype": "text/x-spad",
   "name": "SPAD",
   "pygments_lexer": "spad",
   "version": "1.2.6"
  },
  "name": "contfrac.ipynb"
 },
 "nbformat": 4,
 "nbformat_minor": 0
}