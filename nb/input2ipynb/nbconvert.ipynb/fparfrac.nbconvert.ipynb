{
 "cells": [
  {
   "cell_type": "markdown",
   "metadata": {},
   "source": [
    "Copyright The Numerical Algorithms Group Limited 1994.\n",
    " fparfrac.input ---------------------------------\n",
    " This file demonstrates the factor-free conversion to full partial fractions.\n"
   ]
  },
  {
   "cell_type": "code",
   "execution_count": 0,
   "metadata": {
    "collapsed": false
   },
   "outputs": [
    {
     "name": "stdout",
     "output_type": "stream",
     "text": [
      "   All user variables and function definitions have been cleared.\n"
     ]
    },
    {
     "data": {
      "text/plain": []
     },
     "execution_count": 0,
     "metadata": {},
     "output_type": "execute_result"
    }
   ],
   "source": [
    ")cl all"
   ]
  },
  {
   "cell_type": "code",
   "execution_count": 1,
   "metadata": {
    "collapsed": false
   },
   "outputs": [
    {
     "data": {
      "text/plain": [
       "   Fraction(Integer)\n",
       "                                                                   Type: Type\n"
      ]
     },
     "execution_count": 1,
     "metadata": {},
     "output_type": "execute_result"
    }
   ],
   "source": [
    "Q := FRAC INT"
   ]
  },
  {
   "cell_type": "code",
   "execution_count": 2,
   "metadata": {
    "collapsed": false
   },
   "outputs": [
    {
     "data": {
      "text/plain": [
       "   UnivariatePolynomial(x,Fraction(Integer))\n",
       "                                                                   Type: Type\n"
      ]
     },
     "execution_count": 2,
     "metadata": {},
     "output_type": "execute_result"
    }
   ],
   "source": [
    "Px := UP(x, Q)"
   ]
  },
  {
   "cell_type": "code",
   "execution_count": 3,
   "metadata": {
    "collapsed": false
   },
   "outputs": [
    {
     "data": {
      "text/plain": [
       "   Fraction(UnivariatePolynomial(x,Fraction(Integer)))\n",
       "                                                                   Type: Type\n"
      ]
     },
     "execution_count": 3,
     "metadata": {},
     "output_type": "execute_result"
    }
   ],
   "source": [
    "Fx := FRAC Px"
   ]
  },
  {
   "cell_type": "markdown",
   "metadata": {},
   "source": [
    " here is a simple-looking function\n"
   ]
  },
  {
   "cell_type": "code",
   "execution_count": 4,
   "metadata": {
    "collapsed": false
   },
   "outputs": [
    {
     "name": "stdout",
     "output_type": "stream",
     "text": [
      "Warning: HyperTeX macro table not found\n"
     ]
    },
    {
     "data": {
      "text/plain": [
       "                36\n",
       "   ----------------------------\n",
       "    5     4     3     2\n",
       "   x  - 2x  - 2x  + 4x  + x - 2\n",
       "                    Type: Fraction(UnivariatePolynomial(x,Fraction(Integer)))\n"
      ]
     },
     "execution_count": 4,
     "metadata": {},
     "output_type": "execute_result"
    }
   ],
   "source": [
    "f:Fx := 36 / (x^5-2*x^4-2*x^3+4*x^2+x-2)"
   ]
  },
  {
   "cell_type": "markdown",
   "metadata": {},
   "source": [
    " use fullPartialFraction to convert to the type FPARFRAC\n"
   ]
  },
  {
   "cell_type": "code",
   "execution_count": 5,
   "metadata": {
    "collapsed": false
   },
   "outputs": [
    {
     "data": {
      "text/plain": [
       "     4       4        --+      - 3%A - 6\n",
       "   ----- - ----- +    >        ---------\n",
       "   x - 2   x + 1      --+              2\n",
       "                     2         (x - %A)\n",
       "                   %A  - 1= 0\n",
       "Type: FullPartialFractionExpansion(Fraction(Integer),UnivariatePolynomial(x,Fraction(Integer)))\n"
      ]
     },
     "execution_count": 5,
     "metadata": {},
     "output_type": "execute_result"
    }
   ],
   "source": [
    "g := fullPartialFraction f"
   ]
  },
  {
   "cell_type": "markdown",
   "metadata": {},
   "source": [
    " use :: to convert back to a rational function\n"
   ]
  },
  {
   "cell_type": "code",
   "execution_count": 6,
   "metadata": {
    "collapsed": false
   },
   "outputs": [
    {
     "data": {
      "text/plain": [
       "                36\n",
       "   ----------------------------\n",
       "    5     4     3     2\n",
       "   x  - 2x  - 2x  + 4x  + x - 2\n",
       "                    Type: Fraction(UnivariatePolynomial(x,Fraction(Integer)))\n"
      ]
     },
     "execution_count": 6,
     "metadata": {},
     "output_type": "execute_result"
    }
   ],
   "source": [
    "g::Fx"
   ]
  },
  {
   "cell_type": "markdown",
   "metadata": {},
   "source": [
    " Full partial fractions differentiate faster than rational functions:\n"
   ]
  },
  {
   "cell_type": "code",
   "execution_count": 7,
   "metadata": {
    "collapsed": false
   },
   "outputs": [
    {
     "data": {
      "text/plain": [
       "        480        480        --+      2160%A + 4320\n",
       "   - -------- + -------- +    >        -------------\n",
       "            6          6      --+                7\n",
       "     (x - 2)    (x + 1)      2           (x - %A)\n",
       "                           %A  - 1= 0\n",
       "Type: FullPartialFractionExpansion(Fraction(Integer),UnivariatePolynomial(x,Fraction(Integer)))\n"
      ]
     },
     "execution_count": 7,
     "metadata": {},
     "output_type": "execute_result"
    }
   ],
   "source": [
    "g5 := D(g, 5)"
   ]
  },
  {
   "cell_type": "code",
   "execution_count": 8,
   "metadata": {
    "collapsed": false
   },
   "outputs": [
    {
     "name": "stdout",
     "output_type": "stream",
     "text": [
      "              "
     ]
    },
    {
     "data": {
      "text/plain": [
       "                10           9            8            7            6\n",
       "       - 544320x   + 4354560x  - 14696640x  + 28615680x  - 40085280x\n",
       "     + \n",
       "                5            4            3           2\n",
       "       46656000x  - 39411360x  + 18247680x  - 5870880x  + 3317760x + 246240\n",
       "  /\n",
       "        20      19      18      17       16       15       14        13\n",
       "       x   - 12x   + 53x   - 76x   - 159x   + 676x   - 391x   - 1596x\n",
       "     + \n",
       "            12        11        10        9        8        7        6        5\n",
       "       2527x   + 1148x   - 4977x   + 1372x  + 4907x  - 3444x  - 2381x  + 2924x\n",
       "     + \n",
       "           4        3       2\n",
       "       276x  - 1184x  + 208x  + 192x - 64\n",
       "                    Type: Fraction(UnivariatePolynomial(x,Fraction(Integer)))\n"
      ]
     },
     "execution_count": 8,
     "metadata": {},
     "output_type": "execute_result"
    }
   ],
   "source": [
    "f5 := D(f, 5)"
   ]
  },
  {
   "cell_type": "markdown",
   "metadata": {},
   "source": [
    " check that the two forms represent the same function\n"
   ]
  },
  {
   "cell_type": "code",
   "execution_count": 9,
   "metadata": {
    "collapsed": false
   },
   "outputs": [
    {
     "data": {
      "text/plain": [
       "   0\n",
       "                    Type: Fraction(UnivariatePolynomial(x,Fraction(Integer)))\n"
      ]
     },
     "execution_count": 9,
     "metadata": {},
     "output_type": "execute_result"
    }
   ],
   "source": [
    "g5::Fx - f5"
   ]
  },
  {
   "cell_type": "markdown",
   "metadata": {},
   "source": [
    " Here are more complicated examples:\n"
   ]
  },
  {
   "cell_type": "code",
   "execution_count": 10,
   "metadata": {
    "collapsed": false
   },
   "outputs": [
    {
     "data": {
      "text/plain": [
       "                  6    5\n",
       "                 x  - x\n",
       "   -----------------------------------\n",
       "    7     6     5     3     2\n",
       "   x  - 4x  + 3x  + 9x  - 6x  - 4x - 8\n",
       "                    Type: Fraction(UnivariatePolynomial(x,Fraction(Integer)))\n"
      ]
     },
     "execution_count": 10,
     "metadata": {},
     "output_type": "execute_result"
    }
   ],
   "source": [
    "f:Fx := (x^5 * (x-1)) / ((x^2 + x + 1)^2 * (x-2)^3)"
   ]
  },
  {
   "cell_type": "code",
   "execution_count": 11,
   "metadata": {
    "collapsed": false
   },
   "outputs": [
    {
     "name": "stdout",
     "output_type": "stream",
     "text": [
      "  "
     ]
    },
    {
     "data": {
      "text/plain": [
       "      1952       464        32                          179       135\n",
       "      ----       ---        --                       - ---- %A + ----\n",
       "      2401       343        49            --+          2401      2401\n",
       "     ------ + -------- + -------- +       >          ----------------\n",
       "      x - 2          2          3         --+             x - %A\n",
       "              (x - 2)    (x - 2)      2\n",
       "                                    %A  + %A + 1= 0\n",
       "   + \n",
       "                       37        20\n",
       "                      ---- %A + ----\n",
       "           --+        1029      1029\n",
       "           >          --------------\n",
       "           --+                   2\n",
       "       2                 (x - %A)\n",
       "     %A  + %A + 1= 0\n",
       "Type: FullPartialFractionExpansion(Fraction(Integer),UnivariatePolynomial(x,Fraction(Integer)))\n"
      ]
     },
     "execution_count": 11,
     "metadata": {},
     "output_type": "execute_result"
    }
   ],
   "source": [
    "g := fullPartialFraction f"
   ]
  },
  {
   "cell_type": "code",
   "execution_count": 12,
   "metadata": {
    "collapsed": false
   },
   "outputs": [
    {
     "data": {
      "text/plain": [
       "   0\n",
       "                    Type: Fraction(UnivariatePolynomial(x,Fraction(Integer)))\n"
      ]
     },
     "execution_count": 12,
     "metadata": {},
     "output_type": "execute_result"
    }
   ],
   "source": [
    "g::Fx - f"
   ]
  },
  {
   "cell_type": "code",
   "execution_count": 13,
   "metadata": {
    "collapsed": false
   },
   "outputs": [
    {
     "data": {
      "text/plain": [
       "       7     5      3\n",
       "     2x  - 7x  + 26x  + 8x\n",
       "   ------------------------\n",
       "    8     6     4     2\n",
       "   x  - 5x  + 6x  + 4x  - 8\n",
       "                    Type: Fraction(UnivariatePolynomial(x,Fraction(Integer)))\n"
      ]
     },
     "execution_count": 13,
     "metadata": {},
     "output_type": "execute_result"
    }
   ],
   "source": [
    "f:Fx := (2*x^7-7*x^5+26*x^3+8*x)/(x^8-5*x^6+6*x^4+4*x^2-8)"
   ]
  },
  {
   "cell_type": "code",
   "execution_count": 14,
   "metadata": {
    "collapsed": false
   },
   "outputs": [
    {
     "data": {
      "text/plain": [
       "                  1                                            1\n",
       "                  -                                            -\n",
       "      --+         2        --+          1          --+         2\n",
       "      >        ------ +    >        --------- +    >        ------\n",
       "      --+      x - %A      --+              3      --+      x - %A\n",
       "     2                    2         (x - %A)      2\n",
       "   %A  - 2= 0           %A  - 2= 0              %A  + 1= 0\n",
       "Type: FullPartialFractionExpansion(Fraction(Integer),UnivariatePolynomial(x,Fraction(Integer)))\n"
      ]
     },
     "execution_count": 14,
     "metadata": {},
     "output_type": "execute_result"
    }
   ],
   "source": [
    "g := fullPartialFraction f"
   ]
  },
  {
   "cell_type": "code",
   "execution_count": 15,
   "metadata": {
    "collapsed": false
   },
   "outputs": [
    {
     "data": {
      "text/plain": [
       "   0\n",
       "                    Type: Fraction(UnivariatePolynomial(x,Fraction(Integer)))\n"
      ]
     },
     "execution_count": 15,
     "metadata": {},
     "output_type": "execute_result"
    }
   ],
   "source": [
    "g::Fx - f"
   ]
  },
  {
   "cell_type": "code",
   "execution_count": 16,
   "metadata": {
    "collapsed": false
   },
   "outputs": [
    {
     "name": "stdout",
     "output_type": "stream",
     "text": [
      "          \n"
     ]
    },
    {
     "data": {
      "text/plain": [
       "      3\n",
       "     x\n",
       "  /\n",
       "        21     20     19     18      17      16      15      14      13      12\n",
       "       x   + 2x   + 4x   + 7x   + 10x   + 17x   + 22x   + 30x   + 36x   + 40x\n",
       "     + \n",
       "          11      10      9      8      7      6      5      4      3     2\n",
       "       47x   + 46x   + 49x  + 43x  + 38x  + 32x  + 23x  + 19x  + 10x  + 7x  + 2x\n",
       "     + \n",
       "       1\n",
       "                    Type: Fraction(UnivariatePolynomial(x,Fraction(Integer)))\n"
      ]
     },
     "execution_count": 16,
     "metadata": {},
     "output_type": "execute_result"
    }
   ],
   "source": [
    "f:Fx := x^3/(x^21+2*x^20+4*x^19+7*x^18+10*x^17+17*x^16+22*x^15+30*x^14\n",
    "                +36*x^13+40*x^12+47*x^11+46*x^10+49*x^9+43*x^8+38*x^7\n",
    "                  +32*x^6+23*x^5+19*x^4+10*x^3+7*x^2+2*x+1)"
   ]
  },
  {
   "cell_type": "code",
   "execution_count": 17,
   "metadata": {
    "collapsed": false
   },
   "outputs": [
    {
     "name": "stdout",
     "output_type": "stream",
     "text": [
      "                                    "
     ]
    },
    {
     "data": {
      "text/plain": [
       "                  1                        1      19\n",
       "                  - %A                     - %A - --\n",
       "        --+       2             --+        9      27\n",
       "        >        ------ +       >          ---------\n",
       "        --+      x - %A         --+          x - %A\n",
       "       2                    2\n",
       "     %A  + 1= 0           %A  + %A + 1= 0\n",
       "   + \n",
       "                       1       1\n",
       "                      -- %A - --\n",
       "           --+        27      27\n",
       "           >          ----------\n",
       "           --+                 2\n",
       "       2               (x - %A)\n",
       "     %A  + %A + 1= 0\n",
       "   + \n",
       "     SIGMA\n",
       "          5     2\n",
       "        %A  + %A  + 1= 0\n",
       "    ,\n",
       "               96556567040   4   420961732891   3    59101056149   2\n",
       "            - ------------ %A  + ------------ %A  - ------------ %A\n",
       "              912390759099       912390759099       912390759099\n",
       "          + \n",
       "              373545875923      529673492498\n",
       "            - ------------ %A + ------------\n",
       "              912390759099      912390759099\n",
       "       /\n",
       "          x - %A\n",
       "   + \n",
       "     SIGMA\n",
       "          5     2\n",
       "        %A  + %A  + 1= 0\n",
       "    ,\n",
       "           5580868   4    2024443   3    4321919   2    84614        5070620\n",
       "        - -------- %A  - -------- %A  + -------- %A  - ------- %A - --------\n",
       "          94070601       94070601       94070601       1542141      94070601\n",
       "        --------------------------------------------------------------------\n",
       "                                              2\n",
       "                                      (x - %A)\n",
       "   + \n",
       "     SIGMA\n",
       "          5     2\n",
       "        %A  + %A  + 1= 0\n",
       "    ,\n",
       "         1610957   4    2763014   3    2016775   2    266953        4529359\n",
       "        -------- %A  + -------- %A  - -------- %A  + -------- %A + --------\n",
       "        94070601       94070601       94070601       94070601      94070601\n",
       "        -------------------------------------------------------------------\n",
       "                                             3\n",
       "                                     (x - %A)\n",
       "Type: FullPartialFractionExpansion(Fraction(Integer),UnivariatePolynomial(x,Fraction(Integer)))\n"
      ]
     },
     "execution_count": 17,
     "metadata": {},
     "output_type": "execute_result"
    }
   ],
   "source": [
    "g := fullPartialFraction f"
   ]
  },
  {
   "cell_type": "markdown",
   "metadata": {},
   "source": [
    " this verification takes much longer than the conversion to partial fractions\n"
   ]
  },
  {
   "cell_type": "code",
   "execution_count": 18,
   "metadata": {
    "collapsed": false
   },
   "outputs": [
    {
     "data": {
      "text/plain": [
       "   0\n",
       "                    Type: Fraction(UnivariatePolynomial(x,Fraction(Integer)))\n"
      ]
     },
     "execution_count": 18,
     "metadata": {},
     "output_type": "execute_result"
    }
   ],
   "source": [
    "g::Fx - f"
   ]
  },
  {
   "cell_type": "code",
   "execution_count": 19,
   "metadata": {
    "collapsed": false
   },
   "outputs": [
    {
     "data": {
      "text/plain": []
     },
     "execution_count": 19,
     "metadata": {},
     "output_type": "execute_result"
    }
   ],
   "source": [
    "--\n",
    "-- EOF\n",
    "--"
   ]
  }
 ],
 "metadata": {
  "kernelspec": {
   "display_name": "FriCAS",
   "language": "spad",
   "name": "ifricas"
  },
  "language_info": {
   "codemirror_mode": "spad",
   "mimetype": "text/x-spad",
   "name": "SPAD",
   "pygments_lexer": "spad",
   "version": "1.2.6"
  },
  "name": "fparfrac.ipynb"
 },
 "nbformat": 4,
 "nbformat_minor": 0
}