{
 "cells": [
  {
   "cell_type": "markdown",
   "metadata": {},
   "source": [
    "Copyright The Numerical Algorithms Group Limited 1994.\n",
    " Color gallery page 6\n"
   ]
  },
  {
   "cell_type": "markdown",
   "metadata": {},
   "source": [
    " 3-d surface whose height is the real part of the Gamma function,\n",
    " and whose color is the argument of the Gamma function\n"
   ]
  },
  {
   "cell_type": "code",
   "execution_count": 0,
   "metadata": {
    "collapsed": false
   },
   "outputs": [
    {
     "data": {
      "text/plain": [
       "                                                                   Type: Void\n"
      ]
     },
     "execution_count": 0,
     "metadata": {},
     "output_type": "execute_result"
    }
   ],
   "source": [
    "gam(x,y) ==\n",
    "  g := Gamma complex(x,y)\n",
    "  point [x,y,max(min(real g, 4), -4), argument g]"
   ]
  },
  {
   "cell_type": "code",
   "execution_count": 1,
   "metadata": {
    "collapsed": false
   },
   "outputs": [
    {
     "name": "stdout",
     "output_type": "stream",
     "text": [
      "Warning: HyperTeX macro table not found\n",
      "   Compiling function gam with type (DoubleFloat,DoubleFloat) -> Point(\n",
      "      DoubleFloat) \n",
      "   Transmitting data...\n",
      "\n"
     ]
    },
    {
     "data": {
      "text/plain": [
       "   ThreeDimensionalViewport: \"Gamma(x + %i*y)\"\n",
       "                                               Type: ThreeDimensionalViewport\n"
      ]
     },
     "execution_count": 1,
     "metadata": {},
     "output_type": "execute_result"
    }
   ],
   "source": [
    "draw(gam, -%pi..%pi, -%pi..%pi, title == \"Gamma(x + %i*y)\",\n",
    "     var1Steps == 100, var2Steps == 100)"
   ]
  },
  {
   "cell_type": "markdown",
   "metadata": {},
   "source": [
    " The Beta function\n"
   ]
  },
  {
   "cell_type": "code",
   "execution_count": 2,
   "metadata": {
    "collapsed": false
   },
   "outputs": [
    {
     "data": {
      "text/plain": [
       "                                                                   Type: Void\n"
      ]
     },
     "execution_count": 2,
     "metadata": {},
     "output_type": "execute_result"
    }
   ],
   "source": [
    "b(x,y) == Beta(x,y)"
   ]
  },
  {
   "cell_type": "code",
   "execution_count": 3,
   "metadata": {
    "collapsed": false
   },
   "outputs": [
    {
     "name": "stdout",
     "output_type": "stream",
     "text": [
      "   Compiling function b with type (DoubleFloat,DoubleFloat) -> \n",
      "      DoubleFloat \n",
      "   Transmitting data...\n"
     ]
    },
    {
     "data": {
      "text/plain": [
       "   ThreeDimensionalViewport: \"Beta(x,y)\"\n",
       "                                               Type: ThreeDimensionalViewport\n"
      ]
     },
     "execution_count": 3,
     "metadata": {},
     "output_type": "execute_result"
    }
   ],
   "source": [
    "draw(b, -3.1..3, -3.1 .. 3, title == \"Beta(x,y)\")"
   ]
  },
  {
   "cell_type": "markdown",
   "metadata": {},
   "source": [
    " The complex arc tangent function\n"
   ]
  },
  {
   "cell_type": "code",
   "execution_count": 4,
   "metadata": {
    "collapsed": false
   },
   "outputs": [
    {
     "data": {
      "text/plain": [
       "                                                                   Type: Void\n"
      ]
     },
     "execution_count": 4,
     "metadata": {},
     "output_type": "execute_result"
    }
   ],
   "source": [
    "atf(x,y) ==\n",
    "  a := atan complex(x,y)\n",
    "  point [x,y,real a, argument a]"
   ]
  },
  {
   "cell_type": "code",
   "execution_count": 5,
   "metadata": {
    "collapsed": false
   },
   "outputs": [
    {
     "name": "stdout",
     "output_type": "stream",
     "text": [
      "   Compiling function atf with type (DoubleFloat,DoubleFloat) -> Point(\n",
      "      DoubleFloat) \n",
      "   Transmitting data...\n"
     ]
    },
    {
     "data": {
      "text/plain": [
       "   ThreeDimensionalViewport: \"FriCAS3D\"\n",
       "                                               Type: ThreeDimensionalViewport\n"
      ]
     },
     "execution_count": 5,
     "metadata": {},
     "output_type": "execute_result"
    }
   ],
   "source": [
    "draw(atf, -3.0..%pi, -3.0..%pi)"
   ]
  },
  {
   "cell_type": "code",
   "execution_count": 6,
   "metadata": {
    "collapsed": false
   },
   "outputs": [
    {
     "data": {
      "text/plain": []
     },
     "execution_count": 6,
     "metadata": {},
     "output_type": "execute_result"
    }
   ],
   "source": [
    "--\n",
    "-- EOF\n",
    "--"
   ]
  }
 ],
 "metadata": {
  "kernelspec": {
   "display_name": "FriCAS",
   "language": "spad",
   "name": "ifricas"
  },
  "language_info": {
   "codemirror_mode": "spad",
   "mimetype": "text/x-spad",
   "name": "SPAD",
   "pygments_lexer": "spad",
   "version": "1.2.6"
  },
  "name": "images6.ipynb"
 },
 "nbformat": 4,
 "nbformat_minor": 0
}