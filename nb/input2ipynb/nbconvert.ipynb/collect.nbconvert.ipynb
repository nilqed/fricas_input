{
 "cells": [
  {
   "cell_type": "markdown",
   "metadata": {},
   "source": [
    "Copyright The Numerical Algorithms Group Limited 1991.\n"
   ]
  },
  {
   "cell_type": "markdown",
   "metadata": {},
   "source": [
    " Input for page Collections\n"
   ]
  },
  {
   "cell_type": "code",
   "execution_count": 0,
   "metadata": {
    "collapsed": false
   },
   "outputs": [
    {
     "name": "stdout",
     "output_type": "stream",
     "text": [
      "   All user variables and function definitions have been cleared.\n"
     ]
    },
    {
     "data": {
      "text/plain": []
     },
     "execution_count": 0,
     "metadata": {},
     "output_type": "execute_result"
    }
   ],
   "source": [
    ")clear all"
   ]
  },
  {
   "cell_type": "code",
   "execution_count": 1,
   "metadata": {
    "collapsed": false
   },
   "outputs": [
    {
     "name": "stdout",
     "output_type": "stream",
     "text": [
      "Warning: HyperTeX macro table not found\n"
     ]
    },
    {
     "data": {
      "text/plain": [
       "   [0,1,8,27,64,125,216,343,512,729,1000]\n",
       "                                               Type: List(NonNegativeInteger)\n"
      ]
     },
     "execution_count": 1,
     "metadata": {},
     "output_type": "execute_result"
    }
   ],
   "source": [
    "a := [i^3 for i in 0..10]"
   ]
  },
  {
   "cell_type": "code",
   "execution_count": 2,
   "metadata": {
    "collapsed": false
   },
   "outputs": [
    {
     "data": {
      "text/plain": [
       "   [0,1,2,3,4,5,6,7,8,9,10]\n",
       "                                                          Type: List(Integer)\n"
      ]
     },
     "execution_count": 2,
     "metadata": {},
     "output_type": "execute_result"
    }
   ],
   "source": [
    "b := expand [0..10]"
   ]
  },
  {
   "cell_type": "code",
   "execution_count": 3,
   "metadata": {
    "collapsed": false
   },
   "outputs": [
    {
     "data": {
      "text/plain": [
       "   [0,1,8,27,64,125,216,343,512,729,1000]\n",
       "                                                          Type: List(Integer)\n"
      ]
     },
     "execution_count": 3,
     "metadata": {},
     "output_type": "execute_result"
    }
   ],
   "source": [
    "c := [x^3 for x in b]"
   ]
  },
  {
   "cell_type": "code",
   "execution_count": 4,
   "metadata": {
    "collapsed": false
   },
   "outputs": [
    {
     "data": {
      "text/plain": [
       "   [0,8,64,216,512,1000]\n",
       "                                               Type: List(NonNegativeInteger)\n"
      ]
     },
     "execution_count": 4,
     "metadata": {},
     "output_type": "execute_result"
    }
   ],
   "source": [
    "d := [i^3 for i in 0..10 | even? i]"
   ]
  },
  {
   "cell_type": "code",
   "execution_count": 5,
   "metadata": {
    "collapsed": false
   },
   "outputs": [
    {
     "data": {
      "text/plain": [
       "   [0,8,64,216,512,1000]\n",
       "                                                          Type: List(Integer)\n"
      ]
     },
     "execution_count": 5,
     "metadata": {},
     "output_type": "execute_result"
    }
   ],
   "source": [
    "d := [x^3 for x in b | even? x]"
   ]
  },
  {
   "cell_type": "code",
   "execution_count": 6,
   "metadata": {
    "collapsed": false
   },
   "outputs": [
    {
     "data": {
      "text/plain": [
       "   [0,8,64,216,512,1000]\n",
       "                                                          Type: List(Integer)\n"
      ]
     },
     "execution_count": 6,
     "metadata": {},
     "output_type": "execute_result"
    }
   ],
   "source": [
    "d := [x for x in c | even? x]"
   ]
  },
  {
   "cell_type": "code",
   "execution_count": 7,
   "metadata": {
    "collapsed": false
   },
   "outputs": [
    {
     "data": {
      "text/plain": [
       "   [0,8,64,216,512,1000]\n",
       "                                               Type: List(NonNegativeInteger)\n"
      ]
     },
     "execution_count": 7,
     "metadata": {},
     "output_type": "execute_result"
    }
   ],
   "source": [
    "d := [i^3 for i in 0..10 by 2 | even? i]"
   ]
  },
  {
   "cell_type": "code",
   "execution_count": 8,
   "metadata": {
    "collapsed": false
   },
   "outputs": [
    {
     "data": {
      "text/plain": [
       "   [0,8,64,216,512,1000]\n",
       "                                               Type: List(NonNegativeInteger)\n"
      ]
     },
     "execution_count": 8,
     "metadata": {},
     "output_type": "execute_result"
    }
   ],
   "source": [
    "e := reverse [i^3 for i in 10..0 by -2 | even? i]"
   ]
  },
  {
   "cell_type": "code",
   "execution_count": 9,
   "metadata": {
    "collapsed": false
   },
   "outputs": [
    {
     "data": {
      "text/plain": [
       "   [0,0,0,0,0,0]\n",
       "                                                          Type: List(Integer)\n"
      ]
     },
     "execution_count": 9,
     "metadata": {},
     "output_type": "execute_result"
    }
   ],
   "source": [
    "[x - y for x in d for y in e]"
   ]
  },
  {
   "cell_type": "code",
   "execution_count": 10,
   "metadata": {
    "collapsed": false
   },
   "outputs": [
    {
     "data": {
      "text/plain": [
       "   [0,- 56,- 448]\n",
       "                                                          Type: List(Integer)\n"
      ]
     },
     "execution_count": 10,
     "metadata": {},
     "output_type": "execute_result"
    }
   ],
   "source": [
    "[x^3 - y for x in b | even? x for y in e]"
   ]
  },
  {
   "cell_type": "code",
   "execution_count": 11,
   "metadata": {
    "collapsed": false
   },
   "outputs": [
    {
     "data": {
      "text/plain": [
       "   [0,1,8,27,64,125,216,343,512,729,...]\n",
       "                                             Type: Stream(NonNegativeInteger)\n"
      ]
     },
     "execution_count": 11,
     "metadata": {},
     "output_type": "execute_result"
    }
   ],
   "source": [
    "f := [i^3 for i in 0..]"
   ]
  },
  {
   "cell_type": "code",
   "execution_count": 12,
   "metadata": {
    "collapsed": false
   },
   "outputs": [
    {
     "data": {
      "text/plain": [
       "   [0,1,8,27,64,125,216,343,512,729,1000]\n",
       "                                               Type: List(NonNegativeInteger)\n"
      ]
     },
     "execution_count": 12,
     "metadata": {},
     "output_type": "execute_result"
    }
   ],
   "source": [
    "[i^3 for i in 0..10]"
   ]
  },
  {
   "cell_type": "code",
   "execution_count": 13,
   "metadata": {
    "collapsed": false
   },
   "outputs": [
    {
     "data": {
      "text/plain": [
       "   [0,1,8,27,64,125,216,343,512,729,...]\n",
       "                                             Type: Stream(NonNegativeInteger)\n"
      ]
     },
     "execution_count": 13,
     "metadata": {},
     "output_type": "execute_result"
    }
   ],
   "source": [
    "[i^3 for i in 0.. while i < 11]"
   ]
  },
  {
   "cell_type": "code",
   "execution_count": 14,
   "metadata": {
    "collapsed": false
   },
   "outputs": [
    {
     "data": {
      "text/plain": [
       "   [0,1,8,27,64,125,216,343,512,729,...]\n",
       "                                             Type: Stream(NonNegativeInteger)\n"
      ]
     },
     "execution_count": 14,
     "metadata": {},
     "output_type": "execute_result"
    }
   ],
   "source": [
    "[i^3 for i in 0.. for x in 0..10]"
   ]
  },
  {
   "cell_type": "code",
   "execution_count": 15,
   "metadata": {
    "collapsed": false
   },
   "outputs": [
    {
     "name": "stdout",
     "output_type": "stream",
     "text": [
      "\n",
      "\n"
     ]
    },
    {
     "data": {
      "text/plain": [
       "   [[1,0,0,0], [1,1,1,1], [1,2,4,8], [1,3,9,27], [1,4,16,64], [1,5,25,125],\n",
       "    [1,6,36,216], [1,7,49,343], [1,8,64,512], [1,9,81,729], ...]\n",
       "                                       Type: Stream(List(NonNegativeInteger))\n"
      ]
     },
     "execution_count": 15,
     "metadata": {},
     "output_type": "execute_result"
    }
   ],
   "source": [
    "[[i^j for j in 0..3] for i in 0..]"
   ]
  },
  {
   "cell_type": "code",
   "execution_count": 16,
   "metadata": {
    "collapsed": false
   },
   "outputs": [
    {
     "name": "stdout",
     "output_type": "stream",
     "text": [
      "\n",
      "\n",
      "\n"
     ]
    },
    {
     "data": {
      "text/plain": [
       "   [[1,0,0,0,0,0,0,0,0,0,...], [1,1,1,1,1,1,1,1,1,1,...],\n",
       "    [1,2,4,8,16,32,64,128,256,512,...],\n",
       "    [1,3,9,27,81,243,729,2187,6561,19683,...]]\n",
       "                                        Type: List(Stream(Fraction(Integer)))\n"
      ]
     },
     "execution_count": 16,
     "metadata": {},
     "output_type": "execute_result"
    }
   ],
   "source": [
    "[[i^j for j in 0..] for i in 0..3]"
   ]
  },
  {
   "cell_type": "code",
   "execution_count": 17,
   "metadata": {
    "collapsed": false
   },
   "outputs": [
    {
     "data": {
      "text/plain": [
       "   {0,8,64,216,512,1000}\n",
       "                                                Type: Set(NonNegativeInteger)\n"
      ]
     },
     "execution_count": 17,
     "metadata": {},
     "output_type": "execute_result"
    }
   ],
   "source": [
    "brace [i^3 for i in 10..0 by -2]"
   ]
  },
  {
   "cell_type": "markdown",
   "metadata": {},
   "source": [
    " Input generated from ContinuedFractionXmpPage\n"
   ]
  },
  {
   "cell_type": "code",
   "execution_count": 18,
   "metadata": {
    "collapsed": false
   },
   "outputs": [
    {
     "name": "stdout",
     "output_type": "stream",
     "text": [
      "   All user variables and function definitions have been cleared.\n"
     ]
    },
    {
     "data": {
      "text/plain": []
     },
     "execution_count": 18,
     "metadata": {},
     "output_type": "execute_result"
    }
   ],
   "source": [
    ")clear all"
   ]
  },
  {
   "cell_type": "code",
   "execution_count": 19,
   "metadata": {
    "collapsed": false
   },
   "outputs": [
    {
     "data": {
      "text/plain": [
       "         1 |     1  |     1 |     1  |     1 |     1 |     1 |\n",
       "   3 + +---+ + +----+ + +---+ + +----+ + +---+ + +---+ + +---+\n",
       "       | 7     | 15     | 1     | 25     | 1     | 7     | 4\n",
       "                                             Type: ContinuedFraction(Integer)\n"
      ]
     },
     "execution_count": 19,
     "metadata": {},
     "output_type": "execute_result"
    }
   ],
   "source": [
    "c := continuedFraction(314159/100000)"
   ]
  },
  {
   "cell_type": "code",
   "execution_count": 20,
   "metadata": {
    "collapsed": false
   },
   "outputs": [
    {
     "data": {
      "text/plain": [
       "   [3,7,15,1,25,1,7,4]\n",
       "                                                        Type: Stream(Integer)\n"
      ]
     },
     "execution_count": 20,
     "metadata": {},
     "output_type": "execute_result"
    }
   ],
   "source": [
    "partialQuotients c"
   ]
  },
  {
   "cell_type": "code",
   "execution_count": 21,
   "metadata": {
    "collapsed": false
   },
   "outputs": [
    {
     "data": {
      "text/plain": [
       "      22 333 355 9208 9563 76149 314159\n",
       "   [3,--,---,---,----,----,-----,------]\n",
       "       7 106 113 2931 3044 24239 100000\n",
       "                                              Type: Stream(Fraction(Integer))\n"
      ]
     },
     "execution_count": 21,
     "metadata": {},
     "output_type": "execute_result"
    }
   ],
   "source": [
    "convergents c"
   ]
  },
  {
   "cell_type": "code",
   "execution_count": 22,
   "metadata": {
    "collapsed": false
   },
   "outputs": [
    {
     "data": {
      "text/plain": [
       "                                 ______\n",
       "      22 333 355 9208 9563 76149 314159\n",
       "   [3,--,---,---,----,----,-----,------]\n",
       "       7 106 113 2931 3044 24239 100000\n",
       "                                              Type: Stream(Fraction(Integer))\n"
      ]
     },
     "execution_count": 22,
     "metadata": {},
     "output_type": "execute_result"
    }
   ],
   "source": [
    "approximants c"
   ]
  },
  {
   "cell_type": "code",
   "execution_count": 23,
   "metadata": {
    "collapsed": false
   },
   "outputs": [
    {
     "data": {
      "text/plain": [
       "   [0,3,7,15,1,25,1,7,4]\n",
       "                                                        Type: Stream(Integer)\n"
      ]
     },
     "execution_count": 23,
     "metadata": {},
     "output_type": "execute_result"
    }
   ],
   "source": [
    "pq := partialQuotients(1/c)"
   ]
  },
  {
   "cell_type": "code",
   "execution_count": 24,
   "metadata": {
    "collapsed": false
   },
   "outputs": [
    {
     "data": {
      "text/plain": [
       "     1 |     1 |     1  |     1 |     1  |     1 |     1 |     1 |\n",
       "   +---+ + +---+ + +----+ + +---+ + +----+ + +---+ + +---+ + +---+\n",
       "   | 3     | 7     | 15     | 1     | 25     | 1     | 7     | 4\n",
       "                                             Type: ContinuedFraction(Integer)\n"
      ]
     },
     "execution_count": 24,
     "metadata": {},
     "output_type": "execute_result"
    }
   ],
   "source": [
    "continuedFraction(first pq,repeating [1],rest pq)"
   ]
  },
  {
   "cell_type": "code",
   "execution_count": 25,
   "metadata": {
    "collapsed": false
   },
   "outputs": [
    {
     "name": "stdout",
     "output_type": "stream",
     "text": [
      "  "
     ]
    },
    {
     "data": {
      "text/plain": [
       "           1 |     1 |     1 |     1 |     1 |     1 |     1 |     1 |     1 |\n",
       "     3 + +---+ + +---+ + +---+ + +---+ + +---+ + +---+ + +---+ + +---+ + +---+\n",
       "         | 3     | 6     | 3     | 6     | 3     | 6     | 3     | 6     | 3\n",
       "   + \n",
       "       1 |\n",
       "     +---+ + ...\n",
       "     | 6\n",
       "                                             Type: ContinuedFraction(Integer)\n"
      ]
     },
     "execution_count": 25,
     "metadata": {},
     "output_type": "execute_result"
    }
   ],
   "source": [
    "z:=continuedFraction(3,repeating [1],repeating [3,6])"
   ]
  },
  {
   "cell_type": "code",
   "execution_count": 26,
   "metadata": {
    "collapsed": false
   },
   "outputs": [
    {
     "data": {
      "text/plain": [
       "   [1,6,10,14,18,22,26,30,34,38,...]\n",
       "                                                        Type: Stream(Integer)\n"
      ]
     },
     "execution_count": 26,
     "metadata": {},
     "output_type": "execute_result"
    }
   ],
   "source": [
    "dens : Stream Integer := cons(1, stream((x +-> x + 4), 6))"
   ]
  },
  {
   "cell_type": "code",
   "execution_count": 27,
   "metadata": {
    "collapsed": false
   },
   "outputs": [
    {
     "name": "stdout",
     "output_type": "stream",
     "text": [
      "  "
     ]
    },
    {
     "data": {
      "text/plain": [
       "       1 |     1 |     1  |     1  |     1  |     1  |     1  |     1  |\n",
       "     +---+ + +---+ + +----+ + +----+ + +----+ + +----+ + +----+ + +----+\n",
       "     | 1     | 6     | 10     | 14     | 18     | 22     | 26     | 30\n",
       "   + \n",
       "       1  |     1  |\n",
       "     +----+ + +----+ + ...\n",
       "     | 34     | 38\n",
       "                                             Type: ContinuedFraction(Integer)\n"
      ]
     },
     "execution_count": 27,
     "metadata": {},
     "output_type": "execute_result"
    }
   ],
   "source": [
    "cf := continuedFraction(0,repeating [1],dens)"
   ]
  },
  {
   "cell_type": "code",
   "execution_count": 28,
   "metadata": {
    "collapsed": false
   },
   "outputs": [
    {
     "data": {
      "text/plain": [
       "        6 61  860 15541 342762  8927353 268163352  9126481321\n",
       "   [0,1,-,--,----,-----,------,--------,---------,-----------,...]\n",
       "        7 71 1001 18089 398959 10391023 312129649 10622799089\n",
       "                                              Type: Stream(Fraction(Integer))\n"
      ]
     },
     "execution_count": 28,
     "metadata": {},
     "output_type": "execute_result"
    }
   ],
   "source": [
    "ccf := convergents cf"
   ]
  },
  {
   "cell_type": "code",
   "execution_count": 29,
   "metadata": {
    "collapsed": false
   },
   "outputs": [
    {
     "data": {
      "text/plain": [
       "        19 193 2721 49171 1084483 28245729 848456353 28875761731\n",
       "   [1,3,--,---,----,-----,-------,--------,---------,-----------,...]\n",
       "         7  71 1001 18089  398959 10391023 312129649 10622799089\n",
       "                                              Type: Stream(Fraction(Integer))\n"
      ]
     },
     "execution_count": 29,
     "metadata": {},
     "output_type": "execute_result"
    }
   ],
   "source": [
    "eConvergents := [2*e + 1 for e in ccf]"
   ]
  },
  {
   "cell_type": "code",
   "execution_count": 30,
   "metadata": {
    "collapsed": false
   },
   "outputs": [
    {
     "name": "stdout",
     "output_type": "stream",
     "text": [
      "\n",
      "\n",
      "\n",
      "\n"
     ]
    },
    {
     "data": {
      "text/plain": [
       "   [1.0, 3.0, 2.7142857142_857142857, 2.7183098591_549295775,\n",
       "    2.7182817182_817182817, 2.7182818287_356957267, 2.7182818284_585634113,\n",
       "    2.7182818284_590458514, 2.7182818284_590452348, 2.7182818284_590452354,\n",
       "    ...]\n",
       "                                                          Type: Stream(Float)\n"
      ]
     },
     "execution_count": 30,
     "metadata": {},
     "output_type": "execute_result"
    }
   ],
   "source": [
    "eConvergents :: Stream Float"
   ]
  },
  {
   "cell_type": "code",
   "execution_count": 31,
   "metadata": {
    "collapsed": false
   },
   "outputs": [
    {
     "data": {
      "text/plain": [
       "   2.7182818284_590452354\n",
       "                                                                  Type: Float\n"
      ]
     },
     "execution_count": 31,
     "metadata": {},
     "output_type": "execute_result"
    }
   ],
   "source": [
    "exp 1.0"
   ]
  },
  {
   "cell_type": "code",
   "execution_count": 32,
   "metadata": {
    "collapsed": false
   },
   "outputs": [
    {
     "name": "stdout",
     "output_type": "stream",
     "text": [
      "  "
     ]
    },
    {
     "data": {
      "text/plain": [
       "           1 |     9 |     25 |     49 |     81 |     121 |     169 |     225 |\n",
       "     1 + +---+ + +---+ + +----+ + +----+ + +----+ + +-----+ + +-----+ + +-----+\n",
       "         | 2     | 2     | 2      | 2      | 2      |  2      |  2      |  2\n",
       "   + \n",
       "       289 |     361 |\n",
       "     +-----+ + +-----+ + ...\n",
       "     |  2      |  2\n",
       "                                             Type: ContinuedFraction(Integer)\n"
      ]
     },
     "execution_count": 32,
     "metadata": {},
     "output_type": "execute_result"
    }
   ],
   "source": [
    "cf := continuedFraction(1,[(2*i+1)^2 for i in 0..],repeating [2])"
   ]
  },
  {
   "cell_type": "code",
   "execution_count": 33,
   "metadata": {
    "collapsed": false
   },
   "outputs": [
    {
     "data": {
      "text/plain": [
       "      3 15 105 315 3465 45045 45045 765765 14549535\n",
       "   [1,-,--,---,---,----,-----,-----,------,--------,...]\n",
       "      2 13  76 263 2578 36979 33976 622637 11064338\n",
       "                                              Type: Stream(Fraction(Integer))\n"
      ]
     },
     "execution_count": 33,
     "metadata": {},
     "output_type": "execute_result"
    }
   ],
   "source": [
    "ccf := convergents cf"
   ]
  },
  {
   "cell_type": "code",
   "execution_count": 34,
   "metadata": {
    "collapsed": false
   },
   "outputs": [
    {
     "data": {
      "text/plain": [
       "      8 52 304 1052 10312 147916 135904 2490548 44257352\n",
       "   [4,-,--,---,----,-----,------,------,-------,--------,...]\n",
       "      3 15 105  315  3465  45045  45045  765765 14549535\n",
       "                                              Type: Stream(Fraction(Integer))\n"
      ]
     },
     "execution_count": 34,
     "metadata": {},
     "output_type": "execute_result"
    }
   ],
   "source": [
    "piConvergents := [4/p for p in ccf]"
   ]
  },
  {
   "cell_type": "code",
   "execution_count": 35,
   "metadata": {
    "collapsed": false
   },
   "outputs": [
    {
     "name": "stdout",
     "output_type": "stream",
     "text": [
      "\n",
      "\n",
      "\n",
      "\n"
     ]
    },
    {
     "data": {
      "text/plain": [
       "   [4.0, 2.6666666666_666666667, 3.4666666666_666666667,\n",
       "    2.8952380952_380952381, 3.3396825396_825396825, 2.9760461760_461760462,\n",
       "    3.2837384837_384837385, 3.0170718170_718170718, 3.2523659347_188758953,\n",
       "    3.0418396189_294022111, ...]\n",
       "                                                          Type: Stream(Float)\n"
      ]
     },
     "execution_count": 35,
     "metadata": {},
     "output_type": "execute_result"
    }
   ],
   "source": [
    "piConvergents :: Stream Float"
   ]
  },
  {
   "cell_type": "code",
   "execution_count": 36,
   "metadata": {
    "collapsed": false
   },
   "outputs": [
    {
     "data": {
      "text/plain": [
       "                      1    |         1     |\n",
       "   - 90 + 59%i + +---------+ + +-----------+\n",
       "                 | 1 - 2%i     | - 1 + 2%i\n",
       "                                    Type: ContinuedFraction(Complex(Integer))\n"
      ]
     },
     "execution_count": 36,
     "metadata": {},
     "output_type": "execute_result"
    }
   ],
   "source": [
    "continuedFraction((- 122 + 597*%i)/(4 - 4*%i))"
   ]
  },
  {
   "cell_type": "code",
   "execution_count": 37,
   "metadata": {
    "collapsed": false
   },
   "outputs": [
    {
     "data": {
      "text/plain": [
       "                                                                   Type: Void\n"
      ]
     },
     "execution_count": 37,
     "metadata": {},
     "output_type": "execute_result"
    }
   ],
   "source": [
    "r : Fraction UnivariatePolynomial(x,Fraction Integer)"
   ]
  },
  {
   "cell_type": "code",
   "execution_count": 38,
   "metadata": {
    "collapsed": false
   },
   "outputs": [
    {
     "data": {
      "text/plain": [
       "     2\n",
       "    x  - 3x + 2\n",
       "   ------------\n",
       "    2\n",
       "   x  - 7x + 12\n",
       "                    Type: Fraction(UnivariatePolynomial(x,Fraction(Integer)))\n"
      ]
     },
     "execution_count": 38,
     "metadata": {},
     "output_type": "execute_result"
    }
   ],
   "source": [
    "r := ((x - 1) * (x - 2)) / ((x-3) * (x-4))"
   ]
  },
  {
   "cell_type": "code",
   "execution_count": 39,
   "metadata": {
    "collapsed": false
   },
   "outputs": [
    {
     "data": {
      "text/plain": [
       "            1    |         1     |\n",
       "   1 + +---------+ + +-----------+\n",
       "       | 1     9     | 16     40\n",
       "       | - x - -     | -- x - --\n",
       "       | 4     8     |  3      3\n",
       "           Type: ContinuedFraction(UnivariatePolynomial(x,Fraction(Integer)))\n"
      ]
     },
     "execution_count": 39,
     "metadata": {},
     "output_type": "execute_result"
    }
   ],
   "source": [
    "continuedFraction r"
   ]
  },
  {
   "cell_type": "code",
   "execution_count": 40,
   "metadata": {
    "collapsed": false
   },
   "outputs": [
    {
     "name": "stdout",
     "output_type": "stream",
     "text": [
      "\n",
      "\n",
      "\n",
      "\n"
     ]
    },
    {
     "data": {
      "text/plain": [
       "   [9.0, 11.1111111111_11111111, 10.9944598337_9501385, 11.0002777777_77777778,\n",
       "    10.9999860763_98799786, 11.0000006979_29731039, 10.9999999650_15834446,\n",
       "    11.0000000017_53603304, 10.9999999999_12099531, 11.0000000000_04406066,\n",
       "    ...]\n",
       "                                                          Type: Stream(Float)\n"
      ]
     },
     "execution_count": 40,
     "metadata": {},
     "output_type": "execute_result"
    }
   ],
   "source": [
    "[i*i for i in convergents(z) :: Stream Float]"
   ]
  },
  {
   "cell_type": "markdown",
   "metadata": {},
   "source": [
    " Input for page ForCollectionDetailPage\n"
   ]
  },
  {
   "cell_type": "code",
   "execution_count": 41,
   "metadata": {
    "collapsed": false
   },
   "outputs": [
    {
     "name": "stdout",
     "output_type": "stream",
     "text": [
      "   All user variables and function definitions have been cleared.\n"
     ]
    },
    {
     "data": {
      "text/plain": []
     },
     "execution_count": 41,
     "metadata": {},
     "output_type": "execute_result"
    }
   ],
   "source": [
    ")clear all"
   ]
  },
  {
   "cell_type": "code",
   "execution_count": 42,
   "metadata": {
    "collapsed": false
   },
   "outputs": [
    {
     "data": {
      "text/plain": [
       "   [1,8,27,64,125,216,343,512,729,1000]\n",
       "                                                  Type: List(PositiveInteger)\n"
      ]
     },
     "execution_count": 42,
     "metadata": {},
     "output_type": "execute_result"
    }
   ],
   "source": [
    "u := [i^3 for i in 1..10]"
   ]
  },
  {
   "cell_type": "code",
   "execution_count": 43,
   "metadata": {
    "collapsed": false
   },
   "outputs": [
    {
     "data": {
      "text/plain": [
       "   64\n",
       "                                                        Type: PositiveInteger\n"
      ]
     },
     "execution_count": 43,
     "metadata": {},
     "output_type": "execute_result"
    }
   ],
   "source": [
    "u(4)"
   ]
  },
  {
   "cell_type": "code",
   "execution_count": 44,
   "metadata": {
    "collapsed": false
   },
   "outputs": [
    {
     "data": {
      "text/plain": [
       "      3   3   3   3   3\n",
       "   [8i ,8i ,8i ,8i ,8i ]\n",
       "                                              Type: List(Polynomial(Integer))\n"
      ]
     },
     "execution_count": 44,
     "metadata": {},
     "output_type": "execute_result"
    }
   ],
   "source": [
    "[8*i^3 for n in 1..5]"
   ]
  },
  {
   "cell_type": "code",
   "execution_count": 45,
   "metadata": {
    "collapsed": false
   },
   "outputs": [
    {
     "data": {
      "text/plain": [
       "   [8,64,216,512,1000]\n",
       "                                                  Type: List(PositiveInteger)\n"
      ]
     },
     "execution_count": 45,
     "metadata": {},
     "output_type": "execute_result"
    }
   ],
   "source": [
    "[u(2*n) for n in 1..5]"
   ]
  },
  {
   "cell_type": "code",
   "execution_count": 46,
   "metadata": {
    "collapsed": false
   },
   "outputs": [
    {
     "data": {
      "text/plain": [
       "   [8,64,216,512,1000]\n",
       "                                                  Type: List(PositiveInteger)\n"
      ]
     },
     "execution_count": 46,
     "metadata": {},
     "output_type": "execute_result"
    }
   ],
   "source": [
    "[u(i) for i in 1..10 | even? i]"
   ]
  },
  {
   "cell_type": "code",
   "execution_count": 47,
   "metadata": {
    "collapsed": false
   },
   "outputs": [
    {
     "data": {
      "text/plain": [
       "   [8,64,216,512,1000]\n",
       "                                                  Type: List(PositiveInteger)\n"
      ]
     },
     "execution_count": 47,
     "metadata": {},
     "output_type": "execute_result"
    }
   ],
   "source": [
    "[x for x in u | even? x]"
   ]
  },
  {
   "cell_type": "markdown",
   "metadata": {},
   "source": [
    " Input for page ForStreamDetailPage\n"
   ]
  },
  {
   "cell_type": "code",
   "execution_count": 48,
   "metadata": {
    "collapsed": false
   },
   "outputs": [
    {
     "name": "stdout",
     "output_type": "stream",
     "text": [
      "   All user variables and function definitions have been cleared.\n"
     ]
    },
    {
     "data": {
      "text/plain": []
     },
     "execution_count": 48,
     "metadata": {},
     "output_type": "execute_result"
    }
   ],
   "source": [
    ")clear all"
   ]
  },
  {
   "cell_type": "code",
   "execution_count": 49,
   "metadata": {
    "collapsed": false
   },
   "outputs": [
    {
     "data": {
      "text/plain": [
       "   [1,8,27,64,125,216,343,512,729,1000,...]\n",
       "                                                Type: Stream(PositiveInteger)\n"
      ]
     },
     "execution_count": 49,
     "metadata": {},
     "output_type": "execute_result"
    }
   ],
   "source": [
    "u := [i^3 for i in 1..]"
   ]
  },
  {
   "cell_type": "code",
   "execution_count": 50,
   "metadata": {
    "collapsed": false
   },
   "outputs": [
    {
     "data": {
      "text/plain": [
       "   64\n",
       "                                                        Type: PositiveInteger\n"
      ]
     },
     "execution_count": 50,
     "metadata": {},
     "output_type": "execute_result"
    }
   ],
   "source": [
    "u(4)"
   ]
  },
  {
   "cell_type": "code",
   "execution_count": 51,
   "metadata": {
    "collapsed": false
   },
   "outputs": [
    {
     "data": {
      "text/plain": [
       "   [1,8,27,64,125,216,343,512,729,1000,...]\n",
       "                                                Type: Stream(PositiveInteger)\n"
      ]
     },
     "execution_count": 51,
     "metadata": {},
     "output_type": "execute_result"
    }
   ],
   "source": [
    "u"
   ]
  },
  {
   "cell_type": "code",
   "execution_count": 52,
   "metadata": {
    "collapsed": false
   },
   "outputs": [
    {
     "data": {
      "text/plain": [
       "   4096\n",
       "                                                        Type: PositiveInteger\n"
      ]
     },
     "execution_count": 52,
     "metadata": {},
     "output_type": "execute_result"
    }
   ],
   "source": [
    "u(16)"
   ]
  },
  {
   "cell_type": "code",
   "execution_count": 53,
   "metadata": {
    "collapsed": false
   },
   "outputs": [
    {
     "data": {
      "text/plain": [
       "   [0,8,64,216,512,1000,1728,2744,4096,5832,...]\n",
       "                                             Type: Stream(NonNegativeInteger)\n"
      ]
     },
     "execution_count": 53,
     "metadata": {},
     "output_type": "execute_result"
    }
   ],
   "source": [
    "[i^3 for i in 0.. | even? i]"
   ]
  },
  {
   "cell_type": "code",
   "execution_count": 54,
   "metadata": {
    "collapsed": false
   },
   "outputs": [
    {
     "data": {
      "text/plain": [
       "   [0,8,64,216,512,1000,1728,2744,4096,5832,...]\n",
       "                                             Type: Stream(NonNegativeInteger)\n"
      ]
     },
     "execution_count": 54,
     "metadata": {},
     "output_type": "execute_result"
    }
   ],
   "source": [
    "[8*i^3 for i in 0..]"
   ]
  },
  {
   "cell_type": "code",
   "execution_count": 55,
   "metadata": {
    "collapsed": false
   },
   "outputs": [
    {
     "data": {
      "text/plain": [
       "   [0,8,64,216,512,1000,1728,2744,4096,5832,...]\n",
       "                                             Type: Stream(NonNegativeInteger)\n"
      ]
     },
     "execution_count": 55,
     "metadata": {},
     "output_type": "execute_result"
    }
   ],
   "source": [
    "[i^3 for i in 0.. by 2]"
   ]
  },
  {
   "cell_type": "code",
   "execution_count": 56,
   "metadata": {
    "collapsed": false
   },
   "outputs": [
    {
     "data": {
      "text/plain": [
       "   [8,64,216,512,1000,1728,2744,4096,5832,8000,...]\n",
       "                                                Type: Stream(PositiveInteger)\n"
      ]
     },
     "execution_count": 56,
     "metadata": {},
     "output_type": "execute_result"
    }
   ],
   "source": [
    "[u(i) for i in 1.. | even? i]"
   ]
  },
  {
   "cell_type": "code",
   "execution_count": 57,
   "metadata": {
    "collapsed": false
   },
   "outputs": [
    {
     "data": {
      "text/plain": [
       "   [8,64,216,512,1000,1728,2744,4096,5832,8000,...]\n",
       "                                                Type: Stream(PositiveInteger)\n"
      ]
     },
     "execution_count": 57,
     "metadata": {},
     "output_type": "execute_result"
    }
   ],
   "source": [
    "[u(2*i) for i in 1..]"
   ]
  },
  {
   "cell_type": "code",
   "execution_count": 58,
   "metadata": {
    "collapsed": false
   },
   "outputs": [
    {
     "data": {
      "text/plain": [
       "   [8,64,216,512,1000,1728,2744,4096,5832,8000,...]\n",
       "                                                Type: Stream(PositiveInteger)\n"
      ]
     },
     "execution_count": 58,
     "metadata": {},
     "output_type": "execute_result"
    }
   ],
   "source": [
    "[x for x in u | even? x]"
   ]
  },
  {
   "cell_type": "code",
   "execution_count": 59,
   "metadata": {
    "collapsed": false
   },
   "outputs": [
    {
     "data": {
      "text/plain": []
     },
     "execution_count": 59,
     "metadata": {},
     "output_type": "execute_result"
    }
   ],
   "source": [
    "--\n",
    "-- EOF\n",
    "--"
   ]
  }
 ],
 "metadata": {
  "kernelspec": {
   "display_name": "FriCAS",
   "language": "spad",
   "name": "ifricas"
  },
  "language_info": {
   "codemirror_mode": "spad",
   "mimetype": "text/x-spad",
   "name": "SPAD",
   "pygments_lexer": "spad",
   "version": "1.2.6"
  },
  "name": "collect.ipynb"
 },
 "nbformat": 4,
 "nbformat_minor": 0
}