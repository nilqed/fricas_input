{
 "cells": [
  {
   "cell_type": "markdown",
   "metadata": {},
   "source": [
    "Copyright The Numerical Algorithms Group Limited 1996.\n"
   ]
  },
  {
   "cell_type": "code",
   "execution_count": 0,
   "metadata": {
    "collapsed": false
   },
   "outputs": [
    {
     "name": "stdout",
     "output_type": "stream",
     "text": [
      "   Function declaration showbug1 : () -> Void has been added to \n",
      "      workspace.\n",
      "\n"
     ]
    },
    {
     "data": {
      "text/plain": [
       "                                                                   Type: Void\n"
      ]
     },
     "execution_count": 0,
     "metadata": {},
     "output_type": "execute_result"
    }
   ],
   "source": [
    "showbug1():Void ==\n",
    " for i in 1..1 repeat\n",
    "  z:=\"I'm OK\"\n",
    "  print(z)\n",
    "  showbug2()\n",
    "  print(z)"
   ]
  },
  {
   "cell_type": "code",
   "execution_count": 1,
   "metadata": {
    "collapsed": false
   },
   "outputs": [
    {
     "name": "stdout",
     "output_type": "stream",
     "text": [
      "   Function declaration showbug2 : () -> Void has been added to \n",
      "      workspace.\n",
      "\n"
     ]
    },
    {
     "data": {
      "text/plain": [
       "                                                                   Type: Void\n"
      ]
     },
     "execution_count": 1,
     "metadata": {},
     "output_type": "execute_result"
    }
   ],
   "source": [
    "showbug2():Void ==\n",
    " for i in 1..1 repeat\n",
    "  z:=\"I'm nasty\""
   ]
  },
  {
   "cell_type": "markdown",
   "metadata": {},
   "source": [
    " used to print:\n",
    " I'm OK\n",
    " I'm nasty\n"
   ]
  },
  {
   "cell_type": "code",
   "execution_count": 2,
   "metadata": {
    "collapsed": false
   },
   "outputs": [
    {
     "name": "stdout",
     "output_type": "stream",
     "text": [
      "Warning: HyperTeX macro table not found\n",
      "   Compiling function showbug2 with type () -> Void \n",
      "   Compiling function showbug1 with type () -> Void \n"
     ]
    },
    {
     "data": {
      "text/plain": [
       "   \"I'm OK\"\n",
       "   \"I'm OK\"\n",
       "                                                                   Type: Void\n"
      ]
     },
     "execution_count": 2,
     "metadata": {},
     "output_type": "execute_result"
    }
   ],
   "source": [
    "showbug1()"
   ]
  },
  {
   "cell_type": "code",
   "execution_count": 3,
   "metadata": {
    "collapsed": false
   },
   "outputs": [
    {
     "data": {
      "text/plain": []
     },
     "execution_count": 3,
     "metadata": {},
     "output_type": "execute_result"
    }
   ],
   "source": [
    "--\n",
    "-- EOF\n",
    "--"
   ]
  }
 ],
 "metadata": {
  "kernelspec": {
   "display_name": "FriCAS",
   "language": "spad",
   "name": "ifricas"
  },
  "language_info": {
   "codemirror_mode": "spad",
   "mimetype": "text/x-spad",
   "name": "SPAD",
   "pygments_lexer": "spad",
   "version": "1.2.6"
  },
  "name": "scope.ipynb"
 },
 "nbformat": 4,
 "nbformat_minor": 0
}