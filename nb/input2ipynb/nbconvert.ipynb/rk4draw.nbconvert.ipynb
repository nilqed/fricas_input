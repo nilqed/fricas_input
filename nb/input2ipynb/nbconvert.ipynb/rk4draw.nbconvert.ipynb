{
 "cells": [
  {
   "cell_type": "markdown",
   "metadata": {},
   "source": [
    "Copyright The Numerical Algorithms Group Limited 1994.\n",
    " Two scripts which can be combined to show how accurate the Runge-Kutta\n",
    " method is for simple problems.\n"
   ]
  },
  {
   "cell_type": "markdown",
   "metadata": {},
   "source": [
    " The first script finds the exact solution for  y'= cos(y)/(2+x)  given\n",
    " the initial value condition.  This is then plotted.\n"
   ]
  },
  {
   "cell_type": "code",
   "execution_count": 0,
   "metadata": {
    "collapsed": false
   },
   "outputs": [
    {
     "name": "stdout",
     "output_type": "stream",
     "text": [
      "   All user variables and function definitions have been cleared.\n"
     ]
    },
    {
     "data": {
      "text/plain": []
     },
     "execution_count": 0,
     "metadata": {},
     "output_type": "execute_result"
    }
   ],
   "source": [
    ")clear all"
   ]
  },
  {
   "cell_type": "code",
   "execution_count": 1,
   "metadata": {
    "collapsed": false
   },
   "outputs": [
    {
     "name": "stdout",
     "output_type": "stream",
     "text": [
      "Warning: HyperTeX macro table not found\n"
     ]
    },
    {
     "data": {
      "text/plain": [
       "   y\n",
       "                                                          Type: BasicOperator\n"
      ]
     },
     "execution_count": 1,
     "metadata": {},
     "output_type": "execute_result"
    }
   ],
   "source": [
    "y := operator y"
   ]
  },
  {
   "cell_type": "code",
   "execution_count": 2,
   "metadata": {
    "collapsed": false
   },
   "outputs": [
    {
     "data": {
      "text/plain": [
       "    ,     cos(y(x))\n",
       "   y (x)= ---------\n",
       "            x + 2\n",
       "                                          Type: Equation(Expression(Integer))\n"
      ]
     },
     "execution_count": 2,
     "metadata": {},
     "output_type": "execute_result"
    }
   ],
   "source": [
    "deq := D(y x,x) = cos(y x)/(2+x)"
   ]
  },
  {
   "cell_type": "code",
   "execution_count": 3,
   "metadata": {
    "collapsed": false
   },
   "outputs": [
    {
     "data": {
      "text/plain": [
       "   (x + 7)sin(y(x)) + (- x + 3)cos(y(x)) - x + 3\n",
       "   ---------------------------------------------\n",
       "             sin(y(x)) + cos(y(x)) + 1\n",
       "                                         Type: Union(Expression(Integer),...)\n"
      ]
     },
     "execution_count": 3,
     "metadata": {},
     "output_type": "execute_result"
    }
   ],
   "source": [
    "solve(deq,y,x=3,[0])"
   ]
  },
  {
   "cell_type": "code",
   "execution_count": 4,
   "metadata": {
    "collapsed": false
   },
   "outputs": [
    {
     "data": {
      "text/plain": [
       "   (x + 7)sin(z) + (- x + 3)cos(z) - x + 3\n",
       "   ---------------------------------------\n",
       "             sin(z) + cos(z) + 1\n",
       "                                                    Type: Expression(Integer)\n"
      ]
     },
     "execution_count": 4,
     "metadata": {},
     "output_type": "execute_result"
    }
   ],
   "source": [
    "eval (%,y(x)=z)"
   ]
  },
  {
   "cell_type": "code",
   "execution_count": 5,
   "metadata": {
    "collapsed": false
   },
   "outputs": [
    {
     "data": {
      "text/plain": [
       "             x - 3\n",
       "   [z= 2atan(-----)]\n",
       "             x + 7\n",
       "                                    Type: List(Equation(Expression(Integer)))\n"
      ]
     },
     "execution_count": 5,
     "metadata": {},
     "output_type": "execute_result"
    }
   ],
   "source": [
    "solve(%,z)"
   ]
  },
  {
   "cell_type": "code",
   "execution_count": 6,
   "metadata": {
    "collapsed": false
   },
   "outputs": [
    {
     "data": {
      "text/plain": [
       "            x - 3\n",
       "   z= 2atan(-----)\n",
       "            x + 7\n",
       "                                          Type: Equation(Expression(Integer))\n"
      ]
     },
     "execution_count": 6,
     "metadata": {},
     "output_type": "execute_result"
    }
   ],
   "source": [
    "%.1"
   ]
  },
  {
   "cell_type": "code",
   "execution_count": 7,
   "metadata": {
    "collapsed": false
   },
   "outputs": [
    {
     "data": {
      "text/plain": [
       "         x - 3\n",
       "   2atan(-----)\n",
       "         x + 7\n",
       "                                                    Type: Expression(Integer)\n"
      ]
     },
     "execution_count": 7,
     "metadata": {},
     "output_type": "execute_result"
    }
   ],
   "source": [
    "rhs %"
   ]
  },
  {
   "cell_type": "code",
   "execution_count": 8,
   "metadata": {
    "collapsed": false
   },
   "outputs": [
    {
     "name": "stdout",
     "output_type": "stream",
     "text": [
      "   Compiling function %BA with type DoubleFloat -> DoubleFloat \n",
      "   Graph data being transmitted to the viewport manager...\n",
      "   FriCAS2D data being transmitted to the viewport manager...\n"
     ]
    },
    {
     "data": {
      "text/plain": [
       "   TwoDimensionalViewport: \"2*atan((x+-3)/(x+7))\"\n",
       "                                                 Type: TwoDimensionalViewport\n"
      ]
     },
     "execution_count": 8,
     "metadata": {},
     "output_type": "execute_result"
    }
   ],
   "source": [
    "draw(%,x=3..4)"
   ]
  },
  {
   "cell_type": "markdown",
   "metadata": {},
   "source": [
    " The second script uses rk4 to solve the same equation form x=3..4\n",
    " Each point is merged into a list which is then plotted.\n",
    " The two graphs can then be superimposed using the pick and drop facilities.\n"
   ]
  },
  {
   "cell_type": "code",
   "execution_count": 9,
   "metadata": {
    "collapsed": false
   },
   "outputs": [
    {
     "name": "stdout",
     "output_type": "stream",
     "text": [
      "   All user variables and function definitions have been cleared.\n"
     ]
    },
    {
     "data": {
      "text/plain": []
     },
     "execution_count": 9,
     "metadata": {},
     "output_type": "execute_result"
    }
   ],
   "source": [
    ")clear all"
   ]
  },
  {
   "cell_type": "code",
   "execution_count": 10,
   "metadata": {
    "collapsed": false
   },
   "outputs": [
    {
     "data": {
      "text/plain": [
       "   [0.0]\n",
       "                                                          Type: Vector(Float)\n"
      ]
     },
     "execution_count": 10,
     "metadata": {},
     "output_type": "execute_result"
    }
   ],
   "source": [
    "y:Vector Float :=[0.0]"
   ]
  },
  {
   "cell_type": "code",
   "execution_count": 11,
   "metadata": {
    "collapsed": false
   },
   "outputs": [
    {
     "data": {
      "text/plain": [
       "   3.0\n",
       "                                                                  Type: Float\n"
      ]
     },
     "execution_count": 11,
     "metadata": {},
     "output_type": "execute_result"
    }
   ],
   "source": [
    "x1:=3.0"
   ]
  },
  {
   "cell_type": "code",
   "execution_count": 12,
   "metadata": {
    "collapsed": false
   },
   "outputs": [
    {
     "data": {
      "text/plain": [
       "   [3.0,0.0]\n",
       "                                                     Type: Point(DoubleFloat)\n"
      ]
     },
     "execution_count": 12,
     "metadata": {},
     "output_type": "execute_result"
    }
   ],
   "source": [
    "p0 := point[x1::SF,(y.1)::SF]$(Point SF)"
   ]
  },
  {
   "cell_type": "code",
   "execution_count": 13,
   "metadata": {
    "collapsed": false
   },
   "outputs": [
    {
     "data": {
      "text/plain": [
       "   1\n",
       "                                                        Type: PositiveInteger\n"
      ]
     },
     "execution_count": 13,
     "metadata": {},
     "output_type": "execute_result"
    }
   ],
   "source": [
    "n:=1"
   ]
  },
  {
   "cell_type": "code",
   "execution_count": 14,
   "metadata": {
    "collapsed": false
   },
   "outputs": [
    {
     "data": {
      "text/plain": [
       "   0.1\n",
       "                                                                  Type: Float\n"
      ]
     },
     "execution_count": 14,
     "metadata": {},
     "output_type": "execute_result"
    }
   ],
   "source": [
    "h:=0.1"
   ]
  },
  {
   "cell_type": "code",
   "execution_count": 15,
   "metadata": {
    "collapsed": false
   },
   "outputs": [
    {
     "name": "stdout",
     "output_type": "stream",
     "text": [
      "   Function declaration der : (Vector(Float),Vector(Float),Float) -> \n",
      "      Void has been added to workspace.\n"
     ]
    },
    {
     "data": {
      "text/plain": [
       "                                                                   Type: Void\n"
      ]
     },
     "execution_count": 15,
     "metadata": {},
     "output_type": "execute_result"
    }
   ],
   "source": [
    "der(d:Vector Float,y:Vector Float,x:Float):Void == setelt!(d,1,cos(y.1)/(2+x))"
   ]
  },
  {
   "cell_type": "code",
   "execution_count": 16,
   "metadata": {
    "collapsed": false
   },
   "outputs": [
    {
     "name": "stdout",
     "output_type": "stream",
     "text": [
      "   Compiling function der with type (Vector(Float),Vector(Float),Float)\n",
      "       -> Void \n"
     ]
    },
    {
     "data": {
      "text/plain": [
       "                                                                   Type: Void\n"
      ]
     },
     "execution_count": 16,
     "metadata": {},
     "output_type": "execute_result"
    }
   ],
   "source": [
    "rk4(y,n,x1,h,der)"
   ]
  },
  {
   "cell_type": "code",
   "execution_count": 17,
   "metadata": {
    "collapsed": false
   },
   "outputs": [
    {
     "data": {
      "text/plain": [
       "   [0.0198013331_6360838302]\n",
       "                                                          Type: Vector(Float)\n"
      ]
     },
     "execution_count": 17,
     "metadata": {},
     "output_type": "execute_result"
    }
   ],
   "source": [
    "y"
   ]
  },
  {
   "cell_type": "code",
   "execution_count": 18,
   "metadata": {
    "collapsed": false
   },
   "outputs": [
    {
     "data": {
      "text/plain": [
       "   3.1\n",
       "                                                                  Type: Float\n"
      ]
     },
     "execution_count": 18,
     "metadata": {},
     "output_type": "execute_result"
    }
   ],
   "source": [
    "x1:=x1+h"
   ]
  },
  {
   "cell_type": "code",
   "execution_count": 19,
   "metadata": {
    "collapsed": false
   },
   "outputs": [
    {
     "data": {
      "text/plain": [
       "   [3.0999999999999996,0.01980133316360838]\n",
       "                                                     Type: Point(DoubleFloat)\n"
      ]
     },
     "execution_count": 19,
     "metadata": {},
     "output_type": "execute_result"
    }
   ],
   "source": [
    "p1 := point[x1::SF,(y.1)::SF]$(Point SF)"
   ]
  },
  {
   "cell_type": "code",
   "execution_count": 20,
   "metadata": {
    "collapsed": false
   },
   "outputs": [
    {
     "data": {
      "text/plain": [
       "   [0.0392106616_9008301680_4]\n",
       "                                                          Type: Vector(Float)\n"
      ]
     },
     "execution_count": 20,
     "metadata": {},
     "output_type": "execute_result"
    }
   ],
   "source": [
    "rk4(y,n,x1,h,der);x1:=x1+h;y"
   ]
  },
  {
   "cell_type": "code",
   "execution_count": 21,
   "metadata": {
    "collapsed": false
   },
   "outputs": [
    {
     "data": {
      "text/plain": [
       "   [3.2,0.03921066169008301]\n",
       "                                                     Type: Point(DoubleFloat)\n"
      ]
     },
     "execution_count": 21,
     "metadata": {},
     "output_type": "execute_result"
    }
   ],
   "source": [
    "p2 := point[x1::SF,(y.1)::SF]$(Point SF)"
   ]
  },
  {
   "cell_type": "code",
   "execution_count": 22,
   "metadata": {
    "collapsed": false
   },
   "outputs": [
    {
     "data": {
      "text/plain": [
       "   [0.0582359629_7824615807_6]\n",
       "                                                          Type: Vector(Float)\n"
      ]
     },
     "execution_count": 22,
     "metadata": {},
     "output_type": "execute_result"
    }
   ],
   "source": [
    "rk4(y,n,x1,h,der);x1:=x1+h;y"
   ]
  },
  {
   "cell_type": "code",
   "execution_count": 23,
   "metadata": {
    "collapsed": false
   },
   "outputs": [
    {
     "data": {
      "text/plain": [
       "   [3.3,0.05823596297824615]\n",
       "                                                     Type: Point(DoubleFloat)\n"
      ]
     },
     "execution_count": 23,
     "metadata": {},
     "output_type": "execute_result"
    }
   ],
   "source": [
    "p3 := point[x1::SF,(y.1)::SF]$(Point SF)"
   ]
  },
  {
   "cell_type": "code",
   "execution_count": 24,
   "metadata": {
    "collapsed": false
   },
   "outputs": [
    {
     "data": {
      "text/plain": [
       "   [0.0768851799_955207399]\n",
       "                                                          Type: Vector(Float)\n"
      ]
     },
     "execution_count": 24,
     "metadata": {},
     "output_type": "execute_result"
    }
   ],
   "source": [
    "rk4(y,n,x1,h,der);x1:=x1+h;y"
   ]
  },
  {
   "cell_type": "code",
   "execution_count": 25,
   "metadata": {
    "collapsed": false
   },
   "outputs": [
    {
     "data": {
      "text/plain": [
       "   [3.4,0.07688517999552073]\n",
       "                                                     Type: Point(DoubleFloat)\n"
      ]
     },
     "execution_count": 25,
     "metadata": {},
     "output_type": "execute_result"
    }
   ],
   "source": [
    "p4 := point[x1::SF,(y.1)::SF]$(Point SF)"
   ]
  },
  {
   "cell_type": "code",
   "execution_count": 26,
   "metadata": {
    "collapsed": false
   },
   "outputs": [
    {
     "data": {
      "text/plain": [
       "   [0.0951662064_9658868713]\n",
       "                                                          Type: Vector(Float)\n"
      ]
     },
     "execution_count": 26,
     "metadata": {},
     "output_type": "execute_result"
    }
   ],
   "source": [
    "rk4(y,n,x1,h,der);x1:=x1+h;y"
   ]
  },
  {
   "cell_type": "code",
   "execution_count": 27,
   "metadata": {
    "collapsed": false
   },
   "outputs": [
    {
     "data": {
      "text/plain": [
       "   [3.5,0.09516620649658869]\n",
       "                                                     Type: Point(DoubleFloat)\n"
      ]
     },
     "execution_count": 27,
     "metadata": {},
     "output_type": "execute_result"
    }
   ],
   "source": [
    "p5 := point[x1::SF,(y.1)::SF]$(Point SF)"
   ]
  },
  {
   "cell_type": "code",
   "execution_count": 28,
   "metadata": {
    "collapsed": false
   },
   "outputs": [
    {
     "data": {
      "text/plain": [
       "   [0.1130868738_2224544775]\n",
       "                                                          Type: Vector(Float)\n"
      ]
     },
     "execution_count": 28,
     "metadata": {},
     "output_type": "execute_result"
    }
   ],
   "source": [
    "rk4(y,n,x1,h,der);x1:=x1+h;y"
   ]
  },
  {
   "cell_type": "code",
   "execution_count": 29,
   "metadata": {
    "collapsed": false
   },
   "outputs": [
    {
     "data": {
      "text/plain": [
       "   [3.5999999999999996,0.11308687382224544]\n",
       "                                                     Type: Point(DoubleFloat)\n"
      ]
     },
     "execution_count": 29,
     "metadata": {},
     "output_type": "execute_result"
    }
   ],
   "source": [
    "p6 := point[x1::SF,(y.1)::SF]$(Point SF)"
   ]
  },
  {
   "cell_type": "code",
   "execution_count": 30,
   "metadata": {
    "collapsed": false
   },
   "outputs": [
    {
     "data": {
      "text/plain": [
       "   [0.1306549391_6981838012]\n",
       "                                                          Type: Vector(Float)\n"
      ]
     },
     "execution_count": 30,
     "metadata": {},
     "output_type": "execute_result"
    }
   ],
   "source": [
    "rk4(y,n,x1,h,der);x1:=x1+h;y"
   ]
  },
  {
   "cell_type": "code",
   "execution_count": 31,
   "metadata": {
    "collapsed": false
   },
   "outputs": [
    {
     "data": {
      "text/plain": [
       "   [3.7,0.13065493916981838]\n",
       "                                                     Type: Point(DoubleFloat)\n"
      ]
     },
     "execution_count": 31,
     "metadata": {},
     "output_type": "execute_result"
    }
   ],
   "source": [
    "p7 := point[x1::SF,(y.1)::SF]$(Point SF)"
   ]
  },
  {
   "cell_type": "code",
   "execution_count": 32,
   "metadata": {
    "collapsed": false
   },
   "outputs": [
    {
     "data": {
      "text/plain": [
       "   [0.1478780752_3001477719]\n",
       "                                                          Type: Vector(Float)\n"
      ]
     },
     "execution_count": 32,
     "metadata": {},
     "output_type": "execute_result"
    }
   ],
   "source": [
    "rk4(y,n,x1,h,der);x1:=x1+h;y"
   ]
  },
  {
   "cell_type": "code",
   "execution_count": 33,
   "metadata": {
    "collapsed": false
   },
   "outputs": [
    {
     "data": {
      "text/plain": [
       "   [3.8,0.14787807523001478]\n",
       "                                                     Type: Point(DoubleFloat)\n"
      ]
     },
     "execution_count": 33,
     "metadata": {},
     "output_type": "execute_result"
    }
   ],
   "source": [
    "p8 := point[x1::SF,(y.1)::SF]$(Point SF)"
   ]
  },
  {
   "cell_type": "code",
   "execution_count": 34,
   "metadata": {
    "collapsed": false
   },
   "outputs": [
    {
     "data": {
      "text/plain": [
       "   [0.1647638610_8904260634]\n",
       "                                                          Type: Vector(Float)\n"
      ]
     },
     "execution_count": 34,
     "metadata": {},
     "output_type": "execute_result"
    }
   ],
   "source": [
    "rk4(y,n,x1,h,der);x1:=x1+h;y"
   ]
  },
  {
   "cell_type": "code",
   "execution_count": 35,
   "metadata": {
    "collapsed": false
   },
   "outputs": [
    {
     "data": {
      "text/plain": [
       "   [3.9,0.16476386108904262]\n",
       "                                                     Type: Point(DoubleFloat)\n"
      ]
     },
     "execution_count": 35,
     "metadata": {},
     "output_type": "execute_result"
    }
   ],
   "source": [
    "p9 := point[x1::SF,(y.1)::SF]$(Point SF)"
   ]
  },
  {
   "cell_type": "code",
   "execution_count": 36,
   "metadata": {
    "collapsed": false
   },
   "outputs": [
    {
     "data": {
      "text/plain": [
       "   [0.1813197742_9917755967]\n",
       "                                                          Type: Vector(Float)\n"
      ]
     },
     "execution_count": 36,
     "metadata": {},
     "output_type": "execute_result"
    }
   ],
   "source": [
    "rk4(y,n,x1,h,der);x1:=x1+h;y"
   ]
  },
  {
   "cell_type": "code",
   "execution_count": 37,
   "metadata": {
    "collapsed": false
   },
   "outputs": [
    {
     "data": {
      "text/plain": [
       "   [4.0,0.18131977429917756]\n",
       "                                                     Type: Point(DoubleFloat)\n"
      ]
     },
     "execution_count": 37,
     "metadata": {},
     "output_type": "execute_result"
    }
   ],
   "source": [
    "p10 := point[x1::SF,(y.1)::SF]$(Point SF)"
   ]
  },
  {
   "cell_type": "code",
   "execution_count": 38,
   "metadata": {
    "collapsed": false
   },
   "outputs": [
    {
     "name": "stdout",
     "output_type": "stream",
     "text": [
      "\n",
      "\n",
      "\n",
      "\n",
      "\n",
      "\n",
      "\n",
      "\n",
      "\n",
      "\n",
      "\n"
     ]
    },
    {
     "data": {
      "text/plain": [
       "   [[[3.0,0.0],[3.0999999999999996,0.01980133316360838]],\n",
       "    [[3.0999999999999996,0.01980133316360838],[3.2,0.03921066169008301]],\n",
       "    [[3.2,0.03921066169008301],[3.3,0.05823596297824615]],\n",
       "    [[3.3,0.05823596297824615],[3.4,0.07688517999552073]],\n",
       "    [[3.4,0.07688517999552073],[3.5,0.09516620649658869]],\n",
       "    [[3.5,0.09516620649658869],[3.5999999999999996,0.11308687382224544]],\n",
       "    [[3.5999999999999996,0.11308687382224544],[3.7,0.13065493916981838]],\n",
       "    [[3.7,0.13065493916981838],[3.8,0.14787807523001478]],\n",
       "    [[3.8,0.14787807523001478],[3.9,0.16476386108904262]],\n",
       "    [[3.9,0.16476386108904262],[4.0,0.18131977429917756]]]\n",
       "                                         Type: List(List(Point(DoubleFloat)))\n"
      ]
     },
     "execution_count": 38,
     "metadata": {},
     "output_type": "execute_result"
    }
   ],
   "source": [
    "llp := [[p0,p1],[p1,p2],[p2,p3],[p3,p4],[p4,p5],_\n",
    "       [p5,p6],[p6,p7],[p7,p8],[p8,p9],[p9,p10]]\n"
   ]
  },
  {
   "cell_type": "code",
   "execution_count": 39,
   "metadata": {
    "collapsed": false
   },
   "outputs": [
    {
     "data": {
      "text/plain": [
       "   [Hue: 14  Weight: 1.0] from the Dim palette\n",
       "                                                                Type: Palette\n"
      ]
     },
     "execution_count": 39,
     "metadata": {},
     "output_type": "execute_result"
    }
   ],
   "source": [
    "pc2 := dim green()"
   ]
  },
  {
   "cell_type": "code",
   "execution_count": 40,
   "metadata": {
    "collapsed": false
   },
   "outputs": [
    {
     "name": "stdout",
     "output_type": "stream",
     "text": [
      "\n",
      "\n",
      "\n",
      "\n",
      "\n",
      "\n",
      "\n",
      "\n",
      "\n",
      "\n"
     ]
    },
    {
     "data": {
      "text/plain": [
       "   [[Hue: 14  Weight: 1.0] from the Dim palette,\n",
       "    [Hue: 14  Weight: 1.0] from the Dim palette,\n",
       "    [Hue: 14  Weight: 1.0] from the Dim palette,\n",
       "    [Hue: 14  Weight: 1.0] from the Dim palette,\n",
       "    [Hue: 14  Weight: 1.0] from the Dim palette,\n",
       "    [Hue: 14  Weight: 1.0] from the Dim palette,\n",
       "    [Hue: 14  Weight: 1.0] from the Dim palette,\n",
       "    [Hue: 14  Weight: 1.0] from the Dim palette,\n",
       "    [Hue: 14  Weight: 1.0] from the Dim palette,\n",
       "    [Hue: 14  Weight: 1.0] from the Dim palette]\n",
       "                                                          Type: List(Palette)\n"
      ]
     },
     "execution_count": 40,
     "metadata": {},
     "output_type": "execute_result"
    }
   ],
   "source": [
    "lpc := [pc2, pc2, pc2, pc2, pc2, pc2, pc2, pc2, pc2, pc2]"
   ]
  },
  {
   "cell_type": "code",
   "execution_count": 41,
   "metadata": {
    "collapsed": false
   },
   "outputs": [
    {
     "name": "stdout",
     "output_type": "stream",
     "text": [
      "\n",
      "\n",
      "\n",
      "\n",
      "\n",
      "\n",
      "\n",
      "\n",
      "\n",
      "\n",
      "\n"
     ]
    },
    {
     "data": {
      "text/plain": [
       "   [[Hue: 22  Weight: 1.0] from the Pastel palette,\n",
       "    [Hue: 11  Weight: 1.0] from the Light palette,\n",
       "    [Hue: 14  Weight: 1.0] from the Dim palette,\n",
       "    [Hue: 1  Weight: 1.0] from the Bright palette,\n",
       "    [Hue: 14  Weight: 1.0] from the Light palette,\n",
       "    [Hue: 11  Weight: 1.0] from the Dim palette,\n",
       "    [Hue: 22  Weight: 1.0] from the Bright palette,\n",
       "    [Hue: 1  Weight: 1.0] from the Dark palette,\n",
       "    [Hue: 1  Weight: 1.0] from the Pastel palette,\n",
       "    [Hue: 22  Weight: 1.0] from the Light palette]\n",
       "                                                          Type: List(Palette)\n"
      ]
     },
     "execution_count": 41,
     "metadata": {},
     "output_type": "execute_result"
    }
   ],
   "source": [
    "lc := [pastel blue(), light yellow(), dim green(),_\n",
    "       bright red(), light green(),dim yellow(), _\n",
    "       bright blue(),dark red(), pastel red(), light blue()]\n"
   ]
  },
  {
   "cell_type": "code",
   "execution_count": 42,
   "metadata": {
    "collapsed": false
   },
   "outputs": [
    {
     "data": {
      "text/plain": [
       "   4\n",
       "                                                        Type: PositiveInteger\n"
      ]
     },
     "execution_count": 42,
     "metadata": {},
     "output_type": "execute_result"
    }
   ],
   "source": [
    "size1 := 4::PositiveInteger"
   ]
  },
  {
   "cell_type": "code",
   "execution_count": 43,
   "metadata": {
    "collapsed": false
   },
   "outputs": [
    {
     "data": {
      "text/plain": [
       "   [4,4,4,4,4,4,4,4,4,4]\n",
       "                                                  Type: List(PositiveInteger)\n"
      ]
     },
     "execution_count": 43,
     "metadata": {},
     "output_type": "execute_result"
    }
   ],
   "source": [
    "lsize := [size1, size1, size1, size1, size1, size1, size1, size1, size1, size1]"
   ]
  },
  {
   "cell_type": "code",
   "execution_count": 44,
   "metadata": {
    "collapsed": false
   },
   "outputs": [
    {
     "data": {
      "text/plain": [
       "   Graph with 10 point lists\n",
       "                                                             Type: GraphImage\n"
      ]
     },
     "execution_count": 44,
     "metadata": {},
     "output_type": "execute_result"
    }
   ],
   "source": [
    "g:= makeGraphImage(llp,lpc,lc,lsize)$GRIMAGE"
   ]
  },
  {
   "cell_type": "code",
   "execution_count": 45,
   "metadata": {
    "collapsed": false
   },
   "outputs": [
    {
     "name": "stdout",
     "output_type": "stream",
     "text": [
      "   Graph data being transmitted to the viewport manager...\n",
      "   FriCAS2D data being transmitted to the viewport manager...\n"
     ]
    },
    {
     "data": {
      "text/plain": [
       "   TwoDimensionalViewport: \"RK4\"\n",
       "                                                 Type: TwoDimensionalViewport\n"
      ]
     },
     "execution_count": 45,
     "metadata": {},
     "output_type": "execute_result"
    }
   ],
   "source": [
    "makeViewport2D(g,[title(\"RK4\")])$VIEW2D"
   ]
  },
  {
   "cell_type": "code",
   "execution_count": 46,
   "metadata": {
    "collapsed": false
   },
   "outputs": [
    {
     "data": {
      "text/plain": []
     },
     "execution_count": 46,
     "metadata": {},
     "output_type": "execute_result"
    }
   ],
   "source": [
    "--\n",
    "-- EOF\n",
    "--"
   ]
  }
 ],
 "metadata": {
  "kernelspec": {
   "display_name": "FriCAS",
   "language": "spad",
   "name": "ifricas"
  },
  "language_info": {
   "codemirror_mode": "spad",
   "mimetype": "text/x-spad",
   "name": "SPAD",
   "pygments_lexer": "spad",
   "version": "1.2.6"
  },
  "name": "rk4draw.ipynb"
 },
 "nbformat": 4,
 "nbformat_minor": 0
}