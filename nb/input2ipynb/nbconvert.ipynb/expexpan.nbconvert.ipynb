{
 "cells": [
  {
   "cell_type": "markdown",
   "metadata": {},
   "source": [
    "Copyright The Numerical Algorithms Group Limited MCMXCII.\n"
   ]
  },
  {
   "cell_type": "markdown",
   "metadata": {},
   "source": [
    "% ExponentialExpansion\n",
    " We compute exponential expansions and right hand limits.\n",
    " Author: Clifton J. Williamson\n",
    " Date Created: 27 August 1992\n",
    " Date Last Updated: 27 August 1992\n",
    " Keywords: Exponential expansion, limit, right-hand limit\n",
    " References:\n"
   ]
  },
  {
   "cell_type": "code",
   "execution_count": 0,
   "metadata": {
    "collapsed": false
   },
   "outputs": [
    {
     "data": {
      "text/plain": [
       "                                                                   Type: Void\n"
      ]
     },
     "execution_count": 0,
     "metadata": {},
     "output_type": "execute_result"
    }
   ],
   "source": [
    "xxp f == exprToXXP(f,true)$FS2EXPXP(INT,EXPR INT,x,0)"
   ]
  },
  {
   "cell_type": "code",
   "execution_count": 1,
   "metadata": {
    "collapsed": false
   },
   "outputs": [
    {
     "name": "stdout",
     "output_type": "stream",
     "text": [
      "Warning: HyperTeX macro table not found\n"
     ]
    },
    {
     "data": {
      "text/plain": [
       "       3x + 1                2x + 1\n",
       "       ------                ------\n",
       "          3                     3\n",
       "         x     b     2         x\n",
       "   - %e      %e  + (a  + 1)%e\n",
       "                                                    Type: Expression(Integer)\n"
      ]
     },
     "execution_count": 1,
     "metadata": {},
     "output_type": "execute_result"
    }
   ],
   "source": [
    "f1 := (a^2 + 1) * exp(1/x^3 + 2/x^2) - exp(b) * exp(1/x^3 + 3/x^2)"
   ]
  },
  {
   "cell_type": "code",
   "execution_count": 2,
   "metadata": {
    "collapsed": false
   },
   "outputs": [
    {
     "name": "stdout",
     "output_type": "stream",
     "text": [
      "   Compiling function xxp with type Expression(Integer) -> Union(\n",
      "      %expansion: ExponentialExpansion(Integer,Expression(Integer),x,0)\n",
      "      ,%problem: Record(func: String,prob: String)) \n"
     ]
    },
    {
     "data": {
      "text/plain": [
       "           - 3     - 2              - 3     - 2\n",
       "       b  x    + 3x        2       x    + 2x\n",
       "   - %e %e             + (a  + 1)%e\n",
       "Type: Union(%expansion: ExponentialExpansion(Integer,Expression(Integer),x,0),...)\n"
      ]
     },
     "execution_count": 2,
     "metadata": {},
     "output_type": "execute_result"
    }
   ],
   "source": [
    "x1 := xxp f1"
   ]
  },
  {
   "cell_type": "code",
   "execution_count": 3,
   "metadata": {
    "collapsed": false
   },
   "outputs": [
    {
     "data": {
      "text/plain": [
       "   - infinity\n",
       "                      Type: Union(OrderedCompletion(Expression(Integer)),...)\n"
      ]
     },
     "execution_count": 3,
     "metadata": {},
     "output_type": "execute_result"
    }
   ],
   "source": [
    "limitPlus x1   -- %minusInfinity"
   ]
  },
  {
   "cell_type": "code",
   "execution_count": 4,
   "metadata": {
    "collapsed": false
   },
   "outputs": [
    {
     "data": {
      "text/plain": [
       "       3x - 1                2x + 1\n",
       "       ------                ------\n",
       "          3                     3\n",
       "         x     b     2         x\n",
       "   - %e      %e  + (a  + 1)%e\n",
       "                                                    Type: Expression(Integer)\n"
      ]
     },
     "execution_count": 4,
     "metadata": {},
     "output_type": "execute_result"
    }
   ],
   "source": [
    "f2 := (a^2 + 1) * exp(1/x^3 + 2/x^2) - exp(b) * exp(-1/x^3 + 3/x^2)"
   ]
  },
  {
   "cell_type": "code",
   "execution_count": 5,
   "metadata": {
    "collapsed": false
   },
   "outputs": [
    {
     "data": {
      "text/plain": [
       "              - 3     - 2           - 3     - 2\n",
       "     2       x    + 2x        b  - x    + 3x\n",
       "   (a  + 1)%e             - %e %e\n",
       "Type: Union(%expansion: ExponentialExpansion(Integer,Expression(Integer),x,0),...)\n"
      ]
     },
     "execution_count": 5,
     "metadata": {},
     "output_type": "execute_result"
    }
   ],
   "source": [
    "x2 := xxp f2"
   ]
  },
  {
   "cell_type": "code",
   "execution_count": 6,
   "metadata": {
    "collapsed": false
   },
   "outputs": [
    {
     "data": {
      "text/plain": [
       "    + infinity\n",
       "                      Type: Union(OrderedCompletion(Expression(Integer)),...)\n"
      ]
     },
     "execution_count": 6,
     "metadata": {},
     "output_type": "execute_result"
    }
   ],
   "source": [
    "limitPlus x2   -- %plusInfinity"
   ]
  },
  {
   "cell_type": "code",
   "execution_count": 7,
   "metadata": {
    "collapsed": false
   },
   "outputs": [
    {
     "data": {
      "text/plain": [
       "        c                 1\n",
       "       --                --\n",
       "        2                 3\n",
       "       x   b     2       x\n",
       "   - %e  %e  + (a  + 1)%e\n",
       "                                                    Type: Expression(Integer)\n"
      ]
     },
     "execution_count": 7,
     "metadata": {},
     "output_type": "execute_result"
    }
   ],
   "source": [
    "f3 := (a^2 + 1) * exp(1/x^3) - exp(b) * exp(c/x^2)"
   ]
  },
  {
   "cell_type": "code",
   "execution_count": 8,
   "metadata": {
    "collapsed": false
   },
   "outputs": [
    {
     "data": {
      "text/plain": [
       "              - 3           - 2\n",
       "     2       x        b  c x\n",
       "   (a  + 1)%e     - %e %e\n",
       "Type: Union(%expansion: ExponentialExpansion(Integer,Expression(Integer),x,0),...)\n"
      ]
     },
     "execution_count": 8,
     "metadata": {},
     "output_type": "execute_result"
    }
   ],
   "source": [
    "x3 := xxp f3"
   ]
  },
  {
   "cell_type": "code",
   "execution_count": 9,
   "metadata": {
    "collapsed": false
   },
   "outputs": [
    {
     "data": {
      "text/plain": [
       "    + infinity\n",
       "                      Type: Union(OrderedCompletion(Expression(Integer)),...)\n"
      ]
     },
     "execution_count": 9,
     "metadata": {},
     "output_type": "execute_result"
    }
   ],
   "source": [
    "limitPlus x3   -- %plusInfinity"
   ]
  },
  {
   "cell_type": "code",
   "execution_count": 10,
   "metadata": {
    "collapsed": false
   },
   "outputs": [
    {
     "data": {
      "text/plain": [
       "        c                   1\n",
       "       --                - --\n",
       "        2                   3\n",
       "       x   b     2         x\n",
       "   - %e  %e  + (a  + 1)%e\n",
       "                                                    Type: Expression(Integer)\n"
      ]
     },
     "execution_count": 10,
     "metadata": {},
     "output_type": "execute_result"
    }
   ],
   "source": [
    "f4 := (a^2 + 1) * exp(-1/x^3) - exp(b) * exp(c/x^2)"
   ]
  },
  {
   "cell_type": "code",
   "execution_count": 11,
   "metadata": {
    "collapsed": false
   },
   "outputs": [
    {
     "data": {
      "text/plain": [
       "                - 3           - 2\n",
       "     2       - x        b  c x\n",
       "   (a  + 1)%e       - %e %e\n",
       "Type: Union(%expansion: ExponentialExpansion(Integer,Expression(Integer),x,0),...)\n"
      ]
     },
     "execution_count": 11,
     "metadata": {},
     "output_type": "execute_result"
    }
   ],
   "source": [
    "x4 := xxp f4"
   ]
  },
  {
   "cell_type": "code",
   "execution_count": 12,
   "metadata": {
    "collapsed": false
   },
   "outputs": [
    {
     "data": {
      "text/plain": [
       "   \"failed\"\n",
       "                                                    Type: Union(\"failed\",...)\n"
      ]
     },
     "execution_count": 12,
     "metadata": {},
     "output_type": "execute_result"
    }
   ],
   "source": [
    "limitPlus x4   -- \"failed\""
   ]
  },
  {
   "cell_type": "code",
   "execution_count": 13,
   "metadata": {
    "collapsed": false
   },
   "outputs": [
    {
     "data": {
      "text/plain": [
       "       1     - x + 1\n",
       "      --     -------            1\n",
       "       2         2              -\n",
       "      x         x               x\n",
       "   (%e   - %e       )tan(x) + %e sin(x)\n",
       "                                                    Type: Expression(Integer)\n"
      ]
     },
     "execution_count": 13,
     "metadata": {},
     "output_type": "execute_result"
    }
   ],
   "source": [
    "p5 := tan(x) * exp(1/x^2) - tan(x) * exp(1/x^2 - 1/x) + sin(x) * exp(1/x)"
   ]
  },
  {
   "cell_type": "code",
   "execution_count": 14,
   "metadata": {
    "collapsed": false
   },
   "outputs": [
    {
     "data": {
      "text/plain": [
       "     x - 1            - x - 1\n",
       "     -----            -------\n",
       "        2                 2\n",
       "       x                 x\n",
       "   %e     sin(x) - 4%e\n",
       "                                                    Type: Expression(Integer)\n"
      ]
     },
     "execution_count": 14,
     "metadata": {},
     "output_type": "execute_result"
    }
   ],
   "source": [
    "q5 := -4 * exp(-1/x^2 - 1/x) + sin(x) * exp(-1/x^2 + 1/x)"
   ]
  },
  {
   "cell_type": "code",
   "execution_count": 15,
   "metadata": {
    "collapsed": false
   },
   "outputs": [
    {
     "data": {
      "text/plain": [
       "       1     - x + 1\n",
       "      --     -------            1\n",
       "       2         2              -\n",
       "      x         x               x\n",
       "   (%e   - %e       )tan(x) + %e sin(x)\n",
       "   ------------------------------------\n",
       "          x - 1            - x - 1\n",
       "          -----            -------\n",
       "             2                 2\n",
       "            x                 x\n",
       "        %e     sin(x) - 4%e\n",
       "                                                    Type: Expression(Integer)\n"
      ]
     },
     "execution_count": 15,
     "metadata": {},
     "output_type": "execute_result"
    }
   ],
   "source": [
    "f5 := p5 / q5"
   ]
  },
  {
   "cell_type": "code",
   "execution_count": 16,
   "metadata": {
    "collapsed": false
   },
   "outputs": [
    {
     "name": "stdout",
     "output_type": "stream",
     "text": [
      "                          "
     ]
    },
    {
     "data": {
      "text/plain": [
       "                1  3    1   5     1   7      1    9       1     11      12\n",
       "         (- x + - x  - --- x  + ---- x  - ------ x  + -------- x   + O(x  ))\n",
       "                6      120      5040      362880      39916800\n",
       "      *\n",
       "            - 2    - 1\n",
       "           x    - x\n",
       "         %e\n",
       "     + \n",
       "                                                                           - 2\n",
       "            1  3    1   5     1   7      1    9       1     11      12    x\n",
       "       (x - - x  + --- x  - ---- x  + ------ x  - -------- x   + O(x  ))%e\n",
       "            6      120      5040      362880      39916800\n",
       "     + \n",
       "                                                                     - 1\n",
       "            2  3    2  5    4   7     2   9      4    11      12    x\n",
       "       (x - - x  + -- x  - --- x  + ---- x  - ------ x   + O(x  ))%e\n",
       "            3      15      315      2835      155925\n",
       "  /\n",
       "              2  3    2  5    4   7     2   9      4    11      12\n",
       "         (x - - x  + -- x  - --- x  + ---- x  - ------ x   + O(x  ))\n",
       "              3      15      315      2835      155925\n",
       "      *\n",
       "              - 2    - 1\n",
       "           - x    + x\n",
       "         %e\n",
       "     + \n",
       "                                                                      - 2    - 1\n",
       "              2   1  4    1   6     1    8      1    10      11    - x    - x\n",
       "     (- 4 + 2x  - - x  + --- x  - ----- x  + ------ x   + O(x  ))%e\n",
       "                  6      180      10080      907200\n",
       "Type: Union(%expansion: ExponentialExpansion(Integer,Expression(Integer),x,0),...)\n"
      ]
     },
     "execution_count": 16,
     "metadata": {},
     "output_type": "execute_result"
    }
   ],
   "source": [
    "x5 := xxp f5"
   ]
  },
  {
   "cell_type": "code",
   "execution_count": 17,
   "metadata": {
    "collapsed": false
   },
   "outputs": [
    {
     "data": {
      "text/plain": [
       "    + infinity\n",
       "                      Type: Union(OrderedCompletion(Expression(Integer)),...)\n"
      ]
     },
     "execution_count": 17,
     "metadata": {},
     "output_type": "execute_result"
    }
   ],
   "source": [
    "limitPlus x5   -- %plusInfinity"
   ]
  },
  {
   "cell_type": "code",
   "execution_count": 18,
   "metadata": {
    "collapsed": false
   },
   "outputs": [
    {
     "data": {
      "text/plain": []
     },
     "execution_count": 18,
     "metadata": {},
     "output_type": "execute_result"
    }
   ],
   "source": [
    "--\n",
    "-- EOF\n",
    "--"
   ]
  }
 ],
 "metadata": {
  "kernelspec": {
   "display_name": "FriCAS",
   "language": "spad",
   "name": "ifricas"
  },
  "language_info": {
   "codemirror_mode": "spad",
   "mimetype": "text/x-spad",
   "name": "SPAD",
   "pygments_lexer": "spad",
   "version": "1.2.6"
  },
  "name": "expexpan.ipynb"
 },
 "nbformat": 4,
 "nbformat_minor": 0
}