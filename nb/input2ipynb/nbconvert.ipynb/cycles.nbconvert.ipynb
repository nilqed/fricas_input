{
 "cells": [
  {
   "cell_type": "markdown",
   "metadata": {},
   "source": [
    "Copyright The Numerical Algorithms Group Limited 1994.\n"
   ]
  },
  {
   "cell_type": "markdown",
   "metadata": {},
   "source": [
    "Examples of Polya-Redfield enumeration methods.\n",
    "\n",
    "This file is based upon the paper\n",
    "J.H.Redfield 'The Theory of Group-Reduced Distributions'\n",
    "American J. Math.,49 (1927) 433-455,\n",
    "and is an application of group theory to enumeration problems.\n",
    "It is a development of the work by P.A.MacMahon on the\n",
    "application of symmetric functions and Hammond operators to\n",
    "combinatorial theory.\n",
    "\n",
    "The theory is based upon the symmetric functions s   which are the\n",
    "                                                   i\n",
    "sum of the i th powers of the variables.\n",
    "The cycle index of a permutation may be represented as a partition.\n",
    " For example, the partition\n",
    "   2     2                                2      2\n",
    " (3  2 1  )  will be used to represent  s   s  s   and\n",
    "                                          3  2  1\n",
    " will indicate that the permutation has two cycles of length 3,\n",
    " one of length 2 and two of length 1.\n",
    "The cycle index of a permutation group is the sum of the cycle indices\n",
    "of its permutations divided by the number of permutations.\n",
    "\n",
    "The cycle indices of certain groups are provided.\n",
    "complete n is the cycle index of the symmetric group of order n\n"
   ]
  },
  {
   "cell_type": "code",
   "execution_count": 0,
   "metadata": {
    "collapsed": false
   },
   "outputs": [
    {
     "name": "stdout",
     "output_type": "stream",
     "text": [
      "   All user variables and function definitions have been cleared.\n"
     ]
    },
    {
     "data": {
      "text/plain": []
     },
     "execution_count": 0,
     "metadata": {},
     "output_type": "execute_result"
    }
   ],
   "source": [
    ")clear all"
   ]
  },
  {
   "cell_type": "code",
   "execution_count": 1,
   "metadata": {
    "collapsed": false
   },
   "outputs": [
    {
     "name": "stdout",
     "output_type": "stream",
     "text": [
      "   EvaluateCycleIndicators is now explicitly exposed in frame initial \n"
     ]
    },
    {
     "data": {
      "text/plain": []
     },
     "execution_count": 1,
     "metadata": {},
     "output_type": "execute_result"
    }
   ],
   "source": [
    ")expose EVALCYC"
   ]
  },
  {
   "cell_type": "code",
   "execution_count": 2,
   "metadata": {
    "collapsed": false
   },
   "outputs": [
    {
     "name": "stdout",
     "output_type": "stream",
     "text": [
      "Warning: HyperTeX macro table not found\n"
     ]
    },
    {
     "data": {
      "text/plain": [
       "   (1)\n",
       "                                 Type: SymmetricPolynomial(Fraction(Integer))\n"
      ]
     },
     "execution_count": 2,
     "metadata": {},
     "output_type": "execute_result"
    }
   ],
   "source": [
    "complete 1"
   ]
  },
  {
   "cell_type": "markdown",
   "metadata": {},
   "source": [
    "\n",
    "   (1)  (1)\n",
    "\n"
   ]
  },
  {
   "cell_type": "code",
   "execution_count": 3,
   "metadata": {
    "collapsed": false
   },
   "outputs": [
    {
     "data": {
      "text/plain": [
       "   1       1   2\n",
       "   - (2) + - (1 )\n",
       "   2       2\n",
       "                                 Type: SymmetricPolynomial(Fraction(Integer))\n"
      ]
     },
     "execution_count": 3,
     "metadata": {},
     "output_type": "execute_result"
    }
   ],
   "source": [
    "complete 2"
   ]
  },
  {
   "cell_type": "markdown",
   "metadata": {},
   "source": [
    "\n",
    "        1       1   2\n",
    "   (2)  - (2) + - (1 )\n",
    "        2       2\n",
    "\n"
   ]
  },
  {
   "cell_type": "code",
   "execution_count": 4,
   "metadata": {
    "collapsed": false
   },
   "outputs": [
    {
     "data": {
      "text/plain": [
       "   1       1         1   3\n",
       "   - (3) + - (2 1) + - (1 )\n",
       "   3       2         6\n",
       "                                 Type: SymmetricPolynomial(Fraction(Integer))\n"
      ]
     },
     "execution_count": 4,
     "metadata": {},
     "output_type": "execute_result"
    }
   ],
   "source": [
    "complete 3"
   ]
  },
  {
   "cell_type": "markdown",
   "metadata": {},
   "source": [
    "\n",
    "        1       1         1   3\n",
    "   (3)  - (3) + - (2 1) + - (1 )\n",
    "        3       2         6\n",
    "\n",
    "\n"
   ]
  },
  {
   "cell_type": "code",
   "execution_count": 5,
   "metadata": {
    "collapsed": false
   },
   "outputs": [
    {
     "name": "stdout",
     "output_type": "stream",
     "text": [
      "    "
     ]
    },
    {
     "data": {
      "text/plain": [
       "     1       1          1          1     2     1         1            1     3\n",
       "     - (7) + - (6 1) + -- (5 2) + -- (5 1 ) + -- (4 3) + - (4 2 1) + -- (4 1 )\n",
       "     7       6         10         10          12         8           24\n",
       "   + \n",
       "      1   2      1     2     1       2     1     4     1   3      1   2 3\n",
       "     -- (3 1) + -- (3 2 ) + -- (3 2 1 ) + -- (3 1 ) + -- (2 1) + -- (2 1 )\n",
       "     18         24          12            72          48         48\n",
       "   + \n",
       "      1      5      1    7\n",
       "     --- (2 1 ) + ---- (1 )\n",
       "     240          5040\n",
       "                                 Type: SymmetricPolynomial(Fraction(Integer))\n"
      ]
     },
     "execution_count": 5,
     "metadata": {},
     "output_type": "execute_result"
    }
   ],
   "source": [
    "complete 7"
   ]
  },
  {
   "cell_type": "markdown",
   "metadata": {},
   "source": [
    "\n",
    "   (7)\n",
    "     1       1         1          1      2    1          1           1      3\n",
    "     - (7) + - (6 1) + -- (5 2) + -- (5 1 ) + -- (4 3) + - (4 2 1) + -- (4 1 )\n",
    "     7       6         10         10          12         8           24\n",
    "   +\n",
    "     1    2     1      2    1        2    1      4    1    3     1    2 3\n",
    "     -- (3 1) + -- (3 2 ) + -- (3 2 1 ) + -- (3 1 ) + -- (2 1) + -- (2 1 )\n",
    "     18         24          12            72          48         48\n",
    "   +\n",
    "      1      5     1     7\n",
    "     --- (2 1 ) + ---- (1 )\n",
    "     240          5040\n",
    "\n",
    "elementary n is the nth elementary symmetric function.\n",
    "\n"
   ]
  },
  {
   "cell_type": "code",
   "execution_count": 6,
   "metadata": {
    "collapsed": false
   },
   "outputs": [
    {
     "name": "stdout",
     "output_type": "stream",
     "text": [
      "    "
     ]
    },
    {
     "data": {
      "text/plain": [
       "     1       1          1          1     2     1         1            1     3\n",
       "     - (7) - - (6 1) - -- (5 2) + -- (5 1 ) - -- (4 3) + - (4 2 1) - -- (4 1 )\n",
       "     7       6         10         10          12         8           24\n",
       "   + \n",
       "      1   2      1     2     1       2     1     4     1   3      1   2 3\n",
       "     -- (3 1) + -- (3 2 ) - -- (3 2 1 ) + -- (3 1 ) - -- (2 1) + -- (2 1 )\n",
       "     18         24          12            72          48         48\n",
       "   + \n",
       "        1      5      1    7\n",
       "     - --- (2 1 ) + ---- (1 )\n",
       "       240          5040\n",
       "                                 Type: SymmetricPolynomial(Fraction(Integer))\n"
      ]
     },
     "execution_count": 6,
     "metadata": {},
     "output_type": "execute_result"
    }
   ],
   "source": [
    "elementary 7"
   ]
  },
  {
   "cell_type": "markdown",
   "metadata": {},
   "source": [
    "\n",
    "   (8)\n",
    "     1       1         1          1      2    1          1           1      3\n",
    "     - (7) - - (6 1) - -- (5 2) + -- (5 1 ) - -- (4 3) + - (4 2 1) - -- (4 1 )\n",
    "     7       6         10         10          12         8           24\n",
    "   +\n",
    "     1    2     1      2    1        2    1      4    1    3     1    2 3\n",
    "     -- (3 1) + -- (3 2 ) - -- (3 2 1 ) + -- (3 1 ) - -- (2 1) + -- (2 1 )\n",
    "     18         24          12            72          48         48\n",
    "   +\n",
    "        1      5     1     7\n",
    "     - --- (2 1 ) + ---- (1 )\n",
    "       240          5040\n",
    "\n",
    "alternating n is the cycle index of the alternating group\n",
    "having an even number of even parts in each cycle partition.\n",
    "\n"
   ]
  },
  {
   "cell_type": "code",
   "execution_count": 7,
   "metadata": {
    "collapsed": false
   },
   "outputs": [
    {
     "name": "stdout",
     "output_type": "stream",
     "text": [
      "  "
     ]
    },
    {
     "data": {
      "text/plain": [
       "     2       1     2    1           1   2      1     2     1     4     1   2 3\n",
       "     - (7) + - (5 1 ) + - (4 2 1) + - (3 1) + -- (3 2 ) + -- (3 1 ) + -- (2 1 )\n",
       "     7       5          4           9         12          36          24\n",
       "   + \n",
       "       1    7\n",
       "     ---- (1 )\n",
       "     2520\n",
       "                                 Type: SymmetricPolynomial(Fraction(Integer))\n"
      ]
     },
     "execution_count": 7,
     "metadata": {},
     "output_type": "execute_result"
    }
   ],
   "source": [
    "alternating 7"
   ]
  },
  {
   "cell_type": "markdown",
   "metadata": {},
   "source": [
    "\n",
    "   (9)\n",
    "     2       1     2    1           1   2     1      2    1      4    1    2 3\n",
    "     - (7) + - (5 1 ) + - (4 2 1) + - (3 1) + -- (3 2 ) + -- (3 1 ) + -- (2 1 )\n",
    "     7       5          4           9         12          36          24\n",
    "   +\n",
    "      1     7\n",
    "     ---- (1 )\n",
    "     2520\n",
    "\n",
    "\n",
    "cyclic n is the cycle index of the cyclic group\n"
   ]
  },
  {
   "cell_type": "code",
   "execution_count": 8,
   "metadata": {
    "collapsed": false
   },
   "outputs": [
    {
     "data": {
      "text/plain": [
       "   6       1   7\n",
       "   - (7) + - (1 )\n",
       "   7       7\n",
       "                                 Type: SymmetricPolynomial(Fraction(Integer))\n"
      ]
     },
     "execution_count": 8,
     "metadata": {},
     "output_type": "execute_result"
    }
   ],
   "source": [
    "cyclic 7"
   ]
  },
  {
   "cell_type": "markdown",
   "metadata": {},
   "source": [
    "\n",
    "         6       1   7\n",
    "   (10)  - (7) + - (1 )\n",
    "         7       7\n",
    "\n",
    "dihedral n is the cycle index of the dihedral group\n",
    "\n"
   ]
  },
  {
   "cell_type": "code",
   "execution_count": 9,
   "metadata": {
    "collapsed": false
   },
   "outputs": [
    {
     "data": {
      "text/plain": [
       "   3       1   3      1   7\n",
       "   - (7) + - (2 1) + -- (1 )\n",
       "   7       2         14\n",
       "                                 Type: SymmetricPolynomial(Fraction(Integer))\n"
      ]
     },
     "execution_count": 9,
     "metadata": {},
     "output_type": "execute_result"
    }
   ],
   "source": [
    "dihedral 7"
   ]
  },
  {
   "cell_type": "markdown",
   "metadata": {},
   "source": [
    "\n",
    "         3       1   3     1    7\n",
    "   (11)  - (7) + - (2 1) + -- (1 )\n",
    "         7       2         14\n",
    "\n",
    "graphs n is the cycle index of the group of permutations on\n",
    "the edges of the complete graph with n nodes induced by\n",
    "applying the symmetric group to the nodes.\n"
   ]
  },
  {
   "cell_type": "code",
   "execution_count": 10,
   "metadata": {
    "collapsed": false
   },
   "outputs": [
    {
     "data": {
      "text/plain": [
       "   1           1   2    1   2     1   3     1   4 2     1   3 4     1    10\n",
       "   - (6 3 1) + - (5 ) + - (4 2) + - (3 1) + - (2 1 ) + -- (2 1 ) + --- (1  )\n",
       "   6           5        4         6         8          12          120\n",
       "                                 Type: SymmetricPolynomial(Fraction(Integer))\n"
      ]
     },
     "execution_count": 10,
     "metadata": {},
     "output_type": "execute_result"
    }
   ],
   "source": [
    "graphs 5"
   ]
  },
  {
   "cell_type": "markdown",
   "metadata": {},
   "source": [
    "\n",
    "   (12)\n",
    "   1           1   2    1   2     1   3     1   4 2    1    3 4     1    10\n",
    "   - (6 3 1) + - (5 ) + - (4 2) + - (3 1) + - (2 1 ) + -- (2 1 ) + --- (1  )\n",
    "   6           5        4         6         8          12          120\n",
    "\n",
    "The cycle index of a direct product of two groups is the product of the\n",
    "cycle indices of the groups.\n",
    "Redfield provided two operations on two cycle indices which\n",
    "will be called cup and cap here.\n",
    "The cup of two cycle indices is a kind of scalar product that\n",
    "combines monomials for permutations with the same cycles.\n",
    "\n",
    "The cap operation provides the sum of the coefficients of the result\n",
    "of the cup operation which will be an integer that enumerates\n",
    "group-reduced distributions.\n",
    "\n",
    "We can for example represent  complete 2 * complete 2\n",
    "as the set of objects a a b b and\n",
    "complete 2 * complete 1 * complete 1 as c c d e.\n",
    "\n",
    "The integer cap(complete 2^2,complete 2*complete 1^2)\n",
    "is the number of different sets of four pairs.\n",
    "\n",
    "a a b b     a a b b    a a b b   a a b b\n",
    "c c d e     c d c e    c e c d   d e c c\n",
    "\n"
   ]
  },
  {
   "cell_type": "code",
   "execution_count": 11,
   "metadata": {
    "collapsed": false
   },
   "outputs": [
    {
     "data": {
      "text/plain": [
       "   4\n",
       "                                                      Type: Fraction(Integer)\n"
      ]
     },
     "execution_count": 11,
     "metadata": {},
     "output_type": "execute_result"
    }
   ],
   "source": [
    "cap(complete 2^2,complete 2*complete 1^2)"
   ]
  },
  {
   "cell_type": "markdown",
   "metadata": {},
   "source": [
    "\n",
    "   (13)  4\n",
    "\n",
    "The integer cap(elementary 2^2,complete 2*complete 1^2)\n",
    "is the number of different sets of four pairs no two pairs being equal.\n",
    "\n",
    "    a a b b    a a b b\n",
    "    c d c e    c e c d\n",
    "\n"
   ]
  },
  {
   "cell_type": "code",
   "execution_count": 12,
   "metadata": {
    "collapsed": false
   },
   "outputs": [
    {
     "data": {
      "text/plain": [
       "   2\n",
       "                                                      Type: Fraction(Integer)\n"
      ]
     },
     "execution_count": 12,
     "metadata": {},
     "output_type": "execute_result"
    }
   ],
   "source": [
    "cap(elementary 2^2,complete 2*complete 1^2)"
   ]
  },
  {
   "cell_type": "markdown",
   "metadata": {},
   "source": [
    "\n",
    "   (14)  2\n",
    "\n",
    "In this case the configurations enumerated are easily constructed,\n",
    "however the theory merely enumerates them providing little help in\n",
    "actually constructing them. Similarly\n",
    "\n",
    "The number of 6-pairs, first from a a a b b c, second from d d e e f g.\n",
    "\n"
   ]
  },
  {
   "cell_type": "code",
   "execution_count": 13,
   "metadata": {
    "collapsed": false
   },
   "outputs": [
    {
     "data": {
      "text/plain": [
       "   24\n",
       "                                                      Type: Fraction(Integer)\n"
      ]
     },
     "execution_count": 13,
     "metadata": {},
     "output_type": "execute_result"
    }
   ],
   "source": [
    "cap(complete 3*complete 2*complete 1,complete 2^2*complete 1^2)"
   ]
  },
  {
   "cell_type": "markdown",
   "metadata": {},
   "source": [
    "\n",
    "   (15)  24\n",
    "\n",
    "Same again, but with no equal pairs\n",
    "\n"
   ]
  },
  {
   "cell_type": "code",
   "execution_count": 14,
   "metadata": {
    "collapsed": false
   },
   "outputs": [
    {
     "data": {
      "text/plain": [
       "   8\n",
       "                                                      Type: Fraction(Integer)\n"
      ]
     },
     "execution_count": 14,
     "metadata": {},
     "output_type": "execute_result"
    }
   ],
   "source": [
    "cap(elementary 3*elementary 2*elementary 1,complete 2^2*complete 1^2)"
   ]
  },
  {
   "cell_type": "markdown",
   "metadata": {},
   "source": [
    "\n",
    "   (16)  8\n",
    "\n"
   ]
  },
  {
   "cell_type": "code",
   "execution_count": 15,
   "metadata": {
    "collapsed": false
   },
   "outputs": [
    {
     "data": {
      "text/plain": [
       "   8\n",
       "                                                      Type: Fraction(Integer)\n"
      ]
     },
     "execution_count": 15,
     "metadata": {},
     "output_type": "execute_result"
    }
   ],
   "source": [
    "cap(complete 3*complete 2*complete 1,elementary 2^2*elementary 1^2)"
   ]
  },
  {
   "cell_type": "markdown",
   "metadata": {},
   "source": [
    "\n",
    "   (17)  8\n",
    "\n",
    "The number of 6-triples, first from a a a b b c, second from\n",
    "d d e e f g, third from h h i i j j\n",
    "\n"
   ]
  },
  {
   "cell_type": "code",
   "execution_count": 16,
   "metadata": {
    "collapsed": false
   },
   "outputs": [
    {
     "data": {
      "text/plain": [
       "   1500\n",
       "                                                      Type: Fraction(Integer)\n"
      ]
     },
     "execution_count": 16,
     "metadata": {},
     "output_type": "execute_result"
    }
   ],
   "source": [
    "eval(cup(complete 3*complete 2*complete 1, cup(complete 2^2*complete 1^2,complete 2^3)))"
   ]
  },
  {
   "cell_type": "markdown",
   "metadata": {},
   "source": [
    "\n",
    "   (18)  1500\n",
    "\n",
    "The cycle index of vertices of a square is dihedral 4\n",
    "\n"
   ]
  },
  {
   "cell_type": "code",
   "execution_count": 17,
   "metadata": {
    "collapsed": false
   },
   "outputs": [
    {
     "data": {
      "text/plain": [
       "   1       3   2    1     2    1   4\n",
       "   - (4) + - (2 ) + - (2 1 ) + - (1 )\n",
       "   4       8        4          8\n",
       "                                 Type: SymmetricPolynomial(Fraction(Integer))\n"
      ]
     },
     "execution_count": 17,
     "metadata": {},
     "output_type": "execute_result"
    }
   ],
   "source": [
    "square:=dihedral 4"
   ]
  },
  {
   "cell_type": "markdown",
   "metadata": {},
   "source": [
    "\n",
    "         1       3   2    1     2    1   4\n",
    "   (19)  - (4) + - (2 ) + - (2 1 ) + - (1 )\n",
    "         4       8        4          8\n",
    "\n",
    "The number of different squares with 2 red vertices and 2 blue vertices\n",
    "\n"
   ]
  },
  {
   "cell_type": "code",
   "execution_count": 18,
   "metadata": {
    "collapsed": false
   },
   "outputs": [
    {
     "data": {
      "text/plain": [
       "   2\n",
       "                                                      Type: Fraction(Integer)\n"
      ]
     },
     "execution_count": 18,
     "metadata": {},
     "output_type": "execute_result"
    }
   ],
   "source": [
    "cap(complete 2^2,square)"
   ]
  },
  {
   "cell_type": "markdown",
   "metadata": {},
   "source": [
    "\n",
    "   (20)  2\n",
    "\n",
    "The number of necklaces with 3 red beads,2 blue beads and 2 green beads\n",
    "\n"
   ]
  },
  {
   "cell_type": "code",
   "execution_count": 19,
   "metadata": {
    "collapsed": false
   },
   "outputs": [
    {
     "data": {
      "text/plain": [
       "   18\n",
       "                                                      Type: Fraction(Integer)\n"
      ]
     },
     "execution_count": 19,
     "metadata": {},
     "output_type": "execute_result"
    }
   ],
   "source": [
    "cap(complete 3*complete 2^2,dihedral 7)"
   ]
  },
  {
   "cell_type": "markdown",
   "metadata": {},
   "source": [
    "\n",
    "   (21)  18\n",
    "\n",
    "The number of graphs with 5 nodes and 7 edges\n",
    "\n"
   ]
  },
  {
   "cell_type": "code",
   "execution_count": 20,
   "metadata": {
    "collapsed": false
   },
   "outputs": [
    {
     "data": {
      "text/plain": [
       "   4\n",
       "                                                      Type: Fraction(Integer)\n"
      ]
     },
     "execution_count": 20,
     "metadata": {},
     "output_type": "execute_result"
    }
   ],
   "source": [
    "cap(graphs 5,complete 7*complete 3)"
   ]
  },
  {
   "cell_type": "markdown",
   "metadata": {},
   "source": [
    "\n",
    "   (22)  4\n",
    "The cycle index of rotations of vertices of a cube\n",
    "\n"
   ]
  },
  {
   "cell_type": "code",
   "execution_count": 21,
   "metadata": {
    "collapsed": false
   },
   "outputs": [
    {
     "data": {
      "text/plain": [
       "                                                                   Type: Void\n"
      ]
     },
     "execution_count": 21,
     "metadata": {},
     "output_type": "execute_result"
    }
   ],
   "source": [
    "macro s == powerSum"
   ]
  },
  {
   "cell_type": "code",
   "execution_count": 22,
   "metadata": {
    "collapsed": false
   },
   "outputs": [
    {
     "data": {
      "text/plain": [
       "   1   2    1   2 2    3   4     1   8\n",
       "   - (4 ) + - (3 1 ) + - (2 ) + -- (1 )\n",
       "   4        3          8        24\n",
       "                                 Type: SymmetricPolynomial(Fraction(Integer))\n"
      ]
     },
     "execution_count": 22,
     "metadata": {},
     "output_type": "execute_result"
    }
   ],
   "source": [
    "cube:=(1/24)*(s 1^8+9*s 2^4 + 8*s 3^2*s 1^2+6*s 4^2)"
   ]
  },
  {
   "cell_type": "markdown",
   "metadata": {},
   "source": [
    "\n",
    "         1   2    1   2 2    3   4    1    8\n",
    "   (23)  - (4 ) + - (3 1 ) + - (2 ) + -- (1 )\n",
    "         4        3          8        24\n",
    "\n",
    "The number of cubes with 4 red vertices and 4 blue vertices\n"
   ]
  },
  {
   "cell_type": "code",
   "execution_count": 23,
   "metadata": {
    "collapsed": false
   },
   "outputs": [
    {
     "data": {
      "text/plain": [
       "   7\n",
       "                                                      Type: Fraction(Integer)\n"
      ]
     },
     "execution_count": 23,
     "metadata": {},
     "output_type": "execute_result"
    }
   ],
   "source": [
    "cap(complete 4^2,cube)"
   ]
  },
  {
   "cell_type": "markdown",
   "metadata": {},
   "source": [
    "\n",
    "   (24)  7\n",
    "\n",
    "The number of labeled graphs with degree sequence 2 2 2 1 1\n",
    "with no loops or multiple edges\n"
   ]
  },
  {
   "cell_type": "code",
   "execution_count": 24,
   "metadata": {
    "collapsed": false
   },
   "outputs": [
    {
     "data": {
      "text/plain": [
       "   7\n",
       "                                                      Type: Fraction(Integer)\n"
      ]
     },
     "execution_count": 24,
     "metadata": {},
     "output_type": "execute_result"
    }
   ],
   "source": [
    "cap(complete 2^3*complete 1^2,wreath(elementary 4,elementary 2))"
   ]
  },
  {
   "cell_type": "markdown",
   "metadata": {},
   "source": [
    "with loops allowed but not multiple edges\n"
   ]
  },
  {
   "cell_type": "code",
   "execution_count": 25,
   "metadata": {
    "collapsed": false
   },
   "outputs": [
    {
     "data": {
      "text/plain": [
       "   17\n",
       "                                                      Type: Fraction(Integer)\n"
      ]
     },
     "execution_count": 25,
     "metadata": {},
     "output_type": "execute_result"
    }
   ],
   "source": [
    "cap(complete 2^3*complete 1^2,wreath(elementary 4,complete 2))"
   ]
  },
  {
   "cell_type": "markdown",
   "metadata": {},
   "source": [
    " with multiple edges allowed, but not loops\n"
   ]
  },
  {
   "cell_type": "code",
   "execution_count": 26,
   "metadata": {
    "collapsed": false
   },
   "outputs": [
    {
     "data": {
      "text/plain": [
       "   10\n",
       "                                                      Type: Fraction(Integer)\n"
      ]
     },
     "execution_count": 26,
     "metadata": {},
     "output_type": "execute_result"
    }
   ],
   "source": [
    "cap(complete 2^3*complete 1^2,wreath(complete 4,elementary 2))"
   ]
  },
  {
   "cell_type": "markdown",
   "metadata": {},
   "source": [
    " with both multiple edges and loops allowed\n"
   ]
  },
  {
   "cell_type": "code",
   "execution_count": 27,
   "metadata": {
    "collapsed": false
   },
   "outputs": [
    {
     "data": {
      "text/plain": [
       "   23\n",
       "                                                      Type: Fraction(Integer)\n"
      ]
     },
     "execution_count": 27,
     "metadata": {},
     "output_type": "execute_result"
    }
   ],
   "source": [
    "cap(complete 2^3*complete 1^2,wreath(complete 4,complete 2))"
   ]
  },
  {
   "cell_type": "markdown",
   "metadata": {},
   "source": [
    "Having constructed a cycle index for a configuration\n",
    "we are at liberty to evaluate the s i components any way we please.\n",
    "For example we can produce enumerating generating functions.\n",
    "This is done by providing a function f from an integer i to the\n",
    "value required of s  , and then evaluating eval(f,cycleindex)\n",
    "                   i\n"
   ]
  },
  {
   "cell_type": "code",
   "execution_count": 28,
   "metadata": {
    "collapsed": false
   },
   "outputs": [
    {
     "data": {
      "text/plain": [
       "   x\n",
       "                         Type: UnivariateLaurentSeries(Fraction(Integer),x,0)\n"
      ]
     },
     "execution_count": 28,
     "metadata": {},
     "output_type": "execute_result"
    }
   ],
   "source": [
    "x:ULS(FRAC INT,'x,0):=x"
   ]
  },
  {
   "cell_type": "code",
   "execution_count": 29,
   "metadata": {
    "collapsed": false
   },
   "outputs": [
    {
     "data": {
      "text/plain": [
       "                                                                   Type: Void\n"
      ]
     },
     "execution_count": 29,
     "metadata": {},
     "output_type": "execute_result"
    }
   ],
   "source": [
    "ZeroOrOne:INT->ULS(FRAC INT,'x,0)"
   ]
  },
  {
   "cell_type": "code",
   "execution_count": 30,
   "metadata": {
    "collapsed": false
   },
   "outputs": [
    {
     "data": {
      "text/plain": [
       "                                                                   Type: Void\n"
      ]
     },
     "execution_count": 30,
     "metadata": {},
     "output_type": "execute_result"
    }
   ],
   "source": [
    "Integers:INT->ULS(FRAC INT,'x,0)"
   ]
  },
  {
   "cell_type": "markdown",
   "metadata": {},
   "source": [
    "For the integers 0 1 , or two colors\n"
   ]
  },
  {
   "cell_type": "code",
   "execution_count": 31,
   "metadata": {
    "collapsed": false
   },
   "outputs": [
    {
     "data": {
      "text/plain": [
       "                                                                   Type: Void\n"
      ]
     },
     "execution_count": 31,
     "metadata": {},
     "output_type": "execute_result"
    }
   ],
   "source": [
    "ZeroOrOne n == 1+x^n"
   ]
  },
  {
   "cell_type": "code",
   "execution_count": 32,
   "metadata": {
    "collapsed": false
   },
   "outputs": [
    {
     "name": "stdout",
     "output_type": "stream",
     "text": [
      "   Compiling function ZeroOrOne with type Integer -> \n",
      "      UnivariateLaurentSeries(Fraction(Integer),x,0) \n"
     ]
    },
    {
     "data": {
      "text/plain": [
       "        5\n",
       "   1 + x\n",
       "                         Type: UnivariateLaurentSeries(Fraction(Integer),x,0)\n"
      ]
     },
     "execution_count": 32,
     "metadata": {},
     "output_type": "execute_result"
    }
   ],
   "source": [
    "ZeroOrOne 5"
   ]
  },
  {
   "cell_type": "markdown",
   "metadata": {},
   "source": [
    "For the integers 0,1,2,...\n"
   ]
  },
  {
   "cell_type": "code",
   "execution_count": 33,
   "metadata": {
    "collapsed": false
   },
   "outputs": [
    {
     "data": {
      "text/plain": [
       "                                                                   Type: Void\n"
      ]
     },
     "execution_count": 33,
     "metadata": {},
     "output_type": "execute_result"
    }
   ],
   "source": [
    "Integers n == 1/(1-x^n)"
   ]
  },
  {
   "cell_type": "code",
   "execution_count": 34,
   "metadata": {
    "collapsed": false
   },
   "outputs": [
    {
     "name": "stdout",
     "output_type": "stream",
     "text": [
      "   Compiling function Integers with type Integer -> \n",
      "      UnivariateLaurentSeries(Fraction(Integer),x,0) \n"
     ]
    },
    {
     "data": {
      "text/plain": [
       "        5    10      11\n",
       "   1 + x  + x   + O(x  )\n",
       "                         Type: UnivariateLaurentSeries(Fraction(Integer),x,0)\n"
      ]
     },
     "execution_count": 34,
     "metadata": {},
     "output_type": "execute_result"
    }
   ],
   "source": [
    "Integers 5"
   ]
  },
  {
   "cell_type": "markdown",
   "metadata": {},
   "source": [
    "\n",
    "The coefficient of x^n below is the number of graphs with 5 nodes\n",
    "and n edges.\n",
    "\n"
   ]
  },
  {
   "cell_type": "code",
   "execution_count": 35,
   "metadata": {
    "collapsed": false
   },
   "outputs": [
    {
     "data": {
      "text/plain": [
       "             2     3     4     5     6     7     8    9    10      11\n",
       "   1 + x + 2x  + 4x  + 6x  + 6x  + 6x  + 4x  + 2x  + x  + x   + O(x  )\n",
       "                         Type: UnivariateLaurentSeries(Fraction(Integer),x,0)\n"
      ]
     },
     "execution_count": 35,
     "metadata": {},
     "output_type": "execute_result"
    }
   ],
   "source": [
    "eval(ZeroOrOne,graphs 5)"
   ]
  },
  {
   "cell_type": "markdown",
   "metadata": {},
   "source": [
    "\n",
    "                   2     3     4     5     6     7     8    9    10      11\n",
    "   (30)  1 + x + 2x  + 4x  + 6x  + 6x  + 6x  + 4x  + 2x  + x  + x   + O(x  )\n",
    "\n",
    "The coefficient of x^n is the number of necklaces with\n",
    " n red beads and n-8 green beads.\n"
   ]
  },
  {
   "cell_type": "code",
   "execution_count": 36,
   "metadata": {
    "collapsed": false
   },
   "outputs": [
    {
     "data": {
      "text/plain": [
       "             2     3     4     5     6    7    8\n",
       "   1 + x + 4x  + 5x  + 8x  + 5x  + 4x  + x  + x\n",
       "                         Type: UnivariateLaurentSeries(Fraction(Integer),x,0)\n"
      ]
     },
     "execution_count": 36,
     "metadata": {},
     "output_type": "execute_result"
    }
   ],
   "source": [
    "eval(ZeroOrOne,dihedral 8)"
   ]
  },
  {
   "cell_type": "markdown",
   "metadata": {},
   "source": [
    "The coefficient of x^n is the number of partitions of n\n",
    "into 4 or fewer parts\n"
   ]
  },
  {
   "cell_type": "code",
   "execution_count": 37,
   "metadata": {
    "collapsed": false
   },
   "outputs": [
    {
     "data": {
      "text/plain": [
       "             2     3     4     5     6      7      8      9      10      11\n",
       "   1 + x + 2x  + 3x  + 5x  + 6x  + 9x  + 11x  + 15x  + 18x  + 23x   + O(x  )\n",
       "                         Type: UnivariateLaurentSeries(Fraction(Integer),x,0)\n"
      ]
     },
     "execution_count": 37,
     "metadata": {},
     "output_type": "execute_result"
    }
   ],
   "source": [
    "eval(Integers,complete 4)"
   ]
  },
  {
   "cell_type": "markdown",
   "metadata": {},
   "source": [
    "\n",
    "   (32)\n",
    "             2     3     4     5     6      7      8      9      10      11\n",
    "   1 + x + 2x  + 3x  + 5x  + 6x  + 9x  + 11x  + 15x  + 18x  + 23x   + O(x  )\n",
    "\n",
    "The coefficient of x^n is the number of partitions of n into 4\n",
    " boxes containing ordered distinct parts.\n"
   ]
  },
  {
   "cell_type": "code",
   "execution_count": 38,
   "metadata": {
    "collapsed": false
   },
   "outputs": [
    {
     "name": "stdout",
     "output_type": "stream",
     "text": [
      "  "
     ]
    },
    {
     "data": {
      "text/plain": [
       "      6    7     8     9     10     11     12      13      14      15      16\n",
       "     x  + x  + 2x  + 3x  + 5x   + 6x   + 9x   + 11x   + 15x   + 18x   + 23x\n",
       "   + \n",
       "        17\n",
       "     O(x  )\n",
       "                         Type: UnivariateLaurentSeries(Fraction(Integer),x,0)\n"
      ]
     },
     "execution_count": 38,
     "metadata": {},
     "output_type": "execute_result"
    }
   ],
   "source": [
    "eval(Integers,elementary 4)"
   ]
  },
  {
   "cell_type": "markdown",
   "metadata": {},
   "source": [
    "\n",
    "          6    7     8     9     10      11\n",
    "   (33)  x  + x  + 2x  + 3x  + 5x   + O(x  )\n",
    "\n",
    "the coefficient of x^n is the number of partitions of n\n",
    "into exactly 4 parts\n",
    "\n",
    "The coefficient of x^n is the number of different cubes with n\n",
    " red vertices and 8-n green ones.\n",
    "\n"
   ]
  },
  {
   "cell_type": "code",
   "execution_count": 39,
   "metadata": {
    "collapsed": false
   },
   "outputs": [
    {
     "data": {
      "text/plain": [
       "             2     3     4     5     6    7    8\n",
       "   1 + x + 3x  + 3x  + 7x  + 3x  + 3x  + x  + x\n",
       "                         Type: UnivariateLaurentSeries(Fraction(Integer),x,0)\n"
      ]
     },
     "execution_count": 39,
     "metadata": {},
     "output_type": "execute_result"
    }
   ],
   "source": [
    "eval(ZeroOrOne,cube)"
   ]
  },
  {
   "cell_type": "markdown",
   "metadata": {},
   "source": [
    "\n",
    "                   2     3     4     5     6    7    8\n",
    "   (36)  1 + x + 3x  + 3x  + 7x  + 3x  + 3x  + x  + x\n",
    "\n",
    "The  coefficient of x^n is the number of different cubes with integers\n",
    " on the vertices whose sum is n.\n",
    "\n"
   ]
  },
  {
   "cell_type": "code",
   "execution_count": 40,
   "metadata": {
    "collapsed": false
   },
   "outputs": [
    {
     "name": "stdout",
     "output_type": "stream",
     "text": [
      "  "
     ]
    },
    {
     "data": {
      "text/plain": [
       "               2     3      4      5      6       7       8       9       10\n",
       "     1 + x + 4x  + 7x  + 21x  + 37x  + 85x  + 151x  + 292x  + 490x  + 848x\n",
       "   + \n",
       "        11\n",
       "     O(x  )\n",
       "                         Type: UnivariateLaurentSeries(Fraction(Integer),x,0)\n"
      ]
     },
     "execution_count": 40,
     "metadata": {},
     "output_type": "execute_result"
    }
   ],
   "source": [
    "eval(Integers,cube)"
   ]
  },
  {
   "cell_type": "markdown",
   "metadata": {},
   "source": [
    "\n",
    "   (37)\n",
    "               2     3      4      5      6       7       8       9       10\n",
    "     1 + x + 4x  + 7x  + 21x  + 37x  + 85x  + 151x  + 292x  + 490x  + 848x\n",
    "   +\n",
    "        11\n",
    "     O(x  )\n",
    "\n",
    " the coefficient of x^n is the number of graphs with 5 nodes and\n",
    " with integers on the edges whose sum is n.\n",
    " In other words the enumeration is of multigraphs with 5 nodes and n\n",
    " edges.\n"
   ]
  },
  {
   "cell_type": "code",
   "execution_count": 41,
   "metadata": {
    "collapsed": false
   },
   "outputs": [
    {
     "name": "stdout",
     "output_type": "stream",
     "text": [
      "  "
     ]
    },
    {
     "data": {
      "text/plain": [
       "               2     3      4      5      6       7       8       9       10\n",
       "     1 + x + 3x  + 7x  + 17x  + 35x  + 76x  + 149x  + 291x  + 539x  + 974x\n",
       "   + \n",
       "        11\n",
       "     O(x  )\n",
       "                         Type: UnivariateLaurentSeries(Fraction(Integer),x,0)\n"
      ]
     },
     "execution_count": 41,
     "metadata": {},
     "output_type": "execute_result"
    }
   ],
   "source": [
    "eval(Integers,graphs 5)"
   ]
  },
  {
   "cell_type": "markdown",
   "metadata": {},
   "source": [
    "\n",
    "   (38)\n",
    "               2     3      4      5      6       7       8       9       10\n",
    "     1 + x + 3x  + 7x  + 17x  + 35x  + 76x  + 149x  + 291x  + 539x  + 974x\n",
    "   +\n",
    "        11\n",
    "     O(x  )\n",
    "\n",
    "Graphs with 15 nodes enumerated with respect to number of edges\n",
    "\n"
   ]
  },
  {
   "cell_type": "code",
   "execution_count": 42,
   "metadata": {
    "collapsed": false
   },
   "outputs": [
    {
     "name": "stdout",
     "output_type": "stream",
     "text": [
      "  "
     ]
    },
    {
     "data": {
      "text/plain": [
       "               2     3      4      5      6       7       8        9        10\n",
       "     1 + x + 2x  + 5x  + 11x  + 26x  + 68x  + 177x  + 496x  + 1471x  + 4583x\n",
       "   + \n",
       "        11\n",
       "     O(x  )\n",
       "                         Type: UnivariateLaurentSeries(Fraction(Integer),x,0)\n"
      ]
     },
     "execution_count": 42,
     "metadata": {},
     "output_type": "execute_result"
    }
   ],
   "source": [
    "eval(ZeroOrOne ,graphs 15)"
   ]
  },
  {
   "cell_type": "markdown",
   "metadata": {},
   "source": [
    "\n",
    "   (39)\n",
    "               2     3      4      5      6       7       8        9        10\n",
    "     1 + x + 2x  + 5x  + 11x  + 26x  + 68x  + 177x  + 496x  + 1471x  + 4583x\n",
    "   +\n",
    "           11         12          13          14           15            16\n",
    "     15036x   + 51814x   + 185987x   + 691001x   + 2632420x   + 10176660x\n",
    "   +\n",
    "              17             18             19              20      21\n",
    "     39500169x   + 152374465x   + 578891716x   + 2149523582x   + O(x  )\n",
    "\n",
    "\n",
    "Necklaces with 7 green beads, 8 white beads, 5 yellow beads and 10\n",
    "red beads.\n",
    "\n"
   ]
  },
  {
   "cell_type": "code",
   "execution_count": 43,
   "metadata": {
    "collapsed": false
   },
   "outputs": [
    {
     "data": {
      "text/plain": [
       "   49958972383320\n",
       "                                                      Type: Fraction(Integer)\n"
      ]
     },
     "execution_count": 43,
     "metadata": {},
     "output_type": "execute_result"
    }
   ],
   "source": [
    "cap(dihedral 30,complete 7*complete 8*complete 5*complete 10)"
   ]
  },
  {
   "cell_type": "markdown",
   "metadata": {},
   "source": [
    "\n",
    "   (40)  49958972383320\n",
    " The function SFunction is the S-function of a partition written\n",
    " as a descending list of integers expressed in terms of power sum\n",
    " symmetric functions.\n"
   ]
  },
  {
   "cell_type": "code",
   "execution_count": 44,
   "metadata": {
    "collapsed": false
   },
   "outputs": [
    {
     "name": "stdout",
     "output_type": "stream",
     "text": [
      "    "
     ]
    },
    {
     "data": {
      "text/plain": [
       "      1          1     2     1   2     1            1     4     1   2\n",
       "     -- (6 2) - -- (6 1 ) - -- (4 ) + -- (4 3 1) + -- (4 1 ) - -- (3 2)\n",
       "     12         12          16        12           24          36\n",
       "   + \n",
       "      1   2 2     1     2      1       3     1     5     1    4     1   3 2\n",
       "     -- (3 1 ) - -- (3 2 1) - -- (3 2 1 ) - -- (3 1 ) - --- (2 ) + -- (2 1 )\n",
       "     36          24           36            72          192        48\n",
       "   + \n",
       "      1   2 4     1      6     1    8\n",
       "     -- (2 1 ) - --- (2 1 ) + --- (1 )\n",
       "     96          144          576\n",
       "                                 Type: SymmetricPolynomial(Fraction(Integer))\n"
      ]
     },
     "execution_count": 44,
     "metadata": {},
     "output_type": "execute_result"
    }
   ],
   "source": [
    "sf3221:= SFunction [3,2,2,1]"
   ]
  },
  {
   "cell_type": "markdown",
   "metadata": {},
   "source": [
    " It counts the number of different tableaux of shape 3,2,2,1 filled\n",
    " with objects with an ascending order in the columns and a\n",
    " non-descending order in the rows.\n",
    " cap(sf3221,complete 4^2) is the number filled\n",
    " with a a b b c c d d.\n"
   ]
  },
  {
   "cell_type": "code",
   "execution_count": 45,
   "metadata": {
    "collapsed": false
   },
   "outputs": [
    {
     "data": {
      "text/plain": [
       "   3\n",
       "                                                      Type: Fraction(Integer)\n"
      ]
     },
     "execution_count": 45,
     "metadata": {},
     "output_type": "execute_result"
    }
   ],
   "source": [
    "cap(sf3221,complete 2^4)"
   ]
  },
  {
   "cell_type": "markdown",
   "metadata": {},
   "source": [
    " the configurations enumerated are\n",
    "  a a b    a a c    a a d\n",
    "  b c      b b      b b\n",
    "  c d      c d      c c\n",
    "  d        d        d\n",
    " cap(sf3221,powerSum 1^8) is the number of tableaux filled with 1..8.\n"
   ]
  },
  {
   "cell_type": "code",
   "execution_count": 46,
   "metadata": {
    "collapsed": false
   },
   "outputs": [
    {
     "data": {
      "text/plain": [
       "   70\n",
       "                                                      Type: Fraction(Integer)\n"
      ]
     },
     "execution_count": 46,
     "metadata": {},
     "output_type": "execute_result"
    }
   ],
   "source": [
    "cap(sf3221,powerSum 1^8)"
   ]
  },
  {
   "cell_type": "markdown",
   "metadata": {},
   "source": [
    "The coefficient of x^n below is the number of column strict\n",
    " reverse plane partitions of n of shape 3 2 2 1.\n",
    " The smallest is\n",
    "  0 0 0\n",
    "  1 1\n",
    "  2 2\n",
    "  3\n"
   ]
  },
  {
   "cell_type": "code",
   "execution_count": 47,
   "metadata": {
    "collapsed": false
   },
   "outputs": [
    {
     "name": "stdout",
     "output_type": "stream",
     "text": [
      "  "
     ]
    },
    {
     "data": {
      "text/plain": [
       "      9     10     11      12      13      14      15       16       17       18\n",
       "     x  + 3x   + 7x   + 14x   + 27x   + 47x   + 79x   + 126x   + 196x   + 294x\n",
       "   + \n",
       "         19      20\n",
       "     432x   + O(x  )\n",
       "                         Type: UnivariateLaurentSeries(Fraction(Integer),x,0)\n"
      ]
     },
     "execution_count": 47,
     "metadata": {},
     "output_type": "execute_result"
    }
   ],
   "source": [
    "eval(Integers,sf3221)"
   ]
  },
  {
   "cell_type": "code",
   "execution_count": 48,
   "metadata": {
    "collapsed": false
   },
   "outputs": [
    {
     "data": {
      "text/plain": []
     },
     "execution_count": 48,
     "metadata": {},
     "output_type": "execute_result"
    }
   ],
   "source": [
    "--\n",
    "-- EOF\n",
    "--"
   ]
  }
 ],
 "metadata": {
  "kernelspec": {
   "display_name": "FriCAS",
   "language": "spad",
   "name": "ifricas"
  },
  "language_info": {
   "codemirror_mode": "spad",
   "mimetype": "text/x-spad",
   "name": "SPAD",
   "pygments_lexer": "spad",
   "version": "1.2.6"
  },
  "name": "cycles.ipynb"
 },
 "nbformat": 4,
 "nbformat_minor": 0
}