{
 "cells": [
  {
   "cell_type": "markdown",
   "metadata": {},
   "source": [
    "Copyright The Numerical Algorithms Group Limited 1996.\n"
   ]
  },
  {
   "cell_type": "markdown",
   "metadata": {},
   "source": [
    " This file tests bugs fixed/additions made since release 2.0a.\n",
    " Created by Mike Dewar, 17.5.95\n"
   ]
  },
  {
   "cell_type": "markdown",
   "metadata": {},
   "source": [
    " Added eval for aggregates\n"
   ]
  },
  {
   "cell_type": "code",
   "execution_count": 0,
   "metadata": {
    "collapsed": false
   },
   "outputs": [
    {
     "name": "stdout",
     "output_type": "stream",
     "text": [
      "   All user variables and function definitions have been cleared.\n",
      "   All )browse facility databases have been cleared.\n",
      "   Internally cached functions and constructors have been cleared.\n",
      "   )clear completely is finished.\n"
     ]
    },
    {
     "data": {
      "text/plain": []
     },
     "execution_count": 0,
     "metadata": {},
     "output_type": "execute_result"
    }
   ],
   "source": [
    ")clear completely"
   ]
  },
  {
   "cell_type": "code",
   "execution_count": 1,
   "metadata": {
    "collapsed": false
   },
   "outputs": [
    {
     "name": "stdout",
     "output_type": "stream",
     "text": [
      "Warning: HyperTeX macro table not found\n"
     ]
    },
    {
     "data": {
      "text/plain": [
       "   +x   2x   3x +\n",
       "   |            |\n",
       "   | 2    2    2|\n",
       "   |x   2x   3x |\n",
       "   |            |\n",
       "   | 3    3    3|\n",
       "   +x   2x   3x +\n",
       "                                            Type: Matrix(Expression(Integer))\n"
      ]
     },
     "execution_count": 1,
     "metadata": {},
     "output_type": "execute_result"
    }
   ],
   "source": [
    "m : Matrix Expression Integer := matrix [[i*x^j for i in 1..3] for j in 1..3]"
   ]
  },
  {
   "cell_type": "code",
   "execution_count": 2,
   "metadata": {
    "collapsed": false
   },
   "outputs": [
    {
     "data": {
      "text/plain": [
       "   +0  0  0+\n",
       "   |       |\n",
       "   |0  0  0|\n",
       "   |       |\n",
       "   +0  0  0+\n",
       "                                            Type: Matrix(Expression(Integer))\n"
      ]
     },
     "execution_count": 2,
     "metadata": {},
     "output_type": "execute_result"
    }
   ],
   "source": [
    "eval(m,x=0)"
   ]
  },
  {
   "cell_type": "markdown",
   "metadata": {},
   "source": [
    " Added seed function\n"
   ]
  },
  {
   "cell_type": "code",
   "execution_count": 3,
   "metadata": {
    "collapsed": false
   },
   "outputs": [
    {
     "name": "stdout",
     "output_type": "stream",
     "text": [
      "   All user variables and function definitions have been cleared.\n",
      "   All )browse facility databases have been cleared.\n",
      "   Internally cached functions and constructors have been cleared.\n",
      "   )clear completely is finished.\n"
     ]
    },
    {
     "data": {
      "text/plain": []
     },
     "execution_count": 3,
     "metadata": {},
     "output_type": "execute_result"
    }
   ],
   "source": [
    ")clear completely"
   ]
  },
  {
   "cell_type": "code",
   "execution_count": 4,
   "metadata": {
    "collapsed": false
   },
   "outputs": [
    {
     "data": {
      "text/plain": [
       "                                                        Type: PositiveInteger\n"
      ]
     },
     "execution_count": 4,
     "metadata": {},
     "output_type": "execute_result"
    }
   ],
   "source": [
    "s:= seed();"
   ]
  },
  {
   "cell_type": "code",
   "execution_count": 5,
   "metadata": {
    "collapsed": false
   },
   "outputs": [
    {
     "data": {
      "text/plain": [
       "                                                        Type: PositiveInteger\n"
      ]
     },
     "execution_count": 5,
     "metadata": {},
     "output_type": "execute_result"
    }
   ],
   "source": [
    "r1 := randnum();"
   ]
  },
  {
   "cell_type": "code",
   "execution_count": 6,
   "metadata": {
    "collapsed": false
   },
   "outputs": [
    {
     "data": {
      "text/plain": [
       "                                                                   Type: Void\n"
      ]
     },
     "execution_count": 6,
     "metadata": {},
     "output_type": "execute_result"
    }
   ],
   "source": [
    "for i in 1..10 repeat randnum();"
   ]
  },
  {
   "cell_type": "code",
   "execution_count": 7,
   "metadata": {
    "collapsed": false
   },
   "outputs": [
    {
     "data": {
      "text/plain": [
       "                                                                   Type: Void\n"
      ]
     },
     "execution_count": 7,
     "metadata": {},
     "output_type": "execute_result"
    }
   ],
   "source": [
    "reseed s;"
   ]
  },
  {
   "cell_type": "code",
   "execution_count": 8,
   "metadata": {
    "collapsed": false
   },
   "outputs": [
    {
     "data": {
      "text/plain": [
       "                                                        Type: PositiveInteger\n"
      ]
     },
     "execution_count": 8,
     "metadata": {},
     "output_type": "execute_result"
    }
   ],
   "source": [
    "r2 := randnum();"
   ]
  },
  {
   "cell_type": "code",
   "execution_count": 9,
   "metadata": {
    "collapsed": false
   },
   "outputs": [
    {
     "data": {
      "text/plain": [
       "   0\n",
       "                                                     Type: NonNegativeInteger\n"
      ]
     },
     "execution_count": 9,
     "metadata": {},
     "output_type": "execute_result"
    }
   ],
   "source": [
    "r1 - r2"
   ]
  },
  {
   "cell_type": "markdown",
   "metadata": {},
   "source": [
    " Fixed some problems with %e etc in rules\n"
   ]
  },
  {
   "cell_type": "code",
   "execution_count": 10,
   "metadata": {
    "collapsed": false
   },
   "outputs": [
    {
     "name": "stdout",
     "output_type": "stream",
     "text": [
      "   All user variables and function definitions have been cleared.\n",
      "   All )browse facility databases have been cleared.\n",
      "   Internally cached functions and constructors have been cleared.\n",
      "   )clear completely is finished.\n"
     ]
    },
    {
     "data": {
      "text/plain": []
     },
     "execution_count": 10,
     "metadata": {},
     "output_type": "execute_result"
    }
   ],
   "source": [
    ")clear completely"
   ]
  },
  {
   "cell_type": "code",
   "execution_count": 11,
   "metadata": {
    "collapsed": false
   },
   "outputs": [
    {
     "data": {
      "text/plain": [
       "   3 == %pi\n",
       "                       Type: RewriteRule(Integer,Integer,Expression(Integer))\n"
      ]
     },
     "execution_count": 11,
     "metadata": {},
     "output_type": "execute_result"
    }
   ],
   "source": [
    "r3:=rule(3==%pi) -- biblical approximation"
   ]
  },
  {
   "cell_type": "code",
   "execution_count": 12,
   "metadata": {
    "collapsed": false
   },
   "outputs": [
    {
     "data": {
      "text/plain": [
       "   3.1415926535_897932385\n",
       "                                                                  Type: Float\n"
      ]
     },
     "execution_count": 12,
     "metadata": {},
     "output_type": "execute_result"
    }
   ],
   "source": [
    "numeric(%pi)"
   ]
  },
  {
   "cell_type": "code",
   "execution_count": 13,
   "metadata": {
    "collapsed": false
   },
   "outputs": [
    {
     "data": {
      "text/plain": [
       "   3.1415926535_897932385\n",
       "                                                                  Type: Float\n"
      ]
     },
     "execution_count": 13,
     "metadata": {},
     "output_type": "execute_result"
    }
   ],
   "source": [
    "numeric(r3(3))"
   ]
  },
  {
   "cell_type": "code",
   "execution_count": 14,
   "metadata": {
    "collapsed": false
   },
   "outputs": [
    {
     "name": "stdout",
     "output_type": "stream",
     "text": [
      "   All user variables and function definitions have been cleared.\n",
      "   All )browse facility databases have been cleared.\n",
      "   Internally cached functions and constructors have been cleared.\n",
      "   )clear completely is finished.\n"
     ]
    },
    {
     "data": {
      "text/plain": []
     },
     "execution_count": 14,
     "metadata": {},
     "output_type": "execute_result"
    }
   ],
   "source": [
    ")clear completely"
   ]
  },
  {
   "cell_type": "markdown",
   "metadata": {},
   "source": [
    " Added some extra simplifications\n"
   ]
  },
  {
   "cell_type": "code",
   "execution_count": 15,
   "metadata": {
    "collapsed": false
   },
   "outputs": [
    {
     "data": {
      "text/plain": [
       "   1\n",
       "   -\n",
       "   2\n",
       "                                                    Type: Expression(Integer)\n"
      ]
     },
     "execution_count": 15,
     "metadata": {},
     "output_type": "execute_result"
    }
   ],
   "source": [
    "sin(atan(sqrt 3)/2)"
   ]
  },
  {
   "cell_type": "code",
   "execution_count": 16,
   "metadata": {
    "collapsed": false
   },
   "outputs": [
    {
     "name": "stdout",
     "output_type": "stream",
     "text": [
      "   All user variables and function definitions have been cleared.\n",
      "   All )browse facility databases have been cleared.\n",
      "   Internally cached functions and constructors have been cleared.\n",
      "   )clear completely is finished.\n"
     ]
    },
    {
     "data": {
      "text/plain": []
     },
     "execution_count": 16,
     "metadata": {},
     "output_type": "execute_result"
    }
   ],
   "source": [
    ")clear completely"
   ]
  },
  {
   "cell_type": "markdown",
   "metadata": {},
   "source": [
    " Fix to poly from Quitte\n"
   ]
  },
  {
   "cell_type": "code",
   "execution_count": 17,
   "metadata": {
    "collapsed": false
   },
   "outputs": [
    {
     "data": {
      "text/plain": [
       "   IntegerMod(4)\n",
       "                                                                   Type: Type\n"
      ]
     },
     "execution_count": 17,
     "metadata": {},
     "output_type": "execute_result"
    }
   ],
   "source": [
    "R := IntegerMod(4)"
   ]
  },
  {
   "cell_type": "code",
   "execution_count": 18,
   "metadata": {
    "collapsed": false
   },
   "outputs": [
    {
     "data": {
      "text/plain": [
       "   UnivariatePolynomial(X,IntegerMod(4))\n",
       "                                                                   Type: Type\n"
      ]
     },
     "execution_count": 18,
     "metadata": {},
     "output_type": "execute_result"
    }
   ],
   "source": [
    "PolR := UP('X, R)"
   ]
  },
  {
   "cell_type": "code",
   "execution_count": 19,
   "metadata": {
    "collapsed": false
   },
   "outputs": [
    {
     "data": {
      "text/plain": [
       "   X\n",
       "                                  Type: UnivariatePolynomial(X,IntegerMod(4))\n"
      ]
     },
     "execution_count": 19,
     "metadata": {},
     "output_type": "execute_result"
    }
   ],
   "source": [
    "X : PolR := monomial(1, 1)"
   ]
  },
  {
   "cell_type": "code",
   "execution_count": 20,
   "metadata": {
    "collapsed": false
   },
   "outputs": [
    {
     "data": {
      "text/plain": [
       "     2\n",
       "   2X\n",
       "                                  Type: UnivariatePolynomial(X,IntegerMod(4))\n"
      ]
     },
     "execution_count": 20,
     "metadata": {},
     "output_type": "execute_result"
    }
   ],
   "source": [
    "a : PolR := 2 * X^2"
   ]
  },
  {
   "cell_type": "code",
   "execution_count": 21,
   "metadata": {
    "collapsed": false
   },
   "outputs": [
    {
     "data": {
      "text/plain": [
       "    2\n",
       "   X  + 2X + 1\n",
       "                                  Type: UnivariatePolynomial(X,IntegerMod(4))\n"
      ]
     },
     "execution_count": 21,
     "metadata": {},
     "output_type": "execute_result"
    }
   ],
   "source": [
    "b : PolR := X^2 + 2*X + 1"
   ]
  },
  {
   "cell_type": "markdown",
   "metadata": {},
   "source": [
    " Used to give a 0 remainder!\n"
   ]
  },
  {
   "cell_type": "code",
   "execution_count": 22,
   "metadata": {
    "collapsed": false
   },
   "outputs": [
    {
     "data": {
      "text/plain": [
       "   [quotient= 2,remainder= 2]\n",
       "Type: Record(quotient: UnivariatePolynomial(X,IntegerMod(4)),remainder: UnivariatePolynomial(X,IntegerMod(4)))\n"
      ]
     },
     "execution_count": 22,
     "metadata": {},
     "output_type": "execute_result"
    }
   ],
   "source": [
    "qr := monicDivide(a, b)"
   ]
  },
  {
   "cell_type": "code",
   "execution_count": 23,
   "metadata": {
    "collapsed": false
   },
   "outputs": [
    {
     "data": {
      "text/plain": [
       "   0\n",
       "                                  Type: UnivariatePolynomial(X,IntegerMod(4))\n"
      ]
     },
     "execution_count": 23,
     "metadata": {},
     "output_type": "execute_result"
    }
   ],
   "source": [
    "a - (qr.quotient * b + qr.remainder)"
   ]
  },
  {
   "cell_type": "code",
   "execution_count": 24,
   "metadata": {
    "collapsed": false
   },
   "outputs": [
    {
     "name": "stdout",
     "output_type": "stream",
     "text": [
      "   All user variables and function definitions have been cleared.\n",
      "   All )browse facility databases have been cleared.\n",
      "   Internally cached functions and constructors have been cleared.\n",
      "   )clear completely is finished.\n"
     ]
    },
    {
     "data": {
      "text/plain": []
     },
     "execution_count": 24,
     "metadata": {},
     "output_type": "execute_result"
    }
   ],
   "source": [
    ")clear completely"
   ]
  },
  {
   "cell_type": "markdown",
   "metadata": {},
   "source": [
    " This used not to return 0\n"
   ]
  },
  {
   "cell_type": "code",
   "execution_count": 25,
   "metadata": {
    "collapsed": false
   },
   "outputs": [
    {
     "data": {
      "text/plain": [
       "   0\n",
       "                      Type: Union(OrderedCompletion(Expression(Integer)),...)\n"
      ]
     },
     "execution_count": 25,
     "metadata": {},
     "output_type": "execute_result"
    }
   ],
   "source": [
    "limit(%e^(1/x^2)/(%e^(1/x^2) + %e^(1/x^4)), x=0)"
   ]
  },
  {
   "cell_type": "code",
   "execution_count": 26,
   "metadata": {
    "collapsed": false
   },
   "outputs": [
    {
     "name": "stdout",
     "output_type": "stream",
     "text": [
      "   All user variables and function definitions have been cleared.\n",
      "   All )browse facility databases have been cleared.\n",
      "   Internally cached functions and constructors have been cleared.\n",
      "   )clear completely is finished.\n"
     ]
    },
    {
     "data": {
      "text/plain": []
     },
     "execution_count": 26,
     "metadata": {},
     "output_type": "execute_result"
    }
   ],
   "source": [
    ")clear completely"
   ]
  },
  {
   "cell_type": "markdown",
   "metadata": {},
   "source": [
    " This used to crash because we generated tan(%pi/2)\n"
   ]
  },
  {
   "cell_type": "code",
   "execution_count": 27,
   "metadata": {
    "collapsed": false
   },
   "outputs": [
    {
     "data": {
      "text/plain": [
       "             t - %pi 6           t - %pi 4          t - %pi 2          t - %pi\n",
       "   (- 960cos(-------)  + 1536cos(-------)  - 612cos(-------)  + 36)sin(-------)\n",
       "                6                   6                  6                  6\n",
       "   ----------------------------------------------------------------------------\n",
       "                                        35\n",
       "                                         Type: Union(Expression(Integer),...)\n"
      ]
     },
     "execution_count": 27,
     "metadata": {},
     "output_type": "execute_result"
    }
   ],
   "source": [
    "integrate((sin(t))*sin((%pi-t)/6),t)"
   ]
  },
  {
   "cell_type": "code",
   "execution_count": 28,
   "metadata": {
    "collapsed": false
   },
   "outputs": [
    {
     "name": "stdout",
     "output_type": "stream",
     "text": [
      "   All user variables and function definitions have been cleared.\n",
      "   All )browse facility databases have been cleared.\n",
      "   Internally cached functions and constructors have been cleared.\n",
      "   )clear completely is finished.\n"
     ]
    },
    {
     "data": {
      "text/plain": []
     },
     "execution_count": 28,
     "metadata": {},
     "output_type": "execute_result"
    }
   ],
   "source": [
    ")clear completely"
   ]
  },
  {
   "cell_type": "markdown",
   "metadata": {},
   "source": [
    " This used not to return 1.0!\n"
   ]
  },
  {
   "cell_type": "code",
   "execution_count": 29,
   "metadata": {
    "collapsed": false
   },
   "outputs": [
    {
     "data": {
      "text/plain": [
       "   1.0\n",
       "                                            Type: Fraction(Polynomial(Float))\n"
      ]
     },
     "execution_count": 29,
     "metadata": {},
     "output_type": "execute_result"
    }
   ],
   "source": [
    "(x+1.0)/(x+1.0)"
   ]
  },
  {
   "cell_type": "code",
   "execution_count": 30,
   "metadata": {
    "collapsed": false
   },
   "outputs": [
    {
     "name": "stdout",
     "output_type": "stream",
     "text": [
      "   All user variables and function definitions have been cleared.\n",
      "   All )browse facility databases have been cleared.\n",
      "   Internally cached functions and constructors have been cleared.\n",
      "   )clear completely is finished.\n"
     ]
    },
    {
     "data": {
      "text/plain": []
     },
     "execution_count": 30,
     "metadata": {},
     "output_type": "execute_result"
    }
   ],
   "source": [
    ")clear completely"
   ]
  },
  {
   "cell_type": "markdown",
   "metadata": {},
   "source": [
    " This used to return a formal integral\n"
   ]
  },
  {
   "cell_type": "code",
   "execution_count": 31,
   "metadata": {
    "collapsed": false
   },
   "outputs": [
    {
     "data": {
      "text/plain": [
       "   cos(x)\n",
       "   ------\n",
       "      x\n",
       "                                                    Type: Expression(Integer)\n"
      ]
     },
     "execution_count": 31,
     "metadata": {},
     "output_type": "execute_result"
    }
   ],
   "source": [
    "b := D(Ci(x),x)"
   ]
  },
  {
   "cell_type": "code",
   "execution_count": 32,
   "metadata": {
    "collapsed": false
   },
   "outputs": [
    {
     "data": {
      "text/plain": [
       "   Ci(x) + Ci(- x)\n",
       "   ---------------\n",
       "          2\n",
       "                                         Type: Union(Expression(Integer),...)\n"
      ]
     },
     "execution_count": 32,
     "metadata": {},
     "output_type": "execute_result"
    }
   ],
   "source": [
    "integrate(b,x)"
   ]
  },
  {
   "cell_type": "markdown",
   "metadata": {},
   "source": [
    " This used to return -Si(x) rather than log(x) - Si(x)\n"
   ]
  },
  {
   "cell_type": "code",
   "execution_count": 33,
   "metadata": {
    "collapsed": false
   },
   "outputs": [
    {
     "data": {
      "text/plain": [
       "   log(x) - Si(x)\n",
       "                                         Type: Union(Expression(Integer),...)\n"
      ]
     },
     "execution_count": 33,
     "metadata": {},
     "output_type": "execute_result"
    }
   ],
   "source": [
    "integrate((1 - sin x)/x,x)"
   ]
  },
  {
   "cell_type": "code",
   "execution_count": 34,
   "metadata": {
    "collapsed": false
   },
   "outputs": [
    {
     "name": "stdout",
     "output_type": "stream",
     "text": [
      "   All user variables and function definitions have been cleared.\n",
      "   All )browse facility databases have been cleared.\n",
      "   Internally cached functions and constructors have been cleared.\n",
      "   )clear completely is finished.\n"
     ]
    },
    {
     "data": {
      "text/plain": []
     },
     "execution_count": 34,
     "metadata": {},
     "output_type": "execute_result"
    }
   ],
   "source": [
    ")clear completely"
   ]
  },
  {
   "cell_type": "markdown",
   "metadata": {},
   "source": [
    " This used to return \"failed\"\n"
   ]
  },
  {
   "cell_type": "code",
   "execution_count": 35,
   "metadata": {
    "collapsed": false
   },
   "outputs": [
    {
     "data": {
      "text/plain": [
       "   erf(c)\n",
       "                      Type: Union(OrderedCompletion(Expression(Integer)),...)\n"
      ]
     },
     "execution_count": 35,
     "metadata": {},
     "output_type": "execute_result"
    }
   ],
   "source": [
    "limit(erf(x),x=c)"
   ]
  },
  {
   "cell_type": "markdown",
   "metadata": {},
   "source": [
    " Used only to do structural equality for algebraic numbers, now try\n",
    " to do true mathematical equality\n"
   ]
  },
  {
   "cell_type": "code",
   "execution_count": 36,
   "metadata": {
    "collapsed": false
   },
   "outputs": [
    {
     "data": {
      "text/plain": [
       "   true\n",
       "                                                                Type: Boolean\n"
      ]
     },
     "execution_count": 36,
     "metadata": {},
     "output_type": "execute_result"
    }
   ],
   "source": [
    "(sqrt(2)*sqrt(3)=sqrt(6))@Boolean"
   ]
  },
  {
   "cell_type": "markdown",
   "metadata": {},
   "source": [
    " New case we couldn't handle before\n"
   ]
  },
  {
   "cell_type": "code",
   "execution_count": 37,
   "metadata": {
    "collapsed": false
   },
   "outputs": [
    {
     "data": {
      "text/plain": [
       "                           2\n",
       "            +---+       - x\n",
       "   a erf(x)\\|%pi  - b %e\n",
       "   -------------------------\n",
       "               2\n",
       "                                         Type: Union(Expression(Integer),...)\n"
      ]
     },
     "execution_count": 37,
     "metadata": {},
     "output_type": "execute_result"
    }
   ],
   "source": [
    "integrate((a + b*x)*exp(-x^2),x)"
   ]
  },
  {
   "cell_type": "markdown",
   "metadata": {},
   "source": [
    " This used to give an infinite recursion\n"
   ]
  },
  {
   "cell_type": "code",
   "execution_count": 38,
   "metadata": {
    "collapsed": false
   },
   "outputs": [
    {
     "data": {
      "text/plain": [
       "          +-----------+                  +-------------+\n",
       "    +---+ |  +---+          +---+ +-+    |    +---+      +---+\n",
       "   \\|%pi \\|2\\|- 1  + s  - 2\\|%pi \\|s  + \\|- 2\\|- 1  + s \\|%pi\n",
       "   -----------------------------------------------------------\n",
       "                                2\n",
       "                                                    Type: Expression(Integer)\n"
      ]
     },
     "execution_count": 38,
     "metadata": {},
     "output_type": "execute_result"
    }
   ],
   "source": [
    "laplace(sin(t)^2/t^(3/2),t,s)"
   ]
  },
  {
   "cell_type": "code",
   "execution_count": 39,
   "metadata": {
    "collapsed": false
   },
   "outputs": [
    {
     "name": "stdout",
     "output_type": "stream",
     "text": [
      "   All user variables and function definitions have been cleared.\n",
      "   All )browse facility databases have been cleared.\n",
      "   Internally cached functions and constructors have been cleared.\n",
      "   )clear completely is finished.\n"
     ]
    },
    {
     "data": {
      "text/plain": []
     },
     "execution_count": 39,
     "metadata": {},
     "output_type": "execute_result"
    }
   ],
   "source": [
    ")clear completely"
   ]
  },
  {
   "cell_type": "markdown",
   "metadata": {},
   "source": [
    " The following used to fail\n"
   ]
  },
  {
   "cell_type": "code",
   "execution_count": 40,
   "metadata": {
    "collapsed": false
   },
   "outputs": [
    {
     "data": {
      "text/plain": [
       "    4    3    2\n",
       "   x  + x  + x  + x + 1\n",
       "                                                    Type: Polynomial(Integer)\n"
      ]
     },
     "execution_count": 40,
     "metadata": {},
     "output_type": "execute_result"
    }
   ],
   "source": [
    "P:=x^4+x^3+x^2+x+1"
   ]
  },
  {
   "cell_type": "code",
   "execution_count": 41,
   "metadata": {
    "collapsed": false
   },
   "outputs": [
    {
     "data": {
      "text/plain": [
       "                                +--------+\n",
       "    5    4     3     2          | +-+\n",
       "   x  + x  + 2x  + 2x  + 2x + 4\\|\\|3  - 1  - 2\n",
       "                                            Type: Polynomial(AlgebraicNumber)\n"
      ]
     },
     "execution_count": 41,
     "metadata": {},
     "output_type": "execute_result"
    }
   ],
   "source": [
    "Q:=x^5+x^4+2*x^3+2*x^2+2*x-2+4*sqrt(-1+sqrt(3))"
   ]
  },
  {
   "cell_type": "code",
   "execution_count": 42,
   "metadata": {
    "collapsed": false
   },
   "outputs": [
    {
     "data": {
      "text/plain": [
       "                4    3    2\n",
       "               x  + x  + x  + x + 1\n",
       "   -------------------------------------------\n",
       "                                +--------+\n",
       "    5    4     3     2          | +-+\n",
       "   x  + x  + 2x  + 2x  + 2x + 4\\|\\|3  - 1  - 2\n",
       "                                  Type: Fraction(Polynomial(AlgebraicNumber))\n"
      ]
     },
     "execution_count": 42,
     "metadata": {},
     "output_type": "execute_result"
    }
   ],
   "source": [
    "int := P/Q"
   ]
  },
  {
   "cell_type": "code",
   "execution_count": 43,
   "metadata": {
    "collapsed": false
   },
   "outputs": [
    {
     "data": {
      "text/plain": [
       "                4    3    2\n",
       "               x  + x  + x  + x + 1\n",
       "   -------------------------------------------\n",
       "                                +--------+\n",
       "    5    4     3     2          | +-+\n",
       "   x  + x  + 2x  + 2x  + 2x + 4\\|\\|3  - 1  - 2\n",
       "                             Type: Fraction(Polynomial(InnerAlgebraicNumber))\n"
      ]
     },
     "execution_count": 43,
     "metadata": {},
     "output_type": "execute_result"
    }
   ],
   "source": [
    "int2 := int pretend FRAC POLY IAN"
   ]
  },
  {
   "cell_type": "code",
   "execution_count": 44,
   "metadata": {
    "collapsed": false
   },
   "outputs": [
    {
     "name": "stdout",
     "output_type": "stream",
     "text": [
      "                                                                                                                                                                                                                                                                                                                                                                                                                                                                                                                                                                                                                                                                                                                                                                                                                                                                                                                                                                                                                                                                                                                                                                                                                                                                                                                                                                                                                                                                                                                                                                                                                                                                                                                                                                                                                                                                                                                                                                                                                                                                                                                                                                                                                                                                                                                                                                                                                                                                                    "
     ]
    },
    {
     "data": {
      "text/plain": [
       "           ROOT\n",
       "                                  2\n",
       "                - 62485556496%%BH1  + (- 41657037664%%BH0 + 31242778248)%%BH1\n",
       "              + \n",
       "                                  2\n",
       "                - 62485556496%%BH0  + 31242778248%%BH0\n",
       "              + \n",
       "                                               +--------+\n",
       "                             +-+               | +-+                  +-+\n",
       "                (- 775756864\\|3  - 1253942848)\\|\\|3  - 1  - 592555112\\|3\n",
       "              + \n",
       "                - 6973456993\n",
       "         + \n",
       "               +----------+          +----------+          +----------+\n",
       "           - 4\\|1301782427 %%BH1 - 4\\|1301782427 %%BH0 + 3\\|1301782427\n",
       "      /\n",
       "           +----------+\n",
       "         8\\|1301782427\n",
       "    *\n",
       "       log\n",
       "            x\n",
       "          + \n",
       "                                           +-+                +----------+\n",
       "                              (24658955920\\|3  - 27253774232)\\|1301782427\n",
       "                           *\n",
       "                               +--------+\n",
       "                               | +-+\n",
       "                              \\|\\|3  - 1\n",
       "                          + \n",
       "                                           +-+                +----------+\n",
       "                            (- 45982413200\\|3  + 62655431400)\\|1301782427\n",
       "                       *\n",
       "                          %%BH0\n",
       "                      + \n",
       "                                                                     +--------+\n",
       "                                      +-+               +----------+ | +-+\n",
       "                        (- 4702564008\\|3  + 1908898008)\\|1301782427 \\|\\|3  - 1\n",
       "                      + \n",
       "                                     +-+                +----------+\n",
       "                        (10520265136\\|3  - 12348982318)\\|1301782427\n",
       "                   *\n",
       "                      %%BH1\n",
       "                  + \n",
       "                                                                     +--------+\n",
       "                                      +-+               +----------+ | +-+\n",
       "                        (- 4702564008\\|3  + 1908898008)\\|1301782427 \\|\\|3  - 1\n",
       "                      + \n",
       "                                     +-+                +----------+\n",
       "                        (10520265136\\|3  - 12348982318)\\|1301782427\n",
       "                   *\n",
       "                      %%BH0\n",
       "                  + \n",
       "                                                             +--------+\n",
       "                               +-+              +----------+ | +-+\n",
       "                    (898689130\\|3  + 364291542)\\|1301782427 \\|\\|3  - 1\n",
       "                  + \n",
       "                                  +-+               +----------+\n",
       "                    (- 2347364990\\|3  + 2398230630)\\|1301782427\n",
       "               *\n",
       "                  ROOT\n",
       "                                         2\n",
       "                       - 62485556496%%BH1\n",
       "                     + \n",
       "                       (- 41657037664%%BH0 + 31242778248)%%BH1\n",
       "                     + \n",
       "                                         2\n",
       "                       - 62485556496%%BH0  + 31242778248%%BH0\n",
       "                     + \n",
       "                                                      +--------+\n",
       "                                    +-+               | +-+                  +-+\n",
       "                       (- 775756864\\|3  - 1253942848)\\|\\|3  - 1  - 592555112\\|3\n",
       "                     + \n",
       "                       - 6973456993\n",
       "              + \n",
       "                                                 +-+\n",
       "                          (128402381939294471360\\|3  - 141913937458572084256)\n",
       "                       *\n",
       "                           +--------+\n",
       "                           | +-+\n",
       "                          \\|\\|3  - 1\n",
       "                      + \n",
       "                                                +-+\n",
       "                        - 239436389819251345600\\|3  + 326254958210496031200\n",
       "                   *\n",
       "                      %%BH0\n",
       "                  + \n",
       "                                              +-+\n",
       "                      (- 24486860749828349664\\|3  + 9939879526998821664)\n",
       "                   *\n",
       "                       +--------+\n",
       "                       | +-+\n",
       "                      \\|\\|3  - 1\n",
       "                  + \n",
       "                                         +-+\n",
       "                    54780385125702260288\\|3  - 64302752691624503144\n",
       "               *\n",
       "                       2\n",
       "                  %%BH1\n",
       "              + \n",
       "                                                 +-+\n",
       "                          (128402381939294471360\\|3  - 141913937458572084256)\n",
       "                       *\n",
       "                           +--------+\n",
       "                           | +-+\n",
       "                          \\|\\|3  - 1\n",
       "                      + \n",
       "                                                +-+\n",
       "                        - 239436389819251345600\\|3  + 326254958210496031200\n",
       "                   *\n",
       "                           2\n",
       "                      %%BH0\n",
       "                  + \n",
       "                                                  +-+\n",
       "                          (- 96301786454470853520\\|3  + 106435453093929063192)\n",
       "                       *\n",
       "                           +--------+\n",
       "                           | +-+\n",
       "                          \\|\\|3  - 1\n",
       "                      + \n",
       "                                              +-+\n",
       "                        179577292364438509200\\|3  - 244691218657872023400\n",
       "                   *\n",
       "                      %%BH0\n",
       "                  + \n",
       "                                                                     +--------+\n",
       "                                          +-+                        | +-+\n",
       "                    (13685554695291588208\\|3  - 9351822955970445984)\\|\\|3  - 1\n",
       "                  + \n",
       "                                           +-+\n",
       "                    - 28862254869328572296\\|3  + 35739166558609821318\n",
       "               *\n",
       "                  %%BH1\n",
       "              + \n",
       "                                              +-+\n",
       "                      (- 24486860749828349664\\|3  + 9939879526998821664)\n",
       "                   *\n",
       "                       +--------+\n",
       "                       | +-+\n",
       "                      \\|\\|3  - 1\n",
       "                  + \n",
       "                                         +-+\n",
       "                    54780385125702260288\\|3  - 64302752691624503144\n",
       "               *\n",
       "                       2\n",
       "                  %%BH0\n",
       "              + \n",
       "                                                                     +--------+\n",
       "                                          +-+                        | +-+\n",
       "                    (13685554695291588208\\|3  - 9351822955970445984)\\|\\|3  - 1\n",
       "                  + \n",
       "                                           +-+\n",
       "                    - 28862254869328572296\\|3  + 35739166558609821318\n",
       "               *\n",
       "                  %%BH0\n",
       "              + \n",
       "                                                                 +--------+\n",
       "                                       +-+                       | +-+\n",
       "                (- 1718871436362481654\\|3  + 938859440158235013)\\|\\|3  - 1\n",
       "              + \n",
       "                                    +-+\n",
       "                3817123908161908476\\|3  - 4574368378005573763\n",
       "           /\n",
       "              99053573869819283\n",
       "   + \n",
       "       %%BH0\n",
       "    *\n",
       "       log\n",
       "            x\n",
       "          + \n",
       "                                                      +--------+\n",
       "                                  +-+                 | +-+\n",
       "                    (197271647360\\|3  - 218030193856)\\|\\|3  - 1\n",
       "                  + \n",
       "                                   +-+\n",
       "                    - 367859305600\\|3  + 501243451200\n",
       "               *\n",
       "                       3\n",
       "                  %%BH0\n",
       "              + \n",
       "                                                        +--------+\n",
       "                                    +-+                 | +-+\n",
       "                    (- 110333223456\\|3  + 148251461328)\\|\\|3  - 1\n",
       "                  + \n",
       "                                 +-+\n",
       "                    191732358112\\|3  - 277140729856\n",
       "               *\n",
       "                       2\n",
       "                  %%BH0\n",
       "              + \n",
       "                                                    +--------+\n",
       "                                 +-+                | +-+                    +-+\n",
       "                    (20807178288\\|3  - 33064476068)\\|\\|3  - 1  - 33322639792\\|3\n",
       "                  + \n",
       "                    50272712984\n",
       "               *\n",
       "                  %%BH0\n",
       "              + \n",
       "                                                +--------+\n",
       "                              +-+               | +-+                   +-+\n",
       "                (- 1326544080\\|3  + 2340230968)\\|\\|3  - 1  + 1941306416\\|3\n",
       "              + \n",
       "                - 3004279875\n",
       "           /\n",
       "              76090729\n",
       "   + \n",
       "                +--------+\n",
       "     1          | +-+\n",
       "     - log(x + \\|\\|3  - 1 )\n",
       "     4\n",
       "   + \n",
       "       %%BH1\n",
       "    *\n",
       "       log\n",
       "            x\n",
       "          + \n",
       "                                                            +--------+\n",
       "                                        +-+                 | +-+\n",
       "                        (- 197271647360\\|3  + 218030193856)\\|\\|3  - 1\n",
       "                      + \n",
       "                                     +-+\n",
       "                        367859305600\\|3  - 501243451200\n",
       "                   *\n",
       "                      %%BH0\n",
       "                  + \n",
       "                                                    +--------+\n",
       "                                 +-+                | +-+                    +-+\n",
       "                    (37620512064\\|3  - 15271184064)\\|\\|3  - 1  - 84162121088\\|3\n",
       "                  + \n",
       "                    98791858544\n",
       "               *\n",
       "                       2\n",
       "                  %%BH1\n",
       "              + \n",
       "                                                            +--------+\n",
       "                                        +-+                 | +-+\n",
       "                        (- 197271647360\\|3  + 218030193856)\\|\\|3  - 1\n",
       "                      + \n",
       "                                     +-+\n",
       "                        367859305600\\|3  - 501243451200\n",
       "                   *\n",
       "                           2\n",
       "                      %%BH0\n",
       "                  + \n",
       "                                                          +--------+\n",
       "                                      +-+                 | +-+\n",
       "                        (147953735520\\|3  - 163522645392)\\|\\|3  - 1\n",
       "                      + \n",
       "                                       +-+\n",
       "                        - 275894479200\\|3  + 375932588400\n",
       "                   *\n",
       "                      %%BH0\n",
       "                  + \n",
       "                                                      +--------+\n",
       "                                   +-+                | +-+\n",
       "                    (- 21025871008\\|3  + 14367720384)\\|\\|3  - 1\n",
       "                  + \n",
       "                                +-+\n",
       "                    44342670896\\|3  - 54908048868\n",
       "               *\n",
       "                  %%BH1\n",
       "              + \n",
       "                                                        +--------+\n",
       "                                    +-+                 | +-+\n",
       "                    (- 197271647360\\|3  + 218030193856)\\|\\|3  - 1\n",
       "                  + \n",
       "                                 +-+\n",
       "                    367859305600\\|3  - 501243451200\n",
       "               *\n",
       "                       3\n",
       "                  %%BH0\n",
       "              + \n",
       "                                                      +--------+\n",
       "                                  +-+                 | +-+\n",
       "                    (147953735520\\|3  - 163522645392)\\|\\|3  - 1\n",
       "                  + \n",
       "                                   +-+\n",
       "                    - 275894479200\\|3  + 375932588400\n",
       "               *\n",
       "                       2\n",
       "                  %%BH0\n",
       "              + \n",
       "                                                      +--------+\n",
       "                                   +-+                | +-+\n",
       "                    (- 41833049296\\|3  + 47432196452)\\|\\|3  - 1\n",
       "                  + \n",
       "                                +-+\n",
       "                    77665310688\\|3  - 105180761852\n",
       "               *\n",
       "                  %%BH0\n",
       "              + \n",
       "                                              +--------+\n",
       "                            +-+               | +-+                   +-+\n",
       "                (3967340884\\|3  - 3858743135)\\|\\|3  - 1  - 7805763992\\|3\n",
       "              + \n",
       "                10108224542\n",
       "           /\n",
       "              76090729\n",
       "   + \n",
       "           -\n",
       "              ROOT\n",
       "                                     2\n",
       "                   - 62485556496%%BH1  + (- 41657037664%%BH0 + 31242778248)%%BH1\n",
       "                 + \n",
       "                                     2\n",
       "                   - 62485556496%%BH0  + 31242778248%%BH0\n",
       "                 + \n",
       "                                                  +--------+\n",
       "                                +-+               | +-+                  +-+\n",
       "                   (- 775756864\\|3  - 1253942848)\\|\\|3  - 1  - 592555112\\|3\n",
       "                 + \n",
       "                   - 6973456993\n",
       "         + \n",
       "               +----------+          +----------+          +----------+\n",
       "           - 4\\|1301782427 %%BH1 - 4\\|1301782427 %%BH0 + 3\\|1301782427\n",
       "      /\n",
       "           +----------+\n",
       "         8\\|1301782427\n",
       "    *\n",
       "       log\n",
       "            x\n",
       "          + \n",
       "                                             +-+                +----------+\n",
       "                              (- 24658955920\\|3  + 27253774232)\\|1301782427\n",
       "                           *\n",
       "                               +--------+\n",
       "                               | +-+\n",
       "                              \\|\\|3  - 1\n",
       "                          + \n",
       "                                         +-+                +----------+\n",
       "                            (45982413200\\|3  - 62655431400)\\|1301782427\n",
       "                       *\n",
       "                          %%BH0\n",
       "                      + \n",
       "                                                                   +--------+\n",
       "                                    +-+               +----------+ | +-+\n",
       "                        (4702564008\\|3  - 1908898008)\\|1301782427 \\|\\|3  - 1\n",
       "                      + \n",
       "                                       +-+                +----------+\n",
       "                        (- 10520265136\\|3  + 12348982318)\\|1301782427\n",
       "                   *\n",
       "                      %%BH1\n",
       "                  + \n",
       "                                                                   +--------+\n",
       "                                    +-+               +----------+ | +-+\n",
       "                        (4702564008\\|3  - 1908898008)\\|1301782427 \\|\\|3  - 1\n",
       "                      + \n",
       "                                       +-+                +----------+\n",
       "                        (- 10520265136\\|3  + 12348982318)\\|1301782427\n",
       "                   *\n",
       "                      %%BH0\n",
       "                  + \n",
       "                                                               +--------+\n",
       "                                 +-+              +----------+ | +-+\n",
       "                    (- 898689130\\|3  - 364291542)\\|1301782427 \\|\\|3  - 1\n",
       "                  + \n",
       "                                +-+               +----------+\n",
       "                    (2347364990\\|3  - 2398230630)\\|1301782427\n",
       "               *\n",
       "                  ROOT\n",
       "                                         2\n",
       "                       - 62485556496%%BH1\n",
       "                     + \n",
       "                       (- 41657037664%%BH0 + 31242778248)%%BH1\n",
       "                     + \n",
       "                                         2\n",
       "                       - 62485556496%%BH0  + 31242778248%%BH0\n",
       "                     + \n",
       "                                                      +--------+\n",
       "                                    +-+               | +-+                  +-+\n",
       "                       (- 775756864\\|3  - 1253942848)\\|\\|3  - 1  - 592555112\\|3\n",
       "                     + \n",
       "                       - 6973456993\n",
       "              + \n",
       "                                                 +-+\n",
       "                          (128402381939294471360\\|3  - 141913937458572084256)\n",
       "                       *\n",
       "                           +--------+\n",
       "                           | +-+\n",
       "                          \\|\\|3  - 1\n",
       "                      + \n",
       "                                                +-+\n",
       "                        - 239436389819251345600\\|3  + 326254958210496031200\n",
       "                   *\n",
       "                      %%BH0\n",
       "                  + \n",
       "                                              +-+\n",
       "                      (- 24486860749828349664\\|3  + 9939879526998821664)\n",
       "                   *\n",
       "                       +--------+\n",
       "                       | +-+\n",
       "                      \\|\\|3  - 1\n",
       "                  + \n",
       "                                         +-+\n",
       "                    54780385125702260288\\|3  - 64302752691624503144\n",
       "               *\n",
       "                       2\n",
       "                  %%BH1\n",
       "              + \n",
       "                                                 +-+\n",
       "                          (128402381939294471360\\|3  - 141913937458572084256)\n",
       "                       *\n",
       "                           +--------+\n",
       "                           | +-+\n",
       "                          \\|\\|3  - 1\n",
       "                      + \n",
       "                                                +-+\n",
       "                        - 239436389819251345600\\|3  + 326254958210496031200\n",
       "                   *\n",
       "                           2\n",
       "                      %%BH0\n",
       "                  + \n",
       "                                                  +-+\n",
       "                          (- 96301786454470853520\\|3  + 106435453093929063192)\n",
       "                       *\n",
       "                           +--------+\n",
       "                           | +-+\n",
       "                          \\|\\|3  - 1\n",
       "                      + \n",
       "                                              +-+\n",
       "                        179577292364438509200\\|3  - 244691218657872023400\n",
       "                   *\n",
       "                      %%BH0\n",
       "                  + \n",
       "                                                                     +--------+\n",
       "                                          +-+                        | +-+\n",
       "                    (13685554695291588208\\|3  - 9351822955970445984)\\|\\|3  - 1\n",
       "                  + \n",
       "                                           +-+\n",
       "                    - 28862254869328572296\\|3  + 35739166558609821318\n",
       "               *\n",
       "                  %%BH1\n",
       "              + \n",
       "                                              +-+\n",
       "                      (- 24486860749828349664\\|3  + 9939879526998821664)\n",
       "                   *\n",
       "                       +--------+\n",
       "                       | +-+\n",
       "                      \\|\\|3  - 1\n",
       "                  + \n",
       "                                         +-+\n",
       "                    54780385125702260288\\|3  - 64302752691624503144\n",
       "               *\n",
       "                       2\n",
       "                  %%BH0\n",
       "              + \n",
       "                                                                     +--------+\n",
       "                                          +-+                        | +-+\n",
       "                    (13685554695291588208\\|3  - 9351822955970445984)\\|\\|3  - 1\n",
       "                  + \n",
       "                                           +-+\n",
       "                    - 28862254869328572296\\|3  + 35739166558609821318\n",
       "               *\n",
       "                  %%BH0\n",
       "              + \n",
       "                                                                 +--------+\n",
       "                                       +-+                       | +-+\n",
       "                (- 1718871436362481654\\|3  + 938859440158235013)\\|\\|3  - 1\n",
       "              + \n",
       "                                    +-+\n",
       "                3817123908161908476\\|3  - 4574368378005573763\n",
       "           /\n",
       "              99053573869819283\n",
       "                            Type: Union(Expression(InnerAlgebraicNumber),...)\n"
      ]
     },
     "execution_count": 44,
     "metadata": {},
     "output_type": "execute_result"
    }
   ],
   "source": [
    "ans:=integrate(int2,x)"
   ]
  },
  {
   "cell_type": "code",
   "execution_count": 45,
   "metadata": {
    "collapsed": false
   },
   "outputs": [
    {
     "data": {
      "text/plain": []
     },
     "execution_count": 45,
     "metadata": {},
     "output_type": "execute_result"
    }
   ],
   "source": [
    "--\n",
    "-- EOF\n",
    "--"
   ]
  }
 ],
 "metadata": {
  "kernelspec": {
   "display_name": "FriCAS",
   "language": "spad",
   "name": "ifricas"
  },
  "language_info": {
   "codemirror_mode": "spad",
   "mimetype": "text/x-spad",
   "name": "SPAD",
   "pygments_lexer": "spad",
   "version": "1.2.6"
  },
  "name": "r20abugs.ipynb"
 },
 "nbformat": 4,
 "nbformat_minor": 0
}