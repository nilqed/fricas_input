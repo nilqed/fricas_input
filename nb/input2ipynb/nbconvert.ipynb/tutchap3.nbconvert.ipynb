{
 "cells": [
  {
   "cell_type": "code",
   "execution_count": 0,
   "metadata": {
    "collapsed": false
   },
   "outputs": [
    {
     "data": {
      "text/plain": []
     },
     "execution_count": 0,
     "metadata": {},
     "output_type": "execute_result"
    }
   ],
   "source": [
    ")set break resume"
   ]
  },
  {
   "cell_type": "markdown",
   "metadata": {},
   "source": [
    "Copyright The Numerical Algorithms Group Limited 1996.\n"
   ]
  },
  {
   "cell_type": "code",
   "execution_count": 1,
   "metadata": {
    "collapsed": false
   },
   "outputs": [
    {
     "name": "stdout",
     "output_type": "stream",
     "text": [
      "Warning: HyperTeX macro table not found\n"
     ]
    },
    {
     "data": {
      "text/plain": [
       "   2x\n",
       "                                                    Type: Polynomial(Integer)\n"
      ]
     },
     "execution_count": 1,
     "metadata": {},
     "output_type": "execute_result"
    }
   ],
   "source": [
    "D(x^2,x)"
   ]
  },
  {
   "cell_type": "code",
   "execution_count": 2,
   "metadata": {
    "collapsed": false
   },
   "outputs": [
    {
     "data": {
      "text/plain": [
       "   cos(x)\n",
       "                                                    Type: Expression(Integer)\n"
      ]
     },
     "execution_count": 2,
     "metadata": {},
     "output_type": "execute_result"
    }
   ],
   "source": [
    "D(sin x,x)"
   ]
  },
  {
   "cell_type": "code",
   "execution_count": 3,
   "metadata": {
    "collapsed": false
   },
   "outputs": [
    {
     "data": {
      "text/plain": [
       "              2                         x\n",
       "   (- x tan(x)  + tan(x) - x)cos(log(------))\n",
       "                                     tan(x)\n",
       "   ------------------------------------------\n",
       "                    x tan(x)\n",
       "                                                    Type: Expression(Integer)\n"
      ]
     },
     "execution_count": 3,
     "metadata": {},
     "output_type": "execute_result"
    }
   ],
   "source": [
    "D(sin(log(x/tan(x))),x)"
   ]
  },
  {
   "cell_type": "code",
   "execution_count": 4,
   "metadata": {
    "collapsed": false
   },
   "outputs": [
    {
     "data": {
      "text/plain": [
       "          3\n",
       "   2tan(x)  + 2tan(x)\n",
       "                                                    Type: Expression(Integer)\n"
      ]
     },
     "execution_count": 4,
     "metadata": {},
     "output_type": "execute_result"
    }
   ],
   "source": [
    "D(tan x,x,2)"
   ]
  },
  {
   "cell_type": "code",
   "execution_count": 5,
   "metadata": {
    "collapsed": false
   },
   "outputs": [
    {
     "data": {
      "text/plain": [
       "          4          2\n",
       "   6tan(x)  + 8tan(x)  + 2\n",
       "                                                    Type: Expression(Integer)\n"
      ]
     },
     "execution_count": 5,
     "metadata": {},
     "output_type": "execute_result"
    }
   ],
   "source": [
    "D(tan x,x,3)"
   ]
  },
  {
   "cell_type": "code",
   "execution_count": 6,
   "metadata": {
    "collapsed": false
   },
   "outputs": [
    {
     "data": {
      "text/plain": [
       "   y cos(x y)\n",
       "                                                    Type: Expression(Integer)\n"
      ]
     },
     "execution_count": 6,
     "metadata": {},
     "output_type": "execute_result"
    }
   ],
   "source": [
    "D(sin(x*y),x)"
   ]
  },
  {
   "cell_type": "code",
   "execution_count": 7,
   "metadata": {
    "collapsed": false
   },
   "outputs": [
    {
     "data": {
      "text/plain": [
       "                      2\n",
       "   - 2y sin(x y) - x y cos(x y)\n",
       "                                                    Type: Expression(Integer)\n"
      ]
     },
     "execution_count": 7,
     "metadata": {},
     "output_type": "execute_result"
    }
   ],
   "source": [
    "D(sin(x*y),[y,x,x])"
   ]
  },
  {
   "cell_type": "code",
   "execution_count": 8,
   "metadata": {
    "collapsed": false
   },
   "outputs": [
    {
     "data": {
      "text/plain": [
       "   []\n",
       "                                                          Type: BasicOperator\n"
      ]
     },
     "execution_count": 8,
     "metadata": {},
     "output_type": "execute_result"
    }
   ],
   "source": [
    "dalembert := operator _[_]"
   ]
  },
  {
   "cell_type": "code",
   "execution_count": 9,
   "metadata": {
    "collapsed": false
   },
   "outputs": [
    {
     "data": {
      "text/plain": [
       "   [](u)\n",
       "                                                    Type: Expression(Integer)\n"
      ]
     },
     "execution_count": 9,
     "metadata": {},
     "output_type": "execute_result"
    }
   ],
   "source": [
    "dalembert u"
   ]
  },
  {
   "cell_type": "code",
   "execution_count": 10,
   "metadata": {
    "collapsed": false
   },
   "outputs": [
    {
     "data": {
      "text/plain": [
       "   J\n",
       "    0\n",
       "                                                          Type: BasicOperator\n"
      ]
     },
     "execution_count": 10,
     "metadata": {},
     "output_type": "execute_result"
    }
   ],
   "source": [
    "J0 := operator script(J,[[0]]::List List OutputForm)"
   ]
  },
  {
   "cell_type": "code",
   "execution_count": 11,
   "metadata": {
    "collapsed": false
   },
   "outputs": [
    {
     "data": {
      "text/plain": [
       "   symbol\n",
       "         sub1,sub2\n",
       "                                                                 Type: Symbol\n"
      ]
     },
     "execution_count": 11,
     "metadata": {},
     "output_type": "execute_result"
    }
   ],
   "source": [
    "symbol[sub1,sub2]"
   ]
  },
  {
   "cell_type": "code",
   "execution_count": 12,
   "metadata": {
    "collapsed": false
   },
   "outputs": [
    {
     "data": {
      "text/plain": [
       "                                                          Type: BasicOperator\n"
      ]
     },
     "execution_count": 12,
     "metadata": {},
     "output_type": "execute_result"
    }
   ],
   "source": [
    "f := operator 'f; g := operator 'g;"
   ]
  },
  {
   "cell_type": "code",
   "execution_count": 13,
   "metadata": {
    "collapsed": false
   },
   "outputs": [
    {
     "data": {
      "text/plain": [
       "        ,           ,\n",
       "   f(x)g (x) + g(x)f (x)\n",
       "\n",
       "                                                    Type: Expression(Integer)\n"
      ]
     },
     "execution_count": 13,
     "metadata": {},
     "output_type": "execute_result"
    }
   ],
   "source": [
    "D(f(x)*g(x),x)"
   ]
  },
  {
   "cell_type": "code",
   "execution_count": 14,
   "metadata": {
    "collapsed": false
   },
   "outputs": [
    {
     "data": {
      "text/plain": [
       "          ,           ,\n",
       "   - f(x)g (x) + g(x)f (x)\n",
       "\n",
       "   -----------------------\n",
       "                2\n",
       "            g(x)\n",
       "                                                    Type: Expression(Integer)\n"
      ]
     },
     "execution_count": 14,
     "metadata": {},
     "output_type": "execute_result"
    }
   ],
   "source": [
    "D(f(x)/g(x),x)"
   ]
  },
  {
   "cell_type": "code",
   "execution_count": 15,
   "metadata": {
    "collapsed": false
   },
   "outputs": [
    {
     "data": {
      "text/plain": [
       "    ,       ,\n",
       "   f (g(x))g (x)\n",
       "\n",
       "                                                    Type: Expression(Integer)\n"
      ]
     },
     "execution_count": 15,
     "metadata": {},
     "output_type": "execute_result"
    }
   ],
   "source": [
    "D(f(g(x)),x)"
   ]
  },
  {
   "cell_type": "code",
   "execution_count": 16,
   "metadata": {
    "collapsed": false
   },
   "outputs": [
    {
     "data": {
      "text/plain": [
       "                                                          Type: BasicOperator\n"
      ]
     },
     "execution_count": 16,
     "metadata": {},
     "output_type": "execute_result"
    }
   ],
   "source": [
    "r := operator 'r; theta := operator 'theta ;"
   ]
  },
  {
   "cell_type": "code",
   "execution_count": 17,
   "metadata": {
    "collapsed": false
   },
   "outputs": [
    {
     "data": {
      "text/plain": [
       "                                                                   Type: Void\n"
      ]
     },
     "execution_count": 17,
     "metadata": {},
     "output_type": "execute_result"
    }
   ],
   "source": [
    "x(t) == r(t)*cos theta t"
   ]
  },
  {
   "cell_type": "code",
   "execution_count": 18,
   "metadata": {
    "collapsed": false
   },
   "outputs": [
    {
     "data": {
      "text/plain": [
       "                                                                   Type: Void\n"
      ]
     },
     "execution_count": 18,
     "metadata": {},
     "output_type": "execute_result"
    }
   ],
   "source": [
    "y(t) == r(t)*sin theta t"
   ]
  },
  {
   "cell_type": "code",
   "execution_count": 19,
   "metadata": {
    "collapsed": false
   },
   "outputs": [
    {
     "name": "stdout",
     "output_type": "stream",
     "text": [
      "   Compiling function x with type Variable(t) -> Expression(Integer) \n"
     ]
    },
    {
     "data": {
      "text/plain": [
       "                           ,                    ,\n",
       "   - r(t)sin(theta(t))theta (t) + cos(theta(t))r (t)\n",
       "\n",
       "                                                    Type: Expression(Integer)\n"
      ]
     },
     "execution_count": 19,
     "metadata": {},
     "output_type": "execute_result"
    }
   ],
   "source": [
    "D(x(t),t)"
   ]
  },
  {
   "cell_type": "code",
   "execution_count": 20,
   "metadata": {
    "collapsed": false
   },
   "outputs": [
    {
     "name": "stdout",
     "output_type": "stream",
     "text": [
      "   Compiling function y with type Variable(t) -> Expression(Integer) \n"
     ]
    },
    {
     "data": {
      "text/plain": [
       "                         ,                    ,\n",
       "   r(t)cos(theta(t))theta (t) + sin(theta(t))r (t)\n",
       "\n",
       "                                                    Type: Expression(Integer)\n"
      ]
     },
     "execution_count": 20,
     "metadata": {},
     "output_type": "execute_result"
    }
   ],
   "source": [
    "D(y(t),t)"
   ]
  },
  {
   "cell_type": "code",
   "execution_count": 21,
   "metadata": {
    "collapsed": false
   },
   "outputs": [
    {
     "name": "stdout",
     "output_type": "stream",
     "text": [
      "   All user variables and function definitions have been cleared.\n"
     ]
    },
    {
     "data": {
      "text/plain": []
     },
     "execution_count": 21,
     "metadata": {},
     "output_type": "execute_result"
    }
   ],
   "source": [
    ")clear all"
   ]
  },
  {
   "cell_type": "code",
   "execution_count": 22,
   "metadata": {
    "collapsed": false
   },
   "outputs": [
    {
     "data": {
      "text/plain": [
       "                                                          Type: BasicOperator\n"
      ]
     },
     "execution_count": 22,
     "metadata": {},
     "output_type": "execute_result"
    }
   ],
   "source": [
    "r := operator 'r; theta := operator 'theta;"
   ]
  },
  {
   "cell_type": "code",
   "execution_count": 23,
   "metadata": {
    "collapsed": false
   },
   "outputs": [
    {
     "data": {
      "text/plain": [
       "                                                    Type: Expression(Integer)\n"
      ]
     },
     "execution_count": 23,
     "metadata": {},
     "output_type": "execute_result"
    }
   ],
   "source": [
    "r := r(t); theta := theta(t);"
   ]
  },
  {
   "cell_type": "code",
   "execution_count": 24,
   "metadata": {
    "collapsed": false
   },
   "outputs": [
    {
     "data": {
      "text/plain": [
       "                                                                   Type: Void\n"
      ]
     },
     "execution_count": 24,
     "metadata": {},
     "output_type": "execute_result"
    }
   ],
   "source": [
    "x == r*cos theta; y == r*sin theta;"
   ]
  },
  {
   "cell_type": "code",
   "execution_count": 25,
   "metadata": {
    "collapsed": false
   },
   "outputs": [
    {
     "name": "stdout",
     "output_type": "stream",
     "text": [
      "   Compiling body of rule x to compute value of type Expression(Integer\n",
      "      ) \n",
      "   Compiling body of rule y to compute value of type Expression(Integer\n",
      "      ) \n"
     ]
    },
    {
     "data": {
      "text/plain": [
       "                                                    Type: Expression(Integer)\n"
      ]
     },
     "execution_count": 25,
     "metadata": {},
     "output_type": "execute_result"
    }
   ],
   "source": [
    "ax := D(x,t,2); ay := D(y,t,2);"
   ]
  },
  {
   "cell_type": "code",
   "execution_count": 26,
   "metadata": {
    "collapsed": false
   },
   "outputs": [
    {
     "data": {
      "text/plain": [
       "    ,,               ,   2\n",
       "   r  (t) - r(t)theta (t)\n",
       "\n",
       "                                                    Type: Expression(Integer)\n"
      ]
     },
     "execution_count": 26,
     "metadata": {},
     "output_type": "execute_result"
    }
   ],
   "source": [
    "eval(ax,theta=0)"
   ]
  },
  {
   "cell_type": "code",
   "execution_count": 27,
   "metadata": {
    "collapsed": false
   },
   "outputs": [
    {
     "data": {
      "text/plain": [
       "            ,,        ,        ,\n",
       "   r(t)theta  (t) + 2r (t)theta (t)\n",
       "\n",
       "                                                    Type: Expression(Integer)\n"
      ]
     },
     "execution_count": 27,
     "metadata": {},
     "output_type": "execute_result"
    }
   ],
   "source": [
    "eval(ay,theta=0)"
   ]
  },
  {
   "cell_type": "code",
   "execution_count": 28,
   "metadata": {
    "collapsed": false
   },
   "outputs": [
    {
     "data": {
      "text/plain": [
       "   f\n",
       "                                                          Type: BasicOperator\n"
      ]
     },
     "execution_count": 28,
     "metadata": {},
     "output_type": "execute_result"
    }
   ],
   "source": [
    "f := operator 'f"
   ]
  },
  {
   "cell_type": "code",
   "execution_count": 29,
   "metadata": {
    "collapsed": false
   },
   "outputs": [
    {
     "data": {
      "text/plain": [
       "        ,                         ,\n",
       "   theta (t)f  (r(t),theta(t)) + r (t)f  (r(t),theta(t))\n",
       "             ,2                        ,1\n",
       "                                                    Type: Expression(Integer)\n"
      ]
     },
     "execution_count": 29,
     "metadata": {},
     "output_type": "execute_result"
    }
   ],
   "source": [
    "D(f(r,theta),t)"
   ]
  },
  {
   "cell_type": "code",
   "execution_count": 30,
   "metadata": {
    "collapsed": false
   },
   "outputs": [
    {
     "name": "stdout",
     "output_type": "stream",
     "text": [
      "    "
     ]
    },
    {
     "data": {
      "text/plain": [
       "          ,   2                        ,   2\n",
       "     theta (t) f    (r(t),theta(t)) + r (t) f    (r(t),theta(t))\n",
       "                ,2,2                         ,1,1\n",
       "   + \n",
       "                            ,,                         ,,\n",
       "     f  (r(t),theta(t))theta  (t) + f  (r(t),theta(t))r  (t)\n",
       "      ,2                             ,1\n",
       "   + \n",
       "       ,        ,\n",
       "     2r (t)theta (t)f    (r(t),theta(t))\n",
       "                     ,1,2\n",
       "                                                    Type: Expression(Integer)\n"
      ]
     },
     "execution_count": 30,
     "metadata": {},
     "output_type": "execute_result"
    }
   ],
   "source": [
    "D(f(r,theta),t,2)"
   ]
  },
  {
   "cell_type": "code",
   "execution_count": 31,
   "metadata": {
    "collapsed": false
   },
   "outputs": [
    {
     "name": "stdout",
     "output_type": "stream",
     "text": [
      "   Compiled code for x has been cleared.\n"
     ]
    },
    {
     "data": {
      "text/plain": []
     },
     "execution_count": 31,
     "metadata": {},
     "output_type": "execute_result"
    }
   ],
   "source": [
    ")clear p x -- since x has a value"
   ]
  },
  {
   "cell_type": "code",
   "execution_count": 32,
   "metadata": {
    "collapsed": false
   },
   "outputs": [
    {
     "data": {
      "text/plain": [
       "   1  3\n",
       "   - x\n",
       "   3\n",
       "                                          Type: Polynomial(Fraction(Integer))\n"
      ]
     },
     "execution_count": 32,
     "metadata": {},
     "output_type": "execute_result"
    }
   ],
   "source": [
    "integrate(x^2,x)"
   ]
  },
  {
   "cell_type": "code",
   "execution_count": 33,
   "metadata": {
    "collapsed": false
   },
   "outputs": [
    {
     "data": {
      "text/plain": [
       "     x\n",
       "   %e\n",
       "                                         Type: Union(Expression(Integer),...)\n"
      ]
     },
     "execution_count": 33,
     "metadata": {},
     "output_type": "execute_result"
    }
   ],
   "source": [
    "integrate(%e^x,x)"
   ]
  },
  {
   "cell_type": "code",
   "execution_count": 34,
   "metadata": {
    "collapsed": false
   },
   "outputs": [
    {
     "data": {
      "text/plain": [
       "   log(x)\n",
       "                                         Type: Union(Expression(Integer),...)\n"
      ]
     },
     "execution_count": 34,
     "metadata": {},
     "output_type": "execute_result"
    }
   ],
   "source": [
    "integrate(1/x,x)"
   ]
  },
  {
   "cell_type": "code",
   "execution_count": 35,
   "metadata": {
    "collapsed": false
   },
   "outputs": [
    {
     "data": {
      "text/plain": [
       "   - cos(x)\n",
       "                                         Type: Union(Expression(Integer),...)\n"
      ]
     },
     "execution_count": 35,
     "metadata": {},
     "output_type": "execute_result"
    }
   ],
   "source": [
    "integrate(sin x,x)"
   ]
  },
  {
   "cell_type": "code",
   "execution_count": 36,
   "metadata": {
    "collapsed": false
   },
   "outputs": [
    {
     "data": {
      "text/plain": [
       "                                                                   Type: Void\n"
      ]
     },
     "execution_count": 36,
     "metadata": {},
     "output_type": "execute_result"
    }
   ],
   "source": [
    "I ==> integrate"
   ]
  },
  {
   "cell_type": "code",
   "execution_count": 37,
   "metadata": {
    "collapsed": false
   },
   "outputs": [
    {
     "data": {
      "text/plain": [
       "   1  4\n",
       "   - x\n",
       "   4\n",
       "                                          Type: Polynomial(Fraction(Integer))\n"
      ]
     },
     "execution_count": 37,
     "metadata": {},
     "output_type": "execute_result"
    }
   ],
   "source": [
    "I(x^3,x)"
   ]
  },
  {
   "cell_type": "code",
   "execution_count": 38,
   "metadata": {
    "collapsed": false
   },
   "outputs": [
    {
     "data": {
      "text/plain": [
       "      x\n",
       "    ++\n",
       "    |   sin(sin(%BI))d%BI\n",
       "   ++\n",
       "                                         Type: Union(Expression(Integer),...)\n"
      ]
     },
     "execution_count": 38,
     "metadata": {},
     "output_type": "execute_result"
    }
   ],
   "source": [
    "I(sin sin x,x)"
   ]
  },
  {
   "cell_type": "code",
   "execution_count": 39,
   "metadata": {
    "collapsed": false
   },
   "outputs": [
    {
     "data": {
      "text/plain": [
       "       n log(x)\n",
       "   x %e\n",
       "   ------------\n",
       "       n + 1\n",
       "                                         Type: Union(Expression(Integer),...)\n"
      ]
     },
     "execution_count": 39,
     "metadata": {},
     "output_type": "execute_result"
    }
   ],
   "source": [
    "I(x^n,x)"
   ]
  },
  {
   "cell_type": "code",
   "execution_count": 40,
   "metadata": {
    "collapsed": false
   },
   "outputs": [
    {
     "data": {
      "text/plain": [
       "       n log(x)\n",
       "   x %e         - 1\n",
       "   ----------------\n",
       "         n + 1\n",
       "                                                    Type: Expression(Integer)\n"
      ]
     },
     "execution_count": 40,
     "metadata": {},
     "output_type": "execute_result"
    }
   ],
   "source": [
    "% - 1/(n + 1)"
   ]
  },
  {
   "cell_type": "code",
   "execution_count": 41,
   "metadata": {
    "collapsed": false
   },
   "outputs": [
    {
     "data": {
      "text/plain": [
       "   log(x)\n",
       "                      Type: Union(OrderedCompletion(Expression(Integer)),...)\n"
      ]
     },
     "execution_count": 41,
     "metadata": {},
     "output_type": "execute_result"
    }
   ],
   "source": [
    "limit(%,n=-1)"
   ]
  },
  {
   "cell_type": "code",
   "execution_count": 42,
   "metadata": {
    "collapsed": false
   },
   "outputs": [
    {
     "name": "stderr",
     "output_type": "stream",
     "text": [
      "SIMPLE-TYPE-ERROR: \n",
      "Argument Y is not a REAL: NIL\n"
     ]
    },
    {
     "data": {
      "text/plain": []
     },
     "execution_count": 42,
     "metadata": {},
     "output_type": "execute_result"
    }
   ],
   "source": [
    "In := %% 17"
   ]
  },
  {
   "cell_type": "code",
   "execution_count": 43,
   "metadata": {
    "collapsed": false
   },
   "outputs": [
    {
     "data": {
      "text/plain": [
       "   log(x)\n",
       "                      Type: Union(OrderedCompletion(Expression(Integer)),...)\n"
      ]
     },
     "execution_count": 43,
     "metadata": {},
     "output_type": "execute_result"
    }
   ],
   "source": [
    "limit(%,n=-1)"
   ]
  },
  {
   "cell_type": "code",
   "execution_count": 44,
   "metadata": {
    "collapsed": false
   },
   "outputs": [
    {
     "data": {
      "text/plain": []
     },
     "execution_count": 44,
     "metadata": {},
     "output_type": "execute_result"
    }
   ],
   "source": [
    ")set stream calculate 5"
   ]
  },
  {
   "cell_type": "code",
   "execution_count": 45,
   "metadata": {
    "collapsed": false
   },
   "outputs": [
    {
     "data": {
      "text/plain": [
       "   In\n",
       "                      Type: UnivariatePuiseuxSeries(Expression(Integer),n,-1)\n"
      ]
     },
     "execution_count": 45,
     "metadata": {},
     "output_type": "execute_result"
    }
   ],
   "source": [
    "series(In,n=-1)          --  expand In in powers of (n+1)"
   ]
  },
  {
   "cell_type": "code",
   "execution_count": 46,
   "metadata": {
    "collapsed": false
   },
   "outputs": [
    {
     "data": {
      "text/plain": [
       "         - log(x)\n",
       "   - x %e         + In n + In\n",
       "   --------------------------\n",
       "              n + 1\n",
       "                                                    Type: Expression(Integer)\n"
      ]
     },
     "execution_count": 46,
     "metadata": {},
     "output_type": "execute_result"
    }
   ],
   "source": [
    "In2 := In - x*%e^(-log(x))*(n+1)^(-1)"
   ]
  },
  {
   "cell_type": "code",
   "execution_count": 47,
   "metadata": {
    "collapsed": false
   },
   "outputs": [
    {
     "data": {
      "text/plain": [
       "   [leftHandLimit=  + infinity,rightHandLimit= - infinity]\n",
       "Type: Union(Record(leftHandLimit: Union(OrderedCompletion(Expression(Integer)),\"failed\"),rightHandLimit: Union(OrderedCompletion(Expression(Integer)),\"failed\")),...)\n"
      ]
     },
     "execution_count": 47,
     "metadata": {},
     "output_type": "execute_result"
    }
   ],
   "source": [
    "limit(In2,n=-1)"
   ]
  },
  {
   "cell_type": "code",
   "execution_count": 48,
   "metadata": {
    "collapsed": false
   },
   "outputs": [
    {
     "data": {
      "text/plain": [
       "   [leftHandLimit= - infinity,rightHandLimit=  + infinity]\n",
       "Type: Union(Record(leftHandLimit: Union(OrderedCompletion(Expression(Integer)),\"failed\"),rightHandLimit: Union(OrderedCompletion(Expression(Integer)),\"failed\")),...)\n"
      ]
     },
     "execution_count": 48,
     "metadata": {},
     "output_type": "execute_result"
    }
   ],
   "source": [
    "limit(x^(n+1)/(n+1),n=-1)"
   ]
  },
  {
   "cell_type": "code",
   "execution_count": 49,
   "metadata": {
    "collapsed": false
   },
   "outputs": [
    {
     "data": {
      "text/plain": [
       "   log(x)\n",
       "                      Type: Union(OrderedCompletion(Expression(Integer)),...)\n"
      ]
     },
     "execution_count": 49,
     "metadata": {},
     "output_type": "execute_result"
    }
   ],
   "source": [
    "limit(x^(n+1)/(n+1)-1/(n+1),n=-1)"
   ]
  },
  {
   "cell_type": "code",
   "execution_count": 50,
   "metadata": {
    "collapsed": false
   },
   "outputs": [
    {
     "data": {
      "text/plain": [
       "          2      +---+\n",
       "        (x  - a)\\|- a  + 2a x         +-+\n",
       "    log(---------------------)      x\\|a\n",
       "                 2             atan(-----)\n",
       "                x  + a                a\n",
       "   [--------------------------,-----------]\n",
       "                +---+               +-+\n",
       "              2\\|- a               \\|a\n",
       "                                   Type: Union(List(Expression(Integer)),...)\n"
      ]
     },
     "execution_count": 50,
     "metadata": {},
     "output_type": "execute_result"
    }
   ],
   "source": [
    "I(1/(a+x^2),x)"
   ]
  },
  {
   "cell_type": "code",
   "execution_count": 51,
   "metadata": {
    "collapsed": false
   },
   "outputs": [
    {
     "data": {
      "text/plain": [
       "          1                           5\n",
       "        - -                           -\n",
       "   %pi    2   1    1       1   2      2\n",
       "   --- a    - - + --- a - --- a  + O(a )\n",
       "    2         x     3       5\n",
       "                  3x      5x\n",
       "                       Type: UnivariatePuiseuxSeries(Expression(Integer),a,0)\n"
      ]
     },
     "execution_count": 51,
     "metadata": {},
     "output_type": "execute_result"
    }
   ],
   "source": [
    "series(second %, a=0)"
   ]
  },
  {
   "cell_type": "code",
   "execution_count": 52,
   "metadata": {
    "collapsed": false
   },
   "outputs": [
    {
     "name": "stderr",
     "output_type": "stream",
     "text": [
      "SIMPLE-TYPE-ERROR: \n",
      "Argument Y is not a REAL: NIL\n"
     ]
    },
    {
     "data": {
      "text/plain": []
     },
     "execution_count": 52,
     "metadata": {},
     "output_type": "execute_result"
    }
   ],
   "source": [
    "second %% 27"
   ]
  },
  {
   "cell_type": "code",
   "execution_count": 53,
   "metadata": {
    "collapsed": false
   },
   "outputs": [
    {
     "name": "stderr",
     "output_type": "stream",
     "text": [
      "   There are 1 exposed and 1 unexposed library operations named elt \n",
      "      having 1 argument(s) but none was determined to be applicable. \n",
      "      Use HyperDoc Browse, or issue\n",
      "                               )display op elt\n",
      "      to learn more about the available operations. Perhaps \n",
      "      package-calling the operation or using coercions on the arguments\n",
      "      will allow you to apply the operation.\n",
      " \n",
      "   Cannot find application of object of type RewriteRule(Integer,\n",
      "      Integer,Expression(Integer)) to argument(s) of type(s) \n",
      "                                     Any\n",
      "      \n",
      "\n"
     ]
    },
    {
     "data": {
      "text/plain": [
       "error\n"
      ]
     },
     "execution_count": 53,
     "metadata": {},
     "output_type": "execute_result"
    }
   ],
   "source": [
    "(rule atan A == acot(1/A)) %"
   ]
  },
  {
   "cell_type": "code",
   "execution_count": 54,
   "metadata": {
    "collapsed": false
   },
   "outputs": [
    {
     "data": {
      "text/plain": [
       "   0\n",
       "                                         Type: Union(Expression(Integer),...)\n"
      ]
     },
     "execution_count": 54,
     "metadata": {},
     "output_type": "execute_result"
    }
   ],
   "source": [
    "I(atan x - acot(1/x),x)"
   ]
  },
  {
   "cell_type": "code",
   "execution_count": 55,
   "metadata": {
    "collapsed": false
   },
   "outputs": [
    {
     "data": {
      "text/plain": [
       "                   1\n",
       "   atan(A) == acot(-)\n",
       "                   A\n",
       "                       Type: RewriteRule(Integer,Integer,Expression(Integer))\n"
      ]
     },
     "execution_count": 55,
     "metadata": {},
     "output_type": "execute_result"
    }
   ],
   "source": [
    "atanRule := rule atan(A) == acot(1/A)"
   ]
  },
  {
   "cell_type": "code",
   "execution_count": 56,
   "metadata": {
    "collapsed": false
   },
   "outputs": [
    {
     "data": {
      "text/plain": [
       "        1\n",
       "   acot(-)\n",
       "        x\n",
       "                                                    Type: Expression(Integer)\n"
      ]
     },
     "execution_count": 56,
     "metadata": {},
     "output_type": "execute_result"
    }
   ],
   "source": [
    "atanRule atan x"
   ]
  },
  {
   "cell_type": "code",
   "execution_count": 57,
   "metadata": {
    "collapsed": false
   },
   "outputs": [
    {
     "data": {
      "text/plain": [
       "    +---+\n",
       "    | 2n      n\n",
       "   \\|x    == x\n",
       "                       Type: RewriteRule(Integer,Integer,Expression(Integer))\n"
      ]
     },
     "execution_count": 57,
     "metadata": {},
     "output_type": "execute_result"
    }
   ],
   "source": [
    "rSimp := rule(sqrt(x^(2*(n|even? n))) == x^n)"
   ]
  },
  {
   "cell_type": "code",
   "execution_count": 58,
   "metadata": {
    "collapsed": false
   },
   "outputs": [
    {
     "data": {
      "text/plain": [
       "    2\n",
       "   x\n",
       "                                                    Type: Expression(Integer)\n"
      ]
     },
     "execution_count": 58,
     "metadata": {},
     "output_type": "execute_result"
    }
   ],
   "source": [
    "rSimp(sqrt(x^4))"
   ]
  },
  {
   "cell_type": "code",
   "execution_count": 59,
   "metadata": {
    "collapsed": false
   },
   "outputs": [
    {
     "data": {
      "text/plain": [
       "    +--+\n",
       "    | 6\n",
       "   \\|x\n",
       "                                                    Type: Expression(Integer)\n"
      ]
     },
     "execution_count": 59,
     "metadata": {},
     "output_type": "execute_result"
    }
   ],
   "source": [
    "rSimp(sqrt(x^6))"
   ]
  },
  {
   "cell_type": "code",
   "execution_count": 60,
   "metadata": {
    "collapsed": false
   },
   "outputs": [
    {
     "data": {
      "text/plain": [
       "        ,           ,\n",
       "   f(x)g (x) + g(x)f (x)\n",
       "\n",
       "                                                    Type: Expression(Integer)\n"
      ]
     },
     "execution_count": 60,
     "metadata": {},
     "output_type": "execute_result"
    }
   ],
   "source": [
    "f := operator 'f; g := operator 'g; dprod := D(f(x)*g(x),x)"
   ]
  },
  {
   "cell_type": "code",
   "execution_count": 61,
   "metadata": {
    "collapsed": false
   },
   "outputs": [
    {
     "data": {
      "text/plain": [
       "          ,\n",
       "   sin(x)g (x) + g(x)cos(x)\n",
       "\n",
       "                                                    Type: Expression(Integer)\n"
      ]
     },
     "execution_count": 61,
     "metadata": {},
     "output_type": "execute_result"
    }
   ],
   "source": [
    "(rule f x == sin x)%"
   ]
  },
  {
   "cell_type": "code",
   "execution_count": 62,
   "metadata": {
    "collapsed": false
   },
   "outputs": [
    {
     "data": {
      "text/plain": [
       "     x                 x\n",
       "   %e sin(x) + cos(x)%e\n",
       "                                                    Type: Expression(Integer)\n"
      ]
     },
     "execution_count": 62,
     "metadata": {},
     "output_type": "execute_result"
    }
   ],
   "source": [
    "(rule g x == exp x)%"
   ]
  },
  {
   "cell_type": "code",
   "execution_count": 63,
   "metadata": {
    "collapsed": false
   },
   "outputs": [
    {
     "data": {
      "text/plain": [
       "           2         2\n",
       "   - sin(x)  + cos(x)\n",
       "                                                    Type: Expression(Integer)\n"
      ]
     },
     "execution_count": 63,
     "metadata": {},
     "output_type": "execute_result"
    }
   ],
   "source": [
    "(rule (f x == sin x; g x == cos x))dprod"
   ]
  },
  {
   "cell_type": "code",
   "execution_count": 64,
   "metadata": {
    "collapsed": false
   },
   "outputs": [
    {
     "data": {
      "text/plain": [
       "   {f(x) == sec(x),g(x) == csc(x)}\n",
       "                           Type: Ruleset(Integer,Integer,Expression(Integer))\n"
      ]
     },
     "execution_count": 64,
     "metadata": {},
     "output_type": "execute_result"
    }
   ],
   "source": [
    "substitutions := (rule (f x == sec x; g x == csc x))"
   ]
  },
  {
   "cell_type": "code",
   "execution_count": 65,
   "metadata": {
    "collapsed": false
   },
   "outputs": [
    {
     "data": {
      "text/plain": [
       "   csc(x)sec(x)tan(x) - cot(x)csc(x)sec(x)\n",
       "                                                    Type: Expression(Integer)\n"
      ]
     },
     "execution_count": 65,
     "metadata": {},
     "output_type": "execute_result"
    }
   ],
   "source": [
    "substitutions dprod"
   ]
  },
  {
   "cell_type": "code",
   "execution_count": 66,
   "metadata": {
    "collapsed": false
   },
   "outputs": [
    {
     "data": {
      "text/plain": [
       "       - cos(2x) + 1\n",
       "   log(-------------)\n",
       "             2\n",
       "   ------------------\n",
       "            2\n",
       "                                         Type: Union(Expression(Integer),...)\n"
      ]
     },
     "execution_count": 66,
     "metadata": {},
     "output_type": "execute_result"
    }
   ],
   "source": [
    "I(cot x, x)"
   ]
  },
  {
   "cell_type": "code",
   "execution_count": 67,
   "metadata": {
    "collapsed": false
   },
   "outputs": [
    {
     "data": {
      "text/plain": [
       "               2\n",
       "         tan(x)\n",
       "   log(-----------)\n",
       "             2\n",
       "       tan(x)  + 1\n",
       "   ----------------\n",
       "           2\n",
       "                                                    Type: Expression(Integer)\n"
      ]
     },
     "execution_count": 67,
     "metadata": {},
     "output_type": "execute_result"
    }
   ],
   "source": [
    "normalize %"
   ]
  },
  {
   "cell_type": "code",
   "execution_count": 68,
   "metadata": {
    "collapsed": false
   },
   "outputs": [
    {
     "data": {
      "text/plain": [
       "               2\n",
       "   log(- cos(x)  + 1)\n",
       "   ------------------\n",
       "            2\n",
       "                                                    Type: Expression(Integer)\n"
      ]
     },
     "execution_count": 68,
     "metadata": {},
     "output_type": "execute_result"
    }
   ],
   "source": [
    "simplify %"
   ]
  },
  {
   "cell_type": "code",
   "execution_count": 69,
   "metadata": {
    "collapsed": false
   },
   "outputs": [
    {
     "data": {
      "text/plain": [
       "               2\n",
       "   log(- cos(x)  + 1)\n",
       "   ------------------\n",
       "            2\n",
       "                                                    Type: Expression(Integer)\n"
      ]
     },
     "execution_count": 69,
     "metadata": {},
     "output_type": "execute_result"
    }
   ],
   "source": [
    "(rule N*log A + M*log B == log(A^N*B^M)) %"
   ]
  },
  {
   "cell_type": "code",
   "execution_count": 70,
   "metadata": {
    "collapsed": false
   },
   "outputs": [
    {
     "data": {
      "text/plain": [
       "               2\n",
       "   log(- cos(x)  + 1)\n",
       "   ------------------\n",
       "            2\n",
       "                                                    Type: Expression(Integer)\n"
      ]
     },
     "execution_count": 70,
     "metadata": {},
     "output_type": "execute_result"
    }
   ],
   "source": [
    "(rule log(A^N) == N*log A)%"
   ]
  },
  {
   "cell_type": "code",
   "execution_count": 71,
   "metadata": {
    "collapsed": false
   },
   "outputs": [
    {
     "name": "stdout",
     "output_type": "stream",
     "text": [
      "                                            "
     ]
    },
    {
     "data": {
      "text/plain": [
       "           +---------------+\n",
       "           |         2          +--+\n",
       "         (\\|- 93%%CJ0  + 12  - \\|31 %%CJ0)\n",
       "      *\n",
       "         log\n",
       "                                    +---------------+\n",
       "                 +--+         +--+  |         2                2\n",
       "              (2\\|31 %%CJ0 + \\|31 )\\|- 93%%CJ0  + 12  + 62%%CJ0  - 31%%CJ0 + 18x\n",
       "            + \n",
       "              - 4\n",
       "     + \n",
       "             +---------------+\n",
       "             |         2          +--+\n",
       "         (- \\|- 93%%CJ0  + 12  - \\|31 %%CJ0)\n",
       "      *\n",
       "         log\n",
       "                                      +---------------+\n",
       "                   +--+         +--+  |         2                2\n",
       "              (- 2\\|31 %%CJ0 - \\|31 )\\|- 93%%CJ0  + 12  + 62%%CJ0  - 31%%CJ0\n",
       "            + \n",
       "              18x - 4\n",
       "     + \n",
       "         +--+                   2\n",
       "       2\\|31 %%CJ0 log(- 62%%CJ0  + 31%%CJ0 + 9x + 4)\n",
       "  /\n",
       "       +--+\n",
       "     2\\|31\n",
       "                                         Type: Union(Expression(Integer),...)\n"
      ]
     },
     "execution_count": 71,
     "metadata": {},
     "output_type": "execute_result"
    }
   ],
   "source": [
    "ii:=I(1/(x^3 + x + 1),x)"
   ]
  },
  {
   "cell_type": "code",
   "execution_count": 72,
   "metadata": {
    "collapsed": false
   },
   "outputs": [
    {
     "data": {
      "text/plain": [
       "    +--+\n",
       "   \\|31\n",
       "                                                    Type: Expression(Integer)\n"
      ]
     },
     "execution_count": 72,
     "metadata": {},
     "output_type": "execute_result"
    }
   ],
   "source": [
    "T0:= (tower ii).2 ::EXPR INT"
   ]
  },
  {
   "cell_type": "code",
   "execution_count": 73,
   "metadata": {
    "collapsed": false
   },
   "outputs": [
    {
     "data": {
      "text/plain": [
       "        2\n",
       "   %%var  - 31\n",
       "                                                    Type: Expression(Integer)\n"
      ]
     },
     "execution_count": 73,
     "metadata": {},
     "output_type": "execute_result"
    }
   ],
   "source": [
    "f:=definingPolynomial  T0"
   ]
  },
  {
   "cell_type": "code",
   "execution_count": 74,
   "metadata": {
    "collapsed": false
   },
   "outputs": [
    {
     "data": {
      "text/plain": [
       "                                                                   Type: Void\n"
      ]
     },
     "execution_count": 74,
     "metadata": {},
     "output_type": "execute_result"
    }
   ],
   "source": [
    "outputGeneral 5"
   ]
  },
  {
   "cell_type": "code",
   "execution_count": 75,
   "metadata": {
    "collapsed": false
   },
   "outputs": [
    {
     "data": {
      "text/plain": [
       "   [%%var= - 5.5678,%%var= 5.5678]\n",
       "                                      Type: List(Equation(Polynomial(Float)))\n"
      ]
     },
     "execution_count": 75,
     "metadata": {},
     "output_type": "execute_result"
    }
   ],
   "source": [
    "solve((numerator f) :: POLY INT,0.00001)"
   ]
  },
  {
   "cell_type": "code",
   "execution_count": 76,
   "metadata": {
    "collapsed": false
   },
   "outputs": [
    {
     "name": "stderr",
     "output_type": "stream",
     "text": [
      " \n",
      "   >> Error detected within library code:\n",
      "   left hand side must be a single kernel\n",
      "\n"
     ]
    },
    {
     "data": {
      "text/plain": [
       "error\n"
      ]
     },
     "execution_count": 76,
     "metadata": {},
     "output_type": "execute_result"
    }
   ],
   "source": [
    "eval(ii :: EXPR COMPLEX FLOAT,T0= rhs first %)"
   ]
  },
  {
   "cell_type": "code",
   "execution_count": 77,
   "metadata": {
    "collapsed": false
   },
   "outputs": [
    {
     "data": {
      "text/plain": [
       "             1459557        1459557\n",
       "   [%%var= - -------,%%var= -------]\n",
       "              262144         262144\n",
       "                          Type: List(Equation(Polynomial(Fraction(Integer))))\n"
      ]
     },
     "execution_count": 77,
     "metadata": {},
     "output_type": "execute_result"
    }
   ],
   "source": [
    "solve((numerator f) :: POLY INT,1/100000)"
   ]
  },
  {
   "cell_type": "code",
   "execution_count": 78,
   "metadata": {
    "collapsed": false
   },
   "outputs": [
    {
     "name": "stdout",
     "output_type": "stream",
     "text": [
      "                                                                      "
     ]
    },
    {
     "data": {
      "text/plain": [
       "                 +---------------+\n",
       "                 |         2\n",
       "         (262144\\|- 93%%CJ0  + 12  - 1459557%%CJ0)\n",
       "      *\n",
       "         log\n",
       "                                         +---------------+\n",
       "                                         |         2                      2\n",
       "                (2919114%%CJ0 + 1459557)\\|- 93%%CJ0  + 12  + 16252928%%CJ0\n",
       "              + \n",
       "                - 8126464%%CJ0 + 4718592x - 1048576\n",
       "           /\n",
       "              262144\n",
       "     + \n",
       "                   +---------------+\n",
       "                   |         2\n",
       "         (- 262144\\|- 93%%CJ0  + 12  - 1459557%%CJ0)\n",
       "      *\n",
       "         log\n",
       "                                           +---------------+\n",
       "                                           |         2                      2\n",
       "                (- 2919114%%CJ0 - 1459557)\\|- 93%%CJ0  + 12  + 16252928%%CJ0\n",
       "              + \n",
       "                - 8126464%%CJ0 + 4718592x - 1048576\n",
       "           /\n",
       "              262144\n",
       "     + \n",
       "                                 2\n",
       "       2919114%%CJ0 log(- 62%%CJ0  + 31%%CJ0 + 9x + 4)\n",
       "  /\n",
       "     2919114\n",
       "                                           Type: Expression(Complex(Integer))\n"
      ]
     },
     "execution_count": 78,
     "metadata": {},
     "output_type": "execute_result"
    }
   ],
   "source": [
    "eval(ii,T0=rhs first %) :: EXPR Complex Integer"
   ]
  },
  {
   "cell_type": "code",
   "execution_count": 79,
   "metadata": {
    "collapsed": false
   },
   "outputs": [
    {
     "name": "stdout",
     "output_type": "stream",
     "text": [
      "                                                                      "
     ]
    },
    {
     "data": {
      "text/plain": [
       "                 +---------------+\n",
       "                 |         2\n",
       "         (262144\\|- 93%%CJ0  + 12  - 1459557%%CJ0)\n",
       "      *\n",
       "         log\n",
       "                                         +---------------+\n",
       "                                         |         2                      2\n",
       "                (2919114%%CJ0 + 1459557)\\|- 93%%CJ0  + 12  + 16252928%%CJ0\n",
       "              + \n",
       "                - 8126464%%CJ0 + 4718592x - 1048576\n",
       "           /\n",
       "              262144\n",
       "     + \n",
       "                   +---------------+\n",
       "                   |         2\n",
       "         (- 262144\\|- 93%%CJ0  + 12  - 1459557%%CJ0)\n",
       "      *\n",
       "         log\n",
       "                                           +---------------+\n",
       "                                           |         2                      2\n",
       "                (- 2919114%%CJ0 - 1459557)\\|- 93%%CJ0  + 12  + 16252928%%CJ0\n",
       "              + \n",
       "                - 8126464%%CJ0 + 4718592x - 1048576\n",
       "           /\n",
       "              262144\n",
       "     + \n",
       "                                 2\n",
       "       2919114%%CJ0 log(- 62%%CJ0  + 31%%CJ0 + 9x + 4)\n",
       "  /\n",
       "     2919114\n",
       "                                           Type: Complex(Expression(Integer))\n"
      ]
     },
     "execution_count": 79,
     "metadata": {},
     "output_type": "execute_result"
    }
   ],
   "source": [
    "complexForm %"
   ]
  },
  {
   "cell_type": "code",
   "execution_count": 80,
   "metadata": {
    "collapsed": false
   },
   "outputs": [
    {
     "name": "stdout",
     "output_type": "stream",
     "text": [
      "                              "
     ]
    },
    {
     "data": {
      "text/plain": [
       "                 +--------------------+\n",
       "                 |            2\n",
       "       (0.089803\\|- 93.0 %%CJ0  + 12.0  - 0.5 %%CJ0)\n",
       "    *\n",
       "       log\n",
       "                                    +--------------------+\n",
       "                                    |            2                     2\n",
       "            (11.136 %%CJ0 + 5.5678)\\|- 93.0 %%CJ0  + 12.0  + 62.0 %%CJ0\n",
       "          + \n",
       "            - 31.0 %%CJ0 + 18.0 x - 4.0\n",
       "   + \n",
       "                   +--------------------+\n",
       "                   |            2\n",
       "       (- 0.089803\\|- 93.0 %%CJ0  + 12.0  - 0.5 %%CJ0)\n",
       "    *\n",
       "       log\n",
       "                                      +--------------------+\n",
       "                                      |            2                     2\n",
       "            (- 11.136 %%CJ0 - 5.5678)\\|- 93.0 %%CJ0  + 12.0  + 62.0 %%CJ0\n",
       "          + \n",
       "            - 31.0 %%CJ0 + 18.0 x - 4.0\n",
       "   + \n",
       "                           2\n",
       "     %%CJ0 log(- 62.0 %%CJ0  + 31.0 %%CJ0 + 9.0 x + 4.0)\n",
       "                                                      Type: Expression(Float)\n"
      ]
     },
     "execution_count": 80,
     "metadata": {},
     "output_type": "execute_result"
    }
   ],
   "source": [
    "% :: EXPR Float"
   ]
  },
  {
   "cell_type": "code",
   "execution_count": 81,
   "metadata": {
    "collapsed": false
   },
   "outputs": [
    {
     "data": {
      "text/plain": []
     },
     "execution_count": 81,
     "metadata": {},
     "output_type": "execute_result"
    }
   ],
   "source": [
    "--\n",
    "-- EOF\n",
    "--"
   ]
  }
 ],
 "metadata": {
  "kernelspec": {
   "display_name": "FriCAS",
   "language": "spad",
   "name": "ifricas"
  },
  "language_info": {
   "codemirror_mode": "spad",
   "mimetype": "text/x-spad",
   "name": "SPAD",
   "pygments_lexer": "spad",
   "version": "1.2.6"
  },
  "name": "tutchap3.ipynb"
 },
 "nbformat": 4,
 "nbformat_minor": 0
}