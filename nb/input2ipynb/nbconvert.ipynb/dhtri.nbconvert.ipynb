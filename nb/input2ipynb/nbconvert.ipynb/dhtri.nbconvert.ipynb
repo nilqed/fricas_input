{
 "cells": [
  {
   "cell_type": "markdown",
   "metadata": {},
   "source": [
    "Copyright The Numerical Algorithms Group Limited 1994.\n",
    " Create Affine transformations (DH matrices) that transform\n",
    " a given triangle into another given triangle\n"
   ]
  },
  {
   "cell_type": "markdown",
   "metadata": {},
   "source": [
    " tri2tri(t1, t2) returns a DHMATRIX which transforms t1 to t2,\n",
    " where t1 and t2 are the vertices of two triangles in 3-space.\n"
   ]
  },
  {
   "cell_type": "code",
   "execution_count": 0,
   "metadata": {
    "collapsed": false
   },
   "outputs": [
    {
     "name": "stdout",
     "output_type": "stream",
     "text": [
      "   Function declaration tri2tri : (List(Point(DoubleFloat)),List(Point(\n",
      "      DoubleFloat))) -> DenavitHartenbergMatrix(DoubleFloat) has been \n",
      "      added to workspace.\n",
      "\n"
     ]
    },
    {
     "data": {
      "text/plain": [
       "                                                                   Type: Void\n"
      ]
     },
     "execution_count": 0,
     "metadata": {},
     "output_type": "execute_result"
    }
   ],
   "source": [
    "tri2tri(t1: List Point DoubleFloat, t2: List Point DoubleFloat): DHMATRIX(DoubleFloat) ==\n",
    "  n1 := triangleNormal(t1)\n",
    "  n2 := triangleNormal(t2)\n",
    "  tet2tet(concat(t1, n1), concat(t2, n2))"
   ]
  },
  {
   "cell_type": "markdown",
   "metadata": {},
   "source": [
    " tet2tet(t1, t2) returns a DHMATRIX which transforms t1 to t2,\n",
    " where t1 and t2 are the vertices of two tetrahedrons in 3-space.\n"
   ]
  },
  {
   "cell_type": "code",
   "execution_count": 1,
   "metadata": {
    "collapsed": false
   },
   "outputs": [
    {
     "name": "stdout",
     "output_type": "stream",
     "text": [
      "   Function declaration tet2tet : (List(Point(DoubleFloat)),List(Point(\n",
      "      DoubleFloat))) -> DenavitHartenbergMatrix(DoubleFloat) has been \n",
      "      added to workspace.\n",
      "\n"
     ]
    },
    {
     "data": {
      "text/plain": [
       "                                                                   Type: Void\n"
      ]
     },
     "execution_count": 1,
     "metadata": {},
     "output_type": "execute_result"
    }
   ],
   "source": [
    "tet2tet(t1: List Point DoubleFloat, t2: List Point DoubleFloat): DHMATRIX(DoubleFloat) ==\n",
    "  m1 := makeColumnMatrix t1\n",
    "  m2 := makeColumnMatrix t2\n",
    "  m2 * inverse(m1)"
   ]
  },
  {
   "cell_type": "markdown",
   "metadata": {},
   "source": [
    " put the vertices of a tetrahedron into matrix form\n"
   ]
  },
  {
   "cell_type": "code",
   "execution_count": 2,
   "metadata": {
    "collapsed": false
   },
   "outputs": [
    {
     "data": {
      "text/plain": [
       "                                                                   Type: Void\n"
      ]
     },
     "execution_count": 2,
     "metadata": {},
     "output_type": "execute_result"
    }
   ],
   "source": [
    "makeColumnMatrix(t) ==\n",
    "  m := new(4,4,0)$DHMATRIX(DoubleFloat)\n",
    "  for x in t for i in 1..repeat\n",
    "    for j in 1..3 repeat\n",
    "      m(j,i) := x.j\n",
    "    m(4,i) := 1\n",
    "  m"
   ]
  },
  {
   "cell_type": "markdown",
   "metadata": {},
   "source": [
    " return a vector normal to the given triangle, whose length\n",
    " is the square root of the area of the triangle\n"
   ]
  },
  {
   "cell_type": "code",
   "execution_count": 3,
   "metadata": {
    "collapsed": false
   },
   "outputs": [
    {
     "data": {
      "text/plain": [
       "                                                                   Type: Void\n"
      ]
     },
     "execution_count": 3,
     "metadata": {},
     "output_type": "execute_result"
    }
   ],
   "source": [
    "triangleNormal(t) ==\n",
    "  a := triangleArea t\n",
    "  p1 := t.2 - t.1\n",
    "  p2 := t.3 - t.2\n",
    "  c := cross(p1, p2)\n",
    "  len := length(c)\n",
    "  len = 0 => error \"degenerate triangle!\"\n",
    "  c := (1/len)*c\n",
    "  t.1 + sqrt(a) * c"
   ]
  },
  {
   "cell_type": "markdown",
   "metadata": {},
   "source": [
    " compute the are of a triangle using Heron's formula\n"
   ]
  },
  {
   "cell_type": "code",
   "execution_count": 4,
   "metadata": {
    "collapsed": false
   },
   "outputs": [
    {
     "data": {
      "text/plain": [
       "                                                                   Type: Void\n"
      ]
     },
     "execution_count": 4,
     "metadata": {},
     "output_type": "execute_result"
    }
   ],
   "source": [
    "triangleArea t ==\n",
    "  a := length(t.2 - t.1)\n",
    "  b := length(t.3 - t.2)\n",
    "  c := length(t.1 - t.3)\n",
    "  s := (a+b+c)/2\n",
    "  sqrt(s*(s-a)*(s-b)*(s-c))"
   ]
  },
  {
   "cell_type": "code",
   "execution_count": 5,
   "metadata": {
    "collapsed": false
   },
   "outputs": [
    {
     "data": {
      "text/plain": []
     },
     "execution_count": 5,
     "metadata": {},
     "output_type": "execute_result"
    }
   ],
   "source": [
    "--\n",
    "-- EOF\n",
    "--"
   ]
  }
 ],
 "metadata": {
  "kernelspec": {
   "display_name": "FriCAS",
   "language": "spad",
   "name": "ifricas"
  },
  "language_info": {
   "codemirror_mode": "spad",
   "mimetype": "text/x-spad",
   "name": "SPAD",
   "pygments_lexer": "spad",
   "version": "1.2.6"
  },
  "name": "dhtri.ipynb"
 },
 "nbformat": 4,
 "nbformat_minor": 0
}