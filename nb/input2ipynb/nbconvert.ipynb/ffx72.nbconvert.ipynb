{
 "cells": [
  {
   "cell_type": "markdown",
   "metadata": {},
   "source": [
    "Copyright The Numerical Algorithms Group Limited 1994.\n"
   ]
  },
  {
   "cell_type": "markdown",
   "metadata": {},
   "source": [
    " This file demonstrates some calculations with the finite field of\n",
    " 49 elements. It is built as a degree 2 extension of the Galois\n",
    " field with 7 elements.\n"
   ]
  },
  {
   "cell_type": "code",
   "execution_count": 0,
   "metadata": {
    "collapsed": false
   },
   "outputs": [
    {
     "name": "stdout",
     "output_type": "stream",
     "text": [
      "   All user variables and function definitions have been cleared.\n"
     ]
    },
    {
     "data": {
      "text/plain": []
     },
     "execution_count": 0,
     "metadata": {},
     "output_type": "execute_result"
    }
   ],
   "source": [
    ")cl all"
   ]
  },
  {
   "cell_type": "code",
   "execution_count": 1,
   "metadata": {
    "collapsed": false
   },
   "outputs": [
    {
     "data": {
      "text/plain": []
     },
     "execution_count": 1,
     "metadata": {},
     "output_type": "execute_result"
    }
   ],
   "source": [
    ")time off"
   ]
  },
  {
   "cell_type": "code",
   "execution_count": 2,
   "metadata": {
    "collapsed": false
   },
   "outputs": [
    {
     "data": {
      "text/plain": [
       "   FiniteField(7,2)\n",
       "                                                                   Type: Type\n"
      ]
     },
     "execution_count": 2,
     "metadata": {},
     "output_type": "execute_result"
    }
   ],
   "source": [
    "gf72 := FF(7, 2)"
   ]
  },
  {
   "cell_type": "markdown",
   "metadata": {},
   "source": [
    " x^2+1 is irreducible over PF 7\n"
   ]
  },
  {
   "cell_type": "code",
   "execution_count": 3,
   "metadata": {
    "collapsed": false
   },
   "outputs": [
    {
     "name": "stdout",
     "output_type": "stream",
     "text": [
      "Warning: HyperTeX macro table not found\n"
     ]
    },
    {
     "data": {
      "text/plain": [
       "    2\n",
       "   x  + 1\n",
       "                                  Type: UnivariatePolynomial(x,PrimeField(7))\n"
      ]
     },
     "execution_count": 3,
     "metadata": {},
     "output_type": "execute_result"
    }
   ],
   "source": [
    "u: UP(x,PF 7) := x^2 + 1"
   ]
  },
  {
   "cell_type": "code",
   "execution_count": 4,
   "metadata": {
    "collapsed": false
   },
   "outputs": [
    {
     "data": {
      "text/plain": [
       "    2\n",
       "   x  + 1\n",
       "                        Type: Factored(UnivariatePolynomial(x,PrimeField(7)))\n"
      ]
     },
     "execution_count": 4,
     "metadata": {},
     "output_type": "execute_result"
    }
   ],
   "source": [
    "factor u"
   ]
  },
  {
   "cell_type": "markdown",
   "metadata": {},
   "source": [
    " but factors over FF(PF 7, 2)\n"
   ]
  },
  {
   "cell_type": "code",
   "execution_count": 5,
   "metadata": {
    "collapsed": false
   },
   "outputs": [
    {
     "data": {
      "text/plain": [
       "    2\n",
       "   x  + 1\n",
       "                               Type: UnivariatePolynomial(x,FiniteField(7,2))\n"
      ]
     },
     "execution_count": 5,
     "metadata": {},
     "output_type": "execute_result"
    }
   ],
   "source": [
    "u2 : UP(x,gf72) := u"
   ]
  },
  {
   "cell_type": "code",
   "execution_count": 6,
   "metadata": {
    "collapsed": false
   },
   "outputs": [
    {
     "data": {
      "text/plain": [
       "   (x + %A)(x + 6%A)\n",
       "                     Type: Factored(UnivariatePolynomial(x,FiniteField(7,2)))\n"
      ]
     },
     "execution_count": 6,
     "metadata": {},
     "output_type": "execute_result"
    }
   ],
   "source": [
    "factor u2"
   ]
  },
  {
   "cell_type": "markdown",
   "metadata": {},
   "source": [
    " the following is the irreducible polynomial used in the representation\n",
    " of GF(7^2) over PF 7. It will be the same every time this field is\n",
    " used.\n"
   ]
  },
  {
   "cell_type": "code",
   "execution_count": 7,
   "metadata": {
    "collapsed": false
   },
   "outputs": [
    {
     "data": {
      "text/plain": [
       "    2\n",
       "   ?  + 1\n",
       "                              Type: SparseUnivariatePolynomial(PrimeField(7))\n"
      ]
     },
     "execution_count": 7,
     "metadata": {},
     "output_type": "execute_result"
    }
   ],
   "source": [
    "definingPolynomial()$gf72"
   ]
  },
  {
   "cell_type": "markdown",
   "metadata": {},
   "source": [
    " e is a randomly chosen element\n"
   ]
  },
  {
   "cell_type": "code",
   "execution_count": 8,
   "metadata": {
    "collapsed": false
   },
   "outputs": [
    {
     "data": {
      "text/plain": [
       "   2%A + 2\n",
       "                                                       Type: FiniteField(7,2)\n"
      ]
     },
     "execution_count": 8,
     "metadata": {},
     "output_type": "execute_result"
    }
   ],
   "source": [
    "e := index(size()$gf72 quo 3)$gf72"
   ]
  },
  {
   "cell_type": "code",
   "execution_count": 9,
   "metadata": {
    "collapsed": false
   },
   "outputs": [
    {
     "data": {
      "text/plain": [
       "   1\n",
       "                                                          Type: PrimeField(7)\n"
      ]
     },
     "execution_count": 9,
     "metadata": {},
     "output_type": "execute_result"
    }
   ],
   "source": [
    "norm e"
   ]
  },
  {
   "cell_type": "code",
   "execution_count": 10,
   "metadata": {
    "collapsed": false
   },
   "outputs": [
    {
     "data": {
      "text/plain": [
       "   4\n",
       "                                                          Type: PrimeField(7)\n"
      ]
     },
     "execution_count": 10,
     "metadata": {},
     "output_type": "execute_result"
    }
   ],
   "source": [
    "trace e"
   ]
  },
  {
   "cell_type": "markdown",
   "metadata": {},
   "source": [
    " the order of an element is the minimum positive integer to which\n",
    " it can be raised to yield 1.\n"
   ]
  },
  {
   "cell_type": "code",
   "execution_count": 11,
   "metadata": {
    "collapsed": false
   },
   "outputs": [
    {
     "data": {
      "text/plain": [
       "   8\n",
       "                                                        Type: PositiveInteger\n"
      ]
     },
     "execution_count": 11,
     "metadata": {},
     "output_type": "execute_result"
    }
   ],
   "source": [
    "order e"
   ]
  },
  {
   "cell_type": "markdown",
   "metadata": {},
   "source": [
    " we can display all the nonzero elements in the field\n"
   ]
  },
  {
   "cell_type": "code",
   "execution_count": 12,
   "metadata": {
    "collapsed": false
   },
   "outputs": [
    {
     "name": "stdout",
     "output_type": "stream",
     "text": [
      "\n",
      "\n",
      "\n",
      "\n",
      "\n",
      "\n"
     ]
    },
    {
     "data": {
      "text/plain": [
       "   [1, 2, 3, 4, 5, 6, %A, %A + 1, %A + 2, %A + 3, %A + 4, %A + 5, %A + 6, 2%A,\n",
       "    2%A + 1, 2%A + 2, 2%A + 3, 2%A + 4, 2%A + 5, 2%A + 6, 3%A, 3%A + 1,\n",
       "    3%A + 2, 3%A + 3, 3%A + 4, 3%A + 5, 3%A + 6, 4%A, 4%A + 1, 4%A + 2,\n",
       "    4%A + 3, 4%A + 4, 4%A + 5, 4%A + 6, 5%A, 5%A + 1, 5%A + 2, 5%A + 3,\n",
       "    5%A + 4, 5%A + 5, 5%A + 6, 6%A, 6%A + 1, 6%A + 2, 6%A + 3, 6%A + 4,\n",
       "    6%A + 5, 6%A + 6]\n",
       "                                                 Type: List(FiniteField(7,2))\n"
      ]
     },
     "execution_count": 12,
     "metadata": {},
     "output_type": "execute_result"
    }
   ],
   "source": [
    "allElts := [index(i :: PI)$gf72 for i in 1..48]"
   ]
  },
  {
   "cell_type": "markdown",
   "metadata": {},
   "source": [
    " we can sum over them\n"
   ]
  },
  {
   "cell_type": "code",
   "execution_count": 13,
   "metadata": {
    "collapsed": false
   },
   "outputs": [
    {
     "data": {
      "text/plain": [
       "   0\n",
       "                                                       Type: FiniteField(7,2)\n"
      ]
     },
     "execution_count": 13,
     "metadata": {},
     "output_type": "execute_result"
    }
   ],
   "source": [
    "reduce(+,allElts)"
   ]
  },
  {
   "cell_type": "markdown",
   "metadata": {},
   "source": [
    " and we can determine the order of each of them.  Each element of\n",
    " order 48 generates the multiplicative group of non-zero elements.\n"
   ]
  },
  {
   "cell_type": "code",
   "execution_count": 14,
   "metadata": {
    "collapsed": false
   },
   "outputs": [
    {
     "name": "stdout",
     "output_type": "stream",
     "text": [
      "\n",
      "\n",
      "\n"
     ]
    },
    {
     "data": {
      "text/plain": [
       "   [1, 3, 6, 3, 6, 2, 4, 24, 48, 48, 48, 48, 24, 12, 48, 8, 16, 16, 8, 48, 12,\n",
       "    48, 16, 24, 24, 16, 48, 12, 48, 16, 24, 24, 16, 48, 12, 48, 8, 16, 16, 8,\n",
       "    48, 4, 24, 48, 48, 48, 48, 24]\n",
       "                                                  Type: List(PositiveInteger)\n"
      ]
     },
     "execution_count": 14,
     "metadata": {},
     "output_type": "execute_result"
    }
   ],
   "source": [
    "[order e for e in allElts]"
   ]
  },
  {
   "cell_type": "code",
   "execution_count": 15,
   "metadata": {
    "collapsed": false
   },
   "outputs": [
    {
     "data": {
      "text/plain": []
     },
     "execution_count": 15,
     "metadata": {},
     "output_type": "execute_result"
    }
   ],
   "source": [
    "--\n",
    "-- EOF\n",
    "--"
   ]
  }
 ],
 "metadata": {
  "kernelspec": {
   "display_name": "FriCAS",
   "language": "spad",
   "name": "ifricas"
  },
  "language_info": {
   "codemirror_mode": "spad",
   "mimetype": "text/x-spad",
   "name": "SPAD",
   "pygments_lexer": "spad",
   "version": "1.2.6"
  },
  "name": "ffx72.ipynb"
 },
 "nbformat": 4,
 "nbformat_minor": 0
}