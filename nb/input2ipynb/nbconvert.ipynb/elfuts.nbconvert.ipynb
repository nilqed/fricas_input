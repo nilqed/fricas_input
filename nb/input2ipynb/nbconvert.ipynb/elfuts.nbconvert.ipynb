{
 "cells": [
  {
   "cell_type": "markdown",
   "metadata": {},
   "source": [
    "Copyright The Numerical Algorithms Group Limited 1994.\n"
   ]
  },
  {
   "cell_type": "code",
   "execution_count": 0,
   "metadata": {
    "collapsed": false
   },
   "outputs": [
    {
     "name": "stdout",
     "output_type": "stream",
     "text": [
      "   All user variables and function definitions have been cleared.\n"
     ]
    },
    {
     "data": {
      "text/plain": []
     },
     "execution_count": 0,
     "metadata": {},
     "output_type": "execute_result"
    }
   ],
   "source": [
    ")cl all"
   ]
  },
  {
   "cell_type": "markdown",
   "metadata": {},
   "source": [
    "demo of Jacobian elliptic functions expanded as power series\n"
   ]
  },
  {
   "cell_type": "code",
   "execution_count": 1,
   "metadata": {
    "collapsed": false
   },
   "outputs": [
    {
     "data": {
      "text/plain": []
     },
     "execution_count": 1,
     "metadata": {},
     "output_type": "execute_result"
    }
   ],
   "source": [
    ")set streams calculate 10"
   ]
  },
  {
   "cell_type": "code",
   "execution_count": 2,
   "metadata": {
    "collapsed": false
   },
   "outputs": [
    {
     "name": "stdout",
     "output_type": "stream",
     "text": [
      "   EllipticFunctionsUnivariateTaylorSeries is now explicitly exposed in\n",
      "      frame initial \n"
     ]
    },
    {
     "data": {
      "text/plain": []
     },
     "execution_count": 2,
     "metadata": {},
     "output_type": "execute_result"
    }
   ],
   "source": [
    ")expose ELFUTS"
   ]
  },
  {
   "cell_type": "code",
   "execution_count": 3,
   "metadata": {
    "collapsed": false
   },
   "outputs": [
    {
     "data": {
      "text/plain": [
       "                                                                   Type: Void\n"
      ]
     },
     "execution_count": 3,
     "metadata": {},
     "output_type": "execute_result"
    }
   ],
   "source": [
    "macro RN == FRAC INT"
   ]
  },
  {
   "cell_type": "code",
   "execution_count": 4,
   "metadata": {
    "collapsed": false
   },
   "outputs": [
    {
     "data": {
      "text/plain": [
       "                                                                   Type: Void\n"
      ]
     },
     "execution_count": 4,
     "metadata": {},
     "output_type": "execute_result"
    }
   ],
   "source": [
    "macro QF == FRAC"
   ]
  },
  {
   "cell_type": "code",
   "execution_count": 5,
   "metadata": {
    "collapsed": false
   },
   "outputs": [
    {
     "data": {
      "text/plain": [
       "   x\n",
       "                          Type: UnivariateTaylorSeries(Fraction(Integer),x,0)\n"
      ]
     },
     "execution_count": 5,
     "metadata": {},
     "output_type": "execute_result"
    }
   ],
   "source": [
    "xx : UTS(RN, 'x, 0) := x"
   ]
  },
  {
   "cell_type": "code",
   "execution_count": 6,
   "metadata": {
    "collapsed": false
   },
   "outputs": [
    {
     "name": "stdout",
     "output_type": "stream",
     "text": [
      "Warning: HyperTeX macro table not found\n"
     ]
    },
    {
     "data": {
      "text/plain": [
       "       1  3    2  5    17  7    62   9      11\n",
       "   x - - x  + -- x  - --- x  + ---- x  + O(x  )\n",
       "       3      15      315      2835\n",
       "                          Type: UnivariateTaylorSeries(Fraction(Integer),x,0)\n"
      ]
     },
     "execution_count": 6,
     "metadata": {},
     "output_type": "execute_result"
    }
   ],
   "source": [
    "jacobiSn(xx, 1::RN)"
   ]
  },
  {
   "cell_type": "code",
   "execution_count": 7,
   "metadata": {
    "collapsed": false
   },
   "outputs": [
    {
     "data": {
      "text/plain": [
       "       1  2    5  4    61  6    277  8    50521   10      11\n",
       "   1 - - x  + -- x  - --- x  + ---- x  - ------- x   + O(x  )\n",
       "       2      24      720      8064      3628800\n",
       "                          Type: UnivariateTaylorSeries(Fraction(Integer),x,0)\n"
      ]
     },
     "execution_count": 7,
     "metadata": {},
     "output_type": "execute_result"
    }
   ],
   "source": [
    "jacobiCn(xx, 1::RN)"
   ]
  },
  {
   "cell_type": "code",
   "execution_count": 8,
   "metadata": {
    "collapsed": false
   },
   "outputs": [
    {
     "data": {
      "text/plain": [
       "       1  2    5  4    61  6    277  8    50521   10      11\n",
       "   1 - - x  + -- x  - --- x  + ---- x  - ------- x   + O(x  )\n",
       "       2      24      720      8064      3628800\n",
       "                          Type: UnivariateTaylorSeries(Fraction(Integer),x,0)\n"
      ]
     },
     "execution_count": 8,
     "metadata": {},
     "output_type": "execute_result"
    }
   ],
   "source": [
    "jacobiDn(xx, 1::RN)"
   ]
  },
  {
   "cell_type": "code",
   "execution_count": 9,
   "metadata": {
    "collapsed": false
   },
   "outputs": [
    {
     "data": {
      "text/plain": [
       "   y\n",
       "Type: UnivariateTaylorSeries(Fraction(UnivariatePolynomial(m,Fraction(Integer))),y,0)\n"
      ]
     },
     "execution_count": 9,
     "metadata": {},
     "output_type": "execute_result"
    }
   ],
   "source": [
    "yy : UTS(FRAC UP(m, RN),'y, 0) := y"
   ]
  },
  {
   "cell_type": "code",
   "execution_count": 10,
   "metadata": {
    "collapsed": false
   },
   "outputs": [
    {
     "name": "stdout",
     "output_type": "stream",
     "text": [
      "    "
     ]
    },
    {
     "data": {
      "text/plain": [
       "            1     1  3     1   2    7      1   5\n",
       "     y + (- - m - -)y  + (--- m  + -- m + ---)y\n",
       "            6     6       120      60     120\n",
       "   + \n",
       "          1   3    3   2    3        1   7\n",
       "     (- ---- m  - --- m  - --- m - ----)y\n",
       "        5040      112      112     5040\n",
       "   + \n",
       "         1    4    307   3    913   2    307         1    9      11\n",
       "     (------ m  + ----- m  + ----- m  + ----- m + ------)y  + O(y  )\n",
       "      362880      90720      60480      90720     362880\n",
       "Type: UnivariateTaylorSeries(Fraction(UnivariatePolynomial(m,Fraction(Integer))),y,0)\n"
      ]
     },
     "execution_count": 10,
     "metadata": {},
     "output_type": "execute_result"
    }
   ],
   "source": [
    "snn := jacobiSn(yy, m::QF UP(m, RN))"
   ]
  },
  {
   "cell_type": "code",
   "execution_count": 11,
   "metadata": {
    "collapsed": false
   },
   "outputs": [
    {
     "name": "stdout",
     "output_type": "stream",
     "text": [
      "    "
     ]
    },
    {
     "data": {
      "text/plain": [
       "         1  2    1      1  4       1  2    11      1   6\n",
       "     1 - - y  + (- m + --)y  + (- -- m  - --- m - ---)y\n",
       "         2       6     24         45      180     720\n",
       "   + \n",
       "       1   3    19  2    17        1    8\n",
       "     (--- m  + --- m  + ---- m + -----)y\n",
       "      630      840      1680     40320\n",
       "   + \n",
       "          1    4    247   3    641   2     461         1     10      11\n",
       "     (- ----- m  - ----- m  - ----- m  - ------ m - -------)y   + O(y  )\n",
       "        14175      56700      75600      453600     3628800\n",
       "Type: UnivariateTaylorSeries(Fraction(UnivariatePolynomial(m,Fraction(Integer))),y,0)\n"
      ]
     },
     "execution_count": 11,
     "metadata": {},
     "output_type": "execute_result"
    }
   ],
   "source": [
    "cnn := jacobiCn(yy, m::QF UP(m, RN))"
   ]
  },
  {
   "cell_type": "code",
   "execution_count": 12,
   "metadata": {
    "collapsed": false
   },
   "outputs": [
    {
     "name": "stdout",
     "output_type": "stream",
     "text": [
      "    "
     ]
    },
    {
     "data": {
      "text/plain": [
       "         1    2     1  2   1    4       1   3    11  2    1    6\n",
       "     1 - - m y  + (-- m  + - m)y  + (- --- m  - --- m  - -- m)y\n",
       "         2         24      6           720      180      45\n",
       "   + \n",
       "        1    4    17   3    19  2    1     8\n",
       "     (----- m  + ---- m  + --- m  + --- m)y\n",
       "      40320      1680      840      630\n",
       "   + \n",
       "           1     5     461   4    641   3    247   2     1      10      11\n",
       "     (- ------- m  - ------ m  - ----- m  - ----- m  - ----- m)y   + O(y  )\n",
       "        3628800      453600      75600      56700      14175\n",
       "Type: UnivariateTaylorSeries(Fraction(UnivariatePolynomial(m,Fraction(Integer))),y,0)\n"
      ]
     },
     "execution_count": 12,
     "metadata": {},
     "output_type": "execute_result"
    }
   ],
   "source": [
    "dnn := jacobiDn(yy, m::QF UP(m, RN))"
   ]
  },
  {
   "cell_type": "code",
   "execution_count": 13,
   "metadata": {
    "collapsed": false
   },
   "outputs": [
    {
     "data": {
      "text/plain": [
       "          11\n",
       "   1 + O(y  )\n",
       "Type: UnivariateTaylorSeries(Fraction(UnivariatePolynomial(m,Fraction(Integer))),y,0)\n"
      ]
     },
     "execution_count": 13,
     "metadata": {},
     "output_type": "execute_result"
    }
   ],
   "source": [
    "snn^2 + cnn^2"
   ]
  },
  {
   "cell_type": "code",
   "execution_count": 14,
   "metadata": {
    "collapsed": false
   },
   "outputs": [
    {
     "data": {
      "text/plain": [
       "   m\n",
       "                              Type: UnivariatePolynomial(m,Fraction(Integer))\n"
      ]
     },
     "execution_count": 14,
     "metadata": {},
     "output_type": "execute_result"
    }
   ],
   "source": [
    "mm := (m::UP(m, RN))"
   ]
  },
  {
   "cell_type": "code",
   "execution_count": 15,
   "metadata": {
    "collapsed": false
   },
   "outputs": [
    {
     "data": {
      "text/plain": [
       "          11\n",
       "   1 + O(y  )\n",
       "Type: UnivariateTaylorSeries(Fraction(UnivariatePolynomial(m,Fraction(Integer))),y,0)\n"
      ]
     },
     "execution_count": 15,
     "metadata": {},
     "output_type": "execute_result"
    }
   ],
   "source": [
    "dnn^2 + mm*snn^2"
   ]
  },
  {
   "cell_type": "code",
   "execution_count": 16,
   "metadata": {
    "collapsed": false
   },
   "outputs": [
    {
     "name": "stdout",
     "output_type": "stream",
     "text": [
      "    "
     ]
    },
    {
     "data": {
      "text/plain": [
       "                   2    1  2   5     1  4       2  3    2        2  6\n",
       "     1 + (- m - 1)y  + (- m  + - m + -)y  + (- -- m  - m  - m - --)y\n",
       "                        3      3     3         45               45\n",
       "   + \n",
       "       1   4    94  3   104  2    94      1   8\n",
       "     (--- m  + --- m  + --- m  + --- m + ---)y\n",
       "      315      315      105      315     315\n",
       "   + \n",
       "          2    5    109  4    6977  3    6977  2    109       2    10      11\n",
       "     (- ----- m  - ---- m  - ----- m  - ----- m  - ---- m - -----)y   + O(y  )\n",
       "        14175      2025      14175      14175      2025     14175\n",
       "Type: UnivariateTaylorSeries(Fraction(UnivariatePolynomial(m,Fraction(Integer))),y,0)\n"
      ]
     },
     "execution_count": 16,
     "metadata": {},
     "output_type": "execute_result"
    }
   ],
   "source": [
    "(differentiate snn)^2"
   ]
  },
  {
   "cell_type": "code",
   "execution_count": 17,
   "metadata": {
    "collapsed": false
   },
   "outputs": [
    {
     "name": "stdout",
     "output_type": "stream",
     "text": [
      "    "
     ]
    },
    {
     "data": {
      "text/plain": [
       "                   2    1  2   5     1  4       2  3    2        2  6\n",
       "     1 + (- m - 1)y  + (- m  + - m + -)y  + (- -- m  - m  - m - --)y\n",
       "                        3      3     3         45               45\n",
       "   + \n",
       "       1   4    94  3   104  2    94      1   8\n",
       "     (--- m  + --- m  + --- m  + --- m + ---)y\n",
       "      315      315      105      315     315\n",
       "   + \n",
       "          2    5    109  4    6977  3    6977  2    109       2    10      11\n",
       "     (- ----- m  - ---- m  - ----- m  - ----- m  - ---- m - -----)y   + O(y  )\n",
       "        14175      2025      14175      14175      2025     14175\n",
       "Type: UnivariateTaylorSeries(Fraction(UnivariatePolynomial(m,Fraction(Integer))),y,0)\n"
      ]
     },
     "execution_count": 17,
     "metadata": {},
     "output_type": "execute_result"
    }
   ],
   "source": [
    "(1 - snn^2)*(1 - mm*snn^2)"
   ]
  },
  {
   "cell_type": "code",
   "execution_count": 18,
   "metadata": {
    "collapsed": false
   },
   "outputs": [
    {
     "name": "stdout",
     "output_type": "stream",
     "text": [
      "    "
     ]
    },
    {
     "data": {
      "text/plain": [
       "      2      4     1  4    32  2   43      2  6\n",
       "     y  + (- - m - -)y  + (-- m  + -- m + --)y\n",
       "             3     3       45      45     45\n",
       "   + \n",
       "         64  3    94  2    31      1   8\n",
       "     (- --- m  - --- m  - --- m - ---)y\n",
       "        315      105      105     315\n",
       "   + \n",
       "       512   4    6101  3   2242  2    761        2    10      11\n",
       "     (----- m  + ----- m  + ---- m  + ----- m + -----)y   + O(y  )\n",
       "      14175      14175      4725      14175     14175\n",
       "Type: UnivariateTaylorSeries(Fraction(UnivariatePolynomial(m,Fraction(Integer))),y,0)\n"
      ]
     },
     "execution_count": 18,
     "metadata": {},
     "output_type": "execute_result"
    }
   ],
   "source": [
    "(differentiate cnn)^2"
   ]
  },
  {
   "cell_type": "code",
   "execution_count": 19,
   "metadata": {
    "collapsed": false
   },
   "outputs": [
    {
     "name": "stdout",
     "output_type": "stream",
     "text": [
      "    "
     ]
    },
    {
     "data": {
      "text/plain": [
       "      2      4     1  4    32  2   43      2  6\n",
       "     y  + (- - m - -)y  + (-- m  + -- m + --)y\n",
       "             3     3       45      45     45\n",
       "   + \n",
       "         64  3    94  2    31      1   8\n",
       "     (- --- m  - --- m  - --- m - ---)y\n",
       "        315      105      105     315\n",
       "   + \n",
       "       512   4    6101  3   2242  2    761        2    10      11\n",
       "     (----- m  + ----- m  + ---- m  + ----- m + -----)y   + O(y  )\n",
       "      14175      14175      4725      14175     14175\n",
       "Type: UnivariateTaylorSeries(Fraction(UnivariatePolynomial(m,Fraction(Integer))),y,0)\n"
      ]
     },
     "execution_count": 19,
     "metadata": {},
     "output_type": "execute_result"
    }
   ],
   "source": [
    "(1 - cnn^2)*(1 - mm + mm*cnn^2)"
   ]
  },
  {
   "cell_type": "code",
   "execution_count": 20,
   "metadata": {
    "collapsed": false
   },
   "outputs": [
    {
     "name": "stdout",
     "output_type": "stream",
     "text": [
      "    "
     ]
    },
    {
     "data": {
      "text/plain": [
       "      2 2      1  3   4  2  4     2  4   43  3   32  2  6\n",
       "     m y  + (- - m  - - m )y  + (-- m  + -- m  + -- m )y\n",
       "               3      3          45      45      45\n",
       "   + \n",
       "         1   5    31  4    94  3    64  2  8\n",
       "     (- --- m  - --- m  - --- m  - --- m )y\n",
       "        315      105      105      315\n",
       "   + \n",
       "        2    6    761   5   2242  4    6101  3    512   2  10      11\n",
       "     (----- m  + ----- m  + ---- m  + ----- m  + ----- m )y   + O(y  )\n",
       "      14175      14175      4725      14175      14175\n",
       "Type: UnivariateTaylorSeries(Fraction(UnivariatePolynomial(m,Fraction(Integer))),y,0)\n"
      ]
     },
     "execution_count": 20,
     "metadata": {},
     "output_type": "execute_result"
    }
   ],
   "source": [
    "(differentiate dnn)^2"
   ]
  },
  {
   "cell_type": "code",
   "execution_count": 21,
   "metadata": {
    "collapsed": false
   },
   "outputs": [
    {
     "name": "stdout",
     "output_type": "stream",
     "text": [
      "    "
     ]
    },
    {
     "data": {
      "text/plain": [
       "      2 2      1  3   4  2  4     2  4   43  3   32  2  6\n",
       "     m y  + (- - m  - - m )y  + (-- m  + -- m  + -- m )y\n",
       "               3      3          45      45      45\n",
       "   + \n",
       "         1   5    31  4    94  3    64  2  8\n",
       "     (- --- m  - --- m  - --- m  - --- m )y\n",
       "        315      105      105      315\n",
       "   + \n",
       "        2    6    761   5   2242  4    6101  3    512   2  10      11\n",
       "     (----- m  + ----- m  + ---- m  + ----- m  + ----- m )y   + O(y  )\n",
       "      14175      14175      4725      14175      14175\n",
       "Type: UnivariateTaylorSeries(Fraction(UnivariatePolynomial(m,Fraction(Integer))),y,0)\n"
      ]
     },
     "execution_count": 21,
     "metadata": {},
     "output_type": "execute_result"
    }
   ],
   "source": [
    "(1 - dnn^2)*(dnn^2 - 1 + mm)"
   ]
  },
  {
   "cell_type": "code",
   "execution_count": 22,
   "metadata": {
    "collapsed": false
   },
   "outputs": [
    {
     "name": "stdout",
     "output_type": "stream",
     "text": [
      "  "
     ]
    },
    {
     "data": {
      "text/plain": [
       "          1     1  3     3  2    1      3  5     5   3    3   2    3       5   7\n",
       "     y + (- m + -)y  + (-- m  + -- m + --)y  + (--- m  + --- m  + --- m + ---)y\n",
       "          6     6       40      20     40       112      112      112     112\n",
       "   + \n",
       "       35   4    5   3    1  2    5       35   9      11\n",
       "     (---- m  + --- m  + -- m  + --- m + ----)y  + O(y  )\n",
       "      1152      288      64      288     1152\n",
       "Type: UnivariateTaylorSeries(Fraction(UnivariatePolynomial(m,Fraction(Integer))),y,0)\n"
      ]
     },
     "execution_count": 22,
     "metadata": {},
     "output_type": "execute_result"
    }
   ],
   "source": [
    "kkk := integrate(1/((1 - yy^2)*(1 - mm*yy^2))^(1/2))"
   ]
  },
  {
   "cell_type": "code",
   "execution_count": 23,
   "metadata": {
    "collapsed": false
   },
   "outputs": [
    {
     "data": {
      "text/plain": [
       "      11\n",
       "   O(y  )\n",
       "Type: UnivariateTaylorSeries(Fraction(UnivariatePolynomial(m,Fraction(Integer))),y,0)\n"
      ]
     },
     "execution_count": 23,
     "metadata": {},
     "output_type": "execute_result"
    }
   ],
   "source": [
    "snn - revert kkk"
   ]
  },
  {
   "cell_type": "markdown",
   "metadata": {},
   "source": [
    " Theta-functions expanded as power series\n"
   ]
  },
  {
   "cell_type": "markdown",
   "metadata": {},
   "source": [
    "q0=*/[1-q^2*n for n in 1..]\n",
    "q1=*/[1+q^2*n for n in 1..]\n",
    "q2=*/[1+q^(2*n-1) for n in 1..]\n",
    "q3=*/[1-q^(2*n-1) for n in 1..]\n"
   ]
  },
  {
   "cell_type": "code",
   "execution_count": 24,
   "metadata": {
    "collapsed": false
   },
   "outputs": [
    {
     "data": {
      "text/plain": [
       "                                                                   Type: Void\n"
      ]
     },
     "execution_count": 24,
     "metadata": {},
     "output_type": "execute_result"
    }
   ],
   "source": [
    "eprod x==exp evenlambert log x"
   ]
  },
  {
   "cell_type": "code",
   "execution_count": 25,
   "metadata": {
    "collapsed": false
   },
   "outputs": [
    {
     "data": {
      "text/plain": [
       "   q\n",
       "                          Type: UnivariateTaylorSeries(Fraction(Integer),q,0)\n"
      ]
     },
     "execution_count": 25,
     "metadata": {},
     "output_type": "execute_result"
    }
   ],
   "source": [
    "qq:UTS(RN,'q,0):=q"
   ]
  },
  {
   "cell_type": "code",
   "execution_count": 26,
   "metadata": {
    "collapsed": false
   },
   "outputs": [
    {
     "name": "stdout",
     "output_type": "stream",
     "text": [
      "   Compiling function eprod with type UnivariateTaylorSeries(Fraction(\n",
      "      Integer),q,0) -> UnivariateTaylorSeries(Fraction(Integer),q,0) \n"
     ]
    },
    {
     "data": {
      "text/plain": [
       "        2    4    10      11\n",
       "   1 - q  - q  + q   + O(q  )\n",
       "                          Type: UnivariateTaylorSeries(Fraction(Integer),q,0)\n"
      ]
     },
     "execution_count": 26,
     "metadata": {},
     "output_type": "execute_result"
    }
   ],
   "source": [
    "q0:=eprod(1-qq)"
   ]
  },
  {
   "cell_type": "code",
   "execution_count": 27,
   "metadata": {
    "collapsed": false
   },
   "outputs": [
    {
     "data": {
      "text/plain": [
       "        2    4     6     8     10      11\n",
       "   1 + q  + q  + 2q  + 2q  + 3q   + O(q  )\n",
       "                          Type: UnivariateTaylorSeries(Fraction(Integer),q,0)\n"
      ]
     },
     "execution_count": 27,
     "metadata": {},
     "output_type": "execute_result"
    }
   ],
   "source": [
    "q1:=eprod(1+qq)"
   ]
  },
  {
   "cell_type": "code",
   "execution_count": 28,
   "metadata": {
    "collapsed": false
   },
   "outputs": [
    {
     "data": {
      "text/plain": [
       "                                                                   Type: Void\n"
      ]
     },
     "execution_count": 28,
     "metadata": {},
     "output_type": "execute_result"
    }
   ],
   "source": [
    "oprod x == exp oddlambert log x"
   ]
  },
  {
   "cell_type": "code",
   "execution_count": 29,
   "metadata": {
    "collapsed": false
   },
   "outputs": [
    {
     "name": "stdout",
     "output_type": "stream",
     "text": [
      "   Compiling function oprod with type UnivariateTaylorSeries(Fraction(\n",
      "      Integer),q,0) -> UnivariateTaylorSeries(Fraction(Integer),q,0) \n"
     ]
    },
    {
     "data": {
      "text/plain": [
       "            3    4    5    6    7     8     9     10      11\n",
       "   1 + q + q  + q  + q  + q  + q  + 2q  + 2q  + 2q   + O(q  )\n",
       "                          Type: UnivariateTaylorSeries(Fraction(Integer),q,0)\n"
      ]
     },
     "execution_count": 29,
     "metadata": {},
     "output_type": "execute_result"
    }
   ],
   "source": [
    "q2:=oprod(1+qq)"
   ]
  },
  {
   "cell_type": "code",
   "execution_count": 30,
   "metadata": {
    "collapsed": false
   },
   "outputs": [
    {
     "data": {
      "text/plain": [
       "            3    4    5    6    7     8     9     10      11\n",
       "   1 - q - q  + q  - q  + q  - q  + 2q  - 2q  + 2q   + O(q  )\n",
       "                          Type: UnivariateTaylorSeries(Fraction(Integer),q,0)\n"
      ]
     },
     "execution_count": 30,
     "metadata": {},
     "output_type": "execute_result"
    }
   ],
   "source": [
    "q3:=oprod(1-qq)"
   ]
  },
  {
   "cell_type": "code",
   "execution_count": 31,
   "metadata": {
    "collapsed": false
   },
   "outputs": [
    {
     "data": {
      "text/plain": [
       "          11\n",
       "   1 + O(q  )\n",
       "                          Type: UnivariateTaylorSeries(Fraction(Integer),q,0)\n"
      ]
     },
     "execution_count": 31,
     "metadata": {},
     "output_type": "execute_result"
    }
   ],
   "source": [
    "q1*q2*q3"
   ]
  },
  {
   "cell_type": "code",
   "execution_count": 32,
   "metadata": {
    "collapsed": false
   },
   "outputs": [
    {
     "data": {
      "text/plain": [
       "             3       5        7        9      11\n",
       "   16q + 128q  + 576q  + 2048q  + 6304q  + O(q  )\n",
       "                          Type: UnivariateTaylorSeries(Fraction(Integer),q,0)\n"
      ]
     },
     "execution_count": 32,
     "metadata": {},
     "output_type": "execute_result"
    }
   ],
   "source": [
    "q2^8-q3^8"
   ]
  },
  {
   "cell_type": "code",
   "execution_count": 33,
   "metadata": {
    "collapsed": false
   },
   "outputs": [
    {
     "data": {
      "text/plain": [
       "             3       5        7        9      11\n",
       "   16q + 128q  + 576q  + 2048q  + 6304q  + O(q  )\n",
       "                          Type: UnivariateTaylorSeries(Fraction(Integer),q,0)\n"
      ]
     },
     "execution_count": 33,
     "metadata": {},
     "output_type": "execute_result"
    }
   ],
   "source": [
    "16*qq*q1^8"
   ]
  },
  {
   "cell_type": "markdown",
   "metadata": {},
   "source": [
    "(q1^2/q2^2)^2\n",
    "(q3^2/q2^2)^2\n"
   ]
  },
  {
   "cell_type": "code",
   "execution_count": 34,
   "metadata": {
    "collapsed": false
   },
   "outputs": [
    {
     "data": {
      "text/plain": [
       "         2     6      11\n",
       "   1 - 3q  + 5q  + O(q  )\n",
       "                          Type: UnivariateTaylorSeries(Fraction(Integer),q,0)\n"
      ]
     },
     "execution_count": 34,
     "metadata": {},
     "output_type": "execute_result"
    }
   ],
   "source": [
    "q0^3"
   ]
  },
  {
   "cell_type": "code",
   "execution_count": 35,
   "metadata": {
    "collapsed": false
   },
   "outputs": [
    {
     "data": {
      "text/plain": [
       "        2    6      11\n",
       "   1 + q  + q  + O(q  )\n",
       "                          Type: UnivariateTaylorSeries(Fraction(Integer),q,0)\n"
      ]
     },
     "execution_count": 35,
     "metadata": {},
     "output_type": "execute_result"
    }
   ],
   "source": [
    "q1^2*q0"
   ]
  },
  {
   "cell_type": "code",
   "execution_count": 36,
   "metadata": {
    "collapsed": false
   },
   "outputs": [
    {
     "data": {
      "text/plain": [
       "              4     9      11\n",
       "   1 + 2q + 2q  + 2q  + O(q  )\n",
       "                          Type: UnivariateTaylorSeries(Fraction(Integer),q,0)\n"
      ]
     },
     "execution_count": 36,
     "metadata": {},
     "output_type": "execute_result"
    }
   ],
   "source": [
    "q2^2*q0"
   ]
  },
  {
   "cell_type": "code",
   "execution_count": 37,
   "metadata": {
    "collapsed": false
   },
   "outputs": [
    {
     "data": {
      "text/plain": [
       "              4     9      11\n",
       "   1 - 2q + 2q  - 2q  + O(q  )\n",
       "                          Type: UnivariateTaylorSeries(Fraction(Integer),q,0)\n"
      ]
     },
     "execution_count": 37,
     "metadata": {},
     "output_type": "execute_result"
    }
   ],
   "source": [
    "q3^2*q0"
   ]
  },
  {
   "cell_type": "code",
   "execution_count": 38,
   "metadata": {
    "collapsed": false
   },
   "outputs": [
    {
     "data": {
      "text/plain": [
       "   q\n",
       "Type: UnivariateTaylorSeries(Fraction(UnivariatePolynomial(a,Fraction(Integer))),q,0)\n"
      ]
     },
     "execution_count": 38,
     "metadata": {},
     "output_type": "execute_result"
    }
   ],
   "source": [
    "qqq:UTS(FRAC UP(a,RN),'q,0):=q"
   ]
  },
  {
   "cell_type": "code",
   "execution_count": 39,
   "metadata": {
    "collapsed": false
   },
   "outputs": [
    {
     "data": {
      "text/plain": [
       "   a\n",
       "                    Type: Fraction(UnivariatePolynomial(a,Fraction(Integer)))\n"
      ]
     },
     "execution_count": 39,
     "metadata": {},
     "output_type": "execute_result"
    }
   ],
   "source": [
    "a:=a::FRAC UP(a,RN)"
   ]
  },
  {
   "cell_type": "markdown",
   "metadata": {},
   "source": [
    "Jacobi's triple product\n"
   ]
  },
  {
   "cell_type": "code",
   "execution_count": 40,
   "metadata": {
    "collapsed": false
   },
   "outputs": [
    {
     "name": "stdout",
     "output_type": "stream",
     "text": [
      "   Compiling function eprod with type UnivariateTaylorSeries(Fraction(\n",
      "      UnivariatePolynomial(a,Fraction(Integer))),q,0) -> \n",
      "      UnivariateTaylorSeries(Fraction(UnivariatePolynomial(a,Fraction(\n",
      "      Integer))),q,0) \n",
      "   Compiling function oprod with type UnivariateTaylorSeries(Fraction(\n",
      "      UnivariatePolynomial(a,Fraction(Integer))),q,0) -> \n",
      "      UnivariateTaylorSeries(Fraction(UnivariatePolynomial(a,Fraction(\n",
      "      Integer))),q,0) \n"
     ]
    },
    {
     "data": {
      "text/plain": [
       "          2          4             6\n",
       "       - a  - 1     a  + 1  4   - a  - 1  9      11\n",
       "   1 + -------- q + ------ q  + -------- q  + O(q  )\n",
       "           a           2            3\n",
       "                      a            a\n",
       "Type: UnivariateTaylorSeries(Fraction(UnivariatePolynomial(a,Fraction(Integer))),q,0)\n"
      ]
     },
     "execution_count": 40,
     "metadata": {},
     "output_type": "execute_result"
    }
   ],
   "source": [
    "eprod(1-qqq)*oprod(1-a*qqq)*oprod(1-qqq/a)"
   ]
  },
  {
   "cell_type": "code",
   "execution_count": 41,
   "metadata": {
    "collapsed": false
   },
   "outputs": [
    {
     "name": "stdout",
     "output_type": "stream",
     "text": [
      "    "
     ]
    },
    {
     "data": {
      "text/plain": [
       "        2      1  2   1    4     2  3   13  2    2    6\n",
       "     m y  + (- - m  - - m)y  + (-- m  + -- m  + -- m)y\n",
       "               3      3         45      45      45\n",
       "   + \n",
       "         1   4    2  3    2  2    1     8\n",
       "     (- --- m  - -- m  - -- m  - --- m)y\n",
       "        315      21      21      315\n",
       "   + \n",
       "        2    5    251   4    292  3    251   2     2      10      11\n",
       "     (----- m  + ----- m  + ---- m  + ----- m  + ----- m)y   + O(y  )\n",
       "      14175      14175      4725      14175      14175\n",
       "Type: UnivariateTaylorSeries(Fraction(UnivariatePolynomial(m,Fraction(Integer))),y,0)\n"
      ]
     },
     "execution_count": 41,
     "metadata": {},
     "output_type": "execute_result"
    }
   ],
   "source": [
    "sq:=mm*snn^2"
   ]
  },
  {
   "cell_type": "code",
   "execution_count": 42,
   "metadata": {
    "collapsed": false
   },
   "outputs": [
    {
     "data": {
      "text/plain": []
     },
     "execution_count": 42,
     "metadata": {},
     "output_type": "execute_result"
    }
   ],
   "source": [
    "--\n",
    "-- EOF\n",
    "--"
   ]
  }
 ],
 "metadata": {
  "kernelspec": {
   "display_name": "FriCAS",
   "language": "spad",
   "name": "ifricas"
  },
  "language_info": {
   "codemirror_mode": "spad",
   "mimetype": "text/x-spad",
   "name": "SPAD",
   "pygments_lexer": "spad",
   "version": "1.2.6"
  },
  "name": "elfuts.ipynb"
 },
 "nbformat": 4,
 "nbformat_minor": 0
}