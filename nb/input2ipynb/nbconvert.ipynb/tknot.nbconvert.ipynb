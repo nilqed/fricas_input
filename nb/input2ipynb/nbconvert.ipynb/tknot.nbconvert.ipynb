{
 "cells": [
  {
   "cell_type": "markdown",
   "metadata": {},
   "source": [
    "Copyright The Numerical Algorithms Group Limited 1994.\n",
    " Create a (p,q) torus-knot with radius r around the curve.\n",
    " The formula was derived by Larry Lambe.\n"
   ]
  },
  {
   "cell_type": "markdown",
   "metadata": {},
   "source": [
    " To produce a trefoil knot:\n",
    "   torusKnot(2, 3, 0.5, 10, 200)\n"
   ]
  },
  {
   "cell_type": "markdown",
   "metadata": {},
   "source": [
    " compile, don't interpret functions\n"
   ]
  },
  {
   "cell_type": "code",
   "execution_count": 0,
   "metadata": {
    "collapsed": false
   },
   "outputs": [
    {
     "data": {
      "text/plain": []
     },
     "execution_count": 0,
     "metadata": {},
     "output_type": "execute_result"
    }
   ],
   "source": [
    ")set function  compile on"
   ]
  },
  {
   "cell_type": "markdown",
   "metadata": {},
   "source": [
    " read in the numeric generalized tube program\n"
   ]
  },
  {
   "cell_type": "code",
   "execution_count": 1,
   "metadata": {
    "collapsed": false
   },
   "outputs": [
    {
     "name": "stderr",
     "output_type": "stream",
     "text": [
      " \n",
      "   The file ntube is needed but does not exist.\n",
      "\n"
     ]
    },
    {
     "data": {
      "text/plain": [
       "error\n"
      ]
     },
     "execution_count": 1,
     "metadata": {},
     "output_type": "execute_result"
    }
   ],
   "source": [
    ")read ntube"
   ]
  },
  {
   "cell_type": "markdown",
   "metadata": {},
   "source": [
    " Create a (p,q) torus-knot with radius r around the curve.\n",
    " The formula was derived by Larry Lambe.\n",
    " To produce a trefoil knot:\n",
    "   torusKnot(2, 3, 0.5)\n"
   ]
  },
  {
   "cell_type": "code",
   "execution_count": 2,
   "metadata": {
    "collapsed": false
   },
   "outputs": [
    {
     "name": "stdout",
     "output_type": "stream",
     "text": [
      "   Function declaration torusKnot : (DoubleFloat,DoubleFloat,\n",
      "      DoubleFloat,PositiveInteger,PositiveInteger) -> \n",
      "      ThreeDimensionalViewport has been added to workspace.\n",
      "\n"
     ]
    },
    {
     "data": {
      "text/plain": [
       "                                                                   Type: Void\n"
      ]
     },
     "execution_count": 2,
     "metadata": {},
     "output_type": "execute_result"
    }
   ],
   "source": [
    "torusKnot(p:DFLOAT, q:DFLOAT, r:DFLOAT, uSteps:PI, tSteps:PI):VIEW3D ==\n",
    "  -- equation for the torus knot\n",
    "  knot := (t:DFLOAT):Point DFLOAT +->\n",
    "    fac := 4/(2.2@DFLOAT-sin(q*t))\n",
    "    fac * point [cos(p*t), sin(p*t), cos(q*t)]\n",
    "  -- equation for the cross section of the tube\n",
    "  circle := (u:DFLOAT, t:DFLOAT):Point DFLOAT +->\n",
    "    r * point [cos u, sin u]\n",
    "  -- draw the tube around the knot\n",
    "  ntubeDrawOpt(knot, circle, 0..2*%pi, 0..2*%pi, var1Steps == uSteps,\n",
    "               var2Steps == tSteps)"
   ]
  },
  {
   "cell_type": "code",
   "execution_count": 3,
   "metadata": {
    "collapsed": false
   },
   "outputs": [
    {
     "data": {
      "text/plain": []
     },
     "execution_count": 3,
     "metadata": {},
     "output_type": "execute_result"
    }
   ],
   "source": [
    "--\n",
    "-- EOF\n",
    "--"
   ]
  }
 ],
 "metadata": {
  "kernelspec": {
   "display_name": "FriCAS",
   "language": "spad",
   "name": "ifricas"
  },
  "language_info": {
   "codemirror_mode": "spad",
   "mimetype": "text/x-spad",
   "name": "SPAD",
   "pygments_lexer": "spad",
   "version": "1.2.6"
  },
  "name": "tknot.ipynb"
 },
 "nbformat": 4,
 "nbformat_minor": 0
}