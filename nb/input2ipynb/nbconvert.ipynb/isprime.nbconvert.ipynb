{
 "cells": [
  {
   "cell_type": "markdown",
   "metadata": {},
   "source": [
    "Copyright The Numerical Algorithms Group Limited 1994.\n"
   ]
  },
  {
   "cell_type": "code",
   "execution_count": 0,
   "metadata": {
    "collapsed": false
   },
   "outputs": [
    {
     "data": {
      "text/plain": []
     },
     "execution_count": 0,
     "metadata": {},
     "output_type": "execute_result"
    }
   ],
   "source": [
    ")set break resume"
   ]
  },
  {
   "cell_type": "code",
   "execution_count": 1,
   "metadata": {
    "collapsed": false
   },
   "outputs": [
    {
     "name": "stdout",
     "output_type": "stream",
     "text": [
      "   UnittestCount is now explicitly exposed in frame initial \n",
      "   UnittestAux is now explicitly exposed in frame initial \n",
      "   Unittest is now explicitly exposed in frame initial \n"
     ]
    },
    {
     "data": {
      "text/plain": []
     },
     "execution_count": 1,
     "metadata": {},
     "output_type": "execute_result"
    }
   ],
   "source": [
    ")expose UnittestCount UnittestAux Unittest"
   ]
  },
  {
   "cell_type": "code",
   "execution_count": 2,
   "metadata": {
    "collapsed": false
   },
   "outputs": [
    {
     "name": "stdout",
     "output_type": "stream",
     "text": [
      "   All user variables and function definitions have been cleared.\n",
      "Warning: HyperTeX macro table not found\n"
     ]
    },
    {
     "data": {
      "text/plain": [
       "                                                                   Type: Void\n"
      ]
     },
     "execution_count": 2,
     "metadata": {},
     "output_type": "execute_result"
    }
   ],
   "source": [
    "testsuite \"prime?$Integer\""
   ]
  },
  {
   "cell_type": "code",
   "execution_count": 3,
   "metadata": {
    "collapsed": false
   },
   "outputs": [
    {
     "name": "stdout",
     "output_type": "stream",
     "text": [
      "   All user variables and function definitions have been cleared.\n"
     ]
    },
    {
     "data": {
      "text/plain": [
       "                                                                   Type: Void\n"
      ]
     },
     "execution_count": 3,
     "metadata": {},
     "output_type": "execute_result"
    }
   ],
   "source": [
    "testcase \"strong pseudoprimes\""
   ]
  },
  {
   "cell_type": "code",
   "execution_count": 4,
   "metadata": {
    "collapsed": false
   },
   "outputs": [
    {
     "name": "stdout",
     "output_type": "stream",
     "text": [
      "   Function declaration testFactor : List(Integer) -> Void has been \n",
      "      added to workspace.\n",
      "\n"
     ]
    },
    {
     "data": {
      "text/plain": [
       "                                                                   Type: Void\n"
      ]
     },
     "execution_count": 4,
     "metadata": {},
     "output_type": "execute_result"
    }
   ],
   "source": [
    "testFactor(l: List Integer): Void ==\n",
    "    free n\n",
    "    n := reduce(*, l)"
   ]
  },
  {
   "cell_type": "code",
   "execution_count": 5,
   "metadata": {
    "collapsed": false
   },
   "outputs": [
    {
     "name": "stdout",
     "output_type": "stream",
     "text": [
      " \n",
      "   FriCAS cannot iterate with f over your form now. Perhaps you should \n",
      "      try using a conversion to make sure your form is a list or \n",
      "      stream, for example.\n",
      "\n",
      "   Continuing to read the file...\n",
      "\n",
      "\n"
     ]
    },
    {
     "data": {
      "text/plain": []
     },
     "execution_count": 5,
     "metadata": {},
     "output_type": "execute_result"
    }
   ],
   "source": [
    "    s := delete(reduce(concat, _\n",
    "                       [concat [\"* primeFactor(\", string f, \",1)\"] _\n",
    "                        for f in l]), 1)\n"
   ]
  },
  {
   "cell_type": "code",
   "execution_count": 6,
   "metadata": {
    "collapsed": false
   },
   "outputs": [
    {
     "name": "stdout",
     "output_type": "stream",
     "text": [
      "   There are 1 exposed and 0 unexposed library operations named \n",
      "      testEquals having 2 argument(s) but none was determined to be \n",
      "      applicable. Use HyperDoc Browse, or issue\n",
      "                           )display op testEquals\n",
      "      to learn more about the available operations. Perhaps \n",
      "      package-calling the operation or using coercions on the arguments\n",
      "      will allow you to apply the operation.\n",
      " \n",
      "   Cannot find a definition or applicable library operation named \n",
      "      testEquals with argument type(s) \n",
      "                                   String\n",
      "                                 Variable(s)\n",
      "      \n",
      "      Perhaps you should use \"@\" to indicate the required return type, \n",
      "      or \"$\" to specify which version of the function you need.\n",
      "\n",
      "   Continuing to read the file...\n",
      "\n",
      "\n"
     ]
    },
    {
     "data": {
      "text/plain": [
       "                                                                   Type: Void\n"
      ]
     },
     "execution_count": 6,
     "metadata": {},
     "output_type": "execute_result"
    }
   ],
   "source": [
    "    testTrue(\"not prime? n\")\n",
    "    testEquals(\"factor(n)\", s)"
   ]
  },
  {
   "cell_type": "markdown",
   "metadata": {},
   "source": [
    "The first two (2152302898747 and 3474749660383) are the only strong\n",
    "pseudoprimes bases 2,3,5,7,11 less than 10^13: the remaining three\n",
    "are the only Carmichael numbers less than 10^16 with this property.\n"
   ]
  },
  {
   "cell_type": "code",
   "execution_count": 7,
   "metadata": {
    "collapsed": false
   },
   "outputs": [
    {
     "name": "stdout",
     "output_type": "stream",
     "text": [
      "   Compiling function testFactor with type List(Integer) -> Void \n",
      "   Compiled code for testFactor has been cleared.\n"
     ]
    },
    {
     "data": {
      "text/plain": [
       "                                                                   Type: Void\n"
      ]
     },
     "execution_count": 7,
     "metadata": {},
     "output_type": "execute_result"
    }
   ],
   "source": [
    "testFactor [6763, 10627, 29947]"
   ]
  },
  {
   "cell_type": "code",
   "execution_count": 8,
   "metadata": {
    "collapsed": false
   },
   "outputs": [
    {
     "name": "stdout",
     "output_type": "stream",
     "text": [
      "   Compiling function testFactor with type List(Integer) -> Void \n"
     ]
    },
    {
     "data": {
      "text/plain": [
       "                                                                   Type: Void\n"
      ]
     },
     "execution_count": 8,
     "metadata": {},
     "output_type": "execute_result"
    }
   ],
   "source": [
    "testFactor [1303, 16927, 157543]"
   ]
  },
  {
   "cell_type": "code",
   "execution_count": 9,
   "metadata": {
    "collapsed": false
   },
   "outputs": [
    {
     "data": {
      "text/plain": [
       "                                                                   Type: Void\n"
      ]
     },
     "execution_count": 9,
     "metadata": {},
     "output_type": "execute_result"
    }
   ],
   "source": [
    "testFactor [3739, 18691, 153259]"
   ]
  },
  {
   "cell_type": "code",
   "execution_count": 10,
   "metadata": {
    "collapsed": false
   },
   "outputs": [
    {
     "data": {
      "text/plain": [
       "                                                                   Type: Void\n"
      ]
     },
     "execution_count": 10,
     "metadata": {},
     "output_type": "execute_result"
    }
   ],
   "source": [
    "testFactor [46411, 232051, 417691]"
   ]
  },
  {
   "cell_type": "code",
   "execution_count": 11,
   "metadata": {
    "collapsed": false
   },
   "outputs": [
    {
     "data": {
      "text/plain": [
       "                                                                   Type: Void\n"
      ]
     },
     "execution_count": 11,
     "metadata": {},
     "output_type": "execute_result"
    }
   ],
   "source": [
    "testFactor [21319, 106591, 3005839]"
   ]
  },
  {
   "cell_type": "code",
   "execution_count": 12,
   "metadata": {
    "collapsed": false
   },
   "outputs": [
    {
     "name": "stdout",
     "output_type": "stream",
     "text": [
      "   All user variables and function definitions have been cleared.\n"
     ]
    },
    {
     "data": {
      "text/plain": [
       "                                                                   Type: Void\n"
      ]
     },
     "execution_count": 12,
     "metadata": {},
     "output_type": "execute_result"
    }
   ],
   "source": [
    "testcase \"negative integers\""
   ]
  },
  {
   "cell_type": "code",
   "execution_count": 13,
   "metadata": {
    "collapsed": false
   },
   "outputs": [
    {
     "data": {
      "text/plain": [
       "                                                                   Type: Void\n"
      ]
     },
     "execution_count": 13,
     "metadata": {},
     "output_type": "execute_result"
    }
   ],
   "source": [
    "testTrue(\"prime?(-5)\")"
   ]
  },
  {
   "cell_type": "code",
   "execution_count": 14,
   "metadata": {
    "collapsed": false
   },
   "outputs": [
    {
     "data": {
      "text/plain": [
       "                                                                   Type: Void\n"
      ]
     },
     "execution_count": 14,
     "metadata": {},
     "output_type": "execute_result"
    }
   ],
   "source": [
    "testTrue(\"not prime?(-15)\")"
   ]
  },
  {
   "cell_type": "code",
   "execution_count": 15,
   "metadata": {
    "collapsed": false
   },
   "outputs": [
    {
     "name": "stdout",
     "output_type": "stream",
     "text": [
      "   All user variables and function definitions have been cleared.\n"
     ]
    },
    {
     "data": {
      "text/plain": [
       "                                                                   Type: Void\n"
      ]
     },
     "execution_count": 15,
     "metadata": {},
     "output_type": "execute_result"
    }
   ],
   "source": [
    "testcase \"Davenport Primality Testing Revisited\""
   ]
  },
  {
   "cell_type": "markdown",
   "metadata": {},
   "source": [
    " Jaeschke\n"
   ]
  },
  {
   "cell_type": "code",
   "execution_count": 16,
   "metadata": {
    "collapsed": false
   },
   "outputs": [
    {
     "data": {
      "text/plain": [
       "                                                                   Type: Void\n"
      ]
     },
     "execution_count": 16,
     "metadata": {},
     "output_type": "execute_result"
    }
   ],
   "source": [
    "testTrue(\"not prime?(137716125329053 * 413148375987157)\")"
   ]
  },
  {
   "cell_type": "markdown",
   "metadata": {},
   "source": [
    " Arnault (k+1)(2k+1)\n"
   ]
  },
  {
   "cell_type": "code",
   "execution_count": 17,
   "metadata": {
    "collapsed": false
   },
   "outputs": [
    {
     "data": {
      "text/plain": [
       "                                                                   Type: Void\n"
      ]
     },
     "execution_count": 17,
     "metadata": {},
     "output_type": "execute_result"
    }
   ],
   "source": [
    "testTrue(\"not prime?(24444516448431392447461 * 48889032896862784894921)\")"
   ]
  },
  {
   "cell_type": "code",
   "execution_count": 18,
   "metadata": {
    "collapsed": false
   },
   "outputs": [
    {
     "name": "stdout",
     "output_type": "stream",
     "text": [
      "   All user variables and function definitions have been cleared.\n"
     ]
    },
    {
     "data": {
      "text/plain": [
       "                                                                   Type: Void\n"
      ]
     },
     "execution_count": 18,
     "metadata": {},
     "output_type": "execute_result"
    }
   ],
   "source": [
    "testcase \"Zhenxiang Zhang, Two kinds of strong pseudoprimes up to 10^36\""
   ]
  },
  {
   "cell_type": "markdown",
   "metadata": {},
   "source": [
    " Math. Comp.  76  (2007),  no. 260, 2095--2107\n"
   ]
  },
  {
   "cell_type": "code",
   "execution_count": 19,
   "metadata": {
    "collapsed": false
   },
   "outputs": [
    {
     "name": "stderr",
     "output_type": "stream",
     "text": [
      " \n",
      "   NIL is not a valid identifier to use in FriCAS.\n",
      "\n"
     ]
    },
    {
     "data": {
      "text/plain": [
       "error\n"
      ]
     },
     "execution_count": 19,
     "metadata": {},
     "output_type": "execute_result"
    }
   ],
   "source": [
    "Table1 := [1543267864443420616877677640751301,"
   ]
  },
  {
   "cell_type": "code",
   "execution_count": 20,
   "metadata": {
    "collapsed": false
   },
   "outputs": [
    {
     "name": "stdout",
     "output_type": "stream",
     "text": [
      "  Line   1:            3573966164315688081500989037680081,_\n",
      "  Line   2:            3957570300351944936545806366050221,_\n",
      "  Line   3:            7434112337530311731294137656793141,_\n",
      "  Line   4:            11068905075460890469451728340323501,_\n",
      "  Line   5:            15837769490890427362080539697619981,_\n",
      "  Line   6:            28474734069948658439948497717356181,_\n",
      "  Line   7:            40367254714218826380279781659656101,_\n",
      "  Line   8:            71361969427913804551298969198134381,_\n",
      "  Line   9:            82824364075160891096445017152530181,_\n",
      "  Line  10:            88957815149805554548986624679089781,_\n",
      "  Line  11:            155559415576705971544442260241085421,_\n",
      "  Line  12:            179574770201988665981898462279223261,_\n",
      "  Line  13:            194375577640515630021542270534335741,_\n",
      "  Line  14:            219337010339607890908194166878591181,_\n",
      "  Line  15:            252100580001725274015376769069176741,_\n",
      "  Line  16:            255173558983450077412120850955148501,_\n",
      "  Line  17:            407387351326298070201483525504009841,_\n",
      "  Line  18:            527946434214347171361929671021353301,_\n",
      "  Line  19:            534925558491481798612709096229028021,_\n",
      "  Line  20:            808460124355439022735025127668137421,_\n",
      "  Line  21:            812968039437255274477328666971353901,_\n",
      "  Line  22:            816345937837238810402166547264426261,_\n",
      "  Line  23:            964006870224361626772797038309214301];\n",
      "           ...............................................A\n",
      "  Error  A: Improper syntax.\n",
      "   1 error(s) parsing \n",
      "\n",
      "   Continuing to read the file...\n",
      "\n",
      "\n"
     ]
    },
    {
     "data": {
      "text/plain": []
     },
     "execution_count": 20,
     "metadata": {},
     "output_type": "execute_result"
    }
   ],
   "source": [
    "           3573966164315688081500989037680081,_\n",
    "           3957570300351944936545806366050221,_\n",
    "           7434112337530311731294137656793141,_\n",
    "           11068905075460890469451728340323501,_\n",
    "           15837769490890427362080539697619981,_\n",
    "           28474734069948658439948497717356181,_\n",
    "           40367254714218826380279781659656101,_\n",
    "           71361969427913804551298969198134381,_\n",
    "           82824364075160891096445017152530181,_\n",
    "           88957815149805554548986624679089781,_\n",
    "           155559415576705971544442260241085421,_\n",
    "           179574770201988665981898462279223261,_\n",
    "           194375577640515630021542270534335741,_\n",
    "           219337010339607890908194166878591181,_\n",
    "           252100580001725274015376769069176741,_\n",
    "           255173558983450077412120850955148501,_\n",
    "           407387351326298070201483525504009841,_\n",
    "           527946434214347171361929671021353301,_\n",
    "           534925558491481798612709096229028021,_\n",
    "           808460124355439022735025127668137421,_\n",
    "           812968039437255274477328666971353901,_\n",
    "           816345937837238810402166547264426261,_\n",
    "           964006870224361626772797038309214301];\n"
   ]
  },
  {
   "cell_type": "code",
   "execution_count": 21,
   "metadata": {
    "collapsed": false
   },
   "outputs": [
    {
     "name": "stderr",
     "output_type": "stream",
     "text": [
      "   There are 1 exposed and 0 unexposed library operations named any? \n",
      "      having 2 argument(s) but none was determined to be applicable. \n",
      "      Use HyperDoc Browse, or issue\n",
      "                              )display op any?\n",
      "      to learn more about the available operations. Perhaps \n",
      "      package-calling the operation or using coercions on the arguments\n",
      "      will allow you to apply the operation.\n",
      " \n",
      "   Cannot find a definition or applicable library operation named any? \n",
      "      with argument type(s) \n",
      "                              Variable(prime?)\n",
      "                              Variable(Table1)\n",
      "      \n",
      "      Perhaps you should use \"@\" to indicate the required return type, \n",
      "      or \"$\" to specify which version of the function you need.\n",
      "\n"
     ]
    },
    {
     "data": {
      "text/plain": [
       "error\n"
      ]
     },
     "execution_count": 21,
     "metadata": {},
     "output_type": "execute_result"
    }
   ],
   "source": [
    "testTrue(\"not any?(prime?, Table1)\")"
   ]
  },
  {
   "cell_type": "code",
   "execution_count": 22,
   "metadata": {
    "collapsed": false
   },
   "outputs": [
    {
     "data": {
      "text/plain": [
       "                                                  Type: List(PositiveInteger)\n"
      ]
     },
     "execution_count": 22,
     "metadata": {},
     "output_type": "execute_result"
    }
   ],
   "source": [
    "Table3 := [168790877523676911809192454171451,_\n",
    "           404006419196517352340186908176331,_\n",
    "           638448294554274988128326408678791,_\n",
    "           7386491959322896977412581863267131,_\n",
    "           14987066152476389521373597949057667,_\n",
    "           22072884304282812126783178400582551,_\n",
    "           22237516761876676325875933714505851,_\n",
    "           22535137585571582393575508859041539,_\n",
    "           33197805689160640280977000730295751,_\n",
    "           73956318488637465060479221079709511,_\n",
    "           84699940865376876461361355974527971,_\n",
    "           86114946224343991256730573290132851,_\n",
    "           157909679385259051550191589707564171,_\n",
    "           164290818021112438861652311523405671,_\n",
    "           329688822383744772420052773006657151,_\n",
    "           381295376196063449827518388463105491,_\n",
    "           488694766114162789165236319667944651,_\n",
    "           615953281715442032393107126795194451,_\n",
    "           663871524013514481984275366839039183,_\n",
    "           678033047702587416969292603094702251];\n"
   ]
  },
  {
   "cell_type": "code",
   "execution_count": 23,
   "metadata": {
    "collapsed": false
   },
   "outputs": [
    {
     "data": {
      "text/plain": [
       "                                                                   Type: Void\n"
      ]
     },
     "execution_count": 23,
     "metadata": {},
     "output_type": "execute_result"
    }
   ],
   "source": [
    "testTrue(\"not any?(prime?, Table3)\")"
   ]
  },
  {
   "cell_type": "code",
   "execution_count": 24,
   "metadata": {
    "collapsed": false
   },
   "outputs": [
    {
     "data": {
      "text/plain": [
       "                                                  Type: List(PositiveInteger)\n"
      ]
     },
     "execution_count": 24,
     "metadata": {},
     "output_type": "execute_result"
    }
   ],
   "source": [
    "Proposition1dot1 := [1287836182261 * 2575672364521,_\n",
    "                     54786377365501 * 109572754731001,_\n",
    "                     172157429516701 * 344314859033401,_\n",
    "                     531099297693901 * 1062198595387801,_\n",
    "                     27778299663977101 * 55556599327954201];\n"
   ]
  },
  {
   "cell_type": "code",
   "execution_count": 25,
   "metadata": {
    "collapsed": false
   },
   "outputs": [
    {
     "data": {
      "text/plain": [
       "                                                                   Type: Void\n"
      ]
     },
     "execution_count": 25,
     "metadata": {},
     "output_type": "execute_result"
    }
   ],
   "source": [
    "testTrue(\"not any?(prime?, Proposition1dot1)\")"
   ]
  },
  {
   "cell_type": "markdown",
   "metadata": {},
   "source": [
    " Conjecture 1\n"
   ]
  },
  {
   "cell_type": "code",
   "execution_count": 26,
   "metadata": {
    "collapsed": false
   },
   "outputs": [
    {
     "data": {
      "text/plain": [
       "                                                                   Type: Void\n"
      ]
     },
     "execution_count": 26,
     "metadata": {},
     "output_type": "execute_result"
    }
   ],
   "source": [
    "xftestTrue(\"not prime?(149491 * 747451 * 34233211)\")"
   ]
  },
  {
   "cell_type": "markdown",
   "metadata": {},
   "source": [
    " Conjecture 2\n"
   ]
  },
  {
   "cell_type": "code",
   "execution_count": 27,
   "metadata": {
    "collapsed": false
   },
   "outputs": [
    {
     "data": {
      "text/plain": [
       "                                                                   Type: Void\n"
      ]
     },
     "execution_count": 27,
     "metadata": {},
     "output_type": "execute_result"
    }
   ],
   "source": [
    "testTrue(\"not prime?(399165290221 * 798330580441)\")"
   ]
  },
  {
   "cell_type": "code",
   "execution_count": 28,
   "metadata": {
    "collapsed": false
   },
   "outputs": [
    {
     "data": {
      "text/plain": [
       "   =============================================================================\n",
       "   General WARNINGS:\n",
       "   * do not use ')clear completely' before having used 'statistics()'\n",
       "     It clears the statistics without warning!\n",
       "   * do not forget to pass the arguments of the testXxxx functions as Strings!\n",
       "     Otherwise, the test will fail and statistics() will not notice!\n",
       "   * testLibraryError does not prevent FriCAS from aborting the current block.\n",
       "     Thus, if a block contains other test functions, they will not be executed\n",
       "     and statistics() will not notice!\n",
       "\n",
       "   =============================================================================\n",
       "   Testsuite: prime?$Integer\n",
       "     failed (total): 2 (4)\n",
       "\n",
       "     failed testcases were:\n",
       "     ---------------------------------------------------------------------------\n",
       "     Testcase: strong pseudoprimes\n",
       "       failed (total): 1 (1)\n",
       "\n",
       "       failed tests were:\n",
       "\n",
       "         1: TRUE: (not prime? n)\n",
       "         Output1: false\n",
       "     ---------------------------------------------------------------------------\n",
       "     Testcase: Zhenxiang Zhang, Two kinds of strong pseudoprimes up to 10^36\n",
       "       failed (total): 1 (5)\n",
       "\n",
       "     fatal tests were:\n",
       "\n",
       "         1: TRUE: (not any?(prime?, Table1))\n",
       "\n",
       "   =============================================================================\n",
       "   testsuite | testcases: failed (total) | tests: failed (total)\n",
       "   prime?$Integer              2     (4)               2    (10)\n",
       "   =============================================================================\n",
       "   File summary.\n",
       "   unexpected failures: 2\n",
       "   expected failures: 1\n",
       "   unexpected passes: 0\n",
       "   total tests: 10\n",
       "                                                                   Type: Void\n"
      ]
     },
     "execution_count": 28,
     "metadata": {},
     "output_type": "execute_result"
    }
   ],
   "source": [
    "statistics()"
   ]
  },
  {
   "cell_type": "code",
   "execution_count": 29,
   "metadata": {
    "collapsed": false
   },
   "outputs": [
    {
     "data": {
      "text/plain": []
     },
     "execution_count": 29,
     "metadata": {},
     "output_type": "execute_result"
    }
   ],
   "source": [
    "--\n",
    "-- EOF\n",
    "--"
   ]
  }
 ],
 "metadata": {
  "kernelspec": {
   "display_name": "FriCAS",
   "language": "spad",
   "name": "ifricas"
  },
  "language_info": {
   "codemirror_mode": "spad",
   "mimetype": "text/x-spad",
   "name": "SPAD",
   "pygments_lexer": "spad",
   "version": "1.2.6"
  },
  "name": "isprime.ipynb"
 },
 "nbformat": 4,
 "nbformat_minor": 0
}