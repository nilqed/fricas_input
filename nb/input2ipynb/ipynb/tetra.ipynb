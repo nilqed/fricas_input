{
 "cells": [
{
"cell_type" : "markdown",
"metadata" : {},
"source" : ["Copyright The Numerical Algorithms Group Limited 1994.\n Sierpinsky's Tetrahedron\n"]
}
,
{
"cell_type" : "markdown",
"metadata" : {},
"source" : [" Bring DH matrices into the environment\n"]
}
,
{
"cell_type" : "code",
"execution_count": null,
"metadata" : {
    "collapsed" : false
},
"source" : [")set expose add con DenavitHartenbergMatrix"],
"outputs": []
}
,
{
"cell_type" : "code",
"execution_count": null,
"metadata" : {
    "collapsed" : false
},
"source" : [")read dhtri"],
"outputs": []
}
,
{
"cell_type" : "markdown",
"metadata" : {},
"source" : [" set up the coordinates of the corners of a tetrahedron\n"]
}
,
{
"cell_type" : "code",
"execution_count": null,
"metadata" : {
    "collapsed" : false
},
"source" : ["x1:DoubleFloat := sqrt(2.0@DoubleFloat/3.0@DoubleFloat)"],
"outputs": []
}
,
{
"cell_type" : "code",
"execution_count": null,
"metadata" : {
    "collapsed" : false
},
"source" : ["x2:DoubleFloat := sqrt(3.0@DoubleFloat)/6"],
"outputs": []
}
,
{
"cell_type" : "code",
"execution_count": null,
"metadata" : {
    "collapsed" : false
},
"source" : ["p1 := point [-0.5@DoubleFloat, -x2, 0.0@DoubleFloat]"],
"outputs": []
}
,
{
"cell_type" : "code",
"execution_count": null,
"metadata" : {
    "collapsed" : false
},
"source" : ["p2 := point [0.5@DoubleFloat, -x2, 0.0@DoubleFloat]"],
"outputs": []
}
,
{
"cell_type" : "code",
"execution_count": null,
"metadata" : {
    "collapsed" : false
},
"source" : ["p3 := point [0.0@DoubleFloat, 2*x2, 0.0@DoubleFloat]"],
"outputs": []
}
,
{
"cell_type" : "code",
"execution_count": null,
"metadata" : {
    "collapsed" : false
},
"source" : ["p4 := point [0.0@DoubleFloat, 0.0@DoubleFloat, x1]"],
"outputs": []
}
,
{
"cell_type" : "markdown",
"metadata" : {},
"source" : [" The base of the tetrahedron\n"]
}
,
{
"cell_type" : "code",
"execution_count": null,
"metadata" : {
    "collapsed" : false
},
"source" : ["baseTriangle  := [p2, p1, p3]"],
"outputs": []
}
,
{
"cell_type" : "markdown",
"metadata" : {},
"source" : [" The \"middle triangle\" inscribed in the base of the tetrahedon\n"]
}
,
{
"cell_type" : "code",
"execution_count": null,
"metadata" : {
    "collapsed" : false
},
"source" : ["mt  := [0.5@DoubleFloat*(p2+p1), 0.5@DoubleFloat*(p1+p3), 0.5@DoubleFloat*(p3+p2)]"],
"outputs": []
}
,
{
"cell_type" : "markdown",
"metadata" : {},
"source" : [" The bases of the triangles of the subdivided tetrahedon\n"]
}
,
{
"cell_type" : "code",
"execution_count": null,
"metadata" : {
    "collapsed" : false
},
"source" : ["bt1 := [mt.1, p1, mt.2]"],
"outputs": []
}
,
{
"cell_type" : "code",
"execution_count": null,
"metadata" : {
    "collapsed" : false
},
"source" : ["bt2 := [p2, mt.1, mt.3]"],
"outputs": []
}
,
{
"cell_type" : "code",
"execution_count": null,
"metadata" : {
    "collapsed" : false
},
"source" : ["bt3 := [mt.2, p3, mt.3]"],
"outputs": []
}
,
{
"cell_type" : "code",
"execution_count": null,
"metadata" : {
    "collapsed" : false
},
"source" : ["bt4 := [0.5@DoubleFloat*(p2+p4), 0.5@DoubleFloat*(p1+p4), 0.5@DoubleFloat*(p3+p4)]"],
"outputs": []
}
,
{
"cell_type" : "markdown",
"metadata" : {},
"source" : [" create the transformations which bring the base of the tetrahedron\n to the bases of the subdivided tetrahedron\n"]
}
,
{
"cell_type" : "code",
"execution_count": null,
"metadata" : {
    "collapsed" : false
},
"source" : ["tt1 := tri2tri(baseTriangle, bt1)"],
"outputs": []
}
,
{
"cell_type" : "code",
"execution_count": null,
"metadata" : {
    "collapsed" : false
},
"source" : ["tt2 := tri2tri(baseTriangle, bt2)"],
"outputs": []
}
,
{
"cell_type" : "code",
"execution_count": null,
"metadata" : {
    "collapsed" : false
},
"source" : ["tt3 := tri2tri(baseTriangle, bt3)"],
"outputs": []
}
,
{
"cell_type" : "code",
"execution_count": null,
"metadata" : {
    "collapsed" : false
},
"source" : ["tt4 := tri2tri(baseTriangle, bt4)"],
"outputs": []
}
,
{
"cell_type" : "markdown",
"metadata" : {},
"source" : [" Draw a Sierpinsky tetrahedron with n levels of recursive subdivision\n"]
}
,
{
"cell_type" : "code",
"execution_count": null,
"metadata" : {
    "collapsed" : false
},
"source" : ["drawPyramid(n) ==\n  s := create3Space()$ThreeSpace DoubleFloat\n  dh := rotatex(0.0@DoubleFloat)\n  drawPyramidInner(s, n, dh)\n  makeViewport3D(s, \"Sierpinsky Tetrahedron\")$VIEW3D"],
"outputs": []
}
,
{
"cell_type" : "markdown",
"metadata" : {},
"source" : [" Recursively draw a Sierpinsky tetrahedron\n"]
}
,
{
"cell_type" : "code",
"execution_count": null,
"metadata" : {
    "collapsed" : false
},
"source" : ["drawPyramidInner(s, n, dh) ==\n  n = 0 => makeTetrahedron(s, dh, n)\n  -- draw the 4 recursive pyramids\n  drawPyramidInner(s, n-1, dh * tt1)\n  drawPyramidInner(s, n-1, dh * tt2)\n  drawPyramidInner(s, n-1, dh * tt3)\n  drawPyramidInner(s, n-1, dh * tt4)"],
"outputs": []
}
,
{
"cell_type" : "markdown",
"metadata" : {},
"source" : [" draw a tetrahedron into the given space, with the given color,\n transforming it by the given DH matrix\n"]
}
,
{
"cell_type" : "code",
"execution_count": null,
"metadata" : {
    "collapsed" : false
},
"source" : ["makeTetrahedron(sp, dh, color) ==\n  w1 := dh*p1\n  w2 := dh*p2\n  w3 := dh*p3\n  w4 := dh*p4\n  polygon(sp, [w1, w2, w4])\n  polygon(sp, [w1, w3, w4])\n  polygon(sp, [w2, w3, w4])\n  void()"],
"outputs": []
}
,
{
"cell_type" : "code",
"execution_count": null,
"metadata" : {
    "collapsed" : false
},
"source" : ["--\n-- EOF\n--"],
"outputs": []
}
 ],
"metadata": {
 "kernelspec": {
  "display_name": "FriCAS",
  "language": "spad",
  "name": "ifricas"
 },
 "language_info": {
  "codemirror_mode": "spad",
  "mimetype": "text/x-spad",
  "name": "SPAD",
  "pygments_lexer": "spad",
  "version": "1.2.6"
 },
 "name": "tetra.ipynb"
},
"nbformat": 4,
"nbformat_minor": 0
}
