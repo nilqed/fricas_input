{
 "cells": [
{
"cell_type" : "markdown",
"metadata" : {},
"source" : ["Copyright The Numerical Algorithms Group Limited 1994.\n"]
}
,
{
"cell_type" : "markdown",
"metadata" : {},
"source" : ["Examples of Polya-Redfield enumeration methods.\n\nThis file is based upon the paper\nJ.H.Redfield 'The Theory of Group-Reduced Distributions'\nAmerican J. Math.,49 (1927) 433-455,\nand is an application of group theory to enumeration problems.\nIt is a development of the work by P.A.MacMahon on the\napplication of symmetric functions and Hammond operators to\ncombinatorial theory.\n\nThe theory is based upon the symmetric functions s   which are the\n                                                   i\nsum of the i th powers of the variables.\nThe cycle index of a permutation may be represented as a partition.\n For example, the partition\n   2     2                                2      2\n (3  2 1  )  will be used to represent  s   s  s   and\n                                          3  2  1\n will indicate that the permutation has two cycles of length 3,\n one of length 2 and two of length 1.\nThe cycle index of a permutation group is the sum of the cycle indices\nof its permutations divided by the number of permutations.\n\nThe cycle indices of certain groups are provided.\ncomplete n is the cycle index of the symmetric group of order n\n"]
}
,
{
"cell_type" : "code",
"execution_count": null,
"metadata" : {
    "collapsed" : false
},
"source" : [")clear all"],
"outputs": []
}
,
{
"cell_type" : "code",
"execution_count": null,
"metadata" : {
    "collapsed" : false
},
"source" : [")expose EVALCYC"],
"outputs": []
}
,
{
"cell_type" : "code",
"execution_count": null,
"metadata" : {
    "collapsed" : false
},
"source" : ["complete 1"],
"outputs": []
}
,
{
"cell_type" : "markdown",
"metadata" : {},
"source" : ["\n   (1)  (1)\n\n"]
}
,
{
"cell_type" : "code",
"execution_count": null,
"metadata" : {
    "collapsed" : false
},
"source" : ["complete 2"],
"outputs": []
}
,
{
"cell_type" : "markdown",
"metadata" : {},
"source" : ["\n        1       1   2\n   (2)  - (2) + - (1 )\n        2       2\n\n"]
}
,
{
"cell_type" : "code",
"execution_count": null,
"metadata" : {
    "collapsed" : false
},
"source" : ["complete 3"],
"outputs": []
}
,
{
"cell_type" : "markdown",
"metadata" : {},
"source" : ["\n        1       1         1   3\n   (3)  - (3) + - (2 1) + - (1 )\n        3       2         6\n\n\n"]
}
,
{
"cell_type" : "code",
"execution_count": null,
"metadata" : {
    "collapsed" : false
},
"source" : ["complete 7"],
"outputs": []
}
,
{
"cell_type" : "markdown",
"metadata" : {},
"source" : ["\n   (7)\n     1       1         1          1      2    1          1           1      3\n     - (7) + - (6 1) + -- (5 2) + -- (5 1 ) + -- (4 3) + - (4 2 1) + -- (4 1 )\n     7       6         10         10          12         8           24\n   +\n     1    2     1      2    1        2    1      4    1    3     1    2 3\n     -- (3 1) + -- (3 2 ) + -- (3 2 1 ) + -- (3 1 ) + -- (2 1) + -- (2 1 )\n     18         24          12            72          48         48\n   +\n      1      5     1     7\n     --- (2 1 ) + ---- (1 )\n     240          5040\n\nelementary n is the nth elementary symmetric function.\n\n"]
}
,
{
"cell_type" : "code",
"execution_count": null,
"metadata" : {
    "collapsed" : false
},
"source" : ["elementary 7"],
"outputs": []
}
,
{
"cell_type" : "markdown",
"metadata" : {},
"source" : ["\n   (8)\n     1       1         1          1      2    1          1           1      3\n     - (7) - - (6 1) - -- (5 2) + -- (5 1 ) - -- (4 3) + - (4 2 1) - -- (4 1 )\n     7       6         10         10          12         8           24\n   +\n     1    2     1      2    1        2    1      4    1    3     1    2 3\n     -- (3 1) + -- (3 2 ) - -- (3 2 1 ) + -- (3 1 ) - -- (2 1) + -- (2 1 )\n     18         24          12            72          48         48\n   +\n        1      5     1     7\n     - --- (2 1 ) + ---- (1 )\n       240          5040\n\nalternating n is the cycle index of the alternating group\nhaving an even number of even parts in each cycle partition.\n\n"]
}
,
{
"cell_type" : "code",
"execution_count": null,
"metadata" : {
    "collapsed" : false
},
"source" : ["alternating 7"],
"outputs": []
}
,
{
"cell_type" : "markdown",
"metadata" : {},
"source" : ["\n   (9)\n     2       1     2    1           1   2     1      2    1      4    1    2 3\n     - (7) + - (5 1 ) + - (4 2 1) + - (3 1) + -- (3 2 ) + -- (3 1 ) + -- (2 1 )\n     7       5          4           9         12          36          24\n   +\n      1     7\n     ---- (1 )\n     2520\n\n\ncyclic n is the cycle index of the cyclic group\n"]
}
,
{
"cell_type" : "code",
"execution_count": null,
"metadata" : {
    "collapsed" : false
},
"source" : ["cyclic 7"],
"outputs": []
}
,
{
"cell_type" : "markdown",
"metadata" : {},
"source" : ["\n         6       1   7\n   (10)  - (7) + - (1 )\n         7       7\n\ndihedral n is the cycle index of the dihedral group\n\n"]
}
,
{
"cell_type" : "code",
"execution_count": null,
"metadata" : {
    "collapsed" : false
},
"source" : ["dihedral 7"],
"outputs": []
}
,
{
"cell_type" : "markdown",
"metadata" : {},
"source" : ["\n         3       1   3     1    7\n   (11)  - (7) + - (2 1) + -- (1 )\n         7       2         14\n\ngraphs n is the cycle index of the group of permutations on\nthe edges of the complete graph with n nodes induced by\napplying the symmetric group to the nodes.\n"]
}
,
{
"cell_type" : "code",
"execution_count": null,
"metadata" : {
    "collapsed" : false
},
"source" : ["graphs 5"],
"outputs": []
}
,
{
"cell_type" : "markdown",
"metadata" : {},
"source" : ["\n   (12)\n   1           1   2    1   2     1   3     1   4 2    1    3 4     1    10\n   - (6 3 1) + - (5 ) + - (4 2) + - (3 1) + - (2 1 ) + -- (2 1 ) + --- (1  )\n   6           5        4         6         8          12          120\n\nThe cycle index of a direct product of two groups is the product of the\ncycle indices of the groups.\nRedfield provided two operations on two cycle indices which\nwill be called cup and cap here.\nThe cup of two cycle indices is a kind of scalar product that\ncombines monomials for permutations with the same cycles.\n\nThe cap operation provides the sum of the coefficients of the result\nof the cup operation which will be an integer that enumerates\ngroup-reduced distributions.\n\nWe can for example represent  complete 2 * complete 2\nas the set of objects a a b b and\ncomplete 2 * complete 1 * complete 1 as c c d e.\n\nThe integer cap(complete 2^2,complete 2*complete 1^2)\nis the number of different sets of four pairs.\n\na a b b     a a b b    a a b b   a a b b\nc c d e     c d c e    c e c d   d e c c\n\n"]
}
,
{
"cell_type" : "code",
"execution_count": null,
"metadata" : {
    "collapsed" : false
},
"source" : ["cap(complete 2^2,complete 2*complete 1^2)"],
"outputs": []
}
,
{
"cell_type" : "markdown",
"metadata" : {},
"source" : ["\n   (13)  4\n\nThe integer cap(elementary 2^2,complete 2*complete 1^2)\nis the number of different sets of four pairs no two pairs being equal.\n\n    a a b b    a a b b\n    c d c e    c e c d\n\n"]
}
,
{
"cell_type" : "code",
"execution_count": null,
"metadata" : {
    "collapsed" : false
},
"source" : ["cap(elementary 2^2,complete 2*complete 1^2)"],
"outputs": []
}
,
{
"cell_type" : "markdown",
"metadata" : {},
"source" : ["\n   (14)  2\n\nIn this case the configurations enumerated are easily constructed,\nhowever the theory merely enumerates them providing little help in\nactually constructing them. Similarly\n\nThe number of 6-pairs, first from a a a b b c, second from d d e e f g.\n\n"]
}
,
{
"cell_type" : "code",
"execution_count": null,
"metadata" : {
    "collapsed" : false
},
"source" : ["cap(complete 3*complete 2*complete 1,complete 2^2*complete 1^2)"],
"outputs": []
}
,
{
"cell_type" : "markdown",
"metadata" : {},
"source" : ["\n   (15)  24\n\nSame again, but with no equal pairs\n\n"]
}
,
{
"cell_type" : "code",
"execution_count": null,
"metadata" : {
    "collapsed" : false
},
"source" : ["cap(elementary 3*elementary 2*elementary 1,complete 2^2*complete 1^2)"],
"outputs": []
}
,
{
"cell_type" : "markdown",
"metadata" : {},
"source" : ["\n   (16)  8\n\n"]
}
,
{
"cell_type" : "code",
"execution_count": null,
"metadata" : {
    "collapsed" : false
},
"source" : ["cap(complete 3*complete 2*complete 1,elementary 2^2*elementary 1^2)"],
"outputs": []
}
,
{
"cell_type" : "markdown",
"metadata" : {},
"source" : ["\n   (17)  8\n\nThe number of 6-triples, first from a a a b b c, second from\nd d e e f g, third from h h i i j j\n\n"]
}
,
{
"cell_type" : "code",
"execution_count": null,
"metadata" : {
    "collapsed" : false
},
"source" : ["eval(cup(complete 3*complete 2*complete 1, cup(complete 2^2*complete 1^2,complete 2^3)))"],
"outputs": []
}
,
{
"cell_type" : "markdown",
"metadata" : {},
"source" : ["\n   (18)  1500\n\nThe cycle index of vertices of a square is dihedral 4\n\n"]
}
,
{
"cell_type" : "code",
"execution_count": null,
"metadata" : {
    "collapsed" : false
},
"source" : ["square:=dihedral 4"],
"outputs": []
}
,
{
"cell_type" : "markdown",
"metadata" : {},
"source" : ["\n         1       3   2    1     2    1   4\n   (19)  - (4) + - (2 ) + - (2 1 ) + - (1 )\n         4       8        4          8\n\nThe number of different squares with 2 red vertices and 2 blue vertices\n\n"]
}
,
{
"cell_type" : "code",
"execution_count": null,
"metadata" : {
    "collapsed" : false
},
"source" : ["cap(complete 2^2,square)"],
"outputs": []
}
,
{
"cell_type" : "markdown",
"metadata" : {},
"source" : ["\n   (20)  2\n\nThe number of necklaces with 3 red beads,2 blue beads and 2 green beads\n\n"]
}
,
{
"cell_type" : "code",
"execution_count": null,
"metadata" : {
    "collapsed" : false
},
"source" : ["cap(complete 3*complete 2^2,dihedral 7)"],
"outputs": []
}
,
{
"cell_type" : "markdown",
"metadata" : {},
"source" : ["\n   (21)  18\n\nThe number of graphs with 5 nodes and 7 edges\n\n"]
}
,
{
"cell_type" : "code",
"execution_count": null,
"metadata" : {
    "collapsed" : false
},
"source" : ["cap(graphs 5,complete 7*complete 3)"],
"outputs": []
}
,
{
"cell_type" : "markdown",
"metadata" : {},
"source" : ["\n   (22)  4\nThe cycle index of rotations of vertices of a cube\n\n"]
}
,
{
"cell_type" : "code",
"execution_count": null,
"metadata" : {
    "collapsed" : false
},
"source" : ["macro s == powerSum"],
"outputs": []
}
,
{
"cell_type" : "code",
"execution_count": null,
"metadata" : {
    "collapsed" : false
},
"source" : ["cube:=(1/24)*(s 1^8+9*s 2^4 + 8*s 3^2*s 1^2+6*s 4^2)"],
"outputs": []
}
,
{
"cell_type" : "markdown",
"metadata" : {},
"source" : ["\n         1   2    1   2 2    3   4    1    8\n   (23)  - (4 ) + - (3 1 ) + - (2 ) + -- (1 )\n         4        3          8        24\n\nThe number of cubes with 4 red vertices and 4 blue vertices\n"]
}
,
{
"cell_type" : "code",
"execution_count": null,
"metadata" : {
    "collapsed" : false
},
"source" : ["cap(complete 4^2,cube)"],
"outputs": []
}
,
{
"cell_type" : "markdown",
"metadata" : {},
"source" : ["\n   (24)  7\n\nThe number of labeled graphs with degree sequence 2 2 2 1 1\nwith no loops or multiple edges\n"]
}
,
{
"cell_type" : "code",
"execution_count": null,
"metadata" : {
    "collapsed" : false
},
"source" : ["cap(complete 2^3*complete 1^2,wreath(elementary 4,elementary 2))"],
"outputs": []
}
,
{
"cell_type" : "markdown",
"metadata" : {},
"source" : ["with loops allowed but not multiple edges\n"]
}
,
{
"cell_type" : "code",
"execution_count": null,
"metadata" : {
    "collapsed" : false
},
"source" : ["cap(complete 2^3*complete 1^2,wreath(elementary 4,complete 2))"],
"outputs": []
}
,
{
"cell_type" : "markdown",
"metadata" : {},
"source" : [" with multiple edges allowed, but not loops\n"]
}
,
{
"cell_type" : "code",
"execution_count": null,
"metadata" : {
    "collapsed" : false
},
"source" : ["cap(complete 2^3*complete 1^2,wreath(complete 4,elementary 2))"],
"outputs": []
}
,
{
"cell_type" : "markdown",
"metadata" : {},
"source" : [" with both multiple edges and loops allowed\n"]
}
,
{
"cell_type" : "code",
"execution_count": null,
"metadata" : {
    "collapsed" : false
},
"source" : ["cap(complete 2^3*complete 1^2,wreath(complete 4,complete 2))"],
"outputs": []
}
,
{
"cell_type" : "markdown",
"metadata" : {},
"source" : ["Having constructed a cycle index for a configuration\nwe are at liberty to evaluate the s i components any way we please.\nFor example we can produce enumerating generating functions.\nThis is done by providing a function f from an integer i to the\nvalue required of s  , and then evaluating eval(f,cycleindex)\n                   i\n"]
}
,
{
"cell_type" : "code",
"execution_count": null,
"metadata" : {
    "collapsed" : false
},
"source" : ["x:ULS(FRAC INT,'x,0):=x"],
"outputs": []
}
,
{
"cell_type" : "code",
"execution_count": null,
"metadata" : {
    "collapsed" : false
},
"source" : ["ZeroOrOne:INT->ULS(FRAC INT,'x,0)"],
"outputs": []
}
,
{
"cell_type" : "code",
"execution_count": null,
"metadata" : {
    "collapsed" : false
},
"source" : ["Integers:INT->ULS(FRAC INT,'x,0)"],
"outputs": []
}
,
{
"cell_type" : "markdown",
"metadata" : {},
"source" : ["For the integers 0 1 , or two colors\n"]
}
,
{
"cell_type" : "code",
"execution_count": null,
"metadata" : {
    "collapsed" : false
},
"source" : ["ZeroOrOne n == 1+x^n"],
"outputs": []
}
,
{
"cell_type" : "code",
"execution_count": null,
"metadata" : {
    "collapsed" : false
},
"source" : ["ZeroOrOne 5"],
"outputs": []
}
,
{
"cell_type" : "markdown",
"metadata" : {},
"source" : ["For the integers 0,1,2,...\n"]
}
,
{
"cell_type" : "code",
"execution_count": null,
"metadata" : {
    "collapsed" : false
},
"source" : ["Integers n == 1/(1-x^n)"],
"outputs": []
}
,
{
"cell_type" : "code",
"execution_count": null,
"metadata" : {
    "collapsed" : false
},
"source" : ["Integers 5"],
"outputs": []
}
,
{
"cell_type" : "markdown",
"metadata" : {},
"source" : ["\nThe coefficient of x^n below is the number of graphs with 5 nodes\nand n edges.\n\n"]
}
,
{
"cell_type" : "code",
"execution_count": null,
"metadata" : {
    "collapsed" : false
},
"source" : ["eval(ZeroOrOne,graphs 5)"],
"outputs": []
}
,
{
"cell_type" : "markdown",
"metadata" : {},
"source" : ["\n                   2     3     4     5     6     7     8    9    10      11\n   (30)  1 + x + 2x  + 4x  + 6x  + 6x  + 6x  + 4x  + 2x  + x  + x   + O(x  )\n\nThe coefficient of x^n is the number of necklaces with\n n red beads and n-8 green beads.\n"]
}
,
{
"cell_type" : "code",
"execution_count": null,
"metadata" : {
    "collapsed" : false
},
"source" : ["eval(ZeroOrOne,dihedral 8)"],
"outputs": []
}
,
{
"cell_type" : "markdown",
"metadata" : {},
"source" : ["The coefficient of x^n is the number of partitions of n\ninto 4 or fewer parts\n"]
}
,
{
"cell_type" : "code",
"execution_count": null,
"metadata" : {
    "collapsed" : false
},
"source" : ["eval(Integers,complete 4)"],
"outputs": []
}
,
{
"cell_type" : "markdown",
"metadata" : {},
"source" : ["\n   (32)\n             2     3     4     5     6      7      8      9      10      11\n   1 + x + 2x  + 3x  + 5x  + 6x  + 9x  + 11x  + 15x  + 18x  + 23x   + O(x  )\n\nThe coefficient of x^n is the number of partitions of n into 4\n boxes containing ordered distinct parts.\n"]
}
,
{
"cell_type" : "code",
"execution_count": null,
"metadata" : {
    "collapsed" : false
},
"source" : ["eval(Integers,elementary 4)"],
"outputs": []
}
,
{
"cell_type" : "markdown",
"metadata" : {},
"source" : ["\n          6    7     8     9     10      11\n   (33)  x  + x  + 2x  + 3x  + 5x   + O(x  )\n\nthe coefficient of x^n is the number of partitions of n\ninto exactly 4 parts\n\nThe coefficient of x^n is the number of different cubes with n\n red vertices and 8-n green ones.\n\n"]
}
,
{
"cell_type" : "code",
"execution_count": null,
"metadata" : {
    "collapsed" : false
},
"source" : ["eval(ZeroOrOne,cube)"],
"outputs": []
}
,
{
"cell_type" : "markdown",
"metadata" : {},
"source" : ["\n                   2     3     4     5     6    7    8\n   (36)  1 + x + 3x  + 3x  + 7x  + 3x  + 3x  + x  + x\n\nThe  coefficient of x^n is the number of different cubes with integers\n on the vertices whose sum is n.\n\n"]
}
,
{
"cell_type" : "code",
"execution_count": null,
"metadata" : {
    "collapsed" : false
},
"source" : ["eval(Integers,cube)"],
"outputs": []
}
,
{
"cell_type" : "markdown",
"metadata" : {},
"source" : ["\n   (37)\n               2     3      4      5      6       7       8       9       10\n     1 + x + 4x  + 7x  + 21x  + 37x  + 85x  + 151x  + 292x  + 490x  + 848x\n   +\n        11\n     O(x  )\n\n the coefficient of x^n is the number of graphs with 5 nodes and\n with integers on the edges whose sum is n.\n In other words the enumeration is of multigraphs with 5 nodes and n\n edges.\n"]
}
,
{
"cell_type" : "code",
"execution_count": null,
"metadata" : {
    "collapsed" : false
},
"source" : ["eval(Integers,graphs 5)"],
"outputs": []
}
,
{
"cell_type" : "markdown",
"metadata" : {},
"source" : ["\n   (38)\n               2     3      4      5      6       7       8       9       10\n     1 + x + 3x  + 7x  + 17x  + 35x  + 76x  + 149x  + 291x  + 539x  + 974x\n   +\n        11\n     O(x  )\n\nGraphs with 15 nodes enumerated with respect to number of edges\n\n"]
}
,
{
"cell_type" : "code",
"execution_count": null,
"metadata" : {
    "collapsed" : false
},
"source" : ["eval(ZeroOrOne ,graphs 15)"],
"outputs": []
}
,
{
"cell_type" : "markdown",
"metadata" : {},
"source" : ["\n   (39)\n               2     3      4      5      6       7       8        9        10\n     1 + x + 2x  + 5x  + 11x  + 26x  + 68x  + 177x  + 496x  + 1471x  + 4583x\n   +\n           11         12          13          14           15            16\n     15036x   + 51814x   + 185987x   + 691001x   + 2632420x   + 10176660x\n   +\n              17             18             19              20      21\n     39500169x   + 152374465x   + 578891716x   + 2149523582x   + O(x  )\n\n\nNecklaces with 7 green beads, 8 white beads, 5 yellow beads and 10\nred beads.\n\n"]
}
,
{
"cell_type" : "code",
"execution_count": null,
"metadata" : {
    "collapsed" : false
},
"source" : ["cap(dihedral 30,complete 7*complete 8*complete 5*complete 10)"],
"outputs": []
}
,
{
"cell_type" : "markdown",
"metadata" : {},
"source" : ["\n   (40)  49958972383320\n The function SFunction is the S-function of a partition written\n as a descending list of integers expressed in terms of power sum\n symmetric functions.\n"]
}
,
{
"cell_type" : "code",
"execution_count": null,
"metadata" : {
    "collapsed" : false
},
"source" : ["sf3221:= SFunction [3,2,2,1]"],
"outputs": []
}
,
{
"cell_type" : "markdown",
"metadata" : {},
"source" : [" It counts the number of different tableaux of shape 3,2,2,1 filled\n with objects with an ascending order in the columns and a\n non-descending order in the rows.\n cap(sf3221,complete 4^2) is the number filled\n with a a b b c c d d.\n"]
}
,
{
"cell_type" : "code",
"execution_count": null,
"metadata" : {
    "collapsed" : false
},
"source" : ["cap(sf3221,complete 2^4)"],
"outputs": []
}
,
{
"cell_type" : "markdown",
"metadata" : {},
"source" : [" the configurations enumerated are\n  a a b    a a c    a a d\n  b c      b b      b b\n  c d      c d      c c\n  d        d        d\n cap(sf3221,powerSum 1^8) is the number of tableaux filled with 1..8.\n"]
}
,
{
"cell_type" : "code",
"execution_count": null,
"metadata" : {
    "collapsed" : false
},
"source" : ["cap(sf3221,powerSum 1^8)"],
"outputs": []
}
,
{
"cell_type" : "markdown",
"metadata" : {},
"source" : ["The coefficient of x^n below is the number of column strict\n reverse plane partitions of n of shape 3 2 2 1.\n The smallest is\n  0 0 0\n  1 1\n  2 2\n  3\n"]
}
,
{
"cell_type" : "code",
"execution_count": null,
"metadata" : {
    "collapsed" : false
},
"source" : ["eval(Integers,sf3221)"],
"outputs": []
}
,
{
"cell_type" : "code",
"execution_count": null,
"metadata" : {
    "collapsed" : false
},
"source" : ["--\n-- EOF\n--"],
"outputs": []
}
 ],
"metadata": {
 "kernelspec": {
  "display_name": "FriCAS",
  "language": "spad",
  "name": "ifricas"
 },
 "language_info": {
  "codemirror_mode": "spad",
  "mimetype": "text/x-spad",
  "name": "SPAD",
  "pygments_lexer": "spad",
  "version": "1.2.6"
 },
 "name": "cycles.ipynb"
},
"nbformat": 4,
"nbformat_minor": 0
}
