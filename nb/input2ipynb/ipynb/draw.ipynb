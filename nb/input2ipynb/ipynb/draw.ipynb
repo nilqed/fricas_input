{
 "cells": [
{
"cell_type" : "markdown",
"metadata" : {},
"source" : ["Copyright The Numerical Algorithms Group Limited 1991.\n"]
}
,
{
"cell_type" : "code",
"execution_count": null,
"metadata" : {
    "collapsed" : false
},
"source" : [")clear all"],
"outputs": []
}
,
{
"cell_type" : "markdown",
"metadata" : {},
"source" : [" Two dimensional function plots\n"]
}
,
{
"cell_type" : "code",
"execution_count": null,
"metadata" : {
    "collapsed" : false
},
"source" : ["draw(sin(11*x),x = 0..2*%pi)"],
"outputs": []
}
,
{
"cell_type" : "code",
"execution_count": null,
"metadata" : {
    "collapsed" : false
},
"source" : ["draw(sin(11*x),x = 0..2*%pi,adaptive == false,title == \"Non-adaptive plot\")"],
"outputs": []
}
,
{
"cell_type" : "code",
"execution_count": null,
"metadata" : {
    "collapsed" : false
},
"source" : ["draw(sin(11*x),x = 0..2*%pi,toScale == true,title == \"Drawn to scale\")"],
"outputs": []
}
,
{
"cell_type" : "code",
"execution_count": null,
"metadata" : {
    "collapsed" : false
},
"source" : ["draw(sin(11*x),x = 0..2*%pi,coordinates == polar,title == \"Polar plot\")"],
"outputs": []
}
,
{
"cell_type" : "code",
"execution_count": null,
"metadata" : {
    "collapsed" : false
},
"source" : ["draw(tan x,x = -6..6,title == \"Clipping on\")"],
"outputs": []
}
,
{
"cell_type" : "code",
"execution_count": null,
"metadata" : {
    "collapsed" : false
},
"source" : ["draw(tan x,x = -6..6,clip == false,title == \"Clipping off\")"],
"outputs": []
}
,
{
"cell_type" : "markdown",
"metadata" : {},
"source" : [" Parametric plane curves\n"]
}
,
{
"cell_type" : "code",
"execution_count": null,
"metadata" : {
    "collapsed" : false
},
"source" : ["draw(curve(9*sin(3*t/4),8*sin(t)),t = -4*%pi..4*%pi,_\n           toScale == true,title == \"Lissajous curve\")\n"],
"outputs": []
}
,
{
"cell_type" : "code",
"execution_count": null,
"metadata" : {
    "collapsed" : false
},
"source" : ["draw(curve(sin(5*t),t),t = 0..2*%pi,title == \"Parametric curve\")"],
"outputs": []
}
,
{
"cell_type" : "code",
"execution_count": null,
"metadata" : {
    "collapsed" : false
},
"source" : ["draw(curve(sin(5*t),t),t = 0..2*%pi,_\n           coordinates == polar,title == \"Parametric polar curve\")\n"],
"outputs": []
}
,
{
"cell_type" : "code",
"execution_count": null,
"metadata" : {
    "collapsed" : false
},
"source" : ["draw(curve(t,2),t = -3..3,coordinates == parabolic,title == \"Parabolic plot\")"],
"outputs": []
}
,
{
"cell_type" : "markdown",
"metadata" : {},
"source" : [" Parametric space curves\n"]
}
,
{
"cell_type" : "code",
"execution_count": null,
"metadata" : {
    "collapsed" : false
},
"source" : ["draw(curve(sin(t)*cos(3*t/5),cos(t)*cos(3*t/5),cos(t)*sin(3*t/5)),_\n           t = 0..15*%pi,title == \"Parametric curve\")\n"],
"outputs": []
}
,
{
"cell_type" : "code",
"execution_count": null,
"metadata" : {
    "collapsed" : false
},
"source" : ["draw(curve(sin(t)*cos(3*t/5),cos(t)*cos(3*t/5),cos(t)*sin(3*t/5)),_\n           t = 0..15*%pi,tubeRadius == .15,title == \"Tube around curve\")\n"],
"outputs": []
}
,
{
"cell_type" : "code",
"execution_count": null,
"metadata" : {
    "collapsed" : false
},
"source" : ["draw(curve(4,t,t),t = -9..9,coordinates == cylindrical,title == \"Spiral\")"],
"outputs": []
}
,
{
"cell_type" : "code",
"execution_count": null,
"metadata" : {
    "collapsed" : false
},
"source" : ["draw(curve(1,t/7,t/5),t = -70*%pi..70*%pi,coordinates == spherical,_\n           title == \"Gnarly curve on sphere\")\n"],
"outputs": []
}
,
{
"cell_type" : "markdown",
"metadata" : {},
"source" : [" Three dimensional function plots\n"]
}
,
{
"cell_type" : "code",
"execution_count": null,
"metadata" : {
    "collapsed" : false
},
"source" : ["draw(cos(x*y),x = -3..3,y = -3..3)"],
"outputs": []
}
,
{
"cell_type" : "code",
"execution_count": null,
"metadata" : {
    "collapsed" : false
},
"source" : ["colorFunction1(x:DFLOAT,y:DFLOAT):DFLOAT == x"],
"outputs": []
}
,
{
"cell_type" : "code",
"execution_count": null,
"metadata" : {
    "collapsed" : false
},
"source" : ["draw(cos(x*y),x = -3..3,y = -3..3,colorFunction == colorFunction1)"],
"outputs": []
}
,
{
"cell_type" : "code",
"execution_count": null,
"metadata" : {
    "collapsed" : false
},
"source" : ["colorFunction2(x:DFLOAT,y:DFLOAT):DFLOAT == x^2 + y^2"],
"outputs": []
}
,
{
"cell_type" : "code",
"execution_count": null,
"metadata" : {
    "collapsed" : false
},
"source" : ["draw(cos(x*y),x = -3..3,y = -3..3,colorFunction == colorFunction2)"],
"outputs": []
}
,
{
"cell_type" : "code",
"execution_count": null,
"metadata" : {
    "collapsed" : false
},
"source" : ["colorFunction3(x:DFLOAT,y:DFLOAT,z:DFLOAT):DFLOAT == -z"],
"outputs": []
}
,
{
"cell_type" : "code",
"execution_count": null,
"metadata" : {
    "collapsed" : false
},
"source" : ["draw(cos(x*y),x = -3..3,y = -3..3,colorFunction == colorFunction3)"],
"outputs": []
}
,
{
"cell_type" : "code",
"execution_count": null,
"metadata" : {
    "collapsed" : false
},
"source" : ["draw(1,u = 0..2*%pi,v = 0..%pi,coordinates == spherical,title == \"Sphere\")"],
"outputs": []
}
,
{
"cell_type" : "code",
"execution_count": null,
"metadata" : {
    "collapsed" : false
},
"source" : ["draw(1,u = 0..2*%pi,v = 0..%pi,coordinates == spherical,_\n             colorFunction == colorFunction2,title == \"Sphere\")\n"],
"outputs": []
}
,
{
"cell_type" : "code",
"execution_count": null,
"metadata" : {
    "collapsed" : false
},
"source" : ["draw(1,u = -%pi/2..%pi/2,v = 0..2*%pi,coordinates == oblateSpheroidal(1$DFLOAT),_\n           title == \"Oblate spheroidal coordinates\")\n"],
"outputs": []
}
,
{
"cell_type" : "markdown",
"metadata" : {},
"source" : [" Parametric surfaces\n"]
}
,
{
"cell_type" : "code",
"execution_count": null,
"metadata" : {
    "collapsed" : false
},
"source" : ["draw(surface(5*sin(u)*cos(v),4*sin(u)*sin(v),3*cos(u)),u = 0..%pi,v = 0..2*%pi,_\n           title == \"Which came first?\")\n"],
"outputs": []
}
,
{
"cell_type" : "code",
"execution_count": null,
"metadata" : {
    "collapsed" : false
},
"source" : ["--\n-- EOF\n--"],
"outputs": []
}
 ],
"metadata": {
 "kernelspec": {
  "display_name": "FriCAS",
  "language": "spad",
  "name": "ifricas"
 },
 "language_info": {
  "codemirror_mode": "spad",
  "mimetype": "text/x-spad",
  "name": "SPAD",
  "pygments_lexer": "spad",
  "version": "1.2.6"
 },
 "name": "draw.ipynb"
},
"nbformat": 4,
"nbformat_minor": 0
}
