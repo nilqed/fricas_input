{
 "cells": [
{
"cell_type" : "markdown",
"metadata" : {},
"source" : ["Copyright The Numerical Algorithms Group Limited 1994.\n Scherk's minimal surface.\n Defined by:\n    exp(z) * cos(x) = cos(y)\n See: A comprehensive Introduction to Differential Geometry, Vol. 3,\n  by Michael Spivak, Publish Or Persih, Berkeley, 1979, pp 249-252.\n"]
}
,
{
"cell_type" : "markdown",
"metadata" : {},
"source" : [" Off set for a single piece of Scherk's minimal surface\n"]
}
,
{
"cell_type" : "code",
"execution_count": null,
"metadata" : {
    "collapsed" : false
},
"source" : ["(xOffset, yOffset):DoubleFloat"],
"outputs": []
}
,
{
"cell_type" : "markdown",
"metadata" : {},
"source" : [" DrawScherk's minimal surface on an m by n patch.\n"]
}
,
{
"cell_type" : "code",
"execution_count": null,
"metadata" : {
    "collapsed" : false
},
"source" : ["drawScherk(m,n) ==\n  free xOffset, yOffset\n  space := create3Space()$ThreeSpace(DoubleFloat)\n  for i in 0..m-1 repeat\n    xOffset := i*%pi\n    for j in 0 .. n-1 repeat\n      rem(i+j, 2) = 0 => 'iter\n      yOffset := j*%pi\n      drawOneScherk(space)\n  makeViewport3D(space, \"Scherk's Minimal Surface\")"],
"outputs": []
}
,
{
"cell_type" : "markdown",
"metadata" : {},
"source" : [" The four patches which make up a single piece of Scherk's minimal surface.\n"]
}
,
{
"cell_type" : "code",
"execution_count": null,
"metadata" : {
    "collapsed" : false
},
"source" : ["scherk1(u,v) ==\n  x := cos(u)/exp(v)\n  point [xOffset + acos(x), yOffset + u, v, abs(v)]"],
"outputs": []
}
,
{
"cell_type" : "code",
"execution_count": null,
"metadata" : {
    "collapsed" : false
},
"source" : ["scherk2(u,v) ==\n  x := cos(u)/exp(v)\n  point [xOffset - acos(x), yOffset + u, v, abs(v)]"],
"outputs": []
}
,
{
"cell_type" : "code",
"execution_count": null,
"metadata" : {
    "collapsed" : false
},
"source" : ["scherk3(u,v) ==\n  x := exp(v) * cos(u)\n  point [xOffset + u, yOffset + acos(x), v, abs(v)]"],
"outputs": []
}
,
{
"cell_type" : "code",
"execution_count": null,
"metadata" : {
    "collapsed" : false
},
"source" : ["scherk4(u,v) ==\n  x := exp(v) * cos(u)\n  point [xOffset + u, yOffset - acos(x), v, abs(v)]"],
"outputs": []
}
,
{
"cell_type" : "markdown",
"metadata" : {},
"source" : [" We draw the surface by breaking it into 4 patches, and drawing them\n into a single space.\n"]
}
,
{
"cell_type" : "code",
"execution_count": null,
"metadata" : {
    "collapsed" : false
},
"source" : ["drawOneScherk(s) =="],
"outputs": []
}
,
{
"cell_type" : "code",
"execution_count": null,
"metadata" : {
    "collapsed" : false
},
"source" : ["  makeObject(scherk1, -%pi/2..%pi/2, 0..%pi/2,  space == s, _\n"],
"outputs": []
}
,
{
"cell_type" : "code",
"execution_count": null,
"metadata" : {
    "collapsed" : false
},
"source" : ["             var1Steps == 28, var2Steps == 28)"],
"outputs": []
}
,
{
"cell_type" : "code",
"execution_count": null,
"metadata" : {
    "collapsed" : false
},
"source" : ["  makeObject(scherk2, -%pi/2..%pi/2, 0..%pi/2,  space == s, _\n"],
"outputs": []
}
,
{
"cell_type" : "code",
"execution_count": null,
"metadata" : {
    "collapsed" : false
},
"source" : ["             var1Steps == 28, var2Steps == 28)"],
"outputs": []
}
,
{
"cell_type" : "code",
"execution_count": null,
"metadata" : {
    "collapsed" : false
},
"source" : ["  makeObject(scherk3, -%pi/2..%pi/2, -%pi/2..0, space == s, _\n"],
"outputs": []
}
,
{
"cell_type" : "code",
"execution_count": null,
"metadata" : {
    "collapsed" : false
},
"source" : ["             var1Steps == 28, var2Steps == 28)"],
"outputs": []
}
,
{
"cell_type" : "code",
"execution_count": null,
"metadata" : {
    "collapsed" : false
},
"source" : ["  makeObject(scherk4, -%pi/2..%pi/2, -%pi/2..0, space == s, _\n"],
"outputs": []
}
,
{
"cell_type" : "code",
"execution_count": null,
"metadata" : {
    "collapsed" : false
},
"source" : ["             var1Steps == 28, var2Steps == 28)\n  void()"],
"outputs": []
}
,
{
"cell_type" : "code",
"execution_count": null,
"metadata" : {
    "collapsed" : false
},
"source" : ["--\n-- EOF\n--"],
"outputs": []
}
 ],
"metadata": {
 "kernelspec": {
  "display_name": "FriCAS",
  "language": "spad",
  "name": "ifricas"
 },
 "language_info": {
  "codemirror_mode": "spad",
  "mimetype": "text/x-spad",
  "name": "SPAD",
  "pygments_lexer": "spad",
  "version": "1.2.6"
 },
 "name": "scherk.ipynb"
},
"nbformat": 4,
"nbformat_minor": 0
}
