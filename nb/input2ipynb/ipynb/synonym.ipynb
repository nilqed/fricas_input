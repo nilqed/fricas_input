{
 "cells": [
{
"cell_type" : "markdown",
"metadata" : {},
"source" : ["Copyright The Numerical Algorithms Group Limited 1991-94.\n"]
}
,
{
"cell_type" : "markdown",
"metadata" : {},
"source" : [" This file contains the standard system defined system command\n synonyms for the Axiom system. It is normally read into\n the system by adding the line\n         )read synonym input )ifthere )quiet\n to the start-up profile axiom.input.\n"]
}
,
{
"cell_type" : "markdown",
"metadata" : {},
"source" : [" If you wish to have a private list of synonyms, it is suggested\n that you create a file mysyns.input.\n This will also automatically be read into the system by the start-up\n profile by the line\n         )read mysyns input )ifthere )quiet\n"]
}
,
{
"cell_type" : "markdown",
"metadata" : {},
"source" : [" The following synonyms are redefined in the system\n"]
}
,
{
"cell_type" : "markdown",
"metadata" : {},
"source" : [" )synonym  ?            what commands\n )synonym  ap           what things\n )synonym  apr          what things\n )synonym  apropos      what things\n )synonym  cache        set functions cache\n )synonym  cl           clear\n )synonym  cls          zsystemdevelopment )cls\n )synonym  cms          system\n )synonym  co           compiler\n )synonym  d            display\n )synonym  dep          display dependents\n )synonym  dependents   display dependents\n )synonym  disc         system cp disc\n )synonym  e            edit\n )synonym  expose       set expose add constructor\n )synonym  fc           zsystemdevelopment )c\n )synonym  fd           zsystemdevelopment )d\n )synonym  fct          zsystemdevelopment )ct\n )synonym  fctl         zsystemdevelopment )ctl\n )synonym  fe           zsystemdevelopment )e\n )synonym  fec          zsystemdevelopment )ec\n )synonym  fect         zsystemdevelopment )ect\n )synonym  fns          exec spadfn\n )synonym  fortran      set output fortran\n )synonym  h            help\n )synonym  hd           system hypertex &\n )synonym  kclam        boot clearClams ( )\n )synonym  killcaches   boot clearConstructorAndLisplibCaches ( )\n )synonym  patch        zsystemdevelopment )patch\n )synonym  pause        zsystemdevelopment )pause\n )synonym  prompt       set message prompt\n )synonym  recurrence   set functions recurrence\n )synonym  restore      history )restore\n )synonym  save         history )save\n )synonym  time         set message time\n )synonym  type         set message type\n )synonym  unexpose     set expose drop constructor\n )synonym  up           zsystemdevelopment )update\n )synonym  version      lisp *yearweek*\n )synonym  w            what\n )synonym  wc           what categories\n )synonym  wd           what domains\n )synonym  wp           what packages\n )synonym  ws           what synonyms\n"]
}
,
{
"cell_type" : "code",
"execution_count": null,
"metadata" : {
    "collapsed" : false
},
"source" : ["--\n-- EOF\n--"],
"outputs": []
}
 ],
"metadata": {
 "kernelspec": {
  "display_name": "FriCAS",
  "language": "spad",
  "name": "ifricas"
 },
 "language_info": {
  "codemirror_mode": "spad",
  "mimetype": "text/x-spad",
  "name": "SPAD",
  "pygments_lexer": "spad",
  "version": "1.2.6"
 },
 "name": "synonym.ipynb"
},
"nbformat": 4,
"nbformat_minor": 0
}
