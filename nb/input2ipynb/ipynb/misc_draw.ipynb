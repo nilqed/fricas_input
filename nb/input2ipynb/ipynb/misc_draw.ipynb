{
 "cells": [
{
"cell_type" : "code",
"execution_count": null,
"metadata" : {
    "collapsed" : false
},
"source" : ["draw(sin inv x,x = -1.03..3)"],
"outputs": []
}
,
{
"cell_type" : "code",
"execution_count": null,
"metadata" : {
    "collapsed" : false
},
"source" : ["draw(t/100,t = 0..100,[coordinates polar])"],
"outputs": []
}
,
{
"cell_type" : "code",
"execution_count": null,
"metadata" : {
    "collapsed" : false
},
"source" : ["draw(curve(cos(t)/(1+sin(t)^2),sin(t)*cos(t)/(1+sin(t)^2)),t = -%pi..%pi, [title \"Lemniscate of Bernoulli\"])"],
"outputs": []
}
,
{
"cell_type" : "code",
"execution_count": null,
"metadata" : {
    "collapsed" : false
},
"source" : ["draw(curve(t - sin t,1 - cos t),t = -5..5)"],
"outputs": []
}
,
{
"cell_type" : "code",
"execution_count": null,
"metadata" : {
    "collapsed" : false
},
"source" : ["draw(curve(2*t - sin t,2 - cos t),t = -5..5)"],
"outputs": []
}
,
{
"cell_type" : "code",
"execution_count": null,
"metadata" : {
    "collapsed" : false
},
"source" : ["draw(curve(t - 2*sin t,1 - 2*cos t),t = -5..5)"],
"outputs": []
}
,
{
"cell_type" : "code",
"execution_count": null,
"metadata" : {
    "collapsed" : false
},
"source" : ["draw(curve((t^2-1)/(3*t^2+1),t*(t^2-1)/(3*t^2+1)),t = -3..3, [title \"Folium of Descartes\"])"],
"outputs": []
}
,
{
"cell_type" : "code",
"execution_count": null,
"metadata" : {
    "collapsed" : false
},
"source" : ["draw(curve(-9*sin(4*t/5),8*sin(t)),t = -5*%pi..5*%pi, [title \"Lissajous curve\"])"],
"outputs": []
}
,
{
"cell_type" : "code",
"execution_count": null,
"metadata" : {
    "collapsed" : false
},
"source" : ["draw(curve(3*(t^2-3),t*(t^2-3)),t = -3..3, [title \"Tschirnhausen's Cubic\"])"],
"outputs": []
}
,
{
"cell_type" : "code",
"execution_count": null,
"metadata" : {
    "collapsed" : false
},
"source" : ["draw(curve(cos(7*t)*sin(t),sin(7*t)*cos(t)), t = 0..2*%pi)"],
"outputs": []
}
,
{
"cell_type" : "code",
"execution_count": null,
"metadata" : {
    "collapsed" : false
},
"source" : ["draw(curve(4*cos(t),4*sin(t),t),t = -10..10)"],
"outputs": []
}
,
{
"cell_type" : "code",
"execution_count": null,
"metadata" : {
    "collapsed" : false
},
"source" : ["draw(sin(2 * x^2 + 3 * y^2)/(x^2 + y^2),x = -3..3,y = -3..3)"],
"outputs": []
}
,
{
"cell_type" : "code",
"execution_count": null,
"metadata" : {
    "collapsed" : false
},
"source" : ["draw(sin(x) * sin(y),x = 0..2*%pi, y = 0..2*%pi)"],
"outputs": []
}
,
{
"cell_type" : "code",
"execution_count": null,
"metadata" : {
    "collapsed" : false
},
"source" : ["draw(sin(x) * sin(y),x = 20*%pi..22*%pi, y = 20*%pi..22*%pi)"],
"outputs": []
}
,
{
"cell_type" : "code",
"execution_count": null,
"metadata" : {
    "collapsed" : false
},
"source" : ["draw(cos(x*y),x = -3..3, y = -3..3)"],
"outputs": []
}
,
{
"cell_type" : "code",
"execution_count": null,
"metadata" : {
    "collapsed" : false
},
"source" : ["draw((x^2 - y^2)/(x^2 + y^2),x = -1..1,y = -1..1)"],
"outputs": []
}
,
{
"cell_type" : "code",
"execution_count": null,
"metadata" : {
    "collapsed" : false
},
"source" : ["draw(surface(u*cos(v),u*sin(v),u),u = -3..3,v = 0..2*%pi,[title \"Cone\"])"],
"outputs": []
}
,
{
"cell_type" : "code",
"execution_count": null,
"metadata" : {
    "collapsed" : false
},
"source" : ["draw(surface(cos(t)/(1+sin(t)^2),sin(t)*cos(t)*cos(u)/(1+sin(t)^2),\n     sin(t)*cos(t)*sin(u)/(1+sin(t)^2)),t = -%pi..%pi,u = 0..%pi)"],
"outputs": []
}
,
{
"cell_type" : "code",
"execution_count": null,
"metadata" : {
    "collapsed" : false
},
"source" : ["--\n-- EOF\n--"],
"outputs": []
}
 ],
"metadata": {
 "kernelspec": {
  "display_name": "FriCAS",
  "language": "spad",
  "name": "ifricas"
 },
 "language_info": {
  "codemirror_mode": "spad",
  "mimetype": "text/x-spad",
  "name": "SPAD",
  "pygments_lexer": "spad",
  "version": "1.2.6"
 },
 "name": "misc_draw.ipynb"
},
"nbformat": 4,
"nbformat_minor": 0
}
