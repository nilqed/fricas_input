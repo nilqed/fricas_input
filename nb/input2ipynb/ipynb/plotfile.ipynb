{
 "cells": [
{
"cell_type" : "markdown",
"metadata" : {},
"source" : ["Copyright The Numerical Algorithms Group Limited 1994.\n"]
}
,
{
"cell_type" : "markdown",
"metadata" : {},
"source" : ["Here is an input file which will plot a list of 2d data from a file.\n"]
}
,
{
"cell_type" : "code",
"execution_count": null,
"metadata" : {
    "collapsed" : false
},
"source" : [")clear all"],
"outputs": []
}
,
{
"cell_type" : "code",
"execution_count": null,
"metadata" : {
    "collapsed" : false
},
"source" : ["g := graphImage()$GRIMAGE"],
"outputs": []
}
,
{
"cell_type" : "code",
"execution_count": null,
"metadata" : {
    "collapsed" : false
},
"source" : ["p1 := point [0,0]$(Point DoubleFloat)"],
"outputs": []
}
,
{
"cell_type" : "code",
"execution_count": null,
"metadata" : {
    "collapsed" : false
},
"source" : ["p2 := point [.25,.25]$(Point DoubleFloat)"],
"outputs": []
}
,
{
"cell_type" : "code",
"execution_count": null,
"metadata" : {
    "collapsed" : false
},
"source" : ["p3 := point [.5,.5]$(Point DoubleFloat)"],
"outputs": []
}
,
{
"cell_type" : "code",
"execution_count": null,
"metadata" : {
    "collapsed" : false
},
"source" : ["p4 := point [.75,.75]$(Point DoubleFloat)"],
"outputs": []
}
,
{
"cell_type" : "code",
"execution_count": null,
"metadata" : {
    "collapsed" : false
},
"source" : ["p5 := point [1,1]$(Point DoubleFloat)"],
"outputs": []
}
,
{
"cell_type" : "code",
"execution_count": null,
"metadata" : {
    "collapsed" : false
},
"source" : ["component(g,p1)$GRIMAGE"],
"outputs": []
}
,
{
"cell_type" : "code",
"execution_count": null,
"metadata" : {
    "collapsed" : false
},
"source" : ["component(g,p2)$GRIMAGE"],
"outputs": []
}
,
{
"cell_type" : "code",
"execution_count": null,
"metadata" : {
    "collapsed" : false
},
"source" : ["appendPoint(g,p3)$GRIMAGE"],
"outputs": []
}
,
{
"cell_type" : "code",
"execution_count": null,
"metadata" : {
    "collapsed" : false
},
"source" : ["appendPoint(g,p4)$GRIMAGE"],
"outputs": []
}
,
{
"cell_type" : "code",
"execution_count": null,
"metadata" : {
    "collapsed" : false
},
"source" : ["appendPoint(g,p5)$GRIMAGE"],
"outputs": []
}
,
{
"cell_type" : "code",
"execution_count": null,
"metadata" : {
    "collapsed" : false
},
"source" : ["g1 := makeGraphImage(g)$GRIMAGE"],
"outputs": []
}
,
{
"cell_type" : "code",
"execution_count": null,
"metadata" : {
    "collapsed" : false
},
"source" : ["makeViewport2D(g1,[title(\"Graph Points\")])$VIEW2D"],
"outputs": []
}
,
{
"cell_type" : "markdown",
"metadata" : {},
"source" : [" This line is equivalent to using component(g2,pi) for each point\n"]
}
,
{
"cell_type" : "code",
"execution_count": null,
"metadata" : {
    "collapsed" : false
},
"source" : ["g2 := coerce([[p1],[p2],[p3],[p4],[p5]])$GRIMAGE"],
"outputs": []
}
,
{
"cell_type" : "code",
"execution_count": null,
"metadata" : {
    "collapsed" : false
},
"source" : ["v := viewport2D()$VIEW2D"],
"outputs": []
}
,
{
"cell_type" : "code",
"execution_count": null,
"metadata" : {
    "collapsed" : false
},
"source" : ["options(v,[title(\"Just Points\")])"],
"outputs": []
}
,
{
"cell_type" : "code",
"execution_count": null,
"metadata" : {
    "collapsed" : false
},
"source" : ["putGraph(v,g2,1)"],
"outputs": []
}
,
{
"cell_type" : "code",
"execution_count": null,
"metadata" : {
    "collapsed" : false
},
"source" : ["makeViewport2D(v)$VIEW2D"],
"outputs": []
}
,
{
"cell_type" : "markdown",
"metadata" : {},
"source" : ["\n Create a 2d viewport of a list of points from a file\n\n"]
}
,
{
"cell_type" : "code",
"execution_count": null,
"metadata" : {
    "collapsed" : false
},
"source" : ["drawList(lp:List Point DoubleFloat):VIEW2D ==\n  n := #lp\n  g := graphImage()$GRIMAGE\n  for p in lp repeat\n    point(g,p,pointColorDefault())$GRIMAGE"],
"outputs": []
}
,
{
"cell_type" : "markdown",
"metadata" : {},
"source" : ["    component(g,p,pointColorDefault(),lineColorDefault(),pointSizeDefault())$GRIMAGE\n"]
}
,
{
"cell_type" : "code",
"execution_count": null,
"metadata" : {
    "collapsed" : false
},
"source" : ["  gi := makeGraphImage(g)$GRIMAGE\n  makeViewport2D(gi,[title(\"Points\")])$VIEW2D"],
"outputs": []
}
,
{
"cell_type" : "code",
"execution_count": null,
"metadata" : {
    "collapsed" : false
},
"source" : ["plotData2D(name, title) ==\n  f:File(DoubleFloat) := open(name,\"input\")\n  lp:LIST(Point DoubleFloat) := empty()\n  while ((x := readIfCan!(f)) case DoubleFloat) repeat\n    y : DoubleFloat := read!(f)\n    lp := cons(point [x,y]$(Point DoubleFloat), lp)\n    lp\n  close!(f)\n  drawList(lp)"],
"outputs": []
}
,
{
"cell_type" : "markdown",
"metadata" : {},
"source" : ["plotData(``file.data'', ``2D Data Plot'')\n"]
}
,
{
"cell_type" : "code",
"execution_count": null,
"metadata" : {
    "collapsed" : false
},
"source" : [")clear all"],
"outputs": []
}
,
{
"cell_type" : "code",
"execution_count": null,
"metadata" : {
    "collapsed" : false
},
"source" : ["drawFun(f:DoubleFloat->DoubleFloat):VIEW2D ==\n  g := graphImage()$GRIMAGE\n  lp : LIST(Point DoubleFloat) := empty()\n  for i in 1..10 repeat\n    lp := cons(point [i, f(i)]$(Point DoubleFloat), lp)\n  component(g, lp, pointColorDefault(), lineColorDefault(), pointSizeDefault())\n  gi := makeGraphImage(g)$GRIMAGE\n  makeViewport2D(gi, [title(\"Points\")])$VIEW2D"],
"outputs": []
}
,
{
"cell_type" : "code",
"execution_count": null,
"metadata" : {
    "collapsed" : false
},
"source" : ["--\n-- EOF\n--"],
"outputs": []
}
 ],
"metadata": {
 "kernelspec": {
  "display_name": "FriCAS",
  "language": "spad",
  "name": "ifricas"
 },
 "language_info": {
  "codemirror_mode": "spad",
  "mimetype": "text/x-spad",
  "name": "SPAD",
  "pygments_lexer": "spad",
  "version": "1.2.6"
 },
 "name": "plotfile.ipynb"
},
"nbformat": 4,
"nbformat_minor": 0
}
