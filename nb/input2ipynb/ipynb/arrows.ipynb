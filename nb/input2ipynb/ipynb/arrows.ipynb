{
 "cells": [
{
"cell_type" : "markdown",
"metadata" : {},
"source" : ["Copyright The Numerical Algorithms Group Limited 1991.\n"]
}
,
{
"cell_type" : "code",
"execution_count": null,
"metadata" : {
    "collapsed" : false
},
"source" : ["arrowAngle:=%pi-%pi/10.0@SF"],
"outputs": []
}
,
{
"cell_type" : "code",
"execution_count": null,
"metadata" : {
    "collapsed" : false
},
"source" : ["arrowScale:=0.2@SF"],
"outputs": []
}
,
{
"cell_type" : "code",
"execution_count": null,
"metadata" : {
    "collapsed" : false
},
"source" : ["makeArrow(p1,p2) ==\n    delta    :=p2 -p1\n    len      := arrowScale * length delta\n    theta := atan(delta.1, delta.2)\n    c1:= len*cos(theta+arrowAngle)\n    s1:= len*sin(theta+arrowAngle)\n    c2:= len*cos(theta-arrowAngle)\n    s2:= len*sin(theta-arrowAngle)\n    z:= p2.3*(1-arrowScale)\n    p3:=point[p2.1+c1,p2.2+s1,z,p2.4]\n    p4:=point[p2.1+c2,p2.2+s2,z,p2.4]\n    [[p1,p2,p3],[p2,p4]]"],
"outputs": []
}
,
{
"cell_type" : "code",
"execution_count": null,
"metadata" : {
    "collapsed" : false
},
"source" : ["--\n-- EOF\n--"],
"outputs": []
}
 ],
"metadata": {
 "kernelspec": {
  "display_name": "FriCAS",
  "language": "spad",
  "name": "ifricas"
 },
 "language_info": {
  "codemirror_mode": "spad",
  "mimetype": "text/x-spad",
  "name": "SPAD",
  "pygments_lexer": "spad",
  "version": "1.2.6"
 },
 "name": "arrows.ipynb"
},
"nbformat": 4,
"nbformat_minor": 0
}
