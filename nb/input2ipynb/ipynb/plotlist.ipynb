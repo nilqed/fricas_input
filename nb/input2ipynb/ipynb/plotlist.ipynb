{
 "cells": [
{
"cell_type" : "markdown",
"metadata" : {},
"source" : ["Copyright The Numerical Algorithms Group Limited 1996.\n"]
}
,
{
"cell_type" : "code",
"execution_count": null,
"metadata" : {
    "collapsed" : false
},
"source" : [")clear all"],
"outputs": []
}
,
{
"cell_type" : "markdown",
"metadata" : {},
"source" : ["draws x^i for i in 1..5, x=-1..1\n"]
}
,
{
"cell_type" : "code",
"execution_count": null,
"metadata" : {
    "collapsed" : false
},
"source" : ["makePoint(x:DoubleFloat,y:DoubleFloat):(Point DoubleFloat) ==\n  point(l :List DoubleFloat := [x,y])$(Point DoubleFloat)"],
"outputs": []
}
,
{
"cell_type" : "code",
"execution_count": null,
"metadata" : {
    "collapsed" : false
},
"source" : ["drawFun(fn:DoubleFloat->DoubleFloat, seg:Segment Float):List(List(Point DoubleFloat)) ==\n  fp := (t:DoubleFloat):Point DoubleFloat +-> makePoint(t, fn(t))\n  plot := pointPlot(fp, segment(convert(lo seg)@DoubleFloat, convert(hi seg)@DoubleFloat))$PLOT\n  lp := listBranches(plot)$PLOT"],
"outputs": []
}
,
{
"cell_type" : "code",
"execution_count": null,
"metadata" : {
    "collapsed" : false
},
"source" : ["drawFuns(fl:List(DoubleFloat->DoubleFloat), seg:SegmentBinding Float):VIEW2D ==\n  v := viewport2D()$VIEW2D\n  i : PositiveInteger := 1\n  for f in fl repeat\n    g := graphImage()$GRIMAGE\n    s : Segment Float := segment seg\n    llp : List(List(Point DoubleFloat)) := drawFun(f, s)\n    g :GRIMAGE := graphCurves(llp)$VIEW\n    putGraph(v,g,i)$VIEW2D\n    i := i + 1\n  makeViewport2D(v)$VIEW2D"],
"outputs": []
}
,
{
"cell_type" : "code",
"execution_count": null,
"metadata" : {
    "collapsed" : false
},
"source" : ["makeListFuns(fl:List(Expression Integer),_\n"],
"outputs": []
}
,
{
"cell_type" : "code",
"execution_count": null,
"metadata" : {
    "collapsed" : false
},
"source" : ["             seg:SegmentBinding Float):List(DoubleFloat->DoubleFloat) ==\n  lfuns:List(DoubleFloat->DoubleFloat) := empty()\n  for f in fl repeat\n    ff : (DoubleFloat->DoubleFloat) := makeFloatFunction(f, variable seg)$MakeFloatCompiledFunction(Expression Integer)\n    lfuns := cons(ff, lfuns)\n  lfuns"],
"outputs": []
}
,
{
"cell_type" : "code",
"execution_count": null,
"metadata" : {
    "collapsed" : false
},
"source" : ["drawFuns(makeListFuns([x^i for i in 1..5], x=-1..1), x=-1..1)"],
"outputs": []
}
,
{
"cell_type" : "code",
"execution_count": null,
"metadata" : {
    "collapsed" : false
},
"source" : ["--\n-- EOF\n--"],
"outputs": []
}
 ],
"metadata": {
 "kernelspec": {
  "display_name": "FriCAS",
  "language": "spad",
  "name": "ifricas"
 },
 "language_info": {
  "codemirror_mode": "spad",
  "mimetype": "text/x-spad",
  "name": "SPAD",
  "pygments_lexer": "spad",
  "version": "1.2.6"
 },
 "name": "plotlist.ipynb"
},
"nbformat": 4,
"nbformat_minor": 0
}
