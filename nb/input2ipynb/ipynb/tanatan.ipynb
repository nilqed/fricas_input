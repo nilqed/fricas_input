{
 "cells": [
{
"cell_type" : "markdown",
"metadata" : {},
"source" : ["Copyright The Numerical Algorithms Group Limited 1994.\n"]
}
,
{
"cell_type" : "code",
"execution_count": null,
"metadata" : {
    "collapsed" : false
},
"source" : [")clear all"],
"outputs": []
}
,
{
"cell_type" : "markdown",
"metadata" : {},
"source" : ["Here's an equation\n"]
}
,
{
"cell_type" : "code",
"execution_count": null,
"metadata" : {
    "collapsed" : false
},
"source" : ["eq:=2*tan(x)+2*tan(2*x)"],
"outputs": []
}
,
{
"cell_type" : "markdown",
"metadata" : {},
"source" : ["\n Solve it\n\n"]
}
,
{
"cell_type" : "code",
"execution_count": null,
"metadata" : {
    "collapsed" : false
},
"source" : ["thesols:=solve(eq,x)"],
"outputs": []
}
,
{
"cell_type" : "markdown",
"metadata" : {},
"source" : ["\n Verify the solutions\n\n"]
}
,
{
"cell_type" : "code",
"execution_count": null,
"metadata" : {
    "collapsed" : false
},
"source" : ["theproofs:=[eval(eq,i) for i in thesols]"],
"outputs": []
}
,
{
"cell_type" : "markdown",
"metadata" : {},
"source" : ["\n Problem with simplification of tan(n*atan(y))\n Get the  tower for each expression\n\n"]
}
,
{
"cell_type" : "code",
"execution_count": null,
"metadata" : {
    "collapsed" : false
},
"source" : ["thetowers:=[tower i for i in theproofs];"],
"outputs": []
}
,
{
"cell_type" : "code",
"execution_count": null,
"metadata" : {
    "collapsed" : false
},
"source" : ["thesubs:LIST Record (a:LIST KERNEL EXPR INT ,b:LIST EXPR INT)"],
"outputs": []
}
,
{
"cell_type" : "code",
"execution_count": null,
"metadata" : {
    "collapsed" : false
},
"source" : ["thetans:LIST LIST Record(i:INT,k:KERNEL EXPR INT,z:List Equation EXPR INT)"],
"outputs": []
}
,
{
"cell_type" : "markdown",
"metadata" : {},
"source" : ["\n apply pattern-matching to find tan(n*atan(y))\n and construct the structures needed\n\n"]
}
,
{
"cell_type" : "code",
"execution_count": null,
"metadata" : {
    "collapsed" : false
},
"source" : ["thetans:=_\n [[construct(j,i.j,Is(argument(i.j).1,n * atan(y))) for j in 1..#i_\n      |is?(i.j,tan) and is?(argument(i.j).1,n * atan(y))] _\n          for i in thetowers] ;\n"],
"outputs": []
}
,
{
"cell_type" : "markdown",
"metadata" : {},
"source" : ["\n Construct the evaluation rules for tan(n*atan(y)) -> tanNa(a,n)\n\n"]
}
,
{
"cell_type" : "code",
"execution_count": null,
"metadata" : {
    "collapsed" : false
},
"source" : ["thesubs:=_\n  [construct([j.k for j in thetans.i],_\n             [tanNa(rhs(j.z.2),rhs(j.z.1) ::INT)$TangentExpansions(EXPR INT)_\n                        for j in thetans.i]) _\n            for i in 1..#theproofs];\n"],
"outputs": []
}
,
{
"cell_type" : "markdown",
"metadata" : {},
"source" : ["\n Apply the evaluation rules\n\n"]
}
,
{
"cell_type" : "code",
"execution_count": null,
"metadata" : {
    "collapsed" : false
},
"source" : ["thezeros:=[eval(i,j.a,j.b) for i in theproofs for j in thesubs]"],
"outputs": []
}
,
{
"cell_type" : "code",
"execution_count": null,
"metadata" : {
    "collapsed" : false
},
"source" : ["--\n-- EOF\n--"],
"outputs": []
}
 ],
"metadata": {
 "kernelspec": {
  "display_name": "FriCAS",
  "language": "spad",
  "name": "ifricas"
 },
 "language_info": {
  "codemirror_mode": "spad",
  "mimetype": "text/x-spad",
  "name": "SPAD",
  "pygments_lexer": "spad",
  "version": "1.2.6"
 },
 "name": "tanatan.ipynb"
},
"nbformat": 4,
"nbformat_minor": 0
}
