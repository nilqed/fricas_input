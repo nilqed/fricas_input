{
 "cells": [
{
"cell_type" : "markdown",
"metadata" : {},
"source" : ["Copyright The Numerical Algorithms Group Limited 1994.\n Color gallery page 6\n"]
}
,
{
"cell_type" : "markdown",
"metadata" : {},
"source" : [" 3-d surface whose height is the real part of the Gamma function,\n and whose color is the argument of the Gamma function\n"]
}
,
{
"cell_type" : "code",
"execution_count": null,
"metadata" : {
    "collapsed" : false
},
"source" : ["gam(x,y) ==\n  g := Gamma complex(x,y)\n  point [x,y,max(min(real g, 4), -4), argument g]"],
"outputs": []
}
,
{
"cell_type" : "code",
"execution_count": null,
"metadata" : {
    "collapsed" : false
},
"source" : ["draw(gam, -%pi..%pi, -%pi..%pi, title == \"Gamma(x + %i*y)\",\n     var1Steps == 100, var2Steps == 100)"],
"outputs": []
}
,
{
"cell_type" : "markdown",
"metadata" : {},
"source" : [" The Beta function\n"]
}
,
{
"cell_type" : "code",
"execution_count": null,
"metadata" : {
    "collapsed" : false
},
"source" : ["b(x,y) == Beta(x,y)"],
"outputs": []
}
,
{
"cell_type" : "code",
"execution_count": null,
"metadata" : {
    "collapsed" : false
},
"source" : ["draw(b, -3.1..3, -3.1 .. 3, title == \"Beta(x,y)\")"],
"outputs": []
}
,
{
"cell_type" : "markdown",
"metadata" : {},
"source" : [" The complex arc tangent function\n"]
}
,
{
"cell_type" : "code",
"execution_count": null,
"metadata" : {
    "collapsed" : false
},
"source" : ["atf(x,y) ==\n  a := atan complex(x,y)\n  point [x,y,real a, argument a]"],
"outputs": []
}
,
{
"cell_type" : "code",
"execution_count": null,
"metadata" : {
    "collapsed" : false
},
"source" : ["draw(atf, -3.0..%pi, -3.0..%pi)"],
"outputs": []
}
,
{
"cell_type" : "code",
"execution_count": null,
"metadata" : {
    "collapsed" : false
},
"source" : ["--\n-- EOF\n--"],
"outputs": []
}
 ],
"metadata": {
 "kernelspec": {
  "display_name": "FriCAS",
  "language": "spad",
  "name": "ifricas"
 },
 "language_info": {
  "codemirror_mode": "spad",
  "mimetype": "text/x-spad",
  "name": "SPAD",
  "pygments_lexer": "spad",
  "version": "1.2.6"
 },
 "name": "images6.ipynb"
},
"nbformat": 4,
"nbformat_minor": 0
}
