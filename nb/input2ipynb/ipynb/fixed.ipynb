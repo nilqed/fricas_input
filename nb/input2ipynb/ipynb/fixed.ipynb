{
 "cells": [
{
"cell_type" : "markdown",
"metadata" : {},
"source" : ["Copyright The Numerical Algorithms Group Limited 1996.\nfixed.input\n"]
}
,
{
"cell_type" : "code",
"execution_count": null,
"metadata" : {
    "collapsed" : false
},
"source" : [")set break resume"],
"outputs": []
}
,
{
"cell_type" : "markdown",
"metadata" : {},
"source" : ["\n daly/10/06/92\n\n"]
}
,
{
"cell_type" : "code",
"execution_count": null,
"metadata" : {
    "collapsed" : false
},
"source" : [")clear all"],
"outputs": []
}
,
{
"cell_type" : "markdown",
"metadata" : {},
"source" : [" something is wrong with the integration of serices, when the\n coeffiennts are not constants. while the series is mathematically\n correct, this is not what one expects as the taylor series, which\n does not exist.\n"]
}
,
{
"cell_type" : "code",
"execution_count": null,
"metadata" : {
    "collapsed" : false
},
"source" : ["series(x/(x+log(x)))"],
"outputs": []
}
,
{
"cell_type" : "markdown",
"metadata" : {},
"source" : [" here integrate is treating log(x) as a constant, which is incorrect.\n"]
}
,
{
"cell_type" : "code",
"execution_count": null,
"metadata" : {
    "collapsed" : false
},
"source" : ["integrate(%)"],
"outputs": []
}
,
{
"cell_type" : "markdown",
"metadata" : {},
"source" : ["\n bmt/10/19/92 integrate problem -- serious, wrong answer\n\n"]
}
,
{
"cell_type" : "code",
"execution_count": null,
"metadata" : {
    "collapsed" : false
},
"source" : [")clear all"],
"outputs": []
}
,
{
"cell_type" : "code",
"execution_count": null,
"metadata" : {
    "collapsed" : false
},
"source" : ["2*sin(t)*sqrt(1+cos(t))"],
"outputs": []
}
,
{
"cell_type" : "markdown",
"metadata" : {},
"source" : ["correct answer is 4*(1+cos(t))^(3/2)/3\n"]
}
,
{
"cell_type" : "code",
"execution_count": null,
"metadata" : {
    "collapsed" : false
},
"source" : ["integrate(%,t)"],
"outputs": []
}
,
{
"cell_type" : "markdown",
"metadata" : {},
"source" : ["\n bmt/10/20/92 multiple complex in type tower\n\n"]
}
,
{
"cell_type" : "code",
"execution_count": null,
"metadata" : {
    "collapsed" : false
},
"source" : [")clear all"],
"outputs": []
}
,
{
"cell_type" : "code",
"execution_count": null,
"metadata" : {
    "collapsed" : false
},
"source" : ["n:Complex ?"],
"outputs": []
}
,
{
"cell_type" : "markdown",
"metadata" : {},
"source" : [" an invalid type. can't have 2 complex constructors in a tower\n"]
}
,
{
"cell_type" : "code",
"execution_count": null,
"metadata" : {
    "collapsed" : false
},
"source" : ["n:=x/y+%i"],
"outputs": []
}
,
{
"cell_type" : "markdown",
"metadata" : {},
"source" : ["\n grabm/09/28/92 coercion bug\n comment: this coercion must carefully check whether there is a symbol\n          among the kernels which is equal to an indeterminate of the\n          polynomial ring, and not simply considering every expression\n          as a constant\n\n"]
}
,
{
"cell_type" : "code",
"execution_count": null,
"metadata" : {
    "collapsed" : false
},
"source" : [")clear all"],
"outputs": []
}
,
{
"cell_type" : "code",
"execution_count": null,
"metadata" : {
    "collapsed" : false
},
"source" : ["f:=(a-b-c-d)^2::EXPR INT"],
"outputs": []
}
,
{
"cell_type" : "code",
"execution_count": null,
"metadata" : {
    "collapsed" : false
},
"source" : ["f::DMP(['a,'b],EXPR INT)"],
"outputs": []
}
,
{
"cell_type" : "code",
"execution_count": null,
"metadata" : {
    "collapsed" : false
},
"source" : ["degree %"],
"outputs": []
}
,
{
"cell_type" : "markdown",
"metadata" : {},
"source" : ["\n bmt/10/26/92 wrong answer\n comment:I believe this problem simplifies to\n lfintegrate(sqrt(u^3+u^2),u) which returns the\n wrong answer due to some confusion in prootintegrate in INTPAF.\n I think the confusion happens with the use of radPoly and rootPoly.\n The answer is computed with respect to the result returned by rootPoly\n but the kernel which is substituted for \"y\" corresponds to radPoly.\n\n"]
}
,
{
"cell_type" : "code",
"execution_count": null,
"metadata" : {
    "collapsed" : false
},
"source" : [")clear all"],
"outputs": []
}
,
{
"cell_type" : "markdown",
"metadata" : {},
"source" : [" should be 2*sin(t)/sqrt(1+cos(t))\n"]
}
,
{
"cell_type" : "code",
"execution_count": null,
"metadata" : {
    "collapsed" : false
},
"source" : ["integrate(sqrt(1+cos(x)),x)"],
"outputs": []
}
,
{
"cell_type" : "code",
"execution_count": null,
"metadata" : {
    "collapsed" : false
},
"source" : [")clear all"],
"outputs": []
}
,
{
"cell_type" : "code",
"execution_count": null,
"metadata" : {
    "collapsed" : false
},
"source" : ["f:=log(1-(b*x/(a+c*x^2)))/x"],
"outputs": []
}
,
{
"cell_type" : "markdown",
"metadata" : {},
"source" : ["               2\n            c x  - b x + a\n        log(--------------)\n                  2\n               c x  + a\n   (1)  -------------------\n                 x\n"]
}
,
{
"cell_type" : "code",
"execution_count": null,
"metadata" : {
    "collapsed" : false
},
"source" : ["integrate(%,x)"],
"outputs": []
}
,
{
"cell_type" : "markdown",
"metadata" : {},
"source" : ["                   2\n                 %J c - %J b + a\n             log(---------------)\n           x          2\n         ++         %J c + a\n   (2)   |   -------------------- d%J\n        ++            %J\n"]
}
,
{
"cell_type" : "code",
"execution_count": null,
"metadata" : {
    "collapsed" : false
},
"source" : ["expand f"],
"outputs": []
}
,
{
"cell_type" : "markdown",
"metadata" : {},
"source" : ["                 2               2\n        - log(c x  + a) + log(c x  - b x + a)\n   (3)  -------------------------------------\n                          x\n"]
}
,
{
"cell_type" : "code",
"execution_count": null,
"metadata" : {
    "collapsed" : false
},
"source" : ["integrate(%,x)"],
"outputs": []
}
,
{
"cell_type" : "markdown",
"metadata" : {},
"source" : ["   >> Error detected within library code:\n   No identity element for reduce of empty list using operation\n   max\n"]
}
,
{
"cell_type" : "markdown",
"metadata" : {},
"source" : ["\n bmt/11/17/92 interpreter resolve problem\n\n says cannot find an appropriate *\n"]
}
,
{
"cell_type" : "code",
"execution_count": null,
"metadata" : {
    "collapsed" : false
},
"source" : [")clear all"],
"outputs": []
}
,
{
"cell_type" : "code",
"execution_count": null,
"metadata" : {
    "collapsed" : false
},
"source" : ["%i/m*sqrt(m)"],
"outputs": []
}
,
{
"cell_type" : "markdown",
"metadata" : {},
"source" : ["\n tpd/09/22/92 this generates extra brackets\n\n"]
}
,
{
"cell_type" : "code",
"execution_count": null,
"metadata" : {
    "collapsed" : false
},
"source" : [")clear all"],
"outputs": []
}
,
{
"cell_type" : "code",
"execution_count": null,
"metadata" : {
    "collapsed" : false
},
"source" : ["foo n == matrix[[i for i in 1..n] for j in 1..n]"],
"outputs": []
}
,
{
"cell_type" : "code",
"execution_count": null,
"metadata" : {
    "collapsed" : false
},
"source" : ["foo"],
"outputs": []
}
,
{
"cell_type" : "markdown",
"metadata" : {},
"source" : ["\n tpd/09/24/92 matrix multiplication appears broken in the product.\n fails with\n   >> System error:\n   The function |deleteAssoc| is undefined.\n   You are being returned to the top level of the interpreter.\n comment: (barry)\n This bug is due to the new autoloading scheme for the compiler, the\n function deleteAssoc needs to be moved into the in core system.\n As a work around,\n if you compile a non existent file, the apropriate files will be loaded,\n e.g.:\n )co foo\n  comment: this works in version 2\n\n"]
}
,
{
"cell_type" : "code",
"execution_count": null,
"metadata" : {
    "collapsed" : false
},
"source" : ["msq := Matrix SquareMatrix(2,POLY INT)"],
"outputs": []
}
,
{
"cell_type" : "code",
"execution_count": null,
"metadata" : {
    "collapsed" : false
},
"source" : ["m : msq := zero(2,2)"],
"outputs": []
}
,
{
"cell_type" : "code",
"execution_count": null,
"metadata" : {
    "collapsed" : false
},
"source" : ["m(1,1) := matrix([[1,2],[a,b]])"],
"outputs": []
}
,
{
"cell_type" : "code",
"execution_count": null,
"metadata" : {
    "collapsed" : false
},
"source" : ["m(1,2) := matrix([[a,b],[2,b]])"],
"outputs": []
}
,
{
"cell_type" : "code",
"execution_count": null,
"metadata" : {
    "collapsed" : false
},
"source" : ["m(2,2) := matrix([[1,2],[2,b]])"],
"outputs": []
}
,
{
"cell_type" : "code",
"execution_count": null,
"metadata" : {
    "collapsed" : false
},
"source" : ["m"],
"outputs": []
}
,
{
"cell_type" : "code",
"execution_count": null,
"metadata" : {
    "collapsed" : false
},
"source" : ["m*m"],
"outputs": []
}
,
{
"cell_type" : "code",
"execution_count": null,
"metadata" : {
    "collapsed" : false
},
"source" : ["m^2"],
"outputs": []
}
,
{
"cell_type" : "code",
"execution_count": null,
"metadata" : {
    "collapsed" : false
},
"source" : ["m^3"],
"outputs": []
}
,
{
"cell_type" : "code",
"execution_count": null,
"metadata" : {
    "collapsed" : false
},
"source" : ["(m*m)*m"],
"outputs": []
}
,
{
"cell_type" : "code",
"execution_count": null,
"metadata" : {
    "collapsed" : false
},
"source" : ["mm:=m*m"],
"outputs": []
}
,
{
"cell_type" : "code",
"execution_count": null,
"metadata" : {
    "collapsed" : false
},
"source" : ["mm*m"],
"outputs": []
}
,
{
"cell_type" : "markdown",
"metadata" : {},
"source" : ["\n tpd/09/25/92 new equation.spad from johannes grabmeier\n\n"]
}
,
{
"cell_type" : "markdown",
"metadata" : {},
"source" : ["Furthermore, we have function to put 0 or 1 on one side\nand factor the left hand side, after the right hand side\nis 0 and we have an IntegralDomain.\nJohannes\n"]
}
,
{
"cell_type" : "code",
"execution_count": null,
"metadata" : {
    "collapsed" : false
},
"source" : ["eq1 := (-6*x^3+13*x^2+4)=(-x^4+12*x)"],
"outputs": []
}
,
{
"cell_type" : "markdown",
"metadata" : {},
"source" : ["\n\n            3      2         4\n   (1)  - 6x  + 13x  + 4= - x  + 12x\n                                            Type: Equation Polynomial Integer\n                                       Time: 1.61 (IN) + 1.47 (OT) = 3.08 sec\n"]
}
,
{
"cell_type" : "code",
"execution_count": null,
"metadata" : {
    "collapsed" : false
},
"source" : ["eq2 := x^4+13*x^2-12*x = 6*x^3-4"],
"outputs": []
}
,
{
"cell_type" : "markdown",
"metadata" : {},
"source" : ["\n\n         4      2          3\n   (2)  x  + 13x  - 12x= 6x  - 4\n                                            Type: Equation Polynomial Integer\n                                       Time: 0.16 (IN) + 0.11 (OT) = 0.27 sec\n"]
}
,
{
"cell_type" : "code",
"execution_count": null,
"metadata" : {
    "collapsed" : false
},
"source" : ["eq := eq1*y^2+eq2"],
"outputs": []
}
,
{
"cell_type" : "markdown",
"metadata" : {},
"source" : ["\n\n             3      2      2    4      2            4        2     3\n   (3)  (- 6x  + 13x  + 4)y  + x  + 13x  - 12x= (- x  + 12x)y  + 6x  - 4\n                                            Type: Equation Polynomial Integer\n               Time: 0.26 (IN) + 0.01 (EV) + 0.01 (OT) + 1.54 (GC) = 1.82 sec\n"]
}
,
{
"cell_type" : "code",
"execution_count": null,
"metadata" : {
    "collapsed" : false
},
"source" : ["swap %"],
"outputs": []
}
,
{
"cell_type" : "markdown",
"metadata" : {},
"source" : ["\n\n            4        2     3           3      2      2    4      2\n   (4)  (- x  + 12x)y  + 6x  - 4= (- 6x  + 13x  + 4)y  + x  + 13x  - 12x\n                                            Type: Equation Polynomial Integer\n                                                   Time: 0.07 (OT) = 0.07 sec\n"]
}
,
{
"cell_type" : "code",
"execution_count": null,
"metadata" : {
    "collapsed" : false
},
"source" : ["% + 4"],
"outputs": []
}
,
{
"cell_type" : "markdown",
"metadata" : {},
"source" : ["\n\n            4        2     3       3      2      2    4      2\n   (5)  (- x  + 12x)y  + 6x = (- 6x  + 13x  + 4)y  + x  + 13x  - 12x + 4\n                                            Type: Equation Polynomial Integer\n                                       Time: 0.69 (IN) + 0.01 (OT) = 0.70 sec\n"]
}
,
{
"cell_type" : "code",
"execution_count": null,
"metadata" : {
    "collapsed" : false
},
"source" : ["%-6*x^3"],
"outputs": []
}
,
{
"cell_type" : "markdown",
"metadata" : {},
"source" : ["\n\n            4        2       3      2      2    4     3      2\n   (6)  (- x  + 12x)y = (- 6x  + 13x  + 4)y  + x  - 6x  + 13x  - 12x + 4\n                                            Type: Equation Polynomial Integer\n                                       Time: 0.19 (IN) + 0.01 (OT) = 0.20 sec\n"]
}
,
{
"cell_type" : "code",
"execution_count": null,
"metadata" : {
    "collapsed" : false
},
"source" : ["leftZero %"],
"outputs": []
}
,
{
"cell_type" : "markdown",
"metadata" : {},
"source" : ["\n\n             4     3      2            2    4     3      2\n   (7)  0= (x  - 6x  + 13x  - 12x + 4)y  + x  - 6x  + 13x  - 12x + 4\n                                            Type: Equation Polynomial Integer\n                                       Time: 0.01 (IN) + 0.05 (OT) = 0.06 sec\n"]
}
,
{
"cell_type" : "code",
"execution_count": null,
"metadata" : {
    "collapsed" : false
},
"source" : ["swap %"],
"outputs": []
}
,
{
"cell_type" : "markdown",
"metadata" : {},
"source" : ["\n\n          4     3      2            2    4     3      2\n   (8)  (x  - 6x  + 13x  - 12x + 4)y  + x  - 6x  + 13x  - 12x + 4= 0\n                                            Type: Equation Polynomial Integer\n                                                   Time: 0.01 (IN) = 0.01 sec\n"]
}
,
{
"cell_type" : "code",
"execution_count": null,
"metadata" : {
    "collapsed" : false
},
"source" : ["factor lhs %"],
"outputs": []
}
,
{
"cell_type" : "markdown",
"metadata" : {},
"source" : ["\n\n               2       2  2\n   (9)  (x - 2) (x - 1) (y  + 1)\n                                            Type: Factored Polynomial Integer\n                           Time: 0.50 (IN) + 0.09 (EV) + 0.30 (OT) = 0.89 sec\n"]
}
,
{
"cell_type" : "code",
"execution_count": null,
"metadata" : {
    "collapsed" : false
},
"source" : ["factorAndSplit eq"],
"outputs": []
}
,
{
"cell_type" : "markdown",
"metadata" : {},
"source" : ["\n\n                             2\n   (10)  [x - 2= 0,x - 1= 0,y  + 1= 0]\n                                       Type: List Equation Polynomial Integer\n                                       Time: 0.09 (EV) + 0.21 (OT) = 0.30 sec\n"]
}
,
{
"cell_type" : "code",
"execution_count": null,
"metadata" : {
    "collapsed" : false
},
"source" : ["inv (eq :: EQ FRAC POLY INT)"],
"outputs": []
}
,
{
"cell_type" : "markdown",
"metadata" : {},
"source" : ["\n\n                            1                                1\n   (11)  - ------------------------------------= - ----------------------\n              3      2      2    4      2            4        2     3\n           (6x  - 13x  - 4)y  - x  - 13x  + 12x    (x  - 12x)y  - 6x  + 4\n                                   Type: Equation Fraction Polynomial Integer\n                                                   Time: 0.03 (IN) = 0.03 sec\n"]
}
,
{
"cell_type" : "code",
"execution_count": null,
"metadata" : {
    "collapsed" : false
},
"source" : ["- %"],
"outputs": []
}
,
{
"cell_type" : "markdown",
"metadata" : {},
"source" : ["\n\n                          1                              1\n   (12)  ------------------------------------= ----------------------\n            3      2      2    4      2          4        2     3\n         (6x  - 13x  - 4)y  - x  - 13x  + 12x  (x  - 12x)y  - 6x  + 4\n                                   Type: Equation Fraction Polynomial Integer\n                                       Time: 0.01 (IN) + 0.01 (OT) = 0.02 sec\n"]
}
,
{
"cell_type" : "markdown",
"metadata" : {},
"source" : ["\n bmt/09/29/92 coercion bug\n fails with:\n failed cannot be coerced to mode\n (Record (: coef1 (Integer)) (: coef2 (Integer)))\n fixed on 09/29/92\n\n"]
}
,
{
"cell_type" : "code",
"execution_count": null,
"metadata" : {
    "collapsed" : false
},
"source" : [")clear all"],
"outputs": []
}
,
{
"cell_type" : "code",
"execution_count": null,
"metadata" : {
    "collapsed" : false
},
"source" : ["(p,q):UP(x,INT)"],
"outputs": []
}
,
{
"cell_type" : "code",
"execution_count": null,
"metadata" : {
    "collapsed" : false
},
"source" : ["p:=3*x^4+11*x^2-4"],
"outputs": []
}
,
{
"cell_type" : "code",
"execution_count": null,
"metadata" : {
    "collapsed" : false
},
"source" : ["q:=9*x^4+9*x^2-4"],
"outputs": []
}
,
{
"cell_type" : "code",
"execution_count": null,
"metadata" : {
    "collapsed" : false
},
"source" : ["myNextPrime: (INT,NNI) -> INT"],
"outputs": []
}
,
{
"cell_type" : "code",
"execution_count": null,
"metadata" : {
    "collapsed" : false
},
"source" : ["myNextPrime(x,n)==nextPrime(x)$PRIMES(INT)"],
"outputs": []
}
,
{
"cell_type" : "markdown",
"metadata" : {},
"source" : ["  runs forever due to algebra bug in handling leading coefficients\n"]
}
,
{
"cell_type" : "code",
"execution_count": null,
"metadata" : {
    "collapsed" : false
},
"source" : ["modularGcd([p,q])$InnerModularGcd(INT,UP(x,INT),67108859,myNextPrime)"],
"outputs": []
}
,
{
"cell_type" : "markdown",
"metadata" : {},
"source" : ["\n dewar/10/02/92\n actually, this was never wrong\n\n"]
}
,
{
"cell_type" : "code",
"execution_count": null,
"metadata" : {
    "collapsed" : false
},
"source" : ["numeric(%e ^ %pi)"],
"outputs": []
}
,
{
"cell_type" : "markdown",
"metadata" : {},
"source" : ["gives\n"]
}
,
{
"cell_type" : "markdown",
"metadata" : {},
"source" : ["  23.1406926327 7926900563 5493084578 4861294789 0532254433 2912200665\n 6744971913 2534837468 7163222983 2730035\n"]
}
,
{
"cell_type" : "markdown",
"metadata" : {},
"source" : ["\n themos/10/07/92\n\n"]
}
,
{
"cell_type" : "code",
"execution_count": null,
"metadata" : {
    "collapsed" : false
},
"source" : [")clear all"],
"outputs": []
}
,
{
"cell_type" : "code",
"execution_count": null,
"metadata" : {
    "collapsed" : false
},
"source" : ["y:=operator 'y"],
"outputs": []
}
,
{
"cell_type" : "code",
"execution_count": null,
"metadata" : {
    "collapsed" : false
},
"source" : ["deqx:=differentiate(y(x),x,2)+differentiate(y(x),x)+y(x)"],
"outputs": []
}
,
{
"cell_type" : "code",
"execution_count": null,
"metadata" : {
    "collapsed" : false
},
"source" : ["solve(deqx,y,x)"],
"outputs": []
}
,
{
"cell_type" : "code",
"execution_count": null,
"metadata" : {
    "collapsed" : false
},
"source" : ["solve(deqx,y,x=0,[1])"],
"outputs": []
}
,
{
"cell_type" : "code",
"execution_count": null,
"metadata" : {
    "collapsed" : false
},
"source" : ["deqt:=differentiate(y(t),t,2)+differentiate(y(t),t)+y(t)"],
"outputs": []
}
,
{
"cell_type" : "code",
"execution_count": null,
"metadata" : {
    "collapsed" : false
},
"source" : ["solve(deqt,y,t)"],
"outputs": []
}
,
{
"cell_type" : "code",
"execution_count": null,
"metadata" : {
    "collapsed" : false
},
"source" : ["solve(deqt,y,t=0,[1]) -- bug"],
"outputs": []
}
,
{
"cell_type" : "code",
"execution_count": null,
"metadata" : {
    "collapsed" : false
},
"source" : ["deqz:=differentiate(y(z),z,2)+differentiate(y(z),z)+y(z)"],
"outputs": []
}
,
{
"cell_type" : "code",
"execution_count": null,
"metadata" : {
    "collapsed" : false
},
"source" : ["solve(deqz,y,z)"],
"outputs": []
}
,
{
"cell_type" : "code",
"execution_count": null,
"metadata" : {
    "collapsed" : false
},
"source" : ["solve(deqz,y,z=0,[1]) --bug"],
"outputs": []
}
,
{
"cell_type" : "markdown",
"metadata" : {},
"source" : ["\n themos/10/07/92 equation\n\n"]
}
,
{
"cell_type" : "code",
"execution_count": null,
"metadata" : {
    "collapsed" : false
},
"source" : [")clear all"],
"outputs": []
}
,
{
"cell_type" : "code",
"execution_count": null,
"metadata" : {
    "collapsed" : false
},
"source" : ["y:=operator 'y"],
"outputs": []
}
,
{
"cell_type" : "code",
"execution_count": null,
"metadata" : {
    "collapsed" : false
},
"source" : ["deq:=D(y(x),x)+x^2=(y x)/x-(y x)^2"],
"outputs": []
}
,
{
"cell_type" : "markdown",
"metadata" : {},
"source" : ["\n bmt/10/08/92 laplace\n\n"]
}
,
{
"cell_type" : "code",
"execution_count": null,
"metadata" : {
    "collapsed" : false
},
"source" : [")clear all"],
"outputs": []
}
,
{
"cell_type" : "code",
"execution_count": null,
"metadata" : {
    "collapsed" : false
},
"source" : ["laplace(exp(-x^3)*x^7,x,s)"],
"outputs": []
}
,
{
"cell_type" : "markdown",
"metadata" : {},
"source" : ["\n bmt/09/30/92 nonlinear ODE\n\n Any hope of solving the following which appeared in Barry\n Simon's computer algebra test suite:\n (Apparently it has Bernoulli form)\n"]
}
,
{
"cell_type" : "code",
"execution_count": null,
"metadata" : {
    "collapsed" : false
},
"source" : ["y:=operator 'y"],
"outputs": []
}
,
{
"cell_type" : "code",
"execution_count": null,
"metadata" : {
    "collapsed" : false
},
"source" : ["x^2 * D(y x, x) + 2*x*(y x) - (y x)^3 = 0"],
"outputs": []
}
,
{
"cell_type" : "code",
"execution_count": null,
"metadata" : {
    "collapsed" : false
},
"source" : ["solve(%,y,x)"],
"outputs": []
}
,
{
"cell_type" : "markdown",
"metadata" : {},
"source" : ["\n sit/10/08/92 factor bug\n\n"]
}
,
{
"cell_type" : "code",
"execution_count": null,
"metadata" : {
    "collapsed" : false
},
"source" : ["p:POLY FRAC INT := 3*(x+1)"],
"outputs": []
}
,
{
"cell_type" : "markdown",
"metadata" : {},
"source" : [" is wrong (missing factor of 3).\n"]
}
,
{
"cell_type" : "code",
"execution_count": null,
"metadata" : {
    "collapsed" : false
},
"source" : ["factor(p)^2"],
"outputs": []
}
,
{
"cell_type" : "markdown",
"metadata" : {},
"source" : ["\n henderson/10/08/92\n\n"]
}
,
{
"cell_type" : "code",
"execution_count": null,
"metadata" : {
    "collapsed" : false
},
"source" : [")clear all"],
"outputs": []
}
,
{
"cell_type" : "markdown",
"metadata" : {},
"source" : ["TextFile cliams that the operator readLineIfCan! returns \"failed\" when\nthe end of the file is reached.  In fact, I get a system error, which is\nnot very useful:\n(16) ->readLineIfCan!(fp)\n   >> System error:\n   Unexpected end of #<input stream \"/home/mcd/work/work\">.\n   You are being returned to the top level of the interpreter.\n"]
}
,
{
"cell_type" : "code",
"execution_count": null,
"metadata" : {
    "collapsed" : false
},
"source" : ["fout:TextFile:=open(\"./foo\",\"output\")"],
"outputs": []
}
,
{
"cell_type" : "code",
"execution_count": null,
"metadata" : {
    "collapsed" : false
},
"source" : ["write!(fout,\"foo\")"],
"outputs": []
}
,
{
"cell_type" : "code",
"execution_count": null,
"metadata" : {
    "collapsed" : false
},
"source" : ["close!(fout)"],
"outputs": []
}
,
{
"cell_type" : "code",
"execution_count": null,
"metadata" : {
    "collapsed" : false
},
"source" : ["fin:TextFile:=open(\"./foo\",\"input\")"],
"outputs": []
}
,
{
"cell_type" : "code",
"execution_count": null,
"metadata" : {
    "collapsed" : false
},
"source" : ["readLineIfCan!(fin)"],
"outputs": []
}
,
{
"cell_type" : "code",
"execution_count": null,
"metadata" : {
    "collapsed" : false
},
"source" : ["readLineIfCan!(fin)"],
"outputs": []
}
,
{
"cell_type" : "code",
"execution_count": null,
"metadata" : {
    "collapsed" : false
},
"source" : ["close!(fin)"],
"outputs": []
}
,
{
"cell_type" : "code",
"execution_count": null,
"metadata" : {
    "collapsed" : false
},
"source" : [")system rm ./foo"],
"outputs": []
}
,
{
"cell_type" : "markdown",
"metadata" : {},
"source" : ["\n bmt/10/08/92 factoring over SAEs\n\n"]
}
,
{
"cell_type" : "code",
"execution_count": null,
"metadata" : {
    "collapsed" : false
},
"source" : [")clear all"],
"outputs": []
}
,
{
"cell_type" : "code",
"execution_count": null,
"metadata" : {
    "collapsed" : false
},
"source" : ["a | a^2+1"],
"outputs": []
}
,
{
"cell_type" : "code",
"execution_count": null,
"metadata" : {
    "collapsed" : false
},
"source" : ["(x+a)*(x+a+1)"],
"outputs": []
}
,
{
"cell_type" : "code",
"execution_count": null,
"metadata" : {
    "collapsed" : false
},
"source" : ["factor %"],
"outputs": []
}
,
{
"cell_type" : "markdown",
"metadata" : {},
"source" : ["\n miller/10/09/92 local vars in types\n\n"]
}
,
{
"cell_type" : "code",
"execution_count": null,
"metadata" : {
    "collapsed" : false
},
"source" : [")clear all"],
"outputs": []
}
,
{
"cell_type" : "markdown",
"metadata" : {},
"source" : ["Fixed (Victor's) bug with using local variables in type expressions\nassigned to local variables.  It now gives a message and correctly uses\ninterpret-only mode.\nThe function changed was getAndEvalConstructorArgument from i-spec1.boot.\n"]
}
,
{
"cell_type" : "markdown",
"metadata" : {},
"source" : ["\n themos/10/19/92\n\n"]
}
,
{
"cell_type" : "code",
"execution_count": null,
"metadata" : {
    "collapsed" : false
},
"source" : [")clear all"],
"outputs": []
}
,
{
"cell_type" : "markdown",
"metadata" : {},
"source" : [" Do this in a virgin system\n"]
}
,
{
"cell_type" : "code",
"execution_count": null,
"metadata" : {
    "collapsed" : false
},
"source" : [")set expose add constructor SquareMatrix"],
"outputs": []
}
,
{
"cell_type" : "code",
"execution_count": null,
"metadata" : {
    "collapsed" : false
},
"source" : ["S2:= SquareMatrix(2,FRAC POLY INT);"],
"outputs": []
}
,
{
"cell_type" : "code",
"execution_count": null,
"metadata" : {
    "collapsed" : false
},
"source" : ["V2: S2 := matrix([[v,-v],[-v,v]]);"],
"outputs": []
}
,
{
"cell_type" : "code",
"execution_count": null,
"metadata" : {
    "collapsed" : false
},
"source" : ["I2: S2 := 1;"],
"outputs": []
}
,
{
"cell_type" : "code",
"execution_count": null,
"metadata" : {
    "collapsed" : false
},
"source" : ["m:=5;"],
"outputs": []
}
,
{
"cell_type" : "code",
"execution_count": null,
"metadata" : {
    "collapsed" : false
},
"source" : ["l: List(S2) := append(cons(V2+h*I2,_\n            [(V2+2*h*I2) for i in 2 .. (m-1)]),_\n"],
"outputs": []
}
,
{
"cell_type" : "code",
"execution_count": null,
"metadata" : {
    "collapsed" : false
},
"source" : ["             [V2+h*I2])"],
"outputs": []
}
,
{
"cell_type" : "code",
"execution_count": null,
"metadata" : {
    "collapsed" : false
},
"source" : ["A: SquareMatrix(m, S2) := diagonalMatrix(l)"],
"outputs": []
}
,
{
"cell_type" : "markdown",
"metadata" : {},
"source" : [" did you get an error of deleteAssoc not defined ??\n"]
}
,
{
"cell_type" : "markdown",
"metadata" : {},
"source" : [" load definition of deleteAssoc\n )li (load \"/spad/obj/rios/interp/c-util\")\n"]
}
,
{
"cell_type" : "markdown",
"metadata" : {},
"source" : [" A: SquareMatrix(m, S2) := diagonalMatrix(l)\nnow , can print.\n"]
}
,
{
"cell_type" : "markdown",
"metadata" : {},
"source" : ["\n bmt/10/19/92 squareFree bug\n\n has an extra factor of 2.\n"]
}
,
{
"cell_type" : "code",
"execution_count": null,
"metadata" : {
    "collapsed" : false
},
"source" : ["squareFree((2*x*y+1)*(x*y+1)^2)"],
"outputs": []
}
,
{
"cell_type" : "markdown",
"metadata" : {},
"source" : ["\n bmt/10/19/92 division by zero error\n\n"]
}
,
{
"cell_type" : "code",
"execution_count": null,
"metadata" : {
    "collapsed" : false
},
"source" : ["limit(atan(1/sin(x)),x=0)"],
"outputs": []
}
,
{
"cell_type" : "markdown",
"metadata" : {},
"source" : ["\n bmt/10/19/92 limit problem\n\n"]
}
,
{
"cell_type" : "code",
"execution_count": null,
"metadata" : {
    "collapsed" : false
},
"source" : [")clear all"],
"outputs": []
}
,
{
"cell_type" : "markdown",
"metadata" : {},
"source" : [" the left and right hand limits don't agree\n"]
}
,
{
"cell_type" : "code",
"execution_count": null,
"metadata" : {
    "collapsed" : false
},
"source" : ["limit(atan(-sin(x)/(cos(x)+e)),x=acos(-e))"],
"outputs": []
}
,
{
"cell_type" : "markdown",
"metadata" : {},
"source" : [" the left and right hand limits don't agree\n"]
}
,
{
"cell_type" : "code",
"execution_count": null,
"metadata" : {
    "collapsed" : false
},
"source" : ["limit(atan(1/(cos(x)+e)),x=acos(-e))"],
"outputs": []
}
,
{
"cell_type" : "markdown",
"metadata" : {},
"source" : ["\n grabmeier/10/19/92 unable to compute the determinant of an 8x8\n\n"]
}
,
{
"cell_type" : "code",
"execution_count": null,
"metadata" : {
    "collapsed" : false
},
"source" : [")clear all"],
"outputs": []
}
,
{
"cell_type" : "code",
"execution_count": null,
"metadata" : {
    "collapsed" : false
},
"source" : ["D := MATRIX FRAC(POLY INT)"],
"outputs": []
}
,
{
"cell_type" : "code",
"execution_count": null,
"metadata" : {
    "collapsed" : false
},
"source" : ["d : (INT, Boolean) -> POLY INT"],
"outputs": []
}
,
{
"cell_type" : "code",
"execution_count": null,
"metadata" : {
    "collapsed" : false
},
"source" : ["d(i,ss)  ==\n  ex := i rem 4\n  if ex < 0 then ex := ex+4\n  ss =>\n    ex = 0 => 's\n    ex = 1 => 'sd\n    ex = 2 => 'sdd\n    'sddd\n  ex = 0 => 1\n  ex = 1 => 'd\n  ex = 2 => 'dd\n  'ddd"],
"outputs": []
}
,
{
"cell_type" : "markdown",
"metadata" : {},
"source" : [" 1,d,dd,ddd,s,sd,sdd,sddd\n"]
}
,
{
"cell_type" : "code",
"execution_count": null,
"metadata" : {
    "collapsed" : false
},
"source" : ["mTV4 : D := new(8,8,0)"],
"outputs": []
}
,
{
"cell_type" : "code",
"execution_count": null,
"metadata" : {
    "collapsed" : false
},
"source" : ["for i in 1..8 repeat\n  for j in 1..8 repeat\n    mTV4(i,j) :=\n      i <= 4 =>\n        j <= 4 => d(i+j-2, false)\n        d(-i+j,true)\n      j <= 4 => d(i+j-2,true)\n      d(-i+j,false)"],
"outputs": []
}
,
{
"cell_type" : "code",
"execution_count": null,
"metadata" : {
    "collapsed" : false
},
"source" : ["mTV4"],
"outputs": []
}
,
{
"cell_type" : "code",
"execution_count": null,
"metadata" : {
    "collapsed" : false
},
"source" : ["gdd4 := determinant mTV4"],
"outputs": []
}
,
{
"cell_type" : "markdown",
"metadata" : {},
"source" : ["\n sutor/09/28/92 operator bug?\n\n"]
}
,
{
"cell_type" : "code",
"execution_count": null,
"metadata" : {
    "collapsed" : false
},
"source" : [")clear all"],
"outputs": []
}
,
{
"cell_type" : "code",
"execution_count": null,
"metadata" : {
    "collapsed" : false
},
"source" : ["L n ==\n  n = 0 => 1\n  n = 1 => x\n  (2*n-1)/n * x * L(n-1) - (n-1)/n * L(n-2)"],
"outputs": []
}
,
{
"cell_type" : "code",
"execution_count": null,
"metadata" : {
    "collapsed" : false
},
"source" : ["R := POLY FRAC INT"],
"outputs": []
}
,
{
"cell_type" : "code",
"execution_count": null,
"metadata" : {
    "collapsed" : false
},
"source" : ["dx := operator(\"D\")::OP(R)"],
"outputs": []
}
,
{
"cell_type" : "code",
"execution_count": null,
"metadata" : {
    "collapsed" : false
},
"source" : ["evaluate(dx, (p+-> differentiate(p,'x))@(R -> R))"],
"outputs": []
}
,
{
"cell_type" : "code",
"execution_count": null,
"metadata" : {
    "collapsed" : false
},
"source" : ["E n == (1-x^2)*dx^2-2*x*dx+n*(n+1)"],
"outputs": []
}
,
{
"cell_type" : "code",
"execution_count": null,
"metadata" : {
    "collapsed" : false
},
"source" : ["L 15"],
"outputs": []
}
,
{
"cell_type" : "markdown",
"metadata" : {},
"source" : [" used to fail on this line\n"]
}
,
{
"cell_type" : "code",
"execution_count": null,
"metadata" : {
    "collapsed" : false
},
"source" : ["E 15"],
"outputs": []
}
,
{
"cell_type" : "markdown",
"metadata" : {},
"source" : ["\n james/10/28/92 coerce bug\n\n"]
}
,
{
"cell_type" : "code",
"execution_count": null,
"metadata" : {
    "collapsed" : false
},
"source" : [")clear all"],
"outputs": []
}
,
{
"cell_type" : "markdown",
"metadata" : {},
"source" : [" improper character in Roman numeral: G\n"]
}
,
{
"cell_type" : "code",
"execution_count": null,
"metadata" : {
    "collapsed" : false
},
"source" : ["g::ROMAN"],
"outputs": []
}
,
{
"cell_type" : "markdown",
"metadata" : {},
"source" : ["\n grabm/10/28/92 runs forever\n\n"]
}
,
{
"cell_type" : "code",
"execution_count": null,
"metadata" : {
    "collapsed" : false
},
"source" : [")clear all"],
"outputs": []
}
,
{
"cell_type" : "markdown",
"metadata" : {},
"source" : [" this is quick\n"]
}
,
{
"cell_type" : "code",
"execution_count": null,
"metadata" : {
    "collapsed" : false
},
"source" : ["factor 1068303355883998767544567663620885466990173600"],
"outputs": []
}
,
{
"cell_type" : "markdown",
"metadata" : {},
"source" : [" but this runs forever\n"]
}
,
{
"cell_type" : "code",
"execution_count": null,
"metadata" : {
    "collapsed" : false
},
"source" : ["sqrt 1068303355883998767544567663620885466990173600"],
"outputs": []
}
,
{
"cell_type" : "markdown",
"metadata" : {},
"source" : ["\n themos/11/05/92 fortran output bug\n\n"]
}
,
{
"cell_type" : "code",
"execution_count": null,
"metadata" : {
    "collapsed" : false
},
"source" : [")clear all"],
"outputs": []
}
,
{
"cell_type" : "markdown",
"metadata" : {},
"source" : ["      REAL T7,T6,T5,T4,T3,T2,T1\n      T1=x*x\n      T2=2.*y^5\n      T3=4.*T1\n      T4=y^3\n      T5=2.*T7\n      T6=x^3\n      T7=x^4\n      R46=((T2+(T3+8.*x+8.)*T4+(T5+8.*T6+(-40.*T1))*y)*SIN(x)+(-T2+(-T3+\n     &16.*x)*T4+(-T5+16.*T6)*y)*COS(x))/(y^8+4.*T1*y^6+6.*T7*y^4+4.*x\n     &^6*y*y+x^8)\n T7 is referenced before it is defined\n"]
}
,
{
"cell_type" : "code",
"execution_count": null,
"metadata" : {
    "collapsed" : false
},
"source" : ["a1:=sin(x)/(x^2+y^2);a2:=D(a1,[x,y]);a2+D(a2,x)"],
"outputs": []
}
,
{
"cell_type" : "markdown",
"metadata" : {},
"source" : ["\n grabm/11/05/92\n comment:\nI believe the \"bug\" is that the interpreter is converting gb which is\na list of dmp style polynomials to a list of POLY type polynomials.\nUnfortunately the result of such a conversion is no longer a groebner basis.\nI don't see any reasonable way to prevent this, and would therefore have to\nclassify this as \"user error\", when working with grobner bases, the user\nneeds to force all his polynomials to be the appropriate type (thus having\nthe correct ordering).\n\n expressing a symmetric functions in terms of elementary symm. functions\n working in POLY INT is o.k.\n"]
}
,
{
"cell_type" : "code",
"execution_count": null,
"metadata" : {
    "collapsed" : false
},
"source" : ["R := FRAC INT"],
"outputs": []
}
,
{
"cell_type" : "markdown",
"metadata" : {},
"source" : ["   (1)  Fraction Integer\n"]
}
,
{
"cell_type" : "code",
"execution_count": null,
"metadata" : {
    "collapsed" : false
},
"source" : ["lpx : List POLY R := [x1+x2+x3, x1*x2+x1*x3+x2*x3,x1*x2*x3]"],
"outputs": []
}
,
{
"cell_type" : "markdown",
"metadata" : {},
"source" : ["   (2)  [x3 + x2 + x1,(x2 + x1)x3 + x1 x2,x1 x2 x3]\n"]
}
,
{
"cell_type" : "code",
"execution_count": null,
"metadata" : {
    "collapsed" : false
},
"source" : ["lip := [lpx.1-e3, lpx.2-e2, lpx.3-e1]"],
"outputs": []
}
,
{
"cell_type" : "markdown",
"metadata" : {},
"source" : ["   (3)  [x3 + x2 + x1 - e3,(x2 + x1)x3 + x1 x2 - e2,x1 x2 x3 - e1]\n"]
}
,
{
"cell_type" : "code",
"execution_count": null,
"metadata" : {
    "collapsed" : false
},
"source" : ["gbp := groebner lip"],
"outputs": []
}
,
{
"cell_type" : "markdown",
"metadata" : {},
"source" : ["   (4)\n                         2                   2\n   [x3 + x2 + x1 - e3, x2  + (x1 - e3)x2 + x1  - e3 x1 + e2,\n      3        2\n    x1  - e3 x1  + e2 x1 - e1]\n"]
}
,
{
"cell_type" : "code",
"execution_count": null,
"metadata" : {
    "collapsed" : false
},
"source" : ["normalForm(x1^2+x2^2+x3^2,gbp)"],
"outputs": []
}
,
{
"cell_type" : "markdown",
"metadata" : {},
"source" : ["          2\n   (5)  e3  - 2e2\n working in DMP is o.k.\n"]
}
,
{
"cell_type" : "code",
"execution_count": null,
"metadata" : {
    "collapsed" : false
},
"source" : ["dmp := DMP([x1,x2,x3,e1,e2,e3],INT)"],
"outputs": []
}
,
{
"cell_type" : "markdown",
"metadata" : {},
"source" : ["   (6)  DistributedMultivariatePolynomial([x1,x2,x3,e1,e2,e3],Integer)\n"]
}
,
{
"cell_type" : "code",
"execution_count": null,
"metadata" : {
    "collapsed" : false
},
"source" : ["li : List dmp := [lpx.1-e1, lpx.2-e2, lpx.3-e3]"],
"outputs": []
}
,
{
"cell_type" : "markdown",
"metadata" : {},
"source" : ["   (7)  [x1 + x2 + x3 - e1,x1 x2 + x1 x3 + x2 x3 - e2,x1 x2 x3 - e3]\n"]
}
,
{
"cell_type" : "code",
"execution_count": null,
"metadata" : {
    "collapsed" : false
},
"source" : ["gb := groebner li"],
"outputs": []
}
,
{
"cell_type" : "markdown",
"metadata" : {},
"source" : ["   (8)\n                         2                     2\n   [x1 + x2 + x3 - e1, x2  + x2 x3 - x2 e1 + x3  - x3 e1 + e2,\n      3     2\n    x3  - x3 e1 + x3 e2 - e3]\n"]
}
,
{
"cell_type" : "code",
"execution_count": null,
"metadata" : {
    "collapsed" : false
},
"source" : ["p:dmp:=(x1^2+x2^2+x3^2)"],
"outputs": []
}
,
{
"cell_type" : "markdown",
"metadata" : {},
"source" : ["          2     2     2\n   (9)  x1  + x2  + x3\n"]
}
,
{
"cell_type" : "code",
"execution_count": null,
"metadata" : {
    "collapsed" : false
},
"source" : ["normalForm(p,gb)"],
"outputs": []
}
,
{
"cell_type" : "markdown",
"metadata" : {},
"source" : ["           2\n   (10)  e1  - 2e2\n but we have some problems (coercion? ordering?) here:\n"]
}
,
{
"cell_type" : "code",
"execution_count": null,
"metadata" : {
    "collapsed" : false
},
"source" : ["normalForm(x1^2+x2^2+x3^2,gb)"],
"outputs": []
}
,
{
"cell_type" : "markdown",
"metadata" : {},
"source" : ["            2                      2              2\n   (11)  2x2  + (2x1 - 2e1)x2 + 2x1  - 2e1 x1 + e1\n"]
}
,
{
"cell_type" : "markdown",
"metadata" : {},
"source" : ["\n bmt/11/17/92 Ifintegrate\n\nIt seems that one cannot simply parametrize reducible curves.\nAny attempt at parametrization can only follow one branch.\nFor curves of the form y^2=a^2*x^2+b*x+c, these are only reducible\nif a^2*x^2+b*x+c is a perfect square. Basically I think we need to\nchoose 1 branch in this case. Under some circumstances we could\ntry to proceed down both branches and then unify the result, but for\nthe time being, perhaps we should just perform the substitution\ny=sqrt(a^2*x^2+b*x+c) whenever that is a perfect square.\n(then we don't even need to do any back subsitution or change to dx).\n\nFor another example, perhaps due to the same essential difficulty try\n"]
}
,
{
"cell_type" : "code",
"execution_count": null,
"metadata" : {
    "collapsed" : false
},
"source" : ["integrate(normalize(sqrt(1+cos(x)),x),x)"],
"outputs": []
}
,
{
"cell_type" : "markdown",
"metadata" : {},
"source" : [" this gets a non-invertible error\n"]
}
,
{
"cell_type" : "markdown",
"metadata" : {},
"source" : ["I have fixed integrate(sqrt(1+cos(x)),x) and\nintegrate(normalize(sqrt(1+cos(x)),x),x)\nfix was to function prootintegrate in INTPAF in intaf.spad\n"]
}
,
{
"cell_type" : "markdown",
"metadata" : {},
"source" : ["\n dewar/02/15/93\n\n"]
}
,
{
"cell_type" : "code",
"execution_count": null,
"metadata" : {
    "collapsed" : false
},
"source" : [")clear all"],
"outputs": []
}
,
{
"cell_type" : "markdown",
"metadata" : {},
"source" : ["i::Polynomial(Integer)\n%::Union(Symbol,Polynomial Integer)\nlist %\n\nthis is a bug in old style union handling, this style of unions\nwill become obsolete, so the suggested fix is to use tagged unions instead:\n"]
}
,
{
"cell_type" : "code",
"execution_count": null,
"metadata" : {
    "collapsed" : false
},
"source" : ["i::POLY INT"],
"outputs": []
}
,
{
"cell_type" : "code",
"execution_count": null,
"metadata" : {
    "collapsed" : false
},
"source" : ["%::Union(s:Symbol, p:POLY INT)"],
"outputs": []
}
,
{
"cell_type" : "code",
"execution_count": null,
"metadata" : {
    "collapsed" : false
},
"source" : ["list % -- works"],
"outputs": []
}
,
{
"cell_type" : "markdown",
"metadata" : {},
"source" : ["\n grabm/03/04/93\n parser bug? not for system commands\n\n )clear all\n gives error: Sorry, but no option begins with upd;\n )load /spad/mnt/rios/algebra/EQ )upd; a:=1\n works\n )load /spad/mnt/rios/algebra/EQ )upd ; a:=1\n"]
}
,
{
"cell_type" : "markdown",
"metadata" : {},
"source" : ["\n bronstein/03/08/93\n\n"]
}
,
{
"cell_type" : "code",
"execution_count": null,
"metadata" : {
    "collapsed" : false
},
"source" : [")clear all"],
"outputs": []
}
,
{
"cell_type" : "code",
"execution_count": null,
"metadata" : {
    "collapsed" : false
},
"source" : ["I:=operator 'I"],
"outputs": []
}
,
{
"cell_type" : "code",
"execution_count": null,
"metadata" : {
    "collapsed" : false
},
"source" : ["J:=operator 'J"],
"outputs": []
}
,
{
"cell_type" : "code",
"execution_count": null,
"metadata" : {
    "collapsed" : false
},
"source" : ["eq := mu * D(I x,x) = - (K + S) * I(x) + S*J(x)"],
"outputs": []
}
,
{
"cell_type" : "code",
"execution_count": null,
"metadata" : {
    "collapsed" : false
},
"source" : ["solve(eq,I,x)"],
"outputs": []
}
,
{
"cell_type" : "markdown",
"metadata" : {},
"source" : ["> wrong particular solution\n"]
}
,
{
"cell_type" : "markdown",
"metadata" : {},
"source" : ["\n dewar/03/16/93\n bug writing backslash to files\ncomment:\nThis is not a bug, what is written to the file is the lisp representation\nof the string \"\\test\" (since '\' is lisp escape character).\nThe file is read and written using lisp primitives and thus the escape\ncharacters need to be doubled. This is consistent, since if you read the\nitem back in from the file, the correct string is reconstituted.\n\nIf you want to create a text file which simply contains lines of text\ninstead of lines of lisp strings, use:\nofile : TextFile := open(\"test\",\"output\")  ...\nthen you will get a file of literal strings with no string delimiters and\nno escape characters.\n\n )clear all\n ofile: File String := open(\"/tmp/test\",\"output\")\n -- this writes \"\\\\test\" but should write \"\\test\"\n write!(ofile,\"\\test\"::String)\n close! ofile\n"]
}
,
{
"cell_type" : "markdown",
"metadata" : {},
"source" : ["\n themos/04/07/93\n this sometimes fails\n comment:\nthanks for tracing down the problem. Basically the lines for monicizing\nthe result need to be done before we try to\nretract back from the algebraic extension.\n\n"]
}
,
{
"cell_type" : "code",
"execution_count": null,
"metadata" : {
    "collapsed" : false
},
"source" : [")clear all"],
"outputs": []
}
,
{
"cell_type" : "code",
"execution_count": null,
"metadata" : {
    "collapsed" : false
},
"source" : ["pol:DMP([x,y,z],PF(2)):=x^2*y^2+x^2*y*z+x^2*z^2+x*y*z^2+y^3*z+y*z^3"],
"outputs": []
}
,
{
"cell_type" : "code",
"execution_count": null,
"metadata" : {
    "collapsed" : false
},
"source" : ["factor pol"],
"outputs": []
}
,
{
"cell_type" : "markdown",
"metadata" : {},
"source" : ["\n williamson/04/21/93\n comment:\nI ran into some problems when factoring polynomials over number fields.\nEvidently the interpretor doesn't choose the correct function 'factor'.\nIt uses a function from MULTFACT, when it should be using a function from\nSAEFACT.\n\n"]
}
,
{
"cell_type" : "code",
"execution_count": null,
"metadata" : {
    "collapsed" : false
},
"source" : [")clear all"],
"outputs": []
}
,
{
"cell_type" : "code",
"execution_count": null,
"metadata" : {
    "collapsed" : false
},
"source" : ["up := UP('w,FRAC INT)"],
"outputs": []
}
,
{
"cell_type" : "code",
"execution_count": null,
"metadata" : {
    "collapsed" : false
},
"source" : ["p : up := w^4 + w^3 + w^2 + w + 1"],
"outputs": []
}
,
{
"cell_type" : "code",
"execution_count": null,
"metadata" : {
    "collapsed" : false
},
"source" : ["sae := SAE(FRAC INT,up,p)"],
"outputs": []
}
,
{
"cell_type" : "code",
"execution_count": null,
"metadata" : {
    "collapsed" : false
},
"source" : ["q : UP('x,sae) := x^5 - 1"],
"outputs": []
}
,
{
"cell_type" : "code",
"execution_count": null,
"metadata" : {
    "collapsed" : false
},
"source" : ["factor q -- used to report: x^5-1"],
"outputs": []
}
,
{
"cell_type" : "markdown",
"metadata" : {},
"source" : ["\n grabm/04/30/93\n comment:\nThis bug has been fixed at yorktown, in radix.spad, change line 163, the\nthird line of intgroup to be:\n      empty? rest li => intToExpr first(li)\nand then recompile RADIX\n\n"]
}
,
{
"cell_type" : "code",
"execution_count": null,
"metadata" : {
    "collapsed" : false
},
"source" : [")clear all"],
"outputs": []
}
,
{
"cell_type" : "markdown",
"metadata" : {},
"source" : [" results in 10 and not A\n"]
}
,
{
"cell_type" : "code",
"execution_count": null,
"metadata" : {
    "collapsed" : false
},
"source" : ["10::RadixExpansion(16)"],
"outputs": []
}
,
{
"cell_type" : "markdown",
"metadata" : {},
"source" : ["\n bronstei@inf.ethz.ch (manuel bronstein)\n\n"]
}
,
{
"cell_type" : "code",
"execution_count": null,
"metadata" : {
    "collapsed" : false
},
"source" : [")clear all"],
"outputs": []
}
,
{
"cell_type" : "code",
"execution_count": null,
"metadata" : {
    "collapsed" : false
},
"source" : ["r:=rule 'x == 1"],
"outputs": []
}
,
{
"cell_type" : "markdown",
"metadata" : {},
"source" : [" used to return x, now returns 1\n"]
}
,
{
"cell_type" : "code",
"execution_count": null,
"metadata" : {
    "collapsed" : false
},
"source" : ["r x"],
"outputs": []
}
,
{
"cell_type" : "markdown",
"metadata" : {},
"source" : ["\n ADK@scri.fsu.edu (tony kennedy)\n\n"]
}
,
{
"cell_type" : "code",
"execution_count": null,
"metadata" : {
    "collapsed" : false
},
"source" : [")clear all"],
"outputs": []
}
,
{
"cell_type" : "code",
"execution_count": null,
"metadata" : {
    "collapsed" : false
},
"source" : ["factor(-12)"],
"outputs": []
}
,
{
"cell_type" : "code",
"execution_count": null,
"metadata" : {
    "collapsed" : false
},
"source" : ["%^2"],
"outputs": []
}
,
{
"cell_type" : "markdown",
"metadata" : {},
"source" : ["\n bronstei@inf.ethz.ch (manuel bronstein)\n >> Error: cannot retract nonconstant polynomial\n\n"]
}
,
{
"cell_type" : "code",
"execution_count": null,
"metadata" : {
    "collapsed" : false
},
"source" : [")clear all"],
"outputs": []
}
,
{
"cell_type" : "code",
"execution_count": null,
"metadata" : {
    "collapsed" : false
},
"source" : ["complexNumeric(log(sqrt(-3)))"],
"outputs": []
}
,
{
"cell_type" : "markdown",
"metadata" : {},
"source" : ["\n quitte@knuth.univ-poitiers.fr/8/15/93 (Claude Quitte)\n\n"]
}
,
{
"cell_type" : "code",
"execution_count": null,
"metadata" : {
    "collapsed" : false
},
"source" : [")clear all"],
"outputs": []
}
,
{
"cell_type" : "markdown",
"metadata" : {},
"source" : [")abbreviation package TEST Test\n\nTest() : with\n\n   leftProductBy : Integer -> (Integer -> Integer)\n   rightProductBy : Integer -> Mapping(Integer, Integer)\n\n == add\n\n   leftProductBy(n) == n * #1\n\n   rightProductBy(n : Integer) : Mapping(Integer, Integer) == #1 * n\n\n\nWhy is it impossible to specify the target/cible types for the\nfunctions leftProductBy and rightProductBy in the body of the package ???\n\nThe code for leftProductBy is correct but the code for rightProductBy\ntroubles the compiler !!!! It seems to compile a LOCAL function with\nANOTHER signature.\n\n\n   initializing NRLIB TEST for Test\n   compiling into NRLIB TEST\n   compiling exported leftProductBy : Integer -> Integer -> Integer\nTime: 0.35 SEC.\n\n   compiling local rightProductBy : Integer -> Integer\n^^^ comp fails at level 2 with expression: ^^^\nerror in function rightProductBy\n\n^^^ level 2  ^^^\n$x:= #1\n$m:= $EmptyMode\n$f:=\n((((|n| # #) (|rightProductBy| # # #) (|n| #) (|rightProductBy| # # #) ...)))\n\n   >> Apparent user error:\n   no mode found for\n   #1\n   You are being returned to the top level of the interpreter.\n\n answer (barry):\n\nYour problem in TEST about specifying target types which are Mapping's\nwas a bug in the compiler and has been fixed for Axiom release 2.0.\n\n"]
}
,
{
"cell_type" : "markdown",
"metadata" : {},
"source" : ["\n bronstei@inf.ethz.ch/10/6/93 (Manuel Bronstein)\n\n"]
}
,
{
"cell_type" : "code",
"execution_count": null,
"metadata" : {
    "collapsed" : false
},
"source" : [")clear all"],
"outputs": []
}
,
{
"cell_type" : "markdown",
"metadata" : {},
"source" : ["Here is an updated efstruc.spad where ker2trigs now knows about abs.\n"]
}
,
{
"cell_type" : "code",
"execution_count": null,
"metadata" : {
    "collapsed" : false
},
"source" : ["real abs(4 + %i * 5) -- does the right thing."],
"outputs": []
}
,
{
"cell_type" : "markdown",
"metadata" : {},
"source" : ["\n bronstei@inf.ethz.ch/10/5/93 (Manuel Bronstein)\n\n"]
}
,
{
"cell_type" : "code",
"execution_count": null,
"metadata" : {
    "collapsed" : false
},
"source" : [")clear all"],
"outputs": []
}
,
{
"cell_type" : "markdown",
"metadata" : {},
"source" : ["Here is again an enhanced elemntry.spad. What happens now is that\n"]
}
,
{
"cell_type" : "code",
"execution_count": null,
"metadata" : {
    "collapsed" : false
},
"source" : ["exp(q * %i * %pi)"],
"outputs": []
}
,
{
"cell_type" : "markdown",
"metadata" : {},
"source" : ["gets automatically simplifed whenever q is a rational number whose\ndenominator is one of  {1,2,3,4,6}.\n"]
}
,
{
"cell_type" : "code",
"execution_count": null,
"metadata" : {
    "collapsed" : false
},
"source" : ["exp(5/3*%i*%pi)"],
"outputs": []
}
,
{
"cell_type" : "markdown",
"metadata" : {},
"source" : ["\n bronstei@inf.ethz.ch/10/4/93 (Manuel Bronstein)\n luczak@nag.com (Richard Luczak)\n\n"]
}
,
{
"cell_type" : "code",
"execution_count": null,
"metadata" : {
    "collapsed" : false
},
"source" : [")clear all"],
"outputs": []
}
,
{
"cell_type" : "code",
"execution_count": null,
"metadata" : {
    "collapsed" : false
},
"source" : ["exp(log(-1))"],
"outputs": []
}
,
{
"cell_type" : "code",
"execution_count": null,
"metadata" : {
    "collapsed" : false
},
"source" : ["sum((-1)^k * (k+m),k=0..n)"],
"outputs": []
}
,
{
"cell_type" : "markdown",
"metadata" : {},
"source" : ["\n bronstei@inf.ethz.ch/10/4/93 (Manuel Bronstein)\n\n"]
}
,
{
"cell_type" : "code",
"execution_count": null,
"metadata" : {
    "collapsed" : false
},
"source" : [")clear all"],
"outputs": []
}
,
{
"cell_type" : "markdown",
"metadata" : {},
"source" : ["simplifies (abs now checks quotients instead of just retraction to R).\n"]
}
,
{
"cell_type" : "code",
"execution_count": null,
"metadata" : {
    "collapsed" : false
},
"source" : ["abs((1/2)::EXPR(INT))"],
"outputs": []
}
,
{
"cell_type" : "markdown",
"metadata" : {},
"source" : ["\n bronstei@inf.ethz.ch/10/4/93 (Manuel Bronstein)\n\n"]
}
,
{
"cell_type" : "code",
"execution_count": null,
"metadata" : {
    "collapsed" : false
},
"source" : [")clear all"],
"outputs": []
}
,
{
"cell_type" : "code",
"execution_count": null,
"metadata" : {
    "collapsed" : false
},
"source" : ["integrate(1/(x^2 + %i*a),x)"],
"outputs": []
}
,
{
"cell_type" : "markdown",
"metadata" : {},
"source" : ["\n bmt@spadserv.watson.ibm.com/9/28/93 (Barry Trager)\n\n"]
}
,
{
"cell_type" : "code",
"execution_count": null,
"metadata" : {
    "collapsed" : false
},
"source" : [")clear all"],
"outputs": []
}
,
{
"cell_type" : "code",
"execution_count": null,
"metadata" : {
    "collapsed" : false
},
"source" : ["limit(1/2^n,n=%plusInfinity)"],
"outputs": []
}
,
{
"cell_type" : "markdown",
"metadata" : {},
"source" : ["\n bronstei@inf.ethz.ch/9/22/93 (Manuel Bronstein)\n\n ')clear all' messes kernel cache which leads to wrong result\n since we are testing different thing here we use\n ')clear completely' to avoid the problem\n"]
}
,
{
"cell_type" : "code",
"execution_count": null,
"metadata" : {
    "collapsed" : false
},
"source" : [")clear completely"],
"outputs": []
}
,
{
"cell_type" : "markdown",
"metadata" : {},
"source" : ["Here is an update to efstruc.spad that handles complex constants much better.\nNegative square roots and negative logs are now recognized as complex and\ntreated properly by real?, real, imag, and complexForm:\n"]
}
,
{
"cell_type" : "code",
"execution_count": null,
"metadata" : {
    "collapsed" : false
},
"source" : ["x := sqrt(-3) + sqrt 2 + sqrt(- exp a) + log(-a^2-1)"],
"outputs": []
}
,
{
"cell_type" : "code",
"execution_count": null,
"metadata" : {
    "collapsed" : false
},
"source" : ["real? x"],
"outputs": []
}
,
{
"cell_type" : "code",
"execution_count": null,
"metadata" : {
    "collapsed" : false
},
"source" : ["real x"],
"outputs": []
}
,
{
"cell_type" : "code",
"execution_count": null,
"metadata" : {
    "collapsed" : false
},
"source" : ["imag x"],
"outputs": []
}
,
{
"cell_type" : "markdown",
"metadata" : {},
"source" : ["As a result, integrals involving sqrt(-2) etc... are now treated correctly\n(this was the case only for sqrt(-1) with the older version).\n"]
}
,
{
"cell_type" : "markdown",
"metadata" : {},
"source" : ["\n bronstei@inf.ethz.ch/9/22/93 (Manuel Bronstein)\n\n"]
}
,
{
"cell_type" : "code",
"execution_count": null,
"metadata" : {
    "collapsed" : false
},
"source" : [")clear all"],
"outputs": []
}
,
{
"cell_type" : "markdown",
"metadata" : {},
"source" : [">> haha := rule x*x == z\n>> haha(a*a + b*b + c^2)        -->  3z\n>> haha(a*a + b*b + c^2 + d*d)  -->  z\n>>\n>> the bug is that the last line returns z instead of 4z.\n\nSorry guys, this is not a bug: haha is so general a rule that it matches\nthe integer 4 (as 2 squared), so the rewrite chain for the last example is:\n\na*a + b*b + c^2 + d*d  --->  z + z + z + z  = 4 * z ---> z * z ---> z\n\nHere is a console showing what exactly happens:\n"]
}
,
{
"cell_type" : "code",
"execution_count": null,
"metadata" : {
    "collapsed" : false
},
"source" : ["haha := rule x*x == z"],
"outputs": []
}
,
{
"cell_type" : "code",
"execution_count": null,
"metadata" : {
    "collapsed" : false
},
"source" : ["haha 4"],
"outputs": []
}
,
{
"cell_type" : "code",
"execution_count": null,
"metadata" : {
    "collapsed" : false
},
"source" : ["haha 3"],
"outputs": []
}
,
{
"cell_type" : "code",
"execution_count": null,
"metadata" : {
    "collapsed" : false
},
"source" : ["haha(4*z)"],
"outputs": []
}
,
{
"cell_type" : "code",
"execution_count": null,
"metadata" : {
    "collapsed" : false
},
"source" : ["haha(3*z)"],
"outputs": []
}
,
{
"cell_type" : "markdown",
"metadata" : {},
"source" : ["To see the whole rewrite chain:\n"]
}
,
{
"cell_type" : "code",
"execution_count": null,
"metadata" : {
    "collapsed" : false
},
"source" : ["a*a + b*b + c^2 + d*d"],
"outputs": []
}
,
{
"cell_type" : "code",
"execution_count": null,
"metadata" : {
    "collapsed" : false
},
"source" : ["applyRules([haha], %, 1)$APPRULE(INT,INT,EXPR INT)"],
"outputs": []
}
,
{
"cell_type" : "code",
"execution_count": null,
"metadata" : {
    "collapsed" : false
},
"source" : ["applyRules([haha], %, 1)$APPRULE(INT,INT,EXPR INT)"],
"outputs": []
}
,
{
"cell_type" : "code",
"execution_count": null,
"metadata" : {
    "collapsed" : false
},
"source" : ["applyRules([haha], %, 1)$APPRULE(INT,INT,EXPR INT)"],
"outputs": []
}
,
{
"cell_type" : "markdown",
"metadata" : {},
"source" : ["I think it's actually the proper behavior for the pattern matcher. This\nexample shows that rules can bite, something Mma users are quite aware about!\n"]
}
,
{
"cell_type" : "markdown",
"metadata" : {},
"source" : ["\n dewar/9/16/93 (mike dewar)\n\nThere's an odd discontinuity about the behaviour of the following\nfunction:\n"]
}
,
{
"cell_type" : "code",
"execution_count": null,
"metadata" : {
    "collapsed" : false
},
"source" : ["harm(1) == 1"],
"outputs": []
}
,
{
"cell_type" : "code",
"execution_count": null,
"metadata" : {
    "collapsed" : false
},
"source" : ["harm(n) == harm(n-1) + 1/n"],
"outputs": []
}
,
{
"cell_type" : "code",
"execution_count": null,
"metadata" : {
    "collapsed" : false
},
"source" : ["harm : Integer -> Fraction Integer"],
"outputs": []
}
,
{
"cell_type" : "code",
"execution_count": null,
"metadata" : {
    "collapsed" : false
},
"source" : ["harm(1023) -- takes a little while, as expected"],
"outputs": []
}
,
{
"cell_type" : "code",
"execution_count": null,
"metadata" : {
    "collapsed" : false
},
"source" : ["harm(1024) -- takes forever?"],
"outputs": []
}
,
{
"cell_type" : "markdown",
"metadata" : {},
"source" : ["\n williams@inf.ethz.ch/9/1/93 (Clifton Williamson)\n\n> we should probably support integrate(%,x) on series types.\n> x could be either the variable of expansion or a parameter variable.\n\nWe've discussed this before with regard to the function 'differentiate'.\nThe technical problem is that \"generalized\" power series may have\n\"coefficients\" involving the series variable:\n"]
}
,
{
"cell_type" : "code",
"execution_count": null,
"metadata" : {
    "collapsed" : false
},
"source" : [")clear all"],
"outputs": []
}
,
{
"cell_type" : "code",
"execution_count": null,
"metadata" : {
    "collapsed" : false
},
"source" : ["series(x^x,x=0)"],
"outputs": []
}
,
{
"cell_type" : "markdown",
"metadata" : {},
"source" : ["In this case, as currently implemented, 'differentiate' returns incorrect\nanswers:\n"]
}
,
{
"cell_type" : "code",
"execution_count": null,
"metadata" : {
    "collapsed" : false
},
"source" : [")set mess test off"],
"outputs": []
}
,
{
"cell_type" : "code",
"execution_count": null,
"metadata" : {
    "collapsed" : false
},
"source" : ["differentiate %"],
"outputs": []
}
,
{
"cell_type" : "code",
"execution_count": null,
"metadata" : {
    "collapsed" : false
},
"source" : [")set mess test on"],
"outputs": []
}
,
{
"cell_type" : "markdown",
"metadata" : {},
"source" : ["The solution we discussed (perhaps \"resolution\" is a better word) was to\ncreate a separate series type for generalized series.  This would be a\ncarbon copy of UPXS, except that differentiate(series,variable(series)) and\nintegrate(series,variable(series)) would return an error message.  The\nerror message could also suggest that the user first apply 'approximate',\nthen compute a derivative or integral.  We would also have a coercion from\nUPXS to this type.  The function 'series' would return a UPXS, when the\ncoefficients do not involve the series variable, and a \"generalized series\",\nwhen the coefficients involve the series variable.\n\nIf this sounds cool to you, I'll go ahead with it when I have time.  (I'm\ntrying to meet a 16 September deadline for a MEGA '94 submission.  I'm still\ngetting my results together, so time is tight.  Let me know if there is a\ntime deadline for the AXIOM code!)\n\n> Also we need better tools for taking finite truncations of series objects.\n> In particular since we now mostly use series(expr,var) to create a series,\n> UPXS if over a coefficient domain which supports the symbol of expansion,\n> should be able to truncate a series to an EXPR.\n\nI thought I had you on this one!  The signature is there (in pscat.spad):\n\n    if Coef has coerce: Symbol -> Coef then\n      if Coef has \"^\":(Coef,Expon) -> Coef then\n        approximate: ($,Expon) -> Coef\n          ++ \spad{approximate(f)} returns a truncated power series with the\n          ++ series variable viewed as an element of the coefficient domain.\n\nIt certainly works for Laurent series:\n"]
}
,
{
"cell_type" : "code",
"execution_count": null,
"metadata" : {
    "collapsed" : false
},
"source" : ["laurent(cos(a+x)/x,x=0)"],
"outputs": []
}
,
{
"cell_type" : "code",
"execution_count": null,
"metadata" : {
    "collapsed" : false
},
"source" : ["approximate(%,3)"],
"outputs": []
}
,
{
"cell_type" : "markdown",
"metadata" : {},
"source" : ["But, unfortunately, I never implemented it for Puiseux series:\n"]
}
,
{
"cell_type" : "code",
"execution_count": null,
"metadata" : {
    "collapsed" : false
},
"source" : ["puiseux(cos(a+x)/x,x=0)"],
"outputs": []
}
,
{
"cell_type" : "code",
"execution_count": null,
"metadata" : {
    "collapsed" : false
},
"source" : ["approximate(%,3)"],
"outputs": []
}
,
{
"cell_type" : "code",
"execution_count": null,
"metadata" : {
    "collapsed" : false
},
"source" : ["series(cos(x^(2/3) + a),x=0)"],
"outputs": []
}
,
{
"cell_type" : "code",
"execution_count": null,
"metadata" : {
    "collapsed" : false
},
"source" : ["approximate(%,2)"],
"outputs": []
}
,
{
"cell_type" : "code",
"execution_count": null,
"metadata" : {
    "collapsed" : false
},
"source" : ["approximate(%% 1,7/5)"],
"outputs": []
}
,
{
"cell_type" : "markdown",
"metadata" : {},
"source" : ["\n bronstei@inf.ethz.ch/10/6/93 (manuel bronstein)\n\n"]
}
,
{
"cell_type" : "code",
"execution_count": null,
"metadata" : {
    "collapsed" : false
},
"source" : [")clear all"],
"outputs": []
}
,
{
"cell_type" : "code",
"execution_count": null,
"metadata" : {
    "collapsed" : false
},
"source" : [")set message type off"],
"outputs": []
}
,
{
"cell_type" : "markdown",
"metadata" : {},
"source" : [" Here is algfunc.spad with an old bug fixed: eventh-roots of negative floats\n coerced to EXPR FLOAT (e.g. sqrt(-1::EXPR FLOAT)) used to produced an error\n message since the sqrt from FLOAT was called.\n I have now fixed iroot from AF(R,)\n to call the sqrt from R only if either R is algebraically closed, or the\n root is odd, or the argument is positive. Here's the new behaviour:\n"]
}
,
{
"cell_type" : "code",
"execution_count": null,
"metadata" : {
    "collapsed" : false
},
"source" : ["sqrt(-1::EXPR FLOAT)"],
"outputs": []
}
,
{
"cell_type" : "code",
"execution_count": null,
"metadata" : {
    "collapsed" : false
},
"source" : ["sqrt(2::EXPR FLOAT)"],
"outputs": []
}
,
{
"cell_type" : "code",
"execution_count": null,
"metadata" : {
    "collapsed" : false
},
"source" : ["nthRoot(-2::EXPR FLOAT, 3)"],
"outputs": []
}
,
{
"cell_type" : "code",
"execution_count": null,
"metadata" : {
    "collapsed" : false
},
"source" : ["nthRoot(-2::EXPR FLOAT, 4)"],
"outputs": []
}
,
{
"cell_type" : "markdown",
"metadata" : {},
"source" : ["As a side-effect, this fixes the problem with numeric\n (which was instantiating sqrt(-1)$EXPR(FLOAT)).\n"]
}
,
{
"cell_type" : "markdown",
"metadata" : {},
"source" : ["\n jhd@maths.bath.ac.uk/8/15/93 James Davenport\n\n"]
}
,
{
"cell_type" : "code",
"execution_count": null,
"metadata" : {
    "collapsed" : false
},
"source" : [")clear all"],
"outputs": []
}
,
{
"cell_type" : "code",
"execution_count": null,
"metadata" : {
    "collapsed" : false
},
"source" : ["integrate(1/(x*(log(x)^2+a^2-1)),x)"],
"outputs": []
}
,
{
"cell_type" : "markdown",
"metadata" : {},
"source" : ["   (1)\n   VCONCAT\n                             log(x)\n                       atan(---------)\n                             +------+\n                             | 2\n           2                \|a  - 1\n      ((- a  + 1<0) -> ---------------)\n                           +------+\n                           | 2\n                          \|a  - 1\n  ,\n      PAREN\n               2\n           (- a  + 1>0)\n         ->\n                                      +--------+\n                          2    2      |   2           2\n               log((log(x)  - a  + 1)\|- a  + 1  + (2a  - 2)log(x))\n             +\n                           2    2\n               - log(log(x)  + a  - 1)\n          /\n               +--------+\n               |   2\n             2\|- a  + 1\n  ,\n                            1\n      ( Or (a - 1=0) -> - ------)\n           (a + 1=0)      log(x)\n                                          Type: ConditionalExpression Integer\n\nis still fairly ugly.\n"]
}
,
{
"cell_type" : "markdown",
"metadata" : {},
"source" : ["\n bronstei@inf.ethz.ch/8/9/93 (manuel bronstein)\n\n"]
}
,
{
"cell_type" : "code",
"execution_count": null,
"metadata" : {
    "collapsed" : false
},
"source" : [")clear all"],
"outputs": []
}
,
{
"cell_type" : "markdown",
"metadata" : {},
"source" : ["Here is efstruc.spad with a change to normalize so that\n"]
}
,
{
"cell_type" : "code",
"execution_count": null,
"metadata" : {
    "collapsed" : false
},
"source" : ["normalize(2^(1/2) + 2^(1/4)) -- now returns  2^(1/4) ^ 2 + 2^(1/4)."],
"outputs": []
}
,
{
"cell_type" : "markdown",
"metadata" : {},
"source" : ["\n satoshi@yktvmv.vnet.ibm.com/8/7/93 satoshi hamaguchi\n\n"]
}
,
{
"cell_type" : "code",
"execution_count": null,
"metadata" : {
    "collapsed" : false
},
"source" : [")clear all"],
"outputs": []
}
,
{
"cell_type" : "markdown",
"metadata" : {},
"source" : [" In axiom, both\n"]
}
,
{
"cell_type" : "code",
"execution_count": null,
"metadata" : {
    "collapsed" : false
},
"source" : ["integrate(%e^x,x=0..1)"],
"outputs": []
}
,
{
"cell_type" : "markdown",
"metadata" : {},
"source" : ["and\n"]
}
,
{
"cell_type" : "code",
"execution_count": null,
"metadata" : {
    "collapsed" : false
},
"source" : ["integrate(log(x),x=1..2)"],
"outputs": []
}
,
{
"cell_type" : "markdown",
"metadata" : {},
"source" : ["yield a warning  potentialPole    .\nIf I use \"noPole\", they give right answers. Isn't this a bug?\n... Satoshi\n"]
}
,
{
"cell_type" : "markdown",
"metadata" : {},
"source" : ["\n bronstei@inf.ethz.ch/8/5/93 (manuel bronstein)\n\n"]
}
,
{
"cell_type" : "code",
"execution_count": null,
"metadata" : {
    "collapsed" : false
},
"source" : [")clear all"],
"outputs": []
}
,
{
"cell_type" : "code",
"execution_count": null,
"metadata" : {
    "collapsed" : false
},
"source" : ["simplify(2^(1/3)*2^(1/2)) -- will return 2^(5/6)."],
"outputs": []
}
,
{
"cell_type" : "markdown",
"metadata" : {},
"source" : ["\n bronstei@inf.ethz.ch/8/4/93 (manuel bronstein)\n\n"]
}
,
{
"cell_type" : "code",
"execution_count": null,
"metadata" : {
    "collapsed" : false
},
"source" : [")clear all"],
"outputs": []
}
,
{
"cell_type" : "code",
"execution_count": null,
"metadata" : {
    "collapsed" : false
},
"source" : ["integrate(1/sqrt(1+cos(x)), x)"],
"outputs": []
}
,
{
"cell_type" : "markdown",
"metadata" : {},
"source" : ["\n bronstei@inf.ethz.ch/8/4/93 (manuel bronstein)\n\n"]
}
,
{
"cell_type" : "code",
"execution_count": null,
"metadata" : {
    "collapsed" : false
},
"source" : [")clear all"],
"outputs": []
}
,
{
"cell_type" : "code",
"execution_count": null,
"metadata" : {
    "collapsed" : false
},
"source" : ["normalize atan(cos(x)/sin(x))  -- used to be division by 0 error"],
"outputs": []
}
,
{
"cell_type" : "markdown",
"metadata" : {},
"source" : ["\n bronstei@inf.ethz.ch/8/4/93 (manuel bronstein)\n\n"]
}
,
{
"cell_type" : "code",
"execution_count": null,
"metadata" : {
    "collapsed" : false
},
"source" : [")clear all"],
"outputs": []
}
,
{
"cell_type" : "code",
"execution_count": null,
"metadata" : {
    "collapsed" : false
},
"source" : ["a := 2^(1/6)"],
"outputs": []
}
,
{
"cell_type" : "code",
"execution_count": null,
"metadata" : {
    "collapsed" : false
},
"source" : ["[a^n for n in 2..13]"],
"outputs": []
}
,
{
"cell_type" : "markdown",
"metadata" : {},
"source" : ["\n bronstei@inf.ethz.ch/8/4/93 (manuel bronstein)\n\n"]
}
,
{
"cell_type" : "code",
"execution_count": null,
"metadata" : {
    "collapsed" : false
},
"source" : [")clear all"],
"outputs": []
}
,
{
"cell_type" : "code",
"execution_count": null,
"metadata" : {
    "collapsed" : false
},
"source" : ["int:=sqrt(a*(1-u^2)/(1+u^2))/u"],
"outputs": []
}
,
{
"cell_type" : "code",
"execution_count": null,
"metadata" : {
    "collapsed" : false
},
"source" : ["integrate(eval(int,a=1),u) -- works"],
"outputs": []
}
,
{
"cell_type" : "code",
"execution_count": null,
"metadata" : {
    "collapsed" : false
},
"source" : ["integrate(eval(int,a=sqrt(-1)),u) -- seems to run forever"],
"outputs": []
}
,
{
"cell_type" : "code",
"execution_count": null,
"metadata" : {
    "collapsed" : false
},
"source" : ["integrate(eval(int,a=1)*(-1)^(1/4),u) -- dies after a long time\n -- with an elt index error."],
"outputs": []
}
,
{
"cell_type" : "markdown",
"metadata" : {},
"source" : ["\n bronstei@inf.ethz.ch/7/26/93 (manuel bronstein)\n\n"]
}
,
{
"cell_type" : "code",
"execution_count": null,
"metadata" : {
    "collapsed" : false
},
"source" : [")clear all"],
"outputs": []
}
,
{
"cell_type" : "code",
"execution_count": null,
"metadata" : {
    "collapsed" : false
},
"source" : ["rad:=last zerosOf((2+y)^8-3,y)"],
"outputs": []
}
,
{
"cell_type" : "code",
"execution_count": null,
"metadata" : {
    "collapsed" : false
},
"source" : ["k:=first kernels %"],
"outputs": []
}
,
{
"cell_type" : "code",
"execution_count": null,
"metadata" : {
    "collapsed" : false
},
"source" : ["eval(rad,k,rad)"],
"outputs": []
}
,
{
"cell_type" : "markdown",
"metadata" : {},
"source" : ["\n nagttt@vax.ox.ac.uk/7/15/93 themos tsikas\n\n"]
}
,
{
"cell_type" : "code",
"execution_count": null,
"metadata" : {
    "collapsed" : false
},
"source" : [")clear all"],
"outputs": []
}
,
{
"cell_type" : "code",
"execution_count": null,
"metadata" : {
    "collapsed" : false
},
"source" : ["f := (x - y) / (x + y)"],
"outputs": []
}
,
{
"cell_type" : "code",
"execution_count": null,
"metadata" : {
    "collapsed" : false
},
"source" : ["eval(f,x=1/x)"],
"outputs": []
}
,
{
"cell_type" : "markdown",
"metadata" : {},
"source" : ["\n nagttt@vax.ox.ac.uk/7/15/93 themos tsikas\n\n"]
}
,
{
"cell_type" : "code",
"execution_count": null,
"metadata" : {
    "collapsed" : false
},
"source" : [")clear all"],
"outputs": []
}
,
{
"cell_type" : "code",
"execution_count": null,
"metadata" : {
    "collapsed" : false
},
"source" : ["digits 200"],
"outputs": []
}
,
{
"cell_type" : "markdown",
"metadata" : {},
"source" : ["I claim that these two should give the same result (they do in Reduce):\n(precision was 200)\n"]
}
,
{
"cell_type" : "code",
"execution_count": null,
"metadata" : {
    "collapsed" : false
},
"source" : ["a:=4*sin(2*%pi/9)*sin(5*%pi/9)/sqrt(3)"],
"outputs": []
}
,
{
"cell_type" : "code",
"execution_count": null,
"metadata" : {
    "collapsed" : false
},
"source" : ["b:=1/(2*sin(%pi/9))"],
"outputs": []
}
,
{
"cell_type" : "code",
"execution_count": null,
"metadata" : {
    "collapsed" : false
},
"source" : ["a::EXPR FLOAT"],
"outputs": []
}
,
{
"cell_type" : "code",
"execution_count": null,
"metadata" : {
    "collapsed" : false
},
"source" : ["b::EXPR FLOAT"],
"outputs": []
}
,
{
"cell_type" : "markdown",
"metadata" : {},
"source" : ["\n bmt@spadserv.watson.ibm.com/9/15/93 (Barry Trager)\n\n"]
}
,
{
"cell_type" : "code",
"execution_count": null,
"metadata" : {
    "collapsed" : false
},
"source" : [")clear all"],
"outputs": []
}
,
{
"cell_type" : "code",
"execution_count": null,
"metadata" : {
    "collapsed" : false
},
"source" : ["limit(tanh(x),x=%plusInfinity)"],
"outputs": []
}
,
{
"cell_type" : "markdown",
"metadata" : {},
"source" : ["\n bronstei@inf.ethz.ch/6/14/93 (manuel bronstein)\n\n"]
}
,
{
"cell_type" : "code",
"execution_count": null,
"metadata" : {
    "collapsed" : false
},
"source" : [")clear all"],
"outputs": []
}
,
{
"cell_type" : "code",
"execution_count": null,
"metadata" : {
    "collapsed" : false
},
"source" : ["a := x::EXPR INT"],
"outputs": []
}
,
{
"cell_type" : "code",
"execution_count": null,
"metadata" : {
    "collapsed" : false
},
"source" : ["b := x::EXPR COMPLEX INT"],
"outputs": []
}
,
{
"cell_type" : "code",
"execution_count": null,
"metadata" : {
    "collapsed" : false
},
"source" : ["zeroOf(a^4+1,x)"],
"outputs": []
}
,
{
"cell_type" : "code",
"execution_count": null,
"metadata" : {
    "collapsed" : false
},
"source" : ["zeroOf(b^4+1,x)"],
"outputs": []
}
,
{
"cell_type" : "markdown",
"metadata" : {},
"source" : ["\n bronstei@inf.ethz.ch/6/11/93 (manuel bronstein)\n\n"]
}
,
{
"cell_type" : "code",
"execution_count": null,
"metadata" : {
    "collapsed" : false
},
"source" : [")clear all"],
"outputs": []
}
,
{
"cell_type" : "code",
"execution_count": null,
"metadata" : {
    "collapsed" : false
},
"source" : ["normalize(0^a) -- now returns 0  (was crashing before)"],
"outputs": []
}
,
{
"cell_type" : "markdown",
"metadata" : {},
"source" : ["\n bronstei@inf.ethz.ch/6/11/93 (manuel bronstein)\n\n"]
}
,
{
"cell_type" : "code",
"execution_count": null,
"metadata" : {
    "collapsed" : false
},
"source" : [")clear all"],
"outputs": []
}
,
{
"cell_type" : "markdown",
"metadata" : {},
"source" : [" new export  complexForm(f)  which returns the rectangular complex form of f:\n"]
}
,
{
"cell_type" : "code",
"execution_count": null,
"metadata" : {
    "collapsed" : false
},
"source" : ["log(a+%i * b)"],
"outputs": []
}
,
{
"cell_type" : "code",
"execution_count": null,
"metadata" : {
    "collapsed" : false
},
"source" : ["complexForm %"],
"outputs": []
}
,
{
"cell_type" : "code",
"execution_count": null,
"metadata" : {
    "collapsed" : false
},
"source" : ["complexIntegrate(1/(x-%i),x)"],
"outputs": []
}
,
{
"cell_type" : "code",
"execution_count": null,
"metadata" : {
    "collapsed" : false
},
"source" : ["complexForm %"],
"outputs": []
}
,
{
"cell_type" : "markdown",
"metadata" : {},
"source" : ["\n jcf@posso.ibp.fr\n\n  normalForm est faux pour les polynomes a coef dans un anneau:\n"]
}
,
{
"cell_type" : "code",
"execution_count": null,
"metadata" : {
    "collapsed" : false
},
"source" : ["D:=DMP([a,b],INT)"],
"outputs": []
}
,
{
"cell_type" : "code",
"execution_count": null,
"metadata" : {
    "collapsed" : false
},
"source" : ["l:List D:=[2*a-1,b-a]"],
"outputs": []
}
,
{
"cell_type" : "code",
"execution_count": null,
"metadata" : {
    "collapsed" : false
},
"source" : ["g:=groebner l"],
"outputs": []
}
,
{
"cell_type" : "code",
"execution_count": null,
"metadata" : {
    "collapsed" : false
},
"source" : ["p:D:=a"],
"outputs": []
}
,
{
"cell_type" : "code",
"execution_count": null,
"metadata" : {
    "collapsed" : false
},
"source" : ["normalForm(p,g)"],
"outputs": []
}
,
{
"cell_type" : "markdown",
"metadata" : {},
"source" : [" was  1\n   au lieu de 1/2 !!\n"]
}
,
{
"cell_type" : "markdown",
"metadata" : {},
"source" : ["\n nagttt@vax.ox.ac.uk/6/9/93 themos tsikas\n\n"]
}
,
{
"cell_type" : "code",
"execution_count": null,
"metadata" : {
    "collapsed" : false
},
"source" : [")clear all"],
"outputs": []
}
,
{
"cell_type" : "code",
"execution_count": null,
"metadata" : {
    "collapsed" : false
},
"source" : ["squareFreePart(50)"],
"outputs": []
}
,
{
"cell_type" : "markdown",
"metadata" : {},
"source" : ["\n mcd@maths.bath.ac.uk/6/4/92 mike dewar\n\n"]
}
,
{
"cell_type" : "code",
"execution_count": null,
"metadata" : {
    "collapsed" : false
},
"source" : [")clear all"],
"outputs": []
}
,
{
"cell_type" : "code",
"execution_count": null,
"metadata" : {
    "collapsed" : false
},
"source" : ["f:=complexIntegrate(1/((x-%i)*(x-2*%i)),x)"],
"outputs": []
}
,
{
"cell_type" : "code",
"execution_count": null,
"metadata" : {
    "collapsed" : false
},
"source" : ["g:=subst(f,x=1)"],
"outputs": []
}
,
{
"cell_type" : "code",
"execution_count": null,
"metadata" : {
    "collapsed" : false
},
"source" : ["imag g"],
"outputs": []
}
,
{
"cell_type" : "markdown",
"metadata" : {},
"source" : ["\n daly\n\n"]
}
,
{
"cell_type" : "code",
"execution_count": null,
"metadata" : {
    "collapsed" : false
},
"source" : [")clear all"],
"outputs": []
}
,
{
"cell_type" : "markdown",
"metadata" : {},
"source" : [" not wrong but the order is obscure...\n"]
}
,
{
"cell_type" : "code",
"execution_count": null,
"metadata" : {
    "collapsed" : false
},
"source" : ["primes(1,10)"],
"outputs": []
}
,
{
"cell_type" : "markdown",
"metadata" : {},
"source" : ["\n nagttt@vax.ox.ac.uk/1/11/93 themos tsikas\n\n"]
}
,
{
"cell_type" : "code",
"execution_count": null,
"metadata" : {
    "collapsed" : false
},
"source" : [")clear all"],
"outputs": []
}
,
{
"cell_type" : "code",
"execution_count": null,
"metadata" : {
    "collapsed" : false
},
"source" : ["m:=matrix[[1,a,0],[b,0,a],[0,b,c]]"],
"outputs": []
}
,
{
"cell_type" : "code",
"execution_count": null,
"metadata" : {
    "collapsed" : false
},
"source" : ["ll:=radicalEigenvectors m"],
"outputs": []
}
,
{
"cell_type" : "markdown",
"metadata" : {},
"source" : [" ends in error:\n Internal system problem in function appInfix : fewer than 2 arguments to\n an infix function\n\n but this works\n"]
}
,
{
"cell_type" : "code",
"execution_count": null,
"metadata" : {
    "collapsed" : false
},
"source" : ["ll 1"],
"outputs": []
}
,
{
"cell_type" : "code",
"execution_count": null,
"metadata" : {
    "collapsed" : false
},
"source" : ["ll 2"],
"outputs": []
}
,
{
"cell_type" : "code",
"execution_count": null,
"metadata" : {
    "collapsed" : false
},
"source" : ["ll 3"],
"outputs": []
}
,
{
"cell_type" : "markdown",
"metadata" : {},
"source" : ["\n copper@yktvmv/12/1/93 Don Coppersmith\n\n"]
}
,
{
"cell_type" : "code",
"execution_count": null,
"metadata" : {
    "collapsed" : false
},
"source" : [")clear all"],
"outputs": []
}
,
{
"cell_type" : "markdown",
"metadata" : {},
"source" : ["Attached is the list of integers n such that 2^512-n is prime\nand n is between 0 and 5000:\n\n   4893,4653,4475,4005,3893,3669,3459,3143,2967,\n   2807,2529,1827,1695,975,875,629,569\n"]
}
,
{
"cell_type" : "markdown",
"metadata" : {},
"source" : ["It was gotten from Axiom by issuing the commands\n"]
}
,
{
"cell_type" : "code",
"execution_count": null,
"metadata" : {
    "collapsed" : false
},
"source" : ["qrimes : Stream Integer := stream(nextPrime, 2^512-5000)"],
"outputs": []
}
,
{
"cell_type" : "code",
"execution_count": null,
"metadata" : {
    "collapsed" : false
},
"source" : ["rrimes := [ 2^512-p for p in qrimes while p < 2^512 ]"],
"outputs": []
}
,
{
"cell_type" : "code",
"execution_count": null,
"metadata" : {
    "collapsed" : false
},
"source" : ["srimes := complete rrimes"],
"outputs": []
}
,
{
"cell_type" : "code",
"execution_count": null,
"metadata" : {
    "collapsed" : false
},
"source" : ["[srimes.i for i in [1..18]]"],
"outputs": []
}
,
{
"cell_type" : "code",
"execution_count": null,
"metadata" : {
    "collapsed" : false
},
"source" : ["[srimes.i for i in [10..18]]"],
"outputs": []
}
,
{
"cell_type" : "markdown",
"metadata" : {},
"source" : ["\n miker@num-alg-grp.co.uk/12/13/93 (Mike Richardson)\n\n"]
}
,
{
"cell_type" : "code",
"execution_count": null,
"metadata" : {
    "collapsed" : false
},
"source" : [")clear all"],
"outputs": []
}
,
{
"cell_type" : "markdown",
"metadata" : {},
"source" : ["\nThis is fixed now. You get an Expression Float.\n\n>\n> I suspect that this is an example of the same thing - but it looks\n> worse:\n>\n"]
}
,
{
"cell_type" : "code",
"execution_count": null,
"metadata" : {
    "collapsed" : false
},
"source" : ["X := log(0.7*%i*x)"],
"outputs": []
}
,
{
"cell_type" : "markdown",
"metadata" : {},
"source" : [">\n>    >> Error detected within library code:\n>    negative root\n>\n> Mike\n>\n"]
}
,
{
"cell_type" : "markdown",
"metadata" : {},
"source" : ["\n  sutor@yktpub.watson.ibm.com/12/15/93 (Robert S. Sutor)\n\n"]
}
,
{
"cell_type" : "code",
"execution_count": null,
"metadata" : {
    "collapsed" : false
},
"source" : [")clear all"],
"outputs": []
}
,
{
"cell_type" : "markdown",
"metadata" : {},
"source" : ["enter Integer in input box\nchoose domains\nchoose Description\nclick on Convertible(String)\n\npage cannot be formatted\n"]
}
,
{
"cell_type" : "markdown",
"metadata" : {},
"source" : ["\n bmt@posso.dm.unipi.it12/15/93 (barry trager)\n\n"]
}
,
{
"cell_type" : "code",
"execution_count": null,
"metadata" : {
    "collapsed" : false
},
"source" : [")clear all"],
"outputs": []
}
,
{
"cell_type" : "code",
"execution_count": null,
"metadata" : {
    "collapsed" : false
},
"source" : ["log2() --> Float"],
"outputs": []
}
,
{
"cell_type" : "code",
"execution_count": null,
"metadata" : {
    "collapsed" : false
},
"source" : ["exp1() --> DoubleFLoat ???"],
"outputs": []
}
,
{
"cell_type" : "markdown",
"metadata" : {},
"source" : ["\n  quitte@knuth.univ-poitiers.fr/12/14/93 Claude Quitte\n\n"]
}
,
{
"cell_type" : "code",
"execution_count": null,
"metadata" : {
    "collapsed" : false
},
"source" : [")clear all"],
"outputs": []
}
,
{
"cell_type" : "markdown",
"metadata" : {},
"source" : ["There is a bug in the function delete_! for the type List ; this function,\nhas two arguments, a list L and an integer n : delete_!(L, n) returns\na list L with the n nth-item deleted, MODIFYING its argument L.\n\nBut for n = 1, the argument L is not MODIFIED !!! (exactly for n =\nminIndex(L)). An extract of the package ListAggregate (abbreviation LSAGG,\nfile aggcat.spad).\n\n\n\nListAggregate(S:Object): Category == Join(StreamAggregate S,\n   FiniteLinearAggregate S, ExtensibleLinearAggregate S) with\n      list: S -> $\n      ++ list(x) returns the list of one element x.\n add\n   ..........\n\n   delete_!(x:$, i:I) ==\n     i < (m := minIndex x) => error \"index out of range\"\n     i = m => rest x                          ^^^ <- here is the error\n     y := rest(x, (i - 1 - m)::N)\n     setrest_!(y, rest(y, 2))\n     x\n\nA little session :\n\n"]
}
,
{
"cell_type" : "code",
"execution_count": null,
"metadata" : {
    "collapsed" : false
},
"source" : ["L : List(String) := [\"There is\", \"it seems\", \"a real bug\", \"here\"]"],
"outputs": []
}
,
{
"cell_type" : "markdown",
"metadata" : {},
"source" : ["   (1)  [\"There is\",\"it seems\",\"a real bug\",\"here\"]\n                                                            Type: List String\n\n"]
}
,
{
"cell_type" : "code",
"execution_count": null,
"metadata" : {
    "collapsed" : false
},
"source" : ["L1 := delete!(L, 1)"],
"outputs": []
}
,
{
"cell_type" : "markdown",
"metadata" : {},
"source" : ["   (2)  [\"it seems\",\"a real bug\",\"here\"]\n                                                            Type: List String\n"]
}
,
{
"cell_type" : "code",
"execution_count": null,
"metadata" : {
    "collapsed" : false
},
"source" : ["L"],
"outputs": []
}
,
{
"cell_type" : "markdown",
"metadata" : {},
"source" : ["   (3)  [\"There is\",\"it seems\",\"a real bug\",\"here\"]\n                                                            Type: List String\n\n"]
}
,
{
"cell_type" : "code",
"execution_count": null,
"metadata" : {
    "collapsed" : false
},
"source" : ["L2 := delete!(L, 2)"],
"outputs": []
}
,
{
"cell_type" : "markdown",
"metadata" : {},
"source" : ["   (4)  [\"There is\",\"a real bug\",\"here\"]\n                                                            Type: List String\n"]
}
,
{
"cell_type" : "code",
"execution_count": null,
"metadata" : {
    "collapsed" : false
},
"source" : ["L"],
"outputs": []
}
,
{
"cell_type" : "markdown",
"metadata" : {},
"source" : ["   (5)  [\"There is\",\"a real bug\",\"here\"]\n\nIs there a way to fix this bug quickly ?? (I am ready to modify the source\nAxiom aggcat.spad).\nThe problem with ! functions lies in the documentation not in the code. We\nneed to explain more clearly that ! functions are ALLOWED to update their\narguments, not REQUIRED to do so.\nWhenever using ! functions you should always\nuse the returned result, not try to use the updated argument. This is how\nthe code is designed.\nFor example if you try to do insert! into an empty list,\nthe argument is not updatable and thus a new list is created. The reason for\nhaving ! operations is for efficiency to do less copying, not to guarantee\nthat given arguments will always be updated. So the correct use is to only\ndepend on the results returned by updating functions.\n"]
}
,
{
"cell_type" : "markdown",
"metadata" : {},
"source" : ["\n  quitte@knuth.univ-poitiers.fr/1/13/94 Claude Quitte\n\n"]
}
,
{
"cell_type" : "code",
"execution_count": null,
"metadata" : {
    "collapsed" : false
},
"source" : [")clear all"],
"outputs": []
}
,
{
"cell_type" : "code",
"execution_count": null,
"metadata" : {
    "collapsed" : false
},
"source" : ["K := Fraction(Integer)"],
"outputs": []
}
,
{
"cell_type" : "code",
"execution_count": null,
"metadata" : {
    "collapsed" : false
},
"source" : ["PolK := UP('X, K)"],
"outputs": []
}
,
{
"cell_type" : "code",
"execution_count": null,
"metadata" : {
    "collapsed" : false
},
"source" : ["X : PolK := monomial(1, 1)"],
"outputs": []
}
,
{
"cell_type" : "code",
"execution_count": null,
"metadata" : {
    "collapsed" : false
},
"source" : ["n : PositiveInteger := 15"],
"outputs": []
}
,
{
"cell_type" : "code",
"execution_count": null,
"metadata" : {
    "collapsed" : false
},
"source" : ["E := SimpleAlgebraicExtension(K, PolK, X^n + X^(n-3) -1)"],
"outputs": []
}
,
{
"cell_type" : "code",
"execution_count": null,
"metadata" : {
    "collapsed" : false
},
"source" : ["y : E := X::E"],
"outputs": []
}
,
{
"cell_type" : "code",
"execution_count": null,
"metadata" : {
    "collapsed" : false
},
"source" : ["minimalPolynomial(y)$E"],
"outputs": []
}
,
{
"cell_type" : "markdown",
"metadata" : {},
"source" : ["\nInternal Error\nThe function minimalPolynomial with signature SimpleAlgebraicExtension(\nFraction Integer,UnivariatePolynomial(X,Fraction Integer),X^15+X^12-1)\n> UnivariatePolynomial(X,Fraction Integer) is missing from domain\nSimpleAlgebraicExtension(Fraction (Integer))\n(UnivariatePolynomial X (Fraction (Integer)))((15 1 . 1) (12 1 . 1) (0 -1 . 1))\n"]
}
,
{
"cell_type" : "markdown",
"metadata" : {},
"source" : ["\n luczak@nag.com/02/20/94 (Richard Luczak)\n\n"]
}
,
{
"cell_type" : "code",
"execution_count": null,
"metadata" : {
    "collapsed" : false
},
"source" : [")clear all"],
"outputs": []
}
,
{
"cell_type" : "markdown",
"metadata" : {},
"source" : ["\nI'm trying to define the following rule\n\n"]
}
,
{
"cell_type" : "code",
"execution_count": null,
"metadata" : {
    "collapsed" : false
},
"source" : ["tr := rule cos(x)^(n | integer? n and even? n)==(1-sin(x)^2)^(n/2)"],
"outputs": []
}
,
{
"cell_type" : "markdown",
"metadata" : {},
"source" : ["\nAxiom returns\n\n   Cannot find a definition or library operation named even? with argument\n   types\n                             Expression Integer\n\n   We will attempt to step through and interpret the code.\n\n                                  n\n                                  -\n              n             2     2\n   (2)  cos(x)  == (- sin(x)  + 1)\n                        Type: RewriteRule(Integer,Integer,Expression Integer)\n\n\nand henceforth the rule does not work as desired. Variations on the same bug\noccur involving positive?. Of course, I get what I want using integer?(n/2)\nbut ... Is this a bug?\n\n from barry:\n\nShould use integer? n and even? integer n  instead.\n\nI toyed with the idea of implementing:\n    even? x == integer? x and even? integer x\n    odd? x == integer? x and odd? integer x\nin EXPR, but this would mean that   (x +-> even? x or odd? x)  is not always\ntrue anymore and I'm not sure it's a good idea. If you guys don't think it's\na problem, it takes 2 minutes to add it to EXPR R when R has RETRACT INT\n(don't use integer? but retractIfCan@Union(Integer, \"failed\")).\n"]
}
,
{
"cell_type" : "markdown",
"metadata" : {},
"source" : ["\n copper@yktvmv.vnet.ibm.com/02/22/94 don coppersmith\n\n"]
}
,
{
"cell_type" : "code",
"execution_count": null,
"metadata" : {
    "collapsed" : false
},
"source" : [")clear all"],
"outputs": []
}
,
{
"cell_type" : "markdown",
"metadata" : {},
"source" : ["Questions that came up using Axiom on Aixproj:\n\nHow does one find a Pade approximation?  I tried  pade(2,2,y)\npade(y,2,2)  Pade(2,2,y)  PadeApproximation(2,2,y)\n(where y is a series in x) to no avail.\n\nComplaint: The error message\n\n    Could not find library function \"pade\" with arguments\n         (integer, integer, series).\n\nis misleading.  If it can't find any \"pade\", then say\n\n    Could not find library function \"pade\".\n\nIf there is such a function, but I've got the arguments wrong,\nwhy not say\n\n    The library function \"pade\" takes arguments\n          (series, integer, integer)\n\nor at least make that information available somehow.\n\n from bob sutor:\n\nDon,\n  Try using )what op pade  to see what is available. This will give\nyou all operations with \"pade\" in their names. You can also search for\n*pade* via the HyperDoc Browse utility. If you don't use Browse, following\nup with, say, )display op pade, will give you a more information, though\nit is badly formatted (I will look at that).\n\nAixproj is back-level, so I'm not sure exactly what is up their\nrelative to the current system.\n\nI agree we could use better messages regarding unknown functions\nand I will look at that.\n  Bob\n\n from bob sutor:\n\nThe pade operation requires a taylor series as its third object while\n\"series\" returns a UnivariatePuiseuxSeries. If you set\n  y := taylor(1+x)^(1/5)\nthen things work. You can also do\n  pade(1,1,y :: UTS(EXPR INT, x, 0) )\nbut this is more work if you really have a Taylor series.\n\nThis is unintuitive and there should be a \"pade\" for Puiseux series that\nfails if the series is not appropriate. Barry? I will now look at adding\na bit more coercion support to the interpreter to allow Puiseux series\nto possibly retract to Laurent series and then possibly to Taylor series.\n\nDon,\n  I added the retractions I mentioned before to the development system.\nWhen the system is unsuccessful in matching a UnivariatePuiseuxSeries\nto an operation, it will first try to retract it to a\nUnivariateLaurentSeries. If that fails still, it will try to retract to\na UnivariateTaylorSeries.\n\n  Be aware that this sort of thing happens when you are evaluating\nan expression. If you are defining a function, you should add\nexplicit coercions or create objects of the correct type for\nefficiency. You function may still work, but it may not run in\na compiled form.\n"]
}
,
{
"cell_type" : "markdown",
"metadata" : {},
"source" : ["\n barry@num-alg-grp.co.uk/02/24/94 Barry Trager\n\n"]
}
,
{
"cell_type" : "code",
"execution_count": null,
"metadata" : {
    "collapsed" : false
},
"source" : [")clear all"],
"outputs": []
}
,
{
"cell_type" : "code",
"execution_count": null,
"metadata" : {
    "collapsed" : false
},
"source" : ["sqrt(2)*2.0 -- fails"],
"outputs": []
}
,
{
"cell_type" : "code",
"execution_count": null,
"metadata" : {
    "collapsed" : false
},
"source" : ["sqrt(2)::EXPR INT * 2.0 -- works"],
"outputs": []
}
,
{
"cell_type" : "markdown",
"metadata" : {},
"source" : [" tpd: this now fails with sample : () -> Reference Integer is missing\n from domain: Integer\n Internal Error\n"]
}
,
{
"cell_type" : "markdown",
"metadata" : {},
"source" : ["\n bronstei@inf.ethz.ch/02/28/94 Manuel Bronstein\n\n"]
}
,
{
"cell_type" : "code",
"execution_count": null,
"metadata" : {
    "collapsed" : false
},
"source" : [")clear all"],
"outputs": []
}
,
{
"cell_type" : "code",
"execution_count": null,
"metadata" : {
    "collapsed" : false
},
"source" : ["f := exp(exp(x)*exp(1/exp(x))) / exp exp x"],
"outputs": []
}
,
{
"cell_type" : "markdown",
"metadata" : {},
"source" : [")tr LIMITPS )math\n)tr DFINTTLS )math\n)tr DFINTTLS_;findLimit\n the following exits back to the shell after limit returns \"failed\":\n"]
}
,
{
"cell_type" : "code",
"execution_count": null,
"metadata" : {
    "collapsed" : false
},
"source" : ["computeInt(first tower f, f, 0, %plusInfinity, false)$DFINTTLS(INT, EXPR INT)"],
"outputs": []
}
,
{
"cell_type" : "markdown",
"metadata" : {},
"source" : ["\n jhd@maths.bath.ac.uk/03/02/94 James Davenport\n\n"]
}
,
{
"cell_type" : "code",
"execution_count": null,
"metadata" : {
    "collapsed" : false
},
"source" : [")clear all"],
"outputs": []
}
,
{
"cell_type" : "markdown",
"metadata" : {},
"source" : ["I've fixed coercions of List and Vector to DirectProduct.\nYou can now do things like\n"]
}
,
{
"cell_type" : "code",
"execution_count": null,
"metadata" : {
    "collapsed" : false
},
"source" : ["[1,2,3] :: DirectProduct(3, Fraction Integer)"],
"outputs": []
}
,
{
"cell_type" : "markdown",
"metadata" : {},
"source" : ["\nI also fixed coercions from Vector to List, which seems to have\nbeen removed via a library change.\n"]
}
,
{
"cell_type" : "markdown",
"metadata" : {},
"source" : ["\n jhd@maths.bath.ac.uk/03/09/94 James Davenport\n\n"]
}
,
{
"cell_type" : "code",
"execution_count": null,
"metadata" : {
    "collapsed" : false
},
"source" : [")clear all"],
"outputs": []
}
,
{
"cell_type" : "markdown",
"metadata" : {},
"source" : [" used to give a lisp error\n"]
}
,
{
"cell_type" : "code",
"execution_count": null,
"metadata" : {
    "collapsed" : false
},
"source" : ["x^10+1::Polynomial PrimeField 2"],
"outputs": []
}
,
{
"cell_type" : "markdown",
"metadata" : {},
"source" : ["\n themos@num-alg-grp.co.uk/03/11/94 Themos Tsikas\n\n"]
}
,
{
"cell_type" : "code",
"execution_count": null,
"metadata" : {
    "collapsed" : false
},
"source" : [")clear all"],
"outputs": []
}
,
{
"cell_type" : "code",
"execution_count": null,
"metadata" : {
    "collapsed" : false
},
"source" : ["f(x)==x^2"],
"outputs": []
}
,
{
"cell_type" : "code",
"execution_count": null,
"metadata" : {
    "collapsed" : false
},
"source" : ["draw(f,-1..1)"],
"outputs": []
}
,
{
"cell_type" : "markdown",
"metadata" : {},
"source" : ["\n themos@num-alg-grp.co.uk/03/16/94 Themos Tsikas\n\n"]
}
,
{
"cell_type" : "code",
"execution_count": null,
"metadata" : {
    "collapsed" : false
},
"source" : [")clear all"],
"outputs": []
}
,
{
"cell_type" : "markdown",
"metadata" : {},
"source" : ["The problem was that nobody was around to catch the coerceOrCroaker.\nJust comment out the first line of intCodeGenCoerce1 in i-code.boot\n(the one with the explicit THROW). Bothe the riemannSphereDraw and JHD's\noriginal example will then work. -- bob sutor\n"]
}
,
{
"cell_type" : "code",
"execution_count": null,
"metadata" : {
    "collapsed" : false
},
"source" : [")read conformal"],
"outputs": []
}
,
{
"cell_type" : "code",
"execution_count": null,
"metadata" : {
    "collapsed" : false
},
"source" : ["riemannSphereDraw(1..2,0..%pi,4,4,\"polar\")"],
"outputs": []
}
,
{
"cell_type" : "code",
"execution_count": null,
"metadata" : {
    "collapsed" : false
},
"source" : ["--\n-- EOF\n--"],
"outputs": []
}
 ],
"metadata": {
 "kernelspec": {
  "display_name": "FriCAS",
  "language": "spad",
  "name": "ifricas"
 },
 "language_info": {
  "codemirror_mode": "spad",
  "mimetype": "text/x-spad",
  "name": "SPAD",
  "pygments_lexer": "spad",
  "version": "1.2.6"
 },
 "name": "fixed.ipynb"
},
"nbformat": 4,
"nbformat_minor": 0
}
