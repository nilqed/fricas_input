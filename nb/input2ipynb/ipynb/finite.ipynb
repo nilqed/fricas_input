{
 "cells": [
{
"cell_type" : "code",
"execution_count": null,
"metadata" : {
    "collapsed" : false
},
"source" : [")if false"],
"outputs": []
}
,
{
"cell_type" : "code",
"execution_count": null,
"metadata" : {
    "collapsed" : false
},
"source" : ["The following yields a list of all domains that may (possibly conditionally)"],
"outputs": []
}
,
{
"cell_type" : "code",
"execution_count": null,
"metadata" : {
    "collapsed" : false
},
"source" : ["export the Category [[Finite]]:"],
"outputs": []
}
,
{
"cell_type" : "code",
"execution_count": null,
"metadata" : {
    "collapsed" : false
},
"source" : ["\begin{verbatim}"],
"outputs": []
}
,
{
"cell_type" : "code",
"execution_count": null,
"metadata" : {
    "collapsed" : false
},
"source" : ["getDomains(cat: Symbol): Set Symbol =="],
"outputs": []
}
,
{
"cell_type" : "code",
"execution_count": null,
"metadata" : {
    "collapsed" : false
},
"source" : ["    set map(d +-> symbol first destruct first destruct d, _\n"],
"outputs": []
}
,
{
"cell_type" : "code",
"execution_count": null,
"metadata" : {
    "collapsed" : false
},
"source" : ["            destruct domainsOf(cat, nil)$Lisp)"],
"outputs": []
}
,
{
"cell_type" : "code",
"execution_count": null,
"metadata" : {
    "collapsed" : false
},
"source" : ["\end{verbatim}"],
"outputs": []
}
,
{
"cell_type" : "code",
"execution_count": null,
"metadata" : {
    "collapsed" : false
},
"source" : ["namely - as of revision 798"],
"outputs": []
}
,
{
"cell_type" : "code",
"execution_count": null,
"metadata" : {
    "collapsed" : false
},
"source" : ["\begin{verbatim}\n   {AlgebraicFunctionField, Boolean, Character, CharacterClass, Complex,\n    DirectProduct, DirectProductMatrixModule, DirectProductModule, FiniteField,\n    FiniteFieldCyclicGroup, FiniteFieldCyclicGroupExtension,\n    FiniteFieldCyclicGroupExtensionByPolynomial, FiniteFieldExtension,\n    FiniteFieldExtensionByPolynomial, FiniteFieldNormalBasis,\n    FiniteFieldNormalBasisExtension,\n    FiniteFieldNormalBasisExtensionByPolynomial, HomogeneousDirectProduct,\n    InnerFiniteField, InnerPrimeField, IntegerMod, LieSquareMatrix,\n    MachineComplex, ModMonic, MonoidRing, Octonion, OrderedDirectProduct,\n    OrderedVariableList, PrimeField, Product, RadicalFunctionField,\n    RectangularMatrix, Set, SetOfMIntegersInOneToN, SimpleAlgebraicExtension,\n    SplitHomogeneousDirectProduct, SquareMatrix}"],
"outputs": []
}
,
{
"cell_type" : "code",
"execution_count": null,
"metadata" : {
    "collapsed" : false
},
"source" : ["\end{verbatim}"],
"outputs": []
}
,
{
"cell_type" : "code",
"execution_count": null,
"metadata" : {
    "collapsed" : false
},
"source" : ["Actually, there is a bug: [[AlgebraicFunctionField]] and"],
"outputs": []
}
,
{
"cell_type" : "code",
"execution_count": null,
"metadata" : {
    "collapsed" : false
},
"source" : ["[[RadicalFunctionField]] do not export [[Finite]].  [[MachineComplex]] only"],
"outputs": []
}
,
{
"cell_type" : "code",
"execution_count": null,
"metadata" : {
    "collapsed" : false
},
"source" : ["exports [[Finite]] when [[MachineFloat]] does, but it doesn't."],
"outputs": []
}
,
{
"cell_type" : "code",
"execution_count": null,
"metadata" : {
    "collapsed" : false
},
"source" : ["For the others, we test whether [[lookup]] is the inverse of [[index]]."],
"outputs": []
}
,
{
"cell_type" : "code",
"execution_count": null,
"metadata" : {
    "collapsed" : false
},
"source" : ["For some we hit an internal error, thus we commented them out.  For others, we"],
"outputs": []
}
,
{
"cell_type" : "code",
"execution_count": null,
"metadata" : {
    "collapsed" : false
},
"source" : ["did not find an example domain -- namely because we have no"],
"outputs": []
}
,
{
"cell_type" : "code",
"execution_count": null,
"metadata" : {
    "collapsed" : false
},
"source" : ["[[OrderedAbelianMonoidSup]] with [[Finite]] currently."],
"outputs": []
}
,
{
"cell_type" : "code",
"execution_count": null,
"metadata" : {
    "collapsed" : false
},
"source" : [")endif"],
"outputs": []
}
,
{
"cell_type" : "code",
"execution_count": null,
"metadata" : {
    "collapsed" : false
},
"source" : [")set break resume"],
"outputs": []
}
,
{
"cell_type" : "code",
"execution_count": null,
"metadata" : {
    "collapsed" : false
},
"source" : [")expose UnittestCount UnittestAux Unittest"],
"outputs": []
}
,
{
"cell_type" : "code",
"execution_count": null,
"metadata" : {
    "collapsed" : false
},
"source" : [")set function compile off"],
"outputs": []
}
,
{
"cell_type" : "code",
"execution_count": null,
"metadata" : {
    "collapsed" : false
},
"source" : ["testsuite \"Finite\""],
"outputs": []
}
,
{
"cell_type" : "code",
"execution_count": null,
"metadata" : {
    "collapsed" : false
},
"source" : ["testLookupIndex(A: Type): Boolean ==\n    reduce(_and, [lookup(index(i)$A)$A = i for i in 1..min(size()$A, 200)])"],
"outputs": []
}
,
{
"cell_type" : "code",
"execution_count": null,
"metadata" : {
    "collapsed" : false
},
"source" : ["testcaseNoClear \"lookup index\""],
"outputs": []
}
,
{
"cell_type" : "markdown",
"metadata" : {},
"source" : [" AlgebraicFunctionField\n"]
}
,
{
"cell_type" : "code",
"execution_count": null,
"metadata" : {
    "collapsed" : false
},
"source" : ["testTrue \"testLookupIndex(Boolean)\""],
"outputs": []
}
,
{
"cell_type" : "code",
"execution_count": null,
"metadata" : {
    "collapsed" : false
},
"source" : ["testTrue \"testLookupIndex(Character)\""],
"outputs": []
}
,
{
"cell_type" : "code",
"execution_count": null,
"metadata" : {
    "collapsed" : false
},
"source" : ["xftestTrue \"testLookupIndex(CharacterClass)\""],
"outputs": []
}
,
{
"cell_type" : "code",
"execution_count": null,
"metadata" : {
    "collapsed" : false
},
"source" : ["xftestTrue \"testLookupIndex(Complex ZMOD 6)\""],
"outputs": []
}
,
{
"cell_type" : "code",
"execution_count": null,
"metadata" : {
    "collapsed" : false
},
"source" : ["testTrue \"testLookupIndex(DirectProduct(4, Boolean))\""],
"outputs": []
}
,
{
"cell_type" : "code",
"execution_count": null,
"metadata" : {
    "collapsed" : false
},
"source" : ["testTrue \"testLookupIndex(DirectProductMatrixModule(3, ZMOD 6, SquareMatrix(3, ZMOD 6), ZMOD 6))\""],
"outputs": []
}
,
{
"cell_type" : "code",
"execution_count": null,
"metadata" : {
    "collapsed" : false
},
"source" : ["testTrue \"testLookupIndex(DirectProductModule(3, ZMOD 6,  ZMOD 6))\""],
"outputs": []
}
,
{
"cell_type" : "code",
"execution_count": null,
"metadata" : {
    "collapsed" : false
},
"source" : ["testTrue \"testLookupIndex(FiniteField(7,2))\""],
"outputs": []
}
,
{
"cell_type" : "code",
"execution_count": null,
"metadata" : {
    "collapsed" : false
},
"source" : ["testTrue \"testLookupIndex(FiniteFieldCyclicGroup(7,2))\""],
"outputs": []
}
,
{
"cell_type" : "code",
"execution_count": null,
"metadata" : {
    "collapsed" : false
},
"source" : ["testTrue \"testLookupIndex(FiniteFieldCyclicGroupExtension(PF 7,2))\""],
"outputs": []
}
,
{
"cell_type" : "code",
"execution_count": null,
"metadata" : {
    "collapsed" : false
},
"source" : ["testTrue \"testLookupIndex(FiniteFieldCyclicGroupExtensionByPolynomial(PF 7,x^2+1))\""],
"outputs": []
}
,
{
"cell_type" : "code",
"execution_count": null,
"metadata" : {
    "collapsed" : false
},
"source" : ["testTrue \"testLookupIndex(FiniteFieldExtension(PF 7,2))\""],
"outputs": []
}
,
{
"cell_type" : "code",
"execution_count": null,
"metadata" : {
    "collapsed" : false
},
"source" : ["testTrue \"testLookupIndex(FiniteFieldExtensionByPolynomial(PF 7,x^2+1))\""],
"outputs": []
}
,
{
"cell_type" : "code",
"execution_count": null,
"metadata" : {
    "collapsed" : false
},
"source" : ["testTrue \"testLookupIndex(FiniteFieldNormalBasis(7,2))\""],
"outputs": []
}
,
{
"cell_type" : "code",
"execution_count": null,
"metadata" : {
    "collapsed" : false
},
"source" : ["testTrue \"testLookupIndex(FiniteFieldNormalBasisExtension(PF 7,2))\""],
"outputs": []
}
,
{
"cell_type" : "code",
"execution_count": null,
"metadata" : {
    "collapsed" : false
},
"source" : ["testTrue \"testLookupIndex(FiniteFieldNormalBasisExtensionByPolynomial(PF 7,x^2+1))\""],
"outputs": []
}
,
{
"cell_type" : "markdown",
"metadata" : {},
"source" : [" HomogeneousDirectProduct\n InnerFiniteField\n InnerPrimeField\n"]
}
,
{
"cell_type" : "code",
"execution_count": null,
"metadata" : {
    "collapsed" : false
},
"source" : ["testTrue \"testLookupIndex(IntegerMod 6)\""],
"outputs": []
}
,
{
"cell_type" : "code",
"execution_count": null,
"metadata" : {
    "collapsed" : false
},
"source" : ["testTrue \"testLookupIndex(LieSquareMatrix(4, ZMOD 6))\""],
"outputs": []
}
,
{
"cell_type" : "markdown",
"metadata" : {},
"source" : [" MachineComplex\n"]
}
,
{
"cell_type" : "code",
"execution_count": null,
"metadata" : {
    "collapsed" : false
},
"source" : ["xftestTrue \"testLookupIndex(ModMonic(ZMOD 12,  SUP ZMOD 12))\""],
"outputs": []
}
,
{
"cell_type" : "code",
"execution_count": null,
"metadata" : {
    "collapsed" : false
},
"source" : ["testTrue \"testLookupIndex(MonoidRing(ZMOD 6, PF 7))\""],
"outputs": []
}
,
{
"cell_type" : "code",
"execution_count": null,
"metadata" : {
    "collapsed" : false
},
"source" : ["xftestTrue \"testLookupIndex(Octonion ZMOD 6)\""],
"outputs": []
}
,
{
"cell_type" : "markdown",
"metadata" : {},
"source" : [" OrderedDirectProduct\n"]
}
,
{
"cell_type" : "code",
"execution_count": null,
"metadata" : {
    "collapsed" : false
},
"source" : ["testTrue \"testLookupIndex(OrderedVariableList ['a, 'b, 'c])\""],
"outputs": []
}
,
{
"cell_type" : "code",
"execution_count": null,
"metadata" : {
    "collapsed" : false
},
"source" : ["testTrue \"testLookupIndex(PrimeField 7)\""],
"outputs": []
}
,
{
"cell_type" : "code",
"execution_count": null,
"metadata" : {
    "collapsed" : false
},
"source" : ["testTrue \"testLookupIndex(Product(Boolean, Character))\""],
"outputs": []
}
,
{
"cell_type" : "markdown",
"metadata" : {},
"source" : [" RadicalFunctionField\n"]
}
,
{
"cell_type" : "code",
"execution_count": null,
"metadata" : {
    "collapsed" : false
},
"source" : ["testTrue \"testLookupIndex(RectangularMatrix(3,2, ZMOD 6))\""],
"outputs": []
}
,
{
"cell_type" : "code",
"execution_count": null,
"metadata" : {
    "collapsed" : false
},
"source" : ["testTrue \"testLookupIndex(Set Boolean)\""],
"outputs": []
}
,
{
"cell_type" : "code",
"execution_count": null,
"metadata" : {
    "collapsed" : false
},
"source" : ["testTrue \"testLookupIndex(SetOfMIntegersInOneToN(2,5))\""],
"outputs": []
}
,
{
"cell_type" : "code",
"execution_count": null,
"metadata" : {
    "collapsed" : false
},
"source" : ["testTrue \"testLookupIndex(SimpleAlgebraicExtension(ZMOD 6, SUP ZMOD 6, x^2+1))\""],
"outputs": []
}
,
{
"cell_type" : "markdown",
"metadata" : {},
"source" : [" SplitHomogeneousDirectProduct\n"]
}
,
{
"cell_type" : "code",
"execution_count": null,
"metadata" : {
    "collapsed" : false
},
"source" : ["testTrue \"testLookupIndex(SquareMatrix(3, ZMOD 6))\""],
"outputs": []
}
,
{
"cell_type" : "markdown",
"metadata" : {},
"source" : [" FiniteGroup\n"]
}
,
{
"cell_type" : "code",
"execution_count": null,
"metadata" : {
    "collapsed" : false
},
"source" : ["testTrue \"testLookupIndex(CyclicGroup(15,'a))\""],
"outputs": []
}
,
{
"cell_type" : "code",
"execution_count": null,
"metadata" : {
    "collapsed" : false
},
"source" : ["testTrue \"testLookupIndex(DihedralGroup(15,'a,'b))\""],
"outputs": []
}
,
{
"cell_type" : "code",
"execution_count": null,
"metadata" : {
    "collapsed" : false
},
"source" : ["statistics()"],
"outputs": []
}
,
{
"cell_type" : "code",
"execution_count": null,
"metadata" : {
    "collapsed" : false
},
"source" : ["--\n-- EOF\n--"],
"outputs": []
}
 ],
"metadata": {
 "kernelspec": {
  "display_name": "FriCAS",
  "language": "spad",
  "name": "ifricas"
 },
 "language_info": {
  "codemirror_mode": "spad",
  "mimetype": "text/x-spad",
  "name": "SPAD",
  "pygments_lexer": "spad",
  "version": "1.2.6"
 },
 "name": "finite.ipynb"
},
"nbformat": 4,
"nbformat_minor": 0
}
