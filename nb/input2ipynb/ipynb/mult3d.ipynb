{
 "cells": [
{
"cell_type" : "markdown",
"metadata" : {},
"source" : ["Copyright The Numerical Algorithms Group Limited 1991.\n"]
}
,
{
"cell_type" : "code",
"execution_count": null,
"metadata" : {
    "collapsed" : false
},
"source" : [")clear all"],
"outputs": []
}
,
{
"cell_type" : "code",
"execution_count": null,
"metadata" : {
    "collapsed" : false
},
"source" : ["s := create3Space()$ThreeSpace(DFLOAT)"],
"outputs": []
}
,
{
"cell_type" : "code",
"execution_count": null,
"metadata" : {
    "collapsed" : false
},
"source" : ["draw(curve(sin(t),cos(t),0),t=0..2*%pi,tubeRadius==.3, space == s)"],
"outputs": []
}
,
{
"cell_type" : "code",
"execution_count": null,
"metadata" : {
    "collapsed" : false
},
"source" : ["draw(curve(sin(t)*cos(%pi/2),cos(t),0-sin(t)*sin(%pi/2)),t=0..2*%pi,tubeRadius==.3, space == s)"],
"outputs": []
}
,
{
"cell_type" : "code",
"execution_count": null,
"metadata" : {
    "collapsed" : false
},
"source" : ["v1 := draw(curve(sin(t),cos(t),0),t=0..2*%pi,tubeRadius==.3)"],
"outputs": []
}
,
{
"cell_type" : "code",
"execution_count": null,
"metadata" : {
    "collapsed" : false
},
"source" : ["s1 := subspace(v1)"],
"outputs": []
}
,
{
"cell_type" : "code",
"execution_count": null,
"metadata" : {
    "collapsed" : false
},
"source" : ["v2 := draw(curve(sin(t)*cos(%pi/2),cos(t),0-sin(t)*sin(%pi/2)),t=0..2*%pi,tubeRadius==.3, space == s1)"],
"outputs": []
}
,
{
"cell_type" : "code",
"execution_count": null,
"metadata" : {
    "collapsed" : false
},
"source" : ["s2 := subspace(v2)"],
"outputs": []
}
,
{
"cell_type" : "code",
"execution_count": null,
"metadata" : {
    "collapsed" : false
},
"source" : [")clear all"],
"outputs": []
}
,
{
"cell_type" : "code",
"execution_count": null,
"metadata" : {
    "collapsed" : false
},
"source" : ["v := draw(surface(x*cos(y),x*sin(y),y*cos(x)),x=-4..4,y=0..2*%pi)"],
"outputs": []
}
,
{
"cell_type" : "code",
"execution_count": null,
"metadata" : {
    "collapsed" : false
},
"source" : ["s := subspace(v)"],
"outputs": []
}
,
{
"cell_type" : "code",
"execution_count": null,
"metadata" : {
    "collapsed" : false
},
"source" : ["makeObject(curve(4*sin(t),4*cos(t),-4),t=0..2*%pi,tubeRadius==.3, space == s)"],
"outputs": []
}
,
{
"cell_type" : "code",
"execution_count": null,
"metadata" : {
    "collapsed" : false
},
"source" : ["makeObject(curve(4*sin(t),4*cos(t),0),t=0..2*%pi,tubeRadius==.3, space == s)"],
"outputs": []
}
,
{
"cell_type" : "code",
"execution_count": null,
"metadata" : {
    "collapsed" : false
},
"source" : ["draw(curve(4*sin(t),4*cos(t),4),t=0..2*%pi,tubeRadius==.3, space == s)"],
"outputs": []
}
,
{
"cell_type" : "code",
"execution_count": null,
"metadata" : {
    "collapsed" : false
},
"source" : [")clear all"],
"outputs": []
}
,
{
"cell_type" : "code",
"execution_count": null,
"metadata" : {
    "collapsed" : false
},
"source" : ["s := makeObject(surface(cos(t)*sin(p),sin(t)*sin(p),cos(p)),t=0..2*%pi,p=0..%pi)"],
"outputs": []
}
,
{
"cell_type" : "code",
"execution_count": null,
"metadata" : {
    "collapsed" : false
},
"source" : ["makeObject(curve(4*sin(t)*cos(%pi/2),4*cos(t),0-sin(t)*sin(%pi/2)),t=0..2*%pi,tubeRadius==.3, space == s)"],
"outputs": []
}
,
{
"cell_type" : "code",
"execution_count": null,
"metadata" : {
    "collapsed" : false
},
"source" : ["draw(curve(2*sin(t),2*cos(t),0),t=0..2*%pi,tubeRadius==.3, space == s)"],
"outputs": []
}
,
{
"cell_type" : "code",
"execution_count": null,
"metadata" : {
    "collapsed" : false
},
"source" : [")clear all"],
"outputs": []
}
,
{
"cell_type" : "code",
"execution_count": null,
"metadata" : {
    "collapsed" : false
},
"source" : ["s := makeObject(curve(4*sin(t),4*cos(t),0),t=0..2*%pi,tubeRadius==.3)"],
"outputs": []
}
,
{
"cell_type" : "code",
"execution_count": null,
"metadata" : {
    "collapsed" : false
},
"source" : ["makeObject(surface(cos(t)*sin(p),sin(t)*sin(p),cos(p)),t=0..2*%pi,p=0..%pi, space == s)"],
"outputs": []
}
,
{
"cell_type" : "code",
"execution_count": null,
"metadata" : {
    "collapsed" : false
},
"source" : ["makeObject(surface(cos(t)*sin(p)-3,sin(t)*sin(p)-3,cos(p)+2),t=0..2*%pi,p=0..%pi, space == s)"],
"outputs": []
}
,
{
"cell_type" : "code",
"execution_count": null,
"metadata" : {
    "collapsed" : false
},
"source" : ["draw(surface(cos(t)*sin(p)-6,sin(t)*sin(p)-6,cos(p)+4),t=0..2*%pi,p=0..%pi, space == s)"],
"outputs": []
}
,
{
"cell_type" : "code",
"execution_count": null,
"metadata" : {
    "collapsed" : false
},
"source" : [")clear all"],
"outputs": []
}
,
{
"cell_type" : "code",
"execution_count": null,
"metadata" : {
    "collapsed" : false
},
"source" : ["s := create3Space()$ThreeSpace(DFLOAT)"],
"outputs": []
}
,
{
"cell_type" : "code",
"execution_count": null,
"metadata" : {
    "collapsed" : false
},
"source" : ["draw(cos(x*y)+1,x=-3..3,y=-3..3, space == s)"],
"outputs": []
}
,
{
"cell_type" : "code",
"execution_count": null,
"metadata" : {
    "collapsed" : false
},
"source" : ["draw(-cos(x*y)-1,x=-3..3,y=-3..3, space == s)"],
"outputs": []
}
,
{
"cell_type" : "code",
"execution_count": null,
"metadata" : {
    "collapsed" : false
},
"source" : [")clear all"],
"outputs": []
}
,
{
"cell_type" : "code",
"execution_count": null,
"metadata" : {
    "collapsed" : false
},
"source" : ["torusInKnot(p,q,r) ==\n  free sp\n  sp := create3Space()$ThreeSpace(DFLOAT)\n  a := 1\n  b := 1\n  ab := a+b\n  fac := 2*ab/(1.1*ab-sin(q*t))\n  Title := concat(\"Torus Knot of Type (\", concat(p::String,\n                  concat(\",\", concat(q::String, \")\"))))\n  Curve := curve(a*fac*cos(p*t), a*fac*sin(p*t), b*fac*cos(q*t))\n  r = 0 => draw(Curve, t=0..2*%pi, title == Title)\n  draw(Curve, t=0..2*%pi, tubeRadius == r, title == Title, space == sp)"],
"outputs": []
}
,
{
"cell_type" : "code",
"execution_count": null,
"metadata" : {
    "collapsed" : false
},
"source" : ["torusInKnot(15,17,.1)"],
"outputs": []
}
,
{
"cell_type" : "code",
"execution_count": null,
"metadata" : {
    "collapsed" : false
},
"source" : ["draw(curve(2.2*sin(t),2.2*cos(t),0),t=0..2*%pi,tubePoints==10,tubeRadius==.7, space == sp)"],
"outputs": []
}
,
{
"cell_type" : "code",
"execution_count": null,
"metadata" : {
    "collapsed" : false
},
"source" : ["--\n-- EOF\n--"],
"outputs": []
}
 ],
"metadata": {
 "kernelspec": {
  "display_name": "FriCAS",
  "language": "spad",
  "name": "ifricas"
 },
 "language_info": {
  "codemirror_mode": "spad",
  "mimetype": "text/x-spad",
  "name": "SPAD",
  "pygments_lexer": "spad",
  "version": "1.2.6"
 },
 "name": "mult3d.ipynb"
},
"nbformat": 4,
"nbformat_minor": 0
}
