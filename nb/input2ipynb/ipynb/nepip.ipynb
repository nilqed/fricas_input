{
 "cells": [
{
"cell_type" : "markdown",
"metadata" : {},
"source" : ["Copyright The Numerical Algorithms Group Limited 1996.\n"]
}
,
{
"cell_type" : "markdown",
"metadata" : {},
"source" : [" Note that the conversions of results from DoubleFloat to Float\n will become unnecessary if outputGeneral is extended to apply to\n DoubleFloat quantities.\n"]
}
,
{
"cell_type" : "code",
"execution_count": null,
"metadata" : {
    "collapsed" : false
},
"source" : ["outputGeneral 5"],
"outputs": []
}
,
{
"cell_type" : "code",
"execution_count": null,
"metadata" : {
    "collapsed" : false
},
"source" : ["mA1 := matrix [[ 0.5 ,   1.5 ,   6.6 ,   4.8],  _\n               [ 1.5 ,   6.5 ,  16.2 ,   8.6],  _\n               [ 6.6 ,  16.2 ,  37.6 ,   9.8],  _\n               [ 4.8 ,   8.6 ,   9.8 , -17.1]];\n"],
"outputs": []
}
,
{
"cell_type" : "code",
"execution_count": null,
"metadata" : {
    "collapsed" : false
},
"source" : ["mB1 := matrix[[ 1 ,  3 ,   4 ,  1],  _\n              [ 3 , 13 ,  16 , 11],  _\n              [ 4 , 16 ,  24 , 18],  _\n              [ 1 , 11 ,  18 , 27]];\n"],
"outputs": []
}
,
{
"cell_type" : "code",
"execution_count": null,
"metadata" : {
    "collapsed" : false
},
"source" : ["mA2 := matrix [[ 3.9 ,  12.5 , -34.5 ,  -0.5],  _\n               [ 4.3 ,  21.5 , -47.5 ,   7.5],  _\n               [ 4.3 ,  21.5 , -43.5 ,   3.5],  _\n               [ 4.4 ,  26.0 , -46.0 ,   6.0]];\n"],
"outputs": []
}
,
{
"cell_type" : "code",
"execution_count": null,
"metadata" : {
    "collapsed" : false
},
"source" : ["mB2 := matrix[[ 1 , 2 , -3 , 1],  _\n              [ 1 , 3 , -5 , 4],  _\n              [ 1 , 3 , -4 , 3],  _\n              [ 1 , 3 , -4 , 4]];\n"],
"outputs": []
}
,
{
"cell_type" : "code",
"execution_count": null,
"metadata" : {
    "collapsed" : false
},
"source" : ["nagEigenvalues(mA1,mB1) :: List Float"],
"outputs": []
}
,
{
"cell_type" : "markdown",
"metadata" : {},
"source" : ["       [- 3.0,- 1.0,2.0,4.0]\n"]
}
,
{
"cell_type" : "code",
"execution_count": null,
"metadata" : {
    "collapsed" : false
},
"source" : ["vv1 := nagEigenvectors(mA1,mB1);"],
"outputs": []
}
,
{
"cell_type" : "code",
"execution_count": null,
"metadata" : {
    "collapsed" : false
},
"source" : ["(vv1.eigenvalues) :: List Float"],
"outputs": []
}
,
{
"cell_type" : "markdown",
"metadata" : {},
"source" : ["       [- 3.0,- 1.0,2.0,4.0]\n"]
}
,
{
"cell_type" : "code",
"execution_count": null,
"metadata" : {
    "collapsed" : false
},
"source" : ["(vv1.eigenvectors) :: List Vector Complex Float"],
"outputs": []
}
,
{
"cell_type" : "markdown",
"metadata" : {},
"source" : [" [[- 4.35,0.05,1.0,- 0.5], [- 2.05,0.15,0.5,- 0.5], [- 3.95,0.85,0.5,- 0.5],\n  [2.65,0.05,- 1.0,0.5]]\n"]
}
,
{
"cell_type" : "code",
"execution_count": null,
"metadata" : {
    "collapsed" : false
},
"source" : ["nagEigenvalues(mA2,mB2)"],
"outputs": []
}
,
{
"cell_type" : "markdown",
"metadata" : {},
"source" : [" all components are O(1) or more so:\n"]
}
,
{
"cell_type" : "code",
"execution_count": null,
"metadata" : {
    "collapsed" : false
},
"source" : ["% :: List Complex Float"],
"outputs": []
}
,
{
"cell_type" : "markdown",
"metadata" : {},
"source" : ["       [2.0,3.0 + 4.0 %i,3.0 - 4.0 %i,4.0]\n"]
}
,
{
"cell_type" : "code",
"execution_count": null,
"metadata" : {
    "collapsed" : false
},
"source" : ["vv2 := nagEigenvectors(mA2,mB2);"],
"outputs": []
}
,
{
"cell_type" : "code",
"execution_count": null,
"metadata" : {
    "collapsed" : false
},
"source" : ["vv2.eigenvalues"],
"outputs": []
}
,
{
"cell_type" : "markdown",
"metadata" : {},
"source" : [" all components are O(1) or more so:\n"]
}
,
{
"cell_type" : "code",
"execution_count": null,
"metadata" : {
    "collapsed" : false
},
"source" : ["% :: List Complex Float"],
"outputs": []
}
,
{
"cell_type" : "markdown",
"metadata" : {},
"source" : ["       [2.0,3.0 + 4.0 %i,3.0 - 4.0 %i,4.0]\n"]
}
,
{
"cell_type" : "code",
"execution_count": null,
"metadata" : {
    "collapsed" : false
},
"source" : ["vv2.eigenvectors :: List Vector Complex Float"],
"outputs": []
}
,
{
"cell_type" : "markdown",
"metadata" : {},
"source" : [" [[0.99606,0.0056917,0.062609,0.062609],\n\n   [0.94491, 0.18898 + 0.26077 E -14 %i, 0.11339 - 0.15119 %i,\n    0.11339 - 0.15119 %i]\n   ,\n\n   [0.94491, 0.18898 - 0.26077 E -14 %i, 0.11339 + 0.15119 %i,\n    0.11339 + 0.15119 %i]\n   ,\n  [0.98752,0.010972,- 0.032917,0.15361]]\n"]
}
,
{
"cell_type" : "markdown",
"metadata" : {},
"source" : [" The same call with eps=0.0001:\n"]
}
,
{
"cell_type" : "code",
"execution_count": null,
"metadata" : {
    "collapsed" : false
},
"source" : ["vv2a := nagEigenvectors(mA2,mB2,0.0001);"],
"outputs": []
}
,
{
"cell_type" : "code",
"execution_count": null,
"metadata" : {
    "collapsed" : false
},
"source" : ["vv2a.eigenvalues :: List Complex Float"],
"outputs": []
}
,
{
"cell_type" : "markdown",
"metadata" : {},
"source" : ["       [1.9989,3.0003 + 3.9994 %i,3.0003 - 3.9994 %i,4.0]\n"]
}
,
{
"cell_type" : "code",
"execution_count": null,
"metadata" : {
    "collapsed" : false
},
"source" : ["vv2a.eigenvectors :: List Vector Complex Float"],
"outputs": []
}
,
{
"cell_type" : "markdown",
"metadata" : {},
"source" : [" [[0.99605,0.0057355,0.062656,0.062656],\n\n   [0.94491, 0.18899 - 0.000048882 %i, 0.11336 - 0.15119 %i,\n    0.11336 - 0.15119 %i]\n   ,\n\n   [0.94491, 0.18899 + 0.000048882 %i, 0.11336 + 0.15119 %i,\n    0.11336 + 0.15119 %i]\n   ,\n  [0.98751,0.011031,- 0.032912,0.15367]]\n"]
}
,
{
"cell_type" : "code",
"execution_count": null,
"metadata" : {
    "collapsed" : false
},
"source" : ["mB1(1,1) := -1;"],
"outputs": []
}
,
{
"cell_type" : "markdown",
"metadata" : {},
"source" : [" The next test should fail on F02ADF then call F02BJF:\n"]
}
,
{
"cell_type" : "code",
"execution_count": null,
"metadata" : {
    "collapsed" : false
},
"source" : ["nagEigenvalues(mA1,mB1)"],
"outputs": []
}
,
{
"cell_type" : "markdown",
"metadata" : {},
"source" : [" all components are O(1) or more so:\n"]
}
,
{
"cell_type" : "code",
"execution_count": null,
"metadata" : {
    "collapsed" : false
},
"source" : ["% :: List Complex Float"],
"outputs": []
}
,
{
"cell_type" : "markdown",
"metadata" : {},
"source" : ["       [3.5016,- 1.5471,0.041212 + 0.21738 %i,0.041212 - 0.21738 %i]\n"]
}
,
{
"cell_type" : "markdown",
"metadata" : {},
"source" : [" Similarly, this should fail on F02AEF then call F02BJF:\n"]
}
,
{
"cell_type" : "code",
"execution_count": null,
"metadata" : {
    "collapsed" : false
},
"source" : ["vv3 := nagEigenvectors(mA1,mB1);"],
"outputs": []
}
,
{
"cell_type" : "code",
"execution_count": null,
"metadata" : {
    "collapsed" : false
},
"source" : ["vv3.eigenvalues"],
"outputs": []
}
,
{
"cell_type" : "markdown",
"metadata" : {},
"source" : [" all components are O(1) or more so:\n"]
}
,
{
"cell_type" : "code",
"execution_count": null,
"metadata" : {
    "collapsed" : false
},
"source" : ["% :: List Complex Float"],
"outputs": []
}
,
{
"cell_type" : "markdown",
"metadata" : {},
"source" : ["       [3.5016,- 1.5471,0.041212 + 0.21738 %i,0.041212 - 0.21738 %i]\n"]
}
,
{
"cell_type" : "code",
"execution_count": null,
"metadata" : {
    "collapsed" : false
},
"source" : ["vv3.eigenvectors :: List Vector Complex Float"],
"outputs": []
}
,
{
"cell_type" : "markdown",
"metadata" : {},
"source" : ["  [[- 0.034577,0.63045,- 0.75202,0.1892],\n   [0.17876,- 0.73845,0.047413,0.64845],\n\n    [0.80838, - 0.00095133 + 0.47557 %i, - 0.20354 - 0.21737 %i,\n     0.15404 + 0.089179 %i]\n    ,\n\n    [0.80838, - 0.00095133 - 0.47557 %i, - 0.20354 + 0.21737 %i,\n     0.15404 - 0.089179 %i]\n   ]\n"]
}
,
{
"cell_type" : "code",
"execution_count": null,
"metadata" : {
    "collapsed" : false
},
"source" : ["outputGeneral()"],
"outputs": []
}
,
{
"cell_type" : "code",
"execution_count": null,
"metadata" : {
    "collapsed" : false
},
"source" : ["output \"End of tests\""],
"outputs": []
}
,
{
"cell_type" : "code",
"execution_count": null,
"metadata" : {
    "collapsed" : false
},
"source" : ["--\n-- EOF\n--"],
"outputs": []
}
 ],
"metadata": {
 "kernelspec": {
  "display_name": "FriCAS",
  "language": "spad",
  "name": "ifricas"
 },
 "language_info": {
  "codemirror_mode": "spad",
  "mimetype": "text/x-spad",
  "name": "SPAD",
  "pygments_lexer": "spad",
  "version": "1.2.6"
 },
 "name": "nepip.ipynb"
},
"nbformat": 4,
"nbformat_minor": 0
}
