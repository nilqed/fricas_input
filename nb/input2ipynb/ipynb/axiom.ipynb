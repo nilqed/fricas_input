{
 "cells": [
{
"cell_type" : "markdown",
"metadata" : {},
"source" : ["Copyright The Numerical Algorithms Group Limited 1994.\n"]
}
,
{
"cell_type" : "markdown",
"metadata" : {},
"source" : [" This file is read on start-up by the AXIOM system.  It is\n most commonly used to customize the user's environment via the\n )set system commands.\n"]
}
,
{
"cell_type" : "markdown",
"metadata" : {},
"source" : [" do not enter lisp break on error\n"]
}
,
{
"cell_type" : "code",
"execution_count": null,
"metadata" : {
    "collapsed" : false
},
"source" : [")set break nobreak"],
"outputs": []
}
,
{
"cell_type" : "markdown",
"metadata" : {},
"source" : [" use the simple character set\n"]
}
,
{
"cell_type" : "code",
"execution_count": null,
"metadata" : {
    "collapsed" : false
},
"source" : [")set output char plain"],
"outputs": []
}
,
{
"cell_type" : "markdown",
"metadata" : {},
"source" : [" everyone uses this\n"]
}
,
{
"cell_type" : "code",
"execution_count": null,
"metadata" : {
    "collapsed" : false
},
"source" : [")set userlevel development"],
"outputs": []
}
,
{
"cell_type" : "markdown",
"metadata" : {},
"source" : [" make the highlighting characters go away\n"]
}
,
{
"cell_type" : "code",
"execution_count": null,
"metadata" : {
    "collapsed" : false
},
"source" : [")set mess high off"],
"outputs": []
}
,
{
"cell_type" : "code",
"execution_count": null,
"metadata" : {
    "collapsed" : false
},
"source" : [")set message prompt frame"],
"outputs": []
}
,
{
"cell_type" : "markdown",
"metadata" : {},
"source" : [" read the user's synonym file for system commands, if it exists\n"]
}
,
{
"cell_type" : "code",
"execution_count": null,
"metadata" : {
    "collapsed" : false
},
"source" : [")read \"mysyns.input\"  )ifthere )quiet"],
"outputs": []
}
,
{
"cell_type" : "code",
"execution_count": null,
"metadata" : {
    "collapsed" : false
},
"source" : ["--\n-- EOF\n--"],
"outputs": []
}
 ],
"metadata": {
 "kernelspec": {
  "display_name": "FriCAS",
  "language": "spad",
  "name": "ifricas"
 },
 "language_info": {
  "codemirror_mode": "spad",
  "mimetype": "text/x-spad",
  "name": "SPAD",
  "pygments_lexer": "spad",
  "version": "1.2.6"
 },
 "name": "axiom.ipynb"
},
"nbformat": 4,
"nbformat_minor": 0
}
