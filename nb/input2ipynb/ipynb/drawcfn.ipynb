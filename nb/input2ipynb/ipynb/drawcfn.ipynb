{
 "cells": [
{
"cell_type" : "markdown",
"metadata" : {},
"source" : [" Two dimensional function plots\n"]
}
,
{
"cell_type" : "code",
"execution_count": null,
"metadata" : {
    "collapsed" : false
},
"source" : ["f(x:SF):SF == sin(11*x)"],
"outputs": []
}
,
{
"cell_type" : "code",
"execution_count": null,
"metadata" : {
    "collapsed" : false
},
"source" : ["draw(f,0..2*%pi)"],
"outputs": []
}
,
{
"cell_type" : "code",
"execution_count": null,
"metadata" : {
    "collapsed" : false
},
"source" : ["draw(f,0..2*%pi,adaptive == false,title == \"Non-adaptive plot\")"],
"outputs": []
}
,
{
"cell_type" : "code",
"execution_count": null,
"metadata" : {
    "collapsed" : false
},
"source" : ["draw(f,0..2*%pi,toScale == true,title == \"Drawn to scale\")"],
"outputs": []
}
,
{
"cell_type" : "code",
"execution_count": null,
"metadata" : {
    "collapsed" : false
},
"source" : ["draw(f,0..2*%pi,coordinates == polar,title == \"Polar plot\")"],
"outputs": []
}
,
{
"cell_type" : "code",
"execution_count": null,
"metadata" : {
    "collapsed" : false
},
"source" : ["g(x:SF):SF == tan(x)"],
"outputs": []
}
,
{
"cell_type" : "code",
"execution_count": null,
"metadata" : {
    "collapsed" : false
},
"source" : ["draw(g,-6..6,title == \"Clipping on\")"],
"outputs": []
}
,
{
"cell_type" : "code",
"execution_count": null,
"metadata" : {
    "collapsed" : false
},
"source" : ["draw(g,-6..6,clip == false,title == \"Clipping off\")"],
"outputs": []
}
,
{
"cell_type" : "markdown",
"metadata" : {},
"source" : [" Parametric plane curves\n"]
}
,
{
"cell_type" : "code",
"execution_count": null,
"metadata" : {
    "collapsed" : false
},
"source" : ["f1(t:SF):SF == 9*sin(3*t/4)"],
"outputs": []
}
,
{
"cell_type" : "code",
"execution_count": null,
"metadata" : {
    "collapsed" : false
},
"source" : ["f2(t:SF):SF == 8*sin(t)"],
"outputs": []
}
,
{
"cell_type" : "code",
"execution_count": null,
"metadata" : {
    "collapsed" : false
},
"source" : ["draw(curve(f1,f2),-4*%pi..4*%pi,toScale == true,title == \"Lissajous curve\")"],
"outputs": []
}
,
{
"cell_type" : "code",
"execution_count": null,
"metadata" : {
    "collapsed" : false
},
"source" : ["g1(t:SF):SF == sin(5*t)"],
"outputs": []
}
,
{
"cell_type" : "code",
"execution_count": null,
"metadata" : {
    "collapsed" : false
},
"source" : ["g2(t:SF):SF == t"],
"outputs": []
}
,
{
"cell_type" : "code",
"execution_count": null,
"metadata" : {
    "collapsed" : false
},
"source" : ["draw(curve(g1,g2),0..2*%pi,title == \"Parametric curve\")"],
"outputs": []
}
,
{
"cell_type" : "code",
"execution_count": null,
"metadata" : {
    "collapsed" : false
},
"source" : ["draw(curve(g1,g2),0..2*%pi,_\n           coordinates == polar,title == \"Parametric polar curve\")\n"],
"outputs": []
}
,
{
"cell_type" : "code",
"execution_count": null,
"metadata" : {
    "collapsed" : false
},
"source" : ["h1(t:SF):SF == t"],
"outputs": []
}
,
{
"cell_type" : "code",
"execution_count": null,
"metadata" : {
    "collapsed" : false
},
"source" : ["h2(t:SF):SF == 2"],
"outputs": []
}
,
{
"cell_type" : "code",
"execution_count": null,
"metadata" : {
    "collapsed" : false
},
"source" : ["draw(curve(h1,h2),-3..3,coordinates == parabolic,title == \"Parabolic plot\")"],
"outputs": []
}
,
{
"cell_type" : "markdown",
"metadata" : {},
"source" : [" Parametric space curves\n"]
}
,
{
"cell_type" : "code",
"execution_count": null,
"metadata" : {
    "collapsed" : false
},
"source" : ["i1(t:SF):SF == sin(t)*cos(3*t/5)"],
"outputs": []
}
,
{
"cell_type" : "code",
"execution_count": null,
"metadata" : {
    "collapsed" : false
},
"source" : ["i2(t:SF):SF == cos(t)*cos(3*t/5)"],
"outputs": []
}
,
{
"cell_type" : "code",
"execution_count": null,
"metadata" : {
    "collapsed" : false
},
"source" : ["i3(t:SF):SF == cos(t)*sin(3*t/5)"],
"outputs": []
}
,
{
"cell_type" : "code",
"execution_count": null,
"metadata" : {
    "collapsed" : false
},
"source" : ["draw(curve(i1,i2,i3),0..15*%pi,title == \"Parametric curve\")"],
"outputs": []
}
,
{
"cell_type" : "code",
"execution_count": null,
"metadata" : {
    "collapsed" : false
},
"source" : ["draw(curve(i1,i2,i3),0..15*%pi,tubeRadius == .15,title == \"Tube around curve\")"],
"outputs": []
}
,
{
"cell_type" : "code",
"execution_count": null,
"metadata" : {
    "collapsed" : false
},
"source" : ["j1(t:SF):SF == 4"],
"outputs": []
}
,
{
"cell_type" : "code",
"execution_count": null,
"metadata" : {
    "collapsed" : false
},
"source" : ["j2(t:SF):SF == t"],
"outputs": []
}
,
{
"cell_type" : "code",
"execution_count": null,
"metadata" : {
    "collapsed" : false
},
"source" : ["draw(curve(j1,j2,j2),-9..9,coordinates == cylindrical,title == \"Spiral\")"],
"outputs": []
}
,
{
"cell_type" : "code",
"execution_count": null,
"metadata" : {
    "collapsed" : false
},
"source" : ["k1(t:SF):SF == 1"],
"outputs": []
}
,
{
"cell_type" : "code",
"execution_count": null,
"metadata" : {
    "collapsed" : false
},
"source" : ["k2(t:SF):SF == t/7"],
"outputs": []
}
,
{
"cell_type" : "code",
"execution_count": null,
"metadata" : {
    "collapsed" : false
},
"source" : ["k3(t:SF):SF == t/5"],
"outputs": []
}
,
{
"cell_type" : "code",
"execution_count": null,
"metadata" : {
    "collapsed" : false
},
"source" : ["draw(curve(k1,k2,k3),-70*%pi..70*%pi,coordinates == spherical,_\n           title == \"Gnarly curve on sphere\")\n"],
"outputs": []
}
,
{
"cell_type" : "markdown",
"metadata" : {},
"source" : [" Three dimensional function plots\n"]
}
,
{
"cell_type" : "code",
"execution_count": null,
"metadata" : {
    "collapsed" : false
},
"source" : ["l(x:SF,y:SF):SF == cos(x*y)"],
"outputs": []
}
,
{
"cell_type" : "code",
"execution_count": null,
"metadata" : {
    "collapsed" : false
},
"source" : ["draw(l,-3..3,-3..3)"],
"outputs": []
}
,
{
"cell_type" : "code",
"execution_count": null,
"metadata" : {
    "collapsed" : false
},
"source" : ["colorFunction1(x:SF,y:SF):SF == x"],
"outputs": []
}
,
{
"cell_type" : "code",
"execution_count": null,
"metadata" : {
    "collapsed" : false
},
"source" : ["draw(l,-3..3,-3..3,colorFunction == colorFunction1)"],
"outputs": []
}
,
{
"cell_type" : "code",
"execution_count": null,
"metadata" : {
    "collapsed" : false
},
"source" : ["colorFunction2(x:SF,y:SF):SF == x^2 + y^2"],
"outputs": []
}
,
{
"cell_type" : "code",
"execution_count": null,
"metadata" : {
    "collapsed" : false
},
"source" : ["draw(l,-3..3,-3..3,colorFunction == colorFunction2)"],
"outputs": []
}
,
{
"cell_type" : "code",
"execution_count": null,
"metadata" : {
    "collapsed" : false
},
"source" : ["colorFunction3(x:SF,y:SF,z:SF):SF == -z"],
"outputs": []
}
,
{
"cell_type" : "code",
"execution_count": null,
"metadata" : {
    "collapsed" : false
},
"source" : ["draw(l,-3..3,-3..3,colorFunction == colorFunction3)"],
"outputs": []
}
,
{
"cell_type" : "code",
"execution_count": null,
"metadata" : {
    "collapsed" : false
},
"source" : ["m(u:SF,v:SF):SF == 1"],
"outputs": []
}
,
{
"cell_type" : "code",
"execution_count": null,
"metadata" : {
    "collapsed" : false
},
"source" : ["draw(m,0..2*%pi,0..%pi,coordinates == spherical,title == \"Sphere\")"],
"outputs": []
}
,
{
"cell_type" : "code",
"execution_count": null,
"metadata" : {
    "collapsed" : false
},
"source" : ["draw(m,0..2*%pi,0..%pi,coordinates == spherical,_\n           colorFunction == colorFunction2,title == \"Sphere\")\n"],
"outputs": []
}
,
{
"cell_type" : "code",
"execution_count": null,
"metadata" : {
    "collapsed" : false
},
"source" : ["draw(m,-%pi/2..%pi/2,0..2*%pi,coordinates == oblateSpheroidal(1$SF),_\n           title == \"Oblate spheroidal coordinates\")\n"],
"outputs": []
}
,
{
"cell_type" : "markdown",
"metadata" : {},
"source" : [" Parametric surfaces\n"]
}
,
{
"cell_type" : "code",
"execution_count": null,
"metadata" : {
    "collapsed" : false
},
"source" : ["n1(u:SF,v:SF):SF == 5*sin(u)*cos(v)"],
"outputs": []
}
,
{
"cell_type" : "code",
"execution_count": null,
"metadata" : {
    "collapsed" : false
},
"source" : ["n2(u:SF,v:SF):SF == 4*sin(u)*sin(v)"],
"outputs": []
}
,
{
"cell_type" : "code",
"execution_count": null,
"metadata" : {
    "collapsed" : false
},
"source" : ["n3(u:SF,v:SF):SF == 3*cos(u)"],
"outputs": []
}
,
{
"cell_type" : "code",
"execution_count": null,
"metadata" : {
    "collapsed" : false
},
"source" : ["draw(surface(n1,n2,n3),0..%pi,0..2*%pi,title == \"Which came first?\")"],
"outputs": []
}
,
{
"cell_type" : "code",
"execution_count": null,
"metadata" : {
    "collapsed" : false
},
"source" : ["--\n-- EOF\n--"],
"outputs": []
}
 ],
"metadata": {
 "kernelspec": {
  "display_name": "FriCAS",
  "language": "spad",
  "name": "ifricas"
 },
 "language_info": {
  "codemirror_mode": "spad",
  "mimetype": "text/x-spad",
  "name": "SPAD",
  "pygments_lexer": "spad",
  "version": "1.2.6"
 },
 "name": "drawcfn.ipynb"
},
"nbformat": 4,
"nbformat_minor": 0
}
