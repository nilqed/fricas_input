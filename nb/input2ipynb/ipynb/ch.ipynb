{
 "cells": [
{
"cell_type" : "markdown",
"metadata" : {},
"source" : ["Copyright The Numerical Algorithms Group Limited 1991.\nCyclohexan\n"]
}
,
{
"cell_type" : "code",
"execution_count": null,
"metadata" : {
    "collapsed" : false
},
"source" : ["mfzn : SQMATRIX(6,DMP([x,y,z],Fraction INT)) :=_\n  [[0,1,1,1,1,1],[1,0,1,8/3,x,8/3],[1,1,0,1,8/3,y],_\n"],
"outputs": []
}
,
{
"cell_type" : "code",
"execution_count": null,
"metadata" : {
    "collapsed" : false
},
"source" : ["   [1,8/3,1,0,1,8/3],[1,x,8/3,1,0,1],[1,8/3,y,8/3,1,0]]"],
"outputs": []
}
,
{
"cell_type" : "code",
"execution_count": null,
"metadata" : {
    "collapsed" : false
},
"source" : ["fzn := determinant mfzn"],
"outputs": []
}
,
{
"cell_type" : "code",
"execution_count": null,
"metadata" : {
    "collapsed" : false
},
"source" : ["mfxn : SQMATRIX(6,DMP([x,y,z],Fraction Integer)) :=_\n  [[0,1,1,1,1,1],[1,0,1,8/3,y,8/3],[1,1,0,1,8/3,z],_\n"],
"outputs": []
}
,
{
"cell_type" : "code",
"execution_count": null,
"metadata" : {
    "collapsed" : false
},
"source" : ["   [1,8/3,1,0,1,8/3],[1,y,8/3,1,0,1],[1,8/3,z,8/3,1,0]]"],
"outputs": []
}
,
{
"cell_type" : "code",
"execution_count": null,
"metadata" : {
    "collapsed" : false
},
"source" : ["fxn := determinant mfxn"],
"outputs": []
}
,
{
"cell_type" : "code",
"execution_count": null,
"metadata" : {
    "collapsed" : false
},
"source" : ["mfyn : SQMATRIX(6,DMP([x,y,z],Fraction Integer)) :=_\n  [[0,1,1,1,1,1],[1,0,1,8/3,z,8/3],[1,1,0,1,8/3,x],_\n"],
"outputs": []
}
,
{
"cell_type" : "code",
"execution_count": null,
"metadata" : {
    "collapsed" : false
},
"source" : ["   [1,8/3,1,0,1,8/3],[1,z,8/3,1,0,1],[1,8/3,x,8/3,1,0]]"],
"outputs": []
}
,
{
"cell_type" : "code",
"execution_count": null,
"metadata" : {
    "collapsed" : false
},
"source" : ["fyn := determinant mfyn"],
"outputs": []
}
,
{
"cell_type" : "code",
"execution_count": null,
"metadata" : {
    "collapsed" : false
},
"source" : ["gb := groebnerFactorize [fxn,fyn,fzn]"],
"outputs": []
}
,
{
"cell_type" : "code",
"execution_count": null,
"metadata" : {
    "collapsed" : false
},
"source" : ["--\n-- EOF\n--"],
"outputs": []
}
 ],
"metadata": {
 "kernelspec": {
  "display_name": "FriCAS",
  "language": "spad",
  "name": "ifricas"
 },
 "language_info": {
  "codemirror_mode": "spad",
  "mimetype": "text/x-spad",
  "name": "SPAD",
  "pygments_lexer": "spad",
  "version": "1.2.6"
 },
 "name": "ch.ipynb"
},
"nbformat": 4,
"nbformat_minor": 0
}
