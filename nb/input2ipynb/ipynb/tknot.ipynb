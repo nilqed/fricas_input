{
 "cells": [
{
"cell_type" : "markdown",
"metadata" : {},
"source" : ["Copyright The Numerical Algorithms Group Limited 1994.\n Create a (p,q) torus-knot with radius r around the curve.\n The formula was derived by Larry Lambe.\n"]
}
,
{
"cell_type" : "markdown",
"metadata" : {},
"source" : [" To produce a trefoil knot:\n   torusKnot(2, 3, 0.5, 10, 200)\n"]
}
,
{
"cell_type" : "markdown",
"metadata" : {},
"source" : [" compile, don't interpret functions\n"]
}
,
{
"cell_type" : "code",
"execution_count": null,
"metadata" : {
    "collapsed" : false
},
"source" : [")set function  compile on"],
"outputs": []
}
,
{
"cell_type" : "markdown",
"metadata" : {},
"source" : [" read in the numeric generalized tube program\n"]
}
,
{
"cell_type" : "code",
"execution_count": null,
"metadata" : {
    "collapsed" : false
},
"source" : [")read ntube"],
"outputs": []
}
,
{
"cell_type" : "markdown",
"metadata" : {},
"source" : [" Create a (p,q) torus-knot with radius r around the curve.\n The formula was derived by Larry Lambe.\n To produce a trefoil knot:\n   torusKnot(2, 3, 0.5)\n"]
}
,
{
"cell_type" : "code",
"execution_count": null,
"metadata" : {
    "collapsed" : false
},
"source" : ["torusKnot(p:DFLOAT, q:DFLOAT, r:DFLOAT, uSteps:PI, tSteps:PI):VIEW3D ==\n  -- equation for the torus knot\n  knot := (t:DFLOAT):Point DFLOAT +->\n    fac := 4/(2.2@DFLOAT-sin(q*t))\n    fac * point [cos(p*t), sin(p*t), cos(q*t)]\n  -- equation for the cross section of the tube\n  circle := (u:DFLOAT, t:DFLOAT):Point DFLOAT +->\n    r * point [cos u, sin u]\n  -- draw the tube around the knot\n  ntubeDrawOpt(knot, circle, 0..2*%pi, 0..2*%pi, var1Steps == uSteps,\n               var2Steps == tSteps)"],
"outputs": []
}
,
{
"cell_type" : "code",
"execution_count": null,
"metadata" : {
    "collapsed" : false
},
"source" : ["--\n-- EOF\n--"],
"outputs": []
}
 ],
"metadata": {
 "kernelspec": {
  "display_name": "FriCAS",
  "language": "spad",
  "name": "ifricas"
 },
 "language_info": {
  "codemirror_mode": "spad",
  "mimetype": "text/x-spad",
  "name": "SPAD",
  "pygments_lexer": "spad",
  "version": "1.2.6"
 },
 "name": "tknot.ipynb"
},
"nbformat": 4,
"nbformat_minor": 0
}
