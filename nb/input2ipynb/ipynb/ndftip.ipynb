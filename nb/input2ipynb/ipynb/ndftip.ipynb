{
 "cells": [
{
"cell_type" : "markdown",
"metadata" : {},
"source" : ["Copyright The Numerical Algorithms Group Limited 1996.\n"]
}
,
{
"cell_type" : "markdown",
"metadata" : {},
"source" : [" Note that the conversions of results from DoubleFloat to Float\n will become unnecessary if outputGeneral is extended to apply to\n DoubleFloat quantities.  Those results not converted will, of\n course, then be displayed to 6 s.f.\n"]
}
,
{
"cell_type" : "code",
"execution_count": null,
"metadata" : {
    "collapsed" : false
},
"source" : ["outputGeneral 6"],
"outputs": []
}
,
{
"cell_type" : "code",
"execution_count": null,
"metadata" : {
    "collapsed" : false
},
"source" : ["seqA := [0.34907,0.54890,0.74776,0.94459,1.1385,1.3285,1.5137];"],
"outputs": []
}
,
{
"cell_type" : "code",
"execution_count": null,
"metadata" : {
    "collapsed" : false
},
"source" : ["seqB := [0.34907 - 0.37168*%i,  _\n         0.54890 - 0.35669*%i,  _\n         0.74776 - 0.31175*%i,  _\n         0.94459 - 0.23702*%i,  _\n         1.13850 - 0.13274*%i,  _\n         1.32850 + 0.00074*%i,  _\n"],
"outputs": []
}
,
{
"cell_type" : "code",
"execution_count": null,
"metadata" : {
    "collapsed" : false
},
"source" : ["         1.51370 + 0.16298*%i];"],
"outputs": []
}
,
{
"cell_type" : "code",
"execution_count": null,
"metadata" : {
    "collapsed" : false
},
"source" : ["hseqC : PackedHermitianSequence DoubleFloat"],
"outputs": []
}
,
{
"cell_type" : "code",
"execution_count": null,
"metadata" : {
    "collapsed" : false
},
"source" : ["hseqC := packHS [0.34907,        _\n                 0.54890 + %i*1.51370,  _\n                 0.74776 + %i*1.32850,  _\n                 0.94459 + %i*1.13850,  _\n                 0.94459 - %i*1.13850,  _\n                 0.74776 - %i*1.32850,  _\n"],
"outputs": []
}
,
{
"cell_type" : "code",
"execution_count": null,
"metadata" : {
    "collapsed" : false
},
"source" : ["                 0.54890 - %i*1.51370];"],
"outputs": []
}
,
{
"cell_type" : "code",
"execution_count": null,
"metadata" : {
    "collapsed" : false
},
"source" : ["seqsD : List Vector DoubleFloat;"],
"outputs": []
}
,
{
"cell_type" : "code",
"execution_count": null,
"metadata" : {
    "collapsed" : false
},
"source" : ["seqsD := [vector [0.3854, 0.6772, 0.1138, 0.6751, 0.6362, 0.1424], _\n          vector [0.5417, 0.2983, 0.1181, 0.7255, 0.8638, 0.8723], _\n"],
"outputs": []
}
,
{
"cell_type" : "code",
"execution_count": null,
"metadata" : {
    "collapsed" : false
},
"source" : ["          vector [0.9172, 0.0644, 0.6037, 0.6430, 0.0428, 0.4815]];"],
"outputs": []
}
,
{
"cell_type" : "code",
"execution_count": null,
"metadata" : {
    "collapsed" : false
},
"source" : ["seqsE : List PackedHermitianSequence DoubleFloat;"],
"outputs": []
}
,
{
"cell_type" : "code",
"execution_count": null,
"metadata" : {
    "collapsed" : false
},
"source" : ["seqsE := [pHS [0.3854, 0.6772, 0.1138, 0.6751, 0.6362, 0.1424], _\n          pHS [0.5417, 0.2983, 0.1181, 0.7255, 0.8638, 0.8723], _\n"],
"outputs": []
}
,
{
"cell_type" : "code",
"execution_count": null,
"metadata" : {
    "collapsed" : false
},
"source" : ["          pHS [0.9172, 0.0644, 0.6037, 0.6430, 0.0428, 0.4815]];"],
"outputs": []
}
,
{
"cell_type" : "code",
"execution_count": null,
"metadata" : {
    "collapsed" : false
},
"source" : ["seqsF : List Vector Complex DoubleFloat"],
"outputs": []
}
,
{
"cell_type" : "code",
"execution_count": null,
"metadata" : {
    "collapsed" : false
},
"source" : ["seqsF := [vector [0.3854 + 0.5417*%i, 0.6772 + 0.2983*%i,   _\n                  0.1138 + 0.1181*%i, 0.6751 + 0.7255*%i,   _\n                  0.6362 + 0.8638*%i, 0.1424 + 0.8723*%i],  _\n          vector [0.9172 + 0.9089*%i, 0.0644 + 0.3118*%i,   _\n                  0.6037 + 0.3465*%i, 0.6430 + 0.6198*%i,   _\n                  0.0428 + 0.2668*%i, 0.4815 + 0.1614*%i],  _\n          vector [0.1156 + 0.6214*%i, 0.0685 + 0.8681*%i,   _\n                  0.2060 + 0.7060*%i, 0.8630 + 0.8652*%i,   _\n"],
"outputs": []
}
,
{
"cell_type" : "code",
"execution_count": null,
"metadata" : {
    "collapsed" : false
},
"source" : ["                  0.6967 + 0.9190*%i, 0.2792 + 0.3355*%i]];"],
"outputs": []
}
,
{
"cell_type" : "markdown",
"metadata" : {},
"source" : [" test  1\n"]
}
,
{
"cell_type" : "code",
"execution_count": null,
"metadata" : {
    "collapsed" : false
},
"source" : ["dftA := nagDFT seqA;"],
"outputs": []
}
,
{
"cell_type" : "code",
"execution_count": null,
"metadata" : {
    "collapsed" : false
},
"source" : ["dftA :: Vector Complex Float :: Matrix Complex Float\n                             -- Matrix to force display as a column,\n                             -- Float to allow outputGeneral to work."],
"outputs": []
}
,
{
"cell_type" : "markdown",
"metadata" : {},
"source" : ["       +         2.48361         +\n       |                         |\n       |- 0.265985 + 0.530898 %i |\n       |                         |\n       |- 0.257682 + 0.202979 %i |\n       |                         |\n       |- 0.256363 + 0.0580623 %i|\n       |                         |\n       |- 0.256363 - 0.0580623 %i|\n       |                         |\n       |- 0.257682 - 0.202979 %i |\n       |                         |\n       +- 0.265985 - 0.530898 %i +\n"]
}
,
{
"cell_type" : "markdown",
"metadata" : {},
"source" : [" test  2\n"]
}
,
{
"cell_type" : "code",
"execution_count": null,
"metadata" : {
    "collapsed" : false
},
"source" : ["nagInverseDFT dftA :: Vector Float"],
"outputs": []
}
,
{
"cell_type" : "markdown",
"metadata" : {},
"source" : ["       [0.34907,0.5489,0.74776,0.94459,1.1385,1.3285,1.5137]\n"]
}
,
{
"cell_type" : "markdown",
"metadata" : {},
"source" : [" test  3\n"]
}
,
{
"cell_type" : "code",
"execution_count": null,
"metadata" : {
    "collapsed" : false
},
"source" : ["dftB := nagDFT seqB;"],
"outputs": []
}
,
{
"cell_type" : "code",
"execution_count": null,
"metadata" : {
    "collapsed" : false
},
"source" : ["dftB :: Vector Complex Float :: Matrix Complex Float"],
"outputs": []
}
,
{
"cell_type" : "markdown",
"metadata" : {},
"source" : ["       +  2.48361 - 0.471004 %i  +\n       |                         |\n       | - 0.5518 + 0.496841 %i  |\n       |                         |\n       |- 0.367113 + 0.0975621 %i|\n       |                         |\n       |- 0.287669 - 0.0586476 %i|\n       |                         |\n       |- 0.225057 - 0.174772 %i |\n       |                         |\n       |- 0.148251 - 0.308396 %i |\n       |                         |\n       + 0.0198297 - 0.564956 %i +\n"]
}
,
{
"cell_type" : "markdown",
"metadata" : {},
"source" : [" test  4\n"]
}
,
{
"cell_type" : "code",
"execution_count": null,
"metadata" : {
    "collapsed" : false
},
"source" : ["(nagInverseDFT dftB) :: Vector Complex Float :: Matrix Complex Float"],
"outputs": []
}
,
{
"cell_type" : "markdown",
"metadata" : {},
"source" : ["       +0.34907 - 0.37168 %i+\n       |                    |\n       |0.5489 - 0.35669 %i |\n       |                    |\n       |0.74776 - 0.31175 %i|\n       |                    |\n       |0.94459 - 0.23702 %i|\n       |                    |\n       |1.1385 - 0.13274 %i |\n       |                    |\n       |1.3285 + 0.00074 %i |\n       |                    |\n       +1.5137 + 0.16298 %i +\n"]
}
,
{
"cell_type" : "markdown",
"metadata" : {},
"source" : [" test  5\n"]
}
,
{
"cell_type" : "code",
"execution_count": null,
"metadata" : {
    "collapsed" : false
},
"source" : ["hdftA := nagHermitianDFT seqA;"],
"outputs": []
}
,
{
"cell_type" : "code",
"execution_count": null,
"metadata" : {
    "collapsed" : false
},
"source" : ["(expand hdftA) :: Vector Complex Float :: Matrix Complex Float"],
"outputs": []
}
,
{
"cell_type" : "markdown",
"metadata" : {},
"source" : ["       +         2.48361         +\n       |                         |\n       |- 0.265985 + 0.530898 %i |\n       |                         |\n       |- 0.257682 + 0.202979 %i |\n       |                         |\n       |- 0.256363 + 0.0580623 %i|\n       |                         |\n       |- 0.256363 - 0.0580623 %i|\n       |                         |\n       |- 0.257682 - 0.202979 %i |\n       |                         |\n       +- 0.265985 - 0.530898 %i +\n"]
}
,
{
"cell_type" : "markdown",
"metadata" : {},
"source" : [" test  6\n"]
}
,
{
"cell_type" : "code",
"execution_count": null,
"metadata" : {
    "collapsed" : false
},
"source" : ["(nagInverseDFT hdftA) :: Vector Float"],
"outputs": []
}
,
{
"cell_type" : "markdown",
"metadata" : {},
"source" : ["       [0.34907,0.5489,0.74776,0.94459,1.1385,1.3285,1.5137]\n"]
}
,
{
"cell_type" : "markdown",
"metadata" : {},
"source" : [" test  7\n"]
}
,
{
"cell_type" : "code",
"execution_count": null,
"metadata" : {
    "collapsed" : false
},
"source" : ["dftC := nagDFT hseqC;"],
"outputs": []
}
,
{
"cell_type" : "code",
"execution_count": null,
"metadata" : {
    "collapsed" : false
},
"source" : ["dftC :: Vector Float"],
"outputs": []
}
,
{
"cell_type" : "markdown",
"metadata" : {},
"source" : [" [1.82616,1.86862,- 0.017503,0.502001,- 0.598725,- 0.0314404,- 2.62557]\n"]
}
,
{
"cell_type" : "markdown",
"metadata" : {},
"source" : [" test  8\n"]
}
,
{
"cell_type" : "code",
"execution_count": null,
"metadata" : {
    "collapsed" : false
},
"source" : ["(nagInverseDFT dftC) :: Vector Complex Float"],
"outputs": []
}
,
{
"cell_type" : "markdown",
"metadata" : {},
"source" : [" [0.34907, 0.5489 + 1.5137 %i, 0.74776 + 1.3285 %i, 0.94459 + 1.1385 %i,\n  0.94459 - 1.1385 %i, 0.74776 - 1.3285 %i, 0.5489 - 1.5137 %i]\n"]
}
,
{
"cell_type" : "markdown",
"metadata" : {},
"source" : [" test  9\n"]
}
,
{
"cell_type" : "code",
"execution_count": null,
"metadata" : {
    "collapsed" : false
},
"source" : ["nagHermitianInverseDFT dftC"],
"outputs": []
}
,
{
"cell_type" : "markdown",
"metadata" : {},
"source" : [" [0.34907000000000005, 0.54889999999999983, 0.74775999999999987,\n  0.94459000000000004, 1.1385000000000003, 1.3284999999999998,\n  1.5136999999999998]\n"]
}
,
{
"cell_type" : "markdown",
"metadata" : {},
"source" : [" test 10:\n"]
}
,
{
"cell_type" : "code",
"execution_count": null,
"metadata" : {
    "collapsed" : false
},
"source" : ["dftsD := nagDFT seqsD;"],
"outputs": []
}
,
{
"cell_type" : "code",
"execution_count": null,
"metadata" : {
    "collapsed" : false
},
"source" : ["dftsD :: List Vector Complex Float"],
"outputs": []
}
,
{
"cell_type" : "markdown",
"metadata" : {},
"source" : [" [\n   [1.07373, - 0.104062 - 0.00438406 %i, 0.112554 - 0.373777 %i, - 0.146684,\n    0.112554 + 0.373777 %i, - 0.104062 + 0.00438406 %i]\n   ,\n"]
}
,
{
"cell_type" : "markdown",
"metadata" : {},
"source" : ["   [1.39609, - 0.0365178 + 0.466584 %i, 0.077955 - 0.0607051 %i, - 0.152072,\n    0.077955 + 0.0607051 %i, - 0.0365178 - 0.466584 %i]\n   ,\n"]
}
,
{
"cell_type" : "markdown",
"metadata" : {},
"source" : ["   [1.12374, 0.0914068 - 0.050841 %i, 0.393551 + 0.345775 %i, 0.153011,\n    0.393551 - 0.345775 %i, 0.0914068 + 0.050841 %i]\n   ]\n"]
}
,
{
"cell_type" : "markdown",
"metadata" : {},
"source" : [" test 11:\n"]
}
,
{
"cell_type" : "code",
"execution_count": null,
"metadata" : {
    "collapsed" : false
},
"source" : ["invdftsD := nagInverseDFT dftsD ;"],
"outputs": []
}
,
{
"cell_type" : "code",
"execution_count": null,
"metadata" : {
    "collapsed" : false
},
"source" : ["invdftsD :: List Vector Complex Float"],
"outputs": []
}
,
{
"cell_type" : "markdown",
"metadata" : {},
"source" : [" [[0.3854,0.6772,0.1138,0.6751,0.6362,0.1424],\n  [0.5417,0.2983,0.1181,0.7255,0.8638,0.8723],\n  [0.9172,0.0644,0.6037,0.643,0.0428,0.4815]]\n"]
}
,
{
"cell_type" : "markdown",
"metadata" : {},
"source" : [" test 12:\n"]
}
,
{
"cell_type" : "code",
"execution_count": null,
"metadata" : {
    "collapsed" : false
},
"source" : ["dftsE := nagDFT seqsE;"],
"outputs": []
}
,
{
"cell_type" : "code",
"execution_count": null,
"metadata" : {
    "collapsed" : false
},
"source" : ["dftsE :: List Vector Float"],
"outputs": []
}
,
{
"cell_type" : "markdown",
"metadata" : {},
"source" : [" [[1.0788,0.662291,- 0.239146,- 0.578284,0.459192,- 0.438816],\n  [0.857321,1.22614,0.353348,- 0.222169,0.341327,- 1.22908],\n  [1.18245,0.262509,0.674406,0.552278,0.0539906,- 0.478963]]\n"]
}
,
{
"cell_type" : "markdown",
"metadata" : {},
"source" : [" test 13:\n"]
}
,
{
"cell_type" : "code",
"execution_count": null,
"metadata" : {
    "collapsed" : false
},
"source" : ["invdftsE := nagInverseDFT dftsE;"],
"outputs": []
}
,
{
"cell_type" : "code",
"execution_count": null,
"metadata" : {
    "collapsed" : false
},
"source" : ["invdftsE :: List Vector Complex Float"],
"outputs": []
}
,
{
"cell_type" : "markdown",
"metadata" : {},
"source" : [" [\n   [0.3854, 0.6772 + 0.1424 %i, 0.1138 + 0.6362 %i, 0.6751,\n    0.1138 - 0.6362 %i, 0.6772 - 0.1424 %i]\n   ,\n"]
}
,
{
"cell_type" : "markdown",
"metadata" : {},
"source" : ["   [0.5417, 0.2983 + 0.8723 %i, 0.1181 + 0.8638 %i, 0.7255,\n    0.1181 - 0.8638 %i, 0.2983 - 0.8723 %i]\n   ,\n"]
}
,
{
"cell_type" : "markdown",
"metadata" : {},
"source" : ["   [0.9172, 0.0644 + 0.4815 %i, 0.6037 + 0.0428 %i, 0.643,\n    0.6037 - 0.0428 %i, 0.0644 - 0.4815 %i]\n   ]\n"]
}
,
{
"cell_type" : "markdown",
"metadata" : {},
"source" : [" test 14:\n"]
}
,
{
"cell_type" : "code",
"execution_count": null,
"metadata" : {
    "collapsed" : false
},
"source" : ["hdftsD := nagHermitianDFT seqsD;"],
"outputs": []
}
,
{
"cell_type" : "code",
"execution_count": null,
"metadata" : {
    "collapsed" : false
},
"source" : ["map(expand,hdftsD) :: List Vector Complex Float"],
"outputs": []
}
,
{
"cell_type" : "markdown",
"metadata" : {},
"source" : [" [\n   [1.07373, - 0.104062 - 0.00438406 %i, 0.112554 - 0.373777 %i, - 0.146684,\n    0.112554 + 0.373777 %i, - 0.104062 + 0.00438406 %i]\n   ,\n"]
}
,
{
"cell_type" : "markdown",
"metadata" : {},
"source" : ["   [1.39609, - 0.0365178 + 0.466584 %i, 0.077955 - 0.0607051 %i, - 0.152072,\n    0.077955 + 0.0607051 %i, - 0.0365178 - 0.466584 %i]\n   ,\n"]
}
,
{
"cell_type" : "markdown",
"metadata" : {},
"source" : ["   [1.12374, 0.0914068 - 0.050841 %i, 0.393551 + 0.345775 %i, 0.153011,\n    0.393551 - 0.345775 %i, 0.0914068 + 0.050841 %i]\n   ]\n"]
}
,
{
"cell_type" : "markdown",
"metadata" : {},
"source" : [" test 15:\n"]
}
,
{
"cell_type" : "code",
"execution_count": null,
"metadata" : {
    "collapsed" : false
},
"source" : ["(nagInverseDFT hdftsD) :: List Vector Float"],
"outputs": []
}
,
{
"cell_type" : "markdown",
"metadata" : {},
"source" : [" [[0.3854,0.6772,0.1138,0.6751,0.6362,0.1424],\n  [0.5417,0.2983,0.1181,0.7255,0.8638,0.8723],\n  [0.9172,0.0644,0.6037,0.643,0.0428,0.4815]]\n"]
}
,
{
"cell_type" : "markdown",
"metadata" : {},
"source" : [" test 16:\n"]
}
,
{
"cell_type" : "code",
"execution_count": null,
"metadata" : {
    "collapsed" : false
},
"source" : ["dftsF := nagDFT seqsF;"],
"outputs": []
}
,
{
"cell_type" : "code",
"execution_count": null,
"metadata" : {
    "collapsed" : false
},
"source" : ["dftsF :: List Vector Complex Float"],
"outputs": []
}
,
{
"cell_type" : "markdown",
"metadata" : {},
"source" : [" [\n   [1.07373 + 1.39609 %i, - 0.570647 - 0.0409019 %i, 0.173259 - 0.295822 %i,\n    - 0.146684 - 0.152072 %i, 0.0518489 + 0.451732 %i,\n    0.362522 - 0.0321337 %i]\n   ,\n"]
}
,
{
"cell_type" : "markdown",
"metadata" : {},
"source" : ["   [1.12374 + 1.06765 %i, 0.172759 + 0.0385858 %i, 0.418548 + 0.748083 %i,\n    0.153011 + 0.17522 %i, 0.368555 + 0.0565331 %i, 0.0100542 + 0.140268 %i]\n   ,\n"]
}
,
{
"cell_type" : "markdown",
"metadata" : {},
"source" : ["   [0.909985 + 1.76167 %i, - 0.305418 + 0.0624335 %i,\n    0.407884 - 0.0694786 %i, - 0.078547 + 0.0725049 %i,\n    - 0.119334 + 0.128511 %i, - 0.531409 - 0.433531 %i]\n   ]\n"]
}
,
{
"cell_type" : "markdown",
"metadata" : {},
"source" : [" test 17:\n"]
}
,
{
"cell_type" : "code",
"execution_count": null,
"metadata" : {
    "collapsed" : false
},
"source" : ["invdftsF := nagInverseDFT dftsF ;"],
"outputs": []
}
,
{
"cell_type" : "code",
"execution_count": null,
"metadata" : {
    "collapsed" : false
},
"source" : ["invdftsF :: List Vector Complex Float"],
"outputs": []
}
,
{
"cell_type" : "markdown",
"metadata" : {},
"source" : [" [\n   [0.3854 + 0.5417 %i, 0.6772 + 0.2983 %i, 0.1138 + 0.1181 %i,\n    0.6751 + 0.7255 %i, 0.6362 + 0.8638 %i, 0.1424 + 0.8723 %i]\n   ,\n"]
}
,
{
"cell_type" : "markdown",
"metadata" : {},
"source" : ["   [0.9172 + 0.9089 %i, 0.0644 + 0.3118 %i, 0.6037 + 0.3465 %i,\n    0.643 + 0.6198 %i, 0.0428 + 0.2668 %i, 0.4815 + 0.1614 %i]\n   ,\n"]
}
,
{
"cell_type" : "markdown",
"metadata" : {},
"source" : ["   [0.1156 + 0.6214 %i, 0.0685 + 0.8681 %i, 0.206 + 0.706 %i,\n    0.863 + 0.8652 %i, 0.6967 + 0.919 %i, 0.2792 + 0.3355 %i]\n   ]\n"]
}
,
{
"cell_type" : "markdown",
"metadata" : {},
"source" : [" test 18:\n"]
}
,
{
"cell_type" : "code",
"execution_count": null,
"metadata" : {
    "collapsed" : false
},
"source" : ["nagHermitianInverseDFT dftsE"],
"outputs": []
}
,
{
"cell_type" : "markdown",
"metadata" : {},
"source" : [" [\n   [0.38540000000000013, 0.67720000000000025, 0.11380000000000001,\n    0.67510000000000014, 0.63620000000000021, 0.14240000000000003]\n   ,\n"]
}
,
{
"cell_type" : "markdown",
"metadata" : {},
"source" : ["   [0.54170000000000018, 0.29830000000000012, 0.1181, 0.72550000000000014,\n    0.86380000000000023, 0.87230000000000019]\n   ,\n"]
}
,
{
"cell_type" : "markdown",
"metadata" : {},
"source" : ["   [0.91720000000000035, 0.064399999999999999, 0.60370000000000024,\n    0.64300000000000013, 0.042799999999999991, 0.48150000000000015]\n   ]\n"]
}
,
{
"cell_type" : "markdown",
"metadata" : {},
"source" : [" error tests:\n"]
}
,
{
"cell_type" : "markdown",
"metadata" : {},
"source" : [" test 19:\n"]
}
,
{
"cell_type" : "code",
"execution_count": null,
"metadata" : {
    "collapsed" : false
},
"source" : ["nagDFT [vector [0.3854 + 0.5417*%i, 0.6772 + 0.2983*%i,   _\n                0.1138 + 0.1181*%i, 0.6751 + 0.7255*%i,   _\n                0.6362 + 0.8638*%i, 0.1424 + 0.8723*%i],  _\n        vector [0.1156 + 0.6214*%i, 0.0685 + 0.8681*%i,   _\n"],
"outputs": []
}
,
{
"cell_type" : "code",
"execution_count": null,
"metadata" : {
    "collapsed" : false
},
"source" : ["                0.6967 + 0.9190*%i, 0.2792 + 0.3355*%i]]"],
"outputs": []
}
,
{
"cell_type" : "markdown",
"metadata" : {},
"source" : [" Error signalled from user code:\n    The data sequences in nagDFT must all have the same length. The\n    length of sequence 1 is 6 that of sequence 2 is 4.\n"]
}
,
{
"cell_type" : "markdown",
"metadata" : {},
"source" : [" test 20:\n"]
}
,
{
"cell_type" : "code",
"execution_count": null,
"metadata" : {
    "collapsed" : false
},
"source" : ["nagHermitianDFT [vector [0.3854, 0.6751, 0.6362, 0.1424], _\n                 vector [0.5417, 0.7255, 0.8638, 0.8723], _\n"],
"outputs": []
}
,
{
"cell_type" : "code",
"execution_count": null,
"metadata" : {
    "collapsed" : false
},
"source" : ["                 vector [0.9172, 0.0428, 0.4815]]"],
"outputs": []
}
,
{
"cell_type" : "markdown",
"metadata" : {},
"source" : [" Error signalled from user code:\n    The data sequences in nagHermitianDFT must all have the same\n    length. The length of sequence 1 is 4 that of sequence 3 is 3.\n"]
}
,
{
"cell_type" : "markdown",
"metadata" : {},
"source" : [" test 21:\n"]
}
,
{
"cell_type" : "code",
"execution_count": null,
"metadata" : {
    "collapsed" : false
},
"source" : ["badSeqs : List PackedHermitianSequence DoubleFloat"],
"outputs": []
}
,
{
"cell_type" : "code",
"execution_count": null,
"metadata" : {
    "collapsed" : false
},
"source" : ["badSeqs := [pHS [0.3854, 0.1138, 0.6751, 0.6362, 0.1424],         _\n            pHS [0.5417, 0.2983, 0.1181, 0.7255, 0.8638, 0.8723], _\n"],
"outputs": []
}
,
{
"cell_type" : "code",
"execution_count": null,
"metadata" : {
    "collapsed" : false
},
"source" : ["            pHS [0.9172, 0.0644, 0.6037, 0.6430, 0.0428, 0.4815]];"],
"outputs": []
}
,
{
"cell_type" : "code",
"execution_count": null,
"metadata" : {
    "collapsed" : false
},
"source" : ["nagDFT badSeqs"],
"outputs": []
}
,
{
"cell_type" : "markdown",
"metadata" : {},
"source" : [" Error signalled from user code:\n    The data sequences in nagDFT must all have the same length. The\n    length of sequence 1 is 5 that of sequence 2 is 6.\n"]
}
,
{
"cell_type" : "code",
"execution_count": null,
"metadata" : {
    "collapsed" : false
},
"source" : ["outputGeneral()"],
"outputs": []
}
,
{
"cell_type" : "code",
"execution_count": null,
"metadata" : {
    "collapsed" : false
},
"source" : ["output \"End of tests\""],
"outputs": []
}
,
{
"cell_type" : "code",
"execution_count": null,
"metadata" : {
    "collapsed" : false
},
"source" : ["--\n-- EOF\n--"],
"outputs": []
}
 ],
"metadata": {
 "kernelspec": {
  "display_name": "FriCAS",
  "language": "spad",
  "name": "ifricas"
 },
 "language_info": {
  "codemirror_mode": "spad",
  "mimetype": "text/x-spad",
  "name": "SPAD",
  "pygments_lexer": "spad",
  "version": "1.2.6"
 },
 "name": "ndftip.ipynb"
},
"nbformat": 4,
"nbformat_minor": 0
}
