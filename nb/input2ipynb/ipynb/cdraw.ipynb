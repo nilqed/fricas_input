{
 "cells": [
{
"cell_type" : "markdown",
"metadata" : {},
"source" : ["Copyright The Numerical Algorithms Group Limited 1994.\n"]
}
,
{
"cell_type" : "markdown",
"metadata" : {},
"source" : [" complex surface and vector field drawing by SCM\n complex surface vector field drawing\n"]
}
,
{
"cell_type" : "code",
"execution_count": null,
"metadata" : {
    "collapsed" : false
},
"source" : ["C := Complex DoubleFloat"],
"outputs": []
}
,
{
"cell_type" : "code",
"execution_count": null,
"metadata" : {
    "collapsed" : false
},
"source" : ["S := Segment DoubleFloat"],
"outputs": []
}
,
{
"cell_type" : "code",
"execution_count": null,
"metadata" : {
    "collapsed" : false
},
"source" : ["PC := Record(rr:DoubleFloat, th:DoubleFloat)"],
"outputs": []
}
,
{
"cell_type" : "code",
"execution_count": null,
"metadata" : {
    "collapsed" : false
},
"source" : ["realSteps: PI := 25    -- the number of steps in the real direction"],
"outputs": []
}
,
{
"cell_type" : "code",
"execution_count": null,
"metadata" : {
    "collapsed" : false
},
"source" : ["imagSteps: PI := 25    -- the number of steps in the imaginary direction"],
"outputs": []
}
,
{
"cell_type" : "code",
"execution_count": null,
"metadata" : {
    "collapsed" : false
},
"source" : ["clipValue: DoubleFloat := 10    -- the maximum length of a vector to draw"],
"outputs": []
}
,
{
"cell_type" : "markdown",
"metadata" : {},
"source" : [" Draw a complex function as a height field\n uses the complex norm as the height and the complex argument as the color\n optionally it will draw arrows on the surface indicating the direction\n of the complex argument\n"]
}
,
{
"cell_type" : "markdown",
"metadata" : {},
"source" : [" sample call:\n   f: C -> C\n   f z == exp(1/z)\n   drawComplex(f, 0.3..3, 0..2*%pi, false)\n"]
}
,
{
"cell_type" : "markdown",
"metadata" : {},
"source" : [" parameter descriptions:\n   f:  the function to draw\n   rRange: the range of the real values\n   imagRange: the range of imaginary values\n"]
}
,
{
"cell_type" : "code",
"execution_count": null,
"metadata" : {
    "collapsed" : false
},
"source" : ["drawComplex(f: C -> C, realRange: S, imagRange: S): VIEW3D ==\n  free realSteps, imagSteps\n  delReal := (hi(realRange) - lo(realRange))/realSteps\n  delImag := (hi(imagRange) - lo(imagRange))/imagSteps\n  funTable: ARRAY2(PC) := new(realSteps+1, imagSteps+1, [0,0]$PC)\n  real := lo(realRange)\n  for i in 1..realSteps+1 repeat\n    imag := lo(imagRange)\n    for j in 1..imagSteps+1 repeat\n      z := f complex(real, imag)\n      funTable(i,j) := [clipFun(sqrt norm z), argument(z)]$PC\n      imag := imag + delImag\n    real := real + delReal\n  llp:List List Point DoubleFloat := []\n  real := lo(realRange)\n  for i in 1..realSteps+1 repeat\n    imag := lo(imagRange)\n    lp:List Point DoubleFloat := []\n    for j in 1..imagSteps+1 repeat\n      lp := cons(point [real,imag, funTable(i,j).rr,\n                                    funTable(i,j).th] ,lp)\n      imag := imag + delImag\n    real := real + delReal\n    llp := cons(reverse! lp, llp)\n  llp := reverse! llp\n  space := mesh(llp)$ThreeSpace(DoubleFloat)\n  makeViewport3D(space, \"Complex Function\")$VIEW3D"],
"outputs": []
}
,
{
"cell_type" : "markdown",
"metadata" : {},
"source" : [" draw a complex vector field\n these vector fields should be viewed from the top by pressing the\n \"XY\" translate button on the VIEW3D control panel\n"]
}
,
{
"cell_type" : "markdown",
"metadata" : {},
"source" : [" parameters:\n   f: the mapping from C to C which we will draw\n   realRange: the range of the reals\n   tRange: the range of the imaginaries\n"]
}
,
{
"cell_type" : "markdown",
"metadata" : {},
"source" : [" sample call:\n    f z == sin z\n    drawComplexVectorField(f, -2..2, -2..2)\n call the functions 'setRealSteps' and 'setImagSteps' to change the\n number of arrows drawn in each direction.\n"]
}
,
{
"cell_type" : "code",
"execution_count": null,
"metadata" : {
    "collapsed" : false
},
"source" : ["drawComplexVectorField(f: C -> C, realRange: S, imagRange: S): VIEW3D ==\n  -- compute the steps size of the grid\n  delReal := (hi(realRange) - lo(realRange))/realSteps\n  delImag := (hi(imagRange) - lo(imagRange))/imagSteps\n  -- create the space to hold the arrows\n  space := create3Space()$ThreeSpace DoubleFloat\n  real := lo(realRange)\n  for i in 1..realSteps+1 repeat\n    imag := lo(imagRange)\n    for j in 1..imagSteps+1 repeat\n      -- compute the function\n      z := f complex(real, imag)\n      -- get the direction of the arrow\n      arg := argument z\n      -- get the length of the arrow\n      len := clipFun(sqrt norm z)\n      -- create point at the base of the arrow\n      p1 :=  point [real, imag, 0.0@DoubleFloat, arg]\n      -- scale the arrow length so it isn't too long\n      scaleLen := delReal * len\n      -- create the point at the top of the arrow\n      p2 := point [p1.1 + scaleLen*cos(arg), p1.2 + scaleLen*sin(arg),\n                   0.0@DoubleFloat, arg]\n      -- make the pointer at the top of the arrow\n      arrow := makeArrow(p1, p2, scaleLen, arg)\n      -- add the line segments in the arrow to the space\n      for a in arrow repeat curve(space, a)$ThreeSpace DoubleFloat\n      imag := imag + delImag\n    real := real + delReal\n  -- draw the vector feild\n  makeViewport3D(space, \"Complex Vector Field\")$VIEW3D"],
"outputs": []
}
,
{
"cell_type" : "markdown",
"metadata" : {},
"source" : [" relative size of the arrow head compared to the length of the arrow\n"]
}
,
{
"cell_type" : "code",
"execution_count": null,
"metadata" : {
    "collapsed" : false
},
"source" : ["arrowScale := 0.25@DoubleFloat"],
"outputs": []
}
,
{
"cell_type" : "markdown",
"metadata" : {},
"source" : [" angle of the arrow head\n"]
}
,
{
"cell_type" : "code",
"execution_count": null,
"metadata" : {
    "collapsed" : false
},
"source" : ["arrowAngle := %pi-%pi/10.0@DoubleFloat"],
"outputs": []
}
,
{
"cell_type" : "markdown",
"metadata" : {},
"source" : [" Add an arrow head to a line segment, which starts at 'p1', ends at 'p2',\n has length 'len', and and angle 'arg'.  We pass 'len' and 'arg' as\n arguments since thet were already computed by the calling program\n"]
}
,
{
"cell_type" : "code",
"execution_count": null,
"metadata" : {
    "collapsed" : false
},
"source" : ["makeArrow(p1, p2, len, arg) ==\n  c1 := cos(arg + arrowAngle)\n  s1 := sin(arg + arrowAngle)\n  c2 := cos(arg - arrowAngle)\n  s2 := sin(arg - arrowAngle)\n  p3 := point [p2.1 + c1*arrowScale*len, p2.2 + s1*arrowScale*len,\n               p2.3, p2.4]\n  p4 := point [p2.1 + c2*arrowScale*len, p2.2 + s2*arrowScale*len,\n               p2.3, p2.4]\n  [[p1, p2, p3], [p2, p4]]"],
"outputs": []
}
,
{
"cell_type" : "markdown",
"metadata" : {},
"source" : [" set the number of steps to use in the real direction\n"]
}
,
{
"cell_type" : "code",
"execution_count": null,
"metadata" : {
    "collapsed" : false
},
"source" : ["setRealSteps(n) ==\n  free realSteps\n  realSteps := n"],
"outputs": []
}
,
{
"cell_type" : "markdown",
"metadata" : {},
"source" : [" set the number of steps to use in the imaginary direction\n"]
}
,
{
"cell_type" : "code",
"execution_count": null,
"metadata" : {
    "collapsed" : false
},
"source" : ["setImagSteps(n) ==\n  free imagSteps\n  imagSteps := n"],
"outputs": []
}
,
{
"cell_type" : "markdown",
"metadata" : {},
"source" : [" set the maximum length of a vector\n"]
}
,
{
"cell_type" : "code",
"execution_count": null,
"metadata" : {
    "collapsed" : false
},
"source" : ["setClipValue clip ==\n  free clipValue\n  clipValue := clip"],
"outputs": []
}
,
{
"cell_type" : "markdown",
"metadata" : {},
"source" : [" clip a value in the interval (-clip...clip)\n"]
}
,
{
"cell_type" : "code",
"execution_count": null,
"metadata" : {
    "collapsed" : false
},
"source" : ["clipFun(x:DoubleFloat):DoubleFloat ==\n  min(max(x, -clipValue), clipValue)"],
"outputs": []
}
,
{
"cell_type" : "code",
"execution_count": null,
"metadata" : {
    "collapsed" : false
},
"source" : ["--\n-- EOF\n--"],
"outputs": []
}
 ],
"metadata": {
 "kernelspec": {
  "display_name": "FriCAS",
  "language": "spad",
  "name": "ifricas"
 },
 "language_info": {
  "codemirror_mode": "spad",
  "mimetype": "text/x-spad",
  "name": "SPAD",
  "pygments_lexer": "spad",
  "version": "1.2.6"
 },
 "name": "cdraw.ipynb"
},
"nbformat": 4,
"nbformat_minor": 0
}
