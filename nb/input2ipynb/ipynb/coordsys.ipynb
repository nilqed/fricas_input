{
 "cells": [
{
"cell_type" : "markdown",
"metadata" : {},
"source" : ["Copyright The Numerical Algorithms Group Limited 1994.\n test input for CoordinateSystems package\n"]
}
,
{
"cell_type" : "code",
"execution_count": null,
"metadata" : {
    "collapsed" : false
},
"source" : ["draw(sin(x),x=0.5..%pi,coordinates == bipolar(1$DFLOAT))"],
"outputs": []
}
,
{
"cell_type" : "code",
"execution_count": null,
"metadata" : {
    "collapsed" : false
},
"source" : ["m(u:DFLOAT,v:DFLOAT):DFLOAT == 1"],
"outputs": []
}
,
{
"cell_type" : "code",
"execution_count": null,
"metadata" : {
    "collapsed" : false
},
"source" : ["draw(m,0..2*%pi, 0..%pi,coordinates == bipolar(1$DFLOAT))"],
"outputs": []
}
,
{
"cell_type" : "code",
"execution_count": null,
"metadata" : {
    "collapsed" : false
},
"source" : ["draw(surface(u*cos(v),u*sin(v),u),u=1..4,v=1..2*%pi,coordinates == bipolarCylindrical(1$DFLOAT))"],
"outputs": []
}
,
{
"cell_type" : "markdown",
"metadata" : {},
"source" : ["conical(a,b) maps a 3D point (lambda,mu,nu) to the rectangular coordinates:\nx = lambda*mu*nu/(a*b)\ny = lambda/a*sqrt((mu^2-a^2)*(nu^2-a^2)/(a^2-b^2))\nz = lambda/b*sqrt((mu^2-b^2)*(nu^2-b^2)/(b^2-a^2))\nNOTE:  There will be a division by zero error if a*b = 0, or a^2-b^2 = 0,\n     or if b^2-a^2 = 0. Also, the following relations must be true:\n       (mu^2-a^2)*(nu^2-a^2)/(a^2-b^2) > 0 and\n       (mu^2-b^2)*(nu^2-b^2)/(b^2-a^2) > 0.\n"]
}
,
{
"cell_type" : "code",
"execution_count": null,
"metadata" : {
    "collapsed" : false
},
"source" : ["j1(t:DFLOAT):DFLOAT == 4"],
"outputs": []
}
,
{
"cell_type" : "code",
"execution_count": null,
"metadata" : {
    "collapsed" : false
},
"source" : ["j2(t:DFLOAT):DFLOAT == t"],
"outputs": []
}
,
{
"cell_type" : "code",
"execution_count": null,
"metadata" : {
    "collapsed" : false
},
"source" : ["draw(curve(j1,j2,j2),-9..9,coordinates == cylindrical)"],
"outputs": []
}
,
{
"cell_type" : "code",
"execution_count": null,
"metadata" : {
    "collapsed" : false
},
"source" : ["draw(sin(4*t/7),t=0..14*%pi,coordinates == elliptic(1$DFLOAT))"],
"outputs": []
}
,
{
"cell_type" : "code",
"execution_count": null,
"metadata" : {
    "collapsed" : false
},
"source" : ["m(u:DFLOAT,v:DFLOAT):DFLOAT == 1"],
"outputs": []
}
,
{
"cell_type" : "code",
"execution_count": null,
"metadata" : {
    "collapsed" : false
},
"source" : ["draw(m,0..2*%pi,0..%pi,coordinates == elliptic(1$DFLOAT))"],
"outputs": []
}
,
{
"cell_type" : "code",
"execution_count": null,
"metadata" : {
    "collapsed" : false
},
"source" : ["U2:Vector Expression Integer := vector [0,0,1]"],
"outputs": []
}
,
{
"cell_type" : "code",
"execution_count": null,
"metadata" : {
    "collapsed" : false
},
"source" : ["x(u,v) == beta(u) + v*delta(u)"],
"outputs": []
}
,
{
"cell_type" : "code",
"execution_count": null,
"metadata" : {
    "collapsed" : false
},
"source" : ["beta u == vector [cos u, sin u, 0]"],
"outputs": []
}
,
{
"cell_type" : "code",
"execution_count": null,
"metadata" : {
    "collapsed" : false
},
"source" : ["delta u == (cos(u/2)) * beta(u) + sin(u/2) * U2"],
"outputs": []
}
,
{
"cell_type" : "code",
"execution_count": null,
"metadata" : {
    "collapsed" : false
},
"source" : ["vec := x(u,v)"],
"outputs": []
}
,
{
"cell_type" : "code",
"execution_count": null,
"metadata" : {
    "collapsed" : false
},
"source" : ["draw(surface(vec.1,vec.2,vec.3),v=-0.5..0.5,u=0..2*%pi,coordinates == ellipticCylindrical(1$DFLOAT),var1Steps == 50,var2Steps == 50)"],
"outputs": []
}
,
{
"cell_type" : "code",
"execution_count": null,
"metadata" : {
    "collapsed" : false
},
"source" : ["m(u:DFLOAT,v:DFLOAT):DFLOAT == 1"],
"outputs": []
}
,
{
"cell_type" : "code",
"execution_count": null,
"metadata" : {
    "collapsed" : false
},
"source" : ["draw(m,-%pi/2..%pi/2,0..2*%pi,coordinates == oblateSpheroidal(1$DFLOAT))"],
"outputs": []
}
,
{
"cell_type" : "code",
"execution_count": null,
"metadata" : {
    "collapsed" : false
},
"source" : ["h1(t:DFLOAT):DFLOAT == t"],
"outputs": []
}
,
{
"cell_type" : "code",
"execution_count": null,
"metadata" : {
    "collapsed" : false
},
"source" : ["h2(t:DFLOAT):DFLOAT == 2"],
"outputs": []
}
,
{
"cell_type" : "code",
"execution_count": null,
"metadata" : {
    "collapsed" : false
},
"source" : ["draw(curve(h1,h2),-3..3,coordinates == parabolic)"],
"outputs": []
}
,
{
"cell_type" : "code",
"execution_count": null,
"metadata" : {
    "collapsed" : false
},
"source" : ["draw(surface(u*cos(v),u*sin(v),2*u),u=0..4,v=0..2*%pi,coordinates == parabolic)"],
"outputs": []
}
,
{
"cell_type" : "code",
"execution_count": null,
"metadata" : {
    "collapsed" : false
},
"source" : ["draw(surface(u*cos(v),u*sin(v),v*cos(u)),u=0..4,v=0..2*%pi,coordinates == parabolicCylindrical)"],
"outputs": []
}
,
{
"cell_type" : "code",
"execution_count": null,
"metadata" : {
    "collapsed" : false
},
"source" : ["draw(surface(u*cos(v),u*sin(v),u*v),u=0..4,v=0..2*%pi,coordinates==paraboloidal,var1Steps == 50, var2Steps == 50)"],
"outputs": []
}
,
{
"cell_type" : "code",
"execution_count": null,
"metadata" : {
    "collapsed" : false
},
"source" : ["draw(sin(4*t/7),t=0..14*%pi,coordinates == polar)"],
"outputs": []
}
,
{
"cell_type" : "code",
"execution_count": null,
"metadata" : {
    "collapsed" : false
},
"source" : ["m(u:DFLOAT,v:DFLOAT):DFLOAT == 1"],
"outputs": []
}
,
{
"cell_type" : "code",
"execution_count": null,
"metadata" : {
    "collapsed" : false
},
"source" : ["draw(m,0..2*%pi, 0..%pi,coordinates == polar)"],
"outputs": []
}
,
{
"cell_type" : "code",
"execution_count": null,
"metadata" : {
    "collapsed" : false
},
"source" : ["m(u:DFLOAT,v:DFLOAT):DFLOAT == 1"],
"outputs": []
}
,
{
"cell_type" : "code",
"execution_count": null,
"metadata" : {
    "collapsed" : false
},
"source" : ["draw(m,-%pi/2..%pi/2,0..2*%pi,coordinates == prolateSpheroidal(1$DFLOAT))"],
"outputs": []
}
,
{
"cell_type" : "code",
"execution_count": null,
"metadata" : {
    "collapsed" : false
},
"source" : ["m(u:DFLOAT,v:DFLOAT):DFLOAT == 1"],
"outputs": []
}
,
{
"cell_type" : "code",
"execution_count": null,
"metadata" : {
    "collapsed" : false
},
"source" : ["draw(m,0..2*%pi,0..%pi,coordinates == spherical)"],
"outputs": []
}
,
{
"cell_type" : "code",
"execution_count": null,
"metadata" : {
    "collapsed" : false
},
"source" : ["draw(surface(u*cos(v),u*sin(v),u),u=1..4,v=1..4*%pi,coordinates == toroidal(1$DFLOAT))"],
"outputs": []
}
,
{
"cell_type" : "code",
"execution_count": null,
"metadata" : {
    "collapsed" : false
},
"source" : ["--\n-- EOF\n--"],
"outputs": []
}
 ],
"metadata": {
 "kernelspec": {
  "display_name": "FriCAS",
  "language": "spad",
  "name": "ifricas"
 },
 "language_info": {
  "codemirror_mode": "spad",
  "mimetype": "text/x-spad",
  "name": "SPAD",
  "pygments_lexer": "spad",
  "version": "1.2.6"
 },
 "name": "coordsys.ipynb"
},
"nbformat": 4,
"nbformat_minor": 0
}
