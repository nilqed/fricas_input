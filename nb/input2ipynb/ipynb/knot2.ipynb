{
 "cells": [
{
"cell_type" : "code",
"execution_count": null,
"metadata" : {
    "collapsed" : false
},
"source" : [")clear all"],
"outputs": []
}
,
{
"cell_type" : "markdown",
"metadata" : {},
"source" : [" see how long this all takes\n"]
}
,
{
"cell_type" : "code",
"execution_count": null,
"metadata" : {
    "collapsed" : false
},
"source" : [")set messages time on"],
"outputs": []
}
,
{
"cell_type" : "markdown",
"metadata" : {},
"source" : [" this is the color function, nothing elaborate for now\n f(x:SF):SF == x\n"]
}
,
{
"cell_type" : "markdown",
"metadata" : {},
"source" : ["\n         Creation of the knot!!!                          --\n only p/q is really used, but p and q correspond to       --\n the factors in the notes deriving these knotty things    --\n see the notes for detail...too involved to explain here  --\n\n"]
}
,
{
"cell_type" : "code",
"execution_count": null,
"metadata" : {
    "collapsed" : false
},
"source" : ["[p,q] := [3,5]"],
"outputs": []
}
,
{
"cell_type" : "code",
"execution_count": null,
"metadata" : {
    "collapsed" : false
},
"source" : ["PQ    := p/q"],
"outputs": []
}
,
{
"cell_type" : "code",
"execution_count": null,
"metadata" : {
    "collapsed" : false
},
"source" : ["l := lcm(p, q) quo p"],
"outputs": []
}
,
{
"cell_type" : "code",
"execution_count": null,
"metadata" : {
    "collapsed" : false
},
"source" : ["maxRange := (odd? l => l * %pi; 2 * l * %pi)"],
"outputs": []
}
,
{
"cell_type" : "code",
"execution_count": null,
"metadata" : {
    "collapsed" : false
},
"source" : ["theRange := 0..maxRange"],
"outputs": []
}
,
{
"cell_type" : "code",
"execution_count": null,
"metadata" : {
    "collapsed" : false
},
"source" : ["draw(curve(sin t * cos(PQ*t),cos t * cos(PQ*t),cos t * sin(PQ*t)),\n     t=theRange, tubeRadius==0.1)"],
"outputs": []
}
,
{
"cell_type" : "markdown",
"metadata" : {},
"source" : [" create the knot\n knot:TUBE Plot3D := tubePlot(sin t * cos(PQ*t),cos t * cos(PQ*t),cos t * sin(PQ*t),\n                      f, theRange, 0.1::SF, 6, \"open\" )$ExpressionTubePlot\n"]
}
,
{
"cell_type" : "markdown",
"metadata" : {},
"source" : [" make a viewport out of it\nmakeViewport3D(knot, concat [\"knot\",p::String,q::String])$VIEW3D\n"]
}
,
{
"cell_type" : "code",
"execution_count": null,
"metadata" : {
    "collapsed" : false
},
"source" : ["--\n-- EOF\n--"],
"outputs": []
}
 ],
"metadata": {
 "kernelspec": {
  "display_name": "FriCAS",
  "language": "spad",
  "name": "ifricas"
 },
 "language_info": {
  "codemirror_mode": "spad",
  "mimetype": "text/x-spad",
  "name": "SPAD",
  "pygments_lexer": "spad",
  "version": "1.2.6"
 },
 "name": "knot2.ipynb"
},
"nbformat": 4,
"nbformat_minor": 0
}
