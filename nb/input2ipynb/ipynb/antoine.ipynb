{
 "cells": [
{
"cell_type" : "markdown",
"metadata" : {},
"source" : ["Copyright The Numerical Algorithms Group Limited 1994.\n Draw Antoine's Necklace\n Thanks to Matt Grayson (formerly at IBM's T.J Watson Research Center)\n for the idea.\n"]
}
,
{
"cell_type" : "markdown",
"metadata" : {},
"source" : [" Bring DH matrices into the environment\n"]
}
,
{
"cell_type" : "code",
"execution_count": null,
"metadata" : {
    "collapsed" : false
},
"source" : [")set expose add con DenavitHartenbergMatrix"],
"outputs": []
}
,
{
"cell_type" : "code",
"execution_count": null,
"metadata" : {
    "collapsed" : false
},
"source" : [")read dhtri"],
"outputs": []
}
,
{
"cell_type" : "markdown",
"metadata" : {},
"source" : [" The current transformation for drawing a sub-ring\n"]
}
,
{
"cell_type" : "code",
"execution_count": null,
"metadata" : {
    "collapsed" : false
},
"source" : ["torusRot: DHMATRIX(DoubleFloat)"],
"outputs": []
}
,
{
"cell_type" : "markdown",
"metadata" : {},
"source" : [" Draw Antoine's Rings with n levels of recursive subdivision.\n The number of subrings is 10^n.\n"]
}
,
{
"cell_type" : "code",
"execution_count": null,
"metadata" : {
    "collapsed" : false
},
"source" : ["drawRings(n) ==\n  s := create3Space()$ThreeSpace DoubleFloat\n  -- create an identity transformation\n  dh:DHMATRIX(DoubleFloat) := identity()\n  drawRingsInner(s, n, dh)\n  makeViewport3D(s, \"Antoine's Necklace\")"],
"outputs": []
}
,
{
"cell_type" : "markdown",
"metadata" : {},
"source" : [" Recursively draw Antoine's Necklace.\n"]
}
,
{
"cell_type" : "code",
"execution_count": null,
"metadata" : {
    "collapsed" : false
},
"source" : ["drawRingsInner(s, n, dh) ==\n  n = 0 =>\n    drawRing(s, dh)\n    void()\n  t := 0.0@DoubleFloat             -- the current angle around the ring\n  p := 0.0@DoubleFloat             -- the angle of the subring from the plane\n  tr := 1.0@DoubleFloat            -- the amount to translate the subring\n  inc := 0.1@DoubleFloat           -- translation increment\n  -- subdivide the ring into 10 linked rings\n  for i in 1..10 repeat\n    tr := tr + inc\n    inc := -inc\n    dh' := dh * rotatez(t) * translate(tr, 0.0@DoubleFloat, 0.0@DoubleFloat) *\n           rotatey(p) * scale(0.35@DoubleFloat, 0.48@DoubleFloat, 0.4@DoubleFloat)\n    drawRingsInner(s, n-1, dh')\n    t := t + 36.0@DoubleFloat\n    p := p + 90.0@DoubleFloat\n  void()"],
"outputs": []
}
,
{
"cell_type" : "markdown",
"metadata" : {},
"source" : [" draw a single ring into the given subspace, transformed by the given\n DHMATRIX.\n"]
}
,
{
"cell_type" : "code",
"execution_count": null,
"metadata" : {
    "collapsed" : false
},
"source" : ["drawRing(s, dh) ==\n  free torusRot\n  torusRot := dh\n  makeObject(torus, 0..2*%pi, 0..2*%pi, var1Steps == 6, space == s,\n             var2Steps == 15)"],
"outputs": []
}
,
{
"cell_type" : "markdown",
"metadata" : {},
"source" : [" Parameterization of a torus, transformed by the DHMATRIX in torusRot.\n"]
}
,
{
"cell_type" : "code",
"execution_count": null,
"metadata" : {
    "collapsed" : false
},
"source" : ["torus(u ,v) ==\n  cu := cos(u)/6\n  torusRot * point [(1+cu)*cos(v), (1+cu)*sin(v), (sin u)/6]"],
"outputs": []
}
,
{
"cell_type" : "code",
"execution_count": null,
"metadata" : {
    "collapsed" : false
},
"source" : ["--\n-- EOF\n--"],
"outputs": []
}
 ],
"metadata": {
 "kernelspec": {
  "display_name": "FriCAS",
  "language": "spad",
  "name": "ifricas"
 },
 "language_info": {
  "codemirror_mode": "spad",
  "mimetype": "text/x-spad",
  "name": "SPAD",
  "pygments_lexer": "spad",
  "version": "1.2.6"
 },
 "name": "antoine.ipynb"
},
"nbformat": 4,
"nbformat_minor": 0
}
