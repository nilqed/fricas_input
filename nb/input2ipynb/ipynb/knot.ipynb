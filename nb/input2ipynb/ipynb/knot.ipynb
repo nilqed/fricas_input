{
 "cells": [
{
"cell_type" : "markdown",
"metadata" : {},
"source" : ["Copyright The Numerical Algorithms Group Limited 1991.\n"]
}
,
{
"cell_type" : "code",
"execution_count": null,
"metadata" : {
    "collapsed" : false
},
"source" : [")cl all"],
"outputs": []
}
,
{
"cell_type" : "markdown",
"metadata" : {},
"source" : [" Create a (p,q) torus-knot with radius around the curve of r.\n"]
}
,
{
"cell_type" : "code",
"execution_count": null,
"metadata" : {
    "collapsed" : false
},
"source" : ["torusKnot(p,q,r) ==\n  a := 1\n  b := 1\n  ab := a+b\n  fac := 2*ab/(1.1*ab-sin(q*t))\n  Title := concat(\"Torus Knot of Type (\", concat(p::String,\n                  concat(\",\", concat(q::String, \")\"))))\n  Curve := curve(a*fac*cos(p*t), a*fac*sin(p*t), b*fac*cos(q*t))\n  r = 0 => draw(Curve, t=0..2*%pi, title == Title)\n  draw(Curve, t=0..2*%pi, tubeRadius == r, title == Title)"],
"outputs": []
}
,
{
"cell_type" : "code",
"execution_count": null,
"metadata" : {
    "collapsed" : false
},
"source" : ["torusKnot(2, 3, 0.3)"],
"outputs": []
}
,
{
"cell_type" : "code",
"execution_count": null,
"metadata" : {
    "collapsed" : false
},
"source" : ["--\n-- EOF\n--"],
"outputs": []
}
 ],
"metadata": {
 "kernelspec": {
  "display_name": "FriCAS",
  "language": "spad",
  "name": "ifricas"
 },
 "language_info": {
  "codemirror_mode": "spad",
  "mimetype": "text/x-spad",
  "name": "SPAD",
  "pygments_lexer": "spad",
  "version": "1.2.6"
 },
 "name": "knot.ipynb"
},
"nbformat": 4,
"nbformat_minor": 0
}
