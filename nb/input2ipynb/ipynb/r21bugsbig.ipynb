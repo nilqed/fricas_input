{
 "cells": [
{
"cell_type" : "code",
"execution_count": null,
"metadata" : {
    "collapsed" : false
},
"source" : [")set break resume"],
"outputs": []
}
,
{
"cell_type" : "markdown",
"metadata" : {},
"source" : [" takes a long time\n"]
}
,
{
"cell_type" : "code",
"execution_count": null,
"metadata" : {
    "collapsed" : false
},
"source" : [")clear completely"],
"outputs": []
}
,
{
"cell_type" : "code",
"execution_count": null,
"metadata" : {
    "collapsed" : false
},
"source" : [")set expose add constructor CyclotomicPolynomialPackage"],
"outputs": []
}
,
{
"cell_type" : "code",
"execution_count": null,
"metadata" : {
    "collapsed" : false
},
"source" : [")set message type off"],
"outputs": []
}
,
{
"cell_type" : "code",
"execution_count": null,
"metadata" : {
    "collapsed" : false
},
"source" : [")set message time off"],
"outputs": []
}
,
{
"cell_type" : "code",
"execution_count": null,
"metadata" : {
    "collapsed" : false
},
"source" : ["n : PositiveInteger := 5"],
"outputs": []
}
,
{
"cell_type" : "code",
"execution_count": null,
"metadata" : {
    "collapsed" : false
},
"source" : ["UZn : List(PositiveInteger) := [i for i in 1 .. n-1 | gcd(i,n) = 1]"],
"outputs": []
}
,
{
"cell_type" : "markdown",
"metadata" : {},
"source" : [" K = Q(t), corps des fractions rationnelles a Phi(n) indeterminees sur Q\n"]
}
,
{
"cell_type" : "code",
"execution_count": null,
"metadata" : {
    "collapsed" : false
},
"source" : ["vars : List(Symbol) := [concat(\"t\", i::String)::Symbol for i in 0 ..#UZn-1] ;"],
"outputs": []
}
,
{
"cell_type" : "code",
"execution_count": null,
"metadata" : {
    "collapsed" : false
},
"source" : ["Zt := DistributedMultivariatePolynomial(vars, Integer) ;   K :=Fraction(Zt) ;"],
"outputs": []
}
,
{
"cell_type" : "code",
"execution_count": null,
"metadata" : {
    "collapsed" : false
},
"source" : ["t : List(K) := [v::K for v in vars]"],
"outputs": []
}
,
{
"cell_type" : "markdown",
"metadata" : {},
"source" : [" ATTENTION : on specialise certains des indeterminees\n"]
}
,
{
"cell_type" : "code",
"execution_count": null,
"metadata" : {
    "collapsed" : false
},
"source" : ["t(#t) := 0 ; t"],
"outputs": []
}
,
{
"cell_type" : "code",
"execution_count": null,
"metadata" : {
    "collapsed" : false
},
"source" : ["Zn := IntegerMod(n) ;"],
"outputs": []
}
,
{
"cell_type" : "code",
"execution_count": null,
"metadata" : {
    "collapsed" : false
},
"source" : ["rapport(i : Integer, j : Integer) : Integer ==   -- returns <i/j> modulo n\n   k : Zn := i * recip(j::Zn)::Zn\n   return convert(k)"],
"outputs": []
}
,
{
"cell_type" : "code",
"execution_count": null,
"metadata" : {
    "collapsed" : false
},
"source" : ["Phi : UP('xi, K) := map(coerce, cyclotomic(n))"],
"outputs": []
}
,
{
"cell_type" : "markdown",
"metadata" : {},
"source" : [" E est l'extension cyclotomique de K par les racines n-iemes de l'unite\n"]
}
,
{
"cell_type" : "code",
"execution_count": null,
"metadata" : {
    "collapsed" : false
},
"source" : ["E := SimpleAlgebraicExtension(K, UP('xi, K), Phi) ;"],
"outputs": []
}
,
{
"cell_type" : "code",
"execution_count": null,
"metadata" : {
    "collapsed" : false
},
"source" : ["xi : E := generator()$E ;"],
"outputs": []
}
,
{
"cell_type" : "code",
"execution_count": null,
"metadata" : {
    "collapsed" : false
},
"source" : ["bList : List(E) := [reduce(+, [t(i+1) * xi^(i*j) for i in 0 .. #UZn-1]) for j in UZn]"],
"outputs": []
}
,
{
"cell_type" : "markdown",
"metadata" : {},
"source" : [" delta(j) = delta(j, 1) avec les nouvelles notations\n"]
}
,
{
"cell_type" : "code",
"execution_count": null,
"metadata" : {
    "collapsed" : false
},
"source" : ["delta : List(E) :=\n  [reduce(*, [b^((j*rapport(1,k)) quo n) for b in bList for k in UZn]) for j in UZn] ;"],
"outputs": []
}
,
{
"cell_type" : "markdown",
"metadata" : {},
"source" : [" verification en introduisant la liste B des Bj\n"]
}
,
{
"cell_type" : "code",
"execution_count": null,
"metadata" : {
    "collapsed" : false
},
"source" : ["B : List(E) := [reduce(*, [b^rapport(j,i) for b in bList for i in UZn]) for j in UZn] ;"],
"outputs": []
}
,
{
"cell_type" : "code",
"execution_count": null,
"metadata" : {
    "collapsed" : false
},
"source" : ["[B(1)^j - b * d^n for b in B for d in delta for j in UZn]"],
"outputs": []
}
,
{
"cell_type" : "code",
"execution_count": null,
"metadata" : {
    "collapsed" : false
},
"source" : ["L := SimpleAlgebraicExtension(E, UP('C1, E), C1^n - B(1)) ;  C1 : L := generator()$L ;"],
"outputs": []
}
,
{
"cell_type" : "markdown",
"metadata" : {},
"source" : [" retracter de L sur Zt : Zt < K < E < L\n"]
}
,
{
"cell_type" : "code",
"execution_count": null,
"metadata" : {
    "collapsed" : false
},
"source" : ["retraction(z : L) : Zt ==\n   zE : E := retract(z)\n   zK : K := retract(zE)\n   zt : Zt := retract(zK)\n   return zt"],
"outputs": []
}
,
{
"cell_type" : "code",
"execution_count": null,
"metadata" : {
    "collapsed" : false
},
"source" : [")set message time on"],
"outputs": []
}
,
{
"cell_type" : "code",
"execution_count": null,
"metadata" : {
    "collapsed" : false
},
"source" : ["C : List(L) := [C1^j / d for j in UZn for d in delta] ;"],
"outputs": []
}
,
{
"cell_type" : "markdown",
"metadata" : {},
"source" : [" en principe [c^n for c in C] = B\n"]
}
,
{
"cell_type" : "code",
"execution_count": null,
"metadata" : {
    "collapsed" : false
},
"source" : ["r : List(L) := [reduce(+, [c * xi^(k*j) for j in UZn for c in C]) for k in 0 .. n-1] ;"],
"outputs": []
}
,
{
"cell_type" : "code",
"execution_count": null,
"metadata" : {
    "collapsed" : false
},
"source" : ["LX := UP('X, L) ;  X : LX := monomial(1, 1) ;"],
"outputs": []
}
,
{
"cell_type" : "code",
"execution_count": null,
"metadata" : {
    "collapsed" : false
},
"source" : ["g : LX := reduce(*, [X - rho for rho in r]) ;"],
"outputs": []
}
,
{
"cell_type" : "code",
"execution_count": null,
"metadata" : {
    "collapsed" : false
},
"source" : ["f : UP('X, Zt) := map(retraction, g)"],
"outputs": []
}
,
{
"cell_type" : "code",
"execution_count": null,
"metadata" : {
    "collapsed" : false
},
"source" : ["--\n-- EOF\n--"],
"outputs": []
}
 ],
"metadata": {
 "kernelspec": {
  "display_name": "FriCAS",
  "language": "spad",
  "name": "ifricas"
 },
 "language_info": {
  "codemirror_mode": "spad",
  "mimetype": "text/x-spad",
  "name": "SPAD",
  "pygments_lexer": "spad",
  "version": "1.2.6"
 },
 "name": "r21bugsbig.ipynb"
},
"nbformat": 4,
"nbformat_minor": 0
}
