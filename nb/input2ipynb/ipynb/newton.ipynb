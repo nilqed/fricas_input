{
 "cells": [
{
"cell_type" : "markdown",
"metadata" : {},
"source" : ["Copyright The Numerical Algorithms Group Limited 1994.\n Newton's Iteration function\n"]
}
,
{
"cell_type" : "markdown",
"metadata" : {},
"source" : [" newtonStep(f) returns a newton's iteration function for the\n expression f.\n"]
}
,
{
"cell_type" : "code",
"execution_count": null,
"metadata" : {
    "collapsed" : false
},
"source" : ["newtonStep(f) ==\n  fun  := complexNumericFunction f\n  deriv := complexDerivativeFunction(f,1)\n  (b:Complex DoubleFloat):Complex DoubleFloat +->\n    b - fun(b)/deriv(b)"],
"outputs": []
}
,
{
"cell_type" : "markdown",
"metadata" : {},
"source" : [" create complex numeric functions from an expression\n"]
}
,
{
"cell_type" : "code",
"execution_count": null,
"metadata" : {
    "collapsed" : false
},
"source" : ["complexFunPack := MakeUnaryCompiledFunction(EXPR INT, Complex DoubleFloat, Complex DoubleFloat)"],
"outputs": []
}
,
{
"cell_type" : "markdown",
"metadata" : {},
"source" : [" create a complex numeric function from an expression\n"]
}
,
{
"cell_type" : "code",
"execution_count": null,
"metadata" : {
    "collapsed" : false
},
"source" : ["complexNumericFunction x ==\n  v := theVariable x\n  compiledFunction(x, v)$complexFunPack"],
"outputs": []
}
,
{
"cell_type" : "markdown",
"metadata" : {},
"source" : [" create a complex numeric derivatiave function from an expression\n"]
}
,
{
"cell_type" : "code",
"execution_count": null,
"metadata" : {
    "collapsed" : false
},
"source" : ["complexDerivativeFunction(x,n) ==\n  v := theVariable x\n  df := differentiate(x,v,n)\n  compiledFunction(df, v)$complexFunPack"],
"outputs": []
}
,
{
"cell_type" : "markdown",
"metadata" : {},
"source" : [" return the unique variable in x, or an error if it is multivariate\n"]
}
,
{
"cell_type" : "code",
"execution_count": null,
"metadata" : {
    "collapsed" : false
},
"source" : ["theVariable x ==\n  vl := variables x\n  nv := # vl\n  nv > 1 => error \"Expression is not univariate.\"\n  nv = 0 => 'x\n  first vl"],
"outputs": []
}
,
{
"cell_type" : "code",
"execution_count": null,
"metadata" : {
    "collapsed" : false
},
"source" : ["--\n-- EOF\n--"],
"outputs": []
}
 ],
"metadata": {
 "kernelspec": {
  "display_name": "FriCAS",
  "language": "spad",
  "name": "ifricas"
 },
 "language_info": {
  "codemirror_mode": "spad",
  "mimetype": "text/x-spad",
  "name": "SPAD",
  "pygments_lexer": "spad",
  "version": "1.2.6"
 },
 "name": "newton.ipynb"
},
"nbformat": 4,
"nbformat_minor": 0
}
