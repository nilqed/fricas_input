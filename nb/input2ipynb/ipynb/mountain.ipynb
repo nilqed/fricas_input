{
 "cells": [
{
"cell_type" : "markdown",
"metadata" : {},
"source" : ["Copyright The Numerical Algorithms Group Limited 1994.\n"]
}
,
{
"cell_type" : "markdown",
"metadata" : {},
"source" : [" Draw a fractal mountain\n"]
}
,
{
"cell_type" : "code",
"execution_count": null,
"metadata" : {
    "collapsed" : false
},
"source" : [")clear all"],
"outputs": []
}
,
{
"cell_type" : "markdown",
"metadata" : {},
"source" : [" compile the functions\n"]
}
,
{
"cell_type" : "code",
"execution_count": null,
"metadata" : {
    "collapsed" : false
},
"source" : [")set function compile on"],
"outputs": []
}
,
{
"cell_type" : "markdown",
"metadata" : {},
"source" : [" Generate Gaussian random numbers\n Algorithm by Richard Voss from \"The Science of Fractal Images\", pg. 77\n"]
}
,
{
"cell_type" : "markdown",
"metadata" : {},
"source" : [" function to convert a number into machine floating point\n"]
}
,
{
"cell_type" : "code",
"execution_count": null,
"metadata" : {
    "collapsed" : false
},
"source" : ["sf f == f::DFLOAT"],
"outputs": []
}
,
{
"cell_type" : "code",
"execution_count": null,
"metadata" : {
    "collapsed" : false
},
"source" : ["Nrand := 4"],
"outputs": []
}
,
{
"cell_type" : "code",
"execution_count": null,
"metadata" : {
    "collapsed" : false
},
"source" : ["Arand := 2^26 - 1"],
"outputs": []
}
,
{
"cell_type" : "code",
"execution_count": null,
"metadata" : {
    "collapsed" : false
},
"source" : ["GaussAdd := sqrt(sf(3.0) * Nrand)"],
"outputs": []
}
,
{
"cell_type" : "code",
"execution_count": null,
"metadata" : {
    "collapsed" : false
},
"source" : ["GaussFac := sf(2.0) * GaussAdd/((sf Nrand) * (sf Arand))"],
"outputs": []
}
,
{
"cell_type" : "markdown",
"metadata" : {},
"source" : [" generate a random number\n"]
}
,
{
"cell_type" : "code",
"execution_count": null,
"metadata" : {
    "collapsed" : false
},
"source" : ["Gauss() ==\n  sum := sf 0.0\n  for i in 1..Nrand repeat\n    sum := sum + random(Arand)$INT\n  GaussFac * sum - GaussAdd"],
"outputs": []
}
,
{
"cell_type" : "markdown",
"metadata" : {},
"source" : [" Generate fractal mountains.\n"]
}
,
{
"cell_type" : "markdown",
"metadata" : {},
"source" : [" Algorithms by Richard Voss from \"The Science of Fractal Images\", pg. 100\n"]
}
,
{
"cell_type" : "code",
"execution_count": null,
"metadata" : {
    "collapsed" : false
},
"source" : ["sfHalf  := sf 0.5"],
"outputs": []
}
,
{
"cell_type" : "code",
"execution_count": null,
"metadata" : {
    "collapsed" : false
},
"source" : ["sfThree := sf 3.0"],
"outputs": []
}
,
{
"cell_type" : "code",
"execution_count": null,
"metadata" : {
    "collapsed" : false
},
"source" : ["sfFour  := sf 4.0"],
"outputs": []
}
,
{
"cell_type" : "code",
"execution_count": null,
"metadata" : {
    "collapsed" : false
},
"source" : ["f3(delta,x0,x1,x2) == (x0+x1+x2)/sfThree + delta*Gauss()"],
"outputs": []
}
,
{
"cell_type" : "code",
"execution_count": null,
"metadata" : {
    "collapsed" : false
},
"source" : ["f4(delta,x0,x1,x2,x3) == (x0+x1+x2+x3)/sfFour + delta*Gauss()"],
"outputs": []
}
,
{
"cell_type" : "markdown",
"metadata" : {},
"source" : [" perform midpoint subdivision\n"]
}
,
{
"cell_type" : "code",
"execution_count": null,
"metadata" : {
    "collapsed" : false
},
"source" : ["MidPointFM(maxLevel, sigma, H) ==\n  N := 2^maxLevel\n  delta := sigma\n  arraySize := (N+1)\n  X:IARRAY2(DFLOAT,0,0) := new(arraySize, arraySize, sf 0.0)\n  setelt!(X, 0, 0, delta*Gauss())\n  setelt!(X, 0, N, delta*Gauss())\n  setelt!(X, N, 0, delta*Gauss())\n  setelt!(X, N, N, delta*Gauss())\n  D := N\n  d := N quo 2\n  for stage in 1..maxLevel repeat\n    delta := delta*(sfHalf^(sfHalf*H))\n    for x in d..(N-d) by D repeat\n      for y in d..(N-d) by D repeat\n        setelt!(X, x, y, f4(delta, elt(X,x+d,y+d), elt(X,x+d,y-d),\n                           elt(X, x-d, x+d), elt(X, x-d, y-d)))\n    for x in 0..N by D repeat\n      for y in 0..N by D repeat\n        setelt!(X, x, y, elt(X,x,y) + delta*Gauss())\n    delta := delta*(sfHalf^(sfHalf*H))\n    for x in d..(N-d) by D repeat\n      setelt!(X,x,0, f3(delta, elt(X,x+d,0), elt(X,x-d,0), elt(X,x,d)))\n      setelt!(X,x,N, f3(delta, elt(X,x+d,N), elt(X,x-d,N), elt(X,x,N-d)))\n      setelt!(X,0,x, f3(delta, elt(X,0,x+d), elt(X,0,x-d), elt(X,d,x)))\n      setelt!(X,N,x, f3(delta, elt(X,N,x+d), elt(X,N,x-d), elt(X,N-d,x)))\n    for x in d..(N-d) by D repeat\n      for y in D..(N-d) by D repeat\n        setelt!(X,x,y, f4(delta, elt(X,x,y+d), elt(X,x,y-d),\n                         elt(X,x+d,y), elt(X,x-d,y)))\n    for x in D..(N-d) by D repeat\n      for y in d..(N-d) by D repeat\n        setelt!(X,x,y, f4(delta, elt(X,x,y+d), elt(X,x,y-d),\n                         elt(X,x+d,y), elt(X,x-d,y)))\n    for x in 0..N by D repeat\n      for y in 0..N by D repeat\n        setelt!(X,x,y, elt(X,x,y) + delta*Gauss())\n    for x in d..(N-d) by D repeat\n      for y in d..(N-d) by D repeat\n        setelt!(X,x,y, elt(X,x,y) + delta*Gauss())\n    D := D quo 2\n    d := d quo 2\n  X"],
"outputs": []
}
,
{
"cell_type" : "code",
"execution_count": null,
"metadata" : {
    "collapsed" : false
},
"source" : ["sfZero := sf 0"],
"outputs": []
}
,
{
"cell_type" : "code",
"execution_count": null,
"metadata" : {
    "collapsed" : false
},
"source" : ["Sigma := sf 7"],
"outputs": []
}
,
{
"cell_type" : "markdown",
"metadata" : {},
"source" : [" function passed to the draw\n"]
}
,
{
"cell_type" : "code",
"execution_count": null,
"metadata" : {
    "collapsed" : false
},
"source" : ["tableVal(x: DFLOAT, y:DFLOAT):DFLOAT ==\n  free table, xIndex, yIndex, rowSize\n  val := elt(table, xIndex, yIndex)\n  xIndex := xIndex + 1\n  if xIndex > rowSize then (xIndex := 0; yIndex := yIndex + 1)\n  val < sfZero => sfZero\n  val"],
"outputs": []
}
,
{
"cell_type" : "markdown",
"metadata" : {},
"source" : [" draw a mountain with maxLevel subdivisions with Haussdorf dimension H\n the number of subdivisions of the mountain is 2^maxLevel, so you\n probably should keep maxLevel <= 8.  Also 0 < H <= 1.  The closer\n H is to one, the smoother the mountain will be.\n"]
}
,
{
"cell_type" : "code",
"execution_count": null,
"metadata" : {
    "collapsed" : false
},
"source" : ["drawMountain(maxLevel, H) ==\n  free table, xIndex, yIndex, rowSize\n  table := MidPointFM(maxLevel, Sigma, H)\n  N := 2^maxLevel\n  xIndex := 0\n  yIndex := 0\n  rowSize := N\n  draw(tableVal, -20..20, -20..20,\n    var1Steps == N, var2Steps == N, title == \"Fractal Mountain\")"],
"outputs": []
}
,
{
"cell_type" : "code",
"execution_count": null,
"metadata" : {
    "collapsed" : false
},
"source" : ["drawMountain(3, sf 0.95)"],
"outputs": []
}
,
{
"cell_type" : "code",
"execution_count": null,
"metadata" : {
    "collapsed" : false
},
"source" : ["--\n-- EOF\n--"],
"outputs": []
}
 ],
"metadata": {
 "kernelspec": {
  "display_name": "FriCAS",
  "language": "spad",
  "name": "ifricas"
 },
 "language_info": {
  "codemirror_mode": "spad",
  "mimetype": "text/x-spad",
  "name": "SPAD",
  "pygments_lexer": "spad",
  "version": "1.2.6"
 },
 "name": "mountain.ipynb"
},
"nbformat": 4,
"nbformat_minor": 0
}
