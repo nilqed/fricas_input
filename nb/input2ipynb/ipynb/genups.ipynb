{
 "cells": [
{
"cell_type" : "markdown",
"metadata" : {},
"source" : ["Copyright The Numerical Algorithms Group Limited 1991.\n"]
}
,
{
"cell_type" : "code",
"execution_count": null,
"metadata" : {
    "collapsed" : false
},
"source" : [")cl all"],
"outputs": []
}
,
{
"cell_type" : "code",
"execution_count": null,
"metadata" : {
    "collapsed" : false
},
"source" : ["taylor(n +-> 1/factorial(n),x = 0)      -- expansion of exp(x) at x = 0"],
"outputs": []
}
,
{
"cell_type" : "code",
"execution_count": null,
"metadata" : {
    "collapsed" : false
},
"source" : ["taylor(n +-> (-1)^(n-1)/n,x = 1,1..)   -- expansion of log(x) at x = 1"],
"outputs": []
}
,
{
"cell_type" : "code",
"execution_count": null,
"metadata" : {
    "collapsed" : false
},
"source" : ["taylor(n +-> (-1)^(n-1)/n,x = 1,1..6)  -- truncated expansion of log(x)"],
"outputs": []
}
,
{
"cell_type" : "code",
"execution_count": null,
"metadata" : {
    "collapsed" : false
},
"source" : ["laurent(m +-> m^2,x = 7,-2..)          -- infinite Laurent expansion"],
"outputs": []
}
,
{
"cell_type" : "code",
"execution_count": null,
"metadata" : {
    "collapsed" : false
},
"source" : ["laurent(m +-> m^2,x = 7,-2..5)         --   finite Laurent expansion"],
"outputs": []
}
,
{
"cell_type" : "code",
"execution_count": null,
"metadata" : {
    "collapsed" : false
},
"source" : ["puiseux(i +-> (-1)^((i-1)/2)/factorial(i),x = 0,1..,2)  -- sin(x) at x = 0"],
"outputs": []
}
,
{
"cell_type" : "code",
"execution_count": null,
"metadata" : {
    "collapsed" : false
},
"source" : ["puiseux(i +-> (-1)^(i/2)/factorial(i),x = 0,0..,2)      -- cos(x) at x = 0"],
"outputs": []
}
,
{
"cell_type" : "markdown",
"metadata" : {},
"source" : [" puiseux(i +-> (-1)^((i-1)/2)/factorial(i),x = 0,1..9,2) -- truncated sin(x)\n interpretor needs help here\n"]
}
,
{
"cell_type" : "code",
"execution_count": null,
"metadata" : {
    "collapsed" : false
},
"source" : ["puiseux(i +-> (-1)^((i-1)/2)/factorial(i),x = 0,1..9/1,2) -- truncated sin(x)"],
"outputs": []
}
,
{
"cell_type" : "code",
"execution_count": null,
"metadata" : {
    "collapsed" : false
},
"source" : ["puiseux(j +-> j,x = 8,-4/3..,1/2)"],
"outputs": []
}
,
{
"cell_type" : "code",
"execution_count": null,
"metadata" : {
    "collapsed" : false
},
"source" : ["puiseux(j +-> j,x = 8,-4/3..1/6,1/2)"],
"outputs": []
}
,
{
"cell_type" : "markdown",
"metadata" : {},
"source" : [" same computations using expressions instead of functions\n"]
}
,
{
"cell_type" : "code",
"execution_count": null,
"metadata" : {
    "collapsed" : false
},
"source" : ["taylor(1/factorial(n),n,x = 0)      -- expansion of exp(x) at x = 0"],
"outputs": []
}
,
{
"cell_type" : "code",
"execution_count": null,
"metadata" : {
    "collapsed" : false
},
"source" : ["taylor((-1)^(n-1)/n,n,x = 1,1..)   -- expansion of log(x) at x = 1"],
"outputs": []
}
,
{
"cell_type" : "code",
"execution_count": null,
"metadata" : {
    "collapsed" : false
},
"source" : ["taylor((-1)^(n-1)/n,n,x = 1,1..6)  -- truncated expansion of log(x)"],
"outputs": []
}
,
{
"cell_type" : "code",
"execution_count": null,
"metadata" : {
    "collapsed" : false
},
"source" : ["laurent(m^2,m,x = 7,-2..)          -- infinite Laurent expansion"],
"outputs": []
}
,
{
"cell_type" : "code",
"execution_count": null,
"metadata" : {
    "collapsed" : false
},
"source" : ["laurent(m^2,m,x = 7,-2..5)         --   finite Laurent expansion"],
"outputs": []
}
,
{
"cell_type" : "code",
"execution_count": null,
"metadata" : {
    "collapsed" : false
},
"source" : ["puiseux((-1)^((i-1)/2)/factorial(i),i,x = 0,1..,2)  -- sin(x) at x = 0"],
"outputs": []
}
,
{
"cell_type" : "code",
"execution_count": null,
"metadata" : {
    "collapsed" : false
},
"source" : ["puiseux((-1)^(i/2)/factorial(i),i,x = 0,0..,2)      -- cos(x) at x = 0"],
"outputs": []
}
,
{
"cell_type" : "markdown",
"metadata" : {},
"source" : [" puiseux((-1)^((i-1)/2)/factorial(i),i,x = 0,1..9,2) -- truncated sin(x)\n interpretor needs help here\n"]
}
,
{
"cell_type" : "code",
"execution_count": null,
"metadata" : {
    "collapsed" : false
},
"source" : ["puiseux((-1)^((i-1)/2)/factorial(i),i,x = 0,1..9/1,2) -- truncated sin(x)"],
"outputs": []
}
,
{
"cell_type" : "code",
"execution_count": null,
"metadata" : {
    "collapsed" : false
},
"source" : ["puiseux(j,j,x = 8,-4/3..,1/2)"],
"outputs": []
}
,
{
"cell_type" : "code",
"execution_count": null,
"metadata" : {
    "collapsed" : false
},
"source" : ["puiseux(j,j,x = 8,-4/3..1/6,1/2)"],
"outputs": []
}
,
{
"cell_type" : "markdown",
"metadata" : {},
"source" : [" all of the above commands should still work when the functions 'taylor',\n 'laurent', and 'puiseux' are replaced by 'series':\n"]
}
,
{
"cell_type" : "code",
"execution_count": null,
"metadata" : {
    "collapsed" : false
},
"source" : ["series(n +-> 1/factorial(n),x = 0)      -- expansion of exp(x) at x = 0"],
"outputs": []
}
,
{
"cell_type" : "code",
"execution_count": null,
"metadata" : {
    "collapsed" : false
},
"source" : ["series(n +-> (-1)^(n-1)/n,x = 1,1..)   -- expansion of log(x) at x = 1"],
"outputs": []
}
,
{
"cell_type" : "code",
"execution_count": null,
"metadata" : {
    "collapsed" : false
},
"source" : ["series(n +-> (-1)^(n-1)/n,x = 1,1..6)  -- truncated expansion of log(x)"],
"outputs": []
}
,
{
"cell_type" : "code",
"execution_count": null,
"metadata" : {
    "collapsed" : false
},
"source" : ["series(m +-> m^2,x = 7,-2..)          -- infinite Laurent expansion"],
"outputs": []
}
,
{
"cell_type" : "code",
"execution_count": null,
"metadata" : {
    "collapsed" : false
},
"source" : ["series(m +-> m^2,x = 7,-2..5)         --   finite Laurent expansion"],
"outputs": []
}
,
{
"cell_type" : "code",
"execution_count": null,
"metadata" : {
    "collapsed" : false
},
"source" : ["series(i +-> (-1)^((i-1)/2)/factorial(i),x = 0,1..,2)  -- sin(x) at x = 0"],
"outputs": []
}
,
{
"cell_type" : "code",
"execution_count": null,
"metadata" : {
    "collapsed" : false
},
"source" : ["series(i +-> (-1)^(i/2)/factorial(i),x = 0,0..,2)      -- cos(x) at x = 0"],
"outputs": []
}
,
{
"cell_type" : "markdown",
"metadata" : {},
"source" : [" series(i +-> (-1)^((i-1)/2)/factorial(i),x = 0,1..9,2) -- truncated sin(x)\n interpretor needs help here\n"]
}
,
{
"cell_type" : "code",
"execution_count": null,
"metadata" : {
    "collapsed" : false
},
"source" : ["series(i +-> (-1)^((i-1)/2)/factorial(i),x = 0,1..9/1,2) -- truncated sin(x)"],
"outputs": []
}
,
{
"cell_type" : "code",
"execution_count": null,
"metadata" : {
    "collapsed" : false
},
"source" : ["series(j +-> j,x = 8,-4/3..,1/2)"],
"outputs": []
}
,
{
"cell_type" : "code",
"execution_count": null,
"metadata" : {
    "collapsed" : false
},
"source" : ["series(j +-> j,x = 8,-4/3..1/6,1/2)"],
"outputs": []
}
,
{
"cell_type" : "markdown",
"metadata" : {},
"source" : [" same computations using expressions instead of functions\n"]
}
,
{
"cell_type" : "code",
"execution_count": null,
"metadata" : {
    "collapsed" : false
},
"source" : ["series(1/factorial(n),n,x = 0)      -- expansion of exp(x) at x = 0"],
"outputs": []
}
,
{
"cell_type" : "code",
"execution_count": null,
"metadata" : {
    "collapsed" : false
},
"source" : ["series((-1)^(n-1)/n,n,x = 1,1..)   -- expansion of log(x) at x = 1"],
"outputs": []
}
,
{
"cell_type" : "code",
"execution_count": null,
"metadata" : {
    "collapsed" : false
},
"source" : ["series((-1)^(n-1)/n,n,x = 1,1..6)  -- truncated expansion of log(x)"],
"outputs": []
}
,
{
"cell_type" : "code",
"execution_count": null,
"metadata" : {
    "collapsed" : false
},
"source" : ["series(m^2,m,x = 7,-2..)          -- infinite Laurent expansion"],
"outputs": []
}
,
{
"cell_type" : "code",
"execution_count": null,
"metadata" : {
    "collapsed" : false
},
"source" : ["series(m^2,m,x = 7,-2..5)         --   finite Laurent expansion"],
"outputs": []
}
,
{
"cell_type" : "code",
"execution_count": null,
"metadata" : {
    "collapsed" : false
},
"source" : ["series((-1)^((i-1)/2)/factorial(i),i,x = 0,1..,2)  -- sin(x) at x = 0"],
"outputs": []
}
,
{
"cell_type" : "code",
"execution_count": null,
"metadata" : {
    "collapsed" : false
},
"source" : ["series((-1)^(i/2)/factorial(i),i,x = 0,0..,2)      -- cos(x) at x = 0"],
"outputs": []
}
,
{
"cell_type" : "markdown",
"metadata" : {},
"source" : [" series((-1)^((i-1)/2)/factorial(i),i,x = 0,1..9,2) -- truncated sin(x)\n interpretor needs help here\n"]
}
,
{
"cell_type" : "code",
"execution_count": null,
"metadata" : {
    "collapsed" : false
},
"source" : ["series((-1)^((i-1)/2)/factorial(i),i,x = 0,1..9/1,2) -- truncated sin(x)"],
"outputs": []
}
,
{
"cell_type" : "code",
"execution_count": null,
"metadata" : {
    "collapsed" : false
},
"source" : ["series(j,j,x = 8,-4/3..,1/2)"],
"outputs": []
}
,
{
"cell_type" : "code",
"execution_count": null,
"metadata" : {
    "collapsed" : false
},
"source" : ["series(j,j,x = 8,-4/3..1/6,1/2)"],
"outputs": []
}
,
{
"cell_type" : "code",
"execution_count": null,
"metadata" : {
    "collapsed" : false
},
"source" : ["--\n-- EOF\n--"],
"outputs": []
}
 ],
"metadata": {
 "kernelspec": {
  "display_name": "FriCAS",
  "language": "spad",
  "name": "ifricas"
 },
 "language_info": {
  "codemirror_mode": "spad",
  "mimetype": "text/x-spad",
  "name": "SPAD",
  "pygments_lexer": "spad",
  "version": "1.2.6"
 },
 "name": "genups.ipynb"
},
"nbformat": 4,
"nbformat_minor": 0
}
