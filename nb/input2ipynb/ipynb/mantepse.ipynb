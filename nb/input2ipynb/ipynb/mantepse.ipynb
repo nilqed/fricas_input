{
 "cells": [
{
"cell_type" : "code",
"execution_count": null,
"metadata" : {
    "collapsed" : false
},
"source" : [")set break resume"],
"outputs": []
}
,
{
"cell_type" : "code",
"execution_count": null,
"metadata" : {
    "collapsed" : false
},
"source" : [")expose UnittestCount UnittestAux Unittest"],
"outputs": []
}
,
{
"cell_type" : "code",
"execution_count": null,
"metadata" : {
    "collapsed" : false
},
"source" : [")expose RECOP"],
"outputs": []
}
,
{
"cell_type" : "code",
"execution_count": null,
"metadata" : {
    "collapsed" : false
},
"source" : ["testsuite \"guessing\""],
"outputs": []
}
,
{
"cell_type" : "code",
"execution_count": null,
"metadata" : {
    "collapsed" : false
},
"source" : ["testcase \"guessRat$GUESSINT\""],
"outputs": []
}
,
{
"cell_type" : "code",
"execution_count": null,
"metadata" : {
    "collapsed" : false
},
"source" : ["testEquals(\"# guessRat [0,1,4]\",\n           \"0\")"],
"outputs": []
}
,
{
"cell_type" : "code",
"execution_count": null,
"metadata" : {
    "collapsed" : false
},
"source" : ["testEquals(\"# guessRat [0]\",\n           \"0\")"],
"outputs": []
}
,
{
"cell_type" : "code",
"execution_count": null,
"metadata" : {
    "collapsed" : false
},
"source" : ["testEquals(\"guessRat [1,1]\",\n           \"[1]\")"],
"outputs": []
}
,
{
"cell_type" : "code",
"execution_count": null,
"metadata" : {
    "collapsed" : false
},
"source" : ["xftestEquals(\"guessRat [0,0]\",\n           \"[0]\")"],
"outputs": []
}
,
{
"cell_type" : "code",
"execution_count": null,
"metadata" : {
    "collapsed" : false
},
"source" : ["testEquals(\"guessRat([0,1,2], allDegrees==false)$GUESSAN\",\n           \"[n]\")"],
"outputs": []
}
,
{
"cell_type" : "code",
"execution_count": null,
"metadata" : {
    "collapsed" : false
},
"source" : ["testEquals(\"guessRat([1,2,3], allDegrees==false)\",\n           \"[n+1]\")"],
"outputs": []
}
,
{
"cell_type" : "code",
"execution_count": null,
"metadata" : {
    "collapsed" : false
},
"source" : ["testEquals(\"guessRat([1,1/2,1/3], allDegrees==false)$GUESSAN\",\n           \"[1/(n+1)]\")"],
"outputs": []
}
,
{
"cell_type" : "code",
"execution_count": null,
"metadata" : {
    "collapsed" : false
},
"source" : ["testEquals(\"guessRat([0,1,4,9])$GUESSAN\",\n           \"[n^2]\")"],
"outputs": []
}
,
{
"cell_type" : "code",
"execution_count": null,
"metadata" : {
    "collapsed" : false
},
"source" : ["testEquals(\"guessRat([0,1/2,2/3,3/4], allDegrees==false)$GUESSAN\",\n           \"[n/(n+1)]\")"],
"outputs": []
}
,
{
"cell_type" : "code",
"execution_count": null,
"metadata" : {
    "collapsed" : false
},
"source" : ["testEquals(\"guessRat([1/2,2/3,3/4,4/5], allDegrees==false)\",\n           \"[(n+1)/(n+2)]\")"],
"outputs": []
}
,
{
"cell_type" : "code",
"execution_count": null,
"metadata" : {
    "collapsed" : false
},
"source" : ["testEquals(\"guessRat([0,1,4,9,16], safety==2)\",\n           \"[n^2]\")"],
"outputs": []
}
,
{
"cell_type" : "code",
"execution_count": null,
"metadata" : {
    "collapsed" : false
},
"source" : ["f := operator 'f;"],
"outputs": []
}
,
{
"cell_type" : "code",
"execution_count": null,
"metadata" : {
    "collapsed" : false
},
"source" : ["testEquals(\"getEq first guessRat [3, 4, 7/2, 18/5, 11/3, 26/7]\",\n           \"(-n^2-n+2)*f(n)+(4*n^2+2*n-6)\")"],
"outputs": []
}
,
{
"cell_type" : "code",
"execution_count": null,
"metadata" : {
    "collapsed" : false
},
"source" : ["testcase \"guessRat$GUESSP\""],
"outputs": []
}
,
{
"cell_type" : "code",
"execution_count": null,
"metadata" : {
    "collapsed" : false
},
"source" : ["testEquals(\"guessRat(q)([1,q,q^2], [])\",\n           \"[q^n]\")"],
"outputs": []
}
,
{
"cell_type" : "code",
"execution_count": null,
"metadata" : {
    "collapsed" : false
},
"source" : ["testEquals(\"guessRat(q)([i^3*q^i + q^(2*i) for i in 0..6], maxMixedDegree==2)\",\n           \"[n^3*q^n+q^(2*n)]\")"],
"outputs": []
}
,
{
"cell_type" : "code",
"execution_count": null,
"metadata" : {
    "collapsed" : false
},
"source" : ["testEquals(\"guessRat(q)([i^3*q^i + q^(2*i) for i in 0..5], maxMixedDegree==2)\",\n           \"[n^3*q^n+q^(2*n)]\")"],
"outputs": []
}
,
{
"cell_type" : "markdown",
"metadata" : {},
"source" : [" result should be simpler, but who cares\n"]
}
,
{
"cell_type" : "code",
"execution_count": null,
"metadata" : {
    "collapsed" : false
},
"source" : ["testEquals(\"guessRat([(i+1)*z for i in 0..5]::List POLY PF 5)\",\n           \"[(-2*n-2)*z/3]\")"],
"outputs": []
}
,
{
"cell_type" : "code",
"execution_count": null,
"metadata" : {
    "collapsed" : false
},
"source" : ["testcase \"guessRat$GUESSF\""],
"outputs": []
}
,
{
"cell_type" : "code",
"execution_count": null,
"metadata" : {
    "collapsed" : false
},
"source" : ["xftestEquals(\"guessRat([1,0,1])$GUESSF(PF 2)\",\n           \"[-n-1]\")"],
"outputs": []
}
,
{
"cell_type" : "code",
"execution_count": null,
"metadata" : {
    "collapsed" : false
},
"source" : ["xftestEquals(\"guessRat([1,0,1,0])$GUESSF(PF 2)\",\n           \"[-n-1]\")"],
"outputs": []
}
,
{
"cell_type" : "code",
"execution_count": null,
"metadata" : {
    "collapsed" : false
},
"source" : ["xftestTrue(\"(guessRat([1,0,1,1], one==false)$GUESSF(PF 2); true)\")"],
"outputs": []
}
,
{
"cell_type" : "code",
"execution_count": null,
"metadata" : {
    "collapsed" : false
},
"source" : ["xftestEquals(\"guessRat([binomial(2*n, n) for n in 0..6])$GUESSF(PF 3)\",\n             \"[]\")"],
"outputs": []
}
,
{
"cell_type" : "code",
"execution_count": null,
"metadata" : {
    "collapsed" : false
},
"source" : ["testTrue(\"empty? guessRat([1,0,1,0,1,0,1])$GUESSF(PF 7)\")"],
"outputs": []
}
,
{
"cell_type" : "code",
"execution_count": null,
"metadata" : {
    "collapsed" : false
},
"source" : ["testcase \"guessPade$GUESSINT\""],
"outputs": []
}
,
{
"cell_type" : "code",
"execution_count": null,
"metadata" : {
    "collapsed" : false
},
"source" : ["f := operator 'f;"],
"outputs": []
}
,
{
"cell_type" : "markdown",
"metadata" : {},
"source" : [" two terms for guessing, which allows rational functions with total degree 1\n"]
}
,
{
"cell_type" : "code",
"execution_count": null,
"metadata" : {
    "collapsed" : false
},
"source" : ["testEquals(\"getEq first guessPade([1,1,1])\",\n           \"1/(1-x)\")"],
"outputs": []
}
,
{
"cell_type" : "code",
"execution_count": null,
"metadata" : {
    "collapsed" : false
},
"source" : ["testEquals(\"# guessPade([1,1,2,3], allDegrees==false)\",\n           \"0\")"],
"outputs": []
}
,
{
"cell_type" : "code",
"execution_count": null,
"metadata" : {
    "collapsed" : false
},
"source" : ["testEquals(\"getEq first guessPade([1,1,2,3], allDegrees==true)\",\n           \"1/(1-x-x^2)\")"],
"outputs": []
}
,
{
"cell_type" : "code",
"execution_count": null,
"metadata" : {
    "collapsed" : false
},
"source" : ["testcase \"guessPade$GUESSAN\""],
"outputs": []
}
,
{
"cell_type" : "code",
"execution_count": null,
"metadata" : {
    "collapsed" : false
},
"source" : ["g 0 == 0; g 1 == 1; g 2 == 1; g n == sqrt 2*g(n-1)+3*g(n-2)+g(n-3);"],
"outputs": []
}
,
{
"cell_type" : "code",
"execution_count": null,
"metadata" : {
    "collapsed" : false
},
"source" : ["testEquals(\"eval(first guessPade([g i for i in 0..6])$GUESSAN, n=10)::AN\", \"g 10\")"],
"outputs": []
}
,
{
"cell_type" : "code",
"execution_count": null,
"metadata" : {
    "collapsed" : false
},
"source" : ["testcase \"guessPade$GUESSP AN\""],
"outputs": []
}
,
{
"cell_type" : "code",
"execution_count": null,
"metadata" : {
    "collapsed" : false
},
"source" : ["g 0 == z; g 1 == 1; g 2 == 1; g n == sqrt 2*g(n-1)+3*g(n-2)+g(n-3);"],
"outputs": []
}
,
{
"cell_type" : "code",
"execution_count": null,
"metadata" : {
    "collapsed" : false
},
"source" : ["testEquals(\"eval(first guessPade [g i for i in 0..6], n=10)::EXPR AN::POLY AN\",\n           \"g 10\")"],
"outputs": []
}
,
{
"cell_type" : "code",
"execution_count": null,
"metadata" : {
    "collapsed" : false
},
"source" : ["testcase \"guessAlg$GUESSINT\""],
"outputs": []
}
,
{
"cell_type" : "code",
"execution_count": null,
"metadata" : {
    "collapsed" : false
},
"source" : ["f := operator 'f;"],
"outputs": []
}
,
{
"cell_type" : "markdown",
"metadata" : {},
"source" : [" 3 terms, total number of parameters is 3\n"]
}
,
{
"cell_type" : "code",
"execution_count": null,
"metadata" : {
    "collapsed" : false
},
"source" : ["testEquals(\"getEq first guessAlg([1/(2*n+1)*binomial(2*n+1, n) \"\n                                 \"for n in 0..3], allDegrees==true)\",\n           \"x*f(x)^2-f(x)+1\")"],
"outputs": []
}
,
{
"cell_type" : "code",
"execution_count": null,
"metadata" : {
    "collapsed" : false
},
"source" : ["testEquals(\"getEq first guessAlg [1/(2*n+1)*binomial(2*n+1, n) for n in 0..5]\",\n           \"x*f(x)^2-f(x)+1\")"],
"outputs": []
}
,
{
"cell_type" : "code",
"execution_count": null,
"metadata" : {
    "collapsed" : false
},
"source" : ["testcase \"guessPRec$GUESSINT\""],
"outputs": []
}
,
{
"cell_type" : "code",
"execution_count": null,
"metadata" : {
    "collapsed" : false
},
"source" : ["f := operator 'f;"],
"outputs": []
}
,
{
"cell_type" : "markdown",
"metadata" : {},
"source" : [" central binomial coefficients\n 5 terms, shifting eliminates 1, but total number of parameters is 5\n"]
}
,
{
"cell_type" : "code",
"execution_count": null,
"metadata" : {
    "collapsed" : false
},
"source" : ["testEquals(\"# guessPRec([1,2,6,20,70])\",\n           \"0\")"],
"outputs": []
}
,
{
"cell_type" : "markdown",
"metadata" : {},
"source" : [" 3 terms, but shifting eliminates one\n"]
}
,
{
"cell_type" : "code",
"execution_count": null,
"metadata" : {
    "collapsed" : false
},
"source" : ["testEquals(\"# guessPRec([1,2,6,20], homogeneous==true, allDegrees==true)\",\n           \"0\")"],
"outputs": []
}
,
{
"cell_type" : "code",
"execution_count": null,
"metadata" : {
    "collapsed" : false
},
"source" : ["testEquals(\"getEq first guessPRec([1,2,6,20,70], homogeneous==true)\",\n           \"(-n-1)*f(n+1)+2*(2*n+1)*f(n)\")"],
"outputs": []
}
,
{
"cell_type" : "code",
"execution_count": null,
"metadata" : {
    "collapsed" : false
},
"source" : ["testTrue(\"not empty? guessPRec([1,2,6,20,70], allDegrees==true)\")"],
"outputs": []
}
,
{
"cell_type" : "code",
"execution_count": null,
"metadata" : {
    "collapsed" : false
},
"source" : ["xftestTrue(\"not member?(n-2, guessPRec [0,0,0,1,2,3,4,5])\")"],
"outputs": []
}
,
{
"cell_type" : "code",
"execution_count": null,
"metadata" : {
    "collapsed" : false
},
"source" : ["testcase \"guessPRec$GUESSP\""],
"outputs": []
}
,
{
"cell_type" : "code",
"execution_count": null,
"metadata" : {
    "collapsed" : false
},
"source" : ["f := operator 'f;"],
"outputs": []
}
,
{
"cell_type" : "code",
"execution_count": null,
"metadata" : {
    "collapsed" : false
},
"source" : ["r: INT -> POLY INT;"],
"outputs": []
}
,
{
"cell_type" : "code",
"execution_count": null,
"metadata" : {
    "collapsed" : false
},
"source" : ["r(0)==1; r(1)==1;"],
"outputs": []
}
,
{
"cell_type" : "code",
"execution_count": null,
"metadata" : {
    "collapsed" : false
},
"source" : ["r(n)==q^(n-1)*r(n-1)+(n-2)*r(n-2);"],
"outputs": []
}
,
{
"cell_type" : "code",
"execution_count": null,
"metadata" : {
    "collapsed" : false
},
"source" : ["testEquals(\"getEq first(guessPRec(q)([r m for m in 0..7], \" _\n                                     \"maxMixedDegree==1, maxDegree==1, \" _\n                                     \"homogeneous==true))\", _\n           \"n*f n + q*q^n*f(n+1)-f(n+2)\")\n"],
"outputs": []
}
,
{
"cell_type" : "code",
"execution_count": null,
"metadata" : {
    "collapsed" : false
},
"source" : ["testcase \"guessPRec$GUESSP many variables\""],
"outputs": []
}
,
{
"cell_type" : "code",
"execution_count": null,
"metadata" : {
    "collapsed" : false
},
"source" : ["f := operator 'f;"],
"outputs": []
}
,
{
"cell_type" : "code",
"execution_count": null,
"metadata" : {
    "collapsed" : false
},
"source" : ["testEquals(\"getEq first guessPRec [z*a^i for i in 0..15]\",\n           \"-f(n+1) + a*f(n)\")"],
"outputs": []
}
,
{
"cell_type" : "code",
"execution_count": null,
"metadata" : {
    "collapsed" : false
},
"source" : [")set functions cache all r"],
"outputs": []
}
,
{
"cell_type" : "code",
"execution_count": null,
"metadata" : {
    "collapsed" : false
},
"source" : ["r: INT -> POLY INT;"],
"outputs": []
}
,
{
"cell_type" : "code",
"execution_count": null,
"metadata" : {
    "collapsed" : false
},
"source" : ["r 0 == a00; r 1 == a01; r 2 == a02; r 3 == a03; r 4 == a04;"],
"outputs": []
}
,
{
"cell_type" : "code",
"execution_count": null,
"metadata" : {
    "collapsed" : false
},
"source" : ["r n == reduce(+, [r(n-i)::POLY INT for i in 1..4]);"],
"outputs": []
}
,
{
"cell_type" : "markdown",
"metadata" : {},
"source" : [" the 'n' factor is needed to have equality at n=0\n"]
}
,
{
"cell_type" : "code",
"execution_count": null,
"metadata" : {
    "collapsed" : false
},
"source" : ["testEquals(\"getEq first guessPRec [r i for i in 0..15]\", _\n             \"-n*f(n + 4) + n*f(n + 3) + n*f(n + 2) + n*f(n + 1) + n*f(n)\")\n"],
"outputs": []
}
,
{
"cell_type" : "code",
"execution_count": null,
"metadata" : {
    "collapsed" : false
},
"source" : ["testcase \"homogeneous holonomic equation for x^n\""],
"outputs": []
}
,
{
"cell_type" : "markdown",
"metadata" : {},
"source" : [" It is not entirely clear whether we want 'guessPRec' to find\n solutions for these inputs.  See the comments to 'testInterpolant' in\n mantepse.spad.pamphlet.\n"]
}
,
{
"cell_type" : "code",
"execution_count": null,
"metadata" : {
    "collapsed" : false
},
"source" : ["xftestTrue(\"not empty? guessPRec([1,0,0,0,0,0,0,0], homogeneous==true)\")"],
"outputs": []
}
,
{
"cell_type" : "code",
"execution_count": null,
"metadata" : {
    "collapsed" : false
},
"source" : ["xftestTrue(\"not empty? guessPRec([0,1,0,0,0,0,0,0], homogeneous==true)\")"],
"outputs": []
}
,
{
"cell_type" : "code",
"execution_count": null,
"metadata" : {
    "collapsed" : false
},
"source" : ["xftestTrue(\"not empty? guessPRec([0,0,1,0,0,0,0,0], homogeneous==true)\")"],
"outputs": []
}
,
{
"cell_type" : "code",
"execution_count": null,
"metadata" : {
    "collapsed" : false
},
"source" : ["testcase \"guessADE$GUESSINT\""],
"outputs": []
}
,
{
"cell_type" : "code",
"execution_count": null,
"metadata" : {
    "collapsed" : false
},
"source" : ["f := operator 'f;"],
"outputs": []
}
,
{
"cell_type" : "markdown",
"metadata" : {},
"source" : [" Lambert W\n"]
}
,
{
"cell_type" : "code",
"execution_count": null,
"metadata" : {
    "collapsed" : false
},
"source" : ["testEquals(\"# guessADE([n^n/factorial n for n in 0..6], allDegrees==true)\", \"1\")"],
"outputs": []
}
,
{
"cell_type" : "code",
"execution_count": null,
"metadata" : {
    "collapsed" : false
},
"source" : ["testEquals(\"getEq first guessADE([n^n/factorial n for n in 0..6], \"\n               \"allDegrees==true)\",\n           \"x*D(f x, x) - f(x)^3 + f(x)^2\")"],
"outputs": []
}
,
{
"cell_type" : "code",
"execution_count": null,
"metadata" : {
    "collapsed" : false
},
"source" : ["testEquals(\"getEq first guessADE([n^n/factorial n for n in 0..9])\",\n           \"x*D(f x, x) - f(x)^3 + f(x)^2\")"],
"outputs": []
}
,
{
"cell_type" : "code",
"execution_count": null,
"metadata" : {
    "collapsed" : false
},
"source" : ["testcase \"guessADE ellip\""],
"outputs": []
}
,
{
"cell_type" : "markdown",
"metadata" : {},
"source" : [" guess ADE for elliptic functions\n"]
}
,
{
"cell_type" : "code",
"execution_count": null,
"metadata" : {
    "collapsed" : false
},
"source" : ["Coeff := Fraction(UnivariatePolynomial('m,Integer))"],
"outputs": []
}
,
{
"cell_type" : "code",
"execution_count": null,
"metadata" : {
    "collapsed" : false
},
"source" : ["Uts := UnivariateTaylorSeries(Coeff, 'x, 0)"],
"outputs": []
}
,
{
"cell_type" : "code",
"execution_count": null,
"metadata" : {
    "collapsed" : false
},
"source" : ["Ets := EllipticFunctionsUnivariateTaylorSeries(Coeff, Uts)"],
"outputs": []
}
,
{
"cell_type" : "code",
"execution_count": null,
"metadata" : {
    "collapsed" : false
},
"source" : ["snm := jacobiSn(x::Uts, m::Coeff)$Ets"],
"outputs": []
}
,
{
"cell_type" : "code",
"execution_count": null,
"metadata" : {
    "collapsed" : false
},
"source" : ["ll := entries(complete(first(coefficients(snm), 25)))"],
"outputs": []
}
,
{
"cell_type" : "code",
"execution_count": null,
"metadata" : {
    "collapsed" : false
},
"source" : ["f := operator 'f"],
"outputs": []
}
,
{
"cell_type" : "code",
"execution_count": null,
"metadata" : {
    "collapsed" : false
},
"source" : ["testEquals(\"#(r1 := guessADE(ll, maxDegree==0, safety==5))\", \"8\")"],
"outputs": []
}
,
{
"cell_type" : "code",
"execution_count": null,
"metadata" : {
    "collapsed" : false
},
"source" : ["testEquals(\"getEq r1(8)\", \"f(x)*D(f(x), x, 2) - D(f(x), x)^2 - m*f(x)^4 + 1\")"],
"outputs": []
}
,
{
"cell_type" : "code",
"execution_count": null,
"metadata" : {
    "collapsed" : false
},
"source" : ["testEquals(\"#guessADE(ll, maxDegree==1, safety==4)\", \"2\")"],
"outputs": []
}
,
{
"cell_type" : "code",
"execution_count": null,
"metadata" : {
    "collapsed" : false
},
"source" : ["testcase \"guessADE$GUESSP\""],
"outputs": []
}
,
{
"cell_type" : "code",
"execution_count": null,
"metadata" : {
    "collapsed" : false
},
"source" : ["f := operator 'f;"],
"outputs": []
}
,
{
"cell_type" : "markdown",
"metadata" : {},
"source" : [" q-Carlitz\n"]
}
,
{
"cell_type" : "code",
"execution_count": null,
"metadata" : {
    "collapsed" : false
},
"source" : ["l := [1, 1, q+1, q^3+q^2+2*q+1, q^6+q^5+2*q^4+3*q^3+3*q^2+3*q+1, _\n      q^10+q^9+2*q^8+3*q^7+5*q^6+5*q^5+7*q^4+7*q^3+6*q^2+4*q+1];\n"],
"outputs": []
}
,
{
"cell_type" : "code",
"execution_count": null,
"metadata" : {
    "collapsed" : false
},
"source" : ["testEquals(\"getEq first(guessADE(q)(l, maxPower==2, \"\n                                   \"allDegrees==true))\",\n           \"-x*f(x)*f(q*x) + f(x) - 1\")"],
"outputs": []
}
,
{
"cell_type" : "code",
"execution_count": null,
"metadata" : {
    "collapsed" : false
},
"source" : ["xftestEquals(\"#(guessADE(q)(first(l, 4), maxPower==2, \"\n                          \"allDegrees==true))\", \"1\")"],
"outputs": []
}
,
{
"cell_type" : "code",
"execution_count": null,
"metadata" : {
    "collapsed" : false
},
"source" : ["testcase \"guessRec$GUESSINT\""],
"outputs": []
}
,
{
"cell_type" : "code",
"execution_count": null,
"metadata" : {
    "collapsed" : false
},
"source" : ["f := operator 'f;"],
"outputs": []
}
,
{
"cell_type" : "markdown",
"metadata" : {},
"source" : [" Somos 4\n"]
}
,
{
"cell_type" : "code",
"execution_count": null,
"metadata" : {
    "collapsed" : false
},
"source" : ["s: INT -> INT;"],
"outputs": []
}
,
{
"cell_type" : "code",
"execution_count": null,
"metadata" : {
    "collapsed" : false
},
"source" : ["s(0)==1; s(1)==1; s(2)==1; s(3)==1;"],
"outputs": []
}
,
{
"cell_type" : "code",
"execution_count": null,
"metadata" : {
    "collapsed" : false
},
"source" : ["s(n)==(s(n-1)*s(n-3)+s(n-2)^2)/s(n-4);"],
"outputs": []
}
,
{
"cell_type" : "code",
"execution_count": null,
"metadata" : {
    "collapsed" : false
},
"source" : ["testEquals(\"getEq first guessRec([s m for m in 0..18], maxPower==2)\",\n           \"-f(n)*f(n+4)+f(n+1)*f(n+3)+f(n+2)^2\")"],
"outputs": []
}
,
{
"cell_type" : "code",
"execution_count": null,
"metadata" : {
    "collapsed" : false
},
"source" : ["testEquals(\"getEq first guessRec([s m for m in 0..12], maxPower==2, homogeneous==true)\",\n           \"-f(n)*f(n+4)+f(n+1)*f(n+3)+f(n+2)^2\")"],
"outputs": []
}
,
{
"cell_type" : "code",
"execution_count": null,
"metadata" : {
    "collapsed" : false
},
"source" : ["testEquals(\"getEq first guessRec([s m for m in 0..6], Somos==4, homogeneous==2)\",\n           \"-f(n)*f(n+4)+f(n+1)*f(n+3)+f(n+2)^2\")"],
"outputs": []
}
,
{
"cell_type" : "code",
"execution_count": null,
"metadata" : {
    "collapsed" : false
},
"source" : [")cl val s"],
"outputs": []
}
,
{
"cell_type" : "code",
"execution_count": null,
"metadata" : {
    "collapsed" : false
},
"source" : ["s n == reduce(*, [reduce(*, [factorial i for i in 0..j-1], 1) for j in 0..n-1], 1);"],
"outputs": []
}
,
{
"cell_type" : "code",
"execution_count": null,
"metadata" : {
    "collapsed" : false
},
"source" : ["testEquals(\"guess [s l for l in 0..6]\", _\n           \"[product(product(product(i+1, i=0..j-1), j=0..k-1), k=0..n-1)]\")\n"],
"outputs": []
}
,
{
"cell_type" : "code",
"execution_count": null,
"metadata" : {
    "collapsed" : false
},
"source" : ["testEquals(\"getEq first guessRec([s l for l in 0..8], Somos==6, homogeneous==4)\", _\n           \"-f(n+1)^3*f(n+3)+(n+1)*f(n)*f(n+2)^3\")\n"],
"outputs": []
}
,
{
"cell_type" : "code",
"execution_count": null,
"metadata" : {
    "collapsed" : false
},
"source" : ["testEquals(\"getEq first guessRec([s l for l in 0..8], Somos==true, homogeneous==4, maxShift==3)\", _\n             \"-f(n+1)^3*f(n+3)+(n+1)*f(n)*f(n+2)^3\")\n"],
"outputs": []
}
,
{
"cell_type" : "code",
"execution_count": null,
"metadata" : {
    "collapsed" : false
},
"source" : ["testEquals(\"getEq first guessRec([s l for l in 0..8], Somos==true, homogeneous==true, maxPower==4, maxShift==3)\", _\n             \"-f(n+1)^3*f(n+3)+(n+1)*f(n)*f(n+2)^3\")\n"],
"outputs": []
}
,
{
"cell_type" : "code",
"execution_count": null,
"metadata" : {
    "collapsed" : false
},
"source" : [")cl val s"],
"outputs": []
}
,
{
"cell_type" : "code",
"execution_count": null,
"metadata" : {
    "collapsed" : false
},
"source" : ["s 0 == 1; s 1 == 2; s n == s(n-1)^2*s(n-2);"],
"outputs": []
}
,
{
"cell_type" : "code",
"execution_count": null,
"metadata" : {
    "collapsed" : false
},
"source" : ["testEquals(\"getEq first guessRec([s l for l in 0..5], Somos==true, maxShift==2, maxPower==3)\", _\n           \"f(n+2)-f(n)*f(n+1)^2\")\n"],
"outputs": []
}
,
{
"cell_type" : "markdown",
"metadata" : {},
"source" : [" The checking routine should always terminate...\n"]
}
,
{
"cell_type" : "code",
"execution_count": null,
"metadata" : {
    "collapsed" : false
},
"source" : ["testTrue(\"(guessRec([0, 1, 0, 0, 0, 2, 0, 7, 0, 0, 0, 15, 0, 0, 0], one==false); true)\")"],
"outputs": []
}
,
{
"cell_type" : "code",
"execution_count": null,
"metadata" : {
    "collapsed" : false
},
"source" : ["l := [1,0,1,2,0,1,0,1,0,1,-2,0,0,0,1,0,-3,0,-1,0,1,2,0,-3,0,-2,0,1,0,5,0,-2,0,-3,0,1,-2,0,8,0,0,0,-4,0,1,0,-7,0,10,0,3,0,-5,0,1,2,0,-15,0,10,0,7,0,-6,0,1,0,9,0,-25,0,7,0,12,0,-7,0,1,-2,0,24,0,-35,0,0,0,18,0,-8,0,1,0,-11,0,49,0,-42,0,-12,0];"],
"outputs": []
}
,
{
"cell_type" : "code",
"execution_count": null,
"metadata" : {
    "collapsed" : false
},
"source" : ["testTrue(\"(guessRec(l, safety==30); true)\")"],
"outputs": []
}
,
{
"cell_type" : "code",
"execution_count": null,
"metadata" : {
    "collapsed" : false
},
"source" : ["testTrue(\"(guessRec([1,1,2,0,0,3,0,0,2,0,0], \"\n                   \"one==false, maxShift==2, maxDegree==0, maxPower==2); \"\n         \"true)\")"],
"outputs": []
}
,
{
"cell_type" : "markdown",
"metadata" : {},
"source" : [" check leading and trailing zeros\n"]
}
,
{
"cell_type" : "code",
"execution_count": null,
"metadata" : {
    "collapsed" : false
},
"source" : ["testcase \"guessFE$GUESINT, leading zeros\""],
"outputs": []
}
,
{
"cell_type" : "code",
"execution_count": null,
"metadata" : {
    "collapsed" : false
},
"source" : ["testTrue(\"(guessFE [0,0,0,1,0,0,0]; true)\")"],
"outputs": []
}
,
{
"cell_type" : "code",
"execution_count": null,
"metadata" : {
    "collapsed" : false
},
"source" : ["testcase \"guessExpRat$GUESSINT\""],
"outputs": []
}
,
{
"cell_type" : "code",
"execution_count": null,
"metadata" : {
    "collapsed" : false
},
"source" : ["f := operator 'f;"],
"outputs": []
}
,
{
"cell_type" : "code",
"execution_count": null,
"metadata" : {
    "collapsed" : false
},
"source" : ["testEquals(\"guessExpRat([0,3,32,375,5184])\",\n           \"[n*(n + 2)^n]\")"],
"outputs": []
}
,
{
"cell_type" : "code",
"execution_count": null,
"metadata" : {
    "collapsed" : false
},
"source" : ["testcase \"guessBinRat$GUESSP\""],
"outputs": []
}
,
{
"cell_type" : "code",
"execution_count": null,
"metadata" : {
    "collapsed" : false
},
"source" : ["f := operator 'f;"],
"outputs": []
}
,
{
"cell_type" : "code",
"execution_count": null,
"metadata" : {
    "collapsed" : false
},
"source" : ["testEquals(\"first guessBinRat([1,1,k+1,(3*k*k+5*k+2)/2,(8*k^3+18*k*k+13*k+3)/3])\",\n           \"binomial((k+1)*n, n)/(k*n+1)\")"],
"outputs": []
}
,
{
"cell_type" : "code",
"execution_count": null,
"metadata" : {
    "collapsed" : false
},
"source" : ["testEquals(\"first guessBinRat([binomial(3+7*k, k)/(k+3) for k in 0..6]::List PF 3001)\",\n           \"binomial(7*n+3, n)/(n+3)\")"],
"outputs": []
}
,
{
"cell_type" : "code",
"execution_count": null,
"metadata" : {
    "collapsed" : false
},
"source" : ["testcase \"guess$GUESSINT\""],
"outputs": []
}
,
{
"cell_type" : "code",
"execution_count": null,
"metadata" : {
    "collapsed" : false
},
"source" : ["f := operator 'f;"],
"outputs": []
}
,
{
"cell_type" : "markdown",
"metadata" : {},
"source" : [" Robbins numbers\n"]
}
,
{
"cell_type" : "code",
"execution_count": null,
"metadata" : {
    "collapsed" : false
},
"source" : ["testEquals(\"first guess([1,1,2,7,42,429,7436,218348], [guessRat], [guessProduct])\",\n           \"product(product(3*(3*p+2)*(3*p+4)/4/(2*p+1)/(2*p+3), p=0..q-1),q=0..n-1)\")"],
"outputs": []
}
,
{
"cell_type" : "code",
"execution_count": null,
"metadata" : {
    "collapsed" : false
},
"source" : ["testEquals(\"first guess([0,1,3,9,33], [guessRat], [guessSum, guessProduct])\",\n           \"sum(product(p+2, p=0..q-1),q=0..n-1)\")"],
"outputs": []
}
,
{
"cell_type" : "markdown",
"metadata" : {},
"source" : [" product(1+k!, k=0..n) is not holonomic, at least not of low degree\n"]
}
,
{
"cell_type" : "code",
"execution_count": null,
"metadata" : {
    "collapsed" : false
},
"source" : ["testTrue(\"not empty? guess([product(1+factorial k, k=0..n-1) for n in 0..6], [guessPRec], [guessProduct])\")"],
"outputs": []
}
,
{
"cell_type" : "code",
"execution_count": null,
"metadata" : {
    "collapsed" : false
},
"source" : ["testcase \"options\""],
"outputs": []
}
,
{
"cell_type" : "code",
"execution_count": null,
"metadata" : {
    "collapsed" : false
},
"source" : ["testLibraryError \"guessPRec([1,2,3,4,5], Somos==3)\""],
"outputs": []
}
,
{
"cell_type" : "code",
"execution_count": null,
"metadata" : {
    "collapsed" : false
},
"source" : ["testLibraryError \"guessPRec([1,2,3,4,5], Somos==true)\""],
"outputs": []
}
,
{
"cell_type" : "code",
"execution_count": null,
"metadata" : {
    "collapsed" : false
},
"source" : ["xftestLibraryError \"guessRec([1,2,3,4], Somos==true, maxShift==4, homogeneous==1)\""],
"outputs": []
}
,
{
"cell_type" : "code",
"execution_count": null,
"metadata" : {
    "collapsed" : false
},
"source" : ["xftestLibraryError \"guessRec([1,2,3,4], Somos==5, maxShift==4, homogeneous==1)\""],
"outputs": []
}
,
{
"cell_type" : "code",
"execution_count": null,
"metadata" : {
    "collapsed" : false
},
"source" : ["testcase \"checking\""],
"outputs": []
}
,
{
"cell_type" : "code",
"execution_count": null,
"metadata" : {
    "collapsed" : false
},
"source" : ["testTrue(\"empty? guessADE(append([n/1 for n in 0..6],[1]),homogeneous==4,maxDegree==2)\")"],
"outputs": []
}
,
{
"cell_type" : "code",
"execution_count": null,
"metadata" : {
    "collapsed" : false
},
"source" : ["testTrue(\"not empty? guessADE(append([n/1 for n in 0..6],[1]),homogeneous==4,maxDegree==2,checkExtraValues==false)\")"],
"outputs": []
}
,
{
"cell_type" : "code",
"execution_count": null,
"metadata" : {
    "collapsed" : false
},
"source" : ["xftestTrue(\"empty? guessADE(append([n/1 for n in 0..6],[1]),homogeneous==4,maxDegree==2, check=='MonteCarlo)\")"],
"outputs": []
}
,
{
"cell_type" : "code",
"execution_count": null,
"metadata" : {
    "collapsed" : false
},
"source" : ["testsuite \"RECOP\""],
"outputs": []
}
,
{
"cell_type" : "code",
"execution_count": null,
"metadata" : {
    "collapsed" : false
},
"source" : ["testcase \"eval\""],
"outputs": []
}
,
{
"cell_type" : "code",
"execution_count": null,
"metadata" : {
    "collapsed" : false
},
"source" : ["l := [0,1,0,1,1,0,0,0,0,0,0,0,0,0,0];"],
"outputs": []
}
,
{
"cell_type" : "code",
"execution_count": null,
"metadata" : {
    "collapsed" : false
},
"source" : ["res := first guessADE first(l, 10)"],
"outputs": []
}
,
{
"cell_type" : "code",
"execution_count": null,
"metadata" : {
    "collapsed" : false
},
"source" : ["xftestEquals(\"[eval(res, 'n=n) for n in 0..#l-1]\", \"l\")"],
"outputs": []
}
,
{
"cell_type" : "code",
"execution_count": null,
"metadata" : {
    "collapsed" : false
},
"source" : ["expected() ==\n    messagePrint(\"testsuite | testcases: failed (total) | tests: failed (total)\")$OutputForm\n    messagePrint(\"guessing                    0    (21)               0    (71)\")$OutputForm\n    messagePrint(\"RECOP                       0     (1)               0     (1)\")$OutputForm"],
"outputs": []
}
,
{
"cell_type" : "code",
"execution_count": null,
"metadata" : {
    "collapsed" : false
},
"source" : ["statistics()"],
"outputs": []
}
,
{
"cell_type" : "code",
"execution_count": null,
"metadata" : {
    "collapsed" : false
},
"source" : ["expected()"],
"outputs": []
}
,
{
"cell_type" : "code",
"execution_count": null,
"metadata" : {
    "collapsed" : false
},
"source" : ["--\n-- EOF\n--"],
"outputs": []
}
 ],
"metadata": {
 "kernelspec": {
  "display_name": "FriCAS",
  "language": "spad",
  "name": "ifricas"
 },
 "language_info": {
  "codemirror_mode": "spad",
  "mimetype": "text/x-spad",
  "name": "SPAD",
  "pygments_lexer": "spad",
  "version": "1.2.6"
 },
 "name": "mantepse.ipynb"
},
"nbformat": 4,
"nbformat_minor": 0
}
