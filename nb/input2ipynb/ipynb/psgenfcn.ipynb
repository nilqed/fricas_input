{
 "cells": [
{
"cell_type" : "markdown",
"metadata" : {},
"source" : ["Copyright The Numerical Algorithms Group Limited 1991.\n"]
}
,
{
"cell_type" : "markdown",
"metadata" : {},
"source" : ["% Power Series Generating Functions\n We obtain Fibonacci numbers, Bernoulli numbers and polynomials, and\n Euler numbers and polynomials as power series coefficients\n Author: Clifton J. Williamson\n Date Created: 1 June 1990\n Date Last Updated: 1 June 1990\n Keywords: Fibonacci, Bernoulli, Euler\n References:\n"]
}
,
{
"cell_type" : "markdown",
"metadata" : {},
"source" : [" We will compute power series in two different ways, then test equality\n of coefficients up to a specified order.  The function that tests\n 'approximate equality' will return an error message if the test fails.\n"]
}
,
{
"cell_type" : "code",
"execution_count": null,
"metadata" : {
    "collapsed" : false
},
"source" : [")cl all"],
"outputs": []
}
,
{
"cell_type" : "code",
"execution_count": null,
"metadata" : {
    "collapsed" : false
},
"source" : ["ORD := 20"],
"outputs": []
}
,
{
"cell_type" : "code",
"execution_count": null,
"metadata" : {
    "collapsed" : false
},
"source" : ["approximateEquality(series1,series2) ==\n  -- tests that 2 series are equal to order ORD\n  uts1 := series1 :: UTS(EXPR INT,'t,0)\n  uts2 := series2 :: UTS(EXPR INT,'t,0)\n  flag := (order(uts1 - uts2,ORD) = ORD) :: Boolean\n  flag => true\n  error \"series do not agree to specified order\""],
"outputs": []
}
,
{
"cell_type" : "code",
"execution_count": null,
"metadata" : {
    "collapsed" : false
},
"source" : ["bernoulliPolynomial(n) ==\n  -- returns the nth Bernoulli polynomial as an EXPR INT\n  sup := bernoulli(n)$(PNTHEORY)\n  p : POLY FRAC INT := multivariate(sup,'x)\n  p :: (EXPR INT)"],
"outputs": []
}
,
{
"cell_type" : "code",
"execution_count": null,
"metadata" : {
    "collapsed" : false
},
"source" : ["eulerPolynomial(n) ==\n  -- returns the nth Euler polynomial as an EXPR INT\n  sup := euler(n)$(PNTHEORY)\n  p : POLY FRAC INT := multivariate(sup,'x)\n  p :: (EXPR INT)"],
"outputs": []
}
,
{
"cell_type" : "code",
"execution_count": null,
"metadata" : {
    "collapsed" : false
},
"source" : ["f1 := taylor(t/(1 - t - t^2))"],
"outputs": []
}
,
{
"cell_type" : "code",
"execution_count": null,
"metadata" : {
    "collapsed" : false
},
"source" : ["f2 := taylor(n +-> fibonacci(n),t = 0)"],
"outputs": []
}
,
{
"cell_type" : "code",
"execution_count": null,
"metadata" : {
    "collapsed" : false
},
"source" : ["approximateEquality(f1,f2)"],
"outputs": []
}
,
{
"cell_type" : "code",
"execution_count": null,
"metadata" : {
    "collapsed" : false
},
"source" : ["g1 := taylor(t/(exp(t) - 1))"],
"outputs": []
}
,
{
"cell_type" : "code",
"execution_count": null,
"metadata" : {
    "collapsed" : false
},
"source" : ["g2 := taylor(n +-> bernoulli(n)/factorial(n),t = 0)"],
"outputs": []
}
,
{
"cell_type" : "code",
"execution_count": null,
"metadata" : {
    "collapsed" : false
},
"source" : ["approximateEquality(g1,g2)"],
"outputs": []
}
,
{
"cell_type" : "code",
"execution_count": null,
"metadata" : {
    "collapsed" : false
},
"source" : ["gg1 := taylor(t*exp(t*x)/(exp(t) - 1),t = 0)"],
"outputs": []
}
,
{
"cell_type" : "code",
"execution_count": null,
"metadata" : {
    "collapsed" : false
},
"source" : ["gg2 := taylor(n +-> bernoulliPolynomial(n)/factorial(n),t = 0)"],
"outputs": []
}
,
{
"cell_type" : "code",
"execution_count": null,
"metadata" : {
    "collapsed" : false
},
"source" : ["approximateEquality(gg1,gg2)"],
"outputs": []
}
,
{
"cell_type" : "code",
"execution_count": null,
"metadata" : {
    "collapsed" : false
},
"source" : ["h1 := taylor(2*exp(t/2)/(exp(t) + 1))"],
"outputs": []
}
,
{
"cell_type" : "code",
"execution_count": null,
"metadata" : {
    "collapsed" : false
},
"source" : ["h2 := taylor(n +-> euler(n)/(2^n * factorial(n)),t = 0)"],
"outputs": []
}
,
{
"cell_type" : "code",
"execution_count": null,
"metadata" : {
    "collapsed" : false
},
"source" : ["approximateEquality(h1,h2)"],
"outputs": []
}
,
{
"cell_type" : "code",
"execution_count": null,
"metadata" : {
    "collapsed" : false
},
"source" : ["hh1 := taylor(2*exp(t*x)/(exp(t) + 1),t = 0)"],
"outputs": []
}
,
{
"cell_type" : "code",
"execution_count": null,
"metadata" : {
    "collapsed" : false
},
"source" : ["hh2 := taylor(n +-> eulerPolynomial(n)/factorial(n),t = 0)"],
"outputs": []
}
,
{
"cell_type" : "code",
"execution_count": null,
"metadata" : {
    "collapsed" : false
},
"source" : ["approximateEquality(hh1,hh2)"],
"outputs": []
}
,
{
"cell_type" : "code",
"execution_count": null,
"metadata" : {
    "collapsed" : false
},
"source" : ["--\n-- EOF\n--"],
"outputs": []
}
 ],
"metadata": {
 "kernelspec": {
  "display_name": "FriCAS",
  "language": "spad",
  "name": "ifricas"
 },
 "language_info": {
  "codemirror_mode": "spad",
  "mimetype": "text/x-spad",
  "name": "SPAD",
  "pygments_lexer": "spad",
  "version": "1.2.6"
 },
 "name": "psgenfcn.ipynb"
},
"nbformat": 4,
"nbformat_minor": 0
}
