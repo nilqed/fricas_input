{
 "cells": [
{
"cell_type" : "markdown",
"metadata" : {},
"source" : ["Copyright The Numerical Algorithms Group Limited 1994.\n Input file to solve linear second order differential equations\n with driving force A*cos(wt).\n"]
}
,
{
"cell_type" : "markdown",
"metadata" : {},
"source" : [" The equation is solved at y(0)=y'(0)=0 for\n    (i)   an overdamped, forced motion example  c^2-4*k*m > 0\n    (ii)  critically damped                     c^2-4*k*m = 0\n    (iii) underdamped                           c^2-4*k*m < 0\n"]
}
,
{
"cell_type" : "markdown",
"metadata" : {},
"source" : [" The resulting equations are then plotted.\n"]
}
,
{
"cell_type" : "code",
"execution_count": null,
"metadata" : {
    "collapsed" : false
},
"source" : [")clear all"],
"outputs": []
}
,
{
"cell_type" : "code",
"execution_count": null,
"metadata" : {
    "collapsed" : false
},
"source" : ["y := operator y"],
"outputs": []
}
,
{
"cell_type" : "code",
"execution_count": null,
"metadata" : {
    "collapsed" : false
},
"source" : ["deq := m*D(y x, x, 2) + c*D(y x, x) + k*(y x) = A * cos (w * x)"],
"outputs": []
}
,
{
"cell_type" : "code",
"execution_count": null,
"metadata" : {
    "collapsed" : false
},
"source" : ["solve(deq, y, x=0, [0,0])                     -- takes a few minutes"],
"outputs": []
}
,
{
"cell_type" : "code",
"execution_count": null,
"metadata" : {
    "collapsed" : false
},
"source" : ["ex:=%"],
"outputs": []
}
,
{
"cell_type" : "code",
"execution_count": null,
"metadata" : {
    "collapsed" : false
},
"source" : ["eval(%, [c=6,k=5,m=1,A=6*sqrt(5),w=sqrt(5)])  -- c^2-4*k*m = 16"],
"outputs": []
}
,
{
"cell_type" : "code",
"execution_count": null,
"metadata" : {
    "collapsed" : false
},
"source" : ["draw(%,x=0..15,title==\"Overdamping\")"],
"outputs": []
}
,
{
"cell_type" : "code",
"execution_count": null,
"metadata" : {
    "collapsed" : false
},
"source" : ["eval(ex, [k=5,m=1,A=6*sqrt(5),w=sqrt(5)])     -- c^2-4*k*m = 0"],
"outputs": []
}
,
{
"cell_type" : "code",
"execution_count": null,
"metadata" : {
    "collapsed" : false
},
"source" : ["limit(%,c=sqrt(20),\"right\")                   -- otherwise division by zero"],
"outputs": []
}
,
{
"cell_type" : "code",
"execution_count": null,
"metadata" : {
    "collapsed" : false
},
"source" : ["draw(%,x=0..15,title==\"Critically Damped\")"],
"outputs": []
}
,
{
"cell_type" : "code",
"execution_count": null,
"metadata" : {
    "collapsed" : false
},
"source" : ["eval(ex, [c=2,k=5,m=1,A=6*sqrt(5),w=sqrt(5)]) -- c^2-4*k*m = -16"],
"outputs": []
}
,
{
"cell_type" : "code",
"execution_count": null,
"metadata" : {
    "collapsed" : false
},
"source" : ["trigs %"],
"outputs": []
}
,
{
"cell_type" : "code",
"execution_count": null,
"metadata" : {
    "collapsed" : false
},
"source" : ["rule1 := rule sin(-x) == - sin(x)"],
"outputs": []
}
,
{
"cell_type" : "code",
"execution_count": null,
"metadata" : {
    "collapsed" : false
},
"source" : ["rule2 := rule cos(-x) ==   cos(x)"],
"outputs": []
}
,
{
"cell_type" : "code",
"execution_count": null,
"metadata" : {
    "collapsed" : false
},
"source" : ["rule2 rule1 %% (-3)"],
"outputs": []
}
,
{
"cell_type" : "code",
"execution_count": null,
"metadata" : {
    "collapsed" : false
},
"source" : ["draw(%,x=0..15,title==\"Underdamped\")"],
"outputs": []
}
,
{
"cell_type" : "code",
"execution_count": null,
"metadata" : {
    "collapsed" : false
},
"source" : ["--\n-- EOF\n--"],
"outputs": []
}
 ],
"metadata": {
 "kernelspec": {
  "display_name": "FriCAS",
  "language": "spad",
  "name": "ifricas"
 },
 "language_info": {
  "codemirror_mode": "spad",
  "mimetype": "text/x-spad",
  "name": "SPAD",
  "pygments_lexer": "spad",
  "version": "1.2.6"
 },
 "name": "damped.ipynb"
},
"nbformat": 4,
"nbformat_minor": 0
}
