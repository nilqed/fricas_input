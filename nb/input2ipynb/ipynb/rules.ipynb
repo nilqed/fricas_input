{
 "cells": [
{
"cell_type" : "markdown",
"metadata" : {},
"source" : ["Copyright The Numerical Algorithms Group Limited 1991.\n"]
}
,
{
"cell_type" : "code",
"execution_count": null,
"metadata" : {
    "collapsed" : false
},
"source" : [")clear all"],
"outputs": []
}
,
{
"cell_type" : "markdown",
"metadata" : {},
"source" : [" first a single rule\n"]
}
,
{
"cell_type" : "code",
"execution_count": null,
"metadata" : {
    "collapsed" : false
},
"source" : ["logrule := rule log(x) + log(y) == log(x * y)"],
"outputs": []
}
,
{
"cell_type" : "code",
"execution_count": null,
"metadata" : {
    "collapsed" : false
},
"source" : ["f := log sin x + log x"],
"outputs": []
}
,
{
"cell_type" : "code",
"execution_count": null,
"metadata" : {
    "collapsed" : false
},
"source" : ["logrule f"],
"outputs": []
}
,
{
"cell_type" : "markdown",
"metadata" : {},
"source" : [" now a pile of several rules\n"]
}
,
{
"cell_type" : "code",
"execution_count": null,
"metadata" : {
    "collapsed" : false
},
"source" : ["logrules := rule\n  log(x) + log(y) == log(x * y)\n  y * log x       == log(x ^ y)"],
"outputs": []
}
,
{
"cell_type" : "code",
"execution_count": null,
"metadata" : {
    "collapsed" : false
},
"source" : ["f := a * log(sin x) - 2 * log x"],
"outputs": []
}
,
{
"cell_type" : "code",
"execution_count": null,
"metadata" : {
    "collapsed" : false
},
"source" : ["logrules f"],
"outputs": []
}
,
{
"cell_type" : "markdown",
"metadata" : {},
"source" : [" example of a predicate attached to a pattern variable\n"]
}
,
{
"cell_type" : "code",
"execution_count": null,
"metadata" : {
    "collapsed" : false
},
"source" : ["logrules2 := rule\n  log(x) + log(y)          == log(x * y)\n  (y | integer? y) * log x == log(x ^ y)"],
"outputs": []
}
,
{
"cell_type" : "code",
"execution_count": null,
"metadata" : {
    "collapsed" : false
},
"source" : ["logrules2 f"],
"outputs": []
}
,
{
"cell_type" : "markdown",
"metadata" : {},
"source" : [" rules for linearizing sines and cosines\n"]
}
,
{
"cell_type" : "code",
"execution_count": null,
"metadata" : {
    "collapsed" : false
},
"source" : ["trigLinearize := rule\n  sin(x) * sin(y)                      == cos(x-y)/2 - cos(x+y)/2\n  cos(x) * cos(y)                      == cos(x+y)/2 + cos(x-y)/2\n  sin(x) * cos(y)                      == sin(x+y)/2 + sin(x-y)/2\n  sin(x) ^ (n | integer? n and n > 1) == (1-cos(2*x))/2 * sin(x)^(n-2)\n  cos(x) ^ (n | integer? n and n > 1) == (1+cos(2*x))/2 * cos(x)^(n-2)"],
"outputs": []
}
,
{
"cell_type" : "code",
"execution_count": null,
"metadata" : {
    "collapsed" : false
},
"source" : ["g := sin(a)*cos(b) + sin(a)*cos(a) + cos(2*a)*cos(3*a)"],
"outputs": []
}
,
{
"cell_type" : "code",
"execution_count": null,
"metadata" : {
    "collapsed" : false
},
"source" : ["trigLinearize g"],
"outputs": []
}
,
{
"cell_type" : "markdown",
"metadata" : {},
"source" : [" here we show the use of ? to indicate an 'optional' pattern variables\n"]
}
,
{
"cell_type" : "code",
"execution_count": null,
"metadata" : {
    "collapsed" : false
},
"source" : ["eirule := rule integral((?y + exp x)/x,x) == integral(y/x,x) + Ei x"],
"outputs": []
}
,
{
"cell_type" : "code",
"execution_count": null,
"metadata" : {
    "collapsed" : false
},
"source" : ["eirule integral(exp u/u, u)"],
"outputs": []
}
,
{
"cell_type" : "code",
"execution_count": null,
"metadata" : {
    "collapsed" : false
},
"source" : ["eirule integral(sin u + exp u/u, u)"],
"outputs": []
}
,
{
"cell_type" : "markdown",
"metadata" : {},
"source" : [" here we show the use of : to indicate a 'multiple' pattern variables\n"]
}
,
{
"cell_type" : "code",
"execution_count": null,
"metadata" : {
    "collapsed" : false
},
"source" : ["u := operator u"],
"outputs": []
}
,
{
"cell_type" : "code",
"execution_count": null,
"metadata" : {
    "collapsed" : false
},
"source" : ["v := operator v"],
"outputs": []
}
,
{
"cell_type" : "code",
"execution_count": null,
"metadata" : {
    "collapsed" : false
},
"source" : ["myrule := rule u(x + y) == u x + v y"],
"outputs": []
}
,
{
"cell_type" : "code",
"execution_count": null,
"metadata" : {
    "collapsed" : false
},
"source" : ["h := u(a + b + c + d)"],
"outputs": []
}
,
{
"cell_type" : "code",
"execution_count": null,
"metadata" : {
    "collapsed" : false
},
"source" : ["myrule h"],
"outputs": []
}
,
{
"cell_type" : "code",
"execution_count": null,
"metadata" : {
    "collapsed" : false
},
"source" : ["myrule2 := rule u(:x + y) == u x + v y"],
"outputs": []
}
,
{
"cell_type" : "code",
"execution_count": null,
"metadata" : {
    "collapsed" : false
},
"source" : ["myrule2 h"],
"outputs": []
}
,
{
"cell_type" : "code",
"execution_count": null,
"metadata" : {
    "collapsed" : false
},
"source" : ["--\n-- EOF\n--"],
"outputs": []
}
 ],
"metadata": {
 "kernelspec": {
  "display_name": "FriCAS",
  "language": "spad",
  "name": "ifricas"
 },
 "language_info": {
  "codemirror_mode": "spad",
  "mimetype": "text/x-spad",
  "name": "SPAD",
  "pygments_lexer": "spad",
  "version": "1.2.6"
 },
 "name": "rules.ipynb"
},
"nbformat": 4,
"nbformat_minor": 0
}
