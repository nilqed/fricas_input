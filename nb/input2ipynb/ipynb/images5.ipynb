{
 "cells": [
{
"cell_type" : "markdown",
"metadata" : {},
"source" : ["Copyright The Numerical Algorithms Group Limited 1994.\n"]
}
,
{
"cell_type" : "markdown",
"metadata" : {},
"source" : [" Color gallery page 5\n"]
}
,
{
"cell_type" : "markdown",
"metadata" : {},
"source" : [" Etruscan Venus\n Parameterization by George Frances\n"]
}
,
{
"cell_type" : "code",
"execution_count": null,
"metadata" : {
    "collapsed" : false
},
"source" : ["venus(a,r,steps) ==\n  surf := (u:DoubleFloat, v:DoubleFloat): Point DoubleFloat +->\n    cv := cos(v)\n    sv := sin(v)\n    cu := cos(u)\n    su := sin(u)\n    x := r * cos(2*u) * cv + sv * cu\n    y := r * sin(2*u) * cv - sv * su\n    z := a * cv\n    point [x,y,z]\n  draw(surf, 0..%pi, -%pi..%pi, var1Steps==steps,var2Steps==steps,\n       title == \"Etruscan Venus\")"],
"outputs": []
}
,
{
"cell_type" : "code",
"execution_count": null,
"metadata" : {
    "collapsed" : false
},
"source" : ["venus(5/2, 13/10, 50)"],
"outputs": []
}
,
{
"cell_type" : "markdown",
"metadata" : {},
"source" : [" Figure Eight Klein Bottle\n Parameterization from:\n \"Differential Geometry and Computer Graphics\" by Thomas Banchoff\n in Perspectives in Mathemtaics, Anneversry of Oberwolfasch 1984.\n Beirkhauser-Verlag, Basel, pp 43-60.\n"]
}
,
{
"cell_type" : "code",
"execution_count": null,
"metadata" : {
    "collapsed" : false
},
"source" : ["klein(x,y) ==\n  cx := cos(x)\n  cy := cos(y)\n  sx := sin(x)\n  sy := sin(y)\n  sx2 := sin(x/2)\n  cx2 := cos(x/2)\n  sq2 := sqrt(2.0@DoubleFloat)"],
"outputs": []
}
,
{
"cell_type" : "code",
"execution_count": null,
"metadata" : {
    "collapsed" : false
},
"source" : ["  point [cx * (cx2 * (sq2 + cy) + (sx2 * sy * cy)), _\n         sx * (cx2 * (sq2 + cy) + (sx2 * sy * cy)), _\n"],
"outputs": []
}
,
{
"cell_type" : "code",
"execution_count": null,
"metadata" : {
    "collapsed" : false
},
"source" : ["         -sx2 * (sq2 + cy) + cx2 * sy * cy]"],
"outputs": []
}
,
{
"cell_type" : "code",
"execution_count": null,
"metadata" : {
    "collapsed" : false
},
"source" : ["draw(klein, 0..4*%pi, 0..2*%pi, var1Steps==50, var2Steps==50, _\n"],
"outputs": []
}
,
{
"cell_type" : "code",
"execution_count": null,
"metadata" : {
    "collapsed" : false
},
"source" : ["     title==\"Figure Eight Klein Bottle\")"],
"outputs": []
}
,
{
"cell_type" : "markdown",
"metadata" : {},
"source" : [" Twisted torus\n"]
}
,
{
"cell_type" : "code",
"execution_count": null,
"metadata" : {
    "collapsed" : false
},
"source" : [")read ntube"],
"outputs": []
}
,
{
"cell_type" : "markdown",
"metadata" : {},
"source" : [" rotate a 2-d point by theta round the origin\n"]
}
,
{
"cell_type" : "code",
"execution_count": null,
"metadata" : {
    "collapsed" : false
},
"source" : ["rotateBy(p, theta) ==\n  c := cos(theta)\n  s := sin(theta)\n  point [p.1*c - p.2*s, p.1*s + p.2*c]"],
"outputs": []
}
,
{
"cell_type" : "markdown",
"metadata" : {},
"source" : [" a circle in 3-space\n"]
}
,
{
"cell_type" : "code",
"execution_count": null,
"metadata" : {
    "collapsed" : false
},
"source" : ["bcircle t ==\n  point [3*cos t, 3*sin t, 0]"],
"outputs": []
}
,
{
"cell_type" : "markdown",
"metadata" : {},
"source" : [" an elipse which twists around 4 times as t revolves once.\n"]
}
,
{
"cell_type" : "code",
"execution_count": null,
"metadata" : {
    "collapsed" : false
},
"source" : ["twist(u, t) ==\n  theta := 4*t\n  p := point [sin u, cos(u)/2]\n  rotateBy(p, theta)"],
"outputs": []
}
,
{
"cell_type" : "code",
"execution_count": null,
"metadata" : {
    "collapsed" : false
},
"source" : ["ntubeDrawOpt(bcircle, twist, 0..2*%pi, 0..2*%pi, _\n"],
"outputs": []
}
,
{
"cell_type" : "code",
"execution_count": null,
"metadata" : {
    "collapsed" : false
},
"source" : ["             var1Steps == 70, var2Steps == 250)"],
"outputs": []
}
,
{
"cell_type" : "markdown",
"metadata" : {},
"source" : [" Striped torus\n"]
}
,
{
"cell_type" : "markdown",
"metadata" : {},
"source" : [" a twisting circle\n"]
}
,
{
"cell_type" : "code",
"execution_count": null,
"metadata" : {
    "collapsed" : false
},
"source" : ["twist2(u, t) ==\n  theta := t\n  p := point [sin u, cos(u)]\n  rotateBy(p, theta)"],
"outputs": []
}
,
{
"cell_type" : "markdown",
"metadata" : {},
"source" : [" color function producing 21 stripes\n"]
}
,
{
"cell_type" : "code",
"execution_count": null,
"metadata" : {
    "collapsed" : false
},
"source" : ["cf(u,v) == sin(21*u)"],
"outputs": []
}
,
{
"cell_type" : "code",
"execution_count": null,
"metadata" : {
    "collapsed" : false
},
"source" : ["ntubeDrawOpt(bcircle, twist2, 0..2*%pi, 0..2*%pi, _\n"],
"outputs": []
}
,
{
"cell_type" : "code",
"execution_count": null,
"metadata" : {
    "collapsed" : false
},
"source" : ["              colorFunction == cf, var1Steps == 168, var2Steps == 126)"],
"outputs": []
}
,
{
"cell_type" : "code",
"execution_count": null,
"metadata" : {
    "collapsed" : false
},
"source" : ["--\n-- EOF\n--"],
"outputs": []
}
 ],
"metadata": {
 "kernelspec": {
  "display_name": "FriCAS",
  "language": "spad",
  "name": "ifricas"
 },
 "language_info": {
  "codemirror_mode": "spad",
  "mimetype": "text/x-spad",
  "name": "SPAD",
  "pygments_lexer": "spad",
  "version": "1.2.6"
 },
 "name": "images5.ipynb"
},
"nbformat": 4,
"nbformat_minor": 0
}
