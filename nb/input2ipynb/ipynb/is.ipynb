{
 "cells": [
{
"cell_type" : "markdown",
"metadata" : {},
"source" : ["Copyright The Numerical Algorithms Group Limited 1991.\n"]
}
,
{
"cell_type" : "markdown",
"metadata" : {},
"source" : ["  This is the 3n + 1 function:   f(n) = n/2    if n is even,\n                                        3n + 1 otherwise\n\n It can obviously be coded as\n  f n ==\n    even? n => n quo 2\n    3 * n + 1\n"]
}
,
{
"cell_type" : "markdown",
"metadata" : {},
"source" : [" but we code using the pattern matching syntax:\n f n ==\n    n is 2*m% => m%\n    3 * n + 1\n"]
}
,
{
"cell_type" : "markdown",
"metadata" : {},
"source" : [" The 'integer' is to return an integer instead of a polynomial\n"]
}
,
{
"cell_type" : "code",
"execution_count": null,
"metadata" : {
    "collapsed" : false
},
"source" : ["f n ==\n   not empty?(u := Is(n, 2*m%)) => integer eval(m%, u)\n   3 * n + 1"],
"outputs": []
}
,
{
"cell_type" : "code",
"execution_count": null,
"metadata" : {
    "collapsed" : false
},
"source" : [")set stream showall on"],
"outputs": []
}
,
{
"cell_type" : "markdown",
"metadata" : {},
"source" : [" The function g generates the stream of the repeated applications of f\n"]
}
,
{
"cell_type" : "code",
"execution_count": null,
"metadata" : {
    "collapsed" : false
},
"source" : ["g(n:INT):STREAM(INT) == stream(f, n)"],
"outputs": []
}
,
{
"cell_type" : "markdown",
"metadata" : {},
"source" : [" There is a conjecture that g(n) gets into the cycle (1 4 2)\n for every n\n"]
}
,
{
"cell_type" : "code",
"execution_count": null,
"metadata" : {
    "collapsed" : false
},
"source" : ["s := g 27"],
"outputs": []
}
,
{
"cell_type" : "code",
"execution_count": null,
"metadata" : {
    "collapsed" : false
},
"source" : ["extend(s, 150)"],
"outputs": []
}
,
{
"cell_type" : "code",
"execution_count": null,
"metadata" : {
    "collapsed" : false
},
"source" : ["--\n-- EOF\n--"],
"outputs": []
}
 ],
"metadata": {
 "kernelspec": {
  "display_name": "FriCAS",
  "language": "spad",
  "name": "ifricas"
 },
 "language_info": {
  "codemirror_mode": "spad",
  "mimetype": "text/x-spad",
  "name": "SPAD",
  "pygments_lexer": "spad",
  "version": "1.2.6"
 },
 "name": "is.ipynb"
},
"nbformat": 4,
"nbformat_minor": 0
}
