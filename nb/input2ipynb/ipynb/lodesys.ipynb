{
 "cells": [
{
"cell_type" : "markdown",
"metadata" : {},
"source" : ["Copyright The Numerical Algorithms Group Limited 1994.\n"]
}
,
{
"cell_type" : "code",
"execution_count": null,
"metadata" : {
    "collapsed" : false
},
"source" : [")cl all"],
"outputs": []
}
,
{
"cell_type" : "markdown",
"metadata" : {},
"source" : [" There are 2 different ways to input a homogeneous 1st order system of\n linear ordinary differential equations of the form  dy/dt = M y\n where y is a vector of unknown functions of t.\n the first is simply  solve(M, t)  which will be understood to be\n a differential system:\n"]
}
,
{
"cell_type" : "code",
"execution_count": null,
"metadata" : {
    "collapsed" : false
},
"source" : ["M := matrix [[ 1+4*t,  -5*t,   7*t,  -8*t,   8*t,  -6*t],_\n             [ -10*t, 1+9*t, -14*t,  16*t, -16*t,  12*t],_\n             [  -5*t,   5*t, 1-8*t,   8*t,  -8*t,   6*t],_\n             [  10*t, -10*t,  14*t,1-17*t,  16*t, -12*t],_\n             [   5*t,  -5*t,   7*t,  -8*t, 1+7*t,  -6*t],_\n"],
"outputs": []
}
,
{
"cell_type" : "code",
"execution_count": null,
"metadata" : {
    "collapsed" : false
},
"source" : ["             [  -5*t,   5*t,  -7*t,   8*t,  -8*t, 1+5*t]]"],
"outputs": []
}
,
{
"cell_type" : "markdown",
"metadata" : {},
"source" : [" the original system in Barkatou's AAECC paper is t^2 dy/dt = M*y\n"]
}
,
{
"cell_type" : "code",
"execution_count": null,
"metadata" : {
    "collapsed" : false
},
"source" : ["sol := solve(inv(t^2) * M, t)"],
"outputs": []
}
,
{
"cell_type" : "markdown",
"metadata" : {},
"source" : [" verify the solutions\n"]
}
,
{
"cell_type" : "code",
"execution_count": null,
"metadata" : {
    "collapsed" : false
},
"source" : ["[t^2 * map(h +-> D(h, t), v) - M * v for v in sol]"],
"outputs": []
}
,
{
"cell_type" : "markdown",
"metadata" : {},
"source" : [" the second way is to type each equation using a separate operator for\n each unknown:\n"]
}
,
{
"cell_type" : "code",
"execution_count": null,
"metadata" : {
    "collapsed" : false
},
"source" : ["x := operator x"],
"outputs": []
}
,
{
"cell_type" : "code",
"execution_count": null,
"metadata" : {
    "collapsed" : false
},
"source" : ["y := operator y"],
"outputs": []
}
,
{
"cell_type" : "code",
"execution_count": null,
"metadata" : {
    "collapsed" : false
},
"source" : ["sys := [D(x t, t) = x t + sqrt 3 * y t, D(y t, t) = sqrt 3 * x t - y t]"],
"outputs": []
}
,
{
"cell_type" : "code",
"execution_count": null,
"metadata" : {
    "collapsed" : false
},
"source" : ["solve(sys, [x, y], t).basis"],
"outputs": []
}
,
{
"cell_type" : "markdown",
"metadata" : {},
"source" : [" Similarly there are 2 different ways to input the inhomogeneous system\n dy/dt = M y + v  where v is a given vector of functions.\n the first is   solve(M, v, t):\n"]
}
,
{
"cell_type" : "code",
"execution_count": null,
"metadata" : {
    "collapsed" : false
},
"source" : ["v := vector [1, (-29*t + 19)/5, -1, t + 1, - 2*t + 3, -1]"],
"outputs": []
}
,
{
"cell_type" : "markdown",
"metadata" : {},
"source" : [" get a particular solution to  t^2 dy/dt = M y + v\n"]
}
,
{
"cell_type" : "code",
"execution_count": null,
"metadata" : {
    "collapsed" : false
},
"source" : ["solp := solve(inv(t^2) * M, inv(t^2) * v, t).particular"],
"outputs": []
}
,
{
"cell_type" : "markdown",
"metadata" : {},
"source" : [" verify the particular solution\n"]
}
,
{
"cell_type" : "code",
"execution_count": null,
"metadata" : {
    "collapsed" : false
},
"source" : ["t^2 * map(h +-> D(h, t), solp) - M * solp - v"],
"outputs": []
}
,
{
"cell_type" : "markdown",
"metadata" : {},
"source" : [" the second way is by listing the equations:\n"]
}
,
{
"cell_type" : "code",
"execution_count": null,
"metadata" : {
    "collapsed" : false
},
"source" : ["z := operator z"],
"outputs": []
}
,
{
"cell_type" : "code",
"execution_count": null,
"metadata" : {
    "collapsed" : false
},
"source" : ["sys := [D(x t, t) = y t + z t + t, D(y t, t) = x t + z t, D(z t, t) = x t + y t]"],
"outputs": []
}
,
{
"cell_type" : "code",
"execution_count": null,
"metadata" : {
    "collapsed" : false
},
"source" : ["solve(sys, [x, y, z], t).particular"],
"outputs": []
}
,
{
"cell_type" : "code",
"execution_count": null,
"metadata" : {
    "collapsed" : false
},
"source" : ["--\n-- EOF\n--"],
"outputs": []
}
 ],
"metadata": {
 "kernelspec": {
  "display_name": "FriCAS",
  "language": "spad",
  "name": "ifricas"
 },
 "language_info": {
  "codemirror_mode": "spad",
  "mimetype": "text/x-spad",
  "name": "SPAD",
  "pygments_lexer": "spad",
  "version": "1.2.6"
 },
 "name": "lodesys.ipynb"
},
"nbformat": 4,
"nbformat_minor": 0
}
