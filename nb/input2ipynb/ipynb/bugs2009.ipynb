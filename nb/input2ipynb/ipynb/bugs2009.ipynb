{
 "cells": [
{
"cell_type" : "code",
"execution_count": null,
"metadata" : {
    "collapsed" : false
},
"source" : [")set break resume"],
"outputs": []
}
,
{
"cell_type" : "code",
"execution_count": null,
"metadata" : {
    "collapsed" : false
},
"source" : [")expose UnittestCount UnittestAux Unittest"],
"outputs": []
}
,
{
"cell_type" : "code",
"execution_count": null,
"metadata" : {
    "collapsed" : false
},
"source" : ["testsuite \"bugs2009\""],
"outputs": []
}
,
{
"cell_type" : "code",
"execution_count": null,
"metadata" : {
    "collapsed" : false
},
"source" : ["testcase \"zero testing for constants (issue #290)\""],
"outputs": []
}
,
{
"cell_type" : "code",
"execution_count": null,
"metadata" : {
    "collapsed" : false
},
"source" : ["testEquals(\"integrate((x^4*exp(2)*log(2*x)^2+(3*x^2+-2*x)*exp(x+2)*log(2*x)+(exp(2*x+2)+-1*x*exp(x+2)))/(x^4*log(2*x)^2+2*x^2*exp(x)*log(2*x)+exp(2*x)), x)\", \"(x^3*exp(2)^2*log(2*x)+(x+1)*exp(2)*exp(x+2))/(x^2*exp(2)*log(2*x)+exp(x+2))\")"],
"outputs": []
}
,
{
"cell_type" : "code",
"execution_count": null,
"metadata" : {
    "collapsed" : false
},
"source" : ["testEquals(\"integrate(((x^2+-2*x)*exp(x+2)*log(2*x)+-1*x*exp(x+2))/(x^4*log(2*x)^2+2*x^2*exp(x)*log(2*x)+exp(2*x)), x)\", \"(exp(2)*exp(x+2))/(x^2*exp(2)*log(2*x)+exp(x+2))\")"],
"outputs": []
}
,
{
"cell_type" : "code",
"execution_count": null,
"metadata" : {
    "collapsed" : false
},
"source" : ["testEquals(\"integrate(exp(x^2)*(exp(a)^2-exp(2*a)), x)\", \"0\")"],
"outputs": []
}
,
{
"cell_type" : "code",
"execution_count": null,
"metadata" : {
    "collapsed" : false
},
"source" : ["testEquals(\"normalize(exp(4) - exp(2))\", \"exp(2)^2 - exp(2)\")"],
"outputs": []
}
,
{
"cell_type" : "code",
"execution_count": null,
"metadata" : {
    "collapsed" : false
},
"source" : ["testEquals(\"normalize(exp(sqrt(5)) - exp(2)^sqrt(5))\", \"exp(sqrt(5)) - exp(sqrt(5))^2\")"],
"outputs": []
}
,
{
"cell_type" : "code",
"execution_count": null,
"metadata" : {
    "collapsed" : false
},
"source" : ["testEquals(\"normalize(log(tan((1/2)*x+%pi/4))-asinh(tan(x)))\", \"0\")"],
"outputs": []
}
,
{
"cell_type" : "code",
"execution_count": null,
"metadata" : {
    "collapsed" : false
},
"source" : ["testEquals(\"normalize(log((2*exp(3)+1)/sqrt(4*exp(6)+4*exp(3)+1)))\", \"0\")"],
"outputs": []
}
,
{
"cell_type" : "code",
"execution_count": null,
"metadata" : {
    "collapsed" : false
},
"source" : ["testEquals(\"normalize(2*atan(exp(-3))-atan(-2*exp(-3)/(exp(-6)-1)))\", \"0\")"],
"outputs": []
}
,
{
"cell_type" : "code",
"execution_count": null,
"metadata" : {
    "collapsed" : false
},
"source" : ["testEquals(\"normalize(log(4)^2-4*log(2)^2)\", \"0\")"],
"outputs": []
}
,
{
"cell_type" : "code",
"execution_count": null,
"metadata" : {
    "collapsed" : false
},
"source" : ["ii := integrate(2^x/sqrt(1+4^x), x)"],
"outputs": []
}
,
{
"cell_type" : "code",
"execution_count": null,
"metadata" : {
    "collapsed" : false
},
"source" : ["testEquals(\"normalize(ii - asinh(2^x)/log(2))\", \"0\")"],
"outputs": []
}
,
{
"cell_type" : "code",
"execution_count": null,
"metadata" : {
    "collapsed" : false
},
"source" : ["testcase \"asin complex(1.0,0) (issue #138)\""],
"outputs": []
}
,
{
"cell_type" : "code",
"execution_count": null,
"metadata" : {
    "collapsed" : false
},
"source" : ["testEquals(\"asin complex(1.0,0)\", \"pi()$Complex(Float)/2\")"],
"outputs": []
}
,
{
"cell_type" : "code",
"execution_count": null,
"metadata" : {
    "collapsed" : false
},
"source" : ["testcase \"atanh 1.0 (issue #437)\""],
"outputs": []
}
,
{
"cell_type" : "code",
"execution_count": null,
"metadata" : {
    "collapsed" : false
},
"source" : ["testLibraryError(\"atanh 1.0\")"],
"outputs": []
}
,
{
"cell_type" : "code",
"execution_count": null,
"metadata" : {
    "collapsed" : false
},
"source" : ["testcase \"defining recurrence and type of argument (#439)\""],
"outputs": []
}
,
{
"cell_type" : "code",
"execution_count": null,
"metadata" : {
    "collapsed" : false
},
"source" : ["first [1 for m in 1..2] - m"],
"outputs": []
}
,
{
"cell_type" : "code",
"execution_count": null,
"metadata" : {
    "collapsed" : false
},
"source" : ["testcase \"not a valid isolation interval in integral (#441)\""],
"outputs": []
}
,
{
"cell_type" : "code",
"execution_count": null,
"metadata" : {
    "collapsed" : false
},
"source" : ["testTrue(\"(integrate(log(z-1)*z/(z^2-1)^2, z= 1..%plusInfinity); true)\")"],
"outputs": []
}
,
{
"cell_type" : "code",
"execution_count": null,
"metadata" : {
    "collapsed" : false
},
"source" : ["testcase \"index out of range in gcdDecomposition\""],
"outputs": []
}
,
{
"cell_type" : "code",
"execution_count": null,
"metadata" : {
    "collapsed" : false
},
"source" : ["i1 := 189145300198486602596774595069726915694703755579"],
"outputs": []
}
,
{
"cell_type" : "code",
"execution_count": null,
"metadata" : {
    "collapsed" : false
},
"source" : ["i2 := 119647849214981034640025582370842880808489196080633"],
"outputs": []
}
,
{
"cell_type" : "code",
"execution_count": null,
"metadata" : {
    "collapsed" : false
},
"source" : ["testTrue(\"(dc:=gcdDecomposition(vector([i1, i2]))$GcdBasis(Integer); true)\")"],
"outputs": []
}
,
{
"cell_type" : "code",
"execution_count": null,
"metadata" : {
    "collapsed" : false
},
"source" : ["cb := dc.basis"],
"outputs": []
}
,
{
"cell_type" : "code",
"execution_count": null,
"metadata" : {
    "collapsed" : false
},
"source" : ["ct := dc.transform"],
"outputs": []
}
,
{
"cell_type" : "code",
"execution_count": null,
"metadata" : {
    "collapsed" : false
},
"source" : ["testTrue(\"(#cb = 3)::Boolean\")"],
"outputs": []
}
,
{
"cell_type" : "code",
"execution_count": null,
"metadata" : {
    "collapsed" : false
},
"source" : ["testEquals(\"[gcd(cb(1), cb(2)), gcd(cb(2), cb(3)), gcd(cb(1), cb(3))]\", \"[1, 1, 1]\")"],
"outputs": []
}
,
{
"cell_type" : "code",
"execution_count": null,
"metadata" : {
    "collapsed" : false
},
"source" : ["testEquals(\"reduce('*, [cb(i)^(ct(i, 1)) for i in 1..3]) - i1\", \"0\")"],
"outputs": []
}
,
{
"cell_type" : "code",
"execution_count": null,
"metadata" : {
    "collapsed" : false
},
"source" : ["testEquals(\"reduce('*, [cb(i)^(ct(i, 2)) for i in 1..3]) - i2\", \"0\")"],
"outputs": []
}
,
{
"cell_type" : "code",
"execution_count": null,
"metadata" : {
    "collapsed" : false
},
"source" : ["testcase \"mapping as target type\""],
"outputs": []
}
,
{
"cell_type" : "code",
"execution_count": null,
"metadata" : {
    "collapsed" : false
},
"source" : ["testTrue(\"(f1 := _*$Float@((NonNegativeInteger,Float) -> Float); true)\")"],
"outputs": []
}
,
{
"cell_type" : "code",
"execution_count": null,
"metadata" : {
    "collapsed" : false
},
"source" : ["testTrue(\"abs(f1(5, 2.0) - 10.0) < 1.0e-15\")"],
"outputs": []
}
,
{
"cell_type" : "code",
"execution_count": null,
"metadata" : {
    "collapsed" : false
},
"source" : ["testcase \"equality of nested products is random (#443)\""],
"outputs": []
}
,
{
"cell_type" : "code",
"execution_count": null,
"metadata" : {
    "collapsed" : false
},
"source" : ["f := operator 'f"],
"outputs": []
}
,
{
"cell_type" : "code",
"execution_count": null,
"metadata" : {
    "collapsed" : false
},
"source" : ["testTrue(\"every?(c+->c, [(product(product(f i, i=1..k), k=1..n) = product(product(f j, j=1..l), l=1..n)) for m in 0..30]::List Boolean)\")"],
"outputs": []
}
,
{
"cell_type" : "code",
"execution_count": null,
"metadata" : {
    "collapsed" : false
},
"source" : ["testcase \"crashes coercing power series (#122, #136)\""],
"outputs": []
}
,
{
"cell_type" : "code",
"execution_count": null,
"metadata" : {
    "collapsed" : false
},
"source" : ["a := series(sin(x))"],
"outputs": []
}
,
{
"cell_type" : "markdown",
"metadata" : {},
"source" : [" testTrue(\"(a + 1.0; true)\")\n testTrue(\"(1.0 + a; true)\")\n"]
}
,
{
"cell_type" : "code",
"execution_count": null,
"metadata" : {
    "collapsed" : false
},
"source" : ["testTrue(\"(a*1.0; true)\")"],
"outputs": []
}
,
{
"cell_type" : "code",
"execution_count": null,
"metadata" : {
    "collapsed" : false
},
"source" : ["testTrue(\"(1.0*a; true)\")"],
"outputs": []
}
,
{
"cell_type" : "code",
"execution_count": null,
"metadata" : {
    "collapsed" : false
},
"source" : ["b := 1.0::UnivariatePuiseuxSeries(Expression Float,x,0.0)"],
"outputs": []
}
,
{
"cell_type" : "code",
"execution_count": null,
"metadata" : {
    "collapsed" : false
},
"source" : ["testTrue(\"(b + 1.0; true)\")"],
"outputs": []
}
,
{
"cell_type" : "code",
"execution_count": null,
"metadata" : {
    "collapsed" : false
},
"source" : ["testTrue(\"(1.0 + b; true)\")"],
"outputs": []
}
,
{
"cell_type" : "code",
"execution_count": null,
"metadata" : {
    "collapsed" : false
},
"source" : ["testTrue(\"(a + b; true)\")"],
"outputs": []
}
,
{
"cell_type" : "code",
"execution_count": null,
"metadata" : {
    "collapsed" : false
},
"source" : ["testTrue(\"(b + a; true)\")"],
"outputs": []
}
,
{
"cell_type" : "code",
"execution_count": null,
"metadata" : {
    "collapsed" : false
},
"source" : ["testTrue(\"(a*b; true)\")"],
"outputs": []
}
,
{
"cell_type" : "code",
"execution_count": null,
"metadata" : {
    "collapsed" : false
},
"source" : ["testTrue(\"(b*a; true)\")"],
"outputs": []
}
,
{
"cell_type" : "code",
"execution_count": null,
"metadata" : {
    "collapsed" : false
},
"source" : ["b:= a::UnivariatePuiseuxSeries(Expression Float,x,0.0)"],
"outputs": []
}
,
{
"cell_type" : "code",
"execution_count": null,
"metadata" : {
    "collapsed" : false
},
"source" : ["testTrue(\"(a + b; true)\")"],
"outputs": []
}
,
{
"cell_type" : "code",
"execution_count": null,
"metadata" : {
    "collapsed" : false
},
"source" : ["testTrue(\"(b + a; true)\")"],
"outputs": []
}
,
{
"cell_type" : "code",
"execution_count": null,
"metadata" : {
    "collapsed" : false
},
"source" : ["testTrue(\"(a*b; true)\")"],
"outputs": []
}
,
{
"cell_type" : "code",
"execution_count": null,
"metadata" : {
    "collapsed" : false
},
"source" : ["testTrue(\"(b*a; true)\")"],
"outputs": []
}
,
{
"cell_type" : "code",
"execution_count": null,
"metadata" : {
    "collapsed" : false
},
"source" : ["testcase \"crash in seriesSolve\""],
"outputs": []
}
,
{
"cell_type" : "code",
"execution_count": null,
"metadata" : {
    "collapsed" : false
},
"source" : ["f := operator f"],
"outputs": []
}
,
{
"cell_type" : "code",
"execution_count": null,
"metadata" : {
    "collapsed" : false
},
"source" : ["de := x^2*f(x)^3*D(f(x), x, 4) - 16*f(x)^2*D(f(x), x)^2"],
"outputs": []
}
,
{
"cell_type" : "code",
"execution_count": null,
"metadata" : {
    "collapsed" : false
},
"source" : ["testLibraryError(\"seriesSolve(de, f, x = 0, [1, 0, 0, 0])\")"],
"outputs": []
}
,
{
"cell_type" : "code",
"execution_count": null,
"metadata" : {
    "collapsed" : false
},
"source" : ["testcase \"factoring in SAE -- SF/2521387\""],
"outputs": []
}
,
{
"cell_type" : "code",
"execution_count": null,
"metadata" : {
    "collapsed" : false
},
"source" : ["F := SAE(Fraction Integer, SUP(Fraction Integer), x^2-2)"],
"outputs": []
}
,
{
"cell_type" : "code",
"execution_count": null,
"metadata" : {
    "collapsed" : false
},
"source" : ["pol := x^2-9-4*generator()$F"],
"outputs": []
}
,
{
"cell_type" : "code",
"execution_count": null,
"metadata" : {
    "collapsed" : false
},
"source" : ["testEquals(\"#factors(factor(pol))\", \"2\")"],
"outputs": []
}
,
{
"cell_type" : "code",
"execution_count": null,
"metadata" : {
    "collapsed" : false
},
"source" : ["testcase \"bad nested functions\""],
"outputs": []
}
,
{
"cell_type" : "code",
"execution_count": null,
"metadata" : {
    "collapsed" : false
},
"source" : ["Tr := Tree(Integer)"],
"outputs": []
}
,
{
"cell_type" : "code",
"execution_count": null,
"metadata" : {
    "collapsed" : false
},
"source" : ["n3 := tree(3, [])$Tr"],
"outputs": []
}
,
{
"cell_type" : "code",
"execution_count": null,
"metadata" : {
    "collapsed" : false
},
"source" : ["n2 := tree(2, [])$Tr"],
"outputs": []
}
,
{
"cell_type" : "code",
"execution_count": null,
"metadata" : {
    "collapsed" : false
},
"source" : ["mytree := tree(1, [n2, n3])$Tr"],
"outputs": []
}
,
{
"cell_type" : "code",
"execution_count": null,
"metadata" : {
    "collapsed" : false
},
"source" : ["testTrue(\"not(node?(mytree, n2))\")"],
"outputs": []
}
,
{
"cell_type" : "code",
"execution_count": null,
"metadata" : {
    "collapsed" : false
},
"source" : ["testTrue(\"node?(n2, mytree)\")"],
"outputs": []
}
,
{
"cell_type" : "code",
"execution_count": null,
"metadata" : {
    "collapsed" : false
},
"source" : ["testTrue(\"member?(1, mytree)\")"],
"outputs": []
}
,
{
"cell_type" : "code",
"execution_count": null,
"metadata" : {
    "collapsed" : false
},
"source" : ["testTrue(\"member?(3, mytree)\")"],
"outputs": []
}
,
{
"cell_type" : "code",
"execution_count": null,
"metadata" : {
    "collapsed" : false
},
"source" : ["testTrue(\"not(member?(4, mytree))\")"],
"outputs": []
}
,
{
"cell_type" : "code",
"execution_count": null,
"metadata" : {
    "collapsed" : false
},
"source" : ["Ss := Set Set Integer"],
"outputs": []
}
,
{
"cell_type" : "code",
"execution_count": null,
"metadata" : {
    "collapsed" : false
},
"source" : ["s1 := [[1]]@Ss"],
"outputs": []
}
,
{
"cell_type" : "code",
"execution_count": null,
"metadata" : {
    "collapsed" : false
},
"source" : ["testTrue(\"subset?(s1, [[1], [2]])\")"],
"outputs": []
}
,
{
"cell_type" : "code",
"execution_count": null,
"metadata" : {
    "collapsed" : false
},
"source" : ["testTrue(\"not(subset?(s1, [[2], [3]]))\")"],
"outputs": []
}
,
{
"cell_type" : "code",
"execution_count": null,
"metadata" : {
    "collapsed" : false
},
"source" : ["testcase \"wrong results of comparison\""],
"outputs": []
}
,
{
"cell_type" : "code",
"execution_count": null,
"metadata" : {
    "collapsed" : false
},
"source" : ["testLibraryError(\"%e > %pi\")"],
"outputs": []
}
,
{
"cell_type" : "code",
"execution_count": null,
"metadata" : {
    "collapsed" : false
},
"source" : ["testLibraryError(\"integrate(max(1, x), x=0..2)\")"],
"outputs": []
}
,
{
"cell_type" : "markdown",
"metadata" : {},
"source" : [" issue 193\n"]
}
,
{
"cell_type" : "code",
"execution_count": null,
"metadata" : {
    "collapsed" : false
},
"source" : ["testLibraryError(\"4 - %pi < 0\")"],
"outputs": []
}
,
{
"cell_type" : "code",
"execution_count": null,
"metadata" : {
    "collapsed" : false
},
"source" : ["testLibraryError(\"4 - %pi::Expression(Integer) < 0\")"],
"outputs": []
}
,
{
"cell_type" : "code",
"execution_count": null,
"metadata" : {
    "collapsed" : false
},
"source" : ["testLibraryError(\"sqrt(2) < sqrt(3/2)\")"],
"outputs": []
}
,
{
"cell_type" : "markdown",
"metadata" : {},
"source" : ["issue 334\n"]
}
,
{
"cell_type" : "code",
"execution_count": null,
"metadata" : {
    "collapsed" : false
},
"source" : ["testLibraryError(\"coefficient(numer(12*sin(z)^3*z), sin(z), 3)\")"],
"outputs": []
}
,
{
"cell_type" : "code",
"execution_count": null,
"metadata" : {
    "collapsed" : false
},
"source" : ["testcase \"equality in Any\""],
"outputs": []
}
,
{
"cell_type" : "markdown",
"metadata" : {},
"source" : [" issue 348\n"]
}
,
{
"cell_type" : "code",
"execution_count": null,
"metadata" : {
    "collapsed" : false
},
"source" : ["a : Any := [1, 2]"],
"outputs": []
}
,
{
"cell_type" : "code",
"execution_count": null,
"metadata" : {
    "collapsed" : false
},
"source" : ["b : Any := [1, 2]"],
"outputs": []
}
,
{
"cell_type" : "code",
"execution_count": null,
"metadata" : {
    "collapsed" : false
},
"source" : ["testTrue(\"(a = b)@Boolean\")"],
"outputs": []
}
,
{
"cell_type" : "code",
"execution_count": null,
"metadata" : {
    "collapsed" : false
},
"source" : ["b := [1, 3]"],
"outputs": []
}
,
{
"cell_type" : "code",
"execution_count": null,
"metadata" : {
    "collapsed" : false
},
"source" : ["testTrue(\"not((a = b)@Boolean)\")"],
"outputs": []
}
,
{
"cell_type" : "code",
"execution_count": null,
"metadata" : {
    "collapsed" : false
},
"source" : ["a := \"A\""],
"outputs": []
}
,
{
"cell_type" : "code",
"execution_count": null,
"metadata" : {
    "collapsed" : false
},
"source" : ["testTrue(\"not((a = b)@Boolean)\")"],
"outputs": []
}
,
{
"cell_type" : "code",
"execution_count": null,
"metadata" : {
    "collapsed" : false
},
"source" : ["b := \"A\""],
"outputs": []
}
,
{
"cell_type" : "code",
"execution_count": null,
"metadata" : {
    "collapsed" : false
},
"source" : ["testTrue(\"(a = b)@Boolean\")"],
"outputs": []
}
,
{
"cell_type" : "code",
"execution_count": null,
"metadata" : {
    "collapsed" : false
},
"source" : ["Sae := SAE(FRAC INT, UP(x, FRAC INT), x^2-3)"],
"outputs": []
}
,
{
"cell_type" : "code",
"execution_count": null,
"metadata" : {
    "collapsed" : false
},
"source" : ["a := generator()$Sae"],
"outputs": []
}
,
{
"cell_type" : "code",
"execution_count": null,
"metadata" : {
    "collapsed" : false
},
"source" : ["b := generator()$Sae"],
"outputs": []
}
,
{
"cell_type" : "code",
"execution_count": null,
"metadata" : {
    "collapsed" : false
},
"source" : ["testTrue(\"(a = b)@Boolean\")"],
"outputs": []
}
,
{
"cell_type" : "markdown",
"metadata" : {},
"source" : [" issue 279\n"]
}
,
{
"cell_type" : "code",
"execution_count": null,
"metadata" : {
    "collapsed" : false
},
"source" : ["X : Set Any := [\"x\"]"],
"outputs": []
}
,
{
"cell_type" : "code",
"execution_count": null,
"metadata" : {
    "collapsed" : false
},
"source" : ["Y : Set Any := [\"x\"]"],
"outputs": []
}
,
{
"cell_type" : "code",
"execution_count": null,
"metadata" : {
    "collapsed" : false
},
"source" : ["testTrue(\"(X = Y)@Boolean\")"],
"outputs": []
}
,
{
"cell_type" : "markdown",
"metadata" : {},
"source" : [" issue 352\n"]
}
,
{
"cell_type" : "code",
"execution_count": null,
"metadata" : {
    "collapsed" : false
},
"source" : ["f5 := 5::Factored(Complex(Integer))"],
"outputs": []
}
,
{
"cell_type" : "code",
"execution_count": null,
"metadata" : {
    "collapsed" : false
},
"source" : ["testTrue(\"(#factors(f5) = 2)@Boolean\")"],
"outputs": []
}
,
{
"cell_type" : "code",
"execution_count": null,
"metadata" : {
    "collapsed" : false
},
"source" : ["testTrue(\"not(prime?(5::Complex(Integer)))\")"],
"outputs": []
}
,
{
"cell_type" : "code",
"execution_count": null,
"metadata" : {
    "collapsed" : false
},
"source" : ["testTrue(\"prime?(7::Complex(Integer))\")"],
"outputs": []
}
,
{
"cell_type" : "markdown",
"metadata" : {},
"source" : [" missing solution\n"]
}
,
{
"cell_type" : "code",
"execution_count": null,
"metadata" : {
    "collapsed" : false
},
"source" : ["ex1 := log((7/3)^(2*x - 7)) + log((3/7)^(4*x - 5))"],
"outputs": []
}
,
{
"cell_type" : "code",
"execution_count": null,
"metadata" : {
    "collapsed" : false
},
"source" : ["testEquals(\"solve(ex1)\", \"[x = -1]\")"],
"outputs": []
}
,
{
"cell_type" : "code",
"execution_count": null,
"metadata" : {
    "collapsed" : false
},
"source" : [")set output algebra on"],
"outputs": []
}
,
{
"cell_type" : "code",
"execution_count": null,
"metadata" : {
    "collapsed" : false
},
"source" : ["statistics()"],
"outputs": []
}
,
{
"cell_type" : "code",
"execution_count": null,
"metadata" : {
    "collapsed" : false
},
"source" : ["--\n-- EOF\n--"],
"outputs": []
}
 ],
"metadata": {
 "kernelspec": {
  "display_name": "FriCAS",
  "language": "spad",
  "name": "ifricas"
 },
 "language_info": {
  "codemirror_mode": "spad",
  "mimetype": "text/x-spad",
  "name": "SPAD",
  "pygments_lexer": "spad",
  "version": "1.2.6"
 },
 "name": "bugs2009.ipynb"
},
"nbformat": 4,
"nbformat_minor": 0
}
