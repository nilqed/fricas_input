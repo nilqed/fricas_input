{
 "cells": [
{
"cell_type" : "code",
"execution_count": null,
"metadata" : {
    "collapsed" : false
},
"source" : [")set break resume"],
"outputs": []
}
,
{
"cell_type" : "code",
"execution_count": null,
"metadata" : {
    "collapsed" : false
},
"source" : [")expose UnittestCount UnittestAux Unittest"],
"outputs": []
}
,
{
"cell_type" : "code",
"execution_count": null,
"metadata" : {
    "collapsed" : false
},
"source" : ["testsuite \"cylindrical decomposition\""],
"outputs": []
}
,
{
"cell_type" : "code",
"execution_count": null,
"metadata" : {
    "collapsed" : false
},
"source" : ["testcase \"positivity of quadratic trinomial\""],
"outputs": []
}
,
{
"cell_type" : "code",
"execution_count": null,
"metadata" : {
    "collapsed" : false
},
"source" : ["Ran := RECLOS(FRAC INT)"],
"outputs": []
}
,
{
"cell_type" : "code",
"execution_count": null,
"metadata" : {
    "collapsed" : false
},
"source" : ["Cad := CAD(Ran)"],
"outputs": []
}
,
{
"cell_type" : "markdown",
"metadata" : {},
"source" : [" We prove below that p1(x) >= 0 for all x <=> p2 >= 0\n using CAD for quantifier elimination\n"]
}
,
{
"cell_type" : "code",
"execution_count": null,
"metadata" : {
    "collapsed" : false
},
"source" : ["p1 : POLY(Ran) := x^2 + a*x + b"],
"outputs": []
}
,
{
"cell_type" : "code",
"execution_count": null,
"metadata" : {
    "collapsed" : false
},
"source" : ["p2 : POLY(Ran) := a^2 - 4*b"],
"outputs": []
}
,
{
"cell_type" : "code",
"execution_count": null,
"metadata" : {
    "collapsed" : false
},
"source" : ["lvars := [x, a, b]"],
"outputs": []
}
,
{
"cell_type" : "code",
"execution_count": null,
"metadata" : {
    "collapsed" : false
},
"source" : ["cad := cylindricalDecomposition([p1, p2], lvars)$Cad"],
"outputs": []
}
,
{
"cell_type" : "code",
"execution_count": null,
"metadata" : {
    "collapsed" : false
},
"source" : ["Ct := Cell(Ran)"],
"outputs": []
}
,
{
"cell_type" : "code",
"execution_count": null,
"metadata" : {
    "collapsed" : false
},
"source" : ["good_cell(c : Ct) : Boolean ==\n    sp1 := samplePoint(c)\n    pf := eval(p2, lvars, sp1)\n    rval := retract(pf)@Ran\n    rval > 0 => true\n    pf := eval(p1, lvars, sp1)\n    rval := retract(pf)@Ran\n    rval >= 0"],
"outputs": []
}
,
{
"cell_type" : "markdown",
"metadata" : {},
"source" : [" first check implication p2 >= 0 => p1 >= 0\n"]
}
,
{
"cell_type" : "code",
"execution_count": null,
"metadata" : {
    "collapsed" : false
},
"source" : ["testTrue(\"every?(good_cell, cad)\")"],
"outputs": []
}
,
{
"cell_type" : "code",
"execution_count": null,
"metadata" : {
    "collapsed" : false
},
"source" : ["good_cell2a(c1 : Ct) : Boolean ==\n    sp1 := samplePoint(c1)\n    for c2 in cad repeat\n        cp := projection(c2)\n        samplePoint(cp) ~= sp1 => iterate\n        pf := eval(p1, lvars, samplePoint(c2))\n        rval := retract(pf)@Ran\n        rval < 0 => return false\n    return true"],
"outputs": []
}
,
{
"cell_type" : "code",
"execution_count": null,
"metadata" : {
    "collapsed" : false
},
"source" : ["lvars1 := rest(lvars)"],
"outputs": []
}
,
{
"cell_type" : "code",
"execution_count": null,
"metadata" : {
    "collapsed" : false
},
"source" : ["good_cell2b(c1 : Ct) : Boolean ==\n    pf := eval(p2, lvars1, samplePoint(c1))\n    rval := retract(pf)@Ran\n    rval <= 0"],
"outputs": []
}
,
{
"cell_type" : "code",
"execution_count": null,
"metadata" : {
    "collapsed" : false
},
"source" : ["good_cell2(c1 : Ct) : Boolean ==\n    r1 := good_cell2a(c1)\n    r2 := good_cell2b(c1)\n    r1 = r2"],
"outputs": []
}
,
{
"cell_type" : "code",
"execution_count": null,
"metadata" : {
    "collapsed" : false
},
"source" : ["pcl := [projection(c)::Ct for c in cad]"],
"outputs": []
}
,
{
"cell_type" : "code",
"execution_count": null,
"metadata" : {
    "collapsed" : false
},
"source" : ["testTrue(\"every?(good_cell2, pcl)\")"],
"outputs": []
}
,
{
"cell_type" : "code",
"execution_count": null,
"metadata" : {
    "collapsed" : false
},
"source" : [")set output algebra on"],
"outputs": []
}
,
{
"cell_type" : "code",
"execution_count": null,
"metadata" : {
    "collapsed" : false
},
"source" : ["statistics()"],
"outputs": []
}
,
{
"cell_type" : "code",
"execution_count": null,
"metadata" : {
    "collapsed" : false
},
"source" : ["--\n-- EOF\n--"],
"outputs": []
}
 ],
"metadata": {
 "kernelspec": {
  "display_name": "FriCAS",
  "language": "spad",
  "name": "ifricas"
 },
 "language_info": {
  "codemirror_mode": "spad",
  "mimetype": "text/x-spad",
  "name": "SPAD",
  "pygments_lexer": "spad",
  "version": "1.2.6"
 },
 "name": "cyldec.ipynb"
},
"nbformat": 4,
"nbformat_minor": 0
}
