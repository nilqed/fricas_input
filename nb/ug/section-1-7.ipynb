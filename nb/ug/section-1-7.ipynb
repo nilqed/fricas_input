{
 "cells": [
  {
   "cell_type": "markdown",
   "metadata": {},
   "source": [
    "# 1.7 Writing Your Own Functions\n",
    "\n",
    "FriCAS provides you with a very large library of predefined operations and objects to compute with. You can use the FriCAS library of constructors to create new objects dynamically of quite arbitrary complexity. For example, you can make lists of matrices of fractions of polynomials with complex floating point numbers as coefficients. Moreover, the library provides a wealth of operations that allow you to create and manipulate these objects.\n",
    "\n",
    "For many applications, you need to interact with the interpreter and write some FriCAS programs to tackle your application. FriCAS allows you to write functions interactively, thereby effectively extending the system library. Here we give a few simple examples, leaving the details to chapter [ugUser]() .\n",
    "\n",
    "We begin by looking at several ways that you can define the _factorial_ function in FriCAS. The first way is to give a piece-wise definition of the function. This method is best for a general recurrence relation since the pieces are gathered together and compiled into an efficient iterative function. Furthermore, enough previously computed values are automatically saved so that a subsequent call to the function can pick up from where it left off.\n",
    "\n",
    "Define the value of `fact` at 0. "
   ]
  },
  {
   "cell_type": "code",
   "execution_count": 0,
   "metadata": {
    "collapsed": false
   },
   "outputs": [
    {
     "data": {
      "text/plain": [
       "                                                                   Type: Void\n"
      ]
     },
     "execution_count": 0,
     "metadata": {},
     "output_type": "execute_result"
    }
   ],
   "source": [
    "fact(0) == 1"
   ]
  },
  {
   "cell_type": "markdown",
   "metadata": {},
   "source": [
    "Define the value of `fact(n)` for general `n`. "
   ]
  },
  {
   "cell_type": "code",
   "execution_count": 1,
   "metadata": {
    "collapsed": false
   },
   "outputs": [
    {
     "data": {
      "text/plain": [
       "                                                                   Type: Void\n"
      ]
     },
     "execution_count": 1,
     "metadata": {},
     "output_type": "execute_result"
    }
   ],
   "source": [
    "fact(n) == n*fact(n-1)"
   ]
  },
  {
   "cell_type": "markdown",
   "metadata": {},
   "source": [
    "Ask for the value at `50`. The resulting function created by FriCAS computes the value by iteration. "
   ]
  },
  {
   "cell_type": "code",
   "execution_count": 3,
   "metadata": {
    "collapsed": false
   },
   "outputs": [
    {
     "data": {
      "text/plain": [
       "   30414093201713378043612608166064768844377641568960512000000000000\n",
       "                                                        Type: PositiveInteger\n"
      ]
     },
     "execution_count": 3,
     "metadata": {},
     "output_type": "execute_result"
    }
   ],
   "source": [
    "fact(50)"
   ]
  },
  {
   "cell_type": "markdown",
   "metadata": {},
   "source": [
    "A second definition uses an `if-then-else` and recursion. "
   ]
  },
  {
   "cell_type": "code",
   "execution_count": 4,
   "metadata": {
    "collapsed": false
   },
   "outputs": [
    {
     "data": {
      "text/plain": [
       "                                                                   Type: Void\n"
      ]
     },
     "execution_count": 4,
     "metadata": {},
     "output_type": "execute_result"
    }
   ],
   "source": [
    "fac(n) == if n < 3 then n else n * fac(n - 1)"
   ]
  },
  {
   "cell_type": "markdown",
   "metadata": {},
   "source": [
    "This function is less efficient than the previous version since each iteration involves a recursive function call. "
   ]
  },
  {
   "cell_type": "code",
   "execution_count": 5,
   "metadata": {
    "collapsed": false
   },
   "outputs": [
    {
     "name": "stdout",
     "output_type": "stream",
     "text": [
      "   Compiling function fac with type Integer -> Integer \n"
     ]
    },
    {
     "data": {
      "text/plain": [
       "   30414093201713378043612608166064768844377641568960512000000000000\n",
       "                                                        Type: PositiveInteger\n"
      ]
     },
     "execution_count": 5,
     "metadata": {},
     "output_type": "execute_result"
    }
   ],
   "source": [
    "fac(50)"
   ]
  },
  {
   "cell_type": "markdown",
   "metadata": {},
   "source": [
    "A third version directly uses iteration. "
   ]
  },
  {
   "cell_type": "code",
   "execution_count": 6,
   "metadata": {
    "collapsed": false
   },
   "outputs": [
    {
     "data": {
      "text/plain": [
       "                                                                   Type: Void\n"
      ]
     },
     "execution_count": 6,
     "metadata": {},
     "output_type": "execute_result"
    }
   ],
   "source": [
    "fa(n) == (a := 1; for i in 2..n repeat a := a*i; a)"
   ]
  },
  {
   "cell_type": "markdown",
   "metadata": {},
   "source": [
    "This is the least space-consumptive version. "
   ]
  },
  {
   "cell_type": "code",
   "execution_count": 7,
   "metadata": {
    "collapsed": false
   },
   "outputs": [
    {
     "name": "stdout",
     "output_type": "stream",
     "text": [
      "   Compiling function fa with type PositiveInteger -> PositiveInteger \n"
     ]
    },
    {
     "data": {
      "text/plain": [
       "   30414093201713378043612608166064768844377641568960512000000000000\n",
       "                                                        Type: PositiveInteger\n"
      ]
     },
     "execution_count": 7,
     "metadata": {},
     "output_type": "execute_result"
    }
   ],
   "source": [
    "fa(50)"
   ]
  },
  {
   "cell_type": "markdown",
   "metadata": {},
   "source": [
    "A final version appears to construct a large list and then reduces over it with multiplication. "
   ]
  },
  {
   "cell_type": "code",
   "execution_count": 8,
   "metadata": {
    "collapsed": false
   },
   "outputs": [
    {
     "data": {
      "text/plain": [
       "                                                                   Type: Void\n"
      ]
     },
     "execution_count": 8,
     "metadata": {},
     "output_type": "execute_result"
    }
   ],
   "source": [
    "f(n) == reduce(*,[i for i in 2..n])"
   ]
  },
  {
   "cell_type": "markdown",
   "metadata": {},
   "source": [
    "In fact, the resulting computation is optimized into an efficient iteration loop equivalent to that of the third version. "
   ]
  },
  {
   "cell_type": "code",
   "execution_count": 9,
   "metadata": {
    "collapsed": false
   },
   "outputs": [
    {
     "name": "stdout",
     "output_type": "stream",
     "text": [
      "   Compiling function f with type PositiveInteger -> PositiveInteger \n"
     ]
    },
    {
     "data": {
      "text/plain": [
       "   30414093201713378043612608166064768844377641568960512000000000000\n",
       "                                                        Type: PositiveInteger\n"
      ]
     },
     "execution_count": 9,
     "metadata": {},
     "output_type": "execute_result"
    }
   ],
   "source": [
    "f(50)"
   ]
  },
  {
   "cell_type": "markdown",
   "metadata": {},
   "source": [
    "The library version uses an algorithm that is different from the four above because it highly optimizes the recurrence relation definition of `factorial`. "
   ]
  },
  {
   "cell_type": "code",
   "execution_count": 10,
   "metadata": {
    "collapsed": false
   },
   "outputs": [
    {
     "data": {
      "text/plain": [
       "   30414093201713378043612608166064768844377641568960512000000000000\n",
       "                                                        Type: PositiveInteger\n"
      ]
     },
     "execution_count": 10,
     "metadata": {},
     "output_type": "execute_result"
    }
   ],
   "source": [
    "factorial(50)"
   ]
  },
  {
   "cell_type": "markdown",
   "metadata": {},
   "source": [
    "You are **not** limited to one-line functions in FriCAS. If you place your function definitions in `.input` files (see [ugInOutIn]()), you can have multi-line functions that use indentation for grouping. Using the **Jupyter notebook** interface also allows you to enter multi-line code.  \n",
    "\n",
    "Given `n` elements, `diagonalMatrix` creates an `n` by `n` matrix with those elements down the diagonal. This function uses a permutation matrix that interchanges the $i^{th}$ and $j^{th}$ rows of a matrix by which it is right-multiplied.\n",
    "\n",
    "This function definition shows a style of definition that can be used in `.input` files. Indentation is used to create _blocks_: sequences of expressions that are evaluated in sequence except as modified by control statements such as `if-then-else` and `return`. \n",
    "```\n",
    "  permMat(n, i, j) ==\n",
    "    m := diagonalMatrix\n",
    "      [(if i = k or j = k then 0 else 1)\n",
    "        for k in 1..n]\n",
    "    m(i,j) := 1\n",
    "    m(j,i) := 1\n",
    "    m\n",
    "```    \n",
    "Here, in the notebook, we can enter the functions definition as above:"
   ]
  },
  {
   "cell_type": "code",
   "execution_count": 11,
   "metadata": {
    "collapsed": false
   },
   "outputs": [
    {
     "data": {
      "text/plain": [
       "                                                                   Type: Void\n"
      ]
     },
     "execution_count": 11,
     "metadata": {},
     "output_type": "execute_result"
    }
   ],
   "source": [
    "permMat(n, i, j) ==\n",
    "    m := diagonalMatrix\n",
    "      [(if i = k or j = k then 0 else 1)\n",
    "        for k in 1..n]\n",
    "    m(i,j) := 1\n",
    "    m(j,i) := 1\n",
    "    m"
   ]
  },
  {
   "cell_type": "markdown",
   "metadata": {},
   "source": [
    "This creates a four by four matrix that interchanges the second and third rows. "
   ]
  },
  {
   "cell_type": "code",
   "execution_count": 12,
   "metadata": {
    "collapsed": false
   },
   "outputs": [
    {
     "name": "stdout",
     "output_type": "stream",
     "text": [
      "   Compiling function permMat with type (PositiveInteger,\n",
      "      PositiveInteger,PositiveInteger) -> Matrix(NonNegativeInteger) \n"
     ]
    },
    {
     "data": {
      "text/plain": [
       "   +1  0  0  0+\n",
       "   |          |\n",
       "   |0  0  1  0|\n",
       "   |          |\n",
       "   |0  1  0  0|\n",
       "   |          |\n",
       "   +0  0  0  1+\n",
       "                                             Type: Matrix(NonNegativeInteger)\n"
      ]
     },
     "execution_count": 12,
     "metadata": {},
     "output_type": "execute_result"
    }
   ],
   "source": [
    "p := permMat(4,2,3)"
   ]
  },
  {
   "cell_type": "markdown",
   "metadata": {},
   "source": [
    "Create an example matrix to permute. "
   ]
  },
  {
   "cell_type": "code",
   "execution_count": 13,
   "metadata": {
    "collapsed": false
   },
   "outputs": [
    {
     "data": {
      "text/plain": [
       "   +1   2   3   4 +\n",
       "   |              |\n",
       "   |5   6   7   8 |\n",
       "   |              |\n",
       "   |9   10  11  12|\n",
       "   |              |\n",
       "   +13  14  15  16+\n",
       "                                             Type: Matrix(NonNegativeInteger)\n"
      ]
     },
     "execution_count": 13,
     "metadata": {},
     "output_type": "execute_result"
    }
   ],
   "source": [
    "m := matrix [ [4*i + j for j in 1..4] for i in 0..3]"
   ]
  },
  {
   "cell_type": "markdown",
   "metadata": {},
   "source": [
    "Interchange the second and third rows of `m`. "
   ]
  },
  {
   "cell_type": "code",
   "execution_count": 14,
   "metadata": {
    "collapsed": false
   },
   "outputs": [
    {
     "data": {
      "text/plain": [
       "   +1   2   3   4 +\n",
       "   |              |\n",
       "   |9   10  11  12|\n",
       "   |              |\n",
       "   |5   6   7   8 |\n",
       "   |              |\n",
       "   +13  14  15  16+\n",
       "                                             Type: Matrix(NonNegativeInteger)\n"
      ]
     },
     "execution_count": 14,
     "metadata": {},
     "output_type": "execute_result"
    }
   ],
   "source": [
    "permMat(4,2,3) * m"
   ]
  },
  {
   "cell_type": "markdown",
   "metadata": {},
   "source": [
    "A function can also be passed as an argument to another function, which then applies the function or passes it off to some other function that does. You often have to _declare_ the type of a function that has functional arguments.\n",
    "\n",
    "This declares `t` to be a two-argument function that returns a `Float`. The first argument is a function that takes one `Float` argument and returns a `Float`. "
   ]
  },
  {
   "cell_type": "code",
   "execution_count": 15,
   "metadata": {
    "collapsed": false
   },
   "outputs": [
    {
     "data": {
      "text/plain": [
       "                                                                   Type: Void\n"
      ]
     },
     "execution_count": 15,
     "metadata": {},
     "output_type": "execute_result"
    }
   ],
   "source": [
    "t : (Float -> Float, Float) -> Float"
   ]
  },
  {
   "cell_type": "markdown",
   "metadata": {},
   "source": [
    "This is the definition of `t`. "
   ]
  },
  {
   "cell_type": "code",
   "execution_count": 17,
   "metadata": {
    "collapsed": false
   },
   "outputs": [
    {
     "data": {
      "text/plain": [
       "                                                                   Type: Void\n"
      ]
     },
     "execution_count": 17,
     "metadata": {},
     "output_type": "execute_result"
    }
   ],
   "source": [
    "t(fun, x) == fun(x)^2 + sin(x)^2"
   ]
  },
  {
   "cell_type": "markdown",
   "metadata": {},
   "source": [
    "We have not defined a `cos` in the workspace. The one from the FriCAS library will do. "
   ]
  },
  {
   "cell_type": "code",
   "execution_count": 18,
   "metadata": {
    "collapsed": false
   },
   "outputs": [
    {
     "name": "stdout",
     "output_type": "stream",
     "text": [
      "   Compiling function t with type ((Float -> Float),Float) -> Float \n"
     ]
    },
    {
     "data": {
      "text/plain": [
       "   1.0\n",
       "                                                                  Type: Float\n"
      ]
     },
     "execution_count": 18,
     "metadata": {},
     "output_type": "execute_result"
    }
   ],
   "source": [
    "t(cos, 5.2058)"
   ]
  },
  {
   "cell_type": "markdown",
   "metadata": {},
   "source": [
    "Here we define our own (user-defined) function. "
   ]
  },
  {
   "cell_type": "code",
   "execution_count": 19,
   "metadata": {
    "collapsed": false
   },
   "outputs": [
    {
     "data": {
      "text/plain": [
       "                                                                   Type: Void\n"
      ]
     },
     "execution_count": 19,
     "metadata": {},
     "output_type": "execute_result"
    }
   ],
   "source": [
    "cosinv(y) == cos(1/y)"
   ]
  },
  {
   "cell_type": "markdown",
   "metadata": {},
   "source": [
    "Pass this function as an argument to `t`. "
   ]
  },
  {
   "cell_type": "code",
   "execution_count": 20,
   "metadata": {
    "collapsed": false
   },
   "outputs": [
    {
     "name": "stdout",
     "output_type": "stream",
     "text": [
      "   Compiling function cosinv with type Float -> Float \n"
     ]
    },
    {
     "data": {
      "text/plain": [
       "   1.7392237241_800516493\n",
       "                                                                  Type: Float\n"
      ]
     },
     "execution_count": 20,
     "metadata": {},
     "output_type": "execute_result"
    }
   ],
   "source": [
    "t(cosinv, 5.2058)"
   ]
  },
  {
   "cell_type": "markdown",
   "metadata": {},
   "source": [
    "FriCAS also has _pattern matching capabilities_ for simplification of expressions and for defining new functions by rules. For example, suppose that you want to apply regularly a transformation that groups together products of radicals:\n",
    "**Note** that such a transformation is **not** generally correct. FriCAS never uses it automatically.\n",
    "\n",
    "Give this rule the name `groupSqrt`. "
   ]
  },
  {
   "cell_type": "code",
   "execution_count": 21,
   "metadata": {
    "collapsed": false
   },
   "outputs": [
    {
     "data": {
      "text/plain": [
       "      +-+ +-+       +---+\n",
       "   %B\\|a \\|b  == %B\\|a b\n",
       "                       Type: RewriteRule(Integer,Integer,Expression(Integer))\n"
      ]
     },
     "execution_count": 21,
     "metadata": {},
     "output_type": "execute_result"
    }
   ],
   "source": [
    "groupSqrt := rule(sqrt(a) * sqrt(b) == sqrt(a*b))"
   ]
  },
  {
   "cell_type": "markdown",
   "metadata": {},
   "source": [
    "Here is a test expression. "
   ]
  },
  {
   "cell_type": "code",
   "execution_count": 22,
   "metadata": {
    "collapsed": false
   },
   "outputs": [
    {
     "name": "stdout",
     "output_type": "stream",
     "text": [
      "  "
     ]
    },
    {
     "data": {
      "text/plain": [
       "                      +-+                   +-+  +-+                   +-+ +-+\n",
       "     ((4z + 4y + 12x)\\|y  + (4z + 12y + 4x)\\|x )\\|z  + (12z + 4y + 4x)\\|x \\|y\n",
       "   + \n",
       "      2                 2           2\n",
       "     z  + (6y + 6x)z + y  + 6x y + x\n",
       "                                                    Type: Expression(Integer)\n"
      ]
     },
     "execution_count": 22,
     "metadata": {},
     "output_type": "execute_result"
    }
   ],
   "source": [
    "a := (sqrt(x) + sqrt(y) + sqrt(z))^4"
   ]
  },
  {
   "cell_type": "markdown",
   "metadata": {},
   "source": [
    "The rule `groupSqrt` successfully simplifies the expression. "
   ]
  },
  {
   "cell_type": "code",
   "execution_count": 24,
   "metadata": {
    "collapsed": false
   },
   "outputs": [
    {
     "name": "stdout",
     "output_type": "stream",
     "text": [
      "  "
     ]
    },
    {
     "data": {
      "text/plain": [
       "                     +---+                   +---+                   +---+    2\n",
       "     (4z + 4y + 12x)\\|y z  + (4z + 12y + 4x)\\|x z  + (12z + 4y + 4x)\\|x y  + z\n",
       "   + \n",
       "                   2           2\n",
       "     (6y + 6x)z + y  + 6x y + x\n",
       "                                                    Type: Expression(Integer)\n"
      ]
     },
     "execution_count": 24,
     "metadata": {},
     "output_type": "execute_result"
    }
   ],
   "source": [
    "groupSqrt a"
   ]
  },
  {
   "cell_type": "code",
   "execution_count": null,
   "metadata": {
    "collapsed": true
   },
   "outputs": [],
   "source": []
  }
 ],
 "metadata": {
  "kernelspec": {
   "display_name": "FriCAS",
   "language": "spad",
   "name": "ifricas"
  },
  "language_info": {
   "codemirror_mode": "spad",
   "mimetype": "text/x-spad",
   "name": "SPAD",
   "pygments_lexer": "spad",
   "version": "1.2.6"
  }
 },
 "nbformat": 4,
 "nbformat_minor": 0
}
