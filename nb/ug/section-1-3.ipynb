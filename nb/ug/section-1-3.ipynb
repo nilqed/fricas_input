{
 "cells": [
  {
   "cell_type": "markdown",
   "metadata": {},
   "source": [
    "# 1.3 The FriCAS Language\n",
    "\n",
    "The FriCAS language is a rich language for performing interactive computations and for building components of the FriCAS library. Here we present only some basic aspects of the language that you need to know for the rest of this chapter. Our discussion here is intentionally informal, with details unveiled on an as needed basis. For more information on a particular construct, we suggest you consult the index.\n",
    "\n",
    "## 1.3.1 Arithmetic Expressions\n",
    "\n",
    "For arithmetic expressions, use the `+` and `-` operator as in mathematics. Use `*` for multiplication, and `^` for exponentiation. To create a fraction, use `/`. When an expression contains several operators, those of highest precedence are evaluated first. For arithmetic operators, `^` has highest precedence, `*` and `/` have the next highest precedence, and `+` and `-` have the lowest precedence.\n",
    "\n",
    "FriCAS puts implicit parentheses around operations of higher precedence, and groups those of equal precedence from left to right.\n"
   ]
  },
  {
   "cell_type": "code",
   "execution_count": 1,
   "metadata": {
    "collapsed": false
   },
   "outputs": [
    {
     "data": {
      "text/plain": [
       "     19\n",
       "   - --\n",
       "      4\n",
       "                                                      Type: Fraction(Integer)\n"
      ]
     },
     "execution_count": 1,
     "metadata": {},
     "output_type": "execute_result"
    }
   ],
   "source": [
    "1 + 2 - 3 / 4 * 3 ^ 2 - 1"
   ]
  },
  {
   "cell_type": "markdown",
   "metadata": {},
   "source": [
    "The above expression is equivalent to this. "
   ]
  },
  {
   "cell_type": "code",
   "execution_count": 3,
   "metadata": {
    "collapsed": false
   },
   "outputs": [
    {
     "data": {
      "text/plain": [
       "     19\n",
       "   - --\n",
       "      4\n",
       "                                                      Type: Fraction(Integer)\n"
      ]
     },
     "execution_count": 3,
     "metadata": {},
     "output_type": "execute_result"
    }
   ],
   "source": [
    "((1 + 2) - ((3 / 4) * (3 ^ 2))) - 1"
   ]
  },
  {
   "cell_type": "markdown",
   "metadata": {},
   "source": [
    "If an expression contains subexpressions enclosed in parentheses, the parenthesized subexpressions are evaluated first (from left to right, from inside out). "
   ]
  },
  {
   "cell_type": "code",
   "execution_count": 4,
   "metadata": {
    "collapsed": false
   },
   "outputs": [
    {
     "data": {
      "text/plain": [
       "   11\n",
       "   --\n",
       "    4\n",
       "                                                      Type: Fraction(Integer)\n"
      ]
     },
     "execution_count": 4,
     "metadata": {},
     "output_type": "execute_result"
    }
   ],
   "source": [
    "1 + 2 - 3/ (4 * 3 ^ (2 - 1))"
   ]
  },
  {
   "cell_type": "markdown",
   "metadata": {},
   "source": [
    "## 1.3.2 Previous Results\n",
    "\n",
    "Use the percent sign **`%`** to refer to the last result."
   ]
  },
  {
   "cell_type": "code",
   "execution_count": 5,
   "metadata": {
    "collapsed": false
   },
   "outputs": [
    {
     "data": {
      "text/plain": [
       "   10000000000\n",
       "                                                        Type: PositiveInteger\n"
      ]
     },
     "execution_count": 5,
     "metadata": {},
     "output_type": "execute_result"
    }
   ],
   "source": [
    "10^10"
   ]
  },
  {
   "cell_type": "code",
   "execution_count": 6,
   "metadata": {
    "collapsed": false
   },
   "outputs": [
    {
     "data": {
      "text/plain": [
       "   10000000001\n",
       "                                                        Type: PositiveInteger\n"
      ]
     },
     "execution_count": 6,
     "metadata": {},
     "output_type": "execute_result"
    }
   ],
   "source": [
    "%+1"
   ]
  },
  {
   "cell_type": "markdown",
   "metadata": {},
   "source": [
    "## 1.3.3 Some Types\n",
    "\n",
    "Everything in FriCAS has a type. The type determines what operations you can perform on an object and how the object can be used. Chapter~ugTypes is dedicated to the interactive use of types. Several of the final chapters discuss how types are built and how they are organized in the FriCAS library.\n",
    "\n",
    "Positive integers are given type __`PositiveInteger`__. "
   ]
  },
  {
   "cell_type": "code",
   "execution_count": 7,
   "metadata": {
    "collapsed": false
   },
   "outputs": [
    {
     "data": {
      "text/plain": [
       "   8\n",
       "                                                        Type: PositiveInteger\n"
      ]
     },
     "execution_count": 7,
     "metadata": {},
     "output_type": "execute_result"
    }
   ],
   "source": [
    "8"
   ]
  },
  {
   "cell_type": "markdown",
   "metadata": {},
   "source": [
    "Negative ones are given type __`Integer`__. This fine distinction is helpful to the FriCAS interpreter. "
   ]
  },
  {
   "cell_type": "code",
   "execution_count": 8,
   "metadata": {
    "collapsed": false
   },
   "outputs": [
    {
     "data": {
      "text/plain": [
       "   - 8\n",
       "                                                                Type: Integer\n"
      ]
     },
     "execution_count": 8,
     "metadata": {},
     "output_type": "execute_result"
    }
   ],
   "source": [
    "-8"
   ]
  },
  {
   "cell_type": "markdown",
   "metadata": {},
   "source": [
    "Here a positive integer exponent gives a polynomial result. "
   ]
  },
  {
   "cell_type": "code",
   "execution_count": 9,
   "metadata": {
    "collapsed": false
   },
   "outputs": [
    {
     "data": {
      "text/plain": [
       "    8\n",
       "   x\n",
       "                                                    Type: Polynomial(Integer)\n"
      ]
     },
     "execution_count": 9,
     "metadata": {},
     "output_type": "execute_result"
    }
   ],
   "source": [
    "x^8"
   ]
  },
  {
   "cell_type": "markdown",
   "metadata": {},
   "source": [
    "Here a negative integer exponent produces a fraction."
   ]
  },
  {
   "cell_type": "code",
   "execution_count": 10,
   "metadata": {
    "collapsed": false
   },
   "outputs": [
    {
     "data": {
      "text/plain": [
       "    1\n",
       "   --\n",
       "    8\n",
       "   x\n",
       "                                          Type: Fraction(Polynomial(Integer))\n"
      ]
     },
     "execution_count": 10,
     "metadata": {},
     "output_type": "execute_result"
    }
   ],
   "source": [
    "x^(-8)"
   ]
  },
  {
   "cell_type": "markdown",
   "metadata": {},
   "source": [
    "## 1.3.4 Symbols, Variables, Assignments, and Declarations\n",
    "\n",
    "A _symbol_ is a literal used for the input of things like the _variables_ in polynomials and power series.\n",
    "\n",
    "We use the three symbols $x$, $y$, and $z$ in entering this polynomial. "
   ]
  },
  {
   "cell_type": "code",
   "execution_count": 11,
   "metadata": {
    "collapsed": false
   },
   "outputs": [
    {
     "data": {
      "text/plain": [
       "    2 2             2\n",
       "   y z  - 2x y z + x\n",
       "                                                    Type: Polynomial(Integer)\n"
      ]
     },
     "execution_count": 11,
     "metadata": {},
     "output_type": "execute_result"
    }
   ],
   "source": [
    "(x - y*z)^2"
   ]
  },
  {
   "cell_type": "markdown",
   "metadata": {},
   "source": [
    "A symbol has a name beginning with an uppercase or lowercase alphabetic character, `%`, or `!`. Successive characters (if any) can be any of the above, digits, or `?`. Case is distinguished: the symbol `points` is different from the symbol `Points`.\n",
    "\n",
    "A symbol can also be used in FriCAS as a _variable_. A variable refers to a value. To _assign_ a value to a variable, the operator `:=` is used. FriCAS actually has two forms of assignment: _immediate_ assignment, as discussed here, and _delayed_ assignment. See Section [ugLangAssign]() for details. A variable initially has no restrictions on the kinds of values to which it can refer.\n",
    "\n",
    "This assignment gives the value 4 (an integer) to a variable named $x$. "
   ]
  },
  {
   "cell_type": "code",
   "execution_count": 12,
   "metadata": {
    "collapsed": false
   },
   "outputs": [
    {
     "data": {
      "text/plain": [
       "   4\n",
       "                                                        Type: PositiveInteger\n"
      ]
     },
     "execution_count": 12,
     "metadata": {},
     "output_type": "execute_result"
    }
   ],
   "source": [
    "x := 4"
   ]
  },
  {
   "cell_type": "markdown",
   "metadata": {},
   "source": [
    "This gives the value $z+3/5$ (a polynomial) to $x$. "
   ]
  },
  {
   "cell_type": "code",
   "execution_count": 13,
   "metadata": {
    "collapsed": false
   },
   "outputs": [
    {
     "data": {
      "text/plain": [
       "       3\n",
       "   z + -\n",
       "       5\n",
       "                                          Type: Polynomial(Fraction(Integer))\n"
      ]
     },
     "execution_count": 13,
     "metadata": {},
     "output_type": "execute_result"
    }
   ],
   "source": [
    "x := z + 3/5"
   ]
  },
  {
   "cell_type": "markdown",
   "metadata": {},
   "source": [
    "To restrict the types of objects that can be assigned to a variable, use a _declaration_"
   ]
  },
  {
   "cell_type": "code",
   "execution_count": 14,
   "metadata": {
    "collapsed": false
   },
   "outputs": [
    {
     "data": {
      "text/plain": [
       "                                                                   Type: Void\n"
      ]
     },
     "execution_count": 14,
     "metadata": {},
     "output_type": "execute_result"
    }
   ],
   "source": [
    "y : Integer"
   ]
  },
  {
   "cell_type": "markdown",
   "metadata": {},
   "source": [
    "After a variable is declared to be of some type, only values of that type can be assigned to that variable. "
   ]
  },
  {
   "cell_type": "code",
   "execution_count": 15,
   "metadata": {
    "collapsed": false
   },
   "outputs": [
    {
     "data": {
      "text/plain": [
       "   89\n",
       "                                                                Type: Integer\n"
      ]
     },
     "execution_count": 15,
     "metadata": {},
     "output_type": "execute_result"
    }
   ],
   "source": [
    "y := 89"
   ]
  },
  {
   "cell_type": "markdown",
   "metadata": {},
   "source": [
    "The declaration for $y$ forces values assigned to $y$ to be converted to integer values."
   ]
  },
  {
   "cell_type": "code",
   "execution_count": 16,
   "metadata": {
    "collapsed": false
   },
   "outputs": [
    {
     "data": {
      "text/plain": [
       "   0\n",
       "                                                                Type: Integer\n"
      ]
     },
     "execution_count": 16,
     "metadata": {},
     "output_type": "execute_result"
    }
   ],
   "source": [
    "y := sin %pi"
   ]
  },
  {
   "cell_type": "markdown",
   "metadata": {},
   "source": [
    "If no such conversion is possible, FriCAS refuses to assign a value to $y$. "
   ]
  },
  {
   "cell_type": "code",
   "execution_count": 17,
   "metadata": {
    "collapsed": false
   },
   "outputs": [
    {
     "name": "stderr",
     "output_type": "stream",
     "text": [
      " \n",
      "   Cannot convert right-hand side of assignment\n",
      "\n",
      "      to an object of the type Integer of the left-hand side.\n",
      "\n"
     ]
    },
    {
     "data": {
      "text/plain": [
       "error\n"
      ]
     },
     "execution_count": 17,
     "metadata": {},
     "output_type": "execute_result"
    }
   ],
   "source": [
    "y := 2/3"
   ]
  },
  {
   "cell_type": "markdown",
   "metadata": {},
   "source": [
    "A type declaration can also be given together with an assignment. The declaration can assist FriCAS in choosing the correct operations to apply. "
   ]
  },
  {
   "cell_type": "code",
   "execution_count": 18,
   "metadata": {
    "collapsed": false
   },
   "outputs": [
    {
     "data": {
      "text/plain": [
       "   0.6666666666_6666666667\n",
       "                                                                  Type: Float\n"
      ]
     },
     "execution_count": 18,
     "metadata": {},
     "output_type": "execute_result"
    }
   ],
   "source": [
    "f : Float := 2/3"
   ]
  },
  {
   "cell_type": "markdown",
   "metadata": {},
   "source": [
    "Any number of expressions can be given on input line. Just separate them by semicolons. Only the result of evaluating the last expression is displayed.\n",
    "\n",
    "These two expressions have the same effect as the previous single expression. "
   ]
  },
  {
   "cell_type": "code",
   "execution_count": 19,
   "metadata": {
    "collapsed": false
   },
   "outputs": [
    {
     "data": {
      "text/plain": [
       "   0.6666666666_6666666667\n",
       "                                                                  Type: Float\n"
      ]
     },
     "execution_count": 19,
     "metadata": {},
     "output_type": "execute_result"
    }
   ],
   "source": [
    "f : Float; f := 2/3"
   ]
  },
  {
   "cell_type": "markdown",
   "metadata": {},
   "source": [
    "The type of a symbol is either `Symbol` or `Variable(name)` where _name_ is the name of the symbol.\n",
    "\n",
    "By default, the interpreter gives this symbol the type `Variable(q)`. "
   ]
  },
  {
   "cell_type": "code",
   "execution_count": 20,
   "metadata": {
    "collapsed": false
   },
   "outputs": [
    {
     "data": {
      "text/plain": [
       "   q\n",
       "                                                            Type: Variable(q)\n"
      ]
     },
     "execution_count": 20,
     "metadata": {},
     "output_type": "execute_result"
    }
   ],
   "source": [
    "q"
   ]
  },
  {
   "cell_type": "markdown",
   "metadata": {},
   "source": [
    "When multiple symbols are involved, `Symbol` is used. "
   ]
  },
  {
   "cell_type": "code",
   "execution_count": 21,
   "metadata": {
    "collapsed": false
   },
   "outputs": [
    {
     "data": {
      "text/plain": [
       "   [q,r]\n",
       "                                       Type: List(OrderedVariableList([q,r]))\n"
      ]
     },
     "execution_count": 21,
     "metadata": {},
     "output_type": "execute_result"
    }
   ],
   "source": [
    "[q, r]"
   ]
  },
  {
   "cell_type": "markdown",
   "metadata": {},
   "source": [
    "What happens when you try to use a symbol that is the name of a variable? "
   ]
  },
  {
   "cell_type": "code",
   "execution_count": 22,
   "metadata": {
    "collapsed": false
   },
   "outputs": [
    {
     "data": {
      "text/plain": [
       "   0.6666666666_6666666667\n",
       "                                                                  Type: Float\n"
      ]
     },
     "execution_count": 22,
     "metadata": {},
     "output_type": "execute_result"
    }
   ],
   "source": [
    "f"
   ]
  },
  {
   "cell_type": "markdown",
   "metadata": {},
   "source": [
    "Use a single quote `'` before the name to get the symbol. "
   ]
  },
  {
   "cell_type": "code",
   "execution_count": 23,
   "metadata": {
    "collapsed": false
   },
   "outputs": [
    {
     "data": {
      "text/plain": [
       "   f\n",
       "                                                            Type: Variable(f)\n"
      ]
     },
     "execution_count": 23,
     "metadata": {},
     "output_type": "execute_result"
    }
   ],
   "source": [
    "'f"
   ]
  },
  {
   "cell_type": "markdown",
   "metadata": {},
   "source": [
    "Quoting a name creates a symbol by _preventing evaluation_ of the name as a variable. Experience will teach you when you are most likely going to need to use a quote. We try to point out the location of such trouble spots. "
   ]
  },
  {
   "cell_type": "markdown",
   "metadata": {},
   "source": [
    "## 1.3.5 Conversion"
   ]
  },
  {
   "cell_type": "markdown",
   "metadata": {},
   "source": [
    "Objects of one type can usually be converted to objects of several other types. To convert an object to a new type, use the `::` infix operator. Conversion is discussed in detail in [ugTypesConvert](). For example, to display an object, it is necessary to convert the object to type `OutputForm`.\n",
    "\n",
    "This produces a polynomial with rational number coefficients. "
   ]
  },
  {
   "cell_type": "code",
   "execution_count": 24,
   "metadata": {
    "collapsed": false
   },
   "outputs": [
    {
     "data": {
      "text/plain": [
       "    2   2\n",
       "   r  + -\n",
       "        3\n",
       "                                          Type: Polynomial(Fraction(Integer))\n"
      ]
     },
     "execution_count": 24,
     "metadata": {},
     "output_type": "execute_result"
    }
   ],
   "source": [
    "p := r^2 + 2/3"
   ]
  },
  {
   "cell_type": "markdown",
   "metadata": {},
   "source": [
    "Create a quotient of polynomials with integer coefficients by using `::`."
   ]
  },
  {
   "cell_type": "code",
   "execution_count": 25,
   "metadata": {
    "collapsed": false
   },
   "outputs": [
    {
     "data": {
      "text/plain": [
       "     2\n",
       "   3r  + 2\n",
       "   -------\n",
       "      3\n",
       "                                          Type: Fraction(Polynomial(Integer))\n"
      ]
     },
     "execution_count": 25,
     "metadata": {},
     "output_type": "execute_result"
    }
   ],
   "source": [
    "p :: Fraction Polynomial Integer "
   ]
  },
  {
   "cell_type": "markdown",
   "metadata": {},
   "source": [
    "Some conversions can be performed automatically when FriCAS tries to evaluate your input. Others conversions must be __explicitly__ requested. "
   ]
  },
  {
   "cell_type": "markdown",
   "metadata": {},
   "source": [
    "## 1.3.6 Calling Functions\n",
    "As we saw earlier, when you want to add or subtract two values, you place the arithmetic operator `+` or `-` between the two arguments denoting the values. To use most other FriCAS operations, however, you use another syntax: write the name of the operation first, then an open parenthesis, then each of the arguments separated by commas, and, finally, a closing parenthesis. If the operation takes only one argument and the argument is a number or a symbol, you can omit the parentheses.\n",
    "\n",
    "This calls the operation factor with the single integer argument $120$. "
   ]
  },
  {
   "cell_type": "code",
   "execution_count": 26,
   "metadata": {
    "collapsed": false
   },
   "outputs": [
    {
     "data": {
      "text/plain": [
       "    3\n",
       "   2 3 5\n",
       "                                                      Type: Factored(Integer)\n"
      ]
     },
     "execution_count": 26,
     "metadata": {},
     "output_type": "execute_result"
    }
   ],
   "source": [
    "factor(120)"
   ]
  },
  {
   "cell_type": "markdown",
   "metadata": {},
   "source": [
    "This is a call to `divide` with the two integer arguments $125$ and $7$. "
   ]
  },
  {
   "cell_type": "code",
   "execution_count": 27,
   "metadata": {
    "collapsed": false
   },
   "outputs": [
    {
     "data": {
      "text/plain": [
       "   [quotient= 17,remainder= 6]\n",
       "                           Type: Record(quotient: Integer,remainder: Integer)\n"
      ]
     },
     "execution_count": 27,
     "metadata": {},
     "output_type": "execute_result"
    }
   ],
   "source": [
    "divide(125,7)"
   ]
  },
  {
   "cell_type": "markdown",
   "metadata": {},
   "source": [
    "This calls `quatern` with four floating-point arguments. "
   ]
  },
  {
   "cell_type": "code",
   "execution_count": 28,
   "metadata": {
    "collapsed": false
   },
   "outputs": [
    {
     "data": {
      "text/plain": [
       "   3.4 + 5.6 i + 2.9 j + 0.1 k\n",
       "                                                      Type: Quaternion(Float)\n"
      ]
     },
     "execution_count": 28,
     "metadata": {},
     "output_type": "execute_result"
    }
   ],
   "source": [
    "quatern(3.4,5.6,2.9,0.1)"
   ]
  },
  {
   "cell_type": "markdown",
   "metadata": {},
   "source": [
    "This is the same as `factorial(10)`. "
   ]
  },
  {
   "cell_type": "code",
   "execution_count": 29,
   "metadata": {
    "collapsed": false
   },
   "outputs": [
    {
     "data": {
      "text/plain": [
       "   3628800\n",
       "                                                        Type: PositiveInteger\n"
      ]
     },
     "execution_count": 29,
     "metadata": {},
     "output_type": "execute_result"
    }
   ],
   "source": [
    "factorial 10"
   ]
  },
  {
   "cell_type": "markdown",
   "metadata": {},
   "source": [
    "An operation that returns a `Boolean` value (that is, `true` or `false`) frequently has a name suffixed with a question mark (`?`). For example, the `even?` operation returns `true` if its integer argument is an even number, `false` otherwise.\n",
    "\n",
    "An operation that can be _destructive_ on one or more arguments usually has a name ending in a exclamation point (`!`). This actually means that it is allowed to update its arguments but it is not required to do so. For example, the underlying representation of a collection type may not allow the very last element to be removed and so an empty object may be returned instead. Therefore it is __important__ that you use the object returned by the operation and not rely on a physical change having occurred within the object. Usually destructive operations are provided for efficiency reasons. "
   ]
  },
  {
   "cell_type": "markdown",
   "metadata": {},
   "source": [
    "## 1.3.7 Some Predefined Macros\n",
    "\n",
    "FriCAS provides several _macros_ for your convenience. See [ugUserMacros]() for a discussion on how to write your own macros. Macros are names (or forms) that expand to larger expressions for commonly used values. "
   ]
  },
  {
   "cell_type": "markdown",
   "metadata": {},
   "source": [
    " | macro | description |\n",
    " |----| -----------------------------------|\n",
    " |`%i`| The square root of -1.             |\n",
    " |`%e`| The base of the natural logarithm. |\n",
    " |`%pi`| $\\pi$ |\n",
    " |`%infinity`| $\\infty$ |\n",
    " |`%plusInfinity`| $+\\infty$ |\n",
    " |`%minusInfinity`| $-\\infty$ |\n",
    " \n",
    " To display all the macros (along with anything you have defined in the workspace), issue the system command `)display all`. "
   ]
  },
  {
   "cell_type": "code",
   "execution_count": 30,
   "metadata": {
    "collapsed": false
   },
   "outputs": [
    {
     "name": "stdout",
     "output_type": "stream",
     "text": [
      "Properties of % :\n",
      "Properties of %e :\n",
      "   This is a system-defined macro.\n",
      "Properties of %i :\n",
      "   This is a system-defined macro.\n",
      "Properties of %infinity :\n",
      "   This is a system-defined macro.\n",
      "Properties of %minusInfinity :\n",
      "   This is a system-defined macro.\n",
      "Properties of %pi :\n",
      "   This is a system-defined macro.\n",
      "Properties of %plusInfinity :\n",
      "   This is a system-defined macro.\n",
      "Properties of SF :\n",
      "   This is a system-defined macro.\n",
      "Properties of f :\n",
      "   Declared type or mode:   Float\n",
      "Properties of p :\n",
      "Properties of x :\n",
      "Properties of y :\n",
      "   Declared type or mode:   Integer\n",
      "\n"
     ]
    },
    {
     "data": {
      "text/plain": [
       "   Value (has type PositiveInteger):  3628800\n",
       "   macro %e () == exp(1)\n",
       "   macro %i () == complex(0,1)\n",
       "   macro %infinity () == infinity()\n",
       "   macro %minusInfinity () == minusInfinity()\n",
       "   macro %pi () == pi()\n",
       "   macro %plusInfinity () == plusInfinity()\n",
       "   macro SF () == DoubleFloat()\n",
       "   Value (has type Float):  0.6666666666_6666666667\n",
       "                                                     2   2\n",
       "   Value (has type Polynomial(Fraction(Integer))):  r  + -\n",
       "                                                         3\n",
       "                                                        3\n",
       "   Value (has type Polynomial(Fraction(Integer))):  z + -\n",
       "                                                        5\n",
       "   Value (has type Integer):  0\n"
      ]
     },
     "execution_count": 30,
     "metadata": {},
     "output_type": "execute_result"
    }
   ],
   "source": [
    ")display all"
   ]
  },
  {
   "cell_type": "markdown",
   "metadata": {},
   "source": [
    "## 1.3.8 Long Lines\n",
    "\n",
    "When you enter FriCAS expressions from your keyboard, there will be times when they are too long to fit on one line. FriCAS does not care how long your lines are, so you can let them continue from the right margin to the left side of the next line.\n",
    "\n",
    "Alternatively, you may want to enter several shorter lines and have FriCAS glue them together. To get this glue, put an underscore `_` at the end of each line you wish to continue. "
   ]
  },
  {
   "cell_type": "code",
   "execution_count": 31,
   "metadata": {
    "collapsed": false
   },
   "outputs": [
    {
     "data": {
      "text/plain": [
       "   5\n",
       "                                                        Type: PositiveInteger\n"
      ]
     },
     "execution_count": 31,
     "metadata": {},
     "output_type": "execute_result"
    }
   ],
   "source": [
    "2_\n",
    "+_\n",
    "3"
   ]
  },
  {
   "cell_type": "markdown",
   "metadata": {},
   "source": [
    "is the same as if you had entered "
   ]
  },
  {
   "cell_type": "code",
   "execution_count": 32,
   "metadata": {
    "collapsed": false
   },
   "outputs": [
    {
     "data": {
      "text/plain": [
       "   5\n",
       "                                                        Type: PositiveInteger\n"
      ]
     },
     "execution_count": 32,
     "metadata": {},
     "output_type": "execute_result"
    }
   ],
   "source": [
    "2+3"
   ]
  },
  {
   "cell_type": "markdown",
   "metadata": {},
   "source": [
    "FriCAS statements in an input file (see Section [ugInOutIn]() ), can use indentation to indicate the program structure . (see Section [ugLangBlocks]() ). "
   ]
  },
  {
   "cell_type": "markdown",
   "metadata": {},
   "source": [
    "## 1.3.9 Comments\n",
    "\n",
    "Comment statements begin with two consecutive hyphens or two consecutive plus signs and continue until the end of the line.\n",
    "\n",
    "The comment beginning with `--` is ignored by FriCAS. "
   ]
  },
  {
   "cell_type": "code",
   "execution_count": 33,
   "metadata": {
    "collapsed": false
   },
   "outputs": [
    {
     "data": {
      "text/plain": [
       "   5\n",
       "                                                        Type: PositiveInteger\n"
      ]
     },
     "execution_count": 33,
     "metadata": {},
     "output_type": "execute_result"
    }
   ],
   "source": [
    "2 + 3   -- this is rather simple, no?"
   ]
  },
  {
   "cell_type": "markdown",
   "metadata": {},
   "source": [
    "There is no way to write long multi-line comments other than starting each line with `--` or `++`. "
   ]
  }
 ],
 "metadata": {
  "kernelspec": {
   "display_name": "FriCAS",
   "language": "spad",
   "name": "ifricas"
  },
  "language_info": {
   "codemirror_mode": "spad",
   "mimetype": "text/x-spad",
   "name": "SPAD",
   "pygments_lexer": "spad",
   "version": "1.2.6"
  }
 },
 "nbformat": 4,
 "nbformat_minor": 0
}
