{
 "cells": [
  {
   "cell_type": "markdown",
   "metadata": {},
   "source": [
    "# 1.8 Polynomials\n",
    "\n",
    "Polynomials are the commonly used algebraic types in symbolic computation. Interactive users of FriCAS generally only see one type of polynomial: `Polynomial(R)`. This type represents polynomials in any number of unspecified variables over a particular coefficient domain `R`. This type represents its coefficients sparsely: only terms with non-zero coefficients are represented.\n",
    "\n",
    "In building applications, many other kinds of polynomial representations are useful. Polynomials may have one variable or multiple variables, the variables can be named or unnamed, the coefficients can be stored _sparsely_ or _densely_. So-called _distributed multivariate_ polynomials store polynomials as coefficients paired with vectors of exponents. This type is particularly efficient for use in algorithms for solving systems of non-linear polynomial equations.\n",
    "\n",
    "The polynomial constructor most familiar to the interactive user is `Polynomial`. "
   ]
  },
  {
   "cell_type": "code",
   "execution_count": 1,
   "metadata": {
    "collapsed": false
   },
   "outputs": [
    {
     "data": {
      "text/plain": [
       "    2 6       4     3 3     2     2     4\n",
       "   x y  - 6x y  - 2x y  + 9y  + 6x y + x\n",
       "                                                    Type: Polynomial(Integer)\n"
      ]
     },
     "execution_count": 1,
     "metadata": {},
     "output_type": "execute_result"
    }
   ],
   "source": [
    "(x^2 - x*y^3 +3*y)^2"
   ]
  },
  {
   "cell_type": "markdown",
   "metadata": {},
   "source": [
    "If you wish to restrict the variables used, `UnivariatePolynomial` provides polynomials in one variable. "
   ]
  },
  {
   "cell_type": "code",
   "execution_count": 2,
   "metadata": {
    "collapsed": false
   },
   "outputs": [
    {
     "data": {
      "text/plain": [
       "      3      2\n",
       "   18x  + 60x  - 46x + 8\n",
       "                                        Type: UnivariatePolynomial(x,Integer)\n"
      ]
     },
     "execution_count": 2,
     "metadata": {},
     "output_type": "execute_result"
    }
   ],
   "source": [
    "p: UP(x,INT) := (3*x-1)^2 * (2*x + 8)"
   ]
  },
  {
   "cell_type": "markdown",
   "metadata": {},
   "source": [
    "The constructor `MultivariatePolynomial` provides polynomials in one or more specified variables. "
   ]
  },
  {
   "cell_type": "code",
   "execution_count": 3,
   "metadata": {
    "collapsed": false
   },
   "outputs": [
    {
     "data": {
      "text/plain": [
       "    4     3 3     6       2     4      2\n",
       "   x  - 2y x  + (y  + 6y)x  - 6y x + 9y\n",
       "                                  Type: MultivariatePolynomial([x,y],Integer)\n"
      ]
     },
     "execution_count": 3,
     "metadata": {},
     "output_type": "execute_result"
    }
   ],
   "source": [
    "m: MPOLY([x,y],INT) := (x^2-x*y^3+3*y)^2"
   ]
  },
  {
   "cell_type": "markdown",
   "metadata": {},
   "source": [
    "You can _change_ the way the polynomial appears by modifying the variable ordering in the explicit list. "
   ]
  },
  {
   "cell_type": "code",
   "execution_count": 4,
   "metadata": {
    "collapsed": false
   },
   "outputs": [
    {
     "data": {
      "text/plain": [
       "    2 6       4     3 3     2     2     4\n",
       "   x y  - 6x y  - 2x y  + 9y  + 6x y + x\n",
       "                                  Type: MultivariatePolynomial([y,x],Integer)\n"
      ]
     },
     "execution_count": 4,
     "metadata": {},
     "output_type": "execute_result"
    }
   ],
   "source": [
    "m :: MPOLY([y,x],INT)"
   ]
  },
  {
   "cell_type": "markdown",
   "metadata": {},
   "source": [
    "The constructor `DistributedMultivariatePolynomial` provides polynomials in one or more specified variables with the monomials ordered lexicographically.\n"
   ]
  },
  {
   "cell_type": "code",
   "execution_count": 5,
   "metadata": {
    "collapsed": false
   },
   "outputs": [
    {
     "data": {
      "text/plain": [
       "    6 2     4      3 3     2       2    4\n",
       "   y x  - 6y x - 2y x  + 9y  + 6y x  + x\n",
       "                       Type: DistributedMultivariatePolynomial([y,x],Integer)\n"
      ]
     },
     "execution_count": 5,
     "metadata": {},
     "output_type": "execute_result"
    }
   ],
   "source": [
    "m :: DMP([y,x],INT)"
   ]
  },
  {
   "cell_type": "markdown",
   "metadata": {},
   "source": [
    "The constructor `HomogeneousDistributedMultivariatePolynomial` is similar except that the monomials are ordered by total order refined by reverse lexicographic order. "
   ]
  },
  {
   "cell_type": "code",
   "execution_count": 6,
   "metadata": {
    "collapsed": false
   },
   "outputs": [
    {
     "data": {
      "text/plain": [
       "    6 2     3 3     4     4       2     2\n",
       "   y x  - 2y x  - 6y x + x  + 6y x  + 9y\n",
       "            Type: HomogeneousDistributedMultivariatePolynomial([y,x],Integer)\n"
      ]
     },
     "execution_count": 6,
     "metadata": {},
     "output_type": "execute_result"
    }
   ],
   "source": [
    "m :: HDMP([y,x],INT)"
   ]
  },
  {
   "cell_type": "markdown",
   "metadata": {},
   "source": [
    "More generally, the domain constructor `GeneralDistributedMultivariatePolynomial` allows the user to provide an arbitrary _predicate_ to define his own term ordering. These last three constructors are typically used in _Gröbner basis_ applications and when a flat (that is, non-recursive) display is wanted and the term ordering is critical for controlling the computation. "
   ]
  },
  {
   "cell_type": "code",
   "execution_count": null,
   "metadata": {
    "collapsed": true
   },
   "outputs": [],
   "source": []
  }
 ],
 "metadata": {
  "kernelspec": {
   "display_name": "FriCAS",
   "language": "spad",
   "name": "ifricas"
  },
  "language_info": {
   "codemirror_mode": "spad",
   "mimetype": "text/x-spad",
   "name": "SPAD",
   "pygments_lexer": "spad",
   "version": "1.2.6"
  }
 },
 "nbformat": 4,
 "nbformat_minor": 0
}
