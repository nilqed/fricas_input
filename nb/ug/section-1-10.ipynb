{
 "cells": [
  {
   "cell_type": "markdown",
   "metadata": {},
   "source": [
    "# 1.10 Series\n",
    "\n",
    "FriCAS also provides power series. By default, FriCAS tries to compute and display the _first ten_ elements of a series. Use `)set streams calculate` to change the default value to something else. For the purposes of this document, we have used this system command to display _fewer_ than ten terms. For more information about working with series, see [ugProblemSeries]().\n",
    "\n",
    "You can convert a functional expression to a power series by using the operation `series`. In this example, `sin(a*x)` is expanded in powers of `(x-0)`, that is, in powers of `x`. "
   ]
  },
  {
   "cell_type": "code",
   "execution_count": 0,
   "metadata": {
    "collapsed": false
   },
   "outputs": [
    {
     "name": "stdout",
     "output_type": "stream",
     "text": [
      "Warning: HyperTeX macro table not found\n"
     ]
    },
    {
     "data": {
      "text/plain": [
       "          3        5        7          9            11\n",
       "         a   3    a   5    a    7     a     9      a      11      12\n",
       "   a x - -- x  + --- x  - ---- x  + ------ x  - -------- x   + O(x  )\n",
       "          6      120      5040      362880      39916800\n",
       "                       Type: UnivariatePuiseuxSeries(Expression(Integer),x,0)\n"
      ]
     },
     "execution_count": 0,
     "metadata": {},
     "output_type": "execute_result"
    }
   ],
   "source": [
    "series(sin(a*x),x = 0)"
   ]
  },
  {
   "cell_type": "markdown",
   "metadata": {},
   "source": [
    "This expression expands `sin(a*x)` in powers of `(x - %pi/4)`. "
   ]
  },
  {
   "cell_type": "code",
   "execution_count": 3,
   "metadata": {
    "collapsed": false
   },
   "outputs": [
    {
     "name": "stdout",
     "output_type": "stream",
     "text": [
      "        \n"
     ]
    },
    {
     "data": {
      "text/latex": [
       "\\(\\def\\sp{^}\\def\\sb{_}\\def\\leqno(#1){}\\def\\erf{\\mathrm{erf}}\\def\\sinh{\\mathrm{sinh}}\\def\\zag#1#2{{{\\left.{#1}\\right|}\\over{\\left|{#2}\\right.}}}\\def\\csch{\\mathrm{csch}}\\require{color}\\)\n",
       "$$\n",
       "{\\sin \n",
       "\\left(\n",
       "{{{a \\  \\pi} \\over 4}} \n",
       "\\right)}+{a\n",
       "\\  {\\cos \n",
       "\\left(\n",
       "{{{a \\  \\pi} \\over 4}} \n",
       "\\right)}\n",
       "\\  {\\left( x -{\\pi \\over 4} \n",
       "\\right)}}\n",
       "-{{{{{a} \\sp {2}} \\  {\\sin \n",
       "\\left(\n",
       "{{{a \\  \\pi} \\over 4}} \n",
       "\\right)}}\n",
       "\\over 2} \\  {{{\\left( x -{\\pi \\over 4} \n",
       "\\right)}}\n",
       "\\sp {2}}} -{{{{{a} \\sp {3}} \\  {\\cos \n",
       "\\left(\n",
       "{{{a \\  \\pi} \\over 4}} \n",
       "\\right)}}\n",
       "\\over 6} \\  {{{\\left( x -{\\pi \\over 4} \n",
       "\\right)}}\n",
       "\\sp {3}}}+{{{{{a} \\sp {4}} \\  {\\sin \n",
       "\\left(\n",
       "{{{a \\  \\pi} \\over 4}} \n",
       "\\right)}}\n",
       "\\over {24}} \\  {{{\\left( x -{\\pi \\over 4} \n",
       "\\right)}}\n",
       "\\sp {4}}}+{{{{{a} \\sp {5}} \\  {\\cos \n",
       "\\left(\n",
       "{{{a \\  \\pi} \\over 4}} \n",
       "\\right)}}\n",
       "\\over {120}} \\  {{{\\left( x -{\\pi \\over 4} \n",
       "\\right)}}\n",
       "\\sp {5}}} -{{{{{a} \\sp {6}} \\  {\\sin \n",
       "\\left(\n",
       "{{{a \\  \\pi} \\over 4}} \n",
       "\\right)}}\n",
       "\\over {720}} \\  {{{\\left( x -{\\pi \\over 4} \n",
       "\\right)}}\n",
       "\\sp {6}}} -{{{{{a} \\sp {7}} \\  {\\cos \n",
       "\\left(\n",
       "{{{a \\  \\pi} \\over 4}} \n",
       "\\right)}}\n",
       "\\over {5040}} \\  {{{\\left( x -{\\pi \\over 4} \n",
       "\\right)}}\n",
       "\\sp {7}}}+{{{{{a} \\sp {8}} \\  {\\sin \n",
       "\\left(\n",
       "{{{a \\  \\pi} \\over 4}} \n",
       "\\right)}}\n",
       "\\over {40320}} \\  {{{\\left( x -{\\pi \\over 4} \n",
       "\\right)}}\n",
       "\\sp {8}}}+{{{{{a} \\sp {9}} \\  {\\cos \n",
       "\\left(\n",
       "{{{a \\  \\pi} \\over 4}} \n",
       "\\right)}}\n",
       "\\over {362880}} \\  {{{\\left( x -{\\pi \\over 4} \n",
       "\\right)}}\n",
       "\\sp {9}}} -{{{{{a} \\sp {{10}}} \\  {\\sin \n",
       "\\left(\n",
       "{{{a \\  \\pi} \\over 4}} \n",
       "\\right)}}\n",
       "\\over {3628800}} \\  {{{\\left( x -{\\pi \\over 4} \n",
       "\\right)}}\n",
       "\\sp {{10}}}}+{O \n",
       "\\left(\n",
       "{{{{\\left( x -{\\pi \\over 4} \n",
       "\\right)}}\n",
       "\\sp {{11}}}} \n",
       "\\right)}\n",
       "\\leqno(NIL)\n",
       "$$\n",
       "\n",
       "\n",
       "\\(\\\\[3ex]\\color{blue}\\scriptsize\\text{UnivariatePuiseuxSeries(Expression(Integer),x,%pi/4)}\\)\n"
      ],
      "text/plain": [
       "                                           2    a %pi\n",
       "                                          a sin(-----)\n",
       "         a %pi          a %pi      %pi            4         %pi 2\n",
       "     sin(-----) + a cos(-----)(x - ---) - ------------ (x - ---)\n",
       "           4              4         4           2            4\n",
       "   + \n",
       "        3    a %pi                4    a %pi\n",
       "       a cos(-----)              a sin(-----)\n",
       "               4         %pi 3           4         %pi 4\n",
       "     - ------------ (x - ---)  + ------------ (x - ---)\n",
       "             6            4           24            4\n",
       "   + \n",
       "      5    a %pi                6    a %pi                7    a %pi\n",
       "     a cos(-----)              a sin(-----)              a cos(-----)\n",
       "             4         %pi 5           4         %pi 6           4         %pi 7\n",
       "     ------------ (x - ---)  - ------------ (x - ---)  - ------------ (x - ---)\n",
       "          120           4           720           4          5040           4\n",
       "   + \n",
       "      8    a %pi                9    a %pi\n",
       "     a sin(-----)              a cos(-----)\n",
       "             4         %pi 8           4         %pi 9\n",
       "     ------------ (x - ---)  + ------------ (x - ---)\n",
       "         40320          4         362880          4\n",
       "   + \n",
       "        10    a %pi\n",
       "       a  sin(-----)\n",
       "                4         %pi 10          %pi 11\n",
       "     - ------------- (x - ---)   + O((x - ---)  )\n",
       "          3628800          4               4\n",
       "                   Type: UnivariatePuiseuxSeries(Expression(Integer),x,%pi/4)\n"
      ]
     },
     "execution_count": 3,
     "metadata": {},
     "output_type": "execute_result"
    }
   ],
   "source": [
    ")set output tex on\n",
    "series(sin(a*x),x = %pi/4)\n"
   ]
  },
  {
   "cell_type": "code",
   "execution_count": 4,
   "metadata": {
    "collapsed": false
   },
   "outputs": [
    {
     "data": {
      "text/plain": []
     },
     "execution_count": 4,
     "metadata": {},
     "output_type": "execute_result"
    }
   ],
   "source": [
    ")set output tex off"
   ]
  },
  {
   "cell_type": "markdown",
   "metadata": {},
   "source": [
    "FriCAS provides _Puiseux series_: series with rational number exponents. The first argument to series is an _in-place_ function that computes the `n-th` coefficient. (Recall that the `+->` is an infix operator meaning maps to.) "
   ]
  },
  {
   "cell_type": "code",
   "execution_count": 5,
   "metadata": {
    "collapsed": false
   },
   "outputs": [
    {
     "data": {
      "text/plain": [
       "    4      10\n",
       "    -      --\n",
       "    3   1   3      5\n",
       "   x  - - x   + O(x )\n",
       "        6\n",
       "                       Type: UnivariatePuiseuxSeries(Expression(Integer),x,0)\n"
      ]
     },
     "execution_count": 5,
     "metadata": {},
     "output_type": "execute_result"
    }
   ],
   "source": [
    "series(n +-> (-1)^((3*n - 4)/6)/factorial(n - 1/3),x=0,4/3..,2)"
   ]
  },
  {
   "cell_type": "markdown",
   "metadata": {},
   "source": [
    "Once you have created a power series, you can perform arithmetic operations on that series. We compute the Taylor expansion of $$\\frac{1}{1-x}$$. "
   ]
  },
  {
   "cell_type": "code",
   "execution_count": 6,
   "metadata": {
    "collapsed": false
   },
   "outputs": [
    {
     "data": {
      "text/plain": [
       "            2    3    4    5    6    7    8    9    10      11\n",
       "   1 + x + x  + x  + x  + x  + x  + x  + x  + x  + x   + O(x  )\n",
       "                       Type: UnivariatePuiseuxSeries(Expression(Integer),x,0)\n"
      ]
     },
     "execution_count": 6,
     "metadata": {},
     "output_type": "execute_result"
    }
   ],
   "source": [
    "f := series(1/(1-x),x = 0)"
   ]
  },
  {
   "cell_type": "markdown",
   "metadata": {},
   "source": [
    "Compute the square of the series. "
   ]
  },
  {
   "cell_type": "code",
   "execution_count": 7,
   "metadata": {
    "collapsed": false
   },
   "outputs": [
    {
     "data": {
      "text/plain": [
       "              2     3     4     5     6     7     8      9      10      11\n",
       "   1 + 2x + 3x  + 4x  + 5x  + 6x  + 7x  + 8x  + 9x  + 10x  + 11x   + O(x  )\n",
       "                       Type: UnivariatePuiseuxSeries(Expression(Integer),x,0)\n"
      ]
     },
     "execution_count": 7,
     "metadata": {},
     "output_type": "execute_result"
    }
   ],
   "source": [
    "f^2"
   ]
  },
  {
   "cell_type": "markdown",
   "metadata": {},
   "source": [
    "The usual _elementary functions_ ( `log`, `exp`, trigonometric functions, and so on) are defined for power series. "
   ]
  },
  {
   "cell_type": "code",
   "execution_count": 8,
   "metadata": {
    "collapsed": false
   },
   "outputs": [
    {
     "name": "stdout",
     "output_type": "stream",
     "text": [
      "  "
     ]
    },
    {
     "data": {
      "text/plain": [
       "         1  2   1  3   1  4   1  5   1  6   1  7   1  8   1  9    1  10    1  11\n",
       "     x + - x  + - x  + - x  + - x  + - x  + - x  + - x  + - x  + -- x   + -- x\n",
       "         2      3      4      5      6      7      8      9      10       11\n",
       "   + \n",
       "        12\n",
       "     O(x  )\n",
       "                       Type: UnivariatePuiseuxSeries(Expression(Integer),x,0)\n"
      ]
     },
     "execution_count": 8,
     "metadata": {},
     "output_type": "execute_result"
    }
   ],
   "source": [
    "g := log(f)"
   ]
  },
  {
   "cell_type": "code",
   "execution_count": 9,
   "metadata": {
    "collapsed": false
   },
   "outputs": [
    {
     "data": {
      "text/plain": [
       "            2    3    4    5    6    7    8    9    10      11\n",
       "   1 + x + x  + x  + x  + x  + x  + x  + x  + x  + x   + O(x  )\n",
       "                       Type: UnivariatePuiseuxSeries(Expression(Integer),x,0)\n"
      ]
     },
     "execution_count": 9,
     "metadata": {},
     "output_type": "execute_result"
    }
   ],
   "source": [
    "exp(g)"
   ]
  },
  {
   "cell_type": "markdown",
   "metadata": {},
   "source": [
    "Here is a way to obtain _numerical approximations_ of `e` from the Taylor series expansion of `exp(x)`. First create the desired Taylor expansion. "
   ]
  },
  {
   "cell_type": "code",
   "execution_count": 10,
   "metadata": {
    "collapsed": false
   },
   "outputs": [
    {
     "name": "stdout",
     "output_type": "stream",
     "text": [
      "  "
     ]
    },
    {
     "data": {
      "text/plain": [
       "             1  2   1  3    1  4    1   5    1   6     1   7     1    8\n",
       "     1 + x + - x  + - x  + -- x  + --- x  + --- x  + ---- x  + ----- x\n",
       "             2      6      24      120      720      5040      40320\n",
       "   + \n",
       "        1    9      1     10      11\n",
       "     ------ x  + ------- x   + O(x  )\n",
       "     362880      3628800\n",
       "                        Type: UnivariateTaylorSeries(Expression(Integer),x,0)\n"
      ]
     },
     "execution_count": 10,
     "metadata": {},
     "output_type": "execute_result"
    }
   ],
   "source": [
    "f := taylor(exp(x))"
   ]
  },
  {
   "cell_type": "markdown",
   "metadata": {},
   "source": [
    "Evaluate the series at the value `1.0. As you see, you get a sequence of partial sums. "
   ]
  },
  {
   "cell_type": "code",
   "execution_count": 11,
   "metadata": {
    "collapsed": false
   },
   "outputs": [
    {
     "name": "stdout",
     "output_type": "stream",
     "text": [
      "\n",
      "\n",
      "\n"
     ]
    },
    {
     "data": {
      "text/plain": [
       "   [1.0, 2.0, 2.5, 2.6666666666_666666667, 2.7083333333_333333333,\n",
       "    2.7166666666_666666667, 2.7180555555_555555556, 2.7182539682_53968254,\n",
       "    2.7182787698_412698413, 2.7182815255_731922399, ...]\n",
       "                                              Type: Stream(Expression(Float))\n"
      ]
     },
     "execution_count": 11,
     "metadata": {},
     "output_type": "execute_result"
    }
   ],
   "source": [
    "eval(f,1.0)"
   ]
  },
  {
   "cell_type": "code",
   "execution_count": null,
   "metadata": {
    "collapsed": false
   },
   "outputs": [],
   "source": []
  }
 ],
 "metadata": {
  "kernelspec": {
   "display_name": "FriCAS",
   "language": "spad",
   "name": "ifricas"
  },
  "language_info": {
   "codemirror_mode": "spad",
   "mimetype": "text/x-spad",
   "name": "SPAD",
   "pygments_lexer": "spad",
   "version": "1.2.6"
  }
 },
 "nbformat": 4,
 "nbformat_minor": 0
}
