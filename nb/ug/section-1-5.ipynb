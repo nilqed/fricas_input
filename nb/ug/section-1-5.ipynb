{
 "cells": [
  {
   "cell_type": "markdown",
   "metadata": {},
   "source": [
    "# 1.5 Data Structures\n",
    "\n",
    "FriCAS has a large variety of data structures available. Many data structures are particularly useful for interactive computation and others are useful for building applications. The data structures of FriCAS are organized into category hierarchies.\n",
    "\n",
    "A _list_, Lists are discussed in Section [ListXmpPage](), is the most commonly used data structure in FriCAS for holding objects all of the same type. The name list is short for linked-list of nodes. Each node consists of a value (`first`) and a link (`rest`) that points to the next node, or to a distinguished value denoting the empty list. To get to, say, the third element, FriCAS starts at the front of the list, then traverses across two links to the third node.\n",
    "\n",
    "Write a list of elements using square brackets with commas separating the elements. "
   ]
  },
  {
   "cell_type": "code",
   "execution_count": 33,
   "metadata": {
    "collapsed": false
   },
   "outputs": [
    {
     "data": {
      "text/latex": [
       "\\(\\def\\sp{^}\\def\\sb{_}\\def\\leqno(#1){}\\def\\erf{\\mathrm{erf}}\\def\\sinh{\\mathrm{sinh}}\\def\\zag#1#2{{{\\left.{#1}\\right|}\\over{\\left|{#2}\\right.}}}\\def\\csch{\\mathrm{csch}}\\require{color}\\)\n",
       "$$\n",
       "\\left[\n",
       "1, \\: -7, \\: {11} \n",
       "\\right]\n",
       "\\leqno(NIL)\n",
       "$$\n",
       "\n",
       "\n",
       "\\(\\\\[3ex]\\color{blue}\\scriptsize\\text{List(Integer)}\\)\n"
      ],
      "text/plain": [
       "   [1,- 7,11]\n",
       "                                                          Type: List(Integer)\n"
      ]
     },
     "execution_count": 33,
     "metadata": {},
     "output_type": "execute_result"
    }
   ],
   "source": [
    ")set output tex on\n",
    "u := [1,-7,11]"
   ]
  },
  {
   "cell_type": "markdown",
   "metadata": {},
   "source": [
    "This is the value at the third node. Alternatively, you can say `u.3`. "
   ]
  },
  {
   "cell_type": "code",
   "execution_count": 34,
   "metadata": {
    "collapsed": false
   },
   "outputs": [
    {
     "data": {
      "text/latex": [
       "\\(\\def\\sp{^}\\def\\sb{_}\\def\\leqno(#1){}\\def\\erf{\\mathrm{erf}}\\def\\sinh{\\mathrm{sinh}}\\def\\zag#1#2{{{\\left.{#1}\\right|}\\over{\\left|{#2}\\right.}}}\\def\\csch{\\mathrm{csch}}\\require{color}\\)\n",
       "$$\n",
       "11 \n",
       "\\leqno(NIL)\n",
       "$$\n",
       "\n",
       "\n",
       "\\(\\\\[3ex]\\color{blue}\\scriptsize\\text{PositiveInteger}\\)\n"
      ],
      "text/plain": [
       "   11\n",
       "                                                        Type: PositiveInteger\n"
      ]
     },
     "execution_count": 34,
     "metadata": {},
     "output_type": "execute_result"
    }
   ],
   "source": [
    "first rest rest u"
   ]
  },
  {
   "cell_type": "code",
   "execution_count": 35,
   "metadata": {
    "collapsed": false
   },
   "outputs": [
    {
     "data": {
      "text/latex": [
       "\\(\\def\\sp{^}\\def\\sb{_}\\def\\leqno(#1){}\\def\\erf{\\mathrm{erf}}\\def\\sinh{\\mathrm{sinh}}\\def\\zag#1#2{{{\\left.{#1}\\right|}\\over{\\left|{#2}\\right.}}}\\def\\csch{\\mathrm{csch}}\\require{color}\\)\n",
       "$$\n",
       "11 \n",
       "\\leqno(NIL)\n",
       "$$\n",
       "\n",
       "\n",
       "\\(\\\\[3ex]\\color{blue}\\scriptsize\\text{PositiveInteger}\\)\n"
      ],
      "text/plain": [
       "   11\n",
       "                                                        Type: PositiveInteger\n"
      ]
     },
     "execution_count": 35,
     "metadata": {},
     "output_type": "execute_result"
    }
   ],
   "source": [
    "u.3"
   ]
  },
  {
   "cell_type": "markdown",
   "metadata": {},
   "source": [
    "Many operations are defined on lists, such as: `empty?`, to test that a list has no elements; `cons(x,l)`, to create a new list with first element x and rest l; `reverse`, to create a new list with elements in reverse order; and `sort`, to arrange elements in order.\n",
    "\n",
    "An important point about lists is that they are _mutable_: their constituent elements and links can be changed _in place_. To do this, use any of the operations whose names end with the character `!`.\n",
    "\n",
    "The operation `concat!(u,v)` replaces the last link of the list `u` to point to some other list `v`. Since `u` refers to the original list, this change is seen by `u`. "
   ]
  },
  {
   "cell_type": "code",
   "execution_count": 36,
   "metadata": {
    "collapsed": false
   },
   "outputs": [
    {
     "data": {
      "text/latex": [
       "\\(\\def\\sp{^}\\def\\sb{_}\\def\\leqno(#1){}\\def\\erf{\\mathrm{erf}}\\def\\sinh{\\mathrm{sinh}}\\def\\zag#1#2{{{\\left.{#1}\\right|}\\over{\\left|{#2}\\right.}}}\\def\\csch{\\mathrm{csch}}\\require{color}\\)\n",
       "$$\n",
       "\\left[\n",
       "1, \\: -7, \\: {11}, \\: 9, \\: 1, \\: 3, \\: -4 \n",
       "\\right]\n",
       "\\leqno(NIL)\n",
       "$$\n",
       "\n",
       "\n",
       "\\(\\\\[3ex]\\color{blue}\\scriptsize\\text{List(Integer)}\\)\n"
      ],
      "text/plain": [
       "   [1,- 7,11,9,1,3,- 4]\n",
       "                                                          Type: List(Integer)\n"
      ]
     },
     "execution_count": 36,
     "metadata": {},
     "output_type": "execute_result"
    }
   ],
   "source": [
    "concat!(u,[9,1,3,-4]); u"
   ]
  },
  {
   "cell_type": "markdown",
   "metadata": {},
   "source": [
    "A _cyclic_ list is a list with a _cycle_: a link pointing back to an earlier node of the list. To create a cycle, first get a node somewhere down the list. "
   ]
  },
  {
   "cell_type": "code",
   "execution_count": 37,
   "metadata": {
    "collapsed": false
   },
   "outputs": [
    {
     "data": {
      "text/latex": [
       "\\(\\def\\sp{^}\\def\\sb{_}\\def\\leqno(#1){}\\def\\erf{\\mathrm{erf}}\\def\\sinh{\\mathrm{sinh}}\\def\\zag#1#2{{{\\left.{#1}\\right|}\\over{\\left|{#2}\\right.}}}\\def\\csch{\\mathrm{csch}}\\require{color}\\)\n",
       "$$\n",
       "\\left[\n",
       "9, \\: 1, \\: 3, \\: -4 \n",
       "\\right]\n",
       "\\leqno(NIL)\n",
       "$$\n",
       "\n",
       "\n",
       "\\(\\\\[3ex]\\color{blue}\\scriptsize\\text{List(Integer)}\\)\n"
      ],
      "text/plain": [
       "   [9,1,3,- 4]\n",
       "                                                          Type: List(Integer)\n"
      ]
     },
     "execution_count": 37,
     "metadata": {},
     "output_type": "execute_result"
    }
   ],
   "source": [
    "lastnode := rest(u,3)"
   ]
  },
  {
   "cell_type": "markdown",
   "metadata": {},
   "source": [
    "Use `setrest!` to change the link emanating from that node to point back to an earlier part of the list. "
   ]
  },
  {
   "cell_type": "code",
   "execution_count": 38,
   "metadata": {
    "collapsed": false
   },
   "outputs": [
    {
     "data": {
      "text/latex": [
       "\\(\\def\\sp{^}\\def\\sb{_}\\def\\leqno(#1){}\\def\\erf{\\mathrm{erf}}\\def\\sinh{\\mathrm{sinh}}\\def\\zag#1#2{{{\\left.{#1}\\right|}\\over{\\left|{#2}\\right.}}}\\def\\csch{\\mathrm{csch}}\\require{color}\\)\n",
       "$$\n",
       "\\left[\n",
       "1, \\: -7, \\: {\\overline {{11}, \\: 9}} \n",
       "\\right]\n",
       "\\leqno(NIL)\n",
       "$$\n",
       "\n",
       "\n",
       "\\(\\\\[3ex]\\color{blue}\\scriptsize\\text{List(Integer)}\\)\n"
      ],
      "text/plain": [
       "          ____\n",
       "   [1,- 7,11,9]\n",
       "                                                          Type: List(Integer)\n"
      ]
     },
     "execution_count": 38,
     "metadata": {},
     "output_type": "execute_result"
    }
   ],
   "source": [
    "setrest!(lastnode,rest(u,2)); u"
   ]
  },
  {
   "cell_type": "markdown",
   "metadata": {},
   "source": [
    "A _stream_ is a structure that (potentially) has an infinite number of distinct elements. Think of a stream as an _infinite list_ where elements are computed successively. Streams are discussed in section [StreamXmpPage]().\n",
    "\n",
    "Create an infinite stream of factored integers. Only a certain number of initial elements are computed and displayed. "
   ]
  },
  {
   "cell_type": "code",
   "execution_count": 39,
   "metadata": {
    "collapsed": false
   },
   "outputs": [
    {
     "data": {
      "text/latex": [
       "\\(\\def\\sp{^}\\def\\sb{_}\\def\\leqno(#1){}\\def\\erf{\\mathrm{erf}}\\def\\sinh{\\mathrm{sinh}}\\def\\zag#1#2{{{\\left.{#1}\\right|}\\over{\\left|{#2}\\right.}}}\\def\\csch{\\mathrm{csch}}\\require{color}\\)\n",
       "$$\n",
       "\\left[\n",
       "2, \\: {{2} \\sp {2}}, \\: {2 \\  3}, \\: {{2} \\sp {3}}, \\: {2 \\  5}, \\: {{{2} \\sp \n",
       "{2}} \\  3}, \\: {2 \\  7}, \\: {{2} \\sp {4}}, \\: {2 \\  {{3} \\sp {2}}}, \\: {{{2} \n",
       "\\sp {2}} \\  5}, \\: ... \n",
       "\\right]\n",
       "\\leqno(NIL)\n",
       "$$\n",
       "\n",
       "\n",
       "\\(\\\\[3ex]\\color{blue}\\scriptsize\\text{Stream(Factored(Integer))}\\)\n"
      ],
      "text/plain": [
       "       2      3      2       4    2  2\n",
       "   [2,2 ,2 3,2 ,2 5,2 3,2 7,2 ,2 3 ,2 5,...]\n",
       "                                              Type: Stream(Factored(Integer))\n"
      ]
     },
     "execution_count": 39,
     "metadata": {},
     "output_type": "execute_result"
    }
   ],
   "source": [
    "[factor(i) for i in 2.. by 2]"
   ]
  },
  {
   "cell_type": "markdown",
   "metadata": {},
   "source": [
    "FriCAS represents streams by a collection of already-computed elements together with a function to compute the next element on _demand_. Asking for the `n-th` element causes elements `1` through `n` to be evaluated. "
   ]
  },
  {
   "cell_type": "code",
   "execution_count": 40,
   "metadata": {
    "collapsed": false
   },
   "outputs": [
    {
     "data": {
      "text/latex": [
       "\\(\\def\\sp{^}\\def\\sb{_}\\def\\leqno(#1){}\\def\\erf{\\mathrm{erf}}\\def\\sinh{\\mathrm{sinh}}\\def\\zag#1#2{{{\\left.{#1}\\right|}\\over{\\left|{#2}\\right.}}}\\def\\csch{\\mathrm{csch}}\\require{color}\\)\n",
       "$$\n",
       "{{2} \\sp {3}} \\  {{3} \\sp {2}} \n",
       "\\leqno(NIL)\n",
       "$$\n",
       "\n",
       "\n",
       "\\(\\\\[3ex]\\color{blue}\\scriptsize\\text{Factored(Integer)}\\)\n"
      ],
      "text/plain": [
       "    3 2\n",
       "   2 3\n",
       "                                                      Type: Factored(Integer)\n"
      ]
     },
     "execution_count": 40,
     "metadata": {},
     "output_type": "execute_result"
    }
   ],
   "source": [
    "%.36"
   ]
  },
  {
   "cell_type": "markdown",
   "metadata": {},
   "source": [
    "Streams can also be finite or cyclic. They are implemented by a linked list structure similar to lists and have many of the same operations. For example, `first` and `rest` are used to access elements and successive nodes of a stream.\n",
    "\n",
    "A _one-dimensional array_ is another data structure used to hold objects of the same type OnedimensionalArray is discussed in section [OneDimensionalArrayXmpPage](). Unlike lists, one-dimensional arrays are inflexible - they are implemented using a fixed block of storage. Their advantage is that they give quick and equal access time to any element.\n",
    "\n",
    "A simple way to create a one-dimensional array is to apply the operation `oneDimensionalArray` to a list of elements. "
   ]
  },
  {
   "cell_type": "code",
   "execution_count": 41,
   "metadata": {
    "collapsed": false
   },
   "outputs": [
    {
     "data": {
      "text/latex": [
       "\\(\\def\\sp{^}\\def\\sb{_}\\def\\leqno(#1){}\\def\\erf{\\mathrm{erf}}\\def\\sinh{\\mathrm{sinh}}\\def\\zag#1#2{{{\\left.{#1}\\right|}\\over{\\left|{#2}\\right.}}}\\def\\csch{\\mathrm{csch}}\\require{color}\\)\n",
       "$$\n",
       "\\left[\n",
       "1, \\: -7, \\: 3, \\: {3 \\over 2} \n",
       "\\right]\n",
       "\\leqno(NIL)\n",
       "$$\n",
       "\n",
       "\n",
       "\\(\\\\[3ex]\\color{blue}\\scriptsize\\text{OneDimensionalArray(Fraction(Integer))}\\)\n"
      ],
      "text/plain": [
       "            3\n",
       "   [1,- 7,3,-]\n",
       "            2\n",
       "                                 Type: OneDimensionalArray(Fraction(Integer))\n"
      ]
     },
     "execution_count": 41,
     "metadata": {},
     "output_type": "execute_result"
    }
   ],
   "source": [
    "a := oneDimensionalArray [1, -7, 3, 3/2]"
   ]
  },
  {
   "cell_type": "markdown",
   "metadata": {},
   "source": [
    "One-dimensional arrays are also mutable: you can change their constituent elements in place."
   ]
  },
  {
   "cell_type": "code",
   "execution_count": 42,
   "metadata": {
    "collapsed": false
   },
   "outputs": [
    {
     "data": {
      "text/latex": [
       "\\(\\def\\sp{^}\\def\\sb{_}\\def\\leqno(#1){}\\def\\erf{\\mathrm{erf}}\\def\\sinh{\\mathrm{sinh}}\\def\\zag#1#2{{{\\left.{#1}\\right|}\\over{\\left|{#2}\\right.}}}\\def\\csch{\\mathrm{csch}}\\require{color}\\)\n",
       "$$\n",
       "\\left[\n",
       "1, \\: -7, \\: {11}, \\: {3 \\over 2} \n",
       "\\right]\n",
       "\\leqno(NIL)\n",
       "$$\n",
       "\n",
       "\n",
       "\\(\\\\[3ex]\\color{blue}\\scriptsize\\text{OneDimensionalArray(Fraction(Integer))}\\)\n"
      ],
      "text/plain": [
       "             3\n",
       "   [1,- 7,11,-]\n",
       "             2\n",
       "                                 Type: OneDimensionalArray(Fraction(Integer))\n"
      ]
     },
     "execution_count": 42,
     "metadata": {},
     "output_type": "execute_result"
    }
   ],
   "source": [
    "a.3 := 11; a"
   ]
  },
  {
   "cell_type": "markdown",
   "metadata": {},
   "source": [
    "However, one-dimensional arrays are not flexible structures. You __cannot__ destructively `concat!` them together. "
   ]
  },
  {
   "cell_type": "code",
   "execution_count": 43,
   "metadata": {
    "collapsed": false
   },
   "outputs": [
    {
     "name": "stderr",
     "output_type": "stream",
     "text": [
      "   There are 5 exposed and 0 unexposed library operations named concat!\n",
      "      having 2 argument(s) but none was determined to be applicable. \n",
      "      Use HyperDoc Browse, or issue\n",
      "                             )display op concat!\n",
      "      to learn more about the available operations. Perhaps \n",
      "      package-calling the operation or using coercions on the arguments\n",
      "      will allow you to apply the operation.\n",
      " \n",
      "   Cannot find a definition or applicable library operation named \n",
      "      concat! with argument type(s) \n",
      "                   OneDimensionalArray(Fraction(Integer))\n",
      "                        OneDimensionalArray(Integer)\n",
      "      \n",
      "      Perhaps you should use \"@\" to indicate the required return type, \n",
      "      or \"$\" to specify which version of the function you need.\n",
      "\n"
     ]
    },
    {
     "data": {
      "text/plain": [
       "error\n"
      ]
     },
     "execution_count": 43,
     "metadata": {},
     "output_type": "execute_result"
    }
   ],
   "source": [
    "concat!(a,oneDimensionalArray [1,-2])"
   ]
  },
  {
   "cell_type": "markdown",
   "metadata": {},
   "source": [
    "Examples of datatypes similar to `OneDimensionalArray` are: `Vector` (vectors are mathematical structures implemented by one-dimensional arrays), `String` (arrays of characters, represented by byte vectors), and `Bits` (represented by bit vectors).\n",
    "\n",
    "A vector of 32 bits, each representing the `Boolean` value `true`. "
   ]
  },
  {
   "cell_type": "code",
   "execution_count": 44,
   "metadata": {
    "collapsed": false
   },
   "outputs": [
    {
     "data": {
      "text/latex": [
       "\\(\\def\\sp{^}\\def\\sb{_}\\def\\leqno(#1){}\\def\\erf{\\mathrm{erf}}\\def\\sinh{\\mathrm{sinh}}\\def\\zag#1#2{{{\\left.{#1}\\right|}\\over{\\left|{#2}\\right.}}}\\def\\csch{\\mathrm{csch}}\\require{color}\\)\n",
       "$$\n",
       "\\verb#\"11111111111111111111111111111111\"# \n",
       "\\leqno(NIL)\n",
       "$$\n",
       "\n",
       "\n",
       "\\(\\\\[3ex]\\color{blue}\\scriptsize\\text{Bits}\\)\n"
      ],
      "text/plain": [
       "   \"11111111111111111111111111111111\"\n",
       "                                                                   Type: Bits\n"
      ]
     },
     "execution_count": 44,
     "metadata": {},
     "output_type": "execute_result"
    }
   ],
   "source": [
    "bits(32,true)"
   ]
  },
  {
   "cell_type": "markdown",
   "metadata": {},
   "source": [
    "A _flexible array_ (FlexibleArray is discussed in section [FlexibleArrayXmpPage]() ) is a cross between a list and a one-dimensional array. Like a one-dimensional array, a flexible array occupies a fixed block of storage. Its block of storage, however, has room to expand. When it gets full, it grows (a new, larger block of storage is allocated); when it has too much room, it contracts.\n",
    "\n",
    "Create a flexible array of three elements. "
   ]
  },
  {
   "cell_type": "code",
   "execution_count": 45,
   "metadata": {
    "collapsed": false
   },
   "outputs": [
    {
     "data": {
      "text/latex": [
       "\\(\\def\\sp{^}\\def\\sb{_}\\def\\leqno(#1){}\\def\\erf{\\mathrm{erf}}\\def\\sinh{\\mathrm{sinh}}\\def\\zag#1#2{{{\\left.{#1}\\right|}\\over{\\left|{#2}\\right.}}}\\def\\csch{\\mathrm{csch}}\\require{color}\\)\n",
       "$$\n",
       "\\left[\n",
       "2, \\: 7, \\: -5 \n",
       "\\right]\n",
       "\\leqno(NIL)\n",
       "$$\n",
       "\n",
       "\n",
       "\\(\\\\[3ex]\\color{blue}\\scriptsize\\text{FlexibleArray(Integer)}\\)\n"
      ],
      "text/plain": [
       "   [2,7,- 5]\n",
       "                                                 Type: FlexibleArray(Integer)\n"
      ]
     },
     "execution_count": 45,
     "metadata": {},
     "output_type": "execute_result"
    }
   ],
   "source": [
    "f := flexibleArray [2, 7, -5]"
   ]
  },
  {
   "cell_type": "markdown",
   "metadata": {},
   "source": [
    "Insert some elements between the second and third elements. "
   ]
  },
  {
   "cell_type": "code",
   "execution_count": 46,
   "metadata": {
    "collapsed": false
   },
   "outputs": [
    {
     "data": {
      "text/latex": [
       "\\(\\def\\sp{^}\\def\\sb{_}\\def\\leqno(#1){}\\def\\erf{\\mathrm{erf}}\\def\\sinh{\\mathrm{sinh}}\\def\\zag#1#2{{{\\left.{#1}\\right|}\\over{\\left|{#2}\\right.}}}\\def\\csch{\\mathrm{csch}}\\require{color}\\)\n",
       "$$\n",
       "\\left[\n",
       "2, \\: {11}, \\: -3, \\: 7, \\: -5 \n",
       "\\right]\n",
       "\\leqno(NIL)\n",
       "$$\n",
       "\n",
       "\n",
       "\\(\\\\[3ex]\\color{blue}\\scriptsize\\text{FlexibleArray(Integer)}\\)\n"
      ],
      "text/plain": [
       "   [2,11,- 3,7,- 5]\n",
       "                                                 Type: FlexibleArray(Integer)\n"
      ]
     },
     "execution_count": 46,
     "metadata": {},
     "output_type": "execute_result"
    }
   ],
   "source": [
    "insert!(flexibleArray [11, -3],f,2)"
   ]
  },
  {
   "cell_type": "markdown",
   "metadata": {},
   "source": [
    "Flexible arrays are used to implement _heaps_. A heap is an example of a data structure called a _priority queue_, where elements are ordered with respect to one another. A heap (Heap is discussed in section [HeapXmpPage]() ) is organized so as to optimize insertion and extraction of maximum elements. The `extract!` operation returns the maximum element of the heap, after destructively removing that element and reorganizing the heap so that the next maximum element is ready to be delivered.\n",
    "\n",
    "An easy way to create a heap is to apply the operation `heap` to a list of values. "
   ]
  },
  {
   "cell_type": "code",
   "execution_count": 47,
   "metadata": {
    "collapsed": false
   },
   "outputs": [
    {
     "data": {
      "text/latex": [
       "\\(\\def\\sp{^}\\def\\sb{_}\\def\\leqno(#1){}\\def\\erf{\\mathrm{erf}}\\def\\sinh{\\mathrm{sinh}}\\def\\zag#1#2{{{\\left.{#1}\\right|}\\over{\\left|{#2}\\right.}}}\\def\\csch{\\mathrm{csch}}\\require{color}\\)\n",
       "$$\n",
       "\\left[\n",
       "{11}, \\: 7, \\: -4, \\: 3, \\: 4, \\: -7 \n",
       "\\right]\n",
       "\\leqno(NIL)\n",
       "$$\n",
       "\n",
       "\n",
       "\\(\\\\[3ex]\\color{blue}\\scriptsize\\text{Heap(Integer)}\\)\n"
      ],
      "text/plain": [
       "   [11,7,- 4,3,4,- 7]\n",
       "                                                          Type: Heap(Integer)\n"
      ]
     },
     "execution_count": 47,
     "metadata": {},
     "output_type": "execute_result"
    }
   ],
   "source": [
    "h := heap [-4,7,11,3,4,-7]"
   ]
  },
  {
   "cell_type": "markdown",
   "metadata": {},
   "source": [
    "This loop extracts elements one-at-a-time from h until the heap is exhausted, returning the elements as a list in the order they were extracted. "
   ]
  },
  {
   "cell_type": "code",
   "execution_count": 48,
   "metadata": {
    "collapsed": false
   },
   "outputs": [
    {
     "data": {
      "text/latex": [
       "\\(\\def\\sp{^}\\def\\sb{_}\\def\\leqno(#1){}\\def\\erf{\\mathrm{erf}}\\def\\sinh{\\mathrm{sinh}}\\def\\zag#1#2{{{\\left.{#1}\\right|}\\over{\\left|{#2}\\right.}}}\\def\\csch{\\mathrm{csch}}\\require{color}\\)\n",
       "$$\n",
       "\\left[\n",
       "{11}, \\: 7, \\: 4, \\: 3, \\: -4, \\: -7 \n",
       "\\right]\n",
       "\\leqno(NIL)\n",
       "$$\n",
       "\n",
       "\n",
       "\\(\\\\[3ex]\\color{blue}\\scriptsize\\text{List(Integer)}\\)\n"
      ],
      "text/plain": [
       "   [11,7,4,3,- 4,- 7]\n",
       "                                                          Type: List(Integer)\n"
      ]
     },
     "execution_count": 48,
     "metadata": {},
     "output_type": "execute_result"
    }
   ],
   "source": [
    "[extract!(h) while not empty?(h)]"
   ]
  },
  {
   "cell_type": "markdown",
   "metadata": {},
   "source": [
    "A _binary tree_ is a tree with at most two branches per node: it is either empty, or else is a node consisting of a value, and a left and right subtree (again, binary trees). (`BinarySearchTrees` are discussed in section [BinarySearchTreeXmpPage]()). Examples of binary tree types are `BinarySearchTree`, `PendantTree`, `TournamentTree`, and `BalancedBinaryTree`.\n",
    "\n",
    "A _binary search tree_ is a binary tree such that, for each node, the value of the node is greater than all values (if any) in the left subtree, and less than or equal all values (if any) in the right subtree. "
   ]
  },
  {
   "cell_type": "code",
   "execution_count": 49,
   "metadata": {
    "collapsed": false
   },
   "outputs": [
    {
     "data": {
      "text/latex": [
       "\\(\\def\\sp{^}\\def\\sb{_}\\def\\leqno(#1){}\\def\\erf{\\mathrm{erf}}\\def\\sinh{\\mathrm{sinh}}\\def\\zag#1#2{{{\\left.{#1}\\right|}\\over{\\left|{#2}\\right.}}}\\def\\csch{\\mathrm{csch}}\\require{color}\\)\n",
       "$$\n",
       "\\left[\n",
       "{\\left[ 2, \\: 3, \\: 4 \n",
       "\\right]},\n",
       "\\: 5, \\: {\\left[ 7, \\: 9, \\: {11} \n",
       "\\right]}\n",
       "\\right]\n",
       "\\leqno(NIL)\n",
       "$$\n",
       "\n",
       "\n",
       "\\(\\\\[3ex]\\color{blue}\\scriptsize\\text{BinarySearchTree(PositiveInteger)}\\)\n"
      ],
      "text/plain": [
       "   [[2,3,4],5,[7,9,11]]\n",
       "                                      Type: BinarySearchTree(PositiveInteger)\n"
      ]
     },
     "execution_count": 49,
     "metadata": {},
     "output_type": "execute_result"
    }
   ],
   "source": [
    "binarySearchTree [5,3,2,9,4,7,11]"
   ]
  },
  {
   "cell_type": "markdown",
   "metadata": {},
   "source": [
    "A _balanced binary tree_ is useful for doing modular computations. Given a list `lm` of moduli, `modTree(a,lm)` produces a balanced binary tree with the values at its leaves. "
   ]
  },
  {
   "cell_type": "code",
   "execution_count": 50,
   "metadata": {
    "collapsed": false
   },
   "outputs": [
    {
     "data": {
      "text/latex": [
       "\\(\\def\\sp{^}\\def\\sb{_}\\def\\leqno(#1){}\\def\\erf{\\mathrm{erf}}\\def\\sinh{\\mathrm{sinh}}\\def\\zag#1#2{{{\\left.{#1}\\right|}\\over{\\left|{#2}\\right.}}}\\def\\csch{\\mathrm{csch}}\\require{color}\\)\n",
       "$$\n",
       "\\left[\n",
       "0, \\: 2, \\: 3, \\: 1 \n",
       "\\right]\n",
       "\\leqno(NIL)\n",
       "$$\n",
       "\n",
       "\n",
       "\\(\\\\[3ex]\\color{blue}\\scriptsize\\text{List(Integer)}\\)\n"
      ],
      "text/plain": [
       "   [0,2,3,1]\n",
       "                                                          Type: List(Integer)\n"
      ]
     },
     "execution_count": 50,
     "metadata": {},
     "output_type": "execute_result"
    }
   ],
   "source": [
    "modTree(8,[2,3,5,7])"
   ]
  },
  {
   "cell_type": "markdown",
   "metadata": {},
   "source": [
    "A _set_ is a collection of elements where duplication and order is irrelevant. Sets are discussed in section [SetXmpPage]() Sets are always __finite__ and have no corresponding structure like streams for infinite collections.\n",
    "\n",
    "Create sets using braces `{` and `}` rather than brackets. "
   ]
  },
  {
   "cell_type": "code",
   "execution_count": 51,
   "metadata": {
    "collapsed": false
   },
   "outputs": [
    {
     "data": {
      "text/latex": [
       "\\(\\def\\sp{^}\\def\\sb{_}\\def\\leqno(#1){}\\def\\erf{\\mathrm{erf}}\\def\\sinh{\\mathrm{sinh}}\\def\\zag#1#2{{{\\left.{#1}\\right|}\\over{\\left|{#2}\\right.}}}\\def\\csch{\\mathrm{csch}}\\require{color}\\)\n",
       "$$\n",
       "\\left\\{\n",
       "-{1 \\over 3}, \\: {1 \\over 3}, \\: {4 \\over 5} \n",
       "\\right\\}\n",
       "\\leqno(NIL)\n",
       "$$\n",
       "\n",
       "\n",
       "\\(\\\\[3ex]\\color{blue}\\scriptsize\\text{Set(Fraction(Integer))}\\)\n"
      ],
      "text/plain": [
       "      1 1 4\n",
       "   {- -,-,-}\n",
       "      3 3 5\n",
       "                                                 Type: Set(Fraction(Integer))\n"
      ]
     },
     "execution_count": 51,
     "metadata": {},
     "output_type": "execute_result"
    }
   ],
   "source": [
    "fs := set[1/3,4/5,-1/3,4/5]"
   ]
  },
  {
   "cell_type": "markdown",
   "metadata": {},
   "source": [
    "A _multiset_ is a set that keeps track of the number of duplicate values. Multisets are discussed in section [MultiSetXmpPage]()\n",
    "\n",
    "For all the primes `p` between `2` and `1000`, find the distribution of `p mod 5`. "
   ]
  },
  {
   "cell_type": "code",
   "execution_count": 52,
   "metadata": {
    "collapsed": false
   },
   "outputs": [
    {
     "data": {
      "text/latex": [
       "\\(\\def\\sp{^}\\def\\sb{_}\\def\\leqno(#1){}\\def\\erf{\\mathrm{erf}}\\def\\sinh{\\mathrm{sinh}}\\def\\zag#1#2{{{\\left.{#1}\\right|}\\over{\\left|{#2}\\right.}}}\\def\\csch{\\mathrm{csch}}\\require{color}\\)\n",
       "$$\n",
       "\\left\\{\n",
       "{{47} \\mbox{\\rm : } 2}, \\: {{42} \\mbox{\\rm : } 3}, \\: 0, \\: {{40} \\mbox{\\rm : \n",
       "} 1}, \\: {{38} \\mbox{\\rm : } 4} \n",
       "\\right\\}\n",
       "\\leqno(NIL)\n",
       "$$\n",
       "\n",
       "\n",
       "\\(\\\\[3ex]\\color{blue}\\scriptsize\\text{Multiset(Integer)}\\)\n"
      ],
      "text/plain": [
       "   {47: 2,42: 3,0,40: 1,38: 4}\n",
       "                                                      Type: Multiset(Integer)\n"
      ]
     },
     "execution_count": 52,
     "metadata": {},
     "output_type": "execute_result"
    }
   ],
   "source": [
    "multiset [x rem 5 for x in primes(2,1000)]"
   ]
  },
  {
   "cell_type": "markdown",
   "metadata": {},
   "source": [
    "A _table_ is conceptually a set of key-value pairs and is a generalization of a multiset. For examples of tables, see `AssociationList`, `HashTable`, `KeyedAccessFile`, `Library`, `SparseTable`, `StringTable`, and `Table`. The domain `Table(Key, Entry)` provides a general-purpose type for tables with values of type `Entry` indexed by keys of type `Key`.\n",
    "\n",
    "Compute the above distribution of primes using tables. First, let `t` denote an empty table of keys and values, each of type `Integer`. "
   ]
  },
  {
   "cell_type": "code",
   "execution_count": 53,
   "metadata": {
    "collapsed": false
   },
   "outputs": [
    {
     "name": "stdout",
     "output_type": "stream",
     "text": [
      "   Compiled code for howMany has been cleared.\n"
     ]
    },
    {
     "data": {
      "text/latex": [
       "\\(\\def\\sp{^}\\def\\sb{_}\\def\\leqno(#1){}\\def\\erf{\\mathrm{erf}}\\def\\sinh{\\mathrm{sinh}}\\def\\zag#1#2{{{\\left.{#1}\\right|}\\over{\\left|{#2}\\right.}}}\\def\\csch{\\mathrm{csch}}\\require{color}\\)\n",
       "$$\n",
       "table \n",
       "\\left(\n",
       "{} \n",
       "\\right)\n",
       "\\leqno(NIL)\n",
       "$$\n",
       "\n",
       "\n",
       "\\(\\\\[3ex]\\color{blue}\\scriptsize\\text{Table(Integer,Integer)}\\)\n"
      ],
      "text/plain": [
       "   table()\n",
       "                                                 Type: Table(Integer,Integer)\n"
      ]
     },
     "execution_count": 53,
     "metadata": {},
     "output_type": "execute_result"
    }
   ],
   "source": [
    "t : Table(Integer,Integer) := empty()"
   ]
  },
  {
   "cell_type": "markdown",
   "metadata": {},
   "source": [
    "We define a function `howMany` to return the number of values of a given modulus `k` seen so far. It calls `search(k,t)` which returns the number of values stored under the key `k` in table `t`, or `failed` if no such value is yet stored in `t` under `k`.\n",
    "\n",
    "In English, this says \n",
    "\n",
    "```Define howMany(k) as follows. First, let n be the value of search(k,t). Then, if n has the value \"failed\", return the value 1; otherwise return n+1.\n",
    "```"
   ]
  },
  {
   "cell_type": "code",
   "execution_count": 54,
   "metadata": {
    "collapsed": false
   },
   "outputs": [
    {
     "name": "stdout",
     "output_type": "stream",
     "text": [
      "   1 old definition(s) deleted for function or rule howMany \n"
     ]
    },
    {
     "data": {
      "text/latex": [
       "\\(\\def\\sp{^}\\def\\sb{_}\\def\\leqno(#1){}\\def\\erf{\\mathrm{erf}}\\def\\sinh{\\mathrm{sinh}}\\def\\zag#1#2{{{\\left.{#1}\\right|}\\over{\\left|{#2}\\right.}}}\\def\\csch{\\mathrm{csch}}\\require{color}\\)\n",
       "\n",
       "\\(\\\\[3ex]\\color{blue}\\scriptsize\\text{Void}\\)\n"
      ],
      "text/plain": [
       "                                                                   Type: Void\n"
      ]
     },
     "execution_count": 54,
     "metadata": {},
     "output_type": "execute_result"
    }
   ],
   "source": [
    "howMany(k) == (n:=search(k,t); n case \"failed\" => 1; n+1)"
   ]
  },
  {
   "cell_type": "markdown",
   "metadata": {},
   "source": [
    "Run through the primes to create the table, then print the table. The expression `t.m := howMany(m)` updates the value in table `t` stored under key `m`. "
   ]
  },
  {
   "cell_type": "code",
   "execution_count": 55,
   "metadata": {
    "collapsed": false
   },
   "outputs": [
    {
     "name": "stdout",
     "output_type": "stream",
     "text": [
      "   Compiling function howMany with type Integer -> Integer \n"
     ]
    },
    {
     "data": {
      "text/latex": [
       "\\(\\def\\sp{^}\\def\\sb{_}\\def\\leqno(#1){}\\def\\erf{\\mathrm{erf}}\\def\\sinh{\\mathrm{sinh}}\\def\\zag#1#2{{{\\left.{#1}\\right|}\\over{\\left|{#2}\\right.}}}\\def\\csch{\\mathrm{csch}}\\require{color}\\)\n",
       "$$\n",
       "table \n",
       "\\left(\n",
       "{{4={38}}, \\: {1={40}}, \\: {0=1}, \\: {3={42}}, \\: {2={47}}} \n",
       "\\right)\n",
       "\\leqno(NIL)\n",
       "$$\n",
       "\n",
       "\n",
       "\\(\\\\[3ex]\\color{blue}\\scriptsize\\text{Table(Integer,Integer)}\\)\n"
      ],
      "text/plain": [
       "   table(4= 38,1= 40,0= 1,3= 42,2= 47)\n",
       "                                                 Type: Table(Integer,Integer)\n"
      ]
     },
     "execution_count": 55,
     "metadata": {},
     "output_type": "execute_result"
    }
   ],
   "source": [
    "for p in primes(2,1000) repeat (m:= p rem 5; t.m:= howMany(m)); t"
   ]
  },
  {
   "cell_type": "markdown",
   "metadata": {},
   "source": [
    "A _record_ is an example of an inhomogeneous collection of objects.See ugTypesRecords for details. A record consists of a set of named _selectors_ that can be used to access its components.\n",
    "\n",
    "Declare that `daniel` can only be assigned a record with two prescribed fields. "
   ]
  },
  {
   "cell_type": "code",
   "execution_count": 56,
   "metadata": {
    "collapsed": false
   },
   "outputs": [
    {
     "data": {
      "text/latex": [
       "\\(\\def\\sp{^}\\def\\sb{_}\\def\\leqno(#1){}\\def\\erf{\\mathrm{erf}}\\def\\sinh{\\mathrm{sinh}}\\def\\zag#1#2{{{\\left.{#1}\\right|}\\over{\\left|{#2}\\right.}}}\\def\\csch{\\mathrm{csch}}\\require{color}\\)\n",
       "\n",
       "\\(\\\\[3ex]\\color{blue}\\scriptsize\\text{Void}\\)\n"
      ],
      "text/plain": [
       "                                                                   Type: Void\n"
      ]
     },
     "execution_count": 56,
     "metadata": {},
     "output_type": "execute_result"
    }
   ],
   "source": [
    "daniel : Record(age : Integer, salary : Float)"
   ]
  },
  {
   "cell_type": "markdown",
   "metadata": {},
   "source": [
    "Give `daniel` a value, using square brackets to enclose the values of the fields. "
   ]
  },
  {
   "cell_type": "code",
   "execution_count": 57,
   "metadata": {
    "collapsed": false
   },
   "outputs": [
    {
     "data": {
      "text/latex": [
       "\\(\\def\\sp{^}\\def\\sb{_}\\def\\leqno(#1){}\\def\\erf{\\mathrm{erf}}\\def\\sinh{\\mathrm{sinh}}\\def\\zag#1#2{{{\\left.{#1}\\right|}\\over{\\left|{#2}\\right.}}}\\def\\csch{\\mathrm{csch}}\\require{color}\\)\n",
       "$$\n",
       "\\left[\n",
       "{age={28}}, \\: {salary={32005.12}} \n",
       "\\right]\n",
       "\\leqno(NIL)\n",
       "$$\n",
       "\n",
       "\n",
       "\\(\\\\[3ex]\\color{blue}\\scriptsize\\text{Record(age: Integer,salary: Float)}\\)\n"
      ],
      "text/plain": [
       "   [age= 28,salary= 32005.12]\n",
       "                                     Type: Record(age: Integer,salary: Float)\n"
      ]
     },
     "execution_count": 57,
     "metadata": {},
     "output_type": "execute_result"
    }
   ],
   "source": [
    "daniel := [28, 32005.12]"
   ]
  },
  {
   "cell_type": "markdown",
   "metadata": {},
   "source": [
    "Give daniel a raise. "
   ]
  },
  {
   "cell_type": "code",
   "execution_count": 58,
   "metadata": {
    "collapsed": false
   },
   "outputs": [
    {
     "data": {
      "text/latex": [
       "\\(\\def\\sp{^}\\def\\sb{_}\\def\\leqno(#1){}\\def\\erf{\\mathrm{erf}}\\def\\sinh{\\mathrm{sinh}}\\def\\zag#1#2{{{\\left.{#1}\\right|}\\over{\\left|{#2}\\right.}}}\\def\\csch{\\mathrm{csch}}\\require{color}\\)\n",
       "$$\n",
       "\\left[\n",
       "{age={28}}, \\: {salary={35000.0}} \n",
       "\\right]\n",
       "\\leqno(NIL)\n",
       "$$\n",
       "\n",
       "\n",
       "\\(\\\\[3ex]\\color{blue}\\scriptsize\\text{Record(age: Integer,salary: Float)}\\)\n"
      ],
      "text/plain": [
       "   [age= 28,salary= 35000.0]\n",
       "                                     Type: Record(age: Integer,salary: Float)\n"
      ]
     },
     "execution_count": 58,
     "metadata": {},
     "output_type": "execute_result"
    }
   ],
   "source": [
    "daniel.salary := 35000; daniel"
   ]
  },
  {
   "cell_type": "markdown",
   "metadata": {},
   "source": [
    "A _union_ is a data structure used when objects have multiple types. See [ugTypesUnions]() for details.\n",
    "\n",
    "Let `dog` be either an integer or a string value. "
   ]
  },
  {
   "cell_type": "code",
   "execution_count": 59,
   "metadata": {
    "collapsed": false
   },
   "outputs": [
    {
     "data": {
      "text/latex": [
       "\\(\\def\\sp{^}\\def\\sb{_}\\def\\leqno(#1){}\\def\\erf{\\mathrm{erf}}\\def\\sinh{\\mathrm{sinh}}\\def\\zag#1#2{{{\\left.{#1}\\right|}\\over{\\left|{#2}\\right.}}}\\def\\csch{\\mathrm{csch}}\\require{color}\\)\n",
       "\n",
       "\\(\\\\[3ex]\\color{blue}\\scriptsize\\text{Void}\\)\n"
      ],
      "text/plain": [
       "                                                                   Type: Void\n"
      ]
     },
     "execution_count": 59,
     "metadata": {},
     "output_type": "execute_result"
    }
   ],
   "source": [
    "dog: Union(licenseNumber: Integer, name: String)"
   ]
  },
  {
   "cell_type": "markdown",
   "metadata": {},
   "source": [
    "Give `dog` a name. "
   ]
  },
  {
   "cell_type": "code",
   "execution_count": 60,
   "metadata": {
    "collapsed": false
   },
   "outputs": [
    {
     "data": {
      "text/latex": [
       "\\(\\def\\sp{^}\\def\\sb{_}\\def\\leqno(#1){}\\def\\erf{\\mathrm{erf}}\\def\\sinh{\\mathrm{sinh}}\\def\\zag#1#2{{{\\left.{#1}\\right|}\\over{\\left|{#2}\\right.}}}\\def\\csch{\\mathrm{csch}}\\require{color}\\)\n",
       "$$\n",
       "\\verb#\"Whisper\"# \n",
       "\\leqno(NIL)\n",
       "$$\n",
       "\n",
       "\n",
       "\\(\\\\[3ex]\\color{blue}\\scriptsize\\text{Union(name: String,...)}\\)\n"
      ],
      "text/plain": [
       "   \"Whisper\"\n",
       "                                                Type: Union(name: String,...)\n"
      ]
     },
     "execution_count": 60,
     "metadata": {},
     "output_type": "execute_result"
    }
   ],
   "source": [
    "dog := \"Whisper\""
   ]
  },
  {
   "cell_type": "markdown",
   "metadata": {},
   "source": [
    "All told, there are over __forty__ different data structures in FriCAS. Using the domain constructors described in chapter [ugDomains]() you can add your own data structure or extend an existing one. Choosing the right data structure for your application may be the key to obtaining good performance. "
   ]
  },
  {
   "cell_type": "code",
   "execution_count": null,
   "metadata": {
    "collapsed": true
   },
   "outputs": [],
   "source": []
  }
 ],
 "metadata": {
  "kernelspec": {
   "display_name": "FriCAS",
   "language": "spad",
   "name": "ifricas"
  },
  "language_info": {
   "codemirror_mode": "spad",
   "mimetype": "text/x-spad",
   "name": "SPAD",
   "pygments_lexer": "spad",
   "version": "1.2.6"
  }
 },
 "nbformat": 4,
 "nbformat_minor": 0
}
