{
 "cells": [
  {
   "cell_type": "markdown",
   "metadata": {},
   "source": [
    "# 1.14 Solution of Equations\n",
    "\n",
    "FriCAS also has state-of-the-art algorithms for the solution of systems of polynomial equations. When the number of equations and unknowns is the same, and you have no symbolic coefficients, you can use `solve` for real roots and `complexSolve` for complex roots. In each case, you tell FriCAS how accurate you want your result to be. All operations in the solve family return answers in the form of a list of solution sets, where each solution set is a list of equations.\n",
    "\n",
    "A system of two equations involving a symbolic parameter $t$. "
   ]
  },
  {
   "cell_type": "code",
   "execution_count": 0,
   "metadata": {
    "collapsed": false
   },
   "outputs": [
    {
     "data": {
      "text/plain": [
       "                                                                   Type: Void\n"
      ]
     },
     "execution_count": 0,
     "metadata": {},
     "output_type": "execute_result"
    }
   ],
   "source": [
    "S(t) == [x^2-2*y^2 - t,x*y-y-5*x + 5]"
   ]
  },
  {
   "cell_type": "markdown",
   "metadata": {},
   "source": [
    "Find the real roots of $S(19)$ with rational arithmetic, correct to within $\\frac{1}{10^{20}}$. "
   ]
  },
  {
   "cell_type": "code",
   "execution_count": 2,
   "metadata": {
    "collapsed": false
   },
   "outputs": [
    {
     "data": {
      "text/plain": [
       "               80336736493669365924189585           80336736493669365924189585\n",
       "   [[y= 5,x= - --------------------------],[y= 5,x= --------------------------]]\n",
       "                9671406556917033397649408            9671406556917033397649408\n",
       "                    Type: List(List(Equation(Polynomial(Fraction(Integer)))))\n"
      ]
     },
     "execution_count": 2,
     "metadata": {},
     "output_type": "execute_result"
    }
   ],
   "source": [
    "solve(S(19),1/10^20)"
   ]
  },
  {
   "cell_type": "markdown",
   "metadata": {},
   "source": [
    "Find the complex roots of $S(19)$ with floating point coefficients to $20$ digits accuracy in the mantissa. "
   ]
  },
  {
   "cell_type": "code",
   "execution_count": 3,
   "metadata": {
    "collapsed": false
   },
   "outputs": [
    {
     "name": "stdout",
     "output_type": "stream",
     "text": [
      "\n",
      "\n",
      "\n"
     ]
    },
    {
     "data": {
      "text/plain": [
       "   [[y= 5.0,x= 8.3066238629_1807485258_4262744915_1614865608_038331468],\n",
       "    [y= 5.0,x= - 8.3066238629_180748526], [y= - 3.0 %i,x= 1.0],\n",
       "    [y= 3.0 %i,x= 1.0]]\n",
       "                       Type: List(List(Equation(Polynomial(Complex(Float)))))\n"
      ]
     },
     "execution_count": 3,
     "metadata": {},
     "output_type": "execute_result"
    }
   ],
   "source": [
    "complexSolve(S(19),10.e-20)"
   ]
  },
  {
   "cell_type": "markdown",
   "metadata": {},
   "source": [
    "If a system of equations has symbolic coefficients and you want a solution in radicals, try `radicalSolve`. "
   ]
  },
  {
   "cell_type": "code",
   "execution_count": 4,
   "metadata": {
    "collapsed": false
   },
   "outputs": [
    {
     "name": "stdout",
     "output_type": "stream",
     "text": [
      "   Compiling function S with type Variable(a) -> List(Polynomial(\n",
      "      Integer)) \n",
      "\n",
      "\n"
     ]
    },
    {
     "data": {
      "text/plain": [
       "                                                          +-------+\n",
       "           +------+             +------+                 \\|- a + 1\n",
       "   [[x= - \\|a + 50 ,y= 5], [x= \\|a + 50 ,y= 5], [x= 1,y= ----------],\n",
       "                                                             +-+\n",
       "                                                            \\|2\n",
       "                +-------+\n",
       "               \\|- a + 1\n",
       "    [x= 1,y= - ----------]]\n",
       "                   +-+\n",
       "                  \\|2\n",
       "                              Type: List(List(Equation(Expression(Integer))))\n"
      ]
     },
     "execution_count": 4,
     "metadata": {},
     "output_type": "execute_result"
    }
   ],
   "source": [
    "radicalSolve(S(a),[x,y])"
   ]
  },
  {
   "cell_type": "markdown",
   "metadata": {},
   "source": [
    "For systems of equations with symbolic coefficients, you can apply `solve`, listing the variables that you want FriCAS to solve for. For polynomial equations, a solution cannot usually be expressed solely in terms of the other variables. Instead, the solution is presented as a _triangular_ system of equations, where each polynomial has coefficients involving only the succeeding variables. This is analogous to converting a linear system of equations to _triangular_ form.\n",
    "\n",
    "A system of three equations in five variables. "
   ]
  },
  {
   "cell_type": "code",
   "execution_count": 5,
   "metadata": {
    "collapsed": false
   },
   "outputs": [
    {
     "data": {
      "text/plain": [
       "             2  2           4  2\n",
       "   [z - y + x ,x z - b y + x ,y z - b x - a]\n",
       "                                              Type: List(Polynomial(Integer))\n"
      ]
     },
     "execution_count": 5,
     "metadata": {},
     "output_type": "execute_result"
    }
   ],
   "source": [
    "eqns := [x^2 - y + z,x^2*z + x^4 - b*y, y^2 *z - a - b*x]"
   ]
  },
  {
   "cell_type": "markdown",
   "metadata": {},
   "source": [
    "Solve the system for unknowns $[x,y,z]$, reducing the solution to triangular form. "
   ]
  },
  {
   "cell_type": "code",
   "execution_count": 6,
   "metadata": {
    "collapsed": false
   },
   "outputs": [
    {
     "name": "stdout",
     "output_type": "stream",
     "text": [
      "\n",
      "\n",
      "\n",
      "\n"
     ]
    },
    {
     "data": {
      "text/plain": [
       "                       2\n",
       "          a           a\n",
       "   [[x= - -,y= 0,z= - --],\n",
       "          b            2\n",
       "                      b\n",
       "\n",
       "          3       2    2\n",
       "         z  + 2b z  + b z - a\n",
       "     [x= --------------------, y= z + b,\n",
       "                   b\n",
       "       6       5     2 4      3       3     4         2       2     3    2\n",
       "      z  + 4b z  + 6b z  + (4b  - 2a)z  + (b  - 4a b)z  - 2a b z - b  + a = 0]\n",
       "     ]\n",
       "                    Type: List(List(Equation(Fraction(Polynomial(Integer)))))\n"
      ]
     },
     "execution_count": 6,
     "metadata": {},
     "output_type": "execute_result"
    }
   ],
   "source": [
    "solve(eqns,[x,y,z])"
   ]
  },
  {
   "cell_type": "code",
   "execution_count": null,
   "metadata": {
    "collapsed": true
   },
   "outputs": [],
   "source": []
  }
 ],
 "metadata": {
  "kernelspec": {
   "display_name": "FriCAS",
   "language": "spad",
   "name": "ifricas"
  },
  "language_info": {
   "codemirror_mode": "spad",
   "mimetype": "text/x-spad",
   "name": "SPAD",
   "pygments_lexer": "spad",
   "version": "1.2.6"
  }
 },
 "nbformat": 4,
 "nbformat_minor": 0
}
