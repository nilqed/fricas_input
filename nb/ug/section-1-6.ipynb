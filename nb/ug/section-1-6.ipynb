{
 "cells": [
  {
   "cell_type": "markdown",
   "metadata": {},
   "source": [
    "# 1.6 Expanding to Higher Dimensions\n",
    "\n",
    "To get higher dimensional aggregates, you can create one-dimensional aggregates with elements that are themselves aggregates, for example, lists of lists, one-dimensional arrays of lists of multisets, and so on. For applications requiring two-dimensional homogeneous aggregates, you will likely find _two-dimensional arrays_ and _matrices_ most useful.\n",
    "\n",
    "The entries in `TwoDimensionalArray` and `Matrix` objects are all the same type, except that those for `Matrix` must belong to a `Ring`. You create and access elements in roughly the same way. Since matrices have an understood algebraic structure, certain algebraic operations are available for matrices but not for arrays. Because of this, we limit our discussion here to `Matrix`, that can be regarded as an extension of `TwoDimensionalArray`. See [TwoDimensionalArray]() for more information about arrays. For more information about FriCAS's linear algebra facilities, see [Matrix](), [Permanent](), [SquareMatrix](), [Vector](), see section [ugProblemEigen]() (computation of eigenvalues and eigenvectors), and section [ugProblemLinPolEqn]() (solution of linear and polynomial equations).\n",
    "\n",
    "You can create a matrix from a list of lists, where each of the inner lists represents a row of the matrix. "
   ]
  },
  {
   "cell_type": "code",
   "execution_count": 1,
   "metadata": {
    "collapsed": false
   },
   "outputs": [
    {
     "data": {
      "text/plain": [
       "   +1  2+\n",
       "   |    |\n",
       "   +3  4+\n",
       "                                                        Type: Matrix(Integer)\n"
      ]
     },
     "execution_count": 1,
     "metadata": {},
     "output_type": "execute_result"
    }
   ],
   "source": [
    "m := matrix([ [1,2], [3,4] ])"
   ]
  },
  {
   "cell_type": "markdown",
   "metadata": {},
   "source": [
    "The _collections_ construct (see [ugLangIts]()) is useful for creating matrices whose entries are given by formulas. "
   ]
  },
  {
   "cell_type": "code",
   "execution_count": 2,
   "metadata": {
    "collapsed": false
   },
   "outputs": [
    {
     "data": {
      "text/plain": [
       "   +    1        1        1        1  +\n",
       "   |- -----  - -----  - -----  - -----|\n",
       "   |  x - 2    x - 3    x - 4    x - 5|\n",
       "   |                                  |\n",
       "   |    1        1        1        1  |\n",
       "   |- -----  - -----  - -----  - -----|\n",
       "   |  x - 3    x - 4    x - 5    x - 6|\n",
       "   |                                  |\n",
       "   |    1        1        1        1  |\n",
       "   |- -----  - -----  - -----  - -----|\n",
       "   |  x - 4    x - 5    x - 6    x - 7|\n",
       "   |                                  |\n",
       "   |    1        1        1        1  |\n",
       "   |- -----  - -----  - -----  - -----|\n",
       "   +  x - 5    x - 6    x - 7    x - 8+\n",
       "                                  Type: Matrix(Fraction(Polynomial(Integer)))\n"
      ]
     },
     "execution_count": 2,
     "metadata": {},
     "output_type": "execute_result"
    }
   ],
   "source": [
    "matrix([ [1/(i + j - x) for i in 1..4] for j in 1..4])"
   ]
  },
  {
   "cell_type": "markdown",
   "metadata": {},
   "source": [
    "Let `vm` denote the three by three _Vandermonde_ matrix. "
   ]
  },
  {
   "cell_type": "code",
   "execution_count": 3,
   "metadata": {
    "collapsed": false
   },
   "outputs": [
    {
     "data": {
      "text/plain": [
       "   +1   1   1 +\n",
       "   |          |\n",
       "   |x   y   z |\n",
       "   |          |\n",
       "   | 2   2   2|\n",
       "   +x   y   z +\n",
       "                                            Type: Matrix(Polynomial(Integer))\n"
      ]
     },
     "execution_count": 3,
     "metadata": {},
     "output_type": "execute_result"
    }
   ],
   "source": [
    "vm := matrix [ [1,1,1], [x,y,z], [x*x,y*y,z*z] ]"
   ]
  },
  {
   "cell_type": "markdown",
   "metadata": {},
   "source": [
    "Use this syntax to extract an entry in the matrix."
   ]
  },
  {
   "cell_type": "code",
   "execution_count": 5,
   "metadata": {
    "collapsed": false
   },
   "outputs": [
    {
     "data": {
      "text/plain": [
       "    2\n",
       "   z\n",
       "                                                    Type: Polynomial(Integer)\n"
      ]
     },
     "execution_count": 5,
     "metadata": {},
     "output_type": "execute_result"
    }
   ],
   "source": [
    "vm(3,3)"
   ]
  },
  {
   "cell_type": "markdown",
   "metadata": {},
   "source": [
    "You can also pull out a `row` or a `column`. "
   ]
  },
  {
   "cell_type": "code",
   "execution_count": 7,
   "metadata": {
    "collapsed": false
   },
   "outputs": [
    {
     "data": {
      "text/plain": [
       "         2\n",
       "   [1,y,y ]\n",
       "                                            Type: Vector(Polynomial(Integer))\n"
      ]
     },
     "execution_count": 7,
     "metadata": {},
     "output_type": "execute_result"
    }
   ],
   "source": [
    "column(vm,2)"
   ]
  },
  {
   "cell_type": "markdown",
   "metadata": {},
   "source": [
    "You can do arithmetic. "
   ]
  },
  {
   "cell_type": "code",
   "execution_count": 8,
   "metadata": {
    "collapsed": false
   },
   "outputs": [
    {
     "data": {
      "text/plain": [
       "   +    2                2              2          +\n",
       "   |   x  + x + 1       y  + y + 1     z  + z + 1  |\n",
       "   |                                               |\n",
       "   |  2                 2     2        3           |\n",
       "   | x z + x y + x     y z + y  + x   z  + y z + x |\n",
       "   |                                               |\n",
       "   | 2 2      2    2   2 2    3    2   4    2     2|\n",
       "   +x z  + x y  + x   y z  + y  + x   z  + y z + x +\n",
       "                                            Type: Matrix(Polynomial(Integer))\n"
      ]
     },
     "execution_count": 8,
     "metadata": {},
     "output_type": "execute_result"
    }
   ],
   "source": [
    "vm * vm"
   ]
  },
  {
   "cell_type": "markdown",
   "metadata": {},
   "source": [
    "You can perform operations such as `transpose`, `trace`, and `determinant`. "
   ]
  },
  {
   "cell_type": "code",
   "execution_count": 9,
   "metadata": {
    "collapsed": false
   },
   "outputs": [
    {
     "data": {
      "text/plain": [
       "   (y - x)(z - y)(z - x)\n",
       "                                          Type: Factored(Polynomial(Integer))\n"
      ]
     },
     "execution_count": 9,
     "metadata": {},
     "output_type": "execute_result"
    }
   ],
   "source": [
    "factor determinant vm"
   ]
  },
  {
   "cell_type": "code",
   "execution_count": null,
   "metadata": {
    "collapsed": true
   },
   "outputs": [],
   "source": []
  }
 ],
 "metadata": {
  "kernelspec": {
   "display_name": "FriCAS",
   "language": "spad",
   "name": "ifricas"
  },
  "language_info": {
   "codemirror_mode": "spad",
   "mimetype": "text/x-spad",
   "name": "SPAD",
   "pygments_lexer": "spad",
   "version": "1.2.6"
  }
 },
 "nbformat": 4,
 "nbformat_minor": 0
}
