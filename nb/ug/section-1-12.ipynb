{
 "cells": [
  {
   "cell_type": "markdown",
   "metadata": {},
   "source": [
    "# 1.12 Integration\n",
    "\n",
    "FriCAS has extensive library facilities for integration.\n",
    "\n",
    "The first example is the integration of a fraction with denominator that factors into a quadratic and a quartic irreducible polynomial. The usual partial fraction approach used by most other computer algebra systems either fails or introduces expensive unneeded algebraic numbers.\n",
    "\n",
    "We use a factorization-free algorithm. "
   ]
  },
  {
   "cell_type": "code",
   "execution_count": 1,
   "metadata": {
    "collapsed": false
   },
   "outputs": [
    {
     "data": {
      "text/plain": [
       "         3     2\n",
       "   atan(x  + 3x  + 3x + 1)\n",
       "   -----------------------\n",
       "              3\n",
       "                                         Type: Union(Expression(Integer),...)\n"
      ]
     },
     "execution_count": 1,
     "metadata": {},
     "output_type": "execute_result"
    }
   ],
   "source": [
    "integrate((x^2+2*x+1)/((x+1)^6+1),x)"
   ]
  },
  {
   "cell_type": "markdown",
   "metadata": {},
   "source": [
    "When real parameters are present, the form of the integral can depend on the signs of some expressions.\n",
    "\n",
    "Rather than query the user or make sign assumptions, FriCAS returns all possible answers. "
   ]
  },
  {
   "cell_type": "code",
   "execution_count": 2,
   "metadata": {
    "collapsed": false
   },
   "outputs": [
    {
     "data": {
      "text/plain": [
       "          2      +---+\n",
       "        (x  - a)\\|- a  + 2a x         +-+\n",
       "    log(---------------------)      x\\|a\n",
       "                 2             atan(-----)\n",
       "                x  + a                a\n",
       "   [--------------------------,-----------]\n",
       "                +---+               +-+\n",
       "              2\\|- a               \\|a\n",
       "                                   Type: Union(List(Expression(Integer)),...)\n"
      ]
     },
     "execution_count": 2,
     "metadata": {},
     "output_type": "execute_result"
    }
   ],
   "source": [
    "integrate(1/(x^2 + a),x)"
   ]
  },
  {
   "cell_type": "markdown",
   "metadata": {},
   "source": [
    "The `integrate` operation generally assumes that __all__ parameters are real. The only exception is when the integrand has complex valued quantities.\n",
    "\n",
    "If the parameter is complex instead of real, then the notion of _sign_ is undefined and there is a _unique_ answer. You can request this answer by prepending the word _complex_ to the command name:"
   ]
  },
  {
   "cell_type": "code",
   "execution_count": 3,
   "metadata": {
    "collapsed": false
   },
   "outputs": [
    {
     "data": {
      "text/plain": [
       "    +---+      +---+         +---+        +---+\n",
       "    |  1       |  1          |  1         |  1\n",
       "    |- - log(a |- -  + x) -  |- - log(- a |- -  + x)\n",
       "   \\|  a      \\|  a         \\|  a        \\|  a\n",
       "   -------------------------------------------------\n",
       "                           2\n",
       "                                                    Type: Expression(Integer)\n"
      ]
     },
     "execution_count": 3,
     "metadata": {},
     "output_type": "execute_result"
    }
   ],
   "source": [
    "complexIntegrate(1/(x^2 + a),x)"
   ]
  },
  {
   "cell_type": "markdown",
   "metadata": {},
   "source": [
    "The following two examples illustrate the limitations of table-based approaches. The two integrands are very similar, but the answer to one of them requires the addition of two new algebraic numbers.\n",
    "\n",
    "This one is the easy one. The next one looks very similar but the answer is much more complicated. "
   ]
  },
  {
   "cell_type": "code",
   "execution_count": 4,
   "metadata": {
    "collapsed": false
   },
   "outputs": [
    {
     "data": {
      "text/plain": [
       "        3 3         2 2       2          3 3+-------+2\n",
       "   (120b x  - 135a b x  + 162a b x - 243a )\\|b x + a\n",
       "   ---------------------------------------------------\n",
       "                              4\n",
       "                          440b\n",
       "                                         Type: Union(Expression(Integer),...)\n"
      ]
     },
     "execution_count": 4,
     "metadata": {},
     "output_type": "execute_result"
    }
   ],
   "source": [
    "integrate(x^3 / (a+b*x)^(1/3),x)"
   ]
  },
  {
   "cell_type": "markdown",
   "metadata": {},
   "source": [
    "Only an algorithmic approach is guaranteed to find what new constants must be added in order to find a solution. "
   ]
  },
  {
   "cell_type": "code",
   "execution_count": 6,
   "metadata": {
    "collapsed": false
   },
   "outputs": [
    {
     "name": "stdout",
     "output_type": "stream",
     "text": [
      "          "
     ]
    },
    {
     "data": {
      "text/plain": [
       "           2 2 +-+    3+-+3+-------+2   3+-+2 3+-------+\n",
       "       - 2b x \\|3 log(\\|a \\|b x + a   + \\|a   \\|b x + a + a)\n",
       "     + \n",
       "         2 2 +-+    3+-+2 3+-------+\n",
       "       4b x \\|3 log(\\|a   \\|b x + a - a)\n",
       "     + \n",
       "                  +-+3+-+2 3+-------+    +-+\n",
       "        2 2     2\\|3 \\|a   \\|b x + a + a\\|3                  +-+3+-+3+-------+2\n",
       "     12b x atan(----------------------------) + (12b x - 9a)\\|3 \\|a \\|b x + a\n",
       "                             3a\n",
       "  /\n",
       "        2 2 +-+3+-+\n",
       "     18a x \\|3 \\|a\n",
       "                                         Type: Union(Expression(Integer),...)\n"
      ]
     },
     "execution_count": 6,
     "metadata": {},
     "output_type": "execute_result"
    }
   ],
   "source": [
    "integrate(1 / (x^3 * (a+b*x)^(1/3)),x)"
   ]
  },
  {
   "cell_type": "markdown",
   "metadata": {},
   "source": [
    "Some computer algebra systems use heuristics or table-driven approaches to integration. When these systems cannot determine the answer to an integration problem, they reply `I don't know`. FriCAS uses an algorithm which is a __decision procedure__ for integration. If FriCAS returns the original integral that __conclusively proves__ that an integral cannot be expressed in terms of elementary functions.\n",
    "\n",
    "When FriCAS returns an integral sign, it has proved that no answer exists as an elementary function. "
   ]
  },
  {
   "cell_type": "code",
   "execution_count": 7,
   "metadata": {
    "collapsed": false
   },
   "outputs": [
    {
     "data": {
      "text/plain": [
       "      x      +--------+\n",
       "    ++  log(\\|b + %G a  + 1)\n",
       "    |   -------------------- d%G\n",
       "   ++            %G\n",
       "                                         Type: Union(Expression(Integer),...)\n"
      ]
     },
     "execution_count": 7,
     "metadata": {},
     "output_type": "execute_result"
    }
   ],
   "source": [
    "integrate(log(1 + sqrt(a*x + b)) / x,x)"
   ]
  },
  {
   "cell_type": "markdown",
   "metadata": {},
   "source": [
    "FriCAS can handle complicated mixed functions much beyond what you can find in tables.\n",
    "\n",
    "Whenever possible, FriCAS tries to express the answer using the functions present in the integrand. "
   ]
  },
  {
   "cell_type": "code",
   "execution_count": 8,
   "metadata": {
    "collapsed": false
   },
   "outputs": [
    {
     "data": {
      "text/plain": [
       "                        +-----+\n",
       "               - 2cosh(\\|x + b  + 1) - 2x            +-----+\n",
       "   2log(---------------------------------------) - 2\\|x + b\n",
       "              +-----+              +-----+\n",
       "        sinh(\\|x + b  + 1) - cosh(\\|x + b  + 1)\n",
       "                                         Type: Union(Expression(Integer),...)\n"
      ]
     },
     "execution_count": 8,
     "metadata": {},
     "output_type": "execute_result"
    }
   ],
   "source": [
    "integrate((sinh(1+sqrt(x+b))+2*sqrt(x+b)) / (sqrt(x+b) * (x + cosh(1+sqrt(x + b)))), x)"
   ]
  },
  {
   "cell_type": "markdown",
   "metadata": {},
   "source": [
    "A strong _structure-checking_ algorithm in FriCAS finds hidden algebraic relationships between functions. "
   ]
  },
  {
   "cell_type": "code",
   "execution_count": 9,
   "metadata": {
    "collapsed": false
   },
   "outputs": [
    {
     "data": {
      "text/plain": [
       "             atan(x) 2             atan(x) 2           atan(x)\n",
       "   8log(3tan(-------)  - 1) - 3tan(-------)  + 18x tan(-------)\n",
       "                3                     3                   3\n",
       "   ------------------------------------------------------------\n",
       "                                18\n",
       "                                         Type: Union(Expression(Integer),...)\n"
      ]
     },
     "execution_count": 9,
     "metadata": {},
     "output_type": "execute_result"
    }
   ],
   "source": [
    "integrate(tan(atan(x)/3),x)"
   ]
  },
  {
   "cell_type": "markdown",
   "metadata": {},
   "source": [
    "The _discovery_ of this algebraic relationship is necessary for correct integration of this function. Here are the details: \n",
    "\n",
    "1.  If $x=tan(t)$ and $g=tan(\\frac{t}{3})$ then the following algebraic relation is true:\n",
    "    $$ g^3-3x g^2-3g+x=0 $$\n",
    "2.  Integrate $g$ using this algebraic relation; this produces: \n",
    "    $$\\frac{(24 g^2-8)\\,log(3 g^2 - 1)+(81x^2+24)g^2+72 x g-27 x^2-16}{54 g^2-18}$$\n",
    "3   Rationalize the denominator, producing:\n",
    "    $$\\frac{8\\log(3g^2-1)-3 g^2+18 x g+16}{18}$$\n",
    "    Replace $g$ by the initial definition $g=\\tan(\\arctan(x)/3)$ to produce the final result. \n",
    "    \n",
    "This is an example of a mixed function where the algebraic layer is over the transcendental one. "
   ]
  },
  {
   "cell_type": "code",
   "execution_count": 10,
   "metadata": {
    "collapsed": false
   },
   "outputs": [
    {
     "data": {
      "text/plain": [
       "       +----------+\n",
       "     2\\|log(x) + x\n",
       "   - --------------\n",
       "       log(x) + x\n",
       "                                         Type: Union(Expression(Integer),...)\n"
      ]
     },
     "execution_count": 10,
     "metadata": {},
     "output_type": "execute_result"
    }
   ],
   "source": [
    "integrate((x + 1) / (x*(x + log x) ^ (3/2)), x)"
   ]
  },
  {
   "cell_type": "markdown",
   "metadata": {},
   "source": [
    "While incomplete for non-elementary functions, FriCAS can handle some of them. "
   ]
  },
  {
   "cell_type": "code",
   "execution_count": 11,
   "metadata": {
    "collapsed": false
   },
   "outputs": [
    {
     "data": {
      "text/plain": [
       "                +---+    erf(x) - 1      +---+\n",
       "   (erf(x) - 1)\\|%pi log(----------) - 2\\|%pi\n",
       "                         erf(x) + 1\n",
       "   -------------------------------------------\n",
       "                   8erf(x) - 8\n",
       "                                         Type: Union(Expression(Integer),...)\n"
      ]
     },
     "execution_count": 11,
     "metadata": {},
     "output_type": "execute_result"
    }
   ],
   "source": [
    "integrate(exp(-x^2) * erf(x) / (erf(x)^3 - erf(x)^2 - erf(x) + 1),x)"
   ]
  },
  {
   "cell_type": "markdown",
   "metadata": {},
   "source": [
    "More examples of FriCAS's integration capabilities are discussed in section [ugProblemIntegration](). "
   ]
  },
  {
   "cell_type": "code",
   "execution_count": null,
   "metadata": {
    "collapsed": true
   },
   "outputs": [],
   "source": []
  }
 ],
 "metadata": {
  "kernelspec": {
   "display_name": "FriCAS",
   "language": "spad",
   "name": "ifricas"
  },
  "language_info": {
   "codemirror_mode": "spad",
   "mimetype": "text/x-spad",
   "name": "SPAD",
   "pygments_lexer": "spad",
   "version": "1.2.6"
  }
 },
 "nbformat": 4,
 "nbformat_minor": 0
}
