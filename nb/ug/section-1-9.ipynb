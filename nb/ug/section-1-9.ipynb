{
 "cells": [
  {
   "cell_type": "markdown",
   "metadata": {},
   "source": [
    "# 1.9 Limits\n",
    "\n",
    "FriCAS's _limit function_ is usually used to evaluate limits of quotients where the numerator and denominator both tend to zero or both tend to infinity. To find the limit of an expression `f` as a real variable `x` tends to a limit value `a`, enter `limit(f, x=a)`. Use `complexLimit` if the variable is complex. Additional information and examples of limits are in section [ugProblemLimits]().\n",
    "\n",
    "You can take limits of functions with parameters. \n",
    "$$\n",
    "\\lim_{x\\rightarrow 0} g(x) = ?\n",
    "$$"
   ]
  },
  {
   "cell_type": "code",
   "execution_count": 1,
   "metadata": {
    "collapsed": false
   },
   "outputs": [
    {
     "data": {
      "text/plain": [
       "    csc(a x)\n",
       "   ---------\n",
       "   csch(b x)\n",
       "                                                    Type: Expression(Integer)\n"
      ]
     },
     "execution_count": 1,
     "metadata": {},
     "output_type": "execute_result"
    }
   ],
   "source": [
    "g := csc(a*x) / csch(b*x)"
   ]
  },
  {
   "cell_type": "markdown",
   "metadata": {},
   "source": [
    "As you can see, the limit is expressed in terms of the parameters. "
   ]
  },
  {
   "cell_type": "code",
   "execution_count": 2,
   "metadata": {
    "collapsed": false
   },
   "outputs": [
    {
     "data": {
      "text/plain": [
       "   b\n",
       "   -\n",
       "   a\n",
       "                      Type: Union(OrderedCompletion(Expression(Integer)),...)\n"
      ]
     },
     "execution_count": 2,
     "metadata": {},
     "output_type": "execute_result"
    }
   ],
   "source": [
    "limit(g,x=0)"
   ]
  },
  {
   "cell_type": "markdown",
   "metadata": {},
   "source": [
    "A variable may also approach plus or minus infinity: \n",
    "$$\n",
    "\\lim_{x\\rightarrow\\pm\\infty} h(x) = ?\n",
    "$$"
   ]
  },
  {
   "cell_type": "code",
   "execution_count": 4,
   "metadata": {
    "collapsed": false
   },
   "outputs": [
    {
     "data": {
      "text/plain": [
       "    x + k x\n",
       "   (-----)\n",
       "      x\n",
       "                                                    Type: Expression(Integer)\n"
      ]
     },
     "execution_count": 4,
     "metadata": {},
     "output_type": "execute_result"
    }
   ],
   "source": [
    "h := (1 + k/x)^x"
   ]
  },
  {
   "cell_type": "markdown",
   "metadata": {},
   "source": [
    "Use `%plusInfinity` and `%minusInfinity` to denote $\\infty$ and $-\\infty$. "
   ]
  },
  {
   "cell_type": "code",
   "execution_count": 5,
   "metadata": {
    "collapsed": false
   },
   "outputs": [
    {
     "data": {
      "text/plain": [
       "     k\n",
       "   %e\n",
       "                      Type: Union(OrderedCompletion(Expression(Integer)),...)\n"
      ]
     },
     "execution_count": 5,
     "metadata": {},
     "output_type": "execute_result"
    }
   ],
   "source": [
    "limit(h,x=%plusInfinity)"
   ]
  },
  {
   "cell_type": "markdown",
   "metadata": {},
   "source": [
    "A function can be defined on _both sides_ of a particular value, but may tend to different limits as its variable approaches that value from the left and from the right. "
   ]
  },
  {
   "cell_type": "code",
   "execution_count": 6,
   "metadata": {
    "collapsed": false
   },
   "outputs": [
    {
     "data": {
      "text/plain": [
       "   [leftHandLimit= - 1,rightHandLimit= 1]\n",
       "Type: Union(Record(leftHandLimit: Union(OrderedCompletion(Expression(Integer)),\"failed\"),rightHandLimit: Union(OrderedCompletion(Expression(Integer)),\"failed\")),...)\n"
      ]
     },
     "execution_count": 6,
     "metadata": {},
     "output_type": "execute_result"
    }
   ],
   "source": [
    "limit(sqrt(y^2)/y,y = 0)"
   ]
  },
  {
   "cell_type": "markdown",
   "metadata": {},
   "source": [
    "As `x` approaches `0` along the real axis, `exp(-1/x^2)` tends to `0`. "
   ]
  },
  {
   "cell_type": "code",
   "execution_count": 7,
   "metadata": {
    "collapsed": false
   },
   "outputs": [
    {
     "data": {
      "text/plain": [
       "   0\n",
       "                      Type: Union(OrderedCompletion(Expression(Integer)),...)\n"
      ]
     },
     "execution_count": 7,
     "metadata": {},
     "output_type": "execute_result"
    }
   ],
   "source": [
    "limit(exp(-1/x^2),x = 0)"
   ]
  },
  {
   "cell_type": "markdown",
   "metadata": {},
   "source": [
    "However, if `x` is allowed to approach `0` along any _path_ in the complex plane, the limiting value of `exp(-1/x^2)` depends on the path taken because the function has an _essential singularity_ at `x=0`. This is reflected in the __failed__ message returned by the function."
   ]
  },
  {
   "cell_type": "code",
   "execution_count": 8,
   "metadata": {
    "collapsed": false
   },
   "outputs": [
    {
     "data": {
      "text/plain": [
       "   \"failed\"\n",
       "                                                    Type: Union(\"failed\",...)\n"
      ]
     },
     "execution_count": 8,
     "metadata": {},
     "output_type": "execute_result"
    }
   ],
   "source": [
    "complexLimit(exp(-1/x^2),x = 0)"
   ]
  },
  {
   "cell_type": "code",
   "execution_count": null,
   "metadata": {
    "collapsed": true
   },
   "outputs": [],
   "source": []
  }
 ],
 "metadata": {
  "kernelspec": {
   "display_name": "FriCAS",
   "language": "spad",
   "name": "ifricas"
  },
  "language_info": {
   "codemirror_mode": "spad",
   "mimetype": "text/x-spad",
   "name": "SPAD",
   "pygments_lexer": "spad",
   "version": "1.2.6"
  }
 },
 "nbformat": 4,
 "nbformat_minor": 0
}
