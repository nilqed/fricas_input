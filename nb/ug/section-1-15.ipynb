{
 "cells": [
  {
   "cell_type": "markdown",
   "metadata": {},
   "source": [
    "# 1.15 System Commands\n",
    "\n",
    "We conclude our tour of FriCAS with a brief discussion of system commands. System commands are special statements that start with a closing parenthesis (`)`). They are used to control or display your FriCAS environment, start the HyperDoc system, issue operating system commands and leave FriCAS. For example, `)system` is used to issue commands to the operating system from FriCAS. Here is a brief description of some of these commands. For more information on specific commands, see [Appendix A]().\n",
    "\n",
    "Perhaps the _most important_ user command is the `)clear all` command that initializes your environment. Every section and subsection in this document has an invisible `)clear all` that is read prior to the examples given in the section. `)clear all` gives you a fresh, empty environment with no user variables defined and the step number reset to `1`. The `)clear` command can also be used to selectively clear values and properties of system variables.\n",
    "\n",
    "Another useful system command is `)read`. A preferred way to develop an application in FriCAS is to put your interactive commands into a file, say `my.input` file. To get FriCAS to read this file, you use the system command `)read my.input`. If you need to make changes to your approach or definitions, go into your favorite editor, change `my.input`, then `)read my.input` again.\n",
    "\n",
    "Other system commands include: `)history`, to display previous input and/or output lines; `)display`, to display properties and values of workspace variables and `)what`.\n",
    "\n",
    "Issue `)what` to get a list of FriCAS objects that contain a given substring in their name. "
   ]
  },
  {
   "cell_type": "code",
   "execution_count": 0,
   "metadata": {
    "collapsed": false
   },
   "outputs": [
    {
     "name": "stdout",
     "output_type": "stream",
     "text": [
      "\n",
      "Operations whose names satisfy the above pattern(s):\n",
      "\n",
      "HermiteIntegrate      algintegrate          complexIntegrate      \n",
      "expintegrate          fintegrate            infieldIntegrate      \n",
      "integrate             integrateIfCan        integrate_sols        \n",
      "internalIntegrate     internalIntegrate0    lambintegrate         \n",
      "lazyGintegrate        lazyIntegrate         lfintegrate           \n",
      "monomialIntegrate     palgintegrate         pmComplexintegrate    \n",
      "pmintegrate           primintegrate         \n",
      "   \n",
      "      To get more information about an operation such as integrate , \n",
      "      issue the command )display op integrate \n"
     ]
    },
    {
     "data": {
      "text/plain": []
     },
     "execution_count": 0,
     "metadata": {},
     "output_type": "execute_result"
    }
   ],
   "source": [
    ")what operations integrate"
   ]
  },
  {
   "cell_type": "markdown",
   "metadata": {},
   "source": [
    "## 1.15.1 Undo\n",
    "\n",
    "**Undo does not work in the Notebook !!**\n",
    "\n",
    "A useful system command is `)undo`. Sometimes while computing interactively with FriCAS, you make a mistake and enter an incorrect definition or assignment. Or perhaps you need to try one of several alternative approaches, one after another, to find the best way to approach an application. For this, you will find the _undo facility_ of FriCAS helpful.\n",
    "\n",
    "System command `)undo n` means undo back to step `n`; it restores the values of user variables to those that existed immediately after input expression `n` was evaluated. Similarly, `)undo -n` undoes changes caused by the last `n` input expressions. Once you have done an `)undo`, you can continue on from there, or make a change and redo all your input expressions from the point of the `)undo` forward. The `)undo` is completely general: it changes the environment like any user expression. Thus you can `)undo` any previous undo.\n",
    "\n",
    "Here is a sample dialogue between user and FriCAS.\n",
    "\n",
    "Let me define two mutually dependent functions $f$ and $g$ piece-wise."
   ]
  },
  {
   "cell_type": "code",
   "execution_count": 1,
   "metadata": {
    "collapsed": false
   },
   "outputs": [
    {
     "data": {
      "text/plain": [
       "                                                                   Type: Void\n"
      ]
     },
     "execution_count": 1,
     "metadata": {},
     "output_type": "execute_result"
    }
   ],
   "source": [
    "f(0) == 1; g(0) == 1"
   ]
  },
  {
   "cell_type": "markdown",
   "metadata": {},
   "source": [
    "Here is the general term for $f$."
   ]
  },
  {
   "cell_type": "code",
   "execution_count": 2,
   "metadata": {
    "collapsed": false
   },
   "outputs": [
    {
     "data": {
      "text/plain": [
       "                                                                   Type: Void\n"
      ]
     },
     "execution_count": 2,
     "metadata": {},
     "output_type": "execute_result"
    }
   ],
   "source": [
    "f(n) == e/2*f(n-1) - x*g(n-1)"
   ]
  },
  {
   "cell_type": "markdown",
   "metadata": {},
   "source": [
    "And here is the general term for $g$."
   ]
  },
  {
   "cell_type": "code",
   "execution_count": 3,
   "metadata": {
    "collapsed": false
   },
   "outputs": [
    {
     "data": {
      "text/plain": [
       "                                                                   Type: Void\n"
      ]
     },
     "execution_count": 3,
     "metadata": {},
     "output_type": "execute_result"
    }
   ],
   "source": [
    "g(n) == -x*f(n-1) + d/3*g(n-1)"
   ]
  },
  {
   "cell_type": "markdown",
   "metadata": {},
   "source": [
    "What is value of $f(3)$?"
   ]
  },
  {
   "cell_type": "code",
   "execution_count": 5,
   "metadata": {
    "collapsed": false
   },
   "outputs": [
    {
     "data": {
      "text/plain": [
       "      3        1    2      1  2   1       1  2     1  3\n",
       "   - x  + (e + - d)x  + (- - e  - - d e - - d )x + - e\n",
       "               3           4      6       9        8\n",
       "                                          Type: Polynomial(Fraction(Integer))\n"
      ]
     },
     "execution_count": 5,
     "metadata": {},
     "output_type": "execute_result"
    }
   ],
   "source": [
    "f(3)"
   ]
  },
  {
   "cell_type": "markdown",
   "metadata": {},
   "source": [
    "After you have gone off on several tangents, then backtracked to previous points in your conversation using `)undo`, you might want to save all the correct input commands you issued, disregarding those undone. The system command `)history )write mynew.input` writes a clean straight-line program onto the file `mynew.input` on your disk. "
   ]
  },
  {
   "cell_type": "code",
   "execution_count": null,
   "metadata": {
    "collapsed": true
   },
   "outputs": [],
   "source": []
  }
 ],
 "metadata": {
  "kernelspec": {
   "display_name": "FriCAS",
   "language": "spad",
   "name": "ifricas"
  },
  "language_info": {
   "codemirror_mode": "spad",
   "mimetype": "text/x-spad",
   "name": "SPAD",
   "pygments_lexer": "spad",
   "version": "1.2.6"
  }
 },
 "nbformat": 4,
 "nbformat_minor": 0
}
