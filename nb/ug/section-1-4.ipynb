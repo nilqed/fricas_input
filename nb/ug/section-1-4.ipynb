{
 "cells": [
  {
   "cell_type": "markdown",
   "metadata": {},
   "source": [
    "# 1.4 Numbers\n",
    "\n",
    "FriCAS distinguishes very carefully between different kinds of numbers, how they are represented and what their properties are. Here are a sampling of some of these kinds of numbers and some things you can do with them.\n",
    "\n",
    "Integer arithmetic is always __exact__. "
   ]
  },
  {
   "cell_type": "code",
   "execution_count": 34,
   "metadata": {
    "collapsed": false
   },
   "outputs": [
    {
     "data": {
      "text/plain": [
       "   25387751112538918594666224484237298\n",
       "                                                        Type: PositiveInteger\n"
      ]
     },
     "execution_count": 34,
     "metadata": {},
     "output_type": "execute_result"
    }
   ],
   "source": [
    "11^13 * 13^11 * 17^7 - 19^5 * 23^3"
   ]
  },
  {
   "cell_type": "markdown",
   "metadata": {},
   "source": [
    "Integers can be represented in factored form. "
   ]
  },
  {
   "cell_type": "code",
   "execution_count": 35,
   "metadata": {
    "collapsed": false
   },
   "outputs": [
    {
     "data": {
      "text/plain": [
       "     13  11  7  5  3  2\n",
       "   11  13  17 19 23 29\n",
       "                                                      Type: Factored(Integer)\n"
      ]
     },
     "execution_count": 35,
     "metadata": {},
     "output_type": "execute_result"
    }
   ],
   "source": [
    "factor 643238070748569023720594412551704344145570763243"
   ]
  },
  {
   "cell_type": "markdown",
   "metadata": {},
   "source": [
    "Results stay factored when you do arithmetic. Note that the $12$ is automatically factored for you. "
   ]
  },
  {
   "cell_type": "code",
   "execution_count": 36,
   "metadata": {
    "collapsed": false
   },
   "outputs": [
    {
     "data": {
      "text/plain": [
       "    2    13  11  7  5  3  2\n",
       "   2 3 11  13  17 19 23 29\n",
       "                                                      Type: Factored(Integer)\n"
      ]
     },
     "execution_count": 36,
     "metadata": {},
     "output_type": "execute_result"
    }
   ],
   "source": [
    "% * 12"
   ]
  },
  {
   "cell_type": "markdown",
   "metadata": {},
   "source": [
    "Integers can also be displayed to _bases_ other than $10$. This is an integer in base $11$. "
   ]
  },
  {
   "cell_type": "code",
   "execution_count": 37,
   "metadata": {
    "collapsed": false
   },
   "outputs": [
    {
     "data": {
      "text/plain": [
       "   10000000000\n",
       "                                                     Type: RadixExpansion(11)\n"
      ]
     },
     "execution_count": 37,
     "metadata": {},
     "output_type": "execute_result"
    }
   ],
   "source": [
    "radix(25937424601,11)"
   ]
  },
  {
   "cell_type": "markdown",
   "metadata": {},
   "source": [
    "Roman numerals are also available for those special occasions. "
   ]
  },
  {
   "cell_type": "code",
   "execution_count": 38,
   "metadata": {
    "collapsed": false
   },
   "outputs": [
    {
     "data": {
      "text/plain": [
       "   MCMXCII\n",
       "                                                           Type: RomanNumeral\n"
      ]
     },
     "execution_count": 38,
     "metadata": {},
     "output_type": "execute_result"
    }
   ],
   "source": [
    "roman(1992)"
   ]
  },
  {
   "cell_type": "markdown",
   "metadata": {},
   "source": [
    "Rational number arithmetic is also exact.\n"
   ]
  },
  {
   "cell_type": "code",
   "execution_count": 39,
   "metadata": {
    "collapsed": false
   },
   "outputs": [
    {
     "data": {
      "text/plain": [
       "   55739\n",
       "   -----\n",
       "    2520\n",
       "                                                      Type: Fraction(Integer)\n"
      ]
     },
     "execution_count": 39,
     "metadata": {},
     "output_type": "execute_result"
    }
   ],
   "source": [
    "r := 10 + 9/2 + 8/3 + 7/4 + 6/5 + 5/6 + 4/7 + 3/8 + 2/9"
   ]
  },
  {
   "cell_type": "markdown",
   "metadata": {},
   "source": [
    "To factor fractions, you have to `map` factor onto the numerator and denominator."
   ]
  },
  {
   "cell_type": "code",
   "execution_count": 40,
   "metadata": {
    "collapsed": false
   },
   "outputs": [
    {
     "data": {
      "text/plain": [
       "   139 401\n",
       "   -------\n",
       "    3 2\n",
       "   2 3 5 7\n",
       "                                            Type: Fraction(Factored(Integer))\n"
      ]
     },
     "execution_count": 40,
     "metadata": {},
     "output_type": "execute_result"
    }
   ],
   "source": [
    "map(factor,r)"
   ]
  },
  {
   "cell_type": "markdown",
   "metadata": {},
   "source": [
    "`SingleInteger` refers to machine word-length integers.\n",
    "\n",
    "In English, this expression means 11 as a _small integer_. "
   ]
  },
  {
   "cell_type": "code",
   "execution_count": 41,
   "metadata": {
    "collapsed": false
   },
   "outputs": [
    {
     "data": {
      "text/plain": [
       "   11\n",
       "                                                          Type: SingleInteger\n"
      ]
     },
     "execution_count": 41,
     "metadata": {},
     "output_type": "execute_result"
    }
   ],
   "source": [
    "11@SingleInteger"
   ]
  },
  {
   "cell_type": "markdown",
   "metadata": {},
   "source": [
    "Machine _double-precision_ floating-point numbers are also available for numeric and graphical applications."
   ]
  },
  {
   "cell_type": "code",
   "execution_count": 42,
   "metadata": {
    "collapsed": false
   },
   "outputs": [
    {
     "data": {
      "text/plain": [
       "   123.21000000000001\n",
       "                                                            Type: DoubleFloat\n"
      ]
     },
     "execution_count": 42,
     "metadata": {},
     "output_type": "execute_result"
    }
   ],
   "source": [
    "123.21@DoubleFloat"
   ]
  },
  {
   "cell_type": "markdown",
   "metadata": {},
   "source": [
    "The normal floating-point type in FriCAS, `Float`, is a software implementation of floating-point numbers in which the exponent and the mantissa may have __any__ number of digits. The types `Complex(Float)` and `Complex(DoubleFloat)` are the corresponding software implementations of complex floating-point numbers.\n",
    "\n",
    "This is a floating-point approximation to about twenty digits. The `::` is used here to change from one kind of object (here, a rational number) to another (a floating-point number). "
   ]
  },
  {
   "cell_type": "code",
   "execution_count": 43,
   "metadata": {
    "collapsed": false
   },
   "outputs": [
    {
     "data": {
      "text/plain": [
       "   22.1186507936_50793651\n",
       "                                                                  Type: Float\n"
      ]
     },
     "execution_count": 43,
     "metadata": {},
     "output_type": "execute_result"
    }
   ],
   "source": [
    "r :: Float"
   ]
  },
  {
   "cell_type": "markdown",
   "metadata": {},
   "source": [
    "Use `digits` to change the number of digits in the representation. This operation returns the previous value so you can reset it later. "
   ]
  },
  {
   "cell_type": "code",
   "execution_count": 44,
   "metadata": {
    "collapsed": false
   },
   "outputs": [
    {
     "data": {
      "text/plain": [
       "   20\n",
       "                                                        Type: PositiveInteger\n"
      ]
     },
     "execution_count": 44,
     "metadata": {},
     "output_type": "execute_result"
    }
   ],
   "source": [
    "digits(22)"
   ]
  },
  {
   "cell_type": "markdown",
   "metadata": {},
   "source": [
    "To 22 digits of precision, the number $e^{\\pi\\,\\sqrt(163.0)}$ appears to be an integer. "
   ]
  },
  {
   "cell_type": "code",
   "execution_count": 45,
   "metadata": {
    "collapsed": false
   },
   "outputs": [
    {
     "data": {
      "text/plain": [
       "   26253741_2640768744.0\n",
       "                                                                  Type: Float\n"
      ]
     },
     "execution_count": 45,
     "metadata": {},
     "output_type": "execute_result"
    }
   ],
   "source": [
    "exp(%pi * sqrt 163.0)"
   ]
  },
  {
   "cell_type": "markdown",
   "metadata": {},
   "source": [
    "Increase the precision to forty digits and try again. "
   ]
  },
  {
   "cell_type": "code",
   "execution_count": 46,
   "metadata": {
    "collapsed": false
   },
   "outputs": [
    {
     "data": {
      "text/plain": [
       "   26253741_2640768743.9999999999_9925007259_76\n",
       "                                                                  Type: Float\n"
      ]
     },
     "execution_count": 46,
     "metadata": {},
     "output_type": "execute_result"
    }
   ],
   "source": [
    "digits(40);  exp(%pi * sqrt 163.0)"
   ]
  },
  {
   "cell_type": "markdown",
   "metadata": {},
   "source": [
    "Here are complex numbers with rational numbers as real and imaginary parts. "
   ]
  },
  {
   "cell_type": "code",
   "execution_count": 47,
   "metadata": {
    "collapsed": false
   },
   "outputs": [
    {
     "data": {
      "text/plain": [
       "     46   1\n",
       "   - -- + - %i\n",
       "     27   3\n",
       "                                             Type: Complex(Fraction(Integer))\n"
      ]
     },
     "execution_count": 47,
     "metadata": {},
     "output_type": "execute_result"
    }
   ],
   "source": [
    "(2/3 + %i)^3"
   ]
  },
  {
   "cell_type": "markdown",
   "metadata": {},
   "source": [
    "The standard operations on complex numbers are available. "
   ]
  },
  {
   "cell_type": "code",
   "execution_count": 48,
   "metadata": {
    "collapsed": false
   },
   "outputs": [
    {
     "data": {
      "text/plain": [
       "     46   1\n",
       "   - -- - - %i\n",
       "     27   3\n",
       "                                             Type: Complex(Fraction(Integer))\n"
      ]
     },
     "execution_count": 48,
     "metadata": {},
     "output_type": "execute_result"
    }
   ],
   "source": [
    "conjugate % "
   ]
  },
  {
   "cell_type": "markdown",
   "metadata": {},
   "source": [
    "You can factor complex integers. "
   ]
  },
  {
   "cell_type": "code",
   "execution_count": 49,
   "metadata": {
    "collapsed": false
   },
   "outputs": [
    {
     "data": {
      "text/plain": [
       "                     2         2\n",
       "   - (1 + %i)(2 + %i) (3 + 2%i)\n",
       "                                             Type: Factored(Complex(Integer))\n"
      ]
     },
     "execution_count": 49,
     "metadata": {},
     "output_type": "execute_result"
    }
   ],
   "source": [
    "factor(89 - 23 * %i)"
   ]
  },
  {
   "cell_type": "markdown",
   "metadata": {},
   "source": [
    "Complex numbers with floating point parts are also available. "
   ]
  },
  {
   "cell_type": "code",
   "execution_count": 50,
   "metadata": {
    "collapsed": false
   },
   "outputs": [
    {
     "name": "stdout",
     "output_type": "stream",
     "text": [
      "  "
     ]
    },
    {
     "data": {
      "text/plain": [
       "     0.7071067811_8654752440_0844362104_8490392849\n",
       "   + \n",
       "     0.7071067811_8654752440_0844362104_8490392848 %i\n",
       "                                                         Type: Complex(Float)\n"
      ]
     },
     "execution_count": 50,
     "metadata": {},
     "output_type": "execute_result"
    }
   ],
   "source": [
    "exp(%pi/4.0 * %i)"
   ]
  },
  {
   "cell_type": "markdown",
   "metadata": {},
   "source": [
    "The real and imaginary parts can be symbolic. "
   ]
  },
  {
   "cell_type": "code",
   "execution_count": 51,
   "metadata": {
    "collapsed": false
   },
   "outputs": [
    {
     "data": {
      "text/plain": [
       "   u + v %i\n",
       "                                           Type: Complex(Polynomial(Integer))\n"
      ]
     },
     "execution_count": 51,
     "metadata": {},
     "output_type": "execute_result"
    }
   ],
   "source": [
    "complex(u,v)"
   ]
  },
  {
   "cell_type": "markdown",
   "metadata": {},
   "source": [
    "Of course, you can do complex arithmetic with these also. "
   ]
  },
  {
   "cell_type": "code",
   "execution_count": 52,
   "metadata": {
    "collapsed": false
   },
   "outputs": [
    {
     "data": {
      "text/plain": [
       "      2    2\n",
       "   - v  + u  + 2u v %i\n",
       "                                           Type: Complex(Polynomial(Integer))\n"
      ]
     },
     "execution_count": 52,
     "metadata": {},
     "output_type": "execute_result"
    }
   ],
   "source": [
    "% ^ 2"
   ]
  },
  {
   "cell_type": "markdown",
   "metadata": {},
   "source": [
    "Every rational number has an __exact__ representation as a repeating decimal expansion "
   ]
  },
  {
   "cell_type": "code",
   "execution_count": 53,
   "metadata": {
    "collapsed": false
   },
   "outputs": [
    {
     "data": {
      "text/plain": [
       "          __\n",
       "   0.0028409\n",
       "                                                       Type: DecimalExpansion\n"
      ]
     },
     "execution_count": 53,
     "metadata": {},
     "output_type": "execute_result"
    }
   ],
   "source": [
    "decimal(1/352)"
   ]
  },
  {
   "cell_type": "markdown",
   "metadata": {},
   "source": [
    "A rational number can also be expressed as a continued fraction. "
   ]
  },
  {
   "cell_type": "code",
   "execution_count": 54,
   "metadata": {
    "collapsed": false
   },
   "outputs": [
    {
     "data": {
      "text/plain": [
       "          1 |     1 |     1 |     1 |\n",
       "   31 + +---+ + +---+ + +---+ + +---+\n",
       "        | 6     | 2     | 1     | 3\n",
       "                                             Type: ContinuedFraction(Integer)\n"
      ]
     },
     "execution_count": 54,
     "metadata": {},
     "output_type": "execute_result"
    }
   ],
   "source": [
    "continuedFraction(6543/210)"
   ]
  },
  {
   "cell_type": "markdown",
   "metadata": {},
   "source": [
    "Also, partial fractions can be used and can be displayed in a compact format "
   ]
  },
  {
   "cell_type": "code",
   "execution_count": 55,
   "metadata": {
    "collapsed": false
   },
   "outputs": [
    {
     "data": {
      "text/plain": [
       "   159   23   12   1\n",
       "   --- - -- - -- + -\n",
       "     8    4    2   7\n",
       "    2    3    5\n",
       "                                               Type: PartialFraction(Integer)\n"
      ]
     },
     "execution_count": 55,
     "metadata": {},
     "output_type": "execute_result"
    }
   ],
   "source": [
    "partialFraction(1,factorial(10))"
   ]
  },
  {
   "cell_type": "markdown",
   "metadata": {},
   "source": [
    "or expanded format. "
   ]
  },
  {
   "cell_type": "code",
   "execution_count": 56,
   "metadata": {
    "collapsed": false
   },
   "outputs": [
    {
     "data": {
      "text/plain": [
       "   1    1    1    1    1    1    2    1    2   2    2   1\n",
       "   - + -- + -- + -- + -- + -- - -- - -- - -- - - - -- + -\n",
       "   2    4    5    6    7    8    2    3    4   5    2   7\n",
       "       2    2    2    2    2    3    3    3        5\n",
       "                                               Type: PartialFraction(Integer)\n"
      ]
     },
     "execution_count": 56,
     "metadata": {},
     "output_type": "execute_result"
    }
   ],
   "source": [
    "padicFraction(%)"
   ]
  },
  {
   "cell_type": "markdown",
   "metadata": {},
   "source": [
    "Like integers, bases (radices) other than ten can be used for rational numbers. Here we use base eight. "
   ]
  },
  {
   "cell_type": "code",
   "execution_count": 57,
   "metadata": {
    "collapsed": false
   },
   "outputs": [
    {
     "data": {
      "text/plain": [
       "     _\n",
       "   0.4\n",
       "                                                      Type: RadixExpansion(8)\n"
      ]
     },
     "execution_count": 57,
     "metadata": {},
     "output_type": "execute_result"
    }
   ],
   "source": [
    "radix(4/7, 8)"
   ]
  },
  {
   "cell_type": "markdown",
   "metadata": {},
   "source": [
    "Of course, there are complex versions of these as well. FriCAS decides to make the result a complex rational number. "
   ]
  },
  {
   "cell_type": "code",
   "execution_count": 58,
   "metadata": {
    "collapsed": false
   },
   "outputs": [
    {
     "data": {
      "text/plain": [
       "   4   2\n",
       "   - + - %i\n",
       "   7   3\n",
       "                                             Type: Complex(Fraction(Integer))\n"
      ]
     },
     "execution_count": 58,
     "metadata": {},
     "output_type": "execute_result"
    }
   ],
   "source": [
    "% + 2/3*%i"
   ]
  },
  {
   "cell_type": "markdown",
   "metadata": {},
   "source": [
    "You can also use FriCAS to manipulate fractional powers. "
   ]
  },
  {
   "cell_type": "code",
   "execution_count": 59,
   "metadata": {
    "collapsed": false
   },
   "outputs": [
    {
     "data": {
      "text/plain": [
       "    +----------+\n",
       "   3|   +-+\n",
       "   \\|14\\|7  + 5\n",
       "                                                        Type: AlgebraicNumber\n"
      ]
     },
     "execution_count": 59,
     "metadata": {},
     "output_type": "execute_result"
    }
   ],
   "source": [
    "(5 + sqrt 63 + sqrt 847)^(1/3)"
   ]
  },
  {
   "cell_type": "markdown",
   "metadata": {},
   "source": [
    "You can also compute with integers modulo a prime. "
   ]
  },
  {
   "cell_type": "code",
   "execution_count": 63,
   "metadata": {
    "collapsed": false
   },
   "outputs": [
    {
     "data": {
      "text/plain": [
       "   5\n",
       "                                                          Type: PrimeField(7)\n"
      ]
     },
     "execution_count": 63,
     "metadata": {},
     "output_type": "execute_result"
    }
   ],
   "source": [
    "q : PrimeField 7 := 5"
   ]
  },
  {
   "cell_type": "markdown",
   "metadata": {},
   "source": [
    "Arithmetic is then done modulo 7. "
   ]
  },
  {
   "cell_type": "code",
   "execution_count": 66,
   "metadata": {
    "collapsed": false
   },
   "outputs": [
    {
     "data": {
      "text/plain": [
       "   6\n",
       "                                                          Type: PrimeField(7)\n"
      ]
     },
     "execution_count": 66,
     "metadata": {},
     "output_type": "execute_result"
    }
   ],
   "source": [
    "q^3"
   ]
  },
  {
   "cell_type": "markdown",
   "metadata": {},
   "source": [
    "Since 7 is prime, you can invert nonzero values. "
   ]
  },
  {
   "cell_type": "code",
   "execution_count": 65,
   "metadata": {
    "collapsed": false
   },
   "outputs": [
    {
     "data": {
      "text/plain": [
       "   3\n",
       "                                                          Type: PrimeField(7)\n"
      ]
     },
     "execution_count": 65,
     "metadata": {},
     "output_type": "execute_result"
    }
   ],
   "source": [
    "1/q"
   ]
  },
  {
   "cell_type": "markdown",
   "metadata": {},
   "source": [
    "You can also compute modulo an integer that is not a prime. "
   ]
  },
  {
   "cell_type": "code",
   "execution_count": 69,
   "metadata": {
    "collapsed": false
   },
   "outputs": [
    {
     "data": {
      "text/plain": [
       "   5\n",
       "                                                          Type: IntegerMod(6)\n"
      ]
     },
     "execution_count": 69,
     "metadata": {},
     "output_type": "execute_result"
    }
   ],
   "source": [
    "t : IntegerMod 6 := 5"
   ]
  },
  {
   "cell_type": "markdown",
   "metadata": {},
   "source": [
    "All of the usual arithmetic operations are available. "
   ]
  },
  {
   "cell_type": "code",
   "execution_count": 70,
   "metadata": {
    "collapsed": false
   },
   "outputs": [
    {
     "data": {
      "text/plain": [
       "   5\n",
       "                                                          Type: IntegerMod(6)\n"
      ]
     },
     "execution_count": 70,
     "metadata": {},
     "output_type": "execute_result"
    }
   ],
   "source": [
    "t^3"
   ]
  },
  {
   "cell_type": "markdown",
   "metadata": {},
   "source": [
    "Inversion is not available if the modulus is not a prime number. Modular arithmetic and prime fields are discussed in Section [ugxProblemFinitePrime]() . "
   ]
  },
  {
   "cell_type": "code",
   "execution_count": 71,
   "metadata": {
    "collapsed": false
   },
   "outputs": [
    {
     "name": "stderr",
     "output_type": "stream",
     "text": [
      "   There are 12 exposed and 12 unexposed library operations named / \n",
      "      having 2 argument(s) but none was determined to be applicable. \n",
      "      Use HyperDoc Browse, or issue\n",
      "                                )display op /\n",
      "      to learn more about the available operations. Perhaps \n",
      "      package-calling the operation or using coercions on the arguments\n",
      "      will allow you to apply the operation.\n",
      " \n",
      "   Cannot find a definition or applicable library operation named / \n",
      "      with argument type(s) \n",
      "                               PositiveInteger\n",
      "                                IntegerMod(6)\n",
      "      \n",
      "      Perhaps you should use \"@\" to indicate the required return type, \n",
      "      or \"$\" to specify which version of the function you need.\n",
      "\n"
     ]
    },
    {
     "data": {
      "text/plain": [
       "error\n"
      ]
     },
     "execution_count": 71,
     "metadata": {},
     "output_type": "execute_result"
    }
   ],
   "source": [
    "1/t"
   ]
  },
  {
   "cell_type": "markdown",
   "metadata": {},
   "source": [
    "This defines `a` to be an _algebraic number_, that is, a root of a polynomial equation. "
   ]
  },
  {
   "cell_type": "code",
   "execution_count": 72,
   "metadata": {
    "collapsed": false
   },
   "outputs": [
    {
     "data": {
      "text/plain": [
       "   a\n",
       "                                                    Type: Expression(Integer)\n"
      ]
     },
     "execution_count": 72,
     "metadata": {},
     "output_type": "execute_result"
    }
   ],
   "source": [
    "a := rootOf(a^5 + a^3 + a^2 + 3,a)"
   ]
  },
  {
   "cell_type": "markdown",
   "metadata": {},
   "source": [
    "Computations with `a` are reduced according to the polynomial equation. "
   ]
  },
  {
   "cell_type": "code",
   "execution_count": 73,
   "metadata": {
    "collapsed": false
   },
   "outputs": [
    {
     "data": {
      "text/plain": [
       "        4       3       2\n",
       "   - 85a  - 264a  - 378a  - 458a - 287\n",
       "                                                    Type: Expression(Integer)\n"
      ]
     },
     "execution_count": 73,
     "metadata": {},
     "output_type": "execute_result"
    }
   ],
   "source": [
    "(a + 1)^10"
   ]
  },
  {
   "cell_type": "markdown",
   "metadata": {},
   "source": [
    "Define `b` to be an algebraic number involving `a`. "
   ]
  },
  {
   "cell_type": "code",
   "execution_count": 74,
   "metadata": {
    "collapsed": false
   },
   "outputs": [
    {
     "data": {
      "text/plain": [
       "   b\n",
       "                                                    Type: Expression(Integer)\n"
      ]
     },
     "execution_count": 74,
     "metadata": {},
     "output_type": "execute_result"
    }
   ],
   "source": [
    "b := rootOf(b^4 + a,b)"
   ]
  },
  {
   "cell_type": "markdown",
   "metadata": {},
   "source": [
    "Do some arithmetic. "
   ]
  },
  {
   "cell_type": "code",
   "execution_count": 83,
   "metadata": {
    "collapsed": false
   },
   "outputs": [
    {
     "data": {
      "text/plain": [
       "     2\n",
       "   -----\n",
       "   b - 1\n",
       "                                                    Type: Expression(Integer)\n"
      ]
     },
     "execution_count": 83,
     "metadata": {},
     "output_type": "execute_result"
    }
   ],
   "source": [
    "2/(b - 1)"
   ]
  },
  {
   "cell_type": "markdown",
   "metadata": {},
   "source": [
    "To expand and simplify this, call `ratDenom` to rationalize the denominator. "
   ]
  },
  {
   "cell_type": "code",
   "execution_count": 84,
   "metadata": {
    "collapsed": false
   },
   "outputs": [
    {
     "name": "stdout",
     "output_type": "stream",
     "text": [
      "  "
     ]
    },
    {
     "data": {
      "text/plain": [
       "       4    3     2          3     4    3     2          2\n",
       "     (a  - a  + 2a  - a + 1)b  + (a  - a  + 2a  - a + 1)b\n",
       "   + \n",
       "       4    3     2              4    3     2\n",
       "     (a  - a  + 2a  - a + 1)b + a  - a  + 2a  - a + 1\n",
       "                                                    Type: Expression(Integer)\n"
      ]
     },
     "execution_count": 84,
     "metadata": {},
     "output_type": "execute_result"
    }
   ],
   "source": [
    "ratDenom(%)"
   ]
  },
  {
   "cell_type": "markdown",
   "metadata": {},
   "source": [
    "If we do this, we should get `b`. "
   ]
  },
  {
   "cell_type": "code",
   "execution_count": 85,
   "metadata": {
    "collapsed": false
   },
   "outputs": [
    {
     "name": "stdout",
     "output_type": "stream",
     "text": [
      "          "
     ]
    },
    {
     "data": {
      "text/plain": [
       "         4    3     2          3     4    3     2          2\n",
       "       (a  - a  + 2a  - a + 1)b  + (a  - a  + 2a  - a + 1)b\n",
       "     + \n",
       "         4    3     2              4    3     2\n",
       "       (a  - a  + 2a  - a + 1)b + a  - a  + 2a  - a + 3\n",
       "  /\n",
       "         4    3     2          3     4    3     2          2\n",
       "       (a  - a  + 2a  - a + 1)b  + (a  - a  + 2a  - a + 1)b\n",
       "     + \n",
       "         4    3     2              4    3     2\n",
       "       (a  - a  + 2a  - a + 1)b + a  - a  + 2a  - a + 1\n",
       "                                                    Type: Expression(Integer)\n"
      ]
     },
     "execution_count": 85,
     "metadata": {},
     "output_type": "execute_result"
    }
   ],
   "source": [
    "2/%+1"
   ]
  },
  {
   "cell_type": "markdown",
   "metadata": {},
   "source": [
    "But we need to rationalize the denominator again. "
   ]
  },
  {
   "cell_type": "code",
   "execution_count": 86,
   "metadata": {
    "collapsed": false
   },
   "outputs": [
    {
     "data": {
      "text/plain": [
       "   b\n",
       "                                                    Type: Expression(Integer)\n"
      ]
     },
     "execution_count": 86,
     "metadata": {},
     "output_type": "execute_result"
    }
   ],
   "source": [
    "ratDenom(%)"
   ]
  },
  {
   "cell_type": "markdown",
   "metadata": {},
   "source": [
    "Types `Quaternion` and `Octonion` are also available. Multiplication of quaternions is non-commutative, as expected. "
   ]
  },
  {
   "cell_type": "code",
   "execution_count": 88,
   "metadata": {
    "collapsed": false
   },
   "outputs": [
    {
     "data": {
      "text/plain": [
       "   - 8i + 16j - 8k\n",
       "                                                    Type: Quaternion(Integer)\n"
      ]
     },
     "execution_count": 88,
     "metadata": {},
     "output_type": "execute_result"
    }
   ],
   "source": [
    "Q:=quatern(1,2,3,4)*quatern(5,6,7,8) - quatern(5,6,7,8)*quatern(1,2,3,4)"
   ]
  },
  {
   "cell_type": "code",
   "execution_count": null,
   "metadata": {
    "collapsed": true
   },
   "outputs": [],
   "source": []
  }
 ],
 "metadata": {
  "kernelspec": {
   "display_name": "FriCAS",
   "language": "spad",
   "name": "ifricas"
  },
  "language_info": {
   "codemirror_mode": "spad",
   "mimetype": "text/x-spad",
   "name": "SPAD",
   "pygments_lexer": "spad",
   "version": "1.2.6"
  }
 },
 "nbformat": 4,
 "nbformat_minor": 0
}
