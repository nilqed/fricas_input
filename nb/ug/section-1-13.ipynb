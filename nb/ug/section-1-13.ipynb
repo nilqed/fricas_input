{
 "cells": [
  {
   "cell_type": "markdown",
   "metadata": {},
   "source": [
    "# 1.13 Differential Equations\n",
    "\n",
    "The general approach used in integration also carries over to the solution of linear differential equations.\n",
    "\n",
    "Let's solve some differential equations. Let $y$ be the unknown function in terms of $x$. "
   ]
  },
  {
   "cell_type": "code",
   "execution_count": 1,
   "metadata": {
    "collapsed": false
   },
   "outputs": [
    {
     "data": {
      "text/plain": [
       "   y\n",
       "                                                          Type: BasicOperator\n"
      ]
     },
     "execution_count": 1,
     "metadata": {},
     "output_type": "execute_result"
    }
   ],
   "source": [
    "y := operator 'y"
   ]
  },
  {
   "cell_type": "markdown",
   "metadata": {},
   "source": [
    "Here we solve a third order equation with polynomial coefficients. "
   ]
  },
  {
   "cell_type": "code",
   "execution_count": 2,
   "metadata": {
    "collapsed": false
   },
   "outputs": [
    {
     "data": {
      "text/plain": [
       "    3 ,,,       2 ,,         ,               4\n",
       "   x y   (x) + x y  (x) - 2xy (x) + 2y(x)= 2x\n",
       "\n",
       "                                          Type: Equation(Expression(Integer))\n"
      ]
     },
     "execution_count": 2,
     "metadata": {},
     "output_type": "execute_result"
    }
   ],
   "source": [
    "deq := x^3 * D(y x, x, 3) + x^2 * D(y x, x, 2) - 2 * x * D(y x, x) + 2 * y x = 2 * x^4"
   ]
  },
  {
   "cell_type": "code",
   "execution_count": 3,
   "metadata": {
    "collapsed": false
   },
   "outputs": [
    {
     "data": {
      "text/plain": [
       "                 5      3      2               3     2      3      3     2\n",
       "                x  - 10x  + 20x  + 4         2x  - 3x  + 1 x  - 1 x  - 3x  - 1\n",
       "   [particular= --------------------,basis= [-------------,------,------------]]\n",
       "                         15x                       x          x         x\n",
       "Type: Union(Record(particular: Expression(Integer),basis: List(Expression(Integer))),...)\n"
      ]
     },
     "execution_count": 3,
     "metadata": {},
     "output_type": "execute_result"
    }
   ],
   "source": [
    "solve(deq, y, x)"
   ]
  },
  {
   "cell_type": "markdown",
   "metadata": {},
   "source": [
    "Here we find all the algebraic function solutions of the equation. "
   ]
  },
  {
   "cell_type": "code",
   "execution_count": 4,
   "metadata": {
    "collapsed": false
   },
   "outputs": [
    {
     "data": {
      "text/plain": [
       "     2      ,,         ,\n",
       "   (x  + 1)y  (x) + 3xy (x) + y(x)= 0\n",
       "\n",
       "                                          Type: Equation(Expression(Integer))\n"
      ]
     },
     "execution_count": 4,
     "metadata": {},
     "output_type": "execute_result"
    }
   ],
   "source": [
    "deq := (x^2 + 1) * D(y x, x, 2) + 3 * x * D(y x, x) + y x = 0"
   ]
  },
  {
   "cell_type": "code",
   "execution_count": 5,
   "metadata": {
    "collapsed": false
   },
   "outputs": [
    {
     "data": {
      "text/plain": [
       "                                         +------+\n",
       "                                         | 2\n",
       "                              1     log(\\|x  + 1  - x)\n",
       "   [particular= 0,basis= [---------,------------------]]\n",
       "                           +------+       +------+\n",
       "                           | 2            | 2\n",
       "                          \\|x  + 1       \\|x  + 1\n",
       "Type: Union(Record(particular: Expression(Integer),basis: List(Expression(Integer))),...)\n"
      ]
     },
     "execution_count": 5,
     "metadata": {},
     "output_type": "execute_result"
    }
   ],
   "source": [
    "solve(deq, y, x)"
   ]
  },
  {
   "cell_type": "markdown",
   "metadata": {},
   "source": [
    "Coefficients of differential equations can come from arbitrary constant fields. For example, coefficients can contain algebraic numbers.\n",
    "\n",
    "This example has solutions whose logarithmic derivative is an algebraic function of degree two. "
   ]
  },
  {
   "cell_type": "code",
   "execution_count": 6,
   "metadata": {
    "collapsed": false
   },
   "outputs": [
    {
     "data": {
      "text/plain": [
       "     3 ,,        2 ,\n",
       "   2x y  (x) + 3x y (x) - 2y(x)\n",
       "\n",
       "                                                    Type: Expression(Integer)\n"
      ]
     },
     "execution_count": 6,
     "metadata": {},
     "output_type": "execute_result"
    }
   ],
   "source": [
    "eq := 2*x^3 * D(y x,x,2) + 3*x^2 * D(y x,x) - 2 * y x"
   ]
  },
  {
   "cell_type": "code",
   "execution_count": 7,
   "metadata": {
    "collapsed": false
   },
   "outputs": [
    {
     "data": {
      "text/plain": [
       "          2      2\n",
       "      - ----   ----\n",
       "         +-+    +-+\n",
       "        \\|x    \\|x\n",
       "   [%e      ,%e    ]\n",
       "                                              Type: List(Expression(Integer))\n"
      ]
     },
     "execution_count": 7,
     "metadata": {},
     "output_type": "execute_result"
    }
   ],
   "source": [
    "solve(eq,y,x).basis"
   ]
  },
  {
   "cell_type": "markdown",
   "metadata": {},
   "source": [
    "Here's another differential equation to solve."
   ]
  },
  {
   "cell_type": "code",
   "execution_count": 8,
   "metadata": {
    "collapsed": false
   },
   "outputs": [
    {
     "data": {
      "text/plain": [
       "    ,            y(x)\n",
       "   y (x)= -----------------\n",
       "          y(x)log(y(x)) + x\n",
       "                                          Type: Equation(Expression(Integer))\n"
      ]
     },
     "execution_count": 8,
     "metadata": {},
     "output_type": "execute_result"
    }
   ],
   "source": [
    "deq := D(y x, x) = y(x) / (x + y(x) * log y x)"
   ]
  },
  {
   "cell_type": "code",
   "execution_count": 9,
   "metadata": {
    "collapsed": false
   },
   "outputs": [
    {
     "data": {
      "text/plain": [
       "                2\n",
       "   y(x)log(y(x))  - 2x\n",
       "   -------------------\n",
       "          2y(x)\n",
       "                                         Type: Union(Expression(Integer),...)\n"
      ]
     },
     "execution_count": 9,
     "metadata": {},
     "output_type": "execute_result"
    }
   ],
   "source": [
    "solve(deq, y, x)"
   ]
  },
  {
   "cell_type": "markdown",
   "metadata": {},
   "source": [
    "Rather than attempting to get a closed form solution of a differential equation, you instead might want to find an approximate solution in the form of a series.\n",
    "\n",
    "Let's solve a system of nonlinear first order equations and get a solution in power series. Tell FriCAS that $x$ is also an operator. "
   ]
  },
  {
   "cell_type": "code",
   "execution_count": 10,
   "metadata": {
    "collapsed": false
   },
   "outputs": [
    {
     "data": {
      "text/plain": [
       "   x\n",
       "                                                          Type: BasicOperator\n"
      ]
     },
     "execution_count": 10,
     "metadata": {},
     "output_type": "execute_result"
    }
   ],
   "source": [
    "x := operator 'x"
   ]
  },
  {
   "cell_type": "markdown",
   "metadata": {},
   "source": [
    "Here are the two equations forming our system. "
   ]
  },
  {
   "cell_type": "code",
   "execution_count": 11,
   "metadata": {
    "collapsed": false
   },
   "outputs": [
    {
     "data": {
      "text/plain": [
       "                                          Type: Equation(Expression(Integer))\n",
       "                                          Type: Equation(Expression(Integer))\n",
       "     ,         2      ,\n",
       "   [x (t)= x(t)  + 1,y (t)= x(t)y(t)]\n",
       "\n",
       "                                   Type: Tuple(Equation(Expression(Integer)))\n"
      ]
     },
     "execution_count": 11,
     "metadata": {},
     "output_type": "execute_result"
    }
   ],
   "source": [
    "eq1 := D(x(t), t) = 1 + x(t)^2 ;\n",
    "eq2 := D(y(t), t) = x(t) * y(t);\n",
    "eq1,eq2"
   ]
  },
  {
   "cell_type": "markdown",
   "metadata": {},
   "source": [
    "We can solve the system around $t=0$ with the initial conditions $x(0)=0$ and $y(0)=1$. Notice that since we give the unknowns in the order $[x,y]$, the answer is a list of two series in the order [series for $x(t)$,series for $y(t)$]. "
   ]
  },
  {
   "cell_type": "code",
   "execution_count": 12,
   "metadata": {
    "collapsed": false
   },
   "outputs": [
    {
     "name": "stdout",
     "output_type": "stream",
     "text": [
      "   Compiling function %GI with type List(UnivariateTaylorSeries(\n",
      "      Expression(Integer),t,0)) -> UnivariateTaylorSeries(Expression(\n",
      "      Integer),t,0) \n",
      "   Compiling function %GJ with type List(UnivariateTaylorSeries(\n",
      "      Expression(Integer),t,0)) -> UnivariateTaylorSeries(Expression(\n",
      "      Integer),t,0) \n",
      "\n",
      "\n"
     ]
    },
    {
     "data": {
      "text/plain": [
       "        1  3    2  5    17  7    62   9      11\n",
       "   [t + - t  + -- t  + --- t  + ---- t  + O(t  ),\n",
       "        3      15      315      2835\n",
       "        1  2    5  4    61  6    277  8    50521   10      11\n",
       "    1 + - t  + -- t  + --- t  + ---- t  + ------- t   + O(t  )]\n",
       "        2      24      720      8064      3628800\n",
       "                  Type: List(UnivariateTaylorSeries(Expression(Integer),t,0))\n"
      ]
     },
     "execution_count": 12,
     "metadata": {},
     "output_type": "execute_result"
    }
   ],
   "source": [
    "seriesSolve([eq2, eq1], [x, y], t = 0, [y(0) = 1, x(0) = 0])"
   ]
  },
  {
   "cell_type": "code",
   "execution_count": null,
   "metadata": {
    "collapsed": true
   },
   "outputs": [],
   "source": []
  }
 ],
 "metadata": {
  "kernelspec": {
   "display_name": "FriCAS",
   "language": "spad",
   "name": "ifricas"
  },
  "language_info": {
   "codemirror_mode": "spad",
   "mimetype": "text/x-spad",
   "name": "SPAD",
   "pygments_lexer": "spad",
   "version": "1.2.6"
  }
 },
 "nbformat": 4,
 "nbformat_minor": 0
}
