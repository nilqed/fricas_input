{
 "cells": [
  {
   "cell_type": "code",
   "execution_count": 0,
   "metadata": {
    "collapsed": false
   },
   "outputs": [
    {
     "name": "stdout",
     "output_type": "stream",
     "text": [
      "DifferentialForms is now explicitly exposed in frame initial \n",
      "   DifferentialForms will be automatically loaded when needed from \n",
      "      /home/kfp/Devel/fricas_input/spad/dform/devel/src/DFORM.NRLIB/DFORM\n",
      "\n"
     ]
    },
    {
     "data": {
      "text/plain": []
     },
     "execution_count": 0,
     "metadata": {},
     "output_type": "execute_result"
    }
   ],
   "source": [
    ")lib DFORM"
   ]
  },
  {
   "cell_type": "code",
   "execution_count": 1,
   "metadata": {
    "collapsed": false
   },
   "outputs": [
    {
     "name": "stdout",
     "output_type": "stream",
     "text": [
      "Warning: HyperTeX macro table not found\n",
      "\n"
     ]
    },
    {
     "data": {
      "text/plain": [
       "   7\n",
       "                                                        Type: PositiveInteger\n",
       "                                                                   Type: Void\n",
       "   Integer\n",
       "                                                                   Type: Type\n",
       "   [x ,x ,x ,x ,x ,x ,x ]\n",
       "     1  2  3  4  5  6  7\n",
       "                                                           Type: List(Symbol)\n",
       "   DifferentialForms(Integer,[x[1],x[2],x[3],x[4],x[5],x[6],x[7]])\n",
       "                                                                   Type: Type\n"
      ]
     },
     "execution_count": 1,
     "metadata": {},
     "output_type": "execute_result"
    }
   ],
   "source": [
    "n:=7 -- dim of base space (n>=2 !), may change in course\n",
    "\n",
    "\n",
    "O ==> OutputForm\n",
    "\n",
    "-- HodgeStar package for DERHAM(R,v)\n",
    "R:=Integer  -- Ring\n",
    "v:=[subscript(x,[j::OutputForm]) for j in 1..n] -- (x_1,..,x_n)\n",
    "M:=DFORM(R,v)"
   ]
  },
  {
   "cell_type": "code",
   "execution_count": 2,
   "metadata": {
    "collapsed": false
   },
   "outputs": [
    {
     "data": {
      "text/plain": [
       "   [dx ,dx ,dx ,dx ,dx ,dx ,dx ]\n",
       "      1   2   3   4   5   6   7\n",
       "      Type: List(DeRhamComplex(Integer,[x[1],x[2],x[3],x[4],x[5],x[6],x[7]]))\n",
       "   [x ,x ,x ,x ,x ,x ,x ]\n",
       "     1  2  3  4  5  6  7\n",
       "                                              Type: List(Expression(Integer))\n",
       "   [x ,x ,x ,x ,x ,x ,x ]\n",
       "     1  2  3  4  5  6  7\n",
       "                                                           Type: List(Symbol)\n"
      ]
     },
     "execution_count": 2,
     "metadata": {},
     "output_type": "execute_result"
    }
   ],
   "source": [
    "-- basis 1-forms and coordinate vector\n",
    "dx:=baseForms()$M     -- [dx[1],...,dx[n]]\n",
    "x:=coordVector()$M    -- [x[1],...,x[n]]\n",
    "xs:=coordSymbols()$M  -- as above but as List Symbol (for differentiate, D)"
   ]
  },
  {
   "cell_type": "code",
   "execution_count": 3,
   "metadata": {
    "collapsed": false
   },
   "outputs": [
    {
     "name": "stdout",
     "output_type": "stream",
     "text": []
    },
    {
     "data": {
      "text/plain": [
       "   a\n",
       "                                                          Type: BasicOperator\n",
       "   [b (x ,x ,x ,x ,x ,x ,x ), b (x ,x ,x ,x ,x ,x ,x ),\n",
       "     1  1  2  3  4  5  6  7    2  1  2  3  4  5  6  7\n",
       "    b (x ,x ,x ,x ,x ,x ,x ), b (x ,x ,x ,x ,x ,x ,x ),\n",
       "     3  1  2  3  4  5  6  7    4  1  2  3  4  5  6  7\n",
       "    b (x ,x ,x ,x ,x ,x ,x ), b (x ,x ,x ,x ,x ,x ,x ),\n",
       "     5  1  2  3  4  5  6  7    6  1  2  3  4  5  6  7\n",
       "    b (x ,x ,x ,x ,x ,x ,x )]\n",
       "     7  1  2  3  4  5  6  7\n",
       "                                              Type: List(Expression(Integer))\n",
       "   [c (x ,x ,x ,x ,x ,x ,x ), c (x ,x ,x ,x ,x ,x ,x ),\n",
       "     1  1  2  3  4  5  6  7    2  1  2  3  4  5  6  7\n",
       "    c (x ,x ,x ,x ,x ,x ,x ), c (x ,x ,x ,x ,x ,x ,x ),\n",
       "     3  1  2  3  4  5  6  7    4  1  2  3  4  5  6  7\n",
       "    c (x ,x ,x ,x ,x ,x ,x ), c (x ,x ,x ,x ,x ,x ,x ),\n",
       "     5  1  2  3  4  5  6  7    6  1  2  3  4  5  6  7\n",
       "    c (x ,x ,x ,x ,x ,x ,x )]\n",
       "     7  1  2  3  4  5  6  7\n",
       "                                              Type: List(Expression(Integer))\n",
       "   P(x ,x ,x ,x ,x ,x ,x )\n",
       "      1  2  3  4  5  6  7\n",
       "                                                    Type: Expression(Integer)\n"
      ]
     },
     "execution_count": 3,
     "metadata": {},
     "output_type": "execute_result"
    }
   ],
   "source": [
    "-- operator, vector field, scalar field, symbol\n",
    "a:=operator 'a         -- operator\n",
    "b:=vectorField(b)$M    -- generic vector field [b1(x1..xn),...,bn(x1..xn)]\n",
    "c:=vectorField(c)$M\n",
    "P:=scalarField(P)$M    -- scalar field P(x1,..,xn)"
   ]
  },
  {
   "cell_type": "code",
   "execution_count": 4,
   "metadata": {
    "collapsed": false
   },
   "outputs": [
    {
     "data": {
      "text/plain": [
       "   dx dx dx dx dx dx dx\n",
       "     1  2  3  4  5  6  7\n",
       "            Type: DeRhamComplex(Integer,[x[1],x[2],x[3],x[4],x[5],x[6],x[7]])\n",
       "   nf(x ,x ,x ,x ,x ,x ,x )\n",
       "       1  2  3  4  5  6  7\n",
       "            Type: DeRhamComplex(Integer,[x[1],x[2],x[3],x[4],x[5],x[6],x[7]])\n"
      ]
     },
     "execution_count": 4,
     "metadata": {},
     "output_type": "execute_result"
    }
   ],
   "source": [
    "-- (pseudo-) random form & zeroForm\n",
    "rd:=reduce(_*,[dx.j for j in 1..random(n)$NNI+1])\n",
    "nf:=zeroForm(nf)$M"
   ]
  },
  {
   "cell_type": "code",
   "execution_count": 5,
   "metadata": {
    "collapsed": false
   },
   "outputs": [
    {
     "name": "stdout",
     "output_type": "stream",
     "text": []
    },
    {
     "data": {
      "text/plain": [
       "   +1  0  0  0  0  0  0+\n",
       "   |                   |\n",
       "   |0  1  0  0  0  0  0|\n",
       "   |                   |\n",
       "   |0  0  1  0  0  0  0|\n",
       "   |                   |\n",
       "   |0  0  0  1  0  0  0|\n",
       "   |                   |\n",
       "   |0  0  0  0  1  0  0|\n",
       "   |                   |\n",
       "   |0  0  0  0  0  1  0|\n",
       "   |                   |\n",
       "   +0  0  0  0  0  0  1+\n",
       "                                    Type: SquareMatrix(7,Expression(Integer))\n",
       "   [[c (x ,x ,x ,x ,x ,x ,x ),0,0,0,0,0,0],\n",
       "      1  1  2  3  4  5  6  7\n",
       "    [0,c (x ,x ,x ,x ,x ,x ,x ),0,0,0,0,0],\n",
       "        2  1  2  3  4  5  6  7\n",
       "    [0,0,c (x ,x ,x ,x ,x ,x ,x ),0,0,0,0],\n",
       "          3  1  2  3  4  5  6  7\n",
       "    [0,0,0,c (x ,x ,x ,x ,x ,x ,x ),0,0,0],\n",
       "            4  1  2  3  4  5  6  7\n",
       "    [0,0,0,0,c (x ,x ,x ,x ,x ,x ,x ),0,0],\n",
       "              5  1  2  3  4  5  6  7\n",
       "    [0,0,0,0,0,c (x ,x ,x ,x ,x ,x ,x ),0],\n",
       "                6  1  2  3  4  5  6  7\n",
       "    [0,0,0,0,0,0,c (x ,x ,x ,x ,x ,x ,x )]]\n",
       "                  7  1  2  3  4  5  6  7\n",
       "                                    Type: SquareMatrix(7,Expression(Integer))\n"
      ]
     },
     "execution_count": 5,
     "metadata": {},
     "output_type": "execute_result"
    }
   ],
   "source": [
    "-- metric\n",
    "g:=diagonalMatrix([1 for i in 1..n])$SquareMatrix(n,EXPR R)  -- Euclidean\n",
    "h:=diagonalMatrix(c)$SquareMatrix(n,EXPR R)"
   ]
  },
  {
   "cell_type": "code",
   "execution_count": 6,
   "metadata": {
    "collapsed": false
   },
   "outputs": [
    {
     "name": "stdout",
     "output_type": "stream",
     "text": []
    },
    {
     "data": {
      "text/plain": [
       "   [b (x ,x ,x ,x ,x ,x ,x ), b (x ,x ,x ,x ,x ,x ,x ),\n",
       "     1  1  2  3  4  5  6  7    2  1  2  3  4  5  6  7\n",
       "    b (x ,x ,x ,x ,x ,x ,x ), b (x ,x ,x ,x ,x ,x ,x ),\n",
       "     3  1  2  3  4  5  6  7    4  1  2  3  4  5  6  7\n",
       "    b (x ,x ,x ,x ,x ,x ,x ), b (x ,x ,x ,x ,x ,x ,x ),\n",
       "     5  1  2  3  4  5  6  7    6  1  2  3  4  5  6  7\n",
       "    b (x ,x ,x ,x ,x ,x ,x )]\n",
       "     7  1  2  3  4  5  6  7\n",
       "                                            Type: Vector(Expression(Integer))\n"
      ]
     },
     "execution_count": 6,
     "metadata": {},
     "output_type": "execute_result"
    }
   ],
   "source": [
    "-- vector field\n",
    "vf:=vector b"
   ]
  },
  {
   "cell_type": "code",
   "execution_count": 7,
   "metadata": {
    "collapsed": false
   },
   "outputs": [
    {
     "data": {
      "text/plain": [
       "   dx\n",
       "     1\n",
       "            Type: DeRhamComplex(Integer,[x[1],x[2],x[3],x[4],x[5],x[6],x[7]])\n"
      ]
     },
     "execution_count": 7,
     "metadata": {},
     "output_type": "execute_result"
    }
   ],
   "source": [
    "dx.1"
   ]
  },
  {
   "cell_type": "code",
   "execution_count": 8,
   "metadata": {
    "collapsed": false
   },
   "outputs": [
    {
     "data": {
      "text/plain": [
       "   7\n",
       "                                                        Type: PositiveInteger\n"
      ]
     },
     "execution_count": 8,
     "metadata": {},
     "output_type": "execute_result"
    }
   ],
   "source": [
    "#dx"
   ]
  },
  {
   "cell_type": "code",
   "execution_count": 9,
   "metadata": {
    "collapsed": false
   },
   "outputs": [
    {
     "data": {
      "text/plain": [
       "   7\n",
       "                                                        Type: PositiveInteger\n"
      ]
     },
     "execution_count": 9,
     "metadata": {},
     "output_type": "execute_result"
    }
   ],
   "source": [
    "#x"
   ]
  },
  {
   "cell_type": "code",
   "execution_count": 10,
   "metadata": {
    "collapsed": false
   },
   "outputs": [
    {
     "data": {
      "text/plain": [
       "   a(x ,x ,x ,x ,x ,x ,x )\n",
       "      1  2  3  4  5  6  7\n",
       "                                                    Type: Expression(Integer)\n"
      ]
     },
     "execution_count": 10,
     "metadata": {},
     "output_type": "execute_result"
    }
   ],
   "source": [
    "a x"
   ]
  },
  {
   "cell_type": "code",
   "execution_count": 11,
   "metadata": {
    "collapsed": false
   },
   "outputs": [
    {
     "data": {
      "text/plain": [
       "   7\n",
       "                                                        Type: PositiveInteger\n"
      ]
     },
     "execution_count": 11,
     "metadata": {},
     "output_type": "execute_result"
    }
   ],
   "source": [
    "#b"
   ]
  },
  {
   "cell_type": "code",
   "execution_count": 12,
   "metadata": {
    "collapsed": false
   },
   "outputs": [
    {
     "data": {
      "text/plain": [
       "   a(x ,x ,x ,x ,x ,x ,x )\n",
       "      1  2  3  4  5  6  7\n",
       "            Type: DeRhamComplex(Integer,[x[1],x[2],x[3],x[4],x[5],x[6],x[7]])\n"
      ]
     },
     "execution_count": 12,
     "metadata": {},
     "output_type": "execute_result"
    }
   ],
   "source": [
    "--null form\n",
    "zeroForm('a)$M"
   ]
  },
  {
   "cell_type": "code",
   "execution_count": 13,
   "metadata": {
    "collapsed": false
   },
   "outputs": [
    {
     "name": "stdout",
     "output_type": "stream",
     "text": []
    },
    {
     "data": {
      "text/plain": [
       "     a  (x ,x ,x ,x ,x ,x ,x )dx  + a  (x ,x ,x ,x ,x ,x ,x )dx\n",
       "      ,7  1  2  3  4  5  6  7   7    ,6  1  2  3  4  5  6  7   6\n",
       "   + \n",
       "     a  (x ,x ,x ,x ,x ,x ,x )dx  + a  (x ,x ,x ,x ,x ,x ,x )dx\n",
       "      ,5  1  2  3  4  5  6  7   5    ,4  1  2  3  4  5  6  7   4\n",
       "   + \n",
       "     a  (x ,x ,x ,x ,x ,x ,x )dx  + a  (x ,x ,x ,x ,x ,x ,x )dx\n",
       "      ,3  1  2  3  4  5  6  7   3    ,2  1  2  3  4  5  6  7   2\n",
       "   + \n",
       "     a  (x ,x ,x ,x ,x ,x ,x )dx\n",
       "      ,1  1  2  3  4  5  6  7   1\n",
       "            Type: DeRhamComplex(Integer,[x[1],x[2],x[3],x[4],x[5],x[6],x[7]])\n"
      ]
     },
     "execution_count": 13,
     "metadata": {},
     "output_type": "execute_result"
    }
   ],
   "source": [
    "d zeroForm('a)$M "
   ]
  },
  {
   "cell_type": "code",
   "execution_count": 14,
   "metadata": {
    "collapsed": false
   },
   "outputs": [
    {
     "data": {
      "text/plain": [
       "   x dx  + x dx  + x dx  + x dx  + x dx  + x dx  + x dx\n",
       "    7  7    6  6    5  5    4  4    3  3    2  2    1  1\n",
       "            Type: DeRhamComplex(Integer,[x[1],x[2],x[3],x[4],x[5],x[6],x[7]])\n"
      ]
     },
     "execution_count": 14,
     "metadata": {},
     "output_type": "execute_result"
    }
   ],
   "source": [
    "-- products (à la Flanders, vector forms)\n",
    "x*dx"
   ]
  },
  {
   "cell_type": "code",
   "execution_count": 15,
   "metadata": {
    "collapsed": false
   },
   "outputs": [
    {
     "data": {
      "text/plain": [
       "   0\n",
       "            Type: DeRhamComplex(Integer,[x[1],x[2],x[3],x[4],x[5],x[6],x[7]])\n"
      ]
     },
     "execution_count": 15,
     "metadata": {},
     "output_type": "execute_result"
    }
   ],
   "source": [
    "dx * dx"
   ]
  },
  {
   "cell_type": "code",
   "execution_count": 16,
   "metadata": {
    "collapsed": false
   },
   "outputs": [
    {
     "name": "stdout",
     "output_type": "stream",
     "text": []
    },
    {
     "data": {
      "text/plain": [
       "   [- x dx dx  - x dx dx  - x dx dx  - x dx dx  - x dx dx  - x dx dx ,\n",
       "       7  1  7    6  1  6    5  1  5    4  1  4    3  1  3    2  1  2\n",
       "    - x dx dx  - x dx dx  - x dx dx  - x dx dx  - x dx dx  + x dx dx ,\n",
       "       7  2  7    6  2  6    5  2  5    4  2  4    3  2  3    1  1  2\n",
       "    - x dx dx  - x dx dx  - x dx dx  - x dx dx  + x dx dx  + x dx dx ,\n",
       "       7  3  7    6  3  6    5  3  5    4  3  4    2  2  3    1  1  3\n",
       "    - x dx dx  - x dx dx  - x dx dx  + x dx dx  + x dx dx  + x dx dx ,\n",
       "       7  4  7    6  4  6    5  4  5    3  3  4    2  2  4    1  1  4\n",
       "    - x dx dx  - x dx dx  + x dx dx  + x dx dx  + x dx dx  + x dx dx ,\n",
       "       7  5  7    6  5  6    4  4  5    3  3  5    2  2  5    1  1  5\n",
       "    - x dx dx  + x dx dx  + x dx dx  + x dx dx  + x dx dx  + x dx dx ,\n",
       "       7  6  7    5  5  6    4  4  6    3  3  6    2  2  6    1  1  6\n",
       "    x dx dx  + x dx dx  + x dx dx  + x dx dx  + x dx dx  + x dx dx ]\n",
       "     6  6  7    5  5  7    4  4  7    3  3  7    2  2  7    1  1  7\n",
       "    Type: Vector(DeRhamComplex(Integer,[x[1],x[2],x[3],x[4],x[5],x[6],x[7]]))\n"
      ]
     },
     "execution_count": 16,
     "metadata": {},
     "output_type": "execute_result"
    }
   ],
   "source": [
    "(x*dx)*dx"
   ]
  },
  {
   "cell_type": "code",
   "execution_count": 17,
   "metadata": {
    "collapsed": false
   },
   "outputs": [
    {
     "name": "stdout",
     "output_type": "stream",
     "text": []
    },
    {
     "data": {
      "text/plain": [
       "     W (x ,x ,x ,x ,x ,x ,x )dx  + W (x ,x ,x ,x ,x ,x ,x )dx\n",
       "      7  1  2  3  4  5  6  7   7    6  1  2  3  4  5  6  7   6\n",
       "   + \n",
       "     W (x ,x ,x ,x ,x ,x ,x )dx  + W (x ,x ,x ,x ,x ,x ,x )dx\n",
       "      5  1  2  3  4  5  6  7   5    4  1  2  3  4  5  6  7   4\n",
       "   + \n",
       "     W (x ,x ,x ,x ,x ,x ,x )dx  + W (x ,x ,x ,x ,x ,x ,x )dx\n",
       "      3  1  2  3  4  5  6  7   3    2  1  2  3  4  5  6  7   2\n",
       "   + \n",
       "     W (x ,x ,x ,x ,x ,x ,x )dx\n",
       "      1  1  2  3  4  5  6  7   1\n",
       "            Type: DeRhamComplex(Integer,[x[1],x[2],x[3],x[4],x[5],x[6],x[7]])\n"
      ]
     },
     "execution_count": 17,
     "metadata": {},
     "output_type": "execute_result"
    }
   ],
   "source": [
    "-- (co-)vector field\n",
    "vectorField(W)$M * dx"
   ]
  },
  {
   "cell_type": "code",
   "execution_count": 18,
   "metadata": {
    "collapsed": false
   },
   "outputs": [
    {
     "data": {
      "text/plain": [
       "   List(Expression(Integer()))\n",
       "                                                             Type: OutputForm\n"
      ]
     },
     "execution_count": 18,
     "metadata": {},
     "output_type": "execute_result"
    }
   ],
   "source": [
    "typeOf(vectorField(S)$M)::O"
   ]
  },
  {
   "cell_type": "code",
   "execution_count": 19,
   "metadata": {
    "collapsed": false
   },
   "outputs": [
    {
     "data": {
      "text/plain": [
       "   List(DeRhamComplex(Integer(),[x ,x ,x ,x ,x ,x ,x ]))\n",
       "                                  1  2  3  4  5  6  7\n",
       "                                                             Type: OutputForm\n"
      ]
     },
     "execution_count": 19,
     "metadata": {},
     "output_type": "execute_result"
    }
   ],
   "source": [
    "typeOf(covectorField(K)$M)::O"
   ]
  },
  {
   "cell_type": "code",
   "execution_count": 20,
   "metadata": {
    "collapsed": false
   },
   "outputs": [
    {
     "data": {
      "text/plain": [
       "   DeRhamComplex(Integer(),[x ,x ,x ,x ,x ,x ,x ])\n",
       "                             1  2  3  4  5  6  7\n",
       "                                                             Type: OutputForm\n"
      ]
     },
     "execution_count": 20,
     "metadata": {},
     "output_type": "execute_result"
    }
   ],
   "source": [
    "typeOf(vectorField(W)$M * covectorField(K)$M)::O"
   ]
  },
  {
   "cell_type": "code",
   "execution_count": 21,
   "metadata": {
    "collapsed": false
   },
   "outputs": [
    {
     "data": {
      "text/plain": [
       "   [1,1,1,1,1,1,1]\n",
       "                                              Type: List(Expression(Integer))\n"
      ]
     },
     "execution_count": 21,
     "metadata": {},
     "output_type": "execute_result"
    }
   ],
   "source": [
    "-- dot products w.r.t. g\n",
    "[ dot(g,dx.j,dx.j)$M  for j in 1..n]"
   ]
  },
  {
   "cell_type": "code",
   "execution_count": 22,
   "metadata": {
    "collapsed": false
   },
   "outputs": [
    {
     "data": {
      "text/plain": [
       "   [0,0,0,0,0,0]\n",
       "                                              Type: List(Expression(Integer))\n"
      ]
     },
     "execution_count": 22,
     "metadata": {},
     "output_type": "execute_result"
    }
   ],
   "source": [
    "[dot(g,dx.j,dx.(j+1))$M  for j in 1..n-1]"
   ]
  },
  {
   "cell_type": "code",
   "execution_count": 23,
   "metadata": {
    "collapsed": false
   },
   "outputs": [
    {
     "data": {
      "text/plain": [
       "   [1,1,1,1,1,1]\n",
       "                                              Type: List(Expression(Integer))\n"
      ]
     },
     "execution_count": 23,
     "metadata": {},
     "output_type": "execute_result"
    }
   ],
   "source": [
    "[dot(g,dx.1*dx.j,dx.1*dx.j)$M for j in 2..n]"
   ]
  },
  {
   "cell_type": "code",
   "execution_count": 24,
   "metadata": {
    "collapsed": false
   },
   "outputs": [
    {
     "name": "stdout",
     "output_type": "stream",
     "text": []
    },
    {
     "data": {
      "text/plain": [
       "                1                         1\n",
       "   [------------------------, ------------------------,\n",
       "    c (x ,x ,x ,x ,x ,x ,x )  c (x ,x ,x ,x ,x ,x ,x )\n",
       "     1  1  2  3  4  5  6  7    2  1  2  3  4  5  6  7\n",
       "                1                         1\n",
       "    ------------------------, ------------------------,\n",
       "    c (x ,x ,x ,x ,x ,x ,x )  c (x ,x ,x ,x ,x ,x ,x )\n",
       "     3  1  2  3  4  5  6  7    4  1  2  3  4  5  6  7\n",
       "                1                         1\n",
       "    ------------------------, ------------------------,\n",
       "    c (x ,x ,x ,x ,x ,x ,x )  c (x ,x ,x ,x ,x ,x ,x )\n",
       "     5  1  2  3  4  5  6  7    6  1  2  3  4  5  6  7\n",
       "                1\n",
       "    ------------------------]\n",
       "    c (x ,x ,x ,x ,x ,x ,x )\n",
       "     7  1  2  3  4  5  6  7\n",
       "                                              Type: List(Expression(Integer))\n"
      ]
     },
     "execution_count": 24,
     "metadata": {},
     "output_type": "execute_result"
    }
   ],
   "source": [
    "[dot(h,dx.j,dx.j)$M for j in 1..n]"
   ]
  },
  {
   "cell_type": "code",
   "execution_count": 25,
   "metadata": {
    "collapsed": false
   },
   "outputs": [
    {
     "data": {
      "text/plain": [
       "   [0,0,0,0,0,0]\n",
       "                                              Type: List(Expression(Integer))\n"
      ]
     },
     "execution_count": 25,
     "metadata": {},
     "output_type": "execute_result"
    }
   ],
   "source": [
    "[dot(h,dx.j,dx.(j+1))$M for j in 1..n-1]"
   ]
  },
  {
   "cell_type": "code",
   "execution_count": 26,
   "metadata": {
    "collapsed": false
   },
   "outputs": [
    {
     "name": "stdout",
     "output_type": "stream",
     "text": []
    },
    {
     "data": {
      "text/plain": [
       "                            1\n",
       "   [------------------------------------------------,\n",
       "    c (x ,x ,x ,x ,x ,x ,x )c (x ,x ,x ,x ,x ,x ,x )\n",
       "     1  1  2  3  4  5  6  7  2  1  2  3  4  5  6  7\n",
       "                            1\n",
       "    ------------------------------------------------,\n",
       "    c (x ,x ,x ,x ,x ,x ,x )c (x ,x ,x ,x ,x ,x ,x )\n",
       "     1  1  2  3  4  5  6  7  3  1  2  3  4  5  6  7\n",
       "                            1\n",
       "    ------------------------------------------------,\n",
       "    c (x ,x ,x ,x ,x ,x ,x )c (x ,x ,x ,x ,x ,x ,x )\n",
       "     1  1  2  3  4  5  6  7  4  1  2  3  4  5  6  7\n",
       "                            1\n",
       "    ------------------------------------------------,\n",
       "    c (x ,x ,x ,x ,x ,x ,x )c (x ,x ,x ,x ,x ,x ,x )\n",
       "     1  1  2  3  4  5  6  7  5  1  2  3  4  5  6  7\n",
       "                            1\n",
       "    ------------------------------------------------,\n",
       "    c (x ,x ,x ,x ,x ,x ,x )c (x ,x ,x ,x ,x ,x ,x )\n",
       "     1  1  2  3  4  5  6  7  6  1  2  3  4  5  6  7\n",
       "                            1\n",
       "    ------------------------------------------------]\n",
       "    c (x ,x ,x ,x ,x ,x ,x )c (x ,x ,x ,x ,x ,x ,x )\n",
       "     1  1  2  3  4  5  6  7  7  1  2  3  4  5  6  7\n",
       "                                              Type: List(Expression(Integer))\n"
      ]
     },
     "execution_count": 26,
     "metadata": {},
     "output_type": "execute_result"
    }
   ],
   "source": [
    "[dot(h,dx.1*dx.j,dx.1*dx.j)$M for j in 2..n]"
   ]
  },
  {
   "cell_type": "code",
   "execution_count": 27,
   "metadata": {
    "collapsed": false
   },
   "outputs": [
    {
     "data": {
      "text/plain": [
       "   dx dx dx dx dx dx dx\n",
       "     1  2  3  4  5  6  7\n",
       "            Type: DeRhamComplex(Integer,[x[1],x[2],x[3],x[4],x[5],x[6],x[7]])\n"
      ]
     },
     "execution_count": 27,
     "metadata": {},
     "output_type": "execute_result"
    }
   ],
   "source": [
    "-- Hodge star\n",
    "one()$M*hodgeStar(g,1)$M"
   ]
  },
  {
   "cell_type": "code",
   "execution_count": 28,
   "metadata": {
    "collapsed": false
   },
   "outputs": [
    {
     "data": {
      "text/plain": [
       "   dx dx dx dx dx dx dx\n",
       "     1  2  3  4  5  6  7\n",
       "            Type: DeRhamComplex(Integer,[x[1],x[2],x[3],x[4],x[5],x[6],x[7]])\n"
      ]
     },
     "execution_count": 28,
     "metadata": {},
     "output_type": "execute_result"
    }
   ],
   "source": [
    "rd*hodgeStar(g,rd)$M "
   ]
  },
  {
   "cell_type": "code",
   "execution_count": 29,
   "metadata": {
    "collapsed": false
   },
   "outputs": [
    {
     "data": {
      "text/plain": [
       "   6\n",
       "                                                        Type: PositiveInteger\n"
      ]
     },
     "execution_count": 29,
     "metadata": {},
     "output_type": "execute_result"
    }
   ],
   "source": [
    "degree(hodgeStar(g,dx.n)$M)"
   ]
  },
  {
   "cell_type": "code",
   "execution_count": 30,
   "metadata": {
    "collapsed": false
   },
   "outputs": [
    {
     "name": "stdout",
     "output_type": "stream",
     "text": []
    },
    {
     "data": {
      "text/plain": [
       "     ROOT\n",
       "        abs\n",
       "             c (x ,x ,x ,x ,x ,x ,x )c (x ,x ,x ,x ,x ,x ,x )\n",
       "              1  1  2  3  4  5  6  7  2  1  2  3  4  5  6  7\n",
       "          *\n",
       "             c (x ,x ,x ,x ,x ,x ,x )c (x ,x ,x ,x ,x ,x ,x )\n",
       "              3  1  2  3  4  5  6  7  4  1  2  3  4  5  6  7\n",
       "          *\n",
       "             c (x ,x ,x ,x ,x ,x ,x )c (x ,x ,x ,x ,x ,x ,x )\n",
       "              5  1  2  3  4  5  6  7  6  1  2  3  4  5  6  7\n",
       "          *\n",
       "             c (x ,x ,x ,x ,x ,x ,x )\n",
       "              7  1  2  3  4  5  6  7\n",
       "  *\n",
       "     dx dx dx dx dx dx dx\n",
       "       1  2  3  4  5  6  7\n",
       "            Type: DeRhamComplex(Integer,[x[1],x[2],x[3],x[4],x[5],x[6],x[7]])\n"
      ]
     },
     "execution_count": 30,
     "metadata": {},
     "output_type": "execute_result"
    }
   ],
   "source": [
    "one()$M*hodgeStar(h,1)$M"
   ]
  },
  {
   "cell_type": "code",
   "execution_count": 31,
   "metadata": {
    "collapsed": false
   },
   "outputs": [
    {
     "name": "stdout",
     "output_type": "stream",
     "text": []
    },
    {
     "data": {
      "text/plain": [
       "       ROOT\n",
       "          abs\n",
       "               c (x ,x ,x ,x ,x ,x ,x )c (x ,x ,x ,x ,x ,x ,x )\n",
       "                1  1  2  3  4  5  6  7  2  1  2  3  4  5  6  7\n",
       "            *\n",
       "               c (x ,x ,x ,x ,x ,x ,x )c (x ,x ,x ,x ,x ,x ,x )\n",
       "                3  1  2  3  4  5  6  7  4  1  2  3  4  5  6  7\n",
       "            *\n",
       "               c (x ,x ,x ,x ,x ,x ,x )c (x ,x ,x ,x ,x ,x ,x )\n",
       "                5  1  2  3  4  5  6  7  6  1  2  3  4  5  6  7\n",
       "            *\n",
       "               c (x ,x ,x ,x ,x ,x ,x )\n",
       "                7  1  2  3  4  5  6  7\n",
       "    /\n",
       "         c (x ,x ,x ,x ,x ,x ,x )c (x ,x ,x ,x ,x ,x ,x )\n",
       "          1  1  2  3  4  5  6  7  2  1  2  3  4  5  6  7\n",
       "      *\n",
       "         c (x ,x ,x ,x ,x ,x ,x )c (x ,x ,x ,x ,x ,x ,x )\n",
       "          3  1  2  3  4  5  6  7  4  1  2  3  4  5  6  7\n",
       "      *\n",
       "       c (x ,x ,x ,x ,x ,x ,x )c (x ,x ,x ,x ,x ,x ,x )c (x ,x ,x ,x ,x ,x ,x )\n",
       "        5  1  2  3  4  5  6  7  6  1  2  3  4  5  6  7  7  1  2  3  4  5  6  7\n",
       "  *\n",
       "     dx dx dx dx dx dx dx\n",
       "       1  2  3  4  5  6  7\n",
       "            Type: DeRhamComplex(Integer,[x[1],x[2],x[3],x[4],x[5],x[6],x[7]])\n"
      ]
     },
     "execution_count": 31,
     "metadata": {},
     "output_type": "execute_result"
    }
   ],
   "source": [
    "rd*hodgeStar(h,rd)$M"
   ]
  },
  {
   "cell_type": "code",
   "execution_count": 34,
   "metadata": {
    "collapsed": false
   },
   "outputs": [
    {
     "data": {
      "text/plain": [
       "   6\n",
       "                                                        Type: PositiveInteger\n"
      ]
     },
     "execution_count": 34,
     "metadata": {},
     "output_type": "execute_result"
    }
   ],
   "source": [
    "degree(hodgeStar(h,dx.n)$M)"
   ]
  },
  {
   "cell_type": "code",
   "execution_count": 35,
   "metadata": {
    "collapsed": false
   },
   "outputs": [
    {
     "data": {
      "text/plain": [
       "   nf(x ,x ,x ,x ,x ,x ,x )\n",
       "       1  2  3  4  5  6  7\n",
       "            Type: DeRhamComplex(Integer,[x[1],x[2],x[3],x[4],x[5],x[6],x[7]])\n"
      ]
     },
     "execution_count": 35,
     "metadata": {},
     "output_type": "execute_result"
    }
   ],
   "source": [
    "-- Projections\n",
    "proj(0,nf+b*dx+d(b*dx))$M"
   ]
  },
  {
   "cell_type": "code",
   "execution_count": 36,
   "metadata": {
    "collapsed": false
   },
   "outputs": [
    {
     "name": "stdout",
     "output_type": "stream",
     "text": []
    },
    {
     "data": {
      "text/plain": [
       "     b (x ,x ,x ,x ,x ,x ,x )dx  + b (x ,x ,x ,x ,x ,x ,x )dx\n",
       "      7  1  2  3  4  5  6  7   7    6  1  2  3  4  5  6  7   6\n",
       "   + \n",
       "     b (x ,x ,x ,x ,x ,x ,x )dx  + b (x ,x ,x ,x ,x ,x ,x )dx\n",
       "      5  1  2  3  4  5  6  7   5    4  1  2  3  4  5  6  7   4\n",
       "   + \n",
       "     b (x ,x ,x ,x ,x ,x ,x )dx  + b (x ,x ,x ,x ,x ,x ,x )dx\n",
       "      3  1  2  3  4  5  6  7   3    2  1  2  3  4  5  6  7   2\n",
       "   + \n",
       "     b (x ,x ,x ,x ,x ,x ,x )dx\n",
       "      1  1  2  3  4  5  6  7   1\n",
       "            Type: DeRhamComplex(Integer,[x[1],x[2],x[3],x[4],x[5],x[6],x[7]])\n"
      ]
     },
     "execution_count": 36,
     "metadata": {},
     "output_type": "execute_result"
    }
   ],
   "source": [
    "proj(1,nf+b*dx+d(b*dx))$M"
   ]
  },
  {
   "cell_type": "code",
   "execution_count": 37,
   "metadata": {
    "collapsed": false
   },
   "outputs": [
    {
     "name": "stdout",
     "output_type": "stream",
     "text": []
    },
    {
     "data": {
      "text/plain": [
       "     (b   (x ,x ,x ,x ,x ,x ,x ) - b   (x ,x ,x ,x ,x ,x ,x ))dx dx\n",
       "       7,6  1  2  3  4  5  6  7     6,7  1  2  3  4  5  6  7    6  7\n",
       "   + \n",
       "     (b   (x ,x ,x ,x ,x ,x ,x ) - b   (x ,x ,x ,x ,x ,x ,x ))dx dx\n",
       "       7,5  1  2  3  4  5  6  7     5,7  1  2  3  4  5  6  7    5  7\n",
       "   + \n",
       "     (b   (x ,x ,x ,x ,x ,x ,x ) - b   (x ,x ,x ,x ,x ,x ,x ))dx dx\n",
       "       6,5  1  2  3  4  5  6  7     5,6  1  2  3  4  5  6  7    5  6\n",
       "   + \n",
       "     (b   (x ,x ,x ,x ,x ,x ,x ) - b   (x ,x ,x ,x ,x ,x ,x ))dx dx\n",
       "       7,4  1  2  3  4  5  6  7     4,7  1  2  3  4  5  6  7    4  7\n",
       "   + \n",
       "     (b   (x ,x ,x ,x ,x ,x ,x ) - b   (x ,x ,x ,x ,x ,x ,x ))dx dx\n",
       "       6,4  1  2  3  4  5  6  7     4,6  1  2  3  4  5  6  7    4  6\n",
       "   + \n",
       "     (b   (x ,x ,x ,x ,x ,x ,x ) - b   (x ,x ,x ,x ,x ,x ,x ))dx dx\n",
       "       5,4  1  2  3  4  5  6  7     4,5  1  2  3  4  5  6  7    4  5\n",
       "   + \n",
       "     (b   (x ,x ,x ,x ,x ,x ,x ) - b   (x ,x ,x ,x ,x ,x ,x ))dx dx\n",
       "       7,3  1  2  3  4  5  6  7     3,7  1  2  3  4  5  6  7    3  7\n",
       "   + \n",
       "     (b   (x ,x ,x ,x ,x ,x ,x ) - b   (x ,x ,x ,x ,x ,x ,x ))dx dx\n",
       "       6,3  1  2  3  4  5  6  7     3,6  1  2  3  4  5  6  7    3  6\n",
       "   + \n",
       "     (b   (x ,x ,x ,x ,x ,x ,x ) - b   (x ,x ,x ,x ,x ,x ,x ))dx dx\n",
       "       5,3  1  2  3  4  5  6  7     3,5  1  2  3  4  5  6  7    3  5\n",
       "   + \n",
       "     (b   (x ,x ,x ,x ,x ,x ,x ) - b   (x ,x ,x ,x ,x ,x ,x ))dx dx\n",
       "       4,3  1  2  3  4  5  6  7     3,4  1  2  3  4  5  6  7    3  4\n",
       "   + \n",
       "     (b   (x ,x ,x ,x ,x ,x ,x ) - b   (x ,x ,x ,x ,x ,x ,x ))dx dx\n",
       "       7,2  1  2  3  4  5  6  7     2,7  1  2  3  4  5  6  7    2  7\n",
       "   + \n",
       "     (b   (x ,x ,x ,x ,x ,x ,x ) - b   (x ,x ,x ,x ,x ,x ,x ))dx dx\n",
       "       6,2  1  2  3  4  5  6  7     2,6  1  2  3  4  5  6  7    2  6\n",
       "   + \n",
       "     (b   (x ,x ,x ,x ,x ,x ,x ) - b   (x ,x ,x ,x ,x ,x ,x ))dx dx\n",
       "       5,2  1  2  3  4  5  6  7     2,5  1  2  3  4  5  6  7    2  5\n",
       "   + \n",
       "     (b   (x ,x ,x ,x ,x ,x ,x ) - b   (x ,x ,x ,x ,x ,x ,x ))dx dx\n",
       "       4,2  1  2  3  4  5  6  7     2,4  1  2  3  4  5  6  7    2  4\n",
       "   + \n",
       "     (b   (x ,x ,x ,x ,x ,x ,x ) - b   (x ,x ,x ,x ,x ,x ,x ))dx dx\n",
       "       3,2  1  2  3  4  5  6  7     2,3  1  2  3  4  5  6  7    2  3\n",
       "   + \n",
       "     (b   (x ,x ,x ,x ,x ,x ,x ) - b   (x ,x ,x ,x ,x ,x ,x ))dx dx\n",
       "       7,1  1  2  3  4  5  6  7     1,7  1  2  3  4  5  6  7    1  7\n",
       "   + \n",
       "     (b   (x ,x ,x ,x ,x ,x ,x ) - b   (x ,x ,x ,x ,x ,x ,x ))dx dx\n",
       "       6,1  1  2  3  4  5  6  7     1,6  1  2  3  4  5  6  7    1  6\n",
       "   + \n",
       "     (b   (x ,x ,x ,x ,x ,x ,x ) - b   (x ,x ,x ,x ,x ,x ,x ))dx dx\n",
       "       5,1  1  2  3  4  5  6  7     1,5  1  2  3  4  5  6  7    1  5\n",
       "   + \n",
       "     (b   (x ,x ,x ,x ,x ,x ,x ) - b   (x ,x ,x ,x ,x ,x ,x ))dx dx\n",
       "       4,1  1  2  3  4  5  6  7     1,4  1  2  3  4  5  6  7    1  4\n",
       "   + \n",
       "     (b   (x ,x ,x ,x ,x ,x ,x ) - b   (x ,x ,x ,x ,x ,x ,x ))dx dx\n",
       "       3,1  1  2  3  4  5  6  7     1,3  1  2  3  4  5  6  7    1  3\n",
       "   + \n",
       "     (b   (x ,x ,x ,x ,x ,x ,x ) - b   (x ,x ,x ,x ,x ,x ,x ))dx dx\n",
       "       2,1  1  2  3  4  5  6  7     1,2  1  2  3  4  5  6  7    1  2\n",
       "            Type: DeRhamComplex(Integer,[x[1],x[2],x[3],x[4],x[5],x[6],x[7]])\n"
      ]
     },
     "execution_count": 37,
     "metadata": {},
     "output_type": "execute_result"
    }
   ],
   "source": [
    "proj(2,nf+b*dx+d(b*dx))$M "
   ]
  },
  {
   "cell_type": "code",
   "execution_count": 38,
   "metadata": {
    "collapsed": false
   },
   "outputs": [
    {
     "data": {
      "text/plain": [
       "   dx dx dx dx dx dx dx\n",
       "     1  2  3  4  5  6  7\n",
       "            Type: DeRhamComplex(Integer,[x[1],x[2],x[3],x[4],x[5],x[6],x[7]])\n"
      ]
     },
     "execution_count": 38,
     "metadata": {},
     "output_type": "execute_result"
    }
   ],
   "source": [
    "proj(n,volumeForm(g)$M)$M"
   ]
  },
  {
   "cell_type": "code",
   "execution_count": 39,
   "metadata": {
    "collapsed": false
   },
   "outputs": [
    {
     "data": {
      "text/plain": [
       "   0\n",
       "            Type: DeRhamComplex(Integer,[x[1],x[2],x[3],x[4],x[5],x[6],x[7]])\n"
      ]
     },
     "execution_count": 39,
     "metadata": {},
     "output_type": "execute_result"
    }
   ],
   "source": [
    "proj(random(n)$NNI,volumeForm(g)$M)$M"
   ]
  },
  {
   "cell_type": "code",
   "execution_count": 40,
   "metadata": {
    "collapsed": false
   },
   "outputs": [
    {
     "data": {
      "text/plain": [
       "   b (x ,x ,x ,x ,x ,x ,x )\n",
       "    1  1  2  3  4  5  6  7\n",
       "            Type: DeRhamComplex(Integer,[x[1],x[2],x[3],x[4],x[5],x[6],x[7]])\n"
      ]
     },
     "execution_count": 40,
     "metadata": {},
     "output_type": "execute_result"
    }
   ],
   "source": [
    "-- Interior product\n",
    "interiorProduct(vf,dx.1)$M"
   ]
  },
  {
   "cell_type": "code",
   "execution_count": 41,
   "metadata": {
    "collapsed": false
   },
   "outputs": [
    {
     "data": {
      "text/plain": [
       "   b (x ,x ,x ,x ,x ,x ,x )\n",
       "    7  1  2  3  4  5  6  7\n",
       "            Type: DeRhamComplex(Integer,[x[1],x[2],x[3],x[4],x[5],x[6],x[7]])\n"
      ]
     },
     "execution_count": 41,
     "metadata": {},
     "output_type": "execute_result"
    }
   ],
   "source": [
    "interiorProduct(vf,dx.n)$M"
   ]
  },
  {
   "cell_type": "code",
   "execution_count": 42,
   "metadata": {
    "collapsed": false
   },
   "outputs": [
    {
     "name": "stdout",
     "output_type": "stream",
     "text": []
    },
    {
     "data": {
      "text/plain": [
       "       b   (x ,x ,x ,x ,x ,x ,x ) + b   (x ,x ,x ,x ,x ,x ,x )\n",
       "        7,7  1  2  3  4  5  6  7     6,6  1  2  3  4  5  6  7\n",
       "     + \n",
       "       b   (x ,x ,x ,x ,x ,x ,x ) + b   (x ,x ,x ,x ,x ,x ,x )\n",
       "        5,5  1  2  3  4  5  6  7     4,4  1  2  3  4  5  6  7\n",
       "     + \n",
       "       b   (x ,x ,x ,x ,x ,x ,x ) + b   (x ,x ,x ,x ,x ,x ,x )\n",
       "        3,3  1  2  3  4  5  6  7     2,2  1  2  3  4  5  6  7\n",
       "     + \n",
       "       b   (x ,x ,x ,x ,x ,x ,x )\n",
       "        1,1  1  2  3  4  5  6  7\n",
       "  *\n",
       "     dx dx dx dx dx dx dx\n",
       "       1  2  3  4  5  6  7\n",
       "            Type: DeRhamComplex(Integer,[x[1],x[2],x[3],x[4],x[5],x[6],x[7]])\n"
      ]
     },
     "execution_count": 42,
     "metadata": {},
     "output_type": "execute_result"
    }
   ],
   "source": [
    "d interiorProduct(vf, volumeForm(g)$M)$M"
   ]
  },
  {
   "cell_type": "code",
   "execution_count": 43,
   "metadata": {
    "collapsed": false
   },
   "outputs": [
    {
     "name": "stdout",
     "output_type": "stream",
     "text": []
    },
    {
     "data": {
      "text/plain": [
       "         b (x ,x ,x ,x ,x ,x ,x )b   (x ,x ,x ,x ,x ,x ,x )\n",
       "          1  1  2  3  4  5  6  7  7,1  1  2  3  4  5  6  7\n",
       "       + \n",
       "         b (x ,x ,x ,x ,x ,x ,x )b   (x ,x ,x ,x ,x ,x ,x )\n",
       "          2  1  2  3  4  5  6  7  7,2  1  2  3  4  5  6  7\n",
       "       + \n",
       "         b (x ,x ,x ,x ,x ,x ,x )b   (x ,x ,x ,x ,x ,x ,x )\n",
       "          3  1  2  3  4  5  6  7  7,3  1  2  3  4  5  6  7\n",
       "       + \n",
       "         b (x ,x ,x ,x ,x ,x ,x )b   (x ,x ,x ,x ,x ,x ,x )\n",
       "          4  1  2  3  4  5  6  7  7,4  1  2  3  4  5  6  7\n",
       "       + \n",
       "         b (x ,x ,x ,x ,x ,x ,x )b   (x ,x ,x ,x ,x ,x ,x )\n",
       "          5  1  2  3  4  5  6  7  7,5  1  2  3  4  5  6  7\n",
       "       + \n",
       "         b (x ,x ,x ,x ,x ,x ,x )b   (x ,x ,x ,x ,x ,x ,x )\n",
       "          6  1  2  3  4  5  6  7  7,6  1  2  3  4  5  6  7\n",
       "       + \n",
       "         2b (x ,x ,x ,x ,x ,x ,x )b   (x ,x ,x ,x ,x ,x ,x )\n",
       "           7  1  2  3  4  5  6  7  7,7  1  2  3  4  5  6  7\n",
       "       + \n",
       "         b (x ,x ,x ,x ,x ,x ,x )b   (x ,x ,x ,x ,x ,x ,x )\n",
       "          6  1  2  3  4  5  6  7  6,7  1  2  3  4  5  6  7\n",
       "       + \n",
       "         b (x ,x ,x ,x ,x ,x ,x )b   (x ,x ,x ,x ,x ,x ,x )\n",
       "          5  1  2  3  4  5  6  7  5,7  1  2  3  4  5  6  7\n",
       "       + \n",
       "         b (x ,x ,x ,x ,x ,x ,x )b   (x ,x ,x ,x ,x ,x ,x )\n",
       "          4  1  2  3  4  5  6  7  4,7  1  2  3  4  5  6  7\n",
       "       + \n",
       "         b (x ,x ,x ,x ,x ,x ,x )b   (x ,x ,x ,x ,x ,x ,x )\n",
       "          3  1  2  3  4  5  6  7  3,7  1  2  3  4  5  6  7\n",
       "       + \n",
       "         b (x ,x ,x ,x ,x ,x ,x )b   (x ,x ,x ,x ,x ,x ,x )\n",
       "          2  1  2  3  4  5  6  7  2,7  1  2  3  4  5  6  7\n",
       "       + \n",
       "         b (x ,x ,x ,x ,x ,x ,x )b   (x ,x ,x ,x ,x ,x ,x )\n",
       "          1  1  2  3  4  5  6  7  1,7  1  2  3  4  5  6  7\n",
       "    *\n",
       "       dx\n",
       "         7\n",
       "   + \n",
       "         b (x ,x ,x ,x ,x ,x ,x )b   (x ,x ,x ,x ,x ,x ,x )\n",
       "          7  1  2  3  4  5  6  7  7,6  1  2  3  4  5  6  7\n",
       "       + \n",
       "         b (x ,x ,x ,x ,x ,x ,x )b   (x ,x ,x ,x ,x ,x ,x )\n",
       "          1  1  2  3  4  5  6  7  6,1  1  2  3  4  5  6  7\n",
       "       + \n",
       "         b (x ,x ,x ,x ,x ,x ,x )b   (x ,x ,x ,x ,x ,x ,x )\n",
       "          2  1  2  3  4  5  6  7  6,2  1  2  3  4  5  6  7\n",
       "       + \n",
       "         b (x ,x ,x ,x ,x ,x ,x )b   (x ,x ,x ,x ,x ,x ,x )\n",
       "          3  1  2  3  4  5  6  7  6,3  1  2  3  4  5  6  7\n",
       "       + \n",
       "         b (x ,x ,x ,x ,x ,x ,x )b   (x ,x ,x ,x ,x ,x ,x )\n",
       "          4  1  2  3  4  5  6  7  6,4  1  2  3  4  5  6  7\n",
       "       + \n",
       "         b (x ,x ,x ,x ,x ,x ,x )b   (x ,x ,x ,x ,x ,x ,x )\n",
       "          5  1  2  3  4  5  6  7  6,5  1  2  3  4  5  6  7\n",
       "       + \n",
       "         2b (x ,x ,x ,x ,x ,x ,x )b   (x ,x ,x ,x ,x ,x ,x )\n",
       "           6  1  2  3  4  5  6  7  6,6  1  2  3  4  5  6  7\n",
       "       + \n",
       "         b (x ,x ,x ,x ,x ,x ,x )b   (x ,x ,x ,x ,x ,x ,x )\n",
       "          7  1  2  3  4  5  6  7  6,7  1  2  3  4  5  6  7\n",
       "       + \n",
       "         b (x ,x ,x ,x ,x ,x ,x )b   (x ,x ,x ,x ,x ,x ,x )\n",
       "          5  1  2  3  4  5  6  7  5,6  1  2  3  4  5  6  7\n",
       "       + \n",
       "         b (x ,x ,x ,x ,x ,x ,x )b   (x ,x ,x ,x ,x ,x ,x )\n",
       "          4  1  2  3  4  5  6  7  4,6  1  2  3  4  5  6  7\n",
       "       + \n",
       "         b (x ,x ,x ,x ,x ,x ,x )b   (x ,x ,x ,x ,x ,x ,x )\n",
       "          3  1  2  3  4  5  6  7  3,6  1  2  3  4  5  6  7\n",
       "       + \n",
       "         b (x ,x ,x ,x ,x ,x ,x )b   (x ,x ,x ,x ,x ,x ,x )\n",
       "          2  1  2  3  4  5  6  7  2,6  1  2  3  4  5  6  7\n",
       "       + \n",
       "         b (x ,x ,x ,x ,x ,x ,x )b   (x ,x ,x ,x ,x ,x ,x )\n",
       "          1  1  2  3  4  5  6  7  1,6  1  2  3  4  5  6  7\n",
       "    *\n",
       "       dx\n",
       "         6\n",
       "   + \n",
       "         b (x ,x ,x ,x ,x ,x ,x )b   (x ,x ,x ,x ,x ,x ,x )\n",
       "          7  1  2  3  4  5  6  7  7,5  1  2  3  4  5  6  7\n",
       "       + \n",
       "         b (x ,x ,x ,x ,x ,x ,x )b   (x ,x ,x ,x ,x ,x ,x )\n",
       "          6  1  2  3  4  5  6  7  6,5  1  2  3  4  5  6  7\n",
       "       + \n",
       "         b (x ,x ,x ,x ,x ,x ,x )b   (x ,x ,x ,x ,x ,x ,x )\n",
       "          1  1  2  3  4  5  6  7  5,1  1  2  3  4  5  6  7\n",
       "       + \n",
       "         b (x ,x ,x ,x ,x ,x ,x )b   (x ,x ,x ,x ,x ,x ,x )\n",
       "          2  1  2  3  4  5  6  7  5,2  1  2  3  4  5  6  7\n",
       "       + \n",
       "         b (x ,x ,x ,x ,x ,x ,x )b   (x ,x ,x ,x ,x ,x ,x )\n",
       "          3  1  2  3  4  5  6  7  5,3  1  2  3  4  5  6  7\n",
       "       + \n",
       "         b (x ,x ,x ,x ,x ,x ,x )b   (x ,x ,x ,x ,x ,x ,x )\n",
       "          4  1  2  3  4  5  6  7  5,4  1  2  3  4  5  6  7\n",
       "       + \n",
       "         2b (x ,x ,x ,x ,x ,x ,x )b   (x ,x ,x ,x ,x ,x ,x )\n",
       "           5  1  2  3  4  5  6  7  5,5  1  2  3  4  5  6  7\n",
       "       + \n",
       "         b (x ,x ,x ,x ,x ,x ,x )b   (x ,x ,x ,x ,x ,x ,x )\n",
       "          6  1  2  3  4  5  6  7  5,6  1  2  3  4  5  6  7\n",
       "       + \n",
       "         b (x ,x ,x ,x ,x ,x ,x )b   (x ,x ,x ,x ,x ,x ,x )\n",
       "          7  1  2  3  4  5  6  7  5,7  1  2  3  4  5  6  7\n",
       "       + \n",
       "         b (x ,x ,x ,x ,x ,x ,x )b   (x ,x ,x ,x ,x ,x ,x )\n",
       "          4  1  2  3  4  5  6  7  4,5  1  2  3  4  5  6  7\n",
       "       + \n",
       "         b (x ,x ,x ,x ,x ,x ,x )b   (x ,x ,x ,x ,x ,x ,x )\n",
       "          3  1  2  3  4  5  6  7  3,5  1  2  3  4  5  6  7\n",
       "       + \n",
       "         b (x ,x ,x ,x ,x ,x ,x )b   (x ,x ,x ,x ,x ,x ,x )\n",
       "          2  1  2  3  4  5  6  7  2,5  1  2  3  4  5  6  7\n",
       "       + \n",
       "         b (x ,x ,x ,x ,x ,x ,x )b   (x ,x ,x ,x ,x ,x ,x )\n",
       "          1  1  2  3  4  5  6  7  1,5  1  2  3  4  5  6  7\n",
       "    *\n",
       "       dx\n",
       "         5\n",
       "   + \n",
       "         b (x ,x ,x ,x ,x ,x ,x )b   (x ,x ,x ,x ,x ,x ,x )\n",
       "          7  1  2  3  4  5  6  7  7,4  1  2  3  4  5  6  7\n",
       "       + \n",
       "         b (x ,x ,x ,x ,x ,x ,x )b   (x ,x ,x ,x ,x ,x ,x )\n",
       "          6  1  2  3  4  5  6  7  6,4  1  2  3  4  5  6  7\n",
       "       + \n",
       "         b (x ,x ,x ,x ,x ,x ,x )b   (x ,x ,x ,x ,x ,x ,x )\n",
       "          5  1  2  3  4  5  6  7  5,4  1  2  3  4  5  6  7\n",
       "       + \n",
       "         b (x ,x ,x ,x ,x ,x ,x )b   (x ,x ,x ,x ,x ,x ,x )\n",
       "          1  1  2  3  4  5  6  7  4,1  1  2  3  4  5  6  7\n",
       "       + \n",
       "         b (x ,x ,x ,x ,x ,x ,x )b   (x ,x ,x ,x ,x ,x ,x )\n",
       "          2  1  2  3  4  5  6  7  4,2  1  2  3  4  5  6  7\n",
       "       + \n",
       "         b (x ,x ,x ,x ,x ,x ,x )b   (x ,x ,x ,x ,x ,x ,x )\n",
       "          3  1  2  3  4  5  6  7  4,3  1  2  3  4  5  6  7\n",
       "       + \n",
       "         2b (x ,x ,x ,x ,x ,x ,x )b   (x ,x ,x ,x ,x ,x ,x )\n",
       "           4  1  2  3  4  5  6  7  4,4  1  2  3  4  5  6  7\n",
       "       + \n",
       "         b (x ,x ,x ,x ,x ,x ,x )b   (x ,x ,x ,x ,x ,x ,x )\n",
       "          5  1  2  3  4  5  6  7  4,5  1  2  3  4  5  6  7\n",
       "       + \n",
       "         b (x ,x ,x ,x ,x ,x ,x )b   (x ,x ,x ,x ,x ,x ,x )\n",
       "          6  1  2  3  4  5  6  7  4,6  1  2  3  4  5  6  7\n",
       "       + \n",
       "         b (x ,x ,x ,x ,x ,x ,x )b   (x ,x ,x ,x ,x ,x ,x )\n",
       "          7  1  2  3  4  5  6  7  4,7  1  2  3  4  5  6  7\n",
       "       + \n",
       "         b (x ,x ,x ,x ,x ,x ,x )b   (x ,x ,x ,x ,x ,x ,x )\n",
       "          3  1  2  3  4  5  6  7  3,4  1  2  3  4  5  6  7\n",
       "       + \n",
       "         b (x ,x ,x ,x ,x ,x ,x )b   (x ,x ,x ,x ,x ,x ,x )\n",
       "          2  1  2  3  4  5  6  7  2,4  1  2  3  4  5  6  7\n",
       "       + \n",
       "         b (x ,x ,x ,x ,x ,x ,x )b   (x ,x ,x ,x ,x ,x ,x )\n",
       "          1  1  2  3  4  5  6  7  1,4  1  2  3  4  5  6  7\n",
       "    *\n",
       "       dx\n",
       "         4\n",
       "   + \n",
       "         b (x ,x ,x ,x ,x ,x ,x )b   (x ,x ,x ,x ,x ,x ,x )\n",
       "          7  1  2  3  4  5  6  7  7,3  1  2  3  4  5  6  7\n",
       "       + \n",
       "         b (x ,x ,x ,x ,x ,x ,x )b   (x ,x ,x ,x ,x ,x ,x )\n",
       "          6  1  2  3  4  5  6  7  6,3  1  2  3  4  5  6  7\n",
       "       + \n",
       "         b (x ,x ,x ,x ,x ,x ,x )b   (x ,x ,x ,x ,x ,x ,x )\n",
       "          5  1  2  3  4  5  6  7  5,3  1  2  3  4  5  6  7\n",
       "       + \n",
       "         b (x ,x ,x ,x ,x ,x ,x )b   (x ,x ,x ,x ,x ,x ,x )\n",
       "          4  1  2  3  4  5  6  7  4,3  1  2  3  4  5  6  7\n",
       "       + \n",
       "         b (x ,x ,x ,x ,x ,x ,x )b   (x ,x ,x ,x ,x ,x ,x )\n",
       "          1  1  2  3  4  5  6  7  3,1  1  2  3  4  5  6  7\n",
       "       + \n",
       "         b (x ,x ,x ,x ,x ,x ,x )b   (x ,x ,x ,x ,x ,x ,x )\n",
       "          2  1  2  3  4  5  6  7  3,2  1  2  3  4  5  6  7\n",
       "       + \n",
       "         2b (x ,x ,x ,x ,x ,x ,x )b   (x ,x ,x ,x ,x ,x ,x )\n",
       "           3  1  2  3  4  5  6  7  3,3  1  2  3  4  5  6  7\n",
       "       + \n",
       "         b (x ,x ,x ,x ,x ,x ,x )b   (x ,x ,x ,x ,x ,x ,x )\n",
       "          4  1  2  3  4  5  6  7  3,4  1  2  3  4  5  6  7\n",
       "       + \n",
       "         b (x ,x ,x ,x ,x ,x ,x )b   (x ,x ,x ,x ,x ,x ,x )\n",
       "          5  1  2  3  4  5  6  7  3,5  1  2  3  4  5  6  7\n",
       "       + \n",
       "         b (x ,x ,x ,x ,x ,x ,x )b   (x ,x ,x ,x ,x ,x ,x )\n",
       "          6  1  2  3  4  5  6  7  3,6  1  2  3  4  5  6  7\n",
       "       + \n",
       "         b (x ,x ,x ,x ,x ,x ,x )b   (x ,x ,x ,x ,x ,x ,x )\n",
       "          7  1  2  3  4  5  6  7  3,7  1  2  3  4  5  6  7\n",
       "       + \n",
       "         b (x ,x ,x ,x ,x ,x ,x )b   (x ,x ,x ,x ,x ,x ,x )\n",
       "          2  1  2  3  4  5  6  7  2,3  1  2  3  4  5  6  7\n",
       "       + \n",
       "         b (x ,x ,x ,x ,x ,x ,x )b   (x ,x ,x ,x ,x ,x ,x )\n",
       "          1  1  2  3  4  5  6  7  1,3  1  2  3  4  5  6  7\n",
       "    *\n",
       "       dx\n",
       "         3\n",
       "   + \n",
       "         b (x ,x ,x ,x ,x ,x ,x )b   (x ,x ,x ,x ,x ,x ,x )\n",
       "          7  1  2  3  4  5  6  7  7,2  1  2  3  4  5  6  7\n",
       "       + \n",
       "         b (x ,x ,x ,x ,x ,x ,x )b   (x ,x ,x ,x ,x ,x ,x )\n",
       "          6  1  2  3  4  5  6  7  6,2  1  2  3  4  5  6  7\n",
       "       + \n",
       "         b (x ,x ,x ,x ,x ,x ,x )b   (x ,x ,x ,x ,x ,x ,x )\n",
       "          5  1  2  3  4  5  6  7  5,2  1  2  3  4  5  6  7\n",
       "       + \n",
       "         b (x ,x ,x ,x ,x ,x ,x )b   (x ,x ,x ,x ,x ,x ,x )\n",
       "          4  1  2  3  4  5  6  7  4,2  1  2  3  4  5  6  7\n",
       "       + \n",
       "         b (x ,x ,x ,x ,x ,x ,x )b   (x ,x ,x ,x ,x ,x ,x )\n",
       "          3  1  2  3  4  5  6  7  3,2  1  2  3  4  5  6  7\n",
       "       + \n",
       "         b (x ,x ,x ,x ,x ,x ,x )b   (x ,x ,x ,x ,x ,x ,x )\n",
       "          1  1  2  3  4  5  6  7  2,1  1  2  3  4  5  6  7\n",
       "       + \n",
       "         2b (x ,x ,x ,x ,x ,x ,x )b   (x ,x ,x ,x ,x ,x ,x )\n",
       "           2  1  2  3  4  5  6  7  2,2  1  2  3  4  5  6  7\n",
       "       + \n",
       "         b (x ,x ,x ,x ,x ,x ,x )b   (x ,x ,x ,x ,x ,x ,x )\n",
       "          3  1  2  3  4  5  6  7  2,3  1  2  3  4  5  6  7\n",
       "       + \n",
       "         b (x ,x ,x ,x ,x ,x ,x )b   (x ,x ,x ,x ,x ,x ,x )\n",
       "          4  1  2  3  4  5  6  7  2,4  1  2  3  4  5  6  7\n",
       "       + \n",
       "         b (x ,x ,x ,x ,x ,x ,x )b   (x ,x ,x ,x ,x ,x ,x )\n",
       "          5  1  2  3  4  5  6  7  2,5  1  2  3  4  5  6  7\n",
       "       + \n",
       "         b (x ,x ,x ,x ,x ,x ,x )b   (x ,x ,x ,x ,x ,x ,x )\n",
       "          6  1  2  3  4  5  6  7  2,6  1  2  3  4  5  6  7\n",
       "       + \n",
       "         b (x ,x ,x ,x ,x ,x ,x )b   (x ,x ,x ,x ,x ,x ,x )\n",
       "          7  1  2  3  4  5  6  7  2,7  1  2  3  4  5  6  7\n",
       "       + \n",
       "         b (x ,x ,x ,x ,x ,x ,x )b   (x ,x ,x ,x ,x ,x ,x )\n",
       "          1  1  2  3  4  5  6  7  1,2  1  2  3  4  5  6  7\n",
       "    *\n",
       "       dx\n",
       "         2\n",
       "   + \n",
       "         b (x ,x ,x ,x ,x ,x ,x )b   (x ,x ,x ,x ,x ,x ,x )\n",
       "          7  1  2  3  4  5  6  7  7,1  1  2  3  4  5  6  7\n",
       "       + \n",
       "         b (x ,x ,x ,x ,x ,x ,x )b   (x ,x ,x ,x ,x ,x ,x )\n",
       "          6  1  2  3  4  5  6  7  6,1  1  2  3  4  5  6  7\n",
       "       + \n",
       "         b (x ,x ,x ,x ,x ,x ,x )b   (x ,x ,x ,x ,x ,x ,x )\n",
       "          5  1  2  3  4  5  6  7  5,1  1  2  3  4  5  6  7\n",
       "       + \n",
       "         b (x ,x ,x ,x ,x ,x ,x )b   (x ,x ,x ,x ,x ,x ,x )\n",
       "          4  1  2  3  4  5  6  7  4,1  1  2  3  4  5  6  7\n",
       "       + \n",
       "         b (x ,x ,x ,x ,x ,x ,x )b   (x ,x ,x ,x ,x ,x ,x )\n",
       "          3  1  2  3  4  5  6  7  3,1  1  2  3  4  5  6  7\n",
       "       + \n",
       "         b (x ,x ,x ,x ,x ,x ,x )b   (x ,x ,x ,x ,x ,x ,x )\n",
       "          2  1  2  3  4  5  6  7  2,1  1  2  3  4  5  6  7\n",
       "       + \n",
       "         2b (x ,x ,x ,x ,x ,x ,x )b   (x ,x ,x ,x ,x ,x ,x )\n",
       "           1  1  2  3  4  5  6  7  1,1  1  2  3  4  5  6  7\n",
       "       + \n",
       "         b (x ,x ,x ,x ,x ,x ,x )b   (x ,x ,x ,x ,x ,x ,x )\n",
       "          2  1  2  3  4  5  6  7  1,2  1  2  3  4  5  6  7\n",
       "       + \n",
       "         b (x ,x ,x ,x ,x ,x ,x )b   (x ,x ,x ,x ,x ,x ,x )\n",
       "          3  1  2  3  4  5  6  7  1,3  1  2  3  4  5  6  7\n",
       "       + \n",
       "         b (x ,x ,x ,x ,x ,x ,x )b   (x ,x ,x ,x ,x ,x ,x )\n",
       "          4  1  2  3  4  5  6  7  1,4  1  2  3  4  5  6  7\n",
       "       + \n",
       "         b (x ,x ,x ,x ,x ,x ,x )b   (x ,x ,x ,x ,x ,x ,x )\n",
       "          5  1  2  3  4  5  6  7  1,5  1  2  3  4  5  6  7\n",
       "       + \n",
       "         b (x ,x ,x ,x ,x ,x ,x )b   (x ,x ,x ,x ,x ,x ,x )\n",
       "          6  1  2  3  4  5  6  7  1,6  1  2  3  4  5  6  7\n",
       "       + \n",
       "         b (x ,x ,x ,x ,x ,x ,x )b   (x ,x ,x ,x ,x ,x ,x )\n",
       "          7  1  2  3  4  5  6  7  1,7  1  2  3  4  5  6  7\n",
       "    *\n",
       "       dx\n",
       "         1\n",
       "            Type: DeRhamComplex(Integer,[x[1],x[2],x[3],x[4],x[5],x[6],x[7]])\n"
      ]
     },
     "execution_count": 43,
     "metadata": {},
     "output_type": "execute_result"
    }
   ],
   "source": [
    "-- Lie derivative\n",
    "d interiorProduct(vf,b*dx)$M + interiorProduct(vf,d(b*dx))$M"
   ]
  },
  {
   "cell_type": "code",
   "execution_count": 45,
   "metadata": {
    "collapsed": false
   },
   "outputs": [
    {
     "name": "stdout",
     "output_type": "stream",
     "text": []
    },
    {
     "data": {
      "text/plain": [
       "         b (x ,x ,x ,x ,x ,x ,x )b   (x ,x ,x ,x ,x ,x ,x )\n",
       "          1  1  2  3  4  5  6  7  7,1  1  2  3  4  5  6  7\n",
       "       + \n",
       "         b (x ,x ,x ,x ,x ,x ,x )b   (x ,x ,x ,x ,x ,x ,x )\n",
       "          2  1  2  3  4  5  6  7  7,2  1  2  3  4  5  6  7\n",
       "       + \n",
       "         b (x ,x ,x ,x ,x ,x ,x )b   (x ,x ,x ,x ,x ,x ,x )\n",
       "          3  1  2  3  4  5  6  7  7,3  1  2  3  4  5  6  7\n",
       "       + \n",
       "         b (x ,x ,x ,x ,x ,x ,x )b   (x ,x ,x ,x ,x ,x ,x )\n",
       "          4  1  2  3  4  5  6  7  7,4  1  2  3  4  5  6  7\n",
       "       + \n",
       "         b (x ,x ,x ,x ,x ,x ,x )b   (x ,x ,x ,x ,x ,x ,x )\n",
       "          5  1  2  3  4  5  6  7  7,5  1  2  3  4  5  6  7\n",
       "       + \n",
       "         b (x ,x ,x ,x ,x ,x ,x )b   (x ,x ,x ,x ,x ,x ,x )\n",
       "          6  1  2  3  4  5  6  7  7,6  1  2  3  4  5  6  7\n",
       "       + \n",
       "         2b (x ,x ,x ,x ,x ,x ,x )b   (x ,x ,x ,x ,x ,x ,x )\n",
       "           7  1  2  3  4  5  6  7  7,7  1  2  3  4  5  6  7\n",
       "       + \n",
       "         b (x ,x ,x ,x ,x ,x ,x )b   (x ,x ,x ,x ,x ,x ,x )\n",
       "          6  1  2  3  4  5  6  7  6,7  1  2  3  4  5  6  7\n",
       "       + \n",
       "         b (x ,x ,x ,x ,x ,x ,x )b   (x ,x ,x ,x ,x ,x ,x )\n",
       "          5  1  2  3  4  5  6  7  5,7  1  2  3  4  5  6  7\n",
       "       + \n",
       "         b (x ,x ,x ,x ,x ,x ,x )b   (x ,x ,x ,x ,x ,x ,x )\n",
       "          4  1  2  3  4  5  6  7  4,7  1  2  3  4  5  6  7\n",
       "       + \n",
       "         b (x ,x ,x ,x ,x ,x ,x )b   (x ,x ,x ,x ,x ,x ,x )\n",
       "          3  1  2  3  4  5  6  7  3,7  1  2  3  4  5  6  7\n",
       "       + \n",
       "         b (x ,x ,x ,x ,x ,x ,x )b   (x ,x ,x ,x ,x ,x ,x )\n",
       "          2  1  2  3  4  5  6  7  2,7  1  2  3  4  5  6  7\n",
       "       + \n",
       "         b (x ,x ,x ,x ,x ,x ,x )b   (x ,x ,x ,x ,x ,x ,x )\n",
       "          1  1  2  3  4  5  6  7  1,7  1  2  3  4  5  6  7\n",
       "    *\n",
       "       dx\n",
       "         7\n",
       "   + \n",
       "         b (x ,x ,x ,x ,x ,x ,x )b   (x ,x ,x ,x ,x ,x ,x )\n",
       "          7  1  2  3  4  5  6  7  7,6  1  2  3  4  5  6  7\n",
       "       + \n",
       "         b (x ,x ,x ,x ,x ,x ,x )b   (x ,x ,x ,x ,x ,x ,x )\n",
       "          1  1  2  3  4  5  6  7  6,1  1  2  3  4  5  6  7\n",
       "       + \n",
       "         b (x ,x ,x ,x ,x ,x ,x )b   (x ,x ,x ,x ,x ,x ,x )\n",
       "          2  1  2  3  4  5  6  7  6,2  1  2  3  4  5  6  7\n",
       "       + \n",
       "         b (x ,x ,x ,x ,x ,x ,x )b   (x ,x ,x ,x ,x ,x ,x )\n",
       "          3  1  2  3  4  5  6  7  6,3  1  2  3  4  5  6  7\n",
       "       + \n",
       "         b (x ,x ,x ,x ,x ,x ,x )b   (x ,x ,x ,x ,x ,x ,x )\n",
       "          4  1  2  3  4  5  6  7  6,4  1  2  3  4  5  6  7\n",
       "       + \n",
       "         b (x ,x ,x ,x ,x ,x ,x )b   (x ,x ,x ,x ,x ,x ,x )\n",
       "          5  1  2  3  4  5  6  7  6,5  1  2  3  4  5  6  7\n",
       "       + \n",
       "         2b (x ,x ,x ,x ,x ,x ,x )b   (x ,x ,x ,x ,x ,x ,x )\n",
       "           6  1  2  3  4  5  6  7  6,6  1  2  3  4  5  6  7\n",
       "       + \n",
       "         b (x ,x ,x ,x ,x ,x ,x )b   (x ,x ,x ,x ,x ,x ,x )\n",
       "          7  1  2  3  4  5  6  7  6,7  1  2  3  4  5  6  7\n",
       "       + \n",
       "         b (x ,x ,x ,x ,x ,x ,x )b   (x ,x ,x ,x ,x ,x ,x )\n",
       "          5  1  2  3  4  5  6  7  5,6  1  2  3  4  5  6  7\n",
       "       + \n",
       "         b (x ,x ,x ,x ,x ,x ,x )b   (x ,x ,x ,x ,x ,x ,x )\n",
       "          4  1  2  3  4  5  6  7  4,6  1  2  3  4  5  6  7\n",
       "       + \n",
       "         b (x ,x ,x ,x ,x ,x ,x )b   (x ,x ,x ,x ,x ,x ,x )\n",
       "          3  1  2  3  4  5  6  7  3,6  1  2  3  4  5  6  7\n",
       "       + \n",
       "         b (x ,x ,x ,x ,x ,x ,x )b   (x ,x ,x ,x ,x ,x ,x )\n",
       "          2  1  2  3  4  5  6  7  2,6  1  2  3  4  5  6  7\n",
       "       + \n",
       "         b (x ,x ,x ,x ,x ,x ,x )b   (x ,x ,x ,x ,x ,x ,x )\n",
       "          1  1  2  3  4  5  6  7  1,6  1  2  3  4  5  6  7\n",
       "    *\n",
       "       dx\n",
       "         6\n",
       "   + \n",
       "         b (x ,x ,x ,x ,x ,x ,x )b   (x ,x ,x ,x ,x ,x ,x )\n",
       "          7  1  2  3  4  5  6  7  7,5  1  2  3  4  5  6  7\n",
       "       + \n",
       "         b (x ,x ,x ,x ,x ,x ,x )b   (x ,x ,x ,x ,x ,x ,x )\n",
       "          6  1  2  3  4  5  6  7  6,5  1  2  3  4  5  6  7\n",
       "       + \n",
       "         b (x ,x ,x ,x ,x ,x ,x )b   (x ,x ,x ,x ,x ,x ,x )\n",
       "          1  1  2  3  4  5  6  7  5,1  1  2  3  4  5  6  7\n",
       "       + \n",
       "         b (x ,x ,x ,x ,x ,x ,x )b   (x ,x ,x ,x ,x ,x ,x )\n",
       "          2  1  2  3  4  5  6  7  5,2  1  2  3  4  5  6  7\n",
       "       + \n",
       "         b (x ,x ,x ,x ,x ,x ,x )b   (x ,x ,x ,x ,x ,x ,x )\n",
       "          3  1  2  3  4  5  6  7  5,3  1  2  3  4  5  6  7\n",
       "       + \n",
       "         b (x ,x ,x ,x ,x ,x ,x )b   (x ,x ,x ,x ,x ,x ,x )\n",
       "          4  1  2  3  4  5  6  7  5,4  1  2  3  4  5  6  7\n",
       "       + \n",
       "         2b (x ,x ,x ,x ,x ,x ,x )b   (x ,x ,x ,x ,x ,x ,x )\n",
       "           5  1  2  3  4  5  6  7  5,5  1  2  3  4  5  6  7\n",
       "       + \n",
       "         b (x ,x ,x ,x ,x ,x ,x )b   (x ,x ,x ,x ,x ,x ,x )\n",
       "          6  1  2  3  4  5  6  7  5,6  1  2  3  4  5  6  7\n",
       "       + \n",
       "         b (x ,x ,x ,x ,x ,x ,x )b   (x ,x ,x ,x ,x ,x ,x )\n",
       "          7  1  2  3  4  5  6  7  5,7  1  2  3  4  5  6  7\n",
       "       + \n",
       "         b (x ,x ,x ,x ,x ,x ,x )b   (x ,x ,x ,x ,x ,x ,x )\n",
       "          4  1  2  3  4  5  6  7  4,5  1  2  3  4  5  6  7\n",
       "       + \n",
       "         b (x ,x ,x ,x ,x ,x ,x )b   (x ,x ,x ,x ,x ,x ,x )\n",
       "          3  1  2  3  4  5  6  7  3,5  1  2  3  4  5  6  7\n",
       "       + \n",
       "         b (x ,x ,x ,x ,x ,x ,x )b   (x ,x ,x ,x ,x ,x ,x )\n",
       "          2  1  2  3  4  5  6  7  2,5  1  2  3  4  5  6  7\n",
       "       + \n",
       "         b (x ,x ,x ,x ,x ,x ,x )b   (x ,x ,x ,x ,x ,x ,x )\n",
       "          1  1  2  3  4  5  6  7  1,5  1  2  3  4  5  6  7\n",
       "    *\n",
       "       dx\n",
       "         5\n",
       "   + \n",
       "         b (x ,x ,x ,x ,x ,x ,x )b   (x ,x ,x ,x ,x ,x ,x )\n",
       "          7  1  2  3  4  5  6  7  7,4  1  2  3  4  5  6  7\n",
       "       + \n",
       "         b (x ,x ,x ,x ,x ,x ,x )b   (x ,x ,x ,x ,x ,x ,x )\n",
       "          6  1  2  3  4  5  6  7  6,4  1  2  3  4  5  6  7\n",
       "       + \n",
       "         b (x ,x ,x ,x ,x ,x ,x )b   (x ,x ,x ,x ,x ,x ,x )\n",
       "          5  1  2  3  4  5  6  7  5,4  1  2  3  4  5  6  7\n",
       "       + \n",
       "         b (x ,x ,x ,x ,x ,x ,x )b   (x ,x ,x ,x ,x ,x ,x )\n",
       "          1  1  2  3  4  5  6  7  4,1  1  2  3  4  5  6  7\n",
       "       + \n",
       "         b (x ,x ,x ,x ,x ,x ,x )b   (x ,x ,x ,x ,x ,x ,x )\n",
       "          2  1  2  3  4  5  6  7  4,2  1  2  3  4  5  6  7\n",
       "       + \n",
       "         b (x ,x ,x ,x ,x ,x ,x )b   (x ,x ,x ,x ,x ,x ,x )\n",
       "          3  1  2  3  4  5  6  7  4,3  1  2  3  4  5  6  7\n",
       "       + \n",
       "         2b (x ,x ,x ,x ,x ,x ,x )b   (x ,x ,x ,x ,x ,x ,x )\n",
       "           4  1  2  3  4  5  6  7  4,4  1  2  3  4  5  6  7\n",
       "       + \n",
       "         b (x ,x ,x ,x ,x ,x ,x )b   (x ,x ,x ,x ,x ,x ,x )\n",
       "          5  1  2  3  4  5  6  7  4,5  1  2  3  4  5  6  7\n",
       "       + \n",
       "         b (x ,x ,x ,x ,x ,x ,x )b   (x ,x ,x ,x ,x ,x ,x )\n",
       "          6  1  2  3  4  5  6  7  4,6  1  2  3  4  5  6  7\n",
       "       + \n",
       "         b (x ,x ,x ,x ,x ,x ,x )b   (x ,x ,x ,x ,x ,x ,x )\n",
       "          7  1  2  3  4  5  6  7  4,7  1  2  3  4  5  6  7\n",
       "       + \n",
       "         b (x ,x ,x ,x ,x ,x ,x )b   (x ,x ,x ,x ,x ,x ,x )\n",
       "          3  1  2  3  4  5  6  7  3,4  1  2  3  4  5  6  7\n",
       "       + \n",
       "         b (x ,x ,x ,x ,x ,x ,x )b   (x ,x ,x ,x ,x ,x ,x )\n",
       "          2  1  2  3  4  5  6  7  2,4  1  2  3  4  5  6  7\n",
       "       + \n",
       "         b (x ,x ,x ,x ,x ,x ,x )b   (x ,x ,x ,x ,x ,x ,x )\n",
       "          1  1  2  3  4  5  6  7  1,4  1  2  3  4  5  6  7\n",
       "    *\n",
       "       dx\n",
       "         4\n",
       "   + \n",
       "         b (x ,x ,x ,x ,x ,x ,x )b   (x ,x ,x ,x ,x ,x ,x )\n",
       "          7  1  2  3  4  5  6  7  7,3  1  2  3  4  5  6  7\n",
       "       + \n",
       "         b (x ,x ,x ,x ,x ,x ,x )b   (x ,x ,x ,x ,x ,x ,x )\n",
       "          6  1  2  3  4  5  6  7  6,3  1  2  3  4  5  6  7\n",
       "       + \n",
       "         b (x ,x ,x ,x ,x ,x ,x )b   (x ,x ,x ,x ,x ,x ,x )\n",
       "          5  1  2  3  4  5  6  7  5,3  1  2  3  4  5  6  7\n",
       "       + \n",
       "         b (x ,x ,x ,x ,x ,x ,x )b   (x ,x ,x ,x ,x ,x ,x )\n",
       "          4  1  2  3  4  5  6  7  4,3  1  2  3  4  5  6  7\n",
       "       + \n",
       "         b (x ,x ,x ,x ,x ,x ,x )b   (x ,x ,x ,x ,x ,x ,x )\n",
       "          1  1  2  3  4  5  6  7  3,1  1  2  3  4  5  6  7\n",
       "       + \n",
       "         b (x ,x ,x ,x ,x ,x ,x )b   (x ,x ,x ,x ,x ,x ,x )\n",
       "          2  1  2  3  4  5  6  7  3,2  1  2  3  4  5  6  7\n",
       "       + \n",
       "         2b (x ,x ,x ,x ,x ,x ,x )b   (x ,x ,x ,x ,x ,x ,x )\n",
       "           3  1  2  3  4  5  6  7  3,3  1  2  3  4  5  6  7\n",
       "       + \n",
       "         b (x ,x ,x ,x ,x ,x ,x )b   (x ,x ,x ,x ,x ,x ,x )\n",
       "          4  1  2  3  4  5  6  7  3,4  1  2  3  4  5  6  7\n",
       "       + \n",
       "         b (x ,x ,x ,x ,x ,x ,x )b   (x ,x ,x ,x ,x ,x ,x )\n",
       "          5  1  2  3  4  5  6  7  3,5  1  2  3  4  5  6  7\n",
       "       + \n",
       "         b (x ,x ,x ,x ,x ,x ,x )b   (x ,x ,x ,x ,x ,x ,x )\n",
       "          6  1  2  3  4  5  6  7  3,6  1  2  3  4  5  6  7\n",
       "       + \n",
       "         b (x ,x ,x ,x ,x ,x ,x )b   (x ,x ,x ,x ,x ,x ,x )\n",
       "          7  1  2  3  4  5  6  7  3,7  1  2  3  4  5  6  7\n",
       "       + \n",
       "         b (x ,x ,x ,x ,x ,x ,x )b   (x ,x ,x ,x ,x ,x ,x )\n",
       "          2  1  2  3  4  5  6  7  2,3  1  2  3  4  5  6  7\n",
       "       + \n",
       "         b (x ,x ,x ,x ,x ,x ,x )b   (x ,x ,x ,x ,x ,x ,x )\n",
       "          1  1  2  3  4  5  6  7  1,3  1  2  3  4  5  6  7\n",
       "    *\n",
       "       dx\n",
       "         3\n",
       "   + \n",
       "         b (x ,x ,x ,x ,x ,x ,x )b   (x ,x ,x ,x ,x ,x ,x )\n",
       "          7  1  2  3  4  5  6  7  7,2  1  2  3  4  5  6  7\n",
       "       + \n",
       "         b (x ,x ,x ,x ,x ,x ,x )b   (x ,x ,x ,x ,x ,x ,x )\n",
       "          6  1  2  3  4  5  6  7  6,2  1  2  3  4  5  6  7\n",
       "       + \n",
       "         b (x ,x ,x ,x ,x ,x ,x )b   (x ,x ,x ,x ,x ,x ,x )\n",
       "          5  1  2  3  4  5  6  7  5,2  1  2  3  4  5  6  7\n",
       "       + \n",
       "         b (x ,x ,x ,x ,x ,x ,x )b   (x ,x ,x ,x ,x ,x ,x )\n",
       "          4  1  2  3  4  5  6  7  4,2  1  2  3  4  5  6  7\n",
       "       + \n",
       "         b (x ,x ,x ,x ,x ,x ,x )b   (x ,x ,x ,x ,x ,x ,x )\n",
       "          3  1  2  3  4  5  6  7  3,2  1  2  3  4  5  6  7\n",
       "       + \n",
       "         b (x ,x ,x ,x ,x ,x ,x )b   (x ,x ,x ,x ,x ,x ,x )\n",
       "          1  1  2  3  4  5  6  7  2,1  1  2  3  4  5  6  7\n",
       "       + \n",
       "         2b (x ,x ,x ,x ,x ,x ,x )b   (x ,x ,x ,x ,x ,x ,x )\n",
       "           2  1  2  3  4  5  6  7  2,2  1  2  3  4  5  6  7\n",
       "       + \n",
       "         b (x ,x ,x ,x ,x ,x ,x )b   (x ,x ,x ,x ,x ,x ,x )\n",
       "          3  1  2  3  4  5  6  7  2,3  1  2  3  4  5  6  7\n",
       "       + \n",
       "         b (x ,x ,x ,x ,x ,x ,x )b   (x ,x ,x ,x ,x ,x ,x )\n",
       "          4  1  2  3  4  5  6  7  2,4  1  2  3  4  5  6  7\n",
       "       + \n",
       "         b (x ,x ,x ,x ,x ,x ,x )b   (x ,x ,x ,x ,x ,x ,x )\n",
       "          5  1  2  3  4  5  6  7  2,5  1  2  3  4  5  6  7\n",
       "       + \n",
       "         b (x ,x ,x ,x ,x ,x ,x )b   (x ,x ,x ,x ,x ,x ,x )\n",
       "          6  1  2  3  4  5  6  7  2,6  1  2  3  4  5  6  7\n",
       "       + \n",
       "         b (x ,x ,x ,x ,x ,x ,x )b   (x ,x ,x ,x ,x ,x ,x )\n",
       "          7  1  2  3  4  5  6  7  2,7  1  2  3  4  5  6  7\n",
       "       + \n",
       "         b (x ,x ,x ,x ,x ,x ,x )b   (x ,x ,x ,x ,x ,x ,x )\n",
       "          1  1  2  3  4  5  6  7  1,2  1  2  3  4  5  6  7\n",
       "    *\n",
       "       dx\n",
       "         2\n",
       "   + \n",
       "         b (x ,x ,x ,x ,x ,x ,x )b   (x ,x ,x ,x ,x ,x ,x )\n",
       "          7  1  2  3  4  5  6  7  7,1  1  2  3  4  5  6  7\n",
       "       + \n",
       "         b (x ,x ,x ,x ,x ,x ,x )b   (x ,x ,x ,x ,x ,x ,x )\n",
       "          6  1  2  3  4  5  6  7  6,1  1  2  3  4  5  6  7\n",
       "       + \n",
       "         b (x ,x ,x ,x ,x ,x ,x )b   (x ,x ,x ,x ,x ,x ,x )\n",
       "          5  1  2  3  4  5  6  7  5,1  1  2  3  4  5  6  7\n",
       "       + \n",
       "         b (x ,x ,x ,x ,x ,x ,x )b   (x ,x ,x ,x ,x ,x ,x )\n",
       "          4  1  2  3  4  5  6  7  4,1  1  2  3  4  5  6  7\n",
       "       + \n",
       "         b (x ,x ,x ,x ,x ,x ,x )b   (x ,x ,x ,x ,x ,x ,x )\n",
       "          3  1  2  3  4  5  6  7  3,1  1  2  3  4  5  6  7\n",
       "       + \n",
       "         b (x ,x ,x ,x ,x ,x ,x )b   (x ,x ,x ,x ,x ,x ,x )\n",
       "          2  1  2  3  4  5  6  7  2,1  1  2  3  4  5  6  7\n",
       "       + \n",
       "         2b (x ,x ,x ,x ,x ,x ,x )b   (x ,x ,x ,x ,x ,x ,x )\n",
       "           1  1  2  3  4  5  6  7  1,1  1  2  3  4  5  6  7\n",
       "       + \n",
       "         b (x ,x ,x ,x ,x ,x ,x )b   (x ,x ,x ,x ,x ,x ,x )\n",
       "          2  1  2  3  4  5  6  7  1,2  1  2  3  4  5  6  7\n",
       "       + \n",
       "         b (x ,x ,x ,x ,x ,x ,x )b   (x ,x ,x ,x ,x ,x ,x )\n",
       "          3  1  2  3  4  5  6  7  1,3  1  2  3  4  5  6  7\n",
       "       + \n",
       "         b (x ,x ,x ,x ,x ,x ,x )b   (x ,x ,x ,x ,x ,x ,x )\n",
       "          4  1  2  3  4  5  6  7  1,4  1  2  3  4  5  6  7\n",
       "       + \n",
       "         b (x ,x ,x ,x ,x ,x ,x )b   (x ,x ,x ,x ,x ,x ,x )\n",
       "          5  1  2  3  4  5  6  7  1,5  1  2  3  4  5  6  7\n",
       "       + \n",
       "         b (x ,x ,x ,x ,x ,x ,x )b   (x ,x ,x ,x ,x ,x ,x )\n",
       "          6  1  2  3  4  5  6  7  1,6  1  2  3  4  5  6  7\n",
       "       + \n",
       "         b (x ,x ,x ,x ,x ,x ,x )b   (x ,x ,x ,x ,x ,x ,x )\n",
       "          7  1  2  3  4  5  6  7  1,7  1  2  3  4  5  6  7\n",
       "    *\n",
       "       dx\n",
       "         1\n",
       "            Type: DeRhamComplex(Integer,[x[1],x[2],x[3],x[4],x[5],x[6],x[7]])\n"
      ]
     },
     "execution_count": 45,
     "metadata": {},
     "output_type": "execute_result"
    }
   ],
   "source": [
    "lieDerivative(vf,b*dx)$M"
   ]
  },
  {
   "cell_type": "code",
   "execution_count": 46,
   "metadata": {
    "collapsed": false
   },
   "outputs": [
    {
     "data": {
      "text/plain": []
     },
     "execution_count": 46,
     "metadata": {},
     "output_type": "execute_result"
    }
   ],
   "source": [
    "-- Version 1.2\n",
    ")clear values n R v M x xs dx a b c p g h P vf"
   ]
  },
  {
   "cell_type": "code",
   "execution_count": 47,
   "metadata": {
    "collapsed": false
   },
   "outputs": [
    {
     "data": {
      "text/plain": [
       "   4\n",
       "                                                        Type: PositiveInteger\n"
      ]
     },
     "execution_count": 47,
     "metadata": {},
     "output_type": "execute_result"
    }
   ],
   "source": [
    "n:=4 -- dim of base space (n>=2 !)"
   ]
  },
  {
   "cell_type": "code",
   "execution_count": 48,
   "metadata": {
    "collapsed": false
   },
   "outputs": [
    {
     "data": {
      "text/plain": [
       "                                                                   Type: Void\n",
       "   Integer\n",
       "                                                                   Type: Type\n",
       "   [x ,x ,x ,x ]\n",
       "     1  2  3  4\n",
       "                                                           Type: List(Symbol)\n",
       "   DifferentialForms(Integer,[x[1],x[2],x[3],x[4]])\n",
       "                                                                   Type: Type\n"
      ]
     },
     "execution_count": 48,
     "metadata": {},
     "output_type": "execute_result"
    }
   ],
   "source": [
    "O ==> OutputForm\n",
    "\n",
    "-- HodgeStar package for DERHAM(R,v)\n",
    "R:=Integer  -- Ring\n",
    "v:=[subscript(x,[j::OutputForm]) for j in 1..n] -- (x_1,..,x_n)\n",
    "M:=DFORM(R,v)"
   ]
  },
  {
   "cell_type": "code",
   "execution_count": 49,
   "metadata": {
    "collapsed": false
   },
   "outputs": [
    {
     "data": {
      "text/plain": [
       "   [dx ,dx ,dx ,dx ]\n",
       "      1   2   3   4\n",
       "                     Type: List(DeRhamComplex(Integer,[x[1],x[2],x[3],x[4]]))\n",
       "   [x ,x ,x ,x ]\n",
       "     1  2  3  4\n",
       "                                              Type: List(Expression(Integer))\n",
       "   [x ,x ,x ,x ]\n",
       "     1  2  3  4\n",
       "                                                           Type: List(Symbol)\n"
      ]
     },
     "execution_count": 49,
     "metadata": {},
     "output_type": "execute_result"
    }
   ],
   "source": [
    "-- basis 1-forms and coordinate vector\n",
    "dx:=baseForms()$M     -- [dx[1],...,dx[n]]\n",
    "x:=coordVector()$M    -- [x[1],...,x[n]]\n",
    "xs:=coordSymbols()$M  -- as above but as List Symbol (for differentiate, D)"
   ]
  },
  {
   "cell_type": "code",
   "execution_count": 50,
   "metadata": {
    "collapsed": false
   },
   "outputs": [
    {
     "data": {
      "text/plain": [
       "   a\n",
       "                                                          Type: BasicOperator\n",
       "   [b (x ,x ,x ,x ),b (x ,x ,x ,x ),b (x ,x ,x ,x ),b (x ,x ,x ,x )]\n",
       "     1  1  2  3  4   2  1  2  3  4   3  1  2  3  4   4  1  2  3  4\n",
       "                                              Type: List(Expression(Integer))\n",
       "   [c (x ,x ,x ,x ),c (x ,x ,x ,x ),c (x ,x ,x ,x ),c (x ,x ,x ,x )]\n",
       "     1  1  2  3  4   2  1  2  3  4   3  1  2  3  4   4  1  2  3  4\n",
       "                                              Type: List(Expression(Integer))\n",
       "   P(x ,x ,x ,x )\n",
       "      1  2  3  4\n",
       "                                                    Type: Expression(Integer)\n"
      ]
     },
     "execution_count": 50,
     "metadata": {},
     "output_type": "execute_result"
    }
   ],
   "source": [
    "-- operator, vector field, scalar field, symbol\n",
    "a:=operator 'a         -- operator\n",
    "b:=vectorField(b)$M    -- generic vector field [b1(x1..xn),...,bn(x1..xn)]\n",
    "c:=vectorField(c)$M\n",
    "P:=scalarField(P)$M -- scalar field P(x1,..,xn)\n"
   ]
  },
  {
   "cell_type": "code",
   "execution_count": 51,
   "metadata": {
    "collapsed": false
   },
   "outputs": [
    {
     "data": {
      "text/plain": [
       "   +1  0  0  0+\n",
       "   |          |\n",
       "   |0  1  0  0|\n",
       "   |          |\n",
       "   |0  0  1  0|\n",
       "   |          |\n",
       "   +0  0  0  1+\n",
       "                                    Type: SquareMatrix(4,Expression(Integer))\n",
       "   +c (x ,x ,x ,x )         0                0                0       +\n",
       "   | 1  1  2  3  4                                                    |\n",
       "   |                                                                  |\n",
       "   |       0         c (x ,x ,x ,x )         0                0       |\n",
       "   |                  2  1  2  3  4                                   |\n",
       "   |                                                                  |\n",
       "   |       0                0         c (x ,x ,x ,x )         0       |\n",
       "   |                                   3  1  2  3  4                  |\n",
       "   |                                                                  |\n",
       "   |       0                0                0         c (x ,x ,x ,x )|\n",
       "   +                                                    4  1  2  3  4 +\n",
       "                                    Type: SquareMatrix(4,Expression(Integer))\n",
       "   +1   0    0    0 +\n",
       "   |                |\n",
       "   |0  - 1   0    0 |\n",
       "   |                |\n",
       "   |0   0   - 1   0 |\n",
       "   |                |\n",
       "   +0   0    0   - 1+\n",
       "                                    Type: SquareMatrix(4,Expression(Integer))\n"
      ]
     },
     "execution_count": 51,
     "metadata": {},
     "output_type": "execute_result"
    }
   ],
   "source": [
    "-- metric\n",
    "g:=diagonalMatrix([1 for i in 1..n])$SquareMatrix(n,EXPR R)  -- Euclidean\n",
    "h:=diagonalMatrix(c)$SquareMatrix(n,EXPR R)\n",
    "eta:=diagonalMatrix(concat(1,[-1 for i in 2..n]))$SquareMatrix(n,EXPR R)"
   ]
  },
  {
   "cell_type": "code",
   "execution_count": 52,
   "metadata": {
    "collapsed": false
   },
   "outputs": [
    {
     "data": {
      "text/plain": [
       "   [b (x ,x ,x ,x ),b (x ,x ,x ,x ),b (x ,x ,x ,x ),b (x ,x ,x ,x )]\n",
       "     1  1  2  3  4   2  1  2  3  4   3  1  2  3  4   4  1  2  3  4\n",
       "                                            Type: Vector(Expression(Integer))\n"
      ]
     },
     "execution_count": 52,
     "metadata": {},
     "output_type": "execute_result"
    }
   ],
   "source": [
    "-- vector field\n",
    "vf:=vector b"
   ]
  },
  {
   "cell_type": "code",
   "execution_count": 53,
   "metadata": {
    "collapsed": false
   },
   "outputs": [
    {
     "data": {
      "text/plain": [
       "                                                                   Type: Void\n",
       "                                                                   Type: Void\n",
       "                                                                   Type: Void\n",
       "                                                                   Type: Void\n"
      ]
     },
     "execution_count": 53,
     "metadata": {},
     "output_type": "execute_result"
    }
   ],
   "source": [
    "-- macros\n",
    "dV(g) ==> volumeForm(g)$M\n",
    "i(X,w) ==> interiorProduct(X,w)$M\n",
    "L(X,w) ==> lieDerivative(X,w)$M\n",
    "** w ==> hodgeStar(g,w)$M"
   ]
  },
  {
   "cell_type": "code",
   "execution_count": 54,
   "metadata": {
    "collapsed": false
   },
   "outputs": [
    {
     "data": {
      "text/plain": [
       "   x dx  - x dx\n",
       "    1  2    2  1\n",
       "                           Type: DeRhamComplex(Integer,[x[1],x[2],x[3],x[4]])\n"
      ]
     },
     "execution_count": 54,
     "metadata": {},
     "output_type": "execute_result"
    }
   ],
   "source": [
    "w:=x.1*dx.2-x.2*dx.1"
   ]
  },
  {
   "cell_type": "code",
   "execution_count": 55,
   "metadata": {
    "collapsed": false
   },
   "outputs": [
    {
     "data": {
      "text/plain": [
       "   2dx dx\n",
       "      1  2\n",
       "                           Type: DeRhamComplex(Integer,[x[1],x[2],x[3],x[4]])\n"
      ]
     },
     "execution_count": 55,
     "metadata": {},
     "output_type": "execute_result"
    }
   ],
   "source": [
    "d w"
   ]
  },
  {
   "cell_type": "code",
   "execution_count": 56,
   "metadata": {
    "collapsed": false
   },
   "outputs": [
    {
     "data": {
      "text/plain": [
       "   0\n",
       "                           Type: DeRhamComplex(Integer,[x[1],x[2],x[3],x[4]])\n"
      ]
     },
     "execution_count": 56,
     "metadata": {},
     "output_type": "execute_result"
    }
   ],
   "source": [
    "w * w"
   ]
  },
  {
   "cell_type": "code",
   "execution_count": 57,
   "metadata": {
    "collapsed": false
   },
   "outputs": [
    {
     "data": {
      "text/plain": [
       "   x b (x ,x ,x ,x ) - x b (x ,x ,x ,x )\n",
       "    1 2  1  2  3  4     2 1  1  2  3  4\n",
       "                           Type: DeRhamComplex(Integer,[x[1],x[2],x[3],x[4]])\n"
      ]
     },
     "execution_count": 57,
     "metadata": {},
     "output_type": "execute_result"
    }
   ],
   "source": [
    "i(vf,w)"
   ]
  },
  {
   "cell_type": "code",
   "execution_count": 58,
   "metadata": {
    "collapsed": false
   },
   "outputs": [
    {
     "name": "stdout",
     "output_type": "stream",
     "text": []
    },
    {
     "data": {
      "text/plain": [
       "     (x b   (x ,x ,x ,x ) - x b   (x ,x ,x ,x ))dx\n",
       "       1 2,4  1  2  3  4     2 1,4  1  2  3  4    4\n",
       "   + \n",
       "     (x b   (x ,x ,x ,x ) - x b   (x ,x ,x ,x ))dx\n",
       "       1 2,3  1  2  3  4     2 1,3  1  2  3  4    3\n",
       "   + \n",
       "     (x b   (x ,x ,x ,x ) - x b   (x ,x ,x ,x ) + b (x ,x ,x ,x ))dx\n",
       "       1 2,2  1  2  3  4     2 1,2  1  2  3  4     1  1  2  3  4    2\n",
       "   + \n",
       "     (x b   (x ,x ,x ,x ) - x b   (x ,x ,x ,x ) - b (x ,x ,x ,x ))dx\n",
       "       1 2,1  1  2  3  4     2 1,1  1  2  3  4     2  1  2  3  4    1\n",
       "                           Type: DeRhamComplex(Integer,[x[1],x[2],x[3],x[4]])\n"
      ]
     },
     "execution_count": 58,
     "metadata": {},
     "output_type": "execute_result"
    }
   ],
   "source": [
    "L(vf,w)"
   ]
  },
  {
   "cell_type": "code",
   "execution_count": 59,
   "metadata": {
    "collapsed": false
   },
   "outputs": [
    {
     "data": {
      "text/plain": [
       "   0\n",
       "                           Type: DeRhamComplex(Integer,[x[1],x[2],x[3],x[4]])\n"
      ]
     },
     "execution_count": 59,
     "metadata": {},
     "output_type": "execute_result"
    }
   ],
   "source": [
    "d i(vf,w) + i(vf,d w) - L(vf,w)"
   ]
  },
  {
   "cell_type": "code",
   "execution_count": 60,
   "metadata": {
    "collapsed": false
   },
   "outputs": [
    {
     "data": {
      "text/plain": [
       "     2     2\n",
       "   x   + x\n",
       "    2     1\n",
       "                                                    Type: Expression(Integer)\n"
      ]
     },
     "execution_count": 60,
     "metadata": {},
     "output_type": "execute_result"
    }
   ],
   "source": [
    "dot(g,w,w)$M "
   ]
  },
  {
   "cell_type": "code",
   "execution_count": 61,
   "metadata": {
    "collapsed": false
   },
   "outputs": [
    {
     "name": "stdout",
     "output_type": "stream",
     "text": []
    },
    {
     "data": {
      "text/plain": [
       "       b   (x ,x ,x ,x ) + b   (x ,x ,x ,x ) + b   (x ,x ,x ,x )\n",
       "        4,4  1  2  3  4     3,3  1  2  3  4     2,2  1  2  3  4\n",
       "     + \n",
       "       b   (x ,x ,x ,x )\n",
       "        1,1  1  2  3  4\n",
       "  *\n",
       "     dx dx dx dx\n",
       "       1  2  3  4\n",
       "                           Type: DeRhamComplex(Integer,[x[1],x[2],x[3],x[4]])\n"
      ]
     },
     "execution_count": 61,
     "metadata": {},
     "output_type": "execute_result"
    }
   ],
   "source": [
    "-- div(b) dV\n",
    "d i(vf,dV(g)) "
   ]
  },
  {
   "cell_type": "code",
   "execution_count": 62,
   "metadata": {
    "collapsed": false
   },
   "outputs": [
    {
     "name": "stdout",
     "output_type": "stream",
     "text": []
    },
    {
     "data": {
      "text/plain": [
       "     P  (x ,x ,x ,x )dx  + P  (x ,x ,x ,x )dx  + P  (x ,x ,x ,x )dx\n",
       "      ,4  1  2  3  4   4    ,3  1  2  3  4   3    ,2  1  2  3  4   2\n",
       "   + \n",
       "     P  (x ,x ,x ,x )dx\n",
       "      ,1  1  2  3  4   1\n",
       "                           Type: DeRhamComplex(Integer,[x[1],x[2],x[3],x[4]])\n"
      ]
     },
     "execution_count": 62,
     "metadata": {},
     "output_type": "execute_result"
    }
   ],
   "source": [
    "d (P*one()$M)"
   ]
  },
  {
   "cell_type": "code",
   "execution_count": 63,
   "metadata": {
    "collapsed": false
   },
   "outputs": [
    {
     "name": "stdout",
     "output_type": "stream",
     "text": []
    },
    {
     "data": {
      "text/plain": [
       "     b (x ,x ,x ,x )P  (x ,x ,x ,x ) + b (x ,x ,x ,x )P  (x ,x ,x ,x )\n",
       "      1  1  2  3  4  ,1  1  2  3  4     2  1  2  3  4  ,2  1  2  3  4\n",
       "   + \n",
       "     b (x ,x ,x ,x )P  (x ,x ,x ,x ) + b (x ,x ,x ,x )P  (x ,x ,x ,x )\n",
       "      3  1  2  3  4  ,3  1  2  3  4     4  1  2  3  4  ,4  1  2  3  4\n",
       "                           Type: DeRhamComplex(Integer,[x[1],x[2],x[3],x[4]])\n"
      ]
     },
     "execution_count": 63,
     "metadata": {},
     "output_type": "execute_result"
    }
   ],
   "source": [
    "i(vf,d (P*one()$M))"
   ]
  },
  {
   "cell_type": "code",
   "execution_count": 64,
   "metadata": {
    "collapsed": false
   },
   "outputs": [
    {
     "data": {
      "text/plain": [
       "       x               x\n",
       "        1               2\n",
       "   --------- dx  - --------- dx\n",
       "     2     2   2     2     2   1\n",
       "   x   + x         x   + x\n",
       "    2     1         2     1\n",
       "                           Type: DeRhamComplex(Integer,[x[1],x[2],x[3],x[4]])\n"
      ]
     },
     "execution_count": 64,
     "metadata": {},
     "output_type": "execute_result"
    }
   ],
   "source": [
    "1/dot(g,w,w)$M*w "
   ]
  },
  {
   "cell_type": "code",
   "execution_count": 65,
   "metadata": {
    "collapsed": false
   },
   "outputs": [
    {
     "data": {
      "text/plain": [
       "   0\n",
       "                           Type: DeRhamComplex(Integer,[x[1],x[2],x[3],x[4]])\n"
      ]
     },
     "execution_count": 65,
     "metadata": {},
     "output_type": "execute_result"
    }
   ],
   "source": [
    "d (1/dot(g,w,w)$M*w) "
   ]
  },
  {
   "cell_type": "code",
   "execution_count": 66,
   "metadata": {
    "collapsed": false
   },
   "outputs": [
    {
     "data": {
      "text/plain": [
       "   s(x ,x ,x ,x )\n",
       "      1  2  3  4\n",
       "                           Type: DeRhamComplex(Integer,[x[1],x[2],x[3],x[4]])\n"
      ]
     },
     "execution_count": 66,
     "metadata": {},
     "output_type": "execute_result"
    }
   ],
   "source": [
    "s:=zeroForm('s)$M"
   ]
  },
  {
   "cell_type": "code",
   "execution_count": 67,
   "metadata": {
    "collapsed": false
   },
   "outputs": [
    {
     "name": "stdout",
     "output_type": "stream",
     "text": []
    },
    {
     "data": {
      "text/plain": [
       "     s  (x ,x ,x ,x )dx  + s  (x ,x ,x ,x )dx  + s  (x ,x ,x ,x )dx\n",
       "      ,4  1  2  3  4   4    ,3  1  2  3  4   3    ,2  1  2  3  4   2\n",
       "   + \n",
       "     s  (x ,x ,x ,x )dx\n",
       "      ,1  1  2  3  4   1\n",
       "                           Type: DeRhamComplex(Integer,[x[1],x[2],x[3],x[4]])\n"
      ]
     },
     "execution_count": 67,
     "metadata": {},
     "output_type": "execute_result"
    }
   ],
   "source": [
    "d s"
   ]
  },
  {
   "cell_type": "code",
   "execution_count": 68,
   "metadata": {
    "collapsed": false
   },
   "outputs": [
    {
     "data": {
      "text/plain": [
       "   0\n",
       "                           Type: DeRhamComplex(Integer,[x[1],x[2],x[3],x[4]])\n"
      ]
     },
     "execution_count": 68,
     "metadata": {},
     "output_type": "execute_result"
    }
   ],
   "source": [
    "d (** s)"
   ]
  },
  {
   "cell_type": "code",
   "execution_count": 69,
   "metadata": {
    "collapsed": false
   },
   "outputs": [
    {
     "data": {
      "text/plain": [
       "   x s  (x ,x ,x ,x )\n",
       "    2 ,4  1  2  3  4\n",
       "                                                    Type: Expression(Integer)\n"
      ]
     },
     "execution_count": 69,
     "metadata": {},
     "output_type": "execute_result"
    }
   ],
   "source": [
    "dot(g,** ( d s),w*dx.2*dx.3)$M"
   ]
  },
  {
   "cell_type": "code",
   "execution_count": 70,
   "metadata": {
    "collapsed": false
   },
   "outputs": [
    {
     "name": "stdout",
     "output_type": "stream",
     "text": []
    },
    {
     "data": {
      "text/plain": [
       "       s    (x ,x ,x ,x ) + s    (x ,x ,x ,x ) + s    (x ,x ,x ,x )\n",
       "        ,1,1  1  2  3  4     ,2,2  1  2  3  4     ,3,3  1  2  3  4\n",
       "     + \n",
       "       s    (x ,x ,x ,x )\n",
       "        ,4,4  1  2  3  4\n",
       "  *\n",
       "     dx dx dx dx\n",
       "       1  2  3  4\n",
       "                           Type: DeRhamComplex(Integer,[x[1],x[2],x[3],x[4]])\n"
      ]
     },
     "execution_count": 70,
     "metadata": {},
     "output_type": "execute_result"
    }
   ],
   "source": [
    "d (** ( d s))"
   ]
  },
  {
   "cell_type": "code",
   "execution_count": 71,
   "metadata": {
    "collapsed": false
   },
   "outputs": [
    {
     "data": {
      "text/plain": [
       "   sin(x x )\n",
       "        1 2\n",
       "                           Type: DeRhamComplex(Integer,[x[1],x[2],x[3],x[4]])\n"
      ]
     },
     "execution_count": 71,
     "metadata": {},
     "output_type": "execute_result"
    }
   ],
   "source": [
    "r:=sin(x.1*x.2)*one()$M"
   ]
  },
  {
   "cell_type": "code",
   "execution_count": 72,
   "metadata": {
    "collapsed": false
   },
   "outputs": [
    {
     "data": {
      "text/plain": [
       "   x cos(x x )dx  + x cos(x x )dx\n",
       "    1     1 2   2    2     1 2   1\n",
       "                           Type: DeRhamComplex(Integer,[x[1],x[2],x[3],x[4]])\n"
      ]
     },
     "execution_count": 72,
     "metadata": {},
     "output_type": "execute_result"
    }
   ],
   "source": [
    "d r"
   ]
  },
  {
   "cell_type": "code",
   "execution_count": 73,
   "metadata": {
    "collapsed": false
   },
   "outputs": [
    {
     "data": {
      "text/plain": [
       "        2     2\n",
       "   (- x   - x  )sin(x x )dx dx dx dx\n",
       "       2     1       1 2   1  2  3  4\n",
       "                           Type: DeRhamComplex(Integer,[x[1],x[2],x[3],x[4]])\n"
      ]
     },
     "execution_count": 73,
     "metadata": {},
     "output_type": "execute_result"
    }
   ],
   "source": [
    "d (** ( d r))"
   ]
  },
  {
   "cell_type": "code",
   "execution_count": 74,
   "metadata": {
    "collapsed": false
   },
   "outputs": [
    {
     "data": {
      "text/plain": [
       "        2     2\n",
       "   (- x   - x  )sin(x x )\n",
       "       2     1       1 2\n",
       "                           Type: DeRhamComplex(Integer,[x[1],x[2],x[3],x[4]])\n"
      ]
     },
     "execution_count": 74,
     "metadata": {},
     "output_type": "execute_result"
    }
   ],
   "source": [
    "** (d (** ( d r)))"
   ]
  },
  {
   "cell_type": "code",
   "execution_count": 75,
   "metadata": {
    "collapsed": false
   },
   "outputs": [
    {
     "data": {
      "text/plain": [
       "        2     2\n",
       "   (- x   - x  )sin(x x )\n",
       "       2     1       1 2\n",
       "                                                    Type: Expression(Integer)\n"
      ]
     },
     "execution_count": 75,
     "metadata": {},
     "output_type": "execute_result"
    }
   ],
   "source": [
    "** (d (** ( d r)))::EXPR INT"
   ]
  },
  {
   "cell_type": "code",
   "execution_count": 76,
   "metadata": {
    "collapsed": false
   },
   "outputs": [
    {
     "data": {
      "text/plain": [
       "         2     2\n",
       "   (- %pi  - x  )sin(x %pi)\n",
       "              2       2\n",
       "                                                    Type: Expression(Integer)\n"
      ]
     },
     "execution_count": 76,
     "metadata": {},
     "output_type": "execute_result"
    }
   ],
   "source": [
    "eval(** (d (** ( d r)))::EXPR INT,xs.1=%pi)"
   ]
  },
  {
   "cell_type": "code",
   "execution_count": 77,
   "metadata": {
    "collapsed": false
   },
   "outputs": [
    {
     "data": {
      "text/plain": [
       "         2       2\n",
       "   - 2%pi sin(%pi )\n",
       "                                                    Type: Expression(Integer)\n"
      ]
     },
     "execution_count": 77,
     "metadata": {},
     "output_type": "execute_result"
    }
   ],
   "source": [
    "eval(eval(** (d (** ( d r)))::EXPR INT,xs.1=%pi) ,xs.2=%pi)"
   ]
  },
  {
   "cell_type": "code",
   "execution_count": 78,
   "metadata": {
    "collapsed": false
   },
   "outputs": [
    {
     "data": {
      "text/plain": [
       "   a(P(x ,x ,x ,x ))\n",
       "        1  2  3  4\n",
       "                           Type: DeRhamComplex(Integer,[x[1],x[2],x[3],x[4]])\n"
      ]
     },
     "execution_count": 78,
     "metadata": {},
     "output_type": "execute_result"
    }
   ],
   "source": [
    "a(P)*one()$M\n",
    "-- chain diff"
   ]
  },
  {
   "cell_type": "code",
   "execution_count": 79,
   "metadata": {
    "collapsed": false
   },
   "outputs": [
    {
     "name": "stdout",
     "output_type": "stream",
     "text": []
    },
    {
     "data": {
      "text/plain": [
       "                      ,\n",
       "     P  (x ,x ,x ,x )a (P(x ,x ,x ,x ))dx\n",
       "      ,4  1  2  3  4       1  2  3  4    4\n",
       "   + \n",
       "                      ,\n",
       "     P  (x ,x ,x ,x )a (P(x ,x ,x ,x ))dx\n",
       "      ,3  1  2  3  4       1  2  3  4    3\n",
       "   + \n",
       "                    ,                                       ,\n",
       "   P  (x ,x ,x ,x )a (P(x ,x ,x ,x ))dx  + P  (x ,x ,x ,x )a (P(x ,x ,x ,x ))dx\n",
       "    ,2  1  2  3  4       1  2  3  4    2    ,1  1  2  3  4       1  2  3  4    1\n",
       "                           Type: DeRhamComplex(Integer,[x[1],x[2],x[3],x[4]])\n"
      ]
     },
     "execution_count": 79,
     "metadata": {},
     "output_type": "execute_result"
    }
   ],
   "source": [
    "d (a(P)*one()$M) "
   ]
  },
  {
   "cell_type": "code",
   "execution_count": 80,
   "metadata": {
    "collapsed": false
   },
   "outputs": [
    {
     "data": {
      "text/plain": [
       "   x dx  - x dx\n",
       "    1  2    2  1\n",
       "                           Type: DeRhamComplex(Integer,[x[1],x[2],x[3],x[4]])\n"
      ]
     },
     "execution_count": 80,
     "metadata": {},
     "output_type": "execute_result"
    }
   ],
   "source": [
    "** invHodgeStar(g,w)$M"
   ]
  },
  {
   "cell_type": "code",
   "execution_count": 81,
   "metadata": {
    "collapsed": false
   },
   "outputs": [
    {
     "data": {
      "text/plain": [
       "   x dx  - x dx\n",
       "    1  2    2  1\n",
       "                           Type: DeRhamComplex(Integer,[x[1],x[2],x[3],x[4]])\n"
      ]
     },
     "execution_count": 81,
     "metadata": {},
     "output_type": "execute_result"
    }
   ],
   "source": [
    "invHodgeStar(g,** w)$M"
   ]
  },
  {
   "cell_type": "code",
   "execution_count": 82,
   "metadata": {
    "collapsed": false
   },
   "outputs": [
    {
     "data": {
      "text/plain": [
       "   - x dx dx dx  + dx  - x dx dx dx\n",
       "      2  2  3  4     1    1  1  3  4\n",
       "                           Type: DeRhamComplex(Integer,[x[1],x[2],x[3],x[4]])\n"
      ]
     },
     "execution_count": 82,
     "metadata": {},
     "output_type": "execute_result"
    }
   ],
   "source": [
    "** invHodgeStar(g,** w + dx.1)$M"
   ]
  },
  {
   "cell_type": "code",
   "execution_count": 83,
   "metadata": {
    "collapsed": false
   },
   "outputs": [
    {
     "data": {
      "text/plain": [
       "   1\n",
       "                           Type: DeRhamComplex(Integer,[x[1],x[2],x[3],x[4]])\n"
      ]
     },
     "execution_count": 83,
     "metadata": {},
     "output_type": "execute_result"
    }
   ],
   "source": [
    " ** dV(g)"
   ]
  },
  {
   "cell_type": "code",
   "execution_count": 84,
   "metadata": {
    "collapsed": false
   },
   "outputs": [
    {
     "data": {
      "text/plain": [
       "    +-----------------------------------------------------------------+\n",
       "    |abs(c (x ,x ,x ,x )c (x ,x ,x ,x )c (x ,x ,x ,x )c (x ,x ,x ,x ))\n",
       "   \\|     1  1  2  3  4  2  1  2  3  4  3  1  2  3  4  4  1  2  3  4\n",
       "                           Type: DeRhamComplex(Integer,[x[1],x[2],x[3],x[4]])\n"
      ]
     },
     "execution_count": 84,
     "metadata": {},
     "output_type": "execute_result"
    }
   ],
   "source": [
    "** dV(h) "
   ]
  },
  {
   "cell_type": "code",
   "execution_count": 85,
   "metadata": {
    "collapsed": false
   },
   "outputs": [
    {
     "data": {
      "text/plain": [
       "     2                    2\n",
       "   x  c (x ,x ,x ,x ) + x  c (x ,x ,x ,x )\n",
       "    2  2  1  2  3  4     1  1  1  2  3  4\n",
       "   ---------------------------------------\n",
       "        c (x ,x ,x ,x )c (x ,x ,x ,x )\n",
       "         1  1  2  3  4  2  1  2  3  4\n",
       "                                                    Type: Expression(Integer)\n"
      ]
     },
     "execution_count": 85,
     "metadata": {},
     "output_type": "execute_result"
    }
   ],
   "source": [
    " dot(h,w,w)$M"
   ]
  },
  {
   "cell_type": "code",
   "execution_count": 86,
   "metadata": {
    "collapsed": false
   },
   "outputs": [
    {
     "data": {
      "text/plain": [
       "   1\n",
       "                                                    Type: Expression(Integer)\n"
      ]
     },
     "execution_count": 86,
     "metadata": {},
     "output_type": "execute_result"
    }
   ],
   "source": [
    "s(g)$M"
   ]
  },
  {
   "cell_type": "code",
   "execution_count": 87,
   "metadata": {
    "collapsed": false
   },
   "outputs": [
    {
     "data": {
      "text/plain": [
       "   - 1\n",
       "                                                    Type: Expression(Integer)\n"
      ]
     },
     "execution_count": 87,
     "metadata": {},
     "output_type": "execute_result"
    }
   ],
   "source": [
    "s(eta)$M"
   ]
  },
  {
   "cell_type": "code",
   "execution_count": 88,
   "metadata": {
    "collapsed": false
   },
   "outputs": [
    {
     "data": {
      "text/plain": [
       "   s?\n",
       "                                                    Type: Expression(Integer)\n"
      ]
     },
     "execution_count": 88,
     "metadata": {},
     "output_type": "execute_result"
    }
   ],
   "source": [
    "s(h)$M"
   ]
  },
  {
   "cell_type": "code",
   "execution_count": 89,
   "metadata": {
    "collapsed": false
   },
   "outputs": [
    {
     "data": {
      "text/plain": [
       "   dx dx dx\n",
       "     2  3  4\n",
       "                           Type: DeRhamComplex(Integer,[x[1],x[2],x[3],x[4]])\n"
      ]
     },
     "execution_count": 89,
     "metadata": {},
     "output_type": "execute_result"
    }
   ],
   "source": [
    "-- https://en.wikipedia.org/wiki/Hodge_dual\n",
    "-- Four dimensions\n",
    "hodgeStar(eta,dx.1)$M"
   ]
  },
  {
   "cell_type": "code",
   "execution_count": 91,
   "metadata": {
    "collapsed": false
   },
   "outputs": [
    {
     "data": {
      "text/plain": [
       "   dx dx dx\n",
       "     1  3  4\n",
       "                           Type: DeRhamComplex(Integer,[x[1],x[2],x[3],x[4]])\n"
      ]
     },
     "execution_count": 91,
     "metadata": {},
     "output_type": "execute_result"
    }
   ],
   "source": [
    "hodgeStar(eta,dx.2)$M"
   ]
  },
  {
   "cell_type": "code",
   "execution_count": 92,
   "metadata": {
    "collapsed": false
   },
   "outputs": [
    {
     "data": {
      "text/plain": [
       "   - dx dx dx\n",
       "       1  2  4\n",
       "                           Type: DeRhamComplex(Integer,[x[1],x[2],x[3],x[4]])\n"
      ]
     },
     "execution_count": 92,
     "metadata": {},
     "output_type": "execute_result"
    }
   ],
   "source": [
    "hodgeStar(eta,dx.3)$M"
   ]
  },
  {
   "cell_type": "code",
   "execution_count": 93,
   "metadata": {
    "collapsed": false
   },
   "outputs": [
    {
     "data": {
      "text/plain": [
       "   dx dx dx\n",
       "     1  2  3\n",
       "                           Type: DeRhamComplex(Integer,[x[1],x[2],x[3],x[4]])\n"
      ]
     },
     "execution_count": 93,
     "metadata": {},
     "output_type": "execute_result"
    }
   ],
   "source": [
    "hodgeStar(eta,dx.4)$M"
   ]
  },
  {
   "cell_type": "code",
   "execution_count": 94,
   "metadata": {
    "collapsed": false
   },
   "outputs": [
    {
     "data": {
      "text/plain": [
       "   - dx dx\n",
       "       3  4\n",
       "                           Type: DeRhamComplex(Integer,[x[1],x[2],x[3],x[4]])\n"
      ]
     },
     "execution_count": 94,
     "metadata": {},
     "output_type": "execute_result"
    }
   ],
   "source": [
    "hodgeStar(eta,dx.1*dx.2)$M"
   ]
  },
  {
   "cell_type": "code",
   "execution_count": 95,
   "metadata": {
    "collapsed": false
   },
   "outputs": [
    {
     "data": {
      "text/plain": [
       "   dx dx\n",
       "     2  4\n",
       "                           Type: DeRhamComplex(Integer,[x[1],x[2],x[3],x[4]])\n"
      ]
     },
     "execution_count": 95,
     "metadata": {},
     "output_type": "execute_result"
    }
   ],
   "source": [
    "hodgeStar(eta,dx.1*dx.3)$M"
   ]
  },
  {
   "cell_type": "code",
   "execution_count": 96,
   "metadata": {
    "collapsed": false
   },
   "outputs": [
    {
     "data": {
      "text/plain": [
       "   - dx dx\n",
       "       2  3\n",
       "                           Type: DeRhamComplex(Integer,[x[1],x[2],x[3],x[4]])\n"
      ]
     },
     "execution_count": 96,
     "metadata": {},
     "output_type": "execute_result"
    }
   ],
   "source": [
    "hodgeStar(eta,dx.1*dx.4)$M "
   ]
  },
  {
   "cell_type": "code",
   "execution_count": 97,
   "metadata": {
    "collapsed": false
   },
   "outputs": [
    {
     "data": {
      "text/plain": [
       "   dx dx\n",
       "     1  4\n",
       "                           Type: DeRhamComplex(Integer,[x[1],x[2],x[3],x[4]])\n"
      ]
     },
     "execution_count": 97,
     "metadata": {},
     "output_type": "execute_result"
    }
   ],
   "source": [
    "hodgeStar(eta,dx.2*dx.3)$M"
   ]
  },
  {
   "cell_type": "code",
   "execution_count": 98,
   "metadata": {
    "collapsed": false
   },
   "outputs": [
    {
     "data": {
      "text/plain": [
       "   - dx dx\n",
       "       1  3\n",
       "                           Type: DeRhamComplex(Integer,[x[1],x[2],x[3],x[4]])\n"
      ]
     },
     "execution_count": 98,
     "metadata": {},
     "output_type": "execute_result"
    }
   ],
   "source": [
    "hodgeStar(eta,dx.2*dx.4)$M"
   ]
  },
  {
   "cell_type": "code",
   "execution_count": 99,
   "metadata": {
    "collapsed": false
   },
   "outputs": [
    {
     "data": {
      "text/plain": [
       "   dx dx\n",
       "     1  2\n",
       "                           Type: DeRhamComplex(Integer,[x[1],x[2],x[3],x[4]])\n"
      ]
     },
     "execution_count": 99,
     "metadata": {},
     "output_type": "execute_result"
    }
   ],
   "source": [
    "hodgeStar(eta,dx.3*dx.4)$M"
   ]
  },
  {
   "cell_type": "code",
   "execution_count": 100,
   "metadata": {
    "collapsed": false
   },
   "outputs": [
    {
     "data": {
      "text/plain": [
       "   - s  (x ,x ,x ,x )\n",
       "      ,1  1  2  3  4\n",
       "                           Type: DeRhamComplex(Integer,[x[1],x[2],x[3],x[4]])\n"
      ]
     },
     "execution_count": 100,
     "metadata": {},
     "output_type": "execute_result"
    }
   ],
   "source": [
    "-- codifferential: (delta=(-)^degree(x)*invHodgeStar(g, d hodgeStar(g,x))\n",
    "codifferential(g,s*dx.1)$M"
   ]
  },
  {
   "cell_type": "code",
   "execution_count": 101,
   "metadata": {
    "collapsed": false
   },
   "outputs": [
    {
     "data": {
      "text/plain": [
       "   - P  (x ,x ,x ,x )\n",
       "      ,2  1  2  3  4\n",
       "                           Type: DeRhamComplex(Integer,[x[1],x[2],x[3],x[4]])\n"
      ]
     },
     "execution_count": 101,
     "metadata": {},
     "output_type": "execute_result"
    }
   ],
   "source": [
    "codifferential(g,P*dx.2)$M"
   ]
  },
  {
   "cell_type": "code",
   "execution_count": 102,
   "metadata": {
    "collapsed": false
   },
   "outputs": [
    {
     "name": "stdout",
     "output_type": "stream",
     "text": []
    },
    {
     "data": {
      "text/plain": [
       "     (- P(x ,x ,x ,x )s  (x ,x ,x ,x ) - s(x ,x ,x ,x )P  (x ,x ,x ,x ))dx\n",
       "           1  2  3  4  ,1  1  2  3  4       1  2  3  4  ,1  1  2  3  4    2\n",
       "   + \n",
       "     (P(x ,x ,x ,x )s  (x ,x ,x ,x ) + s(x ,x ,x ,x )P  (x ,x ,x ,x ))dx\n",
       "         1  2  3  4  ,2  1  2  3  4       1  2  3  4  ,2  1  2  3  4    1\n",
       "                           Type: DeRhamComplex(Integer,[x[1],x[2],x[3],x[4]])\n"
      ]
     },
     "execution_count": 102,
     "metadata": {},
     "output_type": "execute_result"
    }
   ],
   "source": [
    "codifferential(g,s*P*dx.1*dx.2)$M"
   ]
  },
  {
   "cell_type": "code",
   "execution_count": 103,
   "metadata": {
    "collapsed": false
   },
   "outputs": [
    {
     "data": {
      "text/plain": [
       "   x P  (x ,x ,x ,x ) - x P  (x ,x ,x ,x )\n",
       "    2 ,1  1  2  3  4     1 ,2  1  2  3  4\n",
       "                           Type: DeRhamComplex(Integer,[x[1],x[2],x[3],x[4]])\n"
      ]
     },
     "execution_count": 103,
     "metadata": {},
     "output_type": "execute_result"
    }
   ],
   "source": [
    "codifferential(g,P*w)$M"
   ]
  },
  {
   "cell_type": "code",
   "execution_count": 104,
   "metadata": {
    "collapsed": false
   },
   "outputs": [
    {
     "data": {
      "text/plain": [
       "   x P  (x ,x ,x ,x ) - x P  (x ,x ,x ,x )\n",
       "    2 ,1  1  2  3  4     1 ,2  1  2  3  4\n",
       "                           Type: DeRhamComplex(Integer,[x[1],x[2],x[3],x[4]])\n"
      ]
     },
     "execution_count": 104,
     "metadata": {},
     "output_type": "execute_result"
    }
   ],
   "source": [
    "codifferential(g,P*w)$M"
   ]
  },
  {
   "cell_type": "code",
   "execution_count": 105,
   "metadata": {
    "collapsed": false
   },
   "outputs": [
    {
     "data": {
      "text/plain": [
       "   x P  (x ,x ,x ,x ) + x P  (x ,x ,x ,x )\n",
       "    2 ,1  1  2  3  4     1 ,2  1  2  3  4\n",
       "                           Type: DeRhamComplex(Integer,[x[1],x[2],x[3],x[4]])\n"
      ]
     },
     "execution_count": 105,
     "metadata": {},
     "output_type": "execute_result"
    }
   ],
   "source": [
    "codifferential(eta,P*w)$M"
   ]
  },
  {
   "cell_type": "code",
   "execution_count": 106,
   "metadata": {
    "collapsed": false
   },
   "outputs": [
    {
     "name": "stdout",
     "output_type": "stream",
     "text": []
    },
    {
     "data": {
      "text/plain": [
       "                                            2\n",
       "         2x s?c (x ,x ,x ,x )c (x ,x ,x ,x ) c (x ,x ,x ,x )c (x ,x ,x ,x )\n",
       "           2   1  1  2  3  4  2  1  2  3  4   3  1  2  3  4  4  1  2  3  4\n",
       "      *\n",
       "         abs(c (x ,x ,x ,x )c (x ,x ,x ,x )c (x ,x ,x ,x )c (x ,x ,x ,x ))\n",
       "              1  1  2  3  4  2  1  2  3  4  3  1  2  3  4  4  1  2  3  4\n",
       "      *\n",
       "         P  (x ,x ,x ,x )\n",
       "          ,1  1  2  3  4\n",
       "     + \n",
       "       -\n",
       "                                 2\n",
       "            2x s? c (x ,x ,x ,x ) c (x ,x ,x ,x )c (x ,x ,x ,x )c (x ,x ,x ,x )\n",
       "              1    1  1  2  3  4   2  1  2  3  4  3  1  2  3  4  4  1  2  3  4\n",
       "         *\n",
       "            abs(c (x ,x ,x ,x )c (x ,x ,x ,x )c (x ,x ,x ,x )c (x ,x ,x ,x ))\n",
       "                 1  1  2  3  4  2  1  2  3  4  3  1  2  3  4  4  1  2  3  4\n",
       "         *\n",
       "            P  (x ,x ,x ,x )\n",
       "             ,2  1  2  3  4\n",
       "     + \n",
       "                                           2\n",
       "         x s?c (x ,x ,x ,x )c (x ,x ,x ,x ) c (x ,x ,x ,x )P(x ,x ,x ,x )\n",
       "          2   1  1  2  3  4  2  1  2  3  4   3  1  2  3  4    1  2  3  4\n",
       "      *\n",
       "         abs(c (x ,x ,x ,x )c (x ,x ,x ,x )c (x ,x ,x ,x )c (x ,x ,x ,x ))\n",
       "              1  1  2  3  4  2  1  2  3  4  3  1  2  3  4  4  1  2  3  4\n",
       "      *\n",
       "         c   (x ,x ,x ,x )\n",
       "          4,1  1  2  3  4\n",
       "     + \n",
       "       -\n",
       "                                2\n",
       "            x s? c (x ,x ,x ,x ) c (x ,x ,x ,x )c (x ,x ,x ,x )P(x ,x ,x ,x )\n",
       "             1    1  1  2  3  4   2  1  2  3  4  3  1  2  3  4    1  2  3  4\n",
       "         *\n",
       "            abs(c (x ,x ,x ,x )c (x ,x ,x ,x )c (x ,x ,x ,x )c (x ,x ,x ,x ))\n",
       "                 1  1  2  3  4  2  1  2  3  4  3  1  2  3  4  4  1  2  3  4\n",
       "         *\n",
       "            c   (x ,x ,x ,x )\n",
       "             4,2  1  2  3  4\n",
       "     + \n",
       "                                           2\n",
       "         x s?c (x ,x ,x ,x )c (x ,x ,x ,x ) c (x ,x ,x ,x )P(x ,x ,x ,x )\n",
       "          2   1  1  2  3  4  2  1  2  3  4   4  1  2  3  4    1  2  3  4\n",
       "      *\n",
       "         abs(c (x ,x ,x ,x )c (x ,x ,x ,x )c (x ,x ,x ,x )c (x ,x ,x ,x ))\n",
       "              1  1  2  3  4  2  1  2  3  4  3  1  2  3  4  4  1  2  3  4\n",
       "      *\n",
       "         c   (x ,x ,x ,x )\n",
       "          3,1  1  2  3  4\n",
       "     + \n",
       "       -\n",
       "                                2\n",
       "            x s? c (x ,x ,x ,x ) c (x ,x ,x ,x )c (x ,x ,x ,x )P(x ,x ,x ,x )\n",
       "             1    1  1  2  3  4   2  1  2  3  4  4  1  2  3  4    1  2  3  4\n",
       "         *\n",
       "            abs(c (x ,x ,x ,x )c (x ,x ,x ,x )c (x ,x ,x ,x )c (x ,x ,x ,x ))\n",
       "                 1  1  2  3  4  2  1  2  3  4  3  1  2  3  4  4  1  2  3  4\n",
       "         *\n",
       "            c   (x ,x ,x ,x )\n",
       "             3,2  1  2  3  4\n",
       "     + \n",
       "         x s?c (x ,x ,x ,x )c (x ,x ,x ,x )c (x ,x ,x ,x )c (x ,x ,x ,x )\n",
       "          2   1  1  2  3  4  2  1  2  3  4  3  1  2  3  4  4  1  2  3  4\n",
       "      *\n",
       "         P(x ,x ,x ,x )\n",
       "            1  2  3  4\n",
       "      *\n",
       "         abs(c (x ,x ,x ,x )c (x ,x ,x ,x )c (x ,x ,x ,x )c (x ,x ,x ,x ))\n",
       "              1  1  2  3  4  2  1  2  3  4  3  1  2  3  4  4  1  2  3  4\n",
       "      *\n",
       "         c   (x ,x ,x ,x )\n",
       "          2,1  1  2  3  4\n",
       "     + \n",
       "                             2\n",
       "         x s? c (x ,x ,x ,x ) c (x ,x ,x ,x )c (x ,x ,x ,x )P(x ,x ,x ,x )\n",
       "          1    1  1  2  3  4   3  1  2  3  4  4  1  2  3  4    1  2  3  4\n",
       "      *\n",
       "         abs(c (x ,x ,x ,x )c (x ,x ,x ,x )c (x ,x ,x ,x )c (x ,x ,x ,x ))\n",
       "              1  1  2  3  4  2  1  2  3  4  3  1  2  3  4  4  1  2  3  4\n",
       "      *\n",
       "         c   (x ,x ,x ,x )\n",
       "          2,2  1  2  3  4\n",
       "     + \n",
       "       -\n",
       "                                2\n",
       "            x s? c (x ,x ,x ,x ) c (x ,x ,x ,x )c (x ,x ,x ,x )P(x ,x ,x ,x )\n",
       "             2    2  1  2  3  4   3  1  2  3  4  4  1  2  3  4    1  2  3  4\n",
       "         *\n",
       "            abs(c (x ,x ,x ,x )c (x ,x ,x ,x )c (x ,x ,x ,x )c (x ,x ,x ,x ))\n",
       "                 1  1  2  3  4  2  1  2  3  4  3  1  2  3  4  4  1  2  3  4\n",
       "         *\n",
       "            c   (x ,x ,x ,x )\n",
       "             1,1  1  2  3  4\n",
       "     + \n",
       "       -\n",
       "            x s?c (x ,x ,x ,x )c (x ,x ,x ,x )c (x ,x ,x ,x )c (x ,x ,x ,x )\n",
       "             1   1  1  2  3  4  2  1  2  3  4  3  1  2  3  4  4  1  2  3  4\n",
       "         *\n",
       "            P(x ,x ,x ,x )\n",
       "               1  2  3  4\n",
       "         *\n",
       "            abs(c (x ,x ,x ,x )c (x ,x ,x ,x )c (x ,x ,x ,x )c (x ,x ,x ,x ))\n",
       "                 1  1  2  3  4  2  1  2  3  4  3  1  2  3  4  4  1  2  3  4\n",
       "         *\n",
       "            c   (x ,x ,x ,x )\n",
       "             1,2  1  2  3  4\n",
       "  /\n",
       "                     3               3               2               2\n",
       "     2c (x ,x ,x ,x ) c (x ,x ,x ,x ) c (x ,x ,x ,x ) c (x ,x ,x ,x )\n",
       "       1  1  2  3  4   2  1  2  3  4   3  1  2  3  4   4  1  2  3  4\n",
       "                           Type: DeRhamComplex(Integer,[x[1],x[2],x[3],x[4]])\n"
      ]
     },
     "execution_count": 106,
     "metadata": {},
     "output_type": "execute_result"
    }
   ],
   "source": [
    "codifferential(h,P*w)$M"
   ]
  },
  {
   "cell_type": "code",
   "execution_count": 107,
   "metadata": {
    "collapsed": false
   },
   "outputs": [
    {
     "name": "stdout",
     "output_type": "stream",
     "text": []
    },
    {
     "data": {
      "text/plain": [
       "                                                2\n",
       "             2x s?c (x ,x ,x ,x )c (x ,x ,x ,x ) c (x ,x ,x ,x )c (x ,x ,x ,x )\n",
       "               2   1  1  2  3  4  2  1  2  3  4   3  1  2  3  4  4  1  2  3  4\n",
       "          *\n",
       "             abs(c (x ,x ,x ,x )c (x ,x ,x ,x )c (x ,x ,x ,x )c (x ,x ,x ,x ))\n",
       "                  1  1  2  3  4  2  1  2  3  4  3  1  2  3  4  4  1  2  3  4\n",
       "          *\n",
       "             P  (x ,x ,x ,x )\n",
       "              ,1  1  2  3  4\n",
       "         + \n",
       "           -\n",
       "                                     2\n",
       "                2x s? c (x ,x ,x ,x ) c (x ,x ,x ,x )c (x ,x ,x ,x )\n",
       "                  1    1  1  2  3  4   2  1  2  3  4  3  1  2  3  4\n",
       "             *\n",
       "                c (x ,x ,x ,x )\n",
       "                 4  1  2  3  4\n",
       "             *\n",
       "                abs\n",
       "                   c (x ,x ,x ,x )c (x ,x ,x ,x )c (x ,x ,x ,x )c (x ,x ,x ,x )\n",
       "                    1  1  2  3  4  2  1  2  3  4  3  1  2  3  4  4  1  2  3  4\n",
       "             *\n",
       "                P  (x ,x ,x ,x )\n",
       "                 ,2  1  2  3  4\n",
       "         + \n",
       "                                               2\n",
       "             x s?c (x ,x ,x ,x )c (x ,x ,x ,x ) c (x ,x ,x ,x )P(x ,x ,x ,x )\n",
       "              2   1  1  2  3  4  2  1  2  3  4   3  1  2  3  4    1  2  3  4\n",
       "          *\n",
       "             abs(c (x ,x ,x ,x )c (x ,x ,x ,x )c (x ,x ,x ,x )c (x ,x ,x ,x ))\n",
       "                  1  1  2  3  4  2  1  2  3  4  3  1  2  3  4  4  1  2  3  4\n",
       "          *\n",
       "             c   (x ,x ,x ,x )\n",
       "              4,1  1  2  3  4\n",
       "         + \n",
       "           -\n",
       "                                    2\n",
       "                x s? c (x ,x ,x ,x ) c (x ,x ,x ,x )c (x ,x ,x ,x )\n",
       "                 1    1  1  2  3  4   2  1  2  3  4  3  1  2  3  4\n",
       "             *\n",
       "                P(x ,x ,x ,x )\n",
       "                   1  2  3  4\n",
       "             *\n",
       "                abs\n",
       "                   c (x ,x ,x ,x )c (x ,x ,x ,x )c (x ,x ,x ,x )c (x ,x ,x ,x )\n",
       "                    1  1  2  3  4  2  1  2  3  4  3  1  2  3  4  4  1  2  3  4\n",
       "             *\n",
       "                c   (x ,x ,x ,x )\n",
       "                 4,2  1  2  3  4\n",
       "         + \n",
       "           -\n",
       "                                                  2\n",
       "                x s?c (x ,x ,x ,x )c (x ,x ,x ,x ) c (x ,x ,x ,x )P(x ,x ,x ,x )\n",
       "                 2   1  1  2  3  4  2  1  2  3  4   4  1  2  3  4    1  2  3  4\n",
       "             *\n",
       "                abs\n",
       "                   c (x ,x ,x ,x )c (x ,x ,x ,x )c (x ,x ,x ,x )c (x ,x ,x ,x )\n",
       "                    1  1  2  3  4  2  1  2  3  4  3  1  2  3  4  4  1  2  3  4\n",
       "             *\n",
       "                c   (x ,x ,x ,x )\n",
       "                 3,1  1  2  3  4\n",
       "         + \n",
       "                                 2\n",
       "             x s? c (x ,x ,x ,x ) c (x ,x ,x ,x )c (x ,x ,x ,x )P(x ,x ,x ,x )\n",
       "              1    1  1  2  3  4   2  1  2  3  4  4  1  2  3  4    1  2  3  4\n",
       "          *\n",
       "             abs(c (x ,x ,x ,x )c (x ,x ,x ,x )c (x ,x ,x ,x )c (x ,x ,x ,x ))\n",
       "                  1  1  2  3  4  2  1  2  3  4  3  1  2  3  4  4  1  2  3  4\n",
       "          *\n",
       "             c   (x ,x ,x ,x )\n",
       "              3,2  1  2  3  4\n",
       "         + \n",
       "             x s?c (x ,x ,x ,x )c (x ,x ,x ,x )c (x ,x ,x ,x )c (x ,x ,x ,x )\n",
       "              2   1  1  2  3  4  2  1  2  3  4  3  1  2  3  4  4  1  2  3  4\n",
       "          *\n",
       "             P(x ,x ,x ,x )\n",
       "                1  2  3  4\n",
       "          *\n",
       "             abs(c (x ,x ,x ,x )c (x ,x ,x ,x )c (x ,x ,x ,x )c (x ,x ,x ,x ))\n",
       "                  1  1  2  3  4  2  1  2  3  4  3  1  2  3  4  4  1  2  3  4\n",
       "          *\n",
       "             c   (x ,x ,x ,x )\n",
       "              2,1  1  2  3  4\n",
       "         + \n",
       "                                 2\n",
       "             x s? c (x ,x ,x ,x ) c (x ,x ,x ,x )c (x ,x ,x ,x )P(x ,x ,x ,x )\n",
       "              1    1  1  2  3  4   3  1  2  3  4  4  1  2  3  4    1  2  3  4\n",
       "          *\n",
       "             abs(c (x ,x ,x ,x )c (x ,x ,x ,x )c (x ,x ,x ,x )c (x ,x ,x ,x ))\n",
       "                  1  1  2  3  4  2  1  2  3  4  3  1  2  3  4  4  1  2  3  4\n",
       "          *\n",
       "             c   (x ,x ,x ,x )\n",
       "              2,2  1  2  3  4\n",
       "         + \n",
       "           -\n",
       "                                    2\n",
       "                x s? c (x ,x ,x ,x ) c (x ,x ,x ,x )c (x ,x ,x ,x )\n",
       "                 2    2  1  2  3  4   3  1  2  3  4  4  1  2  3  4\n",
       "             *\n",
       "                P(x ,x ,x ,x )\n",
       "                   1  2  3  4\n",
       "             *\n",
       "                abs\n",
       "                   c (x ,x ,x ,x )c (x ,x ,x ,x )c (x ,x ,x ,x )c (x ,x ,x ,x )\n",
       "                    1  1  2  3  4  2  1  2  3  4  3  1  2  3  4  4  1  2  3  4\n",
       "             *\n",
       "                c   (x ,x ,x ,x )\n",
       "                 1,1  1  2  3  4\n",
       "         + \n",
       "           -\n",
       "                x s?c (x ,x ,x ,x )c (x ,x ,x ,x )c (x ,x ,x ,x )c (x ,x ,x ,x )\n",
       "                 1   1  1  2  3  4  2  1  2  3  4  3  1  2  3  4  4  1  2  3  4\n",
       "             *\n",
       "                P(x ,x ,x ,x )\n",
       "                   1  2  3  4\n",
       "             *\n",
       "                abs\n",
       "                   c (x ,x ,x ,x )c (x ,x ,x ,x )c (x ,x ,x ,x )c (x ,x ,x ,x )\n",
       "                    1  1  2  3  4  2  1  2  3  4  3  1  2  3  4  4  1  2  3  4\n",
       "             *\n",
       "                c   (x ,x ,x ,x )\n",
       "                 1,2  1  2  3  4\n",
       "      /\n",
       "                         3               3               2               2\n",
       "         2c (x ,x ,x ,x ) c (x ,x ,x ,x ) c (x ,x ,x ,x ) c (x ,x ,x ,x )\n",
       "           1  1  2  3  4   2  1  2  3  4   3  1  2  3  4   4  1  2  3  4\n",
       "    *\n",
       "       dx\n",
       "         3\n",
       "   + \n",
       "             2x s?c (x ,x ,x ,x )c (x ,x ,x ,x )c (x ,x ,x ,x )c (x ,x ,x ,x )\n",
       "               1   1  1  2  3  4  2  1  2  3  4  3  1  2  3  4  4  1  2  3  4\n",
       "          *\n",
       "             abs(c (x ,x ,x ,x )c (x ,x ,x ,x )c (x ,x ,x ,x )c (x ,x ,x ,x ))\n",
       "                  1  1  2  3  4  2  1  2  3  4  3  1  2  3  4  4  1  2  3  4\n",
       "          *\n",
       "             P  (x ,x ,x ,x )\n",
       "              ,3  1  2  3  4\n",
       "         + \n",
       "             x s?c (x ,x ,x ,x )c (x ,x ,x ,x )c (x ,x ,x ,x )P(x ,x ,x ,x )\n",
       "              1   1  1  2  3  4  2  1  2  3  4  3  1  2  3  4    1  2  3  4\n",
       "          *\n",
       "             abs(c (x ,x ,x ,x )c (x ,x ,x ,x )c (x ,x ,x ,x )c (x ,x ,x ,x ))\n",
       "                  1  1  2  3  4  2  1  2  3  4  3  1  2  3  4  4  1  2  3  4\n",
       "          *\n",
       "             c   (x ,x ,x ,x )\n",
       "              4,3  1  2  3  4\n",
       "         + \n",
       "           -\n",
       "                x s?c (x ,x ,x ,x )c (x ,x ,x ,x )c (x ,x ,x ,x )P(x ,x ,x ,x )\n",
       "                 1   1  1  2  3  4  2  1  2  3  4  4  1  2  3  4    1  2  3  4\n",
       "             *\n",
       "                abs\n",
       "                   c (x ,x ,x ,x )c (x ,x ,x ,x )c (x ,x ,x ,x )c (x ,x ,x ,x )\n",
       "                    1  1  2  3  4  2  1  2  3  4  3  1  2  3  4  4  1  2  3  4\n",
       "             *\n",
       "                c   (x ,x ,x ,x )\n",
       "                 3,3  1  2  3  4\n",
       "         + \n",
       "           -\n",
       "                x s?c (x ,x ,x ,x )c (x ,x ,x ,x )c (x ,x ,x ,x )P(x ,x ,x ,x )\n",
       "                 1   1  1  2  3  4  3  1  2  3  4  4  1  2  3  4    1  2  3  4\n",
       "             *\n",
       "                abs\n",
       "                   c (x ,x ,x ,x )c (x ,x ,x ,x )c (x ,x ,x ,x )c (x ,x ,x ,x )\n",
       "                    1  1  2  3  4  2  1  2  3  4  3  1  2  3  4  4  1  2  3  4\n",
       "             *\n",
       "                c   (x ,x ,x ,x )\n",
       "                 2,3  1  2  3  4\n",
       "         + \n",
       "             x s?c (x ,x ,x ,x )c (x ,x ,x ,x )c (x ,x ,x ,x )P(x ,x ,x ,x )\n",
       "              1   2  1  2  3  4  3  1  2  3  4  4  1  2  3  4    1  2  3  4\n",
       "          *\n",
       "             abs(c (x ,x ,x ,x )c (x ,x ,x ,x )c (x ,x ,x ,x )c (x ,x ,x ,x ))\n",
       "                  1  1  2  3  4  2  1  2  3  4  3  1  2  3  4  4  1  2  3  4\n",
       "          *\n",
       "             c   (x ,x ,x ,x )\n",
       "              1,3  1  2  3  4\n",
       "      /\n",
       "                         2               2               3               2\n",
       "         2c (x ,x ,x ,x ) c (x ,x ,x ,x ) c (x ,x ,x ,x ) c (x ,x ,x ,x )\n",
       "           1  1  2  3  4   2  1  2  3  4   3  1  2  3  4   4  1  2  3  4\n",
       "    *\n",
       "       dx\n",
       "         2\n",
       "   + \n",
       "           -\n",
       "                2x s?c (x ,x ,x ,x )c (x ,x ,x ,x )c (x ,x ,x ,x )\n",
       "                  2   1  1  2  3  4  2  1  2  3  4  3  1  2  3  4\n",
       "             *\n",
       "                c (x ,x ,x ,x )\n",
       "                 4  1  2  3  4\n",
       "             *\n",
       "                abs\n",
       "                   c (x ,x ,x ,x )c (x ,x ,x ,x )c (x ,x ,x ,x )c (x ,x ,x ,x )\n",
       "                    1  1  2  3  4  2  1  2  3  4  3  1  2  3  4  4  1  2  3  4\n",
       "             *\n",
       "                P  (x ,x ,x ,x )\n",
       "                 ,3  1  2  3  4\n",
       "         + \n",
       "           -\n",
       "                x s?c (x ,x ,x ,x )c (x ,x ,x ,x )c (x ,x ,x ,x )P(x ,x ,x ,x )\n",
       "                 2   1  1  2  3  4  2  1  2  3  4  3  1  2  3  4    1  2  3  4\n",
       "             *\n",
       "                abs\n",
       "                   c (x ,x ,x ,x )c (x ,x ,x ,x )c (x ,x ,x ,x )c (x ,x ,x ,x )\n",
       "                    1  1  2  3  4  2  1  2  3  4  3  1  2  3  4  4  1  2  3  4\n",
       "             *\n",
       "                c   (x ,x ,x ,x )\n",
       "                 4,3  1  2  3  4\n",
       "         + \n",
       "             x s?c (x ,x ,x ,x )c (x ,x ,x ,x )c (x ,x ,x ,x )P(x ,x ,x ,x )\n",
       "              2   1  1  2  3  4  2  1  2  3  4  4  1  2  3  4    1  2  3  4\n",
       "          *\n",
       "             abs(c (x ,x ,x ,x )c (x ,x ,x ,x )c (x ,x ,x ,x )c (x ,x ,x ,x ))\n",
       "                  1  1  2  3  4  2  1  2  3  4  3  1  2  3  4  4  1  2  3  4\n",
       "          *\n",
       "             c   (x ,x ,x ,x )\n",
       "              3,3  1  2  3  4\n",
       "         + \n",
       "           -\n",
       "                x s?c (x ,x ,x ,x )c (x ,x ,x ,x )c (x ,x ,x ,x )P(x ,x ,x ,x )\n",
       "                 2   1  1  2  3  4  3  1  2  3  4  4  1  2  3  4    1  2  3  4\n",
       "             *\n",
       "                abs\n",
       "                   c (x ,x ,x ,x )c (x ,x ,x ,x )c (x ,x ,x ,x )c (x ,x ,x ,x )\n",
       "                    1  1  2  3  4  2  1  2  3  4  3  1  2  3  4  4  1  2  3  4\n",
       "             *\n",
       "                c   (x ,x ,x ,x )\n",
       "                 2,3  1  2  3  4\n",
       "         + \n",
       "             x s?c (x ,x ,x ,x )c (x ,x ,x ,x )c (x ,x ,x ,x )P(x ,x ,x ,x )\n",
       "              2   2  1  2  3  4  3  1  2  3  4  4  1  2  3  4    1  2  3  4\n",
       "          *\n",
       "             abs(c (x ,x ,x ,x )c (x ,x ,x ,x )c (x ,x ,x ,x )c (x ,x ,x ,x ))\n",
       "                  1  1  2  3  4  2  1  2  3  4  3  1  2  3  4  4  1  2  3  4\n",
       "          *\n",
       "             c   (x ,x ,x ,x )\n",
       "              1,3  1  2  3  4\n",
       "      /\n",
       "                         2               2               3               2\n",
       "         2c (x ,x ,x ,x ) c (x ,x ,x ,x ) c (x ,x ,x ,x ) c (x ,x ,x ,x )\n",
       "           1  1  2  3  4   2  1  2  3  4   3  1  2  3  4   4  1  2  3  4\n",
       "    *\n",
       "       dx\n",
       "         1\n",
       "                           Type: DeRhamComplex(Integer,[x[1],x[2],x[3],x[4]])\n"
      ]
     },
     "execution_count": 107,
     "metadata": {},
     "output_type": "execute_result"
    }
   ],
   "source": [
    "codifferential(h,P*w*dx.3)$M"
   ]
  },
  {
   "cell_type": "code",
   "execution_count": 108,
   "metadata": {
    "collapsed": false
   },
   "outputs": [
    {
     "data": {
      "text/plain": [
       "   2dx dx dx dx\n",
       "      1  2  3  4\n",
       "                           Type: DeRhamComplex(Integer,[x[1],x[2],x[3],x[4]])\n"
      ]
     },
     "execution_count": 108,
     "metadata": {},
     "output_type": "execute_result"
    }
   ],
   "source": [
    "-- the codifferential \\delta is (sort of) the adjoint to the differential.\n",
    "-- This doesn’t quite hold, but we can show that it does hold “up to homology”.\n",
    "-- We can calculate their difference times the canonical volume form:\n",
    "(dot(g,d w, dx.1*dx.2)$M - dot(g,w,codifferential(g,dx.1*dx.2)$M)$M)*dV(g)"
   ]
  },
  {
   "cell_type": "code",
   "execution_count": 109,
   "metadata": {
    "collapsed": false
   },
   "outputs": [
    {
     "data": {
      "text/plain": [
       "   - 2dx dx dx dx\n",
       "        1  2  3  4\n",
       "                           Type: DeRhamComplex(Integer,[x[1],x[2],x[3],x[4]])\n"
      ]
     },
     "execution_count": 109,
     "metadata": {},
     "output_type": "execute_result"
    }
   ],
   "source": [
    "(dot(eta,d w, dx.1*dx.2)$M - dot(eta,w,codifferential(eta,dx.1*dx.2)$M)$M)*dV(eta)"
   ]
  },
  {
   "cell_type": "code",
   "execution_count": 110,
   "metadata": {
    "collapsed": false
   },
   "outputs": [
    {
     "data": {
      "text/plain": [
       "   - 4dx dx dx dx\n",
       "        1  2  3  4\n",
       "                           Type: DeRhamComplex(Integer,[x[1],x[2],x[3],x[4]])\n"
      ]
     },
     "execution_count": 110,
     "metadata": {},
     "output_type": "execute_result"
    }
   ],
   "source": [
    "hodgeLaplacian(g,w*(** w))$M"
   ]
  },
  {
   "cell_type": "code",
   "execution_count": 111,
   "metadata": {
    "collapsed": false
   },
   "outputs": [
    {
     "data": {
      "text/plain": [
       "   4dx dx dx dx\n",
       "      1  2  3  4\n",
       "                           Type: DeRhamComplex(Integer,[x[1],x[2],x[3],x[4]])\n"
      ]
     },
     "execution_count": 111,
     "metadata": {},
     "output_type": "execute_result"
    }
   ],
   "source": [
    "hodgeLaplacian(eta,w*(hodgeStar(eta,w)$M))$M"
   ]
  },
  {
   "cell_type": "code",
   "execution_count": 112,
   "metadata": {
    "collapsed": false
   },
   "outputs": [
    {
     "name": "stdout",
     "output_type": "stream",
     "text": []
    },
    {
     "data": {
      "text/plain": [
       "              2                  3               2               2\n",
       "           2x  s? c (x ,x ,x ,x ) c (x ,x ,x ,x ) c (x ,x ,x ,x )\n",
       "             1     1  1  2  3  4   2  1  2  3  4   3  1  2  3  4\n",
       "        *\n",
       "                          2\n",
       "           c (x ,x ,x ,x )\n",
       "            4  1  2  3  4\n",
       "        *\n",
       "                                                                            2\n",
       "           abs(c (x ,x ,x ,x )c (x ,x ,x ,x )c (x ,x ,x ,x )c (x ,x ,x ,x ))\n",
       "                1  1  2  3  4  2  1  2  3  4  3  1  2  3  4  4  1  2  3  4\n",
       "        *\n",
       "           c     (x ,x ,x ,x )\n",
       "            2,1,1  1  2  3  4\n",
       "       + \n",
       "              2                  4                              2\n",
       "           2x  s? c (x ,x ,x ,x ) c (x ,x ,x ,x )c (x ,x ,x ,x )\n",
       "             1     1  1  2  3  4   2  1  2  3  4  3  1  2  3  4\n",
       "        *\n",
       "                          2\n",
       "           c (x ,x ,x ,x )\n",
       "            4  1  2  3  4\n",
       "        *\n",
       "                                                                            2\n",
       "           abs(c (x ,x ,x ,x )c (x ,x ,x ,x )c (x ,x ,x ,x )c (x ,x ,x ,x ))\n",
       "                1  1  2  3  4  2  1  2  3  4  3  1  2  3  4  4  1  2  3  4\n",
       "        *\n",
       "           c     (x ,x ,x ,x )\n",
       "            2,2,2  1  2  3  4\n",
       "       + \n",
       "              2                  4               2\n",
       "           2x  s? c (x ,x ,x ,x ) c (x ,x ,x ,x ) c (x ,x ,x ,x )\n",
       "             1     1  1  2  3  4   2  1  2  3  4   3  1  2  3  4\n",
       "        *\n",
       "                          2\n",
       "           c (x ,x ,x ,x )\n",
       "            4  1  2  3  4\n",
       "        *\n",
       "                                                                            2\n",
       "           abs(c (x ,x ,x ,x )c (x ,x ,x ,x )c (x ,x ,x ,x )c (x ,x ,x ,x ))\n",
       "                1  1  2  3  4  2  1  2  3  4  3  1  2  3  4  4  1  2  3  4\n",
       "        *\n",
       "           c     (x ,x ,x ,x )\n",
       "            2,3,3  1  2  3  4\n",
       "       + \n",
       "              2                  4               2               2\n",
       "           2x  s? c (x ,x ,x ,x ) c (x ,x ,x ,x ) c (x ,x ,x ,x )\n",
       "             1     1  1  2  3  4   2  1  2  3  4   3  1  2  3  4\n",
       "        *\n",
       "           c (x ,x ,x ,x )\n",
       "            4  1  2  3  4\n",
       "        *\n",
       "                                                                            2\n",
       "           abs(c (x ,x ,x ,x )c (x ,x ,x ,x )c (x ,x ,x ,x )c (x ,x ,x ,x ))\n",
       "                1  1  2  3  4  2  1  2  3  4  3  1  2  3  4  4  1  2  3  4\n",
       "        *\n",
       "           c     (x ,x ,x ,x )\n",
       "            2,4,4  1  2  3  4\n",
       "       + \n",
       "              2                                4               2               2\n",
       "           2x  s?c (x ,x ,x ,x )c (x ,x ,x ,x ) c (x ,x ,x ,x ) c (x ,x ,x ,x )\n",
       "             2    1  1  2  3  4  2  1  2  3  4   3  1  2  3  4   4  1  2  3  4\n",
       "        *\n",
       "                                                                            2\n",
       "           abs(c (x ,x ,x ,x )c (x ,x ,x ,x )c (x ,x ,x ,x )c (x ,x ,x ,x ))\n",
       "                1  1  2  3  4  2  1  2  3  4  3  1  2  3  4  4  1  2  3  4\n",
       "        *\n",
       "           c     (x ,x ,x ,x )\n",
       "            1,1,1  1  2  3  4\n",
       "       + \n",
       "              2                  2               3               2\n",
       "           2x  s? c (x ,x ,x ,x ) c (x ,x ,x ,x ) c (x ,x ,x ,x )\n",
       "             2     1  1  2  3  4   2  1  2  3  4   3  1  2  3  4\n",
       "        *\n",
       "                          2\n",
       "           c (x ,x ,x ,x )\n",
       "            4  1  2  3  4\n",
       "        *\n",
       "                                                                            2\n",
       "           abs(c (x ,x ,x ,x )c (x ,x ,x ,x )c (x ,x ,x ,x )c (x ,x ,x ,x ))\n",
       "                1  1  2  3  4  2  1  2  3  4  3  1  2  3  4  4  1  2  3  4\n",
       "        *\n",
       "           c     (x ,x ,x ,x )\n",
       "            1,2,2  1  2  3  4\n",
       "       + \n",
       "              2                  2               4\n",
       "           2x  s? c (x ,x ,x ,x ) c (x ,x ,x ,x ) c (x ,x ,x ,x )\n",
       "             2     1  1  2  3  4   2  1  2  3  4   3  1  2  3  4\n",
       "        *\n",
       "                          2\n",
       "           c (x ,x ,x ,x )\n",
       "            4  1  2  3  4\n",
       "        *\n",
       "                                                                            2\n",
       "           abs(c (x ,x ,x ,x )c (x ,x ,x ,x )c (x ,x ,x ,x )c (x ,x ,x ,x ))\n",
       "                1  1  2  3  4  2  1  2  3  4  3  1  2  3  4  4  1  2  3  4\n",
       "        *\n",
       "           c     (x ,x ,x ,x )\n",
       "            1,3,3  1  2  3  4\n",
       "       + \n",
       "              2                  2               4               2\n",
       "           2x  s? c (x ,x ,x ,x ) c (x ,x ,x ,x ) c (x ,x ,x ,x )\n",
       "             2     1  1  2  3  4   2  1  2  3  4   3  1  2  3  4\n",
       "        *\n",
       "           c (x ,x ,x ,x )\n",
       "            4  1  2  3  4\n",
       "        *\n",
       "                                                                            2\n",
       "           abs(c (x ,x ,x ,x )c (x ,x ,x ,x )c (x ,x ,x ,x )c (x ,x ,x ,x ))\n",
       "                1  1  2  3  4  2  1  2  3  4  3  1  2  3  4  4  1  2  3  4\n",
       "        *\n",
       "           c     (x ,x ,x ,x )\n",
       "            1,4,4  1  2  3  4\n",
       "       + \n",
       "                 2                  3               2               2\n",
       "               x  s? c (x ,x ,x ,x ) c (x ,x ,x ,x ) c (x ,x ,x ,x )\n",
       "                1     1  1  2  3  4   2  1  2  3  4   3  1  2  3  4\n",
       "            *\n",
       "               c (x ,x ,x ,x )\n",
       "                4  1  2  3  4\n",
       "            *\n",
       "                 abs\n",
       "                    c (x ,x ,x ,x )c (x ,x ,x ,x )c (x ,x ,x ,x )c (x ,x ,x ,x )\n",
       "                     1  1  2  3  4  2  1  2  3  4  3  1  2  3  4  4  1  2  3  4\n",
       "              ^\n",
       "                 2\n",
       "            *\n",
       "               c   (x ,x ,x ,x )\n",
       "                2,1  1  2  3  4\n",
       "           + \n",
       "                 2                                4               2\n",
       "               x  s?c (x ,x ,x ,x )c (x ,x ,x ,x ) c (x ,x ,x ,x )\n",
       "                2    1  1  2  3  4  2  1  2  3  4   3  1  2  3  4\n",
       "            *\n",
       "               c (x ,x ,x ,x )\n",
       "                4  1  2  3  4\n",
       "            *\n",
       "                 abs\n",
       "                    c (x ,x ,x ,x )c (x ,x ,x ,x )c (x ,x ,x ,x )c (x ,x ,x ,x )\n",
       "                     1  1  2  3  4  2  1  2  3  4  3  1  2  3  4  4  1  2  3  4\n",
       "              ^\n",
       "                 2\n",
       "            *\n",
       "               c   (x ,x ,x ,x )\n",
       "                1,1  1  2  3  4\n",
       "           + \n",
       "             -\n",
       "                                       3               3               2\n",
       "                  2x s? c (x ,x ,x ,x ) c (x ,x ,x ,x ) c (x ,x ,x ,x )\n",
       "                    1    1  1  2  3  4   2  1  2  3  4   3  1  2  3  4\n",
       "               *\n",
       "                  c (x ,x ,x ,x )\n",
       "                   4  1  2  3  4\n",
       "               *\n",
       "                    abs\n",
       "                         c (x ,x ,x ,x )c (x ,x ,x ,x )c (x ,x ,x ,x )\n",
       "                          1  1  2  3  4  2  1  2  3  4  3  1  2  3  4\n",
       "                      *\n",
       "                         c (x ,x ,x ,x )\n",
       "                          4  1  2  3  4\n",
       "                 ^\n",
       "                    2\n",
       "        *\n",
       "           c   (x ,x ,x ,x )\n",
       "            4,1  1  2  3  4\n",
       "       + \n",
       "                 2                  4                              2\n",
       "               x  s? c (x ,x ,x ,x ) c (x ,x ,x ,x )c (x ,x ,x ,x )\n",
       "                1     1  1  2  3  4   2  1  2  3  4  3  1  2  3  4\n",
       "            *\n",
       "               c (x ,x ,x ,x )\n",
       "                4  1  2  3  4\n",
       "            *\n",
       "                 abs\n",
       "                    c (x ,x ,x ,x )c (x ,x ,x ,x )c (x ,x ,x ,x )c (x ,x ,x ,x )\n",
       "                     1  1  2  3  4  2  1  2  3  4  3  1  2  3  4  4  1  2  3  4\n",
       "              ^\n",
       "                 2\n",
       "            *\n",
       "               c   (x ,x ,x ,x )\n",
       "                2,2  1  2  3  4\n",
       "           + \n",
       "                 2                  2               3               2\n",
       "               x  s? c (x ,x ,x ,x ) c (x ,x ,x ,x ) c (x ,x ,x ,x )\n",
       "                2     1  1  2  3  4   2  1  2  3  4   3  1  2  3  4\n",
       "            *\n",
       "               c (x ,x ,x ,x )\n",
       "                4  1  2  3  4\n",
       "            *\n",
       "                 abs\n",
       "                    c (x ,x ,x ,x )c (x ,x ,x ,x )c (x ,x ,x ,x )c (x ,x ,x ,x )\n",
       "                     1  1  2  3  4  2  1  2  3  4  3  1  2  3  4  4  1  2  3  4\n",
       "              ^\n",
       "                 2\n",
       "            *\n",
       "               c   (x ,x ,x ,x )\n",
       "                1,2  1  2  3  4\n",
       "           + \n",
       "             -\n",
       "                                       3               3               2\n",
       "                  2x s? c (x ,x ,x ,x ) c (x ,x ,x ,x ) c (x ,x ,x ,x )\n",
       "                    2    1  1  2  3  4   2  1  2  3  4   3  1  2  3  4\n",
       "               *\n",
       "                  c (x ,x ,x ,x )\n",
       "                   4  1  2  3  4\n",
       "               *\n",
       "                    abs\n",
       "                         c (x ,x ,x ,x )c (x ,x ,x ,x )c (x ,x ,x ,x )\n",
       "                          1  1  2  3  4  2  1  2  3  4  3  1  2  3  4\n",
       "                      *\n",
       "                         c (x ,x ,x ,x )\n",
       "                          4  1  2  3  4\n",
       "                 ^\n",
       "                    2\n",
       "        *\n",
       "           c   (x ,x ,x ,x )\n",
       "            4,2  1  2  3  4\n",
       "       + \n",
       "                 2                  4               2\n",
       "               x  s? c (x ,x ,x ,x ) c (x ,x ,x ,x ) c (x ,x ,x ,x )\n",
       "                1     1  1  2  3  4   2  1  2  3  4   3  1  2  3  4\n",
       "            *\n",
       "               c (x ,x ,x ,x )\n",
       "                4  1  2  3  4\n",
       "            *\n",
       "                 abs\n",
       "                    c (x ,x ,x ,x )c (x ,x ,x ,x )c (x ,x ,x ,x )c (x ,x ,x ,x )\n",
       "                     1  1  2  3  4  2  1  2  3  4  3  1  2  3  4  4  1  2  3  4\n",
       "              ^\n",
       "                 2\n",
       "            *\n",
       "               c   (x ,x ,x ,x )\n",
       "                2,3  1  2  3  4\n",
       "           + \n",
       "                 2                  2               4\n",
       "               x  s? c (x ,x ,x ,x ) c (x ,x ,x ,x ) c (x ,x ,x ,x )\n",
       "                2     1  1  2  3  4   2  1  2  3  4   3  1  2  3  4\n",
       "            *\n",
       "               c (x ,x ,x ,x )\n",
       "                4  1  2  3  4\n",
       "            *\n",
       "                 abs\n",
       "                    c (x ,x ,x ,x )c (x ,x ,x ,x )c (x ,x ,x ,x )c (x ,x ,x ,x )\n",
       "                     1  1  2  3  4  2  1  2  3  4  3  1  2  3  4  4  1  2  3  4\n",
       "              ^\n",
       "                 2\n",
       "            *\n",
       "               c   (x ,x ,x ,x )\n",
       "                1,3  1  2  3  4\n",
       "        *\n",
       "           c   (x ,x ,x ,x )\n",
       "            4,3  1  2  3  4\n",
       "       + \n",
       "             -\n",
       "                    2                  4               2               2\n",
       "                  x  s? c (x ,x ,x ,x ) c (x ,x ,x ,x ) c (x ,x ,x ,x )\n",
       "                   1     1  1  2  3  4   2  1  2  3  4   3  1  2  3  4\n",
       "               *\n",
       "                    abs\n",
       "                         c (x ,x ,x ,x )c (x ,x ,x ,x )c (x ,x ,x ,x )\n",
       "                          1  1  2  3  4  2  1  2  3  4  3  1  2  3  4\n",
       "                      *\n",
       "                         c (x ,x ,x ,x )\n",
       "                          4  1  2  3  4\n",
       "                 ^\n",
       "                    2\n",
       "               *\n",
       "                  c   (x ,x ,x ,x )\n",
       "                   2,4  1  2  3  4\n",
       "           + \n",
       "             -\n",
       "                    2                  2               4               2\n",
       "                  x  s? c (x ,x ,x ,x ) c (x ,x ,x ,x ) c (x ,x ,x ,x )\n",
       "                   2     1  1  2  3  4   2  1  2  3  4   3  1  2  3  4\n",
       "               *\n",
       "                    abs\n",
       "                         c (x ,x ,x ,x )c (x ,x ,x ,x )c (x ,x ,x ,x )\n",
       "                          1  1  2  3  4  2  1  2  3  4  3  1  2  3  4\n",
       "                      *\n",
       "                         c (x ,x ,x ,x )\n",
       "                          4  1  2  3  4\n",
       "                 ^\n",
       "                    2\n",
       "               *\n",
       "                  c   (x ,x ,x ,x )\n",
       "                   1,4  1  2  3  4\n",
       "        *\n",
       "           c   (x ,x ,x ,x )\n",
       "            4,4  1  2  3  4\n",
       "       + \n",
       "                 2                  3               2\n",
       "               x  s? c (x ,x ,x ,x ) c (x ,x ,x ,x ) c (x ,x ,x ,x )\n",
       "                1     1  1  2  3  4   2  1  2  3  4   3  1  2  3  4\n",
       "            *\n",
       "                              2\n",
       "               c (x ,x ,x ,x )\n",
       "                4  1  2  3  4\n",
       "            *\n",
       "                 abs\n",
       "                    c (x ,x ,x ,x )c (x ,x ,x ,x )c (x ,x ,x ,x )c (x ,x ,x ,x )\n",
       "                     1  1  2  3  4  2  1  2  3  4  3  1  2  3  4  4  1  2  3  4\n",
       "              ^\n",
       "                 2\n",
       "            *\n",
       "               c   (x ,x ,x ,x )\n",
       "                2,1  1  2  3  4\n",
       "           + \n",
       "                 2                                4\n",
       "               x  s?c (x ,x ,x ,x )c (x ,x ,x ,x ) c (x ,x ,x ,x )\n",
       "                2    1  1  2  3  4  2  1  2  3  4   3  1  2  3  4\n",
       "            *\n",
       "                              2\n",
       "               c (x ,x ,x ,x )\n",
       "                4  1  2  3  4\n",
       "            *\n",
       "                 abs\n",
       "                    c (x ,x ,x ,x )c (x ,x ,x ,x )c (x ,x ,x ,x )c (x ,x ,x ,x )\n",
       "                     1  1  2  3  4  2  1  2  3  4  3  1  2  3  4  4  1  2  3  4\n",
       "              ^\n",
       "                 2\n",
       "            *\n",
       "               c   (x ,x ,x ,x )\n",
       "                1,1  1  2  3  4\n",
       "           + \n",
       "             -\n",
       "                                       3               3\n",
       "                  2x s? c (x ,x ,x ,x ) c (x ,x ,x ,x ) c (x ,x ,x ,x )\n",
       "                    1    1  1  2  3  4   2  1  2  3  4   3  1  2  3  4\n",
       "               *\n",
       "                                 2\n",
       "                  c (x ,x ,x ,x )\n",
       "                   4  1  2  3  4\n",
       "               *\n",
       "                    abs\n",
       "                         c (x ,x ,x ,x )c (x ,x ,x ,x )c (x ,x ,x ,x )\n",
       "                          1  1  2  3  4  2  1  2  3  4  3  1  2  3  4\n",
       "                      *\n",
       "                         c (x ,x ,x ,x )\n",
       "                          4  1  2  3  4\n",
       "                 ^\n",
       "                    2\n",
       "        *\n",
       "           c   (x ,x ,x ,x )\n",
       "            3,1  1  2  3  4\n",
       "       + \n",
       "                 2                  4\n",
       "               x  s? c (x ,x ,x ,x ) c (x ,x ,x ,x )c (x ,x ,x ,x )\n",
       "                1     1  1  2  3  4   2  1  2  3  4  3  1  2  3  4\n",
       "            *\n",
       "                              2\n",
       "               c (x ,x ,x ,x )\n",
       "                4  1  2  3  4\n",
       "            *\n",
       "                 abs\n",
       "                    c (x ,x ,x ,x )c (x ,x ,x ,x )c (x ,x ,x ,x )c (x ,x ,x ,x )\n",
       "                     1  1  2  3  4  2  1  2  3  4  3  1  2  3  4  4  1  2  3  4\n",
       "              ^\n",
       "                 2\n",
       "            *\n",
       "               c   (x ,x ,x ,x )\n",
       "                2,2  1  2  3  4\n",
       "           + \n",
       "                 2                  2               3\n",
       "               x  s? c (x ,x ,x ,x ) c (x ,x ,x ,x ) c (x ,x ,x ,x )\n",
       "                2     1  1  2  3  4   2  1  2  3  4   3  1  2  3  4\n",
       "            *\n",
       "                              2\n",
       "               c (x ,x ,x ,x )\n",
       "                4  1  2  3  4\n",
       "            *\n",
       "                 abs\n",
       "                    c (x ,x ,x ,x )c (x ,x ,x ,x )c (x ,x ,x ,x )c (x ,x ,x ,x )\n",
       "                     1  1  2  3  4  2  1  2  3  4  3  1  2  3  4  4  1  2  3  4\n",
       "              ^\n",
       "                 2\n",
       "            *\n",
       "               c   (x ,x ,x ,x )\n",
       "                1,2  1  2  3  4\n",
       "           + \n",
       "             -\n",
       "                                       3               3\n",
       "                  2x s? c (x ,x ,x ,x ) c (x ,x ,x ,x ) c (x ,x ,x ,x )\n",
       "                    2    1  1  2  3  4   2  1  2  3  4   3  1  2  3  4\n",
       "               *\n",
       "                                 2\n",
       "                  c (x ,x ,x ,x )\n",
       "                   4  1  2  3  4\n",
       "               *\n",
       "                    abs\n",
       "                         c (x ,x ,x ,x )c (x ,x ,x ,x )c (x ,x ,x ,x )\n",
       "                          1  1  2  3  4  2  1  2  3  4  3  1  2  3  4\n",
       "                      *\n",
       "                         c (x ,x ,x ,x )\n",
       "                          4  1  2  3  4\n",
       "                 ^\n",
       "                    2\n",
       "        *\n",
       "           c   (x ,x ,x ,x )\n",
       "            3,2  1  2  3  4\n",
       "       + \n",
       "             -\n",
       "                    2                  4               2               2\n",
       "                  x  s? c (x ,x ,x ,x ) c (x ,x ,x ,x ) c (x ,x ,x ,x )\n",
       "                   1     1  1  2  3  4   2  1  2  3  4   4  1  2  3  4\n",
       "               *\n",
       "                    abs\n",
       "                         c (x ,x ,x ,x )c (x ,x ,x ,x )c (x ,x ,x ,x )\n",
       "                          1  1  2  3  4  2  1  2  3  4  3  1  2  3  4\n",
       "                      *\n",
       "                         c (x ,x ,x ,x )\n",
       "                          4  1  2  3  4\n",
       "                 ^\n",
       "                    2\n",
       "               *\n",
       "                  c   (x ,x ,x ,x )\n",
       "                   2,3  1  2  3  4\n",
       "           + \n",
       "             -\n",
       "                    2                  2               4               2\n",
       "                  x  s? c (x ,x ,x ,x ) c (x ,x ,x ,x ) c (x ,x ,x ,x )\n",
       "                   2     1  1  2  3  4   2  1  2  3  4   4  1  2  3  4\n",
       "               *\n",
       "                    abs\n",
       "                         c (x ,x ,x ,x )c (x ,x ,x ,x )c (x ,x ,x ,x )\n",
       "                          1  1  2  3  4  2  1  2  3  4  3  1  2  3  4\n",
       "                      *\n",
       "                         c (x ,x ,x ,x )\n",
       "                          4  1  2  3  4\n",
       "                 ^\n",
       "                    2\n",
       "               *\n",
       "                  c   (x ,x ,x ,x )\n",
       "                   1,3  1  2  3  4\n",
       "        *\n",
       "           c   (x ,x ,x ,x )\n",
       "            3,3  1  2  3  4\n",
       "       + \n",
       "                 2                  4               2\n",
       "               x  s? c (x ,x ,x ,x ) c (x ,x ,x ,x ) c (x ,x ,x ,x )\n",
       "                1     1  1  2  3  4   2  1  2  3  4   3  1  2  3  4\n",
       "            *\n",
       "               c (x ,x ,x ,x )\n",
       "                4  1  2  3  4\n",
       "            *\n",
       "                 abs\n",
       "                    c (x ,x ,x ,x )c (x ,x ,x ,x )c (x ,x ,x ,x )c (x ,x ,x ,x )\n",
       "                     1  1  2  3  4  2  1  2  3  4  3  1  2  3  4  4  1  2  3  4\n",
       "              ^\n",
       "                 2\n",
       "            *\n",
       "               c   (x ,x ,x ,x )\n",
       "                2,4  1  2  3  4\n",
       "           + \n",
       "                 2                  2               4\n",
       "               x  s? c (x ,x ,x ,x ) c (x ,x ,x ,x ) c (x ,x ,x ,x )\n",
       "                2     1  1  2  3  4   2  1  2  3  4   3  1  2  3  4\n",
       "            *\n",
       "               c (x ,x ,x ,x )\n",
       "                4  1  2  3  4\n",
       "            *\n",
       "                 abs\n",
       "                    c (x ,x ,x ,x )c (x ,x ,x ,x )c (x ,x ,x ,x )c (x ,x ,x ,x )\n",
       "                     1  1  2  3  4  2  1  2  3  4  3  1  2  3  4  4  1  2  3  4\n",
       "              ^\n",
       "                 2\n",
       "            *\n",
       "               c   (x ,x ,x ,x )\n",
       "                1,4  1  2  3  4\n",
       "        *\n",
       "           c   (x ,x ,x ,x )\n",
       "            3,4  1  2  3  4\n",
       "       + \n",
       "         -\n",
       "                 2                  3                              2\n",
       "              3x  s? c (x ,x ,x ,x ) c (x ,x ,x ,x )c (x ,x ,x ,x )\n",
       "                1     1  1  2  3  4   2  1  2  3  4  3  1  2  3  4\n",
       "           *\n",
       "                             2\n",
       "              c (x ,x ,x ,x )\n",
       "               4  1  2  3  4\n",
       "           *\n",
       "                                                                               2\n",
       "              abs(c (x ,x ,x ,x )c (x ,x ,x ,x )c (x ,x ,x ,x )c (x ,x ,x ,x ))\n",
       "                   1  1  2  3  4  2  1  2  3  4  3  1  2  3  4  4  1  2  3  4\n",
       "           *\n",
       "                               2\n",
       "              c   (x ,x ,x ,x )\n",
       "               2,1  1  2  3  4\n",
       "       + \n",
       "                   2                                3\n",
       "                 x  s?c (x ,x ,x ,x )c (x ,x ,x ,x )\n",
       "                  2    1  1  2  3  4  2  1  2  3  4\n",
       "               + \n",
       "                     2                  2               2\n",
       "                 - x  s? c (x ,x ,x ,x ) c (x ,x ,x ,x )\n",
       "                    1     1  1  2  3  4   2  1  2  3  4\n",
       "            *\n",
       "                              2               2\n",
       "               c (x ,x ,x ,x ) c (x ,x ,x ,x )\n",
       "                3  1  2  3  4   4  1  2  3  4\n",
       "            *\n",
       "                 abs\n",
       "                    c (x ,x ,x ,x )c (x ,x ,x ,x )c (x ,x ,x ,x )c (x ,x ,x ,x )\n",
       "                     1  1  2  3  4  2  1  2  3  4  3  1  2  3  4  4  1  2  3  4\n",
       "              ^\n",
       "                 2\n",
       "            *\n",
       "               c   (x ,x ,x ,x )\n",
       "                1,1  1  2  3  4\n",
       "           + \n",
       "                                    3               2               2\n",
       "               6x s? c (x ,x ,x ,x ) c (x ,x ,x ,x ) c (x ,x ,x ,x )\n",
       "                 1    1  1  2  3  4   2  1  2  3  4   3  1  2  3  4\n",
       "            *\n",
       "                              2\n",
       "               c (x ,x ,x ,x )\n",
       "                4  1  2  3  4\n",
       "            *\n",
       "                                                                              2\n",
       "             abs(c (x ,x ,x ,x )c (x ,x ,x ,x )c (x ,x ,x ,x )c (x ,x ,x ,x ))\n",
       "                  1  1  2  3  4  2  1  2  3  4  3  1  2  3  4  4  1  2  3  4\n",
       "        *\n",
       "           c   (x ,x ,x ,x )\n",
       "            2,1  1  2  3  4\n",
       "       + \n",
       "         -\n",
       "                 2                  4               2               2\n",
       "              5x  s? c (x ,x ,x ,x ) c (x ,x ,x ,x ) c (x ,x ,x ,x )\n",
       "                1     1  1  2  3  4   3  1  2  3  4   4  1  2  3  4\n",
       "           *\n",
       "                                                                               2\n",
       "              abs(c (x ,x ,x ,x )c (x ,x ,x ,x )c (x ,x ,x ,x )c (x ,x ,x ,x ))\n",
       "                   1  1  2  3  4  2  1  2  3  4  3  1  2  3  4  4  1  2  3  4\n",
       "           *\n",
       "                               2\n",
       "              c   (x ,x ,x ,x )\n",
       "               2,2  1  2  3  4\n",
       "       + \n",
       "                     2                  2               2\n",
       "                 - x  s? c (x ,x ,x ,x ) c (x ,x ,x ,x )\n",
       "                    2     1  1  2  3  4   2  1  2  3  4\n",
       "               + \n",
       "                   2                  3\n",
       "                 x  s? c (x ,x ,x ,x ) c (x ,x ,x ,x )\n",
       "                  1     1  1  2  3  4   2  1  2  3  4\n",
       "            *\n",
       "                              2               2\n",
       "               c (x ,x ,x ,x ) c (x ,x ,x ,x )\n",
       "                3  1  2  3  4   4  1  2  3  4\n",
       "            *\n",
       "                 abs\n",
       "                    c (x ,x ,x ,x )c (x ,x ,x ,x )c (x ,x ,x ,x )c (x ,x ,x ,x )\n",
       "                     1  1  2  3  4  2  1  2  3  4  3  1  2  3  4  4  1  2  3  4\n",
       "              ^\n",
       "                 2\n",
       "            *\n",
       "               c   (x ,x ,x ,x )\n",
       "                1,2  1  2  3  4\n",
       "           + \n",
       "                                    3               2               2\n",
       "               2x s? c (x ,x ,x ,x ) c (x ,x ,x ,x ) c (x ,x ,x ,x )\n",
       "                 2    1  1  2  3  4   2  1  2  3  4   3  1  2  3  4\n",
       "            *\n",
       "                              2\n",
       "               c (x ,x ,x ,x )\n",
       "                4  1  2  3  4\n",
       "            *\n",
       "                                                                              2\n",
       "             abs(c (x ,x ,x ,x )c (x ,x ,x ,x )c (x ,x ,x ,x )c (x ,x ,x ,x ))\n",
       "                  1  1  2  3  4  2  1  2  3  4  3  1  2  3  4  4  1  2  3  4\n",
       "        *\n",
       "           c   (x ,x ,x ,x )\n",
       "            2,2  1  2  3  4\n",
       "       + \n",
       "         -\n",
       "                 2                  4\n",
       "              3x  s? c (x ,x ,x ,x ) c (x ,x ,x ,x )c (x ,x ,x ,x )\n",
       "                1     1  1  2  3  4   2  1  2  3  4  3  1  2  3  4\n",
       "           *\n",
       "                             2\n",
       "              c (x ,x ,x ,x )\n",
       "               4  1  2  3  4\n",
       "           *\n",
       "                                                                               2\n",
       "              abs(c (x ,x ,x ,x )c (x ,x ,x ,x )c (x ,x ,x ,x )c (x ,x ,x ,x ))\n",
       "                   1  1  2  3  4  2  1  2  3  4  3  1  2  3  4  4  1  2  3  4\n",
       "           *\n",
       "                               2\n",
       "              c   (x ,x ,x ,x )\n",
       "               2,3  1  2  3  4\n",
       "       + \n",
       "               2                  2               3\n",
       "             x  s? c (x ,x ,x ,x ) c (x ,x ,x ,x )\n",
       "              2     1  1  2  3  4   2  1  2  3  4\n",
       "           + \n",
       "               2                  3               2\n",
       "             x  s? c (x ,x ,x ,x ) c (x ,x ,x ,x )\n",
       "              1     1  1  2  3  4   2  1  2  3  4\n",
       "        *\n",
       "                                         2\n",
       "           c (x ,x ,x ,x )c (x ,x ,x ,x )\n",
       "            3  1  2  3  4  4  1  2  3  4\n",
       "        *\n",
       "                                                                            2\n",
       "           abs(c (x ,x ,x ,x )c (x ,x ,x ,x )c (x ,x ,x ,x )c (x ,x ,x ,x ))\n",
       "                1  1  2  3  4  2  1  2  3  4  3  1  2  3  4  4  1  2  3  4\n",
       "        *\n",
       "           c   (x ,x ,x ,x )c   (x ,x ,x ,x )\n",
       "            1,3  1  2  3  4  2,3  1  2  3  4\n",
       "       + \n",
       "         -\n",
       "                 2                  4                              2\n",
       "              3x  s? c (x ,x ,x ,x ) c (x ,x ,x ,x )c (x ,x ,x ,x )\n",
       "                1     1  1  2  3  4   2  1  2  3  4  3  1  2  3  4\n",
       "           *\n",
       "              c (x ,x ,x ,x )\n",
       "               4  1  2  3  4\n",
       "           *\n",
       "                                                                               2\n",
       "              abs(c (x ,x ,x ,x )c (x ,x ,x ,x )c (x ,x ,x ,x )c (x ,x ,x ,x ))\n",
       "                   1  1  2  3  4  2  1  2  3  4  3  1  2  3  4  4  1  2  3  4\n",
       "           *\n",
       "                               2\n",
       "              c   (x ,x ,x ,x )\n",
       "               2,4  1  2  3  4\n",
       "       + \n",
       "               2                  2               3\n",
       "             x  s? c (x ,x ,x ,x ) c (x ,x ,x ,x )\n",
       "              2     1  1  2  3  4   2  1  2  3  4\n",
       "           + \n",
       "               2                  3               2\n",
       "             x  s? c (x ,x ,x ,x ) c (x ,x ,x ,x )\n",
       "              1     1  1  2  3  4   2  1  2  3  4\n",
       "        *\n",
       "                          2\n",
       "           c (x ,x ,x ,x ) c (x ,x ,x ,x )\n",
       "            3  1  2  3  4   4  1  2  3  4\n",
       "        *\n",
       "                                                                            2\n",
       "           abs(c (x ,x ,x ,x )c (x ,x ,x ,x )c (x ,x ,x ,x )c (x ,x ,x ,x ))\n",
       "                1  1  2  3  4  2  1  2  3  4  3  1  2  3  4  4  1  2  3  4\n",
       "        *\n",
       "           c   (x ,x ,x ,x )c   (x ,x ,x ,x )\n",
       "            1,4  1  2  3  4  2,4  1  2  3  4\n",
       "       + \n",
       "         -\n",
       "                 2                  4               2               2\n",
       "              5x  s? c (x ,x ,x ,x ) c (x ,x ,x ,x ) c (x ,x ,x ,x )\n",
       "                2     2  1  2  3  4   3  1  2  3  4   4  1  2  3  4\n",
       "           *\n",
       "                                                                               2\n",
       "              abs(c (x ,x ,x ,x )c (x ,x ,x ,x )c (x ,x ,x ,x )c (x ,x ,x ,x ))\n",
       "                   1  1  2  3  4  2  1  2  3  4  3  1  2  3  4  4  1  2  3  4\n",
       "           *\n",
       "                               2\n",
       "              c   (x ,x ,x ,x )\n",
       "               1,1  1  2  3  4\n",
       "       + \n",
       "                                2               3               2\n",
       "           2x s? c (x ,x ,x ,x ) c (x ,x ,x ,x ) c (x ,x ,x ,x )\n",
       "             1    1  1  2  3  4   2  1  2  3  4   3  1  2  3  4\n",
       "        *\n",
       "                          2\n",
       "           c (x ,x ,x ,x )\n",
       "            4  1  2  3  4\n",
       "        *\n",
       "                                                                            2\n",
       "           abs(c (x ,x ,x ,x )c (x ,x ,x ,x )c (x ,x ,x ,x )c (x ,x ,x ,x ))\n",
       "                1  1  2  3  4  2  1  2  3  4  3  1  2  3  4  4  1  2  3  4\n",
       "        *\n",
       "           c   (x ,x ,x ,x )\n",
       "            1,1  1  2  3  4\n",
       "       + \n",
       "         -\n",
       "                 2                                3               2\n",
       "              3x  s?c (x ,x ,x ,x )c (x ,x ,x ,x ) c (x ,x ,x ,x )\n",
       "                2    1  1  2  3  4  2  1  2  3  4   3  1  2  3  4\n",
       "           *\n",
       "                             2\n",
       "              c (x ,x ,x ,x )\n",
       "               4  1  2  3  4\n",
       "           *\n",
       "                                                                               2\n",
       "              abs(c (x ,x ,x ,x )c (x ,x ,x ,x )c (x ,x ,x ,x )c (x ,x ,x ,x ))\n",
       "                   1  1  2  3  4  2  1  2  3  4  3  1  2  3  4  4  1  2  3  4\n",
       "           *\n",
       "                               2\n",
       "              c   (x ,x ,x ,x )\n",
       "               1,2  1  2  3  4\n",
       "       + \n",
       "                                2               3               2\n",
       "           6x s? c (x ,x ,x ,x ) c (x ,x ,x ,x ) c (x ,x ,x ,x )\n",
       "             2    1  1  2  3  4   2  1  2  3  4   3  1  2  3  4\n",
       "        *\n",
       "                          2\n",
       "           c (x ,x ,x ,x )\n",
       "            4  1  2  3  4\n",
       "        *\n",
       "                                                                            2\n",
       "           abs(c (x ,x ,x ,x )c (x ,x ,x ,x )c (x ,x ,x ,x )c (x ,x ,x ,x ))\n",
       "                1  1  2  3  4  2  1  2  3  4  3  1  2  3  4  4  1  2  3  4\n",
       "        *\n",
       "           c   (x ,x ,x ,x )\n",
       "            1,2  1  2  3  4\n",
       "       + \n",
       "         -\n",
       "                 2                                4\n",
       "              3x  s?c (x ,x ,x ,x )c (x ,x ,x ,x ) c (x ,x ,x ,x )\n",
       "                2    1  1  2  3  4  2  1  2  3  4   3  1  2  3  4\n",
       "           *\n",
       "                             2\n",
       "              c (x ,x ,x ,x )\n",
       "               4  1  2  3  4\n",
       "           *\n",
       "                                                                               2\n",
       "              abs(c (x ,x ,x ,x )c (x ,x ,x ,x )c (x ,x ,x ,x )c (x ,x ,x ,x ))\n",
       "                   1  1  2  3  4  2  1  2  3  4  3  1  2  3  4  4  1  2  3  4\n",
       "           *\n",
       "                               2\n",
       "              c   (x ,x ,x ,x )\n",
       "               1,3  1  2  3  4\n",
       "       + \n",
       "         -\n",
       "                 2                                4               2\n",
       "              3x  s?c (x ,x ,x ,x )c (x ,x ,x ,x ) c (x ,x ,x ,x )\n",
       "                2    1  1  2  3  4  2  1  2  3  4   3  1  2  3  4\n",
       "           *\n",
       "              c (x ,x ,x ,x )\n",
       "               4  1  2  3  4\n",
       "           *\n",
       "                                                                               2\n",
       "              abs(c (x ,x ,x ,x )c (x ,x ,x ,x )c (x ,x ,x ,x )c (x ,x ,x ,x ))\n",
       "                   1  1  2  3  4  2  1  2  3  4  3  1  2  3  4  4  1  2  3  4\n",
       "           *\n",
       "                               2\n",
       "              c   (x ,x ,x ,x )\n",
       "               1,4  1  2  3  4\n",
       "       + \n",
       "         -\n",
       "                                 3               3               2\n",
       "              8s? c (x ,x ,x ,x ) c (x ,x ,x ,x ) c (x ,x ,x ,x )\n",
       "                   1  1  2  3  4   2  1  2  3  4   3  1  2  3  4\n",
       "           *\n",
       "                             2\n",
       "              c (x ,x ,x ,x )\n",
       "               4  1  2  3  4\n",
       "           *\n",
       "                                                                             2\n",
       "            abs(c (x ,x ,x ,x )c (x ,x ,x ,x )c (x ,x ,x ,x )c (x ,x ,x ,x ))\n",
       "                 1  1  2  3  4  2  1  2  3  4  3  1  2  3  4  4  1  2  3  4\n",
       "    /\n",
       "                         5               5               3               3\n",
       "         2c (x ,x ,x ,x ) c (x ,x ,x ,x ) c (x ,x ,x ,x ) c (x ,x ,x ,x )\n",
       "           1  1  2  3  4   2  1  2  3  4   3  1  2  3  4   4  1  2  3  4\n",
       "      *\n",
       "          +-----------------------------------------------------------------+\n",
       "          |abs(c (x ,x ,x ,x )c (x ,x ,x ,x )c (x ,x ,x ,x )c (x ,x ,x ,x ))\n",
       "         \\|     1  1  2  3  4  2  1  2  3  4  3  1  2  3  4  4  1  2  3  4\n",
       "  *\n",
       "     dx dx dx dx\n",
       "       1  2  3  4\n",
       "                           Type: DeRhamComplex(Integer,[x[1],x[2],x[3],x[4]])\n"
      ]
     },
     "execution_count": 112,
     "metadata": {},
     "output_type": "execute_result"
    }
   ],
   "source": [
    "hodgeLaplacian(h,w*(hodgeStar(h,w)$M))$M"
   ]
  },
  {
   "cell_type": "code",
   "execution_count": 113,
   "metadata": {
    "collapsed": false
   },
   "outputs": [
    {
     "name": "stdout",
     "output_type": "stream",
     "text": []
    },
    {
     "data": {
      "text/plain": [
       "                        2\n",
       "       b   (x ,x ,x ,x )  - 2b   (x ,x ,x ,x )b   (x ,x ,x ,x )\n",
       "        4,1  1  2  3  4       1,4  1  2  3  4  4,1  1  2  3  4\n",
       "     + \n",
       "                        2\n",
       "       b   (x ,x ,x ,x )  - 2b   (x ,x ,x ,x )b   (x ,x ,x ,x )\n",
       "        4,2  1  2  3  4       2,4  1  2  3  4  4,2  1  2  3  4\n",
       "     + \n",
       "                        2\n",
       "       b   (x ,x ,x ,x )  - 2b   (x ,x ,x ,x )b   (x ,x ,x ,x )\n",
       "        4,3  1  2  3  4       3,4  1  2  3  4  4,3  1  2  3  4\n",
       "     + \n",
       "                        2\n",
       "       b   (x ,x ,x ,x )  - 2b   (x ,x ,x ,x )b   (x ,x ,x ,x )\n",
       "        3,1  1  2  3  4       1,3  1  2  3  4  3,1  1  2  3  4\n",
       "     + \n",
       "                        2\n",
       "       b   (x ,x ,x ,x )  - 2b   (x ,x ,x ,x )b   (x ,x ,x ,x )\n",
       "        3,2  1  2  3  4       2,3  1  2  3  4  3,2  1  2  3  4\n",
       "     + \n",
       "                        2                    2\n",
       "       b   (x ,x ,x ,x )  + b   (x ,x ,x ,x )\n",
       "        3,4  1  2  3  4      2,1  1  2  3  4\n",
       "     + \n",
       "                                                                2\n",
       "       - 2b   (x ,x ,x ,x )b   (x ,x ,x ,x ) + b   (x ,x ,x ,x )\n",
       "           1,2  1  2  3  4  2,1  1  2  3  4     2,3  1  2  3  4\n",
       "     + \n",
       "                        2                    2                    2\n",
       "       b   (x ,x ,x ,x )  + b   (x ,x ,x ,x )  + b   (x ,x ,x ,x )\n",
       "        2,4  1  2  3  4      1,2  1  2  3  4      1,3  1  2  3  4\n",
       "     + \n",
       "                        2\n",
       "       b   (x ,x ,x ,x )\n",
       "        1,4  1  2  3  4\n",
       "  *\n",
       "     dx dx dx dx\n",
       "       1  2  3  4\n",
       "                           Type: DeRhamComplex(Integer,[x[1],x[2],x[3],x[4]])\n"
      ]
     },
     "execution_count": 113,
     "metadata": {},
     "output_type": "execute_result"
    }
   ],
   "source": [
    "d(vf*dx) *  (** d(vf*dx))"
   ]
  },
  {
   "cell_type": "code",
   "execution_count": 114,
   "metadata": {
    "collapsed": false
   },
   "outputs": [
    {
     "name": "stdout",
     "output_type": "stream",
     "text": []
    },
    {
     "data": {
      "text/plain": [
       "                        2\n",
       "       b   (x ,x ,x ,x )  - 2b   (x ,x ,x ,x )b   (x ,x ,x ,x )\n",
       "        4,1  1  2  3  4       1,4  1  2  3  4  4,1  1  2  3  4\n",
       "     + \n",
       "                        2\n",
       "       b   (x ,x ,x ,x )  - 2b   (x ,x ,x ,x )b   (x ,x ,x ,x )\n",
       "        4,2  1  2  3  4       2,4  1  2  3  4  4,2  1  2  3  4\n",
       "     + \n",
       "                        2\n",
       "       b   (x ,x ,x ,x )  - 2b   (x ,x ,x ,x )b   (x ,x ,x ,x )\n",
       "        4,3  1  2  3  4       3,4  1  2  3  4  4,3  1  2  3  4\n",
       "     + \n",
       "                        2\n",
       "       b   (x ,x ,x ,x )  - 2b   (x ,x ,x ,x )b   (x ,x ,x ,x )\n",
       "        3,1  1  2  3  4       1,3  1  2  3  4  3,1  1  2  3  4\n",
       "     + \n",
       "                        2\n",
       "       b   (x ,x ,x ,x )  - 2b   (x ,x ,x ,x )b   (x ,x ,x ,x )\n",
       "        3,2  1  2  3  4       2,3  1  2  3  4  3,2  1  2  3  4\n",
       "     + \n",
       "                        2                    2\n",
       "       b   (x ,x ,x ,x )  + b   (x ,x ,x ,x )\n",
       "        3,4  1  2  3  4      2,1  1  2  3  4\n",
       "     + \n",
       "                                                                2\n",
       "       - 2b   (x ,x ,x ,x )b   (x ,x ,x ,x ) + b   (x ,x ,x ,x )\n",
       "           1,2  1  2  3  4  2,1  1  2  3  4     2,3  1  2  3  4\n",
       "     + \n",
       "                        2                    2                    2\n",
       "       b   (x ,x ,x ,x )  + b   (x ,x ,x ,x )  + b   (x ,x ,x ,x )\n",
       "        2,4  1  2  3  4      1,2  1  2  3  4      1,3  1  2  3  4\n",
       "     + \n",
       "                        2\n",
       "       b   (x ,x ,x ,x )\n",
       "        1,4  1  2  3  4\n",
       "  *\n",
       "     dx dx dx dx\n",
       "       1  2  3  4\n",
       "                           Type: DeRhamComplex(Integer,[x[1],x[2],x[3],x[4]])\n"
      ]
     },
     "execution_count": 114,
     "metadata": {},
     "output_type": "execute_result"
    }
   ],
   "source": [
    "d(vf*dx) *  (** d(vf*dx))"
   ]
  },
  {
   "cell_type": "code",
   "execution_count": 115,
   "metadata": {
    "collapsed": false
   },
   "outputs": [
    {
     "name": "stdout",
     "output_type": "stream",
     "text": []
    },
    {
     "data": {
      "text/plain": [
       "                          2\n",
       "       - b   (x ,x ,x ,x )  + 2b   (x ,x ,x ,x )b   (x ,x ,x ,x )\n",
       "          4,1  1  2  3  4       1,4  1  2  3  4  4,1  1  2  3  4\n",
       "     + \n",
       "                        2\n",
       "       b   (x ,x ,x ,x )  - 2b   (x ,x ,x ,x )b   (x ,x ,x ,x )\n",
       "        4,2  1  2  3  4       2,4  1  2  3  4  4,2  1  2  3  4\n",
       "     + \n",
       "                        2\n",
       "       b   (x ,x ,x ,x )  - 2b   (x ,x ,x ,x )b   (x ,x ,x ,x )\n",
       "        4,3  1  2  3  4       3,4  1  2  3  4  4,3  1  2  3  4\n",
       "     + \n",
       "                          2\n",
       "       - b   (x ,x ,x ,x )  + 2b   (x ,x ,x ,x )b   (x ,x ,x ,x )\n",
       "          3,1  1  2  3  4       1,3  1  2  3  4  3,1  1  2  3  4\n",
       "     + \n",
       "                        2\n",
       "       b   (x ,x ,x ,x )  - 2b   (x ,x ,x ,x )b   (x ,x ,x ,x )\n",
       "        3,2  1  2  3  4       2,3  1  2  3  4  3,2  1  2  3  4\n",
       "     + \n",
       "                        2                    2\n",
       "       b   (x ,x ,x ,x )  - b   (x ,x ,x ,x )\n",
       "        3,4  1  2  3  4      2,1  1  2  3  4\n",
       "     + \n",
       "                                                              2\n",
       "       2b   (x ,x ,x ,x )b   (x ,x ,x ,x ) + b   (x ,x ,x ,x )\n",
       "         1,2  1  2  3  4  2,1  1  2  3  4     2,3  1  2  3  4\n",
       "     + \n",
       "                        2                    2                    2\n",
       "       b   (x ,x ,x ,x )  - b   (x ,x ,x ,x )  - b   (x ,x ,x ,x )\n",
       "        2,4  1  2  3  4      1,2  1  2  3  4      1,3  1  2  3  4\n",
       "     + \n",
       "                          2\n",
       "       - b   (x ,x ,x ,x )\n",
       "          1,4  1  2  3  4\n",
       "  *\n",
       "     dx dx dx dx\n",
       "       1  2  3  4\n",
       "                           Type: DeRhamComplex(Integer,[x[1],x[2],x[3],x[4]])\n"
      ]
     },
     "execution_count": 115,
     "metadata": {},
     "output_type": "execute_result"
    }
   ],
   "source": [
    "d(vf*dx)*hodgeStar(eta,d(vf*dx))$M"
   ]
  },
  {
   "cell_type": "code",
   "execution_count": 116,
   "metadata": {
    "collapsed": false
   },
   "outputs": [
    {
     "name": "stdout",
     "output_type": "stream",
     "text": [
      "Value = \"FriCAS 1.3.0 compiled at Don Sep 29 21:26:01 CEST 2016\"\n",
      "\n",
      "Value = \"SBCL\"\n",
      "\n",
      "Value = \"1.3.0\"\n",
      "\n"
     ]
    },
    {
     "data": {
      "text/plain": []
     },
     "execution_count": 116,
     "metadata": {},
     "output_type": "execute_result"
    }
   ],
   "source": [
    ")version\n",
    ")lisp (lisp-implementation-type)\n",
    ")lisp (lisp-implementation-version)"
   ]
  },
  {
   "cell_type": "code",
   "execution_count": null,
   "metadata": {
    "collapsed": true
   },
   "outputs": [],
   "source": []
  }
 ],
 "metadata": {
  "kernelspec": {
   "display_name": "FriCAS",
   "language": "spad",
   "name": "ifricas"
  },
  "language_info": {
   "codemirror_mode": "spad",
   "mimetype": "text/x-spad",
   "name": "SPAD",
   "pygments_lexer": "spad",
   "version": "1.2.6"
  }
 },
 "nbformat": 4,
 "nbformat_minor": 2
}
